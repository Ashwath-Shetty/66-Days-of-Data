{
 "cells": [
  {
   "cell_type": "code",
   "execution_count": 1,
   "id": "38fab334",
   "metadata": {
    "_cell_guid": "b1076dfc-b9ad-4769-8c92-a6c4dae69d19",
    "_uuid": "8f2839f25d086af736a60e9eeb907d3b93b6e0e5",
    "execution": {
     "iopub.execute_input": "2022-07-28T16:47:26.129754Z",
     "iopub.status.busy": "2022-07-28T16:47:26.129075Z",
     "iopub.status.idle": "2022-07-28T16:47:26.137860Z",
     "shell.execute_reply": "2022-07-28T16:47:26.138553Z",
     "shell.execute_reply.started": "2022-04-12T14:12:25.248687Z"
    },
    "papermill": {
     "duration": 0.094893,
     "end_time": "2022-07-28T16:47:26.138911",
     "exception": false,
     "start_time": "2022-07-28T16:47:26.044018",
     "status": "completed"
    },
    "tags": []
   },
   "outputs": [
    {
     "name": "stdout",
     "output_type": "stream",
     "text": [
      "/kaggle/input/sample-pdf/D8communications.pdf\n"
     ]
    }
   ],
   "source": [
    "# This Python 3 environment comes with many helpful analytics libraries installed\n",
    "# It is defined by the kaggle/python Docker image: https://github.com/kaggle/docker-python\n",
    "# For example, here's several helpful packages to load\n",
    "\n",
    "import numpy as np # linear algebra\n",
    "import pandas as pd # data processing, CSV file I/O (e.g. pd.read_csv)\n",
    "\n",
    "# Input data files are available in the read-only \"../input/\" directory\n",
    "# For example, running this (by clicking run or pressing Shift+Enter) will list all files under the input directory\n",
    "\n",
    "import os\n",
    "for dirname, _, filenames in os.walk('/kaggle/input'):\n",
    "    for filename in filenames:\n",
    "        print(os.path.join(dirname, filename))\n",
    "\n",
    "# You can write up to 20GB to the current directory (/kaggle/working/) that gets preserved as output when you create a version using \"Save & Run All\" \n",
    "# You can also write temporary files to /kaggle/temp/, but they won't be saved outside of the current session"
   ]
  },
  {
   "cell_type": "code",
   "execution_count": 2,
   "id": "c5bd3024",
   "metadata": {
    "execution": {
     "iopub.execute_input": "2022-07-28T16:47:26.280523Z",
     "iopub.status.busy": "2022-07-28T16:47:26.279647Z",
     "iopub.status.idle": "2022-07-28T16:47:26.285494Z",
     "shell.execute_reply": "2022-07-28T16:47:26.284828Z",
     "shell.execute_reply.started": "2022-07-28T16:46:47.626638Z"
    },
    "papermill": {
     "duration": 0.077843,
     "end_time": "2022-07-28T16:47:26.285677",
     "exception": false,
     "start_time": "2022-07-28T16:47:26.207834",
     "status": "completed"
    },
    "tags": []
   },
   "outputs": [],
   "source": [
    "# class node:\n",
    "#     def __init__(self,data,next_node=None):\n",
    "#         self.value=data\n",
    "#         self.next_n=next_node\n",
    "        \n",
    "# class linkl:\n",
    "#     def __init__(self,head):\n",
    "#         self.head=head\n",
    "    \n",
    "#     def insert(self,value):\n",
    "#         lnode=node(value)\n",
    "        \n",
    "#         if self.head is None:\n",
    "#             self.head=lnode\n",
    "#             return lnode\n",
    "#         current_node=lnode\n",
    "#         while True:\n",
    "#             if current_node.next_n is None:\n",
    "#                 current_node.next_n=node\n",
    "#                 break\n",
    "#             current_node=current_node.next_n\n",
    "            \n",
    "#     def printl(self):\n",
    "#         current_node=self.head\n",
    "#         while current_node is not None:\n",
    "#             print(current_node)\n",
    "                        \n",
    "# # ll=node(10)\n",
    "# # ll2=node(20)\n",
    "# # ll.next_n=ll2\n",
    "# ll1=linkl(50)\n",
    "# ll2=linkl(60)\n",
    "# ll1.printl()\n",
    "# print(ll1.head,\"------>\")\n",
    "# # print(ll2.head,\"------>\")"
   ]
  },
  {
   "cell_type": "markdown",
   "id": "c2345302",
   "metadata": {
    "papermill": {
     "duration": 0.068914,
     "end_time": "2022-07-28T16:47:26.426569",
     "exception": false,
     "start_time": "2022-07-28T16:47:26.357655",
     "status": "completed"
    },
    "tags": []
   },
   "source": [
    "# **Start Date: 12/3/2022**"
   ]
  },
  {
   "cell_type": "markdown",
   "id": "eba22075",
   "metadata": {
    "papermill": {
     "duration": 0.069248,
     "end_time": "2022-07-28T16:47:26.564407",
     "exception": false,
     "start_time": "2022-07-28T16:47:26.495159",
     "status": "completed"
    },
    "tags": []
   },
   "source": [
    "# **Day 1:** \n",
    "<br>dataquest -> stats -> probability-> estimating probability\n",
    "1. out come is nothing but o/p of an experiment\n",
    "ex: whatever u get after rolling a dice -> it can be any number\n",
    "2. event can have more than one outcome\n",
    "- e.x: The event that we'll get an odd number when we roll a six-sided die — this event includes the outcomes 1, 3, and 5.\n",
    "- an event can be 0 as well.\n",
    "- We always assign probabilities to events, not outcomes, even if the event includes only one outcome.\n",
    "- P(E) =1/total number of possible outcomes, P(E) probability of an event happening.\n",
    "- but above formula doesn't work always, especially when there are more than one outcome\n",
    "    - P(E)=number of successful outcomes/total number of possible outcomes\n",
    "- incase of a biased situation \n",
    "  - let's say a die has 6 - 3 times which is 1,6,3,5,6,6\n",
    "    we will consider 6 as 3 times not 1.\n",
    "    possible outcome-> 1,3,5,6,6,6\n",
    "    prob(6)=3/6\n",
    "    prob(3)=1/6\n",
    "    prob(2)=0/6\n",
    "    If we didn't treat each 6 differently and said it doesn't matter which side a 6 is on, \n",
    "    <br>we'd be forced to conclude the only possible outcomes are 1, 3, 5 and 6. We can definitely         <br>frame the problem like that, but the formula above won't work anymore — we see below P(6) <br>becomes the same as P(3), but, intuitively, P(6) should be higher than P(3) since the die has 6 on     <br>three of its sides:\n"
   ]
  },
  {
   "cell_type": "markdown",
   "id": "466bab3d",
   "metadata": {
    "papermill": {
     "duration": 0.068474,
     "end_time": "2022-07-28T16:47:26.700451",
     "exception": false,
     "start_time": "2022-07-28T16:47:26.631977",
     "status": "completed"
    },
    "tags": []
   },
   "source": [
    "Estimating Probabilities Conclusion\n",
    "- emperical/ experimental probability\n",
    "  - probability achieved by experimenting / by doing the same event multiple times.\n",
    "  - Generally, for any event E (like a coin landing heads up), we can find its empirical probability   \n",
    "     by using the following formula: \n",
    "     •P (E) =number of times event E happened/ number of times we repeated the experiment   \n",
    " - Generally, the empirical probability of an event (a coin landing heads up, getting a 5 when weroll a die) approaches the true probability value as the number of trials of the randomexperiment (a coin toss, the rolling of a die) increases without bound.\n",
    "- When we calculate the probability of an event under the assumption that the outcomes have equal chances of occurring, we say that we're calculating the **theoretical probability** of an event.\n",
    "   - P(E)=number of successful outcomes/total number of possible outcomes\n",
    "\n"
   ]
  },
  {
   "cell_type": "markdown",
   "id": "db44ee92",
   "metadata": {
    "papermill": {
     "duration": 0.069339,
     "end_time": "2022-07-28T16:47:26.838121",
     "exception": false,
     "start_time": "2022-07-28T16:47:26.768782",
     "status": "completed"
    },
    "tags": []
   },
   "source": [
    "# **Day 2**\n",
    "<br>dataquest-> stats -> intro to probability -> probability rules\n",
    "<br>In probability theory, the set of all possible outcomes is called a sample space. A sample space is often denoted by the capital Greek letter Ω (read \"omega\"). This is how we represent the sample space of a die roll:\n",
    "\n",
    "Ω = {1,2,3,4,5,6}\n",
    "-    The probability of any event ranges between 0 and 1: 0≤ P(Event) ≤1\n",
    "- To calculate P(A or B), we can also use the formula below, which is sometimes called the addition rule: P(A or B) = P(A) + P(B)\n",
    "  - Sample space ={ 1,2,3,4,5,6} \n",
    "  - P(2 or 5) = 2/6\n",
    "\n",
    "- P(C or D) = P(C) + P(D) - P(C and D)\n",
    "   - e.x : Sample_space ={2,4,6} + { 4,5,6} - {4/6}\n",
    "      P( even number or number greater than 3) = ( (3/6) + (3/6) )- (2/6) = 4/6\n",
    "- Events that don't intersect are called mutually exclusive.\n",
    "  - e.x: Getting a 5 (event one) and getting a 3 (event two) when we roll a regular six-sided die — it's  impossible to get both a 5 and 3.\n",
    "- Events that intersect are called mutually non-exclusive.\n",
    "  - Getting a number greater than 2 (event one) and getting an odd number (event two) when we roll a regular six-sided die — we could get a 5, which is both greater than 2 (event one) and odd (event two).\n",
    "- unioun -> A or B, intersection -> A and B"
   ]
  },
  {
   "cell_type": "markdown",
   "id": "f604a0c7",
   "metadata": {
    "papermill": {
     "duration": 0.069727,
     "end_time": "2022-07-28T16:47:26.976906",
     "exception": false,
     "start_time": "2022-07-28T16:47:26.907179",
     "status": "completed"
    },
    "tags": []
   },
   "source": [
    "# Day 3 and 4\n",
    "dataquest -> stats -> probabilities -> solving complex probabilities\n",
    "- This is the same result we got from our previous approach. In more general terms, the multiplication rule says that for two events E1 and E2, the probability that both event E1 and E2 happen can be found by multiplying the probability of E1 by the probability of E2:\n",
    "    - P(E1 ∩ E2) = P(E1) × P(E2)\n",
    "    - Events that don't influence each other's probability are called independent events. If H1 happens, P(H2) stays the same, so H1 and H2 are independent. The multiplication rule we learned only works for independent events.\n",
    "    "
   ]
  },
  {
   "cell_type": "markdown",
   "id": "3b24c1e1",
   "metadata": {
    "papermill": {
     "duration": 0.069775,
     "end_time": "2022-07-28T16:47:27.117303",
     "exception": false,
     "start_time": "2022-07-28T16:47:27.047528",
     "status": "completed"
    },
    "tags": []
   },
   "source": [
    "# Day 5\n",
    "- When we replace the cards after drawing, we say that we're sampling with replacement. When we don't put the cards back, we're sampling without replacement. \n"
   ]
  },
  {
   "cell_type": "markdown",
   "id": "ec87f322",
   "metadata": {
    "papermill": {
     "duration": 0.067413,
     "end_time": "2022-07-28T16:47:27.253873",
     "exception": false,
     "start_time": "2022-07-28T16:47:27.186460",
     "status": "completed"
    },
    "tags": []
   },
   "source": [
    "# Day6\n",
    "dataquest-> prob and stats -> probability fundamentals -> permutation and combinations\n",
    "Generally, if we have an experiment E1 (like flipping a coin) with a outcomes, followed by an experiment E2 (like rolling a die) with b outcomes, then the total number of outcomes for the composite experiment E1E2 can be found by multiplying a with b:\n",
    "\n",
    "Number of outcomes = a * b"
   ]
  },
  {
   "cell_type": "markdown",
   "id": "3a77a5e9",
   "metadata": {
    "papermill": {
     "duration": 0.066476,
     "end_time": "2022-07-28T16:47:27.387315",
     "exception": false,
     "start_time": "2022-07-28T16:47:27.320839",
     "status": "completed"
    },
    "tags": []
   },
   "source": [
    "# Day 7\n",
    "dataquest-> prob and stats -> probability fundamentals -> permutation and combinations <br>\n",
    "More generally, if we have an experiment E1 with a outcomes, followed by an experiment E2 with b outcomes, followed by an experiment En with z outcomes, the total number of outcomes for the composite experiment E1E2 ... En can be found by multiplying their individual outcomes:\n",
    "\n",
    "Number of outcomes= a * b * … * z"
   ]
  },
  {
   "cell_type": "markdown",
   "id": "0bb172c3",
   "metadata": {
    "papermill": {
     "duration": 0.068999,
     "end_time": "2022-07-28T16:47:27.525699",
     "exception": false,
     "start_time": "2022-07-28T16:47:27.456700",
     "status": "completed"
    },
    "tags": []
   },
   "source": [
    "# Day 8\n",
    "dataquest-> prob and stats -> probability fundamentals -> permutation and combinations <br>\n",
    "permutations= n*(n-1)*(n-2)*....*2*1\n"
   ]
  },
  {
   "cell_type": "markdown",
   "id": "19d3e1af",
   "metadata": {
    "papermill": {
     "duration": 0.066557,
     "end_time": "2022-07-28T16:47:27.659052",
     "exception": false,
     "start_time": "2022-07-28T16:47:27.592495",
     "status": "completed"
    },
    "tags": []
   },
   "source": [
    "# Day 9\n",
    "dataquest-> prob and stats -> probability fundamentals -> permutation and combinations\n",
    "- in permutation order of the individual element in the arranement matters.\n",
    "   - for e.x: 9821 is different than 9281\n",
    "   - Permutations =n!  --> sample without replacement-> we are not putting back the sampled data.\n",
    "   - On the last screen, we learned to use the formula below to calculate permutations when we're sampling without replacement and taking only k objects from a group of n objects:\n",
    "   npk=n!/(n-k)!"
   ]
  },
  {
   "cell_type": "markdown",
   "id": "61671bf4",
   "metadata": {
    "papermill": {
     "duration": 0.067129,
     "end_time": "2022-07-28T16:47:27.794765",
     "exception": false,
     "start_time": "2022-07-28T16:47:27.727636",
     "status": "completed"
    },
    "tags": []
   },
   "source": [
    "# Day 10\n",
    "dataquest-> prob and stats -> probability fundamentals -> permutation and combinations\n",
    "- More generally, if the order of the elements in an arrangement doesn't matter, the arrangement is called a combination.\n",
    "- e.x: cards in a deck \n",
    "- nCk = n! / ((n-k)!*k!)"
   ]
  },
  {
   "cell_type": "markdown",
   "id": "94bf83af",
   "metadata": {
    "papermill": {
     "duration": 0.066745,
     "end_time": "2022-07-28T16:47:27.930164",
     "exception": false,
     "start_time": "2022-07-28T16:47:27.863419",
     "status": "completed"
    },
    "tags": []
   },
   "source": [
    "# Day 11\n",
    "dataquest-> prob and stats -> probability fundamentals -> permutation and combinations\n",
    "- solved 1 probability problem.\n"
   ]
  },
  {
   "cell_type": "markdown",
   "id": "ca2276fd",
   "metadata": {
    "papermill": {
     "duration": 0.067476,
     "end_time": "2022-07-28T16:47:28.064681",
     "exception": false,
     "start_time": "2022-07-28T16:47:27.997205",
     "status": "completed"
    },
    "tags": []
   },
   "source": [
    "# Day 12\n",
    "dataquest-> prob and stats -> probability fundamentals -> permutation and combinations\n",
    "- finished probability and permutations by revising them.\n",
    "- If we have an experiment E1 (like flipping a coin) with a outcomes, followed by an experiment E2(like rolling a die) with b outcomes, then the total number of outcomes for the compositeexperiment E1E2 can be found by multiplying a with b (this is known as the rule of product):\n",
    "  - number of outcomes = a*b\n",
    "- If we have an experiment E1 with a outcomes, followed by an experiment E2 with b outcomes,followed by an experiment En with z outcomes, the total number of outcomes for the compositeexperiment E1E2 ... En can be found by multiplying their individual outcomes:\n",
    "   - number of outcomes = a*b* ... *z\n",
    "- There are two kinds of arrangements:\n",
    "   - •Arrangements where the order matters, which we call permutations.\n",
    "   - •Arrangements where the order doesn't matter, which we call combination\n",
    "- To find the number of permutations when we're sampling without replacement, we can use theformula:\n",
    "  - permutation = n!\n",
    "- To find the number of permutations when we're sampling without replacement and taking only kobjects from a group of n objects, we can use the formula:\n",
    "  - nPk = n!/(n-k)!\n",
    "- To find the number of combinations when we're sampling without replacement and taking only kobjects from a group of n objects, we can use the formula\n",
    "  - nCk = n! / ((n-k)!*k!)"
   ]
  },
  {
   "cell_type": "markdown",
   "id": "4c278f18",
   "metadata": {
    "papermill": {
     "duration": 0.069841,
     "end_time": "2022-07-28T16:47:28.203520",
     "exception": false,
     "start_time": "2022-07-28T16:47:28.133679",
     "status": "completed"
    },
    "tags": []
   },
   "source": [
    "# Day 13\n",
    "dataquest-> prob and stats -> probability fundamentals -> conditional probabilities\n",
    "- first 2 slides -> mainly the recap of old chapter(above one).\n"
   ]
  },
  {
   "cell_type": "markdown",
   "id": "0cc0430a",
   "metadata": {
    "papermill": {
     "duration": 0.067251,
     "end_time": "2022-07-28T16:47:28.339054",
     "exception": false,
     "start_time": "2022-07-28T16:47:28.271803",
     "status": "completed"
    },
    "tags": []
   },
   "source": [
    "# Day 14\n",
    "dataquest-> prob and stats -> probability fundamentals -> conditional probabilities\n",
    "<br>slide 4 completed\n",
    "<br>conditional probabilities\n",
    "- probabilities with condition\n",
    "- P(5)=What is the probability of getting a 5? -> normal probability\n",
    "- P(5 | odd) =What is the probability of getting a 5 given the die showed an odd number? -> conditional prob.\n",
    "\n"
   ]
  },
  {
   "cell_type": "markdown",
   "id": "1986ba38",
   "metadata": {
    "papermill": {
     "duration": 0.066661,
     "end_time": "2022-07-28T16:47:28.472942",
     "exception": false,
     "start_time": "2022-07-28T16:47:28.406281",
     "status": "completed"
    },
    "tags": []
   },
   "source": [
    "# Day 15\n",
    "dataquest-> prob and stats -> probability fundamentals -> conditional probabilities\n",
    "- on slide 5 not done yet.\n",
    "\n",
    "Say we roll a fair six-sided die and want to find the probability of getting an odd number, given the die showed a number greater than 1 after landing. Using probability notation, we want to find P(A|B) where:\n",
    "\n",
    "- A is the event that the number is odd: A = {1, 3, 5}\n",
    "- B is the event that the number is greater than 1: B = {2, 3, 4, 5, 6}\n",
    "- P(A/B)=number of succesfull outcomes / total number of outcomes.\n"
   ]
  },
  {
   "cell_type": "markdown",
   "id": "9f764a33",
   "metadata": {
    "papermill": {
     "duration": 0.069492,
     "end_time": "2022-07-28T16:47:28.612586",
     "exception": false,
     "start_time": "2022-07-28T16:47:28.543094",
     "status": "completed"
    },
    "tags": []
   },
   "source": [
    "# Day 16 and 17\n",
    "dataquest-> prob and stats -> probability fundamentals -> conditional probabilities\n",
    "\n",
    "on slide 6 not done yet."
   ]
  },
  {
   "cell_type": "markdown",
   "id": "b68687a7",
   "metadata": {
    "papermill": {
     "duration": 0.066627,
     "end_time": "2022-07-28T16:47:28.748403",
     "exception": false,
     "start_time": "2022-07-28T16:47:28.681776",
     "status": "completed"
    },
    "tags": []
   },
   "source": [
    "# Day 18\n",
    "dataquest-> prob and stats -> probability fundamentals -> conditional probabilities\n",
    "<br>slide 5 code half done"
   ]
  },
  {
   "cell_type": "markdown",
   "id": "bbfdb5d6",
   "metadata": {
    "papermill": {
     "duration": 0.069303,
     "end_time": "2022-07-28T16:47:28.887090",
     "exception": false,
     "start_time": "2022-07-28T16:47:28.817787",
     "status": "completed"
    },
    "tags": []
   },
   "source": [
    "# Day 19\n",
    "- The number of elements in a set is called the cardinal of the set. \n",
    "  Ω is a set, and the cardinal of \n",
    "   Ω = { 2,3,4,5,6}\n",
    "   cardinal(Ω)=5\n",
    "- P(A | B) = card(A ∩ B) / card(B)\n",
    "- Say we roll a fair six-sided die and want to find the probability of getting an odd number, given the die showed a number greater than 1 after landing. Using probability notation, we want to find P(A|B) where:\n",
    "    - A is the event that the number is odd: A = {1, 3, 5}\n",
    "     - B is the event that the number is greater than 1: B = {2, 3, 4, 5, 6}\n",
    "     - total number of possible outcomes = card({2,3,4,5,6}) =5\n",
    "     - number of successful outcomes = card({3,5})= 2\n",
    "- P(A | B) = card(A ∩ B) / card(B), we can also get the same result using P(A | B) = prob(A ∩ B) / prob(B)\n",
    "\n",
    "     "
   ]
  },
  {
   "cell_type": "markdown",
   "id": "60f11196",
   "metadata": {
    "papermill": {
     "duration": 0.067017,
     "end_time": "2022-07-28T16:47:29.022461",
     "exception": false,
     "start_time": "2022-07-28T16:47:28.955444",
     "status": "completed"
    },
    "tags": []
   },
   "source": [
    "# Day 20\n",
    "dataquest-> prob and stats -> probability fundamentals -> conditional probabilities intermediate\n",
    "<br> slide 1 and 2\n",
    "- P( A | B ) ≠ P(A ∩ B), but rather:\n",
    "   - P(A | B) = P(A ∩ B) / P(B)\n",
    "   - P(A ∩ B) = P(A | B) ⋅ P(B)\n",
    "- Given that a customer bought a laptop, they will or will not also buy a mouse. This means we can be certain that either event (M|L) or (M^C|L) will happen:\n",
    "     - P(M | L) + P(M^C | L) = 1\n",
    "\n"
   ]
  },
  {
   "cell_type": "markdown",
   "id": "42e894dd",
   "metadata": {
    "papermill": {
     "duration": 0.066736,
     "end_time": "2022-07-28T16:47:29.157903",
     "exception": false,
     "start_time": "2022-07-28T16:47:29.091167",
     "status": "completed"
    },
    "tags": []
   },
   "source": [
    "# Day 21\n",
    "dataquest-> prob and stats -> probability fundamentals -> conditional probabilities intermediate\n",
    "slide 1 and 2\n",
    "- P(A ∩ B) = P(B ∩ A)\n",
    "- multiplication rule of probability\n",
    "  -  P(A ∩ B) = P(B) ⋅ P(A | B) \n",
    "  - P(A ∩ B) = P(A) ⋅ P(B | A)\n",
    "- if P(A) and P(B) are statistically independent then \n",
    "  - P(A ∩ B) = P(A) ⋅ P(B)\n",
    "\n"
   ]
  },
  {
   "cell_type": "markdown",
   "id": "4c034999",
   "metadata": {
    "papermill": {
     "duration": 0.068183,
     "end_time": "2022-07-28T16:47:29.293056",
     "exception": false,
     "start_time": "2022-07-28T16:47:29.224873",
     "status": "completed"
    },
    "tags": []
   },
   "source": [
    "# Day 22\n",
    "dataquest-> prob and stats -> probability fundamentals -> conditional probabilities intermediate \n",
    "<br>slide 6\n",
    "- If events events A and B are dependent, it means the occurrence of event A changes the probability of event B and vice versa.\n",
    "   - P(A) ≠ P(A | B)\n",
    "   - P(B) ≠ P(B | A)\n",
    "   - P(A ∩ B) ≠ P(A) ⋅ P(B)\n",
    "   - formula will become P(A ∩ B) ≠ P(A) ⋅ P(B/A)\n",
    "   "
   ]
  },
  {
   "cell_type": "markdown",
   "id": "5d6cd0e0",
   "metadata": {
    "papermill": {
     "duration": 0.067026,
     "end_time": "2022-07-28T16:47:29.428208",
     "exception": false,
     "start_time": "2022-07-28T16:47:29.361182",
     "status": "completed"
    },
    "tags": []
   },
   "source": [
    "# Day 23\n",
    "dataquest-> prob and stats -> probability fundamentals -> conditional probabilities intermediate\n",
    "<br>slide 7 to last\n",
    "- To find whether three events — A, B, C — are independent or not, below conditions must hold true -\n",
    "  - P(A ∩ B) ≠ P(A) ⋅ P(B)\n",
    "  - P(A ∩ C) ≠ P(A) ⋅ P(C)\n",
    "  - P(B ∩ C) ≠ P(B) ⋅ P(C)\n",
    "  - P(A ∩ B ∩ C) ≠ P(A) ⋅ P(B) . P(C)\n",
    "- multiplication rule for conditional probability or dependent events\n",
    " - P(A ∩ B ∩ C) = P(A) ⋅ P(B | A) ⋅ P(C | A ∩ B)\n",
    " \n",
    "\n"
   ]
  },
  {
   "cell_type": "markdown",
   "id": "770db59d",
   "metadata": {
    "papermill": {
     "duration": 0.068909,
     "end_time": "2022-07-28T16:47:29.566183",
     "exception": false,
     "start_time": "2022-07-28T16:47:29.497274",
     "status": "completed"
    },
    "tags": []
   },
   "source": [
    "# Day 24\n",
    "dataquest-> prob and stats -> probability fundamentals -> bayes theorem\n",
    "<br>slide 1\n",
    "- independent -> one event is dependent on other\n",
    "   - P(A ∩ B) = P(A) ⋅ P(B/A)\n",
    "- independent -> one event is not dependent on other.\n",
    "   - P(A ∩ B) = P(A) ⋅ P(B)\n",
    "- mutually exclusive -> both the events cannot happen at the same time.\n",
    "   - P(A ∩ B) = 0\n",
    "\n"
   ]
  },
  {
   "cell_type": "markdown",
   "id": "5a9b25e0",
   "metadata": {
    "papermill": {
     "duration": 0.068473,
     "end_time": "2022-07-28T16:47:29.702300",
     "exception": false,
     "start_time": "2022-07-28T16:47:29.633827",
     "status": "completed"
    },
    "tags": []
   },
   "source": [
    "# Day 25\n",
    "dataquest-> prob and stats -> probability fundamentals -> bayes theorem\n",
    "<br>slide 2\n",
    "- If two events are exhaustive, it means they make up the whole sample space Ω\n",
    "  -  P(A) = P(A ∩ B) + P(A ∩ B^c)\n",
    "     P(A) = (P(B) * P(A/B)) +  (P(B^c) * P(A/B^c))\n",
    "     \n",
    "     "
   ]
  },
  {
   "cell_type": "markdown",
   "id": "8a97304d",
   "metadata": {
    "papermill": {
     "duration": 0.067885,
     "end_time": "2022-07-28T16:47:29.839808",
     "exception": false,
     "start_time": "2022-07-28T16:47:29.771923",
     "status": "completed"
    },
    "tags": []
   },
   "source": [
    "# Day 26\n",
    "dataquest-> prob and stats -> probability fundamentals -> bayes theorem\n",
    "<br>slide 3 - last\n",
    "- the law of total probability\n",
    "  - P(A)  = (P(B1) * P(A/B1)) + (P(B2) * P(A/B2))+ ... + (P(Bn) * P(A/Bn)))\n",
    "  - P(A) =(summattion i=1 to n) P(Bi) ⋅ P(A|Bi)\n",
    "- Baye's theorem\n",
    "  - P(B | A) = (P(B) ⋅ P(A | B)) / (n ∑i=1 P(Bi) ⋅ P(A | Bi))\n",
    "- The probability of being infected with HIV before doing any test is called the prior probability (\"prior\" means \"before\"). The probability of being infected with HIV after testing positive is called the posterior probability (\"posterior\" means \"after\").\n",
    "\n",
    "\n",
    "  "
   ]
  },
  {
   "cell_type": "markdown",
   "id": "b8c0a1dc",
   "metadata": {
    "papermill": {
     "duration": 0.067328,
     "end_time": "2022-07-28T16:47:29.975805",
     "exception": false,
     "start_time": "2022-07-28T16:47:29.908477",
     "status": "completed"
    },
    "tags": []
   },
   "source": [
    "# Day 27\n",
    "dataquest-> prob and stats -> probability fundamentals -> naive bayes theorem\n",
    "<br>slide 1 - \n",
    "P(Spam|w1,w2,w3,w4)∝P(Spam)⋅P(w1|Spam)⋅P(w2|Spam)⋅P(w3|Spam)⋅P(w4|Spam)P(SpamC|w1,w2,w3,w4)∝P(SpamC)⋅P(w1|SpamC)⋅P(w2|SpamC)⋅P(w3|SpamC)⋅P(w4|SpamC)"
   ]
  },
  {
   "cell_type": "markdown",
   "id": "6e3d1957",
   "metadata": {
    "papermill": {
     "duration": 0.069959,
     "end_time": "2022-07-28T16:47:30.114279",
     "exception": false,
     "start_time": "2022-07-28T16:47:30.044320",
     "status": "completed"
    },
    "tags": []
   },
   "source": [
    "# Day 28\n",
    "dataquest-> prob and stats -> probability fundamentals -> naive bayes theorem\n",
    "<br>finished.\n",
    "<br>**Summary**\n",
    "- P(Spam|w1,w2,...,wn)∝P(Spam)⋅n∏i=1P(wi|Spam)\n",
    "- P(SpamC|w1,w2,...,wn)∝P(SpamC)⋅n∏i=1P(wi|SpamC)\n",
    "- To calculate P(wi|Spam) and P(wi|SpamC), we need to use the additive smoothing technique: \n",
    "- P ( w i | S p a m ) = (N w i | S p a m + α) / ( N S p a m + α ⋅ N V o c a b u l a r y )\n",
    "- P ( w i | S p a m C ) = (N w i | S p a m C + α) / ( N S p a m C + α ⋅ N V o c a b u l a r y )\n",
    "     - N w i | S p a m = the number of times the word w i occurs in spam messages \n",
    "     - N w i | S p a m C = the number of times the word w i occurs in non-spam messages \n",
    "     - N S p a m = total number of words in spam messages \n",
    "     - N S p a m C = total number of words in non-spam messages \n",
    "     - N V o c a b u l a r y = total number of words in the vocabulary \n",
    "     - α = 1 ( α is a smoothing parameter )\n",
    " - naive bayes theorem assumes that events are not dependent.\n",
    " - The assumption of conditional independence between words is thus naive since it rarely holds in practice, and this is why the algorithm is called Naive Bayes (also called simple Bayes or independence Bayes)."
   ]
  },
  {
   "cell_type": "markdown",
   "id": "308dab26",
   "metadata": {
    "papermill": {
     "duration": 0.066931,
     "end_time": "2022-07-28T16:47:30.249182",
     "exception": false,
     "start_time": "2022-07-28T16:47:30.182251",
     "status": "completed"
    },
    "tags": []
   },
   "source": [
    "# Day 29,30,31\n",
    "<br>dataquest-> prob and stats -> probability fundamentals -> conditional probability-> guided projects\n",
    "<br> in progress"
   ]
  },
  {
   "cell_type": "markdown",
   "id": "641ac821",
   "metadata": {
    "papermill": {
     "duration": 0.068706,
     "end_time": "2022-07-28T16:47:30.385021",
     "exception": false,
     "start_time": "2022-07-28T16:47:30.316315",
     "status": "completed"
    },
    "tags": []
   },
   "source": [
    "# Day 32 and 33\n",
    "<br>dataquest-> prob and stats -> probability fundamentals -> guided projects\n",
    "<br> done"
   ]
  },
  {
   "cell_type": "markdown",
   "id": "2d5ad529",
   "metadata": {
    "papermill": {
     "duration": 0.068261,
     "end_time": "2022-07-28T16:47:30.520908",
     "exception": false,
     "start_time": "2022-07-28T16:47:30.452647",
     "status": "completed"
    },
    "tags": []
   },
   "source": [
    "# Day 34\n",
    "<br>dataquest-> prob and stats -> probability fundamentals -> guided projects-> lottery prediction\n",
    "<br> done"
   ]
  },
  {
   "cell_type": "markdown",
   "id": "64dbf65b",
   "metadata": {
    "papermill": {
     "duration": 0.066826,
     "end_time": "2022-07-28T16:47:30.657389",
     "exception": false,
     "start_time": "2022-07-28T16:47:30.590563",
     "status": "completed"
    },
    "tags": []
   },
   "source": [
    "# Day 35\n",
    "<br>dataquest-> prob and stats -> hypothesis testing fundamentals -> significance testing\n",
    "<br> till slide 4\n",
    "- null hypothesis\n",
    "- alternate hypothesis\n"
   ]
  },
  {
   "cell_type": "markdown",
   "id": "5eec3edc",
   "metadata": {
    "papermill": {
     "duration": 0.069782,
     "end_time": "2022-07-28T16:47:30.794198",
     "exception": false,
     "start_time": "2022-07-28T16:47:30.724416",
     "status": "completed"
    },
    "tags": []
   },
   "source": [
    "# Day 36 and 37\n",
    "<br>dataquest-> prob and stats -> hypothesis testing fundamentals -> significance testing\n",
    "- The permutation test is a statistical test that involves rerunning the study many times and recalculating the test statistic for each iteration. The goal is to calculate a distribution of the test statistics over these many iterations. This distribution is called the sampling distribution and it approximates the full range of possible test statistics under the null hypothesis\n",
    "\n"
   ]
  },
  {
   "cell_type": "markdown",
   "id": "d1f041a0",
   "metadata": {
    "papermill": {
     "duration": 0.067728,
     "end_time": "2022-07-28T16:47:30.930840",
     "exception": false,
     "start_time": "2022-07-28T16:47:30.863112",
     "status": "completed"
    },
    "tags": []
   },
   "source": [
    "# Day 38\n",
    "<br>dataquest-> prob and stats -> hypothesis testing fundamentals -> significance testing\n",
    "<br>in progress."
   ]
  },
  {
   "cell_type": "markdown",
   "id": "429e1863",
   "metadata": {
    "papermill": {
     "duration": 0.067021,
     "end_time": "2022-07-28T16:47:31.065931",
     "exception": false,
     "start_time": "2022-07-28T16:47:30.998910",
     "status": "completed"
    },
    "tags": []
   },
   "source": [
    "# Day 39\n",
    "<br>dataquest-> prob and stats -> hypothesis testing fundamentals -> significance testing\n",
    "<br>slide 5-6"
   ]
  },
  {
   "cell_type": "markdown",
   "id": "728845d1",
   "metadata": {
    "papermill": {
     "duration": 0.070002,
     "end_time": "2022-07-28T16:47:31.207856",
     "exception": false,
     "start_time": "2022-07-28T16:47:31.137854",
     "status": "completed"
    },
    "tags": []
   },
   "source": [
    "# Day 40\n",
    "<br>dataquest-> prob and stats -> hypothesis testing fundamentals -> significance testing\n",
    "<br>slide 7"
   ]
  },
  {
   "cell_type": "markdown",
   "id": "30efcd29",
   "metadata": {
    "papermill": {
     "duration": 0.068578,
     "end_time": "2022-07-28T16:47:31.344209",
     "exception": false,
     "start_time": "2022-07-28T16:47:31.275631",
     "status": "completed"
    },
    "tags": []
   },
   "source": [
    "# Day 41 and 42\n",
    "<br>dataquest-> prob and stats -> hypothesis testing fundamentals -> significance testing\n",
    "<br>slide 7 done and 8(p-value) strated"
   ]
  },
  {
   "cell_type": "markdown",
   "id": "d4ff3cf0",
   "metadata": {
    "papermill": {
     "duration": 0.067121,
     "end_time": "2022-07-28T16:47:31.478226",
     "exception": false,
     "start_time": "2022-07-28T16:47:31.411105",
     "status": "completed"
    },
    "tags": []
   },
   "source": [
    "# Day 43\n",
    "<br>dataquest-> prob and stats -> hypothesis testing fundamentals -> significance testing\n",
    "<br>\n",
    "- The first step is to decide a test statistic, which is a numerical value that summarizes the data and one we can use in statistical formulas. The test statistic runs a statistical test that determines whether the difference between the groups was due to random chance.\n",
    "  - e.x: mean \n",
    "- The permutation test is a statistical test that involves rerunning the study many times and recalculating the test statistic for each iteration.\n",
    "   - The goal is to calculate a distribution of the test statistics over these many iterations. This distribution is called the sampling distribution and it approximates the full range of possible test statistics under the null hypothesis.\n",
    "- If the p value is less than the threshold, we:\n",
    "    - reject the null hypothesis that there's no difference in the mean amount of weight lost by participants in both groups; and\n",
    "    - conclude that there is some evidence that the weight loss pill does affect the amount of weight people lost.\n",
    "\n",
    "- If the p value is greater than the threshold, we:\n",
    "    - fail to reject the null hypothesis that there's no difference in the mean amount of weight lost by participants in both groups,\n",
    "    - conclude that the weight loss pill doesn't seem to be effective in helping people lose weight.\n",
    "- usually used p-value threshold is 0.05\n",
    "- The p value threshold you set can also affect the conclusion you reach.\n",
    "    - If you set too high of a p value threshold, you may reject the null hypothesis incorrectly. This is known as a type I error.\n",
    "    - If you set too low of a p value threshold, you may fail to reject the null hypothesis incorrectly. This is known as a type II error."
   ]
  },
  {
   "cell_type": "markdown",
   "id": "0ca7ee6a",
   "metadata": {
    "papermill": {
     "duration": 0.067951,
     "end_time": "2022-07-28T16:47:31.613358",
     "exception": false,
     "start_time": "2022-07-28T16:47:31.545407",
     "status": "completed"
    },
    "tags": []
   },
   "source": [
    "# Day 44\n",
    "<br>dataquest-> prob and stats -> hypothesis testing fundamentals -> significance testing-> chi squared test\n",
    "<br>1- 4\n",
    "- chi squared test is used for numerical values"
   ]
  },
  {
   "cell_type": "markdown",
   "id": "92e3bf43",
   "metadata": {
    "papermill": {
     "duration": 0.067538,
     "end_time": "2022-07-28T16:47:31.748011",
     "exception": false,
     "start_time": "2022-07-28T16:47:31.680473",
     "status": "completed"
    },
    "tags": []
   },
   "source": [
    "# Day 45 and 46\n",
    "<br>dataquest-> prob and stats -> hypothesis testing fundamentals -> significance testing-> chi squared test\n",
    "<br>4- 6"
   ]
  },
  {
   "cell_type": "markdown",
   "id": "ac84d817",
   "metadata": {
    "papermill": {
     "duration": 0.066864,
     "end_time": "2022-07-28T16:47:31.881559",
     "exception": false,
     "start_time": "2022-07-28T16:47:31.814695",
     "status": "completed"
    },
    "tags": []
   },
   "source": [
    "# Day 47\n",
    "<br>dataquest-> prob and stats -> hypothesis testing fundamentals -> significance testing-> chi squared test\n",
    "<br> slide 6 done"
   ]
  },
  {
   "cell_type": "markdown",
   "id": "0831de8c",
   "metadata": {
    "papermill": {
     "duration": 0.066879,
     "end_time": "2022-07-28T16:47:32.020711",
     "exception": false,
     "start_time": "2022-07-28T16:47:31.953832",
     "status": "completed"
    },
    "tags": []
   },
   "source": [
    "# Day 48\n",
    "<br> chi-squared values is that they get smaller as the sample size decreases.\n",
    "<br>**conclusion**\n",
    "- The chi-squared test enables us to quantify the difference between sets of observed and expected categorical values to determine statistical significance\n",
    "- chi squared = (observed - expected)**2 / expected\n",
    "- A p-value allows us to determine whether the difference between 2 values is due to chance, or due to an underlying difference.\n",
    "- Chi-squared values increase as sample size increases, but the chance of getting a high chi-squared value decreases as the sample gets larger.\n",
    "- A degree of freedom is the number of values that can vary without the other values being\"locked in\". \n",
    "- scipy https://docs.scipy.org/doc/scipy/reference/generated/scipy.stats.mstats.chisquare.html\n"
   ]
  },
  {
   "cell_type": "markdown",
   "id": "12c1adcf",
   "metadata": {
    "papermill": {
     "duration": 0.066517,
     "end_time": "2022-07-28T16:47:32.154265",
     "exception": false,
     "start_time": "2022-07-28T16:47:32.087748",
     "status": "completed"
    },
    "tags": []
   },
   "source": [
    "# Day 49\n",
    "<br>dataquest-> prob and stats -> hypothesis testing fundamentals -> significance testing-> multi category chi squared test\n",
    "<br> slide 1 done\n",
    "- We can apply the multi category chi-squared test (also known as the chi-squared test of association) to figure out if there's a statistically significant correlation between two categorical columns.\n",
    "- "
   ]
  },
  {
   "cell_type": "markdown",
   "id": "0c2d7757",
   "metadata": {
    "papermill": {
     "duration": 0.068198,
     "end_time": "2022-07-28T16:47:32.289289",
     "exception": false,
     "start_time": "2022-07-28T16:47:32.221091",
     "status": "completed"
    },
    "tags": []
   },
   "source": [
    " **Day 50**\n",
    "<br>dataquest-> prob and stats -> hypothesis testing fundamentals -> significance testing-> multi category chi squared test\n",
    "# Conclusion:\n",
    "- In a multiple category chi-squared test, we calculate expected values across our whole dataset.\n",
    "- We can calculate the chi-squared value by using the following steps:\n",
    "    - Subtract the expected value from the observed value.\n",
    "    - Subtract the difference.\n",
    "    - Divide the squared difference by the expected value.\n",
    "    - Repeat for all observed and expected values and add up all the values.\n",
    "- ∑ expected(observed−expected)**2 / expected\n",
    "- Discovering that a result isn't significant doesn't mean that no association between the columnsexists. Discovering a statistically significant result doesn't imply anything about what thecorrelation is.\n",
    "- Chi-squared tests can only be applied when each possibility within a category is independen.\n",
    "    - we have categories like male or female not both. single row has either male or female not both at a time.\n",
    "- https://docs.scipy.org/doc/scipy-0.15.1/reference/generated/scipy.stats.chi2_contingency.html\n",
    "- https://pandas.pydata.org/pandas-docs/stable/generated/pandas.crosstab.html\n"
   ]
  },
  {
   "cell_type": "markdown",
   "id": "baede488",
   "metadata": {
    "papermill": {
     "duration": 0.069495,
     "end_time": "2022-07-28T16:47:32.425722",
     "exception": false,
     "start_time": "2022-07-28T16:47:32.356227",
     "status": "completed"
    },
    "tags": []
   },
   "source": [
    "# **Day 51, 52**\n",
    "<br>dataquest-> prob and stats -> hypothesis testing fundamentals -> significance testing-> guided project\n",
    "<br>in progress."
   ]
  },
  {
   "cell_type": "markdown",
   "id": "50c1ebfc",
   "metadata": {
    "papermill": {
     "duration": 0.06867,
     "end_time": "2022-07-28T16:47:32.564572",
     "exception": false,
     "start_time": "2022-07-28T16:47:32.495902",
     "status": "completed"
    },
    "tags": []
   },
   "source": [
    "# **Day 53**\n",
    "<br>dataquest-> prob and stats -> hypothesis testing fundamentals -> significance testing-> guided project\n",
    "<br>done"
   ]
  },
  {
   "cell_type": "markdown",
   "id": "81eb40fe",
   "metadata": {
    "papermill": {
     "duration": 0.069311,
     "end_time": "2022-07-28T16:47:32.701482",
     "exception": false,
     "start_time": "2022-07-28T16:47:32.632171",
     "status": "completed"
    },
    "tags": []
   },
   "source": [
    "# **Day 54,55, 56,57, 58, 59**\n",
    "interviewbit-> probability-> conditional probability\n",
    "1. You asked your three friends whether it will rain or not and all three affirmed for rain. All three have the probability of 1/3 of lying. What is the probability that it will actually rain?\n",
    "- https://www.geeksforgeeks.org/puzzle-is-it-raining/#:~:text=Explanation%3A,truth%20or%20all%20are%20lying.&text=So%2C%20it%20is%20approximately%2089,it%20is%20raining%20in%20Hyderabad.\n",
    "2. Anshul and Deven take turns in rolling a fair six-sided die. Whoever rolls a “6” first wins the game. Deven starts by rolling first. What’s the probability that Anshul wins?\n",
    "- https://www.quora.com/A-and-B-throw-a-Fair-die-one-after-another-Whoever-throws-6-first-wins-What-is-the-probability-that-A-wins\n",
    "\n",
    "3. You have a bag with 6 marbles. One marble is white. You reach the bag 100 times. After taking out a marble, it is placed back in the bag. What is the probability of drawing a white marble at least once?\n",
    "- https://brainly.com/question/14376470\n",
    "- Answer:\n",
    "\n",
    "0.999999988\n",
    "\n",
    "Step-by-step explanation:\n",
    "\n",
    "Given that you  have a bag with 6 marbles. One marble is white. You reach the bag 100 times. After taking out a marble, it is placed back in the bag.\n",
    "\n",
    "Because every time you replace the marble drawn, the probability for drawing a white marble in one draw is constant = p =5/6\n",
    "\n",
    "No of trials n = 100\n",
    "\n",
    "Here X no of times white marble is drawn is Binomial since there are two outcomes and also the probability is constant.\n",
    "\n",
    "the probability of drawing a white marble at least once\n",
    "\n",
    "=\n",
    "\n",
    "Required probability is almost 1.\n",
    "\n",
    "\n",
    "4. Supposedly a friend of yours has 2 children and at least one of them is a boy. What is the probability that the other is also a boy?\n",
    "- If at least one is a boy, there are three possible equally likely gender assignations of two siblings. boy-boy, boy-girl,\n",
    "\n",
    " or girl-boy. Only 1 in 3 cases or 33 percent are both boys. The lesson here is that when considering equally likely scenarios\n",
    "\n",
    " we must consider birth order. If the birth order of the boy is not specified – i.e. if we don’t know if he is the eldest or \n",
    "\n",
    " the youngest – the probability of two boys drops to 1 in 3.\n",
    " \n",
    "5. A single card is drawn from a standard deck of playing cards. What is the probability that the card is a queen provided that a face card is drawn from the deck of cards?\n",
    "- 4/12 = 1/3\n",
    " \n",
    "6. random variables Q1,2\n",
    "7. 5 questions\n",
    "8. bayes theorem first 2\n",
    "\n",
    "**Day 60**\n",
    "- inferential statistics - 3 questions\n",
    "**Day 61**\n",
    "- inferential statistics - central limit theorem done\n",
    "\n",
    "**Day 62**\n",
    "- inferential statistics - distribution analysis multivariate done\n",
    "\n",
    "**Day 63**\n",
    "- inferential statistics -  done\n",
    "\n",
    "**Day 64,65, 66**\n",
    "- Data Analysis-  wip\n",
    "\n",
    "**Day 67**\n",
    "- Data Analysis-  web scrapping done\n",
    "\n",
    "**Day 68**\n",
    "- Data Analysis-  descriptive statistics tutorial done\n",
    "\n",
    "**Day 69**\n",
    "- Data Analysis-  probability tutorial done\n",
    "\n",
    "**Day 70**\n",
    "- Data Analysis-  hypothesis testing wip\n",
    "\n",
    "**Day 71**\n",
    "- Data Analysis-  inferential statistics tutorials - done\n",
    "\n",
    "**Day 72**\n",
    "- Data Analysis-  inferential statistics tutorials - done\n",
    "\n",
    "**Day 73**\n",
    "- Data Analysis-  data analysis tutorials - wip\n",
    "\n",
    "**Day 74**\n",
    "\n",
    "**Interview Prep:**\n",
    "1. clustering evaluation techniques:\n",
    "- https://towardsdatascience.com/clustering-evaluation-strategies-98a4006fcfc\n",
    "\n",
    "**Day 75**\n",
    "\n",
    "2. feature selection\n",
    "- https://www.analyticsvidhya.com/blog/2016/12/introduction-to-feature-selection-methods-with-an-example-or-how-to-select-the-right-variables/\n",
    "\n",
    "**Day 76**\n",
    "\n",
    "2. linear regression\n",
    "- https://towardsdatascience.com/introduction-to-machine-learning-algorithms-linear-regression-14c4e325882a and also data camp\n",
    "\n",
    "**Day 77**\n",
    "\n",
    "3. What’s the normal distribution? Why do we care about it?\n",
    "- https://www.youtube.com/watch?v=rzFX5NWojp0&ab_channel=StatQuestwithJoshStarmer\n",
    "\n",
    "**Day 78, 79**\n",
    "\n",
    " few questions from dsinterviews.org\n",
    " \n",
    " \n",
    "**Day 80**\n",
    "\n",
    " linear regression from datacamp -> done\n",
    " \n",
    " \n",
    "**Day 81**\n",
    "\n",
    " what is bias, variance and bias-variance tradeoff?\n",
    " \n",
    "https://medium.datadriveninvestor.com/bias-and-variance-in-machine-learning-51fdd38d1f86\n",
    " \n",
    " \n",
    "**Day 82**\n",
    "\n",
    "Regularization, L1 and L2 regularization?\n",
    "- https://medium.datadriveninvestor.com/l1-l2-regularization-7f1b4fe948f2\n",
    "\n",
    "**Day 83**\n",
    "\n",
    "Handling Imbalanced dataset\n",
    "- https://www.analyticsvidhya.com/blog/2021/06/5-techniques-to-handle-imbalanced-data-for-a-classification-problem/\n",
    "\n",
    "**Day 84**\n",
    "\n",
    "Central limit theorem?\n",
    "- https://medium.com/analytics-vidhya/central-limit-theorem-made-easy-a61319d6ee1f\n",
    "- https://towardsdatascience.com/central-limit-theorem-95f355934d98#:~:text=The%20Central%20Limit%20Theorem%20(CLT,the%20population%20or%20original%20variables.\n",
    "\n",
    "- the distribution of sample means approaches a normal distribution as the sample size increases.\n",
    "- for n>30, sample mean will reach normal distribution\n",
    "\n",
    "**Day 85**\n",
    "\n",
    "what are outliers and how to handle them?\n",
    "- https://www.analyticsvidhya.com/blog/2021/05/detecting-and-treating-outliers-treating-the-odd-one-out/\n",
    "\n",
    "**Day 86, 87**\n",
    "\n",
    "evaluation metrics\n",
    "- https://www.kaggle.com/code/vipulgandhi/how-to-choose-right-metric-for-evaluating-ml-model/notebook\n",
    "- regression https://medium.com/usf-msds/choosing-the-right-metric-for-machine-learning-models-part-1-a99d7d7414e4\n",
    "- https://stephenallwright.com/good-rmse-score/\n",
    "- https://www.kaggle.com/code/vipulgandhi/how-to-choose-right-metric-for-evaluating-ml-model/notebook\n",
    "\n",
    "**Day 88, 89, 90, 91, 92**\n",
    "- Rmse penalizes heavily or give large number in loss if the difference between predicted and actual is high but rmse can be easily differentiable so that's an advantage.\n",
    "- range of rmse and mae is from 0 to infinity.\n",
    "- R squared -> determines how well dependent variable explains independent variable variance.\n",
    "- Adjusted R-squared -> in r sqaured if we add more features to the model accuracy will aimprove but by using adjusted r-squred accuracy will increase only if the feature is usefull otherwise it'll penalize the accuracy.\n",
    "- The maximum value of R² is 1 but minimum can be negative infinity.\n",
    "- rmse and mae is usually used to compare the models but r-squred says how good my model is and preffered in industry.\n",
    "- high r squared means better model, low rmse/mae means better model.\n",
    "- how to say which rmse is better?\n",
    "    - use scatter index. which is (rmse)*100/avg(y), if SI(scat index) <10% is good model, <5% is best. according to ashley standar model with rsquared>0.75 and SI<30% is good.\n",
    "    - https://www.statology.org/what-is-a-good-rmse/\n",
    "    \n",
    "**Day 93, 94**\n",
    "\n",
    "evaluation of classification?\n",
    "- https://www.analyticsvidhya.com/blog/2020/10/how-to-choose-evaluation-metrics-for-classification-model/\n",
    "- https://www.analyticsvidhya.com/blog/2021/06/confusion-matrix-for-multi-class-classification/\n",
    "- https://towardsdatascience.com/understanding-auc-roc-curve-68b2303cc9c5\n",
    "- https://medium.com/@gaurav_bio/making-sense-of-real-world-data-roc-curves-and-when-to-use-them-90a17e6d1db   --> best article\n",
    "- handling class imbalance --> https://towardsdatascience.com/dealing-with-imbalanced-classes-in-machine-learning-d43d6fa19d2\n",
    "\n",
    "**Day 95, 96**\n",
    "\n",
    "- regularization?\n",
    "- https://towardsdatascience.com/regularization-in-machine-learning-76441ddcf99a\n",
    "- https://www.simplilearn.com/tutorials/machine-learning-tutorial/regularization-in-machine-learning\n",
    "- https://www.analyticsvidhya.com/blog/2021/05/complete-guide-to-regularization-techniques-in-machine-learning/\n",
    "\n",
    "**Day 97**\n",
    "\n",
    "linear regression and gradient descent.\n",
    "- https://arshren.medium.com/gradient-descent-5a13f385d403\n",
    "- https://towardsdatascience.com/introduction-to-machine-learning-algorithms-linear-regression-14c4e325882a\n",
    "\n",
    "**Day 98, 99**\n",
    "\n",
    "gradient descent\n",
    "- https://www.youtube.com/watch?v=sDv4f4s2SB8&t=1276s&ab_channel=StatQuestwithJoshStarmer\n",
    "\n",
    "**Day 100**\n",
    "- validation from theory questions\n",
    "\n",
    "**Day 101,102**\n",
    "- feature selection\n",
    "\n",
    "**Day 103**\n",
    "- started reading sreelatha murthy's the outliers book\n",
    "- finished first chapter.\n",
    "\n",
    "**Day 104**\n",
    "- chapter 4 modelling and ml questions\n",
    "- How can you avoid overfitting in predictive models?\n",
    "\n",
    "**Day 105**\n",
    "- How to choose k for k mean?\n",
    "    - https://www.analyticsvidhya.com/blog/2019/08/comprehensive-guide-k-means-clustering/#h2_1\n",
    "    - https://developers.google.com/machine-learning/clustering/prepare-data\n",
    "    - https://mai-tnthao.medium.com/k-means-clustering-ph%C3%A2n-c%E1%BB%A5m-k-means-d2ffed5bddf8\n",
    "- clustering algorithm for data mith mixed categorical & numerical\n",
    "    - https://www.tomasbeuzen.com/post/clustering-mixed-data/\n",
    "    \n",
    "**Day 106**\n",
    "- which is your favourite algorithm?\n",
    "\n",
    "**Day 107**\n",
    "- regression trees\n",
    "\n",
    "**Day 108,109, 110, 111, 112, 113, 114**\n",
    "- random forest\n",
    "\n",
    "\n",
    "**Day 115**\n",
    "- A/B testing case study\n",
    "\n",
    "**Day 116. 117**\n",
    "- case study 3\n",
    "\n",
    "**Day 119**\n",
    "- behaviour questions\n",
    "\n",
    "**Day 120**\n",
    "- confidence interval\n",
    "- https://www.machinelearningplus.com/statistics/confidence-interval/\n",
    "\n",
    "**Day 121**\n",
    "- p value\n",
    "\n",
    "**Day 122,123,124, 125, 126, 127**\n",
    "- general\n",
    "\n",
    "**Day 128**\n",
    "- DT, Random forest, adad boost, grad boost, xg boost.\n",
    "- book-> general probability\n",
    "\n",
    "**Day 129,130**\n",
    "- gradient boosting\n",
    "- p-values -> book\n",
    "- xgboost\n",
    "\n",
    "**Day 131**\n",
    "- xgb hyper parameters\n",
    "- confidence interval\n",
    "\n",
    "**Day 132, 133, 134, 135**\n",
    "- general\n",
    "\n",
    "**Day 136**\n",
    "- general\n",
    "- started with dsa -> arrays easy\n",
    "\n",
    "**Day 137, 138, 139**\n",
    "- general"
   ]
  },
  {
   "cell_type": "code",
   "execution_count": null,
   "id": "b61abf65",
   "metadata": {
    "papermill": {
     "duration": 0.067179,
     "end_time": "2022-07-28T16:47:32.836535",
     "exception": false,
     "start_time": "2022-07-28T16:47:32.769356",
     "status": "completed"
    },
    "tags": []
   },
   "outputs": [],
   "source": []
  },
  {
   "cell_type": "markdown",
   "id": "a7e893ed",
   "metadata": {
    "papermill": {
     "duration": 0.068195,
     "end_time": "2022-07-28T16:47:32.974196",
     "exception": false,
     "start_time": "2022-07-28T16:47:32.906001",
     "status": "completed"
    },
    "tags": []
   },
   "source": []
  },
  {
   "cell_type": "code",
   "execution_count": null,
   "id": "0aca9e43",
   "metadata": {
    "papermill": {
     "duration": 0.06732,
     "end_time": "2022-07-28T16:47:33.108396",
     "exception": false,
     "start_time": "2022-07-28T16:47:33.041076",
     "status": "completed"
    },
    "tags": []
   },
   "outputs": [],
   "source": []
  },
  {
   "cell_type": "code",
   "execution_count": 3,
   "id": "c52a5de3",
   "metadata": {
    "execution": {
     "iopub.execute_input": "2022-07-28T16:47:33.245856Z",
     "iopub.status.busy": "2022-07-28T16:47:33.245152Z",
     "iopub.status.idle": "2022-07-28T16:47:33.248716Z",
     "shell.execute_reply": "2022-07-28T16:47:33.249382Z",
     "shell.execute_reply.started": "2022-04-12T14:17:49.333113Z"
    },
    "papermill": {
     "duration": 0.074523,
     "end_time": "2022-07-28T16:47:33.249588",
     "exception": false,
     "start_time": "2022-07-28T16:47:33.175065",
     "status": "completed"
    },
    "tags": []
   },
   "outputs": [],
   "source": [
    "# !pip install PyMuPDF"
   ]
  },
  {
   "cell_type": "code",
   "execution_count": 4,
   "id": "fb04cc75",
   "metadata": {
    "execution": {
     "iopub.execute_input": "2022-07-28T16:47:33.389887Z",
     "iopub.status.busy": "2022-07-28T16:47:33.388649Z",
     "iopub.status.idle": "2022-07-28T16:47:33.392461Z",
     "shell.execute_reply": "2022-07-28T16:47:33.393077Z",
     "shell.execute_reply.started": "2022-04-12T14:19:20.437905Z"
    },
    "papermill": {
     "duration": 0.074641,
     "end_time": "2022-07-28T16:47:33.393291",
     "exception": false,
     "start_time": "2022-07-28T16:47:33.318650",
     "status": "completed"
    },
    "tags": []
   },
   "outputs": [],
   "source": [
    " \n",
    "# fitz.__version__"
   ]
  },
  {
   "cell_type": "code",
   "execution_count": 5,
   "id": "0e4604ab",
   "metadata": {
    "execution": {
     "iopub.execute_input": "2022-07-28T16:47:33.531049Z",
     "iopub.status.busy": "2022-07-28T16:47:33.530339Z",
     "iopub.status.idle": "2022-07-28T16:47:33.533526Z",
     "shell.execute_reply": "2022-07-28T16:47:33.534099Z",
     "shell.execute_reply.started": "2022-04-12T14:23:59.687259Z"
    },
    "papermill": {
     "duration": 0.074018,
     "end_time": "2022-07-28T16:47:33.534303",
     "exception": false,
     "start_time": "2022-07-28T16:47:33.460285",
     "status": "completed"
    },
    "tags": []
   },
   "outputs": [],
   "source": [
    "# !python -m spacy download en_core_web_sm"
   ]
  },
  {
   "cell_type": "code",
   "execution_count": null,
   "id": "43d497d4",
   "metadata": {
    "papermill": {
     "duration": 0.066572,
     "end_time": "2022-07-28T16:47:33.668141",
     "exception": false,
     "start_time": "2022-07-28T16:47:33.601569",
     "status": "completed"
    },
    "tags": []
   },
   "outputs": [],
   "source": []
  },
  {
   "cell_type": "code",
   "execution_count": 6,
   "id": "8117af77",
   "metadata": {
    "execution": {
     "iopub.execute_input": "2022-07-28T16:47:33.805719Z",
     "iopub.status.busy": "2022-07-28T16:47:33.805020Z",
     "iopub.status.idle": "2022-07-28T16:47:33.808250Z",
     "shell.execute_reply": "2022-07-28T16:47:33.808777Z",
     "shell.execute_reply.started": "2022-04-12T14:18:25.912243Z"
    },
    "papermill": {
     "duration": 0.074201,
     "end_time": "2022-07-28T16:47:33.808991",
     "exception": false,
     "start_time": "2022-07-28T16:47:33.734790",
     "status": "completed"
    },
    "tags": []
   },
   "outputs": [],
   "source": [
    "# import fitz\n",
    "# import spacy\n",
    "# import re\n",
    "# from pathlib import Path\n",
    "# import requests\n",
    "# import os"
   ]
  },
  {
   "cell_type": "code",
   "execution_count": 7,
   "id": "acc8c197",
   "metadata": {
    "execution": {
     "iopub.execute_input": "2022-07-28T16:47:33.952608Z",
     "iopub.status.busy": "2022-07-28T16:47:33.950014Z",
     "iopub.status.idle": "2022-07-28T16:47:33.954525Z",
     "shell.execute_reply": "2022-07-28T16:47:33.955080Z",
     "shell.execute_reply.started": "2022-04-12T15:03:43.5897Z"
    },
    "papermill": {
     "duration": 0.077715,
     "end_time": "2022-07-28T16:47:33.955282",
     "exception": false,
     "start_time": "2022-07-28T16:47:33.877567",
     "status": "completed"
    },
    "tags": []
   },
   "outputs": [],
   "source": [
    "# sql_db_json = [\n",
    "#   {\n",
    "#     \"document_id\": \"1\",\n",
    "#     \"area\": \"[72.1149,661.2966,131.95729,675.1716]\",\n",
    "#     \"page\": \"3\",\n",
    "#     \"text_\": \"Background\",\n",
    "#     \"type_of_selection\": \"Text\",\n",
    "#     \"entity_type\": \"name\",\n",
    "#     \"link\": \"https://redactable-devox-stage.s3.us-east-2.amazonaws.com/tenants/41d9e109-693b-444c-aa18-e5891bc6550b/original/1a7c0e5d-3237-4ca9-9e3d-89e707245ac6/D8communications.pdf\"\n",
    "#   },\n",
    "#   {\n",
    "#     \"document_id\": \"1\",\n",
    "#     \"area\": \"[290.55386,632.0173,322.14685,645.8923]\",\n",
    "#     \"page\": \"2\",\n",
    "#     \"text_\": \"INDEX\",\n",
    "#     \"type_of_selection\": \"Text\",\n",
    "#     \"entity_type\": \"address\",\n",
    "#     \"link\": \"https://redactable-devox-stage.s3.us-east-2.amazonaws.com/tenants/41d9e109-693b-444c-aa18-e5891bc6550b/original/1a7c0e5d-3237-4ca9-9e3d-89e707245ac6/D8communications.pdf\"\n",
    "#   }\n",
    "# ]"
   ]
  },
  {
   "cell_type": "code",
   "execution_count": 8,
   "id": "4285e5d3",
   "metadata": {
    "execution": {
     "iopub.execute_input": "2022-07-28T16:47:34.097602Z",
     "iopub.status.busy": "2022-07-28T16:47:34.096773Z",
     "iopub.status.idle": "2022-07-28T16:47:34.098554Z",
     "shell.execute_reply": "2022-07-28T16:47:34.099110Z",
     "shell.execute_reply.started": "2022-04-12T13:17:19.452695Z"
    },
    "papermill": {
     "duration": 0.074424,
     "end_time": "2022-07-28T16:47:34.099311",
     "exception": false,
     "start_time": "2022-07-28T16:47:34.024887",
     "status": "completed"
    },
    "tags": []
   },
   "outputs": [],
   "source": [
    "# l=pd.DataFrame()\n",
    "# k=(1, '[290.55386,632.0173,322.14685,645.8923]', 2, 'INDEX', 'Text', 'address', 'https://redactable-devox-s')\n",
    "# k\n"
   ]
  },
  {
   "cell_type": "code",
   "execution_count": 9,
   "id": "036d3b05",
   "metadata": {
    "execution": {
     "iopub.execute_input": "2022-07-28T16:47:34.238783Z",
     "iopub.status.busy": "2022-07-28T16:47:34.238033Z",
     "iopub.status.idle": "2022-07-28T16:47:34.241793Z",
     "shell.execute_reply": "2022-07-28T16:47:34.242348Z",
     "shell.execute_reply.started": "2022-04-12T16:09:33.708631Z"
    },
    "papermill": {
     "duration": 0.075393,
     "end_time": "2022-07-28T16:47:34.242556",
     "exception": false,
     "start_time": "2022-07-28T16:47:34.167163",
     "status": "completed"
    },
    "tags": []
   },
   "outputs": [],
   "source": [
    "# co=[\"document_id\",\"area\",\"page\",\"text_\",\"type_of_selection\",\"entity_type\",\"link\"]\n",
    "# val= [(1,'[72.1149,661.2966,131.95729,675.1716]',3,'Background','Text','name' ,'https://redactable-devox-stage.s3.us-east-2.am'), (1,  '[290.55386,632.0173,322.14685,645.8923]',2,'INDEX', 'Text','address','https://redactable-devox-stage.s3.us-east-2.am')]\n",
    "\n",
    "# df=pd.DataFrame(val,columns=[co])\n",
    "# #df.iloc[1] =[1,  '[290.55386,632.0173,322.14685,645.8923]',2,'INDEX', 'Text','address','https://redactable-devox-stage.s3.us-east-2.am']\n",
    "# df"
   ]
  },
  {
   "cell_type": "code",
   "execution_count": 10,
   "id": "22ad8935",
   "metadata": {
    "execution": {
     "iopub.execute_input": "2022-07-28T16:47:34.381200Z",
     "iopub.status.busy": "2022-07-28T16:47:34.380455Z",
     "iopub.status.idle": "2022-07-28T16:47:34.383708Z",
     "shell.execute_reply": "2022-07-28T16:47:34.384262Z",
     "shell.execute_reply.started": "2022-04-12T16:18:22.595374Z"
    },
    "papermill": {
     "duration": 0.073928,
     "end_time": "2022-07-28T16:47:34.384469",
     "exception": false,
     "start_time": "2022-07-28T16:47:34.310541",
     "status": "completed"
    },
    "tags": []
   },
   "outputs": [],
   "source": [
    "# prev=[]\n",
    "# for data,row in df.iterrows():\n",
    "#     if row['document_id'] not in prev:\n",
    "#         prev.append(row['document_id'])\n",
    "#         print('hey')"
   ]
  },
  {
   "cell_type": "code",
   "execution_count": 11,
   "id": "55f69006",
   "metadata": {
    "execution": {
     "iopub.execute_input": "2022-07-28T16:47:34.522943Z",
     "iopub.status.busy": "2022-07-28T16:47:34.522219Z",
     "iopub.status.idle": "2022-07-28T16:47:34.527332Z",
     "shell.execute_reply": "2022-07-28T16:47:34.527891Z",
     "shell.execute_reply.started": "2022-04-12T15:03:48.248836Z"
    },
    "papermill": {
     "duration": 0.07571,
     "end_time": "2022-07-28T16:47:34.528124",
     "exception": false,
     "start_time": "2022-07-28T16:47:34.452414",
     "status": "completed"
    },
    "tags": []
   },
   "outputs": [],
   "source": [
    "# nlp = spacy.load('en_core_web_sm')\n",
    "# train_data = []\n",
    "\n",
    "# prev_doc_id = ''\n",
    "# i=0\n",
    "# temp='/kaggle/working'\n",
    "\n",
    "# for data in sql_db_json:\n",
    "#     if data['type_of_selection'] == 'Text':\n",
    "#         document_id = data['document_id']\n",
    "#         x1,y1,x2,y2 = data['area'][1:-1].split(',')\n",
    "#         url = data['link']\n",
    "#         page_no = int(data['page']) - 1 \n",
    "#         label = data['entity_type']\n",
    "#         filename = url.split('/')[-1]\n",
    "    \n",
    "#         #download the file to temp folder\n",
    "#         outpath = os.path.join(temp,filename)\n",
    "\n",
    "#         if document_id == prev_doc_id:\n",
    "#             pass\n",
    "#         else: \n",
    "#             i+=1\n",
    "#             print(i)\n",
    "#             response = requests.get(url)\n",
    "#             with open(outpath, \"wb\") as binary_file:\n",
    "#                 binary_file.write(response.content)\n",
    "\n",
    "#         doc = fitz.open(outpath)  # any supported document type\n",
    "#         page = doc[page_no]  # we want text from this page\n",
    "#         print('page dimension - ', page.rect.width, page.rect.height)\n",
    "\n",
    "#         #The co-ordinates in the DB are image co-ords. W.r.t pdf, y1 and y2 has to be interchanged.\n",
    "#         #To ensure entire word to be selected, slight correction in x1,y1,x2,y2 is done.\n",
    "\n",
    "#         rect = [float(x1)-2, 792 - float(y2)-2, float(x2)+2, 792 - float(y1)+2]\n",
    "#         print(rect)\n",
    "#         labelled_text = page.get_textbox(rect)\n",
    "\n",
    "#         #Removing all unprintable characters from the text\n",
    "#         string = re.sub('[^0-9a-zA-Z@?|\\/<>.,()&^%$#!]+', ' ', labelled_text)\n",
    "#         print('string : ', string)\n",
    "\n",
    "#         fulltext = page.get_text()\n",
    "#         doc = nlp(fulltext)\n",
    "\n",
    "#         sentences = []\n",
    "#         for sent in doc.sents:\n",
    "#             if string.strip() in sent.text:\n",
    "#                 text = re.sub('[^0-9a-zA-Z@?|\\/<>.,()&^%$#!]+', ' ', sent.text)\n",
    "\n",
    "#         res = re.search(string.strip(), text)\n",
    "\n",
    "#         entities = []\n",
    "#         entities.append((res.start(),res.end(),label))\n",
    "\n",
    "#         train_data.append((text,{'entities':entities}))\n",
    "\n",
    "# print('Training data in spacy format')\n",
    "# print('*****************************')\n",
    "# for i in range(0,len(train_data)):\n",
    "#     print(train_data[i])"
   ]
  },
  {
   "cell_type": "code",
   "execution_count": null,
   "id": "9109cb67",
   "metadata": {
    "papermill": {
     "duration": 0.067831,
     "end_time": "2022-07-28T16:47:34.663751",
     "exception": false,
     "start_time": "2022-07-28T16:47:34.595920",
     "status": "completed"
    },
    "tags": []
   },
   "outputs": [],
   "source": []
  },
  {
   "cell_type": "code",
   "execution_count": 12,
   "id": "efd8ed0a",
   "metadata": {
    "execution": {
     "iopub.execute_input": "2022-07-28T16:47:34.803319Z",
     "iopub.status.busy": "2022-07-28T16:47:34.802565Z",
     "iopub.status.idle": "2022-07-28T16:47:34.807220Z",
     "shell.execute_reply": "2022-07-28T16:47:34.807757Z",
     "shell.execute_reply.started": "2022-04-12T11:44:59.253637Z"
    },
    "papermill": {
     "duration": 0.076944,
     "end_time": "2022-07-28T16:47:34.807977",
     "exception": false,
     "start_time": "2022-07-28T16:47:34.731033",
     "status": "completed"
    },
    "tags": []
   },
   "outputs": [],
   "source": [
    "# nlp = spacy.load('en_core_web_sm')\n",
    "# train_data = []\n",
    "\n",
    "# prev_doc_id = ''\n",
    "# temp='/kaggle/working'\n",
    "# i=0\n",
    "# for data in sql_db_json:\n",
    "#     if data['type_of_selection'] == 'Text':\n",
    "#         document_id = data['document_id']\n",
    "#         x1,y1,x2,y2 = data['area'][1:-1].split(',')\n",
    "#         url = data['link']\n",
    "#         page_no = int(data['page']) - 1 \n",
    "#         label = data['entity_type']\n",
    "#         filename = url.split('/')[-1]\n",
    "    \n",
    "#         #download the file to temp folder\n",
    "#         i+=1\n",
    "#         print(i)\n",
    "#         response = requests.get(url)\n",
    "#         doc = fitz.open(stream=response.content,filetype=\"pdf\")  # any supported document type\n",
    "#         page = doc[page_no]  # we want text from this page\n",
    "#         print('page dimension - ', page.rect.width, page.rect.height)\n",
    "\n",
    "#         #The co-ordinates in the DB are image co-ords. W.r.t pdf, y1 and y2 has to be interchanged.\n",
    "#         #To ensure entire word to be selected, slight correction in x1,y1,x2,y2 is done.\n",
    "\n",
    "#         rect = [float(x1)-2, 792 - float(y2)-2, float(x2)+2, 792 - float(y1)+2]\n",
    "#         print(rect)\n",
    "#         labelled_text = page.get_textbox(rect)\n",
    "\n",
    "#         #Removing all unprintable characters from the text\n",
    "#         string = re.sub('[^0-9a-zA-Z@?|\\/<>.,()&^%$#!]+', ' ', labelled_text)\n",
    "#         print('string : ', string)\n",
    "\n",
    "#         fulltext = page.get_text()\n",
    "#         doc = nlp(fulltext)\n",
    "\n",
    "#         sentences = []\n",
    "#         for sent in doc.sents:\n",
    "#             if string.strip() in sent.text:\n",
    "#                 text = re.sub('[^0-9a-zA-Z@?|\\/<>.,()&^%$#!]+', ' ', sent.text)\n",
    "\n",
    "#         res = re.search(string.strip(), text)\n",
    "\n",
    "#         entities = []\n",
    "#         entities.append((res.start(),res.end(),label))\n",
    "\n",
    "#         train_data.append((text,{'entities':entities}))\n",
    "\n",
    "# print('Training data in spacy format')\n",
    "# print('*****************************')\n",
    "# for i in range(0,len(train_data)):\n",
    "#     print(train_data[i])"
   ]
  },
  {
   "cell_type": "code",
   "execution_count": 13,
   "id": "2e593b65",
   "metadata": {
    "execution": {
     "iopub.execute_input": "2022-07-28T16:47:34.958365Z",
     "iopub.status.busy": "2022-07-28T16:47:34.957393Z",
     "iopub.status.idle": "2022-07-28T16:47:34.961856Z",
     "shell.execute_reply": "2022-07-28T16:47:34.962511Z"
    },
    "papermill": {
     "duration": 0.087437,
     "end_time": "2022-07-28T16:47:34.962733",
     "exception": false,
     "start_time": "2022-07-28T16:47:34.875296",
     "status": "completed"
    },
    "tags": []
   },
   "outputs": [],
   "source": [
    "# page dimension -  612.0 792.0\n",
    "# [70.1149, 114.82839999999999, 133.95729, 132.7034]\n",
    "# string :  Background\n",
    "# page dimension -  612.0 792.0\n",
    "# [288.55386, 144.10770000000002, 324.14685, 161.98270000000002]\n",
    "# string :  INDEX\n",
    "# Training data in spacy format\n",
    "# *****************************\n",
    "# (' 3 Background The Blue Ribbon Committee was created by the Mayor to assess various city communication methods and recommend opportunities to improve communications with residents, businesses and other organizations.', {'entities': [(3, 13, 'name')]})\n",
    "# (' 2 INDEX Background Pg. 3 Purpose Pg. 3 Process .', {'entities': [(3, 8, 'address')]})"
   ]
  },
  {
   "cell_type": "code",
   "execution_count": 14,
   "id": "bdbc0904",
   "metadata": {
    "execution": {
     "iopub.execute_input": "2022-07-28T16:47:35.120499Z",
     "iopub.status.busy": "2022-07-28T16:47:35.119781Z",
     "iopub.status.idle": "2022-07-28T16:47:35.123580Z",
     "shell.execute_reply": "2022-07-28T16:47:35.124170Z",
     "shell.execute_reply.started": "2022-04-11T16:35:29.609712Z"
    },
    "papermill": {
     "duration": 0.077051,
     "end_time": "2022-07-28T16:47:35.124378",
     "exception": false,
     "start_time": "2022-07-28T16:47:35.047327",
     "status": "completed"
    },
    "tags": []
   },
   "outputs": [],
   "source": [
    "# nlp = spacy.load('en_core_web_sm')\n",
    "# outpath=r'/kaggle/input/sample-pdf/D8communications.pdf'\n",
    "# doc = fitz.open(outpath)  # any supported document type\n",
    "# page_no=3\n",
    "# page = doc[page_no-1]\n",
    "\n",
    "# x1,y1,x2,y2=(72.1149,661.2966,131.95729,675.1716)\n",
    "\n",
    "# rect = [float(x1)-2, 792 - float(y2)-2, float(x2)+2, 792 - float(y1)+2]\n",
    "# print(rect)\n",
    "# labelled_text = page.get_textbox(rect)\n",
    "# string = re.sub('[^0-9a-zA-Z@?|\\/<>.,()&^%$#!]+', ' ', labelled_text)\n",
    "# print('string : ', string)\n",
    "\n",
    "# fulltext = page.get_text()\n",
    "# doc = nlp(fulltext)\n",
    "\n",
    "# sentences = []\n",
    "# for sent in doc.sents:\n",
    "#             if string.strip() in sent.text:\n",
    "#                 text = re.sub('[^0-9a-zA-Z@?|\\/<>.,()&^%$#!]+', ' ', sent.text)\n",
    "\n",
    "#         res = re.search(string.strip(), text)\n",
    "\n",
    "#         entities = []\n",
    "#         entities.append((res.start(),res.end(),label))\n",
    "\n",
    "#         train_data.append((text,{'entities':entities}))\n",
    "\n"
   ]
  },
  {
   "cell_type": "code",
   "execution_count": 15,
   "id": "3b4e0c39",
   "metadata": {
    "execution": {
     "iopub.execute_input": "2022-07-28T16:47:35.264338Z",
     "iopub.status.busy": "2022-07-28T16:47:35.263637Z",
     "iopub.status.idle": "2022-07-28T16:47:35.266745Z",
     "shell.execute_reply": "2022-07-28T16:47:35.267343Z",
     "shell.execute_reply.started": "2022-04-11T16:35:41.679947Z"
    },
    "papermill": {
     "duration": 0.07433,
     "end_time": "2022-07-28T16:47:35.267542",
     "exception": false,
     "start_time": "2022-07-28T16:47:35.193212",
     "status": "completed"
    },
    "tags": []
   },
   "outputs": [],
   "source": [
    "#doc"
   ]
  },
  {
   "cell_type": "code",
   "execution_count": 16,
   "id": "04eb4afd",
   "metadata": {
    "execution": {
     "iopub.execute_input": "2022-07-28T16:47:35.408251Z",
     "iopub.status.busy": "2022-07-28T16:47:35.407513Z",
     "iopub.status.idle": "2022-07-28T16:47:35.411986Z",
     "shell.execute_reply": "2022-07-28T16:47:35.411298Z",
     "shell.execute_reply.started": "2022-04-11T16:35:56.010353Z"
    },
    "papermill": {
     "duration": 0.075359,
     "end_time": "2022-07-28T16:47:35.412148",
     "exception": false,
     "start_time": "2022-07-28T16:47:35.336789",
     "status": "completed"
    },
    "tags": []
   },
   "outputs": [],
   "source": [
    "# sentences = []\n",
    "# for sent in doc.sents:\n",
    "#     if string.strip() in sent.text:\n",
    "#         text = re.sub('[^0-9a-zA-Z@?|\\/<>.,()&^%$#!]+', ' ', sent.text)"
   ]
  },
  {
   "cell_type": "code",
   "execution_count": 17,
   "id": "d1839103",
   "metadata": {
    "execution": {
     "iopub.execute_input": "2022-07-28T16:47:35.554517Z",
     "iopub.status.busy": "2022-07-28T16:47:35.553702Z",
     "iopub.status.idle": "2022-07-28T16:47:35.557110Z",
     "shell.execute_reply": "2022-07-28T16:47:35.556556Z",
     "shell.execute_reply.started": "2022-04-11T16:39:04.736143Z"
    },
    "papermill": {
     "duration": 0.075527,
     "end_time": "2022-07-28T16:47:35.557291",
     "exception": false,
     "start_time": "2022-07-28T16:47:35.481764",
     "status": "completed"
    },
    "tags": []
   },
   "outputs": [],
   "source": [
    "# k=nlp(\"he             kenny\")\n",
    "# for sent in k.sents:\n",
    "#     print(sent)"
   ]
  },
  {
   "cell_type": "code",
   "execution_count": 18,
   "id": "5f65afd7",
   "metadata": {
    "execution": {
     "iopub.execute_input": "2022-07-28T16:47:35.702593Z",
     "iopub.status.busy": "2022-07-28T16:47:35.701796Z",
     "iopub.status.idle": "2022-07-28T16:47:35.704760Z",
     "shell.execute_reply": "2022-07-28T16:47:35.704208Z",
     "shell.execute_reply.started": "2022-04-11T15:09:24.391421Z"
    },
    "papermill": {
     "duration": 0.077755,
     "end_time": "2022-07-28T16:47:35.704919",
     "exception": false,
     "start_time": "2022-07-28T16:47:35.627164",
     "status": "completed"
    },
    "tags": []
   },
   "outputs": [],
   "source": [
    "# text"
   ]
  },
  {
   "cell_type": "code",
   "execution_count": 19,
   "id": "2685be2d",
   "metadata": {
    "execution": {
     "iopub.execute_input": "2022-07-28T16:47:35.844853Z",
     "iopub.status.busy": "2022-07-28T16:47:35.843863Z",
     "iopub.status.idle": "2022-07-28T16:47:35.846381Z",
     "shell.execute_reply": "2022-07-28T16:47:35.846856Z",
     "shell.execute_reply.started": "2022-04-11T15:09:31.9599Z"
    },
    "papermill": {
     "duration": 0.075446,
     "end_time": "2022-07-28T16:47:35.847108",
     "exception": false,
     "start_time": "2022-07-28T16:47:35.771662",
     "status": "completed"
    },
    "tags": []
   },
   "outputs": [],
   "source": [
    "# res = re.search(string.strip(), text)\n",
    "# res"
   ]
  },
  {
   "cell_type": "code",
   "execution_count": 20,
   "id": "b6298061",
   "metadata": {
    "execution": {
     "iopub.execute_input": "2022-07-28T16:47:35.986679Z",
     "iopub.status.busy": "2022-07-28T16:47:35.985868Z",
     "iopub.status.idle": "2022-07-28T16:47:35.988779Z",
     "shell.execute_reply": "2022-07-28T16:47:35.989359Z",
     "shell.execute_reply.started": "2022-04-11T15:12:41.311242Z"
    },
    "papermill": {
     "duration": 0.074248,
     "end_time": "2022-07-28T16:47:35.989563",
     "exception": false,
     "start_time": "2022-07-28T16:47:35.915315",
     "status": "completed"
    },
    "tags": []
   },
   "outputs": [],
   "source": [
    "# entities = []\n",
    "# entities.append((res.start(),res.end(),'p'))"
   ]
  },
  {
   "cell_type": "code",
   "execution_count": 21,
   "id": "49c63fe1",
   "metadata": {
    "execution": {
     "iopub.execute_input": "2022-07-28T16:47:36.128198Z",
     "iopub.status.busy": "2022-07-28T16:47:36.127406Z",
     "iopub.status.idle": "2022-07-28T16:47:36.131043Z",
     "shell.execute_reply": "2022-07-28T16:47:36.131610Z",
     "shell.execute_reply.started": "2022-04-11T15:12:52.736619Z"
    },
    "papermill": {
     "duration": 0.074322,
     "end_time": "2022-07-28T16:47:36.131809",
     "exception": false,
     "start_time": "2022-07-28T16:47:36.057487",
     "status": "completed"
    },
    "tags": []
   },
   "outputs": [],
   "source": [
    "# entities"
   ]
  },
  {
   "cell_type": "code",
   "execution_count": 22,
   "id": "68c150ea",
   "metadata": {
    "execution": {
     "iopub.execute_input": "2022-07-28T16:47:36.269455Z",
     "iopub.status.busy": "2022-07-28T16:47:36.268718Z",
     "iopub.status.idle": "2022-07-28T16:47:36.271613Z",
     "shell.execute_reply": "2022-07-28T16:47:36.272219Z",
     "shell.execute_reply.started": "2022-04-11T15:06:11.546217Z"
    },
    "papermill": {
     "duration": 0.073606,
     "end_time": "2022-07-28T16:47:36.272418",
     "exception": false,
     "start_time": "2022-07-28T16:47:36.198812",
     "status": "completed"
    },
    "tags": []
   },
   "outputs": [],
   "source": [
    "# text"
   ]
  },
  {
   "cell_type": "code",
   "execution_count": null,
   "id": "534efd61",
   "metadata": {
    "execution": {
     "iopub.execute_input": "2022-04-11T15:02:33.300092Z",
     "iopub.status.busy": "2022-04-11T15:02:33.299778Z",
     "iopub.status.idle": "2022-04-11T15:02:33.30711Z",
     "shell.execute_reply": "2022-04-11T15:02:33.306345Z",
     "shell.execute_reply.started": "2022-04-11T15:02:33.300061Z"
    },
    "papermill": {
     "duration": 0.066279,
     "end_time": "2022-07-28T16:47:36.405873",
     "exception": false,
     "start_time": "2022-07-28T16:47:36.339594",
     "status": "completed"
    },
    "tags": []
   },
   "outputs": [],
   "source": []
  },
  {
   "cell_type": "code",
   "execution_count": 23,
   "id": "017e44f9",
   "metadata": {
    "execution": {
     "iopub.execute_input": "2022-07-28T16:47:36.545891Z",
     "iopub.status.busy": "2022-07-28T16:47:36.545224Z",
     "iopub.status.idle": "2022-07-28T16:47:36.548116Z",
     "shell.execute_reply": "2022-07-28T16:47:36.548731Z",
     "shell.execute_reply.started": "2022-04-11T16:21:02.863037Z"
    },
    "papermill": {
     "duration": 0.074455,
     "end_time": "2022-07-28T16:47:36.548929",
     "exception": false,
     "start_time": "2022-07-28T16:47:36.474474",
     "status": "completed"
    },
    "tags": []
   },
   "outputs": [],
   "source": [
    "# import spacy\n",
    "# nlp = spacy.load('en_core_web_sm')"
   ]
  },
  {
   "cell_type": "code",
   "execution_count": 24,
   "id": "a002a430",
   "metadata": {
    "execution": {
     "iopub.execute_input": "2022-07-28T16:47:36.694719Z",
     "iopub.status.busy": "2022-07-28T16:47:36.694053Z",
     "iopub.status.idle": "2022-07-28T16:47:36.696873Z",
     "shell.execute_reply": "2022-07-28T16:47:36.697523Z",
     "shell.execute_reply.started": "2022-04-09T12:19:47.776612Z"
    },
    "papermill": {
     "duration": 0.080469,
     "end_time": "2022-07-28T16:47:36.697733",
     "exception": false,
     "start_time": "2022-07-28T16:47:36.617264",
     "status": "completed"
    },
    "tags": []
   },
   "outputs": [],
   "source": [
    "# !pip install PyPDF2\n",
    "# import PyPDF2\n",
    "# fhandle = open(r'/kaggle/input/sample-pdf/D8communications.pdf', 'rb')\n",
    "# pdfReader = PyPDF2.PdfFileReader(fhandle)\n",
    "# pagehandle = pdfReader.getPage(4)\n",
    "# print(pagehandle.extractText())"
   ]
  },
  {
   "cell_type": "code",
   "execution_count": 25,
   "id": "3d3803b1",
   "metadata": {
    "execution": {
     "iopub.execute_input": "2022-07-28T16:47:36.838209Z",
     "iopub.status.busy": "2022-07-28T16:47:36.837461Z",
     "iopub.status.idle": "2022-07-28T16:47:36.840608Z",
     "shell.execute_reply": "2022-07-28T16:47:36.841178Z",
     "shell.execute_reply.started": "2022-04-09T12:25:37.701467Z"
    },
    "papermill": {
     "duration": 0.076518,
     "end_time": "2022-07-28T16:47:36.841382",
     "exception": false,
     "start_time": "2022-07-28T16:47:36.764864",
     "status": "completed"
    },
    "tags": []
   },
   "outputs": [],
   "source": [
    "# !pip install pdfplumber\n",
    "# import pdfplumber\n",
    "# with pdfplumber.open(r'/kaggle/input/sample-pdf/D8communications.pdf') as pdf:\n",
    "#     first_page = pdf.pages[3]\n",
    "#     print(first_page.extract_text())"
   ]
  },
  {
   "cell_type": "code",
   "execution_count": 26,
   "id": "c06fc22b",
   "metadata": {
    "execution": {
     "iopub.execute_input": "2022-07-28T16:47:36.979632Z",
     "iopub.status.busy": "2022-07-28T16:47:36.978869Z",
     "iopub.status.idle": "2022-07-28T16:47:36.982312Z",
     "shell.execute_reply": "2022-07-28T16:47:36.982907Z",
     "shell.execute_reply.started": "2022-04-09T12:25:49.584635Z"
    },
    "papermill": {
     "duration": 0.074527,
     "end_time": "2022-07-28T16:47:36.983142",
     "exception": false,
     "start_time": "2022-07-28T16:47:36.908615",
     "status": "completed"
    },
    "tags": []
   },
   "outputs": [],
   "source": [
    "# !pip install pytesseract"
   ]
  },
  {
   "cell_type": "code",
   "execution_count": 27,
   "id": "ee931897",
   "metadata": {
    "execution": {
     "iopub.execute_input": "2022-07-28T16:47:37.124774Z",
     "iopub.status.busy": "2022-07-28T16:47:37.123759Z",
     "iopub.status.idle": "2022-07-28T16:47:37.126522Z",
     "shell.execute_reply": "2022-07-28T16:47:37.125964Z",
     "shell.execute_reply.started": "2022-04-09T14:49:10.656812Z"
    },
    "papermill": {
     "duration": 0.074344,
     "end_time": "2022-07-28T16:47:37.126691",
     "exception": false,
     "start_time": "2022-07-28T16:47:37.052347",
     "status": "completed"
    },
    "tags": []
   },
   "outputs": [],
   "source": [
    "# #!pip install pdf2image\n",
    "# !pip install poppler"
   ]
  },
  {
   "cell_type": "code",
   "execution_count": 28,
   "id": "8db28467",
   "metadata": {
    "execution": {
     "iopub.execute_input": "2022-07-28T16:47:37.266770Z",
     "iopub.status.busy": "2022-07-28T16:47:37.265699Z",
     "iopub.status.idle": "2022-07-28T16:47:37.268207Z",
     "shell.execute_reply": "2022-07-28T16:47:37.268692Z",
     "shell.execute_reply.started": "2022-04-09T14:57:24.756677Z"
    },
    "papermill": {
     "duration": 0.075024,
     "end_time": "2022-07-28T16:47:37.268906",
     "exception": false,
     "start_time": "2022-07-28T16:47:37.193882",
     "status": "completed"
    },
    "tags": []
   },
   "outputs": [],
   "source": [
    "# pdf2image.convert_from_path('/kaggle/input/sample-pdf/D8communications.pdf')"
   ]
  },
  {
   "cell_type": "code",
   "execution_count": 29,
   "id": "3867a7e0",
   "metadata": {
    "execution": {
     "iopub.execute_input": "2022-07-28T16:47:37.411641Z",
     "iopub.status.busy": "2022-07-28T16:47:37.410560Z",
     "iopub.status.idle": "2022-07-28T16:47:37.412534Z",
     "shell.execute_reply": "2022-07-28T16:47:37.413064Z",
     "shell.execute_reply.started": "2022-04-09T14:57:17.576149Z"
    },
    "papermill": {
     "duration": 0.076856,
     "end_time": "2022-07-28T16:47:37.413261",
     "exception": false,
     "start_time": "2022-07-28T16:47:37.336405",
     "status": "completed"
    },
    "tags": []
   },
   "outputs": [],
   "source": [
    "# import pdf2image\n",
    "# try:\n",
    "#     from PIL import Image\n",
    "# except ImportError:\n",
    "#     import Image\n",
    "# import pytesseract\n",
    "\n",
    "\n",
    "# def pdf_to_img(pdf_file):\n",
    "#     return pdf2image.convert_from_path(pdf_file)\n",
    "\n",
    "\n",
    "# def ocr_core(file):\n",
    "#     text = pytesseract.image_to_string(file)\n",
    "#     return text\n",
    "\n",
    "\n",
    "# def print_pages(pdf_file):\n",
    "#     images = pdf_to_img(pdf_file)\n",
    "#     for pg, img in enumerate(images):\n",
    "#         print(ocr_core(img))\n",
    "\n",
    "\n",
    "# print_pages('/kaggle/input/sample-pdf/D8communications.pdf')\n"
   ]
  },
  {
   "cell_type": "code",
   "execution_count": 30,
   "id": "98b4c6a0",
   "metadata": {
    "execution": {
     "iopub.execute_input": "2022-07-28T16:47:37.555075Z",
     "iopub.status.busy": "2022-07-28T16:47:37.553888Z",
     "iopub.status.idle": "2022-07-28T16:47:37.556163Z",
     "shell.execute_reply": "2022-07-28T16:47:37.556823Z"
    },
    "papermill": {
     "duration": 0.075357,
     "end_time": "2022-07-28T16:47:37.557065",
     "exception": false,
     "start_time": "2022-07-28T16:47:37.481708",
     "status": "completed"
    },
    "tags": []
   },
   "outputs": [],
   "source": [
    "# import requests\n",
    "# import fitz\n",
    "# import io\n",
    "\n",
    "# #URL = 'https://buildmedia.readthedocs.org/media/pdf/pdfminer-docs/latest/pdfminer-docs.pdf'\n",
    "# URL = 'https://redactable-devox-stage.s3.us-east-2.amazonaws.com/tenants/41d9e109-693b-444c-aa18-e5891bc6550b/original/1a7c0e5d-3237-4ca9-9e3d-89e707245ac6/D8communications.pdf'\n",
    "\n",
    "\n",
    "# res = requests.get(URL)\n",
    "# filestream = io.BytesIO(res.content)\n",
    "# #res.content\n",
    "# filestream\n",
    "# doc = fitz.Document(stream=filestream)\n",
    "# page1 = doc.loadPage(3)\n",
    "# page1text = page1.getText(\"text\").encode(\"utf-8\").decode(\"utf-8\")\n",
    "# print(page1text)"
   ]
  },
  {
   "cell_type": "code",
   "execution_count": 31,
   "id": "b52728a6",
   "metadata": {
    "execution": {
     "iopub.execute_input": "2022-07-28T16:47:37.698200Z",
     "iopub.status.busy": "2022-07-28T16:47:37.697140Z",
     "iopub.status.idle": "2022-07-28T16:47:37.702600Z",
     "shell.execute_reply": "2022-07-28T16:47:37.701991Z",
     "shell.execute_reply.started": "2022-04-09T07:04:56.590103Z"
    },
    "papermill": {
     "duration": 0.078418,
     "end_time": "2022-07-28T16:47:37.702772",
     "exception": false,
     "start_time": "2022-07-28T16:47:37.624354",
     "status": "completed"
    },
    "tags": []
   },
   "outputs": [],
   "source": [
    "# import requests\n",
    "# import fitz\n",
    "\n",
    "# #URL = 'https://buildmedia.readthedocs.org/media/pdf/pdfminer-docs/latest/pdfminer-docs.pdf'\n",
    "# URL = 'https://redactable-devox-stage.s3.us-east-2.amazonaws.com/tenants/41d9e109-693b-444c-aa18-e5891bc6550b/original/1a7c0e5d-3237-4ca9-9e3d-89e707245ac6/D8communications.pdf'\n",
    "\n",
    "\n",
    "# res = requests.get(URL)\n",
    "# doc = fitz.open(stream=res.content,filetype=\"pdf\")\n",
    "# page1 = doc.loadPage(3)\n",
    "# page1text = page1.getText(\"text\")\n",
    "# #rect = (72.1149,661.2966,131.95729,675.1716)\n",
    "# rect=(72.10812377929688, 116.13427734375, 133.97142028808594, 146.4227294921875)\n",
    "# labelled_text = page1.get_textbox(rect)\n",
    "# print(labelled_text.strip())\n",
    "\n",
    "# fulltext = page1.get_text()\n",
    "# print(fulltext)\n",
    "# doc = nlp(fulltext)\n",
    "# sentences = []\n",
    "# for sent in doc.sents:\n",
    "#     if labelled_text in sent.text:\n",
    "#         text = sent.text\n",
    "#         print(text)\n",
    "# #print(page1text)"
   ]
  },
  {
   "cell_type": "code",
   "execution_count": 32,
   "id": "88d57d70",
   "metadata": {
    "execution": {
     "iopub.execute_input": "2022-07-28T16:47:37.844861Z",
     "iopub.status.busy": "2022-07-28T16:47:37.843797Z",
     "iopub.status.idle": "2022-07-28T16:47:37.847355Z",
     "shell.execute_reply": "2022-07-28T16:47:37.848014Z",
     "shell.execute_reply.started": "2022-04-08T16:42:57.6659Z"
    },
    "papermill": {
     "duration": 0.074999,
     "end_time": "2022-07-28T16:47:37.848226",
     "exception": false,
     "start_time": "2022-07-28T16:47:37.773227",
     "status": "completed"
    },
    "tags": []
   },
   "outputs": [],
   "source": [
    "#res.content"
   ]
  },
  {
   "cell_type": "code",
   "execution_count": 33,
   "id": "c9de656f",
   "metadata": {
    "execution": {
     "iopub.execute_input": "2022-07-28T16:47:37.988427Z",
     "iopub.status.busy": "2022-07-28T16:47:37.987286Z",
     "iopub.status.idle": "2022-07-28T16:47:37.992089Z",
     "shell.execute_reply": "2022-07-28T16:47:37.992704Z",
     "shell.execute_reply.started": "2022-04-08T16:48:05.672392Z"
    },
    "papermill": {
     "duration": 0.076769,
     "end_time": "2022-07-28T16:47:37.992910",
     "exception": false,
     "start_time": "2022-07-28T16:47:37.916141",
     "status": "completed"
    },
    "tags": []
   },
   "outputs": [],
   "source": [
    "# import fitz\n",
    "# # mem_area=\n",
    "# # doc = fitz.open(stream=mem_area, filetype=\"pdf\")\n",
    "\n",
    "# import requests\n",
    "\n",
    "# URL = 'https://redactable-devox-stage.s3.us-east-2.amazonaws.com/tenants/41d9e109-693b-444c-aa18-e5891bc6550b/original/1a7c0e5d-3237-4ca9-9e3d-89e707245ac6/D8communications.pdf'\n",
    "\n",
    "# #res = requests.get(URL)\n",
    "# doc=fitz.open(\"/kaggle/input/sample-pdf/D8communications.pdf\")\n",
    "# #doc = fitz.open(stream=res.content,filetype=\"pdf\")\n",
    "# page1 = doc.loadPage(4)\n",
    "# # page1text = page1.getText(\"text\")\n",
    "# # print(page1text)\n",
    "# blocks = page1.getText(\"blocks\")\n",
    "# blocks.sort(key=lambda block: block[1])  # sort vertically ascending\n",
    "\n",
    "# for b in blocks:\n",
    "#     print(b[4])\n"
   ]
  },
  {
   "cell_type": "code",
   "execution_count": 34,
   "id": "d007c0a7",
   "metadata": {
    "execution": {
     "iopub.execute_input": "2022-07-28T16:47:38.135181Z",
     "iopub.status.busy": "2022-07-28T16:47:38.134132Z",
     "iopub.status.idle": "2022-07-28T16:47:38.137555Z",
     "shell.execute_reply": "2022-07-28T16:47:38.138220Z",
     "shell.execute_reply.started": "2022-04-08T16:48:13.086323Z"
    },
    "papermill": {
     "duration": 0.075431,
     "end_time": "2022-07-28T16:47:38.138425",
     "exception": false,
     "start_time": "2022-07-28T16:47:38.062994",
     "status": "completed"
    },
    "tags": []
   },
   "outputs": [],
   "source": [
    "# # page = doc[1]\n",
    "# words = page.get_text(\"words\")\n",
    "# #print(words)\n",
    "# rect = (72.1149,661.2966,131.95729,675.1716)\n",
    "\n",
    "# labelled_text = page.get_textbox(rect)\n",
    "# # labelled_text"
   ]
  },
  {
   "cell_type": "markdown",
   "id": "75546532",
   "metadata": {
    "papermill": {
     "duration": 0.066494,
     "end_time": "2022-07-28T16:47:38.273374",
     "exception": false,
     "start_time": "2022-07-28T16:47:38.206880",
     "status": "completed"
    },
    "tags": []
   },
   "source": [
    "pip install PyPDF2"
   ]
  },
  {
   "cell_type": "code",
   "execution_count": null,
   "id": "2ac9ae92",
   "metadata": {
    "papermill": {
     "duration": 0.066525,
     "end_time": "2022-07-28T16:47:38.407394",
     "exception": false,
     "start_time": "2022-07-28T16:47:38.340869",
     "status": "completed"
    },
    "tags": []
   },
   "outputs": [],
   "source": []
  },
  {
   "cell_type": "code",
   "execution_count": 35,
   "id": "fdbd699c",
   "metadata": {
    "execution": {
     "iopub.execute_input": "2022-07-28T16:47:38.551686Z",
     "iopub.status.busy": "2022-07-28T16:47:38.550563Z",
     "iopub.status.idle": "2022-07-28T16:47:38.552564Z",
     "shell.execute_reply": "2022-07-28T16:47:38.553134Z",
     "shell.execute_reply.started": "2022-03-18T16:48:58.370268Z"
    },
    "papermill": {
     "duration": 0.074517,
     "end_time": "2022-07-28T16:47:38.553348",
     "exception": false,
     "start_time": "2022-07-28T16:47:38.478831",
     "status": "completed"
    },
    "tags": []
   },
   "outputs": [],
   "source": [
    "# import pandas as pd\n",
    "# h={'step': 0, 'type': 'string', 'amount': 0.0, 'nameOrig': 'C1231006815', 'oldbalanceOrig': 0.0, 'newbalanceOrig': 0.0, 'nameDest': 'M1979787155', 'oldbalanceDest': 0.0, 'newbalanceDest': 0.0}\n",
    "# df=pd.DataFrame([h])"
   ]
  },
  {
   "cell_type": "code",
   "execution_count": 36,
   "id": "a05179ab",
   "metadata": {
    "execution": {
     "iopub.execute_input": "2022-07-28T16:47:38.693159Z",
     "iopub.status.busy": "2022-07-28T16:47:38.692100Z",
     "iopub.status.idle": "2022-07-28T16:47:38.695567Z",
     "shell.execute_reply": "2022-07-28T16:47:38.696251Z",
     "shell.execute_reply.started": "2022-04-09T17:21:26.021615Z"
    },
    "papermill": {
     "duration": 0.075889,
     "end_time": "2022-07-28T16:47:38.696465",
     "exception": false,
     "start_time": "2022-07-28T16:47:38.620576",
     "status": "completed"
    },
    "tags": []
   },
   "outputs": [],
   "source": [
    "#df"
   ]
  },
  {
   "cell_type": "code",
   "execution_count": null,
   "id": "42afbc0f",
   "metadata": {
    "papermill": {
     "duration": 0.066686,
     "end_time": "2022-07-28T16:47:38.832142",
     "exception": false,
     "start_time": "2022-07-28T16:47:38.765456",
     "status": "completed"
    },
    "tags": []
   },
   "outputs": [],
   "source": []
  }
 ],
 "metadata": {
  "kernelspec": {
   "display_name": "Python 3",
   "language": "python",
   "name": "python3"
  },
  "language_info": {
   "codemirror_mode": {
    "name": "ipython",
    "version": 3
   },
   "file_extension": ".py",
   "mimetype": "text/x-python",
   "name": "python",
   "nbconvert_exporter": "python",
   "pygments_lexer": "ipython3",
   "version": "3.7.12"
  },
  "papermill": {
   "default_parameters": {},
   "duration": 25.24271,
   "end_time": "2022-07-28T16:47:39.823574",
   "environment_variables": {},
   "exception": null,
   "input_path": "__notebook__.ipynb",
   "output_path": "__notebook__.ipynb",
   "parameters": {},
   "start_time": "2022-07-28T16:47:14.580864",
   "version": "2.3.3"
  }
 },
 "nbformat": 4,
 "nbformat_minor": 5
}
