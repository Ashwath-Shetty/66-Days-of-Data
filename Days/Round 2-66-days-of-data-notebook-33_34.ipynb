{
 "cells": [
  {
   "cell_type": "code",
   "execution_count": 1,
   "id": "1750ec1b",
   "metadata": {
    "_cell_guid": "b1076dfc-b9ad-4769-8c92-a6c4dae69d19",
    "_uuid": "8f2839f25d086af736a60e9eeb907d3b93b6e0e5",
    "execution": {
     "iopub.execute_input": "2022-04-14T16:41:42.576552Z",
     "iopub.status.busy": "2022-04-14T16:41:42.575342Z",
     "iopub.status.idle": "2022-04-14T16:41:42.595644Z",
     "shell.execute_reply": "2022-04-14T16:41:42.596200Z",
     "shell.execute_reply.started": "2022-04-12T14:12:25.248687Z"
    },
    "papermill": {
     "duration": 0.086766,
     "end_time": "2022-04-14T16:41:42.596480",
     "exception": false,
     "start_time": "2022-04-14T16:41:42.509714",
     "status": "completed"
    },
    "tags": []
   },
   "outputs": [
    {
     "name": "stdout",
     "output_type": "stream",
     "text": [
      "/kaggle/input/sample-pdf/D8communications.pdf\n"
     ]
    }
   ],
   "source": [
    "# This Python 3 environment comes with many helpful analytics libraries installed\n",
    "# It is defined by the kaggle/python Docker image: https://github.com/kaggle/docker-python\n",
    "# For example, here's several helpful packages to load\n",
    "\n",
    "import numpy as np # linear algebra\n",
    "import pandas as pd # data processing, CSV file I/O (e.g. pd.read_csv)\n",
    "\n",
    "# Input data files are available in the read-only \"../input/\" directory\n",
    "# For example, running this (by clicking run or pressing Shift+Enter) will list all files under the input directory\n",
    "\n",
    "import os\n",
    "for dirname, _, filenames in os.walk('/kaggle/input'):\n",
    "    for filename in filenames:\n",
    "        print(os.path.join(dirname, filename))\n",
    "\n",
    "# You can write up to 20GB to the current directory (/kaggle/working/) that gets preserved as output when you create a version using \"Save & Run All\" \n",
    "# You can also write temporary files to /kaggle/temp/, but they won't be saved outside of the current session"
   ]
  },
  {
   "cell_type": "markdown",
   "id": "ef2691f0",
   "metadata": {
    "papermill": {
     "duration": 0.057129,
     "end_time": "2022-04-14T16:41:42.713138",
     "exception": false,
     "start_time": "2022-04-14T16:41:42.656009",
     "status": "completed"
    },
    "tags": []
   },
   "source": [
    "# **Start Date: 12/3/2022**"
   ]
  },
  {
   "cell_type": "markdown",
   "id": "5031e3c1",
   "metadata": {
    "papermill": {
     "duration": 0.058055,
     "end_time": "2022-04-14T16:41:42.828997",
     "exception": false,
     "start_time": "2022-04-14T16:41:42.770942",
     "status": "completed"
    },
    "tags": []
   },
   "source": [
    "# **Day 1:** \n",
    "<br>dataquest -> stats -> probability-> estimating probability\n",
    "1. out come is nothing but o/p of an experiment\n",
    "ex: whatever u get after rolling a dice -> it can be any number\n",
    "2. event can have more than one outcome\n",
    "- e.x: The event that we'll get an odd number when we roll a six-sided die — this event includes the outcomes 1, 3, and 5.\n",
    "- an event can be 0 as well.\n",
    "- We always assign probabilities to events, not outcomes, even if the event includes only one outcome.\n",
    "- P(E) =1/total number of possible outcomes, P(E) probability of an event happening.\n",
    "- but above formula doesn't work always, especially when there are more than one outcome\n",
    "    - P(E)=number of successful outcomes/total number of possible outcomes\n",
    "- incase of a biased situation \n",
    "  - let's say a die has 6 - 3 times which is 1,6,3,5,6,6\n",
    "    we will consider 6 as 3 times not 1.\n",
    "    possible outcome-> 1,3,5,6,6,6\n",
    "    prob(6)=3/6\n",
    "    prob(3)=1/6\n",
    "    prob(2)=0/6\n",
    "    If we didn't treat each 6 differently and said it doesn't matter which side a 6 is on, \n",
    "    <br>we'd be forced to conclude the only possible outcomes are 1, 3, 5 and 6. We can definitely         <br>frame the problem like that, but the formula above won't work anymore — we see below P(6) <br>becomes the same as P(3), but, intuitively, P(6) should be higher than P(3) since the die has 6 on     <br>three of its sides:\n"
   ]
  },
  {
   "cell_type": "markdown",
   "id": "9de6c10c",
   "metadata": {
    "papermill": {
     "duration": 0.059266,
     "end_time": "2022-04-14T16:41:42.947563",
     "exception": false,
     "start_time": "2022-04-14T16:41:42.888297",
     "status": "completed"
    },
    "tags": []
   },
   "source": [
    "Estimating Probabilities Conclusion\n",
    "- emperical/ experimental probability\n",
    "  - probability achieved by experimenting / by doing the same event multiple times.\n",
    "  - Generally, for any event E (like a coin landing heads up), we can find its empirical probability   \n",
    "     by using the following formula: \n",
    "     •P (E) =number of times event E happened/ number of times we repeated the experiment   \n",
    " - Generally, the empirical probability of an event (a coin landing heads up, getting a 5 when weroll a die) approaches the true probability value as the number of trials of the randomexperiment (a coin toss, the rolling of a die) increases without bound.\n",
    "- When we calculate the probability of an event under the assumption that the outcomes have equal chances of occurring, we say that we're calculating the **theoretical probability** of an event.\n",
    "   - P(E)=number of successful outcomes/total number of possible outcomes\n",
    "\n"
   ]
  },
  {
   "cell_type": "markdown",
   "id": "7d0a8e02",
   "metadata": {
    "papermill": {
     "duration": 0.063921,
     "end_time": "2022-04-14T16:41:43.069620",
     "exception": false,
     "start_time": "2022-04-14T16:41:43.005699",
     "status": "completed"
    },
    "tags": []
   },
   "source": [
    "# **Day 2**\n",
    "<br>dataquest-> stats -> intro to probability -> probability rules\n",
    "<br>In probability theory, the set of all possible outcomes is called a sample space. A sample space is often denoted by the capital Greek letter Ω (read \"omega\"). This is how we represent the sample space of a die roll:\n",
    "\n",
    "Ω = {1,2,3,4,5,6}\n",
    "-    The probability of any event ranges between 0 and 1: 0≤ P(Event) ≤1\n",
    "- To calculate P(A or B), we can also use the formula below, which is sometimes called the addition rule: P(A or B) = P(A) + P(B)\n",
    "  - Sample space ={ 1,2,3,4,5,6} \n",
    "  - P(2 or 5) = 2/6\n",
    "\n",
    "- P(C or D) = P(C) + P(D) - P(C and D)\n",
    "   - e.x : Sample_space ={2,4,6} + { 4,5,6} - {4/6}\n",
    "      P( even number or number greater than 3) = ( (3/6) + (3/6) )- (2/6) = 4/6\n",
    "- Events that don't intersect are called mutually exclusive.\n",
    "  - e.x: Getting a 5 (event one) and getting a 3 (event two) when we roll a regular six-sided die — it's  impossible to get both a 5 and 3.\n",
    "- Events that intersect are called mutually non-exclusive.\n",
    "  - Getting a number greater than 2 (event one) and getting an odd number (event two) when we roll a regular six-sided die — we could get a 5, which is both greater than 2 (event one) and odd (event two).\n",
    "- unioun -> A or B, intersection -> A and B"
   ]
  },
  {
   "cell_type": "markdown",
   "id": "e2eed21e",
   "metadata": {
    "papermill": {
     "duration": 0.072132,
     "end_time": "2022-04-14T16:41:43.214715",
     "exception": false,
     "start_time": "2022-04-14T16:41:43.142583",
     "status": "completed"
    },
    "tags": []
   },
   "source": [
    "# Day 3 and 4\n",
    "dataquest -> stats -> probabilities -> solving complex probabilities\n",
    "- This is the same result we got from our previous approach. In more general terms, the multiplication rule says that for two events E1 and E2, the probability that both event E1 and E2 happen can be found by multiplying the probability of E1 by the probability of E2:\n",
    "    - P(E1 ∩ E2) = P(E1) × P(E2)\n",
    "    - Events that don't influence each other's probability are called independent events. If H1 happens, P(H2) stays the same, so H1 and H2 are independent. The multiplication rule we learned only works for independent events.\n",
    "    "
   ]
  },
  {
   "cell_type": "markdown",
   "id": "892fb1c9",
   "metadata": {
    "papermill": {
     "duration": 0.057972,
     "end_time": "2022-04-14T16:41:43.332249",
     "exception": false,
     "start_time": "2022-04-14T16:41:43.274277",
     "status": "completed"
    },
    "tags": []
   },
   "source": [
    "# Day 5\n",
    "- When we replace the cards after drawing, we say that we're sampling with replacement. When we don't put the cards back, we're sampling without replacement. \n"
   ]
  },
  {
   "cell_type": "markdown",
   "id": "befe17c2",
   "metadata": {
    "papermill": {
     "duration": 0.057783,
     "end_time": "2022-04-14T16:41:43.448163",
     "exception": false,
     "start_time": "2022-04-14T16:41:43.390380",
     "status": "completed"
    },
    "tags": []
   },
   "source": [
    "# Day6\n",
    "dataquest-> prob and stats -> probability fundamentals -> permutation and combinations\n",
    "Generally, if we have an experiment E1 (like flipping a coin) with a outcomes, followed by an experiment E2 (like rolling a die) with b outcomes, then the total number of outcomes for the composite experiment E1E2 can be found by multiplying a with b:\n",
    "\n",
    "Number of outcomes = a * b"
   ]
  },
  {
   "cell_type": "markdown",
   "id": "7711e482",
   "metadata": {
    "papermill": {
     "duration": 0.057484,
     "end_time": "2022-04-14T16:41:43.564021",
     "exception": false,
     "start_time": "2022-04-14T16:41:43.506537",
     "status": "completed"
    },
    "tags": []
   },
   "source": [
    "# Day 7\n",
    "dataquest-> prob and stats -> probability fundamentals -> permutation and combinations <br>\n",
    "More generally, if we have an experiment E1 with a outcomes, followed by an experiment E2 with b outcomes, followed by an experiment En with z outcomes, the total number of outcomes for the composite experiment E1E2 ... En can be found by multiplying their individual outcomes:\n",
    "\n",
    "Number of outcomes= a * b * … * z"
   ]
  },
  {
   "cell_type": "markdown",
   "id": "e7ec57b3",
   "metadata": {
    "papermill": {
     "duration": 0.057779,
     "end_time": "2022-04-14T16:41:43.679202",
     "exception": false,
     "start_time": "2022-04-14T16:41:43.621423",
     "status": "completed"
    },
    "tags": []
   },
   "source": [
    "# Day 8\n",
    "dataquest-> prob and stats -> probability fundamentals -> permutation and combinations <br>\n",
    "permutations= n*(n-1)*(n-2)*....*2*1\n"
   ]
  },
  {
   "cell_type": "markdown",
   "id": "13bba38b",
   "metadata": {
    "papermill": {
     "duration": 0.057187,
     "end_time": "2022-04-14T16:41:43.794122",
     "exception": false,
     "start_time": "2022-04-14T16:41:43.736935",
     "status": "completed"
    },
    "tags": []
   },
   "source": [
    "# Day 9\n",
    "dataquest-> prob and stats -> probability fundamentals -> permutation and combinations\n",
    "- in permutation order of the individual element in the arranement matters.\n",
    "   - for e.x: 9821 is different than 9281\n",
    "   - Permutations =n!  --> sample without replacement-> we are not putting back the sampled data.\n",
    "   - On the last screen, we learned to use the formula below to calculate permutations when we're sampling without replacement and taking only k objects from a group of n objects:\n",
    "   npk=n!/(n-k)!"
   ]
  },
  {
   "cell_type": "markdown",
   "id": "baa6936d",
   "metadata": {
    "papermill": {
     "duration": 0.057507,
     "end_time": "2022-04-14T16:41:43.909304",
     "exception": false,
     "start_time": "2022-04-14T16:41:43.851797",
     "status": "completed"
    },
    "tags": []
   },
   "source": [
    "# Day 10\n",
    "dataquest-> prob and stats -> probability fundamentals -> permutation and combinations\n",
    "- More generally, if the order of the elements in an arrangement doesn't matter, the arrangement is called a combination.\n",
    "- e.x: cards in a deck \n",
    "- nCk = n! / ((n-k)!*k!)"
   ]
  },
  {
   "cell_type": "markdown",
   "id": "85696fd2",
   "metadata": {
    "papermill": {
     "duration": 0.063012,
     "end_time": "2022-04-14T16:41:44.032158",
     "exception": false,
     "start_time": "2022-04-14T16:41:43.969146",
     "status": "completed"
    },
    "tags": []
   },
   "source": [
    "# Day 11\n",
    "dataquest-> prob and stats -> probability fundamentals -> permutation and combinations\n",
    "- solved 1 probability problem.\n"
   ]
  },
  {
   "cell_type": "markdown",
   "id": "7fdc24f6",
   "metadata": {
    "papermill": {
     "duration": 0.057978,
     "end_time": "2022-04-14T16:41:44.148939",
     "exception": false,
     "start_time": "2022-04-14T16:41:44.090961",
     "status": "completed"
    },
    "tags": []
   },
   "source": [
    "# Day 12\n",
    "dataquest-> prob and stats -> probability fundamentals -> permutation and combinations\n",
    "- finished probability and permutations by revising them.\n",
    "- If we have an experiment E1 (like flipping a coin) with a outcomes, followed by an experiment E2(like rolling a die) with b outcomes, then the total number of outcomes for the compositeexperiment E1E2 can be found by multiplying a with b (this is known as the rule of product):\n",
    "  - number of outcomes = a*b\n",
    "- If we have an experiment E1 with a outcomes, followed by an experiment E2 with b outcomes,followed by an experiment En with z outcomes, the total number of outcomes for the compositeexperiment E1E2 ... En can be found by multiplying their individual outcomes:\n",
    "   - number of outcomes = a*b* ... *z\n",
    "- There are two kinds of arrangements:\n",
    "   - •Arrangements where the order matters, which we call permutations.\n",
    "   - •Arrangements where the order doesn't matter, which we call combination\n",
    "- To find the number of permutations when we're sampling without replacement, we can use theformula:\n",
    "  - permutation = n!\n",
    "- To find the number of permutations when we're sampling without replacement and taking only kobjects from a group of n objects, we can use the formula:\n",
    "  - nPk = n!/(n-k)!\n",
    "- To find the number of combinations when we're sampling without replacement and taking only kobjects from a group of n objects, we can use the formula\n",
    "  - nCk = n! / ((n-k)!*k!)"
   ]
  },
  {
   "cell_type": "markdown",
   "id": "bea1da51",
   "metadata": {
    "papermill": {
     "duration": 0.057929,
     "end_time": "2022-04-14T16:41:44.264929",
     "exception": false,
     "start_time": "2022-04-14T16:41:44.207000",
     "status": "completed"
    },
    "tags": []
   },
   "source": [
    "# Day 13\n",
    "dataquest-> prob and stats -> probability fundamentals -> conditional probabilities\n",
    "- first 2 slides -> mainly the recap of old chapter(above one).\n"
   ]
  },
  {
   "cell_type": "markdown",
   "id": "e972bf55",
   "metadata": {
    "papermill": {
     "duration": 0.057484,
     "end_time": "2022-04-14T16:41:44.381698",
     "exception": false,
     "start_time": "2022-04-14T16:41:44.324214",
     "status": "completed"
    },
    "tags": []
   },
   "source": [
    "# Day 14\n",
    "dataquest-> prob and stats -> probability fundamentals -> conditional probabilities\n",
    "<br>slide 4 completed\n",
    "<br>conditional probabilities\n",
    "- probabilities with condition\n",
    "- P(5)=What is the probability of getting a 5? -> normal probability\n",
    "- P(5 | odd) =What is the probability of getting a 5 given the die showed an odd number? -> conditional prob.\n",
    "\n"
   ]
  },
  {
   "cell_type": "markdown",
   "id": "17761a91",
   "metadata": {
    "papermill": {
     "duration": 0.057924,
     "end_time": "2022-04-14T16:41:44.498889",
     "exception": false,
     "start_time": "2022-04-14T16:41:44.440965",
     "status": "completed"
    },
    "tags": []
   },
   "source": [
    "# Day 15\n",
    "dataquest-> prob and stats -> probability fundamentals -> conditional probabilities\n",
    "- on slide 5 not done yet.\n",
    "\n",
    "Say we roll a fair six-sided die and want to find the probability of getting an odd number, given the die showed a number greater than 1 after landing. Using probability notation, we want to find P(A|B) where:\n",
    "\n",
    "- A is the event that the number is odd: A = {1, 3, 5}\n",
    "- B is the event that the number is greater than 1: B = {2, 3, 4, 5, 6}\n",
    "- P(A/B)=number of succesfull outcomes / total number of outcomes.\n"
   ]
  },
  {
   "cell_type": "markdown",
   "id": "b4736b6f",
   "metadata": {
    "papermill": {
     "duration": 0.057645,
     "end_time": "2022-04-14T16:41:44.614527",
     "exception": false,
     "start_time": "2022-04-14T16:41:44.556882",
     "status": "completed"
    },
    "tags": []
   },
   "source": [
    "# Day 16 and 17\n",
    "dataquest-> prob and stats -> probability fundamentals -> conditional probabilities\n",
    "\n",
    "on slide 6 not done yet."
   ]
  },
  {
   "cell_type": "markdown",
   "id": "c924b2b4",
   "metadata": {
    "papermill": {
     "duration": 0.057932,
     "end_time": "2022-04-14T16:41:44.730886",
     "exception": false,
     "start_time": "2022-04-14T16:41:44.672954",
     "status": "completed"
    },
    "tags": []
   },
   "source": [
    "# Day 18\n",
    "dataquest-> prob and stats -> probability fundamentals -> conditional probabilities\n",
    "<br>slide 5 code half done"
   ]
  },
  {
   "cell_type": "markdown",
   "id": "4d58e836",
   "metadata": {
    "papermill": {
     "duration": 0.057572,
     "end_time": "2022-04-14T16:41:44.846696",
     "exception": false,
     "start_time": "2022-04-14T16:41:44.789124",
     "status": "completed"
    },
    "tags": []
   },
   "source": [
    "# Day 19\n",
    "- The number of elements in a set is called the cardinal of the set. \n",
    "  Ω is a set, and the cardinal of \n",
    "   Ω = { 2,3,4,5,6}\n",
    "   cardinal(Ω)=5\n",
    "- P(A | B) = card(A ∩ B) / card(B)\n",
    "- Say we roll a fair six-sided die and want to find the probability of getting an odd number, given the die showed a number greater than 1 after landing. Using probability notation, we want to find P(A|B) where:\n",
    "    - A is the event that the number is odd: A = {1, 3, 5}\n",
    "     - B is the event that the number is greater than 1: B = {2, 3, 4, 5, 6}\n",
    "     - total number of possible outcomes = card({2,3,4,5,6}) =5\n",
    "     - number of successful outcomes = card({3,5})= 2\n",
    "- P(A | B) = card(A ∩ B) / card(B), we can also get the same result using P(A | B) = prob(A ∩ B) / prob(B)\n",
    "\n",
    "     "
   ]
  },
  {
   "cell_type": "markdown",
   "id": "a9a3d44b",
   "metadata": {
    "papermill": {
     "duration": 0.057511,
     "end_time": "2022-04-14T16:41:44.962082",
     "exception": false,
     "start_time": "2022-04-14T16:41:44.904571",
     "status": "completed"
    },
    "tags": []
   },
   "source": [
    "# Day 20\n",
    "dataquest-> prob and stats -> probability fundamentals -> conditional probabilities intermediate\n",
    "<br> slide 1 and 2\n",
    "- P( A | B ) ≠ P(A ∩ B), but rather:\n",
    "   - P(A | B) = P(A ∩ B) / P(B)\n",
    "   - P(A ∩ B) = P(A | B) ⋅ P(B)\n",
    "- Given that a customer bought a laptop, they will or will not also buy a mouse. This means we can be certain that either event (M|L) or (M^C|L) will happen:\n",
    "     - P(M | L) + P(M^C | L) = 1\n",
    "\n"
   ]
  },
  {
   "cell_type": "markdown",
   "id": "f74fe0db",
   "metadata": {
    "papermill": {
     "duration": 0.058924,
     "end_time": "2022-04-14T16:41:45.080448",
     "exception": false,
     "start_time": "2022-04-14T16:41:45.021524",
     "status": "completed"
    },
    "tags": []
   },
   "source": [
    "# Day 21\n",
    "dataquest-> prob and stats -> probability fundamentals -> conditional probabilities intermediate\n",
    "slide 1 and 2\n",
    "- P(A ∩ B) = P(B ∩ A)\n",
    "- multiplication rule of probability\n",
    "  -  P(A ∩ B) = P(B) ⋅ P(A | B) \n",
    "  - P(A ∩ B) = P(A) ⋅ P(B | A)\n",
    "- if P(A) and P(B) are statistically independent then \n",
    "  - P(A ∩ B) = P(A) ⋅ P(B)\n",
    "\n"
   ]
  },
  {
   "cell_type": "markdown",
   "id": "0d56c334",
   "metadata": {
    "papermill": {
     "duration": 0.057744,
     "end_time": "2022-04-14T16:41:45.196096",
     "exception": false,
     "start_time": "2022-04-14T16:41:45.138352",
     "status": "completed"
    },
    "tags": []
   },
   "source": [
    "# Day 22\n",
    "dataquest-> prob and stats -> probability fundamentals -> conditional probabilities intermediate \n",
    "<br>slide 6\n",
    "- If events events A and B are dependent, it means the occurrence of event A changes the probability of event B and vice versa.\n",
    "   - P(A) ≠ P(A | B)\n",
    "   - P(B) ≠ P(B | A)\n",
    "   - P(A ∩ B) ≠ P(A) ⋅ P(B)\n",
    "   - formula will become P(A ∩ B) ≠ P(A) ⋅ P(B/A)\n",
    "   "
   ]
  },
  {
   "cell_type": "markdown",
   "id": "bbed7c44",
   "metadata": {
    "papermill": {
     "duration": 0.058883,
     "end_time": "2022-04-14T16:41:45.314363",
     "exception": false,
     "start_time": "2022-04-14T16:41:45.255480",
     "status": "completed"
    },
    "tags": []
   },
   "source": [
    "# Day 23\n",
    "dataquest-> prob and stats -> probability fundamentals -> conditional probabilities intermediate\n",
    "<br>slide 7 to last\n",
    "- To find whether three events — A, B, C — are independent or not, below conditions must hold true -\n",
    "  - P(A ∩ B) ≠ P(A) ⋅ P(B)\n",
    "  - P(A ∩ C) ≠ P(A) ⋅ P(C)\n",
    "  - P(B ∩ C) ≠ P(B) ⋅ P(C)\n",
    "  - P(A ∩ B ∩ C) ≠ P(A) ⋅ P(B) . P(C)\n",
    "- multiplication rule for conditional probability or dependent events\n",
    " - P(A ∩ B ∩ C) = P(A) ⋅ P(B | A) ⋅ P(C | A ∩ B)\n",
    " \n",
    "\n"
   ]
  },
  {
   "cell_type": "markdown",
   "id": "90d2e961",
   "metadata": {
    "papermill": {
     "duration": 0.057911,
     "end_time": "2022-04-14T16:41:45.430304",
     "exception": false,
     "start_time": "2022-04-14T16:41:45.372393",
     "status": "completed"
    },
    "tags": []
   },
   "source": [
    "# Day 24\n",
    "dataquest-> prob and stats -> probability fundamentals -> bayes theorem\n",
    "<br>slide 1\n",
    "- independent -> one event is dependent on other\n",
    "   - P(A ∩ B) = P(A) ⋅ P(B/A)\n",
    "- independent -> one event is not dependent on other.\n",
    "   - P(A ∩ B) = P(A) ⋅ P(B)\n",
    "- mutually exclusive -> both the events cannot happen at the same time.\n",
    "   - P(A ∩ B) = 0\n",
    "\n"
   ]
  },
  {
   "cell_type": "markdown",
   "id": "18a7431a",
   "metadata": {
    "papermill": {
     "duration": 0.057952,
     "end_time": "2022-04-14T16:41:45.546936",
     "exception": false,
     "start_time": "2022-04-14T16:41:45.488984",
     "status": "completed"
    },
    "tags": []
   },
   "source": [
    "# Day 25\n",
    "dataquest-> prob and stats -> probability fundamentals -> bayes theorem\n",
    "<br>slide 2\n",
    "- If two events are exhaustive, it means they make up the whole sample space Ω\n",
    "  -  P(A) = P(A ∩ B) + P(A ∩ B^c)\n",
    "     P(A) = (P(B) * P(A/B)) +  (P(B^c) * P(A/B^c))\n",
    "     \n",
    "     "
   ]
  },
  {
   "cell_type": "markdown",
   "id": "115495ca",
   "metadata": {
    "papermill": {
     "duration": 0.05829,
     "end_time": "2022-04-14T16:41:45.663264",
     "exception": false,
     "start_time": "2022-04-14T16:41:45.604974",
     "status": "completed"
    },
    "tags": []
   },
   "source": [
    "# Day 26\n",
    "dataquest-> prob and stats -> probability fundamentals -> bayes theorem\n",
    "<br>slide 3 - last\n",
    "- the law of total probability\n",
    "  - P(A)  = (P(B1) * P(A/B1)) + (P(B2) * P(A/B2))+ ... + (P(Bn) * P(A/Bn)))\n",
    "  - P(A) =(summattion i=1 to n) P(Bi) ⋅ P(A|Bi)\n",
    "- Baye's theorem\n",
    "  - P(B | A) = (P(B) ⋅ P(A | B)) / (n ∑i=1 P(Bi) ⋅ P(A | Bi))\n",
    "- The probability of being infected with HIV before doing any test is called the prior probability (\"prior\" means \"before\"). The probability of being infected with HIV after testing positive is called the posterior probability (\"posterior\" means \"after\").\n",
    "\n",
    "\n",
    "  "
   ]
  },
  {
   "cell_type": "markdown",
   "id": "63200d13",
   "metadata": {
    "papermill": {
     "duration": 0.057572,
     "end_time": "2022-04-14T16:41:45.778805",
     "exception": false,
     "start_time": "2022-04-14T16:41:45.721233",
     "status": "completed"
    },
    "tags": []
   },
   "source": [
    "# Day 27\n",
    "dataquest-> prob and stats -> probability fundamentals -> naive bayes theorem\n",
    "<br>slide 1 - \n",
    "P(Spam|w1,w2,w3,w4)∝P(Spam)⋅P(w1|Spam)⋅P(w2|Spam)⋅P(w3|Spam)⋅P(w4|Spam)P(SpamC|w1,w2,w3,w4)∝P(SpamC)⋅P(w1|SpamC)⋅P(w2|SpamC)⋅P(w3|SpamC)⋅P(w4|SpamC)"
   ]
  },
  {
   "cell_type": "markdown",
   "id": "45dac31e",
   "metadata": {
    "papermill": {
     "duration": 0.057469,
     "end_time": "2022-04-14T16:41:45.894011",
     "exception": false,
     "start_time": "2022-04-14T16:41:45.836542",
     "status": "completed"
    },
    "tags": []
   },
   "source": [
    "# Day 28\n",
    "dataquest-> prob and stats -> probability fundamentals -> naive bayes theorem\n",
    "<br>finished.\n",
    "<br>**Summary**\n",
    "- P(Spam|w1,w2,...,wn)∝P(Spam)⋅n∏i=1P(wi|Spam)\n",
    "- P(SpamC|w1,w2,...,wn)∝P(SpamC)⋅n∏i=1P(wi|SpamC)\n",
    "- To calculate P(wi|Spam) and P(wi|SpamC), we need to use the additive smoothing technique: \n",
    "- P ( w i | S p a m ) = (N w i | S p a m + α) / ( N S p a m + α ⋅ N V o c a b u l a r y )\n",
    "- P ( w i | S p a m C ) = (N w i | S p a m C + α) / ( N S p a m C + α ⋅ N V o c a b u l a r y )\n",
    "     - N w i | S p a m = the number of times the word w i occurs in spam messages \n",
    "     - N w i | S p a m C = the number of times the word w i occurs in non-spam messages \n",
    "     - N S p a m = total number of words in spam messages \n",
    "     - N S p a m C = total number of words in non-spam messages \n",
    "     - N V o c a b u l a r y = total number of words in the vocabulary \n",
    "     - α = 1 ( α is a smoothing parameter )\n",
    " - naive bayes theorem assumes that events are not dependent.\n",
    " - The assumption of conditional independence between words is thus naive since it rarely holds in practice, and this is why the algorithm is called Naive Bayes (also called simple Bayes or independence Bayes)."
   ]
  },
  {
   "cell_type": "markdown",
   "id": "7ca4f182",
   "metadata": {
    "papermill": {
     "duration": 0.059545,
     "end_time": "2022-04-14T16:41:46.011621",
     "exception": false,
     "start_time": "2022-04-14T16:41:45.952076",
     "status": "completed"
    },
    "tags": []
   },
   "source": [
    "# Day 29,30,31\n",
    "<br>dataquest-> prob and stats -> probability fundamentals -> conditional probability-> guided projects\n",
    "<br> in progress"
   ]
  },
  {
   "cell_type": "markdown",
   "id": "fc9e4e8d",
   "metadata": {
    "papermill": {
     "duration": 0.058249,
     "end_time": "2022-04-14T16:41:46.128908",
     "exception": false,
     "start_time": "2022-04-14T16:41:46.070659",
     "status": "completed"
    },
    "tags": []
   },
   "source": [
    "# Day 32 and 33\n",
    "<br>dataquest-> prob and stats -> probability fundamentals -> guided projects\n",
    "<br> done"
   ]
  },
  {
   "cell_type": "markdown",
   "id": "7ad311d9",
   "metadata": {
    "papermill": {
     "duration": 0.057696,
     "end_time": "2022-04-14T16:41:46.244667",
     "exception": false,
     "start_time": "2022-04-14T16:41:46.186971",
     "status": "completed"
    },
    "tags": []
   },
   "source": [
    "# Day 34\n",
    "<br>dataquest-> prob and stats -> probability fundamentals -> guided projects-> lottery prediction\n",
    "<br> done"
   ]
  },
  {
   "cell_type": "code",
   "execution_count": 2,
   "id": "5693fe6a",
   "metadata": {
    "execution": {
     "iopub.execute_input": "2022-04-14T16:41:46.364984Z",
     "iopub.status.busy": "2022-04-14T16:41:46.364332Z",
     "iopub.status.idle": "2022-04-14T16:41:46.367372Z",
     "shell.execute_reply": "2022-04-14T16:41:46.367836Z",
     "shell.execute_reply.started": "2022-04-12T14:17:49.333113Z"
    },
    "papermill": {
     "duration": 0.065299,
     "end_time": "2022-04-14T16:41:46.368011",
     "exception": false,
     "start_time": "2022-04-14T16:41:46.302712",
     "status": "completed"
    },
    "tags": []
   },
   "outputs": [],
   "source": [
    "# !pip install PyMuPDF"
   ]
  },
  {
   "cell_type": "code",
   "execution_count": 3,
   "id": "3762d62a",
   "metadata": {
    "execution": {
     "iopub.execute_input": "2022-04-14T16:41:46.487826Z",
     "iopub.status.busy": "2022-04-14T16:41:46.487190Z",
     "iopub.status.idle": "2022-04-14T16:41:46.490228Z",
     "shell.execute_reply": "2022-04-14T16:41:46.490705Z",
     "shell.execute_reply.started": "2022-04-12T14:19:20.437905Z"
    },
    "papermill": {
     "duration": 0.064619,
     "end_time": "2022-04-14T16:41:46.490884",
     "exception": false,
     "start_time": "2022-04-14T16:41:46.426265",
     "status": "completed"
    },
    "tags": []
   },
   "outputs": [],
   "source": [
    " \n",
    "# fitz.__version__"
   ]
  },
  {
   "cell_type": "code",
   "execution_count": 4,
   "id": "2a3f6ce2",
   "metadata": {
    "execution": {
     "iopub.execute_input": "2022-04-14T16:41:46.609436Z",
     "iopub.status.busy": "2022-04-14T16:41:46.608859Z",
     "iopub.status.idle": "2022-04-14T16:41:46.611325Z",
     "shell.execute_reply": "2022-04-14T16:41:46.611815Z",
     "shell.execute_reply.started": "2022-04-12T14:23:59.687259Z"
    },
    "papermill": {
     "duration": 0.063138,
     "end_time": "2022-04-14T16:41:46.611973",
     "exception": false,
     "start_time": "2022-04-14T16:41:46.548835",
     "status": "completed"
    },
    "tags": []
   },
   "outputs": [],
   "source": [
    "# !python -m spacy download en_core_web_sm"
   ]
  },
  {
   "cell_type": "code",
   "execution_count": null,
   "id": "ad0ef3a8",
   "metadata": {
    "papermill": {
     "duration": 0.057271,
     "end_time": "2022-04-14T16:41:46.727218",
     "exception": false,
     "start_time": "2022-04-14T16:41:46.669947",
     "status": "completed"
    },
    "tags": []
   },
   "outputs": [],
   "source": []
  },
  {
   "cell_type": "code",
   "execution_count": 5,
   "id": "bdad4a74",
   "metadata": {
    "execution": {
     "iopub.execute_input": "2022-04-14T16:41:46.847471Z",
     "iopub.status.busy": "2022-04-14T16:41:46.846821Z",
     "iopub.status.idle": "2022-04-14T16:41:46.849548Z",
     "shell.execute_reply": "2022-04-14T16:41:46.850023Z",
     "shell.execute_reply.started": "2022-04-12T14:18:25.912243Z"
    },
    "papermill": {
     "duration": 0.065341,
     "end_time": "2022-04-14T16:41:46.850209",
     "exception": false,
     "start_time": "2022-04-14T16:41:46.784868",
     "status": "completed"
    },
    "tags": []
   },
   "outputs": [],
   "source": [
    "# import fitz\n",
    "# import spacy\n",
    "# import re\n",
    "# from pathlib import Path\n",
    "# import requests\n",
    "# import os"
   ]
  },
  {
   "cell_type": "code",
   "execution_count": 6,
   "id": "165438ed",
   "metadata": {
    "execution": {
     "iopub.execute_input": "2022-04-14T16:41:46.970165Z",
     "iopub.status.busy": "2022-04-14T16:41:46.969446Z",
     "iopub.status.idle": "2022-04-14T16:41:46.973242Z",
     "shell.execute_reply": "2022-04-14T16:41:46.973697Z",
     "shell.execute_reply.started": "2022-04-12T15:03:43.5897Z"
    },
    "papermill": {
     "duration": 0.065287,
     "end_time": "2022-04-14T16:41:46.973883",
     "exception": false,
     "start_time": "2022-04-14T16:41:46.908596",
     "status": "completed"
    },
    "tags": []
   },
   "outputs": [],
   "source": [
    "# sql_db_json = [\n",
    "#   {\n",
    "#     \"document_id\": \"1\",\n",
    "#     \"area\": \"[72.1149,661.2966,131.95729,675.1716]\",\n",
    "#     \"page\": \"3\",\n",
    "#     \"text_\": \"Background\",\n",
    "#     \"type_of_selection\": \"Text\",\n",
    "#     \"entity_type\": \"name\",\n",
    "#     \"link\": \"https://redactable-devox-stage.s3.us-east-2.amazonaws.com/tenants/41d9e109-693b-444c-aa18-e5891bc6550b/original/1a7c0e5d-3237-4ca9-9e3d-89e707245ac6/D8communications.pdf\"\n",
    "#   },\n",
    "#   {\n",
    "#     \"document_id\": \"1\",\n",
    "#     \"area\": \"[290.55386,632.0173,322.14685,645.8923]\",\n",
    "#     \"page\": \"2\",\n",
    "#     \"text_\": \"INDEX\",\n",
    "#     \"type_of_selection\": \"Text\",\n",
    "#     \"entity_type\": \"address\",\n",
    "#     \"link\": \"https://redactable-devox-stage.s3.us-east-2.amazonaws.com/tenants/41d9e109-693b-444c-aa18-e5891bc6550b/original/1a7c0e5d-3237-4ca9-9e3d-89e707245ac6/D8communications.pdf\"\n",
    "#   }\n",
    "# ]"
   ]
  },
  {
   "cell_type": "code",
   "execution_count": 7,
   "id": "ba464312",
   "metadata": {
    "execution": {
     "iopub.execute_input": "2022-04-14T16:41:47.096167Z",
     "iopub.status.busy": "2022-04-14T16:41:47.095510Z",
     "iopub.status.idle": "2022-04-14T16:41:47.098230Z",
     "shell.execute_reply": "2022-04-14T16:41:47.098721Z",
     "shell.execute_reply.started": "2022-04-12T13:17:19.452695Z"
    },
    "papermill": {
     "duration": 0.064506,
     "end_time": "2022-04-14T16:41:47.098914",
     "exception": false,
     "start_time": "2022-04-14T16:41:47.034408",
     "status": "completed"
    },
    "tags": []
   },
   "outputs": [],
   "source": [
    "# l=pd.DataFrame()\n",
    "# k=(1, '[290.55386,632.0173,322.14685,645.8923]', 2, 'INDEX', 'Text', 'address', 'https://redactable-devox-s')\n",
    "# k\n"
   ]
  },
  {
   "cell_type": "code",
   "execution_count": 8,
   "id": "ba78eb45",
   "metadata": {
    "execution": {
     "iopub.execute_input": "2022-04-14T16:41:47.218410Z",
     "iopub.status.busy": "2022-04-14T16:41:47.217733Z",
     "iopub.status.idle": "2022-04-14T16:41:47.220831Z",
     "shell.execute_reply": "2022-04-14T16:41:47.221273Z",
     "shell.execute_reply.started": "2022-04-12T16:09:33.708631Z"
    },
    "papermill": {
     "duration": 0.064229,
     "end_time": "2022-04-14T16:41:47.221450",
     "exception": false,
     "start_time": "2022-04-14T16:41:47.157221",
     "status": "completed"
    },
    "tags": []
   },
   "outputs": [],
   "source": [
    "# co=[\"document_id\",\"area\",\"page\",\"text_\",\"type_of_selection\",\"entity_type\",\"link\"]\n",
    "# val= [(1,'[72.1149,661.2966,131.95729,675.1716]',3,'Background','Text','name' ,'https://redactable-devox-stage.s3.us-east-2.am'), (1,  '[290.55386,632.0173,322.14685,645.8923]',2,'INDEX', 'Text','address','https://redactable-devox-stage.s3.us-east-2.am')]\n",
    "\n",
    "# df=pd.DataFrame(val,columns=[co])\n",
    "# #df.iloc[1] =[1,  '[290.55386,632.0173,322.14685,645.8923]',2,'INDEX', 'Text','address','https://redactable-devox-stage.s3.us-east-2.am']\n",
    "# df"
   ]
  },
  {
   "cell_type": "code",
   "execution_count": 9,
   "id": "31c845d9",
   "metadata": {
    "execution": {
     "iopub.execute_input": "2022-04-14T16:41:47.342653Z",
     "iopub.status.busy": "2022-04-14T16:41:47.341700Z",
     "iopub.status.idle": "2022-04-14T16:41:47.344807Z",
     "shell.execute_reply": "2022-04-14T16:41:47.345303Z",
     "shell.execute_reply.started": "2022-04-12T16:18:22.595374Z"
    },
    "papermill": {
     "duration": 0.065597,
     "end_time": "2022-04-14T16:41:47.345471",
     "exception": false,
     "start_time": "2022-04-14T16:41:47.279874",
     "status": "completed"
    },
    "tags": []
   },
   "outputs": [],
   "source": [
    "# prev=[]\n",
    "# for data,row in df.iterrows():\n",
    "#     if row['document_id'] not in prev:\n",
    "#         prev.append(row['document_id'])\n",
    "#         print('hey')"
   ]
  },
  {
   "cell_type": "code",
   "execution_count": 10,
   "id": "685e0518",
   "metadata": {
    "execution": {
     "iopub.execute_input": "2022-04-14T16:41:47.465690Z",
     "iopub.status.busy": "2022-04-14T16:41:47.464650Z",
     "iopub.status.idle": "2022-04-14T16:41:47.470253Z",
     "shell.execute_reply": "2022-04-14T16:41:47.470707Z",
     "shell.execute_reply.started": "2022-04-12T15:03:48.248836Z"
    },
    "papermill": {
     "duration": 0.067227,
     "end_time": "2022-04-14T16:41:47.470901",
     "exception": false,
     "start_time": "2022-04-14T16:41:47.403674",
     "status": "completed"
    },
    "tags": []
   },
   "outputs": [],
   "source": [
    "# nlp = spacy.load('en_core_web_sm')\n",
    "# train_data = []\n",
    "\n",
    "# prev_doc_id = ''\n",
    "# i=0\n",
    "# temp='/kaggle/working'\n",
    "\n",
    "# for data in sql_db_json:\n",
    "#     if data['type_of_selection'] == 'Text':\n",
    "#         document_id = data['document_id']\n",
    "#         x1,y1,x2,y2 = data['area'][1:-1].split(',')\n",
    "#         url = data['link']\n",
    "#         page_no = int(data['page']) - 1 \n",
    "#         label = data['entity_type']\n",
    "#         filename = url.split('/')[-1]\n",
    "    \n",
    "#         #download the file to temp folder\n",
    "#         outpath = os.path.join(temp,filename)\n",
    "\n",
    "#         if document_id == prev_doc_id:\n",
    "#             pass\n",
    "#         else: \n",
    "#             i+=1\n",
    "#             print(i)\n",
    "#             response = requests.get(url)\n",
    "#             with open(outpath, \"wb\") as binary_file:\n",
    "#                 binary_file.write(response.content)\n",
    "\n",
    "#         doc = fitz.open(outpath)  # any supported document type\n",
    "#         page = doc[page_no]  # we want text from this page\n",
    "#         print('page dimension - ', page.rect.width, page.rect.height)\n",
    "\n",
    "#         #The co-ordinates in the DB are image co-ords. W.r.t pdf, y1 and y2 has to be interchanged.\n",
    "#         #To ensure entire word to be selected, slight correction in x1,y1,x2,y2 is done.\n",
    "\n",
    "#         rect = [float(x1)-2, 792 - float(y2)-2, float(x2)+2, 792 - float(y1)+2]\n",
    "#         print(rect)\n",
    "#         labelled_text = page.get_textbox(rect)\n",
    "\n",
    "#         #Removing all unprintable characters from the text\n",
    "#         string = re.sub('[^0-9a-zA-Z@?|\\/<>.,()&^%$#!]+', ' ', labelled_text)\n",
    "#         print('string : ', string)\n",
    "\n",
    "#         fulltext = page.get_text()\n",
    "#         doc = nlp(fulltext)\n",
    "\n",
    "#         sentences = []\n",
    "#         for sent in doc.sents:\n",
    "#             if string.strip() in sent.text:\n",
    "#                 text = re.sub('[^0-9a-zA-Z@?|\\/<>.,()&^%$#!]+', ' ', sent.text)\n",
    "\n",
    "#         res = re.search(string.strip(), text)\n",
    "\n",
    "#         entities = []\n",
    "#         entities.append((res.start(),res.end(),label))\n",
    "\n",
    "#         train_data.append((text,{'entities':entities}))\n",
    "\n",
    "# print('Training data in spacy format')\n",
    "# print('*****************************')\n",
    "# for i in range(0,len(train_data)):\n",
    "#     print(train_data[i])"
   ]
  },
  {
   "cell_type": "code",
   "execution_count": null,
   "id": "c4ec005a",
   "metadata": {
    "papermill": {
     "duration": 0.059013,
     "end_time": "2022-04-14T16:41:47.588311",
     "exception": false,
     "start_time": "2022-04-14T16:41:47.529298",
     "status": "completed"
    },
    "tags": []
   },
   "outputs": [],
   "source": []
  },
  {
   "cell_type": "code",
   "execution_count": 11,
   "id": "6b83995a",
   "metadata": {
    "execution": {
     "iopub.execute_input": "2022-04-14T16:41:47.709593Z",
     "iopub.status.busy": "2022-04-14T16:41:47.708588Z",
     "iopub.status.idle": "2022-04-14T16:41:47.713605Z",
     "shell.execute_reply": "2022-04-14T16:41:47.714134Z",
     "shell.execute_reply.started": "2022-04-12T11:44:59.253637Z"
    },
    "papermill": {
     "duration": 0.067236,
     "end_time": "2022-04-14T16:41:47.714314",
     "exception": false,
     "start_time": "2022-04-14T16:41:47.647078",
     "status": "completed"
    },
    "tags": []
   },
   "outputs": [],
   "source": [
    "# nlp = spacy.load('en_core_web_sm')\n",
    "# train_data = []\n",
    "\n",
    "# prev_doc_id = ''\n",
    "# temp='/kaggle/working'\n",
    "# i=0\n",
    "# for data in sql_db_json:\n",
    "#     if data['type_of_selection'] == 'Text':\n",
    "#         document_id = data['document_id']\n",
    "#         x1,y1,x2,y2 = data['area'][1:-1].split(',')\n",
    "#         url = data['link']\n",
    "#         page_no = int(data['page']) - 1 \n",
    "#         label = data['entity_type']\n",
    "#         filename = url.split('/')[-1]\n",
    "    \n",
    "#         #download the file to temp folder\n",
    "#         i+=1\n",
    "#         print(i)\n",
    "#         response = requests.get(url)\n",
    "#         doc = fitz.open(stream=response.content,filetype=\"pdf\")  # any supported document type\n",
    "#         page = doc[page_no]  # we want text from this page\n",
    "#         print('page dimension - ', page.rect.width, page.rect.height)\n",
    "\n",
    "#         #The co-ordinates in the DB are image co-ords. W.r.t pdf, y1 and y2 has to be interchanged.\n",
    "#         #To ensure entire word to be selected, slight correction in x1,y1,x2,y2 is done.\n",
    "\n",
    "#         rect = [float(x1)-2, 792 - float(y2)-2, float(x2)+2, 792 - float(y1)+2]\n",
    "#         print(rect)\n",
    "#         labelled_text = page.get_textbox(rect)\n",
    "\n",
    "#         #Removing all unprintable characters from the text\n",
    "#         string = re.sub('[^0-9a-zA-Z@?|\\/<>.,()&^%$#!]+', ' ', labelled_text)\n",
    "#         print('string : ', string)\n",
    "\n",
    "#         fulltext = page.get_text()\n",
    "#         doc = nlp(fulltext)\n",
    "\n",
    "#         sentences = []\n",
    "#         for sent in doc.sents:\n",
    "#             if string.strip() in sent.text:\n",
    "#                 text = re.sub('[^0-9a-zA-Z@?|\\/<>.,()&^%$#!]+', ' ', sent.text)\n",
    "\n",
    "#         res = re.search(string.strip(), text)\n",
    "\n",
    "#         entities = []\n",
    "#         entities.append((res.start(),res.end(),label))\n",
    "\n",
    "#         train_data.append((text,{'entities':entities}))\n",
    "\n",
    "# print('Training data in spacy format')\n",
    "# print('*****************************')\n",
    "# for i in range(0,len(train_data)):\n",
    "#     print(train_data[i])"
   ]
  },
  {
   "cell_type": "code",
   "execution_count": 12,
   "id": "d18327a4",
   "metadata": {
    "execution": {
     "iopub.execute_input": "2022-04-14T16:41:47.834056Z",
     "iopub.status.busy": "2022-04-14T16:41:47.833311Z",
     "iopub.status.idle": "2022-04-14T16:41:47.836339Z",
     "shell.execute_reply": "2022-04-14T16:41:47.836895Z"
    },
    "papermill": {
     "duration": 0.064756,
     "end_time": "2022-04-14T16:41:47.837066",
     "exception": false,
     "start_time": "2022-04-14T16:41:47.772310",
     "status": "completed"
    },
    "tags": []
   },
   "outputs": [],
   "source": [
    "# page dimension -  612.0 792.0\n",
    "# [70.1149, 114.82839999999999, 133.95729, 132.7034]\n",
    "# string :  Background\n",
    "# page dimension -  612.0 792.0\n",
    "# [288.55386, 144.10770000000002, 324.14685, 161.98270000000002]\n",
    "# string :  INDEX\n",
    "# Training data in spacy format\n",
    "# *****************************\n",
    "# (' 3 Background The Blue Ribbon Committee was created by the Mayor to assess various city communication methods and recommend opportunities to improve communications with residents, businesses and other organizations.', {'entities': [(3, 13, 'name')]})\n",
    "# (' 2 INDEX Background Pg. 3 Purpose Pg. 3 Process .', {'entities': [(3, 8, 'address')]})"
   ]
  },
  {
   "cell_type": "code",
   "execution_count": 13,
   "id": "3953da58",
   "metadata": {
    "execution": {
     "iopub.execute_input": "2022-04-14T16:41:47.956912Z",
     "iopub.status.busy": "2022-04-14T16:41:47.956260Z",
     "iopub.status.idle": "2022-04-14T16:41:47.960048Z",
     "shell.execute_reply": "2022-04-14T16:41:47.960591Z",
     "shell.execute_reply.started": "2022-04-11T16:35:29.609712Z"
    },
    "papermill": {
     "duration": 0.065139,
     "end_time": "2022-04-14T16:41:47.960771",
     "exception": false,
     "start_time": "2022-04-14T16:41:47.895632",
     "status": "completed"
    },
    "tags": []
   },
   "outputs": [],
   "source": [
    "# nlp = spacy.load('en_core_web_sm')\n",
    "# outpath=r'/kaggle/input/sample-pdf/D8communications.pdf'\n",
    "# doc = fitz.open(outpath)  # any supported document type\n",
    "# page_no=3\n",
    "# page = doc[page_no-1]\n",
    "\n",
    "# x1,y1,x2,y2=(72.1149,661.2966,131.95729,675.1716)\n",
    "\n",
    "# rect = [float(x1)-2, 792 - float(y2)-2, float(x2)+2, 792 - float(y1)+2]\n",
    "# print(rect)\n",
    "# labelled_text = page.get_textbox(rect)\n",
    "# string = re.sub('[^0-9a-zA-Z@?|\\/<>.,()&^%$#!]+', ' ', labelled_text)\n",
    "# print('string : ', string)\n",
    "\n",
    "# fulltext = page.get_text()\n",
    "# doc = nlp(fulltext)\n",
    "\n",
    "# sentences = []\n",
    "# for sent in doc.sents:\n",
    "#             if string.strip() in sent.text:\n",
    "#                 text = re.sub('[^0-9a-zA-Z@?|\\/<>.,()&^%$#!]+', ' ', sent.text)\n",
    "\n",
    "#         res = re.search(string.strip(), text)\n",
    "\n",
    "#         entities = []\n",
    "#         entities.append((res.start(),res.end(),label))\n",
    "\n",
    "#         train_data.append((text,{'entities':entities}))\n",
    "\n"
   ]
  },
  {
   "cell_type": "code",
   "execution_count": 14,
   "id": "166e88e4",
   "metadata": {
    "execution": {
     "iopub.execute_input": "2022-04-14T16:41:48.082172Z",
     "iopub.status.busy": "2022-04-14T16:41:48.081464Z",
     "iopub.status.idle": "2022-04-14T16:41:48.084387Z",
     "shell.execute_reply": "2022-04-14T16:41:48.084938Z",
     "shell.execute_reply.started": "2022-04-11T16:35:41.679947Z"
    },
    "papermill": {
     "duration": 0.066228,
     "end_time": "2022-04-14T16:41:48.085106",
     "exception": false,
     "start_time": "2022-04-14T16:41:48.018878",
     "status": "completed"
    },
    "tags": []
   },
   "outputs": [],
   "source": [
    "#doc"
   ]
  },
  {
   "cell_type": "code",
   "execution_count": 15,
   "id": "29dc239f",
   "metadata": {
    "execution": {
     "iopub.execute_input": "2022-04-14T16:41:48.204556Z",
     "iopub.status.busy": "2022-04-14T16:41:48.203946Z",
     "iopub.status.idle": "2022-04-14T16:41:48.206849Z",
     "shell.execute_reply": "2022-04-14T16:41:48.207416Z",
     "shell.execute_reply.started": "2022-04-11T16:35:56.010353Z"
    },
    "papermill": {
     "duration": 0.064574,
     "end_time": "2022-04-14T16:41:48.207578",
     "exception": false,
     "start_time": "2022-04-14T16:41:48.143004",
     "status": "completed"
    },
    "tags": []
   },
   "outputs": [],
   "source": [
    "# sentences = []\n",
    "# for sent in doc.sents:\n",
    "#     if string.strip() in sent.text:\n",
    "#         text = re.sub('[^0-9a-zA-Z@?|\\/<>.,()&^%$#!]+', ' ', sent.text)"
   ]
  },
  {
   "cell_type": "code",
   "execution_count": 16,
   "id": "130ecc45",
   "metadata": {
    "execution": {
     "iopub.execute_input": "2022-04-14T16:41:48.327926Z",
     "iopub.status.busy": "2022-04-14T16:41:48.327235Z",
     "iopub.status.idle": "2022-04-14T16:41:48.329651Z",
     "shell.execute_reply": "2022-04-14T16:41:48.329177Z",
     "shell.execute_reply.started": "2022-04-11T16:39:04.736143Z"
    },
    "papermill": {
     "duration": 0.063916,
     "end_time": "2022-04-14T16:41:48.329788",
     "exception": false,
     "start_time": "2022-04-14T16:41:48.265872",
     "status": "completed"
    },
    "tags": []
   },
   "outputs": [],
   "source": [
    "# k=nlp(\"he             kenny\")\n",
    "# for sent in k.sents:\n",
    "#     print(sent)"
   ]
  },
  {
   "cell_type": "code",
   "execution_count": 17,
   "id": "3dfca1b3",
   "metadata": {
    "execution": {
     "iopub.execute_input": "2022-04-14T16:41:48.450220Z",
     "iopub.status.busy": "2022-04-14T16:41:48.449482Z",
     "iopub.status.idle": "2022-04-14T16:41:48.451557Z",
     "shell.execute_reply": "2022-04-14T16:41:48.452065Z",
     "shell.execute_reply.started": "2022-04-11T15:09:24.391421Z"
    },
    "papermill": {
     "duration": 0.063925,
     "end_time": "2022-04-14T16:41:48.452223",
     "exception": false,
     "start_time": "2022-04-14T16:41:48.388298",
     "status": "completed"
    },
    "tags": []
   },
   "outputs": [],
   "source": [
    "# text"
   ]
  },
  {
   "cell_type": "code",
   "execution_count": 18,
   "id": "1145f834",
   "metadata": {
    "execution": {
     "iopub.execute_input": "2022-04-14T16:41:48.572341Z",
     "iopub.status.busy": "2022-04-14T16:41:48.570805Z",
     "iopub.status.idle": "2022-04-14T16:41:48.575249Z",
     "shell.execute_reply": "2022-04-14T16:41:48.574569Z",
     "shell.execute_reply.started": "2022-04-11T15:09:31.9599Z"
    },
    "papermill": {
     "duration": 0.065027,
     "end_time": "2022-04-14T16:41:48.575400",
     "exception": false,
     "start_time": "2022-04-14T16:41:48.510373",
     "status": "completed"
    },
    "tags": []
   },
   "outputs": [],
   "source": [
    "# res = re.search(string.strip(), text)\n",
    "# res"
   ]
  },
  {
   "cell_type": "code",
   "execution_count": 19,
   "id": "b796b8a3",
   "metadata": {
    "execution": {
     "iopub.execute_input": "2022-04-14T16:41:48.694439Z",
     "iopub.status.busy": "2022-04-14T16:41:48.693733Z",
     "iopub.status.idle": "2022-04-14T16:41:48.696246Z",
     "shell.execute_reply": "2022-04-14T16:41:48.696717Z",
     "shell.execute_reply.started": "2022-04-11T15:12:41.311242Z"
    },
    "papermill": {
     "duration": 0.063661,
     "end_time": "2022-04-14T16:41:48.696912",
     "exception": false,
     "start_time": "2022-04-14T16:41:48.633251",
     "status": "completed"
    },
    "tags": []
   },
   "outputs": [],
   "source": [
    "# entities = []\n",
    "# entities.append((res.start(),res.end(),'p'))"
   ]
  },
  {
   "cell_type": "code",
   "execution_count": 20,
   "id": "c47824df",
   "metadata": {
    "execution": {
     "iopub.execute_input": "2022-04-14T16:41:48.816679Z",
     "iopub.status.busy": "2022-04-14T16:41:48.816106Z",
     "iopub.status.idle": "2022-04-14T16:41:48.818339Z",
     "shell.execute_reply": "2022-04-14T16:41:48.818943Z",
     "shell.execute_reply.started": "2022-04-11T15:12:52.736619Z"
    },
    "papermill": {
     "duration": 0.064024,
     "end_time": "2022-04-14T16:41:48.819106",
     "exception": false,
     "start_time": "2022-04-14T16:41:48.755082",
     "status": "completed"
    },
    "tags": []
   },
   "outputs": [],
   "source": [
    "# entities"
   ]
  },
  {
   "cell_type": "code",
   "execution_count": 21,
   "id": "410663a4",
   "metadata": {
    "execution": {
     "iopub.execute_input": "2022-04-14T16:41:48.939464Z",
     "iopub.status.busy": "2022-04-14T16:41:48.938789Z",
     "iopub.status.idle": "2022-04-14T16:41:48.941137Z",
     "shell.execute_reply": "2022-04-14T16:41:48.941567Z",
     "shell.execute_reply.started": "2022-04-11T15:06:11.546217Z"
    },
    "papermill": {
     "duration": 0.064509,
     "end_time": "2022-04-14T16:41:48.941735",
     "exception": false,
     "start_time": "2022-04-14T16:41:48.877226",
     "status": "completed"
    },
    "tags": []
   },
   "outputs": [],
   "source": [
    "# text"
   ]
  },
  {
   "cell_type": "code",
   "execution_count": null,
   "id": "e956be89",
   "metadata": {
    "execution": {
     "iopub.execute_input": "2022-04-11T15:02:33.300092Z",
     "iopub.status.busy": "2022-04-11T15:02:33.299778Z",
     "iopub.status.idle": "2022-04-11T15:02:33.30711Z",
     "shell.execute_reply": "2022-04-11T15:02:33.306345Z",
     "shell.execute_reply.started": "2022-04-11T15:02:33.300061Z"
    },
    "papermill": {
     "duration": 0.06123,
     "end_time": "2022-04-14T16:41:49.061261",
     "exception": false,
     "start_time": "2022-04-14T16:41:49.000031",
     "status": "completed"
    },
    "tags": []
   },
   "outputs": [],
   "source": []
  },
  {
   "cell_type": "code",
   "execution_count": 22,
   "id": "6a004d6c",
   "metadata": {
    "execution": {
     "iopub.execute_input": "2022-04-14T16:41:49.210725Z",
     "iopub.status.busy": "2022-04-14T16:41:49.210099Z",
     "iopub.status.idle": "2022-04-14T16:41:49.213770Z",
     "shell.execute_reply": "2022-04-14T16:41:49.213270Z",
     "shell.execute_reply.started": "2022-04-11T16:21:02.863037Z"
    },
    "papermill": {
     "duration": 0.079515,
     "end_time": "2022-04-14T16:41:49.213911",
     "exception": false,
     "start_time": "2022-04-14T16:41:49.134396",
     "status": "completed"
    },
    "tags": []
   },
   "outputs": [],
   "source": [
    "# import spacy\n",
    "# nlp = spacy.load('en_core_web_sm')"
   ]
  },
  {
   "cell_type": "code",
   "execution_count": 23,
   "id": "11468d7b",
   "metadata": {
    "execution": {
     "iopub.execute_input": "2022-04-14T16:41:49.334369Z",
     "iopub.status.busy": "2022-04-14T16:41:49.333730Z",
     "iopub.status.idle": "2022-04-14T16:41:49.336461Z",
     "shell.execute_reply": "2022-04-14T16:41:49.335996Z",
     "shell.execute_reply.started": "2022-04-09T12:19:47.776612Z"
    },
    "papermill": {
     "duration": 0.06445,
     "end_time": "2022-04-14T16:41:49.336592",
     "exception": false,
     "start_time": "2022-04-14T16:41:49.272142",
     "status": "completed"
    },
    "tags": []
   },
   "outputs": [],
   "source": [
    "# !pip install PyPDF2\n",
    "# import PyPDF2\n",
    "# fhandle = open(r'/kaggle/input/sample-pdf/D8communications.pdf', 'rb')\n",
    "# pdfReader = PyPDF2.PdfFileReader(fhandle)\n",
    "# pagehandle = pdfReader.getPage(4)\n",
    "# print(pagehandle.extractText())"
   ]
  },
  {
   "cell_type": "code",
   "execution_count": 24,
   "id": "668ab8fc",
   "metadata": {
    "execution": {
     "iopub.execute_input": "2022-04-14T16:41:49.457447Z",
     "iopub.status.busy": "2022-04-14T16:41:49.456832Z",
     "iopub.status.idle": "2022-04-14T16:41:49.459577Z",
     "shell.execute_reply": "2022-04-14T16:41:49.459116Z",
     "shell.execute_reply.started": "2022-04-09T12:25:37.701467Z"
    },
    "papermill": {
     "duration": 0.064102,
     "end_time": "2022-04-14T16:41:49.459712",
     "exception": false,
     "start_time": "2022-04-14T16:41:49.395610",
     "status": "completed"
    },
    "tags": []
   },
   "outputs": [],
   "source": [
    "# !pip install pdfplumber\n",
    "# import pdfplumber\n",
    "# with pdfplumber.open(r'/kaggle/input/sample-pdf/D8communications.pdf') as pdf:\n",
    "#     first_page = pdf.pages[3]\n",
    "#     print(first_page.extract_text())"
   ]
  },
  {
   "cell_type": "code",
   "execution_count": 25,
   "id": "99ae2973",
   "metadata": {
    "execution": {
     "iopub.execute_input": "2022-04-14T16:41:49.579802Z",
     "iopub.status.busy": "2022-04-14T16:41:49.579194Z",
     "iopub.status.idle": "2022-04-14T16:41:49.581151Z",
     "shell.execute_reply": "2022-04-14T16:41:49.581737Z",
     "shell.execute_reply.started": "2022-04-09T12:25:49.584635Z"
    },
    "papermill": {
     "duration": 0.063991,
     "end_time": "2022-04-14T16:41:49.581926",
     "exception": false,
     "start_time": "2022-04-14T16:41:49.517935",
     "status": "completed"
    },
    "tags": []
   },
   "outputs": [],
   "source": [
    "# !pip install pytesseract"
   ]
  },
  {
   "cell_type": "code",
   "execution_count": 26,
   "id": "6a1ca090",
   "metadata": {
    "execution": {
     "iopub.execute_input": "2022-04-14T16:41:49.700943Z",
     "iopub.status.busy": "2022-04-14T16:41:49.700267Z",
     "iopub.status.idle": "2022-04-14T16:41:49.704407Z",
     "shell.execute_reply": "2022-04-14T16:41:49.703903Z",
     "shell.execute_reply.started": "2022-04-09T14:49:10.656812Z"
    },
    "papermill": {
     "duration": 0.064799,
     "end_time": "2022-04-14T16:41:49.704550",
     "exception": false,
     "start_time": "2022-04-14T16:41:49.639751",
     "status": "completed"
    },
    "tags": []
   },
   "outputs": [],
   "source": [
    "# #!pip install pdf2image\n",
    "# !pip install poppler"
   ]
  },
  {
   "cell_type": "code",
   "execution_count": 27,
   "id": "a3997a05",
   "metadata": {
    "execution": {
     "iopub.execute_input": "2022-04-14T16:41:49.826812Z",
     "iopub.status.busy": "2022-04-14T16:41:49.825710Z",
     "iopub.status.idle": "2022-04-14T16:41:49.827681Z",
     "shell.execute_reply": "2022-04-14T16:41:49.828325Z",
     "shell.execute_reply.started": "2022-04-09T14:57:24.756677Z"
    },
    "papermill": {
     "duration": 0.065973,
     "end_time": "2022-04-14T16:41:49.828499",
     "exception": false,
     "start_time": "2022-04-14T16:41:49.762526",
     "status": "completed"
    },
    "tags": []
   },
   "outputs": [],
   "source": [
    "# pdf2image.convert_from_path('/kaggle/input/sample-pdf/D8communications.pdf')"
   ]
  },
  {
   "cell_type": "code",
   "execution_count": 28,
   "id": "58e424d5",
   "metadata": {
    "execution": {
     "iopub.execute_input": "2022-04-14T16:41:49.950887Z",
     "iopub.status.busy": "2022-04-14T16:41:49.949926Z",
     "iopub.status.idle": "2022-04-14T16:41:49.954049Z",
     "shell.execute_reply": "2022-04-14T16:41:49.954597Z",
     "shell.execute_reply.started": "2022-04-09T14:57:17.576149Z"
    },
    "papermill": {
     "duration": 0.065905,
     "end_time": "2022-04-14T16:41:49.954783",
     "exception": false,
     "start_time": "2022-04-14T16:41:49.888878",
     "status": "completed"
    },
    "tags": []
   },
   "outputs": [],
   "source": [
    "# import pdf2image\n",
    "# try:\n",
    "#     from PIL import Image\n",
    "# except ImportError:\n",
    "#     import Image\n",
    "# import pytesseract\n",
    "\n",
    "\n",
    "# def pdf_to_img(pdf_file):\n",
    "#     return pdf2image.convert_from_path(pdf_file)\n",
    "\n",
    "\n",
    "# def ocr_core(file):\n",
    "#     text = pytesseract.image_to_string(file)\n",
    "#     return text\n",
    "\n",
    "\n",
    "# def print_pages(pdf_file):\n",
    "#     images = pdf_to_img(pdf_file)\n",
    "#     for pg, img in enumerate(images):\n",
    "#         print(ocr_core(img))\n",
    "\n",
    "\n",
    "# print_pages('/kaggle/input/sample-pdf/D8communications.pdf')\n"
   ]
  },
  {
   "cell_type": "code",
   "execution_count": 29,
   "id": "354e98df",
   "metadata": {
    "execution": {
     "iopub.execute_input": "2022-04-14T16:41:50.081629Z",
     "iopub.status.busy": "2022-04-14T16:41:50.080628Z",
     "iopub.status.idle": "2022-04-14T16:41:50.084509Z",
     "shell.execute_reply": "2022-04-14T16:41:50.085090Z"
    },
    "papermill": {
     "duration": 0.072277,
     "end_time": "2022-04-14T16:41:50.085260",
     "exception": false,
     "start_time": "2022-04-14T16:41:50.012983",
     "status": "completed"
    },
    "tags": []
   },
   "outputs": [],
   "source": [
    "# import requests\n",
    "# import fitz\n",
    "# import io\n",
    "\n",
    "# #URL = 'https://buildmedia.readthedocs.org/media/pdf/pdfminer-docs/latest/pdfminer-docs.pdf'\n",
    "# URL = 'https://redactable-devox-stage.s3.us-east-2.amazonaws.com/tenants/41d9e109-693b-444c-aa18-e5891bc6550b/original/1a7c0e5d-3237-4ca9-9e3d-89e707245ac6/D8communications.pdf'\n",
    "\n",
    "\n",
    "# res = requests.get(URL)\n",
    "# filestream = io.BytesIO(res.content)\n",
    "# #res.content\n",
    "# filestream\n",
    "# doc = fitz.Document(stream=filestream)\n",
    "# page1 = doc.loadPage(3)\n",
    "# page1text = page1.getText(\"text\").encode(\"utf-8\").decode(\"utf-8\")\n",
    "# print(page1text)"
   ]
  },
  {
   "cell_type": "code",
   "execution_count": 30,
   "id": "0bcf5a2f",
   "metadata": {
    "execution": {
     "iopub.execute_input": "2022-04-14T16:41:50.207375Z",
     "iopub.status.busy": "2022-04-14T16:41:50.206342Z",
     "iopub.status.idle": "2022-04-14T16:41:50.210729Z",
     "shell.execute_reply": "2022-04-14T16:41:50.211329Z",
     "shell.execute_reply.started": "2022-04-09T07:04:56.590103Z"
    },
    "papermill": {
     "duration": 0.066775,
     "end_time": "2022-04-14T16:41:50.211506",
     "exception": false,
     "start_time": "2022-04-14T16:41:50.144731",
     "status": "completed"
    },
    "tags": []
   },
   "outputs": [],
   "source": [
    "# import requests\n",
    "# import fitz\n",
    "\n",
    "# #URL = 'https://buildmedia.readthedocs.org/media/pdf/pdfminer-docs/latest/pdfminer-docs.pdf'\n",
    "# URL = 'https://redactable-devox-stage.s3.us-east-2.amazonaws.com/tenants/41d9e109-693b-444c-aa18-e5891bc6550b/original/1a7c0e5d-3237-4ca9-9e3d-89e707245ac6/D8communications.pdf'\n",
    "\n",
    "\n",
    "# res = requests.get(URL)\n",
    "# doc = fitz.open(stream=res.content,filetype=\"pdf\")\n",
    "# page1 = doc.loadPage(3)\n",
    "# page1text = page1.getText(\"text\")\n",
    "# #rect = (72.1149,661.2966,131.95729,675.1716)\n",
    "# rect=(72.10812377929688, 116.13427734375, 133.97142028808594, 146.4227294921875)\n",
    "# labelled_text = page1.get_textbox(rect)\n",
    "# print(labelled_text.strip())\n",
    "\n",
    "# fulltext = page1.get_text()\n",
    "# print(fulltext)\n",
    "# doc = nlp(fulltext)\n",
    "# sentences = []\n",
    "# for sent in doc.sents:\n",
    "#     if labelled_text in sent.text:\n",
    "#         text = sent.text\n",
    "#         print(text)\n",
    "# #print(page1text)"
   ]
  },
  {
   "cell_type": "code",
   "execution_count": 31,
   "id": "a09debf7",
   "metadata": {
    "execution": {
     "iopub.execute_input": "2022-04-14T16:41:50.349873Z",
     "iopub.status.busy": "2022-04-14T16:41:50.348803Z",
     "iopub.status.idle": "2022-04-14T16:41:50.350888Z",
     "shell.execute_reply": "2022-04-14T16:41:50.351417Z",
     "shell.execute_reply.started": "2022-04-08T16:42:57.6659Z"
    },
    "papermill": {
     "duration": 0.07998,
     "end_time": "2022-04-14T16:41:50.351581",
     "exception": false,
     "start_time": "2022-04-14T16:41:50.271601",
     "status": "completed"
    },
    "tags": []
   },
   "outputs": [],
   "source": [
    "#res.content"
   ]
  },
  {
   "cell_type": "code",
   "execution_count": 32,
   "id": "dd02654f",
   "metadata": {
    "execution": {
     "iopub.execute_input": "2022-04-14T16:41:50.474181Z",
     "iopub.status.busy": "2022-04-14T16:41:50.473476Z",
     "iopub.status.idle": "2022-04-14T16:41:50.475140Z",
     "shell.execute_reply": "2022-04-14T16:41:50.475696Z",
     "shell.execute_reply.started": "2022-04-08T16:48:05.672392Z"
    },
    "papermill": {
     "duration": 0.064655,
     "end_time": "2022-04-14T16:41:50.475877",
     "exception": false,
     "start_time": "2022-04-14T16:41:50.411222",
     "status": "completed"
    },
    "tags": []
   },
   "outputs": [],
   "source": [
    "# import fitz\n",
    "# # mem_area=\n",
    "# # doc = fitz.open(stream=mem_area, filetype=\"pdf\")\n",
    "\n",
    "# import requests\n",
    "\n",
    "# URL = 'https://redactable-devox-stage.s3.us-east-2.amazonaws.com/tenants/41d9e109-693b-444c-aa18-e5891bc6550b/original/1a7c0e5d-3237-4ca9-9e3d-89e707245ac6/D8communications.pdf'\n",
    "\n",
    "# #res = requests.get(URL)\n",
    "# doc=fitz.open(\"/kaggle/input/sample-pdf/D8communications.pdf\")\n",
    "# #doc = fitz.open(stream=res.content,filetype=\"pdf\")\n",
    "# page1 = doc.loadPage(4)\n",
    "# # page1text = page1.getText(\"text\")\n",
    "# # print(page1text)\n",
    "# blocks = page1.getText(\"blocks\")\n",
    "# blocks.sort(key=lambda block: block[1])  # sort vertically ascending\n",
    "\n",
    "# for b in blocks:\n",
    "#     print(b[4])\n"
   ]
  },
  {
   "cell_type": "code",
   "execution_count": 33,
   "id": "6d475f4d",
   "metadata": {
    "execution": {
     "iopub.execute_input": "2022-04-14T16:41:50.595606Z",
     "iopub.status.busy": "2022-04-14T16:41:50.594969Z",
     "iopub.status.idle": "2022-04-14T16:41:50.597799Z",
     "shell.execute_reply": "2022-04-14T16:41:50.598322Z",
     "shell.execute_reply.started": "2022-04-08T16:48:13.086323Z"
    },
    "papermill": {
     "duration": 0.064229,
     "end_time": "2022-04-14T16:41:50.598487",
     "exception": false,
     "start_time": "2022-04-14T16:41:50.534258",
     "status": "completed"
    },
    "tags": []
   },
   "outputs": [],
   "source": [
    "# # page = doc[1]\n",
    "# words = page.get_text(\"words\")\n",
    "# #print(words)\n",
    "# rect = (72.1149,661.2966,131.95729,675.1716)\n",
    "\n",
    "# labelled_text = page.get_textbox(rect)\n",
    "# # labelled_text"
   ]
  },
  {
   "cell_type": "markdown",
   "id": "0e016cc9",
   "metadata": {
    "papermill": {
     "duration": 0.058408,
     "end_time": "2022-04-14T16:41:50.716423",
     "exception": false,
     "start_time": "2022-04-14T16:41:50.658015",
     "status": "completed"
    },
    "tags": []
   },
   "source": [
    "pip install PyPDF2"
   ]
  },
  {
   "cell_type": "code",
   "execution_count": null,
   "id": "d3cab56d",
   "metadata": {
    "papermill": {
     "duration": 0.058983,
     "end_time": "2022-04-14T16:41:50.834082",
     "exception": false,
     "start_time": "2022-04-14T16:41:50.775099",
     "status": "completed"
    },
    "tags": []
   },
   "outputs": [],
   "source": []
  },
  {
   "cell_type": "code",
   "execution_count": 34,
   "id": "d8aa1302",
   "metadata": {
    "execution": {
     "iopub.execute_input": "2022-04-14T16:41:50.953930Z",
     "iopub.status.busy": "2022-04-14T16:41:50.953289Z",
     "iopub.status.idle": "2022-04-14T16:41:50.956061Z",
     "shell.execute_reply": "2022-04-14T16:41:50.956617Z",
     "shell.execute_reply.started": "2022-03-18T16:48:58.370268Z"
    },
    "papermill": {
     "duration": 0.064222,
     "end_time": "2022-04-14T16:41:50.956800",
     "exception": false,
     "start_time": "2022-04-14T16:41:50.892578",
     "status": "completed"
    },
    "tags": []
   },
   "outputs": [],
   "source": [
    "# import pandas as pd\n",
    "# h={'step': 0, 'type': 'string', 'amount': 0.0, 'nameOrig': 'C1231006815', 'oldbalanceOrig': 0.0, 'newbalanceOrig': 0.0, 'nameDest': 'M1979787155', 'oldbalanceDest': 0.0, 'newbalanceDest': 0.0}\n",
    "# df=pd.DataFrame([h])"
   ]
  },
  {
   "cell_type": "code",
   "execution_count": 35,
   "id": "5447b318",
   "metadata": {
    "execution": {
     "iopub.execute_input": "2022-04-14T16:41:51.081532Z",
     "iopub.status.busy": "2022-04-14T16:41:51.080919Z",
     "iopub.status.idle": "2022-04-14T16:41:51.083916Z",
     "shell.execute_reply": "2022-04-14T16:41:51.084425Z",
     "shell.execute_reply.started": "2022-04-09T17:21:26.021615Z"
    },
    "papermill": {
     "duration": 0.067523,
     "end_time": "2022-04-14T16:41:51.084578",
     "exception": false,
     "start_time": "2022-04-14T16:41:51.017055",
     "status": "completed"
    },
    "tags": []
   },
   "outputs": [],
   "source": [
    "#df"
   ]
  },
  {
   "cell_type": "code",
   "execution_count": null,
   "id": "1c311aaa",
   "metadata": {
    "papermill": {
     "duration": 0.058396,
     "end_time": "2022-04-14T16:41:51.201750",
     "exception": false,
     "start_time": "2022-04-14T16:41:51.143354",
     "status": "completed"
    },
    "tags": []
   },
   "outputs": [],
   "source": []
  }
 ],
 "metadata": {
  "kernelspec": {
   "display_name": "Python 3",
   "language": "python",
   "name": "python3"
  },
  "language_info": {
   "codemirror_mode": {
    "name": "ipython",
    "version": 3
   },
   "file_extension": ".py",
   "mimetype": "text/x-python",
   "name": "python",
   "nbconvert_exporter": "python",
   "pygments_lexer": "ipython3",
   "version": "3.7.12"
  },
  "papermill": {
   "default_parameters": {},
   "duration": 19.263583,
   "end_time": "2022-04-14T16:41:51.869800",
   "environment_variables": {},
   "exception": null,
   "input_path": "__notebook__.ipynb",
   "output_path": "__notebook__.ipynb",
   "parameters": {},
   "start_time": "2022-04-14T16:41:32.606217",
   "version": "2.3.3"
  }
 },
 "nbformat": 4,
 "nbformat_minor": 5
}
