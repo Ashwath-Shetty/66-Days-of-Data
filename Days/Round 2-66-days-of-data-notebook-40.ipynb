{
 "cells": [
  {
   "cell_type": "code",
   "execution_count": 1,
   "id": "c733aed9",
   "metadata": {
    "_cell_guid": "b1076dfc-b9ad-4769-8c92-a6c4dae69d19",
    "_uuid": "8f2839f25d086af736a60e9eeb907d3b93b6e0e5",
    "execution": {
     "iopub.execute_input": "2022-04-20T18:06:37.071133Z",
     "iopub.status.busy": "2022-04-20T18:06:37.070094Z",
     "iopub.status.idle": "2022-04-20T18:06:37.084495Z",
     "shell.execute_reply": "2022-04-20T18:06:37.085036Z",
     "shell.execute_reply.started": "2022-04-12T14:12:25.248687Z"
    },
    "papermill": {
     "duration": 0.06654,
     "end_time": "2022-04-20T18:06:37.085302",
     "exception": false,
     "start_time": "2022-04-20T18:06:37.018762",
     "status": "completed"
    },
    "tags": []
   },
   "outputs": [
    {
     "name": "stdout",
     "output_type": "stream",
     "text": [
      "/kaggle/input/sample-pdf/D8communications.pdf\n"
     ]
    }
   ],
   "source": [
    "# This Python 3 environment comes with many helpful analytics libraries installed\n",
    "# It is defined by the kaggle/python Docker image: https://github.com/kaggle/docker-python\n",
    "# For example, here's several helpful packages to load\n",
    "\n",
    "import numpy as np # linear algebra\n",
    "import pandas as pd # data processing, CSV file I/O (e.g. pd.read_csv)\n",
    "\n",
    "# Input data files are available in the read-only \"../input/\" directory\n",
    "# For example, running this (by clicking run or pressing Shift+Enter) will list all files under the input directory\n",
    "\n",
    "import os\n",
    "for dirname, _, filenames in os.walk('/kaggle/input'):\n",
    "    for filename in filenames:\n",
    "        print(os.path.join(dirname, filename))\n",
    "\n",
    "# You can write up to 20GB to the current directory (/kaggle/working/) that gets preserved as output when you create a version using \"Save & Run All\" \n",
    "# You can also write temporary files to /kaggle/temp/, but they won't be saved outside of the current session"
   ]
  },
  {
   "cell_type": "markdown",
   "id": "1ac97300",
   "metadata": {
    "papermill": {
     "duration": 0.044339,
     "end_time": "2022-04-20T18:06:37.176611",
     "exception": false,
     "start_time": "2022-04-20T18:06:37.132272",
     "status": "completed"
    },
    "tags": []
   },
   "source": [
    "# **Start Date: 12/3/2022**"
   ]
  },
  {
   "cell_type": "markdown",
   "id": "9af3f647",
   "metadata": {
    "papermill": {
     "duration": 0.043634,
     "end_time": "2022-04-20T18:06:37.264122",
     "exception": false,
     "start_time": "2022-04-20T18:06:37.220488",
     "status": "completed"
    },
    "tags": []
   },
   "source": [
    "# **Day 1:** \n",
    "<br>dataquest -> stats -> probability-> estimating probability\n",
    "1. out come is nothing but o/p of an experiment\n",
    "ex: whatever u get after rolling a dice -> it can be any number\n",
    "2. event can have more than one outcome\n",
    "- e.x: The event that we'll get an odd number when we roll a six-sided die — this event includes the outcomes 1, 3, and 5.\n",
    "- an event can be 0 as well.\n",
    "- We always assign probabilities to events, not outcomes, even if the event includes only one outcome.\n",
    "- P(E) =1/total number of possible outcomes, P(E) probability of an event happening.\n",
    "- but above formula doesn't work always, especially when there are more than one outcome\n",
    "    - P(E)=number of successful outcomes/total number of possible outcomes\n",
    "- incase of a biased situation \n",
    "  - let's say a die has 6 - 3 times which is 1,6,3,5,6,6\n",
    "    we will consider 6 as 3 times not 1.\n",
    "    possible outcome-> 1,3,5,6,6,6\n",
    "    prob(6)=3/6\n",
    "    prob(3)=1/6\n",
    "    prob(2)=0/6\n",
    "    If we didn't treat each 6 differently and said it doesn't matter which side a 6 is on, \n",
    "    <br>we'd be forced to conclude the only possible outcomes are 1, 3, 5 and 6. We can definitely         <br>frame the problem like that, but the formula above won't work anymore — we see below P(6) <br>becomes the same as P(3), but, intuitively, P(6) should be higher than P(3) since the die has 6 on     <br>three of its sides:\n"
   ]
  },
  {
   "cell_type": "markdown",
   "id": "dfc950b2",
   "metadata": {
    "papermill": {
     "duration": 0.043958,
     "end_time": "2022-04-20T18:06:37.352307",
     "exception": false,
     "start_time": "2022-04-20T18:06:37.308349",
     "status": "completed"
    },
    "tags": []
   },
   "source": [
    "Estimating Probabilities Conclusion\n",
    "- emperical/ experimental probability\n",
    "  - probability achieved by experimenting / by doing the same event multiple times.\n",
    "  - Generally, for any event E (like a coin landing heads up), we can find its empirical probability   \n",
    "     by using the following formula: \n",
    "     •P (E) =number of times event E happened/ number of times we repeated the experiment   \n",
    " - Generally, the empirical probability of an event (a coin landing heads up, getting a 5 when weroll a die) approaches the true probability value as the number of trials of the randomexperiment (a coin toss, the rolling of a die) increases without bound.\n",
    "- When we calculate the probability of an event under the assumption that the outcomes have equal chances of occurring, we say that we're calculating the **theoretical probability** of an event.\n",
    "   - P(E)=number of successful outcomes/total number of possible outcomes\n",
    "\n"
   ]
  },
  {
   "cell_type": "markdown",
   "id": "1ab25b00",
   "metadata": {
    "papermill": {
     "duration": 0.044875,
     "end_time": "2022-04-20T18:06:37.441103",
     "exception": false,
     "start_time": "2022-04-20T18:06:37.396228",
     "status": "completed"
    },
    "tags": []
   },
   "source": [
    "# **Day 2**\n",
    "<br>dataquest-> stats -> intro to probability -> probability rules\n",
    "<br>In probability theory, the set of all possible outcomes is called a sample space. A sample space is often denoted by the capital Greek letter Ω (read \"omega\"). This is how we represent the sample space of a die roll:\n",
    "\n",
    "Ω = {1,2,3,4,5,6}\n",
    "-    The probability of any event ranges between 0 and 1: 0≤ P(Event) ≤1\n",
    "- To calculate P(A or B), we can also use the formula below, which is sometimes called the addition rule: P(A or B) = P(A) + P(B)\n",
    "  - Sample space ={ 1,2,3,4,5,6} \n",
    "  - P(2 or 5) = 2/6\n",
    "\n",
    "- P(C or D) = P(C) + P(D) - P(C and D)\n",
    "   - e.x : Sample_space ={2,4,6} + { 4,5,6} - {4/6}\n",
    "      P( even number or number greater than 3) = ( (3/6) + (3/6) )- (2/6) = 4/6\n",
    "- Events that don't intersect are called mutually exclusive.\n",
    "  - e.x: Getting a 5 (event one) and getting a 3 (event two) when we roll a regular six-sided die — it's  impossible to get both a 5 and 3.\n",
    "- Events that intersect are called mutually non-exclusive.\n",
    "  - Getting a number greater than 2 (event one) and getting an odd number (event two) when we roll a regular six-sided die — we could get a 5, which is both greater than 2 (event one) and odd (event two).\n",
    "- unioun -> A or B, intersection -> A and B"
   ]
  },
  {
   "cell_type": "markdown",
   "id": "cfd101ac",
   "metadata": {
    "papermill": {
     "duration": 0.046778,
     "end_time": "2022-04-20T18:06:37.532790",
     "exception": false,
     "start_time": "2022-04-20T18:06:37.486012",
     "status": "completed"
    },
    "tags": []
   },
   "source": [
    "# Day 3 and 4\n",
    "dataquest -> stats -> probabilities -> solving complex probabilities\n",
    "- This is the same result we got from our previous approach. In more general terms, the multiplication rule says that for two events E1 and E2, the probability that both event E1 and E2 happen can be found by multiplying the probability of E1 by the probability of E2:\n",
    "    - P(E1 ∩ E2) = P(E1) × P(E2)\n",
    "    - Events that don't influence each other's probability are called independent events. If H1 happens, P(H2) stays the same, so H1 and H2 are independent. The multiplication rule we learned only works for independent events.\n",
    "    "
   ]
  },
  {
   "cell_type": "markdown",
   "id": "43cb8ebc",
   "metadata": {
    "papermill": {
     "duration": 0.044946,
     "end_time": "2022-04-20T18:06:37.623859",
     "exception": false,
     "start_time": "2022-04-20T18:06:37.578913",
     "status": "completed"
    },
    "tags": []
   },
   "source": [
    "# Day 5\n",
    "- When we replace the cards after drawing, we say that we're sampling with replacement. When we don't put the cards back, we're sampling without replacement. \n"
   ]
  },
  {
   "cell_type": "markdown",
   "id": "f5383d2e",
   "metadata": {
    "papermill": {
     "duration": 0.043664,
     "end_time": "2022-04-20T18:06:37.711796",
     "exception": false,
     "start_time": "2022-04-20T18:06:37.668132",
     "status": "completed"
    },
    "tags": []
   },
   "source": [
    "# Day6\n",
    "dataquest-> prob and stats -> probability fundamentals -> permutation and combinations\n",
    "Generally, if we have an experiment E1 (like flipping a coin) with a outcomes, followed by an experiment E2 (like rolling a die) with b outcomes, then the total number of outcomes for the composite experiment E1E2 can be found by multiplying a with b:\n",
    "\n",
    "Number of outcomes = a * b"
   ]
  },
  {
   "cell_type": "markdown",
   "id": "56e6f4b8",
   "metadata": {
    "papermill": {
     "duration": 0.044029,
     "end_time": "2022-04-20T18:06:37.800276",
     "exception": false,
     "start_time": "2022-04-20T18:06:37.756247",
     "status": "completed"
    },
    "tags": []
   },
   "source": [
    "# Day 7\n",
    "dataquest-> prob and stats -> probability fundamentals -> permutation and combinations <br>\n",
    "More generally, if we have an experiment E1 with a outcomes, followed by an experiment E2 with b outcomes, followed by an experiment En with z outcomes, the total number of outcomes for the composite experiment E1E2 ... En can be found by multiplying their individual outcomes:\n",
    "\n",
    "Number of outcomes= a * b * … * z"
   ]
  },
  {
   "cell_type": "markdown",
   "id": "ae4fe319",
   "metadata": {
    "papermill": {
     "duration": 0.044868,
     "end_time": "2022-04-20T18:06:37.890089",
     "exception": false,
     "start_time": "2022-04-20T18:06:37.845221",
     "status": "completed"
    },
    "tags": []
   },
   "source": [
    "# Day 8\n",
    "dataquest-> prob and stats -> probability fundamentals -> permutation and combinations <br>\n",
    "permutations= n*(n-1)*(n-2)*....*2*1\n"
   ]
  },
  {
   "cell_type": "markdown",
   "id": "5b6eda8f",
   "metadata": {
    "papermill": {
     "duration": 0.045498,
     "end_time": "2022-04-20T18:06:37.981256",
     "exception": false,
     "start_time": "2022-04-20T18:06:37.935758",
     "status": "completed"
    },
    "tags": []
   },
   "source": [
    "# Day 9\n",
    "dataquest-> prob and stats -> probability fundamentals -> permutation and combinations\n",
    "- in permutation order of the individual element in the arranement matters.\n",
    "   - for e.x: 9821 is different than 9281\n",
    "   - Permutations =n!  --> sample without replacement-> we are not putting back the sampled data.\n",
    "   - On the last screen, we learned to use the formula below to calculate permutations when we're sampling without replacement and taking only k objects from a group of n objects:\n",
    "   npk=n!/(n-k)!"
   ]
  },
  {
   "cell_type": "markdown",
   "id": "6e03e6e6",
   "metadata": {
    "papermill": {
     "duration": 0.046112,
     "end_time": "2022-04-20T18:06:38.073350",
     "exception": false,
     "start_time": "2022-04-20T18:06:38.027238",
     "status": "completed"
    },
    "tags": []
   },
   "source": [
    "# Day 10\n",
    "dataquest-> prob and stats -> probability fundamentals -> permutation and combinations\n",
    "- More generally, if the order of the elements in an arrangement doesn't matter, the arrangement is called a combination.\n",
    "- e.x: cards in a deck \n",
    "- nCk = n! / ((n-k)!*k!)"
   ]
  },
  {
   "cell_type": "markdown",
   "id": "b3148b43",
   "metadata": {
    "papermill": {
     "duration": 0.057735,
     "end_time": "2022-04-20T18:06:38.181235",
     "exception": false,
     "start_time": "2022-04-20T18:06:38.123500",
     "status": "completed"
    },
    "tags": []
   },
   "source": [
    "# Day 11\n",
    "dataquest-> prob and stats -> probability fundamentals -> permutation and combinations\n",
    "- solved 1 probability problem.\n"
   ]
  },
  {
   "cell_type": "markdown",
   "id": "83c1e845",
   "metadata": {
    "papermill": {
     "duration": 0.043822,
     "end_time": "2022-04-20T18:06:38.277948",
     "exception": false,
     "start_time": "2022-04-20T18:06:38.234126",
     "status": "completed"
    },
    "tags": []
   },
   "source": [
    "# Day 12\n",
    "dataquest-> prob and stats -> probability fundamentals -> permutation and combinations\n",
    "- finished probability and permutations by revising them.\n",
    "- If we have an experiment E1 (like flipping a coin) with a outcomes, followed by an experiment E2(like rolling a die) with b outcomes, then the total number of outcomes for the compositeexperiment E1E2 can be found by multiplying a with b (this is known as the rule of product):\n",
    "  - number of outcomes = a*b\n",
    "- If we have an experiment E1 with a outcomes, followed by an experiment E2 with b outcomes,followed by an experiment En with z outcomes, the total number of outcomes for the compositeexperiment E1E2 ... En can be found by multiplying their individual outcomes:\n",
    "   - number of outcomes = a*b* ... *z\n",
    "- There are two kinds of arrangements:\n",
    "   - •Arrangements where the order matters, which we call permutations.\n",
    "   - •Arrangements where the order doesn't matter, which we call combination\n",
    "- To find the number of permutations when we're sampling without replacement, we can use theformula:\n",
    "  - permutation = n!\n",
    "- To find the number of permutations when we're sampling without replacement and taking only kobjects from a group of n objects, we can use the formula:\n",
    "  - nPk = n!/(n-k)!\n",
    "- To find the number of combinations when we're sampling without replacement and taking only kobjects from a group of n objects, we can use the formula\n",
    "  - nCk = n! / ((n-k)!*k!)"
   ]
  },
  {
   "cell_type": "markdown",
   "id": "cbde078e",
   "metadata": {
    "papermill": {
     "duration": 0.043749,
     "end_time": "2022-04-20T18:06:38.365596",
     "exception": false,
     "start_time": "2022-04-20T18:06:38.321847",
     "status": "completed"
    },
    "tags": []
   },
   "source": [
    "# Day 13\n",
    "dataquest-> prob and stats -> probability fundamentals -> conditional probabilities\n",
    "- first 2 slides -> mainly the recap of old chapter(above one).\n"
   ]
  },
  {
   "cell_type": "markdown",
   "id": "7e6fb1f1",
   "metadata": {
    "papermill": {
     "duration": 0.043613,
     "end_time": "2022-04-20T18:06:38.452875",
     "exception": false,
     "start_time": "2022-04-20T18:06:38.409262",
     "status": "completed"
    },
    "tags": []
   },
   "source": [
    "# Day 14\n",
    "dataquest-> prob and stats -> probability fundamentals -> conditional probabilities\n",
    "<br>slide 4 completed\n",
    "<br>conditional probabilities\n",
    "- probabilities with condition\n",
    "- P(5)=What is the probability of getting a 5? -> normal probability\n",
    "- P(5 | odd) =What is the probability of getting a 5 given the die showed an odd number? -> conditional prob.\n",
    "\n"
   ]
  },
  {
   "cell_type": "markdown",
   "id": "919f77e0",
   "metadata": {
    "papermill": {
     "duration": 0.043576,
     "end_time": "2022-04-20T18:06:38.540091",
     "exception": false,
     "start_time": "2022-04-20T18:06:38.496515",
     "status": "completed"
    },
    "tags": []
   },
   "source": [
    "# Day 15\n",
    "dataquest-> prob and stats -> probability fundamentals -> conditional probabilities\n",
    "- on slide 5 not done yet.\n",
    "\n",
    "Say we roll a fair six-sided die and want to find the probability of getting an odd number, given the die showed a number greater than 1 after landing. Using probability notation, we want to find P(A|B) where:\n",
    "\n",
    "- A is the event that the number is odd: A = {1, 3, 5}\n",
    "- B is the event that the number is greater than 1: B = {2, 3, 4, 5, 6}\n",
    "- P(A/B)=number of succesfull outcomes / total number of outcomes.\n"
   ]
  },
  {
   "cell_type": "markdown",
   "id": "aa5c78ea",
   "metadata": {
    "papermill": {
     "duration": 0.043439,
     "end_time": "2022-04-20T18:06:38.627170",
     "exception": false,
     "start_time": "2022-04-20T18:06:38.583731",
     "status": "completed"
    },
    "tags": []
   },
   "source": [
    "# Day 16 and 17\n",
    "dataquest-> prob and stats -> probability fundamentals -> conditional probabilities\n",
    "\n",
    "on slide 6 not done yet."
   ]
  },
  {
   "cell_type": "markdown",
   "id": "a15e3e07",
   "metadata": {
    "papermill": {
     "duration": 0.043301,
     "end_time": "2022-04-20T18:06:38.714109",
     "exception": false,
     "start_time": "2022-04-20T18:06:38.670808",
     "status": "completed"
    },
    "tags": []
   },
   "source": [
    "# Day 18\n",
    "dataquest-> prob and stats -> probability fundamentals -> conditional probabilities\n",
    "<br>slide 5 code half done"
   ]
  },
  {
   "cell_type": "markdown",
   "id": "a74f4a61",
   "metadata": {
    "papermill": {
     "duration": 0.043921,
     "end_time": "2022-04-20T18:06:38.801979",
     "exception": false,
     "start_time": "2022-04-20T18:06:38.758058",
     "status": "completed"
    },
    "tags": []
   },
   "source": [
    "# Day 19\n",
    "- The number of elements in a set is called the cardinal of the set. \n",
    "  Ω is a set, and the cardinal of \n",
    "   Ω = { 2,3,4,5,6}\n",
    "   cardinal(Ω)=5\n",
    "- P(A | B) = card(A ∩ B) / card(B)\n",
    "- Say we roll a fair six-sided die and want to find the probability of getting an odd number, given the die showed a number greater than 1 after landing. Using probability notation, we want to find P(A|B) where:\n",
    "    - A is the event that the number is odd: A = {1, 3, 5}\n",
    "     - B is the event that the number is greater than 1: B = {2, 3, 4, 5, 6}\n",
    "     - total number of possible outcomes = card({2,3,4,5,6}) =5\n",
    "     - number of successful outcomes = card({3,5})= 2\n",
    "- P(A | B) = card(A ∩ B) / card(B), we can also get the same result using P(A | B) = prob(A ∩ B) / prob(B)\n",
    "\n",
    "     "
   ]
  },
  {
   "cell_type": "markdown",
   "id": "acadf2b1",
   "metadata": {
    "papermill": {
     "duration": 0.044081,
     "end_time": "2022-04-20T18:06:38.890600",
     "exception": false,
     "start_time": "2022-04-20T18:06:38.846519",
     "status": "completed"
    },
    "tags": []
   },
   "source": [
    "# Day 20\n",
    "dataquest-> prob and stats -> probability fundamentals -> conditional probabilities intermediate\n",
    "<br> slide 1 and 2\n",
    "- P( A | B ) ≠ P(A ∩ B), but rather:\n",
    "   - P(A | B) = P(A ∩ B) / P(B)\n",
    "   - P(A ∩ B) = P(A | B) ⋅ P(B)\n",
    "- Given that a customer bought a laptop, they will or will not also buy a mouse. This means we can be certain that either event (M|L) or (M^C|L) will happen:\n",
    "     - P(M | L) + P(M^C | L) = 1\n",
    "\n"
   ]
  },
  {
   "cell_type": "markdown",
   "id": "59c1121d",
   "metadata": {
    "papermill": {
     "duration": 0.043997,
     "end_time": "2022-04-20T18:06:38.978559",
     "exception": false,
     "start_time": "2022-04-20T18:06:38.934562",
     "status": "completed"
    },
    "tags": []
   },
   "source": [
    "# Day 21\n",
    "dataquest-> prob and stats -> probability fundamentals -> conditional probabilities intermediate\n",
    "slide 1 and 2\n",
    "- P(A ∩ B) = P(B ∩ A)\n",
    "- multiplication rule of probability\n",
    "  -  P(A ∩ B) = P(B) ⋅ P(A | B) \n",
    "  - P(A ∩ B) = P(A) ⋅ P(B | A)\n",
    "- if P(A) and P(B) are statistically independent then \n",
    "  - P(A ∩ B) = P(A) ⋅ P(B)\n",
    "\n"
   ]
  },
  {
   "cell_type": "markdown",
   "id": "4d396b4b",
   "metadata": {
    "papermill": {
     "duration": 0.044539,
     "end_time": "2022-04-20T18:06:39.067813",
     "exception": false,
     "start_time": "2022-04-20T18:06:39.023274",
     "status": "completed"
    },
    "tags": []
   },
   "source": [
    "# Day 22\n",
    "dataquest-> prob and stats -> probability fundamentals -> conditional probabilities intermediate \n",
    "<br>slide 6\n",
    "- If events events A and B are dependent, it means the occurrence of event A changes the probability of event B and vice versa.\n",
    "   - P(A) ≠ P(A | B)\n",
    "   - P(B) ≠ P(B | A)\n",
    "   - P(A ∩ B) ≠ P(A) ⋅ P(B)\n",
    "   - formula will become P(A ∩ B) ≠ P(A) ⋅ P(B/A)\n",
    "   "
   ]
  },
  {
   "cell_type": "markdown",
   "id": "305eced1",
   "metadata": {
    "papermill": {
     "duration": 0.044181,
     "end_time": "2022-04-20T18:06:39.156936",
     "exception": false,
     "start_time": "2022-04-20T18:06:39.112755",
     "status": "completed"
    },
    "tags": []
   },
   "source": [
    "# Day 23\n",
    "dataquest-> prob and stats -> probability fundamentals -> conditional probabilities intermediate\n",
    "<br>slide 7 to last\n",
    "- To find whether three events — A, B, C — are independent or not, below conditions must hold true -\n",
    "  - P(A ∩ B) ≠ P(A) ⋅ P(B)\n",
    "  - P(A ∩ C) ≠ P(A) ⋅ P(C)\n",
    "  - P(B ∩ C) ≠ P(B) ⋅ P(C)\n",
    "  - P(A ∩ B ∩ C) ≠ P(A) ⋅ P(B) . P(C)\n",
    "- multiplication rule for conditional probability or dependent events\n",
    " - P(A ∩ B ∩ C) = P(A) ⋅ P(B | A) ⋅ P(C | A ∩ B)\n",
    " \n",
    "\n"
   ]
  },
  {
   "cell_type": "markdown",
   "id": "5518c2e4",
   "metadata": {
    "papermill": {
     "duration": 0.045158,
     "end_time": "2022-04-20T18:06:39.246419",
     "exception": false,
     "start_time": "2022-04-20T18:06:39.201261",
     "status": "completed"
    },
    "tags": []
   },
   "source": [
    "# Day 24\n",
    "dataquest-> prob and stats -> probability fundamentals -> bayes theorem\n",
    "<br>slide 1\n",
    "- independent -> one event is dependent on other\n",
    "   - P(A ∩ B) = P(A) ⋅ P(B/A)\n",
    "- independent -> one event is not dependent on other.\n",
    "   - P(A ∩ B) = P(A) ⋅ P(B)\n",
    "- mutually exclusive -> both the events cannot happen at the same time.\n",
    "   - P(A ∩ B) = 0\n",
    "\n"
   ]
  },
  {
   "cell_type": "markdown",
   "id": "eceeb470",
   "metadata": {
    "papermill": {
     "duration": 0.043867,
     "end_time": "2022-04-20T18:06:39.334490",
     "exception": false,
     "start_time": "2022-04-20T18:06:39.290623",
     "status": "completed"
    },
    "tags": []
   },
   "source": [
    "# Day 25\n",
    "dataquest-> prob and stats -> probability fundamentals -> bayes theorem\n",
    "<br>slide 2\n",
    "- If two events are exhaustive, it means they make up the whole sample space Ω\n",
    "  -  P(A) = P(A ∩ B) + P(A ∩ B^c)\n",
    "     P(A) = (P(B) * P(A/B)) +  (P(B^c) * P(A/B^c))\n",
    "     \n",
    "     "
   ]
  },
  {
   "cell_type": "markdown",
   "id": "83a0212e",
   "metadata": {
    "papermill": {
     "duration": 0.044821,
     "end_time": "2022-04-20T18:06:39.423585",
     "exception": false,
     "start_time": "2022-04-20T18:06:39.378764",
     "status": "completed"
    },
    "tags": []
   },
   "source": [
    "# Day 26\n",
    "dataquest-> prob and stats -> probability fundamentals -> bayes theorem\n",
    "<br>slide 3 - last\n",
    "- the law of total probability\n",
    "  - P(A)  = (P(B1) * P(A/B1)) + (P(B2) * P(A/B2))+ ... + (P(Bn) * P(A/Bn)))\n",
    "  - P(A) =(summattion i=1 to n) P(Bi) ⋅ P(A|Bi)\n",
    "- Baye's theorem\n",
    "  - P(B | A) = (P(B) ⋅ P(A | B)) / (n ∑i=1 P(Bi) ⋅ P(A | Bi))\n",
    "- The probability of being infected with HIV before doing any test is called the prior probability (\"prior\" means \"before\"). The probability of being infected with HIV after testing positive is called the posterior probability (\"posterior\" means \"after\").\n",
    "\n",
    "\n",
    "  "
   ]
  },
  {
   "cell_type": "markdown",
   "id": "3e5c29c9",
   "metadata": {
    "papermill": {
     "duration": 0.044371,
     "end_time": "2022-04-20T18:06:39.512307",
     "exception": false,
     "start_time": "2022-04-20T18:06:39.467936",
     "status": "completed"
    },
    "tags": []
   },
   "source": [
    "# Day 27\n",
    "dataquest-> prob and stats -> probability fundamentals -> naive bayes theorem\n",
    "<br>slide 1 - \n",
    "P(Spam|w1,w2,w3,w4)∝P(Spam)⋅P(w1|Spam)⋅P(w2|Spam)⋅P(w3|Spam)⋅P(w4|Spam)P(SpamC|w1,w2,w3,w4)∝P(SpamC)⋅P(w1|SpamC)⋅P(w2|SpamC)⋅P(w3|SpamC)⋅P(w4|SpamC)"
   ]
  },
  {
   "cell_type": "markdown",
   "id": "b6d153df",
   "metadata": {
    "papermill": {
     "duration": 0.043885,
     "end_time": "2022-04-20T18:06:39.600522",
     "exception": false,
     "start_time": "2022-04-20T18:06:39.556637",
     "status": "completed"
    },
    "tags": []
   },
   "source": [
    "# Day 28\n",
    "dataquest-> prob and stats -> probability fundamentals -> naive bayes theorem\n",
    "<br>finished.\n",
    "<br>**Summary**\n",
    "- P(Spam|w1,w2,...,wn)∝P(Spam)⋅n∏i=1P(wi|Spam)\n",
    "- P(SpamC|w1,w2,...,wn)∝P(SpamC)⋅n∏i=1P(wi|SpamC)\n",
    "- To calculate P(wi|Spam) and P(wi|SpamC), we need to use the additive smoothing technique: \n",
    "- P ( w i | S p a m ) = (N w i | S p a m + α) / ( N S p a m + α ⋅ N V o c a b u l a r y )\n",
    "- P ( w i | S p a m C ) = (N w i | S p a m C + α) / ( N S p a m C + α ⋅ N V o c a b u l a r y )\n",
    "     - N w i | S p a m = the number of times the word w i occurs in spam messages \n",
    "     - N w i | S p a m C = the number of times the word w i occurs in non-spam messages \n",
    "     - N S p a m = total number of words in spam messages \n",
    "     - N S p a m C = total number of words in non-spam messages \n",
    "     - N V o c a b u l a r y = total number of words in the vocabulary \n",
    "     - α = 1 ( α is a smoothing parameter )\n",
    " - naive bayes theorem assumes that events are not dependent.\n",
    " - The assumption of conditional independence between words is thus naive since it rarely holds in practice, and this is why the algorithm is called Naive Bayes (also called simple Bayes or independence Bayes)."
   ]
  },
  {
   "cell_type": "markdown",
   "id": "e54aef72",
   "metadata": {
    "papermill": {
     "duration": 0.043357,
     "end_time": "2022-04-20T18:06:39.691553",
     "exception": false,
     "start_time": "2022-04-20T18:06:39.648196",
     "status": "completed"
    },
    "tags": []
   },
   "source": [
    "# Day 29,30,31\n",
    "<br>dataquest-> prob and stats -> probability fundamentals -> conditional probability-> guided projects\n",
    "<br> in progress"
   ]
  },
  {
   "cell_type": "markdown",
   "id": "3275dd6a",
   "metadata": {
    "papermill": {
     "duration": 0.043753,
     "end_time": "2022-04-20T18:06:39.778906",
     "exception": false,
     "start_time": "2022-04-20T18:06:39.735153",
     "status": "completed"
    },
    "tags": []
   },
   "source": [
    "# Day 32 and 33\n",
    "<br>dataquest-> prob and stats -> probability fundamentals -> guided projects\n",
    "<br> done"
   ]
  },
  {
   "cell_type": "markdown",
   "id": "cb204cd8",
   "metadata": {
    "papermill": {
     "duration": 0.043319,
     "end_time": "2022-04-20T18:06:39.867303",
     "exception": false,
     "start_time": "2022-04-20T18:06:39.823984",
     "status": "completed"
    },
    "tags": []
   },
   "source": [
    "# Day 34\n",
    "<br>dataquest-> prob and stats -> probability fundamentals -> guided projects-> lottery prediction\n",
    "<br> done"
   ]
  },
  {
   "cell_type": "markdown",
   "id": "50dad26c",
   "metadata": {
    "papermill": {
     "duration": 0.044219,
     "end_time": "2022-04-20T18:06:39.955139",
     "exception": false,
     "start_time": "2022-04-20T18:06:39.910920",
     "status": "completed"
    },
    "tags": []
   },
   "source": [
    "# Day 35\n",
    "<br>dataquest-> prob and stats -> hypothesis testing fundamentals -> significance testing\n",
    "<br> till slide 4\n",
    "- null hypothesis\n",
    "- alternate hypothesis\n"
   ]
  },
  {
   "cell_type": "markdown",
   "id": "597b08b4",
   "metadata": {
    "papermill": {
     "duration": 0.043422,
     "end_time": "2022-04-20T18:06:40.042566",
     "exception": false,
     "start_time": "2022-04-20T18:06:39.999144",
     "status": "completed"
    },
    "tags": []
   },
   "source": [
    "# Day 36 and 37\n",
    "<br>dataquest-> prob and stats -> hypothesis testing fundamentals -> significance testing\n",
    "- The permutation test is a statistical test that involves rerunning the study many times and recalculating the test statistic for each iteration. The goal is to calculate a distribution of the test statistics over these many iterations. This distribution is called the sampling distribution and it approximates the full range of possible test statistics under the null hypothesis\n",
    "\n"
   ]
  },
  {
   "cell_type": "markdown",
   "id": "fa38d133",
   "metadata": {
    "papermill": {
     "duration": 0.043687,
     "end_time": "2022-04-20T18:06:40.131972",
     "exception": false,
     "start_time": "2022-04-20T18:06:40.088285",
     "status": "completed"
    },
    "tags": []
   },
   "source": [
    "# Day 38\n",
    "<br>dataquest-> prob and stats -> hypothesis testing fundamentals -> significance testing\n",
    "<br>in progress."
   ]
  },
  {
   "cell_type": "markdown",
   "id": "c90c6885",
   "metadata": {
    "papermill": {
     "duration": 0.043733,
     "end_time": "2022-04-20T18:06:40.219636",
     "exception": false,
     "start_time": "2022-04-20T18:06:40.175903",
     "status": "completed"
    },
    "tags": []
   },
   "source": [
    "# Day 39\n",
    "<br>dataquest-> prob and stats -> hypothesis testing fundamentals -> significance testing\n",
    "<br>slide 5-6"
   ]
  },
  {
   "cell_type": "markdown",
   "id": "80756193",
   "metadata": {
    "papermill": {
     "duration": 0.043424,
     "end_time": "2022-04-20T18:06:40.306697",
     "exception": false,
     "start_time": "2022-04-20T18:06:40.263273",
     "status": "completed"
    },
    "tags": []
   },
   "source": [
    "# Day 40\n",
    "<br>dataquest-> prob and stats -> hypothesis testing fundamentals -> significance testing\n",
    "<br>slide 7"
   ]
  },
  {
   "cell_type": "code",
   "execution_count": 2,
   "id": "ad338fe6",
   "metadata": {
    "execution": {
     "iopub.execute_input": "2022-04-20T18:06:40.396792Z",
     "iopub.status.busy": "2022-04-20T18:06:40.396240Z",
     "iopub.status.idle": "2022-04-20T18:06:40.398729Z",
     "shell.execute_reply": "2022-04-20T18:06:40.399221Z",
     "shell.execute_reply.started": "2022-04-12T14:17:49.333113Z"
    },
    "papermill": {
     "duration": 0.048975,
     "end_time": "2022-04-20T18:06:40.399365",
     "exception": false,
     "start_time": "2022-04-20T18:06:40.350390",
     "status": "completed"
    },
    "tags": []
   },
   "outputs": [],
   "source": [
    "# !pip install PyMuPDF"
   ]
  },
  {
   "cell_type": "code",
   "execution_count": 3,
   "id": "3b76dc3a",
   "metadata": {
    "execution": {
     "iopub.execute_input": "2022-04-20T18:06:40.489740Z",
     "iopub.status.busy": "2022-04-20T18:06:40.489133Z",
     "iopub.status.idle": "2022-04-20T18:06:40.491702Z",
     "shell.execute_reply": "2022-04-20T18:06:40.492211Z",
     "shell.execute_reply.started": "2022-04-12T14:19:20.437905Z"
    },
    "papermill": {
     "duration": 0.049281,
     "end_time": "2022-04-20T18:06:40.492360",
     "exception": false,
     "start_time": "2022-04-20T18:06:40.443079",
     "status": "completed"
    },
    "tags": []
   },
   "outputs": [],
   "source": [
    " \n",
    "# fitz.__version__"
   ]
  },
  {
   "cell_type": "code",
   "execution_count": 4,
   "id": "49a3fe64",
   "metadata": {
    "execution": {
     "iopub.execute_input": "2022-04-20T18:06:40.584137Z",
     "iopub.status.busy": "2022-04-20T18:06:40.583569Z",
     "iopub.status.idle": "2022-04-20T18:06:40.586139Z",
     "shell.execute_reply": "2022-04-20T18:06:40.586727Z",
     "shell.execute_reply.started": "2022-04-12T14:23:59.687259Z"
    },
    "papermill": {
     "duration": 0.05061,
     "end_time": "2022-04-20T18:06:40.586886",
     "exception": false,
     "start_time": "2022-04-20T18:06:40.536276",
     "status": "completed"
    },
    "tags": []
   },
   "outputs": [],
   "source": [
    "# !python -m spacy download en_core_web_sm"
   ]
  },
  {
   "cell_type": "code",
   "execution_count": null,
   "id": "474897e6",
   "metadata": {
    "papermill": {
     "duration": 0.044276,
     "end_time": "2022-04-20T18:06:40.675288",
     "exception": false,
     "start_time": "2022-04-20T18:06:40.631012",
     "status": "completed"
    },
    "tags": []
   },
   "outputs": [],
   "source": []
  },
  {
   "cell_type": "code",
   "execution_count": 5,
   "id": "1b2270a0",
   "metadata": {
    "execution": {
     "iopub.execute_input": "2022-04-20T18:06:40.767319Z",
     "iopub.status.busy": "2022-04-20T18:06:40.766759Z",
     "iopub.status.idle": "2022-04-20T18:06:40.769270Z",
     "shell.execute_reply": "2022-04-20T18:06:40.768861Z",
     "shell.execute_reply.started": "2022-04-12T14:18:25.912243Z"
    },
    "papermill": {
     "duration": 0.050161,
     "end_time": "2022-04-20T18:06:40.769396",
     "exception": false,
     "start_time": "2022-04-20T18:06:40.719235",
     "status": "completed"
    },
    "tags": []
   },
   "outputs": [],
   "source": [
    "# import fitz\n",
    "# import spacy\n",
    "# import re\n",
    "# from pathlib import Path\n",
    "# import requests\n",
    "# import os"
   ]
  },
  {
   "cell_type": "code",
   "execution_count": 6,
   "id": "165e0c6e",
   "metadata": {
    "execution": {
     "iopub.execute_input": "2022-04-20T18:06:40.862489Z",
     "iopub.status.busy": "2022-04-20T18:06:40.861849Z",
     "iopub.status.idle": "2022-04-20T18:06:40.865109Z",
     "shell.execute_reply": "2022-04-20T18:06:40.865608Z",
     "shell.execute_reply.started": "2022-04-12T15:03:43.5897Z"
    },
    "papermill": {
     "duration": 0.052335,
     "end_time": "2022-04-20T18:06:40.865770",
     "exception": false,
     "start_time": "2022-04-20T18:06:40.813435",
     "status": "completed"
    },
    "tags": []
   },
   "outputs": [],
   "source": [
    "# sql_db_json = [\n",
    "#   {\n",
    "#     \"document_id\": \"1\",\n",
    "#     \"area\": \"[72.1149,661.2966,131.95729,675.1716]\",\n",
    "#     \"page\": \"3\",\n",
    "#     \"text_\": \"Background\",\n",
    "#     \"type_of_selection\": \"Text\",\n",
    "#     \"entity_type\": \"name\",\n",
    "#     \"link\": \"https://redactable-devox-stage.s3.us-east-2.amazonaws.com/tenants/41d9e109-693b-444c-aa18-e5891bc6550b/original/1a7c0e5d-3237-4ca9-9e3d-89e707245ac6/D8communications.pdf\"\n",
    "#   },\n",
    "#   {\n",
    "#     \"document_id\": \"1\",\n",
    "#     \"area\": \"[290.55386,632.0173,322.14685,645.8923]\",\n",
    "#     \"page\": \"2\",\n",
    "#     \"text_\": \"INDEX\",\n",
    "#     \"type_of_selection\": \"Text\",\n",
    "#     \"entity_type\": \"address\",\n",
    "#     \"link\": \"https://redactable-devox-stage.s3.us-east-2.amazonaws.com/tenants/41d9e109-693b-444c-aa18-e5891bc6550b/original/1a7c0e5d-3237-4ca9-9e3d-89e707245ac6/D8communications.pdf\"\n",
    "#   }\n",
    "# ]"
   ]
  },
  {
   "cell_type": "code",
   "execution_count": 7,
   "id": "30d2a251",
   "metadata": {
    "execution": {
     "iopub.execute_input": "2022-04-20T18:06:40.957203Z",
     "iopub.status.busy": "2022-04-20T18:06:40.956642Z",
     "iopub.status.idle": "2022-04-20T18:06:40.959032Z",
     "shell.execute_reply": "2022-04-20T18:06:40.959400Z",
     "shell.execute_reply.started": "2022-04-12T13:17:19.452695Z"
    },
    "papermill": {
     "duration": 0.049915,
     "end_time": "2022-04-20T18:06:40.959589",
     "exception": false,
     "start_time": "2022-04-20T18:06:40.909674",
     "status": "completed"
    },
    "tags": []
   },
   "outputs": [],
   "source": [
    "# l=pd.DataFrame()\n",
    "# k=(1, '[290.55386,632.0173,322.14685,645.8923]', 2, 'INDEX', 'Text', 'address', 'https://redactable-devox-s')\n",
    "# k\n"
   ]
  },
  {
   "cell_type": "code",
   "execution_count": 8,
   "id": "cbd1beb4",
   "metadata": {
    "execution": {
     "iopub.execute_input": "2022-04-20T18:06:41.052193Z",
     "iopub.status.busy": "2022-04-20T18:06:41.051623Z",
     "iopub.status.idle": "2022-04-20T18:06:41.053135Z",
     "shell.execute_reply": "2022-04-20T18:06:41.053611Z",
     "shell.execute_reply.started": "2022-04-12T16:09:33.708631Z"
    },
    "papermill": {
     "duration": 0.050061,
     "end_time": "2022-04-20T18:06:41.053770",
     "exception": false,
     "start_time": "2022-04-20T18:06:41.003709",
     "status": "completed"
    },
    "tags": []
   },
   "outputs": [],
   "source": [
    "# co=[\"document_id\",\"area\",\"page\",\"text_\",\"type_of_selection\",\"entity_type\",\"link\"]\n",
    "# val= [(1,'[72.1149,661.2966,131.95729,675.1716]',3,'Background','Text','name' ,'https://redactable-devox-stage.s3.us-east-2.am'), (1,  '[290.55386,632.0173,322.14685,645.8923]',2,'INDEX', 'Text','address','https://redactable-devox-stage.s3.us-east-2.am')]\n",
    "\n",
    "# df=pd.DataFrame(val,columns=[co])\n",
    "# #df.iloc[1] =[1,  '[290.55386,632.0173,322.14685,645.8923]',2,'INDEX', 'Text','address','https://redactable-devox-stage.s3.us-east-2.am']\n",
    "# df"
   ]
  },
  {
   "cell_type": "code",
   "execution_count": 9,
   "id": "c221b917",
   "metadata": {
    "execution": {
     "iopub.execute_input": "2022-04-20T18:06:41.145958Z",
     "iopub.status.busy": "2022-04-20T18:06:41.145311Z",
     "iopub.status.idle": "2022-04-20T18:06:41.147911Z",
     "shell.execute_reply": "2022-04-20T18:06:41.148290Z",
     "shell.execute_reply.started": "2022-04-12T16:18:22.595374Z"
    },
    "papermill": {
     "duration": 0.049993,
     "end_time": "2022-04-20T18:06:41.148474",
     "exception": false,
     "start_time": "2022-04-20T18:06:41.098481",
     "status": "completed"
    },
    "tags": []
   },
   "outputs": [],
   "source": [
    "# prev=[]\n",
    "# for data,row in df.iterrows():\n",
    "#     if row['document_id'] not in prev:\n",
    "#         prev.append(row['document_id'])\n",
    "#         print('hey')"
   ]
  },
  {
   "cell_type": "code",
   "execution_count": 10,
   "id": "663d27a5",
   "metadata": {
    "execution": {
     "iopub.execute_input": "2022-04-20T18:06:41.241293Z",
     "iopub.status.busy": "2022-04-20T18:06:41.240706Z",
     "iopub.status.idle": "2022-04-20T18:06:41.244529Z",
     "shell.execute_reply": "2022-04-20T18:06:41.244967Z",
     "shell.execute_reply.started": "2022-04-12T15:03:48.248836Z"
    },
    "papermill": {
     "duration": 0.052129,
     "end_time": "2022-04-20T18:06:41.245120",
     "exception": false,
     "start_time": "2022-04-20T18:06:41.192991",
     "status": "completed"
    },
    "tags": []
   },
   "outputs": [],
   "source": [
    "# nlp = spacy.load('en_core_web_sm')\n",
    "# train_data = []\n",
    "\n",
    "# prev_doc_id = ''\n",
    "# i=0\n",
    "# temp='/kaggle/working'\n",
    "\n",
    "# for data in sql_db_json:\n",
    "#     if data['type_of_selection'] == 'Text':\n",
    "#         document_id = data['document_id']\n",
    "#         x1,y1,x2,y2 = data['area'][1:-1].split(',')\n",
    "#         url = data['link']\n",
    "#         page_no = int(data['page']) - 1 \n",
    "#         label = data['entity_type']\n",
    "#         filename = url.split('/')[-1]\n",
    "    \n",
    "#         #download the file to temp folder\n",
    "#         outpath = os.path.join(temp,filename)\n",
    "\n",
    "#         if document_id == prev_doc_id:\n",
    "#             pass\n",
    "#         else: \n",
    "#             i+=1\n",
    "#             print(i)\n",
    "#             response = requests.get(url)\n",
    "#             with open(outpath, \"wb\") as binary_file:\n",
    "#                 binary_file.write(response.content)\n",
    "\n",
    "#         doc = fitz.open(outpath)  # any supported document type\n",
    "#         page = doc[page_no]  # we want text from this page\n",
    "#         print('page dimension - ', page.rect.width, page.rect.height)\n",
    "\n",
    "#         #The co-ordinates in the DB are image co-ords. W.r.t pdf, y1 and y2 has to be interchanged.\n",
    "#         #To ensure entire word to be selected, slight correction in x1,y1,x2,y2 is done.\n",
    "\n",
    "#         rect = [float(x1)-2, 792 - float(y2)-2, float(x2)+2, 792 - float(y1)+2]\n",
    "#         print(rect)\n",
    "#         labelled_text = page.get_textbox(rect)\n",
    "\n",
    "#         #Removing all unprintable characters from the text\n",
    "#         string = re.sub('[^0-9a-zA-Z@?|\\/<>.,()&^%$#!]+', ' ', labelled_text)\n",
    "#         print('string : ', string)\n",
    "\n",
    "#         fulltext = page.get_text()\n",
    "#         doc = nlp(fulltext)\n",
    "\n",
    "#         sentences = []\n",
    "#         for sent in doc.sents:\n",
    "#             if string.strip() in sent.text:\n",
    "#                 text = re.sub('[^0-9a-zA-Z@?|\\/<>.,()&^%$#!]+', ' ', sent.text)\n",
    "\n",
    "#         res = re.search(string.strip(), text)\n",
    "\n",
    "#         entities = []\n",
    "#         entities.append((res.start(),res.end(),label))\n",
    "\n",
    "#         train_data.append((text,{'entities':entities}))\n",
    "\n",
    "# print('Training data in spacy format')\n",
    "# print('*****************************')\n",
    "# for i in range(0,len(train_data)):\n",
    "#     print(train_data[i])"
   ]
  },
  {
   "cell_type": "code",
   "execution_count": null,
   "id": "d98d7a3c",
   "metadata": {
    "papermill": {
     "duration": 0.043733,
     "end_time": "2022-04-20T18:06:41.332748",
     "exception": false,
     "start_time": "2022-04-20T18:06:41.289015",
     "status": "completed"
    },
    "tags": []
   },
   "outputs": [],
   "source": []
  },
  {
   "cell_type": "code",
   "execution_count": 11,
   "id": "6bd7c511",
   "metadata": {
    "execution": {
     "iopub.execute_input": "2022-04-20T18:06:41.423294Z",
     "iopub.status.busy": "2022-04-20T18:06:41.422708Z",
     "iopub.status.idle": "2022-04-20T18:06:41.426532Z",
     "shell.execute_reply": "2022-04-20T18:06:41.426970Z",
     "shell.execute_reply.started": "2022-04-12T11:44:59.253637Z"
    },
    "papermill": {
     "duration": 0.050562,
     "end_time": "2022-04-20T18:06:41.427125",
     "exception": false,
     "start_time": "2022-04-20T18:06:41.376563",
     "status": "completed"
    },
    "tags": []
   },
   "outputs": [],
   "source": [
    "# nlp = spacy.load('en_core_web_sm')\n",
    "# train_data = []\n",
    "\n",
    "# prev_doc_id = ''\n",
    "# temp='/kaggle/working'\n",
    "# i=0\n",
    "# for data in sql_db_json:\n",
    "#     if data['type_of_selection'] == 'Text':\n",
    "#         document_id = data['document_id']\n",
    "#         x1,y1,x2,y2 = data['area'][1:-1].split(',')\n",
    "#         url = data['link']\n",
    "#         page_no = int(data['page']) - 1 \n",
    "#         label = data['entity_type']\n",
    "#         filename = url.split('/')[-1]\n",
    "    \n",
    "#         #download the file to temp folder\n",
    "#         i+=1\n",
    "#         print(i)\n",
    "#         response = requests.get(url)\n",
    "#         doc = fitz.open(stream=response.content,filetype=\"pdf\")  # any supported document type\n",
    "#         page = doc[page_no]  # we want text from this page\n",
    "#         print('page dimension - ', page.rect.width, page.rect.height)\n",
    "\n",
    "#         #The co-ordinates in the DB are image co-ords. W.r.t pdf, y1 and y2 has to be interchanged.\n",
    "#         #To ensure entire word to be selected, slight correction in x1,y1,x2,y2 is done.\n",
    "\n",
    "#         rect = [float(x1)-2, 792 - float(y2)-2, float(x2)+2, 792 - float(y1)+2]\n",
    "#         print(rect)\n",
    "#         labelled_text = page.get_textbox(rect)\n",
    "\n",
    "#         #Removing all unprintable characters from the text\n",
    "#         string = re.sub('[^0-9a-zA-Z@?|\\/<>.,()&^%$#!]+', ' ', labelled_text)\n",
    "#         print('string : ', string)\n",
    "\n",
    "#         fulltext = page.get_text()\n",
    "#         doc = nlp(fulltext)\n",
    "\n",
    "#         sentences = []\n",
    "#         for sent in doc.sents:\n",
    "#             if string.strip() in sent.text:\n",
    "#                 text = re.sub('[^0-9a-zA-Z@?|\\/<>.,()&^%$#!]+', ' ', sent.text)\n",
    "\n",
    "#         res = re.search(string.strip(), text)\n",
    "\n",
    "#         entities = []\n",
    "#         entities.append((res.start(),res.end(),label))\n",
    "\n",
    "#         train_data.append((text,{'entities':entities}))\n",
    "\n",
    "# print('Training data in spacy format')\n",
    "# print('*****************************')\n",
    "# for i in range(0,len(train_data)):\n",
    "#     print(train_data[i])"
   ]
  },
  {
   "cell_type": "code",
   "execution_count": 12,
   "id": "6951c43b",
   "metadata": {
    "execution": {
     "iopub.execute_input": "2022-04-20T18:06:41.517984Z",
     "iopub.status.busy": "2022-04-20T18:06:41.517300Z",
     "iopub.status.idle": "2022-04-20T18:06:41.520019Z",
     "shell.execute_reply": "2022-04-20T18:06:41.520442Z"
    },
    "papermill": {
     "duration": 0.049531,
     "end_time": "2022-04-20T18:06:41.520619",
     "exception": false,
     "start_time": "2022-04-20T18:06:41.471088",
     "status": "completed"
    },
    "tags": []
   },
   "outputs": [],
   "source": [
    "# page dimension -  612.0 792.0\n",
    "# [70.1149, 114.82839999999999, 133.95729, 132.7034]\n",
    "# string :  Background\n",
    "# page dimension -  612.0 792.0\n",
    "# [288.55386, 144.10770000000002, 324.14685, 161.98270000000002]\n",
    "# string :  INDEX\n",
    "# Training data in spacy format\n",
    "# *****************************\n",
    "# (' 3 Background The Blue Ribbon Committee was created by the Mayor to assess various city communication methods and recommend opportunities to improve communications with residents, businesses and other organizations.', {'entities': [(3, 13, 'name')]})\n",
    "# (' 2 INDEX Background Pg. 3 Purpose Pg. 3 Process .', {'entities': [(3, 8, 'address')]})"
   ]
  },
  {
   "cell_type": "code",
   "execution_count": 13,
   "id": "ea14e7c5",
   "metadata": {
    "execution": {
     "iopub.execute_input": "2022-04-20T18:06:41.612612Z",
     "iopub.status.busy": "2022-04-20T18:06:41.611990Z",
     "iopub.status.idle": "2022-04-20T18:06:41.615089Z",
     "shell.execute_reply": "2022-04-20T18:06:41.615524Z",
     "shell.execute_reply.started": "2022-04-11T16:35:29.609712Z"
    },
    "papermill": {
     "duration": 0.051023,
     "end_time": "2022-04-20T18:06:41.615694",
     "exception": false,
     "start_time": "2022-04-20T18:06:41.564671",
     "status": "completed"
    },
    "tags": []
   },
   "outputs": [],
   "source": [
    "# nlp = spacy.load('en_core_web_sm')\n",
    "# outpath=r'/kaggle/input/sample-pdf/D8communications.pdf'\n",
    "# doc = fitz.open(outpath)  # any supported document type\n",
    "# page_no=3\n",
    "# page = doc[page_no-1]\n",
    "\n",
    "# x1,y1,x2,y2=(72.1149,661.2966,131.95729,675.1716)\n",
    "\n",
    "# rect = [float(x1)-2, 792 - float(y2)-2, float(x2)+2, 792 - float(y1)+2]\n",
    "# print(rect)\n",
    "# labelled_text = page.get_textbox(rect)\n",
    "# string = re.sub('[^0-9a-zA-Z@?|\\/<>.,()&^%$#!]+', ' ', labelled_text)\n",
    "# print('string : ', string)\n",
    "\n",
    "# fulltext = page.get_text()\n",
    "# doc = nlp(fulltext)\n",
    "\n",
    "# sentences = []\n",
    "# for sent in doc.sents:\n",
    "#             if string.strip() in sent.text:\n",
    "#                 text = re.sub('[^0-9a-zA-Z@?|\\/<>.,()&^%$#!]+', ' ', sent.text)\n",
    "\n",
    "#         res = re.search(string.strip(), text)\n",
    "\n",
    "#         entities = []\n",
    "#         entities.append((res.start(),res.end(),label))\n",
    "\n",
    "#         train_data.append((text,{'entities':entities}))\n",
    "\n"
   ]
  },
  {
   "cell_type": "code",
   "execution_count": 14,
   "id": "31c3896d",
   "metadata": {
    "execution": {
     "iopub.execute_input": "2022-04-20T18:06:41.708202Z",
     "iopub.status.busy": "2022-04-20T18:06:41.707371Z",
     "iopub.status.idle": "2022-04-20T18:06:41.710936Z",
     "shell.execute_reply": "2022-04-20T18:06:41.710474Z",
     "shell.execute_reply.started": "2022-04-11T16:35:41.679947Z"
    },
    "papermill": {
     "duration": 0.050501,
     "end_time": "2022-04-20T18:06:41.711069",
     "exception": false,
     "start_time": "2022-04-20T18:06:41.660568",
     "status": "completed"
    },
    "tags": []
   },
   "outputs": [],
   "source": [
    "#doc"
   ]
  },
  {
   "cell_type": "code",
   "execution_count": 15,
   "id": "0c478ecb",
   "metadata": {
    "execution": {
     "iopub.execute_input": "2022-04-20T18:06:41.805596Z",
     "iopub.status.busy": "2022-04-20T18:06:41.804892Z",
     "iopub.status.idle": "2022-04-20T18:06:41.807497Z",
     "shell.execute_reply": "2022-04-20T18:06:41.807030Z",
     "shell.execute_reply.started": "2022-04-11T16:35:56.010353Z"
    },
    "papermill": {
     "duration": 0.051735,
     "end_time": "2022-04-20T18:06:41.807630",
     "exception": false,
     "start_time": "2022-04-20T18:06:41.755895",
     "status": "completed"
    },
    "tags": []
   },
   "outputs": [],
   "source": [
    "# sentences = []\n",
    "# for sent in doc.sents:\n",
    "#     if string.strip() in sent.text:\n",
    "#         text = re.sub('[^0-9a-zA-Z@?|\\/<>.,()&^%$#!]+', ' ', sent.text)"
   ]
  },
  {
   "cell_type": "code",
   "execution_count": 16,
   "id": "f5dc082f",
   "metadata": {
    "execution": {
     "iopub.execute_input": "2022-04-20T18:06:41.900124Z",
     "iopub.status.busy": "2022-04-20T18:06:41.899478Z",
     "iopub.status.idle": "2022-04-20T18:06:41.901742Z",
     "shell.execute_reply": "2022-04-20T18:06:41.902139Z",
     "shell.execute_reply.started": "2022-04-11T16:39:04.736143Z"
    },
    "papermill": {
     "duration": 0.050364,
     "end_time": "2022-04-20T18:06:41.902299",
     "exception": false,
     "start_time": "2022-04-20T18:06:41.851935",
     "status": "completed"
    },
    "tags": []
   },
   "outputs": [],
   "source": [
    "# k=nlp(\"he             kenny\")\n",
    "# for sent in k.sents:\n",
    "#     print(sent)"
   ]
  },
  {
   "cell_type": "code",
   "execution_count": 17,
   "id": "c4dd7b1d",
   "metadata": {
    "execution": {
     "iopub.execute_input": "2022-04-20T18:06:41.996018Z",
     "iopub.status.busy": "2022-04-20T18:06:41.995373Z",
     "iopub.status.idle": "2022-04-20T18:06:41.998017Z",
     "shell.execute_reply": "2022-04-20T18:06:41.997545Z",
     "shell.execute_reply.started": "2022-04-11T15:09:24.391421Z"
    },
    "papermill": {
     "duration": 0.051112,
     "end_time": "2022-04-20T18:06:41.998143",
     "exception": false,
     "start_time": "2022-04-20T18:06:41.947031",
     "status": "completed"
    },
    "tags": []
   },
   "outputs": [],
   "source": [
    "# text"
   ]
  },
  {
   "cell_type": "code",
   "execution_count": 18,
   "id": "4336756d",
   "metadata": {
    "execution": {
     "iopub.execute_input": "2022-04-20T18:06:42.091085Z",
     "iopub.status.busy": "2022-04-20T18:06:42.090295Z",
     "iopub.status.idle": "2022-04-20T18:06:42.092806Z",
     "shell.execute_reply": "2022-04-20T18:06:42.092299Z",
     "shell.execute_reply.started": "2022-04-11T15:09:31.9599Z"
    },
    "papermill": {
     "duration": 0.050317,
     "end_time": "2022-04-20T18:06:42.092937",
     "exception": false,
     "start_time": "2022-04-20T18:06:42.042620",
     "status": "completed"
    },
    "tags": []
   },
   "outputs": [],
   "source": [
    "# res = re.search(string.strip(), text)\n",
    "# res"
   ]
  },
  {
   "cell_type": "code",
   "execution_count": 19,
   "id": "44baef62",
   "metadata": {
    "execution": {
     "iopub.execute_input": "2022-04-20T18:06:42.188809Z",
     "iopub.status.busy": "2022-04-20T18:06:42.186476Z",
     "iopub.status.idle": "2022-04-20T18:06:42.191221Z",
     "shell.execute_reply": "2022-04-20T18:06:42.191703Z",
     "shell.execute_reply.started": "2022-04-11T15:12:41.311242Z"
    },
    "papermill": {
     "duration": 0.052469,
     "end_time": "2022-04-20T18:06:42.191864",
     "exception": false,
     "start_time": "2022-04-20T18:06:42.139395",
     "status": "completed"
    },
    "tags": []
   },
   "outputs": [],
   "source": [
    "# entities = []\n",
    "# entities.append((res.start(),res.end(),'p'))"
   ]
  },
  {
   "cell_type": "code",
   "execution_count": 20,
   "id": "bc55ee7b",
   "metadata": {
    "execution": {
     "iopub.execute_input": "2022-04-20T18:06:42.283524Z",
     "iopub.status.busy": "2022-04-20T18:06:42.282905Z",
     "iopub.status.idle": "2022-04-20T18:06:42.285335Z",
     "shell.execute_reply": "2022-04-20T18:06:42.285872Z",
     "shell.execute_reply.started": "2022-04-11T15:12:52.736619Z"
    },
    "papermill": {
     "duration": 0.049526,
     "end_time": "2022-04-20T18:06:42.286030",
     "exception": false,
     "start_time": "2022-04-20T18:06:42.236504",
     "status": "completed"
    },
    "tags": []
   },
   "outputs": [],
   "source": [
    "# entities"
   ]
  },
  {
   "cell_type": "code",
   "execution_count": 21,
   "id": "524f48fa",
   "metadata": {
    "execution": {
     "iopub.execute_input": "2022-04-20T18:06:42.378796Z",
     "iopub.status.busy": "2022-04-20T18:06:42.378084Z",
     "iopub.status.idle": "2022-04-20T18:06:42.380472Z",
     "shell.execute_reply": "2022-04-20T18:06:42.379923Z",
     "shell.execute_reply.started": "2022-04-11T15:06:11.546217Z"
    },
    "papermill": {
     "duration": 0.050339,
     "end_time": "2022-04-20T18:06:42.380599",
     "exception": false,
     "start_time": "2022-04-20T18:06:42.330260",
     "status": "completed"
    },
    "tags": []
   },
   "outputs": [],
   "source": [
    "# text"
   ]
  },
  {
   "cell_type": "code",
   "execution_count": null,
   "id": "7a0cd8f6",
   "metadata": {
    "execution": {
     "iopub.execute_input": "2022-04-11T15:02:33.300092Z",
     "iopub.status.busy": "2022-04-11T15:02:33.299778Z",
     "iopub.status.idle": "2022-04-11T15:02:33.30711Z",
     "shell.execute_reply": "2022-04-11T15:02:33.306345Z",
     "shell.execute_reply.started": "2022-04-11T15:02:33.300061Z"
    },
    "papermill": {
     "duration": 0.043938,
     "end_time": "2022-04-20T18:06:42.468682",
     "exception": false,
     "start_time": "2022-04-20T18:06:42.424744",
     "status": "completed"
    },
    "tags": []
   },
   "outputs": [],
   "source": []
  },
  {
   "cell_type": "code",
   "execution_count": 22,
   "id": "2801bf5a",
   "metadata": {
    "execution": {
     "iopub.execute_input": "2022-04-20T18:06:42.560110Z",
     "iopub.status.busy": "2022-04-20T18:06:42.559518Z",
     "iopub.status.idle": "2022-04-20T18:06:42.562065Z",
     "shell.execute_reply": "2022-04-20T18:06:42.562546Z",
     "shell.execute_reply.started": "2022-04-11T16:21:02.863037Z"
    },
    "papermill": {
     "duration": 0.050016,
     "end_time": "2022-04-20T18:06:42.562710",
     "exception": false,
     "start_time": "2022-04-20T18:06:42.512694",
     "status": "completed"
    },
    "tags": []
   },
   "outputs": [],
   "source": [
    "# import spacy\n",
    "# nlp = spacy.load('en_core_web_sm')"
   ]
  },
  {
   "cell_type": "code",
   "execution_count": 23,
   "id": "e6f4f574",
   "metadata": {
    "execution": {
     "iopub.execute_input": "2022-04-20T18:06:42.655480Z",
     "iopub.status.busy": "2022-04-20T18:06:42.654875Z",
     "iopub.status.idle": "2022-04-20T18:06:42.658029Z",
     "shell.execute_reply": "2022-04-20T18:06:42.658492Z",
     "shell.execute_reply.started": "2022-04-09T12:19:47.776612Z"
    },
    "papermill": {
     "duration": 0.050785,
     "end_time": "2022-04-20T18:06:42.658670",
     "exception": false,
     "start_time": "2022-04-20T18:06:42.607885",
     "status": "completed"
    },
    "tags": []
   },
   "outputs": [],
   "source": [
    "# !pip install PyPDF2\n",
    "# import PyPDF2\n",
    "# fhandle = open(r'/kaggle/input/sample-pdf/D8communications.pdf', 'rb')\n",
    "# pdfReader = PyPDF2.PdfFileReader(fhandle)\n",
    "# pagehandle = pdfReader.getPage(4)\n",
    "# print(pagehandle.extractText())"
   ]
  },
  {
   "cell_type": "code",
   "execution_count": 24,
   "id": "47e2d676",
   "metadata": {
    "execution": {
     "iopub.execute_input": "2022-04-20T18:06:42.751052Z",
     "iopub.status.busy": "2022-04-20T18:06:42.750481Z",
     "iopub.status.idle": "2022-04-20T18:06:42.752152Z",
     "shell.execute_reply": "2022-04-20T18:06:42.752620Z",
     "shell.execute_reply.started": "2022-04-09T12:25:37.701467Z"
    },
    "papermill": {
     "duration": 0.049904,
     "end_time": "2022-04-20T18:06:42.752788",
     "exception": false,
     "start_time": "2022-04-20T18:06:42.702884",
     "status": "completed"
    },
    "tags": []
   },
   "outputs": [],
   "source": [
    "# !pip install pdfplumber\n",
    "# import pdfplumber\n",
    "# with pdfplumber.open(r'/kaggle/input/sample-pdf/D8communications.pdf') as pdf:\n",
    "#     first_page = pdf.pages[3]\n",
    "#     print(first_page.extract_text())"
   ]
  },
  {
   "cell_type": "code",
   "execution_count": 25,
   "id": "2e1de363",
   "metadata": {
    "execution": {
     "iopub.execute_input": "2022-04-20T18:06:42.846065Z",
     "iopub.status.busy": "2022-04-20T18:06:42.845509Z",
     "iopub.status.idle": "2022-04-20T18:06:42.847085Z",
     "shell.execute_reply": "2022-04-20T18:06:42.847548Z",
     "shell.execute_reply.started": "2022-04-09T12:25:49.584635Z"
    },
    "papermill": {
     "duration": 0.049918,
     "end_time": "2022-04-20T18:06:42.847703",
     "exception": false,
     "start_time": "2022-04-20T18:06:42.797785",
     "status": "completed"
    },
    "tags": []
   },
   "outputs": [],
   "source": [
    "# !pip install pytesseract"
   ]
  },
  {
   "cell_type": "code",
   "execution_count": 26,
   "id": "da1ce90f",
   "metadata": {
    "execution": {
     "iopub.execute_input": "2022-04-20T18:06:42.939226Z",
     "iopub.status.busy": "2022-04-20T18:06:42.938570Z",
     "iopub.status.idle": "2022-04-20T18:06:42.942315Z",
     "shell.execute_reply": "2022-04-20T18:06:42.941850Z",
     "shell.execute_reply.started": "2022-04-09T14:49:10.656812Z"
    },
    "papermill": {
     "duration": 0.050964,
     "end_time": "2022-04-20T18:06:42.942475",
     "exception": false,
     "start_time": "2022-04-20T18:06:42.891511",
     "status": "completed"
    },
    "tags": []
   },
   "outputs": [],
   "source": [
    "# #!pip install pdf2image\n",
    "# !pip install poppler"
   ]
  },
  {
   "cell_type": "code",
   "execution_count": 27,
   "id": "16ea2ad8",
   "metadata": {
    "execution": {
     "iopub.execute_input": "2022-04-20T18:06:43.035967Z",
     "iopub.status.busy": "2022-04-20T18:06:43.035257Z",
     "iopub.status.idle": "2022-04-20T18:06:43.036833Z",
     "shell.execute_reply": "2022-04-20T18:06:43.037256Z",
     "shell.execute_reply.started": "2022-04-09T14:57:24.756677Z"
    },
    "papermill": {
     "duration": 0.050485,
     "end_time": "2022-04-20T18:06:43.037419",
     "exception": false,
     "start_time": "2022-04-20T18:06:42.986934",
     "status": "completed"
    },
    "tags": []
   },
   "outputs": [],
   "source": [
    "# pdf2image.convert_from_path('/kaggle/input/sample-pdf/D8communications.pdf')"
   ]
  },
  {
   "cell_type": "code",
   "execution_count": 28,
   "id": "f7cb4bfb",
   "metadata": {
    "execution": {
     "iopub.execute_input": "2022-04-20T18:06:43.131217Z",
     "iopub.status.busy": "2022-04-20T18:06:43.129985Z",
     "iopub.status.idle": "2022-04-20T18:06:43.133841Z",
     "shell.execute_reply": "2022-04-20T18:06:43.133335Z",
     "shell.execute_reply.started": "2022-04-09T14:57:17.576149Z"
    },
    "papermill": {
     "duration": 0.051479,
     "end_time": "2022-04-20T18:06:43.133969",
     "exception": false,
     "start_time": "2022-04-20T18:06:43.082490",
     "status": "completed"
    },
    "tags": []
   },
   "outputs": [],
   "source": [
    "# import pdf2image\n",
    "# try:\n",
    "#     from PIL import Image\n",
    "# except ImportError:\n",
    "#     import Image\n",
    "# import pytesseract\n",
    "\n",
    "\n",
    "# def pdf_to_img(pdf_file):\n",
    "#     return pdf2image.convert_from_path(pdf_file)\n",
    "\n",
    "\n",
    "# def ocr_core(file):\n",
    "#     text = pytesseract.image_to_string(file)\n",
    "#     return text\n",
    "\n",
    "\n",
    "# def print_pages(pdf_file):\n",
    "#     images = pdf_to_img(pdf_file)\n",
    "#     for pg, img in enumerate(images):\n",
    "#         print(ocr_core(img))\n",
    "\n",
    "\n",
    "# print_pages('/kaggle/input/sample-pdf/D8communications.pdf')\n"
   ]
  },
  {
   "cell_type": "code",
   "execution_count": 29,
   "id": "c49d9831",
   "metadata": {
    "execution": {
     "iopub.execute_input": "2022-04-20T18:06:43.226361Z",
     "iopub.status.busy": "2022-04-20T18:06:43.225047Z",
     "iopub.status.idle": "2022-04-20T18:06:43.227951Z",
     "shell.execute_reply": "2022-04-20T18:06:43.228465Z"
    },
    "papermill": {
     "duration": 0.049955,
     "end_time": "2022-04-20T18:06:43.228620",
     "exception": false,
     "start_time": "2022-04-20T18:06:43.178665",
     "status": "completed"
    },
    "tags": []
   },
   "outputs": [],
   "source": [
    "# import requests\n",
    "# import fitz\n",
    "# import io\n",
    "\n",
    "# #URL = 'https://buildmedia.readthedocs.org/media/pdf/pdfminer-docs/latest/pdfminer-docs.pdf'\n",
    "# URL = 'https://redactable-devox-stage.s3.us-east-2.amazonaws.com/tenants/41d9e109-693b-444c-aa18-e5891bc6550b/original/1a7c0e5d-3237-4ca9-9e3d-89e707245ac6/D8communications.pdf'\n",
    "\n",
    "\n",
    "# res = requests.get(URL)\n",
    "# filestream = io.BytesIO(res.content)\n",
    "# #res.content\n",
    "# filestream\n",
    "# doc = fitz.Document(stream=filestream)\n",
    "# page1 = doc.loadPage(3)\n",
    "# page1text = page1.getText(\"text\").encode(\"utf-8\").decode(\"utf-8\")\n",
    "# print(page1text)"
   ]
  },
  {
   "cell_type": "code",
   "execution_count": 30,
   "id": "73ba340f",
   "metadata": {
    "execution": {
     "iopub.execute_input": "2022-04-20T18:06:43.320905Z",
     "iopub.status.busy": "2022-04-20T18:06:43.320235Z",
     "iopub.status.idle": "2022-04-20T18:06:43.323170Z",
     "shell.execute_reply": "2022-04-20T18:06:43.323666Z",
     "shell.execute_reply.started": "2022-04-09T07:04:56.590103Z"
    },
    "papermill": {
     "duration": 0.051202,
     "end_time": "2022-04-20T18:06:43.323834",
     "exception": false,
     "start_time": "2022-04-20T18:06:43.272632",
     "status": "completed"
    },
    "tags": []
   },
   "outputs": [],
   "source": [
    "# import requests\n",
    "# import fitz\n",
    "\n",
    "# #URL = 'https://buildmedia.readthedocs.org/media/pdf/pdfminer-docs/latest/pdfminer-docs.pdf'\n",
    "# URL = 'https://redactable-devox-stage.s3.us-east-2.amazonaws.com/tenants/41d9e109-693b-444c-aa18-e5891bc6550b/original/1a7c0e5d-3237-4ca9-9e3d-89e707245ac6/D8communications.pdf'\n",
    "\n",
    "\n",
    "# res = requests.get(URL)\n",
    "# doc = fitz.open(stream=res.content,filetype=\"pdf\")\n",
    "# page1 = doc.loadPage(3)\n",
    "# page1text = page1.getText(\"text\")\n",
    "# #rect = (72.1149,661.2966,131.95729,675.1716)\n",
    "# rect=(72.10812377929688, 116.13427734375, 133.97142028808594, 146.4227294921875)\n",
    "# labelled_text = page1.get_textbox(rect)\n",
    "# print(labelled_text.strip())\n",
    "\n",
    "# fulltext = page1.get_text()\n",
    "# print(fulltext)\n",
    "# doc = nlp(fulltext)\n",
    "# sentences = []\n",
    "# for sent in doc.sents:\n",
    "#     if labelled_text in sent.text:\n",
    "#         text = sent.text\n",
    "#         print(text)\n",
    "# #print(page1text)"
   ]
  },
  {
   "cell_type": "code",
   "execution_count": 31,
   "id": "d439aa0f",
   "metadata": {
    "execution": {
     "iopub.execute_input": "2022-04-20T18:06:43.417581Z",
     "iopub.status.busy": "2022-04-20T18:06:43.416894Z",
     "iopub.status.idle": "2022-04-20T18:06:43.420237Z",
     "shell.execute_reply": "2022-04-20T18:06:43.420720Z",
     "shell.execute_reply.started": "2022-04-08T16:42:57.6659Z"
    },
    "papermill": {
     "duration": 0.051598,
     "end_time": "2022-04-20T18:06:43.420895",
     "exception": false,
     "start_time": "2022-04-20T18:06:43.369297",
     "status": "completed"
    },
    "tags": []
   },
   "outputs": [],
   "source": [
    "#res.content"
   ]
  },
  {
   "cell_type": "code",
   "execution_count": 32,
   "id": "0eec3818",
   "metadata": {
    "execution": {
     "iopub.execute_input": "2022-04-20T18:06:43.514756Z",
     "iopub.status.busy": "2022-04-20T18:06:43.514096Z",
     "iopub.status.idle": "2022-04-20T18:06:43.516759Z",
     "shell.execute_reply": "2022-04-20T18:06:43.516170Z",
     "shell.execute_reply.started": "2022-04-08T16:48:05.672392Z"
    },
    "papermill": {
     "duration": 0.050949,
     "end_time": "2022-04-20T18:06:43.516893",
     "exception": false,
     "start_time": "2022-04-20T18:06:43.465944",
     "status": "completed"
    },
    "tags": []
   },
   "outputs": [],
   "source": [
    "# import fitz\n",
    "# # mem_area=\n",
    "# # doc = fitz.open(stream=mem_area, filetype=\"pdf\")\n",
    "\n",
    "# import requests\n",
    "\n",
    "# URL = 'https://redactable-devox-stage.s3.us-east-2.amazonaws.com/tenants/41d9e109-693b-444c-aa18-e5891bc6550b/original/1a7c0e5d-3237-4ca9-9e3d-89e707245ac6/D8communications.pdf'\n",
    "\n",
    "# #res = requests.get(URL)\n",
    "# doc=fitz.open(\"/kaggle/input/sample-pdf/D8communications.pdf\")\n",
    "# #doc = fitz.open(stream=res.content,filetype=\"pdf\")\n",
    "# page1 = doc.loadPage(4)\n",
    "# # page1text = page1.getText(\"text\")\n",
    "# # print(page1text)\n",
    "# blocks = page1.getText(\"blocks\")\n",
    "# blocks.sort(key=lambda block: block[1])  # sort vertically ascending\n",
    "\n",
    "# for b in blocks:\n",
    "#     print(b[4])\n"
   ]
  },
  {
   "cell_type": "code",
   "execution_count": 33,
   "id": "b8649297",
   "metadata": {
    "execution": {
     "iopub.execute_input": "2022-04-20T18:06:43.608746Z",
     "iopub.status.busy": "2022-04-20T18:06:43.607289Z",
     "iopub.status.idle": "2022-04-20T18:06:43.610893Z",
     "shell.execute_reply": "2022-04-20T18:06:43.611320Z",
     "shell.execute_reply.started": "2022-04-08T16:48:13.086323Z"
    },
    "papermill": {
     "duration": 0.050371,
     "end_time": "2022-04-20T18:06:43.611502",
     "exception": false,
     "start_time": "2022-04-20T18:06:43.561131",
     "status": "completed"
    },
    "tags": []
   },
   "outputs": [],
   "source": [
    "# # page = doc[1]\n",
    "# words = page.get_text(\"words\")\n",
    "# #print(words)\n",
    "# rect = (72.1149,661.2966,131.95729,675.1716)\n",
    "\n",
    "# labelled_text = page.get_textbox(rect)\n",
    "# # labelled_text"
   ]
  },
  {
   "cell_type": "markdown",
   "id": "5002338a",
   "metadata": {
    "papermill": {
     "duration": 0.043558,
     "end_time": "2022-04-20T18:06:43.699362",
     "exception": false,
     "start_time": "2022-04-20T18:06:43.655804",
     "status": "completed"
    },
    "tags": []
   },
   "source": [
    "pip install PyPDF2"
   ]
  },
  {
   "cell_type": "code",
   "execution_count": null,
   "id": "2b89b604",
   "metadata": {
    "papermill": {
     "duration": 0.043737,
     "end_time": "2022-04-20T18:06:43.786927",
     "exception": false,
     "start_time": "2022-04-20T18:06:43.743190",
     "status": "completed"
    },
    "tags": []
   },
   "outputs": [],
   "source": []
  },
  {
   "cell_type": "code",
   "execution_count": 34,
   "id": "aab3c2e8",
   "metadata": {
    "execution": {
     "iopub.execute_input": "2022-04-20T18:06:43.879581Z",
     "iopub.status.busy": "2022-04-20T18:06:43.878963Z",
     "iopub.status.idle": "2022-04-20T18:06:43.881541Z",
     "shell.execute_reply": "2022-04-20T18:06:43.881979Z",
     "shell.execute_reply.started": "2022-03-18T16:48:58.370268Z"
    },
    "papermill": {
     "duration": 0.049931,
     "end_time": "2022-04-20T18:06:43.882135",
     "exception": false,
     "start_time": "2022-04-20T18:06:43.832204",
     "status": "completed"
    },
    "tags": []
   },
   "outputs": [],
   "source": [
    "# import pandas as pd\n",
    "# h={'step': 0, 'type': 'string', 'amount': 0.0, 'nameOrig': 'C1231006815', 'oldbalanceOrig': 0.0, 'newbalanceOrig': 0.0, 'nameDest': 'M1979787155', 'oldbalanceDest': 0.0, 'newbalanceDest': 0.0}\n",
    "# df=pd.DataFrame([h])"
   ]
  },
  {
   "cell_type": "code",
   "execution_count": 35,
   "id": "c9104e43",
   "metadata": {
    "execution": {
     "iopub.execute_input": "2022-04-20T18:06:43.973965Z",
     "iopub.status.busy": "2022-04-20T18:06:43.973369Z",
     "iopub.status.idle": "2022-04-20T18:06:43.975869Z",
     "shell.execute_reply": "2022-04-20T18:06:43.976281Z",
     "shell.execute_reply.started": "2022-04-09T17:21:26.021615Z"
    },
    "papermill": {
     "duration": 0.049284,
     "end_time": "2022-04-20T18:06:43.976431",
     "exception": false,
     "start_time": "2022-04-20T18:06:43.927147",
     "status": "completed"
    },
    "tags": []
   },
   "outputs": [],
   "source": [
    "#df"
   ]
  },
  {
   "cell_type": "code",
   "execution_count": null,
   "id": "8f7e1f45",
   "metadata": {
    "papermill": {
     "duration": 0.045326,
     "end_time": "2022-04-20T18:06:44.065842",
     "exception": false,
     "start_time": "2022-04-20T18:06:44.020516",
     "status": "completed"
    },
    "tags": []
   },
   "outputs": [],
   "source": []
  }
 ],
 "metadata": {
  "kernelspec": {
   "display_name": "Python 3",
   "language": "python",
   "name": "python3"
  },
  "language_info": {
   "codemirror_mode": {
    "name": "ipython",
    "version": 3
   },
   "file_extension": ".py",
   "mimetype": "text/x-python",
   "name": "python",
   "nbconvert_exporter": "python",
   "pygments_lexer": "ipython3",
   "version": "3.7.12"
  },
  "papermill": {
   "default_parameters": {},
   "duration": 16.503021,
   "end_time": "2022-04-20T18:06:44.718883",
   "environment_variables": {},
   "exception": null,
   "input_path": "__notebook__.ipynb",
   "output_path": "__notebook__.ipynb",
   "parameters": {},
   "start_time": "2022-04-20T18:06:28.215862",
   "version": "2.3.3"
  }
 },
 "nbformat": 4,
 "nbformat_minor": 5
}
