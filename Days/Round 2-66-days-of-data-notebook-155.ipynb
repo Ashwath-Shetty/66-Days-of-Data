{
 "cells": [
  {
   "cell_type": "code",
   "execution_count": 1,
   "id": "c09069ca",
   "metadata": {
    "_cell_guid": "b1076dfc-b9ad-4769-8c92-a6c4dae69d19",
    "_uuid": "8f2839f25d086af736a60e9eeb907d3b93b6e0e5",
    "execution": {
     "iopub.execute_input": "2022-08-13T17:04:02.821452Z",
     "iopub.status.busy": "2022-08-13T17:04:02.820211Z",
     "iopub.status.idle": "2022-08-13T17:04:02.857547Z",
     "shell.execute_reply": "2022-08-13T17:04:02.858121Z",
     "shell.execute_reply.started": "2022-08-07T05:31:43.402471Z"
    },
    "papermill": {
     "duration": 0.114528,
     "end_time": "2022-08-13T17:04:02.858552",
     "exception": false,
     "start_time": "2022-08-13T17:04:02.744024",
     "status": "completed"
    },
    "tags": []
   },
   "outputs": [
    {
     "name": "stdout",
     "output_type": "stream",
     "text": [
      "/kaggle/input/sample-pdf/D8communications.pdf\n"
     ]
    }
   ],
   "source": [
    "# This Python 3 environment comes with many helpful analytics libraries installed\n",
    "# It is defined by the kaggle/python Docker image: https://github.com/kaggle/docker-python\n",
    "# For example, here's several helpful packages to load\n",
    "\n",
    "import numpy as np # linear algebra\n",
    "import pandas as pd # data processing, CSV file I/O (e.g. pd.read_csv)\n",
    "\n",
    "# Input data files are available in the read-only \"../input/\" directory\n",
    "# For example, running this (by clicking run or pressing Shift+Enter) will list all files under the input directory\n",
    "\n",
    "import os\n",
    "for dirname, _, filenames in os.walk('/kaggle/input'):\n",
    "    for filename in filenames:\n",
    "        print(os.path.join(dirname, filename))\n",
    "\n",
    "# You can write up to 20GB to the current directory (/kaggle/working/) that gets preserved as output when you create a version using \"Save & Run All\" \n",
    "# You can also write temporary files to /kaggle/temp/, but they won't be saved outside of the current session"
   ]
  },
  {
   "cell_type": "code",
   "execution_count": null,
   "id": "ff2a5349",
   "metadata": {
    "papermill": {
     "duration": 0.065463,
     "end_time": "2022-08-13T17:04:02.993952",
     "exception": false,
     "start_time": "2022-08-13T17:04:02.928489",
     "status": "completed"
    },
    "tags": []
   },
   "outputs": [],
   "source": []
  },
  {
   "cell_type": "code",
   "execution_count": 2,
   "id": "36a0e5c6",
   "metadata": {
    "execution": {
     "iopub.execute_input": "2022-08-13T17:04:03.133959Z",
     "iopub.status.busy": "2022-08-13T17:04:03.132663Z",
     "iopub.status.idle": "2022-08-13T17:04:03.150551Z",
     "shell.execute_reply": "2022-08-13T17:04:03.149794Z",
     "shell.execute_reply.started": "2022-08-01T02:24:12.894261Z"
    },
    "papermill": {
     "duration": 0.089296,
     "end_time": "2022-08-13T17:04:03.150717",
     "exception": false,
     "start_time": "2022-08-13T17:04:03.061421",
     "status": "completed"
    },
    "tags": []
   },
   "outputs": [
    {
     "name": "stdout",
     "output_type": "stream",
     "text": [
      "30 -----> 30\n",
      "200 -----> 30\n",
      "100 -----> 30\n"
     ]
    }
   ],
   "source": [
    "class node:\n",
    "    def __init__(self,data):\n",
    "        self.value=data\n",
    "        self.next_n=None\n",
    "        \n",
    "class linkl:\n",
    "    def __init__(self):\n",
    "        self.head=None\n",
    "    \n",
    "    def insert_front(self,value):\n",
    "        new_node=node(value)\n",
    "        \n",
    "        if self.head is None:\n",
    "            self.head=new_node\n",
    "            return new_node\n",
    "        new_node.next_n=self.head\n",
    "        self.head=new_node\n",
    "        \n",
    "        return new_node\n",
    "    \n",
    "    def insert_end(self,value):\n",
    "        new_node=node(value)\n",
    "        if self.head is None:\n",
    "            self.head=new_node\n",
    "            return new_node\n",
    "        current_node=self.head\n",
    "        while current_node.next_n is not None:\n",
    "            current_node=current_node.next_n\n",
    "        current_node.next_n=new_node\n",
    "        new_node.next_n=None\n",
    "        return new_node\n",
    "    \n",
    "    def insert_at(self, prev_node,value):\n",
    "        new_node=node(value)\n",
    "        if prev_node is None:\n",
    "            self.head=new_node\n",
    "            return \n",
    "        new_node.next_n=prev_node.next_n\n",
    "        prev_node.next_n=new_node\n",
    "        self.head=prev_node\n",
    "        return new_node\n",
    "        \n",
    "        \n",
    "#         current_node=lnode\n",
    "#         while current_node.next_n is not None:\n",
    "#             current_node=current_node.next_n\n",
    "                \n",
    "#         current_node=lnode\n",
    "#         self.head=current_node\n",
    "#         return current_node\n",
    "    \n",
    "    def print_ll(self):\n",
    "        temp = self.head\n",
    "        while (temp):\n",
    "            print(temp.value,\"----->\",self.head.value,end=\"\\n\")\n",
    "            temp = temp.next_n\n",
    "\n",
    "ll1=linkl()\n",
    "ll1.insert_at(None,100)\n",
    "# ll1.insert_end(10)\n",
    "# ll1.insert_end(20)\n",
    "\n",
    "k=ll1.insert_front(30)\n",
    "# l=ll1.insert_end(30)\n",
    "# ll1.insert_end(40)\n",
    "ll1.insert_at(k,200)\n",
    "\n",
    "# ll2=linkl()\n",
    "ll1.print_ll()\n",
    "# print(ll1,\"------>\")\n",
    "# print(ll2.head,\"------>\")"
   ]
  },
  {
   "cell_type": "code",
   "execution_count": 3,
   "id": "7a1a466c",
   "metadata": {
    "execution": {
     "iopub.execute_input": "2022-08-13T17:04:03.317190Z",
     "iopub.status.busy": "2022-08-13T17:04:03.316293Z",
     "iopub.status.idle": "2022-08-13T17:04:03.320110Z",
     "shell.execute_reply": "2022-08-13T17:04:03.320737Z"
    },
    "papermill": {
     "duration": 0.082451,
     "end_time": "2022-08-13T17:04:03.320925",
     "exception": false,
     "start_time": "2022-08-13T17:04:03.238474",
     "status": "completed"
    },
    "tags": []
   },
   "outputs": [],
   "source": [
    "#         while True:\n",
    "#             if current_node.next_n is None:\n",
    "#                 current_node.next_n=node\n",
    "#                 break\n",
    "#             current_node=current_node.next_n\n",
    "            \n",
    "#     def printl(self):\n",
    "#         current_node=self.head\n",
    "#         while current_node is not None:\n",
    "#             print(current_node)\n",
    "                        \n",
    "# ll=node(10)\n",
    "# ll2=node(20)\n",
    "# ll.next_n=ll2\n",
    "# ll1=linkl()"
   ]
  },
  {
   "cell_type": "markdown",
   "id": "def20607",
   "metadata": {
    "papermill": {
     "duration": 0.066897,
     "end_time": "2022-08-13T17:04:03.459241",
     "exception": false,
     "start_time": "2022-08-13T17:04:03.392344",
     "status": "completed"
    },
    "tags": []
   },
   "source": [
    "# **Start Date: 12/3/2022**"
   ]
  },
  {
   "cell_type": "markdown",
   "id": "d809de28",
   "metadata": {
    "papermill": {
     "duration": 0.066464,
     "end_time": "2022-08-13T17:04:03.592378",
     "exception": false,
     "start_time": "2022-08-13T17:04:03.525914",
     "status": "completed"
    },
    "tags": []
   },
   "source": [
    "# **Day 1:** \n",
    "<br>dataquest -> stats -> probability-> estimating probability\n",
    "1. out come is nothing but o/p of an experiment\n",
    "ex: whatever u get after rolling a dice -> it can be any number\n",
    "2. event can have more than one outcome\n",
    "- e.x: The event that we'll get an odd number when we roll a six-sided die — this event includes the outcomes 1, 3, and 5.\n",
    "- an event can be 0 as well.\n",
    "- We always assign probabilities to events, not outcomes, even if the event includes only one outcome.\n",
    "- P(E) =1/total number of possible outcomes, P(E) probability of an event happening.\n",
    "- but above formula doesn't work always, especially when there are more than one outcome\n",
    "    - P(E)=number of successful outcomes/total number of possible outcomes\n",
    "- incase of a biased situation \n",
    "  - let's say a die has 6 - 3 times which is 1,6,3,5,6,6\n",
    "    we will consider 6 as 3 times not 1.\n",
    "    possible outcome-> 1,3,5,6,6,6\n",
    "    prob(6)=3/6\n",
    "    prob(3)=1/6\n",
    "    prob(2)=0/6\n",
    "    If we didn't treat each 6 differently and said it doesn't matter which side a 6 is on, \n",
    "    <br>we'd be forced to conclude the only possible outcomes are 1, 3, 5 and 6. We can definitely         <br>frame the problem like that, but the formula above won't work anymore — we see below P(6) <br>becomes the same as P(3), but, intuitively, P(6) should be higher than P(3) since the die has 6 on     <br>three of its sides:\n"
   ]
  },
  {
   "cell_type": "markdown",
   "id": "766a91e9",
   "metadata": {
    "papermill": {
     "duration": 0.067071,
     "end_time": "2022-08-13T17:04:03.725957",
     "exception": false,
     "start_time": "2022-08-13T17:04:03.658886",
     "status": "completed"
    },
    "tags": []
   },
   "source": [
    "Estimating Probabilities Conclusion\n",
    "- emperical/ experimental probability\n",
    "  - probability achieved by experimenting / by doing the same event multiple times.\n",
    "  - Generally, for any event E (like a coin landing heads up), we can find its empirical probability   \n",
    "     by using the following formula: \n",
    "     •P (E) =number of times event E happened/ number of times we repeated the experiment   \n",
    " - Generally, the empirical probability of an event (a coin landing heads up, getting a 5 when weroll a die) approaches the true probability value as the number of trials of the randomexperiment (a coin toss, the rolling of a die) increases without bound.\n",
    "- When we calculate the probability of an event under the assumption that the outcomes have equal chances of occurring, we say that we're calculating the **theoretical probability** of an event.\n",
    "   - P(E)=number of successful outcomes/total number of possible outcomes\n",
    "\n"
   ]
  },
  {
   "cell_type": "markdown",
   "id": "81319472",
   "metadata": {
    "papermill": {
     "duration": 0.066656,
     "end_time": "2022-08-13T17:04:03.860713",
     "exception": false,
     "start_time": "2022-08-13T17:04:03.794057",
     "status": "completed"
    },
    "tags": []
   },
   "source": [
    "# **Day 2**\n",
    "<br>dataquest-> stats -> intro to probability -> probability rules\n",
    "<br>In probability theory, the set of all possible outcomes is called a sample space. A sample space is often denoted by the capital Greek letter Ω (read \"omega\"). This is how we represent the sample space of a die roll:\n",
    "\n",
    "Ω = {1,2,3,4,5,6}\n",
    "-    The probability of any event ranges between 0 and 1: 0≤ P(Event) ≤1\n",
    "- To calculate P(A or B), we can also use the formula below, which is sometimes called the addition rule: P(A or B) = P(A) + P(B)\n",
    "  - Sample space ={ 1,2,3,4,5,6} \n",
    "  - P(2 or 5) = 2/6\n",
    "\n",
    "- P(C or D) = P(C) + P(D) - P(C and D)\n",
    "   - e.x : Sample_space ={2,4,6} + { 4,5,6} - {4/6}\n",
    "      P( even number or number greater than 3) = ( (3/6) + (3/6) )- (2/6) = 4/6\n",
    "- Events that don't intersect are called mutually exclusive.\n",
    "  - e.x: Getting a 5 (event one) and getting a 3 (event two) when we roll a regular six-sided die — it's  impossible to get both a 5 and 3.\n",
    "- Events that intersect are called mutually non-exclusive.\n",
    "  - Getting a number greater than 2 (event one) and getting an odd number (event two) when we roll a regular six-sided die — we could get a 5, which is both greater than 2 (event one) and odd (event two).\n",
    "- unioun -> A or B, intersection -> A and B"
   ]
  },
  {
   "cell_type": "markdown",
   "id": "81eb434c",
   "metadata": {
    "papermill": {
     "duration": 0.066596,
     "end_time": "2022-08-13T17:04:03.994478",
     "exception": false,
     "start_time": "2022-08-13T17:04:03.927882",
     "status": "completed"
    },
    "tags": []
   },
   "source": [
    "# Day 3 and 4\n",
    "dataquest -> stats -> probabilities -> solving complex probabilities\n",
    "- This is the same result we got from our previous approach. In more general terms, the multiplication rule says that for two events E1 and E2, the probability that both event E1 and E2 happen can be found by multiplying the probability of E1 by the probability of E2:\n",
    "    - P(E1 ∩ E2) = P(E1) × P(E2)\n",
    "    - Events that don't influence each other's probability are called independent events. If H1 happens, P(H2) stays the same, so H1 and H2 are independent. The multiplication rule we learned only works for independent events.\n",
    "    "
   ]
  },
  {
   "cell_type": "markdown",
   "id": "84911938",
   "metadata": {
    "papermill": {
     "duration": 0.068606,
     "end_time": "2022-08-13T17:04:04.129899",
     "exception": false,
     "start_time": "2022-08-13T17:04:04.061293",
     "status": "completed"
    },
    "tags": []
   },
   "source": [
    "# Day 5\n",
    "- When we replace the cards after drawing, we say that we're sampling with replacement. When we don't put the cards back, we're sampling without replacement. \n"
   ]
  },
  {
   "cell_type": "markdown",
   "id": "77730129",
   "metadata": {
    "papermill": {
     "duration": 0.068298,
     "end_time": "2022-08-13T17:04:04.266674",
     "exception": false,
     "start_time": "2022-08-13T17:04:04.198376",
     "status": "completed"
    },
    "tags": []
   },
   "source": [
    "# Day6\n",
    "dataquest-> prob and stats -> probability fundamentals -> permutation and combinations\n",
    "Generally, if we have an experiment E1 (like flipping a coin) with a outcomes, followed by an experiment E2 (like rolling a die) with b outcomes, then the total number of outcomes for the composite experiment E1E2 can be found by multiplying a with b:\n",
    "\n",
    "Number of outcomes = a * b"
   ]
  },
  {
   "cell_type": "markdown",
   "id": "1dff3055",
   "metadata": {
    "papermill": {
     "duration": 0.067901,
     "end_time": "2022-08-13T17:04:04.403664",
     "exception": false,
     "start_time": "2022-08-13T17:04:04.335763",
     "status": "completed"
    },
    "tags": []
   },
   "source": [
    "# Day 7\n",
    "dataquest-> prob and stats -> probability fundamentals -> permutation and combinations <br>\n",
    "More generally, if we have an experiment E1 with a outcomes, followed by an experiment E2 with b outcomes, followed by an experiment En with z outcomes, the total number of outcomes for the composite experiment E1E2 ... En can be found by multiplying their individual outcomes:\n",
    "\n",
    "Number of outcomes= a * b * … * z"
   ]
  },
  {
   "cell_type": "markdown",
   "id": "a81245ba",
   "metadata": {
    "papermill": {
     "duration": 0.066539,
     "end_time": "2022-08-13T17:04:04.538418",
     "exception": false,
     "start_time": "2022-08-13T17:04:04.471879",
     "status": "completed"
    },
    "tags": []
   },
   "source": [
    "# Day 8\n",
    "dataquest-> prob and stats -> probability fundamentals -> permutation and combinations <br>\n",
    "permutations= n*(n-1)*(n-2)*....*2*1\n"
   ]
  },
  {
   "cell_type": "markdown",
   "id": "01698dfc",
   "metadata": {
    "papermill": {
     "duration": 0.066341,
     "end_time": "2022-08-13T17:04:04.671237",
     "exception": false,
     "start_time": "2022-08-13T17:04:04.604896",
     "status": "completed"
    },
    "tags": []
   },
   "source": [
    "# Day 9\n",
    "dataquest-> prob and stats -> probability fundamentals -> permutation and combinations\n",
    "- in permutation order of the individual element in the arranement matters.\n",
    "   - for e.x: 9821 is different than 9281\n",
    "   - Permutations =n!  --> sample without replacement-> we are not putting back the sampled data.\n",
    "   - On the last screen, we learned to use the formula below to calculate permutations when we're sampling without replacement and taking only k objects from a group of n objects:\n",
    "   npk=n!/(n-k)!"
   ]
  },
  {
   "cell_type": "markdown",
   "id": "63e4570c",
   "metadata": {
    "papermill": {
     "duration": 0.068606,
     "end_time": "2022-08-13T17:04:04.809343",
     "exception": false,
     "start_time": "2022-08-13T17:04:04.740737",
     "status": "completed"
    },
    "tags": []
   },
   "source": [
    "# Day 10\n",
    "dataquest-> prob and stats -> probability fundamentals -> permutation and combinations\n",
    "- More generally, if the order of the elements in an arrangement doesn't matter, the arrangement is called a combination.\n",
    "- e.x: cards in a deck \n",
    "- nCk = n! / ((n-k)!*k!)"
   ]
  },
  {
   "cell_type": "markdown",
   "id": "bbf0ca0b",
   "metadata": {
    "papermill": {
     "duration": 0.067762,
     "end_time": "2022-08-13T17:04:04.943364",
     "exception": false,
     "start_time": "2022-08-13T17:04:04.875602",
     "status": "completed"
    },
    "tags": []
   },
   "source": [
    "# Day 11\n",
    "dataquest-> prob and stats -> probability fundamentals -> permutation and combinations\n",
    "- solved 1 probability problem.\n"
   ]
  },
  {
   "cell_type": "markdown",
   "id": "e74b29c6",
   "metadata": {
    "papermill": {
     "duration": 0.066542,
     "end_time": "2022-08-13T17:04:05.077676",
     "exception": false,
     "start_time": "2022-08-13T17:04:05.011134",
     "status": "completed"
    },
    "tags": []
   },
   "source": [
    "# Day 12\n",
    "dataquest-> prob and stats -> probability fundamentals -> permutation and combinations\n",
    "- finished probability and permutations by revising them.\n",
    "- If we have an experiment E1 (like flipping a coin) with a outcomes, followed by an experiment E2(like rolling a die) with b outcomes, then the total number of outcomes for the compositeexperiment E1E2 can be found by multiplying a with b (this is known as the rule of product):\n",
    "  - number of outcomes = a*b\n",
    "- If we have an experiment E1 with a outcomes, followed by an experiment E2 with b outcomes,followed by an experiment En with z outcomes, the total number of outcomes for the compositeexperiment E1E2 ... En can be found by multiplying their individual outcomes:\n",
    "   - number of outcomes = a*b* ... *z\n",
    "- There are two kinds of arrangements:\n",
    "   - •Arrangements where the order matters, which we call permutations.\n",
    "   - •Arrangements where the order doesn't matter, which we call combination\n",
    "- To find the number of permutations when we're sampling without replacement, we can use theformula:\n",
    "  - permutation = n!\n",
    "- To find the number of permutations when we're sampling without replacement and taking only kobjects from a group of n objects, we can use the formula:\n",
    "  - nPk = n!/(n-k)!\n",
    "- To find the number of combinations when we're sampling without replacement and taking only kobjects from a group of n objects, we can use the formula\n",
    "  - nCk = n! / ((n-k)!*k!)"
   ]
  },
  {
   "cell_type": "markdown",
   "id": "f25eebbe",
   "metadata": {
    "papermill": {
     "duration": 0.06635,
     "end_time": "2022-08-13T17:04:05.211842",
     "exception": false,
     "start_time": "2022-08-13T17:04:05.145492",
     "status": "completed"
    },
    "tags": []
   },
   "source": [
    "# Day 13\n",
    "dataquest-> prob and stats -> probability fundamentals -> conditional probabilities\n",
    "- first 2 slides -> mainly the recap of old chapter(above one).\n"
   ]
  },
  {
   "cell_type": "markdown",
   "id": "e616db8f",
   "metadata": {
    "papermill": {
     "duration": 0.066596,
     "end_time": "2022-08-13T17:04:05.346131",
     "exception": false,
     "start_time": "2022-08-13T17:04:05.279535",
     "status": "completed"
    },
    "tags": []
   },
   "source": [
    "# Day 14\n",
    "dataquest-> prob and stats -> probability fundamentals -> conditional probabilities\n",
    "<br>slide 4 completed\n",
    "<br>conditional probabilities\n",
    "- probabilities with condition\n",
    "- P(5)=What is the probability of getting a 5? -> normal probability\n",
    "- P(5 | odd) =What is the probability of getting a 5 given the die showed an odd number? -> conditional prob.\n",
    "\n"
   ]
  },
  {
   "cell_type": "markdown",
   "id": "2becf1ca",
   "metadata": {
    "papermill": {
     "duration": 0.067872,
     "end_time": "2022-08-13T17:04:05.483684",
     "exception": false,
     "start_time": "2022-08-13T17:04:05.415812",
     "status": "completed"
    },
    "tags": []
   },
   "source": [
    "# Day 15\n",
    "dataquest-> prob and stats -> probability fundamentals -> conditional probabilities\n",
    "- on slide 5 not done yet.\n",
    "\n",
    "Say we roll a fair six-sided die and want to find the probability of getting an odd number, given the die showed a number greater than 1 after landing. Using probability notation, we want to find P(A|B) where:\n",
    "\n",
    "- A is the event that the number is odd: A = {1, 3, 5}\n",
    "- B is the event that the number is greater than 1: B = {2, 3, 4, 5, 6}\n",
    "- P(A/B)=number of succesfull outcomes / total number of outcomes.\n"
   ]
  },
  {
   "cell_type": "markdown",
   "id": "1d905793",
   "metadata": {
    "papermill": {
     "duration": 0.067398,
     "end_time": "2022-08-13T17:04:05.619186",
     "exception": false,
     "start_time": "2022-08-13T17:04:05.551788",
     "status": "completed"
    },
    "tags": []
   },
   "source": [
    "# Day 16 and 17\n",
    "dataquest-> prob and stats -> probability fundamentals -> conditional probabilities\n",
    "\n",
    "on slide 6 not done yet."
   ]
  },
  {
   "cell_type": "markdown",
   "id": "db5bfac8",
   "metadata": {
    "papermill": {
     "duration": 0.068232,
     "end_time": "2022-08-13T17:04:05.755388",
     "exception": false,
     "start_time": "2022-08-13T17:04:05.687156",
     "status": "completed"
    },
    "tags": []
   },
   "source": [
    "# Day 18\n",
    "dataquest-> prob and stats -> probability fundamentals -> conditional probabilities\n",
    "<br>slide 5 code half done"
   ]
  },
  {
   "cell_type": "markdown",
   "id": "8f6e1a4e",
   "metadata": {
    "papermill": {
     "duration": 0.066859,
     "end_time": "2022-08-13T17:04:05.891159",
     "exception": false,
     "start_time": "2022-08-13T17:04:05.824300",
     "status": "completed"
    },
    "tags": []
   },
   "source": [
    "# Day 19\n",
    "- The number of elements in a set is called the cardinal of the set. \n",
    "  Ω is a set, and the cardinal of \n",
    "   Ω = { 2,3,4,5,6}\n",
    "   cardinal(Ω)=5\n",
    "- P(A | B) = card(A ∩ B) / card(B)\n",
    "- Say we roll a fair six-sided die and want to find the probability of getting an odd number, given the die showed a number greater than 1 after landing. Using probability notation, we want to find P(A|B) where:\n",
    "    - A is the event that the number is odd: A = {1, 3, 5}\n",
    "     - B is the event that the number is greater than 1: B = {2, 3, 4, 5, 6}\n",
    "     - total number of possible outcomes = card({2,3,4,5,6}) =5\n",
    "     - number of successful outcomes = card({3,5})= 2\n",
    "- P(A | B) = card(A ∩ B) / card(B), we can also get the same result using P(A | B) = prob(A ∩ B) / prob(B)\n",
    "\n",
    "     "
   ]
  },
  {
   "cell_type": "markdown",
   "id": "d8b2090a",
   "metadata": {
    "papermill": {
     "duration": 0.072468,
     "end_time": "2022-08-13T17:04:06.035824",
     "exception": false,
     "start_time": "2022-08-13T17:04:05.963356",
     "status": "completed"
    },
    "tags": []
   },
   "source": [
    "# Day 20\n",
    "dataquest-> prob and stats -> probability fundamentals -> conditional probabilities intermediate\n",
    "<br> slide 1 and 2\n",
    "- P( A | B ) ≠ P(A ∩ B), but rather:\n",
    "   - P(A | B) = P(A ∩ B) / P(B)\n",
    "   - P(A ∩ B) = P(A | B) ⋅ P(B)\n",
    "- Given that a customer bought a laptop, they will or will not also buy a mouse. This means we can be certain that either event (M|L) or (M^C|L) will happen:\n",
    "     - P(M | L) + P(M^C | L) = 1\n",
    "\n"
   ]
  },
  {
   "cell_type": "markdown",
   "id": "ae8b5e00",
   "metadata": {
    "papermill": {
     "duration": 0.066587,
     "end_time": "2022-08-13T17:04:06.169628",
     "exception": false,
     "start_time": "2022-08-13T17:04:06.103041",
     "status": "completed"
    },
    "tags": []
   },
   "source": [
    "# Day 21\n",
    "dataquest-> prob and stats -> probability fundamentals -> conditional probabilities intermediate\n",
    "slide 1 and 2\n",
    "- P(A ∩ B) = P(B ∩ A)\n",
    "- multiplication rule of probability\n",
    "  -  P(A ∩ B) = P(B) ⋅ P(A | B) \n",
    "  - P(A ∩ B) = P(A) ⋅ P(B | A)\n",
    "- if P(A) and P(B) are statistically independent then \n",
    "  - P(A ∩ B) = P(A) ⋅ P(B)\n",
    "\n"
   ]
  },
  {
   "cell_type": "markdown",
   "id": "b0f6c87f",
   "metadata": {
    "papermill": {
     "duration": 0.066581,
     "end_time": "2022-08-13T17:04:06.302877",
     "exception": false,
     "start_time": "2022-08-13T17:04:06.236296",
     "status": "completed"
    },
    "tags": []
   },
   "source": [
    "# Day 22\n",
    "dataquest-> prob and stats -> probability fundamentals -> conditional probabilities intermediate \n",
    "<br>slide 6\n",
    "- If events events A and B are dependent, it means the occurrence of event A changes the probability of event B and vice versa.\n",
    "   - P(A) ≠ P(A | B)\n",
    "   - P(B) ≠ P(B | A)\n",
    "   - P(A ∩ B) ≠ P(A) ⋅ P(B)\n",
    "   - formula will become P(A ∩ B) ≠ P(A) ⋅ P(B/A)\n",
    "   "
   ]
  },
  {
   "cell_type": "markdown",
   "id": "39dbe73c",
   "metadata": {
    "papermill": {
     "duration": 0.067772,
     "end_time": "2022-08-13T17:04:06.438369",
     "exception": false,
     "start_time": "2022-08-13T17:04:06.370597",
     "status": "completed"
    },
    "tags": []
   },
   "source": [
    "# Day 23\n",
    "dataquest-> prob and stats -> probability fundamentals -> conditional probabilities intermediate\n",
    "<br>slide 7 to last\n",
    "- To find whether three events — A, B, C — are independent or not, below conditions must hold true -\n",
    "  - P(A ∩ B) ≠ P(A) ⋅ P(B)\n",
    "  - P(A ∩ C) ≠ P(A) ⋅ P(C)\n",
    "  - P(B ∩ C) ≠ P(B) ⋅ P(C)\n",
    "  - P(A ∩ B ∩ C) ≠ P(A) ⋅ P(B) . P(C)\n",
    "- multiplication rule for conditional probability or dependent events\n",
    " - P(A ∩ B ∩ C) = P(A) ⋅ P(B | A) ⋅ P(C | A ∩ B)\n",
    " \n",
    "\n"
   ]
  },
  {
   "cell_type": "markdown",
   "id": "3f992077",
   "metadata": {
    "papermill": {
     "duration": 0.066696,
     "end_time": "2022-08-13T17:04:06.572156",
     "exception": false,
     "start_time": "2022-08-13T17:04:06.505460",
     "status": "completed"
    },
    "tags": []
   },
   "source": [
    "# Day 24\n",
    "dataquest-> prob and stats -> probability fundamentals -> bayes theorem\n",
    "<br>slide 1\n",
    "- independent -> one event is dependent on other\n",
    "   - P(A ∩ B) = P(A) ⋅ P(B/A)\n",
    "- independent -> one event is not dependent on other.\n",
    "   - P(A ∩ B) = P(A) ⋅ P(B)\n",
    "- mutually exclusive -> both the events cannot happen at the same time.\n",
    "   - P(A ∩ B) = 0\n",
    "\n"
   ]
  },
  {
   "cell_type": "markdown",
   "id": "88d5d831",
   "metadata": {
    "papermill": {
     "duration": 0.066798,
     "end_time": "2022-08-13T17:04:06.705714",
     "exception": false,
     "start_time": "2022-08-13T17:04:06.638916",
     "status": "completed"
    },
    "tags": []
   },
   "source": [
    "# Day 25\n",
    "dataquest-> prob and stats -> probability fundamentals -> bayes theorem\n",
    "<br>slide 2\n",
    "- If two events are exhaustive, it means they make up the whole sample space Ω\n",
    "  -  P(A) = P(A ∩ B) + P(A ∩ B^c)\n",
    "     P(A) = (P(B) * P(A/B)) +  (P(B^c) * P(A/B^c))\n",
    "     \n",
    "     "
   ]
  },
  {
   "cell_type": "markdown",
   "id": "f40f5368",
   "metadata": {
    "papermill": {
     "duration": 0.067,
     "end_time": "2022-08-13T17:04:06.839285",
     "exception": false,
     "start_time": "2022-08-13T17:04:06.772285",
     "status": "completed"
    },
    "tags": []
   },
   "source": [
    "# Day 26\n",
    "dataquest-> prob and stats -> probability fundamentals -> bayes theorem\n",
    "<br>slide 3 - last\n",
    "- the law of total probability\n",
    "  - P(A)  = (P(B1) * P(A/B1)) + (P(B2) * P(A/B2))+ ... + (P(Bn) * P(A/Bn)))\n",
    "  - P(A) =(summattion i=1 to n) P(Bi) ⋅ P(A|Bi)\n",
    "- Baye's theorem\n",
    "  - P(B | A) = (P(B) ⋅ P(A | B)) / (n ∑i=1 P(Bi) ⋅ P(A | Bi))\n",
    "- The probability of being infected with HIV before doing any test is called the prior probability (\"prior\" means \"before\"). The probability of being infected with HIV after testing positive is called the posterior probability (\"posterior\" means \"after\").\n",
    "\n",
    "\n",
    "  "
   ]
  },
  {
   "cell_type": "markdown",
   "id": "37c222b4",
   "metadata": {
    "papermill": {
     "duration": 0.066454,
     "end_time": "2022-08-13T17:04:06.974535",
     "exception": false,
     "start_time": "2022-08-13T17:04:06.908081",
     "status": "completed"
    },
    "tags": []
   },
   "source": [
    "# Day 27\n",
    "dataquest-> prob and stats -> probability fundamentals -> naive bayes theorem\n",
    "<br>slide 1 - \n",
    "P(Spam|w1,w2,w3,w4)∝P(Spam)⋅P(w1|Spam)⋅P(w2|Spam)⋅P(w3|Spam)⋅P(w4|Spam)P(SpamC|w1,w2,w3,w4)∝P(SpamC)⋅P(w1|SpamC)⋅P(w2|SpamC)⋅P(w3|SpamC)⋅P(w4|SpamC)"
   ]
  },
  {
   "cell_type": "markdown",
   "id": "adb3e80a",
   "metadata": {
    "papermill": {
     "duration": 0.067586,
     "end_time": "2022-08-13T17:04:07.108488",
     "exception": false,
     "start_time": "2022-08-13T17:04:07.040902",
     "status": "completed"
    },
    "tags": []
   },
   "source": [
    "# Day 28\n",
    "dataquest-> prob and stats -> probability fundamentals -> naive bayes theorem\n",
    "<br>finished.\n",
    "<br>**Summary**\n",
    "- P(Spam|w1,w2,...,wn)∝P(Spam)⋅n∏i=1P(wi|Spam)\n",
    "- P(SpamC|w1,w2,...,wn)∝P(SpamC)⋅n∏i=1P(wi|SpamC)\n",
    "- To calculate P(wi|Spam) and P(wi|SpamC), we need to use the additive smoothing technique: \n",
    "- P ( w i | S p a m ) = (N w i | S p a m + α) / ( N S p a m + α ⋅ N V o c a b u l a r y )\n",
    "- P ( w i | S p a m C ) = (N w i | S p a m C + α) / ( N S p a m C + α ⋅ N V o c a b u l a r y )\n",
    "     - N w i | S p a m = the number of times the word w i occurs in spam messages \n",
    "     - N w i | S p a m C = the number of times the word w i occurs in non-spam messages \n",
    "     - N S p a m = total number of words in spam messages \n",
    "     - N S p a m C = total number of words in non-spam messages \n",
    "     - N V o c a b u l a r y = total number of words in the vocabulary \n",
    "     - α = 1 ( α is a smoothing parameter )\n",
    " - naive bayes theorem assumes that events are not dependent.\n",
    " - The assumption of conditional independence between words is thus naive since it rarely holds in practice, and this is why the algorithm is called Naive Bayes (also called simple Bayes or independence Bayes)."
   ]
  },
  {
   "cell_type": "markdown",
   "id": "07454982",
   "metadata": {
    "papermill": {
     "duration": 0.067682,
     "end_time": "2022-08-13T17:04:07.242876",
     "exception": false,
     "start_time": "2022-08-13T17:04:07.175194",
     "status": "completed"
    },
    "tags": []
   },
   "source": [
    "# Day 29,30,31\n",
    "<br>dataquest-> prob and stats -> probability fundamentals -> conditional probability-> guided projects\n",
    "<br> in progress"
   ]
  },
  {
   "cell_type": "markdown",
   "id": "3c299181",
   "metadata": {
    "papermill": {
     "duration": 0.066708,
     "end_time": "2022-08-13T17:04:07.376606",
     "exception": false,
     "start_time": "2022-08-13T17:04:07.309898",
     "status": "completed"
    },
    "tags": []
   },
   "source": [
    "# Day 32 and 33\n",
    "<br>dataquest-> prob and stats -> probability fundamentals -> guided projects\n",
    "<br> done"
   ]
  },
  {
   "cell_type": "markdown",
   "id": "c727304a",
   "metadata": {
    "papermill": {
     "duration": 0.066729,
     "end_time": "2022-08-13T17:04:07.510277",
     "exception": false,
     "start_time": "2022-08-13T17:04:07.443548",
     "status": "completed"
    },
    "tags": []
   },
   "source": [
    "# Day 34\n",
    "<br>dataquest-> prob and stats -> probability fundamentals -> guided projects-> lottery prediction\n",
    "<br> done"
   ]
  },
  {
   "cell_type": "markdown",
   "id": "1e6d8409",
   "metadata": {
    "papermill": {
     "duration": 0.066491,
     "end_time": "2022-08-13T17:04:07.644064",
     "exception": false,
     "start_time": "2022-08-13T17:04:07.577573",
     "status": "completed"
    },
    "tags": []
   },
   "source": [
    "# Day 35\n",
    "<br>dataquest-> prob and stats -> hypothesis testing fundamentals -> significance testing\n",
    "<br> till slide 4\n",
    "- null hypothesis\n",
    "- alternate hypothesis\n"
   ]
  },
  {
   "cell_type": "markdown",
   "id": "e8a20895",
   "metadata": {
    "papermill": {
     "duration": 0.066629,
     "end_time": "2022-08-13T17:04:07.778931",
     "exception": false,
     "start_time": "2022-08-13T17:04:07.712302",
     "status": "completed"
    },
    "tags": []
   },
   "source": [
    "# Day 36 and 37\n",
    "<br>dataquest-> prob and stats -> hypothesis testing fundamentals -> significance testing\n",
    "- The permutation test is a statistical test that involves rerunning the study many times and recalculating the test statistic for each iteration. The goal is to calculate a distribution of the test statistics over these many iterations. This distribution is called the sampling distribution and it approximates the full range of possible test statistics under the null hypothesis\n",
    "\n"
   ]
  },
  {
   "cell_type": "markdown",
   "id": "ee1c5ff9",
   "metadata": {
    "papermill": {
     "duration": 0.068401,
     "end_time": "2022-08-13T17:04:07.913852",
     "exception": false,
     "start_time": "2022-08-13T17:04:07.845451",
     "status": "completed"
    },
    "tags": []
   },
   "source": [
    "# Day 38\n",
    "<br>dataquest-> prob and stats -> hypothesis testing fundamentals -> significance testing\n",
    "<br>in progress."
   ]
  },
  {
   "cell_type": "markdown",
   "id": "3dd96aed",
   "metadata": {
    "papermill": {
     "duration": 0.067094,
     "end_time": "2022-08-13T17:04:08.048556",
     "exception": false,
     "start_time": "2022-08-13T17:04:07.981462",
     "status": "completed"
    },
    "tags": []
   },
   "source": [
    "# Day 39\n",
    "<br>dataquest-> prob and stats -> hypothesis testing fundamentals -> significance testing\n",
    "<br>slide 5-6"
   ]
  },
  {
   "cell_type": "markdown",
   "id": "a3230ef9",
   "metadata": {
    "papermill": {
     "duration": 0.067398,
     "end_time": "2022-08-13T17:04:08.183559",
     "exception": false,
     "start_time": "2022-08-13T17:04:08.116161",
     "status": "completed"
    },
    "tags": []
   },
   "source": [
    "# Day 40\n",
    "<br>dataquest-> prob and stats -> hypothesis testing fundamentals -> significance testing\n",
    "<br>slide 7"
   ]
  },
  {
   "cell_type": "markdown",
   "id": "2ee5c08b",
   "metadata": {
    "papermill": {
     "duration": 0.06679,
     "end_time": "2022-08-13T17:04:08.317996",
     "exception": false,
     "start_time": "2022-08-13T17:04:08.251206",
     "status": "completed"
    },
    "tags": []
   },
   "source": [
    "# Day 41 and 42\n",
    "<br>dataquest-> prob and stats -> hypothesis testing fundamentals -> significance testing\n",
    "<br>slide 7 done and 8(p-value) strated"
   ]
  },
  {
   "cell_type": "markdown",
   "id": "915472c2",
   "metadata": {
    "papermill": {
     "duration": 0.066317,
     "end_time": "2022-08-13T17:04:08.450750",
     "exception": false,
     "start_time": "2022-08-13T17:04:08.384433",
     "status": "completed"
    },
    "tags": []
   },
   "source": [
    "# Day 43\n",
    "<br>dataquest-> prob and stats -> hypothesis testing fundamentals -> significance testing\n",
    "<br>\n",
    "- The first step is to decide a test statistic, which is a numerical value that summarizes the data and one we can use in statistical formulas. The test statistic runs a statistical test that determines whether the difference between the groups was due to random chance.\n",
    "  - e.x: mean \n",
    "- The permutation test is a statistical test that involves rerunning the study many times and recalculating the test statistic for each iteration.\n",
    "   - The goal is to calculate a distribution of the test statistics over these many iterations. This distribution is called the sampling distribution and it approximates the full range of possible test statistics under the null hypothesis.\n",
    "- If the p value is less than the threshold, we:\n",
    "    - reject the null hypothesis that there's no difference in the mean amount of weight lost by participants in both groups; and\n",
    "    - conclude that there is some evidence that the weight loss pill does affect the amount of weight people lost.\n",
    "\n",
    "- If the p value is greater than the threshold, we:\n",
    "    - fail to reject the null hypothesis that there's no difference in the mean amount of weight lost by participants in both groups,\n",
    "    - conclude that the weight loss pill doesn't seem to be effective in helping people lose weight.\n",
    "- usually used p-value threshold is 0.05\n",
    "- The p value threshold you set can also affect the conclusion you reach.\n",
    "    - If you set too high of a p value threshold, you may reject the null hypothesis incorrectly. This is known as a type I error.\n",
    "    - If you set too low of a p value threshold, you may fail to reject the null hypothesis incorrectly. This is known as a type II error."
   ]
  },
  {
   "cell_type": "markdown",
   "id": "11e592d4",
   "metadata": {
    "papermill": {
     "duration": 0.066337,
     "end_time": "2022-08-13T17:04:08.584393",
     "exception": false,
     "start_time": "2022-08-13T17:04:08.518056",
     "status": "completed"
    },
    "tags": []
   },
   "source": [
    "# Day 44\n",
    "<br>dataquest-> prob and stats -> hypothesis testing fundamentals -> significance testing-> chi squared test\n",
    "<br>1- 4\n",
    "- chi squared test is used for numerical values"
   ]
  },
  {
   "cell_type": "markdown",
   "id": "e954f193",
   "metadata": {
    "papermill": {
     "duration": 0.066699,
     "end_time": "2022-08-13T17:04:08.717370",
     "exception": false,
     "start_time": "2022-08-13T17:04:08.650671",
     "status": "completed"
    },
    "tags": []
   },
   "source": [
    "# Day 45 and 46\n",
    "<br>dataquest-> prob and stats -> hypothesis testing fundamentals -> significance testing-> chi squared test\n",
    "<br>4- 6"
   ]
  },
  {
   "cell_type": "markdown",
   "id": "fd526be8",
   "metadata": {
    "papermill": {
     "duration": 0.066394,
     "end_time": "2022-08-13T17:04:08.850441",
     "exception": false,
     "start_time": "2022-08-13T17:04:08.784047",
     "status": "completed"
    },
    "tags": []
   },
   "source": [
    "# Day 47\n",
    "<br>dataquest-> prob and stats -> hypothesis testing fundamentals -> significance testing-> chi squared test\n",
    "<br> slide 6 done"
   ]
  },
  {
   "cell_type": "markdown",
   "id": "232751ec",
   "metadata": {
    "papermill": {
     "duration": 0.066645,
     "end_time": "2022-08-13T17:04:08.984963",
     "exception": false,
     "start_time": "2022-08-13T17:04:08.918318",
     "status": "completed"
    },
    "tags": []
   },
   "source": [
    "# Day 48\n",
    "<br> chi-squared values is that they get smaller as the sample size decreases.\n",
    "<br>**conclusion**\n",
    "- The chi-squared test enables us to quantify the difference between sets of observed and expected categorical values to determine statistical significance\n",
    "- chi squared = (observed - expected)**2 / expected\n",
    "- A p-value allows us to determine whether the difference between 2 values is due to chance, or due to an underlying difference.\n",
    "- Chi-squared values increase as sample size increases, but the chance of getting a high chi-squared value decreases as the sample gets larger.\n",
    "- A degree of freedom is the number of values that can vary without the other values being\"locked in\". \n",
    "- scipy https://docs.scipy.org/doc/scipy/reference/generated/scipy.stats.mstats.chisquare.html\n"
   ]
  },
  {
   "cell_type": "markdown",
   "id": "fcb62db7",
   "metadata": {
    "papermill": {
     "duration": 0.066893,
     "end_time": "2022-08-13T17:04:09.118525",
     "exception": false,
     "start_time": "2022-08-13T17:04:09.051632",
     "status": "completed"
    },
    "tags": []
   },
   "source": [
    "# Day 49\n",
    "<br>dataquest-> prob and stats -> hypothesis testing fundamentals -> significance testing-> multi category chi squared test\n",
    "<br> slide 1 done\n",
    "- We can apply the multi category chi-squared test (also known as the chi-squared test of association) to figure out if there's a statistically significant correlation between two categorical columns.\n",
    "- "
   ]
  },
  {
   "cell_type": "markdown",
   "id": "02868842",
   "metadata": {
    "papermill": {
     "duration": 0.066516,
     "end_time": "2022-08-13T17:04:09.252432",
     "exception": false,
     "start_time": "2022-08-13T17:04:09.185916",
     "status": "completed"
    },
    "tags": []
   },
   "source": [
    " **Day 50**\n",
    "<br>dataquest-> prob and stats -> hypothesis testing fundamentals -> significance testing-> multi category chi squared test\n",
    "# Conclusion:\n",
    "- In a multiple category chi-squared test, we calculate expected values across our whole dataset.\n",
    "- We can calculate the chi-squared value by using the following steps:\n",
    "    - Subtract the expected value from the observed value.\n",
    "    - Subtract the difference.\n",
    "    - Divide the squared difference by the expected value.\n",
    "    - Repeat for all observed and expected values and add up all the values.\n",
    "- ∑ expected(observed−expected)**2 / expected\n",
    "- Discovering that a result isn't significant doesn't mean that no association between the columnsexists. Discovering a statistically significant result doesn't imply anything about what thecorrelation is.\n",
    "- Chi-squared tests can only be applied when each possibility within a category is independen.\n",
    "    - we have categories like male or female not both. single row has either male or female not both at a time.\n",
    "- https://docs.scipy.org/doc/scipy-0.15.1/reference/generated/scipy.stats.chi2_contingency.html\n",
    "- https://pandas.pydata.org/pandas-docs/stable/generated/pandas.crosstab.html\n"
   ]
  },
  {
   "cell_type": "markdown",
   "id": "5ba35915",
   "metadata": {
    "papermill": {
     "duration": 0.066212,
     "end_time": "2022-08-13T17:04:09.384803",
     "exception": false,
     "start_time": "2022-08-13T17:04:09.318591",
     "status": "completed"
    },
    "tags": []
   },
   "source": [
    "# **Day 51, 52**\n",
    "<br>dataquest-> prob and stats -> hypothesis testing fundamentals -> significance testing-> guided project\n",
    "<br>in progress."
   ]
  },
  {
   "cell_type": "markdown",
   "id": "18a1263f",
   "metadata": {
    "papermill": {
     "duration": 0.065799,
     "end_time": "2022-08-13T17:04:09.517151",
     "exception": false,
     "start_time": "2022-08-13T17:04:09.451352",
     "status": "completed"
    },
    "tags": []
   },
   "source": [
    "# **Day 53**\n",
    "<br>dataquest-> prob and stats -> hypothesis testing fundamentals -> significance testing-> guided project\n",
    "<br>done"
   ]
  },
  {
   "cell_type": "markdown",
   "id": "6a69a8ba",
   "metadata": {
    "papermill": {
     "duration": 0.065819,
     "end_time": "2022-08-13T17:04:09.649615",
     "exception": false,
     "start_time": "2022-08-13T17:04:09.583796",
     "status": "completed"
    },
    "tags": []
   },
   "source": [
    "# **Day 54,55, 56,57, 58, 59**\n",
    "interviewbit-> probability-> conditional probability\n",
    "1. You asked your three friends whether it will rain or not and all three affirmed for rain. All three have the probability of 1/3 of lying. What is the probability that it will actually rain?\n",
    "- https://www.geeksforgeeks.org/puzzle-is-it-raining/#:~:text=Explanation%3A,truth%20or%20all%20are%20lying.&text=So%2C%20it%20is%20approximately%2089,it%20is%20raining%20in%20Hyderabad.\n",
    "2. Anshul and Deven take turns in rolling a fair six-sided die. Whoever rolls a “6” first wins the game. Deven starts by rolling first. What’s the probability that Anshul wins?\n",
    "- https://www.quora.com/A-and-B-throw-a-Fair-die-one-after-another-Whoever-throws-6-first-wins-What-is-the-probability-that-A-wins\n",
    "\n",
    "3. You have a bag with 6 marbles. One marble is white. You reach the bag 100 times. After taking out a marble, it is placed back in the bag. What is the probability of drawing a white marble at least once?\n",
    "- https://brainly.com/question/14376470\n",
    "- Answer:\n",
    "\n",
    "0.999999988\n",
    "\n",
    "Step-by-step explanation:\n",
    "\n",
    "Given that you  have a bag with 6 marbles. One marble is white. You reach the bag 100 times. After taking out a marble, it is placed back in the bag.\n",
    "\n",
    "Because every time you replace the marble drawn, the probability for drawing a white marble in one draw is constant = p =5/6\n",
    "\n",
    "No of trials n = 100\n",
    "\n",
    "Here X no of times white marble is drawn is Binomial since there are two outcomes and also the probability is constant.\n",
    "\n",
    "the probability of drawing a white marble at least once\n",
    "\n",
    "=\n",
    "\n",
    "Required probability is almost 1.\n",
    "\n",
    "\n",
    "4. Supposedly a friend of yours has 2 children and at least one of them is a boy. What is the probability that the other is also a boy?\n",
    "- If at least one is a boy, there are three possible equally likely gender assignations of two siblings. boy-boy, boy-girl,\n",
    "\n",
    " or girl-boy. Only 1 in 3 cases or 33 percent are both boys. The lesson here is that when considering equally likely scenarios\n",
    "\n",
    " we must consider birth order. If the birth order of the boy is not specified – i.e. if we don’t know if he is the eldest or \n",
    "\n",
    " the youngest – the probability of two boys drops to 1 in 3.\n",
    " \n",
    "5. A single card is drawn from a standard deck of playing cards. What is the probability that the card is a queen provided that a face card is drawn from the deck of cards?\n",
    "- 4/12 = 1/3\n",
    " \n",
    "6. random variables Q1,2\n",
    "7. 5 questions\n",
    "8. bayes theorem first 2\n",
    "\n",
    "**Day 60**\n",
    "- inferential statistics - 3 questions\n",
    "**Day 61**\n",
    "- inferential statistics - central limit theorem done\n",
    "\n",
    "**Day 62**\n",
    "- inferential statistics - distribution analysis multivariate done\n",
    "\n",
    "**Day 63**\n",
    "- inferential statistics -  done\n",
    "\n",
    "**Day 64,65, 66**\n",
    "- Data Analysis-  wip\n",
    "\n",
    "**Day 67**\n",
    "- Data Analysis-  web scrapping done\n",
    "\n",
    "**Day 68**\n",
    "- Data Analysis-  descriptive statistics tutorial done\n",
    "\n",
    "**Day 69**\n",
    "- Data Analysis-  probability tutorial done\n",
    "\n",
    "**Day 70**\n",
    "- Data Analysis-  hypothesis testing wip\n",
    "\n",
    "**Day 71**\n",
    "- Data Analysis-  inferential statistics tutorials - done\n",
    "\n",
    "**Day 72**\n",
    "- Data Analysis-  inferential statistics tutorials - done\n",
    "\n",
    "**Day 73**\n",
    "- Data Analysis-  data analysis tutorials - wip\n",
    "\n",
    "**Day 74**\n",
    "\n",
    "**Interview Prep:**\n",
    "1. clustering evaluation techniques:\n",
    "- https://towardsdatascience.com/clustering-evaluation-strategies-98a4006fcfc\n",
    "\n",
    "**Day 75**\n",
    "\n",
    "2. feature selection\n",
    "- https://www.analyticsvidhya.com/blog/2016/12/introduction-to-feature-selection-methods-with-an-example-or-how-to-select-the-right-variables/\n",
    "\n",
    "**Day 76**\n",
    "\n",
    "2. linear regression\n",
    "- https://towardsdatascience.com/introduction-to-machine-learning-algorithms-linear-regression-14c4e325882a and also data camp\n",
    "\n",
    "**Day 77**\n",
    "\n",
    "3. What’s the normal distribution? Why do we care about it?\n",
    "- https://www.youtube.com/watch?v=rzFX5NWojp0&ab_channel=StatQuestwithJoshStarmer\n",
    "\n",
    "**Day 78, 79**\n",
    "\n",
    " few questions from dsinterviews.org\n",
    " \n",
    " \n",
    "**Day 80**\n",
    "\n",
    " linear regression from datacamp -> done\n",
    " \n",
    " \n",
    "**Day 81**\n",
    "\n",
    " what is bias, variance and bias-variance tradeoff?\n",
    " \n",
    "https://medium.datadriveninvestor.com/bias-and-variance-in-machine-learning-51fdd38d1f86\n",
    " \n",
    " \n",
    "**Day 82**\n",
    "\n",
    "Regularization, L1 and L2 regularization?\n",
    "- https://medium.datadriveninvestor.com/l1-l2-regularization-7f1b4fe948f2\n",
    "\n",
    "**Day 83**\n",
    "\n",
    "Handling Imbalanced dataset\n",
    "- https://www.analyticsvidhya.com/blog/2021/06/5-techniques-to-handle-imbalanced-data-for-a-classification-problem/\n",
    "\n",
    "**Day 84**\n",
    "\n",
    "Central limit theorem?\n",
    "- https://medium.com/analytics-vidhya/central-limit-theorem-made-easy-a61319d6ee1f\n",
    "- https://towardsdatascience.com/central-limit-theorem-95f355934d98#:~:text=The%20Central%20Limit%20Theorem%20(CLT,the%20population%20or%20original%20variables.\n",
    "\n",
    "- the distribution of sample means approaches a normal distribution as the sample size increases.\n",
    "- for n>30, sample mean will reach normal distribution\n",
    "\n",
    "**Day 85**\n",
    "\n",
    "what are outliers and how to handle them?\n",
    "- https://www.analyticsvidhya.com/blog/2021/05/detecting-and-treating-outliers-treating-the-odd-one-out/\n",
    "\n",
    "**Day 86, 87**\n",
    "\n",
    "evaluation metrics\n",
    "- https://www.kaggle.com/code/vipulgandhi/how-to-choose-right-metric-for-evaluating-ml-model/notebook\n",
    "- regression https://medium.com/usf-msds/choosing-the-right-metric-for-machine-learning-models-part-1-a99d7d7414e4\n",
    "- https://stephenallwright.com/good-rmse-score/\n",
    "- https://www.kaggle.com/code/vipulgandhi/how-to-choose-right-metric-for-evaluating-ml-model/notebook\n",
    "\n",
    "**Day 88, 89, 90, 91, 92**\n",
    "- Rmse penalizes heavily or give large number in loss if the difference between predicted and actual is high but rmse can be easily differentiable so that's an advantage.\n",
    "- range of rmse and mae is from 0 to infinity.\n",
    "- R squared -> determines how well dependent variable explains independent variable variance.\n",
    "- Adjusted R-squared -> in r sqaured if we add more features to the model accuracy will aimprove but by using adjusted r-squred accuracy will increase only if the feature is usefull otherwise it'll penalize the accuracy.\n",
    "- The maximum value of R² is 1 but minimum can be negative infinity.\n",
    "- rmse and mae is usually used to compare the models but r-squred says how good my model is and preffered in industry.\n",
    "- high r squared means better model, low rmse/mae means better model.\n",
    "- how to say which rmse is better?\n",
    "    - use scatter index. which is (rmse)*100/avg(y), if SI(scat index) <10% is good model, <5% is best. according to ashley standar model with rsquared>0.75 and SI<30% is good.\n",
    "    - https://www.statology.org/what-is-a-good-rmse/\n",
    "    \n",
    "**Day 93, 94**\n",
    "\n",
    "evaluation of classification?\n",
    "- https://www.analyticsvidhya.com/blog/2020/10/how-to-choose-evaluation-metrics-for-classification-model/\n",
    "- https://www.analyticsvidhya.com/blog/2021/06/confusion-matrix-for-multi-class-classification/\n",
    "- https://towardsdatascience.com/understanding-auc-roc-curve-68b2303cc9c5\n",
    "- https://medium.com/@gaurav_bio/making-sense-of-real-world-data-roc-curves-and-when-to-use-them-90a17e6d1db   --> best article\n",
    "- handling class imbalance --> https://towardsdatascience.com/dealing-with-imbalanced-classes-in-machine-learning-d43d6fa19d2\n",
    "\n",
    "**Day 95, 96**\n",
    "\n",
    "- regularization?\n",
    "- https://towardsdatascience.com/regularization-in-machine-learning-76441ddcf99a\n",
    "- https://www.simplilearn.com/tutorials/machine-learning-tutorial/regularization-in-machine-learning\n",
    "- https://www.analyticsvidhya.com/blog/2021/05/complete-guide-to-regularization-techniques-in-machine-learning/\n",
    "\n",
    "**Day 97**\n",
    "\n",
    "linear regression and gradient descent.\n",
    "- https://arshren.medium.com/gradient-descent-5a13f385d403\n",
    "- https://towardsdatascience.com/introduction-to-machine-learning-algorithms-linear-regression-14c4e325882a\n",
    "\n",
    "**Day 98, 99**\n",
    "\n",
    "gradient descent\n",
    "- https://www.youtube.com/watch?v=sDv4f4s2SB8&t=1276s&ab_channel=StatQuestwithJoshStarmer\n",
    "\n",
    "**Day 100**\n",
    "- validation from theory questions\n",
    "\n",
    "**Day 101,102**\n",
    "- feature selection\n",
    "\n",
    "**Day 103**\n",
    "- started reading sreelatha murthy's the outliers book\n",
    "- finished first chapter.\n",
    "\n",
    "**Day 104**\n",
    "- chapter 4 modelling and ml questions\n",
    "- How can you avoid overfitting in predictive models?\n",
    "\n",
    "**Day 105**\n",
    "- How to choose k for k mean?\n",
    "    - https://www.analyticsvidhya.com/blog/2019/08/comprehensive-guide-k-means-clustering/#h2_1\n",
    "    - https://developers.google.com/machine-learning/clustering/prepare-data\n",
    "    - https://mai-tnthao.medium.com/k-means-clustering-ph%C3%A2n-c%E1%BB%A5m-k-means-d2ffed5bddf8\n",
    "- clustering algorithm for data mith mixed categorical & numerical\n",
    "    - https://www.tomasbeuzen.com/post/clustering-mixed-data/\n",
    "    \n",
    "**Day 106**\n",
    "- which is your favourite algorithm?\n",
    "\n",
    "**Day 107**\n",
    "- regression trees\n",
    "\n",
    "**Day 108,109, 110, 111, 112, 113, 114**\n",
    "- random forest\n",
    "\n",
    "\n",
    "**Day 115**\n",
    "- A/B testing case study\n",
    "\n",
    "**Day 116. 117**\n",
    "- case study 3\n",
    "\n",
    "**Day 119**\n",
    "- behaviour questions\n",
    "\n",
    "**Day 120**\n",
    "- confidence interval\n",
    "- https://www.machinelearningplus.com/statistics/confidence-interval/\n",
    "\n",
    "**Day 121**\n",
    "- p value\n",
    "\n",
    "**Day 122,123,124, 125, 126, 127**\n",
    "- general\n",
    "\n",
    "**Day 128**\n",
    "- DT, Random forest, adad boost, grad boost, xg boost.\n",
    "- book-> general probability\n",
    "\n",
    "**Day 129,130**\n",
    "- gradient boosting\n",
    "- p-values -> book\n",
    "- xgboost\n",
    "\n",
    "**Day 131**\n",
    "- xgb hyper parameters\n",
    "- confidence interval\n",
    "\n",
    "**Day 132, 133, 134, 135**\n",
    "- general\n",
    "\n",
    "**Day 136**\n",
    "- general\n",
    "- started with dsa -> arrays easy\n",
    "\n",
    "**Day 137, 138, 139**\n",
    "- general\n",
    "\n",
    "**Day 140, 141**\n",
    "- bayes prob -> book\n",
    "\n",
    "**Day 142**\n",
    "- probab one question- book\n",
    "- roc auc, pca\n",
    "\n",
    "**Day 143**\n",
    "- logistic reg\n",
    "- general\n",
    "\n",
    "**Day 144, 145**\n",
    "- general\n",
    "- t-sne basics\n",
    "\n",
    "**Day 146, 147, 148, 149, 150, 151, 152, 153, 154, 155**\n",
    "- logistic reg assumptions\n",
    "- general"
   ]
  },
  {
   "cell_type": "code",
   "execution_count": null,
   "id": "9ce20334",
   "metadata": {
    "papermill": {
     "duration": 0.066896,
     "end_time": "2022-08-13T17:04:09.782558",
     "exception": false,
     "start_time": "2022-08-13T17:04:09.715662",
     "status": "completed"
    },
    "tags": []
   },
   "outputs": [],
   "source": []
  },
  {
   "cell_type": "markdown",
   "id": "2b7ee13b",
   "metadata": {
    "papermill": {
     "duration": 0.065748,
     "end_time": "2022-08-13T17:04:09.914899",
     "exception": false,
     "start_time": "2022-08-13T17:04:09.849151",
     "status": "completed"
    },
    "tags": []
   },
   "source": []
  },
  {
   "cell_type": "code",
   "execution_count": null,
   "id": "98b022d9",
   "metadata": {
    "papermill": {
     "duration": 0.067463,
     "end_time": "2022-08-13T17:04:10.052563",
     "exception": false,
     "start_time": "2022-08-13T17:04:09.985100",
     "status": "completed"
    },
    "tags": []
   },
   "outputs": [],
   "source": []
  },
  {
   "cell_type": "code",
   "execution_count": 4,
   "id": "74c82ba7",
   "metadata": {
    "execution": {
     "iopub.execute_input": "2022-08-13T17:04:10.194411Z",
     "iopub.status.busy": "2022-08-13T17:04:10.193308Z",
     "iopub.status.idle": "2022-08-13T17:04:10.196154Z",
     "shell.execute_reply": "2022-08-13T17:04:10.195620Z",
     "shell.execute_reply.started": "2022-04-12T14:17:49.333113Z"
    },
    "papermill": {
     "duration": 0.075046,
     "end_time": "2022-08-13T17:04:10.196307",
     "exception": false,
     "start_time": "2022-08-13T17:04:10.121261",
     "status": "completed"
    },
    "tags": []
   },
   "outputs": [],
   "source": [
    "# !pip install PyMuPDF"
   ]
  },
  {
   "cell_type": "code",
   "execution_count": 5,
   "id": "cd283068",
   "metadata": {
    "execution": {
     "iopub.execute_input": "2022-08-13T17:04:10.333316Z",
     "iopub.status.busy": "2022-08-13T17:04:10.332251Z",
     "iopub.status.idle": "2022-08-13T17:04:10.335797Z",
     "shell.execute_reply": "2022-08-13T17:04:10.336390Z",
     "shell.execute_reply.started": "2022-04-12T14:19:20.437905Z"
    },
    "papermill": {
     "duration": 0.073701,
     "end_time": "2022-08-13T17:04:10.336575",
     "exception": false,
     "start_time": "2022-08-13T17:04:10.262874",
     "status": "completed"
    },
    "tags": []
   },
   "outputs": [],
   "source": [
    " \n",
    "# fitz.__version__"
   ]
  },
  {
   "cell_type": "code",
   "execution_count": 6,
   "id": "76269dac",
   "metadata": {
    "execution": {
     "iopub.execute_input": "2022-08-13T17:04:10.474041Z",
     "iopub.status.busy": "2022-08-13T17:04:10.473012Z",
     "iopub.status.idle": "2022-08-13T17:04:10.476295Z",
     "shell.execute_reply": "2022-08-13T17:04:10.476905Z",
     "shell.execute_reply.started": "2022-04-12T14:23:59.687259Z"
    },
    "papermill": {
     "duration": 0.073867,
     "end_time": "2022-08-13T17:04:10.477076",
     "exception": false,
     "start_time": "2022-08-13T17:04:10.403209",
     "status": "completed"
    },
    "tags": []
   },
   "outputs": [],
   "source": [
    "# !python -m spacy download en_core_web_sm"
   ]
  },
  {
   "cell_type": "code",
   "execution_count": null,
   "id": "3cf41ae9",
   "metadata": {
    "papermill": {
     "duration": 0.0662,
     "end_time": "2022-08-13T17:04:10.609762",
     "exception": false,
     "start_time": "2022-08-13T17:04:10.543562",
     "status": "completed"
    },
    "tags": []
   },
   "outputs": [],
   "source": []
  },
  {
   "cell_type": "code",
   "execution_count": 7,
   "id": "046876f7",
   "metadata": {
    "execution": {
     "iopub.execute_input": "2022-08-13T17:04:10.754413Z",
     "iopub.status.busy": "2022-08-13T17:04:10.753366Z",
     "iopub.status.idle": "2022-08-13T17:04:10.755316Z",
     "shell.execute_reply": "2022-08-13T17:04:10.755868Z",
     "shell.execute_reply.started": "2022-04-12T14:18:25.912243Z"
    },
    "papermill": {
     "duration": 0.0768,
     "end_time": "2022-08-13T17:04:10.756067",
     "exception": false,
     "start_time": "2022-08-13T17:04:10.679267",
     "status": "completed"
    },
    "tags": []
   },
   "outputs": [],
   "source": [
    "# import fitz\n",
    "# import spacy\n",
    "# import re\n",
    "# from pathlib import Path\n",
    "# import requests\n",
    "# import os"
   ]
  },
  {
   "cell_type": "code",
   "execution_count": 8,
   "id": "62c95143",
   "metadata": {
    "execution": {
     "iopub.execute_input": "2022-08-13T17:04:10.899142Z",
     "iopub.status.busy": "2022-08-13T17:04:10.898377Z",
     "iopub.status.idle": "2022-08-13T17:04:10.901353Z",
     "shell.execute_reply": "2022-08-13T17:04:10.900784Z",
     "shell.execute_reply.started": "2022-04-12T15:03:43.5897Z"
    },
    "papermill": {
     "duration": 0.075428,
     "end_time": "2022-08-13T17:04:10.901510",
     "exception": false,
     "start_time": "2022-08-13T17:04:10.826082",
     "status": "completed"
    },
    "tags": []
   },
   "outputs": [],
   "source": [
    "# sql_db_json = [\n",
    "#   {\n",
    "#     \"document_id\": \"1\",\n",
    "#     \"area\": \"[72.1149,661.2966,131.95729,675.1716]\",\n",
    "#     \"page\": \"3\",\n",
    "#     \"text_\": \"Background\",\n",
    "#     \"type_of_selection\": \"Text\",\n",
    "#     \"entity_type\": \"name\",\n",
    "#     \"link\": \"https://redactable-devox-stage.s3.us-east-2.amazonaws.com/tenants/41d9e109-693b-444c-aa18-e5891bc6550b/original/1a7c0e5d-3237-4ca9-9e3d-89e707245ac6/D8communications.pdf\"\n",
    "#   },\n",
    "#   {\n",
    "#     \"document_id\": \"1\",\n",
    "#     \"area\": \"[290.55386,632.0173,322.14685,645.8923]\",\n",
    "#     \"page\": \"2\",\n",
    "#     \"text_\": \"INDEX\",\n",
    "#     \"type_of_selection\": \"Text\",\n",
    "#     \"entity_type\": \"address\",\n",
    "#     \"link\": \"https://redactable-devox-stage.s3.us-east-2.amazonaws.com/tenants/41d9e109-693b-444c-aa18-e5891bc6550b/original/1a7c0e5d-3237-4ca9-9e3d-89e707245ac6/D8communications.pdf\"\n",
    "#   }\n",
    "# ]"
   ]
  },
  {
   "cell_type": "code",
   "execution_count": 9,
   "id": "305327ba",
   "metadata": {
    "execution": {
     "iopub.execute_input": "2022-08-13T17:04:11.039632Z",
     "iopub.status.busy": "2022-08-13T17:04:11.038813Z",
     "iopub.status.idle": "2022-08-13T17:04:11.041665Z",
     "shell.execute_reply": "2022-08-13T17:04:11.041149Z",
     "shell.execute_reply.started": "2022-04-12T13:17:19.452695Z"
    },
    "papermill": {
     "duration": 0.073662,
     "end_time": "2022-08-13T17:04:11.041815",
     "exception": false,
     "start_time": "2022-08-13T17:04:10.968153",
     "status": "completed"
    },
    "tags": []
   },
   "outputs": [],
   "source": [
    "# l=pd.DataFrame()\n",
    "# k=(1, '[290.55386,632.0173,322.14685,645.8923]', 2, 'INDEX', 'Text', 'address', 'https://redactable-devox-s')\n",
    "# k\n"
   ]
  },
  {
   "cell_type": "code",
   "execution_count": 10,
   "id": "a4497e1c",
   "metadata": {
    "execution": {
     "iopub.execute_input": "2022-08-13T17:04:11.184427Z",
     "iopub.status.busy": "2022-08-13T17:04:11.182534Z",
     "iopub.status.idle": "2022-08-13T17:04:11.187260Z",
     "shell.execute_reply": "2022-08-13T17:04:11.186604Z",
     "shell.execute_reply.started": "2022-04-12T16:09:33.708631Z"
    },
    "papermill": {
     "duration": 0.079452,
     "end_time": "2022-08-13T17:04:11.187427",
     "exception": false,
     "start_time": "2022-08-13T17:04:11.107975",
     "status": "completed"
    },
    "tags": []
   },
   "outputs": [],
   "source": [
    "# co=[\"document_id\",\"area\",\"page\",\"text_\",\"type_of_selection\",\"entity_type\",\"link\"]\n",
    "# val= [(1,'[72.1149,661.2966,131.95729,675.1716]',3,'Background','Text','name' ,'https://redactable-devox-stage.s3.us-east-2.am'), (1,  '[290.55386,632.0173,322.14685,645.8923]',2,'INDEX', 'Text','address','https://redactable-devox-stage.s3.us-east-2.am')]\n",
    "\n",
    "# df=pd.DataFrame(val,columns=[co])\n",
    "# #df.iloc[1] =[1,  '[290.55386,632.0173,322.14685,645.8923]',2,'INDEX', 'Text','address','https://redactable-devox-stage.s3.us-east-2.am']\n",
    "# df"
   ]
  },
  {
   "cell_type": "code",
   "execution_count": 11,
   "id": "a796f779",
   "metadata": {
    "execution": {
     "iopub.execute_input": "2022-08-13T17:04:11.325875Z",
     "iopub.status.busy": "2022-08-13T17:04:11.325178Z",
     "iopub.status.idle": "2022-08-13T17:04:11.328280Z",
     "shell.execute_reply": "2022-08-13T17:04:11.328845Z",
     "shell.execute_reply.started": "2022-04-12T16:18:22.595374Z"
    },
    "papermill": {
     "duration": 0.074403,
     "end_time": "2022-08-13T17:04:11.329032",
     "exception": false,
     "start_time": "2022-08-13T17:04:11.254629",
     "status": "completed"
    },
    "tags": []
   },
   "outputs": [],
   "source": [
    "# prev=[]\n",
    "# for data,row in df.iterrows():\n",
    "#     if row['document_id'] not in prev:\n",
    "#         prev.append(row['document_id'])\n",
    "#         print('hey')"
   ]
  },
  {
   "cell_type": "code",
   "execution_count": 12,
   "id": "7caff8b2",
   "metadata": {
    "execution": {
     "iopub.execute_input": "2022-08-13T17:04:11.466828Z",
     "iopub.status.busy": "2022-08-13T17:04:11.465787Z",
     "iopub.status.idle": "2022-08-13T17:04:11.471492Z",
     "shell.execute_reply": "2022-08-13T17:04:11.472107Z",
     "shell.execute_reply.started": "2022-04-12T15:03:48.248836Z"
    },
    "papermill": {
     "duration": 0.076227,
     "end_time": "2022-08-13T17:04:11.472296",
     "exception": false,
     "start_time": "2022-08-13T17:04:11.396069",
     "status": "completed"
    },
    "tags": []
   },
   "outputs": [],
   "source": [
    "# nlp = spacy.load('en_core_web_sm')\n",
    "# train_data = []\n",
    "\n",
    "# prev_doc_id = ''\n",
    "# i=0\n",
    "# temp='/kaggle/working'\n",
    "\n",
    "# for data in sql_db_json:\n",
    "#     if data['type_of_selection'] == 'Text':\n",
    "#         document_id = data['document_id']\n",
    "#         x1,y1,x2,y2 = data['area'][1:-1].split(',')\n",
    "#         url = data['link']\n",
    "#         page_no = int(data['page']) - 1 \n",
    "#         label = data['entity_type']\n",
    "#         filename = url.split('/')[-1]\n",
    "    \n",
    "#         #download the file to temp folder\n",
    "#         outpath = os.path.join(temp,filename)\n",
    "\n",
    "#         if document_id == prev_doc_id:\n",
    "#             pass\n",
    "#         else: \n",
    "#             i+=1\n",
    "#             print(i)\n",
    "#             response = requests.get(url)\n",
    "#             with open(outpath, \"wb\") as binary_file:\n",
    "#                 binary_file.write(response.content)\n",
    "\n",
    "#         doc = fitz.open(outpath)  # any supported document type\n",
    "#         page = doc[page_no]  # we want text from this page\n",
    "#         print('page dimension - ', page.rect.width, page.rect.height)\n",
    "\n",
    "#         #The co-ordinates in the DB are image co-ords. W.r.t pdf, y1 and y2 has to be interchanged.\n",
    "#         #To ensure entire word to be selected, slight correction in x1,y1,x2,y2 is done.\n",
    "\n",
    "#         rect = [float(x1)-2, 792 - float(y2)-2, float(x2)+2, 792 - float(y1)+2]\n",
    "#         print(rect)\n",
    "#         labelled_text = page.get_textbox(rect)\n",
    "\n",
    "#         #Removing all unprintable characters from the text\n",
    "#         string = re.sub('[^0-9a-zA-Z@?|\\/<>.,()&^%$#!]+', ' ', labelled_text)\n",
    "#         print('string : ', string)\n",
    "\n",
    "#         fulltext = page.get_text()\n",
    "#         doc = nlp(fulltext)\n",
    "\n",
    "#         sentences = []\n",
    "#         for sent in doc.sents:\n",
    "#             if string.strip() in sent.text:\n",
    "#                 text = re.sub('[^0-9a-zA-Z@?|\\/<>.,()&^%$#!]+', ' ', sent.text)\n",
    "\n",
    "#         res = re.search(string.strip(), text)\n",
    "\n",
    "#         entities = []\n",
    "#         entities.append((res.start(),res.end(),label))\n",
    "\n",
    "#         train_data.append((text,{'entities':entities}))\n",
    "\n",
    "# print('Training data in spacy format')\n",
    "# print('*****************************')\n",
    "# for i in range(0,len(train_data)):\n",
    "#     print(train_data[i])"
   ]
  },
  {
   "cell_type": "code",
   "execution_count": null,
   "id": "9f669258",
   "metadata": {
    "papermill": {
     "duration": 0.06676,
     "end_time": "2022-08-13T17:04:11.606207",
     "exception": false,
     "start_time": "2022-08-13T17:04:11.539447",
     "status": "completed"
    },
    "tags": []
   },
   "outputs": [],
   "source": []
  },
  {
   "cell_type": "code",
   "execution_count": 13,
   "id": "fddaa86c",
   "metadata": {
    "execution": {
     "iopub.execute_input": "2022-08-13T17:04:11.743575Z",
     "iopub.status.busy": "2022-08-13T17:04:11.742562Z",
     "iopub.status.idle": "2022-08-13T17:04:11.747692Z",
     "shell.execute_reply": "2022-08-13T17:04:11.748242Z",
     "shell.execute_reply.started": "2022-04-12T11:44:59.253637Z"
    },
    "papermill": {
     "duration": 0.075829,
     "end_time": "2022-08-13T17:04:11.748437",
     "exception": false,
     "start_time": "2022-08-13T17:04:11.672608",
     "status": "completed"
    },
    "tags": []
   },
   "outputs": [],
   "source": [
    "# nlp = spacy.load('en_core_web_sm')\n",
    "# train_data = []\n",
    "\n",
    "# prev_doc_id = ''\n",
    "# temp='/kaggle/working'\n",
    "# i=0\n",
    "# for data in sql_db_json:\n",
    "#     if data['type_of_selection'] == 'Text':\n",
    "#         document_id = data['document_id']\n",
    "#         x1,y1,x2,y2 = data['area'][1:-1].split(',')\n",
    "#         url = data['link']\n",
    "#         page_no = int(data['page']) - 1 \n",
    "#         label = data['entity_type']\n",
    "#         filename = url.split('/')[-1]\n",
    "    \n",
    "#         #download the file to temp folder\n",
    "#         i+=1\n",
    "#         print(i)\n",
    "#         response = requests.get(url)\n",
    "#         doc = fitz.open(stream=response.content,filetype=\"pdf\")  # any supported document type\n",
    "#         page = doc[page_no]  # we want text from this page\n",
    "#         print('page dimension - ', page.rect.width, page.rect.height)\n",
    "\n",
    "#         #The co-ordinates in the DB are image co-ords. W.r.t pdf, y1 and y2 has to be interchanged.\n",
    "#         #To ensure entire word to be selected, slight correction in x1,y1,x2,y2 is done.\n",
    "\n",
    "#         rect = [float(x1)-2, 792 - float(y2)-2, float(x2)+2, 792 - float(y1)+2]\n",
    "#         print(rect)\n",
    "#         labelled_text = page.get_textbox(rect)\n",
    "\n",
    "#         #Removing all unprintable characters from the text\n",
    "#         string = re.sub('[^0-9a-zA-Z@?|\\/<>.,()&^%$#!]+', ' ', labelled_text)\n",
    "#         print('string : ', string)\n",
    "\n",
    "#         fulltext = page.get_text()\n",
    "#         doc = nlp(fulltext)\n",
    "\n",
    "#         sentences = []\n",
    "#         for sent in doc.sents:\n",
    "#             if string.strip() in sent.text:\n",
    "#                 text = re.sub('[^0-9a-zA-Z@?|\\/<>.,()&^%$#!]+', ' ', sent.text)\n",
    "\n",
    "#         res = re.search(string.strip(), text)\n",
    "\n",
    "#         entities = []\n",
    "#         entities.append((res.start(),res.end(),label))\n",
    "\n",
    "#         train_data.append((text,{'entities':entities}))\n",
    "\n",
    "# print('Training data in spacy format')\n",
    "# print('*****************************')\n",
    "# for i in range(0,len(train_data)):\n",
    "#     print(train_data[i])"
   ]
  },
  {
   "cell_type": "code",
   "execution_count": 14,
   "id": "c3e38e3e",
   "metadata": {
    "execution": {
     "iopub.execute_input": "2022-08-13T17:04:11.886192Z",
     "iopub.status.busy": "2022-08-13T17:04:11.885217Z",
     "iopub.status.idle": "2022-08-13T17:04:11.889055Z",
     "shell.execute_reply": "2022-08-13T17:04:11.889694Z"
    },
    "papermill": {
     "duration": 0.074021,
     "end_time": "2022-08-13T17:04:11.889873",
     "exception": false,
     "start_time": "2022-08-13T17:04:11.815852",
     "status": "completed"
    },
    "tags": []
   },
   "outputs": [],
   "source": [
    "# page dimension -  612.0 792.0\n",
    "# [70.1149, 114.82839999999999, 133.95729, 132.7034]\n",
    "# string :  Background\n",
    "# page dimension -  612.0 792.0\n",
    "# [288.55386, 144.10770000000002, 324.14685, 161.98270000000002]\n",
    "# string :  INDEX\n",
    "# Training data in spacy format\n",
    "# *****************************\n",
    "# (' 3 Background The Blue Ribbon Committee was created by the Mayor to assess various city communication methods and recommend opportunities to improve communications with residents, businesses and other organizations.', {'entities': [(3, 13, 'name')]})\n",
    "# (' 2 INDEX Background Pg. 3 Purpose Pg. 3 Process .', {'entities': [(3, 8, 'address')]})"
   ]
  },
  {
   "cell_type": "code",
   "execution_count": 15,
   "id": "e11ccc71",
   "metadata": {
    "execution": {
     "iopub.execute_input": "2022-08-13T17:04:12.027203Z",
     "iopub.status.busy": "2022-08-13T17:04:12.026162Z",
     "iopub.status.idle": "2022-08-13T17:04:12.030489Z",
     "shell.execute_reply": "2022-08-13T17:04:12.031116Z",
     "shell.execute_reply.started": "2022-04-11T16:35:29.609712Z"
    },
    "papermill": {
     "duration": 0.075206,
     "end_time": "2022-08-13T17:04:12.031294",
     "exception": false,
     "start_time": "2022-08-13T17:04:11.956088",
     "status": "completed"
    },
    "tags": []
   },
   "outputs": [],
   "source": [
    "# nlp = spacy.load('en_core_web_sm')\n",
    "# outpath=r'/kaggle/input/sample-pdf/D8communications.pdf'\n",
    "# doc = fitz.open(outpath)  # any supported document type\n",
    "# page_no=3\n",
    "# page = doc[page_no-1]\n",
    "\n",
    "# x1,y1,x2,y2=(72.1149,661.2966,131.95729,675.1716)\n",
    "\n",
    "# rect = [float(x1)-2, 792 - float(y2)-2, float(x2)+2, 792 - float(y1)+2]\n",
    "# print(rect)\n",
    "# labelled_text = page.get_textbox(rect)\n",
    "# string = re.sub('[^0-9a-zA-Z@?|\\/<>.,()&^%$#!]+', ' ', labelled_text)\n",
    "# print('string : ', string)\n",
    "\n",
    "# fulltext = page.get_text()\n",
    "# doc = nlp(fulltext)\n",
    "\n",
    "# sentences = []\n",
    "# for sent in doc.sents:\n",
    "#             if string.strip() in sent.text:\n",
    "#                 text = re.sub('[^0-9a-zA-Z@?|\\/<>.,()&^%$#!]+', ' ', sent.text)\n",
    "\n",
    "#         res = re.search(string.strip(), text)\n",
    "\n",
    "#         entities = []\n",
    "#         entities.append((res.start(),res.end(),label))\n",
    "\n",
    "#         train_data.append((text,{'entities':entities}))\n",
    "\n"
   ]
  },
  {
   "cell_type": "code",
   "execution_count": 16,
   "id": "08dbc91d",
   "metadata": {
    "execution": {
     "iopub.execute_input": "2022-08-13T17:04:12.169501Z",
     "iopub.status.busy": "2022-08-13T17:04:12.168577Z",
     "iopub.status.idle": "2022-08-13T17:04:12.171465Z",
     "shell.execute_reply": "2022-08-13T17:04:12.172073Z",
     "shell.execute_reply.started": "2022-04-11T16:35:41.679947Z"
    },
    "papermill": {
     "duration": 0.074139,
     "end_time": "2022-08-13T17:04:12.172250",
     "exception": false,
     "start_time": "2022-08-13T17:04:12.098111",
     "status": "completed"
    },
    "tags": []
   },
   "outputs": [],
   "source": [
    "#doc"
   ]
  },
  {
   "cell_type": "code",
   "execution_count": 17,
   "id": "27fb9dcb",
   "metadata": {
    "execution": {
     "iopub.execute_input": "2022-08-13T17:04:12.310734Z",
     "iopub.status.busy": "2022-08-13T17:04:12.309711Z",
     "iopub.status.idle": "2022-08-13T17:04:12.313117Z",
     "shell.execute_reply": "2022-08-13T17:04:12.313709Z",
     "shell.execute_reply.started": "2022-04-11T16:35:56.010353Z"
    },
    "papermill": {
     "duration": 0.074678,
     "end_time": "2022-08-13T17:04:12.313885",
     "exception": false,
     "start_time": "2022-08-13T17:04:12.239207",
     "status": "completed"
    },
    "tags": []
   },
   "outputs": [],
   "source": [
    "# sentences = []\n",
    "# for sent in doc.sents:\n",
    "#     if string.strip() in sent.text:\n",
    "#         text = re.sub('[^0-9a-zA-Z@?|\\/<>.,()&^%$#!]+', ' ', sent.text)"
   ]
  },
  {
   "cell_type": "code",
   "execution_count": 18,
   "id": "734df339",
   "metadata": {
    "execution": {
     "iopub.execute_input": "2022-08-13T17:04:12.452873Z",
     "iopub.status.busy": "2022-08-13T17:04:12.451927Z",
     "iopub.status.idle": "2022-08-13T17:04:12.455059Z",
     "shell.execute_reply": "2022-08-13T17:04:12.455544Z",
     "shell.execute_reply.started": "2022-04-11T16:39:04.736143Z"
    },
    "papermill": {
     "duration": 0.07391,
     "end_time": "2022-08-13T17:04:12.455764",
     "exception": false,
     "start_time": "2022-08-13T17:04:12.381854",
     "status": "completed"
    },
    "tags": []
   },
   "outputs": [],
   "source": [
    "# k=nlp(\"he             kenny\")\n",
    "# for sent in k.sents:\n",
    "#     print(sent)"
   ]
  },
  {
   "cell_type": "code",
   "execution_count": 19,
   "id": "1e74a181",
   "metadata": {
    "execution": {
     "iopub.execute_input": "2022-08-13T17:04:12.592777Z",
     "iopub.status.busy": "2022-08-13T17:04:12.591854Z",
     "iopub.status.idle": "2022-08-13T17:04:12.595040Z",
     "shell.execute_reply": "2022-08-13T17:04:12.595514Z",
     "shell.execute_reply.started": "2022-04-11T15:09:24.391421Z"
    },
    "papermill": {
     "duration": 0.073252,
     "end_time": "2022-08-13T17:04:12.595717",
     "exception": false,
     "start_time": "2022-08-13T17:04:12.522465",
     "status": "completed"
    },
    "tags": []
   },
   "outputs": [],
   "source": [
    "# text"
   ]
  },
  {
   "cell_type": "code",
   "execution_count": 20,
   "id": "67e87a1d",
   "metadata": {
    "execution": {
     "iopub.execute_input": "2022-08-13T17:04:12.732765Z",
     "iopub.status.busy": "2022-08-13T17:04:12.731852Z",
     "iopub.status.idle": "2022-08-13T17:04:12.734831Z",
     "shell.execute_reply": "2022-08-13T17:04:12.735275Z",
     "shell.execute_reply.started": "2022-04-11T15:09:31.9599Z"
    },
    "papermill": {
     "duration": 0.073115,
     "end_time": "2022-08-13T17:04:12.735480",
     "exception": false,
     "start_time": "2022-08-13T17:04:12.662365",
     "status": "completed"
    },
    "tags": []
   },
   "outputs": [],
   "source": [
    "# res = re.search(string.strip(), text)\n",
    "# res"
   ]
  },
  {
   "cell_type": "code",
   "execution_count": 21,
   "id": "7304e573",
   "metadata": {
    "execution": {
     "iopub.execute_input": "2022-08-13T17:04:12.873710Z",
     "iopub.status.busy": "2022-08-13T17:04:12.872699Z",
     "iopub.status.idle": "2022-08-13T17:04:12.876040Z",
     "shell.execute_reply": "2022-08-13T17:04:12.876647Z",
     "shell.execute_reply.started": "2022-04-11T15:12:41.311242Z"
    },
    "papermill": {
     "duration": 0.073335,
     "end_time": "2022-08-13T17:04:12.876839",
     "exception": false,
     "start_time": "2022-08-13T17:04:12.803504",
     "status": "completed"
    },
    "tags": []
   },
   "outputs": [],
   "source": [
    "# entities = []\n",
    "# entities.append((res.start(),res.end(),'p'))"
   ]
  },
  {
   "cell_type": "code",
   "execution_count": 22,
   "id": "a96868bf",
   "metadata": {
    "execution": {
     "iopub.execute_input": "2022-08-13T17:04:13.015888Z",
     "iopub.status.busy": "2022-08-13T17:04:13.014858Z",
     "iopub.status.idle": "2022-08-13T17:04:13.018270Z",
     "shell.execute_reply": "2022-08-13T17:04:13.018848Z",
     "shell.execute_reply.started": "2022-04-11T15:12:52.736619Z"
    },
    "papermill": {
     "duration": 0.074028,
     "end_time": "2022-08-13T17:04:13.019034",
     "exception": false,
     "start_time": "2022-08-13T17:04:12.945006",
     "status": "completed"
    },
    "tags": []
   },
   "outputs": [],
   "source": [
    "# entities"
   ]
  },
  {
   "cell_type": "code",
   "execution_count": 23,
   "id": "47b5d075",
   "metadata": {
    "execution": {
     "iopub.execute_input": "2022-08-13T17:04:13.159358Z",
     "iopub.status.busy": "2022-08-13T17:04:13.158293Z",
     "iopub.status.idle": "2022-08-13T17:04:13.161864Z",
     "shell.execute_reply": "2022-08-13T17:04:13.162530Z",
     "shell.execute_reply.started": "2022-04-11T15:06:11.546217Z"
    },
    "papermill": {
     "duration": 0.076954,
     "end_time": "2022-08-13T17:04:13.162711",
     "exception": false,
     "start_time": "2022-08-13T17:04:13.085757",
     "status": "completed"
    },
    "tags": []
   },
   "outputs": [],
   "source": [
    "# text"
   ]
  },
  {
   "cell_type": "code",
   "execution_count": null,
   "id": "de56d972",
   "metadata": {
    "execution": {
     "iopub.execute_input": "2022-04-11T15:02:33.300092Z",
     "iopub.status.busy": "2022-04-11T15:02:33.299778Z",
     "iopub.status.idle": "2022-04-11T15:02:33.30711Z",
     "shell.execute_reply": "2022-04-11T15:02:33.306345Z",
     "shell.execute_reply.started": "2022-04-11T15:02:33.300061Z"
    },
    "papermill": {
     "duration": 0.066095,
     "end_time": "2022-08-13T17:04:13.296042",
     "exception": false,
     "start_time": "2022-08-13T17:04:13.229947",
     "status": "completed"
    },
    "tags": []
   },
   "outputs": [],
   "source": []
  },
  {
   "cell_type": "code",
   "execution_count": 24,
   "id": "73f73eb6",
   "metadata": {
    "execution": {
     "iopub.execute_input": "2022-08-13T17:04:13.434460Z",
     "iopub.status.busy": "2022-08-13T17:04:13.433491Z",
     "iopub.status.idle": "2022-08-13T17:04:13.436861Z",
     "shell.execute_reply": "2022-08-13T17:04:13.437466Z",
     "shell.execute_reply.started": "2022-04-11T16:21:02.863037Z"
    },
    "papermill": {
     "duration": 0.074498,
     "end_time": "2022-08-13T17:04:13.437634",
     "exception": false,
     "start_time": "2022-08-13T17:04:13.363136",
     "status": "completed"
    },
    "tags": []
   },
   "outputs": [],
   "source": [
    "# import spacy\n",
    "# nlp = spacy.load('en_core_web_sm')"
   ]
  },
  {
   "cell_type": "code",
   "execution_count": 25,
   "id": "0d889f71",
   "metadata": {
    "execution": {
     "iopub.execute_input": "2022-08-13T17:04:13.574951Z",
     "iopub.status.busy": "2022-08-13T17:04:13.573922Z",
     "iopub.status.idle": "2022-08-13T17:04:13.577538Z",
     "shell.execute_reply": "2022-08-13T17:04:13.578097Z",
     "shell.execute_reply.started": "2022-04-09T12:19:47.776612Z"
    },
    "papermill": {
     "duration": 0.073968,
     "end_time": "2022-08-13T17:04:13.578269",
     "exception": false,
     "start_time": "2022-08-13T17:04:13.504301",
     "status": "completed"
    },
    "tags": []
   },
   "outputs": [],
   "source": [
    "# !pip install PyPDF2\n",
    "# import PyPDF2\n",
    "# fhandle = open(r'/kaggle/input/sample-pdf/D8communications.pdf', 'rb')\n",
    "# pdfReader = PyPDF2.PdfFileReader(fhandle)\n",
    "# pagehandle = pdfReader.getPage(4)\n",
    "# print(pagehandle.extractText())"
   ]
  },
  {
   "cell_type": "code",
   "execution_count": 26,
   "id": "30303861",
   "metadata": {
    "execution": {
     "iopub.execute_input": "2022-08-13T17:04:13.717914Z",
     "iopub.status.busy": "2022-08-13T17:04:13.716918Z",
     "iopub.status.idle": "2022-08-13T17:04:13.720171Z",
     "shell.execute_reply": "2022-08-13T17:04:13.720732Z",
     "shell.execute_reply.started": "2022-04-09T12:25:37.701467Z"
    },
    "papermill": {
     "duration": 0.073992,
     "end_time": "2022-08-13T17:04:13.720903",
     "exception": false,
     "start_time": "2022-08-13T17:04:13.646911",
     "status": "completed"
    },
    "tags": []
   },
   "outputs": [],
   "source": [
    "# !pip install pdfplumber\n",
    "# import pdfplumber\n",
    "# with pdfplumber.open(r'/kaggle/input/sample-pdf/D8communications.pdf') as pdf:\n",
    "#     first_page = pdf.pages[3]\n",
    "#     print(first_page.extract_text())"
   ]
  },
  {
   "cell_type": "code",
   "execution_count": 27,
   "id": "b68ca601",
   "metadata": {
    "execution": {
     "iopub.execute_input": "2022-08-13T17:04:13.859948Z",
     "iopub.status.busy": "2022-08-13T17:04:13.858938Z",
     "iopub.status.idle": "2022-08-13T17:04:13.861778Z",
     "shell.execute_reply": "2022-08-13T17:04:13.861233Z",
     "shell.execute_reply.started": "2022-04-09T12:25:49.584635Z"
    },
    "papermill": {
     "duration": 0.073486,
     "end_time": "2022-08-13T17:04:13.861931",
     "exception": false,
     "start_time": "2022-08-13T17:04:13.788445",
     "status": "completed"
    },
    "tags": []
   },
   "outputs": [],
   "source": [
    "# !pip install pytesseract"
   ]
  },
  {
   "cell_type": "code",
   "execution_count": 28,
   "id": "377609a0",
   "metadata": {
    "execution": {
     "iopub.execute_input": "2022-08-13T17:04:13.999208Z",
     "iopub.status.busy": "2022-08-13T17:04:13.998568Z",
     "iopub.status.idle": "2022-08-13T17:04:14.000469Z",
     "shell.execute_reply": "2022-08-13T17:04:14.000951Z",
     "shell.execute_reply.started": "2022-04-09T14:49:10.656812Z"
    },
    "papermill": {
     "duration": 0.072646,
     "end_time": "2022-08-13T17:04:14.001132",
     "exception": false,
     "start_time": "2022-08-13T17:04:13.928486",
     "status": "completed"
    },
    "tags": []
   },
   "outputs": [],
   "source": [
    "# #!pip install pdf2image\n",
    "# !pip install poppler"
   ]
  },
  {
   "cell_type": "code",
   "execution_count": 29,
   "id": "7ed75700",
   "metadata": {
    "execution": {
     "iopub.execute_input": "2022-08-13T17:04:14.139658Z",
     "iopub.status.busy": "2022-08-13T17:04:14.138602Z",
     "iopub.status.idle": "2022-08-13T17:04:14.142822Z",
     "shell.execute_reply": "2022-08-13T17:04:14.143478Z",
     "shell.execute_reply.started": "2022-04-09T14:57:24.756677Z"
    },
    "papermill": {
     "duration": 0.07597,
     "end_time": "2022-08-13T17:04:14.143680",
     "exception": false,
     "start_time": "2022-08-13T17:04:14.067710",
     "status": "completed"
    },
    "tags": []
   },
   "outputs": [],
   "source": [
    "# pdf2image.convert_from_path('/kaggle/input/sample-pdf/D8communications.pdf')"
   ]
  },
  {
   "cell_type": "code",
   "execution_count": 30,
   "id": "6c00f399",
   "metadata": {
    "execution": {
     "iopub.execute_input": "2022-08-13T17:04:14.306419Z",
     "iopub.status.busy": "2022-08-13T17:04:14.305470Z",
     "iopub.status.idle": "2022-08-13T17:04:14.309443Z",
     "shell.execute_reply": "2022-08-13T17:04:14.310003Z",
     "shell.execute_reply.started": "2022-04-09T14:57:17.576149Z"
    },
    "papermill": {
     "duration": 0.079675,
     "end_time": "2022-08-13T17:04:14.310174",
     "exception": false,
     "start_time": "2022-08-13T17:04:14.230499",
     "status": "completed"
    },
    "tags": []
   },
   "outputs": [],
   "source": [
    "# import pdf2image\n",
    "# try:\n",
    "#     from PIL import Image\n",
    "# except ImportError:\n",
    "#     import Image\n",
    "# import pytesseract\n",
    "\n",
    "\n",
    "# def pdf_to_img(pdf_file):\n",
    "#     return pdf2image.convert_from_path(pdf_file)\n",
    "\n",
    "\n",
    "# def ocr_core(file):\n",
    "#     text = pytesseract.image_to_string(file)\n",
    "#     return text\n",
    "\n",
    "\n",
    "# def print_pages(pdf_file):\n",
    "#     images = pdf_to_img(pdf_file)\n",
    "#     for pg, img in enumerate(images):\n",
    "#         print(ocr_core(img))\n",
    "\n",
    "\n",
    "# print_pages('/kaggle/input/sample-pdf/D8communications.pdf')\n"
   ]
  },
  {
   "cell_type": "code",
   "execution_count": 31,
   "id": "c4279a59",
   "metadata": {
    "execution": {
     "iopub.execute_input": "2022-08-13T17:04:14.448104Z",
     "iopub.status.busy": "2022-08-13T17:04:14.447134Z",
     "iopub.status.idle": "2022-08-13T17:04:14.451146Z",
     "shell.execute_reply": "2022-08-13T17:04:14.451768Z"
    },
    "papermill": {
     "duration": 0.075172,
     "end_time": "2022-08-13T17:04:14.451948",
     "exception": false,
     "start_time": "2022-08-13T17:04:14.376776",
     "status": "completed"
    },
    "tags": []
   },
   "outputs": [],
   "source": [
    "# import requests\n",
    "# import fitz\n",
    "# import io\n",
    "\n",
    "# #URL = 'https://buildmedia.readthedocs.org/media/pdf/pdfminer-docs/latest/pdfminer-docs.pdf'\n",
    "# URL = 'https://redactable-devox-stage.s3.us-east-2.amazonaws.com/tenants/41d9e109-693b-444c-aa18-e5891bc6550b/original/1a7c0e5d-3237-4ca9-9e3d-89e707245ac6/D8communications.pdf'\n",
    "\n",
    "\n",
    "# res = requests.get(URL)\n",
    "# filestream = io.BytesIO(res.content)\n",
    "# #res.content\n",
    "# filestream\n",
    "# doc = fitz.Document(stream=filestream)\n",
    "# page1 = doc.loadPage(3)\n",
    "# page1text = page1.getText(\"text\").encode(\"utf-8\").decode(\"utf-8\")\n",
    "# print(page1text)"
   ]
  },
  {
   "cell_type": "code",
   "execution_count": 32,
   "id": "3efaecc6",
   "metadata": {
    "execution": {
     "iopub.execute_input": "2022-08-13T17:04:14.588873Z",
     "iopub.status.busy": "2022-08-13T17:04:14.587900Z",
     "iopub.status.idle": "2022-08-13T17:04:14.592197Z",
     "shell.execute_reply": "2022-08-13T17:04:14.592809Z",
     "shell.execute_reply.started": "2022-04-09T07:04:56.590103Z"
    },
    "papermill": {
     "duration": 0.074521,
     "end_time": "2022-08-13T17:04:14.592989",
     "exception": false,
     "start_time": "2022-08-13T17:04:14.518468",
     "status": "completed"
    },
    "tags": []
   },
   "outputs": [],
   "source": [
    "# import requests\n",
    "# import fitz\n",
    "\n",
    "# #URL = 'https://buildmedia.readthedocs.org/media/pdf/pdfminer-docs/latest/pdfminer-docs.pdf'\n",
    "# URL = 'https://redactable-devox-stage.s3.us-east-2.amazonaws.com/tenants/41d9e109-693b-444c-aa18-e5891bc6550b/original/1a7c0e5d-3237-4ca9-9e3d-89e707245ac6/D8communications.pdf'\n",
    "\n",
    "\n",
    "# res = requests.get(URL)\n",
    "# doc = fitz.open(stream=res.content,filetype=\"pdf\")\n",
    "# page1 = doc.loadPage(3)\n",
    "# page1text = page1.getText(\"text\")\n",
    "# #rect = (72.1149,661.2966,131.95729,675.1716)\n",
    "# rect=(72.10812377929688, 116.13427734375, 133.97142028808594, 146.4227294921875)\n",
    "# labelled_text = page1.get_textbox(rect)\n",
    "# print(labelled_text.strip())\n",
    "\n",
    "# fulltext = page1.get_text()\n",
    "# print(fulltext)\n",
    "# doc = nlp(fulltext)\n",
    "# sentences = []\n",
    "# for sent in doc.sents:\n",
    "#     if labelled_text in sent.text:\n",
    "#         text = sent.text\n",
    "#         print(text)\n",
    "# #print(page1text)"
   ]
  },
  {
   "cell_type": "code",
   "execution_count": 33,
   "id": "e252c4f9",
   "metadata": {
    "execution": {
     "iopub.execute_input": "2022-08-13T17:04:14.731471Z",
     "iopub.status.busy": "2022-08-13T17:04:14.730485Z",
     "iopub.status.idle": "2022-08-13T17:04:14.733875Z",
     "shell.execute_reply": "2022-08-13T17:04:14.734430Z",
     "shell.execute_reply.started": "2022-04-08T16:42:57.6659Z"
    },
    "papermill": {
     "duration": 0.073603,
     "end_time": "2022-08-13T17:04:14.734611",
     "exception": false,
     "start_time": "2022-08-13T17:04:14.661008",
     "status": "completed"
    },
    "tags": []
   },
   "outputs": [],
   "source": [
    "#res.content"
   ]
  },
  {
   "cell_type": "code",
   "execution_count": 34,
   "id": "65c13a8e",
   "metadata": {
    "execution": {
     "iopub.execute_input": "2022-08-13T17:04:14.872762Z",
     "iopub.status.busy": "2022-08-13T17:04:14.871802Z",
     "iopub.status.idle": "2022-08-13T17:04:14.875844Z",
     "shell.execute_reply": "2022-08-13T17:04:14.876439Z",
     "shell.execute_reply.started": "2022-04-08T16:48:05.672392Z"
    },
    "papermill": {
     "duration": 0.074755,
     "end_time": "2022-08-13T17:04:14.876626",
     "exception": false,
     "start_time": "2022-08-13T17:04:14.801871",
     "status": "completed"
    },
    "tags": []
   },
   "outputs": [],
   "source": [
    "# import fitz\n",
    "# # mem_area=\n",
    "# # doc = fitz.open(stream=mem_area, filetype=\"pdf\")\n",
    "\n",
    "# import requests\n",
    "\n",
    "# URL = 'https://redactable-devox-stage.s3.us-east-2.amazonaws.com/tenants/41d9e109-693b-444c-aa18-e5891bc6550b/original/1a7c0e5d-3237-4ca9-9e3d-89e707245ac6/D8communications.pdf'\n",
    "\n",
    "# #res = requests.get(URL)\n",
    "# doc=fitz.open(\"/kaggle/input/sample-pdf/D8communications.pdf\")\n",
    "# #doc = fitz.open(stream=res.content,filetype=\"pdf\")\n",
    "# page1 = doc.loadPage(4)\n",
    "# # page1text = page1.getText(\"text\")\n",
    "# # print(page1text)\n",
    "# blocks = page1.getText(\"blocks\")\n",
    "# blocks.sort(key=lambda block: block[1])  # sort vertically ascending\n",
    "\n",
    "# for b in blocks:\n",
    "#     print(b[4])\n"
   ]
  },
  {
   "cell_type": "code",
   "execution_count": 35,
   "id": "7045c6cf",
   "metadata": {
    "execution": {
     "iopub.execute_input": "2022-08-13T17:04:15.014739Z",
     "iopub.status.busy": "2022-08-13T17:04:15.014101Z",
     "iopub.status.idle": "2022-08-13T17:04:15.015843Z",
     "shell.execute_reply": "2022-08-13T17:04:15.016345Z",
     "shell.execute_reply.started": "2022-04-08T16:48:13.086323Z"
    },
    "papermill": {
     "duration": 0.072554,
     "end_time": "2022-08-13T17:04:15.016521",
     "exception": false,
     "start_time": "2022-08-13T17:04:14.943967",
     "status": "completed"
    },
    "tags": []
   },
   "outputs": [],
   "source": [
    "# # page = doc[1]\n",
    "# words = page.get_text(\"words\")\n",
    "# #print(words)\n",
    "# rect = (72.1149,661.2966,131.95729,675.1716)\n",
    "\n",
    "# labelled_text = page.get_textbox(rect)\n",
    "# # labelled_text"
   ]
  },
  {
   "cell_type": "markdown",
   "id": "7f947590",
   "metadata": {
    "papermill": {
     "duration": 0.066727,
     "end_time": "2022-08-13T17:04:15.151380",
     "exception": false,
     "start_time": "2022-08-13T17:04:15.084653",
     "status": "completed"
    },
    "tags": []
   },
   "source": [
    "pip install PyPDF2"
   ]
  },
  {
   "cell_type": "code",
   "execution_count": null,
   "id": "774f0534",
   "metadata": {
    "papermill": {
     "duration": 0.06798,
     "end_time": "2022-08-13T17:04:15.287212",
     "exception": false,
     "start_time": "2022-08-13T17:04:15.219232",
     "status": "completed"
    },
    "tags": []
   },
   "outputs": [],
   "source": []
  },
  {
   "cell_type": "code",
   "execution_count": 36,
   "id": "c5ea1f41",
   "metadata": {
    "execution": {
     "iopub.execute_input": "2022-08-13T17:04:15.426051Z",
     "iopub.status.busy": "2022-08-13T17:04:15.424512Z",
     "iopub.status.idle": "2022-08-13T17:04:15.427735Z",
     "shell.execute_reply": "2022-08-13T17:04:15.428255Z",
     "shell.execute_reply.started": "2022-03-18T16:48:58.370268Z"
    },
    "papermill": {
     "duration": 0.074715,
     "end_time": "2022-08-13T17:04:15.428474",
     "exception": false,
     "start_time": "2022-08-13T17:04:15.353759",
     "status": "completed"
    },
    "tags": []
   },
   "outputs": [],
   "source": [
    "# import pandas as pd\n",
    "# h={'step': 0, 'type': 'string', 'amount': 0.0, 'nameOrig': 'C1231006815', 'oldbalanceOrig': 0.0, 'newbalanceOrig': 0.0, 'nameDest': 'M1979787155', 'oldbalanceDest': 0.0, 'newbalanceDest': 0.0}\n",
    "# df=pd.DataFrame([h])"
   ]
  },
  {
   "cell_type": "code",
   "execution_count": 37,
   "id": "1cb3008a",
   "metadata": {
    "execution": {
     "iopub.execute_input": "2022-08-13T17:04:15.567158Z",
     "iopub.status.busy": "2022-08-13T17:04:15.566527Z",
     "iopub.status.idle": "2022-08-13T17:04:15.569478Z",
     "shell.execute_reply": "2022-08-13T17:04:15.569992Z",
     "shell.execute_reply.started": "2022-04-09T17:21:26.021615Z"
    },
    "papermill": {
     "duration": 0.072611,
     "end_time": "2022-08-13T17:04:15.570204",
     "exception": false,
     "start_time": "2022-08-13T17:04:15.497593",
     "status": "completed"
    },
    "tags": []
   },
   "outputs": [],
   "source": [
    "#df"
   ]
  },
  {
   "cell_type": "code",
   "execution_count": null,
   "id": "6caea347",
   "metadata": {
    "papermill": {
     "duration": 0.066341,
     "end_time": "2022-08-13T17:04:15.703123",
     "exception": false,
     "start_time": "2022-08-13T17:04:15.636782",
     "status": "completed"
    },
    "tags": []
   },
   "outputs": [],
   "source": []
  }
 ],
 "metadata": {
  "kernelspec": {
   "display_name": "Python 3",
   "language": "python",
   "name": "python3"
  },
  "language_info": {
   "codemirror_mode": {
    "name": "ipython",
    "version": 3
   },
   "file_extension": ".py",
   "mimetype": "text/x-python",
   "name": "python",
   "nbconvert_exporter": "python",
   "pygments_lexer": "ipython3",
   "version": "3.7.12"
  },
  "papermill": {
   "default_parameters": {},
   "duration": 23.390801,
   "end_time": "2022-08-13T17:04:16.380455",
   "environment_variables": {},
   "exception": null,
   "input_path": "__notebook__.ipynb",
   "output_path": "__notebook__.ipynb",
   "parameters": {},
   "start_time": "2022-08-13T17:03:52.989654",
   "version": "2.3.3"
  }
 },
 "nbformat": 4,
 "nbformat_minor": 5
}
