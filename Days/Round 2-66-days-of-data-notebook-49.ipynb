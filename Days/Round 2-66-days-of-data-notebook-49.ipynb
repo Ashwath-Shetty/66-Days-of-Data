{
 "cells": [
  {
   "cell_type": "code",
   "execution_count": 1,
   "id": "eb17bd1d",
   "metadata": {
    "_cell_guid": "b1076dfc-b9ad-4769-8c92-a6c4dae69d19",
    "_uuid": "8f2839f25d086af736a60e9eeb907d3b93b6e0e5",
    "execution": {
     "iopub.execute_input": "2022-04-29T16:37:17.311176Z",
     "iopub.status.busy": "2022-04-29T16:37:17.309988Z",
     "iopub.status.idle": "2022-04-29T16:37:17.328630Z",
     "shell.execute_reply": "2022-04-29T16:37:17.327545Z",
     "shell.execute_reply.started": "2022-04-12T14:12:25.248687Z"
    },
    "papermill": {
     "duration": 0.089017,
     "end_time": "2022-04-29T16:37:17.328892",
     "exception": false,
     "start_time": "2022-04-29T16:37:17.239875",
     "status": "completed"
    },
    "tags": []
   },
   "outputs": [
    {
     "name": "stdout",
     "output_type": "stream",
     "text": [
      "/kaggle/input/sample-pdf/D8communications.pdf\n"
     ]
    }
   ],
   "source": [
    "# This Python 3 environment comes with many helpful analytics libraries installed\n",
    "# It is defined by the kaggle/python Docker image: https://github.com/kaggle/docker-python\n",
    "# For example, here's several helpful packages to load\n",
    "\n",
    "import numpy as np # linear algebra\n",
    "import pandas as pd # data processing, CSV file I/O (e.g. pd.read_csv)\n",
    "\n",
    "# Input data files are available in the read-only \"../input/\" directory\n",
    "# For example, running this (by clicking run or pressing Shift+Enter) will list all files under the input directory\n",
    "\n",
    "import os\n",
    "for dirname, _, filenames in os.walk('/kaggle/input'):\n",
    "    for filename in filenames:\n",
    "        print(os.path.join(dirname, filename))\n",
    "\n",
    "# You can write up to 20GB to the current directory (/kaggle/working/) that gets preserved as output when you create a version using \"Save & Run All\" \n",
    "# You can also write temporary files to /kaggle/temp/, but they won't be saved outside of the current session"
   ]
  },
  {
   "cell_type": "markdown",
   "id": "ce47fb37",
   "metadata": {
    "papermill": {
     "duration": 0.065404,
     "end_time": "2022-04-29T16:37:17.463870",
     "exception": false,
     "start_time": "2022-04-29T16:37:17.398466",
     "status": "completed"
    },
    "tags": []
   },
   "source": [
    "# **Start Date: 12/3/2022**"
   ]
  },
  {
   "cell_type": "markdown",
   "id": "ec6d8747",
   "metadata": {
    "papermill": {
     "duration": 0.066194,
     "end_time": "2022-04-29T16:37:17.598064",
     "exception": false,
     "start_time": "2022-04-29T16:37:17.531870",
     "status": "completed"
    },
    "tags": []
   },
   "source": [
    "# **Day 1:** \n",
    "<br>dataquest -> stats -> probability-> estimating probability\n",
    "1. out come is nothing but o/p of an experiment\n",
    "ex: whatever u get after rolling a dice -> it can be any number\n",
    "2. event can have more than one outcome\n",
    "- e.x: The event that we'll get an odd number when we roll a six-sided die — this event includes the outcomes 1, 3, and 5.\n",
    "- an event can be 0 as well.\n",
    "- We always assign probabilities to events, not outcomes, even if the event includes only one outcome.\n",
    "- P(E) =1/total number of possible outcomes, P(E) probability of an event happening.\n",
    "- but above formula doesn't work always, especially when there are more than one outcome\n",
    "    - P(E)=number of successful outcomes/total number of possible outcomes\n",
    "- incase of a biased situation \n",
    "  - let's say a die has 6 - 3 times which is 1,6,3,5,6,6\n",
    "    we will consider 6 as 3 times not 1.\n",
    "    possible outcome-> 1,3,5,6,6,6\n",
    "    prob(6)=3/6\n",
    "    prob(3)=1/6\n",
    "    prob(2)=0/6\n",
    "    If we didn't treat each 6 differently and said it doesn't matter which side a 6 is on, \n",
    "    <br>we'd be forced to conclude the only possible outcomes are 1, 3, 5 and 6. We can definitely         <br>frame the problem like that, but the formula above won't work anymore — we see below P(6) <br>becomes the same as P(3), but, intuitively, P(6) should be higher than P(3) since the die has 6 on     <br>three of its sides:\n"
   ]
  },
  {
   "cell_type": "markdown",
   "id": "5543a667",
   "metadata": {
    "papermill": {
     "duration": 0.066724,
     "end_time": "2022-04-29T16:37:17.730092",
     "exception": false,
     "start_time": "2022-04-29T16:37:17.663368",
     "status": "completed"
    },
    "tags": []
   },
   "source": [
    "Estimating Probabilities Conclusion\n",
    "- emperical/ experimental probability\n",
    "  - probability achieved by experimenting / by doing the same event multiple times.\n",
    "  - Generally, for any event E (like a coin landing heads up), we can find its empirical probability   \n",
    "     by using the following formula: \n",
    "     •P (E) =number of times event E happened/ number of times we repeated the experiment   \n",
    " - Generally, the empirical probability of an event (a coin landing heads up, getting a 5 when weroll a die) approaches the true probability value as the number of trials of the randomexperiment (a coin toss, the rolling of a die) increases without bound.\n",
    "- When we calculate the probability of an event under the assumption that the outcomes have equal chances of occurring, we say that we're calculating the **theoretical probability** of an event.\n",
    "   - P(E)=number of successful outcomes/total number of possible outcomes\n",
    "\n"
   ]
  },
  {
   "cell_type": "markdown",
   "id": "0ae1986e",
   "metadata": {
    "papermill": {
     "duration": 0.066247,
     "end_time": "2022-04-29T16:37:17.863106",
     "exception": false,
     "start_time": "2022-04-29T16:37:17.796859",
     "status": "completed"
    },
    "tags": []
   },
   "source": [
    "# **Day 2**\n",
    "<br>dataquest-> stats -> intro to probability -> probability rules\n",
    "<br>In probability theory, the set of all possible outcomes is called a sample space. A sample space is often denoted by the capital Greek letter Ω (read \"omega\"). This is how we represent the sample space of a die roll:\n",
    "\n",
    "Ω = {1,2,3,4,5,6}\n",
    "-    The probability of any event ranges between 0 and 1: 0≤ P(Event) ≤1\n",
    "- To calculate P(A or B), we can also use the formula below, which is sometimes called the addition rule: P(A or B) = P(A) + P(B)\n",
    "  - Sample space ={ 1,2,3,4,5,6} \n",
    "  - P(2 or 5) = 2/6\n",
    "\n",
    "- P(C or D) = P(C) + P(D) - P(C and D)\n",
    "   - e.x : Sample_space ={2,4,6} + { 4,5,6} - {4/6}\n",
    "      P( even number or number greater than 3) = ( (3/6) + (3/6) )- (2/6) = 4/6\n",
    "- Events that don't intersect are called mutually exclusive.\n",
    "  - e.x: Getting a 5 (event one) and getting a 3 (event two) when we roll a regular six-sided die — it's  impossible to get both a 5 and 3.\n",
    "- Events that intersect are called mutually non-exclusive.\n",
    "  - Getting a number greater than 2 (event one) and getting an odd number (event two) when we roll a regular six-sided die — we could get a 5, which is both greater than 2 (event one) and odd (event two).\n",
    "- unioun -> A or B, intersection -> A and B"
   ]
  },
  {
   "cell_type": "markdown",
   "id": "6221df14",
   "metadata": {
    "papermill": {
     "duration": 0.065953,
     "end_time": "2022-04-29T16:37:17.995603",
     "exception": false,
     "start_time": "2022-04-29T16:37:17.929650",
     "status": "completed"
    },
    "tags": []
   },
   "source": [
    "# Day 3 and 4\n",
    "dataquest -> stats -> probabilities -> solving complex probabilities\n",
    "- This is the same result we got from our previous approach. In more general terms, the multiplication rule says that for two events E1 and E2, the probability that both event E1 and E2 happen can be found by multiplying the probability of E1 by the probability of E2:\n",
    "    - P(E1 ∩ E2) = P(E1) × P(E2)\n",
    "    - Events that don't influence each other's probability are called independent events. If H1 happens, P(H2) stays the same, so H1 and H2 are independent. The multiplication rule we learned only works for independent events.\n",
    "    "
   ]
  },
  {
   "cell_type": "markdown",
   "id": "0765b129",
   "metadata": {
    "papermill": {
     "duration": 0.065102,
     "end_time": "2022-04-29T16:37:18.126424",
     "exception": false,
     "start_time": "2022-04-29T16:37:18.061322",
     "status": "completed"
    },
    "tags": []
   },
   "source": [
    "# Day 5\n",
    "- When we replace the cards after drawing, we say that we're sampling with replacement. When we don't put the cards back, we're sampling without replacement. \n"
   ]
  },
  {
   "cell_type": "markdown",
   "id": "5c7c575f",
   "metadata": {
    "papermill": {
     "duration": 0.067032,
     "end_time": "2022-04-29T16:37:18.259425",
     "exception": false,
     "start_time": "2022-04-29T16:37:18.192393",
     "status": "completed"
    },
    "tags": []
   },
   "source": [
    "# Day6\n",
    "dataquest-> prob and stats -> probability fundamentals -> permutation and combinations\n",
    "Generally, if we have an experiment E1 (like flipping a coin) with a outcomes, followed by an experiment E2 (like rolling a die) with b outcomes, then the total number of outcomes for the composite experiment E1E2 can be found by multiplying a with b:\n",
    "\n",
    "Number of outcomes = a * b"
   ]
  },
  {
   "cell_type": "markdown",
   "id": "ef9b157b",
   "metadata": {
    "papermill": {
     "duration": 0.065946,
     "end_time": "2022-04-29T16:37:18.390983",
     "exception": false,
     "start_time": "2022-04-29T16:37:18.325037",
     "status": "completed"
    },
    "tags": []
   },
   "source": [
    "# Day 7\n",
    "dataquest-> prob and stats -> probability fundamentals -> permutation and combinations <br>\n",
    "More generally, if we have an experiment E1 with a outcomes, followed by an experiment E2 with b outcomes, followed by an experiment En with z outcomes, the total number of outcomes for the composite experiment E1E2 ... En can be found by multiplying their individual outcomes:\n",
    "\n",
    "Number of outcomes= a * b * … * z"
   ]
  },
  {
   "cell_type": "markdown",
   "id": "f36ca62a",
   "metadata": {
    "papermill": {
     "duration": 0.064995,
     "end_time": "2022-04-29T16:37:18.521838",
     "exception": false,
     "start_time": "2022-04-29T16:37:18.456843",
     "status": "completed"
    },
    "tags": []
   },
   "source": [
    "# Day 8\n",
    "dataquest-> prob and stats -> probability fundamentals -> permutation and combinations <br>\n",
    "permutations= n*(n-1)*(n-2)*....*2*1\n"
   ]
  },
  {
   "cell_type": "markdown",
   "id": "4cfef91c",
   "metadata": {
    "papermill": {
     "duration": 0.064996,
     "end_time": "2022-04-29T16:37:18.652122",
     "exception": false,
     "start_time": "2022-04-29T16:37:18.587126",
     "status": "completed"
    },
    "tags": []
   },
   "source": [
    "# Day 9\n",
    "dataquest-> prob and stats -> probability fundamentals -> permutation and combinations\n",
    "- in permutation order of the individual element in the arranement matters.\n",
    "   - for e.x: 9821 is different than 9281\n",
    "   - Permutations =n!  --> sample without replacement-> we are not putting back the sampled data.\n",
    "   - On the last screen, we learned to use the formula below to calculate permutations when we're sampling without replacement and taking only k objects from a group of n objects:\n",
    "   npk=n!/(n-k)!"
   ]
  },
  {
   "cell_type": "markdown",
   "id": "a48bafa1",
   "metadata": {
    "papermill": {
     "duration": 0.065278,
     "end_time": "2022-04-29T16:37:18.782605",
     "exception": false,
     "start_time": "2022-04-29T16:37:18.717327",
     "status": "completed"
    },
    "tags": []
   },
   "source": [
    "# Day 10\n",
    "dataquest-> prob and stats -> probability fundamentals -> permutation and combinations\n",
    "- More generally, if the order of the elements in an arrangement doesn't matter, the arrangement is called a combination.\n",
    "- e.x: cards in a deck \n",
    "- nCk = n! / ((n-k)!*k!)"
   ]
  },
  {
   "cell_type": "markdown",
   "id": "39351a73",
   "metadata": {
    "papermill": {
     "duration": 0.065342,
     "end_time": "2022-04-29T16:37:18.914314",
     "exception": false,
     "start_time": "2022-04-29T16:37:18.848972",
     "status": "completed"
    },
    "tags": []
   },
   "source": [
    "# Day 11\n",
    "dataquest-> prob and stats -> probability fundamentals -> permutation and combinations\n",
    "- solved 1 probability problem.\n"
   ]
  },
  {
   "cell_type": "markdown",
   "id": "12e87fd6",
   "metadata": {
    "papermill": {
     "duration": 0.065714,
     "end_time": "2022-04-29T16:37:19.046362",
     "exception": false,
     "start_time": "2022-04-29T16:37:18.980648",
     "status": "completed"
    },
    "tags": []
   },
   "source": [
    "# Day 12\n",
    "dataquest-> prob and stats -> probability fundamentals -> permutation and combinations\n",
    "- finished probability and permutations by revising them.\n",
    "- If we have an experiment E1 (like flipping a coin) with a outcomes, followed by an experiment E2(like rolling a die) with b outcomes, then the total number of outcomes for the compositeexperiment E1E2 can be found by multiplying a with b (this is known as the rule of product):\n",
    "  - number of outcomes = a*b\n",
    "- If we have an experiment E1 with a outcomes, followed by an experiment E2 with b outcomes,followed by an experiment En with z outcomes, the total number of outcomes for the compositeexperiment E1E2 ... En can be found by multiplying their individual outcomes:\n",
    "   - number of outcomes = a*b* ... *z\n",
    "- There are two kinds of arrangements:\n",
    "   - •Arrangements where the order matters, which we call permutations.\n",
    "   - •Arrangements where the order doesn't matter, which we call combination\n",
    "- To find the number of permutations when we're sampling without replacement, we can use theformula:\n",
    "  - permutation = n!\n",
    "- To find the number of permutations when we're sampling without replacement and taking only kobjects from a group of n objects, we can use the formula:\n",
    "  - nPk = n!/(n-k)!\n",
    "- To find the number of combinations when we're sampling without replacement and taking only kobjects from a group of n objects, we can use the formula\n",
    "  - nCk = n! / ((n-k)!*k!)"
   ]
  },
  {
   "cell_type": "markdown",
   "id": "a5dcd26d",
   "metadata": {
    "papermill": {
     "duration": 0.072051,
     "end_time": "2022-04-29T16:37:19.187776",
     "exception": false,
     "start_time": "2022-04-29T16:37:19.115725",
     "status": "completed"
    },
    "tags": []
   },
   "source": [
    "# Day 13\n",
    "dataquest-> prob and stats -> probability fundamentals -> conditional probabilities\n",
    "- first 2 slides -> mainly the recap of old chapter(above one).\n"
   ]
  },
  {
   "cell_type": "markdown",
   "id": "658ae70b",
   "metadata": {
    "papermill": {
     "duration": 0.064964,
     "end_time": "2022-04-29T16:37:19.319058",
     "exception": false,
     "start_time": "2022-04-29T16:37:19.254094",
     "status": "completed"
    },
    "tags": []
   },
   "source": [
    "# Day 14\n",
    "dataquest-> prob and stats -> probability fundamentals -> conditional probabilities\n",
    "<br>slide 4 completed\n",
    "<br>conditional probabilities\n",
    "- probabilities with condition\n",
    "- P(5)=What is the probability of getting a 5? -> normal probability\n",
    "- P(5 | odd) =What is the probability of getting a 5 given the die showed an odd number? -> conditional prob.\n",
    "\n"
   ]
  },
  {
   "cell_type": "markdown",
   "id": "64c5d1da",
   "metadata": {
    "papermill": {
     "duration": 0.065097,
     "end_time": "2022-04-29T16:37:19.451160",
     "exception": false,
     "start_time": "2022-04-29T16:37:19.386063",
     "status": "completed"
    },
    "tags": []
   },
   "source": [
    "# Day 15\n",
    "dataquest-> prob and stats -> probability fundamentals -> conditional probabilities\n",
    "- on slide 5 not done yet.\n",
    "\n",
    "Say we roll a fair six-sided die and want to find the probability of getting an odd number, given the die showed a number greater than 1 after landing. Using probability notation, we want to find P(A|B) where:\n",
    "\n",
    "- A is the event that the number is odd: A = {1, 3, 5}\n",
    "- B is the event that the number is greater than 1: B = {2, 3, 4, 5, 6}\n",
    "- P(A/B)=number of succesfull outcomes / total number of outcomes.\n"
   ]
  },
  {
   "cell_type": "markdown",
   "id": "2cdeb17d",
   "metadata": {
    "papermill": {
     "duration": 0.064691,
     "end_time": "2022-04-29T16:37:19.580970",
     "exception": false,
     "start_time": "2022-04-29T16:37:19.516279",
     "status": "completed"
    },
    "tags": []
   },
   "source": [
    "# Day 16 and 17\n",
    "dataquest-> prob and stats -> probability fundamentals -> conditional probabilities\n",
    "\n",
    "on slide 6 not done yet."
   ]
  },
  {
   "cell_type": "markdown",
   "id": "3df58e3c",
   "metadata": {
    "papermill": {
     "duration": 0.064797,
     "end_time": "2022-04-29T16:37:19.711133",
     "exception": false,
     "start_time": "2022-04-29T16:37:19.646336",
     "status": "completed"
    },
    "tags": []
   },
   "source": [
    "# Day 18\n",
    "dataquest-> prob and stats -> probability fundamentals -> conditional probabilities\n",
    "<br>slide 5 code half done"
   ]
  },
  {
   "cell_type": "markdown",
   "id": "0aae4385",
   "metadata": {
    "papermill": {
     "duration": 0.06607,
     "end_time": "2022-04-29T16:37:19.844367",
     "exception": false,
     "start_time": "2022-04-29T16:37:19.778297",
     "status": "completed"
    },
    "tags": []
   },
   "source": [
    "# Day 19\n",
    "- The number of elements in a set is called the cardinal of the set. \n",
    "  Ω is a set, and the cardinal of \n",
    "   Ω = { 2,3,4,5,6}\n",
    "   cardinal(Ω)=5\n",
    "- P(A | B) = card(A ∩ B) / card(B)\n",
    "- Say we roll a fair six-sided die and want to find the probability of getting an odd number, given the die showed a number greater than 1 after landing. Using probability notation, we want to find P(A|B) where:\n",
    "    - A is the event that the number is odd: A = {1, 3, 5}\n",
    "     - B is the event that the number is greater than 1: B = {2, 3, 4, 5, 6}\n",
    "     - total number of possible outcomes = card({2,3,4,5,6}) =5\n",
    "     - number of successful outcomes = card({3,5})= 2\n",
    "- P(A | B) = card(A ∩ B) / card(B), we can also get the same result using P(A | B) = prob(A ∩ B) / prob(B)\n",
    "\n",
    "     "
   ]
  },
  {
   "cell_type": "markdown",
   "id": "6b03bdce",
   "metadata": {
    "papermill": {
     "duration": 0.065167,
     "end_time": "2022-04-29T16:37:19.974846",
     "exception": false,
     "start_time": "2022-04-29T16:37:19.909679",
     "status": "completed"
    },
    "tags": []
   },
   "source": [
    "# Day 20\n",
    "dataquest-> prob and stats -> probability fundamentals -> conditional probabilities intermediate\n",
    "<br> slide 1 and 2\n",
    "- P( A | B ) ≠ P(A ∩ B), but rather:\n",
    "   - P(A | B) = P(A ∩ B) / P(B)\n",
    "   - P(A ∩ B) = P(A | B) ⋅ P(B)\n",
    "- Given that a customer bought a laptop, they will or will not also buy a mouse. This means we can be certain that either event (M|L) or (M^C|L) will happen:\n",
    "     - P(M | L) + P(M^C | L) = 1\n",
    "\n"
   ]
  },
  {
   "cell_type": "markdown",
   "id": "7f245ab1",
   "metadata": {
    "papermill": {
     "duration": 0.065313,
     "end_time": "2022-04-29T16:37:20.108270",
     "exception": false,
     "start_time": "2022-04-29T16:37:20.042957",
     "status": "completed"
    },
    "tags": []
   },
   "source": [
    "# Day 21\n",
    "dataquest-> prob and stats -> probability fundamentals -> conditional probabilities intermediate\n",
    "slide 1 and 2\n",
    "- P(A ∩ B) = P(B ∩ A)\n",
    "- multiplication rule of probability\n",
    "  -  P(A ∩ B) = P(B) ⋅ P(A | B) \n",
    "  - P(A ∩ B) = P(A) ⋅ P(B | A)\n",
    "- if P(A) and P(B) are statistically independent then \n",
    "  - P(A ∩ B) = P(A) ⋅ P(B)\n",
    "\n"
   ]
  },
  {
   "cell_type": "markdown",
   "id": "719d3500",
   "metadata": {
    "papermill": {
     "duration": 0.066603,
     "end_time": "2022-04-29T16:37:20.241268",
     "exception": false,
     "start_time": "2022-04-29T16:37:20.174665",
     "status": "completed"
    },
    "tags": []
   },
   "source": [
    "# Day 22\n",
    "dataquest-> prob and stats -> probability fundamentals -> conditional probabilities intermediate \n",
    "<br>slide 6\n",
    "- If events events A and B are dependent, it means the occurrence of event A changes the probability of event B and vice versa.\n",
    "   - P(A) ≠ P(A | B)\n",
    "   - P(B) ≠ P(B | A)\n",
    "   - P(A ∩ B) ≠ P(A) ⋅ P(B)\n",
    "   - formula will become P(A ∩ B) ≠ P(A) ⋅ P(B/A)\n",
    "   "
   ]
  },
  {
   "cell_type": "markdown",
   "id": "4d48cf6a",
   "metadata": {
    "papermill": {
     "duration": 0.065151,
     "end_time": "2022-04-29T16:37:20.371761",
     "exception": false,
     "start_time": "2022-04-29T16:37:20.306610",
     "status": "completed"
    },
    "tags": []
   },
   "source": [
    "# Day 23\n",
    "dataquest-> prob and stats -> probability fundamentals -> conditional probabilities intermediate\n",
    "<br>slide 7 to last\n",
    "- To find whether three events — A, B, C — are independent or not, below conditions must hold true -\n",
    "  - P(A ∩ B) ≠ P(A) ⋅ P(B)\n",
    "  - P(A ∩ C) ≠ P(A) ⋅ P(C)\n",
    "  - P(B ∩ C) ≠ P(B) ⋅ P(C)\n",
    "  - P(A ∩ B ∩ C) ≠ P(A) ⋅ P(B) . P(C)\n",
    "- multiplication rule for conditional probability or dependent events\n",
    " - P(A ∩ B ∩ C) = P(A) ⋅ P(B | A) ⋅ P(C | A ∩ B)\n",
    " \n",
    "\n"
   ]
  },
  {
   "cell_type": "markdown",
   "id": "3d4ad32f",
   "metadata": {
    "papermill": {
     "duration": 0.06581,
     "end_time": "2022-04-29T16:37:20.506044",
     "exception": false,
     "start_time": "2022-04-29T16:37:20.440234",
     "status": "completed"
    },
    "tags": []
   },
   "source": [
    "# Day 24\n",
    "dataquest-> prob and stats -> probability fundamentals -> bayes theorem\n",
    "<br>slide 1\n",
    "- independent -> one event is dependent on other\n",
    "   - P(A ∩ B) = P(A) ⋅ P(B/A)\n",
    "- independent -> one event is not dependent on other.\n",
    "   - P(A ∩ B) = P(A) ⋅ P(B)\n",
    "- mutually exclusive -> both the events cannot happen at the same time.\n",
    "   - P(A ∩ B) = 0\n",
    "\n"
   ]
  },
  {
   "cell_type": "markdown",
   "id": "4cc77b95",
   "metadata": {
    "papermill": {
     "duration": 0.064943,
     "end_time": "2022-04-29T16:37:20.636382",
     "exception": false,
     "start_time": "2022-04-29T16:37:20.571439",
     "status": "completed"
    },
    "tags": []
   },
   "source": [
    "# Day 25\n",
    "dataquest-> prob and stats -> probability fundamentals -> bayes theorem\n",
    "<br>slide 2\n",
    "- If two events are exhaustive, it means they make up the whole sample space Ω\n",
    "  -  P(A) = P(A ∩ B) + P(A ∩ B^c)\n",
    "     P(A) = (P(B) * P(A/B)) +  (P(B^c) * P(A/B^c))\n",
    "     \n",
    "     "
   ]
  },
  {
   "cell_type": "markdown",
   "id": "7019291b",
   "metadata": {
    "papermill": {
     "duration": 0.064916,
     "end_time": "2022-04-29T16:37:20.766519",
     "exception": false,
     "start_time": "2022-04-29T16:37:20.701603",
     "status": "completed"
    },
    "tags": []
   },
   "source": [
    "# Day 26\n",
    "dataquest-> prob and stats -> probability fundamentals -> bayes theorem\n",
    "<br>slide 3 - last\n",
    "- the law of total probability\n",
    "  - P(A)  = (P(B1) * P(A/B1)) + (P(B2) * P(A/B2))+ ... + (P(Bn) * P(A/Bn)))\n",
    "  - P(A) =(summattion i=1 to n) P(Bi) ⋅ P(A|Bi)\n",
    "- Baye's theorem\n",
    "  - P(B | A) = (P(B) ⋅ P(A | B)) / (n ∑i=1 P(Bi) ⋅ P(A | Bi))\n",
    "- The probability of being infected with HIV before doing any test is called the prior probability (\"prior\" means \"before\"). The probability of being infected with HIV after testing positive is called the posterior probability (\"posterior\" means \"after\").\n",
    "\n",
    "\n",
    "  "
   ]
  },
  {
   "cell_type": "markdown",
   "id": "7b8c957f",
   "metadata": {
    "papermill": {
     "duration": 0.065183,
     "end_time": "2022-04-29T16:37:20.897702",
     "exception": false,
     "start_time": "2022-04-29T16:37:20.832519",
     "status": "completed"
    },
    "tags": []
   },
   "source": [
    "# Day 27\n",
    "dataquest-> prob and stats -> probability fundamentals -> naive bayes theorem\n",
    "<br>slide 1 - \n",
    "P(Spam|w1,w2,w3,w4)∝P(Spam)⋅P(w1|Spam)⋅P(w2|Spam)⋅P(w3|Spam)⋅P(w4|Spam)P(SpamC|w1,w2,w3,w4)∝P(SpamC)⋅P(w1|SpamC)⋅P(w2|SpamC)⋅P(w3|SpamC)⋅P(w4|SpamC)"
   ]
  },
  {
   "cell_type": "markdown",
   "id": "f8029b32",
   "metadata": {
    "papermill": {
     "duration": 0.065936,
     "end_time": "2022-04-29T16:37:21.029583",
     "exception": false,
     "start_time": "2022-04-29T16:37:20.963647",
     "status": "completed"
    },
    "tags": []
   },
   "source": [
    "# Day 28\n",
    "dataquest-> prob and stats -> probability fundamentals -> naive bayes theorem\n",
    "<br>finished.\n",
    "<br>**Summary**\n",
    "- P(Spam|w1,w2,...,wn)∝P(Spam)⋅n∏i=1P(wi|Spam)\n",
    "- P(SpamC|w1,w2,...,wn)∝P(SpamC)⋅n∏i=1P(wi|SpamC)\n",
    "- To calculate P(wi|Spam) and P(wi|SpamC), we need to use the additive smoothing technique: \n",
    "- P ( w i | S p a m ) = (N w i | S p a m + α) / ( N S p a m + α ⋅ N V o c a b u l a r y )\n",
    "- P ( w i | S p a m C ) = (N w i | S p a m C + α) / ( N S p a m C + α ⋅ N V o c a b u l a r y )\n",
    "     - N w i | S p a m = the number of times the word w i occurs in spam messages \n",
    "     - N w i | S p a m C = the number of times the word w i occurs in non-spam messages \n",
    "     - N S p a m = total number of words in spam messages \n",
    "     - N S p a m C = total number of words in non-spam messages \n",
    "     - N V o c a b u l a r y = total number of words in the vocabulary \n",
    "     - α = 1 ( α is a smoothing parameter )\n",
    " - naive bayes theorem assumes that events are not dependent.\n",
    " - The assumption of conditional independence between words is thus naive since it rarely holds in practice, and this is why the algorithm is called Naive Bayes (also called simple Bayes or independence Bayes)."
   ]
  },
  {
   "cell_type": "markdown",
   "id": "84ae65a1",
   "metadata": {
    "papermill": {
     "duration": 0.065626,
     "end_time": "2022-04-29T16:37:21.161644",
     "exception": false,
     "start_time": "2022-04-29T16:37:21.096018",
     "status": "completed"
    },
    "tags": []
   },
   "source": [
    "# Day 29,30,31\n",
    "<br>dataquest-> prob and stats -> probability fundamentals -> conditional probability-> guided projects\n",
    "<br> in progress"
   ]
  },
  {
   "cell_type": "markdown",
   "id": "ecd95568",
   "metadata": {
    "papermill": {
     "duration": 0.065113,
     "end_time": "2022-04-29T16:37:21.293699",
     "exception": false,
     "start_time": "2022-04-29T16:37:21.228586",
     "status": "completed"
    },
    "tags": []
   },
   "source": [
    "# Day 32 and 33\n",
    "<br>dataquest-> prob and stats -> probability fundamentals -> guided projects\n",
    "<br> done"
   ]
  },
  {
   "cell_type": "markdown",
   "id": "87e0d542",
   "metadata": {
    "papermill": {
     "duration": 0.064994,
     "end_time": "2022-04-29T16:37:21.424202",
     "exception": false,
     "start_time": "2022-04-29T16:37:21.359208",
     "status": "completed"
    },
    "tags": []
   },
   "source": [
    "# Day 34\n",
    "<br>dataquest-> prob and stats -> probability fundamentals -> guided projects-> lottery prediction\n",
    "<br> done"
   ]
  },
  {
   "cell_type": "markdown",
   "id": "d32de81e",
   "metadata": {
    "papermill": {
     "duration": 0.065254,
     "end_time": "2022-04-29T16:37:21.555471",
     "exception": false,
     "start_time": "2022-04-29T16:37:21.490217",
     "status": "completed"
    },
    "tags": []
   },
   "source": [
    "# Day 35\n",
    "<br>dataquest-> prob and stats -> hypothesis testing fundamentals -> significance testing\n",
    "<br> till slide 4\n",
    "- null hypothesis\n",
    "- alternate hypothesis\n"
   ]
  },
  {
   "cell_type": "markdown",
   "id": "0f52af43",
   "metadata": {
    "papermill": {
     "duration": 0.06545,
     "end_time": "2022-04-29T16:37:21.687679",
     "exception": false,
     "start_time": "2022-04-29T16:37:21.622229",
     "status": "completed"
    },
    "tags": []
   },
   "source": [
    "# Day 36 and 37\n",
    "<br>dataquest-> prob and stats -> hypothesis testing fundamentals -> significance testing\n",
    "- The permutation test is a statistical test that involves rerunning the study many times and recalculating the test statistic for each iteration. The goal is to calculate a distribution of the test statistics over these many iterations. This distribution is called the sampling distribution and it approximates the full range of possible test statistics under the null hypothesis\n",
    "\n"
   ]
  },
  {
   "cell_type": "markdown",
   "id": "4fb76da7",
   "metadata": {
    "papermill": {
     "duration": 0.065982,
     "end_time": "2022-04-29T16:37:21.820400",
     "exception": false,
     "start_time": "2022-04-29T16:37:21.754418",
     "status": "completed"
    },
    "tags": []
   },
   "source": [
    "# Day 38\n",
    "<br>dataquest-> prob and stats -> hypothesis testing fundamentals -> significance testing\n",
    "<br>in progress."
   ]
  },
  {
   "cell_type": "markdown",
   "id": "0501bf91",
   "metadata": {
    "papermill": {
     "duration": 0.06629,
     "end_time": "2022-04-29T16:37:21.954960",
     "exception": false,
     "start_time": "2022-04-29T16:37:21.888670",
     "status": "completed"
    },
    "tags": []
   },
   "source": [
    "# Day 39\n",
    "<br>dataquest-> prob and stats -> hypothesis testing fundamentals -> significance testing\n",
    "<br>slide 5-6"
   ]
  },
  {
   "cell_type": "markdown",
   "id": "5822db5c",
   "metadata": {
    "papermill": {
     "duration": 0.067902,
     "end_time": "2022-04-29T16:37:22.088244",
     "exception": false,
     "start_time": "2022-04-29T16:37:22.020342",
     "status": "completed"
    },
    "tags": []
   },
   "source": [
    "# Day 40\n",
    "<br>dataquest-> prob and stats -> hypothesis testing fundamentals -> significance testing\n",
    "<br>slide 7"
   ]
  },
  {
   "cell_type": "markdown",
   "id": "b5af9ccc",
   "metadata": {
    "papermill": {
     "duration": 0.066604,
     "end_time": "2022-04-29T16:37:22.220692",
     "exception": false,
     "start_time": "2022-04-29T16:37:22.154088",
     "status": "completed"
    },
    "tags": []
   },
   "source": [
    "# Day 41 and 42\n",
    "<br>dataquest-> prob and stats -> hypothesis testing fundamentals -> significance testing\n",
    "<br>slide 7 done and 8(p-value) strated"
   ]
  },
  {
   "cell_type": "markdown",
   "id": "2992906d",
   "metadata": {
    "papermill": {
     "duration": 0.065452,
     "end_time": "2022-04-29T16:37:22.352889",
     "exception": false,
     "start_time": "2022-04-29T16:37:22.287437",
     "status": "completed"
    },
    "tags": []
   },
   "source": [
    "# Day 43\n",
    "<br>dataquest-> prob and stats -> hypothesis testing fundamentals -> significance testing\n",
    "<br>\n",
    "- The first step is to decide a test statistic, which is a numerical value that summarizes the data and one we can use in statistical formulas. The test statistic runs a statistical test that determines whether the difference between the groups was due to random chance.\n",
    "  - e.x: mean \n",
    "- The permutation test is a statistical test that involves rerunning the study many times and recalculating the test statistic for each iteration.\n",
    "   - The goal is to calculate a distribution of the test statistics over these many iterations. This distribution is called the sampling distribution and it approximates the full range of possible test statistics under the null hypothesis.\n",
    "- If the p value is less than the threshold, we:\n",
    "    - reject the null hypothesis that there's no difference in the mean amount of weight lost by participants in both groups; and\n",
    "    - conclude that there is some evidence that the weight loss pill does affect the amount of weight people lost.\n",
    "\n",
    "- If the p value is greater than the threshold, we:\n",
    "    - fail to reject the null hypothesis that there's no difference in the mean amount of weight lost by participants in both groups,\n",
    "    - conclude that the weight loss pill doesn't seem to be effective in helping people lose weight.\n",
    "- usually used p-value threshold is 0.05\n",
    "- The p value threshold you set can also affect the conclusion you reach.\n",
    "    - If you set too high of a p value threshold, you may reject the null hypothesis incorrectly. This is known as a type I error.\n",
    "    - If you set too low of a p value threshold, you may fail to reject the null hypothesis incorrectly. This is known as a type II error."
   ]
  },
  {
   "cell_type": "markdown",
   "id": "30ab7673",
   "metadata": {
    "papermill": {
     "duration": 0.065496,
     "end_time": "2022-04-29T16:37:22.483927",
     "exception": false,
     "start_time": "2022-04-29T16:37:22.418431",
     "status": "completed"
    },
    "tags": []
   },
   "source": [
    "# Day 44\n",
    "<br>dataquest-> prob and stats -> hypothesis testing fundamentals -> significance testing-> chi squared test\n",
    "<br>1- 4\n",
    "- chi squared test is used for numerical values"
   ]
  },
  {
   "cell_type": "markdown",
   "id": "f15640b5",
   "metadata": {
    "papermill": {
     "duration": 0.065156,
     "end_time": "2022-04-29T16:37:22.614289",
     "exception": false,
     "start_time": "2022-04-29T16:37:22.549133",
     "status": "completed"
    },
    "tags": []
   },
   "source": [
    "# Day 45 and 46\n",
    "<br>dataquest-> prob and stats -> hypothesis testing fundamentals -> significance testing-> chi squared test\n",
    "<br>4- 6"
   ]
  },
  {
   "cell_type": "markdown",
   "id": "fa66da13",
   "metadata": {
    "papermill": {
     "duration": 0.065301,
     "end_time": "2022-04-29T16:37:22.744981",
     "exception": false,
     "start_time": "2022-04-29T16:37:22.679680",
     "status": "completed"
    },
    "tags": []
   },
   "source": [
    "# Day 47\n",
    "<br>dataquest-> prob and stats -> hypothesis testing fundamentals -> significance testing-> chi squared test\n",
    "<br> slide 6 done"
   ]
  },
  {
   "cell_type": "markdown",
   "id": "3c8f7a58",
   "metadata": {
    "papermill": {
     "duration": 0.066815,
     "end_time": "2022-04-29T16:37:22.877870",
     "exception": false,
     "start_time": "2022-04-29T16:37:22.811055",
     "status": "completed"
    },
    "tags": []
   },
   "source": [
    "# Day 48\n",
    "<br> chi-squared values is that they get smaller as the sample size decreases.\n",
    "<br>**conclusion**\n",
    "- The chi-squared test enables us to quantify the difference between sets of observed and expected categorical values to determine statistical significance\n",
    "- chi squared = (observed - expected)**2 / expected\n",
    "- A p-value allows us to determine whether the difference between 2 values is due to chance, or due to an underlying difference.\n",
    "- Chi-squared values increase as sample size increases, but the chance of getting a high chi-squared value decreases as the sample gets larger.\n",
    "- A degree of freedom is the number of values that can vary without the other values being\"locked in\". \n",
    "- scipy https://docs.scipy.org/doc/scipy/reference/generated/scipy.stats.mstats.chisquare.html\n"
   ]
  },
  {
   "cell_type": "markdown",
   "id": "86eb5b2c",
   "metadata": {
    "papermill": {
     "duration": 0.064983,
     "end_time": "2022-04-29T16:37:23.008825",
     "exception": false,
     "start_time": "2022-04-29T16:37:22.943842",
     "status": "completed"
    },
    "tags": []
   },
   "source": [
    "# Day 49\n",
    "<br>dataquest-> prob and stats -> hypothesis testing fundamentals -> significance testing-> multi category chi squared test\n",
    "<br> slide 1 done\n",
    "- We can apply the multi category chi-squared test (also known as the chi-squared test of association) to figure out if there's a statistically significant correlation between two categorical columns.\n",
    "- "
   ]
  },
  {
   "cell_type": "code",
   "execution_count": null,
   "id": "87076c5f",
   "metadata": {
    "papermill": {
     "duration": 0.065918,
     "end_time": "2022-04-29T16:37:23.140159",
     "exception": false,
     "start_time": "2022-04-29T16:37:23.074241",
     "status": "completed"
    },
    "tags": []
   },
   "outputs": [],
   "source": []
  },
  {
   "cell_type": "code",
   "execution_count": 2,
   "id": "a3c88392",
   "metadata": {
    "execution": {
     "iopub.execute_input": "2022-04-29T16:37:23.277205Z",
     "iopub.status.busy": "2022-04-29T16:37:23.276485Z",
     "iopub.status.idle": "2022-04-29T16:37:23.278233Z",
     "shell.execute_reply": "2022-04-29T16:37:23.278729Z",
     "shell.execute_reply.started": "2022-04-12T14:17:49.333113Z"
    },
    "papermill": {
     "duration": 0.072457,
     "end_time": "2022-04-29T16:37:23.278915",
     "exception": false,
     "start_time": "2022-04-29T16:37:23.206458",
     "status": "completed"
    },
    "tags": []
   },
   "outputs": [],
   "source": [
    "# !pip install PyMuPDF"
   ]
  },
  {
   "cell_type": "code",
   "execution_count": 3,
   "id": "75178f40",
   "metadata": {
    "execution": {
     "iopub.execute_input": "2022-04-29T16:37:23.414759Z",
     "iopub.status.busy": "2022-04-29T16:37:23.414149Z",
     "iopub.status.idle": "2022-04-29T16:37:23.416611Z",
     "shell.execute_reply": "2022-04-29T16:37:23.417071Z",
     "shell.execute_reply.started": "2022-04-12T14:19:20.437905Z"
    },
    "papermill": {
     "duration": 0.071418,
     "end_time": "2022-04-29T16:37:23.417241",
     "exception": false,
     "start_time": "2022-04-29T16:37:23.345823",
     "status": "completed"
    },
    "tags": []
   },
   "outputs": [],
   "source": [
    " \n",
    "# fitz.__version__"
   ]
  },
  {
   "cell_type": "code",
   "execution_count": 4,
   "id": "aa6b2220",
   "metadata": {
    "execution": {
     "iopub.execute_input": "2022-04-29T16:37:23.554474Z",
     "iopub.status.busy": "2022-04-29T16:37:23.553831Z",
     "iopub.status.idle": "2022-04-29T16:37:23.555430Z",
     "shell.execute_reply": "2022-04-29T16:37:23.555879Z",
     "shell.execute_reply.started": "2022-04-12T14:23:59.687259Z"
    },
    "papermill": {
     "duration": 0.071336,
     "end_time": "2022-04-29T16:37:23.556053",
     "exception": false,
     "start_time": "2022-04-29T16:37:23.484717",
     "status": "completed"
    },
    "tags": []
   },
   "outputs": [],
   "source": [
    "# !python -m spacy download en_core_web_sm"
   ]
  },
  {
   "cell_type": "code",
   "execution_count": null,
   "id": "e7049f4f",
   "metadata": {
    "papermill": {
     "duration": 0.066638,
     "end_time": "2022-04-29T16:37:23.689414",
     "exception": false,
     "start_time": "2022-04-29T16:37:23.622776",
     "status": "completed"
    },
    "tags": []
   },
   "outputs": [],
   "source": []
  },
  {
   "cell_type": "code",
   "execution_count": 5,
   "id": "98c37749",
   "metadata": {
    "execution": {
     "iopub.execute_input": "2022-04-29T16:37:23.824833Z",
     "iopub.status.busy": "2022-04-29T16:37:23.824164Z",
     "iopub.status.idle": "2022-04-29T16:37:23.827007Z",
     "shell.execute_reply": "2022-04-29T16:37:23.827498Z",
     "shell.execute_reply.started": "2022-04-12T14:18:25.912243Z"
    },
    "papermill": {
     "duration": 0.072713,
     "end_time": "2022-04-29T16:37:23.827659",
     "exception": false,
     "start_time": "2022-04-29T16:37:23.754946",
     "status": "completed"
    },
    "tags": []
   },
   "outputs": [],
   "source": [
    "# import fitz\n",
    "# import spacy\n",
    "# import re\n",
    "# from pathlib import Path\n",
    "# import requests\n",
    "# import os"
   ]
  },
  {
   "cell_type": "code",
   "execution_count": 6,
   "id": "49231ff3",
   "metadata": {
    "execution": {
     "iopub.execute_input": "2022-04-29T16:37:23.964517Z",
     "iopub.status.busy": "2022-04-29T16:37:23.963832Z",
     "iopub.status.idle": "2022-04-29T16:37:23.967405Z",
     "shell.execute_reply": "2022-04-29T16:37:23.967863Z",
     "shell.execute_reply.started": "2022-04-12T15:03:43.5897Z"
    },
    "papermill": {
     "duration": 0.073114,
     "end_time": "2022-04-29T16:37:23.968051",
     "exception": false,
     "start_time": "2022-04-29T16:37:23.894937",
     "status": "completed"
    },
    "tags": []
   },
   "outputs": [],
   "source": [
    "# sql_db_json = [\n",
    "#   {\n",
    "#     \"document_id\": \"1\",\n",
    "#     \"area\": \"[72.1149,661.2966,131.95729,675.1716]\",\n",
    "#     \"page\": \"3\",\n",
    "#     \"text_\": \"Background\",\n",
    "#     \"type_of_selection\": \"Text\",\n",
    "#     \"entity_type\": \"name\",\n",
    "#     \"link\": \"https://redactable-devox-stage.s3.us-east-2.amazonaws.com/tenants/41d9e109-693b-444c-aa18-e5891bc6550b/original/1a7c0e5d-3237-4ca9-9e3d-89e707245ac6/D8communications.pdf\"\n",
    "#   },\n",
    "#   {\n",
    "#     \"document_id\": \"1\",\n",
    "#     \"area\": \"[290.55386,632.0173,322.14685,645.8923]\",\n",
    "#     \"page\": \"2\",\n",
    "#     \"text_\": \"INDEX\",\n",
    "#     \"type_of_selection\": \"Text\",\n",
    "#     \"entity_type\": \"address\",\n",
    "#     \"link\": \"https://redactable-devox-stage.s3.us-east-2.amazonaws.com/tenants/41d9e109-693b-444c-aa18-e5891bc6550b/original/1a7c0e5d-3237-4ca9-9e3d-89e707245ac6/D8communications.pdf\"\n",
    "#   }\n",
    "# ]"
   ]
  },
  {
   "cell_type": "code",
   "execution_count": 7,
   "id": "0b70c5f6",
   "metadata": {
    "execution": {
     "iopub.execute_input": "2022-04-29T16:37:24.103677Z",
     "iopub.status.busy": "2022-04-29T16:37:24.103053Z",
     "iopub.status.idle": "2022-04-29T16:37:24.105602Z",
     "shell.execute_reply": "2022-04-29T16:37:24.106084Z",
     "shell.execute_reply.started": "2022-04-12T13:17:19.452695Z"
    },
    "papermill": {
     "duration": 0.072172,
     "end_time": "2022-04-29T16:37:24.106258",
     "exception": false,
     "start_time": "2022-04-29T16:37:24.034086",
     "status": "completed"
    },
    "tags": []
   },
   "outputs": [],
   "source": [
    "# l=pd.DataFrame()\n",
    "# k=(1, '[290.55386,632.0173,322.14685,645.8923]', 2, 'INDEX', 'Text', 'address', 'https://redactable-devox-s')\n",
    "# k\n"
   ]
  },
  {
   "cell_type": "code",
   "execution_count": 8,
   "id": "7834a744",
   "metadata": {
    "execution": {
     "iopub.execute_input": "2022-04-29T16:37:24.245259Z",
     "iopub.status.busy": "2022-04-29T16:37:24.244573Z",
     "iopub.status.idle": "2022-04-29T16:37:24.247634Z",
     "shell.execute_reply": "2022-04-29T16:37:24.248161Z",
     "shell.execute_reply.started": "2022-04-12T16:09:33.708631Z"
    },
    "papermill": {
     "duration": 0.075345,
     "end_time": "2022-04-29T16:37:24.248344",
     "exception": false,
     "start_time": "2022-04-29T16:37:24.172999",
     "status": "completed"
    },
    "tags": []
   },
   "outputs": [],
   "source": [
    "# co=[\"document_id\",\"area\",\"page\",\"text_\",\"type_of_selection\",\"entity_type\",\"link\"]\n",
    "# val= [(1,'[72.1149,661.2966,131.95729,675.1716]',3,'Background','Text','name' ,'https://redactable-devox-stage.s3.us-east-2.am'), (1,  '[290.55386,632.0173,322.14685,645.8923]',2,'INDEX', 'Text','address','https://redactable-devox-stage.s3.us-east-2.am')]\n",
    "\n",
    "# df=pd.DataFrame(val,columns=[co])\n",
    "# #df.iloc[1] =[1,  '[290.55386,632.0173,322.14685,645.8923]',2,'INDEX', 'Text','address','https://redactable-devox-stage.s3.us-east-2.am']\n",
    "# df"
   ]
  },
  {
   "cell_type": "code",
   "execution_count": 9,
   "id": "76ea8995",
   "metadata": {
    "execution": {
     "iopub.execute_input": "2022-04-29T16:37:24.382706Z",
     "iopub.status.busy": "2022-04-29T16:37:24.382046Z",
     "iopub.status.idle": "2022-04-29T16:37:24.384725Z",
     "shell.execute_reply": "2022-04-29T16:37:24.385223Z",
     "shell.execute_reply.started": "2022-04-12T16:18:22.595374Z"
    },
    "papermill": {
     "duration": 0.071568,
     "end_time": "2022-04-29T16:37:24.385384",
     "exception": false,
     "start_time": "2022-04-29T16:37:24.313816",
     "status": "completed"
    },
    "tags": []
   },
   "outputs": [],
   "source": [
    "# prev=[]\n",
    "# for data,row in df.iterrows():\n",
    "#     if row['document_id'] not in prev:\n",
    "#         prev.append(row['document_id'])\n",
    "#         print('hey')"
   ]
  },
  {
   "cell_type": "code",
   "execution_count": 10,
   "id": "a2e5dea1",
   "metadata": {
    "execution": {
     "iopub.execute_input": "2022-04-29T16:37:24.519757Z",
     "iopub.status.busy": "2022-04-29T16:37:24.519108Z",
     "iopub.status.idle": "2022-04-29T16:37:24.523881Z",
     "shell.execute_reply": "2022-04-29T16:37:24.524409Z",
     "shell.execute_reply.started": "2022-04-12T15:03:48.248836Z"
    },
    "papermill": {
     "duration": 0.073514,
     "end_time": "2022-04-29T16:37:24.524576",
     "exception": false,
     "start_time": "2022-04-29T16:37:24.451062",
     "status": "completed"
    },
    "tags": []
   },
   "outputs": [],
   "source": [
    "# nlp = spacy.load('en_core_web_sm')\n",
    "# train_data = []\n",
    "\n",
    "# prev_doc_id = ''\n",
    "# i=0\n",
    "# temp='/kaggle/working'\n",
    "\n",
    "# for data in sql_db_json:\n",
    "#     if data['type_of_selection'] == 'Text':\n",
    "#         document_id = data['document_id']\n",
    "#         x1,y1,x2,y2 = data['area'][1:-1].split(',')\n",
    "#         url = data['link']\n",
    "#         page_no = int(data['page']) - 1 \n",
    "#         label = data['entity_type']\n",
    "#         filename = url.split('/')[-1]\n",
    "    \n",
    "#         #download the file to temp folder\n",
    "#         outpath = os.path.join(temp,filename)\n",
    "\n",
    "#         if document_id == prev_doc_id:\n",
    "#             pass\n",
    "#         else: \n",
    "#             i+=1\n",
    "#             print(i)\n",
    "#             response = requests.get(url)\n",
    "#             with open(outpath, \"wb\") as binary_file:\n",
    "#                 binary_file.write(response.content)\n",
    "\n",
    "#         doc = fitz.open(outpath)  # any supported document type\n",
    "#         page = doc[page_no]  # we want text from this page\n",
    "#         print('page dimension - ', page.rect.width, page.rect.height)\n",
    "\n",
    "#         #The co-ordinates in the DB are image co-ords. W.r.t pdf, y1 and y2 has to be interchanged.\n",
    "#         #To ensure entire word to be selected, slight correction in x1,y1,x2,y2 is done.\n",
    "\n",
    "#         rect = [float(x1)-2, 792 - float(y2)-2, float(x2)+2, 792 - float(y1)+2]\n",
    "#         print(rect)\n",
    "#         labelled_text = page.get_textbox(rect)\n",
    "\n",
    "#         #Removing all unprintable characters from the text\n",
    "#         string = re.sub('[^0-9a-zA-Z@?|\\/<>.,()&^%$#!]+', ' ', labelled_text)\n",
    "#         print('string : ', string)\n",
    "\n",
    "#         fulltext = page.get_text()\n",
    "#         doc = nlp(fulltext)\n",
    "\n",
    "#         sentences = []\n",
    "#         for sent in doc.sents:\n",
    "#             if string.strip() in sent.text:\n",
    "#                 text = re.sub('[^0-9a-zA-Z@?|\\/<>.,()&^%$#!]+', ' ', sent.text)\n",
    "\n",
    "#         res = re.search(string.strip(), text)\n",
    "\n",
    "#         entities = []\n",
    "#         entities.append((res.start(),res.end(),label))\n",
    "\n",
    "#         train_data.append((text,{'entities':entities}))\n",
    "\n",
    "# print('Training data in spacy format')\n",
    "# print('*****************************')\n",
    "# for i in range(0,len(train_data)):\n",
    "#     print(train_data[i])"
   ]
  },
  {
   "cell_type": "code",
   "execution_count": null,
   "id": "7451eaa1",
   "metadata": {
    "papermill": {
     "duration": 0.065195,
     "end_time": "2022-04-29T16:37:24.655566",
     "exception": false,
     "start_time": "2022-04-29T16:37:24.590371",
     "status": "completed"
    },
    "tags": []
   },
   "outputs": [],
   "source": []
  },
  {
   "cell_type": "code",
   "execution_count": 11,
   "id": "c427c4a2",
   "metadata": {
    "execution": {
     "iopub.execute_input": "2022-04-29T16:37:24.791938Z",
     "iopub.status.busy": "2022-04-29T16:37:24.791215Z",
     "iopub.status.idle": "2022-04-29T16:37:24.795542Z",
     "shell.execute_reply": "2022-04-29T16:37:24.796075Z",
     "shell.execute_reply.started": "2022-04-12T11:44:59.253637Z"
    },
    "papermill": {
     "duration": 0.074022,
     "end_time": "2022-04-29T16:37:24.796244",
     "exception": false,
     "start_time": "2022-04-29T16:37:24.722222",
     "status": "completed"
    },
    "tags": []
   },
   "outputs": [],
   "source": [
    "# nlp = spacy.load('en_core_web_sm')\n",
    "# train_data = []\n",
    "\n",
    "# prev_doc_id = ''\n",
    "# temp='/kaggle/working'\n",
    "# i=0\n",
    "# for data in sql_db_json:\n",
    "#     if data['type_of_selection'] == 'Text':\n",
    "#         document_id = data['document_id']\n",
    "#         x1,y1,x2,y2 = data['area'][1:-1].split(',')\n",
    "#         url = data['link']\n",
    "#         page_no = int(data['page']) - 1 \n",
    "#         label = data['entity_type']\n",
    "#         filename = url.split('/')[-1]\n",
    "    \n",
    "#         #download the file to temp folder\n",
    "#         i+=1\n",
    "#         print(i)\n",
    "#         response = requests.get(url)\n",
    "#         doc = fitz.open(stream=response.content,filetype=\"pdf\")  # any supported document type\n",
    "#         page = doc[page_no]  # we want text from this page\n",
    "#         print('page dimension - ', page.rect.width, page.rect.height)\n",
    "\n",
    "#         #The co-ordinates in the DB are image co-ords. W.r.t pdf, y1 and y2 has to be interchanged.\n",
    "#         #To ensure entire word to be selected, slight correction in x1,y1,x2,y2 is done.\n",
    "\n",
    "#         rect = [float(x1)-2, 792 - float(y2)-2, float(x2)+2, 792 - float(y1)+2]\n",
    "#         print(rect)\n",
    "#         labelled_text = page.get_textbox(rect)\n",
    "\n",
    "#         #Removing all unprintable characters from the text\n",
    "#         string = re.sub('[^0-9a-zA-Z@?|\\/<>.,()&^%$#!]+', ' ', labelled_text)\n",
    "#         print('string : ', string)\n",
    "\n",
    "#         fulltext = page.get_text()\n",
    "#         doc = nlp(fulltext)\n",
    "\n",
    "#         sentences = []\n",
    "#         for sent in doc.sents:\n",
    "#             if string.strip() in sent.text:\n",
    "#                 text = re.sub('[^0-9a-zA-Z@?|\\/<>.,()&^%$#!]+', ' ', sent.text)\n",
    "\n",
    "#         res = re.search(string.strip(), text)\n",
    "\n",
    "#         entities = []\n",
    "#         entities.append((res.start(),res.end(),label))\n",
    "\n",
    "#         train_data.append((text,{'entities':entities}))\n",
    "\n",
    "# print('Training data in spacy format')\n",
    "# print('*****************************')\n",
    "# for i in range(0,len(train_data)):\n",
    "#     print(train_data[i])"
   ]
  },
  {
   "cell_type": "code",
   "execution_count": 12,
   "id": "5860a461",
   "metadata": {
    "execution": {
     "iopub.execute_input": "2022-04-29T16:37:24.935780Z",
     "iopub.status.busy": "2022-04-29T16:37:24.935114Z",
     "iopub.status.idle": "2022-04-29T16:37:24.938031Z",
     "shell.execute_reply": "2022-04-29T16:37:24.938476Z"
    },
    "papermill": {
     "duration": 0.075415,
     "end_time": "2022-04-29T16:37:24.938666",
     "exception": false,
     "start_time": "2022-04-29T16:37:24.863251",
     "status": "completed"
    },
    "tags": []
   },
   "outputs": [],
   "source": [
    "# page dimension -  612.0 792.0\n",
    "# [70.1149, 114.82839999999999, 133.95729, 132.7034]\n",
    "# string :  Background\n",
    "# page dimension -  612.0 792.0\n",
    "# [288.55386, 144.10770000000002, 324.14685, 161.98270000000002]\n",
    "# string :  INDEX\n",
    "# Training data in spacy format\n",
    "# *****************************\n",
    "# (' 3 Background The Blue Ribbon Committee was created by the Mayor to assess various city communication methods and recommend opportunities to improve communications with residents, businesses and other organizations.', {'entities': [(3, 13, 'name')]})\n",
    "# (' 2 INDEX Background Pg. 3 Purpose Pg. 3 Process .', {'entities': [(3, 8, 'address')]})"
   ]
  },
  {
   "cell_type": "code",
   "execution_count": 13,
   "id": "0f5be177",
   "metadata": {
    "execution": {
     "iopub.execute_input": "2022-04-29T16:37:25.076643Z",
     "iopub.status.busy": "2022-04-29T16:37:25.075936Z",
     "iopub.status.idle": "2022-04-29T16:37:25.077409Z",
     "shell.execute_reply": "2022-04-29T16:37:25.077927Z",
     "shell.execute_reply.started": "2022-04-11T16:35:29.609712Z"
    },
    "papermill": {
     "duration": 0.073289,
     "end_time": "2022-04-29T16:37:25.078099",
     "exception": false,
     "start_time": "2022-04-29T16:37:25.004810",
     "status": "completed"
    },
    "tags": []
   },
   "outputs": [],
   "source": [
    "# nlp = spacy.load('en_core_web_sm')\n",
    "# outpath=r'/kaggle/input/sample-pdf/D8communications.pdf'\n",
    "# doc = fitz.open(outpath)  # any supported document type\n",
    "# page_no=3\n",
    "# page = doc[page_no-1]\n",
    "\n",
    "# x1,y1,x2,y2=(72.1149,661.2966,131.95729,675.1716)\n",
    "\n",
    "# rect = [float(x1)-2, 792 - float(y2)-2, float(x2)+2, 792 - float(y1)+2]\n",
    "# print(rect)\n",
    "# labelled_text = page.get_textbox(rect)\n",
    "# string = re.sub('[^0-9a-zA-Z@?|\\/<>.,()&^%$#!]+', ' ', labelled_text)\n",
    "# print('string : ', string)\n",
    "\n",
    "# fulltext = page.get_text()\n",
    "# doc = nlp(fulltext)\n",
    "\n",
    "# sentences = []\n",
    "# for sent in doc.sents:\n",
    "#             if string.strip() in sent.text:\n",
    "#                 text = re.sub('[^0-9a-zA-Z@?|\\/<>.,()&^%$#!]+', ' ', sent.text)\n",
    "\n",
    "#         res = re.search(string.strip(), text)\n",
    "\n",
    "#         entities = []\n",
    "#         entities.append((res.start(),res.end(),label))\n",
    "\n",
    "#         train_data.append((text,{'entities':entities}))\n",
    "\n"
   ]
  },
  {
   "cell_type": "code",
   "execution_count": 14,
   "id": "f1bb2f23",
   "metadata": {
    "execution": {
     "iopub.execute_input": "2022-04-29T16:37:25.215650Z",
     "iopub.status.busy": "2022-04-29T16:37:25.215009Z",
     "iopub.status.idle": "2022-04-29T16:37:25.217466Z",
     "shell.execute_reply": "2022-04-29T16:37:25.217935Z",
     "shell.execute_reply.started": "2022-04-11T16:35:41.679947Z"
    },
    "papermill": {
     "duration": 0.071445,
     "end_time": "2022-04-29T16:37:25.218108",
     "exception": false,
     "start_time": "2022-04-29T16:37:25.146663",
     "status": "completed"
    },
    "tags": []
   },
   "outputs": [],
   "source": [
    "#doc"
   ]
  },
  {
   "cell_type": "code",
   "execution_count": 15,
   "id": "d610f91d",
   "metadata": {
    "execution": {
     "iopub.execute_input": "2022-04-29T16:37:25.354418Z",
     "iopub.status.busy": "2022-04-29T16:37:25.353731Z",
     "iopub.status.idle": "2022-04-29T16:37:25.356422Z",
     "shell.execute_reply": "2022-04-29T16:37:25.356920Z",
     "shell.execute_reply.started": "2022-04-11T16:35:56.010353Z"
    },
    "papermill": {
     "duration": 0.071882,
     "end_time": "2022-04-29T16:37:25.357095",
     "exception": false,
     "start_time": "2022-04-29T16:37:25.285213",
     "status": "completed"
    },
    "tags": []
   },
   "outputs": [],
   "source": [
    "# sentences = []\n",
    "# for sent in doc.sents:\n",
    "#     if string.strip() in sent.text:\n",
    "#         text = re.sub('[^0-9a-zA-Z@?|\\/<>.,()&^%$#!]+', ' ', sent.text)"
   ]
  },
  {
   "cell_type": "code",
   "execution_count": 16,
   "id": "8796eb66",
   "metadata": {
    "execution": {
     "iopub.execute_input": "2022-04-29T16:37:25.494164Z",
     "iopub.status.busy": "2022-04-29T16:37:25.493488Z",
     "iopub.status.idle": "2022-04-29T16:37:25.496300Z",
     "shell.execute_reply": "2022-04-29T16:37:25.496764Z",
     "shell.execute_reply.started": "2022-04-11T16:39:04.736143Z"
    },
    "papermill": {
     "duration": 0.073555,
     "end_time": "2022-04-29T16:37:25.496953",
     "exception": false,
     "start_time": "2022-04-29T16:37:25.423398",
     "status": "completed"
    },
    "tags": []
   },
   "outputs": [],
   "source": [
    "# k=nlp(\"he             kenny\")\n",
    "# for sent in k.sents:\n",
    "#     print(sent)"
   ]
  },
  {
   "cell_type": "code",
   "execution_count": 17,
   "id": "8716e353",
   "metadata": {
    "execution": {
     "iopub.execute_input": "2022-04-29T16:37:25.631570Z",
     "iopub.status.busy": "2022-04-29T16:37:25.630819Z",
     "iopub.status.idle": "2022-04-29T16:37:25.633374Z",
     "shell.execute_reply": "2022-04-29T16:37:25.633921Z",
     "shell.execute_reply.started": "2022-04-11T15:09:24.391421Z"
    },
    "papermill": {
     "duration": 0.071478,
     "end_time": "2022-04-29T16:37:25.634092",
     "exception": false,
     "start_time": "2022-04-29T16:37:25.562614",
     "status": "completed"
    },
    "tags": []
   },
   "outputs": [],
   "source": [
    "# text"
   ]
  },
  {
   "cell_type": "code",
   "execution_count": 18,
   "id": "ae8a0498",
   "metadata": {
    "execution": {
     "iopub.execute_input": "2022-04-29T16:37:25.771519Z",
     "iopub.status.busy": "2022-04-29T16:37:25.770856Z",
     "iopub.status.idle": "2022-04-29T16:37:25.773395Z",
     "shell.execute_reply": "2022-04-29T16:37:25.773893Z",
     "shell.execute_reply.started": "2022-04-11T15:09:31.9599Z"
    },
    "papermill": {
     "duration": 0.071707,
     "end_time": "2022-04-29T16:37:25.774054",
     "exception": false,
     "start_time": "2022-04-29T16:37:25.702347",
     "status": "completed"
    },
    "tags": []
   },
   "outputs": [],
   "source": [
    "# res = re.search(string.strip(), text)\n",
    "# res"
   ]
  },
  {
   "cell_type": "code",
   "execution_count": 19,
   "id": "caa55825",
   "metadata": {
    "execution": {
     "iopub.execute_input": "2022-04-29T16:37:25.911435Z",
     "iopub.status.busy": "2022-04-29T16:37:25.910754Z",
     "iopub.status.idle": "2022-04-29T16:37:25.913328Z",
     "shell.execute_reply": "2022-04-29T16:37:25.913859Z",
     "shell.execute_reply.started": "2022-04-11T15:12:41.311242Z"
    },
    "papermill": {
     "duration": 0.073006,
     "end_time": "2022-04-29T16:37:25.914030",
     "exception": false,
     "start_time": "2022-04-29T16:37:25.841024",
     "status": "completed"
    },
    "tags": []
   },
   "outputs": [],
   "source": [
    "# entities = []\n",
    "# entities.append((res.start(),res.end(),'p'))"
   ]
  },
  {
   "cell_type": "code",
   "execution_count": 20,
   "id": "12b23102",
   "metadata": {
    "execution": {
     "iopub.execute_input": "2022-04-29T16:37:26.050409Z",
     "iopub.status.busy": "2022-04-29T16:37:26.049709Z",
     "iopub.status.idle": "2022-04-29T16:37:26.052551Z",
     "shell.execute_reply": "2022-04-29T16:37:26.053065Z",
     "shell.execute_reply.started": "2022-04-11T15:12:52.736619Z"
    },
    "papermill": {
     "duration": 0.072361,
     "end_time": "2022-04-29T16:37:26.053233",
     "exception": false,
     "start_time": "2022-04-29T16:37:25.980872",
     "status": "completed"
    },
    "tags": []
   },
   "outputs": [],
   "source": [
    "# entities"
   ]
  },
  {
   "cell_type": "code",
   "execution_count": 21,
   "id": "d1ec1c9d",
   "metadata": {
    "execution": {
     "iopub.execute_input": "2022-04-29T16:37:26.191110Z",
     "iopub.status.busy": "2022-04-29T16:37:26.190153Z",
     "iopub.status.idle": "2022-04-29T16:37:26.193439Z",
     "shell.execute_reply": "2022-04-29T16:37:26.194062Z",
     "shell.execute_reply.started": "2022-04-11T15:06:11.546217Z"
    },
    "papermill": {
     "duration": 0.074099,
     "end_time": "2022-04-29T16:37:26.194234",
     "exception": false,
     "start_time": "2022-04-29T16:37:26.120135",
     "status": "completed"
    },
    "tags": []
   },
   "outputs": [],
   "source": [
    "# text"
   ]
  },
  {
   "cell_type": "code",
   "execution_count": null,
   "id": "00006999",
   "metadata": {
    "execution": {
     "iopub.execute_input": "2022-04-11T15:02:33.300092Z",
     "iopub.status.busy": "2022-04-11T15:02:33.299778Z",
     "iopub.status.idle": "2022-04-11T15:02:33.30711Z",
     "shell.execute_reply": "2022-04-11T15:02:33.306345Z",
     "shell.execute_reply.started": "2022-04-11T15:02:33.300061Z"
    },
    "papermill": {
     "duration": 0.065525,
     "end_time": "2022-04-29T16:37:26.326271",
     "exception": false,
     "start_time": "2022-04-29T16:37:26.260746",
     "status": "completed"
    },
    "tags": []
   },
   "outputs": [],
   "source": []
  },
  {
   "cell_type": "code",
   "execution_count": 22,
   "id": "6d4d0875",
   "metadata": {
    "execution": {
     "iopub.execute_input": "2022-04-29T16:37:26.461370Z",
     "iopub.status.busy": "2022-04-29T16:37:26.460418Z",
     "iopub.status.idle": "2022-04-29T16:37:26.463443Z",
     "shell.execute_reply": "2022-04-29T16:37:26.464043Z",
     "shell.execute_reply.started": "2022-04-11T16:21:02.863037Z"
    },
    "papermill": {
     "duration": 0.072225,
     "end_time": "2022-04-29T16:37:26.464205",
     "exception": false,
     "start_time": "2022-04-29T16:37:26.391980",
     "status": "completed"
    },
    "tags": []
   },
   "outputs": [],
   "source": [
    "# import spacy\n",
    "# nlp = spacy.load('en_core_web_sm')"
   ]
  },
  {
   "cell_type": "code",
   "execution_count": 23,
   "id": "8421b21a",
   "metadata": {
    "execution": {
     "iopub.execute_input": "2022-04-29T16:37:26.599148Z",
     "iopub.status.busy": "2022-04-29T16:37:26.598094Z",
     "iopub.status.idle": "2022-04-29T16:37:26.601597Z",
     "shell.execute_reply": "2022-04-29T16:37:26.602227Z",
     "shell.execute_reply.started": "2022-04-09T12:19:47.776612Z"
    },
    "papermill": {
     "duration": 0.072639,
     "end_time": "2022-04-29T16:37:26.602410",
     "exception": false,
     "start_time": "2022-04-29T16:37:26.529771",
     "status": "completed"
    },
    "tags": []
   },
   "outputs": [],
   "source": [
    "# !pip install PyPDF2\n",
    "# import PyPDF2\n",
    "# fhandle = open(r'/kaggle/input/sample-pdf/D8communications.pdf', 'rb')\n",
    "# pdfReader = PyPDF2.PdfFileReader(fhandle)\n",
    "# pagehandle = pdfReader.getPage(4)\n",
    "# print(pagehandle.extractText())"
   ]
  },
  {
   "cell_type": "code",
   "execution_count": 24,
   "id": "5da5051c",
   "metadata": {
    "execution": {
     "iopub.execute_input": "2022-04-29T16:37:26.739350Z",
     "iopub.status.busy": "2022-04-29T16:37:26.738289Z",
     "iopub.status.idle": "2022-04-29T16:37:26.741541Z",
     "shell.execute_reply": "2022-04-29T16:37:26.742127Z",
     "shell.execute_reply.started": "2022-04-09T12:25:37.701467Z"
    },
    "papermill": {
     "duration": 0.072788,
     "end_time": "2022-04-29T16:37:26.742291",
     "exception": false,
     "start_time": "2022-04-29T16:37:26.669503",
     "status": "completed"
    },
    "tags": []
   },
   "outputs": [],
   "source": [
    "# !pip install pdfplumber\n",
    "# import pdfplumber\n",
    "# with pdfplumber.open(r'/kaggle/input/sample-pdf/D8communications.pdf') as pdf:\n",
    "#     first_page = pdf.pages[3]\n",
    "#     print(first_page.extract_text())"
   ]
  },
  {
   "cell_type": "code",
   "execution_count": 25,
   "id": "37fdd76f",
   "metadata": {
    "execution": {
     "iopub.execute_input": "2022-04-29T16:37:26.878972Z",
     "iopub.status.busy": "2022-04-29T16:37:26.877969Z",
     "iopub.status.idle": "2022-04-29T16:37:26.882011Z",
     "shell.execute_reply": "2022-04-29T16:37:26.882493Z",
     "shell.execute_reply.started": "2022-04-09T12:25:49.584635Z"
    },
    "papermill": {
     "duration": 0.073329,
     "end_time": "2022-04-29T16:37:26.882671",
     "exception": false,
     "start_time": "2022-04-29T16:37:26.809342",
     "status": "completed"
    },
    "tags": []
   },
   "outputs": [],
   "source": [
    "# !pip install pytesseract"
   ]
  },
  {
   "cell_type": "code",
   "execution_count": 26,
   "id": "a640e37b",
   "metadata": {
    "execution": {
     "iopub.execute_input": "2022-04-29T16:37:27.022041Z",
     "iopub.status.busy": "2022-04-29T16:37:27.021001Z",
     "iopub.status.idle": "2022-04-29T16:37:27.022891Z",
     "shell.execute_reply": "2022-04-29T16:37:27.023368Z",
     "shell.execute_reply.started": "2022-04-09T14:49:10.656812Z"
    },
    "papermill": {
     "duration": 0.072707,
     "end_time": "2022-04-29T16:37:27.023534",
     "exception": false,
     "start_time": "2022-04-29T16:37:26.950827",
     "status": "completed"
    },
    "tags": []
   },
   "outputs": [],
   "source": [
    "# #!pip install pdf2image\n",
    "# !pip install poppler"
   ]
  },
  {
   "cell_type": "code",
   "execution_count": 27,
   "id": "0bc3c0b5",
   "metadata": {
    "execution": {
     "iopub.execute_input": "2022-04-29T16:37:27.162983Z",
     "iopub.status.busy": "2022-04-29T16:37:27.162010Z",
     "iopub.status.idle": "2022-04-29T16:37:27.165256Z",
     "shell.execute_reply": "2022-04-29T16:37:27.165696Z",
     "shell.execute_reply.started": "2022-04-09T14:57:24.756677Z"
    },
    "papermill": {
     "duration": 0.073801,
     "end_time": "2022-04-29T16:37:27.165890",
     "exception": false,
     "start_time": "2022-04-29T16:37:27.092089",
     "status": "completed"
    },
    "tags": []
   },
   "outputs": [],
   "source": [
    "# pdf2image.convert_from_path('/kaggle/input/sample-pdf/D8communications.pdf')"
   ]
  },
  {
   "cell_type": "code",
   "execution_count": 28,
   "id": "8802665d",
   "metadata": {
    "execution": {
     "iopub.execute_input": "2022-04-29T16:37:27.328821Z",
     "iopub.status.busy": "2022-04-29T16:37:27.328018Z",
     "iopub.status.idle": "2022-04-29T16:37:27.330736Z",
     "shell.execute_reply": "2022-04-29T16:37:27.330257Z",
     "shell.execute_reply.started": "2022-04-09T14:57:17.576149Z"
    },
    "papermill": {
     "duration": 0.084573,
     "end_time": "2022-04-29T16:37:27.330898",
     "exception": false,
     "start_time": "2022-04-29T16:37:27.246325",
     "status": "completed"
    },
    "tags": []
   },
   "outputs": [],
   "source": [
    "# import pdf2image\n",
    "# try:\n",
    "#     from PIL import Image\n",
    "# except ImportError:\n",
    "#     import Image\n",
    "# import pytesseract\n",
    "\n",
    "\n",
    "# def pdf_to_img(pdf_file):\n",
    "#     return pdf2image.convert_from_path(pdf_file)\n",
    "\n",
    "\n",
    "# def ocr_core(file):\n",
    "#     text = pytesseract.image_to_string(file)\n",
    "#     return text\n",
    "\n",
    "\n",
    "# def print_pages(pdf_file):\n",
    "#     images = pdf_to_img(pdf_file)\n",
    "#     for pg, img in enumerate(images):\n",
    "#         print(ocr_core(img))\n",
    "\n",
    "\n",
    "# print_pages('/kaggle/input/sample-pdf/D8communications.pdf')\n"
   ]
  },
  {
   "cell_type": "code",
   "execution_count": 29,
   "id": "18d7dc2f",
   "metadata": {
    "execution": {
     "iopub.execute_input": "2022-04-29T16:37:27.467458Z",
     "iopub.status.busy": "2022-04-29T16:37:27.466589Z",
     "iopub.status.idle": "2022-04-29T16:37:27.469353Z",
     "shell.execute_reply": "2022-04-29T16:37:27.468765Z"
    },
    "papermill": {
     "duration": 0.072738,
     "end_time": "2022-04-29T16:37:27.469498",
     "exception": false,
     "start_time": "2022-04-29T16:37:27.396760",
     "status": "completed"
    },
    "tags": []
   },
   "outputs": [],
   "source": [
    "# import requests\n",
    "# import fitz\n",
    "# import io\n",
    "\n",
    "# #URL = 'https://buildmedia.readthedocs.org/media/pdf/pdfminer-docs/latest/pdfminer-docs.pdf'\n",
    "# URL = 'https://redactable-devox-stage.s3.us-east-2.amazonaws.com/tenants/41d9e109-693b-444c-aa18-e5891bc6550b/original/1a7c0e5d-3237-4ca9-9e3d-89e707245ac6/D8communications.pdf'\n",
    "\n",
    "\n",
    "# res = requests.get(URL)\n",
    "# filestream = io.BytesIO(res.content)\n",
    "# #res.content\n",
    "# filestream\n",
    "# doc = fitz.Document(stream=filestream)\n",
    "# page1 = doc.loadPage(3)\n",
    "# page1text = page1.getText(\"text\").encode(\"utf-8\").decode(\"utf-8\")\n",
    "# print(page1text)"
   ]
  },
  {
   "cell_type": "code",
   "execution_count": 30,
   "id": "fd697453",
   "metadata": {
    "execution": {
     "iopub.execute_input": "2022-04-29T16:37:27.608013Z",
     "iopub.status.busy": "2022-04-29T16:37:27.606925Z",
     "iopub.status.idle": "2022-04-29T16:37:27.609135Z",
     "shell.execute_reply": "2022-04-29T16:37:27.609667Z",
     "shell.execute_reply.started": "2022-04-09T07:04:56.590103Z"
    },
    "papermill": {
     "duration": 0.073951,
     "end_time": "2022-04-29T16:37:27.609874",
     "exception": false,
     "start_time": "2022-04-29T16:37:27.535923",
     "status": "completed"
    },
    "tags": []
   },
   "outputs": [],
   "source": [
    "# import requests\n",
    "# import fitz\n",
    "\n",
    "# #URL = 'https://buildmedia.readthedocs.org/media/pdf/pdfminer-docs/latest/pdfminer-docs.pdf'\n",
    "# URL = 'https://redactable-devox-stage.s3.us-east-2.amazonaws.com/tenants/41d9e109-693b-444c-aa18-e5891bc6550b/original/1a7c0e5d-3237-4ca9-9e3d-89e707245ac6/D8communications.pdf'\n",
    "\n",
    "\n",
    "# res = requests.get(URL)\n",
    "# doc = fitz.open(stream=res.content,filetype=\"pdf\")\n",
    "# page1 = doc.loadPage(3)\n",
    "# page1text = page1.getText(\"text\")\n",
    "# #rect = (72.1149,661.2966,131.95729,675.1716)\n",
    "# rect=(72.10812377929688, 116.13427734375, 133.97142028808594, 146.4227294921875)\n",
    "# labelled_text = page1.get_textbox(rect)\n",
    "# print(labelled_text.strip())\n",
    "\n",
    "# fulltext = page1.get_text()\n",
    "# print(fulltext)\n",
    "# doc = nlp(fulltext)\n",
    "# sentences = []\n",
    "# for sent in doc.sents:\n",
    "#     if labelled_text in sent.text:\n",
    "#         text = sent.text\n",
    "#         print(text)\n",
    "# #print(page1text)"
   ]
  },
  {
   "cell_type": "code",
   "execution_count": 31,
   "id": "b4b3c70d",
   "metadata": {
    "execution": {
     "iopub.execute_input": "2022-04-29T16:37:27.746324Z",
     "iopub.status.busy": "2022-04-29T16:37:27.745267Z",
     "iopub.status.idle": "2022-04-29T16:37:27.748714Z",
     "shell.execute_reply": "2022-04-29T16:37:27.749279Z",
     "shell.execute_reply.started": "2022-04-08T16:42:57.6659Z"
    },
    "papermill": {
     "duration": 0.073389,
     "end_time": "2022-04-29T16:37:27.749461",
     "exception": false,
     "start_time": "2022-04-29T16:37:27.676072",
     "status": "completed"
    },
    "tags": []
   },
   "outputs": [],
   "source": [
    "#res.content"
   ]
  },
  {
   "cell_type": "code",
   "execution_count": 32,
   "id": "56fe3a54",
   "metadata": {
    "execution": {
     "iopub.execute_input": "2022-04-29T16:37:27.886647Z",
     "iopub.status.busy": "2022-04-29T16:37:27.885640Z",
     "iopub.status.idle": "2022-04-29T16:37:27.889627Z",
     "shell.execute_reply": "2022-04-29T16:37:27.890107Z",
     "shell.execute_reply.started": "2022-04-08T16:48:05.672392Z"
    },
    "papermill": {
     "duration": 0.074027,
     "end_time": "2022-04-29T16:37:27.890288",
     "exception": false,
     "start_time": "2022-04-29T16:37:27.816261",
     "status": "completed"
    },
    "tags": []
   },
   "outputs": [],
   "source": [
    "# import fitz\n",
    "# # mem_area=\n",
    "# # doc = fitz.open(stream=mem_area, filetype=\"pdf\")\n",
    "\n",
    "# import requests\n",
    "\n",
    "# URL = 'https://redactable-devox-stage.s3.us-east-2.amazonaws.com/tenants/41d9e109-693b-444c-aa18-e5891bc6550b/original/1a7c0e5d-3237-4ca9-9e3d-89e707245ac6/D8communications.pdf'\n",
    "\n",
    "# #res = requests.get(URL)\n",
    "# doc=fitz.open(\"/kaggle/input/sample-pdf/D8communications.pdf\")\n",
    "# #doc = fitz.open(stream=res.content,filetype=\"pdf\")\n",
    "# page1 = doc.loadPage(4)\n",
    "# # page1text = page1.getText(\"text\")\n",
    "# # print(page1text)\n",
    "# blocks = page1.getText(\"blocks\")\n",
    "# blocks.sort(key=lambda block: block[1])  # sort vertically ascending\n",
    "\n",
    "# for b in blocks:\n",
    "#     print(b[4])\n"
   ]
  },
  {
   "cell_type": "code",
   "execution_count": 33,
   "id": "31953c9f",
   "metadata": {
    "execution": {
     "iopub.execute_input": "2022-04-29T16:37:28.030407Z",
     "iopub.status.busy": "2022-04-29T16:37:28.029425Z",
     "iopub.status.idle": "2022-04-29T16:37:28.032631Z",
     "shell.execute_reply": "2022-04-29T16:37:28.033107Z",
     "shell.execute_reply.started": "2022-04-08T16:48:13.086323Z"
    },
    "papermill": {
     "duration": 0.074281,
     "end_time": "2022-04-29T16:37:28.033276",
     "exception": false,
     "start_time": "2022-04-29T16:37:27.958995",
     "status": "completed"
    },
    "tags": []
   },
   "outputs": [],
   "source": [
    "# # page = doc[1]\n",
    "# words = page.get_text(\"words\")\n",
    "# #print(words)\n",
    "# rect = (72.1149,661.2966,131.95729,675.1716)\n",
    "\n",
    "# labelled_text = page.get_textbox(rect)\n",
    "# # labelled_text"
   ]
  },
  {
   "cell_type": "markdown",
   "id": "6141340d",
   "metadata": {
    "papermill": {
     "duration": 0.066634,
     "end_time": "2022-04-29T16:37:28.167288",
     "exception": false,
     "start_time": "2022-04-29T16:37:28.100654",
     "status": "completed"
    },
    "tags": []
   },
   "source": [
    "pip install PyPDF2"
   ]
  },
  {
   "cell_type": "code",
   "execution_count": null,
   "id": "eb584ec0",
   "metadata": {
    "papermill": {
     "duration": 0.067518,
     "end_time": "2022-04-29T16:37:28.303156",
     "exception": false,
     "start_time": "2022-04-29T16:37:28.235638",
     "status": "completed"
    },
    "tags": []
   },
   "outputs": [],
   "source": []
  },
  {
   "cell_type": "code",
   "execution_count": 34,
   "id": "2bb575af",
   "metadata": {
    "execution": {
     "iopub.execute_input": "2022-04-29T16:37:28.441319Z",
     "iopub.status.busy": "2022-04-29T16:37:28.440534Z",
     "iopub.status.idle": "2022-04-29T16:37:28.442751Z",
     "shell.execute_reply": "2022-04-29T16:37:28.442143Z",
     "shell.execute_reply.started": "2022-03-18T16:48:58.370268Z"
    },
    "papermill": {
     "duration": 0.072916,
     "end_time": "2022-04-29T16:37:28.442910",
     "exception": false,
     "start_time": "2022-04-29T16:37:28.369994",
     "status": "completed"
    },
    "tags": []
   },
   "outputs": [],
   "source": [
    "# import pandas as pd\n",
    "# h={'step': 0, 'type': 'string', 'amount': 0.0, 'nameOrig': 'C1231006815', 'oldbalanceOrig': 0.0, 'newbalanceOrig': 0.0, 'nameDest': 'M1979787155', 'oldbalanceDest': 0.0, 'newbalanceDest': 0.0}\n",
    "# df=pd.DataFrame([h])"
   ]
  },
  {
   "cell_type": "code",
   "execution_count": 35,
   "id": "849edd36",
   "metadata": {
    "execution": {
     "iopub.execute_input": "2022-04-29T16:37:28.580437Z",
     "iopub.status.busy": "2022-04-29T16:37:28.579743Z",
     "iopub.status.idle": "2022-04-29T16:37:28.582382Z",
     "shell.execute_reply": "2022-04-29T16:37:28.582999Z",
     "shell.execute_reply.started": "2022-04-09T17:21:26.021615Z"
    },
    "papermill": {
     "duration": 0.073085,
     "end_time": "2022-04-29T16:37:28.583168",
     "exception": false,
     "start_time": "2022-04-29T16:37:28.510083",
     "status": "completed"
    },
    "tags": []
   },
   "outputs": [],
   "source": [
    "#df"
   ]
  },
  {
   "cell_type": "code",
   "execution_count": null,
   "id": "f6b8f580",
   "metadata": {
    "papermill": {
     "duration": 0.066231,
     "end_time": "2022-04-29T16:37:28.715853",
     "exception": false,
     "start_time": "2022-04-29T16:37:28.649622",
     "status": "completed"
    },
    "tags": []
   },
   "outputs": [],
   "source": []
  }
 ],
 "metadata": {
  "kernelspec": {
   "display_name": "Python 3",
   "language": "python",
   "name": "python3"
  },
  "language_info": {
   "codemirror_mode": {
    "name": "ipython",
    "version": 3
   },
   "file_extension": ".py",
   "mimetype": "text/x-python",
   "name": "python",
   "nbconvert_exporter": "python",
   "pygments_lexer": "ipython3",
   "version": "3.7.12"
  },
  "papermill": {
   "default_parameters": {},
   "duration": 22.302971,
   "end_time": "2022-04-29T16:37:29.392974",
   "environment_variables": {},
   "exception": null,
   "input_path": "__notebook__.ipynb",
   "output_path": "__notebook__.ipynb",
   "parameters": {},
   "start_time": "2022-04-29T16:37:07.090003",
   "version": "2.3.3"
  }
 },
 "nbformat": 4,
 "nbformat_minor": 5
}
