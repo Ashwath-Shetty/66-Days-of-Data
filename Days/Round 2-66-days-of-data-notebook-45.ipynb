{
 "cells": [
  {
   "cell_type": "code",
   "execution_count": 1,
   "id": "3e98f0f5",
   "metadata": {
    "_cell_guid": "b1076dfc-b9ad-4769-8c92-a6c4dae69d19",
    "_uuid": "8f2839f25d086af736a60e9eeb907d3b93b6e0e5",
    "execution": {
     "iopub.execute_input": "2022-04-26T17:21:22.966727Z",
     "iopub.status.busy": "2022-04-26T17:21:22.964913Z",
     "iopub.status.idle": "2022-04-26T17:21:22.981198Z",
     "shell.execute_reply": "2022-04-26T17:21:22.980401Z",
     "shell.execute_reply.started": "2022-04-12T14:12:25.248687Z"
    },
    "papermill": {
     "duration": 0.088276,
     "end_time": "2022-04-26T17:21:22.981387",
     "exception": false,
     "start_time": "2022-04-26T17:21:22.893111",
     "status": "completed"
    },
    "tags": []
   },
   "outputs": [
    {
     "name": "stdout",
     "output_type": "stream",
     "text": [
      "/kaggle/input/sample-pdf/D8communications.pdf\n"
     ]
    }
   ],
   "source": [
    "# This Python 3 environment comes with many helpful analytics libraries installed\n",
    "# It is defined by the kaggle/python Docker image: https://github.com/kaggle/docker-python\n",
    "# For example, here's several helpful packages to load\n",
    "\n",
    "import numpy as np # linear algebra\n",
    "import pandas as pd # data processing, CSV file I/O (e.g. pd.read_csv)\n",
    "\n",
    "# Input data files are available in the read-only \"../input/\" directory\n",
    "# For example, running this (by clicking run or pressing Shift+Enter) will list all files under the input directory\n",
    "\n",
    "import os\n",
    "for dirname, _, filenames in os.walk('/kaggle/input'):\n",
    "    for filename in filenames:\n",
    "        print(os.path.join(dirname, filename))\n",
    "\n",
    "# You can write up to 20GB to the current directory (/kaggle/working/) that gets preserved as output when you create a version using \"Save & Run All\" \n",
    "# You can also write temporary files to /kaggle/temp/, but they won't be saved outside of the current session"
   ]
  },
  {
   "cell_type": "markdown",
   "id": "5bc28559",
   "metadata": {
    "papermill": {
     "duration": 0.065937,
     "end_time": "2022-04-26T17:21:23.112671",
     "exception": false,
     "start_time": "2022-04-26T17:21:23.046734",
     "status": "completed"
    },
    "tags": []
   },
   "source": [
    "# **Start Date: 12/3/2022**"
   ]
  },
  {
   "cell_type": "markdown",
   "id": "543e7236",
   "metadata": {
    "papermill": {
     "duration": 0.064796,
     "end_time": "2022-04-26T17:21:23.243402",
     "exception": false,
     "start_time": "2022-04-26T17:21:23.178606",
     "status": "completed"
    },
    "tags": []
   },
   "source": [
    "# **Day 1:** \n",
    "<br>dataquest -> stats -> probability-> estimating probability\n",
    "1. out come is nothing but o/p of an experiment\n",
    "ex: whatever u get after rolling a dice -> it can be any number\n",
    "2. event can have more than one outcome\n",
    "- e.x: The event that we'll get an odd number when we roll a six-sided die — this event includes the outcomes 1, 3, and 5.\n",
    "- an event can be 0 as well.\n",
    "- We always assign probabilities to events, not outcomes, even if the event includes only one outcome.\n",
    "- P(E) =1/total number of possible outcomes, P(E) probability of an event happening.\n",
    "- but above formula doesn't work always, especially when there are more than one outcome\n",
    "    - P(E)=number of successful outcomes/total number of possible outcomes\n",
    "- incase of a biased situation \n",
    "  - let's say a die has 6 - 3 times which is 1,6,3,5,6,6\n",
    "    we will consider 6 as 3 times not 1.\n",
    "    possible outcome-> 1,3,5,6,6,6\n",
    "    prob(6)=3/6\n",
    "    prob(3)=1/6\n",
    "    prob(2)=0/6\n",
    "    If we didn't treat each 6 differently and said it doesn't matter which side a 6 is on, \n",
    "    <br>we'd be forced to conclude the only possible outcomes are 1, 3, 5 and 6. We can definitely         <br>frame the problem like that, but the formula above won't work anymore — we see below P(6) <br>becomes the same as P(3), but, intuitively, P(6) should be higher than P(3) since the die has 6 on     <br>three of its sides:\n"
   ]
  },
  {
   "cell_type": "markdown",
   "id": "ee6c494a",
   "metadata": {
    "papermill": {
     "duration": 0.063434,
     "end_time": "2022-04-26T17:21:23.372409",
     "exception": false,
     "start_time": "2022-04-26T17:21:23.308975",
     "status": "completed"
    },
    "tags": []
   },
   "source": [
    "Estimating Probabilities Conclusion\n",
    "- emperical/ experimental probability\n",
    "  - probability achieved by experimenting / by doing the same event multiple times.\n",
    "  - Generally, for any event E (like a coin landing heads up), we can find its empirical probability   \n",
    "     by using the following formula: \n",
    "     •P (E) =number of times event E happened/ number of times we repeated the experiment   \n",
    " - Generally, the empirical probability of an event (a coin landing heads up, getting a 5 when weroll a die) approaches the true probability value as the number of trials of the randomexperiment (a coin toss, the rolling of a die) increases without bound.\n",
    "- When we calculate the probability of an event under the assumption that the outcomes have equal chances of occurring, we say that we're calculating the **theoretical probability** of an event.\n",
    "   - P(E)=number of successful outcomes/total number of possible outcomes\n",
    "\n"
   ]
  },
  {
   "cell_type": "markdown",
   "id": "91123e15",
   "metadata": {
    "papermill": {
     "duration": 0.063721,
     "end_time": "2022-04-26T17:21:23.500765",
     "exception": false,
     "start_time": "2022-04-26T17:21:23.437044",
     "status": "completed"
    },
    "tags": []
   },
   "source": [
    "# **Day 2**\n",
    "<br>dataquest-> stats -> intro to probability -> probability rules\n",
    "<br>In probability theory, the set of all possible outcomes is called a sample space. A sample space is often denoted by the capital Greek letter Ω (read \"omega\"). This is how we represent the sample space of a die roll:\n",
    "\n",
    "Ω = {1,2,3,4,5,6}\n",
    "-    The probability of any event ranges between 0 and 1: 0≤ P(Event) ≤1\n",
    "- To calculate P(A or B), we can also use the formula below, which is sometimes called the addition rule: P(A or B) = P(A) + P(B)\n",
    "  - Sample space ={ 1,2,3,4,5,6} \n",
    "  - P(2 or 5) = 2/6\n",
    "\n",
    "- P(C or D) = P(C) + P(D) - P(C and D)\n",
    "   - e.x : Sample_space ={2,4,6} + { 4,5,6} - {4/6}\n",
    "      P( even number or number greater than 3) = ( (3/6) + (3/6) )- (2/6) = 4/6\n",
    "- Events that don't intersect are called mutually exclusive.\n",
    "  - e.x: Getting a 5 (event one) and getting a 3 (event two) when we roll a regular six-sided die — it's  impossible to get both a 5 and 3.\n",
    "- Events that intersect are called mutually non-exclusive.\n",
    "  - Getting a number greater than 2 (event one) and getting an odd number (event two) when we roll a regular six-sided die — we could get a 5, which is both greater than 2 (event one) and odd (event two).\n",
    "- unioun -> A or B, intersection -> A and B"
   ]
  },
  {
   "cell_type": "markdown",
   "id": "871c716e",
   "metadata": {
    "papermill": {
     "duration": 0.06393,
     "end_time": "2022-04-26T17:21:23.629175",
     "exception": false,
     "start_time": "2022-04-26T17:21:23.565245",
     "status": "completed"
    },
    "tags": []
   },
   "source": [
    "# Day 3 and 4\n",
    "dataquest -> stats -> probabilities -> solving complex probabilities\n",
    "- This is the same result we got from our previous approach. In more general terms, the multiplication rule says that for two events E1 and E2, the probability that both event E1 and E2 happen can be found by multiplying the probability of E1 by the probability of E2:\n",
    "    - P(E1 ∩ E2) = P(E1) × P(E2)\n",
    "    - Events that don't influence each other's probability are called independent events. If H1 happens, P(H2) stays the same, so H1 and H2 are independent. The multiplication rule we learned only works for independent events.\n",
    "    "
   ]
  },
  {
   "cell_type": "markdown",
   "id": "f0a0e2b4",
   "metadata": {
    "papermill": {
     "duration": 0.064016,
     "end_time": "2022-04-26T17:21:23.757339",
     "exception": false,
     "start_time": "2022-04-26T17:21:23.693323",
     "status": "completed"
    },
    "tags": []
   },
   "source": [
    "# Day 5\n",
    "- When we replace the cards after drawing, we say that we're sampling with replacement. When we don't put the cards back, we're sampling without replacement. \n"
   ]
  },
  {
   "cell_type": "markdown",
   "id": "0e362e6a",
   "metadata": {
    "papermill": {
     "duration": 0.065008,
     "end_time": "2022-04-26T17:21:23.887855",
     "exception": false,
     "start_time": "2022-04-26T17:21:23.822847",
     "status": "completed"
    },
    "tags": []
   },
   "source": [
    "# Day6\n",
    "dataquest-> prob and stats -> probability fundamentals -> permutation and combinations\n",
    "Generally, if we have an experiment E1 (like flipping a coin) with a outcomes, followed by an experiment E2 (like rolling a die) with b outcomes, then the total number of outcomes for the composite experiment E1E2 can be found by multiplying a with b:\n",
    "\n",
    "Number of outcomes = a * b"
   ]
  },
  {
   "cell_type": "markdown",
   "id": "4dfe356d",
   "metadata": {
    "papermill": {
     "duration": 0.065302,
     "end_time": "2022-04-26T17:21:24.017582",
     "exception": false,
     "start_time": "2022-04-26T17:21:23.952280",
     "status": "completed"
    },
    "tags": []
   },
   "source": [
    "# Day 7\n",
    "dataquest-> prob and stats -> probability fundamentals -> permutation and combinations <br>\n",
    "More generally, if we have an experiment E1 with a outcomes, followed by an experiment E2 with b outcomes, followed by an experiment En with z outcomes, the total number of outcomes for the composite experiment E1E2 ... En can be found by multiplying their individual outcomes:\n",
    "\n",
    "Number of outcomes= a * b * … * z"
   ]
  },
  {
   "cell_type": "markdown",
   "id": "5ac49ec5",
   "metadata": {
    "papermill": {
     "duration": 0.064206,
     "end_time": "2022-04-26T17:21:24.146325",
     "exception": false,
     "start_time": "2022-04-26T17:21:24.082119",
     "status": "completed"
    },
    "tags": []
   },
   "source": [
    "# Day 8\n",
    "dataquest-> prob and stats -> probability fundamentals -> permutation and combinations <br>\n",
    "permutations= n*(n-1)*(n-2)*....*2*1\n"
   ]
  },
  {
   "cell_type": "markdown",
   "id": "c0468785",
   "metadata": {
    "papermill": {
     "duration": 0.06374,
     "end_time": "2022-04-26T17:21:24.274672",
     "exception": false,
     "start_time": "2022-04-26T17:21:24.210932",
     "status": "completed"
    },
    "tags": []
   },
   "source": [
    "# Day 9\n",
    "dataquest-> prob and stats -> probability fundamentals -> permutation and combinations\n",
    "- in permutation order of the individual element in the arranement matters.\n",
    "   - for e.x: 9821 is different than 9281\n",
    "   - Permutations =n!  --> sample without replacement-> we are not putting back the sampled data.\n",
    "   - On the last screen, we learned to use the formula below to calculate permutations when we're sampling without replacement and taking only k objects from a group of n objects:\n",
    "   npk=n!/(n-k)!"
   ]
  },
  {
   "cell_type": "markdown",
   "id": "2a67b85f",
   "metadata": {
    "papermill": {
     "duration": 0.063683,
     "end_time": "2022-04-26T17:21:24.406278",
     "exception": false,
     "start_time": "2022-04-26T17:21:24.342595",
     "status": "completed"
    },
    "tags": []
   },
   "source": [
    "# Day 10\n",
    "dataquest-> prob and stats -> probability fundamentals -> permutation and combinations\n",
    "- More generally, if the order of the elements in an arrangement doesn't matter, the arrangement is called a combination.\n",
    "- e.x: cards in a deck \n",
    "- nCk = n! / ((n-k)!*k!)"
   ]
  },
  {
   "cell_type": "markdown",
   "id": "f324bc39",
   "metadata": {
    "papermill": {
     "duration": 0.064996,
     "end_time": "2022-04-26T17:21:24.535592",
     "exception": false,
     "start_time": "2022-04-26T17:21:24.470596",
     "status": "completed"
    },
    "tags": []
   },
   "source": [
    "# Day 11\n",
    "dataquest-> prob and stats -> probability fundamentals -> permutation and combinations\n",
    "- solved 1 probability problem.\n"
   ]
  },
  {
   "cell_type": "markdown",
   "id": "3c0764fe",
   "metadata": {
    "papermill": {
     "duration": 0.064118,
     "end_time": "2022-04-26T17:21:24.664021",
     "exception": false,
     "start_time": "2022-04-26T17:21:24.599903",
     "status": "completed"
    },
    "tags": []
   },
   "source": [
    "# Day 12\n",
    "dataquest-> prob and stats -> probability fundamentals -> permutation and combinations\n",
    "- finished probability and permutations by revising them.\n",
    "- If we have an experiment E1 (like flipping a coin) with a outcomes, followed by an experiment E2(like rolling a die) with b outcomes, then the total number of outcomes for the compositeexperiment E1E2 can be found by multiplying a with b (this is known as the rule of product):\n",
    "  - number of outcomes = a*b\n",
    "- If we have an experiment E1 with a outcomes, followed by an experiment E2 with b outcomes,followed by an experiment En with z outcomes, the total number of outcomes for the compositeexperiment E1E2 ... En can be found by multiplying their individual outcomes:\n",
    "   - number of outcomes = a*b* ... *z\n",
    "- There are two kinds of arrangements:\n",
    "   - •Arrangements where the order matters, which we call permutations.\n",
    "   - •Arrangements where the order doesn't matter, which we call combination\n",
    "- To find the number of permutations when we're sampling without replacement, we can use theformula:\n",
    "  - permutation = n!\n",
    "- To find the number of permutations when we're sampling without replacement and taking only kobjects from a group of n objects, we can use the formula:\n",
    "  - nPk = n!/(n-k)!\n",
    "- To find the number of combinations when we're sampling without replacement and taking only kobjects from a group of n objects, we can use the formula\n",
    "  - nCk = n! / ((n-k)!*k!)"
   ]
  },
  {
   "cell_type": "markdown",
   "id": "1282deee",
   "metadata": {
    "papermill": {
     "duration": 0.063952,
     "end_time": "2022-04-26T17:21:24.793179",
     "exception": false,
     "start_time": "2022-04-26T17:21:24.729227",
     "status": "completed"
    },
    "tags": []
   },
   "source": [
    "# Day 13\n",
    "dataquest-> prob and stats -> probability fundamentals -> conditional probabilities\n",
    "- first 2 slides -> mainly the recap of old chapter(above one).\n"
   ]
  },
  {
   "cell_type": "markdown",
   "id": "282baa55",
   "metadata": {
    "papermill": {
     "duration": 0.065855,
     "end_time": "2022-04-26T17:21:24.924526",
     "exception": false,
     "start_time": "2022-04-26T17:21:24.858671",
     "status": "completed"
    },
    "tags": []
   },
   "source": [
    "# Day 14\n",
    "dataquest-> prob and stats -> probability fundamentals -> conditional probabilities\n",
    "<br>slide 4 completed\n",
    "<br>conditional probabilities\n",
    "- probabilities with condition\n",
    "- P(5)=What is the probability of getting a 5? -> normal probability\n",
    "- P(5 | odd) =What is the probability of getting a 5 given the die showed an odd number? -> conditional prob.\n",
    "\n"
   ]
  },
  {
   "cell_type": "markdown",
   "id": "208c9dc0",
   "metadata": {
    "papermill": {
     "duration": 0.063795,
     "end_time": "2022-04-26T17:21:25.054268",
     "exception": false,
     "start_time": "2022-04-26T17:21:24.990473",
     "status": "completed"
    },
    "tags": []
   },
   "source": [
    "# Day 15\n",
    "dataquest-> prob and stats -> probability fundamentals -> conditional probabilities\n",
    "- on slide 5 not done yet.\n",
    "\n",
    "Say we roll a fair six-sided die and want to find the probability of getting an odd number, given the die showed a number greater than 1 after landing. Using probability notation, we want to find P(A|B) where:\n",
    "\n",
    "- A is the event that the number is odd: A = {1, 3, 5}\n",
    "- B is the event that the number is greater than 1: B = {2, 3, 4, 5, 6}\n",
    "- P(A/B)=number of succesfull outcomes / total number of outcomes.\n"
   ]
  },
  {
   "cell_type": "markdown",
   "id": "7ea4e599",
   "metadata": {
    "papermill": {
     "duration": 0.064371,
     "end_time": "2022-04-26T17:21:25.183752",
     "exception": false,
     "start_time": "2022-04-26T17:21:25.119381",
     "status": "completed"
    },
    "tags": []
   },
   "source": [
    "# Day 16 and 17\n",
    "dataquest-> prob and stats -> probability fundamentals -> conditional probabilities\n",
    "\n",
    "on slide 6 not done yet."
   ]
  },
  {
   "cell_type": "markdown",
   "id": "45cee6a2",
   "metadata": {
    "papermill": {
     "duration": 0.064972,
     "end_time": "2022-04-26T17:21:25.313303",
     "exception": false,
     "start_time": "2022-04-26T17:21:25.248331",
     "status": "completed"
    },
    "tags": []
   },
   "source": [
    "# Day 18\n",
    "dataquest-> prob and stats -> probability fundamentals -> conditional probabilities\n",
    "<br>slide 5 code half done"
   ]
  },
  {
   "cell_type": "markdown",
   "id": "ca8e0b79",
   "metadata": {
    "papermill": {
     "duration": 0.064189,
     "end_time": "2022-04-26T17:21:25.442213",
     "exception": false,
     "start_time": "2022-04-26T17:21:25.378024",
     "status": "completed"
    },
    "tags": []
   },
   "source": [
    "# Day 19\n",
    "- The number of elements in a set is called the cardinal of the set. \n",
    "  Ω is a set, and the cardinal of \n",
    "   Ω = { 2,3,4,5,6}\n",
    "   cardinal(Ω)=5\n",
    "- P(A | B) = card(A ∩ B) / card(B)\n",
    "- Say we roll a fair six-sided die and want to find the probability of getting an odd number, given the die showed a number greater than 1 after landing. Using probability notation, we want to find P(A|B) where:\n",
    "    - A is the event that the number is odd: A = {1, 3, 5}\n",
    "     - B is the event that the number is greater than 1: B = {2, 3, 4, 5, 6}\n",
    "     - total number of possible outcomes = card({2,3,4,5,6}) =5\n",
    "     - number of successful outcomes = card({3,5})= 2\n",
    "- P(A | B) = card(A ∩ B) / card(B), we can also get the same result using P(A | B) = prob(A ∩ B) / prob(B)\n",
    "\n",
    "     "
   ]
  },
  {
   "cell_type": "markdown",
   "id": "135922fc",
   "metadata": {
    "papermill": {
     "duration": 0.064978,
     "end_time": "2022-04-26T17:21:25.571192",
     "exception": false,
     "start_time": "2022-04-26T17:21:25.506214",
     "status": "completed"
    },
    "tags": []
   },
   "source": [
    "# Day 20\n",
    "dataquest-> prob and stats -> probability fundamentals -> conditional probabilities intermediate\n",
    "<br> slide 1 and 2\n",
    "- P( A | B ) ≠ P(A ∩ B), but rather:\n",
    "   - P(A | B) = P(A ∩ B) / P(B)\n",
    "   - P(A ∩ B) = P(A | B) ⋅ P(B)\n",
    "- Given that a customer bought a laptop, they will or will not also buy a mouse. This means we can be certain that either event (M|L) or (M^C|L) will happen:\n",
    "     - P(M | L) + P(M^C | L) = 1\n",
    "\n"
   ]
  },
  {
   "cell_type": "markdown",
   "id": "e7d99bd4",
   "metadata": {
    "papermill": {
     "duration": 0.067569,
     "end_time": "2022-04-26T17:21:25.703094",
     "exception": false,
     "start_time": "2022-04-26T17:21:25.635525",
     "status": "completed"
    },
    "tags": []
   },
   "source": [
    "# Day 21\n",
    "dataquest-> prob and stats -> probability fundamentals -> conditional probabilities intermediate\n",
    "slide 1 and 2\n",
    "- P(A ∩ B) = P(B ∩ A)\n",
    "- multiplication rule of probability\n",
    "  -  P(A ∩ B) = P(B) ⋅ P(A | B) \n",
    "  - P(A ∩ B) = P(A) ⋅ P(B | A)\n",
    "- if P(A) and P(B) are statistically independent then \n",
    "  - P(A ∩ B) = P(A) ⋅ P(B)\n",
    "\n"
   ]
  },
  {
   "cell_type": "markdown",
   "id": "9f8349c9",
   "metadata": {
    "papermill": {
     "duration": 0.067723,
     "end_time": "2022-04-26T17:21:25.839622",
     "exception": false,
     "start_time": "2022-04-26T17:21:25.771899",
     "status": "completed"
    },
    "tags": []
   },
   "source": [
    "# Day 22\n",
    "dataquest-> prob and stats -> probability fundamentals -> conditional probabilities intermediate \n",
    "<br>slide 6\n",
    "- If events events A and B are dependent, it means the occurrence of event A changes the probability of event B and vice versa.\n",
    "   - P(A) ≠ P(A | B)\n",
    "   - P(B) ≠ P(B | A)\n",
    "   - P(A ∩ B) ≠ P(A) ⋅ P(B)\n",
    "   - formula will become P(A ∩ B) ≠ P(A) ⋅ P(B/A)\n",
    "   "
   ]
  },
  {
   "cell_type": "markdown",
   "id": "669206b6",
   "metadata": {
    "papermill": {
     "duration": 0.064986,
     "end_time": "2022-04-26T17:21:25.969289",
     "exception": false,
     "start_time": "2022-04-26T17:21:25.904303",
     "status": "completed"
    },
    "tags": []
   },
   "source": [
    "# Day 23\n",
    "dataquest-> prob and stats -> probability fundamentals -> conditional probabilities intermediate\n",
    "<br>slide 7 to last\n",
    "- To find whether three events — A, B, C — are independent or not, below conditions must hold true -\n",
    "  - P(A ∩ B) ≠ P(A) ⋅ P(B)\n",
    "  - P(A ∩ C) ≠ P(A) ⋅ P(C)\n",
    "  - P(B ∩ C) ≠ P(B) ⋅ P(C)\n",
    "  - P(A ∩ B ∩ C) ≠ P(A) ⋅ P(B) . P(C)\n",
    "- multiplication rule for conditional probability or dependent events\n",
    " - P(A ∩ B ∩ C) = P(A) ⋅ P(B | A) ⋅ P(C | A ∩ B)\n",
    " \n",
    "\n"
   ]
  },
  {
   "cell_type": "markdown",
   "id": "d6bf954a",
   "metadata": {
    "papermill": {
     "duration": 0.066242,
     "end_time": "2022-04-26T17:21:26.101302",
     "exception": false,
     "start_time": "2022-04-26T17:21:26.035060",
     "status": "completed"
    },
    "tags": []
   },
   "source": [
    "# Day 24\n",
    "dataquest-> prob and stats -> probability fundamentals -> bayes theorem\n",
    "<br>slide 1\n",
    "- independent -> one event is dependent on other\n",
    "   - P(A ∩ B) = P(A) ⋅ P(B/A)\n",
    "- independent -> one event is not dependent on other.\n",
    "   - P(A ∩ B) = P(A) ⋅ P(B)\n",
    "- mutually exclusive -> both the events cannot happen at the same time.\n",
    "   - P(A ∩ B) = 0\n",
    "\n"
   ]
  },
  {
   "cell_type": "markdown",
   "id": "e9b3b3bc",
   "metadata": {
    "papermill": {
     "duration": 0.063792,
     "end_time": "2022-04-26T17:21:26.231540",
     "exception": false,
     "start_time": "2022-04-26T17:21:26.167748",
     "status": "completed"
    },
    "tags": []
   },
   "source": [
    "# Day 25\n",
    "dataquest-> prob and stats -> probability fundamentals -> bayes theorem\n",
    "<br>slide 2\n",
    "- If two events are exhaustive, it means they make up the whole sample space Ω\n",
    "  -  P(A) = P(A ∩ B) + P(A ∩ B^c)\n",
    "     P(A) = (P(B) * P(A/B)) +  (P(B^c) * P(A/B^c))\n",
    "     \n",
    "     "
   ]
  },
  {
   "cell_type": "markdown",
   "id": "0807f698",
   "metadata": {
    "papermill": {
     "duration": 0.06475,
     "end_time": "2022-04-26T17:21:26.360232",
     "exception": false,
     "start_time": "2022-04-26T17:21:26.295482",
     "status": "completed"
    },
    "tags": []
   },
   "source": [
    "# Day 26\n",
    "dataquest-> prob and stats -> probability fundamentals -> bayes theorem\n",
    "<br>slide 3 - last\n",
    "- the law of total probability\n",
    "  - P(A)  = (P(B1) * P(A/B1)) + (P(B2) * P(A/B2))+ ... + (P(Bn) * P(A/Bn)))\n",
    "  - P(A) =(summattion i=1 to n) P(Bi) ⋅ P(A|Bi)\n",
    "- Baye's theorem\n",
    "  - P(B | A) = (P(B) ⋅ P(A | B)) / (n ∑i=1 P(Bi) ⋅ P(A | Bi))\n",
    "- The probability of being infected with HIV before doing any test is called the prior probability (\"prior\" means \"before\"). The probability of being infected with HIV after testing positive is called the posterior probability (\"posterior\" means \"after\").\n",
    "\n",
    "\n",
    "  "
   ]
  },
  {
   "cell_type": "markdown",
   "id": "6bd8b78f",
   "metadata": {
    "papermill": {
     "duration": 0.063533,
     "end_time": "2022-04-26T17:21:26.487767",
     "exception": false,
     "start_time": "2022-04-26T17:21:26.424234",
     "status": "completed"
    },
    "tags": []
   },
   "source": [
    "# Day 27\n",
    "dataquest-> prob and stats -> probability fundamentals -> naive bayes theorem\n",
    "<br>slide 1 - \n",
    "P(Spam|w1,w2,w3,w4)∝P(Spam)⋅P(w1|Spam)⋅P(w2|Spam)⋅P(w3|Spam)⋅P(w4|Spam)P(SpamC|w1,w2,w3,w4)∝P(SpamC)⋅P(w1|SpamC)⋅P(w2|SpamC)⋅P(w3|SpamC)⋅P(w4|SpamC)"
   ]
  },
  {
   "cell_type": "markdown",
   "id": "3355fcfc",
   "metadata": {
    "papermill": {
     "duration": 0.06367,
     "end_time": "2022-04-26T17:21:26.615379",
     "exception": false,
     "start_time": "2022-04-26T17:21:26.551709",
     "status": "completed"
    },
    "tags": []
   },
   "source": [
    "# Day 28\n",
    "dataquest-> prob and stats -> probability fundamentals -> naive bayes theorem\n",
    "<br>finished.\n",
    "<br>**Summary**\n",
    "- P(Spam|w1,w2,...,wn)∝P(Spam)⋅n∏i=1P(wi|Spam)\n",
    "- P(SpamC|w1,w2,...,wn)∝P(SpamC)⋅n∏i=1P(wi|SpamC)\n",
    "- To calculate P(wi|Spam) and P(wi|SpamC), we need to use the additive smoothing technique: \n",
    "- P ( w i | S p a m ) = (N w i | S p a m + α) / ( N S p a m + α ⋅ N V o c a b u l a r y )\n",
    "- P ( w i | S p a m C ) = (N w i | S p a m C + α) / ( N S p a m C + α ⋅ N V o c a b u l a r y )\n",
    "     - N w i | S p a m = the number of times the word w i occurs in spam messages \n",
    "     - N w i | S p a m C = the number of times the word w i occurs in non-spam messages \n",
    "     - N S p a m = total number of words in spam messages \n",
    "     - N S p a m C = total number of words in non-spam messages \n",
    "     - N V o c a b u l a r y = total number of words in the vocabulary \n",
    "     - α = 1 ( α is a smoothing parameter )\n",
    " - naive bayes theorem assumes that events are not dependent.\n",
    " - The assumption of conditional independence between words is thus naive since it rarely holds in practice, and this is why the algorithm is called Naive Bayes (also called simple Bayes or independence Bayes)."
   ]
  },
  {
   "cell_type": "markdown",
   "id": "42304371",
   "metadata": {
    "papermill": {
     "duration": 0.065163,
     "end_time": "2022-04-26T17:21:26.745682",
     "exception": false,
     "start_time": "2022-04-26T17:21:26.680519",
     "status": "completed"
    },
    "tags": []
   },
   "source": [
    "# Day 29,30,31\n",
    "<br>dataquest-> prob and stats -> probability fundamentals -> conditional probability-> guided projects\n",
    "<br> in progress"
   ]
  },
  {
   "cell_type": "markdown",
   "id": "d48bdb1a",
   "metadata": {
    "papermill": {
     "duration": 0.063565,
     "end_time": "2022-04-26T17:21:26.873128",
     "exception": false,
     "start_time": "2022-04-26T17:21:26.809563",
     "status": "completed"
    },
    "tags": []
   },
   "source": [
    "# Day 32 and 33\n",
    "<br>dataquest-> prob and stats -> probability fundamentals -> guided projects\n",
    "<br> done"
   ]
  },
  {
   "cell_type": "markdown",
   "id": "7d780020",
   "metadata": {
    "papermill": {
     "duration": 0.063688,
     "end_time": "2022-04-26T17:21:27.001592",
     "exception": false,
     "start_time": "2022-04-26T17:21:26.937904",
     "status": "completed"
    },
    "tags": []
   },
   "source": [
    "# Day 34\n",
    "<br>dataquest-> prob and stats -> probability fundamentals -> guided projects-> lottery prediction\n",
    "<br> done"
   ]
  },
  {
   "cell_type": "markdown",
   "id": "d6dee3db",
   "metadata": {
    "papermill": {
     "duration": 0.064428,
     "end_time": "2022-04-26T17:21:27.130786",
     "exception": false,
     "start_time": "2022-04-26T17:21:27.066358",
     "status": "completed"
    },
    "tags": []
   },
   "source": [
    "# Day 35\n",
    "<br>dataquest-> prob and stats -> hypothesis testing fundamentals -> significance testing\n",
    "<br> till slide 4\n",
    "- null hypothesis\n",
    "- alternate hypothesis\n"
   ]
  },
  {
   "cell_type": "markdown",
   "id": "6bdce1b4",
   "metadata": {
    "papermill": {
     "duration": 0.063834,
     "end_time": "2022-04-26T17:21:27.258912",
     "exception": false,
     "start_time": "2022-04-26T17:21:27.195078",
     "status": "completed"
    },
    "tags": []
   },
   "source": [
    "# Day 36 and 37\n",
    "<br>dataquest-> prob and stats -> hypothesis testing fundamentals -> significance testing\n",
    "- The permutation test is a statistical test that involves rerunning the study many times and recalculating the test statistic for each iteration. The goal is to calculate a distribution of the test statistics over these many iterations. This distribution is called the sampling distribution and it approximates the full range of possible test statistics under the null hypothesis\n",
    "\n"
   ]
  },
  {
   "cell_type": "markdown",
   "id": "31ffb809",
   "metadata": {
    "papermill": {
     "duration": 0.065086,
     "end_time": "2022-04-26T17:21:27.388492",
     "exception": false,
     "start_time": "2022-04-26T17:21:27.323406",
     "status": "completed"
    },
    "tags": []
   },
   "source": [
    "# Day 38\n",
    "<br>dataquest-> prob and stats -> hypothesis testing fundamentals -> significance testing\n",
    "<br>in progress."
   ]
  },
  {
   "cell_type": "markdown",
   "id": "7f78f09e",
   "metadata": {
    "papermill": {
     "duration": 0.064131,
     "end_time": "2022-04-26T17:21:27.516976",
     "exception": false,
     "start_time": "2022-04-26T17:21:27.452845",
     "status": "completed"
    },
    "tags": []
   },
   "source": [
    "# Day 39\n",
    "<br>dataquest-> prob and stats -> hypothesis testing fundamentals -> significance testing\n",
    "<br>slide 5-6"
   ]
  },
  {
   "cell_type": "markdown",
   "id": "a6cceeea",
   "metadata": {
    "papermill": {
     "duration": 0.064119,
     "end_time": "2022-04-26T17:21:27.645452",
     "exception": false,
     "start_time": "2022-04-26T17:21:27.581333",
     "status": "completed"
    },
    "tags": []
   },
   "source": [
    "# Day 40\n",
    "<br>dataquest-> prob and stats -> hypothesis testing fundamentals -> significance testing\n",
    "<br>slide 7"
   ]
  },
  {
   "cell_type": "markdown",
   "id": "103facf4",
   "metadata": {
    "papermill": {
     "duration": 0.063815,
     "end_time": "2022-04-26T17:21:27.773591",
     "exception": false,
     "start_time": "2022-04-26T17:21:27.709776",
     "status": "completed"
    },
    "tags": []
   },
   "source": [
    "# Day 41 and 42\n",
    "<br>dataquest-> prob and stats -> hypothesis testing fundamentals -> significance testing\n",
    "<br>slide 7 done and 8(p-value) strated"
   ]
  },
  {
   "cell_type": "markdown",
   "id": "27b035f9",
   "metadata": {
    "papermill": {
     "duration": 0.063666,
     "end_time": "2022-04-26T17:21:27.901334",
     "exception": false,
     "start_time": "2022-04-26T17:21:27.837668",
     "status": "completed"
    },
    "tags": []
   },
   "source": [
    "# Day 43\n",
    "<br>dataquest-> prob and stats -> hypothesis testing fundamentals -> significance testing\n",
    "<br>\n",
    "- The first step is to decide a test statistic, which is a numerical value that summarizes the data and one we can use in statistical formulas. The test statistic runs a statistical test that determines whether the difference between the groups was due to random chance.\n",
    "  - e.x: mean \n",
    "- The permutation test is a statistical test that involves rerunning the study many times and recalculating the test statistic for each iteration.\n",
    "   - The goal is to calculate a distribution of the test statistics over these many iterations. This distribution is called the sampling distribution and it approximates the full range of possible test statistics under the null hypothesis.\n",
    "- If the p value is less than the threshold, we:\n",
    "    - reject the null hypothesis that there's no difference in the mean amount of weight lost by participants in both groups; and\n",
    "    - conclude that there is some evidence that the weight loss pill does affect the amount of weight people lost.\n",
    "\n",
    "- If the p value is greater than the threshold, we:\n",
    "    - fail to reject the null hypothesis that there's no difference in the mean amount of weight lost by participants in both groups,\n",
    "    - conclude that the weight loss pill doesn't seem to be effective in helping people lose weight.\n",
    "- usually used p-value threshold is 0.05\n",
    "- The p value threshold you set can also affect the conclusion you reach.\n",
    "    - If you set too high of a p value threshold, you may reject the null hypothesis incorrectly. This is known as a type I error.\n",
    "    - If you set too low of a p value threshold, you may fail to reject the null hypothesis incorrectly. This is known as a type II error."
   ]
  },
  {
   "cell_type": "markdown",
   "id": "1781e81f",
   "metadata": {
    "papermill": {
     "duration": 0.063805,
     "end_time": "2022-04-26T17:21:28.031684",
     "exception": false,
     "start_time": "2022-04-26T17:21:27.967879",
     "status": "completed"
    },
    "tags": []
   },
   "source": [
    "# Day 44\n",
    "<br>dataquest-> prob and stats -> hypothesis testing fundamentals -> significance testing-> chi squared test\n",
    "<br>1- 4\n",
    "- chi squared test is used for numerical values"
   ]
  },
  {
   "cell_type": "markdown",
   "id": "6981c287",
   "metadata": {
    "papermill": {
     "duration": 0.065364,
     "end_time": "2022-04-26T17:21:28.163234",
     "exception": false,
     "start_time": "2022-04-26T17:21:28.097870",
     "status": "completed"
    },
    "tags": []
   },
   "source": [
    "# Day 45 and 46\n",
    "<br>dataquest-> prob and stats -> hypothesis testing fundamentals -> significance testing-> chi squared test\n",
    "<br>4- 6"
   ]
  },
  {
   "cell_type": "markdown",
   "id": "f6dfbfcc",
   "metadata": {
    "papermill": {
     "duration": 0.063617,
     "end_time": "2022-04-26T17:21:28.292321",
     "exception": false,
     "start_time": "2022-04-26T17:21:28.228704",
     "status": "completed"
    },
    "tags": []
   },
   "source": []
  },
  {
   "cell_type": "code",
   "execution_count": null,
   "id": "072e90a1",
   "metadata": {
    "papermill": {
     "duration": 0.063914,
     "end_time": "2022-04-26T17:21:28.421744",
     "exception": false,
     "start_time": "2022-04-26T17:21:28.357830",
     "status": "completed"
    },
    "tags": []
   },
   "outputs": [],
   "source": []
  },
  {
   "cell_type": "code",
   "execution_count": 2,
   "id": "6c73ab09",
   "metadata": {
    "execution": {
     "iopub.execute_input": "2022-04-26T17:21:28.555176Z",
     "iopub.status.busy": "2022-04-26T17:21:28.554289Z",
     "iopub.status.idle": "2022-04-26T17:21:28.557104Z",
     "shell.execute_reply": "2022-04-26T17:21:28.556558Z",
     "shell.execute_reply.started": "2022-04-12T14:17:49.333113Z"
    },
    "papermill": {
     "duration": 0.071273,
     "end_time": "2022-04-26T17:21:28.557273",
     "exception": false,
     "start_time": "2022-04-26T17:21:28.486000",
     "status": "completed"
    },
    "tags": []
   },
   "outputs": [],
   "source": [
    "# !pip install PyMuPDF"
   ]
  },
  {
   "cell_type": "code",
   "execution_count": 3,
   "id": "80de93b1",
   "metadata": {
    "execution": {
     "iopub.execute_input": "2022-04-26T17:21:28.690414Z",
     "iopub.status.busy": "2022-04-26T17:21:28.689446Z",
     "iopub.status.idle": "2022-04-26T17:21:28.693739Z",
     "shell.execute_reply": "2022-04-26T17:21:28.693045Z",
     "shell.execute_reply.started": "2022-04-12T14:19:20.437905Z"
    },
    "papermill": {
     "duration": 0.072045,
     "end_time": "2022-04-26T17:21:28.693891",
     "exception": false,
     "start_time": "2022-04-26T17:21:28.621846",
     "status": "completed"
    },
    "tags": []
   },
   "outputs": [],
   "source": [
    " \n",
    "# fitz.__version__"
   ]
  },
  {
   "cell_type": "code",
   "execution_count": 4,
   "id": "4f4a8bc1",
   "metadata": {
    "execution": {
     "iopub.execute_input": "2022-04-26T17:21:28.829148Z",
     "iopub.status.busy": "2022-04-26T17:21:28.828182Z",
     "iopub.status.idle": "2022-04-26T17:21:28.830832Z",
     "shell.execute_reply": "2022-04-26T17:21:28.830313Z",
     "shell.execute_reply.started": "2022-04-12T14:23:59.687259Z"
    },
    "papermill": {
     "duration": 0.072222,
     "end_time": "2022-04-26T17:21:28.830979",
     "exception": false,
     "start_time": "2022-04-26T17:21:28.758757",
     "status": "completed"
    },
    "tags": []
   },
   "outputs": [],
   "source": [
    "# !python -m spacy download en_core_web_sm"
   ]
  },
  {
   "cell_type": "code",
   "execution_count": null,
   "id": "783b8bfb",
   "metadata": {
    "papermill": {
     "duration": 0.065162,
     "end_time": "2022-04-26T17:21:28.960581",
     "exception": false,
     "start_time": "2022-04-26T17:21:28.895419",
     "status": "completed"
    },
    "tags": []
   },
   "outputs": [],
   "source": []
  },
  {
   "cell_type": "code",
   "execution_count": 5,
   "id": "b44750a2",
   "metadata": {
    "execution": {
     "iopub.execute_input": "2022-04-26T17:21:29.096393Z",
     "iopub.status.busy": "2022-04-26T17:21:29.095516Z",
     "iopub.status.idle": "2022-04-26T17:21:29.097197Z",
     "shell.execute_reply": "2022-04-26T17:21:29.097695Z",
     "shell.execute_reply.started": "2022-04-12T14:18:25.912243Z"
    },
    "papermill": {
     "duration": 0.071862,
     "end_time": "2022-04-26T17:21:29.097865",
     "exception": false,
     "start_time": "2022-04-26T17:21:29.026003",
     "status": "completed"
    },
    "tags": []
   },
   "outputs": [],
   "source": [
    "# import fitz\n",
    "# import spacy\n",
    "# import re\n",
    "# from pathlib import Path\n",
    "# import requests\n",
    "# import os"
   ]
  },
  {
   "cell_type": "code",
   "execution_count": 6,
   "id": "aa51c47a",
   "metadata": {
    "execution": {
     "iopub.execute_input": "2022-04-26T17:21:29.232795Z",
     "iopub.status.busy": "2022-04-26T17:21:29.231958Z",
     "iopub.status.idle": "2022-04-26T17:21:29.234768Z",
     "shell.execute_reply": "2022-04-26T17:21:29.234268Z",
     "shell.execute_reply.started": "2022-04-12T15:03:43.5897Z"
    },
    "papermill": {
     "duration": 0.072215,
     "end_time": "2022-04-26T17:21:29.234910",
     "exception": false,
     "start_time": "2022-04-26T17:21:29.162695",
     "status": "completed"
    },
    "tags": []
   },
   "outputs": [],
   "source": [
    "# sql_db_json = [\n",
    "#   {\n",
    "#     \"document_id\": \"1\",\n",
    "#     \"area\": \"[72.1149,661.2966,131.95729,675.1716]\",\n",
    "#     \"page\": \"3\",\n",
    "#     \"text_\": \"Background\",\n",
    "#     \"type_of_selection\": \"Text\",\n",
    "#     \"entity_type\": \"name\",\n",
    "#     \"link\": \"https://redactable-devox-stage.s3.us-east-2.amazonaws.com/tenants/41d9e109-693b-444c-aa18-e5891bc6550b/original/1a7c0e5d-3237-4ca9-9e3d-89e707245ac6/D8communications.pdf\"\n",
    "#   },\n",
    "#   {\n",
    "#     \"document_id\": \"1\",\n",
    "#     \"area\": \"[290.55386,632.0173,322.14685,645.8923]\",\n",
    "#     \"page\": \"2\",\n",
    "#     \"text_\": \"INDEX\",\n",
    "#     \"type_of_selection\": \"Text\",\n",
    "#     \"entity_type\": \"address\",\n",
    "#     \"link\": \"https://redactable-devox-stage.s3.us-east-2.amazonaws.com/tenants/41d9e109-693b-444c-aa18-e5891bc6550b/original/1a7c0e5d-3237-4ca9-9e3d-89e707245ac6/D8communications.pdf\"\n",
    "#   }\n",
    "# ]"
   ]
  },
  {
   "cell_type": "code",
   "execution_count": 7,
   "id": "5b5234fd",
   "metadata": {
    "execution": {
     "iopub.execute_input": "2022-04-26T17:21:29.370354Z",
     "iopub.status.busy": "2022-04-26T17:21:29.369280Z",
     "iopub.status.idle": "2022-04-26T17:21:29.371200Z",
     "shell.execute_reply": "2022-04-26T17:21:29.371842Z",
     "shell.execute_reply.started": "2022-04-12T13:17:19.452695Z"
    },
    "papermill": {
     "duration": 0.072722,
     "end_time": "2022-04-26T17:21:29.372015",
     "exception": false,
     "start_time": "2022-04-26T17:21:29.299293",
     "status": "completed"
    },
    "tags": []
   },
   "outputs": [],
   "source": [
    "# l=pd.DataFrame()\n",
    "# k=(1, '[290.55386,632.0173,322.14685,645.8923]', 2, 'INDEX', 'Text', 'address', 'https://redactable-devox-s')\n",
    "# k\n"
   ]
  },
  {
   "cell_type": "code",
   "execution_count": 8,
   "id": "a1b2eba7",
   "metadata": {
    "execution": {
     "iopub.execute_input": "2022-04-26T17:21:29.505380Z",
     "iopub.status.busy": "2022-04-26T17:21:29.504379Z",
     "iopub.status.idle": "2022-04-26T17:21:29.508318Z",
     "shell.execute_reply": "2022-04-26T17:21:29.508881Z",
     "shell.execute_reply.started": "2022-04-12T16:09:33.708631Z"
    },
    "papermill": {
     "duration": 0.072221,
     "end_time": "2022-04-26T17:21:29.509049",
     "exception": false,
     "start_time": "2022-04-26T17:21:29.436828",
     "status": "completed"
    },
    "tags": []
   },
   "outputs": [],
   "source": [
    "# co=[\"document_id\",\"area\",\"page\",\"text_\",\"type_of_selection\",\"entity_type\",\"link\"]\n",
    "# val= [(1,'[72.1149,661.2966,131.95729,675.1716]',3,'Background','Text','name' ,'https://redactable-devox-stage.s3.us-east-2.am'), (1,  '[290.55386,632.0173,322.14685,645.8923]',2,'INDEX', 'Text','address','https://redactable-devox-stage.s3.us-east-2.am')]\n",
    "\n",
    "# df=pd.DataFrame(val,columns=[co])\n",
    "# #df.iloc[1] =[1,  '[290.55386,632.0173,322.14685,645.8923]',2,'INDEX', 'Text','address','https://redactable-devox-stage.s3.us-east-2.am']\n",
    "# df"
   ]
  },
  {
   "cell_type": "code",
   "execution_count": 9,
   "id": "8de27fa0",
   "metadata": {
    "execution": {
     "iopub.execute_input": "2022-04-26T17:21:29.641067Z",
     "iopub.status.busy": "2022-04-26T17:21:29.640082Z",
     "iopub.status.idle": "2022-04-26T17:21:29.643306Z",
     "shell.execute_reply": "2022-04-26T17:21:29.643914Z",
     "shell.execute_reply.started": "2022-04-12T16:18:22.595374Z"
    },
    "papermill": {
     "duration": 0.070895,
     "end_time": "2022-04-26T17:21:29.644079",
     "exception": false,
     "start_time": "2022-04-26T17:21:29.573184",
     "status": "completed"
    },
    "tags": []
   },
   "outputs": [],
   "source": [
    "# prev=[]\n",
    "# for data,row in df.iterrows():\n",
    "#     if row['document_id'] not in prev:\n",
    "#         prev.append(row['document_id'])\n",
    "#         print('hey')"
   ]
  },
  {
   "cell_type": "code",
   "execution_count": 10,
   "id": "6090c1ee",
   "metadata": {
    "execution": {
     "iopub.execute_input": "2022-04-26T17:21:29.777682Z",
     "iopub.status.busy": "2022-04-26T17:21:29.776576Z",
     "iopub.status.idle": "2022-04-26T17:21:29.782253Z",
     "shell.execute_reply": "2022-04-26T17:21:29.782782Z",
     "shell.execute_reply.started": "2022-04-12T15:03:48.248836Z"
    },
    "papermill": {
     "duration": 0.074508,
     "end_time": "2022-04-26T17:21:29.782956",
     "exception": false,
     "start_time": "2022-04-26T17:21:29.708448",
     "status": "completed"
    },
    "tags": []
   },
   "outputs": [],
   "source": [
    "# nlp = spacy.load('en_core_web_sm')\n",
    "# train_data = []\n",
    "\n",
    "# prev_doc_id = ''\n",
    "# i=0\n",
    "# temp='/kaggle/working'\n",
    "\n",
    "# for data in sql_db_json:\n",
    "#     if data['type_of_selection'] == 'Text':\n",
    "#         document_id = data['document_id']\n",
    "#         x1,y1,x2,y2 = data['area'][1:-1].split(',')\n",
    "#         url = data['link']\n",
    "#         page_no = int(data['page']) - 1 \n",
    "#         label = data['entity_type']\n",
    "#         filename = url.split('/')[-1]\n",
    "    \n",
    "#         #download the file to temp folder\n",
    "#         outpath = os.path.join(temp,filename)\n",
    "\n",
    "#         if document_id == prev_doc_id:\n",
    "#             pass\n",
    "#         else: \n",
    "#             i+=1\n",
    "#             print(i)\n",
    "#             response = requests.get(url)\n",
    "#             with open(outpath, \"wb\") as binary_file:\n",
    "#                 binary_file.write(response.content)\n",
    "\n",
    "#         doc = fitz.open(outpath)  # any supported document type\n",
    "#         page = doc[page_no]  # we want text from this page\n",
    "#         print('page dimension - ', page.rect.width, page.rect.height)\n",
    "\n",
    "#         #The co-ordinates in the DB are image co-ords. W.r.t pdf, y1 and y2 has to be interchanged.\n",
    "#         #To ensure entire word to be selected, slight correction in x1,y1,x2,y2 is done.\n",
    "\n",
    "#         rect = [float(x1)-2, 792 - float(y2)-2, float(x2)+2, 792 - float(y1)+2]\n",
    "#         print(rect)\n",
    "#         labelled_text = page.get_textbox(rect)\n",
    "\n",
    "#         #Removing all unprintable characters from the text\n",
    "#         string = re.sub('[^0-9a-zA-Z@?|\\/<>.,()&^%$#!]+', ' ', labelled_text)\n",
    "#         print('string : ', string)\n",
    "\n",
    "#         fulltext = page.get_text()\n",
    "#         doc = nlp(fulltext)\n",
    "\n",
    "#         sentences = []\n",
    "#         for sent in doc.sents:\n",
    "#             if string.strip() in sent.text:\n",
    "#                 text = re.sub('[^0-9a-zA-Z@?|\\/<>.,()&^%$#!]+', ' ', sent.text)\n",
    "\n",
    "#         res = re.search(string.strip(), text)\n",
    "\n",
    "#         entities = []\n",
    "#         entities.append((res.start(),res.end(),label))\n",
    "\n",
    "#         train_data.append((text,{'entities':entities}))\n",
    "\n",
    "# print('Training data in spacy format')\n",
    "# print('*****************************')\n",
    "# for i in range(0,len(train_data)):\n",
    "#     print(train_data[i])"
   ]
  },
  {
   "cell_type": "code",
   "execution_count": null,
   "id": "62530862",
   "metadata": {
    "papermill": {
     "duration": 0.063569,
     "end_time": "2022-04-26T17:21:29.910700",
     "exception": false,
     "start_time": "2022-04-26T17:21:29.847131",
     "status": "completed"
    },
    "tags": []
   },
   "outputs": [],
   "source": []
  },
  {
   "cell_type": "code",
   "execution_count": 11,
   "id": "6b3c296f",
   "metadata": {
    "execution": {
     "iopub.execute_input": "2022-04-26T17:21:30.051430Z",
     "iopub.status.busy": "2022-04-26T17:21:30.050354Z",
     "iopub.status.idle": "2022-04-26T17:21:30.056167Z",
     "shell.execute_reply": "2022-04-26T17:21:30.056658Z",
     "shell.execute_reply.started": "2022-04-12T11:44:59.253637Z"
    },
    "papermill": {
     "duration": 0.080741,
     "end_time": "2022-04-26T17:21:30.056865",
     "exception": false,
     "start_time": "2022-04-26T17:21:29.976124",
     "status": "completed"
    },
    "tags": []
   },
   "outputs": [],
   "source": [
    "# nlp = spacy.load('en_core_web_sm')\n",
    "# train_data = []\n",
    "\n",
    "# prev_doc_id = ''\n",
    "# temp='/kaggle/working'\n",
    "# i=0\n",
    "# for data in sql_db_json:\n",
    "#     if data['type_of_selection'] == 'Text':\n",
    "#         document_id = data['document_id']\n",
    "#         x1,y1,x2,y2 = data['area'][1:-1].split(',')\n",
    "#         url = data['link']\n",
    "#         page_no = int(data['page']) - 1 \n",
    "#         label = data['entity_type']\n",
    "#         filename = url.split('/')[-1]\n",
    "    \n",
    "#         #download the file to temp folder\n",
    "#         i+=1\n",
    "#         print(i)\n",
    "#         response = requests.get(url)\n",
    "#         doc = fitz.open(stream=response.content,filetype=\"pdf\")  # any supported document type\n",
    "#         page = doc[page_no]  # we want text from this page\n",
    "#         print('page dimension - ', page.rect.width, page.rect.height)\n",
    "\n",
    "#         #The co-ordinates in the DB are image co-ords. W.r.t pdf, y1 and y2 has to be interchanged.\n",
    "#         #To ensure entire word to be selected, slight correction in x1,y1,x2,y2 is done.\n",
    "\n",
    "#         rect = [float(x1)-2, 792 - float(y2)-2, float(x2)+2, 792 - float(y1)+2]\n",
    "#         print(rect)\n",
    "#         labelled_text = page.get_textbox(rect)\n",
    "\n",
    "#         #Removing all unprintable characters from the text\n",
    "#         string = re.sub('[^0-9a-zA-Z@?|\\/<>.,()&^%$#!]+', ' ', labelled_text)\n",
    "#         print('string : ', string)\n",
    "\n",
    "#         fulltext = page.get_text()\n",
    "#         doc = nlp(fulltext)\n",
    "\n",
    "#         sentences = []\n",
    "#         for sent in doc.sents:\n",
    "#             if string.strip() in sent.text:\n",
    "#                 text = re.sub('[^0-9a-zA-Z@?|\\/<>.,()&^%$#!]+', ' ', sent.text)\n",
    "\n",
    "#         res = re.search(string.strip(), text)\n",
    "\n",
    "#         entities = []\n",
    "#         entities.append((res.start(),res.end(),label))\n",
    "\n",
    "#         train_data.append((text,{'entities':entities}))\n",
    "\n",
    "# print('Training data in spacy format')\n",
    "# print('*****************************')\n",
    "# for i in range(0,len(train_data)):\n",
    "#     print(train_data[i])"
   ]
  },
  {
   "cell_type": "code",
   "execution_count": 12,
   "id": "917e71db",
   "metadata": {
    "execution": {
     "iopub.execute_input": "2022-04-26T17:21:30.191194Z",
     "iopub.status.busy": "2022-04-26T17:21:30.190225Z",
     "iopub.status.idle": "2022-04-26T17:21:30.194311Z",
     "shell.execute_reply": "2022-04-26T17:21:30.194804Z"
    },
    "papermill": {
     "duration": 0.072566,
     "end_time": "2022-04-26T17:21:30.194999",
     "exception": false,
     "start_time": "2022-04-26T17:21:30.122433",
     "status": "completed"
    },
    "tags": []
   },
   "outputs": [],
   "source": [
    "# page dimension -  612.0 792.0\n",
    "# [70.1149, 114.82839999999999, 133.95729, 132.7034]\n",
    "# string :  Background\n",
    "# page dimension -  612.0 792.0\n",
    "# [288.55386, 144.10770000000002, 324.14685, 161.98270000000002]\n",
    "# string :  INDEX\n",
    "# Training data in spacy format\n",
    "# *****************************\n",
    "# (' 3 Background The Blue Ribbon Committee was created by the Mayor to assess various city communication methods and recommend opportunities to improve communications with residents, businesses and other organizations.', {'entities': [(3, 13, 'name')]})\n",
    "# (' 2 INDEX Background Pg. 3 Purpose Pg. 3 Process .', {'entities': [(3, 8, 'address')]})"
   ]
  },
  {
   "cell_type": "code",
   "execution_count": 13,
   "id": "348a5a4f",
   "metadata": {
    "execution": {
     "iopub.execute_input": "2022-04-26T17:21:30.329858Z",
     "iopub.status.busy": "2022-04-26T17:21:30.328775Z",
     "iopub.status.idle": "2022-04-26T17:21:30.330859Z",
     "shell.execute_reply": "2022-04-26T17:21:30.331344Z",
     "shell.execute_reply.started": "2022-04-11T16:35:29.609712Z"
    },
    "papermill": {
     "duration": 0.071915,
     "end_time": "2022-04-26T17:21:30.331513",
     "exception": false,
     "start_time": "2022-04-26T17:21:30.259598",
     "status": "completed"
    },
    "tags": []
   },
   "outputs": [],
   "source": [
    "# nlp = spacy.load('en_core_web_sm')\n",
    "# outpath=r'/kaggle/input/sample-pdf/D8communications.pdf'\n",
    "# doc = fitz.open(outpath)  # any supported document type\n",
    "# page_no=3\n",
    "# page = doc[page_no-1]\n",
    "\n",
    "# x1,y1,x2,y2=(72.1149,661.2966,131.95729,675.1716)\n",
    "\n",
    "# rect = [float(x1)-2, 792 - float(y2)-2, float(x2)+2, 792 - float(y1)+2]\n",
    "# print(rect)\n",
    "# labelled_text = page.get_textbox(rect)\n",
    "# string = re.sub('[^0-9a-zA-Z@?|\\/<>.,()&^%$#!]+', ' ', labelled_text)\n",
    "# print('string : ', string)\n",
    "\n",
    "# fulltext = page.get_text()\n",
    "# doc = nlp(fulltext)\n",
    "\n",
    "# sentences = []\n",
    "# for sent in doc.sents:\n",
    "#             if string.strip() in sent.text:\n",
    "#                 text = re.sub('[^0-9a-zA-Z@?|\\/<>.,()&^%$#!]+', ' ', sent.text)\n",
    "\n",
    "#         res = re.search(string.strip(), text)\n",
    "\n",
    "#         entities = []\n",
    "#         entities.append((res.start(),res.end(),label))\n",
    "\n",
    "#         train_data.append((text,{'entities':entities}))\n",
    "\n"
   ]
  },
  {
   "cell_type": "code",
   "execution_count": 14,
   "id": "2b2128da",
   "metadata": {
    "execution": {
     "iopub.execute_input": "2022-04-26T17:21:30.466467Z",
     "iopub.status.busy": "2022-04-26T17:21:30.465522Z",
     "iopub.status.idle": "2022-04-26T17:21:30.468620Z",
     "shell.execute_reply": "2022-04-26T17:21:30.469172Z",
     "shell.execute_reply.started": "2022-04-11T16:35:41.679947Z"
    },
    "papermill": {
     "duration": 0.072177,
     "end_time": "2022-04-26T17:21:30.469358",
     "exception": false,
     "start_time": "2022-04-26T17:21:30.397181",
     "status": "completed"
    },
    "tags": []
   },
   "outputs": [],
   "source": [
    "#doc"
   ]
  },
  {
   "cell_type": "code",
   "execution_count": 15,
   "id": "186b0f13",
   "metadata": {
    "execution": {
     "iopub.execute_input": "2022-04-26T17:21:30.602383Z",
     "iopub.status.busy": "2022-04-26T17:21:30.601413Z",
     "iopub.status.idle": "2022-04-26T17:21:30.604499Z",
     "shell.execute_reply": "2022-04-26T17:21:30.604971Z",
     "shell.execute_reply.started": "2022-04-11T16:35:56.010353Z"
    },
    "papermill": {
     "duration": 0.071112,
     "end_time": "2022-04-26T17:21:30.605149",
     "exception": false,
     "start_time": "2022-04-26T17:21:30.534037",
     "status": "completed"
    },
    "tags": []
   },
   "outputs": [],
   "source": [
    "# sentences = []\n",
    "# for sent in doc.sents:\n",
    "#     if string.strip() in sent.text:\n",
    "#         text = re.sub('[^0-9a-zA-Z@?|\\/<>.,()&^%$#!]+', ' ', sent.text)"
   ]
  },
  {
   "cell_type": "code",
   "execution_count": 16,
   "id": "beaa4e56",
   "metadata": {
    "execution": {
     "iopub.execute_input": "2022-04-26T17:21:30.744508Z",
     "iopub.status.busy": "2022-04-26T17:21:30.743661Z",
     "iopub.status.idle": "2022-04-26T17:21:30.746486Z",
     "shell.execute_reply": "2022-04-26T17:21:30.747015Z",
     "shell.execute_reply.started": "2022-04-11T16:39:04.736143Z"
    },
    "papermill": {
     "duration": 0.071331,
     "end_time": "2022-04-26T17:21:30.747186",
     "exception": false,
     "start_time": "2022-04-26T17:21:30.675855",
     "status": "completed"
    },
    "tags": []
   },
   "outputs": [],
   "source": [
    "# k=nlp(\"he             kenny\")\n",
    "# for sent in k.sents:\n",
    "#     print(sent)"
   ]
  },
  {
   "cell_type": "code",
   "execution_count": 17,
   "id": "e577c368",
   "metadata": {
    "execution": {
     "iopub.execute_input": "2022-04-26T17:21:30.881126Z",
     "iopub.status.busy": "2022-04-26T17:21:30.880207Z",
     "iopub.status.idle": "2022-04-26T17:21:30.883322Z",
     "shell.execute_reply": "2022-04-26T17:21:30.884028Z",
     "shell.execute_reply.started": "2022-04-11T15:09:24.391421Z"
    },
    "papermill": {
     "duration": 0.07155,
     "end_time": "2022-04-26T17:21:30.884231",
     "exception": false,
     "start_time": "2022-04-26T17:21:30.812681",
     "status": "completed"
    },
    "tags": []
   },
   "outputs": [],
   "source": [
    "# text"
   ]
  },
  {
   "cell_type": "code",
   "execution_count": 18,
   "id": "897a0fb6",
   "metadata": {
    "execution": {
     "iopub.execute_input": "2022-04-26T17:21:31.024876Z",
     "iopub.status.busy": "2022-04-26T17:21:31.024089Z",
     "iopub.status.idle": "2022-04-26T17:21:31.027504Z",
     "shell.execute_reply": "2022-04-26T17:21:31.028057Z",
     "shell.execute_reply.started": "2022-04-11T15:09:31.9599Z"
    },
    "papermill": {
     "duration": 0.071514,
     "end_time": "2022-04-26T17:21:31.028234",
     "exception": false,
     "start_time": "2022-04-26T17:21:30.956720",
     "status": "completed"
    },
    "tags": []
   },
   "outputs": [],
   "source": [
    "# res = re.search(string.strip(), text)\n",
    "# res"
   ]
  },
  {
   "cell_type": "code",
   "execution_count": 19,
   "id": "0164c87a",
   "metadata": {
    "execution": {
     "iopub.execute_input": "2022-04-26T17:21:31.162458Z",
     "iopub.status.busy": "2022-04-26T17:21:31.161818Z",
     "iopub.status.idle": "2022-04-26T17:21:31.164765Z",
     "shell.execute_reply": "2022-04-26T17:21:31.165267Z",
     "shell.execute_reply.started": "2022-04-11T15:12:41.311242Z"
    },
    "papermill": {
     "duration": 0.070492,
     "end_time": "2022-04-26T17:21:31.165437",
     "exception": false,
     "start_time": "2022-04-26T17:21:31.094945",
     "status": "completed"
    },
    "tags": []
   },
   "outputs": [],
   "source": [
    "# entities = []\n",
    "# entities.append((res.start(),res.end(),'p'))"
   ]
  },
  {
   "cell_type": "code",
   "execution_count": 20,
   "id": "4e2ecab6",
   "metadata": {
    "execution": {
     "iopub.execute_input": "2022-04-26T17:21:31.297958Z",
     "iopub.status.busy": "2022-04-26T17:21:31.297321Z",
     "iopub.status.idle": "2022-04-26T17:21:31.300289Z",
     "shell.execute_reply": "2022-04-26T17:21:31.300856Z",
     "shell.execute_reply.started": "2022-04-11T15:12:52.736619Z"
    },
    "papermill": {
     "duration": 0.07076,
     "end_time": "2022-04-26T17:21:31.301035",
     "exception": false,
     "start_time": "2022-04-26T17:21:31.230275",
     "status": "completed"
    },
    "tags": []
   },
   "outputs": [],
   "source": [
    "# entities"
   ]
  },
  {
   "cell_type": "code",
   "execution_count": 21,
   "id": "cf36c203",
   "metadata": {
    "execution": {
     "iopub.execute_input": "2022-04-26T17:21:31.435024Z",
     "iopub.status.busy": "2022-04-26T17:21:31.434393Z",
     "iopub.status.idle": "2022-04-26T17:21:31.437169Z",
     "shell.execute_reply": "2022-04-26T17:21:31.437710Z",
     "shell.execute_reply.started": "2022-04-11T15:06:11.546217Z"
    },
    "papermill": {
     "duration": 0.070729,
     "end_time": "2022-04-26T17:21:31.437876",
     "exception": false,
     "start_time": "2022-04-26T17:21:31.367147",
     "status": "completed"
    },
    "tags": []
   },
   "outputs": [],
   "source": [
    "# text"
   ]
  },
  {
   "cell_type": "code",
   "execution_count": null,
   "id": "3b4fb747",
   "metadata": {
    "execution": {
     "iopub.execute_input": "2022-04-11T15:02:33.300092Z",
     "iopub.status.busy": "2022-04-11T15:02:33.299778Z",
     "iopub.status.idle": "2022-04-11T15:02:33.30711Z",
     "shell.execute_reply": "2022-04-11T15:02:33.306345Z",
     "shell.execute_reply.started": "2022-04-11T15:02:33.300061Z"
    },
    "papermill": {
     "duration": 0.064372,
     "end_time": "2022-04-26T17:21:31.566871",
     "exception": false,
     "start_time": "2022-04-26T17:21:31.502499",
     "status": "completed"
    },
    "tags": []
   },
   "outputs": [],
   "source": []
  },
  {
   "cell_type": "code",
   "execution_count": 22,
   "id": "f9d8ff06",
   "metadata": {
    "execution": {
     "iopub.execute_input": "2022-04-26T17:21:31.701010Z",
     "iopub.status.busy": "2022-04-26T17:21:31.700361Z",
     "iopub.status.idle": "2022-04-26T17:21:31.703114Z",
     "shell.execute_reply": "2022-04-26T17:21:31.703684Z",
     "shell.execute_reply.started": "2022-04-11T16:21:02.863037Z"
    },
    "papermill": {
     "duration": 0.07231,
     "end_time": "2022-04-26T17:21:31.703866",
     "exception": false,
     "start_time": "2022-04-26T17:21:31.631556",
     "status": "completed"
    },
    "tags": []
   },
   "outputs": [],
   "source": [
    "# import spacy\n",
    "# nlp = spacy.load('en_core_web_sm')"
   ]
  },
  {
   "cell_type": "code",
   "execution_count": 23,
   "id": "05b10489",
   "metadata": {
    "execution": {
     "iopub.execute_input": "2022-04-26T17:21:31.836435Z",
     "iopub.status.busy": "2022-04-26T17:21:31.835810Z",
     "iopub.status.idle": "2022-04-26T17:21:31.839041Z",
     "shell.execute_reply": "2022-04-26T17:21:31.839592Z",
     "shell.execute_reply.started": "2022-04-09T12:19:47.776612Z"
    },
    "papermill": {
     "duration": 0.071124,
     "end_time": "2022-04-26T17:21:31.839788",
     "exception": false,
     "start_time": "2022-04-26T17:21:31.768664",
     "status": "completed"
    },
    "tags": []
   },
   "outputs": [],
   "source": [
    "# !pip install PyPDF2\n",
    "# import PyPDF2\n",
    "# fhandle = open(r'/kaggle/input/sample-pdf/D8communications.pdf', 'rb')\n",
    "# pdfReader = PyPDF2.PdfFileReader(fhandle)\n",
    "# pagehandle = pdfReader.getPage(4)\n",
    "# print(pagehandle.extractText())"
   ]
  },
  {
   "cell_type": "code",
   "execution_count": 24,
   "id": "63abb612",
   "metadata": {
    "execution": {
     "iopub.execute_input": "2022-04-26T17:21:31.972847Z",
     "iopub.status.busy": "2022-04-26T17:21:31.972078Z",
     "iopub.status.idle": "2022-04-26T17:21:31.974715Z",
     "shell.execute_reply": "2022-04-26T17:21:31.975277Z",
     "shell.execute_reply.started": "2022-04-09T12:25:37.701467Z"
    },
    "papermill": {
     "duration": 0.070737,
     "end_time": "2022-04-26T17:21:31.975452",
     "exception": false,
     "start_time": "2022-04-26T17:21:31.904715",
     "status": "completed"
    },
    "tags": []
   },
   "outputs": [],
   "source": [
    "# !pip install pdfplumber\n",
    "# import pdfplumber\n",
    "# with pdfplumber.open(r'/kaggle/input/sample-pdf/D8communications.pdf') as pdf:\n",
    "#     first_page = pdf.pages[3]\n",
    "#     print(first_page.extract_text())"
   ]
  },
  {
   "cell_type": "code",
   "execution_count": 25,
   "id": "f8653f31",
   "metadata": {
    "execution": {
     "iopub.execute_input": "2022-04-26T17:21:32.112748Z",
     "iopub.status.busy": "2022-04-26T17:21:32.111977Z",
     "iopub.status.idle": "2022-04-26T17:21:32.115306Z",
     "shell.execute_reply": "2022-04-26T17:21:32.115955Z",
     "shell.execute_reply.started": "2022-04-09T12:25:49.584635Z"
    },
    "papermill": {
     "duration": 0.073849,
     "end_time": "2022-04-26T17:21:32.116137",
     "exception": false,
     "start_time": "2022-04-26T17:21:32.042288",
     "status": "completed"
    },
    "tags": []
   },
   "outputs": [],
   "source": [
    "# !pip install pytesseract"
   ]
  },
  {
   "cell_type": "code",
   "execution_count": 26,
   "id": "3b5ee5b6",
   "metadata": {
    "execution": {
     "iopub.execute_input": "2022-04-26T17:21:32.248851Z",
     "iopub.status.busy": "2022-04-26T17:21:32.248205Z",
     "iopub.status.idle": "2022-04-26T17:21:32.251095Z",
     "shell.execute_reply": "2022-04-26T17:21:32.251690Z",
     "shell.execute_reply.started": "2022-04-09T14:49:10.656812Z"
    },
    "papermill": {
     "duration": 0.070762,
     "end_time": "2022-04-26T17:21:32.251864",
     "exception": false,
     "start_time": "2022-04-26T17:21:32.181102",
     "status": "completed"
    },
    "tags": []
   },
   "outputs": [],
   "source": [
    "# #!pip install pdf2image\n",
    "# !pip install poppler"
   ]
  },
  {
   "cell_type": "code",
   "execution_count": 27,
   "id": "8eb10aaa",
   "metadata": {
    "execution": {
     "iopub.execute_input": "2022-04-26T17:21:32.384859Z",
     "iopub.status.busy": "2022-04-26T17:21:32.384219Z",
     "iopub.status.idle": "2022-04-26T17:21:32.387215Z",
     "shell.execute_reply": "2022-04-26T17:21:32.387765Z",
     "shell.execute_reply.started": "2022-04-09T14:57:24.756677Z"
    },
    "papermill": {
     "duration": 0.071431,
     "end_time": "2022-04-26T17:21:32.387935",
     "exception": false,
     "start_time": "2022-04-26T17:21:32.316504",
     "status": "completed"
    },
    "tags": []
   },
   "outputs": [],
   "source": [
    "# pdf2image.convert_from_path('/kaggle/input/sample-pdf/D8communications.pdf')"
   ]
  },
  {
   "cell_type": "code",
   "execution_count": 28,
   "id": "a34e95a3",
   "metadata": {
    "execution": {
     "iopub.execute_input": "2022-04-26T17:21:32.522102Z",
     "iopub.status.busy": "2022-04-26T17:21:32.521401Z",
     "iopub.status.idle": "2022-04-26T17:21:32.524042Z",
     "shell.execute_reply": "2022-04-26T17:21:32.524478Z",
     "shell.execute_reply.started": "2022-04-09T14:57:17.576149Z"
    },
    "papermill": {
     "duration": 0.072277,
     "end_time": "2022-04-26T17:21:32.524671",
     "exception": false,
     "start_time": "2022-04-26T17:21:32.452394",
     "status": "completed"
    },
    "tags": []
   },
   "outputs": [],
   "source": [
    "# import pdf2image\n",
    "# try:\n",
    "#     from PIL import Image\n",
    "# except ImportError:\n",
    "#     import Image\n",
    "# import pytesseract\n",
    "\n",
    "\n",
    "# def pdf_to_img(pdf_file):\n",
    "#     return pdf2image.convert_from_path(pdf_file)\n",
    "\n",
    "\n",
    "# def ocr_core(file):\n",
    "#     text = pytesseract.image_to_string(file)\n",
    "#     return text\n",
    "\n",
    "\n",
    "# def print_pages(pdf_file):\n",
    "#     images = pdf_to_img(pdf_file)\n",
    "#     for pg, img in enumerate(images):\n",
    "#         print(ocr_core(img))\n",
    "\n",
    "\n",
    "# print_pages('/kaggle/input/sample-pdf/D8communications.pdf')\n"
   ]
  },
  {
   "cell_type": "code",
   "execution_count": 29,
   "id": "4b2871fc",
   "metadata": {
    "execution": {
     "iopub.execute_input": "2022-04-26T17:21:32.657942Z",
     "iopub.status.busy": "2022-04-26T17:21:32.657303Z",
     "iopub.status.idle": "2022-04-26T17:21:32.659604Z",
     "shell.execute_reply": "2022-04-26T17:21:32.660149Z"
    },
    "papermill": {
     "duration": 0.071249,
     "end_time": "2022-04-26T17:21:32.660313",
     "exception": false,
     "start_time": "2022-04-26T17:21:32.589064",
     "status": "completed"
    },
    "tags": []
   },
   "outputs": [],
   "source": [
    "# import requests\n",
    "# import fitz\n",
    "# import io\n",
    "\n",
    "# #URL = 'https://buildmedia.readthedocs.org/media/pdf/pdfminer-docs/latest/pdfminer-docs.pdf'\n",
    "# URL = 'https://redactable-devox-stage.s3.us-east-2.amazonaws.com/tenants/41d9e109-693b-444c-aa18-e5891bc6550b/original/1a7c0e5d-3237-4ca9-9e3d-89e707245ac6/D8communications.pdf'\n",
    "\n",
    "\n",
    "# res = requests.get(URL)\n",
    "# filestream = io.BytesIO(res.content)\n",
    "# #res.content\n",
    "# filestream\n",
    "# doc = fitz.Document(stream=filestream)\n",
    "# page1 = doc.loadPage(3)\n",
    "# page1text = page1.getText(\"text\").encode(\"utf-8\").decode(\"utf-8\")\n",
    "# print(page1text)"
   ]
  },
  {
   "cell_type": "code",
   "execution_count": 30,
   "id": "9b1eb7f6",
   "metadata": {
    "execution": {
     "iopub.execute_input": "2022-04-26T17:21:32.794459Z",
     "iopub.status.busy": "2022-04-26T17:21:32.793780Z",
     "iopub.status.idle": "2022-04-26T17:21:32.797062Z",
     "shell.execute_reply": "2022-04-26T17:21:32.796532Z",
     "shell.execute_reply.started": "2022-04-09T07:04:56.590103Z"
    },
    "papermill": {
     "duration": 0.072454,
     "end_time": "2022-04-26T17:21:32.797232",
     "exception": false,
     "start_time": "2022-04-26T17:21:32.724778",
     "status": "completed"
    },
    "tags": []
   },
   "outputs": [],
   "source": [
    "# import requests\n",
    "# import fitz\n",
    "\n",
    "# #URL = 'https://buildmedia.readthedocs.org/media/pdf/pdfminer-docs/latest/pdfminer-docs.pdf'\n",
    "# URL = 'https://redactable-devox-stage.s3.us-east-2.amazonaws.com/tenants/41d9e109-693b-444c-aa18-e5891bc6550b/original/1a7c0e5d-3237-4ca9-9e3d-89e707245ac6/D8communications.pdf'\n",
    "\n",
    "\n",
    "# res = requests.get(URL)\n",
    "# doc = fitz.open(stream=res.content,filetype=\"pdf\")\n",
    "# page1 = doc.loadPage(3)\n",
    "# page1text = page1.getText(\"text\")\n",
    "# #rect = (72.1149,661.2966,131.95729,675.1716)\n",
    "# rect=(72.10812377929688, 116.13427734375, 133.97142028808594, 146.4227294921875)\n",
    "# labelled_text = page1.get_textbox(rect)\n",
    "# print(labelled_text.strip())\n",
    "\n",
    "# fulltext = page1.get_text()\n",
    "# print(fulltext)\n",
    "# doc = nlp(fulltext)\n",
    "# sentences = []\n",
    "# for sent in doc.sents:\n",
    "#     if labelled_text in sent.text:\n",
    "#         text = sent.text\n",
    "#         print(text)\n",
    "# #print(page1text)"
   ]
  },
  {
   "cell_type": "code",
   "execution_count": 31,
   "id": "8e9d3e57",
   "metadata": {
    "execution": {
     "iopub.execute_input": "2022-04-26T17:21:32.931810Z",
     "iopub.status.busy": "2022-04-26T17:21:32.931063Z",
     "iopub.status.idle": "2022-04-26T17:21:32.933911Z",
     "shell.execute_reply": "2022-04-26T17:21:32.933383Z",
     "shell.execute_reply.started": "2022-04-08T16:42:57.6659Z"
    },
    "papermill": {
     "duration": 0.071858,
     "end_time": "2022-04-26T17:21:32.934089",
     "exception": false,
     "start_time": "2022-04-26T17:21:32.862231",
     "status": "completed"
    },
    "tags": []
   },
   "outputs": [],
   "source": [
    "#res.content"
   ]
  },
  {
   "cell_type": "code",
   "execution_count": 32,
   "id": "d123a8df",
   "metadata": {
    "execution": {
     "iopub.execute_input": "2022-04-26T17:21:33.092326Z",
     "iopub.status.busy": "2022-04-26T17:21:33.091339Z",
     "iopub.status.idle": "2022-04-26T17:21:33.093879Z",
     "shell.execute_reply": "2022-04-26T17:21:33.093221Z",
     "shell.execute_reply.started": "2022-04-08T16:48:05.672392Z"
    },
    "papermill": {
     "duration": 0.093312,
     "end_time": "2022-04-26T17:21:33.094029",
     "exception": false,
     "start_time": "2022-04-26T17:21:33.000717",
     "status": "completed"
    },
    "tags": []
   },
   "outputs": [],
   "source": [
    "# import fitz\n",
    "# # mem_area=\n",
    "# # doc = fitz.open(stream=mem_area, filetype=\"pdf\")\n",
    "\n",
    "# import requests\n",
    "\n",
    "# URL = 'https://redactable-devox-stage.s3.us-east-2.amazonaws.com/tenants/41d9e109-693b-444c-aa18-e5891bc6550b/original/1a7c0e5d-3237-4ca9-9e3d-89e707245ac6/D8communications.pdf'\n",
    "\n",
    "# #res = requests.get(URL)\n",
    "# doc=fitz.open(\"/kaggle/input/sample-pdf/D8communications.pdf\")\n",
    "# #doc = fitz.open(stream=res.content,filetype=\"pdf\")\n",
    "# page1 = doc.loadPage(4)\n",
    "# # page1text = page1.getText(\"text\")\n",
    "# # print(page1text)\n",
    "# blocks = page1.getText(\"blocks\")\n",
    "# blocks.sort(key=lambda block: block[1])  # sort vertically ascending\n",
    "\n",
    "# for b in blocks:\n",
    "#     print(b[4])\n"
   ]
  },
  {
   "cell_type": "code",
   "execution_count": 33,
   "id": "3ec17f40",
   "metadata": {
    "execution": {
     "iopub.execute_input": "2022-04-26T17:21:33.235268Z",
     "iopub.status.busy": "2022-04-26T17:21:33.234531Z",
     "iopub.status.idle": "2022-04-26T17:21:33.237604Z",
     "shell.execute_reply": "2022-04-26T17:21:33.237049Z",
     "shell.execute_reply.started": "2022-04-08T16:48:13.086323Z"
    },
    "papermill": {
     "duration": 0.07377,
     "end_time": "2022-04-26T17:21:33.237773",
     "exception": false,
     "start_time": "2022-04-26T17:21:33.164003",
     "status": "completed"
    },
    "tags": []
   },
   "outputs": [],
   "source": [
    "# # page = doc[1]\n",
    "# words = page.get_text(\"words\")\n",
    "# #print(words)\n",
    "# rect = (72.1149,661.2966,131.95729,675.1716)\n",
    "\n",
    "# labelled_text = page.get_textbox(rect)\n",
    "# # labelled_text"
   ]
  },
  {
   "cell_type": "markdown",
   "id": "d9abbf32",
   "metadata": {
    "papermill": {
     "duration": 0.064464,
     "end_time": "2022-04-26T17:21:33.368906",
     "exception": false,
     "start_time": "2022-04-26T17:21:33.304442",
     "status": "completed"
    },
    "tags": []
   },
   "source": [
    "pip install PyPDF2"
   ]
  },
  {
   "cell_type": "code",
   "execution_count": null,
   "id": "cc2b1bc3",
   "metadata": {
    "papermill": {
     "duration": 0.064217,
     "end_time": "2022-04-26T17:21:33.498612",
     "exception": false,
     "start_time": "2022-04-26T17:21:33.434395",
     "status": "completed"
    },
    "tags": []
   },
   "outputs": [],
   "source": []
  },
  {
   "cell_type": "code",
   "execution_count": 34,
   "id": "f14789e9",
   "metadata": {
    "execution": {
     "iopub.execute_input": "2022-04-26T17:21:33.631703Z",
     "iopub.status.busy": "2022-04-26T17:21:33.630975Z",
     "iopub.status.idle": "2022-04-26T17:21:33.633983Z",
     "shell.execute_reply": "2022-04-26T17:21:33.633462Z",
     "shell.execute_reply.started": "2022-03-18T16:48:58.370268Z"
    },
    "papermill": {
     "duration": 0.071171,
     "end_time": "2022-04-26T17:21:33.634154",
     "exception": false,
     "start_time": "2022-04-26T17:21:33.562983",
     "status": "completed"
    },
    "tags": []
   },
   "outputs": [],
   "source": [
    "# import pandas as pd\n",
    "# h={'step': 0, 'type': 'string', 'amount': 0.0, 'nameOrig': 'C1231006815', 'oldbalanceOrig': 0.0, 'newbalanceOrig': 0.0, 'nameDest': 'M1979787155', 'oldbalanceDest': 0.0, 'newbalanceDest': 0.0}\n",
    "# df=pd.DataFrame([h])"
   ]
  },
  {
   "cell_type": "code",
   "execution_count": 35,
   "id": "53b2f0d1",
   "metadata": {
    "execution": {
     "iopub.execute_input": "2022-04-26T17:21:33.768200Z",
     "iopub.status.busy": "2022-04-26T17:21:33.767511Z",
     "iopub.status.idle": "2022-04-26T17:21:33.770415Z",
     "shell.execute_reply": "2022-04-26T17:21:33.769919Z",
     "shell.execute_reply.started": "2022-04-09T17:21:26.021615Z"
    },
    "papermill": {
     "duration": 0.071405,
     "end_time": "2022-04-26T17:21:33.770558",
     "exception": false,
     "start_time": "2022-04-26T17:21:33.699153",
     "status": "completed"
    },
    "tags": []
   },
   "outputs": [],
   "source": [
    "#df"
   ]
  },
  {
   "cell_type": "code",
   "execution_count": null,
   "id": "a1af9d77",
   "metadata": {
    "papermill": {
     "duration": 0.064385,
     "end_time": "2022-04-26T17:21:33.900187",
     "exception": false,
     "start_time": "2022-04-26T17:21:33.835802",
     "status": "completed"
    },
    "tags": []
   },
   "outputs": [],
   "source": []
  }
 ],
 "metadata": {
  "kernelspec": {
   "display_name": "Python 3",
   "language": "python",
   "name": "python3"
  },
  "language_info": {
   "codemirror_mode": {
    "name": "ipython",
    "version": 3
   },
   "file_extension": ".py",
   "mimetype": "text/x-python",
   "name": "python",
   "nbconvert_exporter": "python",
   "pygments_lexer": "ipython3",
   "version": "3.7.12"
  },
  "papermill": {
   "default_parameters": {},
   "duration": 22.059141,
   "end_time": "2022-04-26T17:21:34.575130",
   "environment_variables": {},
   "exception": null,
   "input_path": "__notebook__.ipynb",
   "output_path": "__notebook__.ipynb",
   "parameters": {},
   "start_time": "2022-04-26T17:21:12.515989",
   "version": "2.3.3"
  }
 },
 "nbformat": 4,
 "nbformat_minor": 5
}
