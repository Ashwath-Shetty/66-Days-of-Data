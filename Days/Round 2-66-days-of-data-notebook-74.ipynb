{
 "cells": [
  {
   "cell_type": "code",
   "execution_count": 1,
   "id": "091144a6",
   "metadata": {
    "_cell_guid": "b1076dfc-b9ad-4769-8c92-a6c4dae69d19",
    "_uuid": "8f2839f25d086af736a60e9eeb907d3b93b6e0e5",
    "execution": {
     "iopub.execute_input": "2022-05-23T16:56:02.541739Z",
     "iopub.status.busy": "2022-05-23T16:56:02.539907Z",
     "iopub.status.idle": "2022-05-23T16:56:02.558558Z",
     "shell.execute_reply": "2022-05-23T16:56:02.559073Z",
     "shell.execute_reply.started": "2022-04-12T14:12:25.248687Z"
    },
    "papermill": {
     "duration": 0.098064,
     "end_time": "2022-05-23T16:56:02.559529",
     "exception": false,
     "start_time": "2022-05-23T16:56:02.461465",
     "status": "completed"
    },
    "tags": []
   },
   "outputs": [
    {
     "name": "stdout",
     "output_type": "stream",
     "text": [
      "/kaggle/input/sample-pdf/D8communications.pdf\n"
     ]
    }
   ],
   "source": [
    "# This Python 3 environment comes with many helpful analytics libraries installed\n",
    "# It is defined by the kaggle/python Docker image: https://github.com/kaggle/docker-python\n",
    "# For example, here's several helpful packages to load\n",
    "\n",
    "import numpy as np # linear algebra\n",
    "import pandas as pd # data processing, CSV file I/O (e.g. pd.read_csv)\n",
    "\n",
    "# Input data files are available in the read-only \"../input/\" directory\n",
    "# For example, running this (by clicking run or pressing Shift+Enter) will list all files under the input directory\n",
    "\n",
    "import os\n",
    "for dirname, _, filenames in os.walk('/kaggle/input'):\n",
    "    for filename in filenames:\n",
    "        print(os.path.join(dirname, filename))\n",
    "\n",
    "# You can write up to 20GB to the current directory (/kaggle/working/) that gets preserved as output when you create a version using \"Save & Run All\" \n",
    "# You can also write temporary files to /kaggle/temp/, but they won't be saved outside of the current session"
   ]
  },
  {
   "cell_type": "markdown",
   "id": "d9f91aff",
   "metadata": {
    "papermill": {
     "duration": 0.068322,
     "end_time": "2022-05-23T16:56:02.697693",
     "exception": false,
     "start_time": "2022-05-23T16:56:02.629371",
     "status": "completed"
    },
    "tags": []
   },
   "source": [
    "# **Start Date: 12/3/2022**"
   ]
  },
  {
   "cell_type": "markdown",
   "id": "108f7c4b",
   "metadata": {
    "papermill": {
     "duration": 0.068964,
     "end_time": "2022-05-23T16:56:02.835425",
     "exception": false,
     "start_time": "2022-05-23T16:56:02.766461",
     "status": "completed"
    },
    "tags": []
   },
   "source": [
    "# **Day 1:** \n",
    "<br>dataquest -> stats -> probability-> estimating probability\n",
    "1. out come is nothing but o/p of an experiment\n",
    "ex: whatever u get after rolling a dice -> it can be any number\n",
    "2. event can have more than one outcome\n",
    "- e.x: The event that we'll get an odd number when we roll a six-sided die — this event includes the outcomes 1, 3, and 5.\n",
    "- an event can be 0 as well.\n",
    "- We always assign probabilities to events, not outcomes, even if the event includes only one outcome.\n",
    "- P(E) =1/total number of possible outcomes, P(E) probability of an event happening.\n",
    "- but above formula doesn't work always, especially when there are more than one outcome\n",
    "    - P(E)=number of successful outcomes/total number of possible outcomes\n",
    "- incase of a biased situation \n",
    "  - let's say a die has 6 - 3 times which is 1,6,3,5,6,6\n",
    "    we will consider 6 as 3 times not 1.\n",
    "    possible outcome-> 1,3,5,6,6,6\n",
    "    prob(6)=3/6\n",
    "    prob(3)=1/6\n",
    "    prob(2)=0/6\n",
    "    If we didn't treat each 6 differently and said it doesn't matter which side a 6 is on, \n",
    "    <br>we'd be forced to conclude the only possible outcomes are 1, 3, 5 and 6. We can definitely         <br>frame the problem like that, but the formula above won't work anymore — we see below P(6) <br>becomes the same as P(3), but, intuitively, P(6) should be higher than P(3) since the die has 6 on     <br>three of its sides:\n"
   ]
  },
  {
   "cell_type": "markdown",
   "id": "2ed8134a",
   "metadata": {
    "papermill": {
     "duration": 0.068702,
     "end_time": "2022-05-23T16:56:02.974763",
     "exception": false,
     "start_time": "2022-05-23T16:56:02.906061",
     "status": "completed"
    },
    "tags": []
   },
   "source": [
    "Estimating Probabilities Conclusion\n",
    "- emperical/ experimental probability\n",
    "  - probability achieved by experimenting / by doing the same event multiple times.\n",
    "  - Generally, for any event E (like a coin landing heads up), we can find its empirical probability   \n",
    "     by using the following formula: \n",
    "     •P (E) =number of times event E happened/ number of times we repeated the experiment   \n",
    " - Generally, the empirical probability of an event (a coin landing heads up, getting a 5 when weroll a die) approaches the true probability value as the number of trials of the randomexperiment (a coin toss, the rolling of a die) increases without bound.\n",
    "- When we calculate the probability of an event under the assumption that the outcomes have equal chances of occurring, we say that we're calculating the **theoretical probability** of an event.\n",
    "   - P(E)=number of successful outcomes/total number of possible outcomes\n",
    "\n"
   ]
  },
  {
   "cell_type": "markdown",
   "id": "fb2facb6",
   "metadata": {
    "papermill": {
     "duration": 0.070412,
     "end_time": "2022-05-23T16:56:03.113306",
     "exception": false,
     "start_time": "2022-05-23T16:56:03.042894",
     "status": "completed"
    },
    "tags": []
   },
   "source": [
    "# **Day 2**\n",
    "<br>dataquest-> stats -> intro to probability -> probability rules\n",
    "<br>In probability theory, the set of all possible outcomes is called a sample space. A sample space is often denoted by the capital Greek letter Ω (read \"omega\"). This is how we represent the sample space of a die roll:\n",
    "\n",
    "Ω = {1,2,3,4,5,6}\n",
    "-    The probability of any event ranges between 0 and 1: 0≤ P(Event) ≤1\n",
    "- To calculate P(A or B), we can also use the formula below, which is sometimes called the addition rule: P(A or B) = P(A) + P(B)\n",
    "  - Sample space ={ 1,2,3,4,5,6} \n",
    "  - P(2 or 5) = 2/6\n",
    "\n",
    "- P(C or D) = P(C) + P(D) - P(C and D)\n",
    "   - e.x : Sample_space ={2,4,6} + { 4,5,6} - {4/6}\n",
    "      P( even number or number greater than 3) = ( (3/6) + (3/6) )- (2/6) = 4/6\n",
    "- Events that don't intersect are called mutually exclusive.\n",
    "  - e.x: Getting a 5 (event one) and getting a 3 (event two) when we roll a regular six-sided die — it's  impossible to get both a 5 and 3.\n",
    "- Events that intersect are called mutually non-exclusive.\n",
    "  - Getting a number greater than 2 (event one) and getting an odd number (event two) when we roll a regular six-sided die — we could get a 5, which is both greater than 2 (event one) and odd (event two).\n",
    "- unioun -> A or B, intersection -> A and B"
   ]
  },
  {
   "cell_type": "markdown",
   "id": "a3242184",
   "metadata": {
    "papermill": {
     "duration": 0.068247,
     "end_time": "2022-05-23T16:56:03.251127",
     "exception": false,
     "start_time": "2022-05-23T16:56:03.182880",
     "status": "completed"
    },
    "tags": []
   },
   "source": [
    "# Day 3 and 4\n",
    "dataquest -> stats -> probabilities -> solving complex probabilities\n",
    "- This is the same result we got from our previous approach. In more general terms, the multiplication rule says that for two events E1 and E2, the probability that both event E1 and E2 happen can be found by multiplying the probability of E1 by the probability of E2:\n",
    "    - P(E1 ∩ E2) = P(E1) × P(E2)\n",
    "    - Events that don't influence each other's probability are called independent events. If H1 happens, P(H2) stays the same, so H1 and H2 are independent. The multiplication rule we learned only works for independent events.\n",
    "    "
   ]
  },
  {
   "cell_type": "markdown",
   "id": "62d71ecf",
   "metadata": {
    "papermill": {
     "duration": 0.068383,
     "end_time": "2022-05-23T16:56:03.388289",
     "exception": false,
     "start_time": "2022-05-23T16:56:03.319906",
     "status": "completed"
    },
    "tags": []
   },
   "source": [
    "# Day 5\n",
    "- When we replace the cards after drawing, we say that we're sampling with replacement. When we don't put the cards back, we're sampling without replacement. \n"
   ]
  },
  {
   "cell_type": "markdown",
   "id": "06a7ff2f",
   "metadata": {
    "papermill": {
     "duration": 0.068831,
     "end_time": "2022-05-23T16:56:03.527671",
     "exception": false,
     "start_time": "2022-05-23T16:56:03.458840",
     "status": "completed"
    },
    "tags": []
   },
   "source": [
    "# Day6\n",
    "dataquest-> prob and stats -> probability fundamentals -> permutation and combinations\n",
    "Generally, if we have an experiment E1 (like flipping a coin) with a outcomes, followed by an experiment E2 (like rolling a die) with b outcomes, then the total number of outcomes for the composite experiment E1E2 can be found by multiplying a with b:\n",
    "\n",
    "Number of outcomes = a * b"
   ]
  },
  {
   "cell_type": "markdown",
   "id": "be47f07f",
   "metadata": {
    "papermill": {
     "duration": 0.068083,
     "end_time": "2022-05-23T16:56:03.667183",
     "exception": false,
     "start_time": "2022-05-23T16:56:03.599100",
     "status": "completed"
    },
    "tags": []
   },
   "source": [
    "# Day 7\n",
    "dataquest-> prob and stats -> probability fundamentals -> permutation and combinations <br>\n",
    "More generally, if we have an experiment E1 with a outcomes, followed by an experiment E2 with b outcomes, followed by an experiment En with z outcomes, the total number of outcomes for the composite experiment E1E2 ... En can be found by multiplying their individual outcomes:\n",
    "\n",
    "Number of outcomes= a * b * … * z"
   ]
  },
  {
   "cell_type": "markdown",
   "id": "7293b68c",
   "metadata": {
    "papermill": {
     "duration": 0.067761,
     "end_time": "2022-05-23T16:56:03.803871",
     "exception": false,
     "start_time": "2022-05-23T16:56:03.736110",
     "status": "completed"
    },
    "tags": []
   },
   "source": [
    "# Day 8\n",
    "dataquest-> prob and stats -> probability fundamentals -> permutation and combinations <br>\n",
    "permutations= n*(n-1)*(n-2)*....*2*1\n"
   ]
  },
  {
   "cell_type": "markdown",
   "id": "e00ae60e",
   "metadata": {
    "papermill": {
     "duration": 0.069012,
     "end_time": "2022-05-23T16:56:03.943795",
     "exception": false,
     "start_time": "2022-05-23T16:56:03.874783",
     "status": "completed"
    },
    "tags": []
   },
   "source": [
    "# Day 9\n",
    "dataquest-> prob and stats -> probability fundamentals -> permutation and combinations\n",
    "- in permutation order of the individual element in the arranement matters.\n",
    "   - for e.x: 9821 is different than 9281\n",
    "   - Permutations =n!  --> sample without replacement-> we are not putting back the sampled data.\n",
    "   - On the last screen, we learned to use the formula below to calculate permutations when we're sampling without replacement and taking only k objects from a group of n objects:\n",
    "   npk=n!/(n-k)!"
   ]
  },
  {
   "cell_type": "markdown",
   "id": "3e0c716f",
   "metadata": {
    "papermill": {
     "duration": 0.074436,
     "end_time": "2022-05-23T16:56:04.087481",
     "exception": false,
     "start_time": "2022-05-23T16:56:04.013045",
     "status": "completed"
    },
    "tags": []
   },
   "source": [
    "# Day 10\n",
    "dataquest-> prob and stats -> probability fundamentals -> permutation and combinations\n",
    "- More generally, if the order of the elements in an arrangement doesn't matter, the arrangement is called a combination.\n",
    "- e.x: cards in a deck \n",
    "- nCk = n! / ((n-k)!*k!)"
   ]
  },
  {
   "cell_type": "markdown",
   "id": "fbd7a57e",
   "metadata": {
    "papermill": {
     "duration": 0.069848,
     "end_time": "2022-05-23T16:56:04.226515",
     "exception": false,
     "start_time": "2022-05-23T16:56:04.156667",
     "status": "completed"
    },
    "tags": []
   },
   "source": [
    "# Day 11\n",
    "dataquest-> prob and stats -> probability fundamentals -> permutation and combinations\n",
    "- solved 1 probability problem.\n"
   ]
  },
  {
   "cell_type": "markdown",
   "id": "bd97055e",
   "metadata": {
    "papermill": {
     "duration": 0.067961,
     "end_time": "2022-05-23T16:56:04.364607",
     "exception": false,
     "start_time": "2022-05-23T16:56:04.296646",
     "status": "completed"
    },
    "tags": []
   },
   "source": [
    "# Day 12\n",
    "dataquest-> prob and stats -> probability fundamentals -> permutation and combinations\n",
    "- finished probability and permutations by revising them.\n",
    "- If we have an experiment E1 (like flipping a coin) with a outcomes, followed by an experiment E2(like rolling a die) with b outcomes, then the total number of outcomes for the compositeexperiment E1E2 can be found by multiplying a with b (this is known as the rule of product):\n",
    "  - number of outcomes = a*b\n",
    "- If we have an experiment E1 with a outcomes, followed by an experiment E2 with b outcomes,followed by an experiment En with z outcomes, the total number of outcomes for the compositeexperiment E1E2 ... En can be found by multiplying their individual outcomes:\n",
    "   - number of outcomes = a*b* ... *z\n",
    "- There are two kinds of arrangements:\n",
    "   - •Arrangements where the order matters, which we call permutations.\n",
    "   - •Arrangements where the order doesn't matter, which we call combination\n",
    "- To find the number of permutations when we're sampling without replacement, we can use theformula:\n",
    "  - permutation = n!\n",
    "- To find the number of permutations when we're sampling without replacement and taking only kobjects from a group of n objects, we can use the formula:\n",
    "  - nPk = n!/(n-k)!\n",
    "- To find the number of combinations when we're sampling without replacement and taking only kobjects from a group of n objects, we can use the formula\n",
    "  - nCk = n! / ((n-k)!*k!)"
   ]
  },
  {
   "cell_type": "markdown",
   "id": "48cf39ba",
   "metadata": {
    "papermill": {
     "duration": 0.06921,
     "end_time": "2022-05-23T16:56:04.502527",
     "exception": false,
     "start_time": "2022-05-23T16:56:04.433317",
     "status": "completed"
    },
    "tags": []
   },
   "source": [
    "# Day 13\n",
    "dataquest-> prob and stats -> probability fundamentals -> conditional probabilities\n",
    "- first 2 slides -> mainly the recap of old chapter(above one).\n"
   ]
  },
  {
   "cell_type": "markdown",
   "id": "b6b0845b",
   "metadata": {
    "papermill": {
     "duration": 0.068195,
     "end_time": "2022-05-23T16:56:04.640806",
     "exception": false,
     "start_time": "2022-05-23T16:56:04.572611",
     "status": "completed"
    },
    "tags": []
   },
   "source": [
    "# Day 14\n",
    "dataquest-> prob and stats -> probability fundamentals -> conditional probabilities\n",
    "<br>slide 4 completed\n",
    "<br>conditional probabilities\n",
    "- probabilities with condition\n",
    "- P(5)=What is the probability of getting a 5? -> normal probability\n",
    "- P(5 | odd) =What is the probability of getting a 5 given the die showed an odd number? -> conditional prob.\n",
    "\n"
   ]
  },
  {
   "cell_type": "markdown",
   "id": "52a3c737",
   "metadata": {
    "papermill": {
     "duration": 0.06976,
     "end_time": "2022-05-23T16:56:04.780309",
     "exception": false,
     "start_time": "2022-05-23T16:56:04.710549",
     "status": "completed"
    },
    "tags": []
   },
   "source": [
    "# Day 15\n",
    "dataquest-> prob and stats -> probability fundamentals -> conditional probabilities\n",
    "- on slide 5 not done yet.\n",
    "\n",
    "Say we roll a fair six-sided die and want to find the probability of getting an odd number, given the die showed a number greater than 1 after landing. Using probability notation, we want to find P(A|B) where:\n",
    "\n",
    "- A is the event that the number is odd: A = {1, 3, 5}\n",
    "- B is the event that the number is greater than 1: B = {2, 3, 4, 5, 6}\n",
    "- P(A/B)=number of succesfull outcomes / total number of outcomes.\n"
   ]
  },
  {
   "cell_type": "markdown",
   "id": "85a9ed86",
   "metadata": {
    "papermill": {
     "duration": 0.069975,
     "end_time": "2022-05-23T16:56:04.918891",
     "exception": false,
     "start_time": "2022-05-23T16:56:04.848916",
     "status": "completed"
    },
    "tags": []
   },
   "source": [
    "# Day 16 and 17\n",
    "dataquest-> prob and stats -> probability fundamentals -> conditional probabilities\n",
    "\n",
    "on slide 6 not done yet."
   ]
  },
  {
   "cell_type": "markdown",
   "id": "f121613b",
   "metadata": {
    "papermill": {
     "duration": 0.071009,
     "end_time": "2022-05-23T16:56:05.060249",
     "exception": false,
     "start_time": "2022-05-23T16:56:04.989240",
     "status": "completed"
    },
    "tags": []
   },
   "source": [
    "# Day 18\n",
    "dataquest-> prob and stats -> probability fundamentals -> conditional probabilities\n",
    "<br>slide 5 code half done"
   ]
  },
  {
   "cell_type": "markdown",
   "id": "7b6fc069",
   "metadata": {
    "papermill": {
     "duration": 0.069569,
     "end_time": "2022-05-23T16:56:05.198296",
     "exception": false,
     "start_time": "2022-05-23T16:56:05.128727",
     "status": "completed"
    },
    "tags": []
   },
   "source": [
    "# Day 19\n",
    "- The number of elements in a set is called the cardinal of the set. \n",
    "  Ω is a set, and the cardinal of \n",
    "   Ω = { 2,3,4,5,6}\n",
    "   cardinal(Ω)=5\n",
    "- P(A | B) = card(A ∩ B) / card(B)\n",
    "- Say we roll a fair six-sided die and want to find the probability of getting an odd number, given the die showed a number greater than 1 after landing. Using probability notation, we want to find P(A|B) where:\n",
    "    - A is the event that the number is odd: A = {1, 3, 5}\n",
    "     - B is the event that the number is greater than 1: B = {2, 3, 4, 5, 6}\n",
    "     - total number of possible outcomes = card({2,3,4,5,6}) =5\n",
    "     - number of successful outcomes = card({3,5})= 2\n",
    "- P(A | B) = card(A ∩ B) / card(B), we can also get the same result using P(A | B) = prob(A ∩ B) / prob(B)\n",
    "\n",
    "     "
   ]
  },
  {
   "cell_type": "markdown",
   "id": "17d9aef8",
   "metadata": {
    "papermill": {
     "duration": 0.067769,
     "end_time": "2022-05-23T16:56:05.334721",
     "exception": false,
     "start_time": "2022-05-23T16:56:05.266952",
     "status": "completed"
    },
    "tags": []
   },
   "source": [
    "# Day 20\n",
    "dataquest-> prob and stats -> probability fundamentals -> conditional probabilities intermediate\n",
    "<br> slide 1 and 2\n",
    "- P( A | B ) ≠ P(A ∩ B), but rather:\n",
    "   - P(A | B) = P(A ∩ B) / P(B)\n",
    "   - P(A ∩ B) = P(A | B) ⋅ P(B)\n",
    "- Given that a customer bought a laptop, they will or will not also buy a mouse. This means we can be certain that either event (M|L) or (M^C|L) will happen:\n",
    "     - P(M | L) + P(M^C | L) = 1\n",
    "\n"
   ]
  },
  {
   "cell_type": "markdown",
   "id": "9a46cbe2",
   "metadata": {
    "papermill": {
     "duration": 0.068009,
     "end_time": "2022-05-23T16:56:05.470821",
     "exception": false,
     "start_time": "2022-05-23T16:56:05.402812",
     "status": "completed"
    },
    "tags": []
   },
   "source": [
    "# Day 21\n",
    "dataquest-> prob and stats -> probability fundamentals -> conditional probabilities intermediate\n",
    "slide 1 and 2\n",
    "- P(A ∩ B) = P(B ∩ A)\n",
    "- multiplication rule of probability\n",
    "  -  P(A ∩ B) = P(B) ⋅ P(A | B) \n",
    "  - P(A ∩ B) = P(A) ⋅ P(B | A)\n",
    "- if P(A) and P(B) are statistically independent then \n",
    "  - P(A ∩ B) = P(A) ⋅ P(B)\n",
    "\n"
   ]
  },
  {
   "cell_type": "markdown",
   "id": "2db3dedc",
   "metadata": {
    "papermill": {
     "duration": 0.069137,
     "end_time": "2022-05-23T16:56:05.608151",
     "exception": false,
     "start_time": "2022-05-23T16:56:05.539014",
     "status": "completed"
    },
    "tags": []
   },
   "source": [
    "# Day 22\n",
    "dataquest-> prob and stats -> probability fundamentals -> conditional probabilities intermediate \n",
    "<br>slide 6\n",
    "- If events events A and B are dependent, it means the occurrence of event A changes the probability of event B and vice versa.\n",
    "   - P(A) ≠ P(A | B)\n",
    "   - P(B) ≠ P(B | A)\n",
    "   - P(A ∩ B) ≠ P(A) ⋅ P(B)\n",
    "   - formula will become P(A ∩ B) ≠ P(A) ⋅ P(B/A)\n",
    "   "
   ]
  },
  {
   "cell_type": "markdown",
   "id": "48c71f23",
   "metadata": {
    "papermill": {
     "duration": 0.068264,
     "end_time": "2022-05-23T16:56:05.747133",
     "exception": false,
     "start_time": "2022-05-23T16:56:05.678869",
     "status": "completed"
    },
    "tags": []
   },
   "source": [
    "# Day 23\n",
    "dataquest-> prob and stats -> probability fundamentals -> conditional probabilities intermediate\n",
    "<br>slide 7 to last\n",
    "- To find whether three events — A, B, C — are independent or not, below conditions must hold true -\n",
    "  - P(A ∩ B) ≠ P(A) ⋅ P(B)\n",
    "  - P(A ∩ C) ≠ P(A) ⋅ P(C)\n",
    "  - P(B ∩ C) ≠ P(B) ⋅ P(C)\n",
    "  - P(A ∩ B ∩ C) ≠ P(A) ⋅ P(B) . P(C)\n",
    "- multiplication rule for conditional probability or dependent events\n",
    " - P(A ∩ B ∩ C) = P(A) ⋅ P(B | A) ⋅ P(C | A ∩ B)\n",
    " \n",
    "\n"
   ]
  },
  {
   "cell_type": "markdown",
   "id": "a728705f",
   "metadata": {
    "papermill": {
     "duration": 0.068161,
     "end_time": "2022-05-23T16:56:05.886531",
     "exception": false,
     "start_time": "2022-05-23T16:56:05.818370",
     "status": "completed"
    },
    "tags": []
   },
   "source": [
    "# Day 24\n",
    "dataquest-> prob and stats -> probability fundamentals -> bayes theorem\n",
    "<br>slide 1\n",
    "- independent -> one event is dependent on other\n",
    "   - P(A ∩ B) = P(A) ⋅ P(B/A)\n",
    "- independent -> one event is not dependent on other.\n",
    "   - P(A ∩ B) = P(A) ⋅ P(B)\n",
    "- mutually exclusive -> both the events cannot happen at the same time.\n",
    "   - P(A ∩ B) = 0\n",
    "\n"
   ]
  },
  {
   "cell_type": "markdown",
   "id": "e2bf2842",
   "metadata": {
    "papermill": {
     "duration": 0.070334,
     "end_time": "2022-05-23T16:56:06.024931",
     "exception": false,
     "start_time": "2022-05-23T16:56:05.954597",
     "status": "completed"
    },
    "tags": []
   },
   "source": [
    "# Day 25\n",
    "dataquest-> prob and stats -> probability fundamentals -> bayes theorem\n",
    "<br>slide 2\n",
    "- If two events are exhaustive, it means they make up the whole sample space Ω\n",
    "  -  P(A) = P(A ∩ B) + P(A ∩ B^c)\n",
    "     P(A) = (P(B) * P(A/B)) +  (P(B^c) * P(A/B^c))\n",
    "     \n",
    "     "
   ]
  },
  {
   "cell_type": "markdown",
   "id": "b67fc9aa",
   "metadata": {
    "papermill": {
     "duration": 0.067617,
     "end_time": "2022-05-23T16:56:06.160932",
     "exception": false,
     "start_time": "2022-05-23T16:56:06.093315",
     "status": "completed"
    },
    "tags": []
   },
   "source": [
    "# Day 26\n",
    "dataquest-> prob and stats -> probability fundamentals -> bayes theorem\n",
    "<br>slide 3 - last\n",
    "- the law of total probability\n",
    "  - P(A)  = (P(B1) * P(A/B1)) + (P(B2) * P(A/B2))+ ... + (P(Bn) * P(A/Bn)))\n",
    "  - P(A) =(summattion i=1 to n) P(Bi) ⋅ P(A|Bi)\n",
    "- Baye's theorem\n",
    "  - P(B | A) = (P(B) ⋅ P(A | B)) / (n ∑i=1 P(Bi) ⋅ P(A | Bi))\n",
    "- The probability of being infected with HIV before doing any test is called the prior probability (\"prior\" means \"before\"). The probability of being infected with HIV after testing positive is called the posterior probability (\"posterior\" means \"after\").\n",
    "\n",
    "\n",
    "  "
   ]
  },
  {
   "cell_type": "markdown",
   "id": "20efcad4",
   "metadata": {
    "papermill": {
     "duration": 0.067909,
     "end_time": "2022-05-23T16:56:06.298496",
     "exception": false,
     "start_time": "2022-05-23T16:56:06.230587",
     "status": "completed"
    },
    "tags": []
   },
   "source": [
    "# Day 27\n",
    "dataquest-> prob and stats -> probability fundamentals -> naive bayes theorem\n",
    "<br>slide 1 - \n",
    "P(Spam|w1,w2,w3,w4)∝P(Spam)⋅P(w1|Spam)⋅P(w2|Spam)⋅P(w3|Spam)⋅P(w4|Spam)P(SpamC|w1,w2,w3,w4)∝P(SpamC)⋅P(w1|SpamC)⋅P(w2|SpamC)⋅P(w3|SpamC)⋅P(w4|SpamC)"
   ]
  },
  {
   "cell_type": "markdown",
   "id": "531801d5",
   "metadata": {
    "papermill": {
     "duration": 0.068082,
     "end_time": "2022-05-23T16:56:06.435500",
     "exception": false,
     "start_time": "2022-05-23T16:56:06.367418",
     "status": "completed"
    },
    "tags": []
   },
   "source": [
    "# Day 28\n",
    "dataquest-> prob and stats -> probability fundamentals -> naive bayes theorem\n",
    "<br>finished.\n",
    "<br>**Summary**\n",
    "- P(Spam|w1,w2,...,wn)∝P(Spam)⋅n∏i=1P(wi|Spam)\n",
    "- P(SpamC|w1,w2,...,wn)∝P(SpamC)⋅n∏i=1P(wi|SpamC)\n",
    "- To calculate P(wi|Spam) and P(wi|SpamC), we need to use the additive smoothing technique: \n",
    "- P ( w i | S p a m ) = (N w i | S p a m + α) / ( N S p a m + α ⋅ N V o c a b u l a r y )\n",
    "- P ( w i | S p a m C ) = (N w i | S p a m C + α) / ( N S p a m C + α ⋅ N V o c a b u l a r y )\n",
    "     - N w i | S p a m = the number of times the word w i occurs in spam messages \n",
    "     - N w i | S p a m C = the number of times the word w i occurs in non-spam messages \n",
    "     - N S p a m = total number of words in spam messages \n",
    "     - N S p a m C = total number of words in non-spam messages \n",
    "     - N V o c a b u l a r y = total number of words in the vocabulary \n",
    "     - α = 1 ( α is a smoothing parameter )\n",
    " - naive bayes theorem assumes that events are not dependent.\n",
    " - The assumption of conditional independence between words is thus naive since it rarely holds in practice, and this is why the algorithm is called Naive Bayes (also called simple Bayes or independence Bayes)."
   ]
  },
  {
   "cell_type": "markdown",
   "id": "d38ad2b5",
   "metadata": {
    "papermill": {
     "duration": 0.068121,
     "end_time": "2022-05-23T16:56:06.573041",
     "exception": false,
     "start_time": "2022-05-23T16:56:06.504920",
     "status": "completed"
    },
    "tags": []
   },
   "source": [
    "# Day 29,30,31\n",
    "<br>dataquest-> prob and stats -> probability fundamentals -> conditional probability-> guided projects\n",
    "<br> in progress"
   ]
  },
  {
   "cell_type": "markdown",
   "id": "ffa6d822",
   "metadata": {
    "papermill": {
     "duration": 0.068118,
     "end_time": "2022-05-23T16:56:06.709361",
     "exception": false,
     "start_time": "2022-05-23T16:56:06.641243",
     "status": "completed"
    },
    "tags": []
   },
   "source": [
    "# Day 32 and 33\n",
    "<br>dataquest-> prob and stats -> probability fundamentals -> guided projects\n",
    "<br> done"
   ]
  },
  {
   "cell_type": "markdown",
   "id": "56873afb",
   "metadata": {
    "papermill": {
     "duration": 0.068053,
     "end_time": "2022-05-23T16:56:06.845940",
     "exception": false,
     "start_time": "2022-05-23T16:56:06.777887",
     "status": "completed"
    },
    "tags": []
   },
   "source": [
    "# Day 34\n",
    "<br>dataquest-> prob and stats -> probability fundamentals -> guided projects-> lottery prediction\n",
    "<br> done"
   ]
  },
  {
   "cell_type": "markdown",
   "id": "bb757ed7",
   "metadata": {
    "papermill": {
     "duration": 0.068426,
     "end_time": "2022-05-23T16:56:06.982599",
     "exception": false,
     "start_time": "2022-05-23T16:56:06.914173",
     "status": "completed"
    },
    "tags": []
   },
   "source": [
    "# Day 35\n",
    "<br>dataquest-> prob and stats -> hypothesis testing fundamentals -> significance testing\n",
    "<br> till slide 4\n",
    "- null hypothesis\n",
    "- alternate hypothesis\n"
   ]
  },
  {
   "cell_type": "markdown",
   "id": "b2cec4da",
   "metadata": {
    "papermill": {
     "duration": 0.068539,
     "end_time": "2022-05-23T16:56:07.121843",
     "exception": false,
     "start_time": "2022-05-23T16:56:07.053304",
     "status": "completed"
    },
    "tags": []
   },
   "source": [
    "# Day 36 and 37\n",
    "<br>dataquest-> prob and stats -> hypothesis testing fundamentals -> significance testing\n",
    "- The permutation test is a statistical test that involves rerunning the study many times and recalculating the test statistic for each iteration. The goal is to calculate a distribution of the test statistics over these many iterations. This distribution is called the sampling distribution and it approximates the full range of possible test statistics under the null hypothesis\n",
    "\n"
   ]
  },
  {
   "cell_type": "markdown",
   "id": "980258d5",
   "metadata": {
    "papermill": {
     "duration": 0.068131,
     "end_time": "2022-05-23T16:56:07.258201",
     "exception": false,
     "start_time": "2022-05-23T16:56:07.190070",
     "status": "completed"
    },
    "tags": []
   },
   "source": [
    "# Day 38\n",
    "<br>dataquest-> prob and stats -> hypothesis testing fundamentals -> significance testing\n",
    "<br>in progress."
   ]
  },
  {
   "cell_type": "markdown",
   "id": "a4423fc5",
   "metadata": {
    "papermill": {
     "duration": 0.068151,
     "end_time": "2022-05-23T16:56:07.394953",
     "exception": false,
     "start_time": "2022-05-23T16:56:07.326802",
     "status": "completed"
    },
    "tags": []
   },
   "source": [
    "# Day 39\n",
    "<br>dataquest-> prob and stats -> hypothesis testing fundamentals -> significance testing\n",
    "<br>slide 5-6"
   ]
  },
  {
   "cell_type": "markdown",
   "id": "cfe56780",
   "metadata": {
    "papermill": {
     "duration": 0.068238,
     "end_time": "2022-05-23T16:56:07.531899",
     "exception": false,
     "start_time": "2022-05-23T16:56:07.463661",
     "status": "completed"
    },
    "tags": []
   },
   "source": [
    "# Day 40\n",
    "<br>dataquest-> prob and stats -> hypothesis testing fundamentals -> significance testing\n",
    "<br>slide 7"
   ]
  },
  {
   "cell_type": "markdown",
   "id": "1ce1aed2",
   "metadata": {
    "papermill": {
     "duration": 0.070312,
     "end_time": "2022-05-23T16:56:07.671104",
     "exception": false,
     "start_time": "2022-05-23T16:56:07.600792",
     "status": "completed"
    },
    "tags": []
   },
   "source": [
    "# Day 41 and 42\n",
    "<br>dataquest-> prob and stats -> hypothesis testing fundamentals -> significance testing\n",
    "<br>slide 7 done and 8(p-value) strated"
   ]
  },
  {
   "cell_type": "markdown",
   "id": "6a81d371",
   "metadata": {
    "papermill": {
     "duration": 0.06794,
     "end_time": "2022-05-23T16:56:07.807736",
     "exception": false,
     "start_time": "2022-05-23T16:56:07.739796",
     "status": "completed"
    },
    "tags": []
   },
   "source": [
    "# Day 43\n",
    "<br>dataquest-> prob and stats -> hypothesis testing fundamentals -> significance testing\n",
    "<br>\n",
    "- The first step is to decide a test statistic, which is a numerical value that summarizes the data and one we can use in statistical formulas. The test statistic runs a statistical test that determines whether the difference between the groups was due to random chance.\n",
    "  - e.x: mean \n",
    "- The permutation test is a statistical test that involves rerunning the study many times and recalculating the test statistic for each iteration.\n",
    "   - The goal is to calculate a distribution of the test statistics over these many iterations. This distribution is called the sampling distribution and it approximates the full range of possible test statistics under the null hypothesis.\n",
    "- If the p value is less than the threshold, we:\n",
    "    - reject the null hypothesis that there's no difference in the mean amount of weight lost by participants in both groups; and\n",
    "    - conclude that there is some evidence that the weight loss pill does affect the amount of weight people lost.\n",
    "\n",
    "- If the p value is greater than the threshold, we:\n",
    "    - fail to reject the null hypothesis that there's no difference in the mean amount of weight lost by participants in both groups,\n",
    "    - conclude that the weight loss pill doesn't seem to be effective in helping people lose weight.\n",
    "- usually used p-value threshold is 0.05\n",
    "- The p value threshold you set can also affect the conclusion you reach.\n",
    "    - If you set too high of a p value threshold, you may reject the null hypothesis incorrectly. This is known as a type I error.\n",
    "    - If you set too low of a p value threshold, you may fail to reject the null hypothesis incorrectly. This is known as a type II error."
   ]
  },
  {
   "cell_type": "markdown",
   "id": "bfffb525",
   "metadata": {
    "papermill": {
     "duration": 0.070466,
     "end_time": "2022-05-23T16:56:07.947423",
     "exception": false,
     "start_time": "2022-05-23T16:56:07.876957",
     "status": "completed"
    },
    "tags": []
   },
   "source": [
    "# Day 44\n",
    "<br>dataquest-> prob and stats -> hypothesis testing fundamentals -> significance testing-> chi squared test\n",
    "<br>1- 4\n",
    "- chi squared test is used for numerical values"
   ]
  },
  {
   "cell_type": "markdown",
   "id": "d4e40932",
   "metadata": {
    "papermill": {
     "duration": 0.070856,
     "end_time": "2022-05-23T16:56:08.090645",
     "exception": false,
     "start_time": "2022-05-23T16:56:08.019789",
     "status": "completed"
    },
    "tags": []
   },
   "source": [
    "# Day 45 and 46\n",
    "<br>dataquest-> prob and stats -> hypothesis testing fundamentals -> significance testing-> chi squared test\n",
    "<br>4- 6"
   ]
  },
  {
   "cell_type": "markdown",
   "id": "6ebe2c5b",
   "metadata": {
    "papermill": {
     "duration": 0.069008,
     "end_time": "2022-05-23T16:56:08.228529",
     "exception": false,
     "start_time": "2022-05-23T16:56:08.159521",
     "status": "completed"
    },
    "tags": []
   },
   "source": [
    "# Day 47\n",
    "<br>dataquest-> prob and stats -> hypothesis testing fundamentals -> significance testing-> chi squared test\n",
    "<br> slide 6 done"
   ]
  },
  {
   "cell_type": "markdown",
   "id": "8f26003f",
   "metadata": {
    "papermill": {
     "duration": 0.069081,
     "end_time": "2022-05-23T16:56:08.367586",
     "exception": false,
     "start_time": "2022-05-23T16:56:08.298505",
     "status": "completed"
    },
    "tags": []
   },
   "source": [
    "# Day 48\n",
    "<br> chi-squared values is that they get smaller as the sample size decreases.\n",
    "<br>**conclusion**\n",
    "- The chi-squared test enables us to quantify the difference between sets of observed and expected categorical values to determine statistical significance\n",
    "- chi squared = (observed - expected)**2 / expected\n",
    "- A p-value allows us to determine whether the difference between 2 values is due to chance, or due to an underlying difference.\n",
    "- Chi-squared values increase as sample size increases, but the chance of getting a high chi-squared value decreases as the sample gets larger.\n",
    "- A degree of freedom is the number of values that can vary without the other values being\"locked in\". \n",
    "- scipy https://docs.scipy.org/doc/scipy/reference/generated/scipy.stats.mstats.chisquare.html\n"
   ]
  },
  {
   "cell_type": "markdown",
   "id": "fbc0f815",
   "metadata": {
    "papermill": {
     "duration": 0.070021,
     "end_time": "2022-05-23T16:56:08.510884",
     "exception": false,
     "start_time": "2022-05-23T16:56:08.440863",
     "status": "completed"
    },
    "tags": []
   },
   "source": [
    "# Day 49\n",
    "<br>dataquest-> prob and stats -> hypothesis testing fundamentals -> significance testing-> multi category chi squared test\n",
    "<br> slide 1 done\n",
    "- We can apply the multi category chi-squared test (also known as the chi-squared test of association) to figure out if there's a statistically significant correlation between two categorical columns.\n",
    "- "
   ]
  },
  {
   "cell_type": "markdown",
   "id": "71010f8f",
   "metadata": {
    "papermill": {
     "duration": 0.069822,
     "end_time": "2022-05-23T16:56:08.653400",
     "exception": false,
     "start_time": "2022-05-23T16:56:08.583578",
     "status": "completed"
    },
    "tags": []
   },
   "source": [
    " **Day 50**\n",
    "<br>dataquest-> prob and stats -> hypothesis testing fundamentals -> significance testing-> multi category chi squared test\n",
    "# Conclusion:\n",
    "- In a multiple category chi-squared test, we calculate expected values across our whole dataset.\n",
    "- We can calculate the chi-squared value by using the following steps:\n",
    "    - Subtract the expected value from the observed value.\n",
    "    - Subtract the difference.\n",
    "    - Divide the squared difference by the expected value.\n",
    "    - Repeat for all observed and expected values and add up all the values.\n",
    "- ∑ expected(observed−expected)**2 / expected\n",
    "- Discovering that a result isn't significant doesn't mean that no association between the columnsexists. Discovering a statistically significant result doesn't imply anything about what thecorrelation is.\n",
    "- Chi-squared tests can only be applied when each possibility within a category is independen.\n",
    "    - we have categories like male or female not both. single row has either male or female not both at a time.\n",
    "- https://docs.scipy.org/doc/scipy-0.15.1/reference/generated/scipy.stats.chi2_contingency.html\n",
    "- https://pandas.pydata.org/pandas-docs/stable/generated/pandas.crosstab.html\n"
   ]
  },
  {
   "cell_type": "markdown",
   "id": "d3ec6a32",
   "metadata": {
    "papermill": {
     "duration": 0.06881,
     "end_time": "2022-05-23T16:56:08.793071",
     "exception": false,
     "start_time": "2022-05-23T16:56:08.724261",
     "status": "completed"
    },
    "tags": []
   },
   "source": [
    "# **Day 51, 52**\n",
    "<br>dataquest-> prob and stats -> hypothesis testing fundamentals -> significance testing-> guided project\n",
    "<br>in progress."
   ]
  },
  {
   "cell_type": "markdown",
   "id": "a5cf4afc",
   "metadata": {
    "papermill": {
     "duration": 0.069189,
     "end_time": "2022-05-23T16:56:08.931958",
     "exception": false,
     "start_time": "2022-05-23T16:56:08.862769",
     "status": "completed"
    },
    "tags": []
   },
   "source": [
    "# **Day 53**\n",
    "<br>dataquest-> prob and stats -> hypothesis testing fundamentals -> significance testing-> guided project\n",
    "<br>done"
   ]
  },
  {
   "cell_type": "markdown",
   "id": "f8112fdd",
   "metadata": {
    "papermill": {
     "duration": 0.071673,
     "end_time": "2022-05-23T16:56:09.072247",
     "exception": false,
     "start_time": "2022-05-23T16:56:09.000574",
     "status": "completed"
    },
    "tags": []
   },
   "source": [
    "# **Day 54,55, 56,57, 58, 59**\n",
    "interviewbit-> probability-> conditional probability\n",
    "1. You asked your three friends whether it will rain or not and all three affirmed for rain. All three have the probability of 1/3 of lying. What is the probability that it will actually rain?\n",
    "- https://www.geeksforgeeks.org/puzzle-is-it-raining/#:~:text=Explanation%3A,truth%20or%20all%20are%20lying.&text=So%2C%20it%20is%20approximately%2089,it%20is%20raining%20in%20Hyderabad.\n",
    "2. Anshul and Deven take turns in rolling a fair six-sided die. Whoever rolls a “6” first wins the game. Deven starts by rolling first. What’s the probability that Anshul wins?\n",
    "- https://www.quora.com/A-and-B-throw-a-Fair-die-one-after-another-Whoever-throws-6-first-wins-What-is-the-probability-that-A-wins\n",
    "\n",
    "3. You have a bag with 6 marbles. One marble is white. You reach the bag 100 times. After taking out a marble, it is placed back in the bag. What is the probability of drawing a white marble at least once?\n",
    "- https://brainly.com/question/14376470\n",
    "- Answer:\n",
    "\n",
    "0.999999988\n",
    "\n",
    "Step-by-step explanation:\n",
    "\n",
    "Given that you  have a bag with 6 marbles. One marble is white. You reach the bag 100 times. After taking out a marble, it is placed back in the bag.\n",
    "\n",
    "Because every time you replace the marble drawn, the probability for drawing a white marble in one draw is constant = p =5/6\n",
    "\n",
    "No of trials n = 100\n",
    "\n",
    "Here X no of times white marble is drawn is Binomial since there are two outcomes and also the probability is constant.\n",
    "\n",
    "the probability of drawing a white marble at least once\n",
    "\n",
    "=\n",
    "\n",
    "Required probability is almost 1.\n",
    "\n",
    "\n",
    "4. Supposedly a friend of yours has 2 children and at least one of them is a boy. What is the probability that the other is also a boy?\n",
    "- If at least one is a boy, there are three possible equally likely gender assignations of two siblings. boy-boy, boy-girl,\n",
    "\n",
    " or girl-boy. Only 1 in 3 cases or 33 percent are both boys. The lesson here is that when considering equally likely scenarios\n",
    "\n",
    " we must consider birth order. If the birth order of the boy is not specified – i.e. if we don’t know if he is the eldest or \n",
    "\n",
    " the youngest – the probability of two boys drops to 1 in 3.\n",
    " \n",
    "5. A single card is drawn from a standard deck of playing cards. What is the probability that the card is a queen provided that a face card is drawn from the deck of cards?\n",
    "- 4/12 = 1/3\n",
    " \n",
    "6. random variables Q1,2\n",
    "7. 5 questions\n",
    "8. bayes theorem first 2\n",
    "\n",
    "**Day 60**\n",
    "- inferential statistics - 3 questions\n",
    "**Day 61**\n",
    "- inferential statistics - central limit theorem done\n",
    "\n",
    "**Day 62**\n",
    "- inferential statistics - distribution analysis multivariate done\n",
    "\n",
    "**Day 63**\n",
    "- inferential statistics -  done\n",
    "\n",
    "**Day 64,65, 66**\n",
    "- Data Analysis-  wip\n",
    "\n",
    "**Day 67**\n",
    "- Data Analysis-  web scrapping done\n",
    "\n",
    "**Day 68**\n",
    "- Data Analysis-  descriptive statistics tutorial done\n",
    "\n",
    "**Day 69**\n",
    "- Data Analysis-  probability tutorial done\n",
    "\n",
    "**Day 70**\n",
    "- Data Analysis-  hypothesis testing wip\n",
    "\n",
    "**Day 71**\n",
    "- Data Analysis-  inferential statistics tutorials - done\n",
    "\n",
    "**Day 72**\n",
    "- Data Analysis-  inferential statistics tutorials - done\n",
    "\n",
    "**Day 73**\n",
    "- Data Analysis-  data analysis tutorials - wip\n",
    "\n",
    "**Day 74**\n",
    "\n",
    "**Interview Prep:**\n",
    "1. clustering evaluation techniques:\n",
    "- https://towardsdatascience.com/clustering-evaluation-strategies-98a4006fcfc"
   ]
  },
  {
   "cell_type": "markdown",
   "id": "9adb275b",
   "metadata": {
    "papermill": {
     "duration": 0.068422,
     "end_time": "2022-05-23T16:56:09.213036",
     "exception": false,
     "start_time": "2022-05-23T16:56:09.144614",
     "status": "completed"
    },
    "tags": []
   },
   "source": []
  },
  {
   "cell_type": "code",
   "execution_count": null,
   "id": "138f9aca",
   "metadata": {
    "papermill": {
     "duration": 0.06878,
     "end_time": "2022-05-23T16:56:09.350575",
     "exception": false,
     "start_time": "2022-05-23T16:56:09.281795",
     "status": "completed"
    },
    "tags": []
   },
   "outputs": [],
   "source": []
  },
  {
   "cell_type": "code",
   "execution_count": 2,
   "id": "0ff4e638",
   "metadata": {
    "execution": {
     "iopub.execute_input": "2022-05-23T16:56:09.494701Z",
     "iopub.status.busy": "2022-05-23T16:56:09.493678Z",
     "iopub.status.idle": "2022-05-23T16:56:09.497217Z",
     "shell.execute_reply": "2022-05-23T16:56:09.497674Z",
     "shell.execute_reply.started": "2022-04-12T14:17:49.333113Z"
    },
    "papermill": {
     "duration": 0.076957,
     "end_time": "2022-05-23T16:56:09.497851",
     "exception": false,
     "start_time": "2022-05-23T16:56:09.420894",
     "status": "completed"
    },
    "tags": []
   },
   "outputs": [],
   "source": [
    "# !pip install PyMuPDF"
   ]
  },
  {
   "cell_type": "code",
   "execution_count": 3,
   "id": "fdf6045a",
   "metadata": {
    "execution": {
     "iopub.execute_input": "2022-05-23T16:56:09.640363Z",
     "iopub.status.busy": "2022-05-23T16:56:09.639379Z",
     "iopub.status.idle": "2022-05-23T16:56:09.642523Z",
     "shell.execute_reply": "2022-05-23T16:56:09.643115Z",
     "shell.execute_reply.started": "2022-04-12T14:19:20.437905Z"
    },
    "papermill": {
     "duration": 0.076376,
     "end_time": "2022-05-23T16:56:09.643289",
     "exception": false,
     "start_time": "2022-05-23T16:56:09.566913",
     "status": "completed"
    },
    "tags": []
   },
   "outputs": [],
   "source": [
    " \n",
    "# fitz.__version__"
   ]
  },
  {
   "cell_type": "code",
   "execution_count": 4,
   "id": "b1f1ae40",
   "metadata": {
    "execution": {
     "iopub.execute_input": "2022-05-23T16:56:09.788470Z",
     "iopub.status.busy": "2022-05-23T16:56:09.787513Z",
     "iopub.status.idle": "2022-05-23T16:56:09.789646Z",
     "shell.execute_reply": "2022-05-23T16:56:09.790259Z",
     "shell.execute_reply.started": "2022-04-12T14:23:59.687259Z"
    },
    "papermill": {
     "duration": 0.077328,
     "end_time": "2022-05-23T16:56:09.790428",
     "exception": false,
     "start_time": "2022-05-23T16:56:09.713100",
     "status": "completed"
    },
    "tags": []
   },
   "outputs": [],
   "source": [
    "# !python -m spacy download en_core_web_sm"
   ]
  },
  {
   "cell_type": "code",
   "execution_count": null,
   "id": "f5e6c4a6",
   "metadata": {
    "papermill": {
     "duration": 0.07164,
     "end_time": "2022-05-23T16:56:09.932308",
     "exception": false,
     "start_time": "2022-05-23T16:56:09.860668",
     "status": "completed"
    },
    "tags": []
   },
   "outputs": [],
   "source": []
  },
  {
   "cell_type": "code",
   "execution_count": 5,
   "id": "5004440d",
   "metadata": {
    "execution": {
     "iopub.execute_input": "2022-05-23T16:56:10.079563Z",
     "iopub.status.busy": "2022-05-23T16:56:10.078021Z",
     "iopub.status.idle": "2022-05-23T16:56:10.081346Z",
     "shell.execute_reply": "2022-05-23T16:56:10.081807Z",
     "shell.execute_reply.started": "2022-04-12T14:18:25.912243Z"
    },
    "papermill": {
     "duration": 0.079654,
     "end_time": "2022-05-23T16:56:10.082013",
     "exception": false,
     "start_time": "2022-05-23T16:56:10.002359",
     "status": "completed"
    },
    "tags": []
   },
   "outputs": [],
   "source": [
    "# import fitz\n",
    "# import spacy\n",
    "# import re\n",
    "# from pathlib import Path\n",
    "# import requests\n",
    "# import os"
   ]
  },
  {
   "cell_type": "code",
   "execution_count": 6,
   "id": "147c22cc",
   "metadata": {
    "execution": {
     "iopub.execute_input": "2022-05-23T16:56:10.226004Z",
     "iopub.status.busy": "2022-05-23T16:56:10.225240Z",
     "iopub.status.idle": "2022-05-23T16:56:10.228916Z",
     "shell.execute_reply": "2022-05-23T16:56:10.229487Z",
     "shell.execute_reply.started": "2022-04-12T15:03:43.5897Z"
    },
    "papermill": {
     "duration": 0.076863,
     "end_time": "2022-05-23T16:56:10.229660",
     "exception": false,
     "start_time": "2022-05-23T16:56:10.152797",
     "status": "completed"
    },
    "tags": []
   },
   "outputs": [],
   "source": [
    "# sql_db_json = [\n",
    "#   {\n",
    "#     \"document_id\": \"1\",\n",
    "#     \"area\": \"[72.1149,661.2966,131.95729,675.1716]\",\n",
    "#     \"page\": \"3\",\n",
    "#     \"text_\": \"Background\",\n",
    "#     \"type_of_selection\": \"Text\",\n",
    "#     \"entity_type\": \"name\",\n",
    "#     \"link\": \"https://redactable-devox-stage.s3.us-east-2.amazonaws.com/tenants/41d9e109-693b-444c-aa18-e5891bc6550b/original/1a7c0e5d-3237-4ca9-9e3d-89e707245ac6/D8communications.pdf\"\n",
    "#   },\n",
    "#   {\n",
    "#     \"document_id\": \"1\",\n",
    "#     \"area\": \"[290.55386,632.0173,322.14685,645.8923]\",\n",
    "#     \"page\": \"2\",\n",
    "#     \"text_\": \"INDEX\",\n",
    "#     \"type_of_selection\": \"Text\",\n",
    "#     \"entity_type\": \"address\",\n",
    "#     \"link\": \"https://redactable-devox-stage.s3.us-east-2.amazonaws.com/tenants/41d9e109-693b-444c-aa18-e5891bc6550b/original/1a7c0e5d-3237-4ca9-9e3d-89e707245ac6/D8communications.pdf\"\n",
    "#   }\n",
    "# ]"
   ]
  },
  {
   "cell_type": "code",
   "execution_count": 7,
   "id": "b187712a",
   "metadata": {
    "execution": {
     "iopub.execute_input": "2022-05-23T16:56:10.373624Z",
     "iopub.status.busy": "2022-05-23T16:56:10.372906Z",
     "iopub.status.idle": "2022-05-23T16:56:10.376135Z",
     "shell.execute_reply": "2022-05-23T16:56:10.376636Z",
     "shell.execute_reply.started": "2022-04-12T13:17:19.452695Z"
    },
    "papermill": {
     "duration": 0.07861,
     "end_time": "2022-05-23T16:56:10.376803",
     "exception": false,
     "start_time": "2022-05-23T16:56:10.298193",
     "status": "completed"
    },
    "tags": []
   },
   "outputs": [],
   "source": [
    "# l=pd.DataFrame()\n",
    "# k=(1, '[290.55386,632.0173,322.14685,645.8923]', 2, 'INDEX', 'Text', 'address', 'https://redactable-devox-s')\n",
    "# k\n"
   ]
  },
  {
   "cell_type": "code",
   "execution_count": 8,
   "id": "affc0c0e",
   "metadata": {
    "execution": {
     "iopub.execute_input": "2022-05-23T16:56:10.517726Z",
     "iopub.status.busy": "2022-05-23T16:56:10.516946Z",
     "iopub.status.idle": "2022-05-23T16:56:10.520332Z",
     "shell.execute_reply": "2022-05-23T16:56:10.521065Z",
     "shell.execute_reply.started": "2022-04-12T16:09:33.708631Z"
    },
    "papermill": {
     "duration": 0.075448,
     "end_time": "2022-05-23T16:56:10.521255",
     "exception": false,
     "start_time": "2022-05-23T16:56:10.445807",
     "status": "completed"
    },
    "tags": []
   },
   "outputs": [],
   "source": [
    "# co=[\"document_id\",\"area\",\"page\",\"text_\",\"type_of_selection\",\"entity_type\",\"link\"]\n",
    "# val= [(1,'[72.1149,661.2966,131.95729,675.1716]',3,'Background','Text','name' ,'https://redactable-devox-stage.s3.us-east-2.am'), (1,  '[290.55386,632.0173,322.14685,645.8923]',2,'INDEX', 'Text','address','https://redactable-devox-stage.s3.us-east-2.am')]\n",
    "\n",
    "# df=pd.DataFrame(val,columns=[co])\n",
    "# #df.iloc[1] =[1,  '[290.55386,632.0173,322.14685,645.8923]',2,'INDEX', 'Text','address','https://redactable-devox-stage.s3.us-east-2.am']\n",
    "# df"
   ]
  },
  {
   "cell_type": "code",
   "execution_count": 9,
   "id": "3a51316a",
   "metadata": {
    "execution": {
     "iopub.execute_input": "2022-05-23T16:56:10.662856Z",
     "iopub.status.busy": "2022-05-23T16:56:10.662211Z",
     "iopub.status.idle": "2022-05-23T16:56:10.665115Z",
     "shell.execute_reply": "2022-05-23T16:56:10.665708Z",
     "shell.execute_reply.started": "2022-04-12T16:18:22.595374Z"
    },
    "papermill": {
     "duration": 0.075208,
     "end_time": "2022-05-23T16:56:10.665878",
     "exception": false,
     "start_time": "2022-05-23T16:56:10.590670",
     "status": "completed"
    },
    "tags": []
   },
   "outputs": [],
   "source": [
    "# prev=[]\n",
    "# for data,row in df.iterrows():\n",
    "#     if row['document_id'] not in prev:\n",
    "#         prev.append(row['document_id'])\n",
    "#         print('hey')"
   ]
  },
  {
   "cell_type": "code",
   "execution_count": 10,
   "id": "afebff42",
   "metadata": {
    "execution": {
     "iopub.execute_input": "2022-05-23T16:56:10.806965Z",
     "iopub.status.busy": "2022-05-23T16:56:10.806229Z",
     "iopub.status.idle": "2022-05-23T16:56:10.811380Z",
     "shell.execute_reply": "2022-05-23T16:56:10.811893Z",
     "shell.execute_reply.started": "2022-04-12T15:03:48.248836Z"
    },
    "papermill": {
     "duration": 0.077388,
     "end_time": "2022-05-23T16:56:10.812096",
     "exception": false,
     "start_time": "2022-05-23T16:56:10.734708",
     "status": "completed"
    },
    "tags": []
   },
   "outputs": [],
   "source": [
    "# nlp = spacy.load('en_core_web_sm')\n",
    "# train_data = []\n",
    "\n",
    "# prev_doc_id = ''\n",
    "# i=0\n",
    "# temp='/kaggle/working'\n",
    "\n",
    "# for data in sql_db_json:\n",
    "#     if data['type_of_selection'] == 'Text':\n",
    "#         document_id = data['document_id']\n",
    "#         x1,y1,x2,y2 = data['area'][1:-1].split(',')\n",
    "#         url = data['link']\n",
    "#         page_no = int(data['page']) - 1 \n",
    "#         label = data['entity_type']\n",
    "#         filename = url.split('/')[-1]\n",
    "    \n",
    "#         #download the file to temp folder\n",
    "#         outpath = os.path.join(temp,filename)\n",
    "\n",
    "#         if document_id == prev_doc_id:\n",
    "#             pass\n",
    "#         else: \n",
    "#             i+=1\n",
    "#             print(i)\n",
    "#             response = requests.get(url)\n",
    "#             with open(outpath, \"wb\") as binary_file:\n",
    "#                 binary_file.write(response.content)\n",
    "\n",
    "#         doc = fitz.open(outpath)  # any supported document type\n",
    "#         page = doc[page_no]  # we want text from this page\n",
    "#         print('page dimension - ', page.rect.width, page.rect.height)\n",
    "\n",
    "#         #The co-ordinates in the DB are image co-ords. W.r.t pdf, y1 and y2 has to be interchanged.\n",
    "#         #To ensure entire word to be selected, slight correction in x1,y1,x2,y2 is done.\n",
    "\n",
    "#         rect = [float(x1)-2, 792 - float(y2)-2, float(x2)+2, 792 - float(y1)+2]\n",
    "#         print(rect)\n",
    "#         labelled_text = page.get_textbox(rect)\n",
    "\n",
    "#         #Removing all unprintable characters from the text\n",
    "#         string = re.sub('[^0-9a-zA-Z@?|\\/<>.,()&^%$#!]+', ' ', labelled_text)\n",
    "#         print('string : ', string)\n",
    "\n",
    "#         fulltext = page.get_text()\n",
    "#         doc = nlp(fulltext)\n",
    "\n",
    "#         sentences = []\n",
    "#         for sent in doc.sents:\n",
    "#             if string.strip() in sent.text:\n",
    "#                 text = re.sub('[^0-9a-zA-Z@?|\\/<>.,()&^%$#!]+', ' ', sent.text)\n",
    "\n",
    "#         res = re.search(string.strip(), text)\n",
    "\n",
    "#         entities = []\n",
    "#         entities.append((res.start(),res.end(),label))\n",
    "\n",
    "#         train_data.append((text,{'entities':entities}))\n",
    "\n",
    "# print('Training data in spacy format')\n",
    "# print('*****************************')\n",
    "# for i in range(0,len(train_data)):\n",
    "#     print(train_data[i])"
   ]
  },
  {
   "cell_type": "code",
   "execution_count": null,
   "id": "0e165f76",
   "metadata": {
    "papermill": {
     "duration": 0.069146,
     "end_time": "2022-05-23T16:56:10.951997",
     "exception": false,
     "start_time": "2022-05-23T16:56:10.882851",
     "status": "completed"
    },
    "tags": []
   },
   "outputs": [],
   "source": []
  },
  {
   "cell_type": "code",
   "execution_count": 11,
   "id": "740b5934",
   "metadata": {
    "execution": {
     "iopub.execute_input": "2022-05-23T16:56:11.096658Z",
     "iopub.status.busy": "2022-05-23T16:56:11.095937Z",
     "iopub.status.idle": "2022-05-23T16:56:11.100882Z",
     "shell.execute_reply": "2022-05-23T16:56:11.101463Z",
     "shell.execute_reply.started": "2022-04-12T11:44:59.253637Z"
    },
    "papermill": {
     "duration": 0.080142,
     "end_time": "2022-05-23T16:56:11.101636",
     "exception": false,
     "start_time": "2022-05-23T16:56:11.021494",
     "status": "completed"
    },
    "tags": []
   },
   "outputs": [],
   "source": [
    "# nlp = spacy.load('en_core_web_sm')\n",
    "# train_data = []\n",
    "\n",
    "# prev_doc_id = ''\n",
    "# temp='/kaggle/working'\n",
    "# i=0\n",
    "# for data in sql_db_json:\n",
    "#     if data['type_of_selection'] == 'Text':\n",
    "#         document_id = data['document_id']\n",
    "#         x1,y1,x2,y2 = data['area'][1:-1].split(',')\n",
    "#         url = data['link']\n",
    "#         page_no = int(data['page']) - 1 \n",
    "#         label = data['entity_type']\n",
    "#         filename = url.split('/')[-1]\n",
    "    \n",
    "#         #download the file to temp folder\n",
    "#         i+=1\n",
    "#         print(i)\n",
    "#         response = requests.get(url)\n",
    "#         doc = fitz.open(stream=response.content,filetype=\"pdf\")  # any supported document type\n",
    "#         page = doc[page_no]  # we want text from this page\n",
    "#         print('page dimension - ', page.rect.width, page.rect.height)\n",
    "\n",
    "#         #The co-ordinates in the DB are image co-ords. W.r.t pdf, y1 and y2 has to be interchanged.\n",
    "#         #To ensure entire word to be selected, slight correction in x1,y1,x2,y2 is done.\n",
    "\n",
    "#         rect = [float(x1)-2, 792 - float(y2)-2, float(x2)+2, 792 - float(y1)+2]\n",
    "#         print(rect)\n",
    "#         labelled_text = page.get_textbox(rect)\n",
    "\n",
    "#         #Removing all unprintable characters from the text\n",
    "#         string = re.sub('[^0-9a-zA-Z@?|\\/<>.,()&^%$#!]+', ' ', labelled_text)\n",
    "#         print('string : ', string)\n",
    "\n",
    "#         fulltext = page.get_text()\n",
    "#         doc = nlp(fulltext)\n",
    "\n",
    "#         sentences = []\n",
    "#         for sent in doc.sents:\n",
    "#             if string.strip() in sent.text:\n",
    "#                 text = re.sub('[^0-9a-zA-Z@?|\\/<>.,()&^%$#!]+', ' ', sent.text)\n",
    "\n",
    "#         res = re.search(string.strip(), text)\n",
    "\n",
    "#         entities = []\n",
    "#         entities.append((res.start(),res.end(),label))\n",
    "\n",
    "#         train_data.append((text,{'entities':entities}))\n",
    "\n",
    "# print('Training data in spacy format')\n",
    "# print('*****************************')\n",
    "# for i in range(0,len(train_data)):\n",
    "#     print(train_data[i])"
   ]
  },
  {
   "cell_type": "code",
   "execution_count": 12,
   "id": "ce2404a1",
   "metadata": {
    "execution": {
     "iopub.execute_input": "2022-05-23T16:56:11.245833Z",
     "iopub.status.busy": "2022-05-23T16:56:11.245163Z",
     "iopub.status.idle": "2022-05-23T16:56:11.249210Z",
     "shell.execute_reply": "2022-05-23T16:56:11.249817Z"
    },
    "papermill": {
     "duration": 0.077532,
     "end_time": "2022-05-23T16:56:11.250011",
     "exception": false,
     "start_time": "2022-05-23T16:56:11.172479",
     "status": "completed"
    },
    "tags": []
   },
   "outputs": [],
   "source": [
    "# page dimension -  612.0 792.0\n",
    "# [70.1149, 114.82839999999999, 133.95729, 132.7034]\n",
    "# string :  Background\n",
    "# page dimension -  612.0 792.0\n",
    "# [288.55386, 144.10770000000002, 324.14685, 161.98270000000002]\n",
    "# string :  INDEX\n",
    "# Training data in spacy format\n",
    "# *****************************\n",
    "# (' 3 Background The Blue Ribbon Committee was created by the Mayor to assess various city communication methods and recommend opportunities to improve communications with residents, businesses and other organizations.', {'entities': [(3, 13, 'name')]})\n",
    "# (' 2 INDEX Background Pg. 3 Purpose Pg. 3 Process .', {'entities': [(3, 8, 'address')]})"
   ]
  },
  {
   "cell_type": "code",
   "execution_count": 13,
   "id": "d72f1b0e",
   "metadata": {
    "execution": {
     "iopub.execute_input": "2022-05-23T16:56:11.392399Z",
     "iopub.status.busy": "2022-05-23T16:56:11.391679Z",
     "iopub.status.idle": "2022-05-23T16:56:11.395703Z",
     "shell.execute_reply": "2022-05-23T16:56:11.396329Z",
     "shell.execute_reply.started": "2022-04-11T16:35:29.609712Z"
    },
    "papermill": {
     "duration": 0.076342,
     "end_time": "2022-05-23T16:56:11.396501",
     "exception": false,
     "start_time": "2022-05-23T16:56:11.320159",
     "status": "completed"
    },
    "tags": []
   },
   "outputs": [],
   "source": [
    "# nlp = spacy.load('en_core_web_sm')\n",
    "# outpath=r'/kaggle/input/sample-pdf/D8communications.pdf'\n",
    "# doc = fitz.open(outpath)  # any supported document type\n",
    "# page_no=3\n",
    "# page = doc[page_no-1]\n",
    "\n",
    "# x1,y1,x2,y2=(72.1149,661.2966,131.95729,675.1716)\n",
    "\n",
    "# rect = [float(x1)-2, 792 - float(y2)-2, float(x2)+2, 792 - float(y1)+2]\n",
    "# print(rect)\n",
    "# labelled_text = page.get_textbox(rect)\n",
    "# string = re.sub('[^0-9a-zA-Z@?|\\/<>.,()&^%$#!]+', ' ', labelled_text)\n",
    "# print('string : ', string)\n",
    "\n",
    "# fulltext = page.get_text()\n",
    "# doc = nlp(fulltext)\n",
    "\n",
    "# sentences = []\n",
    "# for sent in doc.sents:\n",
    "#             if string.strip() in sent.text:\n",
    "#                 text = re.sub('[^0-9a-zA-Z@?|\\/<>.,()&^%$#!]+', ' ', sent.text)\n",
    "\n",
    "#         res = re.search(string.strip(), text)\n",
    "\n",
    "#         entities = []\n",
    "#         entities.append((res.start(),res.end(),label))\n",
    "\n",
    "#         train_data.append((text,{'entities':entities}))\n",
    "\n"
   ]
  },
  {
   "cell_type": "code",
   "execution_count": 14,
   "id": "6bde0ff5",
   "metadata": {
    "execution": {
     "iopub.execute_input": "2022-05-23T16:56:11.540349Z",
     "iopub.status.busy": "2022-05-23T16:56:11.539652Z",
     "iopub.status.idle": "2022-05-23T16:56:11.542627Z",
     "shell.execute_reply": "2022-05-23T16:56:11.543237Z",
     "shell.execute_reply.started": "2022-04-11T16:35:41.679947Z"
    },
    "papermill": {
     "duration": 0.074836,
     "end_time": "2022-05-23T16:56:11.543410",
     "exception": false,
     "start_time": "2022-05-23T16:56:11.468574",
     "status": "completed"
    },
    "tags": []
   },
   "outputs": [],
   "source": [
    "#doc"
   ]
  },
  {
   "cell_type": "code",
   "execution_count": 15,
   "id": "f50c07f9",
   "metadata": {
    "execution": {
     "iopub.execute_input": "2022-05-23T16:56:11.686101Z",
     "iopub.status.busy": "2022-05-23T16:56:11.685401Z",
     "iopub.status.idle": "2022-05-23T16:56:11.688544Z",
     "shell.execute_reply": "2022-05-23T16:56:11.689098Z",
     "shell.execute_reply.started": "2022-04-11T16:35:56.010353Z"
    },
    "papermill": {
     "duration": 0.077321,
     "end_time": "2022-05-23T16:56:11.689318",
     "exception": false,
     "start_time": "2022-05-23T16:56:11.611997",
     "status": "completed"
    },
    "tags": []
   },
   "outputs": [],
   "source": [
    "# sentences = []\n",
    "# for sent in doc.sents:\n",
    "#     if string.strip() in sent.text:\n",
    "#         text = re.sub('[^0-9a-zA-Z@?|\\/<>.,()&^%$#!]+', ' ', sent.text)"
   ]
  },
  {
   "cell_type": "code",
   "execution_count": 16,
   "id": "b2f11faf",
   "metadata": {
    "execution": {
     "iopub.execute_input": "2022-05-23T16:56:11.832558Z",
     "iopub.status.busy": "2022-05-23T16:56:11.831728Z",
     "iopub.status.idle": "2022-05-23T16:56:11.834680Z",
     "shell.execute_reply": "2022-05-23T16:56:11.835326Z",
     "shell.execute_reply.started": "2022-04-11T16:39:04.736143Z"
    },
    "papermill": {
     "duration": 0.077178,
     "end_time": "2022-05-23T16:56:11.835501",
     "exception": false,
     "start_time": "2022-05-23T16:56:11.758323",
     "status": "completed"
    },
    "tags": []
   },
   "outputs": [],
   "source": [
    "# k=nlp(\"he             kenny\")\n",
    "# for sent in k.sents:\n",
    "#     print(sent)"
   ]
  },
  {
   "cell_type": "code",
   "execution_count": 17,
   "id": "2a9e07c5",
   "metadata": {
    "execution": {
     "iopub.execute_input": "2022-05-23T16:56:11.983731Z",
     "iopub.status.busy": "2022-05-23T16:56:11.983070Z",
     "iopub.status.idle": "2022-05-23T16:56:11.986191Z",
     "shell.execute_reply": "2022-05-23T16:56:11.986686Z",
     "shell.execute_reply.started": "2022-04-11T15:09:24.391421Z"
    },
    "papermill": {
     "duration": 0.077859,
     "end_time": "2022-05-23T16:56:11.986864",
     "exception": false,
     "start_time": "2022-05-23T16:56:11.909005",
     "status": "completed"
    },
    "tags": []
   },
   "outputs": [],
   "source": [
    "# text"
   ]
  },
  {
   "cell_type": "code",
   "execution_count": 18,
   "id": "f2667e3b",
   "metadata": {
    "execution": {
     "iopub.execute_input": "2022-05-23T16:56:12.134316Z",
     "iopub.status.busy": "2022-05-23T16:56:12.133617Z",
     "iopub.status.idle": "2022-05-23T16:56:12.136499Z",
     "shell.execute_reply": "2022-05-23T16:56:12.137089Z",
     "shell.execute_reply.started": "2022-04-11T15:09:31.9599Z"
    },
    "papermill": {
     "duration": 0.077245,
     "end_time": "2022-05-23T16:56:12.137265",
     "exception": false,
     "start_time": "2022-05-23T16:56:12.060020",
     "status": "completed"
    },
    "tags": []
   },
   "outputs": [],
   "source": [
    "# res = re.search(string.strip(), text)\n",
    "# res"
   ]
  },
  {
   "cell_type": "code",
   "execution_count": 19,
   "id": "f2e584df",
   "metadata": {
    "execution": {
     "iopub.execute_input": "2022-05-23T16:56:12.282934Z",
     "iopub.status.busy": "2022-05-23T16:56:12.282267Z",
     "iopub.status.idle": "2022-05-23T16:56:12.285345Z",
     "shell.execute_reply": "2022-05-23T16:56:12.285870Z",
     "shell.execute_reply.started": "2022-04-11T15:12:41.311242Z"
    },
    "papermill": {
     "duration": 0.076476,
     "end_time": "2022-05-23T16:56:12.286073",
     "exception": false,
     "start_time": "2022-05-23T16:56:12.209597",
     "status": "completed"
    },
    "tags": []
   },
   "outputs": [],
   "source": [
    "# entities = []\n",
    "# entities.append((res.start(),res.end(),'p'))"
   ]
  },
  {
   "cell_type": "code",
   "execution_count": 20,
   "id": "c7e3d41f",
   "metadata": {
    "execution": {
     "iopub.execute_input": "2022-05-23T16:56:12.436882Z",
     "iopub.status.busy": "2022-05-23T16:56:12.435575Z",
     "iopub.status.idle": "2022-05-23T16:56:12.438428Z",
     "shell.execute_reply": "2022-05-23T16:56:12.439046Z",
     "shell.execute_reply.started": "2022-04-11T15:12:52.736619Z"
    },
    "papermill": {
     "duration": 0.078739,
     "end_time": "2022-05-23T16:56:12.439220",
     "exception": false,
     "start_time": "2022-05-23T16:56:12.360481",
     "status": "completed"
    },
    "tags": []
   },
   "outputs": [],
   "source": [
    "# entities"
   ]
  },
  {
   "cell_type": "code",
   "execution_count": 21,
   "id": "f2d7f7b3",
   "metadata": {
    "execution": {
     "iopub.execute_input": "2022-05-23T16:56:12.584824Z",
     "iopub.status.busy": "2022-05-23T16:56:12.584155Z",
     "iopub.status.idle": "2022-05-23T16:56:12.587173Z",
     "shell.execute_reply": "2022-05-23T16:56:12.587746Z",
     "shell.execute_reply.started": "2022-04-11T15:06:11.546217Z"
    },
    "papermill": {
     "duration": 0.076992,
     "end_time": "2022-05-23T16:56:12.587928",
     "exception": false,
     "start_time": "2022-05-23T16:56:12.510936",
     "status": "completed"
    },
    "tags": []
   },
   "outputs": [],
   "source": [
    "# text"
   ]
  },
  {
   "cell_type": "code",
   "execution_count": null,
   "id": "da3dad7e",
   "metadata": {
    "execution": {
     "iopub.execute_input": "2022-04-11T15:02:33.300092Z",
     "iopub.status.busy": "2022-04-11T15:02:33.299778Z",
     "iopub.status.idle": "2022-04-11T15:02:33.30711Z",
     "shell.execute_reply": "2022-04-11T15:02:33.306345Z",
     "shell.execute_reply.started": "2022-04-11T15:02:33.300061Z"
    },
    "papermill": {
     "duration": 0.069012,
     "end_time": "2022-05-23T16:56:12.726729",
     "exception": false,
     "start_time": "2022-05-23T16:56:12.657717",
     "status": "completed"
    },
    "tags": []
   },
   "outputs": [],
   "source": []
  },
  {
   "cell_type": "code",
   "execution_count": 22,
   "id": "79ab1740",
   "metadata": {
    "execution": {
     "iopub.execute_input": "2022-05-23T16:56:12.869306Z",
     "iopub.status.busy": "2022-05-23T16:56:12.868465Z",
     "iopub.status.idle": "2022-05-23T16:56:12.870931Z",
     "shell.execute_reply": "2022-05-23T16:56:12.871460Z",
     "shell.execute_reply.started": "2022-04-11T16:21:02.863037Z"
    },
    "papermill": {
     "duration": 0.07612,
     "end_time": "2022-05-23T16:56:12.871649",
     "exception": false,
     "start_time": "2022-05-23T16:56:12.795529",
     "status": "completed"
    },
    "tags": []
   },
   "outputs": [],
   "source": [
    "# import spacy\n",
    "# nlp = spacy.load('en_core_web_sm')"
   ]
  },
  {
   "cell_type": "code",
   "execution_count": 23,
   "id": "08ecd833",
   "metadata": {
    "execution": {
     "iopub.execute_input": "2022-05-23T16:56:13.016874Z",
     "iopub.status.busy": "2022-05-23T16:56:13.015675Z",
     "iopub.status.idle": "2022-05-23T16:56:13.019855Z",
     "shell.execute_reply": "2022-05-23T16:56:13.019315Z",
     "shell.execute_reply.started": "2022-04-09T12:19:47.776612Z"
    },
    "papermill": {
     "duration": 0.077144,
     "end_time": "2022-05-23T16:56:13.020016",
     "exception": false,
     "start_time": "2022-05-23T16:56:12.942872",
     "status": "completed"
    },
    "tags": []
   },
   "outputs": [],
   "source": [
    "# !pip install PyPDF2\n",
    "# import PyPDF2\n",
    "# fhandle = open(r'/kaggle/input/sample-pdf/D8communications.pdf', 'rb')\n",
    "# pdfReader = PyPDF2.PdfFileReader(fhandle)\n",
    "# pagehandle = pdfReader.getPage(4)\n",
    "# print(pagehandle.extractText())"
   ]
  },
  {
   "cell_type": "code",
   "execution_count": 24,
   "id": "aabffbcd",
   "metadata": {
    "execution": {
     "iopub.execute_input": "2022-05-23T16:56:13.164373Z",
     "iopub.status.busy": "2022-05-23T16:56:13.163701Z",
     "iopub.status.idle": "2022-05-23T16:56:13.166180Z",
     "shell.execute_reply": "2022-05-23T16:56:13.166661Z",
     "shell.execute_reply.started": "2022-04-09T12:25:37.701467Z"
    },
    "papermill": {
     "duration": 0.075455,
     "end_time": "2022-05-23T16:56:13.166832",
     "exception": false,
     "start_time": "2022-05-23T16:56:13.091377",
     "status": "completed"
    },
    "tags": []
   },
   "outputs": [],
   "source": [
    "# !pip install pdfplumber\n",
    "# import pdfplumber\n",
    "# with pdfplumber.open(r'/kaggle/input/sample-pdf/D8communications.pdf') as pdf:\n",
    "#     first_page = pdf.pages[3]\n",
    "#     print(first_page.extract_text())"
   ]
  },
  {
   "cell_type": "code",
   "execution_count": 25,
   "id": "52bb1348",
   "metadata": {
    "execution": {
     "iopub.execute_input": "2022-05-23T16:56:13.308244Z",
     "iopub.status.busy": "2022-05-23T16:56:13.307583Z",
     "iopub.status.idle": "2022-05-23T16:56:13.309220Z",
     "shell.execute_reply": "2022-05-23T16:56:13.309824Z",
     "shell.execute_reply.started": "2022-04-09T12:25:49.584635Z"
    },
    "papermill": {
     "duration": 0.074618,
     "end_time": "2022-05-23T16:56:13.310001",
     "exception": false,
     "start_time": "2022-05-23T16:56:13.235383",
     "status": "completed"
    },
    "tags": []
   },
   "outputs": [],
   "source": [
    "# !pip install pytesseract"
   ]
  },
  {
   "cell_type": "code",
   "execution_count": 26,
   "id": "e4d2a5e2",
   "metadata": {
    "execution": {
     "iopub.execute_input": "2022-05-23T16:56:13.482570Z",
     "iopub.status.busy": "2022-05-23T16:56:13.481838Z",
     "iopub.status.idle": "2022-05-23T16:56:13.484740Z",
     "shell.execute_reply": "2022-05-23T16:56:13.485469Z",
     "shell.execute_reply.started": "2022-04-09T14:49:10.656812Z"
    },
    "papermill": {
     "duration": 0.095779,
     "end_time": "2022-05-23T16:56:13.485648",
     "exception": false,
     "start_time": "2022-05-23T16:56:13.389869",
     "status": "completed"
    },
    "tags": []
   },
   "outputs": [],
   "source": [
    "# #!pip install pdf2image\n",
    "# !pip install poppler"
   ]
  },
  {
   "cell_type": "code",
   "execution_count": 27,
   "id": "647af73f",
   "metadata": {
    "execution": {
     "iopub.execute_input": "2022-05-23T16:56:13.628736Z",
     "iopub.status.busy": "2022-05-23T16:56:13.628076Z",
     "iopub.status.idle": "2022-05-23T16:56:13.630992Z",
     "shell.execute_reply": "2022-05-23T16:56:13.631768Z",
     "shell.execute_reply.started": "2022-04-09T14:57:24.756677Z"
    },
    "papermill": {
     "duration": 0.077646,
     "end_time": "2022-05-23T16:56:13.631962",
     "exception": false,
     "start_time": "2022-05-23T16:56:13.554316",
     "status": "completed"
    },
    "tags": []
   },
   "outputs": [],
   "source": [
    "# pdf2image.convert_from_path('/kaggle/input/sample-pdf/D8communications.pdf')"
   ]
  },
  {
   "cell_type": "code",
   "execution_count": 28,
   "id": "ca5e4877",
   "metadata": {
    "execution": {
     "iopub.execute_input": "2022-05-23T16:56:13.773048Z",
     "iopub.status.busy": "2022-05-23T16:56:13.772378Z",
     "iopub.status.idle": "2022-05-23T16:56:13.776084Z",
     "shell.execute_reply": "2022-05-23T16:56:13.776663Z",
     "shell.execute_reply.started": "2022-04-09T14:57:17.576149Z"
    },
    "papermill": {
     "duration": 0.075447,
     "end_time": "2022-05-23T16:56:13.776836",
     "exception": false,
     "start_time": "2022-05-23T16:56:13.701389",
     "status": "completed"
    },
    "tags": []
   },
   "outputs": [],
   "source": [
    "# import pdf2image\n",
    "# try:\n",
    "#     from PIL import Image\n",
    "# except ImportError:\n",
    "#     import Image\n",
    "# import pytesseract\n",
    "\n",
    "\n",
    "# def pdf_to_img(pdf_file):\n",
    "#     return pdf2image.convert_from_path(pdf_file)\n",
    "\n",
    "\n",
    "# def ocr_core(file):\n",
    "#     text = pytesseract.image_to_string(file)\n",
    "#     return text\n",
    "\n",
    "\n",
    "# def print_pages(pdf_file):\n",
    "#     images = pdf_to_img(pdf_file)\n",
    "#     for pg, img in enumerate(images):\n",
    "#         print(ocr_core(img))\n",
    "\n",
    "\n",
    "# print_pages('/kaggle/input/sample-pdf/D8communications.pdf')\n"
   ]
  },
  {
   "cell_type": "code",
   "execution_count": 29,
   "id": "56bf5e4c",
   "metadata": {
    "execution": {
     "iopub.execute_input": "2022-05-23T16:56:13.920487Z",
     "iopub.status.busy": "2022-05-23T16:56:13.919580Z",
     "iopub.status.idle": "2022-05-23T16:56:13.921249Z",
     "shell.execute_reply": "2022-05-23T16:56:13.921740Z"
    },
    "papermill": {
     "duration": 0.075328,
     "end_time": "2022-05-23T16:56:13.921907",
     "exception": false,
     "start_time": "2022-05-23T16:56:13.846579",
     "status": "completed"
    },
    "tags": []
   },
   "outputs": [],
   "source": [
    "# import requests\n",
    "# import fitz\n",
    "# import io\n",
    "\n",
    "# #URL = 'https://buildmedia.readthedocs.org/media/pdf/pdfminer-docs/latest/pdfminer-docs.pdf'\n",
    "# URL = 'https://redactable-devox-stage.s3.us-east-2.amazonaws.com/tenants/41d9e109-693b-444c-aa18-e5891bc6550b/original/1a7c0e5d-3237-4ca9-9e3d-89e707245ac6/D8communications.pdf'\n",
    "\n",
    "\n",
    "# res = requests.get(URL)\n",
    "# filestream = io.BytesIO(res.content)\n",
    "# #res.content\n",
    "# filestream\n",
    "# doc = fitz.Document(stream=filestream)\n",
    "# page1 = doc.loadPage(3)\n",
    "# page1text = page1.getText(\"text\").encode(\"utf-8\").decode(\"utf-8\")\n",
    "# print(page1text)"
   ]
  },
  {
   "cell_type": "code",
   "execution_count": 30,
   "id": "443974a5",
   "metadata": {
    "execution": {
     "iopub.execute_input": "2022-05-23T16:56:14.067812Z",
     "iopub.status.busy": "2022-05-23T16:56:14.066047Z",
     "iopub.status.idle": "2022-05-23T16:56:14.070085Z",
     "shell.execute_reply": "2022-05-23T16:56:14.070626Z",
     "shell.execute_reply.started": "2022-04-09T07:04:56.590103Z"
    },
    "papermill": {
     "duration": 0.078711,
     "end_time": "2022-05-23T16:56:14.070796",
     "exception": false,
     "start_time": "2022-05-23T16:56:13.992085",
     "status": "completed"
    },
    "tags": []
   },
   "outputs": [],
   "source": [
    "# import requests\n",
    "# import fitz\n",
    "\n",
    "# #URL = 'https://buildmedia.readthedocs.org/media/pdf/pdfminer-docs/latest/pdfminer-docs.pdf'\n",
    "# URL = 'https://redactable-devox-stage.s3.us-east-2.amazonaws.com/tenants/41d9e109-693b-444c-aa18-e5891bc6550b/original/1a7c0e5d-3237-4ca9-9e3d-89e707245ac6/D8communications.pdf'\n",
    "\n",
    "\n",
    "# res = requests.get(URL)\n",
    "# doc = fitz.open(stream=res.content,filetype=\"pdf\")\n",
    "# page1 = doc.loadPage(3)\n",
    "# page1text = page1.getText(\"text\")\n",
    "# #rect = (72.1149,661.2966,131.95729,675.1716)\n",
    "# rect=(72.10812377929688, 116.13427734375, 133.97142028808594, 146.4227294921875)\n",
    "# labelled_text = page1.get_textbox(rect)\n",
    "# print(labelled_text.strip())\n",
    "\n",
    "# fulltext = page1.get_text()\n",
    "# print(fulltext)\n",
    "# doc = nlp(fulltext)\n",
    "# sentences = []\n",
    "# for sent in doc.sents:\n",
    "#     if labelled_text in sent.text:\n",
    "#         text = sent.text\n",
    "#         print(text)\n",
    "# #print(page1text)"
   ]
  },
  {
   "cell_type": "code",
   "execution_count": 31,
   "id": "bc4e2bd0",
   "metadata": {
    "execution": {
     "iopub.execute_input": "2022-05-23T16:56:14.214740Z",
     "iopub.status.busy": "2022-05-23T16:56:14.214104Z",
     "iopub.status.idle": "2022-05-23T16:56:14.217291Z",
     "shell.execute_reply": "2022-05-23T16:56:14.217805Z",
     "shell.execute_reply.started": "2022-04-08T16:42:57.6659Z"
    },
    "papermill": {
     "duration": 0.076486,
     "end_time": "2022-05-23T16:56:14.217995",
     "exception": false,
     "start_time": "2022-05-23T16:56:14.141509",
     "status": "completed"
    },
    "tags": []
   },
   "outputs": [],
   "source": [
    "#res.content"
   ]
  },
  {
   "cell_type": "code",
   "execution_count": 32,
   "id": "cc6d0407",
   "metadata": {
    "execution": {
     "iopub.execute_input": "2022-05-23T16:56:14.361307Z",
     "iopub.status.busy": "2022-05-23T16:56:14.360419Z",
     "iopub.status.idle": "2022-05-23T16:56:14.363953Z",
     "shell.execute_reply": "2022-05-23T16:56:14.364432Z",
     "shell.execute_reply.started": "2022-04-08T16:48:05.672392Z"
    },
    "papermill": {
     "duration": 0.076075,
     "end_time": "2022-05-23T16:56:14.364615",
     "exception": false,
     "start_time": "2022-05-23T16:56:14.288540",
     "status": "completed"
    },
    "tags": []
   },
   "outputs": [],
   "source": [
    "# import fitz\n",
    "# # mem_area=\n",
    "# # doc = fitz.open(stream=mem_area, filetype=\"pdf\")\n",
    "\n",
    "# import requests\n",
    "\n",
    "# URL = 'https://redactable-devox-stage.s3.us-east-2.amazonaws.com/tenants/41d9e109-693b-444c-aa18-e5891bc6550b/original/1a7c0e5d-3237-4ca9-9e3d-89e707245ac6/D8communications.pdf'\n",
    "\n",
    "# #res = requests.get(URL)\n",
    "# doc=fitz.open(\"/kaggle/input/sample-pdf/D8communications.pdf\")\n",
    "# #doc = fitz.open(stream=res.content,filetype=\"pdf\")\n",
    "# page1 = doc.loadPage(4)\n",
    "# # page1text = page1.getText(\"text\")\n",
    "# # print(page1text)\n",
    "# blocks = page1.getText(\"blocks\")\n",
    "# blocks.sort(key=lambda block: block[1])  # sort vertically ascending\n",
    "\n",
    "# for b in blocks:\n",
    "#     print(b[4])\n"
   ]
  },
  {
   "cell_type": "code",
   "execution_count": 33,
   "id": "62554ede",
   "metadata": {
    "execution": {
     "iopub.execute_input": "2022-05-23T16:56:14.512267Z",
     "iopub.status.busy": "2022-05-23T16:56:14.511512Z",
     "iopub.status.idle": "2022-05-23T16:56:14.513057Z",
     "shell.execute_reply": "2022-05-23T16:56:14.513547Z",
     "shell.execute_reply.started": "2022-04-08T16:48:13.086323Z"
    },
    "papermill": {
     "duration": 0.079074,
     "end_time": "2022-05-23T16:56:14.513717",
     "exception": false,
     "start_time": "2022-05-23T16:56:14.434643",
     "status": "completed"
    },
    "tags": []
   },
   "outputs": [],
   "source": [
    "# # page = doc[1]\n",
    "# words = page.get_text(\"words\")\n",
    "# #print(words)\n",
    "# rect = (72.1149,661.2966,131.95729,675.1716)\n",
    "\n",
    "# labelled_text = page.get_textbox(rect)\n",
    "# # labelled_text"
   ]
  },
  {
   "cell_type": "markdown",
   "id": "1c0f624c",
   "metadata": {
    "papermill": {
     "duration": 0.069179,
     "end_time": "2022-05-23T16:56:14.654053",
     "exception": false,
     "start_time": "2022-05-23T16:56:14.584874",
     "status": "completed"
    },
    "tags": []
   },
   "source": [
    "pip install PyPDF2"
   ]
  },
  {
   "cell_type": "code",
   "execution_count": null,
   "id": "0b2cd396",
   "metadata": {
    "papermill": {
     "duration": 0.070824,
     "end_time": "2022-05-23T16:56:14.794421",
     "exception": false,
     "start_time": "2022-05-23T16:56:14.723597",
     "status": "completed"
    },
    "tags": []
   },
   "outputs": [],
   "source": []
  },
  {
   "cell_type": "code",
   "execution_count": 34,
   "id": "9ad0d6df",
   "metadata": {
    "execution": {
     "iopub.execute_input": "2022-05-23T16:56:14.936936Z",
     "iopub.status.busy": "2022-05-23T16:56:14.935853Z",
     "iopub.status.idle": "2022-05-23T16:56:14.938928Z",
     "shell.execute_reply": "2022-05-23T16:56:14.938430Z",
     "shell.execute_reply.started": "2022-03-18T16:48:58.370268Z"
    },
    "papermill": {
     "duration": 0.075959,
     "end_time": "2022-05-23T16:56:14.939109",
     "exception": false,
     "start_time": "2022-05-23T16:56:14.863150",
     "status": "completed"
    },
    "tags": []
   },
   "outputs": [],
   "source": [
    "# import pandas as pd\n",
    "# h={'step': 0, 'type': 'string', 'amount': 0.0, 'nameOrig': 'C1231006815', 'oldbalanceOrig': 0.0, 'newbalanceOrig': 0.0, 'nameDest': 'M1979787155', 'oldbalanceDest': 0.0, 'newbalanceDest': 0.0}\n",
    "# df=pd.DataFrame([h])"
   ]
  },
  {
   "cell_type": "code",
   "execution_count": 35,
   "id": "7dff0f85",
   "metadata": {
    "execution": {
     "iopub.execute_input": "2022-05-23T16:56:15.085233Z",
     "iopub.status.busy": "2022-05-23T16:56:15.084073Z",
     "iopub.status.idle": "2022-05-23T16:56:15.086574Z",
     "shell.execute_reply": "2022-05-23T16:56:15.087117Z",
     "shell.execute_reply.started": "2022-04-09T17:21:26.021615Z"
    },
    "papermill": {
     "duration": 0.077599,
     "end_time": "2022-05-23T16:56:15.087309",
     "exception": false,
     "start_time": "2022-05-23T16:56:15.009710",
     "status": "completed"
    },
    "tags": []
   },
   "outputs": [],
   "source": [
    "#df"
   ]
  },
  {
   "cell_type": "code",
   "execution_count": null,
   "id": "cb1fdeb2",
   "metadata": {
    "papermill": {
     "duration": 0.06884,
     "end_time": "2022-05-23T16:56:15.227349",
     "exception": false,
     "start_time": "2022-05-23T16:56:15.158509",
     "status": "completed"
    },
    "tags": []
   },
   "outputs": [],
   "source": []
  }
 ],
 "metadata": {
  "kernelspec": {
   "display_name": "Python 3",
   "language": "python",
   "name": "python3"
  },
  "language_info": {
   "codemirror_mode": {
    "name": "ipython",
    "version": 3
   },
   "file_extension": ".py",
   "mimetype": "text/x-python",
   "name": "python",
   "nbconvert_exporter": "python",
   "pygments_lexer": "ipython3",
   "version": "3.7.12"
  },
  "papermill": {
   "default_parameters": {},
   "duration": 23.630982,
   "end_time": "2022-05-23T16:56:15.906070",
   "environment_variables": {},
   "exception": null,
   "input_path": "__notebook__.ipynb",
   "output_path": "__notebook__.ipynb",
   "parameters": {},
   "start_time": "2022-05-23T16:55:52.275088",
   "version": "2.3.3"
  }
 },
 "nbformat": 4,
 "nbformat_minor": 5
}
