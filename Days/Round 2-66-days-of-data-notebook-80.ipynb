{
 "cells": [
  {
   "cell_type": "code",
   "execution_count": 1,
   "id": "c406787a",
   "metadata": {
    "_cell_guid": "b1076dfc-b9ad-4769-8c92-a6c4dae69d19",
    "_uuid": "8f2839f25d086af736a60e9eeb907d3b93b6e0e5",
    "execution": {
     "iopub.execute_input": "2022-05-29T17:26:43.135578Z",
     "iopub.status.busy": "2022-05-29T17:26:43.128145Z",
     "iopub.status.idle": "2022-05-29T17:26:43.145828Z",
     "shell.execute_reply": "2022-05-29T17:26:43.146380Z",
     "shell.execute_reply.started": "2022-04-12T14:12:25.248687Z"
    },
    "papermill": {
     "duration": 0.094743,
     "end_time": "2022-05-29T17:26:43.146665",
     "exception": false,
     "start_time": "2022-05-29T17:26:43.051922",
     "status": "completed"
    },
    "tags": []
   },
   "outputs": [
    {
     "name": "stdout",
     "output_type": "stream",
     "text": [
      "/kaggle/input/sample-pdf/D8communications.pdf\n"
     ]
    }
   ],
   "source": [
    "# This Python 3 environment comes with many helpful analytics libraries installed\n",
    "# It is defined by the kaggle/python Docker image: https://github.com/kaggle/docker-python\n",
    "# For example, here's several helpful packages to load\n",
    "\n",
    "import numpy as np # linear algebra\n",
    "import pandas as pd # data processing, CSV file I/O (e.g. pd.read_csv)\n",
    "\n",
    "# Input data files are available in the read-only \"../input/\" directory\n",
    "# For example, running this (by clicking run or pressing Shift+Enter) will list all files under the input directory\n",
    "\n",
    "import os\n",
    "for dirname, _, filenames in os.walk('/kaggle/input'):\n",
    "    for filename in filenames:\n",
    "        print(os.path.join(dirname, filename))\n",
    "\n",
    "# You can write up to 20GB to the current directory (/kaggle/working/) that gets preserved as output when you create a version using \"Save & Run All\" \n",
    "# You can also write temporary files to /kaggle/temp/, but they won't be saved outside of the current session"
   ]
  },
  {
   "cell_type": "markdown",
   "id": "0d7dfcd4",
   "metadata": {
    "papermill": {
     "duration": 0.068202,
     "end_time": "2022-05-29T17:26:43.284679",
     "exception": false,
     "start_time": "2022-05-29T17:26:43.216477",
     "status": "completed"
    },
    "tags": []
   },
   "source": [
    "# **Start Date: 12/3/2022**"
   ]
  },
  {
   "cell_type": "markdown",
   "id": "d12ff224",
   "metadata": {
    "papermill": {
     "duration": 0.068363,
     "end_time": "2022-05-29T17:26:43.421146",
     "exception": false,
     "start_time": "2022-05-29T17:26:43.352783",
     "status": "completed"
    },
    "tags": []
   },
   "source": [
    "# **Day 1:** \n",
    "<br>dataquest -> stats -> probability-> estimating probability\n",
    "1. out come is nothing but o/p of an experiment\n",
    "ex: whatever u get after rolling a dice -> it can be any number\n",
    "2. event can have more than one outcome\n",
    "- e.x: The event that we'll get an odd number when we roll a six-sided die — this event includes the outcomes 1, 3, and 5.\n",
    "- an event can be 0 as well.\n",
    "- We always assign probabilities to events, not outcomes, even if the event includes only one outcome.\n",
    "- P(E) =1/total number of possible outcomes, P(E) probability of an event happening.\n",
    "- but above formula doesn't work always, especially when there are more than one outcome\n",
    "    - P(E)=number of successful outcomes/total number of possible outcomes\n",
    "- incase of a biased situation \n",
    "  - let's say a die has 6 - 3 times which is 1,6,3,5,6,6\n",
    "    we will consider 6 as 3 times not 1.\n",
    "    possible outcome-> 1,3,5,6,6,6\n",
    "    prob(6)=3/6\n",
    "    prob(3)=1/6\n",
    "    prob(2)=0/6\n",
    "    If we didn't treat each 6 differently and said it doesn't matter which side a 6 is on, \n",
    "    <br>we'd be forced to conclude the only possible outcomes are 1, 3, 5 and 6. We can definitely         <br>frame the problem like that, but the formula above won't work anymore — we see below P(6) <br>becomes the same as P(3), but, intuitively, P(6) should be higher than P(3) since the die has 6 on     <br>three of its sides:\n"
   ]
  },
  {
   "cell_type": "markdown",
   "id": "f0d36dec",
   "metadata": {
    "papermill": {
     "duration": 0.067764,
     "end_time": "2022-05-29T17:26:43.557031",
     "exception": false,
     "start_time": "2022-05-29T17:26:43.489267",
     "status": "completed"
    },
    "tags": []
   },
   "source": [
    "Estimating Probabilities Conclusion\n",
    "- emperical/ experimental probability\n",
    "  - probability achieved by experimenting / by doing the same event multiple times.\n",
    "  - Generally, for any event E (like a coin landing heads up), we can find its empirical probability   \n",
    "     by using the following formula: \n",
    "     •P (E) =number of times event E happened/ number of times we repeated the experiment   \n",
    " - Generally, the empirical probability of an event (a coin landing heads up, getting a 5 when weroll a die) approaches the true probability value as the number of trials of the randomexperiment (a coin toss, the rolling of a die) increases without bound.\n",
    "- When we calculate the probability of an event under the assumption that the outcomes have equal chances of occurring, we say that we're calculating the **theoretical probability** of an event.\n",
    "   - P(E)=number of successful outcomes/total number of possible outcomes\n",
    "\n"
   ]
  },
  {
   "cell_type": "markdown",
   "id": "05293ba3",
   "metadata": {
    "papermill": {
     "duration": 0.06783,
     "end_time": "2022-05-29T17:26:43.694192",
     "exception": false,
     "start_time": "2022-05-29T17:26:43.626362",
     "status": "completed"
    },
    "tags": []
   },
   "source": [
    "# **Day 2**\n",
    "<br>dataquest-> stats -> intro to probability -> probability rules\n",
    "<br>In probability theory, the set of all possible outcomes is called a sample space. A sample space is often denoted by the capital Greek letter Ω (read \"omega\"). This is how we represent the sample space of a die roll:\n",
    "\n",
    "Ω = {1,2,3,4,5,6}\n",
    "-    The probability of any event ranges between 0 and 1: 0≤ P(Event) ≤1\n",
    "- To calculate P(A or B), we can also use the formula below, which is sometimes called the addition rule: P(A or B) = P(A) + P(B)\n",
    "  - Sample space ={ 1,2,3,4,5,6} \n",
    "  - P(2 or 5) = 2/6\n",
    "\n",
    "- P(C or D) = P(C) + P(D) - P(C and D)\n",
    "   - e.x : Sample_space ={2,4,6} + { 4,5,6} - {4/6}\n",
    "      P( even number or number greater than 3) = ( (3/6) + (3/6) )- (2/6) = 4/6\n",
    "- Events that don't intersect are called mutually exclusive.\n",
    "  - e.x: Getting a 5 (event one) and getting a 3 (event two) when we roll a regular six-sided die — it's  impossible to get both a 5 and 3.\n",
    "- Events that intersect are called mutually non-exclusive.\n",
    "  - Getting a number greater than 2 (event one) and getting an odd number (event two) when we roll a regular six-sided die — we could get a 5, which is both greater than 2 (event one) and odd (event two).\n",
    "- unioun -> A or B, intersection -> A and B"
   ]
  },
  {
   "cell_type": "markdown",
   "id": "2821c821",
   "metadata": {
    "papermill": {
     "duration": 0.067614,
     "end_time": "2022-05-29T17:26:43.830141",
     "exception": false,
     "start_time": "2022-05-29T17:26:43.762527",
     "status": "completed"
    },
    "tags": []
   },
   "source": [
    "# Day 3 and 4\n",
    "dataquest -> stats -> probabilities -> solving complex probabilities\n",
    "- This is the same result we got from our previous approach. In more general terms, the multiplication rule says that for two events E1 and E2, the probability that both event E1 and E2 happen can be found by multiplying the probability of E1 by the probability of E2:\n",
    "    - P(E1 ∩ E2) = P(E1) × P(E2)\n",
    "    - Events that don't influence each other's probability are called independent events. If H1 happens, P(H2) stays the same, so H1 and H2 are independent. The multiplication rule we learned only works for independent events.\n",
    "    "
   ]
  },
  {
   "cell_type": "markdown",
   "id": "f16bb4e7",
   "metadata": {
    "papermill": {
     "duration": 0.067638,
     "end_time": "2022-05-29T17:26:43.966127",
     "exception": false,
     "start_time": "2022-05-29T17:26:43.898489",
     "status": "completed"
    },
    "tags": []
   },
   "source": [
    "# Day 5\n",
    "- When we replace the cards after drawing, we say that we're sampling with replacement. When we don't put the cards back, we're sampling without replacement. \n"
   ]
  },
  {
   "cell_type": "markdown",
   "id": "e5d7a58b",
   "metadata": {
    "papermill": {
     "duration": 0.068291,
     "end_time": "2022-05-29T17:26:44.102423",
     "exception": false,
     "start_time": "2022-05-29T17:26:44.034132",
     "status": "completed"
    },
    "tags": []
   },
   "source": [
    "# Day6\n",
    "dataquest-> prob and stats -> probability fundamentals -> permutation and combinations\n",
    "Generally, if we have an experiment E1 (like flipping a coin) with a outcomes, followed by an experiment E2 (like rolling a die) with b outcomes, then the total number of outcomes for the composite experiment E1E2 can be found by multiplying a with b:\n",
    "\n",
    "Number of outcomes = a * b"
   ]
  },
  {
   "cell_type": "markdown",
   "id": "a853c710",
   "metadata": {
    "papermill": {
     "duration": 0.068088,
     "end_time": "2022-05-29T17:26:44.239156",
     "exception": false,
     "start_time": "2022-05-29T17:26:44.171068",
     "status": "completed"
    },
    "tags": []
   },
   "source": [
    "# Day 7\n",
    "dataquest-> prob and stats -> probability fundamentals -> permutation and combinations <br>\n",
    "More generally, if we have an experiment E1 with a outcomes, followed by an experiment E2 with b outcomes, followed by an experiment En with z outcomes, the total number of outcomes for the composite experiment E1E2 ... En can be found by multiplying their individual outcomes:\n",
    "\n",
    "Number of outcomes= a * b * … * z"
   ]
  },
  {
   "cell_type": "markdown",
   "id": "9c7e5ebc",
   "metadata": {
    "papermill": {
     "duration": 0.068161,
     "end_time": "2022-05-29T17:26:44.375472",
     "exception": false,
     "start_time": "2022-05-29T17:26:44.307311",
     "status": "completed"
    },
    "tags": []
   },
   "source": [
    "# Day 8\n",
    "dataquest-> prob and stats -> probability fundamentals -> permutation and combinations <br>\n",
    "permutations= n*(n-1)*(n-2)*....*2*1\n"
   ]
  },
  {
   "cell_type": "markdown",
   "id": "7ace764c",
   "metadata": {
    "papermill": {
     "duration": 0.068216,
     "end_time": "2022-05-29T17:26:44.511885",
     "exception": false,
     "start_time": "2022-05-29T17:26:44.443669",
     "status": "completed"
    },
    "tags": []
   },
   "source": [
    "# Day 9\n",
    "dataquest-> prob and stats -> probability fundamentals -> permutation and combinations\n",
    "- in permutation order of the individual element in the arranement matters.\n",
    "   - for e.x: 9821 is different than 9281\n",
    "   - Permutations =n!  --> sample without replacement-> we are not putting back the sampled data.\n",
    "   - On the last screen, we learned to use the formula below to calculate permutations when we're sampling without replacement and taking only k objects from a group of n objects:\n",
    "   npk=n!/(n-k)!"
   ]
  },
  {
   "cell_type": "markdown",
   "id": "e396dd6a",
   "metadata": {
    "papermill": {
     "duration": 0.068131,
     "end_time": "2022-05-29T17:26:44.648360",
     "exception": false,
     "start_time": "2022-05-29T17:26:44.580229",
     "status": "completed"
    },
    "tags": []
   },
   "source": [
    "# Day 10\n",
    "dataquest-> prob and stats -> probability fundamentals -> permutation and combinations\n",
    "- More generally, if the order of the elements in an arrangement doesn't matter, the arrangement is called a combination.\n",
    "- e.x: cards in a deck \n",
    "- nCk = n! / ((n-k)!*k!)"
   ]
  },
  {
   "cell_type": "markdown",
   "id": "664bcb73",
   "metadata": {
    "papermill": {
     "duration": 0.067454,
     "end_time": "2022-05-29T17:26:44.783957",
     "exception": false,
     "start_time": "2022-05-29T17:26:44.716503",
     "status": "completed"
    },
    "tags": []
   },
   "source": [
    "# Day 11\n",
    "dataquest-> prob and stats -> probability fundamentals -> permutation and combinations\n",
    "- solved 1 probability problem.\n"
   ]
  },
  {
   "cell_type": "markdown",
   "id": "54dc9128",
   "metadata": {
    "papermill": {
     "duration": 0.068511,
     "end_time": "2022-05-29T17:26:44.921428",
     "exception": false,
     "start_time": "2022-05-29T17:26:44.852917",
     "status": "completed"
    },
    "tags": []
   },
   "source": [
    "# Day 12\n",
    "dataquest-> prob and stats -> probability fundamentals -> permutation and combinations\n",
    "- finished probability and permutations by revising them.\n",
    "- If we have an experiment E1 (like flipping a coin) with a outcomes, followed by an experiment E2(like rolling a die) with b outcomes, then the total number of outcomes for the compositeexperiment E1E2 can be found by multiplying a with b (this is known as the rule of product):\n",
    "  - number of outcomes = a*b\n",
    "- If we have an experiment E1 with a outcomes, followed by an experiment E2 with b outcomes,followed by an experiment En with z outcomes, the total number of outcomes for the compositeexperiment E1E2 ... En can be found by multiplying their individual outcomes:\n",
    "   - number of outcomes = a*b* ... *z\n",
    "- There are two kinds of arrangements:\n",
    "   - •Arrangements where the order matters, which we call permutations.\n",
    "   - •Arrangements where the order doesn't matter, which we call combination\n",
    "- To find the number of permutations when we're sampling without replacement, we can use theformula:\n",
    "  - permutation = n!\n",
    "- To find the number of permutations when we're sampling without replacement and taking only kobjects from a group of n objects, we can use the formula:\n",
    "  - nPk = n!/(n-k)!\n",
    "- To find the number of combinations when we're sampling without replacement and taking only kobjects from a group of n objects, we can use the formula\n",
    "  - nCk = n! / ((n-k)!*k!)"
   ]
  },
  {
   "cell_type": "markdown",
   "id": "dfc9fd0a",
   "metadata": {
    "papermill": {
     "duration": 0.068055,
     "end_time": "2022-05-29T17:26:45.057779",
     "exception": false,
     "start_time": "2022-05-29T17:26:44.989724",
     "status": "completed"
    },
    "tags": []
   },
   "source": [
    "# Day 13\n",
    "dataquest-> prob and stats -> probability fundamentals -> conditional probabilities\n",
    "- first 2 slides -> mainly the recap of old chapter(above one).\n"
   ]
  },
  {
   "cell_type": "markdown",
   "id": "31ccb524",
   "metadata": {
    "papermill": {
     "duration": 0.067822,
     "end_time": "2022-05-29T17:26:45.193919",
     "exception": false,
     "start_time": "2022-05-29T17:26:45.126097",
     "status": "completed"
    },
    "tags": []
   },
   "source": [
    "# Day 14\n",
    "dataquest-> prob and stats -> probability fundamentals -> conditional probabilities\n",
    "<br>slide 4 completed\n",
    "<br>conditional probabilities\n",
    "- probabilities with condition\n",
    "- P(5)=What is the probability of getting a 5? -> normal probability\n",
    "- P(5 | odd) =What is the probability of getting a 5 given the die showed an odd number? -> conditional prob.\n",
    "\n"
   ]
  },
  {
   "cell_type": "markdown",
   "id": "c0658155",
   "metadata": {
    "papermill": {
     "duration": 0.067243,
     "end_time": "2022-05-29T17:26:45.329179",
     "exception": false,
     "start_time": "2022-05-29T17:26:45.261936",
     "status": "completed"
    },
    "tags": []
   },
   "source": [
    "# Day 15\n",
    "dataquest-> prob and stats -> probability fundamentals -> conditional probabilities\n",
    "- on slide 5 not done yet.\n",
    "\n",
    "Say we roll a fair six-sided die and want to find the probability of getting an odd number, given the die showed a number greater than 1 after landing. Using probability notation, we want to find P(A|B) where:\n",
    "\n",
    "- A is the event that the number is odd: A = {1, 3, 5}\n",
    "- B is the event that the number is greater than 1: B = {2, 3, 4, 5, 6}\n",
    "- P(A/B)=number of succesfull outcomes / total number of outcomes.\n"
   ]
  },
  {
   "cell_type": "markdown",
   "id": "0889cc9c",
   "metadata": {
    "papermill": {
     "duration": 0.067295,
     "end_time": "2022-05-29T17:26:45.464194",
     "exception": false,
     "start_time": "2022-05-29T17:26:45.396899",
     "status": "completed"
    },
    "tags": []
   },
   "source": [
    "# Day 16 and 17\n",
    "dataquest-> prob and stats -> probability fundamentals -> conditional probabilities\n",
    "\n",
    "on slide 6 not done yet."
   ]
  },
  {
   "cell_type": "markdown",
   "id": "13af6986",
   "metadata": {
    "papermill": {
     "duration": 0.067399,
     "end_time": "2022-05-29T17:26:45.599807",
     "exception": false,
     "start_time": "2022-05-29T17:26:45.532408",
     "status": "completed"
    },
    "tags": []
   },
   "source": [
    "# Day 18\n",
    "dataquest-> prob and stats -> probability fundamentals -> conditional probabilities\n",
    "<br>slide 5 code half done"
   ]
  },
  {
   "cell_type": "markdown",
   "id": "85198964",
   "metadata": {
    "papermill": {
     "duration": 0.067463,
     "end_time": "2022-05-29T17:26:45.735430",
     "exception": false,
     "start_time": "2022-05-29T17:26:45.667967",
     "status": "completed"
    },
    "tags": []
   },
   "source": [
    "# Day 19\n",
    "- The number of elements in a set is called the cardinal of the set. \n",
    "  Ω is a set, and the cardinal of \n",
    "   Ω = { 2,3,4,5,6}\n",
    "   cardinal(Ω)=5\n",
    "- P(A | B) = card(A ∩ B) / card(B)\n",
    "- Say we roll a fair six-sided die and want to find the probability of getting an odd number, given the die showed a number greater than 1 after landing. Using probability notation, we want to find P(A|B) where:\n",
    "    - A is the event that the number is odd: A = {1, 3, 5}\n",
    "     - B is the event that the number is greater than 1: B = {2, 3, 4, 5, 6}\n",
    "     - total number of possible outcomes = card({2,3,4,5,6}) =5\n",
    "     - number of successful outcomes = card({3,5})= 2\n",
    "- P(A | B) = card(A ∩ B) / card(B), we can also get the same result using P(A | B) = prob(A ∩ B) / prob(B)\n",
    "\n",
    "     "
   ]
  },
  {
   "cell_type": "markdown",
   "id": "5c119e32",
   "metadata": {
    "papermill": {
     "duration": 0.067533,
     "end_time": "2022-05-29T17:26:45.870945",
     "exception": false,
     "start_time": "2022-05-29T17:26:45.803412",
     "status": "completed"
    },
    "tags": []
   },
   "source": [
    "# Day 20\n",
    "dataquest-> prob and stats -> probability fundamentals -> conditional probabilities intermediate\n",
    "<br> slide 1 and 2\n",
    "- P( A | B ) ≠ P(A ∩ B), but rather:\n",
    "   - P(A | B) = P(A ∩ B) / P(B)\n",
    "   - P(A ∩ B) = P(A | B) ⋅ P(B)\n",
    "- Given that a customer bought a laptop, they will or will not also buy a mouse. This means we can be certain that either event (M|L) or (M^C|L) will happen:\n",
    "     - P(M | L) + P(M^C | L) = 1\n",
    "\n"
   ]
  },
  {
   "cell_type": "markdown",
   "id": "471a4bd1",
   "metadata": {
    "papermill": {
     "duration": 0.067834,
     "end_time": "2022-05-29T17:26:46.006464",
     "exception": false,
     "start_time": "2022-05-29T17:26:45.938630",
     "status": "completed"
    },
    "tags": []
   },
   "source": [
    "# Day 21\n",
    "dataquest-> prob and stats -> probability fundamentals -> conditional probabilities intermediate\n",
    "slide 1 and 2\n",
    "- P(A ∩ B) = P(B ∩ A)\n",
    "- multiplication rule of probability\n",
    "  -  P(A ∩ B) = P(B) ⋅ P(A | B) \n",
    "  - P(A ∩ B) = P(A) ⋅ P(B | A)\n",
    "- if P(A) and P(B) are statistically independent then \n",
    "  - P(A ∩ B) = P(A) ⋅ P(B)\n",
    "\n"
   ]
  },
  {
   "cell_type": "markdown",
   "id": "c9223ab3",
   "metadata": {
    "papermill": {
     "duration": 0.06756,
     "end_time": "2022-05-29T17:26:46.143675",
     "exception": false,
     "start_time": "2022-05-29T17:26:46.076115",
     "status": "completed"
    },
    "tags": []
   },
   "source": [
    "# Day 22\n",
    "dataquest-> prob and stats -> probability fundamentals -> conditional probabilities intermediate \n",
    "<br>slide 6\n",
    "- If events events A and B are dependent, it means the occurrence of event A changes the probability of event B and vice versa.\n",
    "   - P(A) ≠ P(A | B)\n",
    "   - P(B) ≠ P(B | A)\n",
    "   - P(A ∩ B) ≠ P(A) ⋅ P(B)\n",
    "   - formula will become P(A ∩ B) ≠ P(A) ⋅ P(B/A)\n",
    "   "
   ]
  },
  {
   "cell_type": "markdown",
   "id": "5ee6498e",
   "metadata": {
    "papermill": {
     "duration": 0.067579,
     "end_time": "2022-05-29T17:26:46.279244",
     "exception": false,
     "start_time": "2022-05-29T17:26:46.211665",
     "status": "completed"
    },
    "tags": []
   },
   "source": [
    "# Day 23\n",
    "dataquest-> prob and stats -> probability fundamentals -> conditional probabilities intermediate\n",
    "<br>slide 7 to last\n",
    "- To find whether three events — A, B, C — are independent or not, below conditions must hold true -\n",
    "  - P(A ∩ B) ≠ P(A) ⋅ P(B)\n",
    "  - P(A ∩ C) ≠ P(A) ⋅ P(C)\n",
    "  - P(B ∩ C) ≠ P(B) ⋅ P(C)\n",
    "  - P(A ∩ B ∩ C) ≠ P(A) ⋅ P(B) . P(C)\n",
    "- multiplication rule for conditional probability or dependent events\n",
    " - P(A ∩ B ∩ C) = P(A) ⋅ P(B | A) ⋅ P(C | A ∩ B)\n",
    " \n",
    "\n"
   ]
  },
  {
   "cell_type": "markdown",
   "id": "cd092bcd",
   "metadata": {
    "papermill": {
     "duration": 0.0675,
     "end_time": "2022-05-29T17:26:46.414590",
     "exception": false,
     "start_time": "2022-05-29T17:26:46.347090",
     "status": "completed"
    },
    "tags": []
   },
   "source": [
    "# Day 24\n",
    "dataquest-> prob and stats -> probability fundamentals -> bayes theorem\n",
    "<br>slide 1\n",
    "- independent -> one event is dependent on other\n",
    "   - P(A ∩ B) = P(A) ⋅ P(B/A)\n",
    "- independent -> one event is not dependent on other.\n",
    "   - P(A ∩ B) = P(A) ⋅ P(B)\n",
    "- mutually exclusive -> both the events cannot happen at the same time.\n",
    "   - P(A ∩ B) = 0\n",
    "\n"
   ]
  },
  {
   "cell_type": "markdown",
   "id": "85fb78a9",
   "metadata": {
    "papermill": {
     "duration": 0.067344,
     "end_time": "2022-05-29T17:26:46.549973",
     "exception": false,
     "start_time": "2022-05-29T17:26:46.482629",
     "status": "completed"
    },
    "tags": []
   },
   "source": [
    "# Day 25\n",
    "dataquest-> prob and stats -> probability fundamentals -> bayes theorem\n",
    "<br>slide 2\n",
    "- If two events are exhaustive, it means they make up the whole sample space Ω\n",
    "  -  P(A) = P(A ∩ B) + P(A ∩ B^c)\n",
    "     P(A) = (P(B) * P(A/B)) +  (P(B^c) * P(A/B^c))\n",
    "     \n",
    "     "
   ]
  },
  {
   "cell_type": "markdown",
   "id": "475bbff0",
   "metadata": {
    "papermill": {
     "duration": 0.067465,
     "end_time": "2022-05-29T17:26:46.686552",
     "exception": false,
     "start_time": "2022-05-29T17:26:46.619087",
     "status": "completed"
    },
    "tags": []
   },
   "source": [
    "# Day 26\n",
    "dataquest-> prob and stats -> probability fundamentals -> bayes theorem\n",
    "<br>slide 3 - last\n",
    "- the law of total probability\n",
    "  - P(A)  = (P(B1) * P(A/B1)) + (P(B2) * P(A/B2))+ ... + (P(Bn) * P(A/Bn)))\n",
    "  - P(A) =(summattion i=1 to n) P(Bi) ⋅ P(A|Bi)\n",
    "- Baye's theorem\n",
    "  - P(B | A) = (P(B) ⋅ P(A | B)) / (n ∑i=1 P(Bi) ⋅ P(A | Bi))\n",
    "- The probability of being infected with HIV before doing any test is called the prior probability (\"prior\" means \"before\"). The probability of being infected with HIV after testing positive is called the posterior probability (\"posterior\" means \"after\").\n",
    "\n",
    "\n",
    "  "
   ]
  },
  {
   "cell_type": "markdown",
   "id": "37c341cb",
   "metadata": {
    "papermill": {
     "duration": 0.067793,
     "end_time": "2022-05-29T17:26:46.823505",
     "exception": false,
     "start_time": "2022-05-29T17:26:46.755712",
     "status": "completed"
    },
    "tags": []
   },
   "source": [
    "# Day 27\n",
    "dataquest-> prob and stats -> probability fundamentals -> naive bayes theorem\n",
    "<br>slide 1 - \n",
    "P(Spam|w1,w2,w3,w4)∝P(Spam)⋅P(w1|Spam)⋅P(w2|Spam)⋅P(w3|Spam)⋅P(w4|Spam)P(SpamC|w1,w2,w3,w4)∝P(SpamC)⋅P(w1|SpamC)⋅P(w2|SpamC)⋅P(w3|SpamC)⋅P(w4|SpamC)"
   ]
  },
  {
   "cell_type": "markdown",
   "id": "692faa3a",
   "metadata": {
    "papermill": {
     "duration": 0.06783,
     "end_time": "2022-05-29T17:26:46.959266",
     "exception": false,
     "start_time": "2022-05-29T17:26:46.891436",
     "status": "completed"
    },
    "tags": []
   },
   "source": [
    "# Day 28\n",
    "dataquest-> prob and stats -> probability fundamentals -> naive bayes theorem\n",
    "<br>finished.\n",
    "<br>**Summary**\n",
    "- P(Spam|w1,w2,...,wn)∝P(Spam)⋅n∏i=1P(wi|Spam)\n",
    "- P(SpamC|w1,w2,...,wn)∝P(SpamC)⋅n∏i=1P(wi|SpamC)\n",
    "- To calculate P(wi|Spam) and P(wi|SpamC), we need to use the additive smoothing technique: \n",
    "- P ( w i | S p a m ) = (N w i | S p a m + α) / ( N S p a m + α ⋅ N V o c a b u l a r y )\n",
    "- P ( w i | S p a m C ) = (N w i | S p a m C + α) / ( N S p a m C + α ⋅ N V o c a b u l a r y )\n",
    "     - N w i | S p a m = the number of times the word w i occurs in spam messages \n",
    "     - N w i | S p a m C = the number of times the word w i occurs in non-spam messages \n",
    "     - N S p a m = total number of words in spam messages \n",
    "     - N S p a m C = total number of words in non-spam messages \n",
    "     - N V o c a b u l a r y = total number of words in the vocabulary \n",
    "     - α = 1 ( α is a smoothing parameter )\n",
    " - naive bayes theorem assumes that events are not dependent.\n",
    " - The assumption of conditional independence between words is thus naive since it rarely holds in practice, and this is why the algorithm is called Naive Bayes (also called simple Bayes or independence Bayes)."
   ]
  },
  {
   "cell_type": "markdown",
   "id": "81fb9c4d",
   "metadata": {
    "papermill": {
     "duration": 0.068252,
     "end_time": "2022-05-29T17:26:47.096993",
     "exception": false,
     "start_time": "2022-05-29T17:26:47.028741",
     "status": "completed"
    },
    "tags": []
   },
   "source": [
    "# Day 29,30,31\n",
    "<br>dataquest-> prob and stats -> probability fundamentals -> conditional probability-> guided projects\n",
    "<br> in progress"
   ]
  },
  {
   "cell_type": "markdown",
   "id": "2f0cde65",
   "metadata": {
    "papermill": {
     "duration": 0.068449,
     "end_time": "2022-05-29T17:26:47.234689",
     "exception": false,
     "start_time": "2022-05-29T17:26:47.166240",
     "status": "completed"
    },
    "tags": []
   },
   "source": [
    "# Day 32 and 33\n",
    "<br>dataquest-> prob and stats -> probability fundamentals -> guided projects\n",
    "<br> done"
   ]
  },
  {
   "cell_type": "markdown",
   "id": "c968b0bd",
   "metadata": {
    "papermill": {
     "duration": 0.068553,
     "end_time": "2022-05-29T17:26:47.372209",
     "exception": false,
     "start_time": "2022-05-29T17:26:47.303656",
     "status": "completed"
    },
    "tags": []
   },
   "source": [
    "# Day 34\n",
    "<br>dataquest-> prob and stats -> probability fundamentals -> guided projects-> lottery prediction\n",
    "<br> done"
   ]
  },
  {
   "cell_type": "markdown",
   "id": "27917906",
   "metadata": {
    "papermill": {
     "duration": 0.068011,
     "end_time": "2022-05-29T17:26:47.509993",
     "exception": false,
     "start_time": "2022-05-29T17:26:47.441982",
     "status": "completed"
    },
    "tags": []
   },
   "source": [
    "# Day 35\n",
    "<br>dataquest-> prob and stats -> hypothesis testing fundamentals -> significance testing\n",
    "<br> till slide 4\n",
    "- null hypothesis\n",
    "- alternate hypothesis\n"
   ]
  },
  {
   "cell_type": "markdown",
   "id": "7f2d0cdf",
   "metadata": {
    "papermill": {
     "duration": 0.067835,
     "end_time": "2022-05-29T17:26:47.645891",
     "exception": false,
     "start_time": "2022-05-29T17:26:47.578056",
     "status": "completed"
    },
    "tags": []
   },
   "source": [
    "# Day 36 and 37\n",
    "<br>dataquest-> prob and stats -> hypothesis testing fundamentals -> significance testing\n",
    "- The permutation test is a statistical test that involves rerunning the study many times and recalculating the test statistic for each iteration. The goal is to calculate a distribution of the test statistics over these many iterations. This distribution is called the sampling distribution and it approximates the full range of possible test statistics under the null hypothesis\n",
    "\n"
   ]
  },
  {
   "cell_type": "markdown",
   "id": "43ad6570",
   "metadata": {
    "papermill": {
     "duration": 0.067338,
     "end_time": "2022-05-29T17:26:47.781061",
     "exception": false,
     "start_time": "2022-05-29T17:26:47.713723",
     "status": "completed"
    },
    "tags": []
   },
   "source": [
    "# Day 38\n",
    "<br>dataquest-> prob and stats -> hypothesis testing fundamentals -> significance testing\n",
    "<br>in progress."
   ]
  },
  {
   "cell_type": "markdown",
   "id": "eb1f30ba",
   "metadata": {
    "papermill": {
     "duration": 0.067606,
     "end_time": "2022-05-29T17:26:47.917592",
     "exception": false,
     "start_time": "2022-05-29T17:26:47.849986",
     "status": "completed"
    },
    "tags": []
   },
   "source": [
    "# Day 39\n",
    "<br>dataquest-> prob and stats -> hypothesis testing fundamentals -> significance testing\n",
    "<br>slide 5-6"
   ]
  },
  {
   "cell_type": "markdown",
   "id": "ecc88f7d",
   "metadata": {
    "papermill": {
     "duration": 0.067577,
     "end_time": "2022-05-29T17:26:48.054765",
     "exception": false,
     "start_time": "2022-05-29T17:26:47.987188",
     "status": "completed"
    },
    "tags": []
   },
   "source": [
    "# Day 40\n",
    "<br>dataquest-> prob and stats -> hypothesis testing fundamentals -> significance testing\n",
    "<br>slide 7"
   ]
  },
  {
   "cell_type": "markdown",
   "id": "0eb35e68",
   "metadata": {
    "papermill": {
     "duration": 0.068919,
     "end_time": "2022-05-29T17:26:48.191551",
     "exception": false,
     "start_time": "2022-05-29T17:26:48.122632",
     "status": "completed"
    },
    "tags": []
   },
   "source": [
    "# Day 41 and 42\n",
    "<br>dataquest-> prob and stats -> hypothesis testing fundamentals -> significance testing\n",
    "<br>slide 7 done and 8(p-value) strated"
   ]
  },
  {
   "cell_type": "markdown",
   "id": "265e84a7",
   "metadata": {
    "papermill": {
     "duration": 0.067576,
     "end_time": "2022-05-29T17:26:48.329946",
     "exception": false,
     "start_time": "2022-05-29T17:26:48.262370",
     "status": "completed"
    },
    "tags": []
   },
   "source": [
    "# Day 43\n",
    "<br>dataquest-> prob and stats -> hypothesis testing fundamentals -> significance testing\n",
    "<br>\n",
    "- The first step is to decide a test statistic, which is a numerical value that summarizes the data and one we can use in statistical formulas. The test statistic runs a statistical test that determines whether the difference between the groups was due to random chance.\n",
    "  - e.x: mean \n",
    "- The permutation test is a statistical test that involves rerunning the study many times and recalculating the test statistic for each iteration.\n",
    "   - The goal is to calculate a distribution of the test statistics over these many iterations. This distribution is called the sampling distribution and it approximates the full range of possible test statistics under the null hypothesis.\n",
    "- If the p value is less than the threshold, we:\n",
    "    - reject the null hypothesis that there's no difference in the mean amount of weight lost by participants in both groups; and\n",
    "    - conclude that there is some evidence that the weight loss pill does affect the amount of weight people lost.\n",
    "\n",
    "- If the p value is greater than the threshold, we:\n",
    "    - fail to reject the null hypothesis that there's no difference in the mean amount of weight lost by participants in both groups,\n",
    "    - conclude that the weight loss pill doesn't seem to be effective in helping people lose weight.\n",
    "- usually used p-value threshold is 0.05\n",
    "- The p value threshold you set can also affect the conclusion you reach.\n",
    "    - If you set too high of a p value threshold, you may reject the null hypothesis incorrectly. This is known as a type I error.\n",
    "    - If you set too low of a p value threshold, you may fail to reject the null hypothesis incorrectly. This is known as a type II error."
   ]
  },
  {
   "cell_type": "markdown",
   "id": "4eb774b4",
   "metadata": {
    "papermill": {
     "duration": 0.06761,
     "end_time": "2022-05-29T17:26:48.465533",
     "exception": false,
     "start_time": "2022-05-29T17:26:48.397923",
     "status": "completed"
    },
    "tags": []
   },
   "source": [
    "# Day 44\n",
    "<br>dataquest-> prob and stats -> hypothesis testing fundamentals -> significance testing-> chi squared test\n",
    "<br>1- 4\n",
    "- chi squared test is used for numerical values"
   ]
  },
  {
   "cell_type": "markdown",
   "id": "fcda7668",
   "metadata": {
    "papermill": {
     "duration": 0.067861,
     "end_time": "2022-05-29T17:26:48.602133",
     "exception": false,
     "start_time": "2022-05-29T17:26:48.534272",
     "status": "completed"
    },
    "tags": []
   },
   "source": [
    "# Day 45 and 46\n",
    "<br>dataquest-> prob and stats -> hypothesis testing fundamentals -> significance testing-> chi squared test\n",
    "<br>4- 6"
   ]
  },
  {
   "cell_type": "markdown",
   "id": "297a40f1",
   "metadata": {
    "papermill": {
     "duration": 0.067609,
     "end_time": "2022-05-29T17:26:48.738718",
     "exception": false,
     "start_time": "2022-05-29T17:26:48.671109",
     "status": "completed"
    },
    "tags": []
   },
   "source": [
    "# Day 47\n",
    "<br>dataquest-> prob and stats -> hypothesis testing fundamentals -> significance testing-> chi squared test\n",
    "<br> slide 6 done"
   ]
  },
  {
   "cell_type": "markdown",
   "id": "a855fcdc",
   "metadata": {
    "papermill": {
     "duration": 0.068351,
     "end_time": "2022-05-29T17:26:48.874936",
     "exception": false,
     "start_time": "2022-05-29T17:26:48.806585",
     "status": "completed"
    },
    "tags": []
   },
   "source": [
    "# Day 48\n",
    "<br> chi-squared values is that they get smaller as the sample size decreases.\n",
    "<br>**conclusion**\n",
    "- The chi-squared test enables us to quantify the difference between sets of observed and expected categorical values to determine statistical significance\n",
    "- chi squared = (observed - expected)**2 / expected\n",
    "- A p-value allows us to determine whether the difference between 2 values is due to chance, or due to an underlying difference.\n",
    "- Chi-squared values increase as sample size increases, but the chance of getting a high chi-squared value decreases as the sample gets larger.\n",
    "- A degree of freedom is the number of values that can vary without the other values being\"locked in\". \n",
    "- scipy https://docs.scipy.org/doc/scipy/reference/generated/scipy.stats.mstats.chisquare.html\n"
   ]
  },
  {
   "cell_type": "markdown",
   "id": "73f4e78f",
   "metadata": {
    "papermill": {
     "duration": 0.068261,
     "end_time": "2022-05-29T17:26:49.012140",
     "exception": false,
     "start_time": "2022-05-29T17:26:48.943879",
     "status": "completed"
    },
    "tags": []
   },
   "source": [
    "# Day 49\n",
    "<br>dataquest-> prob and stats -> hypothesis testing fundamentals -> significance testing-> multi category chi squared test\n",
    "<br> slide 1 done\n",
    "- We can apply the multi category chi-squared test (also known as the chi-squared test of association) to figure out if there's a statistically significant correlation between two categorical columns.\n",
    "- "
   ]
  },
  {
   "cell_type": "markdown",
   "id": "ef81c8d8",
   "metadata": {
    "papermill": {
     "duration": 0.06804,
     "end_time": "2022-05-29T17:26:49.148678",
     "exception": false,
     "start_time": "2022-05-29T17:26:49.080638",
     "status": "completed"
    },
    "tags": []
   },
   "source": [
    " **Day 50**\n",
    "<br>dataquest-> prob and stats -> hypothesis testing fundamentals -> significance testing-> multi category chi squared test\n",
    "# Conclusion:\n",
    "- In a multiple category chi-squared test, we calculate expected values across our whole dataset.\n",
    "- We can calculate the chi-squared value by using the following steps:\n",
    "    - Subtract the expected value from the observed value.\n",
    "    - Subtract the difference.\n",
    "    - Divide the squared difference by the expected value.\n",
    "    - Repeat for all observed and expected values and add up all the values.\n",
    "- ∑ expected(observed−expected)**2 / expected\n",
    "- Discovering that a result isn't significant doesn't mean that no association between the columnsexists. Discovering a statistically significant result doesn't imply anything about what thecorrelation is.\n",
    "- Chi-squared tests can only be applied when each possibility within a category is independen.\n",
    "    - we have categories like male or female not both. single row has either male or female not both at a time.\n",
    "- https://docs.scipy.org/doc/scipy-0.15.1/reference/generated/scipy.stats.chi2_contingency.html\n",
    "- https://pandas.pydata.org/pandas-docs/stable/generated/pandas.crosstab.html\n"
   ]
  },
  {
   "cell_type": "markdown",
   "id": "93d3c871",
   "metadata": {
    "papermill": {
     "duration": 0.067955,
     "end_time": "2022-05-29T17:26:49.284940",
     "exception": false,
     "start_time": "2022-05-29T17:26:49.216985",
     "status": "completed"
    },
    "tags": []
   },
   "source": [
    "# **Day 51, 52**\n",
    "<br>dataquest-> prob and stats -> hypothesis testing fundamentals -> significance testing-> guided project\n",
    "<br>in progress."
   ]
  },
  {
   "cell_type": "markdown",
   "id": "a1f7a557",
   "metadata": {
    "papermill": {
     "duration": 0.06757,
     "end_time": "2022-05-29T17:26:49.420512",
     "exception": false,
     "start_time": "2022-05-29T17:26:49.352942",
     "status": "completed"
    },
    "tags": []
   },
   "source": [
    "# **Day 53**\n",
    "<br>dataquest-> prob and stats -> hypothesis testing fundamentals -> significance testing-> guided project\n",
    "<br>done"
   ]
  },
  {
   "cell_type": "markdown",
   "id": "0619283e",
   "metadata": {
    "papermill": {
     "duration": 0.067658,
     "end_time": "2022-05-29T17:26:49.556048",
     "exception": false,
     "start_time": "2022-05-29T17:26:49.488390",
     "status": "completed"
    },
    "tags": []
   },
   "source": [
    "# **Day 54,55, 56,57, 58, 59**\n",
    "interviewbit-> probability-> conditional probability\n",
    "1. You asked your three friends whether it will rain or not and all three affirmed for rain. All three have the probability of 1/3 of lying. What is the probability that it will actually rain?\n",
    "- https://www.geeksforgeeks.org/puzzle-is-it-raining/#:~:text=Explanation%3A,truth%20or%20all%20are%20lying.&text=So%2C%20it%20is%20approximately%2089,it%20is%20raining%20in%20Hyderabad.\n",
    "2. Anshul and Deven take turns in rolling a fair six-sided die. Whoever rolls a “6” first wins the game. Deven starts by rolling first. What’s the probability that Anshul wins?\n",
    "- https://www.quora.com/A-and-B-throw-a-Fair-die-one-after-another-Whoever-throws-6-first-wins-What-is-the-probability-that-A-wins\n",
    "\n",
    "3. You have a bag with 6 marbles. One marble is white. You reach the bag 100 times. After taking out a marble, it is placed back in the bag. What is the probability of drawing a white marble at least once?\n",
    "- https://brainly.com/question/14376470\n",
    "- Answer:\n",
    "\n",
    "0.999999988\n",
    "\n",
    "Step-by-step explanation:\n",
    "\n",
    "Given that you  have a bag with 6 marbles. One marble is white. You reach the bag 100 times. After taking out a marble, it is placed back in the bag.\n",
    "\n",
    "Because every time you replace the marble drawn, the probability for drawing a white marble in one draw is constant = p =5/6\n",
    "\n",
    "No of trials n = 100\n",
    "\n",
    "Here X no of times white marble is drawn is Binomial since there are two outcomes and also the probability is constant.\n",
    "\n",
    "the probability of drawing a white marble at least once\n",
    "\n",
    "=\n",
    "\n",
    "Required probability is almost 1.\n",
    "\n",
    "\n",
    "4. Supposedly a friend of yours has 2 children and at least one of them is a boy. What is the probability that the other is also a boy?\n",
    "- If at least one is a boy, there are three possible equally likely gender assignations of two siblings. boy-boy, boy-girl,\n",
    "\n",
    " or girl-boy. Only 1 in 3 cases or 33 percent are both boys. The lesson here is that when considering equally likely scenarios\n",
    "\n",
    " we must consider birth order. If the birth order of the boy is not specified – i.e. if we don’t know if he is the eldest or \n",
    "\n",
    " the youngest – the probability of two boys drops to 1 in 3.\n",
    " \n",
    "5. A single card is drawn from a standard deck of playing cards. What is the probability that the card is a queen provided that a face card is drawn from the deck of cards?\n",
    "- 4/12 = 1/3\n",
    " \n",
    "6. random variables Q1,2\n",
    "7. 5 questions\n",
    "8. bayes theorem first 2\n",
    "\n",
    "**Day 60**\n",
    "- inferential statistics - 3 questions\n",
    "**Day 61**\n",
    "- inferential statistics - central limit theorem done\n",
    "\n",
    "**Day 62**\n",
    "- inferential statistics - distribution analysis multivariate done\n",
    "\n",
    "**Day 63**\n",
    "- inferential statistics -  done\n",
    "\n",
    "**Day 64,65, 66**\n",
    "- Data Analysis-  wip\n",
    "\n",
    "**Day 67**\n",
    "- Data Analysis-  web scrapping done\n",
    "\n",
    "**Day 68**\n",
    "- Data Analysis-  descriptive statistics tutorial done\n",
    "\n",
    "**Day 69**\n",
    "- Data Analysis-  probability tutorial done\n",
    "\n",
    "**Day 70**\n",
    "- Data Analysis-  hypothesis testing wip\n",
    "\n",
    "**Day 71**\n",
    "- Data Analysis-  inferential statistics tutorials - done\n",
    "\n",
    "**Day 72**\n",
    "- Data Analysis-  inferential statistics tutorials - done\n",
    "\n",
    "**Day 73**\n",
    "- Data Analysis-  data analysis tutorials - wip\n",
    "\n",
    "**Day 74**\n",
    "\n",
    "**Interview Prep:**\n",
    "1. clustering evaluation techniques:\n",
    "- https://towardsdatascience.com/clustering-evaluation-strategies-98a4006fcfc\n",
    "\n",
    "**Day 75**\n",
    "\n",
    "2. feature selection\n",
    "- https://www.analyticsvidhya.com/blog/2016/12/introduction-to-feature-selection-methods-with-an-example-or-how-to-select-the-right-variables/\n",
    "\n",
    "**Day 76**\n",
    "\n",
    "2. linear regression\n",
    "- https://towardsdatascience.com/introduction-to-machine-learning-algorithms-linear-regression-14c4e325882a and also data camp\n",
    "\n",
    "**Day 77**\n",
    "\n",
    "3. What’s the normal distribution? Why do we care about it?\n",
    "- https://www.youtube.com/watch?v=rzFX5NWojp0&ab_channel=StatQuestwithJoshStarmer\n",
    "\n",
    "**Day 78, 79**\n",
    "\n",
    " few questions from dsinterviews.org\n",
    " \n",
    " \n",
    "**Day 80 **\n",
    "\n",
    " linear regression from datacamp -> done\n"
   ]
  },
  {
   "cell_type": "markdown",
   "id": "2d45f0cb",
   "metadata": {
    "papermill": {
     "duration": 0.068698,
     "end_time": "2022-05-29T17:26:49.692563",
     "exception": false,
     "start_time": "2022-05-29T17:26:49.623865",
     "status": "completed"
    },
    "tags": []
   },
   "source": []
  },
  {
   "cell_type": "code",
   "execution_count": null,
   "id": "84de17fb",
   "metadata": {
    "papermill": {
     "duration": 0.067493,
     "end_time": "2022-05-29T17:26:49.827780",
     "exception": false,
     "start_time": "2022-05-29T17:26:49.760287",
     "status": "completed"
    },
    "tags": []
   },
   "outputs": [],
   "source": []
  },
  {
   "cell_type": "code",
   "execution_count": 2,
   "id": "60dd6f27",
   "metadata": {
    "execution": {
     "iopub.execute_input": "2022-05-29T17:26:49.967273Z",
     "iopub.status.busy": "2022-05-29T17:26:49.966626Z",
     "iopub.status.idle": "2022-05-29T17:26:49.970972Z",
     "shell.execute_reply": "2022-05-29T17:26:49.970463Z",
     "shell.execute_reply.started": "2022-04-12T14:17:49.333113Z"
    },
    "papermill": {
     "duration": 0.075251,
     "end_time": "2022-05-29T17:26:49.971111",
     "exception": false,
     "start_time": "2022-05-29T17:26:49.895860",
     "status": "completed"
    },
    "tags": []
   },
   "outputs": [],
   "source": [
    "# !pip install PyMuPDF"
   ]
  },
  {
   "cell_type": "code",
   "execution_count": 3,
   "id": "1ffcc2b8",
   "metadata": {
    "execution": {
     "iopub.execute_input": "2022-05-29T17:26:50.112074Z",
     "iopub.status.busy": "2022-05-29T17:26:50.111446Z",
     "iopub.status.idle": "2022-05-29T17:26:50.114221Z",
     "shell.execute_reply": "2022-05-29T17:26:50.113619Z",
     "shell.execute_reply.started": "2022-04-12T14:19:20.437905Z"
    },
    "papermill": {
     "duration": 0.074529,
     "end_time": "2022-05-29T17:26:50.114374",
     "exception": false,
     "start_time": "2022-05-29T17:26:50.039845",
     "status": "completed"
    },
    "tags": []
   },
   "outputs": [],
   "source": [
    " \n",
    "# fitz.__version__"
   ]
  },
  {
   "cell_type": "code",
   "execution_count": 4,
   "id": "c7c9ee5d",
   "metadata": {
    "execution": {
     "iopub.execute_input": "2022-05-29T17:26:50.253663Z",
     "iopub.status.busy": "2022-05-29T17:26:50.253055Z",
     "iopub.status.idle": "2022-05-29T17:26:50.255860Z",
     "shell.execute_reply": "2022-05-29T17:26:50.256471Z",
     "shell.execute_reply.started": "2022-04-12T14:23:59.687259Z"
    },
    "papermill": {
     "duration": 0.074147,
     "end_time": "2022-05-29T17:26:50.256628",
     "exception": false,
     "start_time": "2022-05-29T17:26:50.182481",
     "status": "completed"
    },
    "tags": []
   },
   "outputs": [],
   "source": [
    "# !python -m spacy download en_core_web_sm"
   ]
  },
  {
   "cell_type": "code",
   "execution_count": null,
   "id": "57816b91",
   "metadata": {
    "papermill": {
     "duration": 0.070662,
     "end_time": "2022-05-29T17:26:50.394964",
     "exception": false,
     "start_time": "2022-05-29T17:26:50.324302",
     "status": "completed"
    },
    "tags": []
   },
   "outputs": [],
   "source": []
  },
  {
   "cell_type": "code",
   "execution_count": 5,
   "id": "ae0c2f66",
   "metadata": {
    "execution": {
     "iopub.execute_input": "2022-05-29T17:26:50.535082Z",
     "iopub.status.busy": "2022-05-29T17:26:50.534442Z",
     "iopub.status.idle": "2022-05-29T17:26:50.537543Z",
     "shell.execute_reply": "2022-05-29T17:26:50.536968Z",
     "shell.execute_reply.started": "2022-04-12T14:18:25.912243Z"
    },
    "papermill": {
     "duration": 0.07467,
     "end_time": "2022-05-29T17:26:50.537682",
     "exception": false,
     "start_time": "2022-05-29T17:26:50.463012",
     "status": "completed"
    },
    "tags": []
   },
   "outputs": [],
   "source": [
    "# import fitz\n",
    "# import spacy\n",
    "# import re\n",
    "# from pathlib import Path\n",
    "# import requests\n",
    "# import os"
   ]
  },
  {
   "cell_type": "code",
   "execution_count": 6,
   "id": "d4c2f0b9",
   "metadata": {
    "execution": {
     "iopub.execute_input": "2022-05-29T17:26:50.680059Z",
     "iopub.status.busy": "2022-05-29T17:26:50.679399Z",
     "iopub.status.idle": "2022-05-29T17:26:50.682566Z",
     "shell.execute_reply": "2022-05-29T17:26:50.682060Z",
     "shell.execute_reply.started": "2022-04-12T15:03:43.5897Z"
    },
    "papermill": {
     "duration": 0.076489,
     "end_time": "2022-05-29T17:26:50.682696",
     "exception": false,
     "start_time": "2022-05-29T17:26:50.606207",
     "status": "completed"
    },
    "tags": []
   },
   "outputs": [],
   "source": [
    "# sql_db_json = [\n",
    "#   {\n",
    "#     \"document_id\": \"1\",\n",
    "#     \"area\": \"[72.1149,661.2966,131.95729,675.1716]\",\n",
    "#     \"page\": \"3\",\n",
    "#     \"text_\": \"Background\",\n",
    "#     \"type_of_selection\": \"Text\",\n",
    "#     \"entity_type\": \"name\",\n",
    "#     \"link\": \"https://redactable-devox-stage.s3.us-east-2.amazonaws.com/tenants/41d9e109-693b-444c-aa18-e5891bc6550b/original/1a7c0e5d-3237-4ca9-9e3d-89e707245ac6/D8communications.pdf\"\n",
    "#   },\n",
    "#   {\n",
    "#     \"document_id\": \"1\",\n",
    "#     \"area\": \"[290.55386,632.0173,322.14685,645.8923]\",\n",
    "#     \"page\": \"2\",\n",
    "#     \"text_\": \"INDEX\",\n",
    "#     \"type_of_selection\": \"Text\",\n",
    "#     \"entity_type\": \"address\",\n",
    "#     \"link\": \"https://redactable-devox-stage.s3.us-east-2.amazonaws.com/tenants/41d9e109-693b-444c-aa18-e5891bc6550b/original/1a7c0e5d-3237-4ca9-9e3d-89e707245ac6/D8communications.pdf\"\n",
    "#   }\n",
    "# ]"
   ]
  },
  {
   "cell_type": "code",
   "execution_count": 7,
   "id": "ac514f86",
   "metadata": {
    "execution": {
     "iopub.execute_input": "2022-05-29T17:26:50.824109Z",
     "iopub.status.busy": "2022-05-29T17:26:50.823433Z",
     "iopub.status.idle": "2022-05-29T17:26:50.825590Z",
     "shell.execute_reply": "2022-05-29T17:26:50.826027Z",
     "shell.execute_reply.started": "2022-04-12T13:17:19.452695Z"
    },
    "papermill": {
     "duration": 0.075217,
     "end_time": "2022-05-29T17:26:50.826192",
     "exception": false,
     "start_time": "2022-05-29T17:26:50.750975",
     "status": "completed"
    },
    "tags": []
   },
   "outputs": [],
   "source": [
    "# l=pd.DataFrame()\n",
    "# k=(1, '[290.55386,632.0173,322.14685,645.8923]', 2, 'INDEX', 'Text', 'address', 'https://redactable-devox-s')\n",
    "# k\n"
   ]
  },
  {
   "cell_type": "code",
   "execution_count": 8,
   "id": "fd542c1c",
   "metadata": {
    "execution": {
     "iopub.execute_input": "2022-05-29T17:26:50.968602Z",
     "iopub.status.busy": "2022-05-29T17:26:50.967888Z",
     "iopub.status.idle": "2022-05-29T17:26:50.971201Z",
     "shell.execute_reply": "2022-05-29T17:26:50.970600Z",
     "shell.execute_reply.started": "2022-04-12T16:09:33.708631Z"
    },
    "papermill": {
     "duration": 0.076922,
     "end_time": "2022-05-29T17:26:50.971372",
     "exception": false,
     "start_time": "2022-05-29T17:26:50.894450",
     "status": "completed"
    },
    "tags": []
   },
   "outputs": [],
   "source": [
    "# co=[\"document_id\",\"area\",\"page\",\"text_\",\"type_of_selection\",\"entity_type\",\"link\"]\n",
    "# val= [(1,'[72.1149,661.2966,131.95729,675.1716]',3,'Background','Text','name' ,'https://redactable-devox-stage.s3.us-east-2.am'), (1,  '[290.55386,632.0173,322.14685,645.8923]',2,'INDEX', 'Text','address','https://redactable-devox-stage.s3.us-east-2.am')]\n",
    "\n",
    "# df=pd.DataFrame(val,columns=[co])\n",
    "# #df.iloc[1] =[1,  '[290.55386,632.0173,322.14685,645.8923]',2,'INDEX', 'Text','address','https://redactable-devox-stage.s3.us-east-2.am']\n",
    "# df"
   ]
  },
  {
   "cell_type": "code",
   "execution_count": 9,
   "id": "e60f4310",
   "metadata": {
    "execution": {
     "iopub.execute_input": "2022-05-29T17:26:51.117971Z",
     "iopub.status.busy": "2022-05-29T17:26:51.117230Z",
     "iopub.status.idle": "2022-05-29T17:26:51.119553Z",
     "shell.execute_reply": "2022-05-29T17:26:51.118920Z",
     "shell.execute_reply.started": "2022-04-12T16:18:22.595374Z"
    },
    "papermill": {
     "duration": 0.076168,
     "end_time": "2022-05-29T17:26:51.119704",
     "exception": false,
     "start_time": "2022-05-29T17:26:51.043536",
     "status": "completed"
    },
    "tags": []
   },
   "outputs": [],
   "source": [
    "# prev=[]\n",
    "# for data,row in df.iterrows():\n",
    "#     if row['document_id'] not in prev:\n",
    "#         prev.append(row['document_id'])\n",
    "#         print('hey')"
   ]
  },
  {
   "cell_type": "code",
   "execution_count": 10,
   "id": "418961e1",
   "metadata": {
    "execution": {
     "iopub.execute_input": "2022-05-29T17:26:51.267687Z",
     "iopub.status.busy": "2022-05-29T17:26:51.266999Z",
     "iopub.status.idle": "2022-05-29T17:26:51.269961Z",
     "shell.execute_reply": "2022-05-29T17:26:51.269402Z",
     "shell.execute_reply.started": "2022-04-12T15:03:48.248836Z"
    },
    "papermill": {
     "duration": 0.079064,
     "end_time": "2022-05-29T17:26:51.270101",
     "exception": false,
     "start_time": "2022-05-29T17:26:51.191037",
     "status": "completed"
    },
    "tags": []
   },
   "outputs": [],
   "source": [
    "# nlp = spacy.load('en_core_web_sm')\n",
    "# train_data = []\n",
    "\n",
    "# prev_doc_id = ''\n",
    "# i=0\n",
    "# temp='/kaggle/working'\n",
    "\n",
    "# for data in sql_db_json:\n",
    "#     if data['type_of_selection'] == 'Text':\n",
    "#         document_id = data['document_id']\n",
    "#         x1,y1,x2,y2 = data['area'][1:-1].split(',')\n",
    "#         url = data['link']\n",
    "#         page_no = int(data['page']) - 1 \n",
    "#         label = data['entity_type']\n",
    "#         filename = url.split('/')[-1]\n",
    "    \n",
    "#         #download the file to temp folder\n",
    "#         outpath = os.path.join(temp,filename)\n",
    "\n",
    "#         if document_id == prev_doc_id:\n",
    "#             pass\n",
    "#         else: \n",
    "#             i+=1\n",
    "#             print(i)\n",
    "#             response = requests.get(url)\n",
    "#             with open(outpath, \"wb\") as binary_file:\n",
    "#                 binary_file.write(response.content)\n",
    "\n",
    "#         doc = fitz.open(outpath)  # any supported document type\n",
    "#         page = doc[page_no]  # we want text from this page\n",
    "#         print('page dimension - ', page.rect.width, page.rect.height)\n",
    "\n",
    "#         #The co-ordinates in the DB are image co-ords. W.r.t pdf, y1 and y2 has to be interchanged.\n",
    "#         #To ensure entire word to be selected, slight correction in x1,y1,x2,y2 is done.\n",
    "\n",
    "#         rect = [float(x1)-2, 792 - float(y2)-2, float(x2)+2, 792 - float(y1)+2]\n",
    "#         print(rect)\n",
    "#         labelled_text = page.get_textbox(rect)\n",
    "\n",
    "#         #Removing all unprintable characters from the text\n",
    "#         string = re.sub('[^0-9a-zA-Z@?|\\/<>.,()&^%$#!]+', ' ', labelled_text)\n",
    "#         print('string : ', string)\n",
    "\n",
    "#         fulltext = page.get_text()\n",
    "#         doc = nlp(fulltext)\n",
    "\n",
    "#         sentences = []\n",
    "#         for sent in doc.sents:\n",
    "#             if string.strip() in sent.text:\n",
    "#                 text = re.sub('[^0-9a-zA-Z@?|\\/<>.,()&^%$#!]+', ' ', sent.text)\n",
    "\n",
    "#         res = re.search(string.strip(), text)\n",
    "\n",
    "#         entities = []\n",
    "#         entities.append((res.start(),res.end(),label))\n",
    "\n",
    "#         train_data.append((text,{'entities':entities}))\n",
    "\n",
    "# print('Training data in spacy format')\n",
    "# print('*****************************')\n",
    "# for i in range(0,len(train_data)):\n",
    "#     print(train_data[i])"
   ]
  },
  {
   "cell_type": "code",
   "execution_count": null,
   "id": "ed49ad3e",
   "metadata": {
    "papermill": {
     "duration": 0.068105,
     "end_time": "2022-05-29T17:26:51.406588",
     "exception": false,
     "start_time": "2022-05-29T17:26:51.338483",
     "status": "completed"
    },
    "tags": []
   },
   "outputs": [],
   "source": []
  },
  {
   "cell_type": "code",
   "execution_count": 11,
   "id": "4d739503",
   "metadata": {
    "execution": {
     "iopub.execute_input": "2022-05-29T17:26:51.549144Z",
     "iopub.status.busy": "2022-05-29T17:26:51.548442Z",
     "iopub.status.idle": "2022-05-29T17:26:51.551201Z",
     "shell.execute_reply": "2022-05-29T17:26:51.550694Z",
     "shell.execute_reply.started": "2022-04-12T11:44:59.253637Z"
    },
    "papermill": {
     "duration": 0.076404,
     "end_time": "2022-05-29T17:26:51.551365",
     "exception": false,
     "start_time": "2022-05-29T17:26:51.474961",
     "status": "completed"
    },
    "tags": []
   },
   "outputs": [],
   "source": [
    "# nlp = spacy.load('en_core_web_sm')\n",
    "# train_data = []\n",
    "\n",
    "# prev_doc_id = ''\n",
    "# temp='/kaggle/working'\n",
    "# i=0\n",
    "# for data in sql_db_json:\n",
    "#     if data['type_of_selection'] == 'Text':\n",
    "#         document_id = data['document_id']\n",
    "#         x1,y1,x2,y2 = data['area'][1:-1].split(',')\n",
    "#         url = data['link']\n",
    "#         page_no = int(data['page']) - 1 \n",
    "#         label = data['entity_type']\n",
    "#         filename = url.split('/')[-1]\n",
    "    \n",
    "#         #download the file to temp folder\n",
    "#         i+=1\n",
    "#         print(i)\n",
    "#         response = requests.get(url)\n",
    "#         doc = fitz.open(stream=response.content,filetype=\"pdf\")  # any supported document type\n",
    "#         page = doc[page_no]  # we want text from this page\n",
    "#         print('page dimension - ', page.rect.width, page.rect.height)\n",
    "\n",
    "#         #The co-ordinates in the DB are image co-ords. W.r.t pdf, y1 and y2 has to be interchanged.\n",
    "#         #To ensure entire word to be selected, slight correction in x1,y1,x2,y2 is done.\n",
    "\n",
    "#         rect = [float(x1)-2, 792 - float(y2)-2, float(x2)+2, 792 - float(y1)+2]\n",
    "#         print(rect)\n",
    "#         labelled_text = page.get_textbox(rect)\n",
    "\n",
    "#         #Removing all unprintable characters from the text\n",
    "#         string = re.sub('[^0-9a-zA-Z@?|\\/<>.,()&^%$#!]+', ' ', labelled_text)\n",
    "#         print('string : ', string)\n",
    "\n",
    "#         fulltext = page.get_text()\n",
    "#         doc = nlp(fulltext)\n",
    "\n",
    "#         sentences = []\n",
    "#         for sent in doc.sents:\n",
    "#             if string.strip() in sent.text:\n",
    "#                 text = re.sub('[^0-9a-zA-Z@?|\\/<>.,()&^%$#!]+', ' ', sent.text)\n",
    "\n",
    "#         res = re.search(string.strip(), text)\n",
    "\n",
    "#         entities = []\n",
    "#         entities.append((res.start(),res.end(),label))\n",
    "\n",
    "#         train_data.append((text,{'entities':entities}))\n",
    "\n",
    "# print('Training data in spacy format')\n",
    "# print('*****************************')\n",
    "# for i in range(0,len(train_data)):\n",
    "#     print(train_data[i])"
   ]
  },
  {
   "cell_type": "code",
   "execution_count": 12,
   "id": "718c5606",
   "metadata": {
    "execution": {
     "iopub.execute_input": "2022-05-29T17:26:51.718170Z",
     "iopub.status.busy": "2022-05-29T17:26:51.717172Z",
     "iopub.status.idle": "2022-05-29T17:26:51.720961Z",
     "shell.execute_reply": "2022-05-29T17:26:51.721543Z"
    },
    "papermill": {
     "duration": 0.089568,
     "end_time": "2022-05-29T17:26:51.721710",
     "exception": false,
     "start_time": "2022-05-29T17:26:51.632142",
     "status": "completed"
    },
    "tags": []
   },
   "outputs": [],
   "source": [
    "# page dimension -  612.0 792.0\n",
    "# [70.1149, 114.82839999999999, 133.95729, 132.7034]\n",
    "# string :  Background\n",
    "# page dimension -  612.0 792.0\n",
    "# [288.55386, 144.10770000000002, 324.14685, 161.98270000000002]\n",
    "# string :  INDEX\n",
    "# Training data in spacy format\n",
    "# *****************************\n",
    "# (' 3 Background The Blue Ribbon Committee was created by the Mayor to assess various city communication methods and recommend opportunities to improve communications with residents, businesses and other organizations.', {'entities': [(3, 13, 'name')]})\n",
    "# (' 2 INDEX Background Pg. 3 Purpose Pg. 3 Process .', {'entities': [(3, 8, 'address')]})"
   ]
  },
  {
   "cell_type": "code",
   "execution_count": 13,
   "id": "0abe25b5",
   "metadata": {
    "execution": {
     "iopub.execute_input": "2022-05-29T17:26:51.878507Z",
     "iopub.status.busy": "2022-05-29T17:26:51.877527Z",
     "iopub.status.idle": "2022-05-29T17:26:51.881978Z",
     "shell.execute_reply": "2022-05-29T17:26:51.882549Z",
     "shell.execute_reply.started": "2022-04-11T16:35:29.609712Z"
    },
    "papermill": {
     "duration": 0.078633,
     "end_time": "2022-05-29T17:26:51.882716",
     "exception": false,
     "start_time": "2022-05-29T17:26:51.804083",
     "status": "completed"
    },
    "tags": []
   },
   "outputs": [],
   "source": [
    "# nlp = spacy.load('en_core_web_sm')\n",
    "# outpath=r'/kaggle/input/sample-pdf/D8communications.pdf'\n",
    "# doc = fitz.open(outpath)  # any supported document type\n",
    "# page_no=3\n",
    "# page = doc[page_no-1]\n",
    "\n",
    "# x1,y1,x2,y2=(72.1149,661.2966,131.95729,675.1716)\n",
    "\n",
    "# rect = [float(x1)-2, 792 - float(y2)-2, float(x2)+2, 792 - float(y1)+2]\n",
    "# print(rect)\n",
    "# labelled_text = page.get_textbox(rect)\n",
    "# string = re.sub('[^0-9a-zA-Z@?|\\/<>.,()&^%$#!]+', ' ', labelled_text)\n",
    "# print('string : ', string)\n",
    "\n",
    "# fulltext = page.get_text()\n",
    "# doc = nlp(fulltext)\n",
    "\n",
    "# sentences = []\n",
    "# for sent in doc.sents:\n",
    "#             if string.strip() in sent.text:\n",
    "#                 text = re.sub('[^0-9a-zA-Z@?|\\/<>.,()&^%$#!]+', ' ', sent.text)\n",
    "\n",
    "#         res = re.search(string.strip(), text)\n",
    "\n",
    "#         entities = []\n",
    "#         entities.append((res.start(),res.end(),label))\n",
    "\n",
    "#         train_data.append((text,{'entities':entities}))\n",
    "\n"
   ]
  },
  {
   "cell_type": "code",
   "execution_count": 14,
   "id": "217941e4",
   "metadata": {
    "execution": {
     "iopub.execute_input": "2022-05-29T17:26:52.048615Z",
     "iopub.status.busy": "2022-05-29T17:26:52.047603Z",
     "iopub.status.idle": "2022-05-29T17:26:52.050766Z",
     "shell.execute_reply": "2022-05-29T17:26:52.051588Z",
     "shell.execute_reply.started": "2022-04-11T16:35:41.679947Z"
    },
    "papermill": {
     "duration": 0.083112,
     "end_time": "2022-05-29T17:26:52.051775",
     "exception": false,
     "start_time": "2022-05-29T17:26:51.968663",
     "status": "completed"
    },
    "tags": []
   },
   "outputs": [],
   "source": [
    "#doc"
   ]
  },
  {
   "cell_type": "code",
   "execution_count": 15,
   "id": "9d130aee",
   "metadata": {
    "execution": {
     "iopub.execute_input": "2022-05-29T17:26:52.207801Z",
     "iopub.status.busy": "2022-05-29T17:26:52.206842Z",
     "iopub.status.idle": "2022-05-29T17:26:52.209670Z",
     "shell.execute_reply": "2022-05-29T17:26:52.208787Z",
     "shell.execute_reply.started": "2022-04-11T16:35:56.010353Z"
    },
    "papermill": {
     "duration": 0.082262,
     "end_time": "2022-05-29T17:26:52.209867",
     "exception": false,
     "start_time": "2022-05-29T17:26:52.127605",
     "status": "completed"
    },
    "tags": []
   },
   "outputs": [],
   "source": [
    "# sentences = []\n",
    "# for sent in doc.sents:\n",
    "#     if string.strip() in sent.text:\n",
    "#         text = re.sub('[^0-9a-zA-Z@?|\\/<>.,()&^%$#!]+', ' ', sent.text)"
   ]
  },
  {
   "cell_type": "code",
   "execution_count": 16,
   "id": "68fbdc6c",
   "metadata": {
    "execution": {
     "iopub.execute_input": "2022-05-29T17:26:52.367777Z",
     "iopub.status.busy": "2022-05-29T17:26:52.366781Z",
     "iopub.status.idle": "2022-05-29T17:26:52.370406Z",
     "shell.execute_reply": "2022-05-29T17:26:52.370985Z",
     "shell.execute_reply.started": "2022-04-11T16:39:04.736143Z"
    },
    "papermill": {
     "duration": 0.081391,
     "end_time": "2022-05-29T17:26:52.371154",
     "exception": false,
     "start_time": "2022-05-29T17:26:52.289763",
     "status": "completed"
    },
    "tags": []
   },
   "outputs": [],
   "source": [
    "# k=nlp(\"he             kenny\")\n",
    "# for sent in k.sents:\n",
    "#     print(sent)"
   ]
  },
  {
   "cell_type": "code",
   "execution_count": 17,
   "id": "e44a2c65",
   "metadata": {
    "execution": {
     "iopub.execute_input": "2022-05-29T17:26:52.524332Z",
     "iopub.status.busy": "2022-05-29T17:26:52.523650Z",
     "iopub.status.idle": "2022-05-29T17:26:52.526453Z",
     "shell.execute_reply": "2022-05-29T17:26:52.526977Z",
     "shell.execute_reply.started": "2022-04-11T15:09:24.391421Z"
    },
    "papermill": {
     "duration": 0.077491,
     "end_time": "2022-05-29T17:26:52.527136",
     "exception": false,
     "start_time": "2022-05-29T17:26:52.449645",
     "status": "completed"
    },
    "tags": []
   },
   "outputs": [],
   "source": [
    "# text"
   ]
  },
  {
   "cell_type": "code",
   "execution_count": 18,
   "id": "198da140",
   "metadata": {
    "execution": {
     "iopub.execute_input": "2022-05-29T17:26:52.679495Z",
     "iopub.status.busy": "2022-05-29T17:26:52.678480Z",
     "iopub.status.idle": "2022-05-29T17:26:52.682723Z",
     "shell.execute_reply": "2022-05-29T17:26:52.682031Z",
     "shell.execute_reply.started": "2022-04-11T15:09:31.9599Z"
    },
    "papermill": {
     "duration": 0.081465,
     "end_time": "2022-05-29T17:26:52.682902",
     "exception": false,
     "start_time": "2022-05-29T17:26:52.601437",
     "status": "completed"
    },
    "tags": []
   },
   "outputs": [],
   "source": [
    "# res = re.search(string.strip(), text)\n",
    "# res"
   ]
  },
  {
   "cell_type": "code",
   "execution_count": 19,
   "id": "d8399c34",
   "metadata": {
    "execution": {
     "iopub.execute_input": "2022-05-29T17:26:52.838308Z",
     "iopub.status.busy": "2022-05-29T17:26:52.837338Z",
     "iopub.status.idle": "2022-05-29T17:26:52.840867Z",
     "shell.execute_reply": "2022-05-29T17:26:52.841443Z",
     "shell.execute_reply.started": "2022-04-11T15:12:41.311242Z"
    },
    "papermill": {
     "duration": 0.083103,
     "end_time": "2022-05-29T17:26:52.841612",
     "exception": false,
     "start_time": "2022-05-29T17:26:52.758509",
     "status": "completed"
    },
    "tags": []
   },
   "outputs": [],
   "source": [
    "# entities = []\n",
    "# entities.append((res.start(),res.end(),'p'))"
   ]
  },
  {
   "cell_type": "code",
   "execution_count": 20,
   "id": "79c0fd26",
   "metadata": {
    "execution": {
     "iopub.execute_input": "2022-05-29T17:26:52.995138Z",
     "iopub.status.busy": "2022-05-29T17:26:52.994312Z",
     "iopub.status.idle": "2022-05-29T17:26:52.997017Z",
     "shell.execute_reply": "2022-05-29T17:26:52.997732Z",
     "shell.execute_reply.started": "2022-04-11T15:12:52.736619Z"
    },
    "papermill": {
     "duration": 0.083319,
     "end_time": "2022-05-29T17:26:52.997913",
     "exception": false,
     "start_time": "2022-05-29T17:26:52.914594",
     "status": "completed"
    },
    "tags": []
   },
   "outputs": [],
   "source": [
    "# entities"
   ]
  },
  {
   "cell_type": "code",
   "execution_count": 21,
   "id": "4cc4d65d",
   "metadata": {
    "execution": {
     "iopub.execute_input": "2022-05-29T17:26:53.155053Z",
     "iopub.status.busy": "2022-05-29T17:26:53.154002Z",
     "iopub.status.idle": "2022-05-29T17:26:53.155864Z",
     "shell.execute_reply": "2022-05-29T17:26:53.156457Z",
     "shell.execute_reply.started": "2022-04-11T15:06:11.546217Z"
    },
    "papermill": {
     "duration": 0.08026,
     "end_time": "2022-05-29T17:26:53.156617",
     "exception": false,
     "start_time": "2022-05-29T17:26:53.076357",
     "status": "completed"
    },
    "tags": []
   },
   "outputs": [],
   "source": [
    "# text"
   ]
  },
  {
   "cell_type": "code",
   "execution_count": null,
   "id": "d07b61a3",
   "metadata": {
    "execution": {
     "iopub.execute_input": "2022-04-11T15:02:33.300092Z",
     "iopub.status.busy": "2022-04-11T15:02:33.299778Z",
     "iopub.status.idle": "2022-04-11T15:02:33.30711Z",
     "shell.execute_reply": "2022-04-11T15:02:33.306345Z",
     "shell.execute_reply.started": "2022-04-11T15:02:33.300061Z"
    },
    "papermill": {
     "duration": 0.071632,
     "end_time": "2022-05-29T17:26:53.300830",
     "exception": false,
     "start_time": "2022-05-29T17:26:53.229198",
     "status": "completed"
    },
    "tags": []
   },
   "outputs": [],
   "source": []
  },
  {
   "cell_type": "code",
   "execution_count": 22,
   "id": "34669a48",
   "metadata": {
    "execution": {
     "iopub.execute_input": "2022-05-29T17:26:53.463806Z",
     "iopub.status.busy": "2022-05-29T17:26:53.462811Z",
     "iopub.status.idle": "2022-05-29T17:26:53.465973Z",
     "shell.execute_reply": "2022-05-29T17:26:53.466530Z",
     "shell.execute_reply.started": "2022-04-11T16:21:02.863037Z"
    },
    "papermill": {
     "duration": 0.096659,
     "end_time": "2022-05-29T17:26:53.466701",
     "exception": false,
     "start_time": "2022-05-29T17:26:53.370042",
     "status": "completed"
    },
    "tags": []
   },
   "outputs": [],
   "source": [
    "# import spacy\n",
    "# nlp = spacy.load('en_core_web_sm')"
   ]
  },
  {
   "cell_type": "code",
   "execution_count": 23,
   "id": "09fd36ca",
   "metadata": {
    "execution": {
     "iopub.execute_input": "2022-05-29T17:26:53.618106Z",
     "iopub.status.busy": "2022-05-29T17:26:53.617098Z",
     "iopub.status.idle": "2022-05-29T17:26:53.621472Z",
     "shell.execute_reply": "2022-05-29T17:26:53.620799Z",
     "shell.execute_reply.started": "2022-04-09T12:19:47.776612Z"
    },
    "papermill": {
     "duration": 0.081717,
     "end_time": "2022-05-29T17:26:53.621648",
     "exception": false,
     "start_time": "2022-05-29T17:26:53.539931",
     "status": "completed"
    },
    "tags": []
   },
   "outputs": [],
   "source": [
    "# !pip install PyPDF2\n",
    "# import PyPDF2\n",
    "# fhandle = open(r'/kaggle/input/sample-pdf/D8communications.pdf', 'rb')\n",
    "# pdfReader = PyPDF2.PdfFileReader(fhandle)\n",
    "# pagehandle = pdfReader.getPage(4)\n",
    "# print(pagehandle.extractText())"
   ]
  },
  {
   "cell_type": "code",
   "execution_count": 24,
   "id": "3f14befc",
   "metadata": {
    "execution": {
     "iopub.execute_input": "2022-05-29T17:26:53.774932Z",
     "iopub.status.busy": "2022-05-29T17:26:53.773994Z",
     "iopub.status.idle": "2022-05-29T17:26:53.776670Z",
     "shell.execute_reply": "2022-05-29T17:26:53.777133Z",
     "shell.execute_reply.started": "2022-04-09T12:25:37.701467Z"
    },
    "papermill": {
     "duration": 0.081967,
     "end_time": "2022-05-29T17:26:53.777302",
     "exception": false,
     "start_time": "2022-05-29T17:26:53.695335",
     "status": "completed"
    },
    "tags": []
   },
   "outputs": [],
   "source": [
    "# !pip install pdfplumber\n",
    "# import pdfplumber\n",
    "# with pdfplumber.open(r'/kaggle/input/sample-pdf/D8communications.pdf') as pdf:\n",
    "#     first_page = pdf.pages[3]\n",
    "#     print(first_page.extract_text())"
   ]
  },
  {
   "cell_type": "code",
   "execution_count": 25,
   "id": "4cdff46a",
   "metadata": {
    "execution": {
     "iopub.execute_input": "2022-05-29T17:26:53.925881Z",
     "iopub.status.busy": "2022-05-29T17:26:53.924894Z",
     "iopub.status.idle": "2022-05-29T17:26:53.926996Z",
     "shell.execute_reply": "2022-05-29T17:26:53.927597Z",
     "shell.execute_reply.started": "2022-04-09T12:25:49.584635Z"
    },
    "papermill": {
     "duration": 0.08008,
     "end_time": "2022-05-29T17:26:53.927791",
     "exception": false,
     "start_time": "2022-05-29T17:26:53.847711",
     "status": "completed"
    },
    "tags": []
   },
   "outputs": [],
   "source": [
    "# !pip install pytesseract"
   ]
  },
  {
   "cell_type": "code",
   "execution_count": 26,
   "id": "0addcced",
   "metadata": {
    "execution": {
     "iopub.execute_input": "2022-05-29T17:26:54.080169Z",
     "iopub.status.busy": "2022-05-29T17:26:54.079523Z",
     "iopub.status.idle": "2022-05-29T17:26:54.082893Z",
     "shell.execute_reply": "2022-05-29T17:26:54.082415Z",
     "shell.execute_reply.started": "2022-04-09T14:49:10.656812Z"
    },
    "papermill": {
     "duration": 0.079724,
     "end_time": "2022-05-29T17:26:54.083028",
     "exception": false,
     "start_time": "2022-05-29T17:26:54.003304",
     "status": "completed"
    },
    "tags": []
   },
   "outputs": [],
   "source": [
    "# #!pip install pdf2image\n",
    "# !pip install poppler"
   ]
  },
  {
   "cell_type": "code",
   "execution_count": 27,
   "id": "e9c86b43",
   "metadata": {
    "execution": {
     "iopub.execute_input": "2022-05-29T17:26:54.236839Z",
     "iopub.status.busy": "2022-05-29T17:26:54.236031Z",
     "iopub.status.idle": "2022-05-29T17:26:54.238037Z",
     "shell.execute_reply": "2022-05-29T17:26:54.238770Z",
     "shell.execute_reply.started": "2022-04-09T14:57:24.756677Z"
    },
    "papermill": {
     "duration": 0.082802,
     "end_time": "2022-05-29T17:26:54.238943",
     "exception": false,
     "start_time": "2022-05-29T17:26:54.156141",
     "status": "completed"
    },
    "tags": []
   },
   "outputs": [],
   "source": [
    "# pdf2image.convert_from_path('/kaggle/input/sample-pdf/D8communications.pdf')"
   ]
  },
  {
   "cell_type": "code",
   "execution_count": 28,
   "id": "4ed7e7e6",
   "metadata": {
    "execution": {
     "iopub.execute_input": "2022-05-29T17:26:54.391795Z",
     "iopub.status.busy": "2022-05-29T17:26:54.391103Z",
     "iopub.status.idle": "2022-05-29T17:26:54.395046Z",
     "shell.execute_reply": "2022-05-29T17:26:54.395623Z",
     "shell.execute_reply.started": "2022-04-09T14:57:17.576149Z"
    },
    "papermill": {
     "duration": 0.081926,
     "end_time": "2022-05-29T17:26:54.395799",
     "exception": false,
     "start_time": "2022-05-29T17:26:54.313873",
     "status": "completed"
    },
    "tags": []
   },
   "outputs": [],
   "source": [
    "# import pdf2image\n",
    "# try:\n",
    "#     from PIL import Image\n",
    "# except ImportError:\n",
    "#     import Image\n",
    "# import pytesseract\n",
    "\n",
    "\n",
    "# def pdf_to_img(pdf_file):\n",
    "#     return pdf2image.convert_from_path(pdf_file)\n",
    "\n",
    "\n",
    "# def ocr_core(file):\n",
    "#     text = pytesseract.image_to_string(file)\n",
    "#     return text\n",
    "\n",
    "\n",
    "# def print_pages(pdf_file):\n",
    "#     images = pdf_to_img(pdf_file)\n",
    "#     for pg, img in enumerate(images):\n",
    "#         print(ocr_core(img))\n",
    "\n",
    "\n",
    "# print_pages('/kaggle/input/sample-pdf/D8communications.pdf')\n"
   ]
  },
  {
   "cell_type": "code",
   "execution_count": 29,
   "id": "bd005530",
   "metadata": {
    "execution": {
     "iopub.execute_input": "2022-05-29T17:26:54.553942Z",
     "iopub.status.busy": "2022-05-29T17:26:54.552918Z",
     "iopub.status.idle": "2022-05-29T17:26:54.557629Z",
     "shell.execute_reply": "2022-05-29T17:26:54.558245Z"
    },
    "papermill": {
     "duration": 0.080013,
     "end_time": "2022-05-29T17:26:54.558465",
     "exception": false,
     "start_time": "2022-05-29T17:26:54.478452",
     "status": "completed"
    },
    "tags": []
   },
   "outputs": [],
   "source": [
    "# import requests\n",
    "# import fitz\n",
    "# import io\n",
    "\n",
    "# #URL = 'https://buildmedia.readthedocs.org/media/pdf/pdfminer-docs/latest/pdfminer-docs.pdf'\n",
    "# URL = 'https://redactable-devox-stage.s3.us-east-2.amazonaws.com/tenants/41d9e109-693b-444c-aa18-e5891bc6550b/original/1a7c0e5d-3237-4ca9-9e3d-89e707245ac6/D8communications.pdf'\n",
    "\n",
    "\n",
    "# res = requests.get(URL)\n",
    "# filestream = io.BytesIO(res.content)\n",
    "# #res.content\n",
    "# filestream\n",
    "# doc = fitz.Document(stream=filestream)\n",
    "# page1 = doc.loadPage(3)\n",
    "# page1text = page1.getText(\"text\").encode(\"utf-8\").decode(\"utf-8\")\n",
    "# print(page1text)"
   ]
  },
  {
   "cell_type": "code",
   "execution_count": 30,
   "id": "d271b53a",
   "metadata": {
    "execution": {
     "iopub.execute_input": "2022-05-29T17:26:54.709484Z",
     "iopub.status.busy": "2022-05-29T17:26:54.708445Z",
     "iopub.status.idle": "2022-05-29T17:26:54.710811Z",
     "shell.execute_reply": "2022-05-29T17:26:54.711472Z",
     "shell.execute_reply.started": "2022-04-09T07:04:56.590103Z"
    },
    "papermill": {
     "duration": 0.079432,
     "end_time": "2022-05-29T17:26:54.711648",
     "exception": false,
     "start_time": "2022-05-29T17:26:54.632216",
     "status": "completed"
    },
    "tags": []
   },
   "outputs": [],
   "source": [
    "# import requests\n",
    "# import fitz\n",
    "\n",
    "# #URL = 'https://buildmedia.readthedocs.org/media/pdf/pdfminer-docs/latest/pdfminer-docs.pdf'\n",
    "# URL = 'https://redactable-devox-stage.s3.us-east-2.amazonaws.com/tenants/41d9e109-693b-444c-aa18-e5891bc6550b/original/1a7c0e5d-3237-4ca9-9e3d-89e707245ac6/D8communications.pdf'\n",
    "\n",
    "\n",
    "# res = requests.get(URL)\n",
    "# doc = fitz.open(stream=res.content,filetype=\"pdf\")\n",
    "# page1 = doc.loadPage(3)\n",
    "# page1text = page1.getText(\"text\")\n",
    "# #rect = (72.1149,661.2966,131.95729,675.1716)\n",
    "# rect=(72.10812377929688, 116.13427734375, 133.97142028808594, 146.4227294921875)\n",
    "# labelled_text = page1.get_textbox(rect)\n",
    "# print(labelled_text.strip())\n",
    "\n",
    "# fulltext = page1.get_text()\n",
    "# print(fulltext)\n",
    "# doc = nlp(fulltext)\n",
    "# sentences = []\n",
    "# for sent in doc.sents:\n",
    "#     if labelled_text in sent.text:\n",
    "#         text = sent.text\n",
    "#         print(text)\n",
    "# #print(page1text)"
   ]
  },
  {
   "cell_type": "code",
   "execution_count": 31,
   "id": "46a402ec",
   "metadata": {
    "execution": {
     "iopub.execute_input": "2022-05-29T17:26:54.855927Z",
     "iopub.status.busy": "2022-05-29T17:26:54.854931Z",
     "iopub.status.idle": "2022-05-29T17:26:54.858158Z",
     "shell.execute_reply": "2022-05-29T17:26:54.858806Z",
     "shell.execute_reply.started": "2022-04-08T16:42:57.6659Z"
    },
    "papermill": {
     "duration": 0.076251,
     "end_time": "2022-05-29T17:26:54.858983",
     "exception": false,
     "start_time": "2022-05-29T17:26:54.782732",
     "status": "completed"
    },
    "tags": []
   },
   "outputs": [],
   "source": [
    "#res.content"
   ]
  },
  {
   "cell_type": "code",
   "execution_count": 32,
   "id": "191c1e7d",
   "metadata": {
    "execution": {
     "iopub.execute_input": "2022-05-29T17:26:55.000255Z",
     "iopub.status.busy": "2022-05-29T17:26:54.999310Z",
     "iopub.status.idle": "2022-05-29T17:26:55.003266Z",
     "shell.execute_reply": "2022-05-29T17:26:55.003796Z",
     "shell.execute_reply.started": "2022-04-08T16:48:05.672392Z"
    },
    "papermill": {
     "duration": 0.076452,
     "end_time": "2022-05-29T17:26:55.003952",
     "exception": false,
     "start_time": "2022-05-29T17:26:54.927500",
     "status": "completed"
    },
    "tags": []
   },
   "outputs": [],
   "source": [
    "# import fitz\n",
    "# # mem_area=\n",
    "# # doc = fitz.open(stream=mem_area, filetype=\"pdf\")\n",
    "\n",
    "# import requests\n",
    "\n",
    "# URL = 'https://redactable-devox-stage.s3.us-east-2.amazonaws.com/tenants/41d9e109-693b-444c-aa18-e5891bc6550b/original/1a7c0e5d-3237-4ca9-9e3d-89e707245ac6/D8communications.pdf'\n",
    "\n",
    "# #res = requests.get(URL)\n",
    "# doc=fitz.open(\"/kaggle/input/sample-pdf/D8communications.pdf\")\n",
    "# #doc = fitz.open(stream=res.content,filetype=\"pdf\")\n",
    "# page1 = doc.loadPage(4)\n",
    "# # page1text = page1.getText(\"text\")\n",
    "# # print(page1text)\n",
    "# blocks = page1.getText(\"blocks\")\n",
    "# blocks.sort(key=lambda block: block[1])  # sort vertically ascending\n",
    "\n",
    "# for b in blocks:\n",
    "#     print(b[4])\n"
   ]
  },
  {
   "cell_type": "code",
   "execution_count": 33,
   "id": "165f79b0",
   "metadata": {
    "execution": {
     "iopub.execute_input": "2022-05-29T17:26:55.146216Z",
     "iopub.status.busy": "2022-05-29T17:26:55.145546Z",
     "iopub.status.idle": "2022-05-29T17:26:55.148688Z",
     "shell.execute_reply": "2022-05-29T17:26:55.149214Z",
     "shell.execute_reply.started": "2022-04-08T16:48:13.086323Z"
    },
    "papermill": {
     "duration": 0.076487,
     "end_time": "2022-05-29T17:26:55.149404",
     "exception": false,
     "start_time": "2022-05-29T17:26:55.072917",
     "status": "completed"
    },
    "tags": []
   },
   "outputs": [],
   "source": [
    "# # page = doc[1]\n",
    "# words = page.get_text(\"words\")\n",
    "# #print(words)\n",
    "# rect = (72.1149,661.2966,131.95729,675.1716)\n",
    "\n",
    "# labelled_text = page.get_textbox(rect)\n",
    "# # labelled_text"
   ]
  },
  {
   "cell_type": "markdown",
   "id": "47f8143d",
   "metadata": {
    "papermill": {
     "duration": 0.067805,
     "end_time": "2022-05-29T17:26:55.287583",
     "exception": false,
     "start_time": "2022-05-29T17:26:55.219778",
     "status": "completed"
    },
    "tags": []
   },
   "source": [
    "pip install PyPDF2"
   ]
  },
  {
   "cell_type": "code",
   "execution_count": null,
   "id": "59ad8e7c",
   "metadata": {
    "papermill": {
     "duration": 0.068148,
     "end_time": "2022-05-29T17:26:55.424056",
     "exception": false,
     "start_time": "2022-05-29T17:26:55.355908",
     "status": "completed"
    },
    "tags": []
   },
   "outputs": [],
   "source": []
  },
  {
   "cell_type": "code",
   "execution_count": 34,
   "id": "03bbd1ff",
   "metadata": {
    "execution": {
     "iopub.execute_input": "2022-05-29T17:26:55.564027Z",
     "iopub.status.busy": "2022-05-29T17:26:55.563374Z",
     "iopub.status.idle": "2022-05-29T17:26:55.566406Z",
     "shell.execute_reply": "2022-05-29T17:26:55.566926Z",
     "shell.execute_reply.started": "2022-03-18T16:48:58.370268Z"
    },
    "papermill": {
     "duration": 0.074482,
     "end_time": "2022-05-29T17:26:55.567089",
     "exception": false,
     "start_time": "2022-05-29T17:26:55.492607",
     "status": "completed"
    },
    "tags": []
   },
   "outputs": [],
   "source": [
    "# import pandas as pd\n",
    "# h={'step': 0, 'type': 'string', 'amount': 0.0, 'nameOrig': 'C1231006815', 'oldbalanceOrig': 0.0, 'newbalanceOrig': 0.0, 'nameDest': 'M1979787155', 'oldbalanceDest': 0.0, 'newbalanceDest': 0.0}\n",
    "# df=pd.DataFrame([h])"
   ]
  },
  {
   "cell_type": "code",
   "execution_count": 35,
   "id": "586ba26b",
   "metadata": {
    "execution": {
     "iopub.execute_input": "2022-05-29T17:26:55.706585Z",
     "iopub.status.busy": "2022-05-29T17:26:55.705952Z",
     "iopub.status.idle": "2022-05-29T17:26:55.708705Z",
     "shell.execute_reply": "2022-05-29T17:26:55.709243Z",
     "shell.execute_reply.started": "2022-04-09T17:21:26.021615Z"
    },
    "papermill": {
     "duration": 0.073912,
     "end_time": "2022-05-29T17:26:55.709416",
     "exception": false,
     "start_time": "2022-05-29T17:26:55.635504",
     "status": "completed"
    },
    "tags": []
   },
   "outputs": [],
   "source": [
    "#df"
   ]
  },
  {
   "cell_type": "code",
   "execution_count": null,
   "id": "2d791ee3",
   "metadata": {
    "papermill": {
     "duration": 0.06794,
     "end_time": "2022-05-29T17:26:55.845572",
     "exception": false,
     "start_time": "2022-05-29T17:26:55.777632",
     "status": "completed"
    },
    "tags": []
   },
   "outputs": [],
   "source": []
  }
 ],
 "metadata": {
  "kernelspec": {
   "display_name": "Python 3",
   "language": "python",
   "name": "python3"
  },
  "language_info": {
   "codemirror_mode": {
    "name": "ipython",
    "version": 3
   },
   "file_extension": ".py",
   "mimetype": "text/x-python",
   "name": "python",
   "nbconvert_exporter": "python",
   "pygments_lexer": "ipython3",
   "version": "3.7.12"
  },
  "papermill": {
   "default_parameters": {},
   "duration": 23.69488,
   "end_time": "2022-05-29T17:26:56.523272",
   "environment_variables": {},
   "exception": null,
   "input_path": "__notebook__.ipynb",
   "output_path": "__notebook__.ipynb",
   "parameters": {},
   "start_time": "2022-05-29T17:26:32.828392",
   "version": "2.3.3"
  }
 },
 "nbformat": 4,
 "nbformat_minor": 5
}
