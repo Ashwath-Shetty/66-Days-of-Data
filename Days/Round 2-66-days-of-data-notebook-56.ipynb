{
 "cells": [
  {
   "cell_type": "code",
   "execution_count": 1,
   "id": "b99bc291",
   "metadata": {
    "_cell_guid": "b1076dfc-b9ad-4769-8c92-a6c4dae69d19",
    "_uuid": "8f2839f25d086af736a60e9eeb907d3b93b6e0e5",
    "execution": {
     "iopub.execute_input": "2022-05-06T16:59:35.321011Z",
     "iopub.status.busy": "2022-05-06T16:59:35.319186Z",
     "iopub.status.idle": "2022-05-06T16:59:35.338690Z",
     "shell.execute_reply": "2022-05-06T16:59:35.339207Z",
     "shell.execute_reply.started": "2022-04-12T14:12:25.248687Z"
    },
    "papermill": {
     "duration": 0.093839,
     "end_time": "2022-05-06T16:59:35.339581",
     "exception": false,
     "start_time": "2022-05-06T16:59:35.245742",
     "status": "completed"
    },
    "tags": []
   },
   "outputs": [
    {
     "name": "stdout",
     "output_type": "stream",
     "text": [
      "/kaggle/input/sample-pdf/D8communications.pdf\n"
     ]
    }
   ],
   "source": [
    "# This Python 3 environment comes with many helpful analytics libraries installed\n",
    "# It is defined by the kaggle/python Docker image: https://github.com/kaggle/docker-python\n",
    "# For example, here's several helpful packages to load\n",
    "\n",
    "import numpy as np # linear algebra\n",
    "import pandas as pd # data processing, CSV file I/O (e.g. pd.read_csv)\n",
    "\n",
    "# Input data files are available in the read-only \"../input/\" directory\n",
    "# For example, running this (by clicking run or pressing Shift+Enter) will list all files under the input directory\n",
    "\n",
    "import os\n",
    "for dirname, _, filenames in os.walk('/kaggle/input'):\n",
    "    for filename in filenames:\n",
    "        print(os.path.join(dirname, filename))\n",
    "\n",
    "# You can write up to 20GB to the current directory (/kaggle/working/) that gets preserved as output when you create a version using \"Save & Run All\" \n",
    "# You can also write temporary files to /kaggle/temp/, but they won't be saved outside of the current session"
   ]
  },
  {
   "cell_type": "markdown",
   "id": "ea43f677",
   "metadata": {
    "papermill": {
     "duration": 0.067842,
     "end_time": "2022-05-06T16:59:35.477903",
     "exception": false,
     "start_time": "2022-05-06T16:59:35.410061",
     "status": "completed"
    },
    "tags": []
   },
   "source": [
    "# **Start Date: 12/3/2022**"
   ]
  },
  {
   "cell_type": "markdown",
   "id": "fd284392",
   "metadata": {
    "papermill": {
     "duration": 0.068102,
     "end_time": "2022-05-06T16:59:35.614457",
     "exception": false,
     "start_time": "2022-05-06T16:59:35.546355",
     "status": "completed"
    },
    "tags": []
   },
   "source": [
    "# **Day 1:** \n",
    "<br>dataquest -> stats -> probability-> estimating probability\n",
    "1. out come is nothing but o/p of an experiment\n",
    "ex: whatever u get after rolling a dice -> it can be any number\n",
    "2. event can have more than one outcome\n",
    "- e.x: The event that we'll get an odd number when we roll a six-sided die — this event includes the outcomes 1, 3, and 5.\n",
    "- an event can be 0 as well.\n",
    "- We always assign probabilities to events, not outcomes, even if the event includes only one outcome.\n",
    "- P(E) =1/total number of possible outcomes, P(E) probability of an event happening.\n",
    "- but above formula doesn't work always, especially when there are more than one outcome\n",
    "    - P(E)=number of successful outcomes/total number of possible outcomes\n",
    "- incase of a biased situation \n",
    "  - let's say a die has 6 - 3 times which is 1,6,3,5,6,6\n",
    "    we will consider 6 as 3 times not 1.\n",
    "    possible outcome-> 1,3,5,6,6,6\n",
    "    prob(6)=3/6\n",
    "    prob(3)=1/6\n",
    "    prob(2)=0/6\n",
    "    If we didn't treat each 6 differently and said it doesn't matter which side a 6 is on, \n",
    "    <br>we'd be forced to conclude the only possible outcomes are 1, 3, 5 and 6. We can definitely         <br>frame the problem like that, but the formula above won't work anymore — we see below P(6) <br>becomes the same as P(3), but, intuitively, P(6) should be higher than P(3) since the die has 6 on     <br>three of its sides:\n"
   ]
  },
  {
   "cell_type": "markdown",
   "id": "d5c7ef55",
   "metadata": {
    "papermill": {
     "duration": 0.068765,
     "end_time": "2022-05-06T16:59:35.750996",
     "exception": false,
     "start_time": "2022-05-06T16:59:35.682231",
     "status": "completed"
    },
    "tags": []
   },
   "source": [
    "Estimating Probabilities Conclusion\n",
    "- emperical/ experimental probability\n",
    "  - probability achieved by experimenting / by doing the same event multiple times.\n",
    "  - Generally, for any event E (like a coin landing heads up), we can find its empirical probability   \n",
    "     by using the following formula: \n",
    "     •P (E) =number of times event E happened/ number of times we repeated the experiment   \n",
    " - Generally, the empirical probability of an event (a coin landing heads up, getting a 5 when weroll a die) approaches the true probability value as the number of trials of the randomexperiment (a coin toss, the rolling of a die) increases without bound.\n",
    "- When we calculate the probability of an event under the assumption that the outcomes have equal chances of occurring, we say that we're calculating the **theoretical probability** of an event.\n",
    "   - P(E)=number of successful outcomes/total number of possible outcomes\n",
    "\n"
   ]
  },
  {
   "cell_type": "markdown",
   "id": "869c7de1",
   "metadata": {
    "papermill": {
     "duration": 0.070206,
     "end_time": "2022-05-06T16:59:35.891287",
     "exception": false,
     "start_time": "2022-05-06T16:59:35.821081",
     "status": "completed"
    },
    "tags": []
   },
   "source": [
    "# **Day 2**\n",
    "<br>dataquest-> stats -> intro to probability -> probability rules\n",
    "<br>In probability theory, the set of all possible outcomes is called a sample space. A sample space is often denoted by the capital Greek letter Ω (read \"omega\"). This is how we represent the sample space of a die roll:\n",
    "\n",
    "Ω = {1,2,3,4,5,6}\n",
    "-    The probability of any event ranges between 0 and 1: 0≤ P(Event) ≤1\n",
    "- To calculate P(A or B), we can also use the formula below, which is sometimes called the addition rule: P(A or B) = P(A) + P(B)\n",
    "  - Sample space ={ 1,2,3,4,5,6} \n",
    "  - P(2 or 5) = 2/6\n",
    "\n",
    "- P(C or D) = P(C) + P(D) - P(C and D)\n",
    "   - e.x : Sample_space ={2,4,6} + { 4,5,6} - {4/6}\n",
    "      P( even number or number greater than 3) = ( (3/6) + (3/6) )- (2/6) = 4/6\n",
    "- Events that don't intersect are called mutually exclusive.\n",
    "  - e.x: Getting a 5 (event one) and getting a 3 (event two) when we roll a regular six-sided die — it's  impossible to get both a 5 and 3.\n",
    "- Events that intersect are called mutually non-exclusive.\n",
    "  - Getting a number greater than 2 (event one) and getting an odd number (event two) when we roll a regular six-sided die — we could get a 5, which is both greater than 2 (event one) and odd (event two).\n",
    "- unioun -> A or B, intersection -> A and B"
   ]
  },
  {
   "cell_type": "markdown",
   "id": "8cc5f5d0",
   "metadata": {
    "papermill": {
     "duration": 0.069347,
     "end_time": "2022-05-06T16:59:36.028928",
     "exception": false,
     "start_time": "2022-05-06T16:59:35.959581",
     "status": "completed"
    },
    "tags": []
   },
   "source": [
    "# Day 3 and 4\n",
    "dataquest -> stats -> probabilities -> solving complex probabilities\n",
    "- This is the same result we got from our previous approach. In more general terms, the multiplication rule says that for two events E1 and E2, the probability that both event E1 and E2 happen can be found by multiplying the probability of E1 by the probability of E2:\n",
    "    - P(E1 ∩ E2) = P(E1) × P(E2)\n",
    "    - Events that don't influence each other's probability are called independent events. If H1 happens, P(H2) stays the same, so H1 and H2 are independent. The multiplication rule we learned only works for independent events.\n",
    "    "
   ]
  },
  {
   "cell_type": "markdown",
   "id": "300c7cc2",
   "metadata": {
    "papermill": {
     "duration": 0.069459,
     "end_time": "2022-05-06T16:59:36.167804",
     "exception": false,
     "start_time": "2022-05-06T16:59:36.098345",
     "status": "completed"
    },
    "tags": []
   },
   "source": [
    "# Day 5\n",
    "- When we replace the cards after drawing, we say that we're sampling with replacement. When we don't put the cards back, we're sampling without replacement. \n"
   ]
  },
  {
   "cell_type": "markdown",
   "id": "4e5adf84",
   "metadata": {
    "papermill": {
     "duration": 0.069918,
     "end_time": "2022-05-06T16:59:36.305884",
     "exception": false,
     "start_time": "2022-05-06T16:59:36.235966",
     "status": "completed"
    },
    "tags": []
   },
   "source": [
    "# Day6\n",
    "dataquest-> prob and stats -> probability fundamentals -> permutation and combinations\n",
    "Generally, if we have an experiment E1 (like flipping a coin) with a outcomes, followed by an experiment E2 (like rolling a die) with b outcomes, then the total number of outcomes for the composite experiment E1E2 can be found by multiplying a with b:\n",
    "\n",
    "Number of outcomes = a * b"
   ]
  },
  {
   "cell_type": "markdown",
   "id": "98e2af24",
   "metadata": {
    "papermill": {
     "duration": 0.06803,
     "end_time": "2022-05-06T16:59:36.443197",
     "exception": false,
     "start_time": "2022-05-06T16:59:36.375167",
     "status": "completed"
    },
    "tags": []
   },
   "source": [
    "# Day 7\n",
    "dataquest-> prob and stats -> probability fundamentals -> permutation and combinations <br>\n",
    "More generally, if we have an experiment E1 with a outcomes, followed by an experiment E2 with b outcomes, followed by an experiment En with z outcomes, the total number of outcomes for the composite experiment E1E2 ... En can be found by multiplying their individual outcomes:\n",
    "\n",
    "Number of outcomes= a * b * … * z"
   ]
  },
  {
   "cell_type": "markdown",
   "id": "196b4ba7",
   "metadata": {
    "papermill": {
     "duration": 0.067331,
     "end_time": "2022-05-06T16:59:36.579032",
     "exception": false,
     "start_time": "2022-05-06T16:59:36.511701",
     "status": "completed"
    },
    "tags": []
   },
   "source": [
    "# Day 8\n",
    "dataquest-> prob and stats -> probability fundamentals -> permutation and combinations <br>\n",
    "permutations= n*(n-1)*(n-2)*....*2*1\n"
   ]
  },
  {
   "cell_type": "markdown",
   "id": "cec623f1",
   "metadata": {
    "papermill": {
     "duration": 0.073594,
     "end_time": "2022-05-06T16:59:36.724569",
     "exception": false,
     "start_time": "2022-05-06T16:59:36.650975",
     "status": "completed"
    },
    "tags": []
   },
   "source": [
    "# Day 9\n",
    "dataquest-> prob and stats -> probability fundamentals -> permutation and combinations\n",
    "- in permutation order of the individual element in the arranement matters.\n",
    "   - for e.x: 9821 is different than 9281\n",
    "   - Permutations =n!  --> sample without replacement-> we are not putting back the sampled data.\n",
    "   - On the last screen, we learned to use the formula below to calculate permutations when we're sampling without replacement and taking only k objects from a group of n objects:\n",
    "   npk=n!/(n-k)!"
   ]
  },
  {
   "cell_type": "markdown",
   "id": "639ba476",
   "metadata": {
    "papermill": {
     "duration": 0.069965,
     "end_time": "2022-05-06T16:59:36.864430",
     "exception": false,
     "start_time": "2022-05-06T16:59:36.794465",
     "status": "completed"
    },
    "tags": []
   },
   "source": [
    "# Day 10\n",
    "dataquest-> prob and stats -> probability fundamentals -> permutation and combinations\n",
    "- More generally, if the order of the elements in an arrangement doesn't matter, the arrangement is called a combination.\n",
    "- e.x: cards in a deck \n",
    "- nCk = n! / ((n-k)!*k!)"
   ]
  },
  {
   "cell_type": "markdown",
   "id": "919583a2",
   "metadata": {
    "papermill": {
     "duration": 0.070467,
     "end_time": "2022-05-06T16:59:37.003243",
     "exception": false,
     "start_time": "2022-05-06T16:59:36.932776",
     "status": "completed"
    },
    "tags": []
   },
   "source": [
    "# Day 11\n",
    "dataquest-> prob and stats -> probability fundamentals -> permutation and combinations\n",
    "- solved 1 probability problem.\n"
   ]
  },
  {
   "cell_type": "markdown",
   "id": "db461f96",
   "metadata": {
    "papermill": {
     "duration": 0.067516,
     "end_time": "2022-05-06T16:59:37.138947",
     "exception": false,
     "start_time": "2022-05-06T16:59:37.071431",
     "status": "completed"
    },
    "tags": []
   },
   "source": [
    "# Day 12\n",
    "dataquest-> prob and stats -> probability fundamentals -> permutation and combinations\n",
    "- finished probability and permutations by revising them.\n",
    "- If we have an experiment E1 (like flipping a coin) with a outcomes, followed by an experiment E2(like rolling a die) with b outcomes, then the total number of outcomes for the compositeexperiment E1E2 can be found by multiplying a with b (this is known as the rule of product):\n",
    "  - number of outcomes = a*b\n",
    "- If we have an experiment E1 with a outcomes, followed by an experiment E2 with b outcomes,followed by an experiment En with z outcomes, the total number of outcomes for the compositeexperiment E1E2 ... En can be found by multiplying their individual outcomes:\n",
    "   - number of outcomes = a*b* ... *z\n",
    "- There are two kinds of arrangements:\n",
    "   - •Arrangements where the order matters, which we call permutations.\n",
    "   - •Arrangements where the order doesn't matter, which we call combination\n",
    "- To find the number of permutations when we're sampling without replacement, we can use theformula:\n",
    "  - permutation = n!\n",
    "- To find the number of permutations when we're sampling without replacement and taking only kobjects from a group of n objects, we can use the formula:\n",
    "  - nPk = n!/(n-k)!\n",
    "- To find the number of combinations when we're sampling without replacement and taking only kobjects from a group of n objects, we can use the formula\n",
    "  - nCk = n! / ((n-k)!*k!)"
   ]
  },
  {
   "cell_type": "markdown",
   "id": "103d4a6e",
   "metadata": {
    "papermill": {
     "duration": 0.06728,
     "end_time": "2022-05-06T16:59:37.274310",
     "exception": false,
     "start_time": "2022-05-06T16:59:37.207030",
     "status": "completed"
    },
    "tags": []
   },
   "source": [
    "# Day 13\n",
    "dataquest-> prob and stats -> probability fundamentals -> conditional probabilities\n",
    "- first 2 slides -> mainly the recap of old chapter(above one).\n"
   ]
  },
  {
   "cell_type": "markdown",
   "id": "fcb435e7",
   "metadata": {
    "papermill": {
     "duration": 0.067229,
     "end_time": "2022-05-06T16:59:37.409076",
     "exception": false,
     "start_time": "2022-05-06T16:59:37.341847",
     "status": "completed"
    },
    "tags": []
   },
   "source": [
    "# Day 14\n",
    "dataquest-> prob and stats -> probability fundamentals -> conditional probabilities\n",
    "<br>slide 4 completed\n",
    "<br>conditional probabilities\n",
    "- probabilities with condition\n",
    "- P(5)=What is the probability of getting a 5? -> normal probability\n",
    "- P(5 | odd) =What is the probability of getting a 5 given the die showed an odd number? -> conditional prob.\n",
    "\n"
   ]
  },
  {
   "cell_type": "markdown",
   "id": "f7992afd",
   "metadata": {
    "papermill": {
     "duration": 0.067163,
     "end_time": "2022-05-06T16:59:37.543921",
     "exception": false,
     "start_time": "2022-05-06T16:59:37.476758",
     "status": "completed"
    },
    "tags": []
   },
   "source": [
    "# Day 15\n",
    "dataquest-> prob and stats -> probability fundamentals -> conditional probabilities\n",
    "- on slide 5 not done yet.\n",
    "\n",
    "Say we roll a fair six-sided die and want to find the probability of getting an odd number, given the die showed a number greater than 1 after landing. Using probability notation, we want to find P(A|B) where:\n",
    "\n",
    "- A is the event that the number is odd: A = {1, 3, 5}\n",
    "- B is the event that the number is greater than 1: B = {2, 3, 4, 5, 6}\n",
    "- P(A/B)=number of succesfull outcomes / total number of outcomes.\n"
   ]
  },
  {
   "cell_type": "markdown",
   "id": "23e40023",
   "metadata": {
    "papermill": {
     "duration": 0.067393,
     "end_time": "2022-05-06T16:59:37.678719",
     "exception": false,
     "start_time": "2022-05-06T16:59:37.611326",
     "status": "completed"
    },
    "tags": []
   },
   "source": [
    "# Day 16 and 17\n",
    "dataquest-> prob and stats -> probability fundamentals -> conditional probabilities\n",
    "\n",
    "on slide 6 not done yet."
   ]
  },
  {
   "cell_type": "markdown",
   "id": "b34479e3",
   "metadata": {
    "papermill": {
     "duration": 0.069252,
     "end_time": "2022-05-06T16:59:37.815801",
     "exception": false,
     "start_time": "2022-05-06T16:59:37.746549",
     "status": "completed"
    },
    "tags": []
   },
   "source": [
    "# Day 18\n",
    "dataquest-> prob and stats -> probability fundamentals -> conditional probabilities\n",
    "<br>slide 5 code half done"
   ]
  },
  {
   "cell_type": "markdown",
   "id": "fdfd5e4c",
   "metadata": {
    "papermill": {
     "duration": 0.067701,
     "end_time": "2022-05-06T16:59:37.951007",
     "exception": false,
     "start_time": "2022-05-06T16:59:37.883306",
     "status": "completed"
    },
    "tags": []
   },
   "source": [
    "# Day 19\n",
    "- The number of elements in a set is called the cardinal of the set. \n",
    "  Ω is a set, and the cardinal of \n",
    "   Ω = { 2,3,4,5,6}\n",
    "   cardinal(Ω)=5\n",
    "- P(A | B) = card(A ∩ B) / card(B)\n",
    "- Say we roll a fair six-sided die and want to find the probability of getting an odd number, given the die showed a number greater than 1 after landing. Using probability notation, we want to find P(A|B) where:\n",
    "    - A is the event that the number is odd: A = {1, 3, 5}\n",
    "     - B is the event that the number is greater than 1: B = {2, 3, 4, 5, 6}\n",
    "     - total number of possible outcomes = card({2,3,4,5,6}) =5\n",
    "     - number of successful outcomes = card({3,5})= 2\n",
    "- P(A | B) = card(A ∩ B) / card(B), we can also get the same result using P(A | B) = prob(A ∩ B) / prob(B)\n",
    "\n",
    "     "
   ]
  },
  {
   "cell_type": "markdown",
   "id": "84f22224",
   "metadata": {
    "papermill": {
     "duration": 0.067622,
     "end_time": "2022-05-06T16:59:38.087334",
     "exception": false,
     "start_time": "2022-05-06T16:59:38.019712",
     "status": "completed"
    },
    "tags": []
   },
   "source": [
    "# Day 20\n",
    "dataquest-> prob and stats -> probability fundamentals -> conditional probabilities intermediate\n",
    "<br> slide 1 and 2\n",
    "- P( A | B ) ≠ P(A ∩ B), but rather:\n",
    "   - P(A | B) = P(A ∩ B) / P(B)\n",
    "   - P(A ∩ B) = P(A | B) ⋅ P(B)\n",
    "- Given that a customer bought a laptop, they will or will not also buy a mouse. This means we can be certain that either event (M|L) or (M^C|L) will happen:\n",
    "     - P(M | L) + P(M^C | L) = 1\n",
    "\n"
   ]
  },
  {
   "cell_type": "markdown",
   "id": "e0f0b938",
   "metadata": {
    "papermill": {
     "duration": 0.067101,
     "end_time": "2022-05-06T16:59:38.221991",
     "exception": false,
     "start_time": "2022-05-06T16:59:38.154890",
     "status": "completed"
    },
    "tags": []
   },
   "source": [
    "# Day 21\n",
    "dataquest-> prob and stats -> probability fundamentals -> conditional probabilities intermediate\n",
    "slide 1 and 2\n",
    "- P(A ∩ B) = P(B ∩ A)\n",
    "- multiplication rule of probability\n",
    "  -  P(A ∩ B) = P(B) ⋅ P(A | B) \n",
    "  - P(A ∩ B) = P(A) ⋅ P(B | A)\n",
    "- if P(A) and P(B) are statistically independent then \n",
    "  - P(A ∩ B) = P(A) ⋅ P(B)\n",
    "\n"
   ]
  },
  {
   "cell_type": "markdown",
   "id": "8e128d88",
   "metadata": {
    "papermill": {
     "duration": 0.06695,
     "end_time": "2022-05-06T16:59:38.356513",
     "exception": false,
     "start_time": "2022-05-06T16:59:38.289563",
     "status": "completed"
    },
    "tags": []
   },
   "source": [
    "# Day 22\n",
    "dataquest-> prob and stats -> probability fundamentals -> conditional probabilities intermediate \n",
    "<br>slide 6\n",
    "- If events events A and B are dependent, it means the occurrence of event A changes the probability of event B and vice versa.\n",
    "   - P(A) ≠ P(A | B)\n",
    "   - P(B) ≠ P(B | A)\n",
    "   - P(A ∩ B) ≠ P(A) ⋅ P(B)\n",
    "   - formula will become P(A ∩ B) ≠ P(A) ⋅ P(B/A)\n",
    "   "
   ]
  },
  {
   "cell_type": "markdown",
   "id": "8778a1f9",
   "metadata": {
    "papermill": {
     "duration": 0.067245,
     "end_time": "2022-05-06T16:59:38.493434",
     "exception": false,
     "start_time": "2022-05-06T16:59:38.426189",
     "status": "completed"
    },
    "tags": []
   },
   "source": [
    "# Day 23\n",
    "dataquest-> prob and stats -> probability fundamentals -> conditional probabilities intermediate\n",
    "<br>slide 7 to last\n",
    "- To find whether three events — A, B, C — are independent or not, below conditions must hold true -\n",
    "  - P(A ∩ B) ≠ P(A) ⋅ P(B)\n",
    "  - P(A ∩ C) ≠ P(A) ⋅ P(C)\n",
    "  - P(B ∩ C) ≠ P(B) ⋅ P(C)\n",
    "  - P(A ∩ B ∩ C) ≠ P(A) ⋅ P(B) . P(C)\n",
    "- multiplication rule for conditional probability or dependent events\n",
    " - P(A ∩ B ∩ C) = P(A) ⋅ P(B | A) ⋅ P(C | A ∩ B)\n",
    " \n",
    "\n"
   ]
  },
  {
   "cell_type": "markdown",
   "id": "2ab99850",
   "metadata": {
    "papermill": {
     "duration": 0.069197,
     "end_time": "2022-05-06T16:59:38.630360",
     "exception": false,
     "start_time": "2022-05-06T16:59:38.561163",
     "status": "completed"
    },
    "tags": []
   },
   "source": [
    "# Day 24\n",
    "dataquest-> prob and stats -> probability fundamentals -> bayes theorem\n",
    "<br>slide 1\n",
    "- independent -> one event is dependent on other\n",
    "   - P(A ∩ B) = P(A) ⋅ P(B/A)\n",
    "- independent -> one event is not dependent on other.\n",
    "   - P(A ∩ B) = P(A) ⋅ P(B)\n",
    "- mutually exclusive -> both the events cannot happen at the same time.\n",
    "   - P(A ∩ B) = 0\n",
    "\n"
   ]
  },
  {
   "cell_type": "markdown",
   "id": "b1798526",
   "metadata": {
    "papermill": {
     "duration": 0.067372,
     "end_time": "2022-05-06T16:59:38.765723",
     "exception": false,
     "start_time": "2022-05-06T16:59:38.698351",
     "status": "completed"
    },
    "tags": []
   },
   "source": [
    "# Day 25\n",
    "dataquest-> prob and stats -> probability fundamentals -> bayes theorem\n",
    "<br>slide 2\n",
    "- If two events are exhaustive, it means they make up the whole sample space Ω\n",
    "  -  P(A) = P(A ∩ B) + P(A ∩ B^c)\n",
    "     P(A) = (P(B) * P(A/B)) +  (P(B^c) * P(A/B^c))\n",
    "     \n",
    "     "
   ]
  },
  {
   "cell_type": "markdown",
   "id": "82c3e0cd",
   "metadata": {
    "papermill": {
     "duration": 0.067694,
     "end_time": "2022-05-06T16:59:38.902483",
     "exception": false,
     "start_time": "2022-05-06T16:59:38.834789",
     "status": "completed"
    },
    "tags": []
   },
   "source": [
    "# Day 26\n",
    "dataquest-> prob and stats -> probability fundamentals -> bayes theorem\n",
    "<br>slide 3 - last\n",
    "- the law of total probability\n",
    "  - P(A)  = (P(B1) * P(A/B1)) + (P(B2) * P(A/B2))+ ... + (P(Bn) * P(A/Bn)))\n",
    "  - P(A) =(summattion i=1 to n) P(Bi) ⋅ P(A|Bi)\n",
    "- Baye's theorem\n",
    "  - P(B | A) = (P(B) ⋅ P(A | B)) / (n ∑i=1 P(Bi) ⋅ P(A | Bi))\n",
    "- The probability of being infected with HIV before doing any test is called the prior probability (\"prior\" means \"before\"). The probability of being infected with HIV after testing positive is called the posterior probability (\"posterior\" means \"after\").\n",
    "\n",
    "\n",
    "  "
   ]
  },
  {
   "cell_type": "markdown",
   "id": "196cdbfe",
   "metadata": {
    "papermill": {
     "duration": 0.073235,
     "end_time": "2022-05-06T16:59:39.044684",
     "exception": false,
     "start_time": "2022-05-06T16:59:38.971449",
     "status": "completed"
    },
    "tags": []
   },
   "source": [
    "# Day 27\n",
    "dataquest-> prob and stats -> probability fundamentals -> naive bayes theorem\n",
    "<br>slide 1 - \n",
    "P(Spam|w1,w2,w3,w4)∝P(Spam)⋅P(w1|Spam)⋅P(w2|Spam)⋅P(w3|Spam)⋅P(w4|Spam)P(SpamC|w1,w2,w3,w4)∝P(SpamC)⋅P(w1|SpamC)⋅P(w2|SpamC)⋅P(w3|SpamC)⋅P(w4|SpamC)"
   ]
  },
  {
   "cell_type": "markdown",
   "id": "a071bd54",
   "metadata": {
    "papermill": {
     "duration": 0.067413,
     "end_time": "2022-05-06T16:59:39.180289",
     "exception": false,
     "start_time": "2022-05-06T16:59:39.112876",
     "status": "completed"
    },
    "tags": []
   },
   "source": [
    "# Day 28\n",
    "dataquest-> prob and stats -> probability fundamentals -> naive bayes theorem\n",
    "<br>finished.\n",
    "<br>**Summary**\n",
    "- P(Spam|w1,w2,...,wn)∝P(Spam)⋅n∏i=1P(wi|Spam)\n",
    "- P(SpamC|w1,w2,...,wn)∝P(SpamC)⋅n∏i=1P(wi|SpamC)\n",
    "- To calculate P(wi|Spam) and P(wi|SpamC), we need to use the additive smoothing technique: \n",
    "- P ( w i | S p a m ) = (N w i | S p a m + α) / ( N S p a m + α ⋅ N V o c a b u l a r y )\n",
    "- P ( w i | S p a m C ) = (N w i | S p a m C + α) / ( N S p a m C + α ⋅ N V o c a b u l a r y )\n",
    "     - N w i | S p a m = the number of times the word w i occurs in spam messages \n",
    "     - N w i | S p a m C = the number of times the word w i occurs in non-spam messages \n",
    "     - N S p a m = total number of words in spam messages \n",
    "     - N S p a m C = total number of words in non-spam messages \n",
    "     - N V o c a b u l a r y = total number of words in the vocabulary \n",
    "     - α = 1 ( α is a smoothing parameter )\n",
    " - naive bayes theorem assumes that events are not dependent.\n",
    " - The assumption of conditional independence between words is thus naive since it rarely holds in practice, and this is why the algorithm is called Naive Bayes (also called simple Bayes or independence Bayes)."
   ]
  },
  {
   "cell_type": "markdown",
   "id": "daa0850a",
   "metadata": {
    "papermill": {
     "duration": 0.068653,
     "end_time": "2022-05-06T16:59:39.316683",
     "exception": false,
     "start_time": "2022-05-06T16:59:39.248030",
     "status": "completed"
    },
    "tags": []
   },
   "source": [
    "# Day 29,30,31\n",
    "<br>dataquest-> prob and stats -> probability fundamentals -> conditional probability-> guided projects\n",
    "<br> in progress"
   ]
  },
  {
   "cell_type": "markdown",
   "id": "1e58d3ec",
   "metadata": {
    "papermill": {
     "duration": 0.067304,
     "end_time": "2022-05-06T16:59:39.452247",
     "exception": false,
     "start_time": "2022-05-06T16:59:39.384943",
     "status": "completed"
    },
    "tags": []
   },
   "source": [
    "# Day 32 and 33\n",
    "<br>dataquest-> prob and stats -> probability fundamentals -> guided projects\n",
    "<br> done"
   ]
  },
  {
   "cell_type": "markdown",
   "id": "1d2723c8",
   "metadata": {
    "papermill": {
     "duration": 0.067101,
     "end_time": "2022-05-06T16:59:39.586802",
     "exception": false,
     "start_time": "2022-05-06T16:59:39.519701",
     "status": "completed"
    },
    "tags": []
   },
   "source": [
    "# Day 34\n",
    "<br>dataquest-> prob and stats -> probability fundamentals -> guided projects-> lottery prediction\n",
    "<br> done"
   ]
  },
  {
   "cell_type": "markdown",
   "id": "02a35a4e",
   "metadata": {
    "papermill": {
     "duration": 0.067056,
     "end_time": "2022-05-06T16:59:39.721324",
     "exception": false,
     "start_time": "2022-05-06T16:59:39.654268",
     "status": "completed"
    },
    "tags": []
   },
   "source": [
    "# Day 35\n",
    "<br>dataquest-> prob and stats -> hypothesis testing fundamentals -> significance testing\n",
    "<br> till slide 4\n",
    "- null hypothesis\n",
    "- alternate hypothesis\n"
   ]
  },
  {
   "cell_type": "markdown",
   "id": "031e8dc2",
   "metadata": {
    "papermill": {
     "duration": 0.070017,
     "end_time": "2022-05-06T16:59:39.858940",
     "exception": false,
     "start_time": "2022-05-06T16:59:39.788923",
     "status": "completed"
    },
    "tags": []
   },
   "source": [
    "# Day 36 and 37\n",
    "<br>dataquest-> prob and stats -> hypothesis testing fundamentals -> significance testing\n",
    "- The permutation test is a statistical test that involves rerunning the study many times and recalculating the test statistic for each iteration. The goal is to calculate a distribution of the test statistics over these many iterations. This distribution is called the sampling distribution and it approximates the full range of possible test statistics under the null hypothesis\n",
    "\n"
   ]
  },
  {
   "cell_type": "markdown",
   "id": "ead47ff7",
   "metadata": {
    "papermill": {
     "duration": 0.067909,
     "end_time": "2022-05-06T16:59:39.994594",
     "exception": false,
     "start_time": "2022-05-06T16:59:39.926685",
     "status": "completed"
    },
    "tags": []
   },
   "source": [
    "# Day 38\n",
    "<br>dataquest-> prob and stats -> hypothesis testing fundamentals -> significance testing\n",
    "<br>in progress."
   ]
  },
  {
   "cell_type": "markdown",
   "id": "011c76e0",
   "metadata": {
    "papermill": {
     "duration": 0.068646,
     "end_time": "2022-05-06T16:59:40.133230",
     "exception": false,
     "start_time": "2022-05-06T16:59:40.064584",
     "status": "completed"
    },
    "tags": []
   },
   "source": [
    "# Day 39\n",
    "<br>dataquest-> prob and stats -> hypothesis testing fundamentals -> significance testing\n",
    "<br>slide 5-6"
   ]
  },
  {
   "cell_type": "markdown",
   "id": "947b2035",
   "metadata": {
    "papermill": {
     "duration": 0.06773,
     "end_time": "2022-05-06T16:59:40.269006",
     "exception": false,
     "start_time": "2022-05-06T16:59:40.201276",
     "status": "completed"
    },
    "tags": []
   },
   "source": [
    "# Day 40\n",
    "<br>dataquest-> prob and stats -> hypothesis testing fundamentals -> significance testing\n",
    "<br>slide 7"
   ]
  },
  {
   "cell_type": "markdown",
   "id": "71cdee1d",
   "metadata": {
    "papermill": {
     "duration": 0.067734,
     "end_time": "2022-05-06T16:59:40.405168",
     "exception": false,
     "start_time": "2022-05-06T16:59:40.337434",
     "status": "completed"
    },
    "tags": []
   },
   "source": [
    "# Day 41 and 42\n",
    "<br>dataquest-> prob and stats -> hypothesis testing fundamentals -> significance testing\n",
    "<br>slide 7 done and 8(p-value) strated"
   ]
  },
  {
   "cell_type": "markdown",
   "id": "8a0821f6",
   "metadata": {
    "papermill": {
     "duration": 0.067706,
     "end_time": "2022-05-06T16:59:40.544031",
     "exception": false,
     "start_time": "2022-05-06T16:59:40.476325",
     "status": "completed"
    },
    "tags": []
   },
   "source": [
    "# Day 43\n",
    "<br>dataquest-> prob and stats -> hypothesis testing fundamentals -> significance testing\n",
    "<br>\n",
    "- The first step is to decide a test statistic, which is a numerical value that summarizes the data and one we can use in statistical formulas. The test statistic runs a statistical test that determines whether the difference between the groups was due to random chance.\n",
    "  - e.x: mean \n",
    "- The permutation test is a statistical test that involves rerunning the study many times and recalculating the test statistic for each iteration.\n",
    "   - The goal is to calculate a distribution of the test statistics over these many iterations. This distribution is called the sampling distribution and it approximates the full range of possible test statistics under the null hypothesis.\n",
    "- If the p value is less than the threshold, we:\n",
    "    - reject the null hypothesis that there's no difference in the mean amount of weight lost by participants in both groups; and\n",
    "    - conclude that there is some evidence that the weight loss pill does affect the amount of weight people lost.\n",
    "\n",
    "- If the p value is greater than the threshold, we:\n",
    "    - fail to reject the null hypothesis that there's no difference in the mean amount of weight lost by participants in both groups,\n",
    "    - conclude that the weight loss pill doesn't seem to be effective in helping people lose weight.\n",
    "- usually used p-value threshold is 0.05\n",
    "- The p value threshold you set can also affect the conclusion you reach.\n",
    "    - If you set too high of a p value threshold, you may reject the null hypothesis incorrectly. This is known as a type I error.\n",
    "    - If you set too low of a p value threshold, you may fail to reject the null hypothesis incorrectly. This is known as a type II error."
   ]
  },
  {
   "cell_type": "markdown",
   "id": "d24580da",
   "metadata": {
    "papermill": {
     "duration": 0.068054,
     "end_time": "2022-05-06T16:59:40.680203",
     "exception": false,
     "start_time": "2022-05-06T16:59:40.612149",
     "status": "completed"
    },
    "tags": []
   },
   "source": [
    "# Day 44\n",
    "<br>dataquest-> prob and stats -> hypothesis testing fundamentals -> significance testing-> chi squared test\n",
    "<br>1- 4\n",
    "- chi squared test is used for numerical values"
   ]
  },
  {
   "cell_type": "markdown",
   "id": "623a0da4",
   "metadata": {
    "papermill": {
     "duration": 0.068278,
     "end_time": "2022-05-06T16:59:40.818786",
     "exception": false,
     "start_time": "2022-05-06T16:59:40.750508",
     "status": "completed"
    },
    "tags": []
   },
   "source": [
    "# Day 45 and 46\n",
    "<br>dataquest-> prob and stats -> hypothesis testing fundamentals -> significance testing-> chi squared test\n",
    "<br>4- 6"
   ]
  },
  {
   "cell_type": "markdown",
   "id": "815b992b",
   "metadata": {
    "papermill": {
     "duration": 0.069897,
     "end_time": "2022-05-06T16:59:40.957059",
     "exception": false,
     "start_time": "2022-05-06T16:59:40.887162",
     "status": "completed"
    },
    "tags": []
   },
   "source": [
    "# Day 47\n",
    "<br>dataquest-> prob and stats -> hypothesis testing fundamentals -> significance testing-> chi squared test\n",
    "<br> slide 6 done"
   ]
  },
  {
   "cell_type": "markdown",
   "id": "54e34e0b",
   "metadata": {
    "papermill": {
     "duration": 0.0682,
     "end_time": "2022-05-06T16:59:41.093967",
     "exception": false,
     "start_time": "2022-05-06T16:59:41.025767",
     "status": "completed"
    },
    "tags": []
   },
   "source": [
    "# Day 48\n",
    "<br> chi-squared values is that they get smaller as the sample size decreases.\n",
    "<br>**conclusion**\n",
    "- The chi-squared test enables us to quantify the difference between sets of observed and expected categorical values to determine statistical significance\n",
    "- chi squared = (observed - expected)**2 / expected\n",
    "- A p-value allows us to determine whether the difference between 2 values is due to chance, or due to an underlying difference.\n",
    "- Chi-squared values increase as sample size increases, but the chance of getting a high chi-squared value decreases as the sample gets larger.\n",
    "- A degree of freedom is the number of values that can vary without the other values being\"locked in\". \n",
    "- scipy https://docs.scipy.org/doc/scipy/reference/generated/scipy.stats.mstats.chisquare.html\n"
   ]
  },
  {
   "cell_type": "markdown",
   "id": "049349ea",
   "metadata": {
    "papermill": {
     "duration": 0.068458,
     "end_time": "2022-05-06T16:59:41.231769",
     "exception": false,
     "start_time": "2022-05-06T16:59:41.163311",
     "status": "completed"
    },
    "tags": []
   },
   "source": [
    "# Day 49\n",
    "<br>dataquest-> prob and stats -> hypothesis testing fundamentals -> significance testing-> multi category chi squared test\n",
    "<br> slide 1 done\n",
    "- We can apply the multi category chi-squared test (also known as the chi-squared test of association) to figure out if there's a statistically significant correlation between two categorical columns.\n",
    "- "
   ]
  },
  {
   "cell_type": "markdown",
   "id": "48d410ff",
   "metadata": {
    "papermill": {
     "duration": 0.067453,
     "end_time": "2022-05-06T16:59:41.367238",
     "exception": false,
     "start_time": "2022-05-06T16:59:41.299785",
     "status": "completed"
    },
    "tags": []
   },
   "source": [
    " **Day 50**\n",
    "<br>dataquest-> prob and stats -> hypothesis testing fundamentals -> significance testing-> multi category chi squared test\n",
    "# Conclusion:\n",
    "- In a multiple category chi-squared test, we calculate expected values across our whole dataset.\n",
    "- We can calculate the chi-squared value by using the following steps:\n",
    "    - Subtract the expected value from the observed value.\n",
    "    - Subtract the difference.\n",
    "    - Divide the squared difference by the expected value.\n",
    "    - Repeat for all observed and expected values and add up all the values.\n",
    "- ∑ expected(observed−expected)**2 / expected\n",
    "- Discovering that a result isn't significant doesn't mean that no association between the columnsexists. Discovering a statistically significant result doesn't imply anything about what thecorrelation is.\n",
    "- Chi-squared tests can only be applied when each possibility within a category is independen.\n",
    "    - we have categories like male or female not both. single row has either male or female not both at a time.\n",
    "- https://docs.scipy.org/doc/scipy-0.15.1/reference/generated/scipy.stats.chi2_contingency.html\n",
    "- https://pandas.pydata.org/pandas-docs/stable/generated/pandas.crosstab.html\n"
   ]
  },
  {
   "cell_type": "markdown",
   "id": "e7e45ba6",
   "metadata": {
    "papermill": {
     "duration": 0.067083,
     "end_time": "2022-05-06T16:59:41.502766",
     "exception": false,
     "start_time": "2022-05-06T16:59:41.435683",
     "status": "completed"
    },
    "tags": []
   },
   "source": [
    "# **Day 51, 52**\n",
    "<br>dataquest-> prob and stats -> hypothesis testing fundamentals -> significance testing-> guided project\n",
    "<br>in progress."
   ]
  },
  {
   "cell_type": "markdown",
   "id": "86d3833e",
   "metadata": {
    "papermill": {
     "duration": 0.067084,
     "end_time": "2022-05-06T16:59:41.637730",
     "exception": false,
     "start_time": "2022-05-06T16:59:41.570646",
     "status": "completed"
    },
    "tags": []
   },
   "source": [
    "# **Day 53**\n",
    "<br>dataquest-> prob and stats -> hypothesis testing fundamentals -> significance testing-> guided project\n",
    "<br>done"
   ]
  },
  {
   "cell_type": "markdown",
   "id": "d74c1806",
   "metadata": {
    "papermill": {
     "duration": 0.067377,
     "end_time": "2022-05-06T16:59:41.773188",
     "exception": false,
     "start_time": "2022-05-06T16:59:41.705811",
     "status": "completed"
    },
    "tags": []
   },
   "source": [
    "# **Day 54,55, 56**\n",
    "interviewbit-> probability-> conditional probability\n",
    "1. You asked your three friends whether it will rain or not and all three affirmed for rain. All three have the probability of 1/3 of lying. What is the probability that it will actually rain?\n",
    "- https://www.geeksforgeeks.org/puzzle-is-it-raining/#:~:text=Explanation%3A,truth%20or%20all%20are%20lying.&text=So%2C%20it%20is%20approximately%2089,it%20is%20raining%20in%20Hyderabad.\n",
    "2. Anshul and Deven take turns in rolling a fair six-sided die. Whoever rolls a “6” first wins the game. Deven starts by rolling first. What’s the probability that Anshul wins?\n",
    "- https://www.quora.com/A-and-B-throw-a-Fair-die-one-after-another-Whoever-throws-6-first-wins-What-is-the-probability-that-A-wins\n",
    "\n",
    "3. You have a bag with 6 marbles. One marble is white. You reach the bag 100 times. After taking out a marble, it is placed back in the bag. What is the probability of drawing a white marble at least once?\n",
    "- https://brainly.com/question/14376470\n",
    "- Answer:\n",
    "\n",
    "0.999999988\n",
    "\n",
    "Step-by-step explanation:\n",
    "\n",
    "Given that you  have a bag with 6 marbles. One marble is white. You reach the bag 100 times. After taking out a marble, it is placed back in the bag.\n",
    "\n",
    "Because every time you replace the marble drawn, the probability for drawing a white marble in one draw is constant = p =5/6\n",
    "\n",
    "No of trials n = 100\n",
    "\n",
    "Here X no of times white marble is drawn is Binomial since there are two outcomes and also the probability is constant.\n",
    "\n",
    "the probability of drawing a white marble at least once\n",
    "\n",
    "=\n",
    "\n",
    "Required probability is almost 1.\n",
    "\n",
    "\n",
    "4. Supposedly a friend of yours has 2 children and at least one of them is a boy. What is the probability that the other is also a boy?\n",
    "- If at least one is a boy, there are three possible equally likely gender assignations of two siblings. boy-boy, boy-girl,\n",
    "\n",
    " or girl-boy. Only 1 in 3 cases or 33 percent are both boys. The lesson here is that when considering equally likely scenarios\n",
    "\n",
    " we must consider birth order. If the birth order of the boy is not specified – i.e. if we don’t know if he is the eldest or \n",
    "\n",
    " the youngest – the probability of two boys drops to 1 in 3.\n",
    " \n",
    "5. A single card is drawn from a standard deck of playing cards. What is the probability that the card is a queen provided that a face card is drawn from the deck of cards?\n",
    "- 4/12 = 1/3\n",
    " "
   ]
  },
  {
   "cell_type": "code",
   "execution_count": null,
   "id": "0269e1eb",
   "metadata": {
    "papermill": {
     "duration": 0.06785,
     "end_time": "2022-05-06T16:59:41.910599",
     "exception": false,
     "start_time": "2022-05-06T16:59:41.842749",
     "status": "completed"
    },
    "tags": []
   },
   "outputs": [],
   "source": []
  },
  {
   "cell_type": "code",
   "execution_count": 2,
   "id": "d55512b9",
   "metadata": {
    "execution": {
     "iopub.execute_input": "2022-05-06T16:59:42.053288Z",
     "iopub.status.busy": "2022-05-06T16:59:42.052220Z",
     "iopub.status.idle": "2022-05-06T16:59:42.054495Z",
     "shell.execute_reply": "2022-05-06T16:59:42.054943Z",
     "shell.execute_reply.started": "2022-04-12T14:17:49.333113Z"
    },
    "papermill": {
     "duration": 0.075802,
     "end_time": "2022-05-06T16:59:42.055122",
     "exception": false,
     "start_time": "2022-05-06T16:59:41.979320",
     "status": "completed"
    },
    "tags": []
   },
   "outputs": [],
   "source": [
    "# !pip install PyMuPDF"
   ]
  },
  {
   "cell_type": "code",
   "execution_count": 3,
   "id": "a3f0e930",
   "metadata": {
    "execution": {
     "iopub.execute_input": "2022-05-06T16:59:42.199088Z",
     "iopub.status.busy": "2022-05-06T16:59:42.198105Z",
     "iopub.status.idle": "2022-05-06T16:59:42.200509Z",
     "shell.execute_reply": "2022-05-06T16:59:42.200964Z",
     "shell.execute_reply.started": "2022-04-12T14:19:20.437905Z"
    },
    "papermill": {
     "duration": 0.075589,
     "end_time": "2022-05-06T16:59:42.201135",
     "exception": false,
     "start_time": "2022-05-06T16:59:42.125546",
     "status": "completed"
    },
    "tags": []
   },
   "outputs": [],
   "source": [
    " \n",
    "# fitz.__version__"
   ]
  },
  {
   "cell_type": "code",
   "execution_count": 4,
   "id": "0b86d1fe",
   "metadata": {
    "execution": {
     "iopub.execute_input": "2022-05-06T16:59:42.341543Z",
     "iopub.status.busy": "2022-05-06T16:59:42.340605Z",
     "iopub.status.idle": "2022-05-06T16:59:42.343435Z",
     "shell.execute_reply": "2022-05-06T16:59:42.342889Z",
     "shell.execute_reply.started": "2022-04-12T14:23:59.687259Z"
    },
    "papermill": {
     "duration": 0.074284,
     "end_time": "2022-05-06T16:59:42.343568",
     "exception": false,
     "start_time": "2022-05-06T16:59:42.269284",
     "status": "completed"
    },
    "tags": []
   },
   "outputs": [],
   "source": [
    "# !python -m spacy download en_core_web_sm"
   ]
  },
  {
   "cell_type": "code",
   "execution_count": null,
   "id": "8d59521c",
   "metadata": {
    "papermill": {
     "duration": 0.067385,
     "end_time": "2022-05-06T16:59:42.479189",
     "exception": false,
     "start_time": "2022-05-06T16:59:42.411804",
     "status": "completed"
    },
    "tags": []
   },
   "outputs": [],
   "source": []
  },
  {
   "cell_type": "code",
   "execution_count": 5,
   "id": "80f40433",
   "metadata": {
    "execution": {
     "iopub.execute_input": "2022-05-06T16:59:42.619213Z",
     "iopub.status.busy": "2022-05-06T16:59:42.618228Z",
     "iopub.status.idle": "2022-05-06T16:59:42.621111Z",
     "shell.execute_reply": "2022-05-06T16:59:42.620607Z",
     "shell.execute_reply.started": "2022-04-12T14:18:25.912243Z"
    },
    "papermill": {
     "duration": 0.0745,
     "end_time": "2022-05-06T16:59:42.621241",
     "exception": false,
     "start_time": "2022-05-06T16:59:42.546741",
     "status": "completed"
    },
    "tags": []
   },
   "outputs": [],
   "source": [
    "# import fitz\n",
    "# import spacy\n",
    "# import re\n",
    "# from pathlib import Path\n",
    "# import requests\n",
    "# import os"
   ]
  },
  {
   "cell_type": "code",
   "execution_count": 6,
   "id": "124e08bf",
   "metadata": {
    "execution": {
     "iopub.execute_input": "2022-05-06T16:59:42.761928Z",
     "iopub.status.busy": "2022-05-06T16:59:42.761200Z",
     "iopub.status.idle": "2022-05-06T16:59:42.764247Z",
     "shell.execute_reply": "2022-05-06T16:59:42.763720Z",
     "shell.execute_reply.started": "2022-04-12T15:03:43.5897Z"
    },
    "papermill": {
     "duration": 0.075477,
     "end_time": "2022-05-06T16:59:42.764408",
     "exception": false,
     "start_time": "2022-05-06T16:59:42.688931",
     "status": "completed"
    },
    "tags": []
   },
   "outputs": [],
   "source": [
    "# sql_db_json = [\n",
    "#   {\n",
    "#     \"document_id\": \"1\",\n",
    "#     \"area\": \"[72.1149,661.2966,131.95729,675.1716]\",\n",
    "#     \"page\": \"3\",\n",
    "#     \"text_\": \"Background\",\n",
    "#     \"type_of_selection\": \"Text\",\n",
    "#     \"entity_type\": \"name\",\n",
    "#     \"link\": \"https://redactable-devox-stage.s3.us-east-2.amazonaws.com/tenants/41d9e109-693b-444c-aa18-e5891bc6550b/original/1a7c0e5d-3237-4ca9-9e3d-89e707245ac6/D8communications.pdf\"\n",
    "#   },\n",
    "#   {\n",
    "#     \"document_id\": \"1\",\n",
    "#     \"area\": \"[290.55386,632.0173,322.14685,645.8923]\",\n",
    "#     \"page\": \"2\",\n",
    "#     \"text_\": \"INDEX\",\n",
    "#     \"type_of_selection\": \"Text\",\n",
    "#     \"entity_type\": \"address\",\n",
    "#     \"link\": \"https://redactable-devox-stage.s3.us-east-2.amazonaws.com/tenants/41d9e109-693b-444c-aa18-e5891bc6550b/original/1a7c0e5d-3237-4ca9-9e3d-89e707245ac6/D8communications.pdf\"\n",
    "#   }\n",
    "# ]"
   ]
  },
  {
   "cell_type": "code",
   "execution_count": 7,
   "id": "6b3897e4",
   "metadata": {
    "execution": {
     "iopub.execute_input": "2022-05-06T16:59:42.906744Z",
     "iopub.status.busy": "2022-05-06T16:59:42.905747Z",
     "iopub.status.idle": "2022-05-06T16:59:42.907927Z",
     "shell.execute_reply": "2022-05-06T16:59:42.908559Z",
     "shell.execute_reply.started": "2022-04-12T13:17:19.452695Z"
    },
    "papermill": {
     "duration": 0.07654,
     "end_time": "2022-05-06T16:59:42.908735",
     "exception": false,
     "start_time": "2022-05-06T16:59:42.832195",
     "status": "completed"
    },
    "tags": []
   },
   "outputs": [],
   "source": [
    "# l=pd.DataFrame()\n",
    "# k=(1, '[290.55386,632.0173,322.14685,645.8923]', 2, 'INDEX', 'Text', 'address', 'https://redactable-devox-s')\n",
    "# k\n"
   ]
  },
  {
   "cell_type": "code",
   "execution_count": 8,
   "id": "f53c6676",
   "metadata": {
    "execution": {
     "iopub.execute_input": "2022-05-06T16:59:43.052459Z",
     "iopub.status.busy": "2022-05-06T16:59:43.051456Z",
     "iopub.status.idle": "2022-05-06T16:59:43.055358Z",
     "shell.execute_reply": "2022-05-06T16:59:43.056274Z",
     "shell.execute_reply.started": "2022-04-12T16:09:33.708631Z"
    },
    "papermill": {
     "duration": 0.078077,
     "end_time": "2022-05-06T16:59:43.056544",
     "exception": false,
     "start_time": "2022-05-06T16:59:42.978467",
     "status": "completed"
    },
    "tags": []
   },
   "outputs": [],
   "source": [
    "# co=[\"document_id\",\"area\",\"page\",\"text_\",\"type_of_selection\",\"entity_type\",\"link\"]\n",
    "# val= [(1,'[72.1149,661.2966,131.95729,675.1716]',3,'Background','Text','name' ,'https://redactable-devox-stage.s3.us-east-2.am'), (1,  '[290.55386,632.0173,322.14685,645.8923]',2,'INDEX', 'Text','address','https://redactable-devox-stage.s3.us-east-2.am')]\n",
    "\n",
    "# df=pd.DataFrame(val,columns=[co])\n",
    "# #df.iloc[1] =[1,  '[290.55386,632.0173,322.14685,645.8923]',2,'INDEX', 'Text','address','https://redactable-devox-stage.s3.us-east-2.am']\n",
    "# df"
   ]
  },
  {
   "cell_type": "code",
   "execution_count": 9,
   "id": "8f5e73c6",
   "metadata": {
    "execution": {
     "iopub.execute_input": "2022-05-06T16:59:43.200371Z",
     "iopub.status.busy": "2022-05-06T16:59:43.199726Z",
     "iopub.status.idle": "2022-05-06T16:59:43.202692Z",
     "shell.execute_reply": "2022-05-06T16:59:43.203201Z",
     "shell.execute_reply.started": "2022-04-12T16:18:22.595374Z"
    },
    "papermill": {
     "duration": 0.075048,
     "end_time": "2022-05-06T16:59:43.203361",
     "exception": false,
     "start_time": "2022-05-06T16:59:43.128313",
     "status": "completed"
    },
    "tags": []
   },
   "outputs": [],
   "source": [
    "# prev=[]\n",
    "# for data,row in df.iterrows():\n",
    "#     if row['document_id'] not in prev:\n",
    "#         prev.append(row['document_id'])\n",
    "#         print('hey')"
   ]
  },
  {
   "cell_type": "code",
   "execution_count": 10,
   "id": "165678ce",
   "metadata": {
    "execution": {
     "iopub.execute_input": "2022-05-06T16:59:43.342223Z",
     "iopub.status.busy": "2022-05-06T16:59:43.341565Z",
     "iopub.status.idle": "2022-05-06T16:59:43.346418Z",
     "shell.execute_reply": "2022-05-06T16:59:43.346970Z",
     "shell.execute_reply.started": "2022-04-12T15:03:48.248836Z"
    },
    "papermill": {
     "duration": 0.075908,
     "end_time": "2022-05-06T16:59:43.347174",
     "exception": false,
     "start_time": "2022-05-06T16:59:43.271266",
     "status": "completed"
    },
    "tags": []
   },
   "outputs": [],
   "source": [
    "# nlp = spacy.load('en_core_web_sm')\n",
    "# train_data = []\n",
    "\n",
    "# prev_doc_id = ''\n",
    "# i=0\n",
    "# temp='/kaggle/working'\n",
    "\n",
    "# for data in sql_db_json:\n",
    "#     if data['type_of_selection'] == 'Text':\n",
    "#         document_id = data['document_id']\n",
    "#         x1,y1,x2,y2 = data['area'][1:-1].split(',')\n",
    "#         url = data['link']\n",
    "#         page_no = int(data['page']) - 1 \n",
    "#         label = data['entity_type']\n",
    "#         filename = url.split('/')[-1]\n",
    "    \n",
    "#         #download the file to temp folder\n",
    "#         outpath = os.path.join(temp,filename)\n",
    "\n",
    "#         if document_id == prev_doc_id:\n",
    "#             pass\n",
    "#         else: \n",
    "#             i+=1\n",
    "#             print(i)\n",
    "#             response = requests.get(url)\n",
    "#             with open(outpath, \"wb\") as binary_file:\n",
    "#                 binary_file.write(response.content)\n",
    "\n",
    "#         doc = fitz.open(outpath)  # any supported document type\n",
    "#         page = doc[page_no]  # we want text from this page\n",
    "#         print('page dimension - ', page.rect.width, page.rect.height)\n",
    "\n",
    "#         #The co-ordinates in the DB are image co-ords. W.r.t pdf, y1 and y2 has to be interchanged.\n",
    "#         #To ensure entire word to be selected, slight correction in x1,y1,x2,y2 is done.\n",
    "\n",
    "#         rect = [float(x1)-2, 792 - float(y2)-2, float(x2)+2, 792 - float(y1)+2]\n",
    "#         print(rect)\n",
    "#         labelled_text = page.get_textbox(rect)\n",
    "\n",
    "#         #Removing all unprintable characters from the text\n",
    "#         string = re.sub('[^0-9a-zA-Z@?|\\/<>.,()&^%$#!]+', ' ', labelled_text)\n",
    "#         print('string : ', string)\n",
    "\n",
    "#         fulltext = page.get_text()\n",
    "#         doc = nlp(fulltext)\n",
    "\n",
    "#         sentences = []\n",
    "#         for sent in doc.sents:\n",
    "#             if string.strip() in sent.text:\n",
    "#                 text = re.sub('[^0-9a-zA-Z@?|\\/<>.,()&^%$#!]+', ' ', sent.text)\n",
    "\n",
    "#         res = re.search(string.strip(), text)\n",
    "\n",
    "#         entities = []\n",
    "#         entities.append((res.start(),res.end(),label))\n",
    "\n",
    "#         train_data.append((text,{'entities':entities}))\n",
    "\n",
    "# print('Training data in spacy format')\n",
    "# print('*****************************')\n",
    "# for i in range(0,len(train_data)):\n",
    "#     print(train_data[i])"
   ]
  },
  {
   "cell_type": "code",
   "execution_count": null,
   "id": "6d1db246",
   "metadata": {
    "papermill": {
     "duration": 0.067346,
     "end_time": "2022-05-06T16:59:43.482565",
     "exception": false,
     "start_time": "2022-05-06T16:59:43.415219",
     "status": "completed"
    },
    "tags": []
   },
   "outputs": [],
   "source": []
  },
  {
   "cell_type": "code",
   "execution_count": 11,
   "id": "9acff916",
   "metadata": {
    "execution": {
     "iopub.execute_input": "2022-05-06T16:59:43.624610Z",
     "iopub.status.busy": "2022-05-06T16:59:43.623507Z",
     "iopub.status.idle": "2022-05-06T16:59:43.625499Z",
     "shell.execute_reply": "2022-05-06T16:59:43.626100Z",
     "shell.execute_reply.started": "2022-04-12T11:44:59.253637Z"
    },
    "papermill": {
     "duration": 0.075997,
     "end_time": "2022-05-06T16:59:43.626265",
     "exception": false,
     "start_time": "2022-05-06T16:59:43.550268",
     "status": "completed"
    },
    "tags": []
   },
   "outputs": [],
   "source": [
    "# nlp = spacy.load('en_core_web_sm')\n",
    "# train_data = []\n",
    "\n",
    "# prev_doc_id = ''\n",
    "# temp='/kaggle/working'\n",
    "# i=0\n",
    "# for data in sql_db_json:\n",
    "#     if data['type_of_selection'] == 'Text':\n",
    "#         document_id = data['document_id']\n",
    "#         x1,y1,x2,y2 = data['area'][1:-1].split(',')\n",
    "#         url = data['link']\n",
    "#         page_no = int(data['page']) - 1 \n",
    "#         label = data['entity_type']\n",
    "#         filename = url.split('/')[-1]\n",
    "    \n",
    "#         #download the file to temp folder\n",
    "#         i+=1\n",
    "#         print(i)\n",
    "#         response = requests.get(url)\n",
    "#         doc = fitz.open(stream=response.content,filetype=\"pdf\")  # any supported document type\n",
    "#         page = doc[page_no]  # we want text from this page\n",
    "#         print('page dimension - ', page.rect.width, page.rect.height)\n",
    "\n",
    "#         #The co-ordinates in the DB are image co-ords. W.r.t pdf, y1 and y2 has to be interchanged.\n",
    "#         #To ensure entire word to be selected, slight correction in x1,y1,x2,y2 is done.\n",
    "\n",
    "#         rect = [float(x1)-2, 792 - float(y2)-2, float(x2)+2, 792 - float(y1)+2]\n",
    "#         print(rect)\n",
    "#         labelled_text = page.get_textbox(rect)\n",
    "\n",
    "#         #Removing all unprintable characters from the text\n",
    "#         string = re.sub('[^0-9a-zA-Z@?|\\/<>.,()&^%$#!]+', ' ', labelled_text)\n",
    "#         print('string : ', string)\n",
    "\n",
    "#         fulltext = page.get_text()\n",
    "#         doc = nlp(fulltext)\n",
    "\n",
    "#         sentences = []\n",
    "#         for sent in doc.sents:\n",
    "#             if string.strip() in sent.text:\n",
    "#                 text = re.sub('[^0-9a-zA-Z@?|\\/<>.,()&^%$#!]+', ' ', sent.text)\n",
    "\n",
    "#         res = re.search(string.strip(), text)\n",
    "\n",
    "#         entities = []\n",
    "#         entities.append((res.start(),res.end(),label))\n",
    "\n",
    "#         train_data.append((text,{'entities':entities}))\n",
    "\n",
    "# print('Training data in spacy format')\n",
    "# print('*****************************')\n",
    "# for i in range(0,len(train_data)):\n",
    "#     print(train_data[i])"
   ]
  },
  {
   "cell_type": "code",
   "execution_count": 12,
   "id": "4cfecf89",
   "metadata": {
    "execution": {
     "iopub.execute_input": "2022-05-06T16:59:43.765825Z",
     "iopub.status.busy": "2022-05-06T16:59:43.764880Z",
     "iopub.status.idle": "2022-05-06T16:59:43.768741Z",
     "shell.execute_reply": "2022-05-06T16:59:43.769323Z"
    },
    "papermill": {
     "duration": 0.075096,
     "end_time": "2022-05-06T16:59:43.769507",
     "exception": false,
     "start_time": "2022-05-06T16:59:43.694411",
     "status": "completed"
    },
    "tags": []
   },
   "outputs": [],
   "source": [
    "# page dimension -  612.0 792.0\n",
    "# [70.1149, 114.82839999999999, 133.95729, 132.7034]\n",
    "# string :  Background\n",
    "# page dimension -  612.0 792.0\n",
    "# [288.55386, 144.10770000000002, 324.14685, 161.98270000000002]\n",
    "# string :  INDEX\n",
    "# Training data in spacy format\n",
    "# *****************************\n",
    "# (' 3 Background The Blue Ribbon Committee was created by the Mayor to assess various city communication methods and recommend opportunities to improve communications with residents, businesses and other organizations.', {'entities': [(3, 13, 'name')]})\n",
    "# (' 2 INDEX Background Pg. 3 Purpose Pg. 3 Process .', {'entities': [(3, 8, 'address')]})"
   ]
  },
  {
   "cell_type": "code",
   "execution_count": 13,
   "id": "e5a92fb1",
   "metadata": {
    "execution": {
     "iopub.execute_input": "2022-05-06T16:59:43.910841Z",
     "iopub.status.busy": "2022-05-06T16:59:43.909875Z",
     "iopub.status.idle": "2022-05-06T16:59:43.914011Z",
     "shell.execute_reply": "2022-05-06T16:59:43.914551Z",
     "shell.execute_reply.started": "2022-04-11T16:35:29.609712Z"
    },
    "papermill": {
     "duration": 0.076816,
     "end_time": "2022-05-06T16:59:43.914712",
     "exception": false,
     "start_time": "2022-05-06T16:59:43.837896",
     "status": "completed"
    },
    "tags": []
   },
   "outputs": [],
   "source": [
    "# nlp = spacy.load('en_core_web_sm')\n",
    "# outpath=r'/kaggle/input/sample-pdf/D8communications.pdf'\n",
    "# doc = fitz.open(outpath)  # any supported document type\n",
    "# page_no=3\n",
    "# page = doc[page_no-1]\n",
    "\n",
    "# x1,y1,x2,y2=(72.1149,661.2966,131.95729,675.1716)\n",
    "\n",
    "# rect = [float(x1)-2, 792 - float(y2)-2, float(x2)+2, 792 - float(y1)+2]\n",
    "# print(rect)\n",
    "# labelled_text = page.get_textbox(rect)\n",
    "# string = re.sub('[^0-9a-zA-Z@?|\\/<>.,()&^%$#!]+', ' ', labelled_text)\n",
    "# print('string : ', string)\n",
    "\n",
    "# fulltext = page.get_text()\n",
    "# doc = nlp(fulltext)\n",
    "\n",
    "# sentences = []\n",
    "# for sent in doc.sents:\n",
    "#             if string.strip() in sent.text:\n",
    "#                 text = re.sub('[^0-9a-zA-Z@?|\\/<>.,()&^%$#!]+', ' ', sent.text)\n",
    "\n",
    "#         res = re.search(string.strip(), text)\n",
    "\n",
    "#         entities = []\n",
    "#         entities.append((res.start(),res.end(),label))\n",
    "\n",
    "#         train_data.append((text,{'entities':entities}))\n",
    "\n"
   ]
  },
  {
   "cell_type": "code",
   "execution_count": 14,
   "id": "7e8d5335",
   "metadata": {
    "execution": {
     "iopub.execute_input": "2022-05-06T16:59:44.056609Z",
     "iopub.status.busy": "2022-05-06T16:59:44.055602Z",
     "iopub.status.idle": "2022-05-06T16:59:44.059148Z",
     "shell.execute_reply": "2022-05-06T16:59:44.059668Z",
     "shell.execute_reply.started": "2022-04-11T16:35:41.679947Z"
    },
    "papermill": {
     "duration": 0.077275,
     "end_time": "2022-05-06T16:59:44.059848",
     "exception": false,
     "start_time": "2022-05-06T16:59:43.982573",
     "status": "completed"
    },
    "tags": []
   },
   "outputs": [],
   "source": [
    "#doc"
   ]
  },
  {
   "cell_type": "code",
   "execution_count": 15,
   "id": "ebea4259",
   "metadata": {
    "execution": {
     "iopub.execute_input": "2022-05-06T16:59:44.201909Z",
     "iopub.status.busy": "2022-05-06T16:59:44.201118Z",
     "iopub.status.idle": "2022-05-06T16:59:44.203700Z",
     "shell.execute_reply": "2022-05-06T16:59:44.203107Z",
     "shell.execute_reply.started": "2022-04-11T16:35:56.010353Z"
    },
    "papermill": {
     "duration": 0.074634,
     "end_time": "2022-05-06T16:59:44.203842",
     "exception": false,
     "start_time": "2022-05-06T16:59:44.129208",
     "status": "completed"
    },
    "tags": []
   },
   "outputs": [],
   "source": [
    "# sentences = []\n",
    "# for sent in doc.sents:\n",
    "#     if string.strip() in sent.text:\n",
    "#         text = re.sub('[^0-9a-zA-Z@?|\\/<>.,()&^%$#!]+', ' ', sent.text)"
   ]
  },
  {
   "cell_type": "code",
   "execution_count": 16,
   "id": "944f1bd5",
   "metadata": {
    "execution": {
     "iopub.execute_input": "2022-05-06T16:59:44.345554Z",
     "iopub.status.busy": "2022-05-06T16:59:44.344939Z",
     "iopub.status.idle": "2022-05-06T16:59:44.347762Z",
     "shell.execute_reply": "2022-05-06T16:59:44.348315Z",
     "shell.execute_reply.started": "2022-04-11T16:39:04.736143Z"
    },
    "papermill": {
     "duration": 0.074054,
     "end_time": "2022-05-06T16:59:44.348499",
     "exception": false,
     "start_time": "2022-05-06T16:59:44.274445",
     "status": "completed"
    },
    "tags": []
   },
   "outputs": [],
   "source": [
    "# k=nlp(\"he             kenny\")\n",
    "# for sent in k.sents:\n",
    "#     print(sent)"
   ]
  },
  {
   "cell_type": "code",
   "execution_count": 17,
   "id": "de7f4787",
   "metadata": {
    "execution": {
     "iopub.execute_input": "2022-05-06T16:59:44.487234Z",
     "iopub.status.busy": "2022-05-06T16:59:44.486622Z",
     "iopub.status.idle": "2022-05-06T16:59:44.489427Z",
     "shell.execute_reply": "2022-05-06T16:59:44.490034Z",
     "shell.execute_reply.started": "2022-04-11T15:09:24.391421Z"
    },
    "papermill": {
     "duration": 0.073825,
     "end_time": "2022-05-06T16:59:44.490199",
     "exception": false,
     "start_time": "2022-05-06T16:59:44.416374",
     "status": "completed"
    },
    "tags": []
   },
   "outputs": [],
   "source": [
    "# text"
   ]
  },
  {
   "cell_type": "code",
   "execution_count": 18,
   "id": "a52a3d41",
   "metadata": {
    "execution": {
     "iopub.execute_input": "2022-05-06T16:59:44.631918Z",
     "iopub.status.busy": "2022-05-06T16:59:44.631228Z",
     "iopub.status.idle": "2022-05-06T16:59:44.634038Z",
     "shell.execute_reply": "2022-05-06T16:59:44.634580Z",
     "shell.execute_reply.started": "2022-04-11T15:09:31.9599Z"
    },
    "papermill": {
     "duration": 0.073595,
     "end_time": "2022-05-06T16:59:44.634745",
     "exception": false,
     "start_time": "2022-05-06T16:59:44.561150",
     "status": "completed"
    },
    "tags": []
   },
   "outputs": [],
   "source": [
    "# res = re.search(string.strip(), text)\n",
    "# res"
   ]
  },
  {
   "cell_type": "code",
   "execution_count": 19,
   "id": "588cb698",
   "metadata": {
    "execution": {
     "iopub.execute_input": "2022-05-06T16:59:44.773720Z",
     "iopub.status.busy": "2022-05-06T16:59:44.773077Z",
     "iopub.status.idle": "2022-05-06T16:59:44.775777Z",
     "shell.execute_reply": "2022-05-06T16:59:44.776360Z",
     "shell.execute_reply.started": "2022-04-11T15:12:41.311242Z"
    },
    "papermill": {
     "duration": 0.07374,
     "end_time": "2022-05-06T16:59:44.776546",
     "exception": false,
     "start_time": "2022-05-06T16:59:44.702806",
     "status": "completed"
    },
    "tags": []
   },
   "outputs": [],
   "source": [
    "# entities = []\n",
    "# entities.append((res.start(),res.end(),'p'))"
   ]
  },
  {
   "cell_type": "code",
   "execution_count": 20,
   "id": "16594054",
   "metadata": {
    "execution": {
     "iopub.execute_input": "2022-05-06T16:59:44.916470Z",
     "iopub.status.busy": "2022-05-06T16:59:44.915838Z",
     "iopub.status.idle": "2022-05-06T16:59:44.918742Z",
     "shell.execute_reply": "2022-05-06T16:59:44.919314Z",
     "shell.execute_reply.started": "2022-04-11T15:12:52.736619Z"
    },
    "papermill": {
     "duration": 0.075299,
     "end_time": "2022-05-06T16:59:44.919509",
     "exception": false,
     "start_time": "2022-05-06T16:59:44.844210",
     "status": "completed"
    },
    "tags": []
   },
   "outputs": [],
   "source": [
    "# entities"
   ]
  },
  {
   "cell_type": "code",
   "execution_count": 21,
   "id": "4a3a5035",
   "metadata": {
    "execution": {
     "iopub.execute_input": "2022-05-06T16:59:45.060654Z",
     "iopub.status.busy": "2022-05-06T16:59:45.059682Z",
     "iopub.status.idle": "2022-05-06T16:59:45.062866Z",
     "shell.execute_reply": "2022-05-06T16:59:45.063359Z",
     "shell.execute_reply.started": "2022-04-11T15:06:11.546217Z"
    },
    "papermill": {
     "duration": 0.076192,
     "end_time": "2022-05-06T16:59:45.063555",
     "exception": false,
     "start_time": "2022-05-06T16:59:44.987363",
     "status": "completed"
    },
    "tags": []
   },
   "outputs": [],
   "source": [
    "# text"
   ]
  },
  {
   "cell_type": "code",
   "execution_count": null,
   "id": "f2b4859a",
   "metadata": {
    "execution": {
     "iopub.execute_input": "2022-04-11T15:02:33.300092Z",
     "iopub.status.busy": "2022-04-11T15:02:33.299778Z",
     "iopub.status.idle": "2022-04-11T15:02:33.30711Z",
     "shell.execute_reply": "2022-04-11T15:02:33.306345Z",
     "shell.execute_reply.started": "2022-04-11T15:02:33.300061Z"
    },
    "papermill": {
     "duration": 0.069453,
     "end_time": "2022-05-06T16:59:45.201640",
     "exception": false,
     "start_time": "2022-05-06T16:59:45.132187",
     "status": "completed"
    },
    "tags": []
   },
   "outputs": [],
   "source": []
  },
  {
   "cell_type": "code",
   "execution_count": 22,
   "id": "2cfe94b5",
   "metadata": {
    "execution": {
     "iopub.execute_input": "2022-05-06T16:59:45.344192Z",
     "iopub.status.busy": "2022-05-06T16:59:45.343512Z",
     "iopub.status.idle": "2022-05-06T16:59:45.345029Z",
     "shell.execute_reply": "2022-05-06T16:59:45.345518Z",
     "shell.execute_reply.started": "2022-04-11T16:21:02.863037Z"
    },
    "papermill": {
     "duration": 0.075113,
     "end_time": "2022-05-06T16:59:45.345678",
     "exception": false,
     "start_time": "2022-05-06T16:59:45.270565",
     "status": "completed"
    },
    "tags": []
   },
   "outputs": [],
   "source": [
    "# import spacy\n",
    "# nlp = spacy.load('en_core_web_sm')"
   ]
  },
  {
   "cell_type": "code",
   "execution_count": 23,
   "id": "d49e4cc9",
   "metadata": {
    "execution": {
     "iopub.execute_input": "2022-05-06T16:59:45.486688Z",
     "iopub.status.busy": "2022-05-06T16:59:45.485987Z",
     "iopub.status.idle": "2022-05-06T16:59:45.489044Z",
     "shell.execute_reply": "2022-05-06T16:59:45.489685Z",
     "shell.execute_reply.started": "2022-04-09T12:19:47.776612Z"
    },
    "papermill": {
     "duration": 0.074892,
     "end_time": "2022-05-06T16:59:45.489851",
     "exception": false,
     "start_time": "2022-05-06T16:59:45.414959",
     "status": "completed"
    },
    "tags": []
   },
   "outputs": [],
   "source": [
    "# !pip install PyPDF2\n",
    "# import PyPDF2\n",
    "# fhandle = open(r'/kaggle/input/sample-pdf/D8communications.pdf', 'rb')\n",
    "# pdfReader = PyPDF2.PdfFileReader(fhandle)\n",
    "# pagehandle = pdfReader.getPage(4)\n",
    "# print(pagehandle.extractText())"
   ]
  },
  {
   "cell_type": "code",
   "execution_count": 24,
   "id": "d6dcaf4a",
   "metadata": {
    "execution": {
     "iopub.execute_input": "2022-05-06T16:59:45.629585Z",
     "iopub.status.busy": "2022-05-06T16:59:45.628900Z",
     "iopub.status.idle": "2022-05-06T16:59:45.631585Z",
     "shell.execute_reply": "2022-05-06T16:59:45.632118Z",
     "shell.execute_reply.started": "2022-04-09T12:25:37.701467Z"
    },
    "papermill": {
     "duration": 0.074381,
     "end_time": "2022-05-06T16:59:45.632287",
     "exception": false,
     "start_time": "2022-05-06T16:59:45.557906",
     "status": "completed"
    },
    "tags": []
   },
   "outputs": [],
   "source": [
    "# !pip install pdfplumber\n",
    "# import pdfplumber\n",
    "# with pdfplumber.open(r'/kaggle/input/sample-pdf/D8communications.pdf') as pdf:\n",
    "#     first_page = pdf.pages[3]\n",
    "#     print(first_page.extract_text())"
   ]
  },
  {
   "cell_type": "code",
   "execution_count": 25,
   "id": "fdfdc06f",
   "metadata": {
    "execution": {
     "iopub.execute_input": "2022-05-06T16:59:45.773114Z",
     "iopub.status.busy": "2022-05-06T16:59:45.772461Z",
     "iopub.status.idle": "2022-05-06T16:59:45.775459Z",
     "shell.execute_reply": "2022-05-06T16:59:45.775983Z",
     "shell.execute_reply.started": "2022-04-09T12:25:49.584635Z"
    },
    "papermill": {
     "duration": 0.074621,
     "end_time": "2022-05-06T16:59:45.776150",
     "exception": false,
     "start_time": "2022-05-06T16:59:45.701529",
     "status": "completed"
    },
    "tags": []
   },
   "outputs": [],
   "source": [
    "# !pip install pytesseract"
   ]
  },
  {
   "cell_type": "code",
   "execution_count": 26,
   "id": "c71e6c6b",
   "metadata": {
    "execution": {
     "iopub.execute_input": "2022-05-06T16:59:45.918365Z",
     "iopub.status.busy": "2022-05-06T16:59:45.917743Z",
     "iopub.status.idle": "2022-05-06T16:59:45.920228Z",
     "shell.execute_reply": "2022-05-06T16:59:45.920798Z",
     "shell.execute_reply.started": "2022-04-09T14:49:10.656812Z"
    },
    "papermill": {
     "duration": 0.076082,
     "end_time": "2022-05-06T16:59:45.920969",
     "exception": false,
     "start_time": "2022-05-06T16:59:45.844887",
     "status": "completed"
    },
    "tags": []
   },
   "outputs": [],
   "source": [
    "# #!pip install pdf2image\n",
    "# !pip install poppler"
   ]
  },
  {
   "cell_type": "code",
   "execution_count": 27,
   "id": "5e8067a4",
   "metadata": {
    "execution": {
     "iopub.execute_input": "2022-05-06T16:59:46.065851Z",
     "iopub.status.busy": "2022-05-06T16:59:46.065101Z",
     "iopub.status.idle": "2022-05-06T16:59:46.070424Z",
     "shell.execute_reply": "2022-05-06T16:59:46.071309Z",
     "shell.execute_reply.started": "2022-04-09T14:57:24.756677Z"
    },
    "papermill": {
     "duration": 0.081408,
     "end_time": "2022-05-06T16:59:46.071571",
     "exception": false,
     "start_time": "2022-05-06T16:59:45.990163",
     "status": "completed"
    },
    "tags": []
   },
   "outputs": [],
   "source": [
    "# pdf2image.convert_from_path('/kaggle/input/sample-pdf/D8communications.pdf')"
   ]
  },
  {
   "cell_type": "code",
   "execution_count": 28,
   "id": "bf9e282e",
   "metadata": {
    "execution": {
     "iopub.execute_input": "2022-05-06T16:59:46.232908Z",
     "iopub.status.busy": "2022-05-06T16:59:46.231890Z",
     "iopub.status.idle": "2022-05-06T16:59:46.236270Z",
     "shell.execute_reply": "2022-05-06T16:59:46.236815Z",
     "shell.execute_reply.started": "2022-04-09T14:57:17.576149Z"
    },
    "papermill": {
     "duration": 0.077184,
     "end_time": "2022-05-06T16:59:46.236988",
     "exception": false,
     "start_time": "2022-05-06T16:59:46.159804",
     "status": "completed"
    },
    "tags": []
   },
   "outputs": [],
   "source": [
    "# import pdf2image\n",
    "# try:\n",
    "#     from PIL import Image\n",
    "# except ImportError:\n",
    "#     import Image\n",
    "# import pytesseract\n",
    "\n",
    "\n",
    "# def pdf_to_img(pdf_file):\n",
    "#     return pdf2image.convert_from_path(pdf_file)\n",
    "\n",
    "\n",
    "# def ocr_core(file):\n",
    "#     text = pytesseract.image_to_string(file)\n",
    "#     return text\n",
    "\n",
    "\n",
    "# def print_pages(pdf_file):\n",
    "#     images = pdf_to_img(pdf_file)\n",
    "#     for pg, img in enumerate(images):\n",
    "#         print(ocr_core(img))\n",
    "\n",
    "\n",
    "# print_pages('/kaggle/input/sample-pdf/D8communications.pdf')\n"
   ]
  },
  {
   "cell_type": "code",
   "execution_count": 29,
   "id": "90830492",
   "metadata": {
    "execution": {
     "iopub.execute_input": "2022-05-06T16:59:46.377347Z",
     "iopub.status.busy": "2022-05-06T16:59:46.376373Z",
     "iopub.status.idle": "2022-05-06T16:59:46.380419Z",
     "shell.execute_reply": "2022-05-06T16:59:46.380914Z"
    },
    "papermill": {
     "duration": 0.075498,
     "end_time": "2022-05-06T16:59:46.381090",
     "exception": false,
     "start_time": "2022-05-06T16:59:46.305592",
     "status": "completed"
    },
    "tags": []
   },
   "outputs": [],
   "source": [
    "# import requests\n",
    "# import fitz\n",
    "# import io\n",
    "\n",
    "# #URL = 'https://buildmedia.readthedocs.org/media/pdf/pdfminer-docs/latest/pdfminer-docs.pdf'\n",
    "# URL = 'https://redactable-devox-stage.s3.us-east-2.amazonaws.com/tenants/41d9e109-693b-444c-aa18-e5891bc6550b/original/1a7c0e5d-3237-4ca9-9e3d-89e707245ac6/D8communications.pdf'\n",
    "\n",
    "\n",
    "# res = requests.get(URL)\n",
    "# filestream = io.BytesIO(res.content)\n",
    "# #res.content\n",
    "# filestream\n",
    "# doc = fitz.Document(stream=filestream)\n",
    "# page1 = doc.loadPage(3)\n",
    "# page1text = page1.getText(\"text\").encode(\"utf-8\").decode(\"utf-8\")\n",
    "# print(page1text)"
   ]
  },
  {
   "cell_type": "code",
   "execution_count": 30,
   "id": "9861a5c3",
   "metadata": {
    "execution": {
     "iopub.execute_input": "2022-05-06T16:59:46.521252Z",
     "iopub.status.busy": "2022-05-06T16:59:46.520270Z",
     "iopub.status.idle": "2022-05-06T16:59:46.524485Z",
     "shell.execute_reply": "2022-05-06T16:59:46.524939Z",
     "shell.execute_reply.started": "2022-04-09T07:04:56.590103Z"
    },
    "papermill": {
     "duration": 0.075783,
     "end_time": "2022-05-06T16:59:46.525120",
     "exception": false,
     "start_time": "2022-05-06T16:59:46.449337",
     "status": "completed"
    },
    "tags": []
   },
   "outputs": [],
   "source": [
    "# import requests\n",
    "# import fitz\n",
    "\n",
    "# #URL = 'https://buildmedia.readthedocs.org/media/pdf/pdfminer-docs/latest/pdfminer-docs.pdf'\n",
    "# URL = 'https://redactable-devox-stage.s3.us-east-2.amazonaws.com/tenants/41d9e109-693b-444c-aa18-e5891bc6550b/original/1a7c0e5d-3237-4ca9-9e3d-89e707245ac6/D8communications.pdf'\n",
    "\n",
    "\n",
    "# res = requests.get(URL)\n",
    "# doc = fitz.open(stream=res.content,filetype=\"pdf\")\n",
    "# page1 = doc.loadPage(3)\n",
    "# page1text = page1.getText(\"text\")\n",
    "# #rect = (72.1149,661.2966,131.95729,675.1716)\n",
    "# rect=(72.10812377929688, 116.13427734375, 133.97142028808594, 146.4227294921875)\n",
    "# labelled_text = page1.get_textbox(rect)\n",
    "# print(labelled_text.strip())\n",
    "\n",
    "# fulltext = page1.get_text()\n",
    "# print(fulltext)\n",
    "# doc = nlp(fulltext)\n",
    "# sentences = []\n",
    "# for sent in doc.sents:\n",
    "#     if labelled_text in sent.text:\n",
    "#         text = sent.text\n",
    "#         print(text)\n",
    "# #print(page1text)"
   ]
  },
  {
   "cell_type": "code",
   "execution_count": 31,
   "id": "57793df8",
   "metadata": {
    "execution": {
     "iopub.execute_input": "2022-05-06T16:59:46.665315Z",
     "iopub.status.busy": "2022-05-06T16:59:46.664449Z",
     "iopub.status.idle": "2022-05-06T16:59:46.667370Z",
     "shell.execute_reply": "2022-05-06T16:59:46.667858Z",
     "shell.execute_reply.started": "2022-04-08T16:42:57.6659Z"
    },
    "papermill": {
     "duration": 0.074489,
     "end_time": "2022-05-06T16:59:46.668027",
     "exception": false,
     "start_time": "2022-05-06T16:59:46.593538",
     "status": "completed"
    },
    "tags": []
   },
   "outputs": [],
   "source": [
    "#res.content"
   ]
  },
  {
   "cell_type": "code",
   "execution_count": 32,
   "id": "99b8a6d3",
   "metadata": {
    "execution": {
     "iopub.execute_input": "2022-05-06T16:59:46.815244Z",
     "iopub.status.busy": "2022-05-06T16:59:46.814242Z",
     "iopub.status.idle": "2022-05-06T16:59:46.818107Z",
     "shell.execute_reply": "2022-05-06T16:59:46.818737Z",
     "shell.execute_reply.started": "2022-04-08T16:48:05.672392Z"
    },
    "papermill": {
     "duration": 0.081298,
     "end_time": "2022-05-06T16:59:46.818905",
     "exception": false,
     "start_time": "2022-05-06T16:59:46.737607",
     "status": "completed"
    },
    "tags": []
   },
   "outputs": [],
   "source": [
    "# import fitz\n",
    "# # mem_area=\n",
    "# # doc = fitz.open(stream=mem_area, filetype=\"pdf\")\n",
    "\n",
    "# import requests\n",
    "\n",
    "# URL = 'https://redactable-devox-stage.s3.us-east-2.amazonaws.com/tenants/41d9e109-693b-444c-aa18-e5891bc6550b/original/1a7c0e5d-3237-4ca9-9e3d-89e707245ac6/D8communications.pdf'\n",
    "\n",
    "# #res = requests.get(URL)\n",
    "# doc=fitz.open(\"/kaggle/input/sample-pdf/D8communications.pdf\")\n",
    "# #doc = fitz.open(stream=res.content,filetype=\"pdf\")\n",
    "# page1 = doc.loadPage(4)\n",
    "# # page1text = page1.getText(\"text\")\n",
    "# # print(page1text)\n",
    "# blocks = page1.getText(\"blocks\")\n",
    "# blocks.sort(key=lambda block: block[1])  # sort vertically ascending\n",
    "\n",
    "# for b in blocks:\n",
    "#     print(b[4])\n"
   ]
  },
  {
   "cell_type": "code",
   "execution_count": 33,
   "id": "21b7f478",
   "metadata": {
    "execution": {
     "iopub.execute_input": "2022-05-06T16:59:46.961913Z",
     "iopub.status.busy": "2022-05-06T16:59:46.960909Z",
     "iopub.status.idle": "2022-05-06T16:59:46.964057Z",
     "shell.execute_reply": "2022-05-06T16:59:46.964667Z",
     "shell.execute_reply.started": "2022-04-08T16:48:13.086323Z"
    },
    "papermill": {
     "duration": 0.07786,
     "end_time": "2022-05-06T16:59:46.964832",
     "exception": false,
     "start_time": "2022-05-06T16:59:46.886972",
     "status": "completed"
    },
    "tags": []
   },
   "outputs": [],
   "source": [
    "# # page = doc[1]\n",
    "# words = page.get_text(\"words\")\n",
    "# #print(words)\n",
    "# rect = (72.1149,661.2966,131.95729,675.1716)\n",
    "\n",
    "# labelled_text = page.get_textbox(rect)\n",
    "# # labelled_text"
   ]
  },
  {
   "cell_type": "markdown",
   "id": "80da9662",
   "metadata": {
    "papermill": {
     "duration": 0.068162,
     "end_time": "2022-05-06T16:59:47.101834",
     "exception": false,
     "start_time": "2022-05-06T16:59:47.033672",
     "status": "completed"
    },
    "tags": []
   },
   "source": [
    "pip install PyPDF2"
   ]
  },
  {
   "cell_type": "code",
   "execution_count": null,
   "id": "50ff0f07",
   "metadata": {
    "papermill": {
     "duration": 0.069522,
     "end_time": "2022-05-06T16:59:47.239867",
     "exception": false,
     "start_time": "2022-05-06T16:59:47.170345",
     "status": "completed"
    },
    "tags": []
   },
   "outputs": [],
   "source": []
  },
  {
   "cell_type": "code",
   "execution_count": 34,
   "id": "18a62ff1",
   "metadata": {
    "execution": {
     "iopub.execute_input": "2022-05-06T16:59:47.380735Z",
     "iopub.status.busy": "2022-05-06T16:59:47.380046Z",
     "iopub.status.idle": "2022-05-06T16:59:47.383369Z",
     "shell.execute_reply": "2022-05-06T16:59:47.383925Z",
     "shell.execute_reply.started": "2022-03-18T16:48:58.370268Z"
    },
    "papermill": {
     "duration": 0.075022,
     "end_time": "2022-05-06T16:59:47.384102",
     "exception": false,
     "start_time": "2022-05-06T16:59:47.309080",
     "status": "completed"
    },
    "tags": []
   },
   "outputs": [],
   "source": [
    "# import pandas as pd\n",
    "# h={'step': 0, 'type': 'string', 'amount': 0.0, 'nameOrig': 'C1231006815', 'oldbalanceOrig': 0.0, 'newbalanceOrig': 0.0, 'nameDest': 'M1979787155', 'oldbalanceDest': 0.0, 'newbalanceDest': 0.0}\n",
    "# df=pd.DataFrame([h])"
   ]
  },
  {
   "cell_type": "code",
   "execution_count": 35,
   "id": "56cf0a52",
   "metadata": {
    "execution": {
     "iopub.execute_input": "2022-05-06T16:59:47.526855Z",
     "iopub.status.busy": "2022-05-06T16:59:47.526180Z",
     "iopub.status.idle": "2022-05-06T16:59:47.529022Z",
     "shell.execute_reply": "2022-05-06T16:59:47.529586Z",
     "shell.execute_reply.started": "2022-04-09T17:21:26.021615Z"
    },
    "papermill": {
     "duration": 0.075121,
     "end_time": "2022-05-06T16:59:47.529756",
     "exception": false,
     "start_time": "2022-05-06T16:59:47.454635",
     "status": "completed"
    },
    "tags": []
   },
   "outputs": [],
   "source": [
    "#df"
   ]
  },
  {
   "cell_type": "code",
   "execution_count": null,
   "id": "bc4b2c87",
   "metadata": {
    "papermill": {
     "duration": 0.067603,
     "end_time": "2022-05-06T16:59:47.666190",
     "exception": false,
     "start_time": "2022-05-06T16:59:47.598587",
     "status": "completed"
    },
    "tags": []
   },
   "outputs": [],
   "source": []
  }
 ],
 "metadata": {
  "kernelspec": {
   "display_name": "Python 3",
   "language": "python",
   "name": "python3"
  },
  "language_info": {
   "codemirror_mode": {
    "name": "ipython",
    "version": 3
   },
   "file_extension": ".py",
   "mimetype": "text/x-python",
   "name": "python",
   "nbconvert_exporter": "python",
   "pygments_lexer": "ipython3",
   "version": "3.7.12"
  },
  "papermill": {
   "default_parameters": {},
   "duration": 23.312645,
   "end_time": "2022-05-06T16:59:48.344641",
   "environment_variables": {},
   "exception": null,
   "input_path": "__notebook__.ipynb",
   "output_path": "__notebook__.ipynb",
   "parameters": {},
   "start_time": "2022-05-06T16:59:25.031996",
   "version": "2.3.3"
  }
 },
 "nbformat": 4,
 "nbformat_minor": 5
}
