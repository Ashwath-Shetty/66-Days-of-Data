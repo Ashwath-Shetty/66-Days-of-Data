{
 "cells": [
  {
   "cell_type": "code",
   "execution_count": 1,
   "id": "a73f3e4c",
   "metadata": {
    "_cell_guid": "b1076dfc-b9ad-4769-8c92-a6c4dae69d19",
    "_uuid": "8f2839f25d086af736a60e9eeb907d3b93b6e0e5",
    "execution": {
     "iopub.execute_input": "2022-05-20T16:48:41.763099Z",
     "iopub.status.busy": "2022-05-20T16:48:41.762389Z",
     "iopub.status.idle": "2022-05-20T16:48:41.773649Z",
     "shell.execute_reply": "2022-05-20T16:48:41.774300Z",
     "shell.execute_reply.started": "2022-04-12T14:12:25.248687Z"
    },
    "papermill": {
     "duration": 0.095136,
     "end_time": "2022-05-20T16:48:41.774696",
     "exception": false,
     "start_time": "2022-05-20T16:48:41.679560",
     "status": "completed"
    },
    "tags": []
   },
   "outputs": [
    {
     "name": "stdout",
     "output_type": "stream",
     "text": [
      "/kaggle/input/sample-pdf/D8communications.pdf\n"
     ]
    }
   ],
   "source": [
    "# This Python 3 environment comes with many helpful analytics libraries installed\n",
    "# It is defined by the kaggle/python Docker image: https://github.com/kaggle/docker-python\n",
    "# For example, here's several helpful packages to load\n",
    "\n",
    "import numpy as np # linear algebra\n",
    "import pandas as pd # data processing, CSV file I/O (e.g. pd.read_csv)\n",
    "\n",
    "# Input data files are available in the read-only \"../input/\" directory\n",
    "# For example, running this (by clicking run or pressing Shift+Enter) will list all files under the input directory\n",
    "\n",
    "import os\n",
    "for dirname, _, filenames in os.walk('/kaggle/input'):\n",
    "    for filename in filenames:\n",
    "        print(os.path.join(dirname, filename))\n",
    "\n",
    "# You can write up to 20GB to the current directory (/kaggle/working/) that gets preserved as output when you create a version using \"Save & Run All\" \n",
    "# You can also write temporary files to /kaggle/temp/, but they won't be saved outside of the current session"
   ]
  },
  {
   "cell_type": "markdown",
   "id": "33b0f5e4",
   "metadata": {
    "papermill": {
     "duration": 0.06787,
     "end_time": "2022-05-20T16:48:41.912319",
     "exception": false,
     "start_time": "2022-05-20T16:48:41.844449",
     "status": "completed"
    },
    "tags": []
   },
   "source": [
    "# **Start Date: 12/3/2022**"
   ]
  },
  {
   "cell_type": "markdown",
   "id": "59690d7b",
   "metadata": {
    "papermill": {
     "duration": 0.076515,
     "end_time": "2022-05-20T16:48:42.058609",
     "exception": false,
     "start_time": "2022-05-20T16:48:41.982094",
     "status": "completed"
    },
    "tags": []
   },
   "source": [
    "# **Day 1:** \n",
    "<br>dataquest -> stats -> probability-> estimating probability\n",
    "1. out come is nothing but o/p of an experiment\n",
    "ex: whatever u get after rolling a dice -> it can be any number\n",
    "2. event can have more than one outcome\n",
    "- e.x: The event that we'll get an odd number when we roll a six-sided die — this event includes the outcomes 1, 3, and 5.\n",
    "- an event can be 0 as well.\n",
    "- We always assign probabilities to events, not outcomes, even if the event includes only one outcome.\n",
    "- P(E) =1/total number of possible outcomes, P(E) probability of an event happening.\n",
    "- but above formula doesn't work always, especially when there are more than one outcome\n",
    "    - P(E)=number of successful outcomes/total number of possible outcomes\n",
    "- incase of a biased situation \n",
    "  - let's say a die has 6 - 3 times which is 1,6,3,5,6,6\n",
    "    we will consider 6 as 3 times not 1.\n",
    "    possible outcome-> 1,3,5,6,6,6\n",
    "    prob(6)=3/6\n",
    "    prob(3)=1/6\n",
    "    prob(2)=0/6\n",
    "    If we didn't treat each 6 differently and said it doesn't matter which side a 6 is on, \n",
    "    <br>we'd be forced to conclude the only possible outcomes are 1, 3, 5 and 6. We can definitely         <br>frame the problem like that, but the formula above won't work anymore — we see below P(6) <br>becomes the same as P(3), but, intuitively, P(6) should be higher than P(3) since the die has 6 on     <br>three of its sides:\n"
   ]
  },
  {
   "cell_type": "markdown",
   "id": "ffc90de2",
   "metadata": {
    "papermill": {
     "duration": 0.07117,
     "end_time": "2022-05-20T16:48:42.201338",
     "exception": false,
     "start_time": "2022-05-20T16:48:42.130168",
     "status": "completed"
    },
    "tags": []
   },
   "source": [
    "Estimating Probabilities Conclusion\n",
    "- emperical/ experimental probability\n",
    "  - probability achieved by experimenting / by doing the same event multiple times.\n",
    "  - Generally, for any event E (like a coin landing heads up), we can find its empirical probability   \n",
    "     by using the following formula: \n",
    "     •P (E) =number of times event E happened/ number of times we repeated the experiment   \n",
    " - Generally, the empirical probability of an event (a coin landing heads up, getting a 5 when weroll a die) approaches the true probability value as the number of trials of the randomexperiment (a coin toss, the rolling of a die) increases without bound.\n",
    "- When we calculate the probability of an event under the assumption that the outcomes have equal chances of occurring, we say that we're calculating the **theoretical probability** of an event.\n",
    "   - P(E)=number of successful outcomes/total number of possible outcomes\n",
    "\n"
   ]
  },
  {
   "cell_type": "markdown",
   "id": "1cf0252a",
   "metadata": {
    "papermill": {
     "duration": 0.068105,
     "end_time": "2022-05-20T16:48:42.338449",
     "exception": false,
     "start_time": "2022-05-20T16:48:42.270344",
     "status": "completed"
    },
    "tags": []
   },
   "source": [
    "# **Day 2**\n",
    "<br>dataquest-> stats -> intro to probability -> probability rules\n",
    "<br>In probability theory, the set of all possible outcomes is called a sample space. A sample space is often denoted by the capital Greek letter Ω (read \"omega\"). This is how we represent the sample space of a die roll:\n",
    "\n",
    "Ω = {1,2,3,4,5,6}\n",
    "-    The probability of any event ranges between 0 and 1: 0≤ P(Event) ≤1\n",
    "- To calculate P(A or B), we can also use the formula below, which is sometimes called the addition rule: P(A or B) = P(A) + P(B)\n",
    "  - Sample space ={ 1,2,3,4,5,6} \n",
    "  - P(2 or 5) = 2/6\n",
    "\n",
    "- P(C or D) = P(C) + P(D) - P(C and D)\n",
    "   - e.x : Sample_space ={2,4,6} + { 4,5,6} - {4/6}\n",
    "      P( even number or number greater than 3) = ( (3/6) + (3/6) )- (2/6) = 4/6\n",
    "- Events that don't intersect are called mutually exclusive.\n",
    "  - e.x: Getting a 5 (event one) and getting a 3 (event two) when we roll a regular six-sided die — it's  impossible to get both a 5 and 3.\n",
    "- Events that intersect are called mutually non-exclusive.\n",
    "  - Getting a number greater than 2 (event one) and getting an odd number (event two) when we roll a regular six-sided die — we could get a 5, which is both greater than 2 (event one) and odd (event two).\n",
    "- unioun -> A or B, intersection -> A and B"
   ]
  },
  {
   "cell_type": "markdown",
   "id": "3714d347",
   "metadata": {
    "papermill": {
     "duration": 0.068527,
     "end_time": "2022-05-20T16:48:42.476464",
     "exception": false,
     "start_time": "2022-05-20T16:48:42.407937",
     "status": "completed"
    },
    "tags": []
   },
   "source": [
    "# Day 3 and 4\n",
    "dataquest -> stats -> probabilities -> solving complex probabilities\n",
    "- This is the same result we got from our previous approach. In more general terms, the multiplication rule says that for two events E1 and E2, the probability that both event E1 and E2 happen can be found by multiplying the probability of E1 by the probability of E2:\n",
    "    - P(E1 ∩ E2) = P(E1) × P(E2)\n",
    "    - Events that don't influence each other's probability are called independent events. If H1 happens, P(H2) stays the same, so H1 and H2 are independent. The multiplication rule we learned only works for independent events.\n",
    "    "
   ]
  },
  {
   "cell_type": "markdown",
   "id": "d9351d86",
   "metadata": {
    "papermill": {
     "duration": 0.069496,
     "end_time": "2022-05-20T16:48:42.615361",
     "exception": false,
     "start_time": "2022-05-20T16:48:42.545865",
     "status": "completed"
    },
    "tags": []
   },
   "source": [
    "# Day 5\n",
    "- When we replace the cards after drawing, we say that we're sampling with replacement. When we don't put the cards back, we're sampling without replacement. \n"
   ]
  },
  {
   "cell_type": "markdown",
   "id": "5d7ba2c2",
   "metadata": {
    "papermill": {
     "duration": 0.068628,
     "end_time": "2022-05-20T16:48:42.752973",
     "exception": false,
     "start_time": "2022-05-20T16:48:42.684345",
     "status": "completed"
    },
    "tags": []
   },
   "source": [
    "# Day6\n",
    "dataquest-> prob and stats -> probability fundamentals -> permutation and combinations\n",
    "Generally, if we have an experiment E1 (like flipping a coin) with a outcomes, followed by an experiment E2 (like rolling a die) with b outcomes, then the total number of outcomes for the composite experiment E1E2 can be found by multiplying a with b:\n",
    "\n",
    "Number of outcomes = a * b"
   ]
  },
  {
   "cell_type": "markdown",
   "id": "d53a84ac",
   "metadata": {
    "papermill": {
     "duration": 0.067989,
     "end_time": "2022-05-20T16:48:42.888998",
     "exception": false,
     "start_time": "2022-05-20T16:48:42.821009",
     "status": "completed"
    },
    "tags": []
   },
   "source": [
    "# Day 7\n",
    "dataquest-> prob and stats -> probability fundamentals -> permutation and combinations <br>\n",
    "More generally, if we have an experiment E1 with a outcomes, followed by an experiment E2 with b outcomes, followed by an experiment En with z outcomes, the total number of outcomes for the composite experiment E1E2 ... En can be found by multiplying their individual outcomes:\n",
    "\n",
    "Number of outcomes= a * b * … * z"
   ]
  },
  {
   "cell_type": "markdown",
   "id": "a2458dd7",
   "metadata": {
    "papermill": {
     "duration": 0.068393,
     "end_time": "2022-05-20T16:48:43.027314",
     "exception": false,
     "start_time": "2022-05-20T16:48:42.958921",
     "status": "completed"
    },
    "tags": []
   },
   "source": [
    "# Day 8\n",
    "dataquest-> prob and stats -> probability fundamentals -> permutation and combinations <br>\n",
    "permutations= n*(n-1)*(n-2)*....*2*1\n"
   ]
  },
  {
   "cell_type": "markdown",
   "id": "22827194",
   "metadata": {
    "papermill": {
     "duration": 0.067548,
     "end_time": "2022-05-20T16:48:43.163424",
     "exception": false,
     "start_time": "2022-05-20T16:48:43.095876",
     "status": "completed"
    },
    "tags": []
   },
   "source": [
    "# Day 9\n",
    "dataquest-> prob and stats -> probability fundamentals -> permutation and combinations\n",
    "- in permutation order of the individual element in the arranement matters.\n",
    "   - for e.x: 9821 is different than 9281\n",
    "   - Permutations =n!  --> sample without replacement-> we are not putting back the sampled data.\n",
    "   - On the last screen, we learned to use the formula below to calculate permutations when we're sampling without replacement and taking only k objects from a group of n objects:\n",
    "   npk=n!/(n-k)!"
   ]
  },
  {
   "cell_type": "markdown",
   "id": "5b45d38c",
   "metadata": {
    "papermill": {
     "duration": 0.067305,
     "end_time": "2022-05-20T16:48:43.298485",
     "exception": false,
     "start_time": "2022-05-20T16:48:43.231180",
     "status": "completed"
    },
    "tags": []
   },
   "source": [
    "# Day 10\n",
    "dataquest-> prob and stats -> probability fundamentals -> permutation and combinations\n",
    "- More generally, if the order of the elements in an arrangement doesn't matter, the arrangement is called a combination.\n",
    "- e.x: cards in a deck \n",
    "- nCk = n! / ((n-k)!*k!)"
   ]
  },
  {
   "cell_type": "markdown",
   "id": "64d99d3c",
   "metadata": {
    "papermill": {
     "duration": 0.067067,
     "end_time": "2022-05-20T16:48:43.433015",
     "exception": false,
     "start_time": "2022-05-20T16:48:43.365948",
     "status": "completed"
    },
    "tags": []
   },
   "source": [
    "# Day 11\n",
    "dataquest-> prob and stats -> probability fundamentals -> permutation and combinations\n",
    "- solved 1 probability problem.\n"
   ]
  },
  {
   "cell_type": "markdown",
   "id": "c83b7c42",
   "metadata": {
    "papermill": {
     "duration": 0.067368,
     "end_time": "2022-05-20T16:48:43.568287",
     "exception": false,
     "start_time": "2022-05-20T16:48:43.500919",
     "status": "completed"
    },
    "tags": []
   },
   "source": [
    "# Day 12\n",
    "dataquest-> prob and stats -> probability fundamentals -> permutation and combinations\n",
    "- finished probability and permutations by revising them.\n",
    "- If we have an experiment E1 (like flipping a coin) with a outcomes, followed by an experiment E2(like rolling a die) with b outcomes, then the total number of outcomes for the compositeexperiment E1E2 can be found by multiplying a with b (this is known as the rule of product):\n",
    "  - number of outcomes = a*b\n",
    "- If we have an experiment E1 with a outcomes, followed by an experiment E2 with b outcomes,followed by an experiment En with z outcomes, the total number of outcomes for the compositeexperiment E1E2 ... En can be found by multiplying their individual outcomes:\n",
    "   - number of outcomes = a*b* ... *z\n",
    "- There are two kinds of arrangements:\n",
    "   - •Arrangements where the order matters, which we call permutations.\n",
    "   - •Arrangements where the order doesn't matter, which we call combination\n",
    "- To find the number of permutations when we're sampling without replacement, we can use theformula:\n",
    "  - permutation = n!\n",
    "- To find the number of permutations when we're sampling without replacement and taking only kobjects from a group of n objects, we can use the formula:\n",
    "  - nPk = n!/(n-k)!\n",
    "- To find the number of combinations when we're sampling without replacement and taking only kobjects from a group of n objects, we can use the formula\n",
    "  - nCk = n! / ((n-k)!*k!)"
   ]
  },
  {
   "cell_type": "markdown",
   "id": "b66da34b",
   "metadata": {
    "papermill": {
     "duration": 0.068067,
     "end_time": "2022-05-20T16:48:43.704045",
     "exception": false,
     "start_time": "2022-05-20T16:48:43.635978",
     "status": "completed"
    },
    "tags": []
   },
   "source": [
    "# Day 13\n",
    "dataquest-> prob and stats -> probability fundamentals -> conditional probabilities\n",
    "- first 2 slides -> mainly the recap of old chapter(above one).\n"
   ]
  },
  {
   "cell_type": "markdown",
   "id": "1546290a",
   "metadata": {
    "papermill": {
     "duration": 0.068317,
     "end_time": "2022-05-20T16:48:43.841498",
     "exception": false,
     "start_time": "2022-05-20T16:48:43.773181",
     "status": "completed"
    },
    "tags": []
   },
   "source": [
    "# Day 14\n",
    "dataquest-> prob and stats -> probability fundamentals -> conditional probabilities\n",
    "<br>slide 4 completed\n",
    "<br>conditional probabilities\n",
    "- probabilities with condition\n",
    "- P(5)=What is the probability of getting a 5? -> normal probability\n",
    "- P(5 | odd) =What is the probability of getting a 5 given the die showed an odd number? -> conditional prob.\n",
    "\n"
   ]
  },
  {
   "cell_type": "markdown",
   "id": "8e0304f2",
   "metadata": {
    "papermill": {
     "duration": 0.069036,
     "end_time": "2022-05-20T16:48:43.979653",
     "exception": false,
     "start_time": "2022-05-20T16:48:43.910617",
     "status": "completed"
    },
    "tags": []
   },
   "source": [
    "# Day 15\n",
    "dataquest-> prob and stats -> probability fundamentals -> conditional probabilities\n",
    "- on slide 5 not done yet.\n",
    "\n",
    "Say we roll a fair six-sided die and want to find the probability of getting an odd number, given the die showed a number greater than 1 after landing. Using probability notation, we want to find P(A|B) where:\n",
    "\n",
    "- A is the event that the number is odd: A = {1, 3, 5}\n",
    "- B is the event that the number is greater than 1: B = {2, 3, 4, 5, 6}\n",
    "- P(A/B)=number of succesfull outcomes / total number of outcomes.\n"
   ]
  },
  {
   "cell_type": "markdown",
   "id": "c5bea966",
   "metadata": {
    "papermill": {
     "duration": 0.068342,
     "end_time": "2022-05-20T16:48:44.117684",
     "exception": false,
     "start_time": "2022-05-20T16:48:44.049342",
     "status": "completed"
    },
    "tags": []
   },
   "source": [
    "# Day 16 and 17\n",
    "dataquest-> prob and stats -> probability fundamentals -> conditional probabilities\n",
    "\n",
    "on slide 6 not done yet."
   ]
  },
  {
   "cell_type": "markdown",
   "id": "101a4cdd",
   "metadata": {
    "papermill": {
     "duration": 0.067948,
     "end_time": "2022-05-20T16:48:44.253334",
     "exception": false,
     "start_time": "2022-05-20T16:48:44.185386",
     "status": "completed"
    },
    "tags": []
   },
   "source": [
    "# Day 18\n",
    "dataquest-> prob and stats -> probability fundamentals -> conditional probabilities\n",
    "<br>slide 5 code half done"
   ]
  },
  {
   "cell_type": "markdown",
   "id": "29051233",
   "metadata": {
    "papermill": {
     "duration": 0.067685,
     "end_time": "2022-05-20T16:48:44.388917",
     "exception": false,
     "start_time": "2022-05-20T16:48:44.321232",
     "status": "completed"
    },
    "tags": []
   },
   "source": [
    "# Day 19\n",
    "- The number of elements in a set is called the cardinal of the set. \n",
    "  Ω is a set, and the cardinal of \n",
    "   Ω = { 2,3,4,5,6}\n",
    "   cardinal(Ω)=5\n",
    "- P(A | B) = card(A ∩ B) / card(B)\n",
    "- Say we roll a fair six-sided die and want to find the probability of getting an odd number, given the die showed a number greater than 1 after landing. Using probability notation, we want to find P(A|B) where:\n",
    "    - A is the event that the number is odd: A = {1, 3, 5}\n",
    "     - B is the event that the number is greater than 1: B = {2, 3, 4, 5, 6}\n",
    "     - total number of possible outcomes = card({2,3,4,5,6}) =5\n",
    "     - number of successful outcomes = card({3,5})= 2\n",
    "- P(A | B) = card(A ∩ B) / card(B), we can also get the same result using P(A | B) = prob(A ∩ B) / prob(B)\n",
    "\n",
    "     "
   ]
  },
  {
   "cell_type": "markdown",
   "id": "dfd66578",
   "metadata": {
    "papermill": {
     "duration": 0.068857,
     "end_time": "2022-05-20T16:48:44.525779",
     "exception": false,
     "start_time": "2022-05-20T16:48:44.456922",
     "status": "completed"
    },
    "tags": []
   },
   "source": [
    "# Day 20\n",
    "dataquest-> prob and stats -> probability fundamentals -> conditional probabilities intermediate\n",
    "<br> slide 1 and 2\n",
    "- P( A | B ) ≠ P(A ∩ B), but rather:\n",
    "   - P(A | B) = P(A ∩ B) / P(B)\n",
    "   - P(A ∩ B) = P(A | B) ⋅ P(B)\n",
    "- Given that a customer bought a laptop, they will or will not also buy a mouse. This means we can be certain that either event (M|L) or (M^C|L) will happen:\n",
    "     - P(M | L) + P(M^C | L) = 1\n",
    "\n"
   ]
  },
  {
   "cell_type": "markdown",
   "id": "37012702",
   "metadata": {
    "papermill": {
     "duration": 0.068019,
     "end_time": "2022-05-20T16:48:44.662802",
     "exception": false,
     "start_time": "2022-05-20T16:48:44.594783",
     "status": "completed"
    },
    "tags": []
   },
   "source": [
    "# Day 21\n",
    "dataquest-> prob and stats -> probability fundamentals -> conditional probabilities intermediate\n",
    "slide 1 and 2\n",
    "- P(A ∩ B) = P(B ∩ A)\n",
    "- multiplication rule of probability\n",
    "  -  P(A ∩ B) = P(B) ⋅ P(A | B) \n",
    "  - P(A ∩ B) = P(A) ⋅ P(B | A)\n",
    "- if P(A) and P(B) are statistically independent then \n",
    "  - P(A ∩ B) = P(A) ⋅ P(B)\n",
    "\n"
   ]
  },
  {
   "cell_type": "markdown",
   "id": "c4b33290",
   "metadata": {
    "papermill": {
     "duration": 0.067678,
     "end_time": "2022-05-20T16:48:44.798372",
     "exception": false,
     "start_time": "2022-05-20T16:48:44.730694",
     "status": "completed"
    },
    "tags": []
   },
   "source": [
    "# Day 22\n",
    "dataquest-> prob and stats -> probability fundamentals -> conditional probabilities intermediate \n",
    "<br>slide 6\n",
    "- If events events A and B are dependent, it means the occurrence of event A changes the probability of event B and vice versa.\n",
    "   - P(A) ≠ P(A | B)\n",
    "   - P(B) ≠ P(B | A)\n",
    "   - P(A ∩ B) ≠ P(A) ⋅ P(B)\n",
    "   - formula will become P(A ∩ B) ≠ P(A) ⋅ P(B/A)\n",
    "   "
   ]
  },
  {
   "cell_type": "markdown",
   "id": "a42e7b09",
   "metadata": {
    "papermill": {
     "duration": 0.068882,
     "end_time": "2022-05-20T16:48:44.936497",
     "exception": false,
     "start_time": "2022-05-20T16:48:44.867615",
     "status": "completed"
    },
    "tags": []
   },
   "source": [
    "# Day 23\n",
    "dataquest-> prob and stats -> probability fundamentals -> conditional probabilities intermediate\n",
    "<br>slide 7 to last\n",
    "- To find whether three events — A, B, C — are independent or not, below conditions must hold true -\n",
    "  - P(A ∩ B) ≠ P(A) ⋅ P(B)\n",
    "  - P(A ∩ C) ≠ P(A) ⋅ P(C)\n",
    "  - P(B ∩ C) ≠ P(B) ⋅ P(C)\n",
    "  - P(A ∩ B ∩ C) ≠ P(A) ⋅ P(B) . P(C)\n",
    "- multiplication rule for conditional probability or dependent events\n",
    " - P(A ∩ B ∩ C) = P(A) ⋅ P(B | A) ⋅ P(C | A ∩ B)\n",
    " \n",
    "\n"
   ]
  },
  {
   "cell_type": "markdown",
   "id": "b8072833",
   "metadata": {
    "papermill": {
     "duration": 0.069084,
     "end_time": "2022-05-20T16:48:45.074971",
     "exception": false,
     "start_time": "2022-05-20T16:48:45.005887",
     "status": "completed"
    },
    "tags": []
   },
   "source": [
    "# Day 24\n",
    "dataquest-> prob and stats -> probability fundamentals -> bayes theorem\n",
    "<br>slide 1\n",
    "- independent -> one event is dependent on other\n",
    "   - P(A ∩ B) = P(A) ⋅ P(B/A)\n",
    "- independent -> one event is not dependent on other.\n",
    "   - P(A ∩ B) = P(A) ⋅ P(B)\n",
    "- mutually exclusive -> both the events cannot happen at the same time.\n",
    "   - P(A ∩ B) = 0\n",
    "\n"
   ]
  },
  {
   "cell_type": "markdown",
   "id": "9f3dd8b3",
   "metadata": {
    "papermill": {
     "duration": 0.06791,
     "end_time": "2022-05-20T16:48:45.211231",
     "exception": false,
     "start_time": "2022-05-20T16:48:45.143321",
     "status": "completed"
    },
    "tags": []
   },
   "source": [
    "# Day 25\n",
    "dataquest-> prob and stats -> probability fundamentals -> bayes theorem\n",
    "<br>slide 2\n",
    "- If two events are exhaustive, it means they make up the whole sample space Ω\n",
    "  -  P(A) = P(A ∩ B) + P(A ∩ B^c)\n",
    "     P(A) = (P(B) * P(A/B)) +  (P(B^c) * P(A/B^c))\n",
    "     \n",
    "     "
   ]
  },
  {
   "cell_type": "markdown",
   "id": "58142772",
   "metadata": {
    "papermill": {
     "duration": 0.068437,
     "end_time": "2022-05-20T16:48:45.348702",
     "exception": false,
     "start_time": "2022-05-20T16:48:45.280265",
     "status": "completed"
    },
    "tags": []
   },
   "source": [
    "# Day 26\n",
    "dataquest-> prob and stats -> probability fundamentals -> bayes theorem\n",
    "<br>slide 3 - last\n",
    "- the law of total probability\n",
    "  - P(A)  = (P(B1) * P(A/B1)) + (P(B2) * P(A/B2))+ ... + (P(Bn) * P(A/Bn)))\n",
    "  - P(A) =(summattion i=1 to n) P(Bi) ⋅ P(A|Bi)\n",
    "- Baye's theorem\n",
    "  - P(B | A) = (P(B) ⋅ P(A | B)) / (n ∑i=1 P(Bi) ⋅ P(A | Bi))\n",
    "- The probability of being infected with HIV before doing any test is called the prior probability (\"prior\" means \"before\"). The probability of being infected with HIV after testing positive is called the posterior probability (\"posterior\" means \"after\").\n",
    "\n",
    "\n",
    "  "
   ]
  },
  {
   "cell_type": "markdown",
   "id": "a4cd8f42",
   "metadata": {
    "papermill": {
     "duration": 0.067953,
     "end_time": "2022-05-20T16:48:45.484763",
     "exception": false,
     "start_time": "2022-05-20T16:48:45.416810",
     "status": "completed"
    },
    "tags": []
   },
   "source": [
    "# Day 27\n",
    "dataquest-> prob and stats -> probability fundamentals -> naive bayes theorem\n",
    "<br>slide 1 - \n",
    "P(Spam|w1,w2,w3,w4)∝P(Spam)⋅P(w1|Spam)⋅P(w2|Spam)⋅P(w3|Spam)⋅P(w4|Spam)P(SpamC|w1,w2,w3,w4)∝P(SpamC)⋅P(w1|SpamC)⋅P(w2|SpamC)⋅P(w3|SpamC)⋅P(w4|SpamC)"
   ]
  },
  {
   "cell_type": "markdown",
   "id": "287fbf0b",
   "metadata": {
    "papermill": {
     "duration": 0.068007,
     "end_time": "2022-05-20T16:48:45.620679",
     "exception": false,
     "start_time": "2022-05-20T16:48:45.552672",
     "status": "completed"
    },
    "tags": []
   },
   "source": [
    "# Day 28\n",
    "dataquest-> prob and stats -> probability fundamentals -> naive bayes theorem\n",
    "<br>finished.\n",
    "<br>**Summary**\n",
    "- P(Spam|w1,w2,...,wn)∝P(Spam)⋅n∏i=1P(wi|Spam)\n",
    "- P(SpamC|w1,w2,...,wn)∝P(SpamC)⋅n∏i=1P(wi|SpamC)\n",
    "- To calculate P(wi|Spam) and P(wi|SpamC), we need to use the additive smoothing technique: \n",
    "- P ( w i | S p a m ) = (N w i | S p a m + α) / ( N S p a m + α ⋅ N V o c a b u l a r y )\n",
    "- P ( w i | S p a m C ) = (N w i | S p a m C + α) / ( N S p a m C + α ⋅ N V o c a b u l a r y )\n",
    "     - N w i | S p a m = the number of times the word w i occurs in spam messages \n",
    "     - N w i | S p a m C = the number of times the word w i occurs in non-spam messages \n",
    "     - N S p a m = total number of words in spam messages \n",
    "     - N S p a m C = total number of words in non-spam messages \n",
    "     - N V o c a b u l a r y = total number of words in the vocabulary \n",
    "     - α = 1 ( α is a smoothing parameter )\n",
    " - naive bayes theorem assumes that events are not dependent.\n",
    " - The assumption of conditional independence between words is thus naive since it rarely holds in practice, and this is why the algorithm is called Naive Bayes (also called simple Bayes or independence Bayes)."
   ]
  },
  {
   "cell_type": "markdown",
   "id": "b23bc31d",
   "metadata": {
    "papermill": {
     "duration": 0.067543,
     "end_time": "2022-05-20T16:48:45.755998",
     "exception": false,
     "start_time": "2022-05-20T16:48:45.688455",
     "status": "completed"
    },
    "tags": []
   },
   "source": [
    "# Day 29,30,31\n",
    "<br>dataquest-> prob and stats -> probability fundamentals -> conditional probability-> guided projects\n",
    "<br> in progress"
   ]
  },
  {
   "cell_type": "markdown",
   "id": "fe9e7822",
   "metadata": {
    "papermill": {
     "duration": 0.067337,
     "end_time": "2022-05-20T16:48:45.891159",
     "exception": false,
     "start_time": "2022-05-20T16:48:45.823822",
     "status": "completed"
    },
    "tags": []
   },
   "source": [
    "# Day 32 and 33\n",
    "<br>dataquest-> prob and stats -> probability fundamentals -> guided projects\n",
    "<br> done"
   ]
  },
  {
   "cell_type": "markdown",
   "id": "0ca60059",
   "metadata": {
    "papermill": {
     "duration": 0.068411,
     "end_time": "2022-05-20T16:48:46.028583",
     "exception": false,
     "start_time": "2022-05-20T16:48:45.960172",
     "status": "completed"
    },
    "tags": []
   },
   "source": [
    "# Day 34\n",
    "<br>dataquest-> prob and stats -> probability fundamentals -> guided projects-> lottery prediction\n",
    "<br> done"
   ]
  },
  {
   "cell_type": "markdown",
   "id": "20fca010",
   "metadata": {
    "papermill": {
     "duration": 0.06971,
     "end_time": "2022-05-20T16:48:46.168727",
     "exception": false,
     "start_time": "2022-05-20T16:48:46.099017",
     "status": "completed"
    },
    "tags": []
   },
   "source": [
    "# Day 35\n",
    "<br>dataquest-> prob and stats -> hypothesis testing fundamentals -> significance testing\n",
    "<br> till slide 4\n",
    "- null hypothesis\n",
    "- alternate hypothesis\n"
   ]
  },
  {
   "cell_type": "markdown",
   "id": "d3a7ed5a",
   "metadata": {
    "papermill": {
     "duration": 0.067381,
     "end_time": "2022-05-20T16:48:46.304192",
     "exception": false,
     "start_time": "2022-05-20T16:48:46.236811",
     "status": "completed"
    },
    "tags": []
   },
   "source": [
    "# Day 36 and 37\n",
    "<br>dataquest-> prob and stats -> hypothesis testing fundamentals -> significance testing\n",
    "- The permutation test is a statistical test that involves rerunning the study many times and recalculating the test statistic for each iteration. The goal is to calculate a distribution of the test statistics over these many iterations. This distribution is called the sampling distribution and it approximates the full range of possible test statistics under the null hypothesis\n",
    "\n"
   ]
  },
  {
   "cell_type": "markdown",
   "id": "49e38af1",
   "metadata": {
    "papermill": {
     "duration": 0.067279,
     "end_time": "2022-05-20T16:48:46.439296",
     "exception": false,
     "start_time": "2022-05-20T16:48:46.372017",
     "status": "completed"
    },
    "tags": []
   },
   "source": [
    "# Day 38\n",
    "<br>dataquest-> prob and stats -> hypothesis testing fundamentals -> significance testing\n",
    "<br>in progress."
   ]
  },
  {
   "cell_type": "markdown",
   "id": "e8102b3e",
   "metadata": {
    "papermill": {
     "duration": 0.067357,
     "end_time": "2022-05-20T16:48:46.574594",
     "exception": false,
     "start_time": "2022-05-20T16:48:46.507237",
     "status": "completed"
    },
    "tags": []
   },
   "source": [
    "# Day 39\n",
    "<br>dataquest-> prob and stats -> hypothesis testing fundamentals -> significance testing\n",
    "<br>slide 5-6"
   ]
  },
  {
   "cell_type": "markdown",
   "id": "6a530aac",
   "metadata": {
    "papermill": {
     "duration": 0.067752,
     "end_time": "2022-05-20T16:48:46.709879",
     "exception": false,
     "start_time": "2022-05-20T16:48:46.642127",
     "status": "completed"
    },
    "tags": []
   },
   "source": [
    "# Day 40\n",
    "<br>dataquest-> prob and stats -> hypothesis testing fundamentals -> significance testing\n",
    "<br>slide 7"
   ]
  },
  {
   "cell_type": "markdown",
   "id": "7f93d26d",
   "metadata": {
    "papermill": {
     "duration": 0.069742,
     "end_time": "2022-05-20T16:48:46.848074",
     "exception": false,
     "start_time": "2022-05-20T16:48:46.778332",
     "status": "completed"
    },
    "tags": []
   },
   "source": [
    "# Day 41 and 42\n",
    "<br>dataquest-> prob and stats -> hypothesis testing fundamentals -> significance testing\n",
    "<br>slide 7 done and 8(p-value) strated"
   ]
  },
  {
   "cell_type": "markdown",
   "id": "c0a5edc8",
   "metadata": {
    "papermill": {
     "duration": 0.068308,
     "end_time": "2022-05-20T16:48:46.984990",
     "exception": false,
     "start_time": "2022-05-20T16:48:46.916682",
     "status": "completed"
    },
    "tags": []
   },
   "source": [
    "# Day 43\n",
    "<br>dataquest-> prob and stats -> hypothesis testing fundamentals -> significance testing\n",
    "<br>\n",
    "- The first step is to decide a test statistic, which is a numerical value that summarizes the data and one we can use in statistical formulas. The test statistic runs a statistical test that determines whether the difference between the groups was due to random chance.\n",
    "  - e.x: mean \n",
    "- The permutation test is a statistical test that involves rerunning the study many times and recalculating the test statistic for each iteration.\n",
    "   - The goal is to calculate a distribution of the test statistics over these many iterations. This distribution is called the sampling distribution and it approximates the full range of possible test statistics under the null hypothesis.\n",
    "- If the p value is less than the threshold, we:\n",
    "    - reject the null hypothesis that there's no difference in the mean amount of weight lost by participants in both groups; and\n",
    "    - conclude that there is some evidence that the weight loss pill does affect the amount of weight people lost.\n",
    "\n",
    "- If the p value is greater than the threshold, we:\n",
    "    - fail to reject the null hypothesis that there's no difference in the mean amount of weight lost by participants in both groups,\n",
    "    - conclude that the weight loss pill doesn't seem to be effective in helping people lose weight.\n",
    "- usually used p-value threshold is 0.05\n",
    "- The p value threshold you set can also affect the conclusion you reach.\n",
    "    - If you set too high of a p value threshold, you may reject the null hypothesis incorrectly. This is known as a type I error.\n",
    "    - If you set too low of a p value threshold, you may fail to reject the null hypothesis incorrectly. This is known as a type II error."
   ]
  },
  {
   "cell_type": "markdown",
   "id": "2c6cb04e",
   "metadata": {
    "papermill": {
     "duration": 0.070217,
     "end_time": "2022-05-20T16:48:47.124642",
     "exception": false,
     "start_time": "2022-05-20T16:48:47.054425",
     "status": "completed"
    },
    "tags": []
   },
   "source": [
    "# Day 44\n",
    "<br>dataquest-> prob and stats -> hypothesis testing fundamentals -> significance testing-> chi squared test\n",
    "<br>1- 4\n",
    "- chi squared test is used for numerical values"
   ]
  },
  {
   "cell_type": "markdown",
   "id": "148c0a08",
   "metadata": {
    "papermill": {
     "duration": 0.068468,
     "end_time": "2022-05-20T16:48:47.261590",
     "exception": false,
     "start_time": "2022-05-20T16:48:47.193122",
     "status": "completed"
    },
    "tags": []
   },
   "source": [
    "# Day 45 and 46\n",
    "<br>dataquest-> prob and stats -> hypothesis testing fundamentals -> significance testing-> chi squared test\n",
    "<br>4- 6"
   ]
  },
  {
   "cell_type": "markdown",
   "id": "94bf1358",
   "metadata": {
    "papermill": {
     "duration": 0.067549,
     "end_time": "2022-05-20T16:48:47.397811",
     "exception": false,
     "start_time": "2022-05-20T16:48:47.330262",
     "status": "completed"
    },
    "tags": []
   },
   "source": [
    "# Day 47\n",
    "<br>dataquest-> prob and stats -> hypothesis testing fundamentals -> significance testing-> chi squared test\n",
    "<br> slide 6 done"
   ]
  },
  {
   "cell_type": "markdown",
   "id": "f1486758",
   "metadata": {
    "papermill": {
     "duration": 0.067449,
     "end_time": "2022-05-20T16:48:47.533250",
     "exception": false,
     "start_time": "2022-05-20T16:48:47.465801",
     "status": "completed"
    },
    "tags": []
   },
   "source": [
    "# Day 48\n",
    "<br> chi-squared values is that they get smaller as the sample size decreases.\n",
    "<br>**conclusion**\n",
    "- The chi-squared test enables us to quantify the difference between sets of observed and expected categorical values to determine statistical significance\n",
    "- chi squared = (observed - expected)**2 / expected\n",
    "- A p-value allows us to determine whether the difference between 2 values is due to chance, or due to an underlying difference.\n",
    "- Chi-squared values increase as sample size increases, but the chance of getting a high chi-squared value decreases as the sample gets larger.\n",
    "- A degree of freedom is the number of values that can vary without the other values being\"locked in\". \n",
    "- scipy https://docs.scipy.org/doc/scipy/reference/generated/scipy.stats.mstats.chisquare.html\n"
   ]
  },
  {
   "cell_type": "markdown",
   "id": "afb93b06",
   "metadata": {
    "papermill": {
     "duration": 0.069875,
     "end_time": "2022-05-20T16:48:47.671247",
     "exception": false,
     "start_time": "2022-05-20T16:48:47.601372",
     "status": "completed"
    },
    "tags": []
   },
   "source": [
    "# Day 49\n",
    "<br>dataquest-> prob and stats -> hypothesis testing fundamentals -> significance testing-> multi category chi squared test\n",
    "<br> slide 1 done\n",
    "- We can apply the multi category chi-squared test (also known as the chi-squared test of association) to figure out if there's a statistically significant correlation between two categorical columns.\n",
    "- "
   ]
  },
  {
   "cell_type": "markdown",
   "id": "f9ab0343",
   "metadata": {
    "papermill": {
     "duration": 0.067954,
     "end_time": "2022-05-20T16:48:47.807177",
     "exception": false,
     "start_time": "2022-05-20T16:48:47.739223",
     "status": "completed"
    },
    "tags": []
   },
   "source": [
    " **Day 50**\n",
    "<br>dataquest-> prob and stats -> hypothesis testing fundamentals -> significance testing-> multi category chi squared test\n",
    "# Conclusion:\n",
    "- In a multiple category chi-squared test, we calculate expected values across our whole dataset.\n",
    "- We can calculate the chi-squared value by using the following steps:\n",
    "    - Subtract the expected value from the observed value.\n",
    "    - Subtract the difference.\n",
    "    - Divide the squared difference by the expected value.\n",
    "    - Repeat for all observed and expected values and add up all the values.\n",
    "- ∑ expected(observed−expected)**2 / expected\n",
    "- Discovering that a result isn't significant doesn't mean that no association between the columnsexists. Discovering a statistically significant result doesn't imply anything about what thecorrelation is.\n",
    "- Chi-squared tests can only be applied when each possibility within a category is independen.\n",
    "    - we have categories like male or female not both. single row has either male or female not both at a time.\n",
    "- https://docs.scipy.org/doc/scipy-0.15.1/reference/generated/scipy.stats.chi2_contingency.html\n",
    "- https://pandas.pydata.org/pandas-docs/stable/generated/pandas.crosstab.html\n"
   ]
  },
  {
   "cell_type": "markdown",
   "id": "30f1e66b",
   "metadata": {
    "papermill": {
     "duration": 0.069762,
     "end_time": "2022-05-20T16:48:47.945612",
     "exception": false,
     "start_time": "2022-05-20T16:48:47.875850",
     "status": "completed"
    },
    "tags": []
   },
   "source": [
    "# **Day 51, 52**\n",
    "<br>dataquest-> prob and stats -> hypothesis testing fundamentals -> significance testing-> guided project\n",
    "<br>in progress."
   ]
  },
  {
   "cell_type": "markdown",
   "id": "658aa9ff",
   "metadata": {
    "papermill": {
     "duration": 0.06891,
     "end_time": "2022-05-20T16:48:48.082937",
     "exception": false,
     "start_time": "2022-05-20T16:48:48.014027",
     "status": "completed"
    },
    "tags": []
   },
   "source": [
    "# **Day 53**\n",
    "<br>dataquest-> prob and stats -> hypothesis testing fundamentals -> significance testing-> guided project\n",
    "<br>done"
   ]
  },
  {
   "cell_type": "markdown",
   "id": "4c666001",
   "metadata": {
    "papermill": {
     "duration": 0.06779,
     "end_time": "2022-05-20T16:48:48.218780",
     "exception": false,
     "start_time": "2022-05-20T16:48:48.150990",
     "status": "completed"
    },
    "tags": []
   },
   "source": [
    "# **Day 54,55, 56,57, 58, 59**\n",
    "interviewbit-> probability-> conditional probability\n",
    "1. You asked your three friends whether it will rain or not and all three affirmed for rain. All three have the probability of 1/3 of lying. What is the probability that it will actually rain?\n",
    "- https://www.geeksforgeeks.org/puzzle-is-it-raining/#:~:text=Explanation%3A,truth%20or%20all%20are%20lying.&text=So%2C%20it%20is%20approximately%2089,it%20is%20raining%20in%20Hyderabad.\n",
    "2. Anshul and Deven take turns in rolling a fair six-sided die. Whoever rolls a “6” first wins the game. Deven starts by rolling first. What’s the probability that Anshul wins?\n",
    "- https://www.quora.com/A-and-B-throw-a-Fair-die-one-after-another-Whoever-throws-6-first-wins-What-is-the-probability-that-A-wins\n",
    "\n",
    "3. You have a bag with 6 marbles. One marble is white. You reach the bag 100 times. After taking out a marble, it is placed back in the bag. What is the probability of drawing a white marble at least once?\n",
    "- https://brainly.com/question/14376470\n",
    "- Answer:\n",
    "\n",
    "0.999999988\n",
    "\n",
    "Step-by-step explanation:\n",
    "\n",
    "Given that you  have a bag with 6 marbles. One marble is white. You reach the bag 100 times. After taking out a marble, it is placed back in the bag.\n",
    "\n",
    "Because every time you replace the marble drawn, the probability for drawing a white marble in one draw is constant = p =5/6\n",
    "\n",
    "No of trials n = 100\n",
    "\n",
    "Here X no of times white marble is drawn is Binomial since there are two outcomes and also the probability is constant.\n",
    "\n",
    "the probability of drawing a white marble at least once\n",
    "\n",
    "=\n",
    "\n",
    "Required probability is almost 1.\n",
    "\n",
    "\n",
    "4. Supposedly a friend of yours has 2 children and at least one of them is a boy. What is the probability that the other is also a boy?\n",
    "- If at least one is a boy, there are three possible equally likely gender assignations of two siblings. boy-boy, boy-girl,\n",
    "\n",
    " or girl-boy. Only 1 in 3 cases or 33 percent are both boys. The lesson here is that when considering equally likely scenarios\n",
    "\n",
    " we must consider birth order. If the birth order of the boy is not specified – i.e. if we don’t know if he is the eldest or \n",
    "\n",
    " the youngest – the probability of two boys drops to 1 in 3.\n",
    " \n",
    "5. A single card is drawn from a standard deck of playing cards. What is the probability that the card is a queen provided that a face card is drawn from the deck of cards?\n",
    "- 4/12 = 1/3\n",
    " \n",
    "6. random variables Q1,2\n",
    "7. 5 questions\n",
    "8. bayes theorem first 2\n",
    "\n",
    "**Day 60**\n",
    "- inferential statistics - 3 questions\n",
    "**Day 61**\n",
    "- inferential statistics - central limit theorem done\n",
    "\n",
    "**Day 62**\n",
    "- inferential statistics - distribution analysis multivariate done\n",
    "\n",
    "**Day 63**\n",
    "- inferential statistics -  done\n",
    "\n",
    "**Day 64,65, 66**\n",
    "- Data Analysis-  wip\n",
    "\n",
    "**Day 67**\n",
    "- Data Analysis-  web scrapping done\n",
    "\n",
    "**Day 68**\n",
    "- Data Analysis-  descriptive statistics tutorial done\n",
    "\n",
    "**Day 69**\n",
    "- Data Analysis-  probability tutorial done\n",
    "**Day 70**\n",
    "- Data Analysis-  hypothesis testing wip"
   ]
  },
  {
   "cell_type": "markdown",
   "id": "ec3ac14d",
   "metadata": {
    "papermill": {
     "duration": 0.067653,
     "end_time": "2022-05-20T16:48:48.354360",
     "exception": false,
     "start_time": "2022-05-20T16:48:48.286707",
     "status": "completed"
    },
    "tags": []
   },
   "source": []
  },
  {
   "cell_type": "code",
   "execution_count": null,
   "id": "bf6627a8",
   "metadata": {
    "papermill": {
     "duration": 0.067734,
     "end_time": "2022-05-20T16:48:48.490087",
     "exception": false,
     "start_time": "2022-05-20T16:48:48.422353",
     "status": "completed"
    },
    "tags": []
   },
   "outputs": [],
   "source": []
  },
  {
   "cell_type": "code",
   "execution_count": 2,
   "id": "2495e997",
   "metadata": {
    "execution": {
     "iopub.execute_input": "2022-05-20T16:48:48.631164Z",
     "iopub.status.busy": "2022-05-20T16:48:48.630147Z",
     "iopub.status.idle": "2022-05-20T16:48:48.632208Z",
     "shell.execute_reply": "2022-05-20T16:48:48.632789Z",
     "shell.execute_reply.started": "2022-04-12T14:17:49.333113Z"
    },
    "papermill": {
     "duration": 0.074832,
     "end_time": "2022-05-20T16:48:48.632951",
     "exception": false,
     "start_time": "2022-05-20T16:48:48.558119",
     "status": "completed"
    },
    "tags": []
   },
   "outputs": [],
   "source": [
    "# !pip install PyMuPDF"
   ]
  },
  {
   "cell_type": "code",
   "execution_count": 3,
   "id": "94098641",
   "metadata": {
    "execution": {
     "iopub.execute_input": "2022-05-20T16:48:48.772725Z",
     "iopub.status.busy": "2022-05-20T16:48:48.771666Z",
     "iopub.status.idle": "2022-05-20T16:48:48.775159Z",
     "shell.execute_reply": "2022-05-20T16:48:48.775750Z",
     "shell.execute_reply.started": "2022-04-12T14:19:20.437905Z"
    },
    "papermill": {
     "duration": 0.074984,
     "end_time": "2022-05-20T16:48:48.775915",
     "exception": false,
     "start_time": "2022-05-20T16:48:48.700931",
     "status": "completed"
    },
    "tags": []
   },
   "outputs": [],
   "source": [
    " \n",
    "# fitz.__version__"
   ]
  },
  {
   "cell_type": "code",
   "execution_count": 4,
   "id": "d5c5e216",
   "metadata": {
    "execution": {
     "iopub.execute_input": "2022-05-20T16:48:48.916590Z",
     "iopub.status.busy": "2022-05-20T16:48:48.915683Z",
     "iopub.status.idle": "2022-05-20T16:48:48.917849Z",
     "shell.execute_reply": "2022-05-20T16:48:48.918316Z",
     "shell.execute_reply.started": "2022-04-12T14:23:59.687259Z"
    },
    "papermill": {
     "duration": 0.074432,
     "end_time": "2022-05-20T16:48:48.918471",
     "exception": false,
     "start_time": "2022-05-20T16:48:48.844039",
     "status": "completed"
    },
    "tags": []
   },
   "outputs": [],
   "source": [
    "# !python -m spacy download en_core_web_sm"
   ]
  },
  {
   "cell_type": "code",
   "execution_count": null,
   "id": "e67e7c4e",
   "metadata": {
    "papermill": {
     "duration": 0.067764,
     "end_time": "2022-05-20T16:48:49.054589",
     "exception": false,
     "start_time": "2022-05-20T16:48:48.986825",
     "status": "completed"
    },
    "tags": []
   },
   "outputs": [],
   "source": []
  },
  {
   "cell_type": "code",
   "execution_count": 5,
   "id": "6bf594b5",
   "metadata": {
    "execution": {
     "iopub.execute_input": "2022-05-20T16:48:49.196064Z",
     "iopub.status.busy": "2022-05-20T16:48:49.195451Z",
     "iopub.status.idle": "2022-05-20T16:48:49.197868Z",
     "shell.execute_reply": "2022-05-20T16:48:49.197330Z",
     "shell.execute_reply.started": "2022-04-12T14:18:25.912243Z"
    },
    "papermill": {
     "duration": 0.073759,
     "end_time": "2022-05-20T16:48:49.197997",
     "exception": false,
     "start_time": "2022-05-20T16:48:49.124238",
     "status": "completed"
    },
    "tags": []
   },
   "outputs": [],
   "source": [
    "# import fitz\n",
    "# import spacy\n",
    "# import re\n",
    "# from pathlib import Path\n",
    "# import requests\n",
    "# import os"
   ]
  },
  {
   "cell_type": "code",
   "execution_count": 6,
   "id": "5295a152",
   "metadata": {
    "execution": {
     "iopub.execute_input": "2022-05-20T16:48:49.337116Z",
     "iopub.status.busy": "2022-05-20T16:48:49.336492Z",
     "iopub.status.idle": "2022-05-20T16:48:49.340357Z",
     "shell.execute_reply": "2022-05-20T16:48:49.340906Z",
     "shell.execute_reply.started": "2022-04-12T15:03:43.5897Z"
    },
    "papermill": {
     "duration": 0.074613,
     "end_time": "2022-05-20T16:48:49.341079",
     "exception": false,
     "start_time": "2022-05-20T16:48:49.266466",
     "status": "completed"
    },
    "tags": []
   },
   "outputs": [],
   "source": [
    "# sql_db_json = [\n",
    "#   {\n",
    "#     \"document_id\": \"1\",\n",
    "#     \"area\": \"[72.1149,661.2966,131.95729,675.1716]\",\n",
    "#     \"page\": \"3\",\n",
    "#     \"text_\": \"Background\",\n",
    "#     \"type_of_selection\": \"Text\",\n",
    "#     \"entity_type\": \"name\",\n",
    "#     \"link\": \"https://redactable-devox-stage.s3.us-east-2.amazonaws.com/tenants/41d9e109-693b-444c-aa18-e5891bc6550b/original/1a7c0e5d-3237-4ca9-9e3d-89e707245ac6/D8communications.pdf\"\n",
    "#   },\n",
    "#   {\n",
    "#     \"document_id\": \"1\",\n",
    "#     \"area\": \"[290.55386,632.0173,322.14685,645.8923]\",\n",
    "#     \"page\": \"2\",\n",
    "#     \"text_\": \"INDEX\",\n",
    "#     \"type_of_selection\": \"Text\",\n",
    "#     \"entity_type\": \"address\",\n",
    "#     \"link\": \"https://redactable-devox-stage.s3.us-east-2.amazonaws.com/tenants/41d9e109-693b-444c-aa18-e5891bc6550b/original/1a7c0e5d-3237-4ca9-9e3d-89e707245ac6/D8communications.pdf\"\n",
    "#   }\n",
    "# ]"
   ]
  },
  {
   "cell_type": "code",
   "execution_count": 7,
   "id": "3c52bc14",
   "metadata": {
    "execution": {
     "iopub.execute_input": "2022-05-20T16:48:49.480933Z",
     "iopub.status.busy": "2022-05-20T16:48:49.480315Z",
     "iopub.status.idle": "2022-05-20T16:48:49.483112Z",
     "shell.execute_reply": "2022-05-20T16:48:49.483690Z",
     "shell.execute_reply.started": "2022-04-12T13:17:19.452695Z"
    },
    "papermill": {
     "duration": 0.074148,
     "end_time": "2022-05-20T16:48:49.483849",
     "exception": false,
     "start_time": "2022-05-20T16:48:49.409701",
     "status": "completed"
    },
    "tags": []
   },
   "outputs": [],
   "source": [
    "# l=pd.DataFrame()\n",
    "# k=(1, '[290.55386,632.0173,322.14685,645.8923]', 2, 'INDEX', 'Text', 'address', 'https://redactable-devox-s')\n",
    "# k\n"
   ]
  },
  {
   "cell_type": "code",
   "execution_count": 8,
   "id": "15e35440",
   "metadata": {
    "execution": {
     "iopub.execute_input": "2022-05-20T16:48:49.623788Z",
     "iopub.status.busy": "2022-05-20T16:48:49.623108Z",
     "iopub.status.idle": "2022-05-20T16:48:49.626136Z",
     "shell.execute_reply": "2022-05-20T16:48:49.626650Z",
     "shell.execute_reply.started": "2022-04-12T16:09:33.708631Z"
    },
    "papermill": {
     "duration": 0.07456,
     "end_time": "2022-05-20T16:48:49.626821",
     "exception": false,
     "start_time": "2022-05-20T16:48:49.552261",
     "status": "completed"
    },
    "tags": []
   },
   "outputs": [],
   "source": [
    "# co=[\"document_id\",\"area\",\"page\",\"text_\",\"type_of_selection\",\"entity_type\",\"link\"]\n",
    "# val= [(1,'[72.1149,661.2966,131.95729,675.1716]',3,'Background','Text','name' ,'https://redactable-devox-stage.s3.us-east-2.am'), (1,  '[290.55386,632.0173,322.14685,645.8923]',2,'INDEX', 'Text','address','https://redactable-devox-stage.s3.us-east-2.am')]\n",
    "\n",
    "# df=pd.DataFrame(val,columns=[co])\n",
    "# #df.iloc[1] =[1,  '[290.55386,632.0173,322.14685,645.8923]',2,'INDEX', 'Text','address','https://redactable-devox-stage.s3.us-east-2.am']\n",
    "# df"
   ]
  },
  {
   "cell_type": "code",
   "execution_count": 9,
   "id": "eb60cf12",
   "metadata": {
    "execution": {
     "iopub.execute_input": "2022-05-20T16:48:49.768370Z",
     "iopub.status.busy": "2022-05-20T16:48:49.767731Z",
     "iopub.status.idle": "2022-05-20T16:48:49.770328Z",
     "shell.execute_reply": "2022-05-20T16:48:49.770787Z",
     "shell.execute_reply.started": "2022-04-12T16:18:22.595374Z"
    },
    "papermill": {
     "duration": 0.074022,
     "end_time": "2022-05-20T16:48:49.770953",
     "exception": false,
     "start_time": "2022-05-20T16:48:49.696931",
     "status": "completed"
    },
    "tags": []
   },
   "outputs": [],
   "source": [
    "# prev=[]\n",
    "# for data,row in df.iterrows():\n",
    "#     if row['document_id'] not in prev:\n",
    "#         prev.append(row['document_id'])\n",
    "#         print('hey')"
   ]
  },
  {
   "cell_type": "code",
   "execution_count": 10,
   "id": "0f18abe5",
   "metadata": {
    "execution": {
     "iopub.execute_input": "2022-05-20T16:48:49.911628Z",
     "iopub.status.busy": "2022-05-20T16:48:49.910915Z",
     "iopub.status.idle": "2022-05-20T16:48:49.915637Z",
     "shell.execute_reply": "2022-05-20T16:48:49.916145Z",
     "shell.execute_reply.started": "2022-04-12T15:03:48.248836Z"
    },
    "papermill": {
     "duration": 0.076983,
     "end_time": "2022-05-20T16:48:49.916310",
     "exception": false,
     "start_time": "2022-05-20T16:48:49.839327",
     "status": "completed"
    },
    "tags": []
   },
   "outputs": [],
   "source": [
    "# nlp = spacy.load('en_core_web_sm')\n",
    "# train_data = []\n",
    "\n",
    "# prev_doc_id = ''\n",
    "# i=0\n",
    "# temp='/kaggle/working'\n",
    "\n",
    "# for data in sql_db_json:\n",
    "#     if data['type_of_selection'] == 'Text':\n",
    "#         document_id = data['document_id']\n",
    "#         x1,y1,x2,y2 = data['area'][1:-1].split(',')\n",
    "#         url = data['link']\n",
    "#         page_no = int(data['page']) - 1 \n",
    "#         label = data['entity_type']\n",
    "#         filename = url.split('/')[-1]\n",
    "    \n",
    "#         #download the file to temp folder\n",
    "#         outpath = os.path.join(temp,filename)\n",
    "\n",
    "#         if document_id == prev_doc_id:\n",
    "#             pass\n",
    "#         else: \n",
    "#             i+=1\n",
    "#             print(i)\n",
    "#             response = requests.get(url)\n",
    "#             with open(outpath, \"wb\") as binary_file:\n",
    "#                 binary_file.write(response.content)\n",
    "\n",
    "#         doc = fitz.open(outpath)  # any supported document type\n",
    "#         page = doc[page_no]  # we want text from this page\n",
    "#         print('page dimension - ', page.rect.width, page.rect.height)\n",
    "\n",
    "#         #The co-ordinates in the DB are image co-ords. W.r.t pdf, y1 and y2 has to be interchanged.\n",
    "#         #To ensure entire word to be selected, slight correction in x1,y1,x2,y2 is done.\n",
    "\n",
    "#         rect = [float(x1)-2, 792 - float(y2)-2, float(x2)+2, 792 - float(y1)+2]\n",
    "#         print(rect)\n",
    "#         labelled_text = page.get_textbox(rect)\n",
    "\n",
    "#         #Removing all unprintable characters from the text\n",
    "#         string = re.sub('[^0-9a-zA-Z@?|\\/<>.,()&^%$#!]+', ' ', labelled_text)\n",
    "#         print('string : ', string)\n",
    "\n",
    "#         fulltext = page.get_text()\n",
    "#         doc = nlp(fulltext)\n",
    "\n",
    "#         sentences = []\n",
    "#         for sent in doc.sents:\n",
    "#             if string.strip() in sent.text:\n",
    "#                 text = re.sub('[^0-9a-zA-Z@?|\\/<>.,()&^%$#!]+', ' ', sent.text)\n",
    "\n",
    "#         res = re.search(string.strip(), text)\n",
    "\n",
    "#         entities = []\n",
    "#         entities.append((res.start(),res.end(),label))\n",
    "\n",
    "#         train_data.append((text,{'entities':entities}))\n",
    "\n",
    "# print('Training data in spacy format')\n",
    "# print('*****************************')\n",
    "# for i in range(0,len(train_data)):\n",
    "#     print(train_data[i])"
   ]
  },
  {
   "cell_type": "code",
   "execution_count": null,
   "id": "b49c9785",
   "metadata": {
    "papermill": {
     "duration": 0.068103,
     "end_time": "2022-05-20T16:48:50.053672",
     "exception": false,
     "start_time": "2022-05-20T16:48:49.985569",
     "status": "completed"
    },
    "tags": []
   },
   "outputs": [],
   "source": []
  },
  {
   "cell_type": "code",
   "execution_count": 11,
   "id": "cacd850c",
   "metadata": {
    "execution": {
     "iopub.execute_input": "2022-05-20T16:48:50.200830Z",
     "iopub.status.busy": "2022-05-20T16:48:50.200067Z",
     "iopub.status.idle": "2022-05-20T16:48:50.201570Z",
     "shell.execute_reply": "2022-05-20T16:48:50.202094Z",
     "shell.execute_reply.started": "2022-04-12T11:44:59.253637Z"
    },
    "papermill": {
     "duration": 0.078644,
     "end_time": "2022-05-20T16:48:50.202260",
     "exception": false,
     "start_time": "2022-05-20T16:48:50.123616",
     "status": "completed"
    },
    "tags": []
   },
   "outputs": [],
   "source": [
    "# nlp = spacy.load('en_core_web_sm')\n",
    "# train_data = []\n",
    "\n",
    "# prev_doc_id = ''\n",
    "# temp='/kaggle/working'\n",
    "# i=0\n",
    "# for data in sql_db_json:\n",
    "#     if data['type_of_selection'] == 'Text':\n",
    "#         document_id = data['document_id']\n",
    "#         x1,y1,x2,y2 = data['area'][1:-1].split(',')\n",
    "#         url = data['link']\n",
    "#         page_no = int(data['page']) - 1 \n",
    "#         label = data['entity_type']\n",
    "#         filename = url.split('/')[-1]\n",
    "    \n",
    "#         #download the file to temp folder\n",
    "#         i+=1\n",
    "#         print(i)\n",
    "#         response = requests.get(url)\n",
    "#         doc = fitz.open(stream=response.content,filetype=\"pdf\")  # any supported document type\n",
    "#         page = doc[page_no]  # we want text from this page\n",
    "#         print('page dimension - ', page.rect.width, page.rect.height)\n",
    "\n",
    "#         #The co-ordinates in the DB are image co-ords. W.r.t pdf, y1 and y2 has to be interchanged.\n",
    "#         #To ensure entire word to be selected, slight correction in x1,y1,x2,y2 is done.\n",
    "\n",
    "#         rect = [float(x1)-2, 792 - float(y2)-2, float(x2)+2, 792 - float(y1)+2]\n",
    "#         print(rect)\n",
    "#         labelled_text = page.get_textbox(rect)\n",
    "\n",
    "#         #Removing all unprintable characters from the text\n",
    "#         string = re.sub('[^0-9a-zA-Z@?|\\/<>.,()&^%$#!]+', ' ', labelled_text)\n",
    "#         print('string : ', string)\n",
    "\n",
    "#         fulltext = page.get_text()\n",
    "#         doc = nlp(fulltext)\n",
    "\n",
    "#         sentences = []\n",
    "#         for sent in doc.sents:\n",
    "#             if string.strip() in sent.text:\n",
    "#                 text = re.sub('[^0-9a-zA-Z@?|\\/<>.,()&^%$#!]+', ' ', sent.text)\n",
    "\n",
    "#         res = re.search(string.strip(), text)\n",
    "\n",
    "#         entities = []\n",
    "#         entities.append((res.start(),res.end(),label))\n",
    "\n",
    "#         train_data.append((text,{'entities':entities}))\n",
    "\n",
    "# print('Training data in spacy format')\n",
    "# print('*****************************')\n",
    "# for i in range(0,len(train_data)):\n",
    "#     print(train_data[i])"
   ]
  },
  {
   "cell_type": "code",
   "execution_count": 12,
   "id": "863ab2ea",
   "metadata": {
    "execution": {
     "iopub.execute_input": "2022-05-20T16:48:50.343874Z",
     "iopub.status.busy": "2022-05-20T16:48:50.341753Z",
     "iopub.status.idle": "2022-05-20T16:48:50.346778Z",
     "shell.execute_reply": "2022-05-20T16:48:50.346171Z"
    },
    "papermill": {
     "duration": 0.076104,
     "end_time": "2022-05-20T16:48:50.346914",
     "exception": false,
     "start_time": "2022-05-20T16:48:50.270810",
     "status": "completed"
    },
    "tags": []
   },
   "outputs": [],
   "source": [
    "# page dimension -  612.0 792.0\n",
    "# [70.1149, 114.82839999999999, 133.95729, 132.7034]\n",
    "# string :  Background\n",
    "# page dimension -  612.0 792.0\n",
    "# [288.55386, 144.10770000000002, 324.14685, 161.98270000000002]\n",
    "# string :  INDEX\n",
    "# Training data in spacy format\n",
    "# *****************************\n",
    "# (' 3 Background The Blue Ribbon Committee was created by the Mayor to assess various city communication methods and recommend opportunities to improve communications with residents, businesses and other organizations.', {'entities': [(3, 13, 'name')]})\n",
    "# (' 2 INDEX Background Pg. 3 Purpose Pg. 3 Process .', {'entities': [(3, 8, 'address')]})"
   ]
  },
  {
   "cell_type": "code",
   "execution_count": 13,
   "id": "8aab417b",
   "metadata": {
    "execution": {
     "iopub.execute_input": "2022-05-20T16:48:50.490228Z",
     "iopub.status.busy": "2022-05-20T16:48:50.489530Z",
     "iopub.status.idle": "2022-05-20T16:48:50.491993Z",
     "shell.execute_reply": "2022-05-20T16:48:50.491490Z",
     "shell.execute_reply.started": "2022-04-11T16:35:29.609712Z"
    },
    "papermill": {
     "duration": 0.075893,
     "end_time": "2022-05-20T16:48:50.492145",
     "exception": false,
     "start_time": "2022-05-20T16:48:50.416252",
     "status": "completed"
    },
    "tags": []
   },
   "outputs": [],
   "source": [
    "# nlp = spacy.load('en_core_web_sm')\n",
    "# outpath=r'/kaggle/input/sample-pdf/D8communications.pdf'\n",
    "# doc = fitz.open(outpath)  # any supported document type\n",
    "# page_no=3\n",
    "# page = doc[page_no-1]\n",
    "\n",
    "# x1,y1,x2,y2=(72.1149,661.2966,131.95729,675.1716)\n",
    "\n",
    "# rect = [float(x1)-2, 792 - float(y2)-2, float(x2)+2, 792 - float(y1)+2]\n",
    "# print(rect)\n",
    "# labelled_text = page.get_textbox(rect)\n",
    "# string = re.sub('[^0-9a-zA-Z@?|\\/<>.,()&^%$#!]+', ' ', labelled_text)\n",
    "# print('string : ', string)\n",
    "\n",
    "# fulltext = page.get_text()\n",
    "# doc = nlp(fulltext)\n",
    "\n",
    "# sentences = []\n",
    "# for sent in doc.sents:\n",
    "#             if string.strip() in sent.text:\n",
    "#                 text = re.sub('[^0-9a-zA-Z@?|\\/<>.,()&^%$#!]+', ' ', sent.text)\n",
    "\n",
    "#         res = re.search(string.strip(), text)\n",
    "\n",
    "#         entities = []\n",
    "#         entities.append((res.start(),res.end(),label))\n",
    "\n",
    "#         train_data.append((text,{'entities':entities}))\n",
    "\n"
   ]
  },
  {
   "cell_type": "code",
   "execution_count": 14,
   "id": "f140275c",
   "metadata": {
    "execution": {
     "iopub.execute_input": "2022-05-20T16:48:50.632141Z",
     "iopub.status.busy": "2022-05-20T16:48:50.631526Z",
     "iopub.status.idle": "2022-05-20T16:48:50.634470Z",
     "shell.execute_reply": "2022-05-20T16:48:50.635048Z",
     "shell.execute_reply.started": "2022-04-11T16:35:41.679947Z"
    },
    "papermill": {
     "duration": 0.074437,
     "end_time": "2022-05-20T16:48:50.635218",
     "exception": false,
     "start_time": "2022-05-20T16:48:50.560781",
     "status": "completed"
    },
    "tags": []
   },
   "outputs": [],
   "source": [
    "#doc"
   ]
  },
  {
   "cell_type": "code",
   "execution_count": 15,
   "id": "d520cc16",
   "metadata": {
    "execution": {
     "iopub.execute_input": "2022-05-20T16:48:50.806460Z",
     "iopub.status.busy": "2022-05-20T16:48:50.805671Z",
     "iopub.status.idle": "2022-05-20T16:48:50.815804Z",
     "shell.execute_reply": "2022-05-20T16:48:50.816590Z",
     "shell.execute_reply.started": "2022-04-11T16:35:56.010353Z"
    },
    "papermill": {
     "duration": 0.098739,
     "end_time": "2022-05-20T16:48:50.816847",
     "exception": false,
     "start_time": "2022-05-20T16:48:50.718108",
     "status": "completed"
    },
    "tags": []
   },
   "outputs": [],
   "source": [
    "# sentences = []\n",
    "# for sent in doc.sents:\n",
    "#     if string.strip() in sent.text:\n",
    "#         text = re.sub('[^0-9a-zA-Z@?|\\/<>.,()&^%$#!]+', ' ', sent.text)"
   ]
  },
  {
   "cell_type": "code",
   "execution_count": 16,
   "id": "eddb2179",
   "metadata": {
    "execution": {
     "iopub.execute_input": "2022-05-20T16:48:50.976101Z",
     "iopub.status.busy": "2022-05-20T16:48:50.975201Z",
     "iopub.status.idle": "2022-05-20T16:48:50.978916Z",
     "shell.execute_reply": "2022-05-20T16:48:50.979386Z",
     "shell.execute_reply.started": "2022-04-11T16:39:04.736143Z"
    },
    "papermill": {
     "duration": 0.090394,
     "end_time": "2022-05-20T16:48:50.979592",
     "exception": false,
     "start_time": "2022-05-20T16:48:50.889198",
     "status": "completed"
    },
    "tags": []
   },
   "outputs": [],
   "source": [
    "# k=nlp(\"he             kenny\")\n",
    "# for sent in k.sents:\n",
    "#     print(sent)"
   ]
  },
  {
   "cell_type": "code",
   "execution_count": 17,
   "id": "07e4c15b",
   "metadata": {
    "execution": {
     "iopub.execute_input": "2022-05-20T16:48:51.137235Z",
     "iopub.status.busy": "2022-05-20T16:48:51.136273Z",
     "iopub.status.idle": "2022-05-20T16:48:51.139645Z",
     "shell.execute_reply": "2022-05-20T16:48:51.140127Z",
     "shell.execute_reply.started": "2022-04-11T15:09:24.391421Z"
    },
    "papermill": {
     "duration": 0.084602,
     "end_time": "2022-05-20T16:48:51.140296",
     "exception": false,
     "start_time": "2022-05-20T16:48:51.055694",
     "status": "completed"
    },
    "tags": []
   },
   "outputs": [],
   "source": [
    "# text"
   ]
  },
  {
   "cell_type": "code",
   "execution_count": 18,
   "id": "406950be",
   "metadata": {
    "execution": {
     "iopub.execute_input": "2022-05-20T16:48:51.280921Z",
     "iopub.status.busy": "2022-05-20T16:48:51.279968Z",
     "iopub.status.idle": "2022-05-20T16:48:51.283118Z",
     "shell.execute_reply": "2022-05-20T16:48:51.283713Z",
     "shell.execute_reply.started": "2022-04-11T15:09:31.9599Z"
    },
    "papermill": {
     "duration": 0.075125,
     "end_time": "2022-05-20T16:48:51.283883",
     "exception": false,
     "start_time": "2022-05-20T16:48:51.208758",
     "status": "completed"
    },
    "tags": []
   },
   "outputs": [],
   "source": [
    "# res = re.search(string.strip(), text)\n",
    "# res"
   ]
  },
  {
   "cell_type": "code",
   "execution_count": 19,
   "id": "3482a2e6",
   "metadata": {
    "execution": {
     "iopub.execute_input": "2022-05-20T16:48:51.425183Z",
     "iopub.status.busy": "2022-05-20T16:48:51.424254Z",
     "iopub.status.idle": "2022-05-20T16:48:51.427240Z",
     "shell.execute_reply": "2022-05-20T16:48:51.427832Z",
     "shell.execute_reply.started": "2022-04-11T15:12:41.311242Z"
    },
    "papermill": {
     "duration": 0.074919,
     "end_time": "2022-05-20T16:48:51.427994",
     "exception": false,
     "start_time": "2022-05-20T16:48:51.353075",
     "status": "completed"
    },
    "tags": []
   },
   "outputs": [],
   "source": [
    "# entities = []\n",
    "# entities.append((res.start(),res.end(),'p'))"
   ]
  },
  {
   "cell_type": "code",
   "execution_count": 20,
   "id": "486eea86",
   "metadata": {
    "execution": {
     "iopub.execute_input": "2022-05-20T16:48:51.567987Z",
     "iopub.status.busy": "2022-05-20T16:48:51.566978Z",
     "iopub.status.idle": "2022-05-20T16:48:51.572373Z",
     "shell.execute_reply": "2022-05-20T16:48:51.572931Z",
     "shell.execute_reply.started": "2022-04-11T15:12:52.736619Z"
    },
    "papermill": {
     "duration": 0.076918,
     "end_time": "2022-05-20T16:48:51.573107",
     "exception": false,
     "start_time": "2022-05-20T16:48:51.496189",
     "status": "completed"
    },
    "tags": []
   },
   "outputs": [],
   "source": [
    "# entities"
   ]
  },
  {
   "cell_type": "code",
   "execution_count": 21,
   "id": "b69327e7",
   "metadata": {
    "execution": {
     "iopub.execute_input": "2022-05-20T16:48:51.715574Z",
     "iopub.status.busy": "2022-05-20T16:48:51.714544Z",
     "iopub.status.idle": "2022-05-20T16:48:51.717667Z",
     "shell.execute_reply": "2022-05-20T16:48:51.718174Z",
     "shell.execute_reply.started": "2022-04-11T15:06:11.546217Z"
    },
    "papermill": {
     "duration": 0.076557,
     "end_time": "2022-05-20T16:48:51.718341",
     "exception": false,
     "start_time": "2022-05-20T16:48:51.641784",
     "status": "completed"
    },
    "tags": []
   },
   "outputs": [],
   "source": [
    "# text"
   ]
  },
  {
   "cell_type": "code",
   "execution_count": null,
   "id": "014bca10",
   "metadata": {
    "execution": {
     "iopub.execute_input": "2022-04-11T15:02:33.300092Z",
     "iopub.status.busy": "2022-04-11T15:02:33.299778Z",
     "iopub.status.idle": "2022-04-11T15:02:33.30711Z",
     "shell.execute_reply": "2022-04-11T15:02:33.306345Z",
     "shell.execute_reply.started": "2022-04-11T15:02:33.300061Z"
    },
    "papermill": {
     "duration": 0.068755,
     "end_time": "2022-05-20T16:48:51.856785",
     "exception": false,
     "start_time": "2022-05-20T16:48:51.788030",
     "status": "completed"
    },
    "tags": []
   },
   "outputs": [],
   "source": []
  },
  {
   "cell_type": "code",
   "execution_count": 22,
   "id": "ad79d550",
   "metadata": {
    "execution": {
     "iopub.execute_input": "2022-05-20T16:48:51.998186Z",
     "iopub.status.busy": "2022-05-20T16:48:51.997170Z",
     "iopub.status.idle": "2022-05-20T16:48:52.001384Z",
     "shell.execute_reply": "2022-05-20T16:48:52.000810Z",
     "shell.execute_reply.started": "2022-04-11T16:21:02.863037Z"
    },
    "papermill": {
     "duration": 0.075795,
     "end_time": "2022-05-20T16:48:52.001572",
     "exception": false,
     "start_time": "2022-05-20T16:48:51.925777",
     "status": "completed"
    },
    "tags": []
   },
   "outputs": [],
   "source": [
    "# import spacy\n",
    "# nlp = spacy.load('en_core_web_sm')"
   ]
  },
  {
   "cell_type": "code",
   "execution_count": 23,
   "id": "8511d2ed",
   "metadata": {
    "execution": {
     "iopub.execute_input": "2022-05-20T16:48:52.143731Z",
     "iopub.status.busy": "2022-05-20T16:48:52.142403Z",
     "iopub.status.idle": "2022-05-20T16:48:52.145447Z",
     "shell.execute_reply": "2022-05-20T16:48:52.146005Z",
     "shell.execute_reply.started": "2022-04-09T12:19:47.776612Z"
    },
    "papermill": {
     "duration": 0.075325,
     "end_time": "2022-05-20T16:48:52.146182",
     "exception": false,
     "start_time": "2022-05-20T16:48:52.070857",
     "status": "completed"
    },
    "tags": []
   },
   "outputs": [],
   "source": [
    "# !pip install PyPDF2\n",
    "# import PyPDF2\n",
    "# fhandle = open(r'/kaggle/input/sample-pdf/D8communications.pdf', 'rb')\n",
    "# pdfReader = PyPDF2.PdfFileReader(fhandle)\n",
    "# pagehandle = pdfReader.getPage(4)\n",
    "# print(pagehandle.extractText())"
   ]
  },
  {
   "cell_type": "code",
   "execution_count": 24,
   "id": "c7064b19",
   "metadata": {
    "execution": {
     "iopub.execute_input": "2022-05-20T16:48:52.285747Z",
     "iopub.status.busy": "2022-05-20T16:48:52.285109Z",
     "iopub.status.idle": "2022-05-20T16:48:52.287945Z",
     "shell.execute_reply": "2022-05-20T16:48:52.288454Z",
     "shell.execute_reply.started": "2022-04-09T12:25:37.701467Z"
    },
    "papermill": {
     "duration": 0.074391,
     "end_time": "2022-05-20T16:48:52.288632",
     "exception": false,
     "start_time": "2022-05-20T16:48:52.214241",
     "status": "completed"
    },
    "tags": []
   },
   "outputs": [],
   "source": [
    "# !pip install pdfplumber\n",
    "# import pdfplumber\n",
    "# with pdfplumber.open(r'/kaggle/input/sample-pdf/D8communications.pdf') as pdf:\n",
    "#     first_page = pdf.pages[3]\n",
    "#     print(first_page.extract_text())"
   ]
  },
  {
   "cell_type": "code",
   "execution_count": 25,
   "id": "1a0a9003",
   "metadata": {
    "execution": {
     "iopub.execute_input": "2022-05-20T16:48:52.430823Z",
     "iopub.status.busy": "2022-05-20T16:48:52.429864Z",
     "iopub.status.idle": "2022-05-20T16:48:52.432305Z",
     "shell.execute_reply": "2022-05-20T16:48:52.432794Z",
     "shell.execute_reply.started": "2022-04-09T12:25:49.584635Z"
    },
    "papermill": {
     "duration": 0.075251,
     "end_time": "2022-05-20T16:48:52.432964",
     "exception": false,
     "start_time": "2022-05-20T16:48:52.357713",
     "status": "completed"
    },
    "tags": []
   },
   "outputs": [],
   "source": [
    "# !pip install pytesseract"
   ]
  },
  {
   "cell_type": "code",
   "execution_count": 26,
   "id": "e15785c4",
   "metadata": {
    "execution": {
     "iopub.execute_input": "2022-05-20T16:48:52.575280Z",
     "iopub.status.busy": "2022-05-20T16:48:52.574375Z",
     "iopub.status.idle": "2022-05-20T16:48:52.577244Z",
     "shell.execute_reply": "2022-05-20T16:48:52.576716Z",
     "shell.execute_reply.started": "2022-04-09T14:49:10.656812Z"
    },
    "papermill": {
     "duration": 0.075637,
     "end_time": "2022-05-20T16:48:52.577385",
     "exception": false,
     "start_time": "2022-05-20T16:48:52.501748",
     "status": "completed"
    },
    "tags": []
   },
   "outputs": [],
   "source": [
    "# #!pip install pdf2image\n",
    "# !pip install poppler"
   ]
  },
  {
   "cell_type": "code",
   "execution_count": 27,
   "id": "8d4849ff",
   "metadata": {
    "execution": {
     "iopub.execute_input": "2022-05-20T16:48:52.717023Z",
     "iopub.status.busy": "2022-05-20T16:48:52.716413Z",
     "iopub.status.idle": "2022-05-20T16:48:52.719047Z",
     "shell.execute_reply": "2022-05-20T16:48:52.719610Z",
     "shell.execute_reply.started": "2022-04-09T14:57:24.756677Z"
    },
    "papermill": {
     "duration": 0.07409,
     "end_time": "2022-05-20T16:48:52.719788",
     "exception": false,
     "start_time": "2022-05-20T16:48:52.645698",
     "status": "completed"
    },
    "tags": []
   },
   "outputs": [],
   "source": [
    "# pdf2image.convert_from_path('/kaggle/input/sample-pdf/D8communications.pdf')"
   ]
  },
  {
   "cell_type": "code",
   "execution_count": 28,
   "id": "04db3de4",
   "metadata": {
    "execution": {
     "iopub.execute_input": "2022-05-20T16:48:52.862337Z",
     "iopub.status.busy": "2022-05-20T16:48:52.860646Z",
     "iopub.status.idle": "2022-05-20T16:48:52.864896Z",
     "shell.execute_reply": "2022-05-20T16:48:52.864342Z",
     "shell.execute_reply.started": "2022-04-09T14:57:17.576149Z"
    },
    "papermill": {
     "duration": 0.076951,
     "end_time": "2022-05-20T16:48:52.865045",
     "exception": false,
     "start_time": "2022-05-20T16:48:52.788094",
     "status": "completed"
    },
    "tags": []
   },
   "outputs": [],
   "source": [
    "# import pdf2image\n",
    "# try:\n",
    "#     from PIL import Image\n",
    "# except ImportError:\n",
    "#     import Image\n",
    "# import pytesseract\n",
    "\n",
    "\n",
    "# def pdf_to_img(pdf_file):\n",
    "#     return pdf2image.convert_from_path(pdf_file)\n",
    "\n",
    "\n",
    "# def ocr_core(file):\n",
    "#     text = pytesseract.image_to_string(file)\n",
    "#     return text\n",
    "\n",
    "\n",
    "# def print_pages(pdf_file):\n",
    "#     images = pdf_to_img(pdf_file)\n",
    "#     for pg, img in enumerate(images):\n",
    "#         print(ocr_core(img))\n",
    "\n",
    "\n",
    "# print_pages('/kaggle/input/sample-pdf/D8communications.pdf')\n"
   ]
  },
  {
   "cell_type": "code",
   "execution_count": 29,
   "id": "bf5811c3",
   "metadata": {
    "execution": {
     "iopub.execute_input": "2022-05-20T16:48:53.010134Z",
     "iopub.status.busy": "2022-05-20T16:48:53.009376Z",
     "iopub.status.idle": "2022-05-20T16:48:53.011482Z",
     "shell.execute_reply": "2022-05-20T16:48:53.011967Z"
    },
    "papermill": {
     "duration": 0.077901,
     "end_time": "2022-05-20T16:48:53.012149",
     "exception": false,
     "start_time": "2022-05-20T16:48:52.934248",
     "status": "completed"
    },
    "tags": []
   },
   "outputs": [],
   "source": [
    "# import requests\n",
    "# import fitz\n",
    "# import io\n",
    "\n",
    "# #URL = 'https://buildmedia.readthedocs.org/media/pdf/pdfminer-docs/latest/pdfminer-docs.pdf'\n",
    "# URL = 'https://redactable-devox-stage.s3.us-east-2.amazonaws.com/tenants/41d9e109-693b-444c-aa18-e5891bc6550b/original/1a7c0e5d-3237-4ca9-9e3d-89e707245ac6/D8communications.pdf'\n",
    "\n",
    "\n",
    "# res = requests.get(URL)\n",
    "# filestream = io.BytesIO(res.content)\n",
    "# #res.content\n",
    "# filestream\n",
    "# doc = fitz.Document(stream=filestream)\n",
    "# page1 = doc.loadPage(3)\n",
    "# page1text = page1.getText(\"text\").encode(\"utf-8\").decode(\"utf-8\")\n",
    "# print(page1text)"
   ]
  },
  {
   "cell_type": "code",
   "execution_count": 30,
   "id": "b6decad3",
   "metadata": {
    "execution": {
     "iopub.execute_input": "2022-05-20T16:48:53.156433Z",
     "iopub.status.busy": "2022-05-20T16:48:53.155773Z",
     "iopub.status.idle": "2022-05-20T16:48:53.158551Z",
     "shell.execute_reply": "2022-05-20T16:48:53.159006Z",
     "shell.execute_reply.started": "2022-04-09T07:04:56.590103Z"
    },
    "papermill": {
     "duration": 0.076476,
     "end_time": "2022-05-20T16:48:53.159187",
     "exception": false,
     "start_time": "2022-05-20T16:48:53.082711",
     "status": "completed"
    },
    "tags": []
   },
   "outputs": [],
   "source": [
    "# import requests\n",
    "# import fitz\n",
    "\n",
    "# #URL = 'https://buildmedia.readthedocs.org/media/pdf/pdfminer-docs/latest/pdfminer-docs.pdf'\n",
    "# URL = 'https://redactable-devox-stage.s3.us-east-2.amazonaws.com/tenants/41d9e109-693b-444c-aa18-e5891bc6550b/original/1a7c0e5d-3237-4ca9-9e3d-89e707245ac6/D8communications.pdf'\n",
    "\n",
    "\n",
    "# res = requests.get(URL)\n",
    "# doc = fitz.open(stream=res.content,filetype=\"pdf\")\n",
    "# page1 = doc.loadPage(3)\n",
    "# page1text = page1.getText(\"text\")\n",
    "# #rect = (72.1149,661.2966,131.95729,675.1716)\n",
    "# rect=(72.10812377929688, 116.13427734375, 133.97142028808594, 146.4227294921875)\n",
    "# labelled_text = page1.get_textbox(rect)\n",
    "# print(labelled_text.strip())\n",
    "\n",
    "# fulltext = page1.get_text()\n",
    "# print(fulltext)\n",
    "# doc = nlp(fulltext)\n",
    "# sentences = []\n",
    "# for sent in doc.sents:\n",
    "#     if labelled_text in sent.text:\n",
    "#         text = sent.text\n",
    "#         print(text)\n",
    "# #print(page1text)"
   ]
  },
  {
   "cell_type": "code",
   "execution_count": 31,
   "id": "8d3834b1",
   "metadata": {
    "execution": {
     "iopub.execute_input": "2022-05-20T16:48:53.300151Z",
     "iopub.status.busy": "2022-05-20T16:48:53.299492Z",
     "iopub.status.idle": "2022-05-20T16:48:53.302366Z",
     "shell.execute_reply": "2022-05-20T16:48:53.301809Z",
     "shell.execute_reply.started": "2022-04-08T16:42:57.6659Z"
    },
    "papermill": {
     "duration": 0.074391,
     "end_time": "2022-05-20T16:48:53.302498",
     "exception": false,
     "start_time": "2022-05-20T16:48:53.228107",
     "status": "completed"
    },
    "tags": []
   },
   "outputs": [],
   "source": [
    "#res.content"
   ]
  },
  {
   "cell_type": "code",
   "execution_count": 32,
   "id": "48191c69",
   "metadata": {
    "execution": {
     "iopub.execute_input": "2022-05-20T16:48:53.445259Z",
     "iopub.status.busy": "2022-05-20T16:48:53.444630Z",
     "iopub.status.idle": "2022-05-20T16:48:53.446716Z",
     "shell.execute_reply": "2022-05-20T16:48:53.447304Z",
     "shell.execute_reply.started": "2022-04-08T16:48:05.672392Z"
    },
    "papermill": {
     "duration": 0.076133,
     "end_time": "2022-05-20T16:48:53.447467",
     "exception": false,
     "start_time": "2022-05-20T16:48:53.371334",
     "status": "completed"
    },
    "tags": []
   },
   "outputs": [],
   "source": [
    "# import fitz\n",
    "# # mem_area=\n",
    "# # doc = fitz.open(stream=mem_area, filetype=\"pdf\")\n",
    "\n",
    "# import requests\n",
    "\n",
    "# URL = 'https://redactable-devox-stage.s3.us-east-2.amazonaws.com/tenants/41d9e109-693b-444c-aa18-e5891bc6550b/original/1a7c0e5d-3237-4ca9-9e3d-89e707245ac6/D8communications.pdf'\n",
    "\n",
    "# #res = requests.get(URL)\n",
    "# doc=fitz.open(\"/kaggle/input/sample-pdf/D8communications.pdf\")\n",
    "# #doc = fitz.open(stream=res.content,filetype=\"pdf\")\n",
    "# page1 = doc.loadPage(4)\n",
    "# # page1text = page1.getText(\"text\")\n",
    "# # print(page1text)\n",
    "# blocks = page1.getText(\"blocks\")\n",
    "# blocks.sort(key=lambda block: block[1])  # sort vertically ascending\n",
    "\n",
    "# for b in blocks:\n",
    "#     print(b[4])\n"
   ]
  },
  {
   "cell_type": "code",
   "execution_count": 33,
   "id": "03eea429",
   "metadata": {
    "execution": {
     "iopub.execute_input": "2022-05-20T16:48:53.588199Z",
     "iopub.status.busy": "2022-05-20T16:48:53.587302Z",
     "iopub.status.idle": "2022-05-20T16:48:53.590804Z",
     "shell.execute_reply": "2022-05-20T16:48:53.590283Z",
     "shell.execute_reply.started": "2022-04-08T16:48:13.086323Z"
    },
    "papermill": {
     "duration": 0.074872,
     "end_time": "2022-05-20T16:48:53.590932",
     "exception": false,
     "start_time": "2022-05-20T16:48:53.516060",
     "status": "completed"
    },
    "tags": []
   },
   "outputs": [],
   "source": [
    "# # page = doc[1]\n",
    "# words = page.get_text(\"words\")\n",
    "# #print(words)\n",
    "# rect = (72.1149,661.2966,131.95729,675.1716)\n",
    "\n",
    "# labelled_text = page.get_textbox(rect)\n",
    "# # labelled_text"
   ]
  },
  {
   "cell_type": "markdown",
   "id": "c402bfbb",
   "metadata": {
    "papermill": {
     "duration": 0.067581,
     "end_time": "2022-05-20T16:48:53.727214",
     "exception": false,
     "start_time": "2022-05-20T16:48:53.659633",
     "status": "completed"
    },
    "tags": []
   },
   "source": [
    "pip install PyPDF2"
   ]
  },
  {
   "cell_type": "code",
   "execution_count": null,
   "id": "ad05a174",
   "metadata": {
    "papermill": {
     "duration": 0.067757,
     "end_time": "2022-05-20T16:48:53.863914",
     "exception": false,
     "start_time": "2022-05-20T16:48:53.796157",
     "status": "completed"
    },
    "tags": []
   },
   "outputs": [],
   "source": []
  },
  {
   "cell_type": "code",
   "execution_count": 34,
   "id": "4106b3d8",
   "metadata": {
    "execution": {
     "iopub.execute_input": "2022-05-20T16:48:54.003353Z",
     "iopub.status.busy": "2022-05-20T16:48:54.002756Z",
     "iopub.status.idle": "2022-05-20T16:48:54.005918Z",
     "shell.execute_reply": "2022-05-20T16:48:54.006436Z",
     "shell.execute_reply.started": "2022-03-18T16:48:58.370268Z"
    },
    "papermill": {
     "duration": 0.074686,
     "end_time": "2022-05-20T16:48:54.006618",
     "exception": false,
     "start_time": "2022-05-20T16:48:53.931932",
     "status": "completed"
    },
    "tags": []
   },
   "outputs": [],
   "source": [
    "# import pandas as pd\n",
    "# h={'step': 0, 'type': 'string', 'amount': 0.0, 'nameOrig': 'C1231006815', 'oldbalanceOrig': 0.0, 'newbalanceOrig': 0.0, 'nameDest': 'M1979787155', 'oldbalanceDest': 0.0, 'newbalanceDest': 0.0}\n",
    "# df=pd.DataFrame([h])"
   ]
  },
  {
   "cell_type": "code",
   "execution_count": 35,
   "id": "3708ae34",
   "metadata": {
    "execution": {
     "iopub.execute_input": "2022-05-20T16:48:54.145904Z",
     "iopub.status.busy": "2022-05-20T16:48:54.145280Z",
     "iopub.status.idle": "2022-05-20T16:48:54.148336Z",
     "shell.execute_reply": "2022-05-20T16:48:54.148991Z",
     "shell.execute_reply.started": "2022-04-09T17:21:26.021615Z"
    },
    "papermill": {
     "duration": 0.074322,
     "end_time": "2022-05-20T16:48:54.149158",
     "exception": false,
     "start_time": "2022-05-20T16:48:54.074836",
     "status": "completed"
    },
    "tags": []
   },
   "outputs": [],
   "source": [
    "#df"
   ]
  },
  {
   "cell_type": "code",
   "execution_count": null,
   "id": "4b718515",
   "metadata": {
    "papermill": {
     "duration": 0.068041,
     "end_time": "2022-05-20T16:48:54.285954",
     "exception": false,
     "start_time": "2022-05-20T16:48:54.217913",
     "status": "completed"
    },
    "tags": []
   },
   "outputs": [],
   "source": []
  }
 ],
 "metadata": {
  "kernelspec": {
   "display_name": "Python 3",
   "language": "python",
   "name": "python3"
  },
  "language_info": {
   "codemirror_mode": {
    "name": "ipython",
    "version": 3
   },
   "file_extension": ".py",
   "mimetype": "text/x-python",
   "name": "python",
   "nbconvert_exporter": "python",
   "pygments_lexer": "ipython3",
   "version": "3.7.12"
  },
  "papermill": {
   "default_parameters": {},
   "duration": 23.778103,
   "end_time": "2022-05-20T16:48:54.964358",
   "environment_variables": {},
   "exception": null,
   "input_path": "__notebook__.ipynb",
   "output_path": "__notebook__.ipynb",
   "parameters": {},
   "start_time": "2022-05-20T16:48:31.186255",
   "version": "2.3.3"
  }
 },
 "nbformat": 4,
 "nbformat_minor": 5
}
