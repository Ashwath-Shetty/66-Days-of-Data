{
 "cells": [
  {
   "cell_type": "code",
   "execution_count": 1,
   "id": "beae9071",
   "metadata": {
    "_cell_guid": "b1076dfc-b9ad-4769-8c92-a6c4dae69d19",
    "_uuid": "8f2839f25d086af736a60e9eeb907d3b93b6e0e5",
    "execution": {
     "iopub.execute_input": "2022-04-25T12:15:01.105387Z",
     "iopub.status.busy": "2022-04-25T12:15:01.103550Z",
     "iopub.status.idle": "2022-04-25T12:15:01.122880Z",
     "shell.execute_reply": "2022-04-25T12:15:01.123484Z",
     "shell.execute_reply.started": "2022-04-12T14:12:25.248687Z"
    },
    "papermill": {
     "duration": 0.092676,
     "end_time": "2022-04-25T12:15:01.123817",
     "exception": false,
     "start_time": "2022-04-25T12:15:01.031141",
     "status": "completed"
    },
    "tags": []
   },
   "outputs": [
    {
     "name": "stdout",
     "output_type": "stream",
     "text": [
      "/kaggle/input/sample-pdf/D8communications.pdf\n"
     ]
    }
   ],
   "source": [
    "# This Python 3 environment comes with many helpful analytics libraries installed\n",
    "# It is defined by the kaggle/python Docker image: https://github.com/kaggle/docker-python\n",
    "# For example, here's several helpful packages to load\n",
    "\n",
    "import numpy as np # linear algebra\n",
    "import pandas as pd # data processing, CSV file I/O (e.g. pd.read_csv)\n",
    "\n",
    "# Input data files are available in the read-only \"../input/\" directory\n",
    "# For example, running this (by clicking run or pressing Shift+Enter) will list all files under the input directory\n",
    "\n",
    "import os\n",
    "for dirname, _, filenames in os.walk('/kaggle/input'):\n",
    "    for filename in filenames:\n",
    "        print(os.path.join(dirname, filename))\n",
    "\n",
    "# You can write up to 20GB to the current directory (/kaggle/working/) that gets preserved as output when you create a version using \"Save & Run All\" \n",
    "# You can also write temporary files to /kaggle/temp/, but they won't be saved outside of the current session"
   ]
  },
  {
   "cell_type": "markdown",
   "id": "70d0c0c5",
   "metadata": {
    "papermill": {
     "duration": 0.070177,
     "end_time": "2022-04-25T12:15:01.275992",
     "exception": false,
     "start_time": "2022-04-25T12:15:01.205815",
     "status": "completed"
    },
    "tags": []
   },
   "source": [
    "# **Start Date: 12/3/2022**"
   ]
  },
  {
   "cell_type": "markdown",
   "id": "a968cd38",
   "metadata": {
    "papermill": {
     "duration": 0.06598,
     "end_time": "2022-04-25T12:15:01.406344",
     "exception": false,
     "start_time": "2022-04-25T12:15:01.340364",
     "status": "completed"
    },
    "tags": []
   },
   "source": [
    "# **Day 1:** \n",
    "<br>dataquest -> stats -> probability-> estimating probability\n",
    "1. out come is nothing but o/p of an experiment\n",
    "ex: whatever u get after rolling a dice -> it can be any number\n",
    "2. event can have more than one outcome\n",
    "- e.x: The event that we'll get an odd number when we roll a six-sided die — this event includes the outcomes 1, 3, and 5.\n",
    "- an event can be 0 as well.\n",
    "- We always assign probabilities to events, not outcomes, even if the event includes only one outcome.\n",
    "- P(E) =1/total number of possible outcomes, P(E) probability of an event happening.\n",
    "- but above formula doesn't work always, especially when there are more than one outcome\n",
    "    - P(E)=number of successful outcomes/total number of possible outcomes\n",
    "- incase of a biased situation \n",
    "  - let's say a die has 6 - 3 times which is 1,6,3,5,6,6\n",
    "    we will consider 6 as 3 times not 1.\n",
    "    possible outcome-> 1,3,5,6,6,6\n",
    "    prob(6)=3/6\n",
    "    prob(3)=1/6\n",
    "    prob(2)=0/6\n",
    "    If we didn't treat each 6 differently and said it doesn't matter which side a 6 is on, \n",
    "    <br>we'd be forced to conclude the only possible outcomes are 1, 3, 5 and 6. We can definitely         <br>frame the problem like that, but the formula above won't work anymore — we see below P(6) <br>becomes the same as P(3), but, intuitively, P(6) should be higher than P(3) since the die has 6 on     <br>three of its sides:\n"
   ]
  },
  {
   "cell_type": "markdown",
   "id": "67991a4f",
   "metadata": {
    "papermill": {
     "duration": 0.064035,
     "end_time": "2022-04-25T12:15:01.536083",
     "exception": false,
     "start_time": "2022-04-25T12:15:01.472048",
     "status": "completed"
    },
    "tags": []
   },
   "source": [
    "Estimating Probabilities Conclusion\n",
    "- emperical/ experimental probability\n",
    "  - probability achieved by experimenting / by doing the same event multiple times.\n",
    "  - Generally, for any event E (like a coin landing heads up), we can find its empirical probability   \n",
    "     by using the following formula: \n",
    "     •P (E) =number of times event E happened/ number of times we repeated the experiment   \n",
    " - Generally, the empirical probability of an event (a coin landing heads up, getting a 5 when weroll a die) approaches the true probability value as the number of trials of the randomexperiment (a coin toss, the rolling of a die) increases without bound.\n",
    "- When we calculate the probability of an event under the assumption that the outcomes have equal chances of occurring, we say that we're calculating the **theoretical probability** of an event.\n",
    "   - P(E)=number of successful outcomes/total number of possible outcomes\n",
    "\n"
   ]
  },
  {
   "cell_type": "markdown",
   "id": "ad32658f",
   "metadata": {
    "papermill": {
     "duration": 0.066916,
     "end_time": "2022-04-25T12:15:01.667443",
     "exception": false,
     "start_time": "2022-04-25T12:15:01.600527",
     "status": "completed"
    },
    "tags": []
   },
   "source": [
    "# **Day 2**\n",
    "<br>dataquest-> stats -> intro to probability -> probability rules\n",
    "<br>In probability theory, the set of all possible outcomes is called a sample space. A sample space is often denoted by the capital Greek letter Ω (read \"omega\"). This is how we represent the sample space of a die roll:\n",
    "\n",
    "Ω = {1,2,3,4,5,6}\n",
    "-    The probability of any event ranges between 0 and 1: 0≤ P(Event) ≤1\n",
    "- To calculate P(A or B), we can also use the formula below, which is sometimes called the addition rule: P(A or B) = P(A) + P(B)\n",
    "  - Sample space ={ 1,2,3,4,5,6} \n",
    "  - P(2 or 5) = 2/6\n",
    "\n",
    "- P(C or D) = P(C) + P(D) - P(C and D)\n",
    "   - e.x : Sample_space ={2,4,6} + { 4,5,6} - {4/6}\n",
    "      P( even number or number greater than 3) = ( (3/6) + (3/6) )- (2/6) = 4/6\n",
    "- Events that don't intersect are called mutually exclusive.\n",
    "  - e.x: Getting a 5 (event one) and getting a 3 (event two) when we roll a regular six-sided die — it's  impossible to get both a 5 and 3.\n",
    "- Events that intersect are called mutually non-exclusive.\n",
    "  - Getting a number greater than 2 (event one) and getting an odd number (event two) when we roll a regular six-sided die — we could get a 5, which is both greater than 2 (event one) and odd (event two).\n",
    "- unioun -> A or B, intersection -> A and B"
   ]
  },
  {
   "cell_type": "markdown",
   "id": "e95554f9",
   "metadata": {
    "papermill": {
     "duration": 0.065532,
     "end_time": "2022-04-25T12:15:01.798369",
     "exception": false,
     "start_time": "2022-04-25T12:15:01.732837",
     "status": "completed"
    },
    "tags": []
   },
   "source": [
    "# Day 3 and 4\n",
    "dataquest -> stats -> probabilities -> solving complex probabilities\n",
    "- This is the same result we got from our previous approach. In more general terms, the multiplication rule says that for two events E1 and E2, the probability that both event E1 and E2 happen can be found by multiplying the probability of E1 by the probability of E2:\n",
    "    - P(E1 ∩ E2) = P(E1) × P(E2)\n",
    "    - Events that don't influence each other's probability are called independent events. If H1 happens, P(H2) stays the same, so H1 and H2 are independent. The multiplication rule we learned only works for independent events.\n",
    "    "
   ]
  },
  {
   "cell_type": "markdown",
   "id": "97d6e713",
   "metadata": {
    "papermill": {
     "duration": 0.065626,
     "end_time": "2022-04-25T12:15:01.928792",
     "exception": false,
     "start_time": "2022-04-25T12:15:01.863166",
     "status": "completed"
    },
    "tags": []
   },
   "source": [
    "# Day 5\n",
    "- When we replace the cards after drawing, we say that we're sampling with replacement. When we don't put the cards back, we're sampling without replacement. \n"
   ]
  },
  {
   "cell_type": "markdown",
   "id": "6c7d6bc9",
   "metadata": {
    "papermill": {
     "duration": 0.068533,
     "end_time": "2022-04-25T12:15:02.064323",
     "exception": false,
     "start_time": "2022-04-25T12:15:01.995790",
     "status": "completed"
    },
    "tags": []
   },
   "source": [
    "# Day6\n",
    "dataquest-> prob and stats -> probability fundamentals -> permutation and combinations\n",
    "Generally, if we have an experiment E1 (like flipping a coin) with a outcomes, followed by an experiment E2 (like rolling a die) with b outcomes, then the total number of outcomes for the composite experiment E1E2 can be found by multiplying a with b:\n",
    "\n",
    "Number of outcomes = a * b"
   ]
  },
  {
   "cell_type": "markdown",
   "id": "8885852a",
   "metadata": {
    "papermill": {
     "duration": 0.066388,
     "end_time": "2022-04-25T12:15:02.197412",
     "exception": false,
     "start_time": "2022-04-25T12:15:02.131024",
     "status": "completed"
    },
    "tags": []
   },
   "source": [
    "# Day 7\n",
    "dataquest-> prob and stats -> probability fundamentals -> permutation and combinations <br>\n",
    "More generally, if we have an experiment E1 with a outcomes, followed by an experiment E2 with b outcomes, followed by an experiment En with z outcomes, the total number of outcomes for the composite experiment E1E2 ... En can be found by multiplying their individual outcomes:\n",
    "\n",
    "Number of outcomes= a * b * … * z"
   ]
  },
  {
   "cell_type": "markdown",
   "id": "f2351400",
   "metadata": {
    "papermill": {
     "duration": 0.064625,
     "end_time": "2022-04-25T12:15:02.329707",
     "exception": false,
     "start_time": "2022-04-25T12:15:02.265082",
     "status": "completed"
    },
    "tags": []
   },
   "source": [
    "# Day 8\n",
    "dataquest-> prob and stats -> probability fundamentals -> permutation and combinations <br>\n",
    "permutations= n*(n-1)*(n-2)*....*2*1\n"
   ]
  },
  {
   "cell_type": "markdown",
   "id": "fdeaa1a6",
   "metadata": {
    "papermill": {
     "duration": 0.066113,
     "end_time": "2022-04-25T12:15:02.462219",
     "exception": false,
     "start_time": "2022-04-25T12:15:02.396106",
     "status": "completed"
    },
    "tags": []
   },
   "source": [
    "# Day 9\n",
    "dataquest-> prob and stats -> probability fundamentals -> permutation and combinations\n",
    "- in permutation order of the individual element in the arranement matters.\n",
    "   - for e.x: 9821 is different than 9281\n",
    "   - Permutations =n!  --> sample without replacement-> we are not putting back the sampled data.\n",
    "   - On the last screen, we learned to use the formula below to calculate permutations when we're sampling without replacement and taking only k objects from a group of n objects:\n",
    "   npk=n!/(n-k)!"
   ]
  },
  {
   "cell_type": "markdown",
   "id": "c127d1be",
   "metadata": {
    "papermill": {
     "duration": 0.064118,
     "end_time": "2022-04-25T12:15:02.593162",
     "exception": false,
     "start_time": "2022-04-25T12:15:02.529044",
     "status": "completed"
    },
    "tags": []
   },
   "source": [
    "# Day 10\n",
    "dataquest-> prob and stats -> probability fundamentals -> permutation and combinations\n",
    "- More generally, if the order of the elements in an arrangement doesn't matter, the arrangement is called a combination.\n",
    "- e.x: cards in a deck \n",
    "- nCk = n! / ((n-k)!*k!)"
   ]
  },
  {
   "cell_type": "markdown",
   "id": "3ecffd62",
   "metadata": {
    "papermill": {
     "duration": 0.064107,
     "end_time": "2022-04-25T12:15:02.723496",
     "exception": false,
     "start_time": "2022-04-25T12:15:02.659389",
     "status": "completed"
    },
    "tags": []
   },
   "source": [
    "# Day 11\n",
    "dataquest-> prob and stats -> probability fundamentals -> permutation and combinations\n",
    "- solved 1 probability problem.\n"
   ]
  },
  {
   "cell_type": "markdown",
   "id": "59893689",
   "metadata": {
    "papermill": {
     "duration": 0.06451,
     "end_time": "2022-04-25T12:15:02.852427",
     "exception": false,
     "start_time": "2022-04-25T12:15:02.787917",
     "status": "completed"
    },
    "tags": []
   },
   "source": [
    "# Day 12\n",
    "dataquest-> prob and stats -> probability fundamentals -> permutation and combinations\n",
    "- finished probability and permutations by revising them.\n",
    "- If we have an experiment E1 (like flipping a coin) with a outcomes, followed by an experiment E2(like rolling a die) with b outcomes, then the total number of outcomes for the compositeexperiment E1E2 can be found by multiplying a with b (this is known as the rule of product):\n",
    "  - number of outcomes = a*b\n",
    "- If we have an experiment E1 with a outcomes, followed by an experiment E2 with b outcomes,followed by an experiment En with z outcomes, the total number of outcomes for the compositeexperiment E1E2 ... En can be found by multiplying their individual outcomes:\n",
    "   - number of outcomes = a*b* ... *z\n",
    "- There are two kinds of arrangements:\n",
    "   - •Arrangements where the order matters, which we call permutations.\n",
    "   - •Arrangements where the order doesn't matter, which we call combination\n",
    "- To find the number of permutations when we're sampling without replacement, we can use theformula:\n",
    "  - permutation = n!\n",
    "- To find the number of permutations when we're sampling without replacement and taking only kobjects from a group of n objects, we can use the formula:\n",
    "  - nPk = n!/(n-k)!\n",
    "- To find the number of combinations when we're sampling without replacement and taking only kobjects from a group of n objects, we can use the formula\n",
    "  - nCk = n! / ((n-k)!*k!)"
   ]
  },
  {
   "cell_type": "markdown",
   "id": "af59e176",
   "metadata": {
    "papermill": {
     "duration": 0.064299,
     "end_time": "2022-04-25T12:15:02.983692",
     "exception": false,
     "start_time": "2022-04-25T12:15:02.919393",
     "status": "completed"
    },
    "tags": []
   },
   "source": [
    "# Day 13\n",
    "dataquest-> prob and stats -> probability fundamentals -> conditional probabilities\n",
    "- first 2 slides -> mainly the recap of old chapter(above one).\n"
   ]
  },
  {
   "cell_type": "markdown",
   "id": "74352352",
   "metadata": {
    "papermill": {
     "duration": 0.065681,
     "end_time": "2022-04-25T12:15:03.114851",
     "exception": false,
     "start_time": "2022-04-25T12:15:03.049170",
     "status": "completed"
    },
    "tags": []
   },
   "source": [
    "# Day 14\n",
    "dataquest-> prob and stats -> probability fundamentals -> conditional probabilities\n",
    "<br>slide 4 completed\n",
    "<br>conditional probabilities\n",
    "- probabilities with condition\n",
    "- P(5)=What is the probability of getting a 5? -> normal probability\n",
    "- P(5 | odd) =What is the probability of getting a 5 given the die showed an odd number? -> conditional prob.\n",
    "\n"
   ]
  },
  {
   "cell_type": "markdown",
   "id": "2573b02c",
   "metadata": {
    "papermill": {
     "duration": 0.064184,
     "end_time": "2022-04-25T12:15:03.243646",
     "exception": false,
     "start_time": "2022-04-25T12:15:03.179462",
     "status": "completed"
    },
    "tags": []
   },
   "source": [
    "# Day 15\n",
    "dataquest-> prob and stats -> probability fundamentals -> conditional probabilities\n",
    "- on slide 5 not done yet.\n",
    "\n",
    "Say we roll a fair six-sided die and want to find the probability of getting an odd number, given the die showed a number greater than 1 after landing. Using probability notation, we want to find P(A|B) where:\n",
    "\n",
    "- A is the event that the number is odd: A = {1, 3, 5}\n",
    "- B is the event that the number is greater than 1: B = {2, 3, 4, 5, 6}\n",
    "- P(A/B)=number of succesfull outcomes / total number of outcomes.\n"
   ]
  },
  {
   "cell_type": "markdown",
   "id": "ba2a2303",
   "metadata": {
    "papermill": {
     "duration": 0.064138,
     "end_time": "2022-04-25T12:15:03.372295",
     "exception": false,
     "start_time": "2022-04-25T12:15:03.308157",
     "status": "completed"
    },
    "tags": []
   },
   "source": [
    "# Day 16 and 17\n",
    "dataquest-> prob and stats -> probability fundamentals -> conditional probabilities\n",
    "\n",
    "on slide 6 not done yet."
   ]
  },
  {
   "cell_type": "markdown",
   "id": "d1754f17",
   "metadata": {
    "papermill": {
     "duration": 0.064547,
     "end_time": "2022-04-25T12:15:03.502720",
     "exception": false,
     "start_time": "2022-04-25T12:15:03.438173",
     "status": "completed"
    },
    "tags": []
   },
   "source": [
    "# Day 18\n",
    "dataquest-> prob and stats -> probability fundamentals -> conditional probabilities\n",
    "<br>slide 5 code half done"
   ]
  },
  {
   "cell_type": "markdown",
   "id": "85d3e882",
   "metadata": {
    "papermill": {
     "duration": 0.064302,
     "end_time": "2022-04-25T12:15:03.631943",
     "exception": false,
     "start_time": "2022-04-25T12:15:03.567641",
     "status": "completed"
    },
    "tags": []
   },
   "source": [
    "# Day 19\n",
    "- The number of elements in a set is called the cardinal of the set. \n",
    "  Ω is a set, and the cardinal of \n",
    "   Ω = { 2,3,4,5,6}\n",
    "   cardinal(Ω)=5\n",
    "- P(A | B) = card(A ∩ B) / card(B)\n",
    "- Say we roll a fair six-sided die and want to find the probability of getting an odd number, given the die showed a number greater than 1 after landing. Using probability notation, we want to find P(A|B) where:\n",
    "    - A is the event that the number is odd: A = {1, 3, 5}\n",
    "     - B is the event that the number is greater than 1: B = {2, 3, 4, 5, 6}\n",
    "     - total number of possible outcomes = card({2,3,4,5,6}) =5\n",
    "     - number of successful outcomes = card({3,5})= 2\n",
    "- P(A | B) = card(A ∩ B) / card(B), we can also get the same result using P(A | B) = prob(A ∩ B) / prob(B)\n",
    "\n",
    "     "
   ]
  },
  {
   "cell_type": "markdown",
   "id": "e1c9d4d5",
   "metadata": {
    "papermill": {
     "duration": 0.063966,
     "end_time": "2022-04-25T12:15:03.761124",
     "exception": false,
     "start_time": "2022-04-25T12:15:03.697158",
     "status": "completed"
    },
    "tags": []
   },
   "source": [
    "# Day 20\n",
    "dataquest-> prob and stats -> probability fundamentals -> conditional probabilities intermediate\n",
    "<br> slide 1 and 2\n",
    "- P( A | B ) ≠ P(A ∩ B), but rather:\n",
    "   - P(A | B) = P(A ∩ B) / P(B)\n",
    "   - P(A ∩ B) = P(A | B) ⋅ P(B)\n",
    "- Given that a customer bought a laptop, they will or will not also buy a mouse. This means we can be certain that either event (M|L) or (M^C|L) will happen:\n",
    "     - P(M | L) + P(M^C | L) = 1\n",
    "\n"
   ]
  },
  {
   "cell_type": "markdown",
   "id": "ef736ed0",
   "metadata": {
    "papermill": {
     "duration": 0.063786,
     "end_time": "2022-04-25T12:15:03.889486",
     "exception": false,
     "start_time": "2022-04-25T12:15:03.825700",
     "status": "completed"
    },
    "tags": []
   },
   "source": [
    "# Day 21\n",
    "dataquest-> prob and stats -> probability fundamentals -> conditional probabilities intermediate\n",
    "slide 1 and 2\n",
    "- P(A ∩ B) = P(B ∩ A)\n",
    "- multiplication rule of probability\n",
    "  -  P(A ∩ B) = P(B) ⋅ P(A | B) \n",
    "  - P(A ∩ B) = P(A) ⋅ P(B | A)\n",
    "- if P(A) and P(B) are statistically independent then \n",
    "  - P(A ∩ B) = P(A) ⋅ P(B)\n",
    "\n"
   ]
  },
  {
   "cell_type": "markdown",
   "id": "38b6c280",
   "metadata": {
    "papermill": {
     "duration": 0.064417,
     "end_time": "2022-04-25T12:15:04.018128",
     "exception": false,
     "start_time": "2022-04-25T12:15:03.953711",
     "status": "completed"
    },
    "tags": []
   },
   "source": [
    "# Day 22\n",
    "dataquest-> prob and stats -> probability fundamentals -> conditional probabilities intermediate \n",
    "<br>slide 6\n",
    "- If events events A and B are dependent, it means the occurrence of event A changes the probability of event B and vice versa.\n",
    "   - P(A) ≠ P(A | B)\n",
    "   - P(B) ≠ P(B | A)\n",
    "   - P(A ∩ B) ≠ P(A) ⋅ P(B)\n",
    "   - formula will become P(A ∩ B) ≠ P(A) ⋅ P(B/A)\n",
    "   "
   ]
  },
  {
   "cell_type": "markdown",
   "id": "c47a236b",
   "metadata": {
    "papermill": {
     "duration": 0.064637,
     "end_time": "2022-04-25T12:15:04.148370",
     "exception": false,
     "start_time": "2022-04-25T12:15:04.083733",
     "status": "completed"
    },
    "tags": []
   },
   "source": [
    "# Day 23\n",
    "dataquest-> prob and stats -> probability fundamentals -> conditional probabilities intermediate\n",
    "<br>slide 7 to last\n",
    "- To find whether three events — A, B, C — are independent or not, below conditions must hold true -\n",
    "  - P(A ∩ B) ≠ P(A) ⋅ P(B)\n",
    "  - P(A ∩ C) ≠ P(A) ⋅ P(C)\n",
    "  - P(B ∩ C) ≠ P(B) ⋅ P(C)\n",
    "  - P(A ∩ B ∩ C) ≠ P(A) ⋅ P(B) . P(C)\n",
    "- multiplication rule for conditional probability or dependent events\n",
    " - P(A ∩ B ∩ C) = P(A) ⋅ P(B | A) ⋅ P(C | A ∩ B)\n",
    " \n",
    "\n"
   ]
  },
  {
   "cell_type": "markdown",
   "id": "a4f8c5b9",
   "metadata": {
    "papermill": {
     "duration": 0.064174,
     "end_time": "2022-04-25T12:15:04.277014",
     "exception": false,
     "start_time": "2022-04-25T12:15:04.212840",
     "status": "completed"
    },
    "tags": []
   },
   "source": [
    "# Day 24\n",
    "dataquest-> prob and stats -> probability fundamentals -> bayes theorem\n",
    "<br>slide 1\n",
    "- independent -> one event is dependent on other\n",
    "   - P(A ∩ B) = P(A) ⋅ P(B/A)\n",
    "- independent -> one event is not dependent on other.\n",
    "   - P(A ∩ B) = P(A) ⋅ P(B)\n",
    "- mutually exclusive -> both the events cannot happen at the same time.\n",
    "   - P(A ∩ B) = 0\n",
    "\n"
   ]
  },
  {
   "cell_type": "markdown",
   "id": "8b78f783",
   "metadata": {
    "papermill": {
     "duration": 0.063953,
     "end_time": "2022-04-25T12:15:04.405478",
     "exception": false,
     "start_time": "2022-04-25T12:15:04.341525",
     "status": "completed"
    },
    "tags": []
   },
   "source": [
    "# Day 25\n",
    "dataquest-> prob and stats -> probability fundamentals -> bayes theorem\n",
    "<br>slide 2\n",
    "- If two events are exhaustive, it means they make up the whole sample space Ω\n",
    "  -  P(A) = P(A ∩ B) + P(A ∩ B^c)\n",
    "     P(A) = (P(B) * P(A/B)) +  (P(B^c) * P(A/B^c))\n",
    "     \n",
    "     "
   ]
  },
  {
   "cell_type": "markdown",
   "id": "d330274e",
   "metadata": {
    "papermill": {
     "duration": 0.066191,
     "end_time": "2022-04-25T12:15:04.537596",
     "exception": false,
     "start_time": "2022-04-25T12:15:04.471405",
     "status": "completed"
    },
    "tags": []
   },
   "source": [
    "# Day 26\n",
    "dataquest-> prob and stats -> probability fundamentals -> bayes theorem\n",
    "<br>slide 3 - last\n",
    "- the law of total probability\n",
    "  - P(A)  = (P(B1) * P(A/B1)) + (P(B2) * P(A/B2))+ ... + (P(Bn) * P(A/Bn)))\n",
    "  - P(A) =(summattion i=1 to n) P(Bi) ⋅ P(A|Bi)\n",
    "- Baye's theorem\n",
    "  - P(B | A) = (P(B) ⋅ P(A | B)) / (n ∑i=1 P(Bi) ⋅ P(A | Bi))\n",
    "- The probability of being infected with HIV before doing any test is called the prior probability (\"prior\" means \"before\"). The probability of being infected with HIV after testing positive is called the posterior probability (\"posterior\" means \"after\").\n",
    "\n",
    "\n",
    "  "
   ]
  },
  {
   "cell_type": "markdown",
   "id": "cf8db9b6",
   "metadata": {
    "papermill": {
     "duration": 0.065658,
     "end_time": "2022-04-25T12:15:04.667852",
     "exception": false,
     "start_time": "2022-04-25T12:15:04.602194",
     "status": "completed"
    },
    "tags": []
   },
   "source": [
    "# Day 27\n",
    "dataquest-> prob and stats -> probability fundamentals -> naive bayes theorem\n",
    "<br>slide 1 - \n",
    "P(Spam|w1,w2,w3,w4)∝P(Spam)⋅P(w1|Spam)⋅P(w2|Spam)⋅P(w3|Spam)⋅P(w4|Spam)P(SpamC|w1,w2,w3,w4)∝P(SpamC)⋅P(w1|SpamC)⋅P(w2|SpamC)⋅P(w3|SpamC)⋅P(w4|SpamC)"
   ]
  },
  {
   "cell_type": "markdown",
   "id": "3c66d2e6",
   "metadata": {
    "papermill": {
     "duration": 0.064891,
     "end_time": "2022-04-25T12:15:04.797945",
     "exception": false,
     "start_time": "2022-04-25T12:15:04.733054",
     "status": "completed"
    },
    "tags": []
   },
   "source": [
    "# Day 28\n",
    "dataquest-> prob and stats -> probability fundamentals -> naive bayes theorem\n",
    "<br>finished.\n",
    "<br>**Summary**\n",
    "- P(Spam|w1,w2,...,wn)∝P(Spam)⋅n∏i=1P(wi|Spam)\n",
    "- P(SpamC|w1,w2,...,wn)∝P(SpamC)⋅n∏i=1P(wi|SpamC)\n",
    "- To calculate P(wi|Spam) and P(wi|SpamC), we need to use the additive smoothing technique: \n",
    "- P ( w i | S p a m ) = (N w i | S p a m + α) / ( N S p a m + α ⋅ N V o c a b u l a r y )\n",
    "- P ( w i | S p a m C ) = (N w i | S p a m C + α) / ( N S p a m C + α ⋅ N V o c a b u l a r y )\n",
    "     - N w i | S p a m = the number of times the word w i occurs in spam messages \n",
    "     - N w i | S p a m C = the number of times the word w i occurs in non-spam messages \n",
    "     - N S p a m = total number of words in spam messages \n",
    "     - N S p a m C = total number of words in non-spam messages \n",
    "     - N V o c a b u l a r y = total number of words in the vocabulary \n",
    "     - α = 1 ( α is a smoothing parameter )\n",
    " - naive bayes theorem assumes that events are not dependent.\n",
    " - The assumption of conditional independence between words is thus naive since it rarely holds in practice, and this is why the algorithm is called Naive Bayes (also called simple Bayes or independence Bayes)."
   ]
  },
  {
   "cell_type": "markdown",
   "id": "cb5e1aa2",
   "metadata": {
    "papermill": {
     "duration": 0.064212,
     "end_time": "2022-04-25T12:15:04.927317",
     "exception": false,
     "start_time": "2022-04-25T12:15:04.863105",
     "status": "completed"
    },
    "tags": []
   },
   "source": [
    "# Day 29,30,31\n",
    "<br>dataquest-> prob and stats -> probability fundamentals -> conditional probability-> guided projects\n",
    "<br> in progress"
   ]
  },
  {
   "cell_type": "markdown",
   "id": "30482603",
   "metadata": {
    "papermill": {
     "duration": 0.065047,
     "end_time": "2022-04-25T12:15:05.056886",
     "exception": false,
     "start_time": "2022-04-25T12:15:04.991839",
     "status": "completed"
    },
    "tags": []
   },
   "source": [
    "# Day 32 and 33\n",
    "<br>dataquest-> prob and stats -> probability fundamentals -> guided projects\n",
    "<br> done"
   ]
  },
  {
   "cell_type": "markdown",
   "id": "fd0ed33f",
   "metadata": {
    "papermill": {
     "duration": 0.064284,
     "end_time": "2022-04-25T12:15:05.185859",
     "exception": false,
     "start_time": "2022-04-25T12:15:05.121575",
     "status": "completed"
    },
    "tags": []
   },
   "source": [
    "# Day 34\n",
    "<br>dataquest-> prob and stats -> probability fundamentals -> guided projects-> lottery prediction\n",
    "<br> done"
   ]
  },
  {
   "cell_type": "markdown",
   "id": "7bf7154a",
   "metadata": {
    "papermill": {
     "duration": 0.064415,
     "end_time": "2022-04-25T12:15:05.316033",
     "exception": false,
     "start_time": "2022-04-25T12:15:05.251618",
     "status": "completed"
    },
    "tags": []
   },
   "source": [
    "# Day 35\n",
    "<br>dataquest-> prob and stats -> hypothesis testing fundamentals -> significance testing\n",
    "<br> till slide 4\n",
    "- null hypothesis\n",
    "- alternate hypothesis\n"
   ]
  },
  {
   "cell_type": "markdown",
   "id": "702419d4",
   "metadata": {
    "papermill": {
     "duration": 0.063919,
     "end_time": "2022-04-25T12:15:05.445098",
     "exception": false,
     "start_time": "2022-04-25T12:15:05.381179",
     "status": "completed"
    },
    "tags": []
   },
   "source": [
    "# Day 36 and 37\n",
    "<br>dataquest-> prob and stats -> hypothesis testing fundamentals -> significance testing\n",
    "- The permutation test is a statistical test that involves rerunning the study many times and recalculating the test statistic for each iteration. The goal is to calculate a distribution of the test statistics over these many iterations. This distribution is called the sampling distribution and it approximates the full range of possible test statistics under the null hypothesis\n",
    "\n"
   ]
  },
  {
   "cell_type": "markdown",
   "id": "db9b4b1c",
   "metadata": {
    "papermill": {
     "duration": 0.064134,
     "end_time": "2022-04-25T12:15:05.575664",
     "exception": false,
     "start_time": "2022-04-25T12:15:05.511530",
     "status": "completed"
    },
    "tags": []
   },
   "source": [
    "# Day 38\n",
    "<br>dataquest-> prob and stats -> hypothesis testing fundamentals -> significance testing\n",
    "<br>in progress."
   ]
  },
  {
   "cell_type": "markdown",
   "id": "e80c0839",
   "metadata": {
    "papermill": {
     "duration": 0.066946,
     "end_time": "2022-04-25T12:15:05.707406",
     "exception": false,
     "start_time": "2022-04-25T12:15:05.640460",
     "status": "completed"
    },
    "tags": []
   },
   "source": [
    "# Day 39\n",
    "<br>dataquest-> prob and stats -> hypothesis testing fundamentals -> significance testing\n",
    "<br>slide 5-6"
   ]
  },
  {
   "cell_type": "markdown",
   "id": "8e33dc07",
   "metadata": {
    "papermill": {
     "duration": 0.064392,
     "end_time": "2022-04-25T12:15:05.837563",
     "exception": false,
     "start_time": "2022-04-25T12:15:05.773171",
     "status": "completed"
    },
    "tags": []
   },
   "source": [
    "# Day 40\n",
    "<br>dataquest-> prob and stats -> hypothesis testing fundamentals -> significance testing\n",
    "<br>slide 7"
   ]
  },
  {
   "cell_type": "markdown",
   "id": "23ebc3c8",
   "metadata": {
    "papermill": {
     "duration": 0.063858,
     "end_time": "2022-04-25T12:15:05.965786",
     "exception": false,
     "start_time": "2022-04-25T12:15:05.901928",
     "status": "completed"
    },
    "tags": []
   },
   "source": [
    "# Day 41 and 42\n",
    "<br>dataquest-> prob and stats -> hypothesis testing fundamentals -> significance testing\n",
    "<br>slide 7 done and 8(p-value) strated"
   ]
  },
  {
   "cell_type": "markdown",
   "id": "1b594943",
   "metadata": {
    "papermill": {
     "duration": 0.063891,
     "end_time": "2022-04-25T12:15:06.094459",
     "exception": false,
     "start_time": "2022-04-25T12:15:06.030568",
     "status": "completed"
    },
    "tags": []
   },
   "source": [
    "# Day 43\n",
    "<br>dataquest-> prob and stats -> hypothesis testing fundamentals -> significance testing\n",
    "<br>\n",
    "- The first step is to decide a test statistic, which is a numerical value that summarizes the data and one we can use in statistical formulas. The test statistic runs a statistical test that determines whether the difference between the groups was due to random chance.\n",
    "  - e.x: mean \n",
    "- The permutation test is a statistical test that involves rerunning the study many times and recalculating the test statistic for each iteration.\n",
    "   - The goal is to calculate a distribution of the test statistics over these many iterations. This distribution is called the sampling distribution and it approximates the full range of possible test statistics under the null hypothesis.\n",
    "- If the p value is less than the threshold, we:\n",
    "    - reject the null hypothesis that there's no difference in the mean amount of weight lost by participants in both groups; and\n",
    "    - conclude that there is some evidence that the weight loss pill does affect the amount of weight people lost.\n",
    "\n",
    "- If the p value is greater than the threshold, we:\n",
    "    - fail to reject the null hypothesis that there's no difference in the mean amount of weight lost by participants in both groups,\n",
    "    - conclude that the weight loss pill doesn't seem to be effective in helping people lose weight.\n",
    "- usually used p-value threshold is 0.05\n",
    "- The p value threshold you set can also affect the conclusion you reach.\n",
    "    - If you set too high of a p value threshold, you may reject the null hypothesis incorrectly. This is known as a type I error.\n",
    "    - If you set too low of a p value threshold, you may fail to reject the null hypothesis incorrectly. This is known as a type II error."
   ]
  },
  {
   "cell_type": "markdown",
   "id": "74d85279",
   "metadata": {
    "papermill": {
     "duration": 0.064306,
     "end_time": "2022-04-25T12:15:06.224324",
     "exception": false,
     "start_time": "2022-04-25T12:15:06.160018",
     "status": "completed"
    },
    "tags": []
   },
   "source": [
    "# Day 44\n",
    "<br>dataquest-> prob and stats -> hypothesis testing fundamentals -> significance testing-> chi squared test\n",
    "<br>1- 4\n",
    "- chi squared test is used for numerical values"
   ]
  },
  {
   "cell_type": "markdown",
   "id": "99e22464",
   "metadata": {
    "papermill": {
     "duration": 0.064106,
     "end_time": "2022-04-25T12:15:06.353003",
     "exception": false,
     "start_time": "2022-04-25T12:15:06.288897",
     "status": "completed"
    },
    "tags": []
   },
   "source": [
    "# Day 45\n",
    "<br>dataquest-> prob and stats -> hypothesis testing fundamentals -> significance testing-> chi squared test\n",
    "<br>4- 6"
   ]
  },
  {
   "cell_type": "markdown",
   "id": "94d4c07f",
   "metadata": {
    "papermill": {
     "duration": 0.06395,
     "end_time": "2022-04-25T12:15:06.481573",
     "exception": false,
     "start_time": "2022-04-25T12:15:06.417623",
     "status": "completed"
    },
    "tags": []
   },
   "source": []
  },
  {
   "cell_type": "code",
   "execution_count": null,
   "id": "80c4c059",
   "metadata": {
    "papermill": {
     "duration": 0.06415,
     "end_time": "2022-04-25T12:15:06.610345",
     "exception": false,
     "start_time": "2022-04-25T12:15:06.546195",
     "status": "completed"
    },
    "tags": []
   },
   "outputs": [],
   "source": []
  },
  {
   "cell_type": "code",
   "execution_count": 2,
   "id": "9f7fee49",
   "metadata": {
    "execution": {
     "iopub.execute_input": "2022-04-25T12:15:06.743707Z",
     "iopub.status.busy": "2022-04-25T12:15:06.743088Z",
     "iopub.status.idle": "2022-04-25T12:15:06.746294Z",
     "shell.execute_reply": "2022-04-25T12:15:06.746904Z",
     "shell.execute_reply.started": "2022-04-12T14:17:49.333113Z"
    },
    "papermill": {
     "duration": 0.07203,
     "end_time": "2022-04-25T12:15:06.747062",
     "exception": false,
     "start_time": "2022-04-25T12:15:06.675032",
     "status": "completed"
    },
    "tags": []
   },
   "outputs": [],
   "source": [
    "# !pip install PyMuPDF"
   ]
  },
  {
   "cell_type": "code",
   "execution_count": 3,
   "id": "4cf109a5",
   "metadata": {
    "execution": {
     "iopub.execute_input": "2022-04-25T12:15:06.880307Z",
     "iopub.status.busy": "2022-04-25T12:15:06.879652Z",
     "iopub.status.idle": "2022-04-25T12:15:06.882520Z",
     "shell.execute_reply": "2022-04-25T12:15:06.883064Z",
     "shell.execute_reply.started": "2022-04-12T14:19:20.437905Z"
    },
    "papermill": {
     "duration": 0.070905,
     "end_time": "2022-04-25T12:15:06.883233",
     "exception": false,
     "start_time": "2022-04-25T12:15:06.812328",
     "status": "completed"
    },
    "tags": []
   },
   "outputs": [],
   "source": [
    " \n",
    "# fitz.__version__"
   ]
  },
  {
   "cell_type": "code",
   "execution_count": 4,
   "id": "0f6d24f1",
   "metadata": {
    "execution": {
     "iopub.execute_input": "2022-04-25T12:15:07.017756Z",
     "iopub.status.busy": "2022-04-25T12:15:07.017042Z",
     "iopub.status.idle": "2022-04-25T12:15:07.019840Z",
     "shell.execute_reply": "2022-04-25T12:15:07.020352Z",
     "shell.execute_reply.started": "2022-04-12T14:23:59.687259Z"
    },
    "papermill": {
     "duration": 0.071505,
     "end_time": "2022-04-25T12:15:07.020535",
     "exception": false,
     "start_time": "2022-04-25T12:15:06.949030",
     "status": "completed"
    },
    "tags": []
   },
   "outputs": [],
   "source": [
    "# !python -m spacy download en_core_web_sm"
   ]
  },
  {
   "cell_type": "code",
   "execution_count": null,
   "id": "93cfb319",
   "metadata": {
    "papermill": {
     "duration": 0.064525,
     "end_time": "2022-04-25T12:15:07.149927",
     "exception": false,
     "start_time": "2022-04-25T12:15:07.085402",
     "status": "completed"
    },
    "tags": []
   },
   "outputs": [],
   "source": []
  },
  {
   "cell_type": "code",
   "execution_count": 5,
   "id": "ca0d4c5e",
   "metadata": {
    "execution": {
     "iopub.execute_input": "2022-04-25T12:15:07.282836Z",
     "iopub.status.busy": "2022-04-25T12:15:07.282216Z",
     "iopub.status.idle": "2022-04-25T12:15:07.284923Z",
     "shell.execute_reply": "2022-04-25T12:15:07.285487Z",
     "shell.execute_reply.started": "2022-04-12T14:18:25.912243Z"
    },
    "papermill": {
     "duration": 0.070926,
     "end_time": "2022-04-25T12:15:07.285675",
     "exception": false,
     "start_time": "2022-04-25T12:15:07.214749",
     "status": "completed"
    },
    "tags": []
   },
   "outputs": [],
   "source": [
    "# import fitz\n",
    "# import spacy\n",
    "# import re\n",
    "# from pathlib import Path\n",
    "# import requests\n",
    "# import os"
   ]
  },
  {
   "cell_type": "code",
   "execution_count": 6,
   "id": "c417bf23",
   "metadata": {
    "execution": {
     "iopub.execute_input": "2022-04-25T12:15:07.418107Z",
     "iopub.status.busy": "2022-04-25T12:15:07.417437Z",
     "iopub.status.idle": "2022-04-25T12:15:07.421033Z",
     "shell.execute_reply": "2022-04-25T12:15:07.421598Z",
     "shell.execute_reply.started": "2022-04-12T15:03:43.5897Z"
    },
    "papermill": {
     "duration": 0.071627,
     "end_time": "2022-04-25T12:15:07.421776",
     "exception": false,
     "start_time": "2022-04-25T12:15:07.350149",
     "status": "completed"
    },
    "tags": []
   },
   "outputs": [],
   "source": [
    "# sql_db_json = [\n",
    "#   {\n",
    "#     \"document_id\": \"1\",\n",
    "#     \"area\": \"[72.1149,661.2966,131.95729,675.1716]\",\n",
    "#     \"page\": \"3\",\n",
    "#     \"text_\": \"Background\",\n",
    "#     \"type_of_selection\": \"Text\",\n",
    "#     \"entity_type\": \"name\",\n",
    "#     \"link\": \"https://redactable-devox-stage.s3.us-east-2.amazonaws.com/tenants/41d9e109-693b-444c-aa18-e5891bc6550b/original/1a7c0e5d-3237-4ca9-9e3d-89e707245ac6/D8communications.pdf\"\n",
    "#   },\n",
    "#   {\n",
    "#     \"document_id\": \"1\",\n",
    "#     \"area\": \"[290.55386,632.0173,322.14685,645.8923]\",\n",
    "#     \"page\": \"2\",\n",
    "#     \"text_\": \"INDEX\",\n",
    "#     \"type_of_selection\": \"Text\",\n",
    "#     \"entity_type\": \"address\",\n",
    "#     \"link\": \"https://redactable-devox-stage.s3.us-east-2.amazonaws.com/tenants/41d9e109-693b-444c-aa18-e5891bc6550b/original/1a7c0e5d-3237-4ca9-9e3d-89e707245ac6/D8communications.pdf\"\n",
    "#   }\n",
    "# ]"
   ]
  },
  {
   "cell_type": "code",
   "execution_count": 7,
   "id": "3da060d1",
   "metadata": {
    "execution": {
     "iopub.execute_input": "2022-04-25T12:15:07.555045Z",
     "iopub.status.busy": "2022-04-25T12:15:07.554337Z",
     "iopub.status.idle": "2022-04-25T12:15:07.557224Z",
     "shell.execute_reply": "2022-04-25T12:15:07.557840Z",
     "shell.execute_reply.started": "2022-04-12T13:17:19.452695Z"
    },
    "papermill": {
     "duration": 0.071008,
     "end_time": "2022-04-25T12:15:07.558012",
     "exception": false,
     "start_time": "2022-04-25T12:15:07.487004",
     "status": "completed"
    },
    "tags": []
   },
   "outputs": [],
   "source": [
    "# l=pd.DataFrame()\n",
    "# k=(1, '[290.55386,632.0173,322.14685,645.8923]', 2, 'INDEX', 'Text', 'address', 'https://redactable-devox-s')\n",
    "# k\n"
   ]
  },
  {
   "cell_type": "code",
   "execution_count": 8,
   "id": "bafed6d1",
   "metadata": {
    "execution": {
     "iopub.execute_input": "2022-04-25T12:15:07.693167Z",
     "iopub.status.busy": "2022-04-25T12:15:07.692123Z",
     "iopub.status.idle": "2022-04-25T12:15:07.695218Z",
     "shell.execute_reply": "2022-04-25T12:15:07.694710Z",
     "shell.execute_reply.started": "2022-04-12T16:09:33.708631Z"
    },
    "papermill": {
     "duration": 0.072667,
     "end_time": "2022-04-25T12:15:07.695369",
     "exception": false,
     "start_time": "2022-04-25T12:15:07.622702",
     "status": "completed"
    },
    "tags": []
   },
   "outputs": [],
   "source": [
    "# co=[\"document_id\",\"area\",\"page\",\"text_\",\"type_of_selection\",\"entity_type\",\"link\"]\n",
    "# val= [(1,'[72.1149,661.2966,131.95729,675.1716]',3,'Background','Text','name' ,'https://redactable-devox-stage.s3.us-east-2.am'), (1,  '[290.55386,632.0173,322.14685,645.8923]',2,'INDEX', 'Text','address','https://redactable-devox-stage.s3.us-east-2.am')]\n",
    "\n",
    "# df=pd.DataFrame(val,columns=[co])\n",
    "# #df.iloc[1] =[1,  '[290.55386,632.0173,322.14685,645.8923]',2,'INDEX', 'Text','address','https://redactable-devox-stage.s3.us-east-2.am']\n",
    "# df"
   ]
  },
  {
   "cell_type": "code",
   "execution_count": 9,
   "id": "b7d62652",
   "metadata": {
    "execution": {
     "iopub.execute_input": "2022-04-25T12:15:07.834057Z",
     "iopub.status.busy": "2022-04-25T12:15:07.833383Z",
     "iopub.status.idle": "2022-04-25T12:15:07.835027Z",
     "shell.execute_reply": "2022-04-25T12:15:07.835460Z",
     "shell.execute_reply.started": "2022-04-12T16:18:22.595374Z"
    },
    "papermill": {
     "duration": 0.073669,
     "end_time": "2022-04-25T12:15:07.835645",
     "exception": false,
     "start_time": "2022-04-25T12:15:07.761976",
     "status": "completed"
    },
    "tags": []
   },
   "outputs": [],
   "source": [
    "# prev=[]\n",
    "# for data,row in df.iterrows():\n",
    "#     if row['document_id'] not in prev:\n",
    "#         prev.append(row['document_id'])\n",
    "#         print('hey')"
   ]
  },
  {
   "cell_type": "code",
   "execution_count": 10,
   "id": "c6194c0e",
   "metadata": {
    "execution": {
     "iopub.execute_input": "2022-04-25T12:15:07.969990Z",
     "iopub.status.busy": "2022-04-25T12:15:07.969278Z",
     "iopub.status.idle": "2022-04-25T12:15:07.974234Z",
     "shell.execute_reply": "2022-04-25T12:15:07.974729Z",
     "shell.execute_reply.started": "2022-04-12T15:03:48.248836Z"
    },
    "papermill": {
     "duration": 0.073725,
     "end_time": "2022-04-25T12:15:07.974902",
     "exception": false,
     "start_time": "2022-04-25T12:15:07.901177",
     "status": "completed"
    },
    "tags": []
   },
   "outputs": [],
   "source": [
    "# nlp = spacy.load('en_core_web_sm')\n",
    "# train_data = []\n",
    "\n",
    "# prev_doc_id = ''\n",
    "# i=0\n",
    "# temp='/kaggle/working'\n",
    "\n",
    "# for data in sql_db_json:\n",
    "#     if data['type_of_selection'] == 'Text':\n",
    "#         document_id = data['document_id']\n",
    "#         x1,y1,x2,y2 = data['area'][1:-1].split(',')\n",
    "#         url = data['link']\n",
    "#         page_no = int(data['page']) - 1 \n",
    "#         label = data['entity_type']\n",
    "#         filename = url.split('/')[-1]\n",
    "    \n",
    "#         #download the file to temp folder\n",
    "#         outpath = os.path.join(temp,filename)\n",
    "\n",
    "#         if document_id == prev_doc_id:\n",
    "#             pass\n",
    "#         else: \n",
    "#             i+=1\n",
    "#             print(i)\n",
    "#             response = requests.get(url)\n",
    "#             with open(outpath, \"wb\") as binary_file:\n",
    "#                 binary_file.write(response.content)\n",
    "\n",
    "#         doc = fitz.open(outpath)  # any supported document type\n",
    "#         page = doc[page_no]  # we want text from this page\n",
    "#         print('page dimension - ', page.rect.width, page.rect.height)\n",
    "\n",
    "#         #The co-ordinates in the DB are image co-ords. W.r.t pdf, y1 and y2 has to be interchanged.\n",
    "#         #To ensure entire word to be selected, slight correction in x1,y1,x2,y2 is done.\n",
    "\n",
    "#         rect = [float(x1)-2, 792 - float(y2)-2, float(x2)+2, 792 - float(y1)+2]\n",
    "#         print(rect)\n",
    "#         labelled_text = page.get_textbox(rect)\n",
    "\n",
    "#         #Removing all unprintable characters from the text\n",
    "#         string = re.sub('[^0-9a-zA-Z@?|\\/<>.,()&^%$#!]+', ' ', labelled_text)\n",
    "#         print('string : ', string)\n",
    "\n",
    "#         fulltext = page.get_text()\n",
    "#         doc = nlp(fulltext)\n",
    "\n",
    "#         sentences = []\n",
    "#         for sent in doc.sents:\n",
    "#             if string.strip() in sent.text:\n",
    "#                 text = re.sub('[^0-9a-zA-Z@?|\\/<>.,()&^%$#!]+', ' ', sent.text)\n",
    "\n",
    "#         res = re.search(string.strip(), text)\n",
    "\n",
    "#         entities = []\n",
    "#         entities.append((res.start(),res.end(),label))\n",
    "\n",
    "#         train_data.append((text,{'entities':entities}))\n",
    "\n",
    "# print('Training data in spacy format')\n",
    "# print('*****************************')\n",
    "# for i in range(0,len(train_data)):\n",
    "#     print(train_data[i])"
   ]
  },
  {
   "cell_type": "code",
   "execution_count": null,
   "id": "cd8ea685",
   "metadata": {
    "papermill": {
     "duration": 0.065027,
     "end_time": "2022-04-25T12:15:08.106045",
     "exception": false,
     "start_time": "2022-04-25T12:15:08.041018",
     "status": "completed"
    },
    "tags": []
   },
   "outputs": [],
   "source": []
  },
  {
   "cell_type": "code",
   "execution_count": 11,
   "id": "aa7380bf",
   "metadata": {
    "execution": {
     "iopub.execute_input": "2022-04-25T12:15:08.239721Z",
     "iopub.status.busy": "2022-04-25T12:15:08.239012Z",
     "iopub.status.idle": "2022-04-25T12:15:08.243681Z",
     "shell.execute_reply": "2022-04-25T12:15:08.244170Z",
     "shell.execute_reply.started": "2022-04-12T11:44:59.253637Z"
    },
    "papermill": {
     "duration": 0.073421,
     "end_time": "2022-04-25T12:15:08.244349",
     "exception": false,
     "start_time": "2022-04-25T12:15:08.170928",
     "status": "completed"
    },
    "tags": []
   },
   "outputs": [],
   "source": [
    "# nlp = spacy.load('en_core_web_sm')\n",
    "# train_data = []\n",
    "\n",
    "# prev_doc_id = ''\n",
    "# temp='/kaggle/working'\n",
    "# i=0\n",
    "# for data in sql_db_json:\n",
    "#     if data['type_of_selection'] == 'Text':\n",
    "#         document_id = data['document_id']\n",
    "#         x1,y1,x2,y2 = data['area'][1:-1].split(',')\n",
    "#         url = data['link']\n",
    "#         page_no = int(data['page']) - 1 \n",
    "#         label = data['entity_type']\n",
    "#         filename = url.split('/')[-1]\n",
    "    \n",
    "#         #download the file to temp folder\n",
    "#         i+=1\n",
    "#         print(i)\n",
    "#         response = requests.get(url)\n",
    "#         doc = fitz.open(stream=response.content,filetype=\"pdf\")  # any supported document type\n",
    "#         page = doc[page_no]  # we want text from this page\n",
    "#         print('page dimension - ', page.rect.width, page.rect.height)\n",
    "\n",
    "#         #The co-ordinates in the DB are image co-ords. W.r.t pdf, y1 and y2 has to be interchanged.\n",
    "#         #To ensure entire word to be selected, slight correction in x1,y1,x2,y2 is done.\n",
    "\n",
    "#         rect = [float(x1)-2, 792 - float(y2)-2, float(x2)+2, 792 - float(y1)+2]\n",
    "#         print(rect)\n",
    "#         labelled_text = page.get_textbox(rect)\n",
    "\n",
    "#         #Removing all unprintable characters from the text\n",
    "#         string = re.sub('[^0-9a-zA-Z@?|\\/<>.,()&^%$#!]+', ' ', labelled_text)\n",
    "#         print('string : ', string)\n",
    "\n",
    "#         fulltext = page.get_text()\n",
    "#         doc = nlp(fulltext)\n",
    "\n",
    "#         sentences = []\n",
    "#         for sent in doc.sents:\n",
    "#             if string.strip() in sent.text:\n",
    "#                 text = re.sub('[^0-9a-zA-Z@?|\\/<>.,()&^%$#!]+', ' ', sent.text)\n",
    "\n",
    "#         res = re.search(string.strip(), text)\n",
    "\n",
    "#         entities = []\n",
    "#         entities.append((res.start(),res.end(),label))\n",
    "\n",
    "#         train_data.append((text,{'entities':entities}))\n",
    "\n",
    "# print('Training data in spacy format')\n",
    "# print('*****************************')\n",
    "# for i in range(0,len(train_data)):\n",
    "#     print(train_data[i])"
   ]
  },
  {
   "cell_type": "code",
   "execution_count": 12,
   "id": "a62b0f85",
   "metadata": {
    "execution": {
     "iopub.execute_input": "2022-04-25T12:15:08.377883Z",
     "iopub.status.busy": "2022-04-25T12:15:08.377231Z",
     "iopub.status.idle": "2022-04-25T12:15:08.380279Z",
     "shell.execute_reply": "2022-04-25T12:15:08.380766Z"
    },
    "papermill": {
     "duration": 0.070665,
     "end_time": "2022-04-25T12:15:08.380937",
     "exception": false,
     "start_time": "2022-04-25T12:15:08.310272",
     "status": "completed"
    },
    "tags": []
   },
   "outputs": [],
   "source": [
    "# page dimension -  612.0 792.0\n",
    "# [70.1149, 114.82839999999999, 133.95729, 132.7034]\n",
    "# string :  Background\n",
    "# page dimension -  612.0 792.0\n",
    "# [288.55386, 144.10770000000002, 324.14685, 161.98270000000002]\n",
    "# string :  INDEX\n",
    "# Training data in spacy format\n",
    "# *****************************\n",
    "# (' 3 Background The Blue Ribbon Committee was created by the Mayor to assess various city communication methods and recommend opportunities to improve communications with residents, businesses and other organizations.', {'entities': [(3, 13, 'name')]})\n",
    "# (' 2 INDEX Background Pg. 3 Purpose Pg. 3 Process .', {'entities': [(3, 8, 'address')]})"
   ]
  },
  {
   "cell_type": "code",
   "execution_count": 13,
   "id": "c80cc55b",
   "metadata": {
    "execution": {
     "iopub.execute_input": "2022-04-25T12:15:08.514805Z",
     "iopub.status.busy": "2022-04-25T12:15:08.514152Z",
     "iopub.status.idle": "2022-04-25T12:15:08.517661Z",
     "shell.execute_reply": "2022-04-25T12:15:08.518098Z",
     "shell.execute_reply.started": "2022-04-11T16:35:29.609712Z"
    },
    "papermill": {
     "duration": 0.071677,
     "end_time": "2022-04-25T12:15:08.518260",
     "exception": false,
     "start_time": "2022-04-25T12:15:08.446583",
     "status": "completed"
    },
    "tags": []
   },
   "outputs": [],
   "source": [
    "# nlp = spacy.load('en_core_web_sm')\n",
    "# outpath=r'/kaggle/input/sample-pdf/D8communications.pdf'\n",
    "# doc = fitz.open(outpath)  # any supported document type\n",
    "# page_no=3\n",
    "# page = doc[page_no-1]\n",
    "\n",
    "# x1,y1,x2,y2=(72.1149,661.2966,131.95729,675.1716)\n",
    "\n",
    "# rect = [float(x1)-2, 792 - float(y2)-2, float(x2)+2, 792 - float(y1)+2]\n",
    "# print(rect)\n",
    "# labelled_text = page.get_textbox(rect)\n",
    "# string = re.sub('[^0-9a-zA-Z@?|\\/<>.,()&^%$#!]+', ' ', labelled_text)\n",
    "# print('string : ', string)\n",
    "\n",
    "# fulltext = page.get_text()\n",
    "# doc = nlp(fulltext)\n",
    "\n",
    "# sentences = []\n",
    "# for sent in doc.sents:\n",
    "#             if string.strip() in sent.text:\n",
    "#                 text = re.sub('[^0-9a-zA-Z@?|\\/<>.,()&^%$#!]+', ' ', sent.text)\n",
    "\n",
    "#         res = re.search(string.strip(), text)\n",
    "\n",
    "#         entities = []\n",
    "#         entities.append((res.start(),res.end(),label))\n",
    "\n",
    "#         train_data.append((text,{'entities':entities}))\n",
    "\n"
   ]
  },
  {
   "cell_type": "code",
   "execution_count": 14,
   "id": "5cdb9588",
   "metadata": {
    "execution": {
     "iopub.execute_input": "2022-04-25T12:15:08.653588Z",
     "iopub.status.busy": "2022-04-25T12:15:08.652888Z",
     "iopub.status.idle": "2022-04-25T12:15:08.655583Z",
     "shell.execute_reply": "2022-04-25T12:15:08.655034Z",
     "shell.execute_reply.started": "2022-04-11T16:35:41.679947Z"
    },
    "papermill": {
     "duration": 0.071771,
     "end_time": "2022-04-25T12:15:08.655724",
     "exception": false,
     "start_time": "2022-04-25T12:15:08.583953",
     "status": "completed"
    },
    "tags": []
   },
   "outputs": [],
   "source": [
    "#doc"
   ]
  },
  {
   "cell_type": "code",
   "execution_count": 15,
   "id": "b809b064",
   "metadata": {
    "execution": {
     "iopub.execute_input": "2022-04-25T12:15:08.789381Z",
     "iopub.status.busy": "2022-04-25T12:15:08.788461Z",
     "iopub.status.idle": "2022-04-25T12:15:08.791376Z",
     "shell.execute_reply": "2022-04-25T12:15:08.791868Z",
     "shell.execute_reply.started": "2022-04-11T16:35:56.010353Z"
    },
    "papermill": {
     "duration": 0.071409,
     "end_time": "2022-04-25T12:15:08.792044",
     "exception": false,
     "start_time": "2022-04-25T12:15:08.720635",
     "status": "completed"
    },
    "tags": []
   },
   "outputs": [],
   "source": [
    "# sentences = []\n",
    "# for sent in doc.sents:\n",
    "#     if string.strip() in sent.text:\n",
    "#         text = re.sub('[^0-9a-zA-Z@?|\\/<>.,()&^%$#!]+', ' ', sent.text)"
   ]
  },
  {
   "cell_type": "code",
   "execution_count": 16,
   "id": "f2a88624",
   "metadata": {
    "execution": {
     "iopub.execute_input": "2022-04-25T12:15:08.925514Z",
     "iopub.status.busy": "2022-04-25T12:15:08.924824Z",
     "iopub.status.idle": "2022-04-25T12:15:08.927746Z",
     "shell.execute_reply": "2022-04-25T12:15:08.928252Z",
     "shell.execute_reply.started": "2022-04-11T16:39:04.736143Z"
    },
    "papermill": {
     "duration": 0.071322,
     "end_time": "2022-04-25T12:15:08.928481",
     "exception": false,
     "start_time": "2022-04-25T12:15:08.857159",
     "status": "completed"
    },
    "tags": []
   },
   "outputs": [],
   "source": [
    "# k=nlp(\"he             kenny\")\n",
    "# for sent in k.sents:\n",
    "#     print(sent)"
   ]
  },
  {
   "cell_type": "code",
   "execution_count": 17,
   "id": "0c72f2b2",
   "metadata": {
    "execution": {
     "iopub.execute_input": "2022-04-25T12:15:09.063556Z",
     "iopub.status.busy": "2022-04-25T12:15:09.062855Z",
     "iopub.status.idle": "2022-04-25T12:15:09.065561Z",
     "shell.execute_reply": "2022-04-25T12:15:09.066091Z",
     "shell.execute_reply.started": "2022-04-11T15:09:24.391421Z"
    },
    "papermill": {
     "duration": 0.071316,
     "end_time": "2022-04-25T12:15:09.066261",
     "exception": false,
     "start_time": "2022-04-25T12:15:08.994945",
     "status": "completed"
    },
    "tags": []
   },
   "outputs": [],
   "source": [
    "# text"
   ]
  },
  {
   "cell_type": "code",
   "execution_count": 18,
   "id": "c8b82450",
   "metadata": {
    "execution": {
     "iopub.execute_input": "2022-04-25T12:15:09.200085Z",
     "iopub.status.busy": "2022-04-25T12:15:09.199329Z",
     "iopub.status.idle": "2022-04-25T12:15:09.202093Z",
     "shell.execute_reply": "2022-04-25T12:15:09.202670Z",
     "shell.execute_reply.started": "2022-04-11T15:09:31.9599Z"
    },
    "papermill": {
     "duration": 0.071037,
     "end_time": "2022-04-25T12:15:09.202838",
     "exception": false,
     "start_time": "2022-04-25T12:15:09.131801",
     "status": "completed"
    },
    "tags": []
   },
   "outputs": [],
   "source": [
    "# res = re.search(string.strip(), text)\n",
    "# res"
   ]
  },
  {
   "cell_type": "code",
   "execution_count": 19,
   "id": "eaf01d3a",
   "metadata": {
    "execution": {
     "iopub.execute_input": "2022-04-25T12:15:09.337031Z",
     "iopub.status.busy": "2022-04-25T12:15:09.336348Z",
     "iopub.status.idle": "2022-04-25T12:15:09.339133Z",
     "shell.execute_reply": "2022-04-25T12:15:09.339656Z",
     "shell.execute_reply.started": "2022-04-11T15:12:41.311242Z"
    },
    "papermill": {
     "duration": 0.071787,
     "end_time": "2022-04-25T12:15:09.339845",
     "exception": false,
     "start_time": "2022-04-25T12:15:09.268058",
     "status": "completed"
    },
    "tags": []
   },
   "outputs": [],
   "source": [
    "# entities = []\n",
    "# entities.append((res.start(),res.end(),'p'))"
   ]
  },
  {
   "cell_type": "code",
   "execution_count": 20,
   "id": "4acd3cee",
   "metadata": {
    "execution": {
     "iopub.execute_input": "2022-04-25T12:15:09.474193Z",
     "iopub.status.busy": "2022-04-25T12:15:09.473528Z",
     "iopub.status.idle": "2022-04-25T12:15:09.476263Z",
     "shell.execute_reply": "2022-04-25T12:15:09.476855Z",
     "shell.execute_reply.started": "2022-04-11T15:12:52.736619Z"
    },
    "papermill": {
     "duration": 0.071732,
     "end_time": "2022-04-25T12:15:09.477031",
     "exception": false,
     "start_time": "2022-04-25T12:15:09.405299",
     "status": "completed"
    },
    "tags": []
   },
   "outputs": [],
   "source": [
    "# entities"
   ]
  },
  {
   "cell_type": "code",
   "execution_count": 21,
   "id": "1e43d3ee",
   "metadata": {
    "execution": {
     "iopub.execute_input": "2022-04-25T12:15:09.610682Z",
     "iopub.status.busy": "2022-04-25T12:15:09.610024Z",
     "iopub.status.idle": "2022-04-25T12:15:09.612672Z",
     "shell.execute_reply": "2022-04-25T12:15:09.613158Z",
     "shell.execute_reply.started": "2022-04-11T15:06:11.546217Z"
    },
    "papermill": {
     "duration": 0.070859,
     "end_time": "2022-04-25T12:15:09.613314",
     "exception": false,
     "start_time": "2022-04-25T12:15:09.542455",
     "status": "completed"
    },
    "tags": []
   },
   "outputs": [],
   "source": [
    "# text"
   ]
  },
  {
   "cell_type": "code",
   "execution_count": null,
   "id": "72263273",
   "metadata": {
    "execution": {
     "iopub.execute_input": "2022-04-11T15:02:33.300092Z",
     "iopub.status.busy": "2022-04-11T15:02:33.299778Z",
     "iopub.status.idle": "2022-04-11T15:02:33.30711Z",
     "shell.execute_reply": "2022-04-11T15:02:33.306345Z",
     "shell.execute_reply.started": "2022-04-11T15:02:33.300061Z"
    },
    "papermill": {
     "duration": 0.066203,
     "end_time": "2022-04-25T12:15:09.755324",
     "exception": false,
     "start_time": "2022-04-25T12:15:09.689121",
     "status": "completed"
    },
    "tags": []
   },
   "outputs": [],
   "source": []
  },
  {
   "cell_type": "code",
   "execution_count": 22,
   "id": "dcbf6ff5",
   "metadata": {
    "execution": {
     "iopub.execute_input": "2022-04-25T12:15:09.890349Z",
     "iopub.status.busy": "2022-04-25T12:15:09.889757Z",
     "iopub.status.idle": "2022-04-25T12:15:09.892668Z",
     "shell.execute_reply": "2022-04-25T12:15:09.893156Z",
     "shell.execute_reply.started": "2022-04-11T16:21:02.863037Z"
    },
    "papermill": {
     "duration": 0.070629,
     "end_time": "2022-04-25T12:15:09.893315",
     "exception": false,
     "start_time": "2022-04-25T12:15:09.822686",
     "status": "completed"
    },
    "tags": []
   },
   "outputs": [],
   "source": [
    "# import spacy\n",
    "# nlp = spacy.load('en_core_web_sm')"
   ]
  },
  {
   "cell_type": "code",
   "execution_count": 23,
   "id": "21e9bf1d",
   "metadata": {
    "execution": {
     "iopub.execute_input": "2022-04-25T12:15:10.027878Z",
     "iopub.status.busy": "2022-04-25T12:15:10.027178Z",
     "iopub.status.idle": "2022-04-25T12:15:10.030030Z",
     "shell.execute_reply": "2022-04-25T12:15:10.030490Z",
     "shell.execute_reply.started": "2022-04-09T12:19:47.776612Z"
    },
    "papermill": {
     "duration": 0.071739,
     "end_time": "2022-04-25T12:15:10.030675",
     "exception": false,
     "start_time": "2022-04-25T12:15:09.958936",
     "status": "completed"
    },
    "tags": []
   },
   "outputs": [],
   "source": [
    "# !pip install PyPDF2\n",
    "# import PyPDF2\n",
    "# fhandle = open(r'/kaggle/input/sample-pdf/D8communications.pdf', 'rb')\n",
    "# pdfReader = PyPDF2.PdfFileReader(fhandle)\n",
    "# pagehandle = pdfReader.getPage(4)\n",
    "# print(pagehandle.extractText())"
   ]
  },
  {
   "cell_type": "code",
   "execution_count": 24,
   "id": "bd02e438",
   "metadata": {
    "execution": {
     "iopub.execute_input": "2022-04-25T12:15:10.163661Z",
     "iopub.status.busy": "2022-04-25T12:15:10.163010Z",
     "iopub.status.idle": "2022-04-25T12:15:10.165585Z",
     "shell.execute_reply": "2022-04-25T12:15:10.166030Z",
     "shell.execute_reply.started": "2022-04-09T12:25:37.701467Z"
    },
    "papermill": {
     "duration": 0.07072,
     "end_time": "2022-04-25T12:15:10.166199",
     "exception": false,
     "start_time": "2022-04-25T12:15:10.095479",
     "status": "completed"
    },
    "tags": []
   },
   "outputs": [],
   "source": [
    "# !pip install pdfplumber\n",
    "# import pdfplumber\n",
    "# with pdfplumber.open(r'/kaggle/input/sample-pdf/D8communications.pdf') as pdf:\n",
    "#     first_page = pdf.pages[3]\n",
    "#     print(first_page.extract_text())"
   ]
  },
  {
   "cell_type": "code",
   "execution_count": 25,
   "id": "53e2ba28",
   "metadata": {
    "execution": {
     "iopub.execute_input": "2022-04-25T12:15:10.299670Z",
     "iopub.status.busy": "2022-04-25T12:15:10.299027Z",
     "iopub.status.idle": "2022-04-25T12:15:10.301673Z",
     "shell.execute_reply": "2022-04-25T12:15:10.302113Z",
     "shell.execute_reply.started": "2022-04-09T12:25:49.584635Z"
    },
    "papermill": {
     "duration": 0.071054,
     "end_time": "2022-04-25T12:15:10.302273",
     "exception": false,
     "start_time": "2022-04-25T12:15:10.231219",
     "status": "completed"
    },
    "tags": []
   },
   "outputs": [],
   "source": [
    "# !pip install pytesseract"
   ]
  },
  {
   "cell_type": "code",
   "execution_count": 26,
   "id": "fc77585a",
   "metadata": {
    "execution": {
     "iopub.execute_input": "2022-04-25T12:15:10.434477Z",
     "iopub.status.busy": "2022-04-25T12:15:10.433879Z",
     "iopub.status.idle": "2022-04-25T12:15:10.436663Z",
     "shell.execute_reply": "2022-04-25T12:15:10.437101Z",
     "shell.execute_reply.started": "2022-04-09T14:49:10.656812Z"
    },
    "papermill": {
     "duration": 0.070191,
     "end_time": "2022-04-25T12:15:10.437261",
     "exception": false,
     "start_time": "2022-04-25T12:15:10.367070",
     "status": "completed"
    },
    "tags": []
   },
   "outputs": [],
   "source": [
    "# #!pip install pdf2image\n",
    "# !pip install poppler"
   ]
  },
  {
   "cell_type": "code",
   "execution_count": 27,
   "id": "5f017fe7",
   "metadata": {
    "execution": {
     "iopub.execute_input": "2022-04-25T12:15:10.569889Z",
     "iopub.status.busy": "2022-04-25T12:15:10.569246Z",
     "iopub.status.idle": "2022-04-25T12:15:10.571985Z",
     "shell.execute_reply": "2022-04-25T12:15:10.572421Z",
     "shell.execute_reply.started": "2022-04-09T14:57:24.756677Z"
    },
    "papermill": {
     "duration": 0.0705,
     "end_time": "2022-04-25T12:15:10.572607",
     "exception": false,
     "start_time": "2022-04-25T12:15:10.502107",
     "status": "completed"
    },
    "tags": []
   },
   "outputs": [],
   "source": [
    "# pdf2image.convert_from_path('/kaggle/input/sample-pdf/D8communications.pdf')"
   ]
  },
  {
   "cell_type": "code",
   "execution_count": 28,
   "id": "1592efc5",
   "metadata": {
    "execution": {
     "iopub.execute_input": "2022-04-25T12:15:10.705271Z",
     "iopub.status.busy": "2022-04-25T12:15:10.704659Z",
     "iopub.status.idle": "2022-04-25T12:15:10.708465Z",
     "shell.execute_reply": "2022-04-25T12:15:10.708965Z",
     "shell.execute_reply.started": "2022-04-09T14:57:17.576149Z"
    },
    "papermill": {
     "duration": 0.071766,
     "end_time": "2022-04-25T12:15:10.709146",
     "exception": false,
     "start_time": "2022-04-25T12:15:10.637380",
     "status": "completed"
    },
    "tags": []
   },
   "outputs": [],
   "source": [
    "# import pdf2image\n",
    "# try:\n",
    "#     from PIL import Image\n",
    "# except ImportError:\n",
    "#     import Image\n",
    "# import pytesseract\n",
    "\n",
    "\n",
    "# def pdf_to_img(pdf_file):\n",
    "#     return pdf2image.convert_from_path(pdf_file)\n",
    "\n",
    "\n",
    "# def ocr_core(file):\n",
    "#     text = pytesseract.image_to_string(file)\n",
    "#     return text\n",
    "\n",
    "\n",
    "# def print_pages(pdf_file):\n",
    "#     images = pdf_to_img(pdf_file)\n",
    "#     for pg, img in enumerate(images):\n",
    "#         print(ocr_core(img))\n",
    "\n",
    "\n",
    "# print_pages('/kaggle/input/sample-pdf/D8communications.pdf')\n"
   ]
  },
  {
   "cell_type": "code",
   "execution_count": 29,
   "id": "e170b385",
   "metadata": {
    "execution": {
     "iopub.execute_input": "2022-04-25T12:15:10.853526Z",
     "iopub.status.busy": "2022-04-25T12:15:10.852831Z",
     "iopub.status.idle": "2022-04-25T12:15:10.855083Z",
     "shell.execute_reply": "2022-04-25T12:15:10.855562Z"
    },
    "papermill": {
     "duration": 0.078542,
     "end_time": "2022-04-25T12:15:10.855739",
     "exception": false,
     "start_time": "2022-04-25T12:15:10.777197",
     "status": "completed"
    },
    "tags": []
   },
   "outputs": [],
   "source": [
    "# import requests\n",
    "# import fitz\n",
    "# import io\n",
    "\n",
    "# #URL = 'https://buildmedia.readthedocs.org/media/pdf/pdfminer-docs/latest/pdfminer-docs.pdf'\n",
    "# URL = 'https://redactable-devox-stage.s3.us-east-2.amazonaws.com/tenants/41d9e109-693b-444c-aa18-e5891bc6550b/original/1a7c0e5d-3237-4ca9-9e3d-89e707245ac6/D8communications.pdf'\n",
    "\n",
    "\n",
    "# res = requests.get(URL)\n",
    "# filestream = io.BytesIO(res.content)\n",
    "# #res.content\n",
    "# filestream\n",
    "# doc = fitz.Document(stream=filestream)\n",
    "# page1 = doc.loadPage(3)\n",
    "# page1text = page1.getText(\"text\").encode(\"utf-8\").decode(\"utf-8\")\n",
    "# print(page1text)"
   ]
  },
  {
   "cell_type": "code",
   "execution_count": 30,
   "id": "595555de",
   "metadata": {
    "execution": {
     "iopub.execute_input": "2022-04-25T12:15:11.010433Z",
     "iopub.status.busy": "2022-04-25T12:15:11.009539Z",
     "iopub.status.idle": "2022-04-25T12:15:11.012227Z",
     "shell.execute_reply": "2022-04-25T12:15:11.011745Z",
     "shell.execute_reply.started": "2022-04-09T07:04:56.590103Z"
    },
    "papermill": {
     "duration": 0.073298,
     "end_time": "2022-04-25T12:15:11.012363",
     "exception": false,
     "start_time": "2022-04-25T12:15:10.939065",
     "status": "completed"
    },
    "tags": []
   },
   "outputs": [],
   "source": [
    "# import requests\n",
    "# import fitz\n",
    "\n",
    "# #URL = 'https://buildmedia.readthedocs.org/media/pdf/pdfminer-docs/latest/pdfminer-docs.pdf'\n",
    "# URL = 'https://redactable-devox-stage.s3.us-east-2.amazonaws.com/tenants/41d9e109-693b-444c-aa18-e5891bc6550b/original/1a7c0e5d-3237-4ca9-9e3d-89e707245ac6/D8communications.pdf'\n",
    "\n",
    "\n",
    "# res = requests.get(URL)\n",
    "# doc = fitz.open(stream=res.content,filetype=\"pdf\")\n",
    "# page1 = doc.loadPage(3)\n",
    "# page1text = page1.getText(\"text\")\n",
    "# #rect = (72.1149,661.2966,131.95729,675.1716)\n",
    "# rect=(72.10812377929688, 116.13427734375, 133.97142028808594, 146.4227294921875)\n",
    "# labelled_text = page1.get_textbox(rect)\n",
    "# print(labelled_text.strip())\n",
    "\n",
    "# fulltext = page1.get_text()\n",
    "# print(fulltext)\n",
    "# doc = nlp(fulltext)\n",
    "# sentences = []\n",
    "# for sent in doc.sents:\n",
    "#     if labelled_text in sent.text:\n",
    "#         text = sent.text\n",
    "#         print(text)\n",
    "# #print(page1text)"
   ]
  },
  {
   "cell_type": "code",
   "execution_count": 31,
   "id": "3405518e",
   "metadata": {
    "execution": {
     "iopub.execute_input": "2022-04-25T12:15:11.147982Z",
     "iopub.status.busy": "2022-04-25T12:15:11.147259Z",
     "iopub.status.idle": "2022-04-25T12:15:11.149900Z",
     "shell.execute_reply": "2022-04-25T12:15:11.149267Z",
     "shell.execute_reply.started": "2022-04-08T16:42:57.6659Z"
    },
    "papermill": {
     "duration": 0.071689,
     "end_time": "2022-04-25T12:15:11.150031",
     "exception": false,
     "start_time": "2022-04-25T12:15:11.078342",
     "status": "completed"
    },
    "tags": []
   },
   "outputs": [],
   "source": [
    "#res.content"
   ]
  },
  {
   "cell_type": "code",
   "execution_count": 32,
   "id": "22910c11",
   "metadata": {
    "execution": {
     "iopub.execute_input": "2022-04-25T12:15:11.286563Z",
     "iopub.status.busy": "2022-04-25T12:15:11.285917Z",
     "iopub.status.idle": "2022-04-25T12:15:11.289791Z",
     "shell.execute_reply": "2022-04-25T12:15:11.290248Z",
     "shell.execute_reply.started": "2022-04-08T16:48:05.672392Z"
    },
    "papermill": {
     "duration": 0.074746,
     "end_time": "2022-04-25T12:15:11.290413",
     "exception": false,
     "start_time": "2022-04-25T12:15:11.215667",
     "status": "completed"
    },
    "tags": []
   },
   "outputs": [],
   "source": [
    "# import fitz\n",
    "# # mem_area=\n",
    "# # doc = fitz.open(stream=mem_area, filetype=\"pdf\")\n",
    "\n",
    "# import requests\n",
    "\n",
    "# URL = 'https://redactable-devox-stage.s3.us-east-2.amazonaws.com/tenants/41d9e109-693b-444c-aa18-e5891bc6550b/original/1a7c0e5d-3237-4ca9-9e3d-89e707245ac6/D8communications.pdf'\n",
    "\n",
    "# #res = requests.get(URL)\n",
    "# doc=fitz.open(\"/kaggle/input/sample-pdf/D8communications.pdf\")\n",
    "# #doc = fitz.open(stream=res.content,filetype=\"pdf\")\n",
    "# page1 = doc.loadPage(4)\n",
    "# # page1text = page1.getText(\"text\")\n",
    "# # print(page1text)\n",
    "# blocks = page1.getText(\"blocks\")\n",
    "# blocks.sort(key=lambda block: block[1])  # sort vertically ascending\n",
    "\n",
    "# for b in blocks:\n",
    "#     print(b[4])\n"
   ]
  },
  {
   "cell_type": "code",
   "execution_count": 33,
   "id": "612b7b8f",
   "metadata": {
    "execution": {
     "iopub.execute_input": "2022-04-25T12:15:11.427613Z",
     "iopub.status.busy": "2022-04-25T12:15:11.426933Z",
     "iopub.status.idle": "2022-04-25T12:15:11.429082Z",
     "shell.execute_reply": "2022-04-25T12:15:11.429542Z",
     "shell.execute_reply.started": "2022-04-08T16:48:13.086323Z"
    },
    "papermill": {
     "duration": 0.074154,
     "end_time": "2022-04-25T12:15:11.429722",
     "exception": false,
     "start_time": "2022-04-25T12:15:11.355568",
     "status": "completed"
    },
    "tags": []
   },
   "outputs": [],
   "source": [
    "# # page = doc[1]\n",
    "# words = page.get_text(\"words\")\n",
    "# #print(words)\n",
    "# rect = (72.1149,661.2966,131.95729,675.1716)\n",
    "\n",
    "# labelled_text = page.get_textbox(rect)\n",
    "# # labelled_text"
   ]
  },
  {
   "cell_type": "markdown",
   "id": "8f1c9143",
   "metadata": {
    "papermill": {
     "duration": 0.064508,
     "end_time": "2022-04-25T12:15:11.559137",
     "exception": false,
     "start_time": "2022-04-25T12:15:11.494629",
     "status": "completed"
    },
    "tags": []
   },
   "source": [
    "pip install PyPDF2"
   ]
  },
  {
   "cell_type": "code",
   "execution_count": null,
   "id": "da1bbffb",
   "metadata": {
    "papermill": {
     "duration": 0.064563,
     "end_time": "2022-04-25T12:15:11.688819",
     "exception": false,
     "start_time": "2022-04-25T12:15:11.624256",
     "status": "completed"
    },
    "tags": []
   },
   "outputs": [],
   "source": []
  },
  {
   "cell_type": "code",
   "execution_count": 34,
   "id": "7ba3011b",
   "metadata": {
    "execution": {
     "iopub.execute_input": "2022-04-25T12:15:11.822906Z",
     "iopub.status.busy": "2022-04-25T12:15:11.822216Z",
     "iopub.status.idle": "2022-04-25T12:15:11.825066Z",
     "shell.execute_reply": "2022-04-25T12:15:11.825526Z",
     "shell.execute_reply.started": "2022-03-18T16:48:58.370268Z"
    },
    "papermill": {
     "duration": 0.072292,
     "end_time": "2022-04-25T12:15:11.825693",
     "exception": false,
     "start_time": "2022-04-25T12:15:11.753401",
     "status": "completed"
    },
    "tags": []
   },
   "outputs": [],
   "source": [
    "# import pandas as pd\n",
    "# h={'step': 0, 'type': 'string', 'amount': 0.0, 'nameOrig': 'C1231006815', 'oldbalanceOrig': 0.0, 'newbalanceOrig': 0.0, 'nameDest': 'M1979787155', 'oldbalanceDest': 0.0, 'newbalanceDest': 0.0}\n",
    "# df=pd.DataFrame([h])"
   ]
  },
  {
   "cell_type": "code",
   "execution_count": 35,
   "id": "bfce0db2",
   "metadata": {
    "execution": {
     "iopub.execute_input": "2022-04-25T12:15:11.960086Z",
     "iopub.status.busy": "2022-04-25T12:15:11.959419Z",
     "iopub.status.idle": "2022-04-25T12:15:11.962291Z",
     "shell.execute_reply": "2022-04-25T12:15:11.962844Z",
     "shell.execute_reply.started": "2022-04-09T17:21:26.021615Z"
    },
    "papermill": {
     "duration": 0.071977,
     "end_time": "2022-04-25T12:15:11.963026",
     "exception": false,
     "start_time": "2022-04-25T12:15:11.891049",
     "status": "completed"
    },
    "tags": []
   },
   "outputs": [],
   "source": [
    "#df"
   ]
  },
  {
   "cell_type": "code",
   "execution_count": null,
   "id": "3288fbc6",
   "metadata": {
    "papermill": {
     "duration": 0.066495,
     "end_time": "2022-04-25T12:15:12.095957",
     "exception": false,
     "start_time": "2022-04-25T12:15:12.029462",
     "status": "completed"
    },
    "tags": []
   },
   "outputs": [],
   "source": []
  }
 ],
 "metadata": {
  "kernelspec": {
   "display_name": "Python 3",
   "language": "python",
   "name": "python3"
  },
  "language_info": {
   "codemirror_mode": {
    "name": "ipython",
    "version": 3
   },
   "file_extension": ".py",
   "mimetype": "text/x-python",
   "name": "python",
   "nbconvert_exporter": "python",
   "pygments_lexer": "ipython3",
   "version": "3.7.12"
  },
  "papermill": {
   "default_parameters": {},
   "duration": 21.860631,
   "end_time": "2022-04-25T12:15:12.772020",
   "environment_variables": {},
   "exception": null,
   "input_path": "__notebook__.ipynb",
   "output_path": "__notebook__.ipynb",
   "parameters": {},
   "start_time": "2022-04-25T12:14:50.911389",
   "version": "2.3.3"
  }
 },
 "nbformat": 4,
 "nbformat_minor": 5
}
