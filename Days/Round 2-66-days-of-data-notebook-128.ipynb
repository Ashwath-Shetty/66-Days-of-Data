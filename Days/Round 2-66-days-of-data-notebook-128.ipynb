{
 "cells": [
  {
   "cell_type": "code",
   "execution_count": 1,
   "id": "df1e4ad4",
   "metadata": {
    "_cell_guid": "b1076dfc-b9ad-4769-8c92-a6c4dae69d19",
    "_uuid": "8f2839f25d086af736a60e9eeb907d3b93b6e0e5",
    "execution": {
     "iopub.execute_input": "2022-07-18T17:01:46.388482Z",
     "iopub.status.busy": "2022-07-18T17:01:46.387157Z",
     "iopub.status.idle": "2022-07-18T17:01:46.404199Z",
     "shell.execute_reply": "2022-07-18T17:01:46.405186Z",
     "shell.execute_reply.started": "2022-04-12T14:12:25.248687Z"
    },
    "papermill": {
     "duration": 0.095133,
     "end_time": "2022-07-18T17:01:46.405638",
     "exception": false,
     "start_time": "2022-07-18T17:01:46.310505",
     "status": "completed"
    },
    "tags": []
   },
   "outputs": [
    {
     "name": "stdout",
     "output_type": "stream",
     "text": [
      "/kaggle/input/sample-pdf/D8communications.pdf\n"
     ]
    }
   ],
   "source": [
    "# This Python 3 environment comes with many helpful analytics libraries installed\n",
    "# It is defined by the kaggle/python Docker image: https://github.com/kaggle/docker-python\n",
    "# For example, here's several helpful packages to load\n",
    "\n",
    "import numpy as np # linear algebra\n",
    "import pandas as pd # data processing, CSV file I/O (e.g. pd.read_csv)\n",
    "\n",
    "# Input data files are available in the read-only \"../input/\" directory\n",
    "# For example, running this (by clicking run or pressing Shift+Enter) will list all files under the input directory\n",
    "\n",
    "import os\n",
    "for dirname, _, filenames in os.walk('/kaggle/input'):\n",
    "    for filename in filenames:\n",
    "        print(os.path.join(dirname, filename))\n",
    "\n",
    "# You can write up to 20GB to the current directory (/kaggle/working/) that gets preserved as output when you create a version using \"Save & Run All\" \n",
    "# You can also write temporary files to /kaggle/temp/, but they won't be saved outside of the current session"
   ]
  },
  {
   "cell_type": "markdown",
   "id": "4d58f2c6",
   "metadata": {
    "papermill": {
     "duration": 0.068808,
     "end_time": "2022-07-18T17:01:46.545572",
     "exception": false,
     "start_time": "2022-07-18T17:01:46.476764",
     "status": "completed"
    },
    "tags": []
   },
   "source": [
    "# **Start Date: 12/3/2022**"
   ]
  },
  {
   "cell_type": "markdown",
   "id": "8df54297",
   "metadata": {
    "papermill": {
     "duration": 0.074484,
     "end_time": "2022-07-18T17:01:46.688973",
     "exception": false,
     "start_time": "2022-07-18T17:01:46.614489",
     "status": "completed"
    },
    "tags": []
   },
   "source": [
    "# **Day 1:** \n",
    "<br>dataquest -> stats -> probability-> estimating probability\n",
    "1. out come is nothing but o/p of an experiment\n",
    "ex: whatever u get after rolling a dice -> it can be any number\n",
    "2. event can have more than one outcome\n",
    "- e.x: The event that we'll get an odd number when we roll a six-sided die — this event includes the outcomes 1, 3, and 5.\n",
    "- an event can be 0 as well.\n",
    "- We always assign probabilities to events, not outcomes, even if the event includes only one outcome.\n",
    "- P(E) =1/total number of possible outcomes, P(E) probability of an event happening.\n",
    "- but above formula doesn't work always, especially when there are more than one outcome\n",
    "    - P(E)=number of successful outcomes/total number of possible outcomes\n",
    "- incase of a biased situation \n",
    "  - let's say a die has 6 - 3 times which is 1,6,3,5,6,6\n",
    "    we will consider 6 as 3 times not 1.\n",
    "    possible outcome-> 1,3,5,6,6,6\n",
    "    prob(6)=3/6\n",
    "    prob(3)=1/6\n",
    "    prob(2)=0/6\n",
    "    If we didn't treat each 6 differently and said it doesn't matter which side a 6 is on, \n",
    "    <br>we'd be forced to conclude the only possible outcomes are 1, 3, 5 and 6. We can definitely         <br>frame the problem like that, but the formula above won't work anymore — we see below P(6) <br>becomes the same as P(3), but, intuitively, P(6) should be higher than P(3) since the die has 6 on     <br>three of its sides:\n"
   ]
  },
  {
   "cell_type": "markdown",
   "id": "492dedac",
   "metadata": {
    "papermill": {
     "duration": 0.068295,
     "end_time": "2022-07-18T17:01:46.826157",
     "exception": false,
     "start_time": "2022-07-18T17:01:46.757862",
     "status": "completed"
    },
    "tags": []
   },
   "source": [
    "Estimating Probabilities Conclusion\n",
    "- emperical/ experimental probability\n",
    "  - probability achieved by experimenting / by doing the same event multiple times.\n",
    "  - Generally, for any event E (like a coin landing heads up), we can find its empirical probability   \n",
    "     by using the following formula: \n",
    "     •P (E) =number of times event E happened/ number of times we repeated the experiment   \n",
    " - Generally, the empirical probability of an event (a coin landing heads up, getting a 5 when weroll a die) approaches the true probability value as the number of trials of the randomexperiment (a coin toss, the rolling of a die) increases without bound.\n",
    "- When we calculate the probability of an event under the assumption that the outcomes have equal chances of occurring, we say that we're calculating the **theoretical probability** of an event.\n",
    "   - P(E)=number of successful outcomes/total number of possible outcomes\n",
    "\n"
   ]
  },
  {
   "cell_type": "markdown",
   "id": "b1a28ed4",
   "metadata": {
    "papermill": {
     "duration": 0.069198,
     "end_time": "2022-07-18T17:01:46.964720",
     "exception": false,
     "start_time": "2022-07-18T17:01:46.895522",
     "status": "completed"
    },
    "tags": []
   },
   "source": [
    "# **Day 2**\n",
    "<br>dataquest-> stats -> intro to probability -> probability rules\n",
    "<br>In probability theory, the set of all possible outcomes is called a sample space. A sample space is often denoted by the capital Greek letter Ω (read \"omega\"). This is how we represent the sample space of a die roll:\n",
    "\n",
    "Ω = {1,2,3,4,5,6}\n",
    "-    The probability of any event ranges between 0 and 1: 0≤ P(Event) ≤1\n",
    "- To calculate P(A or B), we can also use the formula below, which is sometimes called the addition rule: P(A or B) = P(A) + P(B)\n",
    "  - Sample space ={ 1,2,3,4,5,6} \n",
    "  - P(2 or 5) = 2/6\n",
    "\n",
    "- P(C or D) = P(C) + P(D) - P(C and D)\n",
    "   - e.x : Sample_space ={2,4,6} + { 4,5,6} - {4/6}\n",
    "      P( even number or number greater than 3) = ( (3/6) + (3/6) )- (2/6) = 4/6\n",
    "- Events that don't intersect are called mutually exclusive.\n",
    "  - e.x: Getting a 5 (event one) and getting a 3 (event two) when we roll a regular six-sided die — it's  impossible to get both a 5 and 3.\n",
    "- Events that intersect are called mutually non-exclusive.\n",
    "  - Getting a number greater than 2 (event one) and getting an odd number (event two) when we roll a regular six-sided die — we could get a 5, which is both greater than 2 (event one) and odd (event two).\n",
    "- unioun -> A or B, intersection -> A and B"
   ]
  },
  {
   "cell_type": "markdown",
   "id": "6a33346d",
   "metadata": {
    "papermill": {
     "duration": 0.069196,
     "end_time": "2022-07-18T17:01:47.103247",
     "exception": false,
     "start_time": "2022-07-18T17:01:47.034051",
     "status": "completed"
    },
    "tags": []
   },
   "source": [
    "# Day 3 and 4\n",
    "dataquest -> stats -> probabilities -> solving complex probabilities\n",
    "- This is the same result we got from our previous approach. In more general terms, the multiplication rule says that for two events E1 and E2, the probability that both event E1 and E2 happen can be found by multiplying the probability of E1 by the probability of E2:\n",
    "    - P(E1 ∩ E2) = P(E1) × P(E2)\n",
    "    - Events that don't influence each other's probability are called independent events. If H1 happens, P(H2) stays the same, so H1 and H2 are independent. The multiplication rule we learned only works for independent events.\n",
    "    "
   ]
  },
  {
   "cell_type": "markdown",
   "id": "f0234848",
   "metadata": {
    "papermill": {
     "duration": 0.068294,
     "end_time": "2022-07-18T17:01:47.240468",
     "exception": false,
     "start_time": "2022-07-18T17:01:47.172174",
     "status": "completed"
    },
    "tags": []
   },
   "source": [
    "# Day 5\n",
    "- When we replace the cards after drawing, we say that we're sampling with replacement. When we don't put the cards back, we're sampling without replacement. \n"
   ]
  },
  {
   "cell_type": "markdown",
   "id": "cca63cd1",
   "metadata": {
    "papermill": {
     "duration": 0.06894,
     "end_time": "2022-07-18T17:01:47.378247",
     "exception": false,
     "start_time": "2022-07-18T17:01:47.309307",
     "status": "completed"
    },
    "tags": []
   },
   "source": [
    "# Day6\n",
    "dataquest-> prob and stats -> probability fundamentals -> permutation and combinations\n",
    "Generally, if we have an experiment E1 (like flipping a coin) with a outcomes, followed by an experiment E2 (like rolling a die) with b outcomes, then the total number of outcomes for the composite experiment E1E2 can be found by multiplying a with b:\n",
    "\n",
    "Number of outcomes = a * b"
   ]
  },
  {
   "cell_type": "markdown",
   "id": "d8548339",
   "metadata": {
    "papermill": {
     "duration": 0.068197,
     "end_time": "2022-07-18T17:01:47.515086",
     "exception": false,
     "start_time": "2022-07-18T17:01:47.446889",
     "status": "completed"
    },
    "tags": []
   },
   "source": [
    "# Day 7\n",
    "dataquest-> prob and stats -> probability fundamentals -> permutation and combinations <br>\n",
    "More generally, if we have an experiment E1 with a outcomes, followed by an experiment E2 with b outcomes, followed by an experiment En with z outcomes, the total number of outcomes for the composite experiment E1E2 ... En can be found by multiplying their individual outcomes:\n",
    "\n",
    "Number of outcomes= a * b * … * z"
   ]
  },
  {
   "cell_type": "markdown",
   "id": "39423495",
   "metadata": {
    "papermill": {
     "duration": 0.06891,
     "end_time": "2022-07-18T17:01:47.653205",
     "exception": false,
     "start_time": "2022-07-18T17:01:47.584295",
     "status": "completed"
    },
    "tags": []
   },
   "source": [
    "# Day 8\n",
    "dataquest-> prob and stats -> probability fundamentals -> permutation and combinations <br>\n",
    "permutations= n*(n-1)*(n-2)*....*2*1\n"
   ]
  },
  {
   "cell_type": "markdown",
   "id": "4cceb399",
   "metadata": {
    "papermill": {
     "duration": 0.068621,
     "end_time": "2022-07-18T17:01:47.791929",
     "exception": false,
     "start_time": "2022-07-18T17:01:47.723308",
     "status": "completed"
    },
    "tags": []
   },
   "source": [
    "# Day 9\n",
    "dataquest-> prob and stats -> probability fundamentals -> permutation and combinations\n",
    "- in permutation order of the individual element in the arranement matters.\n",
    "   - for e.x: 9821 is different than 9281\n",
    "   - Permutations =n!  --> sample without replacement-> we are not putting back the sampled data.\n",
    "   - On the last screen, we learned to use the formula below to calculate permutations when we're sampling without replacement and taking only k objects from a group of n objects:\n",
    "   npk=n!/(n-k)!"
   ]
  },
  {
   "cell_type": "markdown",
   "id": "22e095a5",
   "metadata": {
    "papermill": {
     "duration": 0.068957,
     "end_time": "2022-07-18T17:01:47.930247",
     "exception": false,
     "start_time": "2022-07-18T17:01:47.861290",
     "status": "completed"
    },
    "tags": []
   },
   "source": [
    "# Day 10\n",
    "dataquest-> prob and stats -> probability fundamentals -> permutation and combinations\n",
    "- More generally, if the order of the elements in an arrangement doesn't matter, the arrangement is called a combination.\n",
    "- e.x: cards in a deck \n",
    "- nCk = n! / ((n-k)!*k!)"
   ]
  },
  {
   "cell_type": "markdown",
   "id": "d3d747f8",
   "metadata": {
    "papermill": {
     "duration": 0.068569,
     "end_time": "2022-07-18T17:01:48.068399",
     "exception": false,
     "start_time": "2022-07-18T17:01:47.999830",
     "status": "completed"
    },
    "tags": []
   },
   "source": [
    "# Day 11\n",
    "dataquest-> prob and stats -> probability fundamentals -> permutation and combinations\n",
    "- solved 1 probability problem.\n"
   ]
  },
  {
   "cell_type": "markdown",
   "id": "5fa4604a",
   "metadata": {
    "papermill": {
     "duration": 0.068759,
     "end_time": "2022-07-18T17:01:48.207557",
     "exception": false,
     "start_time": "2022-07-18T17:01:48.138798",
     "status": "completed"
    },
    "tags": []
   },
   "source": [
    "# Day 12\n",
    "dataquest-> prob and stats -> probability fundamentals -> permutation and combinations\n",
    "- finished probability and permutations by revising them.\n",
    "- If we have an experiment E1 (like flipping a coin) with a outcomes, followed by an experiment E2(like rolling a die) with b outcomes, then the total number of outcomes for the compositeexperiment E1E2 can be found by multiplying a with b (this is known as the rule of product):\n",
    "  - number of outcomes = a*b\n",
    "- If we have an experiment E1 with a outcomes, followed by an experiment E2 with b outcomes,followed by an experiment En with z outcomes, the total number of outcomes for the compositeexperiment E1E2 ... En can be found by multiplying their individual outcomes:\n",
    "   - number of outcomes = a*b* ... *z\n",
    "- There are two kinds of arrangements:\n",
    "   - •Arrangements where the order matters, which we call permutations.\n",
    "   - •Arrangements where the order doesn't matter, which we call combination\n",
    "- To find the number of permutations when we're sampling without replacement, we can use theformula:\n",
    "  - permutation = n!\n",
    "- To find the number of permutations when we're sampling without replacement and taking only kobjects from a group of n objects, we can use the formula:\n",
    "  - nPk = n!/(n-k)!\n",
    "- To find the number of combinations when we're sampling without replacement and taking only kobjects from a group of n objects, we can use the formula\n",
    "  - nCk = n! / ((n-k)!*k!)"
   ]
  },
  {
   "cell_type": "markdown",
   "id": "23c760c3",
   "metadata": {
    "papermill": {
     "duration": 0.070255,
     "end_time": "2022-07-18T17:01:48.346678",
     "exception": false,
     "start_time": "2022-07-18T17:01:48.276423",
     "status": "completed"
    },
    "tags": []
   },
   "source": [
    "# Day 13\n",
    "dataquest-> prob and stats -> probability fundamentals -> conditional probabilities\n",
    "- first 2 slides -> mainly the recap of old chapter(above one).\n"
   ]
  },
  {
   "cell_type": "markdown",
   "id": "b29786af",
   "metadata": {
    "papermill": {
     "duration": 0.069066,
     "end_time": "2022-07-18T17:01:48.484936",
     "exception": false,
     "start_time": "2022-07-18T17:01:48.415870",
     "status": "completed"
    },
    "tags": []
   },
   "source": [
    "# Day 14\n",
    "dataquest-> prob and stats -> probability fundamentals -> conditional probabilities\n",
    "<br>slide 4 completed\n",
    "<br>conditional probabilities\n",
    "- probabilities with condition\n",
    "- P(5)=What is the probability of getting a 5? -> normal probability\n",
    "- P(5 | odd) =What is the probability of getting a 5 given the die showed an odd number? -> conditional prob.\n",
    "\n"
   ]
  },
  {
   "cell_type": "markdown",
   "id": "bb944c39",
   "metadata": {
    "papermill": {
     "duration": 0.069595,
     "end_time": "2022-07-18T17:01:48.623475",
     "exception": false,
     "start_time": "2022-07-18T17:01:48.553880",
     "status": "completed"
    },
    "tags": []
   },
   "source": [
    "# Day 15\n",
    "dataquest-> prob and stats -> probability fundamentals -> conditional probabilities\n",
    "- on slide 5 not done yet.\n",
    "\n",
    "Say we roll a fair six-sided die and want to find the probability of getting an odd number, given the die showed a number greater than 1 after landing. Using probability notation, we want to find P(A|B) where:\n",
    "\n",
    "- A is the event that the number is odd: A = {1, 3, 5}\n",
    "- B is the event that the number is greater than 1: B = {2, 3, 4, 5, 6}\n",
    "- P(A/B)=number of succesfull outcomes / total number of outcomes.\n"
   ]
  },
  {
   "cell_type": "markdown",
   "id": "45f59d28",
   "metadata": {
    "papermill": {
     "duration": 0.070839,
     "end_time": "2022-07-18T17:01:48.763669",
     "exception": false,
     "start_time": "2022-07-18T17:01:48.692830",
     "status": "completed"
    },
    "tags": []
   },
   "source": [
    "# Day 16 and 17\n",
    "dataquest-> prob and stats -> probability fundamentals -> conditional probabilities\n",
    "\n",
    "on slide 6 not done yet."
   ]
  },
  {
   "cell_type": "markdown",
   "id": "1e43996c",
   "metadata": {
    "papermill": {
     "duration": 0.068746,
     "end_time": "2022-07-18T17:01:48.904567",
     "exception": false,
     "start_time": "2022-07-18T17:01:48.835821",
     "status": "completed"
    },
    "tags": []
   },
   "source": [
    "# Day 18\n",
    "dataquest-> prob and stats -> probability fundamentals -> conditional probabilities\n",
    "<br>slide 5 code half done"
   ]
  },
  {
   "cell_type": "markdown",
   "id": "5616683e",
   "metadata": {
    "papermill": {
     "duration": 0.069496,
     "end_time": "2022-07-18T17:01:49.044407",
     "exception": false,
     "start_time": "2022-07-18T17:01:48.974911",
     "status": "completed"
    },
    "tags": []
   },
   "source": [
    "# Day 19\n",
    "- The number of elements in a set is called the cardinal of the set. \n",
    "  Ω is a set, and the cardinal of \n",
    "   Ω = { 2,3,4,5,6}\n",
    "   cardinal(Ω)=5\n",
    "- P(A | B) = card(A ∩ B) / card(B)\n",
    "- Say we roll a fair six-sided die and want to find the probability of getting an odd number, given the die showed a number greater than 1 after landing. Using probability notation, we want to find P(A|B) where:\n",
    "    - A is the event that the number is odd: A = {1, 3, 5}\n",
    "     - B is the event that the number is greater than 1: B = {2, 3, 4, 5, 6}\n",
    "     - total number of possible outcomes = card({2,3,4,5,6}) =5\n",
    "     - number of successful outcomes = card({3,5})= 2\n",
    "- P(A | B) = card(A ∩ B) / card(B), we can also get the same result using P(A | B) = prob(A ∩ B) / prob(B)\n",
    "\n",
    "     "
   ]
  },
  {
   "cell_type": "markdown",
   "id": "2a58c26b",
   "metadata": {
    "papermill": {
     "duration": 0.06836,
     "end_time": "2022-07-18T17:01:49.182184",
     "exception": false,
     "start_time": "2022-07-18T17:01:49.113824",
     "status": "completed"
    },
    "tags": []
   },
   "source": [
    "# Day 20\n",
    "dataquest-> prob and stats -> probability fundamentals -> conditional probabilities intermediate\n",
    "<br> slide 1 and 2\n",
    "- P( A | B ) ≠ P(A ∩ B), but rather:\n",
    "   - P(A | B) = P(A ∩ B) / P(B)\n",
    "   - P(A ∩ B) = P(A | B) ⋅ P(B)\n",
    "- Given that a customer bought a laptop, they will or will not also buy a mouse. This means we can be certain that either event (M|L) or (M^C|L) will happen:\n",
    "     - P(M | L) + P(M^C | L) = 1\n",
    "\n"
   ]
  },
  {
   "cell_type": "markdown",
   "id": "f1a2fe50",
   "metadata": {
    "papermill": {
     "duration": 0.068332,
     "end_time": "2022-07-18T17:01:49.319490",
     "exception": false,
     "start_time": "2022-07-18T17:01:49.251158",
     "status": "completed"
    },
    "tags": []
   },
   "source": [
    "# Day 21\n",
    "dataquest-> prob and stats -> probability fundamentals -> conditional probabilities intermediate\n",
    "slide 1 and 2\n",
    "- P(A ∩ B) = P(B ∩ A)\n",
    "- multiplication rule of probability\n",
    "  -  P(A ∩ B) = P(B) ⋅ P(A | B) \n",
    "  - P(A ∩ B) = P(A) ⋅ P(B | A)\n",
    "- if P(A) and P(B) are statistically independent then \n",
    "  - P(A ∩ B) = P(A) ⋅ P(B)\n",
    "\n"
   ]
  },
  {
   "cell_type": "markdown",
   "id": "7daa972a",
   "metadata": {
    "papermill": {
     "duration": 0.068396,
     "end_time": "2022-07-18T17:01:49.457709",
     "exception": false,
     "start_time": "2022-07-18T17:01:49.389313",
     "status": "completed"
    },
    "tags": []
   },
   "source": [
    "# Day 22\n",
    "dataquest-> prob and stats -> probability fundamentals -> conditional probabilities intermediate \n",
    "<br>slide 6\n",
    "- If events events A and B are dependent, it means the occurrence of event A changes the probability of event B and vice versa.\n",
    "   - P(A) ≠ P(A | B)\n",
    "   - P(B) ≠ P(B | A)\n",
    "   - P(A ∩ B) ≠ P(A) ⋅ P(B)\n",
    "   - formula will become P(A ∩ B) ≠ P(A) ⋅ P(B/A)\n",
    "   "
   ]
  },
  {
   "cell_type": "markdown",
   "id": "3fd669b4",
   "metadata": {
    "papermill": {
     "duration": 0.068352,
     "end_time": "2022-07-18T17:01:49.594823",
     "exception": false,
     "start_time": "2022-07-18T17:01:49.526471",
     "status": "completed"
    },
    "tags": []
   },
   "source": [
    "# Day 23\n",
    "dataquest-> prob and stats -> probability fundamentals -> conditional probabilities intermediate\n",
    "<br>slide 7 to last\n",
    "- To find whether three events — A, B, C — are independent or not, below conditions must hold true -\n",
    "  - P(A ∩ B) ≠ P(A) ⋅ P(B)\n",
    "  - P(A ∩ C) ≠ P(A) ⋅ P(C)\n",
    "  - P(B ∩ C) ≠ P(B) ⋅ P(C)\n",
    "  - P(A ∩ B ∩ C) ≠ P(A) ⋅ P(B) . P(C)\n",
    "- multiplication rule for conditional probability or dependent events\n",
    " - P(A ∩ B ∩ C) = P(A) ⋅ P(B | A) ⋅ P(C | A ∩ B)\n",
    " \n",
    "\n"
   ]
  },
  {
   "cell_type": "markdown",
   "id": "4390a9b0",
   "metadata": {
    "papermill": {
     "duration": 0.069174,
     "end_time": "2022-07-18T17:01:49.732810",
     "exception": false,
     "start_time": "2022-07-18T17:01:49.663636",
     "status": "completed"
    },
    "tags": []
   },
   "source": [
    "# Day 24\n",
    "dataquest-> prob and stats -> probability fundamentals -> bayes theorem\n",
    "<br>slide 1\n",
    "- independent -> one event is dependent on other\n",
    "   - P(A ∩ B) = P(A) ⋅ P(B/A)\n",
    "- independent -> one event is not dependent on other.\n",
    "   - P(A ∩ B) = P(A) ⋅ P(B)\n",
    "- mutually exclusive -> both the events cannot happen at the same time.\n",
    "   - P(A ∩ B) = 0\n",
    "\n"
   ]
  },
  {
   "cell_type": "markdown",
   "id": "d5e75c3a",
   "metadata": {
    "papermill": {
     "duration": 0.068378,
     "end_time": "2022-07-18T17:01:49.871862",
     "exception": false,
     "start_time": "2022-07-18T17:01:49.803484",
     "status": "completed"
    },
    "tags": []
   },
   "source": [
    "# Day 25\n",
    "dataquest-> prob and stats -> probability fundamentals -> bayes theorem\n",
    "<br>slide 2\n",
    "- If two events are exhaustive, it means they make up the whole sample space Ω\n",
    "  -  P(A) = P(A ∩ B) + P(A ∩ B^c)\n",
    "     P(A) = (P(B) * P(A/B)) +  (P(B^c) * P(A/B^c))\n",
    "     \n",
    "     "
   ]
  },
  {
   "cell_type": "markdown",
   "id": "f066ae2a",
   "metadata": {
    "papermill": {
     "duration": 0.070149,
     "end_time": "2022-07-18T17:01:50.010699",
     "exception": false,
     "start_time": "2022-07-18T17:01:49.940550",
     "status": "completed"
    },
    "tags": []
   },
   "source": [
    "# Day 26\n",
    "dataquest-> prob and stats -> probability fundamentals -> bayes theorem\n",
    "<br>slide 3 - last\n",
    "- the law of total probability\n",
    "  - P(A)  = (P(B1) * P(A/B1)) + (P(B2) * P(A/B2))+ ... + (P(Bn) * P(A/Bn)))\n",
    "  - P(A) =(summattion i=1 to n) P(Bi) ⋅ P(A|Bi)\n",
    "- Baye's theorem\n",
    "  - P(B | A) = (P(B) ⋅ P(A | B)) / (n ∑i=1 P(Bi) ⋅ P(A | Bi))\n",
    "- The probability of being infected with HIV before doing any test is called the prior probability (\"prior\" means \"before\"). The probability of being infected with HIV after testing positive is called the posterior probability (\"posterior\" means \"after\").\n",
    "\n",
    "\n",
    "  "
   ]
  },
  {
   "cell_type": "markdown",
   "id": "84ec19c5",
   "metadata": {
    "papermill": {
     "duration": 0.06835,
     "end_time": "2022-07-18T17:01:50.147591",
     "exception": false,
     "start_time": "2022-07-18T17:01:50.079241",
     "status": "completed"
    },
    "tags": []
   },
   "source": [
    "# Day 27\n",
    "dataquest-> prob and stats -> probability fundamentals -> naive bayes theorem\n",
    "<br>slide 1 - \n",
    "P(Spam|w1,w2,w3,w4)∝P(Spam)⋅P(w1|Spam)⋅P(w2|Spam)⋅P(w3|Spam)⋅P(w4|Spam)P(SpamC|w1,w2,w3,w4)∝P(SpamC)⋅P(w1|SpamC)⋅P(w2|SpamC)⋅P(w3|SpamC)⋅P(w4|SpamC)"
   ]
  },
  {
   "cell_type": "markdown",
   "id": "58bbf0ed",
   "metadata": {
    "papermill": {
     "duration": 0.06816,
     "end_time": "2022-07-18T17:01:50.284330",
     "exception": false,
     "start_time": "2022-07-18T17:01:50.216170",
     "status": "completed"
    },
    "tags": []
   },
   "source": [
    "# Day 28\n",
    "dataquest-> prob and stats -> probability fundamentals -> naive bayes theorem\n",
    "<br>finished.\n",
    "<br>**Summary**\n",
    "- P(Spam|w1,w2,...,wn)∝P(Spam)⋅n∏i=1P(wi|Spam)\n",
    "- P(SpamC|w1,w2,...,wn)∝P(SpamC)⋅n∏i=1P(wi|SpamC)\n",
    "- To calculate P(wi|Spam) and P(wi|SpamC), we need to use the additive smoothing technique: \n",
    "- P ( w i | S p a m ) = (N w i | S p a m + α) / ( N S p a m + α ⋅ N V o c a b u l a r y )\n",
    "- P ( w i | S p a m C ) = (N w i | S p a m C + α) / ( N S p a m C + α ⋅ N V o c a b u l a r y )\n",
    "     - N w i | S p a m = the number of times the word w i occurs in spam messages \n",
    "     - N w i | S p a m C = the number of times the word w i occurs in non-spam messages \n",
    "     - N S p a m = total number of words in spam messages \n",
    "     - N S p a m C = total number of words in non-spam messages \n",
    "     - N V o c a b u l a r y = total number of words in the vocabulary \n",
    "     - α = 1 ( α is a smoothing parameter )\n",
    " - naive bayes theorem assumes that events are not dependent.\n",
    " - The assumption of conditional independence between words is thus naive since it rarely holds in practice, and this is why the algorithm is called Naive Bayes (also called simple Bayes or independence Bayes)."
   ]
  },
  {
   "cell_type": "markdown",
   "id": "aadc20c0",
   "metadata": {
    "papermill": {
     "duration": 0.068249,
     "end_time": "2022-07-18T17:01:50.422159",
     "exception": false,
     "start_time": "2022-07-18T17:01:50.353910",
     "status": "completed"
    },
    "tags": []
   },
   "source": [
    "# Day 29,30,31\n",
    "<br>dataquest-> prob and stats -> probability fundamentals -> conditional probability-> guided projects\n",
    "<br> in progress"
   ]
  },
  {
   "cell_type": "markdown",
   "id": "772972d3",
   "metadata": {
    "papermill": {
     "duration": 0.06842,
     "end_time": "2022-07-18T17:01:50.559580",
     "exception": false,
     "start_time": "2022-07-18T17:01:50.491160",
     "status": "completed"
    },
    "tags": []
   },
   "source": [
    "# Day 32 and 33\n",
    "<br>dataquest-> prob and stats -> probability fundamentals -> guided projects\n",
    "<br> done"
   ]
  },
  {
   "cell_type": "markdown",
   "id": "0ab0524b",
   "metadata": {
    "papermill": {
     "duration": 0.069639,
     "end_time": "2022-07-18T17:01:50.698661",
     "exception": false,
     "start_time": "2022-07-18T17:01:50.629022",
     "status": "completed"
    },
    "tags": []
   },
   "source": [
    "# Day 34\n",
    "<br>dataquest-> prob and stats -> probability fundamentals -> guided projects-> lottery prediction\n",
    "<br> done"
   ]
  },
  {
   "cell_type": "markdown",
   "id": "c9199562",
   "metadata": {
    "papermill": {
     "duration": 0.069388,
     "end_time": "2022-07-18T17:01:50.837615",
     "exception": false,
     "start_time": "2022-07-18T17:01:50.768227",
     "status": "completed"
    },
    "tags": []
   },
   "source": [
    "# Day 35\n",
    "<br>dataquest-> prob and stats -> hypothesis testing fundamentals -> significance testing\n",
    "<br> till slide 4\n",
    "- null hypothesis\n",
    "- alternate hypothesis\n"
   ]
  },
  {
   "cell_type": "markdown",
   "id": "60cb40f3",
   "metadata": {
    "papermill": {
     "duration": 0.068337,
     "end_time": "2022-07-18T17:01:50.976085",
     "exception": false,
     "start_time": "2022-07-18T17:01:50.907748",
     "status": "completed"
    },
    "tags": []
   },
   "source": [
    "# Day 36 and 37\n",
    "<br>dataquest-> prob and stats -> hypothesis testing fundamentals -> significance testing\n",
    "- The permutation test is a statistical test that involves rerunning the study many times and recalculating the test statistic for each iteration. The goal is to calculate a distribution of the test statistics over these many iterations. This distribution is called the sampling distribution and it approximates the full range of possible test statistics under the null hypothesis\n",
    "\n"
   ]
  },
  {
   "cell_type": "markdown",
   "id": "246a7483",
   "metadata": {
    "papermill": {
     "duration": 0.069975,
     "end_time": "2022-07-18T17:01:51.116674",
     "exception": false,
     "start_time": "2022-07-18T17:01:51.046699",
     "status": "completed"
    },
    "tags": []
   },
   "source": [
    "# Day 38\n",
    "<br>dataquest-> prob and stats -> hypothesis testing fundamentals -> significance testing\n",
    "<br>in progress."
   ]
  },
  {
   "cell_type": "markdown",
   "id": "1595257c",
   "metadata": {
    "papermill": {
     "duration": 0.069761,
     "end_time": "2022-07-18T17:01:51.255199",
     "exception": false,
     "start_time": "2022-07-18T17:01:51.185438",
     "status": "completed"
    },
    "tags": []
   },
   "source": [
    "# Day 39\n",
    "<br>dataquest-> prob and stats -> hypothesis testing fundamentals -> significance testing\n",
    "<br>slide 5-6"
   ]
  },
  {
   "cell_type": "markdown",
   "id": "d676430c",
   "metadata": {
    "papermill": {
     "duration": 0.069676,
     "end_time": "2022-07-18T17:01:51.393491",
     "exception": false,
     "start_time": "2022-07-18T17:01:51.323815",
     "status": "completed"
    },
    "tags": []
   },
   "source": [
    "# Day 40\n",
    "<br>dataquest-> prob and stats -> hypothesis testing fundamentals -> significance testing\n",
    "<br>slide 7"
   ]
  },
  {
   "cell_type": "markdown",
   "id": "1743d4a3",
   "metadata": {
    "papermill": {
     "duration": 0.070103,
     "end_time": "2022-07-18T17:01:51.533077",
     "exception": false,
     "start_time": "2022-07-18T17:01:51.462974",
     "status": "completed"
    },
    "tags": []
   },
   "source": [
    "# Day 41 and 42\n",
    "<br>dataquest-> prob and stats -> hypothesis testing fundamentals -> significance testing\n",
    "<br>slide 7 done and 8(p-value) strated"
   ]
  },
  {
   "cell_type": "markdown",
   "id": "24607cc6",
   "metadata": {
    "papermill": {
     "duration": 0.068505,
     "end_time": "2022-07-18T17:01:51.671681",
     "exception": false,
     "start_time": "2022-07-18T17:01:51.603176",
     "status": "completed"
    },
    "tags": []
   },
   "source": [
    "# Day 43\n",
    "<br>dataquest-> prob and stats -> hypothesis testing fundamentals -> significance testing\n",
    "<br>\n",
    "- The first step is to decide a test statistic, which is a numerical value that summarizes the data and one we can use in statistical formulas. The test statistic runs a statistical test that determines whether the difference between the groups was due to random chance.\n",
    "  - e.x: mean \n",
    "- The permutation test is a statistical test that involves rerunning the study many times and recalculating the test statistic for each iteration.\n",
    "   - The goal is to calculate a distribution of the test statistics over these many iterations. This distribution is called the sampling distribution and it approximates the full range of possible test statistics under the null hypothesis.\n",
    "- If the p value is less than the threshold, we:\n",
    "    - reject the null hypothesis that there's no difference in the mean amount of weight lost by participants in both groups; and\n",
    "    - conclude that there is some evidence that the weight loss pill does affect the amount of weight people lost.\n",
    "\n",
    "- If the p value is greater than the threshold, we:\n",
    "    - fail to reject the null hypothesis that there's no difference in the mean amount of weight lost by participants in both groups,\n",
    "    - conclude that the weight loss pill doesn't seem to be effective in helping people lose weight.\n",
    "- usually used p-value threshold is 0.05\n",
    "- The p value threshold you set can also affect the conclusion you reach.\n",
    "    - If you set too high of a p value threshold, you may reject the null hypothesis incorrectly. This is known as a type I error.\n",
    "    - If you set too low of a p value threshold, you may fail to reject the null hypothesis incorrectly. This is known as a type II error."
   ]
  },
  {
   "cell_type": "markdown",
   "id": "070a5d0a",
   "metadata": {
    "papermill": {
     "duration": 0.071794,
     "end_time": "2022-07-18T17:01:51.812324",
     "exception": false,
     "start_time": "2022-07-18T17:01:51.740530",
     "status": "completed"
    },
    "tags": []
   },
   "source": [
    "# Day 44\n",
    "<br>dataquest-> prob and stats -> hypothesis testing fundamentals -> significance testing-> chi squared test\n",
    "<br>1- 4\n",
    "- chi squared test is used for numerical values"
   ]
  },
  {
   "cell_type": "markdown",
   "id": "d82c3598",
   "metadata": {
    "papermill": {
     "duration": 0.089187,
     "end_time": "2022-07-18T17:01:51.970435",
     "exception": false,
     "start_time": "2022-07-18T17:01:51.881248",
     "status": "completed"
    },
    "tags": []
   },
   "source": [
    "# Day 45 and 46\n",
    "<br>dataquest-> prob and stats -> hypothesis testing fundamentals -> significance testing-> chi squared test\n",
    "<br>4- 6"
   ]
  },
  {
   "cell_type": "markdown",
   "id": "aa833cb9",
   "metadata": {
    "papermill": {
     "duration": 0.074296,
     "end_time": "2022-07-18T17:01:52.126674",
     "exception": false,
     "start_time": "2022-07-18T17:01:52.052378",
     "status": "completed"
    },
    "tags": []
   },
   "source": [
    "# Day 47\n",
    "<br>dataquest-> prob and stats -> hypothesis testing fundamentals -> significance testing-> chi squared test\n",
    "<br> slide 6 done"
   ]
  },
  {
   "cell_type": "markdown",
   "id": "d307a284",
   "metadata": {
    "papermill": {
     "duration": 0.078517,
     "end_time": "2022-07-18T17:01:52.281930",
     "exception": false,
     "start_time": "2022-07-18T17:01:52.203413",
     "status": "completed"
    },
    "tags": []
   },
   "source": [
    "# Day 48\n",
    "<br> chi-squared values is that they get smaller as the sample size decreases.\n",
    "<br>**conclusion**\n",
    "- The chi-squared test enables us to quantify the difference between sets of observed and expected categorical values to determine statistical significance\n",
    "- chi squared = (observed - expected)**2 / expected\n",
    "- A p-value allows us to determine whether the difference between 2 values is due to chance, or due to an underlying difference.\n",
    "- Chi-squared values increase as sample size increases, but the chance of getting a high chi-squared value decreases as the sample gets larger.\n",
    "- A degree of freedom is the number of values that can vary without the other values being\"locked in\". \n",
    "- scipy https://docs.scipy.org/doc/scipy/reference/generated/scipy.stats.mstats.chisquare.html\n"
   ]
  },
  {
   "cell_type": "markdown",
   "id": "e3b51807",
   "metadata": {
    "papermill": {
     "duration": 0.070738,
     "end_time": "2022-07-18T17:01:52.422245",
     "exception": false,
     "start_time": "2022-07-18T17:01:52.351507",
     "status": "completed"
    },
    "tags": []
   },
   "source": [
    "# Day 49\n",
    "<br>dataquest-> prob and stats -> hypothesis testing fundamentals -> significance testing-> multi category chi squared test\n",
    "<br> slide 1 done\n",
    "- We can apply the multi category chi-squared test (also known as the chi-squared test of association) to figure out if there's a statistically significant correlation between two categorical columns.\n",
    "- "
   ]
  },
  {
   "cell_type": "markdown",
   "id": "14111a42",
   "metadata": {
    "papermill": {
     "duration": 0.073898,
     "end_time": "2022-07-18T17:01:52.566323",
     "exception": false,
     "start_time": "2022-07-18T17:01:52.492425",
     "status": "completed"
    },
    "tags": []
   },
   "source": [
    " **Day 50**\n",
    "<br>dataquest-> prob and stats -> hypothesis testing fundamentals -> significance testing-> multi category chi squared test\n",
    "# Conclusion:\n",
    "- In a multiple category chi-squared test, we calculate expected values across our whole dataset.\n",
    "- We can calculate the chi-squared value by using the following steps:\n",
    "    - Subtract the expected value from the observed value.\n",
    "    - Subtract the difference.\n",
    "    - Divide the squared difference by the expected value.\n",
    "    - Repeat for all observed and expected values and add up all the values.\n",
    "- ∑ expected(observed−expected)**2 / expected\n",
    "- Discovering that a result isn't significant doesn't mean that no association between the columnsexists. Discovering a statistically significant result doesn't imply anything about what thecorrelation is.\n",
    "- Chi-squared tests can only be applied when each possibility within a category is independen.\n",
    "    - we have categories like male or female not both. single row has either male or female not both at a time.\n",
    "- https://docs.scipy.org/doc/scipy-0.15.1/reference/generated/scipy.stats.chi2_contingency.html\n",
    "- https://pandas.pydata.org/pandas-docs/stable/generated/pandas.crosstab.html\n"
   ]
  },
  {
   "cell_type": "markdown",
   "id": "91a8203c",
   "metadata": {
    "papermill": {
     "duration": 0.069686,
     "end_time": "2022-07-18T17:01:52.709169",
     "exception": false,
     "start_time": "2022-07-18T17:01:52.639483",
     "status": "completed"
    },
    "tags": []
   },
   "source": [
    "# **Day 51, 52**\n",
    "<br>dataquest-> prob and stats -> hypothesis testing fundamentals -> significance testing-> guided project\n",
    "<br>in progress."
   ]
  },
  {
   "cell_type": "markdown",
   "id": "e08bd3af",
   "metadata": {
    "papermill": {
     "duration": 0.068674,
     "end_time": "2022-07-18T17:01:52.852181",
     "exception": false,
     "start_time": "2022-07-18T17:01:52.783507",
     "status": "completed"
    },
    "tags": []
   },
   "source": [
    "# **Day 53**\n",
    "<br>dataquest-> prob and stats -> hypothesis testing fundamentals -> significance testing-> guided project\n",
    "<br>done"
   ]
  },
  {
   "cell_type": "markdown",
   "id": "799df9c7",
   "metadata": {
    "papermill": {
     "duration": 0.069295,
     "end_time": "2022-07-18T17:01:52.995308",
     "exception": false,
     "start_time": "2022-07-18T17:01:52.926013",
     "status": "completed"
    },
    "tags": []
   },
   "source": [
    "# **Day 54,55, 56,57, 58, 59**\n",
    "interviewbit-> probability-> conditional probability\n",
    "1. You asked your three friends whether it will rain or not and all three affirmed for rain. All three have the probability of 1/3 of lying. What is the probability that it will actually rain?\n",
    "- https://www.geeksforgeeks.org/puzzle-is-it-raining/#:~:text=Explanation%3A,truth%20or%20all%20are%20lying.&text=So%2C%20it%20is%20approximately%2089,it%20is%20raining%20in%20Hyderabad.\n",
    "2. Anshul and Deven take turns in rolling a fair six-sided die. Whoever rolls a “6” first wins the game. Deven starts by rolling first. What’s the probability that Anshul wins?\n",
    "- https://www.quora.com/A-and-B-throw-a-Fair-die-one-after-another-Whoever-throws-6-first-wins-What-is-the-probability-that-A-wins\n",
    "\n",
    "3. You have a bag with 6 marbles. One marble is white. You reach the bag 100 times. After taking out a marble, it is placed back in the bag. What is the probability of drawing a white marble at least once?\n",
    "- https://brainly.com/question/14376470\n",
    "- Answer:\n",
    "\n",
    "0.999999988\n",
    "\n",
    "Step-by-step explanation:\n",
    "\n",
    "Given that you  have a bag with 6 marbles. One marble is white. You reach the bag 100 times. After taking out a marble, it is placed back in the bag.\n",
    "\n",
    "Because every time you replace the marble drawn, the probability for drawing a white marble in one draw is constant = p =5/6\n",
    "\n",
    "No of trials n = 100\n",
    "\n",
    "Here X no of times white marble is drawn is Binomial since there are two outcomes and also the probability is constant.\n",
    "\n",
    "the probability of drawing a white marble at least once\n",
    "\n",
    "=\n",
    "\n",
    "Required probability is almost 1.\n",
    "\n",
    "\n",
    "4. Supposedly a friend of yours has 2 children and at least one of them is a boy. What is the probability that the other is also a boy?\n",
    "- If at least one is a boy, there are three possible equally likely gender assignations of two siblings. boy-boy, boy-girl,\n",
    "\n",
    " or girl-boy. Only 1 in 3 cases or 33 percent are both boys. The lesson here is that when considering equally likely scenarios\n",
    "\n",
    " we must consider birth order. If the birth order of the boy is not specified – i.e. if we don’t know if he is the eldest or \n",
    "\n",
    " the youngest – the probability of two boys drops to 1 in 3.\n",
    " \n",
    "5. A single card is drawn from a standard deck of playing cards. What is the probability that the card is a queen provided that a face card is drawn from the deck of cards?\n",
    "- 4/12 = 1/3\n",
    " \n",
    "6. random variables Q1,2\n",
    "7. 5 questions\n",
    "8. bayes theorem first 2\n",
    "\n",
    "**Day 60**\n",
    "- inferential statistics - 3 questions\n",
    "**Day 61**\n",
    "- inferential statistics - central limit theorem done\n",
    "\n",
    "**Day 62**\n",
    "- inferential statistics - distribution analysis multivariate done\n",
    "\n",
    "**Day 63**\n",
    "- inferential statistics -  done\n",
    "\n",
    "**Day 64,65, 66**\n",
    "- Data Analysis-  wip\n",
    "\n",
    "**Day 67**\n",
    "- Data Analysis-  web scrapping done\n",
    "\n",
    "**Day 68**\n",
    "- Data Analysis-  descriptive statistics tutorial done\n",
    "\n",
    "**Day 69**\n",
    "- Data Analysis-  probability tutorial done\n",
    "\n",
    "**Day 70**\n",
    "- Data Analysis-  hypothesis testing wip\n",
    "\n",
    "**Day 71**\n",
    "- Data Analysis-  inferential statistics tutorials - done\n",
    "\n",
    "**Day 72**\n",
    "- Data Analysis-  inferential statistics tutorials - done\n",
    "\n",
    "**Day 73**\n",
    "- Data Analysis-  data analysis tutorials - wip\n",
    "\n",
    "**Day 74**\n",
    "\n",
    "**Interview Prep:**\n",
    "1. clustering evaluation techniques:\n",
    "- https://towardsdatascience.com/clustering-evaluation-strategies-98a4006fcfc\n",
    "\n",
    "**Day 75**\n",
    "\n",
    "2. feature selection\n",
    "- https://www.analyticsvidhya.com/blog/2016/12/introduction-to-feature-selection-methods-with-an-example-or-how-to-select-the-right-variables/\n",
    "\n",
    "**Day 76**\n",
    "\n",
    "2. linear regression\n",
    "- https://towardsdatascience.com/introduction-to-machine-learning-algorithms-linear-regression-14c4e325882a and also data camp\n",
    "\n",
    "**Day 77**\n",
    "\n",
    "3. What’s the normal distribution? Why do we care about it?\n",
    "- https://www.youtube.com/watch?v=rzFX5NWojp0&ab_channel=StatQuestwithJoshStarmer\n",
    "\n",
    "**Day 78, 79**\n",
    "\n",
    " few questions from dsinterviews.org\n",
    " \n",
    " \n",
    "**Day 80**\n",
    "\n",
    " linear regression from datacamp -> done\n",
    " \n",
    " \n",
    "**Day 81**\n",
    "\n",
    " what is bias, variance and bias-variance tradeoff?\n",
    " \n",
    "https://medium.datadriveninvestor.com/bias-and-variance-in-machine-learning-51fdd38d1f86\n",
    " \n",
    " \n",
    "**Day 82**\n",
    "\n",
    "Regularization, L1 and L2 regularization?\n",
    "- https://medium.datadriveninvestor.com/l1-l2-regularization-7f1b4fe948f2\n",
    "\n",
    "**Day 83**\n",
    "\n",
    "Handling Imbalanced dataset\n",
    "- https://www.analyticsvidhya.com/blog/2021/06/5-techniques-to-handle-imbalanced-data-for-a-classification-problem/\n",
    "\n",
    "**Day 84**\n",
    "\n",
    "Central limit theorem?\n",
    "- https://medium.com/analytics-vidhya/central-limit-theorem-made-easy-a61319d6ee1f\n",
    "- https://towardsdatascience.com/central-limit-theorem-95f355934d98#:~:text=The%20Central%20Limit%20Theorem%20(CLT,the%20population%20or%20original%20variables.\n",
    "\n",
    "- the distribution of sample means approaches a normal distribution as the sample size increases.\n",
    "- for n>30, sample mean will reach normal distribution\n",
    "\n",
    "**Day 85**\n",
    "\n",
    "what are outliers and how to handle them?\n",
    "- https://www.analyticsvidhya.com/blog/2021/05/detecting-and-treating-outliers-treating-the-odd-one-out/\n",
    "\n",
    "**Day 86, 87**\n",
    "\n",
    "evaluation metrics\n",
    "- https://www.kaggle.com/code/vipulgandhi/how-to-choose-right-metric-for-evaluating-ml-model/notebook\n",
    "- regression https://medium.com/usf-msds/choosing-the-right-metric-for-machine-learning-models-part-1-a99d7d7414e4\n",
    "- https://stephenallwright.com/good-rmse-score/\n",
    "- https://www.kaggle.com/code/vipulgandhi/how-to-choose-right-metric-for-evaluating-ml-model/notebook\n",
    "\n",
    "**Day 88, 89, 90, 91, 92**\n",
    "- Rmse penalizes heavily or give large number in loss if the difference between predicted and actual is high but rmse can be easily differentiable so that's an advantage.\n",
    "- range of rmse and mae is from 0 to infinity.\n",
    "- R squared -> determines how well dependent variable explains independent variable variance.\n",
    "- Adjusted R-squared -> in r sqaured if we add more features to the model accuracy will aimprove but by using adjusted r-squred accuracy will increase only if the feature is usefull otherwise it'll penalize the accuracy.\n",
    "- The maximum value of R² is 1 but minimum can be negative infinity.\n",
    "- rmse and mae is usually used to compare the models but r-squred says how good my model is and preffered in industry.\n",
    "- high r squared means better model, low rmse/mae means better model.\n",
    "- how to say which rmse is better?\n",
    "    - use scatter index. which is (rmse)*100/avg(y), if SI(scat index) <10% is good model, <5% is best. according to ashley standar model with rsquared>0.75 and SI<30% is good.\n",
    "    - https://www.statology.org/what-is-a-good-rmse/\n",
    "    \n",
    "**Day 93, 94**\n",
    "\n",
    "evaluation of classification?\n",
    "- https://www.analyticsvidhya.com/blog/2020/10/how-to-choose-evaluation-metrics-for-classification-model/\n",
    "- https://www.analyticsvidhya.com/blog/2021/06/confusion-matrix-for-multi-class-classification/\n",
    "- https://towardsdatascience.com/understanding-auc-roc-curve-68b2303cc9c5\n",
    "- https://medium.com/@gaurav_bio/making-sense-of-real-world-data-roc-curves-and-when-to-use-them-90a17e6d1db   --> best article\n",
    "- handling class imbalance --> https://towardsdatascience.com/dealing-with-imbalanced-classes-in-machine-learning-d43d6fa19d2\n",
    "\n",
    "**Day 95, 96**\n",
    "\n",
    "- regularization?\n",
    "- https://towardsdatascience.com/regularization-in-machine-learning-76441ddcf99a\n",
    "- https://www.simplilearn.com/tutorials/machine-learning-tutorial/regularization-in-machine-learning\n",
    "- https://www.analyticsvidhya.com/blog/2021/05/complete-guide-to-regularization-techniques-in-machine-learning/\n",
    "\n",
    "**Day 97**\n",
    "\n",
    "linear regression and gradient descent.\n",
    "- https://arshren.medium.com/gradient-descent-5a13f385d403\n",
    "- https://towardsdatascience.com/introduction-to-machine-learning-algorithms-linear-regression-14c4e325882a\n",
    "\n",
    "**Day 98, 99**\n",
    "\n",
    "gradient descent\n",
    "- https://www.youtube.com/watch?v=sDv4f4s2SB8&t=1276s&ab_channel=StatQuestwithJoshStarmer\n",
    "\n",
    "**Day 100**\n",
    "- validation from theory questions\n",
    "\n",
    "**Day 101,102**\n",
    "- feature selection\n",
    "\n",
    "**Day 103**\n",
    "- started reading sreelatha murthy's the outliers book\n",
    "- finished first chapter.\n",
    "\n",
    "**Day 104**\n",
    "- chapter 4 modelling and ml questions\n",
    "- How can you avoid overfitting in predictive models?\n",
    "\n",
    "**Day 105**\n",
    "- How to choose k for k mean?\n",
    "    - https://www.analyticsvidhya.com/blog/2019/08/comprehensive-guide-k-means-clustering/#h2_1\n",
    "    - https://developers.google.com/machine-learning/clustering/prepare-data\n",
    "    - https://mai-tnthao.medium.com/k-means-clustering-ph%C3%A2n-c%E1%BB%A5m-k-means-d2ffed5bddf8\n",
    "- clustering algorithm for data mith mixed categorical & numerical\n",
    "    - https://www.tomasbeuzen.com/post/clustering-mixed-data/\n",
    "    \n",
    "**Day 106**\n",
    "- which is your favourite algorithm?\n",
    "\n",
    "**Day 107**\n",
    "- regression trees\n",
    "\n",
    "**Day 108,109, 110, 111, 112, 113, 114**\n",
    "- random forest\n",
    "\n",
    "\n",
    "**Day 115**\n",
    "- A/B testing case study\n",
    "\n",
    "**Day 116. 117**\n",
    "- case study 3\n",
    "\n",
    "**Day 119**\n",
    "- behaviour questions\n",
    "\n",
    "**Day 120**\n",
    "- confidence interval\n",
    "- https://www.machinelearningplus.com/statistics/confidence-interval/\n",
    "\n",
    "**Day 121**\n",
    "- p value\n",
    "\n",
    "**Day 122,123,124, 125, 126, 127**\n",
    "- general\n",
    "\n",
    "**Day 128**\n",
    "- DT, Random forest, adad boost, grad boost, xg boost.\n",
    "- book-> general probability\n",
    "\n",
    "**Day 129**\n",
    "- gradient boosting\n",
    "- p-values -> book"
   ]
  },
  {
   "cell_type": "code",
   "execution_count": null,
   "id": "1f66051e",
   "metadata": {
    "papermill": {
     "duration": 0.069834,
     "end_time": "2022-07-18T17:01:53.137663",
     "exception": false,
     "start_time": "2022-07-18T17:01:53.067829",
     "status": "completed"
    },
    "tags": []
   },
   "outputs": [],
   "source": []
  },
  {
   "cell_type": "markdown",
   "id": "58a7ead1",
   "metadata": {
    "papermill": {
     "duration": 0.069439,
     "end_time": "2022-07-18T17:01:53.276756",
     "exception": false,
     "start_time": "2022-07-18T17:01:53.207317",
     "status": "completed"
    },
    "tags": []
   },
   "source": []
  },
  {
   "cell_type": "code",
   "execution_count": null,
   "id": "b353bc93",
   "metadata": {
    "papermill": {
     "duration": 0.070263,
     "end_time": "2022-07-18T17:01:53.416223",
     "exception": false,
     "start_time": "2022-07-18T17:01:53.345960",
     "status": "completed"
    },
    "tags": []
   },
   "outputs": [],
   "source": []
  },
  {
   "cell_type": "code",
   "execution_count": 2,
   "id": "d77caedd",
   "metadata": {
    "execution": {
     "iopub.execute_input": "2022-07-18T17:01:53.557594Z",
     "iopub.status.busy": "2022-07-18T17:01:53.556931Z",
     "iopub.status.idle": "2022-07-18T17:01:53.560128Z",
     "shell.execute_reply": "2022-07-18T17:01:53.560740Z",
     "shell.execute_reply.started": "2022-04-12T14:17:49.333113Z"
    },
    "papermill": {
     "duration": 0.075407,
     "end_time": "2022-07-18T17:01:53.560917",
     "exception": false,
     "start_time": "2022-07-18T17:01:53.485510",
     "status": "completed"
    },
    "tags": []
   },
   "outputs": [],
   "source": [
    "# !pip install PyMuPDF"
   ]
  },
  {
   "cell_type": "code",
   "execution_count": 3,
   "id": "07d7320b",
   "metadata": {
    "execution": {
     "iopub.execute_input": "2022-07-18T17:01:53.708192Z",
     "iopub.status.busy": "2022-07-18T17:01:53.707506Z",
     "iopub.status.idle": "2022-07-18T17:01:53.709958Z",
     "shell.execute_reply": "2022-07-18T17:01:53.710497Z",
     "shell.execute_reply.started": "2022-04-12T14:19:20.437905Z"
    },
    "papermill": {
     "duration": 0.078136,
     "end_time": "2022-07-18T17:01:53.710675",
     "exception": false,
     "start_time": "2022-07-18T17:01:53.632539",
     "status": "completed"
    },
    "tags": []
   },
   "outputs": [],
   "source": [
    " \n",
    "# fitz.__version__"
   ]
  },
  {
   "cell_type": "code",
   "execution_count": 4,
   "id": "140ba0f7",
   "metadata": {
    "execution": {
     "iopub.execute_input": "2022-07-18T17:01:53.854765Z",
     "iopub.status.busy": "2022-07-18T17:01:53.853040Z",
     "iopub.status.idle": "2022-07-18T17:01:53.856831Z",
     "shell.execute_reply": "2022-07-18T17:01:53.857371Z",
     "shell.execute_reply.started": "2022-04-12T14:23:59.687259Z"
    },
    "papermill": {
     "duration": 0.077233,
     "end_time": "2022-07-18T17:01:53.857697",
     "exception": false,
     "start_time": "2022-07-18T17:01:53.780464",
     "status": "completed"
    },
    "tags": []
   },
   "outputs": [],
   "source": [
    "# !python -m spacy download en_core_web_sm"
   ]
  },
  {
   "cell_type": "code",
   "execution_count": null,
   "id": "33df226e",
   "metadata": {
    "papermill": {
     "duration": 0.068525,
     "end_time": "2022-07-18T17:01:53.998002",
     "exception": false,
     "start_time": "2022-07-18T17:01:53.929477",
     "status": "completed"
    },
    "tags": []
   },
   "outputs": [],
   "source": []
  },
  {
   "cell_type": "code",
   "execution_count": 5,
   "id": "e330b8c5",
   "metadata": {
    "execution": {
     "iopub.execute_input": "2022-07-18T17:01:54.140897Z",
     "iopub.status.busy": "2022-07-18T17:01:54.140233Z",
     "iopub.status.idle": "2022-07-18T17:01:54.143139Z",
     "shell.execute_reply": "2022-07-18T17:01:54.143651Z",
     "shell.execute_reply.started": "2022-04-12T14:18:25.912243Z"
    },
    "papermill": {
     "duration": 0.076697,
     "end_time": "2022-07-18T17:01:54.143822",
     "exception": false,
     "start_time": "2022-07-18T17:01:54.067125",
     "status": "completed"
    },
    "tags": []
   },
   "outputs": [],
   "source": [
    "# import fitz\n",
    "# import spacy\n",
    "# import re\n",
    "# from pathlib import Path\n",
    "# import requests\n",
    "# import os"
   ]
  },
  {
   "cell_type": "code",
   "execution_count": 6,
   "id": "ddb6ea1f",
   "metadata": {
    "execution": {
     "iopub.execute_input": "2022-07-18T17:01:54.288082Z",
     "iopub.status.busy": "2022-07-18T17:01:54.287304Z",
     "iopub.status.idle": "2022-07-18T17:01:54.288871Z",
     "shell.execute_reply": "2022-07-18T17:01:54.289463Z",
     "shell.execute_reply.started": "2022-04-12T15:03:43.5897Z"
    },
    "papermill": {
     "duration": 0.076175,
     "end_time": "2022-07-18T17:01:54.289634",
     "exception": false,
     "start_time": "2022-07-18T17:01:54.213459",
     "status": "completed"
    },
    "tags": []
   },
   "outputs": [],
   "source": [
    "# sql_db_json = [\n",
    "#   {\n",
    "#     \"document_id\": \"1\",\n",
    "#     \"area\": \"[72.1149,661.2966,131.95729,675.1716]\",\n",
    "#     \"page\": \"3\",\n",
    "#     \"text_\": \"Background\",\n",
    "#     \"type_of_selection\": \"Text\",\n",
    "#     \"entity_type\": \"name\",\n",
    "#     \"link\": \"https://redactable-devox-stage.s3.us-east-2.amazonaws.com/tenants/41d9e109-693b-444c-aa18-e5891bc6550b/original/1a7c0e5d-3237-4ca9-9e3d-89e707245ac6/D8communications.pdf\"\n",
    "#   },\n",
    "#   {\n",
    "#     \"document_id\": \"1\",\n",
    "#     \"area\": \"[290.55386,632.0173,322.14685,645.8923]\",\n",
    "#     \"page\": \"2\",\n",
    "#     \"text_\": \"INDEX\",\n",
    "#     \"type_of_selection\": \"Text\",\n",
    "#     \"entity_type\": \"address\",\n",
    "#     \"link\": \"https://redactable-devox-stage.s3.us-east-2.amazonaws.com/tenants/41d9e109-693b-444c-aa18-e5891bc6550b/original/1a7c0e5d-3237-4ca9-9e3d-89e707245ac6/D8communications.pdf\"\n",
    "#   }\n",
    "# ]"
   ]
  },
  {
   "cell_type": "code",
   "execution_count": 7,
   "id": "dcc7279f",
   "metadata": {
    "execution": {
     "iopub.execute_input": "2022-07-18T17:01:54.431644Z",
     "iopub.status.busy": "2022-07-18T17:01:54.430966Z",
     "iopub.status.idle": "2022-07-18T17:01:54.434216Z",
     "shell.execute_reply": "2022-07-18T17:01:54.434719Z",
     "shell.execute_reply.started": "2022-04-12T13:17:19.452695Z"
    },
    "papermill": {
     "duration": 0.07613,
     "end_time": "2022-07-18T17:01:54.434895",
     "exception": false,
     "start_time": "2022-07-18T17:01:54.358765",
     "status": "completed"
    },
    "tags": []
   },
   "outputs": [],
   "source": [
    "# l=pd.DataFrame()\n",
    "# k=(1, '[290.55386,632.0173,322.14685,645.8923]', 2, 'INDEX', 'Text', 'address', 'https://redactable-devox-s')\n",
    "# k\n"
   ]
  },
  {
   "cell_type": "code",
   "execution_count": 8,
   "id": "fe7bcea0",
   "metadata": {
    "execution": {
     "iopub.execute_input": "2022-07-18T17:01:54.578662Z",
     "iopub.status.busy": "2022-07-18T17:01:54.577295Z",
     "iopub.status.idle": "2022-07-18T17:01:54.580945Z",
     "shell.execute_reply": "2022-07-18T17:01:54.581462Z",
     "shell.execute_reply.started": "2022-04-12T16:09:33.708631Z"
    },
    "papermill": {
     "duration": 0.077561,
     "end_time": "2022-07-18T17:01:54.581650",
     "exception": false,
     "start_time": "2022-07-18T17:01:54.504089",
     "status": "completed"
    },
    "tags": []
   },
   "outputs": [],
   "source": [
    "# co=[\"document_id\",\"area\",\"page\",\"text_\",\"type_of_selection\",\"entity_type\",\"link\"]\n",
    "# val= [(1,'[72.1149,661.2966,131.95729,675.1716]',3,'Background','Text','name' ,'https://redactable-devox-stage.s3.us-east-2.am'), (1,  '[290.55386,632.0173,322.14685,645.8923]',2,'INDEX', 'Text','address','https://redactable-devox-stage.s3.us-east-2.am')]\n",
    "\n",
    "# df=pd.DataFrame(val,columns=[co])\n",
    "# #df.iloc[1] =[1,  '[290.55386,632.0173,322.14685,645.8923]',2,'INDEX', 'Text','address','https://redactable-devox-stage.s3.us-east-2.am']\n",
    "# df"
   ]
  },
  {
   "cell_type": "code",
   "execution_count": 9,
   "id": "d4bdb17e",
   "metadata": {
    "execution": {
     "iopub.execute_input": "2022-07-18T17:01:54.723715Z",
     "iopub.status.busy": "2022-07-18T17:01:54.722773Z",
     "iopub.status.idle": "2022-07-18T17:01:54.725959Z",
     "shell.execute_reply": "2022-07-18T17:01:54.726494Z",
     "shell.execute_reply.started": "2022-04-12T16:18:22.595374Z"
    },
    "papermill": {
     "duration": 0.075673,
     "end_time": "2022-07-18T17:01:54.726667",
     "exception": false,
     "start_time": "2022-07-18T17:01:54.650994",
     "status": "completed"
    },
    "tags": []
   },
   "outputs": [],
   "source": [
    "# prev=[]\n",
    "# for data,row in df.iterrows():\n",
    "#     if row['document_id'] not in prev:\n",
    "#         prev.append(row['document_id'])\n",
    "#         print('hey')"
   ]
  },
  {
   "cell_type": "code",
   "execution_count": 10,
   "id": "1a7532af",
   "metadata": {
    "execution": {
     "iopub.execute_input": "2022-07-18T17:01:54.872576Z",
     "iopub.status.busy": "2022-07-18T17:01:54.871514Z",
     "iopub.status.idle": "2022-07-18T17:01:54.877232Z",
     "shell.execute_reply": "2022-07-18T17:01:54.877741Z",
     "shell.execute_reply.started": "2022-04-12T15:03:48.248836Z"
    },
    "papermill": {
     "duration": 0.080617,
     "end_time": "2022-07-18T17:01:54.877937",
     "exception": false,
     "start_time": "2022-07-18T17:01:54.797320",
     "status": "completed"
    },
    "tags": []
   },
   "outputs": [],
   "source": [
    "# nlp = spacy.load('en_core_web_sm')\n",
    "# train_data = []\n",
    "\n",
    "# prev_doc_id = ''\n",
    "# i=0\n",
    "# temp='/kaggle/working'\n",
    "\n",
    "# for data in sql_db_json:\n",
    "#     if data['type_of_selection'] == 'Text':\n",
    "#         document_id = data['document_id']\n",
    "#         x1,y1,x2,y2 = data['area'][1:-1].split(',')\n",
    "#         url = data['link']\n",
    "#         page_no = int(data['page']) - 1 \n",
    "#         label = data['entity_type']\n",
    "#         filename = url.split('/')[-1]\n",
    "    \n",
    "#         #download the file to temp folder\n",
    "#         outpath = os.path.join(temp,filename)\n",
    "\n",
    "#         if document_id == prev_doc_id:\n",
    "#             pass\n",
    "#         else: \n",
    "#             i+=1\n",
    "#             print(i)\n",
    "#             response = requests.get(url)\n",
    "#             with open(outpath, \"wb\") as binary_file:\n",
    "#                 binary_file.write(response.content)\n",
    "\n",
    "#         doc = fitz.open(outpath)  # any supported document type\n",
    "#         page = doc[page_no]  # we want text from this page\n",
    "#         print('page dimension - ', page.rect.width, page.rect.height)\n",
    "\n",
    "#         #The co-ordinates in the DB are image co-ords. W.r.t pdf, y1 and y2 has to be interchanged.\n",
    "#         #To ensure entire word to be selected, slight correction in x1,y1,x2,y2 is done.\n",
    "\n",
    "#         rect = [float(x1)-2, 792 - float(y2)-2, float(x2)+2, 792 - float(y1)+2]\n",
    "#         print(rect)\n",
    "#         labelled_text = page.get_textbox(rect)\n",
    "\n",
    "#         #Removing all unprintable characters from the text\n",
    "#         string = re.sub('[^0-9a-zA-Z@?|\\/<>.,()&^%$#!]+', ' ', labelled_text)\n",
    "#         print('string : ', string)\n",
    "\n",
    "#         fulltext = page.get_text()\n",
    "#         doc = nlp(fulltext)\n",
    "\n",
    "#         sentences = []\n",
    "#         for sent in doc.sents:\n",
    "#             if string.strip() in sent.text:\n",
    "#                 text = re.sub('[^0-9a-zA-Z@?|\\/<>.,()&^%$#!]+', ' ', sent.text)\n",
    "\n",
    "#         res = re.search(string.strip(), text)\n",
    "\n",
    "#         entities = []\n",
    "#         entities.append((res.start(),res.end(),label))\n",
    "\n",
    "#         train_data.append((text,{'entities':entities}))\n",
    "\n",
    "# print('Training data in spacy format')\n",
    "# print('*****************************')\n",
    "# for i in range(0,len(train_data)):\n",
    "#     print(train_data[i])"
   ]
  },
  {
   "cell_type": "code",
   "execution_count": null,
   "id": "e2333dfe",
   "metadata": {
    "papermill": {
     "duration": 0.070349,
     "end_time": "2022-07-18T17:01:55.019269",
     "exception": false,
     "start_time": "2022-07-18T17:01:54.948920",
     "status": "completed"
    },
    "tags": []
   },
   "outputs": [],
   "source": []
  },
  {
   "cell_type": "code",
   "execution_count": 11,
   "id": "5fbfa657",
   "metadata": {
    "execution": {
     "iopub.execute_input": "2022-07-18T17:01:55.161368Z",
     "iopub.status.busy": "2022-07-18T17:01:55.160331Z",
     "iopub.status.idle": "2022-07-18T17:01:55.165645Z",
     "shell.execute_reply": "2022-07-18T17:01:55.166092Z",
     "shell.execute_reply.started": "2022-04-12T11:44:59.253637Z"
    },
    "papermill": {
     "duration": 0.077972,
     "end_time": "2022-07-18T17:01:55.166259",
     "exception": false,
     "start_time": "2022-07-18T17:01:55.088287",
     "status": "completed"
    },
    "tags": []
   },
   "outputs": [],
   "source": [
    "# nlp = spacy.load('en_core_web_sm')\n",
    "# train_data = []\n",
    "\n",
    "# prev_doc_id = ''\n",
    "# temp='/kaggle/working'\n",
    "# i=0\n",
    "# for data in sql_db_json:\n",
    "#     if data['type_of_selection'] == 'Text':\n",
    "#         document_id = data['document_id']\n",
    "#         x1,y1,x2,y2 = data['area'][1:-1].split(',')\n",
    "#         url = data['link']\n",
    "#         page_no = int(data['page']) - 1 \n",
    "#         label = data['entity_type']\n",
    "#         filename = url.split('/')[-1]\n",
    "    \n",
    "#         #download the file to temp folder\n",
    "#         i+=1\n",
    "#         print(i)\n",
    "#         response = requests.get(url)\n",
    "#         doc = fitz.open(stream=response.content,filetype=\"pdf\")  # any supported document type\n",
    "#         page = doc[page_no]  # we want text from this page\n",
    "#         print('page dimension - ', page.rect.width, page.rect.height)\n",
    "\n",
    "#         #The co-ordinates in the DB are image co-ords. W.r.t pdf, y1 and y2 has to be interchanged.\n",
    "#         #To ensure entire word to be selected, slight correction in x1,y1,x2,y2 is done.\n",
    "\n",
    "#         rect = [float(x1)-2, 792 - float(y2)-2, float(x2)+2, 792 - float(y1)+2]\n",
    "#         print(rect)\n",
    "#         labelled_text = page.get_textbox(rect)\n",
    "\n",
    "#         #Removing all unprintable characters from the text\n",
    "#         string = re.sub('[^0-9a-zA-Z@?|\\/<>.,()&^%$#!]+', ' ', labelled_text)\n",
    "#         print('string : ', string)\n",
    "\n",
    "#         fulltext = page.get_text()\n",
    "#         doc = nlp(fulltext)\n",
    "\n",
    "#         sentences = []\n",
    "#         for sent in doc.sents:\n",
    "#             if string.strip() in sent.text:\n",
    "#                 text = re.sub('[^0-9a-zA-Z@?|\\/<>.,()&^%$#!]+', ' ', sent.text)\n",
    "\n",
    "#         res = re.search(string.strip(), text)\n",
    "\n",
    "#         entities = []\n",
    "#         entities.append((res.start(),res.end(),label))\n",
    "\n",
    "#         train_data.append((text,{'entities':entities}))\n",
    "\n",
    "# print('Training data in spacy format')\n",
    "# print('*****************************')\n",
    "# for i in range(0,len(train_data)):\n",
    "#     print(train_data[i])"
   ]
  },
  {
   "cell_type": "code",
   "execution_count": 12,
   "id": "edde552a",
   "metadata": {
    "execution": {
     "iopub.execute_input": "2022-07-18T17:01:55.308878Z",
     "iopub.status.busy": "2022-07-18T17:01:55.308044Z",
     "iopub.status.idle": "2022-07-18T17:01:55.310283Z",
     "shell.execute_reply": "2022-07-18T17:01:55.310777Z"
    },
    "papermill": {
     "duration": 0.075922,
     "end_time": "2022-07-18T17:01:55.310951",
     "exception": false,
     "start_time": "2022-07-18T17:01:55.235029",
     "status": "completed"
    },
    "tags": []
   },
   "outputs": [],
   "source": [
    "# page dimension -  612.0 792.0\n",
    "# [70.1149, 114.82839999999999, 133.95729, 132.7034]\n",
    "# string :  Background\n",
    "# page dimension -  612.0 792.0\n",
    "# [288.55386, 144.10770000000002, 324.14685, 161.98270000000002]\n",
    "# string :  INDEX\n",
    "# Training data in spacy format\n",
    "# *****************************\n",
    "# (' 3 Background The Blue Ribbon Committee was created by the Mayor to assess various city communication methods and recommend opportunities to improve communications with residents, businesses and other organizations.', {'entities': [(3, 13, 'name')]})\n",
    "# (' 2 INDEX Background Pg. 3 Purpose Pg. 3 Process .', {'entities': [(3, 8, 'address')]})"
   ]
  },
  {
   "cell_type": "code",
   "execution_count": 13,
   "id": "a69942d9",
   "metadata": {
    "execution": {
     "iopub.execute_input": "2022-07-18T17:01:55.455555Z",
     "iopub.status.busy": "2022-07-18T17:01:55.454638Z",
     "iopub.status.idle": "2022-07-18T17:01:55.457473Z",
     "shell.execute_reply": "2022-07-18T17:01:55.456831Z",
     "shell.execute_reply.started": "2022-04-11T16:35:29.609712Z"
    },
    "papermill": {
     "duration": 0.077519,
     "end_time": "2022-07-18T17:01:55.457619",
     "exception": false,
     "start_time": "2022-07-18T17:01:55.380100",
     "status": "completed"
    },
    "tags": []
   },
   "outputs": [],
   "source": [
    "# nlp = spacy.load('en_core_web_sm')\n",
    "# outpath=r'/kaggle/input/sample-pdf/D8communications.pdf'\n",
    "# doc = fitz.open(outpath)  # any supported document type\n",
    "# page_no=3\n",
    "# page = doc[page_no-1]\n",
    "\n",
    "# x1,y1,x2,y2=(72.1149,661.2966,131.95729,675.1716)\n",
    "\n",
    "# rect = [float(x1)-2, 792 - float(y2)-2, float(x2)+2, 792 - float(y1)+2]\n",
    "# print(rect)\n",
    "# labelled_text = page.get_textbox(rect)\n",
    "# string = re.sub('[^0-9a-zA-Z@?|\\/<>.,()&^%$#!]+', ' ', labelled_text)\n",
    "# print('string : ', string)\n",
    "\n",
    "# fulltext = page.get_text()\n",
    "# doc = nlp(fulltext)\n",
    "\n",
    "# sentences = []\n",
    "# for sent in doc.sents:\n",
    "#             if string.strip() in sent.text:\n",
    "#                 text = re.sub('[^0-9a-zA-Z@?|\\/<>.,()&^%$#!]+', ' ', sent.text)\n",
    "\n",
    "#         res = re.search(string.strip(), text)\n",
    "\n",
    "#         entities = []\n",
    "#         entities.append((res.start(),res.end(),label))\n",
    "\n",
    "#         train_data.append((text,{'entities':entities}))\n",
    "\n"
   ]
  },
  {
   "cell_type": "code",
   "execution_count": 14,
   "id": "e90297aa",
   "metadata": {
    "execution": {
     "iopub.execute_input": "2022-07-18T17:01:55.601073Z",
     "iopub.status.busy": "2022-07-18T17:01:55.600314Z",
     "iopub.status.idle": "2022-07-18T17:01:55.603228Z",
     "shell.execute_reply": "2022-07-18T17:01:55.602706Z",
     "shell.execute_reply.started": "2022-04-11T16:35:41.679947Z"
    },
    "papermill": {
     "duration": 0.076082,
     "end_time": "2022-07-18T17:01:55.603386",
     "exception": false,
     "start_time": "2022-07-18T17:01:55.527304",
     "status": "completed"
    },
    "tags": []
   },
   "outputs": [],
   "source": [
    "#doc"
   ]
  },
  {
   "cell_type": "code",
   "execution_count": 15,
   "id": "b6ff9a0f",
   "metadata": {
    "execution": {
     "iopub.execute_input": "2022-07-18T17:01:55.745501Z",
     "iopub.status.busy": "2022-07-18T17:01:55.744799Z",
     "iopub.status.idle": "2022-07-18T17:01:55.748677Z",
     "shell.execute_reply": "2022-07-18T17:01:55.749214Z",
     "shell.execute_reply.started": "2022-04-11T16:35:56.010353Z"
    },
    "papermill": {
     "duration": 0.076729,
     "end_time": "2022-07-18T17:01:55.749407",
     "exception": false,
     "start_time": "2022-07-18T17:01:55.672678",
     "status": "completed"
    },
    "tags": []
   },
   "outputs": [],
   "source": [
    "# sentences = []\n",
    "# for sent in doc.sents:\n",
    "#     if string.strip() in sent.text:\n",
    "#         text = re.sub('[^0-9a-zA-Z@?|\\/<>.,()&^%$#!]+', ' ', sent.text)"
   ]
  },
  {
   "cell_type": "code",
   "execution_count": 16,
   "id": "f8b337e8",
   "metadata": {
    "execution": {
     "iopub.execute_input": "2022-07-18T17:01:55.894103Z",
     "iopub.status.busy": "2022-07-18T17:01:55.892900Z",
     "iopub.status.idle": "2022-07-18T17:01:55.902793Z",
     "shell.execute_reply": "2022-07-18T17:01:55.902026Z",
     "shell.execute_reply.started": "2022-04-11T16:39:04.736143Z"
    },
    "papermill": {
     "duration": 0.084467,
     "end_time": "2022-07-18T17:01:55.902952",
     "exception": false,
     "start_time": "2022-07-18T17:01:55.818485",
     "status": "completed"
    },
    "tags": []
   },
   "outputs": [],
   "source": [
    "# k=nlp(\"he             kenny\")\n",
    "# for sent in k.sents:\n",
    "#     print(sent)"
   ]
  },
  {
   "cell_type": "code",
   "execution_count": 17,
   "id": "95a73745",
   "metadata": {
    "execution": {
     "iopub.execute_input": "2022-07-18T17:01:56.067875Z",
     "iopub.status.busy": "2022-07-18T17:01:56.066964Z",
     "iopub.status.idle": "2022-07-18T17:01:56.070965Z",
     "shell.execute_reply": "2022-07-18T17:01:56.070364Z",
     "shell.execute_reply.started": "2022-04-11T15:09:24.391421Z"
    },
    "papermill": {
     "duration": 0.077201,
     "end_time": "2022-07-18T17:01:56.071137",
     "exception": false,
     "start_time": "2022-07-18T17:01:55.993936",
     "status": "completed"
    },
    "tags": []
   },
   "outputs": [],
   "source": [
    "# text"
   ]
  },
  {
   "cell_type": "code",
   "execution_count": 18,
   "id": "1f8ef251",
   "metadata": {
    "execution": {
     "iopub.execute_input": "2022-07-18T17:01:56.214495Z",
     "iopub.status.busy": "2022-07-18T17:01:56.213671Z",
     "iopub.status.idle": "2022-07-18T17:01:56.216474Z",
     "shell.execute_reply": "2022-07-18T17:01:56.216929Z",
     "shell.execute_reply.started": "2022-04-11T15:09:31.9599Z"
    },
    "papermill": {
     "duration": 0.075949,
     "end_time": "2022-07-18T17:01:56.217100",
     "exception": false,
     "start_time": "2022-07-18T17:01:56.141151",
     "status": "completed"
    },
    "tags": []
   },
   "outputs": [],
   "source": [
    "# res = re.search(string.strip(), text)\n",
    "# res"
   ]
  },
  {
   "cell_type": "code",
   "execution_count": 19,
   "id": "1263531a",
   "metadata": {
    "execution": {
     "iopub.execute_input": "2022-07-18T17:01:56.359393Z",
     "iopub.status.busy": "2022-07-18T17:01:56.358712Z",
     "iopub.status.idle": "2022-07-18T17:01:56.361333Z",
     "shell.execute_reply": "2022-07-18T17:01:56.360704Z",
     "shell.execute_reply.started": "2022-04-11T15:12:41.311242Z"
    },
    "papermill": {
     "duration": 0.075468,
     "end_time": "2022-07-18T17:01:56.361502",
     "exception": false,
     "start_time": "2022-07-18T17:01:56.286034",
     "status": "completed"
    },
    "tags": []
   },
   "outputs": [],
   "source": [
    "# entities = []\n",
    "# entities.append((res.start(),res.end(),'p'))"
   ]
  },
  {
   "cell_type": "code",
   "execution_count": 20,
   "id": "289bb304",
   "metadata": {
    "execution": {
     "iopub.execute_input": "2022-07-18T17:01:56.507107Z",
     "iopub.status.busy": "2022-07-18T17:01:56.506465Z",
     "iopub.status.idle": "2022-07-18T17:01:56.507780Z",
     "shell.execute_reply": "2022-07-18T17:01:56.508363Z",
     "shell.execute_reply.started": "2022-04-11T15:12:52.736619Z"
    },
    "papermill": {
     "duration": 0.076215,
     "end_time": "2022-07-18T17:01:56.508539",
     "exception": false,
     "start_time": "2022-07-18T17:01:56.432324",
     "status": "completed"
    },
    "tags": []
   },
   "outputs": [],
   "source": [
    "# entities"
   ]
  },
  {
   "cell_type": "code",
   "execution_count": 21,
   "id": "4f44db16",
   "metadata": {
    "execution": {
     "iopub.execute_input": "2022-07-18T17:01:56.650154Z",
     "iopub.status.busy": "2022-07-18T17:01:56.649465Z",
     "iopub.status.idle": "2022-07-18T17:01:56.652499Z",
     "shell.execute_reply": "2022-07-18T17:01:56.653025Z",
     "shell.execute_reply.started": "2022-04-11T15:06:11.546217Z"
    },
    "papermill": {
     "duration": 0.075472,
     "end_time": "2022-07-18T17:01:56.653197",
     "exception": false,
     "start_time": "2022-07-18T17:01:56.577725",
     "status": "completed"
    },
    "tags": []
   },
   "outputs": [],
   "source": [
    "# text"
   ]
  },
  {
   "cell_type": "code",
   "execution_count": null,
   "id": "63fb3333",
   "metadata": {
    "execution": {
     "iopub.execute_input": "2022-04-11T15:02:33.300092Z",
     "iopub.status.busy": "2022-04-11T15:02:33.299778Z",
     "iopub.status.idle": "2022-04-11T15:02:33.30711Z",
     "shell.execute_reply": "2022-04-11T15:02:33.306345Z",
     "shell.execute_reply.started": "2022-04-11T15:02:33.300061Z"
    },
    "papermill": {
     "duration": 0.068519,
     "end_time": "2022-07-18T17:01:56.791588",
     "exception": false,
     "start_time": "2022-07-18T17:01:56.723069",
     "status": "completed"
    },
    "tags": []
   },
   "outputs": [],
   "source": []
  },
  {
   "cell_type": "code",
   "execution_count": 22,
   "id": "c194648d",
   "metadata": {
    "execution": {
     "iopub.execute_input": "2022-07-18T17:01:56.933864Z",
     "iopub.status.busy": "2022-07-18T17:01:56.932449Z",
     "iopub.status.idle": "2022-07-18T17:01:56.935509Z",
     "shell.execute_reply": "2022-07-18T17:01:56.936131Z",
     "shell.execute_reply.started": "2022-04-11T16:21:02.863037Z"
    },
    "papermill": {
     "duration": 0.075269,
     "end_time": "2022-07-18T17:01:56.936298",
     "exception": false,
     "start_time": "2022-07-18T17:01:56.861029",
     "status": "completed"
    },
    "tags": []
   },
   "outputs": [],
   "source": [
    "# import spacy\n",
    "# nlp = spacy.load('en_core_web_sm')"
   ]
  },
  {
   "cell_type": "code",
   "execution_count": 23,
   "id": "9a36fdd8",
   "metadata": {
    "execution": {
     "iopub.execute_input": "2022-07-18T17:01:57.080221Z",
     "iopub.status.busy": "2022-07-18T17:01:57.079565Z",
     "iopub.status.idle": "2022-07-18T17:01:57.083935Z",
     "shell.execute_reply": "2022-07-18T17:01:57.083332Z",
     "shell.execute_reply.started": "2022-04-09T12:19:47.776612Z"
    },
    "papermill": {
     "duration": 0.076511,
     "end_time": "2022-07-18T17:01:57.084079",
     "exception": false,
     "start_time": "2022-07-18T17:01:57.007568",
     "status": "completed"
    },
    "tags": []
   },
   "outputs": [],
   "source": [
    "# !pip install PyPDF2\n",
    "# import PyPDF2\n",
    "# fhandle = open(r'/kaggle/input/sample-pdf/D8communications.pdf', 'rb')\n",
    "# pdfReader = PyPDF2.PdfFileReader(fhandle)\n",
    "# pagehandle = pdfReader.getPage(4)\n",
    "# print(pagehandle.extractText())"
   ]
  },
  {
   "cell_type": "code",
   "execution_count": 24,
   "id": "d068f5fd",
   "metadata": {
    "execution": {
     "iopub.execute_input": "2022-07-18T17:01:57.229162Z",
     "iopub.status.busy": "2022-07-18T17:01:57.228511Z",
     "iopub.status.idle": "2022-07-18T17:01:57.230649Z",
     "shell.execute_reply": "2022-07-18T17:01:57.231160Z",
     "shell.execute_reply.started": "2022-04-09T12:25:37.701467Z"
    },
    "papermill": {
     "duration": 0.075617,
     "end_time": "2022-07-18T17:01:57.231333",
     "exception": false,
     "start_time": "2022-07-18T17:01:57.155716",
     "status": "completed"
    },
    "tags": []
   },
   "outputs": [],
   "source": [
    "# !pip install pdfplumber\n",
    "# import pdfplumber\n",
    "# with pdfplumber.open(r'/kaggle/input/sample-pdf/D8communications.pdf') as pdf:\n",
    "#     first_page = pdf.pages[3]\n",
    "#     print(first_page.extract_text())"
   ]
  },
  {
   "cell_type": "code",
   "execution_count": 25,
   "id": "9f757903",
   "metadata": {
    "execution": {
     "iopub.execute_input": "2022-07-18T17:01:57.375581Z",
     "iopub.status.busy": "2022-07-18T17:01:57.374852Z",
     "iopub.status.idle": "2022-07-18T17:01:57.377473Z",
     "shell.execute_reply": "2022-07-18T17:01:57.377940Z",
     "shell.execute_reply.started": "2022-04-09T12:25:49.584635Z"
    },
    "papermill": {
     "duration": 0.076827,
     "end_time": "2022-07-18T17:01:57.378116",
     "exception": false,
     "start_time": "2022-07-18T17:01:57.301289",
     "status": "completed"
    },
    "tags": []
   },
   "outputs": [],
   "source": [
    "# !pip install pytesseract"
   ]
  },
  {
   "cell_type": "code",
   "execution_count": 26,
   "id": "5ff25a86",
   "metadata": {
    "execution": {
     "iopub.execute_input": "2022-07-18T17:01:57.522575Z",
     "iopub.status.busy": "2022-07-18T17:01:57.521871Z",
     "iopub.status.idle": "2022-07-18T17:01:57.524664Z",
     "shell.execute_reply": "2022-07-18T17:01:57.524121Z",
     "shell.execute_reply.started": "2022-04-09T14:49:10.656812Z"
    },
    "papermill": {
     "duration": 0.07582,
     "end_time": "2022-07-18T17:01:57.524815",
     "exception": false,
     "start_time": "2022-07-18T17:01:57.448995",
     "status": "completed"
    },
    "tags": []
   },
   "outputs": [],
   "source": [
    "# #!pip install pdf2image\n",
    "# !pip install poppler"
   ]
  },
  {
   "cell_type": "code",
   "execution_count": 27,
   "id": "adc184cc",
   "metadata": {
    "execution": {
     "iopub.execute_input": "2022-07-18T17:01:57.666927Z",
     "iopub.status.busy": "2022-07-18T17:01:57.666232Z",
     "iopub.status.idle": "2022-07-18T17:01:57.667970Z",
     "shell.execute_reply": "2022-07-18T17:01:57.668579Z",
     "shell.execute_reply.started": "2022-04-09T14:57:24.756677Z"
    },
    "papermill": {
     "duration": 0.074901,
     "end_time": "2022-07-18T17:01:57.668751",
     "exception": false,
     "start_time": "2022-07-18T17:01:57.593850",
     "status": "completed"
    },
    "tags": []
   },
   "outputs": [],
   "source": [
    "# pdf2image.convert_from_path('/kaggle/input/sample-pdf/D8communications.pdf')"
   ]
  },
  {
   "cell_type": "code",
   "execution_count": 28,
   "id": "9a86c44f",
   "metadata": {
    "execution": {
     "iopub.execute_input": "2022-07-18T17:01:57.810612Z",
     "iopub.status.busy": "2022-07-18T17:01:57.809914Z",
     "iopub.status.idle": "2022-07-18T17:01:57.813914Z",
     "shell.execute_reply": "2022-07-18T17:01:57.814495Z",
     "shell.execute_reply.started": "2022-04-09T14:57:17.576149Z"
    },
    "papermill": {
     "duration": 0.077149,
     "end_time": "2022-07-18T17:01:57.814666",
     "exception": false,
     "start_time": "2022-07-18T17:01:57.737517",
     "status": "completed"
    },
    "tags": []
   },
   "outputs": [],
   "source": [
    "# import pdf2image\n",
    "# try:\n",
    "#     from PIL import Image\n",
    "# except ImportError:\n",
    "#     import Image\n",
    "# import pytesseract\n",
    "\n",
    "\n",
    "# def pdf_to_img(pdf_file):\n",
    "#     return pdf2image.convert_from_path(pdf_file)\n",
    "\n",
    "\n",
    "# def ocr_core(file):\n",
    "#     text = pytesseract.image_to_string(file)\n",
    "#     return text\n",
    "\n",
    "\n",
    "# def print_pages(pdf_file):\n",
    "#     images = pdf_to_img(pdf_file)\n",
    "#     for pg, img in enumerate(images):\n",
    "#         print(ocr_core(img))\n",
    "\n",
    "\n",
    "# print_pages('/kaggle/input/sample-pdf/D8communications.pdf')\n"
   ]
  },
  {
   "cell_type": "code",
   "execution_count": 29,
   "id": "06e3a0e1",
   "metadata": {
    "execution": {
     "iopub.execute_input": "2022-07-18T17:01:57.957729Z",
     "iopub.status.busy": "2022-07-18T17:01:57.957040Z",
     "iopub.status.idle": "2022-07-18T17:01:57.961890Z",
     "shell.execute_reply": "2022-07-18T17:01:57.962406Z"
    },
    "papermill": {
     "duration": 0.077912,
     "end_time": "2022-07-18T17:01:57.962594",
     "exception": false,
     "start_time": "2022-07-18T17:01:57.884682",
     "status": "completed"
    },
    "tags": []
   },
   "outputs": [],
   "source": [
    "# import requests\n",
    "# import fitz\n",
    "# import io\n",
    "\n",
    "# #URL = 'https://buildmedia.readthedocs.org/media/pdf/pdfminer-docs/latest/pdfminer-docs.pdf'\n",
    "# URL = 'https://redactable-devox-stage.s3.us-east-2.amazonaws.com/tenants/41d9e109-693b-444c-aa18-e5891bc6550b/original/1a7c0e5d-3237-4ca9-9e3d-89e707245ac6/D8communications.pdf'\n",
    "\n",
    "\n",
    "# res = requests.get(URL)\n",
    "# filestream = io.BytesIO(res.content)\n",
    "# #res.content\n",
    "# filestream\n",
    "# doc = fitz.Document(stream=filestream)\n",
    "# page1 = doc.loadPage(3)\n",
    "# page1text = page1.getText(\"text\").encode(\"utf-8\").decode(\"utf-8\")\n",
    "# print(page1text)"
   ]
  },
  {
   "cell_type": "code",
   "execution_count": 30,
   "id": "02692112",
   "metadata": {
    "execution": {
     "iopub.execute_input": "2022-07-18T17:01:58.107018Z",
     "iopub.status.busy": "2022-07-18T17:01:58.106298Z",
     "iopub.status.idle": "2022-07-18T17:01:58.109192Z",
     "shell.execute_reply": "2022-07-18T17:01:58.108640Z",
     "shell.execute_reply.started": "2022-04-09T07:04:56.590103Z"
    },
    "papermill": {
     "duration": 0.077519,
     "end_time": "2022-07-18T17:01:58.109353",
     "exception": false,
     "start_time": "2022-07-18T17:01:58.031834",
     "status": "completed"
    },
    "tags": []
   },
   "outputs": [],
   "source": [
    "# import requests\n",
    "# import fitz\n",
    "\n",
    "# #URL = 'https://buildmedia.readthedocs.org/media/pdf/pdfminer-docs/latest/pdfminer-docs.pdf'\n",
    "# URL = 'https://redactable-devox-stage.s3.us-east-2.amazonaws.com/tenants/41d9e109-693b-444c-aa18-e5891bc6550b/original/1a7c0e5d-3237-4ca9-9e3d-89e707245ac6/D8communications.pdf'\n",
    "\n",
    "\n",
    "# res = requests.get(URL)\n",
    "# doc = fitz.open(stream=res.content,filetype=\"pdf\")\n",
    "# page1 = doc.loadPage(3)\n",
    "# page1text = page1.getText(\"text\")\n",
    "# #rect = (72.1149,661.2966,131.95729,675.1716)\n",
    "# rect=(72.10812377929688, 116.13427734375, 133.97142028808594, 146.4227294921875)\n",
    "# labelled_text = page1.get_textbox(rect)\n",
    "# print(labelled_text.strip())\n",
    "\n",
    "# fulltext = page1.get_text()\n",
    "# print(fulltext)\n",
    "# doc = nlp(fulltext)\n",
    "# sentences = []\n",
    "# for sent in doc.sents:\n",
    "#     if labelled_text in sent.text:\n",
    "#         text = sent.text\n",
    "#         print(text)\n",
    "# #print(page1text)"
   ]
  },
  {
   "cell_type": "code",
   "execution_count": 31,
   "id": "a85517ce",
   "metadata": {
    "execution": {
     "iopub.execute_input": "2022-07-18T17:01:58.256077Z",
     "iopub.status.busy": "2022-07-18T17:01:58.255397Z",
     "iopub.status.idle": "2022-07-18T17:01:58.259119Z",
     "shell.execute_reply": "2022-07-18T17:01:58.259668Z",
     "shell.execute_reply.started": "2022-04-08T16:42:57.6659Z"
    },
    "papermill": {
     "duration": 0.078757,
     "end_time": "2022-07-18T17:01:58.259844",
     "exception": false,
     "start_time": "2022-07-18T17:01:58.181087",
     "status": "completed"
    },
    "tags": []
   },
   "outputs": [],
   "source": [
    "#res.content"
   ]
  },
  {
   "cell_type": "code",
   "execution_count": 32,
   "id": "3e2c28da",
   "metadata": {
    "execution": {
     "iopub.execute_input": "2022-07-18T17:01:58.407230Z",
     "iopub.status.busy": "2022-07-18T17:01:58.406547Z",
     "iopub.status.idle": "2022-07-18T17:01:58.410130Z",
     "shell.execute_reply": "2022-07-18T17:01:58.410672Z",
     "shell.execute_reply.started": "2022-04-08T16:48:05.672392Z"
    },
    "papermill": {
     "duration": 0.075999,
     "end_time": "2022-07-18T17:01:58.410848",
     "exception": false,
     "start_time": "2022-07-18T17:01:58.334849",
     "status": "completed"
    },
    "tags": []
   },
   "outputs": [],
   "source": [
    "# import fitz\n",
    "# # mem_area=\n",
    "# # doc = fitz.open(stream=mem_area, filetype=\"pdf\")\n",
    "\n",
    "# import requests\n",
    "\n",
    "# URL = 'https://redactable-devox-stage.s3.us-east-2.amazonaws.com/tenants/41d9e109-693b-444c-aa18-e5891bc6550b/original/1a7c0e5d-3237-4ca9-9e3d-89e707245ac6/D8communications.pdf'\n",
    "\n",
    "# #res = requests.get(URL)\n",
    "# doc=fitz.open(\"/kaggle/input/sample-pdf/D8communications.pdf\")\n",
    "# #doc = fitz.open(stream=res.content,filetype=\"pdf\")\n",
    "# page1 = doc.loadPage(4)\n",
    "# # page1text = page1.getText(\"text\")\n",
    "# # print(page1text)\n",
    "# blocks = page1.getText(\"blocks\")\n",
    "# blocks.sort(key=lambda block: block[1])  # sort vertically ascending\n",
    "\n",
    "# for b in blocks:\n",
    "#     print(b[4])\n"
   ]
  },
  {
   "cell_type": "code",
   "execution_count": 33,
   "id": "cb7c8a51",
   "metadata": {
    "execution": {
     "iopub.execute_input": "2022-07-18T17:01:58.555783Z",
     "iopub.status.busy": "2022-07-18T17:01:58.554680Z",
     "iopub.status.idle": "2022-07-18T17:01:58.558245Z",
     "shell.execute_reply": "2022-07-18T17:01:58.558739Z",
     "shell.execute_reply.started": "2022-04-08T16:48:13.086323Z"
    },
    "papermill": {
     "duration": 0.07642,
     "end_time": "2022-07-18T17:01:58.558910",
     "exception": false,
     "start_time": "2022-07-18T17:01:58.482490",
     "status": "completed"
    },
    "tags": []
   },
   "outputs": [],
   "source": [
    "# # page = doc[1]\n",
    "# words = page.get_text(\"words\")\n",
    "# #print(words)\n",
    "# rect = (72.1149,661.2966,131.95729,675.1716)\n",
    "\n",
    "# labelled_text = page.get_textbox(rect)\n",
    "# # labelled_text"
   ]
  },
  {
   "cell_type": "markdown",
   "id": "88e88d5d",
   "metadata": {
    "papermill": {
     "duration": 0.069923,
     "end_time": "2022-07-18T17:01:58.698031",
     "exception": false,
     "start_time": "2022-07-18T17:01:58.628108",
     "status": "completed"
    },
    "tags": []
   },
   "source": [
    "pip install PyPDF2"
   ]
  },
  {
   "cell_type": "code",
   "execution_count": null,
   "id": "54ff3b9a",
   "metadata": {
    "papermill": {
     "duration": 0.068876,
     "end_time": "2022-07-18T17:01:58.836546",
     "exception": false,
     "start_time": "2022-07-18T17:01:58.767670",
     "status": "completed"
    },
    "tags": []
   },
   "outputs": [],
   "source": []
  },
  {
   "cell_type": "code",
   "execution_count": 34,
   "id": "ed163d7c",
   "metadata": {
    "execution": {
     "iopub.execute_input": "2022-07-18T17:01:58.980573Z",
     "iopub.status.busy": "2022-07-18T17:01:58.979889Z",
     "iopub.status.idle": "2022-07-18T17:01:58.983111Z",
     "shell.execute_reply": "2022-07-18T17:01:58.983648Z",
     "shell.execute_reply.started": "2022-03-18T16:48:58.370268Z"
    },
    "papermill": {
     "duration": 0.075405,
     "end_time": "2022-07-18T17:01:58.983824",
     "exception": false,
     "start_time": "2022-07-18T17:01:58.908419",
     "status": "completed"
    },
    "tags": []
   },
   "outputs": [],
   "source": [
    "# import pandas as pd\n",
    "# h={'step': 0, 'type': 'string', 'amount': 0.0, 'nameOrig': 'C1231006815', 'oldbalanceOrig': 0.0, 'newbalanceOrig': 0.0, 'nameDest': 'M1979787155', 'oldbalanceDest': 0.0, 'newbalanceDest': 0.0}\n",
    "# df=pd.DataFrame([h])"
   ]
  },
  {
   "cell_type": "code",
   "execution_count": 35,
   "id": "3885a026",
   "metadata": {
    "execution": {
     "iopub.execute_input": "2022-07-18T17:01:59.127068Z",
     "iopub.status.busy": "2022-07-18T17:01:59.126462Z",
     "iopub.status.idle": "2022-07-18T17:01:59.129159Z",
     "shell.execute_reply": "2022-07-18T17:01:59.129763Z",
     "shell.execute_reply.started": "2022-04-09T17:21:26.021615Z"
    },
    "papermill": {
     "duration": 0.075713,
     "end_time": "2022-07-18T17:01:59.129929",
     "exception": false,
     "start_time": "2022-07-18T17:01:59.054216",
     "status": "completed"
    },
    "tags": []
   },
   "outputs": [],
   "source": [
    "#df"
   ]
  },
  {
   "cell_type": "code",
   "execution_count": null,
   "id": "9f20b535",
   "metadata": {
    "papermill": {
     "duration": 0.068593,
     "end_time": "2022-07-18T17:01:59.267828",
     "exception": false,
     "start_time": "2022-07-18T17:01:59.199235",
     "status": "completed"
    },
    "tags": []
   },
   "outputs": [],
   "source": []
  }
 ],
 "metadata": {
  "kernelspec": {
   "display_name": "Python 3",
   "language": "python",
   "name": "python3"
  },
  "language_info": {
   "codemirror_mode": {
    "name": "ipython",
    "version": 3
   },
   "file_extension": ".py",
   "mimetype": "text/x-python",
   "name": "python",
   "nbconvert_exporter": "python",
   "pygments_lexer": "ipython3",
   "version": "3.7.12"
  },
  "papermill": {
   "default_parameters": {},
   "duration": 24.527333,
   "end_time": "2022-07-18T17:01:59.947421",
   "environment_variables": {},
   "exception": null,
   "input_path": "__notebook__.ipynb",
   "output_path": "__notebook__.ipynb",
   "parameters": {},
   "start_time": "2022-07-18T17:01:35.420088",
   "version": "2.3.3"
  }
 },
 "nbformat": 4,
 "nbformat_minor": 5
}
