{
 "cells": [
  {
   "cell_type": "code",
   "execution_count": 1,
   "id": "159f2b38",
   "metadata": {
    "_cell_guid": "b1076dfc-b9ad-4769-8c92-a6c4dae69d19",
    "_uuid": "8f2839f25d086af736a60e9eeb907d3b93b6e0e5",
    "execution": {
     "iopub.execute_input": "2022-04-24T17:26:10.140058Z",
     "iopub.status.busy": "2022-04-24T17:26:10.138691Z",
     "iopub.status.idle": "2022-04-24T17:26:10.154814Z",
     "shell.execute_reply": "2022-04-24T17:26:10.155501Z",
     "shell.execute_reply.started": "2022-04-12T14:12:25.248687Z"
    },
    "papermill": {
     "duration": 0.089715,
     "end_time": "2022-04-24T17:26:10.155836",
     "exception": false,
     "start_time": "2022-04-24T17:26:10.066121",
     "status": "completed"
    },
    "tags": []
   },
   "outputs": [
    {
     "name": "stdout",
     "output_type": "stream",
     "text": [
      "/kaggle/input/sample-pdf/D8communications.pdf\n"
     ]
    }
   ],
   "source": [
    "# This Python 3 environment comes with many helpful analytics libraries installed\n",
    "# It is defined by the kaggle/python Docker image: https://github.com/kaggle/docker-python\n",
    "# For example, here's several helpful packages to load\n",
    "\n",
    "import numpy as np # linear algebra\n",
    "import pandas as pd # data processing, CSV file I/O (e.g. pd.read_csv)\n",
    "\n",
    "# Input data files are available in the read-only \"../input/\" directory\n",
    "# For example, running this (by clicking run or pressing Shift+Enter) will list all files under the input directory\n",
    "\n",
    "import os\n",
    "for dirname, _, filenames in os.walk('/kaggle/input'):\n",
    "    for filename in filenames:\n",
    "        print(os.path.join(dirname, filename))\n",
    "\n",
    "# You can write up to 20GB to the current directory (/kaggle/working/) that gets preserved as output when you create a version using \"Save & Run All\" \n",
    "# You can also write temporary files to /kaggle/temp/, but they won't be saved outside of the current session"
   ]
  },
  {
   "cell_type": "markdown",
   "id": "12c4653b",
   "metadata": {
    "papermill": {
     "duration": 0.06309,
     "end_time": "2022-04-24T17:26:10.283447",
     "exception": false,
     "start_time": "2022-04-24T17:26:10.220357",
     "status": "completed"
    },
    "tags": []
   },
   "source": [
    "# **Start Date: 12/3/2022**"
   ]
  },
  {
   "cell_type": "markdown",
   "id": "77ba3346",
   "metadata": {
    "papermill": {
     "duration": 0.06374,
     "end_time": "2022-04-24T17:26:10.412683",
     "exception": false,
     "start_time": "2022-04-24T17:26:10.348943",
     "status": "completed"
    },
    "tags": []
   },
   "source": [
    "# **Day 1:** \n",
    "<br>dataquest -> stats -> probability-> estimating probability\n",
    "1. out come is nothing but o/p of an experiment\n",
    "ex: whatever u get after rolling a dice -> it can be any number\n",
    "2. event can have more than one outcome\n",
    "- e.x: The event that we'll get an odd number when we roll a six-sided die — this event includes the outcomes 1, 3, and 5.\n",
    "- an event can be 0 as well.\n",
    "- We always assign probabilities to events, not outcomes, even if the event includes only one outcome.\n",
    "- P(E) =1/total number of possible outcomes, P(E) probability of an event happening.\n",
    "- but above formula doesn't work always, especially when there are more than one outcome\n",
    "    - P(E)=number of successful outcomes/total number of possible outcomes\n",
    "- incase of a biased situation \n",
    "  - let's say a die has 6 - 3 times which is 1,6,3,5,6,6\n",
    "    we will consider 6 as 3 times not 1.\n",
    "    possible outcome-> 1,3,5,6,6,6\n",
    "    prob(6)=3/6\n",
    "    prob(3)=1/6\n",
    "    prob(2)=0/6\n",
    "    If we didn't treat each 6 differently and said it doesn't matter which side a 6 is on, \n",
    "    <br>we'd be forced to conclude the only possible outcomes are 1, 3, 5 and 6. We can definitely         <br>frame the problem like that, but the formula above won't work anymore — we see below P(6) <br>becomes the same as P(3), but, intuitively, P(6) should be higher than P(3) since the die has 6 on     <br>three of its sides:\n"
   ]
  },
  {
   "cell_type": "markdown",
   "id": "3a6ce3ae",
   "metadata": {
    "papermill": {
     "duration": 0.065054,
     "end_time": "2022-04-24T17:26:10.543824",
     "exception": false,
     "start_time": "2022-04-24T17:26:10.478770",
     "status": "completed"
    },
    "tags": []
   },
   "source": [
    "Estimating Probabilities Conclusion\n",
    "- emperical/ experimental probability\n",
    "  - probability achieved by experimenting / by doing the same event multiple times.\n",
    "  - Generally, for any event E (like a coin landing heads up), we can find its empirical probability   \n",
    "     by using the following formula: \n",
    "     •P (E) =number of times event E happened/ number of times we repeated the experiment   \n",
    " - Generally, the empirical probability of an event (a coin landing heads up, getting a 5 when weroll a die) approaches the true probability value as the number of trials of the randomexperiment (a coin toss, the rolling of a die) increases without bound.\n",
    "- When we calculate the probability of an event under the assumption that the outcomes have equal chances of occurring, we say that we're calculating the **theoretical probability** of an event.\n",
    "   - P(E)=number of successful outcomes/total number of possible outcomes\n",
    "\n"
   ]
  },
  {
   "cell_type": "markdown",
   "id": "cb21828a",
   "metadata": {
    "papermill": {
     "duration": 0.062738,
     "end_time": "2022-04-24T17:26:10.670061",
     "exception": false,
     "start_time": "2022-04-24T17:26:10.607323",
     "status": "completed"
    },
    "tags": []
   },
   "source": [
    "# **Day 2**\n",
    "<br>dataquest-> stats -> intro to probability -> probability rules\n",
    "<br>In probability theory, the set of all possible outcomes is called a sample space. A sample space is often denoted by the capital Greek letter Ω (read \"omega\"). This is how we represent the sample space of a die roll:\n",
    "\n",
    "Ω = {1,2,3,4,5,6}\n",
    "-    The probability of any event ranges between 0 and 1: 0≤ P(Event) ≤1\n",
    "- To calculate P(A or B), we can also use the formula below, which is sometimes called the addition rule: P(A or B) = P(A) + P(B)\n",
    "  - Sample space ={ 1,2,3,4,5,6} \n",
    "  - P(2 or 5) = 2/6\n",
    "\n",
    "- P(C or D) = P(C) + P(D) - P(C and D)\n",
    "   - e.x : Sample_space ={2,4,6} + { 4,5,6} - {4/6}\n",
    "      P( even number or number greater than 3) = ( (3/6) + (3/6) )- (2/6) = 4/6\n",
    "- Events that don't intersect are called mutually exclusive.\n",
    "  - e.x: Getting a 5 (event one) and getting a 3 (event two) when we roll a regular six-sided die — it's  impossible to get both a 5 and 3.\n",
    "- Events that intersect are called mutually non-exclusive.\n",
    "  - Getting a number greater than 2 (event one) and getting an odd number (event two) when we roll a regular six-sided die — we could get a 5, which is both greater than 2 (event one) and odd (event two).\n",
    "- unioun -> A or B, intersection -> A and B"
   ]
  },
  {
   "cell_type": "markdown",
   "id": "441235c0",
   "metadata": {
    "papermill": {
     "duration": 0.062564,
     "end_time": "2022-04-24T17:26:10.795944",
     "exception": false,
     "start_time": "2022-04-24T17:26:10.733380",
     "status": "completed"
    },
    "tags": []
   },
   "source": [
    "# Day 3 and 4\n",
    "dataquest -> stats -> probabilities -> solving complex probabilities\n",
    "- This is the same result we got from our previous approach. In more general terms, the multiplication rule says that for two events E1 and E2, the probability that both event E1 and E2 happen can be found by multiplying the probability of E1 by the probability of E2:\n",
    "    - P(E1 ∩ E2) = P(E1) × P(E2)\n",
    "    - Events that don't influence each other's probability are called independent events. If H1 happens, P(H2) stays the same, so H1 and H2 are independent. The multiplication rule we learned only works for independent events.\n",
    "    "
   ]
  },
  {
   "cell_type": "markdown",
   "id": "da525d28",
   "metadata": {
    "papermill": {
     "duration": 0.063735,
     "end_time": "2022-04-24T17:26:10.923163",
     "exception": false,
     "start_time": "2022-04-24T17:26:10.859428",
     "status": "completed"
    },
    "tags": []
   },
   "source": [
    "# Day 5\n",
    "- When we replace the cards after drawing, we say that we're sampling with replacement. When we don't put the cards back, we're sampling without replacement. \n"
   ]
  },
  {
   "cell_type": "markdown",
   "id": "181d7363",
   "metadata": {
    "papermill": {
     "duration": 0.064893,
     "end_time": "2022-04-24T17:26:11.053362",
     "exception": false,
     "start_time": "2022-04-24T17:26:10.988469",
     "status": "completed"
    },
    "tags": []
   },
   "source": [
    "# Day6\n",
    "dataquest-> prob and stats -> probability fundamentals -> permutation and combinations\n",
    "Generally, if we have an experiment E1 (like flipping a coin) with a outcomes, followed by an experiment E2 (like rolling a die) with b outcomes, then the total number of outcomes for the composite experiment E1E2 can be found by multiplying a with b:\n",
    "\n",
    "Number of outcomes = a * b"
   ]
  },
  {
   "cell_type": "markdown",
   "id": "0b21d47d",
   "metadata": {
    "papermill": {
     "duration": 0.067894,
     "end_time": "2022-04-24T17:26:11.186708",
     "exception": false,
     "start_time": "2022-04-24T17:26:11.118814",
     "status": "completed"
    },
    "tags": []
   },
   "source": [
    "# Day 7\n",
    "dataquest-> prob and stats -> probability fundamentals -> permutation and combinations <br>\n",
    "More generally, if we have an experiment E1 with a outcomes, followed by an experiment E2 with b outcomes, followed by an experiment En with z outcomes, the total number of outcomes for the composite experiment E1E2 ... En can be found by multiplying their individual outcomes:\n",
    "\n",
    "Number of outcomes= a * b * … * z"
   ]
  },
  {
   "cell_type": "markdown",
   "id": "22474a00",
   "metadata": {
    "papermill": {
     "duration": 0.063538,
     "end_time": "2022-04-24T17:26:11.314461",
     "exception": false,
     "start_time": "2022-04-24T17:26:11.250923",
     "status": "completed"
    },
    "tags": []
   },
   "source": [
    "# Day 8\n",
    "dataquest-> prob and stats -> probability fundamentals -> permutation and combinations <br>\n",
    "permutations= n*(n-1)*(n-2)*....*2*1\n"
   ]
  },
  {
   "cell_type": "markdown",
   "id": "0b90935e",
   "metadata": {
    "papermill": {
     "duration": 0.063664,
     "end_time": "2022-04-24T17:26:11.442230",
     "exception": false,
     "start_time": "2022-04-24T17:26:11.378566",
     "status": "completed"
    },
    "tags": []
   },
   "source": [
    "# Day 9\n",
    "dataquest-> prob and stats -> probability fundamentals -> permutation and combinations\n",
    "- in permutation order of the individual element in the arranement matters.\n",
    "   - for e.x: 9821 is different than 9281\n",
    "   - Permutations =n!  --> sample without replacement-> we are not putting back the sampled data.\n",
    "   - On the last screen, we learned to use the formula below to calculate permutations when we're sampling without replacement and taking only k objects from a group of n objects:\n",
    "   npk=n!/(n-k)!"
   ]
  },
  {
   "cell_type": "markdown",
   "id": "12a93bf6",
   "metadata": {
    "papermill": {
     "duration": 0.065843,
     "end_time": "2022-04-24T17:26:11.571567",
     "exception": false,
     "start_time": "2022-04-24T17:26:11.505724",
     "status": "completed"
    },
    "tags": []
   },
   "source": [
    "# Day 10\n",
    "dataquest-> prob and stats -> probability fundamentals -> permutation and combinations\n",
    "- More generally, if the order of the elements in an arrangement doesn't matter, the arrangement is called a combination.\n",
    "- e.x: cards in a deck \n",
    "- nCk = n! / ((n-k)!*k!)"
   ]
  },
  {
   "cell_type": "markdown",
   "id": "3d941b16",
   "metadata": {
    "papermill": {
     "duration": 0.063237,
     "end_time": "2022-04-24T17:26:11.698605",
     "exception": false,
     "start_time": "2022-04-24T17:26:11.635368",
     "status": "completed"
    },
    "tags": []
   },
   "source": [
    "# Day 11\n",
    "dataquest-> prob and stats -> probability fundamentals -> permutation and combinations\n",
    "- solved 1 probability problem.\n"
   ]
  },
  {
   "cell_type": "markdown",
   "id": "7e399412",
   "metadata": {
    "papermill": {
     "duration": 0.063043,
     "end_time": "2022-04-24T17:26:11.825237",
     "exception": false,
     "start_time": "2022-04-24T17:26:11.762194",
     "status": "completed"
    },
    "tags": []
   },
   "source": [
    "# Day 12\n",
    "dataquest-> prob and stats -> probability fundamentals -> permutation and combinations\n",
    "- finished probability and permutations by revising them.\n",
    "- If we have an experiment E1 (like flipping a coin) with a outcomes, followed by an experiment E2(like rolling a die) with b outcomes, then the total number of outcomes for the compositeexperiment E1E2 can be found by multiplying a with b (this is known as the rule of product):\n",
    "  - number of outcomes = a*b\n",
    "- If we have an experiment E1 with a outcomes, followed by an experiment E2 with b outcomes,followed by an experiment En with z outcomes, the total number of outcomes for the compositeexperiment E1E2 ... En can be found by multiplying their individual outcomes:\n",
    "   - number of outcomes = a*b* ... *z\n",
    "- There are two kinds of arrangements:\n",
    "   - •Arrangements where the order matters, which we call permutations.\n",
    "   - •Arrangements where the order doesn't matter, which we call combination\n",
    "- To find the number of permutations when we're sampling without replacement, we can use theformula:\n",
    "  - permutation = n!\n",
    "- To find the number of permutations when we're sampling without replacement and taking only kobjects from a group of n objects, we can use the formula:\n",
    "  - nPk = n!/(n-k)!\n",
    "- To find the number of combinations when we're sampling without replacement and taking only kobjects from a group of n objects, we can use the formula\n",
    "  - nCk = n! / ((n-k)!*k!)"
   ]
  },
  {
   "cell_type": "markdown",
   "id": "cfa3e3f2",
   "metadata": {
    "papermill": {
     "duration": 0.064507,
     "end_time": "2022-04-24T17:26:11.953210",
     "exception": false,
     "start_time": "2022-04-24T17:26:11.888703",
     "status": "completed"
    },
    "tags": []
   },
   "source": [
    "# Day 13\n",
    "dataquest-> prob and stats -> probability fundamentals -> conditional probabilities\n",
    "- first 2 slides -> mainly the recap of old chapter(above one).\n"
   ]
  },
  {
   "cell_type": "markdown",
   "id": "0680e95c",
   "metadata": {
    "papermill": {
     "duration": 0.063821,
     "end_time": "2022-04-24T17:26:12.083139",
     "exception": false,
     "start_time": "2022-04-24T17:26:12.019318",
     "status": "completed"
    },
    "tags": []
   },
   "source": [
    "# Day 14\n",
    "dataquest-> prob and stats -> probability fundamentals -> conditional probabilities\n",
    "<br>slide 4 completed\n",
    "<br>conditional probabilities\n",
    "- probabilities with condition\n",
    "- P(5)=What is the probability of getting a 5? -> normal probability\n",
    "- P(5 | odd) =What is the probability of getting a 5 given the die showed an odd number? -> conditional prob.\n",
    "\n"
   ]
  },
  {
   "cell_type": "markdown",
   "id": "389a75ea",
   "metadata": {
    "papermill": {
     "duration": 0.063073,
     "end_time": "2022-04-24T17:26:12.209768",
     "exception": false,
     "start_time": "2022-04-24T17:26:12.146695",
     "status": "completed"
    },
    "tags": []
   },
   "source": [
    "# Day 15\n",
    "dataquest-> prob and stats -> probability fundamentals -> conditional probabilities\n",
    "- on slide 5 not done yet.\n",
    "\n",
    "Say we roll a fair six-sided die and want to find the probability of getting an odd number, given the die showed a number greater than 1 after landing. Using probability notation, we want to find P(A|B) where:\n",
    "\n",
    "- A is the event that the number is odd: A = {1, 3, 5}\n",
    "- B is the event that the number is greater than 1: B = {2, 3, 4, 5, 6}\n",
    "- P(A/B)=number of succesfull outcomes / total number of outcomes.\n"
   ]
  },
  {
   "cell_type": "markdown",
   "id": "027fd4e8",
   "metadata": {
    "papermill": {
     "duration": 0.062815,
     "end_time": "2022-04-24T17:26:12.336141",
     "exception": false,
     "start_time": "2022-04-24T17:26:12.273326",
     "status": "completed"
    },
    "tags": []
   },
   "source": [
    "# Day 16 and 17\n",
    "dataquest-> prob and stats -> probability fundamentals -> conditional probabilities\n",
    "\n",
    "on slide 6 not done yet."
   ]
  },
  {
   "cell_type": "markdown",
   "id": "a1475210",
   "metadata": {
    "papermill": {
     "duration": 0.065211,
     "end_time": "2022-04-24T17:26:12.465507",
     "exception": false,
     "start_time": "2022-04-24T17:26:12.400296",
     "status": "completed"
    },
    "tags": []
   },
   "source": [
    "# Day 18\n",
    "dataquest-> prob and stats -> probability fundamentals -> conditional probabilities\n",
    "<br>slide 5 code half done"
   ]
  },
  {
   "cell_type": "markdown",
   "id": "39eb5164",
   "metadata": {
    "papermill": {
     "duration": 0.065098,
     "end_time": "2022-04-24T17:26:12.594357",
     "exception": false,
     "start_time": "2022-04-24T17:26:12.529259",
     "status": "completed"
    },
    "tags": []
   },
   "source": [
    "# Day 19\n",
    "- The number of elements in a set is called the cardinal of the set. \n",
    "  Ω is a set, and the cardinal of \n",
    "   Ω = { 2,3,4,5,6}\n",
    "   cardinal(Ω)=5\n",
    "- P(A | B) = card(A ∩ B) / card(B)\n",
    "- Say we roll a fair six-sided die and want to find the probability of getting an odd number, given the die showed a number greater than 1 after landing. Using probability notation, we want to find P(A|B) where:\n",
    "    - A is the event that the number is odd: A = {1, 3, 5}\n",
    "     - B is the event that the number is greater than 1: B = {2, 3, 4, 5, 6}\n",
    "     - total number of possible outcomes = card({2,3,4,5,6}) =5\n",
    "     - number of successful outcomes = card({3,5})= 2\n",
    "- P(A | B) = card(A ∩ B) / card(B), we can also get the same result using P(A | B) = prob(A ∩ B) / prob(B)\n",
    "\n",
    "     "
   ]
  },
  {
   "cell_type": "markdown",
   "id": "ca1b6bab",
   "metadata": {
    "papermill": {
     "duration": 0.063871,
     "end_time": "2022-04-24T17:26:12.721730",
     "exception": false,
     "start_time": "2022-04-24T17:26:12.657859",
     "status": "completed"
    },
    "tags": []
   },
   "source": [
    "# Day 20\n",
    "dataquest-> prob and stats -> probability fundamentals -> conditional probabilities intermediate\n",
    "<br> slide 1 and 2\n",
    "- P( A | B ) ≠ P(A ∩ B), but rather:\n",
    "   - P(A | B) = P(A ∩ B) / P(B)\n",
    "   - P(A ∩ B) = P(A | B) ⋅ P(B)\n",
    "- Given that a customer bought a laptop, they will or will not also buy a mouse. This means we can be certain that either event (M|L) or (M^C|L) will happen:\n",
    "     - P(M | L) + P(M^C | L) = 1\n",
    "\n"
   ]
  },
  {
   "cell_type": "markdown",
   "id": "bb8e559f",
   "metadata": {
    "papermill": {
     "duration": 0.064012,
     "end_time": "2022-04-24T17:26:12.850924",
     "exception": false,
     "start_time": "2022-04-24T17:26:12.786912",
     "status": "completed"
    },
    "tags": []
   },
   "source": [
    "# Day 21\n",
    "dataquest-> prob and stats -> probability fundamentals -> conditional probabilities intermediate\n",
    "slide 1 and 2\n",
    "- P(A ∩ B) = P(B ∩ A)\n",
    "- multiplication rule of probability\n",
    "  -  P(A ∩ B) = P(B) ⋅ P(A | B) \n",
    "  - P(A ∩ B) = P(A) ⋅ P(B | A)\n",
    "- if P(A) and P(B) are statistically independent then \n",
    "  - P(A ∩ B) = P(A) ⋅ P(B)\n",
    "\n"
   ]
  },
  {
   "cell_type": "markdown",
   "id": "154d609d",
   "metadata": {
    "papermill": {
     "duration": 0.063832,
     "end_time": "2022-04-24T17:26:12.978641",
     "exception": false,
     "start_time": "2022-04-24T17:26:12.914809",
     "status": "completed"
    },
    "tags": []
   },
   "source": [
    "# Day 22\n",
    "dataquest-> prob and stats -> probability fundamentals -> conditional probabilities intermediate \n",
    "<br>slide 6\n",
    "- If events events A and B are dependent, it means the occurrence of event A changes the probability of event B and vice versa.\n",
    "   - P(A) ≠ P(A | B)\n",
    "   - P(B) ≠ P(B | A)\n",
    "   - P(A ∩ B) ≠ P(A) ⋅ P(B)\n",
    "   - formula will become P(A ∩ B) ≠ P(A) ⋅ P(B/A)\n",
    "   "
   ]
  },
  {
   "cell_type": "markdown",
   "id": "66a08251",
   "metadata": {
    "papermill": {
     "duration": 0.063547,
     "end_time": "2022-04-24T17:26:13.106644",
     "exception": false,
     "start_time": "2022-04-24T17:26:13.043097",
     "status": "completed"
    },
    "tags": []
   },
   "source": [
    "# Day 23\n",
    "dataquest-> prob and stats -> probability fundamentals -> conditional probabilities intermediate\n",
    "<br>slide 7 to last\n",
    "- To find whether three events — A, B, C — are independent or not, below conditions must hold true -\n",
    "  - P(A ∩ B) ≠ P(A) ⋅ P(B)\n",
    "  - P(A ∩ C) ≠ P(A) ⋅ P(C)\n",
    "  - P(B ∩ C) ≠ P(B) ⋅ P(C)\n",
    "  - P(A ∩ B ∩ C) ≠ P(A) ⋅ P(B) . P(C)\n",
    "- multiplication rule for conditional probability or dependent events\n",
    " - P(A ∩ B ∩ C) = P(A) ⋅ P(B | A) ⋅ P(C | A ∩ B)\n",
    " \n",
    "\n"
   ]
  },
  {
   "cell_type": "markdown",
   "id": "9d5b916b",
   "metadata": {
    "papermill": {
     "duration": 0.062508,
     "end_time": "2022-04-24T17:26:13.232796",
     "exception": false,
     "start_time": "2022-04-24T17:26:13.170288",
     "status": "completed"
    },
    "tags": []
   },
   "source": [
    "# Day 24\n",
    "dataquest-> prob and stats -> probability fundamentals -> bayes theorem\n",
    "<br>slide 1\n",
    "- independent -> one event is dependent on other\n",
    "   - P(A ∩ B) = P(A) ⋅ P(B/A)\n",
    "- independent -> one event is not dependent on other.\n",
    "   - P(A ∩ B) = P(A) ⋅ P(B)\n",
    "- mutually exclusive -> both the events cannot happen at the same time.\n",
    "   - P(A ∩ B) = 0\n",
    "\n"
   ]
  },
  {
   "cell_type": "markdown",
   "id": "5a5e81e0",
   "metadata": {
    "papermill": {
     "duration": 0.062824,
     "end_time": "2022-04-24T17:26:13.359197",
     "exception": false,
     "start_time": "2022-04-24T17:26:13.296373",
     "status": "completed"
    },
    "tags": []
   },
   "source": [
    "# Day 25\n",
    "dataquest-> prob and stats -> probability fundamentals -> bayes theorem\n",
    "<br>slide 2\n",
    "- If two events are exhaustive, it means they make up the whole sample space Ω\n",
    "  -  P(A) = P(A ∩ B) + P(A ∩ B^c)\n",
    "     P(A) = (P(B) * P(A/B)) +  (P(B^c) * P(A/B^c))\n",
    "     \n",
    "     "
   ]
  },
  {
   "cell_type": "markdown",
   "id": "62d0632b",
   "metadata": {
    "papermill": {
     "duration": 0.062586,
     "end_time": "2022-04-24T17:26:13.485071",
     "exception": false,
     "start_time": "2022-04-24T17:26:13.422485",
     "status": "completed"
    },
    "tags": []
   },
   "source": [
    "# Day 26\n",
    "dataquest-> prob and stats -> probability fundamentals -> bayes theorem\n",
    "<br>slide 3 - last\n",
    "- the law of total probability\n",
    "  - P(A)  = (P(B1) * P(A/B1)) + (P(B2) * P(A/B2))+ ... + (P(Bn) * P(A/Bn)))\n",
    "  - P(A) =(summattion i=1 to n) P(Bi) ⋅ P(A|Bi)\n",
    "- Baye's theorem\n",
    "  - P(B | A) = (P(B) ⋅ P(A | B)) / (n ∑i=1 P(Bi) ⋅ P(A | Bi))\n",
    "- The probability of being infected with HIV before doing any test is called the prior probability (\"prior\" means \"before\"). The probability of being infected with HIV after testing positive is called the posterior probability (\"posterior\" means \"after\").\n",
    "\n",
    "\n",
    "  "
   ]
  },
  {
   "cell_type": "markdown",
   "id": "41590fb0",
   "metadata": {
    "papermill": {
     "duration": 0.06361,
     "end_time": "2022-04-24T17:26:13.611715",
     "exception": false,
     "start_time": "2022-04-24T17:26:13.548105",
     "status": "completed"
    },
    "tags": []
   },
   "source": [
    "# Day 27\n",
    "dataquest-> prob and stats -> probability fundamentals -> naive bayes theorem\n",
    "<br>slide 1 - \n",
    "P(Spam|w1,w2,w3,w4)∝P(Spam)⋅P(w1|Spam)⋅P(w2|Spam)⋅P(w3|Spam)⋅P(w4|Spam)P(SpamC|w1,w2,w3,w4)∝P(SpamC)⋅P(w1|SpamC)⋅P(w2|SpamC)⋅P(w3|SpamC)⋅P(w4|SpamC)"
   ]
  },
  {
   "cell_type": "markdown",
   "id": "c78c7eb9",
   "metadata": {
    "papermill": {
     "duration": 0.063122,
     "end_time": "2022-04-24T17:26:13.738440",
     "exception": false,
     "start_time": "2022-04-24T17:26:13.675318",
     "status": "completed"
    },
    "tags": []
   },
   "source": [
    "# Day 28\n",
    "dataquest-> prob and stats -> probability fundamentals -> naive bayes theorem\n",
    "<br>finished.\n",
    "<br>**Summary**\n",
    "- P(Spam|w1,w2,...,wn)∝P(Spam)⋅n∏i=1P(wi|Spam)\n",
    "- P(SpamC|w1,w2,...,wn)∝P(SpamC)⋅n∏i=1P(wi|SpamC)\n",
    "- To calculate P(wi|Spam) and P(wi|SpamC), we need to use the additive smoothing technique: \n",
    "- P ( w i | S p a m ) = (N w i | S p a m + α) / ( N S p a m + α ⋅ N V o c a b u l a r y )\n",
    "- P ( w i | S p a m C ) = (N w i | S p a m C + α) / ( N S p a m C + α ⋅ N V o c a b u l a r y )\n",
    "     - N w i | S p a m = the number of times the word w i occurs in spam messages \n",
    "     - N w i | S p a m C = the number of times the word w i occurs in non-spam messages \n",
    "     - N S p a m = total number of words in spam messages \n",
    "     - N S p a m C = total number of words in non-spam messages \n",
    "     - N V o c a b u l a r y = total number of words in the vocabulary \n",
    "     - α = 1 ( α is a smoothing parameter )\n",
    " - naive bayes theorem assumes that events are not dependent.\n",
    " - The assumption of conditional independence between words is thus naive since it rarely holds in practice, and this is why the algorithm is called Naive Bayes (also called simple Bayes or independence Bayes)."
   ]
  },
  {
   "cell_type": "markdown",
   "id": "f3d53148",
   "metadata": {
    "papermill": {
     "duration": 0.063693,
     "end_time": "2022-04-24T17:26:13.867170",
     "exception": false,
     "start_time": "2022-04-24T17:26:13.803477",
     "status": "completed"
    },
    "tags": []
   },
   "source": [
    "# Day 29,30,31\n",
    "<br>dataquest-> prob and stats -> probability fundamentals -> conditional probability-> guided projects\n",
    "<br> in progress"
   ]
  },
  {
   "cell_type": "markdown",
   "id": "4ad33761",
   "metadata": {
    "papermill": {
     "duration": 0.063632,
     "end_time": "2022-04-24T17:26:13.994328",
     "exception": false,
     "start_time": "2022-04-24T17:26:13.930696",
     "status": "completed"
    },
    "tags": []
   },
   "source": [
    "# Day 32 and 33\n",
    "<br>dataquest-> prob and stats -> probability fundamentals -> guided projects\n",
    "<br> done"
   ]
  },
  {
   "cell_type": "markdown",
   "id": "f093a1c5",
   "metadata": {
    "papermill": {
     "duration": 0.065853,
     "end_time": "2022-04-24T17:26:14.125087",
     "exception": false,
     "start_time": "2022-04-24T17:26:14.059234",
     "status": "completed"
    },
    "tags": []
   },
   "source": [
    "# Day 34\n",
    "<br>dataquest-> prob and stats -> probability fundamentals -> guided projects-> lottery prediction\n",
    "<br> done"
   ]
  },
  {
   "cell_type": "markdown",
   "id": "d103a5d7",
   "metadata": {
    "papermill": {
     "duration": 0.063349,
     "end_time": "2022-04-24T17:26:14.252761",
     "exception": false,
     "start_time": "2022-04-24T17:26:14.189412",
     "status": "completed"
    },
    "tags": []
   },
   "source": [
    "# Day 35\n",
    "<br>dataquest-> prob and stats -> hypothesis testing fundamentals -> significance testing\n",
    "<br> till slide 4\n",
    "- null hypothesis\n",
    "- alternate hypothesis\n"
   ]
  },
  {
   "cell_type": "markdown",
   "id": "df003ded",
   "metadata": {
    "papermill": {
     "duration": 0.063304,
     "end_time": "2022-04-24T17:26:14.379702",
     "exception": false,
     "start_time": "2022-04-24T17:26:14.316398",
     "status": "completed"
    },
    "tags": []
   },
   "source": [
    "# Day 36 and 37\n",
    "<br>dataquest-> prob and stats -> hypothesis testing fundamentals -> significance testing\n",
    "- The permutation test is a statistical test that involves rerunning the study many times and recalculating the test statistic for each iteration. The goal is to calculate a distribution of the test statistics over these many iterations. This distribution is called the sampling distribution and it approximates the full range of possible test statistics under the null hypothesis\n",
    "\n"
   ]
  },
  {
   "cell_type": "markdown",
   "id": "4f8bd3f3",
   "metadata": {
    "papermill": {
     "duration": 0.063202,
     "end_time": "2022-04-24T17:26:14.507033",
     "exception": false,
     "start_time": "2022-04-24T17:26:14.443831",
     "status": "completed"
    },
    "tags": []
   },
   "source": [
    "# Day 38\n",
    "<br>dataquest-> prob and stats -> hypothesis testing fundamentals -> significance testing\n",
    "<br>in progress."
   ]
  },
  {
   "cell_type": "markdown",
   "id": "5308f5c0",
   "metadata": {
    "papermill": {
     "duration": 0.063975,
     "end_time": "2022-04-24T17:26:14.635585",
     "exception": false,
     "start_time": "2022-04-24T17:26:14.571610",
     "status": "completed"
    },
    "tags": []
   },
   "source": [
    "# Day 39\n",
    "<br>dataquest-> prob and stats -> hypothesis testing fundamentals -> significance testing\n",
    "<br>slide 5-6"
   ]
  },
  {
   "cell_type": "markdown",
   "id": "b1c37777",
   "metadata": {
    "papermill": {
     "duration": 0.063378,
     "end_time": "2022-04-24T17:26:14.762132",
     "exception": false,
     "start_time": "2022-04-24T17:26:14.698754",
     "status": "completed"
    },
    "tags": []
   },
   "source": [
    "# Day 40\n",
    "<br>dataquest-> prob and stats -> hypothesis testing fundamentals -> significance testing\n",
    "<br>slide 7"
   ]
  },
  {
   "cell_type": "markdown",
   "id": "db85f348",
   "metadata": {
    "papermill": {
     "duration": 0.063835,
     "end_time": "2022-04-24T17:26:14.889320",
     "exception": false,
     "start_time": "2022-04-24T17:26:14.825485",
     "status": "completed"
    },
    "tags": []
   },
   "source": [
    "# Day 41 and 42\n",
    "<br>dataquest-> prob and stats -> hypothesis testing fundamentals -> significance testing\n",
    "<br>slide 7 done and 8(p-value) strated"
   ]
  },
  {
   "cell_type": "markdown",
   "id": "3f03b8e9",
   "metadata": {
    "papermill": {
     "duration": 0.063044,
     "end_time": "2022-04-24T17:26:15.015320",
     "exception": false,
     "start_time": "2022-04-24T17:26:14.952276",
     "status": "completed"
    },
    "tags": []
   },
   "source": [
    "# Day 43\n",
    "<br>dataquest-> prob and stats -> hypothesis testing fundamentals -> significance testing\n",
    "<br>\n",
    "- The first step is to decide a test statistic, which is a numerical value that summarizes the data and one we can use in statistical formulas. The test statistic runs a statistical test that determines whether the difference between the groups was due to random chance.\n",
    "  - e.x: mean \n",
    "- The permutation test is a statistical test that involves rerunning the study many times and recalculating the test statistic for each iteration.\n",
    "   - The goal is to calculate a distribution of the test statistics over these many iterations. This distribution is called the sampling distribution and it approximates the full range of possible test statistics under the null hypothesis.\n",
    "- If the p value is less than the threshold, we:\n",
    "    - reject the null hypothesis that there's no difference in the mean amount of weight lost by participants in both groups; and\n",
    "    - conclude that there is some evidence that the weight loss pill does affect the amount of weight people lost.\n",
    "\n",
    "- If the p value is greater than the threshold, we:\n",
    "    - fail to reject the null hypothesis that there's no difference in the mean amount of weight lost by participants in both groups,\n",
    "    - conclude that the weight loss pill doesn't seem to be effective in helping people lose weight.\n",
    "- usually used p-value threshold is 0.05\n",
    "- The p value threshold you set can also affect the conclusion you reach.\n",
    "    - If you set too high of a p value threshold, you may reject the null hypothesis incorrectly. This is known as a type I error.\n",
    "    - If you set too low of a p value threshold, you may fail to reject the null hypothesis incorrectly. This is known as a type II error."
   ]
  },
  {
   "cell_type": "markdown",
   "id": "b7043f50",
   "metadata": {
    "papermill": {
     "duration": 0.06569,
     "end_time": "2022-04-24T17:26:15.143989",
     "exception": false,
     "start_time": "2022-04-24T17:26:15.078299",
     "status": "completed"
    },
    "tags": []
   },
   "source": [
    "# Day 44\n",
    "<br>dataquest-> prob and stats -> hypothesis testing fundamentals -> significance testing-> chi squared test\n",
    "<br>1- 4\n",
    "- chi squared test is used for numerical values"
   ]
  },
  {
   "cell_type": "code",
   "execution_count": null,
   "id": "f9c5ec2e",
   "metadata": {
    "papermill": {
     "duration": 0.06366,
     "end_time": "2022-04-24T17:26:15.273693",
     "exception": false,
     "start_time": "2022-04-24T17:26:15.210033",
     "status": "completed"
    },
    "tags": []
   },
   "outputs": [],
   "source": []
  },
  {
   "cell_type": "code",
   "execution_count": 2,
   "id": "6fca992c",
   "metadata": {
    "execution": {
     "iopub.execute_input": "2022-04-24T17:26:15.405232Z",
     "iopub.status.busy": "2022-04-24T17:26:15.404449Z",
     "iopub.status.idle": "2022-04-24T17:26:15.407385Z",
     "shell.execute_reply": "2022-04-24T17:26:15.407955Z",
     "shell.execute_reply.started": "2022-04-12T14:17:49.333113Z"
    },
    "papermill": {
     "duration": 0.07051,
     "end_time": "2022-04-24T17:26:15.408130",
     "exception": false,
     "start_time": "2022-04-24T17:26:15.337620",
     "status": "completed"
    },
    "tags": []
   },
   "outputs": [],
   "source": [
    "# !pip install PyMuPDF"
   ]
  },
  {
   "cell_type": "code",
   "execution_count": 3,
   "id": "6dfdd34b",
   "metadata": {
    "execution": {
     "iopub.execute_input": "2022-04-24T17:26:15.538908Z",
     "iopub.status.busy": "2022-04-24T17:26:15.537956Z",
     "iopub.status.idle": "2022-04-24T17:26:15.541553Z",
     "shell.execute_reply": "2022-04-24T17:26:15.542249Z",
     "shell.execute_reply.started": "2022-04-12T14:19:20.437905Z"
    },
    "papermill": {
     "duration": 0.070461,
     "end_time": "2022-04-24T17:26:15.542430",
     "exception": false,
     "start_time": "2022-04-24T17:26:15.471969",
     "status": "completed"
    },
    "tags": []
   },
   "outputs": [],
   "source": [
    " \n",
    "# fitz.__version__"
   ]
  },
  {
   "cell_type": "code",
   "execution_count": 4,
   "id": "154d5381",
   "metadata": {
    "execution": {
     "iopub.execute_input": "2022-04-24T17:26:15.674515Z",
     "iopub.status.busy": "2022-04-24T17:26:15.673061Z",
     "iopub.status.idle": "2022-04-24T17:26:15.677781Z",
     "shell.execute_reply": "2022-04-24T17:26:15.677223Z",
     "shell.execute_reply.started": "2022-04-12T14:23:59.687259Z"
    },
    "papermill": {
     "duration": 0.070908,
     "end_time": "2022-04-24T17:26:15.677952",
     "exception": false,
     "start_time": "2022-04-24T17:26:15.607044",
     "status": "completed"
    },
    "tags": []
   },
   "outputs": [],
   "source": [
    "# !python -m spacy download en_core_web_sm"
   ]
  },
  {
   "cell_type": "code",
   "execution_count": null,
   "id": "18a624b4",
   "metadata": {
    "papermill": {
     "duration": 0.062762,
     "end_time": "2022-04-24T17:26:15.804197",
     "exception": false,
     "start_time": "2022-04-24T17:26:15.741435",
     "status": "completed"
    },
    "tags": []
   },
   "outputs": [],
   "source": []
  },
  {
   "cell_type": "code",
   "execution_count": 5,
   "id": "bb41462f",
   "metadata": {
    "execution": {
     "iopub.execute_input": "2022-04-24T17:26:15.934251Z",
     "iopub.status.busy": "2022-04-24T17:26:15.933511Z",
     "iopub.status.idle": "2022-04-24T17:26:15.937890Z",
     "shell.execute_reply": "2022-04-24T17:26:15.937358Z",
     "shell.execute_reply.started": "2022-04-12T14:18:25.912243Z"
    },
    "papermill": {
     "duration": 0.070404,
     "end_time": "2022-04-24T17:26:15.938046",
     "exception": false,
     "start_time": "2022-04-24T17:26:15.867642",
     "status": "completed"
    },
    "tags": []
   },
   "outputs": [],
   "source": [
    "# import fitz\n",
    "# import spacy\n",
    "# import re\n",
    "# from pathlib import Path\n",
    "# import requests\n",
    "# import os"
   ]
  },
  {
   "cell_type": "code",
   "execution_count": 6,
   "id": "5d8e202e",
   "metadata": {
    "execution": {
     "iopub.execute_input": "2022-04-24T17:26:16.071854Z",
     "iopub.status.busy": "2022-04-24T17:26:16.071116Z",
     "iopub.status.idle": "2022-04-24T17:26:16.073807Z",
     "shell.execute_reply": "2022-04-24T17:26:16.074418Z",
     "shell.execute_reply.started": "2022-04-12T15:03:43.5897Z"
    },
    "papermill": {
     "duration": 0.071891,
     "end_time": "2022-04-24T17:26:16.074594",
     "exception": false,
     "start_time": "2022-04-24T17:26:16.002703",
     "status": "completed"
    },
    "tags": []
   },
   "outputs": [],
   "source": [
    "# sql_db_json = [\n",
    "#   {\n",
    "#     \"document_id\": \"1\",\n",
    "#     \"area\": \"[72.1149,661.2966,131.95729,675.1716]\",\n",
    "#     \"page\": \"3\",\n",
    "#     \"text_\": \"Background\",\n",
    "#     \"type_of_selection\": \"Text\",\n",
    "#     \"entity_type\": \"name\",\n",
    "#     \"link\": \"https://redactable-devox-stage.s3.us-east-2.amazonaws.com/tenants/41d9e109-693b-444c-aa18-e5891bc6550b/original/1a7c0e5d-3237-4ca9-9e3d-89e707245ac6/D8communications.pdf\"\n",
    "#   },\n",
    "#   {\n",
    "#     \"document_id\": \"1\",\n",
    "#     \"area\": \"[290.55386,632.0173,322.14685,645.8923]\",\n",
    "#     \"page\": \"2\",\n",
    "#     \"text_\": \"INDEX\",\n",
    "#     \"type_of_selection\": \"Text\",\n",
    "#     \"entity_type\": \"address\",\n",
    "#     \"link\": \"https://redactable-devox-stage.s3.us-east-2.amazonaws.com/tenants/41d9e109-693b-444c-aa18-e5891bc6550b/original/1a7c0e5d-3237-4ca9-9e3d-89e707245ac6/D8communications.pdf\"\n",
    "#   }\n",
    "# ]"
   ]
  },
  {
   "cell_type": "code",
   "execution_count": 7,
   "id": "02adff04",
   "metadata": {
    "execution": {
     "iopub.execute_input": "2022-04-24T17:26:16.206554Z",
     "iopub.status.busy": "2022-04-24T17:26:16.205921Z",
     "iopub.status.idle": "2022-04-24T17:26:16.208514Z",
     "shell.execute_reply": "2022-04-24T17:26:16.209067Z",
     "shell.execute_reply.started": "2022-04-12T13:17:19.452695Z"
    },
    "papermill": {
     "duration": 0.069344,
     "end_time": "2022-04-24T17:26:16.209239",
     "exception": false,
     "start_time": "2022-04-24T17:26:16.139895",
     "status": "completed"
    },
    "tags": []
   },
   "outputs": [],
   "source": [
    "# l=pd.DataFrame()\n",
    "# k=(1, '[290.55386,632.0173,322.14685,645.8923]', 2, 'INDEX', 'Text', 'address', 'https://redactable-devox-s')\n",
    "# k\n"
   ]
  },
  {
   "cell_type": "code",
   "execution_count": 8,
   "id": "bdb06f2f",
   "metadata": {
    "execution": {
     "iopub.execute_input": "2022-04-24T17:26:16.342222Z",
     "iopub.status.busy": "2022-04-24T17:26:16.341481Z",
     "iopub.status.idle": "2022-04-24T17:26:16.344942Z",
     "shell.execute_reply": "2022-04-24T17:26:16.345468Z",
     "shell.execute_reply.started": "2022-04-12T16:09:33.708631Z"
    },
    "papermill": {
     "duration": 0.072016,
     "end_time": "2022-04-24T17:26:16.345652",
     "exception": false,
     "start_time": "2022-04-24T17:26:16.273636",
     "status": "completed"
    },
    "tags": []
   },
   "outputs": [],
   "source": [
    "# co=[\"document_id\",\"area\",\"page\",\"text_\",\"type_of_selection\",\"entity_type\",\"link\"]\n",
    "# val= [(1,'[72.1149,661.2966,131.95729,675.1716]',3,'Background','Text','name' ,'https://redactable-devox-stage.s3.us-east-2.am'), (1,  '[290.55386,632.0173,322.14685,645.8923]',2,'INDEX', 'Text','address','https://redactable-devox-stage.s3.us-east-2.am')]\n",
    "\n",
    "# df=pd.DataFrame(val,columns=[co])\n",
    "# #df.iloc[1] =[1,  '[290.55386,632.0173,322.14685,645.8923]',2,'INDEX', 'Text','address','https://redactable-devox-stage.s3.us-east-2.am']\n",
    "# df"
   ]
  },
  {
   "cell_type": "code",
   "execution_count": 9,
   "id": "8126c383",
   "metadata": {
    "execution": {
     "iopub.execute_input": "2022-04-24T17:26:16.477062Z",
     "iopub.status.busy": "2022-04-24T17:26:16.476385Z",
     "iopub.status.idle": "2022-04-24T17:26:16.479430Z",
     "shell.execute_reply": "2022-04-24T17:26:16.479963Z",
     "shell.execute_reply.started": "2022-04-12T16:18:22.595374Z"
    },
    "papermill": {
     "duration": 0.070111,
     "end_time": "2022-04-24T17:26:16.480146",
     "exception": false,
     "start_time": "2022-04-24T17:26:16.410035",
     "status": "completed"
    },
    "tags": []
   },
   "outputs": [],
   "source": [
    "# prev=[]\n",
    "# for data,row in df.iterrows():\n",
    "#     if row['document_id'] not in prev:\n",
    "#         prev.append(row['document_id'])\n",
    "#         print('hey')"
   ]
  },
  {
   "cell_type": "code",
   "execution_count": 10,
   "id": "e4f36cdb",
   "metadata": {
    "execution": {
     "iopub.execute_input": "2022-04-24T17:26:16.613395Z",
     "iopub.status.busy": "2022-04-24T17:26:16.612700Z",
     "iopub.status.idle": "2022-04-24T17:26:16.617853Z",
     "shell.execute_reply": "2022-04-24T17:26:16.618348Z",
     "shell.execute_reply.started": "2022-04-12T15:03:48.248836Z"
    },
    "papermill": {
     "duration": 0.073894,
     "end_time": "2022-04-24T17:26:16.618545",
     "exception": false,
     "start_time": "2022-04-24T17:26:16.544651",
     "status": "completed"
    },
    "tags": []
   },
   "outputs": [],
   "source": [
    "# nlp = spacy.load('en_core_web_sm')\n",
    "# train_data = []\n",
    "\n",
    "# prev_doc_id = ''\n",
    "# i=0\n",
    "# temp='/kaggle/working'\n",
    "\n",
    "# for data in sql_db_json:\n",
    "#     if data['type_of_selection'] == 'Text':\n",
    "#         document_id = data['document_id']\n",
    "#         x1,y1,x2,y2 = data['area'][1:-1].split(',')\n",
    "#         url = data['link']\n",
    "#         page_no = int(data['page']) - 1 \n",
    "#         label = data['entity_type']\n",
    "#         filename = url.split('/')[-1]\n",
    "    \n",
    "#         #download the file to temp folder\n",
    "#         outpath = os.path.join(temp,filename)\n",
    "\n",
    "#         if document_id == prev_doc_id:\n",
    "#             pass\n",
    "#         else: \n",
    "#             i+=1\n",
    "#             print(i)\n",
    "#             response = requests.get(url)\n",
    "#             with open(outpath, \"wb\") as binary_file:\n",
    "#                 binary_file.write(response.content)\n",
    "\n",
    "#         doc = fitz.open(outpath)  # any supported document type\n",
    "#         page = doc[page_no]  # we want text from this page\n",
    "#         print('page dimension - ', page.rect.width, page.rect.height)\n",
    "\n",
    "#         #The co-ordinates in the DB are image co-ords. W.r.t pdf, y1 and y2 has to be interchanged.\n",
    "#         #To ensure entire word to be selected, slight correction in x1,y1,x2,y2 is done.\n",
    "\n",
    "#         rect = [float(x1)-2, 792 - float(y2)-2, float(x2)+2, 792 - float(y1)+2]\n",
    "#         print(rect)\n",
    "#         labelled_text = page.get_textbox(rect)\n",
    "\n",
    "#         #Removing all unprintable characters from the text\n",
    "#         string = re.sub('[^0-9a-zA-Z@?|\\/<>.,()&^%$#!]+', ' ', labelled_text)\n",
    "#         print('string : ', string)\n",
    "\n",
    "#         fulltext = page.get_text()\n",
    "#         doc = nlp(fulltext)\n",
    "\n",
    "#         sentences = []\n",
    "#         for sent in doc.sents:\n",
    "#             if string.strip() in sent.text:\n",
    "#                 text = re.sub('[^0-9a-zA-Z@?|\\/<>.,()&^%$#!]+', ' ', sent.text)\n",
    "\n",
    "#         res = re.search(string.strip(), text)\n",
    "\n",
    "#         entities = []\n",
    "#         entities.append((res.start(),res.end(),label))\n",
    "\n",
    "#         train_data.append((text,{'entities':entities}))\n",
    "\n",
    "# print('Training data in spacy format')\n",
    "# print('*****************************')\n",
    "# for i in range(0,len(train_data)):\n",
    "#     print(train_data[i])"
   ]
  },
  {
   "cell_type": "code",
   "execution_count": null,
   "id": "e2847d78",
   "metadata": {
    "papermill": {
     "duration": 0.063299,
     "end_time": "2022-04-24T17:26:16.745554",
     "exception": false,
     "start_time": "2022-04-24T17:26:16.682255",
     "status": "completed"
    },
    "tags": []
   },
   "outputs": [],
   "source": []
  },
  {
   "cell_type": "code",
   "execution_count": 11,
   "id": "19d46c48",
   "metadata": {
    "execution": {
     "iopub.execute_input": "2022-04-24T17:26:16.880540Z",
     "iopub.status.busy": "2022-04-24T17:26:16.879753Z",
     "iopub.status.idle": "2022-04-24T17:26:16.883097Z",
     "shell.execute_reply": "2022-04-24T17:26:16.882495Z",
     "shell.execute_reply.started": "2022-04-12T11:44:59.253637Z"
    },
    "papermill": {
     "duration": 0.074413,
     "end_time": "2022-04-24T17:26:16.883253",
     "exception": false,
     "start_time": "2022-04-24T17:26:16.808840",
     "status": "completed"
    },
    "tags": []
   },
   "outputs": [],
   "source": [
    "# nlp = spacy.load('en_core_web_sm')\n",
    "# train_data = []\n",
    "\n",
    "# prev_doc_id = ''\n",
    "# temp='/kaggle/working'\n",
    "# i=0\n",
    "# for data in sql_db_json:\n",
    "#     if data['type_of_selection'] == 'Text':\n",
    "#         document_id = data['document_id']\n",
    "#         x1,y1,x2,y2 = data['area'][1:-1].split(',')\n",
    "#         url = data['link']\n",
    "#         page_no = int(data['page']) - 1 \n",
    "#         label = data['entity_type']\n",
    "#         filename = url.split('/')[-1]\n",
    "    \n",
    "#         #download the file to temp folder\n",
    "#         i+=1\n",
    "#         print(i)\n",
    "#         response = requests.get(url)\n",
    "#         doc = fitz.open(stream=response.content,filetype=\"pdf\")  # any supported document type\n",
    "#         page = doc[page_no]  # we want text from this page\n",
    "#         print('page dimension - ', page.rect.width, page.rect.height)\n",
    "\n",
    "#         #The co-ordinates in the DB are image co-ords. W.r.t pdf, y1 and y2 has to be interchanged.\n",
    "#         #To ensure entire word to be selected, slight correction in x1,y1,x2,y2 is done.\n",
    "\n",
    "#         rect = [float(x1)-2, 792 - float(y2)-2, float(x2)+2, 792 - float(y1)+2]\n",
    "#         print(rect)\n",
    "#         labelled_text = page.get_textbox(rect)\n",
    "\n",
    "#         #Removing all unprintable characters from the text\n",
    "#         string = re.sub('[^0-9a-zA-Z@?|\\/<>.,()&^%$#!]+', ' ', labelled_text)\n",
    "#         print('string : ', string)\n",
    "\n",
    "#         fulltext = page.get_text()\n",
    "#         doc = nlp(fulltext)\n",
    "\n",
    "#         sentences = []\n",
    "#         for sent in doc.sents:\n",
    "#             if string.strip() in sent.text:\n",
    "#                 text = re.sub('[^0-9a-zA-Z@?|\\/<>.,()&^%$#!]+', ' ', sent.text)\n",
    "\n",
    "#         res = re.search(string.strip(), text)\n",
    "\n",
    "#         entities = []\n",
    "#         entities.append((res.start(),res.end(),label))\n",
    "\n",
    "#         train_data.append((text,{'entities':entities}))\n",
    "\n",
    "# print('Training data in spacy format')\n",
    "# print('*****************************')\n",
    "# for i in range(0,len(train_data)):\n",
    "#     print(train_data[i])"
   ]
  },
  {
   "cell_type": "code",
   "execution_count": 12,
   "id": "0664768a",
   "metadata": {
    "execution": {
     "iopub.execute_input": "2022-04-24T17:26:17.015316Z",
     "iopub.status.busy": "2022-04-24T17:26:17.014571Z",
     "iopub.status.idle": "2022-04-24T17:26:17.017786Z",
     "shell.execute_reply": "2022-04-24T17:26:17.017284Z"
    },
    "papermill": {
     "duration": 0.071125,
     "end_time": "2022-04-24T17:26:17.017948",
     "exception": false,
     "start_time": "2022-04-24T17:26:16.946823",
     "status": "completed"
    },
    "tags": []
   },
   "outputs": [],
   "source": [
    "# page dimension -  612.0 792.0\n",
    "# [70.1149, 114.82839999999999, 133.95729, 132.7034]\n",
    "# string :  Background\n",
    "# page dimension -  612.0 792.0\n",
    "# [288.55386, 144.10770000000002, 324.14685, 161.98270000000002]\n",
    "# string :  INDEX\n",
    "# Training data in spacy format\n",
    "# *****************************\n",
    "# (' 3 Background The Blue Ribbon Committee was created by the Mayor to assess various city communication methods and recommend opportunities to improve communications with residents, businesses and other organizations.', {'entities': [(3, 13, 'name')]})\n",
    "# (' 2 INDEX Background Pg. 3 Purpose Pg. 3 Process .', {'entities': [(3, 8, 'address')]})"
   ]
  },
  {
   "cell_type": "code",
   "execution_count": 13,
   "id": "00edfc7d",
   "metadata": {
    "execution": {
     "iopub.execute_input": "2022-04-24T17:26:17.150552Z",
     "iopub.status.busy": "2022-04-24T17:26:17.149770Z",
     "iopub.status.idle": "2022-04-24T17:26:17.152519Z",
     "shell.execute_reply": "2022-04-24T17:26:17.153038Z",
     "shell.execute_reply.started": "2022-04-11T16:35:29.609712Z"
    },
    "papermill": {
     "duration": 0.071759,
     "end_time": "2022-04-24T17:26:17.153238",
     "exception": false,
     "start_time": "2022-04-24T17:26:17.081479",
     "status": "completed"
    },
    "tags": []
   },
   "outputs": [],
   "source": [
    "# nlp = spacy.load('en_core_web_sm')\n",
    "# outpath=r'/kaggle/input/sample-pdf/D8communications.pdf'\n",
    "# doc = fitz.open(outpath)  # any supported document type\n",
    "# page_no=3\n",
    "# page = doc[page_no-1]\n",
    "\n",
    "# x1,y1,x2,y2=(72.1149,661.2966,131.95729,675.1716)\n",
    "\n",
    "# rect = [float(x1)-2, 792 - float(y2)-2, float(x2)+2, 792 - float(y1)+2]\n",
    "# print(rect)\n",
    "# labelled_text = page.get_textbox(rect)\n",
    "# string = re.sub('[^0-9a-zA-Z@?|\\/<>.,()&^%$#!]+', ' ', labelled_text)\n",
    "# print('string : ', string)\n",
    "\n",
    "# fulltext = page.get_text()\n",
    "# doc = nlp(fulltext)\n",
    "\n",
    "# sentences = []\n",
    "# for sent in doc.sents:\n",
    "#             if string.strip() in sent.text:\n",
    "#                 text = re.sub('[^0-9a-zA-Z@?|\\/<>.,()&^%$#!]+', ' ', sent.text)\n",
    "\n",
    "#         res = re.search(string.strip(), text)\n",
    "\n",
    "#         entities = []\n",
    "#         entities.append((res.start(),res.end(),label))\n",
    "\n",
    "#         train_data.append((text,{'entities':entities}))\n",
    "\n"
   ]
  },
  {
   "cell_type": "code",
   "execution_count": 14,
   "id": "9147f408",
   "metadata": {
    "execution": {
     "iopub.execute_input": "2022-04-24T17:26:17.284940Z",
     "iopub.status.busy": "2022-04-24T17:26:17.284192Z",
     "iopub.status.idle": "2022-04-24T17:26:17.287069Z",
     "shell.execute_reply": "2022-04-24T17:26:17.287681Z",
     "shell.execute_reply.started": "2022-04-11T16:35:41.679947Z"
    },
    "papermill": {
     "duration": 0.070533,
     "end_time": "2022-04-24T17:26:17.287857",
     "exception": false,
     "start_time": "2022-04-24T17:26:17.217324",
     "status": "completed"
    },
    "tags": []
   },
   "outputs": [],
   "source": [
    "#doc"
   ]
  },
  {
   "cell_type": "code",
   "execution_count": 15,
   "id": "0fbd5c53",
   "metadata": {
    "execution": {
     "iopub.execute_input": "2022-04-24T17:26:17.418383Z",
     "iopub.status.busy": "2022-04-24T17:26:17.417599Z",
     "iopub.status.idle": "2022-04-24T17:26:17.420774Z",
     "shell.execute_reply": "2022-04-24T17:26:17.421331Z",
     "shell.execute_reply.started": "2022-04-11T16:35:56.010353Z"
    },
    "papermill": {
     "duration": 0.069845,
     "end_time": "2022-04-24T17:26:17.421499",
     "exception": false,
     "start_time": "2022-04-24T17:26:17.351654",
     "status": "completed"
    },
    "tags": []
   },
   "outputs": [],
   "source": [
    "# sentences = []\n",
    "# for sent in doc.sents:\n",
    "#     if string.strip() in sent.text:\n",
    "#         text = re.sub('[^0-9a-zA-Z@?|\\/<>.,()&^%$#!]+', ' ', sent.text)"
   ]
  },
  {
   "cell_type": "code",
   "execution_count": 16,
   "id": "717fc59f",
   "metadata": {
    "execution": {
     "iopub.execute_input": "2022-04-24T17:26:17.552025Z",
     "iopub.status.busy": "2022-04-24T17:26:17.551306Z",
     "iopub.status.idle": "2022-04-24T17:26:17.554084Z",
     "shell.execute_reply": "2022-04-24T17:26:17.554633Z",
     "shell.execute_reply.started": "2022-04-11T16:39:04.736143Z"
    },
    "papermill": {
     "duration": 0.069796,
     "end_time": "2022-04-24T17:26:17.554805",
     "exception": false,
     "start_time": "2022-04-24T17:26:17.485009",
     "status": "completed"
    },
    "tags": []
   },
   "outputs": [],
   "source": [
    "# k=nlp(\"he             kenny\")\n",
    "# for sent in k.sents:\n",
    "#     print(sent)"
   ]
  },
  {
   "cell_type": "code",
   "execution_count": 17,
   "id": "2f0592cb",
   "metadata": {
    "execution": {
     "iopub.execute_input": "2022-04-24T17:26:17.686723Z",
     "iopub.status.busy": "2022-04-24T17:26:17.685992Z",
     "iopub.status.idle": "2022-04-24T17:26:17.688958Z",
     "shell.execute_reply": "2022-04-24T17:26:17.689484Z",
     "shell.execute_reply.started": "2022-04-11T15:09:24.391421Z"
    },
    "papermill": {
     "duration": 0.0696,
     "end_time": "2022-04-24T17:26:17.689674",
     "exception": false,
     "start_time": "2022-04-24T17:26:17.620074",
     "status": "completed"
    },
    "tags": []
   },
   "outputs": [],
   "source": [
    "# text"
   ]
  },
  {
   "cell_type": "code",
   "execution_count": 18,
   "id": "e06708b0",
   "metadata": {
    "execution": {
     "iopub.execute_input": "2022-04-24T17:26:17.820982Z",
     "iopub.status.busy": "2022-04-24T17:26:17.820296Z",
     "iopub.status.idle": "2022-04-24T17:26:17.823283Z",
     "shell.execute_reply": "2022-04-24T17:26:17.823911Z",
     "shell.execute_reply.started": "2022-04-11T15:09:31.9599Z"
    },
    "papermill": {
     "duration": 0.070011,
     "end_time": "2022-04-24T17:26:17.824091",
     "exception": false,
     "start_time": "2022-04-24T17:26:17.754080",
     "status": "completed"
    },
    "tags": []
   },
   "outputs": [],
   "source": [
    "# res = re.search(string.strip(), text)\n",
    "# res"
   ]
  },
  {
   "cell_type": "code",
   "execution_count": 19,
   "id": "774ceba3",
   "metadata": {
    "execution": {
     "iopub.execute_input": "2022-04-24T17:26:17.955089Z",
     "iopub.status.busy": "2022-04-24T17:26:17.954330Z",
     "iopub.status.idle": "2022-04-24T17:26:17.957201Z",
     "shell.execute_reply": "2022-04-24T17:26:17.957699Z",
     "shell.execute_reply.started": "2022-04-11T15:12:41.311242Z"
    },
    "papermill": {
     "duration": 0.069917,
     "end_time": "2022-04-24T17:26:17.957889",
     "exception": false,
     "start_time": "2022-04-24T17:26:17.887972",
     "status": "completed"
    },
    "tags": []
   },
   "outputs": [],
   "source": [
    "# entities = []\n",
    "# entities.append((res.start(),res.end(),'p'))"
   ]
  },
  {
   "cell_type": "code",
   "execution_count": 20,
   "id": "bf3d7239",
   "metadata": {
    "execution": {
     "iopub.execute_input": "2022-04-24T17:26:18.090298Z",
     "iopub.status.busy": "2022-04-24T17:26:18.089615Z",
     "iopub.status.idle": "2022-04-24T17:26:18.092442Z",
     "shell.execute_reply": "2022-04-24T17:26:18.093112Z",
     "shell.execute_reply.started": "2022-04-11T15:12:52.736619Z"
    },
    "papermill": {
     "duration": 0.070816,
     "end_time": "2022-04-24T17:26:18.093295",
     "exception": false,
     "start_time": "2022-04-24T17:26:18.022479",
     "status": "completed"
    },
    "tags": []
   },
   "outputs": [],
   "source": [
    "# entities"
   ]
  },
  {
   "cell_type": "code",
   "execution_count": 21,
   "id": "9cbd3517",
   "metadata": {
    "execution": {
     "iopub.execute_input": "2022-04-24T17:26:18.224060Z",
     "iopub.status.busy": "2022-04-24T17:26:18.223380Z",
     "iopub.status.idle": "2022-04-24T17:26:18.226272Z",
     "shell.execute_reply": "2022-04-24T17:26:18.226837Z",
     "shell.execute_reply.started": "2022-04-11T15:06:11.546217Z"
    },
    "papermill": {
     "duration": 0.069824,
     "end_time": "2022-04-24T17:26:18.227039",
     "exception": false,
     "start_time": "2022-04-24T17:26:18.157215",
     "status": "completed"
    },
    "tags": []
   },
   "outputs": [],
   "source": [
    "# text"
   ]
  },
  {
   "cell_type": "code",
   "execution_count": null,
   "id": "a30e029f",
   "metadata": {
    "execution": {
     "iopub.execute_input": "2022-04-11T15:02:33.300092Z",
     "iopub.status.busy": "2022-04-11T15:02:33.299778Z",
     "iopub.status.idle": "2022-04-11T15:02:33.30711Z",
     "shell.execute_reply": "2022-04-11T15:02:33.306345Z",
     "shell.execute_reply.started": "2022-04-11T15:02:33.300061Z"
    },
    "papermill": {
     "duration": 0.074369,
     "end_time": "2022-04-24T17:26:18.372774",
     "exception": false,
     "start_time": "2022-04-24T17:26:18.298405",
     "status": "completed"
    },
    "tags": []
   },
   "outputs": [],
   "source": []
  },
  {
   "cell_type": "code",
   "execution_count": 22,
   "id": "68675107",
   "metadata": {
    "execution": {
     "iopub.execute_input": "2022-04-24T17:26:18.512781Z",
     "iopub.status.busy": "2022-04-24T17:26:18.511259Z",
     "iopub.status.idle": "2022-04-24T17:26:18.516225Z",
     "shell.execute_reply": "2022-04-24T17:26:18.515501Z",
     "shell.execute_reply.started": "2022-04-11T16:21:02.863037Z"
    },
    "papermill": {
     "duration": 0.071278,
     "end_time": "2022-04-24T17:26:18.516396",
     "exception": false,
     "start_time": "2022-04-24T17:26:18.445118",
     "status": "completed"
    },
    "tags": []
   },
   "outputs": [],
   "source": [
    "# import spacy\n",
    "# nlp = spacy.load('en_core_web_sm')"
   ]
  },
  {
   "cell_type": "code",
   "execution_count": 23,
   "id": "0e282468",
   "metadata": {
    "execution": {
     "iopub.execute_input": "2022-04-24T17:26:18.649913Z",
     "iopub.status.busy": "2022-04-24T17:26:18.649213Z",
     "iopub.status.idle": "2022-04-24T17:26:18.652036Z",
     "shell.execute_reply": "2022-04-24T17:26:18.651509Z",
     "shell.execute_reply.started": "2022-04-09T12:19:47.776612Z"
    },
    "papermill": {
     "duration": 0.071557,
     "end_time": "2022-04-24T17:26:18.652189",
     "exception": false,
     "start_time": "2022-04-24T17:26:18.580632",
     "status": "completed"
    },
    "tags": []
   },
   "outputs": [],
   "source": [
    "# !pip install PyPDF2\n",
    "# import PyPDF2\n",
    "# fhandle = open(r'/kaggle/input/sample-pdf/D8communications.pdf', 'rb')\n",
    "# pdfReader = PyPDF2.PdfFileReader(fhandle)\n",
    "# pagehandle = pdfReader.getPage(4)\n",
    "# print(pagehandle.extractText())"
   ]
  },
  {
   "cell_type": "code",
   "execution_count": 24,
   "id": "a34b1fef",
   "metadata": {
    "execution": {
     "iopub.execute_input": "2022-04-24T17:26:18.788387Z",
     "iopub.status.busy": "2022-04-24T17:26:18.787181Z",
     "iopub.status.idle": "2022-04-24T17:26:18.790366Z",
     "shell.execute_reply": "2022-04-24T17:26:18.790921Z",
     "shell.execute_reply.started": "2022-04-09T12:25:37.701467Z"
    },
    "papermill": {
     "duration": 0.071728,
     "end_time": "2022-04-24T17:26:18.791115",
     "exception": false,
     "start_time": "2022-04-24T17:26:18.719387",
     "status": "completed"
    },
    "tags": []
   },
   "outputs": [],
   "source": [
    "# !pip install pdfplumber\n",
    "# import pdfplumber\n",
    "# with pdfplumber.open(r'/kaggle/input/sample-pdf/D8communications.pdf') as pdf:\n",
    "#     first_page = pdf.pages[3]\n",
    "#     print(first_page.extract_text())"
   ]
  },
  {
   "cell_type": "code",
   "execution_count": 25,
   "id": "85846cea",
   "metadata": {
    "execution": {
     "iopub.execute_input": "2022-04-24T17:26:18.925198Z",
     "iopub.status.busy": "2022-04-24T17:26:18.924471Z",
     "iopub.status.idle": "2022-04-24T17:26:18.928274Z",
     "shell.execute_reply": "2022-04-24T17:26:18.928770Z",
     "shell.execute_reply.started": "2022-04-09T12:25:49.584635Z"
    },
    "papermill": {
     "duration": 0.072354,
     "end_time": "2022-04-24T17:26:18.928971",
     "exception": false,
     "start_time": "2022-04-24T17:26:18.856617",
     "status": "completed"
    },
    "tags": []
   },
   "outputs": [],
   "source": [
    "# !pip install pytesseract"
   ]
  },
  {
   "cell_type": "code",
   "execution_count": 26,
   "id": "76452bd6",
   "metadata": {
    "execution": {
     "iopub.execute_input": "2022-04-24T17:26:19.061641Z",
     "iopub.status.busy": "2022-04-24T17:26:19.061015Z",
     "iopub.status.idle": "2022-04-24T17:26:19.063268Z",
     "shell.execute_reply": "2022-04-24T17:26:19.063861Z",
     "shell.execute_reply.started": "2022-04-09T14:49:10.656812Z"
    },
    "papermill": {
     "duration": 0.071518,
     "end_time": "2022-04-24T17:26:19.064050",
     "exception": false,
     "start_time": "2022-04-24T17:26:18.992532",
     "status": "completed"
    },
    "tags": []
   },
   "outputs": [],
   "source": [
    "# #!pip install pdf2image\n",
    "# !pip install poppler"
   ]
  },
  {
   "cell_type": "code",
   "execution_count": 27,
   "id": "569276fa",
   "metadata": {
    "execution": {
     "iopub.execute_input": "2022-04-24T17:26:19.193927Z",
     "iopub.status.busy": "2022-04-24T17:26:19.193282Z",
     "iopub.status.idle": "2022-04-24T17:26:19.196260Z",
     "shell.execute_reply": "2022-04-24T17:26:19.196837Z",
     "shell.execute_reply.started": "2022-04-09T14:57:24.756677Z"
    },
    "papermill": {
     "duration": 0.069486,
     "end_time": "2022-04-24T17:26:19.197023",
     "exception": false,
     "start_time": "2022-04-24T17:26:19.127537",
     "status": "completed"
    },
    "tags": []
   },
   "outputs": [],
   "source": [
    "# pdf2image.convert_from_path('/kaggle/input/sample-pdf/D8communications.pdf')"
   ]
  },
  {
   "cell_type": "code",
   "execution_count": 28,
   "id": "021fac5b",
   "metadata": {
    "execution": {
     "iopub.execute_input": "2022-04-24T17:26:19.327461Z",
     "iopub.status.busy": "2022-04-24T17:26:19.326729Z",
     "iopub.status.idle": "2022-04-24T17:26:19.330508Z",
     "shell.execute_reply": "2022-04-24T17:26:19.331242Z",
     "shell.execute_reply.started": "2022-04-09T14:57:17.576149Z"
    },
    "papermill": {
     "duration": 0.070809,
     "end_time": "2022-04-24T17:26:19.331414",
     "exception": false,
     "start_time": "2022-04-24T17:26:19.260605",
     "status": "completed"
    },
    "tags": []
   },
   "outputs": [],
   "source": [
    "# import pdf2image\n",
    "# try:\n",
    "#     from PIL import Image\n",
    "# except ImportError:\n",
    "#     import Image\n",
    "# import pytesseract\n",
    "\n",
    "\n",
    "# def pdf_to_img(pdf_file):\n",
    "#     return pdf2image.convert_from_path(pdf_file)\n",
    "\n",
    "\n",
    "# def ocr_core(file):\n",
    "#     text = pytesseract.image_to_string(file)\n",
    "#     return text\n",
    "\n",
    "\n",
    "# def print_pages(pdf_file):\n",
    "#     images = pdf_to_img(pdf_file)\n",
    "#     for pg, img in enumerate(images):\n",
    "#         print(ocr_core(img))\n",
    "\n",
    "\n",
    "# print_pages('/kaggle/input/sample-pdf/D8communications.pdf')\n"
   ]
  },
  {
   "cell_type": "code",
   "execution_count": 29,
   "id": "e8aa8c74",
   "metadata": {
    "execution": {
     "iopub.execute_input": "2022-04-24T17:26:19.464109Z",
     "iopub.status.busy": "2022-04-24T17:26:19.463409Z",
     "iopub.status.idle": "2022-04-24T17:26:19.467184Z",
     "shell.execute_reply": "2022-04-24T17:26:19.466500Z"
    },
    "papermill": {
     "duration": 0.072017,
     "end_time": "2022-04-24T17:26:19.467333",
     "exception": false,
     "start_time": "2022-04-24T17:26:19.395316",
     "status": "completed"
    },
    "tags": []
   },
   "outputs": [],
   "source": [
    "# import requests\n",
    "# import fitz\n",
    "# import io\n",
    "\n",
    "# #URL = 'https://buildmedia.readthedocs.org/media/pdf/pdfminer-docs/latest/pdfminer-docs.pdf'\n",
    "# URL = 'https://redactable-devox-stage.s3.us-east-2.amazonaws.com/tenants/41d9e109-693b-444c-aa18-e5891bc6550b/original/1a7c0e5d-3237-4ca9-9e3d-89e707245ac6/D8communications.pdf'\n",
    "\n",
    "\n",
    "# res = requests.get(URL)\n",
    "# filestream = io.BytesIO(res.content)\n",
    "# #res.content\n",
    "# filestream\n",
    "# doc = fitz.Document(stream=filestream)\n",
    "# page1 = doc.loadPage(3)\n",
    "# page1text = page1.getText(\"text\").encode(\"utf-8\").decode(\"utf-8\")\n",
    "# print(page1text)"
   ]
  },
  {
   "cell_type": "code",
   "execution_count": 30,
   "id": "ce0366c4",
   "metadata": {
    "execution": {
     "iopub.execute_input": "2022-04-24T17:26:19.602090Z",
     "iopub.status.busy": "2022-04-24T17:26:19.601373Z",
     "iopub.status.idle": "2022-04-24T17:26:19.604183Z",
     "shell.execute_reply": "2022-04-24T17:26:19.603644Z",
     "shell.execute_reply.started": "2022-04-09T07:04:56.590103Z"
    },
    "papermill": {
     "duration": 0.072522,
     "end_time": "2022-04-24T17:26:19.604336",
     "exception": false,
     "start_time": "2022-04-24T17:26:19.531814",
     "status": "completed"
    },
    "tags": []
   },
   "outputs": [],
   "source": [
    "# import requests\n",
    "# import fitz\n",
    "\n",
    "# #URL = 'https://buildmedia.readthedocs.org/media/pdf/pdfminer-docs/latest/pdfminer-docs.pdf'\n",
    "# URL = 'https://redactable-devox-stage.s3.us-east-2.amazonaws.com/tenants/41d9e109-693b-444c-aa18-e5891bc6550b/original/1a7c0e5d-3237-4ca9-9e3d-89e707245ac6/D8communications.pdf'\n",
    "\n",
    "\n",
    "# res = requests.get(URL)\n",
    "# doc = fitz.open(stream=res.content,filetype=\"pdf\")\n",
    "# page1 = doc.loadPage(3)\n",
    "# page1text = page1.getText(\"text\")\n",
    "# #rect = (72.1149,661.2966,131.95729,675.1716)\n",
    "# rect=(72.10812377929688, 116.13427734375, 133.97142028808594, 146.4227294921875)\n",
    "# labelled_text = page1.get_textbox(rect)\n",
    "# print(labelled_text.strip())\n",
    "\n",
    "# fulltext = page1.get_text()\n",
    "# print(fulltext)\n",
    "# doc = nlp(fulltext)\n",
    "# sentences = []\n",
    "# for sent in doc.sents:\n",
    "#     if labelled_text in sent.text:\n",
    "#         text = sent.text\n",
    "#         print(text)\n",
    "# #print(page1text)"
   ]
  },
  {
   "cell_type": "code",
   "execution_count": 31,
   "id": "5490b479",
   "metadata": {
    "execution": {
     "iopub.execute_input": "2022-04-24T17:26:19.737293Z",
     "iopub.status.busy": "2022-04-24T17:26:19.736477Z",
     "iopub.status.idle": "2022-04-24T17:26:19.739647Z",
     "shell.execute_reply": "2022-04-24T17:26:19.739104Z",
     "shell.execute_reply.started": "2022-04-08T16:42:57.6659Z"
    },
    "papermill": {
     "duration": 0.071014,
     "end_time": "2022-04-24T17:26:19.739799",
     "exception": false,
     "start_time": "2022-04-24T17:26:19.668785",
     "status": "completed"
    },
    "tags": []
   },
   "outputs": [],
   "source": [
    "#res.content"
   ]
  },
  {
   "cell_type": "code",
   "execution_count": 32,
   "id": "a0ade42f",
   "metadata": {
    "execution": {
     "iopub.execute_input": "2022-04-24T17:26:19.871984Z",
     "iopub.status.busy": "2022-04-24T17:26:19.871236Z",
     "iopub.status.idle": "2022-04-24T17:26:19.875243Z",
     "shell.execute_reply": "2022-04-24T17:26:19.875773Z",
     "shell.execute_reply.started": "2022-04-08T16:48:05.672392Z"
    },
    "papermill": {
     "duration": 0.071898,
     "end_time": "2022-04-24T17:26:19.875974",
     "exception": false,
     "start_time": "2022-04-24T17:26:19.804076",
     "status": "completed"
    },
    "tags": []
   },
   "outputs": [],
   "source": [
    "# import fitz\n",
    "# # mem_area=\n",
    "# # doc = fitz.open(stream=mem_area, filetype=\"pdf\")\n",
    "\n",
    "# import requests\n",
    "\n",
    "# URL = 'https://redactable-devox-stage.s3.us-east-2.amazonaws.com/tenants/41d9e109-693b-444c-aa18-e5891bc6550b/original/1a7c0e5d-3237-4ca9-9e3d-89e707245ac6/D8communications.pdf'\n",
    "\n",
    "# #res = requests.get(URL)\n",
    "# doc=fitz.open(\"/kaggle/input/sample-pdf/D8communications.pdf\")\n",
    "# #doc = fitz.open(stream=res.content,filetype=\"pdf\")\n",
    "# page1 = doc.loadPage(4)\n",
    "# # page1text = page1.getText(\"text\")\n",
    "# # print(page1text)\n",
    "# blocks = page1.getText(\"blocks\")\n",
    "# blocks.sort(key=lambda block: block[1])  # sort vertically ascending\n",
    "\n",
    "# for b in blocks:\n",
    "#     print(b[4])\n"
   ]
  },
  {
   "cell_type": "code",
   "execution_count": 33,
   "id": "7d0e948e",
   "metadata": {
    "execution": {
     "iopub.execute_input": "2022-04-24T17:26:20.009358Z",
     "iopub.status.busy": "2022-04-24T17:26:20.008593Z",
     "iopub.status.idle": "2022-04-24T17:26:20.011849Z",
     "shell.execute_reply": "2022-04-24T17:26:20.012404Z",
     "shell.execute_reply.started": "2022-04-08T16:48:13.086323Z"
    },
    "papermill": {
     "duration": 0.072848,
     "end_time": "2022-04-24T17:26:20.012595",
     "exception": false,
     "start_time": "2022-04-24T17:26:19.939747",
     "status": "completed"
    },
    "tags": []
   },
   "outputs": [],
   "source": [
    "# # page = doc[1]\n",
    "# words = page.get_text(\"words\")\n",
    "# #print(words)\n",
    "# rect = (72.1149,661.2966,131.95729,675.1716)\n",
    "\n",
    "# labelled_text = page.get_textbox(rect)\n",
    "# # labelled_text"
   ]
  },
  {
   "cell_type": "markdown",
   "id": "7868f2d2",
   "metadata": {
    "papermill": {
     "duration": 0.063421,
     "end_time": "2022-04-24T17:26:20.141327",
     "exception": false,
     "start_time": "2022-04-24T17:26:20.077906",
     "status": "completed"
    },
    "tags": []
   },
   "source": [
    "pip install PyPDF2"
   ]
  },
  {
   "cell_type": "code",
   "execution_count": null,
   "id": "e9e6002c",
   "metadata": {
    "papermill": {
     "duration": 0.069167,
     "end_time": "2022-04-24T17:26:20.274927",
     "exception": false,
     "start_time": "2022-04-24T17:26:20.205760",
     "status": "completed"
    },
    "tags": []
   },
   "outputs": [],
   "source": []
  },
  {
   "cell_type": "code",
   "execution_count": 34,
   "id": "913997ed",
   "metadata": {
    "execution": {
     "iopub.execute_input": "2022-04-24T17:26:20.408308Z",
     "iopub.status.busy": "2022-04-24T17:26:20.407528Z",
     "iopub.status.idle": "2022-04-24T17:26:20.410847Z",
     "shell.execute_reply": "2022-04-24T17:26:20.411405Z",
     "shell.execute_reply.started": "2022-03-18T16:48:58.370268Z"
    },
    "papermill": {
     "duration": 0.07175,
     "end_time": "2022-04-24T17:26:20.411588",
     "exception": false,
     "start_time": "2022-04-24T17:26:20.339838",
     "status": "completed"
    },
    "tags": []
   },
   "outputs": [],
   "source": [
    "# import pandas as pd\n",
    "# h={'step': 0, 'type': 'string', 'amount': 0.0, 'nameOrig': 'C1231006815', 'oldbalanceOrig': 0.0, 'newbalanceOrig': 0.0, 'nameDest': 'M1979787155', 'oldbalanceDest': 0.0, 'newbalanceDest': 0.0}\n",
    "# df=pd.DataFrame([h])"
   ]
  },
  {
   "cell_type": "code",
   "execution_count": 35,
   "id": "05024c7d",
   "metadata": {
    "execution": {
     "iopub.execute_input": "2022-04-24T17:26:20.547216Z",
     "iopub.status.busy": "2022-04-24T17:26:20.546490Z",
     "iopub.status.idle": "2022-04-24T17:26:20.549480Z",
     "shell.execute_reply": "2022-04-24T17:26:20.548934Z",
     "shell.execute_reply.started": "2022-04-09T17:21:26.021615Z"
    },
    "papermill": {
     "duration": 0.072218,
     "end_time": "2022-04-24T17:26:20.549632",
     "exception": false,
     "start_time": "2022-04-24T17:26:20.477414",
     "status": "completed"
    },
    "tags": []
   },
   "outputs": [],
   "source": [
    "#df"
   ]
  },
  {
   "cell_type": "code",
   "execution_count": null,
   "id": "514a473c",
   "metadata": {
    "papermill": {
     "duration": 0.064806,
     "end_time": "2022-04-24T17:26:20.679112",
     "exception": false,
     "start_time": "2022-04-24T17:26:20.614306",
     "status": "completed"
    },
    "tags": []
   },
   "outputs": [],
   "source": []
  }
 ],
 "metadata": {
  "kernelspec": {
   "display_name": "Python 3",
   "language": "python",
   "name": "python3"
  },
  "language_info": {
   "codemirror_mode": {
    "name": "ipython",
    "version": 3
   },
   "file_extension": ".py",
   "mimetype": "text/x-python",
   "name": "python",
   "nbconvert_exporter": "python",
   "pygments_lexer": "ipython3",
   "version": "3.7.12"
  },
  "papermill": {
   "default_parameters": {},
   "duration": 22.775189,
   "end_time": "2022-04-24T17:26:21.455530",
   "environment_variables": {},
   "exception": null,
   "input_path": "__notebook__.ipynb",
   "output_path": "__notebook__.ipynb",
   "parameters": {},
   "start_time": "2022-04-24T17:25:58.680341",
   "version": "2.3.3"
  }
 },
 "nbformat": 4,
 "nbformat_minor": 5
}
