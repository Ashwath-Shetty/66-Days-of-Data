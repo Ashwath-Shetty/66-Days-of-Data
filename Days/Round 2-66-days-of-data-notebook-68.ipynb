{
 "cells": [
  {
   "cell_type": "code",
   "execution_count": 1,
   "id": "63cf705d",
   "metadata": {
    "_cell_guid": "b1076dfc-b9ad-4769-8c92-a6c4dae69d19",
    "_uuid": "8f2839f25d086af736a60e9eeb907d3b93b6e0e5",
    "execution": {
     "iopub.execute_input": "2022-05-18T17:04:11.357105Z",
     "iopub.status.busy": "2022-05-18T17:04:11.355891Z",
     "iopub.status.idle": "2022-05-18T17:04:11.371076Z",
     "shell.execute_reply": "2022-05-18T17:04:11.371612Z",
     "shell.execute_reply.started": "2022-04-12T14:12:25.248687Z"
    },
    "papermill": {
     "duration": 0.090905,
     "end_time": "2022-05-18T17:04:11.371925",
     "exception": false,
     "start_time": "2022-05-18T17:04:11.281020",
     "status": "completed"
    },
    "tags": []
   },
   "outputs": [
    {
     "name": "stdout",
     "output_type": "stream",
     "text": [
      "/kaggle/input/sample-pdf/D8communications.pdf\n"
     ]
    }
   ],
   "source": [
    "# This Python 3 environment comes with many helpful analytics libraries installed\n",
    "# It is defined by the kaggle/python Docker image: https://github.com/kaggle/docker-python\n",
    "# For example, here's several helpful packages to load\n",
    "\n",
    "import numpy as np # linear algebra\n",
    "import pandas as pd # data processing, CSV file I/O (e.g. pd.read_csv)\n",
    "\n",
    "# Input data files are available in the read-only \"../input/\" directory\n",
    "# For example, running this (by clicking run or pressing Shift+Enter) will list all files under the input directory\n",
    "\n",
    "import os\n",
    "for dirname, _, filenames in os.walk('/kaggle/input'):\n",
    "    for filename in filenames:\n",
    "        print(os.path.join(dirname, filename))\n",
    "\n",
    "# You can write up to 20GB to the current directory (/kaggle/working/) that gets preserved as output when you create a version using \"Save & Run All\" \n",
    "# You can also write temporary files to /kaggle/temp/, but they won't be saved outside of the current session"
   ]
  },
  {
   "cell_type": "markdown",
   "id": "34207dd9",
   "metadata": {
    "papermill": {
     "duration": 0.067457,
     "end_time": "2022-05-18T17:04:11.509044",
     "exception": false,
     "start_time": "2022-05-18T17:04:11.441587",
     "status": "completed"
    },
    "tags": []
   },
   "source": [
    "# **Start Date: 12/3/2022**"
   ]
  },
  {
   "cell_type": "markdown",
   "id": "5808869f",
   "metadata": {
    "papermill": {
     "duration": 0.06745,
     "end_time": "2022-05-18T17:04:11.644775",
     "exception": false,
     "start_time": "2022-05-18T17:04:11.577325",
     "status": "completed"
    },
    "tags": []
   },
   "source": [
    "# **Day 1:** \n",
    "<br>dataquest -> stats -> probability-> estimating probability\n",
    "1. out come is nothing but o/p of an experiment\n",
    "ex: whatever u get after rolling a dice -> it can be any number\n",
    "2. event can have more than one outcome\n",
    "- e.x: The event that we'll get an odd number when we roll a six-sided die — this event includes the outcomes 1, 3, and 5.\n",
    "- an event can be 0 as well.\n",
    "- We always assign probabilities to events, not outcomes, even if the event includes only one outcome.\n",
    "- P(E) =1/total number of possible outcomes, P(E) probability of an event happening.\n",
    "- but above formula doesn't work always, especially when there are more than one outcome\n",
    "    - P(E)=number of successful outcomes/total number of possible outcomes\n",
    "- incase of a biased situation \n",
    "  - let's say a die has 6 - 3 times which is 1,6,3,5,6,6\n",
    "    we will consider 6 as 3 times not 1.\n",
    "    possible outcome-> 1,3,5,6,6,6\n",
    "    prob(6)=3/6\n",
    "    prob(3)=1/6\n",
    "    prob(2)=0/6\n",
    "    If we didn't treat each 6 differently and said it doesn't matter which side a 6 is on, \n",
    "    <br>we'd be forced to conclude the only possible outcomes are 1, 3, 5 and 6. We can definitely         <br>frame the problem like that, but the formula above won't work anymore — we see below P(6) <br>becomes the same as P(3), but, intuitively, P(6) should be higher than P(3) since the die has 6 on     <br>three of its sides:\n"
   ]
  },
  {
   "cell_type": "markdown",
   "id": "f792820b",
   "metadata": {
    "papermill": {
     "duration": 0.067864,
     "end_time": "2022-05-18T17:04:11.780710",
     "exception": false,
     "start_time": "2022-05-18T17:04:11.712846",
     "status": "completed"
    },
    "tags": []
   },
   "source": [
    "Estimating Probabilities Conclusion\n",
    "- emperical/ experimental probability\n",
    "  - probability achieved by experimenting / by doing the same event multiple times.\n",
    "  - Generally, for any event E (like a coin landing heads up), we can find its empirical probability   \n",
    "     by using the following formula: \n",
    "     •P (E) =number of times event E happened/ number of times we repeated the experiment   \n",
    " - Generally, the empirical probability of an event (a coin landing heads up, getting a 5 when weroll a die) approaches the true probability value as the number of trials of the randomexperiment (a coin toss, the rolling of a die) increases without bound.\n",
    "- When we calculate the probability of an event under the assumption that the outcomes have equal chances of occurring, we say that we're calculating the **theoretical probability** of an event.\n",
    "   - P(E)=number of successful outcomes/total number of possible outcomes\n",
    "\n"
   ]
  },
  {
   "cell_type": "markdown",
   "id": "0e5218e6",
   "metadata": {
    "papermill": {
     "duration": 0.069608,
     "end_time": "2022-05-18T17:04:11.922172",
     "exception": false,
     "start_time": "2022-05-18T17:04:11.852564",
     "status": "completed"
    },
    "tags": []
   },
   "source": [
    "# **Day 2**\n",
    "<br>dataquest-> stats -> intro to probability -> probability rules\n",
    "<br>In probability theory, the set of all possible outcomes is called a sample space. A sample space is often denoted by the capital Greek letter Ω (read \"omega\"). This is how we represent the sample space of a die roll:\n",
    "\n",
    "Ω = {1,2,3,4,5,6}\n",
    "-    The probability of any event ranges between 0 and 1: 0≤ P(Event) ≤1\n",
    "- To calculate P(A or B), we can also use the formula below, which is sometimes called the addition rule: P(A or B) = P(A) + P(B)\n",
    "  - Sample space ={ 1,2,3,4,5,6} \n",
    "  - P(2 or 5) = 2/6\n",
    "\n",
    "- P(C or D) = P(C) + P(D) - P(C and D)\n",
    "   - e.x : Sample_space ={2,4,6} + { 4,5,6} - {4/6}\n",
    "      P( even number or number greater than 3) = ( (3/6) + (3/6) )- (2/6) = 4/6\n",
    "- Events that don't intersect are called mutually exclusive.\n",
    "  - e.x: Getting a 5 (event one) and getting a 3 (event two) when we roll a regular six-sided die — it's  impossible to get both a 5 and 3.\n",
    "- Events that intersect are called mutually non-exclusive.\n",
    "  - Getting a number greater than 2 (event one) and getting an odd number (event two) when we roll a regular six-sided die — we could get a 5, which is both greater than 2 (event one) and odd (event two).\n",
    "- unioun -> A or B, intersection -> A and B"
   ]
  },
  {
   "cell_type": "markdown",
   "id": "7ef8db47",
   "metadata": {
    "papermill": {
     "duration": 0.07116,
     "end_time": "2022-05-18T17:04:12.061820",
     "exception": false,
     "start_time": "2022-05-18T17:04:11.990660",
     "status": "completed"
    },
    "tags": []
   },
   "source": [
    "# Day 3 and 4\n",
    "dataquest -> stats -> probabilities -> solving complex probabilities\n",
    "- This is the same result we got from our previous approach. In more general terms, the multiplication rule says that for two events E1 and E2, the probability that both event E1 and E2 happen can be found by multiplying the probability of E1 by the probability of E2:\n",
    "    - P(E1 ∩ E2) = P(E1) × P(E2)\n",
    "    - Events that don't influence each other's probability are called independent events. If H1 happens, P(H2) stays the same, so H1 and H2 are independent. The multiplication rule we learned only works for independent events.\n",
    "    "
   ]
  },
  {
   "cell_type": "markdown",
   "id": "c2507a9c",
   "metadata": {
    "papermill": {
     "duration": 0.068215,
     "end_time": "2022-05-18T17:04:12.198810",
     "exception": false,
     "start_time": "2022-05-18T17:04:12.130595",
     "status": "completed"
    },
    "tags": []
   },
   "source": [
    "# Day 5\n",
    "- When we replace the cards after drawing, we say that we're sampling with replacement. When we don't put the cards back, we're sampling without replacement. \n"
   ]
  },
  {
   "cell_type": "markdown",
   "id": "b752a72c",
   "metadata": {
    "papermill": {
     "duration": 0.067662,
     "end_time": "2022-05-18T17:04:12.335232",
     "exception": false,
     "start_time": "2022-05-18T17:04:12.267570",
     "status": "completed"
    },
    "tags": []
   },
   "source": [
    "# Day6\n",
    "dataquest-> prob and stats -> probability fundamentals -> permutation and combinations\n",
    "Generally, if we have an experiment E1 (like flipping a coin) with a outcomes, followed by an experiment E2 (like rolling a die) with b outcomes, then the total number of outcomes for the composite experiment E1E2 can be found by multiplying a with b:\n",
    "\n",
    "Number of outcomes = a * b"
   ]
  },
  {
   "cell_type": "markdown",
   "id": "cbab3db0",
   "metadata": {
    "papermill": {
     "duration": 0.067573,
     "end_time": "2022-05-18T17:04:12.470844",
     "exception": false,
     "start_time": "2022-05-18T17:04:12.403271",
     "status": "completed"
    },
    "tags": []
   },
   "source": [
    "# Day 7\n",
    "dataquest-> prob and stats -> probability fundamentals -> permutation and combinations <br>\n",
    "More generally, if we have an experiment E1 with a outcomes, followed by an experiment E2 with b outcomes, followed by an experiment En with z outcomes, the total number of outcomes for the composite experiment E1E2 ... En can be found by multiplying their individual outcomes:\n",
    "\n",
    "Number of outcomes= a * b * … * z"
   ]
  },
  {
   "cell_type": "markdown",
   "id": "54ae6c86",
   "metadata": {
    "papermill": {
     "duration": 0.067817,
     "end_time": "2022-05-18T17:04:12.606307",
     "exception": false,
     "start_time": "2022-05-18T17:04:12.538490",
     "status": "completed"
    },
    "tags": []
   },
   "source": [
    "# Day 8\n",
    "dataquest-> prob and stats -> probability fundamentals -> permutation and combinations <br>\n",
    "permutations= n*(n-1)*(n-2)*....*2*1\n"
   ]
  },
  {
   "cell_type": "markdown",
   "id": "d82e9a39",
   "metadata": {
    "papermill": {
     "duration": 0.067656,
     "end_time": "2022-05-18T17:04:12.743182",
     "exception": false,
     "start_time": "2022-05-18T17:04:12.675526",
     "status": "completed"
    },
    "tags": []
   },
   "source": [
    "# Day 9\n",
    "dataquest-> prob and stats -> probability fundamentals -> permutation and combinations\n",
    "- in permutation order of the individual element in the arranement matters.\n",
    "   - for e.x: 9821 is different than 9281\n",
    "   - Permutations =n!  --> sample without replacement-> we are not putting back the sampled data.\n",
    "   - On the last screen, we learned to use the formula below to calculate permutations when we're sampling without replacement and taking only k objects from a group of n objects:\n",
    "   npk=n!/(n-k)!"
   ]
  },
  {
   "cell_type": "markdown",
   "id": "5a5de9c9",
   "metadata": {
    "papermill": {
     "duration": 0.069057,
     "end_time": "2022-05-18T17:04:12.880279",
     "exception": false,
     "start_time": "2022-05-18T17:04:12.811222",
     "status": "completed"
    },
    "tags": []
   },
   "source": [
    "# Day 10\n",
    "dataquest-> prob and stats -> probability fundamentals -> permutation and combinations\n",
    "- More generally, if the order of the elements in an arrangement doesn't matter, the arrangement is called a combination.\n",
    "- e.x: cards in a deck \n",
    "- nCk = n! / ((n-k)!*k!)"
   ]
  },
  {
   "cell_type": "markdown",
   "id": "b943b106",
   "metadata": {
    "papermill": {
     "duration": 0.072085,
     "end_time": "2022-05-18T17:04:13.022172",
     "exception": false,
     "start_time": "2022-05-18T17:04:12.950087",
     "status": "completed"
    },
    "tags": []
   },
   "source": [
    "# Day 11\n",
    "dataquest-> prob and stats -> probability fundamentals -> permutation and combinations\n",
    "- solved 1 probability problem.\n"
   ]
  },
  {
   "cell_type": "markdown",
   "id": "60f2a586",
   "metadata": {
    "papermill": {
     "duration": 0.069394,
     "end_time": "2022-05-18T17:04:13.162446",
     "exception": false,
     "start_time": "2022-05-18T17:04:13.093052",
     "status": "completed"
    },
    "tags": []
   },
   "source": [
    "# Day 12\n",
    "dataquest-> prob and stats -> probability fundamentals -> permutation and combinations\n",
    "- finished probability and permutations by revising them.\n",
    "- If we have an experiment E1 (like flipping a coin) with a outcomes, followed by an experiment E2(like rolling a die) with b outcomes, then the total number of outcomes for the compositeexperiment E1E2 can be found by multiplying a with b (this is known as the rule of product):\n",
    "  - number of outcomes = a*b\n",
    "- If we have an experiment E1 with a outcomes, followed by an experiment E2 with b outcomes,followed by an experiment En with z outcomes, the total number of outcomes for the compositeexperiment E1E2 ... En can be found by multiplying their individual outcomes:\n",
    "   - number of outcomes = a*b* ... *z\n",
    "- There are two kinds of arrangements:\n",
    "   - •Arrangements where the order matters, which we call permutations.\n",
    "   - •Arrangements where the order doesn't matter, which we call combination\n",
    "- To find the number of permutations when we're sampling without replacement, we can use theformula:\n",
    "  - permutation = n!\n",
    "- To find the number of permutations when we're sampling without replacement and taking only kobjects from a group of n objects, we can use the formula:\n",
    "  - nPk = n!/(n-k)!\n",
    "- To find the number of combinations when we're sampling without replacement and taking only kobjects from a group of n objects, we can use the formula\n",
    "  - nCk = n! / ((n-k)!*k!)"
   ]
  },
  {
   "cell_type": "markdown",
   "id": "2019e4d0",
   "metadata": {
    "papermill": {
     "duration": 0.068013,
     "end_time": "2022-05-18T17:04:13.298665",
     "exception": false,
     "start_time": "2022-05-18T17:04:13.230652",
     "status": "completed"
    },
    "tags": []
   },
   "source": [
    "# Day 13\n",
    "dataquest-> prob and stats -> probability fundamentals -> conditional probabilities\n",
    "- first 2 slides -> mainly the recap of old chapter(above one).\n"
   ]
  },
  {
   "cell_type": "markdown",
   "id": "98689626",
   "metadata": {
    "papermill": {
     "duration": 0.069496,
     "end_time": "2022-05-18T17:04:13.438256",
     "exception": false,
     "start_time": "2022-05-18T17:04:13.368760",
     "status": "completed"
    },
    "tags": []
   },
   "source": [
    "# Day 14\n",
    "dataquest-> prob and stats -> probability fundamentals -> conditional probabilities\n",
    "<br>slide 4 completed\n",
    "<br>conditional probabilities\n",
    "- probabilities with condition\n",
    "- P(5)=What is the probability of getting a 5? -> normal probability\n",
    "- P(5 | odd) =What is the probability of getting a 5 given the die showed an odd number? -> conditional prob.\n",
    "\n"
   ]
  },
  {
   "cell_type": "markdown",
   "id": "cb00ee4f",
   "metadata": {
    "papermill": {
     "duration": 0.067842,
     "end_time": "2022-05-18T17:04:13.576795",
     "exception": false,
     "start_time": "2022-05-18T17:04:13.508953",
     "status": "completed"
    },
    "tags": []
   },
   "source": [
    "# Day 15\n",
    "dataquest-> prob and stats -> probability fundamentals -> conditional probabilities\n",
    "- on slide 5 not done yet.\n",
    "\n",
    "Say we roll a fair six-sided die and want to find the probability of getting an odd number, given the die showed a number greater than 1 after landing. Using probability notation, we want to find P(A|B) where:\n",
    "\n",
    "- A is the event that the number is odd: A = {1, 3, 5}\n",
    "- B is the event that the number is greater than 1: B = {2, 3, 4, 5, 6}\n",
    "- P(A/B)=number of succesfull outcomes / total number of outcomes.\n"
   ]
  },
  {
   "cell_type": "markdown",
   "id": "a32ff49d",
   "metadata": {
    "papermill": {
     "duration": 0.069534,
     "end_time": "2022-05-18T17:04:13.714546",
     "exception": false,
     "start_time": "2022-05-18T17:04:13.645012",
     "status": "completed"
    },
    "tags": []
   },
   "source": [
    "# Day 16 and 17\n",
    "dataquest-> prob and stats -> probability fundamentals -> conditional probabilities\n",
    "\n",
    "on slide 6 not done yet."
   ]
  },
  {
   "cell_type": "markdown",
   "id": "64338237",
   "metadata": {
    "papermill": {
     "duration": 0.067853,
     "end_time": "2022-05-18T17:04:13.852461",
     "exception": false,
     "start_time": "2022-05-18T17:04:13.784608",
     "status": "completed"
    },
    "tags": []
   },
   "source": [
    "# Day 18\n",
    "dataquest-> prob and stats -> probability fundamentals -> conditional probabilities\n",
    "<br>slide 5 code half done"
   ]
  },
  {
   "cell_type": "markdown",
   "id": "debf4723",
   "metadata": {
    "papermill": {
     "duration": 0.068099,
     "end_time": "2022-05-18T17:04:13.989442",
     "exception": false,
     "start_time": "2022-05-18T17:04:13.921343",
     "status": "completed"
    },
    "tags": []
   },
   "source": [
    "# Day 19\n",
    "- The number of elements in a set is called the cardinal of the set. \n",
    "  Ω is a set, and the cardinal of \n",
    "   Ω = { 2,3,4,5,6}\n",
    "   cardinal(Ω)=5\n",
    "- P(A | B) = card(A ∩ B) / card(B)\n",
    "- Say we roll a fair six-sided die and want to find the probability of getting an odd number, given the die showed a number greater than 1 after landing. Using probability notation, we want to find P(A|B) where:\n",
    "    - A is the event that the number is odd: A = {1, 3, 5}\n",
    "     - B is the event that the number is greater than 1: B = {2, 3, 4, 5, 6}\n",
    "     - total number of possible outcomes = card({2,3,4,5,6}) =5\n",
    "     - number of successful outcomes = card({3,5})= 2\n",
    "- P(A | B) = card(A ∩ B) / card(B), we can also get the same result using P(A | B) = prob(A ∩ B) / prob(B)\n",
    "\n",
    "     "
   ]
  },
  {
   "cell_type": "markdown",
   "id": "9a5c92b0",
   "metadata": {
    "papermill": {
     "duration": 0.068099,
     "end_time": "2022-05-18T17:04:14.130336",
     "exception": false,
     "start_time": "2022-05-18T17:04:14.062237",
     "status": "completed"
    },
    "tags": []
   },
   "source": [
    "# Day 20\n",
    "dataquest-> prob and stats -> probability fundamentals -> conditional probabilities intermediate\n",
    "<br> slide 1 and 2\n",
    "- P( A | B ) ≠ P(A ∩ B), but rather:\n",
    "   - P(A | B) = P(A ∩ B) / P(B)\n",
    "   - P(A ∩ B) = P(A | B) ⋅ P(B)\n",
    "- Given that a customer bought a laptop, they will or will not also buy a mouse. This means we can be certain that either event (M|L) or (M^C|L) will happen:\n",
    "     - P(M | L) + P(M^C | L) = 1\n",
    "\n"
   ]
  },
  {
   "cell_type": "markdown",
   "id": "ffc5ae13",
   "metadata": {
    "papermill": {
     "duration": 0.067818,
     "end_time": "2022-05-18T17:04:14.267262",
     "exception": false,
     "start_time": "2022-05-18T17:04:14.199444",
     "status": "completed"
    },
    "tags": []
   },
   "source": [
    "# Day 21\n",
    "dataquest-> prob and stats -> probability fundamentals -> conditional probabilities intermediate\n",
    "slide 1 and 2\n",
    "- P(A ∩ B) = P(B ∩ A)\n",
    "- multiplication rule of probability\n",
    "  -  P(A ∩ B) = P(B) ⋅ P(A | B) \n",
    "  - P(A ∩ B) = P(A) ⋅ P(B | A)\n",
    "- if P(A) and P(B) are statistically independent then \n",
    "  - P(A ∩ B) = P(A) ⋅ P(B)\n",
    "\n"
   ]
  },
  {
   "cell_type": "markdown",
   "id": "0e6860e3",
   "metadata": {
    "papermill": {
     "duration": 0.06737,
     "end_time": "2022-05-18T17:04:14.402726",
     "exception": false,
     "start_time": "2022-05-18T17:04:14.335356",
     "status": "completed"
    },
    "tags": []
   },
   "source": [
    "# Day 22\n",
    "dataquest-> prob and stats -> probability fundamentals -> conditional probabilities intermediate \n",
    "<br>slide 6\n",
    "- If events events A and B are dependent, it means the occurrence of event A changes the probability of event B and vice versa.\n",
    "   - P(A) ≠ P(A | B)\n",
    "   - P(B) ≠ P(B | A)\n",
    "   - P(A ∩ B) ≠ P(A) ⋅ P(B)\n",
    "   - formula will become P(A ∩ B) ≠ P(A) ⋅ P(B/A)\n",
    "   "
   ]
  },
  {
   "cell_type": "markdown",
   "id": "da882505",
   "metadata": {
    "papermill": {
     "duration": 0.067759,
     "end_time": "2022-05-18T17:04:14.539805",
     "exception": false,
     "start_time": "2022-05-18T17:04:14.472046",
     "status": "completed"
    },
    "tags": []
   },
   "source": [
    "# Day 23\n",
    "dataquest-> prob and stats -> probability fundamentals -> conditional probabilities intermediate\n",
    "<br>slide 7 to last\n",
    "- To find whether three events — A, B, C — are independent or not, below conditions must hold true -\n",
    "  - P(A ∩ B) ≠ P(A) ⋅ P(B)\n",
    "  - P(A ∩ C) ≠ P(A) ⋅ P(C)\n",
    "  - P(B ∩ C) ≠ P(B) ⋅ P(C)\n",
    "  - P(A ∩ B ∩ C) ≠ P(A) ⋅ P(B) . P(C)\n",
    "- multiplication rule for conditional probability or dependent events\n",
    " - P(A ∩ B ∩ C) = P(A) ⋅ P(B | A) ⋅ P(C | A ∩ B)\n",
    " \n",
    "\n"
   ]
  },
  {
   "cell_type": "markdown",
   "id": "e92a6a05",
   "metadata": {
    "papermill": {
     "duration": 0.067646,
     "end_time": "2022-05-18T17:04:14.675688",
     "exception": false,
     "start_time": "2022-05-18T17:04:14.608042",
     "status": "completed"
    },
    "tags": []
   },
   "source": [
    "# Day 24\n",
    "dataquest-> prob and stats -> probability fundamentals -> bayes theorem\n",
    "<br>slide 1\n",
    "- independent -> one event is dependent on other\n",
    "   - P(A ∩ B) = P(A) ⋅ P(B/A)\n",
    "- independent -> one event is not dependent on other.\n",
    "   - P(A ∩ B) = P(A) ⋅ P(B)\n",
    "- mutually exclusive -> both the events cannot happen at the same time.\n",
    "   - P(A ∩ B) = 0\n",
    "\n"
   ]
  },
  {
   "cell_type": "markdown",
   "id": "18eaf3b4",
   "metadata": {
    "papermill": {
     "duration": 0.067868,
     "end_time": "2022-05-18T17:04:14.811833",
     "exception": false,
     "start_time": "2022-05-18T17:04:14.743965",
     "status": "completed"
    },
    "tags": []
   },
   "source": [
    "# Day 25\n",
    "dataquest-> prob and stats -> probability fundamentals -> bayes theorem\n",
    "<br>slide 2\n",
    "- If two events are exhaustive, it means they make up the whole sample space Ω\n",
    "  -  P(A) = P(A ∩ B) + P(A ∩ B^c)\n",
    "     P(A) = (P(B) * P(A/B)) +  (P(B^c) * P(A/B^c))\n",
    "     \n",
    "     "
   ]
  },
  {
   "cell_type": "markdown",
   "id": "8322840a",
   "metadata": {
    "papermill": {
     "duration": 0.068849,
     "end_time": "2022-05-18T17:04:14.949800",
     "exception": false,
     "start_time": "2022-05-18T17:04:14.880951",
     "status": "completed"
    },
    "tags": []
   },
   "source": [
    "# Day 26\n",
    "dataquest-> prob and stats -> probability fundamentals -> bayes theorem\n",
    "<br>slide 3 - last\n",
    "- the law of total probability\n",
    "  - P(A)  = (P(B1) * P(A/B1)) + (P(B2) * P(A/B2))+ ... + (P(Bn) * P(A/Bn)))\n",
    "  - P(A) =(summattion i=1 to n) P(Bi) ⋅ P(A|Bi)\n",
    "- Baye's theorem\n",
    "  - P(B | A) = (P(B) ⋅ P(A | B)) / (n ∑i=1 P(Bi) ⋅ P(A | Bi))\n",
    "- The probability of being infected with HIV before doing any test is called the prior probability (\"prior\" means \"before\"). The probability of being infected with HIV after testing positive is called the posterior probability (\"posterior\" means \"after\").\n",
    "\n",
    "\n",
    "  "
   ]
  },
  {
   "cell_type": "markdown",
   "id": "92ebf39d",
   "metadata": {
    "papermill": {
     "duration": 0.068604,
     "end_time": "2022-05-18T17:04:15.087388",
     "exception": false,
     "start_time": "2022-05-18T17:04:15.018784",
     "status": "completed"
    },
    "tags": []
   },
   "source": [
    "# Day 27\n",
    "dataquest-> prob and stats -> probability fundamentals -> naive bayes theorem\n",
    "<br>slide 1 - \n",
    "P(Spam|w1,w2,w3,w4)∝P(Spam)⋅P(w1|Spam)⋅P(w2|Spam)⋅P(w3|Spam)⋅P(w4|Spam)P(SpamC|w1,w2,w3,w4)∝P(SpamC)⋅P(w1|SpamC)⋅P(w2|SpamC)⋅P(w3|SpamC)⋅P(w4|SpamC)"
   ]
  },
  {
   "cell_type": "markdown",
   "id": "58a23de0",
   "metadata": {
    "papermill": {
     "duration": 0.068783,
     "end_time": "2022-05-18T17:04:15.224391",
     "exception": false,
     "start_time": "2022-05-18T17:04:15.155608",
     "status": "completed"
    },
    "tags": []
   },
   "source": [
    "# Day 28\n",
    "dataquest-> prob and stats -> probability fundamentals -> naive bayes theorem\n",
    "<br>finished.\n",
    "<br>**Summary**\n",
    "- P(Spam|w1,w2,...,wn)∝P(Spam)⋅n∏i=1P(wi|Spam)\n",
    "- P(SpamC|w1,w2,...,wn)∝P(SpamC)⋅n∏i=1P(wi|SpamC)\n",
    "- To calculate P(wi|Spam) and P(wi|SpamC), we need to use the additive smoothing technique: \n",
    "- P ( w i | S p a m ) = (N w i | S p a m + α) / ( N S p a m + α ⋅ N V o c a b u l a r y )\n",
    "- P ( w i | S p a m C ) = (N w i | S p a m C + α) / ( N S p a m C + α ⋅ N V o c a b u l a r y )\n",
    "     - N w i | S p a m = the number of times the word w i occurs in spam messages \n",
    "     - N w i | S p a m C = the number of times the word w i occurs in non-spam messages \n",
    "     - N S p a m = total number of words in spam messages \n",
    "     - N S p a m C = total number of words in non-spam messages \n",
    "     - N V o c a b u l a r y = total number of words in the vocabulary \n",
    "     - α = 1 ( α is a smoothing parameter )\n",
    " - naive bayes theorem assumes that events are not dependent.\n",
    " - The assumption of conditional independence between words is thus naive since it rarely holds in practice, and this is why the algorithm is called Naive Bayes (also called simple Bayes or independence Bayes)."
   ]
  },
  {
   "cell_type": "markdown",
   "id": "8c69edd5",
   "metadata": {
    "papermill": {
     "duration": 0.068075,
     "end_time": "2022-05-18T17:04:15.360577",
     "exception": false,
     "start_time": "2022-05-18T17:04:15.292502",
     "status": "completed"
    },
    "tags": []
   },
   "source": [
    "# Day 29,30,31\n",
    "<br>dataquest-> prob and stats -> probability fundamentals -> conditional probability-> guided projects\n",
    "<br> in progress"
   ]
  },
  {
   "cell_type": "markdown",
   "id": "bf24ddc7",
   "metadata": {
    "papermill": {
     "duration": 0.067961,
     "end_time": "2022-05-18T17:04:15.496780",
     "exception": false,
     "start_time": "2022-05-18T17:04:15.428819",
     "status": "completed"
    },
    "tags": []
   },
   "source": [
    "# Day 32 and 33\n",
    "<br>dataquest-> prob and stats -> probability fundamentals -> guided projects\n",
    "<br> done"
   ]
  },
  {
   "cell_type": "markdown",
   "id": "8b48cbdd",
   "metadata": {
    "papermill": {
     "duration": 0.067748,
     "end_time": "2022-05-18T17:04:15.632497",
     "exception": false,
     "start_time": "2022-05-18T17:04:15.564749",
     "status": "completed"
    },
    "tags": []
   },
   "source": [
    "# Day 34\n",
    "<br>dataquest-> prob and stats -> probability fundamentals -> guided projects-> lottery prediction\n",
    "<br> done"
   ]
  },
  {
   "cell_type": "markdown",
   "id": "8972ca1b",
   "metadata": {
    "papermill": {
     "duration": 0.06773,
     "end_time": "2022-05-18T17:04:15.768322",
     "exception": false,
     "start_time": "2022-05-18T17:04:15.700592",
     "status": "completed"
    },
    "tags": []
   },
   "source": [
    "# Day 35\n",
    "<br>dataquest-> prob and stats -> hypothesis testing fundamentals -> significance testing\n",
    "<br> till slide 4\n",
    "- null hypothesis\n",
    "- alternate hypothesis\n"
   ]
  },
  {
   "cell_type": "markdown",
   "id": "c823f1ba",
   "metadata": {
    "papermill": {
     "duration": 0.069673,
     "end_time": "2022-05-18T17:04:15.907407",
     "exception": false,
     "start_time": "2022-05-18T17:04:15.837734",
     "status": "completed"
    },
    "tags": []
   },
   "source": [
    "# Day 36 and 37\n",
    "<br>dataquest-> prob and stats -> hypothesis testing fundamentals -> significance testing\n",
    "- The permutation test is a statistical test that involves rerunning the study many times and recalculating the test statistic for each iteration. The goal is to calculate a distribution of the test statistics over these many iterations. This distribution is called the sampling distribution and it approximates the full range of possible test statistics under the null hypothesis\n",
    "\n"
   ]
  },
  {
   "cell_type": "markdown",
   "id": "5502b91e",
   "metadata": {
    "papermill": {
     "duration": 0.069503,
     "end_time": "2022-05-18T17:04:16.048443",
     "exception": false,
     "start_time": "2022-05-18T17:04:15.978940",
     "status": "completed"
    },
    "tags": []
   },
   "source": [
    "# Day 38\n",
    "<br>dataquest-> prob and stats -> hypothesis testing fundamentals -> significance testing\n",
    "<br>in progress."
   ]
  },
  {
   "cell_type": "markdown",
   "id": "dd35aa37",
   "metadata": {
    "papermill": {
     "duration": 0.090281,
     "end_time": "2022-05-18T17:04:16.216233",
     "exception": false,
     "start_time": "2022-05-18T17:04:16.125952",
     "status": "completed"
    },
    "tags": []
   },
   "source": [
    "# Day 39\n",
    "<br>dataquest-> prob and stats -> hypothesis testing fundamentals -> significance testing\n",
    "<br>slide 5-6"
   ]
  },
  {
   "cell_type": "markdown",
   "id": "ba6ef690",
   "metadata": {
    "papermill": {
     "duration": 0.072743,
     "end_time": "2022-05-18T17:04:16.364236",
     "exception": false,
     "start_time": "2022-05-18T17:04:16.291493",
     "status": "completed"
    },
    "tags": []
   },
   "source": [
    "# Day 40\n",
    "<br>dataquest-> prob and stats -> hypothesis testing fundamentals -> significance testing\n",
    "<br>slide 7"
   ]
  },
  {
   "cell_type": "markdown",
   "id": "adc9047e",
   "metadata": {
    "papermill": {
     "duration": 0.07426,
     "end_time": "2022-05-18T17:04:16.526257",
     "exception": false,
     "start_time": "2022-05-18T17:04:16.451997",
     "status": "completed"
    },
    "tags": []
   },
   "source": [
    "# Day 41 and 42\n",
    "<br>dataquest-> prob and stats -> hypothesis testing fundamentals -> significance testing\n",
    "<br>slide 7 done and 8(p-value) strated"
   ]
  },
  {
   "cell_type": "markdown",
   "id": "628c63ff",
   "metadata": {
    "papermill": {
     "duration": 0.074681,
     "end_time": "2022-05-18T17:04:16.673858",
     "exception": false,
     "start_time": "2022-05-18T17:04:16.599177",
     "status": "completed"
    },
    "tags": []
   },
   "source": [
    "# Day 43\n",
    "<br>dataquest-> prob and stats -> hypothesis testing fundamentals -> significance testing\n",
    "<br>\n",
    "- The first step is to decide a test statistic, which is a numerical value that summarizes the data and one we can use in statistical formulas. The test statistic runs a statistical test that determines whether the difference between the groups was due to random chance.\n",
    "  - e.x: mean \n",
    "- The permutation test is a statistical test that involves rerunning the study many times and recalculating the test statistic for each iteration.\n",
    "   - The goal is to calculate a distribution of the test statistics over these many iterations. This distribution is called the sampling distribution and it approximates the full range of possible test statistics under the null hypothesis.\n",
    "- If the p value is less than the threshold, we:\n",
    "    - reject the null hypothesis that there's no difference in the mean amount of weight lost by participants in both groups; and\n",
    "    - conclude that there is some evidence that the weight loss pill does affect the amount of weight people lost.\n",
    "\n",
    "- If the p value is greater than the threshold, we:\n",
    "    - fail to reject the null hypothesis that there's no difference in the mean amount of weight lost by participants in both groups,\n",
    "    - conclude that the weight loss pill doesn't seem to be effective in helping people lose weight.\n",
    "- usually used p-value threshold is 0.05\n",
    "- The p value threshold you set can also affect the conclusion you reach.\n",
    "    - If you set too high of a p value threshold, you may reject the null hypothesis incorrectly. This is known as a type I error.\n",
    "    - If you set too low of a p value threshold, you may fail to reject the null hypothesis incorrectly. This is known as a type II error."
   ]
  },
  {
   "cell_type": "markdown",
   "id": "6c54b131",
   "metadata": {
    "papermill": {
     "duration": 0.07413,
     "end_time": "2022-05-18T17:04:16.824583",
     "exception": false,
     "start_time": "2022-05-18T17:04:16.750453",
     "status": "completed"
    },
    "tags": []
   },
   "source": [
    "# Day 44\n",
    "<br>dataquest-> prob and stats -> hypothesis testing fundamentals -> significance testing-> chi squared test\n",
    "<br>1- 4\n",
    "- chi squared test is used for numerical values"
   ]
  },
  {
   "cell_type": "markdown",
   "id": "c9b7e7f2",
   "metadata": {
    "papermill": {
     "duration": 0.083006,
     "end_time": "2022-05-18T17:04:16.979972",
     "exception": false,
     "start_time": "2022-05-18T17:04:16.896966",
     "status": "completed"
    },
    "tags": []
   },
   "source": [
    "# Day 45 and 46\n",
    "<br>dataquest-> prob and stats -> hypothesis testing fundamentals -> significance testing-> chi squared test\n",
    "<br>4- 6"
   ]
  },
  {
   "cell_type": "markdown",
   "id": "10fb2956",
   "metadata": {
    "papermill": {
     "duration": 0.07259,
     "end_time": "2022-05-18T17:04:17.131696",
     "exception": false,
     "start_time": "2022-05-18T17:04:17.059106",
     "status": "completed"
    },
    "tags": []
   },
   "source": [
    "# Day 47\n",
    "<br>dataquest-> prob and stats -> hypothesis testing fundamentals -> significance testing-> chi squared test\n",
    "<br> slide 6 done"
   ]
  },
  {
   "cell_type": "markdown",
   "id": "d035658e",
   "metadata": {
    "papermill": {
     "duration": 0.068627,
     "end_time": "2022-05-18T17:04:17.272085",
     "exception": false,
     "start_time": "2022-05-18T17:04:17.203458",
     "status": "completed"
    },
    "tags": []
   },
   "source": [
    "# Day 48\n",
    "<br> chi-squared values is that they get smaller as the sample size decreases.\n",
    "<br>**conclusion**\n",
    "- The chi-squared test enables us to quantify the difference between sets of observed and expected categorical values to determine statistical significance\n",
    "- chi squared = (observed - expected)**2 / expected\n",
    "- A p-value allows us to determine whether the difference between 2 values is due to chance, or due to an underlying difference.\n",
    "- Chi-squared values increase as sample size increases, but the chance of getting a high chi-squared value decreases as the sample gets larger.\n",
    "- A degree of freedom is the number of values that can vary without the other values being\"locked in\". \n",
    "- scipy https://docs.scipy.org/doc/scipy/reference/generated/scipy.stats.mstats.chisquare.html\n"
   ]
  },
  {
   "cell_type": "markdown",
   "id": "7ccbcc10",
   "metadata": {
    "papermill": {
     "duration": 0.070218,
     "end_time": "2022-05-18T17:04:17.411677",
     "exception": false,
     "start_time": "2022-05-18T17:04:17.341459",
     "status": "completed"
    },
    "tags": []
   },
   "source": [
    "# Day 49\n",
    "<br>dataquest-> prob and stats -> hypothesis testing fundamentals -> significance testing-> multi category chi squared test\n",
    "<br> slide 1 done\n",
    "- We can apply the multi category chi-squared test (also known as the chi-squared test of association) to figure out if there's a statistically significant correlation between two categorical columns.\n",
    "- "
   ]
  },
  {
   "cell_type": "markdown",
   "id": "e343c23d",
   "metadata": {
    "papermill": {
     "duration": 0.077971,
     "end_time": "2022-05-18T17:04:17.565024",
     "exception": false,
     "start_time": "2022-05-18T17:04:17.487053",
     "status": "completed"
    },
    "tags": []
   },
   "source": [
    " **Day 50**\n",
    "<br>dataquest-> prob and stats -> hypothesis testing fundamentals -> significance testing-> multi category chi squared test\n",
    "# Conclusion:\n",
    "- In a multiple category chi-squared test, we calculate expected values across our whole dataset.\n",
    "- We can calculate the chi-squared value by using the following steps:\n",
    "    - Subtract the expected value from the observed value.\n",
    "    - Subtract the difference.\n",
    "    - Divide the squared difference by the expected value.\n",
    "    - Repeat for all observed and expected values and add up all the values.\n",
    "- ∑ expected(observed−expected)**2 / expected\n",
    "- Discovering that a result isn't significant doesn't mean that no association between the columnsexists. Discovering a statistically significant result doesn't imply anything about what thecorrelation is.\n",
    "- Chi-squared tests can only be applied when each possibility within a category is independen.\n",
    "    - we have categories like male or female not both. single row has either male or female not both at a time.\n",
    "- https://docs.scipy.org/doc/scipy-0.15.1/reference/generated/scipy.stats.chi2_contingency.html\n",
    "- https://pandas.pydata.org/pandas-docs/stable/generated/pandas.crosstab.html\n"
   ]
  },
  {
   "cell_type": "markdown",
   "id": "70e6916f",
   "metadata": {
    "papermill": {
     "duration": 0.077228,
     "end_time": "2022-05-18T17:04:17.719276",
     "exception": false,
     "start_time": "2022-05-18T17:04:17.642048",
     "status": "completed"
    },
    "tags": []
   },
   "source": [
    "# **Day 51, 52**\n",
    "<br>dataquest-> prob and stats -> hypothesis testing fundamentals -> significance testing-> guided project\n",
    "<br>in progress."
   ]
  },
  {
   "cell_type": "markdown",
   "id": "7947e5d6",
   "metadata": {
    "papermill": {
     "duration": 0.075111,
     "end_time": "2022-05-18T17:04:17.867357",
     "exception": false,
     "start_time": "2022-05-18T17:04:17.792246",
     "status": "completed"
    },
    "tags": []
   },
   "source": [
    "# **Day 53**\n",
    "<br>dataquest-> prob and stats -> hypothesis testing fundamentals -> significance testing-> guided project\n",
    "<br>done"
   ]
  },
  {
   "cell_type": "markdown",
   "id": "a46131a6",
   "metadata": {
    "papermill": {
     "duration": 0.074358,
     "end_time": "2022-05-18T17:04:18.018218",
     "exception": false,
     "start_time": "2022-05-18T17:04:17.943860",
     "status": "completed"
    },
    "tags": []
   },
   "source": [
    "# **Day 54,55, 56,57, 58, 59**\n",
    "interviewbit-> probability-> conditional probability\n",
    "1. You asked your three friends whether it will rain or not and all three affirmed for rain. All three have the probability of 1/3 of lying. What is the probability that it will actually rain?\n",
    "- https://www.geeksforgeeks.org/puzzle-is-it-raining/#:~:text=Explanation%3A,truth%20or%20all%20are%20lying.&text=So%2C%20it%20is%20approximately%2089,it%20is%20raining%20in%20Hyderabad.\n",
    "2. Anshul and Deven take turns in rolling a fair six-sided die. Whoever rolls a “6” first wins the game. Deven starts by rolling first. What’s the probability that Anshul wins?\n",
    "- https://www.quora.com/A-and-B-throw-a-Fair-die-one-after-another-Whoever-throws-6-first-wins-What-is-the-probability-that-A-wins\n",
    "\n",
    "3. You have a bag with 6 marbles. One marble is white. You reach the bag 100 times. After taking out a marble, it is placed back in the bag. What is the probability of drawing a white marble at least once?\n",
    "- https://brainly.com/question/14376470\n",
    "- Answer:\n",
    "\n",
    "0.999999988\n",
    "\n",
    "Step-by-step explanation:\n",
    "\n",
    "Given that you  have a bag with 6 marbles. One marble is white. You reach the bag 100 times. After taking out a marble, it is placed back in the bag.\n",
    "\n",
    "Because every time you replace the marble drawn, the probability for drawing a white marble in one draw is constant = p =5/6\n",
    "\n",
    "No of trials n = 100\n",
    "\n",
    "Here X no of times white marble is drawn is Binomial since there are two outcomes and also the probability is constant.\n",
    "\n",
    "the probability of drawing a white marble at least once\n",
    "\n",
    "=\n",
    "\n",
    "Required probability is almost 1.\n",
    "\n",
    "\n",
    "4. Supposedly a friend of yours has 2 children and at least one of them is a boy. What is the probability that the other is also a boy?\n",
    "- If at least one is a boy, there are three possible equally likely gender assignations of two siblings. boy-boy, boy-girl,\n",
    "\n",
    " or girl-boy. Only 1 in 3 cases or 33 percent are both boys. The lesson here is that when considering equally likely scenarios\n",
    "\n",
    " we must consider birth order. If the birth order of the boy is not specified – i.e. if we don’t know if he is the eldest or \n",
    "\n",
    " the youngest – the probability of two boys drops to 1 in 3.\n",
    " \n",
    "5. A single card is drawn from a standard deck of playing cards. What is the probability that the card is a queen provided that a face card is drawn from the deck of cards?\n",
    "- 4/12 = 1/3\n",
    " \n",
    "6. random variables Q1,2\n",
    "7. 5 questions\n",
    "8. bayes theorem first 2\n",
    "\n",
    "**Day 60**\n",
    "- inferential statistics - 3 questions\n",
    "**Day 61**\n",
    "- inferential statistics - central limit theorem done\n",
    "\n",
    "**Day 62**\n",
    "- inferential statistics - distribution analysis multivariate done\n",
    "\n",
    "**Day 63**\n",
    "- inferential statistics -  done\n",
    "\n",
    "**Day 64,65, 66**\n",
    "- Data Analysis-  wip\n",
    "\n",
    "**Day 67**\n",
    "- Data Analysis-  web scrapping done\n",
    "\n",
    "**Day 68**\n",
    "- Data Analysis-  descriptive statistics tutorial done\n"
   ]
  },
  {
   "cell_type": "markdown",
   "id": "489b6ca2",
   "metadata": {
    "papermill": {
     "duration": 0.071994,
     "end_time": "2022-05-18T17:04:18.169051",
     "exception": false,
     "start_time": "2022-05-18T17:04:18.097057",
     "status": "completed"
    },
    "tags": []
   },
   "source": []
  },
  {
   "cell_type": "code",
   "execution_count": null,
   "id": "ba3d4adc",
   "metadata": {
    "papermill": {
     "duration": 0.073142,
     "end_time": "2022-05-18T17:04:18.315621",
     "exception": false,
     "start_time": "2022-05-18T17:04:18.242479",
     "status": "completed"
    },
    "tags": []
   },
   "outputs": [],
   "source": []
  },
  {
   "cell_type": "code",
   "execution_count": 2,
   "id": "038fb953",
   "metadata": {
    "execution": {
     "iopub.execute_input": "2022-05-18T17:04:18.468006Z",
     "iopub.status.busy": "2022-05-18T17:04:18.466368Z",
     "iopub.status.idle": "2022-05-18T17:04:18.470998Z",
     "shell.execute_reply": "2022-05-18T17:04:18.470325Z",
     "shell.execute_reply.started": "2022-04-12T14:17:49.333113Z"
    },
    "papermill": {
     "duration": 0.081019,
     "end_time": "2022-05-18T17:04:18.471148",
     "exception": false,
     "start_time": "2022-05-18T17:04:18.390129",
     "status": "completed"
    },
    "tags": []
   },
   "outputs": [],
   "source": [
    "# !pip install PyMuPDF"
   ]
  },
  {
   "cell_type": "code",
   "execution_count": 3,
   "id": "e884aee6",
   "metadata": {
    "execution": {
     "iopub.execute_input": "2022-05-18T17:04:18.626225Z",
     "iopub.status.busy": "2022-05-18T17:04:18.625451Z",
     "iopub.status.idle": "2022-05-18T17:04:18.628888Z",
     "shell.execute_reply": "2022-05-18T17:04:18.629468Z",
     "shell.execute_reply.started": "2022-04-12T14:19:20.437905Z"
    },
    "papermill": {
     "duration": 0.08242,
     "end_time": "2022-05-18T17:04:18.629676",
     "exception": false,
     "start_time": "2022-05-18T17:04:18.547256",
     "status": "completed"
    },
    "tags": []
   },
   "outputs": [],
   "source": [
    " \n",
    "# fitz.__version__"
   ]
  },
  {
   "cell_type": "code",
   "execution_count": 4,
   "id": "f7b0b5a7",
   "metadata": {
    "execution": {
     "iopub.execute_input": "2022-05-18T17:04:18.787767Z",
     "iopub.status.busy": "2022-05-18T17:04:18.786712Z",
     "iopub.status.idle": "2022-05-18T17:04:18.790419Z",
     "shell.execute_reply": "2022-05-18T17:04:18.791250Z",
     "shell.execute_reply.started": "2022-04-12T14:23:59.687259Z"
    },
    "papermill": {
     "duration": 0.084785,
     "end_time": "2022-05-18T17:04:18.791513",
     "exception": false,
     "start_time": "2022-05-18T17:04:18.706728",
     "status": "completed"
    },
    "tags": []
   },
   "outputs": [],
   "source": [
    "# !python -m spacy download en_core_web_sm"
   ]
  },
  {
   "cell_type": "code",
   "execution_count": null,
   "id": "2bb70279",
   "metadata": {
    "papermill": {
     "duration": 0.07642,
     "end_time": "2022-05-18T17:04:18.941924",
     "exception": false,
     "start_time": "2022-05-18T17:04:18.865504",
     "status": "completed"
    },
    "tags": []
   },
   "outputs": [],
   "source": []
  },
  {
   "cell_type": "code",
   "execution_count": 5,
   "id": "6e11d36a",
   "metadata": {
    "execution": {
     "iopub.execute_input": "2022-05-18T17:04:19.106144Z",
     "iopub.status.busy": "2022-05-18T17:04:19.104874Z",
     "iopub.status.idle": "2022-05-18T17:04:19.110344Z",
     "shell.execute_reply": "2022-05-18T17:04:19.109569Z",
     "shell.execute_reply.started": "2022-04-12T14:18:25.912243Z"
    },
    "papermill": {
     "duration": 0.088365,
     "end_time": "2022-05-18T17:04:19.110528",
     "exception": false,
     "start_time": "2022-05-18T17:04:19.022163",
     "status": "completed"
    },
    "tags": []
   },
   "outputs": [],
   "source": [
    "# import fitz\n",
    "# import spacy\n",
    "# import re\n",
    "# from pathlib import Path\n",
    "# import requests\n",
    "# import os"
   ]
  },
  {
   "cell_type": "code",
   "execution_count": 6,
   "id": "1b391632",
   "metadata": {
    "execution": {
     "iopub.execute_input": "2022-05-18T17:04:19.269867Z",
     "iopub.status.busy": "2022-05-18T17:04:19.269145Z",
     "iopub.status.idle": "2022-05-18T17:04:19.271247Z",
     "shell.execute_reply": "2022-05-18T17:04:19.271741Z",
     "shell.execute_reply.started": "2022-04-12T15:03:43.5897Z"
    },
    "papermill": {
     "duration": 0.082419,
     "end_time": "2022-05-18T17:04:19.271975",
     "exception": false,
     "start_time": "2022-05-18T17:04:19.189556",
     "status": "completed"
    },
    "tags": []
   },
   "outputs": [],
   "source": [
    "# sql_db_json = [\n",
    "#   {\n",
    "#     \"document_id\": \"1\",\n",
    "#     \"area\": \"[72.1149,661.2966,131.95729,675.1716]\",\n",
    "#     \"page\": \"3\",\n",
    "#     \"text_\": \"Background\",\n",
    "#     \"type_of_selection\": \"Text\",\n",
    "#     \"entity_type\": \"name\",\n",
    "#     \"link\": \"https://redactable-devox-stage.s3.us-east-2.amazonaws.com/tenants/41d9e109-693b-444c-aa18-e5891bc6550b/original/1a7c0e5d-3237-4ca9-9e3d-89e707245ac6/D8communications.pdf\"\n",
    "#   },\n",
    "#   {\n",
    "#     \"document_id\": \"1\",\n",
    "#     \"area\": \"[290.55386,632.0173,322.14685,645.8923]\",\n",
    "#     \"page\": \"2\",\n",
    "#     \"text_\": \"INDEX\",\n",
    "#     \"type_of_selection\": \"Text\",\n",
    "#     \"entity_type\": \"address\",\n",
    "#     \"link\": \"https://redactable-devox-stage.s3.us-east-2.amazonaws.com/tenants/41d9e109-693b-444c-aa18-e5891bc6550b/original/1a7c0e5d-3237-4ca9-9e3d-89e707245ac6/D8communications.pdf\"\n",
    "#   }\n",
    "# ]"
   ]
  },
  {
   "cell_type": "code",
   "execution_count": 7,
   "id": "cf440563",
   "metadata": {
    "execution": {
     "iopub.execute_input": "2022-05-18T17:04:19.414318Z",
     "iopub.status.busy": "2022-05-18T17:04:19.413529Z",
     "iopub.status.idle": "2022-05-18T17:04:19.416376Z",
     "shell.execute_reply": "2022-05-18T17:04:19.415852Z",
     "shell.execute_reply.started": "2022-04-12T13:17:19.452695Z"
    },
    "papermill": {
     "duration": 0.075544,
     "end_time": "2022-05-18T17:04:19.416522",
     "exception": false,
     "start_time": "2022-05-18T17:04:19.340978",
     "status": "completed"
    },
    "tags": []
   },
   "outputs": [],
   "source": [
    "# l=pd.DataFrame()\n",
    "# k=(1, '[290.55386,632.0173,322.14685,645.8923]', 2, 'INDEX', 'Text', 'address', 'https://redactable-devox-s')\n",
    "# k\n"
   ]
  },
  {
   "cell_type": "code",
   "execution_count": 8,
   "id": "6b924320",
   "metadata": {
    "execution": {
     "iopub.execute_input": "2022-05-18T17:04:19.562412Z",
     "iopub.status.busy": "2022-05-18T17:04:19.561653Z",
     "iopub.status.idle": "2022-05-18T17:04:19.566352Z",
     "shell.execute_reply": "2022-05-18T17:04:19.565767Z",
     "shell.execute_reply.started": "2022-04-12T16:09:33.708631Z"
    },
    "papermill": {
     "duration": 0.080166,
     "end_time": "2022-05-18T17:04:19.566504",
     "exception": false,
     "start_time": "2022-05-18T17:04:19.486338",
     "status": "completed"
    },
    "tags": []
   },
   "outputs": [],
   "source": [
    "# co=[\"document_id\",\"area\",\"page\",\"text_\",\"type_of_selection\",\"entity_type\",\"link\"]\n",
    "# val= [(1,'[72.1149,661.2966,131.95729,675.1716]',3,'Background','Text','name' ,'https://redactable-devox-stage.s3.us-east-2.am'), (1,  '[290.55386,632.0173,322.14685,645.8923]',2,'INDEX', 'Text','address','https://redactable-devox-stage.s3.us-east-2.am')]\n",
    "\n",
    "# df=pd.DataFrame(val,columns=[co])\n",
    "# #df.iloc[1] =[1,  '[290.55386,632.0173,322.14685,645.8923]',2,'INDEX', 'Text','address','https://redactable-devox-stage.s3.us-east-2.am']\n",
    "# df"
   ]
  },
  {
   "cell_type": "code",
   "execution_count": 9,
   "id": "002ab9b1",
   "metadata": {
    "execution": {
     "iopub.execute_input": "2022-05-18T17:04:19.707816Z",
     "iopub.status.busy": "2022-05-18T17:04:19.707064Z",
     "iopub.status.idle": "2022-05-18T17:04:19.710059Z",
     "shell.execute_reply": "2022-05-18T17:04:19.710512Z",
     "shell.execute_reply.started": "2022-04-12T16:18:22.595374Z"
    },
    "papermill": {
     "duration": 0.075951,
     "end_time": "2022-05-18T17:04:19.710758",
     "exception": false,
     "start_time": "2022-05-18T17:04:19.634807",
     "status": "completed"
    },
    "tags": []
   },
   "outputs": [],
   "source": [
    "# prev=[]\n",
    "# for data,row in df.iterrows():\n",
    "#     if row['document_id'] not in prev:\n",
    "#         prev.append(row['document_id'])\n",
    "#         print('hey')"
   ]
  },
  {
   "cell_type": "code",
   "execution_count": 10,
   "id": "acdf52d0",
   "metadata": {
    "execution": {
     "iopub.execute_input": "2022-05-18T17:04:19.860161Z",
     "iopub.status.busy": "2022-05-18T17:04:19.859393Z",
     "iopub.status.idle": "2022-05-18T17:04:19.861988Z",
     "shell.execute_reply": "2022-05-18T17:04:19.862446Z",
     "shell.execute_reply.started": "2022-04-12T15:03:48.248836Z"
    },
    "papermill": {
     "duration": 0.080754,
     "end_time": "2022-05-18T17:04:19.862615",
     "exception": false,
     "start_time": "2022-05-18T17:04:19.781861",
     "status": "completed"
    },
    "tags": []
   },
   "outputs": [],
   "source": [
    "# nlp = spacy.load('en_core_web_sm')\n",
    "# train_data = []\n",
    "\n",
    "# prev_doc_id = ''\n",
    "# i=0\n",
    "# temp='/kaggle/working'\n",
    "\n",
    "# for data in sql_db_json:\n",
    "#     if data['type_of_selection'] == 'Text':\n",
    "#         document_id = data['document_id']\n",
    "#         x1,y1,x2,y2 = data['area'][1:-1].split(',')\n",
    "#         url = data['link']\n",
    "#         page_no = int(data['page']) - 1 \n",
    "#         label = data['entity_type']\n",
    "#         filename = url.split('/')[-1]\n",
    "    \n",
    "#         #download the file to temp folder\n",
    "#         outpath = os.path.join(temp,filename)\n",
    "\n",
    "#         if document_id == prev_doc_id:\n",
    "#             pass\n",
    "#         else: \n",
    "#             i+=1\n",
    "#             print(i)\n",
    "#             response = requests.get(url)\n",
    "#             with open(outpath, \"wb\") as binary_file:\n",
    "#                 binary_file.write(response.content)\n",
    "\n",
    "#         doc = fitz.open(outpath)  # any supported document type\n",
    "#         page = doc[page_no]  # we want text from this page\n",
    "#         print('page dimension - ', page.rect.width, page.rect.height)\n",
    "\n",
    "#         #The co-ordinates in the DB are image co-ords. W.r.t pdf, y1 and y2 has to be interchanged.\n",
    "#         #To ensure entire word to be selected, slight correction in x1,y1,x2,y2 is done.\n",
    "\n",
    "#         rect = [float(x1)-2, 792 - float(y2)-2, float(x2)+2, 792 - float(y1)+2]\n",
    "#         print(rect)\n",
    "#         labelled_text = page.get_textbox(rect)\n",
    "\n",
    "#         #Removing all unprintable characters from the text\n",
    "#         string = re.sub('[^0-9a-zA-Z@?|\\/<>.,()&^%$#!]+', ' ', labelled_text)\n",
    "#         print('string : ', string)\n",
    "\n",
    "#         fulltext = page.get_text()\n",
    "#         doc = nlp(fulltext)\n",
    "\n",
    "#         sentences = []\n",
    "#         for sent in doc.sents:\n",
    "#             if string.strip() in sent.text:\n",
    "#                 text = re.sub('[^0-9a-zA-Z@?|\\/<>.,()&^%$#!]+', ' ', sent.text)\n",
    "\n",
    "#         res = re.search(string.strip(), text)\n",
    "\n",
    "#         entities = []\n",
    "#         entities.append((res.start(),res.end(),label))\n",
    "\n",
    "#         train_data.append((text,{'entities':entities}))\n",
    "\n",
    "# print('Training data in spacy format')\n",
    "# print('*****************************')\n",
    "# for i in range(0,len(train_data)):\n",
    "#     print(train_data[i])"
   ]
  },
  {
   "cell_type": "code",
   "execution_count": null,
   "id": "09a1cd2d",
   "metadata": {
    "papermill": {
     "duration": 0.068222,
     "end_time": "2022-05-18T17:04:20.001217",
     "exception": false,
     "start_time": "2022-05-18T17:04:19.932995",
     "status": "completed"
    },
    "tags": []
   },
   "outputs": [],
   "source": []
  },
  {
   "cell_type": "code",
   "execution_count": 11,
   "id": "331caa85",
   "metadata": {
    "execution": {
     "iopub.execute_input": "2022-05-18T17:04:20.148384Z",
     "iopub.status.busy": "2022-05-18T17:04:20.147682Z",
     "iopub.status.idle": "2022-05-18T17:04:20.150017Z",
     "shell.execute_reply": "2022-05-18T17:04:20.150616Z",
     "shell.execute_reply.started": "2022-04-12T11:44:59.253637Z"
    },
    "papermill": {
     "duration": 0.079289,
     "end_time": "2022-05-18T17:04:20.150785",
     "exception": false,
     "start_time": "2022-05-18T17:04:20.071496",
     "status": "completed"
    },
    "tags": []
   },
   "outputs": [],
   "source": [
    "# nlp = spacy.load('en_core_web_sm')\n",
    "# train_data = []\n",
    "\n",
    "# prev_doc_id = ''\n",
    "# temp='/kaggle/working'\n",
    "# i=0\n",
    "# for data in sql_db_json:\n",
    "#     if data['type_of_selection'] == 'Text':\n",
    "#         document_id = data['document_id']\n",
    "#         x1,y1,x2,y2 = data['area'][1:-1].split(',')\n",
    "#         url = data['link']\n",
    "#         page_no = int(data['page']) - 1 \n",
    "#         label = data['entity_type']\n",
    "#         filename = url.split('/')[-1]\n",
    "    \n",
    "#         #download the file to temp folder\n",
    "#         i+=1\n",
    "#         print(i)\n",
    "#         response = requests.get(url)\n",
    "#         doc = fitz.open(stream=response.content,filetype=\"pdf\")  # any supported document type\n",
    "#         page = doc[page_no]  # we want text from this page\n",
    "#         print('page dimension - ', page.rect.width, page.rect.height)\n",
    "\n",
    "#         #The co-ordinates in the DB are image co-ords. W.r.t pdf, y1 and y2 has to be interchanged.\n",
    "#         #To ensure entire word to be selected, slight correction in x1,y1,x2,y2 is done.\n",
    "\n",
    "#         rect = [float(x1)-2, 792 - float(y2)-2, float(x2)+2, 792 - float(y1)+2]\n",
    "#         print(rect)\n",
    "#         labelled_text = page.get_textbox(rect)\n",
    "\n",
    "#         #Removing all unprintable characters from the text\n",
    "#         string = re.sub('[^0-9a-zA-Z@?|\\/<>.,()&^%$#!]+', ' ', labelled_text)\n",
    "#         print('string : ', string)\n",
    "\n",
    "#         fulltext = page.get_text()\n",
    "#         doc = nlp(fulltext)\n",
    "\n",
    "#         sentences = []\n",
    "#         for sent in doc.sents:\n",
    "#             if string.strip() in sent.text:\n",
    "#                 text = re.sub('[^0-9a-zA-Z@?|\\/<>.,()&^%$#!]+', ' ', sent.text)\n",
    "\n",
    "#         res = re.search(string.strip(), text)\n",
    "\n",
    "#         entities = []\n",
    "#         entities.append((res.start(),res.end(),label))\n",
    "\n",
    "#         train_data.append((text,{'entities':entities}))\n",
    "\n",
    "# print('Training data in spacy format')\n",
    "# print('*****************************')\n",
    "# for i in range(0,len(train_data)):\n",
    "#     print(train_data[i])"
   ]
  },
  {
   "cell_type": "code",
   "execution_count": 12,
   "id": "4c2fd145",
   "metadata": {
    "execution": {
     "iopub.execute_input": "2022-05-18T17:04:20.291955Z",
     "iopub.status.busy": "2022-05-18T17:04:20.291245Z",
     "iopub.status.idle": "2022-05-18T17:04:20.294706Z",
     "shell.execute_reply": "2022-05-18T17:04:20.295284Z"
    },
    "papermill": {
     "duration": 0.076392,
     "end_time": "2022-05-18T17:04:20.295453",
     "exception": false,
     "start_time": "2022-05-18T17:04:20.219061",
     "status": "completed"
    },
    "tags": []
   },
   "outputs": [],
   "source": [
    "# page dimension -  612.0 792.0\n",
    "# [70.1149, 114.82839999999999, 133.95729, 132.7034]\n",
    "# string :  Background\n",
    "# page dimension -  612.0 792.0\n",
    "# [288.55386, 144.10770000000002, 324.14685, 161.98270000000002]\n",
    "# string :  INDEX\n",
    "# Training data in spacy format\n",
    "# *****************************\n",
    "# (' 3 Background The Blue Ribbon Committee was created by the Mayor to assess various city communication methods and recommend opportunities to improve communications with residents, businesses and other organizations.', {'entities': [(3, 13, 'name')]})\n",
    "# (' 2 INDEX Background Pg. 3 Purpose Pg. 3 Process .', {'entities': [(3, 8, 'address')]})"
   ]
  },
  {
   "cell_type": "code",
   "execution_count": 13,
   "id": "653af1f0",
   "metadata": {
    "execution": {
     "iopub.execute_input": "2022-05-18T17:04:20.437959Z",
     "iopub.status.busy": "2022-05-18T17:04:20.437212Z",
     "iopub.status.idle": "2022-05-18T17:04:20.440260Z",
     "shell.execute_reply": "2022-05-18T17:04:20.439704Z",
     "shell.execute_reply.started": "2022-04-11T16:35:29.609712Z"
    },
    "papermill": {
     "duration": 0.076611,
     "end_time": "2022-05-18T17:04:20.440416",
     "exception": false,
     "start_time": "2022-05-18T17:04:20.363805",
     "status": "completed"
    },
    "tags": []
   },
   "outputs": [],
   "source": [
    "# nlp = spacy.load('en_core_web_sm')\n",
    "# outpath=r'/kaggle/input/sample-pdf/D8communications.pdf'\n",
    "# doc = fitz.open(outpath)  # any supported document type\n",
    "# page_no=3\n",
    "# page = doc[page_no-1]\n",
    "\n",
    "# x1,y1,x2,y2=(72.1149,661.2966,131.95729,675.1716)\n",
    "\n",
    "# rect = [float(x1)-2, 792 - float(y2)-2, float(x2)+2, 792 - float(y1)+2]\n",
    "# print(rect)\n",
    "# labelled_text = page.get_textbox(rect)\n",
    "# string = re.sub('[^0-9a-zA-Z@?|\\/<>.,()&^%$#!]+', ' ', labelled_text)\n",
    "# print('string : ', string)\n",
    "\n",
    "# fulltext = page.get_text()\n",
    "# doc = nlp(fulltext)\n",
    "\n",
    "# sentences = []\n",
    "# for sent in doc.sents:\n",
    "#             if string.strip() in sent.text:\n",
    "#                 text = re.sub('[^0-9a-zA-Z@?|\\/<>.,()&^%$#!]+', ' ', sent.text)\n",
    "\n",
    "#         res = re.search(string.strip(), text)\n",
    "\n",
    "#         entities = []\n",
    "#         entities.append((res.start(),res.end(),label))\n",
    "\n",
    "#         train_data.append((text,{'entities':entities}))\n",
    "\n"
   ]
  },
  {
   "cell_type": "code",
   "execution_count": 14,
   "id": "e9a729c7",
   "metadata": {
    "execution": {
     "iopub.execute_input": "2022-05-18T17:04:20.583544Z",
     "iopub.status.busy": "2022-05-18T17:04:20.582838Z",
     "iopub.status.idle": "2022-05-18T17:04:20.587172Z",
     "shell.execute_reply": "2022-05-18T17:04:20.587700Z",
     "shell.execute_reply.started": "2022-04-11T16:35:41.679947Z"
    },
    "papermill": {
     "duration": 0.078884,
     "end_time": "2022-05-18T17:04:20.587870",
     "exception": false,
     "start_time": "2022-05-18T17:04:20.508986",
     "status": "completed"
    },
    "tags": []
   },
   "outputs": [],
   "source": [
    "#doc"
   ]
  },
  {
   "cell_type": "code",
   "execution_count": 15,
   "id": "0b9f9b19",
   "metadata": {
    "execution": {
     "iopub.execute_input": "2022-05-18T17:04:20.747019Z",
     "iopub.status.busy": "2022-05-18T17:04:20.746216Z",
     "iopub.status.idle": "2022-05-18T17:04:20.749261Z",
     "shell.execute_reply": "2022-05-18T17:04:20.749856Z",
     "shell.execute_reply.started": "2022-04-11T16:35:56.010353Z"
    },
    "papermill": {
     "duration": 0.077405,
     "end_time": "2022-05-18T17:04:20.750047",
     "exception": false,
     "start_time": "2022-05-18T17:04:20.672642",
     "status": "completed"
    },
    "tags": []
   },
   "outputs": [],
   "source": [
    "# sentences = []\n",
    "# for sent in doc.sents:\n",
    "#     if string.strip() in sent.text:\n",
    "#         text = re.sub('[^0-9a-zA-Z@?|\\/<>.,()&^%$#!]+', ' ', sent.text)"
   ]
  },
  {
   "cell_type": "code",
   "execution_count": 16,
   "id": "6322a435",
   "metadata": {
    "execution": {
     "iopub.execute_input": "2022-05-18T17:04:20.895197Z",
     "iopub.status.busy": "2022-05-18T17:04:20.894401Z",
     "iopub.status.idle": "2022-05-18T17:04:20.897311Z",
     "shell.execute_reply": "2022-05-18T17:04:20.897818Z",
     "shell.execute_reply.started": "2022-04-11T16:39:04.736143Z"
    },
    "papermill": {
     "duration": 0.077591,
     "end_time": "2022-05-18T17:04:20.898012",
     "exception": false,
     "start_time": "2022-05-18T17:04:20.820421",
     "status": "completed"
    },
    "tags": []
   },
   "outputs": [],
   "source": [
    "# k=nlp(\"he             kenny\")\n",
    "# for sent in k.sents:\n",
    "#     print(sent)"
   ]
  },
  {
   "cell_type": "code",
   "execution_count": 17,
   "id": "1637943f",
   "metadata": {
    "execution": {
     "iopub.execute_input": "2022-05-18T17:04:21.041482Z",
     "iopub.status.busy": "2022-05-18T17:04:21.040811Z",
     "iopub.status.idle": "2022-05-18T17:04:21.043525Z",
     "shell.execute_reply": "2022-05-18T17:04:21.044157Z",
     "shell.execute_reply.started": "2022-04-11T15:09:24.391421Z"
    },
    "papermill": {
     "duration": 0.076656,
     "end_time": "2022-05-18T17:04:21.044326",
     "exception": false,
     "start_time": "2022-05-18T17:04:20.967670",
     "status": "completed"
    },
    "tags": []
   },
   "outputs": [],
   "source": [
    "# text"
   ]
  },
  {
   "cell_type": "code",
   "execution_count": 18,
   "id": "23fb80bd",
   "metadata": {
    "execution": {
     "iopub.execute_input": "2022-05-18T17:04:21.184403Z",
     "iopub.status.busy": "2022-05-18T17:04:21.183708Z",
     "iopub.status.idle": "2022-05-18T17:04:21.186613Z",
     "shell.execute_reply": "2022-05-18T17:04:21.187131Z",
     "shell.execute_reply.started": "2022-04-11T15:09:31.9599Z"
    },
    "papermill": {
     "duration": 0.074518,
     "end_time": "2022-05-18T17:04:21.187299",
     "exception": false,
     "start_time": "2022-05-18T17:04:21.112781",
     "status": "completed"
    },
    "tags": []
   },
   "outputs": [],
   "source": [
    "# res = re.search(string.strip(), text)\n",
    "# res"
   ]
  },
  {
   "cell_type": "code",
   "execution_count": 19,
   "id": "865714e3",
   "metadata": {
    "execution": {
     "iopub.execute_input": "2022-05-18T17:04:21.328153Z",
     "iopub.status.busy": "2022-05-18T17:04:21.327329Z",
     "iopub.status.idle": "2022-05-18T17:04:21.331217Z",
     "shell.execute_reply": "2022-05-18T17:04:21.330630Z",
     "shell.execute_reply.started": "2022-04-11T15:12:41.311242Z"
    },
    "papermill": {
     "duration": 0.075265,
     "end_time": "2022-05-18T17:04:21.331368",
     "exception": false,
     "start_time": "2022-05-18T17:04:21.256103",
     "status": "completed"
    },
    "tags": []
   },
   "outputs": [],
   "source": [
    "# entities = []\n",
    "# entities.append((res.start(),res.end(),'p'))"
   ]
  },
  {
   "cell_type": "code",
   "execution_count": 20,
   "id": "9c18125c",
   "metadata": {
    "execution": {
     "iopub.execute_input": "2022-05-18T17:04:21.476040Z",
     "iopub.status.busy": "2022-05-18T17:04:21.475340Z",
     "iopub.status.idle": "2022-05-18T17:04:21.478676Z",
     "shell.execute_reply": "2022-05-18T17:04:21.479251Z",
     "shell.execute_reply.started": "2022-04-11T15:12:52.736619Z"
    },
    "papermill": {
     "duration": 0.078327,
     "end_time": "2022-05-18T17:04:21.479428",
     "exception": false,
     "start_time": "2022-05-18T17:04:21.401101",
     "status": "completed"
    },
    "tags": []
   },
   "outputs": [],
   "source": [
    "# entities"
   ]
  },
  {
   "cell_type": "code",
   "execution_count": 21,
   "id": "1c1117df",
   "metadata": {
    "execution": {
     "iopub.execute_input": "2022-05-18T17:04:21.621613Z",
     "iopub.status.busy": "2022-05-18T17:04:21.620961Z",
     "iopub.status.idle": "2022-05-18T17:04:21.623948Z",
     "shell.execute_reply": "2022-05-18T17:04:21.624476Z",
     "shell.execute_reply.started": "2022-04-11T15:06:11.546217Z"
    },
    "papermill": {
     "duration": 0.075492,
     "end_time": "2022-05-18T17:04:21.624671",
     "exception": false,
     "start_time": "2022-05-18T17:04:21.549179",
     "status": "completed"
    },
    "tags": []
   },
   "outputs": [],
   "source": [
    "# text"
   ]
  },
  {
   "cell_type": "code",
   "execution_count": null,
   "id": "b7833018",
   "metadata": {
    "execution": {
     "iopub.execute_input": "2022-04-11T15:02:33.300092Z",
     "iopub.status.busy": "2022-04-11T15:02:33.299778Z",
     "iopub.status.idle": "2022-04-11T15:02:33.30711Z",
     "shell.execute_reply": "2022-04-11T15:02:33.306345Z",
     "shell.execute_reply.started": "2022-04-11T15:02:33.300061Z"
    },
    "papermill": {
     "duration": 0.068198,
     "end_time": "2022-05-18T17:04:21.764238",
     "exception": false,
     "start_time": "2022-05-18T17:04:21.696040",
     "status": "completed"
    },
    "tags": []
   },
   "outputs": [],
   "source": []
  },
  {
   "cell_type": "code",
   "execution_count": 22,
   "id": "fabc4a41",
   "metadata": {
    "execution": {
     "iopub.execute_input": "2022-05-18T17:04:21.906807Z",
     "iopub.status.busy": "2022-05-18T17:04:21.906057Z",
     "iopub.status.idle": "2022-05-18T17:04:21.908975Z",
     "shell.execute_reply": "2022-05-18T17:04:21.909499Z",
     "shell.execute_reply.started": "2022-04-11T16:21:02.863037Z"
    },
    "papermill": {
     "duration": 0.075926,
     "end_time": "2022-05-18T17:04:21.909680",
     "exception": false,
     "start_time": "2022-05-18T17:04:21.833754",
     "status": "completed"
    },
    "tags": []
   },
   "outputs": [],
   "source": [
    "# import spacy\n",
    "# nlp = spacy.load('en_core_web_sm')"
   ]
  },
  {
   "cell_type": "code",
   "execution_count": 23,
   "id": "33c139d1",
   "metadata": {
    "execution": {
     "iopub.execute_input": "2022-05-18T17:04:22.053464Z",
     "iopub.status.busy": "2022-05-18T17:04:22.052718Z",
     "iopub.status.idle": "2022-05-18T17:04:22.055802Z",
     "shell.execute_reply": "2022-05-18T17:04:22.056451Z",
     "shell.execute_reply.started": "2022-04-09T12:19:47.776612Z"
    },
    "papermill": {
     "duration": 0.078609,
     "end_time": "2022-05-18T17:04:22.056642",
     "exception": false,
     "start_time": "2022-05-18T17:04:21.978033",
     "status": "completed"
    },
    "tags": []
   },
   "outputs": [],
   "source": [
    "# !pip install PyPDF2\n",
    "# import PyPDF2\n",
    "# fhandle = open(r'/kaggle/input/sample-pdf/D8communications.pdf', 'rb')\n",
    "# pdfReader = PyPDF2.PdfFileReader(fhandle)\n",
    "# pagehandle = pdfReader.getPage(4)\n",
    "# print(pagehandle.extractText())"
   ]
  },
  {
   "cell_type": "code",
   "execution_count": 24,
   "id": "8378ca25",
   "metadata": {
    "execution": {
     "iopub.execute_input": "2022-05-18T17:04:22.198973Z",
     "iopub.status.busy": "2022-05-18T17:04:22.198249Z",
     "iopub.status.idle": "2022-05-18T17:04:22.201359Z",
     "shell.execute_reply": "2022-05-18T17:04:22.202001Z",
     "shell.execute_reply.started": "2022-04-09T12:25:37.701467Z"
    },
    "papermill": {
     "duration": 0.075949,
     "end_time": "2022-05-18T17:04:22.202182",
     "exception": false,
     "start_time": "2022-05-18T17:04:22.126233",
     "status": "completed"
    },
    "tags": []
   },
   "outputs": [],
   "source": [
    "# !pip install pdfplumber\n",
    "# import pdfplumber\n",
    "# with pdfplumber.open(r'/kaggle/input/sample-pdf/D8communications.pdf') as pdf:\n",
    "#     first_page = pdf.pages[3]\n",
    "#     print(first_page.extract_text())"
   ]
  },
  {
   "cell_type": "code",
   "execution_count": 25,
   "id": "8bf3e301",
   "metadata": {
    "execution": {
     "iopub.execute_input": "2022-05-18T17:04:22.344832Z",
     "iopub.status.busy": "2022-05-18T17:04:22.344202Z",
     "iopub.status.idle": "2022-05-18T17:04:22.347234Z",
     "shell.execute_reply": "2022-05-18T17:04:22.347743Z",
     "shell.execute_reply.started": "2022-04-09T12:25:49.584635Z"
    },
    "papermill": {
     "duration": 0.074749,
     "end_time": "2022-05-18T17:04:22.347933",
     "exception": false,
     "start_time": "2022-05-18T17:04:22.273184",
     "status": "completed"
    },
    "tags": []
   },
   "outputs": [],
   "source": [
    "# !pip install pytesseract"
   ]
  },
  {
   "cell_type": "code",
   "execution_count": 26,
   "id": "84e4234b",
   "metadata": {
    "execution": {
     "iopub.execute_input": "2022-05-18T17:04:22.492401Z",
     "iopub.status.busy": "2022-05-18T17:04:22.491655Z",
     "iopub.status.idle": "2022-05-18T17:04:22.494246Z",
     "shell.execute_reply": "2022-05-18T17:04:22.493675Z",
     "shell.execute_reply.started": "2022-04-09T14:49:10.656812Z"
    },
    "papermill": {
     "duration": 0.07625,
     "end_time": "2022-05-18T17:04:22.494401",
     "exception": false,
     "start_time": "2022-05-18T17:04:22.418151",
     "status": "completed"
    },
    "tags": []
   },
   "outputs": [],
   "source": [
    "# #!pip install pdf2image\n",
    "# !pip install poppler"
   ]
  },
  {
   "cell_type": "code",
   "execution_count": 27,
   "id": "3347d589",
   "metadata": {
    "execution": {
     "iopub.execute_input": "2022-05-18T17:04:22.637696Z",
     "iopub.status.busy": "2022-05-18T17:04:22.636972Z",
     "iopub.status.idle": "2022-05-18T17:04:22.639518Z",
     "shell.execute_reply": "2022-05-18T17:04:22.640041Z",
     "shell.execute_reply.started": "2022-04-09T14:57:24.756677Z"
    },
    "papermill": {
     "duration": 0.076157,
     "end_time": "2022-05-18T17:04:22.640220",
     "exception": false,
     "start_time": "2022-05-18T17:04:22.564063",
     "status": "completed"
    },
    "tags": []
   },
   "outputs": [],
   "source": [
    "# pdf2image.convert_from_path('/kaggle/input/sample-pdf/D8communications.pdf')"
   ]
  },
  {
   "cell_type": "code",
   "execution_count": 28,
   "id": "25ab0b8e",
   "metadata": {
    "execution": {
     "iopub.execute_input": "2022-05-18T17:04:22.783848Z",
     "iopub.status.busy": "2022-05-18T17:04:22.783149Z",
     "iopub.status.idle": "2022-05-18T17:04:22.785208Z",
     "shell.execute_reply": "2022-05-18T17:04:22.785729Z",
     "shell.execute_reply.started": "2022-04-09T14:57:17.576149Z"
    },
    "papermill": {
     "duration": 0.076102,
     "end_time": "2022-05-18T17:04:22.785927",
     "exception": false,
     "start_time": "2022-05-18T17:04:22.709825",
     "status": "completed"
    },
    "tags": []
   },
   "outputs": [],
   "source": [
    "# import pdf2image\n",
    "# try:\n",
    "#     from PIL import Image\n",
    "# except ImportError:\n",
    "#     import Image\n",
    "# import pytesseract\n",
    "\n",
    "\n",
    "# def pdf_to_img(pdf_file):\n",
    "#     return pdf2image.convert_from_path(pdf_file)\n",
    "\n",
    "\n",
    "# def ocr_core(file):\n",
    "#     text = pytesseract.image_to_string(file)\n",
    "#     return text\n",
    "\n",
    "\n",
    "# def print_pages(pdf_file):\n",
    "#     images = pdf_to_img(pdf_file)\n",
    "#     for pg, img in enumerate(images):\n",
    "#         print(ocr_core(img))\n",
    "\n",
    "\n",
    "# print_pages('/kaggle/input/sample-pdf/D8communications.pdf')\n"
   ]
  },
  {
   "cell_type": "code",
   "execution_count": 29,
   "id": "521ca678",
   "metadata": {
    "execution": {
     "iopub.execute_input": "2022-05-18T17:04:22.926829Z",
     "iopub.status.busy": "2022-05-18T17:04:22.926155Z",
     "iopub.status.idle": "2022-05-18T17:04:22.929717Z",
     "shell.execute_reply": "2022-05-18T17:04:22.930357Z"
    },
    "papermill": {
     "duration": 0.075943,
     "end_time": "2022-05-18T17:04:22.930529",
     "exception": false,
     "start_time": "2022-05-18T17:04:22.854586",
     "status": "completed"
    },
    "tags": []
   },
   "outputs": [],
   "source": [
    "# import requests\n",
    "# import fitz\n",
    "# import io\n",
    "\n",
    "# #URL = 'https://buildmedia.readthedocs.org/media/pdf/pdfminer-docs/latest/pdfminer-docs.pdf'\n",
    "# URL = 'https://redactable-devox-stage.s3.us-east-2.amazonaws.com/tenants/41d9e109-693b-444c-aa18-e5891bc6550b/original/1a7c0e5d-3237-4ca9-9e3d-89e707245ac6/D8communications.pdf'\n",
    "\n",
    "\n",
    "# res = requests.get(URL)\n",
    "# filestream = io.BytesIO(res.content)\n",
    "# #res.content\n",
    "# filestream\n",
    "# doc = fitz.Document(stream=filestream)\n",
    "# page1 = doc.loadPage(3)\n",
    "# page1text = page1.getText(\"text\").encode(\"utf-8\").decode(\"utf-8\")\n",
    "# print(page1text)"
   ]
  },
  {
   "cell_type": "code",
   "execution_count": 30,
   "id": "5438b6a9",
   "metadata": {
    "execution": {
     "iopub.execute_input": "2022-05-18T17:04:23.076010Z",
     "iopub.status.busy": "2022-05-18T17:04:23.075290Z",
     "iopub.status.idle": "2022-05-18T17:04:23.079512Z",
     "shell.execute_reply": "2022-05-18T17:04:23.080132Z",
     "shell.execute_reply.started": "2022-04-09T07:04:56.590103Z"
    },
    "papermill": {
     "duration": 0.079173,
     "end_time": "2022-05-18T17:04:23.080302",
     "exception": false,
     "start_time": "2022-05-18T17:04:23.001129",
     "status": "completed"
    },
    "tags": []
   },
   "outputs": [],
   "source": [
    "# import requests\n",
    "# import fitz\n",
    "\n",
    "# #URL = 'https://buildmedia.readthedocs.org/media/pdf/pdfminer-docs/latest/pdfminer-docs.pdf'\n",
    "# URL = 'https://redactable-devox-stage.s3.us-east-2.amazonaws.com/tenants/41d9e109-693b-444c-aa18-e5891bc6550b/original/1a7c0e5d-3237-4ca9-9e3d-89e707245ac6/D8communications.pdf'\n",
    "\n",
    "\n",
    "# res = requests.get(URL)\n",
    "# doc = fitz.open(stream=res.content,filetype=\"pdf\")\n",
    "# page1 = doc.loadPage(3)\n",
    "# page1text = page1.getText(\"text\")\n",
    "# #rect = (72.1149,661.2966,131.95729,675.1716)\n",
    "# rect=(72.10812377929688, 116.13427734375, 133.97142028808594, 146.4227294921875)\n",
    "# labelled_text = page1.get_textbox(rect)\n",
    "# print(labelled_text.strip())\n",
    "\n",
    "# fulltext = page1.get_text()\n",
    "# print(fulltext)\n",
    "# doc = nlp(fulltext)\n",
    "# sentences = []\n",
    "# for sent in doc.sents:\n",
    "#     if labelled_text in sent.text:\n",
    "#         text = sent.text\n",
    "#         print(text)\n",
    "# #print(page1text)"
   ]
  },
  {
   "cell_type": "code",
   "execution_count": 31,
   "id": "c504b67f",
   "metadata": {
    "execution": {
     "iopub.execute_input": "2022-05-18T17:04:23.224120Z",
     "iopub.status.busy": "2022-05-18T17:04:23.223451Z",
     "iopub.status.idle": "2022-05-18T17:04:23.226489Z",
     "shell.execute_reply": "2022-05-18T17:04:23.227040Z",
     "shell.execute_reply.started": "2022-04-08T16:42:57.6659Z"
    },
    "papermill": {
     "duration": 0.076592,
     "end_time": "2022-05-18T17:04:23.227220",
     "exception": false,
     "start_time": "2022-05-18T17:04:23.150628",
     "status": "completed"
    },
    "tags": []
   },
   "outputs": [],
   "source": [
    "#res.content"
   ]
  },
  {
   "cell_type": "code",
   "execution_count": 32,
   "id": "912e005c",
   "metadata": {
    "execution": {
     "iopub.execute_input": "2022-05-18T17:04:23.369047Z",
     "iopub.status.busy": "2022-05-18T17:04:23.368317Z",
     "iopub.status.idle": "2022-05-18T17:04:23.371797Z",
     "shell.execute_reply": "2022-05-18T17:04:23.372365Z",
     "shell.execute_reply.started": "2022-04-08T16:48:05.672392Z"
    },
    "papermill": {
     "duration": 0.076014,
     "end_time": "2022-05-18T17:04:23.372559",
     "exception": false,
     "start_time": "2022-05-18T17:04:23.296545",
     "status": "completed"
    },
    "tags": []
   },
   "outputs": [],
   "source": [
    "# import fitz\n",
    "# # mem_area=\n",
    "# # doc = fitz.open(stream=mem_area, filetype=\"pdf\")\n",
    "\n",
    "# import requests\n",
    "\n",
    "# URL = 'https://redactable-devox-stage.s3.us-east-2.amazonaws.com/tenants/41d9e109-693b-444c-aa18-e5891bc6550b/original/1a7c0e5d-3237-4ca9-9e3d-89e707245ac6/D8communications.pdf'\n",
    "\n",
    "# #res = requests.get(URL)\n",
    "# doc=fitz.open(\"/kaggle/input/sample-pdf/D8communications.pdf\")\n",
    "# #doc = fitz.open(stream=res.content,filetype=\"pdf\")\n",
    "# page1 = doc.loadPage(4)\n",
    "# # page1text = page1.getText(\"text\")\n",
    "# # print(page1text)\n",
    "# blocks = page1.getText(\"blocks\")\n",
    "# blocks.sort(key=lambda block: block[1])  # sort vertically ascending\n",
    "\n",
    "# for b in blocks:\n",
    "#     print(b[4])\n"
   ]
  },
  {
   "cell_type": "code",
   "execution_count": 33,
   "id": "0a9b795a",
   "metadata": {
    "execution": {
     "iopub.execute_input": "2022-05-18T17:04:23.518631Z",
     "iopub.status.busy": "2022-05-18T17:04:23.517917Z",
     "iopub.status.idle": "2022-05-18T17:04:23.520892Z",
     "shell.execute_reply": "2022-05-18T17:04:23.521361Z",
     "shell.execute_reply.started": "2022-04-08T16:48:13.086323Z"
    },
    "papermill": {
     "duration": 0.07565,
     "end_time": "2022-05-18T17:04:23.521538",
     "exception": false,
     "start_time": "2022-05-18T17:04:23.445888",
     "status": "completed"
    },
    "tags": []
   },
   "outputs": [],
   "source": [
    "# # page = doc[1]\n",
    "# words = page.get_text(\"words\")\n",
    "# #print(words)\n",
    "# rect = (72.1149,661.2966,131.95729,675.1716)\n",
    "\n",
    "# labelled_text = page.get_textbox(rect)\n",
    "# # labelled_text"
   ]
  },
  {
   "cell_type": "markdown",
   "id": "bd203166",
   "metadata": {
    "papermill": {
     "duration": 0.068748,
     "end_time": "2022-05-18T17:04:23.659754",
     "exception": false,
     "start_time": "2022-05-18T17:04:23.591006",
     "status": "completed"
    },
    "tags": []
   },
   "source": [
    "pip install PyPDF2"
   ]
  },
  {
   "cell_type": "code",
   "execution_count": null,
   "id": "47dec300",
   "metadata": {
    "papermill": {
     "duration": 0.070971,
     "end_time": "2022-05-18T17:04:23.801071",
     "exception": false,
     "start_time": "2022-05-18T17:04:23.730100",
     "status": "completed"
    },
    "tags": []
   },
   "outputs": [],
   "source": []
  },
  {
   "cell_type": "code",
   "execution_count": 34,
   "id": "56305bcf",
   "metadata": {
    "execution": {
     "iopub.execute_input": "2022-05-18T17:04:23.944837Z",
     "iopub.status.busy": "2022-05-18T17:04:23.944110Z",
     "iopub.status.idle": "2022-05-18T17:04:23.946986Z",
     "shell.execute_reply": "2022-05-18T17:04:23.947582Z",
     "shell.execute_reply.started": "2022-03-18T16:48:58.370268Z"
    },
    "papermill": {
     "duration": 0.075065,
     "end_time": "2022-05-18T17:04:23.947794",
     "exception": false,
     "start_time": "2022-05-18T17:04:23.872729",
     "status": "completed"
    },
    "tags": []
   },
   "outputs": [],
   "source": [
    "# import pandas as pd\n",
    "# h={'step': 0, 'type': 'string', 'amount': 0.0, 'nameOrig': 'C1231006815', 'oldbalanceOrig': 0.0, 'newbalanceOrig': 0.0, 'nameDest': 'M1979787155', 'oldbalanceDest': 0.0, 'newbalanceDest': 0.0}\n",
    "# df=pd.DataFrame([h])"
   ]
  },
  {
   "cell_type": "code",
   "execution_count": 35,
   "id": "ddba7ace",
   "metadata": {
    "execution": {
     "iopub.execute_input": "2022-05-18T17:04:24.091769Z",
     "iopub.status.busy": "2022-05-18T17:04:24.091104Z",
     "iopub.status.idle": "2022-05-18T17:04:24.094229Z",
     "shell.execute_reply": "2022-05-18T17:04:24.094750Z",
     "shell.execute_reply.started": "2022-04-09T17:21:26.021615Z"
    },
    "papermill": {
     "duration": 0.075833,
     "end_time": "2022-05-18T17:04:24.094953",
     "exception": false,
     "start_time": "2022-05-18T17:04:24.019120",
     "status": "completed"
    },
    "tags": []
   },
   "outputs": [],
   "source": [
    "#df"
   ]
  },
  {
   "cell_type": "code",
   "execution_count": null,
   "id": "4f4a8ad6",
   "metadata": {
    "papermill": {
     "duration": 0.070475,
     "end_time": "2022-05-18T17:04:24.235162",
     "exception": false,
     "start_time": "2022-05-18T17:04:24.164687",
     "status": "completed"
    },
    "tags": []
   },
   "outputs": [],
   "source": []
  }
 ],
 "metadata": {
  "kernelspec": {
   "display_name": "Python 3",
   "language": "python",
   "name": "python3"
  },
  "language_info": {
   "codemirror_mode": {
    "name": "ipython",
    "version": 3
   },
   "file_extension": ".py",
   "mimetype": "text/x-python",
   "name": "python",
   "nbconvert_exporter": "python",
   "pygments_lexer": "ipython3",
   "version": "3.7.12"
  },
  "papermill": {
   "default_parameters": {},
   "duration": 24.639659,
   "end_time": "2022-05-18T17:04:24.916272",
   "environment_variables": {},
   "exception": null,
   "input_path": "__notebook__.ipynb",
   "output_path": "__notebook__.ipynb",
   "parameters": {},
   "start_time": "2022-05-18T17:04:00.276613",
   "version": "2.3.3"
  }
 },
 "nbformat": 4,
 "nbformat_minor": 5
}
