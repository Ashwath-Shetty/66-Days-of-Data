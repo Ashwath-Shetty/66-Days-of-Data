{
 "cells": [
  {
   "cell_type": "code",
   "execution_count": 1,
   "id": "4fa22f29",
   "metadata": {
    "_cell_guid": "b1076dfc-b9ad-4769-8c92-a6c4dae69d19",
    "_uuid": "8f2839f25d086af736a60e9eeb907d3b93b6e0e5",
    "execution": {
     "iopub.execute_input": "2022-05-16T15:53:42.944039Z",
     "iopub.status.busy": "2022-05-16T15:53:42.943330Z",
     "iopub.status.idle": "2022-05-16T15:53:42.959138Z",
     "shell.execute_reply": "2022-05-16T15:53:42.959720Z",
     "shell.execute_reply.started": "2022-04-12T14:12:25.248687Z"
    },
    "papermill": {
     "duration": 0.101508,
     "end_time": "2022-05-16T15:53:42.960030",
     "exception": false,
     "start_time": "2022-05-16T15:53:42.858522",
     "status": "completed"
    },
    "tags": []
   },
   "outputs": [
    {
     "name": "stdout",
     "output_type": "stream",
     "text": [
      "/kaggle/input/sample-pdf/D8communications.pdf\n"
     ]
    }
   ],
   "source": [
    "# This Python 3 environment comes with many helpful analytics libraries installed\n",
    "# It is defined by the kaggle/python Docker image: https://github.com/kaggle/docker-python\n",
    "# For example, here's several helpful packages to load\n",
    "\n",
    "import numpy as np # linear algebra\n",
    "import pandas as pd # data processing, CSV file I/O (e.g. pd.read_csv)\n",
    "\n",
    "# Input data files are available in the read-only \"../input/\" directory\n",
    "# For example, running this (by clicking run or pressing Shift+Enter) will list all files under the input directory\n",
    "\n",
    "import os\n",
    "for dirname, _, filenames in os.walk('/kaggle/input'):\n",
    "    for filename in filenames:\n",
    "        print(os.path.join(dirname, filename))\n",
    "\n",
    "# You can write up to 20GB to the current directory (/kaggle/working/) that gets preserved as output when you create a version using \"Save & Run All\" \n",
    "# You can also write temporary files to /kaggle/temp/, but they won't be saved outside of the current session"
   ]
  },
  {
   "cell_type": "markdown",
   "id": "a5791050",
   "metadata": {
    "papermill": {
     "duration": 0.070998,
     "end_time": "2022-05-16T15:53:43.107988",
     "exception": false,
     "start_time": "2022-05-16T15:53:43.036990",
     "status": "completed"
    },
    "tags": []
   },
   "source": [
    "# **Start Date: 12/3/2022**"
   ]
  },
  {
   "cell_type": "markdown",
   "id": "dfad2ce9",
   "metadata": {
    "papermill": {
     "duration": 0.079497,
     "end_time": "2022-05-16T15:53:43.265481",
     "exception": false,
     "start_time": "2022-05-16T15:53:43.185984",
     "status": "completed"
    },
    "tags": []
   },
   "source": [
    "# **Day 1:** \n",
    "<br>dataquest -> stats -> probability-> estimating probability\n",
    "1. out come is nothing but o/p of an experiment\n",
    "ex: whatever u get after rolling a dice -> it can be any number\n",
    "2. event can have more than one outcome\n",
    "- e.x: The event that we'll get an odd number when we roll a six-sided die — this event includes the outcomes 1, 3, and 5.\n",
    "- an event can be 0 as well.\n",
    "- We always assign probabilities to events, not outcomes, even if the event includes only one outcome.\n",
    "- P(E) =1/total number of possible outcomes, P(E) probability of an event happening.\n",
    "- but above formula doesn't work always, especially when there are more than one outcome\n",
    "    - P(E)=number of successful outcomes/total number of possible outcomes\n",
    "- incase of a biased situation \n",
    "  - let's say a die has 6 - 3 times which is 1,6,3,5,6,6\n",
    "    we will consider 6 as 3 times not 1.\n",
    "    possible outcome-> 1,3,5,6,6,6\n",
    "    prob(6)=3/6\n",
    "    prob(3)=1/6\n",
    "    prob(2)=0/6\n",
    "    If we didn't treat each 6 differently and said it doesn't matter which side a 6 is on, \n",
    "    <br>we'd be forced to conclude the only possible outcomes are 1, 3, 5 and 6. We can definitely         <br>frame the problem like that, but the formula above won't work anymore — we see below P(6) <br>becomes the same as P(3), but, intuitively, P(6) should be higher than P(3) since the die has 6 on     <br>three of its sides:\n"
   ]
  },
  {
   "cell_type": "markdown",
   "id": "5ba4d0f5",
   "metadata": {
    "papermill": {
     "duration": 0.074155,
     "end_time": "2022-05-16T15:53:43.418072",
     "exception": false,
     "start_time": "2022-05-16T15:53:43.343917",
     "status": "completed"
    },
    "tags": []
   },
   "source": [
    "Estimating Probabilities Conclusion\n",
    "- emperical/ experimental probability\n",
    "  - probability achieved by experimenting / by doing the same event multiple times.\n",
    "  - Generally, for any event E (like a coin landing heads up), we can find its empirical probability   \n",
    "     by using the following formula: \n",
    "     •P (E) =number of times event E happened/ number of times we repeated the experiment   \n",
    " - Generally, the empirical probability of an event (a coin landing heads up, getting a 5 when weroll a die) approaches the true probability value as the number of trials of the randomexperiment (a coin toss, the rolling of a die) increases without bound.\n",
    "- When we calculate the probability of an event under the assumption that the outcomes have equal chances of occurring, we say that we're calculating the **theoretical probability** of an event.\n",
    "   - P(E)=number of successful outcomes/total number of possible outcomes\n",
    "\n"
   ]
  },
  {
   "cell_type": "markdown",
   "id": "0498f199",
   "metadata": {
    "papermill": {
     "duration": 0.074903,
     "end_time": "2022-05-16T15:53:43.567721",
     "exception": false,
     "start_time": "2022-05-16T15:53:43.492818",
     "status": "completed"
    },
    "tags": []
   },
   "source": [
    "# **Day 2**\n",
    "<br>dataquest-> stats -> intro to probability -> probability rules\n",
    "<br>In probability theory, the set of all possible outcomes is called a sample space. A sample space is often denoted by the capital Greek letter Ω (read \"omega\"). This is how we represent the sample space of a die roll:\n",
    "\n",
    "Ω = {1,2,3,4,5,6}\n",
    "-    The probability of any event ranges between 0 and 1: 0≤ P(Event) ≤1\n",
    "- To calculate P(A or B), we can also use the formula below, which is sometimes called the addition rule: P(A or B) = P(A) + P(B)\n",
    "  - Sample space ={ 1,2,3,4,5,6} \n",
    "  - P(2 or 5) = 2/6\n",
    "\n",
    "- P(C or D) = P(C) + P(D) - P(C and D)\n",
    "   - e.x : Sample_space ={2,4,6} + { 4,5,6} - {4/6}\n",
    "      P( even number or number greater than 3) = ( (3/6) + (3/6) )- (2/6) = 4/6\n",
    "- Events that don't intersect are called mutually exclusive.\n",
    "  - e.x: Getting a 5 (event one) and getting a 3 (event two) when we roll a regular six-sided die — it's  impossible to get both a 5 and 3.\n",
    "- Events that intersect are called mutually non-exclusive.\n",
    "  - Getting a number greater than 2 (event one) and getting an odd number (event two) when we roll a regular six-sided die — we could get a 5, which is both greater than 2 (event one) and odd (event two).\n",
    "- unioun -> A or B, intersection -> A and B"
   ]
  },
  {
   "cell_type": "markdown",
   "id": "c0088c01",
   "metadata": {
    "papermill": {
     "duration": 0.07478,
     "end_time": "2022-05-16T15:53:43.715605",
     "exception": false,
     "start_time": "2022-05-16T15:53:43.640825",
     "status": "completed"
    },
    "tags": []
   },
   "source": [
    "# Day 3 and 4\n",
    "dataquest -> stats -> probabilities -> solving complex probabilities\n",
    "- This is the same result we got from our previous approach. In more general terms, the multiplication rule says that for two events E1 and E2, the probability that both event E1 and E2 happen can be found by multiplying the probability of E1 by the probability of E2:\n",
    "    - P(E1 ∩ E2) = P(E1) × P(E2)\n",
    "    - Events that don't influence each other's probability are called independent events. If H1 happens, P(H2) stays the same, so H1 and H2 are independent. The multiplication rule we learned only works for independent events.\n",
    "    "
   ]
  },
  {
   "cell_type": "markdown",
   "id": "0c11a737",
   "metadata": {
    "papermill": {
     "duration": 0.07328,
     "end_time": "2022-05-16T15:53:43.862113",
     "exception": false,
     "start_time": "2022-05-16T15:53:43.788833",
     "status": "completed"
    },
    "tags": []
   },
   "source": [
    "# Day 5\n",
    "- When we replace the cards after drawing, we say that we're sampling with replacement. When we don't put the cards back, we're sampling without replacement. \n"
   ]
  },
  {
   "cell_type": "markdown",
   "id": "24cc3d7c",
   "metadata": {
    "papermill": {
     "duration": 0.077347,
     "end_time": "2022-05-16T15:53:44.009347",
     "exception": false,
     "start_time": "2022-05-16T15:53:43.932000",
     "status": "completed"
    },
    "tags": []
   },
   "source": [
    "# Day6\n",
    "dataquest-> prob and stats -> probability fundamentals -> permutation and combinations\n",
    "Generally, if we have an experiment E1 (like flipping a coin) with a outcomes, followed by an experiment E2 (like rolling a die) with b outcomes, then the total number of outcomes for the composite experiment E1E2 can be found by multiplying a with b:\n",
    "\n",
    "Number of outcomes = a * b"
   ]
  },
  {
   "cell_type": "markdown",
   "id": "b171455c",
   "metadata": {
    "papermill": {
     "duration": 0.072807,
     "end_time": "2022-05-16T15:53:44.156815",
     "exception": false,
     "start_time": "2022-05-16T15:53:44.084008",
     "status": "completed"
    },
    "tags": []
   },
   "source": [
    "# Day 7\n",
    "dataquest-> prob and stats -> probability fundamentals -> permutation and combinations <br>\n",
    "More generally, if we have an experiment E1 with a outcomes, followed by an experiment E2 with b outcomes, followed by an experiment En with z outcomes, the total number of outcomes for the composite experiment E1E2 ... En can be found by multiplying their individual outcomes:\n",
    "\n",
    "Number of outcomes= a * b * … * z"
   ]
  },
  {
   "cell_type": "markdown",
   "id": "bf9c2820",
   "metadata": {
    "papermill": {
     "duration": 0.079897,
     "end_time": "2022-05-16T15:53:44.320384",
     "exception": false,
     "start_time": "2022-05-16T15:53:44.240487",
     "status": "completed"
    },
    "tags": []
   },
   "source": [
    "# Day 8\n",
    "dataquest-> prob and stats -> probability fundamentals -> permutation and combinations <br>\n",
    "permutations= n*(n-1)*(n-2)*....*2*1\n"
   ]
  },
  {
   "cell_type": "markdown",
   "id": "d4cf8f7d",
   "metadata": {
    "papermill": {
     "duration": 0.070727,
     "end_time": "2022-05-16T15:53:44.465189",
     "exception": false,
     "start_time": "2022-05-16T15:53:44.394462",
     "status": "completed"
    },
    "tags": []
   },
   "source": [
    "# Day 9\n",
    "dataquest-> prob and stats -> probability fundamentals -> permutation and combinations\n",
    "- in permutation order of the individual element in the arranement matters.\n",
    "   - for e.x: 9821 is different than 9281\n",
    "   - Permutations =n!  --> sample without replacement-> we are not putting back the sampled data.\n",
    "   - On the last screen, we learned to use the formula below to calculate permutations when we're sampling without replacement and taking only k objects from a group of n objects:\n",
    "   npk=n!/(n-k)!"
   ]
  },
  {
   "cell_type": "markdown",
   "id": "7ad8c133",
   "metadata": {
    "papermill": {
     "duration": 0.076348,
     "end_time": "2022-05-16T15:53:44.612423",
     "exception": false,
     "start_time": "2022-05-16T15:53:44.536075",
     "status": "completed"
    },
    "tags": []
   },
   "source": [
    "# Day 10\n",
    "dataquest-> prob and stats -> probability fundamentals -> permutation and combinations\n",
    "- More generally, if the order of the elements in an arrangement doesn't matter, the arrangement is called a combination.\n",
    "- e.x: cards in a deck \n",
    "- nCk = n! / ((n-k)!*k!)"
   ]
  },
  {
   "cell_type": "markdown",
   "id": "3322d7d3",
   "metadata": {
    "papermill": {
     "duration": 0.073432,
     "end_time": "2022-05-16T15:53:44.757388",
     "exception": false,
     "start_time": "2022-05-16T15:53:44.683956",
     "status": "completed"
    },
    "tags": []
   },
   "source": [
    "# Day 11\n",
    "dataquest-> prob and stats -> probability fundamentals -> permutation and combinations\n",
    "- solved 1 probability problem.\n"
   ]
  },
  {
   "cell_type": "markdown",
   "id": "b46fa4c1",
   "metadata": {
    "papermill": {
     "duration": 0.074687,
     "end_time": "2022-05-16T15:53:44.909852",
     "exception": false,
     "start_time": "2022-05-16T15:53:44.835165",
     "status": "completed"
    },
    "tags": []
   },
   "source": [
    "# Day 12\n",
    "dataquest-> prob and stats -> probability fundamentals -> permutation and combinations\n",
    "- finished probability and permutations by revising them.\n",
    "- If we have an experiment E1 (like flipping a coin) with a outcomes, followed by an experiment E2(like rolling a die) with b outcomes, then the total number of outcomes for the compositeexperiment E1E2 can be found by multiplying a with b (this is known as the rule of product):\n",
    "  - number of outcomes = a*b\n",
    "- If we have an experiment E1 with a outcomes, followed by an experiment E2 with b outcomes,followed by an experiment En with z outcomes, the total number of outcomes for the compositeexperiment E1E2 ... En can be found by multiplying their individual outcomes:\n",
    "   - number of outcomes = a*b* ... *z\n",
    "- There are two kinds of arrangements:\n",
    "   - •Arrangements where the order matters, which we call permutations.\n",
    "   - •Arrangements where the order doesn't matter, which we call combination\n",
    "- To find the number of permutations when we're sampling without replacement, we can use theformula:\n",
    "  - permutation = n!\n",
    "- To find the number of permutations when we're sampling without replacement and taking only kobjects from a group of n objects, we can use the formula:\n",
    "  - nPk = n!/(n-k)!\n",
    "- To find the number of combinations when we're sampling without replacement and taking only kobjects from a group of n objects, we can use the formula\n",
    "  - nCk = n! / ((n-k)!*k!)"
   ]
  },
  {
   "cell_type": "markdown",
   "id": "d750a1d0",
   "metadata": {
    "papermill": {
     "duration": 0.076202,
     "end_time": "2022-05-16T15:53:45.062150",
     "exception": false,
     "start_time": "2022-05-16T15:53:44.985948",
     "status": "completed"
    },
    "tags": []
   },
   "source": [
    "# Day 13\n",
    "dataquest-> prob and stats -> probability fundamentals -> conditional probabilities\n",
    "- first 2 slides -> mainly the recap of old chapter(above one).\n"
   ]
  },
  {
   "cell_type": "markdown",
   "id": "0a4ec752",
   "metadata": {
    "papermill": {
     "duration": 0.080702,
     "end_time": "2022-05-16T15:53:45.218346",
     "exception": false,
     "start_time": "2022-05-16T15:53:45.137644",
     "status": "completed"
    },
    "tags": []
   },
   "source": [
    "# Day 14\n",
    "dataquest-> prob and stats -> probability fundamentals -> conditional probabilities\n",
    "<br>slide 4 completed\n",
    "<br>conditional probabilities\n",
    "- probabilities with condition\n",
    "- P(5)=What is the probability of getting a 5? -> normal probability\n",
    "- P(5 | odd) =What is the probability of getting a 5 given the die showed an odd number? -> conditional prob.\n",
    "\n"
   ]
  },
  {
   "cell_type": "markdown",
   "id": "b97e8d94",
   "metadata": {
    "papermill": {
     "duration": 0.073891,
     "end_time": "2022-05-16T15:53:45.372869",
     "exception": false,
     "start_time": "2022-05-16T15:53:45.298978",
     "status": "completed"
    },
    "tags": []
   },
   "source": [
    "# Day 15\n",
    "dataquest-> prob and stats -> probability fundamentals -> conditional probabilities\n",
    "- on slide 5 not done yet.\n",
    "\n",
    "Say we roll a fair six-sided die and want to find the probability of getting an odd number, given the die showed a number greater than 1 after landing. Using probability notation, we want to find P(A|B) where:\n",
    "\n",
    "- A is the event that the number is odd: A = {1, 3, 5}\n",
    "- B is the event that the number is greater than 1: B = {2, 3, 4, 5, 6}\n",
    "- P(A/B)=number of succesfull outcomes / total number of outcomes.\n"
   ]
  },
  {
   "cell_type": "markdown",
   "id": "0cd3bd8e",
   "metadata": {
    "papermill": {
     "duration": 0.075211,
     "end_time": "2022-05-16T15:53:45.525045",
     "exception": false,
     "start_time": "2022-05-16T15:53:45.449834",
     "status": "completed"
    },
    "tags": []
   },
   "source": [
    "# Day 16 and 17\n",
    "dataquest-> prob and stats -> probability fundamentals -> conditional probabilities\n",
    "\n",
    "on slide 6 not done yet."
   ]
  },
  {
   "cell_type": "markdown",
   "id": "444ae5e1",
   "metadata": {
    "papermill": {
     "duration": 0.074582,
     "end_time": "2022-05-16T15:53:45.683682",
     "exception": false,
     "start_time": "2022-05-16T15:53:45.609100",
     "status": "completed"
    },
    "tags": []
   },
   "source": [
    "# Day 18\n",
    "dataquest-> prob and stats -> probability fundamentals -> conditional probabilities\n",
    "<br>slide 5 code half done"
   ]
  },
  {
   "cell_type": "markdown",
   "id": "de51a1a2",
   "metadata": {
    "papermill": {
     "duration": 0.079122,
     "end_time": "2022-05-16T15:53:45.837458",
     "exception": false,
     "start_time": "2022-05-16T15:53:45.758336",
     "status": "completed"
    },
    "tags": []
   },
   "source": [
    "# Day 19\n",
    "- The number of elements in a set is called the cardinal of the set. \n",
    "  Ω is a set, and the cardinal of \n",
    "   Ω = { 2,3,4,5,6}\n",
    "   cardinal(Ω)=5\n",
    "- P(A | B) = card(A ∩ B) / card(B)\n",
    "- Say we roll a fair six-sided die and want to find the probability of getting an odd number, given the die showed a number greater than 1 after landing. Using probability notation, we want to find P(A|B) where:\n",
    "    - A is the event that the number is odd: A = {1, 3, 5}\n",
    "     - B is the event that the number is greater than 1: B = {2, 3, 4, 5, 6}\n",
    "     - total number of possible outcomes = card({2,3,4,5,6}) =5\n",
    "     - number of successful outcomes = card({3,5})= 2\n",
    "- P(A | B) = card(A ∩ B) / card(B), we can also get the same result using P(A | B) = prob(A ∩ B) / prob(B)\n",
    "\n",
    "     "
   ]
  },
  {
   "cell_type": "markdown",
   "id": "917badf9",
   "metadata": {
    "papermill": {
     "duration": 0.076281,
     "end_time": "2022-05-16T15:53:45.989833",
     "exception": false,
     "start_time": "2022-05-16T15:53:45.913552",
     "status": "completed"
    },
    "tags": []
   },
   "source": [
    "# Day 20\n",
    "dataquest-> prob and stats -> probability fundamentals -> conditional probabilities intermediate\n",
    "<br> slide 1 and 2\n",
    "- P( A | B ) ≠ P(A ∩ B), but rather:\n",
    "   - P(A | B) = P(A ∩ B) / P(B)\n",
    "   - P(A ∩ B) = P(A | B) ⋅ P(B)\n",
    "- Given that a customer bought a laptop, they will or will not also buy a mouse. This means we can be certain that either event (M|L) or (M^C|L) will happen:\n",
    "     - P(M | L) + P(M^C | L) = 1\n",
    "\n"
   ]
  },
  {
   "cell_type": "markdown",
   "id": "c4cd22ed",
   "metadata": {
    "papermill": {
     "duration": 0.084296,
     "end_time": "2022-05-16T15:53:46.150796",
     "exception": false,
     "start_time": "2022-05-16T15:53:46.066500",
     "status": "completed"
    },
    "tags": []
   },
   "source": [
    "# Day 21\n",
    "dataquest-> prob and stats -> probability fundamentals -> conditional probabilities intermediate\n",
    "slide 1 and 2\n",
    "- P(A ∩ B) = P(B ∩ A)\n",
    "- multiplication rule of probability\n",
    "  -  P(A ∩ B) = P(B) ⋅ P(A | B) \n",
    "  - P(A ∩ B) = P(A) ⋅ P(B | A)\n",
    "- if P(A) and P(B) are statistically independent then \n",
    "  - P(A ∩ B) = P(A) ⋅ P(B)\n",
    "\n"
   ]
  },
  {
   "cell_type": "markdown",
   "id": "05e33542",
   "metadata": {
    "papermill": {
     "duration": 0.071374,
     "end_time": "2022-05-16T15:53:46.313470",
     "exception": false,
     "start_time": "2022-05-16T15:53:46.242096",
     "status": "completed"
    },
    "tags": []
   },
   "source": [
    "# Day 22\n",
    "dataquest-> prob and stats -> probability fundamentals -> conditional probabilities intermediate \n",
    "<br>slide 6\n",
    "- If events events A and B are dependent, it means the occurrence of event A changes the probability of event B and vice versa.\n",
    "   - P(A) ≠ P(A | B)\n",
    "   - P(B) ≠ P(B | A)\n",
    "   - P(A ∩ B) ≠ P(A) ⋅ P(B)\n",
    "   - formula will become P(A ∩ B) ≠ P(A) ⋅ P(B/A)\n",
    "   "
   ]
  },
  {
   "cell_type": "markdown",
   "id": "775a003a",
   "metadata": {
    "papermill": {
     "duration": 0.073792,
     "end_time": "2022-05-16T15:53:46.461322",
     "exception": false,
     "start_time": "2022-05-16T15:53:46.387530",
     "status": "completed"
    },
    "tags": []
   },
   "source": [
    "# Day 23\n",
    "dataquest-> prob and stats -> probability fundamentals -> conditional probabilities intermediate\n",
    "<br>slide 7 to last\n",
    "- To find whether three events — A, B, C — are independent or not, below conditions must hold true -\n",
    "  - P(A ∩ B) ≠ P(A) ⋅ P(B)\n",
    "  - P(A ∩ C) ≠ P(A) ⋅ P(C)\n",
    "  - P(B ∩ C) ≠ P(B) ⋅ P(C)\n",
    "  - P(A ∩ B ∩ C) ≠ P(A) ⋅ P(B) . P(C)\n",
    "- multiplication rule for conditional probability or dependent events\n",
    " - P(A ∩ B ∩ C) = P(A) ⋅ P(B | A) ⋅ P(C | A ∩ B)\n",
    " \n",
    "\n"
   ]
  },
  {
   "cell_type": "markdown",
   "id": "d5331ffc",
   "metadata": {
    "papermill": {
     "duration": 0.07096,
     "end_time": "2022-05-16T15:53:46.605670",
     "exception": false,
     "start_time": "2022-05-16T15:53:46.534710",
     "status": "completed"
    },
    "tags": []
   },
   "source": [
    "# Day 24\n",
    "dataquest-> prob and stats -> probability fundamentals -> bayes theorem\n",
    "<br>slide 1\n",
    "- independent -> one event is dependent on other\n",
    "   - P(A ∩ B) = P(A) ⋅ P(B/A)\n",
    "- independent -> one event is not dependent on other.\n",
    "   - P(A ∩ B) = P(A) ⋅ P(B)\n",
    "- mutually exclusive -> both the events cannot happen at the same time.\n",
    "   - P(A ∩ B) = 0\n",
    "\n"
   ]
  },
  {
   "cell_type": "markdown",
   "id": "777d6d51",
   "metadata": {
    "papermill": {
     "duration": 0.079396,
     "end_time": "2022-05-16T15:53:46.759960",
     "exception": false,
     "start_time": "2022-05-16T15:53:46.680564",
     "status": "completed"
    },
    "tags": []
   },
   "source": [
    "# Day 25\n",
    "dataquest-> prob and stats -> probability fundamentals -> bayes theorem\n",
    "<br>slide 2\n",
    "- If two events are exhaustive, it means they make up the whole sample space Ω\n",
    "  -  P(A) = P(A ∩ B) + P(A ∩ B^c)\n",
    "     P(A) = (P(B) * P(A/B)) +  (P(B^c) * P(A/B^c))\n",
    "     \n",
    "     "
   ]
  },
  {
   "cell_type": "markdown",
   "id": "8ffecd8d",
   "metadata": {
    "papermill": {
     "duration": 0.077817,
     "end_time": "2022-05-16T15:53:46.914011",
     "exception": false,
     "start_time": "2022-05-16T15:53:46.836194",
     "status": "completed"
    },
    "tags": []
   },
   "source": [
    "# Day 26\n",
    "dataquest-> prob and stats -> probability fundamentals -> bayes theorem\n",
    "<br>slide 3 - last\n",
    "- the law of total probability\n",
    "  - P(A)  = (P(B1) * P(A/B1)) + (P(B2) * P(A/B2))+ ... + (P(Bn) * P(A/Bn)))\n",
    "  - P(A) =(summattion i=1 to n) P(Bi) ⋅ P(A|Bi)\n",
    "- Baye's theorem\n",
    "  - P(B | A) = (P(B) ⋅ P(A | B)) / (n ∑i=1 P(Bi) ⋅ P(A | Bi))\n",
    "- The probability of being infected with HIV before doing any test is called the prior probability (\"prior\" means \"before\"). The probability of being infected with HIV after testing positive is called the posterior probability (\"posterior\" means \"after\").\n",
    "\n",
    "\n",
    "  "
   ]
  },
  {
   "cell_type": "markdown",
   "id": "8ce4c453",
   "metadata": {
    "papermill": {
     "duration": 0.076225,
     "end_time": "2022-05-16T15:53:47.068075",
     "exception": false,
     "start_time": "2022-05-16T15:53:46.991850",
     "status": "completed"
    },
    "tags": []
   },
   "source": [
    "# Day 27\n",
    "dataquest-> prob and stats -> probability fundamentals -> naive bayes theorem\n",
    "<br>slide 1 - \n",
    "P(Spam|w1,w2,w3,w4)∝P(Spam)⋅P(w1|Spam)⋅P(w2|Spam)⋅P(w3|Spam)⋅P(w4|Spam)P(SpamC|w1,w2,w3,w4)∝P(SpamC)⋅P(w1|SpamC)⋅P(w2|SpamC)⋅P(w3|SpamC)⋅P(w4|SpamC)"
   ]
  },
  {
   "cell_type": "markdown",
   "id": "0a1c85f0",
   "metadata": {
    "papermill": {
     "duration": 0.078987,
     "end_time": "2022-05-16T15:53:47.224827",
     "exception": false,
     "start_time": "2022-05-16T15:53:47.145840",
     "status": "completed"
    },
    "tags": []
   },
   "source": [
    "# Day 28\n",
    "dataquest-> prob and stats -> probability fundamentals -> naive bayes theorem\n",
    "<br>finished.\n",
    "<br>**Summary**\n",
    "- P(Spam|w1,w2,...,wn)∝P(Spam)⋅n∏i=1P(wi|Spam)\n",
    "- P(SpamC|w1,w2,...,wn)∝P(SpamC)⋅n∏i=1P(wi|SpamC)\n",
    "- To calculate P(wi|Spam) and P(wi|SpamC), we need to use the additive smoothing technique: \n",
    "- P ( w i | S p a m ) = (N w i | S p a m + α) / ( N S p a m + α ⋅ N V o c a b u l a r y )\n",
    "- P ( w i | S p a m C ) = (N w i | S p a m C + α) / ( N S p a m C + α ⋅ N V o c a b u l a r y )\n",
    "     - N w i | S p a m = the number of times the word w i occurs in spam messages \n",
    "     - N w i | S p a m C = the number of times the word w i occurs in non-spam messages \n",
    "     - N S p a m = total number of words in spam messages \n",
    "     - N S p a m C = total number of words in non-spam messages \n",
    "     - N V o c a b u l a r y = total number of words in the vocabulary \n",
    "     - α = 1 ( α is a smoothing parameter )\n",
    " - naive bayes theorem assumes that events are not dependent.\n",
    " - The assumption of conditional independence between words is thus naive since it rarely holds in practice, and this is why the algorithm is called Naive Bayes (also called simple Bayes or independence Bayes)."
   ]
  },
  {
   "cell_type": "markdown",
   "id": "d67a7a32",
   "metadata": {
    "papermill": {
     "duration": 0.074712,
     "end_time": "2022-05-16T15:53:47.374963",
     "exception": false,
     "start_time": "2022-05-16T15:53:47.300251",
     "status": "completed"
    },
    "tags": []
   },
   "source": [
    "# Day 29,30,31\n",
    "<br>dataquest-> prob and stats -> probability fundamentals -> conditional probability-> guided projects\n",
    "<br> in progress"
   ]
  },
  {
   "cell_type": "markdown",
   "id": "fac9bf4e",
   "metadata": {
    "papermill": {
     "duration": 0.073254,
     "end_time": "2022-05-16T15:53:47.521796",
     "exception": false,
     "start_time": "2022-05-16T15:53:47.448542",
     "status": "completed"
    },
    "tags": []
   },
   "source": [
    "# Day 32 and 33\n",
    "<br>dataquest-> prob and stats -> probability fundamentals -> guided projects\n",
    "<br> done"
   ]
  },
  {
   "cell_type": "markdown",
   "id": "9e9f7142",
   "metadata": {
    "papermill": {
     "duration": 0.069306,
     "end_time": "2022-05-16T15:53:47.660729",
     "exception": false,
     "start_time": "2022-05-16T15:53:47.591423",
     "status": "completed"
    },
    "tags": []
   },
   "source": [
    "# Day 34\n",
    "<br>dataquest-> prob and stats -> probability fundamentals -> guided projects-> lottery prediction\n",
    "<br> done"
   ]
  },
  {
   "cell_type": "markdown",
   "id": "59ec8929",
   "metadata": {
    "papermill": {
     "duration": 0.069814,
     "end_time": "2022-05-16T15:53:47.800268",
     "exception": false,
     "start_time": "2022-05-16T15:53:47.730454",
     "status": "completed"
    },
    "tags": []
   },
   "source": [
    "# Day 35\n",
    "<br>dataquest-> prob and stats -> hypothesis testing fundamentals -> significance testing\n",
    "<br> till slide 4\n",
    "- null hypothesis\n",
    "- alternate hypothesis\n"
   ]
  },
  {
   "cell_type": "markdown",
   "id": "41bbe869",
   "metadata": {
    "papermill": {
     "duration": 0.070969,
     "end_time": "2022-05-16T15:53:47.939272",
     "exception": false,
     "start_time": "2022-05-16T15:53:47.868303",
     "status": "completed"
    },
    "tags": []
   },
   "source": [
    "# Day 36 and 37\n",
    "<br>dataquest-> prob and stats -> hypothesis testing fundamentals -> significance testing\n",
    "- The permutation test is a statistical test that involves rerunning the study many times and recalculating the test statistic for each iteration. The goal is to calculate a distribution of the test statistics over these many iterations. This distribution is called the sampling distribution and it approximates the full range of possible test statistics under the null hypothesis\n",
    "\n"
   ]
  },
  {
   "cell_type": "markdown",
   "id": "310c5688",
   "metadata": {
    "papermill": {
     "duration": 0.070829,
     "end_time": "2022-05-16T15:53:48.086907",
     "exception": false,
     "start_time": "2022-05-16T15:53:48.016078",
     "status": "completed"
    },
    "tags": []
   },
   "source": [
    "# Day 38\n",
    "<br>dataquest-> prob and stats -> hypothesis testing fundamentals -> significance testing\n",
    "<br>in progress."
   ]
  },
  {
   "cell_type": "markdown",
   "id": "ed1d3185",
   "metadata": {
    "papermill": {
     "duration": 0.072164,
     "end_time": "2022-05-16T15:53:48.229755",
     "exception": false,
     "start_time": "2022-05-16T15:53:48.157591",
     "status": "completed"
    },
    "tags": []
   },
   "source": [
    "# Day 39\n",
    "<br>dataquest-> prob and stats -> hypothesis testing fundamentals -> significance testing\n",
    "<br>slide 5-6"
   ]
  },
  {
   "cell_type": "markdown",
   "id": "302fd9b9",
   "metadata": {
    "papermill": {
     "duration": 0.072759,
     "end_time": "2022-05-16T15:53:48.375277",
     "exception": false,
     "start_time": "2022-05-16T15:53:48.302518",
     "status": "completed"
    },
    "tags": []
   },
   "source": [
    "# Day 40\n",
    "<br>dataquest-> prob and stats -> hypothesis testing fundamentals -> significance testing\n",
    "<br>slide 7"
   ]
  },
  {
   "cell_type": "markdown",
   "id": "cf7d25c5",
   "metadata": {
    "papermill": {
     "duration": 0.068612,
     "end_time": "2022-05-16T15:53:48.514855",
     "exception": false,
     "start_time": "2022-05-16T15:53:48.446243",
     "status": "completed"
    },
    "tags": []
   },
   "source": [
    "# Day 41 and 42\n",
    "<br>dataquest-> prob and stats -> hypothesis testing fundamentals -> significance testing\n",
    "<br>slide 7 done and 8(p-value) strated"
   ]
  },
  {
   "cell_type": "markdown",
   "id": "62b7a0d8",
   "metadata": {
    "papermill": {
     "duration": 0.068877,
     "end_time": "2022-05-16T15:53:48.656976",
     "exception": false,
     "start_time": "2022-05-16T15:53:48.588099",
     "status": "completed"
    },
    "tags": []
   },
   "source": [
    "# Day 43\n",
    "<br>dataquest-> prob and stats -> hypothesis testing fundamentals -> significance testing\n",
    "<br>\n",
    "- The first step is to decide a test statistic, which is a numerical value that summarizes the data and one we can use in statistical formulas. The test statistic runs a statistical test that determines whether the difference between the groups was due to random chance.\n",
    "  - e.x: mean \n",
    "- The permutation test is a statistical test that involves rerunning the study many times and recalculating the test statistic for each iteration.\n",
    "   - The goal is to calculate a distribution of the test statistics over these many iterations. This distribution is called the sampling distribution and it approximates the full range of possible test statistics under the null hypothesis.\n",
    "- If the p value is less than the threshold, we:\n",
    "    - reject the null hypothesis that there's no difference in the mean amount of weight lost by participants in both groups; and\n",
    "    - conclude that there is some evidence that the weight loss pill does affect the amount of weight people lost.\n",
    "\n",
    "- If the p value is greater than the threshold, we:\n",
    "    - fail to reject the null hypothesis that there's no difference in the mean amount of weight lost by participants in both groups,\n",
    "    - conclude that the weight loss pill doesn't seem to be effective in helping people lose weight.\n",
    "- usually used p-value threshold is 0.05\n",
    "- The p value threshold you set can also affect the conclusion you reach.\n",
    "    - If you set too high of a p value threshold, you may reject the null hypothesis incorrectly. This is known as a type I error.\n",
    "    - If you set too low of a p value threshold, you may fail to reject the null hypothesis incorrectly. This is known as a type II error."
   ]
  },
  {
   "cell_type": "markdown",
   "id": "234e9c50",
   "metadata": {
    "papermill": {
     "duration": 0.068089,
     "end_time": "2022-05-16T15:53:48.793013",
     "exception": false,
     "start_time": "2022-05-16T15:53:48.724924",
     "status": "completed"
    },
    "tags": []
   },
   "source": [
    "# Day 44\n",
    "<br>dataquest-> prob and stats -> hypothesis testing fundamentals -> significance testing-> chi squared test\n",
    "<br>1- 4\n",
    "- chi squared test is used for numerical values"
   ]
  },
  {
   "cell_type": "markdown",
   "id": "3955812e",
   "metadata": {
    "papermill": {
     "duration": 0.073749,
     "end_time": "2022-05-16T15:53:48.945060",
     "exception": false,
     "start_time": "2022-05-16T15:53:48.871311",
     "status": "completed"
    },
    "tags": []
   },
   "source": [
    "# Day 45 and 46\n",
    "<br>dataquest-> prob and stats -> hypothesis testing fundamentals -> significance testing-> chi squared test\n",
    "<br>4- 6"
   ]
  },
  {
   "cell_type": "markdown",
   "id": "dd3aadb8",
   "metadata": {
    "papermill": {
     "duration": 0.076645,
     "end_time": "2022-05-16T15:53:49.091926",
     "exception": false,
     "start_time": "2022-05-16T15:53:49.015281",
     "status": "completed"
    },
    "tags": []
   },
   "source": [
    "# Day 47\n",
    "<br>dataquest-> prob and stats -> hypothesis testing fundamentals -> significance testing-> chi squared test\n",
    "<br> slide 6 done"
   ]
  },
  {
   "cell_type": "markdown",
   "id": "587d2054",
   "metadata": {
    "papermill": {
     "duration": 0.070973,
     "end_time": "2022-05-16T15:53:49.231816",
     "exception": false,
     "start_time": "2022-05-16T15:53:49.160843",
     "status": "completed"
    },
    "tags": []
   },
   "source": [
    "# Day 48\n",
    "<br> chi-squared values is that they get smaller as the sample size decreases.\n",
    "<br>**conclusion**\n",
    "- The chi-squared test enables us to quantify the difference between sets of observed and expected categorical values to determine statistical significance\n",
    "- chi squared = (observed - expected)**2 / expected\n",
    "- A p-value allows us to determine whether the difference between 2 values is due to chance, or due to an underlying difference.\n",
    "- Chi-squared values increase as sample size increases, but the chance of getting a high chi-squared value decreases as the sample gets larger.\n",
    "- A degree of freedom is the number of values that can vary without the other values being\"locked in\". \n",
    "- scipy https://docs.scipy.org/doc/scipy/reference/generated/scipy.stats.mstats.chisquare.html\n"
   ]
  },
  {
   "cell_type": "markdown",
   "id": "fa77228b",
   "metadata": {
    "papermill": {
     "duration": 0.072407,
     "end_time": "2022-05-16T15:53:49.377421",
     "exception": false,
     "start_time": "2022-05-16T15:53:49.305014",
     "status": "completed"
    },
    "tags": []
   },
   "source": [
    "# Day 49\n",
    "<br>dataquest-> prob and stats -> hypothesis testing fundamentals -> significance testing-> multi category chi squared test\n",
    "<br> slide 1 done\n",
    "- We can apply the multi category chi-squared test (also known as the chi-squared test of association) to figure out if there's a statistically significant correlation between two categorical columns.\n",
    "- "
   ]
  },
  {
   "cell_type": "markdown",
   "id": "2f65712e",
   "metadata": {
    "papermill": {
     "duration": 0.070918,
     "end_time": "2022-05-16T15:53:49.516445",
     "exception": false,
     "start_time": "2022-05-16T15:53:49.445527",
     "status": "completed"
    },
    "tags": []
   },
   "source": [
    " **Day 50**\n",
    "<br>dataquest-> prob and stats -> hypothesis testing fundamentals -> significance testing-> multi category chi squared test\n",
    "# Conclusion:\n",
    "- In a multiple category chi-squared test, we calculate expected values across our whole dataset.\n",
    "- We can calculate the chi-squared value by using the following steps:\n",
    "    - Subtract the expected value from the observed value.\n",
    "    - Subtract the difference.\n",
    "    - Divide the squared difference by the expected value.\n",
    "    - Repeat for all observed and expected values and add up all the values.\n",
    "- ∑ expected(observed−expected)**2 / expected\n",
    "- Discovering that a result isn't significant doesn't mean that no association between the columnsexists. Discovering a statistically significant result doesn't imply anything about what thecorrelation is.\n",
    "- Chi-squared tests can only be applied when each possibility within a category is independen.\n",
    "    - we have categories like male or female not both. single row has either male or female not both at a time.\n",
    "- https://docs.scipy.org/doc/scipy-0.15.1/reference/generated/scipy.stats.chi2_contingency.html\n",
    "- https://pandas.pydata.org/pandas-docs/stable/generated/pandas.crosstab.html\n"
   ]
  },
  {
   "cell_type": "markdown",
   "id": "d1c93850",
   "metadata": {
    "papermill": {
     "duration": 0.069471,
     "end_time": "2022-05-16T15:53:49.655156",
     "exception": false,
     "start_time": "2022-05-16T15:53:49.585685",
     "status": "completed"
    },
    "tags": []
   },
   "source": [
    "# **Day 51, 52**\n",
    "<br>dataquest-> prob and stats -> hypothesis testing fundamentals -> significance testing-> guided project\n",
    "<br>in progress."
   ]
  },
  {
   "cell_type": "markdown",
   "id": "1c02638d",
   "metadata": {
    "papermill": {
     "duration": 0.07117,
     "end_time": "2022-05-16T15:53:49.796179",
     "exception": false,
     "start_time": "2022-05-16T15:53:49.725009",
     "status": "completed"
    },
    "tags": []
   },
   "source": [
    "# **Day 53**\n",
    "<br>dataquest-> prob and stats -> hypothesis testing fundamentals -> significance testing-> guided project\n",
    "<br>done"
   ]
  },
  {
   "cell_type": "markdown",
   "id": "436b2e26",
   "metadata": {
    "papermill": {
     "duration": 0.070195,
     "end_time": "2022-05-16T15:53:49.936343",
     "exception": false,
     "start_time": "2022-05-16T15:53:49.866148",
     "status": "completed"
    },
    "tags": []
   },
   "source": [
    "# **Day 54,55, 56,57, 58, 59**\n",
    "interviewbit-> probability-> conditional probability\n",
    "1. You asked your three friends whether it will rain or not and all three affirmed for rain. All three have the probability of 1/3 of lying. What is the probability that it will actually rain?\n",
    "- https://www.geeksforgeeks.org/puzzle-is-it-raining/#:~:text=Explanation%3A,truth%20or%20all%20are%20lying.&text=So%2C%20it%20is%20approximately%2089,it%20is%20raining%20in%20Hyderabad.\n",
    "2. Anshul and Deven take turns in rolling a fair six-sided die. Whoever rolls a “6” first wins the game. Deven starts by rolling first. What’s the probability that Anshul wins?\n",
    "- https://www.quora.com/A-and-B-throw-a-Fair-die-one-after-another-Whoever-throws-6-first-wins-What-is-the-probability-that-A-wins\n",
    "\n",
    "3. You have a bag with 6 marbles. One marble is white. You reach the bag 100 times. After taking out a marble, it is placed back in the bag. What is the probability of drawing a white marble at least once?\n",
    "- https://brainly.com/question/14376470\n",
    "- Answer:\n",
    "\n",
    "0.999999988\n",
    "\n",
    "Step-by-step explanation:\n",
    "\n",
    "Given that you  have a bag with 6 marbles. One marble is white. You reach the bag 100 times. After taking out a marble, it is placed back in the bag.\n",
    "\n",
    "Because every time you replace the marble drawn, the probability for drawing a white marble in one draw is constant = p =5/6\n",
    "\n",
    "No of trials n = 100\n",
    "\n",
    "Here X no of times white marble is drawn is Binomial since there are two outcomes and also the probability is constant.\n",
    "\n",
    "the probability of drawing a white marble at least once\n",
    "\n",
    "=\n",
    "\n",
    "Required probability is almost 1.\n",
    "\n",
    "\n",
    "4. Supposedly a friend of yours has 2 children and at least one of them is a boy. What is the probability that the other is also a boy?\n",
    "- If at least one is a boy, there are three possible equally likely gender assignations of two siblings. boy-boy, boy-girl,\n",
    "\n",
    " or girl-boy. Only 1 in 3 cases or 33 percent are both boys. The lesson here is that when considering equally likely scenarios\n",
    "\n",
    " we must consider birth order. If the birth order of the boy is not specified – i.e. if we don’t know if he is the eldest or \n",
    "\n",
    " the youngest – the probability of two boys drops to 1 in 3.\n",
    " \n",
    "5. A single card is drawn from a standard deck of playing cards. What is the probability that the card is a queen provided that a face card is drawn from the deck of cards?\n",
    "- 4/12 = 1/3\n",
    " \n",
    "6. random variables Q1,2\n",
    "7. 5 questions\n",
    "8. bayes theorem first 2\n",
    "\n",
    "**Day 60**\n",
    "- inferential statistics - 3 questions\n",
    "**Day 61**\n",
    "- inferential statistics - central limit theorem done\n",
    "\n",
    "**Day 62**\n",
    "- inferential statistics - distribution analysis multivariate done\n",
    "\n",
    "**Day 63**\n",
    "- inferential statistics -  done\n",
    "\n",
    "**Day 64,65, 66**\n",
    "- Data Analysis-  wip\n",
    "\n"
   ]
  },
  {
   "cell_type": "markdown",
   "id": "3b920434",
   "metadata": {
    "papermill": {
     "duration": 0.076119,
     "end_time": "2022-05-16T15:53:50.085814",
     "exception": false,
     "start_time": "2022-05-16T15:53:50.009695",
     "status": "completed"
    },
    "tags": []
   },
   "source": []
  },
  {
   "cell_type": "code",
   "execution_count": null,
   "id": "2293c2b6",
   "metadata": {
    "papermill": {
     "duration": 0.076507,
     "end_time": "2022-05-16T15:53:50.240805",
     "exception": false,
     "start_time": "2022-05-16T15:53:50.164298",
     "status": "completed"
    },
    "tags": []
   },
   "outputs": [],
   "source": []
  },
  {
   "cell_type": "code",
   "execution_count": 2,
   "id": "4e83e504",
   "metadata": {
    "execution": {
     "iopub.execute_input": "2022-05-16T15:53:50.396645Z",
     "iopub.status.busy": "2022-05-16T15:53:50.395950Z",
     "iopub.status.idle": "2022-05-16T15:53:50.399280Z",
     "shell.execute_reply": "2022-05-16T15:53:50.399759Z",
     "shell.execute_reply.started": "2022-04-12T14:17:49.333113Z"
    },
    "papermill": {
     "duration": 0.080281,
     "end_time": "2022-05-16T15:53:50.399956",
     "exception": false,
     "start_time": "2022-05-16T15:53:50.319675",
     "status": "completed"
    },
    "tags": []
   },
   "outputs": [],
   "source": [
    "# !pip install PyMuPDF"
   ]
  },
  {
   "cell_type": "code",
   "execution_count": 3,
   "id": "a2752fc2",
   "metadata": {
    "execution": {
     "iopub.execute_input": "2022-05-16T15:53:50.546003Z",
     "iopub.status.busy": "2022-05-16T15:53:50.545136Z",
     "iopub.status.idle": "2022-05-16T15:53:50.548032Z",
     "shell.execute_reply": "2022-05-16T15:53:50.548528Z",
     "shell.execute_reply.started": "2022-04-12T14:19:20.437905Z"
    },
    "papermill": {
     "duration": 0.080051,
     "end_time": "2022-05-16T15:53:50.548736",
     "exception": false,
     "start_time": "2022-05-16T15:53:50.468685",
     "status": "completed"
    },
    "tags": []
   },
   "outputs": [],
   "source": [
    " \n",
    "# fitz.__version__"
   ]
  },
  {
   "cell_type": "code",
   "execution_count": 4,
   "id": "22a78151",
   "metadata": {
    "execution": {
     "iopub.execute_input": "2022-05-16T15:53:50.701745Z",
     "iopub.status.busy": "2022-05-16T15:53:50.700846Z",
     "iopub.status.idle": "2022-05-16T15:53:50.704014Z",
     "shell.execute_reply": "2022-05-16T15:53:50.704546Z",
     "shell.execute_reply.started": "2022-04-12T14:23:59.687259Z"
    },
    "papermill": {
     "duration": 0.078496,
     "end_time": "2022-05-16T15:53:50.704725",
     "exception": false,
     "start_time": "2022-05-16T15:53:50.626229",
     "status": "completed"
    },
    "tags": []
   },
   "outputs": [],
   "source": [
    "# !python -m spacy download en_core_web_sm"
   ]
  },
  {
   "cell_type": "code",
   "execution_count": null,
   "id": "ddecf9b5",
   "metadata": {
    "papermill": {
     "duration": 0.069761,
     "end_time": "2022-05-16T15:53:50.847793",
     "exception": false,
     "start_time": "2022-05-16T15:53:50.778032",
     "status": "completed"
    },
    "tags": []
   },
   "outputs": [],
   "source": []
  },
  {
   "cell_type": "code",
   "execution_count": 5,
   "id": "3b245cd2",
   "metadata": {
    "execution": {
     "iopub.execute_input": "2022-05-16T15:53:50.992131Z",
     "iopub.status.busy": "2022-05-16T15:53:50.991449Z",
     "iopub.status.idle": "2022-05-16T15:53:50.994488Z",
     "shell.execute_reply": "2022-05-16T15:53:50.995000Z",
     "shell.execute_reply.started": "2022-04-12T14:18:25.912243Z"
    },
    "papermill": {
     "duration": 0.079504,
     "end_time": "2022-05-16T15:53:50.995185",
     "exception": false,
     "start_time": "2022-05-16T15:53:50.915681",
     "status": "completed"
    },
    "tags": []
   },
   "outputs": [],
   "source": [
    "# import fitz\n",
    "# import spacy\n",
    "# import re\n",
    "# from pathlib import Path\n",
    "# import requests\n",
    "# import os"
   ]
  },
  {
   "cell_type": "code",
   "execution_count": 6,
   "id": "668daea8",
   "metadata": {
    "execution": {
     "iopub.execute_input": "2022-05-16T15:53:51.143142Z",
     "iopub.status.busy": "2022-05-16T15:53:51.142103Z",
     "iopub.status.idle": "2022-05-16T15:53:51.144827Z",
     "shell.execute_reply": "2022-05-16T15:53:51.145307Z",
     "shell.execute_reply.started": "2022-04-12T15:03:43.5897Z"
    },
    "papermill": {
     "duration": 0.079102,
     "end_time": "2022-05-16T15:53:51.145502",
     "exception": false,
     "start_time": "2022-05-16T15:53:51.066400",
     "status": "completed"
    },
    "tags": []
   },
   "outputs": [],
   "source": [
    "# sql_db_json = [\n",
    "#   {\n",
    "#     \"document_id\": \"1\",\n",
    "#     \"area\": \"[72.1149,661.2966,131.95729,675.1716]\",\n",
    "#     \"page\": \"3\",\n",
    "#     \"text_\": \"Background\",\n",
    "#     \"type_of_selection\": \"Text\",\n",
    "#     \"entity_type\": \"name\",\n",
    "#     \"link\": \"https://redactable-devox-stage.s3.us-east-2.amazonaws.com/tenants/41d9e109-693b-444c-aa18-e5891bc6550b/original/1a7c0e5d-3237-4ca9-9e3d-89e707245ac6/D8communications.pdf\"\n",
    "#   },\n",
    "#   {\n",
    "#     \"document_id\": \"1\",\n",
    "#     \"area\": \"[290.55386,632.0173,322.14685,645.8923]\",\n",
    "#     \"page\": \"2\",\n",
    "#     \"text_\": \"INDEX\",\n",
    "#     \"type_of_selection\": \"Text\",\n",
    "#     \"entity_type\": \"address\",\n",
    "#     \"link\": \"https://redactable-devox-stage.s3.us-east-2.amazonaws.com/tenants/41d9e109-693b-444c-aa18-e5891bc6550b/original/1a7c0e5d-3237-4ca9-9e3d-89e707245ac6/D8communications.pdf\"\n",
    "#   }\n",
    "# ]"
   ]
  },
  {
   "cell_type": "code",
   "execution_count": 7,
   "id": "250bfe73",
   "metadata": {
    "execution": {
     "iopub.execute_input": "2022-05-16T15:53:51.296992Z",
     "iopub.status.busy": "2022-05-16T15:53:51.296286Z",
     "iopub.status.idle": "2022-05-16T15:53:51.299151Z",
     "shell.execute_reply": "2022-05-16T15:53:51.299796Z",
     "shell.execute_reply.started": "2022-04-12T13:17:19.452695Z"
    },
    "papermill": {
     "duration": 0.079945,
     "end_time": "2022-05-16T15:53:51.299991",
     "exception": false,
     "start_time": "2022-05-16T15:53:51.220046",
     "status": "completed"
    },
    "tags": []
   },
   "outputs": [],
   "source": [
    "# l=pd.DataFrame()\n",
    "# k=(1, '[290.55386,632.0173,322.14685,645.8923]', 2, 'INDEX', 'Text', 'address', 'https://redactable-devox-s')\n",
    "# k\n"
   ]
  },
  {
   "cell_type": "code",
   "execution_count": 8,
   "id": "efa88d65",
   "metadata": {
    "execution": {
     "iopub.execute_input": "2022-05-16T15:53:51.443690Z",
     "iopub.status.busy": "2022-05-16T15:53:51.442754Z",
     "iopub.status.idle": "2022-05-16T15:53:51.446904Z",
     "shell.execute_reply": "2022-05-16T15:53:51.447485Z",
     "shell.execute_reply.started": "2022-04-12T16:09:33.708631Z"
    },
    "papermill": {
     "duration": 0.078882,
     "end_time": "2022-05-16T15:53:51.447695",
     "exception": false,
     "start_time": "2022-05-16T15:53:51.368813",
     "status": "completed"
    },
    "tags": []
   },
   "outputs": [],
   "source": [
    "# co=[\"document_id\",\"area\",\"page\",\"text_\",\"type_of_selection\",\"entity_type\",\"link\"]\n",
    "# val= [(1,'[72.1149,661.2966,131.95729,675.1716]',3,'Background','Text','name' ,'https://redactable-devox-stage.s3.us-east-2.am'), (1,  '[290.55386,632.0173,322.14685,645.8923]',2,'INDEX', 'Text','address','https://redactable-devox-stage.s3.us-east-2.am')]\n",
    "\n",
    "# df=pd.DataFrame(val,columns=[co])\n",
    "# #df.iloc[1] =[1,  '[290.55386,632.0173,322.14685,645.8923]',2,'INDEX', 'Text','address','https://redactable-devox-stage.s3.us-east-2.am']\n",
    "# df"
   ]
  },
  {
   "cell_type": "code",
   "execution_count": 9,
   "id": "249d2ca2",
   "metadata": {
    "execution": {
     "iopub.execute_input": "2022-05-16T15:53:51.595471Z",
     "iopub.status.busy": "2022-05-16T15:53:51.594722Z",
     "iopub.status.idle": "2022-05-16T15:53:51.598104Z",
     "shell.execute_reply": "2022-05-16T15:53:51.598862Z",
     "shell.execute_reply.started": "2022-04-12T16:18:22.595374Z"
    },
    "papermill": {
     "duration": 0.077035,
     "end_time": "2022-05-16T15:53:51.599053",
     "exception": false,
     "start_time": "2022-05-16T15:53:51.522018",
     "status": "completed"
    },
    "tags": []
   },
   "outputs": [],
   "source": [
    "# prev=[]\n",
    "# for data,row in df.iterrows():\n",
    "#     if row['document_id'] not in prev:\n",
    "#         prev.append(row['document_id'])\n",
    "#         print('hey')"
   ]
  },
  {
   "cell_type": "code",
   "execution_count": 10,
   "id": "19f9ea42",
   "metadata": {
    "execution": {
     "iopub.execute_input": "2022-05-16T15:53:51.745105Z",
     "iopub.status.busy": "2022-05-16T15:53:51.744289Z",
     "iopub.status.idle": "2022-05-16T15:53:51.749990Z",
     "shell.execute_reply": "2022-05-16T15:53:51.750576Z",
     "shell.execute_reply.started": "2022-04-12T15:03:48.248836Z"
    },
    "papermill": {
     "duration": 0.081003,
     "end_time": "2022-05-16T15:53:51.750769",
     "exception": false,
     "start_time": "2022-05-16T15:53:51.669766",
     "status": "completed"
    },
    "tags": []
   },
   "outputs": [],
   "source": [
    "# nlp = spacy.load('en_core_web_sm')\n",
    "# train_data = []\n",
    "\n",
    "# prev_doc_id = ''\n",
    "# i=0\n",
    "# temp='/kaggle/working'\n",
    "\n",
    "# for data in sql_db_json:\n",
    "#     if data['type_of_selection'] == 'Text':\n",
    "#         document_id = data['document_id']\n",
    "#         x1,y1,x2,y2 = data['area'][1:-1].split(',')\n",
    "#         url = data['link']\n",
    "#         page_no = int(data['page']) - 1 \n",
    "#         label = data['entity_type']\n",
    "#         filename = url.split('/')[-1]\n",
    "    \n",
    "#         #download the file to temp folder\n",
    "#         outpath = os.path.join(temp,filename)\n",
    "\n",
    "#         if document_id == prev_doc_id:\n",
    "#             pass\n",
    "#         else: \n",
    "#             i+=1\n",
    "#             print(i)\n",
    "#             response = requests.get(url)\n",
    "#             with open(outpath, \"wb\") as binary_file:\n",
    "#                 binary_file.write(response.content)\n",
    "\n",
    "#         doc = fitz.open(outpath)  # any supported document type\n",
    "#         page = doc[page_no]  # we want text from this page\n",
    "#         print('page dimension - ', page.rect.width, page.rect.height)\n",
    "\n",
    "#         #The co-ordinates in the DB are image co-ords. W.r.t pdf, y1 and y2 has to be interchanged.\n",
    "#         #To ensure entire word to be selected, slight correction in x1,y1,x2,y2 is done.\n",
    "\n",
    "#         rect = [float(x1)-2, 792 - float(y2)-2, float(x2)+2, 792 - float(y1)+2]\n",
    "#         print(rect)\n",
    "#         labelled_text = page.get_textbox(rect)\n",
    "\n",
    "#         #Removing all unprintable characters from the text\n",
    "#         string = re.sub('[^0-9a-zA-Z@?|\\/<>.,()&^%$#!]+', ' ', labelled_text)\n",
    "#         print('string : ', string)\n",
    "\n",
    "#         fulltext = page.get_text()\n",
    "#         doc = nlp(fulltext)\n",
    "\n",
    "#         sentences = []\n",
    "#         for sent in doc.sents:\n",
    "#             if string.strip() in sent.text:\n",
    "#                 text = re.sub('[^0-9a-zA-Z@?|\\/<>.,()&^%$#!]+', ' ', sent.text)\n",
    "\n",
    "#         res = re.search(string.strip(), text)\n",
    "\n",
    "#         entities = []\n",
    "#         entities.append((res.start(),res.end(),label))\n",
    "\n",
    "#         train_data.append((text,{'entities':entities}))\n",
    "\n",
    "# print('Training data in spacy format')\n",
    "# print('*****************************')\n",
    "# for i in range(0,len(train_data)):\n",
    "#     print(train_data[i])"
   ]
  },
  {
   "cell_type": "code",
   "execution_count": null,
   "id": "111d1b2f",
   "metadata": {
    "papermill": {
     "duration": 0.073766,
     "end_time": "2022-05-16T15:53:51.899081",
     "exception": false,
     "start_time": "2022-05-16T15:53:51.825315",
     "status": "completed"
    },
    "tags": []
   },
   "outputs": [],
   "source": []
  },
  {
   "cell_type": "code",
   "execution_count": 11,
   "id": "c2670983",
   "metadata": {
    "execution": {
     "iopub.execute_input": "2022-05-16T15:53:52.045028Z",
     "iopub.status.busy": "2022-05-16T15:53:52.044308Z",
     "iopub.status.idle": "2022-05-16T15:53:52.049585Z",
     "shell.execute_reply": "2022-05-16T15:53:52.050220Z",
     "shell.execute_reply.started": "2022-04-12T11:44:59.253637Z"
    },
    "papermill": {
     "duration": 0.08169,
     "end_time": "2022-05-16T15:53:52.050426",
     "exception": false,
     "start_time": "2022-05-16T15:53:51.968736",
     "status": "completed"
    },
    "tags": []
   },
   "outputs": [],
   "source": [
    "# nlp = spacy.load('en_core_web_sm')\n",
    "# train_data = []\n",
    "\n",
    "# prev_doc_id = ''\n",
    "# temp='/kaggle/working'\n",
    "# i=0\n",
    "# for data in sql_db_json:\n",
    "#     if data['type_of_selection'] == 'Text':\n",
    "#         document_id = data['document_id']\n",
    "#         x1,y1,x2,y2 = data['area'][1:-1].split(',')\n",
    "#         url = data['link']\n",
    "#         page_no = int(data['page']) - 1 \n",
    "#         label = data['entity_type']\n",
    "#         filename = url.split('/')[-1]\n",
    "    \n",
    "#         #download the file to temp folder\n",
    "#         i+=1\n",
    "#         print(i)\n",
    "#         response = requests.get(url)\n",
    "#         doc = fitz.open(stream=response.content,filetype=\"pdf\")  # any supported document type\n",
    "#         page = doc[page_no]  # we want text from this page\n",
    "#         print('page dimension - ', page.rect.width, page.rect.height)\n",
    "\n",
    "#         #The co-ordinates in the DB are image co-ords. W.r.t pdf, y1 and y2 has to be interchanged.\n",
    "#         #To ensure entire word to be selected, slight correction in x1,y1,x2,y2 is done.\n",
    "\n",
    "#         rect = [float(x1)-2, 792 - float(y2)-2, float(x2)+2, 792 - float(y1)+2]\n",
    "#         print(rect)\n",
    "#         labelled_text = page.get_textbox(rect)\n",
    "\n",
    "#         #Removing all unprintable characters from the text\n",
    "#         string = re.sub('[^0-9a-zA-Z@?|\\/<>.,()&^%$#!]+', ' ', labelled_text)\n",
    "#         print('string : ', string)\n",
    "\n",
    "#         fulltext = page.get_text()\n",
    "#         doc = nlp(fulltext)\n",
    "\n",
    "#         sentences = []\n",
    "#         for sent in doc.sents:\n",
    "#             if string.strip() in sent.text:\n",
    "#                 text = re.sub('[^0-9a-zA-Z@?|\\/<>.,()&^%$#!]+', ' ', sent.text)\n",
    "\n",
    "#         res = re.search(string.strip(), text)\n",
    "\n",
    "#         entities = []\n",
    "#         entities.append((res.start(),res.end(),label))\n",
    "\n",
    "#         train_data.append((text,{'entities':entities}))\n",
    "\n",
    "# print('Training data in spacy format')\n",
    "# print('*****************************')\n",
    "# for i in range(0,len(train_data)):\n",
    "#     print(train_data[i])"
   ]
  },
  {
   "cell_type": "code",
   "execution_count": 12,
   "id": "2cf4e56f",
   "metadata": {
    "execution": {
     "iopub.execute_input": "2022-05-16T15:53:52.201344Z",
     "iopub.status.busy": "2022-05-16T15:53:52.200644Z",
     "iopub.status.idle": "2022-05-16T15:53:52.204722Z",
     "shell.execute_reply": "2022-05-16T15:53:52.205293Z"
    },
    "papermill": {
     "duration": 0.084201,
     "end_time": "2022-05-16T15:53:52.205483",
     "exception": false,
     "start_time": "2022-05-16T15:53:52.121282",
     "status": "completed"
    },
    "tags": []
   },
   "outputs": [],
   "source": [
    "# page dimension -  612.0 792.0\n",
    "# [70.1149, 114.82839999999999, 133.95729, 132.7034]\n",
    "# string :  Background\n",
    "# page dimension -  612.0 792.0\n",
    "# [288.55386, 144.10770000000002, 324.14685, 161.98270000000002]\n",
    "# string :  INDEX\n",
    "# Training data in spacy format\n",
    "# *****************************\n",
    "# (' 3 Background The Blue Ribbon Committee was created by the Mayor to assess various city communication methods and recommend opportunities to improve communications with residents, businesses and other organizations.', {'entities': [(3, 13, 'name')]})\n",
    "# (' 2 INDEX Background Pg. 3 Purpose Pg. 3 Process .', {'entities': [(3, 8, 'address')]})"
   ]
  },
  {
   "cell_type": "code",
   "execution_count": 13,
   "id": "2a0cc664",
   "metadata": {
    "execution": {
     "iopub.execute_input": "2022-05-16T15:53:52.349540Z",
     "iopub.status.busy": "2022-05-16T15:53:52.348791Z",
     "iopub.status.idle": "2022-05-16T15:53:52.353234Z",
     "shell.execute_reply": "2022-05-16T15:53:52.353815Z",
     "shell.execute_reply.started": "2022-04-11T16:35:29.609712Z"
    },
    "papermill": {
     "duration": 0.079822,
     "end_time": "2022-05-16T15:53:52.353993",
     "exception": false,
     "start_time": "2022-05-16T15:53:52.274171",
     "status": "completed"
    },
    "tags": []
   },
   "outputs": [],
   "source": [
    "# nlp = spacy.load('en_core_web_sm')\n",
    "# outpath=r'/kaggle/input/sample-pdf/D8communications.pdf'\n",
    "# doc = fitz.open(outpath)  # any supported document type\n",
    "# page_no=3\n",
    "# page = doc[page_no-1]\n",
    "\n",
    "# x1,y1,x2,y2=(72.1149,661.2966,131.95729,675.1716)\n",
    "\n",
    "# rect = [float(x1)-2, 792 - float(y2)-2, float(x2)+2, 792 - float(y1)+2]\n",
    "# print(rect)\n",
    "# labelled_text = page.get_textbox(rect)\n",
    "# string = re.sub('[^0-9a-zA-Z@?|\\/<>.,()&^%$#!]+', ' ', labelled_text)\n",
    "# print('string : ', string)\n",
    "\n",
    "# fulltext = page.get_text()\n",
    "# doc = nlp(fulltext)\n",
    "\n",
    "# sentences = []\n",
    "# for sent in doc.sents:\n",
    "#             if string.strip() in sent.text:\n",
    "#                 text = re.sub('[^0-9a-zA-Z@?|\\/<>.,()&^%$#!]+', ' ', sent.text)\n",
    "\n",
    "#         res = re.search(string.strip(), text)\n",
    "\n",
    "#         entities = []\n",
    "#         entities.append((res.start(),res.end(),label))\n",
    "\n",
    "#         train_data.append((text,{'entities':entities}))\n",
    "\n"
   ]
  },
  {
   "cell_type": "code",
   "execution_count": 14,
   "id": "6be581b1",
   "metadata": {
    "execution": {
     "iopub.execute_input": "2022-05-16T15:53:52.502867Z",
     "iopub.status.busy": "2022-05-16T15:53:52.502162Z",
     "iopub.status.idle": "2022-05-16T15:53:52.505664Z",
     "shell.execute_reply": "2022-05-16T15:53:52.506292Z",
     "shell.execute_reply.started": "2022-04-11T16:35:41.679947Z"
    },
    "papermill": {
     "duration": 0.078899,
     "end_time": "2022-05-16T15:53:52.506491",
     "exception": false,
     "start_time": "2022-05-16T15:53:52.427592",
     "status": "completed"
    },
    "tags": []
   },
   "outputs": [],
   "source": [
    "#doc"
   ]
  },
  {
   "cell_type": "code",
   "execution_count": 15,
   "id": "9443bff6",
   "metadata": {
    "execution": {
     "iopub.execute_input": "2022-05-16T15:53:52.650855Z",
     "iopub.status.busy": "2022-05-16T15:53:52.650143Z",
     "iopub.status.idle": "2022-05-16T15:53:52.653342Z",
     "shell.execute_reply": "2022-05-16T15:53:52.653911Z",
     "shell.execute_reply.started": "2022-04-11T16:35:56.010353Z"
    },
    "papermill": {
     "duration": 0.076748,
     "end_time": "2022-05-16T15:53:52.654093",
     "exception": false,
     "start_time": "2022-05-16T15:53:52.577345",
     "status": "completed"
    },
    "tags": []
   },
   "outputs": [],
   "source": [
    "# sentences = []\n",
    "# for sent in doc.sents:\n",
    "#     if string.strip() in sent.text:\n",
    "#         text = re.sub('[^0-9a-zA-Z@?|\\/<>.,()&^%$#!]+', ' ', sent.text)"
   ]
  },
  {
   "cell_type": "code",
   "execution_count": 16,
   "id": "a25ea1b6",
   "metadata": {
    "execution": {
     "iopub.execute_input": "2022-05-16T15:53:52.806466Z",
     "iopub.status.busy": "2022-05-16T15:53:52.805731Z",
     "iopub.status.idle": "2022-05-16T15:53:52.809350Z",
     "shell.execute_reply": "2022-05-16T15:53:52.809899Z",
     "shell.execute_reply.started": "2022-04-11T16:39:04.736143Z"
    },
    "papermill": {
     "duration": 0.083088,
     "end_time": "2022-05-16T15:53:52.810079",
     "exception": false,
     "start_time": "2022-05-16T15:53:52.726991",
     "status": "completed"
    },
    "tags": []
   },
   "outputs": [],
   "source": [
    "# k=nlp(\"he             kenny\")\n",
    "# for sent in k.sents:\n",
    "#     print(sent)"
   ]
  },
  {
   "cell_type": "code",
   "execution_count": 17,
   "id": "4aad3ccd",
   "metadata": {
    "execution": {
     "iopub.execute_input": "2022-05-16T15:53:52.963230Z",
     "iopub.status.busy": "2022-05-16T15:53:52.961855Z",
     "iopub.status.idle": "2022-05-16T15:53:52.964960Z",
     "shell.execute_reply": "2022-05-16T15:53:52.964170Z",
     "shell.execute_reply.started": "2022-04-11T15:09:24.391421Z"
    },
    "papermill": {
     "duration": 0.079364,
     "end_time": "2022-05-16T15:53:52.965115",
     "exception": false,
     "start_time": "2022-05-16T15:53:52.885751",
     "status": "completed"
    },
    "tags": []
   },
   "outputs": [],
   "source": [
    "# text"
   ]
  },
  {
   "cell_type": "code",
   "execution_count": 18,
   "id": "aefc2216",
   "metadata": {
    "execution": {
     "iopub.execute_input": "2022-05-16T15:53:53.121569Z",
     "iopub.status.busy": "2022-05-16T15:53:53.120802Z",
     "iopub.status.idle": "2022-05-16T15:53:53.124748Z",
     "shell.execute_reply": "2022-05-16T15:53:53.125326Z",
     "shell.execute_reply.started": "2022-04-11T15:09:31.9599Z"
    },
    "papermill": {
     "duration": 0.08601,
     "end_time": "2022-05-16T15:53:53.125525",
     "exception": false,
     "start_time": "2022-05-16T15:53:53.039515",
     "status": "completed"
    },
    "tags": []
   },
   "outputs": [],
   "source": [
    "# res = re.search(string.strip(), text)\n",
    "# res"
   ]
  },
  {
   "cell_type": "code",
   "execution_count": 19,
   "id": "f6bbac0c",
   "metadata": {
    "execution": {
     "iopub.execute_input": "2022-05-16T15:53:53.273350Z",
     "iopub.status.busy": "2022-05-16T15:53:53.272572Z",
     "iopub.status.idle": "2022-05-16T15:53:53.274097Z",
     "shell.execute_reply": "2022-05-16T15:53:53.274628Z",
     "shell.execute_reply.started": "2022-04-11T15:12:41.311242Z"
    },
    "papermill": {
     "duration": 0.076984,
     "end_time": "2022-05-16T15:53:53.274819",
     "exception": false,
     "start_time": "2022-05-16T15:53:53.197835",
     "status": "completed"
    },
    "tags": []
   },
   "outputs": [],
   "source": [
    "# entities = []\n",
    "# entities.append((res.start(),res.end(),'p'))"
   ]
  },
  {
   "cell_type": "code",
   "execution_count": 20,
   "id": "b6057f83",
   "metadata": {
    "execution": {
     "iopub.execute_input": "2022-05-16T15:53:53.422781Z",
     "iopub.status.busy": "2022-05-16T15:53:53.421414Z",
     "iopub.status.idle": "2022-05-16T15:53:53.424965Z",
     "shell.execute_reply": "2022-05-16T15:53:53.425501Z",
     "shell.execute_reply.started": "2022-04-11T15:12:52.736619Z"
    },
    "papermill": {
     "duration": 0.07749,
     "end_time": "2022-05-16T15:53:53.425673",
     "exception": false,
     "start_time": "2022-05-16T15:53:53.348183",
     "status": "completed"
    },
    "tags": []
   },
   "outputs": [],
   "source": [
    "# entities"
   ]
  },
  {
   "cell_type": "code",
   "execution_count": 21,
   "id": "8c8aab8e",
   "metadata": {
    "execution": {
     "iopub.execute_input": "2022-05-16T15:53:53.576475Z",
     "iopub.status.busy": "2022-05-16T15:53:53.575780Z",
     "iopub.status.idle": "2022-05-16T15:53:53.578459Z",
     "shell.execute_reply": "2022-05-16T15:53:53.578920Z",
     "shell.execute_reply.started": "2022-04-11T15:06:11.546217Z"
    },
    "papermill": {
     "duration": 0.080209,
     "end_time": "2022-05-16T15:53:53.579114",
     "exception": false,
     "start_time": "2022-05-16T15:53:53.498905",
     "status": "completed"
    },
    "tags": []
   },
   "outputs": [],
   "source": [
    "# text"
   ]
  },
  {
   "cell_type": "code",
   "execution_count": null,
   "id": "4e9a172d",
   "metadata": {
    "execution": {
     "iopub.execute_input": "2022-04-11T15:02:33.300092Z",
     "iopub.status.busy": "2022-04-11T15:02:33.299778Z",
     "iopub.status.idle": "2022-04-11T15:02:33.30711Z",
     "shell.execute_reply": "2022-04-11T15:02:33.306345Z",
     "shell.execute_reply.started": "2022-04-11T15:02:33.300061Z"
    },
    "papermill": {
     "duration": 0.070259,
     "end_time": "2022-05-16T15:53:53.720925",
     "exception": false,
     "start_time": "2022-05-16T15:53:53.650666",
     "status": "completed"
    },
    "tags": []
   },
   "outputs": [],
   "source": []
  },
  {
   "cell_type": "code",
   "execution_count": 22,
   "id": "08a025ff",
   "metadata": {
    "execution": {
     "iopub.execute_input": "2022-05-16T15:53:53.868579Z",
     "iopub.status.busy": "2022-05-16T15:53:53.867856Z",
     "iopub.status.idle": "2022-05-16T15:53:53.870427Z",
     "shell.execute_reply": "2022-05-16T15:53:53.870967Z",
     "shell.execute_reply.started": "2022-04-11T16:21:02.863037Z"
    },
    "papermill": {
     "duration": 0.080657,
     "end_time": "2022-05-16T15:53:53.871161",
     "exception": false,
     "start_time": "2022-05-16T15:53:53.790504",
     "status": "completed"
    },
    "tags": []
   },
   "outputs": [],
   "source": [
    "# import spacy\n",
    "# nlp = spacy.load('en_core_web_sm')"
   ]
  },
  {
   "cell_type": "code",
   "execution_count": 23,
   "id": "e41918fe",
   "metadata": {
    "execution": {
     "iopub.execute_input": "2022-05-16T15:53:54.030661Z",
     "iopub.status.busy": "2022-05-16T15:53:54.029815Z",
     "iopub.status.idle": "2022-05-16T15:53:54.032429Z",
     "shell.execute_reply": "2022-05-16T15:53:54.032965Z",
     "shell.execute_reply.started": "2022-04-09T12:19:47.776612Z"
    },
    "papermill": {
     "duration": 0.086297,
     "end_time": "2022-05-16T15:53:54.033144",
     "exception": false,
     "start_time": "2022-05-16T15:53:53.946847",
     "status": "completed"
    },
    "tags": []
   },
   "outputs": [],
   "source": [
    "# !pip install PyPDF2\n",
    "# import PyPDF2\n",
    "# fhandle = open(r'/kaggle/input/sample-pdf/D8communications.pdf', 'rb')\n",
    "# pdfReader = PyPDF2.PdfFileReader(fhandle)\n",
    "# pagehandle = pdfReader.getPage(4)\n",
    "# print(pagehandle.extractText())"
   ]
  },
  {
   "cell_type": "code",
   "execution_count": 24,
   "id": "2a3fdfb9",
   "metadata": {
    "execution": {
     "iopub.execute_input": "2022-05-16T15:53:54.191720Z",
     "iopub.status.busy": "2022-05-16T15:53:54.190985Z",
     "iopub.status.idle": "2022-05-16T15:53:54.192704Z",
     "shell.execute_reply": "2022-05-16T15:53:54.193146Z",
     "shell.execute_reply.started": "2022-04-09T12:25:37.701467Z"
    },
    "papermill": {
     "duration": 0.081448,
     "end_time": "2022-05-16T15:53:54.193346",
     "exception": false,
     "start_time": "2022-05-16T15:53:54.111898",
     "status": "completed"
    },
    "tags": []
   },
   "outputs": [],
   "source": [
    "# !pip install pdfplumber\n",
    "# import pdfplumber\n",
    "# with pdfplumber.open(r'/kaggle/input/sample-pdf/D8communications.pdf') as pdf:\n",
    "#     first_page = pdf.pages[3]\n",
    "#     print(first_page.extract_text())"
   ]
  },
  {
   "cell_type": "code",
   "execution_count": 25,
   "id": "6b652358",
   "metadata": {
    "execution": {
     "iopub.execute_input": "2022-05-16T15:53:54.353009Z",
     "iopub.status.busy": "2022-05-16T15:53:54.352219Z",
     "iopub.status.idle": "2022-05-16T15:53:54.355400Z",
     "shell.execute_reply": "2022-05-16T15:53:54.355903Z",
     "shell.execute_reply.started": "2022-04-09T12:25:49.584635Z"
    },
    "papermill": {
     "duration": 0.084084,
     "end_time": "2022-05-16T15:53:54.356097",
     "exception": false,
     "start_time": "2022-05-16T15:53:54.272013",
     "status": "completed"
    },
    "tags": []
   },
   "outputs": [],
   "source": [
    "# !pip install pytesseract"
   ]
  },
  {
   "cell_type": "code",
   "execution_count": 26,
   "id": "b7d08ff8",
   "metadata": {
    "execution": {
     "iopub.execute_input": "2022-05-16T15:53:54.499792Z",
     "iopub.status.busy": "2022-05-16T15:53:54.499006Z",
     "iopub.status.idle": "2022-05-16T15:53:54.501968Z",
     "shell.execute_reply": "2022-05-16T15:53:54.502473Z",
     "shell.execute_reply.started": "2022-04-09T14:49:10.656812Z"
    },
    "papermill": {
     "duration": 0.075602,
     "end_time": "2022-05-16T15:53:54.502663",
     "exception": false,
     "start_time": "2022-05-16T15:53:54.427061",
     "status": "completed"
    },
    "tags": []
   },
   "outputs": [],
   "source": [
    "# #!pip install pdf2image\n",
    "# !pip install poppler"
   ]
  },
  {
   "cell_type": "code",
   "execution_count": 27,
   "id": "0a6e6201",
   "metadata": {
    "execution": {
     "iopub.execute_input": "2022-05-16T15:53:54.659117Z",
     "iopub.status.busy": "2022-05-16T15:53:54.658357Z",
     "iopub.status.idle": "2022-05-16T15:53:54.661446Z",
     "shell.execute_reply": "2022-05-16T15:53:54.662101Z",
     "shell.execute_reply.started": "2022-04-09T14:57:24.756677Z"
    },
    "papermill": {
     "duration": 0.085019,
     "end_time": "2022-05-16T15:53:54.662315",
     "exception": false,
     "start_time": "2022-05-16T15:53:54.577296",
     "status": "completed"
    },
    "tags": []
   },
   "outputs": [],
   "source": [
    "# pdf2image.convert_from_path('/kaggle/input/sample-pdf/D8communications.pdf')"
   ]
  },
  {
   "cell_type": "code",
   "execution_count": 28,
   "id": "6f28e862",
   "metadata": {
    "execution": {
     "iopub.execute_input": "2022-05-16T15:53:54.820222Z",
     "iopub.status.busy": "2022-05-16T15:53:54.818086Z",
     "iopub.status.idle": "2022-05-16T15:53:54.822067Z",
     "shell.execute_reply": "2022-05-16T15:53:54.822614Z",
     "shell.execute_reply.started": "2022-04-09T14:57:17.576149Z"
    },
    "papermill": {
     "duration": 0.084139,
     "end_time": "2022-05-16T15:53:54.822806",
     "exception": false,
     "start_time": "2022-05-16T15:53:54.738667",
     "status": "completed"
    },
    "tags": []
   },
   "outputs": [],
   "source": [
    "# import pdf2image\n",
    "# try:\n",
    "#     from PIL import Image\n",
    "# except ImportError:\n",
    "#     import Image\n",
    "# import pytesseract\n",
    "\n",
    "\n",
    "# def pdf_to_img(pdf_file):\n",
    "#     return pdf2image.convert_from_path(pdf_file)\n",
    "\n",
    "\n",
    "# def ocr_core(file):\n",
    "#     text = pytesseract.image_to_string(file)\n",
    "#     return text\n",
    "\n",
    "\n",
    "# def print_pages(pdf_file):\n",
    "#     images = pdf_to_img(pdf_file)\n",
    "#     for pg, img in enumerate(images):\n",
    "#         print(ocr_core(img))\n",
    "\n",
    "\n",
    "# print_pages('/kaggle/input/sample-pdf/D8communications.pdf')\n"
   ]
  },
  {
   "cell_type": "code",
   "execution_count": 29,
   "id": "cc94616e",
   "metadata": {
    "execution": {
     "iopub.execute_input": "2022-05-16T15:53:54.974507Z",
     "iopub.status.busy": "2022-05-16T15:53:54.971939Z",
     "iopub.status.idle": "2022-05-16T15:53:54.976622Z",
     "shell.execute_reply": "2022-05-16T15:53:54.978012Z"
    },
    "papermill": {
     "duration": 0.083553,
     "end_time": "2022-05-16T15:53:54.978410",
     "exception": false,
     "start_time": "2022-05-16T15:53:54.894857",
     "status": "completed"
    },
    "tags": []
   },
   "outputs": [],
   "source": [
    "# import requests\n",
    "# import fitz\n",
    "# import io\n",
    "\n",
    "# #URL = 'https://buildmedia.readthedocs.org/media/pdf/pdfminer-docs/latest/pdfminer-docs.pdf'\n",
    "# URL = 'https://redactable-devox-stage.s3.us-east-2.amazonaws.com/tenants/41d9e109-693b-444c-aa18-e5891bc6550b/original/1a7c0e5d-3237-4ca9-9e3d-89e707245ac6/D8communications.pdf'\n",
    "\n",
    "\n",
    "# res = requests.get(URL)\n",
    "# filestream = io.BytesIO(res.content)\n",
    "# #res.content\n",
    "# filestream\n",
    "# doc = fitz.Document(stream=filestream)\n",
    "# page1 = doc.loadPage(3)\n",
    "# page1text = page1.getText(\"text\").encode(\"utf-8\").decode(\"utf-8\")\n",
    "# print(page1text)"
   ]
  },
  {
   "cell_type": "code",
   "execution_count": 30,
   "id": "6a0774cb",
   "metadata": {
    "execution": {
     "iopub.execute_input": "2022-05-16T15:53:55.135419Z",
     "iopub.status.busy": "2022-05-16T15:53:55.132947Z",
     "iopub.status.idle": "2022-05-16T15:53:55.138385Z",
     "shell.execute_reply": "2022-05-16T15:53:55.137664Z",
     "shell.execute_reply.started": "2022-04-09T07:04:56.590103Z"
    },
    "papermill": {
     "duration": 0.086062,
     "end_time": "2022-05-16T15:53:55.138550",
     "exception": false,
     "start_time": "2022-05-16T15:53:55.052488",
     "status": "completed"
    },
    "tags": []
   },
   "outputs": [],
   "source": [
    "# import requests\n",
    "# import fitz\n",
    "\n",
    "# #URL = 'https://buildmedia.readthedocs.org/media/pdf/pdfminer-docs/latest/pdfminer-docs.pdf'\n",
    "# URL = 'https://redactable-devox-stage.s3.us-east-2.amazonaws.com/tenants/41d9e109-693b-444c-aa18-e5891bc6550b/original/1a7c0e5d-3237-4ca9-9e3d-89e707245ac6/D8communications.pdf'\n",
    "\n",
    "\n",
    "# res = requests.get(URL)\n",
    "# doc = fitz.open(stream=res.content,filetype=\"pdf\")\n",
    "# page1 = doc.loadPage(3)\n",
    "# page1text = page1.getText(\"text\")\n",
    "# #rect = (72.1149,661.2966,131.95729,675.1716)\n",
    "# rect=(72.10812377929688, 116.13427734375, 133.97142028808594, 146.4227294921875)\n",
    "# labelled_text = page1.get_textbox(rect)\n",
    "# print(labelled_text.strip())\n",
    "\n",
    "# fulltext = page1.get_text()\n",
    "# print(fulltext)\n",
    "# doc = nlp(fulltext)\n",
    "# sentences = []\n",
    "# for sent in doc.sents:\n",
    "#     if labelled_text in sent.text:\n",
    "#         text = sent.text\n",
    "#         print(text)\n",
    "# #print(page1text)"
   ]
  },
  {
   "cell_type": "code",
   "execution_count": 31,
   "id": "5d2cc993",
   "metadata": {
    "execution": {
     "iopub.execute_input": "2022-05-16T15:53:55.291549Z",
     "iopub.status.busy": "2022-05-16T15:53:55.290828Z",
     "iopub.status.idle": "2022-05-16T15:53:55.293335Z",
     "shell.execute_reply": "2022-05-16T15:53:55.292649Z",
     "shell.execute_reply.started": "2022-04-08T16:42:57.6659Z"
    },
    "papermill": {
     "duration": 0.078137,
     "end_time": "2022-05-16T15:53:55.293483",
     "exception": false,
     "start_time": "2022-05-16T15:53:55.215346",
     "status": "completed"
    },
    "tags": []
   },
   "outputs": [],
   "source": [
    "#res.content"
   ]
  },
  {
   "cell_type": "code",
   "execution_count": 32,
   "id": "afdd6c85",
   "metadata": {
    "execution": {
     "iopub.execute_input": "2022-05-16T15:53:55.439070Z",
     "iopub.status.busy": "2022-05-16T15:53:55.438149Z",
     "iopub.status.idle": "2022-05-16T15:53:55.441763Z",
     "shell.execute_reply": "2022-05-16T15:53:55.441005Z",
     "shell.execute_reply.started": "2022-04-08T16:48:05.672392Z"
    },
    "papermill": {
     "duration": 0.078247,
     "end_time": "2022-05-16T15:53:55.441921",
     "exception": false,
     "start_time": "2022-05-16T15:53:55.363674",
     "status": "completed"
    },
    "tags": []
   },
   "outputs": [],
   "source": [
    "# import fitz\n",
    "# # mem_area=\n",
    "# # doc = fitz.open(stream=mem_area, filetype=\"pdf\")\n",
    "\n",
    "# import requests\n",
    "\n",
    "# URL = 'https://redactable-devox-stage.s3.us-east-2.amazonaws.com/tenants/41d9e109-693b-444c-aa18-e5891bc6550b/original/1a7c0e5d-3237-4ca9-9e3d-89e707245ac6/D8communications.pdf'\n",
    "\n",
    "# #res = requests.get(URL)\n",
    "# doc=fitz.open(\"/kaggle/input/sample-pdf/D8communications.pdf\")\n",
    "# #doc = fitz.open(stream=res.content,filetype=\"pdf\")\n",
    "# page1 = doc.loadPage(4)\n",
    "# # page1text = page1.getText(\"text\")\n",
    "# # print(page1text)\n",
    "# blocks = page1.getText(\"blocks\")\n",
    "# blocks.sort(key=lambda block: block[1])  # sort vertically ascending\n",
    "\n",
    "# for b in blocks:\n",
    "#     print(b[4])\n"
   ]
  },
  {
   "cell_type": "code",
   "execution_count": 33,
   "id": "2f5a3a5e",
   "metadata": {
    "execution": {
     "iopub.execute_input": "2022-05-16T15:53:55.616506Z",
     "iopub.status.busy": "2022-05-16T15:53:55.615756Z",
     "iopub.status.idle": "2022-05-16T15:53:55.619243Z",
     "shell.execute_reply": "2022-05-16T15:53:55.618705Z",
     "shell.execute_reply.started": "2022-04-08T16:48:13.086323Z"
    },
    "papermill": {
     "duration": 0.097243,
     "end_time": "2022-05-16T15:53:55.619402",
     "exception": false,
     "start_time": "2022-05-16T15:53:55.522159",
     "status": "completed"
    },
    "tags": []
   },
   "outputs": [],
   "source": [
    "# # page = doc[1]\n",
    "# words = page.get_text(\"words\")\n",
    "# #print(words)\n",
    "# rect = (72.1149,661.2966,131.95729,675.1716)\n",
    "\n",
    "# labelled_text = page.get_textbox(rect)\n",
    "# # labelled_text"
   ]
  },
  {
   "cell_type": "markdown",
   "id": "26303d99",
   "metadata": {
    "papermill": {
     "duration": 0.06912,
     "end_time": "2022-05-16T15:53:55.758373",
     "exception": false,
     "start_time": "2022-05-16T15:53:55.689253",
     "status": "completed"
    },
    "tags": []
   },
   "source": [
    "pip install PyPDF2"
   ]
  },
  {
   "cell_type": "code",
   "execution_count": null,
   "id": "3c99694a",
   "metadata": {
    "papermill": {
     "duration": 0.074597,
     "end_time": "2022-05-16T15:53:55.905369",
     "exception": false,
     "start_time": "2022-05-16T15:53:55.830772",
     "status": "completed"
    },
    "tags": []
   },
   "outputs": [],
   "source": []
  },
  {
   "cell_type": "code",
   "execution_count": 34,
   "id": "6825f1e9",
   "metadata": {
    "execution": {
     "iopub.execute_input": "2022-05-16T15:53:56.067795Z",
     "iopub.status.busy": "2022-05-16T15:53:56.067083Z",
     "iopub.status.idle": "2022-05-16T15:53:56.070646Z",
     "shell.execute_reply": "2022-05-16T15:53:56.071112Z",
     "shell.execute_reply.started": "2022-03-18T16:48:58.370268Z"
    },
    "papermill": {
     "duration": 0.082316,
     "end_time": "2022-05-16T15:53:56.071313",
     "exception": false,
     "start_time": "2022-05-16T15:53:55.988997",
     "status": "completed"
    },
    "tags": []
   },
   "outputs": [],
   "source": [
    "# import pandas as pd\n",
    "# h={'step': 0, 'type': 'string', 'amount': 0.0, 'nameOrig': 'C1231006815', 'oldbalanceOrig': 0.0, 'newbalanceOrig': 0.0, 'nameDest': 'M1979787155', 'oldbalanceDest': 0.0, 'newbalanceDest': 0.0}\n",
    "# df=pd.DataFrame([h])"
   ]
  },
  {
   "cell_type": "code",
   "execution_count": 35,
   "id": "b19f1b1f",
   "metadata": {
    "execution": {
     "iopub.execute_input": "2022-05-16T15:53:56.232382Z",
     "iopub.status.busy": "2022-05-16T15:53:56.231582Z",
     "iopub.status.idle": "2022-05-16T15:53:56.235029Z",
     "shell.execute_reply": "2022-05-16T15:53:56.235547Z",
     "shell.execute_reply.started": "2022-04-09T17:21:26.021615Z"
    },
    "papermill": {
     "duration": 0.088635,
     "end_time": "2022-05-16T15:53:56.235753",
     "exception": false,
     "start_time": "2022-05-16T15:53:56.147118",
     "status": "completed"
    },
    "tags": []
   },
   "outputs": [],
   "source": [
    "#df"
   ]
  },
  {
   "cell_type": "code",
   "execution_count": null,
   "id": "474bc13b",
   "metadata": {
    "papermill": {
     "duration": 0.070294,
     "end_time": "2022-05-16T15:53:56.380097",
     "exception": false,
     "start_time": "2022-05-16T15:53:56.309803",
     "status": "completed"
    },
    "tags": []
   },
   "outputs": [],
   "source": []
  }
 ],
 "metadata": {
  "kernelspec": {
   "display_name": "Python 3",
   "language": "python",
   "name": "python3"
  },
  "language_info": {
   "codemirror_mode": {
    "name": "ipython",
    "version": 3
   },
   "file_extension": ".py",
   "mimetype": "text/x-python",
   "name": "python",
   "nbconvert_exporter": "python",
   "pygments_lexer": "ipython3",
   "version": "3.7.12"
  },
  "papermill": {
   "default_parameters": {},
   "duration": 28.757809,
   "end_time": "2022-05-16T15:53:57.161488",
   "environment_variables": {},
   "exception": null,
   "input_path": "__notebook__.ipynb",
   "output_path": "__notebook__.ipynb",
   "parameters": {},
   "start_time": "2022-05-16T15:53:28.403679",
   "version": "2.3.3"
  }
 },
 "nbformat": 4,
 "nbformat_minor": 5
}
