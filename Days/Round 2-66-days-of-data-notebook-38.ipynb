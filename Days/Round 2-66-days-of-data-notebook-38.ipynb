{
 "cells": [
  {
   "cell_type": "code",
   "execution_count": 1,
   "id": "dec3afb8",
   "metadata": {
    "_cell_guid": "b1076dfc-b9ad-4769-8c92-a6c4dae69d19",
    "_uuid": "8f2839f25d086af736a60e9eeb907d3b93b6e0e5",
    "execution": {
     "iopub.execute_input": "2022-04-18T18:13:16.798567Z",
     "iopub.status.busy": "2022-04-18T18:13:16.797277Z",
     "iopub.status.idle": "2022-04-18T18:13:16.817079Z",
     "shell.execute_reply": "2022-04-18T18:13:16.817846Z",
     "shell.execute_reply.started": "2022-04-12T14:12:25.248687Z"
    },
    "papermill": {
     "duration": 0.089434,
     "end_time": "2022-04-18T18:13:16.818235",
     "exception": false,
     "start_time": "2022-04-18T18:13:16.728801",
     "status": "completed"
    },
    "tags": []
   },
   "outputs": [
    {
     "name": "stdout",
     "output_type": "stream",
     "text": [
      "/kaggle/input/sample-pdf/D8communications.pdf\n"
     ]
    }
   ],
   "source": [
    "# This Python 3 environment comes with many helpful analytics libraries installed\n",
    "# It is defined by the kaggle/python Docker image: https://github.com/kaggle/docker-python\n",
    "# For example, here's several helpful packages to load\n",
    "\n",
    "import numpy as np # linear algebra\n",
    "import pandas as pd # data processing, CSV file I/O (e.g. pd.read_csv)\n",
    "\n",
    "# Input data files are available in the read-only \"../input/\" directory\n",
    "# For example, running this (by clicking run or pressing Shift+Enter) will list all files under the input directory\n",
    "\n",
    "import os\n",
    "for dirname, _, filenames in os.walk('/kaggle/input'):\n",
    "    for filename in filenames:\n",
    "        print(os.path.join(dirname, filename))\n",
    "\n",
    "# You can write up to 20GB to the current directory (/kaggle/working/) that gets preserved as output when you create a version using \"Save & Run All\" \n",
    "# You can also write temporary files to /kaggle/temp/, but they won't be saved outside of the current session"
   ]
  },
  {
   "cell_type": "markdown",
   "id": "eced1054",
   "metadata": {
    "papermill": {
     "duration": 0.061978,
     "end_time": "2022-04-18T18:13:16.941493",
     "exception": false,
     "start_time": "2022-04-18T18:13:16.879515",
     "status": "completed"
    },
    "tags": []
   },
   "source": [
    "# **Start Date: 12/3/2022**"
   ]
  },
  {
   "cell_type": "markdown",
   "id": "9fb8ca23",
   "metadata": {
    "papermill": {
     "duration": 0.059589,
     "end_time": "2022-04-18T18:13:17.060627",
     "exception": false,
     "start_time": "2022-04-18T18:13:17.001038",
     "status": "completed"
    },
    "tags": []
   },
   "source": [
    "# **Day 1:** \n",
    "<br>dataquest -> stats -> probability-> estimating probability\n",
    "1. out come is nothing but o/p of an experiment\n",
    "ex: whatever u get after rolling a dice -> it can be any number\n",
    "2. event can have more than one outcome\n",
    "- e.x: The event that we'll get an odd number when we roll a six-sided die — this event includes the outcomes 1, 3, and 5.\n",
    "- an event can be 0 as well.\n",
    "- We always assign probabilities to events, not outcomes, even if the event includes only one outcome.\n",
    "- P(E) =1/total number of possible outcomes, P(E) probability of an event happening.\n",
    "- but above formula doesn't work always, especially when there are more than one outcome\n",
    "    - P(E)=number of successful outcomes/total number of possible outcomes\n",
    "- incase of a biased situation \n",
    "  - let's say a die has 6 - 3 times which is 1,6,3,5,6,6\n",
    "    we will consider 6 as 3 times not 1.\n",
    "    possible outcome-> 1,3,5,6,6,6\n",
    "    prob(6)=3/6\n",
    "    prob(3)=1/6\n",
    "    prob(2)=0/6\n",
    "    If we didn't treat each 6 differently and said it doesn't matter which side a 6 is on, \n",
    "    <br>we'd be forced to conclude the only possible outcomes are 1, 3, 5 and 6. We can definitely         <br>frame the problem like that, but the formula above won't work anymore — we see below P(6) <br>becomes the same as P(3), but, intuitively, P(6) should be higher than P(3) since the die has 6 on     <br>three of its sides:\n"
   ]
  },
  {
   "cell_type": "markdown",
   "id": "4bdcff2a",
   "metadata": {
    "papermill": {
     "duration": 0.058982,
     "end_time": "2022-04-18T18:13:17.180118",
     "exception": false,
     "start_time": "2022-04-18T18:13:17.121136",
     "status": "completed"
    },
    "tags": []
   },
   "source": [
    "Estimating Probabilities Conclusion\n",
    "- emperical/ experimental probability\n",
    "  - probability achieved by experimenting / by doing the same event multiple times.\n",
    "  - Generally, for any event E (like a coin landing heads up), we can find its empirical probability   \n",
    "     by using the following formula: \n",
    "     •P (E) =number of times event E happened/ number of times we repeated the experiment   \n",
    " - Generally, the empirical probability of an event (a coin landing heads up, getting a 5 when weroll a die) approaches the true probability value as the number of trials of the randomexperiment (a coin toss, the rolling of a die) increases without bound.\n",
    "- When we calculate the probability of an event under the assumption that the outcomes have equal chances of occurring, we say that we're calculating the **theoretical probability** of an event.\n",
    "   - P(E)=number of successful outcomes/total number of possible outcomes\n",
    "\n"
   ]
  },
  {
   "cell_type": "markdown",
   "id": "bf7834d9",
   "metadata": {
    "papermill": {
     "duration": 0.061143,
     "end_time": "2022-04-18T18:13:17.301544",
     "exception": false,
     "start_time": "2022-04-18T18:13:17.240401",
     "status": "completed"
    },
    "tags": []
   },
   "source": [
    "# **Day 2**\n",
    "<br>dataquest-> stats -> intro to probability -> probability rules\n",
    "<br>In probability theory, the set of all possible outcomes is called a sample space. A sample space is often denoted by the capital Greek letter Ω (read \"omega\"). This is how we represent the sample space of a die roll:\n",
    "\n",
    "Ω = {1,2,3,4,5,6}\n",
    "-    The probability of any event ranges between 0 and 1: 0≤ P(Event) ≤1\n",
    "- To calculate P(A or B), we can also use the formula below, which is sometimes called the addition rule: P(A or B) = P(A) + P(B)\n",
    "  - Sample space ={ 1,2,3,4,5,6} \n",
    "  - P(2 or 5) = 2/6\n",
    "\n",
    "- P(C or D) = P(C) + P(D) - P(C and D)\n",
    "   - e.x : Sample_space ={2,4,6} + { 4,5,6} - {4/6}\n",
    "      P( even number or number greater than 3) = ( (3/6) + (3/6) )- (2/6) = 4/6\n",
    "- Events that don't intersect are called mutually exclusive.\n",
    "  - e.x: Getting a 5 (event one) and getting a 3 (event two) when we roll a regular six-sided die — it's  impossible to get both a 5 and 3.\n",
    "- Events that intersect are called mutually non-exclusive.\n",
    "  - Getting a number greater than 2 (event one) and getting an odd number (event two) when we roll a regular six-sided die — we could get a 5, which is both greater than 2 (event one) and odd (event two).\n",
    "- unioun -> A or B, intersection -> A and B"
   ]
  },
  {
   "cell_type": "markdown",
   "id": "1bfbdc17",
   "metadata": {
    "papermill": {
     "duration": 0.059006,
     "end_time": "2022-04-18T18:13:17.420119",
     "exception": false,
     "start_time": "2022-04-18T18:13:17.361113",
     "status": "completed"
    },
    "tags": []
   },
   "source": [
    "# Day 3 and 4\n",
    "dataquest -> stats -> probabilities -> solving complex probabilities\n",
    "- This is the same result we got from our previous approach. In more general terms, the multiplication rule says that for two events E1 and E2, the probability that both event E1 and E2 happen can be found by multiplying the probability of E1 by the probability of E2:\n",
    "    - P(E1 ∩ E2) = P(E1) × P(E2)\n",
    "    - Events that don't influence each other's probability are called independent events. If H1 happens, P(H2) stays the same, so H1 and H2 are independent. The multiplication rule we learned only works for independent events.\n",
    "    "
   ]
  },
  {
   "cell_type": "markdown",
   "id": "7c42fd15",
   "metadata": {
    "papermill": {
     "duration": 0.05984,
     "end_time": "2022-04-18T18:13:17.540103",
     "exception": false,
     "start_time": "2022-04-18T18:13:17.480263",
     "status": "completed"
    },
    "tags": []
   },
   "source": [
    "# Day 5\n",
    "- When we replace the cards after drawing, we say that we're sampling with replacement. When we don't put the cards back, we're sampling without replacement. \n"
   ]
  },
  {
   "cell_type": "markdown",
   "id": "4a873ce8",
   "metadata": {
    "papermill": {
     "duration": 0.061056,
     "end_time": "2022-04-18T18:13:17.660645",
     "exception": false,
     "start_time": "2022-04-18T18:13:17.599589",
     "status": "completed"
    },
    "tags": []
   },
   "source": [
    "# Day6\n",
    "dataquest-> prob and stats -> probability fundamentals -> permutation and combinations\n",
    "Generally, if we have an experiment E1 (like flipping a coin) with a outcomes, followed by an experiment E2 (like rolling a die) with b outcomes, then the total number of outcomes for the composite experiment E1E2 can be found by multiplying a with b:\n",
    "\n",
    "Number of outcomes = a * b"
   ]
  },
  {
   "cell_type": "markdown",
   "id": "acf099d2",
   "metadata": {
    "papermill": {
     "duration": 0.059195,
     "end_time": "2022-04-18T18:13:17.779070",
     "exception": false,
     "start_time": "2022-04-18T18:13:17.719875",
     "status": "completed"
    },
    "tags": []
   },
   "source": [
    "# Day 7\n",
    "dataquest-> prob and stats -> probability fundamentals -> permutation and combinations <br>\n",
    "More generally, if we have an experiment E1 with a outcomes, followed by an experiment E2 with b outcomes, followed by an experiment En with z outcomes, the total number of outcomes for the composite experiment E1E2 ... En can be found by multiplying their individual outcomes:\n",
    "\n",
    "Number of outcomes= a * b * … * z"
   ]
  },
  {
   "cell_type": "markdown",
   "id": "b16a2954",
   "metadata": {
    "papermill": {
     "duration": 0.059992,
     "end_time": "2022-04-18T18:13:17.899203",
     "exception": false,
     "start_time": "2022-04-18T18:13:17.839211",
     "status": "completed"
    },
    "tags": []
   },
   "source": [
    "# Day 8\n",
    "dataquest-> prob and stats -> probability fundamentals -> permutation and combinations <br>\n",
    "permutations= n*(n-1)*(n-2)*....*2*1\n"
   ]
  },
  {
   "cell_type": "markdown",
   "id": "f71ec53d",
   "metadata": {
    "papermill": {
     "duration": 0.059586,
     "end_time": "2022-04-18T18:13:18.018908",
     "exception": false,
     "start_time": "2022-04-18T18:13:17.959322",
     "status": "completed"
    },
    "tags": []
   },
   "source": [
    "# Day 9\n",
    "dataquest-> prob and stats -> probability fundamentals -> permutation and combinations\n",
    "- in permutation order of the individual element in the arranement matters.\n",
    "   - for e.x: 9821 is different than 9281\n",
    "   - Permutations =n!  --> sample without replacement-> we are not putting back the sampled data.\n",
    "   - On the last screen, we learned to use the formula below to calculate permutations when we're sampling without replacement and taking only k objects from a group of n objects:\n",
    "   npk=n!/(n-k)!"
   ]
  },
  {
   "cell_type": "markdown",
   "id": "c6bac75d",
   "metadata": {
    "papermill": {
     "duration": 0.059869,
     "end_time": "2022-04-18T18:13:18.138106",
     "exception": false,
     "start_time": "2022-04-18T18:13:18.078237",
     "status": "completed"
    },
    "tags": []
   },
   "source": [
    "# Day 10\n",
    "dataquest-> prob and stats -> probability fundamentals -> permutation and combinations\n",
    "- More generally, if the order of the elements in an arrangement doesn't matter, the arrangement is called a combination.\n",
    "- e.x: cards in a deck \n",
    "- nCk = n! / ((n-k)!*k!)"
   ]
  },
  {
   "cell_type": "markdown",
   "id": "0d19de24",
   "metadata": {
    "papermill": {
     "duration": 0.060211,
     "end_time": "2022-04-18T18:13:18.258302",
     "exception": false,
     "start_time": "2022-04-18T18:13:18.198091",
     "status": "completed"
    },
    "tags": []
   },
   "source": [
    "# Day 11\n",
    "dataquest-> prob and stats -> probability fundamentals -> permutation and combinations\n",
    "- solved 1 probability problem.\n"
   ]
  },
  {
   "cell_type": "markdown",
   "id": "a87b96bc",
   "metadata": {
    "papermill": {
     "duration": 0.06007,
     "end_time": "2022-04-18T18:13:18.379706",
     "exception": false,
     "start_time": "2022-04-18T18:13:18.319636",
     "status": "completed"
    },
    "tags": []
   },
   "source": [
    "# Day 12\n",
    "dataquest-> prob and stats -> probability fundamentals -> permutation and combinations\n",
    "- finished probability and permutations by revising them.\n",
    "- If we have an experiment E1 (like flipping a coin) with a outcomes, followed by an experiment E2(like rolling a die) with b outcomes, then the total number of outcomes for the compositeexperiment E1E2 can be found by multiplying a with b (this is known as the rule of product):\n",
    "  - number of outcomes = a*b\n",
    "- If we have an experiment E1 with a outcomes, followed by an experiment E2 with b outcomes,followed by an experiment En with z outcomes, the total number of outcomes for the compositeexperiment E1E2 ... En can be found by multiplying their individual outcomes:\n",
    "   - number of outcomes = a*b* ... *z\n",
    "- There are two kinds of arrangements:\n",
    "   - •Arrangements where the order matters, which we call permutations.\n",
    "   - •Arrangements where the order doesn't matter, which we call combination\n",
    "- To find the number of permutations when we're sampling without replacement, we can use theformula:\n",
    "  - permutation = n!\n",
    "- To find the number of permutations when we're sampling without replacement and taking only kobjects from a group of n objects, we can use the formula:\n",
    "  - nPk = n!/(n-k)!\n",
    "- To find the number of combinations when we're sampling without replacement and taking only kobjects from a group of n objects, we can use the formula\n",
    "  - nCk = n! / ((n-k)!*k!)"
   ]
  },
  {
   "cell_type": "markdown",
   "id": "759e3d2b",
   "metadata": {
    "papermill": {
     "duration": 0.059313,
     "end_time": "2022-04-18T18:13:18.499475",
     "exception": false,
     "start_time": "2022-04-18T18:13:18.440162",
     "status": "completed"
    },
    "tags": []
   },
   "source": [
    "# Day 13\n",
    "dataquest-> prob and stats -> probability fundamentals -> conditional probabilities\n",
    "- first 2 slides -> mainly the recap of old chapter(above one).\n"
   ]
  },
  {
   "cell_type": "markdown",
   "id": "c451a738",
   "metadata": {
    "papermill": {
     "duration": 0.059251,
     "end_time": "2022-04-18T18:13:18.618817",
     "exception": false,
     "start_time": "2022-04-18T18:13:18.559566",
     "status": "completed"
    },
    "tags": []
   },
   "source": [
    "# Day 14\n",
    "dataquest-> prob and stats -> probability fundamentals -> conditional probabilities\n",
    "<br>slide 4 completed\n",
    "<br>conditional probabilities\n",
    "- probabilities with condition\n",
    "- P(5)=What is the probability of getting a 5? -> normal probability\n",
    "- P(5 | odd) =What is the probability of getting a 5 given the die showed an odd number? -> conditional prob.\n",
    "\n"
   ]
  },
  {
   "cell_type": "markdown",
   "id": "b3f59cf7",
   "metadata": {
    "papermill": {
     "duration": 0.061583,
     "end_time": "2022-04-18T18:13:18.744559",
     "exception": false,
     "start_time": "2022-04-18T18:13:18.682976",
     "status": "completed"
    },
    "tags": []
   },
   "source": [
    "# Day 15\n",
    "dataquest-> prob and stats -> probability fundamentals -> conditional probabilities\n",
    "- on slide 5 not done yet.\n",
    "\n",
    "Say we roll a fair six-sided die and want to find the probability of getting an odd number, given the die showed a number greater than 1 after landing. Using probability notation, we want to find P(A|B) where:\n",
    "\n",
    "- A is the event that the number is odd: A = {1, 3, 5}\n",
    "- B is the event that the number is greater than 1: B = {2, 3, 4, 5, 6}\n",
    "- P(A/B)=number of succesfull outcomes / total number of outcomes.\n"
   ]
  },
  {
   "cell_type": "markdown",
   "id": "64c675fb",
   "metadata": {
    "papermill": {
     "duration": 0.061482,
     "end_time": "2022-04-18T18:13:18.865512",
     "exception": false,
     "start_time": "2022-04-18T18:13:18.804030",
     "status": "completed"
    },
    "tags": []
   },
   "source": [
    "# Day 16 and 17\n",
    "dataquest-> prob and stats -> probability fundamentals -> conditional probabilities\n",
    "\n",
    "on slide 6 not done yet."
   ]
  },
  {
   "cell_type": "markdown",
   "id": "14c36d1f",
   "metadata": {
    "papermill": {
     "duration": 0.060294,
     "end_time": "2022-04-18T18:13:18.985526",
     "exception": false,
     "start_time": "2022-04-18T18:13:18.925232",
     "status": "completed"
    },
    "tags": []
   },
   "source": [
    "# Day 18\n",
    "dataquest-> prob and stats -> probability fundamentals -> conditional probabilities\n",
    "<br>slide 5 code half done"
   ]
  },
  {
   "cell_type": "markdown",
   "id": "7adf10ff",
   "metadata": {
    "papermill": {
     "duration": 0.060317,
     "end_time": "2022-04-18T18:13:19.105844",
     "exception": false,
     "start_time": "2022-04-18T18:13:19.045527",
     "status": "completed"
    },
    "tags": []
   },
   "source": [
    "# Day 19\n",
    "- The number of elements in a set is called the cardinal of the set. \n",
    "  Ω is a set, and the cardinal of \n",
    "   Ω = { 2,3,4,5,6}\n",
    "   cardinal(Ω)=5\n",
    "- P(A | B) = card(A ∩ B) / card(B)\n",
    "- Say we roll a fair six-sided die and want to find the probability of getting an odd number, given the die showed a number greater than 1 after landing. Using probability notation, we want to find P(A|B) where:\n",
    "    - A is the event that the number is odd: A = {1, 3, 5}\n",
    "     - B is the event that the number is greater than 1: B = {2, 3, 4, 5, 6}\n",
    "     - total number of possible outcomes = card({2,3,4,5,6}) =5\n",
    "     - number of successful outcomes = card({3,5})= 2\n",
    "- P(A | B) = card(A ∩ B) / card(B), we can also get the same result using P(A | B) = prob(A ∩ B) / prob(B)\n",
    "\n",
    "     "
   ]
  },
  {
   "cell_type": "markdown",
   "id": "0577eccf",
   "metadata": {
    "papermill": {
     "duration": 0.059212,
     "end_time": "2022-04-18T18:13:19.224969",
     "exception": false,
     "start_time": "2022-04-18T18:13:19.165757",
     "status": "completed"
    },
    "tags": []
   },
   "source": [
    "# Day 20\n",
    "dataquest-> prob and stats -> probability fundamentals -> conditional probabilities intermediate\n",
    "<br> slide 1 and 2\n",
    "- P( A | B ) ≠ P(A ∩ B), but rather:\n",
    "   - P(A | B) = P(A ∩ B) / P(B)\n",
    "   - P(A ∩ B) = P(A | B) ⋅ P(B)\n",
    "- Given that a customer bought a laptop, they will or will not also buy a mouse. This means we can be certain that either event (M|L) or (M^C|L) will happen:\n",
    "     - P(M | L) + P(M^C | L) = 1\n",
    "\n"
   ]
  },
  {
   "cell_type": "markdown",
   "id": "a231c612",
   "metadata": {
    "papermill": {
     "duration": 0.059869,
     "end_time": "2022-04-18T18:13:19.344835",
     "exception": false,
     "start_time": "2022-04-18T18:13:19.284966",
     "status": "completed"
    },
    "tags": []
   },
   "source": [
    "# Day 21\n",
    "dataquest-> prob and stats -> probability fundamentals -> conditional probabilities intermediate\n",
    "slide 1 and 2\n",
    "- P(A ∩ B) = P(B ∩ A)\n",
    "- multiplication rule of probability\n",
    "  -  P(A ∩ B) = P(B) ⋅ P(A | B) \n",
    "  - P(A ∩ B) = P(A) ⋅ P(B | A)\n",
    "- if P(A) and P(B) are statistically independent then \n",
    "  - P(A ∩ B) = P(A) ⋅ P(B)\n",
    "\n"
   ]
  },
  {
   "cell_type": "markdown",
   "id": "3bb47de9",
   "metadata": {
    "papermill": {
     "duration": 0.059711,
     "end_time": "2022-04-18T18:13:19.464717",
     "exception": false,
     "start_time": "2022-04-18T18:13:19.405006",
     "status": "completed"
    },
    "tags": []
   },
   "source": [
    "# Day 22\n",
    "dataquest-> prob and stats -> probability fundamentals -> conditional probabilities intermediate \n",
    "<br>slide 6\n",
    "- If events events A and B are dependent, it means the occurrence of event A changes the probability of event B and vice versa.\n",
    "   - P(A) ≠ P(A | B)\n",
    "   - P(B) ≠ P(B | A)\n",
    "   - P(A ∩ B) ≠ P(A) ⋅ P(B)\n",
    "   - formula will become P(A ∩ B) ≠ P(A) ⋅ P(B/A)\n",
    "   "
   ]
  },
  {
   "cell_type": "markdown",
   "id": "31bb8490",
   "metadata": {
    "papermill": {
     "duration": 0.061305,
     "end_time": "2022-04-18T18:13:19.589140",
     "exception": false,
     "start_time": "2022-04-18T18:13:19.527835",
     "status": "completed"
    },
    "tags": []
   },
   "source": [
    "# Day 23\n",
    "dataquest-> prob and stats -> probability fundamentals -> conditional probabilities intermediate\n",
    "<br>slide 7 to last\n",
    "- To find whether three events — A, B, C — are independent or not, below conditions must hold true -\n",
    "  - P(A ∩ B) ≠ P(A) ⋅ P(B)\n",
    "  - P(A ∩ C) ≠ P(A) ⋅ P(C)\n",
    "  - P(B ∩ C) ≠ P(B) ⋅ P(C)\n",
    "  - P(A ∩ B ∩ C) ≠ P(A) ⋅ P(B) . P(C)\n",
    "- multiplication rule for conditional probability or dependent events\n",
    " - P(A ∩ B ∩ C) = P(A) ⋅ P(B | A) ⋅ P(C | A ∩ B)\n",
    " \n",
    "\n"
   ]
  },
  {
   "cell_type": "markdown",
   "id": "05ed1e9c",
   "metadata": {
    "papermill": {
     "duration": 0.064671,
     "end_time": "2022-04-18T18:13:19.721160",
     "exception": false,
     "start_time": "2022-04-18T18:13:19.656489",
     "status": "completed"
    },
    "tags": []
   },
   "source": [
    "# Day 24\n",
    "dataquest-> prob and stats -> probability fundamentals -> bayes theorem\n",
    "<br>slide 1\n",
    "- independent -> one event is dependent on other\n",
    "   - P(A ∩ B) = P(A) ⋅ P(B/A)\n",
    "- independent -> one event is not dependent on other.\n",
    "   - P(A ∩ B) = P(A) ⋅ P(B)\n",
    "- mutually exclusive -> both the events cannot happen at the same time.\n",
    "   - P(A ∩ B) = 0\n",
    "\n"
   ]
  },
  {
   "cell_type": "markdown",
   "id": "a9143928",
   "metadata": {
    "papermill": {
     "duration": 0.060226,
     "end_time": "2022-04-18T18:13:19.841887",
     "exception": false,
     "start_time": "2022-04-18T18:13:19.781661",
     "status": "completed"
    },
    "tags": []
   },
   "source": [
    "# Day 25\n",
    "dataquest-> prob and stats -> probability fundamentals -> bayes theorem\n",
    "<br>slide 2\n",
    "- If two events are exhaustive, it means they make up the whole sample space Ω\n",
    "  -  P(A) = P(A ∩ B) + P(A ∩ B^c)\n",
    "     P(A) = (P(B) * P(A/B)) +  (P(B^c) * P(A/B^c))\n",
    "     \n",
    "     "
   ]
  },
  {
   "cell_type": "markdown",
   "id": "9327b0e8",
   "metadata": {
    "papermill": {
     "duration": 0.059739,
     "end_time": "2022-04-18T18:13:19.961924",
     "exception": false,
     "start_time": "2022-04-18T18:13:19.902185",
     "status": "completed"
    },
    "tags": []
   },
   "source": [
    "# Day 26\n",
    "dataquest-> prob and stats -> probability fundamentals -> bayes theorem\n",
    "<br>slide 3 - last\n",
    "- the law of total probability\n",
    "  - P(A)  = (P(B1) * P(A/B1)) + (P(B2) * P(A/B2))+ ... + (P(Bn) * P(A/Bn)))\n",
    "  - P(A) =(summattion i=1 to n) P(Bi) ⋅ P(A|Bi)\n",
    "- Baye's theorem\n",
    "  - P(B | A) = (P(B) ⋅ P(A | B)) / (n ∑i=1 P(Bi) ⋅ P(A | Bi))\n",
    "- The probability of being infected with HIV before doing any test is called the prior probability (\"prior\" means \"before\"). The probability of being infected with HIV after testing positive is called the posterior probability (\"posterior\" means \"after\").\n",
    "\n",
    "\n",
    "  "
   ]
  },
  {
   "cell_type": "markdown",
   "id": "6beb2768",
   "metadata": {
    "papermill": {
     "duration": 0.059551,
     "end_time": "2022-04-18T18:13:20.080703",
     "exception": false,
     "start_time": "2022-04-18T18:13:20.021152",
     "status": "completed"
    },
    "tags": []
   },
   "source": [
    "# Day 27\n",
    "dataquest-> prob and stats -> probability fundamentals -> naive bayes theorem\n",
    "<br>slide 1 - \n",
    "P(Spam|w1,w2,w3,w4)∝P(Spam)⋅P(w1|Spam)⋅P(w2|Spam)⋅P(w3|Spam)⋅P(w4|Spam)P(SpamC|w1,w2,w3,w4)∝P(SpamC)⋅P(w1|SpamC)⋅P(w2|SpamC)⋅P(w3|SpamC)⋅P(w4|SpamC)"
   ]
  },
  {
   "cell_type": "markdown",
   "id": "763ec3c4",
   "metadata": {
    "papermill": {
     "duration": 0.058889,
     "end_time": "2022-04-18T18:13:20.198848",
     "exception": false,
     "start_time": "2022-04-18T18:13:20.139959",
     "status": "completed"
    },
    "tags": []
   },
   "source": [
    "# Day 28\n",
    "dataquest-> prob and stats -> probability fundamentals -> naive bayes theorem\n",
    "<br>finished.\n",
    "<br>**Summary**\n",
    "- P(Spam|w1,w2,...,wn)∝P(Spam)⋅n∏i=1P(wi|Spam)\n",
    "- P(SpamC|w1,w2,...,wn)∝P(SpamC)⋅n∏i=1P(wi|SpamC)\n",
    "- To calculate P(wi|Spam) and P(wi|SpamC), we need to use the additive smoothing technique: \n",
    "- P ( w i | S p a m ) = (N w i | S p a m + α) / ( N S p a m + α ⋅ N V o c a b u l a r y )\n",
    "- P ( w i | S p a m C ) = (N w i | S p a m C + α) / ( N S p a m C + α ⋅ N V o c a b u l a r y )\n",
    "     - N w i | S p a m = the number of times the word w i occurs in spam messages \n",
    "     - N w i | S p a m C = the number of times the word w i occurs in non-spam messages \n",
    "     - N S p a m = total number of words in spam messages \n",
    "     - N S p a m C = total number of words in non-spam messages \n",
    "     - N V o c a b u l a r y = total number of words in the vocabulary \n",
    "     - α = 1 ( α is a smoothing parameter )\n",
    " - naive bayes theorem assumes that events are not dependent.\n",
    " - The assumption of conditional independence between words is thus naive since it rarely holds in practice, and this is why the algorithm is called Naive Bayes (also called simple Bayes or independence Bayes)."
   ]
  },
  {
   "cell_type": "markdown",
   "id": "3879bdaa",
   "metadata": {
    "papermill": {
     "duration": 0.059381,
     "end_time": "2022-04-18T18:13:20.317851",
     "exception": false,
     "start_time": "2022-04-18T18:13:20.258470",
     "status": "completed"
    },
    "tags": []
   },
   "source": [
    "# Day 29,30,31\n",
    "<br>dataquest-> prob and stats -> probability fundamentals -> conditional probability-> guided projects\n",
    "<br> in progress"
   ]
  },
  {
   "cell_type": "markdown",
   "id": "ebfd70fd",
   "metadata": {
    "papermill": {
     "duration": 0.059512,
     "end_time": "2022-04-18T18:13:20.437499",
     "exception": false,
     "start_time": "2022-04-18T18:13:20.377987",
     "status": "completed"
    },
    "tags": []
   },
   "source": [
    "# Day 32 and 33\n",
    "<br>dataquest-> prob and stats -> probability fundamentals -> guided projects\n",
    "<br> done"
   ]
  },
  {
   "cell_type": "markdown",
   "id": "e106a70d",
   "metadata": {
    "papermill": {
     "duration": 0.06044,
     "end_time": "2022-04-18T18:13:20.557270",
     "exception": false,
     "start_time": "2022-04-18T18:13:20.496830",
     "status": "completed"
    },
    "tags": []
   },
   "source": [
    "# Day 34\n",
    "<br>dataquest-> prob and stats -> probability fundamentals -> guided projects-> lottery prediction\n",
    "<br> done"
   ]
  },
  {
   "cell_type": "markdown",
   "id": "cf9f48de",
   "metadata": {
    "papermill": {
     "duration": 0.060441,
     "end_time": "2022-04-18T18:13:20.677730",
     "exception": false,
     "start_time": "2022-04-18T18:13:20.617289",
     "status": "completed"
    },
    "tags": []
   },
   "source": [
    "# Day 35\n",
    "<br>dataquest-> prob and stats -> hypothesis testing fundamentals -> significance testing\n",
    "<br> till slide 4\n",
    "- null hypothesis\n",
    "- alternate hypothesis\n"
   ]
  },
  {
   "cell_type": "markdown",
   "id": "faf0e2e0",
   "metadata": {
    "papermill": {
     "duration": 0.060617,
     "end_time": "2022-04-18T18:13:20.797853",
     "exception": false,
     "start_time": "2022-04-18T18:13:20.737236",
     "status": "completed"
    },
    "tags": []
   },
   "source": [
    "# Day 36 and 37\n",
    "<br>dataquest-> prob and stats -> hypothesis testing fundamentals -> significance testing\n",
    "- The permutation test is a statistical test that involves rerunning the study many times and recalculating the test statistic for each iteration. The goal is to calculate a distribution of the test statistics over these many iterations. This distribution is called the sampling distribution and it approximates the full range of possible test statistics under the null hypothesis\n",
    "\n"
   ]
  },
  {
   "cell_type": "markdown",
   "id": "af47b79a",
   "metadata": {
    "papermill": {
     "duration": 0.060385,
     "end_time": "2022-04-18T18:13:20.917456",
     "exception": false,
     "start_time": "2022-04-18T18:13:20.857071",
     "status": "completed"
    },
    "tags": []
   },
   "source": [
    "# Day 38\n",
    "<br>dataquest-> prob and stats -> hypothesis testing fundamentals -> significance testing\n",
    "<br>in progress."
   ]
  },
  {
   "cell_type": "code",
   "execution_count": 2,
   "id": "eae0ebae",
   "metadata": {
    "execution": {
     "iopub.execute_input": "2022-04-18T18:13:21.040571Z",
     "iopub.status.busy": "2022-04-18T18:13:21.039897Z",
     "iopub.status.idle": "2022-04-18T18:13:21.043218Z",
     "shell.execute_reply": "2022-04-18T18:13:21.043747Z",
     "shell.execute_reply.started": "2022-04-12T14:17:49.333113Z"
    },
    "papermill": {
     "duration": 0.066076,
     "end_time": "2022-04-18T18:13:21.043921",
     "exception": false,
     "start_time": "2022-04-18T18:13:20.977845",
     "status": "completed"
    },
    "tags": []
   },
   "outputs": [],
   "source": [
    "# !pip install PyMuPDF"
   ]
  },
  {
   "cell_type": "code",
   "execution_count": 3,
   "id": "a80e8071",
   "metadata": {
    "execution": {
     "iopub.execute_input": "2022-04-18T18:13:21.168396Z",
     "iopub.status.busy": "2022-04-18T18:13:21.167389Z",
     "iopub.status.idle": "2022-04-18T18:13:21.170765Z",
     "shell.execute_reply": "2022-04-18T18:13:21.171315Z",
     "shell.execute_reply.started": "2022-04-12T14:19:20.437905Z"
    },
    "papermill": {
     "duration": 0.067634,
     "end_time": "2022-04-18T18:13:21.171501",
     "exception": false,
     "start_time": "2022-04-18T18:13:21.103867",
     "status": "completed"
    },
    "tags": []
   },
   "outputs": [],
   "source": [
    " \n",
    "# fitz.__version__"
   ]
  },
  {
   "cell_type": "code",
   "execution_count": 4,
   "id": "016793ed",
   "metadata": {
    "execution": {
     "iopub.execute_input": "2022-04-18T18:13:21.293868Z",
     "iopub.status.busy": "2022-04-18T18:13:21.292883Z",
     "iopub.status.idle": "2022-04-18T18:13:21.296132Z",
     "shell.execute_reply": "2022-04-18T18:13:21.296782Z",
     "shell.execute_reply.started": "2022-04-12T14:23:59.687259Z"
    },
    "papermill": {
     "duration": 0.066139,
     "end_time": "2022-04-18T18:13:21.296974",
     "exception": false,
     "start_time": "2022-04-18T18:13:21.230835",
     "status": "completed"
    },
    "tags": []
   },
   "outputs": [],
   "source": [
    "# !python -m spacy download en_core_web_sm"
   ]
  },
  {
   "cell_type": "code",
   "execution_count": null,
   "id": "5dfc93af",
   "metadata": {
    "papermill": {
     "duration": 0.059465,
     "end_time": "2022-04-18T18:13:21.417613",
     "exception": false,
     "start_time": "2022-04-18T18:13:21.358148",
     "status": "completed"
    },
    "tags": []
   },
   "outputs": [],
   "source": []
  },
  {
   "cell_type": "code",
   "execution_count": 5,
   "id": "c32db93b",
   "metadata": {
    "execution": {
     "iopub.execute_input": "2022-04-18T18:13:21.542937Z",
     "iopub.status.busy": "2022-04-18T18:13:21.542006Z",
     "iopub.status.idle": "2022-04-18T18:13:21.544703Z",
     "shell.execute_reply": "2022-04-18T18:13:21.544153Z",
     "shell.execute_reply.started": "2022-04-12T14:18:25.912243Z"
    },
    "papermill": {
     "duration": 0.067327,
     "end_time": "2022-04-18T18:13:21.544856",
     "exception": false,
     "start_time": "2022-04-18T18:13:21.477529",
     "status": "completed"
    },
    "tags": []
   },
   "outputs": [],
   "source": [
    "# import fitz\n",
    "# import spacy\n",
    "# import re\n",
    "# from pathlib import Path\n",
    "# import requests\n",
    "# import os"
   ]
  },
  {
   "cell_type": "code",
   "execution_count": 6,
   "id": "56cbe171",
   "metadata": {
    "execution": {
     "iopub.execute_input": "2022-04-18T18:13:21.670821Z",
     "iopub.status.busy": "2022-04-18T18:13:21.668366Z",
     "iopub.status.idle": "2022-04-18T18:13:21.672535Z",
     "shell.execute_reply": "2022-04-18T18:13:21.673004Z",
     "shell.execute_reply.started": "2022-04-12T15:03:43.5897Z"
    },
    "papermill": {
     "duration": 0.06722,
     "end_time": "2022-04-18T18:13:21.673190",
     "exception": false,
     "start_time": "2022-04-18T18:13:21.605970",
     "status": "completed"
    },
    "tags": []
   },
   "outputs": [],
   "source": [
    "# sql_db_json = [\n",
    "#   {\n",
    "#     \"document_id\": \"1\",\n",
    "#     \"area\": \"[72.1149,661.2966,131.95729,675.1716]\",\n",
    "#     \"page\": \"3\",\n",
    "#     \"text_\": \"Background\",\n",
    "#     \"type_of_selection\": \"Text\",\n",
    "#     \"entity_type\": \"name\",\n",
    "#     \"link\": \"https://redactable-devox-stage.s3.us-east-2.amazonaws.com/tenants/41d9e109-693b-444c-aa18-e5891bc6550b/original/1a7c0e5d-3237-4ca9-9e3d-89e707245ac6/D8communications.pdf\"\n",
    "#   },\n",
    "#   {\n",
    "#     \"document_id\": \"1\",\n",
    "#     \"area\": \"[290.55386,632.0173,322.14685,645.8923]\",\n",
    "#     \"page\": \"2\",\n",
    "#     \"text_\": \"INDEX\",\n",
    "#     \"type_of_selection\": \"Text\",\n",
    "#     \"entity_type\": \"address\",\n",
    "#     \"link\": \"https://redactable-devox-stage.s3.us-east-2.amazonaws.com/tenants/41d9e109-693b-444c-aa18-e5891bc6550b/original/1a7c0e5d-3237-4ca9-9e3d-89e707245ac6/D8communications.pdf\"\n",
    "#   }\n",
    "# ]"
   ]
  },
  {
   "cell_type": "code",
   "execution_count": 7,
   "id": "3eac8d53",
   "metadata": {
    "execution": {
     "iopub.execute_input": "2022-04-18T18:13:21.803017Z",
     "iopub.status.busy": "2022-04-18T18:13:21.802204Z",
     "iopub.status.idle": "2022-04-18T18:13:21.805353Z",
     "shell.execute_reply": "2022-04-18T18:13:21.805820Z",
     "shell.execute_reply.started": "2022-04-12T13:17:19.452695Z"
    },
    "papermill": {
     "duration": 0.069326,
     "end_time": "2022-04-18T18:13:21.805997",
     "exception": false,
     "start_time": "2022-04-18T18:13:21.736671",
     "status": "completed"
    },
    "tags": []
   },
   "outputs": [],
   "source": [
    "# l=pd.DataFrame()\n",
    "# k=(1, '[290.55386,632.0173,322.14685,645.8923]', 2, 'INDEX', 'Text', 'address', 'https://redactable-devox-s')\n",
    "# k\n"
   ]
  },
  {
   "cell_type": "code",
   "execution_count": 8,
   "id": "a1b4495c",
   "metadata": {
    "execution": {
     "iopub.execute_input": "2022-04-18T18:13:21.933662Z",
     "iopub.status.busy": "2022-04-18T18:13:21.932934Z",
     "iopub.status.idle": "2022-04-18T18:13:21.936125Z",
     "shell.execute_reply": "2022-04-18T18:13:21.936619Z",
     "shell.execute_reply.started": "2022-04-12T16:09:33.708631Z"
    },
    "papermill": {
     "duration": 0.069175,
     "end_time": "2022-04-18T18:13:21.936800",
     "exception": false,
     "start_time": "2022-04-18T18:13:21.867625",
     "status": "completed"
    },
    "tags": []
   },
   "outputs": [],
   "source": [
    "# co=[\"document_id\",\"area\",\"page\",\"text_\",\"type_of_selection\",\"entity_type\",\"link\"]\n",
    "# val= [(1,'[72.1149,661.2966,131.95729,675.1716]',3,'Background','Text','name' ,'https://redactable-devox-stage.s3.us-east-2.am'), (1,  '[290.55386,632.0173,322.14685,645.8923]',2,'INDEX', 'Text','address','https://redactable-devox-stage.s3.us-east-2.am')]\n",
    "\n",
    "# df=pd.DataFrame(val,columns=[co])\n",
    "# #df.iloc[1] =[1,  '[290.55386,632.0173,322.14685,645.8923]',2,'INDEX', 'Text','address','https://redactable-devox-stage.s3.us-east-2.am']\n",
    "# df"
   ]
  },
  {
   "cell_type": "code",
   "execution_count": 9,
   "id": "43b3a286",
   "metadata": {
    "execution": {
     "iopub.execute_input": "2022-04-18T18:13:22.062667Z",
     "iopub.status.busy": "2022-04-18T18:13:22.061917Z",
     "iopub.status.idle": "2022-04-18T18:13:22.064919Z",
     "shell.execute_reply": "2022-04-18T18:13:22.065469Z",
     "shell.execute_reply.started": "2022-04-12T16:18:22.595374Z"
    },
    "papermill": {
     "duration": 0.067548,
     "end_time": "2022-04-18T18:13:22.065691",
     "exception": false,
     "start_time": "2022-04-18T18:13:21.998143",
     "status": "completed"
    },
    "tags": []
   },
   "outputs": [],
   "source": [
    "# prev=[]\n",
    "# for data,row in df.iterrows():\n",
    "#     if row['document_id'] not in prev:\n",
    "#         prev.append(row['document_id'])\n",
    "#         print('hey')"
   ]
  },
  {
   "cell_type": "code",
   "execution_count": 10,
   "id": "fda00654",
   "metadata": {
    "execution": {
     "iopub.execute_input": "2022-04-18T18:13:22.193453Z",
     "iopub.status.busy": "2022-04-18T18:13:22.192644Z",
     "iopub.status.idle": "2022-04-18T18:13:22.197869Z",
     "shell.execute_reply": "2022-04-18T18:13:22.198425Z",
     "shell.execute_reply.started": "2022-04-12T15:03:48.248836Z"
    },
    "papermill": {
     "duration": 0.070925,
     "end_time": "2022-04-18T18:13:22.198650",
     "exception": false,
     "start_time": "2022-04-18T18:13:22.127725",
     "status": "completed"
    },
    "tags": []
   },
   "outputs": [],
   "source": [
    "# nlp = spacy.load('en_core_web_sm')\n",
    "# train_data = []\n",
    "\n",
    "# prev_doc_id = ''\n",
    "# i=0\n",
    "# temp='/kaggle/working'\n",
    "\n",
    "# for data in sql_db_json:\n",
    "#     if data['type_of_selection'] == 'Text':\n",
    "#         document_id = data['document_id']\n",
    "#         x1,y1,x2,y2 = data['area'][1:-1].split(',')\n",
    "#         url = data['link']\n",
    "#         page_no = int(data['page']) - 1 \n",
    "#         label = data['entity_type']\n",
    "#         filename = url.split('/')[-1]\n",
    "    \n",
    "#         #download the file to temp folder\n",
    "#         outpath = os.path.join(temp,filename)\n",
    "\n",
    "#         if document_id == prev_doc_id:\n",
    "#             pass\n",
    "#         else: \n",
    "#             i+=1\n",
    "#             print(i)\n",
    "#             response = requests.get(url)\n",
    "#             with open(outpath, \"wb\") as binary_file:\n",
    "#                 binary_file.write(response.content)\n",
    "\n",
    "#         doc = fitz.open(outpath)  # any supported document type\n",
    "#         page = doc[page_no]  # we want text from this page\n",
    "#         print('page dimension - ', page.rect.width, page.rect.height)\n",
    "\n",
    "#         #The co-ordinates in the DB are image co-ords. W.r.t pdf, y1 and y2 has to be interchanged.\n",
    "#         #To ensure entire word to be selected, slight correction in x1,y1,x2,y2 is done.\n",
    "\n",
    "#         rect = [float(x1)-2, 792 - float(y2)-2, float(x2)+2, 792 - float(y1)+2]\n",
    "#         print(rect)\n",
    "#         labelled_text = page.get_textbox(rect)\n",
    "\n",
    "#         #Removing all unprintable characters from the text\n",
    "#         string = re.sub('[^0-9a-zA-Z@?|\\/<>.,()&^%$#!]+', ' ', labelled_text)\n",
    "#         print('string : ', string)\n",
    "\n",
    "#         fulltext = page.get_text()\n",
    "#         doc = nlp(fulltext)\n",
    "\n",
    "#         sentences = []\n",
    "#         for sent in doc.sents:\n",
    "#             if string.strip() in sent.text:\n",
    "#                 text = re.sub('[^0-9a-zA-Z@?|\\/<>.,()&^%$#!]+', ' ', sent.text)\n",
    "\n",
    "#         res = re.search(string.strip(), text)\n",
    "\n",
    "#         entities = []\n",
    "#         entities.append((res.start(),res.end(),label))\n",
    "\n",
    "#         train_data.append((text,{'entities':entities}))\n",
    "\n",
    "# print('Training data in spacy format')\n",
    "# print('*****************************')\n",
    "# for i in range(0,len(train_data)):\n",
    "#     print(train_data[i])"
   ]
  },
  {
   "cell_type": "code",
   "execution_count": null,
   "id": "c583d483",
   "metadata": {
    "papermill": {
     "duration": 0.060008,
     "end_time": "2022-04-18T18:13:22.318566",
     "exception": false,
     "start_time": "2022-04-18T18:13:22.258558",
     "status": "completed"
    },
    "tags": []
   },
   "outputs": [],
   "source": []
  },
  {
   "cell_type": "code",
   "execution_count": 11,
   "id": "e523cbaa",
   "metadata": {
    "execution": {
     "iopub.execute_input": "2022-04-18T18:13:22.448715Z",
     "iopub.status.busy": "2022-04-18T18:13:22.447721Z",
     "iopub.status.idle": "2022-04-18T18:13:22.452966Z",
     "shell.execute_reply": "2022-04-18T18:13:22.453797Z",
     "shell.execute_reply.started": "2022-04-12T11:44:59.253637Z"
    },
    "papermill": {
     "duration": 0.072948,
     "end_time": "2022-04-18T18:13:22.454058",
     "exception": false,
     "start_time": "2022-04-18T18:13:22.381110",
     "status": "completed"
    },
    "tags": []
   },
   "outputs": [],
   "source": [
    "# nlp = spacy.load('en_core_web_sm')\n",
    "# train_data = []\n",
    "\n",
    "# prev_doc_id = ''\n",
    "# temp='/kaggle/working'\n",
    "# i=0\n",
    "# for data in sql_db_json:\n",
    "#     if data['type_of_selection'] == 'Text':\n",
    "#         document_id = data['document_id']\n",
    "#         x1,y1,x2,y2 = data['area'][1:-1].split(',')\n",
    "#         url = data['link']\n",
    "#         page_no = int(data['page']) - 1 \n",
    "#         label = data['entity_type']\n",
    "#         filename = url.split('/')[-1]\n",
    "    \n",
    "#         #download the file to temp folder\n",
    "#         i+=1\n",
    "#         print(i)\n",
    "#         response = requests.get(url)\n",
    "#         doc = fitz.open(stream=response.content,filetype=\"pdf\")  # any supported document type\n",
    "#         page = doc[page_no]  # we want text from this page\n",
    "#         print('page dimension - ', page.rect.width, page.rect.height)\n",
    "\n",
    "#         #The co-ordinates in the DB are image co-ords. W.r.t pdf, y1 and y2 has to be interchanged.\n",
    "#         #To ensure entire word to be selected, slight correction in x1,y1,x2,y2 is done.\n",
    "\n",
    "#         rect = [float(x1)-2, 792 - float(y2)-2, float(x2)+2, 792 - float(y1)+2]\n",
    "#         print(rect)\n",
    "#         labelled_text = page.get_textbox(rect)\n",
    "\n",
    "#         #Removing all unprintable characters from the text\n",
    "#         string = re.sub('[^0-9a-zA-Z@?|\\/<>.,()&^%$#!]+', ' ', labelled_text)\n",
    "#         print('string : ', string)\n",
    "\n",
    "#         fulltext = page.get_text()\n",
    "#         doc = nlp(fulltext)\n",
    "\n",
    "#         sentences = []\n",
    "#         for sent in doc.sents:\n",
    "#             if string.strip() in sent.text:\n",
    "#                 text = re.sub('[^0-9a-zA-Z@?|\\/<>.,()&^%$#!]+', ' ', sent.text)\n",
    "\n",
    "#         res = re.search(string.strip(), text)\n",
    "\n",
    "#         entities = []\n",
    "#         entities.append((res.start(),res.end(),label))\n",
    "\n",
    "#         train_data.append((text,{'entities':entities}))\n",
    "\n",
    "# print('Training data in spacy format')\n",
    "# print('*****************************')\n",
    "# for i in range(0,len(train_data)):\n",
    "#     print(train_data[i])"
   ]
  },
  {
   "cell_type": "code",
   "execution_count": 12,
   "id": "29c52e7b",
   "metadata": {
    "execution": {
     "iopub.execute_input": "2022-04-18T18:13:22.580473Z",
     "iopub.status.busy": "2022-04-18T18:13:22.579786Z",
     "iopub.status.idle": "2022-04-18T18:13:22.583215Z",
     "shell.execute_reply": "2022-04-18T18:13:22.583776Z"
    },
    "papermill": {
     "duration": 0.067017,
     "end_time": "2022-04-18T18:13:22.583951",
     "exception": false,
     "start_time": "2022-04-18T18:13:22.516934",
     "status": "completed"
    },
    "tags": []
   },
   "outputs": [],
   "source": [
    "# page dimension -  612.0 792.0\n",
    "# [70.1149, 114.82839999999999, 133.95729, 132.7034]\n",
    "# string :  Background\n",
    "# page dimension -  612.0 792.0\n",
    "# [288.55386, 144.10770000000002, 324.14685, 161.98270000000002]\n",
    "# string :  INDEX\n",
    "# Training data in spacy format\n",
    "# *****************************\n",
    "# (' 3 Background The Blue Ribbon Committee was created by the Mayor to assess various city communication methods and recommend opportunities to improve communications with residents, businesses and other organizations.', {'entities': [(3, 13, 'name')]})\n",
    "# (' 2 INDEX Background Pg. 3 Purpose Pg. 3 Process .', {'entities': [(3, 8, 'address')]})"
   ]
  },
  {
   "cell_type": "code",
   "execution_count": 13,
   "id": "f6e7ac53",
   "metadata": {
    "execution": {
     "iopub.execute_input": "2022-04-18T18:13:22.711197Z",
     "iopub.status.busy": "2022-04-18T18:13:22.710492Z",
     "iopub.status.idle": "2022-04-18T18:13:22.712411Z",
     "shell.execute_reply": "2022-04-18T18:13:22.713036Z",
     "shell.execute_reply.started": "2022-04-11T16:35:29.609712Z"
    },
    "papermill": {
     "duration": 0.069082,
     "end_time": "2022-04-18T18:13:22.713200",
     "exception": false,
     "start_time": "2022-04-18T18:13:22.644118",
     "status": "completed"
    },
    "tags": []
   },
   "outputs": [],
   "source": [
    "# nlp = spacy.load('en_core_web_sm')\n",
    "# outpath=r'/kaggle/input/sample-pdf/D8communications.pdf'\n",
    "# doc = fitz.open(outpath)  # any supported document type\n",
    "# page_no=3\n",
    "# page = doc[page_no-1]\n",
    "\n",
    "# x1,y1,x2,y2=(72.1149,661.2966,131.95729,675.1716)\n",
    "\n",
    "# rect = [float(x1)-2, 792 - float(y2)-2, float(x2)+2, 792 - float(y1)+2]\n",
    "# print(rect)\n",
    "# labelled_text = page.get_textbox(rect)\n",
    "# string = re.sub('[^0-9a-zA-Z@?|\\/<>.,()&^%$#!]+', ' ', labelled_text)\n",
    "# print('string : ', string)\n",
    "\n",
    "# fulltext = page.get_text()\n",
    "# doc = nlp(fulltext)\n",
    "\n",
    "# sentences = []\n",
    "# for sent in doc.sents:\n",
    "#             if string.strip() in sent.text:\n",
    "#                 text = re.sub('[^0-9a-zA-Z@?|\\/<>.,()&^%$#!]+', ' ', sent.text)\n",
    "\n",
    "#         res = re.search(string.strip(), text)\n",
    "\n",
    "#         entities = []\n",
    "#         entities.append((res.start(),res.end(),label))\n",
    "\n",
    "#         train_data.append((text,{'entities':entities}))\n",
    "\n"
   ]
  },
  {
   "cell_type": "code",
   "execution_count": 14,
   "id": "91504e47",
   "metadata": {
    "execution": {
     "iopub.execute_input": "2022-04-18T18:13:22.840793Z",
     "iopub.status.busy": "2022-04-18T18:13:22.840099Z",
     "iopub.status.idle": "2022-04-18T18:13:22.843007Z",
     "shell.execute_reply": "2022-04-18T18:13:22.843756Z",
     "shell.execute_reply.started": "2022-04-11T16:35:41.679947Z"
    },
    "papermill": {
     "duration": 0.068299,
     "end_time": "2022-04-18T18:13:22.843949",
     "exception": false,
     "start_time": "2022-04-18T18:13:22.775650",
     "status": "completed"
    },
    "tags": []
   },
   "outputs": [],
   "source": [
    "#doc"
   ]
  },
  {
   "cell_type": "code",
   "execution_count": 15,
   "id": "df314abf",
   "metadata": {
    "execution": {
     "iopub.execute_input": "2022-04-18T18:13:22.969444Z",
     "iopub.status.busy": "2022-04-18T18:13:22.968760Z",
     "iopub.status.idle": "2022-04-18T18:13:22.971711Z",
     "shell.execute_reply": "2022-04-18T18:13:22.972233Z",
     "shell.execute_reply.started": "2022-04-11T16:35:56.010353Z"
    },
    "papermill": {
     "duration": 0.066877,
     "end_time": "2022-04-18T18:13:22.972424",
     "exception": false,
     "start_time": "2022-04-18T18:13:22.905547",
     "status": "completed"
    },
    "tags": []
   },
   "outputs": [],
   "source": [
    "# sentences = []\n",
    "# for sent in doc.sents:\n",
    "#     if string.strip() in sent.text:\n",
    "#         text = re.sub('[^0-9a-zA-Z@?|\\/<>.,()&^%$#!]+', ' ', sent.text)"
   ]
  },
  {
   "cell_type": "code",
   "execution_count": 16,
   "id": "b9d21b38",
   "metadata": {
    "execution": {
     "iopub.execute_input": "2022-04-18T18:13:23.096998Z",
     "iopub.status.busy": "2022-04-18T18:13:23.096298Z",
     "iopub.status.idle": "2022-04-18T18:13:23.099784Z",
     "shell.execute_reply": "2022-04-18T18:13:23.100370Z",
     "shell.execute_reply.started": "2022-04-11T16:39:04.736143Z"
    },
    "papermill": {
     "duration": 0.066975,
     "end_time": "2022-04-18T18:13:23.100567",
     "exception": false,
     "start_time": "2022-04-18T18:13:23.033592",
     "status": "completed"
    },
    "tags": []
   },
   "outputs": [],
   "source": [
    "# k=nlp(\"he             kenny\")\n",
    "# for sent in k.sents:\n",
    "#     print(sent)"
   ]
  },
  {
   "cell_type": "code",
   "execution_count": 17,
   "id": "c928ea55",
   "metadata": {
    "execution": {
     "iopub.execute_input": "2022-04-18T18:13:23.229680Z",
     "iopub.status.busy": "2022-04-18T18:13:23.228954Z",
     "iopub.status.idle": "2022-04-18T18:13:23.233800Z",
     "shell.execute_reply": "2022-04-18T18:13:23.232986Z",
     "shell.execute_reply.started": "2022-04-11T15:09:24.391421Z"
    },
    "papermill": {
     "duration": 0.071577,
     "end_time": "2022-04-18T18:13:23.233953",
     "exception": false,
     "start_time": "2022-04-18T18:13:23.162376",
     "status": "completed"
    },
    "tags": []
   },
   "outputs": [],
   "source": [
    "# text"
   ]
  },
  {
   "cell_type": "code",
   "execution_count": 18,
   "id": "5c9d6b69",
   "metadata": {
    "execution": {
     "iopub.execute_input": "2022-04-18T18:13:23.359485Z",
     "iopub.status.busy": "2022-04-18T18:13:23.358781Z",
     "iopub.status.idle": "2022-04-18T18:13:23.361557Z",
     "shell.execute_reply": "2022-04-18T18:13:23.362101Z",
     "shell.execute_reply.started": "2022-04-11T15:09:31.9599Z"
    },
    "papermill": {
     "duration": 0.066841,
     "end_time": "2022-04-18T18:13:23.362264",
     "exception": false,
     "start_time": "2022-04-18T18:13:23.295423",
     "status": "completed"
    },
    "tags": []
   },
   "outputs": [],
   "source": [
    "# res = re.search(string.strip(), text)\n",
    "# res"
   ]
  },
  {
   "cell_type": "code",
   "execution_count": 19,
   "id": "88d8270a",
   "metadata": {
    "execution": {
     "iopub.execute_input": "2022-04-18T18:13:23.487714Z",
     "iopub.status.busy": "2022-04-18T18:13:23.487029Z",
     "iopub.status.idle": "2022-04-18T18:13:23.489787Z",
     "shell.execute_reply": "2022-04-18T18:13:23.490274Z",
     "shell.execute_reply.started": "2022-04-11T15:12:41.311242Z"
    },
    "papermill": {
     "duration": 0.066575,
     "end_time": "2022-04-18T18:13:23.490457",
     "exception": false,
     "start_time": "2022-04-18T18:13:23.423882",
     "status": "completed"
    },
    "tags": []
   },
   "outputs": [],
   "source": [
    "# entities = []\n",
    "# entities.append((res.start(),res.end(),'p'))"
   ]
  },
  {
   "cell_type": "code",
   "execution_count": 20,
   "id": "6286f0f3",
   "metadata": {
    "execution": {
     "iopub.execute_input": "2022-04-18T18:13:23.614753Z",
     "iopub.status.busy": "2022-04-18T18:13:23.614065Z",
     "iopub.status.idle": "2022-04-18T18:13:23.617285Z",
     "shell.execute_reply": "2022-04-18T18:13:23.617816Z",
     "shell.execute_reply.started": "2022-04-11T15:12:52.736619Z"
    },
    "papermill": {
     "duration": 0.067131,
     "end_time": "2022-04-18T18:13:23.618005",
     "exception": false,
     "start_time": "2022-04-18T18:13:23.550874",
     "status": "completed"
    },
    "tags": []
   },
   "outputs": [],
   "source": [
    "# entities"
   ]
  },
  {
   "cell_type": "code",
   "execution_count": 21,
   "id": "8bd34a37",
   "metadata": {
    "execution": {
     "iopub.execute_input": "2022-04-18T18:13:23.745104Z",
     "iopub.status.busy": "2022-04-18T18:13:23.744011Z",
     "iopub.status.idle": "2022-04-18T18:13:23.748297Z",
     "shell.execute_reply": "2022-04-18T18:13:23.747746Z",
     "shell.execute_reply.started": "2022-04-11T15:06:11.546217Z"
    },
    "papermill": {
     "duration": 0.068819,
     "end_time": "2022-04-18T18:13:23.748471",
     "exception": false,
     "start_time": "2022-04-18T18:13:23.679652",
     "status": "completed"
    },
    "tags": []
   },
   "outputs": [],
   "source": [
    "# text"
   ]
  },
  {
   "cell_type": "code",
   "execution_count": null,
   "id": "83e15a4d",
   "metadata": {
    "execution": {
     "iopub.execute_input": "2022-04-11T15:02:33.300092Z",
     "iopub.status.busy": "2022-04-11T15:02:33.299778Z",
     "iopub.status.idle": "2022-04-11T15:02:33.30711Z",
     "shell.execute_reply": "2022-04-11T15:02:33.306345Z",
     "shell.execute_reply.started": "2022-04-11T15:02:33.300061Z"
    },
    "papermill": {
     "duration": 0.060347,
     "end_time": "2022-04-18T18:13:23.871252",
     "exception": false,
     "start_time": "2022-04-18T18:13:23.810905",
     "status": "completed"
    },
    "tags": []
   },
   "outputs": [],
   "source": []
  },
  {
   "cell_type": "code",
   "execution_count": 22,
   "id": "199a841b",
   "metadata": {
    "execution": {
     "iopub.execute_input": "2022-04-18T18:13:24.000673Z",
     "iopub.status.busy": "2022-04-18T18:13:23.999963Z",
     "iopub.status.idle": "2022-04-18T18:13:24.004217Z",
     "shell.execute_reply": "2022-04-18T18:13:24.003695Z",
     "shell.execute_reply.started": "2022-04-11T16:21:02.863037Z"
    },
    "papermill": {
     "duration": 0.071245,
     "end_time": "2022-04-18T18:13:24.004380",
     "exception": false,
     "start_time": "2022-04-18T18:13:23.933135",
     "status": "completed"
    },
    "tags": []
   },
   "outputs": [],
   "source": [
    "# import spacy\n",
    "# nlp = spacy.load('en_core_web_sm')"
   ]
  },
  {
   "cell_type": "code",
   "execution_count": 23,
   "id": "46dc3990",
   "metadata": {
    "execution": {
     "iopub.execute_input": "2022-04-18T18:13:24.131955Z",
     "iopub.status.busy": "2022-04-18T18:13:24.131132Z",
     "iopub.status.idle": "2022-04-18T18:13:24.134157Z",
     "shell.execute_reply": "2022-04-18T18:13:24.133627Z",
     "shell.execute_reply.started": "2022-04-09T12:19:47.776612Z"
    },
    "papermill": {
     "duration": 0.069354,
     "end_time": "2022-04-18T18:13:24.134303",
     "exception": false,
     "start_time": "2022-04-18T18:13:24.064949",
     "status": "completed"
    },
    "tags": []
   },
   "outputs": [],
   "source": [
    "# !pip install PyPDF2\n",
    "# import PyPDF2\n",
    "# fhandle = open(r'/kaggle/input/sample-pdf/D8communications.pdf', 'rb')\n",
    "# pdfReader = PyPDF2.PdfFileReader(fhandle)\n",
    "# pagehandle = pdfReader.getPage(4)\n",
    "# print(pagehandle.extractText())"
   ]
  },
  {
   "cell_type": "code",
   "execution_count": 24,
   "id": "d92e1a4c",
   "metadata": {
    "execution": {
     "iopub.execute_input": "2022-04-18T18:13:24.262705Z",
     "iopub.status.busy": "2022-04-18T18:13:24.261834Z",
     "iopub.status.idle": "2022-04-18T18:13:24.265077Z",
     "shell.execute_reply": "2022-04-18T18:13:24.264558Z",
     "shell.execute_reply.started": "2022-04-09T12:25:37.701467Z"
    },
    "papermill": {
     "duration": 0.069553,
     "end_time": "2022-04-18T18:13:24.265223",
     "exception": false,
     "start_time": "2022-04-18T18:13:24.195670",
     "status": "completed"
    },
    "tags": []
   },
   "outputs": [],
   "source": [
    "# !pip install pdfplumber\n",
    "# import pdfplumber\n",
    "# with pdfplumber.open(r'/kaggle/input/sample-pdf/D8communications.pdf') as pdf:\n",
    "#     first_page = pdf.pages[3]\n",
    "#     print(first_page.extract_text())"
   ]
  },
  {
   "cell_type": "code",
   "execution_count": 25,
   "id": "d4d4fad0",
   "metadata": {
    "execution": {
     "iopub.execute_input": "2022-04-18T18:13:24.392207Z",
     "iopub.status.busy": "2022-04-18T18:13:24.390876Z",
     "iopub.status.idle": "2022-04-18T18:13:24.393662Z",
     "shell.execute_reply": "2022-04-18T18:13:24.394182Z",
     "shell.execute_reply.started": "2022-04-09T12:25:49.584635Z"
    },
    "papermill": {
     "duration": 0.068194,
     "end_time": "2022-04-18T18:13:24.394388",
     "exception": false,
     "start_time": "2022-04-18T18:13:24.326194",
     "status": "completed"
    },
    "tags": []
   },
   "outputs": [],
   "source": [
    "# !pip install pytesseract"
   ]
  },
  {
   "cell_type": "code",
   "execution_count": 26,
   "id": "b48547db",
   "metadata": {
    "execution": {
     "iopub.execute_input": "2022-04-18T18:13:24.522318Z",
     "iopub.status.busy": "2022-04-18T18:13:24.521299Z",
     "iopub.status.idle": "2022-04-18T18:13:24.524285Z",
     "shell.execute_reply": "2022-04-18T18:13:24.523665Z",
     "shell.execute_reply.started": "2022-04-09T14:49:10.656812Z"
    },
    "papermill": {
     "duration": 0.068778,
     "end_time": "2022-04-18T18:13:24.524454",
     "exception": false,
     "start_time": "2022-04-18T18:13:24.455676",
     "status": "completed"
    },
    "tags": []
   },
   "outputs": [],
   "source": [
    "# #!pip install pdf2image\n",
    "# !pip install poppler"
   ]
  },
  {
   "cell_type": "code",
   "execution_count": 27,
   "id": "d9bfe634",
   "metadata": {
    "execution": {
     "iopub.execute_input": "2022-04-18T18:13:24.648390Z",
     "iopub.status.busy": "2022-04-18T18:13:24.647324Z",
     "iopub.status.idle": "2022-04-18T18:13:24.650373Z",
     "shell.execute_reply": "2022-04-18T18:13:24.649790Z",
     "shell.execute_reply.started": "2022-04-09T14:57:24.756677Z"
    },
    "papermill": {
     "duration": 0.066462,
     "end_time": "2022-04-18T18:13:24.650521",
     "exception": false,
     "start_time": "2022-04-18T18:13:24.584059",
     "status": "completed"
    },
    "tags": []
   },
   "outputs": [],
   "source": [
    "# pdf2image.convert_from_path('/kaggle/input/sample-pdf/D8communications.pdf')"
   ]
  },
  {
   "cell_type": "code",
   "execution_count": 28,
   "id": "815470e9",
   "metadata": {
    "execution": {
     "iopub.execute_input": "2022-04-18T18:13:24.777026Z",
     "iopub.status.busy": "2022-04-18T18:13:24.775948Z",
     "iopub.status.idle": "2022-04-18T18:13:24.778962Z",
     "shell.execute_reply": "2022-04-18T18:13:24.778268Z",
     "shell.execute_reply.started": "2022-04-09T14:57:17.576149Z"
    },
    "papermill": {
     "duration": 0.068488,
     "end_time": "2022-04-18T18:13:24.779105",
     "exception": false,
     "start_time": "2022-04-18T18:13:24.710617",
     "status": "completed"
    },
    "tags": []
   },
   "outputs": [],
   "source": [
    "# import pdf2image\n",
    "# try:\n",
    "#     from PIL import Image\n",
    "# except ImportError:\n",
    "#     import Image\n",
    "# import pytesseract\n",
    "\n",
    "\n",
    "# def pdf_to_img(pdf_file):\n",
    "#     return pdf2image.convert_from_path(pdf_file)\n",
    "\n",
    "\n",
    "# def ocr_core(file):\n",
    "#     text = pytesseract.image_to_string(file)\n",
    "#     return text\n",
    "\n",
    "\n",
    "# def print_pages(pdf_file):\n",
    "#     images = pdf_to_img(pdf_file)\n",
    "#     for pg, img in enumerate(images):\n",
    "#         print(ocr_core(img))\n",
    "\n",
    "\n",
    "# print_pages('/kaggle/input/sample-pdf/D8communications.pdf')\n"
   ]
  },
  {
   "cell_type": "code",
   "execution_count": 29,
   "id": "0f44c795",
   "metadata": {
    "execution": {
     "iopub.execute_input": "2022-04-18T18:13:24.905306Z",
     "iopub.status.busy": "2022-04-18T18:13:24.904286Z",
     "iopub.status.idle": "2022-04-18T18:13:24.908448Z",
     "shell.execute_reply": "2022-04-18T18:13:24.909009Z"
    },
    "papermill": {
     "duration": 0.068561,
     "end_time": "2022-04-18T18:13:24.909189",
     "exception": false,
     "start_time": "2022-04-18T18:13:24.840628",
     "status": "completed"
    },
    "tags": []
   },
   "outputs": [],
   "source": [
    "# import requests\n",
    "# import fitz\n",
    "# import io\n",
    "\n",
    "# #URL = 'https://buildmedia.readthedocs.org/media/pdf/pdfminer-docs/latest/pdfminer-docs.pdf'\n",
    "# URL = 'https://redactable-devox-stage.s3.us-east-2.amazonaws.com/tenants/41d9e109-693b-444c-aa18-e5891bc6550b/original/1a7c0e5d-3237-4ca9-9e3d-89e707245ac6/D8communications.pdf'\n",
    "\n",
    "\n",
    "# res = requests.get(URL)\n",
    "# filestream = io.BytesIO(res.content)\n",
    "# #res.content\n",
    "# filestream\n",
    "# doc = fitz.Document(stream=filestream)\n",
    "# page1 = doc.loadPage(3)\n",
    "# page1text = page1.getText(\"text\").encode(\"utf-8\").decode(\"utf-8\")\n",
    "# print(page1text)"
   ]
  },
  {
   "cell_type": "code",
   "execution_count": 30,
   "id": "fd4de2b5",
   "metadata": {
    "execution": {
     "iopub.execute_input": "2022-04-18T18:13:25.034567Z",
     "iopub.status.busy": "2022-04-18T18:13:25.033298Z",
     "iopub.status.idle": "2022-04-18T18:13:25.037866Z",
     "shell.execute_reply": "2022-04-18T18:13:25.038463Z",
     "shell.execute_reply.started": "2022-04-09T07:04:56.590103Z"
    },
    "papermill": {
     "duration": 0.068812,
     "end_time": "2022-04-18T18:13:25.038661",
     "exception": false,
     "start_time": "2022-04-18T18:13:24.969849",
     "status": "completed"
    },
    "tags": []
   },
   "outputs": [],
   "source": [
    "# import requests\n",
    "# import fitz\n",
    "\n",
    "# #URL = 'https://buildmedia.readthedocs.org/media/pdf/pdfminer-docs/latest/pdfminer-docs.pdf'\n",
    "# URL = 'https://redactable-devox-stage.s3.us-east-2.amazonaws.com/tenants/41d9e109-693b-444c-aa18-e5891bc6550b/original/1a7c0e5d-3237-4ca9-9e3d-89e707245ac6/D8communications.pdf'\n",
    "\n",
    "\n",
    "# res = requests.get(URL)\n",
    "# doc = fitz.open(stream=res.content,filetype=\"pdf\")\n",
    "# page1 = doc.loadPage(3)\n",
    "# page1text = page1.getText(\"text\")\n",
    "# #rect = (72.1149,661.2966,131.95729,675.1716)\n",
    "# rect=(72.10812377929688, 116.13427734375, 133.97142028808594, 146.4227294921875)\n",
    "# labelled_text = page1.get_textbox(rect)\n",
    "# print(labelled_text.strip())\n",
    "\n",
    "# fulltext = page1.get_text()\n",
    "# print(fulltext)\n",
    "# doc = nlp(fulltext)\n",
    "# sentences = []\n",
    "# for sent in doc.sents:\n",
    "#     if labelled_text in sent.text:\n",
    "#         text = sent.text\n",
    "#         print(text)\n",
    "# #print(page1text)"
   ]
  },
  {
   "cell_type": "code",
   "execution_count": 31,
   "id": "463d140c",
   "metadata": {
    "execution": {
     "iopub.execute_input": "2022-04-18T18:13:25.164595Z",
     "iopub.status.busy": "2022-04-18T18:13:25.163592Z",
     "iopub.status.idle": "2022-04-18T18:13:25.167090Z",
     "shell.execute_reply": "2022-04-18T18:13:25.167742Z",
     "shell.execute_reply.started": "2022-04-08T16:42:57.6659Z"
    },
    "papermill": {
     "duration": 0.0676,
     "end_time": "2022-04-18T18:13:25.167928",
     "exception": false,
     "start_time": "2022-04-18T18:13:25.100328",
     "status": "completed"
    },
    "tags": []
   },
   "outputs": [],
   "source": [
    "#res.content"
   ]
  },
  {
   "cell_type": "code",
   "execution_count": 32,
   "id": "44ed1ea4",
   "metadata": {
    "execution": {
     "iopub.execute_input": "2022-04-18T18:13:25.297537Z",
     "iopub.status.busy": "2022-04-18T18:13:25.296748Z",
     "iopub.status.idle": "2022-04-18T18:13:25.298459Z",
     "shell.execute_reply": "2022-04-18T18:13:25.298991Z",
     "shell.execute_reply.started": "2022-04-08T16:48:05.672392Z"
    },
    "papermill": {
     "duration": 0.070672,
     "end_time": "2022-04-18T18:13:25.299173",
     "exception": false,
     "start_time": "2022-04-18T18:13:25.228501",
     "status": "completed"
    },
    "tags": []
   },
   "outputs": [],
   "source": [
    "# import fitz\n",
    "# # mem_area=\n",
    "# # doc = fitz.open(stream=mem_area, filetype=\"pdf\")\n",
    "\n",
    "# import requests\n",
    "\n",
    "# URL = 'https://redactable-devox-stage.s3.us-east-2.amazonaws.com/tenants/41d9e109-693b-444c-aa18-e5891bc6550b/original/1a7c0e5d-3237-4ca9-9e3d-89e707245ac6/D8communications.pdf'\n",
    "\n",
    "# #res = requests.get(URL)\n",
    "# doc=fitz.open(\"/kaggle/input/sample-pdf/D8communications.pdf\")\n",
    "# #doc = fitz.open(stream=res.content,filetype=\"pdf\")\n",
    "# page1 = doc.loadPage(4)\n",
    "# # page1text = page1.getText(\"text\")\n",
    "# # print(page1text)\n",
    "# blocks = page1.getText(\"blocks\")\n",
    "# blocks.sort(key=lambda block: block[1])  # sort vertically ascending\n",
    "\n",
    "# for b in blocks:\n",
    "#     print(b[4])\n"
   ]
  },
  {
   "cell_type": "code",
   "execution_count": 33,
   "id": "9fc13f4a",
   "metadata": {
    "execution": {
     "iopub.execute_input": "2022-04-18T18:13:25.424894Z",
     "iopub.status.busy": "2022-04-18T18:13:25.423435Z",
     "iopub.status.idle": "2022-04-18T18:13:25.426872Z",
     "shell.execute_reply": "2022-04-18T18:13:25.427424Z",
     "shell.execute_reply.started": "2022-04-08T16:48:13.086323Z"
    },
    "papermill": {
     "duration": 0.066351,
     "end_time": "2022-04-18T18:13:25.427604",
     "exception": false,
     "start_time": "2022-04-18T18:13:25.361253",
     "status": "completed"
    },
    "tags": []
   },
   "outputs": [],
   "source": [
    "# # page = doc[1]\n",
    "# words = page.get_text(\"words\")\n",
    "# #print(words)\n",
    "# rect = (72.1149,661.2966,131.95729,675.1716)\n",
    "\n",
    "# labelled_text = page.get_textbox(rect)\n",
    "# # labelled_text"
   ]
  },
  {
   "cell_type": "markdown",
   "id": "e56cd9b1",
   "metadata": {
    "papermill": {
     "duration": 0.070747,
     "end_time": "2022-04-18T18:13:25.565579",
     "exception": false,
     "start_time": "2022-04-18T18:13:25.494832",
     "status": "completed"
    },
    "tags": []
   },
   "source": [
    "pip install PyPDF2"
   ]
  },
  {
   "cell_type": "code",
   "execution_count": null,
   "id": "acbf70a8",
   "metadata": {
    "papermill": {
     "duration": 0.060125,
     "end_time": "2022-04-18T18:13:25.685844",
     "exception": false,
     "start_time": "2022-04-18T18:13:25.625719",
     "status": "completed"
    },
    "tags": []
   },
   "outputs": [],
   "source": []
  },
  {
   "cell_type": "code",
   "execution_count": 34,
   "id": "073646f1",
   "metadata": {
    "execution": {
     "iopub.execute_input": "2022-04-18T18:13:25.809887Z",
     "iopub.status.busy": "2022-04-18T18:13:25.809190Z",
     "iopub.status.idle": "2022-04-18T18:13:25.812070Z",
     "shell.execute_reply": "2022-04-18T18:13:25.812665Z",
     "shell.execute_reply.started": "2022-03-18T16:48:58.370268Z"
    },
    "papermill": {
     "duration": 0.066423,
     "end_time": "2022-04-18T18:13:25.812846",
     "exception": false,
     "start_time": "2022-04-18T18:13:25.746423",
     "status": "completed"
    },
    "tags": []
   },
   "outputs": [],
   "source": [
    "# import pandas as pd\n",
    "# h={'step': 0, 'type': 'string', 'amount': 0.0, 'nameOrig': 'C1231006815', 'oldbalanceOrig': 0.0, 'newbalanceOrig': 0.0, 'nameDest': 'M1979787155', 'oldbalanceDest': 0.0, 'newbalanceDest': 0.0}\n",
    "# df=pd.DataFrame([h])"
   ]
  },
  {
   "cell_type": "code",
   "execution_count": 35,
   "id": "aabb92be",
   "metadata": {
    "execution": {
     "iopub.execute_input": "2022-04-18T18:13:25.938900Z",
     "iopub.status.busy": "2022-04-18T18:13:25.937597Z",
     "iopub.status.idle": "2022-04-18T18:13:25.941100Z",
     "shell.execute_reply": "2022-04-18T18:13:25.941776Z",
     "shell.execute_reply.started": "2022-04-09T17:21:26.021615Z"
    },
    "papermill": {
     "duration": 0.06877,
     "end_time": "2022-04-18T18:13:25.941958",
     "exception": false,
     "start_time": "2022-04-18T18:13:25.873188",
     "status": "completed"
    },
    "tags": []
   },
   "outputs": [],
   "source": [
    "#df"
   ]
  },
  {
   "cell_type": "code",
   "execution_count": null,
   "id": "efc4b5c7",
   "metadata": {
    "papermill": {
     "duration": 0.059472,
     "end_time": "2022-04-18T18:13:26.062579",
     "exception": false,
     "start_time": "2022-04-18T18:13:26.003107",
     "status": "completed"
    },
    "tags": []
   },
   "outputs": [],
   "source": []
  }
 ],
 "metadata": {
  "kernelspec": {
   "display_name": "Python 3",
   "language": "python",
   "name": "python3"
  },
  "language_info": {
   "codemirror_mode": {
    "name": "ipython",
    "version": 3
   },
   "file_extension": ".py",
   "mimetype": "text/x-python",
   "name": "python",
   "nbconvert_exporter": "python",
   "pygments_lexer": "ipython3",
   "version": "3.7.12"
  },
  "papermill": {
   "default_parameters": {},
   "duration": 20.974975,
   "end_time": "2022-04-18T18:13:26.740911",
   "environment_variables": {},
   "exception": null,
   "input_path": "__notebook__.ipynb",
   "output_path": "__notebook__.ipynb",
   "parameters": {},
   "start_time": "2022-04-18T18:13:05.765936",
   "version": "2.3.3"
  }
 },
 "nbformat": 4,
 "nbformat_minor": 5
}
