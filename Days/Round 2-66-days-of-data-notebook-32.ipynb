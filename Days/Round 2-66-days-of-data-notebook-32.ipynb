{
 "cells": [
  {
   "cell_type": "code",
   "execution_count": 1,
   "id": "ce1bc1a3",
   "metadata": {
    "_cell_guid": "b1076dfc-b9ad-4769-8c92-a6c4dae69d19",
    "_uuid": "8f2839f25d086af736a60e9eeb907d3b93b6e0e5",
    "execution": {
     "iopub.execute_input": "2022-04-12T18:01:20.977359Z",
     "iopub.status.busy": "2022-04-12T18:01:20.976357Z",
     "iopub.status.idle": "2022-04-12T18:01:20.992905Z",
     "shell.execute_reply": "2022-04-12T18:01:20.993455Z",
     "shell.execute_reply.started": "2022-04-12T14:12:25.248687Z"
    },
    "papermill": {
     "duration": 0.08904,
     "end_time": "2022-04-12T18:01:20.993925",
     "exception": false,
     "start_time": "2022-04-12T18:01:20.904885",
     "status": "completed"
    },
    "tags": []
   },
   "outputs": [
    {
     "name": "stdout",
     "output_type": "stream",
     "text": [
      "/kaggle/input/sample-pdf/D8communications.pdf\n"
     ]
    }
   ],
   "source": [
    "# This Python 3 environment comes with many helpful analytics libraries installed\n",
    "# It is defined by the kaggle/python Docker image: https://github.com/kaggle/docker-python\n",
    "# For example, here's several helpful packages to load\n",
    "\n",
    "import numpy as np # linear algebra\n",
    "import pandas as pd # data processing, CSV file I/O (e.g. pd.read_csv)\n",
    "\n",
    "# Input data files are available in the read-only \"../input/\" directory\n",
    "# For example, running this (by clicking run or pressing Shift+Enter) will list all files under the input directory\n",
    "\n",
    "import os\n",
    "for dirname, _, filenames in os.walk('/kaggle/input'):\n",
    "    for filename in filenames:\n",
    "        print(os.path.join(dirname, filename))\n",
    "\n",
    "# You can write up to 20GB to the current directory (/kaggle/working/) that gets preserved as output when you create a version using \"Save & Run All\" \n",
    "# You can also write temporary files to /kaggle/temp/, but they won't be saved outside of the current session"
   ]
  },
  {
   "cell_type": "markdown",
   "id": "670e5ffd",
   "metadata": {
    "papermill": {
     "duration": 0.059784,
     "end_time": "2022-04-12T18:01:21.112923",
     "exception": false,
     "start_time": "2022-04-12T18:01:21.053139",
     "status": "completed"
    },
    "tags": []
   },
   "source": [
    "# **Start Date: 12/3/2022**"
   ]
  },
  {
   "cell_type": "markdown",
   "id": "fccf97c0",
   "metadata": {
    "papermill": {
     "duration": 0.059162,
     "end_time": "2022-04-12T18:01:21.230926",
     "exception": false,
     "start_time": "2022-04-12T18:01:21.171764",
     "status": "completed"
    },
    "tags": []
   },
   "source": [
    "# **Day 1:** \n",
    "<br>dataquest -> stats -> probability-> estimating probability\n",
    "1. out come is nothing but o/p of an experiment\n",
    "ex: whatever u get after rolling a dice -> it can be any number\n",
    "2. event can have more than one outcome\n",
    "- e.x: The event that we'll get an odd number when we roll a six-sided die — this event includes the outcomes 1, 3, and 5.\n",
    "- an event can be 0 as well.\n",
    "- We always assign probabilities to events, not outcomes, even if the event includes only one outcome.\n",
    "- P(E) =1/total number of possible outcomes, P(E) probability of an event happening.\n",
    "- but above formula doesn't work always, especially when there are more than one outcome\n",
    "    - P(E)=number of successful outcomes/total number of possible outcomes\n",
    "- incase of a biased situation \n",
    "  - let's say a die has 6 - 3 times which is 1,6,3,5,6,6\n",
    "    we will consider 6 as 3 times not 1.\n",
    "    possible outcome-> 1,3,5,6,6,6\n",
    "    prob(6)=3/6\n",
    "    prob(3)=1/6\n",
    "    prob(2)=0/6\n",
    "    If we didn't treat each 6 differently and said it doesn't matter which side a 6 is on, \n",
    "    <br>we'd be forced to conclude the only possible outcomes are 1, 3, 5 and 6. We can definitely         <br>frame the problem like that, but the formula above won't work anymore — we see below P(6) <br>becomes the same as P(3), but, intuitively, P(6) should be higher than P(3) since the die has 6 on     <br>three of its sides:\n"
   ]
  },
  {
   "cell_type": "markdown",
   "id": "8ac92a42",
   "metadata": {
    "papermill": {
     "duration": 0.059313,
     "end_time": "2022-04-12T18:01:21.349113",
     "exception": false,
     "start_time": "2022-04-12T18:01:21.289800",
     "status": "completed"
    },
    "tags": []
   },
   "source": [
    "Estimating Probabilities Conclusion\n",
    "- emperical/ experimental probability\n",
    "  - probability achieved by experimenting / by doing the same event multiple times.\n",
    "  - Generally, for any event E (like a coin landing heads up), we can find its empirical probability   \n",
    "     by using the following formula: \n",
    "     •P (E) =number of times event E happened/ number of times we repeated the experiment   \n",
    " - Generally, the empirical probability of an event (a coin landing heads up, getting a 5 when weroll a die) approaches the true probability value as the number of trials of the randomexperiment (a coin toss, the rolling of a die) increases without bound.\n",
    "- When we calculate the probability of an event under the assumption that the outcomes have equal chances of occurring, we say that we're calculating the **theoretical probability** of an event.\n",
    "   - P(E)=number of successful outcomes/total number of possible outcomes\n",
    "\n"
   ]
  },
  {
   "cell_type": "markdown",
   "id": "74253f06",
   "metadata": {
    "papermill": {
     "duration": 0.061307,
     "end_time": "2022-04-12T18:01:21.470560",
     "exception": false,
     "start_time": "2022-04-12T18:01:21.409253",
     "status": "completed"
    },
    "tags": []
   },
   "source": [
    "# **Day 2**\n",
    "<br>dataquest-> stats -> intro to probability -> probability rules\n",
    "<br>In probability theory, the set of all possible outcomes is called a sample space. A sample space is often denoted by the capital Greek letter Ω (read \"omega\"). This is how we represent the sample space of a die roll:\n",
    "\n",
    "Ω = {1,2,3,4,5,6}\n",
    "-    The probability of any event ranges between 0 and 1: 0≤ P(Event) ≤1\n",
    "- To calculate P(A or B), we can also use the formula below, which is sometimes called the addition rule: P(A or B) = P(A) + P(B)\n",
    "  - Sample space ={ 1,2,3,4,5,6} \n",
    "  - P(2 or 5) = 2/6\n",
    "\n",
    "- P(C or D) = P(C) + P(D) - P(C and D)\n",
    "   - e.x : Sample_space ={2,4,6} + { 4,5,6} - {4/6}\n",
    "      P( even number or number greater than 3) = ( (3/6) + (3/6) )- (2/6) = 4/6\n",
    "- Events that don't intersect are called mutually exclusive.\n",
    "  - e.x: Getting a 5 (event one) and getting a 3 (event two) when we roll a regular six-sided die — it's  impossible to get both a 5 and 3.\n",
    "- Events that intersect are called mutually non-exclusive.\n",
    "  - Getting a number greater than 2 (event one) and getting an odd number (event two) when we roll a regular six-sided die — we could get a 5, which is both greater than 2 (event one) and odd (event two).\n",
    "- unioun -> A or B, intersection -> A and B"
   ]
  },
  {
   "cell_type": "markdown",
   "id": "2a2519cc",
   "metadata": {
    "papermill": {
     "duration": 0.058901,
     "end_time": "2022-04-12T18:01:21.592916",
     "exception": false,
     "start_time": "2022-04-12T18:01:21.534015",
     "status": "completed"
    },
    "tags": []
   },
   "source": [
    "# Day 3 and 4\n",
    "dataquest -> stats -> probabilities -> solving complex probabilities\n",
    "- This is the same result we got from our previous approach. In more general terms, the multiplication rule says that for two events E1 and E2, the probability that both event E1 and E2 happen can be found by multiplying the probability of E1 by the probability of E2:\n",
    "    - P(E1 ∩ E2) = P(E1) × P(E2)\n",
    "    - Events that don't influence each other's probability are called independent events. If H1 happens, P(H2) stays the same, so H1 and H2 are independent. The multiplication rule we learned only works for independent events.\n",
    "    "
   ]
  },
  {
   "cell_type": "markdown",
   "id": "d7b5d010",
   "metadata": {
    "papermill": {
     "duration": 0.058642,
     "end_time": "2022-04-12T18:01:21.714103",
     "exception": false,
     "start_time": "2022-04-12T18:01:21.655461",
     "status": "completed"
    },
    "tags": []
   },
   "source": [
    "# Day 5\n",
    "- When we replace the cards after drawing, we say that we're sampling with replacement. When we don't put the cards back, we're sampling without replacement. \n"
   ]
  },
  {
   "cell_type": "markdown",
   "id": "5bf6294c",
   "metadata": {
    "papermill": {
     "duration": 0.059877,
     "end_time": "2022-04-12T18:01:21.834701",
     "exception": false,
     "start_time": "2022-04-12T18:01:21.774824",
     "status": "completed"
    },
    "tags": []
   },
   "source": [
    "# Day6\n",
    "dataquest-> prob and stats -> probability fundamentals -> permutation and combinations\n",
    "Generally, if we have an experiment E1 (like flipping a coin) with a outcomes, followed by an experiment E2 (like rolling a die) with b outcomes, then the total number of outcomes for the composite experiment E1E2 can be found by multiplying a with b:\n",
    "\n",
    "Number of outcomes = a * b"
   ]
  },
  {
   "cell_type": "markdown",
   "id": "4429f63d",
   "metadata": {
    "papermill": {
     "duration": 0.060646,
     "end_time": "2022-04-12T18:01:21.955418",
     "exception": false,
     "start_time": "2022-04-12T18:01:21.894772",
     "status": "completed"
    },
    "tags": []
   },
   "source": [
    "# Day 7\n",
    "dataquest-> prob and stats -> probability fundamentals -> permutation and combinations <br>\n",
    "More generally, if we have an experiment E1 with a outcomes, followed by an experiment E2 with b outcomes, followed by an experiment En with z outcomes, the total number of outcomes for the composite experiment E1E2 ... En can be found by multiplying their individual outcomes:\n",
    "\n",
    "Number of outcomes= a * b * … * z"
   ]
  },
  {
   "cell_type": "markdown",
   "id": "79a434e7",
   "metadata": {
    "papermill": {
     "duration": 0.058726,
     "end_time": "2022-04-12T18:01:22.078210",
     "exception": false,
     "start_time": "2022-04-12T18:01:22.019484",
     "status": "completed"
    },
    "tags": []
   },
   "source": [
    "# Day 8\n",
    "dataquest-> prob and stats -> probability fundamentals -> permutation and combinations <br>\n",
    "permutations= n*(n-1)*(n-2)*....*2*1\n"
   ]
  },
  {
   "cell_type": "markdown",
   "id": "a3c0bcfa",
   "metadata": {
    "papermill": {
     "duration": 0.060731,
     "end_time": "2022-04-12T18:01:22.198022",
     "exception": false,
     "start_time": "2022-04-12T18:01:22.137291",
     "status": "completed"
    },
    "tags": []
   },
   "source": [
    "# Day 9\n",
    "dataquest-> prob and stats -> probability fundamentals -> permutation and combinations\n",
    "- in permutation order of the individual element in the arranement matters.\n",
    "   - for e.x: 9821 is different than 9281\n",
    "   - Permutations =n!  --> sample without replacement-> we are not putting back the sampled data.\n",
    "   - On the last screen, we learned to use the formula below to calculate permutations when we're sampling without replacement and taking only k objects from a group of n objects:\n",
    "   npk=n!/(n-k)!"
   ]
  },
  {
   "cell_type": "markdown",
   "id": "6a617c7a",
   "metadata": {
    "papermill": {
     "duration": 0.058817,
     "end_time": "2022-04-12T18:01:22.317403",
     "exception": false,
     "start_time": "2022-04-12T18:01:22.258586",
     "status": "completed"
    },
    "tags": []
   },
   "source": [
    "# Day 10\n",
    "dataquest-> prob and stats -> probability fundamentals -> permutation and combinations\n",
    "- More generally, if the order of the elements in an arrangement doesn't matter, the arrangement is called a combination.\n",
    "- e.x: cards in a deck \n",
    "- nCk = n! / ((n-k)!*k!)"
   ]
  },
  {
   "cell_type": "markdown",
   "id": "dde13491",
   "metadata": {
    "papermill": {
     "duration": 0.058887,
     "end_time": "2022-04-12T18:01:22.433752",
     "exception": false,
     "start_time": "2022-04-12T18:01:22.374865",
     "status": "completed"
    },
    "tags": []
   },
   "source": [
    "# Day 11\n",
    "dataquest-> prob and stats -> probability fundamentals -> permutation and combinations\n",
    "- solved 1 probability problem.\n"
   ]
  },
  {
   "cell_type": "markdown",
   "id": "18da7957",
   "metadata": {
    "papermill": {
     "duration": 0.059336,
     "end_time": "2022-04-12T18:01:22.553615",
     "exception": false,
     "start_time": "2022-04-12T18:01:22.494279",
     "status": "completed"
    },
    "tags": []
   },
   "source": [
    "# Day 12\n",
    "dataquest-> prob and stats -> probability fundamentals -> permutation and combinations\n",
    "- finished probability and permutations by revising them.\n",
    "- If we have an experiment E1 (like flipping a coin) with a outcomes, followed by an experiment E2(like rolling a die) with b outcomes, then the total number of outcomes for the compositeexperiment E1E2 can be found by multiplying a with b (this is known as the rule of product):\n",
    "  - number of outcomes = a*b\n",
    "- If we have an experiment E1 with a outcomes, followed by an experiment E2 with b outcomes,followed by an experiment En with z outcomes, the total number of outcomes for the compositeexperiment E1E2 ... En can be found by multiplying their individual outcomes:\n",
    "   - number of outcomes = a*b* ... *z\n",
    "- There are two kinds of arrangements:\n",
    "   - •Arrangements where the order matters, which we call permutations.\n",
    "   - •Arrangements where the order doesn't matter, which we call combination\n",
    "- To find the number of permutations when we're sampling without replacement, we can use theformula:\n",
    "  - permutation = n!\n",
    "- To find the number of permutations when we're sampling without replacement and taking only kobjects from a group of n objects, we can use the formula:\n",
    "  - nPk = n!/(n-k)!\n",
    "- To find the number of combinations when we're sampling without replacement and taking only kobjects from a group of n objects, we can use the formula\n",
    "  - nCk = n! / ((n-k)!*k!)"
   ]
  },
  {
   "cell_type": "markdown",
   "id": "f85d125c",
   "metadata": {
    "papermill": {
     "duration": 0.057066,
     "end_time": "2022-04-12T18:01:22.670898",
     "exception": false,
     "start_time": "2022-04-12T18:01:22.613832",
     "status": "completed"
    },
    "tags": []
   },
   "source": [
    "# Day 13\n",
    "dataquest-> prob and stats -> probability fundamentals -> conditional probabilities\n",
    "- first 2 slides -> mainly the recap of old chapter(above one).\n"
   ]
  },
  {
   "cell_type": "markdown",
   "id": "c00dd324",
   "metadata": {
    "papermill": {
     "duration": 0.061333,
     "end_time": "2022-04-12T18:01:22.791451",
     "exception": false,
     "start_time": "2022-04-12T18:01:22.730118",
     "status": "completed"
    },
    "tags": []
   },
   "source": [
    "# Day 14\n",
    "dataquest-> prob and stats -> probability fundamentals -> conditional probabilities\n",
    "<br>slide 4 completed\n",
    "<br>conditional probabilities\n",
    "- probabilities with condition\n",
    "- P(5)=What is the probability of getting a 5? -> normal probability\n",
    "- P(5 | odd) =What is the probability of getting a 5 given the die showed an odd number? -> conditional prob.\n",
    "\n"
   ]
  },
  {
   "cell_type": "markdown",
   "id": "12facc46",
   "metadata": {
    "papermill": {
     "duration": 0.058908,
     "end_time": "2022-04-12T18:01:22.911260",
     "exception": false,
     "start_time": "2022-04-12T18:01:22.852352",
     "status": "completed"
    },
    "tags": []
   },
   "source": [
    "# Day 15\n",
    "dataquest-> prob and stats -> probability fundamentals -> conditional probabilities\n",
    "- on slide 5 not done yet.\n",
    "\n",
    "Say we roll a fair six-sided die and want to find the probability of getting an odd number, given the die showed a number greater than 1 after landing. Using probability notation, we want to find P(A|B) where:\n",
    "\n",
    "- A is the event that the number is odd: A = {1, 3, 5}\n",
    "- B is the event that the number is greater than 1: B = {2, 3, 4, 5, 6}\n",
    "- P(A/B)=number of succesfull outcomes / total number of outcomes.\n"
   ]
  },
  {
   "cell_type": "markdown",
   "id": "8df08442",
   "metadata": {
    "papermill": {
     "duration": 0.060529,
     "end_time": "2022-04-12T18:01:23.028814",
     "exception": false,
     "start_time": "2022-04-12T18:01:22.968285",
     "status": "completed"
    },
    "tags": []
   },
   "source": [
    "# Day 16 and 17\n",
    "dataquest-> prob and stats -> probability fundamentals -> conditional probabilities\n",
    "\n",
    "on slide 6 not done yet."
   ]
  },
  {
   "cell_type": "markdown",
   "id": "e199d06c",
   "metadata": {
    "papermill": {
     "duration": 0.059817,
     "end_time": "2022-04-12T18:01:23.146427",
     "exception": false,
     "start_time": "2022-04-12T18:01:23.086610",
     "status": "completed"
    },
    "tags": []
   },
   "source": [
    "# Day 18\n",
    "dataquest-> prob and stats -> probability fundamentals -> conditional probabilities\n",
    "<br>slide 5 code half done"
   ]
  },
  {
   "cell_type": "markdown",
   "id": "324f2eca",
   "metadata": {
    "papermill": {
     "duration": 0.059661,
     "end_time": "2022-04-12T18:01:23.264603",
     "exception": false,
     "start_time": "2022-04-12T18:01:23.204942",
     "status": "completed"
    },
    "tags": []
   },
   "source": [
    "# Day 19\n",
    "- The number of elements in a set is called the cardinal of the set. \n",
    "  Ω is a set, and the cardinal of \n",
    "   Ω = { 2,3,4,5,6}\n",
    "   cardinal(Ω)=5\n",
    "- P(A | B) = card(A ∩ B) / card(B)\n",
    "- Say we roll a fair six-sided die and want to find the probability of getting an odd number, given the die showed a number greater than 1 after landing. Using probability notation, we want to find P(A|B) where:\n",
    "    - A is the event that the number is odd: A = {1, 3, 5}\n",
    "     - B is the event that the number is greater than 1: B = {2, 3, 4, 5, 6}\n",
    "     - total number of possible outcomes = card({2,3,4,5,6}) =5\n",
    "     - number of successful outcomes = card({3,5})= 2\n",
    "- P(A | B) = card(A ∩ B) / card(B), we can also get the same result using P(A | B) = prob(A ∩ B) / prob(B)\n",
    "\n",
    "     "
   ]
  },
  {
   "cell_type": "markdown",
   "id": "d4c74cec",
   "metadata": {
    "papermill": {
     "duration": 0.057652,
     "end_time": "2022-04-12T18:01:23.380198",
     "exception": false,
     "start_time": "2022-04-12T18:01:23.322546",
     "status": "completed"
    },
    "tags": []
   },
   "source": [
    "# Day 20\n",
    "dataquest-> prob and stats -> probability fundamentals -> conditional probabilities intermediate\n",
    "<br> slide 1 and 2\n",
    "- P( A | B ) ≠ P(A ∩ B), but rather:\n",
    "   - P(A | B) = P(A ∩ B) / P(B)\n",
    "   - P(A ∩ B) = P(A | B) ⋅ P(B)\n",
    "- Given that a customer bought a laptop, they will or will not also buy a mouse. This means we can be certain that either event (M|L) or (M^C|L) will happen:\n",
    "     - P(M | L) + P(M^C | L) = 1\n",
    "\n"
   ]
  },
  {
   "cell_type": "markdown",
   "id": "8511673a",
   "metadata": {
    "papermill": {
     "duration": 0.058745,
     "end_time": "2022-04-12T18:01:23.497395",
     "exception": false,
     "start_time": "2022-04-12T18:01:23.438650",
     "status": "completed"
    },
    "tags": []
   },
   "source": [
    "# Day 21\n",
    "dataquest-> prob and stats -> probability fundamentals -> conditional probabilities intermediate\n",
    "slide 1 and 2\n",
    "- P(A ∩ B) = P(B ∩ A)\n",
    "- multiplication rule of probability\n",
    "  -  P(A ∩ B) = P(B) ⋅ P(A | B) \n",
    "  - P(A ∩ B) = P(A) ⋅ P(B | A)\n",
    "- if P(A) and P(B) are statistically independent then \n",
    "  - P(A ∩ B) = P(A) ⋅ P(B)\n",
    "\n"
   ]
  },
  {
   "cell_type": "markdown",
   "id": "5ad978b8",
   "metadata": {
    "papermill": {
     "duration": 0.059164,
     "end_time": "2022-04-12T18:01:23.617291",
     "exception": false,
     "start_time": "2022-04-12T18:01:23.558127",
     "status": "completed"
    },
    "tags": []
   },
   "source": [
    "# Day 22\n",
    "dataquest-> prob and stats -> probability fundamentals -> conditional probabilities intermediate \n",
    "<br>slide 6\n",
    "- If events events A and B are dependent, it means the occurrence of event A changes the probability of event B and vice versa.\n",
    "   - P(A) ≠ P(A | B)\n",
    "   - P(B) ≠ P(B | A)\n",
    "   - P(A ∩ B) ≠ P(A) ⋅ P(B)\n",
    "   - formula will become P(A ∩ B) ≠ P(A) ⋅ P(B/A)\n",
    "   "
   ]
  },
  {
   "cell_type": "markdown",
   "id": "349602f4",
   "metadata": {
    "papermill": {
     "duration": 0.058045,
     "end_time": "2022-04-12T18:01:23.734187",
     "exception": false,
     "start_time": "2022-04-12T18:01:23.676142",
     "status": "completed"
    },
    "tags": []
   },
   "source": [
    "# Day 23\n",
    "dataquest-> prob and stats -> probability fundamentals -> conditional probabilities intermediate\n",
    "<br>slide 7 to last\n",
    "- To find whether three events — A, B, C — are independent or not, below conditions must hold true -\n",
    "  - P(A ∩ B) ≠ P(A) ⋅ P(B)\n",
    "  - P(A ∩ C) ≠ P(A) ⋅ P(C)\n",
    "  - P(B ∩ C) ≠ P(B) ⋅ P(C)\n",
    "  - P(A ∩ B ∩ C) ≠ P(A) ⋅ P(B) . P(C)\n",
    "- multiplication rule for conditional probability or dependent events\n",
    " - P(A ∩ B ∩ C) = P(A) ⋅ P(B | A) ⋅ P(C | A ∩ B)\n",
    " \n",
    "\n"
   ]
  },
  {
   "cell_type": "markdown",
   "id": "17106fc6",
   "metadata": {
    "papermill": {
     "duration": 0.059797,
     "end_time": "2022-04-12T18:01:23.853132",
     "exception": false,
     "start_time": "2022-04-12T18:01:23.793335",
     "status": "completed"
    },
    "tags": []
   },
   "source": [
    "# Day 24\n",
    "dataquest-> prob and stats -> probability fundamentals -> bayes theorem\n",
    "<br>slide 1\n",
    "- independent -> one event is dependent on other\n",
    "   - P(A ∩ B) = P(A) ⋅ P(B/A)\n",
    "- independent -> one event is not dependent on other.\n",
    "   - P(A ∩ B) = P(A) ⋅ P(B)\n",
    "- mutually exclusive -> both the events cannot happen at the same time.\n",
    "   - P(A ∩ B) = 0\n",
    "\n"
   ]
  },
  {
   "cell_type": "markdown",
   "id": "4c3ad618",
   "metadata": {
    "papermill": {
     "duration": 0.058135,
     "end_time": "2022-04-12T18:01:23.970470",
     "exception": false,
     "start_time": "2022-04-12T18:01:23.912335",
     "status": "completed"
    },
    "tags": []
   },
   "source": [
    "# Day 25\n",
    "dataquest-> prob and stats -> probability fundamentals -> bayes theorem\n",
    "<br>slide 2\n",
    "- If two events are exhaustive, it means they make up the whole sample space Ω\n",
    "  -  P(A) = P(A ∩ B) + P(A ∩ B^c)\n",
    "     P(A) = (P(B) * P(A/B)) +  (P(B^c) * P(A/B^c))\n",
    "     \n",
    "     "
   ]
  },
  {
   "cell_type": "markdown",
   "id": "5862f0c0",
   "metadata": {
    "papermill": {
     "duration": 0.059442,
     "end_time": "2022-04-12T18:01:24.086907",
     "exception": false,
     "start_time": "2022-04-12T18:01:24.027465",
     "status": "completed"
    },
    "tags": []
   },
   "source": [
    "# Day 26\n",
    "dataquest-> prob and stats -> probability fundamentals -> bayes theorem\n",
    "<br>slide 3 - last\n",
    "- the law of total probability\n",
    "  - P(A)  = (P(B1) * P(A/B1)) + (P(B2) * P(A/B2))+ ... + (P(Bn) * P(A/Bn)))\n",
    "  - P(A) =(summattion i=1 to n) P(Bi) ⋅ P(A|Bi)\n",
    "- Baye's theorem\n",
    "  - P(B | A) = (P(B) ⋅ P(A | B)) / (n ∑i=1 P(Bi) ⋅ P(A | Bi))\n",
    "- The probability of being infected with HIV before doing any test is called the prior probability (\"prior\" means \"before\"). The probability of being infected with HIV after testing positive is called the posterior probability (\"posterior\" means \"after\").\n",
    "\n",
    "\n",
    "  "
   ]
  },
  {
   "cell_type": "markdown",
   "id": "054abedc",
   "metadata": {
    "papermill": {
     "duration": 0.058934,
     "end_time": "2022-04-12T18:01:24.209900",
     "exception": false,
     "start_time": "2022-04-12T18:01:24.150966",
     "status": "completed"
    },
    "tags": []
   },
   "source": [
    "# Day 27\n",
    "dataquest-> prob and stats -> probability fundamentals -> naive bayes theorem\n",
    "<br>slide 1 - \n",
    "P(Spam|w1,w2,w3,w4)∝P(Spam)⋅P(w1|Spam)⋅P(w2|Spam)⋅P(w3|Spam)⋅P(w4|Spam)P(SpamC|w1,w2,w3,w4)∝P(SpamC)⋅P(w1|SpamC)⋅P(w2|SpamC)⋅P(w3|SpamC)⋅P(w4|SpamC)"
   ]
  },
  {
   "cell_type": "markdown",
   "id": "3ab8a47d",
   "metadata": {
    "papermill": {
     "duration": 0.056686,
     "end_time": "2022-04-12T18:01:24.330116",
     "exception": false,
     "start_time": "2022-04-12T18:01:24.273430",
     "status": "completed"
    },
    "tags": []
   },
   "source": [
    "# Day 28\n",
    "dataquest-> prob and stats -> probability fundamentals -> naive bayes theorem\n",
    "<br>finished.\n",
    "<br>**Summary**\n",
    "- P(Spam|w1,w2,...,wn)∝P(Spam)⋅n∏i=1P(wi|Spam)\n",
    "- P(SpamC|w1,w2,...,wn)∝P(SpamC)⋅n∏i=1P(wi|SpamC)\n",
    "- To calculate P(wi|Spam) and P(wi|SpamC), we need to use the additive smoothing technique: \n",
    "- P ( w i | S p a m ) = (N w i | S p a m + α) / ( N S p a m + α ⋅ N V o c a b u l a r y )\n",
    "- P ( w i | S p a m C ) = (N w i | S p a m C + α) / ( N S p a m C + α ⋅ N V o c a b u l a r y )\n",
    "     - N w i | S p a m = the number of times the word w i occurs in spam messages \n",
    "     - N w i | S p a m C = the number of times the word w i occurs in non-spam messages \n",
    "     - N S p a m = total number of words in spam messages \n",
    "     - N S p a m C = total number of words in non-spam messages \n",
    "     - N V o c a b u l a r y = total number of words in the vocabulary \n",
    "     - α = 1 ( α is a smoothing parameter )\n",
    " - naive bayes theorem assumes that events are not dependent.\n",
    " - The assumption of conditional independence between words is thus naive since it rarely holds in practice, and this is why the algorithm is called Naive Bayes (also called simple Bayes or independence Bayes)."
   ]
  },
  {
   "cell_type": "markdown",
   "id": "797a9a59",
   "metadata": {
    "papermill": {
     "duration": 0.057028,
     "end_time": "2022-04-12T18:01:24.444264",
     "exception": false,
     "start_time": "2022-04-12T18:01:24.387236",
     "status": "completed"
    },
    "tags": []
   },
   "source": [
    "# Day 29,30,31\n",
    "<br>dataquest-> prob and stats -> probability fundamentals -> conditional probability-> guided projects\n",
    "<br> in progress"
   ]
  },
  {
   "cell_type": "markdown",
   "id": "4265b987",
   "metadata": {
    "papermill": {
     "duration": 0.060122,
     "end_time": "2022-04-12T18:01:24.563757",
     "exception": false,
     "start_time": "2022-04-12T18:01:24.503635",
     "status": "completed"
    },
    "tags": []
   },
   "source": [
    "# Day 32\n",
    "<br>dataquest-> prob and stats -> probability fundamentals -> guided projects\n",
    "<br> in progress"
   ]
  },
  {
   "cell_type": "code",
   "execution_count": 2,
   "id": "0164861c",
   "metadata": {
    "execution": {
     "iopub.execute_input": "2022-04-12T18:01:24.684559Z",
     "iopub.status.busy": "2022-04-12T18:01:24.683890Z",
     "iopub.status.idle": "2022-04-12T18:01:24.687558Z",
     "shell.execute_reply": "2022-04-12T18:01:24.688101Z",
     "shell.execute_reply.started": "2022-04-12T14:17:49.333113Z"
    },
    "papermill": {
     "duration": 0.066391,
     "end_time": "2022-04-12T18:01:24.688281",
     "exception": false,
     "start_time": "2022-04-12T18:01:24.621890",
     "status": "completed"
    },
    "tags": []
   },
   "outputs": [],
   "source": [
    "# !pip install PyMuPDF"
   ]
  },
  {
   "cell_type": "code",
   "execution_count": 3,
   "id": "7e313cf0",
   "metadata": {
    "execution": {
     "iopub.execute_input": "2022-04-12T18:01:24.807268Z",
     "iopub.status.busy": "2022-04-12T18:01:24.806557Z",
     "iopub.status.idle": "2022-04-12T18:01:24.809798Z",
     "shell.execute_reply": "2022-04-12T18:01:24.809216Z",
     "shell.execute_reply.started": "2022-04-12T14:19:20.437905Z"
    },
    "papermill": {
     "duration": 0.064574,
     "end_time": "2022-04-12T18:01:24.809965",
     "exception": false,
     "start_time": "2022-04-12T18:01:24.745391",
     "status": "completed"
    },
    "tags": []
   },
   "outputs": [],
   "source": [
    " \n",
    "# fitz.__version__"
   ]
  },
  {
   "cell_type": "code",
   "execution_count": 4,
   "id": "34def6e0",
   "metadata": {
    "execution": {
     "iopub.execute_input": "2022-04-12T18:01:24.930874Z",
     "iopub.status.busy": "2022-04-12T18:01:24.930206Z",
     "iopub.status.idle": "2022-04-12T18:01:24.935281Z",
     "shell.execute_reply": "2022-04-12T18:01:24.934580Z",
     "shell.execute_reply.started": "2022-04-12T14:23:59.687259Z"
    },
    "papermill": {
     "duration": 0.067661,
     "end_time": "2022-04-12T18:01:24.935427",
     "exception": false,
     "start_time": "2022-04-12T18:01:24.867766",
     "status": "completed"
    },
    "tags": []
   },
   "outputs": [],
   "source": [
    "# !python -m spacy download en_core_web_sm"
   ]
  },
  {
   "cell_type": "code",
   "execution_count": null,
   "id": "19dd7d3a",
   "metadata": {
    "papermill": {
     "duration": 0.058402,
     "end_time": "2022-04-12T18:01:25.051973",
     "exception": false,
     "start_time": "2022-04-12T18:01:24.993571",
     "status": "completed"
    },
    "tags": []
   },
   "outputs": [],
   "source": []
  },
  {
   "cell_type": "code",
   "execution_count": 5,
   "id": "9d81dee2",
   "metadata": {
    "execution": {
     "iopub.execute_input": "2022-04-12T18:01:25.176481Z",
     "iopub.status.busy": "2022-04-12T18:01:25.175398Z",
     "iopub.status.idle": "2022-04-12T18:01:25.179086Z",
     "shell.execute_reply": "2022-04-12T18:01:25.179652Z",
     "shell.execute_reply.started": "2022-04-12T14:18:25.912243Z"
    },
    "papermill": {
     "duration": 0.067296,
     "end_time": "2022-04-12T18:01:25.179887",
     "exception": false,
     "start_time": "2022-04-12T18:01:25.112591",
     "status": "completed"
    },
    "tags": []
   },
   "outputs": [],
   "source": [
    "# import fitz\n",
    "# import spacy\n",
    "# import re\n",
    "# from pathlib import Path\n",
    "# import requests\n",
    "# import os"
   ]
  },
  {
   "cell_type": "code",
   "execution_count": 6,
   "id": "ce4078ba",
   "metadata": {
    "execution": {
     "iopub.execute_input": "2022-04-12T18:01:25.302719Z",
     "iopub.status.busy": "2022-04-12T18:01:25.301693Z",
     "iopub.status.idle": "2022-04-12T18:01:25.306277Z",
     "shell.execute_reply": "2022-04-12T18:01:25.306897Z",
     "shell.execute_reply.started": "2022-04-12T15:03:43.589700Z"
    },
    "papermill": {
     "duration": 0.06626,
     "end_time": "2022-04-12T18:01:25.307087",
     "exception": false,
     "start_time": "2022-04-12T18:01:25.240827",
     "status": "completed"
    },
    "tags": []
   },
   "outputs": [],
   "source": [
    "# sql_db_json = [\n",
    "#   {\n",
    "#     \"document_id\": \"1\",\n",
    "#     \"area\": \"[72.1149,661.2966,131.95729,675.1716]\",\n",
    "#     \"page\": \"3\",\n",
    "#     \"text_\": \"Background\",\n",
    "#     \"type_of_selection\": \"Text\",\n",
    "#     \"entity_type\": \"name\",\n",
    "#     \"link\": \"https://redactable-devox-stage.s3.us-east-2.amazonaws.com/tenants/41d9e109-693b-444c-aa18-e5891bc6550b/original/1a7c0e5d-3237-4ca9-9e3d-89e707245ac6/D8communications.pdf\"\n",
    "#   },\n",
    "#   {\n",
    "#     \"document_id\": \"1\",\n",
    "#     \"area\": \"[290.55386,632.0173,322.14685,645.8923]\",\n",
    "#     \"page\": \"2\",\n",
    "#     \"text_\": \"INDEX\",\n",
    "#     \"type_of_selection\": \"Text\",\n",
    "#     \"entity_type\": \"address\",\n",
    "#     \"link\": \"https://redactable-devox-stage.s3.us-east-2.amazonaws.com/tenants/41d9e109-693b-444c-aa18-e5891bc6550b/original/1a7c0e5d-3237-4ca9-9e3d-89e707245ac6/D8communications.pdf\"\n",
    "#   }\n",
    "# ]"
   ]
  },
  {
   "cell_type": "code",
   "execution_count": 7,
   "id": "67869138",
   "metadata": {
    "execution": {
     "iopub.execute_input": "2022-04-12T18:01:25.430887Z",
     "iopub.status.busy": "2022-04-12T18:01:25.430178Z",
     "iopub.status.idle": "2022-04-12T18:01:25.431838Z",
     "shell.execute_reply": "2022-04-12T18:01:25.432294Z",
     "shell.execute_reply.started": "2022-04-12T13:17:19.452695Z"
    },
    "papermill": {
     "duration": 0.065275,
     "end_time": "2022-04-12T18:01:25.432471",
     "exception": false,
     "start_time": "2022-04-12T18:01:25.367196",
     "status": "completed"
    },
    "tags": []
   },
   "outputs": [],
   "source": [
    "# l=pd.DataFrame()\n",
    "# k=(1, '[290.55386,632.0173,322.14685,645.8923]', 2, 'INDEX', 'Text', 'address', 'https://redactable-devox-s')\n",
    "# k\n"
   ]
  },
  {
   "cell_type": "code",
   "execution_count": 8,
   "id": "afba7c77",
   "metadata": {
    "execution": {
     "iopub.execute_input": "2022-04-12T18:01:25.557040Z",
     "iopub.status.busy": "2022-04-12T18:01:25.556341Z",
     "iopub.status.idle": "2022-04-12T18:01:25.559361Z",
     "shell.execute_reply": "2022-04-12T18:01:25.559841Z",
     "shell.execute_reply.started": "2022-04-12T16:09:33.708631Z"
    },
    "papermill": {
     "duration": 0.066402,
     "end_time": "2022-04-12T18:01:25.560030",
     "exception": false,
     "start_time": "2022-04-12T18:01:25.493628",
     "status": "completed"
    },
    "tags": []
   },
   "outputs": [],
   "source": [
    "# co=[\"document_id\",\"area\",\"page\",\"text_\",\"type_of_selection\",\"entity_type\",\"link\"]\n",
    "# val= [(1,'[72.1149,661.2966,131.95729,675.1716]',3,'Background','Text','name' ,'https://redactable-devox-stage.s3.us-east-2.am'), (1,  '[290.55386,632.0173,322.14685,645.8923]',2,'INDEX', 'Text','address','https://redactable-devox-stage.s3.us-east-2.am')]\n",
    "\n",
    "# df=pd.DataFrame(val,columns=[co])\n",
    "# #df.iloc[1] =[1,  '[290.55386,632.0173,322.14685,645.8923]',2,'INDEX', 'Text','address','https://redactable-devox-stage.s3.us-east-2.am']\n",
    "# df"
   ]
  },
  {
   "cell_type": "code",
   "execution_count": 9,
   "id": "7ea80585",
   "metadata": {
    "execution": {
     "iopub.execute_input": "2022-04-12T18:01:25.684063Z",
     "iopub.status.busy": "2022-04-12T18:01:25.683339Z",
     "iopub.status.idle": "2022-04-12T18:01:25.686053Z",
     "shell.execute_reply": "2022-04-12T18:01:25.686565Z",
     "shell.execute_reply.started": "2022-04-12T16:18:22.595374Z"
    },
    "papermill": {
     "duration": 0.06698,
     "end_time": "2022-04-12T18:01:25.686768",
     "exception": false,
     "start_time": "2022-04-12T18:01:25.619788",
     "status": "completed"
    },
    "tags": []
   },
   "outputs": [],
   "source": [
    "# prev=[]\n",
    "# for data,row in df.iterrows():\n",
    "#     if row['document_id'] not in prev:\n",
    "#         prev.append(row['document_id'])\n",
    "#         print('hey')"
   ]
  },
  {
   "cell_type": "code",
   "execution_count": 10,
   "id": "94541a25",
   "metadata": {
    "execution": {
     "iopub.execute_input": "2022-04-12T18:01:25.814182Z",
     "iopub.status.busy": "2022-04-12T18:01:25.813366Z",
     "iopub.status.idle": "2022-04-12T18:01:25.817979Z",
     "shell.execute_reply": "2022-04-12T18:01:25.818447Z",
     "shell.execute_reply.started": "2022-04-12T15:03:48.248836Z"
    },
    "papermill": {
     "duration": 0.071333,
     "end_time": "2022-04-12T18:01:25.818624",
     "exception": false,
     "start_time": "2022-04-12T18:01:25.747291",
     "status": "completed"
    },
    "tags": []
   },
   "outputs": [],
   "source": [
    "# nlp = spacy.load('en_core_web_sm')\n",
    "# train_data = []\n",
    "\n",
    "# prev_doc_id = ''\n",
    "# i=0\n",
    "# temp='/kaggle/working'\n",
    "\n",
    "# for data in sql_db_json:\n",
    "#     if data['type_of_selection'] == 'Text':\n",
    "#         document_id = data['document_id']\n",
    "#         x1,y1,x2,y2 = data['area'][1:-1].split(',')\n",
    "#         url = data['link']\n",
    "#         page_no = int(data['page']) - 1 \n",
    "#         label = data['entity_type']\n",
    "#         filename = url.split('/')[-1]\n",
    "    \n",
    "#         #download the file to temp folder\n",
    "#         outpath = os.path.join(temp,filename)\n",
    "\n",
    "#         if document_id == prev_doc_id:\n",
    "#             pass\n",
    "#         else: \n",
    "#             i+=1\n",
    "#             print(i)\n",
    "#             response = requests.get(url)\n",
    "#             with open(outpath, \"wb\") as binary_file:\n",
    "#                 binary_file.write(response.content)\n",
    "\n",
    "#         doc = fitz.open(outpath)  # any supported document type\n",
    "#         page = doc[page_no]  # we want text from this page\n",
    "#         print('page dimension - ', page.rect.width, page.rect.height)\n",
    "\n",
    "#         #The co-ordinates in the DB are image co-ords. W.r.t pdf, y1 and y2 has to be interchanged.\n",
    "#         #To ensure entire word to be selected, slight correction in x1,y1,x2,y2 is done.\n",
    "\n",
    "#         rect = [float(x1)-2, 792 - float(y2)-2, float(x2)+2, 792 - float(y1)+2]\n",
    "#         print(rect)\n",
    "#         labelled_text = page.get_textbox(rect)\n",
    "\n",
    "#         #Removing all unprintable characters from the text\n",
    "#         string = re.sub('[^0-9a-zA-Z@?|\\/<>.,()&^%$#!]+', ' ', labelled_text)\n",
    "#         print('string : ', string)\n",
    "\n",
    "#         fulltext = page.get_text()\n",
    "#         doc = nlp(fulltext)\n",
    "\n",
    "#         sentences = []\n",
    "#         for sent in doc.sents:\n",
    "#             if string.strip() in sent.text:\n",
    "#                 text = re.sub('[^0-9a-zA-Z@?|\\/<>.,()&^%$#!]+', ' ', sent.text)\n",
    "\n",
    "#         res = re.search(string.strip(), text)\n",
    "\n",
    "#         entities = []\n",
    "#         entities.append((res.start(),res.end(),label))\n",
    "\n",
    "#         train_data.append((text,{'entities':entities}))\n",
    "\n",
    "# print('Training data in spacy format')\n",
    "# print('*****************************')\n",
    "# for i in range(0,len(train_data)):\n",
    "#     print(train_data[i])"
   ]
  },
  {
   "cell_type": "code",
   "execution_count": null,
   "id": "3d38f630",
   "metadata": {
    "papermill": {
     "duration": 0.059634,
     "end_time": "2022-04-12T18:01:25.938805",
     "exception": false,
     "start_time": "2022-04-12T18:01:25.879171",
     "status": "completed"
    },
    "tags": []
   },
   "outputs": [],
   "source": []
  },
  {
   "cell_type": "code",
   "execution_count": 11,
   "id": "5483814f",
   "metadata": {
    "execution": {
     "iopub.execute_input": "2022-04-12T18:01:26.059906Z",
     "iopub.status.busy": "2022-04-12T18:01:26.059158Z",
     "iopub.status.idle": "2022-04-12T18:01:26.063836Z",
     "shell.execute_reply": "2022-04-12T18:01:26.064310Z",
     "shell.execute_reply.started": "2022-04-12T11:44:59.253637Z"
    },
    "papermill": {
     "duration": 0.06652,
     "end_time": "2022-04-12T18:01:26.064494",
     "exception": false,
     "start_time": "2022-04-12T18:01:25.997974",
     "status": "completed"
    },
    "tags": []
   },
   "outputs": [],
   "source": [
    "# nlp = spacy.load('en_core_web_sm')\n",
    "# train_data = []\n",
    "\n",
    "# prev_doc_id = ''\n",
    "# temp='/kaggle/working'\n",
    "# i=0\n",
    "# for data in sql_db_json:\n",
    "#     if data['type_of_selection'] == 'Text':\n",
    "#         document_id = data['document_id']\n",
    "#         x1,y1,x2,y2 = data['area'][1:-1].split(',')\n",
    "#         url = data['link']\n",
    "#         page_no = int(data['page']) - 1 \n",
    "#         label = data['entity_type']\n",
    "#         filename = url.split('/')[-1]\n",
    "    \n",
    "#         #download the file to temp folder\n",
    "#         i+=1\n",
    "#         print(i)\n",
    "#         response = requests.get(url)\n",
    "#         doc = fitz.open(stream=response.content,filetype=\"pdf\")  # any supported document type\n",
    "#         page = doc[page_no]  # we want text from this page\n",
    "#         print('page dimension - ', page.rect.width, page.rect.height)\n",
    "\n",
    "#         #The co-ordinates in the DB are image co-ords. W.r.t pdf, y1 and y2 has to be interchanged.\n",
    "#         #To ensure entire word to be selected, slight correction in x1,y1,x2,y2 is done.\n",
    "\n",
    "#         rect = [float(x1)-2, 792 - float(y2)-2, float(x2)+2, 792 - float(y1)+2]\n",
    "#         print(rect)\n",
    "#         labelled_text = page.get_textbox(rect)\n",
    "\n",
    "#         #Removing all unprintable characters from the text\n",
    "#         string = re.sub('[^0-9a-zA-Z@?|\\/<>.,()&^%$#!]+', ' ', labelled_text)\n",
    "#         print('string : ', string)\n",
    "\n",
    "#         fulltext = page.get_text()\n",
    "#         doc = nlp(fulltext)\n",
    "\n",
    "#         sentences = []\n",
    "#         for sent in doc.sents:\n",
    "#             if string.strip() in sent.text:\n",
    "#                 text = re.sub('[^0-9a-zA-Z@?|\\/<>.,()&^%$#!]+', ' ', sent.text)\n",
    "\n",
    "#         res = re.search(string.strip(), text)\n",
    "\n",
    "#         entities = []\n",
    "#         entities.append((res.start(),res.end(),label))\n",
    "\n",
    "#         train_data.append((text,{'entities':entities}))\n",
    "\n",
    "# print('Training data in spacy format')\n",
    "# print('*****************************')\n",
    "# for i in range(0,len(train_data)):\n",
    "#     print(train_data[i])"
   ]
  },
  {
   "cell_type": "code",
   "execution_count": 12,
   "id": "cbffd432",
   "metadata": {
    "execution": {
     "iopub.execute_input": "2022-04-12T18:01:26.190160Z",
     "iopub.status.busy": "2022-04-12T18:01:26.189464Z",
     "iopub.status.idle": "2022-04-12T18:01:26.192651Z",
     "shell.execute_reply": "2022-04-12T18:01:26.193134Z"
    },
    "papermill": {
     "duration": 0.070355,
     "end_time": "2022-04-12T18:01:26.193310",
     "exception": false,
     "start_time": "2022-04-12T18:01:26.122955",
     "status": "completed"
    },
    "tags": []
   },
   "outputs": [],
   "source": [
    "# page dimension -  612.0 792.0\n",
    "# [70.1149, 114.82839999999999, 133.95729, 132.7034]\n",
    "# string :  Background\n",
    "# page dimension -  612.0 792.0\n",
    "# [288.55386, 144.10770000000002, 324.14685, 161.98270000000002]\n",
    "# string :  INDEX\n",
    "# Training data in spacy format\n",
    "# *****************************\n",
    "# (' 3 Background The Blue Ribbon Committee was created by the Mayor to assess various city communication methods and recommend opportunities to improve communications with residents, businesses and other organizations.', {'entities': [(3, 13, 'name')]})\n",
    "# (' 2 INDEX Background Pg. 3 Purpose Pg. 3 Process .', {'entities': [(3, 8, 'address')]})"
   ]
  },
  {
   "cell_type": "code",
   "execution_count": 13,
   "id": "3bd31401",
   "metadata": {
    "execution": {
     "iopub.execute_input": "2022-04-12T18:01:26.317047Z",
     "iopub.status.busy": "2022-04-12T18:01:26.316324Z",
     "iopub.status.idle": "2022-04-12T18:01:26.320775Z",
     "shell.execute_reply": "2022-04-12T18:01:26.321769Z",
     "shell.execute_reply.started": "2022-04-11T16:35:29.609712Z"
    },
    "papermill": {
     "duration": 0.06733,
     "end_time": "2022-04-12T18:01:26.322080",
     "exception": false,
     "start_time": "2022-04-12T18:01:26.254750",
     "status": "completed"
    },
    "tags": []
   },
   "outputs": [],
   "source": [
    "# nlp = spacy.load('en_core_web_sm')\n",
    "# outpath=r'/kaggle/input/sample-pdf/D8communications.pdf'\n",
    "# doc = fitz.open(outpath)  # any supported document type\n",
    "# page_no=3\n",
    "# page = doc[page_no-1]\n",
    "\n",
    "# x1,y1,x2,y2=(72.1149,661.2966,131.95729,675.1716)\n",
    "\n",
    "# rect = [float(x1)-2, 792 - float(y2)-2, float(x2)+2, 792 - float(y1)+2]\n",
    "# print(rect)\n",
    "# labelled_text = page.get_textbox(rect)\n",
    "# string = re.sub('[^0-9a-zA-Z@?|\\/<>.,()&^%$#!]+', ' ', labelled_text)\n",
    "# print('string : ', string)\n",
    "\n",
    "# fulltext = page.get_text()\n",
    "# doc = nlp(fulltext)\n",
    "\n",
    "# sentences = []\n",
    "# for sent in doc.sents:\n",
    "#             if string.strip() in sent.text:\n",
    "#                 text = re.sub('[^0-9a-zA-Z@?|\\/<>.,()&^%$#!]+', ' ', sent.text)\n",
    "\n",
    "#         res = re.search(string.strip(), text)\n",
    "\n",
    "#         entities = []\n",
    "#         entities.append((res.start(),res.end(),label))\n",
    "\n",
    "#         train_data.append((text,{'entities':entities}))\n",
    "\n"
   ]
  },
  {
   "cell_type": "code",
   "execution_count": 14,
   "id": "ed36df2e",
   "metadata": {
    "execution": {
     "iopub.execute_input": "2022-04-12T18:01:26.448394Z",
     "iopub.status.busy": "2022-04-12T18:01:26.447625Z",
     "iopub.status.idle": "2022-04-12T18:01:26.451727Z",
     "shell.execute_reply": "2022-04-12T18:01:26.452197Z",
     "shell.execute_reply.started": "2022-04-11T16:35:41.679947Z"
    },
    "papermill": {
     "duration": 0.068293,
     "end_time": "2022-04-12T18:01:26.452379",
     "exception": false,
     "start_time": "2022-04-12T18:01:26.384086",
     "status": "completed"
    },
    "tags": []
   },
   "outputs": [],
   "source": [
    "#doc"
   ]
  },
  {
   "cell_type": "code",
   "execution_count": 15,
   "id": "b1f935fe",
   "metadata": {
    "execution": {
     "iopub.execute_input": "2022-04-12T18:01:26.576718Z",
     "iopub.status.busy": "2022-04-12T18:01:26.575812Z",
     "iopub.status.idle": "2022-04-12T18:01:26.579128Z",
     "shell.execute_reply": "2022-04-12T18:01:26.578556Z",
     "shell.execute_reply.started": "2022-04-11T16:35:56.010353Z"
    },
    "papermill": {
     "duration": 0.067702,
     "end_time": "2022-04-12T18:01:26.579273",
     "exception": false,
     "start_time": "2022-04-12T18:01:26.511571",
     "status": "completed"
    },
    "tags": []
   },
   "outputs": [],
   "source": [
    "# sentences = []\n",
    "# for sent in doc.sents:\n",
    "#     if string.strip() in sent.text:\n",
    "#         text = re.sub('[^0-9a-zA-Z@?|\\/<>.,()&^%$#!]+', ' ', sent.text)"
   ]
  },
  {
   "cell_type": "code",
   "execution_count": 16,
   "id": "2be941ec",
   "metadata": {
    "execution": {
     "iopub.execute_input": "2022-04-12T18:01:26.707510Z",
     "iopub.status.busy": "2022-04-12T18:01:26.706488Z",
     "iopub.status.idle": "2022-04-12T18:01:26.709127Z",
     "shell.execute_reply": "2022-04-12T18:01:26.708437Z",
     "shell.execute_reply.started": "2022-04-11T16:39:04.736143Z"
    },
    "papermill": {
     "duration": 0.069438,
     "end_time": "2022-04-12T18:01:26.709275",
     "exception": false,
     "start_time": "2022-04-12T18:01:26.639837",
     "status": "completed"
    },
    "tags": []
   },
   "outputs": [],
   "source": [
    "# k=nlp(\"he             kenny\")\n",
    "# for sent in k.sents:\n",
    "#     print(sent)"
   ]
  },
  {
   "cell_type": "code",
   "execution_count": 17,
   "id": "406928b3",
   "metadata": {
    "execution": {
     "iopub.execute_input": "2022-04-12T18:01:26.830268Z",
     "iopub.status.busy": "2022-04-12T18:01:26.829258Z",
     "iopub.status.idle": "2022-04-12T18:01:26.833176Z",
     "shell.execute_reply": "2022-04-12T18:01:26.833749Z",
     "shell.execute_reply.started": "2022-04-11T15:09:24.391421Z"
    },
    "papermill": {
     "duration": 0.066218,
     "end_time": "2022-04-12T18:01:26.833924",
     "exception": false,
     "start_time": "2022-04-12T18:01:26.767706",
     "status": "completed"
    },
    "tags": []
   },
   "outputs": [],
   "source": [
    "# text"
   ]
  },
  {
   "cell_type": "code",
   "execution_count": 18,
   "id": "93b5263d",
   "metadata": {
    "execution": {
     "iopub.execute_input": "2022-04-12T18:01:26.958292Z",
     "iopub.status.busy": "2022-04-12T18:01:26.957303Z",
     "iopub.status.idle": "2022-04-12T18:01:26.963388Z",
     "shell.execute_reply": "2022-04-12T18:01:26.962592Z",
     "shell.execute_reply.started": "2022-04-11T15:09:31.9599Z"
    },
    "papermill": {
     "duration": 0.068809,
     "end_time": "2022-04-12T18:01:26.963642",
     "exception": false,
     "start_time": "2022-04-12T18:01:26.894833",
     "status": "completed"
    },
    "tags": []
   },
   "outputs": [],
   "source": [
    "# res = re.search(string.strip(), text)\n",
    "# res"
   ]
  },
  {
   "cell_type": "code",
   "execution_count": 19,
   "id": "80fc6ad3",
   "metadata": {
    "execution": {
     "iopub.execute_input": "2022-04-12T18:01:27.088371Z",
     "iopub.status.busy": "2022-04-12T18:01:27.087389Z",
     "iopub.status.idle": "2022-04-12T18:01:27.091876Z",
     "shell.execute_reply": "2022-04-12T18:01:27.092834Z",
     "shell.execute_reply.started": "2022-04-11T15:12:41.311242Z"
    },
    "papermill": {
     "duration": 0.068156,
     "end_time": "2022-04-12T18:01:27.093037",
     "exception": false,
     "start_time": "2022-04-12T18:01:27.024881",
     "status": "completed"
    },
    "tags": []
   },
   "outputs": [],
   "source": [
    "# entities = []\n",
    "# entities.append((res.start(),res.end(),'p'))"
   ]
  },
  {
   "cell_type": "code",
   "execution_count": 20,
   "id": "150519a3",
   "metadata": {
    "execution": {
     "iopub.execute_input": "2022-04-12T18:01:27.219750Z",
     "iopub.status.busy": "2022-04-12T18:01:27.217194Z",
     "iopub.status.idle": "2022-04-12T18:01:27.223165Z",
     "shell.execute_reply": "2022-04-12T18:01:27.222458Z",
     "shell.execute_reply.started": "2022-04-11T15:12:52.736619Z"
    },
    "papermill": {
     "duration": 0.067688,
     "end_time": "2022-04-12T18:01:27.223308",
     "exception": false,
     "start_time": "2022-04-12T18:01:27.155620",
     "status": "completed"
    },
    "tags": []
   },
   "outputs": [],
   "source": [
    "# entities"
   ]
  },
  {
   "cell_type": "code",
   "execution_count": 21,
   "id": "7d038d1b",
   "metadata": {
    "execution": {
     "iopub.execute_input": "2022-04-12T18:01:27.349377Z",
     "iopub.status.busy": "2022-04-12T18:01:27.348589Z",
     "iopub.status.idle": "2022-04-12T18:01:27.351208Z",
     "shell.execute_reply": "2022-04-12T18:01:27.351744Z",
     "shell.execute_reply.started": "2022-04-11T15:06:11.546217Z"
    },
    "papermill": {
     "duration": 0.068525,
     "end_time": "2022-04-12T18:01:27.351915",
     "exception": false,
     "start_time": "2022-04-12T18:01:27.283390",
     "status": "completed"
    },
    "tags": []
   },
   "outputs": [],
   "source": [
    "# text"
   ]
  },
  {
   "cell_type": "code",
   "execution_count": null,
   "id": "40549dfe",
   "metadata": {
    "execution": {
     "iopub.execute_input": "2022-04-11T15:02:33.300092Z",
     "iopub.status.busy": "2022-04-11T15:02:33.299778Z",
     "iopub.status.idle": "2022-04-11T15:02:33.30711Z",
     "shell.execute_reply": "2022-04-11T15:02:33.306345Z",
     "shell.execute_reply.started": "2022-04-11T15:02:33.300061Z"
    },
    "papermill": {
     "duration": 0.05909,
     "end_time": "2022-04-12T18:01:27.472367",
     "exception": false,
     "start_time": "2022-04-12T18:01:27.413277",
     "status": "completed"
    },
    "tags": []
   },
   "outputs": [],
   "source": []
  },
  {
   "cell_type": "code",
   "execution_count": 22,
   "id": "5b6ea5ba",
   "metadata": {
    "execution": {
     "iopub.execute_input": "2022-04-12T18:01:27.595785Z",
     "iopub.status.busy": "2022-04-12T18:01:27.594999Z",
     "iopub.status.idle": "2022-04-12T18:01:27.598741Z",
     "shell.execute_reply": "2022-04-12T18:01:27.598149Z",
     "shell.execute_reply.started": "2022-04-11T16:21:02.863037Z"
    },
    "papermill": {
     "duration": 0.065722,
     "end_time": "2022-04-12T18:01:27.598886",
     "exception": false,
     "start_time": "2022-04-12T18:01:27.533164",
     "status": "completed"
    },
    "tags": []
   },
   "outputs": [],
   "source": [
    "# import spacy\n",
    "# nlp = spacy.load('en_core_web_sm')"
   ]
  },
  {
   "cell_type": "code",
   "execution_count": 23,
   "id": "0ae96736",
   "metadata": {
    "execution": {
     "iopub.execute_input": "2022-04-12T18:01:27.723302Z",
     "iopub.status.busy": "2022-04-12T18:01:27.722584Z",
     "iopub.status.idle": "2022-04-12T18:01:27.726134Z",
     "shell.execute_reply": "2022-04-12T18:01:27.725328Z",
     "shell.execute_reply.started": "2022-04-09T12:19:47.776612Z"
    },
    "papermill": {
     "duration": 0.06602,
     "end_time": "2022-04-12T18:01:27.726320",
     "exception": false,
     "start_time": "2022-04-12T18:01:27.660300",
     "status": "completed"
    },
    "tags": []
   },
   "outputs": [],
   "source": [
    "# !pip install PyPDF2\n",
    "# import PyPDF2\n",
    "# fhandle = open(r'/kaggle/input/sample-pdf/D8communications.pdf', 'rb')\n",
    "# pdfReader = PyPDF2.PdfFileReader(fhandle)\n",
    "# pagehandle = pdfReader.getPage(4)\n",
    "# print(pagehandle.extractText())"
   ]
  },
  {
   "cell_type": "code",
   "execution_count": 24,
   "id": "4db0a326",
   "metadata": {
    "execution": {
     "iopub.execute_input": "2022-04-12T18:01:27.852509Z",
     "iopub.status.busy": "2022-04-12T18:01:27.851572Z",
     "iopub.status.idle": "2022-04-12T18:01:27.854765Z",
     "shell.execute_reply": "2022-04-12T18:01:27.854074Z",
     "shell.execute_reply.started": "2022-04-09T12:25:37.701467Z"
    },
    "papermill": {
     "duration": 0.067287,
     "end_time": "2022-04-12T18:01:27.854920",
     "exception": false,
     "start_time": "2022-04-12T18:01:27.787633",
     "status": "completed"
    },
    "tags": []
   },
   "outputs": [],
   "source": [
    "# !pip install pdfplumber\n",
    "# import pdfplumber\n",
    "# with pdfplumber.open(r'/kaggle/input/sample-pdf/D8communications.pdf') as pdf:\n",
    "#     first_page = pdf.pages[3]\n",
    "#     print(first_page.extract_text())"
   ]
  },
  {
   "cell_type": "code",
   "execution_count": 25,
   "id": "7e9b5d86",
   "metadata": {
    "execution": {
     "iopub.execute_input": "2022-04-12T18:01:27.982739Z",
     "iopub.status.busy": "2022-04-12T18:01:27.981980Z",
     "iopub.status.idle": "2022-04-12T18:01:27.984778Z",
     "shell.execute_reply": "2022-04-12T18:01:27.983951Z",
     "shell.execute_reply.started": "2022-04-09T12:25:49.584635Z"
    },
    "papermill": {
     "duration": 0.068528,
     "end_time": "2022-04-12T18:01:27.984927",
     "exception": false,
     "start_time": "2022-04-12T18:01:27.916399",
     "status": "completed"
    },
    "tags": []
   },
   "outputs": [],
   "source": [
    "# !pip install pytesseract"
   ]
  },
  {
   "cell_type": "code",
   "execution_count": 26,
   "id": "ef740a45",
   "metadata": {
    "execution": {
     "iopub.execute_input": "2022-04-12T18:01:28.109329Z",
     "iopub.status.busy": "2022-04-12T18:01:28.108571Z",
     "iopub.status.idle": "2022-04-12T18:01:28.112321Z",
     "shell.execute_reply": "2022-04-12T18:01:28.111779Z",
     "shell.execute_reply.started": "2022-04-09T14:49:10.656812Z"
    },
    "papermill": {
     "duration": 0.067454,
     "end_time": "2022-04-12T18:01:28.112471",
     "exception": false,
     "start_time": "2022-04-12T18:01:28.045017",
     "status": "completed"
    },
    "tags": []
   },
   "outputs": [],
   "source": [
    "# #!pip install pdf2image\n",
    "# !pip install poppler"
   ]
  },
  {
   "cell_type": "code",
   "execution_count": 27,
   "id": "884bbfdf",
   "metadata": {
    "execution": {
     "iopub.execute_input": "2022-04-12T18:01:28.236157Z",
     "iopub.status.busy": "2022-04-12T18:01:28.235344Z",
     "iopub.status.idle": "2022-04-12T18:01:28.238574Z",
     "shell.execute_reply": "2022-04-12T18:01:28.238039Z",
     "shell.execute_reply.started": "2022-04-09T14:57:24.756677Z"
    },
    "papermill": {
     "duration": 0.067021,
     "end_time": "2022-04-12T18:01:28.238747",
     "exception": false,
     "start_time": "2022-04-12T18:01:28.171726",
     "status": "completed"
    },
    "tags": []
   },
   "outputs": [],
   "source": [
    "# pdf2image.convert_from_path('/kaggle/input/sample-pdf/D8communications.pdf')"
   ]
  },
  {
   "cell_type": "code",
   "execution_count": 28,
   "id": "d51eff13",
   "metadata": {
    "execution": {
     "iopub.execute_input": "2022-04-12T18:01:28.364726Z",
     "iopub.status.busy": "2022-04-12T18:01:28.364027Z",
     "iopub.status.idle": "2022-04-12T18:01:28.365813Z",
     "shell.execute_reply": "2022-04-12T18:01:28.366453Z",
     "shell.execute_reply.started": "2022-04-09T14:57:17.576149Z"
    },
    "papermill": {
     "duration": 0.067138,
     "end_time": "2022-04-12T18:01:28.366627",
     "exception": false,
     "start_time": "2022-04-12T18:01:28.299489",
     "status": "completed"
    },
    "tags": []
   },
   "outputs": [],
   "source": [
    "# import pdf2image\n",
    "# try:\n",
    "#     from PIL import Image\n",
    "# except ImportError:\n",
    "#     import Image\n",
    "# import pytesseract\n",
    "\n",
    "\n",
    "# def pdf_to_img(pdf_file):\n",
    "#     return pdf2image.convert_from_path(pdf_file)\n",
    "\n",
    "\n",
    "# def ocr_core(file):\n",
    "#     text = pytesseract.image_to_string(file)\n",
    "#     return text\n",
    "\n",
    "\n",
    "# def print_pages(pdf_file):\n",
    "#     images = pdf_to_img(pdf_file)\n",
    "#     for pg, img in enumerate(images):\n",
    "#         print(ocr_core(img))\n",
    "\n",
    "\n",
    "# print_pages('/kaggle/input/sample-pdf/D8communications.pdf')\n"
   ]
  },
  {
   "cell_type": "code",
   "execution_count": 29,
   "id": "f8b6cb6e",
   "metadata": {
    "execution": {
     "iopub.execute_input": "2022-04-12T18:01:28.491532Z",
     "iopub.status.busy": "2022-04-12T18:01:28.489588Z",
     "iopub.status.idle": "2022-04-12T18:01:28.494230Z",
     "shell.execute_reply": "2022-04-12T18:01:28.494745Z"
    },
    "papermill": {
     "duration": 0.06924,
     "end_time": "2022-04-12T18:01:28.494936",
     "exception": false,
     "start_time": "2022-04-12T18:01:28.425696",
     "status": "completed"
    },
    "tags": []
   },
   "outputs": [],
   "source": [
    "# import requests\n",
    "# import fitz\n",
    "# import io\n",
    "\n",
    "# #URL = 'https://buildmedia.readthedocs.org/media/pdf/pdfminer-docs/latest/pdfminer-docs.pdf'\n",
    "# URL = 'https://redactable-devox-stage.s3.us-east-2.amazonaws.com/tenants/41d9e109-693b-444c-aa18-e5891bc6550b/original/1a7c0e5d-3237-4ca9-9e3d-89e707245ac6/D8communications.pdf'\n",
    "\n",
    "\n",
    "# res = requests.get(URL)\n",
    "# filestream = io.BytesIO(res.content)\n",
    "# #res.content\n",
    "# filestream\n",
    "# doc = fitz.Document(stream=filestream)\n",
    "# page1 = doc.loadPage(3)\n",
    "# page1text = page1.getText(\"text\").encode(\"utf-8\").decode(\"utf-8\")\n",
    "# print(page1text)"
   ]
  },
  {
   "cell_type": "code",
   "execution_count": 30,
   "id": "6a423d17",
   "metadata": {
    "execution": {
     "iopub.execute_input": "2022-04-12T18:01:28.623134Z",
     "iopub.status.busy": "2022-04-12T18:01:28.622414Z",
     "iopub.status.idle": "2022-04-12T18:01:28.625350Z",
     "shell.execute_reply": "2022-04-12T18:01:28.624761Z",
     "shell.execute_reply.started": "2022-04-09T07:04:56.590103Z"
    },
    "papermill": {
     "duration": 0.070548,
     "end_time": "2022-04-12T18:01:28.625505",
     "exception": false,
     "start_time": "2022-04-12T18:01:28.554957",
     "status": "completed"
    },
    "tags": []
   },
   "outputs": [],
   "source": [
    "# import requests\n",
    "# import fitz\n",
    "\n",
    "# #URL = 'https://buildmedia.readthedocs.org/media/pdf/pdfminer-docs/latest/pdfminer-docs.pdf'\n",
    "# URL = 'https://redactable-devox-stage.s3.us-east-2.amazonaws.com/tenants/41d9e109-693b-444c-aa18-e5891bc6550b/original/1a7c0e5d-3237-4ca9-9e3d-89e707245ac6/D8communications.pdf'\n",
    "\n",
    "\n",
    "# res = requests.get(URL)\n",
    "# doc = fitz.open(stream=res.content,filetype=\"pdf\")\n",
    "# page1 = doc.loadPage(3)\n",
    "# page1text = page1.getText(\"text\")\n",
    "# #rect = (72.1149,661.2966,131.95729,675.1716)\n",
    "# rect=(72.10812377929688, 116.13427734375, 133.97142028808594, 146.4227294921875)\n",
    "# labelled_text = page1.get_textbox(rect)\n",
    "# print(labelled_text.strip())\n",
    "\n",
    "# fulltext = page1.get_text()\n",
    "# print(fulltext)\n",
    "# doc = nlp(fulltext)\n",
    "# sentences = []\n",
    "# for sent in doc.sents:\n",
    "#     if labelled_text in sent.text:\n",
    "#         text = sent.text\n",
    "#         print(text)\n",
    "# #print(page1text)"
   ]
  },
  {
   "cell_type": "code",
   "execution_count": 31,
   "id": "2a04401e",
   "metadata": {
    "execution": {
     "iopub.execute_input": "2022-04-12T18:01:28.749853Z",
     "iopub.status.busy": "2022-04-12T18:01:28.749155Z",
     "iopub.status.idle": "2022-04-12T18:01:28.752343Z",
     "shell.execute_reply": "2022-04-12T18:01:28.751641Z",
     "shell.execute_reply.started": "2022-04-08T16:42:57.6659Z"
    },
    "papermill": {
     "duration": 0.068238,
     "end_time": "2022-04-12T18:01:28.752488",
     "exception": false,
     "start_time": "2022-04-12T18:01:28.684250",
     "status": "completed"
    },
    "tags": []
   },
   "outputs": [],
   "source": [
    "#res.content"
   ]
  },
  {
   "cell_type": "code",
   "execution_count": 32,
   "id": "82654a7b",
   "metadata": {
    "execution": {
     "iopub.execute_input": "2022-04-12T18:01:28.879231Z",
     "iopub.status.busy": "2022-04-12T18:01:28.877991Z",
     "iopub.status.idle": "2022-04-12T18:01:28.880121Z",
     "shell.execute_reply": "2022-04-12T18:01:28.880618Z",
     "shell.execute_reply.started": "2022-04-08T16:48:05.672392Z"
    },
    "papermill": {
     "duration": 0.067717,
     "end_time": "2022-04-12T18:01:28.880829",
     "exception": false,
     "start_time": "2022-04-12T18:01:28.813112",
     "status": "completed"
    },
    "tags": []
   },
   "outputs": [],
   "source": [
    "# import fitz\n",
    "# # mem_area=\n",
    "# # doc = fitz.open(stream=mem_area, filetype=\"pdf\")\n",
    "\n",
    "# import requests\n",
    "\n",
    "# URL = 'https://redactable-devox-stage.s3.us-east-2.amazonaws.com/tenants/41d9e109-693b-444c-aa18-e5891bc6550b/original/1a7c0e5d-3237-4ca9-9e3d-89e707245ac6/D8communications.pdf'\n",
    "\n",
    "# #res = requests.get(URL)\n",
    "# doc=fitz.open(\"/kaggle/input/sample-pdf/D8communications.pdf\")\n",
    "# #doc = fitz.open(stream=res.content,filetype=\"pdf\")\n",
    "# page1 = doc.loadPage(4)\n",
    "# # page1text = page1.getText(\"text\")\n",
    "# # print(page1text)\n",
    "# blocks = page1.getText(\"blocks\")\n",
    "# blocks.sort(key=lambda block: block[1])  # sort vertically ascending\n",
    "\n",
    "# for b in blocks:\n",
    "#     print(b[4])\n"
   ]
  },
  {
   "cell_type": "code",
   "execution_count": 33,
   "id": "6c17e7a6",
   "metadata": {
    "execution": {
     "iopub.execute_input": "2022-04-12T18:01:29.007035Z",
     "iopub.status.busy": "2022-04-12T18:01:29.005990Z",
     "iopub.status.idle": "2022-04-12T18:01:29.009212Z",
     "shell.execute_reply": "2022-04-12T18:01:29.008599Z",
     "shell.execute_reply.started": "2022-04-08T16:48:13.086323Z"
    },
    "papermill": {
     "duration": 0.067963,
     "end_time": "2022-04-12T18:01:29.009358",
     "exception": false,
     "start_time": "2022-04-12T18:01:28.941395",
     "status": "completed"
    },
    "tags": []
   },
   "outputs": [],
   "source": [
    "# # page = doc[1]\n",
    "# words = page.get_text(\"words\")\n",
    "# #print(words)\n",
    "# rect = (72.1149,661.2966,131.95729,675.1716)\n",
    "\n",
    "# labelled_text = page.get_textbox(rect)\n",
    "# # labelled_text"
   ]
  },
  {
   "cell_type": "markdown",
   "id": "adfc96ae",
   "metadata": {
    "papermill": {
     "duration": 0.058315,
     "end_time": "2022-04-12T18:01:29.127567",
     "exception": false,
     "start_time": "2022-04-12T18:01:29.069252",
     "status": "completed"
    },
    "tags": []
   },
   "source": [
    "pip install PyPDF2"
   ]
  },
  {
   "cell_type": "code",
   "execution_count": null,
   "id": "b92d07a5",
   "metadata": {
    "papermill": {
     "duration": 0.058162,
     "end_time": "2022-04-12T18:01:29.245010",
     "exception": false,
     "start_time": "2022-04-12T18:01:29.186848",
     "status": "completed"
    },
    "tags": []
   },
   "outputs": [],
   "source": []
  },
  {
   "cell_type": "code",
   "execution_count": 34,
   "id": "117f128a",
   "metadata": {
    "execution": {
     "iopub.execute_input": "2022-04-12T18:01:29.365161Z",
     "iopub.status.busy": "2022-04-12T18:01:29.364434Z",
     "iopub.status.idle": "2022-04-12T18:01:29.367210Z",
     "shell.execute_reply": "2022-04-12T18:01:29.366615Z",
     "shell.execute_reply.started": "2022-03-18T16:48:58.370268Z"
    },
    "papermill": {
     "duration": 0.065112,
     "end_time": "2022-04-12T18:01:29.367351",
     "exception": false,
     "start_time": "2022-04-12T18:01:29.302239",
     "status": "completed"
    },
    "tags": []
   },
   "outputs": [],
   "source": [
    "# import pandas as pd\n",
    "# h={'step': 0, 'type': 'string', 'amount': 0.0, 'nameOrig': 'C1231006815', 'oldbalanceOrig': 0.0, 'newbalanceOrig': 0.0, 'nameDest': 'M1979787155', 'oldbalanceDest': 0.0, 'newbalanceDest': 0.0}\n",
    "# df=pd.DataFrame([h])"
   ]
  },
  {
   "cell_type": "code",
   "execution_count": 35,
   "id": "abc8ffe7",
   "metadata": {
    "execution": {
     "iopub.execute_input": "2022-04-12T18:01:29.486543Z",
     "iopub.status.busy": "2022-04-12T18:01:29.485716Z",
     "iopub.status.idle": "2022-04-12T18:01:29.489014Z",
     "shell.execute_reply": "2022-04-12T18:01:29.489495Z",
     "shell.execute_reply.started": "2022-04-09T17:21:26.021615Z"
    },
    "papermill": {
     "duration": 0.064692,
     "end_time": "2022-04-12T18:01:29.489700",
     "exception": false,
     "start_time": "2022-04-12T18:01:29.425008",
     "status": "completed"
    },
    "tags": []
   },
   "outputs": [],
   "source": [
    "#df"
   ]
  },
  {
   "cell_type": "code",
   "execution_count": null,
   "id": "cca4022e",
   "metadata": {
    "papermill": {
     "duration": 0.057936,
     "end_time": "2022-04-12T18:01:29.606937",
     "exception": false,
     "start_time": "2022-04-12T18:01:29.549001",
     "status": "completed"
    },
    "tags": []
   },
   "outputs": [],
   "source": []
  }
 ],
 "metadata": {
  "kernelspec": {
   "display_name": "Python 3",
   "language": "python",
   "name": "python3"
  },
  "language_info": {
   "codemirror_mode": {
    "name": "ipython",
    "version": 3
   },
   "file_extension": ".py",
   "mimetype": "text/x-python",
   "name": "python",
   "nbconvert_exporter": "python",
   "pygments_lexer": "ipython3",
   "version": "3.7.12"
  },
  "papermill": {
   "default_parameters": {},
   "duration": 21.463776,
   "end_time": "2022-04-12T18:01:30.477148",
   "environment_variables": {},
   "exception": null,
   "input_path": "__notebook__.ipynb",
   "output_path": "__notebook__.ipynb",
   "parameters": {},
   "start_time": "2022-04-12T18:01:09.013372",
   "version": "2.3.3"
  }
 },
 "nbformat": 4,
 "nbformat_minor": 5
}
