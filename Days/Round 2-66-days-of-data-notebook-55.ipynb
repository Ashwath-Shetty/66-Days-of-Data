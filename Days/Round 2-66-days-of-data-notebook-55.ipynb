{
 "cells": [
  {
   "cell_type": "code",
   "execution_count": 1,
   "id": "5ba1cee2",
   "metadata": {
    "_cell_guid": "b1076dfc-b9ad-4769-8c92-a6c4dae69d19",
    "_uuid": "8f2839f25d086af736a60e9eeb907d3b93b6e0e5",
    "execution": {
     "iopub.execute_input": "2022-05-05T16:53:40.689910Z",
     "iopub.status.busy": "2022-05-05T16:53:40.688828Z",
     "iopub.status.idle": "2022-05-05T16:53:40.705687Z",
     "shell.execute_reply": "2022-05-05T16:53:40.706126Z",
     "shell.execute_reply.started": "2022-04-12T14:12:25.248687Z"
    },
    "papermill": {
     "duration": 0.072496,
     "end_time": "2022-05-05T16:53:40.706452",
     "exception": false,
     "start_time": "2022-05-05T16:53:40.633956",
     "status": "completed"
    },
    "tags": []
   },
   "outputs": [
    {
     "name": "stdout",
     "output_type": "stream",
     "text": [
      "/kaggle/input/sample-pdf/D8communications.pdf\n"
     ]
    }
   ],
   "source": [
    "# This Python 3 environment comes with many helpful analytics libraries installed\n",
    "# It is defined by the kaggle/python Docker image: https://github.com/kaggle/docker-python\n",
    "# For example, here's several helpful packages to load\n",
    "\n",
    "import numpy as np # linear algebra\n",
    "import pandas as pd # data processing, CSV file I/O (e.g. pd.read_csv)\n",
    "\n",
    "# Input data files are available in the read-only \"../input/\" directory\n",
    "# For example, running this (by clicking run or pressing Shift+Enter) will list all files under the input directory\n",
    "\n",
    "import os\n",
    "for dirname, _, filenames in os.walk('/kaggle/input'):\n",
    "    for filename in filenames:\n",
    "        print(os.path.join(dirname, filename))\n",
    "\n",
    "# You can write up to 20GB to the current directory (/kaggle/working/) that gets preserved as output when you create a version using \"Save & Run All\" \n",
    "# You can also write temporary files to /kaggle/temp/, but they won't be saved outside of the current session"
   ]
  },
  {
   "cell_type": "markdown",
   "id": "47b88399",
   "metadata": {
    "papermill": {
     "duration": 0.049883,
     "end_time": "2022-05-05T16:53:40.807136",
     "exception": false,
     "start_time": "2022-05-05T16:53:40.757253",
     "status": "completed"
    },
    "tags": []
   },
   "source": [
    "# **Start Date: 12/3/2022**"
   ]
  },
  {
   "cell_type": "markdown",
   "id": "15fd9399",
   "metadata": {
    "papermill": {
     "duration": 0.050898,
     "end_time": "2022-05-05T16:53:40.910445",
     "exception": false,
     "start_time": "2022-05-05T16:53:40.859547",
     "status": "completed"
    },
    "tags": []
   },
   "source": [
    "# **Day 1:** \n",
    "<br>dataquest -> stats -> probability-> estimating probability\n",
    "1. out come is nothing but o/p of an experiment\n",
    "ex: whatever u get after rolling a dice -> it can be any number\n",
    "2. event can have more than one outcome\n",
    "- e.x: The event that we'll get an odd number when we roll a six-sided die — this event includes the outcomes 1, 3, and 5.\n",
    "- an event can be 0 as well.\n",
    "- We always assign probabilities to events, not outcomes, even if the event includes only one outcome.\n",
    "- P(E) =1/total number of possible outcomes, P(E) probability of an event happening.\n",
    "- but above formula doesn't work always, especially when there are more than one outcome\n",
    "    - P(E)=number of successful outcomes/total number of possible outcomes\n",
    "- incase of a biased situation \n",
    "  - let's say a die has 6 - 3 times which is 1,6,3,5,6,6\n",
    "    we will consider 6 as 3 times not 1.\n",
    "    possible outcome-> 1,3,5,6,6,6\n",
    "    prob(6)=3/6\n",
    "    prob(3)=1/6\n",
    "    prob(2)=0/6\n",
    "    If we didn't treat each 6 differently and said it doesn't matter which side a 6 is on, \n",
    "    <br>we'd be forced to conclude the only possible outcomes are 1, 3, 5 and 6. We can definitely         <br>frame the problem like that, but the formula above won't work anymore — we see below P(6) <br>becomes the same as P(3), but, intuitively, P(6) should be higher than P(3) since the die has 6 on     <br>three of its sides:\n"
   ]
  },
  {
   "cell_type": "markdown",
   "id": "c03a3b91",
   "metadata": {
    "papermill": {
     "duration": 0.049834,
     "end_time": "2022-05-05T16:53:41.010663",
     "exception": false,
     "start_time": "2022-05-05T16:53:40.960829",
     "status": "completed"
    },
    "tags": []
   },
   "source": [
    "Estimating Probabilities Conclusion\n",
    "- emperical/ experimental probability\n",
    "  - probability achieved by experimenting / by doing the same event multiple times.\n",
    "  - Generally, for any event E (like a coin landing heads up), we can find its empirical probability   \n",
    "     by using the following formula: \n",
    "     •P (E) =number of times event E happened/ number of times we repeated the experiment   \n",
    " - Generally, the empirical probability of an event (a coin landing heads up, getting a 5 when weroll a die) approaches the true probability value as the number of trials of the randomexperiment (a coin toss, the rolling of a die) increases without bound.\n",
    "- When we calculate the probability of an event under the assumption that the outcomes have equal chances of occurring, we say that we're calculating the **theoretical probability** of an event.\n",
    "   - P(E)=number of successful outcomes/total number of possible outcomes\n",
    "\n"
   ]
  },
  {
   "cell_type": "markdown",
   "id": "39e213af",
   "metadata": {
    "papermill": {
     "duration": 0.051829,
     "end_time": "2022-05-05T16:53:41.113500",
     "exception": false,
     "start_time": "2022-05-05T16:53:41.061671",
     "status": "completed"
    },
    "tags": []
   },
   "source": [
    "# **Day 2**\n",
    "<br>dataquest-> stats -> intro to probability -> probability rules\n",
    "<br>In probability theory, the set of all possible outcomes is called a sample space. A sample space is often denoted by the capital Greek letter Ω (read \"omega\"). This is how we represent the sample space of a die roll:\n",
    "\n",
    "Ω = {1,2,3,4,5,6}\n",
    "-    The probability of any event ranges between 0 and 1: 0≤ P(Event) ≤1\n",
    "- To calculate P(A or B), we can also use the formula below, which is sometimes called the addition rule: P(A or B) = P(A) + P(B)\n",
    "  - Sample space ={ 1,2,3,4,5,6} \n",
    "  - P(2 or 5) = 2/6\n",
    "\n",
    "- P(C or D) = P(C) + P(D) - P(C and D)\n",
    "   - e.x : Sample_space ={2,4,6} + { 4,5,6} - {4/6}\n",
    "      P( even number or number greater than 3) = ( (3/6) + (3/6) )- (2/6) = 4/6\n",
    "- Events that don't intersect are called mutually exclusive.\n",
    "  - e.x: Getting a 5 (event one) and getting a 3 (event two) when we roll a regular six-sided die — it's  impossible to get both a 5 and 3.\n",
    "- Events that intersect are called mutually non-exclusive.\n",
    "  - Getting a number greater than 2 (event one) and getting an odd number (event two) when we roll a regular six-sided die — we could get a 5, which is both greater than 2 (event one) and odd (event two).\n",
    "- unioun -> A or B, intersection -> A and B"
   ]
  },
  {
   "cell_type": "markdown",
   "id": "898097de",
   "metadata": {
    "papermill": {
     "duration": 0.050643,
     "end_time": "2022-05-05T16:53:41.216257",
     "exception": false,
     "start_time": "2022-05-05T16:53:41.165614",
     "status": "completed"
    },
    "tags": []
   },
   "source": [
    "# Day 3 and 4\n",
    "dataquest -> stats -> probabilities -> solving complex probabilities\n",
    "- This is the same result we got from our previous approach. In more general terms, the multiplication rule says that for two events E1 and E2, the probability that both event E1 and E2 happen can be found by multiplying the probability of E1 by the probability of E2:\n",
    "    - P(E1 ∩ E2) = P(E1) × P(E2)\n",
    "    - Events that don't influence each other's probability are called independent events. If H1 happens, P(H2) stays the same, so H1 and H2 are independent. The multiplication rule we learned only works for independent events.\n",
    "    "
   ]
  },
  {
   "cell_type": "markdown",
   "id": "d9a0d9d9",
   "metadata": {
    "papermill": {
     "duration": 0.051221,
     "end_time": "2022-05-05T16:53:41.319239",
     "exception": false,
     "start_time": "2022-05-05T16:53:41.268018",
     "status": "completed"
    },
    "tags": []
   },
   "source": [
    "# Day 5\n",
    "- When we replace the cards after drawing, we say that we're sampling with replacement. When we don't put the cards back, we're sampling without replacement. \n"
   ]
  },
  {
   "cell_type": "markdown",
   "id": "87577d87",
   "metadata": {
    "papermill": {
     "duration": 0.051579,
     "end_time": "2022-05-05T16:53:41.420735",
     "exception": false,
     "start_time": "2022-05-05T16:53:41.369156",
     "status": "completed"
    },
    "tags": []
   },
   "source": [
    "# Day6\n",
    "dataquest-> prob and stats -> probability fundamentals -> permutation and combinations\n",
    "Generally, if we have an experiment E1 (like flipping a coin) with a outcomes, followed by an experiment E2 (like rolling a die) with b outcomes, then the total number of outcomes for the composite experiment E1E2 can be found by multiplying a with b:\n",
    "\n",
    "Number of outcomes = a * b"
   ]
  },
  {
   "cell_type": "markdown",
   "id": "f1ea8cd6",
   "metadata": {
    "papermill": {
     "duration": 0.051431,
     "end_time": "2022-05-05T16:53:41.522794",
     "exception": false,
     "start_time": "2022-05-05T16:53:41.471363",
     "status": "completed"
    },
    "tags": []
   },
   "source": [
    "# Day 7\n",
    "dataquest-> prob and stats -> probability fundamentals -> permutation and combinations <br>\n",
    "More generally, if we have an experiment E1 with a outcomes, followed by an experiment E2 with b outcomes, followed by an experiment En with z outcomes, the total number of outcomes for the composite experiment E1E2 ... En can be found by multiplying their individual outcomes:\n",
    "\n",
    "Number of outcomes= a * b * … * z"
   ]
  },
  {
   "cell_type": "markdown",
   "id": "c05eb0a9",
   "metadata": {
    "papermill": {
     "duration": 0.052285,
     "end_time": "2022-05-05T16:53:41.625083",
     "exception": false,
     "start_time": "2022-05-05T16:53:41.572798",
     "status": "completed"
    },
    "tags": []
   },
   "source": [
    "# Day 8\n",
    "dataquest-> prob and stats -> probability fundamentals -> permutation and combinations <br>\n",
    "permutations= n*(n-1)*(n-2)*....*2*1\n"
   ]
  },
  {
   "cell_type": "markdown",
   "id": "807972e1",
   "metadata": {
    "papermill": {
     "duration": 0.05003,
     "end_time": "2022-05-05T16:53:41.726287",
     "exception": false,
     "start_time": "2022-05-05T16:53:41.676257",
     "status": "completed"
    },
    "tags": []
   },
   "source": [
    "# Day 9\n",
    "dataquest-> prob and stats -> probability fundamentals -> permutation and combinations\n",
    "- in permutation order of the individual element in the arranement matters.\n",
    "   - for e.x: 9821 is different than 9281\n",
    "   - Permutations =n!  --> sample without replacement-> we are not putting back the sampled data.\n",
    "   - On the last screen, we learned to use the formula below to calculate permutations when we're sampling without replacement and taking only k objects from a group of n objects:\n",
    "   npk=n!/(n-k)!"
   ]
  },
  {
   "cell_type": "markdown",
   "id": "99a9b0f2",
   "metadata": {
    "papermill": {
     "duration": 0.050427,
     "end_time": "2022-05-05T16:53:41.827242",
     "exception": false,
     "start_time": "2022-05-05T16:53:41.776815",
     "status": "completed"
    },
    "tags": []
   },
   "source": [
    "# Day 10\n",
    "dataquest-> prob and stats -> probability fundamentals -> permutation and combinations\n",
    "- More generally, if the order of the elements in an arrangement doesn't matter, the arrangement is called a combination.\n",
    "- e.x: cards in a deck \n",
    "- nCk = n! / ((n-k)!*k!)"
   ]
  },
  {
   "cell_type": "markdown",
   "id": "e66397c1",
   "metadata": {
    "papermill": {
     "duration": 0.051984,
     "end_time": "2022-05-05T16:53:41.930741",
     "exception": false,
     "start_time": "2022-05-05T16:53:41.878757",
     "status": "completed"
    },
    "tags": []
   },
   "source": [
    "# Day 11\n",
    "dataquest-> prob and stats -> probability fundamentals -> permutation and combinations\n",
    "- solved 1 probability problem.\n"
   ]
  },
  {
   "cell_type": "markdown",
   "id": "e3a9ac28",
   "metadata": {
    "papermill": {
     "duration": 0.052493,
     "end_time": "2022-05-05T16:53:42.034357",
     "exception": false,
     "start_time": "2022-05-05T16:53:41.981864",
     "status": "completed"
    },
    "tags": []
   },
   "source": [
    "# Day 12\n",
    "dataquest-> prob and stats -> probability fundamentals -> permutation and combinations\n",
    "- finished probability and permutations by revising them.\n",
    "- If we have an experiment E1 (like flipping a coin) with a outcomes, followed by an experiment E2(like rolling a die) with b outcomes, then the total number of outcomes for the compositeexperiment E1E2 can be found by multiplying a with b (this is known as the rule of product):\n",
    "  - number of outcomes = a*b\n",
    "- If we have an experiment E1 with a outcomes, followed by an experiment E2 with b outcomes,followed by an experiment En with z outcomes, the total number of outcomes for the compositeexperiment E1E2 ... En can be found by multiplying their individual outcomes:\n",
    "   - number of outcomes = a*b* ... *z\n",
    "- There are two kinds of arrangements:\n",
    "   - •Arrangements where the order matters, which we call permutations.\n",
    "   - •Arrangements where the order doesn't matter, which we call combination\n",
    "- To find the number of permutations when we're sampling without replacement, we can use theformula:\n",
    "  - permutation = n!\n",
    "- To find the number of permutations when we're sampling without replacement and taking only kobjects from a group of n objects, we can use the formula:\n",
    "  - nPk = n!/(n-k)!\n",
    "- To find the number of combinations when we're sampling without replacement and taking only kobjects from a group of n objects, we can use the formula\n",
    "  - nCk = n! / ((n-k)!*k!)"
   ]
  },
  {
   "cell_type": "markdown",
   "id": "cc99e329",
   "metadata": {
    "papermill": {
     "duration": 0.050432,
     "end_time": "2022-05-05T16:53:42.135104",
     "exception": false,
     "start_time": "2022-05-05T16:53:42.084672",
     "status": "completed"
    },
    "tags": []
   },
   "source": [
    "# Day 13\n",
    "dataquest-> prob and stats -> probability fundamentals -> conditional probabilities\n",
    "- first 2 slides -> mainly the recap of old chapter(above one).\n"
   ]
  },
  {
   "cell_type": "markdown",
   "id": "37b72520",
   "metadata": {
    "papermill": {
     "duration": 0.050412,
     "end_time": "2022-05-05T16:53:42.238377",
     "exception": false,
     "start_time": "2022-05-05T16:53:42.187965",
     "status": "completed"
    },
    "tags": []
   },
   "source": [
    "# Day 14\n",
    "dataquest-> prob and stats -> probability fundamentals -> conditional probabilities\n",
    "<br>slide 4 completed\n",
    "<br>conditional probabilities\n",
    "- probabilities with condition\n",
    "- P(5)=What is the probability of getting a 5? -> normal probability\n",
    "- P(5 | odd) =What is the probability of getting a 5 given the die showed an odd number? -> conditional prob.\n",
    "\n"
   ]
  },
  {
   "cell_type": "markdown",
   "id": "c36e34a4",
   "metadata": {
    "papermill": {
     "duration": 0.049765,
     "end_time": "2022-05-05T16:53:42.338045",
     "exception": false,
     "start_time": "2022-05-05T16:53:42.288280",
     "status": "completed"
    },
    "tags": []
   },
   "source": [
    "# Day 15\n",
    "dataquest-> prob and stats -> probability fundamentals -> conditional probabilities\n",
    "- on slide 5 not done yet.\n",
    "\n",
    "Say we roll a fair six-sided die and want to find the probability of getting an odd number, given the die showed a number greater than 1 after landing. Using probability notation, we want to find P(A|B) where:\n",
    "\n",
    "- A is the event that the number is odd: A = {1, 3, 5}\n",
    "- B is the event that the number is greater than 1: B = {2, 3, 4, 5, 6}\n",
    "- P(A/B)=number of succesfull outcomes / total number of outcomes.\n"
   ]
  },
  {
   "cell_type": "markdown",
   "id": "09095567",
   "metadata": {
    "papermill": {
     "duration": 0.05166,
     "end_time": "2022-05-05T16:53:42.439621",
     "exception": false,
     "start_time": "2022-05-05T16:53:42.387961",
     "status": "completed"
    },
    "tags": []
   },
   "source": [
    "# Day 16 and 17\n",
    "dataquest-> prob and stats -> probability fundamentals -> conditional probabilities\n",
    "\n",
    "on slide 6 not done yet."
   ]
  },
  {
   "cell_type": "markdown",
   "id": "5d7b1a39",
   "metadata": {
    "papermill": {
     "duration": 0.052152,
     "end_time": "2022-05-05T16:53:42.543446",
     "exception": false,
     "start_time": "2022-05-05T16:53:42.491294",
     "status": "completed"
    },
    "tags": []
   },
   "source": [
    "# Day 18\n",
    "dataquest-> prob and stats -> probability fundamentals -> conditional probabilities\n",
    "<br>slide 5 code half done"
   ]
  },
  {
   "cell_type": "markdown",
   "id": "74794bdb",
   "metadata": {
    "papermill": {
     "duration": 0.055018,
     "end_time": "2022-05-05T16:53:42.652740",
     "exception": false,
     "start_time": "2022-05-05T16:53:42.597722",
     "status": "completed"
    },
    "tags": []
   },
   "source": [
    "# Day 19\n",
    "- The number of elements in a set is called the cardinal of the set. \n",
    "  Ω is a set, and the cardinal of \n",
    "   Ω = { 2,3,4,5,6}\n",
    "   cardinal(Ω)=5\n",
    "- P(A | B) = card(A ∩ B) / card(B)\n",
    "- Say we roll a fair six-sided die and want to find the probability of getting an odd number, given the die showed a number greater than 1 after landing. Using probability notation, we want to find P(A|B) where:\n",
    "    - A is the event that the number is odd: A = {1, 3, 5}\n",
    "     - B is the event that the number is greater than 1: B = {2, 3, 4, 5, 6}\n",
    "     - total number of possible outcomes = card({2,3,4,5,6}) =5\n",
    "     - number of successful outcomes = card({3,5})= 2\n",
    "- P(A | B) = card(A ∩ B) / card(B), we can also get the same result using P(A | B) = prob(A ∩ B) / prob(B)\n",
    "\n",
    "     "
   ]
  },
  {
   "cell_type": "markdown",
   "id": "f4205b62",
   "metadata": {
    "papermill": {
     "duration": 0.049565,
     "end_time": "2022-05-05T16:53:42.753433",
     "exception": false,
     "start_time": "2022-05-05T16:53:42.703868",
     "status": "completed"
    },
    "tags": []
   },
   "source": [
    "# Day 20\n",
    "dataquest-> prob and stats -> probability fundamentals -> conditional probabilities intermediate\n",
    "<br> slide 1 and 2\n",
    "- P( A | B ) ≠ P(A ∩ B), but rather:\n",
    "   - P(A | B) = P(A ∩ B) / P(B)\n",
    "   - P(A ∩ B) = P(A | B) ⋅ P(B)\n",
    "- Given that a customer bought a laptop, they will or will not also buy a mouse. This means we can be certain that either event (M|L) or (M^C|L) will happen:\n",
    "     - P(M | L) + P(M^C | L) = 1\n",
    "\n"
   ]
  },
  {
   "cell_type": "markdown",
   "id": "0e14df7b",
   "metadata": {
    "papermill": {
     "duration": 0.050425,
     "end_time": "2022-05-05T16:53:42.853755",
     "exception": false,
     "start_time": "2022-05-05T16:53:42.803330",
     "status": "completed"
    },
    "tags": []
   },
   "source": [
    "# Day 21\n",
    "dataquest-> prob and stats -> probability fundamentals -> conditional probabilities intermediate\n",
    "slide 1 and 2\n",
    "- P(A ∩ B) = P(B ∩ A)\n",
    "- multiplication rule of probability\n",
    "  -  P(A ∩ B) = P(B) ⋅ P(A | B) \n",
    "  - P(A ∩ B) = P(A) ⋅ P(B | A)\n",
    "- if P(A) and P(B) are statistically independent then \n",
    "  - P(A ∩ B) = P(A) ⋅ P(B)\n",
    "\n"
   ]
  },
  {
   "cell_type": "markdown",
   "id": "c7117cf5",
   "metadata": {
    "papermill": {
     "duration": 0.051828,
     "end_time": "2022-05-05T16:53:42.958346",
     "exception": false,
     "start_time": "2022-05-05T16:53:42.906518",
     "status": "completed"
    },
    "tags": []
   },
   "source": [
    "# Day 22\n",
    "dataquest-> prob and stats -> probability fundamentals -> conditional probabilities intermediate \n",
    "<br>slide 6\n",
    "- If events events A and B are dependent, it means the occurrence of event A changes the probability of event B and vice versa.\n",
    "   - P(A) ≠ P(A | B)\n",
    "   - P(B) ≠ P(B | A)\n",
    "   - P(A ∩ B) ≠ P(A) ⋅ P(B)\n",
    "   - formula will become P(A ∩ B) ≠ P(A) ⋅ P(B/A)\n",
    "   "
   ]
  },
  {
   "cell_type": "markdown",
   "id": "e4d6070f",
   "metadata": {
    "papermill": {
     "duration": 0.049861,
     "end_time": "2022-05-05T16:53:43.059543",
     "exception": false,
     "start_time": "2022-05-05T16:53:43.009682",
     "status": "completed"
    },
    "tags": []
   },
   "source": [
    "# Day 23\n",
    "dataquest-> prob and stats -> probability fundamentals -> conditional probabilities intermediate\n",
    "<br>slide 7 to last\n",
    "- To find whether three events — A, B, C — are independent or not, below conditions must hold true -\n",
    "  - P(A ∩ B) ≠ P(A) ⋅ P(B)\n",
    "  - P(A ∩ C) ≠ P(A) ⋅ P(C)\n",
    "  - P(B ∩ C) ≠ P(B) ⋅ P(C)\n",
    "  - P(A ∩ B ∩ C) ≠ P(A) ⋅ P(B) . P(C)\n",
    "- multiplication rule for conditional probability or dependent events\n",
    " - P(A ∩ B ∩ C) = P(A) ⋅ P(B | A) ⋅ P(C | A ∩ B)\n",
    " \n",
    "\n"
   ]
  },
  {
   "cell_type": "markdown",
   "id": "45069894",
   "metadata": {
    "papermill": {
     "duration": 0.050465,
     "end_time": "2022-05-05T16:53:43.163239",
     "exception": false,
     "start_time": "2022-05-05T16:53:43.112774",
     "status": "completed"
    },
    "tags": []
   },
   "source": [
    "# Day 24\n",
    "dataquest-> prob and stats -> probability fundamentals -> bayes theorem\n",
    "<br>slide 1\n",
    "- independent -> one event is dependent on other\n",
    "   - P(A ∩ B) = P(A) ⋅ P(B/A)\n",
    "- independent -> one event is not dependent on other.\n",
    "   - P(A ∩ B) = P(A) ⋅ P(B)\n",
    "- mutually exclusive -> both the events cannot happen at the same time.\n",
    "   - P(A ∩ B) = 0\n",
    "\n"
   ]
  },
  {
   "cell_type": "markdown",
   "id": "9c7b5012",
   "metadata": {
    "papermill": {
     "duration": 0.05129,
     "end_time": "2022-05-05T16:53:43.264680",
     "exception": false,
     "start_time": "2022-05-05T16:53:43.213390",
     "status": "completed"
    },
    "tags": []
   },
   "source": [
    "# Day 25\n",
    "dataquest-> prob and stats -> probability fundamentals -> bayes theorem\n",
    "<br>slide 2\n",
    "- If two events are exhaustive, it means they make up the whole sample space Ω\n",
    "  -  P(A) = P(A ∩ B) + P(A ∩ B^c)\n",
    "     P(A) = (P(B) * P(A/B)) +  (P(B^c) * P(A/B^c))\n",
    "     \n",
    "     "
   ]
  },
  {
   "cell_type": "markdown",
   "id": "d2b426b8",
   "metadata": {
    "papermill": {
     "duration": 0.050326,
     "end_time": "2022-05-05T16:53:43.365077",
     "exception": false,
     "start_time": "2022-05-05T16:53:43.314751",
     "status": "completed"
    },
    "tags": []
   },
   "source": [
    "# Day 26\n",
    "dataquest-> prob and stats -> probability fundamentals -> bayes theorem\n",
    "<br>slide 3 - last\n",
    "- the law of total probability\n",
    "  - P(A)  = (P(B1) * P(A/B1)) + (P(B2) * P(A/B2))+ ... + (P(Bn) * P(A/Bn)))\n",
    "  - P(A) =(summattion i=1 to n) P(Bi) ⋅ P(A|Bi)\n",
    "- Baye's theorem\n",
    "  - P(B | A) = (P(B) ⋅ P(A | B)) / (n ∑i=1 P(Bi) ⋅ P(A | Bi))\n",
    "- The probability of being infected with HIV before doing any test is called the prior probability (\"prior\" means \"before\"). The probability of being infected with HIV after testing positive is called the posterior probability (\"posterior\" means \"after\").\n",
    "\n",
    "\n",
    "  "
   ]
  },
  {
   "cell_type": "markdown",
   "id": "c7538315",
   "metadata": {
    "papermill": {
     "duration": 0.049981,
     "end_time": "2022-05-05T16:53:43.467376",
     "exception": false,
     "start_time": "2022-05-05T16:53:43.417395",
     "status": "completed"
    },
    "tags": []
   },
   "source": [
    "# Day 27\n",
    "dataquest-> prob and stats -> probability fundamentals -> naive bayes theorem\n",
    "<br>slide 1 - \n",
    "P(Spam|w1,w2,w3,w4)∝P(Spam)⋅P(w1|Spam)⋅P(w2|Spam)⋅P(w3|Spam)⋅P(w4|Spam)P(SpamC|w1,w2,w3,w4)∝P(SpamC)⋅P(w1|SpamC)⋅P(w2|SpamC)⋅P(w3|SpamC)⋅P(w4|SpamC)"
   ]
  },
  {
   "cell_type": "markdown",
   "id": "9ac8a68e",
   "metadata": {
    "papermill": {
     "duration": 0.053419,
     "end_time": "2022-05-05T16:53:43.574579",
     "exception": false,
     "start_time": "2022-05-05T16:53:43.521160",
     "status": "completed"
    },
    "tags": []
   },
   "source": [
    "# Day 28\n",
    "dataquest-> prob and stats -> probability fundamentals -> naive bayes theorem\n",
    "<br>finished.\n",
    "<br>**Summary**\n",
    "- P(Spam|w1,w2,...,wn)∝P(Spam)⋅n∏i=1P(wi|Spam)\n",
    "- P(SpamC|w1,w2,...,wn)∝P(SpamC)⋅n∏i=1P(wi|SpamC)\n",
    "- To calculate P(wi|Spam) and P(wi|SpamC), we need to use the additive smoothing technique: \n",
    "- P ( w i | S p a m ) = (N w i | S p a m + α) / ( N S p a m + α ⋅ N V o c a b u l a r y )\n",
    "- P ( w i | S p a m C ) = (N w i | S p a m C + α) / ( N S p a m C + α ⋅ N V o c a b u l a r y )\n",
    "     - N w i | S p a m = the number of times the word w i occurs in spam messages \n",
    "     - N w i | S p a m C = the number of times the word w i occurs in non-spam messages \n",
    "     - N S p a m = total number of words in spam messages \n",
    "     - N S p a m C = total number of words in non-spam messages \n",
    "     - N V o c a b u l a r y = total number of words in the vocabulary \n",
    "     - α = 1 ( α is a smoothing parameter )\n",
    " - naive bayes theorem assumes that events are not dependent.\n",
    " - The assumption of conditional independence between words is thus naive since it rarely holds in practice, and this is why the algorithm is called Naive Bayes (also called simple Bayes or independence Bayes)."
   ]
  },
  {
   "cell_type": "markdown",
   "id": "735a133f",
   "metadata": {
    "papermill": {
     "duration": 0.050906,
     "end_time": "2022-05-05T16:53:43.678180",
     "exception": false,
     "start_time": "2022-05-05T16:53:43.627274",
     "status": "completed"
    },
    "tags": []
   },
   "source": [
    "# Day 29,30,31\n",
    "<br>dataquest-> prob and stats -> probability fundamentals -> conditional probability-> guided projects\n",
    "<br> in progress"
   ]
  },
  {
   "cell_type": "markdown",
   "id": "314ed9f2",
   "metadata": {
    "papermill": {
     "duration": 0.05115,
     "end_time": "2022-05-05T16:53:43.780521",
     "exception": false,
     "start_time": "2022-05-05T16:53:43.729371",
     "status": "completed"
    },
    "tags": []
   },
   "source": [
    "# Day 32 and 33\n",
    "<br>dataquest-> prob and stats -> probability fundamentals -> guided projects\n",
    "<br> done"
   ]
  },
  {
   "cell_type": "markdown",
   "id": "70e610d7",
   "metadata": {
    "papermill": {
     "duration": 0.052192,
     "end_time": "2022-05-05T16:53:43.883791",
     "exception": false,
     "start_time": "2022-05-05T16:53:43.831599",
     "status": "completed"
    },
    "tags": []
   },
   "source": [
    "# Day 34\n",
    "<br>dataquest-> prob and stats -> probability fundamentals -> guided projects-> lottery prediction\n",
    "<br> done"
   ]
  },
  {
   "cell_type": "markdown",
   "id": "ea5ef633",
   "metadata": {
    "papermill": {
     "duration": 0.050319,
     "end_time": "2022-05-05T16:53:43.984800",
     "exception": false,
     "start_time": "2022-05-05T16:53:43.934481",
     "status": "completed"
    },
    "tags": []
   },
   "source": [
    "# Day 35\n",
    "<br>dataquest-> prob and stats -> hypothesis testing fundamentals -> significance testing\n",
    "<br> till slide 4\n",
    "- null hypothesis\n",
    "- alternate hypothesis\n"
   ]
  },
  {
   "cell_type": "markdown",
   "id": "b6753160",
   "metadata": {
    "papermill": {
     "duration": 0.055292,
     "end_time": "2022-05-05T16:53:44.096168",
     "exception": false,
     "start_time": "2022-05-05T16:53:44.040876",
     "status": "completed"
    },
    "tags": []
   },
   "source": [
    "# Day 36 and 37\n",
    "<br>dataquest-> prob and stats -> hypothesis testing fundamentals -> significance testing\n",
    "- The permutation test is a statistical test that involves rerunning the study many times and recalculating the test statistic for each iteration. The goal is to calculate a distribution of the test statistics over these many iterations. This distribution is called the sampling distribution and it approximates the full range of possible test statistics under the null hypothesis\n",
    "\n"
   ]
  },
  {
   "cell_type": "markdown",
   "id": "4056a1fc",
   "metadata": {
    "papermill": {
     "duration": 0.051816,
     "end_time": "2022-05-05T16:53:44.198710",
     "exception": false,
     "start_time": "2022-05-05T16:53:44.146894",
     "status": "completed"
    },
    "tags": []
   },
   "source": [
    "# Day 38\n",
    "<br>dataquest-> prob and stats -> hypothesis testing fundamentals -> significance testing\n",
    "<br>in progress."
   ]
  },
  {
   "cell_type": "markdown",
   "id": "51660abb",
   "metadata": {
    "papermill": {
     "duration": 0.049917,
     "end_time": "2022-05-05T16:53:44.299033",
     "exception": false,
     "start_time": "2022-05-05T16:53:44.249116",
     "status": "completed"
    },
    "tags": []
   },
   "source": [
    "# Day 39\n",
    "<br>dataquest-> prob and stats -> hypothesis testing fundamentals -> significance testing\n",
    "<br>slide 5-6"
   ]
  },
  {
   "cell_type": "markdown",
   "id": "6ff173f8",
   "metadata": {
    "papermill": {
     "duration": 0.049721,
     "end_time": "2022-05-05T16:53:44.399611",
     "exception": false,
     "start_time": "2022-05-05T16:53:44.349890",
     "status": "completed"
    },
    "tags": []
   },
   "source": [
    "# Day 40\n",
    "<br>dataquest-> prob and stats -> hypothesis testing fundamentals -> significance testing\n",
    "<br>slide 7"
   ]
  },
  {
   "cell_type": "markdown",
   "id": "781b766c",
   "metadata": {
    "papermill": {
     "duration": 0.052491,
     "end_time": "2022-05-05T16:53:44.504136",
     "exception": false,
     "start_time": "2022-05-05T16:53:44.451645",
     "status": "completed"
    },
    "tags": []
   },
   "source": [
    "# Day 41 and 42\n",
    "<br>dataquest-> prob and stats -> hypothesis testing fundamentals -> significance testing\n",
    "<br>slide 7 done and 8(p-value) strated"
   ]
  },
  {
   "cell_type": "markdown",
   "id": "4e220df2",
   "metadata": {
    "papermill": {
     "duration": 0.051751,
     "end_time": "2022-05-05T16:53:44.608946",
     "exception": false,
     "start_time": "2022-05-05T16:53:44.557195",
     "status": "completed"
    },
    "tags": []
   },
   "source": [
    "# Day 43\n",
    "<br>dataquest-> prob and stats -> hypothesis testing fundamentals -> significance testing\n",
    "<br>\n",
    "- The first step is to decide a test statistic, which is a numerical value that summarizes the data and one we can use in statistical formulas. The test statistic runs a statistical test that determines whether the difference between the groups was due to random chance.\n",
    "  - e.x: mean \n",
    "- The permutation test is a statistical test that involves rerunning the study many times and recalculating the test statistic for each iteration.\n",
    "   - The goal is to calculate a distribution of the test statistics over these many iterations. This distribution is called the sampling distribution and it approximates the full range of possible test statistics under the null hypothesis.\n",
    "- If the p value is less than the threshold, we:\n",
    "    - reject the null hypothesis that there's no difference in the mean amount of weight lost by participants in both groups; and\n",
    "    - conclude that there is some evidence that the weight loss pill does affect the amount of weight people lost.\n",
    "\n",
    "- If the p value is greater than the threshold, we:\n",
    "    - fail to reject the null hypothesis that there's no difference in the mean amount of weight lost by participants in both groups,\n",
    "    - conclude that the weight loss pill doesn't seem to be effective in helping people lose weight.\n",
    "- usually used p-value threshold is 0.05\n",
    "- The p value threshold you set can also affect the conclusion you reach.\n",
    "    - If you set too high of a p value threshold, you may reject the null hypothesis incorrectly. This is known as a type I error.\n",
    "    - If you set too low of a p value threshold, you may fail to reject the null hypothesis incorrectly. This is known as a type II error."
   ]
  },
  {
   "cell_type": "markdown",
   "id": "364b82c4",
   "metadata": {
    "papermill": {
     "duration": 0.049378,
     "end_time": "2022-05-05T16:53:44.710147",
     "exception": false,
     "start_time": "2022-05-05T16:53:44.660769",
     "status": "completed"
    },
    "tags": []
   },
   "source": [
    "# Day 44\n",
    "<br>dataquest-> prob and stats -> hypothesis testing fundamentals -> significance testing-> chi squared test\n",
    "<br>1- 4\n",
    "- chi squared test is used for numerical values"
   ]
  },
  {
   "cell_type": "markdown",
   "id": "3923a5bb",
   "metadata": {
    "papermill": {
     "duration": 0.051584,
     "end_time": "2022-05-05T16:53:44.811627",
     "exception": false,
     "start_time": "2022-05-05T16:53:44.760043",
     "status": "completed"
    },
    "tags": []
   },
   "source": [
    "# Day 45 and 46\n",
    "<br>dataquest-> prob and stats -> hypothesis testing fundamentals -> significance testing-> chi squared test\n",
    "<br>4- 6"
   ]
  },
  {
   "cell_type": "markdown",
   "id": "a68e76ef",
   "metadata": {
    "papermill": {
     "duration": 0.050774,
     "end_time": "2022-05-05T16:53:44.913244",
     "exception": false,
     "start_time": "2022-05-05T16:53:44.862470",
     "status": "completed"
    },
    "tags": []
   },
   "source": [
    "# Day 47\n",
    "<br>dataquest-> prob and stats -> hypothesis testing fundamentals -> significance testing-> chi squared test\n",
    "<br> slide 6 done"
   ]
  },
  {
   "cell_type": "markdown",
   "id": "ca87a273",
   "metadata": {
    "papermill": {
     "duration": 0.049137,
     "end_time": "2022-05-05T16:53:45.012265",
     "exception": false,
     "start_time": "2022-05-05T16:53:44.963128",
     "status": "completed"
    },
    "tags": []
   },
   "source": [
    "# Day 48\n",
    "<br> chi-squared values is that they get smaller as the sample size decreases.\n",
    "<br>**conclusion**\n",
    "- The chi-squared test enables us to quantify the difference between sets of observed and expected categorical values to determine statistical significance\n",
    "- chi squared = (observed - expected)**2 / expected\n",
    "- A p-value allows us to determine whether the difference between 2 values is due to chance, or due to an underlying difference.\n",
    "- Chi-squared values increase as sample size increases, but the chance of getting a high chi-squared value decreases as the sample gets larger.\n",
    "- A degree of freedom is the number of values that can vary without the other values being\"locked in\". \n",
    "- scipy https://docs.scipy.org/doc/scipy/reference/generated/scipy.stats.mstats.chisquare.html\n"
   ]
  },
  {
   "cell_type": "markdown",
   "id": "f7f60f57",
   "metadata": {
    "papermill": {
     "duration": 0.050778,
     "end_time": "2022-05-05T16:53:45.113634",
     "exception": false,
     "start_time": "2022-05-05T16:53:45.062856",
     "status": "completed"
    },
    "tags": []
   },
   "source": [
    "# Day 49\n",
    "<br>dataquest-> prob and stats -> hypothesis testing fundamentals -> significance testing-> multi category chi squared test\n",
    "<br> slide 1 done\n",
    "- We can apply the multi category chi-squared test (also known as the chi-squared test of association) to figure out if there's a statistically significant correlation between two categorical columns.\n",
    "- "
   ]
  },
  {
   "cell_type": "markdown",
   "id": "acee0be6",
   "metadata": {
    "papermill": {
     "duration": 0.050797,
     "end_time": "2022-05-05T16:53:45.214853",
     "exception": false,
     "start_time": "2022-05-05T16:53:45.164056",
     "status": "completed"
    },
    "tags": []
   },
   "source": [
    " **Day 50**\n",
    "<br>dataquest-> prob and stats -> hypothesis testing fundamentals -> significance testing-> multi category chi squared test\n",
    "# Conclusion:\n",
    "- In a multiple category chi-squared test, we calculate expected values across our whole dataset.\n",
    "- We can calculate the chi-squared value by using the following steps:\n",
    "    - Subtract the expected value from the observed value.\n",
    "    - Subtract the difference.\n",
    "    - Divide the squared difference by the expected value.\n",
    "    - Repeat for all observed and expected values and add up all the values.\n",
    "- ∑ expected(observed−expected)**2 / expected\n",
    "- Discovering that a result isn't significant doesn't mean that no association between the columnsexists. Discovering a statistically significant result doesn't imply anything about what thecorrelation is.\n",
    "- Chi-squared tests can only be applied when each possibility within a category is independen.\n",
    "    - we have categories like male or female not both. single row has either male or female not both at a time.\n",
    "- https://docs.scipy.org/doc/scipy-0.15.1/reference/generated/scipy.stats.chi2_contingency.html\n",
    "- https://pandas.pydata.org/pandas-docs/stable/generated/pandas.crosstab.html\n"
   ]
  },
  {
   "cell_type": "markdown",
   "id": "121e2583",
   "metadata": {
    "papermill": {
     "duration": 0.049547,
     "end_time": "2022-05-05T16:53:45.314670",
     "exception": false,
     "start_time": "2022-05-05T16:53:45.265123",
     "status": "completed"
    },
    "tags": []
   },
   "source": [
    "# **Day 51, 52**\n",
    "<br>dataquest-> prob and stats -> hypothesis testing fundamentals -> significance testing-> guided project\n",
    "<br>in progress."
   ]
  },
  {
   "cell_type": "markdown",
   "id": "096b8c36",
   "metadata": {
    "papermill": {
     "duration": 0.050756,
     "end_time": "2022-05-05T16:53:45.417610",
     "exception": false,
     "start_time": "2022-05-05T16:53:45.366854",
     "status": "completed"
    },
    "tags": []
   },
   "source": [
    "# **Day 53**\n",
    "<br>dataquest-> prob and stats -> hypothesis testing fundamentals -> significance testing-> guided project\n",
    "<br>done"
   ]
  },
  {
   "cell_type": "markdown",
   "id": "8e4c023d",
   "metadata": {
    "papermill": {
     "duration": 0.051453,
     "end_time": "2022-05-05T16:53:45.523555",
     "exception": false,
     "start_time": "2022-05-05T16:53:45.472102",
     "status": "completed"
    },
    "tags": []
   },
   "source": [
    "# **Day 54,55**\n",
    "interviewbit-> probability-> conditional probability\n",
    "1. You asked your three friends whether it will rain or not and all three affirmed for rain. All three have the probability of 1/3 of lying. What is the probability that it will actually rain?\n",
    "- https://www.geeksforgeeks.org/puzzle-is-it-raining/#:~:text=Explanation%3A,truth%20or%20all%20are%20lying.&text=So%2C%20it%20is%20approximately%2089,it%20is%20raining%20in%20Hyderabad.\n",
    "2. Anshul and Deven take turns in rolling a fair six-sided die. Whoever rolls a “6” first wins the game. Deven starts by rolling first. What’s the probability that Anshul wins?\n",
    "- https://www.quora.com/A-and-B-throw-a-Fair-die-one-after-another-Whoever-throws-6-first-wins-What-is-the-probability-that-A-wins\n",
    "\n",
    "3. You have a bag with 6 marbles. One marble is white. You reach the bag 100 times. After taking out a marble, it is placed back in the bag. What is the probability of drawing a white marble at least once?\n",
    "- https://brainly.com/question/14376470\n",
    "- Answer:\n",
    "\n",
    "0.999999988\n",
    "\n",
    "Step-by-step explanation:\n",
    "\n",
    "Given that you  have a bag with 6 marbles. One marble is white. You reach the bag 100 times. After taking out a marble, it is placed back in the bag.\n",
    "\n",
    "Because every time you replace the marble drawn, the probability for drawing a white marble in one draw is constant = p =5/6\n",
    "\n",
    "No of trials n = 100\n",
    "\n",
    "Here X no of times white marble is drawn is Binomial since there are two outcomes and also the probability is constant.\n",
    "\n",
    "the probability of drawing a white marble at least once\n",
    "\n",
    "=\n",
    "\n",
    "Required probability is almost 1.\n",
    "\n"
   ]
  },
  {
   "cell_type": "code",
   "execution_count": null,
   "id": "0c631f83",
   "metadata": {
    "papermill": {
     "duration": 0.053391,
     "end_time": "2022-05-05T16:53:45.630511",
     "exception": false,
     "start_time": "2022-05-05T16:53:45.577120",
     "status": "completed"
    },
    "tags": []
   },
   "outputs": [],
   "source": []
  },
  {
   "cell_type": "code",
   "execution_count": 2,
   "id": "701fc2ec",
   "metadata": {
    "execution": {
     "iopub.execute_input": "2022-05-05T16:53:45.737755Z",
     "iopub.status.busy": "2022-05-05T16:53:45.737118Z",
     "iopub.status.idle": "2022-05-05T16:53:45.740490Z",
     "shell.execute_reply": "2022-05-05T16:53:45.740996Z",
     "shell.execute_reply.started": "2022-04-12T14:17:49.333113Z"
    },
    "papermill": {
     "duration": 0.058945,
     "end_time": "2022-05-05T16:53:45.741165",
     "exception": false,
     "start_time": "2022-05-05T16:53:45.682220",
     "status": "completed"
    },
    "tags": []
   },
   "outputs": [],
   "source": [
    "# !pip install PyMuPDF"
   ]
  },
  {
   "cell_type": "code",
   "execution_count": 3,
   "id": "bea137a3",
   "metadata": {
    "execution": {
     "iopub.execute_input": "2022-05-05T16:53:45.846617Z",
     "iopub.status.busy": "2022-05-05T16:53:45.846020Z",
     "iopub.status.idle": "2022-05-05T16:53:45.848809Z",
     "shell.execute_reply": "2022-05-05T16:53:45.849348Z",
     "shell.execute_reply.started": "2022-04-12T14:19:20.437905Z"
    },
    "papermill": {
     "duration": 0.05656,
     "end_time": "2022-05-05T16:53:45.849531",
     "exception": false,
     "start_time": "2022-05-05T16:53:45.792971",
     "status": "completed"
    },
    "tags": []
   },
   "outputs": [],
   "source": [
    " \n",
    "# fitz.__version__"
   ]
  },
  {
   "cell_type": "code",
   "execution_count": 4,
   "id": "9b92fc5b",
   "metadata": {
    "execution": {
     "iopub.execute_input": "2022-05-05T16:53:45.956116Z",
     "iopub.status.busy": "2022-05-05T16:53:45.955491Z",
     "iopub.status.idle": "2022-05-05T16:53:45.958512Z",
     "shell.execute_reply": "2022-05-05T16:53:45.959015Z",
     "shell.execute_reply.started": "2022-04-12T14:23:59.687259Z"
    },
    "papermill": {
     "duration": 0.057976,
     "end_time": "2022-05-05T16:53:45.959183",
     "exception": false,
     "start_time": "2022-05-05T16:53:45.901207",
     "status": "completed"
    },
    "tags": []
   },
   "outputs": [],
   "source": [
    "# !python -m spacy download en_core_web_sm"
   ]
  },
  {
   "cell_type": "code",
   "execution_count": null,
   "id": "6d583473",
   "metadata": {
    "papermill": {
     "duration": 0.052202,
     "end_time": "2022-05-05T16:53:46.062985",
     "exception": false,
     "start_time": "2022-05-05T16:53:46.010783",
     "status": "completed"
    },
    "tags": []
   },
   "outputs": [],
   "source": []
  },
  {
   "cell_type": "code",
   "execution_count": 5,
   "id": "c7016ded",
   "metadata": {
    "execution": {
     "iopub.execute_input": "2022-05-05T16:53:46.169367Z",
     "iopub.status.busy": "2022-05-05T16:53:46.168749Z",
     "iopub.status.idle": "2022-05-05T16:53:46.171811Z",
     "shell.execute_reply": "2022-05-05T16:53:46.172358Z",
     "shell.execute_reply.started": "2022-04-12T14:18:25.912243Z"
    },
    "papermill": {
     "duration": 0.057245,
     "end_time": "2022-05-05T16:53:46.172552",
     "exception": false,
     "start_time": "2022-05-05T16:53:46.115307",
     "status": "completed"
    },
    "tags": []
   },
   "outputs": [],
   "source": [
    "# import fitz\n",
    "# import spacy\n",
    "# import re\n",
    "# from pathlib import Path\n",
    "# import requests\n",
    "# import os"
   ]
  },
  {
   "cell_type": "code",
   "execution_count": 6,
   "id": "8f7401f6",
   "metadata": {
    "execution": {
     "iopub.execute_input": "2022-05-05T16:53:46.280105Z",
     "iopub.status.busy": "2022-05-05T16:53:46.279329Z",
     "iopub.status.idle": "2022-05-05T16:53:46.283261Z",
     "shell.execute_reply": "2022-05-05T16:53:46.283806Z",
     "shell.execute_reply.started": "2022-04-12T15:03:43.5897Z"
    },
    "papermill": {
     "duration": 0.058345,
     "end_time": "2022-05-05T16:53:46.283990",
     "exception": false,
     "start_time": "2022-05-05T16:53:46.225645",
     "status": "completed"
    },
    "tags": []
   },
   "outputs": [],
   "source": [
    "# sql_db_json = [\n",
    "#   {\n",
    "#     \"document_id\": \"1\",\n",
    "#     \"area\": \"[72.1149,661.2966,131.95729,675.1716]\",\n",
    "#     \"page\": \"3\",\n",
    "#     \"text_\": \"Background\",\n",
    "#     \"type_of_selection\": \"Text\",\n",
    "#     \"entity_type\": \"name\",\n",
    "#     \"link\": \"https://redactable-devox-stage.s3.us-east-2.amazonaws.com/tenants/41d9e109-693b-444c-aa18-e5891bc6550b/original/1a7c0e5d-3237-4ca9-9e3d-89e707245ac6/D8communications.pdf\"\n",
    "#   },\n",
    "#   {\n",
    "#     \"document_id\": \"1\",\n",
    "#     \"area\": \"[290.55386,632.0173,322.14685,645.8923]\",\n",
    "#     \"page\": \"2\",\n",
    "#     \"text_\": \"INDEX\",\n",
    "#     \"type_of_selection\": \"Text\",\n",
    "#     \"entity_type\": \"address\",\n",
    "#     \"link\": \"https://redactable-devox-stage.s3.us-east-2.amazonaws.com/tenants/41d9e109-693b-444c-aa18-e5891bc6550b/original/1a7c0e5d-3237-4ca9-9e3d-89e707245ac6/D8communications.pdf\"\n",
    "#   }\n",
    "# ]"
   ]
  },
  {
   "cell_type": "code",
   "execution_count": 7,
   "id": "b07163b4",
   "metadata": {
    "execution": {
     "iopub.execute_input": "2022-05-05T16:53:46.393010Z",
     "iopub.status.busy": "2022-05-05T16:53:46.392329Z",
     "iopub.status.idle": "2022-05-05T16:53:46.395500Z",
     "shell.execute_reply": "2022-05-05T16:53:46.396003Z",
     "shell.execute_reply.started": "2022-04-12T13:17:19.452695Z"
    },
    "papermill": {
     "duration": 0.05938,
     "end_time": "2022-05-05T16:53:46.396186",
     "exception": false,
     "start_time": "2022-05-05T16:53:46.336806",
     "status": "completed"
    },
    "tags": []
   },
   "outputs": [],
   "source": [
    "# l=pd.DataFrame()\n",
    "# k=(1, '[290.55386,632.0173,322.14685,645.8923]', 2, 'INDEX', 'Text', 'address', 'https://redactable-devox-s')\n",
    "# k\n"
   ]
  },
  {
   "cell_type": "code",
   "execution_count": 8,
   "id": "83d2198b",
   "metadata": {
    "execution": {
     "iopub.execute_input": "2022-05-05T16:53:46.504434Z",
     "iopub.status.busy": "2022-05-05T16:53:46.503732Z",
     "iopub.status.idle": "2022-05-05T16:53:46.507115Z",
     "shell.execute_reply": "2022-05-05T16:53:46.507664Z",
     "shell.execute_reply.started": "2022-04-12T16:09:33.708631Z"
    },
    "papermill": {
     "duration": 0.058722,
     "end_time": "2022-05-05T16:53:46.507847",
     "exception": false,
     "start_time": "2022-05-05T16:53:46.449125",
     "status": "completed"
    },
    "tags": []
   },
   "outputs": [],
   "source": [
    "# co=[\"document_id\",\"area\",\"page\",\"text_\",\"type_of_selection\",\"entity_type\",\"link\"]\n",
    "# val= [(1,'[72.1149,661.2966,131.95729,675.1716]',3,'Background','Text','name' ,'https://redactable-devox-stage.s3.us-east-2.am'), (1,  '[290.55386,632.0173,322.14685,645.8923]',2,'INDEX', 'Text','address','https://redactable-devox-stage.s3.us-east-2.am')]\n",
    "\n",
    "# df=pd.DataFrame(val,columns=[co])\n",
    "# #df.iloc[1] =[1,  '[290.55386,632.0173,322.14685,645.8923]',2,'INDEX', 'Text','address','https://redactable-devox-stage.s3.us-east-2.am']\n",
    "# df"
   ]
  },
  {
   "cell_type": "code",
   "execution_count": 9,
   "id": "a63b996f",
   "metadata": {
    "execution": {
     "iopub.execute_input": "2022-05-05T16:53:46.612814Z",
     "iopub.status.busy": "2022-05-05T16:53:46.612122Z",
     "iopub.status.idle": "2022-05-05T16:53:46.615024Z",
     "shell.execute_reply": "2022-05-05T16:53:46.615538Z",
     "shell.execute_reply.started": "2022-04-12T16:18:22.595374Z"
    },
    "papermill": {
     "duration": 0.056565,
     "end_time": "2022-05-05T16:53:46.615716",
     "exception": false,
     "start_time": "2022-05-05T16:53:46.559151",
     "status": "completed"
    },
    "tags": []
   },
   "outputs": [],
   "source": [
    "# prev=[]\n",
    "# for data,row in df.iterrows():\n",
    "#     if row['document_id'] not in prev:\n",
    "#         prev.append(row['document_id'])\n",
    "#         print('hey')"
   ]
  },
  {
   "cell_type": "code",
   "execution_count": 10,
   "id": "516b252d",
   "metadata": {
    "execution": {
     "iopub.execute_input": "2022-05-05T16:53:46.721542Z",
     "iopub.status.busy": "2022-05-05T16:53:46.720875Z",
     "iopub.status.idle": "2022-05-05T16:53:46.725236Z",
     "shell.execute_reply": "2022-05-05T16:53:46.725827Z",
     "shell.execute_reply.started": "2022-04-12T15:03:48.248836Z"
    },
    "papermill": {
     "duration": 0.057834,
     "end_time": "2022-05-05T16:53:46.726023",
     "exception": false,
     "start_time": "2022-05-05T16:53:46.668189",
     "status": "completed"
    },
    "tags": []
   },
   "outputs": [],
   "source": [
    "# nlp = spacy.load('en_core_web_sm')\n",
    "# train_data = []\n",
    "\n",
    "# prev_doc_id = ''\n",
    "# i=0\n",
    "# temp='/kaggle/working'\n",
    "\n",
    "# for data in sql_db_json:\n",
    "#     if data['type_of_selection'] == 'Text':\n",
    "#         document_id = data['document_id']\n",
    "#         x1,y1,x2,y2 = data['area'][1:-1].split(',')\n",
    "#         url = data['link']\n",
    "#         page_no = int(data['page']) - 1 \n",
    "#         label = data['entity_type']\n",
    "#         filename = url.split('/')[-1]\n",
    "    \n",
    "#         #download the file to temp folder\n",
    "#         outpath = os.path.join(temp,filename)\n",
    "\n",
    "#         if document_id == prev_doc_id:\n",
    "#             pass\n",
    "#         else: \n",
    "#             i+=1\n",
    "#             print(i)\n",
    "#             response = requests.get(url)\n",
    "#             with open(outpath, \"wb\") as binary_file:\n",
    "#                 binary_file.write(response.content)\n",
    "\n",
    "#         doc = fitz.open(outpath)  # any supported document type\n",
    "#         page = doc[page_no]  # we want text from this page\n",
    "#         print('page dimension - ', page.rect.width, page.rect.height)\n",
    "\n",
    "#         #The co-ordinates in the DB are image co-ords. W.r.t pdf, y1 and y2 has to be interchanged.\n",
    "#         #To ensure entire word to be selected, slight correction in x1,y1,x2,y2 is done.\n",
    "\n",
    "#         rect = [float(x1)-2, 792 - float(y2)-2, float(x2)+2, 792 - float(y1)+2]\n",
    "#         print(rect)\n",
    "#         labelled_text = page.get_textbox(rect)\n",
    "\n",
    "#         #Removing all unprintable characters from the text\n",
    "#         string = re.sub('[^0-9a-zA-Z@?|\\/<>.,()&^%$#!]+', ' ', labelled_text)\n",
    "#         print('string : ', string)\n",
    "\n",
    "#         fulltext = page.get_text()\n",
    "#         doc = nlp(fulltext)\n",
    "\n",
    "#         sentences = []\n",
    "#         for sent in doc.sents:\n",
    "#             if string.strip() in sent.text:\n",
    "#                 text = re.sub('[^0-9a-zA-Z@?|\\/<>.,()&^%$#!]+', ' ', sent.text)\n",
    "\n",
    "#         res = re.search(string.strip(), text)\n",
    "\n",
    "#         entities = []\n",
    "#         entities.append((res.start(),res.end(),label))\n",
    "\n",
    "#         train_data.append((text,{'entities':entities}))\n",
    "\n",
    "# print('Training data in spacy format')\n",
    "# print('*****************************')\n",
    "# for i in range(0,len(train_data)):\n",
    "#     print(train_data[i])"
   ]
  },
  {
   "cell_type": "code",
   "execution_count": null,
   "id": "dc5af9b8",
   "metadata": {
    "papermill": {
     "duration": 0.050027,
     "end_time": "2022-05-05T16:53:46.826633",
     "exception": false,
     "start_time": "2022-05-05T16:53:46.776606",
     "status": "completed"
    },
    "tags": []
   },
   "outputs": [],
   "source": []
  },
  {
   "cell_type": "code",
   "execution_count": 11,
   "id": "c22bf1d3",
   "metadata": {
    "execution": {
     "iopub.execute_input": "2022-05-05T16:53:46.930620Z",
     "iopub.status.busy": "2022-05-05T16:53:46.929925Z",
     "iopub.status.idle": "2022-05-05T16:53:46.934069Z",
     "shell.execute_reply": "2022-05-05T16:53:46.934562Z",
     "shell.execute_reply.started": "2022-04-12T11:44:59.253637Z"
    },
    "papermill": {
     "duration": 0.058075,
     "end_time": "2022-05-05T16:53:46.934736",
     "exception": false,
     "start_time": "2022-05-05T16:53:46.876661",
     "status": "completed"
    },
    "tags": []
   },
   "outputs": [],
   "source": [
    "# nlp = spacy.load('en_core_web_sm')\n",
    "# train_data = []\n",
    "\n",
    "# prev_doc_id = ''\n",
    "# temp='/kaggle/working'\n",
    "# i=0\n",
    "# for data in sql_db_json:\n",
    "#     if data['type_of_selection'] == 'Text':\n",
    "#         document_id = data['document_id']\n",
    "#         x1,y1,x2,y2 = data['area'][1:-1].split(',')\n",
    "#         url = data['link']\n",
    "#         page_no = int(data['page']) - 1 \n",
    "#         label = data['entity_type']\n",
    "#         filename = url.split('/')[-1]\n",
    "    \n",
    "#         #download the file to temp folder\n",
    "#         i+=1\n",
    "#         print(i)\n",
    "#         response = requests.get(url)\n",
    "#         doc = fitz.open(stream=response.content,filetype=\"pdf\")  # any supported document type\n",
    "#         page = doc[page_no]  # we want text from this page\n",
    "#         print('page dimension - ', page.rect.width, page.rect.height)\n",
    "\n",
    "#         #The co-ordinates in the DB are image co-ords. W.r.t pdf, y1 and y2 has to be interchanged.\n",
    "#         #To ensure entire word to be selected, slight correction in x1,y1,x2,y2 is done.\n",
    "\n",
    "#         rect = [float(x1)-2, 792 - float(y2)-2, float(x2)+2, 792 - float(y1)+2]\n",
    "#         print(rect)\n",
    "#         labelled_text = page.get_textbox(rect)\n",
    "\n",
    "#         #Removing all unprintable characters from the text\n",
    "#         string = re.sub('[^0-9a-zA-Z@?|\\/<>.,()&^%$#!]+', ' ', labelled_text)\n",
    "#         print('string : ', string)\n",
    "\n",
    "#         fulltext = page.get_text()\n",
    "#         doc = nlp(fulltext)\n",
    "\n",
    "#         sentences = []\n",
    "#         for sent in doc.sents:\n",
    "#             if string.strip() in sent.text:\n",
    "#                 text = re.sub('[^0-9a-zA-Z@?|\\/<>.,()&^%$#!]+', ' ', sent.text)\n",
    "\n",
    "#         res = re.search(string.strip(), text)\n",
    "\n",
    "#         entities = []\n",
    "#         entities.append((res.start(),res.end(),label))\n",
    "\n",
    "#         train_data.append((text,{'entities':entities}))\n",
    "\n",
    "# print('Training data in spacy format')\n",
    "# print('*****************************')\n",
    "# for i in range(0,len(train_data)):\n",
    "#     print(train_data[i])"
   ]
  },
  {
   "cell_type": "code",
   "execution_count": 12,
   "id": "b72a95b7",
   "metadata": {
    "execution": {
     "iopub.execute_input": "2022-05-05T16:53:47.038167Z",
     "iopub.status.busy": "2022-05-05T16:53:47.037541Z",
     "iopub.status.idle": "2022-05-05T16:53:47.040785Z",
     "shell.execute_reply": "2022-05-05T16:53:47.041225Z"
    },
    "papermill": {
     "duration": 0.056525,
     "end_time": "2022-05-05T16:53:47.041387",
     "exception": false,
     "start_time": "2022-05-05T16:53:46.984862",
     "status": "completed"
    },
    "tags": []
   },
   "outputs": [],
   "source": [
    "# page dimension -  612.0 792.0\n",
    "# [70.1149, 114.82839999999999, 133.95729, 132.7034]\n",
    "# string :  Background\n",
    "# page dimension -  612.0 792.0\n",
    "# [288.55386, 144.10770000000002, 324.14685, 161.98270000000002]\n",
    "# string :  INDEX\n",
    "# Training data in spacy format\n",
    "# *****************************\n",
    "# (' 3 Background The Blue Ribbon Committee was created by the Mayor to assess various city communication methods and recommend opportunities to improve communications with residents, businesses and other organizations.', {'entities': [(3, 13, 'name')]})\n",
    "# (' 2 INDEX Background Pg. 3 Purpose Pg. 3 Process .', {'entities': [(3, 8, 'address')]})"
   ]
  },
  {
   "cell_type": "code",
   "execution_count": 13,
   "id": "6b898e4d",
   "metadata": {
    "execution": {
     "iopub.execute_input": "2022-05-05T16:53:47.147240Z",
     "iopub.status.busy": "2022-05-05T16:53:47.146253Z",
     "iopub.status.idle": "2022-05-05T16:53:47.150197Z",
     "shell.execute_reply": "2022-05-05T16:53:47.150679Z",
     "shell.execute_reply.started": "2022-04-11T16:35:29.609712Z"
    },
    "papermill": {
     "duration": 0.058488,
     "end_time": "2022-05-05T16:53:47.150845",
     "exception": false,
     "start_time": "2022-05-05T16:53:47.092357",
     "status": "completed"
    },
    "tags": []
   },
   "outputs": [],
   "source": [
    "# nlp = spacy.load('en_core_web_sm')\n",
    "# outpath=r'/kaggle/input/sample-pdf/D8communications.pdf'\n",
    "# doc = fitz.open(outpath)  # any supported document type\n",
    "# page_no=3\n",
    "# page = doc[page_no-1]\n",
    "\n",
    "# x1,y1,x2,y2=(72.1149,661.2966,131.95729,675.1716)\n",
    "\n",
    "# rect = [float(x1)-2, 792 - float(y2)-2, float(x2)+2, 792 - float(y1)+2]\n",
    "# print(rect)\n",
    "# labelled_text = page.get_textbox(rect)\n",
    "# string = re.sub('[^0-9a-zA-Z@?|\\/<>.,()&^%$#!]+', ' ', labelled_text)\n",
    "# print('string : ', string)\n",
    "\n",
    "# fulltext = page.get_text()\n",
    "# doc = nlp(fulltext)\n",
    "\n",
    "# sentences = []\n",
    "# for sent in doc.sents:\n",
    "#             if string.strip() in sent.text:\n",
    "#                 text = re.sub('[^0-9a-zA-Z@?|\\/<>.,()&^%$#!]+', ' ', sent.text)\n",
    "\n",
    "#         res = re.search(string.strip(), text)\n",
    "\n",
    "#         entities = []\n",
    "#         entities.append((res.start(),res.end(),label))\n",
    "\n",
    "#         train_data.append((text,{'entities':entities}))\n",
    "\n"
   ]
  },
  {
   "cell_type": "code",
   "execution_count": 14,
   "id": "f99276e2",
   "metadata": {
    "execution": {
     "iopub.execute_input": "2022-05-05T16:53:47.257103Z",
     "iopub.status.busy": "2022-05-05T16:53:47.256111Z",
     "iopub.status.idle": "2022-05-05T16:53:47.259278Z",
     "shell.execute_reply": "2022-05-05T16:53:47.259812Z",
     "shell.execute_reply.started": "2022-04-11T16:35:41.679947Z"
    },
    "papermill": {
     "duration": 0.058632,
     "end_time": "2022-05-05T16:53:47.259987",
     "exception": false,
     "start_time": "2022-05-05T16:53:47.201355",
     "status": "completed"
    },
    "tags": []
   },
   "outputs": [],
   "source": [
    "#doc"
   ]
  },
  {
   "cell_type": "code",
   "execution_count": 15,
   "id": "603d0714",
   "metadata": {
    "execution": {
     "iopub.execute_input": "2022-05-05T16:53:47.370320Z",
     "iopub.status.busy": "2022-05-05T16:53:47.369625Z",
     "iopub.status.idle": "2022-05-05T16:53:47.371674Z",
     "shell.execute_reply": "2022-05-05T16:53:47.371107Z",
     "shell.execute_reply.started": "2022-04-11T16:35:56.010353Z"
    },
    "papermill": {
     "duration": 0.059012,
     "end_time": "2022-05-05T16:53:47.371816",
     "exception": false,
     "start_time": "2022-05-05T16:53:47.312804",
     "status": "completed"
    },
    "tags": []
   },
   "outputs": [],
   "source": [
    "# sentences = []\n",
    "# for sent in doc.sents:\n",
    "#     if string.strip() in sent.text:\n",
    "#         text = re.sub('[^0-9a-zA-Z@?|\\/<>.,()&^%$#!]+', ' ', sent.text)"
   ]
  },
  {
   "cell_type": "code",
   "execution_count": 16,
   "id": "991ba8ae",
   "metadata": {
    "execution": {
     "iopub.execute_input": "2022-05-05T16:53:47.480330Z",
     "iopub.status.busy": "2022-05-05T16:53:47.479665Z",
     "iopub.status.idle": "2022-05-05T16:53:47.481399Z",
     "shell.execute_reply": "2022-05-05T16:53:47.481872Z",
     "shell.execute_reply.started": "2022-04-11T16:39:04.736143Z"
    },
    "papermill": {
     "duration": 0.057512,
     "end_time": "2022-05-05T16:53:47.482060",
     "exception": false,
     "start_time": "2022-05-05T16:53:47.424548",
     "status": "completed"
    },
    "tags": []
   },
   "outputs": [],
   "source": [
    "# k=nlp(\"he             kenny\")\n",
    "# for sent in k.sents:\n",
    "#     print(sent)"
   ]
  },
  {
   "cell_type": "code",
   "execution_count": 17,
   "id": "cd5c5206",
   "metadata": {
    "execution": {
     "iopub.execute_input": "2022-05-05T16:53:47.586989Z",
     "iopub.status.busy": "2022-05-05T16:53:47.586368Z",
     "iopub.status.idle": "2022-05-05T16:53:47.589696Z",
     "shell.execute_reply": "2022-05-05T16:53:47.590153Z",
     "shell.execute_reply.started": "2022-04-11T15:09:24.391421Z"
    },
    "papermill": {
     "duration": 0.057781,
     "end_time": "2022-05-05T16:53:47.590441",
     "exception": false,
     "start_time": "2022-05-05T16:53:47.532660",
     "status": "completed"
    },
    "tags": []
   },
   "outputs": [],
   "source": [
    "# text"
   ]
  },
  {
   "cell_type": "code",
   "execution_count": 18,
   "id": "ec158081",
   "metadata": {
    "execution": {
     "iopub.execute_input": "2022-05-05T16:53:47.697816Z",
     "iopub.status.busy": "2022-05-05T16:53:47.697155Z",
     "iopub.status.idle": "2022-05-05T16:53:47.700091Z",
     "shell.execute_reply": "2022-05-05T16:53:47.699632Z",
     "shell.execute_reply.started": "2022-04-11T15:09:31.9599Z"
    },
    "papermill": {
     "duration": 0.058222,
     "end_time": "2022-05-05T16:53:47.700232",
     "exception": false,
     "start_time": "2022-05-05T16:53:47.642010",
     "status": "completed"
    },
    "tags": []
   },
   "outputs": [],
   "source": [
    "# res = re.search(string.strip(), text)\n",
    "# res"
   ]
  },
  {
   "cell_type": "code",
   "execution_count": 19,
   "id": "6747b5cc",
   "metadata": {
    "execution": {
     "iopub.execute_input": "2022-05-05T16:53:47.805568Z",
     "iopub.status.busy": "2022-05-05T16:53:47.804936Z",
     "iopub.status.idle": "2022-05-05T16:53:47.806741Z",
     "shell.execute_reply": "2022-05-05T16:53:47.807226Z",
     "shell.execute_reply.started": "2022-04-11T15:12:41.311242Z"
    },
    "papermill": {
     "duration": 0.056351,
     "end_time": "2022-05-05T16:53:47.807387",
     "exception": false,
     "start_time": "2022-05-05T16:53:47.751036",
     "status": "completed"
    },
    "tags": []
   },
   "outputs": [],
   "source": [
    "# entities = []\n",
    "# entities.append((res.start(),res.end(),'p'))"
   ]
  },
  {
   "cell_type": "code",
   "execution_count": 20,
   "id": "9f4b6eb8",
   "metadata": {
    "execution": {
     "iopub.execute_input": "2022-05-05T16:53:47.913291Z",
     "iopub.status.busy": "2022-05-05T16:53:47.912658Z",
     "iopub.status.idle": "2022-05-05T16:53:47.915901Z",
     "shell.execute_reply": "2022-05-05T16:53:47.916403Z",
     "shell.execute_reply.started": "2022-04-11T15:12:52.736619Z"
    },
    "papermill": {
     "duration": 0.058114,
     "end_time": "2022-05-05T16:53:47.916597",
     "exception": false,
     "start_time": "2022-05-05T16:53:47.858483",
     "status": "completed"
    },
    "tags": []
   },
   "outputs": [],
   "source": [
    "# entities"
   ]
  },
  {
   "cell_type": "code",
   "execution_count": 21,
   "id": "08287c56",
   "metadata": {
    "execution": {
     "iopub.execute_input": "2022-05-05T16:53:48.022934Z",
     "iopub.status.busy": "2022-05-05T16:53:48.022264Z",
     "iopub.status.idle": "2022-05-05T16:53:48.025193Z",
     "shell.execute_reply": "2022-05-05T16:53:48.025740Z",
     "shell.execute_reply.started": "2022-04-11T15:06:11.546217Z"
    },
    "papermill": {
     "duration": 0.05836,
     "end_time": "2022-05-05T16:53:48.025922",
     "exception": false,
     "start_time": "2022-05-05T16:53:47.967562",
     "status": "completed"
    },
    "tags": []
   },
   "outputs": [],
   "source": [
    "# text"
   ]
  },
  {
   "cell_type": "code",
   "execution_count": null,
   "id": "2827cd4d",
   "metadata": {
    "execution": {
     "iopub.execute_input": "2022-04-11T15:02:33.300092Z",
     "iopub.status.busy": "2022-04-11T15:02:33.299778Z",
     "iopub.status.idle": "2022-04-11T15:02:33.30711Z",
     "shell.execute_reply": "2022-04-11T15:02:33.306345Z",
     "shell.execute_reply.started": "2022-04-11T15:02:33.300061Z"
    },
    "papermill": {
     "duration": 0.053073,
     "end_time": "2022-05-05T16:53:48.130266",
     "exception": false,
     "start_time": "2022-05-05T16:53:48.077193",
     "status": "completed"
    },
    "tags": []
   },
   "outputs": [],
   "source": []
  },
  {
   "cell_type": "code",
   "execution_count": 22,
   "id": "bf80f5c1",
   "metadata": {
    "execution": {
     "iopub.execute_input": "2022-05-05T16:53:48.236853Z",
     "iopub.status.busy": "2022-05-05T16:53:48.236166Z",
     "iopub.status.idle": "2022-05-05T16:53:48.239127Z",
     "shell.execute_reply": "2022-05-05T16:53:48.239796Z",
     "shell.execute_reply.started": "2022-04-11T16:21:02.863037Z"
    },
    "papermill": {
     "duration": 0.058635,
     "end_time": "2022-05-05T16:53:48.240011",
     "exception": false,
     "start_time": "2022-05-05T16:53:48.181376",
     "status": "completed"
    },
    "tags": []
   },
   "outputs": [],
   "source": [
    "# import spacy\n",
    "# nlp = spacy.load('en_core_web_sm')"
   ]
  },
  {
   "cell_type": "code",
   "execution_count": 23,
   "id": "805183de",
   "metadata": {
    "execution": {
     "iopub.execute_input": "2022-05-05T16:53:48.345088Z",
     "iopub.status.busy": "2022-05-05T16:53:48.344455Z",
     "iopub.status.idle": "2022-05-05T16:53:48.347501Z",
     "shell.execute_reply": "2022-05-05T16:53:48.348001Z",
     "shell.execute_reply.started": "2022-04-09T12:19:47.776612Z"
    },
    "papermill": {
     "duration": 0.057661,
     "end_time": "2022-05-05T16:53:48.348173",
     "exception": false,
     "start_time": "2022-05-05T16:53:48.290512",
     "status": "completed"
    },
    "tags": []
   },
   "outputs": [],
   "source": [
    "# !pip install PyPDF2\n",
    "# import PyPDF2\n",
    "# fhandle = open(r'/kaggle/input/sample-pdf/D8communications.pdf', 'rb')\n",
    "# pdfReader = PyPDF2.PdfFileReader(fhandle)\n",
    "# pagehandle = pdfReader.getPage(4)\n",
    "# print(pagehandle.extractText())"
   ]
  },
  {
   "cell_type": "code",
   "execution_count": 24,
   "id": "781e60e6",
   "metadata": {
    "execution": {
     "iopub.execute_input": "2022-05-05T16:53:48.452272Z",
     "iopub.status.busy": "2022-05-05T16:53:48.451661Z",
     "iopub.status.idle": "2022-05-05T16:53:48.454556Z",
     "shell.execute_reply": "2022-05-05T16:53:48.455045Z",
     "shell.execute_reply.started": "2022-04-09T12:25:37.701467Z"
    },
    "papermill": {
     "duration": 0.056197,
     "end_time": "2022-05-05T16:53:48.455207",
     "exception": false,
     "start_time": "2022-05-05T16:53:48.399010",
     "status": "completed"
    },
    "tags": []
   },
   "outputs": [],
   "source": [
    "# !pip install pdfplumber\n",
    "# import pdfplumber\n",
    "# with pdfplumber.open(r'/kaggle/input/sample-pdf/D8communications.pdf') as pdf:\n",
    "#     first_page = pdf.pages[3]\n",
    "#     print(first_page.extract_text())"
   ]
  },
  {
   "cell_type": "code",
   "execution_count": 25,
   "id": "a6318904",
   "metadata": {
    "execution": {
     "iopub.execute_input": "2022-05-05T16:53:48.559494Z",
     "iopub.status.busy": "2022-05-05T16:53:48.558872Z",
     "iopub.status.idle": "2022-05-05T16:53:48.563073Z",
     "shell.execute_reply": "2022-05-05T16:53:48.562494Z",
     "shell.execute_reply.started": "2022-04-09T12:25:49.584635Z"
    },
    "papermill": {
     "duration": 0.056631,
     "end_time": "2022-05-05T16:53:48.563206",
     "exception": false,
     "start_time": "2022-05-05T16:53:48.506575",
     "status": "completed"
    },
    "tags": []
   },
   "outputs": [],
   "source": [
    "# !pip install pytesseract"
   ]
  },
  {
   "cell_type": "code",
   "execution_count": 26,
   "id": "b731b94b",
   "metadata": {
    "execution": {
     "iopub.execute_input": "2022-05-05T16:53:48.669987Z",
     "iopub.status.busy": "2022-05-05T16:53:48.669378Z",
     "iopub.status.idle": "2022-05-05T16:53:48.672004Z",
     "shell.execute_reply": "2022-05-05T16:53:48.672502Z",
     "shell.execute_reply.started": "2022-04-09T14:49:10.656812Z"
    },
    "papermill": {
     "duration": 0.058156,
     "end_time": "2022-05-05T16:53:48.672679",
     "exception": false,
     "start_time": "2022-05-05T16:53:48.614523",
     "status": "completed"
    },
    "tags": []
   },
   "outputs": [],
   "source": [
    "# #!pip install pdf2image\n",
    "# !pip install poppler"
   ]
  },
  {
   "cell_type": "code",
   "execution_count": 27,
   "id": "b0f0c74f",
   "metadata": {
    "execution": {
     "iopub.execute_input": "2022-05-05T16:53:48.776069Z",
     "iopub.status.busy": "2022-05-05T16:53:48.775502Z",
     "iopub.status.idle": "2022-05-05T16:53:48.778318Z",
     "shell.execute_reply": "2022-05-05T16:53:48.778771Z",
     "shell.execute_reply.started": "2022-04-09T14:57:24.756677Z"
    },
    "papermill": {
     "duration": 0.056014,
     "end_time": "2022-05-05T16:53:48.778933",
     "exception": false,
     "start_time": "2022-05-05T16:53:48.722919",
     "status": "completed"
    },
    "tags": []
   },
   "outputs": [],
   "source": [
    "# pdf2image.convert_from_path('/kaggle/input/sample-pdf/D8communications.pdf')"
   ]
  },
  {
   "cell_type": "code",
   "execution_count": 28,
   "id": "65b84854",
   "metadata": {
    "execution": {
     "iopub.execute_input": "2022-05-05T16:53:48.882478Z",
     "iopub.status.busy": "2022-05-05T16:53:48.881828Z",
     "iopub.status.idle": "2022-05-05T16:53:48.885650Z",
     "shell.execute_reply": "2022-05-05T16:53:48.886090Z",
     "shell.execute_reply.started": "2022-04-09T14:57:17.576149Z"
    },
    "papermill": {
     "duration": 0.057299,
     "end_time": "2022-05-05T16:53:48.886267",
     "exception": false,
     "start_time": "2022-05-05T16:53:48.828968",
     "status": "completed"
    },
    "tags": []
   },
   "outputs": [],
   "source": [
    "# import pdf2image\n",
    "# try:\n",
    "#     from PIL import Image\n",
    "# except ImportError:\n",
    "#     import Image\n",
    "# import pytesseract\n",
    "\n",
    "\n",
    "# def pdf_to_img(pdf_file):\n",
    "#     return pdf2image.convert_from_path(pdf_file)\n",
    "\n",
    "\n",
    "# def ocr_core(file):\n",
    "#     text = pytesseract.image_to_string(file)\n",
    "#     return text\n",
    "\n",
    "\n",
    "# def print_pages(pdf_file):\n",
    "#     images = pdf_to_img(pdf_file)\n",
    "#     for pg, img in enumerate(images):\n",
    "#         print(ocr_core(img))\n",
    "\n",
    "\n",
    "# print_pages('/kaggle/input/sample-pdf/D8communications.pdf')\n"
   ]
  },
  {
   "cell_type": "code",
   "execution_count": 29,
   "id": "0a0fe1cc",
   "metadata": {
    "execution": {
     "iopub.execute_input": "2022-05-05T16:53:48.996104Z",
     "iopub.status.busy": "2022-05-05T16:53:48.995528Z",
     "iopub.status.idle": "2022-05-05T16:53:48.998954Z",
     "shell.execute_reply": "2022-05-05T16:53:48.999466Z"
    },
    "papermill": {
     "duration": 0.06082,
     "end_time": "2022-05-05T16:53:48.999633",
     "exception": false,
     "start_time": "2022-05-05T16:53:48.938813",
     "status": "completed"
    },
    "tags": []
   },
   "outputs": [],
   "source": [
    "# import requests\n",
    "# import fitz\n",
    "# import io\n",
    "\n",
    "# #URL = 'https://buildmedia.readthedocs.org/media/pdf/pdfminer-docs/latest/pdfminer-docs.pdf'\n",
    "# URL = 'https://redactable-devox-stage.s3.us-east-2.amazonaws.com/tenants/41d9e109-693b-444c-aa18-e5891bc6550b/original/1a7c0e5d-3237-4ca9-9e3d-89e707245ac6/D8communications.pdf'\n",
    "\n",
    "\n",
    "# res = requests.get(URL)\n",
    "# filestream = io.BytesIO(res.content)\n",
    "# #res.content\n",
    "# filestream\n",
    "# doc = fitz.Document(stream=filestream)\n",
    "# page1 = doc.loadPage(3)\n",
    "# page1text = page1.getText(\"text\").encode(\"utf-8\").decode(\"utf-8\")\n",
    "# print(page1text)"
   ]
  },
  {
   "cell_type": "code",
   "execution_count": 30,
   "id": "806f5801",
   "metadata": {
    "execution": {
     "iopub.execute_input": "2022-05-05T16:53:49.109279Z",
     "iopub.status.busy": "2022-05-05T16:53:49.108638Z",
     "iopub.status.idle": "2022-05-05T16:53:49.113880Z",
     "shell.execute_reply": "2022-05-05T16:53:49.114312Z",
     "shell.execute_reply.started": "2022-04-09T07:04:56.590103Z"
    },
    "papermill": {
     "duration": 0.061693,
     "end_time": "2022-05-05T16:53:49.114526",
     "exception": false,
     "start_time": "2022-05-05T16:53:49.052833",
     "status": "completed"
    },
    "tags": []
   },
   "outputs": [],
   "source": [
    "# import requests\n",
    "# import fitz\n",
    "\n",
    "# #URL = 'https://buildmedia.readthedocs.org/media/pdf/pdfminer-docs/latest/pdfminer-docs.pdf'\n",
    "# URL = 'https://redactable-devox-stage.s3.us-east-2.amazonaws.com/tenants/41d9e109-693b-444c-aa18-e5891bc6550b/original/1a7c0e5d-3237-4ca9-9e3d-89e707245ac6/D8communications.pdf'\n",
    "\n",
    "\n",
    "# res = requests.get(URL)\n",
    "# doc = fitz.open(stream=res.content,filetype=\"pdf\")\n",
    "# page1 = doc.loadPage(3)\n",
    "# page1text = page1.getText(\"text\")\n",
    "# #rect = (72.1149,661.2966,131.95729,675.1716)\n",
    "# rect=(72.10812377929688, 116.13427734375, 133.97142028808594, 146.4227294921875)\n",
    "# labelled_text = page1.get_textbox(rect)\n",
    "# print(labelled_text.strip())\n",
    "\n",
    "# fulltext = page1.get_text()\n",
    "# print(fulltext)\n",
    "# doc = nlp(fulltext)\n",
    "# sentences = []\n",
    "# for sent in doc.sents:\n",
    "#     if labelled_text in sent.text:\n",
    "#         text = sent.text\n",
    "#         print(text)\n",
    "# #print(page1text)"
   ]
  },
  {
   "cell_type": "code",
   "execution_count": 31,
   "id": "9cf9d6d7",
   "metadata": {
    "execution": {
     "iopub.execute_input": "2022-05-05T16:53:49.219234Z",
     "iopub.status.busy": "2022-05-05T16:53:49.218624Z",
     "iopub.status.idle": "2022-05-05T16:53:49.221634Z",
     "shell.execute_reply": "2022-05-05T16:53:49.221110Z",
     "shell.execute_reply.started": "2022-04-08T16:42:57.6659Z"
    },
    "papermill": {
     "duration": 0.057215,
     "end_time": "2022-05-05T16:53:49.221780",
     "exception": false,
     "start_time": "2022-05-05T16:53:49.164565",
     "status": "completed"
    },
    "tags": []
   },
   "outputs": [],
   "source": [
    "#res.content"
   ]
  },
  {
   "cell_type": "code",
   "execution_count": 32,
   "id": "565ba5d1",
   "metadata": {
    "execution": {
     "iopub.execute_input": "2022-05-05T16:53:49.333219Z",
     "iopub.status.busy": "2022-05-05T16:53:49.332563Z",
     "iopub.status.idle": "2022-05-05T16:53:49.335359Z",
     "shell.execute_reply": "2022-05-05T16:53:49.334846Z",
     "shell.execute_reply.started": "2022-04-08T16:48:05.672392Z"
    },
    "papermill": {
     "duration": 0.059656,
     "end_time": "2022-05-05T16:53:49.335521",
     "exception": false,
     "start_time": "2022-05-05T16:53:49.275865",
     "status": "completed"
    },
    "tags": []
   },
   "outputs": [],
   "source": [
    "# import fitz\n",
    "# # mem_area=\n",
    "# # doc = fitz.open(stream=mem_area, filetype=\"pdf\")\n",
    "\n",
    "# import requests\n",
    "\n",
    "# URL = 'https://redactable-devox-stage.s3.us-east-2.amazonaws.com/tenants/41d9e109-693b-444c-aa18-e5891bc6550b/original/1a7c0e5d-3237-4ca9-9e3d-89e707245ac6/D8communications.pdf'\n",
    "\n",
    "# #res = requests.get(URL)\n",
    "# doc=fitz.open(\"/kaggle/input/sample-pdf/D8communications.pdf\")\n",
    "# #doc = fitz.open(stream=res.content,filetype=\"pdf\")\n",
    "# page1 = doc.loadPage(4)\n",
    "# # page1text = page1.getText(\"text\")\n",
    "# # print(page1text)\n",
    "# blocks = page1.getText(\"blocks\")\n",
    "# blocks.sort(key=lambda block: block[1])  # sort vertically ascending\n",
    "\n",
    "# for b in blocks:\n",
    "#     print(b[4])\n"
   ]
  },
  {
   "cell_type": "code",
   "execution_count": 33,
   "id": "b8f3f0ab",
   "metadata": {
    "execution": {
     "iopub.execute_input": "2022-05-05T16:53:49.442019Z",
     "iopub.status.busy": "2022-05-05T16:53:49.441307Z",
     "iopub.status.idle": "2022-05-05T16:53:49.444770Z",
     "shell.execute_reply": "2022-05-05T16:53:49.445434Z",
     "shell.execute_reply.started": "2022-04-08T16:48:13.086323Z"
    },
    "papermill": {
     "duration": 0.058918,
     "end_time": "2022-05-05T16:53:49.445624",
     "exception": false,
     "start_time": "2022-05-05T16:53:49.386706",
     "status": "completed"
    },
    "tags": []
   },
   "outputs": [],
   "source": [
    "# # page = doc[1]\n",
    "# words = page.get_text(\"words\")\n",
    "# #print(words)\n",
    "# rect = (72.1149,661.2966,131.95729,675.1716)\n",
    "\n",
    "# labelled_text = page.get_textbox(rect)\n",
    "# # labelled_text"
   ]
  },
  {
   "cell_type": "markdown",
   "id": "59e9d7e6",
   "metadata": {
    "papermill": {
     "duration": 0.051497,
     "end_time": "2022-05-05T16:53:49.550059",
     "exception": false,
     "start_time": "2022-05-05T16:53:49.498562",
     "status": "completed"
    },
    "tags": []
   },
   "source": [
    "pip install PyPDF2"
   ]
  },
  {
   "cell_type": "code",
   "execution_count": null,
   "id": "6ea1a828",
   "metadata": {
    "papermill": {
     "duration": 0.052833,
     "end_time": "2022-05-05T16:53:49.654024",
     "exception": false,
     "start_time": "2022-05-05T16:53:49.601191",
     "status": "completed"
    },
    "tags": []
   },
   "outputs": [],
   "source": []
  },
  {
   "cell_type": "code",
   "execution_count": 34,
   "id": "7c7fa3bf",
   "metadata": {
    "execution": {
     "iopub.execute_input": "2022-05-05T16:53:49.764325Z",
     "iopub.status.busy": "2022-05-05T16:53:49.763695Z",
     "iopub.status.idle": "2022-05-05T16:53:49.765221Z",
     "shell.execute_reply": "2022-05-05T16:53:49.765775Z",
     "shell.execute_reply.started": "2022-03-18T16:48:58.370268Z"
    },
    "papermill": {
     "duration": 0.056509,
     "end_time": "2022-05-05T16:53:49.765961",
     "exception": false,
     "start_time": "2022-05-05T16:53:49.709452",
     "status": "completed"
    },
    "tags": []
   },
   "outputs": [],
   "source": [
    "# import pandas as pd\n",
    "# h={'step': 0, 'type': 'string', 'amount': 0.0, 'nameOrig': 'C1231006815', 'oldbalanceOrig': 0.0, 'newbalanceOrig': 0.0, 'nameDest': 'M1979787155', 'oldbalanceDest': 0.0, 'newbalanceDest': 0.0}\n",
    "# df=pd.DataFrame([h])"
   ]
  },
  {
   "cell_type": "code",
   "execution_count": 35,
   "id": "58ba1798",
   "metadata": {
    "execution": {
     "iopub.execute_input": "2022-05-05T16:53:49.869518Z",
     "iopub.status.busy": "2022-05-05T16:53:49.868842Z",
     "iopub.status.idle": "2022-05-05T16:53:49.871877Z",
     "shell.execute_reply": "2022-05-05T16:53:49.872375Z",
     "shell.execute_reply.started": "2022-04-09T17:21:26.021615Z"
    },
    "papermill": {
     "duration": 0.056683,
     "end_time": "2022-05-05T16:53:49.872597",
     "exception": false,
     "start_time": "2022-05-05T16:53:49.815914",
     "status": "completed"
    },
    "tags": []
   },
   "outputs": [],
   "source": [
    "#df"
   ]
  },
  {
   "cell_type": "code",
   "execution_count": null,
   "id": "1513dff7",
   "metadata": {
    "papermill": {
     "duration": 0.049909,
     "end_time": "2022-05-05T16:53:49.974369",
     "exception": false,
     "start_time": "2022-05-05T16:53:49.924460",
     "status": "completed"
    },
    "tags": []
   },
   "outputs": [],
   "source": []
  }
 ],
 "metadata": {
  "kernelspec": {
   "display_name": "Python 3",
   "language": "python",
   "name": "python3"
  },
  "language_info": {
   "codemirror_mode": {
    "name": "ipython",
    "version": 3
   },
   "file_extension": ".py",
   "mimetype": "text/x-python",
   "name": "python",
   "nbconvert_exporter": "python",
   "pygments_lexer": "ipython3",
   "version": "3.7.12"
  },
  "papermill": {
   "default_parameters": {},
   "duration": 19.974145,
   "end_time": "2022-05-05T16:53:50.738716",
   "environment_variables": {},
   "exception": null,
   "input_path": "__notebook__.ipynb",
   "output_path": "__notebook__.ipynb",
   "parameters": {},
   "start_time": "2022-05-05T16:53:30.764571",
   "version": "2.3.3"
  }
 },
 "nbformat": 4,
 "nbformat_minor": 5
}
