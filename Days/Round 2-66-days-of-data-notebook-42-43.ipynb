{
 "cells": [
  {
   "cell_type": "code",
   "execution_count": 1,
   "id": "7c8235af",
   "metadata": {
    "_cell_guid": "b1076dfc-b9ad-4769-8c92-a6c4dae69d19",
    "_uuid": "8f2839f25d086af736a60e9eeb907d3b93b6e0e5",
    "execution": {
     "iopub.execute_input": "2022-04-23T18:16:14.679165Z",
     "iopub.status.busy": "2022-04-23T18:16:14.677499Z",
     "iopub.status.idle": "2022-04-23T18:16:14.697067Z",
     "shell.execute_reply": "2022-04-23T18:16:14.697542Z",
     "shell.execute_reply.started": "2022-04-12T14:12:25.248687Z"
    },
    "papermill": {
     "duration": 0.078912,
     "end_time": "2022-04-23T18:16:14.697800",
     "exception": false,
     "start_time": "2022-04-23T18:16:14.618888",
     "status": "completed"
    },
    "tags": []
   },
   "outputs": [
    {
     "name": "stdout",
     "output_type": "stream",
     "text": [
      "/kaggle/input/sample-pdf/D8communications.pdf\n"
     ]
    }
   ],
   "source": [
    "# This Python 3 environment comes with many helpful analytics libraries installed\n",
    "# It is defined by the kaggle/python Docker image: https://github.com/kaggle/docker-python\n",
    "# For example, here's several helpful packages to load\n",
    "\n",
    "import numpy as np # linear algebra\n",
    "import pandas as pd # data processing, CSV file I/O (e.g. pd.read_csv)\n",
    "\n",
    "# Input data files are available in the read-only \"../input/\" directory\n",
    "# For example, running this (by clicking run or pressing Shift+Enter) will list all files under the input directory\n",
    "\n",
    "import os\n",
    "for dirname, _, filenames in os.walk('/kaggle/input'):\n",
    "    for filename in filenames:\n",
    "        print(os.path.join(dirname, filename))\n",
    "\n",
    "# You can write up to 20GB to the current directory (/kaggle/working/) that gets preserved as output when you create a version using \"Save & Run All\" \n",
    "# You can also write temporary files to /kaggle/temp/, but they won't be saved outside of the current session"
   ]
  },
  {
   "cell_type": "markdown",
   "id": "211b7664",
   "metadata": {
    "papermill": {
     "duration": 0.047148,
     "end_time": "2022-04-23T18:16:14.792681",
     "exception": false,
     "start_time": "2022-04-23T18:16:14.745533",
     "status": "completed"
    },
    "tags": []
   },
   "source": [
    "# **Start Date: 12/3/2022**"
   ]
  },
  {
   "cell_type": "markdown",
   "id": "f3263785",
   "metadata": {
    "papermill": {
     "duration": 0.047201,
     "end_time": "2022-04-23T18:16:14.885529",
     "exception": false,
     "start_time": "2022-04-23T18:16:14.838328",
     "status": "completed"
    },
    "tags": []
   },
   "source": [
    "# **Day 1:** \n",
    "<br>dataquest -> stats -> probability-> estimating probability\n",
    "1. out come is nothing but o/p of an experiment\n",
    "ex: whatever u get after rolling a dice -> it can be any number\n",
    "2. event can have more than one outcome\n",
    "- e.x: The event that we'll get an odd number when we roll a six-sided die — this event includes the outcomes 1, 3, and 5.\n",
    "- an event can be 0 as well.\n",
    "- We always assign probabilities to events, not outcomes, even if the event includes only one outcome.\n",
    "- P(E) =1/total number of possible outcomes, P(E) probability of an event happening.\n",
    "- but above formula doesn't work always, especially when there are more than one outcome\n",
    "    - P(E)=number of successful outcomes/total number of possible outcomes\n",
    "- incase of a biased situation \n",
    "  - let's say a die has 6 - 3 times which is 1,6,3,5,6,6\n",
    "    we will consider 6 as 3 times not 1.\n",
    "    possible outcome-> 1,3,5,6,6,6\n",
    "    prob(6)=3/6\n",
    "    prob(3)=1/6\n",
    "    prob(2)=0/6\n",
    "    If we didn't treat each 6 differently and said it doesn't matter which side a 6 is on, \n",
    "    <br>we'd be forced to conclude the only possible outcomes are 1, 3, 5 and 6. We can definitely         <br>frame the problem like that, but the formula above won't work anymore — we see below P(6) <br>becomes the same as P(3), but, intuitively, P(6) should be higher than P(3) since the die has 6 on     <br>three of its sides:\n"
   ]
  },
  {
   "cell_type": "markdown",
   "id": "1034d5ee",
   "metadata": {
    "papermill": {
     "duration": 0.045005,
     "end_time": "2022-04-23T18:16:14.977109",
     "exception": false,
     "start_time": "2022-04-23T18:16:14.932104",
     "status": "completed"
    },
    "tags": []
   },
   "source": [
    "Estimating Probabilities Conclusion\n",
    "- emperical/ experimental probability\n",
    "  - probability achieved by experimenting / by doing the same event multiple times.\n",
    "  - Generally, for any event E (like a coin landing heads up), we can find its empirical probability   \n",
    "     by using the following formula: \n",
    "     •P (E) =number of times event E happened/ number of times we repeated the experiment   \n",
    " - Generally, the empirical probability of an event (a coin landing heads up, getting a 5 when weroll a die) approaches the true probability value as the number of trials of the randomexperiment (a coin toss, the rolling of a die) increases without bound.\n",
    "- When we calculate the probability of an event under the assumption that the outcomes have equal chances of occurring, we say that we're calculating the **theoretical probability** of an event.\n",
    "   - P(E)=number of successful outcomes/total number of possible outcomes\n",
    "\n"
   ]
  },
  {
   "cell_type": "markdown",
   "id": "280125d3",
   "metadata": {
    "papermill": {
     "duration": 0.045871,
     "end_time": "2022-04-23T18:16:15.069680",
     "exception": false,
     "start_time": "2022-04-23T18:16:15.023809",
     "status": "completed"
    },
    "tags": []
   },
   "source": [
    "# **Day 2**\n",
    "<br>dataquest-> stats -> intro to probability -> probability rules\n",
    "<br>In probability theory, the set of all possible outcomes is called a sample space. A sample space is often denoted by the capital Greek letter Ω (read \"omega\"). This is how we represent the sample space of a die roll:\n",
    "\n",
    "Ω = {1,2,3,4,5,6}\n",
    "-    The probability of any event ranges between 0 and 1: 0≤ P(Event) ≤1\n",
    "- To calculate P(A or B), we can also use the formula below, which is sometimes called the addition rule: P(A or B) = P(A) + P(B)\n",
    "  - Sample space ={ 1,2,3,4,5,6} \n",
    "  - P(2 or 5) = 2/6\n",
    "\n",
    "- P(C or D) = P(C) + P(D) - P(C and D)\n",
    "   - e.x : Sample_space ={2,4,6} + { 4,5,6} - {4/6}\n",
    "      P( even number or number greater than 3) = ( (3/6) + (3/6) )- (2/6) = 4/6\n",
    "- Events that don't intersect are called mutually exclusive.\n",
    "  - e.x: Getting a 5 (event one) and getting a 3 (event two) when we roll a regular six-sided die — it's  impossible to get both a 5 and 3.\n",
    "- Events that intersect are called mutually non-exclusive.\n",
    "  - Getting a number greater than 2 (event one) and getting an odd number (event two) when we roll a regular six-sided die — we could get a 5, which is both greater than 2 (event one) and odd (event two).\n",
    "- unioun -> A or B, intersection -> A and B"
   ]
  },
  {
   "cell_type": "markdown",
   "id": "04ff912e",
   "metadata": {
    "papermill": {
     "duration": 0.045466,
     "end_time": "2022-04-23T18:16:15.162076",
     "exception": false,
     "start_time": "2022-04-23T18:16:15.116610",
     "status": "completed"
    },
    "tags": []
   },
   "source": [
    "# Day 3 and 4\n",
    "dataquest -> stats -> probabilities -> solving complex probabilities\n",
    "- This is the same result we got from our previous approach. In more general terms, the multiplication rule says that for two events E1 and E2, the probability that both event E1 and E2 happen can be found by multiplying the probability of E1 by the probability of E2:\n",
    "    - P(E1 ∩ E2) = P(E1) × P(E2)\n",
    "    - Events that don't influence each other's probability are called independent events. If H1 happens, P(H2) stays the same, so H1 and H2 are independent. The multiplication rule we learned only works for independent events.\n",
    "    "
   ]
  },
  {
   "cell_type": "markdown",
   "id": "879d13ad",
   "metadata": {
    "papermill": {
     "duration": 0.044829,
     "end_time": "2022-04-23T18:16:15.253209",
     "exception": false,
     "start_time": "2022-04-23T18:16:15.208380",
     "status": "completed"
    },
    "tags": []
   },
   "source": [
    "# Day 5\n",
    "- When we replace the cards after drawing, we say that we're sampling with replacement. When we don't put the cards back, we're sampling without replacement. \n"
   ]
  },
  {
   "cell_type": "markdown",
   "id": "453c9fb5",
   "metadata": {
    "papermill": {
     "duration": 0.044951,
     "end_time": "2022-04-23T18:16:15.343378",
     "exception": false,
     "start_time": "2022-04-23T18:16:15.298427",
     "status": "completed"
    },
    "tags": []
   },
   "source": [
    "# Day6\n",
    "dataquest-> prob and stats -> probability fundamentals -> permutation and combinations\n",
    "Generally, if we have an experiment E1 (like flipping a coin) with a outcomes, followed by an experiment E2 (like rolling a die) with b outcomes, then the total number of outcomes for the composite experiment E1E2 can be found by multiplying a with b:\n",
    "\n",
    "Number of outcomes = a * b"
   ]
  },
  {
   "cell_type": "markdown",
   "id": "cc4794fb",
   "metadata": {
    "papermill": {
     "duration": 0.044786,
     "end_time": "2022-04-23T18:16:15.433323",
     "exception": false,
     "start_time": "2022-04-23T18:16:15.388537",
     "status": "completed"
    },
    "tags": []
   },
   "source": [
    "# Day 7\n",
    "dataquest-> prob and stats -> probability fundamentals -> permutation and combinations <br>\n",
    "More generally, if we have an experiment E1 with a outcomes, followed by an experiment E2 with b outcomes, followed by an experiment En with z outcomes, the total number of outcomes for the composite experiment E1E2 ... En can be found by multiplying their individual outcomes:\n",
    "\n",
    "Number of outcomes= a * b * … * z"
   ]
  },
  {
   "cell_type": "markdown",
   "id": "4a01ad73",
   "metadata": {
    "papermill": {
     "duration": 0.045664,
     "end_time": "2022-04-23T18:16:15.525038",
     "exception": false,
     "start_time": "2022-04-23T18:16:15.479374",
     "status": "completed"
    },
    "tags": []
   },
   "source": [
    "# Day 8\n",
    "dataquest-> prob and stats -> probability fundamentals -> permutation and combinations <br>\n",
    "permutations= n*(n-1)*(n-2)*....*2*1\n"
   ]
  },
  {
   "cell_type": "markdown",
   "id": "a6b207e1",
   "metadata": {
    "papermill": {
     "duration": 0.045635,
     "end_time": "2022-04-23T18:16:15.616046",
     "exception": false,
     "start_time": "2022-04-23T18:16:15.570411",
     "status": "completed"
    },
    "tags": []
   },
   "source": [
    "# Day 9\n",
    "dataquest-> prob and stats -> probability fundamentals -> permutation and combinations\n",
    "- in permutation order of the individual element in the arranement matters.\n",
    "   - for e.x: 9821 is different than 9281\n",
    "   - Permutations =n!  --> sample without replacement-> we are not putting back the sampled data.\n",
    "   - On the last screen, we learned to use the formula below to calculate permutations when we're sampling without replacement and taking only k objects from a group of n objects:\n",
    "   npk=n!/(n-k)!"
   ]
  },
  {
   "cell_type": "markdown",
   "id": "265301ff",
   "metadata": {
    "papermill": {
     "duration": 0.044949,
     "end_time": "2022-04-23T18:16:15.706592",
     "exception": false,
     "start_time": "2022-04-23T18:16:15.661643",
     "status": "completed"
    },
    "tags": []
   },
   "source": [
    "# Day 10\n",
    "dataquest-> prob and stats -> probability fundamentals -> permutation and combinations\n",
    "- More generally, if the order of the elements in an arrangement doesn't matter, the arrangement is called a combination.\n",
    "- e.x: cards in a deck \n",
    "- nCk = n! / ((n-k)!*k!)"
   ]
  },
  {
   "cell_type": "markdown",
   "id": "d6f05bdc",
   "metadata": {
    "papermill": {
     "duration": 0.048321,
     "end_time": "2022-04-23T18:16:15.800149",
     "exception": false,
     "start_time": "2022-04-23T18:16:15.751828",
     "status": "completed"
    },
    "tags": []
   },
   "source": [
    "# Day 11\n",
    "dataquest-> prob and stats -> probability fundamentals -> permutation and combinations\n",
    "- solved 1 probability problem.\n"
   ]
  },
  {
   "cell_type": "markdown",
   "id": "9bacff1e",
   "metadata": {
    "papermill": {
     "duration": 0.056658,
     "end_time": "2022-04-23T18:16:15.913575",
     "exception": false,
     "start_time": "2022-04-23T18:16:15.856917",
     "status": "completed"
    },
    "tags": []
   },
   "source": [
    "# Day 12\n",
    "dataquest-> prob and stats -> probability fundamentals -> permutation and combinations\n",
    "- finished probability and permutations by revising them.\n",
    "- If we have an experiment E1 (like flipping a coin) with a outcomes, followed by an experiment E2(like rolling a die) with b outcomes, then the total number of outcomes for the compositeexperiment E1E2 can be found by multiplying a with b (this is known as the rule of product):\n",
    "  - number of outcomes = a*b\n",
    "- If we have an experiment E1 with a outcomes, followed by an experiment E2 with b outcomes,followed by an experiment En with z outcomes, the total number of outcomes for the compositeexperiment E1E2 ... En can be found by multiplying their individual outcomes:\n",
    "   - number of outcomes = a*b* ... *z\n",
    "- There are two kinds of arrangements:\n",
    "   - •Arrangements where the order matters, which we call permutations.\n",
    "   - •Arrangements where the order doesn't matter, which we call combination\n",
    "- To find the number of permutations when we're sampling without replacement, we can use theformula:\n",
    "  - permutation = n!\n",
    "- To find the number of permutations when we're sampling without replacement and taking only kobjects from a group of n objects, we can use the formula:\n",
    "  - nPk = n!/(n-k)!\n",
    "- To find the number of combinations when we're sampling without replacement and taking only kobjects from a group of n objects, we can use the formula\n",
    "  - nCk = n! / ((n-k)!*k!)"
   ]
  },
  {
   "cell_type": "markdown",
   "id": "689f7c52",
   "metadata": {
    "papermill": {
     "duration": 0.044765,
     "end_time": "2022-04-23T18:16:16.003801",
     "exception": false,
     "start_time": "2022-04-23T18:16:15.959036",
     "status": "completed"
    },
    "tags": []
   },
   "source": [
    "# Day 13\n",
    "dataquest-> prob and stats -> probability fundamentals -> conditional probabilities\n",
    "- first 2 slides -> mainly the recap of old chapter(above one).\n"
   ]
  },
  {
   "cell_type": "markdown",
   "id": "c15f0c68",
   "metadata": {
    "papermill": {
     "duration": 0.045545,
     "end_time": "2022-04-23T18:16:16.094721",
     "exception": false,
     "start_time": "2022-04-23T18:16:16.049176",
     "status": "completed"
    },
    "tags": []
   },
   "source": [
    "# Day 14\n",
    "dataquest-> prob and stats -> probability fundamentals -> conditional probabilities\n",
    "<br>slide 4 completed\n",
    "<br>conditional probabilities\n",
    "- probabilities with condition\n",
    "- P(5)=What is the probability of getting a 5? -> normal probability\n",
    "- P(5 | odd) =What is the probability of getting a 5 given the die showed an odd number? -> conditional prob.\n",
    "\n"
   ]
  },
  {
   "cell_type": "markdown",
   "id": "1e90e2ec",
   "metadata": {
    "papermill": {
     "duration": 0.04488,
     "end_time": "2022-04-23T18:16:16.184818",
     "exception": false,
     "start_time": "2022-04-23T18:16:16.139938",
     "status": "completed"
    },
    "tags": []
   },
   "source": [
    "# Day 15\n",
    "dataquest-> prob and stats -> probability fundamentals -> conditional probabilities\n",
    "- on slide 5 not done yet.\n",
    "\n",
    "Say we roll a fair six-sided die and want to find the probability of getting an odd number, given the die showed a number greater than 1 after landing. Using probability notation, we want to find P(A|B) where:\n",
    "\n",
    "- A is the event that the number is odd: A = {1, 3, 5}\n",
    "- B is the event that the number is greater than 1: B = {2, 3, 4, 5, 6}\n",
    "- P(A/B)=number of succesfull outcomes / total number of outcomes.\n"
   ]
  },
  {
   "cell_type": "markdown",
   "id": "3686053b",
   "metadata": {
    "papermill": {
     "duration": 0.044889,
     "end_time": "2022-04-23T18:16:16.274885",
     "exception": false,
     "start_time": "2022-04-23T18:16:16.229996",
     "status": "completed"
    },
    "tags": []
   },
   "source": [
    "# Day 16 and 17\n",
    "dataquest-> prob and stats -> probability fundamentals -> conditional probabilities\n",
    "\n",
    "on slide 6 not done yet."
   ]
  },
  {
   "cell_type": "markdown",
   "id": "5f26b8d4",
   "metadata": {
    "papermill": {
     "duration": 0.044737,
     "end_time": "2022-04-23T18:16:16.364686",
     "exception": false,
     "start_time": "2022-04-23T18:16:16.319949",
     "status": "completed"
    },
    "tags": []
   },
   "source": [
    "# Day 18\n",
    "dataquest-> prob and stats -> probability fundamentals -> conditional probabilities\n",
    "<br>slide 5 code half done"
   ]
  },
  {
   "cell_type": "markdown",
   "id": "f61c423d",
   "metadata": {
    "papermill": {
     "duration": 0.044876,
     "end_time": "2022-04-23T18:16:16.454720",
     "exception": false,
     "start_time": "2022-04-23T18:16:16.409844",
     "status": "completed"
    },
    "tags": []
   },
   "source": [
    "# Day 19\n",
    "- The number of elements in a set is called the cardinal of the set. \n",
    "  Ω is a set, and the cardinal of \n",
    "   Ω = { 2,3,4,5,6}\n",
    "   cardinal(Ω)=5\n",
    "- P(A | B) = card(A ∩ B) / card(B)\n",
    "- Say we roll a fair six-sided die and want to find the probability of getting an odd number, given the die showed a number greater than 1 after landing. Using probability notation, we want to find P(A|B) where:\n",
    "    - A is the event that the number is odd: A = {1, 3, 5}\n",
    "     - B is the event that the number is greater than 1: B = {2, 3, 4, 5, 6}\n",
    "     - total number of possible outcomes = card({2,3,4,5,6}) =5\n",
    "     - number of successful outcomes = card({3,5})= 2\n",
    "- P(A | B) = card(A ∩ B) / card(B), we can also get the same result using P(A | B) = prob(A ∩ B) / prob(B)\n",
    "\n",
    "     "
   ]
  },
  {
   "cell_type": "markdown",
   "id": "977743a5",
   "metadata": {
    "papermill": {
     "duration": 0.045001,
     "end_time": "2022-04-23T18:16:16.544972",
     "exception": false,
     "start_time": "2022-04-23T18:16:16.499971",
     "status": "completed"
    },
    "tags": []
   },
   "source": [
    "# Day 20\n",
    "dataquest-> prob and stats -> probability fundamentals -> conditional probabilities intermediate\n",
    "<br> slide 1 and 2\n",
    "- P( A | B ) ≠ P(A ∩ B), but rather:\n",
    "   - P(A | B) = P(A ∩ B) / P(B)\n",
    "   - P(A ∩ B) = P(A | B) ⋅ P(B)\n",
    "- Given that a customer bought a laptop, they will or will not also buy a mouse. This means we can be certain that either event (M|L) or (M^C|L) will happen:\n",
    "     - P(M | L) + P(M^C | L) = 1\n",
    "\n"
   ]
  },
  {
   "cell_type": "markdown",
   "id": "6dcbb8ba",
   "metadata": {
    "papermill": {
     "duration": 0.044877,
     "end_time": "2022-04-23T18:16:16.635286",
     "exception": false,
     "start_time": "2022-04-23T18:16:16.590409",
     "status": "completed"
    },
    "tags": []
   },
   "source": [
    "# Day 21\n",
    "dataquest-> prob and stats -> probability fundamentals -> conditional probabilities intermediate\n",
    "slide 1 and 2\n",
    "- P(A ∩ B) = P(B ∩ A)\n",
    "- multiplication rule of probability\n",
    "  -  P(A ∩ B) = P(B) ⋅ P(A | B) \n",
    "  - P(A ∩ B) = P(A) ⋅ P(B | A)\n",
    "- if P(A) and P(B) are statistically independent then \n",
    "  - P(A ∩ B) = P(A) ⋅ P(B)\n",
    "\n"
   ]
  },
  {
   "cell_type": "markdown",
   "id": "3c6022ac",
   "metadata": {
    "papermill": {
     "duration": 0.044827,
     "end_time": "2022-04-23T18:16:16.725172",
     "exception": false,
     "start_time": "2022-04-23T18:16:16.680345",
     "status": "completed"
    },
    "tags": []
   },
   "source": [
    "# Day 22\n",
    "dataquest-> prob and stats -> probability fundamentals -> conditional probabilities intermediate \n",
    "<br>slide 6\n",
    "- If events events A and B are dependent, it means the occurrence of event A changes the probability of event B and vice versa.\n",
    "   - P(A) ≠ P(A | B)\n",
    "   - P(B) ≠ P(B | A)\n",
    "   - P(A ∩ B) ≠ P(A) ⋅ P(B)\n",
    "   - formula will become P(A ∩ B) ≠ P(A) ⋅ P(B/A)\n",
    "   "
   ]
  },
  {
   "cell_type": "markdown",
   "id": "9bcc3526",
   "metadata": {
    "papermill": {
     "duration": 0.045104,
     "end_time": "2022-04-23T18:16:16.815853",
     "exception": false,
     "start_time": "2022-04-23T18:16:16.770749",
     "status": "completed"
    },
    "tags": []
   },
   "source": [
    "# Day 23\n",
    "dataquest-> prob and stats -> probability fundamentals -> conditional probabilities intermediate\n",
    "<br>slide 7 to last\n",
    "- To find whether three events — A, B, C — are independent or not, below conditions must hold true -\n",
    "  - P(A ∩ B) ≠ P(A) ⋅ P(B)\n",
    "  - P(A ∩ C) ≠ P(A) ⋅ P(C)\n",
    "  - P(B ∩ C) ≠ P(B) ⋅ P(C)\n",
    "  - P(A ∩ B ∩ C) ≠ P(A) ⋅ P(B) . P(C)\n",
    "- multiplication rule for conditional probability or dependent events\n",
    " - P(A ∩ B ∩ C) = P(A) ⋅ P(B | A) ⋅ P(C | A ∩ B)\n",
    " \n",
    "\n"
   ]
  },
  {
   "cell_type": "markdown",
   "id": "b2d4e938",
   "metadata": {
    "papermill": {
     "duration": 0.045743,
     "end_time": "2022-04-23T18:16:16.906980",
     "exception": false,
     "start_time": "2022-04-23T18:16:16.861237",
     "status": "completed"
    },
    "tags": []
   },
   "source": [
    "# Day 24\n",
    "dataquest-> prob and stats -> probability fundamentals -> bayes theorem\n",
    "<br>slide 1\n",
    "- independent -> one event is dependent on other\n",
    "   - P(A ∩ B) = P(A) ⋅ P(B/A)\n",
    "- independent -> one event is not dependent on other.\n",
    "   - P(A ∩ B) = P(A) ⋅ P(B)\n",
    "- mutually exclusive -> both the events cannot happen at the same time.\n",
    "   - P(A ∩ B) = 0\n",
    "\n"
   ]
  },
  {
   "cell_type": "markdown",
   "id": "f4059c0c",
   "metadata": {
    "papermill": {
     "duration": 0.044845,
     "end_time": "2022-04-23T18:16:16.997092",
     "exception": false,
     "start_time": "2022-04-23T18:16:16.952247",
     "status": "completed"
    },
    "tags": []
   },
   "source": [
    "# Day 25\n",
    "dataquest-> prob and stats -> probability fundamentals -> bayes theorem\n",
    "<br>slide 2\n",
    "- If two events are exhaustive, it means they make up the whole sample space Ω\n",
    "  -  P(A) = P(A ∩ B) + P(A ∩ B^c)\n",
    "     P(A) = (P(B) * P(A/B)) +  (P(B^c) * P(A/B^c))\n",
    "     \n",
    "     "
   ]
  },
  {
   "cell_type": "markdown",
   "id": "13ac5f39",
   "metadata": {
    "papermill": {
     "duration": 0.047088,
     "end_time": "2022-04-23T18:16:17.090224",
     "exception": false,
     "start_time": "2022-04-23T18:16:17.043136",
     "status": "completed"
    },
    "tags": []
   },
   "source": [
    "# Day 26\n",
    "dataquest-> prob and stats -> probability fundamentals -> bayes theorem\n",
    "<br>slide 3 - last\n",
    "- the law of total probability\n",
    "  - P(A)  = (P(B1) * P(A/B1)) + (P(B2) * P(A/B2))+ ... + (P(Bn) * P(A/Bn)))\n",
    "  - P(A) =(summattion i=1 to n) P(Bi) ⋅ P(A|Bi)\n",
    "- Baye's theorem\n",
    "  - P(B | A) = (P(B) ⋅ P(A | B)) / (n ∑i=1 P(Bi) ⋅ P(A | Bi))\n",
    "- The probability of being infected with HIV before doing any test is called the prior probability (\"prior\" means \"before\"). The probability of being infected with HIV after testing positive is called the posterior probability (\"posterior\" means \"after\").\n",
    "\n",
    "\n",
    "  "
   ]
  },
  {
   "cell_type": "markdown",
   "id": "8f520084",
   "metadata": {
    "papermill": {
     "duration": 0.045755,
     "end_time": "2022-04-23T18:16:17.181291",
     "exception": false,
     "start_time": "2022-04-23T18:16:17.135536",
     "status": "completed"
    },
    "tags": []
   },
   "source": [
    "# Day 27\n",
    "dataquest-> prob and stats -> probability fundamentals -> naive bayes theorem\n",
    "<br>slide 1 - \n",
    "P(Spam|w1,w2,w3,w4)∝P(Spam)⋅P(w1|Spam)⋅P(w2|Spam)⋅P(w3|Spam)⋅P(w4|Spam)P(SpamC|w1,w2,w3,w4)∝P(SpamC)⋅P(w1|SpamC)⋅P(w2|SpamC)⋅P(w3|SpamC)⋅P(w4|SpamC)"
   ]
  },
  {
   "cell_type": "markdown",
   "id": "6ea055de",
   "metadata": {
    "papermill": {
     "duration": 0.044911,
     "end_time": "2022-04-23T18:16:17.271638",
     "exception": false,
     "start_time": "2022-04-23T18:16:17.226727",
     "status": "completed"
    },
    "tags": []
   },
   "source": [
    "# Day 28\n",
    "dataquest-> prob and stats -> probability fundamentals -> naive bayes theorem\n",
    "<br>finished.\n",
    "<br>**Summary**\n",
    "- P(Spam|w1,w2,...,wn)∝P(Spam)⋅n∏i=1P(wi|Spam)\n",
    "- P(SpamC|w1,w2,...,wn)∝P(SpamC)⋅n∏i=1P(wi|SpamC)\n",
    "- To calculate P(wi|Spam) and P(wi|SpamC), we need to use the additive smoothing technique: \n",
    "- P ( w i | S p a m ) = (N w i | S p a m + α) / ( N S p a m + α ⋅ N V o c a b u l a r y )\n",
    "- P ( w i | S p a m C ) = (N w i | S p a m C + α) / ( N S p a m C + α ⋅ N V o c a b u l a r y )\n",
    "     - N w i | S p a m = the number of times the word w i occurs in spam messages \n",
    "     - N w i | S p a m C = the number of times the word w i occurs in non-spam messages \n",
    "     - N S p a m = total number of words in spam messages \n",
    "     - N S p a m C = total number of words in non-spam messages \n",
    "     - N V o c a b u l a r y = total number of words in the vocabulary \n",
    "     - α = 1 ( α is a smoothing parameter )\n",
    " - naive bayes theorem assumes that events are not dependent.\n",
    " - The assumption of conditional independence between words is thus naive since it rarely holds in practice, and this is why the algorithm is called Naive Bayes (also called simple Bayes or independence Bayes)."
   ]
  },
  {
   "cell_type": "markdown",
   "id": "59e89539",
   "metadata": {
    "papermill": {
     "duration": 0.045136,
     "end_time": "2022-04-23T18:16:17.366135",
     "exception": false,
     "start_time": "2022-04-23T18:16:17.320999",
     "status": "completed"
    },
    "tags": []
   },
   "source": [
    "# Day 29,30,31\n",
    "<br>dataquest-> prob and stats -> probability fundamentals -> conditional probability-> guided projects\n",
    "<br> in progress"
   ]
  },
  {
   "cell_type": "markdown",
   "id": "0cb51532",
   "metadata": {
    "papermill": {
     "duration": 0.044961,
     "end_time": "2022-04-23T18:16:17.457397",
     "exception": false,
     "start_time": "2022-04-23T18:16:17.412436",
     "status": "completed"
    },
    "tags": []
   },
   "source": [
    "# Day 32 and 33\n",
    "<br>dataquest-> prob and stats -> probability fundamentals -> guided projects\n",
    "<br> done"
   ]
  },
  {
   "cell_type": "markdown",
   "id": "2f9f0a36",
   "metadata": {
    "papermill": {
     "duration": 0.045072,
     "end_time": "2022-04-23T18:16:17.548235",
     "exception": false,
     "start_time": "2022-04-23T18:16:17.503163",
     "status": "completed"
    },
    "tags": []
   },
   "source": [
    "# Day 34\n",
    "<br>dataquest-> prob and stats -> probability fundamentals -> guided projects-> lottery prediction\n",
    "<br> done"
   ]
  },
  {
   "cell_type": "markdown",
   "id": "22f97e2f",
   "metadata": {
    "papermill": {
     "duration": 0.045287,
     "end_time": "2022-04-23T18:16:17.640617",
     "exception": false,
     "start_time": "2022-04-23T18:16:17.595330",
     "status": "completed"
    },
    "tags": []
   },
   "source": [
    "# Day 35\n",
    "<br>dataquest-> prob and stats -> hypothesis testing fundamentals -> significance testing\n",
    "<br> till slide 4\n",
    "- null hypothesis\n",
    "- alternate hypothesis\n"
   ]
  },
  {
   "cell_type": "markdown",
   "id": "2d9366bc",
   "metadata": {
    "papermill": {
     "duration": 0.045255,
     "end_time": "2022-04-23T18:16:17.731408",
     "exception": false,
     "start_time": "2022-04-23T18:16:17.686153",
     "status": "completed"
    },
    "tags": []
   },
   "source": [
    "# Day 36 and 37\n",
    "<br>dataquest-> prob and stats -> hypothesis testing fundamentals -> significance testing\n",
    "- The permutation test is a statistical test that involves rerunning the study many times and recalculating the test statistic for each iteration. The goal is to calculate a distribution of the test statistics over these many iterations. This distribution is called the sampling distribution and it approximates the full range of possible test statistics under the null hypothesis\n",
    "\n"
   ]
  },
  {
   "cell_type": "markdown",
   "id": "e1044ae6",
   "metadata": {
    "papermill": {
     "duration": 0.04582,
     "end_time": "2022-04-23T18:16:17.822455",
     "exception": false,
     "start_time": "2022-04-23T18:16:17.776635",
     "status": "completed"
    },
    "tags": []
   },
   "source": [
    "# Day 38\n",
    "<br>dataquest-> prob and stats -> hypothesis testing fundamentals -> significance testing\n",
    "<br>in progress."
   ]
  },
  {
   "cell_type": "markdown",
   "id": "b5484c87",
   "metadata": {
    "papermill": {
     "duration": 0.045049,
     "end_time": "2022-04-23T18:16:17.913166",
     "exception": false,
     "start_time": "2022-04-23T18:16:17.868117",
     "status": "completed"
    },
    "tags": []
   },
   "source": [
    "# Day 39\n",
    "<br>dataquest-> prob and stats -> hypothesis testing fundamentals -> significance testing\n",
    "<br>slide 5-6"
   ]
  },
  {
   "cell_type": "markdown",
   "id": "113850b9",
   "metadata": {
    "papermill": {
     "duration": 0.045216,
     "end_time": "2022-04-23T18:16:18.004240",
     "exception": false,
     "start_time": "2022-04-23T18:16:17.959024",
     "status": "completed"
    },
    "tags": []
   },
   "source": [
    "# Day 40\n",
    "<br>dataquest-> prob and stats -> hypothesis testing fundamentals -> significance testing\n",
    "<br>slide 7"
   ]
  },
  {
   "cell_type": "markdown",
   "id": "3d644dc5",
   "metadata": {
    "papermill": {
     "duration": 0.045693,
     "end_time": "2022-04-23T18:16:18.095460",
     "exception": false,
     "start_time": "2022-04-23T18:16:18.049767",
     "status": "completed"
    },
    "tags": []
   },
   "source": [
    "# Day 41 and 42\n",
    "<br>dataquest-> prob and stats -> hypothesis testing fundamentals -> significance testing\n",
    "<br>slide 7 done and 8(p-value) strated"
   ]
  },
  {
   "cell_type": "markdown",
   "id": "51b9aaf8",
   "metadata": {
    "papermill": {
     "duration": 0.044823,
     "end_time": "2022-04-23T18:16:18.185570",
     "exception": false,
     "start_time": "2022-04-23T18:16:18.140747",
     "status": "completed"
    },
    "tags": []
   },
   "source": [
    "# Day 43\n",
    "<br>dataquest-> prob and stats -> hypothesis testing fundamentals -> significance testing\n",
    "<br>\n",
    "- The first step is to decide a test statistic, which is a numerical value that summarizes the data and one we can use in statistical formulas. The test statistic runs a statistical test that determines whether the difference between the groups was due to random chance.\n",
    "  - e.x: mean \n",
    "- The permutation test is a statistical test that involves rerunning the study many times and recalculating the test statistic for each iteration.\n",
    "   - The goal is to calculate a distribution of the test statistics over these many iterations. This distribution is called the sampling distribution and it approximates the full range of possible test statistics under the null hypothesis.\n",
    "- If the p value is less than the threshold, we:\n",
    "    - reject the null hypothesis that there's no difference in the mean amount of weight lost by participants in both groups; and\n",
    "    - conclude that there is some evidence that the weight loss pill does affect the amount of weight people lost.\n",
    "\n",
    "- If the p value is greater than the threshold, we:\n",
    "    - fail to reject the null hypothesis that there's no difference in the mean amount of weight lost by participants in both groups,\n",
    "    - conclude that the weight loss pill doesn't seem to be effective in helping people lose weight.\n",
    "- usually used p-value threshold is 0.05\n",
    "- The p value threshold you set can also affect the conclusion you reach.\n",
    "    - If you set too high of a p value threshold, you may reject the null hypothesis incorrectly. This is known as a type I error.\n",
    "    - If you set too low of a p value threshold, you may fail to reject the null hypothesis incorrectly. This is known as a type II error."
   ]
  },
  {
   "cell_type": "code",
   "execution_count": null,
   "id": "f3ba2cf5",
   "metadata": {
    "papermill": {
     "duration": 0.044926,
     "end_time": "2022-04-23T18:16:18.275849",
     "exception": false,
     "start_time": "2022-04-23T18:16:18.230923",
     "status": "completed"
    },
    "tags": []
   },
   "outputs": [],
   "source": []
  },
  {
   "cell_type": "code",
   "execution_count": 2,
   "id": "d0ed9a49",
   "metadata": {
    "execution": {
     "iopub.execute_input": "2022-04-23T18:16:18.370571Z",
     "iopub.status.busy": "2022-04-23T18:16:18.369869Z",
     "iopub.status.idle": "2022-04-23T18:16:18.371774Z",
     "shell.execute_reply": "2022-04-23T18:16:18.371272Z",
     "shell.execute_reply.started": "2022-04-12T14:17:49.333113Z"
    },
    "papermill": {
     "duration": 0.050742,
     "end_time": "2022-04-23T18:16:18.371900",
     "exception": false,
     "start_time": "2022-04-23T18:16:18.321158",
     "status": "completed"
    },
    "tags": []
   },
   "outputs": [],
   "source": [
    "# !pip install PyMuPDF"
   ]
  },
  {
   "cell_type": "code",
   "execution_count": 3,
   "id": "c705a26a",
   "metadata": {
    "execution": {
     "iopub.execute_input": "2022-04-23T18:16:18.467222Z",
     "iopub.status.busy": "2022-04-23T18:16:18.466664Z",
     "iopub.status.idle": "2022-04-23T18:16:18.468319Z",
     "shell.execute_reply": "2022-04-23T18:16:18.468763Z",
     "shell.execute_reply.started": "2022-04-12T14:19:20.437905Z"
    },
    "papermill": {
     "duration": 0.05094,
     "end_time": "2022-04-23T18:16:18.468923",
     "exception": false,
     "start_time": "2022-04-23T18:16:18.417983",
     "status": "completed"
    },
    "tags": []
   },
   "outputs": [],
   "source": [
    " \n",
    "# fitz.__version__"
   ]
  },
  {
   "cell_type": "code",
   "execution_count": 4,
   "id": "bf026a0a",
   "metadata": {
    "execution": {
     "iopub.execute_input": "2022-04-23T18:16:18.563541Z",
     "iopub.status.busy": "2022-04-23T18:16:18.562952Z",
     "iopub.status.idle": "2022-04-23T18:16:18.565777Z",
     "shell.execute_reply": "2022-04-23T18:16:18.566154Z",
     "shell.execute_reply.started": "2022-04-12T14:23:59.687259Z"
    },
    "papermill": {
     "duration": 0.051219,
     "end_time": "2022-04-23T18:16:18.566326",
     "exception": false,
     "start_time": "2022-04-23T18:16:18.515107",
     "status": "completed"
    },
    "tags": []
   },
   "outputs": [],
   "source": [
    "# !python -m spacy download en_core_web_sm"
   ]
  },
  {
   "cell_type": "code",
   "execution_count": null,
   "id": "798daeef",
   "metadata": {
    "papermill": {
     "duration": 0.044846,
     "end_time": "2022-04-23T18:16:18.656474",
     "exception": false,
     "start_time": "2022-04-23T18:16:18.611628",
     "status": "completed"
    },
    "tags": []
   },
   "outputs": [],
   "source": []
  },
  {
   "cell_type": "code",
   "execution_count": 5,
   "id": "f2ea42f4",
   "metadata": {
    "execution": {
     "iopub.execute_input": "2022-04-23T18:16:18.751447Z",
     "iopub.status.busy": "2022-04-23T18:16:18.750869Z",
     "iopub.status.idle": "2022-04-23T18:16:18.752589Z",
     "shell.execute_reply": "2022-04-23T18:16:18.752980Z",
     "shell.execute_reply.started": "2022-04-12T14:18:25.912243Z"
    },
    "papermill": {
     "duration": 0.051361,
     "end_time": "2022-04-23T18:16:18.753142",
     "exception": false,
     "start_time": "2022-04-23T18:16:18.701781",
     "status": "completed"
    },
    "tags": []
   },
   "outputs": [],
   "source": [
    "# import fitz\n",
    "# import spacy\n",
    "# import re\n",
    "# from pathlib import Path\n",
    "# import requests\n",
    "# import os"
   ]
  },
  {
   "cell_type": "code",
   "execution_count": 6,
   "id": "17707ffe",
   "metadata": {
    "execution": {
     "iopub.execute_input": "2022-04-23T18:16:18.848540Z",
     "iopub.status.busy": "2022-04-23T18:16:18.847849Z",
     "iopub.status.idle": "2022-04-23T18:16:18.849623Z",
     "shell.execute_reply": "2022-04-23T18:16:18.850047Z",
     "shell.execute_reply.started": "2022-04-12T15:03:43.5897Z"
    },
    "papermill": {
     "duration": 0.051703,
     "end_time": "2022-04-23T18:16:18.850198",
     "exception": false,
     "start_time": "2022-04-23T18:16:18.798495",
     "status": "completed"
    },
    "tags": []
   },
   "outputs": [],
   "source": [
    "# sql_db_json = [\n",
    "#   {\n",
    "#     \"document_id\": \"1\",\n",
    "#     \"area\": \"[72.1149,661.2966,131.95729,675.1716]\",\n",
    "#     \"page\": \"3\",\n",
    "#     \"text_\": \"Background\",\n",
    "#     \"type_of_selection\": \"Text\",\n",
    "#     \"entity_type\": \"name\",\n",
    "#     \"link\": \"https://redactable-devox-stage.s3.us-east-2.amazonaws.com/tenants/41d9e109-693b-444c-aa18-e5891bc6550b/original/1a7c0e5d-3237-4ca9-9e3d-89e707245ac6/D8communications.pdf\"\n",
    "#   },\n",
    "#   {\n",
    "#     \"document_id\": \"1\",\n",
    "#     \"area\": \"[290.55386,632.0173,322.14685,645.8923]\",\n",
    "#     \"page\": \"2\",\n",
    "#     \"text_\": \"INDEX\",\n",
    "#     \"type_of_selection\": \"Text\",\n",
    "#     \"entity_type\": \"address\",\n",
    "#     \"link\": \"https://redactable-devox-stage.s3.us-east-2.amazonaws.com/tenants/41d9e109-693b-444c-aa18-e5891bc6550b/original/1a7c0e5d-3237-4ca9-9e3d-89e707245ac6/D8communications.pdf\"\n",
    "#   }\n",
    "# ]"
   ]
  },
  {
   "cell_type": "code",
   "execution_count": 7,
   "id": "917df142",
   "metadata": {
    "execution": {
     "iopub.execute_input": "2022-04-23T18:16:18.944940Z",
     "iopub.status.busy": "2022-04-23T18:16:18.944131Z",
     "iopub.status.idle": "2022-04-23T18:16:18.946802Z",
     "shell.execute_reply": "2022-04-23T18:16:18.947363Z",
     "shell.execute_reply.started": "2022-04-12T13:17:19.452695Z"
    },
    "papermill": {
     "duration": 0.052042,
     "end_time": "2022-04-23T18:16:18.947530",
     "exception": false,
     "start_time": "2022-04-23T18:16:18.895488",
     "status": "completed"
    },
    "tags": []
   },
   "outputs": [],
   "source": [
    "# l=pd.DataFrame()\n",
    "# k=(1, '[290.55386,632.0173,322.14685,645.8923]', 2, 'INDEX', 'Text', 'address', 'https://redactable-devox-s')\n",
    "# k\n"
   ]
  },
  {
   "cell_type": "code",
   "execution_count": 8,
   "id": "d331f90a",
   "metadata": {
    "execution": {
     "iopub.execute_input": "2022-04-23T18:16:19.041996Z",
     "iopub.status.busy": "2022-04-23T18:16:19.041058Z",
     "iopub.status.idle": "2022-04-23T18:16:19.044729Z",
     "shell.execute_reply": "2022-04-23T18:16:19.045265Z",
     "shell.execute_reply.started": "2022-04-12T16:09:33.708631Z"
    },
    "papermill": {
     "duration": 0.052456,
     "end_time": "2022-04-23T18:16:19.045443",
     "exception": false,
     "start_time": "2022-04-23T18:16:18.992987",
     "status": "completed"
    },
    "tags": []
   },
   "outputs": [],
   "source": [
    "# co=[\"document_id\",\"area\",\"page\",\"text_\",\"type_of_selection\",\"entity_type\",\"link\"]\n",
    "# val= [(1,'[72.1149,661.2966,131.95729,675.1716]',3,'Background','Text','name' ,'https://redactable-devox-stage.s3.us-east-2.am'), (1,  '[290.55386,632.0173,322.14685,645.8923]',2,'INDEX', 'Text','address','https://redactable-devox-stage.s3.us-east-2.am')]\n",
    "\n",
    "# df=pd.DataFrame(val,columns=[co])\n",
    "# #df.iloc[1] =[1,  '[290.55386,632.0173,322.14685,645.8923]',2,'INDEX', 'Text','address','https://redactable-devox-stage.s3.us-east-2.am']\n",
    "# df"
   ]
  },
  {
   "cell_type": "code",
   "execution_count": 9,
   "id": "4f37221b",
   "metadata": {
    "execution": {
     "iopub.execute_input": "2022-04-23T18:16:19.140638Z",
     "iopub.status.busy": "2022-04-23T18:16:19.139824Z",
     "iopub.status.idle": "2022-04-23T18:16:19.142644Z",
     "shell.execute_reply": "2022-04-23T18:16:19.143170Z",
     "shell.execute_reply.started": "2022-04-12T16:18:22.595374Z"
    },
    "papermill": {
     "duration": 0.052072,
     "end_time": "2022-04-23T18:16:19.143351",
     "exception": false,
     "start_time": "2022-04-23T18:16:19.091279",
     "status": "completed"
    },
    "tags": []
   },
   "outputs": [],
   "source": [
    "# prev=[]\n",
    "# for data,row in df.iterrows():\n",
    "#     if row['document_id'] not in prev:\n",
    "#         prev.append(row['document_id'])\n",
    "#         print('hey')"
   ]
  },
  {
   "cell_type": "code",
   "execution_count": 10,
   "id": "0f4c76db",
   "metadata": {
    "execution": {
     "iopub.execute_input": "2022-04-23T18:16:19.237618Z",
     "iopub.status.busy": "2022-04-23T18:16:19.236704Z",
     "iopub.status.idle": "2022-04-23T18:16:19.241265Z",
     "shell.execute_reply": "2022-04-23T18:16:19.241790Z",
     "shell.execute_reply.started": "2022-04-12T15:03:48.248836Z"
    },
    "papermill": {
     "duration": 0.053138,
     "end_time": "2022-04-23T18:16:19.241950",
     "exception": false,
     "start_time": "2022-04-23T18:16:19.188812",
     "status": "completed"
    },
    "tags": []
   },
   "outputs": [],
   "source": [
    "# nlp = spacy.load('en_core_web_sm')\n",
    "# train_data = []\n",
    "\n",
    "# prev_doc_id = ''\n",
    "# i=0\n",
    "# temp='/kaggle/working'\n",
    "\n",
    "# for data in sql_db_json:\n",
    "#     if data['type_of_selection'] == 'Text':\n",
    "#         document_id = data['document_id']\n",
    "#         x1,y1,x2,y2 = data['area'][1:-1].split(',')\n",
    "#         url = data['link']\n",
    "#         page_no = int(data['page']) - 1 \n",
    "#         label = data['entity_type']\n",
    "#         filename = url.split('/')[-1]\n",
    "    \n",
    "#         #download the file to temp folder\n",
    "#         outpath = os.path.join(temp,filename)\n",
    "\n",
    "#         if document_id == prev_doc_id:\n",
    "#             pass\n",
    "#         else: \n",
    "#             i+=1\n",
    "#             print(i)\n",
    "#             response = requests.get(url)\n",
    "#             with open(outpath, \"wb\") as binary_file:\n",
    "#                 binary_file.write(response.content)\n",
    "\n",
    "#         doc = fitz.open(outpath)  # any supported document type\n",
    "#         page = doc[page_no]  # we want text from this page\n",
    "#         print('page dimension - ', page.rect.width, page.rect.height)\n",
    "\n",
    "#         #The co-ordinates in the DB are image co-ords. W.r.t pdf, y1 and y2 has to be interchanged.\n",
    "#         #To ensure entire word to be selected, slight correction in x1,y1,x2,y2 is done.\n",
    "\n",
    "#         rect = [float(x1)-2, 792 - float(y2)-2, float(x2)+2, 792 - float(y1)+2]\n",
    "#         print(rect)\n",
    "#         labelled_text = page.get_textbox(rect)\n",
    "\n",
    "#         #Removing all unprintable characters from the text\n",
    "#         string = re.sub('[^0-9a-zA-Z@?|\\/<>.,()&^%$#!]+', ' ', labelled_text)\n",
    "#         print('string : ', string)\n",
    "\n",
    "#         fulltext = page.get_text()\n",
    "#         doc = nlp(fulltext)\n",
    "\n",
    "#         sentences = []\n",
    "#         for sent in doc.sents:\n",
    "#             if string.strip() in sent.text:\n",
    "#                 text = re.sub('[^0-9a-zA-Z@?|\\/<>.,()&^%$#!]+', ' ', sent.text)\n",
    "\n",
    "#         res = re.search(string.strip(), text)\n",
    "\n",
    "#         entities = []\n",
    "#         entities.append((res.start(),res.end(),label))\n",
    "\n",
    "#         train_data.append((text,{'entities':entities}))\n",
    "\n",
    "# print('Training data in spacy format')\n",
    "# print('*****************************')\n",
    "# for i in range(0,len(train_data)):\n",
    "#     print(train_data[i])"
   ]
  },
  {
   "cell_type": "code",
   "execution_count": null,
   "id": "ee75163f",
   "metadata": {
    "papermill": {
     "duration": 0.044887,
     "end_time": "2022-04-23T18:16:19.332427",
     "exception": false,
     "start_time": "2022-04-23T18:16:19.287540",
     "status": "completed"
    },
    "tags": []
   },
   "outputs": [],
   "source": []
  },
  {
   "cell_type": "code",
   "execution_count": 11,
   "id": "777c8456",
   "metadata": {
    "execution": {
     "iopub.execute_input": "2022-04-23T18:16:19.426626Z",
     "iopub.status.busy": "2022-04-23T18:16:19.425702Z",
     "iopub.status.idle": "2022-04-23T18:16:19.430186Z",
     "shell.execute_reply": "2022-04-23T18:16:19.430634Z",
     "shell.execute_reply.started": "2022-04-12T11:44:59.253637Z"
    },
    "papermill": {
     "duration": 0.05321,
     "end_time": "2022-04-23T18:16:19.430787",
     "exception": false,
     "start_time": "2022-04-23T18:16:19.377577",
     "status": "completed"
    },
    "tags": []
   },
   "outputs": [],
   "source": [
    "# nlp = spacy.load('en_core_web_sm')\n",
    "# train_data = []\n",
    "\n",
    "# prev_doc_id = ''\n",
    "# temp='/kaggle/working'\n",
    "# i=0\n",
    "# for data in sql_db_json:\n",
    "#     if data['type_of_selection'] == 'Text':\n",
    "#         document_id = data['document_id']\n",
    "#         x1,y1,x2,y2 = data['area'][1:-1].split(',')\n",
    "#         url = data['link']\n",
    "#         page_no = int(data['page']) - 1 \n",
    "#         label = data['entity_type']\n",
    "#         filename = url.split('/')[-1]\n",
    "    \n",
    "#         #download the file to temp folder\n",
    "#         i+=1\n",
    "#         print(i)\n",
    "#         response = requests.get(url)\n",
    "#         doc = fitz.open(stream=response.content,filetype=\"pdf\")  # any supported document type\n",
    "#         page = doc[page_no]  # we want text from this page\n",
    "#         print('page dimension - ', page.rect.width, page.rect.height)\n",
    "\n",
    "#         #The co-ordinates in the DB are image co-ords. W.r.t pdf, y1 and y2 has to be interchanged.\n",
    "#         #To ensure entire word to be selected, slight correction in x1,y1,x2,y2 is done.\n",
    "\n",
    "#         rect = [float(x1)-2, 792 - float(y2)-2, float(x2)+2, 792 - float(y1)+2]\n",
    "#         print(rect)\n",
    "#         labelled_text = page.get_textbox(rect)\n",
    "\n",
    "#         #Removing all unprintable characters from the text\n",
    "#         string = re.sub('[^0-9a-zA-Z@?|\\/<>.,()&^%$#!]+', ' ', labelled_text)\n",
    "#         print('string : ', string)\n",
    "\n",
    "#         fulltext = page.get_text()\n",
    "#         doc = nlp(fulltext)\n",
    "\n",
    "#         sentences = []\n",
    "#         for sent in doc.sents:\n",
    "#             if string.strip() in sent.text:\n",
    "#                 text = re.sub('[^0-9a-zA-Z@?|\\/<>.,()&^%$#!]+', ' ', sent.text)\n",
    "\n",
    "#         res = re.search(string.strip(), text)\n",
    "\n",
    "#         entities = []\n",
    "#         entities.append((res.start(),res.end(),label))\n",
    "\n",
    "#         train_data.append((text,{'entities':entities}))\n",
    "\n",
    "# print('Training data in spacy format')\n",
    "# print('*****************************')\n",
    "# for i in range(0,len(train_data)):\n",
    "#     print(train_data[i])"
   ]
  },
  {
   "cell_type": "code",
   "execution_count": 12,
   "id": "75366353",
   "metadata": {
    "execution": {
     "iopub.execute_input": "2022-04-23T18:16:19.525444Z",
     "iopub.status.busy": "2022-04-23T18:16:19.524561Z",
     "iopub.status.idle": "2022-04-23T18:16:19.527927Z",
     "shell.execute_reply": "2022-04-23T18:16:19.528509Z"
    },
    "papermill": {
     "duration": 0.052625,
     "end_time": "2022-04-23T18:16:19.528671",
     "exception": false,
     "start_time": "2022-04-23T18:16:19.476046",
     "status": "completed"
    },
    "tags": []
   },
   "outputs": [],
   "source": [
    "# page dimension -  612.0 792.0\n",
    "# [70.1149, 114.82839999999999, 133.95729, 132.7034]\n",
    "# string :  Background\n",
    "# page dimension -  612.0 792.0\n",
    "# [288.55386, 144.10770000000002, 324.14685, 161.98270000000002]\n",
    "# string :  INDEX\n",
    "# Training data in spacy format\n",
    "# *****************************\n",
    "# (' 3 Background The Blue Ribbon Committee was created by the Mayor to assess various city communication methods and recommend opportunities to improve communications with residents, businesses and other organizations.', {'entities': [(3, 13, 'name')]})\n",
    "# (' 2 INDEX Background Pg. 3 Purpose Pg. 3 Process .', {'entities': [(3, 8, 'address')]})"
   ]
  },
  {
   "cell_type": "code",
   "execution_count": 13,
   "id": "aacf425b",
   "metadata": {
    "execution": {
     "iopub.execute_input": "2022-04-23T18:16:19.623526Z",
     "iopub.status.busy": "2022-04-23T18:16:19.622622Z",
     "iopub.status.idle": "2022-04-23T18:16:19.626524Z",
     "shell.execute_reply": "2022-04-23T18:16:19.626986Z",
     "shell.execute_reply.started": "2022-04-11T16:35:29.609712Z"
    },
    "papermill": {
     "duration": 0.052861,
     "end_time": "2022-04-23T18:16:19.627153",
     "exception": false,
     "start_time": "2022-04-23T18:16:19.574292",
     "status": "completed"
    },
    "tags": []
   },
   "outputs": [],
   "source": [
    "# nlp = spacy.load('en_core_web_sm')\n",
    "# outpath=r'/kaggle/input/sample-pdf/D8communications.pdf'\n",
    "# doc = fitz.open(outpath)  # any supported document type\n",
    "# page_no=3\n",
    "# page = doc[page_no-1]\n",
    "\n",
    "# x1,y1,x2,y2=(72.1149,661.2966,131.95729,675.1716)\n",
    "\n",
    "# rect = [float(x1)-2, 792 - float(y2)-2, float(x2)+2, 792 - float(y1)+2]\n",
    "# print(rect)\n",
    "# labelled_text = page.get_textbox(rect)\n",
    "# string = re.sub('[^0-9a-zA-Z@?|\\/<>.,()&^%$#!]+', ' ', labelled_text)\n",
    "# print('string : ', string)\n",
    "\n",
    "# fulltext = page.get_text()\n",
    "# doc = nlp(fulltext)\n",
    "\n",
    "# sentences = []\n",
    "# for sent in doc.sents:\n",
    "#             if string.strip() in sent.text:\n",
    "#                 text = re.sub('[^0-9a-zA-Z@?|\\/<>.,()&^%$#!]+', ' ', sent.text)\n",
    "\n",
    "#         res = re.search(string.strip(), text)\n",
    "\n",
    "#         entities = []\n",
    "#         entities.append((res.start(),res.end(),label))\n",
    "\n",
    "#         train_data.append((text,{'entities':entities}))\n",
    "\n"
   ]
  },
  {
   "cell_type": "code",
   "execution_count": 14,
   "id": "6a8f7d3d",
   "metadata": {
    "execution": {
     "iopub.execute_input": "2022-04-23T18:16:19.722412Z",
     "iopub.status.busy": "2022-04-23T18:16:19.721474Z",
     "iopub.status.idle": "2022-04-23T18:16:19.724636Z",
     "shell.execute_reply": "2022-04-23T18:16:19.725114Z",
     "shell.execute_reply.started": "2022-04-11T16:35:41.679947Z"
    },
    "papermill": {
     "duration": 0.052197,
     "end_time": "2022-04-23T18:16:19.725267",
     "exception": false,
     "start_time": "2022-04-23T18:16:19.673070",
     "status": "completed"
    },
    "tags": []
   },
   "outputs": [],
   "source": [
    "#doc"
   ]
  },
  {
   "cell_type": "code",
   "execution_count": 15,
   "id": "e88a5559",
   "metadata": {
    "execution": {
     "iopub.execute_input": "2022-04-23T18:16:19.820087Z",
     "iopub.status.busy": "2022-04-23T18:16:19.819160Z",
     "iopub.status.idle": "2022-04-23T18:16:19.822158Z",
     "shell.execute_reply": "2022-04-23T18:16:19.822652Z",
     "shell.execute_reply.started": "2022-04-11T16:35:56.010353Z"
    },
    "papermill": {
     "duration": 0.051826,
     "end_time": "2022-04-23T18:16:19.822810",
     "exception": false,
     "start_time": "2022-04-23T18:16:19.770984",
     "status": "completed"
    },
    "tags": []
   },
   "outputs": [],
   "source": [
    "# sentences = []\n",
    "# for sent in doc.sents:\n",
    "#     if string.strip() in sent.text:\n",
    "#         text = re.sub('[^0-9a-zA-Z@?|\\/<>.,()&^%$#!]+', ' ', sent.text)"
   ]
  },
  {
   "cell_type": "code",
   "execution_count": 16,
   "id": "0036c41b",
   "metadata": {
    "execution": {
     "iopub.execute_input": "2022-04-23T18:16:19.920546Z",
     "iopub.status.busy": "2022-04-23T18:16:19.919594Z",
     "iopub.status.idle": "2022-04-23T18:16:19.922532Z",
     "shell.execute_reply": "2022-04-23T18:16:19.922060Z",
     "shell.execute_reply.started": "2022-04-11T16:39:04.736143Z"
    },
    "papermill": {
     "duration": 0.05258,
     "end_time": "2022-04-23T18:16:19.922665",
     "exception": false,
     "start_time": "2022-04-23T18:16:19.870085",
     "status": "completed"
    },
    "tags": []
   },
   "outputs": [],
   "source": [
    "# k=nlp(\"he             kenny\")\n",
    "# for sent in k.sents:\n",
    "#     print(sent)"
   ]
  },
  {
   "cell_type": "code",
   "execution_count": 17,
   "id": "91059605",
   "metadata": {
    "execution": {
     "iopub.execute_input": "2022-04-23T18:16:20.017666Z",
     "iopub.status.busy": "2022-04-23T18:16:20.016691Z",
     "iopub.status.idle": "2022-04-23T18:16:20.018475Z",
     "shell.execute_reply": "2022-04-23T18:16:20.018941Z",
     "shell.execute_reply.started": "2022-04-11T15:09:24.391421Z"
    },
    "papermill": {
     "duration": 0.051098,
     "end_time": "2022-04-23T18:16:20.019101",
     "exception": false,
     "start_time": "2022-04-23T18:16:19.968003",
     "status": "completed"
    },
    "tags": []
   },
   "outputs": [],
   "source": [
    "# text"
   ]
  },
  {
   "cell_type": "code",
   "execution_count": 18,
   "id": "f2524da5",
   "metadata": {
    "execution": {
     "iopub.execute_input": "2022-04-23T18:16:20.113874Z",
     "iopub.status.busy": "2022-04-23T18:16:20.113034Z",
     "iopub.status.idle": "2022-04-23T18:16:20.115715Z",
     "shell.execute_reply": "2022-04-23T18:16:20.116134Z",
     "shell.execute_reply.started": "2022-04-11T15:09:31.9599Z"
    },
    "papermill": {
     "duration": 0.050872,
     "end_time": "2022-04-23T18:16:20.116285",
     "exception": false,
     "start_time": "2022-04-23T18:16:20.065413",
     "status": "completed"
    },
    "tags": []
   },
   "outputs": [],
   "source": [
    "# res = re.search(string.strip(), text)\n",
    "# res"
   ]
  },
  {
   "cell_type": "code",
   "execution_count": 19,
   "id": "576eff64",
   "metadata": {
    "execution": {
     "iopub.execute_input": "2022-04-23T18:16:20.211403Z",
     "iopub.status.busy": "2022-04-23T18:16:20.210579Z",
     "iopub.status.idle": "2022-04-23T18:16:20.213349Z",
     "shell.execute_reply": "2022-04-23T18:16:20.213745Z",
     "shell.execute_reply.started": "2022-04-11T15:12:41.311242Z"
    },
    "papermill": {
     "duration": 0.05098,
     "end_time": "2022-04-23T18:16:20.213905",
     "exception": false,
     "start_time": "2022-04-23T18:16:20.162925",
     "status": "completed"
    },
    "tags": []
   },
   "outputs": [],
   "source": [
    "# entities = []\n",
    "# entities.append((res.start(),res.end(),'p'))"
   ]
  },
  {
   "cell_type": "code",
   "execution_count": 20,
   "id": "fd5cc25a",
   "metadata": {
    "execution": {
     "iopub.execute_input": "2022-04-23T18:16:20.308640Z",
     "iopub.status.busy": "2022-04-23T18:16:20.307732Z",
     "iopub.status.idle": "2022-04-23T18:16:20.310694Z",
     "shell.execute_reply": "2022-04-23T18:16:20.311148Z",
     "shell.execute_reply.started": "2022-04-11T15:12:52.736619Z"
    },
    "papermill": {
     "duration": 0.05143,
     "end_time": "2022-04-23T18:16:20.311322",
     "exception": false,
     "start_time": "2022-04-23T18:16:20.259892",
     "status": "completed"
    },
    "tags": []
   },
   "outputs": [],
   "source": [
    "# entities"
   ]
  },
  {
   "cell_type": "code",
   "execution_count": 21,
   "id": "040761ac",
   "metadata": {
    "execution": {
     "iopub.execute_input": "2022-04-23T18:16:20.404849Z",
     "iopub.status.busy": "2022-04-23T18:16:20.403956Z",
     "iopub.status.idle": "2022-04-23T18:16:20.406923Z",
     "shell.execute_reply": "2022-04-23T18:16:20.407389Z",
     "shell.execute_reply.started": "2022-04-11T15:06:11.546217Z"
    },
    "papermill": {
     "duration": 0.051164,
     "end_time": "2022-04-23T18:16:20.407548",
     "exception": false,
     "start_time": "2022-04-23T18:16:20.356384",
     "status": "completed"
    },
    "tags": []
   },
   "outputs": [],
   "source": [
    "# text"
   ]
  },
  {
   "cell_type": "code",
   "execution_count": null,
   "id": "f908df11",
   "metadata": {
    "execution": {
     "iopub.execute_input": "2022-04-11T15:02:33.300092Z",
     "iopub.status.busy": "2022-04-11T15:02:33.299778Z",
     "iopub.status.idle": "2022-04-11T15:02:33.30711Z",
     "shell.execute_reply": "2022-04-11T15:02:33.306345Z",
     "shell.execute_reply.started": "2022-04-11T15:02:33.300061Z"
    },
    "papermill": {
     "duration": 0.044681,
     "end_time": "2022-04-23T18:16:20.497811",
     "exception": false,
     "start_time": "2022-04-23T18:16:20.453130",
     "status": "completed"
    },
    "tags": []
   },
   "outputs": [],
   "source": []
  },
  {
   "cell_type": "code",
   "execution_count": 22,
   "id": "e2cd49a7",
   "metadata": {
    "execution": {
     "iopub.execute_input": "2022-04-23T18:16:20.592042Z",
     "iopub.status.busy": "2022-04-23T18:16:20.591230Z",
     "iopub.status.idle": "2022-04-23T18:16:20.593911Z",
     "shell.execute_reply": "2022-04-23T18:16:20.594322Z",
     "shell.execute_reply.started": "2022-04-11T16:21:02.863037Z"
    },
    "papermill": {
     "duration": 0.051007,
     "end_time": "2022-04-23T18:16:20.594481",
     "exception": false,
     "start_time": "2022-04-23T18:16:20.543474",
     "status": "completed"
    },
    "tags": []
   },
   "outputs": [],
   "source": [
    "# import spacy\n",
    "# nlp = spacy.load('en_core_web_sm')"
   ]
  },
  {
   "cell_type": "code",
   "execution_count": 23,
   "id": "ec238324",
   "metadata": {
    "execution": {
     "iopub.execute_input": "2022-04-23T18:16:20.688939Z",
     "iopub.status.busy": "2022-04-23T18:16:20.688349Z",
     "iopub.status.idle": "2022-04-23T18:16:20.691090Z",
     "shell.execute_reply": "2022-04-23T18:16:20.690652Z",
     "shell.execute_reply.started": "2022-04-09T12:19:47.776612Z"
    },
    "papermill": {
     "duration": 0.051478,
     "end_time": "2022-04-23T18:16:20.691218",
     "exception": false,
     "start_time": "2022-04-23T18:16:20.639740",
     "status": "completed"
    },
    "tags": []
   },
   "outputs": [],
   "source": [
    "# !pip install PyPDF2\n",
    "# import PyPDF2\n",
    "# fhandle = open(r'/kaggle/input/sample-pdf/D8communications.pdf', 'rb')\n",
    "# pdfReader = PyPDF2.PdfFileReader(fhandle)\n",
    "# pagehandle = pdfReader.getPage(4)\n",
    "# print(pagehandle.extractText())"
   ]
  },
  {
   "cell_type": "code",
   "execution_count": 24,
   "id": "a7ab03b0",
   "metadata": {
    "execution": {
     "iopub.execute_input": "2022-04-23T18:16:20.785027Z",
     "iopub.status.busy": "2022-04-23T18:16:20.784424Z",
     "iopub.status.idle": "2022-04-23T18:16:20.785797Z",
     "shell.execute_reply": "2022-04-23T18:16:20.786243Z",
     "shell.execute_reply.started": "2022-04-09T12:25:37.701467Z"
    },
    "papermill": {
     "duration": 0.050219,
     "end_time": "2022-04-23T18:16:20.786413",
     "exception": false,
     "start_time": "2022-04-23T18:16:20.736194",
     "status": "completed"
    },
    "tags": []
   },
   "outputs": [],
   "source": [
    "# !pip install pdfplumber\n",
    "# import pdfplumber\n",
    "# with pdfplumber.open(r'/kaggle/input/sample-pdf/D8communications.pdf') as pdf:\n",
    "#     first_page = pdf.pages[3]\n",
    "#     print(first_page.extract_text())"
   ]
  },
  {
   "cell_type": "code",
   "execution_count": 25,
   "id": "0b245b96",
   "metadata": {
    "execution": {
     "iopub.execute_input": "2022-04-23T18:16:20.882068Z",
     "iopub.status.busy": "2022-04-23T18:16:20.881457Z",
     "iopub.status.idle": "2022-04-23T18:16:20.884179Z",
     "shell.execute_reply": "2022-04-23T18:16:20.884694Z",
     "shell.execute_reply.started": "2022-04-09T12:25:49.584635Z"
    },
    "papermill": {
     "duration": 0.051513,
     "end_time": "2022-04-23T18:16:20.884859",
     "exception": false,
     "start_time": "2022-04-23T18:16:20.833346",
     "status": "completed"
    },
    "tags": []
   },
   "outputs": [],
   "source": [
    "# !pip install pytesseract"
   ]
  },
  {
   "cell_type": "code",
   "execution_count": 26,
   "id": "0c4265cd",
   "metadata": {
    "execution": {
     "iopub.execute_input": "2022-04-23T18:16:20.980017Z",
     "iopub.status.busy": "2022-04-23T18:16:20.979432Z",
     "iopub.status.idle": "2022-04-23T18:16:20.981885Z",
     "shell.execute_reply": "2022-04-23T18:16:20.982405Z",
     "shell.execute_reply.started": "2022-04-09T14:49:10.656812Z"
    },
    "papermill": {
     "duration": 0.050659,
     "end_time": "2022-04-23T18:16:20.982575",
     "exception": false,
     "start_time": "2022-04-23T18:16:20.931916",
     "status": "completed"
    },
    "tags": []
   },
   "outputs": [],
   "source": [
    "# #!pip install pdf2image\n",
    "# !pip install poppler"
   ]
  },
  {
   "cell_type": "code",
   "execution_count": 27,
   "id": "28381840",
   "metadata": {
    "execution": {
     "iopub.execute_input": "2022-04-23T18:16:21.078955Z",
     "iopub.status.busy": "2022-04-23T18:16:21.078343Z",
     "iopub.status.idle": "2022-04-23T18:16:21.080860Z",
     "shell.execute_reply": "2022-04-23T18:16:21.081375Z",
     "shell.execute_reply.started": "2022-04-09T14:57:24.756677Z"
    },
    "papermill": {
     "duration": 0.052422,
     "end_time": "2022-04-23T18:16:21.081552",
     "exception": false,
     "start_time": "2022-04-23T18:16:21.029130",
     "status": "completed"
    },
    "tags": []
   },
   "outputs": [],
   "source": [
    "# pdf2image.convert_from_path('/kaggle/input/sample-pdf/D8communications.pdf')"
   ]
  },
  {
   "cell_type": "code",
   "execution_count": 28,
   "id": "53271981",
   "metadata": {
    "execution": {
     "iopub.execute_input": "2022-04-23T18:16:21.182005Z",
     "iopub.status.busy": "2022-04-23T18:16:21.180075Z",
     "iopub.status.idle": "2022-04-23T18:16:21.183634Z",
     "shell.execute_reply": "2022-04-23T18:16:21.184048Z",
     "shell.execute_reply.started": "2022-04-09T14:57:17.576149Z"
    },
    "papermill": {
     "duration": 0.052419,
     "end_time": "2022-04-23T18:16:21.184195",
     "exception": false,
     "start_time": "2022-04-23T18:16:21.131776",
     "status": "completed"
    },
    "tags": []
   },
   "outputs": [],
   "source": [
    "# import pdf2image\n",
    "# try:\n",
    "#     from PIL import Image\n",
    "# except ImportError:\n",
    "#     import Image\n",
    "# import pytesseract\n",
    "\n",
    "\n",
    "# def pdf_to_img(pdf_file):\n",
    "#     return pdf2image.convert_from_path(pdf_file)\n",
    "\n",
    "\n",
    "# def ocr_core(file):\n",
    "#     text = pytesseract.image_to_string(file)\n",
    "#     return text\n",
    "\n",
    "\n",
    "# def print_pages(pdf_file):\n",
    "#     images = pdf_to_img(pdf_file)\n",
    "#     for pg, img in enumerate(images):\n",
    "#         print(ocr_core(img))\n",
    "\n",
    "\n",
    "# print_pages('/kaggle/input/sample-pdf/D8communications.pdf')\n"
   ]
  },
  {
   "cell_type": "code",
   "execution_count": 29,
   "id": "aed14552",
   "metadata": {
    "execution": {
     "iopub.execute_input": "2022-04-23T18:16:21.279482Z",
     "iopub.status.busy": "2022-04-23T18:16:21.277652Z",
     "iopub.status.idle": "2022-04-23T18:16:21.281059Z",
     "shell.execute_reply": "2022-04-23T18:16:21.281626Z"
    },
    "papermill": {
     "duration": 0.052224,
     "end_time": "2022-04-23T18:16:21.281806",
     "exception": false,
     "start_time": "2022-04-23T18:16:21.229582",
     "status": "completed"
    },
    "tags": []
   },
   "outputs": [],
   "source": [
    "# import requests\n",
    "# import fitz\n",
    "# import io\n",
    "\n",
    "# #URL = 'https://buildmedia.readthedocs.org/media/pdf/pdfminer-docs/latest/pdfminer-docs.pdf'\n",
    "# URL = 'https://redactable-devox-stage.s3.us-east-2.amazonaws.com/tenants/41d9e109-693b-444c-aa18-e5891bc6550b/original/1a7c0e5d-3237-4ca9-9e3d-89e707245ac6/D8communications.pdf'\n",
    "\n",
    "\n",
    "# res = requests.get(URL)\n",
    "# filestream = io.BytesIO(res.content)\n",
    "# #res.content\n",
    "# filestream\n",
    "# doc = fitz.Document(stream=filestream)\n",
    "# page1 = doc.loadPage(3)\n",
    "# page1text = page1.getText(\"text\").encode(\"utf-8\").decode(\"utf-8\")\n",
    "# print(page1text)"
   ]
  },
  {
   "cell_type": "code",
   "execution_count": 30,
   "id": "847c96f1",
   "metadata": {
    "execution": {
     "iopub.execute_input": "2022-04-23T18:16:21.378502Z",
     "iopub.status.busy": "2022-04-23T18:16:21.377554Z",
     "iopub.status.idle": "2022-04-23T18:16:21.381334Z",
     "shell.execute_reply": "2022-04-23T18:16:21.381871Z",
     "shell.execute_reply.started": "2022-04-09T07:04:56.590103Z"
    },
    "papermill": {
     "duration": 0.054804,
     "end_time": "2022-04-23T18:16:21.382028",
     "exception": false,
     "start_time": "2022-04-23T18:16:21.327224",
     "status": "completed"
    },
    "tags": []
   },
   "outputs": [],
   "source": [
    "# import requests\n",
    "# import fitz\n",
    "\n",
    "# #URL = 'https://buildmedia.readthedocs.org/media/pdf/pdfminer-docs/latest/pdfminer-docs.pdf'\n",
    "# URL = 'https://redactable-devox-stage.s3.us-east-2.amazonaws.com/tenants/41d9e109-693b-444c-aa18-e5891bc6550b/original/1a7c0e5d-3237-4ca9-9e3d-89e707245ac6/D8communications.pdf'\n",
    "\n",
    "\n",
    "# res = requests.get(URL)\n",
    "# doc = fitz.open(stream=res.content,filetype=\"pdf\")\n",
    "# page1 = doc.loadPage(3)\n",
    "# page1text = page1.getText(\"text\")\n",
    "# #rect = (72.1149,661.2966,131.95729,675.1716)\n",
    "# rect=(72.10812377929688, 116.13427734375, 133.97142028808594, 146.4227294921875)\n",
    "# labelled_text = page1.get_textbox(rect)\n",
    "# print(labelled_text.strip())\n",
    "\n",
    "# fulltext = page1.get_text()\n",
    "# print(fulltext)\n",
    "# doc = nlp(fulltext)\n",
    "# sentences = []\n",
    "# for sent in doc.sents:\n",
    "#     if labelled_text in sent.text:\n",
    "#         text = sent.text\n",
    "#         print(text)\n",
    "# #print(page1text)"
   ]
  },
  {
   "cell_type": "code",
   "execution_count": 31,
   "id": "a481bdde",
   "metadata": {
    "execution": {
     "iopub.execute_input": "2022-04-23T18:16:21.476753Z",
     "iopub.status.busy": "2022-04-23T18:16:21.475897Z",
     "iopub.status.idle": "2022-04-23T18:16:21.478664Z",
     "shell.execute_reply": "2022-04-23T18:16:21.479111Z",
     "shell.execute_reply.started": "2022-04-08T16:42:57.6659Z"
    },
    "papermill": {
     "duration": 0.051508,
     "end_time": "2022-04-23T18:16:21.479262",
     "exception": false,
     "start_time": "2022-04-23T18:16:21.427754",
     "status": "completed"
    },
    "tags": []
   },
   "outputs": [],
   "source": [
    "#res.content"
   ]
  },
  {
   "cell_type": "code",
   "execution_count": 32,
   "id": "e6451edc",
   "metadata": {
    "execution": {
     "iopub.execute_input": "2022-04-23T18:16:21.574616Z",
     "iopub.status.busy": "2022-04-23T18:16:21.573697Z",
     "iopub.status.idle": "2022-04-23T18:16:21.577172Z",
     "shell.execute_reply": "2022-04-23T18:16:21.577654Z",
     "shell.execute_reply.started": "2022-04-08T16:48:05.672392Z"
    },
    "papermill": {
     "duration": 0.05299,
     "end_time": "2022-04-23T18:16:21.577816",
     "exception": false,
     "start_time": "2022-04-23T18:16:21.524826",
     "status": "completed"
    },
    "tags": []
   },
   "outputs": [],
   "source": [
    "# import fitz\n",
    "# # mem_area=\n",
    "# # doc = fitz.open(stream=mem_area, filetype=\"pdf\")\n",
    "\n",
    "# import requests\n",
    "\n",
    "# URL = 'https://redactable-devox-stage.s3.us-east-2.amazonaws.com/tenants/41d9e109-693b-444c-aa18-e5891bc6550b/original/1a7c0e5d-3237-4ca9-9e3d-89e707245ac6/D8communications.pdf'\n",
    "\n",
    "# #res = requests.get(URL)\n",
    "# doc=fitz.open(\"/kaggle/input/sample-pdf/D8communications.pdf\")\n",
    "# #doc = fitz.open(stream=res.content,filetype=\"pdf\")\n",
    "# page1 = doc.loadPage(4)\n",
    "# # page1text = page1.getText(\"text\")\n",
    "# # print(page1text)\n",
    "# blocks = page1.getText(\"blocks\")\n",
    "# blocks.sort(key=lambda block: block[1])  # sort vertically ascending\n",
    "\n",
    "# for b in blocks:\n",
    "#     print(b[4])\n"
   ]
  },
  {
   "cell_type": "code",
   "execution_count": 33,
   "id": "5fd80b66",
   "metadata": {
    "execution": {
     "iopub.execute_input": "2022-04-23T18:16:21.673005Z",
     "iopub.status.busy": "2022-04-23T18:16:21.672094Z",
     "iopub.status.idle": "2022-04-23T18:16:21.674948Z",
     "shell.execute_reply": "2022-04-23T18:16:21.675394Z",
     "shell.execute_reply.started": "2022-04-08T16:48:13.086323Z"
    },
    "papermill": {
     "duration": 0.051593,
     "end_time": "2022-04-23T18:16:21.675549",
     "exception": false,
     "start_time": "2022-04-23T18:16:21.623956",
     "status": "completed"
    },
    "tags": []
   },
   "outputs": [],
   "source": [
    "# # page = doc[1]\n",
    "# words = page.get_text(\"words\")\n",
    "# #print(words)\n",
    "# rect = (72.1149,661.2966,131.95729,675.1716)\n",
    "\n",
    "# labelled_text = page.get_textbox(rect)\n",
    "# # labelled_text"
   ]
  },
  {
   "cell_type": "markdown",
   "id": "2d3cbf1c",
   "metadata": {
    "papermill": {
     "duration": 0.045068,
     "end_time": "2022-04-23T18:16:21.765880",
     "exception": false,
     "start_time": "2022-04-23T18:16:21.720812",
     "status": "completed"
    },
    "tags": []
   },
   "source": [
    "pip install PyPDF2"
   ]
  },
  {
   "cell_type": "code",
   "execution_count": null,
   "id": "fe3e1a14",
   "metadata": {
    "papermill": {
     "duration": 0.044866,
     "end_time": "2022-04-23T18:16:21.855898",
     "exception": false,
     "start_time": "2022-04-23T18:16:21.811032",
     "status": "completed"
    },
    "tags": []
   },
   "outputs": [],
   "source": []
  },
  {
   "cell_type": "code",
   "execution_count": 34,
   "id": "90b5f786",
   "metadata": {
    "execution": {
     "iopub.execute_input": "2022-04-23T18:16:21.950036Z",
     "iopub.status.busy": "2022-04-23T18:16:21.949126Z",
     "iopub.status.idle": "2022-04-23T18:16:21.952012Z",
     "shell.execute_reply": "2022-04-23T18:16:21.952408Z",
     "shell.execute_reply.started": "2022-03-18T16:48:58.370268Z"
    },
    "papermill": {
     "duration": 0.051337,
     "end_time": "2022-04-23T18:16:21.952563",
     "exception": false,
     "start_time": "2022-04-23T18:16:21.901226",
     "status": "completed"
    },
    "tags": []
   },
   "outputs": [],
   "source": [
    "# import pandas as pd\n",
    "# h={'step': 0, 'type': 'string', 'amount': 0.0, 'nameOrig': 'C1231006815', 'oldbalanceOrig': 0.0, 'newbalanceOrig': 0.0, 'nameDest': 'M1979787155', 'oldbalanceDest': 0.0, 'newbalanceDest': 0.0}\n",
    "# df=pd.DataFrame([h])"
   ]
  },
  {
   "cell_type": "code",
   "execution_count": 35,
   "id": "1445b153",
   "metadata": {
    "execution": {
     "iopub.execute_input": "2022-04-23T18:16:22.048807Z",
     "iopub.status.busy": "2022-04-23T18:16:22.047809Z",
     "iopub.status.idle": "2022-04-23T18:16:22.050629Z",
     "shell.execute_reply": "2022-04-23T18:16:22.051059Z",
     "shell.execute_reply.started": "2022-04-09T17:21:26.021615Z"
    },
    "papermill": {
     "duration": 0.051975,
     "end_time": "2022-04-23T18:16:22.051213",
     "exception": false,
     "start_time": "2022-04-23T18:16:21.999238",
     "status": "completed"
    },
    "tags": []
   },
   "outputs": [],
   "source": [
    "#df"
   ]
  },
  {
   "cell_type": "code",
   "execution_count": null,
   "id": "ea94b0fb",
   "metadata": {
    "papermill": {
     "duration": 0.045882,
     "end_time": "2022-04-23T18:16:22.142862",
     "exception": false,
     "start_time": "2022-04-23T18:16:22.096980",
     "status": "completed"
    },
    "tags": []
   },
   "outputs": [],
   "source": []
  }
 ],
 "metadata": {
  "kernelspec": {
   "display_name": "Python 3",
   "language": "python",
   "name": "python3"
  },
  "language_info": {
   "codemirror_mode": {
    "name": "ipython",
    "version": 3
   },
   "file_extension": ".py",
   "mimetype": "text/x-python",
   "name": "python",
   "nbconvert_exporter": "python",
   "pygments_lexer": "ipython3",
   "version": "3.7.12"
  },
  "papermill": {
   "default_parameters": {},
   "duration": 16.863867,
   "end_time": "2022-04-23T18:16:22.796362",
   "environment_variables": {},
   "exception": null,
   "input_path": "__notebook__.ipynb",
   "output_path": "__notebook__.ipynb",
   "parameters": {},
   "start_time": "2022-04-23T18:16:05.932495",
   "version": "2.3.3"
  }
 },
 "nbformat": 4,
 "nbformat_minor": 5
}
