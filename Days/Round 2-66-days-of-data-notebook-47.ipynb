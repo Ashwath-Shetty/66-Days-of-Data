{
 "cells": [
  {
   "cell_type": "code",
   "execution_count": 1,
   "id": "746e9ea3",
   "metadata": {
    "_cell_guid": "b1076dfc-b9ad-4769-8c92-a6c4dae69d19",
    "_uuid": "8f2839f25d086af736a60e9eeb907d3b93b6e0e5",
    "execution": {
     "iopub.execute_input": "2022-04-27T17:25:32.124987Z",
     "iopub.status.busy": "2022-04-27T17:25:32.124275Z",
     "iopub.status.idle": "2022-04-27T17:25:32.136037Z",
     "shell.execute_reply": "2022-04-27T17:25:32.135115Z",
     "shell.execute_reply.started": "2022-04-12T14:12:25.248687Z"
    },
    "papermill": {
     "duration": 0.095257,
     "end_time": "2022-04-27T17:25:32.136280",
     "exception": false,
     "start_time": "2022-04-27T17:25:32.041023",
     "status": "completed"
    },
    "tags": []
   },
   "outputs": [
    {
     "name": "stdout",
     "output_type": "stream",
     "text": [
      "/kaggle/input/sample-pdf/D8communications.pdf\n"
     ]
    }
   ],
   "source": [
    "# This Python 3 environment comes with many helpful analytics libraries installed\n",
    "# It is defined by the kaggle/python Docker image: https://github.com/kaggle/docker-python\n",
    "# For example, here's several helpful packages to load\n",
    "\n",
    "import numpy as np # linear algebra\n",
    "import pandas as pd # data processing, CSV file I/O (e.g. pd.read_csv)\n",
    "\n",
    "# Input data files are available in the read-only \"../input/\" directory\n",
    "# For example, running this (by clicking run or pressing Shift+Enter) will list all files under the input directory\n",
    "\n",
    "import os\n",
    "for dirname, _, filenames in os.walk('/kaggle/input'):\n",
    "    for filename in filenames:\n",
    "        print(os.path.join(dirname, filename))\n",
    "\n",
    "# You can write up to 20GB to the current directory (/kaggle/working/) that gets preserved as output when you create a version using \"Save & Run All\" \n",
    "# You can also write temporary files to /kaggle/temp/, but they won't be saved outside of the current session"
   ]
  },
  {
   "cell_type": "markdown",
   "id": "eef81de5",
   "metadata": {
    "papermill": {
     "duration": 0.070327,
     "end_time": "2022-04-27T17:25:32.278709",
     "exception": false,
     "start_time": "2022-04-27T17:25:32.208382",
     "status": "completed"
    },
    "tags": []
   },
   "source": [
    "# **Start Date: 12/3/2022**"
   ]
  },
  {
   "cell_type": "markdown",
   "id": "76d8e037",
   "metadata": {
    "papermill": {
     "duration": 0.070642,
     "end_time": "2022-04-27T17:25:32.415989",
     "exception": false,
     "start_time": "2022-04-27T17:25:32.345347",
     "status": "completed"
    },
    "tags": []
   },
   "source": [
    "# **Day 1:** \n",
    "<br>dataquest -> stats -> probability-> estimating probability\n",
    "1. out come is nothing but o/p of an experiment\n",
    "ex: whatever u get after rolling a dice -> it can be any number\n",
    "2. event can have more than one outcome\n",
    "- e.x: The event that we'll get an odd number when we roll a six-sided die — this event includes the outcomes 1, 3, and 5.\n",
    "- an event can be 0 as well.\n",
    "- We always assign probabilities to events, not outcomes, even if the event includes only one outcome.\n",
    "- P(E) =1/total number of possible outcomes, P(E) probability of an event happening.\n",
    "- but above formula doesn't work always, especially when there are more than one outcome\n",
    "    - P(E)=number of successful outcomes/total number of possible outcomes\n",
    "- incase of a biased situation \n",
    "  - let's say a die has 6 - 3 times which is 1,6,3,5,6,6\n",
    "    we will consider 6 as 3 times not 1.\n",
    "    possible outcome-> 1,3,5,6,6,6\n",
    "    prob(6)=3/6\n",
    "    prob(3)=1/6\n",
    "    prob(2)=0/6\n",
    "    If we didn't treat each 6 differently and said it doesn't matter which side a 6 is on, \n",
    "    <br>we'd be forced to conclude the only possible outcomes are 1, 3, 5 and 6. We can definitely         <br>frame the problem like that, but the formula above won't work anymore — we see below P(6) <br>becomes the same as P(3), but, intuitively, P(6) should be higher than P(3) since the die has 6 on     <br>three of its sides:\n"
   ]
  },
  {
   "cell_type": "markdown",
   "id": "c7695653",
   "metadata": {
    "papermill": {
     "duration": 0.071159,
     "end_time": "2022-04-27T17:25:32.559158",
     "exception": false,
     "start_time": "2022-04-27T17:25:32.487999",
     "status": "completed"
    },
    "tags": []
   },
   "source": [
    "Estimating Probabilities Conclusion\n",
    "- emperical/ experimental probability\n",
    "  - probability achieved by experimenting / by doing the same event multiple times.\n",
    "  - Generally, for any event E (like a coin landing heads up), we can find its empirical probability   \n",
    "     by using the following formula: \n",
    "     •P (E) =number of times event E happened/ number of times we repeated the experiment   \n",
    " - Generally, the empirical probability of an event (a coin landing heads up, getting a 5 when weroll a die) approaches the true probability value as the number of trials of the randomexperiment (a coin toss, the rolling of a die) increases without bound.\n",
    "- When we calculate the probability of an event under the assumption that the outcomes have equal chances of occurring, we say that we're calculating the **theoretical probability** of an event.\n",
    "   - P(E)=number of successful outcomes/total number of possible outcomes\n",
    "\n"
   ]
  },
  {
   "cell_type": "markdown",
   "id": "59dcf572",
   "metadata": {
    "papermill": {
     "duration": 0.069028,
     "end_time": "2022-04-27T17:25:32.701639",
     "exception": false,
     "start_time": "2022-04-27T17:25:32.632611",
     "status": "completed"
    },
    "tags": []
   },
   "source": [
    "# **Day 2**\n",
    "<br>dataquest-> stats -> intro to probability -> probability rules\n",
    "<br>In probability theory, the set of all possible outcomes is called a sample space. A sample space is often denoted by the capital Greek letter Ω (read \"omega\"). This is how we represent the sample space of a die roll:\n",
    "\n",
    "Ω = {1,2,3,4,5,6}\n",
    "-    The probability of any event ranges between 0 and 1: 0≤ P(Event) ≤1\n",
    "- To calculate P(A or B), we can also use the formula below, which is sometimes called the addition rule: P(A or B) = P(A) + P(B)\n",
    "  - Sample space ={ 1,2,3,4,5,6} \n",
    "  - P(2 or 5) = 2/6\n",
    "\n",
    "- P(C or D) = P(C) + P(D) - P(C and D)\n",
    "   - e.x : Sample_space ={2,4,6} + { 4,5,6} - {4/6}\n",
    "      P( even number or number greater than 3) = ( (3/6) + (3/6) )- (2/6) = 4/6\n",
    "- Events that don't intersect are called mutually exclusive.\n",
    "  - e.x: Getting a 5 (event one) and getting a 3 (event two) when we roll a regular six-sided die — it's  impossible to get both a 5 and 3.\n",
    "- Events that intersect are called mutually non-exclusive.\n",
    "  - Getting a number greater than 2 (event one) and getting an odd number (event two) when we roll a regular six-sided die — we could get a 5, which is both greater than 2 (event one) and odd (event two).\n",
    "- unioun -> A or B, intersection -> A and B"
   ]
  },
  {
   "cell_type": "markdown",
   "id": "336810b0",
   "metadata": {
    "papermill": {
     "duration": 0.070509,
     "end_time": "2022-04-27T17:25:32.839125",
     "exception": false,
     "start_time": "2022-04-27T17:25:32.768616",
     "status": "completed"
    },
    "tags": []
   },
   "source": [
    "# Day 3 and 4\n",
    "dataquest -> stats -> probabilities -> solving complex probabilities\n",
    "- This is the same result we got from our previous approach. In more general terms, the multiplication rule says that for two events E1 and E2, the probability that both event E1 and E2 happen can be found by multiplying the probability of E1 by the probability of E2:\n",
    "    - P(E1 ∩ E2) = P(E1) × P(E2)\n",
    "    - Events that don't influence each other's probability are called independent events. If H1 happens, P(H2) stays the same, so H1 and H2 are independent. The multiplication rule we learned only works for independent events.\n",
    "    "
   ]
  },
  {
   "cell_type": "markdown",
   "id": "9944c645",
   "metadata": {
    "papermill": {
     "duration": 0.068438,
     "end_time": "2022-04-27T17:25:32.981395",
     "exception": false,
     "start_time": "2022-04-27T17:25:32.912957",
     "status": "completed"
    },
    "tags": []
   },
   "source": [
    "# Day 5\n",
    "- When we replace the cards after drawing, we say that we're sampling with replacement. When we don't put the cards back, we're sampling without replacement. \n"
   ]
  },
  {
   "cell_type": "markdown",
   "id": "a6560e1e",
   "metadata": {
    "papermill": {
     "duration": 0.073671,
     "end_time": "2022-04-27T17:25:33.123326",
     "exception": false,
     "start_time": "2022-04-27T17:25:33.049655",
     "status": "completed"
    },
    "tags": []
   },
   "source": [
    "# Day6\n",
    "dataquest-> prob and stats -> probability fundamentals -> permutation and combinations\n",
    "Generally, if we have an experiment E1 (like flipping a coin) with a outcomes, followed by an experiment E2 (like rolling a die) with b outcomes, then the total number of outcomes for the composite experiment E1E2 can be found by multiplying a with b:\n",
    "\n",
    "Number of outcomes = a * b"
   ]
  },
  {
   "cell_type": "markdown",
   "id": "19002f10",
   "metadata": {
    "papermill": {
     "duration": 0.072022,
     "end_time": "2022-04-27T17:25:33.263818",
     "exception": false,
     "start_time": "2022-04-27T17:25:33.191796",
     "status": "completed"
    },
    "tags": []
   },
   "source": [
    "# Day 7\n",
    "dataquest-> prob and stats -> probability fundamentals -> permutation and combinations <br>\n",
    "More generally, if we have an experiment E1 with a outcomes, followed by an experiment E2 with b outcomes, followed by an experiment En with z outcomes, the total number of outcomes for the composite experiment E1E2 ... En can be found by multiplying their individual outcomes:\n",
    "\n",
    "Number of outcomes= a * b * … * z"
   ]
  },
  {
   "cell_type": "markdown",
   "id": "4eccf87b",
   "metadata": {
    "papermill": {
     "duration": 0.0652,
     "end_time": "2022-04-27T17:25:33.397371",
     "exception": false,
     "start_time": "2022-04-27T17:25:33.332171",
     "status": "completed"
    },
    "tags": []
   },
   "source": [
    "# Day 8\n",
    "dataquest-> prob and stats -> probability fundamentals -> permutation and combinations <br>\n",
    "permutations= n*(n-1)*(n-2)*....*2*1\n"
   ]
  },
  {
   "cell_type": "markdown",
   "id": "c19cb51f",
   "metadata": {
    "papermill": {
     "duration": 0.068336,
     "end_time": "2022-04-27T17:25:33.531397",
     "exception": false,
     "start_time": "2022-04-27T17:25:33.463061",
     "status": "completed"
    },
    "tags": []
   },
   "source": [
    "# Day 9\n",
    "dataquest-> prob and stats -> probability fundamentals -> permutation and combinations\n",
    "- in permutation order of the individual element in the arranement matters.\n",
    "   - for e.x: 9821 is different than 9281\n",
    "   - Permutations =n!  --> sample without replacement-> we are not putting back the sampled data.\n",
    "   - On the last screen, we learned to use the formula below to calculate permutations when we're sampling without replacement and taking only k objects from a group of n objects:\n",
    "   npk=n!/(n-k)!"
   ]
  },
  {
   "cell_type": "markdown",
   "id": "69040da4",
   "metadata": {
    "papermill": {
     "duration": 0.068727,
     "end_time": "2022-04-27T17:25:33.669555",
     "exception": false,
     "start_time": "2022-04-27T17:25:33.600828",
     "status": "completed"
    },
    "tags": []
   },
   "source": [
    "# Day 10\n",
    "dataquest-> prob and stats -> probability fundamentals -> permutation and combinations\n",
    "- More generally, if the order of the elements in an arrangement doesn't matter, the arrangement is called a combination.\n",
    "- e.x: cards in a deck \n",
    "- nCk = n! / ((n-k)!*k!)"
   ]
  },
  {
   "cell_type": "markdown",
   "id": "e96a3f53",
   "metadata": {
    "papermill": {
     "duration": 0.067406,
     "end_time": "2022-04-27T17:25:33.802331",
     "exception": false,
     "start_time": "2022-04-27T17:25:33.734925",
     "status": "completed"
    },
    "tags": []
   },
   "source": [
    "# Day 11\n",
    "dataquest-> prob and stats -> probability fundamentals -> permutation and combinations\n",
    "- solved 1 probability problem.\n"
   ]
  },
  {
   "cell_type": "markdown",
   "id": "520fa249",
   "metadata": {
    "papermill": {
     "duration": 0.066596,
     "end_time": "2022-04-27T17:25:33.937786",
     "exception": false,
     "start_time": "2022-04-27T17:25:33.871190",
     "status": "completed"
    },
    "tags": []
   },
   "source": [
    "# Day 12\n",
    "dataquest-> prob and stats -> probability fundamentals -> permutation and combinations\n",
    "- finished probability and permutations by revising them.\n",
    "- If we have an experiment E1 (like flipping a coin) with a outcomes, followed by an experiment E2(like rolling a die) with b outcomes, then the total number of outcomes for the compositeexperiment E1E2 can be found by multiplying a with b (this is known as the rule of product):\n",
    "  - number of outcomes = a*b\n",
    "- If we have an experiment E1 with a outcomes, followed by an experiment E2 with b outcomes,followed by an experiment En with z outcomes, the total number of outcomes for the compositeexperiment E1E2 ... En can be found by multiplying their individual outcomes:\n",
    "   - number of outcomes = a*b* ... *z\n",
    "- There are two kinds of arrangements:\n",
    "   - •Arrangements where the order matters, which we call permutations.\n",
    "   - •Arrangements where the order doesn't matter, which we call combination\n",
    "- To find the number of permutations when we're sampling without replacement, we can use theformula:\n",
    "  - permutation = n!\n",
    "- To find the number of permutations when we're sampling without replacement and taking only kobjects from a group of n objects, we can use the formula:\n",
    "  - nPk = n!/(n-k)!\n",
    "- To find the number of combinations when we're sampling without replacement and taking only kobjects from a group of n objects, we can use the formula\n",
    "  - nCk = n! / ((n-k)!*k!)"
   ]
  },
  {
   "cell_type": "markdown",
   "id": "8d5e42c3",
   "metadata": {
    "papermill": {
     "duration": 0.067198,
     "end_time": "2022-04-27T17:25:34.073272",
     "exception": false,
     "start_time": "2022-04-27T17:25:34.006074",
     "status": "completed"
    },
    "tags": []
   },
   "source": [
    "# Day 13\n",
    "dataquest-> prob and stats -> probability fundamentals -> conditional probabilities\n",
    "- first 2 slides -> mainly the recap of old chapter(above one).\n"
   ]
  },
  {
   "cell_type": "markdown",
   "id": "20577f5e",
   "metadata": {
    "papermill": {
     "duration": 0.068781,
     "end_time": "2022-04-27T17:25:34.208126",
     "exception": false,
     "start_time": "2022-04-27T17:25:34.139345",
     "status": "completed"
    },
    "tags": []
   },
   "source": [
    "# Day 14\n",
    "dataquest-> prob and stats -> probability fundamentals -> conditional probabilities\n",
    "<br>slide 4 completed\n",
    "<br>conditional probabilities\n",
    "- probabilities with condition\n",
    "- P(5)=What is the probability of getting a 5? -> normal probability\n",
    "- P(5 | odd) =What is the probability of getting a 5 given the die showed an odd number? -> conditional prob.\n",
    "\n"
   ]
  },
  {
   "cell_type": "markdown",
   "id": "65d61e26",
   "metadata": {
    "papermill": {
     "duration": 0.066504,
     "end_time": "2022-04-27T17:25:34.342273",
     "exception": false,
     "start_time": "2022-04-27T17:25:34.275769",
     "status": "completed"
    },
    "tags": []
   },
   "source": [
    "# Day 15\n",
    "dataquest-> prob and stats -> probability fundamentals -> conditional probabilities\n",
    "- on slide 5 not done yet.\n",
    "\n",
    "Say we roll a fair six-sided die and want to find the probability of getting an odd number, given the die showed a number greater than 1 after landing. Using probability notation, we want to find P(A|B) where:\n",
    "\n",
    "- A is the event that the number is odd: A = {1, 3, 5}\n",
    "- B is the event that the number is greater than 1: B = {2, 3, 4, 5, 6}\n",
    "- P(A/B)=number of succesfull outcomes / total number of outcomes.\n"
   ]
  },
  {
   "cell_type": "markdown",
   "id": "7631993d",
   "metadata": {
    "papermill": {
     "duration": 0.064813,
     "end_time": "2022-04-27T17:25:34.474853",
     "exception": false,
     "start_time": "2022-04-27T17:25:34.410040",
     "status": "completed"
    },
    "tags": []
   },
   "source": [
    "# Day 16 and 17\n",
    "dataquest-> prob and stats -> probability fundamentals -> conditional probabilities\n",
    "\n",
    "on slide 6 not done yet."
   ]
  },
  {
   "cell_type": "markdown",
   "id": "0f29848d",
   "metadata": {
    "papermill": {
     "duration": 0.066135,
     "end_time": "2022-04-27T17:25:34.608537",
     "exception": false,
     "start_time": "2022-04-27T17:25:34.542402",
     "status": "completed"
    },
    "tags": []
   },
   "source": [
    "# Day 18\n",
    "dataquest-> prob and stats -> probability fundamentals -> conditional probabilities\n",
    "<br>slide 5 code half done"
   ]
  },
  {
   "cell_type": "markdown",
   "id": "e6334b22",
   "metadata": {
    "papermill": {
     "duration": 0.065986,
     "end_time": "2022-04-27T17:25:34.741239",
     "exception": false,
     "start_time": "2022-04-27T17:25:34.675253",
     "status": "completed"
    },
    "tags": []
   },
   "source": [
    "# Day 19\n",
    "- The number of elements in a set is called the cardinal of the set. \n",
    "  Ω is a set, and the cardinal of \n",
    "   Ω = { 2,3,4,5,6}\n",
    "   cardinal(Ω)=5\n",
    "- P(A | B) = card(A ∩ B) / card(B)\n",
    "- Say we roll a fair six-sided die and want to find the probability of getting an odd number, given the die showed a number greater than 1 after landing. Using probability notation, we want to find P(A|B) where:\n",
    "    - A is the event that the number is odd: A = {1, 3, 5}\n",
    "     - B is the event that the number is greater than 1: B = {2, 3, 4, 5, 6}\n",
    "     - total number of possible outcomes = card({2,3,4,5,6}) =5\n",
    "     - number of successful outcomes = card({3,5})= 2\n",
    "- P(A | B) = card(A ∩ B) / card(B), we can also get the same result using P(A | B) = prob(A ∩ B) / prob(B)\n",
    "\n",
    "     "
   ]
  },
  {
   "cell_type": "markdown",
   "id": "2a25e487",
   "metadata": {
    "papermill": {
     "duration": 0.065116,
     "end_time": "2022-04-27T17:25:34.872118",
     "exception": false,
     "start_time": "2022-04-27T17:25:34.807002",
     "status": "completed"
    },
    "tags": []
   },
   "source": [
    "# Day 20\n",
    "dataquest-> prob and stats -> probability fundamentals -> conditional probabilities intermediate\n",
    "<br> slide 1 and 2\n",
    "- P( A | B ) ≠ P(A ∩ B), but rather:\n",
    "   - P(A | B) = P(A ∩ B) / P(B)\n",
    "   - P(A ∩ B) = P(A | B) ⋅ P(B)\n",
    "- Given that a customer bought a laptop, they will or will not also buy a mouse. This means we can be certain that either event (M|L) or (M^C|L) will happen:\n",
    "     - P(M | L) + P(M^C | L) = 1\n",
    "\n"
   ]
  },
  {
   "cell_type": "markdown",
   "id": "355c5160",
   "metadata": {
    "papermill": {
     "duration": 0.066081,
     "end_time": "2022-04-27T17:25:35.005093",
     "exception": false,
     "start_time": "2022-04-27T17:25:34.939012",
     "status": "completed"
    },
    "tags": []
   },
   "source": [
    "# Day 21\n",
    "dataquest-> prob and stats -> probability fundamentals -> conditional probabilities intermediate\n",
    "slide 1 and 2\n",
    "- P(A ∩ B) = P(B ∩ A)\n",
    "- multiplication rule of probability\n",
    "  -  P(A ∩ B) = P(B) ⋅ P(A | B) \n",
    "  - P(A ∩ B) = P(A) ⋅ P(B | A)\n",
    "- if P(A) and P(B) are statistically independent then \n",
    "  - P(A ∩ B) = P(A) ⋅ P(B)\n",
    "\n"
   ]
  },
  {
   "cell_type": "markdown",
   "id": "71928aa0",
   "metadata": {
    "papermill": {
     "duration": 0.065745,
     "end_time": "2022-04-27T17:25:35.138751",
     "exception": false,
     "start_time": "2022-04-27T17:25:35.073006",
     "status": "completed"
    },
    "tags": []
   },
   "source": [
    "# Day 22\n",
    "dataquest-> prob and stats -> probability fundamentals -> conditional probabilities intermediate \n",
    "<br>slide 6\n",
    "- If events events A and B are dependent, it means the occurrence of event A changes the probability of event B and vice versa.\n",
    "   - P(A) ≠ P(A | B)\n",
    "   - P(B) ≠ P(B | A)\n",
    "   - P(A ∩ B) ≠ P(A) ⋅ P(B)\n",
    "   - formula will become P(A ∩ B) ≠ P(A) ⋅ P(B/A)\n",
    "   "
   ]
  },
  {
   "cell_type": "markdown",
   "id": "bc62a888",
   "metadata": {
    "papermill": {
     "duration": 0.065465,
     "end_time": "2022-04-27T17:25:35.269795",
     "exception": false,
     "start_time": "2022-04-27T17:25:35.204330",
     "status": "completed"
    },
    "tags": []
   },
   "source": [
    "# Day 23\n",
    "dataquest-> prob and stats -> probability fundamentals -> conditional probabilities intermediate\n",
    "<br>slide 7 to last\n",
    "- To find whether three events — A, B, C — are independent or not, below conditions must hold true -\n",
    "  - P(A ∩ B) ≠ P(A) ⋅ P(B)\n",
    "  - P(A ∩ C) ≠ P(A) ⋅ P(C)\n",
    "  - P(B ∩ C) ≠ P(B) ⋅ P(C)\n",
    "  - P(A ∩ B ∩ C) ≠ P(A) ⋅ P(B) . P(C)\n",
    "- multiplication rule for conditional probability or dependent events\n",
    " - P(A ∩ B ∩ C) = P(A) ⋅ P(B | A) ⋅ P(C | A ∩ B)\n",
    " \n",
    "\n"
   ]
  },
  {
   "cell_type": "markdown",
   "id": "f3c1f628",
   "metadata": {
    "papermill": {
     "duration": 0.064878,
     "end_time": "2022-04-27T17:25:35.399976",
     "exception": false,
     "start_time": "2022-04-27T17:25:35.335098",
     "status": "completed"
    },
    "tags": []
   },
   "source": [
    "# Day 24\n",
    "dataquest-> prob and stats -> probability fundamentals -> bayes theorem\n",
    "<br>slide 1\n",
    "- independent -> one event is dependent on other\n",
    "   - P(A ∩ B) = P(A) ⋅ P(B/A)\n",
    "- independent -> one event is not dependent on other.\n",
    "   - P(A ∩ B) = P(A) ⋅ P(B)\n",
    "- mutually exclusive -> both the events cannot happen at the same time.\n",
    "   - P(A ∩ B) = 0\n",
    "\n"
   ]
  },
  {
   "cell_type": "markdown",
   "id": "a77e6541",
   "metadata": {
    "papermill": {
     "duration": 0.064713,
     "end_time": "2022-04-27T17:25:35.529952",
     "exception": false,
     "start_time": "2022-04-27T17:25:35.465239",
     "status": "completed"
    },
    "tags": []
   },
   "source": [
    "# Day 25\n",
    "dataquest-> prob and stats -> probability fundamentals -> bayes theorem\n",
    "<br>slide 2\n",
    "- If two events are exhaustive, it means they make up the whole sample space Ω\n",
    "  -  P(A) = P(A ∩ B) + P(A ∩ B^c)\n",
    "     P(A) = (P(B) * P(A/B)) +  (P(B^c) * P(A/B^c))\n",
    "     \n",
    "     "
   ]
  },
  {
   "cell_type": "markdown",
   "id": "3ee35611",
   "metadata": {
    "papermill": {
     "duration": 0.065956,
     "end_time": "2022-04-27T17:25:35.661536",
     "exception": false,
     "start_time": "2022-04-27T17:25:35.595580",
     "status": "completed"
    },
    "tags": []
   },
   "source": [
    "# Day 26\n",
    "dataquest-> prob and stats -> probability fundamentals -> bayes theorem\n",
    "<br>slide 3 - last\n",
    "- the law of total probability\n",
    "  - P(A)  = (P(B1) * P(A/B1)) + (P(B2) * P(A/B2))+ ... + (P(Bn) * P(A/Bn)))\n",
    "  - P(A) =(summattion i=1 to n) P(Bi) ⋅ P(A|Bi)\n",
    "- Baye's theorem\n",
    "  - P(B | A) = (P(B) ⋅ P(A | B)) / (n ∑i=1 P(Bi) ⋅ P(A | Bi))\n",
    "- The probability of being infected with HIV before doing any test is called the prior probability (\"prior\" means \"before\"). The probability of being infected with HIV after testing positive is called the posterior probability (\"posterior\" means \"after\").\n",
    "\n",
    "\n",
    "  "
   ]
  },
  {
   "cell_type": "markdown",
   "id": "2c993906",
   "metadata": {
    "papermill": {
     "duration": 0.065241,
     "end_time": "2022-04-27T17:25:35.792389",
     "exception": false,
     "start_time": "2022-04-27T17:25:35.727148",
     "status": "completed"
    },
    "tags": []
   },
   "source": [
    "# Day 27\n",
    "dataquest-> prob and stats -> probability fundamentals -> naive bayes theorem\n",
    "<br>slide 1 - \n",
    "P(Spam|w1,w2,w3,w4)∝P(Spam)⋅P(w1|Spam)⋅P(w2|Spam)⋅P(w3|Spam)⋅P(w4|Spam)P(SpamC|w1,w2,w3,w4)∝P(SpamC)⋅P(w1|SpamC)⋅P(w2|SpamC)⋅P(w3|SpamC)⋅P(w4|SpamC)"
   ]
  },
  {
   "cell_type": "markdown",
   "id": "a8c9f425",
   "metadata": {
    "papermill": {
     "duration": 0.067614,
     "end_time": "2022-04-27T17:25:35.925409",
     "exception": false,
     "start_time": "2022-04-27T17:25:35.857795",
     "status": "completed"
    },
    "tags": []
   },
   "source": [
    "# Day 28\n",
    "dataquest-> prob and stats -> probability fundamentals -> naive bayes theorem\n",
    "<br>finished.\n",
    "<br>**Summary**\n",
    "- P(Spam|w1,w2,...,wn)∝P(Spam)⋅n∏i=1P(wi|Spam)\n",
    "- P(SpamC|w1,w2,...,wn)∝P(SpamC)⋅n∏i=1P(wi|SpamC)\n",
    "- To calculate P(wi|Spam) and P(wi|SpamC), we need to use the additive smoothing technique: \n",
    "- P ( w i | S p a m ) = (N w i | S p a m + α) / ( N S p a m + α ⋅ N V o c a b u l a r y )\n",
    "- P ( w i | S p a m C ) = (N w i | S p a m C + α) / ( N S p a m C + α ⋅ N V o c a b u l a r y )\n",
    "     - N w i | S p a m = the number of times the word w i occurs in spam messages \n",
    "     - N w i | S p a m C = the number of times the word w i occurs in non-spam messages \n",
    "     - N S p a m = total number of words in spam messages \n",
    "     - N S p a m C = total number of words in non-spam messages \n",
    "     - N V o c a b u l a r y = total number of words in the vocabulary \n",
    "     - α = 1 ( α is a smoothing parameter )\n",
    " - naive bayes theorem assumes that events are not dependent.\n",
    " - The assumption of conditional independence between words is thus naive since it rarely holds in practice, and this is why the algorithm is called Naive Bayes (also called simple Bayes or independence Bayes)."
   ]
  },
  {
   "cell_type": "markdown",
   "id": "92f47aef",
   "metadata": {
    "papermill": {
     "duration": 0.06739,
     "end_time": "2022-04-27T17:25:36.059079",
     "exception": false,
     "start_time": "2022-04-27T17:25:35.991689",
     "status": "completed"
    },
    "tags": []
   },
   "source": [
    "# Day 29,30,31\n",
    "<br>dataquest-> prob and stats -> probability fundamentals -> conditional probability-> guided projects\n",
    "<br> in progress"
   ]
  },
  {
   "cell_type": "markdown",
   "id": "a130876f",
   "metadata": {
    "papermill": {
     "duration": 0.065019,
     "end_time": "2022-04-27T17:25:36.191606",
     "exception": false,
     "start_time": "2022-04-27T17:25:36.126587",
     "status": "completed"
    },
    "tags": []
   },
   "source": [
    "# Day 32 and 33\n",
    "<br>dataquest-> prob and stats -> probability fundamentals -> guided projects\n",
    "<br> done"
   ]
  },
  {
   "cell_type": "markdown",
   "id": "fdea9822",
   "metadata": {
    "papermill": {
     "duration": 0.064888,
     "end_time": "2022-04-27T17:25:36.321919",
     "exception": false,
     "start_time": "2022-04-27T17:25:36.257031",
     "status": "completed"
    },
    "tags": []
   },
   "source": [
    "# Day 34\n",
    "<br>dataquest-> prob and stats -> probability fundamentals -> guided projects-> lottery prediction\n",
    "<br> done"
   ]
  },
  {
   "cell_type": "markdown",
   "id": "cf6bbbd0",
   "metadata": {
    "papermill": {
     "duration": 0.065159,
     "end_time": "2022-04-27T17:25:36.452326",
     "exception": false,
     "start_time": "2022-04-27T17:25:36.387167",
     "status": "completed"
    },
    "tags": []
   },
   "source": [
    "# Day 35\n",
    "<br>dataquest-> prob and stats -> hypothesis testing fundamentals -> significance testing\n",
    "<br> till slide 4\n",
    "- null hypothesis\n",
    "- alternate hypothesis\n"
   ]
  },
  {
   "cell_type": "markdown",
   "id": "fdcda491",
   "metadata": {
    "papermill": {
     "duration": 0.065761,
     "end_time": "2022-04-27T17:25:36.587271",
     "exception": false,
     "start_time": "2022-04-27T17:25:36.521510",
     "status": "completed"
    },
    "tags": []
   },
   "source": [
    "# Day 36 and 37\n",
    "<br>dataquest-> prob and stats -> hypothesis testing fundamentals -> significance testing\n",
    "- The permutation test is a statistical test that involves rerunning the study many times and recalculating the test statistic for each iteration. The goal is to calculate a distribution of the test statistics over these many iterations. This distribution is called the sampling distribution and it approximates the full range of possible test statistics under the null hypothesis\n",
    "\n"
   ]
  },
  {
   "cell_type": "markdown",
   "id": "34d910fe",
   "metadata": {
    "papermill": {
     "duration": 0.065738,
     "end_time": "2022-04-27T17:25:36.718012",
     "exception": false,
     "start_time": "2022-04-27T17:25:36.652274",
     "status": "completed"
    },
    "tags": []
   },
   "source": [
    "# Day 38\n",
    "<br>dataquest-> prob and stats -> hypothesis testing fundamentals -> significance testing\n",
    "<br>in progress."
   ]
  },
  {
   "cell_type": "markdown",
   "id": "aa81ffd9",
   "metadata": {
    "papermill": {
     "duration": 0.065618,
     "end_time": "2022-04-27T17:25:36.849848",
     "exception": false,
     "start_time": "2022-04-27T17:25:36.784230",
     "status": "completed"
    },
    "tags": []
   },
   "source": [
    "# Day 39\n",
    "<br>dataquest-> prob and stats -> hypothesis testing fundamentals -> significance testing\n",
    "<br>slide 5-6"
   ]
  },
  {
   "cell_type": "markdown",
   "id": "98433a16",
   "metadata": {
    "papermill": {
     "duration": 0.06689,
     "end_time": "2022-04-27T17:25:36.984006",
     "exception": false,
     "start_time": "2022-04-27T17:25:36.917116",
     "status": "completed"
    },
    "tags": []
   },
   "source": [
    "# Day 40\n",
    "<br>dataquest-> prob and stats -> hypothesis testing fundamentals -> significance testing\n",
    "<br>slide 7"
   ]
  },
  {
   "cell_type": "markdown",
   "id": "852c00c6",
   "metadata": {
    "papermill": {
     "duration": 0.065944,
     "end_time": "2022-04-27T17:25:37.116566",
     "exception": false,
     "start_time": "2022-04-27T17:25:37.050622",
     "status": "completed"
    },
    "tags": []
   },
   "source": [
    "# Day 41 and 42\n",
    "<br>dataquest-> prob and stats -> hypothesis testing fundamentals -> significance testing\n",
    "<br>slide 7 done and 8(p-value) strated"
   ]
  },
  {
   "cell_type": "markdown",
   "id": "6af66a91",
   "metadata": {
    "papermill": {
     "duration": 0.064975,
     "end_time": "2022-04-27T17:25:37.250060",
     "exception": false,
     "start_time": "2022-04-27T17:25:37.185085",
     "status": "completed"
    },
    "tags": []
   },
   "source": [
    "# Day 43\n",
    "<br>dataquest-> prob and stats -> hypothesis testing fundamentals -> significance testing\n",
    "<br>\n",
    "- The first step is to decide a test statistic, which is a numerical value that summarizes the data and one we can use in statistical formulas. The test statistic runs a statistical test that determines whether the difference between the groups was due to random chance.\n",
    "  - e.x: mean \n",
    "- The permutation test is a statistical test that involves rerunning the study many times and recalculating the test statistic for each iteration.\n",
    "   - The goal is to calculate a distribution of the test statistics over these many iterations. This distribution is called the sampling distribution and it approximates the full range of possible test statistics under the null hypothesis.\n",
    "- If the p value is less than the threshold, we:\n",
    "    - reject the null hypothesis that there's no difference in the mean amount of weight lost by participants in both groups; and\n",
    "    - conclude that there is some evidence that the weight loss pill does affect the amount of weight people lost.\n",
    "\n",
    "- If the p value is greater than the threshold, we:\n",
    "    - fail to reject the null hypothesis that there's no difference in the mean amount of weight lost by participants in both groups,\n",
    "    - conclude that the weight loss pill doesn't seem to be effective in helping people lose weight.\n",
    "- usually used p-value threshold is 0.05\n",
    "- The p value threshold you set can also affect the conclusion you reach.\n",
    "    - If you set too high of a p value threshold, you may reject the null hypothesis incorrectly. This is known as a type I error.\n",
    "    - If you set too low of a p value threshold, you may fail to reject the null hypothesis incorrectly. This is known as a type II error."
   ]
  },
  {
   "cell_type": "markdown",
   "id": "4297f75c",
   "metadata": {
    "papermill": {
     "duration": 0.065484,
     "end_time": "2022-04-27T17:25:37.381344",
     "exception": false,
     "start_time": "2022-04-27T17:25:37.315860",
     "status": "completed"
    },
    "tags": []
   },
   "source": [
    "# Day 44\n",
    "<br>dataquest-> prob and stats -> hypothesis testing fundamentals -> significance testing-> chi squared test\n",
    "<br>1- 4\n",
    "- chi squared test is used for numerical values"
   ]
  },
  {
   "cell_type": "markdown",
   "id": "46433b21",
   "metadata": {
    "papermill": {
     "duration": 0.068076,
     "end_time": "2022-04-27T17:25:37.514816",
     "exception": false,
     "start_time": "2022-04-27T17:25:37.446740",
     "status": "completed"
    },
    "tags": []
   },
   "source": [
    "# Day 45 and 46\n",
    "<br>dataquest-> prob and stats -> hypothesis testing fundamentals -> significance testing-> chi squared test\n",
    "<br>4- 6"
   ]
  },
  {
   "cell_type": "markdown",
   "id": "3b9769c3",
   "metadata": {
    "papermill": {
     "duration": 0.075491,
     "end_time": "2022-04-27T17:25:37.665393",
     "exception": false,
     "start_time": "2022-04-27T17:25:37.589902",
     "status": "completed"
    },
    "tags": []
   },
   "source": [
    "# Day 47\n",
    "<br>dataquest-> prob and stats -> hypothesis testing fundamentals -> significance testing-> chi squared test\n",
    "<br> slide 6 done"
   ]
  },
  {
   "cell_type": "code",
   "execution_count": null,
   "id": "48a85898",
   "metadata": {
    "papermill": {
     "duration": 0.078351,
     "end_time": "2022-04-27T17:25:37.811264",
     "exception": false,
     "start_time": "2022-04-27T17:25:37.732913",
     "status": "completed"
    },
    "tags": []
   },
   "outputs": [],
   "source": []
  },
  {
   "cell_type": "code",
   "execution_count": 2,
   "id": "d43c2f16",
   "metadata": {
    "execution": {
     "iopub.execute_input": "2022-04-27T17:25:37.958441Z",
     "iopub.status.busy": "2022-04-27T17:25:37.957346Z",
     "iopub.status.idle": "2022-04-27T17:25:37.960151Z",
     "shell.execute_reply": "2022-04-27T17:25:37.959516Z",
     "shell.execute_reply.started": "2022-04-12T14:17:49.333113Z"
    },
    "papermill": {
     "duration": 0.077439,
     "end_time": "2022-04-27T17:25:37.960328",
     "exception": false,
     "start_time": "2022-04-27T17:25:37.882889",
     "status": "completed"
    },
    "tags": []
   },
   "outputs": [],
   "source": [
    "# !pip install PyMuPDF"
   ]
  },
  {
   "cell_type": "code",
   "execution_count": 3,
   "id": "9b571f25",
   "metadata": {
    "execution": {
     "iopub.execute_input": "2022-04-27T17:25:38.101957Z",
     "iopub.status.busy": "2022-04-27T17:25:38.100925Z",
     "iopub.status.idle": "2022-04-27T17:25:38.104429Z",
     "shell.execute_reply": "2022-04-27T17:25:38.105082Z",
     "shell.execute_reply.started": "2022-04-12T14:19:20.437905Z"
    },
    "papermill": {
     "duration": 0.077625,
     "end_time": "2022-04-27T17:25:38.105289",
     "exception": false,
     "start_time": "2022-04-27T17:25:38.027664",
     "status": "completed"
    },
    "tags": []
   },
   "outputs": [],
   "source": [
    " \n",
    "# fitz.__version__"
   ]
  },
  {
   "cell_type": "code",
   "execution_count": 4,
   "id": "d4640506",
   "metadata": {
    "execution": {
     "iopub.execute_input": "2022-04-27T17:25:38.247894Z",
     "iopub.status.busy": "2022-04-27T17:25:38.246840Z",
     "iopub.status.idle": "2022-04-27T17:25:38.250380Z",
     "shell.execute_reply": "2022-04-27T17:25:38.250997Z",
     "shell.execute_reply.started": "2022-04-12T14:23:59.687259Z"
    },
    "papermill": {
     "duration": 0.07332,
     "end_time": "2022-04-27T17:25:38.251173",
     "exception": false,
     "start_time": "2022-04-27T17:25:38.177853",
     "status": "completed"
    },
    "tags": []
   },
   "outputs": [],
   "source": [
    "# !python -m spacy download en_core_web_sm"
   ]
  },
  {
   "cell_type": "code",
   "execution_count": null,
   "id": "6386582a",
   "metadata": {
    "papermill": {
     "duration": 0.069583,
     "end_time": "2022-04-27T17:25:38.389074",
     "exception": false,
     "start_time": "2022-04-27T17:25:38.319491",
     "status": "completed"
    },
    "tags": []
   },
   "outputs": [],
   "source": []
  },
  {
   "cell_type": "code",
   "execution_count": 5,
   "id": "cdbc2b15",
   "metadata": {
    "execution": {
     "iopub.execute_input": "2022-04-27T17:25:38.532600Z",
     "iopub.status.busy": "2022-04-27T17:25:38.531000Z",
     "iopub.status.idle": "2022-04-27T17:25:38.535262Z",
     "shell.execute_reply": "2022-04-27T17:25:38.535909Z",
     "shell.execute_reply.started": "2022-04-12T14:18:25.912243Z"
    },
    "papermill": {
     "duration": 0.07513,
     "end_time": "2022-04-27T17:25:38.536096",
     "exception": false,
     "start_time": "2022-04-27T17:25:38.460966",
     "status": "completed"
    },
    "tags": []
   },
   "outputs": [],
   "source": [
    "# import fitz\n",
    "# import spacy\n",
    "# import re\n",
    "# from pathlib import Path\n",
    "# import requests\n",
    "# import os"
   ]
  },
  {
   "cell_type": "code",
   "execution_count": 6,
   "id": "84410c76",
   "metadata": {
    "execution": {
     "iopub.execute_input": "2022-04-27T17:25:38.680392Z",
     "iopub.status.busy": "2022-04-27T17:25:38.679152Z",
     "iopub.status.idle": "2022-04-27T17:25:38.684011Z",
     "shell.execute_reply": "2022-04-27T17:25:38.684569Z",
     "shell.execute_reply.started": "2022-04-12T15:03:43.5897Z"
    },
    "papermill": {
     "duration": 0.077331,
     "end_time": "2022-04-27T17:25:38.684756",
     "exception": false,
     "start_time": "2022-04-27T17:25:38.607425",
     "status": "completed"
    },
    "tags": []
   },
   "outputs": [],
   "source": [
    "# sql_db_json = [\n",
    "#   {\n",
    "#     \"document_id\": \"1\",\n",
    "#     \"area\": \"[72.1149,661.2966,131.95729,675.1716]\",\n",
    "#     \"page\": \"3\",\n",
    "#     \"text_\": \"Background\",\n",
    "#     \"type_of_selection\": \"Text\",\n",
    "#     \"entity_type\": \"name\",\n",
    "#     \"link\": \"https://redactable-devox-stage.s3.us-east-2.amazonaws.com/tenants/41d9e109-693b-444c-aa18-e5891bc6550b/original/1a7c0e5d-3237-4ca9-9e3d-89e707245ac6/D8communications.pdf\"\n",
    "#   },\n",
    "#   {\n",
    "#     \"document_id\": \"1\",\n",
    "#     \"area\": \"[290.55386,632.0173,322.14685,645.8923]\",\n",
    "#     \"page\": \"2\",\n",
    "#     \"text_\": \"INDEX\",\n",
    "#     \"type_of_selection\": \"Text\",\n",
    "#     \"entity_type\": \"address\",\n",
    "#     \"link\": \"https://redactable-devox-stage.s3.us-east-2.amazonaws.com/tenants/41d9e109-693b-444c-aa18-e5891bc6550b/original/1a7c0e5d-3237-4ca9-9e3d-89e707245ac6/D8communications.pdf\"\n",
    "#   }\n",
    "# ]"
   ]
  },
  {
   "cell_type": "code",
   "execution_count": 7,
   "id": "100617b5",
   "metadata": {
    "execution": {
     "iopub.execute_input": "2022-04-27T17:25:38.831251Z",
     "iopub.status.busy": "2022-04-27T17:25:38.830195Z",
     "iopub.status.idle": "2022-04-27T17:25:38.833780Z",
     "shell.execute_reply": "2022-04-27T17:25:38.834391Z",
     "shell.execute_reply.started": "2022-04-12T13:17:19.452695Z"
    },
    "papermill": {
     "duration": 0.078749,
     "end_time": "2022-04-27T17:25:38.834580",
     "exception": false,
     "start_time": "2022-04-27T17:25:38.755831",
     "status": "completed"
    },
    "tags": []
   },
   "outputs": [],
   "source": [
    "# l=pd.DataFrame()\n",
    "# k=(1, '[290.55386,632.0173,322.14685,645.8923]', 2, 'INDEX', 'Text', 'address', 'https://redactable-devox-s')\n",
    "# k\n"
   ]
  },
  {
   "cell_type": "code",
   "execution_count": 8,
   "id": "24fc0671",
   "metadata": {
    "execution": {
     "iopub.execute_input": "2022-04-27T17:25:38.978604Z",
     "iopub.status.busy": "2022-04-27T17:25:38.977482Z",
     "iopub.status.idle": "2022-04-27T17:25:38.981790Z",
     "shell.execute_reply": "2022-04-27T17:25:38.982455Z",
     "shell.execute_reply.started": "2022-04-12T16:09:33.708631Z"
    },
    "papermill": {
     "duration": 0.079737,
     "end_time": "2022-04-27T17:25:38.982651",
     "exception": false,
     "start_time": "2022-04-27T17:25:38.902914",
     "status": "completed"
    },
    "tags": []
   },
   "outputs": [],
   "source": [
    "# co=[\"document_id\",\"area\",\"page\",\"text_\",\"type_of_selection\",\"entity_type\",\"link\"]\n",
    "# val= [(1,'[72.1149,661.2966,131.95729,675.1716]',3,'Background','Text','name' ,'https://redactable-devox-stage.s3.us-east-2.am'), (1,  '[290.55386,632.0173,322.14685,645.8923]',2,'INDEX', 'Text','address','https://redactable-devox-stage.s3.us-east-2.am')]\n",
    "\n",
    "# df=pd.DataFrame(val,columns=[co])\n",
    "# #df.iloc[1] =[1,  '[290.55386,632.0173,322.14685,645.8923]',2,'INDEX', 'Text','address','https://redactable-devox-stage.s3.us-east-2.am']\n",
    "# df"
   ]
  },
  {
   "cell_type": "code",
   "execution_count": 9,
   "id": "05329fa8",
   "metadata": {
    "execution": {
     "iopub.execute_input": "2022-04-27T17:25:39.135100Z",
     "iopub.status.busy": "2022-04-27T17:25:39.133997Z",
     "iopub.status.idle": "2022-04-27T17:25:39.137844Z",
     "shell.execute_reply": "2022-04-27T17:25:39.138485Z",
     "shell.execute_reply.started": "2022-04-12T16:18:22.595374Z"
    },
    "papermill": {
     "duration": 0.088041,
     "end_time": "2022-04-27T17:25:39.138691",
     "exception": false,
     "start_time": "2022-04-27T17:25:39.050650",
     "status": "completed"
    },
    "tags": []
   },
   "outputs": [],
   "source": [
    "# prev=[]\n",
    "# for data,row in df.iterrows():\n",
    "#     if row['document_id'] not in prev:\n",
    "#         prev.append(row['document_id'])\n",
    "#         print('hey')"
   ]
  },
  {
   "cell_type": "code",
   "execution_count": 10,
   "id": "ffd8ef9f",
   "metadata": {
    "execution": {
     "iopub.execute_input": "2022-04-27T17:25:39.285747Z",
     "iopub.status.busy": "2022-04-27T17:25:39.284554Z",
     "iopub.status.idle": "2022-04-27T17:25:39.286599Z",
     "shell.execute_reply": "2022-04-27T17:25:39.287095Z",
     "shell.execute_reply.started": "2022-04-12T15:03:48.248836Z"
    },
    "papermill": {
     "duration": 0.078191,
     "end_time": "2022-04-27T17:25:39.287320",
     "exception": false,
     "start_time": "2022-04-27T17:25:39.209129",
     "status": "completed"
    },
    "tags": []
   },
   "outputs": [],
   "source": [
    "# nlp = spacy.load('en_core_web_sm')\n",
    "# train_data = []\n",
    "\n",
    "# prev_doc_id = ''\n",
    "# i=0\n",
    "# temp='/kaggle/working'\n",
    "\n",
    "# for data in sql_db_json:\n",
    "#     if data['type_of_selection'] == 'Text':\n",
    "#         document_id = data['document_id']\n",
    "#         x1,y1,x2,y2 = data['area'][1:-1].split(',')\n",
    "#         url = data['link']\n",
    "#         page_no = int(data['page']) - 1 \n",
    "#         label = data['entity_type']\n",
    "#         filename = url.split('/')[-1]\n",
    "    \n",
    "#         #download the file to temp folder\n",
    "#         outpath = os.path.join(temp,filename)\n",
    "\n",
    "#         if document_id == prev_doc_id:\n",
    "#             pass\n",
    "#         else: \n",
    "#             i+=1\n",
    "#             print(i)\n",
    "#             response = requests.get(url)\n",
    "#             with open(outpath, \"wb\") as binary_file:\n",
    "#                 binary_file.write(response.content)\n",
    "\n",
    "#         doc = fitz.open(outpath)  # any supported document type\n",
    "#         page = doc[page_no]  # we want text from this page\n",
    "#         print('page dimension - ', page.rect.width, page.rect.height)\n",
    "\n",
    "#         #The co-ordinates in the DB are image co-ords. W.r.t pdf, y1 and y2 has to be interchanged.\n",
    "#         #To ensure entire word to be selected, slight correction in x1,y1,x2,y2 is done.\n",
    "\n",
    "#         rect = [float(x1)-2, 792 - float(y2)-2, float(x2)+2, 792 - float(y1)+2]\n",
    "#         print(rect)\n",
    "#         labelled_text = page.get_textbox(rect)\n",
    "\n",
    "#         #Removing all unprintable characters from the text\n",
    "#         string = re.sub('[^0-9a-zA-Z@?|\\/<>.,()&^%$#!]+', ' ', labelled_text)\n",
    "#         print('string : ', string)\n",
    "\n",
    "#         fulltext = page.get_text()\n",
    "#         doc = nlp(fulltext)\n",
    "\n",
    "#         sentences = []\n",
    "#         for sent in doc.sents:\n",
    "#             if string.strip() in sent.text:\n",
    "#                 text = re.sub('[^0-9a-zA-Z@?|\\/<>.,()&^%$#!]+', ' ', sent.text)\n",
    "\n",
    "#         res = re.search(string.strip(), text)\n",
    "\n",
    "#         entities = []\n",
    "#         entities.append((res.start(),res.end(),label))\n",
    "\n",
    "#         train_data.append((text,{'entities':entities}))\n",
    "\n",
    "# print('Training data in spacy format')\n",
    "# print('*****************************')\n",
    "# for i in range(0,len(train_data)):\n",
    "#     print(train_data[i])"
   ]
  },
  {
   "cell_type": "code",
   "execution_count": null,
   "id": "fff587d7",
   "metadata": {
    "papermill": {
     "duration": 0.065352,
     "end_time": "2022-04-27T17:25:39.422002",
     "exception": false,
     "start_time": "2022-04-27T17:25:39.356650",
     "status": "completed"
    },
    "tags": []
   },
   "outputs": [],
   "source": []
  },
  {
   "cell_type": "code",
   "execution_count": 11,
   "id": "cd9dfabf",
   "metadata": {
    "execution": {
     "iopub.execute_input": "2022-04-27T17:25:39.593573Z",
     "iopub.status.busy": "2022-04-27T17:25:39.592343Z",
     "iopub.status.idle": "2022-04-27T17:25:39.598428Z",
     "shell.execute_reply": "2022-04-27T17:25:39.599016Z",
     "shell.execute_reply.started": "2022-04-12T11:44:59.253637Z"
    },
    "papermill": {
     "duration": 0.100078,
     "end_time": "2022-04-27T17:25:39.599242",
     "exception": false,
     "start_time": "2022-04-27T17:25:39.499164",
     "status": "completed"
    },
    "tags": []
   },
   "outputs": [],
   "source": [
    "# nlp = spacy.load('en_core_web_sm')\n",
    "# train_data = []\n",
    "\n",
    "# prev_doc_id = ''\n",
    "# temp='/kaggle/working'\n",
    "# i=0\n",
    "# for data in sql_db_json:\n",
    "#     if data['type_of_selection'] == 'Text':\n",
    "#         document_id = data['document_id']\n",
    "#         x1,y1,x2,y2 = data['area'][1:-1].split(',')\n",
    "#         url = data['link']\n",
    "#         page_no = int(data['page']) - 1 \n",
    "#         label = data['entity_type']\n",
    "#         filename = url.split('/')[-1]\n",
    "    \n",
    "#         #download the file to temp folder\n",
    "#         i+=1\n",
    "#         print(i)\n",
    "#         response = requests.get(url)\n",
    "#         doc = fitz.open(stream=response.content,filetype=\"pdf\")  # any supported document type\n",
    "#         page = doc[page_no]  # we want text from this page\n",
    "#         print('page dimension - ', page.rect.width, page.rect.height)\n",
    "\n",
    "#         #The co-ordinates in the DB are image co-ords. W.r.t pdf, y1 and y2 has to be interchanged.\n",
    "#         #To ensure entire word to be selected, slight correction in x1,y1,x2,y2 is done.\n",
    "\n",
    "#         rect = [float(x1)-2, 792 - float(y2)-2, float(x2)+2, 792 - float(y1)+2]\n",
    "#         print(rect)\n",
    "#         labelled_text = page.get_textbox(rect)\n",
    "\n",
    "#         #Removing all unprintable characters from the text\n",
    "#         string = re.sub('[^0-9a-zA-Z@?|\\/<>.,()&^%$#!]+', ' ', labelled_text)\n",
    "#         print('string : ', string)\n",
    "\n",
    "#         fulltext = page.get_text()\n",
    "#         doc = nlp(fulltext)\n",
    "\n",
    "#         sentences = []\n",
    "#         for sent in doc.sents:\n",
    "#             if string.strip() in sent.text:\n",
    "#                 text = re.sub('[^0-9a-zA-Z@?|\\/<>.,()&^%$#!]+', ' ', sent.text)\n",
    "\n",
    "#         res = re.search(string.strip(), text)\n",
    "\n",
    "#         entities = []\n",
    "#         entities.append((res.start(),res.end(),label))\n",
    "\n",
    "#         train_data.append((text,{'entities':entities}))\n",
    "\n",
    "# print('Training data in spacy format')\n",
    "# print('*****************************')\n",
    "# for i in range(0,len(train_data)):\n",
    "#     print(train_data[i])"
   ]
  },
  {
   "cell_type": "code",
   "execution_count": 12,
   "id": "a6b8429e",
   "metadata": {
    "execution": {
     "iopub.execute_input": "2022-04-27T17:25:39.737185Z",
     "iopub.status.busy": "2022-04-27T17:25:39.736192Z",
     "iopub.status.idle": "2022-04-27T17:25:39.739223Z",
     "shell.execute_reply": "2022-04-27T17:25:39.738689Z"
    },
    "papermill": {
     "duration": 0.073835,
     "end_time": "2022-04-27T17:25:39.739405",
     "exception": false,
     "start_time": "2022-04-27T17:25:39.665570",
     "status": "completed"
    },
    "tags": []
   },
   "outputs": [],
   "source": [
    "# page dimension -  612.0 792.0\n",
    "# [70.1149, 114.82839999999999, 133.95729, 132.7034]\n",
    "# string :  Background\n",
    "# page dimension -  612.0 792.0\n",
    "# [288.55386, 144.10770000000002, 324.14685, 161.98270000000002]\n",
    "# string :  INDEX\n",
    "# Training data in spacy format\n",
    "# *****************************\n",
    "# (' 3 Background The Blue Ribbon Committee was created by the Mayor to assess various city communication methods and recommend opportunities to improve communications with residents, businesses and other organizations.', {'entities': [(3, 13, 'name')]})\n",
    "# (' 2 INDEX Background Pg. 3 Purpose Pg. 3 Process .', {'entities': [(3, 8, 'address')]})"
   ]
  },
  {
   "cell_type": "code",
   "execution_count": 13,
   "id": "19bbfdc8",
   "metadata": {
    "execution": {
     "iopub.execute_input": "2022-04-27T17:25:39.878679Z",
     "iopub.status.busy": "2022-04-27T17:25:39.877726Z",
     "iopub.status.idle": "2022-04-27T17:25:39.880832Z",
     "shell.execute_reply": "2022-04-27T17:25:39.880275Z",
     "shell.execute_reply.started": "2022-04-11T16:35:29.609712Z"
    },
    "papermill": {
     "duration": 0.074562,
     "end_time": "2022-04-27T17:25:39.880997",
     "exception": false,
     "start_time": "2022-04-27T17:25:39.806435",
     "status": "completed"
    },
    "tags": []
   },
   "outputs": [],
   "source": [
    "# nlp = spacy.load('en_core_web_sm')\n",
    "# outpath=r'/kaggle/input/sample-pdf/D8communications.pdf'\n",
    "# doc = fitz.open(outpath)  # any supported document type\n",
    "# page_no=3\n",
    "# page = doc[page_no-1]\n",
    "\n",
    "# x1,y1,x2,y2=(72.1149,661.2966,131.95729,675.1716)\n",
    "\n",
    "# rect = [float(x1)-2, 792 - float(y2)-2, float(x2)+2, 792 - float(y1)+2]\n",
    "# print(rect)\n",
    "# labelled_text = page.get_textbox(rect)\n",
    "# string = re.sub('[^0-9a-zA-Z@?|\\/<>.,()&^%$#!]+', ' ', labelled_text)\n",
    "# print('string : ', string)\n",
    "\n",
    "# fulltext = page.get_text()\n",
    "# doc = nlp(fulltext)\n",
    "\n",
    "# sentences = []\n",
    "# for sent in doc.sents:\n",
    "#             if string.strip() in sent.text:\n",
    "#                 text = re.sub('[^0-9a-zA-Z@?|\\/<>.,()&^%$#!]+', ' ', sent.text)\n",
    "\n",
    "#         res = re.search(string.strip(), text)\n",
    "\n",
    "#         entities = []\n",
    "#         entities.append((res.start(),res.end(),label))\n",
    "\n",
    "#         train_data.append((text,{'entities':entities}))\n",
    "\n"
   ]
  },
  {
   "cell_type": "code",
   "execution_count": 14,
   "id": "18c78e07",
   "metadata": {
    "execution": {
     "iopub.execute_input": "2022-04-27T17:25:40.019253Z",
     "iopub.status.busy": "2022-04-27T17:25:40.018499Z",
     "iopub.status.idle": "2022-04-27T17:25:40.021054Z",
     "shell.execute_reply": "2022-04-27T17:25:40.021772Z",
     "shell.execute_reply.started": "2022-04-11T16:35:41.679947Z"
    },
    "papermill": {
     "duration": 0.075309,
     "end_time": "2022-04-27T17:25:40.021992",
     "exception": false,
     "start_time": "2022-04-27T17:25:39.946683",
     "status": "completed"
    },
    "tags": []
   },
   "outputs": [],
   "source": [
    "#doc"
   ]
  },
  {
   "cell_type": "code",
   "execution_count": 15,
   "id": "543c174f",
   "metadata": {
    "execution": {
     "iopub.execute_input": "2022-04-27T17:25:40.166166Z",
     "iopub.status.busy": "2022-04-27T17:25:40.165441Z",
     "iopub.status.idle": "2022-04-27T17:25:40.167466Z",
     "shell.execute_reply": "2022-04-27T17:25:40.168067Z",
     "shell.execute_reply.started": "2022-04-11T16:35:56.010353Z"
    },
    "papermill": {
     "duration": 0.078703,
     "end_time": "2022-04-27T17:25:40.168269",
     "exception": false,
     "start_time": "2022-04-27T17:25:40.089566",
     "status": "completed"
    },
    "tags": []
   },
   "outputs": [],
   "source": [
    "# sentences = []\n",
    "# for sent in doc.sents:\n",
    "#     if string.strip() in sent.text:\n",
    "#         text = re.sub('[^0-9a-zA-Z@?|\\/<>.,()&^%$#!]+', ' ', sent.text)"
   ]
  },
  {
   "cell_type": "code",
   "execution_count": 16,
   "id": "998aa5e1",
   "metadata": {
    "execution": {
     "iopub.execute_input": "2022-04-27T17:25:40.314189Z",
     "iopub.status.busy": "2022-04-27T17:25:40.313501Z",
     "iopub.status.idle": "2022-04-27T17:25:40.317418Z",
     "shell.execute_reply": "2022-04-27T17:25:40.317982Z",
     "shell.execute_reply.started": "2022-04-11T16:39:04.736143Z"
    },
    "papermill": {
     "duration": 0.079633,
     "end_time": "2022-04-27T17:25:40.318187",
     "exception": false,
     "start_time": "2022-04-27T17:25:40.238554",
     "status": "completed"
    },
    "tags": []
   },
   "outputs": [],
   "source": [
    "# k=nlp(\"he             kenny\")\n",
    "# for sent in k.sents:\n",
    "#     print(sent)"
   ]
  },
  {
   "cell_type": "code",
   "execution_count": 17,
   "id": "9d49c3df",
   "metadata": {
    "execution": {
     "iopub.execute_input": "2022-04-27T17:25:40.457407Z",
     "iopub.status.busy": "2022-04-27T17:25:40.456041Z",
     "iopub.status.idle": "2022-04-27T17:25:40.460518Z",
     "shell.execute_reply": "2022-04-27T17:25:40.459918Z",
     "shell.execute_reply.started": "2022-04-11T15:09:24.391421Z"
    },
    "papermill": {
     "duration": 0.074906,
     "end_time": "2022-04-27T17:25:40.460693",
     "exception": false,
     "start_time": "2022-04-27T17:25:40.385787",
     "status": "completed"
    },
    "tags": []
   },
   "outputs": [],
   "source": [
    "# text"
   ]
  },
  {
   "cell_type": "code",
   "execution_count": 18,
   "id": "a415b13d",
   "metadata": {
    "execution": {
     "iopub.execute_input": "2022-04-27T17:25:40.602615Z",
     "iopub.status.busy": "2022-04-27T17:25:40.601826Z",
     "iopub.status.idle": "2022-04-27T17:25:40.604924Z",
     "shell.execute_reply": "2022-04-27T17:25:40.605570Z",
     "shell.execute_reply.started": "2022-04-11T15:09:31.9599Z"
    },
    "papermill": {
     "duration": 0.077,
     "end_time": "2022-04-27T17:25:40.605796",
     "exception": false,
     "start_time": "2022-04-27T17:25:40.528796",
     "status": "completed"
    },
    "tags": []
   },
   "outputs": [],
   "source": [
    "# res = re.search(string.strip(), text)\n",
    "# res"
   ]
  },
  {
   "cell_type": "code",
   "execution_count": 19,
   "id": "0bcc6379",
   "metadata": {
    "execution": {
     "iopub.execute_input": "2022-04-27T17:25:40.744488Z",
     "iopub.status.busy": "2022-04-27T17:25:40.743740Z",
     "iopub.status.idle": "2022-04-27T17:25:40.746941Z",
     "shell.execute_reply": "2022-04-27T17:25:40.747585Z",
     "shell.execute_reply.started": "2022-04-11T15:12:41.311242Z"
    },
    "papermill": {
     "duration": 0.075182,
     "end_time": "2022-04-27T17:25:40.747788",
     "exception": false,
     "start_time": "2022-04-27T17:25:40.672606",
     "status": "completed"
    },
    "tags": []
   },
   "outputs": [],
   "source": [
    "# entities = []\n",
    "# entities.append((res.start(),res.end(),'p'))"
   ]
  },
  {
   "cell_type": "code",
   "execution_count": 20,
   "id": "229f7b24",
   "metadata": {
    "execution": {
     "iopub.execute_input": "2022-04-27T17:25:40.886695Z",
     "iopub.status.busy": "2022-04-27T17:25:40.886030Z",
     "iopub.status.idle": "2022-04-27T17:25:40.889486Z",
     "shell.execute_reply": "2022-04-27T17:25:40.889967Z",
     "shell.execute_reply.started": "2022-04-11T15:12:52.736619Z"
    },
    "papermill": {
     "duration": 0.074335,
     "end_time": "2022-04-27T17:25:40.890156",
     "exception": false,
     "start_time": "2022-04-27T17:25:40.815821",
     "status": "completed"
    },
    "tags": []
   },
   "outputs": [],
   "source": [
    "# entities"
   ]
  },
  {
   "cell_type": "code",
   "execution_count": 21,
   "id": "9db3b1e5",
   "metadata": {
    "execution": {
     "iopub.execute_input": "2022-04-27T17:25:41.028217Z",
     "iopub.status.busy": "2022-04-27T17:25:41.027432Z",
     "iopub.status.idle": "2022-04-27T17:25:41.030057Z",
     "shell.execute_reply": "2022-04-27T17:25:41.030595Z",
     "shell.execute_reply.started": "2022-04-11T15:06:11.546217Z"
    },
    "papermill": {
     "duration": 0.074855,
     "end_time": "2022-04-27T17:25:41.030804",
     "exception": false,
     "start_time": "2022-04-27T17:25:40.955949",
     "status": "completed"
    },
    "tags": []
   },
   "outputs": [],
   "source": [
    "# text"
   ]
  },
  {
   "cell_type": "code",
   "execution_count": null,
   "id": "db901376",
   "metadata": {
    "execution": {
     "iopub.execute_input": "2022-04-11T15:02:33.300092Z",
     "iopub.status.busy": "2022-04-11T15:02:33.299778Z",
     "iopub.status.idle": "2022-04-11T15:02:33.30711Z",
     "shell.execute_reply": "2022-04-11T15:02:33.306345Z",
     "shell.execute_reply.started": "2022-04-11T15:02:33.300061Z"
    },
    "papermill": {
     "duration": 0.066424,
     "end_time": "2022-04-27T17:25:41.167055",
     "exception": false,
     "start_time": "2022-04-27T17:25:41.100631",
     "status": "completed"
    },
    "tags": []
   },
   "outputs": [],
   "source": []
  },
  {
   "cell_type": "code",
   "execution_count": 22,
   "id": "94f0c5e7",
   "metadata": {
    "execution": {
     "iopub.execute_input": "2022-04-27T17:25:41.302942Z",
     "iopub.status.busy": "2022-04-27T17:25:41.302184Z",
     "iopub.status.idle": "2022-04-27T17:25:41.306493Z",
     "shell.execute_reply": "2022-04-27T17:25:41.305505Z",
     "shell.execute_reply.started": "2022-04-11T16:21:02.863037Z"
    },
    "papermill": {
     "duration": 0.073927,
     "end_time": "2022-04-27T17:25:41.306691",
     "exception": false,
     "start_time": "2022-04-27T17:25:41.232764",
     "status": "completed"
    },
    "tags": []
   },
   "outputs": [],
   "source": [
    "# import spacy\n",
    "# nlp = spacy.load('en_core_web_sm')"
   ]
  },
  {
   "cell_type": "code",
   "execution_count": 23,
   "id": "e34a7930",
   "metadata": {
    "execution": {
     "iopub.execute_input": "2022-04-27T17:25:41.447964Z",
     "iopub.status.busy": "2022-04-27T17:25:41.447176Z",
     "iopub.status.idle": "2022-04-27T17:25:41.449669Z",
     "shell.execute_reply": "2022-04-27T17:25:41.450139Z",
     "shell.execute_reply.started": "2022-04-09T12:19:47.776612Z"
    },
    "papermill": {
     "duration": 0.073806,
     "end_time": "2022-04-27T17:25:41.450368",
     "exception": false,
     "start_time": "2022-04-27T17:25:41.376562",
     "status": "completed"
    },
    "tags": []
   },
   "outputs": [],
   "source": [
    "# !pip install PyPDF2\n",
    "# import PyPDF2\n",
    "# fhandle = open(r'/kaggle/input/sample-pdf/D8communications.pdf', 'rb')\n",
    "# pdfReader = PyPDF2.PdfFileReader(fhandle)\n",
    "# pagehandle = pdfReader.getPage(4)\n",
    "# print(pagehandle.extractText())"
   ]
  },
  {
   "cell_type": "code",
   "execution_count": 24,
   "id": "835adb98",
   "metadata": {
    "execution": {
     "iopub.execute_input": "2022-04-27T17:25:41.589790Z",
     "iopub.status.busy": "2022-04-27T17:25:41.589002Z",
     "iopub.status.idle": "2022-04-27T17:25:41.592137Z",
     "shell.execute_reply": "2022-04-27T17:25:41.592656Z",
     "shell.execute_reply.started": "2022-04-09T12:25:37.701467Z"
    },
    "papermill": {
     "duration": 0.074342,
     "end_time": "2022-04-27T17:25:41.592853",
     "exception": false,
     "start_time": "2022-04-27T17:25:41.518511",
     "status": "completed"
    },
    "tags": []
   },
   "outputs": [],
   "source": [
    "# !pip install pdfplumber\n",
    "# import pdfplumber\n",
    "# with pdfplumber.open(r'/kaggle/input/sample-pdf/D8communications.pdf') as pdf:\n",
    "#     first_page = pdf.pages[3]\n",
    "#     print(first_page.extract_text())"
   ]
  },
  {
   "cell_type": "code",
   "execution_count": 25,
   "id": "6193ce41",
   "metadata": {
    "execution": {
     "iopub.execute_input": "2022-04-27T17:25:41.728050Z",
     "iopub.status.busy": "2022-04-27T17:25:41.727387Z",
     "iopub.status.idle": "2022-04-27T17:25:41.730338Z",
     "shell.execute_reply": "2022-04-27T17:25:41.729735Z",
     "shell.execute_reply.started": "2022-04-09T12:25:49.584635Z"
    },
    "papermill": {
     "duration": 0.072491,
     "end_time": "2022-04-27T17:25:41.730514",
     "exception": false,
     "start_time": "2022-04-27T17:25:41.658023",
     "status": "completed"
    },
    "tags": []
   },
   "outputs": [],
   "source": [
    "# !pip install pytesseract"
   ]
  },
  {
   "cell_type": "code",
   "execution_count": 26,
   "id": "383a7956",
   "metadata": {
    "execution": {
     "iopub.execute_input": "2022-04-27T17:25:41.865801Z",
     "iopub.status.busy": "2022-04-27T17:25:41.864568Z",
     "iopub.status.idle": "2022-04-27T17:25:41.868727Z",
     "shell.execute_reply": "2022-04-27T17:25:41.869191Z",
     "shell.execute_reply.started": "2022-04-09T14:49:10.656812Z"
    },
    "papermill": {
     "duration": 0.073313,
     "end_time": "2022-04-27T17:25:41.869421",
     "exception": false,
     "start_time": "2022-04-27T17:25:41.796108",
     "status": "completed"
    },
    "tags": []
   },
   "outputs": [],
   "source": [
    "# #!pip install pdf2image\n",
    "# !pip install poppler"
   ]
  },
  {
   "cell_type": "code",
   "execution_count": 27,
   "id": "5df59ab7",
   "metadata": {
    "execution": {
     "iopub.execute_input": "2022-04-27T17:25:42.006710Z",
     "iopub.status.busy": "2022-04-27T17:25:42.005954Z",
     "iopub.status.idle": "2022-04-27T17:25:42.009393Z",
     "shell.execute_reply": "2022-04-27T17:25:42.008714Z",
     "shell.execute_reply.started": "2022-04-09T14:57:24.756677Z"
    },
    "papermill": {
     "duration": 0.074054,
     "end_time": "2022-04-27T17:25:42.009591",
     "exception": false,
     "start_time": "2022-04-27T17:25:41.935537",
     "status": "completed"
    },
    "tags": []
   },
   "outputs": [],
   "source": [
    "# pdf2image.convert_from_path('/kaggle/input/sample-pdf/D8communications.pdf')"
   ]
  },
  {
   "cell_type": "code",
   "execution_count": 28,
   "id": "6424d1c0",
   "metadata": {
    "execution": {
     "iopub.execute_input": "2022-04-27T17:25:42.144820Z",
     "iopub.status.busy": "2022-04-27T17:25:42.143975Z",
     "iopub.status.idle": "2022-04-27T17:25:42.147299Z",
     "shell.execute_reply": "2022-04-27T17:25:42.148009Z",
     "shell.execute_reply.started": "2022-04-09T14:57:17.576149Z"
    },
    "papermill": {
     "duration": 0.072599,
     "end_time": "2022-04-27T17:25:42.148288",
     "exception": false,
     "start_time": "2022-04-27T17:25:42.075689",
     "status": "completed"
    },
    "tags": []
   },
   "outputs": [],
   "source": [
    "# import pdf2image\n",
    "# try:\n",
    "#     from PIL import Image\n",
    "# except ImportError:\n",
    "#     import Image\n",
    "# import pytesseract\n",
    "\n",
    "\n",
    "# def pdf_to_img(pdf_file):\n",
    "#     return pdf2image.convert_from_path(pdf_file)\n",
    "\n",
    "\n",
    "# def ocr_core(file):\n",
    "#     text = pytesseract.image_to_string(file)\n",
    "#     return text\n",
    "\n",
    "\n",
    "# def print_pages(pdf_file):\n",
    "#     images = pdf_to_img(pdf_file)\n",
    "#     for pg, img in enumerate(images):\n",
    "#         print(ocr_core(img))\n",
    "\n",
    "\n",
    "# print_pages('/kaggle/input/sample-pdf/D8communications.pdf')\n"
   ]
  },
  {
   "cell_type": "code",
   "execution_count": 29,
   "id": "8e5e7bbf",
   "metadata": {
    "execution": {
     "iopub.execute_input": "2022-04-27T17:25:42.287353Z",
     "iopub.status.busy": "2022-04-27T17:25:42.286682Z",
     "iopub.status.idle": "2022-04-27T17:25:42.290085Z",
     "shell.execute_reply": "2022-04-27T17:25:42.290649Z"
    },
    "papermill": {
     "duration": 0.073888,
     "end_time": "2022-04-27T17:25:42.290844",
     "exception": false,
     "start_time": "2022-04-27T17:25:42.216956",
     "status": "completed"
    },
    "tags": []
   },
   "outputs": [],
   "source": [
    "# import requests\n",
    "# import fitz\n",
    "# import io\n",
    "\n",
    "# #URL = 'https://buildmedia.readthedocs.org/media/pdf/pdfminer-docs/latest/pdfminer-docs.pdf'\n",
    "# URL = 'https://redactable-devox-stage.s3.us-east-2.amazonaws.com/tenants/41d9e109-693b-444c-aa18-e5891bc6550b/original/1a7c0e5d-3237-4ca9-9e3d-89e707245ac6/D8communications.pdf'\n",
    "\n",
    "\n",
    "# res = requests.get(URL)\n",
    "# filestream = io.BytesIO(res.content)\n",
    "# #res.content\n",
    "# filestream\n",
    "# doc = fitz.Document(stream=filestream)\n",
    "# page1 = doc.loadPage(3)\n",
    "# page1text = page1.getText(\"text\").encode(\"utf-8\").decode(\"utf-8\")\n",
    "# print(page1text)"
   ]
  },
  {
   "cell_type": "code",
   "execution_count": 30,
   "id": "a47c583f",
   "metadata": {
    "execution": {
     "iopub.execute_input": "2022-04-27T17:25:42.427030Z",
     "iopub.status.busy": "2022-04-27T17:25:42.426304Z",
     "iopub.status.idle": "2022-04-27T17:25:42.430915Z",
     "shell.execute_reply": "2022-04-27T17:25:42.431591Z",
     "shell.execute_reply.started": "2022-04-09T07:04:56.590103Z"
    },
    "papermill": {
     "duration": 0.074081,
     "end_time": "2022-04-27T17:25:42.431814",
     "exception": false,
     "start_time": "2022-04-27T17:25:42.357733",
     "status": "completed"
    },
    "tags": []
   },
   "outputs": [],
   "source": [
    "# import requests\n",
    "# import fitz\n",
    "\n",
    "# #URL = 'https://buildmedia.readthedocs.org/media/pdf/pdfminer-docs/latest/pdfminer-docs.pdf'\n",
    "# URL = 'https://redactable-devox-stage.s3.us-east-2.amazonaws.com/tenants/41d9e109-693b-444c-aa18-e5891bc6550b/original/1a7c0e5d-3237-4ca9-9e3d-89e707245ac6/D8communications.pdf'\n",
    "\n",
    "\n",
    "# res = requests.get(URL)\n",
    "# doc = fitz.open(stream=res.content,filetype=\"pdf\")\n",
    "# page1 = doc.loadPage(3)\n",
    "# page1text = page1.getText(\"text\")\n",
    "# #rect = (72.1149,661.2966,131.95729,675.1716)\n",
    "# rect=(72.10812377929688, 116.13427734375, 133.97142028808594, 146.4227294921875)\n",
    "# labelled_text = page1.get_textbox(rect)\n",
    "# print(labelled_text.strip())\n",
    "\n",
    "# fulltext = page1.get_text()\n",
    "# print(fulltext)\n",
    "# doc = nlp(fulltext)\n",
    "# sentences = []\n",
    "# for sent in doc.sents:\n",
    "#     if labelled_text in sent.text:\n",
    "#         text = sent.text\n",
    "#         print(text)\n",
    "# #print(page1text)"
   ]
  },
  {
   "cell_type": "code",
   "execution_count": 31,
   "id": "04a8fe8e",
   "metadata": {
    "execution": {
     "iopub.execute_input": "2022-04-27T17:25:42.571015Z",
     "iopub.status.busy": "2022-04-27T17:25:42.570197Z",
     "iopub.status.idle": "2022-04-27T17:25:42.572960Z",
     "shell.execute_reply": "2022-04-27T17:25:42.573557Z",
     "shell.execute_reply.started": "2022-04-08T16:42:57.6659Z"
    },
    "papermill": {
     "duration": 0.073635,
     "end_time": "2022-04-27T17:25:42.573767",
     "exception": false,
     "start_time": "2022-04-27T17:25:42.500132",
     "status": "completed"
    },
    "tags": []
   },
   "outputs": [],
   "source": [
    "#res.content"
   ]
  },
  {
   "cell_type": "code",
   "execution_count": 32,
   "id": "aeddea5c",
   "metadata": {
    "execution": {
     "iopub.execute_input": "2022-04-27T17:25:42.714558Z",
     "iopub.status.busy": "2022-04-27T17:25:42.713794Z",
     "iopub.status.idle": "2022-04-27T17:25:42.717949Z",
     "shell.execute_reply": "2022-04-27T17:25:42.718548Z",
     "shell.execute_reply.started": "2022-04-08T16:48:05.672392Z"
    },
    "papermill": {
     "duration": 0.077357,
     "end_time": "2022-04-27T17:25:42.718756",
     "exception": false,
     "start_time": "2022-04-27T17:25:42.641399",
     "status": "completed"
    },
    "tags": []
   },
   "outputs": [],
   "source": [
    "# import fitz\n",
    "# # mem_area=\n",
    "# # doc = fitz.open(stream=mem_area, filetype=\"pdf\")\n",
    "\n",
    "# import requests\n",
    "\n",
    "# URL = 'https://redactable-devox-stage.s3.us-east-2.amazonaws.com/tenants/41d9e109-693b-444c-aa18-e5891bc6550b/original/1a7c0e5d-3237-4ca9-9e3d-89e707245ac6/D8communications.pdf'\n",
    "\n",
    "# #res = requests.get(URL)\n",
    "# doc=fitz.open(\"/kaggle/input/sample-pdf/D8communications.pdf\")\n",
    "# #doc = fitz.open(stream=res.content,filetype=\"pdf\")\n",
    "# page1 = doc.loadPage(4)\n",
    "# # page1text = page1.getText(\"text\")\n",
    "# # print(page1text)\n",
    "# blocks = page1.getText(\"blocks\")\n",
    "# blocks.sort(key=lambda block: block[1])  # sort vertically ascending\n",
    "\n",
    "# for b in blocks:\n",
    "#     print(b[4])\n"
   ]
  },
  {
   "cell_type": "code",
   "execution_count": 33,
   "id": "cb4c88b7",
   "metadata": {
    "execution": {
     "iopub.execute_input": "2022-04-27T17:25:42.855650Z",
     "iopub.status.busy": "2022-04-27T17:25:42.854936Z",
     "iopub.status.idle": "2022-04-27T17:25:42.859658Z",
     "shell.execute_reply": "2022-04-27T17:25:42.858871Z",
     "shell.execute_reply.started": "2022-04-08T16:48:13.086323Z"
    },
    "papermill": {
     "duration": 0.073845,
     "end_time": "2022-04-27T17:25:42.859824",
     "exception": false,
     "start_time": "2022-04-27T17:25:42.785979",
     "status": "completed"
    },
    "tags": []
   },
   "outputs": [],
   "source": [
    "# # page = doc[1]\n",
    "# words = page.get_text(\"words\")\n",
    "# #print(words)\n",
    "# rect = (72.1149,661.2966,131.95729,675.1716)\n",
    "\n",
    "# labelled_text = page.get_textbox(rect)\n",
    "# # labelled_text"
   ]
  },
  {
   "cell_type": "markdown",
   "id": "123a4117",
   "metadata": {
    "papermill": {
     "duration": 0.069468,
     "end_time": "2022-04-27T17:25:42.997512",
     "exception": false,
     "start_time": "2022-04-27T17:25:42.928044",
     "status": "completed"
    },
    "tags": []
   },
   "source": [
    "pip install PyPDF2"
   ]
  },
  {
   "cell_type": "code",
   "execution_count": null,
   "id": "576c248f",
   "metadata": {
    "papermill": {
     "duration": 0.065407,
     "end_time": "2022-04-27T17:25:43.131476",
     "exception": false,
     "start_time": "2022-04-27T17:25:43.066069",
     "status": "completed"
    },
    "tags": []
   },
   "outputs": [],
   "source": []
  },
  {
   "cell_type": "code",
   "execution_count": 34,
   "id": "e45100bc",
   "metadata": {
    "execution": {
     "iopub.execute_input": "2022-04-27T17:25:43.270430Z",
     "iopub.status.busy": "2022-04-27T17:25:43.269677Z",
     "iopub.status.idle": "2022-04-27T17:25:43.273052Z",
     "shell.execute_reply": "2022-04-27T17:25:43.272381Z",
     "shell.execute_reply.started": "2022-03-18T16:48:58.370268Z"
    },
    "papermill": {
     "duration": 0.075108,
     "end_time": "2022-04-27T17:25:43.273229",
     "exception": false,
     "start_time": "2022-04-27T17:25:43.198121",
     "status": "completed"
    },
    "tags": []
   },
   "outputs": [],
   "source": [
    "# import pandas as pd\n",
    "# h={'step': 0, 'type': 'string', 'amount': 0.0, 'nameOrig': 'C1231006815', 'oldbalanceOrig': 0.0, 'newbalanceOrig': 0.0, 'nameDest': 'M1979787155', 'oldbalanceDest': 0.0, 'newbalanceDest': 0.0}\n",
    "# df=pd.DataFrame([h])"
   ]
  },
  {
   "cell_type": "code",
   "execution_count": 35,
   "id": "0c015f65",
   "metadata": {
    "execution": {
     "iopub.execute_input": "2022-04-27T17:25:43.409681Z",
     "iopub.status.busy": "2022-04-27T17:25:43.408890Z",
     "iopub.status.idle": "2022-04-27T17:25:43.412273Z",
     "shell.execute_reply": "2022-04-27T17:25:43.411735Z",
     "shell.execute_reply.started": "2022-04-09T17:21:26.021615Z"
    },
    "papermill": {
     "duration": 0.073586,
     "end_time": "2022-04-27T17:25:43.412458",
     "exception": false,
     "start_time": "2022-04-27T17:25:43.338872",
     "status": "completed"
    },
    "tags": []
   },
   "outputs": [],
   "source": [
    "#df"
   ]
  },
  {
   "cell_type": "code",
   "execution_count": null,
   "id": "def1e62b",
   "metadata": {
    "papermill": {
     "duration": 0.064767,
     "end_time": "2022-04-27T17:25:43.543072",
     "exception": false,
     "start_time": "2022-04-27T17:25:43.478305",
     "status": "completed"
    },
    "tags": []
   },
   "outputs": [],
   "source": []
  }
 ],
 "metadata": {
  "kernelspec": {
   "display_name": "Python 3",
   "language": "python",
   "name": "python3"
  },
  "language_info": {
   "codemirror_mode": {
    "name": "ipython",
    "version": 3
   },
   "file_extension": ".py",
   "mimetype": "text/x-python",
   "name": "python",
   "nbconvert_exporter": "python",
   "pygments_lexer": "ipython3",
   "version": "3.7.12"
  },
  "papermill": {
   "default_parameters": {},
   "duration": 24.30152,
   "end_time": "2022-04-27T17:25:44.421039",
   "environment_variables": {},
   "exception": null,
   "input_path": "__notebook__.ipynb",
   "output_path": "__notebook__.ipynb",
   "parameters": {},
   "start_time": "2022-04-27T17:25:20.119519",
   "version": "2.3.3"
  }
 },
 "nbformat": 4,
 "nbformat_minor": 5
}
