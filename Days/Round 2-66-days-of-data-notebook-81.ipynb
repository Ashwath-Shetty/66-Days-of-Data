{
 "cells": [
  {
   "cell_type": "code",
   "execution_count": 1,
   "id": "22890a36",
   "metadata": {
    "_cell_guid": "b1076dfc-b9ad-4769-8c92-a6c4dae69d19",
    "_uuid": "8f2839f25d086af736a60e9eeb907d3b93b6e0e5",
    "execution": {
     "iopub.execute_input": "2022-05-30T16:39:48.643713Z",
     "iopub.status.busy": "2022-05-30T16:39:48.640748Z",
     "iopub.status.idle": "2022-05-30T16:39:48.655216Z",
     "shell.execute_reply": "2022-05-30T16:39:48.656105Z",
     "shell.execute_reply.started": "2022-04-12T14:12:25.248687Z"
    },
    "papermill": {
     "duration": 0.096819,
     "end_time": "2022-05-30T16:39:48.656542",
     "exception": false,
     "start_time": "2022-05-30T16:39:48.559723",
     "status": "completed"
    },
    "tags": []
   },
   "outputs": [
    {
     "name": "stdout",
     "output_type": "stream",
     "text": [
      "/kaggle/input/sample-pdf/D8communications.pdf\n"
     ]
    }
   ],
   "source": [
    "# This Python 3 environment comes with many helpful analytics libraries installed\n",
    "# It is defined by the kaggle/python Docker image: https://github.com/kaggle/docker-python\n",
    "# For example, here's several helpful packages to load\n",
    "\n",
    "import numpy as np # linear algebra\n",
    "import pandas as pd # data processing, CSV file I/O (e.g. pd.read_csv)\n",
    "\n",
    "# Input data files are available in the read-only \"../input/\" directory\n",
    "# For example, running this (by clicking run or pressing Shift+Enter) will list all files under the input directory\n",
    "\n",
    "import os\n",
    "for dirname, _, filenames in os.walk('/kaggle/input'):\n",
    "    for filename in filenames:\n",
    "        print(os.path.join(dirname, filename))\n",
    "\n",
    "# You can write up to 20GB to the current directory (/kaggle/working/) that gets preserved as output when you create a version using \"Save & Run All\" \n",
    "# You can also write temporary files to /kaggle/temp/, but they won't be saved outside of the current session"
   ]
  },
  {
   "cell_type": "markdown",
   "id": "d1ba32b6",
   "metadata": {
    "papermill": {
     "duration": 0.069205,
     "end_time": "2022-05-30T16:39:48.798680",
     "exception": false,
     "start_time": "2022-05-30T16:39:48.729475",
     "status": "completed"
    },
    "tags": []
   },
   "source": [
    "# **Start Date: 12/3/2022**"
   ]
  },
  {
   "cell_type": "markdown",
   "id": "43fefb78",
   "metadata": {
    "papermill": {
     "duration": 0.072731,
     "end_time": "2022-05-30T16:39:48.942903",
     "exception": false,
     "start_time": "2022-05-30T16:39:48.870172",
     "status": "completed"
    },
    "tags": []
   },
   "source": [
    "# **Day 1:** \n",
    "<br>dataquest -> stats -> probability-> estimating probability\n",
    "1. out come is nothing but o/p of an experiment\n",
    "ex: whatever u get after rolling a dice -> it can be any number\n",
    "2. event can have more than one outcome\n",
    "- e.x: The event that we'll get an odd number when we roll a six-sided die — this event includes the outcomes 1, 3, and 5.\n",
    "- an event can be 0 as well.\n",
    "- We always assign probabilities to events, not outcomes, even if the event includes only one outcome.\n",
    "- P(E) =1/total number of possible outcomes, P(E) probability of an event happening.\n",
    "- but above formula doesn't work always, especially when there are more than one outcome\n",
    "    - P(E)=number of successful outcomes/total number of possible outcomes\n",
    "- incase of a biased situation \n",
    "  - let's say a die has 6 - 3 times which is 1,6,3,5,6,6\n",
    "    we will consider 6 as 3 times not 1.\n",
    "    possible outcome-> 1,3,5,6,6,6\n",
    "    prob(6)=3/6\n",
    "    prob(3)=1/6\n",
    "    prob(2)=0/6\n",
    "    If we didn't treat each 6 differently and said it doesn't matter which side a 6 is on, \n",
    "    <br>we'd be forced to conclude the only possible outcomes are 1, 3, 5 and 6. We can definitely         <br>frame the problem like that, but the formula above won't work anymore — we see below P(6) <br>becomes the same as P(3), but, intuitively, P(6) should be higher than P(3) since the die has 6 on     <br>three of its sides:\n"
   ]
  },
  {
   "cell_type": "markdown",
   "id": "a79bf46e",
   "metadata": {
    "papermill": {
     "duration": 0.069805,
     "end_time": "2022-05-30T16:39:49.082597",
     "exception": false,
     "start_time": "2022-05-30T16:39:49.012792",
     "status": "completed"
    },
    "tags": []
   },
   "source": [
    "Estimating Probabilities Conclusion\n",
    "- emperical/ experimental probability\n",
    "  - probability achieved by experimenting / by doing the same event multiple times.\n",
    "  - Generally, for any event E (like a coin landing heads up), we can find its empirical probability   \n",
    "     by using the following formula: \n",
    "     •P (E) =number of times event E happened/ number of times we repeated the experiment   \n",
    " - Generally, the empirical probability of an event (a coin landing heads up, getting a 5 when weroll a die) approaches the true probability value as the number of trials of the randomexperiment (a coin toss, the rolling of a die) increases without bound.\n",
    "- When we calculate the probability of an event under the assumption that the outcomes have equal chances of occurring, we say that we're calculating the **theoretical probability** of an event.\n",
    "   - P(E)=number of successful outcomes/total number of possible outcomes\n",
    "\n"
   ]
  },
  {
   "cell_type": "markdown",
   "id": "d3e067c8",
   "metadata": {
    "papermill": {
     "duration": 0.068484,
     "end_time": "2022-05-30T16:39:49.219718",
     "exception": false,
     "start_time": "2022-05-30T16:39:49.151234",
     "status": "completed"
    },
    "tags": []
   },
   "source": [
    "# **Day 2**\n",
    "<br>dataquest-> stats -> intro to probability -> probability rules\n",
    "<br>In probability theory, the set of all possible outcomes is called a sample space. A sample space is often denoted by the capital Greek letter Ω (read \"omega\"). This is how we represent the sample space of a die roll:\n",
    "\n",
    "Ω = {1,2,3,4,5,6}\n",
    "-    The probability of any event ranges between 0 and 1: 0≤ P(Event) ≤1\n",
    "- To calculate P(A or B), we can also use the formula below, which is sometimes called the addition rule: P(A or B) = P(A) + P(B)\n",
    "  - Sample space ={ 1,2,3,4,5,6} \n",
    "  - P(2 or 5) = 2/6\n",
    "\n",
    "- P(C or D) = P(C) + P(D) - P(C and D)\n",
    "   - e.x : Sample_space ={2,4,6} + { 4,5,6} - {4/6}\n",
    "      P( even number or number greater than 3) = ( (3/6) + (3/6) )- (2/6) = 4/6\n",
    "- Events that don't intersect are called mutually exclusive.\n",
    "  - e.x: Getting a 5 (event one) and getting a 3 (event two) when we roll a regular six-sided die — it's  impossible to get both a 5 and 3.\n",
    "- Events that intersect are called mutually non-exclusive.\n",
    "  - Getting a number greater than 2 (event one) and getting an odd number (event two) when we roll a regular six-sided die — we could get a 5, which is both greater than 2 (event one) and odd (event two).\n",
    "- unioun -> A or B, intersection -> A and B"
   ]
  },
  {
   "cell_type": "markdown",
   "id": "b8f76daf",
   "metadata": {
    "papermill": {
     "duration": 0.068439,
     "end_time": "2022-05-30T16:39:49.356672",
     "exception": false,
     "start_time": "2022-05-30T16:39:49.288233",
     "status": "completed"
    },
    "tags": []
   },
   "source": [
    "# Day 3 and 4\n",
    "dataquest -> stats -> probabilities -> solving complex probabilities\n",
    "- This is the same result we got from our previous approach. In more general terms, the multiplication rule says that for two events E1 and E2, the probability that both event E1 and E2 happen can be found by multiplying the probability of E1 by the probability of E2:\n",
    "    - P(E1 ∩ E2) = P(E1) × P(E2)\n",
    "    - Events that don't influence each other's probability are called independent events. If H1 happens, P(H2) stays the same, so H1 and H2 are independent. The multiplication rule we learned only works for independent events.\n",
    "    "
   ]
  },
  {
   "cell_type": "markdown",
   "id": "5dc55d1a",
   "metadata": {
    "papermill": {
     "duration": 0.070769,
     "end_time": "2022-05-30T16:39:49.496442",
     "exception": false,
     "start_time": "2022-05-30T16:39:49.425673",
     "status": "completed"
    },
    "tags": []
   },
   "source": [
    "# Day 5\n",
    "- When we replace the cards after drawing, we say that we're sampling with replacement. When we don't put the cards back, we're sampling without replacement. \n"
   ]
  },
  {
   "cell_type": "markdown",
   "id": "7d4a7f7b",
   "metadata": {
    "papermill": {
     "duration": 0.069921,
     "end_time": "2022-05-30T16:39:49.635187",
     "exception": false,
     "start_time": "2022-05-30T16:39:49.565266",
     "status": "completed"
    },
    "tags": []
   },
   "source": [
    "# Day6\n",
    "dataquest-> prob and stats -> probability fundamentals -> permutation and combinations\n",
    "Generally, if we have an experiment E1 (like flipping a coin) with a outcomes, followed by an experiment E2 (like rolling a die) with b outcomes, then the total number of outcomes for the composite experiment E1E2 can be found by multiplying a with b:\n",
    "\n",
    "Number of outcomes = a * b"
   ]
  },
  {
   "cell_type": "markdown",
   "id": "4997814e",
   "metadata": {
    "papermill": {
     "duration": 0.068498,
     "end_time": "2022-05-30T16:39:49.773029",
     "exception": false,
     "start_time": "2022-05-30T16:39:49.704531",
     "status": "completed"
    },
    "tags": []
   },
   "source": [
    "# Day 7\n",
    "dataquest-> prob and stats -> probability fundamentals -> permutation and combinations <br>\n",
    "More generally, if we have an experiment E1 with a outcomes, followed by an experiment E2 with b outcomes, followed by an experiment En with z outcomes, the total number of outcomes for the composite experiment E1E2 ... En can be found by multiplying their individual outcomes:\n",
    "\n",
    "Number of outcomes= a * b * … * z"
   ]
  },
  {
   "cell_type": "markdown",
   "id": "7b08807c",
   "metadata": {
    "papermill": {
     "duration": 0.069935,
     "end_time": "2022-05-30T16:39:49.912002",
     "exception": false,
     "start_time": "2022-05-30T16:39:49.842067",
     "status": "completed"
    },
    "tags": []
   },
   "source": [
    "# Day 8\n",
    "dataquest-> prob and stats -> probability fundamentals -> permutation and combinations <br>\n",
    "permutations= n*(n-1)*(n-2)*....*2*1\n"
   ]
  },
  {
   "cell_type": "markdown",
   "id": "114b085a",
   "metadata": {
    "papermill": {
     "duration": 0.069361,
     "end_time": "2022-05-30T16:39:50.050471",
     "exception": false,
     "start_time": "2022-05-30T16:39:49.981110",
     "status": "completed"
    },
    "tags": []
   },
   "source": [
    "# Day 9\n",
    "dataquest-> prob and stats -> probability fundamentals -> permutation and combinations\n",
    "- in permutation order of the individual element in the arranement matters.\n",
    "   - for e.x: 9821 is different than 9281\n",
    "   - Permutations =n!  --> sample without replacement-> we are not putting back the sampled data.\n",
    "   - On the last screen, we learned to use the formula below to calculate permutations when we're sampling without replacement and taking only k objects from a group of n objects:\n",
    "   npk=n!/(n-k)!"
   ]
  },
  {
   "cell_type": "markdown",
   "id": "deac5ebc",
   "metadata": {
    "papermill": {
     "duration": 0.068746,
     "end_time": "2022-05-30T16:39:50.188442",
     "exception": false,
     "start_time": "2022-05-30T16:39:50.119696",
     "status": "completed"
    },
    "tags": []
   },
   "source": [
    "# Day 10\n",
    "dataquest-> prob and stats -> probability fundamentals -> permutation and combinations\n",
    "- More generally, if the order of the elements in an arrangement doesn't matter, the arrangement is called a combination.\n",
    "- e.x: cards in a deck \n",
    "- nCk = n! / ((n-k)!*k!)"
   ]
  },
  {
   "cell_type": "markdown",
   "id": "3b4902ed",
   "metadata": {
    "papermill": {
     "duration": 0.068757,
     "end_time": "2022-05-30T16:39:50.326069",
     "exception": false,
     "start_time": "2022-05-30T16:39:50.257312",
     "status": "completed"
    },
    "tags": []
   },
   "source": [
    "# Day 11\n",
    "dataquest-> prob and stats -> probability fundamentals -> permutation and combinations\n",
    "- solved 1 probability problem.\n"
   ]
  },
  {
   "cell_type": "markdown",
   "id": "a080d972",
   "metadata": {
    "papermill": {
     "duration": 0.069011,
     "end_time": "2022-05-30T16:39:50.465616",
     "exception": false,
     "start_time": "2022-05-30T16:39:50.396605",
     "status": "completed"
    },
    "tags": []
   },
   "source": [
    "# Day 12\n",
    "dataquest-> prob and stats -> probability fundamentals -> permutation and combinations\n",
    "- finished probability and permutations by revising them.\n",
    "- If we have an experiment E1 (like flipping a coin) with a outcomes, followed by an experiment E2(like rolling a die) with b outcomes, then the total number of outcomes for the compositeexperiment E1E2 can be found by multiplying a with b (this is known as the rule of product):\n",
    "  - number of outcomes = a*b\n",
    "- If we have an experiment E1 with a outcomes, followed by an experiment E2 with b outcomes,followed by an experiment En with z outcomes, the total number of outcomes for the compositeexperiment E1E2 ... En can be found by multiplying their individual outcomes:\n",
    "   - number of outcomes = a*b* ... *z\n",
    "- There are two kinds of arrangements:\n",
    "   - •Arrangements where the order matters, which we call permutations.\n",
    "   - •Arrangements where the order doesn't matter, which we call combination\n",
    "- To find the number of permutations when we're sampling without replacement, we can use theformula:\n",
    "  - permutation = n!\n",
    "- To find the number of permutations when we're sampling without replacement and taking only kobjects from a group of n objects, we can use the formula:\n",
    "  - nPk = n!/(n-k)!\n",
    "- To find the number of combinations when we're sampling without replacement and taking only kobjects from a group of n objects, we can use the formula\n",
    "  - nCk = n! / ((n-k)!*k!)"
   ]
  },
  {
   "cell_type": "markdown",
   "id": "6f82c423",
   "metadata": {
    "papermill": {
     "duration": 0.068691,
     "end_time": "2022-05-30T16:39:50.603639",
     "exception": false,
     "start_time": "2022-05-30T16:39:50.534948",
     "status": "completed"
    },
    "tags": []
   },
   "source": [
    "# Day 13\n",
    "dataquest-> prob and stats -> probability fundamentals -> conditional probabilities\n",
    "- first 2 slides -> mainly the recap of old chapter(above one).\n"
   ]
  },
  {
   "cell_type": "markdown",
   "id": "ba91de5d",
   "metadata": {
    "papermill": {
     "duration": 0.068574,
     "end_time": "2022-05-30T16:39:50.741275",
     "exception": false,
     "start_time": "2022-05-30T16:39:50.672701",
     "status": "completed"
    },
    "tags": []
   },
   "source": [
    "# Day 14\n",
    "dataquest-> prob and stats -> probability fundamentals -> conditional probabilities\n",
    "<br>slide 4 completed\n",
    "<br>conditional probabilities\n",
    "- probabilities with condition\n",
    "- P(5)=What is the probability of getting a 5? -> normal probability\n",
    "- P(5 | odd) =What is the probability of getting a 5 given the die showed an odd number? -> conditional prob.\n",
    "\n"
   ]
  },
  {
   "cell_type": "markdown",
   "id": "5afeee9e",
   "metadata": {
    "papermill": {
     "duration": 0.070785,
     "end_time": "2022-05-30T16:39:50.881481",
     "exception": false,
     "start_time": "2022-05-30T16:39:50.810696",
     "status": "completed"
    },
    "tags": []
   },
   "source": [
    "# Day 15\n",
    "dataquest-> prob and stats -> probability fundamentals -> conditional probabilities\n",
    "- on slide 5 not done yet.\n",
    "\n",
    "Say we roll a fair six-sided die and want to find the probability of getting an odd number, given the die showed a number greater than 1 after landing. Using probability notation, we want to find P(A|B) where:\n",
    "\n",
    "- A is the event that the number is odd: A = {1, 3, 5}\n",
    "- B is the event that the number is greater than 1: B = {2, 3, 4, 5, 6}\n",
    "- P(A/B)=number of succesfull outcomes / total number of outcomes.\n"
   ]
  },
  {
   "cell_type": "markdown",
   "id": "a323c919",
   "metadata": {
    "papermill": {
     "duration": 0.069431,
     "end_time": "2022-05-30T16:39:51.019455",
     "exception": false,
     "start_time": "2022-05-30T16:39:50.950024",
     "status": "completed"
    },
    "tags": []
   },
   "source": [
    "# Day 16 and 17\n",
    "dataquest-> prob and stats -> probability fundamentals -> conditional probabilities\n",
    "\n",
    "on slide 6 not done yet."
   ]
  },
  {
   "cell_type": "markdown",
   "id": "c48547c1",
   "metadata": {
    "papermill": {
     "duration": 0.068087,
     "end_time": "2022-05-30T16:39:51.156306",
     "exception": false,
     "start_time": "2022-05-30T16:39:51.088219",
     "status": "completed"
    },
    "tags": []
   },
   "source": [
    "# Day 18\n",
    "dataquest-> prob and stats -> probability fundamentals -> conditional probabilities\n",
    "<br>slide 5 code half done"
   ]
  },
  {
   "cell_type": "markdown",
   "id": "a1a20ce9",
   "metadata": {
    "papermill": {
     "duration": 0.067802,
     "end_time": "2022-05-30T16:39:51.292512",
     "exception": false,
     "start_time": "2022-05-30T16:39:51.224710",
     "status": "completed"
    },
    "tags": []
   },
   "source": [
    "# Day 19\n",
    "- The number of elements in a set is called the cardinal of the set. \n",
    "  Ω is a set, and the cardinal of \n",
    "   Ω = { 2,3,4,5,6}\n",
    "   cardinal(Ω)=5\n",
    "- P(A | B) = card(A ∩ B) / card(B)\n",
    "- Say we roll a fair six-sided die and want to find the probability of getting an odd number, given the die showed a number greater than 1 after landing. Using probability notation, we want to find P(A|B) where:\n",
    "    - A is the event that the number is odd: A = {1, 3, 5}\n",
    "     - B is the event that the number is greater than 1: B = {2, 3, 4, 5, 6}\n",
    "     - total number of possible outcomes = card({2,3,4,5,6}) =5\n",
    "     - number of successful outcomes = card({3,5})= 2\n",
    "- P(A | B) = card(A ∩ B) / card(B), we can also get the same result using P(A | B) = prob(A ∩ B) / prob(B)\n",
    "\n",
    "     "
   ]
  },
  {
   "cell_type": "markdown",
   "id": "fed0e082",
   "metadata": {
    "papermill": {
     "duration": 0.067754,
     "end_time": "2022-05-30T16:39:51.428735",
     "exception": false,
     "start_time": "2022-05-30T16:39:51.360981",
     "status": "completed"
    },
    "tags": []
   },
   "source": [
    "# Day 20\n",
    "dataquest-> prob and stats -> probability fundamentals -> conditional probabilities intermediate\n",
    "<br> slide 1 and 2\n",
    "- P( A | B ) ≠ P(A ∩ B), but rather:\n",
    "   - P(A | B) = P(A ∩ B) / P(B)\n",
    "   - P(A ∩ B) = P(A | B) ⋅ P(B)\n",
    "- Given that a customer bought a laptop, they will or will not also buy a mouse. This means we can be certain that either event (M|L) or (M^C|L) will happen:\n",
    "     - P(M | L) + P(M^C | L) = 1\n",
    "\n"
   ]
  },
  {
   "cell_type": "markdown",
   "id": "cb5a7b60",
   "metadata": {
    "papermill": {
     "duration": 0.067983,
     "end_time": "2022-05-30T16:39:51.564964",
     "exception": false,
     "start_time": "2022-05-30T16:39:51.496981",
     "status": "completed"
    },
    "tags": []
   },
   "source": [
    "# Day 21\n",
    "dataquest-> prob and stats -> probability fundamentals -> conditional probabilities intermediate\n",
    "slide 1 and 2\n",
    "- P(A ∩ B) = P(B ∩ A)\n",
    "- multiplication rule of probability\n",
    "  -  P(A ∩ B) = P(B) ⋅ P(A | B) \n",
    "  - P(A ∩ B) = P(A) ⋅ P(B | A)\n",
    "- if P(A) and P(B) are statistically independent then \n",
    "  - P(A ∩ B) = P(A) ⋅ P(B)\n",
    "\n"
   ]
  },
  {
   "cell_type": "markdown",
   "id": "06d0d8ad",
   "metadata": {
    "papermill": {
     "duration": 0.067886,
     "end_time": "2022-05-30T16:39:51.701798",
     "exception": false,
     "start_time": "2022-05-30T16:39:51.633912",
     "status": "completed"
    },
    "tags": []
   },
   "source": [
    "# Day 22\n",
    "dataquest-> prob and stats -> probability fundamentals -> conditional probabilities intermediate \n",
    "<br>slide 6\n",
    "- If events events A and B are dependent, it means the occurrence of event A changes the probability of event B and vice versa.\n",
    "   - P(A) ≠ P(A | B)\n",
    "   - P(B) ≠ P(B | A)\n",
    "   - P(A ∩ B) ≠ P(A) ⋅ P(B)\n",
    "   - formula will become P(A ∩ B) ≠ P(A) ⋅ P(B/A)\n",
    "   "
   ]
  },
  {
   "cell_type": "markdown",
   "id": "546e29dd",
   "metadata": {
    "papermill": {
     "duration": 0.069809,
     "end_time": "2022-05-30T16:39:51.841734",
     "exception": false,
     "start_time": "2022-05-30T16:39:51.771925",
     "status": "completed"
    },
    "tags": []
   },
   "source": [
    "# Day 23\n",
    "dataquest-> prob and stats -> probability fundamentals -> conditional probabilities intermediate\n",
    "<br>slide 7 to last\n",
    "- To find whether three events — A, B, C — are independent or not, below conditions must hold true -\n",
    "  - P(A ∩ B) ≠ P(A) ⋅ P(B)\n",
    "  - P(A ∩ C) ≠ P(A) ⋅ P(C)\n",
    "  - P(B ∩ C) ≠ P(B) ⋅ P(C)\n",
    "  - P(A ∩ B ∩ C) ≠ P(A) ⋅ P(B) . P(C)\n",
    "- multiplication rule for conditional probability or dependent events\n",
    " - P(A ∩ B ∩ C) = P(A) ⋅ P(B | A) ⋅ P(C | A ∩ B)\n",
    " \n",
    "\n"
   ]
  },
  {
   "cell_type": "markdown",
   "id": "64276fb0",
   "metadata": {
    "papermill": {
     "duration": 0.068606,
     "end_time": "2022-05-30T16:39:51.981174",
     "exception": false,
     "start_time": "2022-05-30T16:39:51.912568",
     "status": "completed"
    },
    "tags": []
   },
   "source": [
    "# Day 24\n",
    "dataquest-> prob and stats -> probability fundamentals -> bayes theorem\n",
    "<br>slide 1\n",
    "- independent -> one event is dependent on other\n",
    "   - P(A ∩ B) = P(A) ⋅ P(B/A)\n",
    "- independent -> one event is not dependent on other.\n",
    "   - P(A ∩ B) = P(A) ⋅ P(B)\n",
    "- mutually exclusive -> both the events cannot happen at the same time.\n",
    "   - P(A ∩ B) = 0\n",
    "\n"
   ]
  },
  {
   "cell_type": "markdown",
   "id": "695d7925",
   "metadata": {
    "papermill": {
     "duration": 0.068377,
     "end_time": "2022-05-30T16:39:52.119138",
     "exception": false,
     "start_time": "2022-05-30T16:39:52.050761",
     "status": "completed"
    },
    "tags": []
   },
   "source": [
    "# Day 25\n",
    "dataquest-> prob and stats -> probability fundamentals -> bayes theorem\n",
    "<br>slide 2\n",
    "- If two events are exhaustive, it means they make up the whole sample space Ω\n",
    "  -  P(A) = P(A ∩ B) + P(A ∩ B^c)\n",
    "     P(A) = (P(B) * P(A/B)) +  (P(B^c) * P(A/B^c))\n",
    "     \n",
    "     "
   ]
  },
  {
   "cell_type": "markdown",
   "id": "7b63e097",
   "metadata": {
    "papermill": {
     "duration": 0.068459,
     "end_time": "2022-05-30T16:39:52.256372",
     "exception": false,
     "start_time": "2022-05-30T16:39:52.187913",
     "status": "completed"
    },
    "tags": []
   },
   "source": [
    "# Day 26\n",
    "dataquest-> prob and stats -> probability fundamentals -> bayes theorem\n",
    "<br>slide 3 - last\n",
    "- the law of total probability\n",
    "  - P(A)  = (P(B1) * P(A/B1)) + (P(B2) * P(A/B2))+ ... + (P(Bn) * P(A/Bn)))\n",
    "  - P(A) =(summattion i=1 to n) P(Bi) ⋅ P(A|Bi)\n",
    "- Baye's theorem\n",
    "  - P(B | A) = (P(B) ⋅ P(A | B)) / (n ∑i=1 P(Bi) ⋅ P(A | Bi))\n",
    "- The probability of being infected with HIV before doing any test is called the prior probability (\"prior\" means \"before\"). The probability of being infected with HIV after testing positive is called the posterior probability (\"posterior\" means \"after\").\n",
    "\n",
    "\n",
    "  "
   ]
  },
  {
   "cell_type": "markdown",
   "id": "aca2c0cc",
   "metadata": {
    "papermill": {
     "duration": 0.068092,
     "end_time": "2022-05-30T16:39:52.393379",
     "exception": false,
     "start_time": "2022-05-30T16:39:52.325287",
     "status": "completed"
    },
    "tags": []
   },
   "source": [
    "# Day 27\n",
    "dataquest-> prob and stats -> probability fundamentals -> naive bayes theorem\n",
    "<br>slide 1 - \n",
    "P(Spam|w1,w2,w3,w4)∝P(Spam)⋅P(w1|Spam)⋅P(w2|Spam)⋅P(w3|Spam)⋅P(w4|Spam)P(SpamC|w1,w2,w3,w4)∝P(SpamC)⋅P(w1|SpamC)⋅P(w2|SpamC)⋅P(w3|SpamC)⋅P(w4|SpamC)"
   ]
  },
  {
   "cell_type": "markdown",
   "id": "16786e01",
   "metadata": {
    "papermill": {
     "duration": 0.06807,
     "end_time": "2022-05-30T16:39:52.529834",
     "exception": false,
     "start_time": "2022-05-30T16:39:52.461764",
     "status": "completed"
    },
    "tags": []
   },
   "source": [
    "# Day 28\n",
    "dataquest-> prob and stats -> probability fundamentals -> naive bayes theorem\n",
    "<br>finished.\n",
    "<br>**Summary**\n",
    "- P(Spam|w1,w2,...,wn)∝P(Spam)⋅n∏i=1P(wi|Spam)\n",
    "- P(SpamC|w1,w2,...,wn)∝P(SpamC)⋅n∏i=1P(wi|SpamC)\n",
    "- To calculate P(wi|Spam) and P(wi|SpamC), we need to use the additive smoothing technique: \n",
    "- P ( w i | S p a m ) = (N w i | S p a m + α) / ( N S p a m + α ⋅ N V o c a b u l a r y )\n",
    "- P ( w i | S p a m C ) = (N w i | S p a m C + α) / ( N S p a m C + α ⋅ N V o c a b u l a r y )\n",
    "     - N w i | S p a m = the number of times the word w i occurs in spam messages \n",
    "     - N w i | S p a m C = the number of times the word w i occurs in non-spam messages \n",
    "     - N S p a m = total number of words in spam messages \n",
    "     - N S p a m C = total number of words in non-spam messages \n",
    "     - N V o c a b u l a r y = total number of words in the vocabulary \n",
    "     - α = 1 ( α is a smoothing parameter )\n",
    " - naive bayes theorem assumes that events are not dependent.\n",
    " - The assumption of conditional independence between words is thus naive since it rarely holds in practice, and this is why the algorithm is called Naive Bayes (also called simple Bayes or independence Bayes)."
   ]
  },
  {
   "cell_type": "markdown",
   "id": "adeefeb5",
   "metadata": {
    "papermill": {
     "duration": 0.068208,
     "end_time": "2022-05-30T16:39:52.666647",
     "exception": false,
     "start_time": "2022-05-30T16:39:52.598439",
     "status": "completed"
    },
    "tags": []
   },
   "source": [
    "# Day 29,30,31\n",
    "<br>dataquest-> prob and stats -> probability fundamentals -> conditional probability-> guided projects\n",
    "<br> in progress"
   ]
  },
  {
   "cell_type": "markdown",
   "id": "7007576d",
   "metadata": {
    "papermill": {
     "duration": 0.068082,
     "end_time": "2022-05-30T16:39:52.803025",
     "exception": false,
     "start_time": "2022-05-30T16:39:52.734943",
     "status": "completed"
    },
    "tags": []
   },
   "source": [
    "# Day 32 and 33\n",
    "<br>dataquest-> prob and stats -> probability fundamentals -> guided projects\n",
    "<br> done"
   ]
  },
  {
   "cell_type": "markdown",
   "id": "a83fbf41",
   "metadata": {
    "papermill": {
     "duration": 0.071821,
     "end_time": "2022-05-30T16:39:52.944243",
     "exception": false,
     "start_time": "2022-05-30T16:39:52.872422",
     "status": "completed"
    },
    "tags": []
   },
   "source": [
    "# Day 34\n",
    "<br>dataquest-> prob and stats -> probability fundamentals -> guided projects-> lottery prediction\n",
    "<br> done"
   ]
  },
  {
   "cell_type": "markdown",
   "id": "31148fc4",
   "metadata": {
    "papermill": {
     "duration": 0.068848,
     "end_time": "2022-05-30T16:39:53.082850",
     "exception": false,
     "start_time": "2022-05-30T16:39:53.014002",
     "status": "completed"
    },
    "tags": []
   },
   "source": [
    "# Day 35\n",
    "<br>dataquest-> prob and stats -> hypothesis testing fundamentals -> significance testing\n",
    "<br> till slide 4\n",
    "- null hypothesis\n",
    "- alternate hypothesis\n"
   ]
  },
  {
   "cell_type": "markdown",
   "id": "e6f9149f",
   "metadata": {
    "papermill": {
     "duration": 0.06857,
     "end_time": "2022-05-30T16:39:53.220656",
     "exception": false,
     "start_time": "2022-05-30T16:39:53.152086",
     "status": "completed"
    },
    "tags": []
   },
   "source": [
    "# Day 36 and 37\n",
    "<br>dataquest-> prob and stats -> hypothesis testing fundamentals -> significance testing\n",
    "- The permutation test is a statistical test that involves rerunning the study many times and recalculating the test statistic for each iteration. The goal is to calculate a distribution of the test statistics over these many iterations. This distribution is called the sampling distribution and it approximates the full range of possible test statistics under the null hypothesis\n",
    "\n"
   ]
  },
  {
   "cell_type": "markdown",
   "id": "8dfd8802",
   "metadata": {
    "papermill": {
     "duration": 0.068431,
     "end_time": "2022-05-30T16:39:53.358090",
     "exception": false,
     "start_time": "2022-05-30T16:39:53.289659",
     "status": "completed"
    },
    "tags": []
   },
   "source": [
    "# Day 38\n",
    "<br>dataquest-> prob and stats -> hypothesis testing fundamentals -> significance testing\n",
    "<br>in progress."
   ]
  },
  {
   "cell_type": "markdown",
   "id": "e145134a",
   "metadata": {
    "papermill": {
     "duration": 0.068624,
     "end_time": "2022-05-30T16:39:53.495458",
     "exception": false,
     "start_time": "2022-05-30T16:39:53.426834",
     "status": "completed"
    },
    "tags": []
   },
   "source": [
    "# Day 39\n",
    "<br>dataquest-> prob and stats -> hypothesis testing fundamentals -> significance testing\n",
    "<br>slide 5-6"
   ]
  },
  {
   "cell_type": "markdown",
   "id": "da96aaba",
   "metadata": {
    "papermill": {
     "duration": 0.068322,
     "end_time": "2022-05-30T16:39:53.632819",
     "exception": false,
     "start_time": "2022-05-30T16:39:53.564497",
     "status": "completed"
    },
    "tags": []
   },
   "source": [
    "# Day 40\n",
    "<br>dataquest-> prob and stats -> hypothesis testing fundamentals -> significance testing\n",
    "<br>slide 7"
   ]
  },
  {
   "cell_type": "markdown",
   "id": "414c6276",
   "metadata": {
    "papermill": {
     "duration": 0.068735,
     "end_time": "2022-05-30T16:39:53.772055",
     "exception": false,
     "start_time": "2022-05-30T16:39:53.703320",
     "status": "completed"
    },
    "tags": []
   },
   "source": [
    "# Day 41 and 42\n",
    "<br>dataquest-> prob and stats -> hypothesis testing fundamentals -> significance testing\n",
    "<br>slide 7 done and 8(p-value) strated"
   ]
  },
  {
   "cell_type": "markdown",
   "id": "189a9068",
   "metadata": {
    "papermill": {
     "duration": 0.068746,
     "end_time": "2022-05-30T16:39:53.909800",
     "exception": false,
     "start_time": "2022-05-30T16:39:53.841054",
     "status": "completed"
    },
    "tags": []
   },
   "source": [
    "# Day 43\n",
    "<br>dataquest-> prob and stats -> hypothesis testing fundamentals -> significance testing\n",
    "<br>\n",
    "- The first step is to decide a test statistic, which is a numerical value that summarizes the data and one we can use in statistical formulas. The test statistic runs a statistical test that determines whether the difference between the groups was due to random chance.\n",
    "  - e.x: mean \n",
    "- The permutation test is a statistical test that involves rerunning the study many times and recalculating the test statistic for each iteration.\n",
    "   - The goal is to calculate a distribution of the test statistics over these many iterations. This distribution is called the sampling distribution and it approximates the full range of possible test statistics under the null hypothesis.\n",
    "- If the p value is less than the threshold, we:\n",
    "    - reject the null hypothesis that there's no difference in the mean amount of weight lost by participants in both groups; and\n",
    "    - conclude that there is some evidence that the weight loss pill does affect the amount of weight people lost.\n",
    "\n",
    "- If the p value is greater than the threshold, we:\n",
    "    - fail to reject the null hypothesis that there's no difference in the mean amount of weight lost by participants in both groups,\n",
    "    - conclude that the weight loss pill doesn't seem to be effective in helping people lose weight.\n",
    "- usually used p-value threshold is 0.05\n",
    "- The p value threshold you set can also affect the conclusion you reach.\n",
    "    - If you set too high of a p value threshold, you may reject the null hypothesis incorrectly. This is known as a type I error.\n",
    "    - If you set too low of a p value threshold, you may fail to reject the null hypothesis incorrectly. This is known as a type II error."
   ]
  },
  {
   "cell_type": "markdown",
   "id": "12589ece",
   "metadata": {
    "papermill": {
     "duration": 0.069372,
     "end_time": "2022-05-30T16:39:54.049217",
     "exception": false,
     "start_time": "2022-05-30T16:39:53.979845",
     "status": "completed"
    },
    "tags": []
   },
   "source": [
    "# Day 44\n",
    "<br>dataquest-> prob and stats -> hypothesis testing fundamentals -> significance testing-> chi squared test\n",
    "<br>1- 4\n",
    "- chi squared test is used for numerical values"
   ]
  },
  {
   "cell_type": "markdown",
   "id": "7a7b04a4",
   "metadata": {
    "papermill": {
     "duration": 0.068638,
     "end_time": "2022-05-30T16:39:54.186502",
     "exception": false,
     "start_time": "2022-05-30T16:39:54.117864",
     "status": "completed"
    },
    "tags": []
   },
   "source": [
    "# Day 45 and 46\n",
    "<br>dataquest-> prob and stats -> hypothesis testing fundamentals -> significance testing-> chi squared test\n",
    "<br>4- 6"
   ]
  },
  {
   "cell_type": "markdown",
   "id": "22d606a8",
   "metadata": {
    "papermill": {
     "duration": 0.068655,
     "end_time": "2022-05-30T16:39:54.323858",
     "exception": false,
     "start_time": "2022-05-30T16:39:54.255203",
     "status": "completed"
    },
    "tags": []
   },
   "source": [
    "# Day 47\n",
    "<br>dataquest-> prob and stats -> hypothesis testing fundamentals -> significance testing-> chi squared test\n",
    "<br> slide 6 done"
   ]
  },
  {
   "cell_type": "markdown",
   "id": "6a07181c",
   "metadata": {
    "papermill": {
     "duration": 0.069204,
     "end_time": "2022-05-30T16:39:54.462035",
     "exception": false,
     "start_time": "2022-05-30T16:39:54.392831",
     "status": "completed"
    },
    "tags": []
   },
   "source": [
    "# Day 48\n",
    "<br> chi-squared values is that they get smaller as the sample size decreases.\n",
    "<br>**conclusion**\n",
    "- The chi-squared test enables us to quantify the difference between sets of observed and expected categorical values to determine statistical significance\n",
    "- chi squared = (observed - expected)**2 / expected\n",
    "- A p-value allows us to determine whether the difference between 2 values is due to chance, or due to an underlying difference.\n",
    "- Chi-squared values increase as sample size increases, but the chance of getting a high chi-squared value decreases as the sample gets larger.\n",
    "- A degree of freedom is the number of values that can vary without the other values being\"locked in\". \n",
    "- scipy https://docs.scipy.org/doc/scipy/reference/generated/scipy.stats.mstats.chisquare.html\n"
   ]
  },
  {
   "cell_type": "markdown",
   "id": "38f637db",
   "metadata": {
    "papermill": {
     "duration": 0.068469,
     "end_time": "2022-05-30T16:39:54.599544",
     "exception": false,
     "start_time": "2022-05-30T16:39:54.531075",
     "status": "completed"
    },
    "tags": []
   },
   "source": [
    "# Day 49\n",
    "<br>dataquest-> prob and stats -> hypothesis testing fundamentals -> significance testing-> multi category chi squared test\n",
    "<br> slide 1 done\n",
    "- We can apply the multi category chi-squared test (also known as the chi-squared test of association) to figure out if there's a statistically significant correlation between two categorical columns.\n",
    "- "
   ]
  },
  {
   "cell_type": "markdown",
   "id": "c84c327e",
   "metadata": {
    "papermill": {
     "duration": 0.071167,
     "end_time": "2022-05-30T16:39:54.740107",
     "exception": false,
     "start_time": "2022-05-30T16:39:54.668940",
     "status": "completed"
    },
    "tags": []
   },
   "source": [
    " **Day 50**\n",
    "<br>dataquest-> prob and stats -> hypothesis testing fundamentals -> significance testing-> multi category chi squared test\n",
    "# Conclusion:\n",
    "- In a multiple category chi-squared test, we calculate expected values across our whole dataset.\n",
    "- We can calculate the chi-squared value by using the following steps:\n",
    "    - Subtract the expected value from the observed value.\n",
    "    - Subtract the difference.\n",
    "    - Divide the squared difference by the expected value.\n",
    "    - Repeat for all observed and expected values and add up all the values.\n",
    "- ∑ expected(observed−expected)**2 / expected\n",
    "- Discovering that a result isn't significant doesn't mean that no association between the columnsexists. Discovering a statistically significant result doesn't imply anything about what thecorrelation is.\n",
    "- Chi-squared tests can only be applied when each possibility within a category is independen.\n",
    "    - we have categories like male or female not both. single row has either male or female not both at a time.\n",
    "- https://docs.scipy.org/doc/scipy-0.15.1/reference/generated/scipy.stats.chi2_contingency.html\n",
    "- https://pandas.pydata.org/pandas-docs/stable/generated/pandas.crosstab.html\n"
   ]
  },
  {
   "cell_type": "markdown",
   "id": "5e03a274",
   "metadata": {
    "papermill": {
     "duration": 0.0681,
     "end_time": "2022-05-30T16:39:54.876665",
     "exception": false,
     "start_time": "2022-05-30T16:39:54.808565",
     "status": "completed"
    },
    "tags": []
   },
   "source": [
    "# **Day 51, 52**\n",
    "<br>dataquest-> prob and stats -> hypothesis testing fundamentals -> significance testing-> guided project\n",
    "<br>in progress."
   ]
  },
  {
   "cell_type": "markdown",
   "id": "27fc1779",
   "metadata": {
    "papermill": {
     "duration": 0.069785,
     "end_time": "2022-05-30T16:39:55.016671",
     "exception": false,
     "start_time": "2022-05-30T16:39:54.946886",
     "status": "completed"
    },
    "tags": []
   },
   "source": [
    "# **Day 53**\n",
    "<br>dataquest-> prob and stats -> hypothesis testing fundamentals -> significance testing-> guided project\n",
    "<br>done"
   ]
  },
  {
   "cell_type": "markdown",
   "id": "216f4e3a",
   "metadata": {
    "papermill": {
     "duration": 0.068435,
     "end_time": "2022-05-30T16:39:55.154490",
     "exception": false,
     "start_time": "2022-05-30T16:39:55.086055",
     "status": "completed"
    },
    "tags": []
   },
   "source": [
    "# **Day 54,55, 56,57, 58, 59**\n",
    "interviewbit-> probability-> conditional probability\n",
    "1. You asked your three friends whether it will rain or not and all three affirmed for rain. All three have the probability of 1/3 of lying. What is the probability that it will actually rain?\n",
    "- https://www.geeksforgeeks.org/puzzle-is-it-raining/#:~:text=Explanation%3A,truth%20or%20all%20are%20lying.&text=So%2C%20it%20is%20approximately%2089,it%20is%20raining%20in%20Hyderabad.\n",
    "2. Anshul and Deven take turns in rolling a fair six-sided die. Whoever rolls a “6” first wins the game. Deven starts by rolling first. What’s the probability that Anshul wins?\n",
    "- https://www.quora.com/A-and-B-throw-a-Fair-die-one-after-another-Whoever-throws-6-first-wins-What-is-the-probability-that-A-wins\n",
    "\n",
    "3. You have a bag with 6 marbles. One marble is white. You reach the bag 100 times. After taking out a marble, it is placed back in the bag. What is the probability of drawing a white marble at least once?\n",
    "- https://brainly.com/question/14376470\n",
    "- Answer:\n",
    "\n",
    "0.999999988\n",
    "\n",
    "Step-by-step explanation:\n",
    "\n",
    "Given that you  have a bag with 6 marbles. One marble is white. You reach the bag 100 times. After taking out a marble, it is placed back in the bag.\n",
    "\n",
    "Because every time you replace the marble drawn, the probability for drawing a white marble in one draw is constant = p =5/6\n",
    "\n",
    "No of trials n = 100\n",
    "\n",
    "Here X no of times white marble is drawn is Binomial since there are two outcomes and also the probability is constant.\n",
    "\n",
    "the probability of drawing a white marble at least once\n",
    "\n",
    "=\n",
    "\n",
    "Required probability is almost 1.\n",
    "\n",
    "\n",
    "4. Supposedly a friend of yours has 2 children and at least one of them is a boy. What is the probability that the other is also a boy?\n",
    "- If at least one is a boy, there are three possible equally likely gender assignations of two siblings. boy-boy, boy-girl,\n",
    "\n",
    " or girl-boy. Only 1 in 3 cases or 33 percent are both boys. The lesson here is that when considering equally likely scenarios\n",
    "\n",
    " we must consider birth order. If the birth order of the boy is not specified – i.e. if we don’t know if he is the eldest or \n",
    "\n",
    " the youngest – the probability of two boys drops to 1 in 3.\n",
    " \n",
    "5. A single card is drawn from a standard deck of playing cards. What is the probability that the card is a queen provided that a face card is drawn from the deck of cards?\n",
    "- 4/12 = 1/3\n",
    " \n",
    "6. random variables Q1,2\n",
    "7. 5 questions\n",
    "8. bayes theorem first 2\n",
    "\n",
    "**Day 60**\n",
    "- inferential statistics - 3 questions\n",
    "**Day 61**\n",
    "- inferential statistics - central limit theorem done\n",
    "\n",
    "**Day 62**\n",
    "- inferential statistics - distribution analysis multivariate done\n",
    "\n",
    "**Day 63**\n",
    "- inferential statistics -  done\n",
    "\n",
    "**Day 64,65, 66**\n",
    "- Data Analysis-  wip\n",
    "\n",
    "**Day 67**\n",
    "- Data Analysis-  web scrapping done\n",
    "\n",
    "**Day 68**\n",
    "- Data Analysis-  descriptive statistics tutorial done\n",
    "\n",
    "**Day 69**\n",
    "- Data Analysis-  probability tutorial done\n",
    "\n",
    "**Day 70**\n",
    "- Data Analysis-  hypothesis testing wip\n",
    "\n",
    "**Day 71**\n",
    "- Data Analysis-  inferential statistics tutorials - done\n",
    "\n",
    "**Day 72**\n",
    "- Data Analysis-  inferential statistics tutorials - done\n",
    "\n",
    "**Day 73**\n",
    "- Data Analysis-  data analysis tutorials - wip\n",
    "\n",
    "**Day 74**\n",
    "\n",
    "**Interview Prep:**\n",
    "1. clustering evaluation techniques:\n",
    "- https://towardsdatascience.com/clustering-evaluation-strategies-98a4006fcfc\n",
    "\n",
    "**Day 75**\n",
    "\n",
    "2. feature selection\n",
    "- https://www.analyticsvidhya.com/blog/2016/12/introduction-to-feature-selection-methods-with-an-example-or-how-to-select-the-right-variables/\n",
    "\n",
    "**Day 76**\n",
    "\n",
    "2. linear regression\n",
    "- https://towardsdatascience.com/introduction-to-machine-learning-algorithms-linear-regression-14c4e325882a and also data camp\n",
    "\n",
    "**Day 77**\n",
    "\n",
    "3. What’s the normal distribution? Why do we care about it?\n",
    "- https://www.youtube.com/watch?v=rzFX5NWojp0&ab_channel=StatQuestwithJoshStarmer\n",
    "\n",
    "**Day 78, 79**\n",
    "\n",
    " few questions from dsinterviews.org\n",
    " \n",
    " \n",
    "**Day 80**\n",
    "\n",
    " linear regression from datacamp -> done\n",
    " \n",
    " \n",
    "**Day 81**\n",
    "\n",
    " what is bias, variance and bias-variance tradeoff?\n",
    " \n",
    "https://medium.datadriveninvestor.com/bias-and-variance-in-machine-learning-51fdd38d1f86\n",
    " \n",
    " "
   ]
  },
  {
   "cell_type": "markdown",
   "id": "c33fa124",
   "metadata": {
    "papermill": {
     "duration": 0.068482,
     "end_time": "2022-05-30T16:39:55.291527",
     "exception": false,
     "start_time": "2022-05-30T16:39:55.223045",
     "status": "completed"
    },
    "tags": []
   },
   "source": []
  },
  {
   "cell_type": "code",
   "execution_count": null,
   "id": "715f21b9",
   "metadata": {
    "papermill": {
     "duration": 0.068194,
     "end_time": "2022-05-30T16:39:55.428176",
     "exception": false,
     "start_time": "2022-05-30T16:39:55.359982",
     "status": "completed"
    },
    "tags": []
   },
   "outputs": [],
   "source": []
  },
  {
   "cell_type": "code",
   "execution_count": 2,
   "id": "179865f4",
   "metadata": {
    "execution": {
     "iopub.execute_input": "2022-05-30T16:39:55.571839Z",
     "iopub.status.busy": "2022-05-30T16:39:55.571169Z",
     "iopub.status.idle": "2022-05-30T16:39:55.572702Z",
     "shell.execute_reply": "2022-05-30T16:39:55.573262Z",
     "shell.execute_reply.started": "2022-04-12T14:17:49.333113Z"
    },
    "papermill": {
     "duration": 0.075303,
     "end_time": "2022-05-30T16:39:55.573457",
     "exception": false,
     "start_time": "2022-05-30T16:39:55.498154",
     "status": "completed"
    },
    "tags": []
   },
   "outputs": [],
   "source": [
    "# !pip install PyMuPDF"
   ]
  },
  {
   "cell_type": "code",
   "execution_count": 3,
   "id": "660eabd7",
   "metadata": {
    "execution": {
     "iopub.execute_input": "2022-05-30T16:39:55.716288Z",
     "iopub.status.busy": "2022-05-30T16:39:55.715662Z",
     "iopub.status.idle": "2022-05-30T16:39:55.718565Z",
     "shell.execute_reply": "2022-05-30T16:39:55.719087Z",
     "shell.execute_reply.started": "2022-04-12T14:19:20.437905Z"
    },
    "papermill": {
     "duration": 0.074914,
     "end_time": "2022-05-30T16:39:55.719255",
     "exception": false,
     "start_time": "2022-05-30T16:39:55.644341",
     "status": "completed"
    },
    "tags": []
   },
   "outputs": [],
   "source": [
    " \n",
    "# fitz.__version__"
   ]
  },
  {
   "cell_type": "code",
   "execution_count": 4,
   "id": "e52d357c",
   "metadata": {
    "execution": {
     "iopub.execute_input": "2022-05-30T16:39:55.861809Z",
     "iopub.status.busy": "2022-05-30T16:39:55.861126Z",
     "iopub.status.idle": "2022-05-30T16:39:55.864111Z",
     "shell.execute_reply": "2022-05-30T16:39:55.864777Z",
     "shell.execute_reply.started": "2022-04-12T14:23:59.687259Z"
    },
    "papermill": {
     "duration": 0.076733,
     "end_time": "2022-05-30T16:39:55.864997",
     "exception": false,
     "start_time": "2022-05-30T16:39:55.788264",
     "status": "completed"
    },
    "tags": []
   },
   "outputs": [],
   "source": [
    "# !python -m spacy download en_core_web_sm"
   ]
  },
  {
   "cell_type": "code",
   "execution_count": null,
   "id": "bd469a84",
   "metadata": {
    "papermill": {
     "duration": 0.070796,
     "end_time": "2022-05-30T16:39:56.005749",
     "exception": false,
     "start_time": "2022-05-30T16:39:55.934953",
     "status": "completed"
    },
    "tags": []
   },
   "outputs": [],
   "source": []
  },
  {
   "cell_type": "code",
   "execution_count": 5,
   "id": "692a7b43",
   "metadata": {
    "execution": {
     "iopub.execute_input": "2022-05-30T16:39:56.148701Z",
     "iopub.status.busy": "2022-05-30T16:39:56.148058Z",
     "iopub.status.idle": "2022-05-30T16:39:56.151167Z",
     "shell.execute_reply": "2022-05-30T16:39:56.151693Z",
     "shell.execute_reply.started": "2022-04-12T14:18:25.912243Z"
    },
    "papermill": {
     "duration": 0.075249,
     "end_time": "2022-05-30T16:39:56.151863",
     "exception": false,
     "start_time": "2022-05-30T16:39:56.076614",
     "status": "completed"
    },
    "tags": []
   },
   "outputs": [],
   "source": [
    "# import fitz\n",
    "# import spacy\n",
    "# import re\n",
    "# from pathlib import Path\n",
    "# import requests\n",
    "# import os"
   ]
  },
  {
   "cell_type": "code",
   "execution_count": 6,
   "id": "1aab9990",
   "metadata": {
    "execution": {
     "iopub.execute_input": "2022-05-30T16:39:56.295631Z",
     "iopub.status.busy": "2022-05-30T16:39:56.294903Z",
     "iopub.status.idle": "2022-05-30T16:39:56.299881Z",
     "shell.execute_reply": "2022-05-30T16:39:56.299217Z",
     "shell.execute_reply.started": "2022-04-12T15:03:43.5897Z"
    },
    "papermill": {
     "duration": 0.078775,
     "end_time": "2022-05-30T16:39:56.300031",
     "exception": false,
     "start_time": "2022-05-30T16:39:56.221256",
     "status": "completed"
    },
    "tags": []
   },
   "outputs": [],
   "source": [
    "# sql_db_json = [\n",
    "#   {\n",
    "#     \"document_id\": \"1\",\n",
    "#     \"area\": \"[72.1149,661.2966,131.95729,675.1716]\",\n",
    "#     \"page\": \"3\",\n",
    "#     \"text_\": \"Background\",\n",
    "#     \"type_of_selection\": \"Text\",\n",
    "#     \"entity_type\": \"name\",\n",
    "#     \"link\": \"https://redactable-devox-stage.s3.us-east-2.amazonaws.com/tenants/41d9e109-693b-444c-aa18-e5891bc6550b/original/1a7c0e5d-3237-4ca9-9e3d-89e707245ac6/D8communications.pdf\"\n",
    "#   },\n",
    "#   {\n",
    "#     \"document_id\": \"1\",\n",
    "#     \"area\": \"[290.55386,632.0173,322.14685,645.8923]\",\n",
    "#     \"page\": \"2\",\n",
    "#     \"text_\": \"INDEX\",\n",
    "#     \"type_of_selection\": \"Text\",\n",
    "#     \"entity_type\": \"address\",\n",
    "#     \"link\": \"https://redactable-devox-stage.s3.us-east-2.amazonaws.com/tenants/41d9e109-693b-444c-aa18-e5891bc6550b/original/1a7c0e5d-3237-4ca9-9e3d-89e707245ac6/D8communications.pdf\"\n",
    "#   }\n",
    "# ]"
   ]
  },
  {
   "cell_type": "code",
   "execution_count": 7,
   "id": "f00d30a9",
   "metadata": {
    "execution": {
     "iopub.execute_input": "2022-05-30T16:39:56.445685Z",
     "iopub.status.busy": "2022-05-30T16:39:56.444846Z",
     "iopub.status.idle": "2022-05-30T16:39:56.447359Z",
     "shell.execute_reply": "2022-05-30T16:39:56.447893Z",
     "shell.execute_reply.started": "2022-04-12T13:17:19.452695Z"
    },
    "papermill": {
     "duration": 0.076119,
     "end_time": "2022-05-30T16:39:56.448061",
     "exception": false,
     "start_time": "2022-05-30T16:39:56.371942",
     "status": "completed"
    },
    "tags": []
   },
   "outputs": [],
   "source": [
    "# l=pd.DataFrame()\n",
    "# k=(1, '[290.55386,632.0173,322.14685,645.8923]', 2, 'INDEX', 'Text', 'address', 'https://redactable-devox-s')\n",
    "# k\n"
   ]
  },
  {
   "cell_type": "code",
   "execution_count": 8,
   "id": "42344a9d",
   "metadata": {
    "execution": {
     "iopub.execute_input": "2022-05-30T16:39:56.592752Z",
     "iopub.status.busy": "2022-05-30T16:39:56.591833Z",
     "iopub.status.idle": "2022-05-30T16:39:56.594590Z",
     "shell.execute_reply": "2022-05-30T16:39:56.593977Z",
     "shell.execute_reply.started": "2022-04-12T16:09:33.708631Z"
    },
    "papermill": {
     "duration": 0.077508,
     "end_time": "2022-05-30T16:39:56.594732",
     "exception": false,
     "start_time": "2022-05-30T16:39:56.517224",
     "status": "completed"
    },
    "tags": []
   },
   "outputs": [],
   "source": [
    "# co=[\"document_id\",\"area\",\"page\",\"text_\",\"type_of_selection\",\"entity_type\",\"link\"]\n",
    "# val= [(1,'[72.1149,661.2966,131.95729,675.1716]',3,'Background','Text','name' ,'https://redactable-devox-stage.s3.us-east-2.am'), (1,  '[290.55386,632.0173,322.14685,645.8923]',2,'INDEX', 'Text','address','https://redactable-devox-stage.s3.us-east-2.am')]\n",
    "\n",
    "# df=pd.DataFrame(val,columns=[co])\n",
    "# #df.iloc[1] =[1,  '[290.55386,632.0173,322.14685,645.8923]',2,'INDEX', 'Text','address','https://redactable-devox-stage.s3.us-east-2.am']\n",
    "# df"
   ]
  },
  {
   "cell_type": "code",
   "execution_count": 9,
   "id": "fe5c8c7f",
   "metadata": {
    "execution": {
     "iopub.execute_input": "2022-05-30T16:39:56.741721Z",
     "iopub.status.busy": "2022-05-30T16:39:56.740751Z",
     "iopub.status.idle": "2022-05-30T16:39:56.743959Z",
     "shell.execute_reply": "2022-05-30T16:39:56.743449Z",
     "shell.execute_reply.started": "2022-04-12T16:18:22.595374Z"
    },
    "papermill": {
     "duration": 0.079323,
     "end_time": "2022-05-30T16:39:56.744101",
     "exception": false,
     "start_time": "2022-05-30T16:39:56.664778",
     "status": "completed"
    },
    "tags": []
   },
   "outputs": [],
   "source": [
    "# prev=[]\n",
    "# for data,row in df.iterrows():\n",
    "#     if row['document_id'] not in prev:\n",
    "#         prev.append(row['document_id'])\n",
    "#         print('hey')"
   ]
  },
  {
   "cell_type": "code",
   "execution_count": 10,
   "id": "eab9c3df",
   "metadata": {
    "execution": {
     "iopub.execute_input": "2022-05-30T16:39:56.891747Z",
     "iopub.status.busy": "2022-05-30T16:39:56.890664Z",
     "iopub.status.idle": "2022-05-30T16:39:56.893382Z",
     "shell.execute_reply": "2022-05-30T16:39:56.892844Z",
     "shell.execute_reply.started": "2022-04-12T15:03:48.248836Z"
    },
    "papermill": {
     "duration": 0.079098,
     "end_time": "2022-05-30T16:39:56.893579",
     "exception": false,
     "start_time": "2022-05-30T16:39:56.814481",
     "status": "completed"
    },
    "tags": []
   },
   "outputs": [],
   "source": [
    "# nlp = spacy.load('en_core_web_sm')\n",
    "# train_data = []\n",
    "\n",
    "# prev_doc_id = ''\n",
    "# i=0\n",
    "# temp='/kaggle/working'\n",
    "\n",
    "# for data in sql_db_json:\n",
    "#     if data['type_of_selection'] == 'Text':\n",
    "#         document_id = data['document_id']\n",
    "#         x1,y1,x2,y2 = data['area'][1:-1].split(',')\n",
    "#         url = data['link']\n",
    "#         page_no = int(data['page']) - 1 \n",
    "#         label = data['entity_type']\n",
    "#         filename = url.split('/')[-1]\n",
    "    \n",
    "#         #download the file to temp folder\n",
    "#         outpath = os.path.join(temp,filename)\n",
    "\n",
    "#         if document_id == prev_doc_id:\n",
    "#             pass\n",
    "#         else: \n",
    "#             i+=1\n",
    "#             print(i)\n",
    "#             response = requests.get(url)\n",
    "#             with open(outpath, \"wb\") as binary_file:\n",
    "#                 binary_file.write(response.content)\n",
    "\n",
    "#         doc = fitz.open(outpath)  # any supported document type\n",
    "#         page = doc[page_no]  # we want text from this page\n",
    "#         print('page dimension - ', page.rect.width, page.rect.height)\n",
    "\n",
    "#         #The co-ordinates in the DB are image co-ords. W.r.t pdf, y1 and y2 has to be interchanged.\n",
    "#         #To ensure entire word to be selected, slight correction in x1,y1,x2,y2 is done.\n",
    "\n",
    "#         rect = [float(x1)-2, 792 - float(y2)-2, float(x2)+2, 792 - float(y1)+2]\n",
    "#         print(rect)\n",
    "#         labelled_text = page.get_textbox(rect)\n",
    "\n",
    "#         #Removing all unprintable characters from the text\n",
    "#         string = re.sub('[^0-9a-zA-Z@?|\\/<>.,()&^%$#!]+', ' ', labelled_text)\n",
    "#         print('string : ', string)\n",
    "\n",
    "#         fulltext = page.get_text()\n",
    "#         doc = nlp(fulltext)\n",
    "\n",
    "#         sentences = []\n",
    "#         for sent in doc.sents:\n",
    "#             if string.strip() in sent.text:\n",
    "#                 text = re.sub('[^0-9a-zA-Z@?|\\/<>.,()&^%$#!]+', ' ', sent.text)\n",
    "\n",
    "#         res = re.search(string.strip(), text)\n",
    "\n",
    "#         entities = []\n",
    "#         entities.append((res.start(),res.end(),label))\n",
    "\n",
    "#         train_data.append((text,{'entities':entities}))\n",
    "\n",
    "# print('Training data in spacy format')\n",
    "# print('*****************************')\n",
    "# for i in range(0,len(train_data)):\n",
    "#     print(train_data[i])"
   ]
  },
  {
   "cell_type": "code",
   "execution_count": null,
   "id": "a4f7234e",
   "metadata": {
    "papermill": {
     "duration": 0.070874,
     "end_time": "2022-05-30T16:39:57.036163",
     "exception": false,
     "start_time": "2022-05-30T16:39:56.965289",
     "status": "completed"
    },
    "tags": []
   },
   "outputs": [],
   "source": []
  },
  {
   "cell_type": "code",
   "execution_count": 11,
   "id": "14527833",
   "metadata": {
    "execution": {
     "iopub.execute_input": "2022-05-30T16:39:57.184104Z",
     "iopub.status.busy": "2022-05-30T16:39:57.183256Z",
     "iopub.status.idle": "2022-05-30T16:39:57.185930Z",
     "shell.execute_reply": "2022-05-30T16:39:57.185296Z",
     "shell.execute_reply.started": "2022-04-12T11:44:59.253637Z"
    },
    "papermill": {
     "duration": 0.078504,
     "end_time": "2022-05-30T16:39:57.186064",
     "exception": false,
     "start_time": "2022-05-30T16:39:57.107560",
     "status": "completed"
    },
    "tags": []
   },
   "outputs": [],
   "source": [
    "# nlp = spacy.load('en_core_web_sm')\n",
    "# train_data = []\n",
    "\n",
    "# prev_doc_id = ''\n",
    "# temp='/kaggle/working'\n",
    "# i=0\n",
    "# for data in sql_db_json:\n",
    "#     if data['type_of_selection'] == 'Text':\n",
    "#         document_id = data['document_id']\n",
    "#         x1,y1,x2,y2 = data['area'][1:-1].split(',')\n",
    "#         url = data['link']\n",
    "#         page_no = int(data['page']) - 1 \n",
    "#         label = data['entity_type']\n",
    "#         filename = url.split('/')[-1]\n",
    "    \n",
    "#         #download the file to temp folder\n",
    "#         i+=1\n",
    "#         print(i)\n",
    "#         response = requests.get(url)\n",
    "#         doc = fitz.open(stream=response.content,filetype=\"pdf\")  # any supported document type\n",
    "#         page = doc[page_no]  # we want text from this page\n",
    "#         print('page dimension - ', page.rect.width, page.rect.height)\n",
    "\n",
    "#         #The co-ordinates in the DB are image co-ords. W.r.t pdf, y1 and y2 has to be interchanged.\n",
    "#         #To ensure entire word to be selected, slight correction in x1,y1,x2,y2 is done.\n",
    "\n",
    "#         rect = [float(x1)-2, 792 - float(y2)-2, float(x2)+2, 792 - float(y1)+2]\n",
    "#         print(rect)\n",
    "#         labelled_text = page.get_textbox(rect)\n",
    "\n",
    "#         #Removing all unprintable characters from the text\n",
    "#         string = re.sub('[^0-9a-zA-Z@?|\\/<>.,()&^%$#!]+', ' ', labelled_text)\n",
    "#         print('string : ', string)\n",
    "\n",
    "#         fulltext = page.get_text()\n",
    "#         doc = nlp(fulltext)\n",
    "\n",
    "#         sentences = []\n",
    "#         for sent in doc.sents:\n",
    "#             if string.strip() in sent.text:\n",
    "#                 text = re.sub('[^0-9a-zA-Z@?|\\/<>.,()&^%$#!]+', ' ', sent.text)\n",
    "\n",
    "#         res = re.search(string.strip(), text)\n",
    "\n",
    "#         entities = []\n",
    "#         entities.append((res.start(),res.end(),label))\n",
    "\n",
    "#         train_data.append((text,{'entities':entities}))\n",
    "\n",
    "# print('Training data in spacy format')\n",
    "# print('*****************************')\n",
    "# for i in range(0,len(train_data)):\n",
    "#     print(train_data[i])"
   ]
  },
  {
   "cell_type": "code",
   "execution_count": 12,
   "id": "3c526a76",
   "metadata": {
    "execution": {
     "iopub.execute_input": "2022-05-30T16:39:57.328864Z",
     "iopub.status.busy": "2022-05-30T16:39:57.327309Z",
     "iopub.status.idle": "2022-05-30T16:39:57.331080Z",
     "shell.execute_reply": "2022-05-30T16:39:57.331594Z"
    },
    "papermill": {
     "duration": 0.076465,
     "end_time": "2022-05-30T16:39:57.331787",
     "exception": false,
     "start_time": "2022-05-30T16:39:57.255322",
     "status": "completed"
    },
    "tags": []
   },
   "outputs": [],
   "source": [
    "# page dimension -  612.0 792.0\n",
    "# [70.1149, 114.82839999999999, 133.95729, 132.7034]\n",
    "# string :  Background\n",
    "# page dimension -  612.0 792.0\n",
    "# [288.55386, 144.10770000000002, 324.14685, 161.98270000000002]\n",
    "# string :  INDEX\n",
    "# Training data in spacy format\n",
    "# *****************************\n",
    "# (' 3 Background The Blue Ribbon Committee was created by the Mayor to assess various city communication methods and recommend opportunities to improve communications with residents, businesses and other organizations.', {'entities': [(3, 13, 'name')]})\n",
    "# (' 2 INDEX Background Pg. 3 Purpose Pg. 3 Process .', {'entities': [(3, 8, 'address')]})"
   ]
  },
  {
   "cell_type": "code",
   "execution_count": 13,
   "id": "41235309",
   "metadata": {
    "execution": {
     "iopub.execute_input": "2022-05-30T16:39:57.478535Z",
     "iopub.status.busy": "2022-05-30T16:39:57.477773Z",
     "iopub.status.idle": "2022-05-30T16:39:57.481290Z",
     "shell.execute_reply": "2022-05-30T16:39:57.481769Z",
     "shell.execute_reply.started": "2022-04-11T16:35:29.609712Z"
    },
    "papermill": {
     "duration": 0.077137,
     "end_time": "2022-05-30T16:39:57.481971",
     "exception": false,
     "start_time": "2022-05-30T16:39:57.404834",
     "status": "completed"
    },
    "tags": []
   },
   "outputs": [],
   "source": [
    "# nlp = spacy.load('en_core_web_sm')\n",
    "# outpath=r'/kaggle/input/sample-pdf/D8communications.pdf'\n",
    "# doc = fitz.open(outpath)  # any supported document type\n",
    "# page_no=3\n",
    "# page = doc[page_no-1]\n",
    "\n",
    "# x1,y1,x2,y2=(72.1149,661.2966,131.95729,675.1716)\n",
    "\n",
    "# rect = [float(x1)-2, 792 - float(y2)-2, float(x2)+2, 792 - float(y1)+2]\n",
    "# print(rect)\n",
    "# labelled_text = page.get_textbox(rect)\n",
    "# string = re.sub('[^0-9a-zA-Z@?|\\/<>.,()&^%$#!]+', ' ', labelled_text)\n",
    "# print('string : ', string)\n",
    "\n",
    "# fulltext = page.get_text()\n",
    "# doc = nlp(fulltext)\n",
    "\n",
    "# sentences = []\n",
    "# for sent in doc.sents:\n",
    "#             if string.strip() in sent.text:\n",
    "#                 text = re.sub('[^0-9a-zA-Z@?|\\/<>.,()&^%$#!]+', ' ', sent.text)\n",
    "\n",
    "#         res = re.search(string.strip(), text)\n",
    "\n",
    "#         entities = []\n",
    "#         entities.append((res.start(),res.end(),label))\n",
    "\n",
    "#         train_data.append((text,{'entities':entities}))\n",
    "\n"
   ]
  },
  {
   "cell_type": "code",
   "execution_count": 14,
   "id": "95904960",
   "metadata": {
    "execution": {
     "iopub.execute_input": "2022-05-30T16:39:57.624610Z",
     "iopub.status.busy": "2022-05-30T16:39:57.623926Z",
     "iopub.status.idle": "2022-05-30T16:39:57.626882Z",
     "shell.execute_reply": "2022-05-30T16:39:57.627342Z",
     "shell.execute_reply.started": "2022-04-11T16:35:41.679947Z"
    },
    "papermill": {
     "duration": 0.076115,
     "end_time": "2022-05-30T16:39:57.627566",
     "exception": false,
     "start_time": "2022-05-30T16:39:57.551451",
     "status": "completed"
    },
    "tags": []
   },
   "outputs": [],
   "source": [
    "#doc"
   ]
  },
  {
   "cell_type": "code",
   "execution_count": 15,
   "id": "9058054d",
   "metadata": {
    "execution": {
     "iopub.execute_input": "2022-05-30T16:39:57.789146Z",
     "iopub.status.busy": "2022-05-30T16:39:57.788072Z",
     "iopub.status.idle": "2022-05-30T16:39:57.791241Z",
     "shell.execute_reply": "2022-05-30T16:39:57.792013Z",
     "shell.execute_reply.started": "2022-04-11T16:35:56.010353Z"
    },
    "papermill": {
     "duration": 0.09426,
     "end_time": "2022-05-30T16:39:57.792206",
     "exception": false,
     "start_time": "2022-05-30T16:39:57.697946",
     "status": "completed"
    },
    "tags": []
   },
   "outputs": [],
   "source": [
    "# sentences = []\n",
    "# for sent in doc.sents:\n",
    "#     if string.strip() in sent.text:\n",
    "#         text = re.sub('[^0-9a-zA-Z@?|\\/<>.,()&^%$#!]+', ' ', sent.text)"
   ]
  },
  {
   "cell_type": "code",
   "execution_count": 16,
   "id": "8cb7d3ff",
   "metadata": {
    "execution": {
     "iopub.execute_input": "2022-05-30T16:39:57.941159Z",
     "iopub.status.busy": "2022-05-30T16:39:57.940178Z",
     "iopub.status.idle": "2022-05-30T16:39:57.942557Z",
     "shell.execute_reply": "2022-05-30T16:39:57.943145Z",
     "shell.execute_reply.started": "2022-04-11T16:39:04.736143Z"
    },
    "papermill": {
     "duration": 0.076661,
     "end_time": "2022-05-30T16:39:57.943315",
     "exception": false,
     "start_time": "2022-05-30T16:39:57.866654",
     "status": "completed"
    },
    "tags": []
   },
   "outputs": [],
   "source": [
    "# k=nlp(\"he             kenny\")\n",
    "# for sent in k.sents:\n",
    "#     print(sent)"
   ]
  },
  {
   "cell_type": "code",
   "execution_count": 17,
   "id": "ce055498",
   "metadata": {
    "execution": {
     "iopub.execute_input": "2022-05-30T16:39:58.089420Z",
     "iopub.status.busy": "2022-05-30T16:39:58.088694Z",
     "iopub.status.idle": "2022-05-30T16:39:58.092392Z",
     "shell.execute_reply": "2022-05-30T16:39:58.092913Z",
     "shell.execute_reply.started": "2022-04-11T15:09:24.391421Z"
    },
    "papermill": {
     "duration": 0.077383,
     "end_time": "2022-05-30T16:39:58.093084",
     "exception": false,
     "start_time": "2022-05-30T16:39:58.015701",
     "status": "completed"
    },
    "tags": []
   },
   "outputs": [],
   "source": [
    "# text"
   ]
  },
  {
   "cell_type": "code",
   "execution_count": 18,
   "id": "38e3451a",
   "metadata": {
    "execution": {
     "iopub.execute_input": "2022-05-30T16:39:58.235672Z",
     "iopub.status.busy": "2022-05-30T16:39:58.234903Z",
     "iopub.status.idle": "2022-05-30T16:39:58.238087Z",
     "shell.execute_reply": "2022-05-30T16:39:58.238760Z",
     "shell.execute_reply.started": "2022-04-11T15:09:31.9599Z"
    },
    "papermill": {
     "duration": 0.076155,
     "end_time": "2022-05-30T16:39:58.238935",
     "exception": false,
     "start_time": "2022-05-30T16:39:58.162780",
     "status": "completed"
    },
    "tags": []
   },
   "outputs": [],
   "source": [
    "# res = re.search(string.strip(), text)\n",
    "# res"
   ]
  },
  {
   "cell_type": "code",
   "execution_count": 19,
   "id": "c9315404",
   "metadata": {
    "execution": {
     "iopub.execute_input": "2022-05-30T16:39:58.381176Z",
     "iopub.status.busy": "2022-05-30T16:39:58.380476Z",
     "iopub.status.idle": "2022-05-30T16:39:58.383426Z",
     "shell.execute_reply": "2022-05-30T16:39:58.383969Z",
     "shell.execute_reply.started": "2022-04-11T15:12:41.311242Z"
    },
    "papermill": {
     "duration": 0.075532,
     "end_time": "2022-05-30T16:39:58.384137",
     "exception": false,
     "start_time": "2022-05-30T16:39:58.308605",
     "status": "completed"
    },
    "tags": []
   },
   "outputs": [],
   "source": [
    "# entities = []\n",
    "# entities.append((res.start(),res.end(),'p'))"
   ]
  },
  {
   "cell_type": "code",
   "execution_count": 20,
   "id": "c3d8b04c",
   "metadata": {
    "execution": {
     "iopub.execute_input": "2022-05-30T16:39:58.527105Z",
     "iopub.status.busy": "2022-05-30T16:39:58.526315Z",
     "iopub.status.idle": "2022-05-30T16:39:58.528901Z",
     "shell.execute_reply": "2022-05-30T16:39:58.529544Z",
     "shell.execute_reply.started": "2022-04-11T15:12:52.736619Z"
    },
    "papermill": {
     "duration": 0.075764,
     "end_time": "2022-05-30T16:39:58.529717",
     "exception": false,
     "start_time": "2022-05-30T16:39:58.453953",
     "status": "completed"
    },
    "tags": []
   },
   "outputs": [],
   "source": [
    "# entities"
   ]
  },
  {
   "cell_type": "code",
   "execution_count": 21,
   "id": "a8452052",
   "metadata": {
    "execution": {
     "iopub.execute_input": "2022-05-30T16:39:58.676138Z",
     "iopub.status.busy": "2022-05-30T16:39:58.675315Z",
     "iopub.status.idle": "2022-05-30T16:39:58.679316Z",
     "shell.execute_reply": "2022-05-30T16:39:58.678759Z",
     "shell.execute_reply.started": "2022-04-11T15:06:11.546217Z"
    },
    "papermill": {
     "duration": 0.077315,
     "end_time": "2022-05-30T16:39:58.679472",
     "exception": false,
     "start_time": "2022-05-30T16:39:58.602157",
     "status": "completed"
    },
    "tags": []
   },
   "outputs": [],
   "source": [
    "# text"
   ]
  },
  {
   "cell_type": "code",
   "execution_count": null,
   "id": "8eda4c46",
   "metadata": {
    "execution": {
     "iopub.execute_input": "2022-04-11T15:02:33.300092Z",
     "iopub.status.busy": "2022-04-11T15:02:33.299778Z",
     "iopub.status.idle": "2022-04-11T15:02:33.30711Z",
     "shell.execute_reply": "2022-04-11T15:02:33.306345Z",
     "shell.execute_reply.started": "2022-04-11T15:02:33.300061Z"
    },
    "papermill": {
     "duration": 0.072699,
     "end_time": "2022-05-30T16:39:58.826468",
     "exception": false,
     "start_time": "2022-05-30T16:39:58.753769",
     "status": "completed"
    },
    "tags": []
   },
   "outputs": [],
   "source": []
  },
  {
   "cell_type": "code",
   "execution_count": 22,
   "id": "81de5d66",
   "metadata": {
    "execution": {
     "iopub.execute_input": "2022-05-30T16:39:58.971445Z",
     "iopub.status.busy": "2022-05-30T16:39:58.970307Z",
     "iopub.status.idle": "2022-05-30T16:39:58.974477Z",
     "shell.execute_reply": "2022-05-30T16:39:58.973932Z",
     "shell.execute_reply.started": "2022-04-11T16:21:02.863037Z"
    },
    "papermill": {
     "duration": 0.077432,
     "end_time": "2022-05-30T16:39:58.974641",
     "exception": false,
     "start_time": "2022-05-30T16:39:58.897209",
     "status": "completed"
    },
    "tags": []
   },
   "outputs": [],
   "source": [
    "# import spacy\n",
    "# nlp = spacy.load('en_core_web_sm')"
   ]
  },
  {
   "cell_type": "code",
   "execution_count": 23,
   "id": "de91faee",
   "metadata": {
    "execution": {
     "iopub.execute_input": "2022-05-30T16:39:59.117922Z",
     "iopub.status.busy": "2022-05-30T16:39:59.116489Z",
     "iopub.status.idle": "2022-05-30T16:39:59.119764Z",
     "shell.execute_reply": "2022-05-30T16:39:59.120466Z",
     "shell.execute_reply.started": "2022-04-09T12:19:47.776612Z"
    },
    "papermill": {
     "duration": 0.07591,
     "end_time": "2022-05-30T16:39:59.120640",
     "exception": false,
     "start_time": "2022-05-30T16:39:59.044730",
     "status": "completed"
    },
    "tags": []
   },
   "outputs": [],
   "source": [
    "# !pip install PyPDF2\n",
    "# import PyPDF2\n",
    "# fhandle = open(r'/kaggle/input/sample-pdf/D8communications.pdf', 'rb')\n",
    "# pdfReader = PyPDF2.PdfFileReader(fhandle)\n",
    "# pagehandle = pdfReader.getPage(4)\n",
    "# print(pagehandle.extractText())"
   ]
  },
  {
   "cell_type": "code",
   "execution_count": 24,
   "id": "21db7c8c",
   "metadata": {
    "execution": {
     "iopub.execute_input": "2022-05-30T16:39:59.263767Z",
     "iopub.status.busy": "2022-05-30T16:39:59.263075Z",
     "iopub.status.idle": "2022-05-30T16:39:59.266065Z",
     "shell.execute_reply": "2022-05-30T16:39:59.266585Z",
     "shell.execute_reply.started": "2022-04-09T12:25:37.701467Z"
    },
    "papermill": {
     "duration": 0.075952,
     "end_time": "2022-05-30T16:39:59.266757",
     "exception": false,
     "start_time": "2022-05-30T16:39:59.190805",
     "status": "completed"
    },
    "tags": []
   },
   "outputs": [],
   "source": [
    "# !pip install pdfplumber\n",
    "# import pdfplumber\n",
    "# with pdfplumber.open(r'/kaggle/input/sample-pdf/D8communications.pdf') as pdf:\n",
    "#     first_page = pdf.pages[3]\n",
    "#     print(first_page.extract_text())"
   ]
  },
  {
   "cell_type": "code",
   "execution_count": 25,
   "id": "3bdb7e2f",
   "metadata": {
    "execution": {
     "iopub.execute_input": "2022-05-30T16:39:59.408783Z",
     "iopub.status.busy": "2022-05-30T16:39:59.408166Z",
     "iopub.status.idle": "2022-05-30T16:39:59.411021Z",
     "shell.execute_reply": "2022-05-30T16:39:59.411559Z",
     "shell.execute_reply.started": "2022-04-09T12:25:49.584635Z"
    },
    "papermill": {
     "duration": 0.075447,
     "end_time": "2022-05-30T16:39:59.411727",
     "exception": false,
     "start_time": "2022-05-30T16:39:59.336280",
     "status": "completed"
    },
    "tags": []
   },
   "outputs": [],
   "source": [
    "# !pip install pytesseract"
   ]
  },
  {
   "cell_type": "code",
   "execution_count": 26,
   "id": "91f3903e",
   "metadata": {
    "execution": {
     "iopub.execute_input": "2022-05-30T16:39:59.554660Z",
     "iopub.status.busy": "2022-05-30T16:39:59.553923Z",
     "iopub.status.idle": "2022-05-30T16:39:59.555577Z",
     "shell.execute_reply": "2022-05-30T16:39:59.556161Z",
     "shell.execute_reply.started": "2022-04-09T14:49:10.656812Z"
    },
    "papermill": {
     "duration": 0.075495,
     "end_time": "2022-05-30T16:39:59.556336",
     "exception": false,
     "start_time": "2022-05-30T16:39:59.480841",
     "status": "completed"
    },
    "tags": []
   },
   "outputs": [],
   "source": [
    "# #!pip install pdf2image\n",
    "# !pip install poppler"
   ]
  },
  {
   "cell_type": "code",
   "execution_count": 27,
   "id": "e86825e6",
   "metadata": {
    "execution": {
     "iopub.execute_input": "2022-05-30T16:39:59.700711Z",
     "iopub.status.busy": "2022-05-30T16:39:59.700023Z",
     "iopub.status.idle": "2022-05-30T16:39:59.703084Z",
     "shell.execute_reply": "2022-05-30T16:39:59.703628Z",
     "shell.execute_reply.started": "2022-04-09T14:57:24.756677Z"
    },
    "papermill": {
     "duration": 0.075779,
     "end_time": "2022-05-30T16:39:59.703799",
     "exception": false,
     "start_time": "2022-05-30T16:39:59.628020",
     "status": "completed"
    },
    "tags": []
   },
   "outputs": [],
   "source": [
    "# pdf2image.convert_from_path('/kaggle/input/sample-pdf/D8communications.pdf')"
   ]
  },
  {
   "cell_type": "code",
   "execution_count": 28,
   "id": "ee9577af",
   "metadata": {
    "execution": {
     "iopub.execute_input": "2022-05-30T16:39:59.846924Z",
     "iopub.status.busy": "2022-05-30T16:39:59.846258Z",
     "iopub.status.idle": "2022-05-30T16:39:59.849930Z",
     "shell.execute_reply": "2022-05-30T16:39:59.850632Z",
     "shell.execute_reply.started": "2022-04-09T14:57:17.576149Z"
    },
    "papermill": {
     "duration": 0.077735,
     "end_time": "2022-05-30T16:39:59.850813",
     "exception": false,
     "start_time": "2022-05-30T16:39:59.773078",
     "status": "completed"
    },
    "tags": []
   },
   "outputs": [],
   "source": [
    "# import pdf2image\n",
    "# try:\n",
    "#     from PIL import Image\n",
    "# except ImportError:\n",
    "#     import Image\n",
    "# import pytesseract\n",
    "\n",
    "\n",
    "# def pdf_to_img(pdf_file):\n",
    "#     return pdf2image.convert_from_path(pdf_file)\n",
    "\n",
    "\n",
    "# def ocr_core(file):\n",
    "#     text = pytesseract.image_to_string(file)\n",
    "#     return text\n",
    "\n",
    "\n",
    "# def print_pages(pdf_file):\n",
    "#     images = pdf_to_img(pdf_file)\n",
    "#     for pg, img in enumerate(images):\n",
    "#         print(ocr_core(img))\n",
    "\n",
    "\n",
    "# print_pages('/kaggle/input/sample-pdf/D8communications.pdf')\n"
   ]
  },
  {
   "cell_type": "code",
   "execution_count": 29,
   "id": "0bbbe2b0",
   "metadata": {
    "execution": {
     "iopub.execute_input": "2022-05-30T16:39:59.996973Z",
     "iopub.status.busy": "2022-05-30T16:39:59.996141Z",
     "iopub.status.idle": "2022-05-30T16:40:00.000201Z",
     "shell.execute_reply": "2022-05-30T16:39:59.999707Z"
    },
    "papermill": {
     "duration": 0.077645,
     "end_time": "2022-05-30T16:40:00.000352",
     "exception": false,
     "start_time": "2022-05-30T16:39:59.922707",
     "status": "completed"
    },
    "tags": []
   },
   "outputs": [],
   "source": [
    "# import requests\n",
    "# import fitz\n",
    "# import io\n",
    "\n",
    "# #URL = 'https://buildmedia.readthedocs.org/media/pdf/pdfminer-docs/latest/pdfminer-docs.pdf'\n",
    "# URL = 'https://redactable-devox-stage.s3.us-east-2.amazonaws.com/tenants/41d9e109-693b-444c-aa18-e5891bc6550b/original/1a7c0e5d-3237-4ca9-9e3d-89e707245ac6/D8communications.pdf'\n",
    "\n",
    "\n",
    "# res = requests.get(URL)\n",
    "# filestream = io.BytesIO(res.content)\n",
    "# #res.content\n",
    "# filestream\n",
    "# doc = fitz.Document(stream=filestream)\n",
    "# page1 = doc.loadPage(3)\n",
    "# page1text = page1.getText(\"text\").encode(\"utf-8\").decode(\"utf-8\")\n",
    "# print(page1text)"
   ]
  },
  {
   "cell_type": "code",
   "execution_count": 30,
   "id": "dca7cdb3",
   "metadata": {
    "execution": {
     "iopub.execute_input": "2022-05-30T16:40:00.142541Z",
     "iopub.status.busy": "2022-05-30T16:40:00.141860Z",
     "iopub.status.idle": "2022-05-30T16:40:00.145710Z",
     "shell.execute_reply": "2022-05-30T16:40:00.146232Z",
     "shell.execute_reply.started": "2022-04-09T07:04:56.590103Z"
    },
    "papermill": {
     "duration": 0.076498,
     "end_time": "2022-05-30T16:40:00.146422",
     "exception": false,
     "start_time": "2022-05-30T16:40:00.069924",
     "status": "completed"
    },
    "tags": []
   },
   "outputs": [],
   "source": [
    "# import requests\n",
    "# import fitz\n",
    "\n",
    "# #URL = 'https://buildmedia.readthedocs.org/media/pdf/pdfminer-docs/latest/pdfminer-docs.pdf'\n",
    "# URL = 'https://redactable-devox-stage.s3.us-east-2.amazonaws.com/tenants/41d9e109-693b-444c-aa18-e5891bc6550b/original/1a7c0e5d-3237-4ca9-9e3d-89e707245ac6/D8communications.pdf'\n",
    "\n",
    "\n",
    "# res = requests.get(URL)\n",
    "# doc = fitz.open(stream=res.content,filetype=\"pdf\")\n",
    "# page1 = doc.loadPage(3)\n",
    "# page1text = page1.getText(\"text\")\n",
    "# #rect = (72.1149,661.2966,131.95729,675.1716)\n",
    "# rect=(72.10812377929688, 116.13427734375, 133.97142028808594, 146.4227294921875)\n",
    "# labelled_text = page1.get_textbox(rect)\n",
    "# print(labelled_text.strip())\n",
    "\n",
    "# fulltext = page1.get_text()\n",
    "# print(fulltext)\n",
    "# doc = nlp(fulltext)\n",
    "# sentences = []\n",
    "# for sent in doc.sents:\n",
    "#     if labelled_text in sent.text:\n",
    "#         text = sent.text\n",
    "#         print(text)\n",
    "# #print(page1text)"
   ]
  },
  {
   "cell_type": "code",
   "execution_count": 31,
   "id": "d4a60a7c",
   "metadata": {
    "execution": {
     "iopub.execute_input": "2022-05-30T16:40:00.288967Z",
     "iopub.status.busy": "2022-05-30T16:40:00.288232Z",
     "iopub.status.idle": "2022-05-30T16:40:00.291427Z",
     "shell.execute_reply": "2022-05-30T16:40:00.291968Z",
     "shell.execute_reply.started": "2022-04-08T16:42:57.6659Z"
    },
    "papermill": {
     "duration": 0.075672,
     "end_time": "2022-05-30T16:40:00.292131",
     "exception": false,
     "start_time": "2022-05-30T16:40:00.216459",
     "status": "completed"
    },
    "tags": []
   },
   "outputs": [],
   "source": [
    "#res.content"
   ]
  },
  {
   "cell_type": "code",
   "execution_count": 32,
   "id": "138d7e3b",
   "metadata": {
    "execution": {
     "iopub.execute_input": "2022-05-30T16:40:00.434061Z",
     "iopub.status.busy": "2022-05-30T16:40:00.433388Z",
     "iopub.status.idle": "2022-05-30T16:40:00.437155Z",
     "shell.execute_reply": "2022-05-30T16:40:00.437753Z",
     "shell.execute_reply.started": "2022-04-08T16:48:05.672392Z"
    },
    "papermill": {
     "duration": 0.076444,
     "end_time": "2022-05-30T16:40:00.437915",
     "exception": false,
     "start_time": "2022-05-30T16:40:00.361471",
     "status": "completed"
    },
    "tags": []
   },
   "outputs": [],
   "source": [
    "# import fitz\n",
    "# # mem_area=\n",
    "# # doc = fitz.open(stream=mem_area, filetype=\"pdf\")\n",
    "\n",
    "# import requests\n",
    "\n",
    "# URL = 'https://redactable-devox-stage.s3.us-east-2.amazonaws.com/tenants/41d9e109-693b-444c-aa18-e5891bc6550b/original/1a7c0e5d-3237-4ca9-9e3d-89e707245ac6/D8communications.pdf'\n",
    "\n",
    "# #res = requests.get(URL)\n",
    "# doc=fitz.open(\"/kaggle/input/sample-pdf/D8communications.pdf\")\n",
    "# #doc = fitz.open(stream=res.content,filetype=\"pdf\")\n",
    "# page1 = doc.loadPage(4)\n",
    "# # page1text = page1.getText(\"text\")\n",
    "# # print(page1text)\n",
    "# blocks = page1.getText(\"blocks\")\n",
    "# blocks.sort(key=lambda block: block[1])  # sort vertically ascending\n",
    "\n",
    "# for b in blocks:\n",
    "#     print(b[4])\n"
   ]
  },
  {
   "cell_type": "code",
   "execution_count": 33,
   "id": "52e3c766",
   "metadata": {
    "execution": {
     "iopub.execute_input": "2022-05-30T16:40:00.582944Z",
     "iopub.status.busy": "2022-05-30T16:40:00.582138Z",
     "iopub.status.idle": "2022-05-30T16:40:00.585141Z",
     "shell.execute_reply": "2022-05-30T16:40:00.585668Z",
     "shell.execute_reply.started": "2022-04-08T16:48:13.086323Z"
    },
    "papermill": {
     "duration": 0.077088,
     "end_time": "2022-05-30T16:40:00.585837",
     "exception": false,
     "start_time": "2022-05-30T16:40:00.508749",
     "status": "completed"
    },
    "tags": []
   },
   "outputs": [],
   "source": [
    "# # page = doc[1]\n",
    "# words = page.get_text(\"words\")\n",
    "# #print(words)\n",
    "# rect = (72.1149,661.2966,131.95729,675.1716)\n",
    "\n",
    "# labelled_text = page.get_textbox(rect)\n",
    "# # labelled_text"
   ]
  },
  {
   "cell_type": "markdown",
   "id": "953e6d4a",
   "metadata": {
    "papermill": {
     "duration": 0.070561,
     "end_time": "2022-05-30T16:40:00.726298",
     "exception": false,
     "start_time": "2022-05-30T16:40:00.655737",
     "status": "completed"
    },
    "tags": []
   },
   "source": [
    "pip install PyPDF2"
   ]
  },
  {
   "cell_type": "code",
   "execution_count": null,
   "id": "ae1c5fb4",
   "metadata": {
    "papermill": {
     "duration": 0.068567,
     "end_time": "2022-05-30T16:40:00.864090",
     "exception": false,
     "start_time": "2022-05-30T16:40:00.795523",
     "status": "completed"
    },
    "tags": []
   },
   "outputs": [],
   "source": []
  },
  {
   "cell_type": "code",
   "execution_count": 34,
   "id": "93f3240a",
   "metadata": {
    "execution": {
     "iopub.execute_input": "2022-05-30T16:40:01.008247Z",
     "iopub.status.busy": "2022-05-30T16:40:01.007546Z",
     "iopub.status.idle": "2022-05-30T16:40:01.010592Z",
     "shell.execute_reply": "2022-05-30T16:40:01.011108Z",
     "shell.execute_reply.started": "2022-03-18T16:48:58.370268Z"
    },
    "papermill": {
     "duration": 0.0779,
     "end_time": "2022-05-30T16:40:01.011271",
     "exception": false,
     "start_time": "2022-05-30T16:40:00.933371",
     "status": "completed"
    },
    "tags": []
   },
   "outputs": [],
   "source": [
    "# import pandas as pd\n",
    "# h={'step': 0, 'type': 'string', 'amount': 0.0, 'nameOrig': 'C1231006815', 'oldbalanceOrig': 0.0, 'newbalanceOrig': 0.0, 'nameDest': 'M1979787155', 'oldbalanceDest': 0.0, 'newbalanceDest': 0.0}\n",
    "# df=pd.DataFrame([h])"
   ]
  },
  {
   "cell_type": "code",
   "execution_count": 35,
   "id": "f064fd33",
   "metadata": {
    "execution": {
     "iopub.execute_input": "2022-05-30T16:40:01.156256Z",
     "iopub.status.busy": "2022-05-30T16:40:01.155585Z",
     "iopub.status.idle": "2022-05-30T16:40:01.158475Z",
     "shell.execute_reply": "2022-05-30T16:40:01.159008Z",
     "shell.execute_reply.started": "2022-04-09T17:21:26.021615Z"
    },
    "papermill": {
     "duration": 0.076168,
     "end_time": "2022-05-30T16:40:01.159186",
     "exception": false,
     "start_time": "2022-05-30T16:40:01.083018",
     "status": "completed"
    },
    "tags": []
   },
   "outputs": [],
   "source": [
    "#df"
   ]
  },
  {
   "cell_type": "code",
   "execution_count": null,
   "id": "0006aa4c",
   "metadata": {
    "papermill": {
     "duration": 0.069079,
     "end_time": "2022-05-30T16:40:01.299279",
     "exception": false,
     "start_time": "2022-05-30T16:40:01.230200",
     "status": "completed"
    },
    "tags": []
   },
   "outputs": [],
   "source": []
  }
 ],
 "metadata": {
  "kernelspec": {
   "display_name": "Python 3",
   "language": "python",
   "name": "python3"
  },
  "language_info": {
   "codemirror_mode": {
    "name": "ipython",
    "version": 3
   },
   "file_extension": ".py",
   "mimetype": "text/x-python",
   "name": "python",
   "nbconvert_exporter": "python",
   "pygments_lexer": "ipython3",
   "version": "3.7.12"
  },
  "papermill": {
   "default_parameters": {},
   "duration": 23.9199,
   "end_time": "2022-05-30T16:40:01.977964",
   "environment_variables": {},
   "exception": null,
   "input_path": "__notebook__.ipynb",
   "output_path": "__notebook__.ipynb",
   "parameters": {},
   "start_time": "2022-05-30T16:39:38.058064",
   "version": "2.3.3"
  }
 },
 "nbformat": 4,
 "nbformat_minor": 5
}
