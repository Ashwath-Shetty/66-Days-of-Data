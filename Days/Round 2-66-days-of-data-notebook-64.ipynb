{
 "cells": [
  {
   "cell_type": "code",
   "execution_count": 1,
   "id": "b2f6cb6e",
   "metadata": {
    "_cell_guid": "b1076dfc-b9ad-4769-8c92-a6c4dae69d19",
    "_uuid": "8f2839f25d086af736a60e9eeb907d3b93b6e0e5",
    "execution": {
     "iopub.execute_input": "2022-05-14T17:17:57.334698Z",
     "iopub.status.busy": "2022-05-14T17:17:57.333755Z",
     "iopub.status.idle": "2022-05-14T17:17:57.352168Z",
     "shell.execute_reply": "2022-05-14T17:17:57.352723Z",
     "shell.execute_reply.started": "2022-04-12T14:12:25.248687Z"
    },
    "papermill": {
     "duration": 0.101467,
     "end_time": "2022-05-14T17:17:57.353014",
     "exception": false,
     "start_time": "2022-05-14T17:17:57.251547",
     "status": "completed"
    },
    "tags": []
   },
   "outputs": [
    {
     "name": "stdout",
     "output_type": "stream",
     "text": [
      "/kaggle/input/sample-pdf/D8communications.pdf\n"
     ]
    }
   ],
   "source": [
    "# This Python 3 environment comes with many helpful analytics libraries installed\n",
    "# It is defined by the kaggle/python Docker image: https://github.com/kaggle/docker-python\n",
    "# For example, here's several helpful packages to load\n",
    "\n",
    "import numpy as np # linear algebra\n",
    "import pandas as pd # data processing, CSV file I/O (e.g. pd.read_csv)\n",
    "\n",
    "# Input data files are available in the read-only \"../input/\" directory\n",
    "# For example, running this (by clicking run or pressing Shift+Enter) will list all files under the input directory\n",
    "\n",
    "import os\n",
    "for dirname, _, filenames in os.walk('/kaggle/input'):\n",
    "    for filename in filenames:\n",
    "        print(os.path.join(dirname, filename))\n",
    "\n",
    "# You can write up to 20GB to the current directory (/kaggle/working/) that gets preserved as output when you create a version using \"Save & Run All\" \n",
    "# You can also write temporary files to /kaggle/temp/, but they won't be saved outside of the current session"
   ]
  },
  {
   "cell_type": "markdown",
   "id": "abc61218",
   "metadata": {
    "papermill": {
     "duration": 0.067704,
     "end_time": "2022-05-14T17:17:57.489545",
     "exception": false,
     "start_time": "2022-05-14T17:17:57.421841",
     "status": "completed"
    },
    "tags": []
   },
   "source": [
    "# **Start Date: 12/3/2022**"
   ]
  },
  {
   "cell_type": "markdown",
   "id": "52128be3",
   "metadata": {
    "papermill": {
     "duration": 0.067654,
     "end_time": "2022-05-14T17:17:57.626437",
     "exception": false,
     "start_time": "2022-05-14T17:17:57.558783",
     "status": "completed"
    },
    "tags": []
   },
   "source": [
    "# **Day 1:** \n",
    "<br>dataquest -> stats -> probability-> estimating probability\n",
    "1. out come is nothing but o/p of an experiment\n",
    "ex: whatever u get after rolling a dice -> it can be any number\n",
    "2. event can have more than one outcome\n",
    "- e.x: The event that we'll get an odd number when we roll a six-sided die — this event includes the outcomes 1, 3, and 5.\n",
    "- an event can be 0 as well.\n",
    "- We always assign probabilities to events, not outcomes, even if the event includes only one outcome.\n",
    "- P(E) =1/total number of possible outcomes, P(E) probability of an event happening.\n",
    "- but above formula doesn't work always, especially when there are more than one outcome\n",
    "    - P(E)=number of successful outcomes/total number of possible outcomes\n",
    "- incase of a biased situation \n",
    "  - let's say a die has 6 - 3 times which is 1,6,3,5,6,6\n",
    "    we will consider 6 as 3 times not 1.\n",
    "    possible outcome-> 1,3,5,6,6,6\n",
    "    prob(6)=3/6\n",
    "    prob(3)=1/6\n",
    "    prob(2)=0/6\n",
    "    If we didn't treat each 6 differently and said it doesn't matter which side a 6 is on, \n",
    "    <br>we'd be forced to conclude the only possible outcomes are 1, 3, 5 and 6. We can definitely         <br>frame the problem like that, but the formula above won't work anymore — we see below P(6) <br>becomes the same as P(3), but, intuitively, P(6) should be higher than P(3) since the die has 6 on     <br>three of its sides:\n"
   ]
  },
  {
   "cell_type": "markdown",
   "id": "3852a222",
   "metadata": {
    "papermill": {
     "duration": 0.06972,
     "end_time": "2022-05-14T17:17:57.764458",
     "exception": false,
     "start_time": "2022-05-14T17:17:57.694738",
     "status": "completed"
    },
    "tags": []
   },
   "source": [
    "Estimating Probabilities Conclusion\n",
    "- emperical/ experimental probability\n",
    "  - probability achieved by experimenting / by doing the same event multiple times.\n",
    "  - Generally, for any event E (like a coin landing heads up), we can find its empirical probability   \n",
    "     by using the following formula: \n",
    "     •P (E) =number of times event E happened/ number of times we repeated the experiment   \n",
    " - Generally, the empirical probability of an event (a coin landing heads up, getting a 5 when weroll a die) approaches the true probability value as the number of trials of the randomexperiment (a coin toss, the rolling of a die) increases without bound.\n",
    "- When we calculate the probability of an event under the assumption that the outcomes have equal chances of occurring, we say that we're calculating the **theoretical probability** of an event.\n",
    "   - P(E)=number of successful outcomes/total number of possible outcomes\n",
    "\n"
   ]
  },
  {
   "cell_type": "markdown",
   "id": "180ce84d",
   "metadata": {
    "papermill": {
     "duration": 0.06744,
     "end_time": "2022-05-14T17:17:57.901533",
     "exception": false,
     "start_time": "2022-05-14T17:17:57.834093",
     "status": "completed"
    },
    "tags": []
   },
   "source": [
    "# **Day 2**\n",
    "<br>dataquest-> stats -> intro to probability -> probability rules\n",
    "<br>In probability theory, the set of all possible outcomes is called a sample space. A sample space is often denoted by the capital Greek letter Ω (read \"omega\"). This is how we represent the sample space of a die roll:\n",
    "\n",
    "Ω = {1,2,3,4,5,6}\n",
    "-    The probability of any event ranges between 0 and 1: 0≤ P(Event) ≤1\n",
    "- To calculate P(A or B), we can also use the formula below, which is sometimes called the addition rule: P(A or B) = P(A) + P(B)\n",
    "  - Sample space ={ 1,2,3,4,5,6} \n",
    "  - P(2 or 5) = 2/6\n",
    "\n",
    "- P(C or D) = P(C) + P(D) - P(C and D)\n",
    "   - e.x : Sample_space ={2,4,6} + { 4,5,6} - {4/6}\n",
    "      P( even number or number greater than 3) = ( (3/6) + (3/6) )- (2/6) = 4/6\n",
    "- Events that don't intersect are called mutually exclusive.\n",
    "  - e.x: Getting a 5 (event one) and getting a 3 (event two) when we roll a regular six-sided die — it's  impossible to get both a 5 and 3.\n",
    "- Events that intersect are called mutually non-exclusive.\n",
    "  - Getting a number greater than 2 (event one) and getting an odd number (event two) when we roll a regular six-sided die — we could get a 5, which is both greater than 2 (event one) and odd (event two).\n",
    "- unioun -> A or B, intersection -> A and B"
   ]
  },
  {
   "cell_type": "markdown",
   "id": "aef7fbcf",
   "metadata": {
    "papermill": {
     "duration": 0.068758,
     "end_time": "2022-05-14T17:17:58.038282",
     "exception": false,
     "start_time": "2022-05-14T17:17:57.969524",
     "status": "completed"
    },
    "tags": []
   },
   "source": [
    "# Day 3 and 4\n",
    "dataquest -> stats -> probabilities -> solving complex probabilities\n",
    "- This is the same result we got from our previous approach. In more general terms, the multiplication rule says that for two events E1 and E2, the probability that both event E1 and E2 happen can be found by multiplying the probability of E1 by the probability of E2:\n",
    "    - P(E1 ∩ E2) = P(E1) × P(E2)\n",
    "    - Events that don't influence each other's probability are called independent events. If H1 happens, P(H2) stays the same, so H1 and H2 are independent. The multiplication rule we learned only works for independent events.\n",
    "    "
   ]
  },
  {
   "cell_type": "markdown",
   "id": "df61cf69",
   "metadata": {
    "papermill": {
     "duration": 0.067406,
     "end_time": "2022-05-14T17:17:58.174392",
     "exception": false,
     "start_time": "2022-05-14T17:17:58.106986",
     "status": "completed"
    },
    "tags": []
   },
   "source": [
    "# Day 5\n",
    "- When we replace the cards after drawing, we say that we're sampling with replacement. When we don't put the cards back, we're sampling without replacement. \n"
   ]
  },
  {
   "cell_type": "markdown",
   "id": "d993455d",
   "metadata": {
    "papermill": {
     "duration": 0.067349,
     "end_time": "2022-05-14T17:17:58.309644",
     "exception": false,
     "start_time": "2022-05-14T17:17:58.242295",
     "status": "completed"
    },
    "tags": []
   },
   "source": [
    "# Day6\n",
    "dataquest-> prob and stats -> probability fundamentals -> permutation and combinations\n",
    "Generally, if we have an experiment E1 (like flipping a coin) with a outcomes, followed by an experiment E2 (like rolling a die) with b outcomes, then the total number of outcomes for the composite experiment E1E2 can be found by multiplying a with b:\n",
    "\n",
    "Number of outcomes = a * b"
   ]
  },
  {
   "cell_type": "markdown",
   "id": "e4d7b7d7",
   "metadata": {
    "papermill": {
     "duration": 0.067036,
     "end_time": "2022-05-14T17:17:58.444113",
     "exception": false,
     "start_time": "2022-05-14T17:17:58.377077",
     "status": "completed"
    },
    "tags": []
   },
   "source": [
    "# Day 7\n",
    "dataquest-> prob and stats -> probability fundamentals -> permutation and combinations <br>\n",
    "More generally, if we have an experiment E1 with a outcomes, followed by an experiment E2 with b outcomes, followed by an experiment En with z outcomes, the total number of outcomes for the composite experiment E1E2 ... En can be found by multiplying their individual outcomes:\n",
    "\n",
    "Number of outcomes= a * b * … * z"
   ]
  },
  {
   "cell_type": "markdown",
   "id": "76b60bb1",
   "metadata": {
    "papermill": {
     "duration": 0.067047,
     "end_time": "2022-05-14T17:17:58.578880",
     "exception": false,
     "start_time": "2022-05-14T17:17:58.511833",
     "status": "completed"
    },
    "tags": []
   },
   "source": [
    "# Day 8\n",
    "dataquest-> prob and stats -> probability fundamentals -> permutation and combinations <br>\n",
    "permutations= n*(n-1)*(n-2)*....*2*1\n"
   ]
  },
  {
   "cell_type": "markdown",
   "id": "f39e4f81",
   "metadata": {
    "papermill": {
     "duration": 0.067384,
     "end_time": "2022-05-14T17:17:58.713467",
     "exception": false,
     "start_time": "2022-05-14T17:17:58.646083",
     "status": "completed"
    },
    "tags": []
   },
   "source": [
    "# Day 9\n",
    "dataquest-> prob and stats -> probability fundamentals -> permutation and combinations\n",
    "- in permutation order of the individual element in the arranement matters.\n",
    "   - for e.x: 9821 is different than 9281\n",
    "   - Permutations =n!  --> sample without replacement-> we are not putting back the sampled data.\n",
    "   - On the last screen, we learned to use the formula below to calculate permutations when we're sampling without replacement and taking only k objects from a group of n objects:\n",
    "   npk=n!/(n-k)!"
   ]
  },
  {
   "cell_type": "markdown",
   "id": "0c43f6f4",
   "metadata": {
    "papermill": {
     "duration": 0.067239,
     "end_time": "2022-05-14T17:17:58.848733",
     "exception": false,
     "start_time": "2022-05-14T17:17:58.781494",
     "status": "completed"
    },
    "tags": []
   },
   "source": [
    "# Day 10\n",
    "dataquest-> prob and stats -> probability fundamentals -> permutation and combinations\n",
    "- More generally, if the order of the elements in an arrangement doesn't matter, the arrangement is called a combination.\n",
    "- e.x: cards in a deck \n",
    "- nCk = n! / ((n-k)!*k!)"
   ]
  },
  {
   "cell_type": "markdown",
   "id": "82e09a1d",
   "metadata": {
    "papermill": {
     "duration": 0.067792,
     "end_time": "2022-05-14T17:17:58.983974",
     "exception": false,
     "start_time": "2022-05-14T17:17:58.916182",
     "status": "completed"
    },
    "tags": []
   },
   "source": [
    "# Day 11\n",
    "dataquest-> prob and stats -> probability fundamentals -> permutation and combinations\n",
    "- solved 1 probability problem.\n"
   ]
  },
  {
   "cell_type": "markdown",
   "id": "fe414ee1",
   "metadata": {
    "papermill": {
     "duration": 0.068853,
     "end_time": "2022-05-14T17:17:59.121107",
     "exception": false,
     "start_time": "2022-05-14T17:17:59.052254",
     "status": "completed"
    },
    "tags": []
   },
   "source": [
    "# Day 12\n",
    "dataquest-> prob and stats -> probability fundamentals -> permutation and combinations\n",
    "- finished probability and permutations by revising them.\n",
    "- If we have an experiment E1 (like flipping a coin) with a outcomes, followed by an experiment E2(like rolling a die) with b outcomes, then the total number of outcomes for the compositeexperiment E1E2 can be found by multiplying a with b (this is known as the rule of product):\n",
    "  - number of outcomes = a*b\n",
    "- If we have an experiment E1 with a outcomes, followed by an experiment E2 with b outcomes,followed by an experiment En with z outcomes, the total number of outcomes for the compositeexperiment E1E2 ... En can be found by multiplying their individual outcomes:\n",
    "   - number of outcomes = a*b* ... *z\n",
    "- There are two kinds of arrangements:\n",
    "   - •Arrangements where the order matters, which we call permutations.\n",
    "   - •Arrangements where the order doesn't matter, which we call combination\n",
    "- To find the number of permutations when we're sampling without replacement, we can use theformula:\n",
    "  - permutation = n!\n",
    "- To find the number of permutations when we're sampling without replacement and taking only kobjects from a group of n objects, we can use the formula:\n",
    "  - nPk = n!/(n-k)!\n",
    "- To find the number of combinations when we're sampling without replacement and taking only kobjects from a group of n objects, we can use the formula\n",
    "  - nCk = n! / ((n-k)!*k!)"
   ]
  },
  {
   "cell_type": "markdown",
   "id": "9368475f",
   "metadata": {
    "papermill": {
     "duration": 0.066912,
     "end_time": "2022-05-14T17:17:59.255453",
     "exception": false,
     "start_time": "2022-05-14T17:17:59.188541",
     "status": "completed"
    },
    "tags": []
   },
   "source": [
    "# Day 13\n",
    "dataquest-> prob and stats -> probability fundamentals -> conditional probabilities\n",
    "- first 2 slides -> mainly the recap of old chapter(above one).\n"
   ]
  },
  {
   "cell_type": "markdown",
   "id": "d9dc6300",
   "metadata": {
    "papermill": {
     "duration": 0.06719,
     "end_time": "2022-05-14T17:17:59.390186",
     "exception": false,
     "start_time": "2022-05-14T17:17:59.322996",
     "status": "completed"
    },
    "tags": []
   },
   "source": [
    "# Day 14\n",
    "dataquest-> prob and stats -> probability fundamentals -> conditional probabilities\n",
    "<br>slide 4 completed\n",
    "<br>conditional probabilities\n",
    "- probabilities with condition\n",
    "- P(5)=What is the probability of getting a 5? -> normal probability\n",
    "- P(5 | odd) =What is the probability of getting a 5 given the die showed an odd number? -> conditional prob.\n",
    "\n"
   ]
  },
  {
   "cell_type": "markdown",
   "id": "90855ec6",
   "metadata": {
    "papermill": {
     "duration": 0.067858,
     "end_time": "2022-05-14T17:17:59.527968",
     "exception": false,
     "start_time": "2022-05-14T17:17:59.460110",
     "status": "completed"
    },
    "tags": []
   },
   "source": [
    "# Day 15\n",
    "dataquest-> prob and stats -> probability fundamentals -> conditional probabilities\n",
    "- on slide 5 not done yet.\n",
    "\n",
    "Say we roll a fair six-sided die and want to find the probability of getting an odd number, given the die showed a number greater than 1 after landing. Using probability notation, we want to find P(A|B) where:\n",
    "\n",
    "- A is the event that the number is odd: A = {1, 3, 5}\n",
    "- B is the event that the number is greater than 1: B = {2, 3, 4, 5, 6}\n",
    "- P(A/B)=number of succesfull outcomes / total number of outcomes.\n"
   ]
  },
  {
   "cell_type": "markdown",
   "id": "1c9c1217",
   "metadata": {
    "papermill": {
     "duration": 0.066941,
     "end_time": "2022-05-14T17:17:59.662411",
     "exception": false,
     "start_time": "2022-05-14T17:17:59.595470",
     "status": "completed"
    },
    "tags": []
   },
   "source": [
    "# Day 16 and 17\n",
    "dataquest-> prob and stats -> probability fundamentals -> conditional probabilities\n",
    "\n",
    "on slide 6 not done yet."
   ]
  },
  {
   "cell_type": "markdown",
   "id": "28a049de",
   "metadata": {
    "papermill": {
     "duration": 0.067801,
     "end_time": "2022-05-14T17:17:59.797988",
     "exception": false,
     "start_time": "2022-05-14T17:17:59.730187",
     "status": "completed"
    },
    "tags": []
   },
   "source": [
    "# Day 18\n",
    "dataquest-> prob and stats -> probability fundamentals -> conditional probabilities\n",
    "<br>slide 5 code half done"
   ]
  },
  {
   "cell_type": "markdown",
   "id": "1caa1c1a",
   "metadata": {
    "papermill": {
     "duration": 0.067072,
     "end_time": "2022-05-14T17:17:59.932516",
     "exception": false,
     "start_time": "2022-05-14T17:17:59.865444",
     "status": "completed"
    },
    "tags": []
   },
   "source": [
    "# Day 19\n",
    "- The number of elements in a set is called the cardinal of the set. \n",
    "  Ω is a set, and the cardinal of \n",
    "   Ω = { 2,3,4,5,6}\n",
    "   cardinal(Ω)=5\n",
    "- P(A | B) = card(A ∩ B) / card(B)\n",
    "- Say we roll a fair six-sided die and want to find the probability of getting an odd number, given the die showed a number greater than 1 after landing. Using probability notation, we want to find P(A|B) where:\n",
    "    - A is the event that the number is odd: A = {1, 3, 5}\n",
    "     - B is the event that the number is greater than 1: B = {2, 3, 4, 5, 6}\n",
    "     - total number of possible outcomes = card({2,3,4,5,6}) =5\n",
    "     - number of successful outcomes = card({3,5})= 2\n",
    "- P(A | B) = card(A ∩ B) / card(B), we can also get the same result using P(A | B) = prob(A ∩ B) / prob(B)\n",
    "\n",
    "     "
   ]
  },
  {
   "cell_type": "markdown",
   "id": "e0d2b665",
   "metadata": {
    "papermill": {
     "duration": 0.067832,
     "end_time": "2022-05-14T17:18:00.069028",
     "exception": false,
     "start_time": "2022-05-14T17:18:00.001196",
     "status": "completed"
    },
    "tags": []
   },
   "source": [
    "# Day 20\n",
    "dataquest-> prob and stats -> probability fundamentals -> conditional probabilities intermediate\n",
    "<br> slide 1 and 2\n",
    "- P( A | B ) ≠ P(A ∩ B), but rather:\n",
    "   - P(A | B) = P(A ∩ B) / P(B)\n",
    "   - P(A ∩ B) = P(A | B) ⋅ P(B)\n",
    "- Given that a customer bought a laptop, they will or will not also buy a mouse. This means we can be certain that either event (M|L) or (M^C|L) will happen:\n",
    "     - P(M | L) + P(M^C | L) = 1\n",
    "\n"
   ]
  },
  {
   "cell_type": "markdown",
   "id": "ae3abe05",
   "metadata": {
    "papermill": {
     "duration": 0.067395,
     "end_time": "2022-05-14T17:18:00.204208",
     "exception": false,
     "start_time": "2022-05-14T17:18:00.136813",
     "status": "completed"
    },
    "tags": []
   },
   "source": [
    "# Day 21\n",
    "dataquest-> prob and stats -> probability fundamentals -> conditional probabilities intermediate\n",
    "slide 1 and 2\n",
    "- P(A ∩ B) = P(B ∩ A)\n",
    "- multiplication rule of probability\n",
    "  -  P(A ∩ B) = P(B) ⋅ P(A | B) \n",
    "  - P(A ∩ B) = P(A) ⋅ P(B | A)\n",
    "- if P(A) and P(B) are statistically independent then \n",
    "  - P(A ∩ B) = P(A) ⋅ P(B)\n",
    "\n"
   ]
  },
  {
   "cell_type": "markdown",
   "id": "f5cf0329",
   "metadata": {
    "papermill": {
     "duration": 0.068598,
     "end_time": "2022-05-14T17:18:00.342676",
     "exception": false,
     "start_time": "2022-05-14T17:18:00.274078",
     "status": "completed"
    },
    "tags": []
   },
   "source": [
    "# Day 22\n",
    "dataquest-> prob and stats -> probability fundamentals -> conditional probabilities intermediate \n",
    "<br>slide 6\n",
    "- If events events A and B are dependent, it means the occurrence of event A changes the probability of event B and vice versa.\n",
    "   - P(A) ≠ P(A | B)\n",
    "   - P(B) ≠ P(B | A)\n",
    "   - P(A ∩ B) ≠ P(A) ⋅ P(B)\n",
    "   - formula will become P(A ∩ B) ≠ P(A) ⋅ P(B/A)\n",
    "   "
   ]
  },
  {
   "cell_type": "markdown",
   "id": "77400fd4",
   "metadata": {
    "papermill": {
     "duration": 0.067547,
     "end_time": "2022-05-14T17:18:00.479892",
     "exception": false,
     "start_time": "2022-05-14T17:18:00.412345",
     "status": "completed"
    },
    "tags": []
   },
   "source": [
    "# Day 23\n",
    "dataquest-> prob and stats -> probability fundamentals -> conditional probabilities intermediate\n",
    "<br>slide 7 to last\n",
    "- To find whether three events — A, B, C — are independent or not, below conditions must hold true -\n",
    "  - P(A ∩ B) ≠ P(A) ⋅ P(B)\n",
    "  - P(A ∩ C) ≠ P(A) ⋅ P(C)\n",
    "  - P(B ∩ C) ≠ P(B) ⋅ P(C)\n",
    "  - P(A ∩ B ∩ C) ≠ P(A) ⋅ P(B) . P(C)\n",
    "- multiplication rule for conditional probability or dependent events\n",
    " - P(A ∩ B ∩ C) = P(A) ⋅ P(B | A) ⋅ P(C | A ∩ B)\n",
    " \n",
    "\n"
   ]
  },
  {
   "cell_type": "markdown",
   "id": "32c9f534",
   "metadata": {
    "papermill": {
     "duration": 0.067537,
     "end_time": "2022-05-14T17:18:00.615671",
     "exception": false,
     "start_time": "2022-05-14T17:18:00.548134",
     "status": "completed"
    },
    "tags": []
   },
   "source": [
    "# Day 24\n",
    "dataquest-> prob and stats -> probability fundamentals -> bayes theorem\n",
    "<br>slide 1\n",
    "- independent -> one event is dependent on other\n",
    "   - P(A ∩ B) = P(A) ⋅ P(B/A)\n",
    "- independent -> one event is not dependent on other.\n",
    "   - P(A ∩ B) = P(A) ⋅ P(B)\n",
    "- mutually exclusive -> both the events cannot happen at the same time.\n",
    "   - P(A ∩ B) = 0\n",
    "\n"
   ]
  },
  {
   "cell_type": "markdown",
   "id": "d41b8508",
   "metadata": {
    "papermill": {
     "duration": 0.067374,
     "end_time": "2022-05-14T17:18:00.750877",
     "exception": false,
     "start_time": "2022-05-14T17:18:00.683503",
     "status": "completed"
    },
    "tags": []
   },
   "source": [
    "# Day 25\n",
    "dataquest-> prob and stats -> probability fundamentals -> bayes theorem\n",
    "<br>slide 2\n",
    "- If two events are exhaustive, it means they make up the whole sample space Ω\n",
    "  -  P(A) = P(A ∩ B) + P(A ∩ B^c)\n",
    "     P(A) = (P(B) * P(A/B)) +  (P(B^c) * P(A/B^c))\n",
    "     \n",
    "     "
   ]
  },
  {
   "cell_type": "markdown",
   "id": "21840a8f",
   "metadata": {
    "papermill": {
     "duration": 0.069218,
     "end_time": "2022-05-14T17:18:00.888765",
     "exception": false,
     "start_time": "2022-05-14T17:18:00.819547",
     "status": "completed"
    },
    "tags": []
   },
   "source": [
    "# Day 26\n",
    "dataquest-> prob and stats -> probability fundamentals -> bayes theorem\n",
    "<br>slide 3 - last\n",
    "- the law of total probability\n",
    "  - P(A)  = (P(B1) * P(A/B1)) + (P(B2) * P(A/B2))+ ... + (P(Bn) * P(A/Bn)))\n",
    "  - P(A) =(summattion i=1 to n) P(Bi) ⋅ P(A|Bi)\n",
    "- Baye's theorem\n",
    "  - P(B | A) = (P(B) ⋅ P(A | B)) / (n ∑i=1 P(Bi) ⋅ P(A | Bi))\n",
    "- The probability of being infected with HIV before doing any test is called the prior probability (\"prior\" means \"before\"). The probability of being infected with HIV after testing positive is called the posterior probability (\"posterior\" means \"after\").\n",
    "\n",
    "\n",
    "  "
   ]
  },
  {
   "cell_type": "markdown",
   "id": "e63ef9e0",
   "metadata": {
    "papermill": {
     "duration": 0.068076,
     "end_time": "2022-05-14T17:18:01.025211",
     "exception": false,
     "start_time": "2022-05-14T17:18:00.957135",
     "status": "completed"
    },
    "tags": []
   },
   "source": [
    "# Day 27\n",
    "dataquest-> prob and stats -> probability fundamentals -> naive bayes theorem\n",
    "<br>slide 1 - \n",
    "P(Spam|w1,w2,w3,w4)∝P(Spam)⋅P(w1|Spam)⋅P(w2|Spam)⋅P(w3|Spam)⋅P(w4|Spam)P(SpamC|w1,w2,w3,w4)∝P(SpamC)⋅P(w1|SpamC)⋅P(w2|SpamC)⋅P(w3|SpamC)⋅P(w4|SpamC)"
   ]
  },
  {
   "cell_type": "markdown",
   "id": "357d41c8",
   "metadata": {
    "papermill": {
     "duration": 0.06731,
     "end_time": "2022-05-14T17:18:01.164125",
     "exception": false,
     "start_time": "2022-05-14T17:18:01.096815",
     "status": "completed"
    },
    "tags": []
   },
   "source": [
    "# Day 28\n",
    "dataquest-> prob and stats -> probability fundamentals -> naive bayes theorem\n",
    "<br>finished.\n",
    "<br>**Summary**\n",
    "- P(Spam|w1,w2,...,wn)∝P(Spam)⋅n∏i=1P(wi|Spam)\n",
    "- P(SpamC|w1,w2,...,wn)∝P(SpamC)⋅n∏i=1P(wi|SpamC)\n",
    "- To calculate P(wi|Spam) and P(wi|SpamC), we need to use the additive smoothing technique: \n",
    "- P ( w i | S p a m ) = (N w i | S p a m + α) / ( N S p a m + α ⋅ N V o c a b u l a r y )\n",
    "- P ( w i | S p a m C ) = (N w i | S p a m C + α) / ( N S p a m C + α ⋅ N V o c a b u l a r y )\n",
    "     - N w i | S p a m = the number of times the word w i occurs in spam messages \n",
    "     - N w i | S p a m C = the number of times the word w i occurs in non-spam messages \n",
    "     - N S p a m = total number of words in spam messages \n",
    "     - N S p a m C = total number of words in non-spam messages \n",
    "     - N V o c a b u l a r y = total number of words in the vocabulary \n",
    "     - α = 1 ( α is a smoothing parameter )\n",
    " - naive bayes theorem assumes that events are not dependent.\n",
    " - The assumption of conditional independence between words is thus naive since it rarely holds in practice, and this is why the algorithm is called Naive Bayes (also called simple Bayes or independence Bayes)."
   ]
  },
  {
   "cell_type": "markdown",
   "id": "472fd1a6",
   "metadata": {
    "papermill": {
     "duration": 0.067448,
     "end_time": "2022-05-14T17:18:01.302639",
     "exception": false,
     "start_time": "2022-05-14T17:18:01.235191",
     "status": "completed"
    },
    "tags": []
   },
   "source": [
    "# Day 29,30,31\n",
    "<br>dataquest-> prob and stats -> probability fundamentals -> conditional probability-> guided projects\n",
    "<br> in progress"
   ]
  },
  {
   "cell_type": "markdown",
   "id": "0d9d035f",
   "metadata": {
    "papermill": {
     "duration": 0.06896,
     "end_time": "2022-05-14T17:18:01.439394",
     "exception": false,
     "start_time": "2022-05-14T17:18:01.370434",
     "status": "completed"
    },
    "tags": []
   },
   "source": [
    "# Day 32 and 33\n",
    "<br>dataquest-> prob and stats -> probability fundamentals -> guided projects\n",
    "<br> done"
   ]
  },
  {
   "cell_type": "markdown",
   "id": "4fa7bd21",
   "metadata": {
    "papermill": {
     "duration": 0.067356,
     "end_time": "2022-05-14T17:18:01.574279",
     "exception": false,
     "start_time": "2022-05-14T17:18:01.506923",
     "status": "completed"
    },
    "tags": []
   },
   "source": [
    "# Day 34\n",
    "<br>dataquest-> prob and stats -> probability fundamentals -> guided projects-> lottery prediction\n",
    "<br> done"
   ]
  },
  {
   "cell_type": "markdown",
   "id": "40c7798e",
   "metadata": {
    "papermill": {
     "duration": 0.067245,
     "end_time": "2022-05-14T17:18:01.709079",
     "exception": false,
     "start_time": "2022-05-14T17:18:01.641834",
     "status": "completed"
    },
    "tags": []
   },
   "source": [
    "# Day 35\n",
    "<br>dataquest-> prob and stats -> hypothesis testing fundamentals -> significance testing\n",
    "<br> till slide 4\n",
    "- null hypothesis\n",
    "- alternate hypothesis\n"
   ]
  },
  {
   "cell_type": "markdown",
   "id": "c2ffb7d9",
   "metadata": {
    "papermill": {
     "duration": 0.07017,
     "end_time": "2022-05-14T17:18:01.847018",
     "exception": false,
     "start_time": "2022-05-14T17:18:01.776848",
     "status": "completed"
    },
    "tags": []
   },
   "source": [
    "# Day 36 and 37\n",
    "<br>dataquest-> prob and stats -> hypothesis testing fundamentals -> significance testing\n",
    "- The permutation test is a statistical test that involves rerunning the study many times and recalculating the test statistic for each iteration. The goal is to calculate a distribution of the test statistics over these many iterations. This distribution is called the sampling distribution and it approximates the full range of possible test statistics under the null hypothesis\n",
    "\n"
   ]
  },
  {
   "cell_type": "markdown",
   "id": "cd6e3a55",
   "metadata": {
    "papermill": {
     "duration": 0.068845,
     "end_time": "2022-05-14T17:18:01.984418",
     "exception": false,
     "start_time": "2022-05-14T17:18:01.915573",
     "status": "completed"
    },
    "tags": []
   },
   "source": [
    "# Day 38\n",
    "<br>dataquest-> prob and stats -> hypothesis testing fundamentals -> significance testing\n",
    "<br>in progress."
   ]
  },
  {
   "cell_type": "markdown",
   "id": "b2437248",
   "metadata": {
    "papermill": {
     "duration": 0.067458,
     "end_time": "2022-05-14T17:18:02.123236",
     "exception": false,
     "start_time": "2022-05-14T17:18:02.055778",
     "status": "completed"
    },
    "tags": []
   },
   "source": [
    "# Day 39\n",
    "<br>dataquest-> prob and stats -> hypothesis testing fundamentals -> significance testing\n",
    "<br>slide 5-6"
   ]
  },
  {
   "cell_type": "markdown",
   "id": "d17013c3",
   "metadata": {
    "papermill": {
     "duration": 0.067199,
     "end_time": "2022-05-14T17:18:02.258004",
     "exception": false,
     "start_time": "2022-05-14T17:18:02.190805",
     "status": "completed"
    },
    "tags": []
   },
   "source": [
    "# Day 40\n",
    "<br>dataquest-> prob and stats -> hypothesis testing fundamentals -> significance testing\n",
    "<br>slide 7"
   ]
  },
  {
   "cell_type": "markdown",
   "id": "efef7abf",
   "metadata": {
    "papermill": {
     "duration": 0.06946,
     "end_time": "2022-05-14T17:18:02.395044",
     "exception": false,
     "start_time": "2022-05-14T17:18:02.325584",
     "status": "completed"
    },
    "tags": []
   },
   "source": [
    "# Day 41 and 42\n",
    "<br>dataquest-> prob and stats -> hypothesis testing fundamentals -> significance testing\n",
    "<br>slide 7 done and 8(p-value) strated"
   ]
  },
  {
   "cell_type": "markdown",
   "id": "94074783",
   "metadata": {
    "papermill": {
     "duration": 0.067055,
     "end_time": "2022-05-14T17:18:02.529593",
     "exception": false,
     "start_time": "2022-05-14T17:18:02.462538",
     "status": "completed"
    },
    "tags": []
   },
   "source": [
    "# Day 43\n",
    "<br>dataquest-> prob and stats -> hypothesis testing fundamentals -> significance testing\n",
    "<br>\n",
    "- The first step is to decide a test statistic, which is a numerical value that summarizes the data and one we can use in statistical formulas. The test statistic runs a statistical test that determines whether the difference between the groups was due to random chance.\n",
    "  - e.x: mean \n",
    "- The permutation test is a statistical test that involves rerunning the study many times and recalculating the test statistic for each iteration.\n",
    "   - The goal is to calculate a distribution of the test statistics over these many iterations. This distribution is called the sampling distribution and it approximates the full range of possible test statistics under the null hypothesis.\n",
    "- If the p value is less than the threshold, we:\n",
    "    - reject the null hypothesis that there's no difference in the mean amount of weight lost by participants in both groups; and\n",
    "    - conclude that there is some evidence that the weight loss pill does affect the amount of weight people lost.\n",
    "\n",
    "- If the p value is greater than the threshold, we:\n",
    "    - fail to reject the null hypothesis that there's no difference in the mean amount of weight lost by participants in both groups,\n",
    "    - conclude that the weight loss pill doesn't seem to be effective in helping people lose weight.\n",
    "- usually used p-value threshold is 0.05\n",
    "- The p value threshold you set can also affect the conclusion you reach.\n",
    "    - If you set too high of a p value threshold, you may reject the null hypothesis incorrectly. This is known as a type I error.\n",
    "    - If you set too low of a p value threshold, you may fail to reject the null hypothesis incorrectly. This is known as a type II error."
   ]
  },
  {
   "cell_type": "markdown",
   "id": "d1efba74",
   "metadata": {
    "papermill": {
     "duration": 0.067043,
     "end_time": "2022-05-14T17:18:02.664041",
     "exception": false,
     "start_time": "2022-05-14T17:18:02.596998",
     "status": "completed"
    },
    "tags": []
   },
   "source": [
    "# Day 44\n",
    "<br>dataquest-> prob and stats -> hypothesis testing fundamentals -> significance testing-> chi squared test\n",
    "<br>1- 4\n",
    "- chi squared test is used for numerical values"
   ]
  },
  {
   "cell_type": "markdown",
   "id": "5911fd79",
   "metadata": {
    "papermill": {
     "duration": 0.067225,
     "end_time": "2022-05-14T17:18:02.798821",
     "exception": false,
     "start_time": "2022-05-14T17:18:02.731596",
     "status": "completed"
    },
    "tags": []
   },
   "source": [
    "# Day 45 and 46\n",
    "<br>dataquest-> prob and stats -> hypothesis testing fundamentals -> significance testing-> chi squared test\n",
    "<br>4- 6"
   ]
  },
  {
   "cell_type": "markdown",
   "id": "3a8440cb",
   "metadata": {
    "papermill": {
     "duration": 0.070197,
     "end_time": "2022-05-14T17:18:02.940630",
     "exception": false,
     "start_time": "2022-05-14T17:18:02.870433",
     "status": "completed"
    },
    "tags": []
   },
   "source": [
    "# Day 47\n",
    "<br>dataquest-> prob and stats -> hypothesis testing fundamentals -> significance testing-> chi squared test\n",
    "<br> slide 6 done"
   ]
  },
  {
   "cell_type": "markdown",
   "id": "214d813e",
   "metadata": {
    "papermill": {
     "duration": 0.069448,
     "end_time": "2022-05-14T17:18:03.080054",
     "exception": false,
     "start_time": "2022-05-14T17:18:03.010606",
     "status": "completed"
    },
    "tags": []
   },
   "source": [
    "# Day 48\n",
    "<br> chi-squared values is that they get smaller as the sample size decreases.\n",
    "<br>**conclusion**\n",
    "- The chi-squared test enables us to quantify the difference between sets of observed and expected categorical values to determine statistical significance\n",
    "- chi squared = (observed - expected)**2 / expected\n",
    "- A p-value allows us to determine whether the difference between 2 values is due to chance, or due to an underlying difference.\n",
    "- Chi-squared values increase as sample size increases, but the chance of getting a high chi-squared value decreases as the sample gets larger.\n",
    "- A degree of freedom is the number of values that can vary without the other values being\"locked in\". \n",
    "- scipy https://docs.scipy.org/doc/scipy/reference/generated/scipy.stats.mstats.chisquare.html\n"
   ]
  },
  {
   "cell_type": "markdown",
   "id": "18fbb8e6",
   "metadata": {
    "papermill": {
     "duration": 0.067505,
     "end_time": "2022-05-14T17:18:03.218172",
     "exception": false,
     "start_time": "2022-05-14T17:18:03.150667",
     "status": "completed"
    },
    "tags": []
   },
   "source": [
    "# Day 49\n",
    "<br>dataquest-> prob and stats -> hypothesis testing fundamentals -> significance testing-> multi category chi squared test\n",
    "<br> slide 1 done\n",
    "- We can apply the multi category chi-squared test (also known as the chi-squared test of association) to figure out if there's a statistically significant correlation between two categorical columns.\n",
    "- "
   ]
  },
  {
   "cell_type": "markdown",
   "id": "613da771",
   "metadata": {
    "papermill": {
     "duration": 0.068625,
     "end_time": "2022-05-14T17:18:03.357375",
     "exception": false,
     "start_time": "2022-05-14T17:18:03.288750",
     "status": "completed"
    },
    "tags": []
   },
   "source": [
    " **Day 50**\n",
    "<br>dataquest-> prob and stats -> hypothesis testing fundamentals -> significance testing-> multi category chi squared test\n",
    "# Conclusion:\n",
    "- In a multiple category chi-squared test, we calculate expected values across our whole dataset.\n",
    "- We can calculate the chi-squared value by using the following steps:\n",
    "    - Subtract the expected value from the observed value.\n",
    "    - Subtract the difference.\n",
    "    - Divide the squared difference by the expected value.\n",
    "    - Repeat for all observed and expected values and add up all the values.\n",
    "- ∑ expected(observed−expected)**2 / expected\n",
    "- Discovering that a result isn't significant doesn't mean that no association between the columnsexists. Discovering a statistically significant result doesn't imply anything about what thecorrelation is.\n",
    "- Chi-squared tests can only be applied when each possibility within a category is independen.\n",
    "    - we have categories like male or female not both. single row has either male or female not both at a time.\n",
    "- https://docs.scipy.org/doc/scipy-0.15.1/reference/generated/scipy.stats.chi2_contingency.html\n",
    "- https://pandas.pydata.org/pandas-docs/stable/generated/pandas.crosstab.html\n"
   ]
  },
  {
   "cell_type": "markdown",
   "id": "2c21de8a",
   "metadata": {
    "papermill": {
     "duration": 0.068747,
     "end_time": "2022-05-14T17:18:03.494617",
     "exception": false,
     "start_time": "2022-05-14T17:18:03.425870",
     "status": "completed"
    },
    "tags": []
   },
   "source": [
    "# **Day 51, 52**\n",
    "<br>dataquest-> prob and stats -> hypothesis testing fundamentals -> significance testing-> guided project\n",
    "<br>in progress."
   ]
  },
  {
   "cell_type": "markdown",
   "id": "846ae039",
   "metadata": {
    "papermill": {
     "duration": 0.06711,
     "end_time": "2022-05-14T17:18:03.630371",
     "exception": false,
     "start_time": "2022-05-14T17:18:03.563261",
     "status": "completed"
    },
    "tags": []
   },
   "source": [
    "# **Day 53**\n",
    "<br>dataquest-> prob and stats -> hypothesis testing fundamentals -> significance testing-> guided project\n",
    "<br>done"
   ]
  },
  {
   "cell_type": "markdown",
   "id": "930c9ad7",
   "metadata": {
    "papermill": {
     "duration": 0.067188,
     "end_time": "2022-05-14T17:18:03.766075",
     "exception": false,
     "start_time": "2022-05-14T17:18:03.698887",
     "status": "completed"
    },
    "tags": []
   },
   "source": [
    "# **Day 54,55, 56,57, 58, 59**\n",
    "interviewbit-> probability-> conditional probability\n",
    "1. You asked your three friends whether it will rain or not and all three affirmed for rain. All three have the probability of 1/3 of lying. What is the probability that it will actually rain?\n",
    "- https://www.geeksforgeeks.org/puzzle-is-it-raining/#:~:text=Explanation%3A,truth%20or%20all%20are%20lying.&text=So%2C%20it%20is%20approximately%2089,it%20is%20raining%20in%20Hyderabad.\n",
    "2. Anshul and Deven take turns in rolling a fair six-sided die. Whoever rolls a “6” first wins the game. Deven starts by rolling first. What’s the probability that Anshul wins?\n",
    "- https://www.quora.com/A-and-B-throw-a-Fair-die-one-after-another-Whoever-throws-6-first-wins-What-is-the-probability-that-A-wins\n",
    "\n",
    "3. You have a bag with 6 marbles. One marble is white. You reach the bag 100 times. After taking out a marble, it is placed back in the bag. What is the probability of drawing a white marble at least once?\n",
    "- https://brainly.com/question/14376470\n",
    "- Answer:\n",
    "\n",
    "0.999999988\n",
    "\n",
    "Step-by-step explanation:\n",
    "\n",
    "Given that you  have a bag with 6 marbles. One marble is white. You reach the bag 100 times. After taking out a marble, it is placed back in the bag.\n",
    "\n",
    "Because every time you replace the marble drawn, the probability for drawing a white marble in one draw is constant = p =5/6\n",
    "\n",
    "No of trials n = 100\n",
    "\n",
    "Here X no of times white marble is drawn is Binomial since there are two outcomes and also the probability is constant.\n",
    "\n",
    "the probability of drawing a white marble at least once\n",
    "\n",
    "=\n",
    "\n",
    "Required probability is almost 1.\n",
    "\n",
    "\n",
    "4. Supposedly a friend of yours has 2 children and at least one of them is a boy. What is the probability that the other is also a boy?\n",
    "- If at least one is a boy, there are three possible equally likely gender assignations of two siblings. boy-boy, boy-girl,\n",
    "\n",
    " or girl-boy. Only 1 in 3 cases or 33 percent are both boys. The lesson here is that when considering equally likely scenarios\n",
    "\n",
    " we must consider birth order. If the birth order of the boy is not specified – i.e. if we don’t know if he is the eldest or \n",
    "\n",
    " the youngest – the probability of two boys drops to 1 in 3.\n",
    " \n",
    "5. A single card is drawn from a standard deck of playing cards. What is the probability that the card is a queen provided that a face card is drawn from the deck of cards?\n",
    "- 4/12 = 1/3\n",
    " \n",
    "6. random variables Q1,2\n",
    "7. 5 questions\n",
    "8. bayes theorem first 2\n",
    "\n",
    "**Day 60**\n",
    "- inferential statistics - 3 questions\n",
    "**Day 61**\n",
    "- inferential statistics - central limit theorem done\n",
    "\n",
    "**Day 62**\n",
    "- inferential statistics - distribution analysis multivariate done\n",
    "\n",
    "**Day 63**\n",
    "- inferential statistics -  done\n",
    "\n",
    "**Day 66**\n",
    "- Data Analysis-  wip\n",
    "\n"
   ]
  },
  {
   "cell_type": "markdown",
   "id": "d6ff3ef0",
   "metadata": {
    "papermill": {
     "duration": 0.069839,
     "end_time": "2022-05-14T17:18:03.904018",
     "exception": false,
     "start_time": "2022-05-14T17:18:03.834179",
     "status": "completed"
    },
    "tags": []
   },
   "source": []
  },
  {
   "cell_type": "code",
   "execution_count": null,
   "id": "0ad78ed8",
   "metadata": {
    "papermill": {
     "duration": 0.070676,
     "end_time": "2022-05-14T17:18:04.044678",
     "exception": false,
     "start_time": "2022-05-14T17:18:03.974002",
     "status": "completed"
    },
    "tags": []
   },
   "outputs": [],
   "source": []
  },
  {
   "cell_type": "code",
   "execution_count": 2,
   "id": "3cfd498f",
   "metadata": {
    "execution": {
     "iopub.execute_input": "2022-05-14T17:18:04.185601Z",
     "iopub.status.busy": "2022-05-14T17:18:04.184923Z",
     "iopub.status.idle": "2022-05-14T17:18:04.187830Z",
     "shell.execute_reply": "2022-05-14T17:18:04.187240Z",
     "shell.execute_reply.started": "2022-04-12T14:17:49.333113Z"
    },
    "papermill": {
     "duration": 0.074835,
     "end_time": "2022-05-14T17:18:04.187963",
     "exception": false,
     "start_time": "2022-05-14T17:18:04.113128",
     "status": "completed"
    },
    "tags": []
   },
   "outputs": [],
   "source": [
    "# !pip install PyMuPDF"
   ]
  },
  {
   "cell_type": "code",
   "execution_count": 3,
   "id": "5e7e981a",
   "metadata": {
    "execution": {
     "iopub.execute_input": "2022-05-14T17:18:04.332222Z",
     "iopub.status.busy": "2022-05-14T17:18:04.331560Z",
     "iopub.status.idle": "2022-05-14T17:18:04.333856Z",
     "shell.execute_reply": "2022-05-14T17:18:04.334458Z",
     "shell.execute_reply.started": "2022-04-12T14:19:20.437905Z"
    },
    "papermill": {
     "duration": 0.075404,
     "end_time": "2022-05-14T17:18:04.334628",
     "exception": false,
     "start_time": "2022-05-14T17:18:04.259224",
     "status": "completed"
    },
    "tags": []
   },
   "outputs": [],
   "source": [
    " \n",
    "# fitz.__version__"
   ]
  },
  {
   "cell_type": "code",
   "execution_count": 4,
   "id": "eacbd924",
   "metadata": {
    "execution": {
     "iopub.execute_input": "2022-05-14T17:18:04.473561Z",
     "iopub.status.busy": "2022-05-14T17:18:04.472907Z",
     "iopub.status.idle": "2022-05-14T17:18:04.475812Z",
     "shell.execute_reply": "2022-05-14T17:18:04.476382Z",
     "shell.execute_reply.started": "2022-04-12T14:23:59.687259Z"
    },
    "papermill": {
     "duration": 0.074107,
     "end_time": "2022-05-14T17:18:04.476699",
     "exception": false,
     "start_time": "2022-05-14T17:18:04.402592",
     "status": "completed"
    },
    "tags": []
   },
   "outputs": [],
   "source": [
    "# !python -m spacy download en_core_web_sm"
   ]
  },
  {
   "cell_type": "code",
   "execution_count": null,
   "id": "6e936843",
   "metadata": {
    "papermill": {
     "duration": 0.067562,
     "end_time": "2022-05-14T17:18:04.612334",
     "exception": false,
     "start_time": "2022-05-14T17:18:04.544772",
     "status": "completed"
    },
    "tags": []
   },
   "outputs": [],
   "source": []
  },
  {
   "cell_type": "code",
   "execution_count": 5,
   "id": "b612f15c",
   "metadata": {
    "execution": {
     "iopub.execute_input": "2022-05-14T17:18:04.754392Z",
     "iopub.status.busy": "2022-05-14T17:18:04.753676Z",
     "iopub.status.idle": "2022-05-14T17:18:04.756258Z",
     "shell.execute_reply": "2022-05-14T17:18:04.755647Z",
     "shell.execute_reply.started": "2022-04-12T14:18:25.912243Z"
    },
    "papermill": {
     "duration": 0.07579,
     "end_time": "2022-05-14T17:18:04.756408",
     "exception": false,
     "start_time": "2022-05-14T17:18:04.680618",
     "status": "completed"
    },
    "tags": []
   },
   "outputs": [],
   "source": [
    "# import fitz\n",
    "# import spacy\n",
    "# import re\n",
    "# from pathlib import Path\n",
    "# import requests\n",
    "# import os"
   ]
  },
  {
   "cell_type": "code",
   "execution_count": 6,
   "id": "2a47adf5",
   "metadata": {
    "execution": {
     "iopub.execute_input": "2022-05-14T17:18:04.900129Z",
     "iopub.status.busy": "2022-05-14T17:18:04.899450Z",
     "iopub.status.idle": "2022-05-14T17:18:04.902630Z",
     "shell.execute_reply": "2022-05-14T17:18:04.902060Z",
     "shell.execute_reply.started": "2022-04-12T15:03:43.5897Z"
    },
    "papermill": {
     "duration": 0.077927,
     "end_time": "2022-05-14T17:18:04.902776",
     "exception": false,
     "start_time": "2022-05-14T17:18:04.824849",
     "status": "completed"
    },
    "tags": []
   },
   "outputs": [],
   "source": [
    "# sql_db_json = [\n",
    "#   {\n",
    "#     \"document_id\": \"1\",\n",
    "#     \"area\": \"[72.1149,661.2966,131.95729,675.1716]\",\n",
    "#     \"page\": \"3\",\n",
    "#     \"text_\": \"Background\",\n",
    "#     \"type_of_selection\": \"Text\",\n",
    "#     \"entity_type\": \"name\",\n",
    "#     \"link\": \"https://redactable-devox-stage.s3.us-east-2.amazonaws.com/tenants/41d9e109-693b-444c-aa18-e5891bc6550b/original/1a7c0e5d-3237-4ca9-9e3d-89e707245ac6/D8communications.pdf\"\n",
    "#   },\n",
    "#   {\n",
    "#     \"document_id\": \"1\",\n",
    "#     \"area\": \"[290.55386,632.0173,322.14685,645.8923]\",\n",
    "#     \"page\": \"2\",\n",
    "#     \"text_\": \"INDEX\",\n",
    "#     \"type_of_selection\": \"Text\",\n",
    "#     \"entity_type\": \"address\",\n",
    "#     \"link\": \"https://redactable-devox-stage.s3.us-east-2.amazonaws.com/tenants/41d9e109-693b-444c-aa18-e5891bc6550b/original/1a7c0e5d-3237-4ca9-9e3d-89e707245ac6/D8communications.pdf\"\n",
    "#   }\n",
    "# ]"
   ]
  },
  {
   "cell_type": "code",
   "execution_count": 7,
   "id": "f9fb9aaf",
   "metadata": {
    "execution": {
     "iopub.execute_input": "2022-05-14T17:18:05.044051Z",
     "iopub.status.busy": "2022-05-14T17:18:05.043343Z",
     "iopub.status.idle": "2022-05-14T17:18:05.046088Z",
     "shell.execute_reply": "2022-05-14T17:18:05.046602Z",
     "shell.execute_reply.started": "2022-04-12T13:17:19.452695Z"
    },
    "papermill": {
     "duration": 0.075454,
     "end_time": "2022-05-14T17:18:05.046777",
     "exception": false,
     "start_time": "2022-05-14T17:18:04.971323",
     "status": "completed"
    },
    "tags": []
   },
   "outputs": [],
   "source": [
    "# l=pd.DataFrame()\n",
    "# k=(1, '[290.55386,632.0173,322.14685,645.8923]', 2, 'INDEX', 'Text', 'address', 'https://redactable-devox-s')\n",
    "# k\n"
   ]
  },
  {
   "cell_type": "code",
   "execution_count": 8,
   "id": "506dcfd6",
   "metadata": {
    "execution": {
     "iopub.execute_input": "2022-05-14T17:18:05.187337Z",
     "iopub.status.busy": "2022-05-14T17:18:05.185852Z",
     "iopub.status.idle": "2022-05-14T17:18:05.189535Z",
     "shell.execute_reply": "2022-05-14T17:18:05.190106Z",
     "shell.execute_reply.started": "2022-04-12T16:09:33.708631Z"
    },
    "papermill": {
     "duration": 0.075528,
     "end_time": "2022-05-14T17:18:05.190290",
     "exception": false,
     "start_time": "2022-05-14T17:18:05.114762",
     "status": "completed"
    },
    "tags": []
   },
   "outputs": [],
   "source": [
    "# co=[\"document_id\",\"area\",\"page\",\"text_\",\"type_of_selection\",\"entity_type\",\"link\"]\n",
    "# val= [(1,'[72.1149,661.2966,131.95729,675.1716]',3,'Background','Text','name' ,'https://redactable-devox-stage.s3.us-east-2.am'), (1,  '[290.55386,632.0173,322.14685,645.8923]',2,'INDEX', 'Text','address','https://redactable-devox-stage.s3.us-east-2.am')]\n",
    "\n",
    "# df=pd.DataFrame(val,columns=[co])\n",
    "# #df.iloc[1] =[1,  '[290.55386,632.0173,322.14685,645.8923]',2,'INDEX', 'Text','address','https://redactable-devox-stage.s3.us-east-2.am']\n",
    "# df"
   ]
  },
  {
   "cell_type": "code",
   "execution_count": 9,
   "id": "8273f913",
   "metadata": {
    "execution": {
     "iopub.execute_input": "2022-05-14T17:18:05.330063Z",
     "iopub.status.busy": "2022-05-14T17:18:05.328813Z",
     "iopub.status.idle": "2022-05-14T17:18:05.331729Z",
     "shell.execute_reply": "2022-05-14T17:18:05.332237Z",
     "shell.execute_reply.started": "2022-04-12T16:18:22.595374Z"
    },
    "papermill": {
     "duration": 0.074503,
     "end_time": "2022-05-14T17:18:05.332442",
     "exception": false,
     "start_time": "2022-05-14T17:18:05.257939",
     "status": "completed"
    },
    "tags": []
   },
   "outputs": [],
   "source": [
    "# prev=[]\n",
    "# for data,row in df.iterrows():\n",
    "#     if row['document_id'] not in prev:\n",
    "#         prev.append(row['document_id'])\n",
    "#         print('hey')"
   ]
  },
  {
   "cell_type": "code",
   "execution_count": 10,
   "id": "da577057",
   "metadata": {
    "execution": {
     "iopub.execute_input": "2022-05-14T17:18:05.474410Z",
     "iopub.status.busy": "2022-05-14T17:18:05.470769Z",
     "iopub.status.idle": "2022-05-14T17:18:05.476372Z",
     "shell.execute_reply": "2022-05-14T17:18:05.476876Z",
     "shell.execute_reply.started": "2022-04-12T15:03:48.248836Z"
    },
    "papermill": {
     "duration": 0.07705,
     "end_time": "2022-05-14T17:18:05.477048",
     "exception": false,
     "start_time": "2022-05-14T17:18:05.399998",
     "status": "completed"
    },
    "tags": []
   },
   "outputs": [],
   "source": [
    "# nlp = spacy.load('en_core_web_sm')\n",
    "# train_data = []\n",
    "\n",
    "# prev_doc_id = ''\n",
    "# i=0\n",
    "# temp='/kaggle/working'\n",
    "\n",
    "# for data in sql_db_json:\n",
    "#     if data['type_of_selection'] == 'Text':\n",
    "#         document_id = data['document_id']\n",
    "#         x1,y1,x2,y2 = data['area'][1:-1].split(',')\n",
    "#         url = data['link']\n",
    "#         page_no = int(data['page']) - 1 \n",
    "#         label = data['entity_type']\n",
    "#         filename = url.split('/')[-1]\n",
    "    \n",
    "#         #download the file to temp folder\n",
    "#         outpath = os.path.join(temp,filename)\n",
    "\n",
    "#         if document_id == prev_doc_id:\n",
    "#             pass\n",
    "#         else: \n",
    "#             i+=1\n",
    "#             print(i)\n",
    "#             response = requests.get(url)\n",
    "#             with open(outpath, \"wb\") as binary_file:\n",
    "#                 binary_file.write(response.content)\n",
    "\n",
    "#         doc = fitz.open(outpath)  # any supported document type\n",
    "#         page = doc[page_no]  # we want text from this page\n",
    "#         print('page dimension - ', page.rect.width, page.rect.height)\n",
    "\n",
    "#         #The co-ordinates in the DB are image co-ords. W.r.t pdf, y1 and y2 has to be interchanged.\n",
    "#         #To ensure entire word to be selected, slight correction in x1,y1,x2,y2 is done.\n",
    "\n",
    "#         rect = [float(x1)-2, 792 - float(y2)-2, float(x2)+2, 792 - float(y1)+2]\n",
    "#         print(rect)\n",
    "#         labelled_text = page.get_textbox(rect)\n",
    "\n",
    "#         #Removing all unprintable characters from the text\n",
    "#         string = re.sub('[^0-9a-zA-Z@?|\\/<>.,()&^%$#!]+', ' ', labelled_text)\n",
    "#         print('string : ', string)\n",
    "\n",
    "#         fulltext = page.get_text()\n",
    "#         doc = nlp(fulltext)\n",
    "\n",
    "#         sentences = []\n",
    "#         for sent in doc.sents:\n",
    "#             if string.strip() in sent.text:\n",
    "#                 text = re.sub('[^0-9a-zA-Z@?|\\/<>.,()&^%$#!]+', ' ', sent.text)\n",
    "\n",
    "#         res = re.search(string.strip(), text)\n",
    "\n",
    "#         entities = []\n",
    "#         entities.append((res.start(),res.end(),label))\n",
    "\n",
    "#         train_data.append((text,{'entities':entities}))\n",
    "\n",
    "# print('Training data in spacy format')\n",
    "# print('*****************************')\n",
    "# for i in range(0,len(train_data)):\n",
    "#     print(train_data[i])"
   ]
  },
  {
   "cell_type": "code",
   "execution_count": null,
   "id": "d09bfe93",
   "metadata": {
    "papermill": {
     "duration": 0.067324,
     "end_time": "2022-05-14T17:18:05.612138",
     "exception": false,
     "start_time": "2022-05-14T17:18:05.544814",
     "status": "completed"
    },
    "tags": []
   },
   "outputs": [],
   "source": []
  },
  {
   "cell_type": "code",
   "execution_count": 11,
   "id": "d6855dab",
   "metadata": {
    "execution": {
     "iopub.execute_input": "2022-05-14T17:18:05.753305Z",
     "iopub.status.busy": "2022-05-14T17:18:05.752598Z",
     "iopub.status.idle": "2022-05-14T17:18:05.756736Z",
     "shell.execute_reply": "2022-05-14T17:18:05.757211Z",
     "shell.execute_reply.started": "2022-04-12T11:44:59.253637Z"
    },
    "papermill": {
     "duration": 0.077365,
     "end_time": "2022-05-14T17:18:05.757392",
     "exception": false,
     "start_time": "2022-05-14T17:18:05.680027",
     "status": "completed"
    },
    "tags": []
   },
   "outputs": [],
   "source": [
    "# nlp = spacy.load('en_core_web_sm')\n",
    "# train_data = []\n",
    "\n",
    "# prev_doc_id = ''\n",
    "# temp='/kaggle/working'\n",
    "# i=0\n",
    "# for data in sql_db_json:\n",
    "#     if data['type_of_selection'] == 'Text':\n",
    "#         document_id = data['document_id']\n",
    "#         x1,y1,x2,y2 = data['area'][1:-1].split(',')\n",
    "#         url = data['link']\n",
    "#         page_no = int(data['page']) - 1 \n",
    "#         label = data['entity_type']\n",
    "#         filename = url.split('/')[-1]\n",
    "    \n",
    "#         #download the file to temp folder\n",
    "#         i+=1\n",
    "#         print(i)\n",
    "#         response = requests.get(url)\n",
    "#         doc = fitz.open(stream=response.content,filetype=\"pdf\")  # any supported document type\n",
    "#         page = doc[page_no]  # we want text from this page\n",
    "#         print('page dimension - ', page.rect.width, page.rect.height)\n",
    "\n",
    "#         #The co-ordinates in the DB are image co-ords. W.r.t pdf, y1 and y2 has to be interchanged.\n",
    "#         #To ensure entire word to be selected, slight correction in x1,y1,x2,y2 is done.\n",
    "\n",
    "#         rect = [float(x1)-2, 792 - float(y2)-2, float(x2)+2, 792 - float(y1)+2]\n",
    "#         print(rect)\n",
    "#         labelled_text = page.get_textbox(rect)\n",
    "\n",
    "#         #Removing all unprintable characters from the text\n",
    "#         string = re.sub('[^0-9a-zA-Z@?|\\/<>.,()&^%$#!]+', ' ', labelled_text)\n",
    "#         print('string : ', string)\n",
    "\n",
    "#         fulltext = page.get_text()\n",
    "#         doc = nlp(fulltext)\n",
    "\n",
    "#         sentences = []\n",
    "#         for sent in doc.sents:\n",
    "#             if string.strip() in sent.text:\n",
    "#                 text = re.sub('[^0-9a-zA-Z@?|\\/<>.,()&^%$#!]+', ' ', sent.text)\n",
    "\n",
    "#         res = re.search(string.strip(), text)\n",
    "\n",
    "#         entities = []\n",
    "#         entities.append((res.start(),res.end(),label))\n",
    "\n",
    "#         train_data.append((text,{'entities':entities}))\n",
    "\n",
    "# print('Training data in spacy format')\n",
    "# print('*****************************')\n",
    "# for i in range(0,len(train_data)):\n",
    "#     print(train_data[i])"
   ]
  },
  {
   "cell_type": "code",
   "execution_count": 12,
   "id": "b446464c",
   "metadata": {
    "execution": {
     "iopub.execute_input": "2022-05-14T17:18:05.901051Z",
     "iopub.status.busy": "2022-05-14T17:18:05.899991Z",
     "iopub.status.idle": "2022-05-14T17:18:05.901803Z",
     "shell.execute_reply": "2022-05-14T17:18:05.902327Z"
    },
    "papermill": {
     "duration": 0.076511,
     "end_time": "2022-05-14T17:18:05.902498",
     "exception": false,
     "start_time": "2022-05-14T17:18:05.825987",
     "status": "completed"
    },
    "tags": []
   },
   "outputs": [],
   "source": [
    "# page dimension -  612.0 792.0\n",
    "# [70.1149, 114.82839999999999, 133.95729, 132.7034]\n",
    "# string :  Background\n",
    "# page dimension -  612.0 792.0\n",
    "# [288.55386, 144.10770000000002, 324.14685, 161.98270000000002]\n",
    "# string :  INDEX\n",
    "# Training data in spacy format\n",
    "# *****************************\n",
    "# (' 3 Background The Blue Ribbon Committee was created by the Mayor to assess various city communication methods and recommend opportunities to improve communications with residents, businesses and other organizations.', {'entities': [(3, 13, 'name')]})\n",
    "# (' 2 INDEX Background Pg. 3 Purpose Pg. 3 Process .', {'entities': [(3, 8, 'address')]})"
   ]
  },
  {
   "cell_type": "code",
   "execution_count": 13,
   "id": "3dc6c860",
   "metadata": {
    "execution": {
     "iopub.execute_input": "2022-05-14T17:18:06.045746Z",
     "iopub.status.busy": "2022-05-14T17:18:06.044827Z",
     "iopub.status.idle": "2022-05-14T17:18:06.047627Z",
     "shell.execute_reply": "2022-05-14T17:18:06.047097Z",
     "shell.execute_reply.started": "2022-04-11T16:35:29.609712Z"
    },
    "papermill": {
     "duration": 0.07703,
     "end_time": "2022-05-14T17:18:06.047808",
     "exception": false,
     "start_time": "2022-05-14T17:18:05.970778",
     "status": "completed"
    },
    "tags": []
   },
   "outputs": [],
   "source": [
    "# nlp = spacy.load('en_core_web_sm')\n",
    "# outpath=r'/kaggle/input/sample-pdf/D8communications.pdf'\n",
    "# doc = fitz.open(outpath)  # any supported document type\n",
    "# page_no=3\n",
    "# page = doc[page_no-1]\n",
    "\n",
    "# x1,y1,x2,y2=(72.1149,661.2966,131.95729,675.1716)\n",
    "\n",
    "# rect = [float(x1)-2, 792 - float(y2)-2, float(x2)+2, 792 - float(y1)+2]\n",
    "# print(rect)\n",
    "# labelled_text = page.get_textbox(rect)\n",
    "# string = re.sub('[^0-9a-zA-Z@?|\\/<>.,()&^%$#!]+', ' ', labelled_text)\n",
    "# print('string : ', string)\n",
    "\n",
    "# fulltext = page.get_text()\n",
    "# doc = nlp(fulltext)\n",
    "\n",
    "# sentences = []\n",
    "# for sent in doc.sents:\n",
    "#             if string.strip() in sent.text:\n",
    "#                 text = re.sub('[^0-9a-zA-Z@?|\\/<>.,()&^%$#!]+', ' ', sent.text)\n",
    "\n",
    "#         res = re.search(string.strip(), text)\n",
    "\n",
    "#         entities = []\n",
    "#         entities.append((res.start(),res.end(),label))\n",
    "\n",
    "#         train_data.append((text,{'entities':entities}))\n",
    "\n"
   ]
  },
  {
   "cell_type": "code",
   "execution_count": 14,
   "id": "4d53e39f",
   "metadata": {
    "execution": {
     "iopub.execute_input": "2022-05-14T17:18:06.188035Z",
     "iopub.status.busy": "2022-05-14T17:18:06.187372Z",
     "iopub.status.idle": "2022-05-14T17:18:06.189864Z",
     "shell.execute_reply": "2022-05-14T17:18:06.190482Z",
     "shell.execute_reply.started": "2022-04-11T16:35:41.679947Z"
    },
    "papermill": {
     "duration": 0.074551,
     "end_time": "2022-05-14T17:18:06.190656",
     "exception": false,
     "start_time": "2022-05-14T17:18:06.116105",
     "status": "completed"
    },
    "tags": []
   },
   "outputs": [],
   "source": [
    "#doc"
   ]
  },
  {
   "cell_type": "code",
   "execution_count": 15,
   "id": "755d8ad9",
   "metadata": {
    "execution": {
     "iopub.execute_input": "2022-05-14T17:18:06.332743Z",
     "iopub.status.busy": "2022-05-14T17:18:06.331478Z",
     "iopub.status.idle": "2022-05-14T17:18:06.335221Z",
     "shell.execute_reply": "2022-05-14T17:18:06.334708Z",
     "shell.execute_reply.started": "2022-04-11T16:35:56.010353Z"
    },
    "papermill": {
     "duration": 0.074613,
     "end_time": "2022-05-14T17:18:06.335364",
     "exception": false,
     "start_time": "2022-05-14T17:18:06.260751",
     "status": "completed"
    },
    "tags": []
   },
   "outputs": [],
   "source": [
    "# sentences = []\n",
    "# for sent in doc.sents:\n",
    "#     if string.strip() in sent.text:\n",
    "#         text = re.sub('[^0-9a-zA-Z@?|\\/<>.,()&^%$#!]+', ' ', sent.text)"
   ]
  },
  {
   "cell_type": "code",
   "execution_count": 16,
   "id": "dfc824a0",
   "metadata": {
    "execution": {
     "iopub.execute_input": "2022-05-14T17:18:06.475387Z",
     "iopub.status.busy": "2022-05-14T17:18:06.474608Z",
     "iopub.status.idle": "2022-05-14T17:18:06.476749Z",
     "shell.execute_reply": "2022-05-14T17:18:06.477272Z",
     "shell.execute_reply.started": "2022-04-11T16:39:04.736143Z"
    },
    "papermill": {
     "duration": 0.074339,
     "end_time": "2022-05-14T17:18:06.477447",
     "exception": false,
     "start_time": "2022-05-14T17:18:06.403108",
     "status": "completed"
    },
    "tags": []
   },
   "outputs": [],
   "source": [
    "# k=nlp(\"he             kenny\")\n",
    "# for sent in k.sents:\n",
    "#     print(sent)"
   ]
  },
  {
   "cell_type": "code",
   "execution_count": 17,
   "id": "c5de6119",
   "metadata": {
    "execution": {
     "iopub.execute_input": "2022-05-14T17:18:06.617968Z",
     "iopub.status.busy": "2022-05-14T17:18:06.616575Z",
     "iopub.status.idle": "2022-05-14T17:18:06.619782Z",
     "shell.execute_reply": "2022-05-14T17:18:06.620279Z",
     "shell.execute_reply.started": "2022-04-11T15:09:24.391421Z"
    },
    "papermill": {
     "duration": 0.074837,
     "end_time": "2022-05-14T17:18:06.620449",
     "exception": false,
     "start_time": "2022-05-14T17:18:06.545612",
     "status": "completed"
    },
    "tags": []
   },
   "outputs": [],
   "source": [
    "# text"
   ]
  },
  {
   "cell_type": "code",
   "execution_count": 18,
   "id": "014b2f88",
   "metadata": {
    "execution": {
     "iopub.execute_input": "2022-05-14T17:18:06.760132Z",
     "iopub.status.busy": "2022-05-14T17:18:06.759511Z",
     "iopub.status.idle": "2022-05-14T17:18:06.761936Z",
     "shell.execute_reply": "2022-05-14T17:18:06.762519Z",
     "shell.execute_reply.started": "2022-04-11T15:09:31.9599Z"
    },
    "papermill": {
     "duration": 0.074001,
     "end_time": "2022-05-14T17:18:06.762689",
     "exception": false,
     "start_time": "2022-05-14T17:18:06.688688",
     "status": "completed"
    },
    "tags": []
   },
   "outputs": [],
   "source": [
    "# res = re.search(string.strip(), text)\n",
    "# res"
   ]
  },
  {
   "cell_type": "code",
   "execution_count": 19,
   "id": "674d8cb3",
   "metadata": {
    "execution": {
     "iopub.execute_input": "2022-05-14T17:18:06.910741Z",
     "iopub.status.busy": "2022-05-14T17:18:06.909986Z",
     "iopub.status.idle": "2022-05-14T17:18:06.914861Z",
     "shell.execute_reply": "2022-05-14T17:18:06.915609Z",
     "shell.execute_reply.started": "2022-04-11T15:12:41.311242Z"
    },
    "papermill": {
     "duration": 0.083774,
     "end_time": "2022-05-14T17:18:06.915857",
     "exception": false,
     "start_time": "2022-05-14T17:18:06.832083",
     "status": "completed"
    },
    "tags": []
   },
   "outputs": [],
   "source": [
    "# entities = []\n",
    "# entities.append((res.start(),res.end(),'p'))"
   ]
  },
  {
   "cell_type": "code",
   "execution_count": 20,
   "id": "b646f8ab",
   "metadata": {
    "execution": {
     "iopub.execute_input": "2022-05-14T17:18:07.072001Z",
     "iopub.status.busy": "2022-05-14T17:18:07.071342Z",
     "iopub.status.idle": "2022-05-14T17:18:07.075409Z",
     "shell.execute_reply": "2022-05-14T17:18:07.074730Z",
     "shell.execute_reply.started": "2022-04-11T15:12:52.736619Z"
    },
    "papermill": {
     "duration": 0.076231,
     "end_time": "2022-05-14T17:18:07.075557",
     "exception": false,
     "start_time": "2022-05-14T17:18:06.999326",
     "status": "completed"
    },
    "tags": []
   },
   "outputs": [],
   "source": [
    "# entities"
   ]
  },
  {
   "cell_type": "code",
   "execution_count": 21,
   "id": "fc261d2d",
   "metadata": {
    "execution": {
     "iopub.execute_input": "2022-05-14T17:18:07.218251Z",
     "iopub.status.busy": "2022-05-14T17:18:07.217362Z",
     "iopub.status.idle": "2022-05-14T17:18:07.219849Z",
     "shell.execute_reply": "2022-05-14T17:18:07.219325Z",
     "shell.execute_reply.started": "2022-04-11T15:06:11.546217Z"
    },
    "papermill": {
     "duration": 0.075892,
     "end_time": "2022-05-14T17:18:07.219988",
     "exception": false,
     "start_time": "2022-05-14T17:18:07.144096",
     "status": "completed"
    },
    "tags": []
   },
   "outputs": [],
   "source": [
    "# text"
   ]
  },
  {
   "cell_type": "code",
   "execution_count": null,
   "id": "6983e986",
   "metadata": {
    "execution": {
     "iopub.execute_input": "2022-04-11T15:02:33.300092Z",
     "iopub.status.busy": "2022-04-11T15:02:33.299778Z",
     "iopub.status.idle": "2022-04-11T15:02:33.30711Z",
     "shell.execute_reply": "2022-04-11T15:02:33.306345Z",
     "shell.execute_reply.started": "2022-04-11T15:02:33.300061Z"
    },
    "papermill": {
     "duration": 0.068958,
     "end_time": "2022-05-14T17:18:07.358663",
     "exception": false,
     "start_time": "2022-05-14T17:18:07.289705",
     "status": "completed"
    },
    "tags": []
   },
   "outputs": [],
   "source": []
  },
  {
   "cell_type": "code",
   "execution_count": 22,
   "id": "50ebc04d",
   "metadata": {
    "execution": {
     "iopub.execute_input": "2022-05-14T17:18:07.498500Z",
     "iopub.status.busy": "2022-05-14T17:18:07.497871Z",
     "iopub.status.idle": "2022-05-14T17:18:07.500685Z",
     "shell.execute_reply": "2022-05-14T17:18:07.501252Z",
     "shell.execute_reply.started": "2022-04-11T16:21:02.863037Z"
    },
    "papermill": {
     "duration": 0.074111,
     "end_time": "2022-05-14T17:18:07.501428",
     "exception": false,
     "start_time": "2022-05-14T17:18:07.427317",
     "status": "completed"
    },
    "tags": []
   },
   "outputs": [],
   "source": [
    "# import spacy\n",
    "# nlp = spacy.load('en_core_web_sm')"
   ]
  },
  {
   "cell_type": "code",
   "execution_count": 23,
   "id": "8fffe5a2",
   "metadata": {
    "execution": {
     "iopub.execute_input": "2022-05-14T17:18:07.641810Z",
     "iopub.status.busy": "2022-05-14T17:18:07.641108Z",
     "iopub.status.idle": "2022-05-14T17:18:07.644277Z",
     "shell.execute_reply": "2022-05-14T17:18:07.644852Z",
     "shell.execute_reply.started": "2022-04-09T12:19:47.776612Z"
    },
    "papermill": {
     "duration": 0.07536,
     "end_time": "2022-05-14T17:18:07.645018",
     "exception": false,
     "start_time": "2022-05-14T17:18:07.569658",
     "status": "completed"
    },
    "tags": []
   },
   "outputs": [],
   "source": [
    "# !pip install PyPDF2\n",
    "# import PyPDF2\n",
    "# fhandle = open(r'/kaggle/input/sample-pdf/D8communications.pdf', 'rb')\n",
    "# pdfReader = PyPDF2.PdfFileReader(fhandle)\n",
    "# pagehandle = pdfReader.getPage(4)\n",
    "# print(pagehandle.extractText())"
   ]
  },
  {
   "cell_type": "code",
   "execution_count": 24,
   "id": "79a63795",
   "metadata": {
    "execution": {
     "iopub.execute_input": "2022-05-14T17:18:07.784829Z",
     "iopub.status.busy": "2022-05-14T17:18:07.784160Z",
     "iopub.status.idle": "2022-05-14T17:18:07.786909Z",
     "shell.execute_reply": "2022-05-14T17:18:07.787450Z",
     "shell.execute_reply.started": "2022-04-09T12:25:37.701467Z"
    },
    "papermill": {
     "duration": 0.074395,
     "end_time": "2022-05-14T17:18:07.787651",
     "exception": false,
     "start_time": "2022-05-14T17:18:07.713256",
     "status": "completed"
    },
    "tags": []
   },
   "outputs": [],
   "source": [
    "# !pip install pdfplumber\n",
    "# import pdfplumber\n",
    "# with pdfplumber.open(r'/kaggle/input/sample-pdf/D8communications.pdf') as pdf:\n",
    "#     first_page = pdf.pages[3]\n",
    "#     print(first_page.extract_text())"
   ]
  },
  {
   "cell_type": "code",
   "execution_count": 25,
   "id": "0256ed96",
   "metadata": {
    "execution": {
     "iopub.execute_input": "2022-05-14T17:18:07.928930Z",
     "iopub.status.busy": "2022-05-14T17:18:07.928275Z",
     "iopub.status.idle": "2022-05-14T17:18:07.930887Z",
     "shell.execute_reply": "2022-05-14T17:18:07.931468Z",
     "shell.execute_reply.started": "2022-04-09T12:25:49.584635Z"
    },
    "papermill": {
     "duration": 0.075898,
     "end_time": "2022-05-14T17:18:07.931635",
     "exception": false,
     "start_time": "2022-05-14T17:18:07.855737",
     "status": "completed"
    },
    "tags": []
   },
   "outputs": [],
   "source": [
    "# !pip install pytesseract"
   ]
  },
  {
   "cell_type": "code",
   "execution_count": 26,
   "id": "e5727433",
   "metadata": {
    "execution": {
     "iopub.execute_input": "2022-05-14T17:18:08.074651Z",
     "iopub.status.busy": "2022-05-14T17:18:08.073968Z",
     "iopub.status.idle": "2022-05-14T17:18:08.076836Z",
     "shell.execute_reply": "2022-05-14T17:18:08.077361Z",
     "shell.execute_reply.started": "2022-04-09T14:49:10.656812Z"
    },
    "papermill": {
     "duration": 0.076201,
     "end_time": "2022-05-14T17:18:08.077542",
     "exception": false,
     "start_time": "2022-05-14T17:18:08.001341",
     "status": "completed"
    },
    "tags": []
   },
   "outputs": [],
   "source": [
    "# #!pip install pdf2image\n",
    "# !pip install poppler"
   ]
  },
  {
   "cell_type": "code",
   "execution_count": 27,
   "id": "d390e3f0",
   "metadata": {
    "execution": {
     "iopub.execute_input": "2022-05-14T17:18:08.217556Z",
     "iopub.status.busy": "2022-05-14T17:18:08.216920Z",
     "iopub.status.idle": "2022-05-14T17:18:08.219024Z",
     "shell.execute_reply": "2022-05-14T17:18:08.219516Z",
     "shell.execute_reply.started": "2022-04-09T14:57:24.756677Z"
    },
    "papermill": {
     "duration": 0.074097,
     "end_time": "2022-05-14T17:18:08.219681",
     "exception": false,
     "start_time": "2022-05-14T17:18:08.145584",
     "status": "completed"
    },
    "tags": []
   },
   "outputs": [],
   "source": [
    "# pdf2image.convert_from_path('/kaggle/input/sample-pdf/D8communications.pdf')"
   ]
  },
  {
   "cell_type": "code",
   "execution_count": 28,
   "id": "c969e534",
   "metadata": {
    "execution": {
     "iopub.execute_input": "2022-05-14T17:18:08.360857Z",
     "iopub.status.busy": "2022-05-14T17:18:08.360179Z",
     "iopub.status.idle": "2022-05-14T17:18:08.363411Z",
     "shell.execute_reply": "2022-05-14T17:18:08.362899Z",
     "shell.execute_reply.started": "2022-04-09T14:57:17.576149Z"
    },
    "papermill": {
     "duration": 0.075652,
     "end_time": "2022-05-14T17:18:08.363556",
     "exception": false,
     "start_time": "2022-05-14T17:18:08.287904",
     "status": "completed"
    },
    "tags": []
   },
   "outputs": [],
   "source": [
    "# import pdf2image\n",
    "# try:\n",
    "#     from PIL import Image\n",
    "# except ImportError:\n",
    "#     import Image\n",
    "# import pytesseract\n",
    "\n",
    "\n",
    "# def pdf_to_img(pdf_file):\n",
    "#     return pdf2image.convert_from_path(pdf_file)\n",
    "\n",
    "\n",
    "# def ocr_core(file):\n",
    "#     text = pytesseract.image_to_string(file)\n",
    "#     return text\n",
    "\n",
    "\n",
    "# def print_pages(pdf_file):\n",
    "#     images = pdf_to_img(pdf_file)\n",
    "#     for pg, img in enumerate(images):\n",
    "#         print(ocr_core(img))\n",
    "\n",
    "\n",
    "# print_pages('/kaggle/input/sample-pdf/D8communications.pdf')\n"
   ]
  },
  {
   "cell_type": "code",
   "execution_count": 29,
   "id": "ee771e7c",
   "metadata": {
    "execution": {
     "iopub.execute_input": "2022-05-14T17:18:08.503647Z",
     "iopub.status.busy": "2022-05-14T17:18:08.503005Z",
     "iopub.status.idle": "2022-05-14T17:18:08.504848Z",
     "shell.execute_reply": "2022-05-14T17:18:08.505361Z"
    },
    "papermill": {
     "duration": 0.074268,
     "end_time": "2022-05-14T17:18:08.505532",
     "exception": false,
     "start_time": "2022-05-14T17:18:08.431264",
     "status": "completed"
    },
    "tags": []
   },
   "outputs": [],
   "source": [
    "# import requests\n",
    "# import fitz\n",
    "# import io\n",
    "\n",
    "# #URL = 'https://buildmedia.readthedocs.org/media/pdf/pdfminer-docs/latest/pdfminer-docs.pdf'\n",
    "# URL = 'https://redactable-devox-stage.s3.us-east-2.amazonaws.com/tenants/41d9e109-693b-444c-aa18-e5891bc6550b/original/1a7c0e5d-3237-4ca9-9e3d-89e707245ac6/D8communications.pdf'\n",
    "\n",
    "\n",
    "# res = requests.get(URL)\n",
    "# filestream = io.BytesIO(res.content)\n",
    "# #res.content\n",
    "# filestream\n",
    "# doc = fitz.Document(stream=filestream)\n",
    "# page1 = doc.loadPage(3)\n",
    "# page1text = page1.getText(\"text\").encode(\"utf-8\").decode(\"utf-8\")\n",
    "# print(page1text)"
   ]
  },
  {
   "cell_type": "code",
   "execution_count": 30,
   "id": "e9c23f45",
   "metadata": {
    "execution": {
     "iopub.execute_input": "2022-05-14T17:18:08.646740Z",
     "iopub.status.busy": "2022-05-14T17:18:08.646062Z",
     "iopub.status.idle": "2022-05-14T17:18:08.649420Z",
     "shell.execute_reply": "2022-05-14T17:18:08.648848Z",
     "shell.execute_reply.started": "2022-04-09T07:04:56.590103Z"
    },
    "papermill": {
     "duration": 0.076065,
     "end_time": "2022-05-14T17:18:08.649565",
     "exception": false,
     "start_time": "2022-05-14T17:18:08.573500",
     "status": "completed"
    },
    "tags": []
   },
   "outputs": [],
   "source": [
    "# import requests\n",
    "# import fitz\n",
    "\n",
    "# #URL = 'https://buildmedia.readthedocs.org/media/pdf/pdfminer-docs/latest/pdfminer-docs.pdf'\n",
    "# URL = 'https://redactable-devox-stage.s3.us-east-2.amazonaws.com/tenants/41d9e109-693b-444c-aa18-e5891bc6550b/original/1a7c0e5d-3237-4ca9-9e3d-89e707245ac6/D8communications.pdf'\n",
    "\n",
    "\n",
    "# res = requests.get(URL)\n",
    "# doc = fitz.open(stream=res.content,filetype=\"pdf\")\n",
    "# page1 = doc.loadPage(3)\n",
    "# page1text = page1.getText(\"text\")\n",
    "# #rect = (72.1149,661.2966,131.95729,675.1716)\n",
    "# rect=(72.10812377929688, 116.13427734375, 133.97142028808594, 146.4227294921875)\n",
    "# labelled_text = page1.get_textbox(rect)\n",
    "# print(labelled_text.strip())\n",
    "\n",
    "# fulltext = page1.get_text()\n",
    "# print(fulltext)\n",
    "# doc = nlp(fulltext)\n",
    "# sentences = []\n",
    "# for sent in doc.sents:\n",
    "#     if labelled_text in sent.text:\n",
    "#         text = sent.text\n",
    "#         print(text)\n",
    "# #print(page1text)"
   ]
  },
  {
   "cell_type": "code",
   "execution_count": 31,
   "id": "2b6ddc48",
   "metadata": {
    "execution": {
     "iopub.execute_input": "2022-05-14T17:18:08.791608Z",
     "iopub.status.busy": "2022-05-14T17:18:08.790621Z",
     "iopub.status.idle": "2022-05-14T17:18:08.793815Z",
     "shell.execute_reply": "2022-05-14T17:18:08.794411Z",
     "shell.execute_reply.started": "2022-04-08T16:42:57.6659Z"
    },
    "papermill": {
     "duration": 0.075938,
     "end_time": "2022-05-14T17:18:08.794582",
     "exception": false,
     "start_time": "2022-05-14T17:18:08.718644",
     "status": "completed"
    },
    "tags": []
   },
   "outputs": [],
   "source": [
    "#res.content"
   ]
  },
  {
   "cell_type": "code",
   "execution_count": 32,
   "id": "584f9719",
   "metadata": {
    "execution": {
     "iopub.execute_input": "2022-05-14T17:18:08.942376Z",
     "iopub.status.busy": "2022-05-14T17:18:08.941641Z",
     "iopub.status.idle": "2022-05-14T17:18:08.945204Z",
     "shell.execute_reply": "2022-05-14T17:18:08.945772Z",
     "shell.execute_reply.started": "2022-04-08T16:48:05.672392Z"
    },
    "papermill": {
     "duration": 0.082416,
     "end_time": "2022-05-14T17:18:08.945961",
     "exception": false,
     "start_time": "2022-05-14T17:18:08.863545",
     "status": "completed"
    },
    "tags": []
   },
   "outputs": [],
   "source": [
    "# import fitz\n",
    "# # mem_area=\n",
    "# # doc = fitz.open(stream=mem_area, filetype=\"pdf\")\n",
    "\n",
    "# import requests\n",
    "\n",
    "# URL = 'https://redactable-devox-stage.s3.us-east-2.amazonaws.com/tenants/41d9e109-693b-444c-aa18-e5891bc6550b/original/1a7c0e5d-3237-4ca9-9e3d-89e707245ac6/D8communications.pdf'\n",
    "\n",
    "# #res = requests.get(URL)\n",
    "# doc=fitz.open(\"/kaggle/input/sample-pdf/D8communications.pdf\")\n",
    "# #doc = fitz.open(stream=res.content,filetype=\"pdf\")\n",
    "# page1 = doc.loadPage(4)\n",
    "# # page1text = page1.getText(\"text\")\n",
    "# # print(page1text)\n",
    "# blocks = page1.getText(\"blocks\")\n",
    "# blocks.sort(key=lambda block: block[1])  # sort vertically ascending\n",
    "\n",
    "# for b in blocks:\n",
    "#     print(b[4])\n"
   ]
  },
  {
   "cell_type": "code",
   "execution_count": 33,
   "id": "4424eb43",
   "metadata": {
    "execution": {
     "iopub.execute_input": "2022-05-14T17:18:09.087516Z",
     "iopub.status.busy": "2022-05-14T17:18:09.086751Z",
     "iopub.status.idle": "2022-05-14T17:18:09.089782Z",
     "shell.execute_reply": "2022-05-14T17:18:09.090337Z",
     "shell.execute_reply.started": "2022-04-08T16:48:13.086323Z"
    },
    "papermill": {
     "duration": 0.075878,
     "end_time": "2022-05-14T17:18:09.090506",
     "exception": false,
     "start_time": "2022-05-14T17:18:09.014628",
     "status": "completed"
    },
    "tags": []
   },
   "outputs": [],
   "source": [
    "# # page = doc[1]\n",
    "# words = page.get_text(\"words\")\n",
    "# #print(words)\n",
    "# rect = (72.1149,661.2966,131.95729,675.1716)\n",
    "\n",
    "# labelled_text = page.get_textbox(rect)\n",
    "# # labelled_text"
   ]
  },
  {
   "cell_type": "markdown",
   "id": "8d8fb337",
   "metadata": {
    "papermill": {
     "duration": 0.069905,
     "end_time": "2022-05-14T17:18:09.229200",
     "exception": false,
     "start_time": "2022-05-14T17:18:09.159295",
     "status": "completed"
    },
    "tags": []
   },
   "source": [
    "pip install PyPDF2"
   ]
  },
  {
   "cell_type": "code",
   "execution_count": null,
   "id": "4f79fc72",
   "metadata": {
    "papermill": {
     "duration": 0.069166,
     "end_time": "2022-05-14T17:18:09.366907",
     "exception": false,
     "start_time": "2022-05-14T17:18:09.297741",
     "status": "completed"
    },
    "tags": []
   },
   "outputs": [],
   "source": []
  },
  {
   "cell_type": "code",
   "execution_count": 34,
   "id": "bd7f6c4b",
   "metadata": {
    "execution": {
     "iopub.execute_input": "2022-05-14T17:18:09.506372Z",
     "iopub.status.busy": "2022-05-14T17:18:09.505728Z",
     "iopub.status.idle": "2022-05-14T17:18:09.508569Z",
     "shell.execute_reply": "2022-05-14T17:18:09.509176Z",
     "shell.execute_reply.started": "2022-03-18T16:48:58.370268Z"
    },
    "papermill": {
     "duration": 0.074307,
     "end_time": "2022-05-14T17:18:09.509366",
     "exception": false,
     "start_time": "2022-05-14T17:18:09.435059",
     "status": "completed"
    },
    "tags": []
   },
   "outputs": [],
   "source": [
    "# import pandas as pd\n",
    "# h={'step': 0, 'type': 'string', 'amount': 0.0, 'nameOrig': 'C1231006815', 'oldbalanceOrig': 0.0, 'newbalanceOrig': 0.0, 'nameDest': 'M1979787155', 'oldbalanceDest': 0.0, 'newbalanceDest': 0.0}\n",
    "# df=pd.DataFrame([h])"
   ]
  },
  {
   "cell_type": "code",
   "execution_count": 35,
   "id": "e64f757d",
   "metadata": {
    "execution": {
     "iopub.execute_input": "2022-05-14T17:18:09.649066Z",
     "iopub.status.busy": "2022-05-14T17:18:09.648435Z",
     "iopub.status.idle": "2022-05-14T17:18:09.651307Z",
     "shell.execute_reply": "2022-05-14T17:18:09.651870Z",
     "shell.execute_reply.started": "2022-04-09T17:21:26.021615Z"
    },
    "papermill": {
     "duration": 0.074611,
     "end_time": "2022-05-14T17:18:09.652040",
     "exception": false,
     "start_time": "2022-05-14T17:18:09.577429",
     "status": "completed"
    },
    "tags": []
   },
   "outputs": [],
   "source": [
    "#df"
   ]
  },
  {
   "cell_type": "code",
   "execution_count": null,
   "id": "b435f0dc",
   "metadata": {
    "papermill": {
     "duration": 0.068316,
     "end_time": "2022-05-14T17:18:09.789519",
     "exception": false,
     "start_time": "2022-05-14T17:18:09.721203",
     "status": "completed"
    },
    "tags": []
   },
   "outputs": [],
   "source": []
  }
 ],
 "metadata": {
  "kernelspec": {
   "display_name": "Python 3",
   "language": "python",
   "name": "python3"
  },
  "language_info": {
   "codemirror_mode": {
    "name": "ipython",
    "version": 3
   },
   "file_extension": ".py",
   "mimetype": "text/x-python",
   "name": "python",
   "nbconvert_exporter": "python",
   "pygments_lexer": "ipython3",
   "version": "3.7.12"
  },
  "papermill": {
   "default_parameters": {},
   "duration": 23.417268,
   "end_time": "2022-05-14T17:18:10.468193",
   "environment_variables": {},
   "exception": null,
   "input_path": "__notebook__.ipynb",
   "output_path": "__notebook__.ipynb",
   "parameters": {},
   "start_time": "2022-05-14T17:17:47.050925",
   "version": "2.3.3"
  }
 },
 "nbformat": 4,
 "nbformat_minor": 5
}
