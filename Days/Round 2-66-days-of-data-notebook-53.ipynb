{
 "cells": [
  {
   "cell_type": "code",
   "execution_count": 1,
   "id": "1b1a1f95",
   "metadata": {
    "_cell_guid": "b1076dfc-b9ad-4769-8c92-a6c4dae69d19",
    "_uuid": "8f2839f25d086af736a60e9eeb907d3b93b6e0e5",
    "execution": {
     "iopub.execute_input": "2022-05-03T17:13:01.801153Z",
     "iopub.status.busy": "2022-05-03T17:13:01.799134Z",
     "iopub.status.idle": "2022-05-03T17:13:01.823071Z",
     "shell.execute_reply": "2022-05-03T17:13:01.824120Z",
     "shell.execute_reply.started": "2022-04-12T14:12:25.248687Z"
    },
    "papermill": {
     "duration": 0.100176,
     "end_time": "2022-05-03T17:13:01.824656",
     "exception": false,
     "start_time": "2022-05-03T17:13:01.724480",
     "status": "completed"
    },
    "tags": []
   },
   "outputs": [
    {
     "name": "stdout",
     "output_type": "stream",
     "text": [
      "/kaggle/input/sample-pdf/D8communications.pdf\n"
     ]
    }
   ],
   "source": [
    "# This Python 3 environment comes with many helpful analytics libraries installed\n",
    "# It is defined by the kaggle/python Docker image: https://github.com/kaggle/docker-python\n",
    "# For example, here's several helpful packages to load\n",
    "\n",
    "import numpy as np # linear algebra\n",
    "import pandas as pd # data processing, CSV file I/O (e.g. pd.read_csv)\n",
    "\n",
    "# Input data files are available in the read-only \"../input/\" directory\n",
    "# For example, running this (by clicking run or pressing Shift+Enter) will list all files under the input directory\n",
    "\n",
    "import os\n",
    "for dirname, _, filenames in os.walk('/kaggle/input'):\n",
    "    for filename in filenames:\n",
    "        print(os.path.join(dirname, filename))\n",
    "\n",
    "# You can write up to 20GB to the current directory (/kaggle/working/) that gets preserved as output when you create a version using \"Save & Run All\" \n",
    "# You can also write temporary files to /kaggle/temp/, but they won't be saved outside of the current session"
   ]
  },
  {
   "cell_type": "markdown",
   "id": "7754ac14",
   "metadata": {
    "papermill": {
     "duration": 0.067184,
     "end_time": "2022-05-03T17:13:01.960974",
     "exception": false,
     "start_time": "2022-05-03T17:13:01.893790",
     "status": "completed"
    },
    "tags": []
   },
   "source": [
    "# **Start Date: 12/3/2022**"
   ]
  },
  {
   "cell_type": "markdown",
   "id": "457e32a5",
   "metadata": {
    "papermill": {
     "duration": 0.06872,
     "end_time": "2022-05-03T17:13:02.097760",
     "exception": false,
     "start_time": "2022-05-03T17:13:02.029040",
     "status": "completed"
    },
    "tags": []
   },
   "source": [
    "# **Day 1:** \n",
    "<br>dataquest -> stats -> probability-> estimating probability\n",
    "1. out come is nothing but o/p of an experiment\n",
    "ex: whatever u get after rolling a dice -> it can be any number\n",
    "2. event can have more than one outcome\n",
    "- e.x: The event that we'll get an odd number when we roll a six-sided die — this event includes the outcomes 1, 3, and 5.\n",
    "- an event can be 0 as well.\n",
    "- We always assign probabilities to events, not outcomes, even if the event includes only one outcome.\n",
    "- P(E) =1/total number of possible outcomes, P(E) probability of an event happening.\n",
    "- but above formula doesn't work always, especially when there are more than one outcome\n",
    "    - P(E)=number of successful outcomes/total number of possible outcomes\n",
    "- incase of a biased situation \n",
    "  - let's say a die has 6 - 3 times which is 1,6,3,5,6,6\n",
    "    we will consider 6 as 3 times not 1.\n",
    "    possible outcome-> 1,3,5,6,6,6\n",
    "    prob(6)=3/6\n",
    "    prob(3)=1/6\n",
    "    prob(2)=0/6\n",
    "    If we didn't treat each 6 differently and said it doesn't matter which side a 6 is on, \n",
    "    <br>we'd be forced to conclude the only possible outcomes are 1, 3, 5 and 6. We can definitely         <br>frame the problem like that, but the formula above won't work anymore — we see below P(6) <br>becomes the same as P(3), but, intuitively, P(6) should be higher than P(3) since the die has 6 on     <br>three of its sides:\n"
   ]
  },
  {
   "cell_type": "markdown",
   "id": "8618a56c",
   "metadata": {
    "papermill": {
     "duration": 0.067811,
     "end_time": "2022-05-03T17:13:02.233081",
     "exception": false,
     "start_time": "2022-05-03T17:13:02.165270",
     "status": "completed"
    },
    "tags": []
   },
   "source": [
    "Estimating Probabilities Conclusion\n",
    "- emperical/ experimental probability\n",
    "  - probability achieved by experimenting / by doing the same event multiple times.\n",
    "  - Generally, for any event E (like a coin landing heads up), we can find its empirical probability   \n",
    "     by using the following formula: \n",
    "     •P (E) =number of times event E happened/ number of times we repeated the experiment   \n",
    " - Generally, the empirical probability of an event (a coin landing heads up, getting a 5 when weroll a die) approaches the true probability value as the number of trials of the randomexperiment (a coin toss, the rolling of a die) increases without bound.\n",
    "- When we calculate the probability of an event under the assumption that the outcomes have equal chances of occurring, we say that we're calculating the **theoretical probability** of an event.\n",
    "   - P(E)=number of successful outcomes/total number of possible outcomes\n",
    "\n"
   ]
  },
  {
   "cell_type": "markdown",
   "id": "118916f6",
   "metadata": {
    "papermill": {
     "duration": 0.076547,
     "end_time": "2022-05-03T17:13:02.378302",
     "exception": false,
     "start_time": "2022-05-03T17:13:02.301755",
     "status": "completed"
    },
    "tags": []
   },
   "source": [
    "# **Day 2**\n",
    "<br>dataquest-> stats -> intro to probability -> probability rules\n",
    "<br>In probability theory, the set of all possible outcomes is called a sample space. A sample space is often denoted by the capital Greek letter Ω (read \"omega\"). This is how we represent the sample space of a die roll:\n",
    "\n",
    "Ω = {1,2,3,4,5,6}\n",
    "-    The probability of any event ranges between 0 and 1: 0≤ P(Event) ≤1\n",
    "- To calculate P(A or B), we can also use the formula below, which is sometimes called the addition rule: P(A or B) = P(A) + P(B)\n",
    "  - Sample space ={ 1,2,3,4,5,6} \n",
    "  - P(2 or 5) = 2/6\n",
    "\n",
    "- P(C or D) = P(C) + P(D) - P(C and D)\n",
    "   - e.x : Sample_space ={2,4,6} + { 4,5,6} - {4/6}\n",
    "      P( even number or number greater than 3) = ( (3/6) + (3/6) )- (2/6) = 4/6\n",
    "- Events that don't intersect are called mutually exclusive.\n",
    "  - e.x: Getting a 5 (event one) and getting a 3 (event two) when we roll a regular six-sided die — it's  impossible to get both a 5 and 3.\n",
    "- Events that intersect are called mutually non-exclusive.\n",
    "  - Getting a number greater than 2 (event one) and getting an odd number (event two) when we roll a regular six-sided die — we could get a 5, which is both greater than 2 (event one) and odd (event two).\n",
    "- unioun -> A or B, intersection -> A and B"
   ]
  },
  {
   "cell_type": "markdown",
   "id": "1a867769",
   "metadata": {
    "papermill": {
     "duration": 0.076128,
     "end_time": "2022-05-03T17:13:02.531060",
     "exception": false,
     "start_time": "2022-05-03T17:13:02.454932",
     "status": "completed"
    },
    "tags": []
   },
   "source": [
    "# Day 3 and 4\n",
    "dataquest -> stats -> probabilities -> solving complex probabilities\n",
    "- This is the same result we got from our previous approach. In more general terms, the multiplication rule says that for two events E1 and E2, the probability that both event E1 and E2 happen can be found by multiplying the probability of E1 by the probability of E2:\n",
    "    - P(E1 ∩ E2) = P(E1) × P(E2)\n",
    "    - Events that don't influence each other's probability are called independent events. If H1 happens, P(H2) stays the same, so H1 and H2 are independent. The multiplication rule we learned only works for independent events.\n",
    "    "
   ]
  },
  {
   "cell_type": "markdown",
   "id": "a3ab00b8",
   "metadata": {
    "papermill": {
     "duration": 0.07672,
     "end_time": "2022-05-03T17:13:02.683187",
     "exception": false,
     "start_time": "2022-05-03T17:13:02.606467",
     "status": "completed"
    },
    "tags": []
   },
   "source": [
    "# Day 5\n",
    "- When we replace the cards after drawing, we say that we're sampling with replacement. When we don't put the cards back, we're sampling without replacement. \n"
   ]
  },
  {
   "cell_type": "markdown",
   "id": "3b18f6ce",
   "metadata": {
    "papermill": {
     "duration": 0.068219,
     "end_time": "2022-05-03T17:13:02.827493",
     "exception": false,
     "start_time": "2022-05-03T17:13:02.759274",
     "status": "completed"
    },
    "tags": []
   },
   "source": [
    "# Day6\n",
    "dataquest-> prob and stats -> probability fundamentals -> permutation and combinations\n",
    "Generally, if we have an experiment E1 (like flipping a coin) with a outcomes, followed by an experiment E2 (like rolling a die) with b outcomes, then the total number of outcomes for the composite experiment E1E2 can be found by multiplying a with b:\n",
    "\n",
    "Number of outcomes = a * b"
   ]
  },
  {
   "cell_type": "markdown",
   "id": "c7a84a18",
   "metadata": {
    "papermill": {
     "duration": 0.067545,
     "end_time": "2022-05-03T17:13:02.962700",
     "exception": false,
     "start_time": "2022-05-03T17:13:02.895155",
     "status": "completed"
    },
    "tags": []
   },
   "source": [
    "# Day 7\n",
    "dataquest-> prob and stats -> probability fundamentals -> permutation and combinations <br>\n",
    "More generally, if we have an experiment E1 with a outcomes, followed by an experiment E2 with b outcomes, followed by an experiment En with z outcomes, the total number of outcomes for the composite experiment E1E2 ... En can be found by multiplying their individual outcomes:\n",
    "\n",
    "Number of outcomes= a * b * … * z"
   ]
  },
  {
   "cell_type": "markdown",
   "id": "e0f67871",
   "metadata": {
    "papermill": {
     "duration": 0.068942,
     "end_time": "2022-05-03T17:13:03.100177",
     "exception": false,
     "start_time": "2022-05-03T17:13:03.031235",
     "status": "completed"
    },
    "tags": []
   },
   "source": [
    "# Day 8\n",
    "dataquest-> prob and stats -> probability fundamentals -> permutation and combinations <br>\n",
    "permutations= n*(n-1)*(n-2)*....*2*1\n"
   ]
  },
  {
   "cell_type": "markdown",
   "id": "4e2ae43f",
   "metadata": {
    "papermill": {
     "duration": 0.067577,
     "end_time": "2022-05-03T17:13:03.235080",
     "exception": false,
     "start_time": "2022-05-03T17:13:03.167503",
     "status": "completed"
    },
    "tags": []
   },
   "source": [
    "# Day 9\n",
    "dataquest-> prob and stats -> probability fundamentals -> permutation and combinations\n",
    "- in permutation order of the individual element in the arranement matters.\n",
    "   - for e.x: 9821 is different than 9281\n",
    "   - Permutations =n!  --> sample without replacement-> we are not putting back the sampled data.\n",
    "   - On the last screen, we learned to use the formula below to calculate permutations when we're sampling without replacement and taking only k objects from a group of n objects:\n",
    "   npk=n!/(n-k)!"
   ]
  },
  {
   "cell_type": "markdown",
   "id": "dc119173",
   "metadata": {
    "papermill": {
     "duration": 0.06942,
     "end_time": "2022-05-03T17:13:03.375214",
     "exception": false,
     "start_time": "2022-05-03T17:13:03.305794",
     "status": "completed"
    },
    "tags": []
   },
   "source": [
    "# Day 10\n",
    "dataquest-> prob and stats -> probability fundamentals -> permutation and combinations\n",
    "- More generally, if the order of the elements in an arrangement doesn't matter, the arrangement is called a combination.\n",
    "- e.x: cards in a deck \n",
    "- nCk = n! / ((n-k)!*k!)"
   ]
  },
  {
   "cell_type": "markdown",
   "id": "e67fb96a",
   "metadata": {
    "papermill": {
     "duration": 0.067869,
     "end_time": "2022-05-03T17:13:03.512168",
     "exception": false,
     "start_time": "2022-05-03T17:13:03.444299",
     "status": "completed"
    },
    "tags": []
   },
   "source": [
    "# Day 11\n",
    "dataquest-> prob and stats -> probability fundamentals -> permutation and combinations\n",
    "- solved 1 probability problem.\n"
   ]
  },
  {
   "cell_type": "markdown",
   "id": "10027466",
   "metadata": {
    "papermill": {
     "duration": 0.067625,
     "end_time": "2022-05-03T17:13:03.647330",
     "exception": false,
     "start_time": "2022-05-03T17:13:03.579705",
     "status": "completed"
    },
    "tags": []
   },
   "source": [
    "# Day 12\n",
    "dataquest-> prob and stats -> probability fundamentals -> permutation and combinations\n",
    "- finished probability and permutations by revising them.\n",
    "- If we have an experiment E1 (like flipping a coin) with a outcomes, followed by an experiment E2(like rolling a die) with b outcomes, then the total number of outcomes for the compositeexperiment E1E2 can be found by multiplying a with b (this is known as the rule of product):\n",
    "  - number of outcomes = a*b\n",
    "- If we have an experiment E1 with a outcomes, followed by an experiment E2 with b outcomes,followed by an experiment En with z outcomes, the total number of outcomes for the compositeexperiment E1E2 ... En can be found by multiplying their individual outcomes:\n",
    "   - number of outcomes = a*b* ... *z\n",
    "- There are two kinds of arrangements:\n",
    "   - •Arrangements where the order matters, which we call permutations.\n",
    "   - •Arrangements where the order doesn't matter, which we call combination\n",
    "- To find the number of permutations when we're sampling without replacement, we can use theformula:\n",
    "  - permutation = n!\n",
    "- To find the number of permutations when we're sampling without replacement and taking only kobjects from a group of n objects, we can use the formula:\n",
    "  - nPk = n!/(n-k)!\n",
    "- To find the number of combinations when we're sampling without replacement and taking only kobjects from a group of n objects, we can use the formula\n",
    "  - nCk = n! / ((n-k)!*k!)"
   ]
  },
  {
   "cell_type": "markdown",
   "id": "c449bb82",
   "metadata": {
    "papermill": {
     "duration": 0.068279,
     "end_time": "2022-05-03T17:13:03.785239",
     "exception": false,
     "start_time": "2022-05-03T17:13:03.716960",
     "status": "completed"
    },
    "tags": []
   },
   "source": [
    "# Day 13\n",
    "dataquest-> prob and stats -> probability fundamentals -> conditional probabilities\n",
    "- first 2 slides -> mainly the recap of old chapter(above one).\n"
   ]
  },
  {
   "cell_type": "markdown",
   "id": "2ad9e2ab",
   "metadata": {
    "papermill": {
     "duration": 0.067248,
     "end_time": "2022-05-03T17:13:03.921589",
     "exception": false,
     "start_time": "2022-05-03T17:13:03.854341",
     "status": "completed"
    },
    "tags": []
   },
   "source": [
    "# Day 14\n",
    "dataquest-> prob and stats -> probability fundamentals -> conditional probabilities\n",
    "<br>slide 4 completed\n",
    "<br>conditional probabilities\n",
    "- probabilities with condition\n",
    "- P(5)=What is the probability of getting a 5? -> normal probability\n",
    "- P(5 | odd) =What is the probability of getting a 5 given the die showed an odd number? -> conditional prob.\n",
    "\n"
   ]
  },
  {
   "cell_type": "markdown",
   "id": "89a66650",
   "metadata": {
    "papermill": {
     "duration": 0.067921,
     "end_time": "2022-05-03T17:13:04.057981",
     "exception": false,
     "start_time": "2022-05-03T17:13:03.990060",
     "status": "completed"
    },
    "tags": []
   },
   "source": [
    "# Day 15\n",
    "dataquest-> prob and stats -> probability fundamentals -> conditional probabilities\n",
    "- on slide 5 not done yet.\n",
    "\n",
    "Say we roll a fair six-sided die and want to find the probability of getting an odd number, given the die showed a number greater than 1 after landing. Using probability notation, we want to find P(A|B) where:\n",
    "\n",
    "- A is the event that the number is odd: A = {1, 3, 5}\n",
    "- B is the event that the number is greater than 1: B = {2, 3, 4, 5, 6}\n",
    "- P(A/B)=number of succesfull outcomes / total number of outcomes.\n"
   ]
  },
  {
   "cell_type": "markdown",
   "id": "cfae6b26",
   "metadata": {
    "papermill": {
     "duration": 0.068299,
     "end_time": "2022-05-03T17:13:04.196281",
     "exception": false,
     "start_time": "2022-05-03T17:13:04.127982",
     "status": "completed"
    },
    "tags": []
   },
   "source": [
    "# Day 16 and 17\n",
    "dataquest-> prob and stats -> probability fundamentals -> conditional probabilities\n",
    "\n",
    "on slide 6 not done yet."
   ]
  },
  {
   "cell_type": "markdown",
   "id": "19bf9ade",
   "metadata": {
    "papermill": {
     "duration": 0.068104,
     "end_time": "2022-05-03T17:13:04.332224",
     "exception": false,
     "start_time": "2022-05-03T17:13:04.264120",
     "status": "completed"
    },
    "tags": []
   },
   "source": [
    "# Day 18\n",
    "dataquest-> prob and stats -> probability fundamentals -> conditional probabilities\n",
    "<br>slide 5 code half done"
   ]
  },
  {
   "cell_type": "markdown",
   "id": "03d99eab",
   "metadata": {
    "papermill": {
     "duration": 0.067683,
     "end_time": "2022-05-03T17:13:04.470031",
     "exception": false,
     "start_time": "2022-05-03T17:13:04.402348",
     "status": "completed"
    },
    "tags": []
   },
   "source": [
    "# Day 19\n",
    "- The number of elements in a set is called the cardinal of the set. \n",
    "  Ω is a set, and the cardinal of \n",
    "   Ω = { 2,3,4,5,6}\n",
    "   cardinal(Ω)=5\n",
    "- P(A | B) = card(A ∩ B) / card(B)\n",
    "- Say we roll a fair six-sided die and want to find the probability of getting an odd number, given the die showed a number greater than 1 after landing. Using probability notation, we want to find P(A|B) where:\n",
    "    - A is the event that the number is odd: A = {1, 3, 5}\n",
    "     - B is the event that the number is greater than 1: B = {2, 3, 4, 5, 6}\n",
    "     - total number of possible outcomes = card({2,3,4,5,6}) =5\n",
    "     - number of successful outcomes = card({3,5})= 2\n",
    "- P(A | B) = card(A ∩ B) / card(B), we can also get the same result using P(A | B) = prob(A ∩ B) / prob(B)\n",
    "\n",
    "     "
   ]
  },
  {
   "cell_type": "markdown",
   "id": "5ad9f322",
   "metadata": {
    "papermill": {
     "duration": 0.067486,
     "end_time": "2022-05-03T17:13:04.605289",
     "exception": false,
     "start_time": "2022-05-03T17:13:04.537803",
     "status": "completed"
    },
    "tags": []
   },
   "source": [
    "# Day 20\n",
    "dataquest-> prob and stats -> probability fundamentals -> conditional probabilities intermediate\n",
    "<br> slide 1 and 2\n",
    "- P( A | B ) ≠ P(A ∩ B), but rather:\n",
    "   - P(A | B) = P(A ∩ B) / P(B)\n",
    "   - P(A ∩ B) = P(A | B) ⋅ P(B)\n",
    "- Given that a customer bought a laptop, they will or will not also buy a mouse. This means we can be certain that either event (M|L) or (M^C|L) will happen:\n",
    "     - P(M | L) + P(M^C | L) = 1\n",
    "\n"
   ]
  },
  {
   "cell_type": "markdown",
   "id": "dfefa401",
   "metadata": {
    "papermill": {
     "duration": 0.067695,
     "end_time": "2022-05-03T17:13:04.741191",
     "exception": false,
     "start_time": "2022-05-03T17:13:04.673496",
     "status": "completed"
    },
    "tags": []
   },
   "source": [
    "# Day 21\n",
    "dataquest-> prob and stats -> probability fundamentals -> conditional probabilities intermediate\n",
    "slide 1 and 2\n",
    "- P(A ∩ B) = P(B ∩ A)\n",
    "- multiplication rule of probability\n",
    "  -  P(A ∩ B) = P(B) ⋅ P(A | B) \n",
    "  - P(A ∩ B) = P(A) ⋅ P(B | A)\n",
    "- if P(A) and P(B) are statistically independent then \n",
    "  - P(A ∩ B) = P(A) ⋅ P(B)\n",
    "\n"
   ]
  },
  {
   "cell_type": "markdown",
   "id": "9ae702bc",
   "metadata": {
    "papermill": {
     "duration": 0.067043,
     "end_time": "2022-05-03T17:13:04.875726",
     "exception": false,
     "start_time": "2022-05-03T17:13:04.808683",
     "status": "completed"
    },
    "tags": []
   },
   "source": [
    "# Day 22\n",
    "dataquest-> prob and stats -> probability fundamentals -> conditional probabilities intermediate \n",
    "<br>slide 6\n",
    "- If events events A and B are dependent, it means the occurrence of event A changes the probability of event B and vice versa.\n",
    "   - P(A) ≠ P(A | B)\n",
    "   - P(B) ≠ P(B | A)\n",
    "   - P(A ∩ B) ≠ P(A) ⋅ P(B)\n",
    "   - formula will become P(A ∩ B) ≠ P(A) ⋅ P(B/A)\n",
    "   "
   ]
  },
  {
   "cell_type": "markdown",
   "id": "73e3c98a",
   "metadata": {
    "papermill": {
     "duration": 0.069556,
     "end_time": "2022-05-03T17:13:05.013216",
     "exception": false,
     "start_time": "2022-05-03T17:13:04.943660",
     "status": "completed"
    },
    "tags": []
   },
   "source": [
    "# Day 23\n",
    "dataquest-> prob and stats -> probability fundamentals -> conditional probabilities intermediate\n",
    "<br>slide 7 to last\n",
    "- To find whether three events — A, B, C — are independent or not, below conditions must hold true -\n",
    "  - P(A ∩ B) ≠ P(A) ⋅ P(B)\n",
    "  - P(A ∩ C) ≠ P(A) ⋅ P(C)\n",
    "  - P(B ∩ C) ≠ P(B) ⋅ P(C)\n",
    "  - P(A ∩ B ∩ C) ≠ P(A) ⋅ P(B) . P(C)\n",
    "- multiplication rule for conditional probability or dependent events\n",
    " - P(A ∩ B ∩ C) = P(A) ⋅ P(B | A) ⋅ P(C | A ∩ B)\n",
    " \n",
    "\n"
   ]
  },
  {
   "cell_type": "markdown",
   "id": "ebe19378",
   "metadata": {
    "papermill": {
     "duration": 0.069893,
     "end_time": "2022-05-03T17:13:05.153027",
     "exception": false,
     "start_time": "2022-05-03T17:13:05.083134",
     "status": "completed"
    },
    "tags": []
   },
   "source": [
    "# Day 24\n",
    "dataquest-> prob and stats -> probability fundamentals -> bayes theorem\n",
    "<br>slide 1\n",
    "- independent -> one event is dependent on other\n",
    "   - P(A ∩ B) = P(A) ⋅ P(B/A)\n",
    "- independent -> one event is not dependent on other.\n",
    "   - P(A ∩ B) = P(A) ⋅ P(B)\n",
    "- mutually exclusive -> both the events cannot happen at the same time.\n",
    "   - P(A ∩ B) = 0\n",
    "\n"
   ]
  },
  {
   "cell_type": "markdown",
   "id": "0858b986",
   "metadata": {
    "papermill": {
     "duration": 0.067198,
     "end_time": "2022-05-03T17:13:05.288513",
     "exception": false,
     "start_time": "2022-05-03T17:13:05.221315",
     "status": "completed"
    },
    "tags": []
   },
   "source": [
    "# Day 25\n",
    "dataquest-> prob and stats -> probability fundamentals -> bayes theorem\n",
    "<br>slide 2\n",
    "- If two events are exhaustive, it means they make up the whole sample space Ω\n",
    "  -  P(A) = P(A ∩ B) + P(A ∩ B^c)\n",
    "     P(A) = (P(B) * P(A/B)) +  (P(B^c) * P(A/B^c))\n",
    "     \n",
    "     "
   ]
  },
  {
   "cell_type": "markdown",
   "id": "4ba22285",
   "metadata": {
    "papermill": {
     "duration": 0.067046,
     "end_time": "2022-05-03T17:13:05.423540",
     "exception": false,
     "start_time": "2022-05-03T17:13:05.356494",
     "status": "completed"
    },
    "tags": []
   },
   "source": [
    "# Day 26\n",
    "dataquest-> prob and stats -> probability fundamentals -> bayes theorem\n",
    "<br>slide 3 - last\n",
    "- the law of total probability\n",
    "  - P(A)  = (P(B1) * P(A/B1)) + (P(B2) * P(A/B2))+ ... + (P(Bn) * P(A/Bn)))\n",
    "  - P(A) =(summattion i=1 to n) P(Bi) ⋅ P(A|Bi)\n",
    "- Baye's theorem\n",
    "  - P(B | A) = (P(B) ⋅ P(A | B)) / (n ∑i=1 P(Bi) ⋅ P(A | Bi))\n",
    "- The probability of being infected with HIV before doing any test is called the prior probability (\"prior\" means \"before\"). The probability of being infected with HIV after testing positive is called the posterior probability (\"posterior\" means \"after\").\n",
    "\n",
    "\n",
    "  "
   ]
  },
  {
   "cell_type": "markdown",
   "id": "233e7e03",
   "metadata": {
    "papermill": {
     "duration": 0.067808,
     "end_time": "2022-05-03T17:13:05.558629",
     "exception": false,
     "start_time": "2022-05-03T17:13:05.490821",
     "status": "completed"
    },
    "tags": []
   },
   "source": [
    "# Day 27\n",
    "dataquest-> prob and stats -> probability fundamentals -> naive bayes theorem\n",
    "<br>slide 1 - \n",
    "P(Spam|w1,w2,w3,w4)∝P(Spam)⋅P(w1|Spam)⋅P(w2|Spam)⋅P(w3|Spam)⋅P(w4|Spam)P(SpamC|w1,w2,w3,w4)∝P(SpamC)⋅P(w1|SpamC)⋅P(w2|SpamC)⋅P(w3|SpamC)⋅P(w4|SpamC)"
   ]
  },
  {
   "cell_type": "markdown",
   "id": "9f4340e4",
   "metadata": {
    "papermill": {
     "duration": 0.06775,
     "end_time": "2022-05-03T17:13:05.696018",
     "exception": false,
     "start_time": "2022-05-03T17:13:05.628268",
     "status": "completed"
    },
    "tags": []
   },
   "source": [
    "# Day 28\n",
    "dataquest-> prob and stats -> probability fundamentals -> naive bayes theorem\n",
    "<br>finished.\n",
    "<br>**Summary**\n",
    "- P(Spam|w1,w2,...,wn)∝P(Spam)⋅n∏i=1P(wi|Spam)\n",
    "- P(SpamC|w1,w2,...,wn)∝P(SpamC)⋅n∏i=1P(wi|SpamC)\n",
    "- To calculate P(wi|Spam) and P(wi|SpamC), we need to use the additive smoothing technique: \n",
    "- P ( w i | S p a m ) = (N w i | S p a m + α) / ( N S p a m + α ⋅ N V o c a b u l a r y )\n",
    "- P ( w i | S p a m C ) = (N w i | S p a m C + α) / ( N S p a m C + α ⋅ N V o c a b u l a r y )\n",
    "     - N w i | S p a m = the number of times the word w i occurs in spam messages \n",
    "     - N w i | S p a m C = the number of times the word w i occurs in non-spam messages \n",
    "     - N S p a m = total number of words in spam messages \n",
    "     - N S p a m C = total number of words in non-spam messages \n",
    "     - N V o c a b u l a r y = total number of words in the vocabulary \n",
    "     - α = 1 ( α is a smoothing parameter )\n",
    " - naive bayes theorem assumes that events are not dependent.\n",
    " - The assumption of conditional independence between words is thus naive since it rarely holds in practice, and this is why the algorithm is called Naive Bayes (also called simple Bayes or independence Bayes)."
   ]
  },
  {
   "cell_type": "markdown",
   "id": "91e35baa",
   "metadata": {
    "papermill": {
     "duration": 0.067294,
     "end_time": "2022-05-03T17:13:05.831081",
     "exception": false,
     "start_time": "2022-05-03T17:13:05.763787",
     "status": "completed"
    },
    "tags": []
   },
   "source": [
    "# Day 29,30,31\n",
    "<br>dataquest-> prob and stats -> probability fundamentals -> conditional probability-> guided projects\n",
    "<br> in progress"
   ]
  },
  {
   "cell_type": "markdown",
   "id": "cd5ee71a",
   "metadata": {
    "papermill": {
     "duration": 0.067391,
     "end_time": "2022-05-03T17:13:05.966274",
     "exception": false,
     "start_time": "2022-05-03T17:13:05.898883",
     "status": "completed"
    },
    "tags": []
   },
   "source": [
    "# Day 32 and 33\n",
    "<br>dataquest-> prob and stats -> probability fundamentals -> guided projects\n",
    "<br> done"
   ]
  },
  {
   "cell_type": "markdown",
   "id": "59f7ee69",
   "metadata": {
    "papermill": {
     "duration": 0.068564,
     "end_time": "2022-05-03T17:13:06.102285",
     "exception": false,
     "start_time": "2022-05-03T17:13:06.033721",
     "status": "completed"
    },
    "tags": []
   },
   "source": [
    "# Day 34\n",
    "<br>dataquest-> prob and stats -> probability fundamentals -> guided projects-> lottery prediction\n",
    "<br> done"
   ]
  },
  {
   "cell_type": "markdown",
   "id": "9401d3a6",
   "metadata": {
    "papermill": {
     "duration": 0.068292,
     "end_time": "2022-05-03T17:13:06.241093",
     "exception": false,
     "start_time": "2022-05-03T17:13:06.172801",
     "status": "completed"
    },
    "tags": []
   },
   "source": [
    "# Day 35\n",
    "<br>dataquest-> prob and stats -> hypothesis testing fundamentals -> significance testing\n",
    "<br> till slide 4\n",
    "- null hypothesis\n",
    "- alternate hypothesis\n"
   ]
  },
  {
   "cell_type": "markdown",
   "id": "5098eadb",
   "metadata": {
    "papermill": {
     "duration": 0.067262,
     "end_time": "2022-05-03T17:13:06.376348",
     "exception": false,
     "start_time": "2022-05-03T17:13:06.309086",
     "status": "completed"
    },
    "tags": []
   },
   "source": [
    "# Day 36 and 37\n",
    "<br>dataquest-> prob and stats -> hypothesis testing fundamentals -> significance testing\n",
    "- The permutation test is a statistical test that involves rerunning the study many times and recalculating the test statistic for each iteration. The goal is to calculate a distribution of the test statistics over these many iterations. This distribution is called the sampling distribution and it approximates the full range of possible test statistics under the null hypothesis\n",
    "\n"
   ]
  },
  {
   "cell_type": "markdown",
   "id": "1dcf4178",
   "metadata": {
    "papermill": {
     "duration": 0.067587,
     "end_time": "2022-05-03T17:13:06.511338",
     "exception": false,
     "start_time": "2022-05-03T17:13:06.443751",
     "status": "completed"
    },
    "tags": []
   },
   "source": [
    "# Day 38\n",
    "<br>dataquest-> prob and stats -> hypothesis testing fundamentals -> significance testing\n",
    "<br>in progress."
   ]
  },
  {
   "cell_type": "markdown",
   "id": "34f076e6",
   "metadata": {
    "papermill": {
     "duration": 0.067484,
     "end_time": "2022-05-03T17:13:06.646305",
     "exception": false,
     "start_time": "2022-05-03T17:13:06.578821",
     "status": "completed"
    },
    "tags": []
   },
   "source": [
    "# Day 39\n",
    "<br>dataquest-> prob and stats -> hypothesis testing fundamentals -> significance testing\n",
    "<br>slide 5-6"
   ]
  },
  {
   "cell_type": "markdown",
   "id": "39e63f24",
   "metadata": {
    "papermill": {
     "duration": 0.069125,
     "end_time": "2022-05-03T17:13:06.782844",
     "exception": false,
     "start_time": "2022-05-03T17:13:06.713719",
     "status": "completed"
    },
    "tags": []
   },
   "source": [
    "# Day 40\n",
    "<br>dataquest-> prob and stats -> hypothesis testing fundamentals -> significance testing\n",
    "<br>slide 7"
   ]
  },
  {
   "cell_type": "markdown",
   "id": "56710a37",
   "metadata": {
    "papermill": {
     "duration": 0.069631,
     "end_time": "2022-05-03T17:13:06.921876",
     "exception": false,
     "start_time": "2022-05-03T17:13:06.852245",
     "status": "completed"
    },
    "tags": []
   },
   "source": [
    "# Day 41 and 42\n",
    "<br>dataquest-> prob and stats -> hypothesis testing fundamentals -> significance testing\n",
    "<br>slide 7 done and 8(p-value) strated"
   ]
  },
  {
   "cell_type": "markdown",
   "id": "1ee544e4",
   "metadata": {
    "papermill": {
     "duration": 0.068313,
     "end_time": "2022-05-03T17:13:07.059177",
     "exception": false,
     "start_time": "2022-05-03T17:13:06.990864",
     "status": "completed"
    },
    "tags": []
   },
   "source": [
    "# Day 43\n",
    "<br>dataquest-> prob and stats -> hypothesis testing fundamentals -> significance testing\n",
    "<br>\n",
    "- The first step is to decide a test statistic, which is a numerical value that summarizes the data and one we can use in statistical formulas. The test statistic runs a statistical test that determines whether the difference between the groups was due to random chance.\n",
    "  - e.x: mean \n",
    "- The permutation test is a statistical test that involves rerunning the study many times and recalculating the test statistic for each iteration.\n",
    "   - The goal is to calculate a distribution of the test statistics over these many iterations. This distribution is called the sampling distribution and it approximates the full range of possible test statistics under the null hypothesis.\n",
    "- If the p value is less than the threshold, we:\n",
    "    - reject the null hypothesis that there's no difference in the mean amount of weight lost by participants in both groups; and\n",
    "    - conclude that there is some evidence that the weight loss pill does affect the amount of weight people lost.\n",
    "\n",
    "- If the p value is greater than the threshold, we:\n",
    "    - fail to reject the null hypothesis that there's no difference in the mean amount of weight lost by participants in both groups,\n",
    "    - conclude that the weight loss pill doesn't seem to be effective in helping people lose weight.\n",
    "- usually used p-value threshold is 0.05\n",
    "- The p value threshold you set can also affect the conclusion you reach.\n",
    "    - If you set too high of a p value threshold, you may reject the null hypothesis incorrectly. This is known as a type I error.\n",
    "    - If you set too low of a p value threshold, you may fail to reject the null hypothesis incorrectly. This is known as a type II error."
   ]
  },
  {
   "cell_type": "markdown",
   "id": "5d255f33",
   "metadata": {
    "papermill": {
     "duration": 0.068632,
     "end_time": "2022-05-03T17:13:07.196312",
     "exception": false,
     "start_time": "2022-05-03T17:13:07.127680",
     "status": "completed"
    },
    "tags": []
   },
   "source": [
    "# Day 44\n",
    "<br>dataquest-> prob and stats -> hypothesis testing fundamentals -> significance testing-> chi squared test\n",
    "<br>1- 4\n",
    "- chi squared test is used for numerical values"
   ]
  },
  {
   "cell_type": "markdown",
   "id": "b972b336",
   "metadata": {
    "papermill": {
     "duration": 0.067461,
     "end_time": "2022-05-03T17:13:07.332133",
     "exception": false,
     "start_time": "2022-05-03T17:13:07.264672",
     "status": "completed"
    },
    "tags": []
   },
   "source": [
    "# Day 45 and 46\n",
    "<br>dataquest-> prob and stats -> hypothesis testing fundamentals -> significance testing-> chi squared test\n",
    "<br>4- 6"
   ]
  },
  {
   "cell_type": "markdown",
   "id": "1d04f209",
   "metadata": {
    "papermill": {
     "duration": 0.067513,
     "end_time": "2022-05-03T17:13:07.467399",
     "exception": false,
     "start_time": "2022-05-03T17:13:07.399886",
     "status": "completed"
    },
    "tags": []
   },
   "source": [
    "# Day 47\n",
    "<br>dataquest-> prob and stats -> hypothesis testing fundamentals -> significance testing-> chi squared test\n",
    "<br> slide 6 done"
   ]
  },
  {
   "cell_type": "markdown",
   "id": "ae4c6858",
   "metadata": {
    "papermill": {
     "duration": 0.067151,
     "end_time": "2022-05-03T17:13:07.602271",
     "exception": false,
     "start_time": "2022-05-03T17:13:07.535120",
     "status": "completed"
    },
    "tags": []
   },
   "source": [
    "# Day 48\n",
    "<br> chi-squared values is that they get smaller as the sample size decreases.\n",
    "<br>**conclusion**\n",
    "- The chi-squared test enables us to quantify the difference between sets of observed and expected categorical values to determine statistical significance\n",
    "- chi squared = (observed - expected)**2 / expected\n",
    "- A p-value allows us to determine whether the difference between 2 values is due to chance, or due to an underlying difference.\n",
    "- Chi-squared values increase as sample size increases, but the chance of getting a high chi-squared value decreases as the sample gets larger.\n",
    "- A degree of freedom is the number of values that can vary without the other values being\"locked in\". \n",
    "- scipy https://docs.scipy.org/doc/scipy/reference/generated/scipy.stats.mstats.chisquare.html\n"
   ]
  },
  {
   "cell_type": "markdown",
   "id": "8b89d9ce",
   "metadata": {
    "papermill": {
     "duration": 0.067076,
     "end_time": "2022-05-03T17:13:07.737082",
     "exception": false,
     "start_time": "2022-05-03T17:13:07.670006",
     "status": "completed"
    },
    "tags": []
   },
   "source": [
    "# Day 49\n",
    "<br>dataquest-> prob and stats -> hypothesis testing fundamentals -> significance testing-> multi category chi squared test\n",
    "<br> slide 1 done\n",
    "- We can apply the multi category chi-squared test (also known as the chi-squared test of association) to figure out if there's a statistically significant correlation between two categorical columns.\n",
    "- "
   ]
  },
  {
   "cell_type": "markdown",
   "id": "27521095",
   "metadata": {
    "papermill": {
     "duration": 0.068799,
     "end_time": "2022-05-03T17:13:07.873648",
     "exception": false,
     "start_time": "2022-05-03T17:13:07.804849",
     "status": "completed"
    },
    "tags": []
   },
   "source": [
    " **Day 50**\n",
    "<br>dataquest-> prob and stats -> hypothesis testing fundamentals -> significance testing-> multi category chi squared test\n",
    "# Conclusion:\n",
    "- In a multiple category chi-squared test, we calculate expected values across our whole dataset.\n",
    "- We can calculate the chi-squared value by using the following steps:\n",
    "    - Subtract the expected value from the observed value.\n",
    "    - Subtract the difference.\n",
    "    - Divide the squared difference by the expected value.\n",
    "    - Repeat for all observed and expected values and add up all the values.\n",
    "- ∑ expected(observed−expected)**2 / expected\n",
    "- Discovering that a result isn't significant doesn't mean that no association between the columnsexists. Discovering a statistically significant result doesn't imply anything about what thecorrelation is.\n",
    "- Chi-squared tests can only be applied when each possibility within a category is independen.\n",
    "    - we have categories like male or female not both. single row has either male or female not both at a time.\n",
    "- https://docs.scipy.org/doc/scipy-0.15.1/reference/generated/scipy.stats.chi2_contingency.html\n",
    "- https://pandas.pydata.org/pandas-docs/stable/generated/pandas.crosstab.html\n"
   ]
  },
  {
   "cell_type": "markdown",
   "id": "01841cf1",
   "metadata": {
    "papermill": {
     "duration": 0.068902,
     "end_time": "2022-05-03T17:13:08.010048",
     "exception": false,
     "start_time": "2022-05-03T17:13:07.941146",
     "status": "completed"
    },
    "tags": []
   },
   "source": [
    "# **Day 51, 52**\n",
    "<br>dataquest-> prob and stats -> hypothesis testing fundamentals -> significance testing-> guided project\n",
    "<br>in progress."
   ]
  },
  {
   "cell_type": "markdown",
   "id": "3b0b9171",
   "metadata": {
    "papermill": {
     "duration": 0.068349,
     "end_time": "2022-05-03T17:13:08.148714",
     "exception": false,
     "start_time": "2022-05-03T17:13:08.080365",
     "status": "completed"
    },
    "tags": []
   },
   "source": [
    "# **Day 53**\n",
    "<br>dataquest-> prob and stats -> hypothesis testing fundamentals -> significance testing-> guided project\n",
    "<br>done"
   ]
  },
  {
   "cell_type": "code",
   "execution_count": null,
   "id": "5685c004",
   "metadata": {
    "papermill": {
     "duration": 0.069762,
     "end_time": "2022-05-03T17:13:08.287973",
     "exception": false,
     "start_time": "2022-05-03T17:13:08.218211",
     "status": "completed"
    },
    "tags": []
   },
   "outputs": [],
   "source": []
  },
  {
   "cell_type": "code",
   "execution_count": 2,
   "id": "5a26882f",
   "metadata": {
    "execution": {
     "iopub.execute_input": "2022-05-03T17:13:08.428346Z",
     "iopub.status.busy": "2022-05-03T17:13:08.427286Z",
     "iopub.status.idle": "2022-05-03T17:13:08.429851Z",
     "shell.execute_reply": "2022-05-03T17:13:08.429349Z",
     "shell.execute_reply.started": "2022-04-12T14:17:49.333113Z"
    },
    "papermill": {
     "duration": 0.074374,
     "end_time": "2022-05-03T17:13:08.430007",
     "exception": false,
     "start_time": "2022-05-03T17:13:08.355633",
     "status": "completed"
    },
    "tags": []
   },
   "outputs": [],
   "source": [
    "# !pip install PyMuPDF"
   ]
  },
  {
   "cell_type": "code",
   "execution_count": 3,
   "id": "72f26580",
   "metadata": {
    "execution": {
     "iopub.execute_input": "2022-05-03T17:13:08.569494Z",
     "iopub.status.busy": "2022-05-03T17:13:08.568495Z",
     "iopub.status.idle": "2022-05-03T17:13:08.572060Z",
     "shell.execute_reply": "2022-05-03T17:13:08.572668Z",
     "shell.execute_reply.started": "2022-04-12T14:19:20.437905Z"
    },
    "papermill": {
     "duration": 0.075245,
     "end_time": "2022-05-03T17:13:08.572838",
     "exception": false,
     "start_time": "2022-05-03T17:13:08.497593",
     "status": "completed"
    },
    "tags": []
   },
   "outputs": [],
   "source": [
    " \n",
    "# fitz.__version__"
   ]
  },
  {
   "cell_type": "code",
   "execution_count": 4,
   "id": "534dd9fe",
   "metadata": {
    "execution": {
     "iopub.execute_input": "2022-05-03T17:13:08.713760Z",
     "iopub.status.busy": "2022-05-03T17:13:08.712711Z",
     "iopub.status.idle": "2022-05-03T17:13:08.714702Z",
     "shell.execute_reply": "2022-05-03T17:13:08.715275Z",
     "shell.execute_reply.started": "2022-04-12T14:23:59.687259Z"
    },
    "papermill": {
     "duration": 0.074057,
     "end_time": "2022-05-03T17:13:08.715440",
     "exception": false,
     "start_time": "2022-05-03T17:13:08.641383",
     "status": "completed"
    },
    "tags": []
   },
   "outputs": [],
   "source": [
    "# !python -m spacy download en_core_web_sm"
   ]
  },
  {
   "cell_type": "code",
   "execution_count": null,
   "id": "76b7d62e",
   "metadata": {
    "papermill": {
     "duration": 0.069117,
     "end_time": "2022-05-03T17:13:08.853494",
     "exception": false,
     "start_time": "2022-05-03T17:13:08.784377",
     "status": "completed"
    },
    "tags": []
   },
   "outputs": [],
   "source": []
  },
  {
   "cell_type": "code",
   "execution_count": 5,
   "id": "09d3785c",
   "metadata": {
    "execution": {
     "iopub.execute_input": "2022-05-03T17:13:08.997102Z",
     "iopub.status.busy": "2022-05-03T17:13:08.996030Z",
     "iopub.status.idle": "2022-05-03T17:13:08.998614Z",
     "shell.execute_reply": "2022-05-03T17:13:08.998041Z",
     "shell.execute_reply.started": "2022-04-12T14:18:25.912243Z"
    },
    "papermill": {
     "duration": 0.076794,
     "end_time": "2022-05-03T17:13:08.998752",
     "exception": false,
     "start_time": "2022-05-03T17:13:08.921958",
     "status": "completed"
    },
    "tags": []
   },
   "outputs": [],
   "source": [
    "# import fitz\n",
    "# import spacy\n",
    "# import re\n",
    "# from pathlib import Path\n",
    "# import requests\n",
    "# import os"
   ]
  },
  {
   "cell_type": "code",
   "execution_count": 6,
   "id": "cb6b1450",
   "metadata": {
    "execution": {
     "iopub.execute_input": "2022-05-03T17:13:09.141389Z",
     "iopub.status.busy": "2022-05-03T17:13:09.140341Z",
     "iopub.status.idle": "2022-05-03T17:13:09.144545Z",
     "shell.execute_reply": "2022-05-03T17:13:09.145075Z",
     "shell.execute_reply.started": "2022-04-12T15:03:43.5897Z"
    },
    "papermill": {
     "duration": 0.076459,
     "end_time": "2022-05-03T17:13:09.145252",
     "exception": false,
     "start_time": "2022-05-03T17:13:09.068793",
     "status": "completed"
    },
    "tags": []
   },
   "outputs": [],
   "source": [
    "# sql_db_json = [\n",
    "#   {\n",
    "#     \"document_id\": \"1\",\n",
    "#     \"area\": \"[72.1149,661.2966,131.95729,675.1716]\",\n",
    "#     \"page\": \"3\",\n",
    "#     \"text_\": \"Background\",\n",
    "#     \"type_of_selection\": \"Text\",\n",
    "#     \"entity_type\": \"name\",\n",
    "#     \"link\": \"https://redactable-devox-stage.s3.us-east-2.amazonaws.com/tenants/41d9e109-693b-444c-aa18-e5891bc6550b/original/1a7c0e5d-3237-4ca9-9e3d-89e707245ac6/D8communications.pdf\"\n",
    "#   },\n",
    "#   {\n",
    "#     \"document_id\": \"1\",\n",
    "#     \"area\": \"[290.55386,632.0173,322.14685,645.8923]\",\n",
    "#     \"page\": \"2\",\n",
    "#     \"text_\": \"INDEX\",\n",
    "#     \"type_of_selection\": \"Text\",\n",
    "#     \"entity_type\": \"address\",\n",
    "#     \"link\": \"https://redactable-devox-stage.s3.us-east-2.amazonaws.com/tenants/41d9e109-693b-444c-aa18-e5891bc6550b/original/1a7c0e5d-3237-4ca9-9e3d-89e707245ac6/D8communications.pdf\"\n",
    "#   }\n",
    "# ]"
   ]
  },
  {
   "cell_type": "code",
   "execution_count": 7,
   "id": "247e2f97",
   "metadata": {
    "execution": {
     "iopub.execute_input": "2022-05-03T17:13:09.289214Z",
     "iopub.status.busy": "2022-05-03T17:13:09.288574Z",
     "iopub.status.idle": "2022-05-03T17:13:09.291626Z",
     "shell.execute_reply": "2022-05-03T17:13:09.292142Z",
     "shell.execute_reply.started": "2022-04-12T13:17:19.452695Z"
    },
    "papermill": {
     "duration": 0.076014,
     "end_time": "2022-05-03T17:13:09.292310",
     "exception": false,
     "start_time": "2022-05-03T17:13:09.216296",
     "status": "completed"
    },
    "tags": []
   },
   "outputs": [],
   "source": [
    "# l=pd.DataFrame()\n",
    "# k=(1, '[290.55386,632.0173,322.14685,645.8923]', 2, 'INDEX', 'Text', 'address', 'https://redactable-devox-s')\n",
    "# k\n"
   ]
  },
  {
   "cell_type": "code",
   "execution_count": 8,
   "id": "91420f66",
   "metadata": {
    "execution": {
     "iopub.execute_input": "2022-05-03T17:13:09.431014Z",
     "iopub.status.busy": "2022-05-03T17:13:09.430234Z",
     "iopub.status.idle": "2022-05-03T17:13:09.434348Z",
     "shell.execute_reply": "2022-05-03T17:13:09.434921Z",
     "shell.execute_reply.started": "2022-04-12T16:09:33.708631Z"
    },
    "papermill": {
     "duration": 0.074941,
     "end_time": "2022-05-03T17:13:09.435105",
     "exception": false,
     "start_time": "2022-05-03T17:13:09.360164",
     "status": "completed"
    },
    "tags": []
   },
   "outputs": [],
   "source": [
    "# co=[\"document_id\",\"area\",\"page\",\"text_\",\"type_of_selection\",\"entity_type\",\"link\"]\n",
    "# val= [(1,'[72.1149,661.2966,131.95729,675.1716]',3,'Background','Text','name' ,'https://redactable-devox-stage.s3.us-east-2.am'), (1,  '[290.55386,632.0173,322.14685,645.8923]',2,'INDEX', 'Text','address','https://redactable-devox-stage.s3.us-east-2.am')]\n",
    "\n",
    "# df=pd.DataFrame(val,columns=[co])\n",
    "# #df.iloc[1] =[1,  '[290.55386,632.0173,322.14685,645.8923]',2,'INDEX', 'Text','address','https://redactable-devox-stage.s3.us-east-2.am']\n",
    "# df"
   ]
  },
  {
   "cell_type": "code",
   "execution_count": 9,
   "id": "00673a9a",
   "metadata": {
    "execution": {
     "iopub.execute_input": "2022-05-03T17:13:09.577602Z",
     "iopub.status.busy": "2022-05-03T17:13:09.576887Z",
     "iopub.status.idle": "2022-05-03T17:13:09.579826Z",
     "shell.execute_reply": "2022-05-03T17:13:09.580346Z",
     "shell.execute_reply.started": "2022-04-12T16:18:22.595374Z"
    },
    "papermill": {
     "duration": 0.074544,
     "end_time": "2022-05-03T17:13:09.580544",
     "exception": false,
     "start_time": "2022-05-03T17:13:09.506000",
     "status": "completed"
    },
    "tags": []
   },
   "outputs": [],
   "source": [
    "# prev=[]\n",
    "# for data,row in df.iterrows():\n",
    "#     if row['document_id'] not in prev:\n",
    "#         prev.append(row['document_id'])\n",
    "#         print('hey')"
   ]
  },
  {
   "cell_type": "code",
   "execution_count": 10,
   "id": "f877f6f9",
   "metadata": {
    "execution": {
     "iopub.execute_input": "2022-05-03T17:13:09.721361Z",
     "iopub.status.busy": "2022-05-03T17:13:09.720707Z",
     "iopub.status.idle": "2022-05-03T17:13:09.725933Z",
     "shell.execute_reply": "2022-05-03T17:13:09.726538Z",
     "shell.execute_reply.started": "2022-04-12T15:03:48.248836Z"
    },
    "papermill": {
     "duration": 0.078429,
     "end_time": "2022-05-03T17:13:09.726722",
     "exception": false,
     "start_time": "2022-05-03T17:13:09.648293",
     "status": "completed"
    },
    "tags": []
   },
   "outputs": [],
   "source": [
    "# nlp = spacy.load('en_core_web_sm')\n",
    "# train_data = []\n",
    "\n",
    "# prev_doc_id = ''\n",
    "# i=0\n",
    "# temp='/kaggle/working'\n",
    "\n",
    "# for data in sql_db_json:\n",
    "#     if data['type_of_selection'] == 'Text':\n",
    "#         document_id = data['document_id']\n",
    "#         x1,y1,x2,y2 = data['area'][1:-1].split(',')\n",
    "#         url = data['link']\n",
    "#         page_no = int(data['page']) - 1 \n",
    "#         label = data['entity_type']\n",
    "#         filename = url.split('/')[-1]\n",
    "    \n",
    "#         #download the file to temp folder\n",
    "#         outpath = os.path.join(temp,filename)\n",
    "\n",
    "#         if document_id == prev_doc_id:\n",
    "#             pass\n",
    "#         else: \n",
    "#             i+=1\n",
    "#             print(i)\n",
    "#             response = requests.get(url)\n",
    "#             with open(outpath, \"wb\") as binary_file:\n",
    "#                 binary_file.write(response.content)\n",
    "\n",
    "#         doc = fitz.open(outpath)  # any supported document type\n",
    "#         page = doc[page_no]  # we want text from this page\n",
    "#         print('page dimension - ', page.rect.width, page.rect.height)\n",
    "\n",
    "#         #The co-ordinates in the DB are image co-ords. W.r.t pdf, y1 and y2 has to be interchanged.\n",
    "#         #To ensure entire word to be selected, slight correction in x1,y1,x2,y2 is done.\n",
    "\n",
    "#         rect = [float(x1)-2, 792 - float(y2)-2, float(x2)+2, 792 - float(y1)+2]\n",
    "#         print(rect)\n",
    "#         labelled_text = page.get_textbox(rect)\n",
    "\n",
    "#         #Removing all unprintable characters from the text\n",
    "#         string = re.sub('[^0-9a-zA-Z@?|\\/<>.,()&^%$#!]+', ' ', labelled_text)\n",
    "#         print('string : ', string)\n",
    "\n",
    "#         fulltext = page.get_text()\n",
    "#         doc = nlp(fulltext)\n",
    "\n",
    "#         sentences = []\n",
    "#         for sent in doc.sents:\n",
    "#             if string.strip() in sent.text:\n",
    "#                 text = re.sub('[^0-9a-zA-Z@?|\\/<>.,()&^%$#!]+', ' ', sent.text)\n",
    "\n",
    "#         res = re.search(string.strip(), text)\n",
    "\n",
    "#         entities = []\n",
    "#         entities.append((res.start(),res.end(),label))\n",
    "\n",
    "#         train_data.append((text,{'entities':entities}))\n",
    "\n",
    "# print('Training data in spacy format')\n",
    "# print('*****************************')\n",
    "# for i in range(0,len(train_data)):\n",
    "#     print(train_data[i])"
   ]
  },
  {
   "cell_type": "code",
   "execution_count": null,
   "id": "21a020b7",
   "metadata": {
    "papermill": {
     "duration": 0.067462,
     "end_time": "2022-05-03T17:13:09.862759",
     "exception": false,
     "start_time": "2022-05-03T17:13:09.795297",
     "status": "completed"
    },
    "tags": []
   },
   "outputs": [],
   "source": []
  },
  {
   "cell_type": "code",
   "execution_count": 11,
   "id": "4ad2f973",
   "metadata": {
    "execution": {
     "iopub.execute_input": "2022-05-03T17:13:10.001791Z",
     "iopub.status.busy": "2022-05-03T17:13:10.000988Z",
     "iopub.status.idle": "2022-05-03T17:13:10.005339Z",
     "shell.execute_reply": "2022-05-03T17:13:10.006012Z",
     "shell.execute_reply.started": "2022-04-12T11:44:59.253637Z"
    },
    "papermill": {
     "duration": 0.075814,
     "end_time": "2022-05-03T17:13:10.006188",
     "exception": false,
     "start_time": "2022-05-03T17:13:09.930374",
     "status": "completed"
    },
    "tags": []
   },
   "outputs": [],
   "source": [
    "# nlp = spacy.load('en_core_web_sm')\n",
    "# train_data = []\n",
    "\n",
    "# prev_doc_id = ''\n",
    "# temp='/kaggle/working'\n",
    "# i=0\n",
    "# for data in sql_db_json:\n",
    "#     if data['type_of_selection'] == 'Text':\n",
    "#         document_id = data['document_id']\n",
    "#         x1,y1,x2,y2 = data['area'][1:-1].split(',')\n",
    "#         url = data['link']\n",
    "#         page_no = int(data['page']) - 1 \n",
    "#         label = data['entity_type']\n",
    "#         filename = url.split('/')[-1]\n",
    "    \n",
    "#         #download the file to temp folder\n",
    "#         i+=1\n",
    "#         print(i)\n",
    "#         response = requests.get(url)\n",
    "#         doc = fitz.open(stream=response.content,filetype=\"pdf\")  # any supported document type\n",
    "#         page = doc[page_no]  # we want text from this page\n",
    "#         print('page dimension - ', page.rect.width, page.rect.height)\n",
    "\n",
    "#         #The co-ordinates in the DB are image co-ords. W.r.t pdf, y1 and y2 has to be interchanged.\n",
    "#         #To ensure entire word to be selected, slight correction in x1,y1,x2,y2 is done.\n",
    "\n",
    "#         rect = [float(x1)-2, 792 - float(y2)-2, float(x2)+2, 792 - float(y1)+2]\n",
    "#         print(rect)\n",
    "#         labelled_text = page.get_textbox(rect)\n",
    "\n",
    "#         #Removing all unprintable characters from the text\n",
    "#         string = re.sub('[^0-9a-zA-Z@?|\\/<>.,()&^%$#!]+', ' ', labelled_text)\n",
    "#         print('string : ', string)\n",
    "\n",
    "#         fulltext = page.get_text()\n",
    "#         doc = nlp(fulltext)\n",
    "\n",
    "#         sentences = []\n",
    "#         for sent in doc.sents:\n",
    "#             if string.strip() in sent.text:\n",
    "#                 text = re.sub('[^0-9a-zA-Z@?|\\/<>.,()&^%$#!]+', ' ', sent.text)\n",
    "\n",
    "#         res = re.search(string.strip(), text)\n",
    "\n",
    "#         entities = []\n",
    "#         entities.append((res.start(),res.end(),label))\n",
    "\n",
    "#         train_data.append((text,{'entities':entities}))\n",
    "\n",
    "# print('Training data in spacy format')\n",
    "# print('*****************************')\n",
    "# for i in range(0,len(train_data)):\n",
    "#     print(train_data[i])"
   ]
  },
  {
   "cell_type": "code",
   "execution_count": 12,
   "id": "7266e9b8",
   "metadata": {
    "execution": {
     "iopub.execute_input": "2022-05-03T17:13:10.149382Z",
     "iopub.status.busy": "2022-05-03T17:13:10.148672Z",
     "iopub.status.idle": "2022-05-03T17:13:10.150401Z",
     "shell.execute_reply": "2022-05-03T17:13:10.150879Z"
    },
    "papermill": {
     "duration": 0.074725,
     "end_time": "2022-05-03T17:13:10.151068",
     "exception": false,
     "start_time": "2022-05-03T17:13:10.076343",
     "status": "completed"
    },
    "tags": []
   },
   "outputs": [],
   "source": [
    "# page dimension -  612.0 792.0\n",
    "# [70.1149, 114.82839999999999, 133.95729, 132.7034]\n",
    "# string :  Background\n",
    "# page dimension -  612.0 792.0\n",
    "# [288.55386, 144.10770000000002, 324.14685, 161.98270000000002]\n",
    "# string :  INDEX\n",
    "# Training data in spacy format\n",
    "# *****************************\n",
    "# (' 3 Background The Blue Ribbon Committee was created by the Mayor to assess various city communication methods and recommend opportunities to improve communications with residents, businesses and other organizations.', {'entities': [(3, 13, 'name')]})\n",
    "# (' 2 INDEX Background Pg. 3 Purpose Pg. 3 Process .', {'entities': [(3, 8, 'address')]})"
   ]
  },
  {
   "cell_type": "code",
   "execution_count": 13,
   "id": "71a24d5d",
   "metadata": {
    "execution": {
     "iopub.execute_input": "2022-05-03T17:13:10.294463Z",
     "iopub.status.busy": "2022-05-03T17:13:10.292616Z",
     "iopub.status.idle": "2022-05-03T17:13:10.297442Z",
     "shell.execute_reply": "2022-05-03T17:13:10.296901Z",
     "shell.execute_reply.started": "2022-04-11T16:35:29.609712Z"
    },
    "papermill": {
     "duration": 0.076343,
     "end_time": "2022-05-03T17:13:10.297628",
     "exception": false,
     "start_time": "2022-05-03T17:13:10.221285",
     "status": "completed"
    },
    "tags": []
   },
   "outputs": [],
   "source": [
    "# nlp = spacy.load('en_core_web_sm')\n",
    "# outpath=r'/kaggle/input/sample-pdf/D8communications.pdf'\n",
    "# doc = fitz.open(outpath)  # any supported document type\n",
    "# page_no=3\n",
    "# page = doc[page_no-1]\n",
    "\n",
    "# x1,y1,x2,y2=(72.1149,661.2966,131.95729,675.1716)\n",
    "\n",
    "# rect = [float(x1)-2, 792 - float(y2)-2, float(x2)+2, 792 - float(y1)+2]\n",
    "# print(rect)\n",
    "# labelled_text = page.get_textbox(rect)\n",
    "# string = re.sub('[^0-9a-zA-Z@?|\\/<>.,()&^%$#!]+', ' ', labelled_text)\n",
    "# print('string : ', string)\n",
    "\n",
    "# fulltext = page.get_text()\n",
    "# doc = nlp(fulltext)\n",
    "\n",
    "# sentences = []\n",
    "# for sent in doc.sents:\n",
    "#             if string.strip() in sent.text:\n",
    "#                 text = re.sub('[^0-9a-zA-Z@?|\\/<>.,()&^%$#!]+', ' ', sent.text)\n",
    "\n",
    "#         res = re.search(string.strip(), text)\n",
    "\n",
    "#         entities = []\n",
    "#         entities.append((res.start(),res.end(),label))\n",
    "\n",
    "#         train_data.append((text,{'entities':entities}))\n",
    "\n"
   ]
  },
  {
   "cell_type": "code",
   "execution_count": 14,
   "id": "7bcbf040",
   "metadata": {
    "execution": {
     "iopub.execute_input": "2022-05-03T17:13:10.438392Z",
     "iopub.status.busy": "2022-05-03T17:13:10.437741Z",
     "iopub.status.idle": "2022-05-03T17:13:10.439772Z",
     "shell.execute_reply": "2022-05-03T17:13:10.440253Z",
     "shell.execute_reply.started": "2022-04-11T16:35:41.679947Z"
    },
    "papermill": {
     "duration": 0.074782,
     "end_time": "2022-05-03T17:13:10.440450",
     "exception": false,
     "start_time": "2022-05-03T17:13:10.365668",
     "status": "completed"
    },
    "tags": []
   },
   "outputs": [],
   "source": [
    "#doc"
   ]
  },
  {
   "cell_type": "code",
   "execution_count": 15,
   "id": "fbdc196f",
   "metadata": {
    "execution": {
     "iopub.execute_input": "2022-05-03T17:13:10.582631Z",
     "iopub.status.busy": "2022-05-03T17:13:10.581913Z",
     "iopub.status.idle": "2022-05-03T17:13:10.585089Z",
     "shell.execute_reply": "2022-05-03T17:13:10.585661Z",
     "shell.execute_reply.started": "2022-04-11T16:35:56.010353Z"
    },
    "papermill": {
     "duration": 0.076128,
     "end_time": "2022-05-03T17:13:10.585851",
     "exception": false,
     "start_time": "2022-05-03T17:13:10.509723",
     "status": "completed"
    },
    "tags": []
   },
   "outputs": [],
   "source": [
    "# sentences = []\n",
    "# for sent in doc.sents:\n",
    "#     if string.strip() in sent.text:\n",
    "#         text = re.sub('[^0-9a-zA-Z@?|\\/<>.,()&^%$#!]+', ' ', sent.text)"
   ]
  },
  {
   "cell_type": "code",
   "execution_count": 16,
   "id": "c36bbe3a",
   "metadata": {
    "execution": {
     "iopub.execute_input": "2022-05-03T17:13:10.725372Z",
     "iopub.status.busy": "2022-05-03T17:13:10.724717Z",
     "iopub.status.idle": "2022-05-03T17:13:10.727826Z",
     "shell.execute_reply": "2022-05-03T17:13:10.728439Z",
     "shell.execute_reply.started": "2022-04-11T16:39:04.736143Z"
    },
    "papermill": {
     "duration": 0.074448,
     "end_time": "2022-05-03T17:13:10.728640",
     "exception": false,
     "start_time": "2022-05-03T17:13:10.654192",
     "status": "completed"
    },
    "tags": []
   },
   "outputs": [],
   "source": [
    "# k=nlp(\"he             kenny\")\n",
    "# for sent in k.sents:\n",
    "#     print(sent)"
   ]
  },
  {
   "cell_type": "code",
   "execution_count": 17,
   "id": "e0e799f5",
   "metadata": {
    "execution": {
     "iopub.execute_input": "2022-05-03T17:13:10.869721Z",
     "iopub.status.busy": "2022-05-03T17:13:10.868777Z",
     "iopub.status.idle": "2022-05-03T17:13:10.871414Z",
     "shell.execute_reply": "2022-05-03T17:13:10.870902Z",
     "shell.execute_reply.started": "2022-04-11T15:09:24.391421Z"
    },
    "papermill": {
     "duration": 0.074428,
     "end_time": "2022-05-03T17:13:10.871571",
     "exception": false,
     "start_time": "2022-05-03T17:13:10.797143",
     "status": "completed"
    },
    "tags": []
   },
   "outputs": [],
   "source": [
    "# text"
   ]
  },
  {
   "cell_type": "code",
   "execution_count": 18,
   "id": "900bd66d",
   "metadata": {
    "execution": {
     "iopub.execute_input": "2022-05-03T17:13:11.012799Z",
     "iopub.status.busy": "2022-05-03T17:13:11.012018Z",
     "iopub.status.idle": "2022-05-03T17:13:11.014764Z",
     "shell.execute_reply": "2022-05-03T17:13:11.014237Z",
     "shell.execute_reply.started": "2022-04-11T15:09:31.9599Z"
    },
    "papermill": {
     "duration": 0.075371,
     "end_time": "2022-05-03T17:13:11.014923",
     "exception": false,
     "start_time": "2022-05-03T17:13:10.939552",
     "status": "completed"
    },
    "tags": []
   },
   "outputs": [],
   "source": [
    "# res = re.search(string.strip(), text)\n",
    "# res"
   ]
  },
  {
   "cell_type": "code",
   "execution_count": 19,
   "id": "991864e9",
   "metadata": {
    "execution": {
     "iopub.execute_input": "2022-05-03T17:13:11.155032Z",
     "iopub.status.busy": "2022-05-03T17:13:11.154236Z",
     "iopub.status.idle": "2022-05-03T17:13:11.157322Z",
     "shell.execute_reply": "2022-05-03T17:13:11.157878Z",
     "shell.execute_reply.started": "2022-04-11T15:12:41.311242Z"
    },
    "papermill": {
     "duration": 0.074613,
     "end_time": "2022-05-03T17:13:11.158077",
     "exception": false,
     "start_time": "2022-05-03T17:13:11.083464",
     "status": "completed"
    },
    "tags": []
   },
   "outputs": [],
   "source": [
    "# entities = []\n",
    "# entities.append((res.start(),res.end(),'p'))"
   ]
  },
  {
   "cell_type": "code",
   "execution_count": 20,
   "id": "f469001e",
   "metadata": {
    "execution": {
     "iopub.execute_input": "2022-05-03T17:13:11.323839Z",
     "iopub.status.busy": "2022-05-03T17:13:11.322327Z",
     "iopub.status.idle": "2022-05-03T17:13:11.326330Z",
     "shell.execute_reply": "2022-05-03T17:13:11.325819Z",
     "shell.execute_reply.started": "2022-04-11T15:12:52.736619Z"
    },
    "papermill": {
     "duration": 0.092881,
     "end_time": "2022-05-03T17:13:11.326492",
     "exception": false,
     "start_time": "2022-05-03T17:13:11.233611",
     "status": "completed"
    },
    "tags": []
   },
   "outputs": [],
   "source": [
    "# entities"
   ]
  },
  {
   "cell_type": "code",
   "execution_count": 21,
   "id": "2964e4e7",
   "metadata": {
    "execution": {
     "iopub.execute_input": "2022-05-03T17:13:11.468782Z",
     "iopub.status.busy": "2022-05-03T17:13:11.468075Z",
     "iopub.status.idle": "2022-05-03T17:13:11.469772Z",
     "shell.execute_reply": "2022-05-03T17:13:11.470203Z",
     "shell.execute_reply.started": "2022-04-11T15:06:11.546217Z"
    },
    "papermill": {
     "duration": 0.074338,
     "end_time": "2022-05-03T17:13:11.470382",
     "exception": false,
     "start_time": "2022-05-03T17:13:11.396044",
     "status": "completed"
    },
    "tags": []
   },
   "outputs": [],
   "source": [
    "# text"
   ]
  },
  {
   "cell_type": "code",
   "execution_count": null,
   "id": "83f3592a",
   "metadata": {
    "execution": {
     "iopub.execute_input": "2022-04-11T15:02:33.300092Z",
     "iopub.status.busy": "2022-04-11T15:02:33.299778Z",
     "iopub.status.idle": "2022-04-11T15:02:33.30711Z",
     "shell.execute_reply": "2022-04-11T15:02:33.306345Z",
     "shell.execute_reply.started": "2022-04-11T15:02:33.300061Z"
    },
    "papermill": {
     "duration": 0.068913,
     "end_time": "2022-05-03T17:13:11.608908",
     "exception": false,
     "start_time": "2022-05-03T17:13:11.539995",
     "status": "completed"
    },
    "tags": []
   },
   "outputs": [],
   "source": []
  },
  {
   "cell_type": "code",
   "execution_count": 22,
   "id": "49a907ab",
   "metadata": {
    "execution": {
     "iopub.execute_input": "2022-05-03T17:13:11.749855Z",
     "iopub.status.busy": "2022-05-03T17:13:11.749139Z",
     "iopub.status.idle": "2022-05-03T17:13:11.751908Z",
     "shell.execute_reply": "2022-05-03T17:13:11.752461Z",
     "shell.execute_reply.started": "2022-04-11T16:21:02.863037Z"
    },
    "papermill": {
     "duration": 0.074571,
     "end_time": "2022-05-03T17:13:11.752661",
     "exception": false,
     "start_time": "2022-05-03T17:13:11.678090",
     "status": "completed"
    },
    "tags": []
   },
   "outputs": [],
   "source": [
    "# import spacy\n",
    "# nlp = spacy.load('en_core_web_sm')"
   ]
  },
  {
   "cell_type": "code",
   "execution_count": 23,
   "id": "4c884aff",
   "metadata": {
    "execution": {
     "iopub.execute_input": "2022-05-03T17:13:11.892863Z",
     "iopub.status.busy": "2022-05-03T17:13:11.892019Z",
     "iopub.status.idle": "2022-05-03T17:13:11.895798Z",
     "shell.execute_reply": "2022-05-03T17:13:11.896326Z",
     "shell.execute_reply.started": "2022-04-09T12:19:47.776612Z"
    },
    "papermill": {
     "duration": 0.075736,
     "end_time": "2022-05-03T17:13:11.896497",
     "exception": false,
     "start_time": "2022-05-03T17:13:11.820761",
     "status": "completed"
    },
    "tags": []
   },
   "outputs": [],
   "source": [
    "# !pip install PyPDF2\n",
    "# import PyPDF2\n",
    "# fhandle = open(r'/kaggle/input/sample-pdf/D8communications.pdf', 'rb')\n",
    "# pdfReader = PyPDF2.PdfFileReader(fhandle)\n",
    "# pagehandle = pdfReader.getPage(4)\n",
    "# print(pagehandle.extractText())"
   ]
  },
  {
   "cell_type": "code",
   "execution_count": 24,
   "id": "705fb841",
   "metadata": {
    "execution": {
     "iopub.execute_input": "2022-05-03T17:13:12.036464Z",
     "iopub.status.busy": "2022-05-03T17:13:12.035776Z",
     "iopub.status.idle": "2022-05-03T17:13:12.038732Z",
     "shell.execute_reply": "2022-05-03T17:13:12.039235Z",
     "shell.execute_reply.started": "2022-04-09T12:25:37.701467Z"
    },
    "papermill": {
     "duration": 0.074435,
     "end_time": "2022-05-03T17:13:12.039410",
     "exception": false,
     "start_time": "2022-05-03T17:13:11.964975",
     "status": "completed"
    },
    "tags": []
   },
   "outputs": [],
   "source": [
    "# !pip install pdfplumber\n",
    "# import pdfplumber\n",
    "# with pdfplumber.open(r'/kaggle/input/sample-pdf/D8communications.pdf') as pdf:\n",
    "#     first_page = pdf.pages[3]\n",
    "#     print(first_page.extract_text())"
   ]
  },
  {
   "cell_type": "code",
   "execution_count": 25,
   "id": "b6cc11cf",
   "metadata": {
    "execution": {
     "iopub.execute_input": "2022-05-03T17:13:12.181168Z",
     "iopub.status.busy": "2022-05-03T17:13:12.180467Z",
     "iopub.status.idle": "2022-05-03T17:13:12.183138Z",
     "shell.execute_reply": "2022-05-03T17:13:12.183729Z",
     "shell.execute_reply.started": "2022-04-09T12:25:49.584635Z"
    },
    "papermill": {
     "duration": 0.07534,
     "end_time": "2022-05-03T17:13:12.183906",
     "exception": false,
     "start_time": "2022-05-03T17:13:12.108566",
     "status": "completed"
    },
    "tags": []
   },
   "outputs": [],
   "source": [
    "# !pip install pytesseract"
   ]
  },
  {
   "cell_type": "code",
   "execution_count": 26,
   "id": "a3c9a3f3",
   "metadata": {
    "execution": {
     "iopub.execute_input": "2022-05-03T17:13:12.325664Z",
     "iopub.status.busy": "2022-05-03T17:13:12.324898Z",
     "iopub.status.idle": "2022-05-03T17:13:12.327773Z",
     "shell.execute_reply": "2022-05-03T17:13:12.328387Z",
     "shell.execute_reply.started": "2022-04-09T14:49:10.656812Z"
    },
    "papermill": {
     "duration": 0.074629,
     "end_time": "2022-05-03T17:13:12.328588",
     "exception": false,
     "start_time": "2022-05-03T17:13:12.253959",
     "status": "completed"
    },
    "tags": []
   },
   "outputs": [],
   "source": [
    "# #!pip install pdf2image\n",
    "# !pip install poppler"
   ]
  },
  {
   "cell_type": "code",
   "execution_count": 27,
   "id": "5c5ac22a",
   "metadata": {
    "execution": {
     "iopub.execute_input": "2022-05-03T17:13:12.469477Z",
     "iopub.status.busy": "2022-05-03T17:13:12.468813Z",
     "iopub.status.idle": "2022-05-03T17:13:12.470604Z",
     "shell.execute_reply": "2022-05-03T17:13:12.471086Z",
     "shell.execute_reply.started": "2022-04-09T14:57:24.756677Z"
    },
    "papermill": {
     "duration": 0.074604,
     "end_time": "2022-05-03T17:13:12.471248",
     "exception": false,
     "start_time": "2022-05-03T17:13:12.396644",
     "status": "completed"
    },
    "tags": []
   },
   "outputs": [],
   "source": [
    "# pdf2image.convert_from_path('/kaggle/input/sample-pdf/D8communications.pdf')"
   ]
  },
  {
   "cell_type": "code",
   "execution_count": 28,
   "id": "1926822b",
   "metadata": {
    "execution": {
     "iopub.execute_input": "2022-05-03T17:13:12.614589Z",
     "iopub.status.busy": "2022-05-03T17:13:12.613798Z",
     "iopub.status.idle": "2022-05-03T17:13:12.615281Z",
     "shell.execute_reply": "2022-05-03T17:13:12.615785Z",
     "shell.execute_reply.started": "2022-04-09T14:57:17.576149Z"
    },
    "papermill": {
     "duration": 0.07423,
     "end_time": "2022-05-03T17:13:12.615953",
     "exception": false,
     "start_time": "2022-05-03T17:13:12.541723",
     "status": "completed"
    },
    "tags": []
   },
   "outputs": [],
   "source": [
    "# import pdf2image\n",
    "# try:\n",
    "#     from PIL import Image\n",
    "# except ImportError:\n",
    "#     import Image\n",
    "# import pytesseract\n",
    "\n",
    "\n",
    "# def pdf_to_img(pdf_file):\n",
    "#     return pdf2image.convert_from_path(pdf_file)\n",
    "\n",
    "\n",
    "# def ocr_core(file):\n",
    "#     text = pytesseract.image_to_string(file)\n",
    "#     return text\n",
    "\n",
    "\n",
    "# def print_pages(pdf_file):\n",
    "#     images = pdf_to_img(pdf_file)\n",
    "#     for pg, img in enumerate(images):\n",
    "#         print(ocr_core(img))\n",
    "\n",
    "\n",
    "# print_pages('/kaggle/input/sample-pdf/D8communications.pdf')\n"
   ]
  },
  {
   "cell_type": "code",
   "execution_count": 29,
   "id": "92bdfebd",
   "metadata": {
    "execution": {
     "iopub.execute_input": "2022-05-03T17:13:12.761337Z",
     "iopub.status.busy": "2022-05-03T17:13:12.760280Z",
     "iopub.status.idle": "2022-05-03T17:13:12.764740Z",
     "shell.execute_reply": "2022-05-03T17:13:12.765296Z"
    },
    "papermill": {
     "duration": 0.0809,
     "end_time": "2022-05-03T17:13:12.765472",
     "exception": false,
     "start_time": "2022-05-03T17:13:12.684572",
     "status": "completed"
    },
    "tags": []
   },
   "outputs": [],
   "source": [
    "# import requests\n",
    "# import fitz\n",
    "# import io\n",
    "\n",
    "# #URL = 'https://buildmedia.readthedocs.org/media/pdf/pdfminer-docs/latest/pdfminer-docs.pdf'\n",
    "# URL = 'https://redactable-devox-stage.s3.us-east-2.amazonaws.com/tenants/41d9e109-693b-444c-aa18-e5891bc6550b/original/1a7c0e5d-3237-4ca9-9e3d-89e707245ac6/D8communications.pdf'\n",
    "\n",
    "\n",
    "# res = requests.get(URL)\n",
    "# filestream = io.BytesIO(res.content)\n",
    "# #res.content\n",
    "# filestream\n",
    "# doc = fitz.Document(stream=filestream)\n",
    "# page1 = doc.loadPage(3)\n",
    "# page1text = page1.getText(\"text\").encode(\"utf-8\").decode(\"utf-8\")\n",
    "# print(page1text)"
   ]
  },
  {
   "cell_type": "code",
   "execution_count": 30,
   "id": "777ecb69",
   "metadata": {
    "execution": {
     "iopub.execute_input": "2022-05-03T17:13:12.942142Z",
     "iopub.status.busy": "2022-05-03T17:13:12.938750Z",
     "iopub.status.idle": "2022-05-03T17:13:12.944176Z",
     "shell.execute_reply": "2022-05-03T17:13:12.944793Z",
     "shell.execute_reply.started": "2022-04-09T07:04:56.590103Z"
    },
    "papermill": {
     "duration": 0.080063,
     "end_time": "2022-05-03T17:13:12.944989",
     "exception": false,
     "start_time": "2022-05-03T17:13:12.864926",
     "status": "completed"
    },
    "tags": []
   },
   "outputs": [],
   "source": [
    "# import requests\n",
    "# import fitz\n",
    "\n",
    "# #URL = 'https://buildmedia.readthedocs.org/media/pdf/pdfminer-docs/latest/pdfminer-docs.pdf'\n",
    "# URL = 'https://redactable-devox-stage.s3.us-east-2.amazonaws.com/tenants/41d9e109-693b-444c-aa18-e5891bc6550b/original/1a7c0e5d-3237-4ca9-9e3d-89e707245ac6/D8communications.pdf'\n",
    "\n",
    "\n",
    "# res = requests.get(URL)\n",
    "# doc = fitz.open(stream=res.content,filetype=\"pdf\")\n",
    "# page1 = doc.loadPage(3)\n",
    "# page1text = page1.getText(\"text\")\n",
    "# #rect = (72.1149,661.2966,131.95729,675.1716)\n",
    "# rect=(72.10812377929688, 116.13427734375, 133.97142028808594, 146.4227294921875)\n",
    "# labelled_text = page1.get_textbox(rect)\n",
    "# print(labelled_text.strip())\n",
    "\n",
    "# fulltext = page1.get_text()\n",
    "# print(fulltext)\n",
    "# doc = nlp(fulltext)\n",
    "# sentences = []\n",
    "# for sent in doc.sents:\n",
    "#     if labelled_text in sent.text:\n",
    "#         text = sent.text\n",
    "#         print(text)\n",
    "# #print(page1text)"
   ]
  },
  {
   "cell_type": "code",
   "execution_count": 31,
   "id": "20fb3aed",
   "metadata": {
    "execution": {
     "iopub.execute_input": "2022-05-03T17:13:13.100194Z",
     "iopub.status.busy": "2022-05-03T17:13:13.099207Z",
     "iopub.status.idle": "2022-05-03T17:13:13.102865Z",
     "shell.execute_reply": "2022-05-03T17:13:13.103603Z",
     "shell.execute_reply.started": "2022-04-08T16:42:57.6659Z"
    },
    "papermill": {
     "duration": 0.082742,
     "end_time": "2022-05-03T17:13:13.103848",
     "exception": false,
     "start_time": "2022-05-03T17:13:13.021106",
     "status": "completed"
    },
    "tags": []
   },
   "outputs": [],
   "source": [
    "#res.content"
   ]
  },
  {
   "cell_type": "code",
   "execution_count": 32,
   "id": "1efcbec8",
   "metadata": {
    "execution": {
     "iopub.execute_input": "2022-05-03T17:13:13.256473Z",
     "iopub.status.busy": "2022-05-03T17:13:13.255759Z",
     "iopub.status.idle": "2022-05-03T17:13:13.260630Z",
     "shell.execute_reply": "2022-05-03T17:13:13.261170Z",
     "shell.execute_reply.started": "2022-04-08T16:48:05.672392Z"
    },
    "papermill": {
     "duration": 0.080246,
     "end_time": "2022-05-03T17:13:13.261346",
     "exception": false,
     "start_time": "2022-05-03T17:13:13.181100",
     "status": "completed"
    },
    "tags": []
   },
   "outputs": [],
   "source": [
    "# import fitz\n",
    "# # mem_area=\n",
    "# # doc = fitz.open(stream=mem_area, filetype=\"pdf\")\n",
    "\n",
    "# import requests\n",
    "\n",
    "# URL = 'https://redactable-devox-stage.s3.us-east-2.amazonaws.com/tenants/41d9e109-693b-444c-aa18-e5891bc6550b/original/1a7c0e5d-3237-4ca9-9e3d-89e707245ac6/D8communications.pdf'\n",
    "\n",
    "# #res = requests.get(URL)\n",
    "# doc=fitz.open(\"/kaggle/input/sample-pdf/D8communications.pdf\")\n",
    "# #doc = fitz.open(stream=res.content,filetype=\"pdf\")\n",
    "# page1 = doc.loadPage(4)\n",
    "# # page1text = page1.getText(\"text\")\n",
    "# # print(page1text)\n",
    "# blocks = page1.getText(\"blocks\")\n",
    "# blocks.sort(key=lambda block: block[1])  # sort vertically ascending\n",
    "\n",
    "# for b in blocks:\n",
    "#     print(b[4])\n"
   ]
  },
  {
   "cell_type": "code",
   "execution_count": 33,
   "id": "03a78e43",
   "metadata": {
    "execution": {
     "iopub.execute_input": "2022-05-03T17:13:13.403176Z",
     "iopub.status.busy": "2022-05-03T17:13:13.402349Z",
     "iopub.status.idle": "2022-05-03T17:13:13.406275Z",
     "shell.execute_reply": "2022-05-03T17:13:13.406927Z",
     "shell.execute_reply.started": "2022-04-08T16:48:13.086323Z"
    },
    "papermill": {
     "duration": 0.076733,
     "end_time": "2022-05-03T17:13:13.407107",
     "exception": false,
     "start_time": "2022-05-03T17:13:13.330374",
     "status": "completed"
    },
    "tags": []
   },
   "outputs": [],
   "source": [
    "# # page = doc[1]\n",
    "# words = page.get_text(\"words\")\n",
    "# #print(words)\n",
    "# rect = (72.1149,661.2966,131.95729,675.1716)\n",
    "\n",
    "# labelled_text = page.get_textbox(rect)\n",
    "# # labelled_text"
   ]
  },
  {
   "cell_type": "markdown",
   "id": "538f76b4",
   "metadata": {
    "papermill": {
     "duration": 0.069037,
     "end_time": "2022-05-03T17:13:13.545253",
     "exception": false,
     "start_time": "2022-05-03T17:13:13.476216",
     "status": "completed"
    },
    "tags": []
   },
   "source": [
    "pip install PyPDF2"
   ]
  },
  {
   "cell_type": "code",
   "execution_count": null,
   "id": "70e416df",
   "metadata": {
    "papermill": {
     "duration": 0.071644,
     "end_time": "2022-05-03T17:13:13.686848",
     "exception": false,
     "start_time": "2022-05-03T17:13:13.615204",
     "status": "completed"
    },
    "tags": []
   },
   "outputs": [],
   "source": []
  },
  {
   "cell_type": "code",
   "execution_count": 34,
   "id": "98167c24",
   "metadata": {
    "execution": {
     "iopub.execute_input": "2022-05-03T17:13:13.826026Z",
     "iopub.status.busy": "2022-05-03T17:13:13.825347Z",
     "iopub.status.idle": "2022-05-03T17:13:13.828311Z",
     "shell.execute_reply": "2022-05-03T17:13:13.828984Z",
     "shell.execute_reply.started": "2022-03-18T16:48:58.370268Z"
    },
    "papermill": {
     "duration": 0.074298,
     "end_time": "2022-05-03T17:13:13.829157",
     "exception": false,
     "start_time": "2022-05-03T17:13:13.754859",
     "status": "completed"
    },
    "tags": []
   },
   "outputs": [],
   "source": [
    "# import pandas as pd\n",
    "# h={'step': 0, 'type': 'string', 'amount': 0.0, 'nameOrig': 'C1231006815', 'oldbalanceOrig': 0.0, 'newbalanceOrig': 0.0, 'nameDest': 'M1979787155', 'oldbalanceDest': 0.0, 'newbalanceDest': 0.0}\n",
    "# df=pd.DataFrame([h])"
   ]
  },
  {
   "cell_type": "code",
   "execution_count": 35,
   "id": "4eed1639",
   "metadata": {
    "execution": {
     "iopub.execute_input": "2022-05-03T17:13:13.973538Z",
     "iopub.status.busy": "2022-05-03T17:13:13.972829Z",
     "iopub.status.idle": "2022-05-03T17:13:13.976052Z",
     "shell.execute_reply": "2022-05-03T17:13:13.976706Z",
     "shell.execute_reply.started": "2022-04-09T17:21:26.021615Z"
    },
    "papermill": {
     "duration": 0.077158,
     "end_time": "2022-05-03T17:13:13.976887",
     "exception": false,
     "start_time": "2022-05-03T17:13:13.899729",
     "status": "completed"
    },
    "tags": []
   },
   "outputs": [],
   "source": [
    "#df"
   ]
  },
  {
   "cell_type": "code",
   "execution_count": null,
   "id": "70a488d6",
   "metadata": {
    "papermill": {
     "duration": 0.071826,
     "end_time": "2022-05-03T17:13:14.118994",
     "exception": false,
     "start_time": "2022-05-03T17:13:14.047168",
     "status": "completed"
    },
    "tags": []
   },
   "outputs": [],
   "source": []
  }
 ],
 "metadata": {
  "kernelspec": {
   "display_name": "Python 3",
   "language": "python",
   "name": "python3"
  },
  "language_info": {
   "codemirror_mode": {
    "name": "ipython",
    "version": 3
   },
   "file_extension": ".py",
   "mimetype": "text/x-python",
   "name": "python",
   "nbconvert_exporter": "python",
   "pygments_lexer": "ipython3",
   "version": "3.7.12"
  },
  "papermill": {
   "default_parameters": {},
   "duration": 23.490007,
   "end_time": "2022-05-03T17:13:14.801919",
   "environment_variables": {},
   "exception": null,
   "input_path": "__notebook__.ipynb",
   "output_path": "__notebook__.ipynb",
   "parameters": {},
   "start_time": "2022-05-03T17:12:51.311912",
   "version": "2.3.3"
  }
 },
 "nbformat": 4,
 "nbformat_minor": 5
}
