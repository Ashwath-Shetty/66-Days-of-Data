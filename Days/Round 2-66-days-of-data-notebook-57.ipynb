{
 "cells": [
  {
   "cell_type": "code",
   "execution_count": 1,
   "id": "af908f53",
   "metadata": {
    "_cell_guid": "b1076dfc-b9ad-4769-8c92-a6c4dae69d19",
    "_uuid": "8f2839f25d086af736a60e9eeb907d3b93b6e0e5",
    "execution": {
     "iopub.execute_input": "2022-05-07T17:28:26.584632Z",
     "iopub.status.busy": "2022-05-07T17:28:26.583795Z",
     "iopub.status.idle": "2022-05-07T17:28:26.606281Z",
     "shell.execute_reply": "2022-05-07T17:28:26.605705Z",
     "shell.execute_reply.started": "2022-04-12T14:12:25.248687Z"
    },
    "papermill": {
     "duration": 0.0815,
     "end_time": "2022-05-07T17:28:26.606400",
     "exception": false,
     "start_time": "2022-05-07T17:28:26.524900",
     "status": "completed"
    },
    "tags": []
   },
   "outputs": [
    {
     "name": "stdout",
     "output_type": "stream",
     "text": [
      "/kaggle/input/sample-pdf/D8communications.pdf\n"
     ]
    }
   ],
   "source": [
    "# This Python 3 environment comes with many helpful analytics libraries installed\n",
    "# It is defined by the kaggle/python Docker image: https://github.com/kaggle/docker-python\n",
    "# For example, here's several helpful packages to load\n",
    "\n",
    "import numpy as np # linear algebra\n",
    "import pandas as pd # data processing, CSV file I/O (e.g. pd.read_csv)\n",
    "\n",
    "# Input data files are available in the read-only \"../input/\" directory\n",
    "# For example, running this (by clicking run or pressing Shift+Enter) will list all files under the input directory\n",
    "\n",
    "import os\n",
    "for dirname, _, filenames in os.walk('/kaggle/input'):\n",
    "    for filename in filenames:\n",
    "        print(os.path.join(dirname, filename))\n",
    "\n",
    "# You can write up to 20GB to the current directory (/kaggle/working/) that gets preserved as output when you create a version using \"Save & Run All\" \n",
    "# You can also write temporary files to /kaggle/temp/, but they won't be saved outside of the current session"
   ]
  },
  {
   "cell_type": "markdown",
   "id": "1bc566f3",
   "metadata": {
    "papermill": {
     "duration": 0.053588,
     "end_time": "2022-05-07T17:28:26.714205",
     "exception": false,
     "start_time": "2022-05-07T17:28:26.660617",
     "status": "completed"
    },
    "tags": []
   },
   "source": [
    "# **Start Date: 12/3/2022**"
   ]
  },
  {
   "cell_type": "markdown",
   "id": "07a12ba9",
   "metadata": {
    "papermill": {
     "duration": 0.055096,
     "end_time": "2022-05-07T17:28:26.822866",
     "exception": false,
     "start_time": "2022-05-07T17:28:26.767770",
     "status": "completed"
    },
    "tags": []
   },
   "source": [
    "# **Day 1:** \n",
    "<br>dataquest -> stats -> probability-> estimating probability\n",
    "1. out come is nothing but o/p of an experiment\n",
    "ex: whatever u get after rolling a dice -> it can be any number\n",
    "2. event can have more than one outcome\n",
    "- e.x: The event that we'll get an odd number when we roll a six-sided die — this event includes the outcomes 1, 3, and 5.\n",
    "- an event can be 0 as well.\n",
    "- We always assign probabilities to events, not outcomes, even if the event includes only one outcome.\n",
    "- P(E) =1/total number of possible outcomes, P(E) probability of an event happening.\n",
    "- but above formula doesn't work always, especially when there are more than one outcome\n",
    "    - P(E)=number of successful outcomes/total number of possible outcomes\n",
    "- incase of a biased situation \n",
    "  - let's say a die has 6 - 3 times which is 1,6,3,5,6,6\n",
    "    we will consider 6 as 3 times not 1.\n",
    "    possible outcome-> 1,3,5,6,6,6\n",
    "    prob(6)=3/6\n",
    "    prob(3)=1/6\n",
    "    prob(2)=0/6\n",
    "    If we didn't treat each 6 differently and said it doesn't matter which side a 6 is on, \n",
    "    <br>we'd be forced to conclude the only possible outcomes are 1, 3, 5 and 6. We can definitely         <br>frame the problem like that, but the formula above won't work anymore — we see below P(6) <br>becomes the same as P(3), but, intuitively, P(6) should be higher than P(3) since the die has 6 on     <br>three of its sides:\n"
   ]
  },
  {
   "cell_type": "markdown",
   "id": "2aa4ef5b",
   "metadata": {
    "papermill": {
     "duration": 0.054885,
     "end_time": "2022-05-07T17:28:26.933288",
     "exception": false,
     "start_time": "2022-05-07T17:28:26.878403",
     "status": "completed"
    },
    "tags": []
   },
   "source": [
    "Estimating Probabilities Conclusion\n",
    "- emperical/ experimental probability\n",
    "  - probability achieved by experimenting / by doing the same event multiple times.\n",
    "  - Generally, for any event E (like a coin landing heads up), we can find its empirical probability   \n",
    "     by using the following formula: \n",
    "     •P (E) =number of times event E happened/ number of times we repeated the experiment   \n",
    " - Generally, the empirical probability of an event (a coin landing heads up, getting a 5 when weroll a die) approaches the true probability value as the number of trials of the randomexperiment (a coin toss, the rolling of a die) increases without bound.\n",
    "- When we calculate the probability of an event under the assumption that the outcomes have equal chances of occurring, we say that we're calculating the **theoretical probability** of an event.\n",
    "   - P(E)=number of successful outcomes/total number of possible outcomes\n",
    "\n"
   ]
  },
  {
   "cell_type": "markdown",
   "id": "1a9094a8",
   "metadata": {
    "papermill": {
     "duration": 0.054342,
     "end_time": "2022-05-07T17:28:27.042347",
     "exception": false,
     "start_time": "2022-05-07T17:28:26.988005",
     "status": "completed"
    },
    "tags": []
   },
   "source": [
    "# **Day 2**\n",
    "<br>dataquest-> stats -> intro to probability -> probability rules\n",
    "<br>In probability theory, the set of all possible outcomes is called a sample space. A sample space is often denoted by the capital Greek letter Ω (read \"omega\"). This is how we represent the sample space of a die roll:\n",
    "\n",
    "Ω = {1,2,3,4,5,6}\n",
    "-    The probability of any event ranges between 0 and 1: 0≤ P(Event) ≤1\n",
    "- To calculate P(A or B), we can also use the formula below, which is sometimes called the addition rule: P(A or B) = P(A) + P(B)\n",
    "  - Sample space ={ 1,2,3,4,5,6} \n",
    "  - P(2 or 5) = 2/6\n",
    "\n",
    "- P(C or D) = P(C) + P(D) - P(C and D)\n",
    "   - e.x : Sample_space ={2,4,6} + { 4,5,6} - {4/6}\n",
    "      P( even number or number greater than 3) = ( (3/6) + (3/6) )- (2/6) = 4/6\n",
    "- Events that don't intersect are called mutually exclusive.\n",
    "  - e.x: Getting a 5 (event one) and getting a 3 (event two) when we roll a regular six-sided die — it's  impossible to get both a 5 and 3.\n",
    "- Events that intersect are called mutually non-exclusive.\n",
    "  - Getting a number greater than 2 (event one) and getting an odd number (event two) when we roll a regular six-sided die — we could get a 5, which is both greater than 2 (event one) and odd (event two).\n",
    "- unioun -> A or B, intersection -> A and B"
   ]
  },
  {
   "cell_type": "markdown",
   "id": "d10659e2",
   "metadata": {
    "papermill": {
     "duration": 0.054162,
     "end_time": "2022-05-07T17:28:27.150764",
     "exception": false,
     "start_time": "2022-05-07T17:28:27.096602",
     "status": "completed"
    },
    "tags": []
   },
   "source": [
    "# Day 3 and 4\n",
    "dataquest -> stats -> probabilities -> solving complex probabilities\n",
    "- This is the same result we got from our previous approach. In more general terms, the multiplication rule says that for two events E1 and E2, the probability that both event E1 and E2 happen can be found by multiplying the probability of E1 by the probability of E2:\n",
    "    - P(E1 ∩ E2) = P(E1) × P(E2)\n",
    "    - Events that don't influence each other's probability are called independent events. If H1 happens, P(H2) stays the same, so H1 and H2 are independent. The multiplication rule we learned only works for independent events.\n",
    "    "
   ]
  },
  {
   "cell_type": "markdown",
   "id": "3ed90b43",
   "metadata": {
    "papermill": {
     "duration": 0.055693,
     "end_time": "2022-05-07T17:28:27.260995",
     "exception": false,
     "start_time": "2022-05-07T17:28:27.205302",
     "status": "completed"
    },
    "tags": []
   },
   "source": [
    "# Day 5\n",
    "- When we replace the cards after drawing, we say that we're sampling with replacement. When we don't put the cards back, we're sampling without replacement. \n"
   ]
  },
  {
   "cell_type": "markdown",
   "id": "79accad6",
   "metadata": {
    "papermill": {
     "duration": 0.053732,
     "end_time": "2022-05-07T17:28:27.370133",
     "exception": false,
     "start_time": "2022-05-07T17:28:27.316401",
     "status": "completed"
    },
    "tags": []
   },
   "source": [
    "# Day6\n",
    "dataquest-> prob and stats -> probability fundamentals -> permutation and combinations\n",
    "Generally, if we have an experiment E1 (like flipping a coin) with a outcomes, followed by an experiment E2 (like rolling a die) with b outcomes, then the total number of outcomes for the composite experiment E1E2 can be found by multiplying a with b:\n",
    "\n",
    "Number of outcomes = a * b"
   ]
  },
  {
   "cell_type": "markdown",
   "id": "84a4bacb",
   "metadata": {
    "papermill": {
     "duration": 0.05416,
     "end_time": "2022-05-07T17:28:27.478478",
     "exception": false,
     "start_time": "2022-05-07T17:28:27.424318",
     "status": "completed"
    },
    "tags": []
   },
   "source": [
    "# Day 7\n",
    "dataquest-> prob and stats -> probability fundamentals -> permutation and combinations <br>\n",
    "More generally, if we have an experiment E1 with a outcomes, followed by an experiment E2 with b outcomes, followed by an experiment En with z outcomes, the total number of outcomes for the composite experiment E1E2 ... En can be found by multiplying their individual outcomes:\n",
    "\n",
    "Number of outcomes= a * b * … * z"
   ]
  },
  {
   "cell_type": "markdown",
   "id": "5d5bc2e2",
   "metadata": {
    "papermill": {
     "duration": 0.055017,
     "end_time": "2022-05-07T17:28:27.593213",
     "exception": false,
     "start_time": "2022-05-07T17:28:27.538196",
     "status": "completed"
    },
    "tags": []
   },
   "source": [
    "# Day 8\n",
    "dataquest-> prob and stats -> probability fundamentals -> permutation and combinations <br>\n",
    "permutations= n*(n-1)*(n-2)*....*2*1\n"
   ]
  },
  {
   "cell_type": "markdown",
   "id": "6dd5f06c",
   "metadata": {
    "papermill": {
     "duration": 0.053538,
     "end_time": "2022-05-07T17:28:27.700204",
     "exception": false,
     "start_time": "2022-05-07T17:28:27.646666",
     "status": "completed"
    },
    "tags": []
   },
   "source": [
    "# Day 9\n",
    "dataquest-> prob and stats -> probability fundamentals -> permutation and combinations\n",
    "- in permutation order of the individual element in the arranement matters.\n",
    "   - for e.x: 9821 is different than 9281\n",
    "   - Permutations =n!  --> sample without replacement-> we are not putting back the sampled data.\n",
    "   - On the last screen, we learned to use the formula below to calculate permutations when we're sampling without replacement and taking only k objects from a group of n objects:\n",
    "   npk=n!/(n-k)!"
   ]
  },
  {
   "cell_type": "markdown",
   "id": "f4bc38fe",
   "metadata": {
    "papermill": {
     "duration": 0.053982,
     "end_time": "2022-05-07T17:28:27.808378",
     "exception": false,
     "start_time": "2022-05-07T17:28:27.754396",
     "status": "completed"
    },
    "tags": []
   },
   "source": [
    "# Day 10\n",
    "dataquest-> prob and stats -> probability fundamentals -> permutation and combinations\n",
    "- More generally, if the order of the elements in an arrangement doesn't matter, the arrangement is called a combination.\n",
    "- e.x: cards in a deck \n",
    "- nCk = n! / ((n-k)!*k!)"
   ]
  },
  {
   "cell_type": "markdown",
   "id": "c4c6c838",
   "metadata": {
    "papermill": {
     "duration": 0.053947,
     "end_time": "2022-05-07T17:28:27.916638",
     "exception": false,
     "start_time": "2022-05-07T17:28:27.862691",
     "status": "completed"
    },
    "tags": []
   },
   "source": [
    "# Day 11\n",
    "dataquest-> prob and stats -> probability fundamentals -> permutation and combinations\n",
    "- solved 1 probability problem.\n"
   ]
  },
  {
   "cell_type": "markdown",
   "id": "5d65f307",
   "metadata": {
    "papermill": {
     "duration": 0.053995,
     "end_time": "2022-05-07T17:28:28.024906",
     "exception": false,
     "start_time": "2022-05-07T17:28:27.970911",
     "status": "completed"
    },
    "tags": []
   },
   "source": [
    "# Day 12\n",
    "dataquest-> prob and stats -> probability fundamentals -> permutation and combinations\n",
    "- finished probability and permutations by revising them.\n",
    "- If we have an experiment E1 (like flipping a coin) with a outcomes, followed by an experiment E2(like rolling a die) with b outcomes, then the total number of outcomes for the compositeexperiment E1E2 can be found by multiplying a with b (this is known as the rule of product):\n",
    "  - number of outcomes = a*b\n",
    "- If we have an experiment E1 with a outcomes, followed by an experiment E2 with b outcomes,followed by an experiment En with z outcomes, the total number of outcomes for the compositeexperiment E1E2 ... En can be found by multiplying their individual outcomes:\n",
    "   - number of outcomes = a*b* ... *z\n",
    "- There are two kinds of arrangements:\n",
    "   - •Arrangements where the order matters, which we call permutations.\n",
    "   - •Arrangements where the order doesn't matter, which we call combination\n",
    "- To find the number of permutations when we're sampling without replacement, we can use theformula:\n",
    "  - permutation = n!\n",
    "- To find the number of permutations when we're sampling without replacement and taking only kobjects from a group of n objects, we can use the formula:\n",
    "  - nPk = n!/(n-k)!\n",
    "- To find the number of combinations when we're sampling without replacement and taking only kobjects from a group of n objects, we can use the formula\n",
    "  - nCk = n! / ((n-k)!*k!)"
   ]
  },
  {
   "cell_type": "markdown",
   "id": "da258f42",
   "metadata": {
    "papermill": {
     "duration": 0.054621,
     "end_time": "2022-05-07T17:28:28.133126",
     "exception": false,
     "start_time": "2022-05-07T17:28:28.078505",
     "status": "completed"
    },
    "tags": []
   },
   "source": [
    "# Day 13\n",
    "dataquest-> prob and stats -> probability fundamentals -> conditional probabilities\n",
    "- first 2 slides -> mainly the recap of old chapter(above one).\n"
   ]
  },
  {
   "cell_type": "markdown",
   "id": "9ffd3180",
   "metadata": {
    "papermill": {
     "duration": 0.054802,
     "end_time": "2022-05-07T17:28:28.243968",
     "exception": false,
     "start_time": "2022-05-07T17:28:28.189166",
     "status": "completed"
    },
    "tags": []
   },
   "source": [
    "# Day 14\n",
    "dataquest-> prob and stats -> probability fundamentals -> conditional probabilities\n",
    "<br>slide 4 completed\n",
    "<br>conditional probabilities\n",
    "- probabilities with condition\n",
    "- P(5)=What is the probability of getting a 5? -> normal probability\n",
    "- P(5 | odd) =What is the probability of getting a 5 given the die showed an odd number? -> conditional prob.\n",
    "\n"
   ]
  },
  {
   "cell_type": "markdown",
   "id": "eac6c338",
   "metadata": {
    "papermill": {
     "duration": 0.055415,
     "end_time": "2022-05-07T17:28:28.353603",
     "exception": false,
     "start_time": "2022-05-07T17:28:28.298188",
     "status": "completed"
    },
    "tags": []
   },
   "source": [
    "# Day 15\n",
    "dataquest-> prob and stats -> probability fundamentals -> conditional probabilities\n",
    "- on slide 5 not done yet.\n",
    "\n",
    "Say we roll a fair six-sided die and want to find the probability of getting an odd number, given the die showed a number greater than 1 after landing. Using probability notation, we want to find P(A|B) where:\n",
    "\n",
    "- A is the event that the number is odd: A = {1, 3, 5}\n",
    "- B is the event that the number is greater than 1: B = {2, 3, 4, 5, 6}\n",
    "- P(A/B)=number of succesfull outcomes / total number of outcomes.\n"
   ]
  },
  {
   "cell_type": "markdown",
   "id": "e555c25b",
   "metadata": {
    "papermill": {
     "duration": 0.055304,
     "end_time": "2022-05-07T17:28:28.464836",
     "exception": false,
     "start_time": "2022-05-07T17:28:28.409532",
     "status": "completed"
    },
    "tags": []
   },
   "source": [
    "# Day 16 and 17\n",
    "dataquest-> prob and stats -> probability fundamentals -> conditional probabilities\n",
    "\n",
    "on slide 6 not done yet."
   ]
  },
  {
   "cell_type": "markdown",
   "id": "41847500",
   "metadata": {
    "papermill": {
     "duration": 0.055846,
     "end_time": "2022-05-07T17:28:28.576621",
     "exception": false,
     "start_time": "2022-05-07T17:28:28.520775",
     "status": "completed"
    },
    "tags": []
   },
   "source": [
    "# Day 18\n",
    "dataquest-> prob and stats -> probability fundamentals -> conditional probabilities\n",
    "<br>slide 5 code half done"
   ]
  },
  {
   "cell_type": "markdown",
   "id": "cab26083",
   "metadata": {
    "papermill": {
     "duration": 0.055241,
     "end_time": "2022-05-07T17:28:28.686980",
     "exception": false,
     "start_time": "2022-05-07T17:28:28.631739",
     "status": "completed"
    },
    "tags": []
   },
   "source": [
    "# Day 19\n",
    "- The number of elements in a set is called the cardinal of the set. \n",
    "  Ω is a set, and the cardinal of \n",
    "   Ω = { 2,3,4,5,6}\n",
    "   cardinal(Ω)=5\n",
    "- P(A | B) = card(A ∩ B) / card(B)\n",
    "- Say we roll a fair six-sided die and want to find the probability of getting an odd number, given the die showed a number greater than 1 after landing. Using probability notation, we want to find P(A|B) where:\n",
    "    - A is the event that the number is odd: A = {1, 3, 5}\n",
    "     - B is the event that the number is greater than 1: B = {2, 3, 4, 5, 6}\n",
    "     - total number of possible outcomes = card({2,3,4,5,6}) =5\n",
    "     - number of successful outcomes = card({3,5})= 2\n",
    "- P(A | B) = card(A ∩ B) / card(B), we can also get the same result using P(A | B) = prob(A ∩ B) / prob(B)\n",
    "\n",
    "     "
   ]
  },
  {
   "cell_type": "markdown",
   "id": "82f2542f",
   "metadata": {
    "papermill": {
     "duration": 0.055291,
     "end_time": "2022-05-07T17:28:28.797320",
     "exception": false,
     "start_time": "2022-05-07T17:28:28.742029",
     "status": "completed"
    },
    "tags": []
   },
   "source": [
    "# Day 20\n",
    "dataquest-> prob and stats -> probability fundamentals -> conditional probabilities intermediate\n",
    "<br> slide 1 and 2\n",
    "- P( A | B ) ≠ P(A ∩ B), but rather:\n",
    "   - P(A | B) = P(A ∩ B) / P(B)\n",
    "   - P(A ∩ B) = P(A | B) ⋅ P(B)\n",
    "- Given that a customer bought a laptop, they will or will not also buy a mouse. This means we can be certain that either event (M|L) or (M^C|L) will happen:\n",
    "     - P(M | L) + P(M^C | L) = 1\n",
    "\n"
   ]
  },
  {
   "cell_type": "markdown",
   "id": "3a571f01",
   "metadata": {
    "papermill": {
     "duration": 0.054869,
     "end_time": "2022-05-07T17:28:28.907659",
     "exception": false,
     "start_time": "2022-05-07T17:28:28.852790",
     "status": "completed"
    },
    "tags": []
   },
   "source": [
    "# Day 21\n",
    "dataquest-> prob and stats -> probability fundamentals -> conditional probabilities intermediate\n",
    "slide 1 and 2\n",
    "- P(A ∩ B) = P(B ∩ A)\n",
    "- multiplication rule of probability\n",
    "  -  P(A ∩ B) = P(B) ⋅ P(A | B) \n",
    "  - P(A ∩ B) = P(A) ⋅ P(B | A)\n",
    "- if P(A) and P(B) are statistically independent then \n",
    "  - P(A ∩ B) = P(A) ⋅ P(B)\n",
    "\n"
   ]
  },
  {
   "cell_type": "markdown",
   "id": "0e6bd9c2",
   "metadata": {
    "papermill": {
     "duration": 0.054086,
     "end_time": "2022-05-07T17:28:29.016176",
     "exception": false,
     "start_time": "2022-05-07T17:28:28.962090",
     "status": "completed"
    },
    "tags": []
   },
   "source": [
    "# Day 22\n",
    "dataquest-> prob and stats -> probability fundamentals -> conditional probabilities intermediate \n",
    "<br>slide 6\n",
    "- If events events A and B are dependent, it means the occurrence of event A changes the probability of event B and vice versa.\n",
    "   - P(A) ≠ P(A | B)\n",
    "   - P(B) ≠ P(B | A)\n",
    "   - P(A ∩ B) ≠ P(A) ⋅ P(B)\n",
    "   - formula will become P(A ∩ B) ≠ P(A) ⋅ P(B/A)\n",
    "   "
   ]
  },
  {
   "cell_type": "markdown",
   "id": "f59388d2",
   "metadata": {
    "papermill": {
     "duration": 0.054543,
     "end_time": "2022-05-07T17:28:29.125059",
     "exception": false,
     "start_time": "2022-05-07T17:28:29.070516",
     "status": "completed"
    },
    "tags": []
   },
   "source": [
    "# Day 23\n",
    "dataquest-> prob and stats -> probability fundamentals -> conditional probabilities intermediate\n",
    "<br>slide 7 to last\n",
    "- To find whether three events — A, B, C — are independent or not, below conditions must hold true -\n",
    "  - P(A ∩ B) ≠ P(A) ⋅ P(B)\n",
    "  - P(A ∩ C) ≠ P(A) ⋅ P(C)\n",
    "  - P(B ∩ C) ≠ P(B) ⋅ P(C)\n",
    "  - P(A ∩ B ∩ C) ≠ P(A) ⋅ P(B) . P(C)\n",
    "- multiplication rule for conditional probability or dependent events\n",
    " - P(A ∩ B ∩ C) = P(A) ⋅ P(B | A) ⋅ P(C | A ∩ B)\n",
    " \n",
    "\n"
   ]
  },
  {
   "cell_type": "markdown",
   "id": "6b3e3a00",
   "metadata": {
    "papermill": {
     "duration": 0.05479,
     "end_time": "2022-05-07T17:28:29.234355",
     "exception": false,
     "start_time": "2022-05-07T17:28:29.179565",
     "status": "completed"
    },
    "tags": []
   },
   "source": [
    "# Day 24\n",
    "dataquest-> prob and stats -> probability fundamentals -> bayes theorem\n",
    "<br>slide 1\n",
    "- independent -> one event is dependent on other\n",
    "   - P(A ∩ B) = P(A) ⋅ P(B/A)\n",
    "- independent -> one event is not dependent on other.\n",
    "   - P(A ∩ B) = P(A) ⋅ P(B)\n",
    "- mutually exclusive -> both the events cannot happen at the same time.\n",
    "   - P(A ∩ B) = 0\n",
    "\n"
   ]
  },
  {
   "cell_type": "markdown",
   "id": "88da5419",
   "metadata": {
    "papermill": {
     "duration": 0.054536,
     "end_time": "2022-05-07T17:28:29.343048",
     "exception": false,
     "start_time": "2022-05-07T17:28:29.288512",
     "status": "completed"
    },
    "tags": []
   },
   "source": [
    "# Day 25\n",
    "dataquest-> prob and stats -> probability fundamentals -> bayes theorem\n",
    "<br>slide 2\n",
    "- If two events are exhaustive, it means they make up the whole sample space Ω\n",
    "  -  P(A) = P(A ∩ B) + P(A ∩ B^c)\n",
    "     P(A) = (P(B) * P(A/B)) +  (P(B^c) * P(A/B^c))\n",
    "     \n",
    "     "
   ]
  },
  {
   "cell_type": "markdown",
   "id": "5d9ed5bd",
   "metadata": {
    "papermill": {
     "duration": 0.054968,
     "end_time": "2022-05-07T17:28:29.452626",
     "exception": false,
     "start_time": "2022-05-07T17:28:29.397658",
     "status": "completed"
    },
    "tags": []
   },
   "source": [
    "# Day 26\n",
    "dataquest-> prob and stats -> probability fundamentals -> bayes theorem\n",
    "<br>slide 3 - last\n",
    "- the law of total probability\n",
    "  - P(A)  = (P(B1) * P(A/B1)) + (P(B2) * P(A/B2))+ ... + (P(Bn) * P(A/Bn)))\n",
    "  - P(A) =(summattion i=1 to n) P(Bi) ⋅ P(A|Bi)\n",
    "- Baye's theorem\n",
    "  - P(B | A) = (P(B) ⋅ P(A | B)) / (n ∑i=1 P(Bi) ⋅ P(A | Bi))\n",
    "- The probability of being infected with HIV before doing any test is called the prior probability (\"prior\" means \"before\"). The probability of being infected with HIV after testing positive is called the posterior probability (\"posterior\" means \"after\").\n",
    "\n",
    "\n",
    "  "
   ]
  },
  {
   "cell_type": "markdown",
   "id": "7b47d824",
   "metadata": {
    "papermill": {
     "duration": 0.055069,
     "end_time": "2022-05-07T17:28:29.563436",
     "exception": false,
     "start_time": "2022-05-07T17:28:29.508367",
     "status": "completed"
    },
    "tags": []
   },
   "source": [
    "# Day 27\n",
    "dataquest-> prob and stats -> probability fundamentals -> naive bayes theorem\n",
    "<br>slide 1 - \n",
    "P(Spam|w1,w2,w3,w4)∝P(Spam)⋅P(w1|Spam)⋅P(w2|Spam)⋅P(w3|Spam)⋅P(w4|Spam)P(SpamC|w1,w2,w3,w4)∝P(SpamC)⋅P(w1|SpamC)⋅P(w2|SpamC)⋅P(w3|SpamC)⋅P(w4|SpamC)"
   ]
  },
  {
   "cell_type": "markdown",
   "id": "d8c43fc0",
   "metadata": {
    "papermill": {
     "duration": 0.05522,
     "end_time": "2022-05-07T17:28:29.674337",
     "exception": false,
     "start_time": "2022-05-07T17:28:29.619117",
     "status": "completed"
    },
    "tags": []
   },
   "source": [
    "# Day 28\n",
    "dataquest-> prob and stats -> probability fundamentals -> naive bayes theorem\n",
    "<br>finished.\n",
    "<br>**Summary**\n",
    "- P(Spam|w1,w2,...,wn)∝P(Spam)⋅n∏i=1P(wi|Spam)\n",
    "- P(SpamC|w1,w2,...,wn)∝P(SpamC)⋅n∏i=1P(wi|SpamC)\n",
    "- To calculate P(wi|Spam) and P(wi|SpamC), we need to use the additive smoothing technique: \n",
    "- P ( w i | S p a m ) = (N w i | S p a m + α) / ( N S p a m + α ⋅ N V o c a b u l a r y )\n",
    "- P ( w i | S p a m C ) = (N w i | S p a m C + α) / ( N S p a m C + α ⋅ N V o c a b u l a r y )\n",
    "     - N w i | S p a m = the number of times the word w i occurs in spam messages \n",
    "     - N w i | S p a m C = the number of times the word w i occurs in non-spam messages \n",
    "     - N S p a m = total number of words in spam messages \n",
    "     - N S p a m C = total number of words in non-spam messages \n",
    "     - N V o c a b u l a r y = total number of words in the vocabulary \n",
    "     - α = 1 ( α is a smoothing parameter )\n",
    " - naive bayes theorem assumes that events are not dependent.\n",
    " - The assumption of conditional independence between words is thus naive since it rarely holds in practice, and this is why the algorithm is called Naive Bayes (also called simple Bayes or independence Bayes)."
   ]
  },
  {
   "cell_type": "markdown",
   "id": "b7374118",
   "metadata": {
    "papermill": {
     "duration": 0.054756,
     "end_time": "2022-05-07T17:28:29.783504",
     "exception": false,
     "start_time": "2022-05-07T17:28:29.728748",
     "status": "completed"
    },
    "tags": []
   },
   "source": [
    "# Day 29,30,31\n",
    "<br>dataquest-> prob and stats -> probability fundamentals -> conditional probability-> guided projects\n",
    "<br> in progress"
   ]
  },
  {
   "cell_type": "markdown",
   "id": "188a9ff7",
   "metadata": {
    "papermill": {
     "duration": 0.054187,
     "end_time": "2022-05-07T17:28:29.893105",
     "exception": false,
     "start_time": "2022-05-07T17:28:29.838918",
     "status": "completed"
    },
    "tags": []
   },
   "source": [
    "# Day 32 and 33\n",
    "<br>dataquest-> prob and stats -> probability fundamentals -> guided projects\n",
    "<br> done"
   ]
  },
  {
   "cell_type": "markdown",
   "id": "32b6f909",
   "metadata": {
    "papermill": {
     "duration": 0.053523,
     "end_time": "2022-05-07T17:28:30.000578",
     "exception": false,
     "start_time": "2022-05-07T17:28:29.947055",
     "status": "completed"
    },
    "tags": []
   },
   "source": [
    "# Day 34\n",
    "<br>dataquest-> prob and stats -> probability fundamentals -> guided projects-> lottery prediction\n",
    "<br> done"
   ]
  },
  {
   "cell_type": "markdown",
   "id": "a48a52ec",
   "metadata": {
    "papermill": {
     "duration": 0.053594,
     "end_time": "2022-05-07T17:28:30.108193",
     "exception": false,
     "start_time": "2022-05-07T17:28:30.054599",
     "status": "completed"
    },
    "tags": []
   },
   "source": [
    "# Day 35\n",
    "<br>dataquest-> prob and stats -> hypothesis testing fundamentals -> significance testing\n",
    "<br> till slide 4\n",
    "- null hypothesis\n",
    "- alternate hypothesis\n"
   ]
  },
  {
   "cell_type": "markdown",
   "id": "41ca9ba2",
   "metadata": {
    "papermill": {
     "duration": 0.054602,
     "end_time": "2022-05-07T17:28:30.216504",
     "exception": false,
     "start_time": "2022-05-07T17:28:30.161902",
     "status": "completed"
    },
    "tags": []
   },
   "source": [
    "# Day 36 and 37\n",
    "<br>dataquest-> prob and stats -> hypothesis testing fundamentals -> significance testing\n",
    "- The permutation test is a statistical test that involves rerunning the study many times and recalculating the test statistic for each iteration. The goal is to calculate a distribution of the test statistics over these many iterations. This distribution is called the sampling distribution and it approximates the full range of possible test statistics under the null hypothesis\n",
    "\n"
   ]
  },
  {
   "cell_type": "markdown",
   "id": "7998e068",
   "metadata": {
    "papermill": {
     "duration": 0.055976,
     "end_time": "2022-05-07T17:28:30.328302",
     "exception": false,
     "start_time": "2022-05-07T17:28:30.272326",
     "status": "completed"
    },
    "tags": []
   },
   "source": [
    "# Day 38\n",
    "<br>dataquest-> prob and stats -> hypothesis testing fundamentals -> significance testing\n",
    "<br>in progress."
   ]
  },
  {
   "cell_type": "markdown",
   "id": "5ca79d8e",
   "metadata": {
    "papermill": {
     "duration": 0.055881,
     "end_time": "2022-05-07T17:28:30.441160",
     "exception": false,
     "start_time": "2022-05-07T17:28:30.385279",
     "status": "completed"
    },
    "tags": []
   },
   "source": [
    "# Day 39\n",
    "<br>dataquest-> prob and stats -> hypothesis testing fundamentals -> significance testing\n",
    "<br>slide 5-6"
   ]
  },
  {
   "cell_type": "markdown",
   "id": "a612971e",
   "metadata": {
    "papermill": {
     "duration": 0.055687,
     "end_time": "2022-05-07T17:28:30.552409",
     "exception": false,
     "start_time": "2022-05-07T17:28:30.496722",
     "status": "completed"
    },
    "tags": []
   },
   "source": [
    "# Day 40\n",
    "<br>dataquest-> prob and stats -> hypothesis testing fundamentals -> significance testing\n",
    "<br>slide 7"
   ]
  },
  {
   "cell_type": "markdown",
   "id": "ae10cabf",
   "metadata": {
    "papermill": {
     "duration": 0.054401,
     "end_time": "2022-05-07T17:28:30.662836",
     "exception": false,
     "start_time": "2022-05-07T17:28:30.608435",
     "status": "completed"
    },
    "tags": []
   },
   "source": [
    "# Day 41 and 42\n",
    "<br>dataquest-> prob and stats -> hypothesis testing fundamentals -> significance testing\n",
    "<br>slide 7 done and 8(p-value) strated"
   ]
  },
  {
   "cell_type": "markdown",
   "id": "bf4c94e6",
   "metadata": {
    "papermill": {
     "duration": 0.054614,
     "end_time": "2022-05-07T17:28:30.772336",
     "exception": false,
     "start_time": "2022-05-07T17:28:30.717722",
     "status": "completed"
    },
    "tags": []
   },
   "source": [
    "# Day 43\n",
    "<br>dataquest-> prob and stats -> hypothesis testing fundamentals -> significance testing\n",
    "<br>\n",
    "- The first step is to decide a test statistic, which is a numerical value that summarizes the data and one we can use in statistical formulas. The test statistic runs a statistical test that determines whether the difference between the groups was due to random chance.\n",
    "  - e.x: mean \n",
    "- The permutation test is a statistical test that involves rerunning the study many times and recalculating the test statistic for each iteration.\n",
    "   - The goal is to calculate a distribution of the test statistics over these many iterations. This distribution is called the sampling distribution and it approximates the full range of possible test statistics under the null hypothesis.\n",
    "- If the p value is less than the threshold, we:\n",
    "    - reject the null hypothesis that there's no difference in the mean amount of weight lost by participants in both groups; and\n",
    "    - conclude that there is some evidence that the weight loss pill does affect the amount of weight people lost.\n",
    "\n",
    "- If the p value is greater than the threshold, we:\n",
    "    - fail to reject the null hypothesis that there's no difference in the mean amount of weight lost by participants in both groups,\n",
    "    - conclude that the weight loss pill doesn't seem to be effective in helping people lose weight.\n",
    "- usually used p-value threshold is 0.05\n",
    "- The p value threshold you set can also affect the conclusion you reach.\n",
    "    - If you set too high of a p value threshold, you may reject the null hypothesis incorrectly. This is known as a type I error.\n",
    "    - If you set too low of a p value threshold, you may fail to reject the null hypothesis incorrectly. This is known as a type II error."
   ]
  },
  {
   "cell_type": "markdown",
   "id": "96df74ad",
   "metadata": {
    "papermill": {
     "duration": 0.054364,
     "end_time": "2022-05-07T17:28:30.881799",
     "exception": false,
     "start_time": "2022-05-07T17:28:30.827435",
     "status": "completed"
    },
    "tags": []
   },
   "source": [
    "# Day 44\n",
    "<br>dataquest-> prob and stats -> hypothesis testing fundamentals -> significance testing-> chi squared test\n",
    "<br>1- 4\n",
    "- chi squared test is used for numerical values"
   ]
  },
  {
   "cell_type": "markdown",
   "id": "868f9e3d",
   "metadata": {
    "papermill": {
     "duration": 0.05554,
     "end_time": "2022-05-07T17:28:30.992114",
     "exception": false,
     "start_time": "2022-05-07T17:28:30.936574",
     "status": "completed"
    },
    "tags": []
   },
   "source": [
    "# Day 45 and 46\n",
    "<br>dataquest-> prob and stats -> hypothesis testing fundamentals -> significance testing-> chi squared test\n",
    "<br>4- 6"
   ]
  },
  {
   "cell_type": "markdown",
   "id": "8a14de12",
   "metadata": {
    "papermill": {
     "duration": 0.054634,
     "end_time": "2022-05-07T17:28:31.101409",
     "exception": false,
     "start_time": "2022-05-07T17:28:31.046775",
     "status": "completed"
    },
    "tags": []
   },
   "source": [
    "# Day 47\n",
    "<br>dataquest-> prob and stats -> hypothesis testing fundamentals -> significance testing-> chi squared test\n",
    "<br> slide 6 done"
   ]
  },
  {
   "cell_type": "markdown",
   "id": "258a1cd7",
   "metadata": {
    "papermill": {
     "duration": 0.055749,
     "end_time": "2022-05-07T17:28:31.211995",
     "exception": false,
     "start_time": "2022-05-07T17:28:31.156246",
     "status": "completed"
    },
    "tags": []
   },
   "source": [
    "# Day 48\n",
    "<br> chi-squared values is that they get smaller as the sample size decreases.\n",
    "<br>**conclusion**\n",
    "- The chi-squared test enables us to quantify the difference between sets of observed and expected categorical values to determine statistical significance\n",
    "- chi squared = (observed - expected)**2 / expected\n",
    "- A p-value allows us to determine whether the difference between 2 values is due to chance, or due to an underlying difference.\n",
    "- Chi-squared values increase as sample size increases, but the chance of getting a high chi-squared value decreases as the sample gets larger.\n",
    "- A degree of freedom is the number of values that can vary without the other values being\"locked in\". \n",
    "- scipy https://docs.scipy.org/doc/scipy/reference/generated/scipy.stats.mstats.chisquare.html\n"
   ]
  },
  {
   "cell_type": "markdown",
   "id": "3551f8d2",
   "metadata": {
    "papermill": {
     "duration": 0.05497,
     "end_time": "2022-05-07T17:28:31.322004",
     "exception": false,
     "start_time": "2022-05-07T17:28:31.267034",
     "status": "completed"
    },
    "tags": []
   },
   "source": [
    "# Day 49\n",
    "<br>dataquest-> prob and stats -> hypothesis testing fundamentals -> significance testing-> multi category chi squared test\n",
    "<br> slide 1 done\n",
    "- We can apply the multi category chi-squared test (also known as the chi-squared test of association) to figure out if there's a statistically significant correlation between two categorical columns.\n",
    "- "
   ]
  },
  {
   "cell_type": "markdown",
   "id": "f062b379",
   "metadata": {
    "papermill": {
     "duration": 0.054771,
     "end_time": "2022-05-07T17:28:31.432405",
     "exception": false,
     "start_time": "2022-05-07T17:28:31.377634",
     "status": "completed"
    },
    "tags": []
   },
   "source": [
    " **Day 50**\n",
    "<br>dataquest-> prob and stats -> hypothesis testing fundamentals -> significance testing-> multi category chi squared test\n",
    "# Conclusion:\n",
    "- In a multiple category chi-squared test, we calculate expected values across our whole dataset.\n",
    "- We can calculate the chi-squared value by using the following steps:\n",
    "    - Subtract the expected value from the observed value.\n",
    "    - Subtract the difference.\n",
    "    - Divide the squared difference by the expected value.\n",
    "    - Repeat for all observed and expected values and add up all the values.\n",
    "- ∑ expected(observed−expected)**2 / expected\n",
    "- Discovering that a result isn't significant doesn't mean that no association between the columnsexists. Discovering a statistically significant result doesn't imply anything about what thecorrelation is.\n",
    "- Chi-squared tests can only be applied when each possibility within a category is independen.\n",
    "    - we have categories like male or female not both. single row has either male or female not both at a time.\n",
    "- https://docs.scipy.org/doc/scipy-0.15.1/reference/generated/scipy.stats.chi2_contingency.html\n",
    "- https://pandas.pydata.org/pandas-docs/stable/generated/pandas.crosstab.html\n"
   ]
  },
  {
   "cell_type": "markdown",
   "id": "52385d63",
   "metadata": {
    "papermill": {
     "duration": 0.05519,
     "end_time": "2022-05-07T17:28:31.542294",
     "exception": false,
     "start_time": "2022-05-07T17:28:31.487104",
     "status": "completed"
    },
    "tags": []
   },
   "source": [
    "# **Day 51, 52**\n",
    "<br>dataquest-> prob and stats -> hypothesis testing fundamentals -> significance testing-> guided project\n",
    "<br>in progress."
   ]
  },
  {
   "cell_type": "markdown",
   "id": "189b4627",
   "metadata": {
    "papermill": {
     "duration": 0.056136,
     "end_time": "2022-05-07T17:28:31.653580",
     "exception": false,
     "start_time": "2022-05-07T17:28:31.597444",
     "status": "completed"
    },
    "tags": []
   },
   "source": [
    "# **Day 53**\n",
    "<br>dataquest-> prob and stats -> hypothesis testing fundamentals -> significance testing-> guided project\n",
    "<br>done"
   ]
  },
  {
   "cell_type": "markdown",
   "id": "b4b68a84",
   "metadata": {
    "papermill": {
     "duration": 0.055468,
     "end_time": "2022-05-07T17:28:31.764095",
     "exception": false,
     "start_time": "2022-05-07T17:28:31.708627",
     "status": "completed"
    },
    "tags": []
   },
   "source": [
    "# **Day 54,55, 56**\n",
    "interviewbit-> probability-> conditional probability\n",
    "1. You asked your three friends whether it will rain or not and all three affirmed for rain. All three have the probability of 1/3 of lying. What is the probability that it will actually rain?\n",
    "- https://www.geeksforgeeks.org/puzzle-is-it-raining/#:~:text=Explanation%3A,truth%20or%20all%20are%20lying.&text=So%2C%20it%20is%20approximately%2089,it%20is%20raining%20in%20Hyderabad.\n",
    "2. Anshul and Deven take turns in rolling a fair six-sided die. Whoever rolls a “6” first wins the game. Deven starts by rolling first. What’s the probability that Anshul wins?\n",
    "- https://www.quora.com/A-and-B-throw-a-Fair-die-one-after-another-Whoever-throws-6-first-wins-What-is-the-probability-that-A-wins\n",
    "\n",
    "3. You have a bag with 6 marbles. One marble is white. You reach the bag 100 times. After taking out a marble, it is placed back in the bag. What is the probability of drawing a white marble at least once?\n",
    "- https://brainly.com/question/14376470\n",
    "- Answer:\n",
    "\n",
    "0.999999988\n",
    "\n",
    "Step-by-step explanation:\n",
    "\n",
    "Given that you  have a bag with 6 marbles. One marble is white. You reach the bag 100 times. After taking out a marble, it is placed back in the bag.\n",
    "\n",
    "Because every time you replace the marble drawn, the probability for drawing a white marble in one draw is constant = p =5/6\n",
    "\n",
    "No of trials n = 100\n",
    "\n",
    "Here X no of times white marble is drawn is Binomial since there are two outcomes and also the probability is constant.\n",
    "\n",
    "the probability of drawing a white marble at least once\n",
    "\n",
    "=\n",
    "\n",
    "Required probability is almost 1.\n",
    "\n",
    "\n",
    "4. Supposedly a friend of yours has 2 children and at least one of them is a boy. What is the probability that the other is also a boy?\n",
    "- If at least one is a boy, there are three possible equally likely gender assignations of two siblings. boy-boy, boy-girl,\n",
    "\n",
    " or girl-boy. Only 1 in 3 cases or 33 percent are both boys. The lesson here is that when considering equally likely scenarios\n",
    "\n",
    " we must consider birth order. If the birth order of the boy is not specified – i.e. if we don’t know if he is the eldest or \n",
    "\n",
    " the youngest – the probability of two boys drops to 1 in 3.\n",
    " \n",
    "5. A single card is drawn from a standard deck of playing cards. What is the probability that the card is a queen provided that a face card is drawn from the deck of cards?\n",
    "- 4/12 = 1/3\n",
    " \n",
    "6. random variables Q1,2"
   ]
  },
  {
   "cell_type": "code",
   "execution_count": null,
   "id": "3a193c96",
   "metadata": {
    "papermill": {
     "duration": 0.053621,
     "end_time": "2022-05-07T17:28:31.872419",
     "exception": false,
     "start_time": "2022-05-07T17:28:31.818798",
     "status": "completed"
    },
    "tags": []
   },
   "outputs": [],
   "source": []
  },
  {
   "cell_type": "code",
   "execution_count": 2,
   "id": "2e53461b",
   "metadata": {
    "execution": {
     "iopub.execute_input": "2022-05-07T17:28:31.985048Z",
     "iopub.status.busy": "2022-05-07T17:28:31.984535Z",
     "iopub.status.idle": "2022-05-07T17:28:31.987660Z",
     "shell.execute_reply": "2022-05-07T17:28:31.988092Z",
     "shell.execute_reply.started": "2022-04-12T14:17:49.333113Z"
    },
    "papermill": {
     "duration": 0.061598,
     "end_time": "2022-05-07T17:28:31.988244",
     "exception": false,
     "start_time": "2022-05-07T17:28:31.926646",
     "status": "completed"
    },
    "tags": []
   },
   "outputs": [],
   "source": [
    "# !pip install PyMuPDF"
   ]
  },
  {
   "cell_type": "code",
   "execution_count": 3,
   "id": "4275340f",
   "metadata": {
    "execution": {
     "iopub.execute_input": "2022-05-07T17:28:32.101133Z",
     "iopub.status.busy": "2022-05-07T17:28:32.100651Z",
     "iopub.status.idle": "2022-05-07T17:28:32.102480Z",
     "shell.execute_reply": "2022-05-07T17:28:32.102914Z",
     "shell.execute_reply.started": "2022-04-12T14:19:20.437905Z"
    },
    "papermill": {
     "duration": 0.059847,
     "end_time": "2022-05-07T17:28:32.103058",
     "exception": false,
     "start_time": "2022-05-07T17:28:32.043211",
     "status": "completed"
    },
    "tags": []
   },
   "outputs": [],
   "source": [
    " \n",
    "# fitz.__version__"
   ]
  },
  {
   "cell_type": "code",
   "execution_count": 4,
   "id": "8a7ce5cb",
   "metadata": {
    "execution": {
     "iopub.execute_input": "2022-05-07T17:28:32.214459Z",
     "iopub.status.busy": "2022-05-07T17:28:32.213957Z",
     "iopub.status.idle": "2022-05-07T17:28:32.217548Z",
     "shell.execute_reply": "2022-05-07T17:28:32.217926Z",
     "shell.execute_reply.started": "2022-04-12T14:23:59.687259Z"
    },
    "papermill": {
     "duration": 0.061238,
     "end_time": "2022-05-07T17:28:32.218090",
     "exception": false,
     "start_time": "2022-05-07T17:28:32.156852",
     "status": "completed"
    },
    "tags": []
   },
   "outputs": [],
   "source": [
    "# !python -m spacy download en_core_web_sm"
   ]
  },
  {
   "cell_type": "code",
   "execution_count": null,
   "id": "340d6964",
   "metadata": {
    "papermill": {
     "duration": 0.054874,
     "end_time": "2022-05-07T17:28:32.327407",
     "exception": false,
     "start_time": "2022-05-07T17:28:32.272533",
     "status": "completed"
    },
    "tags": []
   },
   "outputs": [],
   "source": []
  },
  {
   "cell_type": "code",
   "execution_count": 5,
   "id": "1faafa8c",
   "metadata": {
    "execution": {
     "iopub.execute_input": "2022-05-07T17:28:32.440049Z",
     "iopub.status.busy": "2022-05-07T17:28:32.439531Z",
     "iopub.status.idle": "2022-05-07T17:28:32.442807Z",
     "shell.execute_reply": "2022-05-07T17:28:32.443237Z",
     "shell.execute_reply.started": "2022-04-12T14:18:25.912243Z"
    },
    "papermill": {
     "duration": 0.060287,
     "end_time": "2022-05-07T17:28:32.443385",
     "exception": false,
     "start_time": "2022-05-07T17:28:32.383098",
     "status": "completed"
    },
    "tags": []
   },
   "outputs": [],
   "source": [
    "# import fitz\n",
    "# import spacy\n",
    "# import re\n",
    "# from pathlib import Path\n",
    "# import requests\n",
    "# import os"
   ]
  },
  {
   "cell_type": "code",
   "execution_count": 6,
   "id": "30cced9a",
   "metadata": {
    "execution": {
     "iopub.execute_input": "2022-05-07T17:28:32.556292Z",
     "iopub.status.busy": "2022-05-07T17:28:32.555809Z",
     "iopub.status.idle": "2022-05-07T17:28:32.559124Z",
     "shell.execute_reply": "2022-05-07T17:28:32.559576Z",
     "shell.execute_reply.started": "2022-04-12T15:03:43.5897Z"
    },
    "papermill": {
     "duration": 0.061399,
     "end_time": "2022-05-07T17:28:32.559711",
     "exception": false,
     "start_time": "2022-05-07T17:28:32.498312",
     "status": "completed"
    },
    "tags": []
   },
   "outputs": [],
   "source": [
    "# sql_db_json = [\n",
    "#   {\n",
    "#     \"document_id\": \"1\",\n",
    "#     \"area\": \"[72.1149,661.2966,131.95729,675.1716]\",\n",
    "#     \"page\": \"3\",\n",
    "#     \"text_\": \"Background\",\n",
    "#     \"type_of_selection\": \"Text\",\n",
    "#     \"entity_type\": \"name\",\n",
    "#     \"link\": \"https://redactable-devox-stage.s3.us-east-2.amazonaws.com/tenants/41d9e109-693b-444c-aa18-e5891bc6550b/original/1a7c0e5d-3237-4ca9-9e3d-89e707245ac6/D8communications.pdf\"\n",
    "#   },\n",
    "#   {\n",
    "#     \"document_id\": \"1\",\n",
    "#     \"area\": \"[290.55386,632.0173,322.14685,645.8923]\",\n",
    "#     \"page\": \"2\",\n",
    "#     \"text_\": \"INDEX\",\n",
    "#     \"type_of_selection\": \"Text\",\n",
    "#     \"entity_type\": \"address\",\n",
    "#     \"link\": \"https://redactable-devox-stage.s3.us-east-2.amazonaws.com/tenants/41d9e109-693b-444c-aa18-e5891bc6550b/original/1a7c0e5d-3237-4ca9-9e3d-89e707245ac6/D8communications.pdf\"\n",
    "#   }\n",
    "# ]"
   ]
  },
  {
   "cell_type": "code",
   "execution_count": 7,
   "id": "6bd1aea3",
   "metadata": {
    "execution": {
     "iopub.execute_input": "2022-05-07T17:28:32.674401Z",
     "iopub.status.busy": "2022-05-07T17:28:32.673934Z",
     "iopub.status.idle": "2022-05-07T17:28:32.677116Z",
     "shell.execute_reply": "2022-05-07T17:28:32.677480Z",
     "shell.execute_reply.started": "2022-04-12T13:17:19.452695Z"
    },
    "papermill": {
     "duration": 0.06379,
     "end_time": "2022-05-07T17:28:32.677636",
     "exception": false,
     "start_time": "2022-05-07T17:28:32.613846",
     "status": "completed"
    },
    "tags": []
   },
   "outputs": [],
   "source": [
    "# l=pd.DataFrame()\n",
    "# k=(1, '[290.55386,632.0173,322.14685,645.8923]', 2, 'INDEX', 'Text', 'address', 'https://redactable-devox-s')\n",
    "# k\n"
   ]
  },
  {
   "cell_type": "code",
   "execution_count": 8,
   "id": "b15ce533",
   "metadata": {
    "execution": {
     "iopub.execute_input": "2022-05-07T17:28:32.788833Z",
     "iopub.status.busy": "2022-05-07T17:28:32.788220Z",
     "iopub.status.idle": "2022-05-07T17:28:32.791380Z",
     "shell.execute_reply": "2022-05-07T17:28:32.791802Z",
     "shell.execute_reply.started": "2022-04-12T16:09:33.708631Z"
    },
    "papermill": {
     "duration": 0.059677,
     "end_time": "2022-05-07T17:28:32.791917",
     "exception": false,
     "start_time": "2022-05-07T17:28:32.732240",
     "status": "completed"
    },
    "tags": []
   },
   "outputs": [],
   "source": [
    "# co=[\"document_id\",\"area\",\"page\",\"text_\",\"type_of_selection\",\"entity_type\",\"link\"]\n",
    "# val= [(1,'[72.1149,661.2966,131.95729,675.1716]',3,'Background','Text','name' ,'https://redactable-devox-stage.s3.us-east-2.am'), (1,  '[290.55386,632.0173,322.14685,645.8923]',2,'INDEX', 'Text','address','https://redactable-devox-stage.s3.us-east-2.am')]\n",
    "\n",
    "# df=pd.DataFrame(val,columns=[co])\n",
    "# #df.iloc[1] =[1,  '[290.55386,632.0173,322.14685,645.8923]',2,'INDEX', 'Text','address','https://redactable-devox-stage.s3.us-east-2.am']\n",
    "# df"
   ]
  },
  {
   "cell_type": "code",
   "execution_count": 9,
   "id": "64c23169",
   "metadata": {
    "execution": {
     "iopub.execute_input": "2022-05-07T17:28:32.901683Z",
     "iopub.status.busy": "2022-05-07T17:28:32.901062Z",
     "iopub.status.idle": "2022-05-07T17:28:32.904014Z",
     "shell.execute_reply": "2022-05-07T17:28:32.904452Z",
     "shell.execute_reply.started": "2022-04-12T16:18:22.595374Z"
    },
    "papermill": {
     "duration": 0.059444,
     "end_time": "2022-05-07T17:28:32.904565",
     "exception": false,
     "start_time": "2022-05-07T17:28:32.845121",
     "status": "completed"
    },
    "tags": []
   },
   "outputs": [],
   "source": [
    "# prev=[]\n",
    "# for data,row in df.iterrows():\n",
    "#     if row['document_id'] not in prev:\n",
    "#         prev.append(row['document_id'])\n",
    "#         print('hey')"
   ]
  },
  {
   "cell_type": "code",
   "execution_count": 10,
   "id": "1df810da",
   "metadata": {
    "execution": {
     "iopub.execute_input": "2022-05-07T17:28:33.015548Z",
     "iopub.status.busy": "2022-05-07T17:28:33.014962Z",
     "iopub.status.idle": "2022-05-07T17:28:33.020452Z",
     "shell.execute_reply": "2022-05-07T17:28:33.020858Z",
     "shell.execute_reply.started": "2022-04-12T15:03:48.248836Z"
    },
    "papermill": {
     "duration": 0.063021,
     "end_time": "2022-05-07T17:28:33.020998",
     "exception": false,
     "start_time": "2022-05-07T17:28:32.957977",
     "status": "completed"
    },
    "tags": []
   },
   "outputs": [],
   "source": [
    "# nlp = spacy.load('en_core_web_sm')\n",
    "# train_data = []\n",
    "\n",
    "# prev_doc_id = ''\n",
    "# i=0\n",
    "# temp='/kaggle/working'\n",
    "\n",
    "# for data in sql_db_json:\n",
    "#     if data['type_of_selection'] == 'Text':\n",
    "#         document_id = data['document_id']\n",
    "#         x1,y1,x2,y2 = data['area'][1:-1].split(',')\n",
    "#         url = data['link']\n",
    "#         page_no = int(data['page']) - 1 \n",
    "#         label = data['entity_type']\n",
    "#         filename = url.split('/')[-1]\n",
    "    \n",
    "#         #download the file to temp folder\n",
    "#         outpath = os.path.join(temp,filename)\n",
    "\n",
    "#         if document_id == prev_doc_id:\n",
    "#             pass\n",
    "#         else: \n",
    "#             i+=1\n",
    "#             print(i)\n",
    "#             response = requests.get(url)\n",
    "#             with open(outpath, \"wb\") as binary_file:\n",
    "#                 binary_file.write(response.content)\n",
    "\n",
    "#         doc = fitz.open(outpath)  # any supported document type\n",
    "#         page = doc[page_no]  # we want text from this page\n",
    "#         print('page dimension - ', page.rect.width, page.rect.height)\n",
    "\n",
    "#         #The co-ordinates in the DB are image co-ords. W.r.t pdf, y1 and y2 has to be interchanged.\n",
    "#         #To ensure entire word to be selected, slight correction in x1,y1,x2,y2 is done.\n",
    "\n",
    "#         rect = [float(x1)-2, 792 - float(y2)-2, float(x2)+2, 792 - float(y1)+2]\n",
    "#         print(rect)\n",
    "#         labelled_text = page.get_textbox(rect)\n",
    "\n",
    "#         #Removing all unprintable characters from the text\n",
    "#         string = re.sub('[^0-9a-zA-Z@?|\\/<>.,()&^%$#!]+', ' ', labelled_text)\n",
    "#         print('string : ', string)\n",
    "\n",
    "#         fulltext = page.get_text()\n",
    "#         doc = nlp(fulltext)\n",
    "\n",
    "#         sentences = []\n",
    "#         for sent in doc.sents:\n",
    "#             if string.strip() in sent.text:\n",
    "#                 text = re.sub('[^0-9a-zA-Z@?|\\/<>.,()&^%$#!]+', ' ', sent.text)\n",
    "\n",
    "#         res = re.search(string.strip(), text)\n",
    "\n",
    "#         entities = []\n",
    "#         entities.append((res.start(),res.end(),label))\n",
    "\n",
    "#         train_data.append((text,{'entities':entities}))\n",
    "\n",
    "# print('Training data in spacy format')\n",
    "# print('*****************************')\n",
    "# for i in range(0,len(train_data)):\n",
    "#     print(train_data[i])"
   ]
  },
  {
   "cell_type": "code",
   "execution_count": null,
   "id": "9ccb2c1a",
   "metadata": {
    "papermill": {
     "duration": 0.053517,
     "end_time": "2022-05-07T17:28:33.127980",
     "exception": false,
     "start_time": "2022-05-07T17:28:33.074463",
     "status": "completed"
    },
    "tags": []
   },
   "outputs": [],
   "source": []
  },
  {
   "cell_type": "code",
   "execution_count": 11,
   "id": "344535b0",
   "metadata": {
    "execution": {
     "iopub.execute_input": "2022-05-07T17:28:33.238676Z",
     "iopub.status.busy": "2022-05-07T17:28:33.238059Z",
     "iopub.status.idle": "2022-05-07T17:28:33.243340Z",
     "shell.execute_reply": "2022-05-07T17:28:33.243760Z",
     "shell.execute_reply.started": "2022-04-12T11:44:59.253637Z"
    },
    "papermill": {
     "duration": 0.062008,
     "end_time": "2022-05-07T17:28:33.243878",
     "exception": false,
     "start_time": "2022-05-07T17:28:33.181870",
     "status": "completed"
    },
    "tags": []
   },
   "outputs": [],
   "source": [
    "# nlp = spacy.load('en_core_web_sm')\n",
    "# train_data = []\n",
    "\n",
    "# prev_doc_id = ''\n",
    "# temp='/kaggle/working'\n",
    "# i=0\n",
    "# for data in sql_db_json:\n",
    "#     if data['type_of_selection'] == 'Text':\n",
    "#         document_id = data['document_id']\n",
    "#         x1,y1,x2,y2 = data['area'][1:-1].split(',')\n",
    "#         url = data['link']\n",
    "#         page_no = int(data['page']) - 1 \n",
    "#         label = data['entity_type']\n",
    "#         filename = url.split('/')[-1]\n",
    "    \n",
    "#         #download the file to temp folder\n",
    "#         i+=1\n",
    "#         print(i)\n",
    "#         response = requests.get(url)\n",
    "#         doc = fitz.open(stream=response.content,filetype=\"pdf\")  # any supported document type\n",
    "#         page = doc[page_no]  # we want text from this page\n",
    "#         print('page dimension - ', page.rect.width, page.rect.height)\n",
    "\n",
    "#         #The co-ordinates in the DB are image co-ords. W.r.t pdf, y1 and y2 has to be interchanged.\n",
    "#         #To ensure entire word to be selected, slight correction in x1,y1,x2,y2 is done.\n",
    "\n",
    "#         rect = [float(x1)-2, 792 - float(y2)-2, float(x2)+2, 792 - float(y1)+2]\n",
    "#         print(rect)\n",
    "#         labelled_text = page.get_textbox(rect)\n",
    "\n",
    "#         #Removing all unprintable characters from the text\n",
    "#         string = re.sub('[^0-9a-zA-Z@?|\\/<>.,()&^%$#!]+', ' ', labelled_text)\n",
    "#         print('string : ', string)\n",
    "\n",
    "#         fulltext = page.get_text()\n",
    "#         doc = nlp(fulltext)\n",
    "\n",
    "#         sentences = []\n",
    "#         for sent in doc.sents:\n",
    "#             if string.strip() in sent.text:\n",
    "#                 text = re.sub('[^0-9a-zA-Z@?|\\/<>.,()&^%$#!]+', ' ', sent.text)\n",
    "\n",
    "#         res = re.search(string.strip(), text)\n",
    "\n",
    "#         entities = []\n",
    "#         entities.append((res.start(),res.end(),label))\n",
    "\n",
    "#         train_data.append((text,{'entities':entities}))\n",
    "\n",
    "# print('Training data in spacy format')\n",
    "# print('*****************************')\n",
    "# for i in range(0,len(train_data)):\n",
    "#     print(train_data[i])"
   ]
  },
  {
   "cell_type": "code",
   "execution_count": 12,
   "id": "53eb5367",
   "metadata": {
    "execution": {
     "iopub.execute_input": "2022-05-07T17:28:33.353610Z",
     "iopub.status.busy": "2022-05-07T17:28:33.352995Z",
     "iopub.status.idle": "2022-05-07T17:28:33.356343Z",
     "shell.execute_reply": "2022-05-07T17:28:33.356768Z"
    },
    "papermill": {
     "duration": 0.059725,
     "end_time": "2022-05-07T17:28:33.356891",
     "exception": false,
     "start_time": "2022-05-07T17:28:33.297166",
     "status": "completed"
    },
    "tags": []
   },
   "outputs": [],
   "source": [
    "# page dimension -  612.0 792.0\n",
    "# [70.1149, 114.82839999999999, 133.95729, 132.7034]\n",
    "# string :  Background\n",
    "# page dimension -  612.0 792.0\n",
    "# [288.55386, 144.10770000000002, 324.14685, 161.98270000000002]\n",
    "# string :  INDEX\n",
    "# Training data in spacy format\n",
    "# *****************************\n",
    "# (' 3 Background The Blue Ribbon Committee was created by the Mayor to assess various city communication methods and recommend opportunities to improve communications with residents, businesses and other organizations.', {'entities': [(3, 13, 'name')]})\n",
    "# (' 2 INDEX Background Pg. 3 Purpose Pg. 3 Process .', {'entities': [(3, 8, 'address')]})"
   ]
  },
  {
   "cell_type": "code",
   "execution_count": 13,
   "id": "75adc2a5",
   "metadata": {
    "execution": {
     "iopub.execute_input": "2022-05-07T17:28:33.466804Z",
     "iopub.status.busy": "2022-05-07T17:28:33.466223Z",
     "iopub.status.idle": "2022-05-07T17:28:33.470186Z",
     "shell.execute_reply": "2022-05-07T17:28:33.470608Z",
     "shell.execute_reply.started": "2022-04-11T16:35:29.609712Z"
    },
    "papermill": {
     "duration": 0.059976,
     "end_time": "2022-05-07T17:28:33.470718",
     "exception": false,
     "start_time": "2022-05-07T17:28:33.410742",
     "status": "completed"
    },
    "tags": []
   },
   "outputs": [],
   "source": [
    "# nlp = spacy.load('en_core_web_sm')\n",
    "# outpath=r'/kaggle/input/sample-pdf/D8communications.pdf'\n",
    "# doc = fitz.open(outpath)  # any supported document type\n",
    "# page_no=3\n",
    "# page = doc[page_no-1]\n",
    "\n",
    "# x1,y1,x2,y2=(72.1149,661.2966,131.95729,675.1716)\n",
    "\n",
    "# rect = [float(x1)-2, 792 - float(y2)-2, float(x2)+2, 792 - float(y1)+2]\n",
    "# print(rect)\n",
    "# labelled_text = page.get_textbox(rect)\n",
    "# string = re.sub('[^0-9a-zA-Z@?|\\/<>.,()&^%$#!]+', ' ', labelled_text)\n",
    "# print('string : ', string)\n",
    "\n",
    "# fulltext = page.get_text()\n",
    "# doc = nlp(fulltext)\n",
    "\n",
    "# sentences = []\n",
    "# for sent in doc.sents:\n",
    "#             if string.strip() in sent.text:\n",
    "#                 text = re.sub('[^0-9a-zA-Z@?|\\/<>.,()&^%$#!]+', ' ', sent.text)\n",
    "\n",
    "#         res = re.search(string.strip(), text)\n",
    "\n",
    "#         entities = []\n",
    "#         entities.append((res.start(),res.end(),label))\n",
    "\n",
    "#         train_data.append((text,{'entities':entities}))\n",
    "\n"
   ]
  },
  {
   "cell_type": "code",
   "execution_count": 14,
   "id": "f7905769",
   "metadata": {
    "execution": {
     "iopub.execute_input": "2022-05-07T17:28:33.582786Z",
     "iopub.status.busy": "2022-05-07T17:28:33.582070Z",
     "iopub.status.idle": "2022-05-07T17:28:33.585245Z",
     "shell.execute_reply": "2022-05-07T17:28:33.585692Z",
     "shell.execute_reply.started": "2022-04-11T16:35:41.679947Z"
    },
    "papermill": {
     "duration": 0.061701,
     "end_time": "2022-05-07T17:28:33.585818",
     "exception": false,
     "start_time": "2022-05-07T17:28:33.524117",
     "status": "completed"
    },
    "tags": []
   },
   "outputs": [],
   "source": [
    "#doc"
   ]
  },
  {
   "cell_type": "code",
   "execution_count": 15,
   "id": "3dae382a",
   "metadata": {
    "execution": {
     "iopub.execute_input": "2022-05-07T17:28:33.697439Z",
     "iopub.status.busy": "2022-05-07T17:28:33.696792Z",
     "iopub.status.idle": "2022-05-07T17:28:33.699671Z",
     "shell.execute_reply": "2022-05-07T17:28:33.700117Z",
     "shell.execute_reply.started": "2022-04-11T16:35:56.010353Z"
    },
    "papermill": {
     "duration": 0.059295,
     "end_time": "2022-05-07T17:28:33.700225",
     "exception": false,
     "start_time": "2022-05-07T17:28:33.640930",
     "status": "completed"
    },
    "tags": []
   },
   "outputs": [],
   "source": [
    "# sentences = []\n",
    "# for sent in doc.sents:\n",
    "#     if string.strip() in sent.text:\n",
    "#         text = re.sub('[^0-9a-zA-Z@?|\\/<>.,()&^%$#!]+', ' ', sent.text)"
   ]
  },
  {
   "cell_type": "code",
   "execution_count": 16,
   "id": "f06a9c96",
   "metadata": {
    "execution": {
     "iopub.execute_input": "2022-05-07T17:28:33.812207Z",
     "iopub.status.busy": "2022-05-07T17:28:33.811535Z",
     "iopub.status.idle": "2022-05-07T17:28:33.814269Z",
     "shell.execute_reply": "2022-05-07T17:28:33.814683Z",
     "shell.execute_reply.started": "2022-04-11T16:39:04.736143Z"
    },
    "papermill": {
     "duration": 0.060852,
     "end_time": "2022-05-07T17:28:33.814825",
     "exception": false,
     "start_time": "2022-05-07T17:28:33.753973",
     "status": "completed"
    },
    "tags": []
   },
   "outputs": [],
   "source": [
    "# k=nlp(\"he             kenny\")\n",
    "# for sent in k.sents:\n",
    "#     print(sent)"
   ]
  },
  {
   "cell_type": "code",
   "execution_count": 17,
   "id": "c0ce3e9a",
   "metadata": {
    "execution": {
     "iopub.execute_input": "2022-05-07T17:28:33.929045Z",
     "iopub.status.busy": "2022-05-07T17:28:33.928346Z",
     "iopub.status.idle": "2022-05-07T17:28:33.931395Z",
     "shell.execute_reply": "2022-05-07T17:28:33.931836Z",
     "shell.execute_reply.started": "2022-04-11T15:09:24.391421Z"
    },
    "papermill": {
     "duration": 0.0614,
     "end_time": "2022-05-07T17:28:33.931982",
     "exception": false,
     "start_time": "2022-05-07T17:28:33.870582",
     "status": "completed"
    },
    "tags": []
   },
   "outputs": [],
   "source": [
    "# text"
   ]
  },
  {
   "cell_type": "code",
   "execution_count": 18,
   "id": "a84fd711",
   "metadata": {
    "execution": {
     "iopub.execute_input": "2022-05-07T17:28:34.044060Z",
     "iopub.status.busy": "2022-05-07T17:28:34.043411Z",
     "iopub.status.idle": "2022-05-07T17:28:34.046671Z",
     "shell.execute_reply": "2022-05-07T17:28:34.047133Z",
     "shell.execute_reply.started": "2022-04-11T15:09:31.9599Z"
    },
    "papermill": {
     "duration": 0.06038,
     "end_time": "2022-05-07T17:28:34.047252",
     "exception": false,
     "start_time": "2022-05-07T17:28:33.986872",
     "status": "completed"
    },
    "tags": []
   },
   "outputs": [],
   "source": [
    "# res = re.search(string.strip(), text)\n",
    "# res"
   ]
  },
  {
   "cell_type": "code",
   "execution_count": 19,
   "id": "9ceaf464",
   "metadata": {
    "execution": {
     "iopub.execute_input": "2022-05-07T17:28:34.177106Z",
     "iopub.status.busy": "2022-05-07T17:28:34.176465Z",
     "iopub.status.idle": "2022-05-07T17:28:34.178900Z",
     "shell.execute_reply": "2022-05-07T17:28:34.178448Z",
     "shell.execute_reply.started": "2022-04-11T15:12:41.311242Z"
    },
    "papermill": {
     "duration": 0.066394,
     "end_time": "2022-05-07T17:28:34.179019",
     "exception": false,
     "start_time": "2022-05-07T17:28:34.112625",
     "status": "completed"
    },
    "tags": []
   },
   "outputs": [],
   "source": [
    "# entities = []\n",
    "# entities.append((res.start(),res.end(),'p'))"
   ]
  },
  {
   "cell_type": "code",
   "execution_count": 20,
   "id": "80b92663",
   "metadata": {
    "execution": {
     "iopub.execute_input": "2022-05-07T17:28:34.291343Z",
     "iopub.status.busy": "2022-05-07T17:28:34.290764Z",
     "iopub.status.idle": "2022-05-07T17:28:34.292403Z",
     "shell.execute_reply": "2022-05-07T17:28:34.292831Z",
     "shell.execute_reply.started": "2022-04-11T15:12:52.736619Z"
    },
    "papermill": {
     "duration": 0.059226,
     "end_time": "2022-05-07T17:28:34.292966",
     "exception": false,
     "start_time": "2022-05-07T17:28:34.233740",
     "status": "completed"
    },
    "tags": []
   },
   "outputs": [],
   "source": [
    "# entities"
   ]
  },
  {
   "cell_type": "code",
   "execution_count": 21,
   "id": "1c8d5cae",
   "metadata": {
    "execution": {
     "iopub.execute_input": "2022-05-07T17:28:34.403398Z",
     "iopub.status.busy": "2022-05-07T17:28:34.402734Z",
     "iopub.status.idle": "2022-05-07T17:28:34.405506Z",
     "shell.execute_reply": "2022-05-07T17:28:34.405973Z",
     "shell.execute_reply.started": "2022-04-11T15:06:11.546217Z"
    },
    "papermill": {
     "duration": 0.059663,
     "end_time": "2022-05-07T17:28:34.406092",
     "exception": false,
     "start_time": "2022-05-07T17:28:34.346429",
     "status": "completed"
    },
    "tags": []
   },
   "outputs": [],
   "source": [
    "# text"
   ]
  },
  {
   "cell_type": "code",
   "execution_count": null,
   "id": "d1153982",
   "metadata": {
    "execution": {
     "iopub.execute_input": "2022-04-11T15:02:33.300092Z",
     "iopub.status.busy": "2022-04-11T15:02:33.299778Z",
     "iopub.status.idle": "2022-04-11T15:02:33.30711Z",
     "shell.execute_reply": "2022-04-11T15:02:33.306345Z",
     "shell.execute_reply.started": "2022-04-11T15:02:33.300061Z"
    },
    "papermill": {
     "duration": 0.054634,
     "end_time": "2022-05-07T17:28:34.515861",
     "exception": false,
     "start_time": "2022-05-07T17:28:34.461227",
     "status": "completed"
    },
    "tags": []
   },
   "outputs": [],
   "source": []
  },
  {
   "cell_type": "code",
   "execution_count": 22,
   "id": "5fa8f96d",
   "metadata": {
    "execution": {
     "iopub.execute_input": "2022-05-07T17:28:34.628925Z",
     "iopub.status.busy": "2022-05-07T17:28:34.628270Z",
     "iopub.status.idle": "2022-05-07T17:28:34.634547Z",
     "shell.execute_reply": "2022-05-07T17:28:34.635086Z",
     "shell.execute_reply.started": "2022-04-11T16:21:02.863037Z"
    },
    "papermill": {
     "duration": 0.064757,
     "end_time": "2022-05-07T17:28:34.635262",
     "exception": false,
     "start_time": "2022-05-07T17:28:34.570505",
     "status": "completed"
    },
    "tags": []
   },
   "outputs": [],
   "source": [
    "# import spacy\n",
    "# nlp = spacy.load('en_core_web_sm')"
   ]
  },
  {
   "cell_type": "code",
   "execution_count": 23,
   "id": "2b305103",
   "metadata": {
    "execution": {
     "iopub.execute_input": "2022-05-07T17:28:34.806244Z",
     "iopub.status.busy": "2022-05-07T17:28:34.805580Z",
     "iopub.status.idle": "2022-05-07T17:28:34.808566Z",
     "shell.execute_reply": "2022-05-07T17:28:34.808073Z",
     "shell.execute_reply.started": "2022-04-09T12:19:47.776612Z"
    },
    "papermill": {
     "duration": 0.089917,
     "end_time": "2022-05-07T17:28:34.808687",
     "exception": false,
     "start_time": "2022-05-07T17:28:34.718770",
     "status": "completed"
    },
    "tags": []
   },
   "outputs": [],
   "source": [
    "# !pip install PyPDF2\n",
    "# import PyPDF2\n",
    "# fhandle = open(r'/kaggle/input/sample-pdf/D8communications.pdf', 'rb')\n",
    "# pdfReader = PyPDF2.PdfFileReader(fhandle)\n",
    "# pagehandle = pdfReader.getPage(4)\n",
    "# print(pagehandle.extractText())"
   ]
  },
  {
   "cell_type": "code",
   "execution_count": 24,
   "id": "cb207fef",
   "metadata": {
    "execution": {
     "iopub.execute_input": "2022-05-07T17:28:34.977586Z",
     "iopub.status.busy": "2022-05-07T17:28:34.976999Z",
     "iopub.status.idle": "2022-05-07T17:28:34.979764Z",
     "shell.execute_reply": "2022-05-07T17:28:34.980328Z",
     "shell.execute_reply.started": "2022-04-09T12:25:37.701467Z"
    },
    "papermill": {
     "duration": 0.089201,
     "end_time": "2022-05-07T17:28:34.980465",
     "exception": false,
     "start_time": "2022-05-07T17:28:34.891264",
     "status": "completed"
    },
    "tags": []
   },
   "outputs": [],
   "source": [
    "# !pip install pdfplumber\n",
    "# import pdfplumber\n",
    "# with pdfplumber.open(r'/kaggle/input/sample-pdf/D8communications.pdf') as pdf:\n",
    "#     first_page = pdf.pages[3]\n",
    "#     print(first_page.extract_text())"
   ]
  },
  {
   "cell_type": "code",
   "execution_count": 25,
   "id": "c9eae119",
   "metadata": {
    "execution": {
     "iopub.execute_input": "2022-05-07T17:28:35.150344Z",
     "iopub.status.busy": "2022-05-07T17:28:35.149475Z",
     "iopub.status.idle": "2022-05-07T17:28:35.151645Z",
     "shell.execute_reply": "2022-05-07T17:28:35.152126Z",
     "shell.execute_reply.started": "2022-04-09T12:25:49.584635Z"
    },
    "papermill": {
     "duration": 0.089289,
     "end_time": "2022-05-07T17:28:35.152294",
     "exception": false,
     "start_time": "2022-05-07T17:28:35.063005",
     "status": "completed"
    },
    "tags": []
   },
   "outputs": [],
   "source": [
    "# !pip install pytesseract"
   ]
  },
  {
   "cell_type": "code",
   "execution_count": 26,
   "id": "64ecb3d6",
   "metadata": {
    "execution": {
     "iopub.execute_input": "2022-05-07T17:28:35.324281Z",
     "iopub.status.busy": "2022-05-07T17:28:35.323652Z",
     "iopub.status.idle": "2022-05-07T17:28:35.324893Z",
     "shell.execute_reply": "2022-05-07T17:28:35.325380Z",
     "shell.execute_reply.started": "2022-04-09T14:49:10.656812Z"
    },
    "papermill": {
     "duration": 0.089477,
     "end_time": "2022-05-07T17:28:35.325541",
     "exception": false,
     "start_time": "2022-05-07T17:28:35.236064",
     "status": "completed"
    },
    "tags": []
   },
   "outputs": [],
   "source": [
    "# #!pip install pdf2image\n",
    "# !pip install poppler"
   ]
  },
  {
   "cell_type": "code",
   "execution_count": 27,
   "id": "e7b6f941",
   "metadata": {
    "execution": {
     "iopub.execute_input": "2022-05-07T17:28:35.494031Z",
     "iopub.status.busy": "2022-05-07T17:28:35.493430Z",
     "iopub.status.idle": "2022-05-07T17:28:35.496063Z",
     "shell.execute_reply": "2022-05-07T17:28:35.496624Z",
     "shell.execute_reply.started": "2022-04-09T14:57:24.756677Z"
    },
    "papermill": {
     "duration": 0.087961,
     "end_time": "2022-05-07T17:28:35.496754",
     "exception": false,
     "start_time": "2022-05-07T17:28:35.408793",
     "status": "completed"
    },
    "tags": []
   },
   "outputs": [],
   "source": [
    "# pdf2image.convert_from_path('/kaggle/input/sample-pdf/D8communications.pdf')"
   ]
  },
  {
   "cell_type": "code",
   "execution_count": 28,
   "id": "5dc475e9",
   "metadata": {
    "execution": {
     "iopub.execute_input": "2022-05-07T17:28:35.670246Z",
     "iopub.status.busy": "2022-05-07T17:28:35.669514Z",
     "iopub.status.idle": "2022-05-07T17:28:35.675491Z",
     "shell.execute_reply": "2022-05-07T17:28:35.676071Z",
     "shell.execute_reply.started": "2022-04-09T14:57:17.576149Z"
    },
    "papermill": {
     "duration": 0.096366,
     "end_time": "2022-05-07T17:28:35.676259",
     "exception": false,
     "start_time": "2022-05-07T17:28:35.579893",
     "status": "completed"
    },
    "tags": []
   },
   "outputs": [],
   "source": [
    "# import pdf2image\n",
    "# try:\n",
    "#     from PIL import Image\n",
    "# except ImportError:\n",
    "#     import Image\n",
    "# import pytesseract\n",
    "\n",
    "\n",
    "# def pdf_to_img(pdf_file):\n",
    "#     return pdf2image.convert_from_path(pdf_file)\n",
    "\n",
    "\n",
    "# def ocr_core(file):\n",
    "#     text = pytesseract.image_to_string(file)\n",
    "#     return text\n",
    "\n",
    "\n",
    "# def print_pages(pdf_file):\n",
    "#     images = pdf_to_img(pdf_file)\n",
    "#     for pg, img in enumerate(images):\n",
    "#         print(ocr_core(img))\n",
    "\n",
    "\n",
    "# print_pages('/kaggle/input/sample-pdf/D8communications.pdf')\n"
   ]
  },
  {
   "cell_type": "code",
   "execution_count": 29,
   "id": "ce2ee6c6",
   "metadata": {
    "execution": {
     "iopub.execute_input": "2022-05-07T17:28:35.849573Z",
     "iopub.status.busy": "2022-05-07T17:28:35.848987Z",
     "iopub.status.idle": "2022-05-07T17:28:35.853056Z",
     "shell.execute_reply": "2022-05-07T17:28:35.853610Z"
    },
    "papermill": {
     "duration": 0.090086,
     "end_time": "2022-05-07T17:28:35.853774",
     "exception": false,
     "start_time": "2022-05-07T17:28:35.763688",
     "status": "completed"
    },
    "tags": []
   },
   "outputs": [],
   "source": [
    "# import requests\n",
    "# import fitz\n",
    "# import io\n",
    "\n",
    "# #URL = 'https://buildmedia.readthedocs.org/media/pdf/pdfminer-docs/latest/pdfminer-docs.pdf'\n",
    "# URL = 'https://redactable-devox-stage.s3.us-east-2.amazonaws.com/tenants/41d9e109-693b-444c-aa18-e5891bc6550b/original/1a7c0e5d-3237-4ca9-9e3d-89e707245ac6/D8communications.pdf'\n",
    "\n",
    "\n",
    "# res = requests.get(URL)\n",
    "# filestream = io.BytesIO(res.content)\n",
    "# #res.content\n",
    "# filestream\n",
    "# doc = fitz.Document(stream=filestream)\n",
    "# page1 = doc.loadPage(3)\n",
    "# page1text = page1.getText(\"text\").encode(\"utf-8\").decode(\"utf-8\")\n",
    "# print(page1text)"
   ]
  },
  {
   "cell_type": "code",
   "execution_count": 30,
   "id": "184c6d11",
   "metadata": {
    "execution": {
     "iopub.execute_input": "2022-05-07T17:28:36.024724Z",
     "iopub.status.busy": "2022-05-07T17:28:36.024104Z",
     "iopub.status.idle": "2022-05-07T17:28:36.026030Z",
     "shell.execute_reply": "2022-05-07T17:28:36.026476Z",
     "shell.execute_reply.started": "2022-04-09T07:04:56.590103Z"
    },
    "papermill": {
     "duration": 0.089993,
     "end_time": "2022-05-07T17:28:36.026634",
     "exception": false,
     "start_time": "2022-05-07T17:28:35.936641",
     "status": "completed"
    },
    "tags": []
   },
   "outputs": [],
   "source": [
    "# import requests\n",
    "# import fitz\n",
    "\n",
    "# #URL = 'https://buildmedia.readthedocs.org/media/pdf/pdfminer-docs/latest/pdfminer-docs.pdf'\n",
    "# URL = 'https://redactable-devox-stage.s3.us-east-2.amazonaws.com/tenants/41d9e109-693b-444c-aa18-e5891bc6550b/original/1a7c0e5d-3237-4ca9-9e3d-89e707245ac6/D8communications.pdf'\n",
    "\n",
    "\n",
    "# res = requests.get(URL)\n",
    "# doc = fitz.open(stream=res.content,filetype=\"pdf\")\n",
    "# page1 = doc.loadPage(3)\n",
    "# page1text = page1.getText(\"text\")\n",
    "# #rect = (72.1149,661.2966,131.95729,675.1716)\n",
    "# rect=(72.10812377929688, 116.13427734375, 133.97142028808594, 146.4227294921875)\n",
    "# labelled_text = page1.get_textbox(rect)\n",
    "# print(labelled_text.strip())\n",
    "\n",
    "# fulltext = page1.get_text()\n",
    "# print(fulltext)\n",
    "# doc = nlp(fulltext)\n",
    "# sentences = []\n",
    "# for sent in doc.sents:\n",
    "#     if labelled_text in sent.text:\n",
    "#         text = sent.text\n",
    "#         print(text)\n",
    "# #print(page1text)"
   ]
  },
  {
   "cell_type": "code",
   "execution_count": 31,
   "id": "9a497ba1",
   "metadata": {
    "execution": {
     "iopub.execute_input": "2022-05-07T17:28:36.195985Z",
     "iopub.status.busy": "2022-05-07T17:28:36.195359Z",
     "iopub.status.idle": "2022-05-07T17:28:36.197410Z",
     "shell.execute_reply": "2022-05-07T17:28:36.197995Z",
     "shell.execute_reply.started": "2022-04-08T16:42:57.6659Z"
    },
    "papermill": {
     "duration": 0.088648,
     "end_time": "2022-05-07T17:28:36.198131",
     "exception": false,
     "start_time": "2022-05-07T17:28:36.109483",
     "status": "completed"
    },
    "tags": []
   },
   "outputs": [],
   "source": [
    "#res.content"
   ]
  },
  {
   "cell_type": "code",
   "execution_count": 32,
   "id": "b76bf619",
   "metadata": {
    "execution": {
     "iopub.execute_input": "2022-05-07T17:28:36.365739Z",
     "iopub.status.busy": "2022-05-07T17:28:36.365157Z",
     "iopub.status.idle": "2022-05-07T17:28:36.368558Z",
     "shell.execute_reply": "2022-05-07T17:28:36.369135Z",
     "shell.execute_reply.started": "2022-04-08T16:48:05.672392Z"
    },
    "papermill": {
     "duration": 0.088791,
     "end_time": "2022-05-07T17:28:36.369266",
     "exception": false,
     "start_time": "2022-05-07T17:28:36.280475",
     "status": "completed"
    },
    "tags": []
   },
   "outputs": [],
   "source": [
    "# import fitz\n",
    "# # mem_area=\n",
    "# # doc = fitz.open(stream=mem_area, filetype=\"pdf\")\n",
    "\n",
    "# import requests\n",
    "\n",
    "# URL = 'https://redactable-devox-stage.s3.us-east-2.amazonaws.com/tenants/41d9e109-693b-444c-aa18-e5891bc6550b/original/1a7c0e5d-3237-4ca9-9e3d-89e707245ac6/D8communications.pdf'\n",
    "\n",
    "# #res = requests.get(URL)\n",
    "# doc=fitz.open(\"/kaggle/input/sample-pdf/D8communications.pdf\")\n",
    "# #doc = fitz.open(stream=res.content,filetype=\"pdf\")\n",
    "# page1 = doc.loadPage(4)\n",
    "# # page1text = page1.getText(\"text\")\n",
    "# # print(page1text)\n",
    "# blocks = page1.getText(\"blocks\")\n",
    "# blocks.sort(key=lambda block: block[1])  # sort vertically ascending\n",
    "\n",
    "# for b in blocks:\n",
    "#     print(b[4])\n"
   ]
  },
  {
   "cell_type": "code",
   "execution_count": 33,
   "id": "54a09b78",
   "metadata": {
    "execution": {
     "iopub.execute_input": "2022-05-07T17:28:36.539363Z",
     "iopub.status.busy": "2022-05-07T17:28:36.538700Z",
     "iopub.status.idle": "2022-05-07T17:28:36.541557Z",
     "shell.execute_reply": "2022-05-07T17:28:36.542090Z",
     "shell.execute_reply.started": "2022-04-08T16:48:13.086323Z"
    },
    "papermill": {
     "duration": 0.089353,
     "end_time": "2022-05-07T17:28:36.542263",
     "exception": false,
     "start_time": "2022-05-07T17:28:36.452910",
     "status": "completed"
    },
    "tags": []
   },
   "outputs": [],
   "source": [
    "# # page = doc[1]\n",
    "# words = page.get_text(\"words\")\n",
    "# #print(words)\n",
    "# rect = (72.1149,661.2966,131.95729,675.1716)\n",
    "\n",
    "# labelled_text = page.get_textbox(rect)\n",
    "# # labelled_text"
   ]
  },
  {
   "cell_type": "markdown",
   "id": "e0ff8dfa",
   "metadata": {
    "papermill": {
     "duration": 0.084188,
     "end_time": "2022-05-07T17:28:36.710730",
     "exception": false,
     "start_time": "2022-05-07T17:28:36.626542",
     "status": "completed"
    },
    "tags": []
   },
   "source": [
    "pip install PyPDF2"
   ]
  },
  {
   "cell_type": "code",
   "execution_count": null,
   "id": "2dd48710",
   "metadata": {
    "papermill": {
     "duration": 0.084631,
     "end_time": "2022-05-07T17:28:36.878072",
     "exception": false,
     "start_time": "2022-05-07T17:28:36.793441",
     "status": "completed"
    },
    "tags": []
   },
   "outputs": [],
   "source": []
  },
  {
   "cell_type": "code",
   "execution_count": 34,
   "id": "8df36c89",
   "metadata": {
    "execution": {
     "iopub.execute_input": "2022-05-07T17:28:37.048132Z",
     "iopub.status.busy": "2022-05-07T17:28:37.047436Z",
     "iopub.status.idle": "2022-05-07T17:28:37.048976Z",
     "shell.execute_reply": "2022-05-07T17:28:37.048542Z",
     "shell.execute_reply.started": "2022-03-18T16:48:58.370268Z"
    },
    "papermill": {
     "duration": 0.088301,
     "end_time": "2022-05-07T17:28:37.049083",
     "exception": false,
     "start_time": "2022-05-07T17:28:36.960782",
     "status": "completed"
    },
    "tags": []
   },
   "outputs": [],
   "source": [
    "# import pandas as pd\n",
    "# h={'step': 0, 'type': 'string', 'amount': 0.0, 'nameOrig': 'C1231006815', 'oldbalanceOrig': 0.0, 'newbalanceOrig': 0.0, 'nameDest': 'M1979787155', 'oldbalanceDest': 0.0, 'newbalanceDest': 0.0}\n",
    "# df=pd.DataFrame([h])"
   ]
  },
  {
   "cell_type": "code",
   "execution_count": 35,
   "id": "871c3ebd",
   "metadata": {
    "execution": {
     "iopub.execute_input": "2022-05-07T17:28:37.160347Z",
     "iopub.status.busy": "2022-05-07T17:28:37.159903Z",
     "iopub.status.idle": "2022-05-07T17:28:37.161225Z",
     "shell.execute_reply": "2022-05-07T17:28:37.161638Z",
     "shell.execute_reply.started": "2022-04-09T17:21:26.021615Z"
    },
    "papermill": {
     "duration": 0.058396,
     "end_time": "2022-05-07T17:28:37.161748",
     "exception": false,
     "start_time": "2022-05-07T17:28:37.103352",
     "status": "completed"
    },
    "tags": []
   },
   "outputs": [],
   "source": [
    "#df"
   ]
  },
  {
   "cell_type": "code",
   "execution_count": null,
   "id": "2f2df140",
   "metadata": {
    "papermill": {
     "duration": 0.054126,
     "end_time": "2022-05-07T17:28:37.269241",
     "exception": false,
     "start_time": "2022-05-07T17:28:37.215115",
     "status": "completed"
    },
    "tags": []
   },
   "outputs": [],
   "source": []
  }
 ],
 "metadata": {
  "kernelspec": {
   "display_name": "Python 3",
   "language": "python",
   "name": "python3"
  },
  "language_info": {
   "codemirror_mode": {
    "name": "ipython",
    "version": 3
   },
   "file_extension": ".py",
   "mimetype": "text/x-python",
   "name": "python",
   "nbconvert_exporter": "python",
   "pygments_lexer": "ipython3",
   "version": "3.7.12"
  },
  "papermill": {
   "default_parameters": {},
   "duration": 22.546079,
   "end_time": "2022-05-07T17:28:38.034551",
   "environment_variables": {},
   "exception": null,
   "input_path": "__notebook__.ipynb",
   "output_path": "__notebook__.ipynb",
   "parameters": {},
   "start_time": "2022-05-07T17:28:15.488472",
   "version": "2.3.3"
  }
 },
 "nbformat": 4,
 "nbformat_minor": 5
}
