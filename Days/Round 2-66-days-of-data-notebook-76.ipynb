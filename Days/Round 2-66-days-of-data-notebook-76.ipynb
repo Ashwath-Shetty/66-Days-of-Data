{
 "cells": [
  {
   "cell_type": "code",
   "execution_count": 1,
   "id": "cf5f653b",
   "metadata": {
    "_cell_guid": "b1076dfc-b9ad-4769-8c92-a6c4dae69d19",
    "_uuid": "8f2839f25d086af736a60e9eeb907d3b93b6e0e5",
    "execution": {
     "iopub.execute_input": "2022-05-25T17:25:50.925604Z",
     "iopub.status.busy": "2022-05-25T17:25:50.923845Z",
     "iopub.status.idle": "2022-05-25T17:25:50.942027Z",
     "shell.execute_reply": "2022-05-25T17:25:50.941377Z",
     "shell.execute_reply.started": "2022-04-12T14:12:25.248687Z"
    },
    "papermill": {
     "duration": 0.095706,
     "end_time": "2022-05-25T17:25:50.942194",
     "exception": false,
     "start_time": "2022-05-25T17:25:50.846488",
     "status": "completed"
    },
    "tags": []
   },
   "outputs": [
    {
     "name": "stdout",
     "output_type": "stream",
     "text": [
      "/kaggle/input/sample-pdf/D8communications.pdf\n"
     ]
    }
   ],
   "source": [
    "# This Python 3 environment comes with many helpful analytics libraries installed\n",
    "# It is defined by the kaggle/python Docker image: https://github.com/kaggle/docker-python\n",
    "# For example, here's several helpful packages to load\n",
    "\n",
    "import numpy as np # linear algebra\n",
    "import pandas as pd # data processing, CSV file I/O (e.g. pd.read_csv)\n",
    "\n",
    "# Input data files are available in the read-only \"../input/\" directory\n",
    "# For example, running this (by clicking run or pressing Shift+Enter) will list all files under the input directory\n",
    "\n",
    "import os\n",
    "for dirname, _, filenames in os.walk('/kaggle/input'):\n",
    "    for filename in filenames:\n",
    "        print(os.path.join(dirname, filename))\n",
    "\n",
    "# You can write up to 20GB to the current directory (/kaggle/working/) that gets preserved as output when you create a version using \"Save & Run All\" \n",
    "# You can also write temporary files to /kaggle/temp/, but they won't be saved outside of the current session"
   ]
  },
  {
   "cell_type": "markdown",
   "id": "7f81e9ba",
   "metadata": {
    "papermill": {
     "duration": 0.067597,
     "end_time": "2022-05-25T17:25:51.079123",
     "exception": false,
     "start_time": "2022-05-25T17:25:51.011526",
     "status": "completed"
    },
    "tags": []
   },
   "source": [
    "# **Start Date: 12/3/2022**"
   ]
  },
  {
   "cell_type": "markdown",
   "id": "2daa93ea",
   "metadata": {
    "papermill": {
     "duration": 0.068607,
     "end_time": "2022-05-25T17:25:51.215526",
     "exception": false,
     "start_time": "2022-05-25T17:25:51.146919",
     "status": "completed"
    },
    "tags": []
   },
   "source": [
    "# **Day 1:** \n",
    "<br>dataquest -> stats -> probability-> estimating probability\n",
    "1. out come is nothing but o/p of an experiment\n",
    "ex: whatever u get after rolling a dice -> it can be any number\n",
    "2. event can have more than one outcome\n",
    "- e.x: The event that we'll get an odd number when we roll a six-sided die — this event includes the outcomes 1, 3, and 5.\n",
    "- an event can be 0 as well.\n",
    "- We always assign probabilities to events, not outcomes, even if the event includes only one outcome.\n",
    "- P(E) =1/total number of possible outcomes, P(E) probability of an event happening.\n",
    "- but above formula doesn't work always, especially when there are more than one outcome\n",
    "    - P(E)=number of successful outcomes/total number of possible outcomes\n",
    "- incase of a biased situation \n",
    "  - let's say a die has 6 - 3 times which is 1,6,3,5,6,6\n",
    "    we will consider 6 as 3 times not 1.\n",
    "    possible outcome-> 1,3,5,6,6,6\n",
    "    prob(6)=3/6\n",
    "    prob(3)=1/6\n",
    "    prob(2)=0/6\n",
    "    If we didn't treat each 6 differently and said it doesn't matter which side a 6 is on, \n",
    "    <br>we'd be forced to conclude the only possible outcomes are 1, 3, 5 and 6. We can definitely         <br>frame the problem like that, but the formula above won't work anymore — we see below P(6) <br>becomes the same as P(3), but, intuitively, P(6) should be higher than P(3) since the die has 6 on     <br>three of its sides:\n"
   ]
  },
  {
   "cell_type": "markdown",
   "id": "7f893439",
   "metadata": {
    "papermill": {
     "duration": 0.068238,
     "end_time": "2022-05-25T17:25:51.351882",
     "exception": false,
     "start_time": "2022-05-25T17:25:51.283644",
     "status": "completed"
    },
    "tags": []
   },
   "source": [
    "Estimating Probabilities Conclusion\n",
    "- emperical/ experimental probability\n",
    "  - probability achieved by experimenting / by doing the same event multiple times.\n",
    "  - Generally, for any event E (like a coin landing heads up), we can find its empirical probability   \n",
    "     by using the following formula: \n",
    "     •P (E) =number of times event E happened/ number of times we repeated the experiment   \n",
    " - Generally, the empirical probability of an event (a coin landing heads up, getting a 5 when weroll a die) approaches the true probability value as the number of trials of the randomexperiment (a coin toss, the rolling of a die) increases without bound.\n",
    "- When we calculate the probability of an event under the assumption that the outcomes have equal chances of occurring, we say that we're calculating the **theoretical probability** of an event.\n",
    "   - P(E)=number of successful outcomes/total number of possible outcomes\n",
    "\n"
   ]
  },
  {
   "cell_type": "markdown",
   "id": "c335d191",
   "metadata": {
    "papermill": {
     "duration": 0.067199,
     "end_time": "2022-05-25T17:25:51.487068",
     "exception": false,
     "start_time": "2022-05-25T17:25:51.419869",
     "status": "completed"
    },
    "tags": []
   },
   "source": [
    "# **Day 2**\n",
    "<br>dataquest-> stats -> intro to probability -> probability rules\n",
    "<br>In probability theory, the set of all possible outcomes is called a sample space. A sample space is often denoted by the capital Greek letter Ω (read \"omega\"). This is how we represent the sample space of a die roll:\n",
    "\n",
    "Ω = {1,2,3,4,5,6}\n",
    "-    The probability of any event ranges between 0 and 1: 0≤ P(Event) ≤1\n",
    "- To calculate P(A or B), we can also use the formula below, which is sometimes called the addition rule: P(A or B) = P(A) + P(B)\n",
    "  - Sample space ={ 1,2,3,4,5,6} \n",
    "  - P(2 or 5) = 2/6\n",
    "\n",
    "- P(C or D) = P(C) + P(D) - P(C and D)\n",
    "   - e.x : Sample_space ={2,4,6} + { 4,5,6} - {4/6}\n",
    "      P( even number or number greater than 3) = ( (3/6) + (3/6) )- (2/6) = 4/6\n",
    "- Events that don't intersect are called mutually exclusive.\n",
    "  - e.x: Getting a 5 (event one) and getting a 3 (event two) when we roll a regular six-sided die — it's  impossible to get both a 5 and 3.\n",
    "- Events that intersect are called mutually non-exclusive.\n",
    "  - Getting a number greater than 2 (event one) and getting an odd number (event two) when we roll a regular six-sided die — we could get a 5, which is both greater than 2 (event one) and odd (event two).\n",
    "- unioun -> A or B, intersection -> A and B"
   ]
  },
  {
   "cell_type": "markdown",
   "id": "55008a7c",
   "metadata": {
    "papermill": {
     "duration": 0.067328,
     "end_time": "2022-05-25T17:25:51.622406",
     "exception": false,
     "start_time": "2022-05-25T17:25:51.555078",
     "status": "completed"
    },
    "tags": []
   },
   "source": [
    "# Day 3 and 4\n",
    "dataquest -> stats -> probabilities -> solving complex probabilities\n",
    "- This is the same result we got from our previous approach. In more general terms, the multiplication rule says that for two events E1 and E2, the probability that both event E1 and E2 happen can be found by multiplying the probability of E1 by the probability of E2:\n",
    "    - P(E1 ∩ E2) = P(E1) × P(E2)\n",
    "    - Events that don't influence each other's probability are called independent events. If H1 happens, P(H2) stays the same, so H1 and H2 are independent. The multiplication rule we learned only works for independent events.\n",
    "    "
   ]
  },
  {
   "cell_type": "markdown",
   "id": "10c50057",
   "metadata": {
    "papermill": {
     "duration": 0.068468,
     "end_time": "2022-05-25T17:25:51.759336",
     "exception": false,
     "start_time": "2022-05-25T17:25:51.690868",
     "status": "completed"
    },
    "tags": []
   },
   "source": [
    "# Day 5\n",
    "- When we replace the cards after drawing, we say that we're sampling with replacement. When we don't put the cards back, we're sampling without replacement. \n"
   ]
  },
  {
   "cell_type": "markdown",
   "id": "0f0cbd34",
   "metadata": {
    "papermill": {
     "duration": 0.068841,
     "end_time": "2022-05-25T17:25:51.895895",
     "exception": false,
     "start_time": "2022-05-25T17:25:51.827054",
     "status": "completed"
    },
    "tags": []
   },
   "source": [
    "# Day6\n",
    "dataquest-> prob and stats -> probability fundamentals -> permutation and combinations\n",
    "Generally, if we have an experiment E1 (like flipping a coin) with a outcomes, followed by an experiment E2 (like rolling a die) with b outcomes, then the total number of outcomes for the composite experiment E1E2 can be found by multiplying a with b:\n",
    "\n",
    "Number of outcomes = a * b"
   ]
  },
  {
   "cell_type": "markdown",
   "id": "69b80fb4",
   "metadata": {
    "papermill": {
     "duration": 0.069045,
     "end_time": "2022-05-25T17:25:52.033638",
     "exception": false,
     "start_time": "2022-05-25T17:25:51.964593",
     "status": "completed"
    },
    "tags": []
   },
   "source": [
    "# Day 7\n",
    "dataquest-> prob and stats -> probability fundamentals -> permutation and combinations <br>\n",
    "More generally, if we have an experiment E1 with a outcomes, followed by an experiment E2 with b outcomes, followed by an experiment En with z outcomes, the total number of outcomes for the composite experiment E1E2 ... En can be found by multiplying their individual outcomes:\n",
    "\n",
    "Number of outcomes= a * b * … * z"
   ]
  },
  {
   "cell_type": "markdown",
   "id": "1f5cc51c",
   "metadata": {
    "papermill": {
     "duration": 0.067274,
     "end_time": "2022-05-25T17:25:52.169422",
     "exception": false,
     "start_time": "2022-05-25T17:25:52.102148",
     "status": "completed"
    },
    "tags": []
   },
   "source": [
    "# Day 8\n",
    "dataquest-> prob and stats -> probability fundamentals -> permutation and combinations <br>\n",
    "permutations= n*(n-1)*(n-2)*....*2*1\n"
   ]
  },
  {
   "cell_type": "markdown",
   "id": "b917ffba",
   "metadata": {
    "papermill": {
     "duration": 0.068504,
     "end_time": "2022-05-25T17:25:52.307103",
     "exception": false,
     "start_time": "2022-05-25T17:25:52.238599",
     "status": "completed"
    },
    "tags": []
   },
   "source": [
    "# Day 9\n",
    "dataquest-> prob and stats -> probability fundamentals -> permutation and combinations\n",
    "- in permutation order of the individual element in the arranement matters.\n",
    "   - for e.x: 9821 is different than 9281\n",
    "   - Permutations =n!  --> sample without replacement-> we are not putting back the sampled data.\n",
    "   - On the last screen, we learned to use the formula below to calculate permutations when we're sampling without replacement and taking only k objects from a group of n objects:\n",
    "   npk=n!/(n-k)!"
   ]
  },
  {
   "cell_type": "markdown",
   "id": "493b1187",
   "metadata": {
    "papermill": {
     "duration": 0.067313,
     "end_time": "2022-05-25T17:25:52.442273",
     "exception": false,
     "start_time": "2022-05-25T17:25:52.374960",
     "status": "completed"
    },
    "tags": []
   },
   "source": [
    "# Day 10\n",
    "dataquest-> prob and stats -> probability fundamentals -> permutation and combinations\n",
    "- More generally, if the order of the elements in an arrangement doesn't matter, the arrangement is called a combination.\n",
    "- e.x: cards in a deck \n",
    "- nCk = n! / ((n-k)!*k!)"
   ]
  },
  {
   "cell_type": "markdown",
   "id": "9a6455ed",
   "metadata": {
    "papermill": {
     "duration": 0.067584,
     "end_time": "2022-05-25T17:25:52.577859",
     "exception": false,
     "start_time": "2022-05-25T17:25:52.510275",
     "status": "completed"
    },
    "tags": []
   },
   "source": [
    "# Day 11\n",
    "dataquest-> prob and stats -> probability fundamentals -> permutation and combinations\n",
    "- solved 1 probability problem.\n"
   ]
  },
  {
   "cell_type": "markdown",
   "id": "e6e32ebe",
   "metadata": {
    "papermill": {
     "duration": 0.068437,
     "end_time": "2022-05-25T17:25:52.714107",
     "exception": false,
     "start_time": "2022-05-25T17:25:52.645670",
     "status": "completed"
    },
    "tags": []
   },
   "source": [
    "# Day 12\n",
    "dataquest-> prob and stats -> probability fundamentals -> permutation and combinations\n",
    "- finished probability and permutations by revising them.\n",
    "- If we have an experiment E1 (like flipping a coin) with a outcomes, followed by an experiment E2(like rolling a die) with b outcomes, then the total number of outcomes for the compositeexperiment E1E2 can be found by multiplying a with b (this is known as the rule of product):\n",
    "  - number of outcomes = a*b\n",
    "- If we have an experiment E1 with a outcomes, followed by an experiment E2 with b outcomes,followed by an experiment En with z outcomes, the total number of outcomes for the compositeexperiment E1E2 ... En can be found by multiplying their individual outcomes:\n",
    "   - number of outcomes = a*b* ... *z\n",
    "- There are two kinds of arrangements:\n",
    "   - •Arrangements where the order matters, which we call permutations.\n",
    "   - •Arrangements where the order doesn't matter, which we call combination\n",
    "- To find the number of permutations when we're sampling without replacement, we can use theformula:\n",
    "  - permutation = n!\n",
    "- To find the number of permutations when we're sampling without replacement and taking only kobjects from a group of n objects, we can use the formula:\n",
    "  - nPk = n!/(n-k)!\n",
    "- To find the number of combinations when we're sampling without replacement and taking only kobjects from a group of n objects, we can use the formula\n",
    "  - nCk = n! / ((n-k)!*k!)"
   ]
  },
  {
   "cell_type": "markdown",
   "id": "66120566",
   "metadata": {
    "papermill": {
     "duration": 0.067229,
     "end_time": "2022-05-25T17:25:52.850364",
     "exception": false,
     "start_time": "2022-05-25T17:25:52.783135",
     "status": "completed"
    },
    "tags": []
   },
   "source": [
    "# Day 13\n",
    "dataquest-> prob and stats -> probability fundamentals -> conditional probabilities\n",
    "- first 2 slides -> mainly the recap of old chapter(above one).\n"
   ]
  },
  {
   "cell_type": "markdown",
   "id": "0fc3b656",
   "metadata": {
    "papermill": {
     "duration": 0.068765,
     "end_time": "2022-05-25T17:25:52.987887",
     "exception": false,
     "start_time": "2022-05-25T17:25:52.919122",
     "status": "completed"
    },
    "tags": []
   },
   "source": [
    "# Day 14\n",
    "dataquest-> prob and stats -> probability fundamentals -> conditional probabilities\n",
    "<br>slide 4 completed\n",
    "<br>conditional probabilities\n",
    "- probabilities with condition\n",
    "- P(5)=What is the probability of getting a 5? -> normal probability\n",
    "- P(5 | odd) =What is the probability of getting a 5 given the die showed an odd number? -> conditional prob.\n",
    "\n"
   ]
  },
  {
   "cell_type": "markdown",
   "id": "3acf4205",
   "metadata": {
    "papermill": {
     "duration": 0.068071,
     "end_time": "2022-05-25T17:25:53.125043",
     "exception": false,
     "start_time": "2022-05-25T17:25:53.056972",
     "status": "completed"
    },
    "tags": []
   },
   "source": [
    "# Day 15\n",
    "dataquest-> prob and stats -> probability fundamentals -> conditional probabilities\n",
    "- on slide 5 not done yet.\n",
    "\n",
    "Say we roll a fair six-sided die and want to find the probability of getting an odd number, given the die showed a number greater than 1 after landing. Using probability notation, we want to find P(A|B) where:\n",
    "\n",
    "- A is the event that the number is odd: A = {1, 3, 5}\n",
    "- B is the event that the number is greater than 1: B = {2, 3, 4, 5, 6}\n",
    "- P(A/B)=number of succesfull outcomes / total number of outcomes.\n"
   ]
  },
  {
   "cell_type": "markdown",
   "id": "3ab84a83",
   "metadata": {
    "papermill": {
     "duration": 0.069383,
     "end_time": "2022-05-25T17:25:53.262395",
     "exception": false,
     "start_time": "2022-05-25T17:25:53.193012",
     "status": "completed"
    },
    "tags": []
   },
   "source": [
    "# Day 16 and 17\n",
    "dataquest-> prob and stats -> probability fundamentals -> conditional probabilities\n",
    "\n",
    "on slide 6 not done yet."
   ]
  },
  {
   "cell_type": "markdown",
   "id": "baab54be",
   "metadata": {
    "papermill": {
     "duration": 0.067465,
     "end_time": "2022-05-25T17:25:53.397843",
     "exception": false,
     "start_time": "2022-05-25T17:25:53.330378",
     "status": "completed"
    },
    "tags": []
   },
   "source": [
    "# Day 18\n",
    "dataquest-> prob and stats -> probability fundamentals -> conditional probabilities\n",
    "<br>slide 5 code half done"
   ]
  },
  {
   "cell_type": "markdown",
   "id": "bb67e73d",
   "metadata": {
    "papermill": {
     "duration": 0.067687,
     "end_time": "2022-05-25T17:25:53.533341",
     "exception": false,
     "start_time": "2022-05-25T17:25:53.465654",
     "status": "completed"
    },
    "tags": []
   },
   "source": [
    "# Day 19\n",
    "- The number of elements in a set is called the cardinal of the set. \n",
    "  Ω is a set, and the cardinal of \n",
    "   Ω = { 2,3,4,5,6}\n",
    "   cardinal(Ω)=5\n",
    "- P(A | B) = card(A ∩ B) / card(B)\n",
    "- Say we roll a fair six-sided die and want to find the probability of getting an odd number, given the die showed a number greater than 1 after landing. Using probability notation, we want to find P(A|B) where:\n",
    "    - A is the event that the number is odd: A = {1, 3, 5}\n",
    "     - B is the event that the number is greater than 1: B = {2, 3, 4, 5, 6}\n",
    "     - total number of possible outcomes = card({2,3,4,5,6}) =5\n",
    "     - number of successful outcomes = card({3,5})= 2\n",
    "- P(A | B) = card(A ∩ B) / card(B), we can also get the same result using P(A | B) = prob(A ∩ B) / prob(B)\n",
    "\n",
    "     "
   ]
  },
  {
   "cell_type": "markdown",
   "id": "04e9019c",
   "metadata": {
    "papermill": {
     "duration": 0.067704,
     "end_time": "2022-05-25T17:25:53.669581",
     "exception": false,
     "start_time": "2022-05-25T17:25:53.601877",
     "status": "completed"
    },
    "tags": []
   },
   "source": [
    "# Day 20\n",
    "dataquest-> prob and stats -> probability fundamentals -> conditional probabilities intermediate\n",
    "<br> slide 1 and 2\n",
    "- P( A | B ) ≠ P(A ∩ B), but rather:\n",
    "   - P(A | B) = P(A ∩ B) / P(B)\n",
    "   - P(A ∩ B) = P(A | B) ⋅ P(B)\n",
    "- Given that a customer bought a laptop, they will or will not also buy a mouse. This means we can be certain that either event (M|L) or (M^C|L) will happen:\n",
    "     - P(M | L) + P(M^C | L) = 1\n",
    "\n"
   ]
  },
  {
   "cell_type": "markdown",
   "id": "73ba2f71",
   "metadata": {
    "papermill": {
     "duration": 0.068622,
     "end_time": "2022-05-25T17:25:53.807746",
     "exception": false,
     "start_time": "2022-05-25T17:25:53.739124",
     "status": "completed"
    },
    "tags": []
   },
   "source": [
    "# Day 21\n",
    "dataquest-> prob and stats -> probability fundamentals -> conditional probabilities intermediate\n",
    "slide 1 and 2\n",
    "- P(A ∩ B) = P(B ∩ A)\n",
    "- multiplication rule of probability\n",
    "  -  P(A ∩ B) = P(B) ⋅ P(A | B) \n",
    "  - P(A ∩ B) = P(A) ⋅ P(B | A)\n",
    "- if P(A) and P(B) are statistically independent then \n",
    "  - P(A ∩ B) = P(A) ⋅ P(B)\n",
    "\n"
   ]
  },
  {
   "cell_type": "markdown",
   "id": "5961cc06",
   "metadata": {
    "papermill": {
     "duration": 0.068521,
     "end_time": "2022-05-25T17:25:53.944494",
     "exception": false,
     "start_time": "2022-05-25T17:25:53.875973",
     "status": "completed"
    },
    "tags": []
   },
   "source": [
    "# Day 22\n",
    "dataquest-> prob and stats -> probability fundamentals -> conditional probabilities intermediate \n",
    "<br>slide 6\n",
    "- If events events A and B are dependent, it means the occurrence of event A changes the probability of event B and vice versa.\n",
    "   - P(A) ≠ P(A | B)\n",
    "   - P(B) ≠ P(B | A)\n",
    "   - P(A ∩ B) ≠ P(A) ⋅ P(B)\n",
    "   - formula will become P(A ∩ B) ≠ P(A) ⋅ P(B/A)\n",
    "   "
   ]
  },
  {
   "cell_type": "markdown",
   "id": "61f3095d",
   "metadata": {
    "papermill": {
     "duration": 0.068313,
     "end_time": "2022-05-25T17:25:54.082010",
     "exception": false,
     "start_time": "2022-05-25T17:25:54.013697",
     "status": "completed"
    },
    "tags": []
   },
   "source": [
    "# Day 23\n",
    "dataquest-> prob and stats -> probability fundamentals -> conditional probabilities intermediate\n",
    "<br>slide 7 to last\n",
    "- To find whether three events — A, B, C — are independent or not, below conditions must hold true -\n",
    "  - P(A ∩ B) ≠ P(A) ⋅ P(B)\n",
    "  - P(A ∩ C) ≠ P(A) ⋅ P(C)\n",
    "  - P(B ∩ C) ≠ P(B) ⋅ P(C)\n",
    "  - P(A ∩ B ∩ C) ≠ P(A) ⋅ P(B) . P(C)\n",
    "- multiplication rule for conditional probability or dependent events\n",
    " - P(A ∩ B ∩ C) = P(A) ⋅ P(B | A) ⋅ P(C | A ∩ B)\n",
    " \n",
    "\n"
   ]
  },
  {
   "cell_type": "markdown",
   "id": "ea29c136",
   "metadata": {
    "papermill": {
     "duration": 0.06686,
     "end_time": "2022-05-25T17:25:54.216559",
     "exception": false,
     "start_time": "2022-05-25T17:25:54.149699",
     "status": "completed"
    },
    "tags": []
   },
   "source": [
    "# Day 24\n",
    "dataquest-> prob and stats -> probability fundamentals -> bayes theorem\n",
    "<br>slide 1\n",
    "- independent -> one event is dependent on other\n",
    "   - P(A ∩ B) = P(A) ⋅ P(B/A)\n",
    "- independent -> one event is not dependent on other.\n",
    "   - P(A ∩ B) = P(A) ⋅ P(B)\n",
    "- mutually exclusive -> both the events cannot happen at the same time.\n",
    "   - P(A ∩ B) = 0\n",
    "\n"
   ]
  },
  {
   "cell_type": "markdown",
   "id": "0a70800c",
   "metadata": {
    "papermill": {
     "duration": 0.068866,
     "end_time": "2022-05-25T17:25:54.355858",
     "exception": false,
     "start_time": "2022-05-25T17:25:54.286992",
     "status": "completed"
    },
    "tags": []
   },
   "source": [
    "# Day 25\n",
    "dataquest-> prob and stats -> probability fundamentals -> bayes theorem\n",
    "<br>slide 2\n",
    "- If two events are exhaustive, it means they make up the whole sample space Ω\n",
    "  -  P(A) = P(A ∩ B) + P(A ∩ B^c)\n",
    "     P(A) = (P(B) * P(A/B)) +  (P(B^c) * P(A/B^c))\n",
    "     \n",
    "     "
   ]
  },
  {
   "cell_type": "markdown",
   "id": "1f62eefd",
   "metadata": {
    "papermill": {
     "duration": 0.069892,
     "end_time": "2022-05-25T17:25:54.493376",
     "exception": false,
     "start_time": "2022-05-25T17:25:54.423484",
     "status": "completed"
    },
    "tags": []
   },
   "source": [
    "# Day 26\n",
    "dataquest-> prob and stats -> probability fundamentals -> bayes theorem\n",
    "<br>slide 3 - last\n",
    "- the law of total probability\n",
    "  - P(A)  = (P(B1) * P(A/B1)) + (P(B2) * P(A/B2))+ ... + (P(Bn) * P(A/Bn)))\n",
    "  - P(A) =(summattion i=1 to n) P(Bi) ⋅ P(A|Bi)\n",
    "- Baye's theorem\n",
    "  - P(B | A) = (P(B) ⋅ P(A | B)) / (n ∑i=1 P(Bi) ⋅ P(A | Bi))\n",
    "- The probability of being infected with HIV before doing any test is called the prior probability (\"prior\" means \"before\"). The probability of being infected with HIV after testing positive is called the posterior probability (\"posterior\" means \"after\").\n",
    "\n",
    "\n",
    "  "
   ]
  },
  {
   "cell_type": "markdown",
   "id": "8917a2be",
   "metadata": {
    "papermill": {
     "duration": 0.06724,
     "end_time": "2022-05-25T17:25:54.628464",
     "exception": false,
     "start_time": "2022-05-25T17:25:54.561224",
     "status": "completed"
    },
    "tags": []
   },
   "source": [
    "# Day 27\n",
    "dataquest-> prob and stats -> probability fundamentals -> naive bayes theorem\n",
    "<br>slide 1 - \n",
    "P(Spam|w1,w2,w3,w4)∝P(Spam)⋅P(w1|Spam)⋅P(w2|Spam)⋅P(w3|Spam)⋅P(w4|Spam)P(SpamC|w1,w2,w3,w4)∝P(SpamC)⋅P(w1|SpamC)⋅P(w2|SpamC)⋅P(w3|SpamC)⋅P(w4|SpamC)"
   ]
  },
  {
   "cell_type": "markdown",
   "id": "f799c39a",
   "metadata": {
    "papermill": {
     "duration": 0.069907,
     "end_time": "2022-05-25T17:25:54.766389",
     "exception": false,
     "start_time": "2022-05-25T17:25:54.696482",
     "status": "completed"
    },
    "tags": []
   },
   "source": [
    "# Day 28\n",
    "dataquest-> prob and stats -> probability fundamentals -> naive bayes theorem\n",
    "<br>finished.\n",
    "<br>**Summary**\n",
    "- P(Spam|w1,w2,...,wn)∝P(Spam)⋅n∏i=1P(wi|Spam)\n",
    "- P(SpamC|w1,w2,...,wn)∝P(SpamC)⋅n∏i=1P(wi|SpamC)\n",
    "- To calculate P(wi|Spam) and P(wi|SpamC), we need to use the additive smoothing technique: \n",
    "- P ( w i | S p a m ) = (N w i | S p a m + α) / ( N S p a m + α ⋅ N V o c a b u l a r y )\n",
    "- P ( w i | S p a m C ) = (N w i | S p a m C + α) / ( N S p a m C + α ⋅ N V o c a b u l a r y )\n",
    "     - N w i | S p a m = the number of times the word w i occurs in spam messages \n",
    "     - N w i | S p a m C = the number of times the word w i occurs in non-spam messages \n",
    "     - N S p a m = total number of words in spam messages \n",
    "     - N S p a m C = total number of words in non-spam messages \n",
    "     - N V o c a b u l a r y = total number of words in the vocabulary \n",
    "     - α = 1 ( α is a smoothing parameter )\n",
    " - naive bayes theorem assumes that events are not dependent.\n",
    " - The assumption of conditional independence between words is thus naive since it rarely holds in practice, and this is why the algorithm is called Naive Bayes (also called simple Bayes or independence Bayes)."
   ]
  },
  {
   "cell_type": "markdown",
   "id": "31efd395",
   "metadata": {
    "papermill": {
     "duration": 0.067636,
     "end_time": "2022-05-25T17:25:54.902629",
     "exception": false,
     "start_time": "2022-05-25T17:25:54.834993",
     "status": "completed"
    },
    "tags": []
   },
   "source": [
    "# Day 29,30,31\n",
    "<br>dataquest-> prob and stats -> probability fundamentals -> conditional probability-> guided projects\n",
    "<br> in progress"
   ]
  },
  {
   "cell_type": "markdown",
   "id": "29329a7c",
   "metadata": {
    "papermill": {
     "duration": 0.068104,
     "end_time": "2022-05-25T17:25:55.040907",
     "exception": false,
     "start_time": "2022-05-25T17:25:54.972803",
     "status": "completed"
    },
    "tags": []
   },
   "source": [
    "# Day 32 and 33\n",
    "<br>dataquest-> prob and stats -> probability fundamentals -> guided projects\n",
    "<br> done"
   ]
  },
  {
   "cell_type": "markdown",
   "id": "b2a44245",
   "metadata": {
    "papermill": {
     "duration": 0.06733,
     "end_time": "2022-05-25T17:25:55.176443",
     "exception": false,
     "start_time": "2022-05-25T17:25:55.109113",
     "status": "completed"
    },
    "tags": []
   },
   "source": [
    "# Day 34\n",
    "<br>dataquest-> prob and stats -> probability fundamentals -> guided projects-> lottery prediction\n",
    "<br> done"
   ]
  },
  {
   "cell_type": "markdown",
   "id": "cbabdd42",
   "metadata": {
    "papermill": {
     "duration": 0.068596,
     "end_time": "2022-05-25T17:25:55.313611",
     "exception": false,
     "start_time": "2022-05-25T17:25:55.245015",
     "status": "completed"
    },
    "tags": []
   },
   "source": [
    "# Day 35\n",
    "<br>dataquest-> prob and stats -> hypothesis testing fundamentals -> significance testing\n",
    "<br> till slide 4\n",
    "- null hypothesis\n",
    "- alternate hypothesis\n"
   ]
  },
  {
   "cell_type": "markdown",
   "id": "9b110a06",
   "metadata": {
    "papermill": {
     "duration": 0.067408,
     "end_time": "2022-05-25T17:25:55.448712",
     "exception": false,
     "start_time": "2022-05-25T17:25:55.381304",
     "status": "completed"
    },
    "tags": []
   },
   "source": [
    "# Day 36 and 37\n",
    "<br>dataquest-> prob and stats -> hypothesis testing fundamentals -> significance testing\n",
    "- The permutation test is a statistical test that involves rerunning the study many times and recalculating the test statistic for each iteration. The goal is to calculate a distribution of the test statistics over these many iterations. This distribution is called the sampling distribution and it approximates the full range of possible test statistics under the null hypothesis\n",
    "\n"
   ]
  },
  {
   "cell_type": "markdown",
   "id": "b4dc57c2",
   "metadata": {
    "papermill": {
     "duration": 0.067279,
     "end_time": "2022-05-25T17:25:55.583783",
     "exception": false,
     "start_time": "2022-05-25T17:25:55.516504",
     "status": "completed"
    },
    "tags": []
   },
   "source": [
    "# Day 38\n",
    "<br>dataquest-> prob and stats -> hypothesis testing fundamentals -> significance testing\n",
    "<br>in progress."
   ]
  },
  {
   "cell_type": "markdown",
   "id": "4e76566f",
   "metadata": {
    "papermill": {
     "duration": 0.067553,
     "end_time": "2022-05-25T17:25:55.719069",
     "exception": false,
     "start_time": "2022-05-25T17:25:55.651516",
     "status": "completed"
    },
    "tags": []
   },
   "source": [
    "# Day 39\n",
    "<br>dataquest-> prob and stats -> hypothesis testing fundamentals -> significance testing\n",
    "<br>slide 5-6"
   ]
  },
  {
   "cell_type": "markdown",
   "id": "b0837c17",
   "metadata": {
    "papermill": {
     "duration": 0.068887,
     "end_time": "2022-05-25T17:25:55.856844",
     "exception": false,
     "start_time": "2022-05-25T17:25:55.787957",
     "status": "completed"
    },
    "tags": []
   },
   "source": [
    "# Day 40\n",
    "<br>dataquest-> prob and stats -> hypothesis testing fundamentals -> significance testing\n",
    "<br>slide 7"
   ]
  },
  {
   "cell_type": "markdown",
   "id": "b81e27ea",
   "metadata": {
    "papermill": {
     "duration": 0.069861,
     "end_time": "2022-05-25T17:25:55.997114",
     "exception": false,
     "start_time": "2022-05-25T17:25:55.927253",
     "status": "completed"
    },
    "tags": []
   },
   "source": [
    "# Day 41 and 42\n",
    "<br>dataquest-> prob and stats -> hypothesis testing fundamentals -> significance testing\n",
    "<br>slide 7 done and 8(p-value) strated"
   ]
  },
  {
   "cell_type": "markdown",
   "id": "87b40f8b",
   "metadata": {
    "papermill": {
     "duration": 0.067255,
     "end_time": "2022-05-25T17:25:56.132952",
     "exception": false,
     "start_time": "2022-05-25T17:25:56.065697",
     "status": "completed"
    },
    "tags": []
   },
   "source": [
    "# Day 43\n",
    "<br>dataquest-> prob and stats -> hypothesis testing fundamentals -> significance testing\n",
    "<br>\n",
    "- The first step is to decide a test statistic, which is a numerical value that summarizes the data and one we can use in statistical formulas. The test statistic runs a statistical test that determines whether the difference between the groups was due to random chance.\n",
    "  - e.x: mean \n",
    "- The permutation test is a statistical test that involves rerunning the study many times and recalculating the test statistic for each iteration.\n",
    "   - The goal is to calculate a distribution of the test statistics over these many iterations. This distribution is called the sampling distribution and it approximates the full range of possible test statistics under the null hypothesis.\n",
    "- If the p value is less than the threshold, we:\n",
    "    - reject the null hypothesis that there's no difference in the mean amount of weight lost by participants in both groups; and\n",
    "    - conclude that there is some evidence that the weight loss pill does affect the amount of weight people lost.\n",
    "\n",
    "- If the p value is greater than the threshold, we:\n",
    "    - fail to reject the null hypothesis that there's no difference in the mean amount of weight lost by participants in both groups,\n",
    "    - conclude that the weight loss pill doesn't seem to be effective in helping people lose weight.\n",
    "- usually used p-value threshold is 0.05\n",
    "- The p value threshold you set can also affect the conclusion you reach.\n",
    "    - If you set too high of a p value threshold, you may reject the null hypothesis incorrectly. This is known as a type I error.\n",
    "    - If you set too low of a p value threshold, you may fail to reject the null hypothesis incorrectly. This is known as a type II error."
   ]
  },
  {
   "cell_type": "markdown",
   "id": "5e8eed7e",
   "metadata": {
    "papermill": {
     "duration": 0.069068,
     "end_time": "2022-05-25T17:25:56.269543",
     "exception": false,
     "start_time": "2022-05-25T17:25:56.200475",
     "status": "completed"
    },
    "tags": []
   },
   "source": [
    "# Day 44\n",
    "<br>dataquest-> prob and stats -> hypothesis testing fundamentals -> significance testing-> chi squared test\n",
    "<br>1- 4\n",
    "- chi squared test is used for numerical values"
   ]
  },
  {
   "cell_type": "markdown",
   "id": "c34ea1d6",
   "metadata": {
    "papermill": {
     "duration": 0.068492,
     "end_time": "2022-05-25T17:25:56.406862",
     "exception": false,
     "start_time": "2022-05-25T17:25:56.338370",
     "status": "completed"
    },
    "tags": []
   },
   "source": [
    "# Day 45 and 46\n",
    "<br>dataquest-> prob and stats -> hypothesis testing fundamentals -> significance testing-> chi squared test\n",
    "<br>4- 6"
   ]
  },
  {
   "cell_type": "markdown",
   "id": "d9ad0a27",
   "metadata": {
    "papermill": {
     "duration": 0.068112,
     "end_time": "2022-05-25T17:25:56.543240",
     "exception": false,
     "start_time": "2022-05-25T17:25:56.475128",
     "status": "completed"
    },
    "tags": []
   },
   "source": [
    "# Day 47\n",
    "<br>dataquest-> prob and stats -> hypothesis testing fundamentals -> significance testing-> chi squared test\n",
    "<br> slide 6 done"
   ]
  },
  {
   "cell_type": "markdown",
   "id": "d877354b",
   "metadata": {
    "papermill": {
     "duration": 0.068068,
     "end_time": "2022-05-25T17:25:56.679470",
     "exception": false,
     "start_time": "2022-05-25T17:25:56.611402",
     "status": "completed"
    },
    "tags": []
   },
   "source": [
    "# Day 48\n",
    "<br> chi-squared values is that they get smaller as the sample size decreases.\n",
    "<br>**conclusion**\n",
    "- The chi-squared test enables us to quantify the difference between sets of observed and expected categorical values to determine statistical significance\n",
    "- chi squared = (observed - expected)**2 / expected\n",
    "- A p-value allows us to determine whether the difference between 2 values is due to chance, or due to an underlying difference.\n",
    "- Chi-squared values increase as sample size increases, but the chance of getting a high chi-squared value decreases as the sample gets larger.\n",
    "- A degree of freedom is the number of values that can vary without the other values being\"locked in\". \n",
    "- scipy https://docs.scipy.org/doc/scipy/reference/generated/scipy.stats.mstats.chisquare.html\n"
   ]
  },
  {
   "cell_type": "markdown",
   "id": "2c6bf129",
   "metadata": {
    "papermill": {
     "duration": 0.068392,
     "end_time": "2022-05-25T17:25:56.816836",
     "exception": false,
     "start_time": "2022-05-25T17:25:56.748444",
     "status": "completed"
    },
    "tags": []
   },
   "source": [
    "# Day 49\n",
    "<br>dataquest-> prob and stats -> hypothesis testing fundamentals -> significance testing-> multi category chi squared test\n",
    "<br> slide 1 done\n",
    "- We can apply the multi category chi-squared test (also known as the chi-squared test of association) to figure out if there's a statistically significant correlation between two categorical columns.\n",
    "- "
   ]
  },
  {
   "cell_type": "markdown",
   "id": "3968eacd",
   "metadata": {
    "papermill": {
     "duration": 0.068535,
     "end_time": "2022-05-25T17:25:56.953795",
     "exception": false,
     "start_time": "2022-05-25T17:25:56.885260",
     "status": "completed"
    },
    "tags": []
   },
   "source": [
    " **Day 50**\n",
    "<br>dataquest-> prob and stats -> hypothesis testing fundamentals -> significance testing-> multi category chi squared test\n",
    "# Conclusion:\n",
    "- In a multiple category chi-squared test, we calculate expected values across our whole dataset.\n",
    "- We can calculate the chi-squared value by using the following steps:\n",
    "    - Subtract the expected value from the observed value.\n",
    "    - Subtract the difference.\n",
    "    - Divide the squared difference by the expected value.\n",
    "    - Repeat for all observed and expected values and add up all the values.\n",
    "- ∑ expected(observed−expected)**2 / expected\n",
    "- Discovering that a result isn't significant doesn't mean that no association between the columnsexists. Discovering a statistically significant result doesn't imply anything about what thecorrelation is.\n",
    "- Chi-squared tests can only be applied when each possibility within a category is independen.\n",
    "    - we have categories like male or female not both. single row has either male or female not both at a time.\n",
    "- https://docs.scipy.org/doc/scipy-0.15.1/reference/generated/scipy.stats.chi2_contingency.html\n",
    "- https://pandas.pydata.org/pandas-docs/stable/generated/pandas.crosstab.html\n"
   ]
  },
  {
   "cell_type": "markdown",
   "id": "20a3bb72",
   "metadata": {
    "papermill": {
     "duration": 0.067218,
     "end_time": "2022-05-25T17:25:57.089575",
     "exception": false,
     "start_time": "2022-05-25T17:25:57.022357",
     "status": "completed"
    },
    "tags": []
   },
   "source": [
    "# **Day 51, 52**\n",
    "<br>dataquest-> prob and stats -> hypothesis testing fundamentals -> significance testing-> guided project\n",
    "<br>in progress."
   ]
  },
  {
   "cell_type": "markdown",
   "id": "70cfd6c2",
   "metadata": {
    "papermill": {
     "duration": 0.067214,
     "end_time": "2022-05-25T17:25:57.224124",
     "exception": false,
     "start_time": "2022-05-25T17:25:57.156910",
     "status": "completed"
    },
    "tags": []
   },
   "source": [
    "# **Day 53**\n",
    "<br>dataquest-> prob and stats -> hypothesis testing fundamentals -> significance testing-> guided project\n",
    "<br>done"
   ]
  },
  {
   "cell_type": "markdown",
   "id": "bed2386b",
   "metadata": {
    "papermill": {
     "duration": 0.06873,
     "end_time": "2022-05-25T17:25:57.362415",
     "exception": false,
     "start_time": "2022-05-25T17:25:57.293685",
     "status": "completed"
    },
    "tags": []
   },
   "source": [
    "# **Day 54,55, 56,57, 58, 59**\n",
    "interviewbit-> probability-> conditional probability\n",
    "1. You asked your three friends whether it will rain or not and all three affirmed for rain. All three have the probability of 1/3 of lying. What is the probability that it will actually rain?\n",
    "- https://www.geeksforgeeks.org/puzzle-is-it-raining/#:~:text=Explanation%3A,truth%20or%20all%20are%20lying.&text=So%2C%20it%20is%20approximately%2089,it%20is%20raining%20in%20Hyderabad.\n",
    "2. Anshul and Deven take turns in rolling a fair six-sided die. Whoever rolls a “6” first wins the game. Deven starts by rolling first. What’s the probability that Anshul wins?\n",
    "- https://www.quora.com/A-and-B-throw-a-Fair-die-one-after-another-Whoever-throws-6-first-wins-What-is-the-probability-that-A-wins\n",
    "\n",
    "3. You have a bag with 6 marbles. One marble is white. You reach the bag 100 times. After taking out a marble, it is placed back in the bag. What is the probability of drawing a white marble at least once?\n",
    "- https://brainly.com/question/14376470\n",
    "- Answer:\n",
    "\n",
    "0.999999988\n",
    "\n",
    "Step-by-step explanation:\n",
    "\n",
    "Given that you  have a bag with 6 marbles. One marble is white. You reach the bag 100 times. After taking out a marble, it is placed back in the bag.\n",
    "\n",
    "Because every time you replace the marble drawn, the probability for drawing a white marble in one draw is constant = p =5/6\n",
    "\n",
    "No of trials n = 100\n",
    "\n",
    "Here X no of times white marble is drawn is Binomial since there are two outcomes and also the probability is constant.\n",
    "\n",
    "the probability of drawing a white marble at least once\n",
    "\n",
    "=\n",
    "\n",
    "Required probability is almost 1.\n",
    "\n",
    "\n",
    "4. Supposedly a friend of yours has 2 children and at least one of them is a boy. What is the probability that the other is also a boy?\n",
    "- If at least one is a boy, there are three possible equally likely gender assignations of two siblings. boy-boy, boy-girl,\n",
    "\n",
    " or girl-boy. Only 1 in 3 cases or 33 percent are both boys. The lesson here is that when considering equally likely scenarios\n",
    "\n",
    " we must consider birth order. If the birth order of the boy is not specified – i.e. if we don’t know if he is the eldest or \n",
    "\n",
    " the youngest – the probability of two boys drops to 1 in 3.\n",
    " \n",
    "5. A single card is drawn from a standard deck of playing cards. What is the probability that the card is a queen provided that a face card is drawn from the deck of cards?\n",
    "- 4/12 = 1/3\n",
    " \n",
    "6. random variables Q1,2\n",
    "7. 5 questions\n",
    "8. bayes theorem first 2\n",
    "\n",
    "**Day 60**\n",
    "- inferential statistics - 3 questions\n",
    "**Day 61**\n",
    "- inferential statistics - central limit theorem done\n",
    "\n",
    "**Day 62**\n",
    "- inferential statistics - distribution analysis multivariate done\n",
    "\n",
    "**Day 63**\n",
    "- inferential statistics -  done\n",
    "\n",
    "**Day 64,65, 66**\n",
    "- Data Analysis-  wip\n",
    "\n",
    "**Day 67**\n",
    "- Data Analysis-  web scrapping done\n",
    "\n",
    "**Day 68**\n",
    "- Data Analysis-  descriptive statistics tutorial done\n",
    "\n",
    "**Day 69**\n",
    "- Data Analysis-  probability tutorial done\n",
    "\n",
    "**Day 70**\n",
    "- Data Analysis-  hypothesis testing wip\n",
    "\n",
    "**Day 71**\n",
    "- Data Analysis-  inferential statistics tutorials - done\n",
    "\n",
    "**Day 72**\n",
    "- Data Analysis-  inferential statistics tutorials - done\n",
    "\n",
    "**Day 73**\n",
    "- Data Analysis-  data analysis tutorials - wip\n",
    "\n",
    "**Day 74**\n",
    "\n",
    "**Interview Prep:**\n",
    "1. clustering evaluation techniques:\n",
    "- https://towardsdatascience.com/clustering-evaluation-strategies-98a4006fcfc\n",
    "\n",
    "**Day 75**\n",
    "\n",
    "2. feature selection\n",
    "- https://www.analyticsvidhya.com/blog/2016/12/introduction-to-feature-selection-methods-with-an-example-or-how-to-select-the-right-variables/\n",
    "\n",
    "**Day 76**\n",
    "\n",
    "2. linear regression\n",
    "- https://towardsdatascience.com/introduction-to-machine-learning-algorithms-linear-regression-14c4e325882a and also data camp"
   ]
  },
  {
   "cell_type": "markdown",
   "id": "097830d7",
   "metadata": {
    "papermill": {
     "duration": 0.067852,
     "end_time": "2022-05-25T17:25:57.498065",
     "exception": false,
     "start_time": "2022-05-25T17:25:57.430213",
     "status": "completed"
    },
    "tags": []
   },
   "source": []
  },
  {
   "cell_type": "code",
   "execution_count": null,
   "id": "d2ca1394",
   "metadata": {
    "papermill": {
     "duration": 0.067228,
     "end_time": "2022-05-25T17:25:57.632898",
     "exception": false,
     "start_time": "2022-05-25T17:25:57.565670",
     "status": "completed"
    },
    "tags": []
   },
   "outputs": [],
   "source": []
  },
  {
   "cell_type": "code",
   "execution_count": 2,
   "id": "11890ee8",
   "metadata": {
    "execution": {
     "iopub.execute_input": "2022-05-25T17:25:57.773465Z",
     "iopub.status.busy": "2022-05-25T17:25:57.772452Z",
     "iopub.status.idle": "2022-05-25T17:25:57.775105Z",
     "shell.execute_reply": "2022-05-25T17:25:57.774506Z",
     "shell.execute_reply.started": "2022-04-12T14:17:49.333113Z"
    },
    "papermill": {
     "duration": 0.074944,
     "end_time": "2022-05-25T17:25:57.775248",
     "exception": false,
     "start_time": "2022-05-25T17:25:57.700304",
     "status": "completed"
    },
    "tags": []
   },
   "outputs": [],
   "source": [
    "# !pip install PyMuPDF"
   ]
  },
  {
   "cell_type": "code",
   "execution_count": 3,
   "id": "736f101d",
   "metadata": {
    "execution": {
     "iopub.execute_input": "2022-05-25T17:25:57.916992Z",
     "iopub.status.busy": "2022-05-25T17:25:57.916042Z",
     "iopub.status.idle": "2022-05-25T17:25:57.918643Z",
     "shell.execute_reply": "2022-05-25T17:25:57.919276Z",
     "shell.execute_reply.started": "2022-04-12T14:19:20.437905Z"
    },
    "papermill": {
     "duration": 0.075934,
     "end_time": "2022-05-25T17:25:57.919459",
     "exception": false,
     "start_time": "2022-05-25T17:25:57.843525",
     "status": "completed"
    },
    "tags": []
   },
   "outputs": [],
   "source": [
    " \n",
    "# fitz.__version__"
   ]
  },
  {
   "cell_type": "code",
   "execution_count": 4,
   "id": "05f76463",
   "metadata": {
    "execution": {
     "iopub.execute_input": "2022-05-25T17:25:58.061548Z",
     "iopub.status.busy": "2022-05-25T17:25:58.060483Z",
     "iopub.status.idle": "2022-05-25T17:25:58.063782Z",
     "shell.execute_reply": "2022-05-25T17:25:58.064368Z",
     "shell.execute_reply.started": "2022-04-12T14:23:59.687259Z"
    },
    "papermill": {
     "duration": 0.076553,
     "end_time": "2022-05-25T17:25:58.064525",
     "exception": false,
     "start_time": "2022-05-25T17:25:57.987972",
     "status": "completed"
    },
    "tags": []
   },
   "outputs": [],
   "source": [
    "# !python -m spacy download en_core_web_sm"
   ]
  },
  {
   "cell_type": "code",
   "execution_count": null,
   "id": "15cfebd0",
   "metadata": {
    "papermill": {
     "duration": 0.067247,
     "end_time": "2022-05-25T17:25:58.199542",
     "exception": false,
     "start_time": "2022-05-25T17:25:58.132295",
     "status": "completed"
    },
    "tags": []
   },
   "outputs": [],
   "source": []
  },
  {
   "cell_type": "code",
   "execution_count": 5,
   "id": "cd5dd077",
   "metadata": {
    "execution": {
     "iopub.execute_input": "2022-05-25T17:25:58.341574Z",
     "iopub.status.busy": "2022-05-25T17:25:58.340626Z",
     "iopub.status.idle": "2022-05-25T17:25:58.344302Z",
     "shell.execute_reply": "2022-05-25T17:25:58.344846Z",
     "shell.execute_reply.started": "2022-04-12T14:18:25.912243Z"
    },
    "papermill": {
     "duration": 0.077252,
     "end_time": "2022-05-25T17:25:58.345030",
     "exception": false,
     "start_time": "2022-05-25T17:25:58.267778",
     "status": "completed"
    },
    "tags": []
   },
   "outputs": [],
   "source": [
    "# import fitz\n",
    "# import spacy\n",
    "# import re\n",
    "# from pathlib import Path\n",
    "# import requests\n",
    "# import os"
   ]
  },
  {
   "cell_type": "code",
   "execution_count": 6,
   "id": "a4855797",
   "metadata": {
    "execution": {
     "iopub.execute_input": "2022-05-25T17:25:58.485316Z",
     "iopub.status.busy": "2022-05-25T17:25:58.484325Z",
     "iopub.status.idle": "2022-05-25T17:25:58.488419Z",
     "shell.execute_reply": "2022-05-25T17:25:58.488963Z",
     "shell.execute_reply.started": "2022-04-12T15:03:43.5897Z"
    },
    "papermill": {
     "duration": 0.075663,
     "end_time": "2022-05-25T17:25:58.489122",
     "exception": false,
     "start_time": "2022-05-25T17:25:58.413459",
     "status": "completed"
    },
    "tags": []
   },
   "outputs": [],
   "source": [
    "# sql_db_json = [\n",
    "#   {\n",
    "#     \"document_id\": \"1\",\n",
    "#     \"area\": \"[72.1149,661.2966,131.95729,675.1716]\",\n",
    "#     \"page\": \"3\",\n",
    "#     \"text_\": \"Background\",\n",
    "#     \"type_of_selection\": \"Text\",\n",
    "#     \"entity_type\": \"name\",\n",
    "#     \"link\": \"https://redactable-devox-stage.s3.us-east-2.amazonaws.com/tenants/41d9e109-693b-444c-aa18-e5891bc6550b/original/1a7c0e5d-3237-4ca9-9e3d-89e707245ac6/D8communications.pdf\"\n",
    "#   },\n",
    "#   {\n",
    "#     \"document_id\": \"1\",\n",
    "#     \"area\": \"[290.55386,632.0173,322.14685,645.8923]\",\n",
    "#     \"page\": \"2\",\n",
    "#     \"text_\": \"INDEX\",\n",
    "#     \"type_of_selection\": \"Text\",\n",
    "#     \"entity_type\": \"address\",\n",
    "#     \"link\": \"https://redactable-devox-stage.s3.us-east-2.amazonaws.com/tenants/41d9e109-693b-444c-aa18-e5891bc6550b/original/1a7c0e5d-3237-4ca9-9e3d-89e707245ac6/D8communications.pdf\"\n",
    "#   }\n",
    "# ]"
   ]
  },
  {
   "cell_type": "code",
   "execution_count": 7,
   "id": "a3d06375",
   "metadata": {
    "execution": {
     "iopub.execute_input": "2022-05-25T17:25:58.628358Z",
     "iopub.status.busy": "2022-05-25T17:25:58.627363Z",
     "iopub.status.idle": "2022-05-25T17:25:58.630962Z",
     "shell.execute_reply": "2022-05-25T17:25:58.631415Z",
     "shell.execute_reply.started": "2022-04-12T13:17:19.452695Z"
    },
    "papermill": {
     "duration": 0.074394,
     "end_time": "2022-05-25T17:25:58.631579",
     "exception": false,
     "start_time": "2022-05-25T17:25:58.557185",
     "status": "completed"
    },
    "tags": []
   },
   "outputs": [],
   "source": [
    "# l=pd.DataFrame()\n",
    "# k=(1, '[290.55386,632.0173,322.14685,645.8923]', 2, 'INDEX', 'Text', 'address', 'https://redactable-devox-s')\n",
    "# k\n"
   ]
  },
  {
   "cell_type": "code",
   "execution_count": 8,
   "id": "5787759e",
   "metadata": {
    "execution": {
     "iopub.execute_input": "2022-05-25T17:25:58.771663Z",
     "iopub.status.busy": "2022-05-25T17:25:58.770914Z",
     "iopub.status.idle": "2022-05-25T17:25:58.773584Z",
     "shell.execute_reply": "2022-05-25T17:25:58.774033Z",
     "shell.execute_reply.started": "2022-04-12T16:09:33.708631Z"
    },
    "papermill": {
     "duration": 0.074962,
     "end_time": "2022-05-25T17:25:58.774194",
     "exception": false,
     "start_time": "2022-05-25T17:25:58.699232",
     "status": "completed"
    },
    "tags": []
   },
   "outputs": [],
   "source": [
    "# co=[\"document_id\",\"area\",\"page\",\"text_\",\"type_of_selection\",\"entity_type\",\"link\"]\n",
    "# val= [(1,'[72.1149,661.2966,131.95729,675.1716]',3,'Background','Text','name' ,'https://redactable-devox-stage.s3.us-east-2.am'), (1,  '[290.55386,632.0173,322.14685,645.8923]',2,'INDEX', 'Text','address','https://redactable-devox-stage.s3.us-east-2.am')]\n",
    "\n",
    "# df=pd.DataFrame(val,columns=[co])\n",
    "# #df.iloc[1] =[1,  '[290.55386,632.0173,322.14685,645.8923]',2,'INDEX', 'Text','address','https://redactable-devox-stage.s3.us-east-2.am']\n",
    "# df"
   ]
  },
  {
   "cell_type": "code",
   "execution_count": 9,
   "id": "1c7724d7",
   "metadata": {
    "execution": {
     "iopub.execute_input": "2022-05-25T17:25:58.914284Z",
     "iopub.status.busy": "2022-05-25T17:25:58.913591Z",
     "iopub.status.idle": "2022-05-25T17:25:58.916437Z",
     "shell.execute_reply": "2022-05-25T17:25:58.916894Z",
     "shell.execute_reply.started": "2022-04-12T16:18:22.595374Z"
    },
    "papermill": {
     "duration": 0.075231,
     "end_time": "2022-05-25T17:25:58.917059",
     "exception": false,
     "start_time": "2022-05-25T17:25:58.841828",
     "status": "completed"
    },
    "tags": []
   },
   "outputs": [],
   "source": [
    "# prev=[]\n",
    "# for data,row in df.iterrows():\n",
    "#     if row['document_id'] not in prev:\n",
    "#         prev.append(row['document_id'])\n",
    "#         print('hey')"
   ]
  },
  {
   "cell_type": "code",
   "execution_count": 10,
   "id": "4d784d66",
   "metadata": {
    "execution": {
     "iopub.execute_input": "2022-05-25T17:25:59.059571Z",
     "iopub.status.busy": "2022-05-25T17:25:59.058902Z",
     "iopub.status.idle": "2022-05-25T17:25:59.060902Z",
     "shell.execute_reply": "2022-05-25T17:25:59.061485Z",
     "shell.execute_reply.started": "2022-04-12T15:03:48.248836Z"
    },
    "papermill": {
     "duration": 0.076478,
     "end_time": "2022-05-25T17:25:59.061651",
     "exception": false,
     "start_time": "2022-05-25T17:25:58.985173",
     "status": "completed"
    },
    "tags": []
   },
   "outputs": [],
   "source": [
    "# nlp = spacy.load('en_core_web_sm')\n",
    "# train_data = []\n",
    "\n",
    "# prev_doc_id = ''\n",
    "# i=0\n",
    "# temp='/kaggle/working'\n",
    "\n",
    "# for data in sql_db_json:\n",
    "#     if data['type_of_selection'] == 'Text':\n",
    "#         document_id = data['document_id']\n",
    "#         x1,y1,x2,y2 = data['area'][1:-1].split(',')\n",
    "#         url = data['link']\n",
    "#         page_no = int(data['page']) - 1 \n",
    "#         label = data['entity_type']\n",
    "#         filename = url.split('/')[-1]\n",
    "    \n",
    "#         #download the file to temp folder\n",
    "#         outpath = os.path.join(temp,filename)\n",
    "\n",
    "#         if document_id == prev_doc_id:\n",
    "#             pass\n",
    "#         else: \n",
    "#             i+=1\n",
    "#             print(i)\n",
    "#             response = requests.get(url)\n",
    "#             with open(outpath, \"wb\") as binary_file:\n",
    "#                 binary_file.write(response.content)\n",
    "\n",
    "#         doc = fitz.open(outpath)  # any supported document type\n",
    "#         page = doc[page_no]  # we want text from this page\n",
    "#         print('page dimension - ', page.rect.width, page.rect.height)\n",
    "\n",
    "#         #The co-ordinates in the DB are image co-ords. W.r.t pdf, y1 and y2 has to be interchanged.\n",
    "#         #To ensure entire word to be selected, slight correction in x1,y1,x2,y2 is done.\n",
    "\n",
    "#         rect = [float(x1)-2, 792 - float(y2)-2, float(x2)+2, 792 - float(y1)+2]\n",
    "#         print(rect)\n",
    "#         labelled_text = page.get_textbox(rect)\n",
    "\n",
    "#         #Removing all unprintable characters from the text\n",
    "#         string = re.sub('[^0-9a-zA-Z@?|\\/<>.,()&^%$#!]+', ' ', labelled_text)\n",
    "#         print('string : ', string)\n",
    "\n",
    "#         fulltext = page.get_text()\n",
    "#         doc = nlp(fulltext)\n",
    "\n",
    "#         sentences = []\n",
    "#         for sent in doc.sents:\n",
    "#             if string.strip() in sent.text:\n",
    "#                 text = re.sub('[^0-9a-zA-Z@?|\\/<>.,()&^%$#!]+', ' ', sent.text)\n",
    "\n",
    "#         res = re.search(string.strip(), text)\n",
    "\n",
    "#         entities = []\n",
    "#         entities.append((res.start(),res.end(),label))\n",
    "\n",
    "#         train_data.append((text,{'entities':entities}))\n",
    "\n",
    "# print('Training data in spacy format')\n",
    "# print('*****************************')\n",
    "# for i in range(0,len(train_data)):\n",
    "#     print(train_data[i])"
   ]
  },
  {
   "cell_type": "code",
   "execution_count": null,
   "id": "73717619",
   "metadata": {
    "papermill": {
     "duration": 0.070901,
     "end_time": "2022-05-25T17:25:59.200484",
     "exception": false,
     "start_time": "2022-05-25T17:25:59.129583",
     "status": "completed"
    },
    "tags": []
   },
   "outputs": [],
   "source": []
  },
  {
   "cell_type": "code",
   "execution_count": 11,
   "id": "c423ce9f",
   "metadata": {
    "execution": {
     "iopub.execute_input": "2022-05-25T17:25:59.345132Z",
     "iopub.status.busy": "2022-05-25T17:25:59.344082Z",
     "iopub.status.idle": "2022-05-25T17:25:59.349281Z",
     "shell.execute_reply": "2022-05-25T17:25:59.349817Z",
     "shell.execute_reply.started": "2022-04-12T11:44:59.253637Z"
    },
    "papermill": {
     "duration": 0.07782,
     "end_time": "2022-05-25T17:25:59.349978",
     "exception": false,
     "start_time": "2022-05-25T17:25:59.272158",
     "status": "completed"
    },
    "tags": []
   },
   "outputs": [],
   "source": [
    "# nlp = spacy.load('en_core_web_sm')\n",
    "# train_data = []\n",
    "\n",
    "# prev_doc_id = ''\n",
    "# temp='/kaggle/working'\n",
    "# i=0\n",
    "# for data in sql_db_json:\n",
    "#     if data['type_of_selection'] == 'Text':\n",
    "#         document_id = data['document_id']\n",
    "#         x1,y1,x2,y2 = data['area'][1:-1].split(',')\n",
    "#         url = data['link']\n",
    "#         page_no = int(data['page']) - 1 \n",
    "#         label = data['entity_type']\n",
    "#         filename = url.split('/')[-1]\n",
    "    \n",
    "#         #download the file to temp folder\n",
    "#         i+=1\n",
    "#         print(i)\n",
    "#         response = requests.get(url)\n",
    "#         doc = fitz.open(stream=response.content,filetype=\"pdf\")  # any supported document type\n",
    "#         page = doc[page_no]  # we want text from this page\n",
    "#         print('page dimension - ', page.rect.width, page.rect.height)\n",
    "\n",
    "#         #The co-ordinates in the DB are image co-ords. W.r.t pdf, y1 and y2 has to be interchanged.\n",
    "#         #To ensure entire word to be selected, slight correction in x1,y1,x2,y2 is done.\n",
    "\n",
    "#         rect = [float(x1)-2, 792 - float(y2)-2, float(x2)+2, 792 - float(y1)+2]\n",
    "#         print(rect)\n",
    "#         labelled_text = page.get_textbox(rect)\n",
    "\n",
    "#         #Removing all unprintable characters from the text\n",
    "#         string = re.sub('[^0-9a-zA-Z@?|\\/<>.,()&^%$#!]+', ' ', labelled_text)\n",
    "#         print('string : ', string)\n",
    "\n",
    "#         fulltext = page.get_text()\n",
    "#         doc = nlp(fulltext)\n",
    "\n",
    "#         sentences = []\n",
    "#         for sent in doc.sents:\n",
    "#             if string.strip() in sent.text:\n",
    "#                 text = re.sub('[^0-9a-zA-Z@?|\\/<>.,()&^%$#!]+', ' ', sent.text)\n",
    "\n",
    "#         res = re.search(string.strip(), text)\n",
    "\n",
    "#         entities = []\n",
    "#         entities.append((res.start(),res.end(),label))\n",
    "\n",
    "#         train_data.append((text,{'entities':entities}))\n",
    "\n",
    "# print('Training data in spacy format')\n",
    "# print('*****************************')\n",
    "# for i in range(0,len(train_data)):\n",
    "#     print(train_data[i])"
   ]
  },
  {
   "cell_type": "code",
   "execution_count": 12,
   "id": "98271f04",
   "metadata": {
    "execution": {
     "iopub.execute_input": "2022-05-25T17:25:59.490984Z",
     "iopub.status.busy": "2022-05-25T17:25:59.489297Z",
     "iopub.status.idle": "2022-05-25T17:25:59.492594Z",
     "shell.execute_reply": "2022-05-25T17:25:59.493256Z"
    },
    "papermill": {
     "duration": 0.075168,
     "end_time": "2022-05-25T17:25:59.493421",
     "exception": false,
     "start_time": "2022-05-25T17:25:59.418253",
     "status": "completed"
    },
    "tags": []
   },
   "outputs": [],
   "source": [
    "# page dimension -  612.0 792.0\n",
    "# [70.1149, 114.82839999999999, 133.95729, 132.7034]\n",
    "# string :  Background\n",
    "# page dimension -  612.0 792.0\n",
    "# [288.55386, 144.10770000000002, 324.14685, 161.98270000000002]\n",
    "# string :  INDEX\n",
    "# Training data in spacy format\n",
    "# *****************************\n",
    "# (' 3 Background The Blue Ribbon Committee was created by the Mayor to assess various city communication methods and recommend opportunities to improve communications with residents, businesses and other organizations.', {'entities': [(3, 13, 'name')]})\n",
    "# (' 2 INDEX Background Pg. 3 Purpose Pg. 3 Process .', {'entities': [(3, 8, 'address')]})"
   ]
  },
  {
   "cell_type": "code",
   "execution_count": 13,
   "id": "da51464d",
   "metadata": {
    "execution": {
     "iopub.execute_input": "2022-05-25T17:25:59.635111Z",
     "iopub.status.busy": "2022-05-25T17:25:59.633191Z",
     "iopub.status.idle": "2022-05-25T17:25:59.636806Z",
     "shell.execute_reply": "2022-05-25T17:25:59.637368Z",
     "shell.execute_reply.started": "2022-04-11T16:35:29.609712Z"
    },
    "papermill": {
     "duration": 0.076016,
     "end_time": "2022-05-25T17:25:59.637540",
     "exception": false,
     "start_time": "2022-05-25T17:25:59.561524",
     "status": "completed"
    },
    "tags": []
   },
   "outputs": [],
   "source": [
    "# nlp = spacy.load('en_core_web_sm')\n",
    "# outpath=r'/kaggle/input/sample-pdf/D8communications.pdf'\n",
    "# doc = fitz.open(outpath)  # any supported document type\n",
    "# page_no=3\n",
    "# page = doc[page_no-1]\n",
    "\n",
    "# x1,y1,x2,y2=(72.1149,661.2966,131.95729,675.1716)\n",
    "\n",
    "# rect = [float(x1)-2, 792 - float(y2)-2, float(x2)+2, 792 - float(y1)+2]\n",
    "# print(rect)\n",
    "# labelled_text = page.get_textbox(rect)\n",
    "# string = re.sub('[^0-9a-zA-Z@?|\\/<>.,()&^%$#!]+', ' ', labelled_text)\n",
    "# print('string : ', string)\n",
    "\n",
    "# fulltext = page.get_text()\n",
    "# doc = nlp(fulltext)\n",
    "\n",
    "# sentences = []\n",
    "# for sent in doc.sents:\n",
    "#             if string.strip() in sent.text:\n",
    "#                 text = re.sub('[^0-9a-zA-Z@?|\\/<>.,()&^%$#!]+', ' ', sent.text)\n",
    "\n",
    "#         res = re.search(string.strip(), text)\n",
    "\n",
    "#         entities = []\n",
    "#         entities.append((res.start(),res.end(),label))\n",
    "\n",
    "#         train_data.append((text,{'entities':entities}))\n",
    "\n"
   ]
  },
  {
   "cell_type": "code",
   "execution_count": 14,
   "id": "b943ff3f",
   "metadata": {
    "execution": {
     "iopub.execute_input": "2022-05-25T17:25:59.777651Z",
     "iopub.status.busy": "2022-05-25T17:25:59.777076Z",
     "iopub.status.idle": "2022-05-25T17:25:59.780097Z",
     "shell.execute_reply": "2022-05-25T17:25:59.780663Z",
     "shell.execute_reply.started": "2022-04-11T16:35:41.679947Z"
    },
    "papermill": {
     "duration": 0.075254,
     "end_time": "2022-05-25T17:25:59.780868",
     "exception": false,
     "start_time": "2022-05-25T17:25:59.705614",
     "status": "completed"
    },
    "tags": []
   },
   "outputs": [],
   "source": [
    "#doc"
   ]
  },
  {
   "cell_type": "code",
   "execution_count": 15,
   "id": "5c1d9d87",
   "metadata": {
    "execution": {
     "iopub.execute_input": "2022-05-25T17:25:59.921018Z",
     "iopub.status.busy": "2022-05-25T17:25:59.920348Z",
     "iopub.status.idle": "2022-05-25T17:25:59.922982Z",
     "shell.execute_reply": "2022-05-25T17:25:59.923545Z",
     "shell.execute_reply.started": "2022-04-11T16:35:56.010353Z"
    },
    "papermill": {
     "duration": 0.075261,
     "end_time": "2022-05-25T17:25:59.923700",
     "exception": false,
     "start_time": "2022-05-25T17:25:59.848439",
     "status": "completed"
    },
    "tags": []
   },
   "outputs": [],
   "source": [
    "# sentences = []\n",
    "# for sent in doc.sents:\n",
    "#     if string.strip() in sent.text:\n",
    "#         text = re.sub('[^0-9a-zA-Z@?|\\/<>.,()&^%$#!]+', ' ', sent.text)"
   ]
  },
  {
   "cell_type": "code",
   "execution_count": 16,
   "id": "75962342",
   "metadata": {
    "execution": {
     "iopub.execute_input": "2022-05-25T17:26:00.062862Z",
     "iopub.status.busy": "2022-05-25T17:26:00.062234Z",
     "iopub.status.idle": "2022-05-25T17:26:00.064838Z",
     "shell.execute_reply": "2022-05-25T17:26:00.065441Z",
     "shell.execute_reply.started": "2022-04-11T16:39:04.736143Z"
    },
    "papermill": {
     "duration": 0.073413,
     "end_time": "2022-05-25T17:26:00.065598",
     "exception": false,
     "start_time": "2022-05-25T17:25:59.992185",
     "status": "completed"
    },
    "tags": []
   },
   "outputs": [],
   "source": [
    "# k=nlp(\"he             kenny\")\n",
    "# for sent in k.sents:\n",
    "#     print(sent)"
   ]
  },
  {
   "cell_type": "code",
   "execution_count": 17,
   "id": "b0886eef",
   "metadata": {
    "execution": {
     "iopub.execute_input": "2022-05-25T17:26:00.204885Z",
     "iopub.status.busy": "2022-05-25T17:26:00.204245Z",
     "iopub.status.idle": "2022-05-25T17:26:00.206686Z",
     "shell.execute_reply": "2022-05-25T17:26:00.207187Z",
     "shell.execute_reply.started": "2022-04-11T15:09:24.391421Z"
    },
    "papermill": {
     "duration": 0.073758,
     "end_time": "2022-05-25T17:26:00.207355",
     "exception": false,
     "start_time": "2022-05-25T17:26:00.133597",
     "status": "completed"
    },
    "tags": []
   },
   "outputs": [],
   "source": [
    "# text"
   ]
  },
  {
   "cell_type": "code",
   "execution_count": 18,
   "id": "ad498029",
   "metadata": {
    "execution": {
     "iopub.execute_input": "2022-05-25T17:26:00.349167Z",
     "iopub.status.busy": "2022-05-25T17:26:00.348508Z",
     "iopub.status.idle": "2022-05-25T17:26:00.351844Z",
     "shell.execute_reply": "2022-05-25T17:26:00.351313Z",
     "shell.execute_reply.started": "2022-04-11T15:09:31.9599Z"
    },
    "papermill": {
     "duration": 0.074581,
     "end_time": "2022-05-25T17:26:00.351979",
     "exception": false,
     "start_time": "2022-05-25T17:26:00.277398",
     "status": "completed"
    },
    "tags": []
   },
   "outputs": [],
   "source": [
    "# res = re.search(string.strip(), text)\n",
    "# res"
   ]
  },
  {
   "cell_type": "code",
   "execution_count": 19,
   "id": "0d13870d",
   "metadata": {
    "execution": {
     "iopub.execute_input": "2022-05-25T17:26:00.492670Z",
     "iopub.status.busy": "2022-05-25T17:26:00.491723Z",
     "iopub.status.idle": "2022-05-25T17:26:00.494489Z",
     "shell.execute_reply": "2022-05-25T17:26:00.494008Z",
     "shell.execute_reply.started": "2022-04-11T15:12:41.311242Z"
    },
    "papermill": {
     "duration": 0.074259,
     "end_time": "2022-05-25T17:26:00.494624",
     "exception": false,
     "start_time": "2022-05-25T17:26:00.420365",
     "status": "completed"
    },
    "tags": []
   },
   "outputs": [],
   "source": [
    "# entities = []\n",
    "# entities.append((res.start(),res.end(),'p'))"
   ]
  },
  {
   "cell_type": "code",
   "execution_count": 20,
   "id": "5cb7feca",
   "metadata": {
    "execution": {
     "iopub.execute_input": "2022-05-25T17:26:00.635127Z",
     "iopub.status.busy": "2022-05-25T17:26:00.634147Z",
     "iopub.status.idle": "2022-05-25T17:26:00.636964Z",
     "shell.execute_reply": "2022-05-25T17:26:00.636451Z",
     "shell.execute_reply.started": "2022-04-11T15:12:52.736619Z"
    },
    "papermill": {
     "duration": 0.074324,
     "end_time": "2022-05-25T17:26:00.637090",
     "exception": false,
     "start_time": "2022-05-25T17:26:00.562766",
     "status": "completed"
    },
    "tags": []
   },
   "outputs": [],
   "source": [
    "# entities"
   ]
  },
  {
   "cell_type": "code",
   "execution_count": 21,
   "id": "77d02ae3",
   "metadata": {
    "execution": {
     "iopub.execute_input": "2022-05-25T17:26:00.778266Z",
     "iopub.status.busy": "2022-05-25T17:26:00.777586Z",
     "iopub.status.idle": "2022-05-25T17:26:00.780203Z",
     "shell.execute_reply": "2022-05-25T17:26:00.779567Z",
     "shell.execute_reply.started": "2022-04-11T15:06:11.546217Z"
    },
    "papermill": {
     "duration": 0.075381,
     "end_time": "2022-05-25T17:26:00.780336",
     "exception": false,
     "start_time": "2022-05-25T17:26:00.704955",
     "status": "completed"
    },
    "tags": []
   },
   "outputs": [],
   "source": [
    "# text"
   ]
  },
  {
   "cell_type": "code",
   "execution_count": null,
   "id": "35e111d9",
   "metadata": {
    "execution": {
     "iopub.execute_input": "2022-04-11T15:02:33.300092Z",
     "iopub.status.busy": "2022-04-11T15:02:33.299778Z",
     "iopub.status.idle": "2022-04-11T15:02:33.30711Z",
     "shell.execute_reply": "2022-04-11T15:02:33.306345Z",
     "shell.execute_reply.started": "2022-04-11T15:02:33.300061Z"
    },
    "papermill": {
     "duration": 0.070731,
     "end_time": "2022-05-25T17:26:00.920527",
     "exception": false,
     "start_time": "2022-05-25T17:26:00.849796",
     "status": "completed"
    },
    "tags": []
   },
   "outputs": [],
   "source": []
  },
  {
   "cell_type": "code",
   "execution_count": 22,
   "id": "8be5e296",
   "metadata": {
    "execution": {
     "iopub.execute_input": "2022-05-25T17:26:01.066324Z",
     "iopub.status.busy": "2022-05-25T17:26:01.065570Z",
     "iopub.status.idle": "2022-05-25T17:26:01.068287Z",
     "shell.execute_reply": "2022-05-25T17:26:01.068879Z",
     "shell.execute_reply.started": "2022-04-11T16:21:02.863037Z"
    },
    "papermill": {
     "duration": 0.077619,
     "end_time": "2022-05-25T17:26:01.069042",
     "exception": false,
     "start_time": "2022-05-25T17:26:00.991423",
     "status": "completed"
    },
    "tags": []
   },
   "outputs": [],
   "source": [
    "# import spacy\n",
    "# nlp = spacy.load('en_core_web_sm')"
   ]
  },
  {
   "cell_type": "code",
   "execution_count": 23,
   "id": "7393ebd6",
   "metadata": {
    "execution": {
     "iopub.execute_input": "2022-05-25T17:26:01.209022Z",
     "iopub.status.busy": "2022-05-25T17:26:01.208322Z",
     "iopub.status.idle": "2022-05-25T17:26:01.211100Z",
     "shell.execute_reply": "2022-05-25T17:26:01.211722Z",
     "shell.execute_reply.started": "2022-04-09T12:19:47.776612Z"
    },
    "papermill": {
     "duration": 0.074275,
     "end_time": "2022-05-25T17:26:01.211902",
     "exception": false,
     "start_time": "2022-05-25T17:26:01.137627",
     "status": "completed"
    },
    "tags": []
   },
   "outputs": [],
   "source": [
    "# !pip install PyPDF2\n",
    "# import PyPDF2\n",
    "# fhandle = open(r'/kaggle/input/sample-pdf/D8communications.pdf', 'rb')\n",
    "# pdfReader = PyPDF2.PdfFileReader(fhandle)\n",
    "# pagehandle = pdfReader.getPage(4)\n",
    "# print(pagehandle.extractText())"
   ]
  },
  {
   "cell_type": "code",
   "execution_count": 24,
   "id": "e24d1748",
   "metadata": {
    "execution": {
     "iopub.execute_input": "2022-05-25T17:26:01.371566Z",
     "iopub.status.busy": "2022-05-25T17:26:01.370488Z",
     "iopub.status.idle": "2022-05-25T17:26:01.374084Z",
     "shell.execute_reply": "2022-05-25T17:26:01.374583Z",
     "shell.execute_reply.started": "2022-04-09T12:25:37.701467Z"
    },
    "papermill": {
     "duration": 0.090938,
     "end_time": "2022-05-25T17:26:01.374774",
     "exception": false,
     "start_time": "2022-05-25T17:26:01.283836",
     "status": "completed"
    },
    "tags": []
   },
   "outputs": [],
   "source": [
    "# !pip install pdfplumber\n",
    "# import pdfplumber\n",
    "# with pdfplumber.open(r'/kaggle/input/sample-pdf/D8communications.pdf') as pdf:\n",
    "#     first_page = pdf.pages[3]\n",
    "#     print(first_page.extract_text())"
   ]
  },
  {
   "cell_type": "code",
   "execution_count": 25,
   "id": "429a34b8",
   "metadata": {
    "execution": {
     "iopub.execute_input": "2022-05-25T17:26:01.514610Z",
     "iopub.status.busy": "2022-05-25T17:26:01.514005Z",
     "iopub.status.idle": "2022-05-25T17:26:01.516926Z",
     "shell.execute_reply": "2022-05-25T17:26:01.517430Z",
     "shell.execute_reply.started": "2022-04-09T12:25:49.584635Z"
    },
    "papermill": {
     "duration": 0.074709,
     "end_time": "2022-05-25T17:26:01.517586",
     "exception": false,
     "start_time": "2022-05-25T17:26:01.442877",
     "status": "completed"
    },
    "tags": []
   },
   "outputs": [],
   "source": [
    "# !pip install pytesseract"
   ]
  },
  {
   "cell_type": "code",
   "execution_count": 26,
   "id": "c45bac14",
   "metadata": {
    "execution": {
     "iopub.execute_input": "2022-05-25T17:26:01.657835Z",
     "iopub.status.busy": "2022-05-25T17:26:01.657205Z",
     "iopub.status.idle": "2022-05-25T17:26:01.658867Z",
     "shell.execute_reply": "2022-05-25T17:26:01.659337Z",
     "shell.execute_reply.started": "2022-04-09T14:49:10.656812Z"
    },
    "papermill": {
     "duration": 0.073578,
     "end_time": "2022-05-25T17:26:01.659493",
     "exception": false,
     "start_time": "2022-05-25T17:26:01.585915",
     "status": "completed"
    },
    "tags": []
   },
   "outputs": [],
   "source": [
    "# #!pip install pdf2image\n",
    "# !pip install poppler"
   ]
  },
  {
   "cell_type": "code",
   "execution_count": 27,
   "id": "0fd2fa42",
   "metadata": {
    "execution": {
     "iopub.execute_input": "2022-05-25T17:26:01.801038Z",
     "iopub.status.busy": "2022-05-25T17:26:01.800406Z",
     "iopub.status.idle": "2022-05-25T17:26:01.803021Z",
     "shell.execute_reply": "2022-05-25T17:26:01.803593Z",
     "shell.execute_reply.started": "2022-04-09T14:57:24.756677Z"
    },
    "papermill": {
     "duration": 0.075969,
     "end_time": "2022-05-25T17:26:01.803774",
     "exception": false,
     "start_time": "2022-05-25T17:26:01.727805",
     "status": "completed"
    },
    "tags": []
   },
   "outputs": [],
   "source": [
    "# pdf2image.convert_from_path('/kaggle/input/sample-pdf/D8communications.pdf')"
   ]
  },
  {
   "cell_type": "code",
   "execution_count": 28,
   "id": "a91c6dbf",
   "metadata": {
    "execution": {
     "iopub.execute_input": "2022-05-25T17:26:01.943785Z",
     "iopub.status.busy": "2022-05-25T17:26:01.943042Z",
     "iopub.status.idle": "2022-05-25T17:26:01.946689Z",
     "shell.execute_reply": "2022-05-25T17:26:01.947351Z",
     "shell.execute_reply.started": "2022-04-09T14:57:17.576149Z"
    },
    "papermill": {
     "duration": 0.0755,
     "end_time": "2022-05-25T17:26:01.947525",
     "exception": false,
     "start_time": "2022-05-25T17:26:01.872025",
     "status": "completed"
    },
    "tags": []
   },
   "outputs": [],
   "source": [
    "# import pdf2image\n",
    "# try:\n",
    "#     from PIL import Image\n",
    "# except ImportError:\n",
    "#     import Image\n",
    "# import pytesseract\n",
    "\n",
    "\n",
    "# def pdf_to_img(pdf_file):\n",
    "#     return pdf2image.convert_from_path(pdf_file)\n",
    "\n",
    "\n",
    "# def ocr_core(file):\n",
    "#     text = pytesseract.image_to_string(file)\n",
    "#     return text\n",
    "\n",
    "\n",
    "# def print_pages(pdf_file):\n",
    "#     images = pdf_to_img(pdf_file)\n",
    "#     for pg, img in enumerate(images):\n",
    "#         print(ocr_core(img))\n",
    "\n",
    "\n",
    "# print_pages('/kaggle/input/sample-pdf/D8communications.pdf')\n"
   ]
  },
  {
   "cell_type": "code",
   "execution_count": 29,
   "id": "ab312aa8",
   "metadata": {
    "execution": {
     "iopub.execute_input": "2022-05-25T17:26:02.091430Z",
     "iopub.status.busy": "2022-05-25T17:26:02.090453Z",
     "iopub.status.idle": "2022-05-25T17:26:02.094187Z",
     "shell.execute_reply": "2022-05-25T17:26:02.094790Z"
    },
    "papermill": {
     "duration": 0.077546,
     "end_time": "2022-05-25T17:26:02.094955",
     "exception": false,
     "start_time": "2022-05-25T17:26:02.017409",
     "status": "completed"
    },
    "tags": []
   },
   "outputs": [],
   "source": [
    "# import requests\n",
    "# import fitz\n",
    "# import io\n",
    "\n",
    "# #URL = 'https://buildmedia.readthedocs.org/media/pdf/pdfminer-docs/latest/pdfminer-docs.pdf'\n",
    "# URL = 'https://redactable-devox-stage.s3.us-east-2.amazonaws.com/tenants/41d9e109-693b-444c-aa18-e5891bc6550b/original/1a7c0e5d-3237-4ca9-9e3d-89e707245ac6/D8communications.pdf'\n",
    "\n",
    "\n",
    "# res = requests.get(URL)\n",
    "# filestream = io.BytesIO(res.content)\n",
    "# #res.content\n",
    "# filestream\n",
    "# doc = fitz.Document(stream=filestream)\n",
    "# page1 = doc.loadPage(3)\n",
    "# page1text = page1.getText(\"text\").encode(\"utf-8\").decode(\"utf-8\")\n",
    "# print(page1text)"
   ]
  },
  {
   "cell_type": "code",
   "execution_count": 30,
   "id": "f2e4e447",
   "metadata": {
    "execution": {
     "iopub.execute_input": "2022-05-25T17:26:02.233830Z",
     "iopub.status.busy": "2022-05-25T17:26:02.233095Z",
     "iopub.status.idle": "2022-05-25T17:26:02.237487Z",
     "shell.execute_reply": "2022-05-25T17:26:02.236913Z",
     "shell.execute_reply.started": "2022-04-09T07:04:56.590103Z"
    },
    "papermill": {
     "duration": 0.074895,
     "end_time": "2022-05-25T17:26:02.237689",
     "exception": false,
     "start_time": "2022-05-25T17:26:02.162794",
     "status": "completed"
    },
    "tags": []
   },
   "outputs": [],
   "source": [
    "# import requests\n",
    "# import fitz\n",
    "\n",
    "# #URL = 'https://buildmedia.readthedocs.org/media/pdf/pdfminer-docs/latest/pdfminer-docs.pdf'\n",
    "# URL = 'https://redactable-devox-stage.s3.us-east-2.amazonaws.com/tenants/41d9e109-693b-444c-aa18-e5891bc6550b/original/1a7c0e5d-3237-4ca9-9e3d-89e707245ac6/D8communications.pdf'\n",
    "\n",
    "\n",
    "# res = requests.get(URL)\n",
    "# doc = fitz.open(stream=res.content,filetype=\"pdf\")\n",
    "# page1 = doc.loadPage(3)\n",
    "# page1text = page1.getText(\"text\")\n",
    "# #rect = (72.1149,661.2966,131.95729,675.1716)\n",
    "# rect=(72.10812377929688, 116.13427734375, 133.97142028808594, 146.4227294921875)\n",
    "# labelled_text = page1.get_textbox(rect)\n",
    "# print(labelled_text.strip())\n",
    "\n",
    "# fulltext = page1.get_text()\n",
    "# print(fulltext)\n",
    "# doc = nlp(fulltext)\n",
    "# sentences = []\n",
    "# for sent in doc.sents:\n",
    "#     if labelled_text in sent.text:\n",
    "#         text = sent.text\n",
    "#         print(text)\n",
    "# #print(page1text)"
   ]
  },
  {
   "cell_type": "code",
   "execution_count": 31,
   "id": "de6992ba",
   "metadata": {
    "execution": {
     "iopub.execute_input": "2022-05-25T17:26:02.377856Z",
     "iopub.status.busy": "2022-05-25T17:26:02.377230Z",
     "iopub.status.idle": "2022-05-25T17:26:02.380314Z",
     "shell.execute_reply": "2022-05-25T17:26:02.380872Z",
     "shell.execute_reply.started": "2022-04-08T16:42:57.6659Z"
    },
    "papermill": {
     "duration": 0.074433,
     "end_time": "2022-05-25T17:26:02.381032",
     "exception": false,
     "start_time": "2022-05-25T17:26:02.306599",
     "status": "completed"
    },
    "tags": []
   },
   "outputs": [],
   "source": [
    "#res.content"
   ]
  },
  {
   "cell_type": "code",
   "execution_count": 32,
   "id": "1f414904",
   "metadata": {
    "execution": {
     "iopub.execute_input": "2022-05-25T17:26:02.521673Z",
     "iopub.status.busy": "2022-05-25T17:26:02.519782Z",
     "iopub.status.idle": "2022-05-25T17:26:02.523416Z",
     "shell.execute_reply": "2022-05-25T17:26:02.523973Z",
     "shell.execute_reply.started": "2022-04-08T16:48:05.672392Z"
    },
    "papermill": {
     "duration": 0.07483,
     "end_time": "2022-05-25T17:26:02.524135",
     "exception": false,
     "start_time": "2022-05-25T17:26:02.449305",
     "status": "completed"
    },
    "tags": []
   },
   "outputs": [],
   "source": [
    "# import fitz\n",
    "# # mem_area=\n",
    "# # doc = fitz.open(stream=mem_area, filetype=\"pdf\")\n",
    "\n",
    "# import requests\n",
    "\n",
    "# URL = 'https://redactable-devox-stage.s3.us-east-2.amazonaws.com/tenants/41d9e109-693b-444c-aa18-e5891bc6550b/original/1a7c0e5d-3237-4ca9-9e3d-89e707245ac6/D8communications.pdf'\n",
    "\n",
    "# #res = requests.get(URL)\n",
    "# doc=fitz.open(\"/kaggle/input/sample-pdf/D8communications.pdf\")\n",
    "# #doc = fitz.open(stream=res.content,filetype=\"pdf\")\n",
    "# page1 = doc.loadPage(4)\n",
    "# # page1text = page1.getText(\"text\")\n",
    "# # print(page1text)\n",
    "# blocks = page1.getText(\"blocks\")\n",
    "# blocks.sort(key=lambda block: block[1])  # sort vertically ascending\n",
    "\n",
    "# for b in blocks:\n",
    "#     print(b[4])\n"
   ]
  },
  {
   "cell_type": "code",
   "execution_count": 33,
   "id": "ff85c78f",
   "metadata": {
    "execution": {
     "iopub.execute_input": "2022-05-25T17:26:02.664346Z",
     "iopub.status.busy": "2022-05-25T17:26:02.663345Z",
     "iopub.status.idle": "2022-05-25T17:26:02.666594Z",
     "shell.execute_reply": "2022-05-25T17:26:02.667176Z",
     "shell.execute_reply.started": "2022-04-08T16:48:13.086323Z"
    },
    "papermill": {
     "duration": 0.074741,
     "end_time": "2022-05-25T17:26:02.667343",
     "exception": false,
     "start_time": "2022-05-25T17:26:02.592602",
     "status": "completed"
    },
    "tags": []
   },
   "outputs": [],
   "source": [
    "# # page = doc[1]\n",
    "# words = page.get_text(\"words\")\n",
    "# #print(words)\n",
    "# rect = (72.1149,661.2966,131.95729,675.1716)\n",
    "\n",
    "# labelled_text = page.get_textbox(rect)\n",
    "# # labelled_text"
   ]
  },
  {
   "cell_type": "markdown",
   "id": "4e3d8ba9",
   "metadata": {
    "papermill": {
     "duration": 0.069022,
     "end_time": "2022-05-25T17:26:02.804323",
     "exception": false,
     "start_time": "2022-05-25T17:26:02.735301",
     "status": "completed"
    },
    "tags": []
   },
   "source": [
    "pip install PyPDF2"
   ]
  },
  {
   "cell_type": "code",
   "execution_count": null,
   "id": "a4b3d799",
   "metadata": {
    "papermill": {
     "duration": 0.067901,
     "end_time": "2022-05-25T17:26:02.940967",
     "exception": false,
     "start_time": "2022-05-25T17:26:02.873066",
     "status": "completed"
    },
    "tags": []
   },
   "outputs": [],
   "source": []
  },
  {
   "cell_type": "code",
   "execution_count": 34,
   "id": "9cf20116",
   "metadata": {
    "execution": {
     "iopub.execute_input": "2022-05-25T17:26:03.085831Z",
     "iopub.status.busy": "2022-05-25T17:26:03.084843Z",
     "iopub.status.idle": "2022-05-25T17:26:03.088172Z",
     "shell.execute_reply": "2022-05-25T17:26:03.088700Z",
     "shell.execute_reply.started": "2022-03-18T16:48:58.370268Z"
    },
    "papermill": {
     "duration": 0.075778,
     "end_time": "2022-05-25T17:26:03.088877",
     "exception": false,
     "start_time": "2022-05-25T17:26:03.013099",
     "status": "completed"
    },
    "tags": []
   },
   "outputs": [],
   "source": [
    "# import pandas as pd\n",
    "# h={'step': 0, 'type': 'string', 'amount': 0.0, 'nameOrig': 'C1231006815', 'oldbalanceOrig': 0.0, 'newbalanceOrig': 0.0, 'nameDest': 'M1979787155', 'oldbalanceDest': 0.0, 'newbalanceDest': 0.0}\n",
    "# df=pd.DataFrame([h])"
   ]
  },
  {
   "cell_type": "code",
   "execution_count": 35,
   "id": "ab5fc784",
   "metadata": {
    "execution": {
     "iopub.execute_input": "2022-05-25T17:26:03.229756Z",
     "iopub.status.busy": "2022-05-25T17:26:03.228791Z",
     "iopub.status.idle": "2022-05-25T17:26:03.231945Z",
     "shell.execute_reply": "2022-05-25T17:26:03.232514Z",
     "shell.execute_reply.started": "2022-04-09T17:21:26.021615Z"
    },
    "papermill": {
     "duration": 0.075768,
     "end_time": "2022-05-25T17:26:03.232671",
     "exception": false,
     "start_time": "2022-05-25T17:26:03.156903",
     "status": "completed"
    },
    "tags": []
   },
   "outputs": [],
   "source": [
    "#df"
   ]
  },
  {
   "cell_type": "code",
   "execution_count": null,
   "id": "e851e1f9",
   "metadata": {
    "papermill": {
     "duration": 0.067159,
     "end_time": "2022-05-25T17:26:03.367596",
     "exception": false,
     "start_time": "2022-05-25T17:26:03.300437",
     "status": "completed"
    },
    "tags": []
   },
   "outputs": [],
   "source": []
  }
 ],
 "metadata": {
  "kernelspec": {
   "display_name": "Python 3",
   "language": "python",
   "name": "python3"
  },
  "language_info": {
   "codemirror_mode": {
    "name": "ipython",
    "version": 3
   },
   "file_extension": ".py",
   "mimetype": "text/x-python",
   "name": "python",
   "nbconvert_exporter": "python",
   "pygments_lexer": "ipython3",
   "version": "3.7.12"
  },
  "papermill": {
   "default_parameters": {},
   "duration": 22.983565,
   "end_time": "2022-05-25T17:26:04.045413",
   "environment_variables": {},
   "exception": null,
   "input_path": "__notebook__.ipynb",
   "output_path": "__notebook__.ipynb",
   "parameters": {},
   "start_time": "2022-05-25T17:25:41.061848",
   "version": "2.3.3"
  }
 },
 "nbformat": 4,
 "nbformat_minor": 5
}
