{
 "cells": [
  {
   "cell_type": "code",
   "execution_count": 1,
   "id": "17e9d404",
   "metadata": {
    "_cell_guid": "b1076dfc-b9ad-4769-8c92-a6c4dae69d19",
    "_uuid": "8f2839f25d086af736a60e9eeb907d3b93b6e0e5",
    "execution": {
     "iopub.execute_input": "2022-04-09T17:21:58.858319Z",
     "iopub.status.busy": "2022-04-09T17:21:58.856463Z",
     "iopub.status.idle": "2022-04-09T17:21:58.876814Z",
     "shell.execute_reply": "2022-04-09T17:21:58.877566Z",
     "shell.execute_reply.started": "2022-04-09T04:36:18.987955Z"
    },
    "papermill": {
     "duration": 0.065142,
     "end_time": "2022-04-09T17:21:58.877985",
     "exception": false,
     "start_time": "2022-04-09T17:21:58.812843",
     "status": "completed"
    },
    "tags": []
   },
   "outputs": [
    {
     "name": "stdout",
     "output_type": "stream",
     "text": [
      "/kaggle/input/sample-pdf/D8communications.pdf\n"
     ]
    }
   ],
   "source": [
    "# This Python 3 environment comes with many helpful analytics libraries installed\n",
    "# It is defined by the kaggle/python Docker image: https://github.com/kaggle/docker-python\n",
    "# For example, here's several helpful packages to load\n",
    "\n",
    "import numpy as np # linear algebra\n",
    "import pandas as pd # data processing, CSV file I/O (e.g. pd.read_csv)\n",
    "\n",
    "# Input data files are available in the read-only \"../input/\" directory\n",
    "# For example, running this (by clicking run or pressing Shift+Enter) will list all files under the input directory\n",
    "\n",
    "import os\n",
    "for dirname, _, filenames in os.walk('/kaggle/input'):\n",
    "    for filename in filenames:\n",
    "        print(os.path.join(dirname, filename))\n",
    "\n",
    "# You can write up to 20GB to the current directory (/kaggle/working/) that gets preserved as output when you create a version using \"Save & Run All\" \n",
    "# You can also write temporary files to /kaggle/temp/, but they won't be saved outside of the current session"
   ]
  },
  {
   "cell_type": "markdown",
   "id": "5fa0b9c1",
   "metadata": {
    "papermill": {
     "duration": 0.037282,
     "end_time": "2022-04-09T17:21:58.954371",
     "exception": false,
     "start_time": "2022-04-09T17:21:58.917089",
     "status": "completed"
    },
    "tags": []
   },
   "source": [
    "# **Start Date: 12/3/2022**"
   ]
  },
  {
   "cell_type": "markdown",
   "id": "05ba6bc7",
   "metadata": {
    "papermill": {
     "duration": 0.037624,
     "end_time": "2022-04-09T17:21:59.029209",
     "exception": false,
     "start_time": "2022-04-09T17:21:58.991585",
     "status": "completed"
    },
    "tags": []
   },
   "source": [
    "# **Day 1:** \n",
    "<br>dataquest -> stats -> probability-> estimating probability\n",
    "1. out come is nothing but o/p of an experiment\n",
    "ex: whatever u get after rolling a dice -> it can be any number\n",
    "2. event can have more than one outcome\n",
    "- e.x: The event that we'll get an odd number when we roll a six-sided die — this event includes the outcomes 1, 3, and 5.\n",
    "- an event can be 0 as well.\n",
    "- We always assign probabilities to events, not outcomes, even if the event includes only one outcome.\n",
    "- P(E) =1/total number of possible outcomes, P(E) probability of an event happening.\n",
    "- but above formula doesn't work always, especially when there are more than one outcome\n",
    "    - P(E)=number of successful outcomes/total number of possible outcomes\n",
    "- incase of a biased situation \n",
    "  - let's say a die has 6 - 3 times which is 1,6,3,5,6,6\n",
    "    we will consider 6 as 3 times not 1.\n",
    "    possible outcome-> 1,3,5,6,6,6\n",
    "    prob(6)=3/6\n",
    "    prob(3)=1/6\n",
    "    prob(2)=0/6\n",
    "    If we didn't treat each 6 differently and said it doesn't matter which side a 6 is on, \n",
    "    <br>we'd be forced to conclude the only possible outcomes are 1, 3, 5 and 6. We can definitely         <br>frame the problem like that, but the formula above won't work anymore — we see below P(6) <br>becomes the same as P(3), but, intuitively, P(6) should be higher than P(3) since the die has 6 on     <br>three of its sides:\n"
   ]
  },
  {
   "cell_type": "markdown",
   "id": "0cad8345",
   "metadata": {
    "papermill": {
     "duration": 0.03724,
     "end_time": "2022-04-09T17:21:59.106784",
     "exception": false,
     "start_time": "2022-04-09T17:21:59.069544",
     "status": "completed"
    },
    "tags": []
   },
   "source": [
    "Estimating Probabilities Conclusion\n",
    "- emperical/ experimental probability\n",
    "  - probability achieved by experimenting / by doing the same event multiple times.\n",
    "  - Generally, for any event E (like a coin landing heads up), we can find its empirical probability   \n",
    "     by using the following formula: \n",
    "     •P (E) =number of times event E happened/ number of times we repeated the experiment   \n",
    " - Generally, the empirical probability of an event (a coin landing heads up, getting a 5 when weroll a die) approaches the true probability value as the number of trials of the randomexperiment (a coin toss, the rolling of a die) increases without bound.\n",
    "- When we calculate the probability of an event under the assumption that the outcomes have equal chances of occurring, we say that we're calculating the **theoretical probability** of an event.\n",
    "   - P(E)=number of successful outcomes/total number of possible outcomes\n",
    "\n"
   ]
  },
  {
   "cell_type": "markdown",
   "id": "223ff8a4",
   "metadata": {
    "papermill": {
     "duration": 0.03708,
     "end_time": "2022-04-09T17:21:59.181257",
     "exception": false,
     "start_time": "2022-04-09T17:21:59.144177",
     "status": "completed"
    },
    "tags": []
   },
   "source": [
    "# **Day 2**\n",
    "<br>dataquest-> stats -> intro to probability -> probability rules\n",
    "<br>In probability theory, the set of all possible outcomes is called a sample space. A sample space is often denoted by the capital Greek letter Ω (read \"omega\"). This is how we represent the sample space of a die roll:\n",
    "\n",
    "Ω = {1,2,3,4,5,6}\n",
    "-    The probability of any event ranges between 0 and 1: 0≤ P(Event) ≤1\n",
    "- To calculate P(A or B), we can also use the formula below, which is sometimes called the addition rule: P(A or B) = P(A) + P(B)\n",
    "  - Sample space ={ 1,2,3,4,5,6} \n",
    "  - P(2 or 5) = 2/6\n",
    "\n",
    "- P(C or D) = P(C) + P(D) - P(C and D)\n",
    "   - e.x : Sample_space ={2,4,6} + { 4,5,6} - {4/6}\n",
    "      P( even number or number greater than 3) = ( (3/6) + (3/6) )- (2/6) = 4/6\n",
    "- Events that don't intersect are called mutually exclusive.\n",
    "  - e.x: Getting a 5 (event one) and getting a 3 (event two) when we roll a regular six-sided die — it's  impossible to get both a 5 and 3.\n",
    "- Events that intersect are called mutually non-exclusive.\n",
    "  - Getting a number greater than 2 (event one) and getting an odd number (event two) when we roll a regular six-sided die — we could get a 5, which is both greater than 2 (event one) and odd (event two).\n",
    "- unioun -> A or B, intersection -> A and B"
   ]
  },
  {
   "cell_type": "markdown",
   "id": "cefb8585",
   "metadata": {
    "papermill": {
     "duration": 0.036995,
     "end_time": "2022-04-09T17:21:59.257595",
     "exception": false,
     "start_time": "2022-04-09T17:21:59.220600",
     "status": "completed"
    },
    "tags": []
   },
   "source": [
    "# Day 3 and 4\n",
    "dataquest -> stats -> probabilities -> solving complex probabilities\n",
    "- This is the same result we got from our previous approach. In more general terms, the multiplication rule says that for two events E1 and E2, the probability that both event E1 and E2 happen can be found by multiplying the probability of E1 by the probability of E2:\n",
    "    - P(E1 ∩ E2) = P(E1) × P(E2)\n",
    "    - Events that don't influence each other's probability are called independent events. If H1 happens, P(H2) stays the same, so H1 and H2 are independent. The multiplication rule we learned only works for independent events.\n",
    "    "
   ]
  },
  {
   "cell_type": "markdown",
   "id": "6a8bc806",
   "metadata": {
    "papermill": {
     "duration": 0.036711,
     "end_time": "2022-04-09T17:21:59.331294",
     "exception": false,
     "start_time": "2022-04-09T17:21:59.294583",
     "status": "completed"
    },
    "tags": []
   },
   "source": [
    "# Day 5\n",
    "- When we replace the cards after drawing, we say that we're sampling with replacement. When we don't put the cards back, we're sampling without replacement. \n"
   ]
  },
  {
   "cell_type": "markdown",
   "id": "7585d622",
   "metadata": {
    "papermill": {
     "duration": 0.036688,
     "end_time": "2022-04-09T17:21:59.404980",
     "exception": false,
     "start_time": "2022-04-09T17:21:59.368292",
     "status": "completed"
    },
    "tags": []
   },
   "source": [
    "# Day6\n",
    "dataquest-> prob and stats -> probability fundamentals -> permutation and combinations\n",
    "Generally, if we have an experiment E1 (like flipping a coin) with a outcomes, followed by an experiment E2 (like rolling a die) with b outcomes, then the total number of outcomes for the composite experiment E1E2 can be found by multiplying a with b:\n",
    "\n",
    "Number of outcomes = a * b"
   ]
  },
  {
   "cell_type": "markdown",
   "id": "dc87ef9a",
   "metadata": {
    "papermill": {
     "duration": 0.036731,
     "end_time": "2022-04-09T17:21:59.479046",
     "exception": false,
     "start_time": "2022-04-09T17:21:59.442315",
     "status": "completed"
    },
    "tags": []
   },
   "source": [
    "# Day 7\n",
    "dataquest-> prob and stats -> probability fundamentals -> permutation and combinations <br>\n",
    "More generally, if we have an experiment E1 with a outcomes, followed by an experiment E2 with b outcomes, followed by an experiment En with z outcomes, the total number of outcomes for the composite experiment E1E2 ... En can be found by multiplying their individual outcomes:\n",
    "\n",
    "Number of outcomes= a * b * … * z"
   ]
  },
  {
   "cell_type": "markdown",
   "id": "0fc1f2db",
   "metadata": {
    "papermill": {
     "duration": 0.037786,
     "end_time": "2022-04-09T17:21:59.554364",
     "exception": false,
     "start_time": "2022-04-09T17:21:59.516578",
     "status": "completed"
    },
    "tags": []
   },
   "source": [
    "# Day 8\n",
    "dataquest-> prob and stats -> probability fundamentals -> permutation and combinations <br>\n",
    "permutations= n*(n-1)*(n-2)*....*2*1\n"
   ]
  },
  {
   "cell_type": "markdown",
   "id": "31e4a234",
   "metadata": {
    "papermill": {
     "duration": 0.037188,
     "end_time": "2022-04-09T17:21:59.629166",
     "exception": false,
     "start_time": "2022-04-09T17:21:59.591978",
     "status": "completed"
    },
    "tags": []
   },
   "source": [
    "# Day 9\n",
    "dataquest-> prob and stats -> probability fundamentals -> permutation and combinations\n",
    "- in permutation order of the individual element in the arranement matters.\n",
    "   - for e.x: 9821 is different than 9281\n",
    "   - Permutations =n!  --> sample without replacement-> we are not putting back the sampled data.\n",
    "   - On the last screen, we learned to use the formula below to calculate permutations when we're sampling without replacement and taking only k objects from a group of n objects:\n",
    "   npk=n!/(n-k)!"
   ]
  },
  {
   "cell_type": "markdown",
   "id": "f7c88fbc",
   "metadata": {
    "papermill": {
     "duration": 0.03717,
     "end_time": "2022-04-09T17:21:59.703713",
     "exception": false,
     "start_time": "2022-04-09T17:21:59.666543",
     "status": "completed"
    },
    "tags": []
   },
   "source": [
    "# Day 10\n",
    "dataquest-> prob and stats -> probability fundamentals -> permutation and combinations\n",
    "- More generally, if the order of the elements in an arrangement doesn't matter, the arrangement is called a combination.\n",
    "- e.x: cards in a deck \n",
    "- nCk = n! / ((n-k)!*k!)"
   ]
  },
  {
   "cell_type": "markdown",
   "id": "075a5469",
   "metadata": {
    "papermill": {
     "duration": 0.036975,
     "end_time": "2022-04-09T17:21:59.778028",
     "exception": false,
     "start_time": "2022-04-09T17:21:59.741053",
     "status": "completed"
    },
    "tags": []
   },
   "source": [
    "# Day 11\n",
    "dataquest-> prob and stats -> probability fundamentals -> permutation and combinations\n",
    "- solved 1 probability problem.\n"
   ]
  },
  {
   "cell_type": "markdown",
   "id": "a02d45c2",
   "metadata": {
    "papermill": {
     "duration": 0.036877,
     "end_time": "2022-04-09T17:21:59.852081",
     "exception": false,
     "start_time": "2022-04-09T17:21:59.815204",
     "status": "completed"
    },
    "tags": []
   },
   "source": [
    "# Day 12\n",
    "dataquest-> prob and stats -> probability fundamentals -> permutation and combinations\n",
    "- finished probability and permutations by revising them.\n",
    "- If we have an experiment E1 (like flipping a coin) with a outcomes, followed by an experiment E2(like rolling a die) with b outcomes, then the total number of outcomes for the compositeexperiment E1E2 can be found by multiplying a with b (this is known as the rule of product):\n",
    "  - number of outcomes = a*b\n",
    "- If we have an experiment E1 with a outcomes, followed by an experiment E2 with b outcomes,followed by an experiment En with z outcomes, the total number of outcomes for the compositeexperiment E1E2 ... En can be found by multiplying their individual outcomes:\n",
    "   - number of outcomes = a*b* ... *z\n",
    "- There are two kinds of arrangements:\n",
    "   - •Arrangements where the order matters, which we call permutations.\n",
    "   - •Arrangements where the order doesn't matter, which we call combination\n",
    "- To find the number of permutations when we're sampling without replacement, we can use theformula:\n",
    "  - permutation = n!\n",
    "- To find the number of permutations when we're sampling without replacement and taking only kobjects from a group of n objects, we can use the formula:\n",
    "  - nPk = n!/(n-k)!\n",
    "- To find the number of combinations when we're sampling without replacement and taking only kobjects from a group of n objects, we can use the formula\n",
    "  - nCk = n! / ((n-k)!*k!)"
   ]
  },
  {
   "cell_type": "markdown",
   "id": "b90eb18b",
   "metadata": {
    "papermill": {
     "duration": 0.037474,
     "end_time": "2022-04-09T17:21:59.928255",
     "exception": false,
     "start_time": "2022-04-09T17:21:59.890781",
     "status": "completed"
    },
    "tags": []
   },
   "source": [
    "# Day 13\n",
    "dataquest-> prob and stats -> probability fundamentals -> conditional probabilities\n",
    "- first 2 slides -> mainly the recap of old chapter(above one).\n"
   ]
  },
  {
   "cell_type": "markdown",
   "id": "7641995f",
   "metadata": {
    "papermill": {
     "duration": 0.038442,
     "end_time": "2022-04-09T17:22:00.005534",
     "exception": false,
     "start_time": "2022-04-09T17:21:59.967092",
     "status": "completed"
    },
    "tags": []
   },
   "source": [
    "# Day 14\n",
    "dataquest-> prob and stats -> probability fundamentals -> conditional probabilities\n",
    "<br>slide 4 completed\n",
    "<br>conditional probabilities\n",
    "- probabilities with condition\n",
    "- P(5)=What is the probability of getting a 5? -> normal probability\n",
    "- P(5 | odd) =What is the probability of getting a 5 given the die showed an odd number? -> conditional prob.\n",
    "\n"
   ]
  },
  {
   "cell_type": "markdown",
   "id": "73195707",
   "metadata": {
    "papermill": {
     "duration": 0.040084,
     "end_time": "2022-04-09T17:22:00.084560",
     "exception": false,
     "start_time": "2022-04-09T17:22:00.044476",
     "status": "completed"
    },
    "tags": []
   },
   "source": [
    "# Day 15\n",
    "dataquest-> prob and stats -> probability fundamentals -> conditional probabilities\n",
    "- on slide 5 not done yet.\n",
    "\n",
    "Say we roll a fair six-sided die and want to find the probability of getting an odd number, given the die showed a number greater than 1 after landing. Using probability notation, we want to find P(A|B) where:\n",
    "\n",
    "- A is the event that the number is odd: A = {1, 3, 5}\n",
    "- B is the event that the number is greater than 1: B = {2, 3, 4, 5, 6}\n",
    "- P(A/B)=number of succesfull outcomes / total number of outcomes.\n"
   ]
  },
  {
   "cell_type": "markdown",
   "id": "b09ba69e",
   "metadata": {
    "papermill": {
     "duration": 0.038354,
     "end_time": "2022-04-09T17:22:00.161847",
     "exception": false,
     "start_time": "2022-04-09T17:22:00.123493",
     "status": "completed"
    },
    "tags": []
   },
   "source": [
    "# Day 16 and 17\n",
    "dataquest-> prob and stats -> probability fundamentals -> conditional probabilities\n",
    "\n",
    "on slide 6 not done yet."
   ]
  },
  {
   "cell_type": "markdown",
   "id": "528e5c8f",
   "metadata": {
    "papermill": {
     "duration": 0.037484,
     "end_time": "2022-04-09T17:22:00.237533",
     "exception": false,
     "start_time": "2022-04-09T17:22:00.200049",
     "status": "completed"
    },
    "tags": []
   },
   "source": [
    "# Day 18\n",
    "dataquest-> prob and stats -> probability fundamentals -> conditional probabilities\n",
    "<br>slide 5 code half done"
   ]
  },
  {
   "cell_type": "markdown",
   "id": "3589a2fc",
   "metadata": {
    "papermill": {
     "duration": 0.03736,
     "end_time": "2022-04-09T17:22:00.313297",
     "exception": false,
     "start_time": "2022-04-09T17:22:00.275937",
     "status": "completed"
    },
    "tags": []
   },
   "source": [
    "# Day 19\n",
    "- The number of elements in a set is called the cardinal of the set. \n",
    "  Ω is a set, and the cardinal of \n",
    "   Ω = { 2,3,4,5,6}\n",
    "   cardinal(Ω)=5\n",
    "- P(A | B) = card(A ∩ B) / card(B)\n",
    "- Say we roll a fair six-sided die and want to find the probability of getting an odd number, given the die showed a number greater than 1 after landing. Using probability notation, we want to find P(A|B) where:\n",
    "    - A is the event that the number is odd: A = {1, 3, 5}\n",
    "     - B is the event that the number is greater than 1: B = {2, 3, 4, 5, 6}\n",
    "     - total number of possible outcomes = card({2,3,4,5,6}) =5\n",
    "     - number of successful outcomes = card({3,5})= 2\n",
    "- P(A | B) = card(A ∩ B) / card(B), we can also get the same result using P(A | B) = prob(A ∩ B) / prob(B)\n",
    "\n",
    "     "
   ]
  },
  {
   "cell_type": "markdown",
   "id": "c2b6e657",
   "metadata": {
    "papermill": {
     "duration": 0.037289,
     "end_time": "2022-04-09T17:22:00.388479",
     "exception": false,
     "start_time": "2022-04-09T17:22:00.351190",
     "status": "completed"
    },
    "tags": []
   },
   "source": [
    "# Day 20\n",
    "dataquest-> prob and stats -> probability fundamentals -> conditional probabilities intermediate\n",
    "<br> slide 1 and 2\n",
    "- P( A | B ) ≠ P(A ∩ B), but rather:\n",
    "   - P(A | B) = P(A ∩ B) / P(B)\n",
    "   - P(A ∩ B) = P(A | B) ⋅ P(B)\n",
    "- Given that a customer bought a laptop, they will or will not also buy a mouse. This means we can be certain that either event (M|L) or (M^C|L) will happen:\n",
    "     - P(M | L) + P(M^C | L) = 1\n",
    "\n"
   ]
  },
  {
   "cell_type": "markdown",
   "id": "f63f47d1",
   "metadata": {
    "papermill": {
     "duration": 0.03826,
     "end_time": "2022-04-09T17:22:00.464623",
     "exception": false,
     "start_time": "2022-04-09T17:22:00.426363",
     "status": "completed"
    },
    "tags": []
   },
   "source": [
    "# Day 21\n",
    "dataquest-> prob and stats -> probability fundamentals -> conditional probabilities intermediate\n",
    "slide 1 and 2\n",
    "- P(A ∩ B) = P(B ∩ A)\n",
    "- multiplication rule of probability\n",
    "  -  P(A ∩ B) = P(B) ⋅ P(A | B) \n",
    "  - P(A ∩ B) = P(A) ⋅ P(B | A)\n",
    "- if P(A) and P(B) are statistically independent then \n",
    "  - P(A ∩ B) = P(A) ⋅ P(B)\n",
    "\n"
   ]
  },
  {
   "cell_type": "markdown",
   "id": "b5e75792",
   "metadata": {
    "papermill": {
     "duration": 0.037857,
     "end_time": "2022-04-09T17:22:00.540500",
     "exception": false,
     "start_time": "2022-04-09T17:22:00.502643",
     "status": "completed"
    },
    "tags": []
   },
   "source": [
    "# Day 22\n",
    "dataquest-> prob and stats -> probability fundamentals -> conditional probabilities intermediate \n",
    "<br>slide 6\n",
    "- If events events A and B are dependent, it means the occurrence of event A changes the probability of event B and vice versa.\n",
    "   - P(A) ≠ P(A | B)\n",
    "   - P(B) ≠ P(B | A)\n",
    "   - P(A ∩ B) ≠ P(A) ⋅ P(B)\n",
    "   - formula will become P(A ∩ B) ≠ P(A) ⋅ P(B/A)\n",
    "   "
   ]
  },
  {
   "cell_type": "markdown",
   "id": "24e1f7bc",
   "metadata": {
    "papermill": {
     "duration": 0.039601,
     "end_time": "2022-04-09T17:22:00.621909",
     "exception": false,
     "start_time": "2022-04-09T17:22:00.582308",
     "status": "completed"
    },
    "tags": []
   },
   "source": [
    "# Day 23\n",
    "dataquest-> prob and stats -> probability fundamentals -> conditional probabilities intermediate\n",
    "<br>slide 7 to last\n",
    "- To find whether three events — A, B, C — are independent or not, below conditions must hold true -\n",
    "  - P(A ∩ B) ≠ P(A) ⋅ P(B)\n",
    "  - P(A ∩ C) ≠ P(A) ⋅ P(C)\n",
    "  - P(B ∩ C) ≠ P(B) ⋅ P(C)\n",
    "  - P(A ∩ B ∩ C) ≠ P(A) ⋅ P(B) . P(C)\n",
    "- multiplication rule for conditional probability or dependent events\n",
    " - P(A ∩ B ∩ C) = P(A) ⋅ P(B | A) ⋅ P(C | A ∩ B)\n",
    " \n",
    "\n"
   ]
  },
  {
   "cell_type": "markdown",
   "id": "a9185f9d",
   "metadata": {
    "papermill": {
     "duration": 0.037559,
     "end_time": "2022-04-09T17:22:00.698645",
     "exception": false,
     "start_time": "2022-04-09T17:22:00.661086",
     "status": "completed"
    },
    "tags": []
   },
   "source": [
    "# Day 24\n",
    "dataquest-> prob and stats -> probability fundamentals -> bayes theorem\n",
    "<br>slide 1\n",
    "- independent -> one event is dependent on other\n",
    "   - P(A ∩ B) = P(A) ⋅ P(B/A)\n",
    "- independent -> one event is not dependent on other.\n",
    "   - P(A ∩ B) = P(A) ⋅ P(B)\n",
    "- mutually exclusive -> both the events cannot happen at the same time.\n",
    "   - P(A ∩ B) = 0\n",
    "\n"
   ]
  },
  {
   "cell_type": "markdown",
   "id": "cceae40c",
   "metadata": {
    "papermill": {
     "duration": 0.038898,
     "end_time": "2022-04-09T17:22:00.777293",
     "exception": false,
     "start_time": "2022-04-09T17:22:00.738395",
     "status": "completed"
    },
    "tags": []
   },
   "source": [
    "# Day 25\n",
    "dataquest-> prob and stats -> probability fundamentals -> bayes theorem\n",
    "<br>slide 2\n",
    "- If two events are exhaustive, it means they make up the whole sample space Ω\n",
    "  -  P(A) = P(A ∩ B) + P(A ∩ B^c)\n",
    "     P(A) = (P(B) * P(A/B)) +  (P(B^c) * P(A/B^c))\n",
    "     \n",
    "     "
   ]
  },
  {
   "cell_type": "markdown",
   "id": "7102d3ac",
   "metadata": {
    "papermill": {
     "duration": 0.040413,
     "end_time": "2022-04-09T17:22:00.856043",
     "exception": false,
     "start_time": "2022-04-09T17:22:00.815630",
     "status": "completed"
    },
    "tags": []
   },
   "source": [
    "# Day 26\n",
    "dataquest-> prob and stats -> probability fundamentals -> bayes theorem\n",
    "<br>slide 3 - last\n",
    "- the law of total probability\n",
    "  - P(A)  = (P(B1) * P(A/B1)) + (P(B2) * P(A/B2))+ ... + (P(Bn) * P(A/Bn)))\n",
    "  - P(A) =(summattion i=1 to n) P(Bi) ⋅ P(A|Bi)\n",
    "- Baye's theorem\n",
    "  - P(B | A) = (P(B) ⋅ P(A | B)) / (n ∑i=1 P(Bi) ⋅ P(A | Bi))\n",
    "- The probability of being infected with HIV before doing any test is called the prior probability (\"prior\" means \"before\"). The probability of being infected with HIV after testing positive is called the posterior probability (\"posterior\" means \"after\").\n",
    "\n",
    "\n",
    "  "
   ]
  },
  {
   "cell_type": "markdown",
   "id": "63c1119b",
   "metadata": {
    "papermill": {
     "duration": 0.037756,
     "end_time": "2022-04-09T17:22:00.933862",
     "exception": false,
     "start_time": "2022-04-09T17:22:00.896106",
     "status": "completed"
    },
    "tags": []
   },
   "source": [
    "# Day 27\n",
    "dataquest-> prob and stats -> probability fundamentals -> naive bayes theorem\n",
    "<br>slide 1 - \n",
    "P(Spam|w1,w2,w3,w4)∝P(Spam)⋅P(w1|Spam)⋅P(w2|Spam)⋅P(w3|Spam)⋅P(w4|Spam)P(SpamC|w1,w2,w3,w4)∝P(SpamC)⋅P(w1|SpamC)⋅P(w2|SpamC)⋅P(w3|SpamC)⋅P(w4|SpamC)"
   ]
  },
  {
   "cell_type": "markdown",
   "id": "01528436",
   "metadata": {
    "papermill": {
     "duration": 0.037515,
     "end_time": "2022-04-09T17:22:01.009432",
     "exception": false,
     "start_time": "2022-04-09T17:22:00.971917",
     "status": "completed"
    },
    "tags": []
   },
   "source": [
    "# Day 28\n",
    "dataquest-> prob and stats -> probability fundamentals -> naive bayes theorem\n",
    "<br>finished.\n",
    "<br>**Summary**\n",
    "- P(Spam|w1,w2,...,wn)∝P(Spam)⋅n∏i=1P(wi|Spam)\n",
    "- P(SpamC|w1,w2,...,wn)∝P(SpamC)⋅n∏i=1P(wi|SpamC)\n",
    "- To calculate P(wi|Spam) and P(wi|SpamC), we need to use the additive smoothing technique: \n",
    "- P ( w i | S p a m ) = (N w i | S p a m + α) / ( N S p a m + α ⋅ N V o c a b u l a r y )\n",
    "- P ( w i | S p a m C ) = (N w i | S p a m C + α) / ( N S p a m C + α ⋅ N V o c a b u l a r y )\n",
    "     - N w i | S p a m = the number of times the word w i occurs in spam messages \n",
    "     - N w i | S p a m C = the number of times the word w i occurs in non-spam messages \n",
    "     - N S p a m = total number of words in spam messages \n",
    "     - N S p a m C = total number of words in non-spam messages \n",
    "     - N V o c a b u l a r y = total number of words in the vocabulary \n",
    "     - α = 1 ( α is a smoothing parameter )\n",
    " - naive bayes theorem assumes that events are not dependent.\n",
    " - The assumption of conditional independence between words is thus naive since it rarely holds in practice, and this is why the algorithm is called Naive Bayes (also called simple Bayes or independence Bayes)."
   ]
  },
  {
   "cell_type": "markdown",
   "id": "4a4b8e55",
   "metadata": {
    "papermill": {
     "duration": 0.042462,
     "end_time": "2022-04-09T17:22:01.091450",
     "exception": false,
     "start_time": "2022-04-09T17:22:01.048988",
     "status": "completed"
    },
    "tags": []
   },
   "source": [
    "# Day 29\n",
    "<br>dataquest-> prob and stats -> probability fundamentals -> conditional probability-> guided projects\n",
    "<br> first 2 slides done"
   ]
  },
  {
   "cell_type": "code",
   "execution_count": 2,
   "id": "7e938977",
   "metadata": {
    "execution": {
     "iopub.execute_input": "2022-04-09T17:22:01.173424Z",
     "iopub.status.busy": "2022-04-09T17:22:01.172596Z",
     "iopub.status.idle": "2022-04-09T17:22:01.176003Z",
     "shell.execute_reply": "2022-04-09T17:22:01.176571Z",
     "shell.execute_reply.started": "2022-04-09T12:12:12.558573Z"
    },
    "papermill": {
     "duration": 0.045888,
     "end_time": "2022-04-09T17:22:01.176792",
     "exception": false,
     "start_time": "2022-04-09T17:22:01.130904",
     "status": "completed"
    },
    "tags": []
   },
   "outputs": [],
   "source": [
    "# !pip install PyMuPDF"
   ]
  },
  {
   "cell_type": "code",
   "execution_count": 3,
   "id": "1a9597a6",
   "metadata": {
    "execution": {
     "iopub.execute_input": "2022-04-09T17:22:01.260666Z",
     "iopub.status.busy": "2022-04-09T17:22:01.259871Z",
     "iopub.status.idle": "2022-04-09T17:22:01.263788Z",
     "shell.execute_reply": "2022-04-09T17:22:01.263155Z",
     "shell.execute_reply.started": "2022-04-09T12:18:21.642059Z"
    },
    "papermill": {
     "duration": 0.047983,
     "end_time": "2022-04-09T17:22:01.263964",
     "exception": false,
     "start_time": "2022-04-09T17:22:01.215981",
     "status": "completed"
    },
    "tags": []
   },
   "outputs": [],
   "source": [
    "#!python -m spacy download en_core_web_sm"
   ]
  },
  {
   "cell_type": "code",
   "execution_count": 4,
   "id": "6aafaf4e",
   "metadata": {
    "execution": {
     "iopub.execute_input": "2022-04-09T17:22:01.346617Z",
     "iopub.status.busy": "2022-04-09T17:22:01.345825Z",
     "iopub.status.idle": "2022-04-09T17:22:01.348763Z",
     "shell.execute_reply": "2022-04-09T17:22:01.348168Z",
     "shell.execute_reply.started": "2022-04-09T05:53:34.056321Z"
    },
    "papermill": {
     "duration": 0.04661,
     "end_time": "2022-04-09T17:22:01.348925",
     "exception": false,
     "start_time": "2022-04-09T17:22:01.302315",
     "status": "completed"
    },
    "tags": []
   },
   "outputs": [],
   "source": [
    "# import spacy\n",
    "# nlp = spacy.load('en_core_web_sm')"
   ]
  },
  {
   "cell_type": "code",
   "execution_count": 5,
   "id": "87857766",
   "metadata": {
    "execution": {
     "iopub.execute_input": "2022-04-09T17:22:01.429336Z",
     "iopub.status.busy": "2022-04-09T17:22:01.428531Z",
     "iopub.status.idle": "2022-04-09T17:22:01.432509Z",
     "shell.execute_reply": "2022-04-09T17:22:01.433166Z",
     "shell.execute_reply.started": "2022-04-09T12:19:47.776612Z"
    },
    "papermill": {
     "duration": 0.046041,
     "end_time": "2022-04-09T17:22:01.433381",
     "exception": false,
     "start_time": "2022-04-09T17:22:01.387340",
     "status": "completed"
    },
    "tags": []
   },
   "outputs": [],
   "source": [
    "# !pip install PyPDF2\n",
    "# import PyPDF2\n",
    "# fhandle = open(r'/kaggle/input/sample-pdf/D8communications.pdf', 'rb')\n",
    "# pdfReader = PyPDF2.PdfFileReader(fhandle)\n",
    "# pagehandle = pdfReader.getPage(4)\n",
    "# print(pagehandle.extractText())"
   ]
  },
  {
   "cell_type": "code",
   "execution_count": 6,
   "id": "3b46ec13",
   "metadata": {
    "execution": {
     "iopub.execute_input": "2022-04-09T17:22:01.515351Z",
     "iopub.status.busy": "2022-04-09T17:22:01.514560Z",
     "iopub.status.idle": "2022-04-09T17:22:01.517701Z",
     "shell.execute_reply": "2022-04-09T17:22:01.518330Z",
     "shell.execute_reply.started": "2022-04-09T12:25:37.701467Z"
    },
    "papermill": {
     "duration": 0.046146,
     "end_time": "2022-04-09T17:22:01.518542",
     "exception": false,
     "start_time": "2022-04-09T17:22:01.472396",
     "status": "completed"
    },
    "tags": []
   },
   "outputs": [],
   "source": [
    "# !pip install pdfplumber\n",
    "# import pdfplumber\n",
    "# with pdfplumber.open(r'/kaggle/input/sample-pdf/D8communications.pdf') as pdf:\n",
    "#     first_page = pdf.pages[3]\n",
    "#     print(first_page.extract_text())"
   ]
  },
  {
   "cell_type": "code",
   "execution_count": 7,
   "id": "738d191a",
   "metadata": {
    "execution": {
     "iopub.execute_input": "2022-04-09T17:22:01.602445Z",
     "iopub.status.busy": "2022-04-09T17:22:01.601558Z",
     "iopub.status.idle": "2022-04-09T17:22:01.604928Z",
     "shell.execute_reply": "2022-04-09T17:22:01.605639Z",
     "shell.execute_reply.started": "2022-04-09T12:25:49.584635Z"
    },
    "papermill": {
     "duration": 0.048482,
     "end_time": "2022-04-09T17:22:01.605889",
     "exception": false,
     "start_time": "2022-04-09T17:22:01.557407",
     "status": "completed"
    },
    "tags": []
   },
   "outputs": [],
   "source": [
    "# !pip install pytesseract"
   ]
  },
  {
   "cell_type": "code",
   "execution_count": 8,
   "id": "5085ad2d",
   "metadata": {
    "execution": {
     "iopub.execute_input": "2022-04-09T17:22:01.688291Z",
     "iopub.status.busy": "2022-04-09T17:22:01.687463Z",
     "iopub.status.idle": "2022-04-09T17:22:01.690618Z",
     "shell.execute_reply": "2022-04-09T17:22:01.691197Z",
     "shell.execute_reply.started": "2022-04-09T14:49:10.656812Z"
    },
    "papermill": {
     "duration": 0.045607,
     "end_time": "2022-04-09T17:22:01.691400",
     "exception": false,
     "start_time": "2022-04-09T17:22:01.645793",
     "status": "completed"
    },
    "tags": []
   },
   "outputs": [],
   "source": [
    "# #!pip install pdf2image\n",
    "# !pip install poppler"
   ]
  },
  {
   "cell_type": "code",
   "execution_count": 9,
   "id": "81bfc363",
   "metadata": {
    "execution": {
     "iopub.execute_input": "2022-04-09T17:22:01.774857Z",
     "iopub.status.busy": "2022-04-09T17:22:01.774064Z",
     "iopub.status.idle": "2022-04-09T17:22:01.776714Z",
     "shell.execute_reply": "2022-04-09T17:22:01.777288Z",
     "shell.execute_reply.started": "2022-04-09T14:57:24.756677Z"
    },
    "papermill": {
     "duration": 0.047282,
     "end_time": "2022-04-09T17:22:01.777495",
     "exception": false,
     "start_time": "2022-04-09T17:22:01.730213",
     "status": "completed"
    },
    "tags": []
   },
   "outputs": [],
   "source": [
    "# pdf2image.convert_from_path('/kaggle/input/sample-pdf/D8communications.pdf')"
   ]
  },
  {
   "cell_type": "code",
   "execution_count": 10,
   "id": "cbd0c06c",
   "metadata": {
    "execution": {
     "iopub.execute_input": "2022-04-09T17:22:01.861656Z",
     "iopub.status.busy": "2022-04-09T17:22:01.860911Z",
     "iopub.status.idle": "2022-04-09T17:22:01.864104Z",
     "shell.execute_reply": "2022-04-09T17:22:01.863491Z",
     "shell.execute_reply.started": "2022-04-09T14:57:17.576149Z"
    },
    "papermill": {
     "duration": 0.04705,
     "end_time": "2022-04-09T17:22:01.864303",
     "exception": false,
     "start_time": "2022-04-09T17:22:01.817253",
     "status": "completed"
    },
    "tags": []
   },
   "outputs": [],
   "source": [
    "# import pdf2image\n",
    "# try:\n",
    "#     from PIL import Image\n",
    "# except ImportError:\n",
    "#     import Image\n",
    "# import pytesseract\n",
    "\n",
    "\n",
    "# def pdf_to_img(pdf_file):\n",
    "#     return pdf2image.convert_from_path(pdf_file)\n",
    "\n",
    "\n",
    "# def ocr_core(file):\n",
    "#     text = pytesseract.image_to_string(file)\n",
    "#     return text\n",
    "\n",
    "\n",
    "# def print_pages(pdf_file):\n",
    "#     images = pdf_to_img(pdf_file)\n",
    "#     for pg, img in enumerate(images):\n",
    "#         print(ocr_core(img))\n",
    "\n",
    "\n",
    "# print_pages('/kaggle/input/sample-pdf/D8communications.pdf')\n"
   ]
  },
  {
   "cell_type": "code",
   "execution_count": 11,
   "id": "92b1c49f",
   "metadata": {
    "execution": {
     "iopub.execute_input": "2022-04-09T17:22:01.947189Z",
     "iopub.status.busy": "2022-04-09T17:22:01.946307Z",
     "iopub.status.idle": "2022-04-09T17:22:01.949719Z",
     "shell.execute_reply": "2022-04-09T17:22:01.949143Z"
    },
    "papermill": {
     "duration": 0.046591,
     "end_time": "2022-04-09T17:22:01.949908",
     "exception": false,
     "start_time": "2022-04-09T17:22:01.903317",
     "status": "completed"
    },
    "tags": []
   },
   "outputs": [],
   "source": [
    "# import requests\n",
    "# import fitz\n",
    "# import io\n",
    "\n",
    "# #URL = 'https://buildmedia.readthedocs.org/media/pdf/pdfminer-docs/latest/pdfminer-docs.pdf'\n",
    "# URL = 'https://redactable-devox-stage.s3.us-east-2.amazonaws.com/tenants/41d9e109-693b-444c-aa18-e5891bc6550b/original/1a7c0e5d-3237-4ca9-9e3d-89e707245ac6/D8communications.pdf'\n",
    "\n",
    "\n",
    "# res = requests.get(URL)\n",
    "# filestream = io.BytesIO(res.content)\n",
    "# #res.content\n",
    "# filestream\n",
    "# doc = fitz.Document(stream=filestream)\n",
    "# page1 = doc.loadPage(3)\n",
    "# page1text = page1.getText(\"text\").encode(\"utf-8\").decode(\"utf-8\")\n",
    "# print(page1text)"
   ]
  },
  {
   "cell_type": "code",
   "execution_count": 12,
   "id": "0a45f50e",
   "metadata": {
    "execution": {
     "iopub.execute_input": "2022-04-09T17:22:02.032387Z",
     "iopub.status.busy": "2022-04-09T17:22:02.031573Z",
     "iopub.status.idle": "2022-04-09T17:22:02.034388Z",
     "shell.execute_reply": "2022-04-09T17:22:02.033855Z",
     "shell.execute_reply.started": "2022-04-09T07:04:56.590103Z"
    },
    "papermill": {
     "duration": 0.046215,
     "end_time": "2022-04-09T17:22:02.034545",
     "exception": false,
     "start_time": "2022-04-09T17:22:01.988330",
     "status": "completed"
    },
    "tags": []
   },
   "outputs": [],
   "source": [
    "# import requests\n",
    "# import fitz\n",
    "\n",
    "# #URL = 'https://buildmedia.readthedocs.org/media/pdf/pdfminer-docs/latest/pdfminer-docs.pdf'\n",
    "# URL = 'https://redactable-devox-stage.s3.us-east-2.amazonaws.com/tenants/41d9e109-693b-444c-aa18-e5891bc6550b/original/1a7c0e5d-3237-4ca9-9e3d-89e707245ac6/D8communications.pdf'\n",
    "\n",
    "\n",
    "# res = requests.get(URL)\n",
    "# doc = fitz.open(stream=res.content,filetype=\"pdf\")\n",
    "# page1 = doc.loadPage(3)\n",
    "# page1text = page1.getText(\"text\")\n",
    "# #rect = (72.1149,661.2966,131.95729,675.1716)\n",
    "# rect=(72.10812377929688, 116.13427734375, 133.97142028808594, 146.4227294921875)\n",
    "# labelled_text = page1.get_textbox(rect)\n",
    "# print(labelled_text.strip())\n",
    "\n",
    "# fulltext = page1.get_text()\n",
    "# print(fulltext)\n",
    "# doc = nlp(fulltext)\n",
    "# sentences = []\n",
    "# for sent in doc.sents:\n",
    "#     if labelled_text in sent.text:\n",
    "#         text = sent.text\n",
    "#         print(text)\n",
    "# #print(page1text)"
   ]
  },
  {
   "cell_type": "code",
   "execution_count": 13,
   "id": "bee63b26",
   "metadata": {
    "execution": {
     "iopub.execute_input": "2022-04-09T17:22:02.118924Z",
     "iopub.status.busy": "2022-04-09T17:22:02.118167Z",
     "iopub.status.idle": "2022-04-09T17:22:02.121359Z",
     "shell.execute_reply": "2022-04-09T17:22:02.120805Z",
     "shell.execute_reply.started": "2022-04-08T16:42:57.6659Z"
    },
    "papermill": {
     "duration": 0.046678,
     "end_time": "2022-04-09T17:22:02.121520",
     "exception": false,
     "start_time": "2022-04-09T17:22:02.074842",
     "status": "completed"
    },
    "tags": []
   },
   "outputs": [],
   "source": [
    "#res.content"
   ]
  },
  {
   "cell_type": "code",
   "execution_count": 14,
   "id": "32ec36d5",
   "metadata": {
    "execution": {
     "iopub.execute_input": "2022-04-09T17:22:02.202994Z",
     "iopub.status.busy": "2022-04-09T17:22:02.202157Z",
     "iopub.status.idle": "2022-04-09T17:22:02.205386Z",
     "shell.execute_reply": "2022-04-09T17:22:02.204753Z",
     "shell.execute_reply.started": "2022-04-08T16:48:05.672392Z"
    },
    "papermill": {
     "duration": 0.045371,
     "end_time": "2022-04-09T17:22:02.205555",
     "exception": false,
     "start_time": "2022-04-09T17:22:02.160184",
     "status": "completed"
    },
    "tags": []
   },
   "outputs": [],
   "source": [
    "# import fitz\n",
    "# # mem_area=\n",
    "# # doc = fitz.open(stream=mem_area, filetype=\"pdf\")\n",
    "\n",
    "# import requests\n",
    "\n",
    "# URL = 'https://redactable-devox-stage.s3.us-east-2.amazonaws.com/tenants/41d9e109-693b-444c-aa18-e5891bc6550b/original/1a7c0e5d-3237-4ca9-9e3d-89e707245ac6/D8communications.pdf'\n",
    "\n",
    "# #res = requests.get(URL)\n",
    "# doc=fitz.open(\"/kaggle/input/sample-pdf/D8communications.pdf\")\n",
    "# #doc = fitz.open(stream=res.content,filetype=\"pdf\")\n",
    "# page1 = doc.loadPage(4)\n",
    "# # page1text = page1.getText(\"text\")\n",
    "# # print(page1text)\n",
    "# blocks = page1.getText(\"blocks\")\n",
    "# blocks.sort(key=lambda block: block[1])  # sort vertically ascending\n",
    "\n",
    "# for b in blocks:\n",
    "#     print(b[4])\n"
   ]
  },
  {
   "cell_type": "code",
   "execution_count": 15,
   "id": "63f98d2d",
   "metadata": {
    "execution": {
     "iopub.execute_input": "2022-04-09T17:22:02.286310Z",
     "iopub.status.busy": "2022-04-09T17:22:02.285526Z",
     "iopub.status.idle": "2022-04-09T17:22:02.288382Z",
     "shell.execute_reply": "2022-04-09T17:22:02.287628Z",
     "shell.execute_reply.started": "2022-04-08T16:48:13.086323Z"
    },
    "papermill": {
     "duration": 0.044512,
     "end_time": "2022-04-09T17:22:02.288555",
     "exception": false,
     "start_time": "2022-04-09T17:22:02.244043",
     "status": "completed"
    },
    "tags": []
   },
   "outputs": [],
   "source": [
    "# # page = doc[1]\n",
    "# words = page.get_text(\"words\")\n",
    "# #print(words)\n",
    "# rect = (72.1149,661.2966,131.95729,675.1716)\n",
    "\n",
    "# labelled_text = page.get_textbox(rect)\n",
    "# # labelled_text"
   ]
  },
  {
   "cell_type": "markdown",
   "id": "97c3ce1b",
   "metadata": {
    "papermill": {
     "duration": 0.038066,
     "end_time": "2022-04-09T17:22:02.364189",
     "exception": false,
     "start_time": "2022-04-09T17:22:02.326123",
     "status": "completed"
    },
    "tags": []
   },
   "source": [
    "pip install PyPDF2"
   ]
  },
  {
   "cell_type": "code",
   "execution_count": null,
   "id": "01832ea7",
   "metadata": {
    "papermill": {
     "duration": 0.037446,
     "end_time": "2022-04-09T17:22:02.440438",
     "exception": false,
     "start_time": "2022-04-09T17:22:02.402992",
     "status": "completed"
    },
    "tags": []
   },
   "outputs": [],
   "source": []
  },
  {
   "cell_type": "code",
   "execution_count": 16,
   "id": "7f84ffc3",
   "metadata": {
    "execution": {
     "iopub.execute_input": "2022-04-09T17:22:02.520210Z",
     "iopub.status.busy": "2022-04-09T17:22:02.519463Z",
     "iopub.status.idle": "2022-04-09T17:22:02.522580Z",
     "shell.execute_reply": "2022-04-09T17:22:02.523179Z",
     "shell.execute_reply.started": "2022-03-18T16:48:58.370268Z"
    },
    "papermill": {
     "duration": 0.045052,
     "end_time": "2022-04-09T17:22:02.523518",
     "exception": false,
     "start_time": "2022-04-09T17:22:02.478466",
     "status": "completed"
    },
    "tags": []
   },
   "outputs": [],
   "source": [
    "# import pandas as pd\n",
    "# h={'step': 0, 'type': 'string', 'amount': 0.0, 'nameOrig': 'C1231006815', 'oldbalanceOrig': 0.0, 'newbalanceOrig': 0.0, 'nameDest': 'M1979787155', 'oldbalanceDest': 0.0, 'newbalanceDest': 0.0}\n",
    "# df=pd.DataFrame([h])"
   ]
  },
  {
   "cell_type": "code",
   "execution_count": 17,
   "id": "351dcc9c",
   "metadata": {
    "execution": {
     "iopub.execute_input": "2022-04-09T17:22:02.604206Z",
     "iopub.status.busy": "2022-04-09T17:22:02.603473Z",
     "iopub.status.idle": "2022-04-09T17:22:02.606430Z",
     "shell.execute_reply": "2022-04-09T17:22:02.607011Z",
     "shell.execute_reply.started": "2022-04-09T17:21:26.021615Z"
    },
    "papermill": {
     "duration": 0.045438,
     "end_time": "2022-04-09T17:22:02.607190",
     "exception": false,
     "start_time": "2022-04-09T17:22:02.561752",
     "status": "completed"
    },
    "tags": []
   },
   "outputs": [],
   "source": [
    "#df"
   ]
  },
  {
   "cell_type": "code",
   "execution_count": null,
   "id": "4884fc05",
   "metadata": {
    "papermill": {
     "duration": 0.037897,
     "end_time": "2022-04-09T17:22:02.683253",
     "exception": false,
     "start_time": "2022-04-09T17:22:02.645356",
     "status": "completed"
    },
    "tags": []
   },
   "outputs": [],
   "source": []
  }
 ],
 "metadata": {
  "kernelspec": {
   "display_name": "Python 3",
   "language": "python",
   "name": "python3"
  },
  "language_info": {
   "codemirror_mode": {
    "name": "ipython",
    "version": 3
   },
   "file_extension": ".py",
   "mimetype": "text/x-python",
   "name": "python",
   "nbconvert_exporter": "python",
   "pygments_lexer": "ipython3",
   "version": "3.7.12"
  },
  "papermill": {
   "default_parameters": {},
   "duration": 16.82874,
   "end_time": "2022-04-09T17:22:03.433775",
   "environment_variables": {},
   "exception": null,
   "input_path": "__notebook__.ipynb",
   "output_path": "__notebook__.ipynb",
   "parameters": {},
   "start_time": "2022-04-09T17:21:46.605035",
   "version": "2.3.3"
  }
 },
 "nbformat": 4,
 "nbformat_minor": 5
}
