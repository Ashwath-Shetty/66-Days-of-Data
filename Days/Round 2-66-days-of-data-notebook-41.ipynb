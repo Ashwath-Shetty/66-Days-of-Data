{
 "cells": [
  {
   "cell_type": "code",
   "execution_count": 1,
   "id": "e8571759",
   "metadata": {
    "_cell_guid": "b1076dfc-b9ad-4769-8c92-a6c4dae69d19",
    "_uuid": "8f2839f25d086af736a60e9eeb907d3b93b6e0e5",
    "execution": {
     "iopub.execute_input": "2022-04-21T18:21:34.558844Z",
     "iopub.status.busy": "2022-04-21T18:21:34.558030Z",
     "iopub.status.idle": "2022-04-21T18:21:34.567678Z",
     "shell.execute_reply": "2022-04-21T18:21:34.566809Z",
     "shell.execute_reply.started": "2022-04-12T14:12:25.248687Z"
    },
    "papermill": {
     "duration": 0.089529,
     "end_time": "2022-04-21T18:21:34.567861",
     "exception": false,
     "start_time": "2022-04-21T18:21:34.478332",
     "status": "completed"
    },
    "tags": []
   },
   "outputs": [
    {
     "name": "stdout",
     "output_type": "stream",
     "text": [
      "/kaggle/input/sample-pdf/D8communications.pdf\n"
     ]
    }
   ],
   "source": [
    "# This Python 3 environment comes with many helpful analytics libraries installed\n",
    "# It is defined by the kaggle/python Docker image: https://github.com/kaggle/docker-python\n",
    "# For example, here's several helpful packages to load\n",
    "\n",
    "import numpy as np # linear algebra\n",
    "import pandas as pd # data processing, CSV file I/O (e.g. pd.read_csv)\n",
    "\n",
    "# Input data files are available in the read-only \"../input/\" directory\n",
    "# For example, running this (by clicking run or pressing Shift+Enter) will list all files under the input directory\n",
    "\n",
    "import os\n",
    "for dirname, _, filenames in os.walk('/kaggle/input'):\n",
    "    for filename in filenames:\n",
    "        print(os.path.join(dirname, filename))\n",
    "\n",
    "# You can write up to 20GB to the current directory (/kaggle/working/) that gets preserved as output when you create a version using \"Save & Run All\" \n",
    "# You can also write temporary files to /kaggle/temp/, but they won't be saved outside of the current session"
   ]
  },
  {
   "cell_type": "markdown",
   "id": "aefcc670",
   "metadata": {
    "papermill": {
     "duration": 0.061018,
     "end_time": "2022-04-21T18:21:34.692293",
     "exception": false,
     "start_time": "2022-04-21T18:21:34.631275",
     "status": "completed"
    },
    "tags": []
   },
   "source": [
    "# **Start Date: 12/3/2022**"
   ]
  },
  {
   "cell_type": "markdown",
   "id": "d65e5f88",
   "metadata": {
    "papermill": {
     "duration": 0.061226,
     "end_time": "2022-04-21T18:21:34.815396",
     "exception": false,
     "start_time": "2022-04-21T18:21:34.754170",
     "status": "completed"
    },
    "tags": []
   },
   "source": [
    "# **Day 1:** \n",
    "<br>dataquest -> stats -> probability-> estimating probability\n",
    "1. out come is nothing but o/p of an experiment\n",
    "ex: whatever u get after rolling a dice -> it can be any number\n",
    "2. event can have more than one outcome\n",
    "- e.x: The event that we'll get an odd number when we roll a six-sided die — this event includes the outcomes 1, 3, and 5.\n",
    "- an event can be 0 as well.\n",
    "- We always assign probabilities to events, not outcomes, even if the event includes only one outcome.\n",
    "- P(E) =1/total number of possible outcomes, P(E) probability of an event happening.\n",
    "- but above formula doesn't work always, especially when there are more than one outcome\n",
    "    - P(E)=number of successful outcomes/total number of possible outcomes\n",
    "- incase of a biased situation \n",
    "  - let's say a die has 6 - 3 times which is 1,6,3,5,6,6\n",
    "    we will consider 6 as 3 times not 1.\n",
    "    possible outcome-> 1,3,5,6,6,6\n",
    "    prob(6)=3/6\n",
    "    prob(3)=1/6\n",
    "    prob(2)=0/6\n",
    "    If we didn't treat each 6 differently and said it doesn't matter which side a 6 is on, \n",
    "    <br>we'd be forced to conclude the only possible outcomes are 1, 3, 5 and 6. We can definitely         <br>frame the problem like that, but the formula above won't work anymore — we see below P(6) <br>becomes the same as P(3), but, intuitively, P(6) should be higher than P(3) since the die has 6 on     <br>three of its sides:\n"
   ]
  },
  {
   "cell_type": "markdown",
   "id": "a7ba640c",
   "metadata": {
    "papermill": {
     "duration": 0.062193,
     "end_time": "2022-04-21T18:21:34.939858",
     "exception": false,
     "start_time": "2022-04-21T18:21:34.877665",
     "status": "completed"
    },
    "tags": []
   },
   "source": [
    "Estimating Probabilities Conclusion\n",
    "- emperical/ experimental probability\n",
    "  - probability achieved by experimenting / by doing the same event multiple times.\n",
    "  - Generally, for any event E (like a coin landing heads up), we can find its empirical probability   \n",
    "     by using the following formula: \n",
    "     •P (E) =number of times event E happened/ number of times we repeated the experiment   \n",
    " - Generally, the empirical probability of an event (a coin landing heads up, getting a 5 when weroll a die) approaches the true probability value as the number of trials of the randomexperiment (a coin toss, the rolling of a die) increases without bound.\n",
    "- When we calculate the probability of an event under the assumption that the outcomes have equal chances of occurring, we say that we're calculating the **theoretical probability** of an event.\n",
    "   - P(E)=number of successful outcomes/total number of possible outcomes\n",
    "\n"
   ]
  },
  {
   "cell_type": "markdown",
   "id": "4999fe99",
   "metadata": {
    "papermill": {
     "duration": 0.061642,
     "end_time": "2022-04-21T18:21:35.062682",
     "exception": false,
     "start_time": "2022-04-21T18:21:35.001040",
     "status": "completed"
    },
    "tags": []
   },
   "source": [
    "# **Day 2**\n",
    "<br>dataquest-> stats -> intro to probability -> probability rules\n",
    "<br>In probability theory, the set of all possible outcomes is called a sample space. A sample space is often denoted by the capital Greek letter Ω (read \"omega\"). This is how we represent the sample space of a die roll:\n",
    "\n",
    "Ω = {1,2,3,4,5,6}\n",
    "-    The probability of any event ranges between 0 and 1: 0≤ P(Event) ≤1\n",
    "- To calculate P(A or B), we can also use the formula below, which is sometimes called the addition rule: P(A or B) = P(A) + P(B)\n",
    "  - Sample space ={ 1,2,3,4,5,6} \n",
    "  - P(2 or 5) = 2/6\n",
    "\n",
    "- P(C or D) = P(C) + P(D) - P(C and D)\n",
    "   - e.x : Sample_space ={2,4,6} + { 4,5,6} - {4/6}\n",
    "      P( even number or number greater than 3) = ( (3/6) + (3/6) )- (2/6) = 4/6\n",
    "- Events that don't intersect are called mutually exclusive.\n",
    "  - e.x: Getting a 5 (event one) and getting a 3 (event two) when we roll a regular six-sided die — it's  impossible to get both a 5 and 3.\n",
    "- Events that intersect are called mutually non-exclusive.\n",
    "  - Getting a number greater than 2 (event one) and getting an odd number (event two) when we roll a regular six-sided die — we could get a 5, which is both greater than 2 (event one) and odd (event two).\n",
    "- unioun -> A or B, intersection -> A and B"
   ]
  },
  {
   "cell_type": "markdown",
   "id": "0047c375",
   "metadata": {
    "papermill": {
     "duration": 0.061736,
     "end_time": "2022-04-21T18:21:35.186060",
     "exception": false,
     "start_time": "2022-04-21T18:21:35.124324",
     "status": "completed"
    },
    "tags": []
   },
   "source": [
    "# Day 3 and 4\n",
    "dataquest -> stats -> probabilities -> solving complex probabilities\n",
    "- This is the same result we got from our previous approach. In more general terms, the multiplication rule says that for two events E1 and E2, the probability that both event E1 and E2 happen can be found by multiplying the probability of E1 by the probability of E2:\n",
    "    - P(E1 ∩ E2) = P(E1) × P(E2)\n",
    "    - Events that don't influence each other's probability are called independent events. If H1 happens, P(H2) stays the same, so H1 and H2 are independent. The multiplication rule we learned only works for independent events.\n",
    "    "
   ]
  },
  {
   "cell_type": "markdown",
   "id": "b8031fd8",
   "metadata": {
    "papermill": {
     "duration": 0.060571,
     "end_time": "2022-04-21T18:21:35.307310",
     "exception": false,
     "start_time": "2022-04-21T18:21:35.246739",
     "status": "completed"
    },
    "tags": []
   },
   "source": [
    "# Day 5\n",
    "- When we replace the cards after drawing, we say that we're sampling with replacement. When we don't put the cards back, we're sampling without replacement. \n"
   ]
  },
  {
   "cell_type": "markdown",
   "id": "90adc36f",
   "metadata": {
    "papermill": {
     "duration": 0.060311,
     "end_time": "2022-04-21T18:21:35.428830",
     "exception": false,
     "start_time": "2022-04-21T18:21:35.368519",
     "status": "completed"
    },
    "tags": []
   },
   "source": [
    "# Day6\n",
    "dataquest-> prob and stats -> probability fundamentals -> permutation and combinations\n",
    "Generally, if we have an experiment E1 (like flipping a coin) with a outcomes, followed by an experiment E2 (like rolling a die) with b outcomes, then the total number of outcomes for the composite experiment E1E2 can be found by multiplying a with b:\n",
    "\n",
    "Number of outcomes = a * b"
   ]
  },
  {
   "cell_type": "markdown",
   "id": "20de69f3",
   "metadata": {
    "papermill": {
     "duration": 0.060635,
     "end_time": "2022-04-21T18:21:35.550316",
     "exception": false,
     "start_time": "2022-04-21T18:21:35.489681",
     "status": "completed"
    },
    "tags": []
   },
   "source": [
    "# Day 7\n",
    "dataquest-> prob and stats -> probability fundamentals -> permutation and combinations <br>\n",
    "More generally, if we have an experiment E1 with a outcomes, followed by an experiment E2 with b outcomes, followed by an experiment En with z outcomes, the total number of outcomes for the composite experiment E1E2 ... En can be found by multiplying their individual outcomes:\n",
    "\n",
    "Number of outcomes= a * b * … * z"
   ]
  },
  {
   "cell_type": "markdown",
   "id": "a340d36d",
   "metadata": {
    "papermill": {
     "duration": 0.060971,
     "end_time": "2022-04-21T18:21:35.672031",
     "exception": false,
     "start_time": "2022-04-21T18:21:35.611060",
     "status": "completed"
    },
    "tags": []
   },
   "source": [
    "# Day 8\n",
    "dataquest-> prob and stats -> probability fundamentals -> permutation and combinations <br>\n",
    "permutations= n*(n-1)*(n-2)*....*2*1\n"
   ]
  },
  {
   "cell_type": "markdown",
   "id": "1d08ed13",
   "metadata": {
    "papermill": {
     "duration": 0.061493,
     "end_time": "2022-04-21T18:21:35.794912",
     "exception": false,
     "start_time": "2022-04-21T18:21:35.733419",
     "status": "completed"
    },
    "tags": []
   },
   "source": [
    "# Day 9\n",
    "dataquest-> prob and stats -> probability fundamentals -> permutation and combinations\n",
    "- in permutation order of the individual element in the arranement matters.\n",
    "   - for e.x: 9821 is different than 9281\n",
    "   - Permutations =n!  --> sample without replacement-> we are not putting back the sampled data.\n",
    "   - On the last screen, we learned to use the formula below to calculate permutations when we're sampling without replacement and taking only k objects from a group of n objects:\n",
    "   npk=n!/(n-k)!"
   ]
  },
  {
   "cell_type": "markdown",
   "id": "601da099",
   "metadata": {
    "papermill": {
     "duration": 0.06056,
     "end_time": "2022-04-21T18:21:35.916502",
     "exception": false,
     "start_time": "2022-04-21T18:21:35.855942",
     "status": "completed"
    },
    "tags": []
   },
   "source": [
    "# Day 10\n",
    "dataquest-> prob and stats -> probability fundamentals -> permutation and combinations\n",
    "- More generally, if the order of the elements in an arrangement doesn't matter, the arrangement is called a combination.\n",
    "- e.x: cards in a deck \n",
    "- nCk = n! / ((n-k)!*k!)"
   ]
  },
  {
   "cell_type": "markdown",
   "id": "ef9e210f",
   "metadata": {
    "papermill": {
     "duration": 0.061592,
     "end_time": "2022-04-21T18:21:36.041188",
     "exception": false,
     "start_time": "2022-04-21T18:21:35.979596",
     "status": "completed"
    },
    "tags": []
   },
   "source": [
    "# Day 11\n",
    "dataquest-> prob and stats -> probability fundamentals -> permutation and combinations\n",
    "- solved 1 probability problem.\n"
   ]
  },
  {
   "cell_type": "markdown",
   "id": "bd767551",
   "metadata": {
    "papermill": {
     "duration": 0.063601,
     "end_time": "2022-04-21T18:21:36.169622",
     "exception": false,
     "start_time": "2022-04-21T18:21:36.106021",
     "status": "completed"
    },
    "tags": []
   },
   "source": [
    "# Day 12\n",
    "dataquest-> prob and stats -> probability fundamentals -> permutation and combinations\n",
    "- finished probability and permutations by revising them.\n",
    "- If we have an experiment E1 (like flipping a coin) with a outcomes, followed by an experiment E2(like rolling a die) with b outcomes, then the total number of outcomes for the compositeexperiment E1E2 can be found by multiplying a with b (this is known as the rule of product):\n",
    "  - number of outcomes = a*b\n",
    "- If we have an experiment E1 with a outcomes, followed by an experiment E2 with b outcomes,followed by an experiment En with z outcomes, the total number of outcomes for the compositeexperiment E1E2 ... En can be found by multiplying their individual outcomes:\n",
    "   - number of outcomes = a*b* ... *z\n",
    "- There are two kinds of arrangements:\n",
    "   - •Arrangements where the order matters, which we call permutations.\n",
    "   - •Arrangements where the order doesn't matter, which we call combination\n",
    "- To find the number of permutations when we're sampling without replacement, we can use theformula:\n",
    "  - permutation = n!\n",
    "- To find the number of permutations when we're sampling without replacement and taking only kobjects from a group of n objects, we can use the formula:\n",
    "  - nPk = n!/(n-k)!\n",
    "- To find the number of combinations when we're sampling without replacement and taking only kobjects from a group of n objects, we can use the formula\n",
    "  - nCk = n! / ((n-k)!*k!)"
   ]
  },
  {
   "cell_type": "markdown",
   "id": "ad46350b",
   "metadata": {
    "papermill": {
     "duration": 0.060508,
     "end_time": "2022-04-21T18:21:36.302565",
     "exception": false,
     "start_time": "2022-04-21T18:21:36.242057",
     "status": "completed"
    },
    "tags": []
   },
   "source": [
    "# Day 13\n",
    "dataquest-> prob and stats -> probability fundamentals -> conditional probabilities\n",
    "- first 2 slides -> mainly the recap of old chapter(above one).\n"
   ]
  },
  {
   "cell_type": "markdown",
   "id": "77f3d9fd",
   "metadata": {
    "papermill": {
     "duration": 0.060932,
     "end_time": "2022-04-21T18:21:36.424963",
     "exception": false,
     "start_time": "2022-04-21T18:21:36.364031",
     "status": "completed"
    },
    "tags": []
   },
   "source": [
    "# Day 14\n",
    "dataquest-> prob and stats -> probability fundamentals -> conditional probabilities\n",
    "<br>slide 4 completed\n",
    "<br>conditional probabilities\n",
    "- probabilities with condition\n",
    "- P(5)=What is the probability of getting a 5? -> normal probability\n",
    "- P(5 | odd) =What is the probability of getting a 5 given the die showed an odd number? -> conditional prob.\n",
    "\n"
   ]
  },
  {
   "cell_type": "markdown",
   "id": "0117f8bf",
   "metadata": {
    "papermill": {
     "duration": 0.060994,
     "end_time": "2022-04-21T18:21:36.546963",
     "exception": false,
     "start_time": "2022-04-21T18:21:36.485969",
     "status": "completed"
    },
    "tags": []
   },
   "source": [
    "# Day 15\n",
    "dataquest-> prob and stats -> probability fundamentals -> conditional probabilities\n",
    "- on slide 5 not done yet.\n",
    "\n",
    "Say we roll a fair six-sided die and want to find the probability of getting an odd number, given the die showed a number greater than 1 after landing. Using probability notation, we want to find P(A|B) where:\n",
    "\n",
    "- A is the event that the number is odd: A = {1, 3, 5}\n",
    "- B is the event that the number is greater than 1: B = {2, 3, 4, 5, 6}\n",
    "- P(A/B)=number of succesfull outcomes / total number of outcomes.\n"
   ]
  },
  {
   "cell_type": "markdown",
   "id": "17248170",
   "metadata": {
    "papermill": {
     "duration": 0.062395,
     "end_time": "2022-04-21T18:21:36.671187",
     "exception": false,
     "start_time": "2022-04-21T18:21:36.608792",
     "status": "completed"
    },
    "tags": []
   },
   "source": [
    "# Day 16 and 17\n",
    "dataquest-> prob and stats -> probability fundamentals -> conditional probabilities\n",
    "\n",
    "on slide 6 not done yet."
   ]
  },
  {
   "cell_type": "markdown",
   "id": "547f61bc",
   "metadata": {
    "papermill": {
     "duration": 0.060888,
     "end_time": "2022-04-21T18:21:36.794179",
     "exception": false,
     "start_time": "2022-04-21T18:21:36.733291",
     "status": "completed"
    },
    "tags": []
   },
   "source": [
    "# Day 18\n",
    "dataquest-> prob and stats -> probability fundamentals -> conditional probabilities\n",
    "<br>slide 5 code half done"
   ]
  },
  {
   "cell_type": "markdown",
   "id": "8c6c5dd2",
   "metadata": {
    "papermill": {
     "duration": 0.063661,
     "end_time": "2022-04-21T18:21:36.920404",
     "exception": false,
     "start_time": "2022-04-21T18:21:36.856743",
     "status": "completed"
    },
    "tags": []
   },
   "source": [
    "# Day 19\n",
    "- The number of elements in a set is called the cardinal of the set. \n",
    "  Ω is a set, and the cardinal of \n",
    "   Ω = { 2,3,4,5,6}\n",
    "   cardinal(Ω)=5\n",
    "- P(A | B) = card(A ∩ B) / card(B)\n",
    "- Say we roll a fair six-sided die and want to find the probability of getting an odd number, given the die showed a number greater than 1 after landing. Using probability notation, we want to find P(A|B) where:\n",
    "    - A is the event that the number is odd: A = {1, 3, 5}\n",
    "     - B is the event that the number is greater than 1: B = {2, 3, 4, 5, 6}\n",
    "     - total number of possible outcomes = card({2,3,4,5,6}) =5\n",
    "     - number of successful outcomes = card({3,5})= 2\n",
    "- P(A | B) = card(A ∩ B) / card(B), we can also get the same result using P(A | B) = prob(A ∩ B) / prob(B)\n",
    "\n",
    "     "
   ]
  },
  {
   "cell_type": "markdown",
   "id": "788a45dc",
   "metadata": {
    "papermill": {
     "duration": 0.061754,
     "end_time": "2022-04-21T18:21:37.044182",
     "exception": false,
     "start_time": "2022-04-21T18:21:36.982428",
     "status": "completed"
    },
    "tags": []
   },
   "source": [
    "# Day 20\n",
    "dataquest-> prob and stats -> probability fundamentals -> conditional probabilities intermediate\n",
    "<br> slide 1 and 2\n",
    "- P( A | B ) ≠ P(A ∩ B), but rather:\n",
    "   - P(A | B) = P(A ∩ B) / P(B)\n",
    "   - P(A ∩ B) = P(A | B) ⋅ P(B)\n",
    "- Given that a customer bought a laptop, they will or will not also buy a mouse. This means we can be certain that either event (M|L) or (M^C|L) will happen:\n",
    "     - P(M | L) + P(M^C | L) = 1\n",
    "\n"
   ]
  },
  {
   "cell_type": "markdown",
   "id": "b122c6cf",
   "metadata": {
    "papermill": {
     "duration": 0.060693,
     "end_time": "2022-04-21T18:21:37.168003",
     "exception": false,
     "start_time": "2022-04-21T18:21:37.107310",
     "status": "completed"
    },
    "tags": []
   },
   "source": [
    "# Day 21\n",
    "dataquest-> prob and stats -> probability fundamentals -> conditional probabilities intermediate\n",
    "slide 1 and 2\n",
    "- P(A ∩ B) = P(B ∩ A)\n",
    "- multiplication rule of probability\n",
    "  -  P(A ∩ B) = P(B) ⋅ P(A | B) \n",
    "  - P(A ∩ B) = P(A) ⋅ P(B | A)\n",
    "- if P(A) and P(B) are statistically independent then \n",
    "  - P(A ∩ B) = P(A) ⋅ P(B)\n",
    "\n"
   ]
  },
  {
   "cell_type": "markdown",
   "id": "5ff42698",
   "metadata": {
    "papermill": {
     "duration": 0.060672,
     "end_time": "2022-04-21T18:21:37.289749",
     "exception": false,
     "start_time": "2022-04-21T18:21:37.229077",
     "status": "completed"
    },
    "tags": []
   },
   "source": [
    "# Day 22\n",
    "dataquest-> prob and stats -> probability fundamentals -> conditional probabilities intermediate \n",
    "<br>slide 6\n",
    "- If events events A and B are dependent, it means the occurrence of event A changes the probability of event B and vice versa.\n",
    "   - P(A) ≠ P(A | B)\n",
    "   - P(B) ≠ P(B | A)\n",
    "   - P(A ∩ B) ≠ P(A) ⋅ P(B)\n",
    "   - formula will become P(A ∩ B) ≠ P(A) ⋅ P(B/A)\n",
    "   "
   ]
  },
  {
   "cell_type": "markdown",
   "id": "feb134c2",
   "metadata": {
    "papermill": {
     "duration": 0.070031,
     "end_time": "2022-04-21T18:21:37.420652",
     "exception": false,
     "start_time": "2022-04-21T18:21:37.350621",
     "status": "completed"
    },
    "tags": []
   },
   "source": [
    "# Day 23\n",
    "dataquest-> prob and stats -> probability fundamentals -> conditional probabilities intermediate\n",
    "<br>slide 7 to last\n",
    "- To find whether three events — A, B, C — are independent or not, below conditions must hold true -\n",
    "  - P(A ∩ B) ≠ P(A) ⋅ P(B)\n",
    "  - P(A ∩ C) ≠ P(A) ⋅ P(C)\n",
    "  - P(B ∩ C) ≠ P(B) ⋅ P(C)\n",
    "  - P(A ∩ B ∩ C) ≠ P(A) ⋅ P(B) . P(C)\n",
    "- multiplication rule for conditional probability or dependent events\n",
    " - P(A ∩ B ∩ C) = P(A) ⋅ P(B | A) ⋅ P(C | A ∩ B)\n",
    " \n",
    "\n"
   ]
  },
  {
   "cell_type": "markdown",
   "id": "da0b692a",
   "metadata": {
    "papermill": {
     "duration": 0.060479,
     "end_time": "2022-04-21T18:21:37.543816",
     "exception": false,
     "start_time": "2022-04-21T18:21:37.483337",
     "status": "completed"
    },
    "tags": []
   },
   "source": [
    "# Day 24\n",
    "dataquest-> prob and stats -> probability fundamentals -> bayes theorem\n",
    "<br>slide 1\n",
    "- independent -> one event is dependent on other\n",
    "   - P(A ∩ B) = P(A) ⋅ P(B/A)\n",
    "- independent -> one event is not dependent on other.\n",
    "   - P(A ∩ B) = P(A) ⋅ P(B)\n",
    "- mutually exclusive -> both the events cannot happen at the same time.\n",
    "   - P(A ∩ B) = 0\n",
    "\n"
   ]
  },
  {
   "cell_type": "markdown",
   "id": "4a3a3ffd",
   "metadata": {
    "papermill": {
     "duration": 0.06101,
     "end_time": "2022-04-21T18:21:37.666175",
     "exception": false,
     "start_time": "2022-04-21T18:21:37.605165",
     "status": "completed"
    },
    "tags": []
   },
   "source": [
    "# Day 25\n",
    "dataquest-> prob and stats -> probability fundamentals -> bayes theorem\n",
    "<br>slide 2\n",
    "- If two events are exhaustive, it means they make up the whole sample space Ω\n",
    "  -  P(A) = P(A ∩ B) + P(A ∩ B^c)\n",
    "     P(A) = (P(B) * P(A/B)) +  (P(B^c) * P(A/B^c))\n",
    "     \n",
    "     "
   ]
  },
  {
   "cell_type": "markdown",
   "id": "737b3521",
   "metadata": {
    "papermill": {
     "duration": 0.060536,
     "end_time": "2022-04-21T18:21:37.789980",
     "exception": false,
     "start_time": "2022-04-21T18:21:37.729444",
     "status": "completed"
    },
    "tags": []
   },
   "source": [
    "# Day 26\n",
    "dataquest-> prob and stats -> probability fundamentals -> bayes theorem\n",
    "<br>slide 3 - last\n",
    "- the law of total probability\n",
    "  - P(A)  = (P(B1) * P(A/B1)) + (P(B2) * P(A/B2))+ ... + (P(Bn) * P(A/Bn)))\n",
    "  - P(A) =(summattion i=1 to n) P(Bi) ⋅ P(A|Bi)\n",
    "- Baye's theorem\n",
    "  - P(B | A) = (P(B) ⋅ P(A | B)) / (n ∑i=1 P(Bi) ⋅ P(A | Bi))\n",
    "- The probability of being infected with HIV before doing any test is called the prior probability (\"prior\" means \"before\"). The probability of being infected with HIV after testing positive is called the posterior probability (\"posterior\" means \"after\").\n",
    "\n",
    "\n",
    "  "
   ]
  },
  {
   "cell_type": "markdown",
   "id": "4160d465",
   "metadata": {
    "papermill": {
     "duration": 0.06139,
     "end_time": "2022-04-21T18:21:37.912261",
     "exception": false,
     "start_time": "2022-04-21T18:21:37.850871",
     "status": "completed"
    },
    "tags": []
   },
   "source": [
    "# Day 27\n",
    "dataquest-> prob and stats -> probability fundamentals -> naive bayes theorem\n",
    "<br>slide 1 - \n",
    "P(Spam|w1,w2,w3,w4)∝P(Spam)⋅P(w1|Spam)⋅P(w2|Spam)⋅P(w3|Spam)⋅P(w4|Spam)P(SpamC|w1,w2,w3,w4)∝P(SpamC)⋅P(w1|SpamC)⋅P(w2|SpamC)⋅P(w3|SpamC)⋅P(w4|SpamC)"
   ]
  },
  {
   "cell_type": "markdown",
   "id": "db27bdf8",
   "metadata": {
    "papermill": {
     "duration": 0.061782,
     "end_time": "2022-04-21T18:21:38.034908",
     "exception": false,
     "start_time": "2022-04-21T18:21:37.973126",
     "status": "completed"
    },
    "tags": []
   },
   "source": [
    "# Day 28\n",
    "dataquest-> prob and stats -> probability fundamentals -> naive bayes theorem\n",
    "<br>finished.\n",
    "<br>**Summary**\n",
    "- P(Spam|w1,w2,...,wn)∝P(Spam)⋅n∏i=1P(wi|Spam)\n",
    "- P(SpamC|w1,w2,...,wn)∝P(SpamC)⋅n∏i=1P(wi|SpamC)\n",
    "- To calculate P(wi|Spam) and P(wi|SpamC), we need to use the additive smoothing technique: \n",
    "- P ( w i | S p a m ) = (N w i | S p a m + α) / ( N S p a m + α ⋅ N V o c a b u l a r y )\n",
    "- P ( w i | S p a m C ) = (N w i | S p a m C + α) / ( N S p a m C + α ⋅ N V o c a b u l a r y )\n",
    "     - N w i | S p a m = the number of times the word w i occurs in spam messages \n",
    "     - N w i | S p a m C = the number of times the word w i occurs in non-spam messages \n",
    "     - N S p a m = total number of words in spam messages \n",
    "     - N S p a m C = total number of words in non-spam messages \n",
    "     - N V o c a b u l a r y = total number of words in the vocabulary \n",
    "     - α = 1 ( α is a smoothing parameter )\n",
    " - naive bayes theorem assumes that events are not dependent.\n",
    " - The assumption of conditional independence between words is thus naive since it rarely holds in practice, and this is why the algorithm is called Naive Bayes (also called simple Bayes or independence Bayes)."
   ]
  },
  {
   "cell_type": "markdown",
   "id": "c828e2d6",
   "metadata": {
    "papermill": {
     "duration": 0.062906,
     "end_time": "2022-04-21T18:21:38.159879",
     "exception": false,
     "start_time": "2022-04-21T18:21:38.096973",
     "status": "completed"
    },
    "tags": []
   },
   "source": [
    "# Day 29,30,31\n",
    "<br>dataquest-> prob and stats -> probability fundamentals -> conditional probability-> guided projects\n",
    "<br> in progress"
   ]
  },
  {
   "cell_type": "markdown",
   "id": "9f392ddc",
   "metadata": {
    "papermill": {
     "duration": 0.0611,
     "end_time": "2022-04-21T18:21:38.283738",
     "exception": false,
     "start_time": "2022-04-21T18:21:38.222638",
     "status": "completed"
    },
    "tags": []
   },
   "source": [
    "# Day 32 and 33\n",
    "<br>dataquest-> prob and stats -> probability fundamentals -> guided projects\n",
    "<br> done"
   ]
  },
  {
   "cell_type": "markdown",
   "id": "f821d974",
   "metadata": {
    "papermill": {
     "duration": 0.062736,
     "end_time": "2022-04-21T18:21:38.407336",
     "exception": false,
     "start_time": "2022-04-21T18:21:38.344600",
     "status": "completed"
    },
    "tags": []
   },
   "source": [
    "# Day 34\n",
    "<br>dataquest-> prob and stats -> probability fundamentals -> guided projects-> lottery prediction\n",
    "<br> done"
   ]
  },
  {
   "cell_type": "markdown",
   "id": "b42346fc",
   "metadata": {
    "papermill": {
     "duration": 0.060734,
     "end_time": "2022-04-21T18:21:38.528945",
     "exception": false,
     "start_time": "2022-04-21T18:21:38.468211",
     "status": "completed"
    },
    "tags": []
   },
   "source": [
    "# Day 35\n",
    "<br>dataquest-> prob and stats -> hypothesis testing fundamentals -> significance testing\n",
    "<br> till slide 4\n",
    "- null hypothesis\n",
    "- alternate hypothesis\n"
   ]
  },
  {
   "cell_type": "markdown",
   "id": "9e106322",
   "metadata": {
    "papermill": {
     "duration": 0.061312,
     "end_time": "2022-04-21T18:21:38.652773",
     "exception": false,
     "start_time": "2022-04-21T18:21:38.591461",
     "status": "completed"
    },
    "tags": []
   },
   "source": [
    "# Day 36 and 37\n",
    "<br>dataquest-> prob and stats -> hypothesis testing fundamentals -> significance testing\n",
    "- The permutation test is a statistical test that involves rerunning the study many times and recalculating the test statistic for each iteration. The goal is to calculate a distribution of the test statistics over these many iterations. This distribution is called the sampling distribution and it approximates the full range of possible test statistics under the null hypothesis\n",
    "\n"
   ]
  },
  {
   "cell_type": "markdown",
   "id": "3dc3549e",
   "metadata": {
    "papermill": {
     "duration": 0.060857,
     "end_time": "2022-04-21T18:21:38.774615",
     "exception": false,
     "start_time": "2022-04-21T18:21:38.713758",
     "status": "completed"
    },
    "tags": []
   },
   "source": [
    "# Day 38\n",
    "<br>dataquest-> prob and stats -> hypothesis testing fundamentals -> significance testing\n",
    "<br>in progress."
   ]
  },
  {
   "cell_type": "markdown",
   "id": "8ef15fb1",
   "metadata": {
    "papermill": {
     "duration": 0.060702,
     "end_time": "2022-04-21T18:21:38.896216",
     "exception": false,
     "start_time": "2022-04-21T18:21:38.835514",
     "status": "completed"
    },
    "tags": []
   },
   "source": [
    "# Day 39\n",
    "<br>dataquest-> prob and stats -> hypothesis testing fundamentals -> significance testing\n",
    "<br>slide 5-6"
   ]
  },
  {
   "cell_type": "markdown",
   "id": "00d26540",
   "metadata": {
    "papermill": {
     "duration": 0.063341,
     "end_time": "2022-04-21T18:21:39.021211",
     "exception": false,
     "start_time": "2022-04-21T18:21:38.957870",
     "status": "completed"
    },
    "tags": []
   },
   "source": [
    "# Day 40\n",
    "<br>dataquest-> prob and stats -> hypothesis testing fundamentals -> significance testing\n",
    "<br>slide 7"
   ]
  },
  {
   "cell_type": "markdown",
   "id": "c216897a",
   "metadata": {
    "papermill": {
     "duration": 0.062963,
     "end_time": "2022-04-21T18:21:39.149199",
     "exception": false,
     "start_time": "2022-04-21T18:21:39.086236",
     "status": "completed"
    },
    "tags": []
   },
   "source": [
    "# Day 41\n",
    "<br>dataquest-> prob and stats -> hypothesis testing fundamentals -> significance testing\n",
    "<br>slide 7 done and 8(p-value) strated"
   ]
  },
  {
   "cell_type": "code",
   "execution_count": 2,
   "id": "d59b012d",
   "metadata": {
    "execution": {
     "iopub.execute_input": "2022-04-21T18:21:39.275987Z",
     "iopub.status.busy": "2022-04-21T18:21:39.274955Z",
     "iopub.status.idle": "2022-04-21T18:21:39.277851Z",
     "shell.execute_reply": "2022-04-21T18:21:39.277339Z",
     "shell.execute_reply.started": "2022-04-12T14:17:49.333113Z"
    },
    "papermill": {
     "duration": 0.068091,
     "end_time": "2022-04-21T18:21:39.277995",
     "exception": false,
     "start_time": "2022-04-21T18:21:39.209904",
     "status": "completed"
    },
    "tags": []
   },
   "outputs": [],
   "source": [
    "# !pip install PyMuPDF"
   ]
  },
  {
   "cell_type": "code",
   "execution_count": 3,
   "id": "610c96e5",
   "metadata": {
    "execution": {
     "iopub.execute_input": "2022-04-21T18:21:39.405041Z",
     "iopub.status.busy": "2022-04-21T18:21:39.404367Z",
     "iopub.status.idle": "2022-04-21T18:21:39.407378Z",
     "shell.execute_reply": "2022-04-21T18:21:39.407830Z",
     "shell.execute_reply.started": "2022-04-12T14:19:20.437905Z"
    },
    "papermill": {
     "duration": 0.068296,
     "end_time": "2022-04-21T18:21:39.408006",
     "exception": false,
     "start_time": "2022-04-21T18:21:39.339710",
     "status": "completed"
    },
    "tags": []
   },
   "outputs": [],
   "source": [
    " \n",
    "# fitz.__version__"
   ]
  },
  {
   "cell_type": "code",
   "execution_count": 4,
   "id": "239d147b",
   "metadata": {
    "execution": {
     "iopub.execute_input": "2022-04-21T18:21:39.538290Z",
     "iopub.status.busy": "2022-04-21T18:21:39.537569Z",
     "iopub.status.idle": "2022-04-21T18:21:39.540454Z",
     "shell.execute_reply": "2022-04-21T18:21:39.540935Z",
     "shell.execute_reply.started": "2022-04-12T14:23:59.687259Z"
    },
    "papermill": {
     "duration": 0.067739,
     "end_time": "2022-04-21T18:21:39.541147",
     "exception": false,
     "start_time": "2022-04-21T18:21:39.473408",
     "status": "completed"
    },
    "tags": []
   },
   "outputs": [],
   "source": [
    "# !python -m spacy download en_core_web_sm"
   ]
  },
  {
   "cell_type": "code",
   "execution_count": null,
   "id": "8706bddb",
   "metadata": {
    "papermill": {
     "duration": 0.062911,
     "end_time": "2022-04-21T18:21:39.667611",
     "exception": false,
     "start_time": "2022-04-21T18:21:39.604700",
     "status": "completed"
    },
    "tags": []
   },
   "outputs": [],
   "source": []
  },
  {
   "cell_type": "code",
   "execution_count": 5,
   "id": "eedd8cb1",
   "metadata": {
    "execution": {
     "iopub.execute_input": "2022-04-21T18:21:39.795329Z",
     "iopub.status.busy": "2022-04-21T18:21:39.794555Z",
     "iopub.status.idle": "2022-04-21T18:21:39.797454Z",
     "shell.execute_reply": "2022-04-21T18:21:39.797964Z",
     "shell.execute_reply.started": "2022-04-12T14:18:25.912243Z"
    },
    "papermill": {
     "duration": 0.067749,
     "end_time": "2022-04-21T18:21:39.798150",
     "exception": false,
     "start_time": "2022-04-21T18:21:39.730401",
     "status": "completed"
    },
    "tags": []
   },
   "outputs": [],
   "source": [
    "# import fitz\n",
    "# import spacy\n",
    "# import re\n",
    "# from pathlib import Path\n",
    "# import requests\n",
    "# import os"
   ]
  },
  {
   "cell_type": "code",
   "execution_count": 6,
   "id": "6cd32046",
   "metadata": {
    "execution": {
     "iopub.execute_input": "2022-04-21T18:21:39.925471Z",
     "iopub.status.busy": "2022-04-21T18:21:39.924684Z",
     "iopub.status.idle": "2022-04-21T18:21:39.928375Z",
     "shell.execute_reply": "2022-04-21T18:21:39.928851Z",
     "shell.execute_reply.started": "2022-04-12T15:03:43.5897Z"
    },
    "papermill": {
     "duration": 0.068751,
     "end_time": "2022-04-21T18:21:39.929035",
     "exception": false,
     "start_time": "2022-04-21T18:21:39.860284",
     "status": "completed"
    },
    "tags": []
   },
   "outputs": [],
   "source": [
    "# sql_db_json = [\n",
    "#   {\n",
    "#     \"document_id\": \"1\",\n",
    "#     \"area\": \"[72.1149,661.2966,131.95729,675.1716]\",\n",
    "#     \"page\": \"3\",\n",
    "#     \"text_\": \"Background\",\n",
    "#     \"type_of_selection\": \"Text\",\n",
    "#     \"entity_type\": \"name\",\n",
    "#     \"link\": \"https://redactable-devox-stage.s3.us-east-2.amazonaws.com/tenants/41d9e109-693b-444c-aa18-e5891bc6550b/original/1a7c0e5d-3237-4ca9-9e3d-89e707245ac6/D8communications.pdf\"\n",
    "#   },\n",
    "#   {\n",
    "#     \"document_id\": \"1\",\n",
    "#     \"area\": \"[290.55386,632.0173,322.14685,645.8923]\",\n",
    "#     \"page\": \"2\",\n",
    "#     \"text_\": \"INDEX\",\n",
    "#     \"type_of_selection\": \"Text\",\n",
    "#     \"entity_type\": \"address\",\n",
    "#     \"link\": \"https://redactable-devox-stage.s3.us-east-2.amazonaws.com/tenants/41d9e109-693b-444c-aa18-e5891bc6550b/original/1a7c0e5d-3237-4ca9-9e3d-89e707245ac6/D8communications.pdf\"\n",
    "#   }\n",
    "# ]"
   ]
  },
  {
   "cell_type": "code",
   "execution_count": 7,
   "id": "3ed0c174",
   "metadata": {
    "execution": {
     "iopub.execute_input": "2022-04-21T18:21:40.058360Z",
     "iopub.status.busy": "2022-04-21T18:21:40.057640Z",
     "iopub.status.idle": "2022-04-21T18:21:40.060205Z",
     "shell.execute_reply": "2022-04-21T18:21:40.060644Z",
     "shell.execute_reply.started": "2022-04-12T13:17:19.452695Z"
    },
    "papermill": {
     "duration": 0.06798,
     "end_time": "2022-04-21T18:21:40.060851",
     "exception": false,
     "start_time": "2022-04-21T18:21:39.992871",
     "status": "completed"
    },
    "tags": []
   },
   "outputs": [],
   "source": [
    "# l=pd.DataFrame()\n",
    "# k=(1, '[290.55386,632.0173,322.14685,645.8923]', 2, 'INDEX', 'Text', 'address', 'https://redactable-devox-s')\n",
    "# k\n"
   ]
  },
  {
   "cell_type": "code",
   "execution_count": 8,
   "id": "e404e72e",
   "metadata": {
    "execution": {
     "iopub.execute_input": "2022-04-21T18:21:40.191501Z",
     "iopub.status.busy": "2022-04-21T18:21:40.190760Z",
     "iopub.status.idle": "2022-04-21T18:21:40.194376Z",
     "shell.execute_reply": "2022-04-21T18:21:40.194882Z",
     "shell.execute_reply.started": "2022-04-12T16:09:33.708631Z"
    },
    "papermill": {
     "duration": 0.069711,
     "end_time": "2022-04-21T18:21:40.195069",
     "exception": false,
     "start_time": "2022-04-21T18:21:40.125358",
     "status": "completed"
    },
    "tags": []
   },
   "outputs": [],
   "source": [
    "# co=[\"document_id\",\"area\",\"page\",\"text_\",\"type_of_selection\",\"entity_type\",\"link\"]\n",
    "# val= [(1,'[72.1149,661.2966,131.95729,675.1716]',3,'Background','Text','name' ,'https://redactable-devox-stage.s3.us-east-2.am'), (1,  '[290.55386,632.0173,322.14685,645.8923]',2,'INDEX', 'Text','address','https://redactable-devox-stage.s3.us-east-2.am')]\n",
    "\n",
    "# df=pd.DataFrame(val,columns=[co])\n",
    "# #df.iloc[1] =[1,  '[290.55386,632.0173,322.14685,645.8923]',2,'INDEX', 'Text','address','https://redactable-devox-stage.s3.us-east-2.am']\n",
    "# df"
   ]
  },
  {
   "cell_type": "code",
   "execution_count": 9,
   "id": "3206ff71",
   "metadata": {
    "execution": {
     "iopub.execute_input": "2022-04-21T18:21:40.327013Z",
     "iopub.status.busy": "2022-04-21T18:21:40.326320Z",
     "iopub.status.idle": "2022-04-21T18:21:40.328797Z",
     "shell.execute_reply": "2022-04-21T18:21:40.329261Z",
     "shell.execute_reply.started": "2022-04-12T16:18:22.595374Z"
    },
    "papermill": {
     "duration": 0.071839,
     "end_time": "2022-04-21T18:21:40.329435",
     "exception": false,
     "start_time": "2022-04-21T18:21:40.257596",
     "status": "completed"
    },
    "tags": []
   },
   "outputs": [],
   "source": [
    "# prev=[]\n",
    "# for data,row in df.iterrows():\n",
    "#     if row['document_id'] not in prev:\n",
    "#         prev.append(row['document_id'])\n",
    "#         print('hey')"
   ]
  },
  {
   "cell_type": "code",
   "execution_count": 10,
   "id": "f20135bc",
   "metadata": {
    "execution": {
     "iopub.execute_input": "2022-04-21T18:21:40.461741Z",
     "iopub.status.busy": "2022-04-21T18:21:40.460974Z",
     "iopub.status.idle": "2022-04-21T18:21:40.467279Z",
     "shell.execute_reply": "2022-04-21T18:21:40.466553Z",
     "shell.execute_reply.started": "2022-04-12T15:03:48.248836Z"
    },
    "papermill": {
     "duration": 0.074941,
     "end_time": "2022-04-21T18:21:40.467428",
     "exception": false,
     "start_time": "2022-04-21T18:21:40.392487",
     "status": "completed"
    },
    "tags": []
   },
   "outputs": [],
   "source": [
    "# nlp = spacy.load('en_core_web_sm')\n",
    "# train_data = []\n",
    "\n",
    "# prev_doc_id = ''\n",
    "# i=0\n",
    "# temp='/kaggle/working'\n",
    "\n",
    "# for data in sql_db_json:\n",
    "#     if data['type_of_selection'] == 'Text':\n",
    "#         document_id = data['document_id']\n",
    "#         x1,y1,x2,y2 = data['area'][1:-1].split(',')\n",
    "#         url = data['link']\n",
    "#         page_no = int(data['page']) - 1 \n",
    "#         label = data['entity_type']\n",
    "#         filename = url.split('/')[-1]\n",
    "    \n",
    "#         #download the file to temp folder\n",
    "#         outpath = os.path.join(temp,filename)\n",
    "\n",
    "#         if document_id == prev_doc_id:\n",
    "#             pass\n",
    "#         else: \n",
    "#             i+=1\n",
    "#             print(i)\n",
    "#             response = requests.get(url)\n",
    "#             with open(outpath, \"wb\") as binary_file:\n",
    "#                 binary_file.write(response.content)\n",
    "\n",
    "#         doc = fitz.open(outpath)  # any supported document type\n",
    "#         page = doc[page_no]  # we want text from this page\n",
    "#         print('page dimension - ', page.rect.width, page.rect.height)\n",
    "\n",
    "#         #The co-ordinates in the DB are image co-ords. W.r.t pdf, y1 and y2 has to be interchanged.\n",
    "#         #To ensure entire word to be selected, slight correction in x1,y1,x2,y2 is done.\n",
    "\n",
    "#         rect = [float(x1)-2, 792 - float(y2)-2, float(x2)+2, 792 - float(y1)+2]\n",
    "#         print(rect)\n",
    "#         labelled_text = page.get_textbox(rect)\n",
    "\n",
    "#         #Removing all unprintable characters from the text\n",
    "#         string = re.sub('[^0-9a-zA-Z@?|\\/<>.,()&^%$#!]+', ' ', labelled_text)\n",
    "#         print('string : ', string)\n",
    "\n",
    "#         fulltext = page.get_text()\n",
    "#         doc = nlp(fulltext)\n",
    "\n",
    "#         sentences = []\n",
    "#         for sent in doc.sents:\n",
    "#             if string.strip() in sent.text:\n",
    "#                 text = re.sub('[^0-9a-zA-Z@?|\\/<>.,()&^%$#!]+', ' ', sent.text)\n",
    "\n",
    "#         res = re.search(string.strip(), text)\n",
    "\n",
    "#         entities = []\n",
    "#         entities.append((res.start(),res.end(),label))\n",
    "\n",
    "#         train_data.append((text,{'entities':entities}))\n",
    "\n",
    "# print('Training data in spacy format')\n",
    "# print('*****************************')\n",
    "# for i in range(0,len(train_data)):\n",
    "#     print(train_data[i])"
   ]
  },
  {
   "cell_type": "code",
   "execution_count": null,
   "id": "bb19b7a1",
   "metadata": {
    "papermill": {
     "duration": 0.064692,
     "end_time": "2022-04-21T18:21:40.596262",
     "exception": false,
     "start_time": "2022-04-21T18:21:40.531570",
     "status": "completed"
    },
    "tags": []
   },
   "outputs": [],
   "source": []
  },
  {
   "cell_type": "code",
   "execution_count": 11,
   "id": "85d447b6",
   "metadata": {
    "execution": {
     "iopub.execute_input": "2022-04-21T18:21:40.726068Z",
     "iopub.status.busy": "2022-04-21T18:21:40.725170Z",
     "iopub.status.idle": "2022-04-21T18:21:40.727718Z",
     "shell.execute_reply": "2022-04-21T18:21:40.727216Z",
     "shell.execute_reply.started": "2022-04-12T11:44:59.253637Z"
    },
    "papermill": {
     "duration": 0.070082,
     "end_time": "2022-04-21T18:21:40.727860",
     "exception": false,
     "start_time": "2022-04-21T18:21:40.657778",
     "status": "completed"
    },
    "tags": []
   },
   "outputs": [],
   "source": [
    "# nlp = spacy.load('en_core_web_sm')\n",
    "# train_data = []\n",
    "\n",
    "# prev_doc_id = ''\n",
    "# temp='/kaggle/working'\n",
    "# i=0\n",
    "# for data in sql_db_json:\n",
    "#     if data['type_of_selection'] == 'Text':\n",
    "#         document_id = data['document_id']\n",
    "#         x1,y1,x2,y2 = data['area'][1:-1].split(',')\n",
    "#         url = data['link']\n",
    "#         page_no = int(data['page']) - 1 \n",
    "#         label = data['entity_type']\n",
    "#         filename = url.split('/')[-1]\n",
    "    \n",
    "#         #download the file to temp folder\n",
    "#         i+=1\n",
    "#         print(i)\n",
    "#         response = requests.get(url)\n",
    "#         doc = fitz.open(stream=response.content,filetype=\"pdf\")  # any supported document type\n",
    "#         page = doc[page_no]  # we want text from this page\n",
    "#         print('page dimension - ', page.rect.width, page.rect.height)\n",
    "\n",
    "#         #The co-ordinates in the DB are image co-ords. W.r.t pdf, y1 and y2 has to be interchanged.\n",
    "#         #To ensure entire word to be selected, slight correction in x1,y1,x2,y2 is done.\n",
    "\n",
    "#         rect = [float(x1)-2, 792 - float(y2)-2, float(x2)+2, 792 - float(y1)+2]\n",
    "#         print(rect)\n",
    "#         labelled_text = page.get_textbox(rect)\n",
    "\n",
    "#         #Removing all unprintable characters from the text\n",
    "#         string = re.sub('[^0-9a-zA-Z@?|\\/<>.,()&^%$#!]+', ' ', labelled_text)\n",
    "#         print('string : ', string)\n",
    "\n",
    "#         fulltext = page.get_text()\n",
    "#         doc = nlp(fulltext)\n",
    "\n",
    "#         sentences = []\n",
    "#         for sent in doc.sents:\n",
    "#             if string.strip() in sent.text:\n",
    "#                 text = re.sub('[^0-9a-zA-Z@?|\\/<>.,()&^%$#!]+', ' ', sent.text)\n",
    "\n",
    "#         res = re.search(string.strip(), text)\n",
    "\n",
    "#         entities = []\n",
    "#         entities.append((res.start(),res.end(),label))\n",
    "\n",
    "#         train_data.append((text,{'entities':entities}))\n",
    "\n",
    "# print('Training data in spacy format')\n",
    "# print('*****************************')\n",
    "# for i in range(0,len(train_data)):\n",
    "#     print(train_data[i])"
   ]
  },
  {
   "cell_type": "code",
   "execution_count": 12,
   "id": "cc82e359",
   "metadata": {
    "execution": {
     "iopub.execute_input": "2022-04-21T18:21:40.859310Z",
     "iopub.status.busy": "2022-04-21T18:21:40.858581Z",
     "iopub.status.idle": "2022-04-21T18:21:40.861847Z",
     "shell.execute_reply": "2022-04-21T18:21:40.862450Z"
    },
    "papermill": {
     "duration": 0.067732,
     "end_time": "2022-04-21T18:21:40.862622",
     "exception": false,
     "start_time": "2022-04-21T18:21:40.794890",
     "status": "completed"
    },
    "tags": []
   },
   "outputs": [],
   "source": [
    "# page dimension -  612.0 792.0\n",
    "# [70.1149, 114.82839999999999, 133.95729, 132.7034]\n",
    "# string :  Background\n",
    "# page dimension -  612.0 792.0\n",
    "# [288.55386, 144.10770000000002, 324.14685, 161.98270000000002]\n",
    "# string :  INDEX\n",
    "# Training data in spacy format\n",
    "# *****************************\n",
    "# (' 3 Background The Blue Ribbon Committee was created by the Mayor to assess various city communication methods and recommend opportunities to improve communications with residents, businesses and other organizations.', {'entities': [(3, 13, 'name')]})\n",
    "# (' 2 INDEX Background Pg. 3 Purpose Pg. 3 Process .', {'entities': [(3, 8, 'address')]})"
   ]
  },
  {
   "cell_type": "code",
   "execution_count": 13,
   "id": "d4893656",
   "metadata": {
    "execution": {
     "iopub.execute_input": "2022-04-21T18:21:40.989693Z",
     "iopub.status.busy": "2022-04-21T18:21:40.988991Z",
     "iopub.status.idle": "2022-04-21T18:21:40.993070Z",
     "shell.execute_reply": "2022-04-21T18:21:40.993654Z",
     "shell.execute_reply.started": "2022-04-11T16:35:29.609712Z"
    },
    "papermill": {
     "duration": 0.06972,
     "end_time": "2022-04-21T18:21:40.993849",
     "exception": false,
     "start_time": "2022-04-21T18:21:40.924129",
     "status": "completed"
    },
    "tags": []
   },
   "outputs": [],
   "source": [
    "# nlp = spacy.load('en_core_web_sm')\n",
    "# outpath=r'/kaggle/input/sample-pdf/D8communications.pdf'\n",
    "# doc = fitz.open(outpath)  # any supported document type\n",
    "# page_no=3\n",
    "# page = doc[page_no-1]\n",
    "\n",
    "# x1,y1,x2,y2=(72.1149,661.2966,131.95729,675.1716)\n",
    "\n",
    "# rect = [float(x1)-2, 792 - float(y2)-2, float(x2)+2, 792 - float(y1)+2]\n",
    "# print(rect)\n",
    "# labelled_text = page.get_textbox(rect)\n",
    "# string = re.sub('[^0-9a-zA-Z@?|\\/<>.,()&^%$#!]+', ' ', labelled_text)\n",
    "# print('string : ', string)\n",
    "\n",
    "# fulltext = page.get_text()\n",
    "# doc = nlp(fulltext)\n",
    "\n",
    "# sentences = []\n",
    "# for sent in doc.sents:\n",
    "#             if string.strip() in sent.text:\n",
    "#                 text = re.sub('[^0-9a-zA-Z@?|\\/<>.,()&^%$#!]+', ' ', sent.text)\n",
    "\n",
    "#         res = re.search(string.strip(), text)\n",
    "\n",
    "#         entities = []\n",
    "#         entities.append((res.start(),res.end(),label))\n",
    "\n",
    "#         train_data.append((text,{'entities':entities}))\n",
    "\n"
   ]
  },
  {
   "cell_type": "code",
   "execution_count": 14,
   "id": "ab4c55f1",
   "metadata": {
    "execution": {
     "iopub.execute_input": "2022-04-21T18:21:41.122438Z",
     "iopub.status.busy": "2022-04-21T18:21:41.121805Z",
     "iopub.status.idle": "2022-04-21T18:21:41.124974Z",
     "shell.execute_reply": "2022-04-21T18:21:41.125558Z",
     "shell.execute_reply.started": "2022-04-11T16:35:41.679947Z"
    },
    "papermill": {
     "duration": 0.068759,
     "end_time": "2022-04-21T18:21:41.125740",
     "exception": false,
     "start_time": "2022-04-21T18:21:41.056981",
     "status": "completed"
    },
    "tags": []
   },
   "outputs": [],
   "source": [
    "#doc"
   ]
  },
  {
   "cell_type": "code",
   "execution_count": 15,
   "id": "2f88a89e",
   "metadata": {
    "execution": {
     "iopub.execute_input": "2022-04-21T18:21:41.252474Z",
     "iopub.status.busy": "2022-04-21T18:21:41.251806Z",
     "iopub.status.idle": "2022-04-21T18:21:41.254839Z",
     "shell.execute_reply": "2022-04-21T18:21:41.255340Z",
     "shell.execute_reply.started": "2022-04-11T16:35:56.010353Z"
    },
    "papermill": {
     "duration": 0.06794,
     "end_time": "2022-04-21T18:21:41.255506",
     "exception": false,
     "start_time": "2022-04-21T18:21:41.187566",
     "status": "completed"
    },
    "tags": []
   },
   "outputs": [],
   "source": [
    "# sentences = []\n",
    "# for sent in doc.sents:\n",
    "#     if string.strip() in sent.text:\n",
    "#         text = re.sub('[^0-9a-zA-Z@?|\\/<>.,()&^%$#!]+', ' ', sent.text)"
   ]
  },
  {
   "cell_type": "code",
   "execution_count": 16,
   "id": "6c43e91f",
   "metadata": {
    "execution": {
     "iopub.execute_input": "2022-04-21T18:21:41.381754Z",
     "iopub.status.busy": "2022-04-21T18:21:41.381050Z",
     "iopub.status.idle": "2022-04-21T18:21:41.383703Z",
     "shell.execute_reply": "2022-04-21T18:21:41.384199Z",
     "shell.execute_reply.started": "2022-04-11T16:39:04.736143Z"
    },
    "papermill": {
     "duration": 0.067176,
     "end_time": "2022-04-21T18:21:41.384375",
     "exception": false,
     "start_time": "2022-04-21T18:21:41.317199",
     "status": "completed"
    },
    "tags": []
   },
   "outputs": [],
   "source": [
    "# k=nlp(\"he             kenny\")\n",
    "# for sent in k.sents:\n",
    "#     print(sent)"
   ]
  },
  {
   "cell_type": "code",
   "execution_count": 17,
   "id": "05828a79",
   "metadata": {
    "execution": {
     "iopub.execute_input": "2022-04-21T18:21:41.511220Z",
     "iopub.status.busy": "2022-04-21T18:21:41.510535Z",
     "iopub.status.idle": "2022-04-21T18:21:41.513358Z",
     "shell.execute_reply": "2022-04-21T18:21:41.513818Z",
     "shell.execute_reply.started": "2022-04-11T15:09:24.391421Z"
    },
    "papermill": {
     "duration": 0.067356,
     "end_time": "2022-04-21T18:21:41.513995",
     "exception": false,
     "start_time": "2022-04-21T18:21:41.446639",
     "status": "completed"
    },
    "tags": []
   },
   "outputs": [],
   "source": [
    "# text"
   ]
  },
  {
   "cell_type": "code",
   "execution_count": 18,
   "id": "02461181",
   "metadata": {
    "execution": {
     "iopub.execute_input": "2022-04-21T18:21:41.641661Z",
     "iopub.status.busy": "2022-04-21T18:21:41.640951Z",
     "iopub.status.idle": "2022-04-21T18:21:41.644666Z",
     "shell.execute_reply": "2022-04-21T18:21:41.643979Z",
     "shell.execute_reply.started": "2022-04-11T15:09:31.9599Z"
    },
    "papermill": {
     "duration": 0.068147,
     "end_time": "2022-04-21T18:21:41.644804",
     "exception": false,
     "start_time": "2022-04-21T18:21:41.576657",
     "status": "completed"
    },
    "tags": []
   },
   "outputs": [],
   "source": [
    "# res = re.search(string.strip(), text)\n",
    "# res"
   ]
  },
  {
   "cell_type": "code",
   "execution_count": 19,
   "id": "560c3a70",
   "metadata": {
    "execution": {
     "iopub.execute_input": "2022-04-21T18:21:41.772403Z",
     "iopub.status.busy": "2022-04-21T18:21:41.771720Z",
     "iopub.status.idle": "2022-04-21T18:21:41.774673Z",
     "shell.execute_reply": "2022-04-21T18:21:41.775221Z",
     "shell.execute_reply.started": "2022-04-11T15:12:41.311242Z"
    },
    "papermill": {
     "duration": 0.067525,
     "end_time": "2022-04-21T18:21:41.775389",
     "exception": false,
     "start_time": "2022-04-21T18:21:41.707864",
     "status": "completed"
    },
    "tags": []
   },
   "outputs": [],
   "source": [
    "# entities = []\n",
    "# entities.append((res.start(),res.end(),'p'))"
   ]
  },
  {
   "cell_type": "code",
   "execution_count": 20,
   "id": "e0f6979f",
   "metadata": {
    "execution": {
     "iopub.execute_input": "2022-04-21T18:21:41.904988Z",
     "iopub.status.busy": "2022-04-21T18:21:41.904337Z",
     "iopub.status.idle": "2022-04-21T18:21:41.906943Z",
     "shell.execute_reply": "2022-04-21T18:21:41.907535Z",
     "shell.execute_reply.started": "2022-04-11T15:12:52.736619Z"
    },
    "papermill": {
     "duration": 0.066977,
     "end_time": "2022-04-21T18:21:41.907703",
     "exception": false,
     "start_time": "2022-04-21T18:21:41.840726",
     "status": "completed"
    },
    "tags": []
   },
   "outputs": [],
   "source": [
    "# entities"
   ]
  },
  {
   "cell_type": "code",
   "execution_count": 21,
   "id": "70953055",
   "metadata": {
    "execution": {
     "iopub.execute_input": "2022-04-21T18:21:42.034668Z",
     "iopub.status.busy": "2022-04-21T18:21:42.033981Z",
     "iopub.status.idle": "2022-04-21T18:21:42.037095Z",
     "shell.execute_reply": "2022-04-21T18:21:42.037659Z",
     "shell.execute_reply.started": "2022-04-11T15:06:11.546217Z"
    },
    "papermill": {
     "duration": 0.068248,
     "end_time": "2022-04-21T18:21:42.037834",
     "exception": false,
     "start_time": "2022-04-21T18:21:41.969586",
     "status": "completed"
    },
    "tags": []
   },
   "outputs": [],
   "source": [
    "# text"
   ]
  },
  {
   "cell_type": "code",
   "execution_count": null,
   "id": "aafce884",
   "metadata": {
    "execution": {
     "iopub.execute_input": "2022-04-11T15:02:33.300092Z",
     "iopub.status.busy": "2022-04-11T15:02:33.299778Z",
     "iopub.status.idle": "2022-04-11T15:02:33.30711Z",
     "shell.execute_reply": "2022-04-11T15:02:33.306345Z",
     "shell.execute_reply.started": "2022-04-11T15:02:33.300061Z"
    },
    "papermill": {
     "duration": 0.060761,
     "end_time": "2022-04-21T18:21:42.160581",
     "exception": false,
     "start_time": "2022-04-21T18:21:42.099820",
     "status": "completed"
    },
    "tags": []
   },
   "outputs": [],
   "source": []
  },
  {
   "cell_type": "code",
   "execution_count": 22,
   "id": "b38f1ad9",
   "metadata": {
    "execution": {
     "iopub.execute_input": "2022-04-21T18:21:42.286176Z",
     "iopub.status.busy": "2022-04-21T18:21:42.285505Z",
     "iopub.status.idle": "2022-04-21T18:21:42.288328Z",
     "shell.execute_reply": "2022-04-21T18:21:42.288962Z",
     "shell.execute_reply.started": "2022-04-11T16:21:02.863037Z"
    },
    "papermill": {
     "duration": 0.067584,
     "end_time": "2022-04-21T18:21:42.289156",
     "exception": false,
     "start_time": "2022-04-21T18:21:42.221572",
     "status": "completed"
    },
    "tags": []
   },
   "outputs": [],
   "source": [
    "# import spacy\n",
    "# nlp = spacy.load('en_core_web_sm')"
   ]
  },
  {
   "cell_type": "code",
   "execution_count": 23,
   "id": "1c14c882",
   "metadata": {
    "execution": {
     "iopub.execute_input": "2022-04-21T18:21:42.416632Z",
     "iopub.status.busy": "2022-04-21T18:21:42.415631Z",
     "iopub.status.idle": "2022-04-21T18:21:42.419033Z",
     "shell.execute_reply": "2022-04-21T18:21:42.419516Z",
     "shell.execute_reply.started": "2022-04-09T12:19:47.776612Z"
    },
    "papermill": {
     "duration": 0.069332,
     "end_time": "2022-04-21T18:21:42.419694",
     "exception": false,
     "start_time": "2022-04-21T18:21:42.350362",
     "status": "completed"
    },
    "tags": []
   },
   "outputs": [],
   "source": [
    "# !pip install PyPDF2\n",
    "# import PyPDF2\n",
    "# fhandle = open(r'/kaggle/input/sample-pdf/D8communications.pdf', 'rb')\n",
    "# pdfReader = PyPDF2.PdfFileReader(fhandle)\n",
    "# pagehandle = pdfReader.getPage(4)\n",
    "# print(pagehandle.extractText())"
   ]
  },
  {
   "cell_type": "code",
   "execution_count": 24,
   "id": "d89c1bf1",
   "metadata": {
    "execution": {
     "iopub.execute_input": "2022-04-21T18:21:42.546802Z",
     "iopub.status.busy": "2022-04-21T18:21:42.545824Z",
     "iopub.status.idle": "2022-04-21T18:21:42.549144Z",
     "shell.execute_reply": "2022-04-21T18:21:42.549754Z",
     "shell.execute_reply.started": "2022-04-09T12:25:37.701467Z"
    },
    "papermill": {
     "duration": 0.068881,
     "end_time": "2022-04-21T18:21:42.549928",
     "exception": false,
     "start_time": "2022-04-21T18:21:42.481047",
     "status": "completed"
    },
    "tags": []
   },
   "outputs": [],
   "source": [
    "# !pip install pdfplumber\n",
    "# import pdfplumber\n",
    "# with pdfplumber.open(r'/kaggle/input/sample-pdf/D8communications.pdf') as pdf:\n",
    "#     first_page = pdf.pages[3]\n",
    "#     print(first_page.extract_text())"
   ]
  },
  {
   "cell_type": "code",
   "execution_count": 25,
   "id": "58292926",
   "metadata": {
    "execution": {
     "iopub.execute_input": "2022-04-21T18:21:42.677892Z",
     "iopub.status.busy": "2022-04-21T18:21:42.676781Z",
     "iopub.status.idle": "2022-04-21T18:21:42.679158Z",
     "shell.execute_reply": "2022-04-21T18:21:42.679657Z",
     "shell.execute_reply.started": "2022-04-09T12:25:49.584635Z"
    },
    "papermill": {
     "duration": 0.068509,
     "end_time": "2022-04-21T18:21:42.679836",
     "exception": false,
     "start_time": "2022-04-21T18:21:42.611327",
     "status": "completed"
    },
    "tags": []
   },
   "outputs": [],
   "source": [
    "# !pip install pytesseract"
   ]
  },
  {
   "cell_type": "code",
   "execution_count": 26,
   "id": "27a3e6eb",
   "metadata": {
    "execution": {
     "iopub.execute_input": "2022-04-21T18:21:42.809012Z",
     "iopub.status.busy": "2022-04-21T18:21:42.807943Z",
     "iopub.status.idle": "2022-04-21T18:21:42.811226Z",
     "shell.execute_reply": "2022-04-21T18:21:42.810560Z",
     "shell.execute_reply.started": "2022-04-09T14:49:10.656812Z"
    },
    "papermill": {
     "duration": 0.068769,
     "end_time": "2022-04-21T18:21:42.811381",
     "exception": false,
     "start_time": "2022-04-21T18:21:42.742612",
     "status": "completed"
    },
    "tags": []
   },
   "outputs": [],
   "source": [
    "# #!pip install pdf2image\n",
    "# !pip install poppler"
   ]
  },
  {
   "cell_type": "code",
   "execution_count": 27,
   "id": "9c109c54",
   "metadata": {
    "execution": {
     "iopub.execute_input": "2022-04-21T18:21:42.941076Z",
     "iopub.status.busy": "2022-04-21T18:21:42.940038Z",
     "iopub.status.idle": "2022-04-21T18:21:42.943632Z",
     "shell.execute_reply": "2022-04-21T18:21:42.944262Z",
     "shell.execute_reply.started": "2022-04-09T14:57:24.756677Z"
    },
    "papermill": {
     "duration": 0.069981,
     "end_time": "2022-04-21T18:21:42.944433",
     "exception": false,
     "start_time": "2022-04-21T18:21:42.874452",
     "status": "completed"
    },
    "tags": []
   },
   "outputs": [],
   "source": [
    "# pdf2image.convert_from_path('/kaggle/input/sample-pdf/D8communications.pdf')"
   ]
  },
  {
   "cell_type": "code",
   "execution_count": 28,
   "id": "35acab4b",
   "metadata": {
    "execution": {
     "iopub.execute_input": "2022-04-21T18:21:43.074704Z",
     "iopub.status.busy": "2022-04-21T18:21:43.073981Z",
     "iopub.status.idle": "2022-04-21T18:21:43.075681Z",
     "shell.execute_reply": "2022-04-21T18:21:43.076284Z",
     "shell.execute_reply.started": "2022-04-09T14:57:17.576149Z"
    },
    "papermill": {
     "duration": 0.070541,
     "end_time": "2022-04-21T18:21:43.076456",
     "exception": false,
     "start_time": "2022-04-21T18:21:43.005915",
     "status": "completed"
    },
    "tags": []
   },
   "outputs": [],
   "source": [
    "# import pdf2image\n",
    "# try:\n",
    "#     from PIL import Image\n",
    "# except ImportError:\n",
    "#     import Image\n",
    "# import pytesseract\n",
    "\n",
    "\n",
    "# def pdf_to_img(pdf_file):\n",
    "#     return pdf2image.convert_from_path(pdf_file)\n",
    "\n",
    "\n",
    "# def ocr_core(file):\n",
    "#     text = pytesseract.image_to_string(file)\n",
    "#     return text\n",
    "\n",
    "\n",
    "# def print_pages(pdf_file):\n",
    "#     images = pdf_to_img(pdf_file)\n",
    "#     for pg, img in enumerate(images):\n",
    "#         print(ocr_core(img))\n",
    "\n",
    "\n",
    "# print_pages('/kaggle/input/sample-pdf/D8communications.pdf')\n"
   ]
  },
  {
   "cell_type": "code",
   "execution_count": 29,
   "id": "d61ba486",
   "metadata": {
    "execution": {
     "iopub.execute_input": "2022-04-21T18:21:43.202489Z",
     "iopub.status.busy": "2022-04-21T18:21:43.201763Z",
     "iopub.status.idle": "2022-04-21T18:21:43.205269Z",
     "shell.execute_reply": "2022-04-21T18:21:43.205778Z"
    },
    "papermill": {
     "duration": 0.068185,
     "end_time": "2022-04-21T18:21:43.205944",
     "exception": false,
     "start_time": "2022-04-21T18:21:43.137759",
     "status": "completed"
    },
    "tags": []
   },
   "outputs": [],
   "source": [
    "# import requests\n",
    "# import fitz\n",
    "# import io\n",
    "\n",
    "# #URL = 'https://buildmedia.readthedocs.org/media/pdf/pdfminer-docs/latest/pdfminer-docs.pdf'\n",
    "# URL = 'https://redactable-devox-stage.s3.us-east-2.amazonaws.com/tenants/41d9e109-693b-444c-aa18-e5891bc6550b/original/1a7c0e5d-3237-4ca9-9e3d-89e707245ac6/D8communications.pdf'\n",
    "\n",
    "\n",
    "# res = requests.get(URL)\n",
    "# filestream = io.BytesIO(res.content)\n",
    "# #res.content\n",
    "# filestream\n",
    "# doc = fitz.Document(stream=filestream)\n",
    "# page1 = doc.loadPage(3)\n",
    "# page1text = page1.getText(\"text\").encode(\"utf-8\").decode(\"utf-8\")\n",
    "# print(page1text)"
   ]
  },
  {
   "cell_type": "code",
   "execution_count": 30,
   "id": "c55a8b78",
   "metadata": {
    "execution": {
     "iopub.execute_input": "2022-04-21T18:21:43.331513Z",
     "iopub.status.busy": "2022-04-21T18:21:43.330847Z",
     "iopub.status.idle": "2022-04-21T18:21:43.334432Z",
     "shell.execute_reply": "2022-04-21T18:21:43.335001Z",
     "shell.execute_reply.started": "2022-04-09T07:04:56.590103Z"
    },
    "papermill": {
     "duration": 0.068035,
     "end_time": "2022-04-21T18:21:43.335186",
     "exception": false,
     "start_time": "2022-04-21T18:21:43.267151",
     "status": "completed"
    },
    "tags": []
   },
   "outputs": [],
   "source": [
    "# import requests\n",
    "# import fitz\n",
    "\n",
    "# #URL = 'https://buildmedia.readthedocs.org/media/pdf/pdfminer-docs/latest/pdfminer-docs.pdf'\n",
    "# URL = 'https://redactable-devox-stage.s3.us-east-2.amazonaws.com/tenants/41d9e109-693b-444c-aa18-e5891bc6550b/original/1a7c0e5d-3237-4ca9-9e3d-89e707245ac6/D8communications.pdf'\n",
    "\n",
    "\n",
    "# res = requests.get(URL)\n",
    "# doc = fitz.open(stream=res.content,filetype=\"pdf\")\n",
    "# page1 = doc.loadPage(3)\n",
    "# page1text = page1.getText(\"text\")\n",
    "# #rect = (72.1149,661.2966,131.95729,675.1716)\n",
    "# rect=(72.10812377929688, 116.13427734375, 133.97142028808594, 146.4227294921875)\n",
    "# labelled_text = page1.get_textbox(rect)\n",
    "# print(labelled_text.strip())\n",
    "\n",
    "# fulltext = page1.get_text()\n",
    "# print(fulltext)\n",
    "# doc = nlp(fulltext)\n",
    "# sentences = []\n",
    "# for sent in doc.sents:\n",
    "#     if labelled_text in sent.text:\n",
    "#         text = sent.text\n",
    "#         print(text)\n",
    "# #print(page1text)"
   ]
  },
  {
   "cell_type": "code",
   "execution_count": 31,
   "id": "c84bea12",
   "metadata": {
    "execution": {
     "iopub.execute_input": "2022-04-21T18:21:43.462370Z",
     "iopub.status.busy": "2022-04-21T18:21:43.461677Z",
     "iopub.status.idle": "2022-04-21T18:21:43.464365Z",
     "shell.execute_reply": "2022-04-21T18:21:43.464962Z",
     "shell.execute_reply.started": "2022-04-08T16:42:57.6659Z"
    },
    "papermill": {
     "duration": 0.068919,
     "end_time": "2022-04-21T18:21:43.465143",
     "exception": false,
     "start_time": "2022-04-21T18:21:43.396224",
     "status": "completed"
    },
    "tags": []
   },
   "outputs": [],
   "source": [
    "#res.content"
   ]
  },
  {
   "cell_type": "code",
   "execution_count": 32,
   "id": "5476b6bc",
   "metadata": {
    "execution": {
     "iopub.execute_input": "2022-04-21T18:21:43.590199Z",
     "iopub.status.busy": "2022-04-21T18:21:43.589549Z",
     "iopub.status.idle": "2022-04-21T18:21:43.593308Z",
     "shell.execute_reply": "2022-04-21T18:21:43.593859Z",
     "shell.execute_reply.started": "2022-04-08T16:48:05.672392Z"
    },
    "papermill": {
     "duration": 0.067781,
     "end_time": "2022-04-21T18:21:43.594043",
     "exception": false,
     "start_time": "2022-04-21T18:21:43.526262",
     "status": "completed"
    },
    "tags": []
   },
   "outputs": [],
   "source": [
    "# import fitz\n",
    "# # mem_area=\n",
    "# # doc = fitz.open(stream=mem_area, filetype=\"pdf\")\n",
    "\n",
    "# import requests\n",
    "\n",
    "# URL = 'https://redactable-devox-stage.s3.us-east-2.amazonaws.com/tenants/41d9e109-693b-444c-aa18-e5891bc6550b/original/1a7c0e5d-3237-4ca9-9e3d-89e707245ac6/D8communications.pdf'\n",
    "\n",
    "# #res = requests.get(URL)\n",
    "# doc=fitz.open(\"/kaggle/input/sample-pdf/D8communications.pdf\")\n",
    "# #doc = fitz.open(stream=res.content,filetype=\"pdf\")\n",
    "# page1 = doc.loadPage(4)\n",
    "# # page1text = page1.getText(\"text\")\n",
    "# # print(page1text)\n",
    "# blocks = page1.getText(\"blocks\")\n",
    "# blocks.sort(key=lambda block: block[1])  # sort vertically ascending\n",
    "\n",
    "# for b in blocks:\n",
    "#     print(b[4])\n"
   ]
  },
  {
   "cell_type": "code",
   "execution_count": 33,
   "id": "401cc1ce",
   "metadata": {
    "execution": {
     "iopub.execute_input": "2022-04-21T18:21:43.721826Z",
     "iopub.status.busy": "2022-04-21T18:21:43.721204Z",
     "iopub.status.idle": "2022-04-21T18:21:43.724129Z",
     "shell.execute_reply": "2022-04-21T18:21:43.724692Z",
     "shell.execute_reply.started": "2022-04-08T16:48:13.086323Z"
    },
    "papermill": {
     "duration": 0.069439,
     "end_time": "2022-04-21T18:21:43.724872",
     "exception": false,
     "start_time": "2022-04-21T18:21:43.655433",
     "status": "completed"
    },
    "tags": []
   },
   "outputs": [],
   "source": [
    "# # page = doc[1]\n",
    "# words = page.get_text(\"words\")\n",
    "# #print(words)\n",
    "# rect = (72.1149,661.2966,131.95729,675.1716)\n",
    "\n",
    "# labelled_text = page.get_textbox(rect)\n",
    "# # labelled_text"
   ]
  },
  {
   "cell_type": "markdown",
   "id": "5a865a40",
   "metadata": {
    "papermill": {
     "duration": 0.060938,
     "end_time": "2022-04-21T18:21:43.848889",
     "exception": false,
     "start_time": "2022-04-21T18:21:43.787951",
     "status": "completed"
    },
    "tags": []
   },
   "source": [
    "pip install PyPDF2"
   ]
  },
  {
   "cell_type": "code",
   "execution_count": null,
   "id": "7cb7adf3",
   "metadata": {
    "papermill": {
     "duration": 0.061763,
     "end_time": "2022-04-21T18:21:43.972333",
     "exception": false,
     "start_time": "2022-04-21T18:21:43.910570",
     "status": "completed"
    },
    "tags": []
   },
   "outputs": [],
   "source": []
  },
  {
   "cell_type": "code",
   "execution_count": 34,
   "id": "a8f90ca4",
   "metadata": {
    "execution": {
     "iopub.execute_input": "2022-04-21T18:21:44.099071Z",
     "iopub.status.busy": "2022-04-21T18:21:44.098386Z",
     "iopub.status.idle": "2022-04-21T18:21:44.101468Z",
     "shell.execute_reply": "2022-04-21T18:21:44.102004Z",
     "shell.execute_reply.started": "2022-03-18T16:48:58.370268Z"
    },
    "papermill": {
     "duration": 0.068425,
     "end_time": "2022-04-21T18:21:44.102191",
     "exception": false,
     "start_time": "2022-04-21T18:21:44.033766",
     "status": "completed"
    },
    "tags": []
   },
   "outputs": [],
   "source": [
    "# import pandas as pd\n",
    "# h={'step': 0, 'type': 'string', 'amount': 0.0, 'nameOrig': 'C1231006815', 'oldbalanceOrig': 0.0, 'newbalanceOrig': 0.0, 'nameDest': 'M1979787155', 'oldbalanceDest': 0.0, 'newbalanceDest': 0.0}\n",
    "# df=pd.DataFrame([h])"
   ]
  },
  {
   "cell_type": "code",
   "execution_count": 35,
   "id": "2a19f77f",
   "metadata": {
    "execution": {
     "iopub.execute_input": "2022-04-21T18:21:44.229227Z",
     "iopub.status.busy": "2022-04-21T18:21:44.228554Z",
     "iopub.status.idle": "2022-04-21T18:21:44.231805Z",
     "shell.execute_reply": "2022-04-21T18:21:44.232406Z",
     "shell.execute_reply.started": "2022-04-09T17:21:26.021615Z"
    },
    "papermill": {
     "duration": 0.067785,
     "end_time": "2022-04-21T18:21:44.232567",
     "exception": false,
     "start_time": "2022-04-21T18:21:44.164782",
     "status": "completed"
    },
    "tags": []
   },
   "outputs": [],
   "source": [
    "#df"
   ]
  },
  {
   "cell_type": "code",
   "execution_count": null,
   "id": "f9ed0a73",
   "metadata": {
    "papermill": {
     "duration": 0.061522,
     "end_time": "2022-04-21T18:21:44.355450",
     "exception": false,
     "start_time": "2022-04-21T18:21:44.293928",
     "status": "completed"
    },
    "tags": []
   },
   "outputs": [],
   "source": []
  }
 ],
 "metadata": {
  "kernelspec": {
   "display_name": "Python 3",
   "language": "python",
   "name": "python3"
  },
  "language_info": {
   "codemirror_mode": {
    "name": "ipython",
    "version": 3
   },
   "file_extension": ".py",
   "mimetype": "text/x-python",
   "name": "python",
   "nbconvert_exporter": "python",
   "pygments_lexer": "ipython3",
   "version": "3.7.12"
  },
  "papermill": {
   "default_parameters": {},
   "duration": 21.391569,
   "end_time": "2022-04-21T18:21:45.026829",
   "environment_variables": {},
   "exception": null,
   "input_path": "__notebook__.ipynb",
   "output_path": "__notebook__.ipynb",
   "parameters": {},
   "start_time": "2022-04-21T18:21:23.635260",
   "version": "2.3.3"
  }
 },
 "nbformat": 4,
 "nbformat_minor": 5
}
