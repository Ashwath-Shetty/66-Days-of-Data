{
 "cells": [
  {
   "cell_type": "code",
   "execution_count": 1,
   "id": "9f059cce",
   "metadata": {
    "_cell_guid": "b1076dfc-b9ad-4769-8c92-a6c4dae69d19",
    "_uuid": "8f2839f25d086af736a60e9eeb907d3b93b6e0e5",
    "execution": {
     "iopub.execute_input": "2022-05-04T16:59:31.139681Z",
     "iopub.status.busy": "2022-05-04T16:59:31.138959Z",
     "iopub.status.idle": "2022-05-04T16:59:31.151782Z",
     "shell.execute_reply": "2022-05-04T16:59:31.152267Z",
     "shell.execute_reply.started": "2022-04-12T14:12:25.248687Z"
    },
    "papermill": {
     "duration": 0.096554,
     "end_time": "2022-05-04T16:59:31.152576",
     "exception": false,
     "start_time": "2022-05-04T16:59:31.056022",
     "status": "completed"
    },
    "tags": []
   },
   "outputs": [
    {
     "name": "stdout",
     "output_type": "stream",
     "text": [
      "/kaggle/input/sample-pdf/D8communications.pdf\n"
     ]
    }
   ],
   "source": [
    "# This Python 3 environment comes with many helpful analytics libraries installed\n",
    "# It is defined by the kaggle/python Docker image: https://github.com/kaggle/docker-python\n",
    "# For example, here's several helpful packages to load\n",
    "\n",
    "import numpy as np # linear algebra\n",
    "import pandas as pd # data processing, CSV file I/O (e.g. pd.read_csv)\n",
    "\n",
    "# Input data files are available in the read-only \"../input/\" directory\n",
    "# For example, running this (by clicking run or pressing Shift+Enter) will list all files under the input directory\n",
    "\n",
    "import os\n",
    "for dirname, _, filenames in os.walk('/kaggle/input'):\n",
    "    for filename in filenames:\n",
    "        print(os.path.join(dirname, filename))\n",
    "\n",
    "# You can write up to 20GB to the current directory (/kaggle/working/) that gets preserved as output when you create a version using \"Save & Run All\" \n",
    "# You can also write temporary files to /kaggle/temp/, but they won't be saved outside of the current session"
   ]
  },
  {
   "cell_type": "markdown",
   "id": "79cd416e",
   "metadata": {
    "papermill": {
     "duration": 0.06696,
     "end_time": "2022-05-04T16:59:31.288179",
     "exception": false,
     "start_time": "2022-05-04T16:59:31.221219",
     "status": "completed"
    },
    "tags": []
   },
   "source": [
    "# **Start Date: 12/3/2022**"
   ]
  },
  {
   "cell_type": "markdown",
   "id": "44acbaf4",
   "metadata": {
    "papermill": {
     "duration": 0.067339,
     "end_time": "2022-05-04T16:59:31.422935",
     "exception": false,
     "start_time": "2022-05-04T16:59:31.355596",
     "status": "completed"
    },
    "tags": []
   },
   "source": [
    "# **Day 1:** \n",
    "<br>dataquest -> stats -> probability-> estimating probability\n",
    "1. out come is nothing but o/p of an experiment\n",
    "ex: whatever u get after rolling a dice -> it can be any number\n",
    "2. event can have more than one outcome\n",
    "- e.x: The event that we'll get an odd number when we roll a six-sided die — this event includes the outcomes 1, 3, and 5.\n",
    "- an event can be 0 as well.\n",
    "- We always assign probabilities to events, not outcomes, even if the event includes only one outcome.\n",
    "- P(E) =1/total number of possible outcomes, P(E) probability of an event happening.\n",
    "- but above formula doesn't work always, especially when there are more than one outcome\n",
    "    - P(E)=number of successful outcomes/total number of possible outcomes\n",
    "- incase of a biased situation \n",
    "  - let's say a die has 6 - 3 times which is 1,6,3,5,6,6\n",
    "    we will consider 6 as 3 times not 1.\n",
    "    possible outcome-> 1,3,5,6,6,6\n",
    "    prob(6)=3/6\n",
    "    prob(3)=1/6\n",
    "    prob(2)=0/6\n",
    "    If we didn't treat each 6 differently and said it doesn't matter which side a 6 is on, \n",
    "    <br>we'd be forced to conclude the only possible outcomes are 1, 3, 5 and 6. We can definitely         <br>frame the problem like that, but the formula above won't work anymore — we see below P(6) <br>becomes the same as P(3), but, intuitively, P(6) should be higher than P(3) since the die has 6 on     <br>three of its sides:\n"
   ]
  },
  {
   "cell_type": "markdown",
   "id": "5381260d",
   "metadata": {
    "papermill": {
     "duration": 0.067165,
     "end_time": "2022-05-04T16:59:31.558469",
     "exception": false,
     "start_time": "2022-05-04T16:59:31.491304",
     "status": "completed"
    },
    "tags": []
   },
   "source": [
    "Estimating Probabilities Conclusion\n",
    "- emperical/ experimental probability\n",
    "  - probability achieved by experimenting / by doing the same event multiple times.\n",
    "  - Generally, for any event E (like a coin landing heads up), we can find its empirical probability   \n",
    "     by using the following formula: \n",
    "     •P (E) =number of times event E happened/ number of times we repeated the experiment   \n",
    " - Generally, the empirical probability of an event (a coin landing heads up, getting a 5 when weroll a die) approaches the true probability value as the number of trials of the randomexperiment (a coin toss, the rolling of a die) increases without bound.\n",
    "- When we calculate the probability of an event under the assumption that the outcomes have equal chances of occurring, we say that we're calculating the **theoretical probability** of an event.\n",
    "   - P(E)=number of successful outcomes/total number of possible outcomes\n",
    "\n"
   ]
  },
  {
   "cell_type": "markdown",
   "id": "4edbb74e",
   "metadata": {
    "papermill": {
     "duration": 0.06918,
     "end_time": "2022-05-04T16:59:31.694922",
     "exception": false,
     "start_time": "2022-05-04T16:59:31.625742",
     "status": "completed"
    },
    "tags": []
   },
   "source": [
    "# **Day 2**\n",
    "<br>dataquest-> stats -> intro to probability -> probability rules\n",
    "<br>In probability theory, the set of all possible outcomes is called a sample space. A sample space is often denoted by the capital Greek letter Ω (read \"omega\"). This is how we represent the sample space of a die roll:\n",
    "\n",
    "Ω = {1,2,3,4,5,6}\n",
    "-    The probability of any event ranges between 0 and 1: 0≤ P(Event) ≤1\n",
    "- To calculate P(A or B), we can also use the formula below, which is sometimes called the addition rule: P(A or B) = P(A) + P(B)\n",
    "  - Sample space ={ 1,2,3,4,5,6} \n",
    "  - P(2 or 5) = 2/6\n",
    "\n",
    "- P(C or D) = P(C) + P(D) - P(C and D)\n",
    "   - e.x : Sample_space ={2,4,6} + { 4,5,6} - {4/6}\n",
    "      P( even number or number greater than 3) = ( (3/6) + (3/6) )- (2/6) = 4/6\n",
    "- Events that don't intersect are called mutually exclusive.\n",
    "  - e.x: Getting a 5 (event one) and getting a 3 (event two) when we roll a regular six-sided die — it's  impossible to get both a 5 and 3.\n",
    "- Events that intersect are called mutually non-exclusive.\n",
    "  - Getting a number greater than 2 (event one) and getting an odd number (event two) when we roll a regular six-sided die — we could get a 5, which is both greater than 2 (event one) and odd (event two).\n",
    "- unioun -> A or B, intersection -> A and B"
   ]
  },
  {
   "cell_type": "markdown",
   "id": "2aae8ec3",
   "metadata": {
    "papermill": {
     "duration": 0.067788,
     "end_time": "2022-05-04T16:59:31.831507",
     "exception": false,
     "start_time": "2022-05-04T16:59:31.763719",
     "status": "completed"
    },
    "tags": []
   },
   "source": [
    "# Day 3 and 4\n",
    "dataquest -> stats -> probabilities -> solving complex probabilities\n",
    "- This is the same result we got from our previous approach. In more general terms, the multiplication rule says that for two events E1 and E2, the probability that both event E1 and E2 happen can be found by multiplying the probability of E1 by the probability of E2:\n",
    "    - P(E1 ∩ E2) = P(E1) × P(E2)\n",
    "    - Events that don't influence each other's probability are called independent events. If H1 happens, P(H2) stays the same, so H1 and H2 are independent. The multiplication rule we learned only works for independent events.\n",
    "    "
   ]
  },
  {
   "cell_type": "markdown",
   "id": "b4cd9727",
   "metadata": {
    "papermill": {
     "duration": 0.068104,
     "end_time": "2022-05-04T16:59:31.967800",
     "exception": false,
     "start_time": "2022-05-04T16:59:31.899696",
     "status": "completed"
    },
    "tags": []
   },
   "source": [
    "# Day 5\n",
    "- When we replace the cards after drawing, we say that we're sampling with replacement. When we don't put the cards back, we're sampling without replacement. \n"
   ]
  },
  {
   "cell_type": "markdown",
   "id": "00991b05",
   "metadata": {
    "papermill": {
     "duration": 0.069855,
     "end_time": "2022-05-04T16:59:32.108044",
     "exception": false,
     "start_time": "2022-05-04T16:59:32.038189",
     "status": "completed"
    },
    "tags": []
   },
   "source": [
    "# Day6\n",
    "dataquest-> prob and stats -> probability fundamentals -> permutation and combinations\n",
    "Generally, if we have an experiment E1 (like flipping a coin) with a outcomes, followed by an experiment E2 (like rolling a die) with b outcomes, then the total number of outcomes for the composite experiment E1E2 can be found by multiplying a with b:\n",
    "\n",
    "Number of outcomes = a * b"
   ]
  },
  {
   "cell_type": "markdown",
   "id": "c5c48938",
   "metadata": {
    "papermill": {
     "duration": 0.0678,
     "end_time": "2022-05-04T16:59:32.247739",
     "exception": false,
     "start_time": "2022-05-04T16:59:32.179939",
     "status": "completed"
    },
    "tags": []
   },
   "source": [
    "# Day 7\n",
    "dataquest-> prob and stats -> probability fundamentals -> permutation and combinations <br>\n",
    "More generally, if we have an experiment E1 with a outcomes, followed by an experiment E2 with b outcomes, followed by an experiment En with z outcomes, the total number of outcomes for the composite experiment E1E2 ... En can be found by multiplying their individual outcomes:\n",
    "\n",
    "Number of outcomes= a * b * … * z"
   ]
  },
  {
   "cell_type": "markdown",
   "id": "89918c81",
   "metadata": {
    "papermill": {
     "duration": 0.067559,
     "end_time": "2022-05-04T16:59:32.383732",
     "exception": false,
     "start_time": "2022-05-04T16:59:32.316173",
     "status": "completed"
    },
    "tags": []
   },
   "source": [
    "# Day 8\n",
    "dataquest-> prob and stats -> probability fundamentals -> permutation and combinations <br>\n",
    "permutations= n*(n-1)*(n-2)*....*2*1\n"
   ]
  },
  {
   "cell_type": "markdown",
   "id": "052509db",
   "metadata": {
    "papermill": {
     "duration": 0.067703,
     "end_time": "2022-05-04T16:59:32.519865",
     "exception": false,
     "start_time": "2022-05-04T16:59:32.452162",
     "status": "completed"
    },
    "tags": []
   },
   "source": [
    "# Day 9\n",
    "dataquest-> prob and stats -> probability fundamentals -> permutation and combinations\n",
    "- in permutation order of the individual element in the arranement matters.\n",
    "   - for e.x: 9821 is different than 9281\n",
    "   - Permutations =n!  --> sample without replacement-> we are not putting back the sampled data.\n",
    "   - On the last screen, we learned to use the formula below to calculate permutations when we're sampling without replacement and taking only k objects from a group of n objects:\n",
    "   npk=n!/(n-k)!"
   ]
  },
  {
   "cell_type": "markdown",
   "id": "d3a1f4a9",
   "metadata": {
    "papermill": {
     "duration": 0.067284,
     "end_time": "2022-05-04T16:59:32.654906",
     "exception": false,
     "start_time": "2022-05-04T16:59:32.587622",
     "status": "completed"
    },
    "tags": []
   },
   "source": [
    "# Day 10\n",
    "dataquest-> prob and stats -> probability fundamentals -> permutation and combinations\n",
    "- More generally, if the order of the elements in an arrangement doesn't matter, the arrangement is called a combination.\n",
    "- e.x: cards in a deck \n",
    "- nCk = n! / ((n-k)!*k!)"
   ]
  },
  {
   "cell_type": "markdown",
   "id": "2aaebaae",
   "metadata": {
    "papermill": {
     "duration": 0.068721,
     "end_time": "2022-05-04T16:59:32.791604",
     "exception": false,
     "start_time": "2022-05-04T16:59:32.722883",
     "status": "completed"
    },
    "tags": []
   },
   "source": [
    "# Day 11\n",
    "dataquest-> prob and stats -> probability fundamentals -> permutation and combinations\n",
    "- solved 1 probability problem.\n"
   ]
  },
  {
   "cell_type": "markdown",
   "id": "fcccdb36",
   "metadata": {
    "papermill": {
     "duration": 0.068299,
     "end_time": "2022-05-04T16:59:32.928127",
     "exception": false,
     "start_time": "2022-05-04T16:59:32.859828",
     "status": "completed"
    },
    "tags": []
   },
   "source": [
    "# Day 12\n",
    "dataquest-> prob and stats -> probability fundamentals -> permutation and combinations\n",
    "- finished probability and permutations by revising them.\n",
    "- If we have an experiment E1 (like flipping a coin) with a outcomes, followed by an experiment E2(like rolling a die) with b outcomes, then the total number of outcomes for the compositeexperiment E1E2 can be found by multiplying a with b (this is known as the rule of product):\n",
    "  - number of outcomes = a*b\n",
    "- If we have an experiment E1 with a outcomes, followed by an experiment E2 with b outcomes,followed by an experiment En with z outcomes, the total number of outcomes for the compositeexperiment E1E2 ... En can be found by multiplying their individual outcomes:\n",
    "   - number of outcomes = a*b* ... *z\n",
    "- There are two kinds of arrangements:\n",
    "   - •Arrangements where the order matters, which we call permutations.\n",
    "   - •Arrangements where the order doesn't matter, which we call combination\n",
    "- To find the number of permutations when we're sampling without replacement, we can use theformula:\n",
    "  - permutation = n!\n",
    "- To find the number of permutations when we're sampling without replacement and taking only kobjects from a group of n objects, we can use the formula:\n",
    "  - nPk = n!/(n-k)!\n",
    "- To find the number of combinations when we're sampling without replacement and taking only kobjects from a group of n objects, we can use the formula\n",
    "  - nCk = n! / ((n-k)!*k!)"
   ]
  },
  {
   "cell_type": "markdown",
   "id": "29daec5c",
   "metadata": {
    "papermill": {
     "duration": 0.068236,
     "end_time": "2022-05-04T16:59:33.065452",
     "exception": false,
     "start_time": "2022-05-04T16:59:32.997216",
     "status": "completed"
    },
    "tags": []
   },
   "source": [
    "# Day 13\n",
    "dataquest-> prob and stats -> probability fundamentals -> conditional probabilities\n",
    "- first 2 slides -> mainly the recap of old chapter(above one).\n"
   ]
  },
  {
   "cell_type": "markdown",
   "id": "4c5ad594",
   "metadata": {
    "papermill": {
     "duration": 0.071532,
     "end_time": "2022-05-04T16:59:33.208525",
     "exception": false,
     "start_time": "2022-05-04T16:59:33.136993",
     "status": "completed"
    },
    "tags": []
   },
   "source": [
    "# Day 14\n",
    "dataquest-> prob and stats -> probability fundamentals -> conditional probabilities\n",
    "<br>slide 4 completed\n",
    "<br>conditional probabilities\n",
    "- probabilities with condition\n",
    "- P(5)=What is the probability of getting a 5? -> normal probability\n",
    "- P(5 | odd) =What is the probability of getting a 5 given the die showed an odd number? -> conditional prob.\n",
    "\n"
   ]
  },
  {
   "cell_type": "markdown",
   "id": "13ad4887",
   "metadata": {
    "papermill": {
     "duration": 0.067734,
     "end_time": "2022-05-04T16:59:33.346949",
     "exception": false,
     "start_time": "2022-05-04T16:59:33.279215",
     "status": "completed"
    },
    "tags": []
   },
   "source": [
    "# Day 15\n",
    "dataquest-> prob and stats -> probability fundamentals -> conditional probabilities\n",
    "- on slide 5 not done yet.\n",
    "\n",
    "Say we roll a fair six-sided die and want to find the probability of getting an odd number, given the die showed a number greater than 1 after landing. Using probability notation, we want to find P(A|B) where:\n",
    "\n",
    "- A is the event that the number is odd: A = {1, 3, 5}\n",
    "- B is the event that the number is greater than 1: B = {2, 3, 4, 5, 6}\n",
    "- P(A/B)=number of succesfull outcomes / total number of outcomes.\n"
   ]
  },
  {
   "cell_type": "markdown",
   "id": "f739404a",
   "metadata": {
    "papermill": {
     "duration": 0.067595,
     "end_time": "2022-05-04T16:59:33.483300",
     "exception": false,
     "start_time": "2022-05-04T16:59:33.415705",
     "status": "completed"
    },
    "tags": []
   },
   "source": [
    "# Day 16 and 17\n",
    "dataquest-> prob and stats -> probability fundamentals -> conditional probabilities\n",
    "\n",
    "on slide 6 not done yet."
   ]
  },
  {
   "cell_type": "markdown",
   "id": "b3a04559",
   "metadata": {
    "papermill": {
     "duration": 0.068147,
     "end_time": "2022-05-04T16:59:33.619667",
     "exception": false,
     "start_time": "2022-05-04T16:59:33.551520",
     "status": "completed"
    },
    "tags": []
   },
   "source": [
    "# Day 18\n",
    "dataquest-> prob and stats -> probability fundamentals -> conditional probabilities\n",
    "<br>slide 5 code half done"
   ]
  },
  {
   "cell_type": "markdown",
   "id": "1f4ec7e0",
   "metadata": {
    "papermill": {
     "duration": 0.067996,
     "end_time": "2022-05-04T16:59:33.755169",
     "exception": false,
     "start_time": "2022-05-04T16:59:33.687173",
     "status": "completed"
    },
    "tags": []
   },
   "source": [
    "# Day 19\n",
    "- The number of elements in a set is called the cardinal of the set. \n",
    "  Ω is a set, and the cardinal of \n",
    "   Ω = { 2,3,4,5,6}\n",
    "   cardinal(Ω)=5\n",
    "- P(A | B) = card(A ∩ B) / card(B)\n",
    "- Say we roll a fair six-sided die and want to find the probability of getting an odd number, given the die showed a number greater than 1 after landing. Using probability notation, we want to find P(A|B) where:\n",
    "    - A is the event that the number is odd: A = {1, 3, 5}\n",
    "     - B is the event that the number is greater than 1: B = {2, 3, 4, 5, 6}\n",
    "     - total number of possible outcomes = card({2,3,4,5,6}) =5\n",
    "     - number of successful outcomes = card({3,5})= 2\n",
    "- P(A | B) = card(A ∩ B) / card(B), we can also get the same result using P(A | B) = prob(A ∩ B) / prob(B)\n",
    "\n",
    "     "
   ]
  },
  {
   "cell_type": "markdown",
   "id": "75814dfd",
   "metadata": {
    "papermill": {
     "duration": 0.069547,
     "end_time": "2022-05-04T16:59:33.892726",
     "exception": false,
     "start_time": "2022-05-04T16:59:33.823179",
     "status": "completed"
    },
    "tags": []
   },
   "source": [
    "# Day 20\n",
    "dataquest-> prob and stats -> probability fundamentals -> conditional probabilities intermediate\n",
    "<br> slide 1 and 2\n",
    "- P( A | B ) ≠ P(A ∩ B), but rather:\n",
    "   - P(A | B) = P(A ∩ B) / P(B)\n",
    "   - P(A ∩ B) = P(A | B) ⋅ P(B)\n",
    "- Given that a customer bought a laptop, they will or will not also buy a mouse. This means we can be certain that either event (M|L) or (M^C|L) will happen:\n",
    "     - P(M | L) + P(M^C | L) = 1\n",
    "\n"
   ]
  },
  {
   "cell_type": "markdown",
   "id": "438a47c3",
   "metadata": {
    "papermill": {
     "duration": 0.069222,
     "end_time": "2022-05-04T16:59:34.030459",
     "exception": false,
     "start_time": "2022-05-04T16:59:33.961237",
     "status": "completed"
    },
    "tags": []
   },
   "source": [
    "# Day 21\n",
    "dataquest-> prob and stats -> probability fundamentals -> conditional probabilities intermediate\n",
    "slide 1 and 2\n",
    "- P(A ∩ B) = P(B ∩ A)\n",
    "- multiplication rule of probability\n",
    "  -  P(A ∩ B) = P(B) ⋅ P(A | B) \n",
    "  - P(A ∩ B) = P(A) ⋅ P(B | A)\n",
    "- if P(A) and P(B) are statistically independent then \n",
    "  - P(A ∩ B) = P(A) ⋅ P(B)\n",
    "\n"
   ]
  },
  {
   "cell_type": "markdown",
   "id": "d9873a01",
   "metadata": {
    "papermill": {
     "duration": 0.067377,
     "end_time": "2022-05-04T16:59:34.167819",
     "exception": false,
     "start_time": "2022-05-04T16:59:34.100442",
     "status": "completed"
    },
    "tags": []
   },
   "source": [
    "# Day 22\n",
    "dataquest-> prob and stats -> probability fundamentals -> conditional probabilities intermediate \n",
    "<br>slide 6\n",
    "- If events events A and B are dependent, it means the occurrence of event A changes the probability of event B and vice versa.\n",
    "   - P(A) ≠ P(A | B)\n",
    "   - P(B) ≠ P(B | A)\n",
    "   - P(A ∩ B) ≠ P(A) ⋅ P(B)\n",
    "   - formula will become P(A ∩ B) ≠ P(A) ⋅ P(B/A)\n",
    "   "
   ]
  },
  {
   "cell_type": "markdown",
   "id": "d38d7e86",
   "metadata": {
    "papermill": {
     "duration": 0.066907,
     "end_time": "2022-05-04T16:59:34.302570",
     "exception": false,
     "start_time": "2022-05-04T16:59:34.235663",
     "status": "completed"
    },
    "tags": []
   },
   "source": [
    "# Day 23\n",
    "dataquest-> prob and stats -> probability fundamentals -> conditional probabilities intermediate\n",
    "<br>slide 7 to last\n",
    "- To find whether three events — A, B, C — are independent or not, below conditions must hold true -\n",
    "  - P(A ∩ B) ≠ P(A) ⋅ P(B)\n",
    "  - P(A ∩ C) ≠ P(A) ⋅ P(C)\n",
    "  - P(B ∩ C) ≠ P(B) ⋅ P(C)\n",
    "  - P(A ∩ B ∩ C) ≠ P(A) ⋅ P(B) . P(C)\n",
    "- multiplication rule for conditional probability or dependent events\n",
    " - P(A ∩ B ∩ C) = P(A) ⋅ P(B | A) ⋅ P(C | A ∩ B)\n",
    " \n",
    "\n"
   ]
  },
  {
   "cell_type": "markdown",
   "id": "deb83a4f",
   "metadata": {
    "papermill": {
     "duration": 0.067733,
     "end_time": "2022-05-04T16:59:34.439477",
     "exception": false,
     "start_time": "2022-05-04T16:59:34.371744",
     "status": "completed"
    },
    "tags": []
   },
   "source": [
    "# Day 24\n",
    "dataquest-> prob and stats -> probability fundamentals -> bayes theorem\n",
    "<br>slide 1\n",
    "- independent -> one event is dependent on other\n",
    "   - P(A ∩ B) = P(A) ⋅ P(B/A)\n",
    "- independent -> one event is not dependent on other.\n",
    "   - P(A ∩ B) = P(A) ⋅ P(B)\n",
    "- mutually exclusive -> both the events cannot happen at the same time.\n",
    "   - P(A ∩ B) = 0\n",
    "\n"
   ]
  },
  {
   "cell_type": "markdown",
   "id": "4e5710de",
   "metadata": {
    "papermill": {
     "duration": 0.067856,
     "end_time": "2022-05-04T16:59:34.575216",
     "exception": false,
     "start_time": "2022-05-04T16:59:34.507360",
     "status": "completed"
    },
    "tags": []
   },
   "source": [
    "# Day 25\n",
    "dataquest-> prob and stats -> probability fundamentals -> bayes theorem\n",
    "<br>slide 2\n",
    "- If two events are exhaustive, it means they make up the whole sample space Ω\n",
    "  -  P(A) = P(A ∩ B) + P(A ∩ B^c)\n",
    "     P(A) = (P(B) * P(A/B)) +  (P(B^c) * P(A/B^c))\n",
    "     \n",
    "     "
   ]
  },
  {
   "cell_type": "markdown",
   "id": "fa5eae29",
   "metadata": {
    "papermill": {
     "duration": 0.068385,
     "end_time": "2022-05-04T16:59:34.712310",
     "exception": false,
     "start_time": "2022-05-04T16:59:34.643925",
     "status": "completed"
    },
    "tags": []
   },
   "source": [
    "# Day 26\n",
    "dataquest-> prob and stats -> probability fundamentals -> bayes theorem\n",
    "<br>slide 3 - last\n",
    "- the law of total probability\n",
    "  - P(A)  = (P(B1) * P(A/B1)) + (P(B2) * P(A/B2))+ ... + (P(Bn) * P(A/Bn)))\n",
    "  - P(A) =(summattion i=1 to n) P(Bi) ⋅ P(A|Bi)\n",
    "- Baye's theorem\n",
    "  - P(B | A) = (P(B) ⋅ P(A | B)) / (n ∑i=1 P(Bi) ⋅ P(A | Bi))\n",
    "- The probability of being infected with HIV before doing any test is called the prior probability (\"prior\" means \"before\"). The probability of being infected with HIV after testing positive is called the posterior probability (\"posterior\" means \"after\").\n",
    "\n",
    "\n",
    "  "
   ]
  },
  {
   "cell_type": "markdown",
   "id": "a0eb1042",
   "metadata": {
    "papermill": {
     "duration": 0.067372,
     "end_time": "2022-05-04T16:59:34.848154",
     "exception": false,
     "start_time": "2022-05-04T16:59:34.780782",
     "status": "completed"
    },
    "tags": []
   },
   "source": [
    "# Day 27\n",
    "dataquest-> prob and stats -> probability fundamentals -> naive bayes theorem\n",
    "<br>slide 1 - \n",
    "P(Spam|w1,w2,w3,w4)∝P(Spam)⋅P(w1|Spam)⋅P(w2|Spam)⋅P(w3|Spam)⋅P(w4|Spam)P(SpamC|w1,w2,w3,w4)∝P(SpamC)⋅P(w1|SpamC)⋅P(w2|SpamC)⋅P(w3|SpamC)⋅P(w4|SpamC)"
   ]
  },
  {
   "cell_type": "markdown",
   "id": "3e7beef8",
   "metadata": {
    "papermill": {
     "duration": 0.067542,
     "end_time": "2022-05-04T16:59:34.984876",
     "exception": false,
     "start_time": "2022-05-04T16:59:34.917334",
     "status": "completed"
    },
    "tags": []
   },
   "source": [
    "# Day 28\n",
    "dataquest-> prob and stats -> probability fundamentals -> naive bayes theorem\n",
    "<br>finished.\n",
    "<br>**Summary**\n",
    "- P(Spam|w1,w2,...,wn)∝P(Spam)⋅n∏i=1P(wi|Spam)\n",
    "- P(SpamC|w1,w2,...,wn)∝P(SpamC)⋅n∏i=1P(wi|SpamC)\n",
    "- To calculate P(wi|Spam) and P(wi|SpamC), we need to use the additive smoothing technique: \n",
    "- P ( w i | S p a m ) = (N w i | S p a m + α) / ( N S p a m + α ⋅ N V o c a b u l a r y )\n",
    "- P ( w i | S p a m C ) = (N w i | S p a m C + α) / ( N S p a m C + α ⋅ N V o c a b u l a r y )\n",
    "     - N w i | S p a m = the number of times the word w i occurs in spam messages \n",
    "     - N w i | S p a m C = the number of times the word w i occurs in non-spam messages \n",
    "     - N S p a m = total number of words in spam messages \n",
    "     - N S p a m C = total number of words in non-spam messages \n",
    "     - N V o c a b u l a r y = total number of words in the vocabulary \n",
    "     - α = 1 ( α is a smoothing parameter )\n",
    " - naive bayes theorem assumes that events are not dependent.\n",
    " - The assumption of conditional independence between words is thus naive since it rarely holds in practice, and this is why the algorithm is called Naive Bayes (also called simple Bayes or independence Bayes)."
   ]
  },
  {
   "cell_type": "markdown",
   "id": "94335682",
   "metadata": {
    "papermill": {
     "duration": 0.069273,
     "end_time": "2022-05-04T16:59:35.121724",
     "exception": false,
     "start_time": "2022-05-04T16:59:35.052451",
     "status": "completed"
    },
    "tags": []
   },
   "source": [
    "# Day 29,30,31\n",
    "<br>dataquest-> prob and stats -> probability fundamentals -> conditional probability-> guided projects\n",
    "<br> in progress"
   ]
  },
  {
   "cell_type": "markdown",
   "id": "6fe2da5b",
   "metadata": {
    "papermill": {
     "duration": 0.068116,
     "end_time": "2022-05-04T16:59:35.258267",
     "exception": false,
     "start_time": "2022-05-04T16:59:35.190151",
     "status": "completed"
    },
    "tags": []
   },
   "source": [
    "# Day 32 and 33\n",
    "<br>dataquest-> prob and stats -> probability fundamentals -> guided projects\n",
    "<br> done"
   ]
  },
  {
   "cell_type": "markdown",
   "id": "cb25eebf",
   "metadata": {
    "papermill": {
     "duration": 0.073137,
     "end_time": "2022-05-04T16:59:35.399035",
     "exception": false,
     "start_time": "2022-05-04T16:59:35.325898",
     "status": "completed"
    },
    "tags": []
   },
   "source": [
    "# Day 34\n",
    "<br>dataquest-> prob and stats -> probability fundamentals -> guided projects-> lottery prediction\n",
    "<br> done"
   ]
  },
  {
   "cell_type": "markdown",
   "id": "9f5f3004",
   "metadata": {
    "papermill": {
     "duration": 0.066799,
     "end_time": "2022-05-04T16:59:35.537749",
     "exception": false,
     "start_time": "2022-05-04T16:59:35.470950",
     "status": "completed"
    },
    "tags": []
   },
   "source": [
    "# Day 35\n",
    "<br>dataquest-> prob and stats -> hypothesis testing fundamentals -> significance testing\n",
    "<br> till slide 4\n",
    "- null hypothesis\n",
    "- alternate hypothesis\n"
   ]
  },
  {
   "cell_type": "markdown",
   "id": "eb0b88e5",
   "metadata": {
    "papermill": {
     "duration": 0.066849,
     "end_time": "2022-05-04T16:59:35.671906",
     "exception": false,
     "start_time": "2022-05-04T16:59:35.605057",
     "status": "completed"
    },
    "tags": []
   },
   "source": [
    "# Day 36 and 37\n",
    "<br>dataquest-> prob and stats -> hypothesis testing fundamentals -> significance testing\n",
    "- The permutation test is a statistical test that involves rerunning the study many times and recalculating the test statistic for each iteration. The goal is to calculate a distribution of the test statistics over these many iterations. This distribution is called the sampling distribution and it approximates the full range of possible test statistics under the null hypothesis\n",
    "\n"
   ]
  },
  {
   "cell_type": "markdown",
   "id": "f5faaa02",
   "metadata": {
    "papermill": {
     "duration": 0.067835,
     "end_time": "2022-05-04T16:59:35.807739",
     "exception": false,
     "start_time": "2022-05-04T16:59:35.739904",
     "status": "completed"
    },
    "tags": []
   },
   "source": [
    "# Day 38\n",
    "<br>dataquest-> prob and stats -> hypothesis testing fundamentals -> significance testing\n",
    "<br>in progress."
   ]
  },
  {
   "cell_type": "markdown",
   "id": "91a1f359",
   "metadata": {
    "papermill": {
     "duration": 0.068248,
     "end_time": "2022-05-04T16:59:35.944121",
     "exception": false,
     "start_time": "2022-05-04T16:59:35.875873",
     "status": "completed"
    },
    "tags": []
   },
   "source": [
    "# Day 39\n",
    "<br>dataquest-> prob and stats -> hypothesis testing fundamentals -> significance testing\n",
    "<br>slide 5-6"
   ]
  },
  {
   "cell_type": "markdown",
   "id": "05739d71",
   "metadata": {
    "papermill": {
     "duration": 0.069656,
     "end_time": "2022-05-04T16:59:36.081874",
     "exception": false,
     "start_time": "2022-05-04T16:59:36.012218",
     "status": "completed"
    },
    "tags": []
   },
   "source": [
    "# Day 40\n",
    "<br>dataquest-> prob and stats -> hypothesis testing fundamentals -> significance testing\n",
    "<br>slide 7"
   ]
  },
  {
   "cell_type": "markdown",
   "id": "6f9e3ff3",
   "metadata": {
    "papermill": {
     "duration": 0.068825,
     "end_time": "2022-05-04T16:59:36.219176",
     "exception": false,
     "start_time": "2022-05-04T16:59:36.150351",
     "status": "completed"
    },
    "tags": []
   },
   "source": [
    "# Day 41 and 42\n",
    "<br>dataquest-> prob and stats -> hypothesis testing fundamentals -> significance testing\n",
    "<br>slide 7 done and 8(p-value) strated"
   ]
  },
  {
   "cell_type": "markdown",
   "id": "1052d013",
   "metadata": {
    "papermill": {
     "duration": 0.067884,
     "end_time": "2022-05-04T16:59:36.355963",
     "exception": false,
     "start_time": "2022-05-04T16:59:36.288079",
     "status": "completed"
    },
    "tags": []
   },
   "source": [
    "# Day 43\n",
    "<br>dataquest-> prob and stats -> hypothesis testing fundamentals -> significance testing\n",
    "<br>\n",
    "- The first step is to decide a test statistic, which is a numerical value that summarizes the data and one we can use in statistical formulas. The test statistic runs a statistical test that determines whether the difference between the groups was due to random chance.\n",
    "  - e.x: mean \n",
    "- The permutation test is a statistical test that involves rerunning the study many times and recalculating the test statistic for each iteration.\n",
    "   - The goal is to calculate a distribution of the test statistics over these many iterations. This distribution is called the sampling distribution and it approximates the full range of possible test statistics under the null hypothesis.\n",
    "- If the p value is less than the threshold, we:\n",
    "    - reject the null hypothesis that there's no difference in the mean amount of weight lost by participants in both groups; and\n",
    "    - conclude that there is some evidence that the weight loss pill does affect the amount of weight people lost.\n",
    "\n",
    "- If the p value is greater than the threshold, we:\n",
    "    - fail to reject the null hypothesis that there's no difference in the mean amount of weight lost by participants in both groups,\n",
    "    - conclude that the weight loss pill doesn't seem to be effective in helping people lose weight.\n",
    "- usually used p-value threshold is 0.05\n",
    "- The p value threshold you set can also affect the conclusion you reach.\n",
    "    - If you set too high of a p value threshold, you may reject the null hypothesis incorrectly. This is known as a type I error.\n",
    "    - If you set too low of a p value threshold, you may fail to reject the null hypothesis incorrectly. This is known as a type II error."
   ]
  },
  {
   "cell_type": "markdown",
   "id": "7863ab0b",
   "metadata": {
    "papermill": {
     "duration": 0.068051,
     "end_time": "2022-05-04T16:59:36.495719",
     "exception": false,
     "start_time": "2022-05-04T16:59:36.427668",
     "status": "completed"
    },
    "tags": []
   },
   "source": [
    "# Day 44\n",
    "<br>dataquest-> prob and stats -> hypothesis testing fundamentals -> significance testing-> chi squared test\n",
    "<br>1- 4\n",
    "- chi squared test is used for numerical values"
   ]
  },
  {
   "cell_type": "markdown",
   "id": "d40eec34",
   "metadata": {
    "papermill": {
     "duration": 0.067196,
     "end_time": "2022-05-04T16:59:36.630580",
     "exception": false,
     "start_time": "2022-05-04T16:59:36.563384",
     "status": "completed"
    },
    "tags": []
   },
   "source": [
    "# Day 45 and 46\n",
    "<br>dataquest-> prob and stats -> hypothesis testing fundamentals -> significance testing-> chi squared test\n",
    "<br>4- 6"
   ]
  },
  {
   "cell_type": "markdown",
   "id": "cde996d2",
   "metadata": {
    "papermill": {
     "duration": 0.068218,
     "end_time": "2022-05-04T16:59:36.766484",
     "exception": false,
     "start_time": "2022-05-04T16:59:36.698266",
     "status": "completed"
    },
    "tags": []
   },
   "source": [
    "# Day 47\n",
    "<br>dataquest-> prob and stats -> hypothesis testing fundamentals -> significance testing-> chi squared test\n",
    "<br> slide 6 done"
   ]
  },
  {
   "cell_type": "markdown",
   "id": "7f49eb20",
   "metadata": {
    "papermill": {
     "duration": 0.069944,
     "end_time": "2022-05-04T16:59:36.906103",
     "exception": false,
     "start_time": "2022-05-04T16:59:36.836159",
     "status": "completed"
    },
    "tags": []
   },
   "source": [
    "# Day 48\n",
    "<br> chi-squared values is that they get smaller as the sample size decreases.\n",
    "<br>**conclusion**\n",
    "- The chi-squared test enables us to quantify the difference between sets of observed and expected categorical values to determine statistical significance\n",
    "- chi squared = (observed - expected)**2 / expected\n",
    "- A p-value allows us to determine whether the difference between 2 values is due to chance, or due to an underlying difference.\n",
    "- Chi-squared values increase as sample size increases, but the chance of getting a high chi-squared value decreases as the sample gets larger.\n",
    "- A degree of freedom is the number of values that can vary without the other values being\"locked in\". \n",
    "- scipy https://docs.scipy.org/doc/scipy/reference/generated/scipy.stats.mstats.chisquare.html\n"
   ]
  },
  {
   "cell_type": "markdown",
   "id": "01b6a4ac",
   "metadata": {
    "papermill": {
     "duration": 0.067555,
     "end_time": "2022-05-04T16:59:37.041970",
     "exception": false,
     "start_time": "2022-05-04T16:59:36.974415",
     "status": "completed"
    },
    "tags": []
   },
   "source": [
    "# Day 49\n",
    "<br>dataquest-> prob and stats -> hypothesis testing fundamentals -> significance testing-> multi category chi squared test\n",
    "<br> slide 1 done\n",
    "- We can apply the multi category chi-squared test (also known as the chi-squared test of association) to figure out if there's a statistically significant correlation between two categorical columns.\n",
    "- "
   ]
  },
  {
   "cell_type": "markdown",
   "id": "ff5286f3",
   "metadata": {
    "papermill": {
     "duration": 0.067466,
     "end_time": "2022-05-04T16:59:37.178835",
     "exception": false,
     "start_time": "2022-05-04T16:59:37.111369",
     "status": "completed"
    },
    "tags": []
   },
   "source": [
    " **Day 50**\n",
    "<br>dataquest-> prob and stats -> hypothesis testing fundamentals -> significance testing-> multi category chi squared test\n",
    "# Conclusion:\n",
    "- In a multiple category chi-squared test, we calculate expected values across our whole dataset.\n",
    "- We can calculate the chi-squared value by using the following steps:\n",
    "    - Subtract the expected value from the observed value.\n",
    "    - Subtract the difference.\n",
    "    - Divide the squared difference by the expected value.\n",
    "    - Repeat for all observed and expected values and add up all the values.\n",
    "- ∑ expected(observed−expected)**2 / expected\n",
    "- Discovering that a result isn't significant doesn't mean that no association between the columnsexists. Discovering a statistically significant result doesn't imply anything about what thecorrelation is.\n",
    "- Chi-squared tests can only be applied when each possibility within a category is independen.\n",
    "    - we have categories like male or female not both. single row has either male or female not both at a time.\n",
    "- https://docs.scipy.org/doc/scipy-0.15.1/reference/generated/scipy.stats.chi2_contingency.html\n",
    "- https://pandas.pydata.org/pandas-docs/stable/generated/pandas.crosstab.html\n"
   ]
  },
  {
   "cell_type": "markdown",
   "id": "85c8c666",
   "metadata": {
    "papermill": {
     "duration": 0.067264,
     "end_time": "2022-05-04T16:59:37.313633",
     "exception": false,
     "start_time": "2022-05-04T16:59:37.246369",
     "status": "completed"
    },
    "tags": []
   },
   "source": [
    "# **Day 51, 52**\n",
    "<br>dataquest-> prob and stats -> hypothesis testing fundamentals -> significance testing-> guided project\n",
    "<br>in progress."
   ]
  },
  {
   "cell_type": "markdown",
   "id": "7e8a243a",
   "metadata": {
    "papermill": {
     "duration": 0.068066,
     "end_time": "2022-05-04T16:59:37.449379",
     "exception": false,
     "start_time": "2022-05-04T16:59:37.381313",
     "status": "completed"
    },
    "tags": []
   },
   "source": [
    "# **Day 53**\n",
    "<br>dataquest-> prob and stats -> hypothesis testing fundamentals -> significance testing-> guided project\n",
    "<br>done"
   ]
  },
  {
   "cell_type": "markdown",
   "id": "123d55df",
   "metadata": {
    "papermill": {
     "duration": 0.067548,
     "end_time": "2022-05-04T16:59:37.586081",
     "exception": false,
     "start_time": "2022-05-04T16:59:37.518533",
     "status": "completed"
    },
    "tags": []
   },
   "source": [
    "# **Day 54**\n",
    "interviewbit-> probability-> conditional probability\n",
    "1. You asked your three friends whether it will rain or not and all three affirmed for rain. All three have the probability of 1/3 of lying. What is the probability that it will actually rain?\n",
    "- https://www.geeksforgeeks.org/puzzle-is-it-raining/#:~:text=Explanation%3A,truth%20or%20all%20are%20lying.&text=So%2C%20it%20is%20approximately%2089,it%20is%20raining%20in%20Hyderabad.\n",
    "2. Anshul and Deven take turns in rolling a fair six-sided die. Whoever rolls a “6” first wins the game. Deven starts by rolling first. What’s the probability that Anshul wins?\n",
    "- https://www.quora.com/A-and-B-throw-a-Fair-die-one-after-another-Whoever-throws-6-first-wins-What-is-the-probability-that-A-wins"
   ]
  },
  {
   "cell_type": "code",
   "execution_count": null,
   "id": "e060e021",
   "metadata": {
    "papermill": {
     "duration": 0.067403,
     "end_time": "2022-05-04T16:59:37.721442",
     "exception": false,
     "start_time": "2022-05-04T16:59:37.654039",
     "status": "completed"
    },
    "tags": []
   },
   "outputs": [],
   "source": []
  },
  {
   "cell_type": "code",
   "execution_count": 2,
   "id": "3eef0d07",
   "metadata": {
    "execution": {
     "iopub.execute_input": "2022-05-04T16:59:37.866814Z",
     "iopub.status.busy": "2022-05-04T16:59:37.865676Z",
     "iopub.status.idle": "2022-05-04T16:59:37.869341Z",
     "shell.execute_reply": "2022-05-04T16:59:37.869981Z",
     "shell.execute_reply.started": "2022-04-12T14:17:49.333113Z"
    },
    "papermill": {
     "duration": 0.078919,
     "end_time": "2022-05-04T16:59:37.870153",
     "exception": false,
     "start_time": "2022-05-04T16:59:37.791234",
     "status": "completed"
    },
    "tags": []
   },
   "outputs": [],
   "source": [
    "# !pip install PyMuPDF"
   ]
  },
  {
   "cell_type": "code",
   "execution_count": 3,
   "id": "acd1dd46",
   "metadata": {
    "execution": {
     "iopub.execute_input": "2022-05-04T16:59:38.015491Z",
     "iopub.status.busy": "2022-05-04T16:59:38.014521Z",
     "iopub.status.idle": "2022-05-04T16:59:38.017798Z",
     "shell.execute_reply": "2022-05-04T16:59:38.018368Z",
     "shell.execute_reply.started": "2022-04-12T14:19:20.437905Z"
    },
    "papermill": {
     "duration": 0.077264,
     "end_time": "2022-05-04T16:59:38.018540",
     "exception": false,
     "start_time": "2022-05-04T16:59:37.941276",
     "status": "completed"
    },
    "tags": []
   },
   "outputs": [],
   "source": [
    " \n",
    "# fitz.__version__"
   ]
  },
  {
   "cell_type": "code",
   "execution_count": 4,
   "id": "cb212a08",
   "metadata": {
    "execution": {
     "iopub.execute_input": "2022-05-04T16:59:38.161603Z",
     "iopub.status.busy": "2022-05-04T16:59:38.160785Z",
     "iopub.status.idle": "2022-05-04T16:59:38.164011Z",
     "shell.execute_reply": "2022-05-04T16:59:38.163465Z",
     "shell.execute_reply.started": "2022-04-12T14:23:59.687259Z"
    },
    "papermill": {
     "duration": 0.076871,
     "end_time": "2022-05-04T16:59:38.164166",
     "exception": false,
     "start_time": "2022-05-04T16:59:38.087295",
     "status": "completed"
    },
    "tags": []
   },
   "outputs": [],
   "source": [
    "# !python -m spacy download en_core_web_sm"
   ]
  },
  {
   "cell_type": "code",
   "execution_count": null,
   "id": "a9f19cb3",
   "metadata": {
    "papermill": {
     "duration": 0.07279,
     "end_time": "2022-05-04T16:59:38.305610",
     "exception": false,
     "start_time": "2022-05-04T16:59:38.232820",
     "status": "completed"
    },
    "tags": []
   },
   "outputs": [],
   "source": []
  },
  {
   "cell_type": "code",
   "execution_count": 5,
   "id": "c9bae9d7",
   "metadata": {
    "execution": {
     "iopub.execute_input": "2022-05-04T16:59:38.447439Z",
     "iopub.status.busy": "2022-05-04T16:59:38.446361Z",
     "iopub.status.idle": "2022-05-04T16:59:38.449218Z",
     "shell.execute_reply": "2022-05-04T16:59:38.448587Z",
     "shell.execute_reply.started": "2022-04-12T14:18:25.912243Z"
    },
    "papermill": {
     "duration": 0.074837,
     "end_time": "2022-05-04T16:59:38.449359",
     "exception": false,
     "start_time": "2022-05-04T16:59:38.374522",
     "status": "completed"
    },
    "tags": []
   },
   "outputs": [],
   "source": [
    "# import fitz\n",
    "# import spacy\n",
    "# import re\n",
    "# from pathlib import Path\n",
    "# import requests\n",
    "# import os"
   ]
  },
  {
   "cell_type": "code",
   "execution_count": 6,
   "id": "7ba271a5",
   "metadata": {
    "execution": {
     "iopub.execute_input": "2022-05-04T16:59:38.592955Z",
     "iopub.status.busy": "2022-05-04T16:59:38.591838Z",
     "iopub.status.idle": "2022-05-04T16:59:38.593822Z",
     "shell.execute_reply": "2022-05-04T16:59:38.594428Z",
     "shell.execute_reply.started": "2022-04-12T15:03:43.5897Z"
    },
    "papermill": {
     "duration": 0.076901,
     "end_time": "2022-05-04T16:59:38.594634",
     "exception": false,
     "start_time": "2022-05-04T16:59:38.517733",
     "status": "completed"
    },
    "tags": []
   },
   "outputs": [],
   "source": [
    "# sql_db_json = [\n",
    "#   {\n",
    "#     \"document_id\": \"1\",\n",
    "#     \"area\": \"[72.1149,661.2966,131.95729,675.1716]\",\n",
    "#     \"page\": \"3\",\n",
    "#     \"text_\": \"Background\",\n",
    "#     \"type_of_selection\": \"Text\",\n",
    "#     \"entity_type\": \"name\",\n",
    "#     \"link\": \"https://redactable-devox-stage.s3.us-east-2.amazonaws.com/tenants/41d9e109-693b-444c-aa18-e5891bc6550b/original/1a7c0e5d-3237-4ca9-9e3d-89e707245ac6/D8communications.pdf\"\n",
    "#   },\n",
    "#   {\n",
    "#     \"document_id\": \"1\",\n",
    "#     \"area\": \"[290.55386,632.0173,322.14685,645.8923]\",\n",
    "#     \"page\": \"2\",\n",
    "#     \"text_\": \"INDEX\",\n",
    "#     \"type_of_selection\": \"Text\",\n",
    "#     \"entity_type\": \"address\",\n",
    "#     \"link\": \"https://redactable-devox-stage.s3.us-east-2.amazonaws.com/tenants/41d9e109-693b-444c-aa18-e5891bc6550b/original/1a7c0e5d-3237-4ca9-9e3d-89e707245ac6/D8communications.pdf\"\n",
    "#   }\n",
    "# ]"
   ]
  },
  {
   "cell_type": "code",
   "execution_count": 7,
   "id": "e5907fa6",
   "metadata": {
    "execution": {
     "iopub.execute_input": "2022-05-04T16:59:38.733841Z",
     "iopub.status.busy": "2022-05-04T16:59:38.732900Z",
     "iopub.status.idle": "2022-05-04T16:59:38.735939Z",
     "shell.execute_reply": "2022-05-04T16:59:38.736560Z",
     "shell.execute_reply.started": "2022-04-12T13:17:19.452695Z"
    },
    "papermill": {
     "duration": 0.074689,
     "end_time": "2022-05-04T16:59:38.736727",
     "exception": false,
     "start_time": "2022-05-04T16:59:38.662038",
     "status": "completed"
    },
    "tags": []
   },
   "outputs": [],
   "source": [
    "# l=pd.DataFrame()\n",
    "# k=(1, '[290.55386,632.0173,322.14685,645.8923]', 2, 'INDEX', 'Text', 'address', 'https://redactable-devox-s')\n",
    "# k\n"
   ]
  },
  {
   "cell_type": "code",
   "execution_count": 8,
   "id": "25af3282",
   "metadata": {
    "execution": {
     "iopub.execute_input": "2022-05-04T16:59:38.878841Z",
     "iopub.status.busy": "2022-05-04T16:59:38.877837Z",
     "iopub.status.idle": "2022-05-04T16:59:38.882010Z",
     "shell.execute_reply": "2022-05-04T16:59:38.882604Z",
     "shell.execute_reply.started": "2022-04-12T16:09:33.708631Z"
    },
    "papermill": {
     "duration": 0.07648,
     "end_time": "2022-05-04T16:59:38.882792",
     "exception": false,
     "start_time": "2022-05-04T16:59:38.806312",
     "status": "completed"
    },
    "tags": []
   },
   "outputs": [],
   "source": [
    "# co=[\"document_id\",\"area\",\"page\",\"text_\",\"type_of_selection\",\"entity_type\",\"link\"]\n",
    "# val= [(1,'[72.1149,661.2966,131.95729,675.1716]',3,'Background','Text','name' ,'https://redactable-devox-stage.s3.us-east-2.am'), (1,  '[290.55386,632.0173,322.14685,645.8923]',2,'INDEX', 'Text','address','https://redactable-devox-stage.s3.us-east-2.am')]\n",
    "\n",
    "# df=pd.DataFrame(val,columns=[co])\n",
    "# #df.iloc[1] =[1,  '[290.55386,632.0173,322.14685,645.8923]',2,'INDEX', 'Text','address','https://redactable-devox-stage.s3.us-east-2.am']\n",
    "# df"
   ]
  },
  {
   "cell_type": "code",
   "execution_count": 9,
   "id": "e3fba037",
   "metadata": {
    "execution": {
     "iopub.execute_input": "2022-05-04T16:59:39.026151Z",
     "iopub.status.busy": "2022-05-04T16:59:39.025091Z",
     "iopub.status.idle": "2022-05-04T16:59:39.027056Z",
     "shell.execute_reply": "2022-05-04T16:59:39.027687Z",
     "shell.execute_reply.started": "2022-04-12T16:18:22.595374Z"
    },
    "papermill": {
     "duration": 0.076018,
     "end_time": "2022-05-04T16:59:39.027858",
     "exception": false,
     "start_time": "2022-05-04T16:59:38.951840",
     "status": "completed"
    },
    "tags": []
   },
   "outputs": [],
   "source": [
    "# prev=[]\n",
    "# for data,row in df.iterrows():\n",
    "#     if row['document_id'] not in prev:\n",
    "#         prev.append(row['document_id'])\n",
    "#         print('hey')"
   ]
  },
  {
   "cell_type": "code",
   "execution_count": 10,
   "id": "609819e0",
   "metadata": {
    "execution": {
     "iopub.execute_input": "2022-05-04T16:59:39.199328Z",
     "iopub.status.busy": "2022-05-04T16:59:39.198194Z",
     "iopub.status.idle": "2022-05-04T16:59:39.200710Z",
     "shell.execute_reply": "2022-05-04T16:59:39.201166Z",
     "shell.execute_reply.started": "2022-04-12T15:03:48.248836Z"
    },
    "papermill": {
     "duration": 0.101211,
     "end_time": "2022-05-04T16:59:39.201353",
     "exception": false,
     "start_time": "2022-05-04T16:59:39.100142",
     "status": "completed"
    },
    "tags": []
   },
   "outputs": [],
   "source": [
    "# nlp = spacy.load('en_core_web_sm')\n",
    "# train_data = []\n",
    "\n",
    "# prev_doc_id = ''\n",
    "# i=0\n",
    "# temp='/kaggle/working'\n",
    "\n",
    "# for data in sql_db_json:\n",
    "#     if data['type_of_selection'] == 'Text':\n",
    "#         document_id = data['document_id']\n",
    "#         x1,y1,x2,y2 = data['area'][1:-1].split(',')\n",
    "#         url = data['link']\n",
    "#         page_no = int(data['page']) - 1 \n",
    "#         label = data['entity_type']\n",
    "#         filename = url.split('/')[-1]\n",
    "    \n",
    "#         #download the file to temp folder\n",
    "#         outpath = os.path.join(temp,filename)\n",
    "\n",
    "#         if document_id == prev_doc_id:\n",
    "#             pass\n",
    "#         else: \n",
    "#             i+=1\n",
    "#             print(i)\n",
    "#             response = requests.get(url)\n",
    "#             with open(outpath, \"wb\") as binary_file:\n",
    "#                 binary_file.write(response.content)\n",
    "\n",
    "#         doc = fitz.open(outpath)  # any supported document type\n",
    "#         page = doc[page_no]  # we want text from this page\n",
    "#         print('page dimension - ', page.rect.width, page.rect.height)\n",
    "\n",
    "#         #The co-ordinates in the DB are image co-ords. W.r.t pdf, y1 and y2 has to be interchanged.\n",
    "#         #To ensure entire word to be selected, slight correction in x1,y1,x2,y2 is done.\n",
    "\n",
    "#         rect = [float(x1)-2, 792 - float(y2)-2, float(x2)+2, 792 - float(y1)+2]\n",
    "#         print(rect)\n",
    "#         labelled_text = page.get_textbox(rect)\n",
    "\n",
    "#         #Removing all unprintable characters from the text\n",
    "#         string = re.sub('[^0-9a-zA-Z@?|\\/<>.,()&^%$#!]+', ' ', labelled_text)\n",
    "#         print('string : ', string)\n",
    "\n",
    "#         fulltext = page.get_text()\n",
    "#         doc = nlp(fulltext)\n",
    "\n",
    "#         sentences = []\n",
    "#         for sent in doc.sents:\n",
    "#             if string.strip() in sent.text:\n",
    "#                 text = re.sub('[^0-9a-zA-Z@?|\\/<>.,()&^%$#!]+', ' ', sent.text)\n",
    "\n",
    "#         res = re.search(string.strip(), text)\n",
    "\n",
    "#         entities = []\n",
    "#         entities.append((res.start(),res.end(),label))\n",
    "\n",
    "#         train_data.append((text,{'entities':entities}))\n",
    "\n",
    "# print('Training data in spacy format')\n",
    "# print('*****************************')\n",
    "# for i in range(0,len(train_data)):\n",
    "#     print(train_data[i])"
   ]
  },
  {
   "cell_type": "code",
   "execution_count": null,
   "id": "fcab8ca3",
   "metadata": {
    "papermill": {
     "duration": 0.072518,
     "end_time": "2022-05-04T16:59:39.349493",
     "exception": false,
     "start_time": "2022-05-04T16:59:39.276975",
     "status": "completed"
    },
    "tags": []
   },
   "outputs": [],
   "source": []
  },
  {
   "cell_type": "code",
   "execution_count": 11,
   "id": "838bb8e3",
   "metadata": {
    "execution": {
     "iopub.execute_input": "2022-05-04T16:59:39.503060Z",
     "iopub.status.busy": "2022-05-04T16:59:39.501998Z",
     "iopub.status.idle": "2022-05-04T16:59:39.504833Z",
     "shell.execute_reply": "2022-05-04T16:59:39.504261Z",
     "shell.execute_reply.started": "2022-04-12T11:44:59.253637Z"
    },
    "papermill": {
     "duration": 0.080514,
     "end_time": "2022-05-04T16:59:39.504980",
     "exception": false,
     "start_time": "2022-05-04T16:59:39.424466",
     "status": "completed"
    },
    "tags": []
   },
   "outputs": [],
   "source": [
    "# nlp = spacy.load('en_core_web_sm')\n",
    "# train_data = []\n",
    "\n",
    "# prev_doc_id = ''\n",
    "# temp='/kaggle/working'\n",
    "# i=0\n",
    "# for data in sql_db_json:\n",
    "#     if data['type_of_selection'] == 'Text':\n",
    "#         document_id = data['document_id']\n",
    "#         x1,y1,x2,y2 = data['area'][1:-1].split(',')\n",
    "#         url = data['link']\n",
    "#         page_no = int(data['page']) - 1 \n",
    "#         label = data['entity_type']\n",
    "#         filename = url.split('/')[-1]\n",
    "    \n",
    "#         #download the file to temp folder\n",
    "#         i+=1\n",
    "#         print(i)\n",
    "#         response = requests.get(url)\n",
    "#         doc = fitz.open(stream=response.content,filetype=\"pdf\")  # any supported document type\n",
    "#         page = doc[page_no]  # we want text from this page\n",
    "#         print('page dimension - ', page.rect.width, page.rect.height)\n",
    "\n",
    "#         #The co-ordinates in the DB are image co-ords. W.r.t pdf, y1 and y2 has to be interchanged.\n",
    "#         #To ensure entire word to be selected, slight correction in x1,y1,x2,y2 is done.\n",
    "\n",
    "#         rect = [float(x1)-2, 792 - float(y2)-2, float(x2)+2, 792 - float(y1)+2]\n",
    "#         print(rect)\n",
    "#         labelled_text = page.get_textbox(rect)\n",
    "\n",
    "#         #Removing all unprintable characters from the text\n",
    "#         string = re.sub('[^0-9a-zA-Z@?|\\/<>.,()&^%$#!]+', ' ', labelled_text)\n",
    "#         print('string : ', string)\n",
    "\n",
    "#         fulltext = page.get_text()\n",
    "#         doc = nlp(fulltext)\n",
    "\n",
    "#         sentences = []\n",
    "#         for sent in doc.sents:\n",
    "#             if string.strip() in sent.text:\n",
    "#                 text = re.sub('[^0-9a-zA-Z@?|\\/<>.,()&^%$#!]+', ' ', sent.text)\n",
    "\n",
    "#         res = re.search(string.strip(), text)\n",
    "\n",
    "#         entities = []\n",
    "#         entities.append((res.start(),res.end(),label))\n",
    "\n",
    "#         train_data.append((text,{'entities':entities}))\n",
    "\n",
    "# print('Training data in spacy format')\n",
    "# print('*****************************')\n",
    "# for i in range(0,len(train_data)):\n",
    "#     print(train_data[i])"
   ]
  },
  {
   "cell_type": "code",
   "execution_count": 12,
   "id": "e1deb30d",
   "metadata": {
    "execution": {
     "iopub.execute_input": "2022-05-04T16:59:39.651626Z",
     "iopub.status.busy": "2022-05-04T16:59:39.648702Z",
     "iopub.status.idle": "2022-05-04T16:59:39.655171Z",
     "shell.execute_reply": "2022-05-04T16:59:39.654399Z"
    },
    "papermill": {
     "duration": 0.079214,
     "end_time": "2022-05-04T16:59:39.655319",
     "exception": false,
     "start_time": "2022-05-04T16:59:39.576105",
     "status": "completed"
    },
    "tags": []
   },
   "outputs": [],
   "source": [
    "# page dimension -  612.0 792.0\n",
    "# [70.1149, 114.82839999999999, 133.95729, 132.7034]\n",
    "# string :  Background\n",
    "# page dimension -  612.0 792.0\n",
    "# [288.55386, 144.10770000000002, 324.14685, 161.98270000000002]\n",
    "# string :  INDEX\n",
    "# Training data in spacy format\n",
    "# *****************************\n",
    "# (' 3 Background The Blue Ribbon Committee was created by the Mayor to assess various city communication methods and recommend opportunities to improve communications with residents, businesses and other organizations.', {'entities': [(3, 13, 'name')]})\n",
    "# (' 2 INDEX Background Pg. 3 Purpose Pg. 3 Process .', {'entities': [(3, 8, 'address')]})"
   ]
  },
  {
   "cell_type": "code",
   "execution_count": 13,
   "id": "824f6f48",
   "metadata": {
    "execution": {
     "iopub.execute_input": "2022-05-04T16:59:39.799814Z",
     "iopub.status.busy": "2022-05-04T16:59:39.798796Z",
     "iopub.status.idle": "2022-05-04T16:59:39.803252Z",
     "shell.execute_reply": "2022-05-04T16:59:39.803763Z",
     "shell.execute_reply.started": "2022-04-11T16:35:29.609712Z"
    },
    "papermill": {
     "duration": 0.07756,
     "end_time": "2022-05-04T16:59:39.803948",
     "exception": false,
     "start_time": "2022-05-04T16:59:39.726388",
     "status": "completed"
    },
    "tags": []
   },
   "outputs": [],
   "source": [
    "# nlp = spacy.load('en_core_web_sm')\n",
    "# outpath=r'/kaggle/input/sample-pdf/D8communications.pdf'\n",
    "# doc = fitz.open(outpath)  # any supported document type\n",
    "# page_no=3\n",
    "# page = doc[page_no-1]\n",
    "\n",
    "# x1,y1,x2,y2=(72.1149,661.2966,131.95729,675.1716)\n",
    "\n",
    "# rect = [float(x1)-2, 792 - float(y2)-2, float(x2)+2, 792 - float(y1)+2]\n",
    "# print(rect)\n",
    "# labelled_text = page.get_textbox(rect)\n",
    "# string = re.sub('[^0-9a-zA-Z@?|\\/<>.,()&^%$#!]+', ' ', labelled_text)\n",
    "# print('string : ', string)\n",
    "\n",
    "# fulltext = page.get_text()\n",
    "# doc = nlp(fulltext)\n",
    "\n",
    "# sentences = []\n",
    "# for sent in doc.sents:\n",
    "#             if string.strip() in sent.text:\n",
    "#                 text = re.sub('[^0-9a-zA-Z@?|\\/<>.,()&^%$#!]+', ' ', sent.text)\n",
    "\n",
    "#         res = re.search(string.strip(), text)\n",
    "\n",
    "#         entities = []\n",
    "#         entities.append((res.start(),res.end(),label))\n",
    "\n",
    "#         train_data.append((text,{'entities':entities}))\n",
    "\n"
   ]
  },
  {
   "cell_type": "code",
   "execution_count": 14,
   "id": "87becb25",
   "metadata": {
    "execution": {
     "iopub.execute_input": "2022-05-04T16:59:39.953600Z",
     "iopub.status.busy": "2022-05-04T16:59:39.952706Z",
     "iopub.status.idle": "2022-05-04T16:59:39.955722Z",
     "shell.execute_reply": "2022-05-04T16:59:39.956170Z",
     "shell.execute_reply.started": "2022-04-11T16:35:41.679947Z"
    },
    "papermill": {
     "duration": 0.080842,
     "end_time": "2022-05-04T16:59:39.956342",
     "exception": false,
     "start_time": "2022-05-04T16:59:39.875500",
     "status": "completed"
    },
    "tags": []
   },
   "outputs": [],
   "source": [
    "#doc"
   ]
  },
  {
   "cell_type": "code",
   "execution_count": 15,
   "id": "af75b58d",
   "metadata": {
    "execution": {
     "iopub.execute_input": "2022-05-04T16:59:40.098430Z",
     "iopub.status.busy": "2022-05-04T16:59:40.097729Z",
     "iopub.status.idle": "2022-05-04T16:59:40.099932Z",
     "shell.execute_reply": "2022-05-04T16:59:40.099429Z",
     "shell.execute_reply.started": "2022-04-11T16:35:56.010353Z"
    },
    "papermill": {
     "duration": 0.07513,
     "end_time": "2022-05-04T16:59:40.100087",
     "exception": false,
     "start_time": "2022-05-04T16:59:40.024957",
     "status": "completed"
    },
    "tags": []
   },
   "outputs": [],
   "source": [
    "# sentences = []\n",
    "# for sent in doc.sents:\n",
    "#     if string.strip() in sent.text:\n",
    "#         text = re.sub('[^0-9a-zA-Z@?|\\/<>.,()&^%$#!]+', ' ', sent.text)"
   ]
  },
  {
   "cell_type": "code",
   "execution_count": 16,
   "id": "00a9aaaa",
   "metadata": {
    "execution": {
     "iopub.execute_input": "2022-05-04T16:59:40.239632Z",
     "iopub.status.busy": "2022-05-04T16:59:40.239002Z",
     "iopub.status.idle": "2022-05-04T16:59:40.242095Z",
     "shell.execute_reply": "2022-05-04T16:59:40.242661Z",
     "shell.execute_reply.started": "2022-04-11T16:39:04.736143Z"
    },
    "papermill": {
     "duration": 0.074036,
     "end_time": "2022-05-04T16:59:40.242835",
     "exception": false,
     "start_time": "2022-05-04T16:59:40.168799",
     "status": "completed"
    },
    "tags": []
   },
   "outputs": [],
   "source": [
    "# k=nlp(\"he             kenny\")\n",
    "# for sent in k.sents:\n",
    "#     print(sent)"
   ]
  },
  {
   "cell_type": "code",
   "execution_count": 17,
   "id": "d0c001d7",
   "metadata": {
    "execution": {
     "iopub.execute_input": "2022-05-04T16:59:40.381868Z",
     "iopub.status.busy": "2022-05-04T16:59:40.381102Z",
     "iopub.status.idle": "2022-05-04T16:59:40.384001Z",
     "shell.execute_reply": "2022-05-04T16:59:40.384669Z",
     "shell.execute_reply.started": "2022-04-11T15:09:24.391421Z"
    },
    "papermill": {
     "duration": 0.073745,
     "end_time": "2022-05-04T16:59:40.384851",
     "exception": false,
     "start_time": "2022-05-04T16:59:40.311106",
     "status": "completed"
    },
    "tags": []
   },
   "outputs": [],
   "source": [
    "# text"
   ]
  },
  {
   "cell_type": "code",
   "execution_count": 18,
   "id": "3302b567",
   "metadata": {
    "execution": {
     "iopub.execute_input": "2022-05-04T16:59:40.523768Z",
     "iopub.status.busy": "2022-05-04T16:59:40.523108Z",
     "iopub.status.idle": "2022-05-04T16:59:40.525907Z",
     "shell.execute_reply": "2022-05-04T16:59:40.526444Z",
     "shell.execute_reply.started": "2022-04-11T15:09:31.9599Z"
    },
    "papermill": {
     "duration": 0.073967,
     "end_time": "2022-05-04T16:59:40.526638",
     "exception": false,
     "start_time": "2022-05-04T16:59:40.452671",
     "status": "completed"
    },
    "tags": []
   },
   "outputs": [],
   "source": [
    "# res = re.search(string.strip(), text)\n",
    "# res"
   ]
  },
  {
   "cell_type": "code",
   "execution_count": 19,
   "id": "9abbb525",
   "metadata": {
    "execution": {
     "iopub.execute_input": "2022-05-04T16:59:40.665965Z",
     "iopub.status.busy": "2022-05-04T16:59:40.664759Z",
     "iopub.status.idle": "2022-05-04T16:59:40.668954Z",
     "shell.execute_reply": "2022-05-04T16:59:40.668271Z",
     "shell.execute_reply.started": "2022-04-11T15:12:41.311242Z"
    },
    "papermill": {
     "duration": 0.074787,
     "end_time": "2022-05-04T16:59:40.669107",
     "exception": false,
     "start_time": "2022-05-04T16:59:40.594320",
     "status": "completed"
    },
    "tags": []
   },
   "outputs": [],
   "source": [
    "# entities = []\n",
    "# entities.append((res.start(),res.end(),'p'))"
   ]
  },
  {
   "cell_type": "code",
   "execution_count": 20,
   "id": "3ee02d55",
   "metadata": {
    "execution": {
     "iopub.execute_input": "2022-05-04T16:59:40.808913Z",
     "iopub.status.busy": "2022-05-04T16:59:40.808230Z",
     "iopub.status.idle": "2022-05-04T16:59:40.811100Z",
     "shell.execute_reply": "2022-05-04T16:59:40.810426Z",
     "shell.execute_reply.started": "2022-04-11T15:12:52.736619Z"
    },
    "papermill": {
     "duration": 0.07433,
     "end_time": "2022-05-04T16:59:40.811247",
     "exception": false,
     "start_time": "2022-05-04T16:59:40.736917",
     "status": "completed"
    },
    "tags": []
   },
   "outputs": [],
   "source": [
    "# entities"
   ]
  },
  {
   "cell_type": "code",
   "execution_count": 21,
   "id": "34274425",
   "metadata": {
    "execution": {
     "iopub.execute_input": "2022-05-04T16:59:40.975338Z",
     "iopub.status.busy": "2022-05-04T16:59:40.974625Z",
     "iopub.status.idle": "2022-05-04T16:59:40.976779Z",
     "shell.execute_reply": "2022-05-04T16:59:40.977276Z",
     "shell.execute_reply.started": "2022-04-11T15:06:11.546217Z"
    },
    "papermill": {
     "duration": 0.08247,
     "end_time": "2022-05-04T16:59:40.977457",
     "exception": false,
     "start_time": "2022-05-04T16:59:40.894987",
     "status": "completed"
    },
    "tags": []
   },
   "outputs": [],
   "source": [
    "# text"
   ]
  },
  {
   "cell_type": "code",
   "execution_count": null,
   "id": "744fe3da",
   "metadata": {
    "execution": {
     "iopub.execute_input": "2022-04-11T15:02:33.300092Z",
     "iopub.status.busy": "2022-04-11T15:02:33.299778Z",
     "iopub.status.idle": "2022-04-11T15:02:33.30711Z",
     "shell.execute_reply": "2022-04-11T15:02:33.306345Z",
     "shell.execute_reply.started": "2022-04-11T15:02:33.300061Z"
    },
    "papermill": {
     "duration": 0.069069,
     "end_time": "2022-05-04T16:59:41.116237",
     "exception": false,
     "start_time": "2022-05-04T16:59:41.047168",
     "status": "completed"
    },
    "tags": []
   },
   "outputs": [],
   "source": []
  },
  {
   "cell_type": "code",
   "execution_count": 22,
   "id": "5780d4da",
   "metadata": {
    "execution": {
     "iopub.execute_input": "2022-05-04T16:59:41.260523Z",
     "iopub.status.busy": "2022-05-04T16:59:41.259508Z",
     "iopub.status.idle": "2022-05-04T16:59:41.264201Z",
     "shell.execute_reply": "2022-05-04T16:59:41.263430Z",
     "shell.execute_reply.started": "2022-04-11T16:21:02.863037Z"
    },
    "papermill": {
     "duration": 0.07754,
     "end_time": "2022-05-04T16:59:41.264351",
     "exception": false,
     "start_time": "2022-05-04T16:59:41.186811",
     "status": "completed"
    },
    "tags": []
   },
   "outputs": [],
   "source": [
    "# import spacy\n",
    "# nlp = spacy.load('en_core_web_sm')"
   ]
  },
  {
   "cell_type": "code",
   "execution_count": 23,
   "id": "1a589ee3",
   "metadata": {
    "execution": {
     "iopub.execute_input": "2022-05-04T16:59:41.408203Z",
     "iopub.status.busy": "2022-05-04T16:59:41.407204Z",
     "iopub.status.idle": "2022-05-04T16:59:41.410594Z",
     "shell.execute_reply": "2022-05-04T16:59:41.409945Z",
     "shell.execute_reply.started": "2022-04-09T12:19:47.776612Z"
    },
    "papermill": {
     "duration": 0.075659,
     "end_time": "2022-05-04T16:59:41.410744",
     "exception": false,
     "start_time": "2022-05-04T16:59:41.335085",
     "status": "completed"
    },
    "tags": []
   },
   "outputs": [],
   "source": [
    "# !pip install PyPDF2\n",
    "# import PyPDF2\n",
    "# fhandle = open(r'/kaggle/input/sample-pdf/D8communications.pdf', 'rb')\n",
    "# pdfReader = PyPDF2.PdfFileReader(fhandle)\n",
    "# pagehandle = pdfReader.getPage(4)\n",
    "# print(pagehandle.extractText())"
   ]
  },
  {
   "cell_type": "code",
   "execution_count": 24,
   "id": "59c52fa3",
   "metadata": {
    "execution": {
     "iopub.execute_input": "2022-05-04T16:59:41.553006Z",
     "iopub.status.busy": "2022-05-04T16:59:41.551956Z",
     "iopub.status.idle": "2022-05-04T16:59:41.554276Z",
     "shell.execute_reply": "2022-05-04T16:59:41.553759Z",
     "shell.execute_reply.started": "2022-04-09T12:25:37.701467Z"
    },
    "papermill": {
     "duration": 0.074896,
     "end_time": "2022-05-04T16:59:41.554427",
     "exception": false,
     "start_time": "2022-05-04T16:59:41.479531",
     "status": "completed"
    },
    "tags": []
   },
   "outputs": [],
   "source": [
    "# !pip install pdfplumber\n",
    "# import pdfplumber\n",
    "# with pdfplumber.open(r'/kaggle/input/sample-pdf/D8communications.pdf') as pdf:\n",
    "#     first_page = pdf.pages[3]\n",
    "#     print(first_page.extract_text())"
   ]
  },
  {
   "cell_type": "code",
   "execution_count": 25,
   "id": "65129635",
   "metadata": {
    "execution": {
     "iopub.execute_input": "2022-05-04T16:59:41.695599Z",
     "iopub.status.busy": "2022-05-04T16:59:41.694657Z",
     "iopub.status.idle": "2022-05-04T16:59:41.697670Z",
     "shell.execute_reply": "2022-05-04T16:59:41.697026Z",
     "shell.execute_reply.started": "2022-04-09T12:25:49.584635Z"
    },
    "papermill": {
     "duration": 0.074749,
     "end_time": "2022-05-04T16:59:41.697816",
     "exception": false,
     "start_time": "2022-05-04T16:59:41.623067",
     "status": "completed"
    },
    "tags": []
   },
   "outputs": [],
   "source": [
    "# !pip install pytesseract"
   ]
  },
  {
   "cell_type": "code",
   "execution_count": 26,
   "id": "082db1fe",
   "metadata": {
    "execution": {
     "iopub.execute_input": "2022-05-04T16:59:41.839699Z",
     "iopub.status.busy": "2022-05-04T16:59:41.838797Z",
     "iopub.status.idle": "2022-05-04T16:59:41.841688Z",
     "shell.execute_reply": "2022-05-04T16:59:41.841003Z",
     "shell.execute_reply.started": "2022-04-09T14:49:10.656812Z"
    },
    "papermill": {
     "duration": 0.074876,
     "end_time": "2022-05-04T16:59:41.841836",
     "exception": false,
     "start_time": "2022-05-04T16:59:41.766960",
     "status": "completed"
    },
    "tags": []
   },
   "outputs": [],
   "source": [
    "# #!pip install pdf2image\n",
    "# !pip install poppler"
   ]
  },
  {
   "cell_type": "code",
   "execution_count": 27,
   "id": "43192fbd",
   "metadata": {
    "execution": {
     "iopub.execute_input": "2022-05-04T16:59:41.985070Z",
     "iopub.status.busy": "2022-05-04T16:59:41.984196Z",
     "iopub.status.idle": "2022-05-04T16:59:41.987342Z",
     "shell.execute_reply": "2022-05-04T16:59:41.986768Z",
     "shell.execute_reply.started": "2022-04-09T14:57:24.756677Z"
    },
    "papermill": {
     "duration": 0.076176,
     "end_time": "2022-05-04T16:59:41.987491",
     "exception": false,
     "start_time": "2022-05-04T16:59:41.911315",
     "status": "completed"
    },
    "tags": []
   },
   "outputs": [],
   "source": [
    "# pdf2image.convert_from_path('/kaggle/input/sample-pdf/D8communications.pdf')"
   ]
  },
  {
   "cell_type": "code",
   "execution_count": 28,
   "id": "92c5a001",
   "metadata": {
    "execution": {
     "iopub.execute_input": "2022-05-04T16:59:42.131884Z",
     "iopub.status.busy": "2022-05-04T16:59:42.131165Z",
     "iopub.status.idle": "2022-05-04T16:59:42.133703Z",
     "shell.execute_reply": "2022-05-04T16:59:42.133059Z",
     "shell.execute_reply.started": "2022-04-09T14:57:17.576149Z"
    },
    "papermill": {
     "duration": 0.076664,
     "end_time": "2022-05-04T16:59:42.133856",
     "exception": false,
     "start_time": "2022-05-04T16:59:42.057192",
     "status": "completed"
    },
    "tags": []
   },
   "outputs": [],
   "source": [
    "# import pdf2image\n",
    "# try:\n",
    "#     from PIL import Image\n",
    "# except ImportError:\n",
    "#     import Image\n",
    "# import pytesseract\n",
    "\n",
    "\n",
    "# def pdf_to_img(pdf_file):\n",
    "#     return pdf2image.convert_from_path(pdf_file)\n",
    "\n",
    "\n",
    "# def ocr_core(file):\n",
    "#     text = pytesseract.image_to_string(file)\n",
    "#     return text\n",
    "\n",
    "\n",
    "# def print_pages(pdf_file):\n",
    "#     images = pdf_to_img(pdf_file)\n",
    "#     for pg, img in enumerate(images):\n",
    "#         print(ocr_core(img))\n",
    "\n",
    "\n",
    "# print_pages('/kaggle/input/sample-pdf/D8communications.pdf')\n"
   ]
  },
  {
   "cell_type": "code",
   "execution_count": 29,
   "id": "05553811",
   "metadata": {
    "execution": {
     "iopub.execute_input": "2022-05-04T16:59:42.276992Z",
     "iopub.status.busy": "2022-05-04T16:59:42.276093Z",
     "iopub.status.idle": "2022-05-04T16:59:42.279248Z",
     "shell.execute_reply": "2022-05-04T16:59:42.278537Z"
    },
    "papermill": {
     "duration": 0.075689,
     "end_time": "2022-05-04T16:59:42.279399",
     "exception": false,
     "start_time": "2022-05-04T16:59:42.203710",
     "status": "completed"
    },
    "tags": []
   },
   "outputs": [],
   "source": [
    "# import requests\n",
    "# import fitz\n",
    "# import io\n",
    "\n",
    "# #URL = 'https://buildmedia.readthedocs.org/media/pdf/pdfminer-docs/latest/pdfminer-docs.pdf'\n",
    "# URL = 'https://redactable-devox-stage.s3.us-east-2.amazonaws.com/tenants/41d9e109-693b-444c-aa18-e5891bc6550b/original/1a7c0e5d-3237-4ca9-9e3d-89e707245ac6/D8communications.pdf'\n",
    "\n",
    "\n",
    "# res = requests.get(URL)\n",
    "# filestream = io.BytesIO(res.content)\n",
    "# #res.content\n",
    "# filestream\n",
    "# doc = fitz.Document(stream=filestream)\n",
    "# page1 = doc.loadPage(3)\n",
    "# page1text = page1.getText(\"text\").encode(\"utf-8\").decode(\"utf-8\")\n",
    "# print(page1text)"
   ]
  },
  {
   "cell_type": "code",
   "execution_count": 30,
   "id": "10518926",
   "metadata": {
    "execution": {
     "iopub.execute_input": "2022-05-04T16:59:42.424459Z",
     "iopub.status.busy": "2022-05-04T16:59:42.423378Z",
     "iopub.status.idle": "2022-05-04T16:59:42.426311Z",
     "shell.execute_reply": "2022-05-04T16:59:42.425710Z",
     "shell.execute_reply.started": "2022-04-09T07:04:56.590103Z"
    },
    "papermill": {
     "duration": 0.077234,
     "end_time": "2022-05-04T16:59:42.426472",
     "exception": false,
     "start_time": "2022-05-04T16:59:42.349238",
     "status": "completed"
    },
    "tags": []
   },
   "outputs": [],
   "source": [
    "# import requests\n",
    "# import fitz\n",
    "\n",
    "# #URL = 'https://buildmedia.readthedocs.org/media/pdf/pdfminer-docs/latest/pdfminer-docs.pdf'\n",
    "# URL = 'https://redactable-devox-stage.s3.us-east-2.amazonaws.com/tenants/41d9e109-693b-444c-aa18-e5891bc6550b/original/1a7c0e5d-3237-4ca9-9e3d-89e707245ac6/D8communications.pdf'\n",
    "\n",
    "\n",
    "# res = requests.get(URL)\n",
    "# doc = fitz.open(stream=res.content,filetype=\"pdf\")\n",
    "# page1 = doc.loadPage(3)\n",
    "# page1text = page1.getText(\"text\")\n",
    "# #rect = (72.1149,661.2966,131.95729,675.1716)\n",
    "# rect=(72.10812377929688, 116.13427734375, 133.97142028808594, 146.4227294921875)\n",
    "# labelled_text = page1.get_textbox(rect)\n",
    "# print(labelled_text.strip())\n",
    "\n",
    "# fulltext = page1.get_text()\n",
    "# print(fulltext)\n",
    "# doc = nlp(fulltext)\n",
    "# sentences = []\n",
    "# for sent in doc.sents:\n",
    "#     if labelled_text in sent.text:\n",
    "#         text = sent.text\n",
    "#         print(text)\n",
    "# #print(page1text)"
   ]
  },
  {
   "cell_type": "code",
   "execution_count": 31,
   "id": "b0a8a8c7",
   "metadata": {
    "execution": {
     "iopub.execute_input": "2022-05-04T16:59:42.570706Z",
     "iopub.status.busy": "2022-05-04T16:59:42.569998Z",
     "iopub.status.idle": "2022-05-04T16:59:42.572980Z",
     "shell.execute_reply": "2022-05-04T16:59:42.573444Z",
     "shell.execute_reply.started": "2022-04-08T16:42:57.6659Z"
    },
    "papermill": {
     "duration": 0.078527,
     "end_time": "2022-05-04T16:59:42.573646",
     "exception": false,
     "start_time": "2022-05-04T16:59:42.495119",
     "status": "completed"
    },
    "tags": []
   },
   "outputs": [],
   "source": [
    "#res.content"
   ]
  },
  {
   "cell_type": "code",
   "execution_count": 32,
   "id": "b40d120b",
   "metadata": {
    "execution": {
     "iopub.execute_input": "2022-05-04T16:59:42.720888Z",
     "iopub.status.busy": "2022-05-04T16:59:42.720175Z",
     "iopub.status.idle": "2022-05-04T16:59:42.723425Z",
     "shell.execute_reply": "2022-05-04T16:59:42.722785Z",
     "shell.execute_reply.started": "2022-04-08T16:48:05.672392Z"
    },
    "papermill": {
     "duration": 0.078847,
     "end_time": "2022-05-04T16:59:42.723585",
     "exception": false,
     "start_time": "2022-05-04T16:59:42.644738",
     "status": "completed"
    },
    "tags": []
   },
   "outputs": [],
   "source": [
    "# import fitz\n",
    "# # mem_area=\n",
    "# # doc = fitz.open(stream=mem_area, filetype=\"pdf\")\n",
    "\n",
    "# import requests\n",
    "\n",
    "# URL = 'https://redactable-devox-stage.s3.us-east-2.amazonaws.com/tenants/41d9e109-693b-444c-aa18-e5891bc6550b/original/1a7c0e5d-3237-4ca9-9e3d-89e707245ac6/D8communications.pdf'\n",
    "\n",
    "# #res = requests.get(URL)\n",
    "# doc=fitz.open(\"/kaggle/input/sample-pdf/D8communications.pdf\")\n",
    "# #doc = fitz.open(stream=res.content,filetype=\"pdf\")\n",
    "# page1 = doc.loadPage(4)\n",
    "# # page1text = page1.getText(\"text\")\n",
    "# # print(page1text)\n",
    "# blocks = page1.getText(\"blocks\")\n",
    "# blocks.sort(key=lambda block: block[1])  # sort vertically ascending\n",
    "\n",
    "# for b in blocks:\n",
    "#     print(b[4])\n"
   ]
  },
  {
   "cell_type": "code",
   "execution_count": 33,
   "id": "71bbab91",
   "metadata": {
    "execution": {
     "iopub.execute_input": "2022-05-04T16:59:42.868149Z",
     "iopub.status.busy": "2022-05-04T16:59:42.867453Z",
     "iopub.status.idle": "2022-05-04T16:59:42.869840Z",
     "shell.execute_reply": "2022-05-04T16:59:42.869326Z",
     "shell.execute_reply.started": "2022-04-08T16:48:13.086323Z"
    },
    "papermill": {
     "duration": 0.076956,
     "end_time": "2022-05-04T16:59:42.870002",
     "exception": false,
     "start_time": "2022-05-04T16:59:42.793046",
     "status": "completed"
    },
    "tags": []
   },
   "outputs": [],
   "source": [
    "# # page = doc[1]\n",
    "# words = page.get_text(\"words\")\n",
    "# #print(words)\n",
    "# rect = (72.1149,661.2966,131.95729,675.1716)\n",
    "\n",
    "# labelled_text = page.get_textbox(rect)\n",
    "# # labelled_text"
   ]
  },
  {
   "cell_type": "markdown",
   "id": "0788f7cd",
   "metadata": {
    "papermill": {
     "duration": 0.069018,
     "end_time": "2022-05-04T16:59:43.008249",
     "exception": false,
     "start_time": "2022-05-04T16:59:42.939231",
     "status": "completed"
    },
    "tags": []
   },
   "source": [
    "pip install PyPDF2"
   ]
  },
  {
   "cell_type": "code",
   "execution_count": null,
   "id": "085d8acf",
   "metadata": {
    "papermill": {
     "duration": 0.071169,
     "end_time": "2022-05-04T16:59:43.151218",
     "exception": false,
     "start_time": "2022-05-04T16:59:43.080049",
     "status": "completed"
    },
    "tags": []
   },
   "outputs": [],
   "source": []
  },
  {
   "cell_type": "code",
   "execution_count": 34,
   "id": "5f73e6c7",
   "metadata": {
    "execution": {
     "iopub.execute_input": "2022-05-04T16:59:43.304995Z",
     "iopub.status.busy": "2022-05-04T16:59:43.303252Z",
     "iopub.status.idle": "2022-05-04T16:59:43.307323Z",
     "shell.execute_reply": "2022-05-04T16:59:43.307884Z",
     "shell.execute_reply.started": "2022-03-18T16:48:58.370268Z"
    },
    "papermill": {
     "duration": 0.082053,
     "end_time": "2022-05-04T16:59:43.308069",
     "exception": false,
     "start_time": "2022-05-04T16:59:43.226016",
     "status": "completed"
    },
    "tags": []
   },
   "outputs": [],
   "source": [
    "# import pandas as pd\n",
    "# h={'step': 0, 'type': 'string', 'amount': 0.0, 'nameOrig': 'C1231006815', 'oldbalanceOrig': 0.0, 'newbalanceOrig': 0.0, 'nameDest': 'M1979787155', 'oldbalanceDest': 0.0, 'newbalanceDest': 0.0}\n",
    "# df=pd.DataFrame([h])"
   ]
  },
  {
   "cell_type": "code",
   "execution_count": 35,
   "id": "0b13c018",
   "metadata": {
    "execution": {
     "iopub.execute_input": "2022-05-04T16:59:43.450207Z",
     "iopub.status.busy": "2022-05-04T16:59:43.449474Z",
     "iopub.status.idle": "2022-05-04T16:59:43.452258Z",
     "shell.execute_reply": "2022-05-04T16:59:43.452801Z",
     "shell.execute_reply.started": "2022-04-09T17:21:26.021615Z"
    },
    "papermill": {
     "duration": 0.074956,
     "end_time": "2022-05-04T16:59:43.452991",
     "exception": false,
     "start_time": "2022-05-04T16:59:43.378035",
     "status": "completed"
    },
    "tags": []
   },
   "outputs": [],
   "source": [
    "#df"
   ]
  },
  {
   "cell_type": "code",
   "execution_count": null,
   "id": "a416737e",
   "metadata": {
    "papermill": {
     "duration": 0.067457,
     "end_time": "2022-05-04T16:59:43.590163",
     "exception": false,
     "start_time": "2022-05-04T16:59:43.522706",
     "status": "completed"
    },
    "tags": []
   },
   "outputs": [],
   "source": []
  }
 ],
 "metadata": {
  "kernelspec": {
   "display_name": "Python 3",
   "language": "python",
   "name": "python3"
  },
  "language_info": {
   "codemirror_mode": {
    "name": "ipython",
    "version": 3
   },
   "file_extension": ".py",
   "mimetype": "text/x-python",
   "name": "python",
   "nbconvert_exporter": "python",
   "pygments_lexer": "ipython3",
   "version": "3.7.12"
  },
  "papermill": {
   "default_parameters": {},
   "duration": 24.043913,
   "end_time": "2022-05-04T16:59:44.268187",
   "environment_variables": {},
   "exception": null,
   "input_path": "__notebook__.ipynb",
   "output_path": "__notebook__.ipynb",
   "parameters": {},
   "start_time": "2022-05-04T16:59:20.224274",
   "version": "2.3.3"
  }
 },
 "nbformat": 4,
 "nbformat_minor": 5
}
