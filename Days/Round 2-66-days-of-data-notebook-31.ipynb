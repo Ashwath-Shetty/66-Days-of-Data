{
 "cells": [
  {
   "cell_type": "code",
   "execution_count": 1,
   "id": "feb59922",
   "metadata": {
    "_cell_guid": "b1076dfc-b9ad-4769-8c92-a6c4dae69d19",
    "_uuid": "8f2839f25d086af736a60e9eeb907d3b93b6e0e5",
    "execution": {
     "iopub.execute_input": "2022-04-11T16:46:49.051742Z",
     "iopub.status.busy": "2022-04-11T16:46:49.050566Z",
     "iopub.status.idle": "2022-04-11T16:46:49.070798Z",
     "shell.execute_reply": "2022-04-11T16:46:49.071425Z",
     "shell.execute_reply.started": "2022-04-11T14:49:16.673952Z"
    },
    "papermill": {
     "duration": 0.074574,
     "end_time": "2022-04-11T16:46:49.071716",
     "exception": false,
     "start_time": "2022-04-11T16:46:48.997142",
     "status": "completed"
    },
    "tags": []
   },
   "outputs": [
    {
     "name": "stdout",
     "output_type": "stream",
     "text": [
      "/kaggle/input/sample-pdf/D8communications.pdf\n"
     ]
    }
   ],
   "source": [
    "# This Python 3 environment comes with many helpful analytics libraries installed\n",
    "# It is defined by the kaggle/python Docker image: https://github.com/kaggle/docker-python\n",
    "# For example, here's several helpful packages to load\n",
    "\n",
    "import numpy as np # linear algebra\n",
    "import pandas as pd # data processing, CSV file I/O (e.g. pd.read_csv)\n",
    "\n",
    "# Input data files are available in the read-only \"../input/\" directory\n",
    "# For example, running this (by clicking run or pressing Shift+Enter) will list all files under the input directory\n",
    "\n",
    "import os\n",
    "for dirname, _, filenames in os.walk('/kaggle/input'):\n",
    "    for filename in filenames:\n",
    "        print(os.path.join(dirname, filename))\n",
    "\n",
    "# You can write up to 20GB to the current directory (/kaggle/working/) that gets preserved as output when you create a version using \"Save & Run All\" \n",
    "# You can also write temporary files to /kaggle/temp/, but they won't be saved outside of the current session"
   ]
  },
  {
   "cell_type": "markdown",
   "id": "88652ac7",
   "metadata": {
    "papermill": {
     "duration": 0.050956,
     "end_time": "2022-04-11T16:46:49.177834",
     "exception": false,
     "start_time": "2022-04-11T16:46:49.126878",
     "status": "completed"
    },
    "tags": []
   },
   "source": [
    "# **Start Date: 12/3/2022**"
   ]
  },
  {
   "cell_type": "markdown",
   "id": "5f692020",
   "metadata": {
    "papermill": {
     "duration": 0.049292,
     "end_time": "2022-04-11T16:46:49.277891",
     "exception": false,
     "start_time": "2022-04-11T16:46:49.228599",
     "status": "completed"
    },
    "tags": []
   },
   "source": [
    "# **Day 1:** \n",
    "<br>dataquest -> stats -> probability-> estimating probability\n",
    "1. out come is nothing but o/p of an experiment\n",
    "ex: whatever u get after rolling a dice -> it can be any number\n",
    "2. event can have more than one outcome\n",
    "- e.x: The event that we'll get an odd number when we roll a six-sided die — this event includes the outcomes 1, 3, and 5.\n",
    "- an event can be 0 as well.\n",
    "- We always assign probabilities to events, not outcomes, even if the event includes only one outcome.\n",
    "- P(E) =1/total number of possible outcomes, P(E) probability of an event happening.\n",
    "- but above formula doesn't work always, especially when there are more than one outcome\n",
    "    - P(E)=number of successful outcomes/total number of possible outcomes\n",
    "- incase of a biased situation \n",
    "  - let's say a die has 6 - 3 times which is 1,6,3,5,6,6\n",
    "    we will consider 6 as 3 times not 1.\n",
    "    possible outcome-> 1,3,5,6,6,6\n",
    "    prob(6)=3/6\n",
    "    prob(3)=1/6\n",
    "    prob(2)=0/6\n",
    "    If we didn't treat each 6 differently and said it doesn't matter which side a 6 is on, \n",
    "    <br>we'd be forced to conclude the only possible outcomes are 1, 3, 5 and 6. We can definitely         <br>frame the problem like that, but the formula above won't work anymore — we see below P(6) <br>becomes the same as P(3), but, intuitively, P(6) should be higher than P(3) since the die has 6 on     <br>three of its sides:\n"
   ]
  },
  {
   "cell_type": "markdown",
   "id": "3803cb07",
   "metadata": {
    "papermill": {
     "duration": 0.048014,
     "end_time": "2022-04-11T16:46:49.375898",
     "exception": false,
     "start_time": "2022-04-11T16:46:49.327884",
     "status": "completed"
    },
    "tags": []
   },
   "source": [
    "Estimating Probabilities Conclusion\n",
    "- emperical/ experimental probability\n",
    "  - probability achieved by experimenting / by doing the same event multiple times.\n",
    "  - Generally, for any event E (like a coin landing heads up), we can find its empirical probability   \n",
    "     by using the following formula: \n",
    "     •P (E) =number of times event E happened/ number of times we repeated the experiment   \n",
    " - Generally, the empirical probability of an event (a coin landing heads up, getting a 5 when weroll a die) approaches the true probability value as the number of trials of the randomexperiment (a coin toss, the rolling of a die) increases without bound.\n",
    "- When we calculate the probability of an event under the assumption that the outcomes have equal chances of occurring, we say that we're calculating the **theoretical probability** of an event.\n",
    "   - P(E)=number of successful outcomes/total number of possible outcomes\n",
    "\n"
   ]
  },
  {
   "cell_type": "markdown",
   "id": "e614992f",
   "metadata": {
    "papermill": {
     "duration": 0.049599,
     "end_time": "2022-04-11T16:46:49.474304",
     "exception": false,
     "start_time": "2022-04-11T16:46:49.424705",
     "status": "completed"
    },
    "tags": []
   },
   "source": [
    "# **Day 2**\n",
    "<br>dataquest-> stats -> intro to probability -> probability rules\n",
    "<br>In probability theory, the set of all possible outcomes is called a sample space. A sample space is often denoted by the capital Greek letter Ω (read \"omega\"). This is how we represent the sample space of a die roll:\n",
    "\n",
    "Ω = {1,2,3,4,5,6}\n",
    "-    The probability of any event ranges between 0 and 1: 0≤ P(Event) ≤1\n",
    "- To calculate P(A or B), we can also use the formula below, which is sometimes called the addition rule: P(A or B) = P(A) + P(B)\n",
    "  - Sample space ={ 1,2,3,4,5,6} \n",
    "  - P(2 or 5) = 2/6\n",
    "\n",
    "- P(C or D) = P(C) + P(D) - P(C and D)\n",
    "   - e.x : Sample_space ={2,4,6} + { 4,5,6} - {4/6}\n",
    "      P( even number or number greater than 3) = ( (3/6) + (3/6) )- (2/6) = 4/6\n",
    "- Events that don't intersect are called mutually exclusive.\n",
    "  - e.x: Getting a 5 (event one) and getting a 3 (event two) when we roll a regular six-sided die — it's  impossible to get both a 5 and 3.\n",
    "- Events that intersect are called mutually non-exclusive.\n",
    "  - Getting a number greater than 2 (event one) and getting an odd number (event two) when we roll a regular six-sided die — we could get a 5, which is both greater than 2 (event one) and odd (event two).\n",
    "- unioun -> A or B, intersection -> A and B"
   ]
  },
  {
   "cell_type": "markdown",
   "id": "15f1e815",
   "metadata": {
    "papermill": {
     "duration": 0.050488,
     "end_time": "2022-04-11T16:46:49.575524",
     "exception": false,
     "start_time": "2022-04-11T16:46:49.525036",
     "status": "completed"
    },
    "tags": []
   },
   "source": [
    "# Day 3 and 4\n",
    "dataquest -> stats -> probabilities -> solving complex probabilities\n",
    "- This is the same result we got from our previous approach. In more general terms, the multiplication rule says that for two events E1 and E2, the probability that both event E1 and E2 happen can be found by multiplying the probability of E1 by the probability of E2:\n",
    "    - P(E1 ∩ E2) = P(E1) × P(E2)\n",
    "    - Events that don't influence each other's probability are called independent events. If H1 happens, P(H2) stays the same, so H1 and H2 are independent. The multiplication rule we learned only works for independent events.\n",
    "    "
   ]
  },
  {
   "cell_type": "markdown",
   "id": "1f705f00",
   "metadata": {
    "papermill": {
     "duration": 0.050453,
     "end_time": "2022-04-11T16:46:49.677031",
     "exception": false,
     "start_time": "2022-04-11T16:46:49.626578",
     "status": "completed"
    },
    "tags": []
   },
   "source": [
    "# Day 5\n",
    "- When we replace the cards after drawing, we say that we're sampling with replacement. When we don't put the cards back, we're sampling without replacement. \n"
   ]
  },
  {
   "cell_type": "markdown",
   "id": "141e93ea",
   "metadata": {
    "papermill": {
     "duration": 0.051026,
     "end_time": "2022-04-11T16:46:49.778236",
     "exception": false,
     "start_time": "2022-04-11T16:46:49.727210",
     "status": "completed"
    },
    "tags": []
   },
   "source": [
    "# Day6\n",
    "dataquest-> prob and stats -> probability fundamentals -> permutation and combinations\n",
    "Generally, if we have an experiment E1 (like flipping a coin) with a outcomes, followed by an experiment E2 (like rolling a die) with b outcomes, then the total number of outcomes for the composite experiment E1E2 can be found by multiplying a with b:\n",
    "\n",
    "Number of outcomes = a * b"
   ]
  },
  {
   "cell_type": "markdown",
   "id": "0063ca95",
   "metadata": {
    "papermill": {
     "duration": 0.051615,
     "end_time": "2022-04-11T16:46:49.879137",
     "exception": false,
     "start_time": "2022-04-11T16:46:49.827522",
     "status": "completed"
    },
    "tags": []
   },
   "source": [
    "# Day 7\n",
    "dataquest-> prob and stats -> probability fundamentals -> permutation and combinations <br>\n",
    "More generally, if we have an experiment E1 with a outcomes, followed by an experiment E2 with b outcomes, followed by an experiment En with z outcomes, the total number of outcomes for the composite experiment E1E2 ... En can be found by multiplying their individual outcomes:\n",
    "\n",
    "Number of outcomes= a * b * … * z"
   ]
  },
  {
   "cell_type": "markdown",
   "id": "0111f4aa",
   "metadata": {
    "papermill": {
     "duration": 0.050558,
     "end_time": "2022-04-11T16:46:49.980731",
     "exception": false,
     "start_time": "2022-04-11T16:46:49.930173",
     "status": "completed"
    },
    "tags": []
   },
   "source": [
    "# Day 8\n",
    "dataquest-> prob and stats -> probability fundamentals -> permutation and combinations <br>\n",
    "permutations= n*(n-1)*(n-2)*....*2*1\n"
   ]
  },
  {
   "cell_type": "markdown",
   "id": "9dd55d58",
   "metadata": {
    "papermill": {
     "duration": 0.04831,
     "end_time": "2022-04-11T16:46:50.080509",
     "exception": false,
     "start_time": "2022-04-11T16:46:50.032199",
     "status": "completed"
    },
    "tags": []
   },
   "source": [
    "# Day 9\n",
    "dataquest-> prob and stats -> probability fundamentals -> permutation and combinations\n",
    "- in permutation order of the individual element in the arranement matters.\n",
    "   - for e.x: 9821 is different than 9281\n",
    "   - Permutations =n!  --> sample without replacement-> we are not putting back the sampled data.\n",
    "   - On the last screen, we learned to use the formula below to calculate permutations when we're sampling without replacement and taking only k objects from a group of n objects:\n",
    "   npk=n!/(n-k)!"
   ]
  },
  {
   "cell_type": "markdown",
   "id": "ed381fc0",
   "metadata": {
    "papermill": {
     "duration": 0.047192,
     "end_time": "2022-04-11T16:46:50.176894",
     "exception": false,
     "start_time": "2022-04-11T16:46:50.129702",
     "status": "completed"
    },
    "tags": []
   },
   "source": [
    "# Day 10\n",
    "dataquest-> prob and stats -> probability fundamentals -> permutation and combinations\n",
    "- More generally, if the order of the elements in an arrangement doesn't matter, the arrangement is called a combination.\n",
    "- e.x: cards in a deck \n",
    "- nCk = n! / ((n-k)!*k!)"
   ]
  },
  {
   "cell_type": "markdown",
   "id": "1796bee3",
   "metadata": {
    "papermill": {
     "duration": 0.048008,
     "end_time": "2022-04-11T16:46:50.272468",
     "exception": false,
     "start_time": "2022-04-11T16:46:50.224460",
     "status": "completed"
    },
    "tags": []
   },
   "source": [
    "# Day 11\n",
    "dataquest-> prob and stats -> probability fundamentals -> permutation and combinations\n",
    "- solved 1 probability problem.\n"
   ]
  },
  {
   "cell_type": "markdown",
   "id": "b532fff7",
   "metadata": {
    "papermill": {
     "duration": 0.049836,
     "end_time": "2022-04-11T16:46:50.372032",
     "exception": false,
     "start_time": "2022-04-11T16:46:50.322196",
     "status": "completed"
    },
    "tags": []
   },
   "source": [
    "# Day 12\n",
    "dataquest-> prob and stats -> probability fundamentals -> permutation and combinations\n",
    "- finished probability and permutations by revising them.\n",
    "- If we have an experiment E1 (like flipping a coin) with a outcomes, followed by an experiment E2(like rolling a die) with b outcomes, then the total number of outcomes for the compositeexperiment E1E2 can be found by multiplying a with b (this is known as the rule of product):\n",
    "  - number of outcomes = a*b\n",
    "- If we have an experiment E1 with a outcomes, followed by an experiment E2 with b outcomes,followed by an experiment En with z outcomes, the total number of outcomes for the compositeexperiment E1E2 ... En can be found by multiplying their individual outcomes:\n",
    "   - number of outcomes = a*b* ... *z\n",
    "- There are two kinds of arrangements:\n",
    "   - •Arrangements where the order matters, which we call permutations.\n",
    "   - •Arrangements where the order doesn't matter, which we call combination\n",
    "- To find the number of permutations when we're sampling without replacement, we can use theformula:\n",
    "  - permutation = n!\n",
    "- To find the number of permutations when we're sampling without replacement and taking only kobjects from a group of n objects, we can use the formula:\n",
    "  - nPk = n!/(n-k)!\n",
    "- To find the number of combinations when we're sampling without replacement and taking only kobjects from a group of n objects, we can use the formula\n",
    "  - nCk = n! / ((n-k)!*k!)"
   ]
  },
  {
   "cell_type": "markdown",
   "id": "9cba9aa0",
   "metadata": {
    "papermill": {
     "duration": 0.047474,
     "end_time": "2022-04-11T16:46:50.469594",
     "exception": false,
     "start_time": "2022-04-11T16:46:50.422120",
     "status": "completed"
    },
    "tags": []
   },
   "source": [
    "# Day 13\n",
    "dataquest-> prob and stats -> probability fundamentals -> conditional probabilities\n",
    "- first 2 slides -> mainly the recap of old chapter(above one).\n"
   ]
  },
  {
   "cell_type": "markdown",
   "id": "bcb76393",
   "metadata": {
    "papermill": {
     "duration": 0.04752,
     "end_time": "2022-04-11T16:46:50.564973",
     "exception": false,
     "start_time": "2022-04-11T16:46:50.517453",
     "status": "completed"
    },
    "tags": []
   },
   "source": [
    "# Day 14\n",
    "dataquest-> prob and stats -> probability fundamentals -> conditional probabilities\n",
    "<br>slide 4 completed\n",
    "<br>conditional probabilities\n",
    "- probabilities with condition\n",
    "- P(5)=What is the probability of getting a 5? -> normal probability\n",
    "- P(5 | odd) =What is the probability of getting a 5 given the die showed an odd number? -> conditional prob.\n",
    "\n"
   ]
  },
  {
   "cell_type": "markdown",
   "id": "3f000b54",
   "metadata": {
    "papermill": {
     "duration": 0.047573,
     "end_time": "2022-04-11T16:46:50.660544",
     "exception": false,
     "start_time": "2022-04-11T16:46:50.612971",
     "status": "completed"
    },
    "tags": []
   },
   "source": [
    "# Day 15\n",
    "dataquest-> prob and stats -> probability fundamentals -> conditional probabilities\n",
    "- on slide 5 not done yet.\n",
    "\n",
    "Say we roll a fair six-sided die and want to find the probability of getting an odd number, given the die showed a number greater than 1 after landing. Using probability notation, we want to find P(A|B) where:\n",
    "\n",
    "- A is the event that the number is odd: A = {1, 3, 5}\n",
    "- B is the event that the number is greater than 1: B = {2, 3, 4, 5, 6}\n",
    "- P(A/B)=number of succesfull outcomes / total number of outcomes.\n"
   ]
  },
  {
   "cell_type": "markdown",
   "id": "8ef6edb6",
   "metadata": {
    "papermill": {
     "duration": 0.049573,
     "end_time": "2022-04-11T16:46:50.758631",
     "exception": false,
     "start_time": "2022-04-11T16:46:50.709058",
     "status": "completed"
    },
    "tags": []
   },
   "source": [
    "# Day 16 and 17\n",
    "dataquest-> prob and stats -> probability fundamentals -> conditional probabilities\n",
    "\n",
    "on slide 6 not done yet."
   ]
  },
  {
   "cell_type": "markdown",
   "id": "29a2f514",
   "metadata": {
    "papermill": {
     "duration": 0.050537,
     "end_time": "2022-04-11T16:46:50.859016",
     "exception": false,
     "start_time": "2022-04-11T16:46:50.808479",
     "status": "completed"
    },
    "tags": []
   },
   "source": [
    "# Day 18\n",
    "dataquest-> prob and stats -> probability fundamentals -> conditional probabilities\n",
    "<br>slide 5 code half done"
   ]
  },
  {
   "cell_type": "markdown",
   "id": "338c1f7f",
   "metadata": {
    "papermill": {
     "duration": 0.049528,
     "end_time": "2022-04-11T16:46:50.958980",
     "exception": false,
     "start_time": "2022-04-11T16:46:50.909452",
     "status": "completed"
    },
    "tags": []
   },
   "source": [
    "# Day 19\n",
    "- The number of elements in a set is called the cardinal of the set. \n",
    "  Ω is a set, and the cardinal of \n",
    "   Ω = { 2,3,4,5,6}\n",
    "   cardinal(Ω)=5\n",
    "- P(A | B) = card(A ∩ B) / card(B)\n",
    "- Say we roll a fair six-sided die and want to find the probability of getting an odd number, given the die showed a number greater than 1 after landing. Using probability notation, we want to find P(A|B) where:\n",
    "    - A is the event that the number is odd: A = {1, 3, 5}\n",
    "     - B is the event that the number is greater than 1: B = {2, 3, 4, 5, 6}\n",
    "     - total number of possible outcomes = card({2,3,4,5,6}) =5\n",
    "     - number of successful outcomes = card({3,5})= 2\n",
    "- P(A | B) = card(A ∩ B) / card(B), we can also get the same result using P(A | B) = prob(A ∩ B) / prob(B)\n",
    "\n",
    "     "
   ]
  },
  {
   "cell_type": "markdown",
   "id": "3229cd30",
   "metadata": {
    "papermill": {
     "duration": 0.050314,
     "end_time": "2022-04-11T16:46:51.059496",
     "exception": false,
     "start_time": "2022-04-11T16:46:51.009182",
     "status": "completed"
    },
    "tags": []
   },
   "source": [
    "# Day 20\n",
    "dataquest-> prob and stats -> probability fundamentals -> conditional probabilities intermediate\n",
    "<br> slide 1 and 2\n",
    "- P( A | B ) ≠ P(A ∩ B), but rather:\n",
    "   - P(A | B) = P(A ∩ B) / P(B)\n",
    "   - P(A ∩ B) = P(A | B) ⋅ P(B)\n",
    "- Given that a customer bought a laptop, they will or will not also buy a mouse. This means we can be certain that either event (M|L) or (M^C|L) will happen:\n",
    "     - P(M | L) + P(M^C | L) = 1\n",
    "\n"
   ]
  },
  {
   "cell_type": "markdown",
   "id": "ed01852a",
   "metadata": {
    "papermill": {
     "duration": 0.049389,
     "end_time": "2022-04-11T16:46:51.160012",
     "exception": false,
     "start_time": "2022-04-11T16:46:51.110623",
     "status": "completed"
    },
    "tags": []
   },
   "source": [
    "# Day 21\n",
    "dataquest-> prob and stats -> probability fundamentals -> conditional probabilities intermediate\n",
    "slide 1 and 2\n",
    "- P(A ∩ B) = P(B ∩ A)\n",
    "- multiplication rule of probability\n",
    "  -  P(A ∩ B) = P(B) ⋅ P(A | B) \n",
    "  - P(A ∩ B) = P(A) ⋅ P(B | A)\n",
    "- if P(A) and P(B) are statistically independent then \n",
    "  - P(A ∩ B) = P(A) ⋅ P(B)\n",
    "\n"
   ]
  },
  {
   "cell_type": "markdown",
   "id": "3400f7e8",
   "metadata": {
    "papermill": {
     "duration": 0.048086,
     "end_time": "2022-04-11T16:46:51.257801",
     "exception": false,
     "start_time": "2022-04-11T16:46:51.209715",
     "status": "completed"
    },
    "tags": []
   },
   "source": [
    "# Day 22\n",
    "dataquest-> prob and stats -> probability fundamentals -> conditional probabilities intermediate \n",
    "<br>slide 6\n",
    "- If events events A and B are dependent, it means the occurrence of event A changes the probability of event B and vice versa.\n",
    "   - P(A) ≠ P(A | B)\n",
    "   - P(B) ≠ P(B | A)\n",
    "   - P(A ∩ B) ≠ P(A) ⋅ P(B)\n",
    "   - formula will become P(A ∩ B) ≠ P(A) ⋅ P(B/A)\n",
    "   "
   ]
  },
  {
   "cell_type": "markdown",
   "id": "f4a39a0e",
   "metadata": {
    "papermill": {
     "duration": 0.047747,
     "end_time": "2022-04-11T16:46:51.352821",
     "exception": false,
     "start_time": "2022-04-11T16:46:51.305074",
     "status": "completed"
    },
    "tags": []
   },
   "source": [
    "# Day 23\n",
    "dataquest-> prob and stats -> probability fundamentals -> conditional probabilities intermediate\n",
    "<br>slide 7 to last\n",
    "- To find whether three events — A, B, C — are independent or not, below conditions must hold true -\n",
    "  - P(A ∩ B) ≠ P(A) ⋅ P(B)\n",
    "  - P(A ∩ C) ≠ P(A) ⋅ P(C)\n",
    "  - P(B ∩ C) ≠ P(B) ⋅ P(C)\n",
    "  - P(A ∩ B ∩ C) ≠ P(A) ⋅ P(B) . P(C)\n",
    "- multiplication rule for conditional probability or dependent events\n",
    " - P(A ∩ B ∩ C) = P(A) ⋅ P(B | A) ⋅ P(C | A ∩ B)\n",
    " \n",
    "\n"
   ]
  },
  {
   "cell_type": "markdown",
   "id": "7231ede0",
   "metadata": {
    "papermill": {
     "duration": 0.047791,
     "end_time": "2022-04-11T16:46:51.448516",
     "exception": false,
     "start_time": "2022-04-11T16:46:51.400725",
     "status": "completed"
    },
    "tags": []
   },
   "source": [
    "# Day 24\n",
    "dataquest-> prob and stats -> probability fundamentals -> bayes theorem\n",
    "<br>slide 1\n",
    "- independent -> one event is dependent on other\n",
    "   - P(A ∩ B) = P(A) ⋅ P(B/A)\n",
    "- independent -> one event is not dependent on other.\n",
    "   - P(A ∩ B) = P(A) ⋅ P(B)\n",
    "- mutually exclusive -> both the events cannot happen at the same time.\n",
    "   - P(A ∩ B) = 0\n",
    "\n"
   ]
  },
  {
   "cell_type": "markdown",
   "id": "4c6e8f35",
   "metadata": {
    "papermill": {
     "duration": 0.048571,
     "end_time": "2022-04-11T16:46:51.546529",
     "exception": false,
     "start_time": "2022-04-11T16:46:51.497958",
     "status": "completed"
    },
    "tags": []
   },
   "source": [
    "# Day 25\n",
    "dataquest-> prob and stats -> probability fundamentals -> bayes theorem\n",
    "<br>slide 2\n",
    "- If two events are exhaustive, it means they make up the whole sample space Ω\n",
    "  -  P(A) = P(A ∩ B) + P(A ∩ B^c)\n",
    "     P(A) = (P(B) * P(A/B)) +  (P(B^c) * P(A/B^c))\n",
    "     \n",
    "     "
   ]
  },
  {
   "cell_type": "markdown",
   "id": "15143616",
   "metadata": {
    "papermill": {
     "duration": 0.049435,
     "end_time": "2022-04-11T16:46:51.645419",
     "exception": false,
     "start_time": "2022-04-11T16:46:51.595984",
     "status": "completed"
    },
    "tags": []
   },
   "source": [
    "# Day 26\n",
    "dataquest-> prob and stats -> probability fundamentals -> bayes theorem\n",
    "<br>slide 3 - last\n",
    "- the law of total probability\n",
    "  - P(A)  = (P(B1) * P(A/B1)) + (P(B2) * P(A/B2))+ ... + (P(Bn) * P(A/Bn)))\n",
    "  - P(A) =(summattion i=1 to n) P(Bi) ⋅ P(A|Bi)\n",
    "- Baye's theorem\n",
    "  - P(B | A) = (P(B) ⋅ P(A | B)) / (n ∑i=1 P(Bi) ⋅ P(A | Bi))\n",
    "- The probability of being infected with HIV before doing any test is called the prior probability (\"prior\" means \"before\"). The probability of being infected with HIV after testing positive is called the posterior probability (\"posterior\" means \"after\").\n",
    "\n",
    "\n",
    "  "
   ]
  },
  {
   "cell_type": "markdown",
   "id": "f105a123",
   "metadata": {
    "papermill": {
     "duration": 0.049973,
     "end_time": "2022-04-11T16:46:51.745574",
     "exception": false,
     "start_time": "2022-04-11T16:46:51.695601",
     "status": "completed"
    },
    "tags": []
   },
   "source": [
    "# Day 27\n",
    "dataquest-> prob and stats -> probability fundamentals -> naive bayes theorem\n",
    "<br>slide 1 - \n",
    "P(Spam|w1,w2,w3,w4)∝P(Spam)⋅P(w1|Spam)⋅P(w2|Spam)⋅P(w3|Spam)⋅P(w4|Spam)P(SpamC|w1,w2,w3,w4)∝P(SpamC)⋅P(w1|SpamC)⋅P(w2|SpamC)⋅P(w3|SpamC)⋅P(w4|SpamC)"
   ]
  },
  {
   "cell_type": "markdown",
   "id": "7034aa11",
   "metadata": {
    "papermill": {
     "duration": 0.050265,
     "end_time": "2022-04-11T16:46:51.852388",
     "exception": false,
     "start_time": "2022-04-11T16:46:51.802123",
     "status": "completed"
    },
    "tags": []
   },
   "source": [
    "# Day 28\n",
    "dataquest-> prob and stats -> probability fundamentals -> naive bayes theorem\n",
    "<br>finished.\n",
    "<br>**Summary**\n",
    "- P(Spam|w1,w2,...,wn)∝P(Spam)⋅n∏i=1P(wi|Spam)\n",
    "- P(SpamC|w1,w2,...,wn)∝P(SpamC)⋅n∏i=1P(wi|SpamC)\n",
    "- To calculate P(wi|Spam) and P(wi|SpamC), we need to use the additive smoothing technique: \n",
    "- P ( w i | S p a m ) = (N w i | S p a m + α) / ( N S p a m + α ⋅ N V o c a b u l a r y )\n",
    "- P ( w i | S p a m C ) = (N w i | S p a m C + α) / ( N S p a m C + α ⋅ N V o c a b u l a r y )\n",
    "     - N w i | S p a m = the number of times the word w i occurs in spam messages \n",
    "     - N w i | S p a m C = the number of times the word w i occurs in non-spam messages \n",
    "     - N S p a m = total number of words in spam messages \n",
    "     - N S p a m C = total number of words in non-spam messages \n",
    "     - N V o c a b u l a r y = total number of words in the vocabulary \n",
    "     - α = 1 ( α is a smoothing parameter )\n",
    " - naive bayes theorem assumes that events are not dependent.\n",
    " - The assumption of conditional independence between words is thus naive since it rarely holds in practice, and this is why the algorithm is called Naive Bayes (also called simple Bayes or independence Bayes)."
   ]
  },
  {
   "cell_type": "markdown",
   "id": "6ddf741a",
   "metadata": {
    "papermill": {
     "duration": 0.048945,
     "end_time": "2022-04-11T16:46:51.952690",
     "exception": false,
     "start_time": "2022-04-11T16:46:51.903745",
     "status": "completed"
    },
    "tags": []
   },
   "source": [
    "# Day 29,30,31\n",
    "<br>dataquest-> prob and stats -> probability fundamentals -> conditional probability-> guided projects\n",
    "<br> in progress"
   ]
  },
  {
   "cell_type": "code",
   "execution_count": 2,
   "id": "3a69860f",
   "metadata": {
    "execution": {
     "iopub.execute_input": "2022-04-11T16:46:52.059853Z",
     "iopub.status.busy": "2022-04-11T16:46:52.058774Z",
     "iopub.status.idle": "2022-04-11T16:46:52.061440Z",
     "shell.execute_reply": "2022-04-11T16:46:52.060777Z",
     "shell.execute_reply.started": "2022-04-11T16:35:02.395413Z"
    },
    "papermill": {
     "duration": 0.058048,
     "end_time": "2022-04-11T16:46:52.061580",
     "exception": false,
     "start_time": "2022-04-11T16:46:52.003532",
     "status": "completed"
    },
    "tags": []
   },
   "outputs": [],
   "source": [
    "# !pip install PyMuPDF"
   ]
  },
  {
   "cell_type": "code",
   "execution_count": 3,
   "id": "22e3cab3",
   "metadata": {
    "execution": {
     "iopub.execute_input": "2022-04-11T16:46:52.163104Z",
     "iopub.status.busy": "2022-04-11T16:46:52.162382Z",
     "iopub.status.idle": "2022-04-11T16:46:52.164618Z",
     "shell.execute_reply": "2022-04-11T16:46:52.163986Z",
     "shell.execute_reply.started": "2022-04-11T16:31:21.955565Z"
    },
    "papermill": {
     "duration": 0.055182,
     "end_time": "2022-04-11T16:46:52.164756",
     "exception": false,
     "start_time": "2022-04-11T16:46:52.109574",
     "status": "completed"
    },
    "tags": []
   },
   "outputs": [],
   "source": [
    "# !python -m spacy download en_core_web_sm"
   ]
  },
  {
   "cell_type": "code",
   "execution_count": 4,
   "id": "f344591b",
   "metadata": {
    "execution": {
     "iopub.execute_input": "2022-04-11T16:46:52.266413Z",
     "iopub.status.busy": "2022-04-11T16:46:52.265485Z",
     "iopub.status.idle": "2022-04-11T16:46:52.268785Z",
     "shell.execute_reply": "2022-04-11T16:46:52.269458Z",
     "shell.execute_reply.started": "2022-04-11T16:35:19.375056Z"
    },
    "papermill": {
     "duration": 0.056016,
     "end_time": "2022-04-11T16:46:52.269705",
     "exception": false,
     "start_time": "2022-04-11T16:46:52.213689",
     "status": "completed"
    },
    "tags": []
   },
   "outputs": [],
   "source": [
    "# import fitz\n",
    "# import spacy\n",
    "# import re\n",
    "# from pathlib import Path\n",
    "# import requests\n",
    "# import os"
   ]
  },
  {
   "cell_type": "code",
   "execution_count": 5,
   "id": "3a638dc8",
   "metadata": {
    "execution": {
     "iopub.execute_input": "2022-04-11T16:46:52.371755Z",
     "iopub.status.busy": "2022-04-11T16:46:52.371090Z",
     "iopub.status.idle": "2022-04-11T16:46:52.372880Z",
     "shell.execute_reply": "2022-04-11T16:46:52.373394Z",
     "shell.execute_reply.started": "2022-04-11T16:35:29.609712Z"
    },
    "papermill": {
     "duration": 0.054683,
     "end_time": "2022-04-11T16:46:52.373563",
     "exception": false,
     "start_time": "2022-04-11T16:46:52.318880",
     "status": "completed"
    },
    "tags": []
   },
   "outputs": [],
   "source": [
    "# nlp = spacy.load('en_core_web_sm')\n",
    "# outpath=r'/kaggle/input/sample-pdf/D8communications.pdf'\n",
    "# doc = fitz.open(outpath)  # any supported document type\n",
    "# page_no=3\n",
    "# page = doc[page_no-1]\n",
    "\n",
    "# x1,y1,x2,y2=(72.1149,661.2966,131.95729,675.1716)\n",
    "\n",
    "# rect = [float(x1)-2, 792 - float(y2)-2, float(x2)+2, 792 - float(y1)+2]\n",
    "# print(rect)\n",
    "# labelled_text = page.get_textbox(rect)\n",
    "# string = re.sub('[^0-9a-zA-Z@?|\\/<>.,()&^%$#!]+', ' ', labelled_text)\n",
    "# print('string : ', string)\n",
    "\n",
    "# fulltext = page.get_text()\n",
    "# doc = nlp(fulltext)\n",
    "\n",
    "\n",
    "\n"
   ]
  },
  {
   "cell_type": "code",
   "execution_count": 6,
   "id": "e7f5317d",
   "metadata": {
    "execution": {
     "iopub.execute_input": "2022-04-11T16:46:52.473749Z",
     "iopub.status.busy": "2022-04-11T16:46:52.472379Z",
     "iopub.status.idle": "2022-04-11T16:46:52.475543Z",
     "shell.execute_reply": "2022-04-11T16:46:52.476138Z",
     "shell.execute_reply.started": "2022-04-11T16:35:41.679947Z"
    },
    "papermill": {
     "duration": 0.053653,
     "end_time": "2022-04-11T16:46:52.476330",
     "exception": false,
     "start_time": "2022-04-11T16:46:52.422677",
     "status": "completed"
    },
    "tags": []
   },
   "outputs": [],
   "source": [
    "#doc"
   ]
  },
  {
   "cell_type": "code",
   "execution_count": 7,
   "id": "42d9bdf3",
   "metadata": {
    "execution": {
     "iopub.execute_input": "2022-04-11T16:46:52.575507Z",
     "iopub.status.busy": "2022-04-11T16:46:52.574846Z",
     "iopub.status.idle": "2022-04-11T16:46:52.577710Z",
     "shell.execute_reply": "2022-04-11T16:46:52.577130Z",
     "shell.execute_reply.started": "2022-04-11T16:35:56.010353Z"
    },
    "papermill": {
     "duration": 0.054213,
     "end_time": "2022-04-11T16:46:52.577840",
     "exception": false,
     "start_time": "2022-04-11T16:46:52.523627",
     "status": "completed"
    },
    "tags": []
   },
   "outputs": [],
   "source": [
    "# sentences = []\n",
    "# for sent in doc.sents:\n",
    "#     if string.strip() in sent.text:\n",
    "#         text = re.sub('[^0-9a-zA-Z@?|\\/<>.,()&^%$#!]+', ' ', sent.text)"
   ]
  },
  {
   "cell_type": "code",
   "execution_count": 8,
   "id": "c6d23419",
   "metadata": {
    "execution": {
     "iopub.execute_input": "2022-04-11T16:46:52.677372Z",
     "iopub.status.busy": "2022-04-11T16:46:52.676654Z",
     "iopub.status.idle": "2022-04-11T16:46:52.679624Z",
     "shell.execute_reply": "2022-04-11T16:46:52.679115Z",
     "shell.execute_reply.started": "2022-04-11T16:39:04.736143Z"
    },
    "papermill": {
     "duration": 0.054135,
     "end_time": "2022-04-11T16:46:52.679764",
     "exception": false,
     "start_time": "2022-04-11T16:46:52.625629",
     "status": "completed"
    },
    "tags": []
   },
   "outputs": [],
   "source": [
    "# k=nlp(\"he             kenny\")\n",
    "# for sent in k.sents:\n",
    "#     print(sent)"
   ]
  },
  {
   "cell_type": "code",
   "execution_count": 9,
   "id": "b54899a1",
   "metadata": {
    "execution": {
     "iopub.execute_input": "2022-04-11T16:46:52.781220Z",
     "iopub.status.busy": "2022-04-11T16:46:52.780315Z",
     "iopub.status.idle": "2022-04-11T16:46:52.783493Z",
     "shell.execute_reply": "2022-04-11T16:46:52.783988Z",
     "shell.execute_reply.started": "2022-04-11T15:09:24.391421Z"
    },
    "papermill": {
     "duration": 0.055842,
     "end_time": "2022-04-11T16:46:52.784167",
     "exception": false,
     "start_time": "2022-04-11T16:46:52.728325",
     "status": "completed"
    },
    "tags": []
   },
   "outputs": [],
   "source": [
    "# text"
   ]
  },
  {
   "cell_type": "code",
   "execution_count": 10,
   "id": "f5c6f2b1",
   "metadata": {
    "execution": {
     "iopub.execute_input": "2022-04-11T16:46:52.887052Z",
     "iopub.status.busy": "2022-04-11T16:46:52.886086Z",
     "iopub.status.idle": "2022-04-11T16:46:52.889162Z",
     "shell.execute_reply": "2022-04-11T16:46:52.889639Z",
     "shell.execute_reply.started": "2022-04-11T15:09:31.959900Z"
    },
    "papermill": {
     "duration": 0.056976,
     "end_time": "2022-04-11T16:46:52.889800",
     "exception": false,
     "start_time": "2022-04-11T16:46:52.832824",
     "status": "completed"
    },
    "tags": []
   },
   "outputs": [],
   "source": [
    "# res = re.search(string.strip(), text)\n",
    "# res"
   ]
  },
  {
   "cell_type": "code",
   "execution_count": 11,
   "id": "e15ac71b",
   "metadata": {
    "execution": {
     "iopub.execute_input": "2022-04-11T16:46:52.989104Z",
     "iopub.status.busy": "2022-04-11T16:46:52.988406Z",
     "iopub.status.idle": "2022-04-11T16:46:52.990539Z",
     "shell.execute_reply": "2022-04-11T16:46:52.991056Z",
     "shell.execute_reply.started": "2022-04-11T15:12:41.311242Z"
    },
    "papermill": {
     "duration": 0.053757,
     "end_time": "2022-04-11T16:46:52.991223",
     "exception": false,
     "start_time": "2022-04-11T16:46:52.937466",
     "status": "completed"
    },
    "tags": []
   },
   "outputs": [],
   "source": [
    "# entities = []\n",
    "# entities.append((res.start(),res.end(),'p'))"
   ]
  },
  {
   "cell_type": "code",
   "execution_count": 12,
   "id": "86d3b4e7",
   "metadata": {
    "execution": {
     "iopub.execute_input": "2022-04-11T16:46:53.090255Z",
     "iopub.status.busy": "2022-04-11T16:46:53.089585Z",
     "iopub.status.idle": "2022-04-11T16:46:53.092633Z",
     "shell.execute_reply": "2022-04-11T16:46:53.093164Z",
     "shell.execute_reply.started": "2022-04-11T15:12:52.736619Z"
    },
    "papermill": {
     "duration": 0.053783,
     "end_time": "2022-04-11T16:46:53.093345",
     "exception": false,
     "start_time": "2022-04-11T16:46:53.039562",
     "status": "completed"
    },
    "tags": []
   },
   "outputs": [],
   "source": [
    "# entities"
   ]
  },
  {
   "cell_type": "code",
   "execution_count": 13,
   "id": "7158be0e",
   "metadata": {
    "execution": {
     "iopub.execute_input": "2022-04-11T16:46:53.192420Z",
     "iopub.status.busy": "2022-04-11T16:46:53.191688Z",
     "iopub.status.idle": "2022-04-11T16:46:53.194677Z",
     "shell.execute_reply": "2022-04-11T16:46:53.195216Z",
     "shell.execute_reply.started": "2022-04-11T15:06:11.546217Z"
    },
    "papermill": {
     "duration": 0.054127,
     "end_time": "2022-04-11T16:46:53.195397",
     "exception": false,
     "start_time": "2022-04-11T16:46:53.141270",
     "status": "completed"
    },
    "tags": []
   },
   "outputs": [],
   "source": [
    "# text"
   ]
  },
  {
   "cell_type": "code",
   "execution_count": null,
   "id": "c6b9fde9",
   "metadata": {
    "execution": {
     "iopub.execute_input": "2022-04-11T15:02:33.300092Z",
     "iopub.status.busy": "2022-04-11T15:02:33.299778Z",
     "iopub.status.idle": "2022-04-11T15:02:33.307110Z",
     "shell.execute_reply": "2022-04-11T15:02:33.306345Z",
     "shell.execute_reply.started": "2022-04-11T15:02:33.300061Z"
    },
    "papermill": {
     "duration": 0.047691,
     "end_time": "2022-04-11T16:46:53.290625",
     "exception": false,
     "start_time": "2022-04-11T16:46:53.242934",
     "status": "completed"
    },
    "tags": []
   },
   "outputs": [],
   "source": []
  },
  {
   "cell_type": "code",
   "execution_count": 14,
   "id": "08771a2c",
   "metadata": {
    "execution": {
     "iopub.execute_input": "2022-04-11T16:46:53.390079Z",
     "iopub.status.busy": "2022-04-11T16:46:53.389400Z",
     "iopub.status.idle": "2022-04-11T16:46:53.392105Z",
     "shell.execute_reply": "2022-04-11T16:46:53.392690Z",
     "shell.execute_reply.started": "2022-04-11T16:21:02.863037Z"
    },
    "papermill": {
     "duration": 0.05456,
     "end_time": "2022-04-11T16:46:53.392858",
     "exception": false,
     "start_time": "2022-04-11T16:46:53.338298",
     "status": "completed"
    },
    "tags": []
   },
   "outputs": [],
   "source": [
    "# import spacy\n",
    "# nlp = spacy.load('en_core_web_sm')"
   ]
  },
  {
   "cell_type": "code",
   "execution_count": 15,
   "id": "c23bd819",
   "metadata": {
    "execution": {
     "iopub.execute_input": "2022-04-11T16:46:53.492134Z",
     "iopub.status.busy": "2022-04-11T16:46:53.491496Z",
     "iopub.status.idle": "2022-04-11T16:46:53.494405Z",
     "shell.execute_reply": "2022-04-11T16:46:53.494960Z",
     "shell.execute_reply.started": "2022-04-09T12:19:47.776612Z"
    },
    "papermill": {
     "duration": 0.054265,
     "end_time": "2022-04-11T16:46:53.495126",
     "exception": false,
     "start_time": "2022-04-11T16:46:53.440861",
     "status": "completed"
    },
    "tags": []
   },
   "outputs": [],
   "source": [
    "# !pip install PyPDF2\n",
    "# import PyPDF2\n",
    "# fhandle = open(r'/kaggle/input/sample-pdf/D8communications.pdf', 'rb')\n",
    "# pdfReader = PyPDF2.PdfFileReader(fhandle)\n",
    "# pagehandle = pdfReader.getPage(4)\n",
    "# print(pagehandle.extractText())"
   ]
  },
  {
   "cell_type": "code",
   "execution_count": 16,
   "id": "394fd86c",
   "metadata": {
    "execution": {
     "iopub.execute_input": "2022-04-11T16:46:53.593204Z",
     "iopub.status.busy": "2022-04-11T16:46:53.592576Z",
     "iopub.status.idle": "2022-04-11T16:46:53.595308Z",
     "shell.execute_reply": "2022-04-11T16:46:53.595928Z",
     "shell.execute_reply.started": "2022-04-09T12:25:37.701467Z"
    },
    "papermill": {
     "duration": 0.053603,
     "end_time": "2022-04-11T16:46:53.596094",
     "exception": false,
     "start_time": "2022-04-11T16:46:53.542491",
     "status": "completed"
    },
    "tags": []
   },
   "outputs": [],
   "source": [
    "# !pip install pdfplumber\n",
    "# import pdfplumber\n",
    "# with pdfplumber.open(r'/kaggle/input/sample-pdf/D8communications.pdf') as pdf:\n",
    "#     first_page = pdf.pages[3]\n",
    "#     print(first_page.extract_text())"
   ]
  },
  {
   "cell_type": "code",
   "execution_count": 17,
   "id": "91b9049f",
   "metadata": {
    "execution": {
     "iopub.execute_input": "2022-04-11T16:46:53.695748Z",
     "iopub.status.busy": "2022-04-11T16:46:53.694669Z",
     "iopub.status.idle": "2022-04-11T16:46:53.696727Z",
     "shell.execute_reply": "2022-04-11T16:46:53.697270Z",
     "shell.execute_reply.started": "2022-04-09T12:25:49.584635Z"
    },
    "papermill": {
     "duration": 0.053978,
     "end_time": "2022-04-11T16:46:53.697442",
     "exception": false,
     "start_time": "2022-04-11T16:46:53.643464",
     "status": "completed"
    },
    "tags": []
   },
   "outputs": [],
   "source": [
    "# !pip install pytesseract"
   ]
  },
  {
   "cell_type": "code",
   "execution_count": 18,
   "id": "edea0a4d",
   "metadata": {
    "execution": {
     "iopub.execute_input": "2022-04-11T16:46:53.797352Z",
     "iopub.status.busy": "2022-04-11T16:46:53.796544Z",
     "iopub.status.idle": "2022-04-11T16:46:53.799757Z",
     "shell.execute_reply": "2022-04-11T16:46:53.799261Z",
     "shell.execute_reply.started": "2022-04-09T14:49:10.656812Z"
    },
    "papermill": {
     "duration": 0.055025,
     "end_time": "2022-04-11T16:46:53.799899",
     "exception": false,
     "start_time": "2022-04-11T16:46:53.744874",
     "status": "completed"
    },
    "tags": []
   },
   "outputs": [],
   "source": [
    "# #!pip install pdf2image\n",
    "# !pip install poppler"
   ]
  },
  {
   "cell_type": "code",
   "execution_count": 19,
   "id": "4249003c",
   "metadata": {
    "execution": {
     "iopub.execute_input": "2022-04-11T16:46:53.899606Z",
     "iopub.status.busy": "2022-04-11T16:46:53.898643Z",
     "iopub.status.idle": "2022-04-11T16:46:53.901721Z",
     "shell.execute_reply": "2022-04-11T16:46:53.902217Z",
     "shell.execute_reply.started": "2022-04-09T14:57:24.756677Z"
    },
    "papermill": {
     "duration": 0.054248,
     "end_time": "2022-04-11T16:46:53.902384",
     "exception": false,
     "start_time": "2022-04-11T16:46:53.848136",
     "status": "completed"
    },
    "tags": []
   },
   "outputs": [],
   "source": [
    "# pdf2image.convert_from_path('/kaggle/input/sample-pdf/D8communications.pdf')"
   ]
  },
  {
   "cell_type": "code",
   "execution_count": 20,
   "id": "b28b9542",
   "metadata": {
    "execution": {
     "iopub.execute_input": "2022-04-11T16:46:54.001816Z",
     "iopub.status.busy": "2022-04-11T16:46:54.000853Z",
     "iopub.status.idle": "2022-04-11T16:46:54.004514Z",
     "shell.execute_reply": "2022-04-11T16:46:54.004972Z",
     "shell.execute_reply.started": "2022-04-09T14:57:17.576149Z"
    },
    "papermill": {
     "duration": 0.055477,
     "end_time": "2022-04-11T16:46:54.005140",
     "exception": false,
     "start_time": "2022-04-11T16:46:53.949663",
     "status": "completed"
    },
    "tags": []
   },
   "outputs": [],
   "source": [
    "# import pdf2image\n",
    "# try:\n",
    "#     from PIL import Image\n",
    "# except ImportError:\n",
    "#     import Image\n",
    "# import pytesseract\n",
    "\n",
    "\n",
    "# def pdf_to_img(pdf_file):\n",
    "#     return pdf2image.convert_from_path(pdf_file)\n",
    "\n",
    "\n",
    "# def ocr_core(file):\n",
    "#     text = pytesseract.image_to_string(file)\n",
    "#     return text\n",
    "\n",
    "\n",
    "# def print_pages(pdf_file):\n",
    "#     images = pdf_to_img(pdf_file)\n",
    "#     for pg, img in enumerate(images):\n",
    "#         print(ocr_core(img))\n",
    "\n",
    "\n",
    "# print_pages('/kaggle/input/sample-pdf/D8communications.pdf')\n"
   ]
  },
  {
   "cell_type": "code",
   "execution_count": 21,
   "id": "2b844f8c",
   "metadata": {
    "execution": {
     "iopub.execute_input": "2022-04-11T16:46:54.104360Z",
     "iopub.status.busy": "2022-04-11T16:46:54.103330Z",
     "iopub.status.idle": "2022-04-11T16:46:54.107435Z",
     "shell.execute_reply": "2022-04-11T16:46:54.108020Z"
    },
    "papermill": {
     "duration": 0.054913,
     "end_time": "2022-04-11T16:46:54.108214",
     "exception": false,
     "start_time": "2022-04-11T16:46:54.053301",
     "status": "completed"
    },
    "tags": []
   },
   "outputs": [],
   "source": [
    "# import requests\n",
    "# import fitz\n",
    "# import io\n",
    "\n",
    "# #URL = 'https://buildmedia.readthedocs.org/media/pdf/pdfminer-docs/latest/pdfminer-docs.pdf'\n",
    "# URL = 'https://redactable-devox-stage.s3.us-east-2.amazonaws.com/tenants/41d9e109-693b-444c-aa18-e5891bc6550b/original/1a7c0e5d-3237-4ca9-9e3d-89e707245ac6/D8communications.pdf'\n",
    "\n",
    "\n",
    "# res = requests.get(URL)\n",
    "# filestream = io.BytesIO(res.content)\n",
    "# #res.content\n",
    "# filestream\n",
    "# doc = fitz.Document(stream=filestream)\n",
    "# page1 = doc.loadPage(3)\n",
    "# page1text = page1.getText(\"text\").encode(\"utf-8\").decode(\"utf-8\")\n",
    "# print(page1text)"
   ]
  },
  {
   "cell_type": "code",
   "execution_count": 22,
   "id": "812a7457",
   "metadata": {
    "execution": {
     "iopub.execute_input": "2022-04-11T16:46:54.209268Z",
     "iopub.status.busy": "2022-04-11T16:46:54.208261Z",
     "iopub.status.idle": "2022-04-11T16:46:54.212617Z",
     "shell.execute_reply": "2022-04-11T16:46:54.213215Z",
     "shell.execute_reply.started": "2022-04-09T07:04:56.590103Z"
    },
    "papermill": {
     "duration": 0.055496,
     "end_time": "2022-04-11T16:46:54.213390",
     "exception": false,
     "start_time": "2022-04-11T16:46:54.157894",
     "status": "completed"
    },
    "tags": []
   },
   "outputs": [],
   "source": [
    "# import requests\n",
    "# import fitz\n",
    "\n",
    "# #URL = 'https://buildmedia.readthedocs.org/media/pdf/pdfminer-docs/latest/pdfminer-docs.pdf'\n",
    "# URL = 'https://redactable-devox-stage.s3.us-east-2.amazonaws.com/tenants/41d9e109-693b-444c-aa18-e5891bc6550b/original/1a7c0e5d-3237-4ca9-9e3d-89e707245ac6/D8communications.pdf'\n",
    "\n",
    "\n",
    "# res = requests.get(URL)\n",
    "# doc = fitz.open(stream=res.content,filetype=\"pdf\")\n",
    "# page1 = doc.loadPage(3)\n",
    "# page1text = page1.getText(\"text\")\n",
    "# #rect = (72.1149,661.2966,131.95729,675.1716)\n",
    "# rect=(72.10812377929688, 116.13427734375, 133.97142028808594, 146.4227294921875)\n",
    "# labelled_text = page1.get_textbox(rect)\n",
    "# print(labelled_text.strip())\n",
    "\n",
    "# fulltext = page1.get_text()\n",
    "# print(fulltext)\n",
    "# doc = nlp(fulltext)\n",
    "# sentences = []\n",
    "# for sent in doc.sents:\n",
    "#     if labelled_text in sent.text:\n",
    "#         text = sent.text\n",
    "#         print(text)\n",
    "# #print(page1text)"
   ]
  },
  {
   "cell_type": "code",
   "execution_count": 23,
   "id": "5dc715ff",
   "metadata": {
    "execution": {
     "iopub.execute_input": "2022-04-11T16:46:54.312614Z",
     "iopub.status.busy": "2022-04-11T16:46:54.311552Z",
     "iopub.status.idle": "2022-04-11T16:46:54.314837Z",
     "shell.execute_reply": "2022-04-11T16:46:54.315415Z",
     "shell.execute_reply.started": "2022-04-08T16:42:57.6659Z"
    },
    "papermill": {
     "duration": 0.05472,
     "end_time": "2022-04-11T16:46:54.315584",
     "exception": false,
     "start_time": "2022-04-11T16:46:54.260864",
     "status": "completed"
    },
    "tags": []
   },
   "outputs": [],
   "source": [
    "#res.content"
   ]
  },
  {
   "cell_type": "code",
   "execution_count": 24,
   "id": "fb461334",
   "metadata": {
    "execution": {
     "iopub.execute_input": "2022-04-11T16:46:54.415092Z",
     "iopub.status.busy": "2022-04-11T16:46:54.414374Z",
     "iopub.status.idle": "2022-04-11T16:46:54.416508Z",
     "shell.execute_reply": "2022-04-11T16:46:54.416998Z",
     "shell.execute_reply.started": "2022-04-08T16:48:05.672392Z"
    },
    "papermill": {
     "duration": 0.054119,
     "end_time": "2022-04-11T16:46:54.417159",
     "exception": false,
     "start_time": "2022-04-11T16:46:54.363040",
     "status": "completed"
    },
    "tags": []
   },
   "outputs": [],
   "source": [
    "# import fitz\n",
    "# # mem_area=\n",
    "# # doc = fitz.open(stream=mem_area, filetype=\"pdf\")\n",
    "\n",
    "# import requests\n",
    "\n",
    "# URL = 'https://redactable-devox-stage.s3.us-east-2.amazonaws.com/tenants/41d9e109-693b-444c-aa18-e5891bc6550b/original/1a7c0e5d-3237-4ca9-9e3d-89e707245ac6/D8communications.pdf'\n",
    "\n",
    "# #res = requests.get(URL)\n",
    "# doc=fitz.open(\"/kaggle/input/sample-pdf/D8communications.pdf\")\n",
    "# #doc = fitz.open(stream=res.content,filetype=\"pdf\")\n",
    "# page1 = doc.loadPage(4)\n",
    "# # page1text = page1.getText(\"text\")\n",
    "# # print(page1text)\n",
    "# blocks = page1.getText(\"blocks\")\n",
    "# blocks.sort(key=lambda block: block[1])  # sort vertically ascending\n",
    "\n",
    "# for b in blocks:\n",
    "#     print(b[4])\n"
   ]
  },
  {
   "cell_type": "code",
   "execution_count": 25,
   "id": "580755fd",
   "metadata": {
    "execution": {
     "iopub.execute_input": "2022-04-11T16:46:54.516886Z",
     "iopub.status.busy": "2022-04-11T16:46:54.516169Z",
     "iopub.status.idle": "2022-04-11T16:46:54.519113Z",
     "shell.execute_reply": "2022-04-11T16:46:54.519698Z",
     "shell.execute_reply.started": "2022-04-08T16:48:13.086323Z"
    },
    "papermill": {
     "duration": 0.053875,
     "end_time": "2022-04-11T16:46:54.519866",
     "exception": false,
     "start_time": "2022-04-11T16:46:54.465991",
     "status": "completed"
    },
    "tags": []
   },
   "outputs": [],
   "source": [
    "# # page = doc[1]\n",
    "# words = page.get_text(\"words\")\n",
    "# #print(words)\n",
    "# rect = (72.1149,661.2966,131.95729,675.1716)\n",
    "\n",
    "# labelled_text = page.get_textbox(rect)\n",
    "# # labelled_text"
   ]
  },
  {
   "cell_type": "markdown",
   "id": "0732b30a",
   "metadata": {
    "papermill": {
     "duration": 0.047164,
     "end_time": "2022-04-11T16:46:54.615100",
     "exception": false,
     "start_time": "2022-04-11T16:46:54.567936",
     "status": "completed"
    },
    "tags": []
   },
   "source": [
    "pip install PyPDF2"
   ]
  },
  {
   "cell_type": "code",
   "execution_count": null,
   "id": "e4a13e22",
   "metadata": {
    "papermill": {
     "duration": 0.047173,
     "end_time": "2022-04-11T16:46:54.710221",
     "exception": false,
     "start_time": "2022-04-11T16:46:54.663048",
     "status": "completed"
    },
    "tags": []
   },
   "outputs": [],
   "source": []
  },
  {
   "cell_type": "code",
   "execution_count": 26,
   "id": "75b72557",
   "metadata": {
    "execution": {
     "iopub.execute_input": "2022-04-11T16:46:54.809245Z",
     "iopub.status.busy": "2022-04-11T16:46:54.808589Z",
     "iopub.status.idle": "2022-04-11T16:46:54.811159Z",
     "shell.execute_reply": "2022-04-11T16:46:54.811825Z",
     "shell.execute_reply.started": "2022-03-18T16:48:58.370268Z"
    },
    "papermill": {
     "duration": 0.053931,
     "end_time": "2022-04-11T16:46:54.812018",
     "exception": false,
     "start_time": "2022-04-11T16:46:54.758087",
     "status": "completed"
    },
    "tags": []
   },
   "outputs": [],
   "source": [
    "# import pandas as pd\n",
    "# h={'step': 0, 'type': 'string', 'amount': 0.0, 'nameOrig': 'C1231006815', 'oldbalanceOrig': 0.0, 'newbalanceOrig': 0.0, 'nameDest': 'M1979787155', 'oldbalanceDest': 0.0, 'newbalanceDest': 0.0}\n",
    "# df=pd.DataFrame([h])"
   ]
  },
  {
   "cell_type": "code",
   "execution_count": 27,
   "id": "68617659",
   "metadata": {
    "execution": {
     "iopub.execute_input": "2022-04-11T16:46:54.910556Z",
     "iopub.status.busy": "2022-04-11T16:46:54.909928Z",
     "iopub.status.idle": "2022-04-11T16:46:54.912548Z",
     "shell.execute_reply": "2022-04-11T16:46:54.913009Z",
     "shell.execute_reply.started": "2022-04-09T17:21:26.021615Z"
    },
    "papermill": {
     "duration": 0.05375,
     "end_time": "2022-04-11T16:46:54.913172",
     "exception": false,
     "start_time": "2022-04-11T16:46:54.859422",
     "status": "completed"
    },
    "tags": []
   },
   "outputs": [],
   "source": [
    "#df"
   ]
  },
  {
   "cell_type": "code",
   "execution_count": null,
   "id": "c1b6b64c",
   "metadata": {
    "papermill": {
     "duration": 0.047965,
     "end_time": "2022-04-11T16:46:55.010256",
     "exception": false,
     "start_time": "2022-04-11T16:46:54.962291",
     "status": "completed"
    },
    "tags": []
   },
   "outputs": [],
   "source": []
  }
 ],
 "metadata": {
  "kernelspec": {
   "display_name": "Python 3",
   "language": "python",
   "name": "python3"
  },
  "language_info": {
   "codemirror_mode": {
    "name": "ipython",
    "version": 3
   },
   "file_extension": ".py",
   "mimetype": "text/x-python",
   "name": "python",
   "nbconvert_exporter": "python",
   "pygments_lexer": "ipython3",
   "version": "3.7.12"
  },
  "papermill": {
   "default_parameters": {},
   "duration": 16.559124,
   "end_time": "2022-04-11T16:46:55.668433",
   "environment_variables": {},
   "exception": null,
   "input_path": "__notebook__.ipynb",
   "output_path": "__notebook__.ipynb",
   "parameters": {},
   "start_time": "2022-04-11T16:46:39.109309",
   "version": "2.3.3"
  }
 },
 "nbformat": 4,
 "nbformat_minor": 5
}
