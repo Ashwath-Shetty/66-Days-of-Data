{
 "cells": [
  {
   "cell_type": "code",
   "execution_count": 1,
   "id": "97df8a9d",
   "metadata": {
    "_cell_guid": "b1076dfc-b9ad-4769-8c92-a6c4dae69d19",
    "_uuid": "8f2839f25d086af736a60e9eeb907d3b93b6e0e5",
    "execution": {
     "iopub.execute_input": "2022-05-02T16:36:42.176256Z",
     "iopub.status.busy": "2022-05-02T16:36:42.170269Z",
     "iopub.status.idle": "2022-05-02T16:36:42.191526Z",
     "shell.execute_reply": "2022-05-02T16:36:42.191963Z",
     "shell.execute_reply.started": "2022-04-12T14:12:25.248687Z"
    },
    "papermill": {
     "duration": 0.084432,
     "end_time": "2022-05-02T16:36:42.192231",
     "exception": false,
     "start_time": "2022-05-02T16:36:42.107799",
     "status": "completed"
    },
    "tags": []
   },
   "outputs": [
    {
     "name": "stdout",
     "output_type": "stream",
     "text": [
      "/kaggle/input/sample-pdf/D8communications.pdf\n"
     ]
    }
   ],
   "source": [
    "# This Python 3 environment comes with many helpful analytics libraries installed\n",
    "# It is defined by the kaggle/python Docker image: https://github.com/kaggle/docker-python\n",
    "# For example, here's several helpful packages to load\n",
    "\n",
    "import numpy as np # linear algebra\n",
    "import pandas as pd # data processing, CSV file I/O (e.g. pd.read_csv)\n",
    "\n",
    "# Input data files are available in the read-only \"../input/\" directory\n",
    "# For example, running this (by clicking run or pressing Shift+Enter) will list all files under the input directory\n",
    "\n",
    "import os\n",
    "for dirname, _, filenames in os.walk('/kaggle/input'):\n",
    "    for filename in filenames:\n",
    "        print(os.path.join(dirname, filename))\n",
    "\n",
    "# You can write up to 20GB to the current directory (/kaggle/working/) that gets preserved as output when you create a version using \"Save & Run All\" \n",
    "# You can also write temporary files to /kaggle/temp/, but they won't be saved outside of the current session"
   ]
  },
  {
   "cell_type": "markdown",
   "id": "71b01e89",
   "metadata": {
    "papermill": {
     "duration": 0.055414,
     "end_time": "2022-05-02T16:36:42.306105",
     "exception": false,
     "start_time": "2022-05-02T16:36:42.250691",
     "status": "completed"
    },
    "tags": []
   },
   "source": [
    "# **Start Date: 12/3/2022**"
   ]
  },
  {
   "cell_type": "markdown",
   "id": "a7ad5b6f",
   "metadata": {
    "papermill": {
     "duration": 0.058475,
     "end_time": "2022-05-02T16:36:42.420716",
     "exception": false,
     "start_time": "2022-05-02T16:36:42.362241",
     "status": "completed"
    },
    "tags": []
   },
   "source": [
    "# **Day 1:** \n",
    "<br>dataquest -> stats -> probability-> estimating probability\n",
    "1. out come is nothing but o/p of an experiment\n",
    "ex: whatever u get after rolling a dice -> it can be any number\n",
    "2. event can have more than one outcome\n",
    "- e.x: The event that we'll get an odd number when we roll a six-sided die — this event includes the outcomes 1, 3, and 5.\n",
    "- an event can be 0 as well.\n",
    "- We always assign probabilities to events, not outcomes, even if the event includes only one outcome.\n",
    "- P(E) =1/total number of possible outcomes, P(E) probability of an event happening.\n",
    "- but above formula doesn't work always, especially when there are more than one outcome\n",
    "    - P(E)=number of successful outcomes/total number of possible outcomes\n",
    "- incase of a biased situation \n",
    "  - let's say a die has 6 - 3 times which is 1,6,3,5,6,6\n",
    "    we will consider 6 as 3 times not 1.\n",
    "    possible outcome-> 1,3,5,6,6,6\n",
    "    prob(6)=3/6\n",
    "    prob(3)=1/6\n",
    "    prob(2)=0/6\n",
    "    If we didn't treat each 6 differently and said it doesn't matter which side a 6 is on, \n",
    "    <br>we'd be forced to conclude the only possible outcomes are 1, 3, 5 and 6. We can definitely         <br>frame the problem like that, but the formula above won't work anymore — we see below P(6) <br>becomes the same as P(3), but, intuitively, P(6) should be higher than P(3) since the die has 6 on     <br>three of its sides:\n"
   ]
  },
  {
   "cell_type": "markdown",
   "id": "cc4b2304",
   "metadata": {
    "papermill": {
     "duration": 0.056579,
     "end_time": "2022-05-02T16:36:42.534849",
     "exception": false,
     "start_time": "2022-05-02T16:36:42.478270",
     "status": "completed"
    },
    "tags": []
   },
   "source": [
    "Estimating Probabilities Conclusion\n",
    "- emperical/ experimental probability\n",
    "  - probability achieved by experimenting / by doing the same event multiple times.\n",
    "  - Generally, for any event E (like a coin landing heads up), we can find its empirical probability   \n",
    "     by using the following formula: \n",
    "     •P (E) =number of times event E happened/ number of times we repeated the experiment   \n",
    " - Generally, the empirical probability of an event (a coin landing heads up, getting a 5 when weroll a die) approaches the true probability value as the number of trials of the randomexperiment (a coin toss, the rolling of a die) increases without bound.\n",
    "- When we calculate the probability of an event under the assumption that the outcomes have equal chances of occurring, we say that we're calculating the **theoretical probability** of an event.\n",
    "   - P(E)=number of successful outcomes/total number of possible outcomes\n",
    "\n"
   ]
  },
  {
   "cell_type": "markdown",
   "id": "17ffede8",
   "metadata": {
    "papermill": {
     "duration": 0.055188,
     "end_time": "2022-05-02T16:36:42.647381",
     "exception": false,
     "start_time": "2022-05-02T16:36:42.592193",
     "status": "completed"
    },
    "tags": []
   },
   "source": [
    "# **Day 2**\n",
    "<br>dataquest-> stats -> intro to probability -> probability rules\n",
    "<br>In probability theory, the set of all possible outcomes is called a sample space. A sample space is often denoted by the capital Greek letter Ω (read \"omega\"). This is how we represent the sample space of a die roll:\n",
    "\n",
    "Ω = {1,2,3,4,5,6}\n",
    "-    The probability of any event ranges between 0 and 1: 0≤ P(Event) ≤1\n",
    "- To calculate P(A or B), we can also use the formula below, which is sometimes called the addition rule: P(A or B) = P(A) + P(B)\n",
    "  - Sample space ={ 1,2,3,4,5,6} \n",
    "  - P(2 or 5) = 2/6\n",
    "\n",
    "- P(C or D) = P(C) + P(D) - P(C and D)\n",
    "   - e.x : Sample_space ={2,4,6} + { 4,5,6} - {4/6}\n",
    "      P( even number or number greater than 3) = ( (3/6) + (3/6) )- (2/6) = 4/6\n",
    "- Events that don't intersect are called mutually exclusive.\n",
    "  - e.x: Getting a 5 (event one) and getting a 3 (event two) when we roll a regular six-sided die — it's  impossible to get both a 5 and 3.\n",
    "- Events that intersect are called mutually non-exclusive.\n",
    "  - Getting a number greater than 2 (event one) and getting an odd number (event two) when we roll a regular six-sided die — we could get a 5, which is both greater than 2 (event one) and odd (event two).\n",
    "- unioun -> A or B, intersection -> A and B"
   ]
  },
  {
   "cell_type": "markdown",
   "id": "da5e215f",
   "metadata": {
    "papermill": {
     "duration": 0.055002,
     "end_time": "2022-05-02T16:36:42.758096",
     "exception": false,
     "start_time": "2022-05-02T16:36:42.703094",
     "status": "completed"
    },
    "tags": []
   },
   "source": [
    "# Day 3 and 4\n",
    "dataquest -> stats -> probabilities -> solving complex probabilities\n",
    "- This is the same result we got from our previous approach. In more general terms, the multiplication rule says that for two events E1 and E2, the probability that both event E1 and E2 happen can be found by multiplying the probability of E1 by the probability of E2:\n",
    "    - P(E1 ∩ E2) = P(E1) × P(E2)\n",
    "    - Events that don't influence each other's probability are called independent events. If H1 happens, P(H2) stays the same, so H1 and H2 are independent. The multiplication rule we learned only works for independent events.\n",
    "    "
   ]
  },
  {
   "cell_type": "markdown",
   "id": "3751f388",
   "metadata": {
    "papermill": {
     "duration": 0.055422,
     "end_time": "2022-05-02T16:36:42.870228",
     "exception": false,
     "start_time": "2022-05-02T16:36:42.814806",
     "status": "completed"
    },
    "tags": []
   },
   "source": [
    "# Day 5\n",
    "- When we replace the cards after drawing, we say that we're sampling with replacement. When we don't put the cards back, we're sampling without replacement. \n"
   ]
  },
  {
   "cell_type": "markdown",
   "id": "0196467a",
   "metadata": {
    "papermill": {
     "duration": 0.055573,
     "end_time": "2022-05-02T16:36:42.981241",
     "exception": false,
     "start_time": "2022-05-02T16:36:42.925668",
     "status": "completed"
    },
    "tags": []
   },
   "source": [
    "# Day6\n",
    "dataquest-> prob and stats -> probability fundamentals -> permutation and combinations\n",
    "Generally, if we have an experiment E1 (like flipping a coin) with a outcomes, followed by an experiment E2 (like rolling a die) with b outcomes, then the total number of outcomes for the composite experiment E1E2 can be found by multiplying a with b:\n",
    "\n",
    "Number of outcomes = a * b"
   ]
  },
  {
   "cell_type": "markdown",
   "id": "5ac53f63",
   "metadata": {
    "papermill": {
     "duration": 0.054474,
     "end_time": "2022-05-02T16:36:43.091223",
     "exception": false,
     "start_time": "2022-05-02T16:36:43.036749",
     "status": "completed"
    },
    "tags": []
   },
   "source": [
    "# Day 7\n",
    "dataquest-> prob and stats -> probability fundamentals -> permutation and combinations <br>\n",
    "More generally, if we have an experiment E1 with a outcomes, followed by an experiment E2 with b outcomes, followed by an experiment En with z outcomes, the total number of outcomes for the composite experiment E1E2 ... En can be found by multiplying their individual outcomes:\n",
    "\n",
    "Number of outcomes= a * b * … * z"
   ]
  },
  {
   "cell_type": "markdown",
   "id": "d87a169e",
   "metadata": {
    "papermill": {
     "duration": 0.05535,
     "end_time": "2022-05-02T16:36:43.202799",
     "exception": false,
     "start_time": "2022-05-02T16:36:43.147449",
     "status": "completed"
    },
    "tags": []
   },
   "source": [
    "# Day 8\n",
    "dataquest-> prob and stats -> probability fundamentals -> permutation and combinations <br>\n",
    "permutations= n*(n-1)*(n-2)*....*2*1\n"
   ]
  },
  {
   "cell_type": "markdown",
   "id": "bd6e97e4",
   "metadata": {
    "papermill": {
     "duration": 0.056111,
     "end_time": "2022-05-02T16:36:43.314628",
     "exception": false,
     "start_time": "2022-05-02T16:36:43.258517",
     "status": "completed"
    },
    "tags": []
   },
   "source": [
    "# Day 9\n",
    "dataquest-> prob and stats -> probability fundamentals -> permutation and combinations\n",
    "- in permutation order of the individual element in the arranement matters.\n",
    "   - for e.x: 9821 is different than 9281\n",
    "   - Permutations =n!  --> sample without replacement-> we are not putting back the sampled data.\n",
    "   - On the last screen, we learned to use the formula below to calculate permutations when we're sampling without replacement and taking only k objects from a group of n objects:\n",
    "   npk=n!/(n-k)!"
   ]
  },
  {
   "cell_type": "markdown",
   "id": "70847f38",
   "metadata": {
    "papermill": {
     "duration": 0.055049,
     "end_time": "2022-05-02T16:36:43.426332",
     "exception": false,
     "start_time": "2022-05-02T16:36:43.371283",
     "status": "completed"
    },
    "tags": []
   },
   "source": [
    "# Day 10\n",
    "dataquest-> prob and stats -> probability fundamentals -> permutation and combinations\n",
    "- More generally, if the order of the elements in an arrangement doesn't matter, the arrangement is called a combination.\n",
    "- e.x: cards in a deck \n",
    "- nCk = n! / ((n-k)!*k!)"
   ]
  },
  {
   "cell_type": "markdown",
   "id": "c4a56a96",
   "metadata": {
    "papermill": {
     "duration": 0.055039,
     "end_time": "2022-05-02T16:36:43.538117",
     "exception": false,
     "start_time": "2022-05-02T16:36:43.483078",
     "status": "completed"
    },
    "tags": []
   },
   "source": [
    "# Day 11\n",
    "dataquest-> prob and stats -> probability fundamentals -> permutation and combinations\n",
    "- solved 1 probability problem.\n"
   ]
  },
  {
   "cell_type": "markdown",
   "id": "ed86c6fc",
   "metadata": {
    "papermill": {
     "duration": 0.055596,
     "end_time": "2022-05-02T16:36:43.650558",
     "exception": false,
     "start_time": "2022-05-02T16:36:43.594962",
     "status": "completed"
    },
    "tags": []
   },
   "source": [
    "# Day 12\n",
    "dataquest-> prob and stats -> probability fundamentals -> permutation and combinations\n",
    "- finished probability and permutations by revising them.\n",
    "- If we have an experiment E1 (like flipping a coin) with a outcomes, followed by an experiment E2(like rolling a die) with b outcomes, then the total number of outcomes for the compositeexperiment E1E2 can be found by multiplying a with b (this is known as the rule of product):\n",
    "  - number of outcomes = a*b\n",
    "- If we have an experiment E1 with a outcomes, followed by an experiment E2 with b outcomes,followed by an experiment En with z outcomes, the total number of outcomes for the compositeexperiment E1E2 ... En can be found by multiplying their individual outcomes:\n",
    "   - number of outcomes = a*b* ... *z\n",
    "- There are two kinds of arrangements:\n",
    "   - •Arrangements where the order matters, which we call permutations.\n",
    "   - •Arrangements where the order doesn't matter, which we call combination\n",
    "- To find the number of permutations when we're sampling without replacement, we can use theformula:\n",
    "  - permutation = n!\n",
    "- To find the number of permutations when we're sampling without replacement and taking only kobjects from a group of n objects, we can use the formula:\n",
    "  - nPk = n!/(n-k)!\n",
    "- To find the number of combinations when we're sampling without replacement and taking only kobjects from a group of n objects, we can use the formula\n",
    "  - nCk = n! / ((n-k)!*k!)"
   ]
  },
  {
   "cell_type": "markdown",
   "id": "137ff093",
   "metadata": {
    "papermill": {
     "duration": 0.056714,
     "end_time": "2022-05-02T16:36:43.763010",
     "exception": false,
     "start_time": "2022-05-02T16:36:43.706296",
     "status": "completed"
    },
    "tags": []
   },
   "source": [
    "# Day 13\n",
    "dataquest-> prob and stats -> probability fundamentals -> conditional probabilities\n",
    "- first 2 slides -> mainly the recap of old chapter(above one).\n"
   ]
  },
  {
   "cell_type": "markdown",
   "id": "e53bd722",
   "metadata": {
    "papermill": {
     "duration": 0.058873,
     "end_time": "2022-05-02T16:36:43.878175",
     "exception": false,
     "start_time": "2022-05-02T16:36:43.819302",
     "status": "completed"
    },
    "tags": []
   },
   "source": [
    "# Day 14\n",
    "dataquest-> prob and stats -> probability fundamentals -> conditional probabilities\n",
    "<br>slide 4 completed\n",
    "<br>conditional probabilities\n",
    "- probabilities with condition\n",
    "- P(5)=What is the probability of getting a 5? -> normal probability\n",
    "- P(5 | odd) =What is the probability of getting a 5 given the die showed an odd number? -> conditional prob.\n",
    "\n"
   ]
  },
  {
   "cell_type": "markdown",
   "id": "0a304dc1",
   "metadata": {
    "papermill": {
     "duration": 0.057516,
     "end_time": "2022-05-02T16:36:43.993992",
     "exception": false,
     "start_time": "2022-05-02T16:36:43.936476",
     "status": "completed"
    },
    "tags": []
   },
   "source": [
    "# Day 15\n",
    "dataquest-> prob and stats -> probability fundamentals -> conditional probabilities\n",
    "- on slide 5 not done yet.\n",
    "\n",
    "Say we roll a fair six-sided die and want to find the probability of getting an odd number, given the die showed a number greater than 1 after landing. Using probability notation, we want to find P(A|B) where:\n",
    "\n",
    "- A is the event that the number is odd: A = {1, 3, 5}\n",
    "- B is the event that the number is greater than 1: B = {2, 3, 4, 5, 6}\n",
    "- P(A/B)=number of succesfull outcomes / total number of outcomes.\n"
   ]
  },
  {
   "cell_type": "markdown",
   "id": "de55e85b",
   "metadata": {
    "papermill": {
     "duration": 0.056085,
     "end_time": "2022-05-02T16:36:44.106475",
     "exception": false,
     "start_time": "2022-05-02T16:36:44.050390",
     "status": "completed"
    },
    "tags": []
   },
   "source": [
    "# Day 16 and 17\n",
    "dataquest-> prob and stats -> probability fundamentals -> conditional probabilities\n",
    "\n",
    "on slide 6 not done yet."
   ]
  },
  {
   "cell_type": "markdown",
   "id": "50d4efad",
   "metadata": {
    "papermill": {
     "duration": 0.057003,
     "end_time": "2022-05-02T16:36:44.219637",
     "exception": false,
     "start_time": "2022-05-02T16:36:44.162634",
     "status": "completed"
    },
    "tags": []
   },
   "source": [
    "# Day 18\n",
    "dataquest-> prob and stats -> probability fundamentals -> conditional probabilities\n",
    "<br>slide 5 code half done"
   ]
  },
  {
   "cell_type": "markdown",
   "id": "682da771",
   "metadata": {
    "papermill": {
     "duration": 0.055903,
     "end_time": "2022-05-02T16:36:44.332538",
     "exception": false,
     "start_time": "2022-05-02T16:36:44.276635",
     "status": "completed"
    },
    "tags": []
   },
   "source": [
    "# Day 19\n",
    "- The number of elements in a set is called the cardinal of the set. \n",
    "  Ω is a set, and the cardinal of \n",
    "   Ω = { 2,3,4,5,6}\n",
    "   cardinal(Ω)=5\n",
    "- P(A | B) = card(A ∩ B) / card(B)\n",
    "- Say we roll a fair six-sided die and want to find the probability of getting an odd number, given the die showed a number greater than 1 after landing. Using probability notation, we want to find P(A|B) where:\n",
    "    - A is the event that the number is odd: A = {1, 3, 5}\n",
    "     - B is the event that the number is greater than 1: B = {2, 3, 4, 5, 6}\n",
    "     - total number of possible outcomes = card({2,3,4,5,6}) =5\n",
    "     - number of successful outcomes = card({3,5})= 2\n",
    "- P(A | B) = card(A ∩ B) / card(B), we can also get the same result using P(A | B) = prob(A ∩ B) / prob(B)\n",
    "\n",
    "     "
   ]
  },
  {
   "cell_type": "markdown",
   "id": "45b12db0",
   "metadata": {
    "papermill": {
     "duration": 0.057652,
     "end_time": "2022-05-02T16:36:44.446550",
     "exception": false,
     "start_time": "2022-05-02T16:36:44.388898",
     "status": "completed"
    },
    "tags": []
   },
   "source": [
    "# Day 20\n",
    "dataquest-> prob and stats -> probability fundamentals -> conditional probabilities intermediate\n",
    "<br> slide 1 and 2\n",
    "- P( A | B ) ≠ P(A ∩ B), but rather:\n",
    "   - P(A | B) = P(A ∩ B) / P(B)\n",
    "   - P(A ∩ B) = P(A | B) ⋅ P(B)\n",
    "- Given that a customer bought a laptop, they will or will not also buy a mouse. This means we can be certain that either event (M|L) or (M^C|L) will happen:\n",
    "     - P(M | L) + P(M^C | L) = 1\n",
    "\n"
   ]
  },
  {
   "cell_type": "markdown",
   "id": "0fac3739",
   "metadata": {
    "papermill": {
     "duration": 0.056512,
     "end_time": "2022-05-02T16:36:44.560511",
     "exception": false,
     "start_time": "2022-05-02T16:36:44.503999",
     "status": "completed"
    },
    "tags": []
   },
   "source": [
    "# Day 21\n",
    "dataquest-> prob and stats -> probability fundamentals -> conditional probabilities intermediate\n",
    "slide 1 and 2\n",
    "- P(A ∩ B) = P(B ∩ A)\n",
    "- multiplication rule of probability\n",
    "  -  P(A ∩ B) = P(B) ⋅ P(A | B) \n",
    "  - P(A ∩ B) = P(A) ⋅ P(B | A)\n",
    "- if P(A) and P(B) are statistically independent then \n",
    "  - P(A ∩ B) = P(A) ⋅ P(B)\n",
    "\n"
   ]
  },
  {
   "cell_type": "markdown",
   "id": "e1bdea34",
   "metadata": {
    "papermill": {
     "duration": 0.05568,
     "end_time": "2022-05-02T16:36:44.675188",
     "exception": false,
     "start_time": "2022-05-02T16:36:44.619508",
     "status": "completed"
    },
    "tags": []
   },
   "source": [
    "# Day 22\n",
    "dataquest-> prob and stats -> probability fundamentals -> conditional probabilities intermediate \n",
    "<br>slide 6\n",
    "- If events events A and B are dependent, it means the occurrence of event A changes the probability of event B and vice versa.\n",
    "   - P(A) ≠ P(A | B)\n",
    "   - P(B) ≠ P(B | A)\n",
    "   - P(A ∩ B) ≠ P(A) ⋅ P(B)\n",
    "   - formula will become P(A ∩ B) ≠ P(A) ⋅ P(B/A)\n",
    "   "
   ]
  },
  {
   "cell_type": "markdown",
   "id": "fc7fec33",
   "metadata": {
    "papermill": {
     "duration": 0.056537,
     "end_time": "2022-05-02T16:36:44.788191",
     "exception": false,
     "start_time": "2022-05-02T16:36:44.731654",
     "status": "completed"
    },
    "tags": []
   },
   "source": [
    "# Day 23\n",
    "dataquest-> prob and stats -> probability fundamentals -> conditional probabilities intermediate\n",
    "<br>slide 7 to last\n",
    "- To find whether three events — A, B, C — are independent or not, below conditions must hold true -\n",
    "  - P(A ∩ B) ≠ P(A) ⋅ P(B)\n",
    "  - P(A ∩ C) ≠ P(A) ⋅ P(C)\n",
    "  - P(B ∩ C) ≠ P(B) ⋅ P(C)\n",
    "  - P(A ∩ B ∩ C) ≠ P(A) ⋅ P(B) . P(C)\n",
    "- multiplication rule for conditional probability or dependent events\n",
    " - P(A ∩ B ∩ C) = P(A) ⋅ P(B | A) ⋅ P(C | A ∩ B)\n",
    " \n",
    "\n"
   ]
  },
  {
   "cell_type": "markdown",
   "id": "19c38b56",
   "metadata": {
    "papermill": {
     "duration": 0.056374,
     "end_time": "2022-05-02T16:36:44.899811",
     "exception": false,
     "start_time": "2022-05-02T16:36:44.843437",
     "status": "completed"
    },
    "tags": []
   },
   "source": [
    "# Day 24\n",
    "dataquest-> prob and stats -> probability fundamentals -> bayes theorem\n",
    "<br>slide 1\n",
    "- independent -> one event is dependent on other\n",
    "   - P(A ∩ B) = P(A) ⋅ P(B/A)\n",
    "- independent -> one event is not dependent on other.\n",
    "   - P(A ∩ B) = P(A) ⋅ P(B)\n",
    "- mutually exclusive -> both the events cannot happen at the same time.\n",
    "   - P(A ∩ B) = 0\n",
    "\n"
   ]
  },
  {
   "cell_type": "markdown",
   "id": "b6bde279",
   "metadata": {
    "papermill": {
     "duration": 0.057672,
     "end_time": "2022-05-02T16:36:45.015332",
     "exception": false,
     "start_time": "2022-05-02T16:36:44.957660",
     "status": "completed"
    },
    "tags": []
   },
   "source": [
    "# Day 25\n",
    "dataquest-> prob and stats -> probability fundamentals -> bayes theorem\n",
    "<br>slide 2\n",
    "- If two events are exhaustive, it means they make up the whole sample space Ω\n",
    "  -  P(A) = P(A ∩ B) + P(A ∩ B^c)\n",
    "     P(A) = (P(B) * P(A/B)) +  (P(B^c) * P(A/B^c))\n",
    "     \n",
    "     "
   ]
  },
  {
   "cell_type": "markdown",
   "id": "32b43e98",
   "metadata": {
    "papermill": {
     "duration": 0.057027,
     "end_time": "2022-05-02T16:36:45.128769",
     "exception": false,
     "start_time": "2022-05-02T16:36:45.071742",
     "status": "completed"
    },
    "tags": []
   },
   "source": [
    "# Day 26\n",
    "dataquest-> prob and stats -> probability fundamentals -> bayes theorem\n",
    "<br>slide 3 - last\n",
    "- the law of total probability\n",
    "  - P(A)  = (P(B1) * P(A/B1)) + (P(B2) * P(A/B2))+ ... + (P(Bn) * P(A/Bn)))\n",
    "  - P(A) =(summattion i=1 to n) P(Bi) ⋅ P(A|Bi)\n",
    "- Baye's theorem\n",
    "  - P(B | A) = (P(B) ⋅ P(A | B)) / (n ∑i=1 P(Bi) ⋅ P(A | Bi))\n",
    "- The probability of being infected with HIV before doing any test is called the prior probability (\"prior\" means \"before\"). The probability of being infected with HIV after testing positive is called the posterior probability (\"posterior\" means \"after\").\n",
    "\n",
    "\n",
    "  "
   ]
  },
  {
   "cell_type": "markdown",
   "id": "3a1b0fa8",
   "metadata": {
    "papermill": {
     "duration": 0.056471,
     "end_time": "2022-05-02T16:36:45.241316",
     "exception": false,
     "start_time": "2022-05-02T16:36:45.184845",
     "status": "completed"
    },
    "tags": []
   },
   "source": [
    "# Day 27\n",
    "dataquest-> prob and stats -> probability fundamentals -> naive bayes theorem\n",
    "<br>slide 1 - \n",
    "P(Spam|w1,w2,w3,w4)∝P(Spam)⋅P(w1|Spam)⋅P(w2|Spam)⋅P(w3|Spam)⋅P(w4|Spam)P(SpamC|w1,w2,w3,w4)∝P(SpamC)⋅P(w1|SpamC)⋅P(w2|SpamC)⋅P(w3|SpamC)⋅P(w4|SpamC)"
   ]
  },
  {
   "cell_type": "markdown",
   "id": "4c5cd5fd",
   "metadata": {
    "papermill": {
     "duration": 0.055561,
     "end_time": "2022-05-02T16:36:45.352869",
     "exception": false,
     "start_time": "2022-05-02T16:36:45.297308",
     "status": "completed"
    },
    "tags": []
   },
   "source": [
    "# Day 28\n",
    "dataquest-> prob and stats -> probability fundamentals -> naive bayes theorem\n",
    "<br>finished.\n",
    "<br>**Summary**\n",
    "- P(Spam|w1,w2,...,wn)∝P(Spam)⋅n∏i=1P(wi|Spam)\n",
    "- P(SpamC|w1,w2,...,wn)∝P(SpamC)⋅n∏i=1P(wi|SpamC)\n",
    "- To calculate P(wi|Spam) and P(wi|SpamC), we need to use the additive smoothing technique: \n",
    "- P ( w i | S p a m ) = (N w i | S p a m + α) / ( N S p a m + α ⋅ N V o c a b u l a r y )\n",
    "- P ( w i | S p a m C ) = (N w i | S p a m C + α) / ( N S p a m C + α ⋅ N V o c a b u l a r y )\n",
    "     - N w i | S p a m = the number of times the word w i occurs in spam messages \n",
    "     - N w i | S p a m C = the number of times the word w i occurs in non-spam messages \n",
    "     - N S p a m = total number of words in spam messages \n",
    "     - N S p a m C = total number of words in non-spam messages \n",
    "     - N V o c a b u l a r y = total number of words in the vocabulary \n",
    "     - α = 1 ( α is a smoothing parameter )\n",
    " - naive bayes theorem assumes that events are not dependent.\n",
    " - The assumption of conditional independence between words is thus naive since it rarely holds in practice, and this is why the algorithm is called Naive Bayes (also called simple Bayes or independence Bayes)."
   ]
  },
  {
   "cell_type": "markdown",
   "id": "391d55b9",
   "metadata": {
    "papermill": {
     "duration": 0.058856,
     "end_time": "2022-05-02T16:36:45.467591",
     "exception": false,
     "start_time": "2022-05-02T16:36:45.408735",
     "status": "completed"
    },
    "tags": []
   },
   "source": [
    "# Day 29,30,31\n",
    "<br>dataquest-> prob and stats -> probability fundamentals -> conditional probability-> guided projects\n",
    "<br> in progress"
   ]
  },
  {
   "cell_type": "markdown",
   "id": "6be6dc53",
   "metadata": {
    "papermill": {
     "duration": 0.056407,
     "end_time": "2022-05-02T16:36:45.581396",
     "exception": false,
     "start_time": "2022-05-02T16:36:45.524989",
     "status": "completed"
    },
    "tags": []
   },
   "source": [
    "# Day 32 and 33\n",
    "<br>dataquest-> prob and stats -> probability fundamentals -> guided projects\n",
    "<br> done"
   ]
  },
  {
   "cell_type": "markdown",
   "id": "d159e19e",
   "metadata": {
    "papermill": {
     "duration": 0.056684,
     "end_time": "2022-05-02T16:36:45.695499",
     "exception": false,
     "start_time": "2022-05-02T16:36:45.638815",
     "status": "completed"
    },
    "tags": []
   },
   "source": [
    "# Day 34\n",
    "<br>dataquest-> prob and stats -> probability fundamentals -> guided projects-> lottery prediction\n",
    "<br> done"
   ]
  },
  {
   "cell_type": "markdown",
   "id": "9db7cbd3",
   "metadata": {
    "papermill": {
     "duration": 0.057455,
     "end_time": "2022-05-02T16:36:45.809252",
     "exception": false,
     "start_time": "2022-05-02T16:36:45.751797",
     "status": "completed"
    },
    "tags": []
   },
   "source": [
    "# Day 35\n",
    "<br>dataquest-> prob and stats -> hypothesis testing fundamentals -> significance testing\n",
    "<br> till slide 4\n",
    "- null hypothesis\n",
    "- alternate hypothesis\n"
   ]
  },
  {
   "cell_type": "markdown",
   "id": "5e7ceda9",
   "metadata": {
    "papermill": {
     "duration": 0.05454,
     "end_time": "2022-05-02T16:36:45.918938",
     "exception": false,
     "start_time": "2022-05-02T16:36:45.864398",
     "status": "completed"
    },
    "tags": []
   },
   "source": [
    "# Day 36 and 37\n",
    "<br>dataquest-> prob and stats -> hypothesis testing fundamentals -> significance testing\n",
    "- The permutation test is a statistical test that involves rerunning the study many times and recalculating the test statistic for each iteration. The goal is to calculate a distribution of the test statistics over these many iterations. This distribution is called the sampling distribution and it approximates the full range of possible test statistics under the null hypothesis\n",
    "\n"
   ]
  },
  {
   "cell_type": "markdown",
   "id": "d618c2cd",
   "metadata": {
    "papermill": {
     "duration": 0.057579,
     "end_time": "2022-05-02T16:36:46.032976",
     "exception": false,
     "start_time": "2022-05-02T16:36:45.975397",
     "status": "completed"
    },
    "tags": []
   },
   "source": [
    "# Day 38\n",
    "<br>dataquest-> prob and stats -> hypothesis testing fundamentals -> significance testing\n",
    "<br>in progress."
   ]
  },
  {
   "cell_type": "markdown",
   "id": "b68e31c7",
   "metadata": {
    "papermill": {
     "duration": 0.055806,
     "end_time": "2022-05-02T16:36:46.144965",
     "exception": false,
     "start_time": "2022-05-02T16:36:46.089159",
     "status": "completed"
    },
    "tags": []
   },
   "source": [
    "# Day 39\n",
    "<br>dataquest-> prob and stats -> hypothesis testing fundamentals -> significance testing\n",
    "<br>slide 5-6"
   ]
  },
  {
   "cell_type": "markdown",
   "id": "dd5f2c64",
   "metadata": {
    "papermill": {
     "duration": 0.057048,
     "end_time": "2022-05-02T16:36:46.257609",
     "exception": false,
     "start_time": "2022-05-02T16:36:46.200561",
     "status": "completed"
    },
    "tags": []
   },
   "source": [
    "# Day 40\n",
    "<br>dataquest-> prob and stats -> hypothesis testing fundamentals -> significance testing\n",
    "<br>slide 7"
   ]
  },
  {
   "cell_type": "markdown",
   "id": "75238155",
   "metadata": {
    "papermill": {
     "duration": 0.055803,
     "end_time": "2022-05-02T16:36:46.370447",
     "exception": false,
     "start_time": "2022-05-02T16:36:46.314644",
     "status": "completed"
    },
    "tags": []
   },
   "source": [
    "# Day 41 and 42\n",
    "<br>dataquest-> prob and stats -> hypothesis testing fundamentals -> significance testing\n",
    "<br>slide 7 done and 8(p-value) strated"
   ]
  },
  {
   "cell_type": "markdown",
   "id": "f5ab38b8",
   "metadata": {
    "papermill": {
     "duration": 0.054879,
     "end_time": "2022-05-02T16:36:46.481194",
     "exception": false,
     "start_time": "2022-05-02T16:36:46.426315",
     "status": "completed"
    },
    "tags": []
   },
   "source": [
    "# Day 43\n",
    "<br>dataquest-> prob and stats -> hypothesis testing fundamentals -> significance testing\n",
    "<br>\n",
    "- The first step is to decide a test statistic, which is a numerical value that summarizes the data and one we can use in statistical formulas. The test statistic runs a statistical test that determines whether the difference between the groups was due to random chance.\n",
    "  - e.x: mean \n",
    "- The permutation test is a statistical test that involves rerunning the study many times and recalculating the test statistic for each iteration.\n",
    "   - The goal is to calculate a distribution of the test statistics over these many iterations. This distribution is called the sampling distribution and it approximates the full range of possible test statistics under the null hypothesis.\n",
    "- If the p value is less than the threshold, we:\n",
    "    - reject the null hypothesis that there's no difference in the mean amount of weight lost by participants in both groups; and\n",
    "    - conclude that there is some evidence that the weight loss pill does affect the amount of weight people lost.\n",
    "\n",
    "- If the p value is greater than the threshold, we:\n",
    "    - fail to reject the null hypothesis that there's no difference in the mean amount of weight lost by participants in both groups,\n",
    "    - conclude that the weight loss pill doesn't seem to be effective in helping people lose weight.\n",
    "- usually used p-value threshold is 0.05\n",
    "- The p value threshold you set can also affect the conclusion you reach.\n",
    "    - If you set too high of a p value threshold, you may reject the null hypothesis incorrectly. This is known as a type I error.\n",
    "    - If you set too low of a p value threshold, you may fail to reject the null hypothesis incorrectly. This is known as a type II error."
   ]
  },
  {
   "cell_type": "markdown",
   "id": "9659be2a",
   "metadata": {
    "papermill": {
     "duration": 0.054189,
     "end_time": "2022-05-02T16:36:46.590592",
     "exception": false,
     "start_time": "2022-05-02T16:36:46.536403",
     "status": "completed"
    },
    "tags": []
   },
   "source": [
    "# Day 44\n",
    "<br>dataquest-> prob and stats -> hypothesis testing fundamentals -> significance testing-> chi squared test\n",
    "<br>1- 4\n",
    "- chi squared test is used for numerical values"
   ]
  },
  {
   "cell_type": "markdown",
   "id": "bc52c5de",
   "metadata": {
    "papermill": {
     "duration": 0.054562,
     "end_time": "2022-05-02T16:36:46.700895",
     "exception": false,
     "start_time": "2022-05-02T16:36:46.646333",
     "status": "completed"
    },
    "tags": []
   },
   "source": [
    "# Day 45 and 46\n",
    "<br>dataquest-> prob and stats -> hypothesis testing fundamentals -> significance testing-> chi squared test\n",
    "<br>4- 6"
   ]
  },
  {
   "cell_type": "markdown",
   "id": "9e9bc681",
   "metadata": {
    "papermill": {
     "duration": 0.057831,
     "end_time": "2022-05-02T16:36:46.815811",
     "exception": false,
     "start_time": "2022-05-02T16:36:46.757980",
     "status": "completed"
    },
    "tags": []
   },
   "source": [
    "# Day 47\n",
    "<br>dataquest-> prob and stats -> hypothesis testing fundamentals -> significance testing-> chi squared test\n",
    "<br> slide 6 done"
   ]
  },
  {
   "cell_type": "markdown",
   "id": "46fe0672",
   "metadata": {
    "papermill": {
     "duration": 0.055084,
     "end_time": "2022-05-02T16:36:46.927909",
     "exception": false,
     "start_time": "2022-05-02T16:36:46.872825",
     "status": "completed"
    },
    "tags": []
   },
   "source": [
    "# Day 48\n",
    "<br> chi-squared values is that they get smaller as the sample size decreases.\n",
    "<br>**conclusion**\n",
    "- The chi-squared test enables us to quantify the difference between sets of observed and expected categorical values to determine statistical significance\n",
    "- chi squared = (observed - expected)**2 / expected\n",
    "- A p-value allows us to determine whether the difference between 2 values is due to chance, or due to an underlying difference.\n",
    "- Chi-squared values increase as sample size increases, but the chance of getting a high chi-squared value decreases as the sample gets larger.\n",
    "- A degree of freedom is the number of values that can vary without the other values being\"locked in\". \n",
    "- scipy https://docs.scipy.org/doc/scipy/reference/generated/scipy.stats.mstats.chisquare.html\n"
   ]
  },
  {
   "cell_type": "markdown",
   "id": "959e072d",
   "metadata": {
    "papermill": {
     "duration": 0.054294,
     "end_time": "2022-05-02T16:36:47.037680",
     "exception": false,
     "start_time": "2022-05-02T16:36:46.983386",
     "status": "completed"
    },
    "tags": []
   },
   "source": [
    "# Day 49\n",
    "<br>dataquest-> prob and stats -> hypothesis testing fundamentals -> significance testing-> multi category chi squared test\n",
    "<br> slide 1 done\n",
    "- We can apply the multi category chi-squared test (also known as the chi-squared test of association) to figure out if there's a statistically significant correlation between two categorical columns.\n",
    "- "
   ]
  },
  {
   "cell_type": "markdown",
   "id": "58086b47",
   "metadata": {
    "papermill": {
     "duration": 0.053802,
     "end_time": "2022-05-02T16:36:47.145799",
     "exception": false,
     "start_time": "2022-05-02T16:36:47.091997",
     "status": "completed"
    },
    "tags": []
   },
   "source": [
    " **Day 50**\n",
    "<br>dataquest-> prob and stats -> hypothesis testing fundamentals -> significance testing-> multi category chi squared test\n",
    "# Conclusion:\n",
    "- In a multiple category chi-squared test, we calculate expected values across our whole dataset.\n",
    "- We can calculate the chi-squared value by using the following steps:\n",
    "    - Subtract the expected value from the observed value.\n",
    "    - Subtract the difference.\n",
    "    - Divide the squared difference by the expected value.\n",
    "    - Repeat for all observed and expected values and add up all the values.\n",
    "- ∑ expected(observed−expected)**2 / expected\n",
    "- Discovering that a result isn't significant doesn't mean that no association between the columnsexists. Discovering a statistically significant result doesn't imply anything about what thecorrelation is.\n",
    "- Chi-squared tests can only be applied when each possibility within a category is independen.\n",
    "    - we have categories like male or female not both. single row has either male or female not both at a time.\n",
    "- https://docs.scipy.org/doc/scipy-0.15.1/reference/generated/scipy.stats.chi2_contingency.html\n",
    "- https://pandas.pydata.org/pandas-docs/stable/generated/pandas.crosstab.html\n"
   ]
  },
  {
   "cell_type": "markdown",
   "id": "0f5c9448",
   "metadata": {
    "papermill": {
     "duration": 0.055128,
     "end_time": "2022-05-02T16:36:47.256120",
     "exception": false,
     "start_time": "2022-05-02T16:36:47.200992",
     "status": "completed"
    },
    "tags": []
   },
   "source": [
    "# **Day 51, 52**\n",
    "<br>dataquest-> prob and stats -> hypothesis testing fundamentals -> significance testing-> guided project\n",
    "<br>in progress."
   ]
  },
  {
   "cell_type": "code",
   "execution_count": null,
   "id": "b8292f40",
   "metadata": {
    "papermill": {
     "duration": 0.054856,
     "end_time": "2022-05-02T16:36:47.365996",
     "exception": false,
     "start_time": "2022-05-02T16:36:47.311140",
     "status": "completed"
    },
    "tags": []
   },
   "outputs": [],
   "source": []
  },
  {
   "cell_type": "code",
   "execution_count": 2,
   "id": "3c31b918",
   "metadata": {
    "execution": {
     "iopub.execute_input": "2022-05-02T16:36:47.492797Z",
     "iopub.status.busy": "2022-05-02T16:36:47.492244Z",
     "iopub.status.idle": "2022-05-02T16:36:47.495466Z",
     "shell.execute_reply": "2022-05-02T16:36:47.494840Z",
     "shell.execute_reply.started": "2022-04-12T14:17:49.333113Z"
    },
    "papermill": {
     "duration": 0.073785,
     "end_time": "2022-05-02T16:36:47.495581",
     "exception": false,
     "start_time": "2022-05-02T16:36:47.421796",
     "status": "completed"
    },
    "tags": []
   },
   "outputs": [],
   "source": [
    "# !pip install PyMuPDF"
   ]
  },
  {
   "cell_type": "code",
   "execution_count": 3,
   "id": "16d04667",
   "metadata": {
    "execution": {
     "iopub.execute_input": "2022-05-02T16:36:47.617297Z",
     "iopub.status.busy": "2022-05-02T16:36:47.615595Z",
     "iopub.status.idle": "2022-05-02T16:36:47.620426Z",
     "shell.execute_reply": "2022-05-02T16:36:47.620822Z",
     "shell.execute_reply.started": "2022-04-12T14:19:20.437905Z"
    },
    "papermill": {
     "duration": 0.067239,
     "end_time": "2022-05-02T16:36:47.620995",
     "exception": false,
     "start_time": "2022-05-02T16:36:47.553756",
     "status": "completed"
    },
    "tags": []
   },
   "outputs": [],
   "source": [
    " \n",
    "# fitz.__version__"
   ]
  },
  {
   "cell_type": "code",
   "execution_count": 4,
   "id": "3ffc8c02",
   "metadata": {
    "execution": {
     "iopub.execute_input": "2022-05-02T16:36:47.744938Z",
     "iopub.status.busy": "2022-05-02T16:36:47.744215Z",
     "iopub.status.idle": "2022-05-02T16:36:47.745776Z",
     "shell.execute_reply": "2022-05-02T16:36:47.746450Z",
     "shell.execute_reply.started": "2022-04-12T14:23:59.687259Z"
    },
    "papermill": {
     "duration": 0.065819,
     "end_time": "2022-05-02T16:36:47.746611",
     "exception": false,
     "start_time": "2022-05-02T16:36:47.680792",
     "status": "completed"
    },
    "tags": []
   },
   "outputs": [],
   "source": [
    "# !python -m spacy download en_core_web_sm"
   ]
  },
  {
   "cell_type": "code",
   "execution_count": null,
   "id": "ce646229",
   "metadata": {
    "papermill": {
     "duration": 0.089397,
     "end_time": "2022-05-02T16:36:47.926781",
     "exception": false,
     "start_time": "2022-05-02T16:36:47.837384",
     "status": "completed"
    },
    "tags": []
   },
   "outputs": [],
   "source": []
  },
  {
   "cell_type": "code",
   "execution_count": 5,
   "id": "cfbc07e2",
   "metadata": {
    "execution": {
     "iopub.execute_input": "2022-05-02T16:36:48.109462Z",
     "iopub.status.busy": "2022-05-02T16:36:48.108752Z",
     "iopub.status.idle": "2022-05-02T16:36:48.112393Z",
     "shell.execute_reply": "2022-05-02T16:36:48.112865Z",
     "shell.execute_reply.started": "2022-04-12T14:18:25.912243Z"
    },
    "papermill": {
     "duration": 0.096478,
     "end_time": "2022-05-02T16:36:48.113016",
     "exception": false,
     "start_time": "2022-05-02T16:36:48.016538",
     "status": "completed"
    },
    "tags": []
   },
   "outputs": [],
   "source": [
    "# import fitz\n",
    "# import spacy\n",
    "# import re\n",
    "# from pathlib import Path\n",
    "# import requests\n",
    "# import os"
   ]
  },
  {
   "cell_type": "code",
   "execution_count": 6,
   "id": "949cac12",
   "metadata": {
    "execution": {
     "iopub.execute_input": "2022-05-02T16:36:48.231011Z",
     "iopub.status.busy": "2022-05-02T16:36:48.230034Z",
     "iopub.status.idle": "2022-05-02T16:36:48.234482Z",
     "shell.execute_reply": "2022-05-02T16:36:48.233971Z",
     "shell.execute_reply.started": "2022-04-12T15:03:43.5897Z"
    },
    "papermill": {
     "duration": 0.064289,
     "end_time": "2022-05-02T16:36:48.234615",
     "exception": false,
     "start_time": "2022-05-02T16:36:48.170326",
     "status": "completed"
    },
    "tags": []
   },
   "outputs": [],
   "source": [
    "# sql_db_json = [\n",
    "#   {\n",
    "#     \"document_id\": \"1\",\n",
    "#     \"area\": \"[72.1149,661.2966,131.95729,675.1716]\",\n",
    "#     \"page\": \"3\",\n",
    "#     \"text_\": \"Background\",\n",
    "#     \"type_of_selection\": \"Text\",\n",
    "#     \"entity_type\": \"name\",\n",
    "#     \"link\": \"https://redactable-devox-stage.s3.us-east-2.amazonaws.com/tenants/41d9e109-693b-444c-aa18-e5891bc6550b/original/1a7c0e5d-3237-4ca9-9e3d-89e707245ac6/D8communications.pdf\"\n",
    "#   },\n",
    "#   {\n",
    "#     \"document_id\": \"1\",\n",
    "#     \"area\": \"[290.55386,632.0173,322.14685,645.8923]\",\n",
    "#     \"page\": \"2\",\n",
    "#     \"text_\": \"INDEX\",\n",
    "#     \"type_of_selection\": \"Text\",\n",
    "#     \"entity_type\": \"address\",\n",
    "#     \"link\": \"https://redactable-devox-stage.s3.us-east-2.amazonaws.com/tenants/41d9e109-693b-444c-aa18-e5891bc6550b/original/1a7c0e5d-3237-4ca9-9e3d-89e707245ac6/D8communications.pdf\"\n",
    "#   }\n",
    "# ]"
   ]
  },
  {
   "cell_type": "code",
   "execution_count": 7,
   "id": "c8281d78",
   "metadata": {
    "execution": {
     "iopub.execute_input": "2022-05-02T16:36:48.363316Z",
     "iopub.status.busy": "2022-05-02T16:36:48.362346Z",
     "iopub.status.idle": "2022-05-02T16:36:48.366417Z",
     "shell.execute_reply": "2022-05-02T16:36:48.366866Z",
     "shell.execute_reply.started": "2022-04-12T13:17:19.452695Z"
    },
    "papermill": {
     "duration": 0.073153,
     "end_time": "2022-05-02T16:36:48.367024",
     "exception": false,
     "start_time": "2022-05-02T16:36:48.293871",
     "status": "completed"
    },
    "tags": []
   },
   "outputs": [],
   "source": [
    "# l=pd.DataFrame()\n",
    "# k=(1, '[290.55386,632.0173,322.14685,645.8923]', 2, 'INDEX', 'Text', 'address', 'https://redactable-devox-s')\n",
    "# k\n"
   ]
  },
  {
   "cell_type": "code",
   "execution_count": 8,
   "id": "135eab88",
   "metadata": {
    "execution": {
     "iopub.execute_input": "2022-05-02T16:36:48.495115Z",
     "iopub.status.busy": "2022-05-02T16:36:48.493099Z",
     "iopub.status.idle": "2022-05-02T16:36:48.496322Z",
     "shell.execute_reply": "2022-05-02T16:36:48.496936Z",
     "shell.execute_reply.started": "2022-04-12T16:09:33.708631Z"
    },
    "papermill": {
     "duration": 0.071554,
     "end_time": "2022-05-02T16:36:48.497115",
     "exception": false,
     "start_time": "2022-05-02T16:36:48.425561",
     "status": "completed"
    },
    "tags": []
   },
   "outputs": [],
   "source": [
    "# co=[\"document_id\",\"area\",\"page\",\"text_\",\"type_of_selection\",\"entity_type\",\"link\"]\n",
    "# val= [(1,'[72.1149,661.2966,131.95729,675.1716]',3,'Background','Text','name' ,'https://redactable-devox-stage.s3.us-east-2.am'), (1,  '[290.55386,632.0173,322.14685,645.8923]',2,'INDEX', 'Text','address','https://redactable-devox-stage.s3.us-east-2.am')]\n",
    "\n",
    "# df=pd.DataFrame(val,columns=[co])\n",
    "# #df.iloc[1] =[1,  '[290.55386,632.0173,322.14685,645.8923]',2,'INDEX', 'Text','address','https://redactable-devox-stage.s3.us-east-2.am']\n",
    "# df"
   ]
  },
  {
   "cell_type": "code",
   "execution_count": 9,
   "id": "34458ba3",
   "metadata": {
    "execution": {
     "iopub.execute_input": "2022-05-02T16:36:48.685904Z",
     "iopub.status.busy": "2022-05-02T16:36:48.685225Z",
     "iopub.status.idle": "2022-05-02T16:36:48.689158Z",
     "shell.execute_reply": "2022-05-02T16:36:48.689652Z",
     "shell.execute_reply.started": "2022-04-12T16:18:22.595374Z"
    },
    "papermill": {
     "duration": 0.098588,
     "end_time": "2022-05-02T16:36:48.689825",
     "exception": false,
     "start_time": "2022-05-02T16:36:48.591237",
     "status": "completed"
    },
    "tags": []
   },
   "outputs": [],
   "source": [
    "# prev=[]\n",
    "# for data,row in df.iterrows():\n",
    "#     if row['document_id'] not in prev:\n",
    "#         prev.append(row['document_id'])\n",
    "#         print('hey')"
   ]
  },
  {
   "cell_type": "code",
   "execution_count": 10,
   "id": "4b086da7",
   "metadata": {
    "execution": {
     "iopub.execute_input": "2022-05-02T16:36:48.870877Z",
     "iopub.status.busy": "2022-05-02T16:36:48.870123Z",
     "iopub.status.idle": "2022-05-02T16:36:48.878176Z",
     "shell.execute_reply": "2022-05-02T16:36:48.878769Z",
     "shell.execute_reply.started": "2022-04-12T15:03:48.248836Z"
    },
    "papermill": {
     "duration": 0.101215,
     "end_time": "2022-05-02T16:36:48.879229",
     "exception": false,
     "start_time": "2022-05-02T16:36:48.778014",
     "status": "completed"
    },
    "tags": []
   },
   "outputs": [],
   "source": [
    "# nlp = spacy.load('en_core_web_sm')\n",
    "# train_data = []\n",
    "\n",
    "# prev_doc_id = ''\n",
    "# i=0\n",
    "# temp='/kaggle/working'\n",
    "\n",
    "# for data in sql_db_json:\n",
    "#     if data['type_of_selection'] == 'Text':\n",
    "#         document_id = data['document_id']\n",
    "#         x1,y1,x2,y2 = data['area'][1:-1].split(',')\n",
    "#         url = data['link']\n",
    "#         page_no = int(data['page']) - 1 \n",
    "#         label = data['entity_type']\n",
    "#         filename = url.split('/')[-1]\n",
    "    \n",
    "#         #download the file to temp folder\n",
    "#         outpath = os.path.join(temp,filename)\n",
    "\n",
    "#         if document_id == prev_doc_id:\n",
    "#             pass\n",
    "#         else: \n",
    "#             i+=1\n",
    "#             print(i)\n",
    "#             response = requests.get(url)\n",
    "#             with open(outpath, \"wb\") as binary_file:\n",
    "#                 binary_file.write(response.content)\n",
    "\n",
    "#         doc = fitz.open(outpath)  # any supported document type\n",
    "#         page = doc[page_no]  # we want text from this page\n",
    "#         print('page dimension - ', page.rect.width, page.rect.height)\n",
    "\n",
    "#         #The co-ordinates in the DB are image co-ords. W.r.t pdf, y1 and y2 has to be interchanged.\n",
    "#         #To ensure entire word to be selected, slight correction in x1,y1,x2,y2 is done.\n",
    "\n",
    "#         rect = [float(x1)-2, 792 - float(y2)-2, float(x2)+2, 792 - float(y1)+2]\n",
    "#         print(rect)\n",
    "#         labelled_text = page.get_textbox(rect)\n",
    "\n",
    "#         #Removing all unprintable characters from the text\n",
    "#         string = re.sub('[^0-9a-zA-Z@?|\\/<>.,()&^%$#!]+', ' ', labelled_text)\n",
    "#         print('string : ', string)\n",
    "\n",
    "#         fulltext = page.get_text()\n",
    "#         doc = nlp(fulltext)\n",
    "\n",
    "#         sentences = []\n",
    "#         for sent in doc.sents:\n",
    "#             if string.strip() in sent.text:\n",
    "#                 text = re.sub('[^0-9a-zA-Z@?|\\/<>.,()&^%$#!]+', ' ', sent.text)\n",
    "\n",
    "#         res = re.search(string.strip(), text)\n",
    "\n",
    "#         entities = []\n",
    "#         entities.append((res.start(),res.end(),label))\n",
    "\n",
    "#         train_data.append((text,{'entities':entities}))\n",
    "\n",
    "# print('Training data in spacy format')\n",
    "# print('*****************************')\n",
    "# for i in range(0,len(train_data)):\n",
    "#     print(train_data[i])"
   ]
  },
  {
   "cell_type": "code",
   "execution_count": null,
   "id": "f8a6a21d",
   "metadata": {
    "papermill": {
     "duration": 0.087061,
     "end_time": "2022-05-02T16:36:49.058941",
     "exception": false,
     "start_time": "2022-05-02T16:36:48.971880",
     "status": "completed"
    },
    "tags": []
   },
   "outputs": [],
   "source": []
  },
  {
   "cell_type": "code",
   "execution_count": 11,
   "id": "cd8f3089",
   "metadata": {
    "execution": {
     "iopub.execute_input": "2022-05-02T16:36:49.236520Z",
     "iopub.status.busy": "2022-05-02T16:36:49.235778Z",
     "iopub.status.idle": "2022-05-02T16:36:49.240185Z",
     "shell.execute_reply": "2022-05-02T16:36:49.240779Z",
     "shell.execute_reply.started": "2022-04-12T11:44:59.253637Z"
    },
    "papermill": {
     "duration": 0.094384,
     "end_time": "2022-05-02T16:36:49.240980",
     "exception": false,
     "start_time": "2022-05-02T16:36:49.146596",
     "status": "completed"
    },
    "tags": []
   },
   "outputs": [],
   "source": [
    "# nlp = spacy.load('en_core_web_sm')\n",
    "# train_data = []\n",
    "\n",
    "# prev_doc_id = ''\n",
    "# temp='/kaggle/working'\n",
    "# i=0\n",
    "# for data in sql_db_json:\n",
    "#     if data['type_of_selection'] == 'Text':\n",
    "#         document_id = data['document_id']\n",
    "#         x1,y1,x2,y2 = data['area'][1:-1].split(',')\n",
    "#         url = data['link']\n",
    "#         page_no = int(data['page']) - 1 \n",
    "#         label = data['entity_type']\n",
    "#         filename = url.split('/')[-1]\n",
    "    \n",
    "#         #download the file to temp folder\n",
    "#         i+=1\n",
    "#         print(i)\n",
    "#         response = requests.get(url)\n",
    "#         doc = fitz.open(stream=response.content,filetype=\"pdf\")  # any supported document type\n",
    "#         page = doc[page_no]  # we want text from this page\n",
    "#         print('page dimension - ', page.rect.width, page.rect.height)\n",
    "\n",
    "#         #The co-ordinates in the DB are image co-ords. W.r.t pdf, y1 and y2 has to be interchanged.\n",
    "#         #To ensure entire word to be selected, slight correction in x1,y1,x2,y2 is done.\n",
    "\n",
    "#         rect = [float(x1)-2, 792 - float(y2)-2, float(x2)+2, 792 - float(y1)+2]\n",
    "#         print(rect)\n",
    "#         labelled_text = page.get_textbox(rect)\n",
    "\n",
    "#         #Removing all unprintable characters from the text\n",
    "#         string = re.sub('[^0-9a-zA-Z@?|\\/<>.,()&^%$#!]+', ' ', labelled_text)\n",
    "#         print('string : ', string)\n",
    "\n",
    "#         fulltext = page.get_text()\n",
    "#         doc = nlp(fulltext)\n",
    "\n",
    "#         sentences = []\n",
    "#         for sent in doc.sents:\n",
    "#             if string.strip() in sent.text:\n",
    "#                 text = re.sub('[^0-9a-zA-Z@?|\\/<>.,()&^%$#!]+', ' ', sent.text)\n",
    "\n",
    "#         res = re.search(string.strip(), text)\n",
    "\n",
    "#         entities = []\n",
    "#         entities.append((res.start(),res.end(),label))\n",
    "\n",
    "#         train_data.append((text,{'entities':entities}))\n",
    "\n",
    "# print('Training data in spacy format')\n",
    "# print('*****************************')\n",
    "# for i in range(0,len(train_data)):\n",
    "#     print(train_data[i])"
   ]
  },
  {
   "cell_type": "code",
   "execution_count": 12,
   "id": "22c70833",
   "metadata": {
    "execution": {
     "iopub.execute_input": "2022-05-02T16:36:49.425231Z",
     "iopub.status.busy": "2022-05-02T16:36:49.424532Z",
     "iopub.status.idle": "2022-05-02T16:36:49.428228Z",
     "shell.execute_reply": "2022-05-02T16:36:49.427630Z"
    },
    "papermill": {
     "duration": 0.098722,
     "end_time": "2022-05-02T16:36:49.428404",
     "exception": false,
     "start_time": "2022-05-02T16:36:49.329682",
     "status": "completed"
    },
    "tags": []
   },
   "outputs": [],
   "source": [
    "# page dimension -  612.0 792.0\n",
    "# [70.1149, 114.82839999999999, 133.95729, 132.7034]\n",
    "# string :  Background\n",
    "# page dimension -  612.0 792.0\n",
    "# [288.55386, 144.10770000000002, 324.14685, 161.98270000000002]\n",
    "# string :  INDEX\n",
    "# Training data in spacy format\n",
    "# *****************************\n",
    "# (' 3 Background The Blue Ribbon Committee was created by the Mayor to assess various city communication methods and recommend opportunities to improve communications with residents, businesses and other organizations.', {'entities': [(3, 13, 'name')]})\n",
    "# (' 2 INDEX Background Pg. 3 Purpose Pg. 3 Process .', {'entities': [(3, 8, 'address')]})"
   ]
  },
  {
   "cell_type": "code",
   "execution_count": 13,
   "id": "2086ca16",
   "metadata": {
    "execution": {
     "iopub.execute_input": "2022-05-02T16:36:49.614779Z",
     "iopub.status.busy": "2022-05-02T16:36:49.612313Z",
     "iopub.status.idle": "2022-05-02T16:36:49.618928Z",
     "shell.execute_reply": "2022-05-02T16:36:49.618306Z",
     "shell.execute_reply.started": "2022-04-11T16:35:29.609712Z"
    },
    "papermill": {
     "duration": 0.098865,
     "end_time": "2022-05-02T16:36:49.619072",
     "exception": false,
     "start_time": "2022-05-02T16:36:49.520207",
     "status": "completed"
    },
    "tags": []
   },
   "outputs": [],
   "source": [
    "# nlp = spacy.load('en_core_web_sm')\n",
    "# outpath=r'/kaggle/input/sample-pdf/D8communications.pdf'\n",
    "# doc = fitz.open(outpath)  # any supported document type\n",
    "# page_no=3\n",
    "# page = doc[page_no-1]\n",
    "\n",
    "# x1,y1,x2,y2=(72.1149,661.2966,131.95729,675.1716)\n",
    "\n",
    "# rect = [float(x1)-2, 792 - float(y2)-2, float(x2)+2, 792 - float(y1)+2]\n",
    "# print(rect)\n",
    "# labelled_text = page.get_textbox(rect)\n",
    "# string = re.sub('[^0-9a-zA-Z@?|\\/<>.,()&^%$#!]+', ' ', labelled_text)\n",
    "# print('string : ', string)\n",
    "\n",
    "# fulltext = page.get_text()\n",
    "# doc = nlp(fulltext)\n",
    "\n",
    "# sentences = []\n",
    "# for sent in doc.sents:\n",
    "#             if string.strip() in sent.text:\n",
    "#                 text = re.sub('[^0-9a-zA-Z@?|\\/<>.,()&^%$#!]+', ' ', sent.text)\n",
    "\n",
    "#         res = re.search(string.strip(), text)\n",
    "\n",
    "#         entities = []\n",
    "#         entities.append((res.start(),res.end(),label))\n",
    "\n",
    "#         train_data.append((text,{'entities':entities}))\n",
    "\n"
   ]
  },
  {
   "cell_type": "code",
   "execution_count": 14,
   "id": "1cbfb2b7",
   "metadata": {
    "execution": {
     "iopub.execute_input": "2022-05-02T16:36:49.808835Z",
     "iopub.status.busy": "2022-05-02T16:36:49.807959Z",
     "iopub.status.idle": "2022-05-02T16:36:49.811605Z",
     "shell.execute_reply": "2022-05-02T16:36:49.812247Z",
     "shell.execute_reply.started": "2022-04-11T16:35:41.679947Z"
    },
    "papermill": {
     "duration": 0.10225,
     "end_time": "2022-05-02T16:36:49.812520",
     "exception": false,
     "start_time": "2022-05-02T16:36:49.710270",
     "status": "completed"
    },
    "tags": []
   },
   "outputs": [],
   "source": [
    "#doc"
   ]
  },
  {
   "cell_type": "code",
   "execution_count": 15,
   "id": "e439586a",
   "metadata": {
    "execution": {
     "iopub.execute_input": "2022-05-02T16:36:49.994308Z",
     "iopub.status.busy": "2022-05-02T16:36:49.993580Z",
     "iopub.status.idle": "2022-05-02T16:36:49.997879Z",
     "shell.execute_reply": "2022-05-02T16:36:49.998491Z",
     "shell.execute_reply.started": "2022-04-11T16:35:56.010353Z"
    },
    "papermill": {
     "duration": 0.096915,
     "end_time": "2022-05-02T16:36:49.998680",
     "exception": false,
     "start_time": "2022-05-02T16:36:49.901765",
     "status": "completed"
    },
    "tags": []
   },
   "outputs": [],
   "source": [
    "# sentences = []\n",
    "# for sent in doc.sents:\n",
    "#     if string.strip() in sent.text:\n",
    "#         text = re.sub('[^0-9a-zA-Z@?|\\/<>.,()&^%$#!]+', ' ', sent.text)"
   ]
  },
  {
   "cell_type": "code",
   "execution_count": 16,
   "id": "991ea7b5",
   "metadata": {
    "execution": {
     "iopub.execute_input": "2022-05-02T16:36:50.178826Z",
     "iopub.status.busy": "2022-05-02T16:36:50.178003Z",
     "iopub.status.idle": "2022-05-02T16:36:50.181081Z",
     "shell.execute_reply": "2022-05-02T16:36:50.180536Z",
     "shell.execute_reply.started": "2022-04-11T16:39:04.736143Z"
    },
    "papermill": {
     "duration": 0.09381,
     "end_time": "2022-05-02T16:36:50.181228",
     "exception": false,
     "start_time": "2022-05-02T16:36:50.087418",
     "status": "completed"
    },
    "tags": []
   },
   "outputs": [],
   "source": [
    "# k=nlp(\"he             kenny\")\n",
    "# for sent in k.sents:\n",
    "#     print(sent)"
   ]
  },
  {
   "cell_type": "code",
   "execution_count": 17,
   "id": "ebe5c227",
   "metadata": {
    "execution": {
     "iopub.execute_input": "2022-05-02T16:36:50.364641Z",
     "iopub.status.busy": "2022-05-02T16:36:50.363694Z",
     "iopub.status.idle": "2022-05-02T16:36:50.367435Z",
     "shell.execute_reply": "2022-05-02T16:36:50.367925Z",
     "shell.execute_reply.started": "2022-04-11T15:09:24.391421Z"
    },
    "papermill": {
     "duration": 0.097143,
     "end_time": "2022-05-02T16:36:50.368115",
     "exception": false,
     "start_time": "2022-05-02T16:36:50.270972",
     "status": "completed"
    },
    "tags": []
   },
   "outputs": [],
   "source": [
    "# text"
   ]
  },
  {
   "cell_type": "code",
   "execution_count": 18,
   "id": "bee76c5f",
   "metadata": {
    "execution": {
     "iopub.execute_input": "2022-05-02T16:36:50.492767Z",
     "iopub.status.busy": "2022-05-02T16:36:50.491997Z",
     "iopub.status.idle": "2022-05-02T16:36:50.495639Z",
     "shell.execute_reply": "2022-05-02T16:36:50.495123Z",
     "shell.execute_reply.started": "2022-04-11T15:09:31.9599Z"
    },
    "papermill": {
     "duration": 0.065755,
     "end_time": "2022-05-02T16:36:50.495750",
     "exception": false,
     "start_time": "2022-05-02T16:36:50.429995",
     "status": "completed"
    },
    "tags": []
   },
   "outputs": [],
   "source": [
    "# res = re.search(string.strip(), text)\n",
    "# res"
   ]
  },
  {
   "cell_type": "code",
   "execution_count": 19,
   "id": "18396174",
   "metadata": {
    "execution": {
     "iopub.execute_input": "2022-05-02T16:36:50.616174Z",
     "iopub.status.busy": "2022-05-02T16:36:50.614823Z",
     "iopub.status.idle": "2022-05-02T16:36:50.618905Z",
     "shell.execute_reply": "2022-05-02T16:36:50.619303Z",
     "shell.execute_reply.started": "2022-04-11T15:12:41.311242Z"
    },
    "papermill": {
     "duration": 0.064662,
     "end_time": "2022-05-02T16:36:50.619470",
     "exception": false,
     "start_time": "2022-05-02T16:36:50.554808",
     "status": "completed"
    },
    "tags": []
   },
   "outputs": [],
   "source": [
    "# entities = []\n",
    "# entities.append((res.start(),res.end(),'p'))"
   ]
  },
  {
   "cell_type": "code",
   "execution_count": 20,
   "id": "6b172e17",
   "metadata": {
    "execution": {
     "iopub.execute_input": "2022-05-02T16:36:50.745567Z",
     "iopub.status.busy": "2022-05-02T16:36:50.744876Z",
     "iopub.status.idle": "2022-05-02T16:36:50.752043Z",
     "shell.execute_reply": "2022-05-02T16:36:50.751472Z",
     "shell.execute_reply.started": "2022-04-11T15:12:52.736619Z"
    },
    "papermill": {
     "duration": 0.073361,
     "end_time": "2022-05-02T16:36:50.752201",
     "exception": false,
     "start_time": "2022-05-02T16:36:50.678840",
     "status": "completed"
    },
    "tags": []
   },
   "outputs": [],
   "source": [
    "# entities"
   ]
  },
  {
   "cell_type": "code",
   "execution_count": 21,
   "id": "cd67cdb2",
   "metadata": {
    "execution": {
     "iopub.execute_input": "2022-05-02T16:36:50.930264Z",
     "iopub.status.busy": "2022-05-02T16:36:50.929506Z",
     "iopub.status.idle": "2022-05-02T16:36:50.933470Z",
     "shell.execute_reply": "2022-05-02T16:36:50.934051Z",
     "shell.execute_reply.started": "2022-04-11T15:06:11.546217Z"
    },
    "papermill": {
     "duration": 0.095254,
     "end_time": "2022-05-02T16:36:50.934242",
     "exception": false,
     "start_time": "2022-05-02T16:36:50.838988",
     "status": "completed"
    },
    "tags": []
   },
   "outputs": [],
   "source": [
    "# text"
   ]
  },
  {
   "cell_type": "code",
   "execution_count": null,
   "id": "1a801174",
   "metadata": {
    "execution": {
     "iopub.execute_input": "2022-04-11T15:02:33.300092Z",
     "iopub.status.busy": "2022-04-11T15:02:33.299778Z",
     "iopub.status.idle": "2022-04-11T15:02:33.30711Z",
     "shell.execute_reply": "2022-04-11T15:02:33.306345Z",
     "shell.execute_reply.started": "2022-04-11T15:02:33.300061Z"
    },
    "papermill": {
     "duration": 0.091997,
     "end_time": "2022-05-02T16:36:51.115868",
     "exception": false,
     "start_time": "2022-05-02T16:36:51.023871",
     "status": "completed"
    },
    "tags": []
   },
   "outputs": [],
   "source": []
  },
  {
   "cell_type": "code",
   "execution_count": 22,
   "id": "584d73c3",
   "metadata": {
    "execution": {
     "iopub.execute_input": "2022-05-02T16:36:51.301752Z",
     "iopub.status.busy": "2022-05-02T16:36:51.301049Z",
     "iopub.status.idle": "2022-05-02T16:36:51.302496Z",
     "shell.execute_reply": "2022-05-02T16:36:51.303208Z",
     "shell.execute_reply.started": "2022-04-11T16:21:02.863037Z"
    },
    "papermill": {
     "duration": 0.095951,
     "end_time": "2022-05-02T16:36:51.303396",
     "exception": false,
     "start_time": "2022-05-02T16:36:51.207445",
     "status": "completed"
    },
    "tags": []
   },
   "outputs": [],
   "source": [
    "# import spacy\n",
    "# nlp = spacy.load('en_core_web_sm')"
   ]
  },
  {
   "cell_type": "code",
   "execution_count": 23,
   "id": "fd1658da",
   "metadata": {
    "execution": {
     "iopub.execute_input": "2022-05-02T16:36:51.484964Z",
     "iopub.status.busy": "2022-05-02T16:36:51.484153Z",
     "iopub.status.idle": "2022-05-02T16:36:51.487469Z",
     "shell.execute_reply": "2022-05-02T16:36:51.487970Z",
     "shell.execute_reply.started": "2022-04-09T12:19:47.776612Z"
    },
    "papermill": {
     "duration": 0.096001,
     "end_time": "2022-05-02T16:36:51.488160",
     "exception": false,
     "start_time": "2022-05-02T16:36:51.392159",
     "status": "completed"
    },
    "tags": []
   },
   "outputs": [],
   "source": [
    "# !pip install PyPDF2\n",
    "# import PyPDF2\n",
    "# fhandle = open(r'/kaggle/input/sample-pdf/D8communications.pdf', 'rb')\n",
    "# pdfReader = PyPDF2.PdfFileReader(fhandle)\n",
    "# pagehandle = pdfReader.getPage(4)\n",
    "# print(pagehandle.extractText())"
   ]
  },
  {
   "cell_type": "code",
   "execution_count": 24,
   "id": "2e734198",
   "metadata": {
    "execution": {
     "iopub.execute_input": "2022-05-02T16:36:51.671786Z",
     "iopub.status.busy": "2022-05-02T16:36:51.670847Z",
     "iopub.status.idle": "2022-05-02T16:36:51.677345Z",
     "shell.execute_reply": "2022-05-02T16:36:51.676609Z",
     "shell.execute_reply.started": "2022-04-09T12:25:37.701467Z"
    },
    "papermill": {
     "duration": 0.100867,
     "end_time": "2022-05-02T16:36:51.677529",
     "exception": false,
     "start_time": "2022-05-02T16:36:51.576662",
     "status": "completed"
    },
    "tags": []
   },
   "outputs": [],
   "source": [
    "# !pip install pdfplumber\n",
    "# import pdfplumber\n",
    "# with pdfplumber.open(r'/kaggle/input/sample-pdf/D8communications.pdf') as pdf:\n",
    "#     first_page = pdf.pages[3]\n",
    "#     print(first_page.extract_text())"
   ]
  },
  {
   "cell_type": "code",
   "execution_count": 25,
   "id": "8f9aa61a",
   "metadata": {
    "execution": {
     "iopub.execute_input": "2022-05-02T16:36:51.863064Z",
     "iopub.status.busy": "2022-05-02T16:36:51.862399Z",
     "iopub.status.idle": "2022-05-02T16:36:51.863693Z",
     "shell.execute_reply": "2022-05-02T16:36:51.864351Z",
     "shell.execute_reply.started": "2022-04-09T12:25:49.584635Z"
    },
    "papermill": {
     "duration": 0.09543,
     "end_time": "2022-05-02T16:36:51.864537",
     "exception": false,
     "start_time": "2022-05-02T16:36:51.769107",
     "status": "completed"
    },
    "tags": []
   },
   "outputs": [],
   "source": [
    "# !pip install pytesseract"
   ]
  },
  {
   "cell_type": "code",
   "execution_count": 26,
   "id": "014056cd",
   "metadata": {
    "execution": {
     "iopub.execute_input": "2022-05-02T16:36:52.048635Z",
     "iopub.status.busy": "2022-05-02T16:36:52.047920Z",
     "iopub.status.idle": "2022-05-02T16:36:52.050087Z",
     "shell.execute_reply": "2022-05-02T16:36:52.049582Z",
     "shell.execute_reply.started": "2022-04-09T14:49:10.656812Z"
    },
    "papermill": {
     "duration": 0.095598,
     "end_time": "2022-05-02T16:36:52.050223",
     "exception": false,
     "start_time": "2022-05-02T16:36:51.954625",
     "status": "completed"
    },
    "tags": []
   },
   "outputs": [],
   "source": [
    "# #!pip install pdf2image\n",
    "# !pip install poppler"
   ]
  },
  {
   "cell_type": "code",
   "execution_count": 27,
   "id": "a458f5b8",
   "metadata": {
    "execution": {
     "iopub.execute_input": "2022-05-02T16:36:52.229211Z",
     "iopub.status.busy": "2022-05-02T16:36:52.228437Z",
     "iopub.status.idle": "2022-05-02T16:36:52.234321Z",
     "shell.execute_reply": "2022-05-02T16:36:52.233569Z",
     "shell.execute_reply.started": "2022-04-09T14:57:24.756677Z"
    },
    "papermill": {
     "duration": 0.097685,
     "end_time": "2022-05-02T16:36:52.234512",
     "exception": false,
     "start_time": "2022-05-02T16:36:52.136827",
     "status": "completed"
    },
    "tags": []
   },
   "outputs": [],
   "source": [
    "# pdf2image.convert_from_path('/kaggle/input/sample-pdf/D8communications.pdf')"
   ]
  },
  {
   "cell_type": "code",
   "execution_count": 28,
   "id": "ea98db5c",
   "metadata": {
    "execution": {
     "iopub.execute_input": "2022-05-02T16:36:52.419733Z",
     "iopub.status.busy": "2022-05-02T16:36:52.418998Z",
     "iopub.status.idle": "2022-05-02T16:36:52.420450Z",
     "shell.execute_reply": "2022-05-02T16:36:52.420959Z",
     "shell.execute_reply.started": "2022-04-09T14:57:17.576149Z"
    },
    "papermill": {
     "duration": 0.095268,
     "end_time": "2022-05-02T16:36:52.421146",
     "exception": false,
     "start_time": "2022-05-02T16:36:52.325878",
     "status": "completed"
    },
    "tags": []
   },
   "outputs": [],
   "source": [
    "# import pdf2image\n",
    "# try:\n",
    "#     from PIL import Image\n",
    "# except ImportError:\n",
    "#     import Image\n",
    "# import pytesseract\n",
    "\n",
    "\n",
    "# def pdf_to_img(pdf_file):\n",
    "#     return pdf2image.convert_from_path(pdf_file)\n",
    "\n",
    "\n",
    "# def ocr_core(file):\n",
    "#     text = pytesseract.image_to_string(file)\n",
    "#     return text\n",
    "\n",
    "\n",
    "# def print_pages(pdf_file):\n",
    "#     images = pdf_to_img(pdf_file)\n",
    "#     for pg, img in enumerate(images):\n",
    "#         print(ocr_core(img))\n",
    "\n",
    "\n",
    "# print_pages('/kaggle/input/sample-pdf/D8communications.pdf')\n"
   ]
  },
  {
   "cell_type": "code",
   "execution_count": 29,
   "id": "c0eef54b",
   "metadata": {
    "execution": {
     "iopub.execute_input": "2022-05-02T16:36:52.601287Z",
     "iopub.status.busy": "2022-05-02T16:36:52.600625Z",
     "iopub.status.idle": "2022-05-02T16:36:52.602824Z",
     "shell.execute_reply": "2022-05-02T16:36:52.602137Z"
    },
    "papermill": {
     "duration": 0.094799,
     "end_time": "2022-05-02T16:36:52.602973",
     "exception": false,
     "start_time": "2022-05-02T16:36:52.508174",
     "status": "completed"
    },
    "tags": []
   },
   "outputs": [],
   "source": [
    "# import requests\n",
    "# import fitz\n",
    "# import io\n",
    "\n",
    "# #URL = 'https://buildmedia.readthedocs.org/media/pdf/pdfminer-docs/latest/pdfminer-docs.pdf'\n",
    "# URL = 'https://redactable-devox-stage.s3.us-east-2.amazonaws.com/tenants/41d9e109-693b-444c-aa18-e5891bc6550b/original/1a7c0e5d-3237-4ca9-9e3d-89e707245ac6/D8communications.pdf'\n",
    "\n",
    "\n",
    "# res = requests.get(URL)\n",
    "# filestream = io.BytesIO(res.content)\n",
    "# #res.content\n",
    "# filestream\n",
    "# doc = fitz.Document(stream=filestream)\n",
    "# page1 = doc.loadPage(3)\n",
    "# page1text = page1.getText(\"text\").encode(\"utf-8\").decode(\"utf-8\")\n",
    "# print(page1text)"
   ]
  },
  {
   "cell_type": "code",
   "execution_count": 30,
   "id": "8a3db210",
   "metadata": {
    "execution": {
     "iopub.execute_input": "2022-05-02T16:36:52.786903Z",
     "iopub.status.busy": "2022-05-02T16:36:52.786224Z",
     "iopub.status.idle": "2022-05-02T16:36:52.788578Z",
     "shell.execute_reply": "2022-05-02T16:36:52.787960Z",
     "shell.execute_reply.started": "2022-04-09T07:04:56.590103Z"
    },
    "papermill": {
     "duration": 0.095258,
     "end_time": "2022-05-02T16:36:52.788716",
     "exception": false,
     "start_time": "2022-05-02T16:36:52.693458",
     "status": "completed"
    },
    "tags": []
   },
   "outputs": [],
   "source": [
    "# import requests\n",
    "# import fitz\n",
    "\n",
    "# #URL = 'https://buildmedia.readthedocs.org/media/pdf/pdfminer-docs/latest/pdfminer-docs.pdf'\n",
    "# URL = 'https://redactable-devox-stage.s3.us-east-2.amazonaws.com/tenants/41d9e109-693b-444c-aa18-e5891bc6550b/original/1a7c0e5d-3237-4ca9-9e3d-89e707245ac6/D8communications.pdf'\n",
    "\n",
    "\n",
    "# res = requests.get(URL)\n",
    "# doc = fitz.open(stream=res.content,filetype=\"pdf\")\n",
    "# page1 = doc.loadPage(3)\n",
    "# page1text = page1.getText(\"text\")\n",
    "# #rect = (72.1149,661.2966,131.95729,675.1716)\n",
    "# rect=(72.10812377929688, 116.13427734375, 133.97142028808594, 146.4227294921875)\n",
    "# labelled_text = page1.get_textbox(rect)\n",
    "# print(labelled_text.strip())\n",
    "\n",
    "# fulltext = page1.get_text()\n",
    "# print(fulltext)\n",
    "# doc = nlp(fulltext)\n",
    "# sentences = []\n",
    "# for sent in doc.sents:\n",
    "#     if labelled_text in sent.text:\n",
    "#         text = sent.text\n",
    "#         print(text)\n",
    "# #print(page1text)"
   ]
  },
  {
   "cell_type": "code",
   "execution_count": 31,
   "id": "460eccaa",
   "metadata": {
    "execution": {
     "iopub.execute_input": "2022-05-02T16:36:52.970292Z",
     "iopub.status.busy": "2022-05-02T16:36:52.969632Z",
     "iopub.status.idle": "2022-05-02T16:36:52.973267Z",
     "shell.execute_reply": "2022-05-02T16:36:52.972608Z",
     "shell.execute_reply.started": "2022-04-08T16:42:57.6659Z"
    },
    "papermill": {
     "duration": 0.095472,
     "end_time": "2022-05-02T16:36:52.973452",
     "exception": false,
     "start_time": "2022-05-02T16:36:52.877980",
     "status": "completed"
    },
    "tags": []
   },
   "outputs": [],
   "source": [
    "#res.content"
   ]
  },
  {
   "cell_type": "code",
   "execution_count": 32,
   "id": "00e8c63d",
   "metadata": {
    "execution": {
     "iopub.execute_input": "2022-05-02T16:36:53.155727Z",
     "iopub.status.busy": "2022-05-02T16:36:53.155003Z",
     "iopub.status.idle": "2022-05-02T16:36:53.159060Z",
     "shell.execute_reply": "2022-05-02T16:36:53.158319Z",
     "shell.execute_reply.started": "2022-04-08T16:48:05.672392Z"
    },
    "papermill": {
     "duration": 0.098551,
     "end_time": "2022-05-02T16:36:53.159202",
     "exception": false,
     "start_time": "2022-05-02T16:36:53.060651",
     "status": "completed"
    },
    "tags": []
   },
   "outputs": [],
   "source": [
    "# import fitz\n",
    "# # mem_area=\n",
    "# # doc = fitz.open(stream=mem_area, filetype=\"pdf\")\n",
    "\n",
    "# import requests\n",
    "\n",
    "# URL = 'https://redactable-devox-stage.s3.us-east-2.amazonaws.com/tenants/41d9e109-693b-444c-aa18-e5891bc6550b/original/1a7c0e5d-3237-4ca9-9e3d-89e707245ac6/D8communications.pdf'\n",
    "\n",
    "# #res = requests.get(URL)\n",
    "# doc=fitz.open(\"/kaggle/input/sample-pdf/D8communications.pdf\")\n",
    "# #doc = fitz.open(stream=res.content,filetype=\"pdf\")\n",
    "# page1 = doc.loadPage(4)\n",
    "# # page1text = page1.getText(\"text\")\n",
    "# # print(page1text)\n",
    "# blocks = page1.getText(\"blocks\")\n",
    "# blocks.sort(key=lambda block: block[1])  # sort vertically ascending\n",
    "\n",
    "# for b in blocks:\n",
    "#     print(b[4])\n"
   ]
  },
  {
   "cell_type": "code",
   "execution_count": 33,
   "id": "fdedf2a5",
   "metadata": {
    "execution": {
     "iopub.execute_input": "2022-05-02T16:36:53.340039Z",
     "iopub.status.busy": "2022-05-02T16:36:53.339275Z",
     "iopub.status.idle": "2022-05-02T16:36:53.341896Z",
     "shell.execute_reply": "2022-05-02T16:36:53.341316Z",
     "shell.execute_reply.started": "2022-04-08T16:48:13.086323Z"
    },
    "papermill": {
     "duration": 0.093748,
     "end_time": "2022-05-02T16:36:53.342026",
     "exception": false,
     "start_time": "2022-05-02T16:36:53.248278",
     "status": "completed"
    },
    "tags": []
   },
   "outputs": [],
   "source": [
    "# # page = doc[1]\n",
    "# words = page.get_text(\"words\")\n",
    "# #print(words)\n",
    "# rect = (72.1149,661.2966,131.95729,675.1716)\n",
    "\n",
    "# labelled_text = page.get_textbox(rect)\n",
    "# # labelled_text"
   ]
  },
  {
   "cell_type": "markdown",
   "id": "3d7573bd",
   "metadata": {
    "papermill": {
     "duration": 0.085824,
     "end_time": "2022-05-02T16:36:53.513016",
     "exception": false,
     "start_time": "2022-05-02T16:36:53.427192",
     "status": "completed"
    },
    "tags": []
   },
   "source": [
    "pip install PyPDF2"
   ]
  },
  {
   "cell_type": "code",
   "execution_count": null,
   "id": "dc741f4f",
   "metadata": {
    "papermill": {
     "duration": 0.086472,
     "end_time": "2022-05-02T16:36:53.684701",
     "exception": false,
     "start_time": "2022-05-02T16:36:53.598229",
     "status": "completed"
    },
    "tags": []
   },
   "outputs": [],
   "source": []
  },
  {
   "cell_type": "code",
   "execution_count": 34,
   "id": "3449aeaa",
   "metadata": {
    "execution": {
     "iopub.execute_input": "2022-05-02T16:36:53.864891Z",
     "iopub.status.busy": "2022-05-02T16:36:53.863989Z",
     "iopub.status.idle": "2022-05-02T16:36:53.866305Z",
     "shell.execute_reply": "2022-05-02T16:36:53.865756Z",
     "shell.execute_reply.started": "2022-03-18T16:48:58.370268Z"
    },
    "papermill": {
     "duration": 0.093822,
     "end_time": "2022-05-02T16:36:53.866458",
     "exception": false,
     "start_time": "2022-05-02T16:36:53.772636",
     "status": "completed"
    },
    "tags": []
   },
   "outputs": [],
   "source": [
    "# import pandas as pd\n",
    "# h={'step': 0, 'type': 'string', 'amount': 0.0, 'nameOrig': 'C1231006815', 'oldbalanceOrig': 0.0, 'newbalanceOrig': 0.0, 'nameDest': 'M1979787155', 'oldbalanceDest': 0.0, 'newbalanceDest': 0.0}\n",
    "# df=pd.DataFrame([h])"
   ]
  },
  {
   "cell_type": "code",
   "execution_count": 35,
   "id": "653c07ab",
   "metadata": {
    "execution": {
     "iopub.execute_input": "2022-05-02T16:36:54.047285Z",
     "iopub.status.busy": "2022-05-02T16:36:54.046444Z",
     "iopub.status.idle": "2022-05-02T16:36:54.048661Z",
     "shell.execute_reply": "2022-05-02T16:36:54.048156Z",
     "shell.execute_reply.started": "2022-04-09T17:21:26.021615Z"
    },
    "papermill": {
     "duration": 0.09446,
     "end_time": "2022-05-02T16:36:54.048768",
     "exception": false,
     "start_time": "2022-05-02T16:36:53.954308",
     "status": "completed"
    },
    "tags": []
   },
   "outputs": [],
   "source": [
    "#df"
   ]
  },
  {
   "cell_type": "code",
   "execution_count": null,
   "id": "7e44d2f3",
   "metadata": {
    "papermill": {
     "duration": 0.055931,
     "end_time": "2022-05-02T16:36:54.161795",
     "exception": false,
     "start_time": "2022-05-02T16:36:54.105864",
     "status": "completed"
    },
    "tags": []
   },
   "outputs": [],
   "source": []
  }
 ],
 "metadata": {
  "kernelspec": {
   "display_name": "Python 3",
   "language": "python",
   "name": "python3"
  },
  "language_info": {
   "codemirror_mode": {
    "name": "ipython",
    "version": 3
   },
   "file_extension": ".py",
   "mimetype": "text/x-python",
   "name": "python",
   "nbconvert_exporter": "python",
   "pygments_lexer": "ipython3",
   "version": "3.7.12"
  },
  "papermill": {
   "default_parameters": {},
   "duration": 25.856252,
   "end_time": "2022-05-02T16:36:55.129126",
   "environment_variables": {},
   "exception": null,
   "input_path": "__notebook__.ipynb",
   "output_path": "__notebook__.ipynb",
   "parameters": {},
   "start_time": "2022-05-02T16:36:29.272874",
   "version": "2.3.3"
  }
 },
 "nbformat": 4,
 "nbformat_minor": 5
}
