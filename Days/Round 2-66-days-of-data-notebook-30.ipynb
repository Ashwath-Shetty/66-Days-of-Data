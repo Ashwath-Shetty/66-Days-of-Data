{
 "cells": [
  {
   "cell_type": "code",
   "execution_count": 1,
   "id": "bd06d10d",
   "metadata": {
    "_cell_guid": "b1076dfc-b9ad-4769-8c92-a6c4dae69d19",
    "_uuid": "8f2839f25d086af736a60e9eeb907d3b93b6e0e5",
    "execution": {
     "iopub.execute_input": "2022-04-10T18:00:08.761816Z",
     "iopub.status.busy": "2022-04-10T18:00:08.761186Z",
     "iopub.status.idle": "2022-04-10T18:00:08.774563Z",
     "shell.execute_reply": "2022-04-10T18:00:08.775106Z",
     "shell.execute_reply.started": "2022-04-09T04:36:18.987955Z"
    },
    "papermill": {
     "duration": 0.062301,
     "end_time": "2022-04-10T18:00:08.775398",
     "exception": false,
     "start_time": "2022-04-10T18:00:08.713097",
     "status": "completed"
    },
    "tags": []
   },
   "outputs": [
    {
     "name": "stdout",
     "output_type": "stream",
     "text": [
      "/kaggle/input/sample-pdf/D8communications.pdf\n"
     ]
    }
   ],
   "source": [
    "# This Python 3 environment comes with many helpful analytics libraries installed\n",
    "# It is defined by the kaggle/python Docker image: https://github.com/kaggle/docker-python\n",
    "# For example, here's several helpful packages to load\n",
    "\n",
    "import numpy as np # linear algebra\n",
    "import pandas as pd # data processing, CSV file I/O (e.g. pd.read_csv)\n",
    "\n",
    "# Input data files are available in the read-only \"../input/\" directory\n",
    "# For example, running this (by clicking run or pressing Shift+Enter) will list all files under the input directory\n",
    "\n",
    "import os\n",
    "for dirname, _, filenames in os.walk('/kaggle/input'):\n",
    "    for filename in filenames:\n",
    "        print(os.path.join(dirname, filename))\n",
    "\n",
    "# You can write up to 20GB to the current directory (/kaggle/working/) that gets preserved as output when you create a version using \"Save & Run All\" \n",
    "# You can also write temporary files to /kaggle/temp/, but they won't be saved outside of the current session"
   ]
  },
  {
   "cell_type": "markdown",
   "id": "bdec2690",
   "metadata": {
    "papermill": {
     "duration": 0.036639,
     "end_time": "2022-04-10T18:00:08.850890",
     "exception": false,
     "start_time": "2022-04-10T18:00:08.814251",
     "status": "completed"
    },
    "tags": []
   },
   "source": [
    "# **Start Date: 12/3/2022**"
   ]
  },
  {
   "cell_type": "markdown",
   "id": "9c53c6bc",
   "metadata": {
    "papermill": {
     "duration": 0.036712,
     "end_time": "2022-04-10T18:00:08.925791",
     "exception": false,
     "start_time": "2022-04-10T18:00:08.889079",
     "status": "completed"
    },
    "tags": []
   },
   "source": [
    "# **Day 1:** \n",
    "<br>dataquest -> stats -> probability-> estimating probability\n",
    "1. out come is nothing but o/p of an experiment\n",
    "ex: whatever u get after rolling a dice -> it can be any number\n",
    "2. event can have more than one outcome\n",
    "- e.x: The event that we'll get an odd number when we roll a six-sided die — this event includes the outcomes 1, 3, and 5.\n",
    "- an event can be 0 as well.\n",
    "- We always assign probabilities to events, not outcomes, even if the event includes only one outcome.\n",
    "- P(E) =1/total number of possible outcomes, P(E) probability of an event happening.\n",
    "- but above formula doesn't work always, especially when there are more than one outcome\n",
    "    - P(E)=number of successful outcomes/total number of possible outcomes\n",
    "- incase of a biased situation \n",
    "  - let's say a die has 6 - 3 times which is 1,6,3,5,6,6\n",
    "    we will consider 6 as 3 times not 1.\n",
    "    possible outcome-> 1,3,5,6,6,6\n",
    "    prob(6)=3/6\n",
    "    prob(3)=1/6\n",
    "    prob(2)=0/6\n",
    "    If we didn't treat each 6 differently and said it doesn't matter which side a 6 is on, \n",
    "    <br>we'd be forced to conclude the only possible outcomes are 1, 3, 5 and 6. We can definitely         <br>frame the problem like that, but the formula above won't work anymore — we see below P(6) <br>becomes the same as P(3), but, intuitively, P(6) should be higher than P(3) since the die has 6 on     <br>three of its sides:\n"
   ]
  },
  {
   "cell_type": "markdown",
   "id": "345de0b4",
   "metadata": {
    "papermill": {
     "duration": 0.037959,
     "end_time": "2022-04-10T18:00:09.003496",
     "exception": false,
     "start_time": "2022-04-10T18:00:08.965537",
     "status": "completed"
    },
    "tags": []
   },
   "source": [
    "Estimating Probabilities Conclusion\n",
    "- emperical/ experimental probability\n",
    "  - probability achieved by experimenting / by doing the same event multiple times.\n",
    "  - Generally, for any event E (like a coin landing heads up), we can find its empirical probability   \n",
    "     by using the following formula: \n",
    "     •P (E) =number of times event E happened/ number of times we repeated the experiment   \n",
    " - Generally, the empirical probability of an event (a coin landing heads up, getting a 5 when weroll a die) approaches the true probability value as the number of trials of the randomexperiment (a coin toss, the rolling of a die) increases without bound.\n",
    "- When we calculate the probability of an event under the assumption that the outcomes have equal chances of occurring, we say that we're calculating the **theoretical probability** of an event.\n",
    "   - P(E)=number of successful outcomes/total number of possible outcomes\n",
    "\n"
   ]
  },
  {
   "cell_type": "markdown",
   "id": "685fa78b",
   "metadata": {
    "papermill": {
     "duration": 0.036768,
     "end_time": "2022-04-10T18:00:09.079184",
     "exception": false,
     "start_time": "2022-04-10T18:00:09.042416",
     "status": "completed"
    },
    "tags": []
   },
   "source": [
    "# **Day 2**\n",
    "<br>dataquest-> stats -> intro to probability -> probability rules\n",
    "<br>In probability theory, the set of all possible outcomes is called a sample space. A sample space is often denoted by the capital Greek letter Ω (read \"omega\"). This is how we represent the sample space of a die roll:\n",
    "\n",
    "Ω = {1,2,3,4,5,6}\n",
    "-    The probability of any event ranges between 0 and 1: 0≤ P(Event) ≤1\n",
    "- To calculate P(A or B), we can also use the formula below, which is sometimes called the addition rule: P(A or B) = P(A) + P(B)\n",
    "  - Sample space ={ 1,2,3,4,5,6} \n",
    "  - P(2 or 5) = 2/6\n",
    "\n",
    "- P(C or D) = P(C) + P(D) - P(C and D)\n",
    "   - e.x : Sample_space ={2,4,6} + { 4,5,6} - {4/6}\n",
    "      P( even number or number greater than 3) = ( (3/6) + (3/6) )- (2/6) = 4/6\n",
    "- Events that don't intersect are called mutually exclusive.\n",
    "  - e.x: Getting a 5 (event one) and getting a 3 (event two) when we roll a regular six-sided die — it's  impossible to get both a 5 and 3.\n",
    "- Events that intersect are called mutually non-exclusive.\n",
    "  - Getting a number greater than 2 (event one) and getting an odd number (event two) when we roll a regular six-sided die — we could get a 5, which is both greater than 2 (event one) and odd (event two).\n",
    "- unioun -> A or B, intersection -> A and B"
   ]
  },
  {
   "cell_type": "markdown",
   "id": "ae926026",
   "metadata": {
    "papermill": {
     "duration": 0.037027,
     "end_time": "2022-04-10T18:00:09.154611",
     "exception": false,
     "start_time": "2022-04-10T18:00:09.117584",
     "status": "completed"
    },
    "tags": []
   },
   "source": [
    "# Day 3 and 4\n",
    "dataquest -> stats -> probabilities -> solving complex probabilities\n",
    "- This is the same result we got from our previous approach. In more general terms, the multiplication rule says that for two events E1 and E2, the probability that both event E1 and E2 happen can be found by multiplying the probability of E1 by the probability of E2:\n",
    "    - P(E1 ∩ E2) = P(E1) × P(E2)\n",
    "    - Events that don't influence each other's probability are called independent events. If H1 happens, P(H2) stays the same, so H1 and H2 are independent. The multiplication rule we learned only works for independent events.\n",
    "    "
   ]
  },
  {
   "cell_type": "markdown",
   "id": "a4cd32f8",
   "metadata": {
    "papermill": {
     "duration": 0.036352,
     "end_time": "2022-04-10T18:00:09.228057",
     "exception": false,
     "start_time": "2022-04-10T18:00:09.191705",
     "status": "completed"
    },
    "tags": []
   },
   "source": [
    "# Day 5\n",
    "- When we replace the cards after drawing, we say that we're sampling with replacement. When we don't put the cards back, we're sampling without replacement. \n"
   ]
  },
  {
   "cell_type": "markdown",
   "id": "c9f2b7cd",
   "metadata": {
    "papermill": {
     "duration": 0.03753,
     "end_time": "2022-04-10T18:00:09.302941",
     "exception": false,
     "start_time": "2022-04-10T18:00:09.265411",
     "status": "completed"
    },
    "tags": []
   },
   "source": [
    "# Day6\n",
    "dataquest-> prob and stats -> probability fundamentals -> permutation and combinations\n",
    "Generally, if we have an experiment E1 (like flipping a coin) with a outcomes, followed by an experiment E2 (like rolling a die) with b outcomes, then the total number of outcomes for the composite experiment E1E2 can be found by multiplying a with b:\n",
    "\n",
    "Number of outcomes = a * b"
   ]
  },
  {
   "cell_type": "markdown",
   "id": "e026bdaa",
   "metadata": {
    "papermill": {
     "duration": 0.036447,
     "end_time": "2022-04-10T18:00:09.376457",
     "exception": false,
     "start_time": "2022-04-10T18:00:09.340010",
     "status": "completed"
    },
    "tags": []
   },
   "source": [
    "# Day 7\n",
    "dataquest-> prob and stats -> probability fundamentals -> permutation and combinations <br>\n",
    "More generally, if we have an experiment E1 with a outcomes, followed by an experiment E2 with b outcomes, followed by an experiment En with z outcomes, the total number of outcomes for the composite experiment E1E2 ... En can be found by multiplying their individual outcomes:\n",
    "\n",
    "Number of outcomes= a * b * … * z"
   ]
  },
  {
   "cell_type": "markdown",
   "id": "cccbb666",
   "metadata": {
    "papermill": {
     "duration": 0.044237,
     "end_time": "2022-04-10T18:00:09.457815",
     "exception": false,
     "start_time": "2022-04-10T18:00:09.413578",
     "status": "completed"
    },
    "tags": []
   },
   "source": [
    "# Day 8\n",
    "dataquest-> prob and stats -> probability fundamentals -> permutation and combinations <br>\n",
    "permutations= n*(n-1)*(n-2)*....*2*1\n"
   ]
  },
  {
   "cell_type": "markdown",
   "id": "48e0a14c",
   "metadata": {
    "papermill": {
     "duration": 0.037701,
     "end_time": "2022-04-10T18:00:09.532501",
     "exception": false,
     "start_time": "2022-04-10T18:00:09.494800",
     "status": "completed"
    },
    "tags": []
   },
   "source": [
    "# Day 9\n",
    "dataquest-> prob and stats -> probability fundamentals -> permutation and combinations\n",
    "- in permutation order of the individual element in the arranement matters.\n",
    "   - for e.x: 9821 is different than 9281\n",
    "   - Permutations =n!  --> sample without replacement-> we are not putting back the sampled data.\n",
    "   - On the last screen, we learned to use the formula below to calculate permutations when we're sampling without replacement and taking only k objects from a group of n objects:\n",
    "   npk=n!/(n-k)!"
   ]
  },
  {
   "cell_type": "markdown",
   "id": "ce706297",
   "metadata": {
    "papermill": {
     "duration": 0.036733,
     "end_time": "2022-04-10T18:00:09.605914",
     "exception": false,
     "start_time": "2022-04-10T18:00:09.569181",
     "status": "completed"
    },
    "tags": []
   },
   "source": [
    "# Day 10\n",
    "dataquest-> prob and stats -> probability fundamentals -> permutation and combinations\n",
    "- More generally, if the order of the elements in an arrangement doesn't matter, the arrangement is called a combination.\n",
    "- e.x: cards in a deck \n",
    "- nCk = n! / ((n-k)!*k!)"
   ]
  },
  {
   "cell_type": "markdown",
   "id": "45e70234",
   "metadata": {
    "papermill": {
     "duration": 0.036835,
     "end_time": "2022-04-10T18:00:09.679920",
     "exception": false,
     "start_time": "2022-04-10T18:00:09.643085",
     "status": "completed"
    },
    "tags": []
   },
   "source": [
    "# Day 11\n",
    "dataquest-> prob and stats -> probability fundamentals -> permutation and combinations\n",
    "- solved 1 probability problem.\n"
   ]
  },
  {
   "cell_type": "markdown",
   "id": "7961690f",
   "metadata": {
    "papermill": {
     "duration": 0.037299,
     "end_time": "2022-04-10T18:00:09.754048",
     "exception": false,
     "start_time": "2022-04-10T18:00:09.716749",
     "status": "completed"
    },
    "tags": []
   },
   "source": [
    "# Day 12\n",
    "dataquest-> prob and stats -> probability fundamentals -> permutation and combinations\n",
    "- finished probability and permutations by revising them.\n",
    "- If we have an experiment E1 (like flipping a coin) with a outcomes, followed by an experiment E2(like rolling a die) with b outcomes, then the total number of outcomes for the compositeexperiment E1E2 can be found by multiplying a with b (this is known as the rule of product):\n",
    "  - number of outcomes = a*b\n",
    "- If we have an experiment E1 with a outcomes, followed by an experiment E2 with b outcomes,followed by an experiment En with z outcomes, the total number of outcomes for the compositeexperiment E1E2 ... En can be found by multiplying their individual outcomes:\n",
    "   - number of outcomes = a*b* ... *z\n",
    "- There are two kinds of arrangements:\n",
    "   - •Arrangements where the order matters, which we call permutations.\n",
    "   - •Arrangements where the order doesn't matter, which we call combination\n",
    "- To find the number of permutations when we're sampling without replacement, we can use theformula:\n",
    "  - permutation = n!\n",
    "- To find the number of permutations when we're sampling without replacement and taking only kobjects from a group of n objects, we can use the formula:\n",
    "  - nPk = n!/(n-k)!\n",
    "- To find the number of combinations when we're sampling without replacement and taking only kobjects from a group of n objects, we can use the formula\n",
    "  - nCk = n! / ((n-k)!*k!)"
   ]
  },
  {
   "cell_type": "markdown",
   "id": "699f7ad8",
   "metadata": {
    "papermill": {
     "duration": 0.03747,
     "end_time": "2022-04-10T18:00:09.829444",
     "exception": false,
     "start_time": "2022-04-10T18:00:09.791974",
     "status": "completed"
    },
    "tags": []
   },
   "source": [
    "# Day 13\n",
    "dataquest-> prob and stats -> probability fundamentals -> conditional probabilities\n",
    "- first 2 slides -> mainly the recap of old chapter(above one).\n"
   ]
  },
  {
   "cell_type": "markdown",
   "id": "0384dcae",
   "metadata": {
    "papermill": {
     "duration": 0.036245,
     "end_time": "2022-04-10T18:00:09.903072",
     "exception": false,
     "start_time": "2022-04-10T18:00:09.866827",
     "status": "completed"
    },
    "tags": []
   },
   "source": [
    "# Day 14\n",
    "dataquest-> prob and stats -> probability fundamentals -> conditional probabilities\n",
    "<br>slide 4 completed\n",
    "<br>conditional probabilities\n",
    "- probabilities with condition\n",
    "- P(5)=What is the probability of getting a 5? -> normal probability\n",
    "- P(5 | odd) =What is the probability of getting a 5 given the die showed an odd number? -> conditional prob.\n",
    "\n"
   ]
  },
  {
   "cell_type": "markdown",
   "id": "ea180a7f",
   "metadata": {
    "papermill": {
     "duration": 0.036696,
     "end_time": "2022-04-10T18:00:09.979958",
     "exception": false,
     "start_time": "2022-04-10T18:00:09.943262",
     "status": "completed"
    },
    "tags": []
   },
   "source": [
    "# Day 15\n",
    "dataquest-> prob and stats -> probability fundamentals -> conditional probabilities\n",
    "- on slide 5 not done yet.\n",
    "\n",
    "Say we roll a fair six-sided die and want to find the probability of getting an odd number, given the die showed a number greater than 1 after landing. Using probability notation, we want to find P(A|B) where:\n",
    "\n",
    "- A is the event that the number is odd: A = {1, 3, 5}\n",
    "- B is the event that the number is greater than 1: B = {2, 3, 4, 5, 6}\n",
    "- P(A/B)=number of succesfull outcomes / total number of outcomes.\n"
   ]
  },
  {
   "cell_type": "markdown",
   "id": "fdcf0fef",
   "metadata": {
    "papermill": {
     "duration": 0.036239,
     "end_time": "2022-04-10T18:00:10.053357",
     "exception": false,
     "start_time": "2022-04-10T18:00:10.017118",
     "status": "completed"
    },
    "tags": []
   },
   "source": [
    "# Day 16 and 17\n",
    "dataquest-> prob and stats -> probability fundamentals -> conditional probabilities\n",
    "\n",
    "on slide 6 not done yet."
   ]
  },
  {
   "cell_type": "markdown",
   "id": "fa1d8a8c",
   "metadata": {
    "papermill": {
     "duration": 0.03635,
     "end_time": "2022-04-10T18:00:10.126326",
     "exception": false,
     "start_time": "2022-04-10T18:00:10.089976",
     "status": "completed"
    },
    "tags": []
   },
   "source": [
    "# Day 18\n",
    "dataquest-> prob and stats -> probability fundamentals -> conditional probabilities\n",
    "<br>slide 5 code half done"
   ]
  },
  {
   "cell_type": "markdown",
   "id": "25a3661b",
   "metadata": {
    "papermill": {
     "duration": 0.036233,
     "end_time": "2022-04-10T18:00:10.199284",
     "exception": false,
     "start_time": "2022-04-10T18:00:10.163051",
     "status": "completed"
    },
    "tags": []
   },
   "source": [
    "# Day 19\n",
    "- The number of elements in a set is called the cardinal of the set. \n",
    "  Ω is a set, and the cardinal of \n",
    "   Ω = { 2,3,4,5,6}\n",
    "   cardinal(Ω)=5\n",
    "- P(A | B) = card(A ∩ B) / card(B)\n",
    "- Say we roll a fair six-sided die and want to find the probability of getting an odd number, given the die showed a number greater than 1 after landing. Using probability notation, we want to find P(A|B) where:\n",
    "    - A is the event that the number is odd: A = {1, 3, 5}\n",
    "     - B is the event that the number is greater than 1: B = {2, 3, 4, 5, 6}\n",
    "     - total number of possible outcomes = card({2,3,4,5,6}) =5\n",
    "     - number of successful outcomes = card({3,5})= 2\n",
    "- P(A | B) = card(A ∩ B) / card(B), we can also get the same result using P(A | B) = prob(A ∩ B) / prob(B)\n",
    "\n",
    "     "
   ]
  },
  {
   "cell_type": "markdown",
   "id": "ea7a89f5",
   "metadata": {
    "papermill": {
     "duration": 0.036157,
     "end_time": "2022-04-10T18:00:10.272290",
     "exception": false,
     "start_time": "2022-04-10T18:00:10.236133",
     "status": "completed"
    },
    "tags": []
   },
   "source": [
    "# Day 20\n",
    "dataquest-> prob and stats -> probability fundamentals -> conditional probabilities intermediate\n",
    "<br> slide 1 and 2\n",
    "- P( A | B ) ≠ P(A ∩ B), but rather:\n",
    "   - P(A | B) = P(A ∩ B) / P(B)\n",
    "   - P(A ∩ B) = P(A | B) ⋅ P(B)\n",
    "- Given that a customer bought a laptop, they will or will not also buy a mouse. This means we can be certain that either event (M|L) or (M^C|L) will happen:\n",
    "     - P(M | L) + P(M^C | L) = 1\n",
    "\n"
   ]
  },
  {
   "cell_type": "markdown",
   "id": "43d1ea63",
   "metadata": {
    "papermill": {
     "duration": 0.036255,
     "end_time": "2022-04-10T18:00:10.345077",
     "exception": false,
     "start_time": "2022-04-10T18:00:10.308822",
     "status": "completed"
    },
    "tags": []
   },
   "source": [
    "# Day 21\n",
    "dataquest-> prob and stats -> probability fundamentals -> conditional probabilities intermediate\n",
    "slide 1 and 2\n",
    "- P(A ∩ B) = P(B ∩ A)\n",
    "- multiplication rule of probability\n",
    "  -  P(A ∩ B) = P(B) ⋅ P(A | B) \n",
    "  - P(A ∩ B) = P(A) ⋅ P(B | A)\n",
    "- if P(A) and P(B) are statistically independent then \n",
    "  - P(A ∩ B) = P(A) ⋅ P(B)\n",
    "\n"
   ]
  },
  {
   "cell_type": "markdown",
   "id": "42afe2aa",
   "metadata": {
    "papermill": {
     "duration": 0.036734,
     "end_time": "2022-04-10T18:00:10.419056",
     "exception": false,
     "start_time": "2022-04-10T18:00:10.382322",
     "status": "completed"
    },
    "tags": []
   },
   "source": [
    "# Day 22\n",
    "dataquest-> prob and stats -> probability fundamentals -> conditional probabilities intermediate \n",
    "<br>slide 6\n",
    "- If events events A and B are dependent, it means the occurrence of event A changes the probability of event B and vice versa.\n",
    "   - P(A) ≠ P(A | B)\n",
    "   - P(B) ≠ P(B | A)\n",
    "   - P(A ∩ B) ≠ P(A) ⋅ P(B)\n",
    "   - formula will become P(A ∩ B) ≠ P(A) ⋅ P(B/A)\n",
    "   "
   ]
  },
  {
   "cell_type": "markdown",
   "id": "ba0ceac0",
   "metadata": {
    "papermill": {
     "duration": 0.036365,
     "end_time": "2022-04-10T18:00:10.493429",
     "exception": false,
     "start_time": "2022-04-10T18:00:10.457064",
     "status": "completed"
    },
    "tags": []
   },
   "source": [
    "# Day 23\n",
    "dataquest-> prob and stats -> probability fundamentals -> conditional probabilities intermediate\n",
    "<br>slide 7 to last\n",
    "- To find whether three events — A, B, C — are independent or not, below conditions must hold true -\n",
    "  - P(A ∩ B) ≠ P(A) ⋅ P(B)\n",
    "  - P(A ∩ C) ≠ P(A) ⋅ P(C)\n",
    "  - P(B ∩ C) ≠ P(B) ⋅ P(C)\n",
    "  - P(A ∩ B ∩ C) ≠ P(A) ⋅ P(B) . P(C)\n",
    "- multiplication rule for conditional probability or dependent events\n",
    " - P(A ∩ B ∩ C) = P(A) ⋅ P(B | A) ⋅ P(C | A ∩ B)\n",
    " \n",
    "\n"
   ]
  },
  {
   "cell_type": "markdown",
   "id": "6c0161da",
   "metadata": {
    "papermill": {
     "duration": 0.036888,
     "end_time": "2022-04-10T18:00:10.567731",
     "exception": false,
     "start_time": "2022-04-10T18:00:10.530843",
     "status": "completed"
    },
    "tags": []
   },
   "source": [
    "# Day 24\n",
    "dataquest-> prob and stats -> probability fundamentals -> bayes theorem\n",
    "<br>slide 1\n",
    "- independent -> one event is dependent on other\n",
    "   - P(A ∩ B) = P(A) ⋅ P(B/A)\n",
    "- independent -> one event is not dependent on other.\n",
    "   - P(A ∩ B) = P(A) ⋅ P(B)\n",
    "- mutually exclusive -> both the events cannot happen at the same time.\n",
    "   - P(A ∩ B) = 0\n",
    "\n"
   ]
  },
  {
   "cell_type": "markdown",
   "id": "1bd88c41",
   "metadata": {
    "papermill": {
     "duration": 0.037862,
     "end_time": "2022-04-10T18:00:10.642257",
     "exception": false,
     "start_time": "2022-04-10T18:00:10.604395",
     "status": "completed"
    },
    "tags": []
   },
   "source": [
    "# Day 25\n",
    "dataquest-> prob and stats -> probability fundamentals -> bayes theorem\n",
    "<br>slide 2\n",
    "- If two events are exhaustive, it means they make up the whole sample space Ω\n",
    "  -  P(A) = P(A ∩ B) + P(A ∩ B^c)\n",
    "     P(A) = (P(B) * P(A/B)) +  (P(B^c) * P(A/B^c))\n",
    "     \n",
    "     "
   ]
  },
  {
   "cell_type": "markdown",
   "id": "9a1f91ef",
   "metadata": {
    "papermill": {
     "duration": 0.036253,
     "end_time": "2022-04-10T18:00:10.715141",
     "exception": false,
     "start_time": "2022-04-10T18:00:10.678888",
     "status": "completed"
    },
    "tags": []
   },
   "source": [
    "# Day 26\n",
    "dataquest-> prob and stats -> probability fundamentals -> bayes theorem\n",
    "<br>slide 3 - last\n",
    "- the law of total probability\n",
    "  - P(A)  = (P(B1) * P(A/B1)) + (P(B2) * P(A/B2))+ ... + (P(Bn) * P(A/Bn)))\n",
    "  - P(A) =(summattion i=1 to n) P(Bi) ⋅ P(A|Bi)\n",
    "- Baye's theorem\n",
    "  - P(B | A) = (P(B) ⋅ P(A | B)) / (n ∑i=1 P(Bi) ⋅ P(A | Bi))\n",
    "- The probability of being infected with HIV before doing any test is called the prior probability (\"prior\" means \"before\"). The probability of being infected with HIV after testing positive is called the posterior probability (\"posterior\" means \"after\").\n",
    "\n",
    "\n",
    "  "
   ]
  },
  {
   "cell_type": "markdown",
   "id": "84b8e0bd",
   "metadata": {
    "papermill": {
     "duration": 0.03647,
     "end_time": "2022-04-10T18:00:10.789759",
     "exception": false,
     "start_time": "2022-04-10T18:00:10.753289",
     "status": "completed"
    },
    "tags": []
   },
   "source": [
    "# Day 27\n",
    "dataquest-> prob and stats -> probability fundamentals -> naive bayes theorem\n",
    "<br>slide 1 - \n",
    "P(Spam|w1,w2,w3,w4)∝P(Spam)⋅P(w1|Spam)⋅P(w2|Spam)⋅P(w3|Spam)⋅P(w4|Spam)P(SpamC|w1,w2,w3,w4)∝P(SpamC)⋅P(w1|SpamC)⋅P(w2|SpamC)⋅P(w3|SpamC)⋅P(w4|SpamC)"
   ]
  },
  {
   "cell_type": "markdown",
   "id": "1ee807f7",
   "metadata": {
    "papermill": {
     "duration": 0.037054,
     "end_time": "2022-04-10T18:00:10.863513",
     "exception": false,
     "start_time": "2022-04-10T18:00:10.826459",
     "status": "completed"
    },
    "tags": []
   },
   "source": [
    "# Day 28\n",
    "dataquest-> prob and stats -> probability fundamentals -> naive bayes theorem\n",
    "<br>finished.\n",
    "<br>**Summary**\n",
    "- P(Spam|w1,w2,...,wn)∝P(Spam)⋅n∏i=1P(wi|Spam)\n",
    "- P(SpamC|w1,w2,...,wn)∝P(SpamC)⋅n∏i=1P(wi|SpamC)\n",
    "- To calculate P(wi|Spam) and P(wi|SpamC), we need to use the additive smoothing technique: \n",
    "- P ( w i | S p a m ) = (N w i | S p a m + α) / ( N S p a m + α ⋅ N V o c a b u l a r y )\n",
    "- P ( w i | S p a m C ) = (N w i | S p a m C + α) / ( N S p a m C + α ⋅ N V o c a b u l a r y )\n",
    "     - N w i | S p a m = the number of times the word w i occurs in spam messages \n",
    "     - N w i | S p a m C = the number of times the word w i occurs in non-spam messages \n",
    "     - N S p a m = total number of words in spam messages \n",
    "     - N S p a m C = total number of words in non-spam messages \n",
    "     - N V o c a b u l a r y = total number of words in the vocabulary \n",
    "     - α = 1 ( α is a smoothing parameter )\n",
    " - naive bayes theorem assumes that events are not dependent.\n",
    " - The assumption of conditional independence between words is thus naive since it rarely holds in practice, and this is why the algorithm is called Naive Bayes (also called simple Bayes or independence Bayes)."
   ]
  },
  {
   "cell_type": "markdown",
   "id": "eddda93d",
   "metadata": {
    "papermill": {
     "duration": 0.0373,
     "end_time": "2022-04-10T18:00:10.938470",
     "exception": false,
     "start_time": "2022-04-10T18:00:10.901170",
     "status": "completed"
    },
    "tags": []
   },
   "source": [
    "# Day 29 and 30\n",
    "<br>dataquest-> prob and stats -> probability fundamentals -> conditional probability-> guided projects\n",
    "<br> in progress"
   ]
  },
  {
   "cell_type": "code",
   "execution_count": 2,
   "id": "37ea075c",
   "metadata": {
    "execution": {
     "iopub.execute_input": "2022-04-10T18:00:11.017552Z",
     "iopub.status.busy": "2022-04-10T18:00:11.016908Z",
     "iopub.status.idle": "2022-04-10T18:00:11.020555Z",
     "shell.execute_reply": "2022-04-10T18:00:11.021172Z",
     "shell.execute_reply.started": "2022-04-09T12:12:12.558573Z"
    },
    "papermill": {
     "duration": 0.045331,
     "end_time": "2022-04-10T18:00:11.021348",
     "exception": false,
     "start_time": "2022-04-10T18:00:10.976017",
     "status": "completed"
    },
    "tags": []
   },
   "outputs": [],
   "source": [
    "# !pip install PyMuPDF"
   ]
  },
  {
   "cell_type": "code",
   "execution_count": 3,
   "id": "91603eb7",
   "metadata": {
    "execution": {
     "iopub.execute_input": "2022-04-10T18:00:11.099154Z",
     "iopub.status.busy": "2022-04-10T18:00:11.098471Z",
     "iopub.status.idle": "2022-04-10T18:00:11.101650Z",
     "shell.execute_reply": "2022-04-10T18:00:11.102162Z",
     "shell.execute_reply.started": "2022-04-09T12:18:21.642059Z"
    },
    "papermill": {
     "duration": 0.043262,
     "end_time": "2022-04-10T18:00:11.102343",
     "exception": false,
     "start_time": "2022-04-10T18:00:11.059081",
     "status": "completed"
    },
    "tags": []
   },
   "outputs": [],
   "source": [
    "#!python -m spacy download en_core_web_sm"
   ]
  },
  {
   "cell_type": "code",
   "execution_count": 4,
   "id": "8f584e27",
   "metadata": {
    "execution": {
     "iopub.execute_input": "2022-04-10T18:00:11.184984Z",
     "iopub.status.busy": "2022-04-10T18:00:11.184246Z",
     "iopub.status.idle": "2022-04-10T18:00:11.187144Z",
     "shell.execute_reply": "2022-04-10T18:00:11.187705Z",
     "shell.execute_reply.started": "2022-04-09T05:53:34.056321Z"
    },
    "papermill": {
     "duration": 0.045904,
     "end_time": "2022-04-10T18:00:11.187886",
     "exception": false,
     "start_time": "2022-04-10T18:00:11.141982",
     "status": "completed"
    },
    "tags": []
   },
   "outputs": [],
   "source": [
    "# import spacy\n",
    "# nlp = spacy.load('en_core_web_sm')"
   ]
  },
  {
   "cell_type": "code",
   "execution_count": 5,
   "id": "f8783f62",
   "metadata": {
    "execution": {
     "iopub.execute_input": "2022-04-10T18:00:11.270121Z",
     "iopub.status.busy": "2022-04-10T18:00:11.269199Z",
     "iopub.status.idle": "2022-04-10T18:00:11.272357Z",
     "shell.execute_reply": "2022-04-10T18:00:11.273002Z",
     "shell.execute_reply.started": "2022-04-09T12:19:47.776612Z"
    },
    "papermill": {
     "duration": 0.044951,
     "end_time": "2022-04-10T18:00:11.273182",
     "exception": false,
     "start_time": "2022-04-10T18:00:11.228231",
     "status": "completed"
    },
    "tags": []
   },
   "outputs": [],
   "source": [
    "# !pip install PyPDF2\n",
    "# import PyPDF2\n",
    "# fhandle = open(r'/kaggle/input/sample-pdf/D8communications.pdf', 'rb')\n",
    "# pdfReader = PyPDF2.PdfFileReader(fhandle)\n",
    "# pagehandle = pdfReader.getPage(4)\n",
    "# print(pagehandle.extractText())"
   ]
  },
  {
   "cell_type": "code",
   "execution_count": 6,
   "id": "c4ff36e2",
   "metadata": {
    "execution": {
     "iopub.execute_input": "2022-04-10T18:00:11.353271Z",
     "iopub.status.busy": "2022-04-10T18:00:11.352352Z",
     "iopub.status.idle": "2022-04-10T18:00:11.354471Z",
     "shell.execute_reply": "2022-04-10T18:00:11.355048Z",
     "shell.execute_reply.started": "2022-04-09T12:25:37.701467Z"
    },
    "papermill": {
     "duration": 0.044154,
     "end_time": "2022-04-10T18:00:11.355230",
     "exception": false,
     "start_time": "2022-04-10T18:00:11.311076",
     "status": "completed"
    },
    "tags": []
   },
   "outputs": [],
   "source": [
    "# !pip install pdfplumber\n",
    "# import pdfplumber\n",
    "# with pdfplumber.open(r'/kaggle/input/sample-pdf/D8communications.pdf') as pdf:\n",
    "#     first_page = pdf.pages[3]\n",
    "#     print(first_page.extract_text())"
   ]
  },
  {
   "cell_type": "code",
   "execution_count": 7,
   "id": "046d823d",
   "metadata": {
    "execution": {
     "iopub.execute_input": "2022-04-10T18:00:11.433687Z",
     "iopub.status.busy": "2022-04-10T18:00:11.432961Z",
     "iopub.status.idle": "2022-04-10T18:00:11.436064Z",
     "shell.execute_reply": "2022-04-10T18:00:11.436788Z",
     "shell.execute_reply.started": "2022-04-09T12:25:49.584635Z"
    },
    "papermill": {
     "duration": 0.044359,
     "end_time": "2022-04-10T18:00:11.437053",
     "exception": false,
     "start_time": "2022-04-10T18:00:11.392694",
     "status": "completed"
    },
    "tags": []
   },
   "outputs": [],
   "source": [
    "# !pip install pytesseract"
   ]
  },
  {
   "cell_type": "code",
   "execution_count": 8,
   "id": "8cd5c2ff",
   "metadata": {
    "execution": {
     "iopub.execute_input": "2022-04-10T18:00:11.535296Z",
     "iopub.status.busy": "2022-04-10T18:00:11.534583Z",
     "iopub.status.idle": "2022-04-10T18:00:11.538388Z",
     "shell.execute_reply": "2022-04-10T18:00:11.538973Z",
     "shell.execute_reply.started": "2022-04-09T14:49:10.656812Z"
    },
    "papermill": {
     "duration": 0.054065,
     "end_time": "2022-04-10T18:00:11.539162",
     "exception": false,
     "start_time": "2022-04-10T18:00:11.485097",
     "status": "completed"
    },
    "tags": []
   },
   "outputs": [],
   "source": [
    "# #!pip install pdf2image\n",
    "# !pip install poppler"
   ]
  },
  {
   "cell_type": "code",
   "execution_count": 9,
   "id": "20af2f76",
   "metadata": {
    "execution": {
     "iopub.execute_input": "2022-04-10T18:00:11.651641Z",
     "iopub.status.busy": "2022-04-10T18:00:11.650588Z",
     "iopub.status.idle": "2022-04-10T18:00:11.653793Z",
     "shell.execute_reply": "2022-04-10T18:00:11.652791Z",
     "shell.execute_reply.started": "2022-04-09T14:57:24.756677Z"
    },
    "papermill": {
     "duration": 0.058396,
     "end_time": "2022-04-10T18:00:11.653996",
     "exception": false,
     "start_time": "2022-04-10T18:00:11.595600",
     "status": "completed"
    },
    "tags": []
   },
   "outputs": [],
   "source": [
    "# pdf2image.convert_from_path('/kaggle/input/sample-pdf/D8communications.pdf')"
   ]
  },
  {
   "cell_type": "code",
   "execution_count": 10,
   "id": "9a2e02f9",
   "metadata": {
    "execution": {
     "iopub.execute_input": "2022-04-10T18:00:11.751233Z",
     "iopub.status.busy": "2022-04-10T18:00:11.750068Z",
     "iopub.status.idle": "2022-04-10T18:00:11.752977Z",
     "shell.execute_reply": "2022-04-10T18:00:11.752156Z",
     "shell.execute_reply.started": "2022-04-09T14:57:17.576149Z"
    },
    "papermill": {
     "duration": 0.051031,
     "end_time": "2022-04-10T18:00:11.753179",
     "exception": false,
     "start_time": "2022-04-10T18:00:11.702148",
     "status": "completed"
    },
    "tags": []
   },
   "outputs": [],
   "source": [
    "# import pdf2image\n",
    "# try:\n",
    "#     from PIL import Image\n",
    "# except ImportError:\n",
    "#     import Image\n",
    "# import pytesseract\n",
    "\n",
    "\n",
    "# def pdf_to_img(pdf_file):\n",
    "#     return pdf2image.convert_from_path(pdf_file)\n",
    "\n",
    "\n",
    "# def ocr_core(file):\n",
    "#     text = pytesseract.image_to_string(file)\n",
    "#     return text\n",
    "\n",
    "\n",
    "# def print_pages(pdf_file):\n",
    "#     images = pdf_to_img(pdf_file)\n",
    "#     for pg, img in enumerate(images):\n",
    "#         print(ocr_core(img))\n",
    "\n",
    "\n",
    "# print_pages('/kaggle/input/sample-pdf/D8communications.pdf')\n"
   ]
  },
  {
   "cell_type": "code",
   "execution_count": 11,
   "id": "a2781107",
   "metadata": {
    "execution": {
     "iopub.execute_input": "2022-04-10T18:00:11.853925Z",
     "iopub.status.busy": "2022-04-10T18:00:11.852873Z",
     "iopub.status.idle": "2022-04-10T18:00:11.858254Z",
     "shell.execute_reply": "2022-04-10T18:00:11.857595Z"
    },
    "papermill": {
     "duration": 0.058686,
     "end_time": "2022-04-10T18:00:11.858453",
     "exception": false,
     "start_time": "2022-04-10T18:00:11.799767",
     "status": "completed"
    },
    "tags": []
   },
   "outputs": [],
   "source": [
    "# import requests\n",
    "# import fitz\n",
    "# import io\n",
    "\n",
    "# #URL = 'https://buildmedia.readthedocs.org/media/pdf/pdfminer-docs/latest/pdfminer-docs.pdf'\n",
    "# URL = 'https://redactable-devox-stage.s3.us-east-2.amazonaws.com/tenants/41d9e109-693b-444c-aa18-e5891bc6550b/original/1a7c0e5d-3237-4ca9-9e3d-89e707245ac6/D8communications.pdf'\n",
    "\n",
    "\n",
    "# res = requests.get(URL)\n",
    "# filestream = io.BytesIO(res.content)\n",
    "# #res.content\n",
    "# filestream\n",
    "# doc = fitz.Document(stream=filestream)\n",
    "# page1 = doc.loadPage(3)\n",
    "# page1text = page1.getText(\"text\").encode(\"utf-8\").decode(\"utf-8\")\n",
    "# print(page1text)"
   ]
  },
  {
   "cell_type": "code",
   "execution_count": 12,
   "id": "33dadd6b",
   "metadata": {
    "execution": {
     "iopub.execute_input": "2022-04-10T18:00:11.945929Z",
     "iopub.status.busy": "2022-04-10T18:00:11.945171Z",
     "iopub.status.idle": "2022-04-10T18:00:11.947261Z",
     "shell.execute_reply": "2022-04-10T18:00:11.947927Z",
     "shell.execute_reply.started": "2022-04-09T07:04:56.590103Z"
    },
    "papermill": {
     "duration": 0.049284,
     "end_time": "2022-04-10T18:00:11.948125",
     "exception": false,
     "start_time": "2022-04-10T18:00:11.898841",
     "status": "completed"
    },
    "tags": []
   },
   "outputs": [],
   "source": [
    "# import requests\n",
    "# import fitz\n",
    "\n",
    "# #URL = 'https://buildmedia.readthedocs.org/media/pdf/pdfminer-docs/latest/pdfminer-docs.pdf'\n",
    "# URL = 'https://redactable-devox-stage.s3.us-east-2.amazonaws.com/tenants/41d9e109-693b-444c-aa18-e5891bc6550b/original/1a7c0e5d-3237-4ca9-9e3d-89e707245ac6/D8communications.pdf'\n",
    "\n",
    "\n",
    "# res = requests.get(URL)\n",
    "# doc = fitz.open(stream=res.content,filetype=\"pdf\")\n",
    "# page1 = doc.loadPage(3)\n",
    "# page1text = page1.getText(\"text\")\n",
    "# #rect = (72.1149,661.2966,131.95729,675.1716)\n",
    "# rect=(72.10812377929688, 116.13427734375, 133.97142028808594, 146.4227294921875)\n",
    "# labelled_text = page1.get_textbox(rect)\n",
    "# print(labelled_text.strip())\n",
    "\n",
    "# fulltext = page1.get_text()\n",
    "# print(fulltext)\n",
    "# doc = nlp(fulltext)\n",
    "# sentences = []\n",
    "# for sent in doc.sents:\n",
    "#     if labelled_text in sent.text:\n",
    "#         text = sent.text\n",
    "#         print(text)\n",
    "# #print(page1text)"
   ]
  },
  {
   "cell_type": "code",
   "execution_count": 13,
   "id": "857cb577",
   "metadata": {
    "execution": {
     "iopub.execute_input": "2022-04-10T18:00:12.034207Z",
     "iopub.status.busy": "2022-04-10T18:00:12.033159Z",
     "iopub.status.idle": "2022-04-10T18:00:12.036960Z",
     "shell.execute_reply": "2022-04-10T18:00:12.037529Z",
     "shell.execute_reply.started": "2022-04-08T16:42:57.6659Z"
    },
    "papermill": {
     "duration": 0.047879,
     "end_time": "2022-04-10T18:00:12.037735",
     "exception": false,
     "start_time": "2022-04-10T18:00:11.989856",
     "status": "completed"
    },
    "tags": []
   },
   "outputs": [],
   "source": [
    "#res.content"
   ]
  },
  {
   "cell_type": "code",
   "execution_count": 14,
   "id": "d5f158aa",
   "metadata": {
    "execution": {
     "iopub.execute_input": "2022-04-10T18:00:12.122363Z",
     "iopub.status.busy": "2022-04-10T18:00:12.121328Z",
     "iopub.status.idle": "2022-04-10T18:00:12.125865Z",
     "shell.execute_reply": "2022-04-10T18:00:12.126708Z",
     "shell.execute_reply.started": "2022-04-08T16:48:05.672392Z"
    },
    "papermill": {
     "duration": 0.048605,
     "end_time": "2022-04-10T18:00:12.126948",
     "exception": false,
     "start_time": "2022-04-10T18:00:12.078343",
     "status": "completed"
    },
    "tags": []
   },
   "outputs": [],
   "source": [
    "# import fitz\n",
    "# # mem_area=\n",
    "# # doc = fitz.open(stream=mem_area, filetype=\"pdf\")\n",
    "\n",
    "# import requests\n",
    "\n",
    "# URL = 'https://redactable-devox-stage.s3.us-east-2.amazonaws.com/tenants/41d9e109-693b-444c-aa18-e5891bc6550b/original/1a7c0e5d-3237-4ca9-9e3d-89e707245ac6/D8communications.pdf'\n",
    "\n",
    "# #res = requests.get(URL)\n",
    "# doc=fitz.open(\"/kaggle/input/sample-pdf/D8communications.pdf\")\n",
    "# #doc = fitz.open(stream=res.content,filetype=\"pdf\")\n",
    "# page1 = doc.loadPage(4)\n",
    "# # page1text = page1.getText(\"text\")\n",
    "# # print(page1text)\n",
    "# blocks = page1.getText(\"blocks\")\n",
    "# blocks.sort(key=lambda block: block[1])  # sort vertically ascending\n",
    "\n",
    "# for b in blocks:\n",
    "#     print(b[4])\n"
   ]
  },
  {
   "cell_type": "code",
   "execution_count": 15,
   "id": "12198b6e",
   "metadata": {
    "execution": {
     "iopub.execute_input": "2022-04-10T18:00:12.243392Z",
     "iopub.status.busy": "2022-04-10T18:00:12.242372Z",
     "iopub.status.idle": "2022-04-10T18:00:12.245788Z",
     "shell.execute_reply": "2022-04-10T18:00:12.246325Z",
     "shell.execute_reply.started": "2022-04-08T16:48:13.086323Z"
    },
    "papermill": {
     "duration": 0.056598,
     "end_time": "2022-04-10T18:00:12.246508",
     "exception": false,
     "start_time": "2022-04-10T18:00:12.189910",
     "status": "completed"
    },
    "tags": []
   },
   "outputs": [],
   "source": [
    "# # page = doc[1]\n",
    "# words = page.get_text(\"words\")\n",
    "# #print(words)\n",
    "# rect = (72.1149,661.2966,131.95729,675.1716)\n",
    "\n",
    "# labelled_text = page.get_textbox(rect)\n",
    "# # labelled_text"
   ]
  },
  {
   "cell_type": "markdown",
   "id": "cde7658a",
   "metadata": {
    "papermill": {
     "duration": 0.038854,
     "end_time": "2022-04-10T18:00:12.324531",
     "exception": false,
     "start_time": "2022-04-10T18:00:12.285677",
     "status": "completed"
    },
    "tags": []
   },
   "source": [
    "pip install PyPDF2"
   ]
  },
  {
   "cell_type": "code",
   "execution_count": null,
   "id": "671ca62f",
   "metadata": {
    "papermill": {
     "duration": 0.043966,
     "end_time": "2022-04-10T18:00:12.408558",
     "exception": false,
     "start_time": "2022-04-10T18:00:12.364592",
     "status": "completed"
    },
    "tags": []
   },
   "outputs": [],
   "source": []
  },
  {
   "cell_type": "code",
   "execution_count": 16,
   "id": "ef62eb1c",
   "metadata": {
    "execution": {
     "iopub.execute_input": "2022-04-10T18:00:12.498178Z",
     "iopub.status.busy": "2022-04-10T18:00:12.497289Z",
     "iopub.status.idle": "2022-04-10T18:00:12.500096Z",
     "shell.execute_reply": "2022-04-10T18:00:12.499410Z",
     "shell.execute_reply.started": "2022-03-18T16:48:58.370268Z"
    },
    "papermill": {
     "duration": 0.048686,
     "end_time": "2022-04-10T18:00:12.500267",
     "exception": false,
     "start_time": "2022-04-10T18:00:12.451581",
     "status": "completed"
    },
    "tags": []
   },
   "outputs": [],
   "source": [
    "# import pandas as pd\n",
    "# h={'step': 0, 'type': 'string', 'amount': 0.0, 'nameOrig': 'C1231006815', 'oldbalanceOrig': 0.0, 'newbalanceOrig': 0.0, 'nameDest': 'M1979787155', 'oldbalanceDest': 0.0, 'newbalanceDest': 0.0}\n",
    "# df=pd.DataFrame([h])"
   ]
  },
  {
   "cell_type": "code",
   "execution_count": 17,
   "id": "8f5a55fe",
   "metadata": {
    "execution": {
     "iopub.execute_input": "2022-04-10T18:00:12.583581Z",
     "iopub.status.busy": "2022-04-10T18:00:12.582407Z",
     "iopub.status.idle": "2022-04-10T18:00:12.585539Z",
     "shell.execute_reply": "2022-04-10T18:00:12.586135Z",
     "shell.execute_reply.started": "2022-04-09T17:21:26.021615Z"
    },
    "papermill": {
     "duration": 0.046559,
     "end_time": "2022-04-10T18:00:12.586353",
     "exception": false,
     "start_time": "2022-04-10T18:00:12.539794",
     "status": "completed"
    },
    "tags": []
   },
   "outputs": [],
   "source": [
    "#df"
   ]
  },
  {
   "cell_type": "code",
   "execution_count": null,
   "id": "ac303008",
   "metadata": {
    "papermill": {
     "duration": 0.03911,
     "end_time": "2022-04-10T18:00:12.665145",
     "exception": false,
     "start_time": "2022-04-10T18:00:12.626035",
     "status": "completed"
    },
    "tags": []
   },
   "outputs": [],
   "source": []
  }
 ],
 "metadata": {
  "kernelspec": {
   "display_name": "Python 3",
   "language": "python",
   "name": "python3"
  },
  "language_info": {
   "codemirror_mode": {
    "name": "ipython",
    "version": 3
   },
   "file_extension": ".py",
   "mimetype": "text/x-python",
   "name": "python",
   "nbconvert_exporter": "python",
   "pygments_lexer": "ipython3",
   "version": "3.7.12"
  },
  "papermill": {
   "default_parameters": {},
   "duration": 15.721432,
   "end_time": "2022-04-10T18:00:13.316316",
   "environment_variables": {},
   "exception": null,
   "input_path": "__notebook__.ipynb",
   "output_path": "__notebook__.ipynb",
   "parameters": {},
   "start_time": "2022-04-10T17:59:57.594884",
   "version": "2.3.3"
  }
 },
 "nbformat": 4,
 "nbformat_minor": 5
}
