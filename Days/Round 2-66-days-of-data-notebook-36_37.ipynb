{
 "cells": [
  {
   "cell_type": "code",
   "execution_count": 1,
   "id": "badb4230",
   "metadata": {
    "_cell_guid": "b1076dfc-b9ad-4769-8c92-a6c4dae69d19",
    "_uuid": "8f2839f25d086af736a60e9eeb907d3b93b6e0e5",
    "execution": {
     "iopub.execute_input": "2022-04-17T07:09:15.867920Z",
     "iopub.status.busy": "2022-04-17T07:09:15.866861Z",
     "iopub.status.idle": "2022-04-17T07:09:15.884287Z",
     "shell.execute_reply": "2022-04-17T07:09:15.884780Z",
     "shell.execute_reply.started": "2022-04-12T14:12:25.248687Z"
    },
    "papermill": {
     "duration": 0.068161,
     "end_time": "2022-04-17T07:09:15.885053",
     "exception": false,
     "start_time": "2022-04-17T07:09:15.816892",
     "status": "completed"
    },
    "tags": []
   },
   "outputs": [
    {
     "name": "stdout",
     "output_type": "stream",
     "text": [
      "/kaggle/input/sample-pdf/D8communications.pdf\n"
     ]
    }
   ],
   "source": [
    "# This Python 3 environment comes with many helpful analytics libraries installed\n",
    "# It is defined by the kaggle/python Docker image: https://github.com/kaggle/docker-python\n",
    "# For example, here's several helpful packages to load\n",
    "\n",
    "import numpy as np # linear algebra\n",
    "import pandas as pd # data processing, CSV file I/O (e.g. pd.read_csv)\n",
    "\n",
    "# Input data files are available in the read-only \"../input/\" directory\n",
    "# For example, running this (by clicking run or pressing Shift+Enter) will list all files under the input directory\n",
    "\n",
    "import os\n",
    "for dirname, _, filenames in os.walk('/kaggle/input'):\n",
    "    for filename in filenames:\n",
    "        print(os.path.join(dirname, filename))\n",
    "\n",
    "# You can write up to 20GB to the current directory (/kaggle/working/) that gets preserved as output when you create a version using \"Save & Run All\" \n",
    "# You can also write temporary files to /kaggle/temp/, but they won't be saved outside of the current session"
   ]
  },
  {
   "cell_type": "markdown",
   "id": "3b81eef2",
   "metadata": {
    "papermill": {
     "duration": 0.042902,
     "end_time": "2022-04-17T07:09:15.971761",
     "exception": false,
     "start_time": "2022-04-17T07:09:15.928859",
     "status": "completed"
    },
    "tags": []
   },
   "source": [
    "# **Start Date: 12/3/2022**"
   ]
  },
  {
   "cell_type": "markdown",
   "id": "7e987cbd",
   "metadata": {
    "papermill": {
     "duration": 0.042748,
     "end_time": "2022-04-17T07:09:16.057465",
     "exception": false,
     "start_time": "2022-04-17T07:09:16.014717",
     "status": "completed"
    },
    "tags": []
   },
   "source": [
    "# **Day 1:** \n",
    "<br>dataquest -> stats -> probability-> estimating probability\n",
    "1. out come is nothing but o/p of an experiment\n",
    "ex: whatever u get after rolling a dice -> it can be any number\n",
    "2. event can have more than one outcome\n",
    "- e.x: The event that we'll get an odd number when we roll a six-sided die — this event includes the outcomes 1, 3, and 5.\n",
    "- an event can be 0 as well.\n",
    "- We always assign probabilities to events, not outcomes, even if the event includes only one outcome.\n",
    "- P(E) =1/total number of possible outcomes, P(E) probability of an event happening.\n",
    "- but above formula doesn't work always, especially when there are more than one outcome\n",
    "    - P(E)=number of successful outcomes/total number of possible outcomes\n",
    "- incase of a biased situation \n",
    "  - let's say a die has 6 - 3 times which is 1,6,3,5,6,6\n",
    "    we will consider 6 as 3 times not 1.\n",
    "    possible outcome-> 1,3,5,6,6,6\n",
    "    prob(6)=3/6\n",
    "    prob(3)=1/6\n",
    "    prob(2)=0/6\n",
    "    If we didn't treat each 6 differently and said it doesn't matter which side a 6 is on, \n",
    "    <br>we'd be forced to conclude the only possible outcomes are 1, 3, 5 and 6. We can definitely         <br>frame the problem like that, but the formula above won't work anymore — we see below P(6) <br>becomes the same as P(3), but, intuitively, P(6) should be higher than P(3) since the die has 6 on     <br>three of its sides:\n"
   ]
  },
  {
   "cell_type": "markdown",
   "id": "36e35a26",
   "metadata": {
    "papermill": {
     "duration": 0.042781,
     "end_time": "2022-04-17T07:09:16.143278",
     "exception": false,
     "start_time": "2022-04-17T07:09:16.100497",
     "status": "completed"
    },
    "tags": []
   },
   "source": [
    "Estimating Probabilities Conclusion\n",
    "- emperical/ experimental probability\n",
    "  - probability achieved by experimenting / by doing the same event multiple times.\n",
    "  - Generally, for any event E (like a coin landing heads up), we can find its empirical probability   \n",
    "     by using the following formula: \n",
    "     •P (E) =number of times event E happened/ number of times we repeated the experiment   \n",
    " - Generally, the empirical probability of an event (a coin landing heads up, getting a 5 when weroll a die) approaches the true probability value as the number of trials of the randomexperiment (a coin toss, the rolling of a die) increases without bound.\n",
    "- When we calculate the probability of an event under the assumption that the outcomes have equal chances of occurring, we say that we're calculating the **theoretical probability** of an event.\n",
    "   - P(E)=number of successful outcomes/total number of possible outcomes\n",
    "\n"
   ]
  },
  {
   "cell_type": "markdown",
   "id": "903a13dd",
   "metadata": {
    "papermill": {
     "duration": 0.042973,
     "end_time": "2022-04-17T07:09:16.229104",
     "exception": false,
     "start_time": "2022-04-17T07:09:16.186131",
     "status": "completed"
    },
    "tags": []
   },
   "source": [
    "# **Day 2**\n",
    "<br>dataquest-> stats -> intro to probability -> probability rules\n",
    "<br>In probability theory, the set of all possible outcomes is called a sample space. A sample space is often denoted by the capital Greek letter Ω (read \"omega\"). This is how we represent the sample space of a die roll:\n",
    "\n",
    "Ω = {1,2,3,4,5,6}\n",
    "-    The probability of any event ranges between 0 and 1: 0≤ P(Event) ≤1\n",
    "- To calculate P(A or B), we can also use the formula below, which is sometimes called the addition rule: P(A or B) = P(A) + P(B)\n",
    "  - Sample space ={ 1,2,3,4,5,6} \n",
    "  - P(2 or 5) = 2/6\n",
    "\n",
    "- P(C or D) = P(C) + P(D) - P(C and D)\n",
    "   - e.x : Sample_space ={2,4,6} + { 4,5,6} - {4/6}\n",
    "      P( even number or number greater than 3) = ( (3/6) + (3/6) )- (2/6) = 4/6\n",
    "- Events that don't intersect are called mutually exclusive.\n",
    "  - e.x: Getting a 5 (event one) and getting a 3 (event two) when we roll a regular six-sided die — it's  impossible to get both a 5 and 3.\n",
    "- Events that intersect are called mutually non-exclusive.\n",
    "  - Getting a number greater than 2 (event one) and getting an odd number (event two) when we roll a regular six-sided die — we could get a 5, which is both greater than 2 (event one) and odd (event two).\n",
    "- unioun -> A or B, intersection -> A and B"
   ]
  },
  {
   "cell_type": "markdown",
   "id": "e00fc1fe",
   "metadata": {
    "papermill": {
     "duration": 0.044886,
     "end_time": "2022-04-17T07:09:16.318502",
     "exception": false,
     "start_time": "2022-04-17T07:09:16.273616",
     "status": "completed"
    },
    "tags": []
   },
   "source": [
    "# Day 3 and 4\n",
    "dataquest -> stats -> probabilities -> solving complex probabilities\n",
    "- This is the same result we got from our previous approach. In more general terms, the multiplication rule says that for two events E1 and E2, the probability that both event E1 and E2 happen can be found by multiplying the probability of E1 by the probability of E2:\n",
    "    - P(E1 ∩ E2) = P(E1) × P(E2)\n",
    "    - Events that don't influence each other's probability are called independent events. If H1 happens, P(H2) stays the same, so H1 and H2 are independent. The multiplication rule we learned only works for independent events.\n",
    "    "
   ]
  },
  {
   "cell_type": "markdown",
   "id": "1d81f975",
   "metadata": {
    "papermill": {
     "duration": 0.057514,
     "end_time": "2022-04-17T07:09:16.430418",
     "exception": false,
     "start_time": "2022-04-17T07:09:16.372904",
     "status": "completed"
    },
    "tags": []
   },
   "source": [
    "# Day 5\n",
    "- When we replace the cards after drawing, we say that we're sampling with replacement. When we don't put the cards back, we're sampling without replacement. \n"
   ]
  },
  {
   "cell_type": "markdown",
   "id": "9444a870",
   "metadata": {
    "papermill": {
     "duration": 0.046541,
     "end_time": "2022-04-17T07:09:16.529927",
     "exception": false,
     "start_time": "2022-04-17T07:09:16.483386",
     "status": "completed"
    },
    "tags": []
   },
   "source": [
    "# Day6\n",
    "dataquest-> prob and stats -> probability fundamentals -> permutation and combinations\n",
    "Generally, if we have an experiment E1 (like flipping a coin) with a outcomes, followed by an experiment E2 (like rolling a die) with b outcomes, then the total number of outcomes for the composite experiment E1E2 can be found by multiplying a with b:\n",
    "\n",
    "Number of outcomes = a * b"
   ]
  },
  {
   "cell_type": "markdown",
   "id": "22656625",
   "metadata": {
    "papermill": {
     "duration": 0.043017,
     "end_time": "2022-04-17T07:09:16.615953",
     "exception": false,
     "start_time": "2022-04-17T07:09:16.572936",
     "status": "completed"
    },
    "tags": []
   },
   "source": [
    "# Day 7\n",
    "dataquest-> prob and stats -> probability fundamentals -> permutation and combinations <br>\n",
    "More generally, if we have an experiment E1 with a outcomes, followed by an experiment E2 with b outcomes, followed by an experiment En with z outcomes, the total number of outcomes for the composite experiment E1E2 ... En can be found by multiplying their individual outcomes:\n",
    "\n",
    "Number of outcomes= a * b * … * z"
   ]
  },
  {
   "cell_type": "markdown",
   "id": "7a7e924c",
   "metadata": {
    "papermill": {
     "duration": 0.042785,
     "end_time": "2022-04-17T07:09:16.701856",
     "exception": false,
     "start_time": "2022-04-17T07:09:16.659071",
     "status": "completed"
    },
    "tags": []
   },
   "source": [
    "# Day 8\n",
    "dataquest-> prob and stats -> probability fundamentals -> permutation and combinations <br>\n",
    "permutations= n*(n-1)*(n-2)*....*2*1\n"
   ]
  },
  {
   "cell_type": "markdown",
   "id": "f98fe89c",
   "metadata": {
    "papermill": {
     "duration": 0.042787,
     "end_time": "2022-04-17T07:09:16.787556",
     "exception": false,
     "start_time": "2022-04-17T07:09:16.744769",
     "status": "completed"
    },
    "tags": []
   },
   "source": [
    "# Day 9\n",
    "dataquest-> prob and stats -> probability fundamentals -> permutation and combinations\n",
    "- in permutation order of the individual element in the arranement matters.\n",
    "   - for e.x: 9821 is different than 9281\n",
    "   - Permutations =n!  --> sample without replacement-> we are not putting back the sampled data.\n",
    "   - On the last screen, we learned to use the formula below to calculate permutations when we're sampling without replacement and taking only k objects from a group of n objects:\n",
    "   npk=n!/(n-k)!"
   ]
  },
  {
   "cell_type": "markdown",
   "id": "319ad99c",
   "metadata": {
    "papermill": {
     "duration": 0.043048,
     "end_time": "2022-04-17T07:09:16.873698",
     "exception": false,
     "start_time": "2022-04-17T07:09:16.830650",
     "status": "completed"
    },
    "tags": []
   },
   "source": [
    "# Day 10\n",
    "dataquest-> prob and stats -> probability fundamentals -> permutation and combinations\n",
    "- More generally, if the order of the elements in an arrangement doesn't matter, the arrangement is called a combination.\n",
    "- e.x: cards in a deck \n",
    "- nCk = n! / ((n-k)!*k!)"
   ]
  },
  {
   "cell_type": "markdown",
   "id": "f9d31a3a",
   "metadata": {
    "papermill": {
     "duration": 0.042746,
     "end_time": "2022-04-17T07:09:16.959960",
     "exception": false,
     "start_time": "2022-04-17T07:09:16.917214",
     "status": "completed"
    },
    "tags": []
   },
   "source": [
    "# Day 11\n",
    "dataquest-> prob and stats -> probability fundamentals -> permutation and combinations\n",
    "- solved 1 probability problem.\n"
   ]
  },
  {
   "cell_type": "markdown",
   "id": "967d6fdf",
   "metadata": {
    "papermill": {
     "duration": 0.042666,
     "end_time": "2022-04-17T07:09:17.045570",
     "exception": false,
     "start_time": "2022-04-17T07:09:17.002904",
     "status": "completed"
    },
    "tags": []
   },
   "source": [
    "# Day 12\n",
    "dataquest-> prob and stats -> probability fundamentals -> permutation and combinations\n",
    "- finished probability and permutations by revising them.\n",
    "- If we have an experiment E1 (like flipping a coin) with a outcomes, followed by an experiment E2(like rolling a die) with b outcomes, then the total number of outcomes for the compositeexperiment E1E2 can be found by multiplying a with b (this is known as the rule of product):\n",
    "  - number of outcomes = a*b\n",
    "- If we have an experiment E1 with a outcomes, followed by an experiment E2 with b outcomes,followed by an experiment En with z outcomes, the total number of outcomes for the compositeexperiment E1E2 ... En can be found by multiplying their individual outcomes:\n",
    "   - number of outcomes = a*b* ... *z\n",
    "- There are two kinds of arrangements:\n",
    "   - •Arrangements where the order matters, which we call permutations.\n",
    "   - •Arrangements where the order doesn't matter, which we call combination\n",
    "- To find the number of permutations when we're sampling without replacement, we can use theformula:\n",
    "  - permutation = n!\n",
    "- To find the number of permutations when we're sampling without replacement and taking only kobjects from a group of n objects, we can use the formula:\n",
    "  - nPk = n!/(n-k)!\n",
    "- To find the number of combinations when we're sampling without replacement and taking only kobjects from a group of n objects, we can use the formula\n",
    "  - nCk = n! / ((n-k)!*k!)"
   ]
  },
  {
   "cell_type": "markdown",
   "id": "abba7826",
   "metadata": {
    "papermill": {
     "duration": 0.042663,
     "end_time": "2022-04-17T07:09:17.131926",
     "exception": false,
     "start_time": "2022-04-17T07:09:17.089263",
     "status": "completed"
    },
    "tags": []
   },
   "source": [
    "# Day 13\n",
    "dataquest-> prob and stats -> probability fundamentals -> conditional probabilities\n",
    "- first 2 slides -> mainly the recap of old chapter(above one).\n"
   ]
  },
  {
   "cell_type": "markdown",
   "id": "da7136bc",
   "metadata": {
    "papermill": {
     "duration": 0.042737,
     "end_time": "2022-04-17T07:09:17.217766",
     "exception": false,
     "start_time": "2022-04-17T07:09:17.175029",
     "status": "completed"
    },
    "tags": []
   },
   "source": [
    "# Day 14\n",
    "dataquest-> prob and stats -> probability fundamentals -> conditional probabilities\n",
    "<br>slide 4 completed\n",
    "<br>conditional probabilities\n",
    "- probabilities with condition\n",
    "- P(5)=What is the probability of getting a 5? -> normal probability\n",
    "- P(5 | odd) =What is the probability of getting a 5 given the die showed an odd number? -> conditional prob.\n",
    "\n"
   ]
  },
  {
   "cell_type": "markdown",
   "id": "b6753bbb",
   "metadata": {
    "papermill": {
     "duration": 0.043979,
     "end_time": "2022-04-17T07:09:17.304566",
     "exception": false,
     "start_time": "2022-04-17T07:09:17.260587",
     "status": "completed"
    },
    "tags": []
   },
   "source": [
    "# Day 15\n",
    "dataquest-> prob and stats -> probability fundamentals -> conditional probabilities\n",
    "- on slide 5 not done yet.\n",
    "\n",
    "Say we roll a fair six-sided die and want to find the probability of getting an odd number, given the die showed a number greater than 1 after landing. Using probability notation, we want to find P(A|B) where:\n",
    "\n",
    "- A is the event that the number is odd: A = {1, 3, 5}\n",
    "- B is the event that the number is greater than 1: B = {2, 3, 4, 5, 6}\n",
    "- P(A/B)=number of succesfull outcomes / total number of outcomes.\n"
   ]
  },
  {
   "cell_type": "markdown",
   "id": "4c32a258",
   "metadata": {
    "papermill": {
     "duration": 0.042689,
     "end_time": "2022-04-17T07:09:17.390299",
     "exception": false,
     "start_time": "2022-04-17T07:09:17.347610",
     "status": "completed"
    },
    "tags": []
   },
   "source": [
    "# Day 16 and 17\n",
    "dataquest-> prob and stats -> probability fundamentals -> conditional probabilities\n",
    "\n",
    "on slide 6 not done yet."
   ]
  },
  {
   "cell_type": "markdown",
   "id": "0910cc5c",
   "metadata": {
    "papermill": {
     "duration": 0.042642,
     "end_time": "2022-04-17T07:09:17.475983",
     "exception": false,
     "start_time": "2022-04-17T07:09:17.433341",
     "status": "completed"
    },
    "tags": []
   },
   "source": [
    "# Day 18\n",
    "dataquest-> prob and stats -> probability fundamentals -> conditional probabilities\n",
    "<br>slide 5 code half done"
   ]
  },
  {
   "cell_type": "markdown",
   "id": "44253eeb",
   "metadata": {
    "papermill": {
     "duration": 0.042479,
     "end_time": "2022-04-17T07:09:17.561282",
     "exception": false,
     "start_time": "2022-04-17T07:09:17.518803",
     "status": "completed"
    },
    "tags": []
   },
   "source": [
    "# Day 19\n",
    "- The number of elements in a set is called the cardinal of the set. \n",
    "  Ω is a set, and the cardinal of \n",
    "   Ω = { 2,3,4,5,6}\n",
    "   cardinal(Ω)=5\n",
    "- P(A | B) = card(A ∩ B) / card(B)\n",
    "- Say we roll a fair six-sided die and want to find the probability of getting an odd number, given the die showed a number greater than 1 after landing. Using probability notation, we want to find P(A|B) where:\n",
    "    - A is the event that the number is odd: A = {1, 3, 5}\n",
    "     - B is the event that the number is greater than 1: B = {2, 3, 4, 5, 6}\n",
    "     - total number of possible outcomes = card({2,3,4,5,6}) =5\n",
    "     - number of successful outcomes = card({3,5})= 2\n",
    "- P(A | B) = card(A ∩ B) / card(B), we can also get the same result using P(A | B) = prob(A ∩ B) / prob(B)\n",
    "\n",
    "     "
   ]
  },
  {
   "cell_type": "markdown",
   "id": "ecd4a9aa",
   "metadata": {
    "papermill": {
     "duration": 0.042592,
     "end_time": "2022-04-17T07:09:17.646534",
     "exception": false,
     "start_time": "2022-04-17T07:09:17.603942",
     "status": "completed"
    },
    "tags": []
   },
   "source": [
    "# Day 20\n",
    "dataquest-> prob and stats -> probability fundamentals -> conditional probabilities intermediate\n",
    "<br> slide 1 and 2\n",
    "- P( A | B ) ≠ P(A ∩ B), but rather:\n",
    "   - P(A | B) = P(A ∩ B) / P(B)\n",
    "   - P(A ∩ B) = P(A | B) ⋅ P(B)\n",
    "- Given that a customer bought a laptop, they will or will not also buy a mouse. This means we can be certain that either event (M|L) or (M^C|L) will happen:\n",
    "     - P(M | L) + P(M^C | L) = 1\n",
    "\n"
   ]
  },
  {
   "cell_type": "markdown",
   "id": "5b40cd53",
   "metadata": {
    "papermill": {
     "duration": 0.042427,
     "end_time": "2022-04-17T07:09:17.731696",
     "exception": false,
     "start_time": "2022-04-17T07:09:17.689269",
     "status": "completed"
    },
    "tags": []
   },
   "source": [
    "# Day 21\n",
    "dataquest-> prob and stats -> probability fundamentals -> conditional probabilities intermediate\n",
    "slide 1 and 2\n",
    "- P(A ∩ B) = P(B ∩ A)\n",
    "- multiplication rule of probability\n",
    "  -  P(A ∩ B) = P(B) ⋅ P(A | B) \n",
    "  - P(A ∩ B) = P(A) ⋅ P(B | A)\n",
    "- if P(A) and P(B) are statistically independent then \n",
    "  - P(A ∩ B) = P(A) ⋅ P(B)\n",
    "\n"
   ]
  },
  {
   "cell_type": "markdown",
   "id": "d7c18162",
   "metadata": {
    "papermill": {
     "duration": 0.043608,
     "end_time": "2022-04-17T07:09:17.818161",
     "exception": false,
     "start_time": "2022-04-17T07:09:17.774553",
     "status": "completed"
    },
    "tags": []
   },
   "source": [
    "# Day 22\n",
    "dataquest-> prob and stats -> probability fundamentals -> conditional probabilities intermediate \n",
    "<br>slide 6\n",
    "- If events events A and B are dependent, it means the occurrence of event A changes the probability of event B and vice versa.\n",
    "   - P(A) ≠ P(A | B)\n",
    "   - P(B) ≠ P(B | A)\n",
    "   - P(A ∩ B) ≠ P(A) ⋅ P(B)\n",
    "   - formula will become P(A ∩ B) ≠ P(A) ⋅ P(B/A)\n",
    "   "
   ]
  },
  {
   "cell_type": "markdown",
   "id": "4922bb42",
   "metadata": {
    "papermill": {
     "duration": 0.042586,
     "end_time": "2022-04-17T07:09:17.903660",
     "exception": false,
     "start_time": "2022-04-17T07:09:17.861074",
     "status": "completed"
    },
    "tags": []
   },
   "source": [
    "# Day 23\n",
    "dataquest-> prob and stats -> probability fundamentals -> conditional probabilities intermediate\n",
    "<br>slide 7 to last\n",
    "- To find whether three events — A, B, C — are independent or not, below conditions must hold true -\n",
    "  - P(A ∩ B) ≠ P(A) ⋅ P(B)\n",
    "  - P(A ∩ C) ≠ P(A) ⋅ P(C)\n",
    "  - P(B ∩ C) ≠ P(B) ⋅ P(C)\n",
    "  - P(A ∩ B ∩ C) ≠ P(A) ⋅ P(B) . P(C)\n",
    "- multiplication rule for conditional probability or dependent events\n",
    " - P(A ∩ B ∩ C) = P(A) ⋅ P(B | A) ⋅ P(C | A ∩ B)\n",
    " \n",
    "\n"
   ]
  },
  {
   "cell_type": "markdown",
   "id": "4635dff8",
   "metadata": {
    "papermill": {
     "duration": 0.042615,
     "end_time": "2022-04-17T07:09:17.989049",
     "exception": false,
     "start_time": "2022-04-17T07:09:17.946434",
     "status": "completed"
    },
    "tags": []
   },
   "source": [
    "# Day 24\n",
    "dataquest-> prob and stats -> probability fundamentals -> bayes theorem\n",
    "<br>slide 1\n",
    "- independent -> one event is dependent on other\n",
    "   - P(A ∩ B) = P(A) ⋅ P(B/A)\n",
    "- independent -> one event is not dependent on other.\n",
    "   - P(A ∩ B) = P(A) ⋅ P(B)\n",
    "- mutually exclusive -> both the events cannot happen at the same time.\n",
    "   - P(A ∩ B) = 0\n",
    "\n"
   ]
  },
  {
   "cell_type": "markdown",
   "id": "d621c4e0",
   "metadata": {
    "papermill": {
     "duration": 0.042633,
     "end_time": "2022-04-17T07:09:18.075171",
     "exception": false,
     "start_time": "2022-04-17T07:09:18.032538",
     "status": "completed"
    },
    "tags": []
   },
   "source": [
    "# Day 25\n",
    "dataquest-> prob and stats -> probability fundamentals -> bayes theorem\n",
    "<br>slide 2\n",
    "- If two events are exhaustive, it means they make up the whole sample space Ω\n",
    "  -  P(A) = P(A ∩ B) + P(A ∩ B^c)\n",
    "     P(A) = (P(B) * P(A/B)) +  (P(B^c) * P(A/B^c))\n",
    "     \n",
    "     "
   ]
  },
  {
   "cell_type": "markdown",
   "id": "0cd68e1e",
   "metadata": {
    "papermill": {
     "duration": 0.042839,
     "end_time": "2022-04-17T07:09:18.161669",
     "exception": false,
     "start_time": "2022-04-17T07:09:18.118830",
     "status": "completed"
    },
    "tags": []
   },
   "source": [
    "# Day 26\n",
    "dataquest-> prob and stats -> probability fundamentals -> bayes theorem\n",
    "<br>slide 3 - last\n",
    "- the law of total probability\n",
    "  - P(A)  = (P(B1) * P(A/B1)) + (P(B2) * P(A/B2))+ ... + (P(Bn) * P(A/Bn)))\n",
    "  - P(A) =(summattion i=1 to n) P(Bi) ⋅ P(A|Bi)\n",
    "- Baye's theorem\n",
    "  - P(B | A) = (P(B) ⋅ P(A | B)) / (n ∑i=1 P(Bi) ⋅ P(A | Bi))\n",
    "- The probability of being infected with HIV before doing any test is called the prior probability (\"prior\" means \"before\"). The probability of being infected with HIV after testing positive is called the posterior probability (\"posterior\" means \"after\").\n",
    "\n",
    "\n",
    "  "
   ]
  },
  {
   "cell_type": "markdown",
   "id": "74da2c21",
   "metadata": {
    "papermill": {
     "duration": 0.043402,
     "end_time": "2022-04-17T07:09:18.248042",
     "exception": false,
     "start_time": "2022-04-17T07:09:18.204640",
     "status": "completed"
    },
    "tags": []
   },
   "source": [
    "# Day 27\n",
    "dataquest-> prob and stats -> probability fundamentals -> naive bayes theorem\n",
    "<br>slide 1 - \n",
    "P(Spam|w1,w2,w3,w4)∝P(Spam)⋅P(w1|Spam)⋅P(w2|Spam)⋅P(w3|Spam)⋅P(w4|Spam)P(SpamC|w1,w2,w3,w4)∝P(SpamC)⋅P(w1|SpamC)⋅P(w2|SpamC)⋅P(w3|SpamC)⋅P(w4|SpamC)"
   ]
  },
  {
   "cell_type": "markdown",
   "id": "9b1efcf6",
   "metadata": {
    "papermill": {
     "duration": 0.042698,
     "end_time": "2022-04-17T07:09:18.333644",
     "exception": false,
     "start_time": "2022-04-17T07:09:18.290946",
     "status": "completed"
    },
    "tags": []
   },
   "source": [
    "# Day 28\n",
    "dataquest-> prob and stats -> probability fundamentals -> naive bayes theorem\n",
    "<br>finished.\n",
    "<br>**Summary**\n",
    "- P(Spam|w1,w2,...,wn)∝P(Spam)⋅n∏i=1P(wi|Spam)\n",
    "- P(SpamC|w1,w2,...,wn)∝P(SpamC)⋅n∏i=1P(wi|SpamC)\n",
    "- To calculate P(wi|Spam) and P(wi|SpamC), we need to use the additive smoothing technique: \n",
    "- P ( w i | S p a m ) = (N w i | S p a m + α) / ( N S p a m + α ⋅ N V o c a b u l a r y )\n",
    "- P ( w i | S p a m C ) = (N w i | S p a m C + α) / ( N S p a m C + α ⋅ N V o c a b u l a r y )\n",
    "     - N w i | S p a m = the number of times the word w i occurs in spam messages \n",
    "     - N w i | S p a m C = the number of times the word w i occurs in non-spam messages \n",
    "     - N S p a m = total number of words in spam messages \n",
    "     - N S p a m C = total number of words in non-spam messages \n",
    "     - N V o c a b u l a r y = total number of words in the vocabulary \n",
    "     - α = 1 ( α is a smoothing parameter )\n",
    " - naive bayes theorem assumes that events are not dependent.\n",
    " - The assumption of conditional independence between words is thus naive since it rarely holds in practice, and this is why the algorithm is called Naive Bayes (also called simple Bayes or independence Bayes)."
   ]
  },
  {
   "cell_type": "markdown",
   "id": "6ba35858",
   "metadata": {
    "papermill": {
     "duration": 0.04264,
     "end_time": "2022-04-17T07:09:18.418986",
     "exception": false,
     "start_time": "2022-04-17T07:09:18.376346",
     "status": "completed"
    },
    "tags": []
   },
   "source": [
    "# Day 29,30,31\n",
    "<br>dataquest-> prob and stats -> probability fundamentals -> conditional probability-> guided projects\n",
    "<br> in progress"
   ]
  },
  {
   "cell_type": "markdown",
   "id": "180a3fcb",
   "metadata": {
    "papermill": {
     "duration": 0.04273,
     "end_time": "2022-04-17T07:09:18.504767",
     "exception": false,
     "start_time": "2022-04-17T07:09:18.462037",
     "status": "completed"
    },
    "tags": []
   },
   "source": [
    "# Day 32 and 33\n",
    "<br>dataquest-> prob and stats -> probability fundamentals -> guided projects\n",
    "<br> done"
   ]
  },
  {
   "cell_type": "markdown",
   "id": "6bb52ae2",
   "metadata": {
    "papermill": {
     "duration": 0.042709,
     "end_time": "2022-04-17T07:09:18.590241",
     "exception": false,
     "start_time": "2022-04-17T07:09:18.547532",
     "status": "completed"
    },
    "tags": []
   },
   "source": [
    "# Day 34\n",
    "<br>dataquest-> prob and stats -> probability fundamentals -> guided projects-> lottery prediction\n",
    "<br> done"
   ]
  },
  {
   "cell_type": "markdown",
   "id": "0f3c6712",
   "metadata": {
    "papermill": {
     "duration": 0.042591,
     "end_time": "2022-04-17T07:09:18.675755",
     "exception": false,
     "start_time": "2022-04-17T07:09:18.633164",
     "status": "completed"
    },
    "tags": []
   },
   "source": [
    "# Day 35\n",
    "<br>dataquest-> prob and stats -> hypothesis testing fundamentals -> significance testing\n",
    "<br> till slide 4\n",
    "- null hypothesis\n",
    "- alternate hypothesis\n"
   ]
  },
  {
   "cell_type": "markdown",
   "id": "3b9b13da",
   "metadata": {
    "papermill": {
     "duration": 0.042394,
     "end_time": "2022-04-17T07:09:18.761889",
     "exception": false,
     "start_time": "2022-04-17T07:09:18.719495",
     "status": "completed"
    },
    "tags": []
   },
   "source": [
    "# Day 36 and 37\n",
    "<br>dataquest-> prob and stats -> hypothesis testing fundamentals -> significance testing\n",
    "- The permutation test is a statistical test that involves rerunning the study many times and recalculating the test statistic for each iteration. The goal is to calculate a distribution of the test statistics over these many iterations. This distribution is called the sampling distribution and it approximates the full range of possible test statistics under the null hypothesis\n",
    "\n"
   ]
  },
  {
   "cell_type": "code",
   "execution_count": 2,
   "id": "accd9814",
   "metadata": {
    "execution": {
     "iopub.execute_input": "2022-04-17T07:09:18.853968Z",
     "iopub.status.busy": "2022-04-17T07:09:18.852955Z",
     "iopub.status.idle": "2022-04-17T07:09:18.855596Z",
     "shell.execute_reply": "2022-04-17T07:09:18.855024Z",
     "shell.execute_reply.started": "2022-04-12T14:17:49.333113Z"
    },
    "papermill": {
     "duration": 0.050593,
     "end_time": "2022-04-17T07:09:18.855731",
     "exception": false,
     "start_time": "2022-04-17T07:09:18.805138",
     "status": "completed"
    },
    "tags": []
   },
   "outputs": [],
   "source": [
    "# !pip install PyMuPDF"
   ]
  },
  {
   "cell_type": "code",
   "execution_count": 3,
   "id": "a915b7c2",
   "metadata": {
    "execution": {
     "iopub.execute_input": "2022-04-17T07:09:18.945769Z",
     "iopub.status.busy": "2022-04-17T07:09:18.944822Z",
     "iopub.status.idle": "2022-04-17T07:09:18.947833Z",
     "shell.execute_reply": "2022-04-17T07:09:18.948301Z",
     "shell.execute_reply.started": "2022-04-12T14:19:20.437905Z"
    },
    "papermill": {
     "duration": 0.049644,
     "end_time": "2022-04-17T07:09:18.948493",
     "exception": false,
     "start_time": "2022-04-17T07:09:18.898849",
     "status": "completed"
    },
    "tags": []
   },
   "outputs": [],
   "source": [
    " \n",
    "# fitz.__version__"
   ]
  },
  {
   "cell_type": "code",
   "execution_count": 4,
   "id": "9957a498",
   "metadata": {
    "execution": {
     "iopub.execute_input": "2022-04-17T07:09:19.038420Z",
     "iopub.status.busy": "2022-04-17T07:09:19.037495Z",
     "iopub.status.idle": "2022-04-17T07:09:19.040788Z",
     "shell.execute_reply": "2022-04-17T07:09:19.041301Z",
     "shell.execute_reply.started": "2022-04-12T14:23:59.687259Z"
    },
    "papermill": {
     "duration": 0.049732,
     "end_time": "2022-04-17T07:09:19.041500",
     "exception": false,
     "start_time": "2022-04-17T07:09:18.991768",
     "status": "completed"
    },
    "tags": []
   },
   "outputs": [],
   "source": [
    "# !python -m spacy download en_core_web_sm"
   ]
  },
  {
   "cell_type": "code",
   "execution_count": null,
   "id": "b600005f",
   "metadata": {
    "papermill": {
     "duration": 0.042808,
     "end_time": "2022-04-17T07:09:19.127274",
     "exception": false,
     "start_time": "2022-04-17T07:09:19.084466",
     "status": "completed"
    },
    "tags": []
   },
   "outputs": [],
   "source": []
  },
  {
   "cell_type": "code",
   "execution_count": 5,
   "id": "b86d0803",
   "metadata": {
    "execution": {
     "iopub.execute_input": "2022-04-17T07:09:19.223604Z",
     "iopub.status.busy": "2022-04-17T07:09:19.222619Z",
     "iopub.status.idle": "2022-04-17T07:09:19.225033Z",
     "shell.execute_reply": "2022-04-17T07:09:19.224515Z",
     "shell.execute_reply.started": "2022-04-12T14:18:25.912243Z"
    },
    "papermill": {
     "duration": 0.054957,
     "end_time": "2022-04-17T07:09:19.225163",
     "exception": false,
     "start_time": "2022-04-17T07:09:19.170206",
     "status": "completed"
    },
    "tags": []
   },
   "outputs": [],
   "source": [
    "# import fitz\n",
    "# import spacy\n",
    "# import re\n",
    "# from pathlib import Path\n",
    "# import requests\n",
    "# import os"
   ]
  },
  {
   "cell_type": "code",
   "execution_count": 6,
   "id": "ca8f0101",
   "metadata": {
    "execution": {
     "iopub.execute_input": "2022-04-17T07:09:19.315823Z",
     "iopub.status.busy": "2022-04-17T07:09:19.315215Z",
     "iopub.status.idle": "2022-04-17T07:09:19.317252Z",
     "shell.execute_reply": "2022-04-17T07:09:19.316706Z",
     "shell.execute_reply.started": "2022-04-12T15:03:43.5897Z"
    },
    "papermill": {
     "duration": 0.049072,
     "end_time": "2022-04-17T07:09:19.317408",
     "exception": false,
     "start_time": "2022-04-17T07:09:19.268336",
     "status": "completed"
    },
    "tags": []
   },
   "outputs": [],
   "source": [
    "# sql_db_json = [\n",
    "#   {\n",
    "#     \"document_id\": \"1\",\n",
    "#     \"area\": \"[72.1149,661.2966,131.95729,675.1716]\",\n",
    "#     \"page\": \"3\",\n",
    "#     \"text_\": \"Background\",\n",
    "#     \"type_of_selection\": \"Text\",\n",
    "#     \"entity_type\": \"name\",\n",
    "#     \"link\": \"https://redactable-devox-stage.s3.us-east-2.amazonaws.com/tenants/41d9e109-693b-444c-aa18-e5891bc6550b/original/1a7c0e5d-3237-4ca9-9e3d-89e707245ac6/D8communications.pdf\"\n",
    "#   },\n",
    "#   {\n",
    "#     \"document_id\": \"1\",\n",
    "#     \"area\": \"[290.55386,632.0173,322.14685,645.8923]\",\n",
    "#     \"page\": \"2\",\n",
    "#     \"text_\": \"INDEX\",\n",
    "#     \"type_of_selection\": \"Text\",\n",
    "#     \"entity_type\": \"address\",\n",
    "#     \"link\": \"https://redactable-devox-stage.s3.us-east-2.amazonaws.com/tenants/41d9e109-693b-444c-aa18-e5891bc6550b/original/1a7c0e5d-3237-4ca9-9e3d-89e707245ac6/D8communications.pdf\"\n",
    "#   }\n",
    "# ]"
   ]
  },
  {
   "cell_type": "code",
   "execution_count": 7,
   "id": "1c9011dd",
   "metadata": {
    "execution": {
     "iopub.execute_input": "2022-04-17T07:09:19.410736Z",
     "iopub.status.busy": "2022-04-17T07:09:19.410120Z",
     "iopub.status.idle": "2022-04-17T07:09:19.411668Z",
     "shell.execute_reply": "2022-04-17T07:09:19.412136Z",
     "shell.execute_reply.started": "2022-04-12T13:17:19.452695Z"
    },
    "papermill": {
     "duration": 0.050427,
     "end_time": "2022-04-17T07:09:19.412299",
     "exception": false,
     "start_time": "2022-04-17T07:09:19.361872",
     "status": "completed"
    },
    "tags": []
   },
   "outputs": [],
   "source": [
    "# l=pd.DataFrame()\n",
    "# k=(1, '[290.55386,632.0173,322.14685,645.8923]', 2, 'INDEX', 'Text', 'address', 'https://redactable-devox-s')\n",
    "# k\n"
   ]
  },
  {
   "cell_type": "code",
   "execution_count": 8,
   "id": "14d7bdd6",
   "metadata": {
    "execution": {
     "iopub.execute_input": "2022-04-17T07:09:19.502285Z",
     "iopub.status.busy": "2022-04-17T07:09:19.501715Z",
     "iopub.status.idle": "2022-04-17T07:09:19.504477Z",
     "shell.execute_reply": "2022-04-17T07:09:19.505014Z",
     "shell.execute_reply.started": "2022-04-12T16:09:33.708631Z"
    },
    "papermill": {
     "duration": 0.049617,
     "end_time": "2022-04-17T07:09:19.505174",
     "exception": false,
     "start_time": "2022-04-17T07:09:19.455557",
     "status": "completed"
    },
    "tags": []
   },
   "outputs": [],
   "source": [
    "# co=[\"document_id\",\"area\",\"page\",\"text_\",\"type_of_selection\",\"entity_type\",\"link\"]\n",
    "# val= [(1,'[72.1149,661.2966,131.95729,675.1716]',3,'Background','Text','name' ,'https://redactable-devox-stage.s3.us-east-2.am'), (1,  '[290.55386,632.0173,322.14685,645.8923]',2,'INDEX', 'Text','address','https://redactable-devox-stage.s3.us-east-2.am')]\n",
    "\n",
    "# df=pd.DataFrame(val,columns=[co])\n",
    "# #df.iloc[1] =[1,  '[290.55386,632.0173,322.14685,645.8923]',2,'INDEX', 'Text','address','https://redactable-devox-stage.s3.us-east-2.am']\n",
    "# df"
   ]
  },
  {
   "cell_type": "code",
   "execution_count": 9,
   "id": "8f38b473",
   "metadata": {
    "execution": {
     "iopub.execute_input": "2022-04-17T07:09:19.595447Z",
     "iopub.status.busy": "2022-04-17T07:09:19.594809Z",
     "iopub.status.idle": "2022-04-17T07:09:19.596449Z",
     "shell.execute_reply": "2022-04-17T07:09:19.596972Z",
     "shell.execute_reply.started": "2022-04-12T16:18:22.595374Z"
    },
    "papermill": {
     "duration": 0.048748,
     "end_time": "2022-04-17T07:09:19.597134",
     "exception": false,
     "start_time": "2022-04-17T07:09:19.548386",
     "status": "completed"
    },
    "tags": []
   },
   "outputs": [],
   "source": [
    "# prev=[]\n",
    "# for data,row in df.iterrows():\n",
    "#     if row['document_id'] not in prev:\n",
    "#         prev.append(row['document_id'])\n",
    "#         print('hey')"
   ]
  },
  {
   "cell_type": "code",
   "execution_count": 10,
   "id": "0667e9ff",
   "metadata": {
    "execution": {
     "iopub.execute_input": "2022-04-17T07:09:19.685998Z",
     "iopub.status.busy": "2022-04-17T07:09:19.685368Z",
     "iopub.status.idle": "2022-04-17T07:09:19.689772Z",
     "shell.execute_reply": "2022-04-17T07:09:19.690282Z",
     "shell.execute_reply.started": "2022-04-12T15:03:48.248836Z"
    },
    "papermill": {
     "duration": 0.050338,
     "end_time": "2022-04-17T07:09:19.690469",
     "exception": false,
     "start_time": "2022-04-17T07:09:19.640131",
     "status": "completed"
    },
    "tags": []
   },
   "outputs": [],
   "source": [
    "# nlp = spacy.load('en_core_web_sm')\n",
    "# train_data = []\n",
    "\n",
    "# prev_doc_id = ''\n",
    "# i=0\n",
    "# temp='/kaggle/working'\n",
    "\n",
    "# for data in sql_db_json:\n",
    "#     if data['type_of_selection'] == 'Text':\n",
    "#         document_id = data['document_id']\n",
    "#         x1,y1,x2,y2 = data['area'][1:-1].split(',')\n",
    "#         url = data['link']\n",
    "#         page_no = int(data['page']) - 1 \n",
    "#         label = data['entity_type']\n",
    "#         filename = url.split('/')[-1]\n",
    "    \n",
    "#         #download the file to temp folder\n",
    "#         outpath = os.path.join(temp,filename)\n",
    "\n",
    "#         if document_id == prev_doc_id:\n",
    "#             pass\n",
    "#         else: \n",
    "#             i+=1\n",
    "#             print(i)\n",
    "#             response = requests.get(url)\n",
    "#             with open(outpath, \"wb\") as binary_file:\n",
    "#                 binary_file.write(response.content)\n",
    "\n",
    "#         doc = fitz.open(outpath)  # any supported document type\n",
    "#         page = doc[page_no]  # we want text from this page\n",
    "#         print('page dimension - ', page.rect.width, page.rect.height)\n",
    "\n",
    "#         #The co-ordinates in the DB are image co-ords. W.r.t pdf, y1 and y2 has to be interchanged.\n",
    "#         #To ensure entire word to be selected, slight correction in x1,y1,x2,y2 is done.\n",
    "\n",
    "#         rect = [float(x1)-2, 792 - float(y2)-2, float(x2)+2, 792 - float(y1)+2]\n",
    "#         print(rect)\n",
    "#         labelled_text = page.get_textbox(rect)\n",
    "\n",
    "#         #Removing all unprintable characters from the text\n",
    "#         string = re.sub('[^0-9a-zA-Z@?|\\/<>.,()&^%$#!]+', ' ', labelled_text)\n",
    "#         print('string : ', string)\n",
    "\n",
    "#         fulltext = page.get_text()\n",
    "#         doc = nlp(fulltext)\n",
    "\n",
    "#         sentences = []\n",
    "#         for sent in doc.sents:\n",
    "#             if string.strip() in sent.text:\n",
    "#                 text = re.sub('[^0-9a-zA-Z@?|\\/<>.,()&^%$#!]+', ' ', sent.text)\n",
    "\n",
    "#         res = re.search(string.strip(), text)\n",
    "\n",
    "#         entities = []\n",
    "#         entities.append((res.start(),res.end(),label))\n",
    "\n",
    "#         train_data.append((text,{'entities':entities}))\n",
    "\n",
    "# print('Training data in spacy format')\n",
    "# print('*****************************')\n",
    "# for i in range(0,len(train_data)):\n",
    "#     print(train_data[i])"
   ]
  },
  {
   "cell_type": "code",
   "execution_count": null,
   "id": "b3e62850",
   "metadata": {
    "papermill": {
     "duration": 0.042979,
     "end_time": "2022-04-17T07:09:19.776772",
     "exception": false,
     "start_time": "2022-04-17T07:09:19.733793",
     "status": "completed"
    },
    "tags": []
   },
   "outputs": [],
   "source": []
  },
  {
   "cell_type": "code",
   "execution_count": 11,
   "id": "561814fe",
   "metadata": {
    "execution": {
     "iopub.execute_input": "2022-04-17T07:09:19.866016Z",
     "iopub.status.busy": "2022-04-17T07:09:19.865452Z",
     "iopub.status.idle": "2022-04-17T07:09:19.869233Z",
     "shell.execute_reply": "2022-04-17T07:09:19.869780Z",
     "shell.execute_reply.started": "2022-04-12T11:44:59.253637Z"
    },
    "papermill": {
     "duration": 0.049805,
     "end_time": "2022-04-17T07:09:19.869943",
     "exception": false,
     "start_time": "2022-04-17T07:09:19.820138",
     "status": "completed"
    },
    "tags": []
   },
   "outputs": [],
   "source": [
    "# nlp = spacy.load('en_core_web_sm')\n",
    "# train_data = []\n",
    "\n",
    "# prev_doc_id = ''\n",
    "# temp='/kaggle/working'\n",
    "# i=0\n",
    "# for data in sql_db_json:\n",
    "#     if data['type_of_selection'] == 'Text':\n",
    "#         document_id = data['document_id']\n",
    "#         x1,y1,x2,y2 = data['area'][1:-1].split(',')\n",
    "#         url = data['link']\n",
    "#         page_no = int(data['page']) - 1 \n",
    "#         label = data['entity_type']\n",
    "#         filename = url.split('/')[-1]\n",
    "    \n",
    "#         #download the file to temp folder\n",
    "#         i+=1\n",
    "#         print(i)\n",
    "#         response = requests.get(url)\n",
    "#         doc = fitz.open(stream=response.content,filetype=\"pdf\")  # any supported document type\n",
    "#         page = doc[page_no]  # we want text from this page\n",
    "#         print('page dimension - ', page.rect.width, page.rect.height)\n",
    "\n",
    "#         #The co-ordinates in the DB are image co-ords. W.r.t pdf, y1 and y2 has to be interchanged.\n",
    "#         #To ensure entire word to be selected, slight correction in x1,y1,x2,y2 is done.\n",
    "\n",
    "#         rect = [float(x1)-2, 792 - float(y2)-2, float(x2)+2, 792 - float(y1)+2]\n",
    "#         print(rect)\n",
    "#         labelled_text = page.get_textbox(rect)\n",
    "\n",
    "#         #Removing all unprintable characters from the text\n",
    "#         string = re.sub('[^0-9a-zA-Z@?|\\/<>.,()&^%$#!]+', ' ', labelled_text)\n",
    "#         print('string : ', string)\n",
    "\n",
    "#         fulltext = page.get_text()\n",
    "#         doc = nlp(fulltext)\n",
    "\n",
    "#         sentences = []\n",
    "#         for sent in doc.sents:\n",
    "#             if string.strip() in sent.text:\n",
    "#                 text = re.sub('[^0-9a-zA-Z@?|\\/<>.,()&^%$#!]+', ' ', sent.text)\n",
    "\n",
    "#         res = re.search(string.strip(), text)\n",
    "\n",
    "#         entities = []\n",
    "#         entities.append((res.start(),res.end(),label))\n",
    "\n",
    "#         train_data.append((text,{'entities':entities}))\n",
    "\n",
    "# print('Training data in spacy format')\n",
    "# print('*****************************')\n",
    "# for i in range(0,len(train_data)):\n",
    "#     print(train_data[i])"
   ]
  },
  {
   "cell_type": "code",
   "execution_count": 12,
   "id": "24c462bd",
   "metadata": {
    "execution": {
     "iopub.execute_input": "2022-04-17T07:09:19.960644Z",
     "iopub.status.busy": "2022-04-17T07:09:19.960021Z",
     "iopub.status.idle": "2022-04-17T07:09:19.961850Z",
     "shell.execute_reply": "2022-04-17T07:09:19.962280Z"
    },
    "papermill": {
     "duration": 0.04935,
     "end_time": "2022-04-17T07:09:19.962468",
     "exception": false,
     "start_time": "2022-04-17T07:09:19.913118",
     "status": "completed"
    },
    "tags": []
   },
   "outputs": [],
   "source": [
    "# page dimension -  612.0 792.0\n",
    "# [70.1149, 114.82839999999999, 133.95729, 132.7034]\n",
    "# string :  Background\n",
    "# page dimension -  612.0 792.0\n",
    "# [288.55386, 144.10770000000002, 324.14685, 161.98270000000002]\n",
    "# string :  INDEX\n",
    "# Training data in spacy format\n",
    "# *****************************\n",
    "# (' 3 Background The Blue Ribbon Committee was created by the Mayor to assess various city communication methods and recommend opportunities to improve communications with residents, businesses and other organizations.', {'entities': [(3, 13, 'name')]})\n",
    "# (' 2 INDEX Background Pg. 3 Purpose Pg. 3 Process .', {'entities': [(3, 8, 'address')]})"
   ]
  },
  {
   "cell_type": "code",
   "execution_count": 13,
   "id": "d93130d2",
   "metadata": {
    "execution": {
     "iopub.execute_input": "2022-04-17T07:09:20.052223Z",
     "iopub.status.busy": "2022-04-17T07:09:20.051648Z",
     "iopub.status.idle": "2022-04-17T07:09:20.054664Z",
     "shell.execute_reply": "2022-04-17T07:09:20.055154Z",
     "shell.execute_reply.started": "2022-04-11T16:35:29.609712Z"
    },
    "papermill": {
     "duration": 0.049502,
     "end_time": "2022-04-17T07:09:20.055333",
     "exception": false,
     "start_time": "2022-04-17T07:09:20.005831",
     "status": "completed"
    },
    "tags": []
   },
   "outputs": [],
   "source": [
    "# nlp = spacy.load('en_core_web_sm')\n",
    "# outpath=r'/kaggle/input/sample-pdf/D8communications.pdf'\n",
    "# doc = fitz.open(outpath)  # any supported document type\n",
    "# page_no=3\n",
    "# page = doc[page_no-1]\n",
    "\n",
    "# x1,y1,x2,y2=(72.1149,661.2966,131.95729,675.1716)\n",
    "\n",
    "# rect = [float(x1)-2, 792 - float(y2)-2, float(x2)+2, 792 - float(y1)+2]\n",
    "# print(rect)\n",
    "# labelled_text = page.get_textbox(rect)\n",
    "# string = re.sub('[^0-9a-zA-Z@?|\\/<>.,()&^%$#!]+', ' ', labelled_text)\n",
    "# print('string : ', string)\n",
    "\n",
    "# fulltext = page.get_text()\n",
    "# doc = nlp(fulltext)\n",
    "\n",
    "# sentences = []\n",
    "# for sent in doc.sents:\n",
    "#             if string.strip() in sent.text:\n",
    "#                 text = re.sub('[^0-9a-zA-Z@?|\\/<>.,()&^%$#!]+', ' ', sent.text)\n",
    "\n",
    "#         res = re.search(string.strip(), text)\n",
    "\n",
    "#         entities = []\n",
    "#         entities.append((res.start(),res.end(),label))\n",
    "\n",
    "#         train_data.append((text,{'entities':entities}))\n",
    "\n"
   ]
  },
  {
   "cell_type": "code",
   "execution_count": 14,
   "id": "1adf5a7a",
   "metadata": {
    "execution": {
     "iopub.execute_input": "2022-04-17T07:09:20.145536Z",
     "iopub.status.busy": "2022-04-17T07:09:20.144938Z",
     "iopub.status.idle": "2022-04-17T07:09:20.147444Z",
     "shell.execute_reply": "2022-04-17T07:09:20.147974Z",
     "shell.execute_reply.started": "2022-04-11T16:35:41.679947Z"
    },
    "papermill": {
     "duration": 0.048765,
     "end_time": "2022-04-17T07:09:20.148134",
     "exception": false,
     "start_time": "2022-04-17T07:09:20.099369",
     "status": "completed"
    },
    "tags": []
   },
   "outputs": [],
   "source": [
    "#doc"
   ]
  },
  {
   "cell_type": "code",
   "execution_count": 15,
   "id": "6b081ca1",
   "metadata": {
    "execution": {
     "iopub.execute_input": "2022-04-17T07:09:20.238921Z",
     "iopub.status.busy": "2022-04-17T07:09:20.238266Z",
     "iopub.status.idle": "2022-04-17T07:09:20.239998Z",
     "shell.execute_reply": "2022-04-17T07:09:20.240477Z",
     "shell.execute_reply.started": "2022-04-11T16:35:56.010353Z"
    },
    "papermill": {
     "duration": 0.049237,
     "end_time": "2022-04-17T07:09:20.240634",
     "exception": false,
     "start_time": "2022-04-17T07:09:20.191397",
     "status": "completed"
    },
    "tags": []
   },
   "outputs": [],
   "source": [
    "# sentences = []\n",
    "# for sent in doc.sents:\n",
    "#     if string.strip() in sent.text:\n",
    "#         text = re.sub('[^0-9a-zA-Z@?|\\/<>.,()&^%$#!]+', ' ', sent.text)"
   ]
  },
  {
   "cell_type": "code",
   "execution_count": 16,
   "id": "90ea3b2c",
   "metadata": {
    "execution": {
     "iopub.execute_input": "2022-04-17T07:09:20.330426Z",
     "iopub.status.busy": "2022-04-17T07:09:20.329845Z",
     "iopub.status.idle": "2022-04-17T07:09:20.332342Z",
     "shell.execute_reply": "2022-04-17T07:09:20.332839Z",
     "shell.execute_reply.started": "2022-04-11T16:39:04.736143Z"
    },
    "papermill": {
     "duration": 0.048512,
     "end_time": "2022-04-17T07:09:20.333005",
     "exception": false,
     "start_time": "2022-04-17T07:09:20.284493",
     "status": "completed"
    },
    "tags": []
   },
   "outputs": [],
   "source": [
    "# k=nlp(\"he             kenny\")\n",
    "# for sent in k.sents:\n",
    "#     print(sent)"
   ]
  },
  {
   "cell_type": "code",
   "execution_count": 17,
   "id": "96a235d1",
   "metadata": {
    "execution": {
     "iopub.execute_input": "2022-04-17T07:09:20.423545Z",
     "iopub.status.busy": "2022-04-17T07:09:20.422924Z",
     "iopub.status.idle": "2022-04-17T07:09:20.426000Z",
     "shell.execute_reply": "2022-04-17T07:09:20.426511Z",
     "shell.execute_reply.started": "2022-04-11T15:09:24.391421Z"
    },
    "papermill": {
     "duration": 0.049107,
     "end_time": "2022-04-17T07:09:20.426680",
     "exception": false,
     "start_time": "2022-04-17T07:09:20.377573",
     "status": "completed"
    },
    "tags": []
   },
   "outputs": [],
   "source": [
    "# text"
   ]
  },
  {
   "cell_type": "code",
   "execution_count": 18,
   "id": "08ff390b",
   "metadata": {
    "execution": {
     "iopub.execute_input": "2022-04-17T07:09:20.519402Z",
     "iopub.status.busy": "2022-04-17T07:09:20.518766Z",
     "iopub.status.idle": "2022-04-17T07:09:20.521573Z",
     "shell.execute_reply": "2022-04-17T07:09:20.522009Z",
     "shell.execute_reply.started": "2022-04-11T15:09:31.9599Z"
    },
    "papermill": {
     "duration": 0.049375,
     "end_time": "2022-04-17T07:09:20.522166",
     "exception": false,
     "start_time": "2022-04-17T07:09:20.472791",
     "status": "completed"
    },
    "tags": []
   },
   "outputs": [],
   "source": [
    "# res = re.search(string.strip(), text)\n",
    "# res"
   ]
  },
  {
   "cell_type": "code",
   "execution_count": 19,
   "id": "9270d39d",
   "metadata": {
    "execution": {
     "iopub.execute_input": "2022-04-17T07:09:20.613496Z",
     "iopub.status.busy": "2022-04-17T07:09:20.612849Z",
     "iopub.status.idle": "2022-04-17T07:09:20.615044Z",
     "shell.execute_reply": "2022-04-17T07:09:20.615479Z",
     "shell.execute_reply.started": "2022-04-11T15:12:41.311242Z"
    },
    "papermill": {
     "duration": 0.049891,
     "end_time": "2022-04-17T07:09:20.615649",
     "exception": false,
     "start_time": "2022-04-17T07:09:20.565758",
     "status": "completed"
    },
    "tags": []
   },
   "outputs": [],
   "source": [
    "# entities = []\n",
    "# entities.append((res.start(),res.end(),'p'))"
   ]
  },
  {
   "cell_type": "code",
   "execution_count": 20,
   "id": "0bcf7ceb",
   "metadata": {
    "execution": {
     "iopub.execute_input": "2022-04-17T07:09:20.706678Z",
     "iopub.status.busy": "2022-04-17T07:09:20.705910Z",
     "iopub.status.idle": "2022-04-17T07:09:20.708341Z",
     "shell.execute_reply": "2022-04-17T07:09:20.707822Z",
     "shell.execute_reply.started": "2022-04-11T15:12:52.736619Z"
    },
    "papermill": {
     "duration": 0.049587,
     "end_time": "2022-04-17T07:09:20.708480",
     "exception": false,
     "start_time": "2022-04-17T07:09:20.658893",
     "status": "completed"
    },
    "tags": []
   },
   "outputs": [],
   "source": [
    "# entities"
   ]
  },
  {
   "cell_type": "code",
   "execution_count": 21,
   "id": "ddd6cd0e",
   "metadata": {
    "execution": {
     "iopub.execute_input": "2022-04-17T07:09:20.797624Z",
     "iopub.status.busy": "2022-04-17T07:09:20.796993Z",
     "iopub.status.idle": "2022-04-17T07:09:20.799555Z",
     "shell.execute_reply": "2022-04-17T07:09:20.800084Z",
     "shell.execute_reply.started": "2022-04-11T15:06:11.546217Z"
    },
    "papermill": {
     "duration": 0.048546,
     "end_time": "2022-04-17T07:09:20.800246",
     "exception": false,
     "start_time": "2022-04-17T07:09:20.751700",
     "status": "completed"
    },
    "tags": []
   },
   "outputs": [],
   "source": [
    "# text"
   ]
  },
  {
   "cell_type": "code",
   "execution_count": null,
   "id": "d17f8265",
   "metadata": {
    "execution": {
     "iopub.execute_input": "2022-04-11T15:02:33.300092Z",
     "iopub.status.busy": "2022-04-11T15:02:33.299778Z",
     "iopub.status.idle": "2022-04-11T15:02:33.30711Z",
     "shell.execute_reply": "2022-04-11T15:02:33.306345Z",
     "shell.execute_reply.started": "2022-04-11T15:02:33.300061Z"
    },
    "papermill": {
     "duration": 0.042624,
     "end_time": "2022-04-17T07:09:20.886458",
     "exception": false,
     "start_time": "2022-04-17T07:09:20.843834",
     "status": "completed"
    },
    "tags": []
   },
   "outputs": [],
   "source": []
  },
  {
   "cell_type": "code",
   "execution_count": 22,
   "id": "f0b6461e",
   "metadata": {
    "execution": {
     "iopub.execute_input": "2022-04-17T07:09:20.978671Z",
     "iopub.status.busy": "2022-04-17T07:09:20.978096Z",
     "iopub.status.idle": "2022-04-17T07:09:20.980726Z",
     "shell.execute_reply": "2022-04-17T07:09:20.981207Z",
     "shell.execute_reply.started": "2022-04-11T16:21:02.863037Z"
    },
    "papermill": {
     "duration": 0.04868,
     "end_time": "2022-04-17T07:09:20.981393",
     "exception": false,
     "start_time": "2022-04-17T07:09:20.932713",
     "status": "completed"
    },
    "tags": []
   },
   "outputs": [],
   "source": [
    "# import spacy\n",
    "# nlp = spacy.load('en_core_web_sm')"
   ]
  },
  {
   "cell_type": "code",
   "execution_count": 23,
   "id": "45a16299",
   "metadata": {
    "execution": {
     "iopub.execute_input": "2022-04-17T07:09:21.071236Z",
     "iopub.status.busy": "2022-04-17T07:09:21.070647Z",
     "iopub.status.idle": "2022-04-17T07:09:21.074218Z",
     "shell.execute_reply": "2022-04-17T07:09:21.073757Z",
     "shell.execute_reply.started": "2022-04-09T12:19:47.776612Z"
    },
    "papermill": {
     "duration": 0.049832,
     "end_time": "2022-04-17T07:09:21.074373",
     "exception": false,
     "start_time": "2022-04-17T07:09:21.024541",
     "status": "completed"
    },
    "tags": []
   },
   "outputs": [],
   "source": [
    "# !pip install PyPDF2\n",
    "# import PyPDF2\n",
    "# fhandle = open(r'/kaggle/input/sample-pdf/D8communications.pdf', 'rb')\n",
    "# pdfReader = PyPDF2.PdfFileReader(fhandle)\n",
    "# pagehandle = pdfReader.getPage(4)\n",
    "# print(pagehandle.extractText())"
   ]
  },
  {
   "cell_type": "code",
   "execution_count": 24,
   "id": "3e1ac7d4",
   "metadata": {
    "execution": {
     "iopub.execute_input": "2022-04-17T07:09:21.165523Z",
     "iopub.status.busy": "2022-04-17T07:09:21.164838Z",
     "iopub.status.idle": "2022-04-17T07:09:21.167394Z",
     "shell.execute_reply": "2022-04-17T07:09:21.166921Z",
     "shell.execute_reply.started": "2022-04-09T12:25:37.701467Z"
    },
    "papermill": {
     "duration": 0.04923,
     "end_time": "2022-04-17T07:09:21.167522",
     "exception": false,
     "start_time": "2022-04-17T07:09:21.118292",
     "status": "completed"
    },
    "tags": []
   },
   "outputs": [],
   "source": [
    "# !pip install pdfplumber\n",
    "# import pdfplumber\n",
    "# with pdfplumber.open(r'/kaggle/input/sample-pdf/D8communications.pdf') as pdf:\n",
    "#     first_page = pdf.pages[3]\n",
    "#     print(first_page.extract_text())"
   ]
  },
  {
   "cell_type": "code",
   "execution_count": 25,
   "id": "4c4167a8",
   "metadata": {
    "execution": {
     "iopub.execute_input": "2022-04-17T07:09:21.259239Z",
     "iopub.status.busy": "2022-04-17T07:09:21.258662Z",
     "iopub.status.idle": "2022-04-17T07:09:21.261776Z",
     "shell.execute_reply": "2022-04-17T07:09:21.261208Z",
     "shell.execute_reply.started": "2022-04-09T12:25:49.584635Z"
    },
    "papermill": {
     "duration": 0.050271,
     "end_time": "2022-04-17T07:09:21.261905",
     "exception": false,
     "start_time": "2022-04-17T07:09:21.211634",
     "status": "completed"
    },
    "tags": []
   },
   "outputs": [],
   "source": [
    "# !pip install pytesseract"
   ]
  },
  {
   "cell_type": "code",
   "execution_count": 26,
   "id": "6ad365fa",
   "metadata": {
    "execution": {
     "iopub.execute_input": "2022-04-17T07:09:21.351151Z",
     "iopub.status.busy": "2022-04-17T07:09:21.350597Z",
     "iopub.status.idle": "2022-04-17T07:09:21.353221Z",
     "shell.execute_reply": "2022-04-17T07:09:21.353708Z",
     "shell.execute_reply.started": "2022-04-09T14:49:10.656812Z"
    },
    "papermill": {
     "duration": 0.048747,
     "end_time": "2022-04-17T07:09:21.353865",
     "exception": false,
     "start_time": "2022-04-17T07:09:21.305118",
     "status": "completed"
    },
    "tags": []
   },
   "outputs": [],
   "source": [
    "# #!pip install pdf2image\n",
    "# !pip install poppler"
   ]
  },
  {
   "cell_type": "code",
   "execution_count": 27,
   "id": "43bec795",
   "metadata": {
    "execution": {
     "iopub.execute_input": "2022-04-17T07:09:21.443395Z",
     "iopub.status.busy": "2022-04-17T07:09:21.442770Z",
     "iopub.status.idle": "2022-04-17T07:09:21.445771Z",
     "shell.execute_reply": "2022-04-17T07:09:21.446200Z",
     "shell.execute_reply.started": "2022-04-09T14:57:24.756677Z"
    },
    "papermill": {
     "duration": 0.049246,
     "end_time": "2022-04-17T07:09:21.446377",
     "exception": false,
     "start_time": "2022-04-17T07:09:21.397131",
     "status": "completed"
    },
    "tags": []
   },
   "outputs": [],
   "source": [
    "# pdf2image.convert_from_path('/kaggle/input/sample-pdf/D8communications.pdf')"
   ]
  },
  {
   "cell_type": "code",
   "execution_count": 28,
   "id": "6d72f65b",
   "metadata": {
    "execution": {
     "iopub.execute_input": "2022-04-17T07:09:21.538810Z",
     "iopub.status.busy": "2022-04-17T07:09:21.538174Z",
     "iopub.status.idle": "2022-04-17T07:09:21.540665Z",
     "shell.execute_reply": "2022-04-17T07:09:21.540166Z",
     "shell.execute_reply.started": "2022-04-09T14:57:17.576149Z"
    },
    "papermill": {
     "duration": 0.050667,
     "end_time": "2022-04-17T07:09:21.540800",
     "exception": false,
     "start_time": "2022-04-17T07:09:21.490133",
     "status": "completed"
    },
    "tags": []
   },
   "outputs": [],
   "source": [
    "# import pdf2image\n",
    "# try:\n",
    "#     from PIL import Image\n",
    "# except ImportError:\n",
    "#     import Image\n",
    "# import pytesseract\n",
    "\n",
    "\n",
    "# def pdf_to_img(pdf_file):\n",
    "#     return pdf2image.convert_from_path(pdf_file)\n",
    "\n",
    "\n",
    "# def ocr_core(file):\n",
    "#     text = pytesseract.image_to_string(file)\n",
    "#     return text\n",
    "\n",
    "\n",
    "# def print_pages(pdf_file):\n",
    "#     images = pdf_to_img(pdf_file)\n",
    "#     for pg, img in enumerate(images):\n",
    "#         print(ocr_core(img))\n",
    "\n",
    "\n",
    "# print_pages('/kaggle/input/sample-pdf/D8communications.pdf')\n"
   ]
  },
  {
   "cell_type": "code",
   "execution_count": 29,
   "id": "e56f36f5",
   "metadata": {
    "execution": {
     "iopub.execute_input": "2022-04-17T07:09:21.632450Z",
     "iopub.status.busy": "2022-04-17T07:09:21.631814Z",
     "iopub.status.idle": "2022-04-17T07:09:21.633759Z",
     "shell.execute_reply": "2022-04-17T07:09:21.634295Z"
    },
    "papermill": {
     "duration": 0.050377,
     "end_time": "2022-04-17T07:09:21.634481",
     "exception": false,
     "start_time": "2022-04-17T07:09:21.584104",
     "status": "completed"
    },
    "tags": []
   },
   "outputs": [],
   "source": [
    "# import requests\n",
    "# import fitz\n",
    "# import io\n",
    "\n",
    "# #URL = 'https://buildmedia.readthedocs.org/media/pdf/pdfminer-docs/latest/pdfminer-docs.pdf'\n",
    "# URL = 'https://redactable-devox-stage.s3.us-east-2.amazonaws.com/tenants/41d9e109-693b-444c-aa18-e5891bc6550b/original/1a7c0e5d-3237-4ca9-9e3d-89e707245ac6/D8communications.pdf'\n",
    "\n",
    "\n",
    "# res = requests.get(URL)\n",
    "# filestream = io.BytesIO(res.content)\n",
    "# #res.content\n",
    "# filestream\n",
    "# doc = fitz.Document(stream=filestream)\n",
    "# page1 = doc.loadPage(3)\n",
    "# page1text = page1.getText(\"text\").encode(\"utf-8\").decode(\"utf-8\")\n",
    "# print(page1text)"
   ]
  },
  {
   "cell_type": "code",
   "execution_count": 30,
   "id": "04c2bd66",
   "metadata": {
    "execution": {
     "iopub.execute_input": "2022-04-17T07:09:21.724279Z",
     "iopub.status.busy": "2022-04-17T07:09:21.723655Z",
     "iopub.status.idle": "2022-04-17T07:09:21.726826Z",
     "shell.execute_reply": "2022-04-17T07:09:21.727363Z",
     "shell.execute_reply.started": "2022-04-09T07:04:56.590103Z"
    },
    "papermill": {
     "duration": 0.049689,
     "end_time": "2022-04-17T07:09:21.727535",
     "exception": false,
     "start_time": "2022-04-17T07:09:21.677846",
     "status": "completed"
    },
    "tags": []
   },
   "outputs": [],
   "source": [
    "# import requests\n",
    "# import fitz\n",
    "\n",
    "# #URL = 'https://buildmedia.readthedocs.org/media/pdf/pdfminer-docs/latest/pdfminer-docs.pdf'\n",
    "# URL = 'https://redactable-devox-stage.s3.us-east-2.amazonaws.com/tenants/41d9e109-693b-444c-aa18-e5891bc6550b/original/1a7c0e5d-3237-4ca9-9e3d-89e707245ac6/D8communications.pdf'\n",
    "\n",
    "\n",
    "# res = requests.get(URL)\n",
    "# doc = fitz.open(stream=res.content,filetype=\"pdf\")\n",
    "# page1 = doc.loadPage(3)\n",
    "# page1text = page1.getText(\"text\")\n",
    "# #rect = (72.1149,661.2966,131.95729,675.1716)\n",
    "# rect=(72.10812377929688, 116.13427734375, 133.97142028808594, 146.4227294921875)\n",
    "# labelled_text = page1.get_textbox(rect)\n",
    "# print(labelled_text.strip())\n",
    "\n",
    "# fulltext = page1.get_text()\n",
    "# print(fulltext)\n",
    "# doc = nlp(fulltext)\n",
    "# sentences = []\n",
    "# for sent in doc.sents:\n",
    "#     if labelled_text in sent.text:\n",
    "#         text = sent.text\n",
    "#         print(text)\n",
    "# #print(page1text)"
   ]
  },
  {
   "cell_type": "code",
   "execution_count": 31,
   "id": "2e11197a",
   "metadata": {
    "execution": {
     "iopub.execute_input": "2022-04-17T07:09:21.818799Z",
     "iopub.status.busy": "2022-04-17T07:09:21.818201Z",
     "iopub.status.idle": "2022-04-17T07:09:21.821010Z",
     "shell.execute_reply": "2022-04-17T07:09:21.820534Z",
     "shell.execute_reply.started": "2022-04-08T16:42:57.6659Z"
    },
    "papermill": {
     "duration": 0.050193,
     "end_time": "2022-04-17T07:09:21.821138",
     "exception": false,
     "start_time": "2022-04-17T07:09:21.770945",
     "status": "completed"
    },
    "tags": []
   },
   "outputs": [],
   "source": [
    "#res.content"
   ]
  },
  {
   "cell_type": "code",
   "execution_count": 32,
   "id": "920e1a19",
   "metadata": {
    "execution": {
     "iopub.execute_input": "2022-04-17T07:09:21.914069Z",
     "iopub.status.busy": "2022-04-17T07:09:21.913142Z",
     "iopub.status.idle": "2022-04-17T07:09:21.917073Z",
     "shell.execute_reply": "2022-04-17T07:09:21.917589Z",
     "shell.execute_reply.started": "2022-04-08T16:48:05.672392Z"
    },
    "papermill": {
     "duration": 0.051835,
     "end_time": "2022-04-17T07:09:21.917753",
     "exception": false,
     "start_time": "2022-04-17T07:09:21.865918",
     "status": "completed"
    },
    "tags": []
   },
   "outputs": [],
   "source": [
    "# import fitz\n",
    "# # mem_area=\n",
    "# # doc = fitz.open(stream=mem_area, filetype=\"pdf\")\n",
    "\n",
    "# import requests\n",
    "\n",
    "# URL = 'https://redactable-devox-stage.s3.us-east-2.amazonaws.com/tenants/41d9e109-693b-444c-aa18-e5891bc6550b/original/1a7c0e5d-3237-4ca9-9e3d-89e707245ac6/D8communications.pdf'\n",
    "\n",
    "# #res = requests.get(URL)\n",
    "# doc=fitz.open(\"/kaggle/input/sample-pdf/D8communications.pdf\")\n",
    "# #doc = fitz.open(stream=res.content,filetype=\"pdf\")\n",
    "# page1 = doc.loadPage(4)\n",
    "# # page1text = page1.getText(\"text\")\n",
    "# # print(page1text)\n",
    "# blocks = page1.getText(\"blocks\")\n",
    "# blocks.sort(key=lambda block: block[1])  # sort vertically ascending\n",
    "\n",
    "# for b in blocks:\n",
    "#     print(b[4])\n"
   ]
  },
  {
   "cell_type": "code",
   "execution_count": 33,
   "id": "8affd585",
   "metadata": {
    "execution": {
     "iopub.execute_input": "2022-04-17T07:09:22.009156Z",
     "iopub.status.busy": "2022-04-17T07:09:22.008228Z",
     "iopub.status.idle": "2022-04-17T07:09:22.011380Z",
     "shell.execute_reply": "2022-04-17T07:09:22.011898Z",
     "shell.execute_reply.started": "2022-04-08T16:48:13.086323Z"
    },
    "papermill": {
     "duration": 0.049955,
     "end_time": "2022-04-17T07:09:22.012063",
     "exception": false,
     "start_time": "2022-04-17T07:09:21.962108",
     "status": "completed"
    },
    "tags": []
   },
   "outputs": [],
   "source": [
    "# # page = doc[1]\n",
    "# words = page.get_text(\"words\")\n",
    "# #print(words)\n",
    "# rect = (72.1149,661.2966,131.95729,675.1716)\n",
    "\n",
    "# labelled_text = page.get_textbox(rect)\n",
    "# # labelled_text"
   ]
  },
  {
   "cell_type": "markdown",
   "id": "0239d7ea",
   "metadata": {
    "papermill": {
     "duration": 0.042822,
     "end_time": "2022-04-17T07:09:22.099507",
     "exception": false,
     "start_time": "2022-04-17T07:09:22.056685",
     "status": "completed"
    },
    "tags": []
   },
   "source": [
    "pip install PyPDF2"
   ]
  },
  {
   "cell_type": "code",
   "execution_count": null,
   "id": "1afe05c6",
   "metadata": {
    "papermill": {
     "duration": 0.042505,
     "end_time": "2022-04-17T07:09:22.184939",
     "exception": false,
     "start_time": "2022-04-17T07:09:22.142434",
     "status": "completed"
    },
    "tags": []
   },
   "outputs": [],
   "source": []
  },
  {
   "cell_type": "code",
   "execution_count": 34,
   "id": "f9b51449",
   "metadata": {
    "execution": {
     "iopub.execute_input": "2022-04-17T07:09:22.276923Z",
     "iopub.status.busy": "2022-04-17T07:09:22.275979Z",
     "iopub.status.idle": "2022-04-17T07:09:22.279266Z",
     "shell.execute_reply": "2022-04-17T07:09:22.279731Z",
     "shell.execute_reply.started": "2022-03-18T16:48:58.370268Z"
    },
    "papermill": {
     "duration": 0.051184,
     "end_time": "2022-04-17T07:09:22.279892",
     "exception": false,
     "start_time": "2022-04-17T07:09:22.228708",
     "status": "completed"
    },
    "tags": []
   },
   "outputs": [],
   "source": [
    "# import pandas as pd\n",
    "# h={'step': 0, 'type': 'string', 'amount': 0.0, 'nameOrig': 'C1231006815', 'oldbalanceOrig': 0.0, 'newbalanceOrig': 0.0, 'nameDest': 'M1979787155', 'oldbalanceDest': 0.0, 'newbalanceDest': 0.0}\n",
    "# df=pd.DataFrame([h])"
   ]
  },
  {
   "cell_type": "code",
   "execution_count": 35,
   "id": "ca59dbde",
   "metadata": {
    "execution": {
     "iopub.execute_input": "2022-04-17T07:09:22.371889Z",
     "iopub.status.busy": "2022-04-17T07:09:22.371336Z",
     "iopub.status.idle": "2022-04-17T07:09:22.373534Z",
     "shell.execute_reply": "2022-04-17T07:09:22.374101Z",
     "shell.execute_reply.started": "2022-04-09T17:21:26.021615Z"
    },
    "papermill": {
     "duration": 0.049723,
     "end_time": "2022-04-17T07:09:22.374276",
     "exception": false,
     "start_time": "2022-04-17T07:09:22.324553",
     "status": "completed"
    },
    "tags": []
   },
   "outputs": [],
   "source": [
    "#df"
   ]
  },
  {
   "cell_type": "code",
   "execution_count": null,
   "id": "0675a835",
   "metadata": {
    "papermill": {
     "duration": 0.043052,
     "end_time": "2022-04-17T07:09:22.460789",
     "exception": false,
     "start_time": "2022-04-17T07:09:22.417737",
     "status": "completed"
    },
    "tags": []
   },
   "outputs": [],
   "source": []
  }
 ],
 "metadata": {
  "kernelspec": {
   "display_name": "Python 3",
   "language": "python",
   "name": "python3"
  },
  "language_info": {
   "codemirror_mode": {
    "name": "ipython",
    "version": 3
   },
   "file_extension": ".py",
   "mimetype": "text/x-python",
   "name": "python",
   "nbconvert_exporter": "python",
   "pygments_lexer": "ipython3",
   "version": "3.7.12"
  },
  "papermill": {
   "default_parameters": {},
   "duration": 15.849904,
   "end_time": "2022-04-17T07:09:23.113875",
   "environment_variables": {},
   "exception": null,
   "input_path": "__notebook__.ipynb",
   "output_path": "__notebook__.ipynb",
   "parameters": {},
   "start_time": "2022-04-17T07:09:07.263971",
   "version": "2.3.3"
  }
 },
 "nbformat": 4,
 "nbformat_minor": 5
}
