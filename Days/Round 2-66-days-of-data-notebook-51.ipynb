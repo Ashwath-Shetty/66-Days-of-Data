{
 "cells": [
  {
   "cell_type": "code",
   "execution_count": 1,
   "id": "e5131067",
   "metadata": {
    "_cell_guid": "b1076dfc-b9ad-4769-8c92-a6c4dae69d19",
    "_uuid": "8f2839f25d086af736a60e9eeb907d3b93b6e0e5",
    "execution": {
     "iopub.execute_input": "2022-05-01T16:56:50.382428Z",
     "iopub.status.busy": "2022-05-01T16:56:50.381774Z",
     "iopub.status.idle": "2022-05-01T16:56:50.389398Z",
     "shell.execute_reply": "2022-05-01T16:56:50.389922Z",
     "shell.execute_reply.started": "2022-04-12T14:12:25.248687Z"
    },
    "papermill": {
     "duration": 0.076002,
     "end_time": "2022-05-01T16:56:50.390230",
     "exception": false,
     "start_time": "2022-05-01T16:56:50.314228",
     "status": "completed"
    },
    "tags": []
   },
   "outputs": [
    {
     "name": "stdout",
     "output_type": "stream",
     "text": [
      "/kaggle/input/sample-pdf/D8communications.pdf\n"
     ]
    }
   ],
   "source": [
    "# This Python 3 environment comes with many helpful analytics libraries installed\n",
    "# It is defined by the kaggle/python Docker image: https://github.com/kaggle/docker-python\n",
    "# For example, here's several helpful packages to load\n",
    "\n",
    "import numpy as np # linear algebra\n",
    "import pandas as pd # data processing, CSV file I/O (e.g. pd.read_csv)\n",
    "\n",
    "# Input data files are available in the read-only \"../input/\" directory\n",
    "# For example, running this (by clicking run or pressing Shift+Enter) will list all files under the input directory\n",
    "\n",
    "import os\n",
    "for dirname, _, filenames in os.walk('/kaggle/input'):\n",
    "    for filename in filenames:\n",
    "        print(os.path.join(dirname, filename))\n",
    "\n",
    "# You can write up to 20GB to the current directory (/kaggle/working/) that gets preserved as output when you create a version using \"Save & Run All\" \n",
    "# You can also write temporary files to /kaggle/temp/, but they won't be saved outside of the current session"
   ]
  },
  {
   "cell_type": "markdown",
   "id": "eb541c54",
   "metadata": {
    "papermill": {
     "duration": 0.049216,
     "end_time": "2022-05-01T16:56:50.490923",
     "exception": false,
     "start_time": "2022-05-01T16:56:50.441707",
     "status": "completed"
    },
    "tags": []
   },
   "source": [
    "# **Start Date: 12/3/2022**"
   ]
  },
  {
   "cell_type": "markdown",
   "id": "6328f79f",
   "metadata": {
    "papermill": {
     "duration": 0.050039,
     "end_time": "2022-05-01T16:56:50.592069",
     "exception": false,
     "start_time": "2022-05-01T16:56:50.542030",
     "status": "completed"
    },
    "tags": []
   },
   "source": [
    "# **Day 1:** \n",
    "<br>dataquest -> stats -> probability-> estimating probability\n",
    "1. out come is nothing but o/p of an experiment\n",
    "ex: whatever u get after rolling a dice -> it can be any number\n",
    "2. event can have more than one outcome\n",
    "- e.x: The event that we'll get an odd number when we roll a six-sided die — this event includes the outcomes 1, 3, and 5.\n",
    "- an event can be 0 as well.\n",
    "- We always assign probabilities to events, not outcomes, even if the event includes only one outcome.\n",
    "- P(E) =1/total number of possible outcomes, P(E) probability of an event happening.\n",
    "- but above formula doesn't work always, especially when there are more than one outcome\n",
    "    - P(E)=number of successful outcomes/total number of possible outcomes\n",
    "- incase of a biased situation \n",
    "  - let's say a die has 6 - 3 times which is 1,6,3,5,6,6\n",
    "    we will consider 6 as 3 times not 1.\n",
    "    possible outcome-> 1,3,5,6,6,6\n",
    "    prob(6)=3/6\n",
    "    prob(3)=1/6\n",
    "    prob(2)=0/6\n",
    "    If we didn't treat each 6 differently and said it doesn't matter which side a 6 is on, \n",
    "    <br>we'd be forced to conclude the only possible outcomes are 1, 3, 5 and 6. We can definitely         <br>frame the problem like that, but the formula above won't work anymore — we see below P(6) <br>becomes the same as P(3), but, intuitively, P(6) should be higher than P(3) since the die has 6 on     <br>three of its sides:\n"
   ]
  },
  {
   "cell_type": "markdown",
   "id": "e6ab906c",
   "metadata": {
    "papermill": {
     "duration": 0.049615,
     "end_time": "2022-05-01T16:56:50.691976",
     "exception": false,
     "start_time": "2022-05-01T16:56:50.642361",
     "status": "completed"
    },
    "tags": []
   },
   "source": [
    "Estimating Probabilities Conclusion\n",
    "- emperical/ experimental probability\n",
    "  - probability achieved by experimenting / by doing the same event multiple times.\n",
    "  - Generally, for any event E (like a coin landing heads up), we can find its empirical probability   \n",
    "     by using the following formula: \n",
    "     •P (E) =number of times event E happened/ number of times we repeated the experiment   \n",
    " - Generally, the empirical probability of an event (a coin landing heads up, getting a 5 when weroll a die) approaches the true probability value as the number of trials of the randomexperiment (a coin toss, the rolling of a die) increases without bound.\n",
    "- When we calculate the probability of an event under the assumption that the outcomes have equal chances of occurring, we say that we're calculating the **theoretical probability** of an event.\n",
    "   - P(E)=number of successful outcomes/total number of possible outcomes\n",
    "\n"
   ]
  },
  {
   "cell_type": "markdown",
   "id": "4ca81d40",
   "metadata": {
    "papermill": {
     "duration": 0.05047,
     "end_time": "2022-05-01T16:56:50.792382",
     "exception": false,
     "start_time": "2022-05-01T16:56:50.741912",
     "status": "completed"
    },
    "tags": []
   },
   "source": [
    "# **Day 2**\n",
    "<br>dataquest-> stats -> intro to probability -> probability rules\n",
    "<br>In probability theory, the set of all possible outcomes is called a sample space. A sample space is often denoted by the capital Greek letter Ω (read \"omega\"). This is how we represent the sample space of a die roll:\n",
    "\n",
    "Ω = {1,2,3,4,5,6}\n",
    "-    The probability of any event ranges between 0 and 1: 0≤ P(Event) ≤1\n",
    "- To calculate P(A or B), we can also use the formula below, which is sometimes called the addition rule: P(A or B) = P(A) + P(B)\n",
    "  - Sample space ={ 1,2,3,4,5,6} \n",
    "  - P(2 or 5) = 2/6\n",
    "\n",
    "- P(C or D) = P(C) + P(D) - P(C and D)\n",
    "   - e.x : Sample_space ={2,4,6} + { 4,5,6} - {4/6}\n",
    "      P( even number or number greater than 3) = ( (3/6) + (3/6) )- (2/6) = 4/6\n",
    "- Events that don't intersect are called mutually exclusive.\n",
    "  - e.x: Getting a 5 (event one) and getting a 3 (event two) when we roll a regular six-sided die — it's  impossible to get both a 5 and 3.\n",
    "- Events that intersect are called mutually non-exclusive.\n",
    "  - Getting a number greater than 2 (event one) and getting an odd number (event two) when we roll a regular six-sided die — we could get a 5, which is both greater than 2 (event one) and odd (event two).\n",
    "- unioun -> A or B, intersection -> A and B"
   ]
  },
  {
   "cell_type": "markdown",
   "id": "7fe6c09d",
   "metadata": {
    "papermill": {
     "duration": 0.050331,
     "end_time": "2022-05-01T16:56:50.893624",
     "exception": false,
     "start_time": "2022-05-01T16:56:50.843293",
     "status": "completed"
    },
    "tags": []
   },
   "source": [
    "# Day 3 and 4\n",
    "dataquest -> stats -> probabilities -> solving complex probabilities\n",
    "- This is the same result we got from our previous approach. In more general terms, the multiplication rule says that for two events E1 and E2, the probability that both event E1 and E2 happen can be found by multiplying the probability of E1 by the probability of E2:\n",
    "    - P(E1 ∩ E2) = P(E1) × P(E2)\n",
    "    - Events that don't influence each other's probability are called independent events. If H1 happens, P(H2) stays the same, so H1 and H2 are independent. The multiplication rule we learned only works for independent events.\n",
    "    "
   ]
  },
  {
   "cell_type": "markdown",
   "id": "285d8b87",
   "metadata": {
    "papermill": {
     "duration": 0.049561,
     "end_time": "2022-05-01T16:56:50.992686",
     "exception": false,
     "start_time": "2022-05-01T16:56:50.943125",
     "status": "completed"
    },
    "tags": []
   },
   "source": [
    "# Day 5\n",
    "- When we replace the cards after drawing, we say that we're sampling with replacement. When we don't put the cards back, we're sampling without replacement. \n"
   ]
  },
  {
   "cell_type": "markdown",
   "id": "43d41e13",
   "metadata": {
    "papermill": {
     "duration": 0.048678,
     "end_time": "2022-05-01T16:56:51.091833",
     "exception": false,
     "start_time": "2022-05-01T16:56:51.043155",
     "status": "completed"
    },
    "tags": []
   },
   "source": [
    "# Day6\n",
    "dataquest-> prob and stats -> probability fundamentals -> permutation and combinations\n",
    "Generally, if we have an experiment E1 (like flipping a coin) with a outcomes, followed by an experiment E2 (like rolling a die) with b outcomes, then the total number of outcomes for the composite experiment E1E2 can be found by multiplying a with b:\n",
    "\n",
    "Number of outcomes = a * b"
   ]
  },
  {
   "cell_type": "markdown",
   "id": "45b57946",
   "metadata": {
    "papermill": {
     "duration": 0.049661,
     "end_time": "2022-05-01T16:56:51.190623",
     "exception": false,
     "start_time": "2022-05-01T16:56:51.140962",
     "status": "completed"
    },
    "tags": []
   },
   "source": [
    "# Day 7\n",
    "dataquest-> prob and stats -> probability fundamentals -> permutation and combinations <br>\n",
    "More generally, if we have an experiment E1 with a outcomes, followed by an experiment E2 with b outcomes, followed by an experiment En with z outcomes, the total number of outcomes for the composite experiment E1E2 ... En can be found by multiplying their individual outcomes:\n",
    "\n",
    "Number of outcomes= a * b * … * z"
   ]
  },
  {
   "cell_type": "markdown",
   "id": "38b9a9e4",
   "metadata": {
    "papermill": {
     "duration": 0.050077,
     "end_time": "2022-05-01T16:56:51.289767",
     "exception": false,
     "start_time": "2022-05-01T16:56:51.239690",
     "status": "completed"
    },
    "tags": []
   },
   "source": [
    "# Day 8\n",
    "dataquest-> prob and stats -> probability fundamentals -> permutation and combinations <br>\n",
    "permutations= n*(n-1)*(n-2)*....*2*1\n"
   ]
  },
  {
   "cell_type": "markdown",
   "id": "56581208",
   "metadata": {
    "papermill": {
     "duration": 0.050415,
     "end_time": "2022-05-01T16:56:51.391297",
     "exception": false,
     "start_time": "2022-05-01T16:56:51.340882",
     "status": "completed"
    },
    "tags": []
   },
   "source": [
    "# Day 9\n",
    "dataquest-> prob and stats -> probability fundamentals -> permutation and combinations\n",
    "- in permutation order of the individual element in the arranement matters.\n",
    "   - for e.x: 9821 is different than 9281\n",
    "   - Permutations =n!  --> sample without replacement-> we are not putting back the sampled data.\n",
    "   - On the last screen, we learned to use the formula below to calculate permutations when we're sampling without replacement and taking only k objects from a group of n objects:\n",
    "   npk=n!/(n-k)!"
   ]
  },
  {
   "cell_type": "markdown",
   "id": "99d7a54f",
   "metadata": {
    "papermill": {
     "duration": 0.050446,
     "end_time": "2022-05-01T16:56:51.492179",
     "exception": false,
     "start_time": "2022-05-01T16:56:51.441733",
     "status": "completed"
    },
    "tags": []
   },
   "source": [
    "# Day 10\n",
    "dataquest-> prob and stats -> probability fundamentals -> permutation and combinations\n",
    "- More generally, if the order of the elements in an arrangement doesn't matter, the arrangement is called a combination.\n",
    "- e.x: cards in a deck \n",
    "- nCk = n! / ((n-k)!*k!)"
   ]
  },
  {
   "cell_type": "markdown",
   "id": "4c813fcd",
   "metadata": {
    "papermill": {
     "duration": 0.051221,
     "end_time": "2022-05-01T16:56:51.593700",
     "exception": false,
     "start_time": "2022-05-01T16:56:51.542479",
     "status": "completed"
    },
    "tags": []
   },
   "source": [
    "# Day 11\n",
    "dataquest-> prob and stats -> probability fundamentals -> permutation and combinations\n",
    "- solved 1 probability problem.\n"
   ]
  },
  {
   "cell_type": "markdown",
   "id": "838e0465",
   "metadata": {
    "papermill": {
     "duration": 0.05066,
     "end_time": "2022-05-01T16:56:51.694719",
     "exception": false,
     "start_time": "2022-05-01T16:56:51.644059",
     "status": "completed"
    },
    "tags": []
   },
   "source": [
    "# Day 12\n",
    "dataquest-> prob and stats -> probability fundamentals -> permutation and combinations\n",
    "- finished probability and permutations by revising them.\n",
    "- If we have an experiment E1 (like flipping a coin) with a outcomes, followed by an experiment E2(like rolling a die) with b outcomes, then the total number of outcomes for the compositeexperiment E1E2 can be found by multiplying a with b (this is known as the rule of product):\n",
    "  - number of outcomes = a*b\n",
    "- If we have an experiment E1 with a outcomes, followed by an experiment E2 with b outcomes,followed by an experiment En with z outcomes, the total number of outcomes for the compositeexperiment E1E2 ... En can be found by multiplying their individual outcomes:\n",
    "   - number of outcomes = a*b* ... *z\n",
    "- There are two kinds of arrangements:\n",
    "   - •Arrangements where the order matters, which we call permutations.\n",
    "   - •Arrangements where the order doesn't matter, which we call combination\n",
    "- To find the number of permutations when we're sampling without replacement, we can use theformula:\n",
    "  - permutation = n!\n",
    "- To find the number of permutations when we're sampling without replacement and taking only kobjects from a group of n objects, we can use the formula:\n",
    "  - nPk = n!/(n-k)!\n",
    "- To find the number of combinations when we're sampling without replacement and taking only kobjects from a group of n objects, we can use the formula\n",
    "  - nCk = n! / ((n-k)!*k!)"
   ]
  },
  {
   "cell_type": "markdown",
   "id": "ea3cb9a3",
   "metadata": {
    "papermill": {
     "duration": 0.050283,
     "end_time": "2022-05-01T16:56:51.795669",
     "exception": false,
     "start_time": "2022-05-01T16:56:51.745386",
     "status": "completed"
    },
    "tags": []
   },
   "source": [
    "# Day 13\n",
    "dataquest-> prob and stats -> probability fundamentals -> conditional probabilities\n",
    "- first 2 slides -> mainly the recap of old chapter(above one).\n"
   ]
  },
  {
   "cell_type": "markdown",
   "id": "19133ac3",
   "metadata": {
    "papermill": {
     "duration": 0.050264,
     "end_time": "2022-05-01T16:56:51.896101",
     "exception": false,
     "start_time": "2022-05-01T16:56:51.845837",
     "status": "completed"
    },
    "tags": []
   },
   "source": [
    "# Day 14\n",
    "dataquest-> prob and stats -> probability fundamentals -> conditional probabilities\n",
    "<br>slide 4 completed\n",
    "<br>conditional probabilities\n",
    "- probabilities with condition\n",
    "- P(5)=What is the probability of getting a 5? -> normal probability\n",
    "- P(5 | odd) =What is the probability of getting a 5 given the die showed an odd number? -> conditional prob.\n",
    "\n"
   ]
  },
  {
   "cell_type": "markdown",
   "id": "663b2e4b",
   "metadata": {
    "papermill": {
     "duration": 0.051025,
     "end_time": "2022-05-01T16:56:51.997789",
     "exception": false,
     "start_time": "2022-05-01T16:56:51.946764",
     "status": "completed"
    },
    "tags": []
   },
   "source": [
    "# Day 15\n",
    "dataquest-> prob and stats -> probability fundamentals -> conditional probabilities\n",
    "- on slide 5 not done yet.\n",
    "\n",
    "Say we roll a fair six-sided die and want to find the probability of getting an odd number, given the die showed a number greater than 1 after landing. Using probability notation, we want to find P(A|B) where:\n",
    "\n",
    "- A is the event that the number is odd: A = {1, 3, 5}\n",
    "- B is the event that the number is greater than 1: B = {2, 3, 4, 5, 6}\n",
    "- P(A/B)=number of succesfull outcomes / total number of outcomes.\n"
   ]
  },
  {
   "cell_type": "markdown",
   "id": "d97140cc",
   "metadata": {
    "papermill": {
     "duration": 0.049041,
     "end_time": "2022-05-01T16:56:52.096888",
     "exception": false,
     "start_time": "2022-05-01T16:56:52.047847",
     "status": "completed"
    },
    "tags": []
   },
   "source": [
    "# Day 16 and 17\n",
    "dataquest-> prob and stats -> probability fundamentals -> conditional probabilities\n",
    "\n",
    "on slide 6 not done yet."
   ]
  },
  {
   "cell_type": "markdown",
   "id": "af85797b",
   "metadata": {
    "papermill": {
     "duration": 0.049019,
     "end_time": "2022-05-01T16:56:52.195803",
     "exception": false,
     "start_time": "2022-05-01T16:56:52.146784",
     "status": "completed"
    },
    "tags": []
   },
   "source": [
    "# Day 18\n",
    "dataquest-> prob and stats -> probability fundamentals -> conditional probabilities\n",
    "<br>slide 5 code half done"
   ]
  },
  {
   "cell_type": "markdown",
   "id": "6fc13a26",
   "metadata": {
    "papermill": {
     "duration": 0.050013,
     "end_time": "2022-05-01T16:56:52.295013",
     "exception": false,
     "start_time": "2022-05-01T16:56:52.245000",
     "status": "completed"
    },
    "tags": []
   },
   "source": [
    "# Day 19\n",
    "- The number of elements in a set is called the cardinal of the set. \n",
    "  Ω is a set, and the cardinal of \n",
    "   Ω = { 2,3,4,5,6}\n",
    "   cardinal(Ω)=5\n",
    "- P(A | B) = card(A ∩ B) / card(B)\n",
    "- Say we roll a fair six-sided die and want to find the probability of getting an odd number, given the die showed a number greater than 1 after landing. Using probability notation, we want to find P(A|B) where:\n",
    "    - A is the event that the number is odd: A = {1, 3, 5}\n",
    "     - B is the event that the number is greater than 1: B = {2, 3, 4, 5, 6}\n",
    "     - total number of possible outcomes = card({2,3,4,5,6}) =5\n",
    "     - number of successful outcomes = card({3,5})= 2\n",
    "- P(A | B) = card(A ∩ B) / card(B), we can also get the same result using P(A | B) = prob(A ∩ B) / prob(B)\n",
    "\n",
    "     "
   ]
  },
  {
   "cell_type": "markdown",
   "id": "ab0b16d9",
   "metadata": {
    "papermill": {
     "duration": 0.049019,
     "end_time": "2022-05-01T16:56:52.393487",
     "exception": false,
     "start_time": "2022-05-01T16:56:52.344468",
     "status": "completed"
    },
    "tags": []
   },
   "source": [
    "# Day 20\n",
    "dataquest-> prob and stats -> probability fundamentals -> conditional probabilities intermediate\n",
    "<br> slide 1 and 2\n",
    "- P( A | B ) ≠ P(A ∩ B), but rather:\n",
    "   - P(A | B) = P(A ∩ B) / P(B)\n",
    "   - P(A ∩ B) = P(A | B) ⋅ P(B)\n",
    "- Given that a customer bought a laptop, they will or will not also buy a mouse. This means we can be certain that either event (M|L) or (M^C|L) will happen:\n",
    "     - P(M | L) + P(M^C | L) = 1\n",
    "\n"
   ]
  },
  {
   "cell_type": "markdown",
   "id": "ff197abe",
   "metadata": {
    "papermill": {
     "duration": 0.048954,
     "end_time": "2022-05-01T16:56:52.491537",
     "exception": false,
     "start_time": "2022-05-01T16:56:52.442583",
     "status": "completed"
    },
    "tags": []
   },
   "source": [
    "# Day 21\n",
    "dataquest-> prob and stats -> probability fundamentals -> conditional probabilities intermediate\n",
    "slide 1 and 2\n",
    "- P(A ∩ B) = P(B ∩ A)\n",
    "- multiplication rule of probability\n",
    "  -  P(A ∩ B) = P(B) ⋅ P(A | B) \n",
    "  - P(A ∩ B) = P(A) ⋅ P(B | A)\n",
    "- if P(A) and P(B) are statistically independent then \n",
    "  - P(A ∩ B) = P(A) ⋅ P(B)\n",
    "\n"
   ]
  },
  {
   "cell_type": "markdown",
   "id": "ee33f88f",
   "metadata": {
    "papermill": {
     "duration": 0.048923,
     "end_time": "2022-05-01T16:56:52.589696",
     "exception": false,
     "start_time": "2022-05-01T16:56:52.540773",
     "status": "completed"
    },
    "tags": []
   },
   "source": [
    "# Day 22\n",
    "dataquest-> prob and stats -> probability fundamentals -> conditional probabilities intermediate \n",
    "<br>slide 6\n",
    "- If events events A and B are dependent, it means the occurrence of event A changes the probability of event B and vice versa.\n",
    "   - P(A) ≠ P(A | B)\n",
    "   - P(B) ≠ P(B | A)\n",
    "   - P(A ∩ B) ≠ P(A) ⋅ P(B)\n",
    "   - formula will become P(A ∩ B) ≠ P(A) ⋅ P(B/A)\n",
    "   "
   ]
  },
  {
   "cell_type": "markdown",
   "id": "d69cb915",
   "metadata": {
    "papermill": {
     "duration": 0.049476,
     "end_time": "2022-05-01T16:56:52.688306",
     "exception": false,
     "start_time": "2022-05-01T16:56:52.638830",
     "status": "completed"
    },
    "tags": []
   },
   "source": [
    "# Day 23\n",
    "dataquest-> prob and stats -> probability fundamentals -> conditional probabilities intermediate\n",
    "<br>slide 7 to last\n",
    "- To find whether three events — A, B, C — are independent or not, below conditions must hold true -\n",
    "  - P(A ∩ B) ≠ P(A) ⋅ P(B)\n",
    "  - P(A ∩ C) ≠ P(A) ⋅ P(C)\n",
    "  - P(B ∩ C) ≠ P(B) ⋅ P(C)\n",
    "  - P(A ∩ B ∩ C) ≠ P(A) ⋅ P(B) . P(C)\n",
    "- multiplication rule for conditional probability or dependent events\n",
    " - P(A ∩ B ∩ C) = P(A) ⋅ P(B | A) ⋅ P(C | A ∩ B)\n",
    " \n",
    "\n"
   ]
  },
  {
   "cell_type": "markdown",
   "id": "63d2ed5e",
   "metadata": {
    "papermill": {
     "duration": 0.04877,
     "end_time": "2022-05-01T16:56:52.785967",
     "exception": false,
     "start_time": "2022-05-01T16:56:52.737197",
     "status": "completed"
    },
    "tags": []
   },
   "source": [
    "# Day 24\n",
    "dataquest-> prob and stats -> probability fundamentals -> bayes theorem\n",
    "<br>slide 1\n",
    "- independent -> one event is dependent on other\n",
    "   - P(A ∩ B) = P(A) ⋅ P(B/A)\n",
    "- independent -> one event is not dependent on other.\n",
    "   - P(A ∩ B) = P(A) ⋅ P(B)\n",
    "- mutually exclusive -> both the events cannot happen at the same time.\n",
    "   - P(A ∩ B) = 0\n",
    "\n"
   ]
  },
  {
   "cell_type": "markdown",
   "id": "2b74b870",
   "metadata": {
    "papermill": {
     "duration": 0.049709,
     "end_time": "2022-05-01T16:56:52.886332",
     "exception": false,
     "start_time": "2022-05-01T16:56:52.836623",
     "status": "completed"
    },
    "tags": []
   },
   "source": [
    "# Day 25\n",
    "dataquest-> prob and stats -> probability fundamentals -> bayes theorem\n",
    "<br>slide 2\n",
    "- If two events are exhaustive, it means they make up the whole sample space Ω\n",
    "  -  P(A) = P(A ∩ B) + P(A ∩ B^c)\n",
    "     P(A) = (P(B) * P(A/B)) +  (P(B^c) * P(A/B^c))\n",
    "     \n",
    "     "
   ]
  },
  {
   "cell_type": "markdown",
   "id": "726822c1",
   "metadata": {
    "papermill": {
     "duration": 0.048786,
     "end_time": "2022-05-01T16:56:52.984269",
     "exception": false,
     "start_time": "2022-05-01T16:56:52.935483",
     "status": "completed"
    },
    "tags": []
   },
   "source": [
    "# Day 26\n",
    "dataquest-> prob and stats -> probability fundamentals -> bayes theorem\n",
    "<br>slide 3 - last\n",
    "- the law of total probability\n",
    "  - P(A)  = (P(B1) * P(A/B1)) + (P(B2) * P(A/B2))+ ... + (P(Bn) * P(A/Bn)))\n",
    "  - P(A) =(summattion i=1 to n) P(Bi) ⋅ P(A|Bi)\n",
    "- Baye's theorem\n",
    "  - P(B | A) = (P(B) ⋅ P(A | B)) / (n ∑i=1 P(Bi) ⋅ P(A | Bi))\n",
    "- The probability of being infected with HIV before doing any test is called the prior probability (\"prior\" means \"before\"). The probability of being infected with HIV after testing positive is called the posterior probability (\"posterior\" means \"after\").\n",
    "\n",
    "\n",
    "  "
   ]
  },
  {
   "cell_type": "markdown",
   "id": "b1c4004f",
   "metadata": {
    "papermill": {
     "duration": 0.051347,
     "end_time": "2022-05-01T16:56:53.084774",
     "exception": false,
     "start_time": "2022-05-01T16:56:53.033427",
     "status": "completed"
    },
    "tags": []
   },
   "source": [
    "# Day 27\n",
    "dataquest-> prob and stats -> probability fundamentals -> naive bayes theorem\n",
    "<br>slide 1 - \n",
    "P(Spam|w1,w2,w3,w4)∝P(Spam)⋅P(w1|Spam)⋅P(w2|Spam)⋅P(w3|Spam)⋅P(w4|Spam)P(SpamC|w1,w2,w3,w4)∝P(SpamC)⋅P(w1|SpamC)⋅P(w2|SpamC)⋅P(w3|SpamC)⋅P(w4|SpamC)"
   ]
  },
  {
   "cell_type": "markdown",
   "id": "c9a1aa9f",
   "metadata": {
    "papermill": {
     "duration": 0.049447,
     "end_time": "2022-05-01T16:56:53.184236",
     "exception": false,
     "start_time": "2022-05-01T16:56:53.134789",
     "status": "completed"
    },
    "tags": []
   },
   "source": [
    "# Day 28\n",
    "dataquest-> prob and stats -> probability fundamentals -> naive bayes theorem\n",
    "<br>finished.\n",
    "<br>**Summary**\n",
    "- P(Spam|w1,w2,...,wn)∝P(Spam)⋅n∏i=1P(wi|Spam)\n",
    "- P(SpamC|w1,w2,...,wn)∝P(SpamC)⋅n∏i=1P(wi|SpamC)\n",
    "- To calculate P(wi|Spam) and P(wi|SpamC), we need to use the additive smoothing technique: \n",
    "- P ( w i | S p a m ) = (N w i | S p a m + α) / ( N S p a m + α ⋅ N V o c a b u l a r y )\n",
    "- P ( w i | S p a m C ) = (N w i | S p a m C + α) / ( N S p a m C + α ⋅ N V o c a b u l a r y )\n",
    "     - N w i | S p a m = the number of times the word w i occurs in spam messages \n",
    "     - N w i | S p a m C = the number of times the word w i occurs in non-spam messages \n",
    "     - N S p a m = total number of words in spam messages \n",
    "     - N S p a m C = total number of words in non-spam messages \n",
    "     - N V o c a b u l a r y = total number of words in the vocabulary \n",
    "     - α = 1 ( α is a smoothing parameter )\n",
    " - naive bayes theorem assumes that events are not dependent.\n",
    " - The assumption of conditional independence between words is thus naive since it rarely holds in practice, and this is why the algorithm is called Naive Bayes (also called simple Bayes or independence Bayes)."
   ]
  },
  {
   "cell_type": "markdown",
   "id": "9e25d702",
   "metadata": {
    "papermill": {
     "duration": 0.049364,
     "end_time": "2022-05-01T16:56:53.285044",
     "exception": false,
     "start_time": "2022-05-01T16:56:53.235680",
     "status": "completed"
    },
    "tags": []
   },
   "source": [
    "# Day 29,30,31\n",
    "<br>dataquest-> prob and stats -> probability fundamentals -> conditional probability-> guided projects\n",
    "<br> in progress"
   ]
  },
  {
   "cell_type": "markdown",
   "id": "34944d4a",
   "metadata": {
    "papermill": {
     "duration": 0.050197,
     "end_time": "2022-05-01T16:56:53.384990",
     "exception": false,
     "start_time": "2022-05-01T16:56:53.334793",
     "status": "completed"
    },
    "tags": []
   },
   "source": [
    "# Day 32 and 33\n",
    "<br>dataquest-> prob and stats -> probability fundamentals -> guided projects\n",
    "<br> done"
   ]
  },
  {
   "cell_type": "markdown",
   "id": "9f682228",
   "metadata": {
    "papermill": {
     "duration": 0.049046,
     "end_time": "2022-05-01T16:56:53.483562",
     "exception": false,
     "start_time": "2022-05-01T16:56:53.434516",
     "status": "completed"
    },
    "tags": []
   },
   "source": [
    "# Day 34\n",
    "<br>dataquest-> prob and stats -> probability fundamentals -> guided projects-> lottery prediction\n",
    "<br> done"
   ]
  },
  {
   "cell_type": "markdown",
   "id": "51ce0dc8",
   "metadata": {
    "papermill": {
     "duration": 0.049036,
     "end_time": "2022-05-01T16:56:53.581927",
     "exception": false,
     "start_time": "2022-05-01T16:56:53.532891",
     "status": "completed"
    },
    "tags": []
   },
   "source": [
    "# Day 35\n",
    "<br>dataquest-> prob and stats -> hypothesis testing fundamentals -> significance testing\n",
    "<br> till slide 4\n",
    "- null hypothesis\n",
    "- alternate hypothesis\n"
   ]
  },
  {
   "cell_type": "markdown",
   "id": "255eac9f",
   "metadata": {
    "papermill": {
     "duration": 0.049096,
     "end_time": "2022-05-01T16:56:53.681425",
     "exception": false,
     "start_time": "2022-05-01T16:56:53.632329",
     "status": "completed"
    },
    "tags": []
   },
   "source": [
    "# Day 36 and 37\n",
    "<br>dataquest-> prob and stats -> hypothesis testing fundamentals -> significance testing\n",
    "- The permutation test is a statistical test that involves rerunning the study many times and recalculating the test statistic for each iteration. The goal is to calculate a distribution of the test statistics over these many iterations. This distribution is called the sampling distribution and it approximates the full range of possible test statistics under the null hypothesis\n",
    "\n"
   ]
  },
  {
   "cell_type": "markdown",
   "id": "d463d60b",
   "metadata": {
    "papermill": {
     "duration": 0.050678,
     "end_time": "2022-05-01T16:56:53.781348",
     "exception": false,
     "start_time": "2022-05-01T16:56:53.730670",
     "status": "completed"
    },
    "tags": []
   },
   "source": [
    "# Day 38\n",
    "<br>dataquest-> prob and stats -> hypothesis testing fundamentals -> significance testing\n",
    "<br>in progress."
   ]
  },
  {
   "cell_type": "markdown",
   "id": "8a617a0a",
   "metadata": {
    "papermill": {
     "duration": 0.055626,
     "end_time": "2022-05-01T16:56:53.900166",
     "exception": false,
     "start_time": "2022-05-01T16:56:53.844540",
     "status": "completed"
    },
    "tags": []
   },
   "source": [
    "# Day 39\n",
    "<br>dataquest-> prob and stats -> hypothesis testing fundamentals -> significance testing\n",
    "<br>slide 5-6"
   ]
  },
  {
   "cell_type": "markdown",
   "id": "252ad560",
   "metadata": {
    "papermill": {
     "duration": 0.056827,
     "end_time": "2022-05-01T16:56:54.007485",
     "exception": false,
     "start_time": "2022-05-01T16:56:53.950658",
     "status": "completed"
    },
    "tags": []
   },
   "source": [
    "# Day 40\n",
    "<br>dataquest-> prob and stats -> hypothesis testing fundamentals -> significance testing\n",
    "<br>slide 7"
   ]
  },
  {
   "cell_type": "markdown",
   "id": "70020d76",
   "metadata": {
    "papermill": {
     "duration": 0.05863,
     "end_time": "2022-05-01T16:56:54.118610",
     "exception": false,
     "start_time": "2022-05-01T16:56:54.059980",
     "status": "completed"
    },
    "tags": []
   },
   "source": [
    "# Day 41 and 42\n",
    "<br>dataquest-> prob and stats -> hypothesis testing fundamentals -> significance testing\n",
    "<br>slide 7 done and 8(p-value) strated"
   ]
  },
  {
   "cell_type": "markdown",
   "id": "8517d34d",
   "metadata": {
    "papermill": {
     "duration": 0.052358,
     "end_time": "2022-05-01T16:56:54.222189",
     "exception": false,
     "start_time": "2022-05-01T16:56:54.169831",
     "status": "completed"
    },
    "tags": []
   },
   "source": [
    "# Day 43\n",
    "<br>dataquest-> prob and stats -> hypothesis testing fundamentals -> significance testing\n",
    "<br>\n",
    "- The first step is to decide a test statistic, which is a numerical value that summarizes the data and one we can use in statistical formulas. The test statistic runs a statistical test that determines whether the difference between the groups was due to random chance.\n",
    "  - e.x: mean \n",
    "- The permutation test is a statistical test that involves rerunning the study many times and recalculating the test statistic for each iteration.\n",
    "   - The goal is to calculate a distribution of the test statistics over these many iterations. This distribution is called the sampling distribution and it approximates the full range of possible test statistics under the null hypothesis.\n",
    "- If the p value is less than the threshold, we:\n",
    "    - reject the null hypothesis that there's no difference in the mean amount of weight lost by participants in both groups; and\n",
    "    - conclude that there is some evidence that the weight loss pill does affect the amount of weight people lost.\n",
    "\n",
    "- If the p value is greater than the threshold, we:\n",
    "    - fail to reject the null hypothesis that there's no difference in the mean amount of weight lost by participants in both groups,\n",
    "    - conclude that the weight loss pill doesn't seem to be effective in helping people lose weight.\n",
    "- usually used p-value threshold is 0.05\n",
    "- The p value threshold you set can also affect the conclusion you reach.\n",
    "    - If you set too high of a p value threshold, you may reject the null hypothesis incorrectly. This is known as a type I error.\n",
    "    - If you set too low of a p value threshold, you may fail to reject the null hypothesis incorrectly. This is known as a type II error."
   ]
  },
  {
   "cell_type": "markdown",
   "id": "f567a6d3",
   "metadata": {
    "papermill": {
     "duration": 0.049615,
     "end_time": "2022-05-01T16:56:54.321304",
     "exception": false,
     "start_time": "2022-05-01T16:56:54.271689",
     "status": "completed"
    },
    "tags": []
   },
   "source": [
    "# Day 44\n",
    "<br>dataquest-> prob and stats -> hypothesis testing fundamentals -> significance testing-> chi squared test\n",
    "<br>1- 4\n",
    "- chi squared test is used for numerical values"
   ]
  },
  {
   "cell_type": "markdown",
   "id": "1f8eec57",
   "metadata": {
    "papermill": {
     "duration": 0.049152,
     "end_time": "2022-05-01T16:56:54.420977",
     "exception": false,
     "start_time": "2022-05-01T16:56:54.371825",
     "status": "completed"
    },
    "tags": []
   },
   "source": [
    "# Day 45 and 46\n",
    "<br>dataquest-> prob and stats -> hypothesis testing fundamentals -> significance testing-> chi squared test\n",
    "<br>4- 6"
   ]
  },
  {
   "cell_type": "markdown",
   "id": "9f4b0154",
   "metadata": {
    "papermill": {
     "duration": 0.049073,
     "end_time": "2022-05-01T16:56:54.519294",
     "exception": false,
     "start_time": "2022-05-01T16:56:54.470221",
     "status": "completed"
    },
    "tags": []
   },
   "source": [
    "# Day 47\n",
    "<br>dataquest-> prob and stats -> hypothesis testing fundamentals -> significance testing-> chi squared test\n",
    "<br> slide 6 done"
   ]
  },
  {
   "cell_type": "markdown",
   "id": "f48fc87e",
   "metadata": {
    "papermill": {
     "duration": 0.049452,
     "end_time": "2022-05-01T16:56:54.618173",
     "exception": false,
     "start_time": "2022-05-01T16:56:54.568721",
     "status": "completed"
    },
    "tags": []
   },
   "source": [
    "# Day 48\n",
    "<br> chi-squared values is that they get smaller as the sample size decreases.\n",
    "<br>**conclusion**\n",
    "- The chi-squared test enables us to quantify the difference between sets of observed and expected categorical values to determine statistical significance\n",
    "- chi squared = (observed - expected)**2 / expected\n",
    "- A p-value allows us to determine whether the difference between 2 values is due to chance, or due to an underlying difference.\n",
    "- Chi-squared values increase as sample size increases, but the chance of getting a high chi-squared value decreases as the sample gets larger.\n",
    "- A degree of freedom is the number of values that can vary without the other values being\"locked in\". \n",
    "- scipy https://docs.scipy.org/doc/scipy/reference/generated/scipy.stats.mstats.chisquare.html\n"
   ]
  },
  {
   "cell_type": "markdown",
   "id": "fe3fcb1a",
   "metadata": {
    "papermill": {
     "duration": 0.04913,
     "end_time": "2022-05-01T16:56:54.716929",
     "exception": false,
     "start_time": "2022-05-01T16:56:54.667799",
     "status": "completed"
    },
    "tags": []
   },
   "source": [
    "# Day 49\n",
    "<br>dataquest-> prob and stats -> hypothesis testing fundamentals -> significance testing-> multi category chi squared test\n",
    "<br> slide 1 done\n",
    "- We can apply the multi category chi-squared test (also known as the chi-squared test of association) to figure out if there's a statistically significant correlation between two categorical columns.\n",
    "- "
   ]
  },
  {
   "cell_type": "markdown",
   "id": "dcefc477",
   "metadata": {
    "papermill": {
     "duration": 0.048777,
     "end_time": "2022-05-01T16:56:54.815171",
     "exception": false,
     "start_time": "2022-05-01T16:56:54.766394",
     "status": "completed"
    },
    "tags": []
   },
   "source": [
    " **Day 50**\n",
    "<br>dataquest-> prob and stats -> hypothesis testing fundamentals -> significance testing-> multi category chi squared test\n",
    "# Conclusion:\n",
    "- In a multiple category chi-squared test, we calculate expected values across our whole dataset.\n",
    "- We can calculate the chi-squared value by using the following steps:\n",
    "    - Subtract the expected value from the observed value.\n",
    "    - Subtract the difference.\n",
    "    - Divide the squared difference by the expected value.\n",
    "    - Repeat for all observed and expected values and add up all the values.\n",
    "- ∑ expected(observed−expected)**2 / expected\n",
    "- Discovering that a result isn't significant doesn't mean that no association between the columnsexists. Discovering a statistically significant result doesn't imply anything about what thecorrelation is.\n",
    "- Chi-squared tests can only be applied when each possibility within a category is independen.\n",
    "    - we have categories like male or female not both. single row has either male or female not both at a time.\n",
    "- https://docs.scipy.org/doc/scipy-0.15.1/reference/generated/scipy.stats.chi2_contingency.html\n",
    "- https://pandas.pydata.org/pandas-docs/stable/generated/pandas.crosstab.html\n"
   ]
  },
  {
   "cell_type": "markdown",
   "id": "2af4999e",
   "metadata": {
    "papermill": {
     "duration": 0.048908,
     "end_time": "2022-05-01T16:56:54.913116",
     "exception": false,
     "start_time": "2022-05-01T16:56:54.864208",
     "status": "completed"
    },
    "tags": []
   },
   "source": [
    "# **Day 51**\n",
    "<br>dataquest-> prob and stats -> hypothesis testing fundamentals -> significance testing-> guided project\n",
    "<br>in progress."
   ]
  },
  {
   "cell_type": "code",
   "execution_count": null,
   "id": "cd433393",
   "metadata": {
    "papermill": {
     "duration": 0.049101,
     "end_time": "2022-05-01T16:56:55.012325",
     "exception": false,
     "start_time": "2022-05-01T16:56:54.963224",
     "status": "completed"
    },
    "tags": []
   },
   "outputs": [],
   "source": []
  },
  {
   "cell_type": "code",
   "execution_count": 2,
   "id": "a7cb7924",
   "metadata": {
    "execution": {
     "iopub.execute_input": "2022-05-01T16:56:55.116448Z",
     "iopub.status.busy": "2022-05-01T16:56:55.115835Z",
     "iopub.status.idle": "2022-05-01T16:56:55.118586Z",
     "shell.execute_reply": "2022-05-01T16:56:55.118070Z",
     "shell.execute_reply.started": "2022-04-12T14:17:49.333113Z"
    },
    "papermill": {
     "duration": 0.057314,
     "end_time": "2022-05-01T16:56:55.118721",
     "exception": false,
     "start_time": "2022-05-01T16:56:55.061407",
     "status": "completed"
    },
    "tags": []
   },
   "outputs": [],
   "source": [
    "# !pip install PyMuPDF"
   ]
  },
  {
   "cell_type": "code",
   "execution_count": 3,
   "id": "0a8b794f",
   "metadata": {
    "execution": {
     "iopub.execute_input": "2022-05-01T16:56:55.221537Z",
     "iopub.status.busy": "2022-05-01T16:56:55.220931Z",
     "iopub.status.idle": "2022-05-01T16:56:55.223362Z",
     "shell.execute_reply": "2022-05-01T16:56:55.223745Z",
     "shell.execute_reply.started": "2022-04-12T14:19:20.437905Z"
    },
    "papermill": {
     "duration": 0.055898,
     "end_time": "2022-05-01T16:56:55.223908",
     "exception": false,
     "start_time": "2022-05-01T16:56:55.168010",
     "status": "completed"
    },
    "tags": []
   },
   "outputs": [],
   "source": [
    " \n",
    "# fitz.__version__"
   ]
  },
  {
   "cell_type": "code",
   "execution_count": 4,
   "id": "4465e31d",
   "metadata": {
    "execution": {
     "iopub.execute_input": "2022-05-01T16:56:55.326625Z",
     "iopub.status.busy": "2022-05-01T16:56:55.325972Z",
     "iopub.status.idle": "2022-05-01T16:56:55.327993Z",
     "shell.execute_reply": "2022-05-01T16:56:55.328543Z",
     "shell.execute_reply.started": "2022-04-12T14:23:59.687259Z"
    },
    "papermill": {
     "duration": 0.055305,
     "end_time": "2022-05-01T16:56:55.328702",
     "exception": false,
     "start_time": "2022-05-01T16:56:55.273397",
     "status": "completed"
    },
    "tags": []
   },
   "outputs": [],
   "source": [
    "# !python -m spacy download en_core_web_sm"
   ]
  },
  {
   "cell_type": "code",
   "execution_count": null,
   "id": "97248051",
   "metadata": {
    "papermill": {
     "duration": 0.055339,
     "end_time": "2022-05-01T16:56:55.434177",
     "exception": false,
     "start_time": "2022-05-01T16:56:55.378838",
     "status": "completed"
    },
    "tags": []
   },
   "outputs": [],
   "source": []
  },
  {
   "cell_type": "code",
   "execution_count": 5,
   "id": "77d338bc",
   "metadata": {
    "execution": {
     "iopub.execute_input": "2022-05-01T16:56:55.536912Z",
     "iopub.status.busy": "2022-05-01T16:56:55.536328Z",
     "iopub.status.idle": "2022-05-01T16:56:55.538324Z",
     "shell.execute_reply": "2022-05-01T16:56:55.538819Z",
     "shell.execute_reply.started": "2022-04-12T14:18:25.912243Z"
    },
    "papermill": {
     "duration": 0.055623,
     "end_time": "2022-05-01T16:56:55.539014",
     "exception": false,
     "start_time": "2022-05-01T16:56:55.483391",
     "status": "completed"
    },
    "tags": []
   },
   "outputs": [],
   "source": [
    "# import fitz\n",
    "# import spacy\n",
    "# import re\n",
    "# from pathlib import Path\n",
    "# import requests\n",
    "# import os"
   ]
  },
  {
   "cell_type": "code",
   "execution_count": 6,
   "id": "7e0c7bbb",
   "metadata": {
    "execution": {
     "iopub.execute_input": "2022-05-01T16:56:55.642623Z",
     "iopub.status.busy": "2022-05-01T16:56:55.641958Z",
     "iopub.status.idle": "2022-05-01T16:56:55.645361Z",
     "shell.execute_reply": "2022-05-01T16:56:55.645879Z",
     "shell.execute_reply.started": "2022-04-12T15:03:43.5897Z"
    },
    "papermill": {
     "duration": 0.056104,
     "end_time": "2022-05-01T16:56:55.646040",
     "exception": false,
     "start_time": "2022-05-01T16:56:55.589936",
     "status": "completed"
    },
    "tags": []
   },
   "outputs": [],
   "source": [
    "# sql_db_json = [\n",
    "#   {\n",
    "#     \"document_id\": \"1\",\n",
    "#     \"area\": \"[72.1149,661.2966,131.95729,675.1716]\",\n",
    "#     \"page\": \"3\",\n",
    "#     \"text_\": \"Background\",\n",
    "#     \"type_of_selection\": \"Text\",\n",
    "#     \"entity_type\": \"name\",\n",
    "#     \"link\": \"https://redactable-devox-stage.s3.us-east-2.amazonaws.com/tenants/41d9e109-693b-444c-aa18-e5891bc6550b/original/1a7c0e5d-3237-4ca9-9e3d-89e707245ac6/D8communications.pdf\"\n",
    "#   },\n",
    "#   {\n",
    "#     \"document_id\": \"1\",\n",
    "#     \"area\": \"[290.55386,632.0173,322.14685,645.8923]\",\n",
    "#     \"page\": \"2\",\n",
    "#     \"text_\": \"INDEX\",\n",
    "#     \"type_of_selection\": \"Text\",\n",
    "#     \"entity_type\": \"address\",\n",
    "#     \"link\": \"https://redactable-devox-stage.s3.us-east-2.amazonaws.com/tenants/41d9e109-693b-444c-aa18-e5891bc6550b/original/1a7c0e5d-3237-4ca9-9e3d-89e707245ac6/D8communications.pdf\"\n",
    "#   }\n",
    "# ]"
   ]
  },
  {
   "cell_type": "code",
   "execution_count": 7,
   "id": "9f326073",
   "metadata": {
    "execution": {
     "iopub.execute_input": "2022-05-01T16:56:55.748621Z",
     "iopub.status.busy": "2022-05-01T16:56:55.747949Z",
     "iopub.status.idle": "2022-05-01T16:56:55.750820Z",
     "shell.execute_reply": "2022-05-01T16:56:55.751331Z",
     "shell.execute_reply.started": "2022-04-12T13:17:19.452695Z"
    },
    "papermill": {
     "duration": 0.055809,
     "end_time": "2022-05-01T16:56:55.751501",
     "exception": false,
     "start_time": "2022-05-01T16:56:55.695692",
     "status": "completed"
    },
    "tags": []
   },
   "outputs": [],
   "source": [
    "# l=pd.DataFrame()\n",
    "# k=(1, '[290.55386,632.0173,322.14685,645.8923]', 2, 'INDEX', 'Text', 'address', 'https://redactable-devox-s')\n",
    "# k\n"
   ]
  },
  {
   "cell_type": "code",
   "execution_count": 8,
   "id": "81b060e5",
   "metadata": {
    "execution": {
     "iopub.execute_input": "2022-05-01T16:56:55.854174Z",
     "iopub.status.busy": "2022-05-01T16:56:55.853519Z",
     "iopub.status.idle": "2022-05-01T16:56:55.856322Z",
     "shell.execute_reply": "2022-05-01T16:56:55.856799Z",
     "shell.execute_reply.started": "2022-04-12T16:09:33.708631Z"
    },
    "papermill": {
     "duration": 0.055787,
     "end_time": "2022-05-01T16:56:55.856959",
     "exception": false,
     "start_time": "2022-05-01T16:56:55.801172",
     "status": "completed"
    },
    "tags": []
   },
   "outputs": [],
   "source": [
    "# co=[\"document_id\",\"area\",\"page\",\"text_\",\"type_of_selection\",\"entity_type\",\"link\"]\n",
    "# val= [(1,'[72.1149,661.2966,131.95729,675.1716]',3,'Background','Text','name' ,'https://redactable-devox-stage.s3.us-east-2.am'), (1,  '[290.55386,632.0173,322.14685,645.8923]',2,'INDEX', 'Text','address','https://redactable-devox-stage.s3.us-east-2.am')]\n",
    "\n",
    "# df=pd.DataFrame(val,columns=[co])\n",
    "# #df.iloc[1] =[1,  '[290.55386,632.0173,322.14685,645.8923]',2,'INDEX', 'Text','address','https://redactable-devox-stage.s3.us-east-2.am']\n",
    "# df"
   ]
  },
  {
   "cell_type": "code",
   "execution_count": 9,
   "id": "c097c5c8",
   "metadata": {
    "execution": {
     "iopub.execute_input": "2022-05-01T16:56:55.960957Z",
     "iopub.status.busy": "2022-05-01T16:56:55.960357Z",
     "iopub.status.idle": "2022-05-01T16:56:55.964373Z",
     "shell.execute_reply": "2022-05-01T16:56:55.963685Z",
     "shell.execute_reply.started": "2022-04-12T16:18:22.595374Z"
    },
    "papermill": {
     "duration": 0.056269,
     "end_time": "2022-05-01T16:56:55.964537",
     "exception": false,
     "start_time": "2022-05-01T16:56:55.908268",
     "status": "completed"
    },
    "tags": []
   },
   "outputs": [],
   "source": [
    "# prev=[]\n",
    "# for data,row in df.iterrows():\n",
    "#     if row['document_id'] not in prev:\n",
    "#         prev.append(row['document_id'])\n",
    "#         print('hey')"
   ]
  },
  {
   "cell_type": "code",
   "execution_count": 10,
   "id": "117fa83e",
   "metadata": {
    "execution": {
     "iopub.execute_input": "2022-05-01T16:56:56.066913Z",
     "iopub.status.busy": "2022-05-01T16:56:56.066281Z",
     "iopub.status.idle": "2022-05-01T16:56:56.071719Z",
     "shell.execute_reply": "2022-05-01T16:56:56.071232Z",
     "shell.execute_reply.started": "2022-04-12T15:03:48.248836Z"
    },
    "papermill": {
     "duration": 0.057756,
     "end_time": "2022-05-01T16:56:56.071851",
     "exception": false,
     "start_time": "2022-05-01T16:56:56.014095",
     "status": "completed"
    },
    "tags": []
   },
   "outputs": [],
   "source": [
    "# nlp = spacy.load('en_core_web_sm')\n",
    "# train_data = []\n",
    "\n",
    "# prev_doc_id = ''\n",
    "# i=0\n",
    "# temp='/kaggle/working'\n",
    "\n",
    "# for data in sql_db_json:\n",
    "#     if data['type_of_selection'] == 'Text':\n",
    "#         document_id = data['document_id']\n",
    "#         x1,y1,x2,y2 = data['area'][1:-1].split(',')\n",
    "#         url = data['link']\n",
    "#         page_no = int(data['page']) - 1 \n",
    "#         label = data['entity_type']\n",
    "#         filename = url.split('/')[-1]\n",
    "    \n",
    "#         #download the file to temp folder\n",
    "#         outpath = os.path.join(temp,filename)\n",
    "\n",
    "#         if document_id == prev_doc_id:\n",
    "#             pass\n",
    "#         else: \n",
    "#             i+=1\n",
    "#             print(i)\n",
    "#             response = requests.get(url)\n",
    "#             with open(outpath, \"wb\") as binary_file:\n",
    "#                 binary_file.write(response.content)\n",
    "\n",
    "#         doc = fitz.open(outpath)  # any supported document type\n",
    "#         page = doc[page_no]  # we want text from this page\n",
    "#         print('page dimension - ', page.rect.width, page.rect.height)\n",
    "\n",
    "#         #The co-ordinates in the DB are image co-ords. W.r.t pdf, y1 and y2 has to be interchanged.\n",
    "#         #To ensure entire word to be selected, slight correction in x1,y1,x2,y2 is done.\n",
    "\n",
    "#         rect = [float(x1)-2, 792 - float(y2)-2, float(x2)+2, 792 - float(y1)+2]\n",
    "#         print(rect)\n",
    "#         labelled_text = page.get_textbox(rect)\n",
    "\n",
    "#         #Removing all unprintable characters from the text\n",
    "#         string = re.sub('[^0-9a-zA-Z@?|\\/<>.,()&^%$#!]+', ' ', labelled_text)\n",
    "#         print('string : ', string)\n",
    "\n",
    "#         fulltext = page.get_text()\n",
    "#         doc = nlp(fulltext)\n",
    "\n",
    "#         sentences = []\n",
    "#         for sent in doc.sents:\n",
    "#             if string.strip() in sent.text:\n",
    "#                 text = re.sub('[^0-9a-zA-Z@?|\\/<>.,()&^%$#!]+', ' ', sent.text)\n",
    "\n",
    "#         res = re.search(string.strip(), text)\n",
    "\n",
    "#         entities = []\n",
    "#         entities.append((res.start(),res.end(),label))\n",
    "\n",
    "#         train_data.append((text,{'entities':entities}))\n",
    "\n",
    "# print('Training data in spacy format')\n",
    "# print('*****************************')\n",
    "# for i in range(0,len(train_data)):\n",
    "#     print(train_data[i])"
   ]
  },
  {
   "cell_type": "code",
   "execution_count": null,
   "id": "2ea9c5d5",
   "metadata": {
    "papermill": {
     "duration": 0.049239,
     "end_time": "2022-05-01T16:56:56.171413",
     "exception": false,
     "start_time": "2022-05-01T16:56:56.122174",
     "status": "completed"
    },
    "tags": []
   },
   "outputs": [],
   "source": []
  },
  {
   "cell_type": "code",
   "execution_count": 11,
   "id": "c361b1ee",
   "metadata": {
    "execution": {
     "iopub.execute_input": "2022-05-01T16:56:56.275622Z",
     "iopub.status.busy": "2022-05-01T16:56:56.275000Z",
     "iopub.status.idle": "2022-05-01T16:56:56.277288Z",
     "shell.execute_reply": "2022-05-01T16:56:56.277741Z",
     "shell.execute_reply.started": "2022-04-12T11:44:59.253637Z"
    },
    "papermill": {
     "duration": 0.057179,
     "end_time": "2022-05-01T16:56:56.277889",
     "exception": false,
     "start_time": "2022-05-01T16:56:56.220710",
     "status": "completed"
    },
    "tags": []
   },
   "outputs": [],
   "source": [
    "# nlp = spacy.load('en_core_web_sm')\n",
    "# train_data = []\n",
    "\n",
    "# prev_doc_id = ''\n",
    "# temp='/kaggle/working'\n",
    "# i=0\n",
    "# for data in sql_db_json:\n",
    "#     if data['type_of_selection'] == 'Text':\n",
    "#         document_id = data['document_id']\n",
    "#         x1,y1,x2,y2 = data['area'][1:-1].split(',')\n",
    "#         url = data['link']\n",
    "#         page_no = int(data['page']) - 1 \n",
    "#         label = data['entity_type']\n",
    "#         filename = url.split('/')[-1]\n",
    "    \n",
    "#         #download the file to temp folder\n",
    "#         i+=1\n",
    "#         print(i)\n",
    "#         response = requests.get(url)\n",
    "#         doc = fitz.open(stream=response.content,filetype=\"pdf\")  # any supported document type\n",
    "#         page = doc[page_no]  # we want text from this page\n",
    "#         print('page dimension - ', page.rect.width, page.rect.height)\n",
    "\n",
    "#         #The co-ordinates in the DB are image co-ords. W.r.t pdf, y1 and y2 has to be interchanged.\n",
    "#         #To ensure entire word to be selected, slight correction in x1,y1,x2,y2 is done.\n",
    "\n",
    "#         rect = [float(x1)-2, 792 - float(y2)-2, float(x2)+2, 792 - float(y1)+2]\n",
    "#         print(rect)\n",
    "#         labelled_text = page.get_textbox(rect)\n",
    "\n",
    "#         #Removing all unprintable characters from the text\n",
    "#         string = re.sub('[^0-9a-zA-Z@?|\\/<>.,()&^%$#!]+', ' ', labelled_text)\n",
    "#         print('string : ', string)\n",
    "\n",
    "#         fulltext = page.get_text()\n",
    "#         doc = nlp(fulltext)\n",
    "\n",
    "#         sentences = []\n",
    "#         for sent in doc.sents:\n",
    "#             if string.strip() in sent.text:\n",
    "#                 text = re.sub('[^0-9a-zA-Z@?|\\/<>.,()&^%$#!]+', ' ', sent.text)\n",
    "\n",
    "#         res = re.search(string.strip(), text)\n",
    "\n",
    "#         entities = []\n",
    "#         entities.append((res.start(),res.end(),label))\n",
    "\n",
    "#         train_data.append((text,{'entities':entities}))\n",
    "\n",
    "# print('Training data in spacy format')\n",
    "# print('*****************************')\n",
    "# for i in range(0,len(train_data)):\n",
    "#     print(train_data[i])"
   ]
  },
  {
   "cell_type": "code",
   "execution_count": 12,
   "id": "26cb2ec8",
   "metadata": {
    "execution": {
     "iopub.execute_input": "2022-05-01T16:56:56.380563Z",
     "iopub.status.busy": "2022-05-01T16:56:56.379971Z",
     "iopub.status.idle": "2022-05-01T16:56:56.382883Z",
     "shell.execute_reply": "2022-05-01T16:56:56.382465Z"
    },
    "papermill": {
     "duration": 0.05595,
     "end_time": "2022-05-01T16:56:56.383013",
     "exception": false,
     "start_time": "2022-05-01T16:56:56.327063",
     "status": "completed"
    },
    "tags": []
   },
   "outputs": [],
   "source": [
    "# page dimension -  612.0 792.0\n",
    "# [70.1149, 114.82839999999999, 133.95729, 132.7034]\n",
    "# string :  Background\n",
    "# page dimension -  612.0 792.0\n",
    "# [288.55386, 144.10770000000002, 324.14685, 161.98270000000002]\n",
    "# string :  INDEX\n",
    "# Training data in spacy format\n",
    "# *****************************\n",
    "# (' 3 Background The Blue Ribbon Committee was created by the Mayor to assess various city communication methods and recommend opportunities to improve communications with residents, businesses and other organizations.', {'entities': [(3, 13, 'name')]})\n",
    "# (' 2 INDEX Background Pg. 3 Purpose Pg. 3 Process .', {'entities': [(3, 8, 'address')]})"
   ]
  },
  {
   "cell_type": "code",
   "execution_count": 13,
   "id": "4f0bbe74",
   "metadata": {
    "execution": {
     "iopub.execute_input": "2022-05-01T16:56:56.486424Z",
     "iopub.status.busy": "2022-05-01T16:56:56.485800Z",
     "iopub.status.idle": "2022-05-01T16:56:56.488698Z",
     "shell.execute_reply": "2022-05-01T16:56:56.488213Z",
     "shell.execute_reply.started": "2022-04-11T16:35:29.609712Z"
    },
    "papermill": {
     "duration": 0.056407,
     "end_time": "2022-05-01T16:56:56.488829",
     "exception": false,
     "start_time": "2022-05-01T16:56:56.432422",
     "status": "completed"
    },
    "tags": []
   },
   "outputs": [],
   "source": [
    "# nlp = spacy.load('en_core_web_sm')\n",
    "# outpath=r'/kaggle/input/sample-pdf/D8communications.pdf'\n",
    "# doc = fitz.open(outpath)  # any supported document type\n",
    "# page_no=3\n",
    "# page = doc[page_no-1]\n",
    "\n",
    "# x1,y1,x2,y2=(72.1149,661.2966,131.95729,675.1716)\n",
    "\n",
    "# rect = [float(x1)-2, 792 - float(y2)-2, float(x2)+2, 792 - float(y1)+2]\n",
    "# print(rect)\n",
    "# labelled_text = page.get_textbox(rect)\n",
    "# string = re.sub('[^0-9a-zA-Z@?|\\/<>.,()&^%$#!]+', ' ', labelled_text)\n",
    "# print('string : ', string)\n",
    "\n",
    "# fulltext = page.get_text()\n",
    "# doc = nlp(fulltext)\n",
    "\n",
    "# sentences = []\n",
    "# for sent in doc.sents:\n",
    "#             if string.strip() in sent.text:\n",
    "#                 text = re.sub('[^0-9a-zA-Z@?|\\/<>.,()&^%$#!]+', ' ', sent.text)\n",
    "\n",
    "#         res = re.search(string.strip(), text)\n",
    "\n",
    "#         entities = []\n",
    "#         entities.append((res.start(),res.end(),label))\n",
    "\n",
    "#         train_data.append((text,{'entities':entities}))\n",
    "\n"
   ]
  },
  {
   "cell_type": "code",
   "execution_count": 14,
   "id": "2c4c5587",
   "metadata": {
    "execution": {
     "iopub.execute_input": "2022-05-01T16:56:56.591538Z",
     "iopub.status.busy": "2022-05-01T16:56:56.590936Z",
     "iopub.status.idle": "2022-05-01T16:56:56.592619Z",
     "shell.execute_reply": "2022-05-01T16:56:56.593112Z",
     "shell.execute_reply.started": "2022-04-11T16:35:41.679947Z"
    },
    "papermill": {
     "duration": 0.055273,
     "end_time": "2022-05-01T16:56:56.593307",
     "exception": false,
     "start_time": "2022-05-01T16:56:56.538034",
     "status": "completed"
    },
    "tags": []
   },
   "outputs": [],
   "source": [
    "#doc"
   ]
  },
  {
   "cell_type": "code",
   "execution_count": 15,
   "id": "eafad8f3",
   "metadata": {
    "execution": {
     "iopub.execute_input": "2022-05-01T16:56:56.697804Z",
     "iopub.status.busy": "2022-05-01T16:56:56.697136Z",
     "iopub.status.idle": "2022-05-01T16:56:56.700186Z",
     "shell.execute_reply": "2022-05-01T16:56:56.699729Z",
     "shell.execute_reply.started": "2022-04-11T16:35:56.010353Z"
    },
    "papermill": {
     "duration": 0.05756,
     "end_time": "2022-05-01T16:56:56.700365",
     "exception": false,
     "start_time": "2022-05-01T16:56:56.642805",
     "status": "completed"
    },
    "tags": []
   },
   "outputs": [],
   "source": [
    "# sentences = []\n",
    "# for sent in doc.sents:\n",
    "#     if string.strip() in sent.text:\n",
    "#         text = re.sub('[^0-9a-zA-Z@?|\\/<>.,()&^%$#!]+', ' ', sent.text)"
   ]
  },
  {
   "cell_type": "code",
   "execution_count": 16,
   "id": "e3644841",
   "metadata": {
    "execution": {
     "iopub.execute_input": "2022-05-01T16:56:56.807366Z",
     "iopub.status.busy": "2022-05-01T16:56:56.806723Z",
     "iopub.status.idle": "2022-05-01T16:56:56.809831Z",
     "shell.execute_reply": "2022-05-01T16:56:56.809361Z",
     "shell.execute_reply.started": "2022-04-11T16:39:04.736143Z"
    },
    "papermill": {
     "duration": 0.057528,
     "end_time": "2022-05-01T16:56:56.809971",
     "exception": false,
     "start_time": "2022-05-01T16:56:56.752443",
     "status": "completed"
    },
    "tags": []
   },
   "outputs": [],
   "source": [
    "# k=nlp(\"he             kenny\")\n",
    "# for sent in k.sents:\n",
    "#     print(sent)"
   ]
  },
  {
   "cell_type": "code",
   "execution_count": 17,
   "id": "9cc8348c",
   "metadata": {
    "execution": {
     "iopub.execute_input": "2022-05-01T16:56:56.914812Z",
     "iopub.status.busy": "2022-05-01T16:56:56.913870Z",
     "iopub.status.idle": "2022-05-01T16:56:56.916932Z",
     "shell.execute_reply": "2022-05-01T16:56:56.917498Z",
     "shell.execute_reply.started": "2022-04-11T15:09:24.391421Z"
    },
    "papermill": {
     "duration": 0.056877,
     "end_time": "2022-05-01T16:56:56.917659",
     "exception": false,
     "start_time": "2022-05-01T16:56:56.860782",
     "status": "completed"
    },
    "tags": []
   },
   "outputs": [],
   "source": [
    "# text"
   ]
  },
  {
   "cell_type": "code",
   "execution_count": 18,
   "id": "a0d1873a",
   "metadata": {
    "execution": {
     "iopub.execute_input": "2022-05-01T16:56:57.020039Z",
     "iopub.status.busy": "2022-05-01T16:56:57.019452Z",
     "iopub.status.idle": "2022-05-01T16:56:57.022349Z",
     "shell.execute_reply": "2022-05-01T16:56:57.022769Z",
     "shell.execute_reply.started": "2022-04-11T15:09:31.9599Z"
    },
    "papermill": {
     "duration": 0.055651,
     "end_time": "2022-05-01T16:56:57.022934",
     "exception": false,
     "start_time": "2022-05-01T16:56:56.967283",
     "status": "completed"
    },
    "tags": []
   },
   "outputs": [],
   "source": [
    "# res = re.search(string.strip(), text)\n",
    "# res"
   ]
  },
  {
   "cell_type": "code",
   "execution_count": 19,
   "id": "01961509",
   "metadata": {
    "execution": {
     "iopub.execute_input": "2022-05-01T16:56:57.127950Z",
     "iopub.status.busy": "2022-05-01T16:56:57.127402Z",
     "iopub.status.idle": "2022-05-01T16:56:57.129858Z",
     "shell.execute_reply": "2022-05-01T16:56:57.130296Z",
     "shell.execute_reply.started": "2022-04-11T15:12:41.311242Z"
    },
    "papermill": {
     "duration": 0.057906,
     "end_time": "2022-05-01T16:56:57.130452",
     "exception": false,
     "start_time": "2022-05-01T16:56:57.072546",
     "status": "completed"
    },
    "tags": []
   },
   "outputs": [],
   "source": [
    "# entities = []\n",
    "# entities.append((res.start(),res.end(),'p'))"
   ]
  },
  {
   "cell_type": "code",
   "execution_count": 20,
   "id": "88269421",
   "metadata": {
    "execution": {
     "iopub.execute_input": "2022-05-01T16:56:57.231165Z",
     "iopub.status.busy": "2022-05-01T16:56:57.230624Z",
     "iopub.status.idle": "2022-05-01T16:56:57.233563Z",
     "shell.execute_reply": "2022-05-01T16:56:57.234027Z",
     "shell.execute_reply.started": "2022-04-11T15:12:52.736619Z"
    },
    "papermill": {
     "duration": 0.054653,
     "end_time": "2022-05-01T16:56:57.234180",
     "exception": false,
     "start_time": "2022-05-01T16:56:57.179527",
     "status": "completed"
    },
    "tags": []
   },
   "outputs": [],
   "source": [
    "# entities"
   ]
  },
  {
   "cell_type": "code",
   "execution_count": 21,
   "id": "8b6907a4",
   "metadata": {
    "execution": {
     "iopub.execute_input": "2022-05-01T16:56:57.335115Z",
     "iopub.status.busy": "2022-05-01T16:56:57.334583Z",
     "iopub.status.idle": "2022-05-01T16:56:57.337532Z",
     "shell.execute_reply": "2022-05-01T16:56:57.338018Z",
     "shell.execute_reply.started": "2022-04-11T15:06:11.546217Z"
    },
    "papermill": {
     "duration": 0.054757,
     "end_time": "2022-05-01T16:56:57.338162",
     "exception": false,
     "start_time": "2022-05-01T16:56:57.283405",
     "status": "completed"
    },
    "tags": []
   },
   "outputs": [],
   "source": [
    "# text"
   ]
  },
  {
   "cell_type": "code",
   "execution_count": null,
   "id": "6d937d1a",
   "metadata": {
    "execution": {
     "iopub.execute_input": "2022-04-11T15:02:33.300092Z",
     "iopub.status.busy": "2022-04-11T15:02:33.299778Z",
     "iopub.status.idle": "2022-04-11T15:02:33.30711Z",
     "shell.execute_reply": "2022-04-11T15:02:33.306345Z",
     "shell.execute_reply.started": "2022-04-11T15:02:33.300061Z"
    },
    "papermill": {
     "duration": 0.048735,
     "end_time": "2022-05-01T16:56:57.435930",
     "exception": false,
     "start_time": "2022-05-01T16:56:57.387195",
     "status": "completed"
    },
    "tags": []
   },
   "outputs": [],
   "source": []
  },
  {
   "cell_type": "code",
   "execution_count": 22,
   "id": "7b5931f2",
   "metadata": {
    "execution": {
     "iopub.execute_input": "2022-05-01T16:56:57.536733Z",
     "iopub.status.busy": "2022-05-01T16:56:57.536167Z",
     "iopub.status.idle": "2022-05-01T16:56:57.538637Z",
     "shell.execute_reply": "2022-05-01T16:56:57.539132Z",
     "shell.execute_reply.started": "2022-04-11T16:21:02.863037Z"
    },
    "papermill": {
     "duration": 0.054406,
     "end_time": "2022-05-01T16:56:57.539308",
     "exception": false,
     "start_time": "2022-05-01T16:56:57.484902",
     "status": "completed"
    },
    "tags": []
   },
   "outputs": [],
   "source": [
    "# import spacy\n",
    "# nlp = spacy.load('en_core_web_sm')"
   ]
  },
  {
   "cell_type": "code",
   "execution_count": 23,
   "id": "7470470e",
   "metadata": {
    "execution": {
     "iopub.execute_input": "2022-05-01T16:56:57.642222Z",
     "iopub.status.busy": "2022-05-01T16:56:57.641599Z",
     "iopub.status.idle": "2022-05-01T16:56:57.644569Z",
     "shell.execute_reply": "2022-05-01T16:56:57.645056Z",
     "shell.execute_reply.started": "2022-04-09T12:19:47.776612Z"
    },
    "papermill": {
     "duration": 0.057054,
     "end_time": "2022-05-01T16:56:57.645231",
     "exception": false,
     "start_time": "2022-05-01T16:56:57.588177",
     "status": "completed"
    },
    "tags": []
   },
   "outputs": [],
   "source": [
    "# !pip install PyPDF2\n",
    "# import PyPDF2\n",
    "# fhandle = open(r'/kaggle/input/sample-pdf/D8communications.pdf', 'rb')\n",
    "# pdfReader = PyPDF2.PdfFileReader(fhandle)\n",
    "# pagehandle = pdfReader.getPage(4)\n",
    "# print(pagehandle.extractText())"
   ]
  },
  {
   "cell_type": "code",
   "execution_count": 24,
   "id": "e136d4dc",
   "metadata": {
    "execution": {
     "iopub.execute_input": "2022-05-01T16:56:57.749221Z",
     "iopub.status.busy": "2022-05-01T16:56:57.748599Z",
     "iopub.status.idle": "2022-05-01T16:56:57.751392Z",
     "shell.execute_reply": "2022-05-01T16:56:57.751892Z",
     "shell.execute_reply.started": "2022-04-09T12:25:37.701467Z"
    },
    "papermill": {
     "duration": 0.056962,
     "end_time": "2022-05-01T16:56:57.752060",
     "exception": false,
     "start_time": "2022-05-01T16:56:57.695098",
     "status": "completed"
    },
    "tags": []
   },
   "outputs": [],
   "source": [
    "# !pip install pdfplumber\n",
    "# import pdfplumber\n",
    "# with pdfplumber.open(r'/kaggle/input/sample-pdf/D8communications.pdf') as pdf:\n",
    "#     first_page = pdf.pages[3]\n",
    "#     print(first_page.extract_text())"
   ]
  },
  {
   "cell_type": "code",
   "execution_count": 25,
   "id": "b2fc7794",
   "metadata": {
    "execution": {
     "iopub.execute_input": "2022-05-01T16:56:57.856830Z",
     "iopub.status.busy": "2022-05-01T16:56:57.856162Z",
     "iopub.status.idle": "2022-05-01T16:56:57.859520Z",
     "shell.execute_reply": "2022-05-01T16:56:57.858921Z",
     "shell.execute_reply.started": "2022-04-09T12:25:49.584635Z"
    },
    "papermill": {
     "duration": 0.057956,
     "end_time": "2022-05-01T16:56:57.859678",
     "exception": false,
     "start_time": "2022-05-01T16:56:57.801722",
     "status": "completed"
    },
    "tags": []
   },
   "outputs": [],
   "source": [
    "# !pip install pytesseract"
   ]
  },
  {
   "cell_type": "code",
   "execution_count": 26,
   "id": "016df62d",
   "metadata": {
    "execution": {
     "iopub.execute_input": "2022-05-01T16:56:57.964696Z",
     "iopub.status.busy": "2022-05-01T16:56:57.963877Z",
     "iopub.status.idle": "2022-05-01T16:56:57.966444Z",
     "shell.execute_reply": "2022-05-01T16:56:57.965927Z",
     "shell.execute_reply.started": "2022-04-09T14:49:10.656812Z"
    },
    "papermill": {
     "duration": 0.056251,
     "end_time": "2022-05-01T16:56:57.966581",
     "exception": false,
     "start_time": "2022-05-01T16:56:57.910330",
     "status": "completed"
    },
    "tags": []
   },
   "outputs": [],
   "source": [
    "# #!pip install pdf2image\n",
    "# !pip install poppler"
   ]
  },
  {
   "cell_type": "code",
   "execution_count": 27,
   "id": "10566e9a",
   "metadata": {
    "execution": {
     "iopub.execute_input": "2022-05-01T16:56:58.070652Z",
     "iopub.status.busy": "2022-05-01T16:56:58.069995Z",
     "iopub.status.idle": "2022-05-01T16:56:58.073037Z",
     "shell.execute_reply": "2022-05-01T16:56:58.072550Z",
     "shell.execute_reply.started": "2022-04-09T14:57:24.756677Z"
    },
    "papermill": {
     "duration": 0.057038,
     "end_time": "2022-05-01T16:56:58.073176",
     "exception": false,
     "start_time": "2022-05-01T16:56:58.016138",
     "status": "completed"
    },
    "tags": []
   },
   "outputs": [],
   "source": [
    "# pdf2image.convert_from_path('/kaggle/input/sample-pdf/D8communications.pdf')"
   ]
  },
  {
   "cell_type": "code",
   "execution_count": 28,
   "id": "5fb2b077",
   "metadata": {
    "execution": {
     "iopub.execute_input": "2022-05-01T16:56:58.178161Z",
     "iopub.status.busy": "2022-05-01T16:56:58.177083Z",
     "iopub.status.idle": "2022-05-01T16:56:58.181027Z",
     "shell.execute_reply": "2022-05-01T16:56:58.181526Z",
     "shell.execute_reply.started": "2022-04-09T14:57:17.576149Z"
    },
    "papermill": {
     "duration": 0.057845,
     "end_time": "2022-05-01T16:56:58.181693",
     "exception": false,
     "start_time": "2022-05-01T16:56:58.123848",
     "status": "completed"
    },
    "tags": []
   },
   "outputs": [],
   "source": [
    "# import pdf2image\n",
    "# try:\n",
    "#     from PIL import Image\n",
    "# except ImportError:\n",
    "#     import Image\n",
    "# import pytesseract\n",
    "\n",
    "\n",
    "# def pdf_to_img(pdf_file):\n",
    "#     return pdf2image.convert_from_path(pdf_file)\n",
    "\n",
    "\n",
    "# def ocr_core(file):\n",
    "#     text = pytesseract.image_to_string(file)\n",
    "#     return text\n",
    "\n",
    "\n",
    "# def print_pages(pdf_file):\n",
    "#     images = pdf_to_img(pdf_file)\n",
    "#     for pg, img in enumerate(images):\n",
    "#         print(ocr_core(img))\n",
    "\n",
    "\n",
    "# print_pages('/kaggle/input/sample-pdf/D8communications.pdf')\n"
   ]
  },
  {
   "cell_type": "code",
   "execution_count": 29,
   "id": "b1bf9f61",
   "metadata": {
    "execution": {
     "iopub.execute_input": "2022-05-01T16:56:58.290451Z",
     "iopub.status.busy": "2022-05-01T16:56:58.289505Z",
     "iopub.status.idle": "2022-05-01T16:56:58.291760Z",
     "shell.execute_reply": "2022-05-01T16:56:58.292146Z"
    },
    "papermill": {
     "duration": 0.060845,
     "end_time": "2022-05-01T16:56:58.292349",
     "exception": false,
     "start_time": "2022-05-01T16:56:58.231504",
     "status": "completed"
    },
    "tags": []
   },
   "outputs": [],
   "source": [
    "# import requests\n",
    "# import fitz\n",
    "# import io\n",
    "\n",
    "# #URL = 'https://buildmedia.readthedocs.org/media/pdf/pdfminer-docs/latest/pdfminer-docs.pdf'\n",
    "# URL = 'https://redactable-devox-stage.s3.us-east-2.amazonaws.com/tenants/41d9e109-693b-444c-aa18-e5891bc6550b/original/1a7c0e5d-3237-4ca9-9e3d-89e707245ac6/D8communications.pdf'\n",
    "\n",
    "\n",
    "# res = requests.get(URL)\n",
    "# filestream = io.BytesIO(res.content)\n",
    "# #res.content\n",
    "# filestream\n",
    "# doc = fitz.Document(stream=filestream)\n",
    "# page1 = doc.loadPage(3)\n",
    "# page1text = page1.getText(\"text\").encode(\"utf-8\").decode(\"utf-8\")\n",
    "# print(page1text)"
   ]
  },
  {
   "cell_type": "code",
   "execution_count": 30,
   "id": "52b9229f",
   "metadata": {
    "execution": {
     "iopub.execute_input": "2022-05-01T16:56:58.400231Z",
     "iopub.status.busy": "2022-05-01T16:56:58.399268Z",
     "iopub.status.idle": "2022-05-01T16:56:58.403226Z",
     "shell.execute_reply": "2022-05-01T16:56:58.403657Z",
     "shell.execute_reply.started": "2022-04-09T07:04:56.590103Z"
    },
    "papermill": {
     "duration": 0.058485,
     "end_time": "2022-05-01T16:56:58.403825",
     "exception": false,
     "start_time": "2022-05-01T16:56:58.345340",
     "status": "completed"
    },
    "tags": []
   },
   "outputs": [],
   "source": [
    "# import requests\n",
    "# import fitz\n",
    "\n",
    "# #URL = 'https://buildmedia.readthedocs.org/media/pdf/pdfminer-docs/latest/pdfminer-docs.pdf'\n",
    "# URL = 'https://redactable-devox-stage.s3.us-east-2.amazonaws.com/tenants/41d9e109-693b-444c-aa18-e5891bc6550b/original/1a7c0e5d-3237-4ca9-9e3d-89e707245ac6/D8communications.pdf'\n",
    "\n",
    "\n",
    "# res = requests.get(URL)\n",
    "# doc = fitz.open(stream=res.content,filetype=\"pdf\")\n",
    "# page1 = doc.loadPage(3)\n",
    "# page1text = page1.getText(\"text\")\n",
    "# #rect = (72.1149,661.2966,131.95729,675.1716)\n",
    "# rect=(72.10812377929688, 116.13427734375, 133.97142028808594, 146.4227294921875)\n",
    "# labelled_text = page1.get_textbox(rect)\n",
    "# print(labelled_text.strip())\n",
    "\n",
    "# fulltext = page1.get_text()\n",
    "# print(fulltext)\n",
    "# doc = nlp(fulltext)\n",
    "# sentences = []\n",
    "# for sent in doc.sents:\n",
    "#     if labelled_text in sent.text:\n",
    "#         text = sent.text\n",
    "#         print(text)\n",
    "# #print(page1text)"
   ]
  },
  {
   "cell_type": "code",
   "execution_count": 31,
   "id": "5bd44641",
   "metadata": {
    "execution": {
     "iopub.execute_input": "2022-05-01T16:56:58.506866Z",
     "iopub.status.busy": "2022-05-01T16:56:58.506258Z",
     "iopub.status.idle": "2022-05-01T16:56:58.509057Z",
     "shell.execute_reply": "2022-05-01T16:56:58.509545Z",
     "shell.execute_reply.started": "2022-04-08T16:42:57.6659Z"
    },
    "papermill": {
     "duration": 0.056129,
     "end_time": "2022-05-01T16:56:58.509715",
     "exception": false,
     "start_time": "2022-05-01T16:56:58.453586",
     "status": "completed"
    },
    "tags": []
   },
   "outputs": [],
   "source": [
    "#res.content"
   ]
  },
  {
   "cell_type": "code",
   "execution_count": 32,
   "id": "1d40220d",
   "metadata": {
    "execution": {
     "iopub.execute_input": "2022-05-01T16:56:58.614542Z",
     "iopub.status.busy": "2022-05-01T16:56:58.613899Z",
     "iopub.status.idle": "2022-05-01T16:56:58.617315Z",
     "shell.execute_reply": "2022-05-01T16:56:58.617758Z",
     "shell.execute_reply.started": "2022-04-08T16:48:05.672392Z"
    },
    "papermill": {
     "duration": 0.056343,
     "end_time": "2022-05-01T16:56:58.617917",
     "exception": false,
     "start_time": "2022-05-01T16:56:58.561574",
     "status": "completed"
    },
    "tags": []
   },
   "outputs": [],
   "source": [
    "# import fitz\n",
    "# # mem_area=\n",
    "# # doc = fitz.open(stream=mem_area, filetype=\"pdf\")\n",
    "\n",
    "# import requests\n",
    "\n",
    "# URL = 'https://redactable-devox-stage.s3.us-east-2.amazonaws.com/tenants/41d9e109-693b-444c-aa18-e5891bc6550b/original/1a7c0e5d-3237-4ca9-9e3d-89e707245ac6/D8communications.pdf'\n",
    "\n",
    "# #res = requests.get(URL)\n",
    "# doc=fitz.open(\"/kaggle/input/sample-pdf/D8communications.pdf\")\n",
    "# #doc = fitz.open(stream=res.content,filetype=\"pdf\")\n",
    "# page1 = doc.loadPage(4)\n",
    "# # page1text = page1.getText(\"text\")\n",
    "# # print(page1text)\n",
    "# blocks = page1.getText(\"blocks\")\n",
    "# blocks.sort(key=lambda block: block[1])  # sort vertically ascending\n",
    "\n",
    "# for b in blocks:\n",
    "#     print(b[4])\n"
   ]
  },
  {
   "cell_type": "code",
   "execution_count": 33,
   "id": "2e304ea2",
   "metadata": {
    "execution": {
     "iopub.execute_input": "2022-05-01T16:56:58.724256Z",
     "iopub.status.busy": "2022-05-01T16:56:58.723658Z",
     "iopub.status.idle": "2022-05-01T16:56:58.726474Z",
     "shell.execute_reply": "2022-05-01T16:56:58.726994Z",
     "shell.execute_reply.started": "2022-04-08T16:48:13.086323Z"
    },
    "papermill": {
     "duration": 0.057708,
     "end_time": "2022-05-01T16:56:58.727158",
     "exception": false,
     "start_time": "2022-05-01T16:56:58.669450",
     "status": "completed"
    },
    "tags": []
   },
   "outputs": [],
   "source": [
    "# # page = doc[1]\n",
    "# words = page.get_text(\"words\")\n",
    "# #print(words)\n",
    "# rect = (72.1149,661.2966,131.95729,675.1716)\n",
    "\n",
    "# labelled_text = page.get_textbox(rect)\n",
    "# # labelled_text"
   ]
  },
  {
   "cell_type": "markdown",
   "id": "98d3a78c",
   "metadata": {
    "papermill": {
     "duration": 0.052783,
     "end_time": "2022-05-01T16:56:58.832387",
     "exception": false,
     "start_time": "2022-05-01T16:56:58.779604",
     "status": "completed"
    },
    "tags": []
   },
   "source": [
    "pip install PyPDF2"
   ]
  },
  {
   "cell_type": "code",
   "execution_count": null,
   "id": "a2669b3e",
   "metadata": {
    "papermill": {
     "duration": 0.049896,
     "end_time": "2022-05-01T16:56:58.932126",
     "exception": false,
     "start_time": "2022-05-01T16:56:58.882230",
     "status": "completed"
    },
    "tags": []
   },
   "outputs": [],
   "source": []
  },
  {
   "cell_type": "code",
   "execution_count": 34,
   "id": "84b8ba21",
   "metadata": {
    "execution": {
     "iopub.execute_input": "2022-05-01T16:56:59.035455Z",
     "iopub.status.busy": "2022-05-01T16:56:59.034849Z",
     "iopub.status.idle": "2022-05-01T16:56:59.037512Z",
     "shell.execute_reply": "2022-05-01T16:56:59.038030Z",
     "shell.execute_reply.started": "2022-03-18T16:48:58.370268Z"
    },
    "papermill": {
     "duration": 0.055704,
     "end_time": "2022-05-01T16:56:59.038193",
     "exception": false,
     "start_time": "2022-05-01T16:56:58.982489",
     "status": "completed"
    },
    "tags": []
   },
   "outputs": [],
   "source": [
    "# import pandas as pd\n",
    "# h={'step': 0, 'type': 'string', 'amount': 0.0, 'nameOrig': 'C1231006815', 'oldbalanceOrig': 0.0, 'newbalanceOrig': 0.0, 'nameDest': 'M1979787155', 'oldbalanceDest': 0.0, 'newbalanceDest': 0.0}\n",
    "# df=pd.DataFrame([h])"
   ]
  },
  {
   "cell_type": "code",
   "execution_count": 35,
   "id": "39a09ac3",
   "metadata": {
    "execution": {
     "iopub.execute_input": "2022-05-01T16:56:59.143846Z",
     "iopub.status.busy": "2022-05-01T16:56:59.143230Z",
     "iopub.status.idle": "2022-05-01T16:56:59.145725Z",
     "shell.execute_reply": "2022-05-01T16:56:59.146282Z",
     "shell.execute_reply.started": "2022-04-09T17:21:26.021615Z"
    },
    "papermill": {
     "duration": 0.057263,
     "end_time": "2022-05-01T16:56:59.146450",
     "exception": false,
     "start_time": "2022-05-01T16:56:59.089187",
     "status": "completed"
    },
    "tags": []
   },
   "outputs": [],
   "source": [
    "#df"
   ]
  },
  {
   "cell_type": "code",
   "execution_count": null,
   "id": "0b189716",
   "metadata": {
    "papermill": {
     "duration": 0.049609,
     "end_time": "2022-05-01T16:56:59.246599",
     "exception": false,
     "start_time": "2022-05-01T16:56:59.196990",
     "status": "completed"
    },
    "tags": []
   },
   "outputs": [],
   "source": []
  }
 ],
 "metadata": {
  "kernelspec": {
   "display_name": "Python 3",
   "language": "python",
   "name": "python3"
  },
  "language_info": {
   "codemirror_mode": {
    "name": "ipython",
    "version": 3
   },
   "file_extension": ".py",
   "mimetype": "text/x-python",
   "name": "python",
   "nbconvert_exporter": "python",
   "pygments_lexer": "ipython3",
   "version": "3.7.12"
  },
  "papermill": {
   "default_parameters": {},
   "duration": 18.488771,
   "end_time": "2022-05-01T16:56:59.906541",
   "environment_variables": {},
   "exception": null,
   "input_path": "__notebook__.ipynb",
   "output_path": "__notebook__.ipynb",
   "parameters": {},
   "start_time": "2022-05-01T16:56:41.417770",
   "version": "2.3.3"
  }
 },
 "nbformat": 4,
 "nbformat_minor": 5
}
