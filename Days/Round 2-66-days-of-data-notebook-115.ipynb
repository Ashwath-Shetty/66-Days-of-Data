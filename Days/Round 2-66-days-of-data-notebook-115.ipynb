{
 "cells": [
  {
   "cell_type": "code",
   "execution_count": 1,
   "id": "8fa2eb06",
   "metadata": {
    "_cell_guid": "b1076dfc-b9ad-4769-8c92-a6c4dae69d19",
    "_uuid": "8f2839f25d086af736a60e9eeb907d3b93b6e0e5",
    "execution": {
     "iopub.execute_input": "2022-07-04T16:53:22.359243Z",
     "iopub.status.busy": "2022-07-04T16:53:22.358547Z",
     "iopub.status.idle": "2022-07-04T16:53:22.367211Z",
     "shell.execute_reply": "2022-07-04T16:53:22.366431Z",
     "shell.execute_reply.started": "2022-04-12T14:12:25.248687Z"
    },
    "papermill": {
     "duration": 0.097976,
     "end_time": "2022-07-04T16:53:22.367375",
     "exception": false,
     "start_time": "2022-07-04T16:53:22.269399",
     "status": "completed"
    },
    "tags": []
   },
   "outputs": [
    {
     "name": "stdout",
     "output_type": "stream",
     "text": [
      "/kaggle/input/sample-pdf/D8communications.pdf\n"
     ]
    }
   ],
   "source": [
    "# This Python 3 environment comes with many helpful analytics libraries installed\n",
    "# It is defined by the kaggle/python Docker image: https://github.com/kaggle/docker-python\n",
    "# For example, here's several helpful packages to load\n",
    "\n",
    "import numpy as np # linear algebra\n",
    "import pandas as pd # data processing, CSV file I/O (e.g. pd.read_csv)\n",
    "\n",
    "# Input data files are available in the read-only \"../input/\" directory\n",
    "# For example, running this (by clicking run or pressing Shift+Enter) will list all files under the input directory\n",
    "\n",
    "import os\n",
    "for dirname, _, filenames in os.walk('/kaggle/input'):\n",
    "    for filename in filenames:\n",
    "        print(os.path.join(dirname, filename))\n",
    "\n",
    "# You can write up to 20GB to the current directory (/kaggle/working/) that gets preserved as output when you create a version using \"Save & Run All\" \n",
    "# You can also write temporary files to /kaggle/temp/, but they won't be saved outside of the current session"
   ]
  },
  {
   "cell_type": "markdown",
   "id": "65761ad5",
   "metadata": {
    "papermill": {
     "duration": 0.07129,
     "end_time": "2022-07-04T16:53:22.510833",
     "exception": false,
     "start_time": "2022-07-04T16:53:22.439543",
     "status": "completed"
    },
    "tags": []
   },
   "source": [
    "# **Start Date: 12/3/2022**"
   ]
  },
  {
   "cell_type": "markdown",
   "id": "b5afea33",
   "metadata": {
    "papermill": {
     "duration": 0.069757,
     "end_time": "2022-07-04T16:53:22.652444",
     "exception": false,
     "start_time": "2022-07-04T16:53:22.582687",
     "status": "completed"
    },
    "tags": []
   },
   "source": [
    "# **Day 1:** \n",
    "<br>dataquest -> stats -> probability-> estimating probability\n",
    "1. out come is nothing but o/p of an experiment\n",
    "ex: whatever u get after rolling a dice -> it can be any number\n",
    "2. event can have more than one outcome\n",
    "- e.x: The event that we'll get an odd number when we roll a six-sided die — this event includes the outcomes 1, 3, and 5.\n",
    "- an event can be 0 as well.\n",
    "- We always assign probabilities to events, not outcomes, even if the event includes only one outcome.\n",
    "- P(E) =1/total number of possible outcomes, P(E) probability of an event happening.\n",
    "- but above formula doesn't work always, especially when there are more than one outcome\n",
    "    - P(E)=number of successful outcomes/total number of possible outcomes\n",
    "- incase of a biased situation \n",
    "  - let's say a die has 6 - 3 times which is 1,6,3,5,6,6\n",
    "    we will consider 6 as 3 times not 1.\n",
    "    possible outcome-> 1,3,5,6,6,6\n",
    "    prob(6)=3/6\n",
    "    prob(3)=1/6\n",
    "    prob(2)=0/6\n",
    "    If we didn't treat each 6 differently and said it doesn't matter which side a 6 is on, \n",
    "    <br>we'd be forced to conclude the only possible outcomes are 1, 3, 5 and 6. We can definitely         <br>frame the problem like that, but the formula above won't work anymore — we see below P(6) <br>becomes the same as P(3), but, intuitively, P(6) should be higher than P(3) since the die has 6 on     <br>three of its sides:\n"
   ]
  },
  {
   "cell_type": "markdown",
   "id": "69c7894a",
   "metadata": {
    "papermill": {
     "duration": 0.070215,
     "end_time": "2022-07-04T16:53:22.794377",
     "exception": false,
     "start_time": "2022-07-04T16:53:22.724162",
     "status": "completed"
    },
    "tags": []
   },
   "source": [
    "Estimating Probabilities Conclusion\n",
    "- emperical/ experimental probability\n",
    "  - probability achieved by experimenting / by doing the same event multiple times.\n",
    "  - Generally, for any event E (like a coin landing heads up), we can find its empirical probability   \n",
    "     by using the following formula: \n",
    "     •P (E) =number of times event E happened/ number of times we repeated the experiment   \n",
    " - Generally, the empirical probability of an event (a coin landing heads up, getting a 5 when weroll a die) approaches the true probability value as the number of trials of the randomexperiment (a coin toss, the rolling of a die) increases without bound.\n",
    "- When we calculate the probability of an event under the assumption that the outcomes have equal chances of occurring, we say that we're calculating the **theoretical probability** of an event.\n",
    "   - P(E)=number of successful outcomes/total number of possible outcomes\n",
    "\n"
   ]
  },
  {
   "cell_type": "markdown",
   "id": "ce12303e",
   "metadata": {
    "papermill": {
     "duration": 0.070957,
     "end_time": "2022-07-04T16:53:22.941225",
     "exception": false,
     "start_time": "2022-07-04T16:53:22.870268",
     "status": "completed"
    },
    "tags": []
   },
   "source": [
    "# **Day 2**\n",
    "<br>dataquest-> stats -> intro to probability -> probability rules\n",
    "<br>In probability theory, the set of all possible outcomes is called a sample space. A sample space is often denoted by the capital Greek letter Ω (read \"omega\"). This is how we represent the sample space of a die roll:\n",
    "\n",
    "Ω = {1,2,3,4,5,6}\n",
    "-    The probability of any event ranges between 0 and 1: 0≤ P(Event) ≤1\n",
    "- To calculate P(A or B), we can also use the formula below, which is sometimes called the addition rule: P(A or B) = P(A) + P(B)\n",
    "  - Sample space ={ 1,2,3,4,5,6} \n",
    "  - P(2 or 5) = 2/6\n",
    "\n",
    "- P(C or D) = P(C) + P(D) - P(C and D)\n",
    "   - e.x : Sample_space ={2,4,6} + { 4,5,6} - {4/6}\n",
    "      P( even number or number greater than 3) = ( (3/6) + (3/6) )- (2/6) = 4/6\n",
    "- Events that don't intersect are called mutually exclusive.\n",
    "  - e.x: Getting a 5 (event one) and getting a 3 (event two) when we roll a regular six-sided die — it's  impossible to get both a 5 and 3.\n",
    "- Events that intersect are called mutually non-exclusive.\n",
    "  - Getting a number greater than 2 (event one) and getting an odd number (event two) when we roll a regular six-sided die — we could get a 5, which is both greater than 2 (event one) and odd (event two).\n",
    "- unioun -> A or B, intersection -> A and B"
   ]
  },
  {
   "cell_type": "markdown",
   "id": "76611f96",
   "metadata": {
    "papermill": {
     "duration": 0.07069,
     "end_time": "2022-07-04T16:53:23.083201",
     "exception": false,
     "start_time": "2022-07-04T16:53:23.012511",
     "status": "completed"
    },
    "tags": []
   },
   "source": [
    "# Day 3 and 4\n",
    "dataquest -> stats -> probabilities -> solving complex probabilities\n",
    "- This is the same result we got from our previous approach. In more general terms, the multiplication rule says that for two events E1 and E2, the probability that both event E1 and E2 happen can be found by multiplying the probability of E1 by the probability of E2:\n",
    "    - P(E1 ∩ E2) = P(E1) × P(E2)\n",
    "    - Events that don't influence each other's probability are called independent events. If H1 happens, P(H2) stays the same, so H1 and H2 are independent. The multiplication rule we learned only works for independent events.\n",
    "    "
   ]
  },
  {
   "cell_type": "markdown",
   "id": "43fb2dab",
   "metadata": {
    "papermill": {
     "duration": 0.07024,
     "end_time": "2022-07-04T16:53:23.223684",
     "exception": false,
     "start_time": "2022-07-04T16:53:23.153444",
     "status": "completed"
    },
    "tags": []
   },
   "source": [
    "# Day 5\n",
    "- When we replace the cards after drawing, we say that we're sampling with replacement. When we don't put the cards back, we're sampling without replacement. \n"
   ]
  },
  {
   "cell_type": "markdown",
   "id": "b211383f",
   "metadata": {
    "papermill": {
     "duration": 0.069754,
     "end_time": "2022-07-04T16:53:23.364031",
     "exception": false,
     "start_time": "2022-07-04T16:53:23.294277",
     "status": "completed"
    },
    "tags": []
   },
   "source": [
    "# Day6\n",
    "dataquest-> prob and stats -> probability fundamentals -> permutation and combinations\n",
    "Generally, if we have an experiment E1 (like flipping a coin) with a outcomes, followed by an experiment E2 (like rolling a die) with b outcomes, then the total number of outcomes for the composite experiment E1E2 can be found by multiplying a with b:\n",
    "\n",
    "Number of outcomes = a * b"
   ]
  },
  {
   "cell_type": "markdown",
   "id": "573d2279",
   "metadata": {
    "papermill": {
     "duration": 0.07577,
     "end_time": "2022-07-04T16:53:23.509646",
     "exception": false,
     "start_time": "2022-07-04T16:53:23.433876",
     "status": "completed"
    },
    "tags": []
   },
   "source": [
    "# Day 7\n",
    "dataquest-> prob and stats -> probability fundamentals -> permutation and combinations <br>\n",
    "More generally, if we have an experiment E1 with a outcomes, followed by an experiment E2 with b outcomes, followed by an experiment En with z outcomes, the total number of outcomes for the composite experiment E1E2 ... En can be found by multiplying their individual outcomes:\n",
    "\n",
    "Number of outcomes= a * b * … * z"
   ]
  },
  {
   "cell_type": "markdown",
   "id": "ff52bb3f",
   "metadata": {
    "papermill": {
     "duration": 0.070366,
     "end_time": "2022-07-04T16:53:23.650282",
     "exception": false,
     "start_time": "2022-07-04T16:53:23.579916",
     "status": "completed"
    },
    "tags": []
   },
   "source": [
    "# Day 8\n",
    "dataquest-> prob and stats -> probability fundamentals -> permutation and combinations <br>\n",
    "permutations= n*(n-1)*(n-2)*....*2*1\n"
   ]
  },
  {
   "cell_type": "markdown",
   "id": "b28003f7",
   "metadata": {
    "papermill": {
     "duration": 0.069531,
     "end_time": "2022-07-04T16:53:23.790515",
     "exception": false,
     "start_time": "2022-07-04T16:53:23.720984",
     "status": "completed"
    },
    "tags": []
   },
   "source": [
    "# Day 9\n",
    "dataquest-> prob and stats -> probability fundamentals -> permutation and combinations\n",
    "- in permutation order of the individual element in the arranement matters.\n",
    "   - for e.x: 9821 is different than 9281\n",
    "   - Permutations =n!  --> sample without replacement-> we are not putting back the sampled data.\n",
    "   - On the last screen, we learned to use the formula below to calculate permutations when we're sampling without replacement and taking only k objects from a group of n objects:\n",
    "   npk=n!/(n-k)!"
   ]
  },
  {
   "cell_type": "markdown",
   "id": "537a19dd",
   "metadata": {
    "papermill": {
     "duration": 0.069279,
     "end_time": "2022-07-04T16:53:23.929327",
     "exception": false,
     "start_time": "2022-07-04T16:53:23.860048",
     "status": "completed"
    },
    "tags": []
   },
   "source": [
    "# Day 10\n",
    "dataquest-> prob and stats -> probability fundamentals -> permutation and combinations\n",
    "- More generally, if the order of the elements in an arrangement doesn't matter, the arrangement is called a combination.\n",
    "- e.x: cards in a deck \n",
    "- nCk = n! / ((n-k)!*k!)"
   ]
  },
  {
   "cell_type": "markdown",
   "id": "985d1016",
   "metadata": {
    "papermill": {
     "duration": 0.070286,
     "end_time": "2022-07-04T16:53:24.072468",
     "exception": false,
     "start_time": "2022-07-04T16:53:24.002182",
     "status": "completed"
    },
    "tags": []
   },
   "source": [
    "# Day 11\n",
    "dataquest-> prob and stats -> probability fundamentals -> permutation and combinations\n",
    "- solved 1 probability problem.\n"
   ]
  },
  {
   "cell_type": "markdown",
   "id": "f3611e55",
   "metadata": {
    "papermill": {
     "duration": 0.070189,
     "end_time": "2022-07-04T16:53:24.213294",
     "exception": false,
     "start_time": "2022-07-04T16:53:24.143105",
     "status": "completed"
    },
    "tags": []
   },
   "source": [
    "# Day 12\n",
    "dataquest-> prob and stats -> probability fundamentals -> permutation and combinations\n",
    "- finished probability and permutations by revising them.\n",
    "- If we have an experiment E1 (like flipping a coin) with a outcomes, followed by an experiment E2(like rolling a die) with b outcomes, then the total number of outcomes for the compositeexperiment E1E2 can be found by multiplying a with b (this is known as the rule of product):\n",
    "  - number of outcomes = a*b\n",
    "- If we have an experiment E1 with a outcomes, followed by an experiment E2 with b outcomes,followed by an experiment En with z outcomes, the total number of outcomes for the compositeexperiment E1E2 ... En can be found by multiplying their individual outcomes:\n",
    "   - number of outcomes = a*b* ... *z\n",
    "- There are two kinds of arrangements:\n",
    "   - •Arrangements where the order matters, which we call permutations.\n",
    "   - •Arrangements where the order doesn't matter, which we call combination\n",
    "- To find the number of permutations when we're sampling without replacement, we can use theformula:\n",
    "  - permutation = n!\n",
    "- To find the number of permutations when we're sampling without replacement and taking only kobjects from a group of n objects, we can use the formula:\n",
    "  - nPk = n!/(n-k)!\n",
    "- To find the number of combinations when we're sampling without replacement and taking only kobjects from a group of n objects, we can use the formula\n",
    "  - nCk = n! / ((n-k)!*k!)"
   ]
  },
  {
   "cell_type": "markdown",
   "id": "f5ced89f",
   "metadata": {
    "papermill": {
     "duration": 0.07101,
     "end_time": "2022-07-04T16:53:24.354198",
     "exception": false,
     "start_time": "2022-07-04T16:53:24.283188",
     "status": "completed"
    },
    "tags": []
   },
   "source": [
    "# Day 13\n",
    "dataquest-> prob and stats -> probability fundamentals -> conditional probabilities\n",
    "- first 2 slides -> mainly the recap of old chapter(above one).\n"
   ]
  },
  {
   "cell_type": "markdown",
   "id": "b4bb48ce",
   "metadata": {
    "papermill": {
     "duration": 0.070249,
     "end_time": "2022-07-04T16:53:24.494732",
     "exception": false,
     "start_time": "2022-07-04T16:53:24.424483",
     "status": "completed"
    },
    "tags": []
   },
   "source": [
    "# Day 14\n",
    "dataquest-> prob and stats -> probability fundamentals -> conditional probabilities\n",
    "<br>slide 4 completed\n",
    "<br>conditional probabilities\n",
    "- probabilities with condition\n",
    "- P(5)=What is the probability of getting a 5? -> normal probability\n",
    "- P(5 | odd) =What is the probability of getting a 5 given the die showed an odd number? -> conditional prob.\n",
    "\n"
   ]
  },
  {
   "cell_type": "markdown",
   "id": "65a39b1d",
   "metadata": {
    "papermill": {
     "duration": 0.070628,
     "end_time": "2022-07-04T16:53:24.635584",
     "exception": false,
     "start_time": "2022-07-04T16:53:24.564956",
     "status": "completed"
    },
    "tags": []
   },
   "source": [
    "# Day 15\n",
    "dataquest-> prob and stats -> probability fundamentals -> conditional probabilities\n",
    "- on slide 5 not done yet.\n",
    "\n",
    "Say we roll a fair six-sided die and want to find the probability of getting an odd number, given the die showed a number greater than 1 after landing. Using probability notation, we want to find P(A|B) where:\n",
    "\n",
    "- A is the event that the number is odd: A = {1, 3, 5}\n",
    "- B is the event that the number is greater than 1: B = {2, 3, 4, 5, 6}\n",
    "- P(A/B)=number of succesfull outcomes / total number of outcomes.\n"
   ]
  },
  {
   "cell_type": "markdown",
   "id": "c62b59d2",
   "metadata": {
    "papermill": {
     "duration": 0.069391,
     "end_time": "2022-07-04T16:53:24.774695",
     "exception": false,
     "start_time": "2022-07-04T16:53:24.705304",
     "status": "completed"
    },
    "tags": []
   },
   "source": [
    "# Day 16 and 17\n",
    "dataquest-> prob and stats -> probability fundamentals -> conditional probabilities\n",
    "\n",
    "on slide 6 not done yet."
   ]
  },
  {
   "cell_type": "markdown",
   "id": "a5a90e7e",
   "metadata": {
    "papermill": {
     "duration": 0.070501,
     "end_time": "2022-07-04T16:53:24.915941",
     "exception": false,
     "start_time": "2022-07-04T16:53:24.845440",
     "status": "completed"
    },
    "tags": []
   },
   "source": [
    "# Day 18\n",
    "dataquest-> prob and stats -> probability fundamentals -> conditional probabilities\n",
    "<br>slide 5 code half done"
   ]
  },
  {
   "cell_type": "markdown",
   "id": "b40eb6c9",
   "metadata": {
    "papermill": {
     "duration": 0.070423,
     "end_time": "2022-07-04T16:53:25.057630",
     "exception": false,
     "start_time": "2022-07-04T16:53:24.987207",
     "status": "completed"
    },
    "tags": []
   },
   "source": [
    "# Day 19\n",
    "- The number of elements in a set is called the cardinal of the set. \n",
    "  Ω is a set, and the cardinal of \n",
    "   Ω = { 2,3,4,5,6}\n",
    "   cardinal(Ω)=5\n",
    "- P(A | B) = card(A ∩ B) / card(B)\n",
    "- Say we roll a fair six-sided die and want to find the probability of getting an odd number, given the die showed a number greater than 1 after landing. Using probability notation, we want to find P(A|B) where:\n",
    "    - A is the event that the number is odd: A = {1, 3, 5}\n",
    "     - B is the event that the number is greater than 1: B = {2, 3, 4, 5, 6}\n",
    "     - total number of possible outcomes = card({2,3,4,5,6}) =5\n",
    "     - number of successful outcomes = card({3,5})= 2\n",
    "- P(A | B) = card(A ∩ B) / card(B), we can also get the same result using P(A | B) = prob(A ∩ B) / prob(B)\n",
    "\n",
    "     "
   ]
  },
  {
   "cell_type": "markdown",
   "id": "0c3841e0",
   "metadata": {
    "papermill": {
     "duration": 0.069261,
     "end_time": "2022-07-04T16:53:25.196734",
     "exception": false,
     "start_time": "2022-07-04T16:53:25.127473",
     "status": "completed"
    },
    "tags": []
   },
   "source": [
    "# Day 20\n",
    "dataquest-> prob and stats -> probability fundamentals -> conditional probabilities intermediate\n",
    "<br> slide 1 and 2\n",
    "- P( A | B ) ≠ P(A ∩ B), but rather:\n",
    "   - P(A | B) = P(A ∩ B) / P(B)\n",
    "   - P(A ∩ B) = P(A | B) ⋅ P(B)\n",
    "- Given that a customer bought a laptop, they will or will not also buy a mouse. This means we can be certain that either event (M|L) or (M^C|L) will happen:\n",
    "     - P(M | L) + P(M^C | L) = 1\n",
    "\n"
   ]
  },
  {
   "cell_type": "markdown",
   "id": "8e4f44e0",
   "metadata": {
    "papermill": {
     "duration": 0.069209,
     "end_time": "2022-07-04T16:53:25.335513",
     "exception": false,
     "start_time": "2022-07-04T16:53:25.266304",
     "status": "completed"
    },
    "tags": []
   },
   "source": [
    "# Day 21\n",
    "dataquest-> prob and stats -> probability fundamentals -> conditional probabilities intermediate\n",
    "slide 1 and 2\n",
    "- P(A ∩ B) = P(B ∩ A)\n",
    "- multiplication rule of probability\n",
    "  -  P(A ∩ B) = P(B) ⋅ P(A | B) \n",
    "  - P(A ∩ B) = P(A) ⋅ P(B | A)\n",
    "- if P(A) and P(B) are statistically independent then \n",
    "  - P(A ∩ B) = P(A) ⋅ P(B)\n",
    "\n"
   ]
  },
  {
   "cell_type": "markdown",
   "id": "12c40b24",
   "metadata": {
    "papermill": {
     "duration": 0.069749,
     "end_time": "2022-07-04T16:53:25.475082",
     "exception": false,
     "start_time": "2022-07-04T16:53:25.405333",
     "status": "completed"
    },
    "tags": []
   },
   "source": [
    "# Day 22\n",
    "dataquest-> prob and stats -> probability fundamentals -> conditional probabilities intermediate \n",
    "<br>slide 6\n",
    "- If events events A and B are dependent, it means the occurrence of event A changes the probability of event B and vice versa.\n",
    "   - P(A) ≠ P(A | B)\n",
    "   - P(B) ≠ P(B | A)\n",
    "   - P(A ∩ B) ≠ P(A) ⋅ P(B)\n",
    "   - formula will become P(A ∩ B) ≠ P(A) ⋅ P(B/A)\n",
    "   "
   ]
  },
  {
   "cell_type": "markdown",
   "id": "2e353462",
   "metadata": {
    "papermill": {
     "duration": 0.069373,
     "end_time": "2022-07-04T16:53:25.614840",
     "exception": false,
     "start_time": "2022-07-04T16:53:25.545467",
     "status": "completed"
    },
    "tags": []
   },
   "source": [
    "# Day 23\n",
    "dataquest-> prob and stats -> probability fundamentals -> conditional probabilities intermediate\n",
    "<br>slide 7 to last\n",
    "- To find whether three events — A, B, C — are independent or not, below conditions must hold true -\n",
    "  - P(A ∩ B) ≠ P(A) ⋅ P(B)\n",
    "  - P(A ∩ C) ≠ P(A) ⋅ P(C)\n",
    "  - P(B ∩ C) ≠ P(B) ⋅ P(C)\n",
    "  - P(A ∩ B ∩ C) ≠ P(A) ⋅ P(B) . P(C)\n",
    "- multiplication rule for conditional probability or dependent events\n",
    " - P(A ∩ B ∩ C) = P(A) ⋅ P(B | A) ⋅ P(C | A ∩ B)\n",
    " \n",
    "\n"
   ]
  },
  {
   "cell_type": "markdown",
   "id": "d27e70a4",
   "metadata": {
    "papermill": {
     "duration": 0.069366,
     "end_time": "2022-07-04T16:53:25.754159",
     "exception": false,
     "start_time": "2022-07-04T16:53:25.684793",
     "status": "completed"
    },
    "tags": []
   },
   "source": [
    "# Day 24\n",
    "dataquest-> prob and stats -> probability fundamentals -> bayes theorem\n",
    "<br>slide 1\n",
    "- independent -> one event is dependent on other\n",
    "   - P(A ∩ B) = P(A) ⋅ P(B/A)\n",
    "- independent -> one event is not dependent on other.\n",
    "   - P(A ∩ B) = P(A) ⋅ P(B)\n",
    "- mutually exclusive -> both the events cannot happen at the same time.\n",
    "   - P(A ∩ B) = 0\n",
    "\n"
   ]
  },
  {
   "cell_type": "markdown",
   "id": "17bf1dc0",
   "metadata": {
    "papermill": {
     "duration": 0.070784,
     "end_time": "2022-07-04T16:53:25.895755",
     "exception": false,
     "start_time": "2022-07-04T16:53:25.824971",
     "status": "completed"
    },
    "tags": []
   },
   "source": [
    "# Day 25\n",
    "dataquest-> prob and stats -> probability fundamentals -> bayes theorem\n",
    "<br>slide 2\n",
    "- If two events are exhaustive, it means they make up the whole sample space Ω\n",
    "  -  P(A) = P(A ∩ B) + P(A ∩ B^c)\n",
    "     P(A) = (P(B) * P(A/B)) +  (P(B^c) * P(A/B^c))\n",
    "     \n",
    "     "
   ]
  },
  {
   "cell_type": "markdown",
   "id": "643a08b7",
   "metadata": {
    "papermill": {
     "duration": 0.069254,
     "end_time": "2022-07-04T16:53:26.034513",
     "exception": false,
     "start_time": "2022-07-04T16:53:25.965259",
     "status": "completed"
    },
    "tags": []
   },
   "source": [
    "# Day 26\n",
    "dataquest-> prob and stats -> probability fundamentals -> bayes theorem\n",
    "<br>slide 3 - last\n",
    "- the law of total probability\n",
    "  - P(A)  = (P(B1) * P(A/B1)) + (P(B2) * P(A/B2))+ ... + (P(Bn) * P(A/Bn)))\n",
    "  - P(A) =(summattion i=1 to n) P(Bi) ⋅ P(A|Bi)\n",
    "- Baye's theorem\n",
    "  - P(B | A) = (P(B) ⋅ P(A | B)) / (n ∑i=1 P(Bi) ⋅ P(A | Bi))\n",
    "- The probability of being infected with HIV before doing any test is called the prior probability (\"prior\" means \"before\"). The probability of being infected with HIV after testing positive is called the posterior probability (\"posterior\" means \"after\").\n",
    "\n",
    "\n",
    "  "
   ]
  },
  {
   "cell_type": "markdown",
   "id": "687b5fee",
   "metadata": {
    "papermill": {
     "duration": 0.069165,
     "end_time": "2022-07-04T16:53:26.172996",
     "exception": false,
     "start_time": "2022-07-04T16:53:26.103831",
     "status": "completed"
    },
    "tags": []
   },
   "source": [
    "# Day 27\n",
    "dataquest-> prob and stats -> probability fundamentals -> naive bayes theorem\n",
    "<br>slide 1 - \n",
    "P(Spam|w1,w2,w3,w4)∝P(Spam)⋅P(w1|Spam)⋅P(w2|Spam)⋅P(w3|Spam)⋅P(w4|Spam)P(SpamC|w1,w2,w3,w4)∝P(SpamC)⋅P(w1|SpamC)⋅P(w2|SpamC)⋅P(w3|SpamC)⋅P(w4|SpamC)"
   ]
  },
  {
   "cell_type": "markdown",
   "id": "5d54749b",
   "metadata": {
    "papermill": {
     "duration": 0.069681,
     "end_time": "2022-07-04T16:53:26.311984",
     "exception": false,
     "start_time": "2022-07-04T16:53:26.242303",
     "status": "completed"
    },
    "tags": []
   },
   "source": [
    "# Day 28\n",
    "dataquest-> prob and stats -> probability fundamentals -> naive bayes theorem\n",
    "<br>finished.\n",
    "<br>**Summary**\n",
    "- P(Spam|w1,w2,...,wn)∝P(Spam)⋅n∏i=1P(wi|Spam)\n",
    "- P(SpamC|w1,w2,...,wn)∝P(SpamC)⋅n∏i=1P(wi|SpamC)\n",
    "- To calculate P(wi|Spam) and P(wi|SpamC), we need to use the additive smoothing technique: \n",
    "- P ( w i | S p a m ) = (N w i | S p a m + α) / ( N S p a m + α ⋅ N V o c a b u l a r y )\n",
    "- P ( w i | S p a m C ) = (N w i | S p a m C + α) / ( N S p a m C + α ⋅ N V o c a b u l a r y )\n",
    "     - N w i | S p a m = the number of times the word w i occurs in spam messages \n",
    "     - N w i | S p a m C = the number of times the word w i occurs in non-spam messages \n",
    "     - N S p a m = total number of words in spam messages \n",
    "     - N S p a m C = total number of words in non-spam messages \n",
    "     - N V o c a b u l a r y = total number of words in the vocabulary \n",
    "     - α = 1 ( α is a smoothing parameter )\n",
    " - naive bayes theorem assumes that events are not dependent.\n",
    " - The assumption of conditional independence between words is thus naive since it rarely holds in practice, and this is why the algorithm is called Naive Bayes (also called simple Bayes or independence Bayes)."
   ]
  },
  {
   "cell_type": "markdown",
   "id": "9783a674",
   "metadata": {
    "papermill": {
     "duration": 0.069469,
     "end_time": "2022-07-04T16:53:26.451889",
     "exception": false,
     "start_time": "2022-07-04T16:53:26.382420",
     "status": "completed"
    },
    "tags": []
   },
   "source": [
    "# Day 29,30,31\n",
    "<br>dataquest-> prob and stats -> probability fundamentals -> conditional probability-> guided projects\n",
    "<br> in progress"
   ]
  },
  {
   "cell_type": "markdown",
   "id": "e54bffd6",
   "metadata": {
    "papermill": {
     "duration": 0.069006,
     "end_time": "2022-07-04T16:53:26.591055",
     "exception": false,
     "start_time": "2022-07-04T16:53:26.522049",
     "status": "completed"
    },
    "tags": []
   },
   "source": [
    "# Day 32 and 33\n",
    "<br>dataquest-> prob and stats -> probability fundamentals -> guided projects\n",
    "<br> done"
   ]
  },
  {
   "cell_type": "markdown",
   "id": "6d956987",
   "metadata": {
    "papermill": {
     "duration": 0.072177,
     "end_time": "2022-07-04T16:53:26.734334",
     "exception": false,
     "start_time": "2022-07-04T16:53:26.662157",
     "status": "completed"
    },
    "tags": []
   },
   "source": [
    "# Day 34\n",
    "<br>dataquest-> prob and stats -> probability fundamentals -> guided projects-> lottery prediction\n",
    "<br> done"
   ]
  },
  {
   "cell_type": "markdown",
   "id": "9814cc98",
   "metadata": {
    "papermill": {
     "duration": 0.069073,
     "end_time": "2022-07-04T16:53:26.872793",
     "exception": false,
     "start_time": "2022-07-04T16:53:26.803720",
     "status": "completed"
    },
    "tags": []
   },
   "source": [
    "# Day 35\n",
    "<br>dataquest-> prob and stats -> hypothesis testing fundamentals -> significance testing\n",
    "<br> till slide 4\n",
    "- null hypothesis\n",
    "- alternate hypothesis\n"
   ]
  },
  {
   "cell_type": "markdown",
   "id": "26f20a30",
   "metadata": {
    "papermill": {
     "duration": 0.069232,
     "end_time": "2022-07-04T16:53:27.014140",
     "exception": false,
     "start_time": "2022-07-04T16:53:26.944908",
     "status": "completed"
    },
    "tags": []
   },
   "source": [
    "# Day 36 and 37\n",
    "<br>dataquest-> prob and stats -> hypothesis testing fundamentals -> significance testing\n",
    "- The permutation test is a statistical test that involves rerunning the study many times and recalculating the test statistic for each iteration. The goal is to calculate a distribution of the test statistics over these many iterations. This distribution is called the sampling distribution and it approximates the full range of possible test statistics under the null hypothesis\n",
    "\n"
   ]
  },
  {
   "cell_type": "markdown",
   "id": "6d580668",
   "metadata": {
    "papermill": {
     "duration": 0.070081,
     "end_time": "2022-07-04T16:53:27.154782",
     "exception": false,
     "start_time": "2022-07-04T16:53:27.084701",
     "status": "completed"
    },
    "tags": []
   },
   "source": [
    "# Day 38\n",
    "<br>dataquest-> prob and stats -> hypothesis testing fundamentals -> significance testing\n",
    "<br>in progress."
   ]
  },
  {
   "cell_type": "markdown",
   "id": "8c22ff8f",
   "metadata": {
    "papermill": {
     "duration": 0.070419,
     "end_time": "2022-07-04T16:53:27.295669",
     "exception": false,
     "start_time": "2022-07-04T16:53:27.225250",
     "status": "completed"
    },
    "tags": []
   },
   "source": [
    "# Day 39\n",
    "<br>dataquest-> prob and stats -> hypothesis testing fundamentals -> significance testing\n",
    "<br>slide 5-6"
   ]
  },
  {
   "cell_type": "markdown",
   "id": "2f2214c0",
   "metadata": {
    "papermill": {
     "duration": 0.072019,
     "end_time": "2022-07-04T16:53:27.437207",
     "exception": false,
     "start_time": "2022-07-04T16:53:27.365188",
     "status": "completed"
    },
    "tags": []
   },
   "source": [
    "# Day 40\n",
    "<br>dataquest-> prob and stats -> hypothesis testing fundamentals -> significance testing\n",
    "<br>slide 7"
   ]
  },
  {
   "cell_type": "markdown",
   "id": "ff06f3ad",
   "metadata": {
    "papermill": {
     "duration": 0.069259,
     "end_time": "2022-07-04T16:53:27.576858",
     "exception": false,
     "start_time": "2022-07-04T16:53:27.507599",
     "status": "completed"
    },
    "tags": []
   },
   "source": [
    "# Day 41 and 42\n",
    "<br>dataquest-> prob and stats -> hypothesis testing fundamentals -> significance testing\n",
    "<br>slide 7 done and 8(p-value) strated"
   ]
  },
  {
   "cell_type": "markdown",
   "id": "436d2389",
   "metadata": {
    "papermill": {
     "duration": 0.069725,
     "end_time": "2022-07-04T16:53:27.715811",
     "exception": false,
     "start_time": "2022-07-04T16:53:27.646086",
     "status": "completed"
    },
    "tags": []
   },
   "source": [
    "# Day 43\n",
    "<br>dataquest-> prob and stats -> hypothesis testing fundamentals -> significance testing\n",
    "<br>\n",
    "- The first step is to decide a test statistic, which is a numerical value that summarizes the data and one we can use in statistical formulas. The test statistic runs a statistical test that determines whether the difference between the groups was due to random chance.\n",
    "  - e.x: mean \n",
    "- The permutation test is a statistical test that involves rerunning the study many times and recalculating the test statistic for each iteration.\n",
    "   - The goal is to calculate a distribution of the test statistics over these many iterations. This distribution is called the sampling distribution and it approximates the full range of possible test statistics under the null hypothesis.\n",
    "- If the p value is less than the threshold, we:\n",
    "    - reject the null hypothesis that there's no difference in the mean amount of weight lost by participants in both groups; and\n",
    "    - conclude that there is some evidence that the weight loss pill does affect the amount of weight people lost.\n",
    "\n",
    "- If the p value is greater than the threshold, we:\n",
    "    - fail to reject the null hypothesis that there's no difference in the mean amount of weight lost by participants in both groups,\n",
    "    - conclude that the weight loss pill doesn't seem to be effective in helping people lose weight.\n",
    "- usually used p-value threshold is 0.05\n",
    "- The p value threshold you set can also affect the conclusion you reach.\n",
    "    - If you set too high of a p value threshold, you may reject the null hypothesis incorrectly. This is known as a type I error.\n",
    "    - If you set too low of a p value threshold, you may fail to reject the null hypothesis incorrectly. This is known as a type II error."
   ]
  },
  {
   "cell_type": "markdown",
   "id": "e47f5f06",
   "metadata": {
    "papermill": {
     "duration": 0.071032,
     "end_time": "2022-07-04T16:53:27.857575",
     "exception": false,
     "start_time": "2022-07-04T16:53:27.786543",
     "status": "completed"
    },
    "tags": []
   },
   "source": [
    "# Day 44\n",
    "<br>dataquest-> prob and stats -> hypothesis testing fundamentals -> significance testing-> chi squared test\n",
    "<br>1- 4\n",
    "- chi squared test is used for numerical values"
   ]
  },
  {
   "cell_type": "markdown",
   "id": "9fe66085",
   "metadata": {
    "papermill": {
     "duration": 0.070886,
     "end_time": "2022-07-04T16:53:27.999337",
     "exception": false,
     "start_time": "2022-07-04T16:53:27.928451",
     "status": "completed"
    },
    "tags": []
   },
   "source": [
    "# Day 45 and 46\n",
    "<br>dataquest-> prob and stats -> hypothesis testing fundamentals -> significance testing-> chi squared test\n",
    "<br>4- 6"
   ]
  },
  {
   "cell_type": "markdown",
   "id": "455c172a",
   "metadata": {
    "papermill": {
     "duration": 0.070793,
     "end_time": "2022-07-04T16:53:28.140884",
     "exception": false,
     "start_time": "2022-07-04T16:53:28.070091",
     "status": "completed"
    },
    "tags": []
   },
   "source": [
    "# Day 47\n",
    "<br>dataquest-> prob and stats -> hypothesis testing fundamentals -> significance testing-> chi squared test\n",
    "<br> slide 6 done"
   ]
  },
  {
   "cell_type": "markdown",
   "id": "3ca94cdb",
   "metadata": {
    "papermill": {
     "duration": 0.070178,
     "end_time": "2022-07-04T16:53:28.281157",
     "exception": false,
     "start_time": "2022-07-04T16:53:28.210979",
     "status": "completed"
    },
    "tags": []
   },
   "source": [
    "# Day 48\n",
    "<br> chi-squared values is that they get smaller as the sample size decreases.\n",
    "<br>**conclusion**\n",
    "- The chi-squared test enables us to quantify the difference between sets of observed and expected categorical values to determine statistical significance\n",
    "- chi squared = (observed - expected)**2 / expected\n",
    "- A p-value allows us to determine whether the difference between 2 values is due to chance, or due to an underlying difference.\n",
    "- Chi-squared values increase as sample size increases, but the chance of getting a high chi-squared value decreases as the sample gets larger.\n",
    "- A degree of freedom is the number of values that can vary without the other values being\"locked in\". \n",
    "- scipy https://docs.scipy.org/doc/scipy/reference/generated/scipy.stats.mstats.chisquare.html\n"
   ]
  },
  {
   "cell_type": "markdown",
   "id": "a4c61586",
   "metadata": {
    "papermill": {
     "duration": 0.069624,
     "end_time": "2022-07-04T16:53:28.421939",
     "exception": false,
     "start_time": "2022-07-04T16:53:28.352315",
     "status": "completed"
    },
    "tags": []
   },
   "source": [
    "# Day 49\n",
    "<br>dataquest-> prob and stats -> hypothesis testing fundamentals -> significance testing-> multi category chi squared test\n",
    "<br> slide 1 done\n",
    "- We can apply the multi category chi-squared test (also known as the chi-squared test of association) to figure out if there's a statistically significant correlation between two categorical columns.\n",
    "- "
   ]
  },
  {
   "cell_type": "markdown",
   "id": "4b55420d",
   "metadata": {
    "papermill": {
     "duration": 0.069725,
     "end_time": "2022-07-04T16:53:28.562361",
     "exception": false,
     "start_time": "2022-07-04T16:53:28.492636",
     "status": "completed"
    },
    "tags": []
   },
   "source": [
    " **Day 50**\n",
    "<br>dataquest-> prob and stats -> hypothesis testing fundamentals -> significance testing-> multi category chi squared test\n",
    "# Conclusion:\n",
    "- In a multiple category chi-squared test, we calculate expected values across our whole dataset.\n",
    "- We can calculate the chi-squared value by using the following steps:\n",
    "    - Subtract the expected value from the observed value.\n",
    "    - Subtract the difference.\n",
    "    - Divide the squared difference by the expected value.\n",
    "    - Repeat for all observed and expected values and add up all the values.\n",
    "- ∑ expected(observed−expected)**2 / expected\n",
    "- Discovering that a result isn't significant doesn't mean that no association between the columnsexists. Discovering a statistically significant result doesn't imply anything about what thecorrelation is.\n",
    "- Chi-squared tests can only be applied when each possibility within a category is independen.\n",
    "    - we have categories like male or female not both. single row has either male or female not both at a time.\n",
    "- https://docs.scipy.org/doc/scipy-0.15.1/reference/generated/scipy.stats.chi2_contingency.html\n",
    "- https://pandas.pydata.org/pandas-docs/stable/generated/pandas.crosstab.html\n"
   ]
  },
  {
   "cell_type": "markdown",
   "id": "b5bf4e21",
   "metadata": {
    "papermill": {
     "duration": 0.069195,
     "end_time": "2022-07-04T16:53:28.701327",
     "exception": false,
     "start_time": "2022-07-04T16:53:28.632132",
     "status": "completed"
    },
    "tags": []
   },
   "source": [
    "# **Day 51, 52**\n",
    "<br>dataquest-> prob and stats -> hypothesis testing fundamentals -> significance testing-> guided project\n",
    "<br>in progress."
   ]
  },
  {
   "cell_type": "markdown",
   "id": "d1d2f378",
   "metadata": {
    "papermill": {
     "duration": 0.069193,
     "end_time": "2022-07-04T16:53:28.839908",
     "exception": false,
     "start_time": "2022-07-04T16:53:28.770715",
     "status": "completed"
    },
    "tags": []
   },
   "source": [
    "# **Day 53**\n",
    "<br>dataquest-> prob and stats -> hypothesis testing fundamentals -> significance testing-> guided project\n",
    "<br>done"
   ]
  },
  {
   "cell_type": "markdown",
   "id": "367c3316",
   "metadata": {
    "papermill": {
     "duration": 0.071582,
     "end_time": "2022-07-04T16:53:28.985959",
     "exception": false,
     "start_time": "2022-07-04T16:53:28.914377",
     "status": "completed"
    },
    "tags": []
   },
   "source": [
    "# **Day 54,55, 56,57, 58, 59**\n",
    "interviewbit-> probability-> conditional probability\n",
    "1. You asked your three friends whether it will rain or not and all three affirmed for rain. All three have the probability of 1/3 of lying. What is the probability that it will actually rain?\n",
    "- https://www.geeksforgeeks.org/puzzle-is-it-raining/#:~:text=Explanation%3A,truth%20or%20all%20are%20lying.&text=So%2C%20it%20is%20approximately%2089,it%20is%20raining%20in%20Hyderabad.\n",
    "2. Anshul and Deven take turns in rolling a fair six-sided die. Whoever rolls a “6” first wins the game. Deven starts by rolling first. What’s the probability that Anshul wins?\n",
    "- https://www.quora.com/A-and-B-throw-a-Fair-die-one-after-another-Whoever-throws-6-first-wins-What-is-the-probability-that-A-wins\n",
    "\n",
    "3. You have a bag with 6 marbles. One marble is white. You reach the bag 100 times. After taking out a marble, it is placed back in the bag. What is the probability of drawing a white marble at least once?\n",
    "- https://brainly.com/question/14376470\n",
    "- Answer:\n",
    "\n",
    "0.999999988\n",
    "\n",
    "Step-by-step explanation:\n",
    "\n",
    "Given that you  have a bag with 6 marbles. One marble is white. You reach the bag 100 times. After taking out a marble, it is placed back in the bag.\n",
    "\n",
    "Because every time you replace the marble drawn, the probability for drawing a white marble in one draw is constant = p =5/6\n",
    "\n",
    "No of trials n = 100\n",
    "\n",
    "Here X no of times white marble is drawn is Binomial since there are two outcomes and also the probability is constant.\n",
    "\n",
    "the probability of drawing a white marble at least once\n",
    "\n",
    "=\n",
    "\n",
    "Required probability is almost 1.\n",
    "\n",
    "\n",
    "4. Supposedly a friend of yours has 2 children and at least one of them is a boy. What is the probability that the other is also a boy?\n",
    "- If at least one is a boy, there are three possible equally likely gender assignations of two siblings. boy-boy, boy-girl,\n",
    "\n",
    " or girl-boy. Only 1 in 3 cases or 33 percent are both boys. The lesson here is that when considering equally likely scenarios\n",
    "\n",
    " we must consider birth order. If the birth order of the boy is not specified – i.e. if we don’t know if he is the eldest or \n",
    "\n",
    " the youngest – the probability of two boys drops to 1 in 3.\n",
    " \n",
    "5. A single card is drawn from a standard deck of playing cards. What is the probability that the card is a queen provided that a face card is drawn from the deck of cards?\n",
    "- 4/12 = 1/3\n",
    " \n",
    "6. random variables Q1,2\n",
    "7. 5 questions\n",
    "8. bayes theorem first 2\n",
    "\n",
    "**Day 60**\n",
    "- inferential statistics - 3 questions\n",
    "**Day 61**\n",
    "- inferential statistics - central limit theorem done\n",
    "\n",
    "**Day 62**\n",
    "- inferential statistics - distribution analysis multivariate done\n",
    "\n",
    "**Day 63**\n",
    "- inferential statistics -  done\n",
    "\n",
    "**Day 64,65, 66**\n",
    "- Data Analysis-  wip\n",
    "\n",
    "**Day 67**\n",
    "- Data Analysis-  web scrapping done\n",
    "\n",
    "**Day 68**\n",
    "- Data Analysis-  descriptive statistics tutorial done\n",
    "\n",
    "**Day 69**\n",
    "- Data Analysis-  probability tutorial done\n",
    "\n",
    "**Day 70**\n",
    "- Data Analysis-  hypothesis testing wip\n",
    "\n",
    "**Day 71**\n",
    "- Data Analysis-  inferential statistics tutorials - done\n",
    "\n",
    "**Day 72**\n",
    "- Data Analysis-  inferential statistics tutorials - done\n",
    "\n",
    "**Day 73**\n",
    "- Data Analysis-  data analysis tutorials - wip\n",
    "\n",
    "**Day 74**\n",
    "\n",
    "**Interview Prep:**\n",
    "1. clustering evaluation techniques:\n",
    "- https://towardsdatascience.com/clustering-evaluation-strategies-98a4006fcfc\n",
    "\n",
    "**Day 75**\n",
    "\n",
    "2. feature selection\n",
    "- https://www.analyticsvidhya.com/blog/2016/12/introduction-to-feature-selection-methods-with-an-example-or-how-to-select-the-right-variables/\n",
    "\n",
    "**Day 76**\n",
    "\n",
    "2. linear regression\n",
    "- https://towardsdatascience.com/introduction-to-machine-learning-algorithms-linear-regression-14c4e325882a and also data camp\n",
    "\n",
    "**Day 77**\n",
    "\n",
    "3. What’s the normal distribution? Why do we care about it?\n",
    "- https://www.youtube.com/watch?v=rzFX5NWojp0&ab_channel=StatQuestwithJoshStarmer\n",
    "\n",
    "**Day 78, 79**\n",
    "\n",
    " few questions from dsinterviews.org\n",
    " \n",
    " \n",
    "**Day 80**\n",
    "\n",
    " linear regression from datacamp -> done\n",
    " \n",
    " \n",
    "**Day 81**\n",
    "\n",
    " what is bias, variance and bias-variance tradeoff?\n",
    " \n",
    "https://medium.datadriveninvestor.com/bias-and-variance-in-machine-learning-51fdd38d1f86\n",
    " \n",
    " \n",
    "**Day 82**\n",
    "\n",
    "Regularization, L1 and L2 regularization?\n",
    "- https://medium.datadriveninvestor.com/l1-l2-regularization-7f1b4fe948f2\n",
    "\n",
    "**Day 83**\n",
    "\n",
    "Handling Imbalanced dataset\n",
    "- https://www.analyticsvidhya.com/blog/2021/06/5-techniques-to-handle-imbalanced-data-for-a-classification-problem/\n",
    "\n",
    "**Day 84**\n",
    "\n",
    "Central limit theorem?\n",
    "- https://medium.com/analytics-vidhya/central-limit-theorem-made-easy-a61319d6ee1f\n",
    "- https://towardsdatascience.com/central-limit-theorem-95f355934d98#:~:text=The%20Central%20Limit%20Theorem%20(CLT,the%20population%20or%20original%20variables.\n",
    "\n",
    "- the distribution of sample means approaches a normal distribution as the sample size increases.\n",
    "- for n>30, sample mean will reach normal distribution\n",
    "\n",
    "**Day 85**\n",
    "\n",
    "what are outliers and how to handle them?\n",
    "- https://www.analyticsvidhya.com/blog/2021/05/detecting-and-treating-outliers-treating-the-odd-one-out/\n",
    "\n",
    "**Day 86, 87**\n",
    "\n",
    "evaluation metrics\n",
    "- https://www.kaggle.com/code/vipulgandhi/how-to-choose-right-metric-for-evaluating-ml-model/notebook\n",
    "- regression https://medium.com/usf-msds/choosing-the-right-metric-for-machine-learning-models-part-1-a99d7d7414e4\n",
    "- https://stephenallwright.com/good-rmse-score/\n",
    "- https://www.kaggle.com/code/vipulgandhi/how-to-choose-right-metric-for-evaluating-ml-model/notebook\n",
    "\n",
    "**Day 88, 89, 90, 91, 92**\n",
    "- Rmse penalizes heavily or give large number in loss if the difference between predicted and actual is high but rmse can be easily differentiable so that's an advantage.\n",
    "- range of rmse and mae is from 0 to infinity.\n",
    "- R squared -> determines how well dependent variable explains independent variable variance.\n",
    "- Adjusted R-squared -> in r sqaured if we add more features to the model accuracy will aimprove but by using adjusted r-squred accuracy will increase only if the feature is usefull otherwise it'll penalize the accuracy.\n",
    "- The maximum value of R² is 1 but minimum can be negative infinity.\n",
    "- rmse and mae is usually used to compare the models but r-squred says how good my model is and preffered in industry.\n",
    "- high r squared means better model, low rmse/mae means better model.\n",
    "- how to say which rmse is better?\n",
    "    - use scatter index. which is (rmse)*100/avg(y), if SI(scat index) <10% is good model, <5% is best. according to ashley standar model with rsquared>0.75 and SI<30% is good.\n",
    "    - https://www.statology.org/what-is-a-good-rmse/\n",
    "    \n",
    "**Day 93, 94**\n",
    "\n",
    "evaluation of classification?\n",
    "- https://www.analyticsvidhya.com/blog/2020/10/how-to-choose-evaluation-metrics-for-classification-model/\n",
    "- https://www.analyticsvidhya.com/blog/2021/06/confusion-matrix-for-multi-class-classification/\n",
    "- https://towardsdatascience.com/understanding-auc-roc-curve-68b2303cc9c5\n",
    "- https://medium.com/@gaurav_bio/making-sense-of-real-world-data-roc-curves-and-when-to-use-them-90a17e6d1db   --> best article\n",
    "- handling class imbalance --> https://towardsdatascience.com/dealing-with-imbalanced-classes-in-machine-learning-d43d6fa19d2\n",
    "\n",
    "**Day 95, 96**\n",
    "\n",
    "- regularization?\n",
    "- https://towardsdatascience.com/regularization-in-machine-learning-76441ddcf99a\n",
    "- https://www.simplilearn.com/tutorials/machine-learning-tutorial/regularization-in-machine-learning\n",
    "- https://www.analyticsvidhya.com/blog/2021/05/complete-guide-to-regularization-techniques-in-machine-learning/\n",
    "\n",
    "**Day 97**\n",
    "\n",
    "linear regression and gradient descent.\n",
    "- https://arshren.medium.com/gradient-descent-5a13f385d403\n",
    "- https://towardsdatascience.com/introduction-to-machine-learning-algorithms-linear-regression-14c4e325882a\n",
    "\n",
    "**Day 98, 99**\n",
    "\n",
    "gradient descent\n",
    "- https://www.youtube.com/watch?v=sDv4f4s2SB8&t=1276s&ab_channel=StatQuestwithJoshStarmer\n",
    "\n",
    "**Day 100**\n",
    "- validation from theory questions\n",
    "\n",
    "**Day 101,102**\n",
    "- feature selection\n",
    "\n",
    "**Day 103**\n",
    "- started reading sreelatha murthy's the outliers book\n",
    "- finished first chapter.\n",
    "\n",
    "**Day 104**\n",
    "- chapter 4 modelling and ml questions\n",
    "- How can you avoid overfitting in predictive models?\n",
    "\n",
    "**Day 105**\n",
    "- How to choose k for k mean?\n",
    "    - https://www.analyticsvidhya.com/blog/2019/08/comprehensive-guide-k-means-clustering/#h2_1\n",
    "    - https://developers.google.com/machine-learning/clustering/prepare-data\n",
    "    - https://mai-tnthao.medium.com/k-means-clustering-ph%C3%A2n-c%E1%BB%A5m-k-means-d2ffed5bddf8\n",
    "- clustering algorithm for data mith mixed categorical & numerical\n",
    "    - https://www.tomasbeuzen.com/post/clustering-mixed-data/\n",
    "    \n",
    "**Day 106**\n",
    "- which is your favourite algorithm?\n",
    "\n",
    "**Day 107**\n",
    "- regression trees\n",
    "\n",
    "**Day 108,109, 110, 111, 112, 113, 114**\n",
    "- random forest\n",
    "\n",
    "\n",
    "**Day 115**\n",
    "- A/B testing case study"
   ]
  },
  {
   "cell_type": "code",
   "execution_count": null,
   "id": "527c9e72",
   "metadata": {
    "papermill": {
     "duration": 0.070708,
     "end_time": "2022-07-04T16:53:29.128444",
     "exception": false,
     "start_time": "2022-07-04T16:53:29.057736",
     "status": "completed"
    },
    "tags": []
   },
   "outputs": [],
   "source": []
  },
  {
   "cell_type": "markdown",
   "id": "16bde20e",
   "metadata": {
    "papermill": {
     "duration": 0.07069,
     "end_time": "2022-07-04T16:53:29.270352",
     "exception": false,
     "start_time": "2022-07-04T16:53:29.199662",
     "status": "completed"
    },
    "tags": []
   },
   "source": []
  },
  {
   "cell_type": "code",
   "execution_count": null,
   "id": "4dc15820",
   "metadata": {
    "papermill": {
     "duration": 0.069215,
     "end_time": "2022-07-04T16:53:29.409497",
     "exception": false,
     "start_time": "2022-07-04T16:53:29.340282",
     "status": "completed"
    },
    "tags": []
   },
   "outputs": [],
   "source": []
  },
  {
   "cell_type": "code",
   "execution_count": 2,
   "id": "e58f8e82",
   "metadata": {
    "execution": {
     "iopub.execute_input": "2022-07-04T16:53:29.553910Z",
     "iopub.status.busy": "2022-07-04T16:53:29.553183Z",
     "iopub.status.idle": "2022-07-04T16:53:29.556667Z",
     "shell.execute_reply": "2022-07-04T16:53:29.556024Z",
     "shell.execute_reply.started": "2022-04-12T14:17:49.333113Z"
    },
    "papermill": {
     "duration": 0.077929,
     "end_time": "2022-07-04T16:53:29.556810",
     "exception": false,
     "start_time": "2022-07-04T16:53:29.478881",
     "status": "completed"
    },
    "tags": []
   },
   "outputs": [],
   "source": [
    "# !pip install PyMuPDF"
   ]
  },
  {
   "cell_type": "code",
   "execution_count": 3,
   "id": "818c67c5",
   "metadata": {
    "execution": {
     "iopub.execute_input": "2022-07-04T16:53:29.703339Z",
     "iopub.status.busy": "2022-07-04T16:53:29.702586Z",
     "iopub.status.idle": "2022-07-04T16:53:29.704767Z",
     "shell.execute_reply": "2022-07-04T16:53:29.705341Z",
     "shell.execute_reply.started": "2022-04-12T14:19:20.437905Z"
    },
    "papermill": {
     "duration": 0.078284,
     "end_time": "2022-07-04T16:53:29.705515",
     "exception": false,
     "start_time": "2022-07-04T16:53:29.627231",
     "status": "completed"
    },
    "tags": []
   },
   "outputs": [],
   "source": [
    " \n",
    "# fitz.__version__"
   ]
  },
  {
   "cell_type": "code",
   "execution_count": 4,
   "id": "e2419b52",
   "metadata": {
    "execution": {
     "iopub.execute_input": "2022-07-04T16:53:29.851264Z",
     "iopub.status.busy": "2022-07-04T16:53:29.850500Z",
     "iopub.status.idle": "2022-07-04T16:53:29.853455Z",
     "shell.execute_reply": "2022-07-04T16:53:29.852847Z",
     "shell.execute_reply.started": "2022-04-12T14:23:59.687259Z"
    },
    "papermill": {
     "duration": 0.078504,
     "end_time": "2022-07-04T16:53:29.853606",
     "exception": false,
     "start_time": "2022-07-04T16:53:29.775102",
     "status": "completed"
    },
    "tags": []
   },
   "outputs": [],
   "source": [
    "# !python -m spacy download en_core_web_sm"
   ]
  },
  {
   "cell_type": "code",
   "execution_count": null,
   "id": "78ec11ef",
   "metadata": {
    "papermill": {
     "duration": 0.070423,
     "end_time": "2022-07-04T16:53:29.996967",
     "exception": false,
     "start_time": "2022-07-04T16:53:29.926544",
     "status": "completed"
    },
    "tags": []
   },
   "outputs": [],
   "source": []
  },
  {
   "cell_type": "code",
   "execution_count": 5,
   "id": "80527cea",
   "metadata": {
    "execution": {
     "iopub.execute_input": "2022-07-04T16:53:30.143315Z",
     "iopub.status.busy": "2022-07-04T16:53:30.142474Z",
     "iopub.status.idle": "2022-07-04T16:53:30.145321Z",
     "shell.execute_reply": "2022-07-04T16:53:30.144816Z",
     "shell.execute_reply.started": "2022-04-12T14:18:25.912243Z"
    },
    "papermill": {
     "duration": 0.076719,
     "end_time": "2022-07-04T16:53:30.145476",
     "exception": false,
     "start_time": "2022-07-04T16:53:30.068757",
     "status": "completed"
    },
    "tags": []
   },
   "outputs": [],
   "source": [
    "# import fitz\n",
    "# import spacy\n",
    "# import re\n",
    "# from pathlib import Path\n",
    "# import requests\n",
    "# import os"
   ]
  },
  {
   "cell_type": "code",
   "execution_count": 6,
   "id": "c0b593f7",
   "metadata": {
    "execution": {
     "iopub.execute_input": "2022-07-04T16:53:30.292960Z",
     "iopub.status.busy": "2022-07-04T16:53:30.292199Z",
     "iopub.status.idle": "2022-07-04T16:53:30.294798Z",
     "shell.execute_reply": "2022-07-04T16:53:30.294208Z",
     "shell.execute_reply.started": "2022-04-12T15:03:43.5897Z"
    },
    "papermill": {
     "duration": 0.07858,
     "end_time": "2022-07-04T16:53:30.294938",
     "exception": false,
     "start_time": "2022-07-04T16:53:30.216358",
     "status": "completed"
    },
    "tags": []
   },
   "outputs": [],
   "source": [
    "# sql_db_json = [\n",
    "#   {\n",
    "#     \"document_id\": \"1\",\n",
    "#     \"area\": \"[72.1149,661.2966,131.95729,675.1716]\",\n",
    "#     \"page\": \"3\",\n",
    "#     \"text_\": \"Background\",\n",
    "#     \"type_of_selection\": \"Text\",\n",
    "#     \"entity_type\": \"name\",\n",
    "#     \"link\": \"https://redactable-devox-stage.s3.us-east-2.amazonaws.com/tenants/41d9e109-693b-444c-aa18-e5891bc6550b/original/1a7c0e5d-3237-4ca9-9e3d-89e707245ac6/D8communications.pdf\"\n",
    "#   },\n",
    "#   {\n",
    "#     \"document_id\": \"1\",\n",
    "#     \"area\": \"[290.55386,632.0173,322.14685,645.8923]\",\n",
    "#     \"page\": \"2\",\n",
    "#     \"text_\": \"INDEX\",\n",
    "#     \"type_of_selection\": \"Text\",\n",
    "#     \"entity_type\": \"address\",\n",
    "#     \"link\": \"https://redactable-devox-stage.s3.us-east-2.amazonaws.com/tenants/41d9e109-693b-444c-aa18-e5891bc6550b/original/1a7c0e5d-3237-4ca9-9e3d-89e707245ac6/D8communications.pdf\"\n",
    "#   }\n",
    "# ]"
   ]
  },
  {
   "cell_type": "code",
   "execution_count": 7,
   "id": "37c4a9e2",
   "metadata": {
    "execution": {
     "iopub.execute_input": "2022-07-04T16:53:30.440245Z",
     "iopub.status.busy": "2022-07-04T16:53:30.439471Z",
     "iopub.status.idle": "2022-07-04T16:53:30.441757Z",
     "shell.execute_reply": "2022-07-04T16:53:30.441123Z",
     "shell.execute_reply.started": "2022-04-12T13:17:19.452695Z"
    },
    "papermill": {
     "duration": 0.076701,
     "end_time": "2022-07-04T16:53:30.441916",
     "exception": false,
     "start_time": "2022-07-04T16:53:30.365215",
     "status": "completed"
    },
    "tags": []
   },
   "outputs": [],
   "source": [
    "# l=pd.DataFrame()\n",
    "# k=(1, '[290.55386,632.0173,322.14685,645.8923]', 2, 'INDEX', 'Text', 'address', 'https://redactable-devox-s')\n",
    "# k\n"
   ]
  },
  {
   "cell_type": "code",
   "execution_count": 8,
   "id": "9490a100",
   "metadata": {
    "execution": {
     "iopub.execute_input": "2022-07-04T16:53:30.590650Z",
     "iopub.status.busy": "2022-07-04T16:53:30.589913Z",
     "iopub.status.idle": "2022-07-04T16:53:30.593284Z",
     "shell.execute_reply": "2022-07-04T16:53:30.593805Z",
     "shell.execute_reply.started": "2022-04-12T16:09:33.708631Z"
    },
    "papermill": {
     "duration": 0.077591,
     "end_time": "2022-07-04T16:53:30.593989",
     "exception": false,
     "start_time": "2022-07-04T16:53:30.516398",
     "status": "completed"
    },
    "tags": []
   },
   "outputs": [],
   "source": [
    "# co=[\"document_id\",\"area\",\"page\",\"text_\",\"type_of_selection\",\"entity_type\",\"link\"]\n",
    "# val= [(1,'[72.1149,661.2966,131.95729,675.1716]',3,'Background','Text','name' ,'https://redactable-devox-stage.s3.us-east-2.am'), (1,  '[290.55386,632.0173,322.14685,645.8923]',2,'INDEX', 'Text','address','https://redactable-devox-stage.s3.us-east-2.am')]\n",
    "\n",
    "# df=pd.DataFrame(val,columns=[co])\n",
    "# #df.iloc[1] =[1,  '[290.55386,632.0173,322.14685,645.8923]',2,'INDEX', 'Text','address','https://redactable-devox-stage.s3.us-east-2.am']\n",
    "# df"
   ]
  },
  {
   "cell_type": "code",
   "execution_count": 9,
   "id": "8ee2f631",
   "metadata": {
    "execution": {
     "iopub.execute_input": "2022-07-04T16:53:30.740382Z",
     "iopub.status.busy": "2022-07-04T16:53:30.739738Z",
     "iopub.status.idle": "2022-07-04T16:53:30.742530Z",
     "shell.execute_reply": "2022-07-04T16:53:30.743121Z",
     "shell.execute_reply.started": "2022-04-12T16:18:22.595374Z"
    },
    "papermill": {
     "duration": 0.078584,
     "end_time": "2022-07-04T16:53:30.743291",
     "exception": false,
     "start_time": "2022-07-04T16:53:30.664707",
     "status": "completed"
    },
    "tags": []
   },
   "outputs": [],
   "source": [
    "# prev=[]\n",
    "# for data,row in df.iterrows():\n",
    "#     if row['document_id'] not in prev:\n",
    "#         prev.append(row['document_id'])\n",
    "#         print('hey')"
   ]
  },
  {
   "cell_type": "code",
   "execution_count": 10,
   "id": "bcfc8179",
   "metadata": {
    "execution": {
     "iopub.execute_input": "2022-07-04T16:53:30.888349Z",
     "iopub.status.busy": "2022-07-04T16:53:30.887662Z",
     "iopub.status.idle": "2022-07-04T16:53:30.895818Z",
     "shell.execute_reply": "2022-07-04T16:53:30.895107Z",
     "shell.execute_reply.started": "2022-04-12T15:03:48.248836Z"
    },
    "papermill": {
     "duration": 0.081305,
     "end_time": "2022-07-04T16:53:30.896014",
     "exception": false,
     "start_time": "2022-07-04T16:53:30.814709",
     "status": "completed"
    },
    "tags": []
   },
   "outputs": [],
   "source": [
    "# nlp = spacy.load('en_core_web_sm')\n",
    "# train_data = []\n",
    "\n",
    "# prev_doc_id = ''\n",
    "# i=0\n",
    "# temp='/kaggle/working'\n",
    "\n",
    "# for data in sql_db_json:\n",
    "#     if data['type_of_selection'] == 'Text':\n",
    "#         document_id = data['document_id']\n",
    "#         x1,y1,x2,y2 = data['area'][1:-1].split(',')\n",
    "#         url = data['link']\n",
    "#         page_no = int(data['page']) - 1 \n",
    "#         label = data['entity_type']\n",
    "#         filename = url.split('/')[-1]\n",
    "    \n",
    "#         #download the file to temp folder\n",
    "#         outpath = os.path.join(temp,filename)\n",
    "\n",
    "#         if document_id == prev_doc_id:\n",
    "#             pass\n",
    "#         else: \n",
    "#             i+=1\n",
    "#             print(i)\n",
    "#             response = requests.get(url)\n",
    "#             with open(outpath, \"wb\") as binary_file:\n",
    "#                 binary_file.write(response.content)\n",
    "\n",
    "#         doc = fitz.open(outpath)  # any supported document type\n",
    "#         page = doc[page_no]  # we want text from this page\n",
    "#         print('page dimension - ', page.rect.width, page.rect.height)\n",
    "\n",
    "#         #The co-ordinates in the DB are image co-ords. W.r.t pdf, y1 and y2 has to be interchanged.\n",
    "#         #To ensure entire word to be selected, slight correction in x1,y1,x2,y2 is done.\n",
    "\n",
    "#         rect = [float(x1)-2, 792 - float(y2)-2, float(x2)+2, 792 - float(y1)+2]\n",
    "#         print(rect)\n",
    "#         labelled_text = page.get_textbox(rect)\n",
    "\n",
    "#         #Removing all unprintable characters from the text\n",
    "#         string = re.sub('[^0-9a-zA-Z@?|\\/<>.,()&^%$#!]+', ' ', labelled_text)\n",
    "#         print('string : ', string)\n",
    "\n",
    "#         fulltext = page.get_text()\n",
    "#         doc = nlp(fulltext)\n",
    "\n",
    "#         sentences = []\n",
    "#         for sent in doc.sents:\n",
    "#             if string.strip() in sent.text:\n",
    "#                 text = re.sub('[^0-9a-zA-Z@?|\\/<>.,()&^%$#!]+', ' ', sent.text)\n",
    "\n",
    "#         res = re.search(string.strip(), text)\n",
    "\n",
    "#         entities = []\n",
    "#         entities.append((res.start(),res.end(),label))\n",
    "\n",
    "#         train_data.append((text,{'entities':entities}))\n",
    "\n",
    "# print('Training data in spacy format')\n",
    "# print('*****************************')\n",
    "# for i in range(0,len(train_data)):\n",
    "#     print(train_data[i])"
   ]
  },
  {
   "cell_type": "code",
   "execution_count": null,
   "id": "d95940f3",
   "metadata": {
    "papermill": {
     "duration": 0.069729,
     "end_time": "2022-07-04T16:53:31.038018",
     "exception": false,
     "start_time": "2022-07-04T16:53:30.968289",
     "status": "completed"
    },
    "tags": []
   },
   "outputs": [],
   "source": []
  },
  {
   "cell_type": "code",
   "execution_count": 11,
   "id": "b74d9352",
   "metadata": {
    "execution": {
     "iopub.execute_input": "2022-07-04T16:53:31.184839Z",
     "iopub.status.busy": "2022-07-04T16:53:31.183801Z",
     "iopub.status.idle": "2022-07-04T16:53:31.186847Z",
     "shell.execute_reply": "2022-07-04T16:53:31.186195Z",
     "shell.execute_reply.started": "2022-04-12T11:44:59.253637Z"
    },
    "papermill": {
     "duration": 0.078663,
     "end_time": "2022-07-04T16:53:31.186993",
     "exception": false,
     "start_time": "2022-07-04T16:53:31.108330",
     "status": "completed"
    },
    "tags": []
   },
   "outputs": [],
   "source": [
    "# nlp = spacy.load('en_core_web_sm')\n",
    "# train_data = []\n",
    "\n",
    "# prev_doc_id = ''\n",
    "# temp='/kaggle/working'\n",
    "# i=0\n",
    "# for data in sql_db_json:\n",
    "#     if data['type_of_selection'] == 'Text':\n",
    "#         document_id = data['document_id']\n",
    "#         x1,y1,x2,y2 = data['area'][1:-1].split(',')\n",
    "#         url = data['link']\n",
    "#         page_no = int(data['page']) - 1 \n",
    "#         label = data['entity_type']\n",
    "#         filename = url.split('/')[-1]\n",
    "    \n",
    "#         #download the file to temp folder\n",
    "#         i+=1\n",
    "#         print(i)\n",
    "#         response = requests.get(url)\n",
    "#         doc = fitz.open(stream=response.content,filetype=\"pdf\")  # any supported document type\n",
    "#         page = doc[page_no]  # we want text from this page\n",
    "#         print('page dimension - ', page.rect.width, page.rect.height)\n",
    "\n",
    "#         #The co-ordinates in the DB are image co-ords. W.r.t pdf, y1 and y2 has to be interchanged.\n",
    "#         #To ensure entire word to be selected, slight correction in x1,y1,x2,y2 is done.\n",
    "\n",
    "#         rect = [float(x1)-2, 792 - float(y2)-2, float(x2)+2, 792 - float(y1)+2]\n",
    "#         print(rect)\n",
    "#         labelled_text = page.get_textbox(rect)\n",
    "\n",
    "#         #Removing all unprintable characters from the text\n",
    "#         string = re.sub('[^0-9a-zA-Z@?|\\/<>.,()&^%$#!]+', ' ', labelled_text)\n",
    "#         print('string : ', string)\n",
    "\n",
    "#         fulltext = page.get_text()\n",
    "#         doc = nlp(fulltext)\n",
    "\n",
    "#         sentences = []\n",
    "#         for sent in doc.sents:\n",
    "#             if string.strip() in sent.text:\n",
    "#                 text = re.sub('[^0-9a-zA-Z@?|\\/<>.,()&^%$#!]+', ' ', sent.text)\n",
    "\n",
    "#         res = re.search(string.strip(), text)\n",
    "\n",
    "#         entities = []\n",
    "#         entities.append((res.start(),res.end(),label))\n",
    "\n",
    "#         train_data.append((text,{'entities':entities}))\n",
    "\n",
    "# print('Training data in spacy format')\n",
    "# print('*****************************')\n",
    "# for i in range(0,len(train_data)):\n",
    "#     print(train_data[i])"
   ]
  },
  {
   "cell_type": "code",
   "execution_count": 12,
   "id": "0770f340",
   "metadata": {
    "execution": {
     "iopub.execute_input": "2022-07-04T16:53:31.332913Z",
     "iopub.status.busy": "2022-07-04T16:53:31.332210Z",
     "iopub.status.idle": "2022-07-04T16:53:31.334907Z",
     "shell.execute_reply": "2022-07-04T16:53:31.334339Z"
    },
    "papermill": {
     "duration": 0.077334,
     "end_time": "2022-07-04T16:53:31.335049",
     "exception": false,
     "start_time": "2022-07-04T16:53:31.257715",
     "status": "completed"
    },
    "tags": []
   },
   "outputs": [],
   "source": [
    "# page dimension -  612.0 792.0\n",
    "# [70.1149, 114.82839999999999, 133.95729, 132.7034]\n",
    "# string :  Background\n",
    "# page dimension -  612.0 792.0\n",
    "# [288.55386, 144.10770000000002, 324.14685, 161.98270000000002]\n",
    "# string :  INDEX\n",
    "# Training data in spacy format\n",
    "# *****************************\n",
    "# (' 3 Background The Blue Ribbon Committee was created by the Mayor to assess various city communication methods and recommend opportunities to improve communications with residents, businesses and other organizations.', {'entities': [(3, 13, 'name')]})\n",
    "# (' 2 INDEX Background Pg. 3 Purpose Pg. 3 Process .', {'entities': [(3, 8, 'address')]})"
   ]
  },
  {
   "cell_type": "code",
   "execution_count": 13,
   "id": "63ce2955",
   "metadata": {
    "execution": {
     "iopub.execute_input": "2022-07-04T16:53:31.480186Z",
     "iopub.status.busy": "2022-07-04T16:53:31.479477Z",
     "iopub.status.idle": "2022-07-04T16:53:31.483125Z",
     "shell.execute_reply": "2022-07-04T16:53:31.483636Z",
     "shell.execute_reply.started": "2022-04-11T16:35:29.609712Z"
    },
    "papermill": {
     "duration": 0.078437,
     "end_time": "2022-07-04T16:53:31.483806",
     "exception": false,
     "start_time": "2022-07-04T16:53:31.405369",
     "status": "completed"
    },
    "tags": []
   },
   "outputs": [],
   "source": [
    "# nlp = spacy.load('en_core_web_sm')\n",
    "# outpath=r'/kaggle/input/sample-pdf/D8communications.pdf'\n",
    "# doc = fitz.open(outpath)  # any supported document type\n",
    "# page_no=3\n",
    "# page = doc[page_no-1]\n",
    "\n",
    "# x1,y1,x2,y2=(72.1149,661.2966,131.95729,675.1716)\n",
    "\n",
    "# rect = [float(x1)-2, 792 - float(y2)-2, float(x2)+2, 792 - float(y1)+2]\n",
    "# print(rect)\n",
    "# labelled_text = page.get_textbox(rect)\n",
    "# string = re.sub('[^0-9a-zA-Z@?|\\/<>.,()&^%$#!]+', ' ', labelled_text)\n",
    "# print('string : ', string)\n",
    "\n",
    "# fulltext = page.get_text()\n",
    "# doc = nlp(fulltext)\n",
    "\n",
    "# sentences = []\n",
    "# for sent in doc.sents:\n",
    "#             if string.strip() in sent.text:\n",
    "#                 text = re.sub('[^0-9a-zA-Z@?|\\/<>.,()&^%$#!]+', ' ', sent.text)\n",
    "\n",
    "#         res = re.search(string.strip(), text)\n",
    "\n",
    "#         entities = []\n",
    "#         entities.append((res.start(),res.end(),label))\n",
    "\n",
    "#         train_data.append((text,{'entities':entities}))\n",
    "\n"
   ]
  },
  {
   "cell_type": "code",
   "execution_count": 14,
   "id": "28704273",
   "metadata": {
    "execution": {
     "iopub.execute_input": "2022-07-04T16:53:31.635397Z",
     "iopub.status.busy": "2022-07-04T16:53:31.634584Z",
     "iopub.status.idle": "2022-07-04T16:53:31.637317Z",
     "shell.execute_reply": "2022-07-04T16:53:31.637856Z",
     "shell.execute_reply.started": "2022-04-11T16:35:41.679947Z"
    },
    "papermill": {
     "duration": 0.078347,
     "end_time": "2022-07-04T16:53:31.638023",
     "exception": false,
     "start_time": "2022-07-04T16:53:31.559676",
     "status": "completed"
    },
    "tags": []
   },
   "outputs": [],
   "source": [
    "#doc"
   ]
  },
  {
   "cell_type": "code",
   "execution_count": 15,
   "id": "88ffcdf3",
   "metadata": {
    "execution": {
     "iopub.execute_input": "2022-07-04T16:53:31.786681Z",
     "iopub.status.busy": "2022-07-04T16:53:31.785997Z",
     "iopub.status.idle": "2022-07-04T16:53:31.789226Z",
     "shell.execute_reply": "2022-07-04T16:53:31.789794Z",
     "shell.execute_reply.started": "2022-04-11T16:35:56.010353Z"
    },
    "papermill": {
     "duration": 0.080122,
     "end_time": "2022-07-04T16:53:31.790038",
     "exception": false,
     "start_time": "2022-07-04T16:53:31.709916",
     "status": "completed"
    },
    "tags": []
   },
   "outputs": [],
   "source": [
    "# sentences = []\n",
    "# for sent in doc.sents:\n",
    "#     if string.strip() in sent.text:\n",
    "#         text = re.sub('[^0-9a-zA-Z@?|\\/<>.,()&^%$#!]+', ' ', sent.text)"
   ]
  },
  {
   "cell_type": "code",
   "execution_count": 16,
   "id": "5058ff03",
   "metadata": {
    "execution": {
     "iopub.execute_input": "2022-07-04T16:53:31.942587Z",
     "iopub.status.busy": "2022-07-04T16:53:31.941615Z",
     "iopub.status.idle": "2022-07-04T16:53:31.944453Z",
     "shell.execute_reply": "2022-07-04T16:53:31.945402Z",
     "shell.execute_reply.started": "2022-04-11T16:39:04.736143Z"
    },
    "papermill": {
     "duration": 0.082832,
     "end_time": "2022-07-04T16:53:31.945667",
     "exception": false,
     "start_time": "2022-07-04T16:53:31.862835",
     "status": "completed"
    },
    "tags": []
   },
   "outputs": [],
   "source": [
    "# k=nlp(\"he             kenny\")\n",
    "# for sent in k.sents:\n",
    "#     print(sent)"
   ]
  },
  {
   "cell_type": "code",
   "execution_count": 17,
   "id": "b5c1f6c9",
   "metadata": {
    "execution": {
     "iopub.execute_input": "2022-07-04T16:53:32.107491Z",
     "iopub.status.busy": "2022-07-04T16:53:32.106766Z",
     "iopub.status.idle": "2022-07-04T16:53:32.109770Z",
     "shell.execute_reply": "2022-07-04T16:53:32.110274Z",
     "shell.execute_reply.started": "2022-04-11T15:09:24.391421Z"
    },
    "papermill": {
     "duration": 0.077447,
     "end_time": "2022-07-04T16:53:32.110452",
     "exception": false,
     "start_time": "2022-07-04T16:53:32.033005",
     "status": "completed"
    },
    "tags": []
   },
   "outputs": [],
   "source": [
    "# text"
   ]
  },
  {
   "cell_type": "code",
   "execution_count": 18,
   "id": "6ec3aaa3",
   "metadata": {
    "execution": {
     "iopub.execute_input": "2022-07-04T16:53:32.253435Z",
     "iopub.status.busy": "2022-07-04T16:53:32.252825Z",
     "iopub.status.idle": "2022-07-04T16:53:32.255482Z",
     "shell.execute_reply": "2022-07-04T16:53:32.256075Z",
     "shell.execute_reply.started": "2022-04-11T15:09:31.9599Z"
    },
    "papermill": {
     "duration": 0.075591,
     "end_time": "2022-07-04T16:53:32.256256",
     "exception": false,
     "start_time": "2022-07-04T16:53:32.180665",
     "status": "completed"
    },
    "tags": []
   },
   "outputs": [],
   "source": [
    "# res = re.search(string.strip(), text)\n",
    "# res"
   ]
  },
  {
   "cell_type": "code",
   "execution_count": 19,
   "id": "ff683943",
   "metadata": {
    "execution": {
     "iopub.execute_input": "2022-07-04T16:53:32.399946Z",
     "iopub.status.busy": "2022-07-04T16:53:32.399265Z",
     "iopub.status.idle": "2022-07-04T16:53:32.402356Z",
     "shell.execute_reply": "2022-07-04T16:53:32.402966Z",
     "shell.execute_reply.started": "2022-04-11T15:12:41.311242Z"
    },
    "papermill": {
     "duration": 0.07671,
     "end_time": "2022-07-04T16:53:32.403137",
     "exception": false,
     "start_time": "2022-07-04T16:53:32.326427",
     "status": "completed"
    },
    "tags": []
   },
   "outputs": [],
   "source": [
    "# entities = []\n",
    "# entities.append((res.start(),res.end(),'p'))"
   ]
  },
  {
   "cell_type": "code",
   "execution_count": 20,
   "id": "0ae22067",
   "metadata": {
    "execution": {
     "iopub.execute_input": "2022-07-04T16:53:32.547438Z",
     "iopub.status.busy": "2022-07-04T16:53:32.546816Z",
     "iopub.status.idle": "2022-07-04T16:53:32.549418Z",
     "shell.execute_reply": "2022-07-04T16:53:32.550054Z",
     "shell.execute_reply.started": "2022-04-11T15:12:52.736619Z"
    },
    "papermill": {
     "duration": 0.077281,
     "end_time": "2022-07-04T16:53:32.550218",
     "exception": false,
     "start_time": "2022-07-04T16:53:32.472937",
     "status": "completed"
    },
    "tags": []
   },
   "outputs": [],
   "source": [
    "# entities"
   ]
  },
  {
   "cell_type": "code",
   "execution_count": 21,
   "id": "0c16ea77",
   "metadata": {
    "execution": {
     "iopub.execute_input": "2022-07-04T16:53:32.694178Z",
     "iopub.status.busy": "2022-07-04T16:53:32.692482Z",
     "iopub.status.idle": "2022-07-04T16:53:32.695939Z",
     "shell.execute_reply": "2022-07-04T16:53:32.696457Z",
     "shell.execute_reply.started": "2022-04-11T15:06:11.546217Z"
    },
    "papermill": {
     "duration": 0.076703,
     "end_time": "2022-07-04T16:53:32.696645",
     "exception": false,
     "start_time": "2022-07-04T16:53:32.619942",
     "status": "completed"
    },
    "tags": []
   },
   "outputs": [],
   "source": [
    "# text"
   ]
  },
  {
   "cell_type": "code",
   "execution_count": null,
   "id": "0b3ebd33",
   "metadata": {
    "execution": {
     "iopub.execute_input": "2022-04-11T15:02:33.300092Z",
     "iopub.status.busy": "2022-04-11T15:02:33.299778Z",
     "iopub.status.idle": "2022-04-11T15:02:33.30711Z",
     "shell.execute_reply": "2022-04-11T15:02:33.306345Z",
     "shell.execute_reply.started": "2022-04-11T15:02:33.300061Z"
    },
    "papermill": {
     "duration": 0.070422,
     "end_time": "2022-07-04T16:53:32.840588",
     "exception": false,
     "start_time": "2022-07-04T16:53:32.770166",
     "status": "completed"
    },
    "tags": []
   },
   "outputs": [],
   "source": []
  },
  {
   "cell_type": "code",
   "execution_count": 22,
   "id": "7bae3205",
   "metadata": {
    "execution": {
     "iopub.execute_input": "2022-07-04T16:53:32.984664Z",
     "iopub.status.busy": "2022-07-04T16:53:32.983929Z",
     "iopub.status.idle": "2022-07-04T16:53:32.986658Z",
     "shell.execute_reply": "2022-07-04T16:53:32.987142Z",
     "shell.execute_reply.started": "2022-04-11T16:21:02.863037Z"
    },
    "papermill": {
     "duration": 0.076223,
     "end_time": "2022-07-04T16:53:32.987308",
     "exception": false,
     "start_time": "2022-07-04T16:53:32.911085",
     "status": "completed"
    },
    "tags": []
   },
   "outputs": [],
   "source": [
    "# import spacy\n",
    "# nlp = spacy.load('en_core_web_sm')"
   ]
  },
  {
   "cell_type": "code",
   "execution_count": 23,
   "id": "ecb71d21",
   "metadata": {
    "execution": {
     "iopub.execute_input": "2022-07-04T16:53:33.131544Z",
     "iopub.status.busy": "2022-07-04T16:53:33.130532Z",
     "iopub.status.idle": "2022-07-04T16:53:33.134169Z",
     "shell.execute_reply": "2022-07-04T16:53:33.134803Z",
     "shell.execute_reply.started": "2022-04-09T12:19:47.776612Z"
    },
    "papermill": {
     "duration": 0.077221,
     "end_time": "2022-07-04T16:53:33.134991",
     "exception": false,
     "start_time": "2022-07-04T16:53:33.057770",
     "status": "completed"
    },
    "tags": []
   },
   "outputs": [],
   "source": [
    "# !pip install PyPDF2\n",
    "# import PyPDF2\n",
    "# fhandle = open(r'/kaggle/input/sample-pdf/D8communications.pdf', 'rb')\n",
    "# pdfReader = PyPDF2.PdfFileReader(fhandle)\n",
    "# pagehandle = pdfReader.getPage(4)\n",
    "# print(pagehandle.extractText())"
   ]
  },
  {
   "cell_type": "code",
   "execution_count": 24,
   "id": "6e2eb969",
   "metadata": {
    "execution": {
     "iopub.execute_input": "2022-07-04T16:53:33.283158Z",
     "iopub.status.busy": "2022-07-04T16:53:33.282042Z",
     "iopub.status.idle": "2022-07-04T16:53:33.284225Z",
     "shell.execute_reply": "2022-07-04T16:53:33.284801Z",
     "shell.execute_reply.started": "2022-04-09T12:25:37.701467Z"
    },
    "papermill": {
     "duration": 0.077618,
     "end_time": "2022-07-04T16:53:33.284975",
     "exception": false,
     "start_time": "2022-07-04T16:53:33.207357",
     "status": "completed"
    },
    "tags": []
   },
   "outputs": [],
   "source": [
    "# !pip install pdfplumber\n",
    "# import pdfplumber\n",
    "# with pdfplumber.open(r'/kaggle/input/sample-pdf/D8communications.pdf') as pdf:\n",
    "#     first_page = pdf.pages[3]\n",
    "#     print(first_page.extract_text())"
   ]
  },
  {
   "cell_type": "code",
   "execution_count": 25,
   "id": "6ae81f53",
   "metadata": {
    "execution": {
     "iopub.execute_input": "2022-07-04T16:53:33.429781Z",
     "iopub.status.busy": "2022-07-04T16:53:33.429093Z",
     "iopub.status.idle": "2022-07-04T16:53:33.432078Z",
     "shell.execute_reply": "2022-07-04T16:53:33.432541Z",
     "shell.execute_reply.started": "2022-04-09T12:25:49.584635Z"
    },
    "papermill": {
     "duration": 0.076949,
     "end_time": "2022-07-04T16:53:33.432819",
     "exception": false,
     "start_time": "2022-07-04T16:53:33.355870",
     "status": "completed"
    },
    "tags": []
   },
   "outputs": [],
   "source": [
    "# !pip install pytesseract"
   ]
  },
  {
   "cell_type": "code",
   "execution_count": 26,
   "id": "f4f85023",
   "metadata": {
    "execution": {
     "iopub.execute_input": "2022-07-04T16:53:33.579711Z",
     "iopub.status.busy": "2022-07-04T16:53:33.578581Z",
     "iopub.status.idle": "2022-07-04T16:53:33.580987Z",
     "shell.execute_reply": "2022-07-04T16:53:33.581444Z",
     "shell.execute_reply.started": "2022-04-09T14:49:10.656812Z"
    },
    "papermill": {
     "duration": 0.078491,
     "end_time": "2022-07-04T16:53:33.581640",
     "exception": false,
     "start_time": "2022-07-04T16:53:33.503149",
     "status": "completed"
    },
    "tags": []
   },
   "outputs": [],
   "source": [
    "# #!pip install pdf2image\n",
    "# !pip install poppler"
   ]
  },
  {
   "cell_type": "code",
   "execution_count": 27,
   "id": "049b6a96",
   "metadata": {
    "execution": {
     "iopub.execute_input": "2022-07-04T16:53:33.725990Z",
     "iopub.status.busy": "2022-07-04T16:53:33.725168Z",
     "iopub.status.idle": "2022-07-04T16:53:33.727794Z",
     "shell.execute_reply": "2022-07-04T16:53:33.728364Z",
     "shell.execute_reply.started": "2022-04-09T14:57:24.756677Z"
    },
    "papermill": {
     "duration": 0.077127,
     "end_time": "2022-07-04T16:53:33.728538",
     "exception": false,
     "start_time": "2022-07-04T16:53:33.651411",
     "status": "completed"
    },
    "tags": []
   },
   "outputs": [],
   "source": [
    "# pdf2image.convert_from_path('/kaggle/input/sample-pdf/D8communications.pdf')"
   ]
  },
  {
   "cell_type": "code",
   "execution_count": 28,
   "id": "85cbed29",
   "metadata": {
    "execution": {
     "iopub.execute_input": "2022-07-04T16:53:33.872953Z",
     "iopub.status.busy": "2022-07-04T16:53:33.872005Z",
     "iopub.status.idle": "2022-07-04T16:53:33.875959Z",
     "shell.execute_reply": "2022-07-04T16:53:33.876544Z",
     "shell.execute_reply.started": "2022-04-09T14:57:17.576149Z"
    },
    "papermill": {
     "duration": 0.077603,
     "end_time": "2022-07-04T16:53:33.876738",
     "exception": false,
     "start_time": "2022-07-04T16:53:33.799135",
     "status": "completed"
    },
    "tags": []
   },
   "outputs": [],
   "source": [
    "# import pdf2image\n",
    "# try:\n",
    "#     from PIL import Image\n",
    "# except ImportError:\n",
    "#     import Image\n",
    "# import pytesseract\n",
    "\n",
    "\n",
    "# def pdf_to_img(pdf_file):\n",
    "#     return pdf2image.convert_from_path(pdf_file)\n",
    "\n",
    "\n",
    "# def ocr_core(file):\n",
    "#     text = pytesseract.image_to_string(file)\n",
    "#     return text\n",
    "\n",
    "\n",
    "# def print_pages(pdf_file):\n",
    "#     images = pdf_to_img(pdf_file)\n",
    "#     for pg, img in enumerate(images):\n",
    "#         print(ocr_core(img))\n",
    "\n",
    "\n",
    "# print_pages('/kaggle/input/sample-pdf/D8communications.pdf')\n"
   ]
  },
  {
   "cell_type": "code",
   "execution_count": 29,
   "id": "80258c9c",
   "metadata": {
    "execution": {
     "iopub.execute_input": "2022-07-04T16:53:34.022447Z",
     "iopub.status.busy": "2022-07-04T16:53:34.021244Z",
     "iopub.status.idle": "2022-07-04T16:53:34.023833Z",
     "shell.execute_reply": "2022-07-04T16:53:34.024298Z"
    },
    "papermill": {
     "duration": 0.077735,
     "end_time": "2022-07-04T16:53:34.024470",
     "exception": false,
     "start_time": "2022-07-04T16:53:33.946735",
     "status": "completed"
    },
    "tags": []
   },
   "outputs": [],
   "source": [
    "# import requests\n",
    "# import fitz\n",
    "# import io\n",
    "\n",
    "# #URL = 'https://buildmedia.readthedocs.org/media/pdf/pdfminer-docs/latest/pdfminer-docs.pdf'\n",
    "# URL = 'https://redactable-devox-stage.s3.us-east-2.amazonaws.com/tenants/41d9e109-693b-444c-aa18-e5891bc6550b/original/1a7c0e5d-3237-4ca9-9e3d-89e707245ac6/D8communications.pdf'\n",
    "\n",
    "\n",
    "# res = requests.get(URL)\n",
    "# filestream = io.BytesIO(res.content)\n",
    "# #res.content\n",
    "# filestream\n",
    "# doc = fitz.Document(stream=filestream)\n",
    "# page1 = doc.loadPage(3)\n",
    "# page1text = page1.getText(\"text\").encode(\"utf-8\").decode(\"utf-8\")\n",
    "# print(page1text)"
   ]
  },
  {
   "cell_type": "code",
   "execution_count": 30,
   "id": "ffa17784",
   "metadata": {
    "execution": {
     "iopub.execute_input": "2022-07-04T16:53:34.170538Z",
     "iopub.status.busy": "2022-07-04T16:53:34.169573Z",
     "iopub.status.idle": "2022-07-04T16:53:34.174135Z",
     "shell.execute_reply": "2022-07-04T16:53:34.174682Z",
     "shell.execute_reply.started": "2022-04-09T07:04:56.590103Z"
    },
    "papermill": {
     "duration": 0.078395,
     "end_time": "2022-07-04T16:53:34.174846",
     "exception": false,
     "start_time": "2022-07-04T16:53:34.096451",
     "status": "completed"
    },
    "tags": []
   },
   "outputs": [],
   "source": [
    "# import requests\n",
    "# import fitz\n",
    "\n",
    "# #URL = 'https://buildmedia.readthedocs.org/media/pdf/pdfminer-docs/latest/pdfminer-docs.pdf'\n",
    "# URL = 'https://redactable-devox-stage.s3.us-east-2.amazonaws.com/tenants/41d9e109-693b-444c-aa18-e5891bc6550b/original/1a7c0e5d-3237-4ca9-9e3d-89e707245ac6/D8communications.pdf'\n",
    "\n",
    "\n",
    "# res = requests.get(URL)\n",
    "# doc = fitz.open(stream=res.content,filetype=\"pdf\")\n",
    "# page1 = doc.loadPage(3)\n",
    "# page1text = page1.getText(\"text\")\n",
    "# #rect = (72.1149,661.2966,131.95729,675.1716)\n",
    "# rect=(72.10812377929688, 116.13427734375, 133.97142028808594, 146.4227294921875)\n",
    "# labelled_text = page1.get_textbox(rect)\n",
    "# print(labelled_text.strip())\n",
    "\n",
    "# fulltext = page1.get_text()\n",
    "# print(fulltext)\n",
    "# doc = nlp(fulltext)\n",
    "# sentences = []\n",
    "# for sent in doc.sents:\n",
    "#     if labelled_text in sent.text:\n",
    "#         text = sent.text\n",
    "#         print(text)\n",
    "# #print(page1text)"
   ]
  },
  {
   "cell_type": "code",
   "execution_count": 31,
   "id": "f7e0a842",
   "metadata": {
    "execution": {
     "iopub.execute_input": "2022-07-04T16:53:34.319517Z",
     "iopub.status.busy": "2022-07-04T16:53:34.318568Z",
     "iopub.status.idle": "2022-07-04T16:53:34.321845Z",
     "shell.execute_reply": "2022-07-04T16:53:34.322412Z",
     "shell.execute_reply.started": "2022-04-08T16:42:57.6659Z"
    },
    "papermill": {
     "duration": 0.076805,
     "end_time": "2022-07-04T16:53:34.322591",
     "exception": false,
     "start_time": "2022-07-04T16:53:34.245786",
     "status": "completed"
    },
    "tags": []
   },
   "outputs": [],
   "source": [
    "#res.content"
   ]
  },
  {
   "cell_type": "code",
   "execution_count": 32,
   "id": "27d89160",
   "metadata": {
    "execution": {
     "iopub.execute_input": "2022-07-04T16:53:34.466149Z",
     "iopub.status.busy": "2022-07-04T16:53:34.465166Z",
     "iopub.status.idle": "2022-07-04T16:53:34.469067Z",
     "shell.execute_reply": "2022-07-04T16:53:34.469639Z",
     "shell.execute_reply.started": "2022-04-08T16:48:05.672392Z"
    },
    "papermill": {
     "duration": 0.077087,
     "end_time": "2022-07-04T16:53:34.469819",
     "exception": false,
     "start_time": "2022-07-04T16:53:34.392732",
     "status": "completed"
    },
    "tags": []
   },
   "outputs": [],
   "source": [
    "# import fitz\n",
    "# # mem_area=\n",
    "# # doc = fitz.open(stream=mem_area, filetype=\"pdf\")\n",
    "\n",
    "# import requests\n",
    "\n",
    "# URL = 'https://redactable-devox-stage.s3.us-east-2.amazonaws.com/tenants/41d9e109-693b-444c-aa18-e5891bc6550b/original/1a7c0e5d-3237-4ca9-9e3d-89e707245ac6/D8communications.pdf'\n",
    "\n",
    "# #res = requests.get(URL)\n",
    "# doc=fitz.open(\"/kaggle/input/sample-pdf/D8communications.pdf\")\n",
    "# #doc = fitz.open(stream=res.content,filetype=\"pdf\")\n",
    "# page1 = doc.loadPage(4)\n",
    "# # page1text = page1.getText(\"text\")\n",
    "# # print(page1text)\n",
    "# blocks = page1.getText(\"blocks\")\n",
    "# blocks.sort(key=lambda block: block[1])  # sort vertically ascending\n",
    "\n",
    "# for b in blocks:\n",
    "#     print(b[4])\n"
   ]
  },
  {
   "cell_type": "code",
   "execution_count": 33,
   "id": "0d5ad553",
   "metadata": {
    "execution": {
     "iopub.execute_input": "2022-07-04T16:53:34.614910Z",
     "iopub.status.busy": "2022-07-04T16:53:34.613877Z",
     "iopub.status.idle": "2022-07-04T16:53:34.617270Z",
     "shell.execute_reply": "2022-07-04T16:53:34.617838Z",
     "shell.execute_reply.started": "2022-04-08T16:48:13.086323Z"
    },
    "papermill": {
     "duration": 0.078226,
     "end_time": "2022-07-04T16:53:34.618007",
     "exception": false,
     "start_time": "2022-07-04T16:53:34.539781",
     "status": "completed"
    },
    "tags": []
   },
   "outputs": [],
   "source": [
    "# # page = doc[1]\n",
    "# words = page.get_text(\"words\")\n",
    "# #print(words)\n",
    "# rect = (72.1149,661.2966,131.95729,675.1716)\n",
    "\n",
    "# labelled_text = page.get_textbox(rect)\n",
    "# # labelled_text"
   ]
  },
  {
   "cell_type": "markdown",
   "id": "9998c037",
   "metadata": {
    "papermill": {
     "duration": 0.06972,
     "end_time": "2022-07-04T16:53:34.757794",
     "exception": false,
     "start_time": "2022-07-04T16:53:34.688074",
     "status": "completed"
    },
    "tags": []
   },
   "source": [
    "pip install PyPDF2"
   ]
  },
  {
   "cell_type": "code",
   "execution_count": null,
   "id": "6a3a1fad",
   "metadata": {
    "papermill": {
     "duration": 0.070917,
     "end_time": "2022-07-04T16:53:34.898966",
     "exception": false,
     "start_time": "2022-07-04T16:53:34.828049",
     "status": "completed"
    },
    "tags": []
   },
   "outputs": [],
   "source": []
  },
  {
   "cell_type": "code",
   "execution_count": 34,
   "id": "08e5edde",
   "metadata": {
    "execution": {
     "iopub.execute_input": "2022-07-04T16:53:35.044903Z",
     "iopub.status.busy": "2022-07-04T16:53:35.043869Z",
     "iopub.status.idle": "2022-07-04T16:53:35.047151Z",
     "shell.execute_reply": "2022-07-04T16:53:35.047744Z",
     "shell.execute_reply.started": "2022-03-18T16:48:58.370268Z"
    },
    "papermill": {
     "duration": 0.078823,
     "end_time": "2022-07-04T16:53:35.047922",
     "exception": false,
     "start_time": "2022-07-04T16:53:34.969099",
     "status": "completed"
    },
    "tags": []
   },
   "outputs": [],
   "source": [
    "# import pandas as pd\n",
    "# h={'step': 0, 'type': 'string', 'amount': 0.0, 'nameOrig': 'C1231006815', 'oldbalanceOrig': 0.0, 'newbalanceOrig': 0.0, 'nameDest': 'M1979787155', 'oldbalanceDest': 0.0, 'newbalanceDest': 0.0}\n",
    "# df=pd.DataFrame([h])"
   ]
  },
  {
   "cell_type": "code",
   "execution_count": 35,
   "id": "f9f2cce6",
   "metadata": {
    "execution": {
     "iopub.execute_input": "2022-07-04T16:53:35.193161Z",
     "iopub.status.busy": "2022-07-04T16:53:35.192080Z",
     "iopub.status.idle": "2022-07-04T16:53:35.193989Z",
     "shell.execute_reply": "2022-07-04T16:53:35.194576Z",
     "shell.execute_reply.started": "2022-04-09T17:21:26.021615Z"
    },
    "papermill": {
     "duration": 0.076653,
     "end_time": "2022-07-04T16:53:35.194743",
     "exception": false,
     "start_time": "2022-07-04T16:53:35.118090",
     "status": "completed"
    },
    "tags": []
   },
   "outputs": [],
   "source": [
    "#df"
   ]
  },
  {
   "cell_type": "code",
   "execution_count": null,
   "id": "a3bddffe",
   "metadata": {
    "papermill": {
     "duration": 0.069167,
     "end_time": "2022-07-04T16:53:35.333820",
     "exception": false,
     "start_time": "2022-07-04T16:53:35.264653",
     "status": "completed"
    },
    "tags": []
   },
   "outputs": [],
   "source": []
  }
 ],
 "metadata": {
  "kernelspec": {
   "display_name": "Python 3",
   "language": "python",
   "name": "python3"
  },
  "language_info": {
   "codemirror_mode": {
    "name": "ipython",
    "version": 3
   },
   "file_extension": ".py",
   "mimetype": "text/x-python",
   "name": "python",
   "nbconvert_exporter": "python",
   "pygments_lexer": "ipython3",
   "version": "3.7.12"
  },
  "papermill": {
   "default_parameters": {},
   "duration": 24.388752,
   "end_time": "2022-07-04T16:53:36.014185",
   "environment_variables": {},
   "exception": null,
   "input_path": "__notebook__.ipynb",
   "output_path": "__notebook__.ipynb",
   "parameters": {},
   "start_time": "2022-07-04T16:53:11.625433",
   "version": "2.3.3"
  }
 },
 "nbformat": 4,
 "nbformat_minor": 5
}
