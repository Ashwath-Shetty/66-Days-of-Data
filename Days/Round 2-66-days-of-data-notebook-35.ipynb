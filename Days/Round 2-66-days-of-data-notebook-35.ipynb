{
 "cells": [
  {
   "cell_type": "code",
   "execution_count": 1,
   "id": "bc4ae4a1",
   "metadata": {
    "_cell_guid": "b1076dfc-b9ad-4769-8c92-a6c4dae69d19",
    "_uuid": "8f2839f25d086af736a60e9eeb907d3b93b6e0e5",
    "execution": {
     "iopub.execute_input": "2022-04-15T12:44:14.299480Z",
     "iopub.status.busy": "2022-04-15T12:44:14.298259Z",
     "iopub.status.idle": "2022-04-15T12:44:14.323214Z",
     "shell.execute_reply": "2022-04-15T12:44:14.324300Z",
     "shell.execute_reply.started": "2022-04-12T14:12:25.248687Z"
    },
    "papermill": {
     "duration": 0.09542,
     "end_time": "2022-04-15T12:44:14.324836",
     "exception": false,
     "start_time": "2022-04-15T12:44:14.229416",
     "status": "completed"
    },
    "tags": []
   },
   "outputs": [
    {
     "name": "stdout",
     "output_type": "stream",
     "text": [
      "/kaggle/input/sample-pdf/D8communications.pdf\n"
     ]
    }
   ],
   "source": [
    "# This Python 3 environment comes with many helpful analytics libraries installed\n",
    "# It is defined by the kaggle/python Docker image: https://github.com/kaggle/docker-python\n",
    "# For example, here's several helpful packages to load\n",
    "\n",
    "import numpy as np # linear algebra\n",
    "import pandas as pd # data processing, CSV file I/O (e.g. pd.read_csv)\n",
    "\n",
    "# Input data files are available in the read-only \"../input/\" directory\n",
    "# For example, running this (by clicking run or pressing Shift+Enter) will list all files under the input directory\n",
    "\n",
    "import os\n",
    "for dirname, _, filenames in os.walk('/kaggle/input'):\n",
    "    for filename in filenames:\n",
    "        print(os.path.join(dirname, filename))\n",
    "\n",
    "# You can write up to 20GB to the current directory (/kaggle/working/) that gets preserved as output when you create a version using \"Save & Run All\" \n",
    "# You can also write temporary files to /kaggle/temp/, but they won't be saved outside of the current session"
   ]
  },
  {
   "cell_type": "markdown",
   "id": "632084ed",
   "metadata": {
    "papermill": {
     "duration": 0.059053,
     "end_time": "2022-04-15T12:44:14.444218",
     "exception": false,
     "start_time": "2022-04-15T12:44:14.385165",
     "status": "completed"
    },
    "tags": []
   },
   "source": [
    "# **Start Date: 12/3/2022**"
   ]
  },
  {
   "cell_type": "markdown",
   "id": "684737f5",
   "metadata": {
    "papermill": {
     "duration": 0.058643,
     "end_time": "2022-04-15T12:44:14.561772",
     "exception": false,
     "start_time": "2022-04-15T12:44:14.503129",
     "status": "completed"
    },
    "tags": []
   },
   "source": [
    "# **Day 1:** \n",
    "<br>dataquest -> stats -> probability-> estimating probability\n",
    "1. out come is nothing but o/p of an experiment\n",
    "ex: whatever u get after rolling a dice -> it can be any number\n",
    "2. event can have more than one outcome\n",
    "- e.x: The event that we'll get an odd number when we roll a six-sided die — this event includes the outcomes 1, 3, and 5.\n",
    "- an event can be 0 as well.\n",
    "- We always assign probabilities to events, not outcomes, even if the event includes only one outcome.\n",
    "- P(E) =1/total number of possible outcomes, P(E) probability of an event happening.\n",
    "- but above formula doesn't work always, especially when there are more than one outcome\n",
    "    - P(E)=number of successful outcomes/total number of possible outcomes\n",
    "- incase of a biased situation \n",
    "  - let's say a die has 6 - 3 times which is 1,6,3,5,6,6\n",
    "    we will consider 6 as 3 times not 1.\n",
    "    possible outcome-> 1,3,5,6,6,6\n",
    "    prob(6)=3/6\n",
    "    prob(3)=1/6\n",
    "    prob(2)=0/6\n",
    "    If we didn't treat each 6 differently and said it doesn't matter which side a 6 is on, \n",
    "    <br>we'd be forced to conclude the only possible outcomes are 1, 3, 5 and 6. We can definitely         <br>frame the problem like that, but the formula above won't work anymore — we see below P(6) <br>becomes the same as P(3), but, intuitively, P(6) should be higher than P(3) since the die has 6 on     <br>three of its sides:\n"
   ]
  },
  {
   "cell_type": "markdown",
   "id": "f455f4b1",
   "metadata": {
    "papermill": {
     "duration": 0.058748,
     "end_time": "2022-04-15T12:44:14.679108",
     "exception": false,
     "start_time": "2022-04-15T12:44:14.620360",
     "status": "completed"
    },
    "tags": []
   },
   "source": [
    "Estimating Probabilities Conclusion\n",
    "- emperical/ experimental probability\n",
    "  - probability achieved by experimenting / by doing the same event multiple times.\n",
    "  - Generally, for any event E (like a coin landing heads up), we can find its empirical probability   \n",
    "     by using the following formula: \n",
    "     •P (E) =number of times event E happened/ number of times we repeated the experiment   \n",
    " - Generally, the empirical probability of an event (a coin landing heads up, getting a 5 when weroll a die) approaches the true probability value as the number of trials of the randomexperiment (a coin toss, the rolling of a die) increases without bound.\n",
    "- When we calculate the probability of an event under the assumption that the outcomes have equal chances of occurring, we say that we're calculating the **theoretical probability** of an event.\n",
    "   - P(E)=number of successful outcomes/total number of possible outcomes\n",
    "\n"
   ]
  },
  {
   "cell_type": "markdown",
   "id": "5b648bd3",
   "metadata": {
    "papermill": {
     "duration": 0.058378,
     "end_time": "2022-04-15T12:44:14.797949",
     "exception": false,
     "start_time": "2022-04-15T12:44:14.739571",
     "status": "completed"
    },
    "tags": []
   },
   "source": [
    "# **Day 2**\n",
    "<br>dataquest-> stats -> intro to probability -> probability rules\n",
    "<br>In probability theory, the set of all possible outcomes is called a sample space. A sample space is often denoted by the capital Greek letter Ω (read \"omega\"). This is how we represent the sample space of a die roll:\n",
    "\n",
    "Ω = {1,2,3,4,5,6}\n",
    "-    The probability of any event ranges between 0 and 1: 0≤ P(Event) ≤1\n",
    "- To calculate P(A or B), we can also use the formula below, which is sometimes called the addition rule: P(A or B) = P(A) + P(B)\n",
    "  - Sample space ={ 1,2,3,4,5,6} \n",
    "  - P(2 or 5) = 2/6\n",
    "\n",
    "- P(C or D) = P(C) + P(D) - P(C and D)\n",
    "   - e.x : Sample_space ={2,4,6} + { 4,5,6} - {4/6}\n",
    "      P( even number or number greater than 3) = ( (3/6) + (3/6) )- (2/6) = 4/6\n",
    "- Events that don't intersect are called mutually exclusive.\n",
    "  - e.x: Getting a 5 (event one) and getting a 3 (event two) when we roll a regular six-sided die — it's  impossible to get both a 5 and 3.\n",
    "- Events that intersect are called mutually non-exclusive.\n",
    "  - Getting a number greater than 2 (event one) and getting an odd number (event two) when we roll a regular six-sided die — we could get a 5, which is both greater than 2 (event one) and odd (event two).\n",
    "- unioun -> A or B, intersection -> A and B"
   ]
  },
  {
   "cell_type": "markdown",
   "id": "fcd25f76",
   "metadata": {
    "papermill": {
     "duration": 0.058264,
     "end_time": "2022-04-15T12:44:14.915022",
     "exception": false,
     "start_time": "2022-04-15T12:44:14.856758",
     "status": "completed"
    },
    "tags": []
   },
   "source": [
    "# Day 3 and 4\n",
    "dataquest -> stats -> probabilities -> solving complex probabilities\n",
    "- This is the same result we got from our previous approach. In more general terms, the multiplication rule says that for two events E1 and E2, the probability that both event E1 and E2 happen can be found by multiplying the probability of E1 by the probability of E2:\n",
    "    - P(E1 ∩ E2) = P(E1) × P(E2)\n",
    "    - Events that don't influence each other's probability are called independent events. If H1 happens, P(H2) stays the same, so H1 and H2 are independent. The multiplication rule we learned only works for independent events.\n",
    "    "
   ]
  },
  {
   "cell_type": "markdown",
   "id": "7d56fd63",
   "metadata": {
    "papermill": {
     "duration": 0.059234,
     "end_time": "2022-04-15T12:44:15.033900",
     "exception": false,
     "start_time": "2022-04-15T12:44:14.974666",
     "status": "completed"
    },
    "tags": []
   },
   "source": [
    "# Day 5\n",
    "- When we replace the cards after drawing, we say that we're sampling with replacement. When we don't put the cards back, we're sampling without replacement. \n"
   ]
  },
  {
   "cell_type": "markdown",
   "id": "638bd9dc",
   "metadata": {
    "papermill": {
     "duration": 0.05843,
     "end_time": "2022-04-15T12:44:15.150860",
     "exception": false,
     "start_time": "2022-04-15T12:44:15.092430",
     "status": "completed"
    },
    "tags": []
   },
   "source": [
    "# Day6\n",
    "dataquest-> prob and stats -> probability fundamentals -> permutation and combinations\n",
    "Generally, if we have an experiment E1 (like flipping a coin) with a outcomes, followed by an experiment E2 (like rolling a die) with b outcomes, then the total number of outcomes for the composite experiment E1E2 can be found by multiplying a with b:\n",
    "\n",
    "Number of outcomes = a * b"
   ]
  },
  {
   "cell_type": "markdown",
   "id": "095febe5",
   "metadata": {
    "papermill": {
     "duration": 0.058933,
     "end_time": "2022-04-15T12:44:15.269268",
     "exception": false,
     "start_time": "2022-04-15T12:44:15.210335",
     "status": "completed"
    },
    "tags": []
   },
   "source": [
    "# Day 7\n",
    "dataquest-> prob and stats -> probability fundamentals -> permutation and combinations <br>\n",
    "More generally, if we have an experiment E1 with a outcomes, followed by an experiment E2 with b outcomes, followed by an experiment En with z outcomes, the total number of outcomes for the composite experiment E1E2 ... En can be found by multiplying their individual outcomes:\n",
    "\n",
    "Number of outcomes= a * b * … * z"
   ]
  },
  {
   "cell_type": "markdown",
   "id": "a0bae7a7",
   "metadata": {
    "papermill": {
     "duration": 0.058327,
     "end_time": "2022-04-15T12:44:15.387581",
     "exception": false,
     "start_time": "2022-04-15T12:44:15.329254",
     "status": "completed"
    },
    "tags": []
   },
   "source": [
    "# Day 8\n",
    "dataquest-> prob and stats -> probability fundamentals -> permutation and combinations <br>\n",
    "permutations= n*(n-1)*(n-2)*....*2*1\n"
   ]
  },
  {
   "cell_type": "markdown",
   "id": "553ac40d",
   "metadata": {
    "papermill": {
     "duration": 0.05826,
     "end_time": "2022-04-15T12:44:15.504555",
     "exception": false,
     "start_time": "2022-04-15T12:44:15.446295",
     "status": "completed"
    },
    "tags": []
   },
   "source": [
    "# Day 9\n",
    "dataquest-> prob and stats -> probability fundamentals -> permutation and combinations\n",
    "- in permutation order of the individual element in the arranement matters.\n",
    "   - for e.x: 9821 is different than 9281\n",
    "   - Permutations =n!  --> sample without replacement-> we are not putting back the sampled data.\n",
    "   - On the last screen, we learned to use the formula below to calculate permutations when we're sampling without replacement and taking only k objects from a group of n objects:\n",
    "   npk=n!/(n-k)!"
   ]
  },
  {
   "cell_type": "markdown",
   "id": "dba47fdd",
   "metadata": {
    "papermill": {
     "duration": 0.058035,
     "end_time": "2022-04-15T12:44:15.621426",
     "exception": false,
     "start_time": "2022-04-15T12:44:15.563391",
     "status": "completed"
    },
    "tags": []
   },
   "source": [
    "# Day 10\n",
    "dataquest-> prob and stats -> probability fundamentals -> permutation and combinations\n",
    "- More generally, if the order of the elements in an arrangement doesn't matter, the arrangement is called a combination.\n",
    "- e.x: cards in a deck \n",
    "- nCk = n! / ((n-k)!*k!)"
   ]
  },
  {
   "cell_type": "markdown",
   "id": "6e048e78",
   "metadata": {
    "papermill": {
     "duration": 0.058504,
     "end_time": "2022-04-15T12:44:15.738461",
     "exception": false,
     "start_time": "2022-04-15T12:44:15.679957",
     "status": "completed"
    },
    "tags": []
   },
   "source": [
    "# Day 11\n",
    "dataquest-> prob and stats -> probability fundamentals -> permutation and combinations\n",
    "- solved 1 probability problem.\n"
   ]
  },
  {
   "cell_type": "markdown",
   "id": "0da129e5",
   "metadata": {
    "papermill": {
     "duration": 0.059089,
     "end_time": "2022-04-15T12:44:15.855825",
     "exception": false,
     "start_time": "2022-04-15T12:44:15.796736",
     "status": "completed"
    },
    "tags": []
   },
   "source": [
    "# Day 12\n",
    "dataquest-> prob and stats -> probability fundamentals -> permutation and combinations\n",
    "- finished probability and permutations by revising them.\n",
    "- If we have an experiment E1 (like flipping a coin) with a outcomes, followed by an experiment E2(like rolling a die) with b outcomes, then the total number of outcomes for the compositeexperiment E1E2 can be found by multiplying a with b (this is known as the rule of product):\n",
    "  - number of outcomes = a*b\n",
    "- If we have an experiment E1 with a outcomes, followed by an experiment E2 with b outcomes,followed by an experiment En with z outcomes, the total number of outcomes for the compositeexperiment E1E2 ... En can be found by multiplying their individual outcomes:\n",
    "   - number of outcomes = a*b* ... *z\n",
    "- There are two kinds of arrangements:\n",
    "   - •Arrangements where the order matters, which we call permutations.\n",
    "   - •Arrangements where the order doesn't matter, which we call combination\n",
    "- To find the number of permutations when we're sampling without replacement, we can use theformula:\n",
    "  - permutation = n!\n",
    "- To find the number of permutations when we're sampling without replacement and taking only kobjects from a group of n objects, we can use the formula:\n",
    "  - nPk = n!/(n-k)!\n",
    "- To find the number of combinations when we're sampling without replacement and taking only kobjects from a group of n objects, we can use the formula\n",
    "  - nCk = n! / ((n-k)!*k!)"
   ]
  },
  {
   "cell_type": "markdown",
   "id": "9a8f2a9d",
   "metadata": {
    "papermill": {
     "duration": 0.058266,
     "end_time": "2022-04-15T12:44:15.974607",
     "exception": false,
     "start_time": "2022-04-15T12:44:15.916341",
     "status": "completed"
    },
    "tags": []
   },
   "source": [
    "# Day 13\n",
    "dataquest-> prob and stats -> probability fundamentals -> conditional probabilities\n",
    "- first 2 slides -> mainly the recap of old chapter(above one).\n"
   ]
  },
  {
   "cell_type": "markdown",
   "id": "dfe3ab59",
   "metadata": {
    "papermill": {
     "duration": 0.058208,
     "end_time": "2022-04-15T12:44:16.091539",
     "exception": false,
     "start_time": "2022-04-15T12:44:16.033331",
     "status": "completed"
    },
    "tags": []
   },
   "source": [
    "# Day 14\n",
    "dataquest-> prob and stats -> probability fundamentals -> conditional probabilities\n",
    "<br>slide 4 completed\n",
    "<br>conditional probabilities\n",
    "- probabilities with condition\n",
    "- P(5)=What is the probability of getting a 5? -> normal probability\n",
    "- P(5 | odd) =What is the probability of getting a 5 given the die showed an odd number? -> conditional prob.\n",
    "\n"
   ]
  },
  {
   "cell_type": "markdown",
   "id": "5475d883",
   "metadata": {
    "papermill": {
     "duration": 0.060359,
     "end_time": "2022-04-15T12:44:16.210384",
     "exception": false,
     "start_time": "2022-04-15T12:44:16.150025",
     "status": "completed"
    },
    "tags": []
   },
   "source": [
    "# Day 15\n",
    "dataquest-> prob and stats -> probability fundamentals -> conditional probabilities\n",
    "- on slide 5 not done yet.\n",
    "\n",
    "Say we roll a fair six-sided die and want to find the probability of getting an odd number, given the die showed a number greater than 1 after landing. Using probability notation, we want to find P(A|B) where:\n",
    "\n",
    "- A is the event that the number is odd: A = {1, 3, 5}\n",
    "- B is the event that the number is greater than 1: B = {2, 3, 4, 5, 6}\n",
    "- P(A/B)=number of succesfull outcomes / total number of outcomes.\n"
   ]
  },
  {
   "cell_type": "markdown",
   "id": "d88a7337",
   "metadata": {
    "papermill": {
     "duration": 0.063689,
     "end_time": "2022-04-15T12:44:16.334253",
     "exception": false,
     "start_time": "2022-04-15T12:44:16.270564",
     "status": "completed"
    },
    "tags": []
   },
   "source": [
    "# Day 16 and 17\n",
    "dataquest-> prob and stats -> probability fundamentals -> conditional probabilities\n",
    "\n",
    "on slide 6 not done yet."
   ]
  },
  {
   "cell_type": "markdown",
   "id": "58814dc6",
   "metadata": {
    "papermill": {
     "duration": 0.059563,
     "end_time": "2022-04-15T12:44:16.459191",
     "exception": false,
     "start_time": "2022-04-15T12:44:16.399628",
     "status": "completed"
    },
    "tags": []
   },
   "source": [
    "# Day 18\n",
    "dataquest-> prob and stats -> probability fundamentals -> conditional probabilities\n",
    "<br>slide 5 code half done"
   ]
  },
  {
   "cell_type": "markdown",
   "id": "26192cd6",
   "metadata": {
    "papermill": {
     "duration": 0.058655,
     "end_time": "2022-04-15T12:44:16.576915",
     "exception": false,
     "start_time": "2022-04-15T12:44:16.518260",
     "status": "completed"
    },
    "tags": []
   },
   "source": [
    "# Day 19\n",
    "- The number of elements in a set is called the cardinal of the set. \n",
    "  Ω is a set, and the cardinal of \n",
    "   Ω = { 2,3,4,5,6}\n",
    "   cardinal(Ω)=5\n",
    "- P(A | B) = card(A ∩ B) / card(B)\n",
    "- Say we roll a fair six-sided die and want to find the probability of getting an odd number, given the die showed a number greater than 1 after landing. Using probability notation, we want to find P(A|B) where:\n",
    "    - A is the event that the number is odd: A = {1, 3, 5}\n",
    "     - B is the event that the number is greater than 1: B = {2, 3, 4, 5, 6}\n",
    "     - total number of possible outcomes = card({2,3,4,5,6}) =5\n",
    "     - number of successful outcomes = card({3,5})= 2\n",
    "- P(A | B) = card(A ∩ B) / card(B), we can also get the same result using P(A | B) = prob(A ∩ B) / prob(B)\n",
    "\n",
    "     "
   ]
  },
  {
   "cell_type": "markdown",
   "id": "b027943a",
   "metadata": {
    "papermill": {
     "duration": 0.061635,
     "end_time": "2022-04-15T12:44:16.697420",
     "exception": false,
     "start_time": "2022-04-15T12:44:16.635785",
     "status": "completed"
    },
    "tags": []
   },
   "source": [
    "# Day 20\n",
    "dataquest-> prob and stats -> probability fundamentals -> conditional probabilities intermediate\n",
    "<br> slide 1 and 2\n",
    "- P( A | B ) ≠ P(A ∩ B), but rather:\n",
    "   - P(A | B) = P(A ∩ B) / P(B)\n",
    "   - P(A ∩ B) = P(A | B) ⋅ P(B)\n",
    "- Given that a customer bought a laptop, they will or will not also buy a mouse. This means we can be certain that either event (M|L) or (M^C|L) will happen:\n",
    "     - P(M | L) + P(M^C | L) = 1\n",
    "\n"
   ]
  },
  {
   "cell_type": "markdown",
   "id": "02a68804",
   "metadata": {
    "papermill": {
     "duration": 0.060223,
     "end_time": "2022-04-15T12:44:16.816666",
     "exception": false,
     "start_time": "2022-04-15T12:44:16.756443",
     "status": "completed"
    },
    "tags": []
   },
   "source": [
    "# Day 21\n",
    "dataquest-> prob and stats -> probability fundamentals -> conditional probabilities intermediate\n",
    "slide 1 and 2\n",
    "- P(A ∩ B) = P(B ∩ A)\n",
    "- multiplication rule of probability\n",
    "  -  P(A ∩ B) = P(B) ⋅ P(A | B) \n",
    "  - P(A ∩ B) = P(A) ⋅ P(B | A)\n",
    "- if P(A) and P(B) are statistically independent then \n",
    "  - P(A ∩ B) = P(A) ⋅ P(B)\n",
    "\n"
   ]
  },
  {
   "cell_type": "markdown",
   "id": "5e693bae",
   "metadata": {
    "papermill": {
     "duration": 0.059537,
     "end_time": "2022-04-15T12:44:16.935757",
     "exception": false,
     "start_time": "2022-04-15T12:44:16.876220",
     "status": "completed"
    },
    "tags": []
   },
   "source": [
    "# Day 22\n",
    "dataquest-> prob and stats -> probability fundamentals -> conditional probabilities intermediate \n",
    "<br>slide 6\n",
    "- If events events A and B are dependent, it means the occurrence of event A changes the probability of event B and vice versa.\n",
    "   - P(A) ≠ P(A | B)\n",
    "   - P(B) ≠ P(B | A)\n",
    "   - P(A ∩ B) ≠ P(A) ⋅ P(B)\n",
    "   - formula will become P(A ∩ B) ≠ P(A) ⋅ P(B/A)\n",
    "   "
   ]
  },
  {
   "cell_type": "markdown",
   "id": "4320c226",
   "metadata": {
    "papermill": {
     "duration": 0.058881,
     "end_time": "2022-04-15T12:44:17.054707",
     "exception": false,
     "start_time": "2022-04-15T12:44:16.995826",
     "status": "completed"
    },
    "tags": []
   },
   "source": [
    "# Day 23\n",
    "dataquest-> prob and stats -> probability fundamentals -> conditional probabilities intermediate\n",
    "<br>slide 7 to last\n",
    "- To find whether three events — A, B, C — are independent or not, below conditions must hold true -\n",
    "  - P(A ∩ B) ≠ P(A) ⋅ P(B)\n",
    "  - P(A ∩ C) ≠ P(A) ⋅ P(C)\n",
    "  - P(B ∩ C) ≠ P(B) ⋅ P(C)\n",
    "  - P(A ∩ B ∩ C) ≠ P(A) ⋅ P(B) . P(C)\n",
    "- multiplication rule for conditional probability or dependent events\n",
    " - P(A ∩ B ∩ C) = P(A) ⋅ P(B | A) ⋅ P(C | A ∩ B)\n",
    " \n",
    "\n"
   ]
  },
  {
   "cell_type": "markdown",
   "id": "0d17b343",
   "metadata": {
    "papermill": {
     "duration": 0.058488,
     "end_time": "2022-04-15T12:44:17.172006",
     "exception": false,
     "start_time": "2022-04-15T12:44:17.113518",
     "status": "completed"
    },
    "tags": []
   },
   "source": [
    "# Day 24\n",
    "dataquest-> prob and stats -> probability fundamentals -> bayes theorem\n",
    "<br>slide 1\n",
    "- independent -> one event is dependent on other\n",
    "   - P(A ∩ B) = P(A) ⋅ P(B/A)\n",
    "- independent -> one event is not dependent on other.\n",
    "   - P(A ∩ B) = P(A) ⋅ P(B)\n",
    "- mutually exclusive -> both the events cannot happen at the same time.\n",
    "   - P(A ∩ B) = 0\n",
    "\n"
   ]
  },
  {
   "cell_type": "markdown",
   "id": "f0e5583e",
   "metadata": {
    "papermill": {
     "duration": 0.060796,
     "end_time": "2022-04-15T12:44:17.292289",
     "exception": false,
     "start_time": "2022-04-15T12:44:17.231493",
     "status": "completed"
    },
    "tags": []
   },
   "source": [
    "# Day 25\n",
    "dataquest-> prob and stats -> probability fundamentals -> bayes theorem\n",
    "<br>slide 2\n",
    "- If two events are exhaustive, it means they make up the whole sample space Ω\n",
    "  -  P(A) = P(A ∩ B) + P(A ∩ B^c)\n",
    "     P(A) = (P(B) * P(A/B)) +  (P(B^c) * P(A/B^c))\n",
    "     \n",
    "     "
   ]
  },
  {
   "cell_type": "markdown",
   "id": "d2af6f83",
   "metadata": {
    "papermill": {
     "duration": 0.058625,
     "end_time": "2022-04-15T12:44:17.411037",
     "exception": false,
     "start_time": "2022-04-15T12:44:17.352412",
     "status": "completed"
    },
    "tags": []
   },
   "source": [
    "# Day 26\n",
    "dataquest-> prob and stats -> probability fundamentals -> bayes theorem\n",
    "<br>slide 3 - last\n",
    "- the law of total probability\n",
    "  - P(A)  = (P(B1) * P(A/B1)) + (P(B2) * P(A/B2))+ ... + (P(Bn) * P(A/Bn)))\n",
    "  - P(A) =(summattion i=1 to n) P(Bi) ⋅ P(A|Bi)\n",
    "- Baye's theorem\n",
    "  - P(B | A) = (P(B) ⋅ P(A | B)) / (n ∑i=1 P(Bi) ⋅ P(A | Bi))\n",
    "- The probability of being infected with HIV before doing any test is called the prior probability (\"prior\" means \"before\"). The probability of being infected with HIV after testing positive is called the posterior probability (\"posterior\" means \"after\").\n",
    "\n",
    "\n",
    "  "
   ]
  },
  {
   "cell_type": "markdown",
   "id": "e53dd0df",
   "metadata": {
    "papermill": {
     "duration": 0.058667,
     "end_time": "2022-04-15T12:44:17.528605",
     "exception": false,
     "start_time": "2022-04-15T12:44:17.469938",
     "status": "completed"
    },
    "tags": []
   },
   "source": [
    "# Day 27\n",
    "dataquest-> prob and stats -> probability fundamentals -> naive bayes theorem\n",
    "<br>slide 1 - \n",
    "P(Spam|w1,w2,w3,w4)∝P(Spam)⋅P(w1|Spam)⋅P(w2|Spam)⋅P(w3|Spam)⋅P(w4|Spam)P(SpamC|w1,w2,w3,w4)∝P(SpamC)⋅P(w1|SpamC)⋅P(w2|SpamC)⋅P(w3|SpamC)⋅P(w4|SpamC)"
   ]
  },
  {
   "cell_type": "markdown",
   "id": "1b724e14",
   "metadata": {
    "papermill": {
     "duration": 0.05828,
     "end_time": "2022-04-15T12:44:17.645496",
     "exception": false,
     "start_time": "2022-04-15T12:44:17.587216",
     "status": "completed"
    },
    "tags": []
   },
   "source": [
    "# Day 28\n",
    "dataquest-> prob and stats -> probability fundamentals -> naive bayes theorem\n",
    "<br>finished.\n",
    "<br>**Summary**\n",
    "- P(Spam|w1,w2,...,wn)∝P(Spam)⋅n∏i=1P(wi|Spam)\n",
    "- P(SpamC|w1,w2,...,wn)∝P(SpamC)⋅n∏i=1P(wi|SpamC)\n",
    "- To calculate P(wi|Spam) and P(wi|SpamC), we need to use the additive smoothing technique: \n",
    "- P ( w i | S p a m ) = (N w i | S p a m + α) / ( N S p a m + α ⋅ N V o c a b u l a r y )\n",
    "- P ( w i | S p a m C ) = (N w i | S p a m C + α) / ( N S p a m C + α ⋅ N V o c a b u l a r y )\n",
    "     - N w i | S p a m = the number of times the word w i occurs in spam messages \n",
    "     - N w i | S p a m C = the number of times the word w i occurs in non-spam messages \n",
    "     - N S p a m = total number of words in spam messages \n",
    "     - N S p a m C = total number of words in non-spam messages \n",
    "     - N V o c a b u l a r y = total number of words in the vocabulary \n",
    "     - α = 1 ( α is a smoothing parameter )\n",
    " - naive bayes theorem assumes that events are not dependent.\n",
    " - The assumption of conditional independence between words is thus naive since it rarely holds in practice, and this is why the algorithm is called Naive Bayes (also called simple Bayes or independence Bayes)."
   ]
  },
  {
   "cell_type": "markdown",
   "id": "0d7ee9f4",
   "metadata": {
    "papermill": {
     "duration": 0.058106,
     "end_time": "2022-04-15T12:44:17.762286",
     "exception": false,
     "start_time": "2022-04-15T12:44:17.704180",
     "status": "completed"
    },
    "tags": []
   },
   "source": [
    "# Day 29,30,31\n",
    "<br>dataquest-> prob and stats -> probability fundamentals -> conditional probability-> guided projects\n",
    "<br> in progress"
   ]
  },
  {
   "cell_type": "markdown",
   "id": "df0d1950",
   "metadata": {
    "papermill": {
     "duration": 0.062477,
     "end_time": "2022-04-15T12:44:17.886149",
     "exception": false,
     "start_time": "2022-04-15T12:44:17.823672",
     "status": "completed"
    },
    "tags": []
   },
   "source": [
    "# Day 32 and 33\n",
    "<br>dataquest-> prob and stats -> probability fundamentals -> guided projects\n",
    "<br> done"
   ]
  },
  {
   "cell_type": "markdown",
   "id": "29207379",
   "metadata": {
    "papermill": {
     "duration": 0.058384,
     "end_time": "2022-04-15T12:44:18.003365",
     "exception": false,
     "start_time": "2022-04-15T12:44:17.944981",
     "status": "completed"
    },
    "tags": []
   },
   "source": [
    "# Day 34\n",
    "<br>dataquest-> prob and stats -> probability fundamentals -> guided projects-> lottery prediction\n",
    "<br> done"
   ]
  },
  {
   "cell_type": "markdown",
   "id": "32fe398b",
   "metadata": {
    "papermill": {
     "duration": 0.061337,
     "end_time": "2022-04-15T12:44:18.126734",
     "exception": false,
     "start_time": "2022-04-15T12:44:18.065397",
     "status": "completed"
    },
    "tags": []
   },
   "source": [
    "# Day 35\n",
    "<br>dataquest-> prob and stats -> hypothesis testing fundamentals -> significance testing\n",
    "<br> till slide 4\n",
    "- null hypothesis\n",
    "- alternate hypothesis\n"
   ]
  },
  {
   "cell_type": "code",
   "execution_count": 2,
   "id": "5719b33e",
   "metadata": {
    "execution": {
     "iopub.execute_input": "2022-04-15T12:44:18.251047Z",
     "iopub.status.busy": "2022-04-15T12:44:18.249943Z",
     "iopub.status.idle": "2022-04-15T12:44:18.252231Z",
     "shell.execute_reply": "2022-04-15T12:44:18.252818Z",
     "shell.execute_reply.started": "2022-04-12T14:17:49.333113Z"
    },
    "papermill": {
     "duration": 0.067415,
     "end_time": "2022-04-15T12:44:18.252985",
     "exception": false,
     "start_time": "2022-04-15T12:44:18.185570",
     "status": "completed"
    },
    "tags": []
   },
   "outputs": [],
   "source": [
    "# !pip install PyMuPDF"
   ]
  },
  {
   "cell_type": "code",
   "execution_count": 3,
   "id": "3671f478",
   "metadata": {
    "execution": {
     "iopub.execute_input": "2022-04-15T12:44:18.376862Z",
     "iopub.status.busy": "2022-04-15T12:44:18.375821Z",
     "iopub.status.idle": "2022-04-15T12:44:18.379186Z",
     "shell.execute_reply": "2022-04-15T12:44:18.379755Z",
     "shell.execute_reply.started": "2022-04-12T14:19:20.437905Z"
    },
    "papermill": {
     "duration": 0.067177,
     "end_time": "2022-04-15T12:44:18.379933",
     "exception": false,
     "start_time": "2022-04-15T12:44:18.312756",
     "status": "completed"
    },
    "tags": []
   },
   "outputs": [],
   "source": [
    " \n",
    "# fitz.__version__"
   ]
  },
  {
   "cell_type": "code",
   "execution_count": 4,
   "id": "47242097",
   "metadata": {
    "execution": {
     "iopub.execute_input": "2022-04-15T12:44:18.501879Z",
     "iopub.status.busy": "2022-04-15T12:44:18.501212Z",
     "iopub.status.idle": "2022-04-15T12:44:18.504058Z",
     "shell.execute_reply": "2022-04-15T12:44:18.504662Z",
     "shell.execute_reply.started": "2022-04-12T14:23:59.687259Z"
    },
    "papermill": {
     "duration": 0.065259,
     "end_time": "2022-04-15T12:44:18.504846",
     "exception": false,
     "start_time": "2022-04-15T12:44:18.439587",
     "status": "completed"
    },
    "tags": []
   },
   "outputs": [],
   "source": [
    "# !python -m spacy download en_core_web_sm"
   ]
  },
  {
   "cell_type": "code",
   "execution_count": null,
   "id": "6a77a601",
   "metadata": {
    "papermill": {
     "duration": 0.059564,
     "end_time": "2022-04-15T12:44:18.624397",
     "exception": false,
     "start_time": "2022-04-15T12:44:18.564833",
     "status": "completed"
    },
    "tags": []
   },
   "outputs": [],
   "source": []
  },
  {
   "cell_type": "code",
   "execution_count": 5,
   "id": "60b6c36c",
   "metadata": {
    "execution": {
     "iopub.execute_input": "2022-04-15T12:44:18.745916Z",
     "iopub.status.busy": "2022-04-15T12:44:18.745200Z",
     "iopub.status.idle": "2022-04-15T12:44:18.748154Z",
     "shell.execute_reply": "2022-04-15T12:44:18.748687Z",
     "shell.execute_reply.started": "2022-04-12T14:18:25.912243Z"
    },
    "papermill": {
     "duration": 0.065477,
     "end_time": "2022-04-15T12:44:18.748862",
     "exception": false,
     "start_time": "2022-04-15T12:44:18.683385",
     "status": "completed"
    },
    "tags": []
   },
   "outputs": [],
   "source": [
    "# import fitz\n",
    "# import spacy\n",
    "# import re\n",
    "# from pathlib import Path\n",
    "# import requests\n",
    "# import os"
   ]
  },
  {
   "cell_type": "code",
   "execution_count": 6,
   "id": "a6eae3b4",
   "metadata": {
    "execution": {
     "iopub.execute_input": "2022-04-15T12:44:18.871577Z",
     "iopub.status.busy": "2022-04-15T12:44:18.870819Z",
     "iopub.status.idle": "2022-04-15T12:44:18.874246Z",
     "shell.execute_reply": "2022-04-15T12:44:18.874790Z",
     "shell.execute_reply.started": "2022-04-12T15:03:43.5897Z"
    },
    "papermill": {
     "duration": 0.066687,
     "end_time": "2022-04-15T12:44:18.874957",
     "exception": false,
     "start_time": "2022-04-15T12:44:18.808270",
     "status": "completed"
    },
    "tags": []
   },
   "outputs": [],
   "source": [
    "# sql_db_json = [\n",
    "#   {\n",
    "#     \"document_id\": \"1\",\n",
    "#     \"area\": \"[72.1149,661.2966,131.95729,675.1716]\",\n",
    "#     \"page\": \"3\",\n",
    "#     \"text_\": \"Background\",\n",
    "#     \"type_of_selection\": \"Text\",\n",
    "#     \"entity_type\": \"name\",\n",
    "#     \"link\": \"https://redactable-devox-stage.s3.us-east-2.amazonaws.com/tenants/41d9e109-693b-444c-aa18-e5891bc6550b/original/1a7c0e5d-3237-4ca9-9e3d-89e707245ac6/D8communications.pdf\"\n",
    "#   },\n",
    "#   {\n",
    "#     \"document_id\": \"1\",\n",
    "#     \"area\": \"[290.55386,632.0173,322.14685,645.8923]\",\n",
    "#     \"page\": \"2\",\n",
    "#     \"text_\": \"INDEX\",\n",
    "#     \"type_of_selection\": \"Text\",\n",
    "#     \"entity_type\": \"address\",\n",
    "#     \"link\": \"https://redactable-devox-stage.s3.us-east-2.amazonaws.com/tenants/41d9e109-693b-444c-aa18-e5891bc6550b/original/1a7c0e5d-3237-4ca9-9e3d-89e707245ac6/D8communications.pdf\"\n",
    "#   }\n",
    "# ]"
   ]
  },
  {
   "cell_type": "code",
   "execution_count": 7,
   "id": "2acf5cff",
   "metadata": {
    "execution": {
     "iopub.execute_input": "2022-04-15T12:44:18.998622Z",
     "iopub.status.busy": "2022-04-15T12:44:18.997856Z",
     "iopub.status.idle": "2022-04-15T12:44:18.999895Z",
     "shell.execute_reply": "2022-04-15T12:44:19.000469Z",
     "shell.execute_reply.started": "2022-04-12T13:17:19.452695Z"
    },
    "papermill": {
     "duration": 0.065283,
     "end_time": "2022-04-15T12:44:19.000653",
     "exception": false,
     "start_time": "2022-04-15T12:44:18.935370",
     "status": "completed"
    },
    "tags": []
   },
   "outputs": [],
   "source": [
    "# l=pd.DataFrame()\n",
    "# k=(1, '[290.55386,632.0173,322.14685,645.8923]', 2, 'INDEX', 'Text', 'address', 'https://redactable-devox-s')\n",
    "# k\n"
   ]
  },
  {
   "cell_type": "code",
   "execution_count": 8,
   "id": "6edc4cdd",
   "metadata": {
    "execution": {
     "iopub.execute_input": "2022-04-15T12:44:19.124688Z",
     "iopub.status.busy": "2022-04-15T12:44:19.123919Z",
     "iopub.status.idle": "2022-04-15T12:44:19.126018Z",
     "shell.execute_reply": "2022-04-15T12:44:19.126497Z",
     "shell.execute_reply.started": "2022-04-12T16:09:33.708631Z"
    },
    "papermill": {
     "duration": 0.066283,
     "end_time": "2022-04-15T12:44:19.126680",
     "exception": false,
     "start_time": "2022-04-15T12:44:19.060397",
     "status": "completed"
    },
    "tags": []
   },
   "outputs": [],
   "source": [
    "# co=[\"document_id\",\"area\",\"page\",\"text_\",\"type_of_selection\",\"entity_type\",\"link\"]\n",
    "# val= [(1,'[72.1149,661.2966,131.95729,675.1716]',3,'Background','Text','name' ,'https://redactable-devox-stage.s3.us-east-2.am'), (1,  '[290.55386,632.0173,322.14685,645.8923]',2,'INDEX', 'Text','address','https://redactable-devox-stage.s3.us-east-2.am')]\n",
    "\n",
    "# df=pd.DataFrame(val,columns=[co])\n",
    "# #df.iloc[1] =[1,  '[290.55386,632.0173,322.14685,645.8923]',2,'INDEX', 'Text','address','https://redactable-devox-stage.s3.us-east-2.am']\n",
    "# df"
   ]
  },
  {
   "cell_type": "code",
   "execution_count": 9,
   "id": "088c896f",
   "metadata": {
    "execution": {
     "iopub.execute_input": "2022-04-15T12:44:19.249133Z",
     "iopub.status.busy": "2022-04-15T12:44:19.248262Z",
     "iopub.status.idle": "2022-04-15T12:44:19.252266Z",
     "shell.execute_reply": "2022-04-15T12:44:19.251573Z",
     "shell.execute_reply.started": "2022-04-12T16:18:22.595374Z"
    },
    "papermill": {
     "duration": 0.06685,
     "end_time": "2022-04-15T12:44:19.252422",
     "exception": false,
     "start_time": "2022-04-15T12:44:19.185572",
     "status": "completed"
    },
    "tags": []
   },
   "outputs": [],
   "source": [
    "# prev=[]\n",
    "# for data,row in df.iterrows():\n",
    "#     if row['document_id'] not in prev:\n",
    "#         prev.append(row['document_id'])\n",
    "#         print('hey')"
   ]
  },
  {
   "cell_type": "code",
   "execution_count": 10,
   "id": "4808b5e4",
   "metadata": {
    "execution": {
     "iopub.execute_input": "2022-04-15T12:44:19.380651Z",
     "iopub.status.busy": "2022-04-15T12:44:19.379868Z",
     "iopub.status.idle": "2022-04-15T12:44:19.382674Z",
     "shell.execute_reply": "2022-04-15T12:44:19.382039Z",
     "shell.execute_reply.started": "2022-04-12T15:03:48.248836Z"
    },
    "papermill": {
     "duration": 0.07067,
     "end_time": "2022-04-15T12:44:19.382819",
     "exception": false,
     "start_time": "2022-04-15T12:44:19.312149",
     "status": "completed"
    },
    "tags": []
   },
   "outputs": [],
   "source": [
    "# nlp = spacy.load('en_core_web_sm')\n",
    "# train_data = []\n",
    "\n",
    "# prev_doc_id = ''\n",
    "# i=0\n",
    "# temp='/kaggle/working'\n",
    "\n",
    "# for data in sql_db_json:\n",
    "#     if data['type_of_selection'] == 'Text':\n",
    "#         document_id = data['document_id']\n",
    "#         x1,y1,x2,y2 = data['area'][1:-1].split(',')\n",
    "#         url = data['link']\n",
    "#         page_no = int(data['page']) - 1 \n",
    "#         label = data['entity_type']\n",
    "#         filename = url.split('/')[-1]\n",
    "    \n",
    "#         #download the file to temp folder\n",
    "#         outpath = os.path.join(temp,filename)\n",
    "\n",
    "#         if document_id == prev_doc_id:\n",
    "#             pass\n",
    "#         else: \n",
    "#             i+=1\n",
    "#             print(i)\n",
    "#             response = requests.get(url)\n",
    "#             with open(outpath, \"wb\") as binary_file:\n",
    "#                 binary_file.write(response.content)\n",
    "\n",
    "#         doc = fitz.open(outpath)  # any supported document type\n",
    "#         page = doc[page_no]  # we want text from this page\n",
    "#         print('page dimension - ', page.rect.width, page.rect.height)\n",
    "\n",
    "#         #The co-ordinates in the DB are image co-ords. W.r.t pdf, y1 and y2 has to be interchanged.\n",
    "#         #To ensure entire word to be selected, slight correction in x1,y1,x2,y2 is done.\n",
    "\n",
    "#         rect = [float(x1)-2, 792 - float(y2)-2, float(x2)+2, 792 - float(y1)+2]\n",
    "#         print(rect)\n",
    "#         labelled_text = page.get_textbox(rect)\n",
    "\n",
    "#         #Removing all unprintable characters from the text\n",
    "#         string = re.sub('[^0-9a-zA-Z@?|\\/<>.,()&^%$#!]+', ' ', labelled_text)\n",
    "#         print('string : ', string)\n",
    "\n",
    "#         fulltext = page.get_text()\n",
    "#         doc = nlp(fulltext)\n",
    "\n",
    "#         sentences = []\n",
    "#         for sent in doc.sents:\n",
    "#             if string.strip() in sent.text:\n",
    "#                 text = re.sub('[^0-9a-zA-Z@?|\\/<>.,()&^%$#!]+', ' ', sent.text)\n",
    "\n",
    "#         res = re.search(string.strip(), text)\n",
    "\n",
    "#         entities = []\n",
    "#         entities.append((res.start(),res.end(),label))\n",
    "\n",
    "#         train_data.append((text,{'entities':entities}))\n",
    "\n",
    "# print('Training data in spacy format')\n",
    "# print('*****************************')\n",
    "# for i in range(0,len(train_data)):\n",
    "#     print(train_data[i])"
   ]
  },
  {
   "cell_type": "code",
   "execution_count": null,
   "id": "2ae0ad18",
   "metadata": {
    "papermill": {
     "duration": 0.058478,
     "end_time": "2022-04-15T12:44:19.500668",
     "exception": false,
     "start_time": "2022-04-15T12:44:19.442190",
     "status": "completed"
    },
    "tags": []
   },
   "outputs": [],
   "source": []
  },
  {
   "cell_type": "code",
   "execution_count": 11,
   "id": "04203854",
   "metadata": {
    "execution": {
     "iopub.execute_input": "2022-04-15T12:44:19.625737Z",
     "iopub.status.busy": "2022-04-15T12:44:19.625038Z",
     "iopub.status.idle": "2022-04-15T12:44:19.627497Z",
     "shell.execute_reply": "2022-04-15T12:44:19.628009Z",
     "shell.execute_reply.started": "2022-04-12T11:44:59.253637Z"
    },
    "papermill": {
     "duration": 0.067658,
     "end_time": "2022-04-15T12:44:19.628199",
     "exception": false,
     "start_time": "2022-04-15T12:44:19.560541",
     "status": "completed"
    },
    "tags": []
   },
   "outputs": [],
   "source": [
    "# nlp = spacy.load('en_core_web_sm')\n",
    "# train_data = []\n",
    "\n",
    "# prev_doc_id = ''\n",
    "# temp='/kaggle/working'\n",
    "# i=0\n",
    "# for data in sql_db_json:\n",
    "#     if data['type_of_selection'] == 'Text':\n",
    "#         document_id = data['document_id']\n",
    "#         x1,y1,x2,y2 = data['area'][1:-1].split(',')\n",
    "#         url = data['link']\n",
    "#         page_no = int(data['page']) - 1 \n",
    "#         label = data['entity_type']\n",
    "#         filename = url.split('/')[-1]\n",
    "    \n",
    "#         #download the file to temp folder\n",
    "#         i+=1\n",
    "#         print(i)\n",
    "#         response = requests.get(url)\n",
    "#         doc = fitz.open(stream=response.content,filetype=\"pdf\")  # any supported document type\n",
    "#         page = doc[page_no]  # we want text from this page\n",
    "#         print('page dimension - ', page.rect.width, page.rect.height)\n",
    "\n",
    "#         #The co-ordinates in the DB are image co-ords. W.r.t pdf, y1 and y2 has to be interchanged.\n",
    "#         #To ensure entire word to be selected, slight correction in x1,y1,x2,y2 is done.\n",
    "\n",
    "#         rect = [float(x1)-2, 792 - float(y2)-2, float(x2)+2, 792 - float(y1)+2]\n",
    "#         print(rect)\n",
    "#         labelled_text = page.get_textbox(rect)\n",
    "\n",
    "#         #Removing all unprintable characters from the text\n",
    "#         string = re.sub('[^0-9a-zA-Z@?|\\/<>.,()&^%$#!]+', ' ', labelled_text)\n",
    "#         print('string : ', string)\n",
    "\n",
    "#         fulltext = page.get_text()\n",
    "#         doc = nlp(fulltext)\n",
    "\n",
    "#         sentences = []\n",
    "#         for sent in doc.sents:\n",
    "#             if string.strip() in sent.text:\n",
    "#                 text = re.sub('[^0-9a-zA-Z@?|\\/<>.,()&^%$#!]+', ' ', sent.text)\n",
    "\n",
    "#         res = re.search(string.strip(), text)\n",
    "\n",
    "#         entities = []\n",
    "#         entities.append((res.start(),res.end(),label))\n",
    "\n",
    "#         train_data.append((text,{'entities':entities}))\n",
    "\n",
    "# print('Training data in spacy format')\n",
    "# print('*****************************')\n",
    "# for i in range(0,len(train_data)):\n",
    "#     print(train_data[i])"
   ]
  },
  {
   "cell_type": "code",
   "execution_count": 12,
   "id": "ffe39a00",
   "metadata": {
    "execution": {
     "iopub.execute_input": "2022-04-15T12:44:19.751408Z",
     "iopub.status.busy": "2022-04-15T12:44:19.750706Z",
     "iopub.status.idle": "2022-04-15T12:44:19.754431Z",
     "shell.execute_reply": "2022-04-15T12:44:19.754908Z"
    },
    "papermill": {
     "duration": 0.066669,
     "end_time": "2022-04-15T12:44:19.755102",
     "exception": false,
     "start_time": "2022-04-15T12:44:19.688433",
     "status": "completed"
    },
    "tags": []
   },
   "outputs": [],
   "source": [
    "# page dimension -  612.0 792.0\n",
    "# [70.1149, 114.82839999999999, 133.95729, 132.7034]\n",
    "# string :  Background\n",
    "# page dimension -  612.0 792.0\n",
    "# [288.55386, 144.10770000000002, 324.14685, 161.98270000000002]\n",
    "# string :  INDEX\n",
    "# Training data in spacy format\n",
    "# *****************************\n",
    "# (' 3 Background The Blue Ribbon Committee was created by the Mayor to assess various city communication methods and recommend opportunities to improve communications with residents, businesses and other organizations.', {'entities': [(3, 13, 'name')]})\n",
    "# (' 2 INDEX Background Pg. 3 Purpose Pg. 3 Process .', {'entities': [(3, 8, 'address')]})"
   ]
  },
  {
   "cell_type": "code",
   "execution_count": 13,
   "id": "ba235ced",
   "metadata": {
    "execution": {
     "iopub.execute_input": "2022-04-15T12:44:19.878479Z",
     "iopub.status.busy": "2022-04-15T12:44:19.875900Z",
     "iopub.status.idle": "2022-04-15T12:44:19.880546Z",
     "shell.execute_reply": "2022-04-15T12:44:19.881044Z",
     "shell.execute_reply.started": "2022-04-11T16:35:29.609712Z"
    },
    "papermill": {
     "duration": 0.066996,
     "end_time": "2022-04-15T12:44:19.881243",
     "exception": false,
     "start_time": "2022-04-15T12:44:19.814247",
     "status": "completed"
    },
    "tags": []
   },
   "outputs": [],
   "source": [
    "# nlp = spacy.load('en_core_web_sm')\n",
    "# outpath=r'/kaggle/input/sample-pdf/D8communications.pdf'\n",
    "# doc = fitz.open(outpath)  # any supported document type\n",
    "# page_no=3\n",
    "# page = doc[page_no-1]\n",
    "\n",
    "# x1,y1,x2,y2=(72.1149,661.2966,131.95729,675.1716)\n",
    "\n",
    "# rect = [float(x1)-2, 792 - float(y2)-2, float(x2)+2, 792 - float(y1)+2]\n",
    "# print(rect)\n",
    "# labelled_text = page.get_textbox(rect)\n",
    "# string = re.sub('[^0-9a-zA-Z@?|\\/<>.,()&^%$#!]+', ' ', labelled_text)\n",
    "# print('string : ', string)\n",
    "\n",
    "# fulltext = page.get_text()\n",
    "# doc = nlp(fulltext)\n",
    "\n",
    "# sentences = []\n",
    "# for sent in doc.sents:\n",
    "#             if string.strip() in sent.text:\n",
    "#                 text = re.sub('[^0-9a-zA-Z@?|\\/<>.,()&^%$#!]+', ' ', sent.text)\n",
    "\n",
    "#         res = re.search(string.strip(), text)\n",
    "\n",
    "#         entities = []\n",
    "#         entities.append((res.start(),res.end(),label))\n",
    "\n",
    "#         train_data.append((text,{'entities':entities}))\n",
    "\n"
   ]
  },
  {
   "cell_type": "code",
   "execution_count": 14,
   "id": "121c0abd",
   "metadata": {
    "execution": {
     "iopub.execute_input": "2022-04-15T12:44:20.009818Z",
     "iopub.status.busy": "2022-04-15T12:44:20.009181Z",
     "iopub.status.idle": "2022-04-15T12:44:20.011921Z",
     "shell.execute_reply": "2022-04-15T12:44:20.012423Z",
     "shell.execute_reply.started": "2022-04-11T16:35:41.679947Z"
    },
    "papermill": {
     "duration": 0.068604,
     "end_time": "2022-04-15T12:44:20.012595",
     "exception": false,
     "start_time": "2022-04-15T12:44:19.943991",
     "status": "completed"
    },
    "tags": []
   },
   "outputs": [],
   "source": [
    "#doc"
   ]
  },
  {
   "cell_type": "code",
   "execution_count": 15,
   "id": "e2d5db96",
   "metadata": {
    "execution": {
     "iopub.execute_input": "2022-04-15T12:44:20.134360Z",
     "iopub.status.busy": "2022-04-15T12:44:20.133666Z",
     "iopub.status.idle": "2022-04-15T12:44:20.136478Z",
     "shell.execute_reply": "2022-04-15T12:44:20.137039Z",
     "shell.execute_reply.started": "2022-04-11T16:35:56.010353Z"
    },
    "papermill": {
     "duration": 0.065377,
     "end_time": "2022-04-15T12:44:20.137241",
     "exception": false,
     "start_time": "2022-04-15T12:44:20.071864",
     "status": "completed"
    },
    "tags": []
   },
   "outputs": [],
   "source": [
    "# sentences = []\n",
    "# for sent in doc.sents:\n",
    "#     if string.strip() in sent.text:\n",
    "#         text = re.sub('[^0-9a-zA-Z@?|\\/<>.,()&^%$#!]+', ' ', sent.text)"
   ]
  },
  {
   "cell_type": "code",
   "execution_count": 16,
   "id": "13f555cc",
   "metadata": {
    "execution": {
     "iopub.execute_input": "2022-04-15T12:44:20.258672Z",
     "iopub.status.busy": "2022-04-15T12:44:20.258032Z",
     "iopub.status.idle": "2022-04-15T12:44:20.261737Z",
     "shell.execute_reply": "2022-04-15T12:44:20.261221Z",
     "shell.execute_reply.started": "2022-04-11T16:39:04.736143Z"
    },
    "papermill": {
     "duration": 0.065921,
     "end_time": "2022-04-15T12:44:20.261871",
     "exception": false,
     "start_time": "2022-04-15T12:44:20.195950",
     "status": "completed"
    },
    "tags": []
   },
   "outputs": [],
   "source": [
    "# k=nlp(\"he             kenny\")\n",
    "# for sent in k.sents:\n",
    "#     print(sent)"
   ]
  },
  {
   "cell_type": "code",
   "execution_count": 17,
   "id": "fe6fae1c",
   "metadata": {
    "execution": {
     "iopub.execute_input": "2022-04-15T12:44:20.384648Z",
     "iopub.status.busy": "2022-04-15T12:44:20.383940Z",
     "iopub.status.idle": "2022-04-15T12:44:20.386814Z",
     "shell.execute_reply": "2022-04-15T12:44:20.387384Z",
     "shell.execute_reply.started": "2022-04-11T15:09:24.391421Z"
    },
    "papermill": {
     "duration": 0.067031,
     "end_time": "2022-04-15T12:44:20.387567",
     "exception": false,
     "start_time": "2022-04-15T12:44:20.320536",
     "status": "completed"
    },
    "tags": []
   },
   "outputs": [],
   "source": [
    "# text"
   ]
  },
  {
   "cell_type": "code",
   "execution_count": 18,
   "id": "b8ecbc56",
   "metadata": {
    "execution": {
     "iopub.execute_input": "2022-04-15T12:44:20.510285Z",
     "iopub.status.busy": "2022-04-15T12:44:20.509299Z",
     "iopub.status.idle": "2022-04-15T12:44:20.513481Z",
     "shell.execute_reply": "2022-04-15T12:44:20.512881Z",
     "shell.execute_reply.started": "2022-04-11T15:09:31.9599Z"
    },
    "papermill": {
     "duration": 0.066517,
     "end_time": "2022-04-15T12:44:20.513626",
     "exception": false,
     "start_time": "2022-04-15T12:44:20.447109",
     "status": "completed"
    },
    "tags": []
   },
   "outputs": [],
   "source": [
    "# res = re.search(string.strip(), text)\n",
    "# res"
   ]
  },
  {
   "cell_type": "code",
   "execution_count": 19,
   "id": "2231abbf",
   "metadata": {
    "execution": {
     "iopub.execute_input": "2022-04-15T12:44:20.635727Z",
     "iopub.status.busy": "2022-04-15T12:44:20.635050Z",
     "iopub.status.idle": "2022-04-15T12:44:20.638337Z",
     "shell.execute_reply": "2022-04-15T12:44:20.638820Z",
     "shell.execute_reply.started": "2022-04-11T15:12:41.311242Z"
    },
    "papermill": {
     "duration": 0.065032,
     "end_time": "2022-04-15T12:44:20.638992",
     "exception": false,
     "start_time": "2022-04-15T12:44:20.573960",
     "status": "completed"
    },
    "tags": []
   },
   "outputs": [],
   "source": [
    "# entities = []\n",
    "# entities.append((res.start(),res.end(),'p'))"
   ]
  },
  {
   "cell_type": "code",
   "execution_count": 20,
   "id": "2e080202",
   "metadata": {
    "execution": {
     "iopub.execute_input": "2022-04-15T12:44:20.761560Z",
     "iopub.status.busy": "2022-04-15T12:44:20.760892Z",
     "iopub.status.idle": "2022-04-15T12:44:20.763786Z",
     "shell.execute_reply": "2022-04-15T12:44:20.764345Z",
     "shell.execute_reply.started": "2022-04-11T15:12:52.736619Z"
    },
    "papermill": {
     "duration": 0.065117,
     "end_time": "2022-04-15T12:44:20.764515",
     "exception": false,
     "start_time": "2022-04-15T12:44:20.699398",
     "status": "completed"
    },
    "tags": []
   },
   "outputs": [],
   "source": [
    "# entities"
   ]
  },
  {
   "cell_type": "code",
   "execution_count": 21,
   "id": "1b01f17b",
   "metadata": {
    "execution": {
     "iopub.execute_input": "2022-04-15T12:44:20.887192Z",
     "iopub.status.busy": "2022-04-15T12:44:20.886530Z",
     "iopub.status.idle": "2022-04-15T12:44:20.889300Z",
     "shell.execute_reply": "2022-04-15T12:44:20.889863Z",
     "shell.execute_reply.started": "2022-04-11T15:06:11.546217Z"
    },
    "papermill": {
     "duration": 0.06599,
     "end_time": "2022-04-15T12:44:20.890025",
     "exception": false,
     "start_time": "2022-04-15T12:44:20.824035",
     "status": "completed"
    },
    "tags": []
   },
   "outputs": [],
   "source": [
    "# text"
   ]
  },
  {
   "cell_type": "code",
   "execution_count": null,
   "id": "44d63524",
   "metadata": {
    "execution": {
     "iopub.execute_input": "2022-04-11T15:02:33.300092Z",
     "iopub.status.busy": "2022-04-11T15:02:33.299778Z",
     "iopub.status.idle": "2022-04-11T15:02:33.30711Z",
     "shell.execute_reply": "2022-04-11T15:02:33.306345Z",
     "shell.execute_reply.started": "2022-04-11T15:02:33.300061Z"
    },
    "papermill": {
     "duration": 0.059653,
     "end_time": "2022-04-15T12:44:21.009981",
     "exception": false,
     "start_time": "2022-04-15T12:44:20.950328",
     "status": "completed"
    },
    "tags": []
   },
   "outputs": [],
   "source": []
  },
  {
   "cell_type": "code",
   "execution_count": 22,
   "id": "57f02c47",
   "metadata": {
    "execution": {
     "iopub.execute_input": "2022-04-15T12:44:21.134759Z",
     "iopub.status.busy": "2022-04-15T12:44:21.134063Z",
     "iopub.status.idle": "2022-04-15T12:44:21.136716Z",
     "shell.execute_reply": "2022-04-15T12:44:21.137194Z",
     "shell.execute_reply.started": "2022-04-11T16:21:02.863037Z"
    },
    "papermill": {
     "duration": 0.065559,
     "end_time": "2022-04-15T12:44:21.137371",
     "exception": false,
     "start_time": "2022-04-15T12:44:21.071812",
     "status": "completed"
    },
    "tags": []
   },
   "outputs": [],
   "source": [
    "# import spacy\n",
    "# nlp = spacy.load('en_core_web_sm')"
   ]
  },
  {
   "cell_type": "code",
   "execution_count": 23,
   "id": "a414b795",
   "metadata": {
    "execution": {
     "iopub.execute_input": "2022-04-15T12:44:21.261353Z",
     "iopub.status.busy": "2022-04-15T12:44:21.260574Z",
     "iopub.status.idle": "2022-04-15T12:44:21.263741Z",
     "shell.execute_reply": "2022-04-15T12:44:21.264295Z",
     "shell.execute_reply.started": "2022-04-09T12:19:47.776612Z"
    },
    "papermill": {
     "duration": 0.066477,
     "end_time": "2022-04-15T12:44:21.264468",
     "exception": false,
     "start_time": "2022-04-15T12:44:21.197991",
     "status": "completed"
    },
    "tags": []
   },
   "outputs": [],
   "source": [
    "# !pip install PyPDF2\n",
    "# import PyPDF2\n",
    "# fhandle = open(r'/kaggle/input/sample-pdf/D8communications.pdf', 'rb')\n",
    "# pdfReader = PyPDF2.PdfFileReader(fhandle)\n",
    "# pagehandle = pdfReader.getPage(4)\n",
    "# print(pagehandle.extractText())"
   ]
  },
  {
   "cell_type": "code",
   "execution_count": 24,
   "id": "3cc7ce57",
   "metadata": {
    "execution": {
     "iopub.execute_input": "2022-04-15T12:44:21.392751Z",
     "iopub.status.busy": "2022-04-15T12:44:21.391861Z",
     "iopub.status.idle": "2022-04-15T12:44:21.394222Z",
     "shell.execute_reply": "2022-04-15T12:44:21.394678Z",
     "shell.execute_reply.started": "2022-04-09T12:25:37.701467Z"
    },
    "papermill": {
     "duration": 0.070748,
     "end_time": "2022-04-15T12:44:21.394848",
     "exception": false,
     "start_time": "2022-04-15T12:44:21.324100",
     "status": "completed"
    },
    "tags": []
   },
   "outputs": [],
   "source": [
    "# !pip install pdfplumber\n",
    "# import pdfplumber\n",
    "# with pdfplumber.open(r'/kaggle/input/sample-pdf/D8communications.pdf') as pdf:\n",
    "#     first_page = pdf.pages[3]\n",
    "#     print(first_page.extract_text())"
   ]
  },
  {
   "cell_type": "code",
   "execution_count": 25,
   "id": "ab1bbc07",
   "metadata": {
    "execution": {
     "iopub.execute_input": "2022-04-15T12:44:21.524821Z",
     "iopub.status.busy": "2022-04-15T12:44:21.523599Z",
     "iopub.status.idle": "2022-04-15T12:44:21.526146Z",
     "shell.execute_reply": "2022-04-15T12:44:21.526685Z",
     "shell.execute_reply.started": "2022-04-09T12:25:49.584635Z"
    },
    "papermill": {
     "duration": 0.07031,
     "end_time": "2022-04-15T12:44:21.526854",
     "exception": false,
     "start_time": "2022-04-15T12:44:21.456544",
     "status": "completed"
    },
    "tags": []
   },
   "outputs": [],
   "source": [
    "# !pip install pytesseract"
   ]
  },
  {
   "cell_type": "code",
   "execution_count": 26,
   "id": "70080612",
   "metadata": {
    "execution": {
     "iopub.execute_input": "2022-04-15T12:44:21.654522Z",
     "iopub.status.busy": "2022-04-15T12:44:21.653633Z",
     "iopub.status.idle": "2022-04-15T12:44:21.656447Z",
     "shell.execute_reply": "2022-04-15T12:44:21.657046Z",
     "shell.execute_reply.started": "2022-04-09T14:49:10.656812Z"
    },
    "papermill": {
     "duration": 0.066482,
     "end_time": "2022-04-15T12:44:21.657244",
     "exception": false,
     "start_time": "2022-04-15T12:44:21.590762",
     "status": "completed"
    },
    "tags": []
   },
   "outputs": [],
   "source": [
    "# #!pip install pdf2image\n",
    "# !pip install poppler"
   ]
  },
  {
   "cell_type": "code",
   "execution_count": 27,
   "id": "12802cd7",
   "metadata": {
    "execution": {
     "iopub.execute_input": "2022-04-15T12:44:21.781338Z",
     "iopub.status.busy": "2022-04-15T12:44:21.780384Z",
     "iopub.status.idle": "2022-04-15T12:44:21.783361Z",
     "shell.execute_reply": "2022-04-15T12:44:21.783967Z",
     "shell.execute_reply.started": "2022-04-09T14:57:24.756677Z"
    },
    "papermill": {
     "duration": 0.066499,
     "end_time": "2022-04-15T12:44:21.784162",
     "exception": false,
     "start_time": "2022-04-15T12:44:21.717663",
     "status": "completed"
    },
    "tags": []
   },
   "outputs": [],
   "source": [
    "# pdf2image.convert_from_path('/kaggle/input/sample-pdf/D8communications.pdf')"
   ]
  },
  {
   "cell_type": "code",
   "execution_count": 28,
   "id": "b91d35bf",
   "metadata": {
    "execution": {
     "iopub.execute_input": "2022-04-15T12:44:21.906506Z",
     "iopub.status.busy": "2022-04-15T12:44:21.905516Z",
     "iopub.status.idle": "2022-04-15T12:44:21.910005Z",
     "shell.execute_reply": "2022-04-15T12:44:21.910606Z",
     "shell.execute_reply.started": "2022-04-09T14:57:17.576149Z"
    },
    "papermill": {
     "duration": 0.067329,
     "end_time": "2022-04-15T12:44:21.910773",
     "exception": false,
     "start_time": "2022-04-15T12:44:21.843444",
     "status": "completed"
    },
    "tags": []
   },
   "outputs": [],
   "source": [
    "# import pdf2image\n",
    "# try:\n",
    "#     from PIL import Image\n",
    "# except ImportError:\n",
    "#     import Image\n",
    "# import pytesseract\n",
    "\n",
    "\n",
    "# def pdf_to_img(pdf_file):\n",
    "#     return pdf2image.convert_from_path(pdf_file)\n",
    "\n",
    "\n",
    "# def ocr_core(file):\n",
    "#     text = pytesseract.image_to_string(file)\n",
    "#     return text\n",
    "\n",
    "\n",
    "# def print_pages(pdf_file):\n",
    "#     images = pdf_to_img(pdf_file)\n",
    "#     for pg, img in enumerate(images):\n",
    "#         print(ocr_core(img))\n",
    "\n",
    "\n",
    "# print_pages('/kaggle/input/sample-pdf/D8communications.pdf')\n"
   ]
  },
  {
   "cell_type": "code",
   "execution_count": 29,
   "id": "a84cc8ee",
   "metadata": {
    "execution": {
     "iopub.execute_input": "2022-04-15T12:44:22.037836Z",
     "iopub.status.busy": "2022-04-15T12:44:22.036813Z",
     "iopub.status.idle": "2022-04-15T12:44:22.041012Z",
     "shell.execute_reply": "2022-04-15T12:44:22.041583Z"
    },
    "papermill": {
     "duration": 0.068215,
     "end_time": "2022-04-15T12:44:22.041759",
     "exception": false,
     "start_time": "2022-04-15T12:44:21.973544",
     "status": "completed"
    },
    "tags": []
   },
   "outputs": [],
   "source": [
    "# import requests\n",
    "# import fitz\n",
    "# import io\n",
    "\n",
    "# #URL = 'https://buildmedia.readthedocs.org/media/pdf/pdfminer-docs/latest/pdfminer-docs.pdf'\n",
    "# URL = 'https://redactable-devox-stage.s3.us-east-2.amazonaws.com/tenants/41d9e109-693b-444c-aa18-e5891bc6550b/original/1a7c0e5d-3237-4ca9-9e3d-89e707245ac6/D8communications.pdf'\n",
    "\n",
    "\n",
    "# res = requests.get(URL)\n",
    "# filestream = io.BytesIO(res.content)\n",
    "# #res.content\n",
    "# filestream\n",
    "# doc = fitz.Document(stream=filestream)\n",
    "# page1 = doc.loadPage(3)\n",
    "# page1text = page1.getText(\"text\").encode(\"utf-8\").decode(\"utf-8\")\n",
    "# print(page1text)"
   ]
  },
  {
   "cell_type": "code",
   "execution_count": 30,
   "id": "1ec044f7",
   "metadata": {
    "execution": {
     "iopub.execute_input": "2022-04-15T12:44:22.163740Z",
     "iopub.status.busy": "2022-04-15T12:44:22.162694Z",
     "iopub.status.idle": "2022-04-15T12:44:22.166930Z",
     "shell.execute_reply": "2022-04-15T12:44:22.167500Z",
     "shell.execute_reply.started": "2022-04-09T07:04:56.590103Z"
    },
    "papermill": {
     "duration": 0.066899,
     "end_time": "2022-04-15T12:44:22.167684",
     "exception": false,
     "start_time": "2022-04-15T12:44:22.100785",
     "status": "completed"
    },
    "tags": []
   },
   "outputs": [],
   "source": [
    "# import requests\n",
    "# import fitz\n",
    "\n",
    "# #URL = 'https://buildmedia.readthedocs.org/media/pdf/pdfminer-docs/latest/pdfminer-docs.pdf'\n",
    "# URL = 'https://redactable-devox-stage.s3.us-east-2.amazonaws.com/tenants/41d9e109-693b-444c-aa18-e5891bc6550b/original/1a7c0e5d-3237-4ca9-9e3d-89e707245ac6/D8communications.pdf'\n",
    "\n",
    "\n",
    "# res = requests.get(URL)\n",
    "# doc = fitz.open(stream=res.content,filetype=\"pdf\")\n",
    "# page1 = doc.loadPage(3)\n",
    "# page1text = page1.getText(\"text\")\n",
    "# #rect = (72.1149,661.2966,131.95729,675.1716)\n",
    "# rect=(72.10812377929688, 116.13427734375, 133.97142028808594, 146.4227294921875)\n",
    "# labelled_text = page1.get_textbox(rect)\n",
    "# print(labelled_text.strip())\n",
    "\n",
    "# fulltext = page1.get_text()\n",
    "# print(fulltext)\n",
    "# doc = nlp(fulltext)\n",
    "# sentences = []\n",
    "# for sent in doc.sents:\n",
    "#     if labelled_text in sent.text:\n",
    "#         text = sent.text\n",
    "#         print(text)\n",
    "# #print(page1text)"
   ]
  },
  {
   "cell_type": "code",
   "execution_count": 31,
   "id": "9c77ea78",
   "metadata": {
    "execution": {
     "iopub.execute_input": "2022-04-15T12:44:22.295675Z",
     "iopub.status.busy": "2022-04-15T12:44:22.293836Z",
     "iopub.status.idle": "2022-04-15T12:44:22.297705Z",
     "shell.execute_reply": "2022-04-15T12:44:22.298238Z",
     "shell.execute_reply.started": "2022-04-08T16:42:57.6659Z"
    },
    "papermill": {
     "duration": 0.071191,
     "end_time": "2022-04-15T12:44:22.298411",
     "exception": false,
     "start_time": "2022-04-15T12:44:22.227220",
     "status": "completed"
    },
    "tags": []
   },
   "outputs": [],
   "source": [
    "#res.content"
   ]
  },
  {
   "cell_type": "code",
   "execution_count": 32,
   "id": "1488161e",
   "metadata": {
    "execution": {
     "iopub.execute_input": "2022-04-15T12:44:22.420579Z",
     "iopub.status.busy": "2022-04-15T12:44:22.419890Z",
     "iopub.status.idle": "2022-04-15T12:44:22.423779Z",
     "shell.execute_reply": "2022-04-15T12:44:22.424313Z",
     "shell.execute_reply.started": "2022-04-08T16:48:05.672392Z"
    },
    "papermill": {
     "duration": 0.067148,
     "end_time": "2022-04-15T12:44:22.424489",
     "exception": false,
     "start_time": "2022-04-15T12:44:22.357341",
     "status": "completed"
    },
    "tags": []
   },
   "outputs": [],
   "source": [
    "# import fitz\n",
    "# # mem_area=\n",
    "# # doc = fitz.open(stream=mem_area, filetype=\"pdf\")\n",
    "\n",
    "# import requests\n",
    "\n",
    "# URL = 'https://redactable-devox-stage.s3.us-east-2.amazonaws.com/tenants/41d9e109-693b-444c-aa18-e5891bc6550b/original/1a7c0e5d-3237-4ca9-9e3d-89e707245ac6/D8communications.pdf'\n",
    "\n",
    "# #res = requests.get(URL)\n",
    "# doc=fitz.open(\"/kaggle/input/sample-pdf/D8communications.pdf\")\n",
    "# #doc = fitz.open(stream=res.content,filetype=\"pdf\")\n",
    "# page1 = doc.loadPage(4)\n",
    "# # page1text = page1.getText(\"text\")\n",
    "# # print(page1text)\n",
    "# blocks = page1.getText(\"blocks\")\n",
    "# blocks.sort(key=lambda block: block[1])  # sort vertically ascending\n",
    "\n",
    "# for b in blocks:\n",
    "#     print(b[4])\n"
   ]
  },
  {
   "cell_type": "code",
   "execution_count": 33,
   "id": "a9d07f4e",
   "metadata": {
    "execution": {
     "iopub.execute_input": "2022-04-15T12:44:22.545631Z",
     "iopub.status.busy": "2022-04-15T12:44:22.544950Z",
     "iopub.status.idle": "2022-04-15T12:44:22.547636Z",
     "shell.execute_reply": "2022-04-15T12:44:22.548141Z",
     "shell.execute_reply.started": "2022-04-08T16:48:13.086323Z"
    },
    "papermill": {
     "duration": 0.06489,
     "end_time": "2022-04-15T12:44:22.548309",
     "exception": false,
     "start_time": "2022-04-15T12:44:22.483419",
     "status": "completed"
    },
    "tags": []
   },
   "outputs": [],
   "source": [
    "# # page = doc[1]\n",
    "# words = page.get_text(\"words\")\n",
    "# #print(words)\n",
    "# rect = (72.1149,661.2966,131.95729,675.1716)\n",
    "\n",
    "# labelled_text = page.get_textbox(rect)\n",
    "# # labelled_text"
   ]
  },
  {
   "cell_type": "markdown",
   "id": "c8382bce",
   "metadata": {
    "papermill": {
     "duration": 0.058313,
     "end_time": "2022-04-15T12:44:22.665981",
     "exception": false,
     "start_time": "2022-04-15T12:44:22.607668",
     "status": "completed"
    },
    "tags": []
   },
   "source": [
    "pip install PyPDF2"
   ]
  },
  {
   "cell_type": "code",
   "execution_count": null,
   "id": "e6d146b7",
   "metadata": {
    "papermill": {
     "duration": 0.058943,
     "end_time": "2022-04-15T12:44:22.783535",
     "exception": false,
     "start_time": "2022-04-15T12:44:22.724592",
     "status": "completed"
    },
    "tags": []
   },
   "outputs": [],
   "source": []
  },
  {
   "cell_type": "code",
   "execution_count": 34,
   "id": "68327a44",
   "metadata": {
    "execution": {
     "iopub.execute_input": "2022-04-15T12:44:22.906090Z",
     "iopub.status.busy": "2022-04-15T12:44:22.905428Z",
     "iopub.status.idle": "2022-04-15T12:44:22.908276Z",
     "shell.execute_reply": "2022-04-15T12:44:22.908879Z",
     "shell.execute_reply.started": "2022-03-18T16:48:58.370268Z"
    },
    "papermill": {
     "duration": 0.066083,
     "end_time": "2022-04-15T12:44:22.909057",
     "exception": false,
     "start_time": "2022-04-15T12:44:22.842974",
     "status": "completed"
    },
    "tags": []
   },
   "outputs": [],
   "source": [
    "# import pandas as pd\n",
    "# h={'step': 0, 'type': 'string', 'amount': 0.0, 'nameOrig': 'C1231006815', 'oldbalanceOrig': 0.0, 'newbalanceOrig': 0.0, 'nameDest': 'M1979787155', 'oldbalanceDest': 0.0, 'newbalanceDest': 0.0}\n",
    "# df=pd.DataFrame([h])"
   ]
  },
  {
   "cell_type": "code",
   "execution_count": 35,
   "id": "97324678",
   "metadata": {
    "execution": {
     "iopub.execute_input": "2022-04-15T12:44:23.048698Z",
     "iopub.status.busy": "2022-04-15T12:44:23.047900Z",
     "iopub.status.idle": "2022-04-15T12:44:23.050806Z",
     "shell.execute_reply": "2022-04-15T12:44:23.051420Z",
     "shell.execute_reply.started": "2022-04-09T17:21:26.021615Z"
    },
    "papermill": {
     "duration": 0.081088,
     "end_time": "2022-04-15T12:44:23.051621",
     "exception": false,
     "start_time": "2022-04-15T12:44:22.970533",
     "status": "completed"
    },
    "tags": []
   },
   "outputs": [],
   "source": [
    "#df"
   ]
  },
  {
   "cell_type": "code",
   "execution_count": null,
   "id": "0c92ee6a",
   "metadata": {
    "papermill": {
     "duration": 0.058572,
     "end_time": "2022-04-15T12:44:23.177381",
     "exception": false,
     "start_time": "2022-04-15T12:44:23.118809",
     "status": "completed"
    },
    "tags": []
   },
   "outputs": [],
   "source": []
  }
 ],
 "metadata": {
  "kernelspec": {
   "display_name": "Python 3",
   "language": "python",
   "name": "python3"
  },
  "language_info": {
   "codemirror_mode": {
    "name": "ipython",
    "version": 3
   },
   "file_extension": ".py",
   "mimetype": "text/x-python",
   "name": "python",
   "nbconvert_exporter": "python",
   "pygments_lexer": "ipython3",
   "version": "3.7.12"
  },
  "papermill": {
   "default_parameters": {},
   "duration": 20.420953,
   "end_time": "2022-04-15T12:44:23.847161",
   "environment_variables": {},
   "exception": null,
   "input_path": "__notebook__.ipynb",
   "output_path": "__notebook__.ipynb",
   "parameters": {},
   "start_time": "2022-04-15T12:44:03.426208",
   "version": "2.3.3"
  }
 },
 "nbformat": 4,
 "nbformat_minor": 5
}
