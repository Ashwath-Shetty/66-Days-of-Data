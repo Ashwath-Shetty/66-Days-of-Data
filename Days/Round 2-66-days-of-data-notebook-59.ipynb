{
 "cells": [
  {
   "cell_type": "code",
   "execution_count": 1,
   "id": "fa77a639",
   "metadata": {
    "_cell_guid": "b1076dfc-b9ad-4769-8c92-a6c4dae69d19",
    "_uuid": "8f2839f25d086af736a60e9eeb907d3b93b6e0e5",
    "execution": {
     "iopub.execute_input": "2022-05-09T16:36:25.525056Z",
     "iopub.status.busy": "2022-05-09T16:36:25.524376Z",
     "iopub.status.idle": "2022-05-09T16:36:25.538755Z",
     "shell.execute_reply": "2022-05-09T16:36:25.539482Z",
     "shell.execute_reply.started": "2022-04-12T14:12:25.248687Z"
    },
    "papermill": {
     "duration": 0.096269,
     "end_time": "2022-05-09T16:36:25.539834",
     "exception": false,
     "start_time": "2022-05-09T16:36:25.443565",
     "status": "completed"
    },
    "tags": []
   },
   "outputs": [
    {
     "name": "stdout",
     "output_type": "stream",
     "text": [
      "/kaggle/input/sample-pdf/D8communications.pdf\n"
     ]
    }
   ],
   "source": [
    "# This Python 3 environment comes with many helpful analytics libraries installed\n",
    "# It is defined by the kaggle/python Docker image: https://github.com/kaggle/docker-python\n",
    "# For example, here's several helpful packages to load\n",
    "\n",
    "import numpy as np # linear algebra\n",
    "import pandas as pd # data processing, CSV file I/O (e.g. pd.read_csv)\n",
    "\n",
    "# Input data files are available in the read-only \"../input/\" directory\n",
    "# For example, running this (by clicking run or pressing Shift+Enter) will list all files under the input directory\n",
    "\n",
    "import os\n",
    "for dirname, _, filenames in os.walk('/kaggle/input'):\n",
    "    for filename in filenames:\n",
    "        print(os.path.join(dirname, filename))\n",
    "\n",
    "# You can write up to 20GB to the current directory (/kaggle/working/) that gets preserved as output when you create a version using \"Save & Run All\" \n",
    "# You can also write temporary files to /kaggle/temp/, but they won't be saved outside of the current session"
   ]
  },
  {
   "cell_type": "markdown",
   "id": "8d453129",
   "metadata": {
    "papermill": {
     "duration": 0.073574,
     "end_time": "2022-05-09T16:36:25.685642",
     "exception": false,
     "start_time": "2022-05-09T16:36:25.612068",
     "status": "completed"
    },
    "tags": []
   },
   "source": [
    "# **Start Date: 12/3/2022**"
   ]
  },
  {
   "cell_type": "markdown",
   "id": "b4ac2479",
   "metadata": {
    "papermill": {
     "duration": 0.081328,
     "end_time": "2022-05-09T16:36:25.849490",
     "exception": false,
     "start_time": "2022-05-09T16:36:25.768162",
     "status": "completed"
    },
    "tags": []
   },
   "source": [
    "# **Day 1:** \n",
    "<br>dataquest -> stats -> probability-> estimating probability\n",
    "1. out come is nothing but o/p of an experiment\n",
    "ex: whatever u get after rolling a dice -> it can be any number\n",
    "2. event can have more than one outcome\n",
    "- e.x: The event that we'll get an odd number when we roll a six-sided die — this event includes the outcomes 1, 3, and 5.\n",
    "- an event can be 0 as well.\n",
    "- We always assign probabilities to events, not outcomes, even if the event includes only one outcome.\n",
    "- P(E) =1/total number of possible outcomes, P(E) probability of an event happening.\n",
    "- but above formula doesn't work always, especially when there are more than one outcome\n",
    "    - P(E)=number of successful outcomes/total number of possible outcomes\n",
    "- incase of a biased situation \n",
    "  - let's say a die has 6 - 3 times which is 1,6,3,5,6,6\n",
    "    we will consider 6 as 3 times not 1.\n",
    "    possible outcome-> 1,3,5,6,6,6\n",
    "    prob(6)=3/6\n",
    "    prob(3)=1/6\n",
    "    prob(2)=0/6\n",
    "    If we didn't treat each 6 differently and said it doesn't matter which side a 6 is on, \n",
    "    <br>we'd be forced to conclude the only possible outcomes are 1, 3, 5 and 6. We can definitely         <br>frame the problem like that, but the formula above won't work anymore — we see below P(6) <br>becomes the same as P(3), but, intuitively, P(6) should be higher than P(3) since the die has 6 on     <br>three of its sides:\n"
   ]
  },
  {
   "cell_type": "markdown",
   "id": "c1d59c1e",
   "metadata": {
    "papermill": {
     "duration": 0.088343,
     "end_time": "2022-05-09T16:36:26.019409",
     "exception": false,
     "start_time": "2022-05-09T16:36:25.931066",
     "status": "completed"
    },
    "tags": []
   },
   "source": [
    "Estimating Probabilities Conclusion\n",
    "- emperical/ experimental probability\n",
    "  - probability achieved by experimenting / by doing the same event multiple times.\n",
    "  - Generally, for any event E (like a coin landing heads up), we can find its empirical probability   \n",
    "     by using the following formula: \n",
    "     •P (E) =number of times event E happened/ number of times we repeated the experiment   \n",
    " - Generally, the empirical probability of an event (a coin landing heads up, getting a 5 when weroll a die) approaches the true probability value as the number of trials of the randomexperiment (a coin toss, the rolling of a die) increases without bound.\n",
    "- When we calculate the probability of an event under the assumption that the outcomes have equal chances of occurring, we say that we're calculating the **theoretical probability** of an event.\n",
    "   - P(E)=number of successful outcomes/total number of possible outcomes\n",
    "\n"
   ]
  },
  {
   "cell_type": "markdown",
   "id": "ca7f4172",
   "metadata": {
    "papermill": {
     "duration": 0.074604,
     "end_time": "2022-05-09T16:36:26.173679",
     "exception": false,
     "start_time": "2022-05-09T16:36:26.099075",
     "status": "completed"
    },
    "tags": []
   },
   "source": [
    "# **Day 2**\n",
    "<br>dataquest-> stats -> intro to probability -> probability rules\n",
    "<br>In probability theory, the set of all possible outcomes is called a sample space. A sample space is often denoted by the capital Greek letter Ω (read \"omega\"). This is how we represent the sample space of a die roll:\n",
    "\n",
    "Ω = {1,2,3,4,5,6}\n",
    "-    The probability of any event ranges between 0 and 1: 0≤ P(Event) ≤1\n",
    "- To calculate P(A or B), we can also use the formula below, which is sometimes called the addition rule: P(A or B) = P(A) + P(B)\n",
    "  - Sample space ={ 1,2,3,4,5,6} \n",
    "  - P(2 or 5) = 2/6\n",
    "\n",
    "- P(C or D) = P(C) + P(D) - P(C and D)\n",
    "   - e.x : Sample_space ={2,4,6} + { 4,5,6} - {4/6}\n",
    "      P( even number or number greater than 3) = ( (3/6) + (3/6) )- (2/6) = 4/6\n",
    "- Events that don't intersect are called mutually exclusive.\n",
    "  - e.x: Getting a 5 (event one) and getting a 3 (event two) when we roll a regular six-sided die — it's  impossible to get both a 5 and 3.\n",
    "- Events that intersect are called mutually non-exclusive.\n",
    "  - Getting a number greater than 2 (event one) and getting an odd number (event two) when we roll a regular six-sided die — we could get a 5, which is both greater than 2 (event one) and odd (event two).\n",
    "- unioun -> A or B, intersection -> A and B"
   ]
  },
  {
   "cell_type": "markdown",
   "id": "86c2a828",
   "metadata": {
    "papermill": {
     "duration": 0.069981,
     "end_time": "2022-05-09T16:36:26.318122",
     "exception": false,
     "start_time": "2022-05-09T16:36:26.248141",
     "status": "completed"
    },
    "tags": []
   },
   "source": [
    "# Day 3 and 4\n",
    "dataquest -> stats -> probabilities -> solving complex probabilities\n",
    "- This is the same result we got from our previous approach. In more general terms, the multiplication rule says that for two events E1 and E2, the probability that both event E1 and E2 happen can be found by multiplying the probability of E1 by the probability of E2:\n",
    "    - P(E1 ∩ E2) = P(E1) × P(E2)\n",
    "    - Events that don't influence each other's probability are called independent events. If H1 happens, P(H2) stays the same, so H1 and H2 are independent. The multiplication rule we learned only works for independent events.\n",
    "    "
   ]
  },
  {
   "cell_type": "markdown",
   "id": "2395f82e",
   "metadata": {
    "papermill": {
     "duration": 0.069166,
     "end_time": "2022-05-09T16:36:26.457974",
     "exception": false,
     "start_time": "2022-05-09T16:36:26.388808",
     "status": "completed"
    },
    "tags": []
   },
   "source": [
    "# Day 5\n",
    "- When we replace the cards after drawing, we say that we're sampling with replacement. When we don't put the cards back, we're sampling without replacement. \n"
   ]
  },
  {
   "cell_type": "markdown",
   "id": "1f09b37f",
   "metadata": {
    "papermill": {
     "duration": 0.06957,
     "end_time": "2022-05-09T16:36:26.596734",
     "exception": false,
     "start_time": "2022-05-09T16:36:26.527164",
     "status": "completed"
    },
    "tags": []
   },
   "source": [
    "# Day6\n",
    "dataquest-> prob and stats -> probability fundamentals -> permutation and combinations\n",
    "Generally, if we have an experiment E1 (like flipping a coin) with a outcomes, followed by an experiment E2 (like rolling a die) with b outcomes, then the total number of outcomes for the composite experiment E1E2 can be found by multiplying a with b:\n",
    "\n",
    "Number of outcomes = a * b"
   ]
  },
  {
   "cell_type": "markdown",
   "id": "3164c479",
   "metadata": {
    "papermill": {
     "duration": 0.068038,
     "end_time": "2022-05-09T16:36:26.733272",
     "exception": false,
     "start_time": "2022-05-09T16:36:26.665234",
     "status": "completed"
    },
    "tags": []
   },
   "source": [
    "# Day 7\n",
    "dataquest-> prob and stats -> probability fundamentals -> permutation and combinations <br>\n",
    "More generally, if we have an experiment E1 with a outcomes, followed by an experiment E2 with b outcomes, followed by an experiment En with z outcomes, the total number of outcomes for the composite experiment E1E2 ... En can be found by multiplying their individual outcomes:\n",
    "\n",
    "Number of outcomes= a * b * … * z"
   ]
  },
  {
   "cell_type": "markdown",
   "id": "eb54b277",
   "metadata": {
    "papermill": {
     "duration": 0.072365,
     "end_time": "2022-05-09T16:36:26.876645",
     "exception": false,
     "start_time": "2022-05-09T16:36:26.804280",
     "status": "completed"
    },
    "tags": []
   },
   "source": [
    "# Day 8\n",
    "dataquest-> prob and stats -> probability fundamentals -> permutation and combinations <br>\n",
    "permutations= n*(n-1)*(n-2)*....*2*1\n"
   ]
  },
  {
   "cell_type": "markdown",
   "id": "ee6f366d",
   "metadata": {
    "papermill": {
     "duration": 0.072996,
     "end_time": "2022-05-09T16:36:27.022293",
     "exception": false,
     "start_time": "2022-05-09T16:36:26.949297",
     "status": "completed"
    },
    "tags": []
   },
   "source": [
    "# Day 9\n",
    "dataquest-> prob and stats -> probability fundamentals -> permutation and combinations\n",
    "- in permutation order of the individual element in the arranement matters.\n",
    "   - for e.x: 9821 is different than 9281\n",
    "   - Permutations =n!  --> sample without replacement-> we are not putting back the sampled data.\n",
    "   - On the last screen, we learned to use the formula below to calculate permutations when we're sampling without replacement and taking only k objects from a group of n objects:\n",
    "   npk=n!/(n-k)!"
   ]
  },
  {
   "cell_type": "markdown",
   "id": "59f5118a",
   "metadata": {
    "papermill": {
     "duration": 0.073947,
     "end_time": "2022-05-09T16:36:27.166984",
     "exception": false,
     "start_time": "2022-05-09T16:36:27.093037",
     "status": "completed"
    },
    "tags": []
   },
   "source": [
    "# Day 10\n",
    "dataquest-> prob and stats -> probability fundamentals -> permutation and combinations\n",
    "- More generally, if the order of the elements in an arrangement doesn't matter, the arrangement is called a combination.\n",
    "- e.x: cards in a deck \n",
    "- nCk = n! / ((n-k)!*k!)"
   ]
  },
  {
   "cell_type": "markdown",
   "id": "bae896e8",
   "metadata": {
    "papermill": {
     "duration": 0.068463,
     "end_time": "2022-05-09T16:36:27.310571",
     "exception": false,
     "start_time": "2022-05-09T16:36:27.242108",
     "status": "completed"
    },
    "tags": []
   },
   "source": [
    "# Day 11\n",
    "dataquest-> prob and stats -> probability fundamentals -> permutation and combinations\n",
    "- solved 1 probability problem.\n"
   ]
  },
  {
   "cell_type": "markdown",
   "id": "b5d54cc8",
   "metadata": {
    "papermill": {
     "duration": 0.068077,
     "end_time": "2022-05-09T16:36:27.448036",
     "exception": false,
     "start_time": "2022-05-09T16:36:27.379959",
     "status": "completed"
    },
    "tags": []
   },
   "source": [
    "# Day 12\n",
    "dataquest-> prob and stats -> probability fundamentals -> permutation and combinations\n",
    "- finished probability and permutations by revising them.\n",
    "- If we have an experiment E1 (like flipping a coin) with a outcomes, followed by an experiment E2(like rolling a die) with b outcomes, then the total number of outcomes for the compositeexperiment E1E2 can be found by multiplying a with b (this is known as the rule of product):\n",
    "  - number of outcomes = a*b\n",
    "- If we have an experiment E1 with a outcomes, followed by an experiment E2 with b outcomes,followed by an experiment En with z outcomes, the total number of outcomes for the compositeexperiment E1E2 ... En can be found by multiplying their individual outcomes:\n",
    "   - number of outcomes = a*b* ... *z\n",
    "- There are two kinds of arrangements:\n",
    "   - •Arrangements where the order matters, which we call permutations.\n",
    "   - •Arrangements where the order doesn't matter, which we call combination\n",
    "- To find the number of permutations when we're sampling without replacement, we can use theformula:\n",
    "  - permutation = n!\n",
    "- To find the number of permutations when we're sampling without replacement and taking only kobjects from a group of n objects, we can use the formula:\n",
    "  - nPk = n!/(n-k)!\n",
    "- To find the number of combinations when we're sampling without replacement and taking only kobjects from a group of n objects, we can use the formula\n",
    "  - nCk = n! / ((n-k)!*k!)"
   ]
  },
  {
   "cell_type": "markdown",
   "id": "e32cba9b",
   "metadata": {
    "papermill": {
     "duration": 0.069822,
     "end_time": "2022-05-09T16:36:27.586753",
     "exception": false,
     "start_time": "2022-05-09T16:36:27.516931",
     "status": "completed"
    },
    "tags": []
   },
   "source": [
    "# Day 13\n",
    "dataquest-> prob and stats -> probability fundamentals -> conditional probabilities\n",
    "- first 2 slides -> mainly the recap of old chapter(above one).\n"
   ]
  },
  {
   "cell_type": "markdown",
   "id": "4e8e2bcf",
   "metadata": {
    "papermill": {
     "duration": 0.069169,
     "end_time": "2022-05-09T16:36:27.724231",
     "exception": false,
     "start_time": "2022-05-09T16:36:27.655062",
     "status": "completed"
    },
    "tags": []
   },
   "source": [
    "# Day 14\n",
    "dataquest-> prob and stats -> probability fundamentals -> conditional probabilities\n",
    "<br>slide 4 completed\n",
    "<br>conditional probabilities\n",
    "- probabilities with condition\n",
    "- P(5)=What is the probability of getting a 5? -> normal probability\n",
    "- P(5 | odd) =What is the probability of getting a 5 given the die showed an odd number? -> conditional prob.\n",
    "\n"
   ]
  },
  {
   "cell_type": "markdown",
   "id": "cd80c9ba",
   "metadata": {
    "papermill": {
     "duration": 0.067498,
     "end_time": "2022-05-09T16:36:27.860083",
     "exception": false,
     "start_time": "2022-05-09T16:36:27.792585",
     "status": "completed"
    },
    "tags": []
   },
   "source": [
    "# Day 15\n",
    "dataquest-> prob and stats -> probability fundamentals -> conditional probabilities\n",
    "- on slide 5 not done yet.\n",
    "\n",
    "Say we roll a fair six-sided die and want to find the probability of getting an odd number, given the die showed a number greater than 1 after landing. Using probability notation, we want to find P(A|B) where:\n",
    "\n",
    "- A is the event that the number is odd: A = {1, 3, 5}\n",
    "- B is the event that the number is greater than 1: B = {2, 3, 4, 5, 6}\n",
    "- P(A/B)=number of succesfull outcomes / total number of outcomes.\n"
   ]
  },
  {
   "cell_type": "markdown",
   "id": "226510cb",
   "metadata": {
    "papermill": {
     "duration": 0.069284,
     "end_time": "2022-05-09T16:36:27.997541",
     "exception": false,
     "start_time": "2022-05-09T16:36:27.928257",
     "status": "completed"
    },
    "tags": []
   },
   "source": [
    "# Day 16 and 17\n",
    "dataquest-> prob and stats -> probability fundamentals -> conditional probabilities\n",
    "\n",
    "on slide 6 not done yet."
   ]
  },
  {
   "cell_type": "markdown",
   "id": "6344b172",
   "metadata": {
    "papermill": {
     "duration": 0.06781,
     "end_time": "2022-05-09T16:36:28.135560",
     "exception": false,
     "start_time": "2022-05-09T16:36:28.067750",
     "status": "completed"
    },
    "tags": []
   },
   "source": [
    "# Day 18\n",
    "dataquest-> prob and stats -> probability fundamentals -> conditional probabilities\n",
    "<br>slide 5 code half done"
   ]
  },
  {
   "cell_type": "markdown",
   "id": "7b637593",
   "metadata": {
    "papermill": {
     "duration": 0.070203,
     "end_time": "2022-05-09T16:36:28.277259",
     "exception": false,
     "start_time": "2022-05-09T16:36:28.207056",
     "status": "completed"
    },
    "tags": []
   },
   "source": [
    "# Day 19\n",
    "- The number of elements in a set is called the cardinal of the set. \n",
    "  Ω is a set, and the cardinal of \n",
    "   Ω = { 2,3,4,5,6}\n",
    "   cardinal(Ω)=5\n",
    "- P(A | B) = card(A ∩ B) / card(B)\n",
    "- Say we roll a fair six-sided die and want to find the probability of getting an odd number, given the die showed a number greater than 1 after landing. Using probability notation, we want to find P(A|B) where:\n",
    "    - A is the event that the number is odd: A = {1, 3, 5}\n",
    "     - B is the event that the number is greater than 1: B = {2, 3, 4, 5, 6}\n",
    "     - total number of possible outcomes = card({2,3,4,5,6}) =5\n",
    "     - number of successful outcomes = card({3,5})= 2\n",
    "- P(A | B) = card(A ∩ B) / card(B), we can also get the same result using P(A | B) = prob(A ∩ B) / prob(B)\n",
    "\n",
    "     "
   ]
  },
  {
   "cell_type": "markdown",
   "id": "e5cdaecd",
   "metadata": {
    "papermill": {
     "duration": 0.068152,
     "end_time": "2022-05-09T16:36:28.414800",
     "exception": false,
     "start_time": "2022-05-09T16:36:28.346648",
     "status": "completed"
    },
    "tags": []
   },
   "source": [
    "# Day 20\n",
    "dataquest-> prob and stats -> probability fundamentals -> conditional probabilities intermediate\n",
    "<br> slide 1 and 2\n",
    "- P( A | B ) ≠ P(A ∩ B), but rather:\n",
    "   - P(A | B) = P(A ∩ B) / P(B)\n",
    "   - P(A ∩ B) = P(A | B) ⋅ P(B)\n",
    "- Given that a customer bought a laptop, they will or will not also buy a mouse. This means we can be certain that either event (M|L) or (M^C|L) will happen:\n",
    "     - P(M | L) + P(M^C | L) = 1\n",
    "\n"
   ]
  },
  {
   "cell_type": "markdown",
   "id": "8ff7b412",
   "metadata": {
    "papermill": {
     "duration": 0.067451,
     "end_time": "2022-05-09T16:36:28.551042",
     "exception": false,
     "start_time": "2022-05-09T16:36:28.483591",
     "status": "completed"
    },
    "tags": []
   },
   "source": [
    "# Day 21\n",
    "dataquest-> prob and stats -> probability fundamentals -> conditional probabilities intermediate\n",
    "slide 1 and 2\n",
    "- P(A ∩ B) = P(B ∩ A)\n",
    "- multiplication rule of probability\n",
    "  -  P(A ∩ B) = P(B) ⋅ P(A | B) \n",
    "  - P(A ∩ B) = P(A) ⋅ P(B | A)\n",
    "- if P(A) and P(B) are statistically independent then \n",
    "  - P(A ∩ B) = P(A) ⋅ P(B)\n",
    "\n"
   ]
  },
  {
   "cell_type": "markdown",
   "id": "c46ad997",
   "metadata": {
    "papermill": {
     "duration": 0.068697,
     "end_time": "2022-05-09T16:36:28.688378",
     "exception": false,
     "start_time": "2022-05-09T16:36:28.619681",
     "status": "completed"
    },
    "tags": []
   },
   "source": [
    "# Day 22\n",
    "dataquest-> prob and stats -> probability fundamentals -> conditional probabilities intermediate \n",
    "<br>slide 6\n",
    "- If events events A and B are dependent, it means the occurrence of event A changes the probability of event B and vice versa.\n",
    "   - P(A) ≠ P(A | B)\n",
    "   - P(B) ≠ P(B | A)\n",
    "   - P(A ∩ B) ≠ P(A) ⋅ P(B)\n",
    "   - formula will become P(A ∩ B) ≠ P(A) ⋅ P(B/A)\n",
    "   "
   ]
  },
  {
   "cell_type": "markdown",
   "id": "6f44b048",
   "metadata": {
    "papermill": {
     "duration": 0.069622,
     "end_time": "2022-05-09T16:36:28.826129",
     "exception": false,
     "start_time": "2022-05-09T16:36:28.756507",
     "status": "completed"
    },
    "tags": []
   },
   "source": [
    "# Day 23\n",
    "dataquest-> prob and stats -> probability fundamentals -> conditional probabilities intermediate\n",
    "<br>slide 7 to last\n",
    "- To find whether three events — A, B, C — are independent or not, below conditions must hold true -\n",
    "  - P(A ∩ B) ≠ P(A) ⋅ P(B)\n",
    "  - P(A ∩ C) ≠ P(A) ⋅ P(C)\n",
    "  - P(B ∩ C) ≠ P(B) ⋅ P(C)\n",
    "  - P(A ∩ B ∩ C) ≠ P(A) ⋅ P(B) . P(C)\n",
    "- multiplication rule for conditional probability or dependent events\n",
    " - P(A ∩ B ∩ C) = P(A) ⋅ P(B | A) ⋅ P(C | A ∩ B)\n",
    " \n",
    "\n"
   ]
  },
  {
   "cell_type": "markdown",
   "id": "38045c28",
   "metadata": {
    "papermill": {
     "duration": 0.06987,
     "end_time": "2022-05-09T16:36:28.964088",
     "exception": false,
     "start_time": "2022-05-09T16:36:28.894218",
     "status": "completed"
    },
    "tags": []
   },
   "source": [
    "# Day 24\n",
    "dataquest-> prob and stats -> probability fundamentals -> bayes theorem\n",
    "<br>slide 1\n",
    "- independent -> one event is dependent on other\n",
    "   - P(A ∩ B) = P(A) ⋅ P(B/A)\n",
    "- independent -> one event is not dependent on other.\n",
    "   - P(A ∩ B) = P(A) ⋅ P(B)\n",
    "- mutually exclusive -> both the events cannot happen at the same time.\n",
    "   - P(A ∩ B) = 0\n",
    "\n"
   ]
  },
  {
   "cell_type": "markdown",
   "id": "fdb0fa8e",
   "metadata": {
    "papermill": {
     "duration": 0.068404,
     "end_time": "2022-05-09T16:36:29.102699",
     "exception": false,
     "start_time": "2022-05-09T16:36:29.034295",
     "status": "completed"
    },
    "tags": []
   },
   "source": [
    "# Day 25\n",
    "dataquest-> prob and stats -> probability fundamentals -> bayes theorem\n",
    "<br>slide 2\n",
    "- If two events are exhaustive, it means they make up the whole sample space Ω\n",
    "  -  P(A) = P(A ∩ B) + P(A ∩ B^c)\n",
    "     P(A) = (P(B) * P(A/B)) +  (P(B^c) * P(A/B^c))\n",
    "     \n",
    "     "
   ]
  },
  {
   "cell_type": "markdown",
   "id": "4e9f5c62",
   "metadata": {
    "papermill": {
     "duration": 0.07038,
     "end_time": "2022-05-09T16:36:29.243585",
     "exception": false,
     "start_time": "2022-05-09T16:36:29.173205",
     "status": "completed"
    },
    "tags": []
   },
   "source": [
    "# Day 26\n",
    "dataquest-> prob and stats -> probability fundamentals -> bayes theorem\n",
    "<br>slide 3 - last\n",
    "- the law of total probability\n",
    "  - P(A)  = (P(B1) * P(A/B1)) + (P(B2) * P(A/B2))+ ... + (P(Bn) * P(A/Bn)))\n",
    "  - P(A) =(summattion i=1 to n) P(Bi) ⋅ P(A|Bi)\n",
    "- Baye's theorem\n",
    "  - P(B | A) = (P(B) ⋅ P(A | B)) / (n ∑i=1 P(Bi) ⋅ P(A | Bi))\n",
    "- The probability of being infected with HIV before doing any test is called the prior probability (\"prior\" means \"before\"). The probability of being infected with HIV after testing positive is called the posterior probability (\"posterior\" means \"after\").\n",
    "\n",
    "\n",
    "  "
   ]
  },
  {
   "cell_type": "markdown",
   "id": "15c3773f",
   "metadata": {
    "papermill": {
     "duration": 0.069375,
     "end_time": "2022-05-09T16:36:29.381518",
     "exception": false,
     "start_time": "2022-05-09T16:36:29.312143",
     "status": "completed"
    },
    "tags": []
   },
   "source": [
    "# Day 27\n",
    "dataquest-> prob and stats -> probability fundamentals -> naive bayes theorem\n",
    "<br>slide 1 - \n",
    "P(Spam|w1,w2,w3,w4)∝P(Spam)⋅P(w1|Spam)⋅P(w2|Spam)⋅P(w3|Spam)⋅P(w4|Spam)P(SpamC|w1,w2,w3,w4)∝P(SpamC)⋅P(w1|SpamC)⋅P(w2|SpamC)⋅P(w3|SpamC)⋅P(w4|SpamC)"
   ]
  },
  {
   "cell_type": "markdown",
   "id": "e9117f28",
   "metadata": {
    "papermill": {
     "duration": 0.070284,
     "end_time": "2022-05-09T16:36:29.521166",
     "exception": false,
     "start_time": "2022-05-09T16:36:29.450882",
     "status": "completed"
    },
    "tags": []
   },
   "source": [
    "# Day 28\n",
    "dataquest-> prob and stats -> probability fundamentals -> naive bayes theorem\n",
    "<br>finished.\n",
    "<br>**Summary**\n",
    "- P(Spam|w1,w2,...,wn)∝P(Spam)⋅n∏i=1P(wi|Spam)\n",
    "- P(SpamC|w1,w2,...,wn)∝P(SpamC)⋅n∏i=1P(wi|SpamC)\n",
    "- To calculate P(wi|Spam) and P(wi|SpamC), we need to use the additive smoothing technique: \n",
    "- P ( w i | S p a m ) = (N w i | S p a m + α) / ( N S p a m + α ⋅ N V o c a b u l a r y )\n",
    "- P ( w i | S p a m C ) = (N w i | S p a m C + α) / ( N S p a m C + α ⋅ N V o c a b u l a r y )\n",
    "     - N w i | S p a m = the number of times the word w i occurs in spam messages \n",
    "     - N w i | S p a m C = the number of times the word w i occurs in non-spam messages \n",
    "     - N S p a m = total number of words in spam messages \n",
    "     - N S p a m C = total number of words in non-spam messages \n",
    "     - N V o c a b u l a r y = total number of words in the vocabulary \n",
    "     - α = 1 ( α is a smoothing parameter )\n",
    " - naive bayes theorem assumes that events are not dependent.\n",
    " - The assumption of conditional independence between words is thus naive since it rarely holds in practice, and this is why the algorithm is called Naive Bayes (also called simple Bayes or independence Bayes)."
   ]
  },
  {
   "cell_type": "markdown",
   "id": "e0a217c3",
   "metadata": {
    "papermill": {
     "duration": 0.068788,
     "end_time": "2022-05-09T16:36:29.659992",
     "exception": false,
     "start_time": "2022-05-09T16:36:29.591204",
     "status": "completed"
    },
    "tags": []
   },
   "source": [
    "# Day 29,30,31\n",
    "<br>dataquest-> prob and stats -> probability fundamentals -> conditional probability-> guided projects\n",
    "<br> in progress"
   ]
  },
  {
   "cell_type": "markdown",
   "id": "b7358fe4",
   "metadata": {
    "papermill": {
     "duration": 0.071744,
     "end_time": "2022-05-09T16:36:29.801425",
     "exception": false,
     "start_time": "2022-05-09T16:36:29.729681",
     "status": "completed"
    },
    "tags": []
   },
   "source": [
    "# Day 32 and 33\n",
    "<br>dataquest-> prob and stats -> probability fundamentals -> guided projects\n",
    "<br> done"
   ]
  },
  {
   "cell_type": "markdown",
   "id": "8c0169dd",
   "metadata": {
    "papermill": {
     "duration": 0.069345,
     "end_time": "2022-05-09T16:36:29.941347",
     "exception": false,
     "start_time": "2022-05-09T16:36:29.872002",
     "status": "completed"
    },
    "tags": []
   },
   "source": [
    "# Day 34\n",
    "<br>dataquest-> prob and stats -> probability fundamentals -> guided projects-> lottery prediction\n",
    "<br> done"
   ]
  },
  {
   "cell_type": "markdown",
   "id": "6f74802a",
   "metadata": {
    "papermill": {
     "duration": 0.068816,
     "end_time": "2022-05-09T16:36:30.079708",
     "exception": false,
     "start_time": "2022-05-09T16:36:30.010892",
     "status": "completed"
    },
    "tags": []
   },
   "source": [
    "# Day 35\n",
    "<br>dataquest-> prob and stats -> hypothesis testing fundamentals -> significance testing\n",
    "<br> till slide 4\n",
    "- null hypothesis\n",
    "- alternate hypothesis\n"
   ]
  },
  {
   "cell_type": "markdown",
   "id": "016418a9",
   "metadata": {
    "papermill": {
     "duration": 0.075454,
     "end_time": "2022-05-09T16:36:30.227423",
     "exception": false,
     "start_time": "2022-05-09T16:36:30.151969",
     "status": "completed"
    },
    "tags": []
   },
   "source": [
    "# Day 36 and 37\n",
    "<br>dataquest-> prob and stats -> hypothesis testing fundamentals -> significance testing\n",
    "- The permutation test is a statistical test that involves rerunning the study many times and recalculating the test statistic for each iteration. The goal is to calculate a distribution of the test statistics over these many iterations. This distribution is called the sampling distribution and it approximates the full range of possible test statistics under the null hypothesis\n",
    "\n"
   ]
  },
  {
   "cell_type": "markdown",
   "id": "b080d95a",
   "metadata": {
    "papermill": {
     "duration": 0.071515,
     "end_time": "2022-05-09T16:36:30.368407",
     "exception": false,
     "start_time": "2022-05-09T16:36:30.296892",
     "status": "completed"
    },
    "tags": []
   },
   "source": [
    "# Day 38\n",
    "<br>dataquest-> prob and stats -> hypothesis testing fundamentals -> significance testing\n",
    "<br>in progress."
   ]
  },
  {
   "cell_type": "markdown",
   "id": "ec52e9cb",
   "metadata": {
    "papermill": {
     "duration": 0.069126,
     "end_time": "2022-05-09T16:36:30.510890",
     "exception": false,
     "start_time": "2022-05-09T16:36:30.441764",
     "status": "completed"
    },
    "tags": []
   },
   "source": [
    "# Day 39\n",
    "<br>dataquest-> prob and stats -> hypothesis testing fundamentals -> significance testing\n",
    "<br>slide 5-6"
   ]
  },
  {
   "cell_type": "markdown",
   "id": "d7d62a2c",
   "metadata": {
    "papermill": {
     "duration": 0.069003,
     "end_time": "2022-05-09T16:36:30.649776",
     "exception": false,
     "start_time": "2022-05-09T16:36:30.580773",
     "status": "completed"
    },
    "tags": []
   },
   "source": [
    "# Day 40\n",
    "<br>dataquest-> prob and stats -> hypothesis testing fundamentals -> significance testing\n",
    "<br>slide 7"
   ]
  },
  {
   "cell_type": "markdown",
   "id": "4cac4338",
   "metadata": {
    "papermill": {
     "duration": 0.069163,
     "end_time": "2022-05-09T16:36:30.789051",
     "exception": false,
     "start_time": "2022-05-09T16:36:30.719888",
     "status": "completed"
    },
    "tags": []
   },
   "source": [
    "# Day 41 and 42\n",
    "<br>dataquest-> prob and stats -> hypothesis testing fundamentals -> significance testing\n",
    "<br>slide 7 done and 8(p-value) strated"
   ]
  },
  {
   "cell_type": "markdown",
   "id": "6e07d556",
   "metadata": {
    "papermill": {
     "duration": 0.071986,
     "end_time": "2022-05-09T16:36:30.931441",
     "exception": false,
     "start_time": "2022-05-09T16:36:30.859455",
     "status": "completed"
    },
    "tags": []
   },
   "source": [
    "# Day 43\n",
    "<br>dataquest-> prob and stats -> hypothesis testing fundamentals -> significance testing\n",
    "<br>\n",
    "- The first step is to decide a test statistic, which is a numerical value that summarizes the data and one we can use in statistical formulas. The test statistic runs a statistical test that determines whether the difference between the groups was due to random chance.\n",
    "  - e.x: mean \n",
    "- The permutation test is a statistical test that involves rerunning the study many times and recalculating the test statistic for each iteration.\n",
    "   - The goal is to calculate a distribution of the test statistics over these many iterations. This distribution is called the sampling distribution and it approximates the full range of possible test statistics under the null hypothesis.\n",
    "- If the p value is less than the threshold, we:\n",
    "    - reject the null hypothesis that there's no difference in the mean amount of weight lost by participants in both groups; and\n",
    "    - conclude that there is some evidence that the weight loss pill does affect the amount of weight people lost.\n",
    "\n",
    "- If the p value is greater than the threshold, we:\n",
    "    - fail to reject the null hypothesis that there's no difference in the mean amount of weight lost by participants in both groups,\n",
    "    - conclude that the weight loss pill doesn't seem to be effective in helping people lose weight.\n",
    "- usually used p-value threshold is 0.05\n",
    "- The p value threshold you set can also affect the conclusion you reach.\n",
    "    - If you set too high of a p value threshold, you may reject the null hypothesis incorrectly. This is known as a type I error.\n",
    "    - If you set too low of a p value threshold, you may fail to reject the null hypothesis incorrectly. This is known as a type II error."
   ]
  },
  {
   "cell_type": "markdown",
   "id": "9a0f71a9",
   "metadata": {
    "papermill": {
     "duration": 0.07109,
     "end_time": "2022-05-09T16:36:31.075053",
     "exception": false,
     "start_time": "2022-05-09T16:36:31.003963",
     "status": "completed"
    },
    "tags": []
   },
   "source": [
    "# Day 44\n",
    "<br>dataquest-> prob and stats -> hypothesis testing fundamentals -> significance testing-> chi squared test\n",
    "<br>1- 4\n",
    "- chi squared test is used for numerical values"
   ]
  },
  {
   "cell_type": "markdown",
   "id": "35433542",
   "metadata": {
    "papermill": {
     "duration": 0.072624,
     "end_time": "2022-05-09T16:36:31.221341",
     "exception": false,
     "start_time": "2022-05-09T16:36:31.148717",
     "status": "completed"
    },
    "tags": []
   },
   "source": [
    "# Day 45 and 46\n",
    "<br>dataquest-> prob and stats -> hypothesis testing fundamentals -> significance testing-> chi squared test\n",
    "<br>4- 6"
   ]
  },
  {
   "cell_type": "markdown",
   "id": "1e67fa42",
   "metadata": {
    "papermill": {
     "duration": 0.068564,
     "end_time": "2022-05-09T16:36:31.358585",
     "exception": false,
     "start_time": "2022-05-09T16:36:31.290021",
     "status": "completed"
    },
    "tags": []
   },
   "source": [
    "# Day 47\n",
    "<br>dataquest-> prob and stats -> hypothesis testing fundamentals -> significance testing-> chi squared test\n",
    "<br> slide 6 done"
   ]
  },
  {
   "cell_type": "markdown",
   "id": "0822e909",
   "metadata": {
    "papermill": {
     "duration": 0.069934,
     "end_time": "2022-05-09T16:36:31.498834",
     "exception": false,
     "start_time": "2022-05-09T16:36:31.428900",
     "status": "completed"
    },
    "tags": []
   },
   "source": [
    "# Day 48\n",
    "<br> chi-squared values is that they get smaller as the sample size decreases.\n",
    "<br>**conclusion**\n",
    "- The chi-squared test enables us to quantify the difference between sets of observed and expected categorical values to determine statistical significance\n",
    "- chi squared = (observed - expected)**2 / expected\n",
    "- A p-value allows us to determine whether the difference between 2 values is due to chance, or due to an underlying difference.\n",
    "- Chi-squared values increase as sample size increases, but the chance of getting a high chi-squared value decreases as the sample gets larger.\n",
    "- A degree of freedom is the number of values that can vary without the other values being\"locked in\". \n",
    "- scipy https://docs.scipy.org/doc/scipy/reference/generated/scipy.stats.mstats.chisquare.html\n"
   ]
  },
  {
   "cell_type": "markdown",
   "id": "1c0bdd4e",
   "metadata": {
    "papermill": {
     "duration": 0.067995,
     "end_time": "2022-05-09T16:36:31.636960",
     "exception": false,
     "start_time": "2022-05-09T16:36:31.568965",
     "status": "completed"
    },
    "tags": []
   },
   "source": [
    "# Day 49\n",
    "<br>dataquest-> prob and stats -> hypothesis testing fundamentals -> significance testing-> multi category chi squared test\n",
    "<br> slide 1 done\n",
    "- We can apply the multi category chi-squared test (also known as the chi-squared test of association) to figure out if there's a statistically significant correlation between two categorical columns.\n",
    "- "
   ]
  },
  {
   "cell_type": "markdown",
   "id": "bf73ac4e",
   "metadata": {
    "papermill": {
     "duration": 0.082503,
     "end_time": "2022-05-09T16:36:31.788690",
     "exception": false,
     "start_time": "2022-05-09T16:36:31.706187",
     "status": "completed"
    },
    "tags": []
   },
   "source": [
    " **Day 50**\n",
    "<br>dataquest-> prob and stats -> hypothesis testing fundamentals -> significance testing-> multi category chi squared test\n",
    "# Conclusion:\n",
    "- In a multiple category chi-squared test, we calculate expected values across our whole dataset.\n",
    "- We can calculate the chi-squared value by using the following steps:\n",
    "    - Subtract the expected value from the observed value.\n",
    "    - Subtract the difference.\n",
    "    - Divide the squared difference by the expected value.\n",
    "    - Repeat for all observed and expected values and add up all the values.\n",
    "- ∑ expected(observed−expected)**2 / expected\n",
    "- Discovering that a result isn't significant doesn't mean that no association between the columnsexists. Discovering a statistically significant result doesn't imply anything about what thecorrelation is.\n",
    "- Chi-squared tests can only be applied when each possibility within a category is independen.\n",
    "    - we have categories like male or female not both. single row has either male or female not both at a time.\n",
    "- https://docs.scipy.org/doc/scipy-0.15.1/reference/generated/scipy.stats.chi2_contingency.html\n",
    "- https://pandas.pydata.org/pandas-docs/stable/generated/pandas.crosstab.html\n"
   ]
  },
  {
   "cell_type": "markdown",
   "id": "2b4ba6d6",
   "metadata": {
    "papermill": {
     "duration": 0.068539,
     "end_time": "2022-05-09T16:36:31.926624",
     "exception": false,
     "start_time": "2022-05-09T16:36:31.858085",
     "status": "completed"
    },
    "tags": []
   },
   "source": [
    "# **Day 51, 52**\n",
    "<br>dataquest-> prob and stats -> hypothesis testing fundamentals -> significance testing-> guided project\n",
    "<br>in progress."
   ]
  },
  {
   "cell_type": "markdown",
   "id": "90169e41",
   "metadata": {
    "papermill": {
     "duration": 0.06956,
     "end_time": "2022-05-09T16:36:32.066440",
     "exception": false,
     "start_time": "2022-05-09T16:36:31.996880",
     "status": "completed"
    },
    "tags": []
   },
   "source": [
    "# **Day 53**\n",
    "<br>dataquest-> prob and stats -> hypothesis testing fundamentals -> significance testing-> guided project\n",
    "<br>done"
   ]
  },
  {
   "cell_type": "markdown",
   "id": "3467e06e",
   "metadata": {
    "papermill": {
     "duration": 0.069674,
     "end_time": "2022-05-09T16:36:32.204555",
     "exception": false,
     "start_time": "2022-05-09T16:36:32.134881",
     "status": "completed"
    },
    "tags": []
   },
   "source": [
    "# **Day 54,55, 56,57, 58, 59**\n",
    "interviewbit-> probability-> conditional probability\n",
    "1. You asked your three friends whether it will rain or not and all three affirmed for rain. All three have the probability of 1/3 of lying. What is the probability that it will actually rain?\n",
    "- https://www.geeksforgeeks.org/puzzle-is-it-raining/#:~:text=Explanation%3A,truth%20or%20all%20are%20lying.&text=So%2C%20it%20is%20approximately%2089,it%20is%20raining%20in%20Hyderabad.\n",
    "2. Anshul and Deven take turns in rolling a fair six-sided die. Whoever rolls a “6” first wins the game. Deven starts by rolling first. What’s the probability that Anshul wins?\n",
    "- https://www.quora.com/A-and-B-throw-a-Fair-die-one-after-another-Whoever-throws-6-first-wins-What-is-the-probability-that-A-wins\n",
    "\n",
    "3. You have a bag with 6 marbles. One marble is white. You reach the bag 100 times. After taking out a marble, it is placed back in the bag. What is the probability of drawing a white marble at least once?\n",
    "- https://brainly.com/question/14376470\n",
    "- Answer:\n",
    "\n",
    "0.999999988\n",
    "\n",
    "Step-by-step explanation:\n",
    "\n",
    "Given that you  have a bag with 6 marbles. One marble is white. You reach the bag 100 times. After taking out a marble, it is placed back in the bag.\n",
    "\n",
    "Because every time you replace the marble drawn, the probability for drawing a white marble in one draw is constant = p =5/6\n",
    "\n",
    "No of trials n = 100\n",
    "\n",
    "Here X no of times white marble is drawn is Binomial since there are two outcomes and also the probability is constant.\n",
    "\n",
    "the probability of drawing a white marble at least once\n",
    "\n",
    "=\n",
    "\n",
    "Required probability is almost 1.\n",
    "\n",
    "\n",
    "4. Supposedly a friend of yours has 2 children and at least one of them is a boy. What is the probability that the other is also a boy?\n",
    "- If at least one is a boy, there are three possible equally likely gender assignations of two siblings. boy-boy, boy-girl,\n",
    "\n",
    " or girl-boy. Only 1 in 3 cases or 33 percent are both boys. The lesson here is that when considering equally likely scenarios\n",
    "\n",
    " we must consider birth order. If the birth order of the boy is not specified – i.e. if we don’t know if he is the eldest or \n",
    "\n",
    " the youngest – the probability of two boys drops to 1 in 3.\n",
    " \n",
    "5. A single card is drawn from a standard deck of playing cards. What is the probability that the card is a queen provided that a face card is drawn from the deck of cards?\n",
    "- 4/12 = 1/3\n",
    " \n",
    "6. random variables Q1,2\n",
    "7. 5 questions\n",
    "8. bayes theorem first 2"
   ]
  },
  {
   "cell_type": "code",
   "execution_count": null,
   "id": "4fbcf238",
   "metadata": {
    "papermill": {
     "duration": 0.068959,
     "end_time": "2022-05-09T16:36:32.346225",
     "exception": false,
     "start_time": "2022-05-09T16:36:32.277266",
     "status": "completed"
    },
    "tags": []
   },
   "outputs": [],
   "source": []
  },
  {
   "cell_type": "code",
   "execution_count": 2,
   "id": "83f1f6c5",
   "metadata": {
    "execution": {
     "iopub.execute_input": "2022-05-09T16:36:32.494301Z",
     "iopub.status.busy": "2022-05-09T16:36:32.493512Z",
     "iopub.status.idle": "2022-05-09T16:36:32.497241Z",
     "shell.execute_reply": "2022-05-09T16:36:32.497789Z",
     "shell.execute_reply.started": "2022-04-12T14:17:49.333113Z"
    },
    "papermill": {
     "duration": 0.080726,
     "end_time": "2022-05-09T16:36:32.497998",
     "exception": false,
     "start_time": "2022-05-09T16:36:32.417272",
     "status": "completed"
    },
    "tags": []
   },
   "outputs": [],
   "source": [
    "# !pip install PyMuPDF"
   ]
  },
  {
   "cell_type": "code",
   "execution_count": 3,
   "id": "1440e174",
   "metadata": {
    "execution": {
     "iopub.execute_input": "2022-05-09T16:36:32.642970Z",
     "iopub.status.busy": "2022-05-09T16:36:32.641891Z",
     "iopub.status.idle": "2022-05-09T16:36:32.644481Z",
     "shell.execute_reply": "2022-05-09T16:36:32.645058Z",
     "shell.execute_reply.started": "2022-04-12T14:19:20.437905Z"
    },
    "papermill": {
     "duration": 0.079119,
     "end_time": "2022-05-09T16:36:32.645274",
     "exception": false,
     "start_time": "2022-05-09T16:36:32.566155",
     "status": "completed"
    },
    "tags": []
   },
   "outputs": [],
   "source": [
    " \n",
    "# fitz.__version__"
   ]
  },
  {
   "cell_type": "code",
   "execution_count": 4,
   "id": "d5424873",
   "metadata": {
    "execution": {
     "iopub.execute_input": "2022-05-09T16:36:32.806147Z",
     "iopub.status.busy": "2022-05-09T16:36:32.805019Z",
     "iopub.status.idle": "2022-05-09T16:36:32.808901Z",
     "shell.execute_reply": "2022-05-09T16:36:32.809509Z",
     "shell.execute_reply.started": "2022-04-12T14:23:59.687259Z"
    },
    "papermill": {
     "duration": 0.095641,
     "end_time": "2022-05-09T16:36:32.809717",
     "exception": false,
     "start_time": "2022-05-09T16:36:32.714076",
     "status": "completed"
    },
    "tags": []
   },
   "outputs": [],
   "source": [
    "# !python -m spacy download en_core_web_sm"
   ]
  },
  {
   "cell_type": "code",
   "execution_count": null,
   "id": "247bb63a",
   "metadata": {
    "papermill": {
     "duration": 0.070133,
     "end_time": "2022-05-09T16:36:32.960082",
     "exception": false,
     "start_time": "2022-05-09T16:36:32.889949",
     "status": "completed"
    },
    "tags": []
   },
   "outputs": [],
   "source": []
  },
  {
   "cell_type": "code",
   "execution_count": 5,
   "id": "9a42314b",
   "metadata": {
    "execution": {
     "iopub.execute_input": "2022-05-09T16:36:33.105059Z",
     "iopub.status.busy": "2022-05-09T16:36:33.103927Z",
     "iopub.status.idle": "2022-05-09T16:36:33.107710Z",
     "shell.execute_reply": "2022-05-09T16:36:33.108286Z",
     "shell.execute_reply.started": "2022-04-12T14:18:25.912243Z"
    },
    "papermill": {
     "duration": 0.076948,
     "end_time": "2022-05-09T16:36:33.108501",
     "exception": false,
     "start_time": "2022-05-09T16:36:33.031553",
     "status": "completed"
    },
    "tags": []
   },
   "outputs": [],
   "source": [
    "# import fitz\n",
    "# import spacy\n",
    "# import re\n",
    "# from pathlib import Path\n",
    "# import requests\n",
    "# import os"
   ]
  },
  {
   "cell_type": "code",
   "execution_count": 6,
   "id": "047d1ff1",
   "metadata": {
    "execution": {
     "iopub.execute_input": "2022-05-09T16:36:33.255587Z",
     "iopub.status.busy": "2022-05-09T16:36:33.254556Z",
     "iopub.status.idle": "2022-05-09T16:36:33.259148Z",
     "shell.execute_reply": "2022-05-09T16:36:33.259830Z",
     "shell.execute_reply.started": "2022-04-12T15:03:43.5897Z"
    },
    "papermill": {
     "duration": 0.079334,
     "end_time": "2022-05-09T16:36:33.260036",
     "exception": false,
     "start_time": "2022-05-09T16:36:33.180702",
     "status": "completed"
    },
    "tags": []
   },
   "outputs": [],
   "source": [
    "# sql_db_json = [\n",
    "#   {\n",
    "#     \"document_id\": \"1\",\n",
    "#     \"area\": \"[72.1149,661.2966,131.95729,675.1716]\",\n",
    "#     \"page\": \"3\",\n",
    "#     \"text_\": \"Background\",\n",
    "#     \"type_of_selection\": \"Text\",\n",
    "#     \"entity_type\": \"name\",\n",
    "#     \"link\": \"https://redactable-devox-stage.s3.us-east-2.amazonaws.com/tenants/41d9e109-693b-444c-aa18-e5891bc6550b/original/1a7c0e5d-3237-4ca9-9e3d-89e707245ac6/D8communications.pdf\"\n",
    "#   },\n",
    "#   {\n",
    "#     \"document_id\": \"1\",\n",
    "#     \"area\": \"[290.55386,632.0173,322.14685,645.8923]\",\n",
    "#     \"page\": \"2\",\n",
    "#     \"text_\": \"INDEX\",\n",
    "#     \"type_of_selection\": \"Text\",\n",
    "#     \"entity_type\": \"address\",\n",
    "#     \"link\": \"https://redactable-devox-stage.s3.us-east-2.amazonaws.com/tenants/41d9e109-693b-444c-aa18-e5891bc6550b/original/1a7c0e5d-3237-4ca9-9e3d-89e707245ac6/D8communications.pdf\"\n",
    "#   }\n",
    "# ]"
   ]
  },
  {
   "cell_type": "code",
   "execution_count": 7,
   "id": "e6bb8eef",
   "metadata": {
    "execution": {
     "iopub.execute_input": "2022-05-09T16:36:33.406385Z",
     "iopub.status.busy": "2022-05-09T16:36:33.405419Z",
     "iopub.status.idle": "2022-05-09T16:36:33.408533Z",
     "shell.execute_reply": "2022-05-09T16:36:33.409122Z",
     "shell.execute_reply.started": "2022-04-12T13:17:19.452695Z"
    },
    "papermill": {
     "duration": 0.080231,
     "end_time": "2022-05-09T16:36:33.409313",
     "exception": false,
     "start_time": "2022-05-09T16:36:33.329082",
     "status": "completed"
    },
    "tags": []
   },
   "outputs": [],
   "source": [
    "# l=pd.DataFrame()\n",
    "# k=(1, '[290.55386,632.0173,322.14685,645.8923]', 2, 'INDEX', 'Text', 'address', 'https://redactable-devox-s')\n",
    "# k\n"
   ]
  },
  {
   "cell_type": "code",
   "execution_count": 8,
   "id": "ee6738b3",
   "metadata": {
    "execution": {
     "iopub.execute_input": "2022-05-09T16:36:33.552409Z",
     "iopub.status.busy": "2022-05-09T16:36:33.551334Z",
     "iopub.status.idle": "2022-05-09T16:36:33.555222Z",
     "shell.execute_reply": "2022-05-09T16:36:33.555859Z",
     "shell.execute_reply.started": "2022-04-12T16:09:33.708631Z"
    },
    "papermill": {
     "duration": 0.075994,
     "end_time": "2022-05-09T16:36:33.556056",
     "exception": false,
     "start_time": "2022-05-09T16:36:33.480062",
     "status": "completed"
    },
    "tags": []
   },
   "outputs": [],
   "source": [
    "# co=[\"document_id\",\"area\",\"page\",\"text_\",\"type_of_selection\",\"entity_type\",\"link\"]\n",
    "# val= [(1,'[72.1149,661.2966,131.95729,675.1716]',3,'Background','Text','name' ,'https://redactable-devox-stage.s3.us-east-2.am'), (1,  '[290.55386,632.0173,322.14685,645.8923]',2,'INDEX', 'Text','address','https://redactable-devox-stage.s3.us-east-2.am')]\n",
    "\n",
    "# df=pd.DataFrame(val,columns=[co])\n",
    "# #df.iloc[1] =[1,  '[290.55386,632.0173,322.14685,645.8923]',2,'INDEX', 'Text','address','https://redactable-devox-stage.s3.us-east-2.am']\n",
    "# df"
   ]
  },
  {
   "cell_type": "code",
   "execution_count": 9,
   "id": "37a29e7d",
   "metadata": {
    "execution": {
     "iopub.execute_input": "2022-05-09T16:36:33.695864Z",
     "iopub.status.busy": "2022-05-09T16:36:33.694821Z",
     "iopub.status.idle": "2022-05-09T16:36:33.698601Z",
     "shell.execute_reply": "2022-05-09T16:36:33.699213Z",
     "shell.execute_reply.started": "2022-04-12T16:18:22.595374Z"
    },
    "papermill": {
     "duration": 0.075464,
     "end_time": "2022-05-09T16:36:33.699415",
     "exception": false,
     "start_time": "2022-05-09T16:36:33.623951",
     "status": "completed"
    },
    "tags": []
   },
   "outputs": [],
   "source": [
    "# prev=[]\n",
    "# for data,row in df.iterrows():\n",
    "#     if row['document_id'] not in prev:\n",
    "#         prev.append(row['document_id'])\n",
    "#         print('hey')"
   ]
  },
  {
   "cell_type": "code",
   "execution_count": 10,
   "id": "0470d87a",
   "metadata": {
    "execution": {
     "iopub.execute_input": "2022-05-09T16:36:33.846248Z",
     "iopub.status.busy": "2022-05-09T16:36:33.842509Z",
     "iopub.status.idle": "2022-05-09T16:36:33.848168Z",
     "shell.execute_reply": "2022-05-09T16:36:33.848672Z",
     "shell.execute_reply.started": "2022-04-12T15:03:48.248836Z"
    },
    "papermill": {
     "duration": 0.079652,
     "end_time": "2022-05-09T16:36:33.848908",
     "exception": false,
     "start_time": "2022-05-09T16:36:33.769256",
     "status": "completed"
    },
    "tags": []
   },
   "outputs": [],
   "source": [
    "# nlp = spacy.load('en_core_web_sm')\n",
    "# train_data = []\n",
    "\n",
    "# prev_doc_id = ''\n",
    "# i=0\n",
    "# temp='/kaggle/working'\n",
    "\n",
    "# for data in sql_db_json:\n",
    "#     if data['type_of_selection'] == 'Text':\n",
    "#         document_id = data['document_id']\n",
    "#         x1,y1,x2,y2 = data['area'][1:-1].split(',')\n",
    "#         url = data['link']\n",
    "#         page_no = int(data['page']) - 1 \n",
    "#         label = data['entity_type']\n",
    "#         filename = url.split('/')[-1]\n",
    "    \n",
    "#         #download the file to temp folder\n",
    "#         outpath = os.path.join(temp,filename)\n",
    "\n",
    "#         if document_id == prev_doc_id:\n",
    "#             pass\n",
    "#         else: \n",
    "#             i+=1\n",
    "#             print(i)\n",
    "#             response = requests.get(url)\n",
    "#             with open(outpath, \"wb\") as binary_file:\n",
    "#                 binary_file.write(response.content)\n",
    "\n",
    "#         doc = fitz.open(outpath)  # any supported document type\n",
    "#         page = doc[page_no]  # we want text from this page\n",
    "#         print('page dimension - ', page.rect.width, page.rect.height)\n",
    "\n",
    "#         #The co-ordinates in the DB are image co-ords. W.r.t pdf, y1 and y2 has to be interchanged.\n",
    "#         #To ensure entire word to be selected, slight correction in x1,y1,x2,y2 is done.\n",
    "\n",
    "#         rect = [float(x1)-2, 792 - float(y2)-2, float(x2)+2, 792 - float(y1)+2]\n",
    "#         print(rect)\n",
    "#         labelled_text = page.get_textbox(rect)\n",
    "\n",
    "#         #Removing all unprintable characters from the text\n",
    "#         string = re.sub('[^0-9a-zA-Z@?|\\/<>.,()&^%$#!]+', ' ', labelled_text)\n",
    "#         print('string : ', string)\n",
    "\n",
    "#         fulltext = page.get_text()\n",
    "#         doc = nlp(fulltext)\n",
    "\n",
    "#         sentences = []\n",
    "#         for sent in doc.sents:\n",
    "#             if string.strip() in sent.text:\n",
    "#                 text = re.sub('[^0-9a-zA-Z@?|\\/<>.,()&^%$#!]+', ' ', sent.text)\n",
    "\n",
    "#         res = re.search(string.strip(), text)\n",
    "\n",
    "#         entities = []\n",
    "#         entities.append((res.start(),res.end(),label))\n",
    "\n",
    "#         train_data.append((text,{'entities':entities}))\n",
    "\n",
    "# print('Training data in spacy format')\n",
    "# print('*****************************')\n",
    "# for i in range(0,len(train_data)):\n",
    "#     print(train_data[i])"
   ]
  },
  {
   "cell_type": "code",
   "execution_count": null,
   "id": "8d72eed0",
   "metadata": {
    "papermill": {
     "duration": 0.068139,
     "end_time": "2022-05-09T16:36:33.985907",
     "exception": false,
     "start_time": "2022-05-09T16:36:33.917768",
     "status": "completed"
    },
    "tags": []
   },
   "outputs": [],
   "source": []
  },
  {
   "cell_type": "code",
   "execution_count": 11,
   "id": "b00b3b75",
   "metadata": {
    "execution": {
     "iopub.execute_input": "2022-05-09T16:36:34.130496Z",
     "iopub.status.busy": "2022-05-09T16:36:34.129693Z",
     "iopub.status.idle": "2022-05-09T16:36:34.131850Z",
     "shell.execute_reply": "2022-05-09T16:36:34.132343Z",
     "shell.execute_reply.started": "2022-04-12T11:44:59.253637Z"
    },
    "papermill": {
     "duration": 0.076976,
     "end_time": "2022-05-09T16:36:34.132578",
     "exception": false,
     "start_time": "2022-05-09T16:36:34.055602",
     "status": "completed"
    },
    "tags": []
   },
   "outputs": [],
   "source": [
    "# nlp = spacy.load('en_core_web_sm')\n",
    "# train_data = []\n",
    "\n",
    "# prev_doc_id = ''\n",
    "# temp='/kaggle/working'\n",
    "# i=0\n",
    "# for data in sql_db_json:\n",
    "#     if data['type_of_selection'] == 'Text':\n",
    "#         document_id = data['document_id']\n",
    "#         x1,y1,x2,y2 = data['area'][1:-1].split(',')\n",
    "#         url = data['link']\n",
    "#         page_no = int(data['page']) - 1 \n",
    "#         label = data['entity_type']\n",
    "#         filename = url.split('/')[-1]\n",
    "    \n",
    "#         #download the file to temp folder\n",
    "#         i+=1\n",
    "#         print(i)\n",
    "#         response = requests.get(url)\n",
    "#         doc = fitz.open(stream=response.content,filetype=\"pdf\")  # any supported document type\n",
    "#         page = doc[page_no]  # we want text from this page\n",
    "#         print('page dimension - ', page.rect.width, page.rect.height)\n",
    "\n",
    "#         #The co-ordinates in the DB are image co-ords. W.r.t pdf, y1 and y2 has to be interchanged.\n",
    "#         #To ensure entire word to be selected, slight correction in x1,y1,x2,y2 is done.\n",
    "\n",
    "#         rect = [float(x1)-2, 792 - float(y2)-2, float(x2)+2, 792 - float(y1)+2]\n",
    "#         print(rect)\n",
    "#         labelled_text = page.get_textbox(rect)\n",
    "\n",
    "#         #Removing all unprintable characters from the text\n",
    "#         string = re.sub('[^0-9a-zA-Z@?|\\/<>.,()&^%$#!]+', ' ', labelled_text)\n",
    "#         print('string : ', string)\n",
    "\n",
    "#         fulltext = page.get_text()\n",
    "#         doc = nlp(fulltext)\n",
    "\n",
    "#         sentences = []\n",
    "#         for sent in doc.sents:\n",
    "#             if string.strip() in sent.text:\n",
    "#                 text = re.sub('[^0-9a-zA-Z@?|\\/<>.,()&^%$#!]+', ' ', sent.text)\n",
    "\n",
    "#         res = re.search(string.strip(), text)\n",
    "\n",
    "#         entities = []\n",
    "#         entities.append((res.start(),res.end(),label))\n",
    "\n",
    "#         train_data.append((text,{'entities':entities}))\n",
    "\n",
    "# print('Training data in spacy format')\n",
    "# print('*****************************')\n",
    "# for i in range(0,len(train_data)):\n",
    "#     print(train_data[i])"
   ]
  },
  {
   "cell_type": "code",
   "execution_count": 12,
   "id": "8f4cd4db",
   "metadata": {
    "execution": {
     "iopub.execute_input": "2022-05-09T16:36:34.280029Z",
     "iopub.status.busy": "2022-05-09T16:36:34.278980Z",
     "iopub.status.idle": "2022-05-09T16:36:34.280813Z",
     "shell.execute_reply": "2022-05-09T16:36:34.281303Z"
    },
    "papermill": {
     "duration": 0.079309,
     "end_time": "2022-05-09T16:36:34.281507",
     "exception": false,
     "start_time": "2022-05-09T16:36:34.202198",
     "status": "completed"
    },
    "tags": []
   },
   "outputs": [],
   "source": [
    "# page dimension -  612.0 792.0\n",
    "# [70.1149, 114.82839999999999, 133.95729, 132.7034]\n",
    "# string :  Background\n",
    "# page dimension -  612.0 792.0\n",
    "# [288.55386, 144.10770000000002, 324.14685, 161.98270000000002]\n",
    "# string :  INDEX\n",
    "# Training data in spacy format\n",
    "# *****************************\n",
    "# (' 3 Background The Blue Ribbon Committee was created by the Mayor to assess various city communication methods and recommend opportunities to improve communications with residents, businesses and other organizations.', {'entities': [(3, 13, 'name')]})\n",
    "# (' 2 INDEX Background Pg. 3 Purpose Pg. 3 Process .', {'entities': [(3, 8, 'address')]})"
   ]
  },
  {
   "cell_type": "code",
   "execution_count": 13,
   "id": "41ea5463",
   "metadata": {
    "execution": {
     "iopub.execute_input": "2022-05-09T16:36:34.426514Z",
     "iopub.status.busy": "2022-05-09T16:36:34.425385Z",
     "iopub.status.idle": "2022-05-09T16:36:34.428972Z",
     "shell.execute_reply": "2022-05-09T16:36:34.428195Z",
     "shell.execute_reply.started": "2022-04-11T16:35:29.609712Z"
    },
    "papermill": {
     "duration": 0.079378,
     "end_time": "2022-05-09T16:36:34.429146",
     "exception": false,
     "start_time": "2022-05-09T16:36:34.349768",
     "status": "completed"
    },
    "tags": []
   },
   "outputs": [],
   "source": [
    "# nlp = spacy.load('en_core_web_sm')\n",
    "# outpath=r'/kaggle/input/sample-pdf/D8communications.pdf'\n",
    "# doc = fitz.open(outpath)  # any supported document type\n",
    "# page_no=3\n",
    "# page = doc[page_no-1]\n",
    "\n",
    "# x1,y1,x2,y2=(72.1149,661.2966,131.95729,675.1716)\n",
    "\n",
    "# rect = [float(x1)-2, 792 - float(y2)-2, float(x2)+2, 792 - float(y1)+2]\n",
    "# print(rect)\n",
    "# labelled_text = page.get_textbox(rect)\n",
    "# string = re.sub('[^0-9a-zA-Z@?|\\/<>.,()&^%$#!]+', ' ', labelled_text)\n",
    "# print('string : ', string)\n",
    "\n",
    "# fulltext = page.get_text()\n",
    "# doc = nlp(fulltext)\n",
    "\n",
    "# sentences = []\n",
    "# for sent in doc.sents:\n",
    "#             if string.strip() in sent.text:\n",
    "#                 text = re.sub('[^0-9a-zA-Z@?|\\/<>.,()&^%$#!]+', ' ', sent.text)\n",
    "\n",
    "#         res = re.search(string.strip(), text)\n",
    "\n",
    "#         entities = []\n",
    "#         entities.append((res.start(),res.end(),label))\n",
    "\n",
    "#         train_data.append((text,{'entities':entities}))\n",
    "\n"
   ]
  },
  {
   "cell_type": "code",
   "execution_count": 14,
   "id": "c0320c74",
   "metadata": {
    "execution": {
     "iopub.execute_input": "2022-05-09T16:36:34.576168Z",
     "iopub.status.busy": "2022-05-09T16:36:34.575126Z",
     "iopub.status.idle": "2022-05-09T16:36:34.578291Z",
     "shell.execute_reply": "2022-05-09T16:36:34.577762Z",
     "shell.execute_reply.started": "2022-04-11T16:35:41.679947Z"
    },
    "papermill": {
     "duration": 0.077167,
     "end_time": "2022-05-09T16:36:34.578455",
     "exception": false,
     "start_time": "2022-05-09T16:36:34.501288",
     "status": "completed"
    },
    "tags": []
   },
   "outputs": [],
   "source": [
    "#doc"
   ]
  },
  {
   "cell_type": "code",
   "execution_count": 15,
   "id": "82a06337",
   "metadata": {
    "execution": {
     "iopub.execute_input": "2022-05-09T16:36:34.722126Z",
     "iopub.status.busy": "2022-05-09T16:36:34.721054Z",
     "iopub.status.idle": "2022-05-09T16:36:34.724274Z",
     "shell.execute_reply": "2022-05-09T16:36:34.724837Z",
     "shell.execute_reply.started": "2022-04-11T16:35:56.010353Z"
    },
    "papermill": {
     "duration": 0.077249,
     "end_time": "2022-05-09T16:36:34.725040",
     "exception": false,
     "start_time": "2022-05-09T16:36:34.647791",
     "status": "completed"
    },
    "tags": []
   },
   "outputs": [],
   "source": [
    "# sentences = []\n",
    "# for sent in doc.sents:\n",
    "#     if string.strip() in sent.text:\n",
    "#         text = re.sub('[^0-9a-zA-Z@?|\\/<>.,()&^%$#!]+', ' ', sent.text)"
   ]
  },
  {
   "cell_type": "code",
   "execution_count": 16,
   "id": "5fd32198",
   "metadata": {
    "execution": {
     "iopub.execute_input": "2022-05-09T16:36:34.869056Z",
     "iopub.status.busy": "2022-05-09T16:36:34.868053Z",
     "iopub.status.idle": "2022-05-09T16:36:34.871020Z",
     "shell.execute_reply": "2022-05-09T16:36:34.871509Z",
     "shell.execute_reply.started": "2022-04-11T16:39:04.736143Z"
    },
    "papermill": {
     "duration": 0.077495,
     "end_time": "2022-05-09T16:36:34.871734",
     "exception": false,
     "start_time": "2022-05-09T16:36:34.794239",
     "status": "completed"
    },
    "tags": []
   },
   "outputs": [],
   "source": [
    "# k=nlp(\"he             kenny\")\n",
    "# for sent in k.sents:\n",
    "#     print(sent)"
   ]
  },
  {
   "cell_type": "code",
   "execution_count": 17,
   "id": "09e75556",
   "metadata": {
    "execution": {
     "iopub.execute_input": "2022-05-09T16:36:35.016665Z",
     "iopub.status.busy": "2022-05-09T16:36:35.015611Z",
     "iopub.status.idle": "2022-05-09T16:36:35.019337Z",
     "shell.execute_reply": "2022-05-09T16:36:35.019985Z",
     "shell.execute_reply.started": "2022-04-11T15:09:24.391421Z"
    },
    "papermill": {
     "duration": 0.079143,
     "end_time": "2022-05-09T16:36:35.020182",
     "exception": false,
     "start_time": "2022-05-09T16:36:34.941039",
     "status": "completed"
    },
    "tags": []
   },
   "outputs": [],
   "source": [
    "# text"
   ]
  },
  {
   "cell_type": "code",
   "execution_count": 18,
   "id": "22362b8f",
   "metadata": {
    "execution": {
     "iopub.execute_input": "2022-05-09T16:36:35.163016Z",
     "iopub.status.busy": "2022-05-09T16:36:35.161975Z",
     "iopub.status.idle": "2022-05-09T16:36:35.165365Z",
     "shell.execute_reply": "2022-05-09T16:36:35.166034Z",
     "shell.execute_reply.started": "2022-04-11T15:09:31.9599Z"
    },
    "papermill": {
     "duration": 0.076878,
     "end_time": "2022-05-09T16:36:35.166231",
     "exception": false,
     "start_time": "2022-05-09T16:36:35.089353",
     "status": "completed"
    },
    "tags": []
   },
   "outputs": [],
   "source": [
    "# res = re.search(string.strip(), text)\n",
    "# res"
   ]
  },
  {
   "cell_type": "code",
   "execution_count": 19,
   "id": "ebd277da",
   "metadata": {
    "execution": {
     "iopub.execute_input": "2022-05-09T16:36:35.310774Z",
     "iopub.status.busy": "2022-05-09T16:36:35.309712Z",
     "iopub.status.idle": "2022-05-09T16:36:35.313261Z",
     "shell.execute_reply": "2022-05-09T16:36:35.313933Z",
     "shell.execute_reply.started": "2022-04-11T15:12:41.311242Z"
    },
    "papermill": {
     "duration": 0.07806,
     "end_time": "2022-05-09T16:36:35.314131",
     "exception": false,
     "start_time": "2022-05-09T16:36:35.236071",
     "status": "completed"
    },
    "tags": []
   },
   "outputs": [],
   "source": [
    "# entities = []\n",
    "# entities.append((res.start(),res.end(),'p'))"
   ]
  },
  {
   "cell_type": "code",
   "execution_count": 20,
   "id": "04b46cad",
   "metadata": {
    "execution": {
     "iopub.execute_input": "2022-05-09T16:36:35.462011Z",
     "iopub.status.busy": "2022-05-09T16:36:35.460828Z",
     "iopub.status.idle": "2022-05-09T16:36:35.463659Z",
     "shell.execute_reply": "2022-05-09T16:36:35.463001Z",
     "shell.execute_reply.started": "2022-04-11T15:12:52.736619Z"
    },
    "papermill": {
     "duration": 0.079112,
     "end_time": "2022-05-09T16:36:35.463830",
     "exception": false,
     "start_time": "2022-05-09T16:36:35.384718",
     "status": "completed"
    },
    "tags": []
   },
   "outputs": [],
   "source": [
    "# entities"
   ]
  },
  {
   "cell_type": "code",
   "execution_count": 21,
   "id": "627dff99",
   "metadata": {
    "execution": {
     "iopub.execute_input": "2022-05-09T16:36:35.606503Z",
     "iopub.status.busy": "2022-05-09T16:36:35.605676Z",
     "iopub.status.idle": "2022-05-09T16:36:35.609884Z",
     "shell.execute_reply": "2022-05-09T16:36:35.609296Z",
     "shell.execute_reply.started": "2022-04-11T15:06:11.546217Z"
    },
    "papermill": {
     "duration": 0.076696,
     "end_time": "2022-05-09T16:36:35.610047",
     "exception": false,
     "start_time": "2022-05-09T16:36:35.533351",
     "status": "completed"
    },
    "tags": []
   },
   "outputs": [],
   "source": [
    "# text"
   ]
  },
  {
   "cell_type": "code",
   "execution_count": null,
   "id": "ae2156e0",
   "metadata": {
    "execution": {
     "iopub.execute_input": "2022-04-11T15:02:33.300092Z",
     "iopub.status.busy": "2022-04-11T15:02:33.299778Z",
     "iopub.status.idle": "2022-04-11T15:02:33.30711Z",
     "shell.execute_reply": "2022-04-11T15:02:33.306345Z",
     "shell.execute_reply.started": "2022-04-11T15:02:33.300061Z"
    },
    "papermill": {
     "duration": 0.067885,
     "end_time": "2022-05-09T16:36:35.746307",
     "exception": false,
     "start_time": "2022-05-09T16:36:35.678422",
     "status": "completed"
    },
    "tags": []
   },
   "outputs": [],
   "source": []
  },
  {
   "cell_type": "code",
   "execution_count": 22,
   "id": "4f03ba41",
   "metadata": {
    "execution": {
     "iopub.execute_input": "2022-05-09T16:36:35.889369Z",
     "iopub.status.busy": "2022-05-09T16:36:35.888323Z",
     "iopub.status.idle": "2022-05-09T16:36:35.892004Z",
     "shell.execute_reply": "2022-05-09T16:36:35.892693Z",
     "shell.execute_reply.started": "2022-04-11T16:21:02.863037Z"
    },
    "papermill": {
     "duration": 0.077332,
     "end_time": "2022-05-09T16:36:35.892913",
     "exception": false,
     "start_time": "2022-05-09T16:36:35.815581",
     "status": "completed"
    },
    "tags": []
   },
   "outputs": [],
   "source": [
    "# import spacy\n",
    "# nlp = spacy.load('en_core_web_sm')"
   ]
  },
  {
   "cell_type": "code",
   "execution_count": 23,
   "id": "907f5996",
   "metadata": {
    "execution": {
     "iopub.execute_input": "2022-05-09T16:36:36.037762Z",
     "iopub.status.busy": "2022-05-09T16:36:36.036673Z",
     "iopub.status.idle": "2022-05-09T16:36:36.040357Z",
     "shell.execute_reply": "2022-05-09T16:36:36.041014Z",
     "shell.execute_reply.started": "2022-04-09T12:19:47.776612Z"
    },
    "papermill": {
     "duration": 0.079465,
     "end_time": "2022-05-09T16:36:36.041209",
     "exception": false,
     "start_time": "2022-05-09T16:36:35.961744",
     "status": "completed"
    },
    "tags": []
   },
   "outputs": [],
   "source": [
    "# !pip install PyPDF2\n",
    "# import PyPDF2\n",
    "# fhandle = open(r'/kaggle/input/sample-pdf/D8communications.pdf', 'rb')\n",
    "# pdfReader = PyPDF2.PdfFileReader(fhandle)\n",
    "# pagehandle = pdfReader.getPage(4)\n",
    "# print(pagehandle.extractText())"
   ]
  },
  {
   "cell_type": "code",
   "execution_count": 24,
   "id": "6ad09a4e",
   "metadata": {
    "execution": {
     "iopub.execute_input": "2022-05-09T16:36:36.190414Z",
     "iopub.status.busy": "2022-05-09T16:36:36.189318Z",
     "iopub.status.idle": "2022-05-09T16:36:36.192933Z",
     "shell.execute_reply": "2022-05-09T16:36:36.193561Z",
     "shell.execute_reply.started": "2022-04-09T12:25:37.701467Z"
    },
    "papermill": {
     "duration": 0.081755,
     "end_time": "2022-05-09T16:36:36.193759",
     "exception": false,
     "start_time": "2022-05-09T16:36:36.112004",
     "status": "completed"
    },
    "tags": []
   },
   "outputs": [],
   "source": [
    "# !pip install pdfplumber\n",
    "# import pdfplumber\n",
    "# with pdfplumber.open(r'/kaggle/input/sample-pdf/D8communications.pdf') as pdf:\n",
    "#     first_page = pdf.pages[3]\n",
    "#     print(first_page.extract_text())"
   ]
  },
  {
   "cell_type": "code",
   "execution_count": 25,
   "id": "0688d82b",
   "metadata": {
    "execution": {
     "iopub.execute_input": "2022-05-09T16:36:36.335334Z",
     "iopub.status.busy": "2022-05-09T16:36:36.334274Z",
     "iopub.status.idle": "2022-05-09T16:36:36.338024Z",
     "shell.execute_reply": "2022-05-09T16:36:36.338672Z",
     "shell.execute_reply.started": "2022-04-09T12:25:49.584635Z"
    },
    "papermill": {
     "duration": 0.075967,
     "end_time": "2022-05-09T16:36:36.338885",
     "exception": false,
     "start_time": "2022-05-09T16:36:36.262918",
     "status": "completed"
    },
    "tags": []
   },
   "outputs": [],
   "source": [
    "# !pip install pytesseract"
   ]
  },
  {
   "cell_type": "code",
   "execution_count": 26,
   "id": "bf8cd387",
   "metadata": {
    "execution": {
     "iopub.execute_input": "2022-05-09T16:36:36.483772Z",
     "iopub.status.busy": "2022-05-09T16:36:36.482601Z",
     "iopub.status.idle": "2022-05-09T16:36:36.484917Z",
     "shell.execute_reply": "2022-05-09T16:36:36.485556Z",
     "shell.execute_reply.started": "2022-04-09T14:49:10.656812Z"
    },
    "papermill": {
     "duration": 0.077724,
     "end_time": "2022-05-09T16:36:36.485759",
     "exception": false,
     "start_time": "2022-05-09T16:36:36.408035",
     "status": "completed"
    },
    "tags": []
   },
   "outputs": [],
   "source": [
    "# #!pip install pdf2image\n",
    "# !pip install poppler"
   ]
  },
  {
   "cell_type": "code",
   "execution_count": 27,
   "id": "20e160b1",
   "metadata": {
    "execution": {
     "iopub.execute_input": "2022-05-09T16:36:36.626753Z",
     "iopub.status.busy": "2022-05-09T16:36:36.625707Z",
     "iopub.status.idle": "2022-05-09T16:36:36.629262Z",
     "shell.execute_reply": "2022-05-09T16:36:36.629904Z",
     "shell.execute_reply.started": "2022-04-09T14:57:24.756677Z"
    },
    "papermill": {
     "duration": 0.076087,
     "end_time": "2022-05-09T16:36:36.630097",
     "exception": false,
     "start_time": "2022-05-09T16:36:36.554010",
     "status": "completed"
    },
    "tags": []
   },
   "outputs": [],
   "source": [
    "# pdf2image.convert_from_path('/kaggle/input/sample-pdf/D8communications.pdf')"
   ]
  },
  {
   "cell_type": "code",
   "execution_count": 28,
   "id": "e108e26f",
   "metadata": {
    "execution": {
     "iopub.execute_input": "2022-05-09T16:36:36.774241Z",
     "iopub.status.busy": "2022-05-09T16:36:36.773169Z",
     "iopub.status.idle": "2022-05-09T16:36:36.776084Z",
     "shell.execute_reply": "2022-05-09T16:36:36.775402Z",
     "shell.execute_reply.started": "2022-04-09T14:57:17.576149Z"
    },
    "papermill": {
     "duration": 0.077605,
     "end_time": "2022-05-09T16:36:36.776241",
     "exception": false,
     "start_time": "2022-05-09T16:36:36.698636",
     "status": "completed"
    },
    "tags": []
   },
   "outputs": [],
   "source": [
    "# import pdf2image\n",
    "# try:\n",
    "#     from PIL import Image\n",
    "# except ImportError:\n",
    "#     import Image\n",
    "# import pytesseract\n",
    "\n",
    "\n",
    "# def pdf_to_img(pdf_file):\n",
    "#     return pdf2image.convert_from_path(pdf_file)\n",
    "\n",
    "\n",
    "# def ocr_core(file):\n",
    "#     text = pytesseract.image_to_string(file)\n",
    "#     return text\n",
    "\n",
    "\n",
    "# def print_pages(pdf_file):\n",
    "#     images = pdf_to_img(pdf_file)\n",
    "#     for pg, img in enumerate(images):\n",
    "#         print(ocr_core(img))\n",
    "\n",
    "\n",
    "# print_pages('/kaggle/input/sample-pdf/D8communications.pdf')\n"
   ]
  },
  {
   "cell_type": "code",
   "execution_count": 29,
   "id": "2e3b276e",
   "metadata": {
    "execution": {
     "iopub.execute_input": "2022-05-09T16:36:36.919694Z",
     "iopub.status.busy": "2022-05-09T16:36:36.918953Z",
     "iopub.status.idle": "2022-05-09T16:36:36.920650Z",
     "shell.execute_reply": "2022-05-09T16:36:36.921092Z"
    },
    "papermill": {
     "duration": 0.07626,
     "end_time": "2022-05-09T16:36:36.921302",
     "exception": false,
     "start_time": "2022-05-09T16:36:36.845042",
     "status": "completed"
    },
    "tags": []
   },
   "outputs": [],
   "source": [
    "# import requests\n",
    "# import fitz\n",
    "# import io\n",
    "\n",
    "# #URL = 'https://buildmedia.readthedocs.org/media/pdf/pdfminer-docs/latest/pdfminer-docs.pdf'\n",
    "# URL = 'https://redactable-devox-stage.s3.us-east-2.amazonaws.com/tenants/41d9e109-693b-444c-aa18-e5891bc6550b/original/1a7c0e5d-3237-4ca9-9e3d-89e707245ac6/D8communications.pdf'\n",
    "\n",
    "\n",
    "# res = requests.get(URL)\n",
    "# filestream = io.BytesIO(res.content)\n",
    "# #res.content\n",
    "# filestream\n",
    "# doc = fitz.Document(stream=filestream)\n",
    "# page1 = doc.loadPage(3)\n",
    "# page1text = page1.getText(\"text\").encode(\"utf-8\").decode(\"utf-8\")\n",
    "# print(page1text)"
   ]
  },
  {
   "cell_type": "code",
   "execution_count": 30,
   "id": "09092e00",
   "metadata": {
    "execution": {
     "iopub.execute_input": "2022-05-09T16:36:37.063270Z",
     "iopub.status.busy": "2022-05-09T16:36:37.062566Z",
     "iopub.status.idle": "2022-05-09T16:36:37.067107Z",
     "shell.execute_reply": "2022-05-09T16:36:37.067707Z",
     "shell.execute_reply.started": "2022-04-09T07:04:56.590103Z"
    },
    "papermill": {
     "duration": 0.077892,
     "end_time": "2022-05-09T16:36:37.067940",
     "exception": false,
     "start_time": "2022-05-09T16:36:36.990048",
     "status": "completed"
    },
    "tags": []
   },
   "outputs": [],
   "source": [
    "# import requests\n",
    "# import fitz\n",
    "\n",
    "# #URL = 'https://buildmedia.readthedocs.org/media/pdf/pdfminer-docs/latest/pdfminer-docs.pdf'\n",
    "# URL = 'https://redactable-devox-stage.s3.us-east-2.amazonaws.com/tenants/41d9e109-693b-444c-aa18-e5891bc6550b/original/1a7c0e5d-3237-4ca9-9e3d-89e707245ac6/D8communications.pdf'\n",
    "\n",
    "\n",
    "# res = requests.get(URL)\n",
    "# doc = fitz.open(stream=res.content,filetype=\"pdf\")\n",
    "# page1 = doc.loadPage(3)\n",
    "# page1text = page1.getText(\"text\")\n",
    "# #rect = (72.1149,661.2966,131.95729,675.1716)\n",
    "# rect=(72.10812377929688, 116.13427734375, 133.97142028808594, 146.4227294921875)\n",
    "# labelled_text = page1.get_textbox(rect)\n",
    "# print(labelled_text.strip())\n",
    "\n",
    "# fulltext = page1.get_text()\n",
    "# print(fulltext)\n",
    "# doc = nlp(fulltext)\n",
    "# sentences = []\n",
    "# for sent in doc.sents:\n",
    "#     if labelled_text in sent.text:\n",
    "#         text = sent.text\n",
    "#         print(text)\n",
    "# #print(page1text)"
   ]
  },
  {
   "cell_type": "code",
   "execution_count": 31,
   "id": "273549a0",
   "metadata": {
    "execution": {
     "iopub.execute_input": "2022-05-09T16:36:37.210456Z",
     "iopub.status.busy": "2022-05-09T16:36:37.209773Z",
     "iopub.status.idle": "2022-05-09T16:36:37.212729Z",
     "shell.execute_reply": "2022-05-09T16:36:37.213269Z",
     "shell.execute_reply.started": "2022-04-08T16:42:57.6659Z"
    },
    "papermill": {
     "duration": 0.076153,
     "end_time": "2022-05-09T16:36:37.213484",
     "exception": false,
     "start_time": "2022-05-09T16:36:37.137331",
     "status": "completed"
    },
    "tags": []
   },
   "outputs": [],
   "source": [
    "#res.content"
   ]
  },
  {
   "cell_type": "code",
   "execution_count": 32,
   "id": "57225cc8",
   "metadata": {
    "execution": {
     "iopub.execute_input": "2022-05-09T16:36:37.364110Z",
     "iopub.status.busy": "2022-05-09T16:36:37.363383Z",
     "iopub.status.idle": "2022-05-09T16:36:37.365273Z",
     "shell.execute_reply": "2022-05-09T16:36:37.365739Z",
     "shell.execute_reply.started": "2022-04-08T16:48:05.672392Z"
    },
    "papermill": {
     "duration": 0.079922,
     "end_time": "2022-05-09T16:36:37.365945",
     "exception": false,
     "start_time": "2022-05-09T16:36:37.286023",
     "status": "completed"
    },
    "tags": []
   },
   "outputs": [],
   "source": [
    "# import fitz\n",
    "# # mem_area=\n",
    "# # doc = fitz.open(stream=mem_area, filetype=\"pdf\")\n",
    "\n",
    "# import requests\n",
    "\n",
    "# URL = 'https://redactable-devox-stage.s3.us-east-2.amazonaws.com/tenants/41d9e109-693b-444c-aa18-e5891bc6550b/original/1a7c0e5d-3237-4ca9-9e3d-89e707245ac6/D8communications.pdf'\n",
    "\n",
    "# #res = requests.get(URL)\n",
    "# doc=fitz.open(\"/kaggle/input/sample-pdf/D8communications.pdf\")\n",
    "# #doc = fitz.open(stream=res.content,filetype=\"pdf\")\n",
    "# page1 = doc.loadPage(4)\n",
    "# # page1text = page1.getText(\"text\")\n",
    "# # print(page1text)\n",
    "# blocks = page1.getText(\"blocks\")\n",
    "# blocks.sort(key=lambda block: block[1])  # sort vertically ascending\n",
    "\n",
    "# for b in blocks:\n",
    "#     print(b[4])\n"
   ]
  },
  {
   "cell_type": "code",
   "execution_count": 33,
   "id": "66c442e5",
   "metadata": {
    "execution": {
     "iopub.execute_input": "2022-05-09T16:36:37.508334Z",
     "iopub.status.busy": "2022-05-09T16:36:37.507508Z",
     "iopub.status.idle": "2022-05-09T16:36:37.510458Z",
     "shell.execute_reply": "2022-05-09T16:36:37.511057Z",
     "shell.execute_reply.started": "2022-04-08T16:48:13.086323Z"
    },
    "papermill": {
     "duration": 0.075656,
     "end_time": "2022-05-09T16:36:37.511258",
     "exception": false,
     "start_time": "2022-05-09T16:36:37.435602",
     "status": "completed"
    },
    "tags": []
   },
   "outputs": [],
   "source": [
    "# # page = doc[1]\n",
    "# words = page.get_text(\"words\")\n",
    "# #print(words)\n",
    "# rect = (72.1149,661.2966,131.95729,675.1716)\n",
    "\n",
    "# labelled_text = page.get_textbox(rect)\n",
    "# # labelled_text"
   ]
  },
  {
   "cell_type": "markdown",
   "id": "4ccd823c",
   "metadata": {
    "papermill": {
     "duration": 0.069006,
     "end_time": "2022-05-09T16:36:37.650862",
     "exception": false,
     "start_time": "2022-05-09T16:36:37.581856",
     "status": "completed"
    },
    "tags": []
   },
   "source": [
    "pip install PyPDF2"
   ]
  },
  {
   "cell_type": "code",
   "execution_count": null,
   "id": "945eb952",
   "metadata": {
    "papermill": {
     "duration": 0.068556,
     "end_time": "2022-05-09T16:36:37.790164",
     "exception": false,
     "start_time": "2022-05-09T16:36:37.721608",
     "status": "completed"
    },
    "tags": []
   },
   "outputs": [],
   "source": []
  },
  {
   "cell_type": "code",
   "execution_count": 34,
   "id": "14ed29e1",
   "metadata": {
    "execution": {
     "iopub.execute_input": "2022-05-09T16:36:37.937126Z",
     "iopub.status.busy": "2022-05-09T16:36:37.935961Z",
     "iopub.status.idle": "2022-05-09T16:36:37.939991Z",
     "shell.execute_reply": "2022-05-09T16:36:37.940850Z",
     "shell.execute_reply.started": "2022-03-18T16:48:58.370268Z"
    },
    "papermill": {
     "duration": 0.082765,
     "end_time": "2022-05-09T16:36:37.941085",
     "exception": false,
     "start_time": "2022-05-09T16:36:37.858320",
     "status": "completed"
    },
    "tags": []
   },
   "outputs": [],
   "source": [
    "# import pandas as pd\n",
    "# h={'step': 0, 'type': 'string', 'amount': 0.0, 'nameOrig': 'C1231006815', 'oldbalanceOrig': 0.0, 'newbalanceOrig': 0.0, 'nameDest': 'M1979787155', 'oldbalanceDest': 0.0, 'newbalanceDest': 0.0}\n",
    "# df=pd.DataFrame([h])"
   ]
  },
  {
   "cell_type": "code",
   "execution_count": 35,
   "id": "ff2f650d",
   "metadata": {
    "execution": {
     "iopub.execute_input": "2022-05-09T16:36:38.087700Z",
     "iopub.status.busy": "2022-05-09T16:36:38.086609Z",
     "iopub.status.idle": "2022-05-09T16:36:38.090304Z",
     "shell.execute_reply": "2022-05-09T16:36:38.090902Z",
     "shell.execute_reply.started": "2022-04-09T17:21:26.021615Z"
    },
    "papermill": {
     "duration": 0.078572,
     "end_time": "2022-05-09T16:36:38.091101",
     "exception": false,
     "start_time": "2022-05-09T16:36:38.012529",
     "status": "completed"
    },
    "tags": []
   },
   "outputs": [],
   "source": [
    "#df"
   ]
  },
  {
   "cell_type": "code",
   "execution_count": null,
   "id": "e8a5cea1",
   "metadata": {
    "papermill": {
     "duration": 0.069197,
     "end_time": "2022-05-09T16:36:38.231902",
     "exception": false,
     "start_time": "2022-05-09T16:36:38.162705",
     "status": "completed"
    },
    "tags": []
   },
   "outputs": [],
   "source": []
  }
 ],
 "metadata": {
  "kernelspec": {
   "display_name": "Python 3",
   "language": "python",
   "name": "python3"
  },
  "language_info": {
   "codemirror_mode": {
    "name": "ipython",
    "version": 3
   },
   "file_extension": ".py",
   "mimetype": "text/x-python",
   "name": "python",
   "nbconvert_exporter": "python",
   "pygments_lexer": "ipython3",
   "version": "3.7.12"
  },
  "papermill": {
   "default_parameters": {},
   "duration": 25.847985,
   "end_time": "2022-05-09T16:36:39.214671",
   "environment_variables": {},
   "exception": null,
   "input_path": "__notebook__.ipynb",
   "output_path": "__notebook__.ipynb",
   "parameters": {},
   "start_time": "2022-05-09T16:36:13.366686",
   "version": "2.3.3"
  }
 },
 "nbformat": 4,
 "nbformat_minor": 5
}
