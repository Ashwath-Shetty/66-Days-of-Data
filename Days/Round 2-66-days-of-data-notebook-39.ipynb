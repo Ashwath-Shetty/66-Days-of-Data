{
 "cells": [
  {
   "cell_type": "code",
   "execution_count": 1,
   "id": "7bfed862",
   "metadata": {
    "_cell_guid": "b1076dfc-b9ad-4769-8c92-a6c4dae69d19",
    "_uuid": "8f2839f25d086af736a60e9eeb907d3b93b6e0e5",
    "execution": {
     "iopub.execute_input": "2022-04-19T17:18:06.894867Z",
     "iopub.status.busy": "2022-04-19T17:18:06.893033Z",
     "iopub.status.idle": "2022-04-19T17:18:06.913098Z",
     "shell.execute_reply": "2022-04-19T17:18:06.913830Z",
     "shell.execute_reply.started": "2022-04-12T14:12:25.248687Z"
    },
    "papermill": {
     "duration": 0.090725,
     "end_time": "2022-04-19T17:18:06.914214",
     "exception": false,
     "start_time": "2022-04-19T17:18:06.823489",
     "status": "completed"
    },
    "tags": []
   },
   "outputs": [
    {
     "name": "stdout",
     "output_type": "stream",
     "text": [
      "/kaggle/input/sample-pdf/D8communications.pdf\n"
     ]
    }
   ],
   "source": [
    "# This Python 3 environment comes with many helpful analytics libraries installed\n",
    "# It is defined by the kaggle/python Docker image: https://github.com/kaggle/docker-python\n",
    "# For example, here's several helpful packages to load\n",
    "\n",
    "import numpy as np # linear algebra\n",
    "import pandas as pd # data processing, CSV file I/O (e.g. pd.read_csv)\n",
    "\n",
    "# Input data files are available in the read-only \"../input/\" directory\n",
    "# For example, running this (by clicking run or pressing Shift+Enter) will list all files under the input directory\n",
    "\n",
    "import os\n",
    "for dirname, _, filenames in os.walk('/kaggle/input'):\n",
    "    for filename in filenames:\n",
    "        print(os.path.join(dirname, filename))\n",
    "\n",
    "# You can write up to 20GB to the current directory (/kaggle/working/) that gets preserved as output when you create a version using \"Save & Run All\" \n",
    "# You can also write temporary files to /kaggle/temp/, but they won't be saved outside of the current session"
   ]
  },
  {
   "cell_type": "markdown",
   "id": "93a40bab",
   "metadata": {
    "papermill": {
     "duration": 0.061739,
     "end_time": "2022-04-19T17:18:07.040268",
     "exception": false,
     "start_time": "2022-04-19T17:18:06.978529",
     "status": "completed"
    },
    "tags": []
   },
   "source": [
    "# **Start Date: 12/3/2022**"
   ]
  },
  {
   "cell_type": "markdown",
   "id": "df8f32c1",
   "metadata": {
    "papermill": {
     "duration": 0.060662,
     "end_time": "2022-04-19T17:18:07.162818",
     "exception": false,
     "start_time": "2022-04-19T17:18:07.102156",
     "status": "completed"
    },
    "tags": []
   },
   "source": [
    "# **Day 1:** \n",
    "<br>dataquest -> stats -> probability-> estimating probability\n",
    "1. out come is nothing but o/p of an experiment\n",
    "ex: whatever u get after rolling a dice -> it can be any number\n",
    "2. event can have more than one outcome\n",
    "- e.x: The event that we'll get an odd number when we roll a six-sided die — this event includes the outcomes 1, 3, and 5.\n",
    "- an event can be 0 as well.\n",
    "- We always assign probabilities to events, not outcomes, even if the event includes only one outcome.\n",
    "- P(E) =1/total number of possible outcomes, P(E) probability of an event happening.\n",
    "- but above formula doesn't work always, especially when there are more than one outcome\n",
    "    - P(E)=number of successful outcomes/total number of possible outcomes\n",
    "- incase of a biased situation \n",
    "  - let's say a die has 6 - 3 times which is 1,6,3,5,6,6\n",
    "    we will consider 6 as 3 times not 1.\n",
    "    possible outcome-> 1,3,5,6,6,6\n",
    "    prob(6)=3/6\n",
    "    prob(3)=1/6\n",
    "    prob(2)=0/6\n",
    "    If we didn't treat each 6 differently and said it doesn't matter which side a 6 is on, \n",
    "    <br>we'd be forced to conclude the only possible outcomes are 1, 3, 5 and 6. We can definitely         <br>frame the problem like that, but the formula above won't work anymore — we see below P(6) <br>becomes the same as P(3), but, intuitively, P(6) should be higher than P(3) since the die has 6 on     <br>three of its sides:\n"
   ]
  },
  {
   "cell_type": "markdown",
   "id": "3d9c0be3",
   "metadata": {
    "papermill": {
     "duration": 0.060587,
     "end_time": "2022-04-19T17:18:07.283864",
     "exception": false,
     "start_time": "2022-04-19T17:18:07.223277",
     "status": "completed"
    },
    "tags": []
   },
   "source": [
    "Estimating Probabilities Conclusion\n",
    "- emperical/ experimental probability\n",
    "  - probability achieved by experimenting / by doing the same event multiple times.\n",
    "  - Generally, for any event E (like a coin landing heads up), we can find its empirical probability   \n",
    "     by using the following formula: \n",
    "     •P (E) =number of times event E happened/ number of times we repeated the experiment   \n",
    " - Generally, the empirical probability of an event (a coin landing heads up, getting a 5 when weroll a die) approaches the true probability value as the number of trials of the randomexperiment (a coin toss, the rolling of a die) increases without bound.\n",
    "- When we calculate the probability of an event under the assumption that the outcomes have equal chances of occurring, we say that we're calculating the **theoretical probability** of an event.\n",
    "   - P(E)=number of successful outcomes/total number of possible outcomes\n",
    "\n"
   ]
  },
  {
   "cell_type": "markdown",
   "id": "c36d6499",
   "metadata": {
    "papermill": {
     "duration": 0.060008,
     "end_time": "2022-04-19T17:18:07.406039",
     "exception": false,
     "start_time": "2022-04-19T17:18:07.346031",
     "status": "completed"
    },
    "tags": []
   },
   "source": [
    "# **Day 2**\n",
    "<br>dataquest-> stats -> intro to probability -> probability rules\n",
    "<br>In probability theory, the set of all possible outcomes is called a sample space. A sample space is often denoted by the capital Greek letter Ω (read \"omega\"). This is how we represent the sample space of a die roll:\n",
    "\n",
    "Ω = {1,2,3,4,5,6}\n",
    "-    The probability of any event ranges between 0 and 1: 0≤ P(Event) ≤1\n",
    "- To calculate P(A or B), we can also use the formula below, which is sometimes called the addition rule: P(A or B) = P(A) + P(B)\n",
    "  - Sample space ={ 1,2,3,4,5,6} \n",
    "  - P(2 or 5) = 2/6\n",
    "\n",
    "- P(C or D) = P(C) + P(D) - P(C and D)\n",
    "   - e.x : Sample_space ={2,4,6} + { 4,5,6} - {4/6}\n",
    "      P( even number or number greater than 3) = ( (3/6) + (3/6) )- (2/6) = 4/6\n",
    "- Events that don't intersect are called mutually exclusive.\n",
    "  - e.x: Getting a 5 (event one) and getting a 3 (event two) when we roll a regular six-sided die — it's  impossible to get both a 5 and 3.\n",
    "- Events that intersect are called mutually non-exclusive.\n",
    "  - Getting a number greater than 2 (event one) and getting an odd number (event two) when we roll a regular six-sided die — we could get a 5, which is both greater than 2 (event one) and odd (event two).\n",
    "- unioun -> A or B, intersection -> A and B"
   ]
  },
  {
   "cell_type": "markdown",
   "id": "aa75ce01",
   "metadata": {
    "papermill": {
     "duration": 0.060521,
     "end_time": "2022-04-19T17:18:07.528678",
     "exception": false,
     "start_time": "2022-04-19T17:18:07.468157",
     "status": "completed"
    },
    "tags": []
   },
   "source": [
    "# Day 3 and 4\n",
    "dataquest -> stats -> probabilities -> solving complex probabilities\n",
    "- This is the same result we got from our previous approach. In more general terms, the multiplication rule says that for two events E1 and E2, the probability that both event E1 and E2 happen can be found by multiplying the probability of E1 by the probability of E2:\n",
    "    - P(E1 ∩ E2) = P(E1) × P(E2)\n",
    "    - Events that don't influence each other's probability are called independent events. If H1 happens, P(H2) stays the same, so H1 and H2 are independent. The multiplication rule we learned only works for independent events.\n",
    "    "
   ]
  },
  {
   "cell_type": "markdown",
   "id": "d9f4e943",
   "metadata": {
    "papermill": {
     "duration": 0.060575,
     "end_time": "2022-04-19T17:18:07.651111",
     "exception": false,
     "start_time": "2022-04-19T17:18:07.590536",
     "status": "completed"
    },
    "tags": []
   },
   "source": [
    "# Day 5\n",
    "- When we replace the cards after drawing, we say that we're sampling with replacement. When we don't put the cards back, we're sampling without replacement. \n"
   ]
  },
  {
   "cell_type": "markdown",
   "id": "665b634a",
   "metadata": {
    "papermill": {
     "duration": 0.06131,
     "end_time": "2022-04-19T17:18:07.772942",
     "exception": false,
     "start_time": "2022-04-19T17:18:07.711632",
     "status": "completed"
    },
    "tags": []
   },
   "source": [
    "# Day6\n",
    "dataquest-> prob and stats -> probability fundamentals -> permutation and combinations\n",
    "Generally, if we have an experiment E1 (like flipping a coin) with a outcomes, followed by an experiment E2 (like rolling a die) with b outcomes, then the total number of outcomes for the composite experiment E1E2 can be found by multiplying a with b:\n",
    "\n",
    "Number of outcomes = a * b"
   ]
  },
  {
   "cell_type": "markdown",
   "id": "1bb3d380",
   "metadata": {
    "papermill": {
     "duration": 0.061008,
     "end_time": "2022-04-19T17:18:07.899700",
     "exception": false,
     "start_time": "2022-04-19T17:18:07.838692",
     "status": "completed"
    },
    "tags": []
   },
   "source": [
    "# Day 7\n",
    "dataquest-> prob and stats -> probability fundamentals -> permutation and combinations <br>\n",
    "More generally, if we have an experiment E1 with a outcomes, followed by an experiment E2 with b outcomes, followed by an experiment En with z outcomes, the total number of outcomes for the composite experiment E1E2 ... En can be found by multiplying their individual outcomes:\n",
    "\n",
    "Number of outcomes= a * b * … * z"
   ]
  },
  {
   "cell_type": "markdown",
   "id": "55bb17f1",
   "metadata": {
    "papermill": {
     "duration": 0.060449,
     "end_time": "2022-04-19T17:18:08.021411",
     "exception": false,
     "start_time": "2022-04-19T17:18:07.960962",
     "status": "completed"
    },
    "tags": []
   },
   "source": [
    "# Day 8\n",
    "dataquest-> prob and stats -> probability fundamentals -> permutation and combinations <br>\n",
    "permutations= n*(n-1)*(n-2)*....*2*1\n"
   ]
  },
  {
   "cell_type": "markdown",
   "id": "cadd5cde",
   "metadata": {
    "papermill": {
     "duration": 0.062989,
     "end_time": "2022-04-19T17:18:08.145104",
     "exception": false,
     "start_time": "2022-04-19T17:18:08.082115",
     "status": "completed"
    },
    "tags": []
   },
   "source": [
    "# Day 9\n",
    "dataquest-> prob and stats -> probability fundamentals -> permutation and combinations\n",
    "- in permutation order of the individual element in the arranement matters.\n",
    "   - for e.x: 9821 is different than 9281\n",
    "   - Permutations =n!  --> sample without replacement-> we are not putting back the sampled data.\n",
    "   - On the last screen, we learned to use the formula below to calculate permutations when we're sampling without replacement and taking only k objects from a group of n objects:\n",
    "   npk=n!/(n-k)!"
   ]
  },
  {
   "cell_type": "markdown",
   "id": "a54c74db",
   "metadata": {
    "papermill": {
     "duration": 0.062806,
     "end_time": "2022-04-19T17:18:08.269029",
     "exception": false,
     "start_time": "2022-04-19T17:18:08.206223",
     "status": "completed"
    },
    "tags": []
   },
   "source": [
    "# Day 10\n",
    "dataquest-> prob and stats -> probability fundamentals -> permutation and combinations\n",
    "- More generally, if the order of the elements in an arrangement doesn't matter, the arrangement is called a combination.\n",
    "- e.x: cards in a deck \n",
    "- nCk = n! / ((n-k)!*k!)"
   ]
  },
  {
   "cell_type": "markdown",
   "id": "04e92932",
   "metadata": {
    "papermill": {
     "duration": 0.062637,
     "end_time": "2022-04-19T17:18:08.392056",
     "exception": false,
     "start_time": "2022-04-19T17:18:08.329419",
     "status": "completed"
    },
    "tags": []
   },
   "source": [
    "# Day 11\n",
    "dataquest-> prob and stats -> probability fundamentals -> permutation and combinations\n",
    "- solved 1 probability problem.\n"
   ]
  },
  {
   "cell_type": "markdown",
   "id": "961ad842",
   "metadata": {
    "papermill": {
     "duration": 0.060732,
     "end_time": "2022-04-19T17:18:08.515537",
     "exception": false,
     "start_time": "2022-04-19T17:18:08.454805",
     "status": "completed"
    },
    "tags": []
   },
   "source": [
    "# Day 12\n",
    "dataquest-> prob and stats -> probability fundamentals -> permutation and combinations\n",
    "- finished probability and permutations by revising them.\n",
    "- If we have an experiment E1 (like flipping a coin) with a outcomes, followed by an experiment E2(like rolling a die) with b outcomes, then the total number of outcomes for the compositeexperiment E1E2 can be found by multiplying a with b (this is known as the rule of product):\n",
    "  - number of outcomes = a*b\n",
    "- If we have an experiment E1 with a outcomes, followed by an experiment E2 with b outcomes,followed by an experiment En with z outcomes, the total number of outcomes for the compositeexperiment E1E2 ... En can be found by multiplying their individual outcomes:\n",
    "   - number of outcomes = a*b* ... *z\n",
    "- There are two kinds of arrangements:\n",
    "   - •Arrangements where the order matters, which we call permutations.\n",
    "   - •Arrangements where the order doesn't matter, which we call combination\n",
    "- To find the number of permutations when we're sampling without replacement, we can use theformula:\n",
    "  - permutation = n!\n",
    "- To find the number of permutations when we're sampling without replacement and taking only kobjects from a group of n objects, we can use the formula:\n",
    "  - nPk = n!/(n-k)!\n",
    "- To find the number of combinations when we're sampling without replacement and taking only kobjects from a group of n objects, we can use the formula\n",
    "  - nCk = n! / ((n-k)!*k!)"
   ]
  },
  {
   "cell_type": "markdown",
   "id": "79722f13",
   "metadata": {
    "papermill": {
     "duration": 0.060691,
     "end_time": "2022-04-19T17:18:08.637955",
     "exception": false,
     "start_time": "2022-04-19T17:18:08.577264",
     "status": "completed"
    },
    "tags": []
   },
   "source": [
    "# Day 13\n",
    "dataquest-> prob and stats -> probability fundamentals -> conditional probabilities\n",
    "- first 2 slides -> mainly the recap of old chapter(above one).\n"
   ]
  },
  {
   "cell_type": "markdown",
   "id": "f70e0807",
   "metadata": {
    "papermill": {
     "duration": 0.063471,
     "end_time": "2022-04-19T17:18:08.762778",
     "exception": false,
     "start_time": "2022-04-19T17:18:08.699307",
     "status": "completed"
    },
    "tags": []
   },
   "source": [
    "# Day 14\n",
    "dataquest-> prob and stats -> probability fundamentals -> conditional probabilities\n",
    "<br>slide 4 completed\n",
    "<br>conditional probabilities\n",
    "- probabilities with condition\n",
    "- P(5)=What is the probability of getting a 5? -> normal probability\n",
    "- P(5 | odd) =What is the probability of getting a 5 given the die showed an odd number? -> conditional prob.\n",
    "\n"
   ]
  },
  {
   "cell_type": "markdown",
   "id": "4fb7d218",
   "metadata": {
    "papermill": {
     "duration": 0.061152,
     "end_time": "2022-04-19T17:18:08.886049",
     "exception": false,
     "start_time": "2022-04-19T17:18:08.824897",
     "status": "completed"
    },
    "tags": []
   },
   "source": [
    "# Day 15\n",
    "dataquest-> prob and stats -> probability fundamentals -> conditional probabilities\n",
    "- on slide 5 not done yet.\n",
    "\n",
    "Say we roll a fair six-sided die and want to find the probability of getting an odd number, given the die showed a number greater than 1 after landing. Using probability notation, we want to find P(A|B) where:\n",
    "\n",
    "- A is the event that the number is odd: A = {1, 3, 5}\n",
    "- B is the event that the number is greater than 1: B = {2, 3, 4, 5, 6}\n",
    "- P(A/B)=number of succesfull outcomes / total number of outcomes.\n"
   ]
  },
  {
   "cell_type": "markdown",
   "id": "2a9459ae",
   "metadata": {
    "papermill": {
     "duration": 0.060337,
     "end_time": "2022-04-19T17:18:09.006942",
     "exception": false,
     "start_time": "2022-04-19T17:18:08.946605",
     "status": "completed"
    },
    "tags": []
   },
   "source": [
    "# Day 16 and 17\n",
    "dataquest-> prob and stats -> probability fundamentals -> conditional probabilities\n",
    "\n",
    "on slide 6 not done yet."
   ]
  },
  {
   "cell_type": "markdown",
   "id": "c931e931",
   "metadata": {
    "papermill": {
     "duration": 0.060344,
     "end_time": "2022-04-19T17:18:09.127709",
     "exception": false,
     "start_time": "2022-04-19T17:18:09.067365",
     "status": "completed"
    },
    "tags": []
   },
   "source": [
    "# Day 18\n",
    "dataquest-> prob and stats -> probability fundamentals -> conditional probabilities\n",
    "<br>slide 5 code half done"
   ]
  },
  {
   "cell_type": "markdown",
   "id": "faef0607",
   "metadata": {
    "papermill": {
     "duration": 0.060374,
     "end_time": "2022-04-19T17:18:09.248531",
     "exception": false,
     "start_time": "2022-04-19T17:18:09.188157",
     "status": "completed"
    },
    "tags": []
   },
   "source": [
    "# Day 19\n",
    "- The number of elements in a set is called the cardinal of the set. \n",
    "  Ω is a set, and the cardinal of \n",
    "   Ω = { 2,3,4,5,6}\n",
    "   cardinal(Ω)=5\n",
    "- P(A | B) = card(A ∩ B) / card(B)\n",
    "- Say we roll a fair six-sided die and want to find the probability of getting an odd number, given the die showed a number greater than 1 after landing. Using probability notation, we want to find P(A|B) where:\n",
    "    - A is the event that the number is odd: A = {1, 3, 5}\n",
    "     - B is the event that the number is greater than 1: B = {2, 3, 4, 5, 6}\n",
    "     - total number of possible outcomes = card({2,3,4,5,6}) =5\n",
    "     - number of successful outcomes = card({3,5})= 2\n",
    "- P(A | B) = card(A ∩ B) / card(B), we can also get the same result using P(A | B) = prob(A ∩ B) / prob(B)\n",
    "\n",
    "     "
   ]
  },
  {
   "cell_type": "markdown",
   "id": "95405d53",
   "metadata": {
    "papermill": {
     "duration": 0.061015,
     "end_time": "2022-04-19T17:18:09.369930",
     "exception": false,
     "start_time": "2022-04-19T17:18:09.308915",
     "status": "completed"
    },
    "tags": []
   },
   "source": [
    "# Day 20\n",
    "dataquest-> prob and stats -> probability fundamentals -> conditional probabilities intermediate\n",
    "<br> slide 1 and 2\n",
    "- P( A | B ) ≠ P(A ∩ B), but rather:\n",
    "   - P(A | B) = P(A ∩ B) / P(B)\n",
    "   - P(A ∩ B) = P(A | B) ⋅ P(B)\n",
    "- Given that a customer bought a laptop, they will or will not also buy a mouse. This means we can be certain that either event (M|L) or (M^C|L) will happen:\n",
    "     - P(M | L) + P(M^C | L) = 1\n",
    "\n"
   ]
  },
  {
   "cell_type": "markdown",
   "id": "00e0d850",
   "metadata": {
    "papermill": {
     "duration": 0.0607,
     "end_time": "2022-04-19T17:18:09.491133",
     "exception": false,
     "start_time": "2022-04-19T17:18:09.430433",
     "status": "completed"
    },
    "tags": []
   },
   "source": [
    "# Day 21\n",
    "dataquest-> prob and stats -> probability fundamentals -> conditional probabilities intermediate\n",
    "slide 1 and 2\n",
    "- P(A ∩ B) = P(B ∩ A)\n",
    "- multiplication rule of probability\n",
    "  -  P(A ∩ B) = P(B) ⋅ P(A | B) \n",
    "  - P(A ∩ B) = P(A) ⋅ P(B | A)\n",
    "- if P(A) and P(B) are statistically independent then \n",
    "  - P(A ∩ B) = P(A) ⋅ P(B)\n",
    "\n"
   ]
  },
  {
   "cell_type": "markdown",
   "id": "c6598f28",
   "metadata": {
    "papermill": {
     "duration": 0.060234,
     "end_time": "2022-04-19T17:18:09.613607",
     "exception": false,
     "start_time": "2022-04-19T17:18:09.553373",
     "status": "completed"
    },
    "tags": []
   },
   "source": [
    "# Day 22\n",
    "dataquest-> prob and stats -> probability fundamentals -> conditional probabilities intermediate \n",
    "<br>slide 6\n",
    "- If events events A and B are dependent, it means the occurrence of event A changes the probability of event B and vice versa.\n",
    "   - P(A) ≠ P(A | B)\n",
    "   - P(B) ≠ P(B | A)\n",
    "   - P(A ∩ B) ≠ P(A) ⋅ P(B)\n",
    "   - formula will become P(A ∩ B) ≠ P(A) ⋅ P(B/A)\n",
    "   "
   ]
  },
  {
   "cell_type": "markdown",
   "id": "412fee2c",
   "metadata": {
    "papermill": {
     "duration": 0.062336,
     "end_time": "2022-04-19T17:18:09.736312",
     "exception": false,
     "start_time": "2022-04-19T17:18:09.673976",
     "status": "completed"
    },
    "tags": []
   },
   "source": [
    "# Day 23\n",
    "dataquest-> prob and stats -> probability fundamentals -> conditional probabilities intermediate\n",
    "<br>slide 7 to last\n",
    "- To find whether three events — A, B, C — are independent or not, below conditions must hold true -\n",
    "  - P(A ∩ B) ≠ P(A) ⋅ P(B)\n",
    "  - P(A ∩ C) ≠ P(A) ⋅ P(C)\n",
    "  - P(B ∩ C) ≠ P(B) ⋅ P(C)\n",
    "  - P(A ∩ B ∩ C) ≠ P(A) ⋅ P(B) . P(C)\n",
    "- multiplication rule for conditional probability or dependent events\n",
    " - P(A ∩ B ∩ C) = P(A) ⋅ P(B | A) ⋅ P(C | A ∩ B)\n",
    " \n",
    "\n"
   ]
  },
  {
   "cell_type": "markdown",
   "id": "0b7a5c8c",
   "metadata": {
    "papermill": {
     "duration": 0.059997,
     "end_time": "2022-04-19T17:18:09.857499",
     "exception": false,
     "start_time": "2022-04-19T17:18:09.797502",
     "status": "completed"
    },
    "tags": []
   },
   "source": [
    "# Day 24\n",
    "dataquest-> prob and stats -> probability fundamentals -> bayes theorem\n",
    "<br>slide 1\n",
    "- independent -> one event is dependent on other\n",
    "   - P(A ∩ B) = P(A) ⋅ P(B/A)\n",
    "- independent -> one event is not dependent on other.\n",
    "   - P(A ∩ B) = P(A) ⋅ P(B)\n",
    "- mutually exclusive -> both the events cannot happen at the same time.\n",
    "   - P(A ∩ B) = 0\n",
    "\n"
   ]
  },
  {
   "cell_type": "markdown",
   "id": "bf7d674c",
   "metadata": {
    "papermill": {
     "duration": 0.060176,
     "end_time": "2022-04-19T17:18:09.979990",
     "exception": false,
     "start_time": "2022-04-19T17:18:09.919814",
     "status": "completed"
    },
    "tags": []
   },
   "source": [
    "# Day 25\n",
    "dataquest-> prob and stats -> probability fundamentals -> bayes theorem\n",
    "<br>slide 2\n",
    "- If two events are exhaustive, it means they make up the whole sample space Ω\n",
    "  -  P(A) = P(A ∩ B) + P(A ∩ B^c)\n",
    "     P(A) = (P(B) * P(A/B)) +  (P(B^c) * P(A/B^c))\n",
    "     \n",
    "     "
   ]
  },
  {
   "cell_type": "markdown",
   "id": "a9e67823",
   "metadata": {
    "papermill": {
     "duration": 0.060024,
     "end_time": "2022-04-19T17:18:10.100227",
     "exception": false,
     "start_time": "2022-04-19T17:18:10.040203",
     "status": "completed"
    },
    "tags": []
   },
   "source": [
    "# Day 26\n",
    "dataquest-> prob and stats -> probability fundamentals -> bayes theorem\n",
    "<br>slide 3 - last\n",
    "- the law of total probability\n",
    "  - P(A)  = (P(B1) * P(A/B1)) + (P(B2) * P(A/B2))+ ... + (P(Bn) * P(A/Bn)))\n",
    "  - P(A) =(summattion i=1 to n) P(Bi) ⋅ P(A|Bi)\n",
    "- Baye's theorem\n",
    "  - P(B | A) = (P(B) ⋅ P(A | B)) / (n ∑i=1 P(Bi) ⋅ P(A | Bi))\n",
    "- The probability of being infected with HIV before doing any test is called the prior probability (\"prior\" means \"before\"). The probability of being infected with HIV after testing positive is called the posterior probability (\"posterior\" means \"after\").\n",
    "\n",
    "\n",
    "  "
   ]
  },
  {
   "cell_type": "markdown",
   "id": "18b21eb8",
   "metadata": {
    "papermill": {
     "duration": 0.059829,
     "end_time": "2022-04-19T17:18:10.220443",
     "exception": false,
     "start_time": "2022-04-19T17:18:10.160614",
     "status": "completed"
    },
    "tags": []
   },
   "source": [
    "# Day 27\n",
    "dataquest-> prob and stats -> probability fundamentals -> naive bayes theorem\n",
    "<br>slide 1 - \n",
    "P(Spam|w1,w2,w3,w4)∝P(Spam)⋅P(w1|Spam)⋅P(w2|Spam)⋅P(w3|Spam)⋅P(w4|Spam)P(SpamC|w1,w2,w3,w4)∝P(SpamC)⋅P(w1|SpamC)⋅P(w2|SpamC)⋅P(w3|SpamC)⋅P(w4|SpamC)"
   ]
  },
  {
   "cell_type": "markdown",
   "id": "ea9a5682",
   "metadata": {
    "papermill": {
     "duration": 0.061674,
     "end_time": "2022-04-19T17:18:10.343321",
     "exception": false,
     "start_time": "2022-04-19T17:18:10.281647",
     "status": "completed"
    },
    "tags": []
   },
   "source": [
    "# Day 28\n",
    "dataquest-> prob and stats -> probability fundamentals -> naive bayes theorem\n",
    "<br>finished.\n",
    "<br>**Summary**\n",
    "- P(Spam|w1,w2,...,wn)∝P(Spam)⋅n∏i=1P(wi|Spam)\n",
    "- P(SpamC|w1,w2,...,wn)∝P(SpamC)⋅n∏i=1P(wi|SpamC)\n",
    "- To calculate P(wi|Spam) and P(wi|SpamC), we need to use the additive smoothing technique: \n",
    "- P ( w i | S p a m ) = (N w i | S p a m + α) / ( N S p a m + α ⋅ N V o c a b u l a r y )\n",
    "- P ( w i | S p a m C ) = (N w i | S p a m C + α) / ( N S p a m C + α ⋅ N V o c a b u l a r y )\n",
    "     - N w i | S p a m = the number of times the word w i occurs in spam messages \n",
    "     - N w i | S p a m C = the number of times the word w i occurs in non-spam messages \n",
    "     - N S p a m = total number of words in spam messages \n",
    "     - N S p a m C = total number of words in non-spam messages \n",
    "     - N V o c a b u l a r y = total number of words in the vocabulary \n",
    "     - α = 1 ( α is a smoothing parameter )\n",
    " - naive bayes theorem assumes that events are not dependent.\n",
    " - The assumption of conditional independence between words is thus naive since it rarely holds in practice, and this is why the algorithm is called Naive Bayes (also called simple Bayes or independence Bayes)."
   ]
  },
  {
   "cell_type": "markdown",
   "id": "69fa0a03",
   "metadata": {
    "papermill": {
     "duration": 0.059715,
     "end_time": "2022-04-19T17:18:10.465629",
     "exception": false,
     "start_time": "2022-04-19T17:18:10.405914",
     "status": "completed"
    },
    "tags": []
   },
   "source": [
    "# Day 29,30,31\n",
    "<br>dataquest-> prob and stats -> probability fundamentals -> conditional probability-> guided projects\n",
    "<br> in progress"
   ]
  },
  {
   "cell_type": "markdown",
   "id": "fcdb362b",
   "metadata": {
    "papermill": {
     "duration": 0.059975,
     "end_time": "2022-04-19T17:18:10.585594",
     "exception": false,
     "start_time": "2022-04-19T17:18:10.525619",
     "status": "completed"
    },
    "tags": []
   },
   "source": [
    "# Day 32 and 33\n",
    "<br>dataquest-> prob and stats -> probability fundamentals -> guided projects\n",
    "<br> done"
   ]
  },
  {
   "cell_type": "markdown",
   "id": "0a7ea8d1",
   "metadata": {
    "papermill": {
     "duration": 0.059772,
     "end_time": "2022-04-19T17:18:10.705826",
     "exception": false,
     "start_time": "2022-04-19T17:18:10.646054",
     "status": "completed"
    },
    "tags": []
   },
   "source": [
    "# Day 34\n",
    "<br>dataquest-> prob and stats -> probability fundamentals -> guided projects-> lottery prediction\n",
    "<br> done"
   ]
  },
  {
   "cell_type": "markdown",
   "id": "f61e0463",
   "metadata": {
    "papermill": {
     "duration": 0.05974,
     "end_time": "2022-04-19T17:18:10.825707",
     "exception": false,
     "start_time": "2022-04-19T17:18:10.765967",
     "status": "completed"
    },
    "tags": []
   },
   "source": [
    "# Day 35\n",
    "<br>dataquest-> prob and stats -> hypothesis testing fundamentals -> significance testing\n",
    "<br> till slide 4\n",
    "- null hypothesis\n",
    "- alternate hypothesis\n"
   ]
  },
  {
   "cell_type": "markdown",
   "id": "3e3f7905",
   "metadata": {
    "papermill": {
     "duration": 0.059924,
     "end_time": "2022-04-19T17:18:10.947504",
     "exception": false,
     "start_time": "2022-04-19T17:18:10.887580",
     "status": "completed"
    },
    "tags": []
   },
   "source": [
    "# Day 36 and 37\n",
    "<br>dataquest-> prob and stats -> hypothesis testing fundamentals -> significance testing\n",
    "- The permutation test is a statistical test that involves rerunning the study many times and recalculating the test statistic for each iteration. The goal is to calculate a distribution of the test statistics over these many iterations. This distribution is called the sampling distribution and it approximates the full range of possible test statistics under the null hypothesis\n",
    "\n"
   ]
  },
  {
   "cell_type": "markdown",
   "id": "bf827461",
   "metadata": {
    "papermill": {
     "duration": 0.061433,
     "end_time": "2022-04-19T17:18:11.069261",
     "exception": false,
     "start_time": "2022-04-19T17:18:11.007828",
     "status": "completed"
    },
    "tags": []
   },
   "source": [
    "# Day 38\n",
    "<br>dataquest-> prob and stats -> hypothesis testing fundamentals -> significance testing\n",
    "<br>in progress."
   ]
  },
  {
   "cell_type": "markdown",
   "id": "4363c249",
   "metadata": {
    "papermill": {
     "duration": 0.060187,
     "end_time": "2022-04-19T17:18:11.189904",
     "exception": false,
     "start_time": "2022-04-19T17:18:11.129717",
     "status": "completed"
    },
    "tags": []
   },
   "source": [
    "# Day 39\n",
    "<br>dataquest-> prob and stats -> hypothesis testing fundamentals -> significance testing\n",
    "<br>slide 5-6"
   ]
  },
  {
   "cell_type": "code",
   "execution_count": 2,
   "id": "59b5ae61",
   "metadata": {
    "execution": {
     "iopub.execute_input": "2022-04-19T17:18:11.313926Z",
     "iopub.status.busy": "2022-04-19T17:18:11.313177Z",
     "iopub.status.idle": "2022-04-19T17:18:11.316310Z",
     "shell.execute_reply": "2022-04-19T17:18:11.316885Z",
     "shell.execute_reply.started": "2022-04-12T14:17:49.333113Z"
    },
    "papermill": {
     "duration": 0.066827,
     "end_time": "2022-04-19T17:18:11.317087",
     "exception": false,
     "start_time": "2022-04-19T17:18:11.250260",
     "status": "completed"
    },
    "tags": []
   },
   "outputs": [],
   "source": [
    "# !pip install PyMuPDF"
   ]
  },
  {
   "cell_type": "code",
   "execution_count": 3,
   "id": "b95d8e3e",
   "metadata": {
    "execution": {
     "iopub.execute_input": "2022-04-19T17:18:11.446818Z",
     "iopub.status.busy": "2022-04-19T17:18:11.446160Z",
     "iopub.status.idle": "2022-04-19T17:18:11.448777Z",
     "shell.execute_reply": "2022-04-19T17:18:11.449325Z",
     "shell.execute_reply.started": "2022-04-12T14:19:20.437905Z"
    },
    "papermill": {
     "duration": 0.071313,
     "end_time": "2022-04-19T17:18:11.449484",
     "exception": false,
     "start_time": "2022-04-19T17:18:11.378171",
     "status": "completed"
    },
    "tags": []
   },
   "outputs": [],
   "source": [
    " \n",
    "# fitz.__version__"
   ]
  },
  {
   "cell_type": "code",
   "execution_count": 4,
   "id": "5bd5ea72",
   "metadata": {
    "execution": {
     "iopub.execute_input": "2022-04-19T17:18:11.573835Z",
     "iopub.status.busy": "2022-04-19T17:18:11.573223Z",
     "iopub.status.idle": "2022-04-19T17:18:11.576119Z",
     "shell.execute_reply": "2022-04-19T17:18:11.576700Z",
     "shell.execute_reply.started": "2022-04-12T14:23:59.687259Z"
    },
    "papermill": {
     "duration": 0.066744,
     "end_time": "2022-04-19T17:18:11.576877",
     "exception": false,
     "start_time": "2022-04-19T17:18:11.510133",
     "status": "completed"
    },
    "tags": []
   },
   "outputs": [],
   "source": [
    "# !python -m spacy download en_core_web_sm"
   ]
  },
  {
   "cell_type": "code",
   "execution_count": null,
   "id": "e09167ad",
   "metadata": {
    "papermill": {
     "duration": 0.059931,
     "end_time": "2022-04-19T17:18:11.697205",
     "exception": false,
     "start_time": "2022-04-19T17:18:11.637274",
     "status": "completed"
    },
    "tags": []
   },
   "outputs": [],
   "source": []
  },
  {
   "cell_type": "code",
   "execution_count": 5,
   "id": "f7e26af5",
   "metadata": {
    "execution": {
     "iopub.execute_input": "2022-04-19T17:18:11.822197Z",
     "iopub.status.busy": "2022-04-19T17:18:11.821522Z",
     "iopub.status.idle": "2022-04-19T17:18:11.824454Z",
     "shell.execute_reply": "2022-04-19T17:18:11.824991Z",
     "shell.execute_reply.started": "2022-04-12T14:18:25.912243Z"
    },
    "papermill": {
     "duration": 0.067672,
     "end_time": "2022-04-19T17:18:11.825154",
     "exception": false,
     "start_time": "2022-04-19T17:18:11.757482",
     "status": "completed"
    },
    "tags": []
   },
   "outputs": [],
   "source": [
    "# import fitz\n",
    "# import spacy\n",
    "# import re\n",
    "# from pathlib import Path\n",
    "# import requests\n",
    "# import os"
   ]
  },
  {
   "cell_type": "code",
   "execution_count": 6,
   "id": "86b63dda",
   "metadata": {
    "execution": {
     "iopub.execute_input": "2022-04-19T17:18:11.951167Z",
     "iopub.status.busy": "2022-04-19T17:18:11.950487Z",
     "iopub.status.idle": "2022-04-19T17:18:11.954166Z",
     "shell.execute_reply": "2022-04-19T17:18:11.954749Z",
     "shell.execute_reply.started": "2022-04-12T15:03:43.5897Z"
    },
    "papermill": {
     "duration": 0.069522,
     "end_time": "2022-04-19T17:18:11.954931",
     "exception": false,
     "start_time": "2022-04-19T17:18:11.885409",
     "status": "completed"
    },
    "tags": []
   },
   "outputs": [],
   "source": [
    "# sql_db_json = [\n",
    "#   {\n",
    "#     \"document_id\": \"1\",\n",
    "#     \"area\": \"[72.1149,661.2966,131.95729,675.1716]\",\n",
    "#     \"page\": \"3\",\n",
    "#     \"text_\": \"Background\",\n",
    "#     \"type_of_selection\": \"Text\",\n",
    "#     \"entity_type\": \"name\",\n",
    "#     \"link\": \"https://redactable-devox-stage.s3.us-east-2.amazonaws.com/tenants/41d9e109-693b-444c-aa18-e5891bc6550b/original/1a7c0e5d-3237-4ca9-9e3d-89e707245ac6/D8communications.pdf\"\n",
    "#   },\n",
    "#   {\n",
    "#     \"document_id\": \"1\",\n",
    "#     \"area\": \"[290.55386,632.0173,322.14685,645.8923]\",\n",
    "#     \"page\": \"2\",\n",
    "#     \"text_\": \"INDEX\",\n",
    "#     \"type_of_selection\": \"Text\",\n",
    "#     \"entity_type\": \"address\",\n",
    "#     \"link\": \"https://redactable-devox-stage.s3.us-east-2.amazonaws.com/tenants/41d9e109-693b-444c-aa18-e5891bc6550b/original/1a7c0e5d-3237-4ca9-9e3d-89e707245ac6/D8communications.pdf\"\n",
    "#   }\n",
    "# ]"
   ]
  },
  {
   "cell_type": "code",
   "execution_count": 7,
   "id": "9a863541",
   "metadata": {
    "execution": {
     "iopub.execute_input": "2022-04-19T17:18:12.079619Z",
     "iopub.status.busy": "2022-04-19T17:18:12.078622Z",
     "iopub.status.idle": "2022-04-19T17:18:12.082518Z",
     "shell.execute_reply": "2022-04-19T17:18:12.082051Z",
     "shell.execute_reply.started": "2022-04-12T13:17:19.452695Z"
    },
    "papermill": {
     "duration": 0.06675,
     "end_time": "2022-04-19T17:18:12.082653",
     "exception": false,
     "start_time": "2022-04-19T17:18:12.015903",
     "status": "completed"
    },
    "tags": []
   },
   "outputs": [],
   "source": [
    "# l=pd.DataFrame()\n",
    "# k=(1, '[290.55386,632.0173,322.14685,645.8923]', 2, 'INDEX', 'Text', 'address', 'https://redactable-devox-s')\n",
    "# k\n"
   ]
  },
  {
   "cell_type": "code",
   "execution_count": 8,
   "id": "4afd7436",
   "metadata": {
    "execution": {
     "iopub.execute_input": "2022-04-19T17:18:12.208103Z",
     "iopub.status.busy": "2022-04-19T17:18:12.207341Z",
     "iopub.status.idle": "2022-04-19T17:18:12.209520Z",
     "shell.execute_reply": "2022-04-19T17:18:12.210041Z",
     "shell.execute_reply.started": "2022-04-12T16:09:33.708631Z"
    },
    "papermill": {
     "duration": 0.066996,
     "end_time": "2022-04-19T17:18:12.210209",
     "exception": false,
     "start_time": "2022-04-19T17:18:12.143213",
     "status": "completed"
    },
    "tags": []
   },
   "outputs": [],
   "source": [
    "# co=[\"document_id\",\"area\",\"page\",\"text_\",\"type_of_selection\",\"entity_type\",\"link\"]\n",
    "# val= [(1,'[72.1149,661.2966,131.95729,675.1716]',3,'Background','Text','name' ,'https://redactable-devox-stage.s3.us-east-2.am'), (1,  '[290.55386,632.0173,322.14685,645.8923]',2,'INDEX', 'Text','address','https://redactable-devox-stage.s3.us-east-2.am')]\n",
    "\n",
    "# df=pd.DataFrame(val,columns=[co])\n",
    "# #df.iloc[1] =[1,  '[290.55386,632.0173,322.14685,645.8923]',2,'INDEX', 'Text','address','https://redactable-devox-stage.s3.us-east-2.am']\n",
    "# df"
   ]
  },
  {
   "cell_type": "code",
   "execution_count": 9,
   "id": "160162af",
   "metadata": {
    "execution": {
     "iopub.execute_input": "2022-04-19T17:18:12.335573Z",
     "iopub.status.busy": "2022-04-19T17:18:12.334812Z",
     "iopub.status.idle": "2022-04-19T17:18:12.337718Z",
     "shell.execute_reply": "2022-04-19T17:18:12.337109Z",
     "shell.execute_reply.started": "2022-04-12T16:18:22.595374Z"
    },
    "papermill": {
     "duration": 0.067028,
     "end_time": "2022-04-19T17:18:12.337871",
     "exception": false,
     "start_time": "2022-04-19T17:18:12.270843",
     "status": "completed"
    },
    "tags": []
   },
   "outputs": [],
   "source": [
    "# prev=[]\n",
    "# for data,row in df.iterrows():\n",
    "#     if row['document_id'] not in prev:\n",
    "#         prev.append(row['document_id'])\n",
    "#         print('hey')"
   ]
  },
  {
   "cell_type": "code",
   "execution_count": 10,
   "id": "25fff18e",
   "metadata": {
    "execution": {
     "iopub.execute_input": "2022-04-19T17:18:12.464271Z",
     "iopub.status.busy": "2022-04-19T17:18:12.463241Z",
     "iopub.status.idle": "2022-04-19T17:18:12.468349Z",
     "shell.execute_reply": "2022-04-19T17:18:12.468811Z",
     "shell.execute_reply.started": "2022-04-12T15:03:48.248836Z"
    },
    "papermill": {
     "duration": 0.07026,
     "end_time": "2022-04-19T17:18:12.468986",
     "exception": false,
     "start_time": "2022-04-19T17:18:12.398726",
     "status": "completed"
    },
    "tags": []
   },
   "outputs": [],
   "source": [
    "# nlp = spacy.load('en_core_web_sm')\n",
    "# train_data = []\n",
    "\n",
    "# prev_doc_id = ''\n",
    "# i=0\n",
    "# temp='/kaggle/working'\n",
    "\n",
    "# for data in sql_db_json:\n",
    "#     if data['type_of_selection'] == 'Text':\n",
    "#         document_id = data['document_id']\n",
    "#         x1,y1,x2,y2 = data['area'][1:-1].split(',')\n",
    "#         url = data['link']\n",
    "#         page_no = int(data['page']) - 1 \n",
    "#         label = data['entity_type']\n",
    "#         filename = url.split('/')[-1]\n",
    "    \n",
    "#         #download the file to temp folder\n",
    "#         outpath = os.path.join(temp,filename)\n",
    "\n",
    "#         if document_id == prev_doc_id:\n",
    "#             pass\n",
    "#         else: \n",
    "#             i+=1\n",
    "#             print(i)\n",
    "#             response = requests.get(url)\n",
    "#             with open(outpath, \"wb\") as binary_file:\n",
    "#                 binary_file.write(response.content)\n",
    "\n",
    "#         doc = fitz.open(outpath)  # any supported document type\n",
    "#         page = doc[page_no]  # we want text from this page\n",
    "#         print('page dimension - ', page.rect.width, page.rect.height)\n",
    "\n",
    "#         #The co-ordinates in the DB are image co-ords. W.r.t pdf, y1 and y2 has to be interchanged.\n",
    "#         #To ensure entire word to be selected, slight correction in x1,y1,x2,y2 is done.\n",
    "\n",
    "#         rect = [float(x1)-2, 792 - float(y2)-2, float(x2)+2, 792 - float(y1)+2]\n",
    "#         print(rect)\n",
    "#         labelled_text = page.get_textbox(rect)\n",
    "\n",
    "#         #Removing all unprintable characters from the text\n",
    "#         string = re.sub('[^0-9a-zA-Z@?|\\/<>.,()&^%$#!]+', ' ', labelled_text)\n",
    "#         print('string : ', string)\n",
    "\n",
    "#         fulltext = page.get_text()\n",
    "#         doc = nlp(fulltext)\n",
    "\n",
    "#         sentences = []\n",
    "#         for sent in doc.sents:\n",
    "#             if string.strip() in sent.text:\n",
    "#                 text = re.sub('[^0-9a-zA-Z@?|\\/<>.,()&^%$#!]+', ' ', sent.text)\n",
    "\n",
    "#         res = re.search(string.strip(), text)\n",
    "\n",
    "#         entities = []\n",
    "#         entities.append((res.start(),res.end(),label))\n",
    "\n",
    "#         train_data.append((text,{'entities':entities}))\n",
    "\n",
    "# print('Training data in spacy format')\n",
    "# print('*****************************')\n",
    "# for i in range(0,len(train_data)):\n",
    "#     print(train_data[i])"
   ]
  },
  {
   "cell_type": "code",
   "execution_count": null,
   "id": "aeeec817",
   "metadata": {
    "papermill": {
     "duration": 0.059723,
     "end_time": "2022-04-19T17:18:12.589125",
     "exception": false,
     "start_time": "2022-04-19T17:18:12.529402",
     "status": "completed"
    },
    "tags": []
   },
   "outputs": [],
   "source": []
  },
  {
   "cell_type": "code",
   "execution_count": 11,
   "id": "ed09d6eb",
   "metadata": {
    "execution": {
     "iopub.execute_input": "2022-04-19T17:18:12.713704Z",
     "iopub.status.busy": "2022-04-19T17:18:12.712656Z",
     "iopub.status.idle": "2022-04-19T17:18:12.717871Z",
     "shell.execute_reply": "2022-04-19T17:18:12.718353Z",
     "shell.execute_reply.started": "2022-04-12T11:44:59.253637Z"
    },
    "papermill": {
     "duration": 0.069146,
     "end_time": "2022-04-19T17:18:12.718514",
     "exception": false,
     "start_time": "2022-04-19T17:18:12.649368",
     "status": "completed"
    },
    "tags": []
   },
   "outputs": [],
   "source": [
    "# nlp = spacy.load('en_core_web_sm')\n",
    "# train_data = []\n",
    "\n",
    "# prev_doc_id = ''\n",
    "# temp='/kaggle/working'\n",
    "# i=0\n",
    "# for data in sql_db_json:\n",
    "#     if data['type_of_selection'] == 'Text':\n",
    "#         document_id = data['document_id']\n",
    "#         x1,y1,x2,y2 = data['area'][1:-1].split(',')\n",
    "#         url = data['link']\n",
    "#         page_no = int(data['page']) - 1 \n",
    "#         label = data['entity_type']\n",
    "#         filename = url.split('/')[-1]\n",
    "    \n",
    "#         #download the file to temp folder\n",
    "#         i+=1\n",
    "#         print(i)\n",
    "#         response = requests.get(url)\n",
    "#         doc = fitz.open(stream=response.content,filetype=\"pdf\")  # any supported document type\n",
    "#         page = doc[page_no]  # we want text from this page\n",
    "#         print('page dimension - ', page.rect.width, page.rect.height)\n",
    "\n",
    "#         #The co-ordinates in the DB are image co-ords. W.r.t pdf, y1 and y2 has to be interchanged.\n",
    "#         #To ensure entire word to be selected, slight correction in x1,y1,x2,y2 is done.\n",
    "\n",
    "#         rect = [float(x1)-2, 792 - float(y2)-2, float(x2)+2, 792 - float(y1)+2]\n",
    "#         print(rect)\n",
    "#         labelled_text = page.get_textbox(rect)\n",
    "\n",
    "#         #Removing all unprintable characters from the text\n",
    "#         string = re.sub('[^0-9a-zA-Z@?|\\/<>.,()&^%$#!]+', ' ', labelled_text)\n",
    "#         print('string : ', string)\n",
    "\n",
    "#         fulltext = page.get_text()\n",
    "#         doc = nlp(fulltext)\n",
    "\n",
    "#         sentences = []\n",
    "#         for sent in doc.sents:\n",
    "#             if string.strip() in sent.text:\n",
    "#                 text = re.sub('[^0-9a-zA-Z@?|\\/<>.,()&^%$#!]+', ' ', sent.text)\n",
    "\n",
    "#         res = re.search(string.strip(), text)\n",
    "\n",
    "#         entities = []\n",
    "#         entities.append((res.start(),res.end(),label))\n",
    "\n",
    "#         train_data.append((text,{'entities':entities}))\n",
    "\n",
    "# print('Training data in spacy format')\n",
    "# print('*****************************')\n",
    "# for i in range(0,len(train_data)):\n",
    "#     print(train_data[i])"
   ]
  },
  {
   "cell_type": "code",
   "execution_count": 12,
   "id": "0db92c7f",
   "metadata": {
    "execution": {
     "iopub.execute_input": "2022-04-19T17:18:12.842645Z",
     "iopub.status.busy": "2022-04-19T17:18:12.841659Z",
     "iopub.status.idle": "2022-04-19T17:18:12.845467Z",
     "shell.execute_reply": "2022-04-19T17:18:12.845981Z"
    },
    "papermill": {
     "duration": 0.067509,
     "end_time": "2022-04-19T17:18:12.846149",
     "exception": false,
     "start_time": "2022-04-19T17:18:12.778640",
     "status": "completed"
    },
    "tags": []
   },
   "outputs": [],
   "source": [
    "# page dimension -  612.0 792.0\n",
    "# [70.1149, 114.82839999999999, 133.95729, 132.7034]\n",
    "# string :  Background\n",
    "# page dimension -  612.0 792.0\n",
    "# [288.55386, 144.10770000000002, 324.14685, 161.98270000000002]\n",
    "# string :  INDEX\n",
    "# Training data in spacy format\n",
    "# *****************************\n",
    "# (' 3 Background The Blue Ribbon Committee was created by the Mayor to assess various city communication methods and recommend opportunities to improve communications with residents, businesses and other organizations.', {'entities': [(3, 13, 'name')]})\n",
    "# (' 2 INDEX Background Pg. 3 Purpose Pg. 3 Process .', {'entities': [(3, 8, 'address')]})"
   ]
  },
  {
   "cell_type": "code",
   "execution_count": 13,
   "id": "cb13656d",
   "metadata": {
    "execution": {
     "iopub.execute_input": "2022-04-19T17:18:12.972142Z",
     "iopub.status.busy": "2022-04-19T17:18:12.971161Z",
     "iopub.status.idle": "2022-04-19T17:18:12.975380Z",
     "shell.execute_reply": "2022-04-19T17:18:12.975883Z",
     "shell.execute_reply.started": "2022-04-11T16:35:29.609712Z"
    },
    "papermill": {
     "duration": 0.068882,
     "end_time": "2022-04-19T17:18:12.976047",
     "exception": false,
     "start_time": "2022-04-19T17:18:12.907165",
     "status": "completed"
    },
    "tags": []
   },
   "outputs": [],
   "source": [
    "# nlp = spacy.load('en_core_web_sm')\n",
    "# outpath=r'/kaggle/input/sample-pdf/D8communications.pdf'\n",
    "# doc = fitz.open(outpath)  # any supported document type\n",
    "# page_no=3\n",
    "# page = doc[page_no-1]\n",
    "\n",
    "# x1,y1,x2,y2=(72.1149,661.2966,131.95729,675.1716)\n",
    "\n",
    "# rect = [float(x1)-2, 792 - float(y2)-2, float(x2)+2, 792 - float(y1)+2]\n",
    "# print(rect)\n",
    "# labelled_text = page.get_textbox(rect)\n",
    "# string = re.sub('[^0-9a-zA-Z@?|\\/<>.,()&^%$#!]+', ' ', labelled_text)\n",
    "# print('string : ', string)\n",
    "\n",
    "# fulltext = page.get_text()\n",
    "# doc = nlp(fulltext)\n",
    "\n",
    "# sentences = []\n",
    "# for sent in doc.sents:\n",
    "#             if string.strip() in sent.text:\n",
    "#                 text = re.sub('[^0-9a-zA-Z@?|\\/<>.,()&^%$#!]+', ' ', sent.text)\n",
    "\n",
    "#         res = re.search(string.strip(), text)\n",
    "\n",
    "#         entities = []\n",
    "#         entities.append((res.start(),res.end(),label))\n",
    "\n",
    "#         train_data.append((text,{'entities':entities}))\n",
    "\n"
   ]
  },
  {
   "cell_type": "code",
   "execution_count": 14,
   "id": "c25918e7",
   "metadata": {
    "execution": {
     "iopub.execute_input": "2022-04-19T17:18:13.100555Z",
     "iopub.status.busy": "2022-04-19T17:18:13.099611Z",
     "iopub.status.idle": "2022-04-19T17:18:13.102621Z",
     "shell.execute_reply": "2022-04-19T17:18:13.103183Z",
     "shell.execute_reply.started": "2022-04-11T16:35:41.679947Z"
    },
    "papermill": {
     "duration": 0.066728,
     "end_time": "2022-04-19T17:18:13.103340",
     "exception": false,
     "start_time": "2022-04-19T17:18:13.036612",
     "status": "completed"
    },
    "tags": []
   },
   "outputs": [],
   "source": [
    "#doc"
   ]
  },
  {
   "cell_type": "code",
   "execution_count": 15,
   "id": "d8fc25d4",
   "metadata": {
    "execution": {
     "iopub.execute_input": "2022-04-19T17:18:13.228413Z",
     "iopub.status.busy": "2022-04-19T17:18:13.227427Z",
     "iopub.status.idle": "2022-04-19T17:18:13.230514Z",
     "shell.execute_reply": "2022-04-19T17:18:13.231036Z",
     "shell.execute_reply.started": "2022-04-11T16:35:56.010353Z"
    },
    "papermill": {
     "duration": 0.067185,
     "end_time": "2022-04-19T17:18:13.231207",
     "exception": false,
     "start_time": "2022-04-19T17:18:13.164022",
     "status": "completed"
    },
    "tags": []
   },
   "outputs": [],
   "source": [
    "# sentences = []\n",
    "# for sent in doc.sents:\n",
    "#     if string.strip() in sent.text:\n",
    "#         text = re.sub('[^0-9a-zA-Z@?|\\/<>.,()&^%$#!]+', ' ', sent.text)"
   ]
  },
  {
   "cell_type": "code",
   "execution_count": 16,
   "id": "4d71ef20",
   "metadata": {
    "execution": {
     "iopub.execute_input": "2022-04-19T17:18:13.362950Z",
     "iopub.status.busy": "2022-04-19T17:18:13.362338Z",
     "iopub.status.idle": "2022-04-19T17:18:13.365000Z",
     "shell.execute_reply": "2022-04-19T17:18:13.365567Z",
     "shell.execute_reply.started": "2022-04-11T16:39:04.736143Z"
    },
    "papermill": {
     "duration": 0.066736,
     "end_time": "2022-04-19T17:18:13.365736",
     "exception": false,
     "start_time": "2022-04-19T17:18:13.299000",
     "status": "completed"
    },
    "tags": []
   },
   "outputs": [],
   "source": [
    "# k=nlp(\"he             kenny\")\n",
    "# for sent in k.sents:\n",
    "#     print(sent)"
   ]
  },
  {
   "cell_type": "code",
   "execution_count": 17,
   "id": "59b03b9b",
   "metadata": {
    "execution": {
     "iopub.execute_input": "2022-04-19T17:18:13.491015Z",
     "iopub.status.busy": "2022-04-19T17:18:13.490377Z",
     "iopub.status.idle": "2022-04-19T17:18:13.493016Z",
     "shell.execute_reply": "2022-04-19T17:18:13.493610Z",
     "shell.execute_reply.started": "2022-04-11T15:09:24.391421Z"
    },
    "papermill": {
     "duration": 0.066242,
     "end_time": "2022-04-19T17:18:13.493791",
     "exception": false,
     "start_time": "2022-04-19T17:18:13.427549",
     "status": "completed"
    },
    "tags": []
   },
   "outputs": [],
   "source": [
    "# text"
   ]
  },
  {
   "cell_type": "code",
   "execution_count": 18,
   "id": "96ba6a78",
   "metadata": {
    "execution": {
     "iopub.execute_input": "2022-04-19T17:18:13.617580Z",
     "iopub.status.busy": "2022-04-19T17:18:13.616984Z",
     "iopub.status.idle": "2022-04-19T17:18:13.619549Z",
     "shell.execute_reply": "2022-04-19T17:18:13.620155Z",
     "shell.execute_reply.started": "2022-04-11T15:09:31.9599Z"
    },
    "papermill": {
     "duration": 0.066187,
     "end_time": "2022-04-19T17:18:13.620329",
     "exception": false,
     "start_time": "2022-04-19T17:18:13.554142",
     "status": "completed"
    },
    "tags": []
   },
   "outputs": [],
   "source": [
    "# res = re.search(string.strip(), text)\n",
    "# res"
   ]
  },
  {
   "cell_type": "code",
   "execution_count": 19,
   "id": "7bc7082e",
   "metadata": {
    "execution": {
     "iopub.execute_input": "2022-04-19T17:18:13.744865Z",
     "iopub.status.busy": "2022-04-19T17:18:13.744149Z",
     "iopub.status.idle": "2022-04-19T17:18:13.746735Z",
     "shell.execute_reply": "2022-04-19T17:18:13.747339Z",
     "shell.execute_reply.started": "2022-04-11T15:12:41.311242Z"
    },
    "papermill": {
     "duration": 0.066991,
     "end_time": "2022-04-19T17:18:13.747497",
     "exception": false,
     "start_time": "2022-04-19T17:18:13.680506",
     "status": "completed"
    },
    "tags": []
   },
   "outputs": [],
   "source": [
    "# entities = []\n",
    "# entities.append((res.start(),res.end(),'p'))"
   ]
  },
  {
   "cell_type": "code",
   "execution_count": 20,
   "id": "8368048e",
   "metadata": {
    "execution": {
     "iopub.execute_input": "2022-04-19T17:18:13.872199Z",
     "iopub.status.busy": "2022-04-19T17:18:13.871556Z",
     "iopub.status.idle": "2022-04-19T17:18:13.874159Z",
     "shell.execute_reply": "2022-04-19T17:18:13.874733Z",
     "shell.execute_reply.started": "2022-04-11T15:12:52.736619Z"
    },
    "papermill": {
     "duration": 0.066808,
     "end_time": "2022-04-19T17:18:13.874913",
     "exception": false,
     "start_time": "2022-04-19T17:18:13.808105",
     "status": "completed"
    },
    "tags": []
   },
   "outputs": [],
   "source": [
    "# entities"
   ]
  },
  {
   "cell_type": "code",
   "execution_count": 21,
   "id": "0b5fa0d2",
   "metadata": {
    "execution": {
     "iopub.execute_input": "2022-04-19T17:18:13.999870Z",
     "iopub.status.busy": "2022-04-19T17:18:13.999215Z",
     "iopub.status.idle": "2022-04-19T17:18:14.002172Z",
     "shell.execute_reply": "2022-04-19T17:18:14.002779Z",
     "shell.execute_reply.started": "2022-04-11T15:06:11.546217Z"
    },
    "papermill": {
     "duration": 0.067285,
     "end_time": "2022-04-19T17:18:14.002948",
     "exception": false,
     "start_time": "2022-04-19T17:18:13.935663",
     "status": "completed"
    },
    "tags": []
   },
   "outputs": [],
   "source": [
    "# text"
   ]
  },
  {
   "cell_type": "code",
   "execution_count": null,
   "id": "156e4778",
   "metadata": {
    "execution": {
     "iopub.execute_input": "2022-04-11T15:02:33.300092Z",
     "iopub.status.busy": "2022-04-11T15:02:33.299778Z",
     "iopub.status.idle": "2022-04-11T15:02:33.30711Z",
     "shell.execute_reply": "2022-04-11T15:02:33.306345Z",
     "shell.execute_reply.started": "2022-04-11T15:02:33.300061Z"
    },
    "papermill": {
     "duration": 0.062007,
     "end_time": "2022-04-19T17:18:14.126282",
     "exception": false,
     "start_time": "2022-04-19T17:18:14.064275",
     "status": "completed"
    },
    "tags": []
   },
   "outputs": [],
   "source": []
  },
  {
   "cell_type": "code",
   "execution_count": 22,
   "id": "b261d054",
   "metadata": {
    "execution": {
     "iopub.execute_input": "2022-04-19T17:18:14.250301Z",
     "iopub.status.busy": "2022-04-19T17:18:14.249623Z",
     "iopub.status.idle": "2022-04-19T17:18:14.252469Z",
     "shell.execute_reply": "2022-04-19T17:18:14.253075Z",
     "shell.execute_reply.started": "2022-04-11T16:21:02.863037Z"
    },
    "papermill": {
     "duration": 0.066522,
     "end_time": "2022-04-19T17:18:14.253238",
     "exception": false,
     "start_time": "2022-04-19T17:18:14.186716",
     "status": "completed"
    },
    "tags": []
   },
   "outputs": [],
   "source": [
    "# import spacy\n",
    "# nlp = spacy.load('en_core_web_sm')"
   ]
  },
  {
   "cell_type": "code",
   "execution_count": 23,
   "id": "5172596b",
   "metadata": {
    "execution": {
     "iopub.execute_input": "2022-04-19T17:18:14.379232Z",
     "iopub.status.busy": "2022-04-19T17:18:14.378295Z",
     "iopub.status.idle": "2022-04-19T17:18:14.381021Z",
     "shell.execute_reply": "2022-04-19T17:18:14.380394Z",
     "shell.execute_reply.started": "2022-04-09T12:19:47.776612Z"
    },
    "papermill": {
     "duration": 0.067362,
     "end_time": "2022-04-19T17:18:14.381152",
     "exception": false,
     "start_time": "2022-04-19T17:18:14.313790",
     "status": "completed"
    },
    "tags": []
   },
   "outputs": [],
   "source": [
    "# !pip install PyPDF2\n",
    "# import PyPDF2\n",
    "# fhandle = open(r'/kaggle/input/sample-pdf/D8communications.pdf', 'rb')\n",
    "# pdfReader = PyPDF2.PdfFileReader(fhandle)\n",
    "# pagehandle = pdfReader.getPage(4)\n",
    "# print(pagehandle.extractText())"
   ]
  },
  {
   "cell_type": "code",
   "execution_count": 24,
   "id": "6942e3e3",
   "metadata": {
    "execution": {
     "iopub.execute_input": "2022-04-19T17:18:14.506052Z",
     "iopub.status.busy": "2022-04-19T17:18:14.505409Z",
     "iopub.status.idle": "2022-04-19T17:18:14.508369Z",
     "shell.execute_reply": "2022-04-19T17:18:14.508960Z",
     "shell.execute_reply.started": "2022-04-09T12:25:37.701467Z"
    },
    "papermill": {
     "duration": 0.066457,
     "end_time": "2022-04-19T17:18:14.509122",
     "exception": false,
     "start_time": "2022-04-19T17:18:14.442665",
     "status": "completed"
    },
    "tags": []
   },
   "outputs": [],
   "source": [
    "# !pip install pdfplumber\n",
    "# import pdfplumber\n",
    "# with pdfplumber.open(r'/kaggle/input/sample-pdf/D8communications.pdf') as pdf:\n",
    "#     first_page = pdf.pages[3]\n",
    "#     print(first_page.extract_text())"
   ]
  },
  {
   "cell_type": "code",
   "execution_count": 25,
   "id": "d9462d2a",
   "metadata": {
    "execution": {
     "iopub.execute_input": "2022-04-19T17:18:14.634592Z",
     "iopub.status.busy": "2022-04-19T17:18:14.633972Z",
     "iopub.status.idle": "2022-04-19T17:18:14.635356Z",
     "shell.execute_reply": "2022-04-19T17:18:14.635884Z",
     "shell.execute_reply.started": "2022-04-09T12:25:49.584635Z"
    },
    "papermill": {
     "duration": 0.066694,
     "end_time": "2022-04-19T17:18:14.636044",
     "exception": false,
     "start_time": "2022-04-19T17:18:14.569350",
     "status": "completed"
    },
    "tags": []
   },
   "outputs": [],
   "source": [
    "# !pip install pytesseract"
   ]
  },
  {
   "cell_type": "code",
   "execution_count": 26,
   "id": "fc8586fc",
   "metadata": {
    "execution": {
     "iopub.execute_input": "2022-04-19T17:18:14.760049Z",
     "iopub.status.busy": "2022-04-19T17:18:14.759367Z",
     "iopub.status.idle": "2022-04-19T17:18:14.761973Z",
     "shell.execute_reply": "2022-04-19T17:18:14.762458Z",
     "shell.execute_reply.started": "2022-04-09T14:49:10.656812Z"
    },
    "papermill": {
     "duration": 0.06615,
     "end_time": "2022-04-19T17:18:14.762620",
     "exception": false,
     "start_time": "2022-04-19T17:18:14.696470",
     "status": "completed"
    },
    "tags": []
   },
   "outputs": [],
   "source": [
    "# #!pip install pdf2image\n",
    "# !pip install poppler"
   ]
  },
  {
   "cell_type": "code",
   "execution_count": 27,
   "id": "dbfae5ed",
   "metadata": {
    "execution": {
     "iopub.execute_input": "2022-04-19T17:18:14.887071Z",
     "iopub.status.busy": "2022-04-19T17:18:14.886395Z",
     "iopub.status.idle": "2022-04-19T17:18:14.890023Z",
     "shell.execute_reply": "2022-04-19T17:18:14.889473Z",
     "shell.execute_reply.started": "2022-04-09T14:57:24.756677Z"
    },
    "papermill": {
     "duration": 0.066985,
     "end_time": "2022-04-19T17:18:14.890161",
     "exception": false,
     "start_time": "2022-04-19T17:18:14.823176",
     "status": "completed"
    },
    "tags": []
   },
   "outputs": [],
   "source": [
    "# pdf2image.convert_from_path('/kaggle/input/sample-pdf/D8communications.pdf')"
   ]
  },
  {
   "cell_type": "code",
   "execution_count": 28,
   "id": "2bc7b12a",
   "metadata": {
    "execution": {
     "iopub.execute_input": "2022-04-19T17:18:15.014373Z",
     "iopub.status.busy": "2022-04-19T17:18:15.013674Z",
     "iopub.status.idle": "2022-04-19T17:18:15.017983Z",
     "shell.execute_reply": "2022-04-19T17:18:15.017430Z",
     "shell.execute_reply.started": "2022-04-09T14:57:17.576149Z"
    },
    "papermill": {
     "duration": 0.06763,
     "end_time": "2022-04-19T17:18:15.018126",
     "exception": false,
     "start_time": "2022-04-19T17:18:14.950496",
     "status": "completed"
    },
    "tags": []
   },
   "outputs": [],
   "source": [
    "# import pdf2image\n",
    "# try:\n",
    "#     from PIL import Image\n",
    "# except ImportError:\n",
    "#     import Image\n",
    "# import pytesseract\n",
    "\n",
    "\n",
    "# def pdf_to_img(pdf_file):\n",
    "#     return pdf2image.convert_from_path(pdf_file)\n",
    "\n",
    "\n",
    "# def ocr_core(file):\n",
    "#     text = pytesseract.image_to_string(file)\n",
    "#     return text\n",
    "\n",
    "\n",
    "# def print_pages(pdf_file):\n",
    "#     images = pdf_to_img(pdf_file)\n",
    "#     for pg, img in enumerate(images):\n",
    "#         print(ocr_core(img))\n",
    "\n",
    "\n",
    "# print_pages('/kaggle/input/sample-pdf/D8communications.pdf')\n"
   ]
  },
  {
   "cell_type": "code",
   "execution_count": 29,
   "id": "2a0bb40c",
   "metadata": {
    "execution": {
     "iopub.execute_input": "2022-04-19T17:18:15.143649Z",
     "iopub.status.busy": "2022-04-19T17:18:15.142923Z",
     "iopub.status.idle": "2022-04-19T17:18:15.145479Z",
     "shell.execute_reply": "2022-04-19T17:18:15.144974Z"
    },
    "papermill": {
     "duration": 0.06712,
     "end_time": "2022-04-19T17:18:15.145610",
     "exception": false,
     "start_time": "2022-04-19T17:18:15.078490",
     "status": "completed"
    },
    "tags": []
   },
   "outputs": [],
   "source": [
    "# import requests\n",
    "# import fitz\n",
    "# import io\n",
    "\n",
    "# #URL = 'https://buildmedia.readthedocs.org/media/pdf/pdfminer-docs/latest/pdfminer-docs.pdf'\n",
    "# URL = 'https://redactable-devox-stage.s3.us-east-2.amazonaws.com/tenants/41d9e109-693b-444c-aa18-e5891bc6550b/original/1a7c0e5d-3237-4ca9-9e3d-89e707245ac6/D8communications.pdf'\n",
    "\n",
    "\n",
    "# res = requests.get(URL)\n",
    "# filestream = io.BytesIO(res.content)\n",
    "# #res.content\n",
    "# filestream\n",
    "# doc = fitz.Document(stream=filestream)\n",
    "# page1 = doc.loadPage(3)\n",
    "# page1text = page1.getText(\"text\").encode(\"utf-8\").decode(\"utf-8\")\n",
    "# print(page1text)"
   ]
  },
  {
   "cell_type": "code",
   "execution_count": 30,
   "id": "158430a3",
   "metadata": {
    "execution": {
     "iopub.execute_input": "2022-04-19T17:18:15.269733Z",
     "iopub.status.busy": "2022-04-19T17:18:15.269087Z",
     "iopub.status.idle": "2022-04-19T17:18:15.272643Z",
     "shell.execute_reply": "2022-04-19T17:18:15.273162Z",
     "shell.execute_reply.started": "2022-04-09T07:04:56.590103Z"
    },
    "papermill": {
     "duration": 0.067186,
     "end_time": "2022-04-19T17:18:15.273334",
     "exception": false,
     "start_time": "2022-04-19T17:18:15.206148",
     "status": "completed"
    },
    "tags": []
   },
   "outputs": [],
   "source": [
    "# import requests\n",
    "# import fitz\n",
    "\n",
    "# #URL = 'https://buildmedia.readthedocs.org/media/pdf/pdfminer-docs/latest/pdfminer-docs.pdf'\n",
    "# URL = 'https://redactable-devox-stage.s3.us-east-2.amazonaws.com/tenants/41d9e109-693b-444c-aa18-e5891bc6550b/original/1a7c0e5d-3237-4ca9-9e3d-89e707245ac6/D8communications.pdf'\n",
    "\n",
    "\n",
    "# res = requests.get(URL)\n",
    "# doc = fitz.open(stream=res.content,filetype=\"pdf\")\n",
    "# page1 = doc.loadPage(3)\n",
    "# page1text = page1.getText(\"text\")\n",
    "# #rect = (72.1149,661.2966,131.95729,675.1716)\n",
    "# rect=(72.10812377929688, 116.13427734375, 133.97142028808594, 146.4227294921875)\n",
    "# labelled_text = page1.get_textbox(rect)\n",
    "# print(labelled_text.strip())\n",
    "\n",
    "# fulltext = page1.get_text()\n",
    "# print(fulltext)\n",
    "# doc = nlp(fulltext)\n",
    "# sentences = []\n",
    "# for sent in doc.sents:\n",
    "#     if labelled_text in sent.text:\n",
    "#         text = sent.text\n",
    "#         print(text)\n",
    "# #print(page1text)"
   ]
  },
  {
   "cell_type": "code",
   "execution_count": 31,
   "id": "22b17ed1",
   "metadata": {
    "execution": {
     "iopub.execute_input": "2022-04-19T17:18:15.400662Z",
     "iopub.status.busy": "2022-04-19T17:18:15.399832Z",
     "iopub.status.idle": "2022-04-19T17:18:15.402638Z",
     "shell.execute_reply": "2022-04-19T17:18:15.402090Z",
     "shell.execute_reply.started": "2022-04-08T16:42:57.6659Z"
    },
    "papermill": {
     "duration": 0.066725,
     "end_time": "2022-04-19T17:18:15.402792",
     "exception": false,
     "start_time": "2022-04-19T17:18:15.336067",
     "status": "completed"
    },
    "tags": []
   },
   "outputs": [],
   "source": [
    "#res.content"
   ]
  },
  {
   "cell_type": "code",
   "execution_count": 32,
   "id": "d0bccf51",
   "metadata": {
    "execution": {
     "iopub.execute_input": "2022-04-19T17:18:15.530046Z",
     "iopub.status.busy": "2022-04-19T17:18:15.529132Z",
     "iopub.status.idle": "2022-04-19T17:18:15.531747Z",
     "shell.execute_reply": "2022-04-19T17:18:15.531172Z",
     "shell.execute_reply.started": "2022-04-08T16:48:05.672392Z"
    },
    "papermill": {
     "duration": 0.067658,
     "end_time": "2022-04-19T17:18:15.531903",
     "exception": false,
     "start_time": "2022-04-19T17:18:15.464245",
     "status": "completed"
    },
    "tags": []
   },
   "outputs": [],
   "source": [
    "# import fitz\n",
    "# # mem_area=\n",
    "# # doc = fitz.open(stream=mem_area, filetype=\"pdf\")\n",
    "\n",
    "# import requests\n",
    "\n",
    "# URL = 'https://redactable-devox-stage.s3.us-east-2.amazonaws.com/tenants/41d9e109-693b-444c-aa18-e5891bc6550b/original/1a7c0e5d-3237-4ca9-9e3d-89e707245ac6/D8communications.pdf'\n",
    "\n",
    "# #res = requests.get(URL)\n",
    "# doc=fitz.open(\"/kaggle/input/sample-pdf/D8communications.pdf\")\n",
    "# #doc = fitz.open(stream=res.content,filetype=\"pdf\")\n",
    "# page1 = doc.loadPage(4)\n",
    "# # page1text = page1.getText(\"text\")\n",
    "# # print(page1text)\n",
    "# blocks = page1.getText(\"blocks\")\n",
    "# blocks.sort(key=lambda block: block[1])  # sort vertically ascending\n",
    "\n",
    "# for b in blocks:\n",
    "#     print(b[4])\n"
   ]
  },
  {
   "cell_type": "code",
   "execution_count": 33,
   "id": "46ed62cc",
   "metadata": {
    "execution": {
     "iopub.execute_input": "2022-04-19T17:18:15.655932Z",
     "iopub.status.busy": "2022-04-19T17:18:15.655306Z",
     "iopub.status.idle": "2022-04-19T17:18:15.658086Z",
     "shell.execute_reply": "2022-04-19T17:18:15.658673Z",
     "shell.execute_reply.started": "2022-04-08T16:48:13.086323Z"
    },
    "papermill": {
     "duration": 0.066485,
     "end_time": "2022-04-19T17:18:15.658861",
     "exception": false,
     "start_time": "2022-04-19T17:18:15.592376",
     "status": "completed"
    },
    "tags": []
   },
   "outputs": [],
   "source": [
    "# # page = doc[1]\n",
    "# words = page.get_text(\"words\")\n",
    "# #print(words)\n",
    "# rect = (72.1149,661.2966,131.95729,675.1716)\n",
    "\n",
    "# labelled_text = page.get_textbox(rect)\n",
    "# # labelled_text"
   ]
  },
  {
   "cell_type": "markdown",
   "id": "05323b2a",
   "metadata": {
    "papermill": {
     "duration": 0.06084,
     "end_time": "2022-04-19T17:18:15.780644",
     "exception": false,
     "start_time": "2022-04-19T17:18:15.719804",
     "status": "completed"
    },
    "tags": []
   },
   "source": [
    "pip install PyPDF2"
   ]
  },
  {
   "cell_type": "code",
   "execution_count": null,
   "id": "63a6105b",
   "metadata": {
    "papermill": {
     "duration": 0.060714,
     "end_time": "2022-04-19T17:18:15.902178",
     "exception": false,
     "start_time": "2022-04-19T17:18:15.841464",
     "status": "completed"
    },
    "tags": []
   },
   "outputs": [],
   "source": []
  },
  {
   "cell_type": "code",
   "execution_count": 34,
   "id": "19416115",
   "metadata": {
    "execution": {
     "iopub.execute_input": "2022-04-19T17:18:16.026663Z",
     "iopub.status.busy": "2022-04-19T17:18:16.026043Z",
     "iopub.status.idle": "2022-04-19T17:18:16.028674Z",
     "shell.execute_reply": "2022-04-19T17:18:16.029356Z",
     "shell.execute_reply.started": "2022-03-18T16:48:58.370268Z"
    },
    "papermill": {
     "duration": 0.066309,
     "end_time": "2022-04-19T17:18:16.029517",
     "exception": false,
     "start_time": "2022-04-19T17:18:15.963208",
     "status": "completed"
    },
    "tags": []
   },
   "outputs": [],
   "source": [
    "# import pandas as pd\n",
    "# h={'step': 0, 'type': 'string', 'amount': 0.0, 'nameOrig': 'C1231006815', 'oldbalanceOrig': 0.0, 'newbalanceOrig': 0.0, 'nameDest': 'M1979787155', 'oldbalanceDest': 0.0, 'newbalanceDest': 0.0}\n",
    "# df=pd.DataFrame([h])"
   ]
  },
  {
   "cell_type": "code",
   "execution_count": 35,
   "id": "f9c3efaf",
   "metadata": {
    "execution": {
     "iopub.execute_input": "2022-04-19T17:18:16.155322Z",
     "iopub.status.busy": "2022-04-19T17:18:16.154589Z",
     "iopub.status.idle": "2022-04-19T17:18:16.157214Z",
     "shell.execute_reply": "2022-04-19T17:18:16.157723Z",
     "shell.execute_reply.started": "2022-04-09T17:21:26.021615Z"
    },
    "papermill": {
     "duration": 0.067039,
     "end_time": "2022-04-19T17:18:16.157907",
     "exception": false,
     "start_time": "2022-04-19T17:18:16.090868",
     "status": "completed"
    },
    "tags": []
   },
   "outputs": [],
   "source": [
    "#df"
   ]
  },
  {
   "cell_type": "code",
   "execution_count": null,
   "id": "9705fa10",
   "metadata": {
    "papermill": {
     "duration": 0.060807,
     "end_time": "2022-04-19T17:18:16.280747",
     "exception": false,
     "start_time": "2022-04-19T17:18:16.219940",
     "status": "completed"
    },
    "tags": []
   },
   "outputs": [],
   "source": []
  }
 ],
 "metadata": {
  "kernelspec": {
   "display_name": "Python 3",
   "language": "python",
   "name": "python3"
  },
  "language_info": {
   "codemirror_mode": {
    "name": "ipython",
    "version": 3
   },
   "file_extension": ".py",
   "mimetype": "text/x-python",
   "name": "python",
   "nbconvert_exporter": "python",
   "pygments_lexer": "ipython3",
   "version": "3.7.12"
  },
  "papermill": {
   "default_parameters": {},
   "duration": 20.423117,
   "end_time": "2022-04-19T17:18:16.968736",
   "environment_variables": {},
   "exception": null,
   "input_path": "__notebook__.ipynb",
   "output_path": "__notebook__.ipynb",
   "parameters": {},
   "start_time": "2022-04-19T17:17:56.545619",
   "version": "2.3.3"
  }
 },
 "nbformat": 4,
 "nbformat_minor": 5
}
