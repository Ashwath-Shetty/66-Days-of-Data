{
 "cells": [
  {
   "cell_type": "code",
   "execution_count": 1,
   "id": "2ebaa284",
   "metadata": {
    "_cell_guid": "b1076dfc-b9ad-4769-8c92-a6c4dae69d19",
    "_uuid": "8f2839f25d086af736a60e9eeb907d3b93b6e0e5",
    "execution": {
     "iopub.execute_input": "2022-05-24T17:34:22.752021Z",
     "iopub.status.busy": "2022-05-24T17:34:22.750813Z",
     "iopub.status.idle": "2022-05-24T17:34:22.769552Z",
     "shell.execute_reply": "2022-05-24T17:34:22.770090Z",
     "shell.execute_reply.started": "2022-04-12T14:12:25.248687Z"
    },
    "papermill": {
     "duration": 0.097615,
     "end_time": "2022-05-24T17:34:22.770432",
     "exception": false,
     "start_time": "2022-05-24T17:34:22.672817",
     "status": "completed"
    },
    "tags": []
   },
   "outputs": [
    {
     "name": "stdout",
     "output_type": "stream",
     "text": [
      "/kaggle/input/sample-pdf/D8communications.pdf\n"
     ]
    }
   ],
   "source": [
    "# This Python 3 environment comes with many helpful analytics libraries installed\n",
    "# It is defined by the kaggle/python Docker image: https://github.com/kaggle/docker-python\n",
    "# For example, here's several helpful packages to load\n",
    "\n",
    "import numpy as np # linear algebra\n",
    "import pandas as pd # data processing, CSV file I/O (e.g. pd.read_csv)\n",
    "\n",
    "# Input data files are available in the read-only \"../input/\" directory\n",
    "# For example, running this (by clicking run or pressing Shift+Enter) will list all files under the input directory\n",
    "\n",
    "import os\n",
    "for dirname, _, filenames in os.walk('/kaggle/input'):\n",
    "    for filename in filenames:\n",
    "        print(os.path.join(dirname, filename))\n",
    "\n",
    "# You can write up to 20GB to the current directory (/kaggle/working/) that gets preserved as output when you create a version using \"Save & Run All\" \n",
    "# You can also write temporary files to /kaggle/temp/, but they won't be saved outside of the current session"
   ]
  },
  {
   "cell_type": "markdown",
   "id": "0816eb9f",
   "metadata": {
    "papermill": {
     "duration": 0.069384,
     "end_time": "2022-05-24T17:34:22.912259",
     "exception": false,
     "start_time": "2022-05-24T17:34:22.842875",
     "status": "completed"
    },
    "tags": []
   },
   "source": [
    "# **Start Date: 12/3/2022**"
   ]
  },
  {
   "cell_type": "markdown",
   "id": "1e8437a7",
   "metadata": {
    "papermill": {
     "duration": 0.068345,
     "end_time": "2022-05-24T17:34:23.049439",
     "exception": false,
     "start_time": "2022-05-24T17:34:22.981094",
     "status": "completed"
    },
    "tags": []
   },
   "source": [
    "# **Day 1:** \n",
    "<br>dataquest -> stats -> probability-> estimating probability\n",
    "1. out come is nothing but o/p of an experiment\n",
    "ex: whatever u get after rolling a dice -> it can be any number\n",
    "2. event can have more than one outcome\n",
    "- e.x: The event that we'll get an odd number when we roll a six-sided die — this event includes the outcomes 1, 3, and 5.\n",
    "- an event can be 0 as well.\n",
    "- We always assign probabilities to events, not outcomes, even if the event includes only one outcome.\n",
    "- P(E) =1/total number of possible outcomes, P(E) probability of an event happening.\n",
    "- but above formula doesn't work always, especially when there are more than one outcome\n",
    "    - P(E)=number of successful outcomes/total number of possible outcomes\n",
    "- incase of a biased situation \n",
    "  - let's say a die has 6 - 3 times which is 1,6,3,5,6,6\n",
    "    we will consider 6 as 3 times not 1.\n",
    "    possible outcome-> 1,3,5,6,6,6\n",
    "    prob(6)=3/6\n",
    "    prob(3)=1/6\n",
    "    prob(2)=0/6\n",
    "    If we didn't treat each 6 differently and said it doesn't matter which side a 6 is on, \n",
    "    <br>we'd be forced to conclude the only possible outcomes are 1, 3, 5 and 6. We can definitely         <br>frame the problem like that, but the formula above won't work anymore — we see below P(6) <br>becomes the same as P(3), but, intuitively, P(6) should be higher than P(3) since the die has 6 on     <br>three of its sides:\n"
   ]
  },
  {
   "cell_type": "markdown",
   "id": "4bca7876",
   "metadata": {
    "papermill": {
     "duration": 0.067643,
     "end_time": "2022-05-24T17:34:23.192417",
     "exception": false,
     "start_time": "2022-05-24T17:34:23.124774",
     "status": "completed"
    },
    "tags": []
   },
   "source": [
    "Estimating Probabilities Conclusion\n",
    "- emperical/ experimental probability\n",
    "  - probability achieved by experimenting / by doing the same event multiple times.\n",
    "  - Generally, for any event E (like a coin landing heads up), we can find its empirical probability   \n",
    "     by using the following formula: \n",
    "     •P (E) =number of times event E happened/ number of times we repeated the experiment   \n",
    " - Generally, the empirical probability of an event (a coin landing heads up, getting a 5 when weroll a die) approaches the true probability value as the number of trials of the randomexperiment (a coin toss, the rolling of a die) increases without bound.\n",
    "- When we calculate the probability of an event under the assumption that the outcomes have equal chances of occurring, we say that we're calculating the **theoretical probability** of an event.\n",
    "   - P(E)=number of successful outcomes/total number of possible outcomes\n",
    "\n"
   ]
  },
  {
   "cell_type": "markdown",
   "id": "de2848f3",
   "metadata": {
    "papermill": {
     "duration": 0.069021,
     "end_time": "2022-05-24T17:34:23.329934",
     "exception": false,
     "start_time": "2022-05-24T17:34:23.260913",
     "status": "completed"
    },
    "tags": []
   },
   "source": [
    "# **Day 2**\n",
    "<br>dataquest-> stats -> intro to probability -> probability rules\n",
    "<br>In probability theory, the set of all possible outcomes is called a sample space. A sample space is often denoted by the capital Greek letter Ω (read \"omega\"). This is how we represent the sample space of a die roll:\n",
    "\n",
    "Ω = {1,2,3,4,5,6}\n",
    "-    The probability of any event ranges between 0 and 1: 0≤ P(Event) ≤1\n",
    "- To calculate P(A or B), we can also use the formula below, which is sometimes called the addition rule: P(A or B) = P(A) + P(B)\n",
    "  - Sample space ={ 1,2,3,4,5,6} \n",
    "  - P(2 or 5) = 2/6\n",
    "\n",
    "- P(C or D) = P(C) + P(D) - P(C and D)\n",
    "   - e.x : Sample_space ={2,4,6} + { 4,5,6} - {4/6}\n",
    "      P( even number or number greater than 3) = ( (3/6) + (3/6) )- (2/6) = 4/6\n",
    "- Events that don't intersect are called mutually exclusive.\n",
    "  - e.x: Getting a 5 (event one) and getting a 3 (event two) when we roll a regular six-sided die — it's  impossible to get both a 5 and 3.\n",
    "- Events that intersect are called mutually non-exclusive.\n",
    "  - Getting a number greater than 2 (event one) and getting an odd number (event two) when we roll a regular six-sided die — we could get a 5, which is both greater than 2 (event one) and odd (event two).\n",
    "- unioun -> A or B, intersection -> A and B"
   ]
  },
  {
   "cell_type": "markdown",
   "id": "b8c79e8c",
   "metadata": {
    "papermill": {
     "duration": 0.068828,
     "end_time": "2022-05-24T17:34:23.466752",
     "exception": false,
     "start_time": "2022-05-24T17:34:23.397924",
     "status": "completed"
    },
    "tags": []
   },
   "source": [
    "# Day 3 and 4\n",
    "dataquest -> stats -> probabilities -> solving complex probabilities\n",
    "- This is the same result we got from our previous approach. In more general terms, the multiplication rule says that for two events E1 and E2, the probability that both event E1 and E2 happen can be found by multiplying the probability of E1 by the probability of E2:\n",
    "    - P(E1 ∩ E2) = P(E1) × P(E2)\n",
    "    - Events that don't influence each other's probability are called independent events. If H1 happens, P(H2) stays the same, so H1 and H2 are independent. The multiplication rule we learned only works for independent events.\n",
    "    "
   ]
  },
  {
   "cell_type": "markdown",
   "id": "ab7e03c9",
   "metadata": {
    "papermill": {
     "duration": 0.069317,
     "end_time": "2022-05-24T17:34:23.604715",
     "exception": false,
     "start_time": "2022-05-24T17:34:23.535398",
     "status": "completed"
    },
    "tags": []
   },
   "source": [
    "# Day 5\n",
    "- When we replace the cards after drawing, we say that we're sampling with replacement. When we don't put the cards back, we're sampling without replacement. \n"
   ]
  },
  {
   "cell_type": "markdown",
   "id": "cf7db5b7",
   "metadata": {
    "papermill": {
     "duration": 0.068098,
     "end_time": "2022-05-24T17:34:23.741506",
     "exception": false,
     "start_time": "2022-05-24T17:34:23.673408",
     "status": "completed"
    },
    "tags": []
   },
   "source": [
    "# Day6\n",
    "dataquest-> prob and stats -> probability fundamentals -> permutation and combinations\n",
    "Generally, if we have an experiment E1 (like flipping a coin) with a outcomes, followed by an experiment E2 (like rolling a die) with b outcomes, then the total number of outcomes for the composite experiment E1E2 can be found by multiplying a with b:\n",
    "\n",
    "Number of outcomes = a * b"
   ]
  },
  {
   "cell_type": "markdown",
   "id": "25d9e999",
   "metadata": {
    "papermill": {
     "duration": 0.068954,
     "end_time": "2022-05-24T17:34:23.878784",
     "exception": false,
     "start_time": "2022-05-24T17:34:23.809830",
     "status": "completed"
    },
    "tags": []
   },
   "source": [
    "# Day 7\n",
    "dataquest-> prob and stats -> probability fundamentals -> permutation and combinations <br>\n",
    "More generally, if we have an experiment E1 with a outcomes, followed by an experiment E2 with b outcomes, followed by an experiment En with z outcomes, the total number of outcomes for the composite experiment E1E2 ... En can be found by multiplying their individual outcomes:\n",
    "\n",
    "Number of outcomes= a * b * … * z"
   ]
  },
  {
   "cell_type": "markdown",
   "id": "6f9be002",
   "metadata": {
    "papermill": {
     "duration": 0.068677,
     "end_time": "2022-05-24T17:34:24.015647",
     "exception": false,
     "start_time": "2022-05-24T17:34:23.946970",
     "status": "completed"
    },
    "tags": []
   },
   "source": [
    "# Day 8\n",
    "dataquest-> prob and stats -> probability fundamentals -> permutation and combinations <br>\n",
    "permutations= n*(n-1)*(n-2)*....*2*1\n"
   ]
  },
  {
   "cell_type": "markdown",
   "id": "c8370e14",
   "metadata": {
    "papermill": {
     "duration": 0.071437,
     "end_time": "2022-05-24T17:34:24.158756",
     "exception": false,
     "start_time": "2022-05-24T17:34:24.087319",
     "status": "completed"
    },
    "tags": []
   },
   "source": [
    "# Day 9\n",
    "dataquest-> prob and stats -> probability fundamentals -> permutation and combinations\n",
    "- in permutation order of the individual element in the arranement matters.\n",
    "   - for e.x: 9821 is different than 9281\n",
    "   - Permutations =n!  --> sample without replacement-> we are not putting back the sampled data.\n",
    "   - On the last screen, we learned to use the formula below to calculate permutations when we're sampling without replacement and taking only k objects from a group of n objects:\n",
    "   npk=n!/(n-k)!"
   ]
  },
  {
   "cell_type": "markdown",
   "id": "cf5d5b8e",
   "metadata": {
    "papermill": {
     "duration": 0.067768,
     "end_time": "2022-05-24T17:34:24.295550",
     "exception": false,
     "start_time": "2022-05-24T17:34:24.227782",
     "status": "completed"
    },
    "tags": []
   },
   "source": [
    "# Day 10\n",
    "dataquest-> prob and stats -> probability fundamentals -> permutation and combinations\n",
    "- More generally, if the order of the elements in an arrangement doesn't matter, the arrangement is called a combination.\n",
    "- e.x: cards in a deck \n",
    "- nCk = n! / ((n-k)!*k!)"
   ]
  },
  {
   "cell_type": "markdown",
   "id": "2d5506ba",
   "metadata": {
    "papermill": {
     "duration": 0.068515,
     "end_time": "2022-05-24T17:34:24.432396",
     "exception": false,
     "start_time": "2022-05-24T17:34:24.363881",
     "status": "completed"
    },
    "tags": []
   },
   "source": [
    "# Day 11\n",
    "dataquest-> prob and stats -> probability fundamentals -> permutation and combinations\n",
    "- solved 1 probability problem.\n"
   ]
  },
  {
   "cell_type": "markdown",
   "id": "a6b557cd",
   "metadata": {
    "papermill": {
     "duration": 0.068137,
     "end_time": "2022-05-24T17:34:24.569458",
     "exception": false,
     "start_time": "2022-05-24T17:34:24.501321",
     "status": "completed"
    },
    "tags": []
   },
   "source": [
    "# Day 12\n",
    "dataquest-> prob and stats -> probability fundamentals -> permutation and combinations\n",
    "- finished probability and permutations by revising them.\n",
    "- If we have an experiment E1 (like flipping a coin) with a outcomes, followed by an experiment E2(like rolling a die) with b outcomes, then the total number of outcomes for the compositeexperiment E1E2 can be found by multiplying a with b (this is known as the rule of product):\n",
    "  - number of outcomes = a*b\n",
    "- If we have an experiment E1 with a outcomes, followed by an experiment E2 with b outcomes,followed by an experiment En with z outcomes, the total number of outcomes for the compositeexperiment E1E2 ... En can be found by multiplying their individual outcomes:\n",
    "   - number of outcomes = a*b* ... *z\n",
    "- There are two kinds of arrangements:\n",
    "   - •Arrangements where the order matters, which we call permutations.\n",
    "   - •Arrangements where the order doesn't matter, which we call combination\n",
    "- To find the number of permutations when we're sampling without replacement, we can use theformula:\n",
    "  - permutation = n!\n",
    "- To find the number of permutations when we're sampling without replacement and taking only kobjects from a group of n objects, we can use the formula:\n",
    "  - nPk = n!/(n-k)!\n",
    "- To find the number of combinations when we're sampling without replacement and taking only kobjects from a group of n objects, we can use the formula\n",
    "  - nCk = n! / ((n-k)!*k!)"
   ]
  },
  {
   "cell_type": "markdown",
   "id": "577731d3",
   "metadata": {
    "papermill": {
     "duration": 0.067908,
     "end_time": "2022-05-24T17:34:24.706698",
     "exception": false,
     "start_time": "2022-05-24T17:34:24.638790",
     "status": "completed"
    },
    "tags": []
   },
   "source": [
    "# Day 13\n",
    "dataquest-> prob and stats -> probability fundamentals -> conditional probabilities\n",
    "- first 2 slides -> mainly the recap of old chapter(above one).\n"
   ]
  },
  {
   "cell_type": "markdown",
   "id": "de4854a2",
   "metadata": {
    "papermill": {
     "duration": 0.068012,
     "end_time": "2022-05-24T17:34:24.845546",
     "exception": false,
     "start_time": "2022-05-24T17:34:24.777534",
     "status": "completed"
    },
    "tags": []
   },
   "source": [
    "# Day 14\n",
    "dataquest-> prob and stats -> probability fundamentals -> conditional probabilities\n",
    "<br>slide 4 completed\n",
    "<br>conditional probabilities\n",
    "- probabilities with condition\n",
    "- P(5)=What is the probability of getting a 5? -> normal probability\n",
    "- P(5 | odd) =What is the probability of getting a 5 given the die showed an odd number? -> conditional prob.\n",
    "\n"
   ]
  },
  {
   "cell_type": "markdown",
   "id": "42433c23",
   "metadata": {
    "papermill": {
     "duration": 0.067759,
     "end_time": "2022-05-24T17:34:24.981815",
     "exception": false,
     "start_time": "2022-05-24T17:34:24.914056",
     "status": "completed"
    },
    "tags": []
   },
   "source": [
    "# Day 15\n",
    "dataquest-> prob and stats -> probability fundamentals -> conditional probabilities\n",
    "- on slide 5 not done yet.\n",
    "\n",
    "Say we roll a fair six-sided die and want to find the probability of getting an odd number, given the die showed a number greater than 1 after landing. Using probability notation, we want to find P(A|B) where:\n",
    "\n",
    "- A is the event that the number is odd: A = {1, 3, 5}\n",
    "- B is the event that the number is greater than 1: B = {2, 3, 4, 5, 6}\n",
    "- P(A/B)=number of succesfull outcomes / total number of outcomes.\n"
   ]
  },
  {
   "cell_type": "markdown",
   "id": "f9ed0d15",
   "metadata": {
    "papermill": {
     "duration": 0.068557,
     "end_time": "2022-05-24T17:34:25.120539",
     "exception": false,
     "start_time": "2022-05-24T17:34:25.051982",
     "status": "completed"
    },
    "tags": []
   },
   "source": [
    "# Day 16 and 17\n",
    "dataquest-> prob and stats -> probability fundamentals -> conditional probabilities\n",
    "\n",
    "on slide 6 not done yet."
   ]
  },
  {
   "cell_type": "markdown",
   "id": "a12aefe3",
   "metadata": {
    "papermill": {
     "duration": 0.067946,
     "end_time": "2022-05-24T17:34:25.256654",
     "exception": false,
     "start_time": "2022-05-24T17:34:25.188708",
     "status": "completed"
    },
    "tags": []
   },
   "source": [
    "# Day 18\n",
    "dataquest-> prob and stats -> probability fundamentals -> conditional probabilities\n",
    "<br>slide 5 code half done"
   ]
  },
  {
   "cell_type": "markdown",
   "id": "76235b40",
   "metadata": {
    "papermill": {
     "duration": 0.067726,
     "end_time": "2022-05-24T17:34:25.392534",
     "exception": false,
     "start_time": "2022-05-24T17:34:25.324808",
     "status": "completed"
    },
    "tags": []
   },
   "source": [
    "# Day 19\n",
    "- The number of elements in a set is called the cardinal of the set. \n",
    "  Ω is a set, and the cardinal of \n",
    "   Ω = { 2,3,4,5,6}\n",
    "   cardinal(Ω)=5\n",
    "- P(A | B) = card(A ∩ B) / card(B)\n",
    "- Say we roll a fair six-sided die and want to find the probability of getting an odd number, given the die showed a number greater than 1 after landing. Using probability notation, we want to find P(A|B) where:\n",
    "    - A is the event that the number is odd: A = {1, 3, 5}\n",
    "     - B is the event that the number is greater than 1: B = {2, 3, 4, 5, 6}\n",
    "     - total number of possible outcomes = card({2,3,4,5,6}) =5\n",
    "     - number of successful outcomes = card({3,5})= 2\n",
    "- P(A | B) = card(A ∩ B) / card(B), we can also get the same result using P(A | B) = prob(A ∩ B) / prob(B)\n",
    "\n",
    "     "
   ]
  },
  {
   "cell_type": "markdown",
   "id": "05feb8b7",
   "metadata": {
    "papermill": {
     "duration": 0.067834,
     "end_time": "2022-05-24T17:34:25.528621",
     "exception": false,
     "start_time": "2022-05-24T17:34:25.460787",
     "status": "completed"
    },
    "tags": []
   },
   "source": [
    "# Day 20\n",
    "dataquest-> prob and stats -> probability fundamentals -> conditional probabilities intermediate\n",
    "<br> slide 1 and 2\n",
    "- P( A | B ) ≠ P(A ∩ B), but rather:\n",
    "   - P(A | B) = P(A ∩ B) / P(B)\n",
    "   - P(A ∩ B) = P(A | B) ⋅ P(B)\n",
    "- Given that a customer bought a laptop, they will or will not also buy a mouse. This means we can be certain that either event (M|L) or (M^C|L) will happen:\n",
    "     - P(M | L) + P(M^C | L) = 1\n",
    "\n"
   ]
  },
  {
   "cell_type": "markdown",
   "id": "0f6363a7",
   "metadata": {
    "papermill": {
     "duration": 0.068989,
     "end_time": "2022-05-24T17:34:25.665970",
     "exception": false,
     "start_time": "2022-05-24T17:34:25.596981",
     "status": "completed"
    },
    "tags": []
   },
   "source": [
    "# Day 21\n",
    "dataquest-> prob and stats -> probability fundamentals -> conditional probabilities intermediate\n",
    "slide 1 and 2\n",
    "- P(A ∩ B) = P(B ∩ A)\n",
    "- multiplication rule of probability\n",
    "  -  P(A ∩ B) = P(B) ⋅ P(A | B) \n",
    "  - P(A ∩ B) = P(A) ⋅ P(B | A)\n",
    "- if P(A) and P(B) are statistically independent then \n",
    "  - P(A ∩ B) = P(A) ⋅ P(B)\n",
    "\n"
   ]
  },
  {
   "cell_type": "markdown",
   "id": "30e67b6d",
   "metadata": {
    "papermill": {
     "duration": 0.067588,
     "end_time": "2022-05-24T17:34:25.802383",
     "exception": false,
     "start_time": "2022-05-24T17:34:25.734795",
     "status": "completed"
    },
    "tags": []
   },
   "source": [
    "# Day 22\n",
    "dataquest-> prob and stats -> probability fundamentals -> conditional probabilities intermediate \n",
    "<br>slide 6\n",
    "- If events events A and B are dependent, it means the occurrence of event A changes the probability of event B and vice versa.\n",
    "   - P(A) ≠ P(A | B)\n",
    "   - P(B) ≠ P(B | A)\n",
    "   - P(A ∩ B) ≠ P(A) ⋅ P(B)\n",
    "   - formula will become P(A ∩ B) ≠ P(A) ⋅ P(B/A)\n",
    "   "
   ]
  },
  {
   "cell_type": "markdown",
   "id": "6d860fef",
   "metadata": {
    "papermill": {
     "duration": 0.067775,
     "end_time": "2022-05-24T17:34:25.938463",
     "exception": false,
     "start_time": "2022-05-24T17:34:25.870688",
     "status": "completed"
    },
    "tags": []
   },
   "source": [
    "# Day 23\n",
    "dataquest-> prob and stats -> probability fundamentals -> conditional probabilities intermediate\n",
    "<br>slide 7 to last\n",
    "- To find whether three events — A, B, C — are independent or not, below conditions must hold true -\n",
    "  - P(A ∩ B) ≠ P(A) ⋅ P(B)\n",
    "  - P(A ∩ C) ≠ P(A) ⋅ P(C)\n",
    "  - P(B ∩ C) ≠ P(B) ⋅ P(C)\n",
    "  - P(A ∩ B ∩ C) ≠ P(A) ⋅ P(B) . P(C)\n",
    "- multiplication rule for conditional probability or dependent events\n",
    " - P(A ∩ B ∩ C) = P(A) ⋅ P(B | A) ⋅ P(C | A ∩ B)\n",
    " \n",
    "\n"
   ]
  },
  {
   "cell_type": "markdown",
   "id": "d3f3b850",
   "metadata": {
    "papermill": {
     "duration": 0.069361,
     "end_time": "2022-05-24T17:34:26.077233",
     "exception": false,
     "start_time": "2022-05-24T17:34:26.007872",
     "status": "completed"
    },
    "tags": []
   },
   "source": [
    "# Day 24\n",
    "dataquest-> prob and stats -> probability fundamentals -> bayes theorem\n",
    "<br>slide 1\n",
    "- independent -> one event is dependent on other\n",
    "   - P(A ∩ B) = P(A) ⋅ P(B/A)\n",
    "- independent -> one event is not dependent on other.\n",
    "   - P(A ∩ B) = P(A) ⋅ P(B)\n",
    "- mutually exclusive -> both the events cannot happen at the same time.\n",
    "   - P(A ∩ B) = 0\n",
    "\n"
   ]
  },
  {
   "cell_type": "markdown",
   "id": "13fa3914",
   "metadata": {
    "papermill": {
     "duration": 0.071111,
     "end_time": "2022-05-24T17:34:26.217069",
     "exception": false,
     "start_time": "2022-05-24T17:34:26.145958",
     "status": "completed"
    },
    "tags": []
   },
   "source": [
    "# Day 25\n",
    "dataquest-> prob and stats -> probability fundamentals -> bayes theorem\n",
    "<br>slide 2\n",
    "- If two events are exhaustive, it means they make up the whole sample space Ω\n",
    "  -  P(A) = P(A ∩ B) + P(A ∩ B^c)\n",
    "     P(A) = (P(B) * P(A/B)) +  (P(B^c) * P(A/B^c))\n",
    "     \n",
    "     "
   ]
  },
  {
   "cell_type": "markdown",
   "id": "d79f74f0",
   "metadata": {
    "papermill": {
     "duration": 0.068992,
     "end_time": "2022-05-24T17:34:26.355367",
     "exception": false,
     "start_time": "2022-05-24T17:34:26.286375",
     "status": "completed"
    },
    "tags": []
   },
   "source": [
    "# Day 26\n",
    "dataquest-> prob and stats -> probability fundamentals -> bayes theorem\n",
    "<br>slide 3 - last\n",
    "- the law of total probability\n",
    "  - P(A)  = (P(B1) * P(A/B1)) + (P(B2) * P(A/B2))+ ... + (P(Bn) * P(A/Bn)))\n",
    "  - P(A) =(summattion i=1 to n) P(Bi) ⋅ P(A|Bi)\n",
    "- Baye's theorem\n",
    "  - P(B | A) = (P(B) ⋅ P(A | B)) / (n ∑i=1 P(Bi) ⋅ P(A | Bi))\n",
    "- The probability of being infected with HIV before doing any test is called the prior probability (\"prior\" means \"before\"). The probability of being infected with HIV after testing positive is called the posterior probability (\"posterior\" means \"after\").\n",
    "\n",
    "\n",
    "  "
   ]
  },
  {
   "cell_type": "markdown",
   "id": "f4e5943f",
   "metadata": {
    "papermill": {
     "duration": 0.069374,
     "end_time": "2022-05-24T17:34:26.493225",
     "exception": false,
     "start_time": "2022-05-24T17:34:26.423851",
     "status": "completed"
    },
    "tags": []
   },
   "source": [
    "# Day 27\n",
    "dataquest-> prob and stats -> probability fundamentals -> naive bayes theorem\n",
    "<br>slide 1 - \n",
    "P(Spam|w1,w2,w3,w4)∝P(Spam)⋅P(w1|Spam)⋅P(w2|Spam)⋅P(w3|Spam)⋅P(w4|Spam)P(SpamC|w1,w2,w3,w4)∝P(SpamC)⋅P(w1|SpamC)⋅P(w2|SpamC)⋅P(w3|SpamC)⋅P(w4|SpamC)"
   ]
  },
  {
   "cell_type": "markdown",
   "id": "dda0be24",
   "metadata": {
    "papermill": {
     "duration": 0.068627,
     "end_time": "2022-05-24T17:34:26.632096",
     "exception": false,
     "start_time": "2022-05-24T17:34:26.563469",
     "status": "completed"
    },
    "tags": []
   },
   "source": [
    "# Day 28\n",
    "dataquest-> prob and stats -> probability fundamentals -> naive bayes theorem\n",
    "<br>finished.\n",
    "<br>**Summary**\n",
    "- P(Spam|w1,w2,...,wn)∝P(Spam)⋅n∏i=1P(wi|Spam)\n",
    "- P(SpamC|w1,w2,...,wn)∝P(SpamC)⋅n∏i=1P(wi|SpamC)\n",
    "- To calculate P(wi|Spam) and P(wi|SpamC), we need to use the additive smoothing technique: \n",
    "- P ( w i | S p a m ) = (N w i | S p a m + α) / ( N S p a m + α ⋅ N V o c a b u l a r y )\n",
    "- P ( w i | S p a m C ) = (N w i | S p a m C + α) / ( N S p a m C + α ⋅ N V o c a b u l a r y )\n",
    "     - N w i | S p a m = the number of times the word w i occurs in spam messages \n",
    "     - N w i | S p a m C = the number of times the word w i occurs in non-spam messages \n",
    "     - N S p a m = total number of words in spam messages \n",
    "     - N S p a m C = total number of words in non-spam messages \n",
    "     - N V o c a b u l a r y = total number of words in the vocabulary \n",
    "     - α = 1 ( α is a smoothing parameter )\n",
    " - naive bayes theorem assumes that events are not dependent.\n",
    " - The assumption of conditional independence between words is thus naive since it rarely holds in practice, and this is why the algorithm is called Naive Bayes (also called simple Bayes or independence Bayes)."
   ]
  },
  {
   "cell_type": "markdown",
   "id": "87fa0062",
   "metadata": {
    "papermill": {
     "duration": 0.069059,
     "end_time": "2022-05-24T17:34:26.771139",
     "exception": false,
     "start_time": "2022-05-24T17:34:26.702080",
     "status": "completed"
    },
    "tags": []
   },
   "source": [
    "# Day 29,30,31\n",
    "<br>dataquest-> prob and stats -> probability fundamentals -> conditional probability-> guided projects\n",
    "<br> in progress"
   ]
  },
  {
   "cell_type": "markdown",
   "id": "9fc080df",
   "metadata": {
    "papermill": {
     "duration": 0.068039,
     "end_time": "2022-05-24T17:34:26.907759",
     "exception": false,
     "start_time": "2022-05-24T17:34:26.839720",
     "status": "completed"
    },
    "tags": []
   },
   "source": [
    "# Day 32 and 33\n",
    "<br>dataquest-> prob and stats -> probability fundamentals -> guided projects\n",
    "<br> done"
   ]
  },
  {
   "cell_type": "markdown",
   "id": "98e79180",
   "metadata": {
    "papermill": {
     "duration": 0.069685,
     "end_time": "2022-05-24T17:34:27.045775",
     "exception": false,
     "start_time": "2022-05-24T17:34:26.976090",
     "status": "completed"
    },
    "tags": []
   },
   "source": [
    "# Day 34\n",
    "<br>dataquest-> prob and stats -> probability fundamentals -> guided projects-> lottery prediction\n",
    "<br> done"
   ]
  },
  {
   "cell_type": "markdown",
   "id": "4023fde9",
   "metadata": {
    "papermill": {
     "duration": 0.067874,
     "end_time": "2022-05-24T17:34:27.183455",
     "exception": false,
     "start_time": "2022-05-24T17:34:27.115581",
     "status": "completed"
    },
    "tags": []
   },
   "source": [
    "# Day 35\n",
    "<br>dataquest-> prob and stats -> hypothesis testing fundamentals -> significance testing\n",
    "<br> till slide 4\n",
    "- null hypothesis\n",
    "- alternate hypothesis\n"
   ]
  },
  {
   "cell_type": "markdown",
   "id": "7b0f3ce3",
   "metadata": {
    "papermill": {
     "duration": 0.070317,
     "end_time": "2022-05-24T17:34:27.322890",
     "exception": false,
     "start_time": "2022-05-24T17:34:27.252573",
     "status": "completed"
    },
    "tags": []
   },
   "source": [
    "# Day 36 and 37\n",
    "<br>dataquest-> prob and stats -> hypothesis testing fundamentals -> significance testing\n",
    "- The permutation test is a statistical test that involves rerunning the study many times and recalculating the test statistic for each iteration. The goal is to calculate a distribution of the test statistics over these many iterations. This distribution is called the sampling distribution and it approximates the full range of possible test statistics under the null hypothesis\n",
    "\n"
   ]
  },
  {
   "cell_type": "markdown",
   "id": "a6fa012a",
   "metadata": {
    "papermill": {
     "duration": 0.067788,
     "end_time": "2022-05-24T17:34:27.458919",
     "exception": false,
     "start_time": "2022-05-24T17:34:27.391131",
     "status": "completed"
    },
    "tags": []
   },
   "source": [
    "# Day 38\n",
    "<br>dataquest-> prob and stats -> hypothesis testing fundamentals -> significance testing\n",
    "<br>in progress."
   ]
  },
  {
   "cell_type": "markdown",
   "id": "360eb82e",
   "metadata": {
    "papermill": {
     "duration": 0.067669,
     "end_time": "2022-05-24T17:34:27.594821",
     "exception": false,
     "start_time": "2022-05-24T17:34:27.527152",
     "status": "completed"
    },
    "tags": []
   },
   "source": [
    "# Day 39\n",
    "<br>dataquest-> prob and stats -> hypothesis testing fundamentals -> significance testing\n",
    "<br>slide 5-6"
   ]
  },
  {
   "cell_type": "markdown",
   "id": "5306ec4f",
   "metadata": {
    "papermill": {
     "duration": 0.068254,
     "end_time": "2022-05-24T17:34:27.732538",
     "exception": false,
     "start_time": "2022-05-24T17:34:27.664284",
     "status": "completed"
    },
    "tags": []
   },
   "source": [
    "# Day 40\n",
    "<br>dataquest-> prob and stats -> hypothesis testing fundamentals -> significance testing\n",
    "<br>slide 7"
   ]
  },
  {
   "cell_type": "markdown",
   "id": "5a79b98a",
   "metadata": {
    "papermill": {
     "duration": 0.071004,
     "end_time": "2022-05-24T17:34:27.872477",
     "exception": false,
     "start_time": "2022-05-24T17:34:27.801473",
     "status": "completed"
    },
    "tags": []
   },
   "source": [
    "# Day 41 and 42\n",
    "<br>dataquest-> prob and stats -> hypothesis testing fundamentals -> significance testing\n",
    "<br>slide 7 done and 8(p-value) strated"
   ]
  },
  {
   "cell_type": "markdown",
   "id": "6166969b",
   "metadata": {
    "papermill": {
     "duration": 0.06918,
     "end_time": "2022-05-24T17:34:28.010515",
     "exception": false,
     "start_time": "2022-05-24T17:34:27.941335",
     "status": "completed"
    },
    "tags": []
   },
   "source": [
    "# Day 43\n",
    "<br>dataquest-> prob and stats -> hypothesis testing fundamentals -> significance testing\n",
    "<br>\n",
    "- The first step is to decide a test statistic, which is a numerical value that summarizes the data and one we can use in statistical formulas. The test statistic runs a statistical test that determines whether the difference between the groups was due to random chance.\n",
    "  - e.x: mean \n",
    "- The permutation test is a statistical test that involves rerunning the study many times and recalculating the test statistic for each iteration.\n",
    "   - The goal is to calculate a distribution of the test statistics over these many iterations. This distribution is called the sampling distribution and it approximates the full range of possible test statistics under the null hypothesis.\n",
    "- If the p value is less than the threshold, we:\n",
    "    - reject the null hypothesis that there's no difference in the mean amount of weight lost by participants in both groups; and\n",
    "    - conclude that there is some evidence that the weight loss pill does affect the amount of weight people lost.\n",
    "\n",
    "- If the p value is greater than the threshold, we:\n",
    "    - fail to reject the null hypothesis that there's no difference in the mean amount of weight lost by participants in both groups,\n",
    "    - conclude that the weight loss pill doesn't seem to be effective in helping people lose weight.\n",
    "- usually used p-value threshold is 0.05\n",
    "- The p value threshold you set can also affect the conclusion you reach.\n",
    "    - If you set too high of a p value threshold, you may reject the null hypothesis incorrectly. This is known as a type I error.\n",
    "    - If you set too low of a p value threshold, you may fail to reject the null hypothesis incorrectly. This is known as a type II error."
   ]
  },
  {
   "cell_type": "markdown",
   "id": "aa217051",
   "metadata": {
    "papermill": {
     "duration": 0.068149,
     "end_time": "2022-05-24T17:34:28.149490",
     "exception": false,
     "start_time": "2022-05-24T17:34:28.081341",
     "status": "completed"
    },
    "tags": []
   },
   "source": [
    "# Day 44\n",
    "<br>dataquest-> prob and stats -> hypothesis testing fundamentals -> significance testing-> chi squared test\n",
    "<br>1- 4\n",
    "- chi squared test is used for numerical values"
   ]
  },
  {
   "cell_type": "markdown",
   "id": "0191e902",
   "metadata": {
    "papermill": {
     "duration": 0.068794,
     "end_time": "2022-05-24T17:34:28.286807",
     "exception": false,
     "start_time": "2022-05-24T17:34:28.218013",
     "status": "completed"
    },
    "tags": []
   },
   "source": [
    "# Day 45 and 46\n",
    "<br>dataquest-> prob and stats -> hypothesis testing fundamentals -> significance testing-> chi squared test\n",
    "<br>4- 6"
   ]
  },
  {
   "cell_type": "markdown",
   "id": "efe31633",
   "metadata": {
    "papermill": {
     "duration": 0.06793,
     "end_time": "2022-05-24T17:34:28.423036",
     "exception": false,
     "start_time": "2022-05-24T17:34:28.355106",
     "status": "completed"
    },
    "tags": []
   },
   "source": [
    "# Day 47\n",
    "<br>dataquest-> prob and stats -> hypothesis testing fundamentals -> significance testing-> chi squared test\n",
    "<br> slide 6 done"
   ]
  },
  {
   "cell_type": "markdown",
   "id": "3ad9879c",
   "metadata": {
    "papermill": {
     "duration": 0.068298,
     "end_time": "2022-05-24T17:34:28.559407",
     "exception": false,
     "start_time": "2022-05-24T17:34:28.491109",
     "status": "completed"
    },
    "tags": []
   },
   "source": [
    "# Day 48\n",
    "<br> chi-squared values is that they get smaller as the sample size decreases.\n",
    "<br>**conclusion**\n",
    "- The chi-squared test enables us to quantify the difference between sets of observed and expected categorical values to determine statistical significance\n",
    "- chi squared = (observed - expected)**2 / expected\n",
    "- A p-value allows us to determine whether the difference between 2 values is due to chance, or due to an underlying difference.\n",
    "- Chi-squared values increase as sample size increases, but the chance of getting a high chi-squared value decreases as the sample gets larger.\n",
    "- A degree of freedom is the number of values that can vary without the other values being\"locked in\". \n",
    "- scipy https://docs.scipy.org/doc/scipy/reference/generated/scipy.stats.mstats.chisquare.html\n"
   ]
  },
  {
   "cell_type": "markdown",
   "id": "5e48643e",
   "metadata": {
    "papermill": {
     "duration": 0.069945,
     "end_time": "2022-05-24T17:34:28.697332",
     "exception": false,
     "start_time": "2022-05-24T17:34:28.627387",
     "status": "completed"
    },
    "tags": []
   },
   "source": [
    "# Day 49\n",
    "<br>dataquest-> prob and stats -> hypothesis testing fundamentals -> significance testing-> multi category chi squared test\n",
    "<br> slide 1 done\n",
    "- We can apply the multi category chi-squared test (also known as the chi-squared test of association) to figure out if there's a statistically significant correlation between two categorical columns.\n",
    "- "
   ]
  },
  {
   "cell_type": "markdown",
   "id": "2808c3d0",
   "metadata": {
    "papermill": {
     "duration": 0.069114,
     "end_time": "2022-05-24T17:34:28.835023",
     "exception": false,
     "start_time": "2022-05-24T17:34:28.765909",
     "status": "completed"
    },
    "tags": []
   },
   "source": [
    " **Day 50**\n",
    "<br>dataquest-> prob and stats -> hypothesis testing fundamentals -> significance testing-> multi category chi squared test\n",
    "# Conclusion:\n",
    "- In a multiple category chi-squared test, we calculate expected values across our whole dataset.\n",
    "- We can calculate the chi-squared value by using the following steps:\n",
    "    - Subtract the expected value from the observed value.\n",
    "    - Subtract the difference.\n",
    "    - Divide the squared difference by the expected value.\n",
    "    - Repeat for all observed and expected values and add up all the values.\n",
    "- ∑ expected(observed−expected)**2 / expected\n",
    "- Discovering that a result isn't significant doesn't mean that no association between the columnsexists. Discovering a statistically significant result doesn't imply anything about what thecorrelation is.\n",
    "- Chi-squared tests can only be applied when each possibility within a category is independen.\n",
    "    - we have categories like male or female not both. single row has either male or female not both at a time.\n",
    "- https://docs.scipy.org/doc/scipy-0.15.1/reference/generated/scipy.stats.chi2_contingency.html\n",
    "- https://pandas.pydata.org/pandas-docs/stable/generated/pandas.crosstab.html\n"
   ]
  },
  {
   "cell_type": "markdown",
   "id": "dde53497",
   "metadata": {
    "papermill": {
     "duration": 0.069324,
     "end_time": "2022-05-24T17:34:28.973964",
     "exception": false,
     "start_time": "2022-05-24T17:34:28.904640",
     "status": "completed"
    },
    "tags": []
   },
   "source": [
    "# **Day 51, 52**\n",
    "<br>dataquest-> prob and stats -> hypothesis testing fundamentals -> significance testing-> guided project\n",
    "<br>in progress."
   ]
  },
  {
   "cell_type": "markdown",
   "id": "0d0c9403",
   "metadata": {
    "papermill": {
     "duration": 0.070217,
     "end_time": "2022-05-24T17:34:29.113998",
     "exception": false,
     "start_time": "2022-05-24T17:34:29.043781",
     "status": "completed"
    },
    "tags": []
   },
   "source": [
    "# **Day 53**\n",
    "<br>dataquest-> prob and stats -> hypothesis testing fundamentals -> significance testing-> guided project\n",
    "<br>done"
   ]
  },
  {
   "cell_type": "markdown",
   "id": "15b554c7",
   "metadata": {
    "papermill": {
     "duration": 0.073845,
     "end_time": "2022-05-24T17:34:29.257375",
     "exception": false,
     "start_time": "2022-05-24T17:34:29.183530",
     "status": "completed"
    },
    "tags": []
   },
   "source": [
    "# **Day 54,55, 56,57, 58, 59**\n",
    "interviewbit-> probability-> conditional probability\n",
    "1. You asked your three friends whether it will rain or not and all three affirmed for rain. All three have the probability of 1/3 of lying. What is the probability that it will actually rain?\n",
    "- https://www.geeksforgeeks.org/puzzle-is-it-raining/#:~:text=Explanation%3A,truth%20or%20all%20are%20lying.&text=So%2C%20it%20is%20approximately%2089,it%20is%20raining%20in%20Hyderabad.\n",
    "2. Anshul and Deven take turns in rolling a fair six-sided die. Whoever rolls a “6” first wins the game. Deven starts by rolling first. What’s the probability that Anshul wins?\n",
    "- https://www.quora.com/A-and-B-throw-a-Fair-die-one-after-another-Whoever-throws-6-first-wins-What-is-the-probability-that-A-wins\n",
    "\n",
    "3. You have a bag with 6 marbles. One marble is white. You reach the bag 100 times. After taking out a marble, it is placed back in the bag. What is the probability of drawing a white marble at least once?\n",
    "- https://brainly.com/question/14376470\n",
    "- Answer:\n",
    "\n",
    "0.999999988\n",
    "\n",
    "Step-by-step explanation:\n",
    "\n",
    "Given that you  have a bag with 6 marbles. One marble is white. You reach the bag 100 times. After taking out a marble, it is placed back in the bag.\n",
    "\n",
    "Because every time you replace the marble drawn, the probability for drawing a white marble in one draw is constant = p =5/6\n",
    "\n",
    "No of trials n = 100\n",
    "\n",
    "Here X no of times white marble is drawn is Binomial since there are two outcomes and also the probability is constant.\n",
    "\n",
    "the probability of drawing a white marble at least once\n",
    "\n",
    "=\n",
    "\n",
    "Required probability is almost 1.\n",
    "\n",
    "\n",
    "4. Supposedly a friend of yours has 2 children and at least one of them is a boy. What is the probability that the other is also a boy?\n",
    "- If at least one is a boy, there are three possible equally likely gender assignations of two siblings. boy-boy, boy-girl,\n",
    "\n",
    " or girl-boy. Only 1 in 3 cases or 33 percent are both boys. The lesson here is that when considering equally likely scenarios\n",
    "\n",
    " we must consider birth order. If the birth order of the boy is not specified – i.e. if we don’t know if he is the eldest or \n",
    "\n",
    " the youngest – the probability of two boys drops to 1 in 3.\n",
    " \n",
    "5. A single card is drawn from a standard deck of playing cards. What is the probability that the card is a queen provided that a face card is drawn from the deck of cards?\n",
    "- 4/12 = 1/3\n",
    " \n",
    "6. random variables Q1,2\n",
    "7. 5 questions\n",
    "8. bayes theorem first 2\n",
    "\n",
    "**Day 60**\n",
    "- inferential statistics - 3 questions\n",
    "**Day 61**\n",
    "- inferential statistics - central limit theorem done\n",
    "\n",
    "**Day 62**\n",
    "- inferential statistics - distribution analysis multivariate done\n",
    "\n",
    "**Day 63**\n",
    "- inferential statistics -  done\n",
    "\n",
    "**Day 64,65, 66**\n",
    "- Data Analysis-  wip\n",
    "\n",
    "**Day 67**\n",
    "- Data Analysis-  web scrapping done\n",
    "\n",
    "**Day 68**\n",
    "- Data Analysis-  descriptive statistics tutorial done\n",
    "\n",
    "**Day 69**\n",
    "- Data Analysis-  probability tutorial done\n",
    "\n",
    "**Day 70**\n",
    "- Data Analysis-  hypothesis testing wip\n",
    "\n",
    "**Day 71**\n",
    "- Data Analysis-  inferential statistics tutorials - done\n",
    "\n",
    "**Day 72**\n",
    "- Data Analysis-  inferential statistics tutorials - done\n",
    "\n",
    "**Day 73**\n",
    "- Data Analysis-  data analysis tutorials - wip\n",
    "\n",
    "**Day 74**\n",
    "\n",
    "**Interview Prep:**\n",
    "1. clustering evaluation techniques:\n",
    "- https://towardsdatascience.com/clustering-evaluation-strategies-98a4006fcfc\n",
    "\n",
    "**Day 75**\n",
    "\n",
    "2. feature selection\n",
    "- https://www.analyticsvidhya.com/blog/2016/12/introduction-to-feature-selection-methods-with-an-example-or-how-to-select-the-right-variables/"
   ]
  },
  {
   "cell_type": "markdown",
   "id": "df73262b",
   "metadata": {
    "papermill": {
     "duration": 0.0691,
     "end_time": "2022-05-24T17:34:29.395411",
     "exception": false,
     "start_time": "2022-05-24T17:34:29.326311",
     "status": "completed"
    },
    "tags": []
   },
   "source": []
  },
  {
   "cell_type": "code",
   "execution_count": null,
   "id": "cb55dc55",
   "metadata": {
    "papermill": {
     "duration": 0.068328,
     "end_time": "2022-05-24T17:34:29.533676",
     "exception": false,
     "start_time": "2022-05-24T17:34:29.465348",
     "status": "completed"
    },
    "tags": []
   },
   "outputs": [],
   "source": []
  },
  {
   "cell_type": "code",
   "execution_count": 2,
   "id": "be690d35",
   "metadata": {
    "execution": {
     "iopub.execute_input": "2022-05-24T17:34:29.674846Z",
     "iopub.status.busy": "2022-05-24T17:34:29.674113Z",
     "iopub.status.idle": "2022-05-24T17:34:29.677697Z",
     "shell.execute_reply": "2022-05-24T17:34:29.678323Z",
     "shell.execute_reply.started": "2022-04-12T14:17:49.333113Z"
    },
    "papermill": {
     "duration": 0.076161,
     "end_time": "2022-05-24T17:34:29.678520",
     "exception": false,
     "start_time": "2022-05-24T17:34:29.602359",
     "status": "completed"
    },
    "tags": []
   },
   "outputs": [],
   "source": [
    "# !pip install PyMuPDF"
   ]
  },
  {
   "cell_type": "code",
   "execution_count": 3,
   "id": "ae7c51b9",
   "metadata": {
    "execution": {
     "iopub.execute_input": "2022-05-24T17:34:29.819682Z",
     "iopub.status.busy": "2022-05-24T17:34:29.818989Z",
     "iopub.status.idle": "2022-05-24T17:34:29.822399Z",
     "shell.execute_reply": "2022-05-24T17:34:29.822944Z",
     "shell.execute_reply.started": "2022-04-12T14:19:20.437905Z"
    },
    "papermill": {
     "duration": 0.075612,
     "end_time": "2022-05-24T17:34:29.823191",
     "exception": false,
     "start_time": "2022-05-24T17:34:29.747579",
     "status": "completed"
    },
    "tags": []
   },
   "outputs": [],
   "source": [
    " \n",
    "# fitz.__version__"
   ]
  },
  {
   "cell_type": "code",
   "execution_count": 4,
   "id": "756da413",
   "metadata": {
    "execution": {
     "iopub.execute_input": "2022-05-24T17:34:29.965088Z",
     "iopub.status.busy": "2022-05-24T17:34:29.964207Z",
     "iopub.status.idle": "2022-05-24T17:34:29.967290Z",
     "shell.execute_reply": "2022-05-24T17:34:29.967887Z",
     "shell.execute_reply.started": "2022-04-12T14:23:59.687259Z"
    },
    "papermill": {
     "duration": 0.076297,
     "end_time": "2022-05-24T17:34:29.968080",
     "exception": false,
     "start_time": "2022-05-24T17:34:29.891783",
     "status": "completed"
    },
    "tags": []
   },
   "outputs": [],
   "source": [
    "# !python -m spacy download en_core_web_sm"
   ]
  },
  {
   "cell_type": "code",
   "execution_count": null,
   "id": "f1fa4d1f",
   "metadata": {
    "papermill": {
     "duration": 0.06945,
     "end_time": "2022-05-24T17:34:30.107254",
     "exception": false,
     "start_time": "2022-05-24T17:34:30.037804",
     "status": "completed"
    },
    "tags": []
   },
   "outputs": [],
   "source": []
  },
  {
   "cell_type": "code",
   "execution_count": 5,
   "id": "36c25bad",
   "metadata": {
    "execution": {
     "iopub.execute_input": "2022-05-24T17:34:30.247927Z",
     "iopub.status.busy": "2022-05-24T17:34:30.247253Z",
     "iopub.status.idle": "2022-05-24T17:34:30.250248Z",
     "shell.execute_reply": "2022-05-24T17:34:30.250809Z",
     "shell.execute_reply.started": "2022-04-12T14:18:25.912243Z"
    },
    "papermill": {
     "duration": 0.075287,
     "end_time": "2022-05-24T17:34:30.251005",
     "exception": false,
     "start_time": "2022-05-24T17:34:30.175718",
     "status": "completed"
    },
    "tags": []
   },
   "outputs": [],
   "source": [
    "# import fitz\n",
    "# import spacy\n",
    "# import re\n",
    "# from pathlib import Path\n",
    "# import requests\n",
    "# import os"
   ]
  },
  {
   "cell_type": "code",
   "execution_count": 6,
   "id": "050a9dc8",
   "metadata": {
    "execution": {
     "iopub.execute_input": "2022-05-24T17:34:30.393719Z",
     "iopub.status.busy": "2022-05-24T17:34:30.392910Z",
     "iopub.status.idle": "2022-05-24T17:34:30.396823Z",
     "shell.execute_reply": "2022-05-24T17:34:30.397456Z",
     "shell.execute_reply.started": "2022-04-12T15:03:43.5897Z"
    },
    "papermill": {
     "duration": 0.077586,
     "end_time": "2022-05-24T17:34:30.397676",
     "exception": false,
     "start_time": "2022-05-24T17:34:30.320090",
     "status": "completed"
    },
    "tags": []
   },
   "outputs": [],
   "source": [
    "# sql_db_json = [\n",
    "#   {\n",
    "#     \"document_id\": \"1\",\n",
    "#     \"area\": \"[72.1149,661.2966,131.95729,675.1716]\",\n",
    "#     \"page\": \"3\",\n",
    "#     \"text_\": \"Background\",\n",
    "#     \"type_of_selection\": \"Text\",\n",
    "#     \"entity_type\": \"name\",\n",
    "#     \"link\": \"https://redactable-devox-stage.s3.us-east-2.amazonaws.com/tenants/41d9e109-693b-444c-aa18-e5891bc6550b/original/1a7c0e5d-3237-4ca9-9e3d-89e707245ac6/D8communications.pdf\"\n",
    "#   },\n",
    "#   {\n",
    "#     \"document_id\": \"1\",\n",
    "#     \"area\": \"[290.55386,632.0173,322.14685,645.8923]\",\n",
    "#     \"page\": \"2\",\n",
    "#     \"text_\": \"INDEX\",\n",
    "#     \"type_of_selection\": \"Text\",\n",
    "#     \"entity_type\": \"address\",\n",
    "#     \"link\": \"https://redactable-devox-stage.s3.us-east-2.amazonaws.com/tenants/41d9e109-693b-444c-aa18-e5891bc6550b/original/1a7c0e5d-3237-4ca9-9e3d-89e707245ac6/D8communications.pdf\"\n",
    "#   }\n",
    "# ]"
   ]
  },
  {
   "cell_type": "code",
   "execution_count": 7,
   "id": "d4e21777",
   "metadata": {
    "execution": {
     "iopub.execute_input": "2022-05-24T17:34:30.538389Z",
     "iopub.status.busy": "2022-05-24T17:34:30.537642Z",
     "iopub.status.idle": "2022-05-24T17:34:30.540666Z",
     "shell.execute_reply": "2022-05-24T17:34:30.541225Z",
     "shell.execute_reply.started": "2022-04-12T13:17:19.452695Z"
    },
    "papermill": {
     "duration": 0.075199,
     "end_time": "2022-05-24T17:34:30.541417",
     "exception": false,
     "start_time": "2022-05-24T17:34:30.466218",
     "status": "completed"
    },
    "tags": []
   },
   "outputs": [],
   "source": [
    "# l=pd.DataFrame()\n",
    "# k=(1, '[290.55386,632.0173,322.14685,645.8923]', 2, 'INDEX', 'Text', 'address', 'https://redactable-devox-s')\n",
    "# k\n"
   ]
  },
  {
   "cell_type": "code",
   "execution_count": 8,
   "id": "f21b1825",
   "metadata": {
    "execution": {
     "iopub.execute_input": "2022-05-24T17:34:30.681905Z",
     "iopub.status.busy": "2022-05-24T17:34:30.681205Z",
     "iopub.status.idle": "2022-05-24T17:34:30.684314Z",
     "shell.execute_reply": "2022-05-24T17:34:30.684896Z",
     "shell.execute_reply.started": "2022-04-12T16:09:33.708631Z"
    },
    "papermill": {
     "duration": 0.075826,
     "end_time": "2022-05-24T17:34:30.685096",
     "exception": false,
     "start_time": "2022-05-24T17:34:30.609270",
     "status": "completed"
    },
    "tags": []
   },
   "outputs": [],
   "source": [
    "# co=[\"document_id\",\"area\",\"page\",\"text_\",\"type_of_selection\",\"entity_type\",\"link\"]\n",
    "# val= [(1,'[72.1149,661.2966,131.95729,675.1716]',3,'Background','Text','name' ,'https://redactable-devox-stage.s3.us-east-2.am'), (1,  '[290.55386,632.0173,322.14685,645.8923]',2,'INDEX', 'Text','address','https://redactable-devox-stage.s3.us-east-2.am')]\n",
    "\n",
    "# df=pd.DataFrame(val,columns=[co])\n",
    "# #df.iloc[1] =[1,  '[290.55386,632.0173,322.14685,645.8923]',2,'INDEX', 'Text','address','https://redactable-devox-stage.s3.us-east-2.am']\n",
    "# df"
   ]
  },
  {
   "cell_type": "code",
   "execution_count": 9,
   "id": "b59d95a9",
   "metadata": {
    "execution": {
     "iopub.execute_input": "2022-05-24T17:34:30.829345Z",
     "iopub.status.busy": "2022-05-24T17:34:30.828653Z",
     "iopub.status.idle": "2022-05-24T17:34:30.831667Z",
     "shell.execute_reply": "2022-05-24T17:34:30.832368Z",
     "shell.execute_reply.started": "2022-04-12T16:18:22.595374Z"
    },
    "papermill": {
     "duration": 0.075934,
     "end_time": "2022-05-24T17:34:30.832570",
     "exception": false,
     "start_time": "2022-05-24T17:34:30.756636",
     "status": "completed"
    },
    "tags": []
   },
   "outputs": [],
   "source": [
    "# prev=[]\n",
    "# for data,row in df.iterrows():\n",
    "#     if row['document_id'] not in prev:\n",
    "#         prev.append(row['document_id'])\n",
    "#         print('hey')"
   ]
  },
  {
   "cell_type": "code",
   "execution_count": 10,
   "id": "10540cd5",
   "metadata": {
    "execution": {
     "iopub.execute_input": "2022-05-24T17:34:30.973385Z",
     "iopub.status.busy": "2022-05-24T17:34:30.972595Z",
     "iopub.status.idle": "2022-05-24T17:34:30.977954Z",
     "shell.execute_reply": "2022-05-24T17:34:30.978555Z",
     "shell.execute_reply.started": "2022-04-12T15:03:48.248836Z"
    },
    "papermill": {
     "duration": 0.077227,
     "end_time": "2022-05-24T17:34:30.978755",
     "exception": false,
     "start_time": "2022-05-24T17:34:30.901528",
     "status": "completed"
    },
    "tags": []
   },
   "outputs": [],
   "source": [
    "# nlp = spacy.load('en_core_web_sm')\n",
    "# train_data = []\n",
    "\n",
    "# prev_doc_id = ''\n",
    "# i=0\n",
    "# temp='/kaggle/working'\n",
    "\n",
    "# for data in sql_db_json:\n",
    "#     if data['type_of_selection'] == 'Text':\n",
    "#         document_id = data['document_id']\n",
    "#         x1,y1,x2,y2 = data['area'][1:-1].split(',')\n",
    "#         url = data['link']\n",
    "#         page_no = int(data['page']) - 1 \n",
    "#         label = data['entity_type']\n",
    "#         filename = url.split('/')[-1]\n",
    "    \n",
    "#         #download the file to temp folder\n",
    "#         outpath = os.path.join(temp,filename)\n",
    "\n",
    "#         if document_id == prev_doc_id:\n",
    "#             pass\n",
    "#         else: \n",
    "#             i+=1\n",
    "#             print(i)\n",
    "#             response = requests.get(url)\n",
    "#             with open(outpath, \"wb\") as binary_file:\n",
    "#                 binary_file.write(response.content)\n",
    "\n",
    "#         doc = fitz.open(outpath)  # any supported document type\n",
    "#         page = doc[page_no]  # we want text from this page\n",
    "#         print('page dimension - ', page.rect.width, page.rect.height)\n",
    "\n",
    "#         #The co-ordinates in the DB are image co-ords. W.r.t pdf, y1 and y2 has to be interchanged.\n",
    "#         #To ensure entire word to be selected, slight correction in x1,y1,x2,y2 is done.\n",
    "\n",
    "#         rect = [float(x1)-2, 792 - float(y2)-2, float(x2)+2, 792 - float(y1)+2]\n",
    "#         print(rect)\n",
    "#         labelled_text = page.get_textbox(rect)\n",
    "\n",
    "#         #Removing all unprintable characters from the text\n",
    "#         string = re.sub('[^0-9a-zA-Z@?|\\/<>.,()&^%$#!]+', ' ', labelled_text)\n",
    "#         print('string : ', string)\n",
    "\n",
    "#         fulltext = page.get_text()\n",
    "#         doc = nlp(fulltext)\n",
    "\n",
    "#         sentences = []\n",
    "#         for sent in doc.sents:\n",
    "#             if string.strip() in sent.text:\n",
    "#                 text = re.sub('[^0-9a-zA-Z@?|\\/<>.,()&^%$#!]+', ' ', sent.text)\n",
    "\n",
    "#         res = re.search(string.strip(), text)\n",
    "\n",
    "#         entities = []\n",
    "#         entities.append((res.start(),res.end(),label))\n",
    "\n",
    "#         train_data.append((text,{'entities':entities}))\n",
    "\n",
    "# print('Training data in spacy format')\n",
    "# print('*****************************')\n",
    "# for i in range(0,len(train_data)):\n",
    "#     print(train_data[i])"
   ]
  },
  {
   "cell_type": "code",
   "execution_count": null,
   "id": "ec8a10eb",
   "metadata": {
    "papermill": {
     "duration": 0.069633,
     "end_time": "2022-05-24T17:34:31.117864",
     "exception": false,
     "start_time": "2022-05-24T17:34:31.048231",
     "status": "completed"
    },
    "tags": []
   },
   "outputs": [],
   "source": []
  },
  {
   "cell_type": "code",
   "execution_count": 11,
   "id": "6f56ca10",
   "metadata": {
    "execution": {
     "iopub.execute_input": "2022-05-24T17:34:31.260227Z",
     "iopub.status.busy": "2022-05-24T17:34:31.259522Z",
     "iopub.status.idle": "2022-05-24T17:34:31.264470Z",
     "shell.execute_reply": "2022-05-24T17:34:31.264999Z",
     "shell.execute_reply.started": "2022-04-12T11:44:59.253637Z"
    },
    "papermill": {
     "duration": 0.079211,
     "end_time": "2022-05-24T17:34:31.265260",
     "exception": false,
     "start_time": "2022-05-24T17:34:31.186049",
     "status": "completed"
    },
    "tags": []
   },
   "outputs": [],
   "source": [
    "# nlp = spacy.load('en_core_web_sm')\n",
    "# train_data = []\n",
    "\n",
    "# prev_doc_id = ''\n",
    "# temp='/kaggle/working'\n",
    "# i=0\n",
    "# for data in sql_db_json:\n",
    "#     if data['type_of_selection'] == 'Text':\n",
    "#         document_id = data['document_id']\n",
    "#         x1,y1,x2,y2 = data['area'][1:-1].split(',')\n",
    "#         url = data['link']\n",
    "#         page_no = int(data['page']) - 1 \n",
    "#         label = data['entity_type']\n",
    "#         filename = url.split('/')[-1]\n",
    "    \n",
    "#         #download the file to temp folder\n",
    "#         i+=1\n",
    "#         print(i)\n",
    "#         response = requests.get(url)\n",
    "#         doc = fitz.open(stream=response.content,filetype=\"pdf\")  # any supported document type\n",
    "#         page = doc[page_no]  # we want text from this page\n",
    "#         print('page dimension - ', page.rect.width, page.rect.height)\n",
    "\n",
    "#         #The co-ordinates in the DB are image co-ords. W.r.t pdf, y1 and y2 has to be interchanged.\n",
    "#         #To ensure entire word to be selected, slight correction in x1,y1,x2,y2 is done.\n",
    "\n",
    "#         rect = [float(x1)-2, 792 - float(y2)-2, float(x2)+2, 792 - float(y1)+2]\n",
    "#         print(rect)\n",
    "#         labelled_text = page.get_textbox(rect)\n",
    "\n",
    "#         #Removing all unprintable characters from the text\n",
    "#         string = re.sub('[^0-9a-zA-Z@?|\\/<>.,()&^%$#!]+', ' ', labelled_text)\n",
    "#         print('string : ', string)\n",
    "\n",
    "#         fulltext = page.get_text()\n",
    "#         doc = nlp(fulltext)\n",
    "\n",
    "#         sentences = []\n",
    "#         for sent in doc.sents:\n",
    "#             if string.strip() in sent.text:\n",
    "#                 text = re.sub('[^0-9a-zA-Z@?|\\/<>.,()&^%$#!]+', ' ', sent.text)\n",
    "\n",
    "#         res = re.search(string.strip(), text)\n",
    "\n",
    "#         entities = []\n",
    "#         entities.append((res.start(),res.end(),label))\n",
    "\n",
    "#         train_data.append((text,{'entities':entities}))\n",
    "\n",
    "# print('Training data in spacy format')\n",
    "# print('*****************************')\n",
    "# for i in range(0,len(train_data)):\n",
    "#     print(train_data[i])"
   ]
  },
  {
   "cell_type": "code",
   "execution_count": 12,
   "id": "e3feba75",
   "metadata": {
    "execution": {
     "iopub.execute_input": "2022-05-24T17:34:31.407070Z",
     "iopub.status.busy": "2022-05-24T17:34:31.406408Z",
     "iopub.status.idle": "2022-05-24T17:34:31.409775Z",
     "shell.execute_reply": "2022-05-24T17:34:31.410347Z"
    },
    "papermill": {
     "duration": 0.075831,
     "end_time": "2022-05-24T17:34:31.410545",
     "exception": false,
     "start_time": "2022-05-24T17:34:31.334714",
     "status": "completed"
    },
    "tags": []
   },
   "outputs": [],
   "source": [
    "# page dimension -  612.0 792.0\n",
    "# [70.1149, 114.82839999999999, 133.95729, 132.7034]\n",
    "# string :  Background\n",
    "# page dimension -  612.0 792.0\n",
    "# [288.55386, 144.10770000000002, 324.14685, 161.98270000000002]\n",
    "# string :  INDEX\n",
    "# Training data in spacy format\n",
    "# *****************************\n",
    "# (' 3 Background The Blue Ribbon Committee was created by the Mayor to assess various city communication methods and recommend opportunities to improve communications with residents, businesses and other organizations.', {'entities': [(3, 13, 'name')]})\n",
    "# (' 2 INDEX Background Pg. 3 Purpose Pg. 3 Process .', {'entities': [(3, 8, 'address')]})"
   ]
  },
  {
   "cell_type": "code",
   "execution_count": 13,
   "id": "80237b6c",
   "metadata": {
    "execution": {
     "iopub.execute_input": "2022-05-24T17:34:31.551428Z",
     "iopub.status.busy": "2022-05-24T17:34:31.550709Z",
     "iopub.status.idle": "2022-05-24T17:34:31.554662Z",
     "shell.execute_reply": "2022-05-24T17:34:31.555299Z",
     "shell.execute_reply.started": "2022-04-11T16:35:29.609712Z"
    },
    "papermill": {
     "duration": 0.076171,
     "end_time": "2022-05-24T17:34:31.555506",
     "exception": false,
     "start_time": "2022-05-24T17:34:31.479335",
     "status": "completed"
    },
    "tags": []
   },
   "outputs": [],
   "source": [
    "# nlp = spacy.load('en_core_web_sm')\n",
    "# outpath=r'/kaggle/input/sample-pdf/D8communications.pdf'\n",
    "# doc = fitz.open(outpath)  # any supported document type\n",
    "# page_no=3\n",
    "# page = doc[page_no-1]\n",
    "\n",
    "# x1,y1,x2,y2=(72.1149,661.2966,131.95729,675.1716)\n",
    "\n",
    "# rect = [float(x1)-2, 792 - float(y2)-2, float(x2)+2, 792 - float(y1)+2]\n",
    "# print(rect)\n",
    "# labelled_text = page.get_textbox(rect)\n",
    "# string = re.sub('[^0-9a-zA-Z@?|\\/<>.,()&^%$#!]+', ' ', labelled_text)\n",
    "# print('string : ', string)\n",
    "\n",
    "# fulltext = page.get_text()\n",
    "# doc = nlp(fulltext)\n",
    "\n",
    "# sentences = []\n",
    "# for sent in doc.sents:\n",
    "#             if string.strip() in sent.text:\n",
    "#                 text = re.sub('[^0-9a-zA-Z@?|\\/<>.,()&^%$#!]+', ' ', sent.text)\n",
    "\n",
    "#         res = re.search(string.strip(), text)\n",
    "\n",
    "#         entities = []\n",
    "#         entities.append((res.start(),res.end(),label))\n",
    "\n",
    "#         train_data.append((text,{'entities':entities}))\n",
    "\n"
   ]
  },
  {
   "cell_type": "code",
   "execution_count": 14,
   "id": "8042ed20",
   "metadata": {
    "execution": {
     "iopub.execute_input": "2022-05-24T17:34:31.701937Z",
     "iopub.status.busy": "2022-05-24T17:34:31.701279Z",
     "iopub.status.idle": "2022-05-24T17:34:31.704338Z",
     "shell.execute_reply": "2022-05-24T17:34:31.704850Z",
     "shell.execute_reply.started": "2022-04-11T16:35:41.679947Z"
    },
    "papermill": {
     "duration": 0.077726,
     "end_time": "2022-05-24T17:34:31.705040",
     "exception": false,
     "start_time": "2022-05-24T17:34:31.627314",
     "status": "completed"
    },
    "tags": []
   },
   "outputs": [],
   "source": [
    "#doc"
   ]
  },
  {
   "cell_type": "code",
   "execution_count": 15,
   "id": "17cfcd6f",
   "metadata": {
    "execution": {
     "iopub.execute_input": "2022-05-24T17:34:31.845411Z",
     "iopub.status.busy": "2022-05-24T17:34:31.844654Z",
     "iopub.status.idle": "2022-05-24T17:34:31.847717Z",
     "shell.execute_reply": "2022-05-24T17:34:31.848262Z",
     "shell.execute_reply.started": "2022-04-11T16:35:56.010353Z"
    },
    "papermill": {
     "duration": 0.074857,
     "end_time": "2022-05-24T17:34:31.848456",
     "exception": false,
     "start_time": "2022-05-24T17:34:31.773599",
     "status": "completed"
    },
    "tags": []
   },
   "outputs": [],
   "source": [
    "# sentences = []\n",
    "# for sent in doc.sents:\n",
    "#     if string.strip() in sent.text:\n",
    "#         text = re.sub('[^0-9a-zA-Z@?|\\/<>.,()&^%$#!]+', ' ', sent.text)"
   ]
  },
  {
   "cell_type": "code",
   "execution_count": 16,
   "id": "f7692379",
   "metadata": {
    "execution": {
     "iopub.execute_input": "2022-05-24T17:34:31.991264Z",
     "iopub.status.busy": "2022-05-24T17:34:31.990583Z",
     "iopub.status.idle": "2022-05-24T17:34:31.993968Z",
     "shell.execute_reply": "2022-05-24T17:34:31.994548Z",
     "shell.execute_reply.started": "2022-04-11T16:39:04.736143Z"
    },
    "papermill": {
     "duration": 0.077745,
     "end_time": "2022-05-24T17:34:31.994742",
     "exception": false,
     "start_time": "2022-05-24T17:34:31.916997",
     "status": "completed"
    },
    "tags": []
   },
   "outputs": [],
   "source": [
    "# k=nlp(\"he             kenny\")\n",
    "# for sent in k.sents:\n",
    "#     print(sent)"
   ]
  },
  {
   "cell_type": "code",
   "execution_count": 17,
   "id": "292b02f1",
   "metadata": {
    "execution": {
     "iopub.execute_input": "2022-05-24T17:34:32.137868Z",
     "iopub.status.busy": "2022-05-24T17:34:32.137164Z",
     "iopub.status.idle": "2022-05-24T17:34:32.140488Z",
     "shell.execute_reply": "2022-05-24T17:34:32.140987Z",
     "shell.execute_reply.started": "2022-04-11T15:09:24.391421Z"
    },
    "papermill": {
     "duration": 0.075359,
     "end_time": "2022-05-24T17:34:32.141201",
     "exception": false,
     "start_time": "2022-05-24T17:34:32.065842",
     "status": "completed"
    },
    "tags": []
   },
   "outputs": [],
   "source": [
    "# text"
   ]
  },
  {
   "cell_type": "code",
   "execution_count": 18,
   "id": "37349b26",
   "metadata": {
    "execution": {
     "iopub.execute_input": "2022-05-24T17:34:32.297867Z",
     "iopub.status.busy": "2022-05-24T17:34:32.296393Z",
     "iopub.status.idle": "2022-05-24T17:34:32.300269Z",
     "shell.execute_reply": "2022-05-24T17:34:32.300810Z",
     "shell.execute_reply.started": "2022-04-11T15:09:31.9599Z"
    },
    "papermill": {
     "duration": 0.089695,
     "end_time": "2022-05-24T17:34:32.301003",
     "exception": false,
     "start_time": "2022-05-24T17:34:32.211308",
     "status": "completed"
    },
    "tags": []
   },
   "outputs": [],
   "source": [
    "# res = re.search(string.strip(), text)\n",
    "# res"
   ]
  },
  {
   "cell_type": "code",
   "execution_count": 19,
   "id": "6c14ad1a",
   "metadata": {
    "execution": {
     "iopub.execute_input": "2022-05-24T17:34:32.449839Z",
     "iopub.status.busy": "2022-05-24T17:34:32.449207Z",
     "iopub.status.idle": "2022-05-24T17:34:32.451041Z",
     "shell.execute_reply": "2022-05-24T17:34:32.451582Z",
     "shell.execute_reply.started": "2022-04-11T15:12:41.311242Z"
    },
    "papermill": {
     "duration": 0.075118,
     "end_time": "2022-05-24T17:34:32.451772",
     "exception": false,
     "start_time": "2022-05-24T17:34:32.376654",
     "status": "completed"
    },
    "tags": []
   },
   "outputs": [],
   "source": [
    "# entities = []\n",
    "# entities.append((res.start(),res.end(),'p'))"
   ]
  },
  {
   "cell_type": "code",
   "execution_count": 20,
   "id": "780e0c56",
   "metadata": {
    "execution": {
     "iopub.execute_input": "2022-05-24T17:34:32.594008Z",
     "iopub.status.busy": "2022-05-24T17:34:32.593303Z",
     "iopub.status.idle": "2022-05-24T17:34:32.594591Z",
     "shell.execute_reply": "2022-05-24T17:34:32.595199Z",
     "shell.execute_reply.started": "2022-04-11T15:12:52.736619Z"
    },
    "papermill": {
     "duration": 0.074856,
     "end_time": "2022-05-24T17:34:32.595389",
     "exception": false,
     "start_time": "2022-05-24T17:34:32.520533",
     "status": "completed"
    },
    "tags": []
   },
   "outputs": [],
   "source": [
    "# entities"
   ]
  },
  {
   "cell_type": "code",
   "execution_count": 21,
   "id": "ad6c05b1",
   "metadata": {
    "execution": {
     "iopub.execute_input": "2022-05-24T17:34:32.738212Z",
     "iopub.status.busy": "2022-05-24T17:34:32.737516Z",
     "iopub.status.idle": "2022-05-24T17:34:32.740642Z",
     "shell.execute_reply": "2022-05-24T17:34:32.741202Z",
     "shell.execute_reply.started": "2022-04-11T15:06:11.546217Z"
    },
    "papermill": {
     "duration": 0.077171,
     "end_time": "2022-05-24T17:34:32.741401",
     "exception": false,
     "start_time": "2022-05-24T17:34:32.664230",
     "status": "completed"
    },
    "tags": []
   },
   "outputs": [],
   "source": [
    "# text"
   ]
  },
  {
   "cell_type": "code",
   "execution_count": null,
   "id": "7b3d85d6",
   "metadata": {
    "execution": {
     "iopub.execute_input": "2022-04-11T15:02:33.300092Z",
     "iopub.status.busy": "2022-04-11T15:02:33.299778Z",
     "iopub.status.idle": "2022-04-11T15:02:33.30711Z",
     "shell.execute_reply": "2022-04-11T15:02:33.306345Z",
     "shell.execute_reply.started": "2022-04-11T15:02:33.300061Z"
    },
    "papermill": {
     "duration": 0.070466,
     "end_time": "2022-05-24T17:34:32.882088",
     "exception": false,
     "start_time": "2022-05-24T17:34:32.811622",
     "status": "completed"
    },
    "tags": []
   },
   "outputs": [],
   "source": []
  },
  {
   "cell_type": "code",
   "execution_count": 22,
   "id": "9f2c7e15",
   "metadata": {
    "execution": {
     "iopub.execute_input": "2022-05-24T17:34:33.026034Z",
     "iopub.status.busy": "2022-05-24T17:34:33.025340Z",
     "iopub.status.idle": "2022-05-24T17:34:33.028323Z",
     "shell.execute_reply": "2022-05-24T17:34:33.027751Z",
     "shell.execute_reply.started": "2022-04-11T16:21:02.863037Z"
    },
    "papermill": {
     "duration": 0.076397,
     "end_time": "2022-05-24T17:34:33.028484",
     "exception": false,
     "start_time": "2022-05-24T17:34:32.952087",
     "status": "completed"
    },
    "tags": []
   },
   "outputs": [],
   "source": [
    "# import spacy\n",
    "# nlp = spacy.load('en_core_web_sm')"
   ]
  },
  {
   "cell_type": "code",
   "execution_count": 23,
   "id": "2fb87604",
   "metadata": {
    "execution": {
     "iopub.execute_input": "2022-05-24T17:34:33.171536Z",
     "iopub.status.busy": "2022-05-24T17:34:33.170766Z",
     "iopub.status.idle": "2022-05-24T17:34:33.173076Z",
     "shell.execute_reply": "2022-05-24T17:34:33.173541Z",
     "shell.execute_reply.started": "2022-04-09T12:19:47.776612Z"
    },
    "papermill": {
     "duration": 0.076827,
     "end_time": "2022-05-24T17:34:33.173736",
     "exception": false,
     "start_time": "2022-05-24T17:34:33.096909",
     "status": "completed"
    },
    "tags": []
   },
   "outputs": [],
   "source": [
    "# !pip install PyPDF2\n",
    "# import PyPDF2\n",
    "# fhandle = open(r'/kaggle/input/sample-pdf/D8communications.pdf', 'rb')\n",
    "# pdfReader = PyPDF2.PdfFileReader(fhandle)\n",
    "# pagehandle = pdfReader.getPage(4)\n",
    "# print(pagehandle.extractText())"
   ]
  },
  {
   "cell_type": "code",
   "execution_count": 24,
   "id": "3abe12e9",
   "metadata": {
    "execution": {
     "iopub.execute_input": "2022-05-24T17:34:33.317004Z",
     "iopub.status.busy": "2022-05-24T17:34:33.316293Z",
     "iopub.status.idle": "2022-05-24T17:34:33.319693Z",
     "shell.execute_reply": "2022-05-24T17:34:33.319051Z",
     "shell.execute_reply.started": "2022-04-09T12:25:37.701467Z"
    },
    "papermill": {
     "duration": 0.077209,
     "end_time": "2022-05-24T17:34:33.319848",
     "exception": false,
     "start_time": "2022-05-24T17:34:33.242639",
     "status": "completed"
    },
    "tags": []
   },
   "outputs": [],
   "source": [
    "# !pip install pdfplumber\n",
    "# import pdfplumber\n",
    "# with pdfplumber.open(r'/kaggle/input/sample-pdf/D8communications.pdf') as pdf:\n",
    "#     first_page = pdf.pages[3]\n",
    "#     print(first_page.extract_text())"
   ]
  },
  {
   "cell_type": "code",
   "execution_count": 25,
   "id": "ecf18aa2",
   "metadata": {
    "execution": {
     "iopub.execute_input": "2022-05-24T17:34:33.462474Z",
     "iopub.status.busy": "2022-05-24T17:34:33.461733Z",
     "iopub.status.idle": "2022-05-24T17:34:33.464432Z",
     "shell.execute_reply": "2022-05-24T17:34:33.464947Z",
     "shell.execute_reply.started": "2022-04-09T12:25:49.584635Z"
    },
    "papermill": {
     "duration": 0.07537,
     "end_time": "2022-05-24T17:34:33.465147",
     "exception": false,
     "start_time": "2022-05-24T17:34:33.389777",
     "status": "completed"
    },
    "tags": []
   },
   "outputs": [],
   "source": [
    "# !pip install pytesseract"
   ]
  },
  {
   "cell_type": "code",
   "execution_count": 26,
   "id": "e357e041",
   "metadata": {
    "execution": {
     "iopub.execute_input": "2022-05-24T17:34:33.608726Z",
     "iopub.status.busy": "2022-05-24T17:34:33.607982Z",
     "iopub.status.idle": "2022-05-24T17:34:33.611110Z",
     "shell.execute_reply": "2022-05-24T17:34:33.611691Z",
     "shell.execute_reply.started": "2022-04-09T14:49:10.656812Z"
    },
    "papermill": {
     "duration": 0.075681,
     "end_time": "2022-05-24T17:34:33.611880",
     "exception": false,
     "start_time": "2022-05-24T17:34:33.536199",
     "status": "completed"
    },
    "tags": []
   },
   "outputs": [],
   "source": [
    "# #!pip install pdf2image\n",
    "# !pip install poppler"
   ]
  },
  {
   "cell_type": "code",
   "execution_count": 27,
   "id": "0740621b",
   "metadata": {
    "execution": {
     "iopub.execute_input": "2022-05-24T17:34:33.756927Z",
     "iopub.status.busy": "2022-05-24T17:34:33.756260Z",
     "iopub.status.idle": "2022-05-24T17:34:33.759141Z",
     "shell.execute_reply": "2022-05-24T17:34:33.759696Z",
     "shell.execute_reply.started": "2022-04-09T14:57:24.756677Z"
    },
    "papermill": {
     "duration": 0.078408,
     "end_time": "2022-05-24T17:34:33.759884",
     "exception": false,
     "start_time": "2022-05-24T17:34:33.681476",
     "status": "completed"
    },
    "tags": []
   },
   "outputs": [],
   "source": [
    "# pdf2image.convert_from_path('/kaggle/input/sample-pdf/D8communications.pdf')"
   ]
  },
  {
   "cell_type": "code",
   "execution_count": 28,
   "id": "6c30a630",
   "metadata": {
    "execution": {
     "iopub.execute_input": "2022-05-24T17:34:33.901115Z",
     "iopub.status.busy": "2022-05-24T17:34:33.900428Z",
     "iopub.status.idle": "2022-05-24T17:34:33.904354Z",
     "shell.execute_reply": "2022-05-24T17:34:33.904910Z",
     "shell.execute_reply.started": "2022-04-09T14:57:17.576149Z"
    },
    "papermill": {
     "duration": 0.076874,
     "end_time": "2022-05-24T17:34:33.905106",
     "exception": false,
     "start_time": "2022-05-24T17:34:33.828232",
     "status": "completed"
    },
    "tags": []
   },
   "outputs": [],
   "source": [
    "# import pdf2image\n",
    "# try:\n",
    "#     from PIL import Image\n",
    "# except ImportError:\n",
    "#     import Image\n",
    "# import pytesseract\n",
    "\n",
    "\n",
    "# def pdf_to_img(pdf_file):\n",
    "#     return pdf2image.convert_from_path(pdf_file)\n",
    "\n",
    "\n",
    "# def ocr_core(file):\n",
    "#     text = pytesseract.image_to_string(file)\n",
    "#     return text\n",
    "\n",
    "\n",
    "# def print_pages(pdf_file):\n",
    "#     images = pdf_to_img(pdf_file)\n",
    "#     for pg, img in enumerate(images):\n",
    "#         print(ocr_core(img))\n",
    "\n",
    "\n",
    "# print_pages('/kaggle/input/sample-pdf/D8communications.pdf')\n"
   ]
  },
  {
   "cell_type": "code",
   "execution_count": 29,
   "id": "07565f93",
   "metadata": {
    "execution": {
     "iopub.execute_input": "2022-05-24T17:34:34.053854Z",
     "iopub.status.busy": "2022-05-24T17:34:34.053123Z",
     "iopub.status.idle": "2022-05-24T17:34:34.056933Z",
     "shell.execute_reply": "2022-05-24T17:34:34.057574Z"
    },
    "papermill": {
     "duration": 0.081275,
     "end_time": "2022-05-24T17:34:34.057769",
     "exception": false,
     "start_time": "2022-05-24T17:34:33.976494",
     "status": "completed"
    },
    "tags": []
   },
   "outputs": [],
   "source": [
    "# import requests\n",
    "# import fitz\n",
    "# import io\n",
    "\n",
    "# #URL = 'https://buildmedia.readthedocs.org/media/pdf/pdfminer-docs/latest/pdfminer-docs.pdf'\n",
    "# URL = 'https://redactable-devox-stage.s3.us-east-2.amazonaws.com/tenants/41d9e109-693b-444c-aa18-e5891bc6550b/original/1a7c0e5d-3237-4ca9-9e3d-89e707245ac6/D8communications.pdf'\n",
    "\n",
    "\n",
    "# res = requests.get(URL)\n",
    "# filestream = io.BytesIO(res.content)\n",
    "# #res.content\n",
    "# filestream\n",
    "# doc = fitz.Document(stream=filestream)\n",
    "# page1 = doc.loadPage(3)\n",
    "# page1text = page1.getText(\"text\").encode(\"utf-8\").decode(\"utf-8\")\n",
    "# print(page1text)"
   ]
  },
  {
   "cell_type": "code",
   "execution_count": 30,
   "id": "18bf839b",
   "metadata": {
    "execution": {
     "iopub.execute_input": "2022-05-24T17:34:34.202419Z",
     "iopub.status.busy": "2022-05-24T17:34:34.201729Z",
     "iopub.status.idle": "2022-05-24T17:34:34.205631Z",
     "shell.execute_reply": "2022-05-24T17:34:34.206131Z",
     "shell.execute_reply.started": "2022-04-09T07:04:56.590103Z"
    },
    "papermill": {
     "duration": 0.077708,
     "end_time": "2022-05-24T17:34:34.206349",
     "exception": false,
     "start_time": "2022-05-24T17:34:34.128641",
     "status": "completed"
    },
    "tags": []
   },
   "outputs": [],
   "source": [
    "# import requests\n",
    "# import fitz\n",
    "\n",
    "# #URL = 'https://buildmedia.readthedocs.org/media/pdf/pdfminer-docs/latest/pdfminer-docs.pdf'\n",
    "# URL = 'https://redactable-devox-stage.s3.us-east-2.amazonaws.com/tenants/41d9e109-693b-444c-aa18-e5891bc6550b/original/1a7c0e5d-3237-4ca9-9e3d-89e707245ac6/D8communications.pdf'\n",
    "\n",
    "\n",
    "# res = requests.get(URL)\n",
    "# doc = fitz.open(stream=res.content,filetype=\"pdf\")\n",
    "# page1 = doc.loadPage(3)\n",
    "# page1text = page1.getText(\"text\")\n",
    "# #rect = (72.1149,661.2966,131.95729,675.1716)\n",
    "# rect=(72.10812377929688, 116.13427734375, 133.97142028808594, 146.4227294921875)\n",
    "# labelled_text = page1.get_textbox(rect)\n",
    "# print(labelled_text.strip())\n",
    "\n",
    "# fulltext = page1.get_text()\n",
    "# print(fulltext)\n",
    "# doc = nlp(fulltext)\n",
    "# sentences = []\n",
    "# for sent in doc.sents:\n",
    "#     if labelled_text in sent.text:\n",
    "#         text = sent.text\n",
    "#         print(text)\n",
    "# #print(page1text)"
   ]
  },
  {
   "cell_type": "code",
   "execution_count": 31,
   "id": "050b0e87",
   "metadata": {
    "execution": {
     "iopub.execute_input": "2022-05-24T17:34:34.347897Z",
     "iopub.status.busy": "2022-05-24T17:34:34.347193Z",
     "iopub.status.idle": "2022-05-24T17:34:34.350229Z",
     "shell.execute_reply": "2022-05-24T17:34:34.350780Z",
     "shell.execute_reply.started": "2022-04-08T16:42:57.6659Z"
    },
    "papermill": {
     "duration": 0.075635,
     "end_time": "2022-05-24T17:34:34.350972",
     "exception": false,
     "start_time": "2022-05-24T17:34:34.275337",
     "status": "completed"
    },
    "tags": []
   },
   "outputs": [],
   "source": [
    "#res.content"
   ]
  },
  {
   "cell_type": "code",
   "execution_count": 32,
   "id": "2482e6d1",
   "metadata": {
    "execution": {
     "iopub.execute_input": "2022-05-24T17:34:34.492506Z",
     "iopub.status.busy": "2022-05-24T17:34:34.491742Z",
     "iopub.status.idle": "2022-05-24T17:34:34.495861Z",
     "shell.execute_reply": "2022-05-24T17:34:34.496414Z",
     "shell.execute_reply.started": "2022-04-08T16:48:05.672392Z"
    },
    "papermill": {
     "duration": 0.076699,
     "end_time": "2022-05-24T17:34:34.496612",
     "exception": false,
     "start_time": "2022-05-24T17:34:34.419913",
     "status": "completed"
    },
    "tags": []
   },
   "outputs": [],
   "source": [
    "# import fitz\n",
    "# # mem_area=\n",
    "# # doc = fitz.open(stream=mem_area, filetype=\"pdf\")\n",
    "\n",
    "# import requests\n",
    "\n",
    "# URL = 'https://redactable-devox-stage.s3.us-east-2.amazonaws.com/tenants/41d9e109-693b-444c-aa18-e5891bc6550b/original/1a7c0e5d-3237-4ca9-9e3d-89e707245ac6/D8communications.pdf'\n",
    "\n",
    "# #res = requests.get(URL)\n",
    "# doc=fitz.open(\"/kaggle/input/sample-pdf/D8communications.pdf\")\n",
    "# #doc = fitz.open(stream=res.content,filetype=\"pdf\")\n",
    "# page1 = doc.loadPage(4)\n",
    "# # page1text = page1.getText(\"text\")\n",
    "# # print(page1text)\n",
    "# blocks = page1.getText(\"blocks\")\n",
    "# blocks.sort(key=lambda block: block[1])  # sort vertically ascending\n",
    "\n",
    "# for b in blocks:\n",
    "#     print(b[4])\n"
   ]
  },
  {
   "cell_type": "code",
   "execution_count": 33,
   "id": "f65c0aef",
   "metadata": {
    "execution": {
     "iopub.execute_input": "2022-05-24T17:34:34.638120Z",
     "iopub.status.busy": "2022-05-24T17:34:34.637140Z",
     "iopub.status.idle": "2022-05-24T17:34:34.640327Z",
     "shell.execute_reply": "2022-05-24T17:34:34.640830Z",
     "shell.execute_reply.started": "2022-04-08T16:48:13.086323Z"
    },
    "papermill": {
     "duration": 0.075629,
     "end_time": "2022-05-24T17:34:34.641018",
     "exception": false,
     "start_time": "2022-05-24T17:34:34.565389",
     "status": "completed"
    },
    "tags": []
   },
   "outputs": [],
   "source": [
    "# # page = doc[1]\n",
    "# words = page.get_text(\"words\")\n",
    "# #print(words)\n",
    "# rect = (72.1149,661.2966,131.95729,675.1716)\n",
    "\n",
    "# labelled_text = page.get_textbox(rect)\n",
    "# # labelled_text"
   ]
  },
  {
   "cell_type": "markdown",
   "id": "cab419ef",
   "metadata": {
    "papermill": {
     "duration": 0.070636,
     "end_time": "2022-05-24T17:34:34.781424",
     "exception": false,
     "start_time": "2022-05-24T17:34:34.710788",
     "status": "completed"
    },
    "tags": []
   },
   "source": [
    "pip install PyPDF2"
   ]
  },
  {
   "cell_type": "code",
   "execution_count": null,
   "id": "8b029b88",
   "metadata": {
    "papermill": {
     "duration": 0.069287,
     "end_time": "2022-05-24T17:34:34.919211",
     "exception": false,
     "start_time": "2022-05-24T17:34:34.849924",
     "status": "completed"
    },
    "tags": []
   },
   "outputs": [],
   "source": []
  },
  {
   "cell_type": "code",
   "execution_count": 34,
   "id": "b8ad49e1",
   "metadata": {
    "execution": {
     "iopub.execute_input": "2022-05-24T17:34:35.060645Z",
     "iopub.status.busy": "2022-05-24T17:34:35.059853Z",
     "iopub.status.idle": "2022-05-24T17:34:35.062818Z",
     "shell.execute_reply": "2022-05-24T17:34:35.063491Z",
     "shell.execute_reply.started": "2022-03-18T16:48:58.370268Z"
    },
    "papermill": {
     "duration": 0.075988,
     "end_time": "2022-05-24T17:34:35.063686",
     "exception": false,
     "start_time": "2022-05-24T17:34:34.987698",
     "status": "completed"
    },
    "tags": []
   },
   "outputs": [],
   "source": [
    "# import pandas as pd\n",
    "# h={'step': 0, 'type': 'string', 'amount': 0.0, 'nameOrig': 'C1231006815', 'oldbalanceOrig': 0.0, 'newbalanceOrig': 0.0, 'nameDest': 'M1979787155', 'oldbalanceDest': 0.0, 'newbalanceDest': 0.0}\n",
    "# df=pd.DataFrame([h])"
   ]
  },
  {
   "cell_type": "code",
   "execution_count": 35,
   "id": "3cd5304f",
   "metadata": {
    "execution": {
     "iopub.execute_input": "2022-05-24T17:34:35.205861Z",
     "iopub.status.busy": "2022-05-24T17:34:35.205141Z",
     "iopub.status.idle": "2022-05-24T17:34:35.208219Z",
     "shell.execute_reply": "2022-05-24T17:34:35.208835Z",
     "shell.execute_reply.started": "2022-04-09T17:21:26.021615Z"
    },
    "papermill": {
     "duration": 0.075554,
     "end_time": "2022-05-24T17:34:35.209030",
     "exception": false,
     "start_time": "2022-05-24T17:34:35.133476",
     "status": "completed"
    },
    "tags": []
   },
   "outputs": [],
   "source": [
    "#df"
   ]
  },
  {
   "cell_type": "code",
   "execution_count": null,
   "id": "80429fb3",
   "metadata": {
    "papermill": {
     "duration": 0.070121,
     "end_time": "2022-05-24T17:34:35.348105",
     "exception": false,
     "start_time": "2022-05-24T17:34:35.277984",
     "status": "completed"
    },
    "tags": []
   },
   "outputs": [],
   "source": []
  }
 ],
 "metadata": {
  "kernelspec": {
   "display_name": "Python 3",
   "language": "python",
   "name": "python3"
  },
  "language_info": {
   "codemirror_mode": {
    "name": "ipython",
    "version": 3
   },
   "file_extension": ".py",
   "mimetype": "text/x-python",
   "name": "python",
   "nbconvert_exporter": "python",
   "pygments_lexer": "ipython3",
   "version": "3.7.12"
  },
  "papermill": {
   "default_parameters": {},
   "duration": 24.596344,
   "end_time": "2022-05-24T17:34:36.332093",
   "environment_variables": {},
   "exception": null,
   "input_path": "__notebook__.ipynb",
   "output_path": "__notebook__.ipynb",
   "parameters": {},
   "start_time": "2022-05-24T17:34:11.735749",
   "version": "2.3.3"
  }
 },
 "nbformat": 4,
 "nbformat_minor": 5
}
