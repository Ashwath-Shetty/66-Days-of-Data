{
 "cells": [
  {
   "cell_type": "code",
   "execution_count": 1,
   "id": "34c8ec1f",
   "metadata": {
    "_cell_guid": "b1076dfc-b9ad-4769-8c92-a6c4dae69d19",
    "_uuid": "8f2839f25d086af736a60e9eeb907d3b93b6e0e5",
    "execution": {
     "iopub.execute_input": "2022-05-22T17:07:04.228717Z",
     "iopub.status.busy": "2022-05-22T17:07:04.220439Z",
     "iopub.status.idle": "2022-05-22T17:07:04.241032Z",
     "shell.execute_reply": "2022-05-22T17:07:04.240221Z",
     "shell.execute_reply.started": "2022-04-12T14:12:25.248687Z"
    },
    "papermill": {
     "duration": 0.101021,
     "end_time": "2022-05-22T17:07:04.241215",
     "exception": false,
     "start_time": "2022-05-22T17:07:04.140194",
     "status": "completed"
    },
    "tags": []
   },
   "outputs": [
    {
     "name": "stdout",
     "output_type": "stream",
     "text": [
      "/kaggle/input/sample-pdf/D8communications.pdf\n"
     ]
    }
   ],
   "source": [
    "# This Python 3 environment comes with many helpful analytics libraries installed\n",
    "# It is defined by the kaggle/python Docker image: https://github.com/kaggle/docker-python\n",
    "# For example, here's several helpful packages to load\n",
    "\n",
    "import numpy as np # linear algebra\n",
    "import pandas as pd # data processing, CSV file I/O (e.g. pd.read_csv)\n",
    "\n",
    "# Input data files are available in the read-only \"../input/\" directory\n",
    "# For example, running this (by clicking run or pressing Shift+Enter) will list all files under the input directory\n",
    "\n",
    "import os\n",
    "for dirname, _, filenames in os.walk('/kaggle/input'):\n",
    "    for filename in filenames:\n",
    "        print(os.path.join(dirname, filename))\n",
    "\n",
    "# You can write up to 20GB to the current directory (/kaggle/working/) that gets preserved as output when you create a version using \"Save & Run All\" \n",
    "# You can also write temporary files to /kaggle/temp/, but they won't be saved outside of the current session"
   ]
  },
  {
   "cell_type": "markdown",
   "id": "5f756819",
   "metadata": {
    "papermill": {
     "duration": 0.068375,
     "end_time": "2022-05-22T17:07:04.381304",
     "exception": false,
     "start_time": "2022-05-22T17:07:04.312929",
     "status": "completed"
    },
    "tags": []
   },
   "source": [
    "# **Start Date: 12/3/2022**"
   ]
  },
  {
   "cell_type": "markdown",
   "id": "9499075f",
   "metadata": {
    "papermill": {
     "duration": 0.068255,
     "end_time": "2022-05-22T17:07:04.518683",
     "exception": false,
     "start_time": "2022-05-22T17:07:04.450428",
     "status": "completed"
    },
    "tags": []
   },
   "source": [
    "# **Day 1:** \n",
    "<br>dataquest -> stats -> probability-> estimating probability\n",
    "1. out come is nothing but o/p of an experiment\n",
    "ex: whatever u get after rolling a dice -> it can be any number\n",
    "2. event can have more than one outcome\n",
    "- e.x: The event that we'll get an odd number when we roll a six-sided die — this event includes the outcomes 1, 3, and 5.\n",
    "- an event can be 0 as well.\n",
    "- We always assign probabilities to events, not outcomes, even if the event includes only one outcome.\n",
    "- P(E) =1/total number of possible outcomes, P(E) probability of an event happening.\n",
    "- but above formula doesn't work always, especially when there are more than one outcome\n",
    "    - P(E)=number of successful outcomes/total number of possible outcomes\n",
    "- incase of a biased situation \n",
    "  - let's say a die has 6 - 3 times which is 1,6,3,5,6,6\n",
    "    we will consider 6 as 3 times not 1.\n",
    "    possible outcome-> 1,3,5,6,6,6\n",
    "    prob(6)=3/6\n",
    "    prob(3)=1/6\n",
    "    prob(2)=0/6\n",
    "    If we didn't treat each 6 differently and said it doesn't matter which side a 6 is on, \n",
    "    <br>we'd be forced to conclude the only possible outcomes are 1, 3, 5 and 6. We can definitely         <br>frame the problem like that, but the formula above won't work anymore — we see below P(6) <br>becomes the same as P(3), but, intuitively, P(6) should be higher than P(3) since the die has 6 on     <br>three of its sides:\n"
   ]
  },
  {
   "cell_type": "markdown",
   "id": "19a46e49",
   "metadata": {
    "papermill": {
     "duration": 0.0693,
     "end_time": "2022-05-22T17:07:04.657074",
     "exception": false,
     "start_time": "2022-05-22T17:07:04.587774",
     "status": "completed"
    },
    "tags": []
   },
   "source": [
    "Estimating Probabilities Conclusion\n",
    "- emperical/ experimental probability\n",
    "  - probability achieved by experimenting / by doing the same event multiple times.\n",
    "  - Generally, for any event E (like a coin landing heads up), we can find its empirical probability   \n",
    "     by using the following formula: \n",
    "     •P (E) =number of times event E happened/ number of times we repeated the experiment   \n",
    " - Generally, the empirical probability of an event (a coin landing heads up, getting a 5 when weroll a die) approaches the true probability value as the number of trials of the randomexperiment (a coin toss, the rolling of a die) increases without bound.\n",
    "- When we calculate the probability of an event under the assumption that the outcomes have equal chances of occurring, we say that we're calculating the **theoretical probability** of an event.\n",
    "   - P(E)=number of successful outcomes/total number of possible outcomes\n",
    "\n"
   ]
  },
  {
   "cell_type": "markdown",
   "id": "e18e2048",
   "metadata": {
    "papermill": {
     "duration": 0.069629,
     "end_time": "2022-05-22T17:07:04.796380",
     "exception": false,
     "start_time": "2022-05-22T17:07:04.726751",
     "status": "completed"
    },
    "tags": []
   },
   "source": [
    "# **Day 2**\n",
    "<br>dataquest-> stats -> intro to probability -> probability rules\n",
    "<br>In probability theory, the set of all possible outcomes is called a sample space. A sample space is often denoted by the capital Greek letter Ω (read \"omega\"). This is how we represent the sample space of a die roll:\n",
    "\n",
    "Ω = {1,2,3,4,5,6}\n",
    "-    The probability of any event ranges between 0 and 1: 0≤ P(Event) ≤1\n",
    "- To calculate P(A or B), we can also use the formula below, which is sometimes called the addition rule: P(A or B) = P(A) + P(B)\n",
    "  - Sample space ={ 1,2,3,4,5,6} \n",
    "  - P(2 or 5) = 2/6\n",
    "\n",
    "- P(C or D) = P(C) + P(D) - P(C and D)\n",
    "   - e.x : Sample_space ={2,4,6} + { 4,5,6} - {4/6}\n",
    "      P( even number or number greater than 3) = ( (3/6) + (3/6) )- (2/6) = 4/6\n",
    "- Events that don't intersect are called mutually exclusive.\n",
    "  - e.x: Getting a 5 (event one) and getting a 3 (event two) when we roll a regular six-sided die — it's  impossible to get both a 5 and 3.\n",
    "- Events that intersect are called mutually non-exclusive.\n",
    "  - Getting a number greater than 2 (event one) and getting an odd number (event two) when we roll a regular six-sided die — we could get a 5, which is both greater than 2 (event one) and odd (event two).\n",
    "- unioun -> A or B, intersection -> A and B"
   ]
  },
  {
   "cell_type": "markdown",
   "id": "1a2c2a48",
   "metadata": {
    "papermill": {
     "duration": 0.070412,
     "end_time": "2022-05-22T17:07:04.935410",
     "exception": false,
     "start_time": "2022-05-22T17:07:04.864998",
     "status": "completed"
    },
    "tags": []
   },
   "source": [
    "# Day 3 and 4\n",
    "dataquest -> stats -> probabilities -> solving complex probabilities\n",
    "- This is the same result we got from our previous approach. In more general terms, the multiplication rule says that for two events E1 and E2, the probability that both event E1 and E2 happen can be found by multiplying the probability of E1 by the probability of E2:\n",
    "    - P(E1 ∩ E2) = P(E1) × P(E2)\n",
    "    - Events that don't influence each other's probability are called independent events. If H1 happens, P(H2) stays the same, so H1 and H2 are independent. The multiplication rule we learned only works for independent events.\n",
    "    "
   ]
  },
  {
   "cell_type": "markdown",
   "id": "b53fbb3c",
   "metadata": {
    "papermill": {
     "duration": 0.06913,
     "end_time": "2022-05-22T17:07:05.074302",
     "exception": false,
     "start_time": "2022-05-22T17:07:05.005172",
     "status": "completed"
    },
    "tags": []
   },
   "source": [
    "# Day 5\n",
    "- When we replace the cards after drawing, we say that we're sampling with replacement. When we don't put the cards back, we're sampling without replacement. \n"
   ]
  },
  {
   "cell_type": "markdown",
   "id": "ed6d4669",
   "metadata": {
    "papermill": {
     "duration": 0.068936,
     "end_time": "2022-05-22T17:07:05.213950",
     "exception": false,
     "start_time": "2022-05-22T17:07:05.145014",
     "status": "completed"
    },
    "tags": []
   },
   "source": [
    "# Day6\n",
    "dataquest-> prob and stats -> probability fundamentals -> permutation and combinations\n",
    "Generally, if we have an experiment E1 (like flipping a coin) with a outcomes, followed by an experiment E2 (like rolling a die) with b outcomes, then the total number of outcomes for the composite experiment E1E2 can be found by multiplying a with b:\n",
    "\n",
    "Number of outcomes = a * b"
   ]
  },
  {
   "cell_type": "markdown",
   "id": "b9bf0701",
   "metadata": {
    "papermill": {
     "duration": 0.068617,
     "end_time": "2022-05-22T17:07:05.350768",
     "exception": false,
     "start_time": "2022-05-22T17:07:05.282151",
     "status": "completed"
    },
    "tags": []
   },
   "source": [
    "# Day 7\n",
    "dataquest-> prob and stats -> probability fundamentals -> permutation and combinations <br>\n",
    "More generally, if we have an experiment E1 with a outcomes, followed by an experiment E2 with b outcomes, followed by an experiment En with z outcomes, the total number of outcomes for the composite experiment E1E2 ... En can be found by multiplying their individual outcomes:\n",
    "\n",
    "Number of outcomes= a * b * … * z"
   ]
  },
  {
   "cell_type": "markdown",
   "id": "6e845343",
   "metadata": {
    "papermill": {
     "duration": 0.068347,
     "end_time": "2022-05-22T17:07:05.487076",
     "exception": false,
     "start_time": "2022-05-22T17:07:05.418729",
     "status": "completed"
    },
    "tags": []
   },
   "source": [
    "# Day 8\n",
    "dataquest-> prob and stats -> probability fundamentals -> permutation and combinations <br>\n",
    "permutations= n*(n-1)*(n-2)*....*2*1\n"
   ]
  },
  {
   "cell_type": "markdown",
   "id": "e4b0efe8",
   "metadata": {
    "papermill": {
     "duration": 0.068096,
     "end_time": "2022-05-22T17:07:05.623265",
     "exception": false,
     "start_time": "2022-05-22T17:07:05.555169",
     "status": "completed"
    },
    "tags": []
   },
   "source": [
    "# Day 9\n",
    "dataquest-> prob and stats -> probability fundamentals -> permutation and combinations\n",
    "- in permutation order of the individual element in the arranement matters.\n",
    "   - for e.x: 9821 is different than 9281\n",
    "   - Permutations =n!  --> sample without replacement-> we are not putting back the sampled data.\n",
    "   - On the last screen, we learned to use the formula below to calculate permutations when we're sampling without replacement and taking only k objects from a group of n objects:\n",
    "   npk=n!/(n-k)!"
   ]
  },
  {
   "cell_type": "markdown",
   "id": "dabe2b37",
   "metadata": {
    "papermill": {
     "duration": 0.070848,
     "end_time": "2022-05-22T17:07:05.763343",
     "exception": false,
     "start_time": "2022-05-22T17:07:05.692495",
     "status": "completed"
    },
    "tags": []
   },
   "source": [
    "# Day 10\n",
    "dataquest-> prob and stats -> probability fundamentals -> permutation and combinations\n",
    "- More generally, if the order of the elements in an arrangement doesn't matter, the arrangement is called a combination.\n",
    "- e.x: cards in a deck \n",
    "- nCk = n! / ((n-k)!*k!)"
   ]
  },
  {
   "cell_type": "markdown",
   "id": "d93d426c",
   "metadata": {
    "papermill": {
     "duration": 0.068941,
     "end_time": "2022-05-22T17:07:05.900833",
     "exception": false,
     "start_time": "2022-05-22T17:07:05.831892",
     "status": "completed"
    },
    "tags": []
   },
   "source": [
    "# Day 11\n",
    "dataquest-> prob and stats -> probability fundamentals -> permutation and combinations\n",
    "- solved 1 probability problem.\n"
   ]
  },
  {
   "cell_type": "markdown",
   "id": "f907e093",
   "metadata": {
    "papermill": {
     "duration": 0.068552,
     "end_time": "2022-05-22T17:07:06.038250",
     "exception": false,
     "start_time": "2022-05-22T17:07:05.969698",
     "status": "completed"
    },
    "tags": []
   },
   "source": [
    "# Day 12\n",
    "dataquest-> prob and stats -> probability fundamentals -> permutation and combinations\n",
    "- finished probability and permutations by revising them.\n",
    "- If we have an experiment E1 (like flipping a coin) with a outcomes, followed by an experiment E2(like rolling a die) with b outcomes, then the total number of outcomes for the compositeexperiment E1E2 can be found by multiplying a with b (this is known as the rule of product):\n",
    "  - number of outcomes = a*b\n",
    "- If we have an experiment E1 with a outcomes, followed by an experiment E2 with b outcomes,followed by an experiment En with z outcomes, the total number of outcomes for the compositeexperiment E1E2 ... En can be found by multiplying their individual outcomes:\n",
    "   - number of outcomes = a*b* ... *z\n",
    "- There are two kinds of arrangements:\n",
    "   - •Arrangements where the order matters, which we call permutations.\n",
    "   - •Arrangements where the order doesn't matter, which we call combination\n",
    "- To find the number of permutations when we're sampling without replacement, we can use theformula:\n",
    "  - permutation = n!\n",
    "- To find the number of permutations when we're sampling without replacement and taking only kobjects from a group of n objects, we can use the formula:\n",
    "  - nPk = n!/(n-k)!\n",
    "- To find the number of combinations when we're sampling without replacement and taking only kobjects from a group of n objects, we can use the formula\n",
    "  - nCk = n! / ((n-k)!*k!)"
   ]
  },
  {
   "cell_type": "markdown",
   "id": "da9c2752",
   "metadata": {
    "papermill": {
     "duration": 0.069124,
     "end_time": "2022-05-22T17:07:06.175950",
     "exception": false,
     "start_time": "2022-05-22T17:07:06.106826",
     "status": "completed"
    },
    "tags": []
   },
   "source": [
    "# Day 13\n",
    "dataquest-> prob and stats -> probability fundamentals -> conditional probabilities\n",
    "- first 2 slides -> mainly the recap of old chapter(above one).\n"
   ]
  },
  {
   "cell_type": "markdown",
   "id": "058452fe",
   "metadata": {
    "papermill": {
     "duration": 0.069328,
     "end_time": "2022-05-22T17:07:06.314688",
     "exception": false,
     "start_time": "2022-05-22T17:07:06.245360",
     "status": "completed"
    },
    "tags": []
   },
   "source": [
    "# Day 14\n",
    "dataquest-> prob and stats -> probability fundamentals -> conditional probabilities\n",
    "<br>slide 4 completed\n",
    "<br>conditional probabilities\n",
    "- probabilities with condition\n",
    "- P(5)=What is the probability of getting a 5? -> normal probability\n",
    "- P(5 | odd) =What is the probability of getting a 5 given the die showed an odd number? -> conditional prob.\n",
    "\n"
   ]
  },
  {
   "cell_type": "markdown",
   "id": "549c1795",
   "metadata": {
    "papermill": {
     "duration": 0.070987,
     "end_time": "2022-05-22T17:07:06.455167",
     "exception": false,
     "start_time": "2022-05-22T17:07:06.384180",
     "status": "completed"
    },
    "tags": []
   },
   "source": [
    "# Day 15\n",
    "dataquest-> prob and stats -> probability fundamentals -> conditional probabilities\n",
    "- on slide 5 not done yet.\n",
    "\n",
    "Say we roll a fair six-sided die and want to find the probability of getting an odd number, given the die showed a number greater than 1 after landing. Using probability notation, we want to find P(A|B) where:\n",
    "\n",
    "- A is the event that the number is odd: A = {1, 3, 5}\n",
    "- B is the event that the number is greater than 1: B = {2, 3, 4, 5, 6}\n",
    "- P(A/B)=number of succesfull outcomes / total number of outcomes.\n"
   ]
  },
  {
   "cell_type": "markdown",
   "id": "28201551",
   "metadata": {
    "papermill": {
     "duration": 0.068152,
     "end_time": "2022-05-22T17:07:06.592133",
     "exception": false,
     "start_time": "2022-05-22T17:07:06.523981",
     "status": "completed"
    },
    "tags": []
   },
   "source": [
    "# Day 16 and 17\n",
    "dataquest-> prob and stats -> probability fundamentals -> conditional probabilities\n",
    "\n",
    "on slide 6 not done yet."
   ]
  },
  {
   "cell_type": "markdown",
   "id": "a6335555",
   "metadata": {
    "papermill": {
     "duration": 0.068149,
     "end_time": "2022-05-22T17:07:06.733821",
     "exception": false,
     "start_time": "2022-05-22T17:07:06.665672",
     "status": "completed"
    },
    "tags": []
   },
   "source": [
    "# Day 18\n",
    "dataquest-> prob and stats -> probability fundamentals -> conditional probabilities\n",
    "<br>slide 5 code half done"
   ]
  },
  {
   "cell_type": "markdown",
   "id": "5383d89e",
   "metadata": {
    "papermill": {
     "duration": 0.068131,
     "end_time": "2022-05-22T17:07:06.870751",
     "exception": false,
     "start_time": "2022-05-22T17:07:06.802620",
     "status": "completed"
    },
    "tags": []
   },
   "source": [
    "# Day 19\n",
    "- The number of elements in a set is called the cardinal of the set. \n",
    "  Ω is a set, and the cardinal of \n",
    "   Ω = { 2,3,4,5,6}\n",
    "   cardinal(Ω)=5\n",
    "- P(A | B) = card(A ∩ B) / card(B)\n",
    "- Say we roll a fair six-sided die and want to find the probability of getting an odd number, given the die showed a number greater than 1 after landing. Using probability notation, we want to find P(A|B) where:\n",
    "    - A is the event that the number is odd: A = {1, 3, 5}\n",
    "     - B is the event that the number is greater than 1: B = {2, 3, 4, 5, 6}\n",
    "     - total number of possible outcomes = card({2,3,4,5,6}) =5\n",
    "     - number of successful outcomes = card({3,5})= 2\n",
    "- P(A | B) = card(A ∩ B) / card(B), we can also get the same result using P(A | B) = prob(A ∩ B) / prob(B)\n",
    "\n",
    "     "
   ]
  },
  {
   "cell_type": "markdown",
   "id": "33d42bdb",
   "metadata": {
    "papermill": {
     "duration": 0.068367,
     "end_time": "2022-05-22T17:07:07.011499",
     "exception": false,
     "start_time": "2022-05-22T17:07:06.943132",
     "status": "completed"
    },
    "tags": []
   },
   "source": [
    "# Day 20\n",
    "dataquest-> prob and stats -> probability fundamentals -> conditional probabilities intermediate\n",
    "<br> slide 1 and 2\n",
    "- P( A | B ) ≠ P(A ∩ B), but rather:\n",
    "   - P(A | B) = P(A ∩ B) / P(B)\n",
    "   - P(A ∩ B) = P(A | B) ⋅ P(B)\n",
    "- Given that a customer bought a laptop, they will or will not also buy a mouse. This means we can be certain that either event (M|L) or (M^C|L) will happen:\n",
    "     - P(M | L) + P(M^C | L) = 1\n",
    "\n"
   ]
  },
  {
   "cell_type": "markdown",
   "id": "726d2087",
   "metadata": {
    "papermill": {
     "duration": 0.069557,
     "end_time": "2022-05-22T17:07:07.150991",
     "exception": false,
     "start_time": "2022-05-22T17:07:07.081434",
     "status": "completed"
    },
    "tags": []
   },
   "source": [
    "# Day 21\n",
    "dataquest-> prob and stats -> probability fundamentals -> conditional probabilities intermediate\n",
    "slide 1 and 2\n",
    "- P(A ∩ B) = P(B ∩ A)\n",
    "- multiplication rule of probability\n",
    "  -  P(A ∩ B) = P(B) ⋅ P(A | B) \n",
    "  - P(A ∩ B) = P(A) ⋅ P(B | A)\n",
    "- if P(A) and P(B) are statistically independent then \n",
    "  - P(A ∩ B) = P(A) ⋅ P(B)\n",
    "\n"
   ]
  },
  {
   "cell_type": "markdown",
   "id": "f2808011",
   "metadata": {
    "papermill": {
     "duration": 0.069179,
     "end_time": "2022-05-22T17:07:07.288480",
     "exception": false,
     "start_time": "2022-05-22T17:07:07.219301",
     "status": "completed"
    },
    "tags": []
   },
   "source": [
    "# Day 22\n",
    "dataquest-> prob and stats -> probability fundamentals -> conditional probabilities intermediate \n",
    "<br>slide 6\n",
    "- If events events A and B are dependent, it means the occurrence of event A changes the probability of event B and vice versa.\n",
    "   - P(A) ≠ P(A | B)\n",
    "   - P(B) ≠ P(B | A)\n",
    "   - P(A ∩ B) ≠ P(A) ⋅ P(B)\n",
    "   - formula will become P(A ∩ B) ≠ P(A) ⋅ P(B/A)\n",
    "   "
   ]
  },
  {
   "cell_type": "markdown",
   "id": "a473a7d1",
   "metadata": {
    "papermill": {
     "duration": 0.068253,
     "end_time": "2022-05-22T17:07:07.426306",
     "exception": false,
     "start_time": "2022-05-22T17:07:07.358053",
     "status": "completed"
    },
    "tags": []
   },
   "source": [
    "# Day 23\n",
    "dataquest-> prob and stats -> probability fundamentals -> conditional probabilities intermediate\n",
    "<br>slide 7 to last\n",
    "- To find whether three events — A, B, C — are independent or not, below conditions must hold true -\n",
    "  - P(A ∩ B) ≠ P(A) ⋅ P(B)\n",
    "  - P(A ∩ C) ≠ P(A) ⋅ P(C)\n",
    "  - P(B ∩ C) ≠ P(B) ⋅ P(C)\n",
    "  - P(A ∩ B ∩ C) ≠ P(A) ⋅ P(B) . P(C)\n",
    "- multiplication rule for conditional probability or dependent events\n",
    " - P(A ∩ B ∩ C) = P(A) ⋅ P(B | A) ⋅ P(C | A ∩ B)\n",
    " \n",
    "\n"
   ]
  },
  {
   "cell_type": "markdown",
   "id": "73726532",
   "metadata": {
    "papermill": {
     "duration": 0.06902,
     "end_time": "2022-05-22T17:07:07.564887",
     "exception": false,
     "start_time": "2022-05-22T17:07:07.495867",
     "status": "completed"
    },
    "tags": []
   },
   "source": [
    "# Day 24\n",
    "dataquest-> prob and stats -> probability fundamentals -> bayes theorem\n",
    "<br>slide 1\n",
    "- independent -> one event is dependent on other\n",
    "   - P(A ∩ B) = P(A) ⋅ P(B/A)\n",
    "- independent -> one event is not dependent on other.\n",
    "   - P(A ∩ B) = P(A) ⋅ P(B)\n",
    "- mutually exclusive -> both the events cannot happen at the same time.\n",
    "   - P(A ∩ B) = 0\n",
    "\n"
   ]
  },
  {
   "cell_type": "markdown",
   "id": "36c8933c",
   "metadata": {
    "papermill": {
     "duration": 0.068658,
     "end_time": "2022-05-22T17:07:07.703252",
     "exception": false,
     "start_time": "2022-05-22T17:07:07.634594",
     "status": "completed"
    },
    "tags": []
   },
   "source": [
    "# Day 25\n",
    "dataquest-> prob and stats -> probability fundamentals -> bayes theorem\n",
    "<br>slide 2\n",
    "- If two events are exhaustive, it means they make up the whole sample space Ω\n",
    "  -  P(A) = P(A ∩ B) + P(A ∩ B^c)\n",
    "     P(A) = (P(B) * P(A/B)) +  (P(B^c) * P(A/B^c))\n",
    "     \n",
    "     "
   ]
  },
  {
   "cell_type": "markdown",
   "id": "63885b96",
   "metadata": {
    "papermill": {
     "duration": 0.068925,
     "end_time": "2022-05-22T17:07:07.840487",
     "exception": false,
     "start_time": "2022-05-22T17:07:07.771562",
     "status": "completed"
    },
    "tags": []
   },
   "source": [
    "# Day 26\n",
    "dataquest-> prob and stats -> probability fundamentals -> bayes theorem\n",
    "<br>slide 3 - last\n",
    "- the law of total probability\n",
    "  - P(A)  = (P(B1) * P(A/B1)) + (P(B2) * P(A/B2))+ ... + (P(Bn) * P(A/Bn)))\n",
    "  - P(A) =(summattion i=1 to n) P(Bi) ⋅ P(A|Bi)\n",
    "- Baye's theorem\n",
    "  - P(B | A) = (P(B) ⋅ P(A | B)) / (n ∑i=1 P(Bi) ⋅ P(A | Bi))\n",
    "- The probability of being infected with HIV before doing any test is called the prior probability (\"prior\" means \"before\"). The probability of being infected with HIV after testing positive is called the posterior probability (\"posterior\" means \"after\").\n",
    "\n",
    "\n",
    "  "
   ]
  },
  {
   "cell_type": "markdown",
   "id": "458141f6",
   "metadata": {
    "papermill": {
     "duration": 0.070661,
     "end_time": "2022-05-22T17:07:07.981254",
     "exception": false,
     "start_time": "2022-05-22T17:07:07.910593",
     "status": "completed"
    },
    "tags": []
   },
   "source": [
    "# Day 27\n",
    "dataquest-> prob and stats -> probability fundamentals -> naive bayes theorem\n",
    "<br>slide 1 - \n",
    "P(Spam|w1,w2,w3,w4)∝P(Spam)⋅P(w1|Spam)⋅P(w2|Spam)⋅P(w3|Spam)⋅P(w4|Spam)P(SpamC|w1,w2,w3,w4)∝P(SpamC)⋅P(w1|SpamC)⋅P(w2|SpamC)⋅P(w3|SpamC)⋅P(w4|SpamC)"
   ]
  },
  {
   "cell_type": "markdown",
   "id": "fb655be0",
   "metadata": {
    "papermill": {
     "duration": 0.068472,
     "end_time": "2022-05-22T17:07:08.120212",
     "exception": false,
     "start_time": "2022-05-22T17:07:08.051740",
     "status": "completed"
    },
    "tags": []
   },
   "source": [
    "# Day 28\n",
    "dataquest-> prob and stats -> probability fundamentals -> naive bayes theorem\n",
    "<br>finished.\n",
    "<br>**Summary**\n",
    "- P(Spam|w1,w2,...,wn)∝P(Spam)⋅n∏i=1P(wi|Spam)\n",
    "- P(SpamC|w1,w2,...,wn)∝P(SpamC)⋅n∏i=1P(wi|SpamC)\n",
    "- To calculate P(wi|Spam) and P(wi|SpamC), we need to use the additive smoothing technique: \n",
    "- P ( w i | S p a m ) = (N w i | S p a m + α) / ( N S p a m + α ⋅ N V o c a b u l a r y )\n",
    "- P ( w i | S p a m C ) = (N w i | S p a m C + α) / ( N S p a m C + α ⋅ N V o c a b u l a r y )\n",
    "     - N w i | S p a m = the number of times the word w i occurs in spam messages \n",
    "     - N w i | S p a m C = the number of times the word w i occurs in non-spam messages \n",
    "     - N S p a m = total number of words in spam messages \n",
    "     - N S p a m C = total number of words in non-spam messages \n",
    "     - N V o c a b u l a r y = total number of words in the vocabulary \n",
    "     - α = 1 ( α is a smoothing parameter )\n",
    " - naive bayes theorem assumes that events are not dependent.\n",
    " - The assumption of conditional independence between words is thus naive since it rarely holds in practice, and this is why the algorithm is called Naive Bayes (also called simple Bayes or independence Bayes)."
   ]
  },
  {
   "cell_type": "markdown",
   "id": "cf35770a",
   "metadata": {
    "papermill": {
     "duration": 0.068287,
     "end_time": "2022-05-22T17:07:08.257100",
     "exception": false,
     "start_time": "2022-05-22T17:07:08.188813",
     "status": "completed"
    },
    "tags": []
   },
   "source": [
    "# Day 29,30,31\n",
    "<br>dataquest-> prob and stats -> probability fundamentals -> conditional probability-> guided projects\n",
    "<br> in progress"
   ]
  },
  {
   "cell_type": "markdown",
   "id": "ad1a2e6f",
   "metadata": {
    "papermill": {
     "duration": 0.068303,
     "end_time": "2022-05-22T17:07:08.396352",
     "exception": false,
     "start_time": "2022-05-22T17:07:08.328049",
     "status": "completed"
    },
    "tags": []
   },
   "source": [
    "# Day 32 and 33\n",
    "<br>dataquest-> prob and stats -> probability fundamentals -> guided projects\n",
    "<br> done"
   ]
  },
  {
   "cell_type": "markdown",
   "id": "b51d5d8f",
   "metadata": {
    "papermill": {
     "duration": 0.068413,
     "end_time": "2022-05-22T17:07:08.534038",
     "exception": false,
     "start_time": "2022-05-22T17:07:08.465625",
     "status": "completed"
    },
    "tags": []
   },
   "source": [
    "# Day 34\n",
    "<br>dataquest-> prob and stats -> probability fundamentals -> guided projects-> lottery prediction\n",
    "<br> done"
   ]
  },
  {
   "cell_type": "markdown",
   "id": "b97f67e0",
   "metadata": {
    "papermill": {
     "duration": 0.068177,
     "end_time": "2022-05-22T17:07:08.670812",
     "exception": false,
     "start_time": "2022-05-22T17:07:08.602635",
     "status": "completed"
    },
    "tags": []
   },
   "source": [
    "# Day 35\n",
    "<br>dataquest-> prob and stats -> hypothesis testing fundamentals -> significance testing\n",
    "<br> till slide 4\n",
    "- null hypothesis\n",
    "- alternate hypothesis\n"
   ]
  },
  {
   "cell_type": "markdown",
   "id": "8d29114a",
   "metadata": {
    "papermill": {
     "duration": 0.078095,
     "end_time": "2022-05-22T17:07:08.818856",
     "exception": false,
     "start_time": "2022-05-22T17:07:08.740761",
     "status": "completed"
    },
    "tags": []
   },
   "source": [
    "# Day 36 and 37\n",
    "<br>dataquest-> prob and stats -> hypothesis testing fundamentals -> significance testing\n",
    "- The permutation test is a statistical test that involves rerunning the study many times and recalculating the test statistic for each iteration. The goal is to calculate a distribution of the test statistics over these many iterations. This distribution is called the sampling distribution and it approximates the full range of possible test statistics under the null hypothesis\n",
    "\n"
   ]
  },
  {
   "cell_type": "markdown",
   "id": "a4cfa16c",
   "metadata": {
    "papermill": {
     "duration": 0.070196,
     "end_time": "2022-05-22T17:07:08.957689",
     "exception": false,
     "start_time": "2022-05-22T17:07:08.887493",
     "status": "completed"
    },
    "tags": []
   },
   "source": [
    "# Day 38\n",
    "<br>dataquest-> prob and stats -> hypothesis testing fundamentals -> significance testing\n",
    "<br>in progress."
   ]
  },
  {
   "cell_type": "markdown",
   "id": "a9352da8",
   "metadata": {
    "papermill": {
     "duration": 0.068891,
     "end_time": "2022-05-22T17:07:09.094995",
     "exception": false,
     "start_time": "2022-05-22T17:07:09.026104",
     "status": "completed"
    },
    "tags": []
   },
   "source": [
    "# Day 39\n",
    "<br>dataquest-> prob and stats -> hypothesis testing fundamentals -> significance testing\n",
    "<br>slide 5-6"
   ]
  },
  {
   "cell_type": "markdown",
   "id": "40b8b11a",
   "metadata": {
    "papermill": {
     "duration": 0.068392,
     "end_time": "2022-05-22T17:07:09.232317",
     "exception": false,
     "start_time": "2022-05-22T17:07:09.163925",
     "status": "completed"
    },
    "tags": []
   },
   "source": [
    "# Day 40\n",
    "<br>dataquest-> prob and stats -> hypothesis testing fundamentals -> significance testing\n",
    "<br>slide 7"
   ]
  },
  {
   "cell_type": "markdown",
   "id": "3bdbb916",
   "metadata": {
    "papermill": {
     "duration": 0.068787,
     "end_time": "2022-05-22T17:07:09.372057",
     "exception": false,
     "start_time": "2022-05-22T17:07:09.303270",
     "status": "completed"
    },
    "tags": []
   },
   "source": [
    "# Day 41 and 42\n",
    "<br>dataquest-> prob and stats -> hypothesis testing fundamentals -> significance testing\n",
    "<br>slide 7 done and 8(p-value) strated"
   ]
  },
  {
   "cell_type": "markdown",
   "id": "934b5a13",
   "metadata": {
    "papermill": {
     "duration": 0.067739,
     "end_time": "2022-05-22T17:07:09.508092",
     "exception": false,
     "start_time": "2022-05-22T17:07:09.440353",
     "status": "completed"
    },
    "tags": []
   },
   "source": [
    "# Day 43\n",
    "<br>dataquest-> prob and stats -> hypothesis testing fundamentals -> significance testing\n",
    "<br>\n",
    "- The first step is to decide a test statistic, which is a numerical value that summarizes the data and one we can use in statistical formulas. The test statistic runs a statistical test that determines whether the difference between the groups was due to random chance.\n",
    "  - e.x: mean \n",
    "- The permutation test is a statistical test that involves rerunning the study many times and recalculating the test statistic for each iteration.\n",
    "   - The goal is to calculate a distribution of the test statistics over these many iterations. This distribution is called the sampling distribution and it approximates the full range of possible test statistics under the null hypothesis.\n",
    "- If the p value is less than the threshold, we:\n",
    "    - reject the null hypothesis that there's no difference in the mean amount of weight lost by participants in both groups; and\n",
    "    - conclude that there is some evidence that the weight loss pill does affect the amount of weight people lost.\n",
    "\n",
    "- If the p value is greater than the threshold, we:\n",
    "    - fail to reject the null hypothesis that there's no difference in the mean amount of weight lost by participants in both groups,\n",
    "    - conclude that the weight loss pill doesn't seem to be effective in helping people lose weight.\n",
    "- usually used p-value threshold is 0.05\n",
    "- The p value threshold you set can also affect the conclusion you reach.\n",
    "    - If you set too high of a p value threshold, you may reject the null hypothesis incorrectly. This is known as a type I error.\n",
    "    - If you set too low of a p value threshold, you may fail to reject the null hypothesis incorrectly. This is known as a type II error."
   ]
  },
  {
   "cell_type": "markdown",
   "id": "30cfddc5",
   "metadata": {
    "papermill": {
     "duration": 0.068564,
     "end_time": "2022-05-22T17:07:09.645187",
     "exception": false,
     "start_time": "2022-05-22T17:07:09.576623",
     "status": "completed"
    },
    "tags": []
   },
   "source": [
    "# Day 44\n",
    "<br>dataquest-> prob and stats -> hypothesis testing fundamentals -> significance testing-> chi squared test\n",
    "<br>1- 4\n",
    "- chi squared test is used for numerical values"
   ]
  },
  {
   "cell_type": "markdown",
   "id": "2ebbc709",
   "metadata": {
    "papermill": {
     "duration": 0.068826,
     "end_time": "2022-05-22T17:07:09.785483",
     "exception": false,
     "start_time": "2022-05-22T17:07:09.716657",
     "status": "completed"
    },
    "tags": []
   },
   "source": [
    "# Day 45 and 46\n",
    "<br>dataquest-> prob and stats -> hypothesis testing fundamentals -> significance testing-> chi squared test\n",
    "<br>4- 6"
   ]
  },
  {
   "cell_type": "markdown",
   "id": "aa8e7e4e",
   "metadata": {
    "papermill": {
     "duration": 0.068676,
     "end_time": "2022-05-22T17:07:09.923018",
     "exception": false,
     "start_time": "2022-05-22T17:07:09.854342",
     "status": "completed"
    },
    "tags": []
   },
   "source": [
    "# Day 47\n",
    "<br>dataquest-> prob and stats -> hypothesis testing fundamentals -> significance testing-> chi squared test\n",
    "<br> slide 6 done"
   ]
  },
  {
   "cell_type": "markdown",
   "id": "acd153b2",
   "metadata": {
    "papermill": {
     "duration": 0.068343,
     "end_time": "2022-05-22T17:07:10.061941",
     "exception": false,
     "start_time": "2022-05-22T17:07:09.993598",
     "status": "completed"
    },
    "tags": []
   },
   "source": [
    "# Day 48\n",
    "<br> chi-squared values is that they get smaller as the sample size decreases.\n",
    "<br>**conclusion**\n",
    "- The chi-squared test enables us to quantify the difference between sets of observed and expected categorical values to determine statistical significance\n",
    "- chi squared = (observed - expected)**2 / expected\n",
    "- A p-value allows us to determine whether the difference between 2 values is due to chance, or due to an underlying difference.\n",
    "- Chi-squared values increase as sample size increases, but the chance of getting a high chi-squared value decreases as the sample gets larger.\n",
    "- A degree of freedom is the number of values that can vary without the other values being\"locked in\". \n",
    "- scipy https://docs.scipy.org/doc/scipy/reference/generated/scipy.stats.mstats.chisquare.html\n"
   ]
  },
  {
   "cell_type": "markdown",
   "id": "8f9d46b5",
   "metadata": {
    "papermill": {
     "duration": 0.067985,
     "end_time": "2022-05-22T17:07:10.198631",
     "exception": false,
     "start_time": "2022-05-22T17:07:10.130646",
     "status": "completed"
    },
    "tags": []
   },
   "source": [
    "# Day 49\n",
    "<br>dataquest-> prob and stats -> hypothesis testing fundamentals -> significance testing-> multi category chi squared test\n",
    "<br> slide 1 done\n",
    "- We can apply the multi category chi-squared test (also known as the chi-squared test of association) to figure out if there's a statistically significant correlation between two categorical columns.\n",
    "- "
   ]
  },
  {
   "cell_type": "markdown",
   "id": "2b679e05",
   "metadata": {
    "papermill": {
     "duration": 0.067901,
     "end_time": "2022-05-22T17:07:10.334767",
     "exception": false,
     "start_time": "2022-05-22T17:07:10.266866",
     "status": "completed"
    },
    "tags": []
   },
   "source": [
    " **Day 50**\n",
    "<br>dataquest-> prob and stats -> hypothesis testing fundamentals -> significance testing-> multi category chi squared test\n",
    "# Conclusion:\n",
    "- In a multiple category chi-squared test, we calculate expected values across our whole dataset.\n",
    "- We can calculate the chi-squared value by using the following steps:\n",
    "    - Subtract the expected value from the observed value.\n",
    "    - Subtract the difference.\n",
    "    - Divide the squared difference by the expected value.\n",
    "    - Repeat for all observed and expected values and add up all the values.\n",
    "- ∑ expected(observed−expected)**2 / expected\n",
    "- Discovering that a result isn't significant doesn't mean that no association between the columnsexists. Discovering a statistically significant result doesn't imply anything about what thecorrelation is.\n",
    "- Chi-squared tests can only be applied when each possibility within a category is independen.\n",
    "    - we have categories like male or female not both. single row has either male or female not both at a time.\n",
    "- https://docs.scipy.org/doc/scipy-0.15.1/reference/generated/scipy.stats.chi2_contingency.html\n",
    "- https://pandas.pydata.org/pandas-docs/stable/generated/pandas.crosstab.html\n"
   ]
  },
  {
   "cell_type": "markdown",
   "id": "6fb8e021",
   "metadata": {
    "papermill": {
     "duration": 0.06794,
     "end_time": "2022-05-22T17:07:10.470895",
     "exception": false,
     "start_time": "2022-05-22T17:07:10.402955",
     "status": "completed"
    },
    "tags": []
   },
   "source": [
    "# **Day 51, 52**\n",
    "<br>dataquest-> prob and stats -> hypothesis testing fundamentals -> significance testing-> guided project\n",
    "<br>in progress."
   ]
  },
  {
   "cell_type": "markdown",
   "id": "b82e4255",
   "metadata": {
    "papermill": {
     "duration": 0.068059,
     "end_time": "2022-05-22T17:07:10.607106",
     "exception": false,
     "start_time": "2022-05-22T17:07:10.539047",
     "status": "completed"
    },
    "tags": []
   },
   "source": [
    "# **Day 53**\n",
    "<br>dataquest-> prob and stats -> hypothesis testing fundamentals -> significance testing-> guided project\n",
    "<br>done"
   ]
  },
  {
   "cell_type": "markdown",
   "id": "7819e23c",
   "metadata": {
    "papermill": {
     "duration": 0.068198,
     "end_time": "2022-05-22T17:07:10.745600",
     "exception": false,
     "start_time": "2022-05-22T17:07:10.677402",
     "status": "completed"
    },
    "tags": []
   },
   "source": [
    "# **Day 54,55, 56,57, 58, 59**\n",
    "interviewbit-> probability-> conditional probability\n",
    "1. You asked your three friends whether it will rain or not and all three affirmed for rain. All three have the probability of 1/3 of lying. What is the probability that it will actually rain?\n",
    "- https://www.geeksforgeeks.org/puzzle-is-it-raining/#:~:text=Explanation%3A,truth%20or%20all%20are%20lying.&text=So%2C%20it%20is%20approximately%2089,it%20is%20raining%20in%20Hyderabad.\n",
    "2. Anshul and Deven take turns in rolling a fair six-sided die. Whoever rolls a “6” first wins the game. Deven starts by rolling first. What’s the probability that Anshul wins?\n",
    "- https://www.quora.com/A-and-B-throw-a-Fair-die-one-after-another-Whoever-throws-6-first-wins-What-is-the-probability-that-A-wins\n",
    "\n",
    "3. You have a bag with 6 marbles. One marble is white. You reach the bag 100 times. After taking out a marble, it is placed back in the bag. What is the probability of drawing a white marble at least once?\n",
    "- https://brainly.com/question/14376470\n",
    "- Answer:\n",
    "\n",
    "0.999999988\n",
    "\n",
    "Step-by-step explanation:\n",
    "\n",
    "Given that you  have a bag with 6 marbles. One marble is white. You reach the bag 100 times. After taking out a marble, it is placed back in the bag.\n",
    "\n",
    "Because every time you replace the marble drawn, the probability for drawing a white marble in one draw is constant = p =5/6\n",
    "\n",
    "No of trials n = 100\n",
    "\n",
    "Here X no of times white marble is drawn is Binomial since there are two outcomes and also the probability is constant.\n",
    "\n",
    "the probability of drawing a white marble at least once\n",
    "\n",
    "=\n",
    "\n",
    "Required probability is almost 1.\n",
    "\n",
    "\n",
    "4. Supposedly a friend of yours has 2 children and at least one of them is a boy. What is the probability that the other is also a boy?\n",
    "- If at least one is a boy, there are three possible equally likely gender assignations of two siblings. boy-boy, boy-girl,\n",
    "\n",
    " or girl-boy. Only 1 in 3 cases or 33 percent are both boys. The lesson here is that when considering equally likely scenarios\n",
    "\n",
    " we must consider birth order. If the birth order of the boy is not specified – i.e. if we don’t know if he is the eldest or \n",
    "\n",
    " the youngest – the probability of two boys drops to 1 in 3.\n",
    " \n",
    "5. A single card is drawn from a standard deck of playing cards. What is the probability that the card is a queen provided that a face card is drawn from the deck of cards?\n",
    "- 4/12 = 1/3\n",
    " \n",
    "6. random variables Q1,2\n",
    "7. 5 questions\n",
    "8. bayes theorem first 2\n",
    "\n",
    "**Day 60**\n",
    "- inferential statistics - 3 questions\n",
    "**Day 61**\n",
    "- inferential statistics - central limit theorem done\n",
    "\n",
    "**Day 62**\n",
    "- inferential statistics - distribution analysis multivariate done\n",
    "\n",
    "**Day 63**\n",
    "- inferential statistics -  done\n",
    "\n",
    "**Day 64,65, 66**\n",
    "- Data Analysis-  wip\n",
    "\n",
    "**Day 67**\n",
    "- Data Analysis-  web scrapping done\n",
    "\n",
    "**Day 68**\n",
    "- Data Analysis-  descriptive statistics tutorial done\n",
    "\n",
    "**Day 69**\n",
    "- Data Analysis-  probability tutorial done\n",
    "\n",
    "**Day 70**\n",
    "- Data Analysis-  hypothesis testing wip\n",
    "\n",
    "**Day 71**\n",
    "- Data Analysis-  inferential statistics tutorials - done\n",
    "\n",
    "**Day 72**\n",
    "- Data Analysis-  inferential statistics tutorials - done\n",
    "\n",
    "**Day 73**\n",
    "- Data Analysis-  data analysis tutorials - wip"
   ]
  },
  {
   "cell_type": "markdown",
   "id": "376a8df8",
   "metadata": {
    "papermill": {
     "duration": 0.06866,
     "end_time": "2022-05-22T17:07:10.882606",
     "exception": false,
     "start_time": "2022-05-22T17:07:10.813946",
     "status": "completed"
    },
    "tags": []
   },
   "source": []
  },
  {
   "cell_type": "code",
   "execution_count": null,
   "id": "b9b606fd",
   "metadata": {
    "papermill": {
     "duration": 0.071313,
     "end_time": "2022-05-22T17:07:11.023050",
     "exception": false,
     "start_time": "2022-05-22T17:07:10.951737",
     "status": "completed"
    },
    "tags": []
   },
   "outputs": [],
   "source": []
  },
  {
   "cell_type": "code",
   "execution_count": 2,
   "id": "ec3a27ad",
   "metadata": {
    "execution": {
     "iopub.execute_input": "2022-05-22T17:07:11.164513Z",
     "iopub.status.busy": "2022-05-22T17:07:11.163848Z",
     "iopub.status.idle": "2022-05-22T17:07:11.167241Z",
     "shell.execute_reply": "2022-05-22T17:07:11.167837Z",
     "shell.execute_reply.started": "2022-04-12T14:17:49.333113Z"
    },
    "papermill": {
     "duration": 0.075637,
     "end_time": "2022-05-22T17:07:11.168109",
     "exception": false,
     "start_time": "2022-05-22T17:07:11.092472",
     "status": "completed"
    },
    "tags": []
   },
   "outputs": [],
   "source": [
    "# !pip install PyMuPDF"
   ]
  },
  {
   "cell_type": "code",
   "execution_count": 3,
   "id": "21a22d54",
   "metadata": {
    "execution": {
     "iopub.execute_input": "2022-05-22T17:07:11.311229Z",
     "iopub.status.busy": "2022-05-22T17:07:11.310438Z",
     "iopub.status.idle": "2022-05-22T17:07:11.313677Z",
     "shell.execute_reply": "2022-05-22T17:07:11.314503Z",
     "shell.execute_reply.started": "2022-04-12T14:19:20.437905Z"
    },
    "papermill": {
     "duration": 0.077148,
     "end_time": "2022-05-22T17:07:11.314721",
     "exception": false,
     "start_time": "2022-05-22T17:07:11.237573",
     "status": "completed"
    },
    "tags": []
   },
   "outputs": [],
   "source": [
    " \n",
    "# fitz.__version__"
   ]
  },
  {
   "cell_type": "code",
   "execution_count": 4,
   "id": "8c33b4df",
   "metadata": {
    "execution": {
     "iopub.execute_input": "2022-05-22T17:07:11.455329Z",
     "iopub.status.busy": "2022-05-22T17:07:11.454550Z",
     "iopub.status.idle": "2022-05-22T17:07:11.457427Z",
     "shell.execute_reply": "2022-05-22T17:07:11.458036Z",
     "shell.execute_reply.started": "2022-04-12T14:23:59.687259Z"
    },
    "papermill": {
     "duration": 0.074572,
     "end_time": "2022-05-22T17:07:11.458211",
     "exception": false,
     "start_time": "2022-05-22T17:07:11.383639",
     "status": "completed"
    },
    "tags": []
   },
   "outputs": [],
   "source": [
    "# !python -m spacy download en_core_web_sm"
   ]
  },
  {
   "cell_type": "code",
   "execution_count": null,
   "id": "2bd05a08",
   "metadata": {
    "papermill": {
     "duration": 0.068078,
     "end_time": "2022-05-22T17:07:11.595744",
     "exception": false,
     "start_time": "2022-05-22T17:07:11.527666",
     "status": "completed"
    },
    "tags": []
   },
   "outputs": [],
   "source": []
  },
  {
   "cell_type": "code",
   "execution_count": 5,
   "id": "6ffe84d4",
   "metadata": {
    "execution": {
     "iopub.execute_input": "2022-05-22T17:07:11.738198Z",
     "iopub.status.busy": "2022-05-22T17:07:11.737440Z",
     "iopub.status.idle": "2022-05-22T17:07:11.740469Z",
     "shell.execute_reply": "2022-05-22T17:07:11.741153Z",
     "shell.execute_reply.started": "2022-04-12T14:18:25.912243Z"
    },
    "papermill": {
     "duration": 0.07623,
     "end_time": "2022-05-22T17:07:11.741340",
     "exception": false,
     "start_time": "2022-05-22T17:07:11.665110",
     "status": "completed"
    },
    "tags": []
   },
   "outputs": [],
   "source": [
    "# import fitz\n",
    "# import spacy\n",
    "# import re\n",
    "# from pathlib import Path\n",
    "# import requests\n",
    "# import os"
   ]
  },
  {
   "cell_type": "code",
   "execution_count": 6,
   "id": "8bb3d5ee",
   "metadata": {
    "execution": {
     "iopub.execute_input": "2022-05-22T17:07:11.883561Z",
     "iopub.status.busy": "2022-05-22T17:07:11.882854Z",
     "iopub.status.idle": "2022-05-22T17:07:11.886675Z",
     "shell.execute_reply": "2022-05-22T17:07:11.887260Z",
     "shell.execute_reply.started": "2022-04-12T15:03:43.5897Z"
    },
    "papermill": {
     "duration": 0.077696,
     "end_time": "2022-05-22T17:07:11.887440",
     "exception": false,
     "start_time": "2022-05-22T17:07:11.809744",
     "status": "completed"
    },
    "tags": []
   },
   "outputs": [],
   "source": [
    "# sql_db_json = [\n",
    "#   {\n",
    "#     \"document_id\": \"1\",\n",
    "#     \"area\": \"[72.1149,661.2966,131.95729,675.1716]\",\n",
    "#     \"page\": \"3\",\n",
    "#     \"text_\": \"Background\",\n",
    "#     \"type_of_selection\": \"Text\",\n",
    "#     \"entity_type\": \"name\",\n",
    "#     \"link\": \"https://redactable-devox-stage.s3.us-east-2.amazonaws.com/tenants/41d9e109-693b-444c-aa18-e5891bc6550b/original/1a7c0e5d-3237-4ca9-9e3d-89e707245ac6/D8communications.pdf\"\n",
    "#   },\n",
    "#   {\n",
    "#     \"document_id\": \"1\",\n",
    "#     \"area\": \"[290.55386,632.0173,322.14685,645.8923]\",\n",
    "#     \"page\": \"2\",\n",
    "#     \"text_\": \"INDEX\",\n",
    "#     \"type_of_selection\": \"Text\",\n",
    "#     \"entity_type\": \"address\",\n",
    "#     \"link\": \"https://redactable-devox-stage.s3.us-east-2.amazonaws.com/tenants/41d9e109-693b-444c-aa18-e5891bc6550b/original/1a7c0e5d-3237-4ca9-9e3d-89e707245ac6/D8communications.pdf\"\n",
    "#   }\n",
    "# ]"
   ]
  },
  {
   "cell_type": "code",
   "execution_count": 7,
   "id": "38a5fe22",
   "metadata": {
    "execution": {
     "iopub.execute_input": "2022-05-22T17:07:12.030126Z",
     "iopub.status.busy": "2022-05-22T17:07:12.029436Z",
     "iopub.status.idle": "2022-05-22T17:07:12.032383Z",
     "shell.execute_reply": "2022-05-22T17:07:12.032981Z",
     "shell.execute_reply.started": "2022-04-12T13:17:19.452695Z"
    },
    "papermill": {
     "duration": 0.076015,
     "end_time": "2022-05-22T17:07:12.033170",
     "exception": false,
     "start_time": "2022-05-22T17:07:11.957155",
     "status": "completed"
    },
    "tags": []
   },
   "outputs": [],
   "source": [
    "# l=pd.DataFrame()\n",
    "# k=(1, '[290.55386,632.0173,322.14685,645.8923]', 2, 'INDEX', 'Text', 'address', 'https://redactable-devox-s')\n",
    "# k\n"
   ]
  },
  {
   "cell_type": "code",
   "execution_count": 8,
   "id": "f5085111",
   "metadata": {
    "execution": {
     "iopub.execute_input": "2022-05-22T17:07:12.173960Z",
     "iopub.status.busy": "2022-05-22T17:07:12.173278Z",
     "iopub.status.idle": "2022-05-22T17:07:12.176564Z",
     "shell.execute_reply": "2022-05-22T17:07:12.177220Z",
     "shell.execute_reply.started": "2022-04-12T16:09:33.708631Z"
    },
    "papermill": {
     "duration": 0.07507,
     "end_time": "2022-05-22T17:07:12.177411",
     "exception": false,
     "start_time": "2022-05-22T17:07:12.102341",
     "status": "completed"
    },
    "tags": []
   },
   "outputs": [],
   "source": [
    "# co=[\"document_id\",\"area\",\"page\",\"text_\",\"type_of_selection\",\"entity_type\",\"link\"]\n",
    "# val= [(1,'[72.1149,661.2966,131.95729,675.1716]',3,'Background','Text','name' ,'https://redactable-devox-stage.s3.us-east-2.am'), (1,  '[290.55386,632.0173,322.14685,645.8923]',2,'INDEX', 'Text','address','https://redactable-devox-stage.s3.us-east-2.am')]\n",
    "\n",
    "# df=pd.DataFrame(val,columns=[co])\n",
    "# #df.iloc[1] =[1,  '[290.55386,632.0173,322.14685,645.8923]',2,'INDEX', 'Text','address','https://redactable-devox-stage.s3.us-east-2.am']\n",
    "# df"
   ]
  },
  {
   "cell_type": "code",
   "execution_count": 9,
   "id": "60f88363",
   "metadata": {
    "execution": {
     "iopub.execute_input": "2022-05-22T17:07:12.319151Z",
     "iopub.status.busy": "2022-05-22T17:07:12.318468Z",
     "iopub.status.idle": "2022-05-22T17:07:12.321530Z",
     "shell.execute_reply": "2022-05-22T17:07:12.322063Z",
     "shell.execute_reply.started": "2022-04-12T16:18:22.595374Z"
    },
    "papermill": {
     "duration": 0.075109,
     "end_time": "2022-05-22T17:07:12.322277",
     "exception": false,
     "start_time": "2022-05-22T17:07:12.247168",
     "status": "completed"
    },
    "tags": []
   },
   "outputs": [],
   "source": [
    "# prev=[]\n",
    "# for data,row in df.iterrows():\n",
    "#     if row['document_id'] not in prev:\n",
    "#         prev.append(row['document_id'])\n",
    "#         print('hey')"
   ]
  },
  {
   "cell_type": "code",
   "execution_count": 10,
   "id": "5e85b2a9",
   "metadata": {
    "execution": {
     "iopub.execute_input": "2022-05-22T17:07:12.464320Z",
     "iopub.status.busy": "2022-05-22T17:07:12.463596Z",
     "iopub.status.idle": "2022-05-22T17:07:12.468652Z",
     "shell.execute_reply": "2022-05-22T17:07:12.469336Z",
     "shell.execute_reply.started": "2022-04-12T15:03:48.248836Z"
    },
    "papermill": {
     "duration": 0.077821,
     "end_time": "2022-05-22T17:07:12.469523",
     "exception": false,
     "start_time": "2022-05-22T17:07:12.391702",
     "status": "completed"
    },
    "tags": []
   },
   "outputs": [],
   "source": [
    "# nlp = spacy.load('en_core_web_sm')\n",
    "# train_data = []\n",
    "\n",
    "# prev_doc_id = ''\n",
    "# i=0\n",
    "# temp='/kaggle/working'\n",
    "\n",
    "# for data in sql_db_json:\n",
    "#     if data['type_of_selection'] == 'Text':\n",
    "#         document_id = data['document_id']\n",
    "#         x1,y1,x2,y2 = data['area'][1:-1].split(',')\n",
    "#         url = data['link']\n",
    "#         page_no = int(data['page']) - 1 \n",
    "#         label = data['entity_type']\n",
    "#         filename = url.split('/')[-1]\n",
    "    \n",
    "#         #download the file to temp folder\n",
    "#         outpath = os.path.join(temp,filename)\n",
    "\n",
    "#         if document_id == prev_doc_id:\n",
    "#             pass\n",
    "#         else: \n",
    "#             i+=1\n",
    "#             print(i)\n",
    "#             response = requests.get(url)\n",
    "#             with open(outpath, \"wb\") as binary_file:\n",
    "#                 binary_file.write(response.content)\n",
    "\n",
    "#         doc = fitz.open(outpath)  # any supported document type\n",
    "#         page = doc[page_no]  # we want text from this page\n",
    "#         print('page dimension - ', page.rect.width, page.rect.height)\n",
    "\n",
    "#         #The co-ordinates in the DB are image co-ords. W.r.t pdf, y1 and y2 has to be interchanged.\n",
    "#         #To ensure entire word to be selected, slight correction in x1,y1,x2,y2 is done.\n",
    "\n",
    "#         rect = [float(x1)-2, 792 - float(y2)-2, float(x2)+2, 792 - float(y1)+2]\n",
    "#         print(rect)\n",
    "#         labelled_text = page.get_textbox(rect)\n",
    "\n",
    "#         #Removing all unprintable characters from the text\n",
    "#         string = re.sub('[^0-9a-zA-Z@?|\\/<>.,()&^%$#!]+', ' ', labelled_text)\n",
    "#         print('string : ', string)\n",
    "\n",
    "#         fulltext = page.get_text()\n",
    "#         doc = nlp(fulltext)\n",
    "\n",
    "#         sentences = []\n",
    "#         for sent in doc.sents:\n",
    "#             if string.strip() in sent.text:\n",
    "#                 text = re.sub('[^0-9a-zA-Z@?|\\/<>.,()&^%$#!]+', ' ', sent.text)\n",
    "\n",
    "#         res = re.search(string.strip(), text)\n",
    "\n",
    "#         entities = []\n",
    "#         entities.append((res.start(),res.end(),label))\n",
    "\n",
    "#         train_data.append((text,{'entities':entities}))\n",
    "\n",
    "# print('Training data in spacy format')\n",
    "# print('*****************************')\n",
    "# for i in range(0,len(train_data)):\n",
    "#     print(train_data[i])"
   ]
  },
  {
   "cell_type": "code",
   "execution_count": null,
   "id": "1405256d",
   "metadata": {
    "papermill": {
     "duration": 0.069705,
     "end_time": "2022-05-22T17:07:12.608242",
     "exception": false,
     "start_time": "2022-05-22T17:07:12.538537",
     "status": "completed"
    },
    "tags": []
   },
   "outputs": [],
   "source": []
  },
  {
   "cell_type": "code",
   "execution_count": 11,
   "id": "8a9cc1e1",
   "metadata": {
    "execution": {
     "iopub.execute_input": "2022-05-22T17:07:12.781906Z",
     "iopub.status.busy": "2022-05-22T17:07:12.780814Z",
     "iopub.status.idle": "2022-05-22T17:07:12.783345Z",
     "shell.execute_reply": "2022-05-22T17:07:12.784193Z",
     "shell.execute_reply.started": "2022-04-12T11:44:59.253637Z"
    },
    "papermill": {
     "duration": 0.10121,
     "end_time": "2022-05-22T17:07:12.784457",
     "exception": false,
     "start_time": "2022-05-22T17:07:12.683247",
     "status": "completed"
    },
    "tags": []
   },
   "outputs": [],
   "source": [
    "# nlp = spacy.load('en_core_web_sm')\n",
    "# train_data = []\n",
    "\n",
    "# prev_doc_id = ''\n",
    "# temp='/kaggle/working'\n",
    "# i=0\n",
    "# for data in sql_db_json:\n",
    "#     if data['type_of_selection'] == 'Text':\n",
    "#         document_id = data['document_id']\n",
    "#         x1,y1,x2,y2 = data['area'][1:-1].split(',')\n",
    "#         url = data['link']\n",
    "#         page_no = int(data['page']) - 1 \n",
    "#         label = data['entity_type']\n",
    "#         filename = url.split('/')[-1]\n",
    "    \n",
    "#         #download the file to temp folder\n",
    "#         i+=1\n",
    "#         print(i)\n",
    "#         response = requests.get(url)\n",
    "#         doc = fitz.open(stream=response.content,filetype=\"pdf\")  # any supported document type\n",
    "#         page = doc[page_no]  # we want text from this page\n",
    "#         print('page dimension - ', page.rect.width, page.rect.height)\n",
    "\n",
    "#         #The co-ordinates in the DB are image co-ords. W.r.t pdf, y1 and y2 has to be interchanged.\n",
    "#         #To ensure entire word to be selected, slight correction in x1,y1,x2,y2 is done.\n",
    "\n",
    "#         rect = [float(x1)-2, 792 - float(y2)-2, float(x2)+2, 792 - float(y1)+2]\n",
    "#         print(rect)\n",
    "#         labelled_text = page.get_textbox(rect)\n",
    "\n",
    "#         #Removing all unprintable characters from the text\n",
    "#         string = re.sub('[^0-9a-zA-Z@?|\\/<>.,()&^%$#!]+', ' ', labelled_text)\n",
    "#         print('string : ', string)\n",
    "\n",
    "#         fulltext = page.get_text()\n",
    "#         doc = nlp(fulltext)\n",
    "\n",
    "#         sentences = []\n",
    "#         for sent in doc.sents:\n",
    "#             if string.strip() in sent.text:\n",
    "#                 text = re.sub('[^0-9a-zA-Z@?|\\/<>.,()&^%$#!]+', ' ', sent.text)\n",
    "\n",
    "#         res = re.search(string.strip(), text)\n",
    "\n",
    "#         entities = []\n",
    "#         entities.append((res.start(),res.end(),label))\n",
    "\n",
    "#         train_data.append((text,{'entities':entities}))\n",
    "\n",
    "# print('Training data in spacy format')\n",
    "# print('*****************************')\n",
    "# for i in range(0,len(train_data)):\n",
    "#     print(train_data[i])"
   ]
  },
  {
   "cell_type": "code",
   "execution_count": 12,
   "id": "6b80b428",
   "metadata": {
    "execution": {
     "iopub.execute_input": "2022-05-22T17:07:12.954284Z",
     "iopub.status.busy": "2022-05-22T17:07:12.953200Z",
     "iopub.status.idle": "2022-05-22T17:07:12.955839Z",
     "shell.execute_reply": "2022-05-22T17:07:12.955249Z"
    },
    "papermill": {
     "duration": 0.07868,
     "end_time": "2022-05-22T17:07:12.955992",
     "exception": false,
     "start_time": "2022-05-22T17:07:12.877312",
     "status": "completed"
    },
    "tags": []
   },
   "outputs": [],
   "source": [
    "# page dimension -  612.0 792.0\n",
    "# [70.1149, 114.82839999999999, 133.95729, 132.7034]\n",
    "# string :  Background\n",
    "# page dimension -  612.0 792.0\n",
    "# [288.55386, 144.10770000000002, 324.14685, 161.98270000000002]\n",
    "# string :  INDEX\n",
    "# Training data in spacy format\n",
    "# *****************************\n",
    "# (' 3 Background The Blue Ribbon Committee was created by the Mayor to assess various city communication methods and recommend opportunities to improve communications with residents, businesses and other organizations.', {'entities': [(3, 13, 'name')]})\n",
    "# (' 2 INDEX Background Pg. 3 Purpose Pg. 3 Process .', {'entities': [(3, 8, 'address')]})"
   ]
  },
  {
   "cell_type": "code",
   "execution_count": 13,
   "id": "64ec300b",
   "metadata": {
    "execution": {
     "iopub.execute_input": "2022-05-22T17:07:13.123207Z",
     "iopub.status.busy": "2022-05-22T17:07:13.120970Z",
     "iopub.status.idle": "2022-05-22T17:07:13.125286Z",
     "shell.execute_reply": "2022-05-22T17:07:13.126202Z",
     "shell.execute_reply.started": "2022-04-11T16:35:29.609712Z"
    },
    "papermill": {
     "duration": 0.086259,
     "end_time": "2022-05-22T17:07:13.126466",
     "exception": false,
     "start_time": "2022-05-22T17:07:13.040207",
     "status": "completed"
    },
    "tags": []
   },
   "outputs": [],
   "source": [
    "# nlp = spacy.load('en_core_web_sm')\n",
    "# outpath=r'/kaggle/input/sample-pdf/D8communications.pdf'\n",
    "# doc = fitz.open(outpath)  # any supported document type\n",
    "# page_no=3\n",
    "# page = doc[page_no-1]\n",
    "\n",
    "# x1,y1,x2,y2=(72.1149,661.2966,131.95729,675.1716)\n",
    "\n",
    "# rect = [float(x1)-2, 792 - float(y2)-2, float(x2)+2, 792 - float(y1)+2]\n",
    "# print(rect)\n",
    "# labelled_text = page.get_textbox(rect)\n",
    "# string = re.sub('[^0-9a-zA-Z@?|\\/<>.,()&^%$#!]+', ' ', labelled_text)\n",
    "# print('string : ', string)\n",
    "\n",
    "# fulltext = page.get_text()\n",
    "# doc = nlp(fulltext)\n",
    "\n",
    "# sentences = []\n",
    "# for sent in doc.sents:\n",
    "#             if string.strip() in sent.text:\n",
    "#                 text = re.sub('[^0-9a-zA-Z@?|\\/<>.,()&^%$#!]+', ' ', sent.text)\n",
    "\n",
    "#         res = re.search(string.strip(), text)\n",
    "\n",
    "#         entities = []\n",
    "#         entities.append((res.start(),res.end(),label))\n",
    "\n",
    "#         train_data.append((text,{'entities':entities}))\n",
    "\n"
   ]
  },
  {
   "cell_type": "code",
   "execution_count": 14,
   "id": "6c99e8a9",
   "metadata": {
    "execution": {
     "iopub.execute_input": "2022-05-22T17:07:13.274349Z",
     "iopub.status.busy": "2022-05-22T17:07:13.273337Z",
     "iopub.status.idle": "2022-05-22T17:07:13.276621Z",
     "shell.execute_reply": "2022-05-22T17:07:13.277258Z",
     "shell.execute_reply.started": "2022-04-11T16:35:41.679947Z"
    },
    "papermill": {
     "duration": 0.076965,
     "end_time": "2022-05-22T17:07:13.277435",
     "exception": false,
     "start_time": "2022-05-22T17:07:13.200470",
     "status": "completed"
    },
    "tags": []
   },
   "outputs": [],
   "source": [
    "#doc"
   ]
  },
  {
   "cell_type": "code",
   "execution_count": 15,
   "id": "0d84c73b",
   "metadata": {
    "execution": {
     "iopub.execute_input": "2022-05-22T17:07:13.424469Z",
     "iopub.status.busy": "2022-05-22T17:07:13.423351Z",
     "iopub.status.idle": "2022-05-22T17:07:13.425313Z",
     "shell.execute_reply": "2022-05-22T17:07:13.425985Z",
     "shell.execute_reply.started": "2022-04-11T16:35:56.010353Z"
    },
    "papermill": {
     "duration": 0.079414,
     "end_time": "2022-05-22T17:07:13.426173",
     "exception": false,
     "start_time": "2022-05-22T17:07:13.346759",
     "status": "completed"
    },
    "tags": []
   },
   "outputs": [],
   "source": [
    "# sentences = []\n",
    "# for sent in doc.sents:\n",
    "#     if string.strip() in sent.text:\n",
    "#         text = re.sub('[^0-9a-zA-Z@?|\\/<>.,()&^%$#!]+', ' ', sent.text)"
   ]
  },
  {
   "cell_type": "code",
   "execution_count": 16,
   "id": "1f35d4b2",
   "metadata": {
    "execution": {
     "iopub.execute_input": "2022-05-22T17:07:13.571167Z",
     "iopub.status.busy": "2022-05-22T17:07:13.570254Z",
     "iopub.status.idle": "2022-05-22T17:07:13.573759Z",
     "shell.execute_reply": "2022-05-22T17:07:13.574424Z",
     "shell.execute_reply.started": "2022-04-11T16:39:04.736143Z"
    },
    "papermill": {
     "duration": 0.077609,
     "end_time": "2022-05-22T17:07:13.574601",
     "exception": false,
     "start_time": "2022-05-22T17:07:13.496992",
     "status": "completed"
    },
    "tags": []
   },
   "outputs": [],
   "source": [
    "# k=nlp(\"he             kenny\")\n",
    "# for sent in k.sents:\n",
    "#     print(sent)"
   ]
  },
  {
   "cell_type": "code",
   "execution_count": 17,
   "id": "6ecf7824",
   "metadata": {
    "execution": {
     "iopub.execute_input": "2022-05-22T17:07:13.718337Z",
     "iopub.status.busy": "2022-05-22T17:07:13.717342Z",
     "iopub.status.idle": "2022-05-22T17:07:13.720652Z",
     "shell.execute_reply": "2022-05-22T17:07:13.721269Z",
     "shell.execute_reply.started": "2022-04-11T15:09:24.391421Z"
    },
    "papermill": {
     "duration": 0.075501,
     "end_time": "2022-05-22T17:07:13.721439",
     "exception": false,
     "start_time": "2022-05-22T17:07:13.645938",
     "status": "completed"
    },
    "tags": []
   },
   "outputs": [],
   "source": [
    "# text"
   ]
  },
  {
   "cell_type": "code",
   "execution_count": 18,
   "id": "e475c9eb",
   "metadata": {
    "execution": {
     "iopub.execute_input": "2022-05-22T17:07:13.863674Z",
     "iopub.status.busy": "2022-05-22T17:07:13.862786Z",
     "iopub.status.idle": "2022-05-22T17:07:13.865610Z",
     "shell.execute_reply": "2022-05-22T17:07:13.866135Z",
     "shell.execute_reply.started": "2022-04-11T15:09:31.9599Z"
    },
    "papermill": {
     "duration": 0.075606,
     "end_time": "2022-05-22T17:07:13.866315",
     "exception": false,
     "start_time": "2022-05-22T17:07:13.790709",
     "status": "completed"
    },
    "tags": []
   },
   "outputs": [],
   "source": [
    "# res = re.search(string.strip(), text)\n",
    "# res"
   ]
  },
  {
   "cell_type": "code",
   "execution_count": 19,
   "id": "23909817",
   "metadata": {
    "execution": {
     "iopub.execute_input": "2022-05-22T17:07:14.011874Z",
     "iopub.status.busy": "2022-05-22T17:07:14.010974Z",
     "iopub.status.idle": "2022-05-22T17:07:14.014382Z",
     "shell.execute_reply": "2022-05-22T17:07:14.014917Z",
     "shell.execute_reply.started": "2022-04-11T15:12:41.311242Z"
    },
    "papermill": {
     "duration": 0.07899,
     "end_time": "2022-05-22T17:07:14.015101",
     "exception": false,
     "start_time": "2022-05-22T17:07:13.936111",
     "status": "completed"
    },
    "tags": []
   },
   "outputs": [],
   "source": [
    "# entities = []\n",
    "# entities.append((res.start(),res.end(),'p'))"
   ]
  },
  {
   "cell_type": "code",
   "execution_count": 20,
   "id": "b479019b",
   "metadata": {
    "execution": {
     "iopub.execute_input": "2022-05-22T17:07:14.156572Z",
     "iopub.status.busy": "2022-05-22T17:07:14.155650Z",
     "iopub.status.idle": "2022-05-22T17:07:14.158720Z",
     "shell.execute_reply": "2022-05-22T17:07:14.159246Z",
     "shell.execute_reply.started": "2022-04-11T15:12:52.736619Z"
    },
    "papermill": {
     "duration": 0.075659,
     "end_time": "2022-05-22T17:07:14.159438",
     "exception": false,
     "start_time": "2022-05-22T17:07:14.083779",
     "status": "completed"
    },
    "tags": []
   },
   "outputs": [],
   "source": [
    "# entities"
   ]
  },
  {
   "cell_type": "code",
   "execution_count": 21,
   "id": "ebf9227d",
   "metadata": {
    "execution": {
     "iopub.execute_input": "2022-05-22T17:07:14.303285Z",
     "iopub.status.busy": "2022-05-22T17:07:14.302553Z",
     "iopub.status.idle": "2022-05-22T17:07:14.305661Z",
     "shell.execute_reply": "2022-05-22T17:07:14.306262Z",
     "shell.execute_reply.started": "2022-04-11T15:06:11.546217Z"
    },
    "papermill": {
     "duration": 0.075935,
     "end_time": "2022-05-22T17:07:14.306438",
     "exception": false,
     "start_time": "2022-05-22T17:07:14.230503",
     "status": "completed"
    },
    "tags": []
   },
   "outputs": [],
   "source": [
    "# text"
   ]
  },
  {
   "cell_type": "code",
   "execution_count": null,
   "id": "bf187fe8",
   "metadata": {
    "execution": {
     "iopub.execute_input": "2022-04-11T15:02:33.300092Z",
     "iopub.status.busy": "2022-04-11T15:02:33.299778Z",
     "iopub.status.idle": "2022-04-11T15:02:33.30711Z",
     "shell.execute_reply": "2022-04-11T15:02:33.306345Z",
     "shell.execute_reply.started": "2022-04-11T15:02:33.300061Z"
    },
    "papermill": {
     "duration": 0.069885,
     "end_time": "2022-05-22T17:07:14.447299",
     "exception": false,
     "start_time": "2022-05-22T17:07:14.377414",
     "status": "completed"
    },
    "tags": []
   },
   "outputs": [],
   "source": []
  },
  {
   "cell_type": "code",
   "execution_count": 22,
   "id": "5ad4c329",
   "metadata": {
    "execution": {
     "iopub.execute_input": "2022-05-22T17:07:14.588587Z",
     "iopub.status.busy": "2022-05-22T17:07:14.587936Z",
     "iopub.status.idle": "2022-05-22T17:07:14.590979Z",
     "shell.execute_reply": "2022-05-22T17:07:14.591567Z",
     "shell.execute_reply.started": "2022-04-11T16:21:02.863037Z"
    },
    "papermill": {
     "duration": 0.075731,
     "end_time": "2022-05-22T17:07:14.591766",
     "exception": false,
     "start_time": "2022-05-22T17:07:14.516035",
     "status": "completed"
    },
    "tags": []
   },
   "outputs": [],
   "source": [
    "# import spacy\n",
    "# nlp = spacy.load('en_core_web_sm')"
   ]
  },
  {
   "cell_type": "code",
   "execution_count": 23,
   "id": "b61f8874",
   "metadata": {
    "execution": {
     "iopub.execute_input": "2022-05-22T17:07:14.736402Z",
     "iopub.status.busy": "2022-05-22T17:07:14.735728Z",
     "iopub.status.idle": "2022-05-22T17:07:14.738685Z",
     "shell.execute_reply": "2022-05-22T17:07:14.739289Z",
     "shell.execute_reply.started": "2022-04-09T12:19:47.776612Z"
    },
    "papermill": {
     "duration": 0.077711,
     "end_time": "2022-05-22T17:07:14.739464",
     "exception": false,
     "start_time": "2022-05-22T17:07:14.661753",
     "status": "completed"
    },
    "tags": []
   },
   "outputs": [],
   "source": [
    "# !pip install PyPDF2\n",
    "# import PyPDF2\n",
    "# fhandle = open(r'/kaggle/input/sample-pdf/D8communications.pdf', 'rb')\n",
    "# pdfReader = PyPDF2.PdfFileReader(fhandle)\n",
    "# pagehandle = pdfReader.getPage(4)\n",
    "# print(pagehandle.extractText())"
   ]
  },
  {
   "cell_type": "code",
   "execution_count": 24,
   "id": "fbb0cb49",
   "metadata": {
    "execution": {
     "iopub.execute_input": "2022-05-22T17:07:14.881894Z",
     "iopub.status.busy": "2022-05-22T17:07:14.881248Z",
     "iopub.status.idle": "2022-05-22T17:07:14.884326Z",
     "shell.execute_reply": "2022-05-22T17:07:14.884919Z",
     "shell.execute_reply.started": "2022-04-09T12:25:37.701467Z"
    },
    "papermill": {
     "duration": 0.075922,
     "end_time": "2022-05-22T17:07:14.885084",
     "exception": false,
     "start_time": "2022-05-22T17:07:14.809162",
     "status": "completed"
    },
    "tags": []
   },
   "outputs": [],
   "source": [
    "# !pip install pdfplumber\n",
    "# import pdfplumber\n",
    "# with pdfplumber.open(r'/kaggle/input/sample-pdf/D8communications.pdf') as pdf:\n",
    "#     first_page = pdf.pages[3]\n",
    "#     print(first_page.extract_text())"
   ]
  },
  {
   "cell_type": "code",
   "execution_count": 25,
   "id": "2eeaf595",
   "metadata": {
    "execution": {
     "iopub.execute_input": "2022-05-22T17:07:15.029026Z",
     "iopub.status.busy": "2022-05-22T17:07:15.028298Z",
     "iopub.status.idle": "2022-05-22T17:07:15.030960Z",
     "shell.execute_reply": "2022-05-22T17:07:15.031437Z",
     "shell.execute_reply.started": "2022-04-09T12:25:49.584635Z"
    },
    "papermill": {
     "duration": 0.077078,
     "end_time": "2022-05-22T17:07:15.031618",
     "exception": false,
     "start_time": "2022-05-22T17:07:14.954540",
     "status": "completed"
    },
    "tags": []
   },
   "outputs": [],
   "source": [
    "# !pip install pytesseract"
   ]
  },
  {
   "cell_type": "code",
   "execution_count": 26,
   "id": "eeeac692",
   "metadata": {
    "execution": {
     "iopub.execute_input": "2022-05-22T17:07:15.175905Z",
     "iopub.status.busy": "2022-05-22T17:07:15.175220Z",
     "iopub.status.idle": "2022-05-22T17:07:15.177512Z",
     "shell.execute_reply": "2022-05-22T17:07:15.176880Z",
     "shell.execute_reply.started": "2022-04-09T14:49:10.656812Z"
    },
    "papermill": {
     "duration": 0.075423,
     "end_time": "2022-05-22T17:07:15.177655",
     "exception": false,
     "start_time": "2022-05-22T17:07:15.102232",
     "status": "completed"
    },
    "tags": []
   },
   "outputs": [],
   "source": [
    "# #!pip install pdf2image\n",
    "# !pip install poppler"
   ]
  },
  {
   "cell_type": "code",
   "execution_count": 27,
   "id": "bbd03327",
   "metadata": {
    "execution": {
     "iopub.execute_input": "2022-05-22T17:07:15.320727Z",
     "iopub.status.busy": "2022-05-22T17:07:15.320079Z",
     "iopub.status.idle": "2022-05-22T17:07:15.322692Z",
     "shell.execute_reply": "2022-05-22T17:07:15.323286Z",
     "shell.execute_reply.started": "2022-04-09T14:57:24.756677Z"
    },
    "papermill": {
     "duration": 0.076096,
     "end_time": "2022-05-22T17:07:15.323481",
     "exception": false,
     "start_time": "2022-05-22T17:07:15.247385",
     "status": "completed"
    },
    "tags": []
   },
   "outputs": [],
   "source": [
    "# pdf2image.convert_from_path('/kaggle/input/sample-pdf/D8communications.pdf')"
   ]
  },
  {
   "cell_type": "code",
   "execution_count": 28,
   "id": "644cece2",
   "metadata": {
    "execution": {
     "iopub.execute_input": "2022-05-22T17:07:15.469190Z",
     "iopub.status.busy": "2022-05-22T17:07:15.468448Z",
     "iopub.status.idle": "2022-05-22T17:07:15.471502Z",
     "shell.execute_reply": "2022-05-22T17:07:15.470834Z",
     "shell.execute_reply.started": "2022-04-09T14:57:17.576149Z"
    },
    "papermill": {
     "duration": 0.077482,
     "end_time": "2022-05-22T17:07:15.471648",
     "exception": false,
     "start_time": "2022-05-22T17:07:15.394166",
     "status": "completed"
    },
    "tags": []
   },
   "outputs": [],
   "source": [
    "# import pdf2image\n",
    "# try:\n",
    "#     from PIL import Image\n",
    "# except ImportError:\n",
    "#     import Image\n",
    "# import pytesseract\n",
    "\n",
    "\n",
    "# def pdf_to_img(pdf_file):\n",
    "#     return pdf2image.convert_from_path(pdf_file)\n",
    "\n",
    "\n",
    "# def ocr_core(file):\n",
    "#     text = pytesseract.image_to_string(file)\n",
    "#     return text\n",
    "\n",
    "\n",
    "# def print_pages(pdf_file):\n",
    "#     images = pdf_to_img(pdf_file)\n",
    "#     for pg, img in enumerate(images):\n",
    "#         print(ocr_core(img))\n",
    "\n",
    "\n",
    "# print_pages('/kaggle/input/sample-pdf/D8communications.pdf')\n"
   ]
  },
  {
   "cell_type": "code",
   "execution_count": 29,
   "id": "b1506be2",
   "metadata": {
    "execution": {
     "iopub.execute_input": "2022-05-22T17:07:15.617750Z",
     "iopub.status.busy": "2022-05-22T17:07:15.617077Z",
     "iopub.status.idle": "2022-05-22T17:07:15.620080Z",
     "shell.execute_reply": "2022-05-22T17:07:15.619404Z"
    },
    "papermill": {
     "duration": 0.078155,
     "end_time": "2022-05-22T17:07:15.620241",
     "exception": false,
     "start_time": "2022-05-22T17:07:15.542086",
     "status": "completed"
    },
    "tags": []
   },
   "outputs": [],
   "source": [
    "# import requests\n",
    "# import fitz\n",
    "# import io\n",
    "\n",
    "# #URL = 'https://buildmedia.readthedocs.org/media/pdf/pdfminer-docs/latest/pdfminer-docs.pdf'\n",
    "# URL = 'https://redactable-devox-stage.s3.us-east-2.amazonaws.com/tenants/41d9e109-693b-444c-aa18-e5891bc6550b/original/1a7c0e5d-3237-4ca9-9e3d-89e707245ac6/D8communications.pdf'\n",
    "\n",
    "\n",
    "# res = requests.get(URL)\n",
    "# filestream = io.BytesIO(res.content)\n",
    "# #res.content\n",
    "# filestream\n",
    "# doc = fitz.Document(stream=filestream)\n",
    "# page1 = doc.loadPage(3)\n",
    "# page1text = page1.getText(\"text\").encode(\"utf-8\").decode(\"utf-8\")\n",
    "# print(page1text)"
   ]
  },
  {
   "cell_type": "code",
   "execution_count": 30,
   "id": "5f2c0183",
   "metadata": {
    "execution": {
     "iopub.execute_input": "2022-05-22T17:07:15.764112Z",
     "iopub.status.busy": "2022-05-22T17:07:15.763392Z",
     "iopub.status.idle": "2022-05-22T17:07:15.766181Z",
     "shell.execute_reply": "2022-05-22T17:07:15.765567Z",
     "shell.execute_reply.started": "2022-04-09T07:04:56.590103Z"
    },
    "papermill": {
     "duration": 0.076437,
     "end_time": "2022-05-22T17:07:15.766333",
     "exception": false,
     "start_time": "2022-05-22T17:07:15.689896",
     "status": "completed"
    },
    "tags": []
   },
   "outputs": [],
   "source": [
    "# import requests\n",
    "# import fitz\n",
    "\n",
    "# #URL = 'https://buildmedia.readthedocs.org/media/pdf/pdfminer-docs/latest/pdfminer-docs.pdf'\n",
    "# URL = 'https://redactable-devox-stage.s3.us-east-2.amazonaws.com/tenants/41d9e109-693b-444c-aa18-e5891bc6550b/original/1a7c0e5d-3237-4ca9-9e3d-89e707245ac6/D8communications.pdf'\n",
    "\n",
    "\n",
    "# res = requests.get(URL)\n",
    "# doc = fitz.open(stream=res.content,filetype=\"pdf\")\n",
    "# page1 = doc.loadPage(3)\n",
    "# page1text = page1.getText(\"text\")\n",
    "# #rect = (72.1149,661.2966,131.95729,675.1716)\n",
    "# rect=(72.10812377929688, 116.13427734375, 133.97142028808594, 146.4227294921875)\n",
    "# labelled_text = page1.get_textbox(rect)\n",
    "# print(labelled_text.strip())\n",
    "\n",
    "# fulltext = page1.get_text()\n",
    "# print(fulltext)\n",
    "# doc = nlp(fulltext)\n",
    "# sentences = []\n",
    "# for sent in doc.sents:\n",
    "#     if labelled_text in sent.text:\n",
    "#         text = sent.text\n",
    "#         print(text)\n",
    "# #print(page1text)"
   ]
  },
  {
   "cell_type": "code",
   "execution_count": 31,
   "id": "13daddfe",
   "metadata": {
    "execution": {
     "iopub.execute_input": "2022-05-22T17:07:15.909932Z",
     "iopub.status.busy": "2022-05-22T17:07:15.909262Z",
     "iopub.status.idle": "2022-05-22T17:07:15.912099Z",
     "shell.execute_reply": "2022-05-22T17:07:15.911440Z",
     "shell.execute_reply.started": "2022-04-08T16:42:57.6659Z"
    },
    "papermill": {
     "duration": 0.075489,
     "end_time": "2022-05-22T17:07:15.912241",
     "exception": false,
     "start_time": "2022-05-22T17:07:15.836752",
     "status": "completed"
    },
    "tags": []
   },
   "outputs": [],
   "source": [
    "#res.content"
   ]
  },
  {
   "cell_type": "code",
   "execution_count": 32,
   "id": "07c50a2b",
   "metadata": {
    "execution": {
     "iopub.execute_input": "2022-05-22T17:07:16.058441Z",
     "iopub.status.busy": "2022-05-22T17:07:16.057609Z",
     "iopub.status.idle": "2022-05-22T17:07:16.061062Z",
     "shell.execute_reply": "2022-05-22T17:07:16.060519Z",
     "shell.execute_reply.started": "2022-04-08T16:48:05.672392Z"
    },
    "papermill": {
     "duration": 0.078583,
     "end_time": "2022-05-22T17:07:16.061227",
     "exception": false,
     "start_time": "2022-05-22T17:07:15.982644",
     "status": "completed"
    },
    "tags": []
   },
   "outputs": [],
   "source": [
    "# import fitz\n",
    "# # mem_area=\n",
    "# # doc = fitz.open(stream=mem_area, filetype=\"pdf\")\n",
    "\n",
    "# import requests\n",
    "\n",
    "# URL = 'https://redactable-devox-stage.s3.us-east-2.amazonaws.com/tenants/41d9e109-693b-444c-aa18-e5891bc6550b/original/1a7c0e5d-3237-4ca9-9e3d-89e707245ac6/D8communications.pdf'\n",
    "\n",
    "# #res = requests.get(URL)\n",
    "# doc=fitz.open(\"/kaggle/input/sample-pdf/D8communications.pdf\")\n",
    "# #doc = fitz.open(stream=res.content,filetype=\"pdf\")\n",
    "# page1 = doc.loadPage(4)\n",
    "# # page1text = page1.getText(\"text\")\n",
    "# # print(page1text)\n",
    "# blocks = page1.getText(\"blocks\")\n",
    "# blocks.sort(key=lambda block: block[1])  # sort vertically ascending\n",
    "\n",
    "# for b in blocks:\n",
    "#     print(b[4])\n"
   ]
  },
  {
   "cell_type": "code",
   "execution_count": 33,
   "id": "a0a9ee52",
   "metadata": {
    "execution": {
     "iopub.execute_input": "2022-05-22T17:07:16.203774Z",
     "iopub.status.busy": "2022-05-22T17:07:16.203138Z",
     "iopub.status.idle": "2022-05-22T17:07:16.205675Z",
     "shell.execute_reply": "2022-05-22T17:07:16.205117Z",
     "shell.execute_reply.started": "2022-04-08T16:48:13.086323Z"
    },
    "papermill": {
     "duration": 0.074961,
     "end_time": "2022-05-22T17:07:16.205850",
     "exception": false,
     "start_time": "2022-05-22T17:07:16.130889",
     "status": "completed"
    },
    "tags": []
   },
   "outputs": [],
   "source": [
    "# # page = doc[1]\n",
    "# words = page.get_text(\"words\")\n",
    "# #print(words)\n",
    "# rect = (72.1149,661.2966,131.95729,675.1716)\n",
    "\n",
    "# labelled_text = page.get_textbox(rect)\n",
    "# # labelled_text"
   ]
  },
  {
   "cell_type": "markdown",
   "id": "4ef4b327",
   "metadata": {
    "papermill": {
     "duration": 0.068376,
     "end_time": "2022-05-22T17:07:16.344031",
     "exception": false,
     "start_time": "2022-05-22T17:07:16.275655",
     "status": "completed"
    },
    "tags": []
   },
   "source": [
    "pip install PyPDF2"
   ]
  },
  {
   "cell_type": "code",
   "execution_count": null,
   "id": "481f8303",
   "metadata": {
    "papermill": {
     "duration": 0.068022,
     "end_time": "2022-05-22T17:07:16.480508",
     "exception": false,
     "start_time": "2022-05-22T17:07:16.412486",
     "status": "completed"
    },
    "tags": []
   },
   "outputs": [],
   "source": []
  },
  {
   "cell_type": "code",
   "execution_count": 34,
   "id": "6da334a9",
   "metadata": {
    "execution": {
     "iopub.execute_input": "2022-05-22T17:07:16.621734Z",
     "iopub.status.busy": "2022-05-22T17:07:16.621051Z",
     "iopub.status.idle": "2022-05-22T17:07:16.623071Z",
     "shell.execute_reply": "2022-05-22T17:07:16.623667Z",
     "shell.execute_reply.started": "2022-03-18T16:48:58.370268Z"
    },
    "papermill": {
     "duration": 0.074839,
     "end_time": "2022-05-22T17:07:16.623860",
     "exception": false,
     "start_time": "2022-05-22T17:07:16.549021",
     "status": "completed"
    },
    "tags": []
   },
   "outputs": [],
   "source": [
    "# import pandas as pd\n",
    "# h={'step': 0, 'type': 'string', 'amount': 0.0, 'nameOrig': 'C1231006815', 'oldbalanceOrig': 0.0, 'newbalanceOrig': 0.0, 'nameDest': 'M1979787155', 'oldbalanceDest': 0.0, 'newbalanceDest': 0.0}\n",
    "# df=pd.DataFrame([h])"
   ]
  },
  {
   "cell_type": "code",
   "execution_count": 35,
   "id": "4a74c5f3",
   "metadata": {
    "execution": {
     "iopub.execute_input": "2022-05-22T17:07:16.766036Z",
     "iopub.status.busy": "2022-05-22T17:07:16.765302Z",
     "iopub.status.idle": "2022-05-22T17:07:16.767847Z",
     "shell.execute_reply": "2022-05-22T17:07:16.768346Z",
     "shell.execute_reply.started": "2022-04-09T17:21:26.021615Z"
    },
    "papermill": {
     "duration": 0.076238,
     "end_time": "2022-05-22T17:07:16.768514",
     "exception": false,
     "start_time": "2022-05-22T17:07:16.692276",
     "status": "completed"
    },
    "tags": []
   },
   "outputs": [],
   "source": [
    "#df"
   ]
  },
  {
   "cell_type": "code",
   "execution_count": null,
   "id": "e9144517",
   "metadata": {
    "papermill": {
     "duration": 0.069287,
     "end_time": "2022-05-22T17:07:16.907003",
     "exception": false,
     "start_time": "2022-05-22T17:07:16.837716",
     "status": "completed"
    },
    "tags": []
   },
   "outputs": [],
   "source": []
  }
 ],
 "metadata": {
  "kernelspec": {
   "display_name": "Python 3",
   "language": "python",
   "name": "python3"
  },
  "language_info": {
   "codemirror_mode": {
    "name": "ipython",
    "version": 3
   },
   "file_extension": ".py",
   "mimetype": "text/x-python",
   "name": "python",
   "nbconvert_exporter": "python",
   "pygments_lexer": "ipython3",
   "version": "3.7.12"
  },
  "papermill": {
   "default_parameters": {},
   "duration": 24.526864,
   "end_time": "2022-05-22T17:07:17.586541",
   "environment_variables": {},
   "exception": null,
   "input_path": "__notebook__.ipynb",
   "output_path": "__notebook__.ipynb",
   "parameters": {},
   "start_time": "2022-05-22T17:06:53.059677",
   "version": "2.3.3"
  }
 },
 "nbformat": 4,
 "nbformat_minor": 5
}
