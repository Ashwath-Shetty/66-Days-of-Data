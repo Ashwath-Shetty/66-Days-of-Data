{
 "cells": [
  {
   "cell_type": "code",
   "execution_count": 1,
   "id": "2799df3c",
   "metadata": {
    "_cell_guid": "b1076dfc-b9ad-4769-8c92-a6c4dae69d19",
    "_uuid": "8f2839f25d086af736a60e9eeb907d3b93b6e0e5",
    "execution": {
     "iopub.execute_input": "2022-04-30T16:33:04.523899Z",
     "iopub.status.busy": "2022-04-30T16:33:04.522256Z",
     "iopub.status.idle": "2022-04-30T16:33:04.534724Z",
     "shell.execute_reply": "2022-04-30T16:33:04.534042Z",
     "shell.execute_reply.started": "2022-04-12T14:12:25.248687Z"
    },
    "papermill": {
     "duration": 0.091266,
     "end_time": "2022-04-30T16:33:04.534890",
     "exception": false,
     "start_time": "2022-04-30T16:33:04.443624",
     "status": "completed"
    },
    "tags": []
   },
   "outputs": [
    {
     "name": "stdout",
     "output_type": "stream",
     "text": [
      "/kaggle/input/sample-pdf/D8communications.pdf\n"
     ]
    }
   ],
   "source": [
    "# This Python 3 environment comes with many helpful analytics libraries installed\n",
    "# It is defined by the kaggle/python Docker image: https://github.com/kaggle/docker-python\n",
    "# For example, here's several helpful packages to load\n",
    "\n",
    "import numpy as np # linear algebra\n",
    "import pandas as pd # data processing, CSV file I/O (e.g. pd.read_csv)\n",
    "\n",
    "# Input data files are available in the read-only \"../input/\" directory\n",
    "# For example, running this (by clicking run or pressing Shift+Enter) will list all files under the input directory\n",
    "\n",
    "import os\n",
    "for dirname, _, filenames in os.walk('/kaggle/input'):\n",
    "    for filename in filenames:\n",
    "        print(os.path.join(dirname, filename))\n",
    "\n",
    "# You can write up to 20GB to the current directory (/kaggle/working/) that gets preserved as output when you create a version using \"Save & Run All\" \n",
    "# You can also write temporary files to /kaggle/temp/, but they won't be saved outside of the current session"
   ]
  },
  {
   "cell_type": "markdown",
   "id": "117b8e13",
   "metadata": {
    "papermill": {
     "duration": 0.07411,
     "end_time": "2022-04-30T16:33:04.689737",
     "exception": false,
     "start_time": "2022-04-30T16:33:04.615627",
     "status": "completed"
    },
    "tags": []
   },
   "source": [
    "# **Start Date: 12/3/2022**"
   ]
  },
  {
   "cell_type": "markdown",
   "id": "c4978435",
   "metadata": {
    "papermill": {
     "duration": 0.074203,
     "end_time": "2022-04-30T16:33:04.832082",
     "exception": false,
     "start_time": "2022-04-30T16:33:04.757879",
     "status": "completed"
    },
    "tags": []
   },
   "source": [
    "# **Day 1:** \n",
    "<br>dataquest -> stats -> probability-> estimating probability\n",
    "1. out come is nothing but o/p of an experiment\n",
    "ex: whatever u get after rolling a dice -> it can be any number\n",
    "2. event can have more than one outcome\n",
    "- e.x: The event that we'll get an odd number when we roll a six-sided die — this event includes the outcomes 1, 3, and 5.\n",
    "- an event can be 0 as well.\n",
    "- We always assign probabilities to events, not outcomes, even if the event includes only one outcome.\n",
    "- P(E) =1/total number of possible outcomes, P(E) probability of an event happening.\n",
    "- but above formula doesn't work always, especially when there are more than one outcome\n",
    "    - P(E)=number of successful outcomes/total number of possible outcomes\n",
    "- incase of a biased situation \n",
    "  - let's say a die has 6 - 3 times which is 1,6,3,5,6,6\n",
    "    we will consider 6 as 3 times not 1.\n",
    "    possible outcome-> 1,3,5,6,6,6\n",
    "    prob(6)=3/6\n",
    "    prob(3)=1/6\n",
    "    prob(2)=0/6\n",
    "    If we didn't treat each 6 differently and said it doesn't matter which side a 6 is on, \n",
    "    <br>we'd be forced to conclude the only possible outcomes are 1, 3, 5 and 6. We can definitely         <br>frame the problem like that, but the formula above won't work anymore — we see below P(6) <br>becomes the same as P(3), but, intuitively, P(6) should be higher than P(3) since the die has 6 on     <br>three of its sides:\n"
   ]
  },
  {
   "cell_type": "markdown",
   "id": "6185bb99",
   "metadata": {
    "papermill": {
     "duration": 0.070322,
     "end_time": "2022-04-30T16:33:04.988164",
     "exception": false,
     "start_time": "2022-04-30T16:33:04.917842",
     "status": "completed"
    },
    "tags": []
   },
   "source": [
    "Estimating Probabilities Conclusion\n",
    "- emperical/ experimental probability\n",
    "  - probability achieved by experimenting / by doing the same event multiple times.\n",
    "  - Generally, for any event E (like a coin landing heads up), we can find its empirical probability   \n",
    "     by using the following formula: \n",
    "     •P (E) =number of times event E happened/ number of times we repeated the experiment   \n",
    " - Generally, the empirical probability of an event (a coin landing heads up, getting a 5 when weroll a die) approaches the true probability value as the number of trials of the randomexperiment (a coin toss, the rolling of a die) increases without bound.\n",
    "- When we calculate the probability of an event under the assumption that the outcomes have equal chances of occurring, we say that we're calculating the **theoretical probability** of an event.\n",
    "   - P(E)=number of successful outcomes/total number of possible outcomes\n",
    "\n"
   ]
  },
  {
   "cell_type": "markdown",
   "id": "a05dffcf",
   "metadata": {
    "papermill": {
     "duration": 0.06633,
     "end_time": "2022-04-30T16:33:05.122557",
     "exception": false,
     "start_time": "2022-04-30T16:33:05.056227",
     "status": "completed"
    },
    "tags": []
   },
   "source": [
    "# **Day 2**\n",
    "<br>dataquest-> stats -> intro to probability -> probability rules\n",
    "<br>In probability theory, the set of all possible outcomes is called a sample space. A sample space is often denoted by the capital Greek letter Ω (read \"omega\"). This is how we represent the sample space of a die roll:\n",
    "\n",
    "Ω = {1,2,3,4,5,6}\n",
    "-    The probability of any event ranges between 0 and 1: 0≤ P(Event) ≤1\n",
    "- To calculate P(A or B), we can also use the formula below, which is sometimes called the addition rule: P(A or B) = P(A) + P(B)\n",
    "  - Sample space ={ 1,2,3,4,5,6} \n",
    "  - P(2 or 5) = 2/6\n",
    "\n",
    "- P(C or D) = P(C) + P(D) - P(C and D)\n",
    "   - e.x : Sample_space ={2,4,6} + { 4,5,6} - {4/6}\n",
    "      P( even number or number greater than 3) = ( (3/6) + (3/6) )- (2/6) = 4/6\n",
    "- Events that don't intersect are called mutually exclusive.\n",
    "  - e.x: Getting a 5 (event one) and getting a 3 (event two) when we roll a regular six-sided die — it's  impossible to get both a 5 and 3.\n",
    "- Events that intersect are called mutually non-exclusive.\n",
    "  - Getting a number greater than 2 (event one) and getting an odd number (event two) when we roll a regular six-sided die — we could get a 5, which is both greater than 2 (event one) and odd (event two).\n",
    "- unioun -> A or B, intersection -> A and B"
   ]
  },
  {
   "cell_type": "markdown",
   "id": "71d5c6f1",
   "metadata": {
    "papermill": {
     "duration": 0.06592,
     "end_time": "2022-04-30T16:33:05.255872",
     "exception": false,
     "start_time": "2022-04-30T16:33:05.189952",
     "status": "completed"
    },
    "tags": []
   },
   "source": [
    "# Day 3 and 4\n",
    "dataquest -> stats -> probabilities -> solving complex probabilities\n",
    "- This is the same result we got from our previous approach. In more general terms, the multiplication rule says that for two events E1 and E2, the probability that both event E1 and E2 happen can be found by multiplying the probability of E1 by the probability of E2:\n",
    "    - P(E1 ∩ E2) = P(E1) × P(E2)\n",
    "    - Events that don't influence each other's probability are called independent events. If H1 happens, P(H2) stays the same, so H1 and H2 are independent. The multiplication rule we learned only works for independent events.\n",
    "    "
   ]
  },
  {
   "cell_type": "markdown",
   "id": "e9bb0dda",
   "metadata": {
    "papermill": {
     "duration": 0.066908,
     "end_time": "2022-04-30T16:33:05.389843",
     "exception": false,
     "start_time": "2022-04-30T16:33:05.322935",
     "status": "completed"
    },
    "tags": []
   },
   "source": [
    "# Day 5\n",
    "- When we replace the cards after drawing, we say that we're sampling with replacement. When we don't put the cards back, we're sampling without replacement. \n"
   ]
  },
  {
   "cell_type": "markdown",
   "id": "805c5079",
   "metadata": {
    "papermill": {
     "duration": 0.065622,
     "end_time": "2022-04-30T16:33:05.521763",
     "exception": false,
     "start_time": "2022-04-30T16:33:05.456141",
     "status": "completed"
    },
    "tags": []
   },
   "source": [
    "# Day6\n",
    "dataquest-> prob and stats -> probability fundamentals -> permutation and combinations\n",
    "Generally, if we have an experiment E1 (like flipping a coin) with a outcomes, followed by an experiment E2 (like rolling a die) with b outcomes, then the total number of outcomes for the composite experiment E1E2 can be found by multiplying a with b:\n",
    "\n",
    "Number of outcomes = a * b"
   ]
  },
  {
   "cell_type": "markdown",
   "id": "8e611d86",
   "metadata": {
    "papermill": {
     "duration": 0.065699,
     "end_time": "2022-04-30T16:33:05.655094",
     "exception": false,
     "start_time": "2022-04-30T16:33:05.589395",
     "status": "completed"
    },
    "tags": []
   },
   "source": [
    "# Day 7\n",
    "dataquest-> prob and stats -> probability fundamentals -> permutation and combinations <br>\n",
    "More generally, if we have an experiment E1 with a outcomes, followed by an experiment E2 with b outcomes, followed by an experiment En with z outcomes, the total number of outcomes for the composite experiment E1E2 ... En can be found by multiplying their individual outcomes:\n",
    "\n",
    "Number of outcomes= a * b * … * z"
   ]
  },
  {
   "cell_type": "markdown",
   "id": "8a3c48fc",
   "metadata": {
    "papermill": {
     "duration": 0.065844,
     "end_time": "2022-04-30T16:33:05.786847",
     "exception": false,
     "start_time": "2022-04-30T16:33:05.721003",
     "status": "completed"
    },
    "tags": []
   },
   "source": [
    "# Day 8\n",
    "dataquest-> prob and stats -> probability fundamentals -> permutation and combinations <br>\n",
    "permutations= n*(n-1)*(n-2)*....*2*1\n"
   ]
  },
  {
   "cell_type": "markdown",
   "id": "7bc963af",
   "metadata": {
    "papermill": {
     "duration": 0.0659,
     "end_time": "2022-04-30T16:33:05.920403",
     "exception": false,
     "start_time": "2022-04-30T16:33:05.854503",
     "status": "completed"
    },
    "tags": []
   },
   "source": [
    "# Day 9\n",
    "dataquest-> prob and stats -> probability fundamentals -> permutation and combinations\n",
    "- in permutation order of the individual element in the arranement matters.\n",
    "   - for e.x: 9821 is different than 9281\n",
    "   - Permutations =n!  --> sample without replacement-> we are not putting back the sampled data.\n",
    "   - On the last screen, we learned to use the formula below to calculate permutations when we're sampling without replacement and taking only k objects from a group of n objects:\n",
    "   npk=n!/(n-k)!"
   ]
  },
  {
   "cell_type": "markdown",
   "id": "79dacc8f",
   "metadata": {
    "papermill": {
     "duration": 0.066276,
     "end_time": "2022-04-30T16:33:06.053328",
     "exception": false,
     "start_time": "2022-04-30T16:33:05.987052",
     "status": "completed"
    },
    "tags": []
   },
   "source": [
    "# Day 10\n",
    "dataquest-> prob and stats -> probability fundamentals -> permutation and combinations\n",
    "- More generally, if the order of the elements in an arrangement doesn't matter, the arrangement is called a combination.\n",
    "- e.x: cards in a deck \n",
    "- nCk = n! / ((n-k)!*k!)"
   ]
  },
  {
   "cell_type": "markdown",
   "id": "f887ad12",
   "metadata": {
    "papermill": {
     "duration": 0.065662,
     "end_time": "2022-04-30T16:33:06.185158",
     "exception": false,
     "start_time": "2022-04-30T16:33:06.119496",
     "status": "completed"
    },
    "tags": []
   },
   "source": [
    "# Day 11\n",
    "dataquest-> prob and stats -> probability fundamentals -> permutation and combinations\n",
    "- solved 1 probability problem.\n"
   ]
  },
  {
   "cell_type": "markdown",
   "id": "22f023ac",
   "metadata": {
    "papermill": {
     "duration": 0.06541,
     "end_time": "2022-04-30T16:33:06.316504",
     "exception": false,
     "start_time": "2022-04-30T16:33:06.251094",
     "status": "completed"
    },
    "tags": []
   },
   "source": [
    "# Day 12\n",
    "dataquest-> prob and stats -> probability fundamentals -> permutation and combinations\n",
    "- finished probability and permutations by revising them.\n",
    "- If we have an experiment E1 (like flipping a coin) with a outcomes, followed by an experiment E2(like rolling a die) with b outcomes, then the total number of outcomes for the compositeexperiment E1E2 can be found by multiplying a with b (this is known as the rule of product):\n",
    "  - number of outcomes = a*b\n",
    "- If we have an experiment E1 with a outcomes, followed by an experiment E2 with b outcomes,followed by an experiment En with z outcomes, the total number of outcomes for the compositeexperiment E1E2 ... En can be found by multiplying their individual outcomes:\n",
    "   - number of outcomes = a*b* ... *z\n",
    "- There are two kinds of arrangements:\n",
    "   - •Arrangements where the order matters, which we call permutations.\n",
    "   - •Arrangements where the order doesn't matter, which we call combination\n",
    "- To find the number of permutations when we're sampling without replacement, we can use theformula:\n",
    "  - permutation = n!\n",
    "- To find the number of permutations when we're sampling without replacement and taking only kobjects from a group of n objects, we can use the formula:\n",
    "  - nPk = n!/(n-k)!\n",
    "- To find the number of combinations when we're sampling without replacement and taking only kobjects from a group of n objects, we can use the formula\n",
    "  - nCk = n! / ((n-k)!*k!)"
   ]
  },
  {
   "cell_type": "markdown",
   "id": "02e871fe",
   "metadata": {
    "papermill": {
     "duration": 0.066074,
     "end_time": "2022-04-30T16:33:06.448943",
     "exception": false,
     "start_time": "2022-04-30T16:33:06.382869",
     "status": "completed"
    },
    "tags": []
   },
   "source": [
    "# Day 13\n",
    "dataquest-> prob and stats -> probability fundamentals -> conditional probabilities\n",
    "- first 2 slides -> mainly the recap of old chapter(above one).\n"
   ]
  },
  {
   "cell_type": "markdown",
   "id": "2a117176",
   "metadata": {
    "papermill": {
     "duration": 0.065933,
     "end_time": "2022-04-30T16:33:06.581161",
     "exception": false,
     "start_time": "2022-04-30T16:33:06.515228",
     "status": "completed"
    },
    "tags": []
   },
   "source": [
    "# Day 14\n",
    "dataquest-> prob and stats -> probability fundamentals -> conditional probabilities\n",
    "<br>slide 4 completed\n",
    "<br>conditional probabilities\n",
    "- probabilities with condition\n",
    "- P(5)=What is the probability of getting a 5? -> normal probability\n",
    "- P(5 | odd) =What is the probability of getting a 5 given the die showed an odd number? -> conditional prob.\n",
    "\n"
   ]
  },
  {
   "cell_type": "markdown",
   "id": "39287e29",
   "metadata": {
    "papermill": {
     "duration": 0.065938,
     "end_time": "2022-04-30T16:33:06.714641",
     "exception": false,
     "start_time": "2022-04-30T16:33:06.648703",
     "status": "completed"
    },
    "tags": []
   },
   "source": [
    "# Day 15\n",
    "dataquest-> prob and stats -> probability fundamentals -> conditional probabilities\n",
    "- on slide 5 not done yet.\n",
    "\n",
    "Say we roll a fair six-sided die and want to find the probability of getting an odd number, given the die showed a number greater than 1 after landing. Using probability notation, we want to find P(A|B) where:\n",
    "\n",
    "- A is the event that the number is odd: A = {1, 3, 5}\n",
    "- B is the event that the number is greater than 1: B = {2, 3, 4, 5, 6}\n",
    "- P(A/B)=number of succesfull outcomes / total number of outcomes.\n"
   ]
  },
  {
   "cell_type": "markdown",
   "id": "a13511b1",
   "metadata": {
    "papermill": {
     "duration": 0.065528,
     "end_time": "2022-04-30T16:33:06.846299",
     "exception": false,
     "start_time": "2022-04-30T16:33:06.780771",
     "status": "completed"
    },
    "tags": []
   },
   "source": [
    "# Day 16 and 17\n",
    "dataquest-> prob and stats -> probability fundamentals -> conditional probabilities\n",
    "\n",
    "on slide 6 not done yet."
   ]
  },
  {
   "cell_type": "markdown",
   "id": "d444a34d",
   "metadata": {
    "papermill": {
     "duration": 0.066264,
     "end_time": "2022-04-30T16:33:06.978490",
     "exception": false,
     "start_time": "2022-04-30T16:33:06.912226",
     "status": "completed"
    },
    "tags": []
   },
   "source": [
    "# Day 18\n",
    "dataquest-> prob and stats -> probability fundamentals -> conditional probabilities\n",
    "<br>slide 5 code half done"
   ]
  },
  {
   "cell_type": "markdown",
   "id": "a882b661",
   "metadata": {
    "papermill": {
     "duration": 0.06552,
     "end_time": "2022-04-30T16:33:07.110516",
     "exception": false,
     "start_time": "2022-04-30T16:33:07.044996",
     "status": "completed"
    },
    "tags": []
   },
   "source": [
    "# Day 19\n",
    "- The number of elements in a set is called the cardinal of the set. \n",
    "  Ω is a set, and the cardinal of \n",
    "   Ω = { 2,3,4,5,6}\n",
    "   cardinal(Ω)=5\n",
    "- P(A | B) = card(A ∩ B) / card(B)\n",
    "- Say we roll a fair six-sided die and want to find the probability of getting an odd number, given the die showed a number greater than 1 after landing. Using probability notation, we want to find P(A|B) where:\n",
    "    - A is the event that the number is odd: A = {1, 3, 5}\n",
    "     - B is the event that the number is greater than 1: B = {2, 3, 4, 5, 6}\n",
    "     - total number of possible outcomes = card({2,3,4,5,6}) =5\n",
    "     - number of successful outcomes = card({3,5})= 2\n",
    "- P(A | B) = card(A ∩ B) / card(B), we can also get the same result using P(A | B) = prob(A ∩ B) / prob(B)\n",
    "\n",
    "     "
   ]
  },
  {
   "cell_type": "markdown",
   "id": "314963ea",
   "metadata": {
    "papermill": {
     "duration": 0.067861,
     "end_time": "2022-04-30T16:33:07.244233",
     "exception": false,
     "start_time": "2022-04-30T16:33:07.176372",
     "status": "completed"
    },
    "tags": []
   },
   "source": [
    "# Day 20\n",
    "dataquest-> prob and stats -> probability fundamentals -> conditional probabilities intermediate\n",
    "<br> slide 1 and 2\n",
    "- P( A | B ) ≠ P(A ∩ B), but rather:\n",
    "   - P(A | B) = P(A ∩ B) / P(B)\n",
    "   - P(A ∩ B) = P(A | B) ⋅ P(B)\n",
    "- Given that a customer bought a laptop, they will or will not also buy a mouse. This means we can be certain that either event (M|L) or (M^C|L) will happen:\n",
    "     - P(M | L) + P(M^C | L) = 1\n",
    "\n"
   ]
  },
  {
   "cell_type": "markdown",
   "id": "0fba42f7",
   "metadata": {
    "papermill": {
     "duration": 0.065567,
     "end_time": "2022-04-30T16:33:07.375740",
     "exception": false,
     "start_time": "2022-04-30T16:33:07.310173",
     "status": "completed"
    },
    "tags": []
   },
   "source": [
    "# Day 21\n",
    "dataquest-> prob and stats -> probability fundamentals -> conditional probabilities intermediate\n",
    "slide 1 and 2\n",
    "- P(A ∩ B) = P(B ∩ A)\n",
    "- multiplication rule of probability\n",
    "  -  P(A ∩ B) = P(B) ⋅ P(A | B) \n",
    "  - P(A ∩ B) = P(A) ⋅ P(B | A)\n",
    "- if P(A) and P(B) are statistically independent then \n",
    "  - P(A ∩ B) = P(A) ⋅ P(B)\n",
    "\n"
   ]
  },
  {
   "cell_type": "markdown",
   "id": "cfda2337",
   "metadata": {
    "papermill": {
     "duration": 0.065461,
     "end_time": "2022-04-30T16:33:07.506995",
     "exception": false,
     "start_time": "2022-04-30T16:33:07.441534",
     "status": "completed"
    },
    "tags": []
   },
   "source": [
    "# Day 22\n",
    "dataquest-> prob and stats -> probability fundamentals -> conditional probabilities intermediate \n",
    "<br>slide 6\n",
    "- If events events A and B are dependent, it means the occurrence of event A changes the probability of event B and vice versa.\n",
    "   - P(A) ≠ P(A | B)\n",
    "   - P(B) ≠ P(B | A)\n",
    "   - P(A ∩ B) ≠ P(A) ⋅ P(B)\n",
    "   - formula will become P(A ∩ B) ≠ P(A) ⋅ P(B/A)\n",
    "   "
   ]
  },
  {
   "cell_type": "markdown",
   "id": "2c2a1731",
   "metadata": {
    "papermill": {
     "duration": 0.066566,
     "end_time": "2022-04-30T16:33:07.639499",
     "exception": false,
     "start_time": "2022-04-30T16:33:07.572933",
     "status": "completed"
    },
    "tags": []
   },
   "source": [
    "# Day 23\n",
    "dataquest-> prob and stats -> probability fundamentals -> conditional probabilities intermediate\n",
    "<br>slide 7 to last\n",
    "- To find whether three events — A, B, C — are independent or not, below conditions must hold true -\n",
    "  - P(A ∩ B) ≠ P(A) ⋅ P(B)\n",
    "  - P(A ∩ C) ≠ P(A) ⋅ P(C)\n",
    "  - P(B ∩ C) ≠ P(B) ⋅ P(C)\n",
    "  - P(A ∩ B ∩ C) ≠ P(A) ⋅ P(B) . P(C)\n",
    "- multiplication rule for conditional probability or dependent events\n",
    " - P(A ∩ B ∩ C) = P(A) ⋅ P(B | A) ⋅ P(C | A ∩ B)\n",
    " \n",
    "\n"
   ]
  },
  {
   "cell_type": "markdown",
   "id": "2d848032",
   "metadata": {
    "papermill": {
     "duration": 0.065466,
     "end_time": "2022-04-30T16:33:07.770645",
     "exception": false,
     "start_time": "2022-04-30T16:33:07.705179",
     "status": "completed"
    },
    "tags": []
   },
   "source": [
    "# Day 24\n",
    "dataquest-> prob and stats -> probability fundamentals -> bayes theorem\n",
    "<br>slide 1\n",
    "- independent -> one event is dependent on other\n",
    "   - P(A ∩ B) = P(A) ⋅ P(B/A)\n",
    "- independent -> one event is not dependent on other.\n",
    "   - P(A ∩ B) = P(A) ⋅ P(B)\n",
    "- mutually exclusive -> both the events cannot happen at the same time.\n",
    "   - P(A ∩ B) = 0\n",
    "\n"
   ]
  },
  {
   "cell_type": "markdown",
   "id": "21ab4961",
   "metadata": {
    "papermill": {
     "duration": 0.065873,
     "end_time": "2022-04-30T16:33:07.902286",
     "exception": false,
     "start_time": "2022-04-30T16:33:07.836413",
     "status": "completed"
    },
    "tags": []
   },
   "source": [
    "# Day 25\n",
    "dataquest-> prob and stats -> probability fundamentals -> bayes theorem\n",
    "<br>slide 2\n",
    "- If two events are exhaustive, it means they make up the whole sample space Ω\n",
    "  -  P(A) = P(A ∩ B) + P(A ∩ B^c)\n",
    "     P(A) = (P(B) * P(A/B)) +  (P(B^c) * P(A/B^c))\n",
    "     \n",
    "     "
   ]
  },
  {
   "cell_type": "markdown",
   "id": "45708f91",
   "metadata": {
    "papermill": {
     "duration": 0.065588,
     "end_time": "2022-04-30T16:33:08.034433",
     "exception": false,
     "start_time": "2022-04-30T16:33:07.968845",
     "status": "completed"
    },
    "tags": []
   },
   "source": [
    "# Day 26\n",
    "dataquest-> prob and stats -> probability fundamentals -> bayes theorem\n",
    "<br>slide 3 - last\n",
    "- the law of total probability\n",
    "  - P(A)  = (P(B1) * P(A/B1)) + (P(B2) * P(A/B2))+ ... + (P(Bn) * P(A/Bn)))\n",
    "  - P(A) =(summattion i=1 to n) P(Bi) ⋅ P(A|Bi)\n",
    "- Baye's theorem\n",
    "  - P(B | A) = (P(B) ⋅ P(A | B)) / (n ∑i=1 P(Bi) ⋅ P(A | Bi))\n",
    "- The probability of being infected with HIV before doing any test is called the prior probability (\"prior\" means \"before\"). The probability of being infected with HIV after testing positive is called the posterior probability (\"posterior\" means \"after\").\n",
    "\n",
    "\n",
    "  "
   ]
  },
  {
   "cell_type": "markdown",
   "id": "87d7f73e",
   "metadata": {
    "papermill": {
     "duration": 0.065419,
     "end_time": "2022-04-30T16:33:08.166715",
     "exception": false,
     "start_time": "2022-04-30T16:33:08.101296",
     "status": "completed"
    },
    "tags": []
   },
   "source": [
    "# Day 27\n",
    "dataquest-> prob and stats -> probability fundamentals -> naive bayes theorem\n",
    "<br>slide 1 - \n",
    "P(Spam|w1,w2,w3,w4)∝P(Spam)⋅P(w1|Spam)⋅P(w2|Spam)⋅P(w3|Spam)⋅P(w4|Spam)P(SpamC|w1,w2,w3,w4)∝P(SpamC)⋅P(w1|SpamC)⋅P(w2|SpamC)⋅P(w3|SpamC)⋅P(w4|SpamC)"
   ]
  },
  {
   "cell_type": "markdown",
   "id": "14e918b1",
   "metadata": {
    "papermill": {
     "duration": 0.065784,
     "end_time": "2022-04-30T16:33:08.298478",
     "exception": false,
     "start_time": "2022-04-30T16:33:08.232694",
     "status": "completed"
    },
    "tags": []
   },
   "source": [
    "# Day 28\n",
    "dataquest-> prob and stats -> probability fundamentals -> naive bayes theorem\n",
    "<br>finished.\n",
    "<br>**Summary**\n",
    "- P(Spam|w1,w2,...,wn)∝P(Spam)⋅n∏i=1P(wi|Spam)\n",
    "- P(SpamC|w1,w2,...,wn)∝P(SpamC)⋅n∏i=1P(wi|SpamC)\n",
    "- To calculate P(wi|Spam) and P(wi|SpamC), we need to use the additive smoothing technique: \n",
    "- P ( w i | S p a m ) = (N w i | S p a m + α) / ( N S p a m + α ⋅ N V o c a b u l a r y )\n",
    "- P ( w i | S p a m C ) = (N w i | S p a m C + α) / ( N S p a m C + α ⋅ N V o c a b u l a r y )\n",
    "     - N w i | S p a m = the number of times the word w i occurs in spam messages \n",
    "     - N w i | S p a m C = the number of times the word w i occurs in non-spam messages \n",
    "     - N S p a m = total number of words in spam messages \n",
    "     - N S p a m C = total number of words in non-spam messages \n",
    "     - N V o c a b u l a r y = total number of words in the vocabulary \n",
    "     - α = 1 ( α is a smoothing parameter )\n",
    " - naive bayes theorem assumes that events are not dependent.\n",
    " - The assumption of conditional independence between words is thus naive since it rarely holds in practice, and this is why the algorithm is called Naive Bayes (also called simple Bayes or independence Bayes)."
   ]
  },
  {
   "cell_type": "markdown",
   "id": "264bede6",
   "metadata": {
    "papermill": {
     "duration": 0.065174,
     "end_time": "2022-04-30T16:33:08.429348",
     "exception": false,
     "start_time": "2022-04-30T16:33:08.364174",
     "status": "completed"
    },
    "tags": []
   },
   "source": [
    "# Day 29,30,31\n",
    "<br>dataquest-> prob and stats -> probability fundamentals -> conditional probability-> guided projects\n",
    "<br> in progress"
   ]
  },
  {
   "cell_type": "markdown",
   "id": "0a11469c",
   "metadata": {
    "papermill": {
     "duration": 0.065416,
     "end_time": "2022-04-30T16:33:08.560408",
     "exception": false,
     "start_time": "2022-04-30T16:33:08.494992",
     "status": "completed"
    },
    "tags": []
   },
   "source": [
    "# Day 32 and 33\n",
    "<br>dataquest-> prob and stats -> probability fundamentals -> guided projects\n",
    "<br> done"
   ]
  },
  {
   "cell_type": "markdown",
   "id": "31e7d85a",
   "metadata": {
    "papermill": {
     "duration": 0.065493,
     "end_time": "2022-04-30T16:33:08.691756",
     "exception": false,
     "start_time": "2022-04-30T16:33:08.626263",
     "status": "completed"
    },
    "tags": []
   },
   "source": [
    "# Day 34\n",
    "<br>dataquest-> prob and stats -> probability fundamentals -> guided projects-> lottery prediction\n",
    "<br> done"
   ]
  },
  {
   "cell_type": "markdown",
   "id": "73bb408c",
   "metadata": {
    "papermill": {
     "duration": 0.066127,
     "end_time": "2022-04-30T16:33:08.823750",
     "exception": false,
     "start_time": "2022-04-30T16:33:08.757623",
     "status": "completed"
    },
    "tags": []
   },
   "source": [
    "# Day 35\n",
    "<br>dataquest-> prob and stats -> hypothesis testing fundamentals -> significance testing\n",
    "<br> till slide 4\n",
    "- null hypothesis\n",
    "- alternate hypothesis\n"
   ]
  },
  {
   "cell_type": "markdown",
   "id": "56c93dcd",
   "metadata": {
    "papermill": {
     "duration": 0.066032,
     "end_time": "2022-04-30T16:33:08.956253",
     "exception": false,
     "start_time": "2022-04-30T16:33:08.890221",
     "status": "completed"
    },
    "tags": []
   },
   "source": [
    "# Day 36 and 37\n",
    "<br>dataquest-> prob and stats -> hypothesis testing fundamentals -> significance testing\n",
    "- The permutation test is a statistical test that involves rerunning the study many times and recalculating the test statistic for each iteration. The goal is to calculate a distribution of the test statistics over these many iterations. This distribution is called the sampling distribution and it approximates the full range of possible test statistics under the null hypothesis\n",
    "\n"
   ]
  },
  {
   "cell_type": "markdown",
   "id": "0e9f86f1",
   "metadata": {
    "papermill": {
     "duration": 0.066802,
     "end_time": "2022-04-30T16:33:09.089990",
     "exception": false,
     "start_time": "2022-04-30T16:33:09.023188",
     "status": "completed"
    },
    "tags": []
   },
   "source": [
    "# Day 38\n",
    "<br>dataquest-> prob and stats -> hypothesis testing fundamentals -> significance testing\n",
    "<br>in progress."
   ]
  },
  {
   "cell_type": "markdown",
   "id": "df468d8f",
   "metadata": {
    "papermill": {
     "duration": 0.065881,
     "end_time": "2022-04-30T16:33:09.222251",
     "exception": false,
     "start_time": "2022-04-30T16:33:09.156370",
     "status": "completed"
    },
    "tags": []
   },
   "source": [
    "# Day 39\n",
    "<br>dataquest-> prob and stats -> hypothesis testing fundamentals -> significance testing\n",
    "<br>slide 5-6"
   ]
  },
  {
   "cell_type": "markdown",
   "id": "1d15ef17",
   "metadata": {
    "papermill": {
     "duration": 0.065867,
     "end_time": "2022-04-30T16:33:09.354507",
     "exception": false,
     "start_time": "2022-04-30T16:33:09.288640",
     "status": "completed"
    },
    "tags": []
   },
   "source": [
    "# Day 40\n",
    "<br>dataquest-> prob and stats -> hypothesis testing fundamentals -> significance testing\n",
    "<br>slide 7"
   ]
  },
  {
   "cell_type": "markdown",
   "id": "ef1d8799",
   "metadata": {
    "papermill": {
     "duration": 0.066026,
     "end_time": "2022-04-30T16:33:09.486710",
     "exception": false,
     "start_time": "2022-04-30T16:33:09.420684",
     "status": "completed"
    },
    "tags": []
   },
   "source": [
    "# Day 41 and 42\n",
    "<br>dataquest-> prob and stats -> hypothesis testing fundamentals -> significance testing\n",
    "<br>slide 7 done and 8(p-value) strated"
   ]
  },
  {
   "cell_type": "markdown",
   "id": "21fca3f0",
   "metadata": {
    "papermill": {
     "duration": 0.068525,
     "end_time": "2022-04-30T16:33:09.622131",
     "exception": false,
     "start_time": "2022-04-30T16:33:09.553606",
     "status": "completed"
    },
    "tags": []
   },
   "source": [
    "# Day 43\n",
    "<br>dataquest-> prob and stats -> hypothesis testing fundamentals -> significance testing\n",
    "<br>\n",
    "- The first step is to decide a test statistic, which is a numerical value that summarizes the data and one we can use in statistical formulas. The test statistic runs a statistical test that determines whether the difference between the groups was due to random chance.\n",
    "  - e.x: mean \n",
    "- The permutation test is a statistical test that involves rerunning the study many times and recalculating the test statistic for each iteration.\n",
    "   - The goal is to calculate a distribution of the test statistics over these many iterations. This distribution is called the sampling distribution and it approximates the full range of possible test statistics under the null hypothesis.\n",
    "- If the p value is less than the threshold, we:\n",
    "    - reject the null hypothesis that there's no difference in the mean amount of weight lost by participants in both groups; and\n",
    "    - conclude that there is some evidence that the weight loss pill does affect the amount of weight people lost.\n",
    "\n",
    "- If the p value is greater than the threshold, we:\n",
    "    - fail to reject the null hypothesis that there's no difference in the mean amount of weight lost by participants in both groups,\n",
    "    - conclude that the weight loss pill doesn't seem to be effective in helping people lose weight.\n",
    "- usually used p-value threshold is 0.05\n",
    "- The p value threshold you set can also affect the conclusion you reach.\n",
    "    - If you set too high of a p value threshold, you may reject the null hypothesis incorrectly. This is known as a type I error.\n",
    "    - If you set too low of a p value threshold, you may fail to reject the null hypothesis incorrectly. This is known as a type II error."
   ]
  },
  {
   "cell_type": "markdown",
   "id": "622dc9b4",
   "metadata": {
    "papermill": {
     "duration": 0.066382,
     "end_time": "2022-04-30T16:33:09.756670",
     "exception": false,
     "start_time": "2022-04-30T16:33:09.690288",
     "status": "completed"
    },
    "tags": []
   },
   "source": [
    "# Day 44\n",
    "<br>dataquest-> prob and stats -> hypothesis testing fundamentals -> significance testing-> chi squared test\n",
    "<br>1- 4\n",
    "- chi squared test is used for numerical values"
   ]
  },
  {
   "cell_type": "markdown",
   "id": "80dadbe2",
   "metadata": {
    "papermill": {
     "duration": 0.067031,
     "end_time": "2022-04-30T16:33:09.891773",
     "exception": false,
     "start_time": "2022-04-30T16:33:09.824742",
     "status": "completed"
    },
    "tags": []
   },
   "source": [
    "# Day 45 and 46\n",
    "<br>dataquest-> prob and stats -> hypothesis testing fundamentals -> significance testing-> chi squared test\n",
    "<br>4- 6"
   ]
  },
  {
   "cell_type": "markdown",
   "id": "c7f7b6a2",
   "metadata": {
    "papermill": {
     "duration": 0.066788,
     "end_time": "2022-04-30T16:33:10.026937",
     "exception": false,
     "start_time": "2022-04-30T16:33:09.960149",
     "status": "completed"
    },
    "tags": []
   },
   "source": [
    "# Day 47\n",
    "<br>dataquest-> prob and stats -> hypothesis testing fundamentals -> significance testing-> chi squared test\n",
    "<br> slide 6 done"
   ]
  },
  {
   "cell_type": "markdown",
   "id": "cdb565fb",
   "metadata": {
    "papermill": {
     "duration": 0.066039,
     "end_time": "2022-04-30T16:33:10.160516",
     "exception": false,
     "start_time": "2022-04-30T16:33:10.094477",
     "status": "completed"
    },
    "tags": []
   },
   "source": [
    "# Day 48\n",
    "<br> chi-squared values is that they get smaller as the sample size decreases.\n",
    "<br>**conclusion**\n",
    "- The chi-squared test enables us to quantify the difference between sets of observed and expected categorical values to determine statistical significance\n",
    "- chi squared = (observed - expected)**2 / expected\n",
    "- A p-value allows us to determine whether the difference between 2 values is due to chance, or due to an underlying difference.\n",
    "- Chi-squared values increase as sample size increases, but the chance of getting a high chi-squared value decreases as the sample gets larger.\n",
    "- A degree of freedom is the number of values that can vary without the other values being\"locked in\". \n",
    "- scipy https://docs.scipy.org/doc/scipy/reference/generated/scipy.stats.mstats.chisquare.html\n"
   ]
  },
  {
   "cell_type": "markdown",
   "id": "09a546ea",
   "metadata": {
    "papermill": {
     "duration": 0.066072,
     "end_time": "2022-04-30T16:33:10.292869",
     "exception": false,
     "start_time": "2022-04-30T16:33:10.226797",
     "status": "completed"
    },
    "tags": []
   },
   "source": [
    "# Day 49\n",
    "<br>dataquest-> prob and stats -> hypothesis testing fundamentals -> significance testing-> multi category chi squared test\n",
    "<br> slide 1 done\n",
    "- We can apply the multi category chi-squared test (also known as the chi-squared test of association) to figure out if there's a statistically significant correlation between two categorical columns.\n",
    "- "
   ]
  },
  {
   "cell_type": "markdown",
   "id": "eb834602",
   "metadata": {
    "papermill": {
     "duration": 0.066772,
     "end_time": "2022-04-30T16:33:10.426337",
     "exception": false,
     "start_time": "2022-04-30T16:33:10.359565",
     "status": "completed"
    },
    "tags": []
   },
   "source": [
    " **Day 50**\n",
    "<br>dataquest-> prob and stats -> hypothesis testing fundamentals -> significance testing-> multi category chi squared test\n",
    "# Conclusion:\n",
    "- In a multiple category chi-squared test, we calculate expected values across our whole dataset.\n",
    "- We can calculate the chi-squared value by using the following steps:\n",
    "    - Subtract the expected value from the observed value.\n",
    "    - Subtract the difference.\n",
    "    - Divide the squared difference by the expected value.\n",
    "    - Repeat for all observed and expected values and add up all the values.\n",
    "- ∑ expected(observed−expected)**2 / expected\n",
    "- Discovering that a result isn't significant doesn't mean that no association between the columnsexists. Discovering a statistically significant result doesn't imply anything about what thecorrelation is.\n",
    "- Chi-squared tests can only be applied when each possibility within a category is independen.\n",
    "    - we have categories like male or female not both. single row has either male or female not both at a time.\n",
    "- https://docs.scipy.org/doc/scipy-0.15.1/reference/generated/scipy.stats.chi2_contingency.html\n",
    "- https://pandas.pydata.org/pandas-docs/stable/generated/pandas.crosstab.html\n"
   ]
  },
  {
   "cell_type": "code",
   "execution_count": null,
   "id": "279dddd5",
   "metadata": {
    "papermill": {
     "duration": 0.066223,
     "end_time": "2022-04-30T16:33:10.559447",
     "exception": false,
     "start_time": "2022-04-30T16:33:10.493224",
     "status": "completed"
    },
    "tags": []
   },
   "outputs": [],
   "source": []
  },
  {
   "cell_type": "code",
   "execution_count": 2,
   "id": "dc53bb4a",
   "metadata": {
    "execution": {
     "iopub.execute_input": "2022-04-30T16:33:10.702183Z",
     "iopub.status.busy": "2022-04-30T16:33:10.701133Z",
     "iopub.status.idle": "2022-04-30T16:33:10.703684Z",
     "shell.execute_reply": "2022-04-30T16:33:10.703077Z",
     "shell.execute_reply.started": "2022-04-12T14:17:49.333113Z"
    },
    "papermill": {
     "duration": 0.075023,
     "end_time": "2022-04-30T16:33:10.703824",
     "exception": false,
     "start_time": "2022-04-30T16:33:10.628801",
     "status": "completed"
    },
    "tags": []
   },
   "outputs": [],
   "source": [
    "# !pip install PyMuPDF"
   ]
  },
  {
   "cell_type": "code",
   "execution_count": 3,
   "id": "53e1a320",
   "metadata": {
    "execution": {
     "iopub.execute_input": "2022-04-30T16:33:10.840582Z",
     "iopub.status.busy": "2022-04-30T16:33:10.839613Z",
     "iopub.status.idle": "2022-04-30T16:33:10.842756Z",
     "shell.execute_reply": "2022-04-30T16:33:10.843386Z",
     "shell.execute_reply.started": "2022-04-12T14:19:20.437905Z"
    },
    "papermill": {
     "duration": 0.072749,
     "end_time": "2022-04-30T16:33:10.843554",
     "exception": false,
     "start_time": "2022-04-30T16:33:10.770805",
     "status": "completed"
    },
    "tags": []
   },
   "outputs": [],
   "source": [
    " \n",
    "# fitz.__version__"
   ]
  },
  {
   "cell_type": "code",
   "execution_count": 4,
   "id": "f5d668b1",
   "metadata": {
    "execution": {
     "iopub.execute_input": "2022-04-30T16:33:10.979543Z",
     "iopub.status.busy": "2022-04-30T16:33:10.978516Z",
     "iopub.status.idle": "2022-04-30T16:33:10.982099Z",
     "shell.execute_reply": "2022-04-30T16:33:10.982625Z",
     "shell.execute_reply.started": "2022-04-12T14:23:59.687259Z"
    },
    "papermill": {
     "duration": 0.073426,
     "end_time": "2022-04-30T16:33:10.982799",
     "exception": false,
     "start_time": "2022-04-30T16:33:10.909373",
     "status": "completed"
    },
    "tags": []
   },
   "outputs": [],
   "source": [
    "# !python -m spacy download en_core_web_sm"
   ]
  },
  {
   "cell_type": "code",
   "execution_count": null,
   "id": "71400f2e",
   "metadata": {
    "papermill": {
     "duration": 0.065403,
     "end_time": "2022-04-30T16:33:11.114765",
     "exception": false,
     "start_time": "2022-04-30T16:33:11.049362",
     "status": "completed"
    },
    "tags": []
   },
   "outputs": [],
   "source": []
  },
  {
   "cell_type": "code",
   "execution_count": 5,
   "id": "558a1429",
   "metadata": {
    "execution": {
     "iopub.execute_input": "2022-04-30T16:33:11.252079Z",
     "iopub.status.busy": "2022-04-30T16:33:11.251028Z",
     "iopub.status.idle": "2022-04-30T16:33:11.254583Z",
     "shell.execute_reply": "2022-04-30T16:33:11.255160Z",
     "shell.execute_reply.started": "2022-04-12T14:18:25.912243Z"
    },
    "papermill": {
     "duration": 0.074904,
     "end_time": "2022-04-30T16:33:11.255341",
     "exception": false,
     "start_time": "2022-04-30T16:33:11.180437",
     "status": "completed"
    },
    "tags": []
   },
   "outputs": [],
   "source": [
    "# import fitz\n",
    "# import spacy\n",
    "# import re\n",
    "# from pathlib import Path\n",
    "# import requests\n",
    "# import os"
   ]
  },
  {
   "cell_type": "code",
   "execution_count": 6,
   "id": "a609d1b4",
   "metadata": {
    "execution": {
     "iopub.execute_input": "2022-04-30T16:33:11.393368Z",
     "iopub.status.busy": "2022-04-30T16:33:11.392368Z",
     "iopub.status.idle": "2022-04-30T16:33:11.396816Z",
     "shell.execute_reply": "2022-04-30T16:33:11.397489Z",
     "shell.execute_reply.started": "2022-04-12T15:03:43.5897Z"
    },
    "papermill": {
     "duration": 0.07543,
     "end_time": "2022-04-30T16:33:11.397676",
     "exception": false,
     "start_time": "2022-04-30T16:33:11.322246",
     "status": "completed"
    },
    "tags": []
   },
   "outputs": [],
   "source": [
    "# sql_db_json = [\n",
    "#   {\n",
    "#     \"document_id\": \"1\",\n",
    "#     \"area\": \"[72.1149,661.2966,131.95729,675.1716]\",\n",
    "#     \"page\": \"3\",\n",
    "#     \"text_\": \"Background\",\n",
    "#     \"type_of_selection\": \"Text\",\n",
    "#     \"entity_type\": \"name\",\n",
    "#     \"link\": \"https://redactable-devox-stage.s3.us-east-2.amazonaws.com/tenants/41d9e109-693b-444c-aa18-e5891bc6550b/original/1a7c0e5d-3237-4ca9-9e3d-89e707245ac6/D8communications.pdf\"\n",
    "#   },\n",
    "#   {\n",
    "#     \"document_id\": \"1\",\n",
    "#     \"area\": \"[290.55386,632.0173,322.14685,645.8923]\",\n",
    "#     \"page\": \"2\",\n",
    "#     \"text_\": \"INDEX\",\n",
    "#     \"type_of_selection\": \"Text\",\n",
    "#     \"entity_type\": \"address\",\n",
    "#     \"link\": \"https://redactable-devox-stage.s3.us-east-2.amazonaws.com/tenants/41d9e109-693b-444c-aa18-e5891bc6550b/original/1a7c0e5d-3237-4ca9-9e3d-89e707245ac6/D8communications.pdf\"\n",
    "#   }\n",
    "# ]"
   ]
  },
  {
   "cell_type": "code",
   "execution_count": 7,
   "id": "352dce98",
   "metadata": {
    "execution": {
     "iopub.execute_input": "2022-04-30T16:33:11.536630Z",
     "iopub.status.busy": "2022-04-30T16:33:11.535648Z",
     "iopub.status.idle": "2022-04-30T16:33:11.538677Z",
     "shell.execute_reply": "2022-04-30T16:33:11.539298Z",
     "shell.execute_reply.started": "2022-04-12T13:17:19.452695Z"
    },
    "papermill": {
     "duration": 0.074525,
     "end_time": "2022-04-30T16:33:11.539467",
     "exception": false,
     "start_time": "2022-04-30T16:33:11.464942",
     "status": "completed"
    },
    "tags": []
   },
   "outputs": [],
   "source": [
    "# l=pd.DataFrame()\n",
    "# k=(1, '[290.55386,632.0173,322.14685,645.8923]', 2, 'INDEX', 'Text', 'address', 'https://redactable-devox-s')\n",
    "# k\n"
   ]
  },
  {
   "cell_type": "code",
   "execution_count": 8,
   "id": "c2767edf",
   "metadata": {
    "execution": {
     "iopub.execute_input": "2022-04-30T16:33:11.677690Z",
     "iopub.status.busy": "2022-04-30T16:33:11.676657Z",
     "iopub.status.idle": "2022-04-30T16:33:11.679400Z",
     "shell.execute_reply": "2022-04-30T16:33:11.678862Z",
     "shell.execute_reply.started": "2022-04-12T16:09:33.708631Z"
    },
    "papermill": {
     "duration": 0.073821,
     "end_time": "2022-04-30T16:33:11.679548",
     "exception": false,
     "start_time": "2022-04-30T16:33:11.605727",
     "status": "completed"
    },
    "tags": []
   },
   "outputs": [],
   "source": [
    "# co=[\"document_id\",\"area\",\"page\",\"text_\",\"type_of_selection\",\"entity_type\",\"link\"]\n",
    "# val= [(1,'[72.1149,661.2966,131.95729,675.1716]',3,'Background','Text','name' ,'https://redactable-devox-stage.s3.us-east-2.am'), (1,  '[290.55386,632.0173,322.14685,645.8923]',2,'INDEX', 'Text','address','https://redactable-devox-stage.s3.us-east-2.am')]\n",
    "\n",
    "# df=pd.DataFrame(val,columns=[co])\n",
    "# #df.iloc[1] =[1,  '[290.55386,632.0173,322.14685,645.8923]',2,'INDEX', 'Text','address','https://redactable-devox-stage.s3.us-east-2.am']\n",
    "# df"
   ]
  },
  {
   "cell_type": "code",
   "execution_count": 9,
   "id": "2a8a6e63",
   "metadata": {
    "execution": {
     "iopub.execute_input": "2022-04-30T16:33:11.815944Z",
     "iopub.status.busy": "2022-04-30T16:33:11.815310Z",
     "iopub.status.idle": "2022-04-30T16:33:11.816860Z",
     "shell.execute_reply": "2022-04-30T16:33:11.817377Z",
     "shell.execute_reply.started": "2022-04-12T16:18:22.595374Z"
    },
    "papermill": {
     "duration": 0.071716,
     "end_time": "2022-04-30T16:33:11.817543",
     "exception": false,
     "start_time": "2022-04-30T16:33:11.745827",
     "status": "completed"
    },
    "tags": []
   },
   "outputs": [],
   "source": [
    "# prev=[]\n",
    "# for data,row in df.iterrows():\n",
    "#     if row['document_id'] not in prev:\n",
    "#         prev.append(row['document_id'])\n",
    "#         print('hey')"
   ]
  },
  {
   "cell_type": "code",
   "execution_count": 10,
   "id": "fce1a51f",
   "metadata": {
    "execution": {
     "iopub.execute_input": "2022-04-30T16:33:11.956597Z",
     "iopub.status.busy": "2022-04-30T16:33:11.955497Z",
     "iopub.status.idle": "2022-04-30T16:33:11.957442Z",
     "shell.execute_reply": "2022-04-30T16:33:11.958072Z",
     "shell.execute_reply.started": "2022-04-12T15:03:48.248836Z"
    },
    "papermill": {
     "duration": 0.074615,
     "end_time": "2022-04-30T16:33:11.958245",
     "exception": false,
     "start_time": "2022-04-30T16:33:11.883630",
     "status": "completed"
    },
    "tags": []
   },
   "outputs": [],
   "source": [
    "# nlp = spacy.load('en_core_web_sm')\n",
    "# train_data = []\n",
    "\n",
    "# prev_doc_id = ''\n",
    "# i=0\n",
    "# temp='/kaggle/working'\n",
    "\n",
    "# for data in sql_db_json:\n",
    "#     if data['type_of_selection'] == 'Text':\n",
    "#         document_id = data['document_id']\n",
    "#         x1,y1,x2,y2 = data['area'][1:-1].split(',')\n",
    "#         url = data['link']\n",
    "#         page_no = int(data['page']) - 1 \n",
    "#         label = data['entity_type']\n",
    "#         filename = url.split('/')[-1]\n",
    "    \n",
    "#         #download the file to temp folder\n",
    "#         outpath = os.path.join(temp,filename)\n",
    "\n",
    "#         if document_id == prev_doc_id:\n",
    "#             pass\n",
    "#         else: \n",
    "#             i+=1\n",
    "#             print(i)\n",
    "#             response = requests.get(url)\n",
    "#             with open(outpath, \"wb\") as binary_file:\n",
    "#                 binary_file.write(response.content)\n",
    "\n",
    "#         doc = fitz.open(outpath)  # any supported document type\n",
    "#         page = doc[page_no]  # we want text from this page\n",
    "#         print('page dimension - ', page.rect.width, page.rect.height)\n",
    "\n",
    "#         #The co-ordinates in the DB are image co-ords. W.r.t pdf, y1 and y2 has to be interchanged.\n",
    "#         #To ensure entire word to be selected, slight correction in x1,y1,x2,y2 is done.\n",
    "\n",
    "#         rect = [float(x1)-2, 792 - float(y2)-2, float(x2)+2, 792 - float(y1)+2]\n",
    "#         print(rect)\n",
    "#         labelled_text = page.get_textbox(rect)\n",
    "\n",
    "#         #Removing all unprintable characters from the text\n",
    "#         string = re.sub('[^0-9a-zA-Z@?|\\/<>.,()&^%$#!]+', ' ', labelled_text)\n",
    "#         print('string : ', string)\n",
    "\n",
    "#         fulltext = page.get_text()\n",
    "#         doc = nlp(fulltext)\n",
    "\n",
    "#         sentences = []\n",
    "#         for sent in doc.sents:\n",
    "#             if string.strip() in sent.text:\n",
    "#                 text = re.sub('[^0-9a-zA-Z@?|\\/<>.,()&^%$#!]+', ' ', sent.text)\n",
    "\n",
    "#         res = re.search(string.strip(), text)\n",
    "\n",
    "#         entities = []\n",
    "#         entities.append((res.start(),res.end(),label))\n",
    "\n",
    "#         train_data.append((text,{'entities':entities}))\n",
    "\n",
    "# print('Training data in spacy format')\n",
    "# print('*****************************')\n",
    "# for i in range(0,len(train_data)):\n",
    "#     print(train_data[i])"
   ]
  },
  {
   "cell_type": "code",
   "execution_count": null,
   "id": "e8b81039",
   "metadata": {
    "papermill": {
     "duration": 0.066093,
     "end_time": "2022-04-30T16:33:12.090771",
     "exception": false,
     "start_time": "2022-04-30T16:33:12.024678",
     "status": "completed"
    },
    "tags": []
   },
   "outputs": [],
   "source": []
  },
  {
   "cell_type": "code",
   "execution_count": 11,
   "id": "affa53cf",
   "metadata": {
    "execution": {
     "iopub.execute_input": "2022-04-30T16:33:12.225775Z",
     "iopub.status.busy": "2022-04-30T16:33:12.224776Z",
     "iopub.status.idle": "2022-04-30T16:33:12.229869Z",
     "shell.execute_reply": "2022-04-30T16:33:12.230342Z",
     "shell.execute_reply.started": "2022-04-12T11:44:59.253637Z"
    },
    "papermill": {
     "duration": 0.074357,
     "end_time": "2022-04-30T16:33:12.230516",
     "exception": false,
     "start_time": "2022-04-30T16:33:12.156159",
     "status": "completed"
    },
    "tags": []
   },
   "outputs": [],
   "source": [
    "# nlp = spacy.load('en_core_web_sm')\n",
    "# train_data = []\n",
    "\n",
    "# prev_doc_id = ''\n",
    "# temp='/kaggle/working'\n",
    "# i=0\n",
    "# for data in sql_db_json:\n",
    "#     if data['type_of_selection'] == 'Text':\n",
    "#         document_id = data['document_id']\n",
    "#         x1,y1,x2,y2 = data['area'][1:-1].split(',')\n",
    "#         url = data['link']\n",
    "#         page_no = int(data['page']) - 1 \n",
    "#         label = data['entity_type']\n",
    "#         filename = url.split('/')[-1]\n",
    "    \n",
    "#         #download the file to temp folder\n",
    "#         i+=1\n",
    "#         print(i)\n",
    "#         response = requests.get(url)\n",
    "#         doc = fitz.open(stream=response.content,filetype=\"pdf\")  # any supported document type\n",
    "#         page = doc[page_no]  # we want text from this page\n",
    "#         print('page dimension - ', page.rect.width, page.rect.height)\n",
    "\n",
    "#         #The co-ordinates in the DB are image co-ords. W.r.t pdf, y1 and y2 has to be interchanged.\n",
    "#         #To ensure entire word to be selected, slight correction in x1,y1,x2,y2 is done.\n",
    "\n",
    "#         rect = [float(x1)-2, 792 - float(y2)-2, float(x2)+2, 792 - float(y1)+2]\n",
    "#         print(rect)\n",
    "#         labelled_text = page.get_textbox(rect)\n",
    "\n",
    "#         #Removing all unprintable characters from the text\n",
    "#         string = re.sub('[^0-9a-zA-Z@?|\\/<>.,()&^%$#!]+', ' ', labelled_text)\n",
    "#         print('string : ', string)\n",
    "\n",
    "#         fulltext = page.get_text()\n",
    "#         doc = nlp(fulltext)\n",
    "\n",
    "#         sentences = []\n",
    "#         for sent in doc.sents:\n",
    "#             if string.strip() in sent.text:\n",
    "#                 text = re.sub('[^0-9a-zA-Z@?|\\/<>.,()&^%$#!]+', ' ', sent.text)\n",
    "\n",
    "#         res = re.search(string.strip(), text)\n",
    "\n",
    "#         entities = []\n",
    "#         entities.append((res.start(),res.end(),label))\n",
    "\n",
    "#         train_data.append((text,{'entities':entities}))\n",
    "\n",
    "# print('Training data in spacy format')\n",
    "# print('*****************************')\n",
    "# for i in range(0,len(train_data)):\n",
    "#     print(train_data[i])"
   ]
  },
  {
   "cell_type": "code",
   "execution_count": 12,
   "id": "f3f7e855",
   "metadata": {
    "execution": {
     "iopub.execute_input": "2022-04-30T16:33:12.366414Z",
     "iopub.status.busy": "2022-04-30T16:33:12.365477Z",
     "iopub.status.idle": "2022-04-30T16:33:12.369091Z",
     "shell.execute_reply": "2022-04-30T16:33:12.369536Z"
    },
    "papermill": {
     "duration": 0.073306,
     "end_time": "2022-04-30T16:33:12.369713",
     "exception": false,
     "start_time": "2022-04-30T16:33:12.296407",
     "status": "completed"
    },
    "tags": []
   },
   "outputs": [],
   "source": [
    "# page dimension -  612.0 792.0\n",
    "# [70.1149, 114.82839999999999, 133.95729, 132.7034]\n",
    "# string :  Background\n",
    "# page dimension -  612.0 792.0\n",
    "# [288.55386, 144.10770000000002, 324.14685, 161.98270000000002]\n",
    "# string :  INDEX\n",
    "# Training data in spacy format\n",
    "# *****************************\n",
    "# (' 3 Background The Blue Ribbon Committee was created by the Mayor to assess various city communication methods and recommend opportunities to improve communications with residents, businesses and other organizations.', {'entities': [(3, 13, 'name')]})\n",
    "# (' 2 INDEX Background Pg. 3 Purpose Pg. 3 Process .', {'entities': [(3, 8, 'address')]})"
   ]
  },
  {
   "cell_type": "code",
   "execution_count": 13,
   "id": "47cf7c15",
   "metadata": {
    "execution": {
     "iopub.execute_input": "2022-04-30T16:33:12.505730Z",
     "iopub.status.busy": "2022-04-30T16:33:12.504739Z",
     "iopub.status.idle": "2022-04-30T16:33:12.508673Z",
     "shell.execute_reply": "2022-04-30T16:33:12.509295Z",
     "shell.execute_reply.started": "2022-04-11T16:35:29.609712Z"
    },
    "papermill": {
     "duration": 0.073473,
     "end_time": "2022-04-30T16:33:12.509459",
     "exception": false,
     "start_time": "2022-04-30T16:33:12.435986",
     "status": "completed"
    },
    "tags": []
   },
   "outputs": [],
   "source": [
    "# nlp = spacy.load('en_core_web_sm')\n",
    "# outpath=r'/kaggle/input/sample-pdf/D8communications.pdf'\n",
    "# doc = fitz.open(outpath)  # any supported document type\n",
    "# page_no=3\n",
    "# page = doc[page_no-1]\n",
    "\n",
    "# x1,y1,x2,y2=(72.1149,661.2966,131.95729,675.1716)\n",
    "\n",
    "# rect = [float(x1)-2, 792 - float(y2)-2, float(x2)+2, 792 - float(y1)+2]\n",
    "# print(rect)\n",
    "# labelled_text = page.get_textbox(rect)\n",
    "# string = re.sub('[^0-9a-zA-Z@?|\\/<>.,()&^%$#!]+', ' ', labelled_text)\n",
    "# print('string : ', string)\n",
    "\n",
    "# fulltext = page.get_text()\n",
    "# doc = nlp(fulltext)\n",
    "\n",
    "# sentences = []\n",
    "# for sent in doc.sents:\n",
    "#             if string.strip() in sent.text:\n",
    "#                 text = re.sub('[^0-9a-zA-Z@?|\\/<>.,()&^%$#!]+', ' ', sent.text)\n",
    "\n",
    "#         res = re.search(string.strip(), text)\n",
    "\n",
    "#         entities = []\n",
    "#         entities.append((res.start(),res.end(),label))\n",
    "\n",
    "#         train_data.append((text,{'entities':entities}))\n",
    "\n"
   ]
  },
  {
   "cell_type": "code",
   "execution_count": 14,
   "id": "eb780073",
   "metadata": {
    "execution": {
     "iopub.execute_input": "2022-04-30T16:33:12.646038Z",
     "iopub.status.busy": "2022-04-30T16:33:12.645124Z",
     "iopub.status.idle": "2022-04-30T16:33:12.648006Z",
     "shell.execute_reply": "2022-04-30T16:33:12.648474Z",
     "shell.execute_reply.started": "2022-04-11T16:35:41.679947Z"
    },
    "papermill": {
     "duration": 0.072276,
     "end_time": "2022-04-30T16:33:12.648633",
     "exception": false,
     "start_time": "2022-04-30T16:33:12.576357",
     "status": "completed"
    },
    "tags": []
   },
   "outputs": [],
   "source": [
    "#doc"
   ]
  },
  {
   "cell_type": "code",
   "execution_count": 15,
   "id": "2506b654",
   "metadata": {
    "execution": {
     "iopub.execute_input": "2022-04-30T16:33:12.785630Z",
     "iopub.status.busy": "2022-04-30T16:33:12.784661Z",
     "iopub.status.idle": "2022-04-30T16:33:12.787684Z",
     "shell.execute_reply": "2022-04-30T16:33:12.788150Z",
     "shell.execute_reply.started": "2022-04-11T16:35:56.010353Z"
    },
    "papermill": {
     "duration": 0.072843,
     "end_time": "2022-04-30T16:33:12.788321",
     "exception": false,
     "start_time": "2022-04-30T16:33:12.715478",
     "status": "completed"
    },
    "tags": []
   },
   "outputs": [],
   "source": [
    "# sentences = []\n",
    "# for sent in doc.sents:\n",
    "#     if string.strip() in sent.text:\n",
    "#         text = re.sub('[^0-9a-zA-Z@?|\\/<>.,()&^%$#!]+', ' ', sent.text)"
   ]
  },
  {
   "cell_type": "code",
   "execution_count": 16,
   "id": "30aea623",
   "metadata": {
    "execution": {
     "iopub.execute_input": "2022-04-30T16:33:12.927714Z",
     "iopub.status.busy": "2022-04-30T16:33:12.926677Z",
     "iopub.status.idle": "2022-04-30T16:33:12.929542Z",
     "shell.execute_reply": "2022-04-30T16:33:12.929030Z",
     "shell.execute_reply.started": "2022-04-11T16:39:04.736143Z"
    },
    "papermill": {
     "duration": 0.073955,
     "end_time": "2022-04-30T16:33:12.929695",
     "exception": false,
     "start_time": "2022-04-30T16:33:12.855740",
     "status": "completed"
    },
    "tags": []
   },
   "outputs": [],
   "source": [
    "# k=nlp(\"he             kenny\")\n",
    "# for sent in k.sents:\n",
    "#     print(sent)"
   ]
  },
  {
   "cell_type": "code",
   "execution_count": 17,
   "id": "118ee3bf",
   "metadata": {
    "execution": {
     "iopub.execute_input": "2022-04-30T16:33:13.067896Z",
     "iopub.status.busy": "2022-04-30T16:33:13.067265Z",
     "iopub.status.idle": "2022-04-30T16:33:13.069355Z",
     "shell.execute_reply": "2022-04-30T16:33:13.069859Z",
     "shell.execute_reply.started": "2022-04-11T15:09:24.391421Z"
    },
    "papermill": {
     "duration": 0.072877,
     "end_time": "2022-04-30T16:33:13.070064",
     "exception": false,
     "start_time": "2022-04-30T16:33:12.997187",
     "status": "completed"
    },
    "tags": []
   },
   "outputs": [],
   "source": [
    "# text"
   ]
  },
  {
   "cell_type": "code",
   "execution_count": 18,
   "id": "a4cc8217",
   "metadata": {
    "execution": {
     "iopub.execute_input": "2022-04-30T16:33:13.210105Z",
     "iopub.status.busy": "2022-04-30T16:33:13.209376Z",
     "iopub.status.idle": "2022-04-30T16:33:13.212125Z",
     "shell.execute_reply": "2022-04-30T16:33:13.211572Z",
     "shell.execute_reply.started": "2022-04-11T15:09:31.9599Z"
    },
    "papermill": {
     "duration": 0.073664,
     "end_time": "2022-04-30T16:33:13.212267",
     "exception": false,
     "start_time": "2022-04-30T16:33:13.138603",
     "status": "completed"
    },
    "tags": []
   },
   "outputs": [],
   "source": [
    "# res = re.search(string.strip(), text)\n",
    "# res"
   ]
  },
  {
   "cell_type": "code",
   "execution_count": 19,
   "id": "be169e23",
   "metadata": {
    "execution": {
     "iopub.execute_input": "2022-04-30T16:33:13.349654Z",
     "iopub.status.busy": "2022-04-30T16:33:13.348936Z",
     "iopub.status.idle": "2022-04-30T16:33:13.351375Z",
     "shell.execute_reply": "2022-04-30T16:33:13.351951Z",
     "shell.execute_reply.started": "2022-04-11T15:12:41.311242Z"
    },
    "papermill": {
     "duration": 0.073481,
     "end_time": "2022-04-30T16:33:13.352169",
     "exception": false,
     "start_time": "2022-04-30T16:33:13.278688",
     "status": "completed"
    },
    "tags": []
   },
   "outputs": [],
   "source": [
    "# entities = []\n",
    "# entities.append((res.start(),res.end(),'p'))"
   ]
  },
  {
   "cell_type": "code",
   "execution_count": 20,
   "id": "50e09ce1",
   "metadata": {
    "execution": {
     "iopub.execute_input": "2022-04-30T16:33:13.488812Z",
     "iopub.status.busy": "2022-04-30T16:33:13.487916Z",
     "iopub.status.idle": "2022-04-30T16:33:13.491160Z",
     "shell.execute_reply": "2022-04-30T16:33:13.491627Z",
     "shell.execute_reply.started": "2022-04-11T15:12:52.736619Z"
    },
    "papermill": {
     "duration": 0.072766,
     "end_time": "2022-04-30T16:33:13.491808",
     "exception": false,
     "start_time": "2022-04-30T16:33:13.419042",
     "status": "completed"
    },
    "tags": []
   },
   "outputs": [],
   "source": [
    "# entities"
   ]
  },
  {
   "cell_type": "code",
   "execution_count": 21,
   "id": "dba2014f",
   "metadata": {
    "execution": {
     "iopub.execute_input": "2022-04-30T16:33:13.641016Z",
     "iopub.status.busy": "2022-04-30T16:33:13.639873Z",
     "iopub.status.idle": "2022-04-30T16:33:13.642749Z",
     "shell.execute_reply": "2022-04-30T16:33:13.643653Z",
     "shell.execute_reply.started": "2022-04-11T15:06:11.546217Z"
    },
    "papermill": {
     "duration": 0.084818,
     "end_time": "2022-04-30T16:33:13.643911",
     "exception": false,
     "start_time": "2022-04-30T16:33:13.559093",
     "status": "completed"
    },
    "tags": []
   },
   "outputs": [],
   "source": [
    "# text"
   ]
  },
  {
   "cell_type": "code",
   "execution_count": null,
   "id": "ad700685",
   "metadata": {
    "execution": {
     "iopub.execute_input": "2022-04-11T15:02:33.300092Z",
     "iopub.status.busy": "2022-04-11T15:02:33.299778Z",
     "iopub.status.idle": "2022-04-11T15:02:33.30711Z",
     "shell.execute_reply": "2022-04-11T15:02:33.306345Z",
     "shell.execute_reply.started": "2022-04-11T15:02:33.300061Z"
    },
    "papermill": {
     "duration": 0.066097,
     "end_time": "2022-04-30T16:33:13.788820",
     "exception": false,
     "start_time": "2022-04-30T16:33:13.722723",
     "status": "completed"
    },
    "tags": []
   },
   "outputs": [],
   "source": []
  },
  {
   "cell_type": "code",
   "execution_count": 22,
   "id": "a7f1b91b",
   "metadata": {
    "execution": {
     "iopub.execute_input": "2022-04-30T16:33:13.925837Z",
     "iopub.status.busy": "2022-04-30T16:33:13.925174Z",
     "iopub.status.idle": "2022-04-30T16:33:13.927910Z",
     "shell.execute_reply": "2022-04-30T16:33:13.928418Z",
     "shell.execute_reply.started": "2022-04-11T16:21:02.863037Z"
    },
    "papermill": {
     "duration": 0.073334,
     "end_time": "2022-04-30T16:33:13.928587",
     "exception": false,
     "start_time": "2022-04-30T16:33:13.855253",
     "status": "completed"
    },
    "tags": []
   },
   "outputs": [],
   "source": [
    "# import spacy\n",
    "# nlp = spacy.load('en_core_web_sm')"
   ]
  },
  {
   "cell_type": "code",
   "execution_count": 23,
   "id": "7d7818fe",
   "metadata": {
    "execution": {
     "iopub.execute_input": "2022-04-30T16:33:14.065491Z",
     "iopub.status.busy": "2022-04-30T16:33:14.064508Z",
     "iopub.status.idle": "2022-04-30T16:33:14.067753Z",
     "shell.execute_reply": "2022-04-30T16:33:14.068254Z",
     "shell.execute_reply.started": "2022-04-09T12:19:47.776612Z"
    },
    "papermill": {
     "duration": 0.072949,
     "end_time": "2022-04-30T16:33:14.068435",
     "exception": false,
     "start_time": "2022-04-30T16:33:13.995486",
     "status": "completed"
    },
    "tags": []
   },
   "outputs": [],
   "source": [
    "# !pip install PyPDF2\n",
    "# import PyPDF2\n",
    "# fhandle = open(r'/kaggle/input/sample-pdf/D8communications.pdf', 'rb')\n",
    "# pdfReader = PyPDF2.PdfFileReader(fhandle)\n",
    "# pagehandle = pdfReader.getPage(4)\n",
    "# print(pagehandle.extractText())"
   ]
  },
  {
   "cell_type": "code",
   "execution_count": 24,
   "id": "6c840c67",
   "metadata": {
    "execution": {
     "iopub.execute_input": "2022-04-30T16:33:14.207909Z",
     "iopub.status.busy": "2022-04-30T16:33:14.206915Z",
     "iopub.status.idle": "2022-04-30T16:33:14.210243Z",
     "shell.execute_reply": "2022-04-30T16:33:14.210695Z",
     "shell.execute_reply.started": "2022-04-09T12:25:37.701467Z"
    },
    "papermill": {
     "duration": 0.074387,
     "end_time": "2022-04-30T16:33:14.210868",
     "exception": false,
     "start_time": "2022-04-30T16:33:14.136481",
     "status": "completed"
    },
    "tags": []
   },
   "outputs": [],
   "source": [
    "# !pip install pdfplumber\n",
    "# import pdfplumber\n",
    "# with pdfplumber.open(r'/kaggle/input/sample-pdf/D8communications.pdf') as pdf:\n",
    "#     first_page = pdf.pages[3]\n",
    "#     print(first_page.extract_text())"
   ]
  },
  {
   "cell_type": "code",
   "execution_count": 25,
   "id": "e8fee6f8",
   "metadata": {
    "execution": {
     "iopub.execute_input": "2022-04-30T16:33:14.347644Z",
     "iopub.status.busy": "2022-04-30T16:33:14.346690Z",
     "iopub.status.idle": "2022-04-30T16:33:14.349917Z",
     "shell.execute_reply": "2022-04-30T16:33:14.350405Z",
     "shell.execute_reply.started": "2022-04-09T12:25:49.584635Z"
    },
    "papermill": {
     "duration": 0.073028,
     "end_time": "2022-04-30T16:33:14.350580",
     "exception": false,
     "start_time": "2022-04-30T16:33:14.277552",
     "status": "completed"
    },
    "tags": []
   },
   "outputs": [],
   "source": [
    "# !pip install pytesseract"
   ]
  },
  {
   "cell_type": "code",
   "execution_count": 26,
   "id": "45c72bb0",
   "metadata": {
    "execution": {
     "iopub.execute_input": "2022-04-30T16:33:14.488569Z",
     "iopub.status.busy": "2022-04-30T16:33:14.487652Z",
     "iopub.status.idle": "2022-04-30T16:33:14.490703Z",
     "shell.execute_reply": "2022-04-30T16:33:14.491177Z",
     "shell.execute_reply.started": "2022-04-09T14:49:10.656812Z"
    },
    "papermill": {
     "duration": 0.073154,
     "end_time": "2022-04-30T16:33:14.491355",
     "exception": false,
     "start_time": "2022-04-30T16:33:14.418201",
     "status": "completed"
    },
    "tags": []
   },
   "outputs": [],
   "source": [
    "# #!pip install pdf2image\n",
    "# !pip install poppler"
   ]
  },
  {
   "cell_type": "code",
   "execution_count": 27,
   "id": "b7b4e8d5",
   "metadata": {
    "execution": {
     "iopub.execute_input": "2022-04-30T16:33:14.630355Z",
     "iopub.status.busy": "2022-04-30T16:33:14.629387Z",
     "iopub.status.idle": "2022-04-30T16:33:14.632439Z",
     "shell.execute_reply": "2022-04-30T16:33:14.632922Z",
     "shell.execute_reply.started": "2022-04-09T14:57:24.756677Z"
    },
    "papermill": {
     "duration": 0.074709,
     "end_time": "2022-04-30T16:33:14.633114",
     "exception": false,
     "start_time": "2022-04-30T16:33:14.558405",
     "status": "completed"
    },
    "tags": []
   },
   "outputs": [],
   "source": [
    "# pdf2image.convert_from_path('/kaggle/input/sample-pdf/D8communications.pdf')"
   ]
  },
  {
   "cell_type": "code",
   "execution_count": 28,
   "id": "0aa27e72",
   "metadata": {
    "execution": {
     "iopub.execute_input": "2022-04-30T16:33:14.772330Z",
     "iopub.status.busy": "2022-04-30T16:33:14.771634Z",
     "iopub.status.idle": "2022-04-30T16:33:14.775086Z",
     "shell.execute_reply": "2022-04-30T16:33:14.775610Z",
     "shell.execute_reply.started": "2022-04-09T14:57:17.576149Z"
    },
    "papermill": {
     "duration": 0.074565,
     "end_time": "2022-04-30T16:33:14.775777",
     "exception": false,
     "start_time": "2022-04-30T16:33:14.701212",
     "status": "completed"
    },
    "tags": []
   },
   "outputs": [],
   "source": [
    "# import pdf2image\n",
    "# try:\n",
    "#     from PIL import Image\n",
    "# except ImportError:\n",
    "#     import Image\n",
    "# import pytesseract\n",
    "\n",
    "\n",
    "# def pdf_to_img(pdf_file):\n",
    "#     return pdf2image.convert_from_path(pdf_file)\n",
    "\n",
    "\n",
    "# def ocr_core(file):\n",
    "#     text = pytesseract.image_to_string(file)\n",
    "#     return text\n",
    "\n",
    "\n",
    "# def print_pages(pdf_file):\n",
    "#     images = pdf_to_img(pdf_file)\n",
    "#     for pg, img in enumerate(images):\n",
    "#         print(ocr_core(img))\n",
    "\n",
    "\n",
    "# print_pages('/kaggle/input/sample-pdf/D8communications.pdf')\n"
   ]
  },
  {
   "cell_type": "code",
   "execution_count": 29,
   "id": "dab4f4b9",
   "metadata": {
    "execution": {
     "iopub.execute_input": "2022-04-30T16:33:14.913224Z",
     "iopub.status.busy": "2022-04-30T16:33:14.912535Z",
     "iopub.status.idle": "2022-04-30T16:33:14.916167Z",
     "shell.execute_reply": "2022-04-30T16:33:14.916721Z"
    },
    "papermill": {
     "duration": 0.073749,
     "end_time": "2022-04-30T16:33:14.916889",
     "exception": false,
     "start_time": "2022-04-30T16:33:14.843140",
     "status": "completed"
    },
    "tags": []
   },
   "outputs": [],
   "source": [
    "# import requests\n",
    "# import fitz\n",
    "# import io\n",
    "\n",
    "# #URL = 'https://buildmedia.readthedocs.org/media/pdf/pdfminer-docs/latest/pdfminer-docs.pdf'\n",
    "# URL = 'https://redactable-devox-stage.s3.us-east-2.amazonaws.com/tenants/41d9e109-693b-444c-aa18-e5891bc6550b/original/1a7c0e5d-3237-4ca9-9e3d-89e707245ac6/D8communications.pdf'\n",
    "\n",
    "\n",
    "# res = requests.get(URL)\n",
    "# filestream = io.BytesIO(res.content)\n",
    "# #res.content\n",
    "# filestream\n",
    "# doc = fitz.Document(stream=filestream)\n",
    "# page1 = doc.loadPage(3)\n",
    "# page1text = page1.getText(\"text\").encode(\"utf-8\").decode(\"utf-8\")\n",
    "# print(page1text)"
   ]
  },
  {
   "cell_type": "code",
   "execution_count": 30,
   "id": "44dd2fa2",
   "metadata": {
    "execution": {
     "iopub.execute_input": "2022-04-30T16:33:15.055606Z",
     "iopub.status.busy": "2022-04-30T16:33:15.054822Z",
     "iopub.status.idle": "2022-04-30T16:33:15.058585Z",
     "shell.execute_reply": "2022-04-30T16:33:15.059137Z",
     "shell.execute_reply.started": "2022-04-09T07:04:56.590103Z"
    },
    "papermill": {
     "duration": 0.07516,
     "end_time": "2022-04-30T16:33:15.059313",
     "exception": false,
     "start_time": "2022-04-30T16:33:14.984153",
     "status": "completed"
    },
    "tags": []
   },
   "outputs": [],
   "source": [
    "# import requests\n",
    "# import fitz\n",
    "\n",
    "# #URL = 'https://buildmedia.readthedocs.org/media/pdf/pdfminer-docs/latest/pdfminer-docs.pdf'\n",
    "# URL = 'https://redactable-devox-stage.s3.us-east-2.amazonaws.com/tenants/41d9e109-693b-444c-aa18-e5891bc6550b/original/1a7c0e5d-3237-4ca9-9e3d-89e707245ac6/D8communications.pdf'\n",
    "\n",
    "\n",
    "# res = requests.get(URL)\n",
    "# doc = fitz.open(stream=res.content,filetype=\"pdf\")\n",
    "# page1 = doc.loadPage(3)\n",
    "# page1text = page1.getText(\"text\")\n",
    "# #rect = (72.1149,661.2966,131.95729,675.1716)\n",
    "# rect=(72.10812377929688, 116.13427734375, 133.97142028808594, 146.4227294921875)\n",
    "# labelled_text = page1.get_textbox(rect)\n",
    "# print(labelled_text.strip())\n",
    "\n",
    "# fulltext = page1.get_text()\n",
    "# print(fulltext)\n",
    "# doc = nlp(fulltext)\n",
    "# sentences = []\n",
    "# for sent in doc.sents:\n",
    "#     if labelled_text in sent.text:\n",
    "#         text = sent.text\n",
    "#         print(text)\n",
    "# #print(page1text)"
   ]
  },
  {
   "cell_type": "code",
   "execution_count": 31,
   "id": "2bc9a5ff",
   "metadata": {
    "execution": {
     "iopub.execute_input": "2022-04-30T16:33:15.195942Z",
     "iopub.status.busy": "2022-04-30T16:33:15.195324Z",
     "iopub.status.idle": "2022-04-30T16:33:15.198390Z",
     "shell.execute_reply": "2022-04-30T16:33:15.198911Z",
     "shell.execute_reply.started": "2022-04-08T16:42:57.6659Z"
    },
    "papermill": {
     "duration": 0.072539,
     "end_time": "2022-04-30T16:33:15.199088",
     "exception": false,
     "start_time": "2022-04-30T16:33:15.126549",
     "status": "completed"
    },
    "tags": []
   },
   "outputs": [],
   "source": [
    "#res.content"
   ]
  },
  {
   "cell_type": "code",
   "execution_count": 32,
   "id": "bbf8a4a0",
   "metadata": {
    "execution": {
     "iopub.execute_input": "2022-04-30T16:33:15.334700Z",
     "iopub.status.busy": "2022-04-30T16:33:15.334076Z",
     "iopub.status.idle": "2022-04-30T16:33:15.337715Z",
     "shell.execute_reply": "2022-04-30T16:33:15.338343Z",
     "shell.execute_reply.started": "2022-04-08T16:48:05.672392Z"
    },
    "papermill": {
     "duration": 0.073001,
     "end_time": "2022-04-30T16:33:15.338516",
     "exception": false,
     "start_time": "2022-04-30T16:33:15.265515",
     "status": "completed"
    },
    "tags": []
   },
   "outputs": [],
   "source": [
    "# import fitz\n",
    "# # mem_area=\n",
    "# # doc = fitz.open(stream=mem_area, filetype=\"pdf\")\n",
    "\n",
    "# import requests\n",
    "\n",
    "# URL = 'https://redactable-devox-stage.s3.us-east-2.amazonaws.com/tenants/41d9e109-693b-444c-aa18-e5891bc6550b/original/1a7c0e5d-3237-4ca9-9e3d-89e707245ac6/D8communications.pdf'\n",
    "\n",
    "# #res = requests.get(URL)\n",
    "# doc=fitz.open(\"/kaggle/input/sample-pdf/D8communications.pdf\")\n",
    "# #doc = fitz.open(stream=res.content,filetype=\"pdf\")\n",
    "# page1 = doc.loadPage(4)\n",
    "# # page1text = page1.getText(\"text\")\n",
    "# # print(page1text)\n",
    "# blocks = page1.getText(\"blocks\")\n",
    "# blocks.sort(key=lambda block: block[1])  # sort vertically ascending\n",
    "\n",
    "# for b in blocks:\n",
    "#     print(b[4])\n"
   ]
  },
  {
   "cell_type": "code",
   "execution_count": 33,
   "id": "c574ae10",
   "metadata": {
    "execution": {
     "iopub.execute_input": "2022-04-30T16:33:15.474725Z",
     "iopub.status.busy": "2022-04-30T16:33:15.474095Z",
     "iopub.status.idle": "2022-04-30T16:33:15.476857Z",
     "shell.execute_reply": "2022-04-30T16:33:15.477463Z",
     "shell.execute_reply.started": "2022-04-08T16:48:13.086323Z"
    },
    "papermill": {
     "duration": 0.072222,
     "end_time": "2022-04-30T16:33:15.477627",
     "exception": false,
     "start_time": "2022-04-30T16:33:15.405405",
     "status": "completed"
    },
    "tags": []
   },
   "outputs": [],
   "source": [
    "# # page = doc[1]\n",
    "# words = page.get_text(\"words\")\n",
    "# #print(words)\n",
    "# rect = (72.1149,661.2966,131.95729,675.1716)\n",
    "\n",
    "# labelled_text = page.get_textbox(rect)\n",
    "# # labelled_text"
   ]
  },
  {
   "cell_type": "markdown",
   "id": "8f3831be",
   "metadata": {
    "papermill": {
     "duration": 0.06594,
     "end_time": "2022-04-30T16:33:15.610689",
     "exception": false,
     "start_time": "2022-04-30T16:33:15.544749",
     "status": "completed"
    },
    "tags": []
   },
   "source": [
    "pip install PyPDF2"
   ]
  },
  {
   "cell_type": "code",
   "execution_count": null,
   "id": "9ef2a663",
   "metadata": {
    "papermill": {
     "duration": 0.067243,
     "end_time": "2022-04-30T16:33:15.744415",
     "exception": false,
     "start_time": "2022-04-30T16:33:15.677172",
     "status": "completed"
    },
    "tags": []
   },
   "outputs": [],
   "source": []
  },
  {
   "cell_type": "code",
   "execution_count": 34,
   "id": "5db385af",
   "metadata": {
    "execution": {
     "iopub.execute_input": "2022-04-30T16:33:15.881248Z",
     "iopub.status.busy": "2022-04-30T16:33:15.880573Z",
     "iopub.status.idle": "2022-04-30T16:33:15.883577Z",
     "shell.execute_reply": "2022-04-30T16:33:15.884171Z",
     "shell.execute_reply.started": "2022-03-18T16:48:58.370268Z"
    },
    "papermill": {
     "duration": 0.07288,
     "end_time": "2022-04-30T16:33:15.884334",
     "exception": false,
     "start_time": "2022-04-30T16:33:15.811454",
     "status": "completed"
    },
    "tags": []
   },
   "outputs": [],
   "source": [
    "# import pandas as pd\n",
    "# h={'step': 0, 'type': 'string', 'amount': 0.0, 'nameOrig': 'C1231006815', 'oldbalanceOrig': 0.0, 'newbalanceOrig': 0.0, 'nameDest': 'M1979787155', 'oldbalanceDest': 0.0, 'newbalanceDest': 0.0}\n",
    "# df=pd.DataFrame([h])"
   ]
  },
  {
   "cell_type": "code",
   "execution_count": 35,
   "id": "43dd5704",
   "metadata": {
    "execution": {
     "iopub.execute_input": "2022-04-30T16:33:16.023217Z",
     "iopub.status.busy": "2022-04-30T16:33:16.022522Z",
     "iopub.status.idle": "2022-04-30T16:33:16.023829Z",
     "shell.execute_reply": "2022-04-30T16:33:16.024406Z",
     "shell.execute_reply.started": "2022-04-09T17:21:26.021615Z"
    },
    "papermill": {
     "duration": 0.073734,
     "end_time": "2022-04-30T16:33:16.024574",
     "exception": false,
     "start_time": "2022-04-30T16:33:15.950840",
     "status": "completed"
    },
    "tags": []
   },
   "outputs": [],
   "source": [
    "#df"
   ]
  },
  {
   "cell_type": "code",
   "execution_count": null,
   "id": "98d1b537",
   "metadata": {
    "papermill": {
     "duration": 0.067333,
     "end_time": "2022-04-30T16:33:16.158669",
     "exception": false,
     "start_time": "2022-04-30T16:33:16.091336",
     "status": "completed"
    },
    "tags": []
   },
   "outputs": [],
   "source": []
  }
 ],
 "metadata": {
  "kernelspec": {
   "display_name": "Python 3",
   "language": "python",
   "name": "python3"
  },
  "language_info": {
   "codemirror_mode": {
    "name": "ipython",
    "version": 3
   },
   "file_extension": ".py",
   "mimetype": "text/x-python",
   "name": "python",
   "nbconvert_exporter": "python",
   "pygments_lexer": "ipython3",
   "version": "3.7.12"
  },
  "papermill": {
   "default_parameters": {},
   "duration": 23.188556,
   "end_time": "2022-04-30T16:33:16.834999",
   "environment_variables": {},
   "exception": null,
   "input_path": "__notebook__.ipynb",
   "output_path": "__notebook__.ipynb",
   "parameters": {},
   "start_time": "2022-04-30T16:32:53.646443",
   "version": "2.3.3"
  }
 },
 "nbformat": 4,
 "nbformat_minor": 5
}
